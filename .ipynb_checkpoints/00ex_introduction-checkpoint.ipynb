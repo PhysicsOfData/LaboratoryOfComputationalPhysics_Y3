{
 "cells": [
  {
   "cell_type": "markdown",
   "metadata": {},
   "source": [
    "1. The MickeyMouse problem\n",
    "\n",
    "a) Write a program that prints the numbers from 1 to 100. But for multiples of three print Mickey instead of the number and for the multiples of five print Mouse. For numbers which are multiples of both three and five print MickeyMouse\n",
    "\n",
    "b) Put the result in a tuple and substitute Mickey with Donald and Mouse with Duck"
   ]
  },
  {
   "cell_type": "code",
   "execution_count": 124,
   "metadata": {},
   "outputs": [
    {
     "name": "stdout",
     "output_type": "stream",
     "text": [
      "1\n",
      "2\n",
      "Mickey\n",
      "4\n",
      "Mouse\n",
      "Mickey\n",
      "7\n",
      "8\n",
      "Mickey\n",
      "Mouse\n",
      "11\n",
      "Mickey\n",
      "13\n",
      "14\n",
      "Mickey\n",
      "Mouse\n",
      "MickeyMouse\n",
      "16\n",
      "17\n",
      "Mickey\n",
      "19\n",
      "Mouse\n",
      "Mickey\n",
      "22\n",
      "23\n",
      "Mickey\n",
      "Mouse\n",
      "26\n",
      "Mickey\n",
      "28\n",
      "29\n",
      "Mickey\n",
      "Mouse\n",
      "MickeyMouse\n",
      "31\n",
      "32\n",
      "Mickey\n",
      "34\n",
      "Mouse\n",
      "Mickey\n",
      "37\n",
      "38\n",
      "Mickey\n",
      "Mouse\n",
      "41\n",
      "Mickey\n",
      "43\n",
      "44\n",
      "Mickey\n",
      "Mouse\n",
      "MickeyMouse\n",
      "46\n",
      "47\n",
      "Mickey\n",
      "49\n",
      "Mouse\n",
      "Mickey\n",
      "52\n",
      "53\n",
      "Mickey\n",
      "Mouse\n",
      "56\n",
      "Mickey\n",
      "58\n",
      "59\n",
      "Mickey\n",
      "Mouse\n",
      "MickeyMouse\n",
      "61\n",
      "62\n",
      "Mickey\n",
      "64\n",
      "Mouse\n",
      "Mickey\n",
      "67\n",
      "68\n",
      "Mickey\n",
      "Mouse\n",
      "71\n",
      "Mickey\n",
      "73\n",
      "74\n",
      "Mickey\n",
      "Mouse\n",
      "MickeyMouse\n",
      "76\n",
      "77\n",
      "Mickey\n",
      "79\n",
      "Mouse\n",
      "Mickey\n",
      "82\n",
      "83\n",
      "Mickey\n",
      "Mouse\n",
      "86\n",
      "Mickey\n",
      "88\n",
      "89\n",
      "Mickey\n",
      "Mouse\n",
      "MickeyMouse\n",
      "91\n",
      "92\n",
      "Mickey\n",
      "94\n",
      "Mouse\n",
      "Mickey\n",
      "97\n",
      "98\n",
      "Mickey\n",
      "Mouse\n",
      "\n",
      "\n",
      "(1, 2, 'Donald', 4, 'Duck', 'Donald', 7, 8, 'Donald', 'Duck', 11, 'Donald', 13, 14, 'Donald', 'Duck', 'MickeyMouse', 16, 17, 'Donald', 19, 'Duck', 'Donald', 22, 23, 'Donald', 'Duck', 26, 'Donald', 28, 29, 'Donald', 'Duck', 'MickeyMouse', 31, 32, 'Donald', 34, 'Duck', 'Donald', 37, 38, 'Donald', 'Duck', 41, 'Donald', 43, 44, 'Donald', 'Duck', 'MickeyMouse', 46, 47, 'Donald', 49, 'Duck', 'Donald', 52, 53, 'Donald', 'Duck', 56, 'Donald', 58, 59, 'Donald', 'Duck', 'MickeyMouse', 61, 62, 'Donald', 64, 'Duck', 'Donald', 67, 68, 'Donald', 'Duck', 71, 'Donald', 73, 74, 'Donald', 'Duck', 'MickeyMouse', 76, 77, 'Donald', 79, 'Duck', 'Donald', 82, 83, 'Donald', 'Duck', 86, 'Donald', 88, 89, 'Donald', 'Duck', 'MickeyMouse', 91, 92, 'Donald', 94, 'Duck', 'Donald', 97, 98, 'Donald', 'Duck')\n"
     ]
    }
   ],
   "source": [
    "#code ex1\n",
    "\n",
    "\n",
    "x = range(1, 101) # range(start,stop,step) - ! stop = stop-1 100=99\n",
    "n_tup=() #tuple to append, it wants , because it's only one element\n",
    "\n",
    "for n in x:\n",
    "    if(n%3==0):\n",
    "        print(\"Mickey\")\n",
    "        n_tup = n_tup + (str(\"Donald\"),)\n",
    "    if(n%5==0):\n",
    "        print(\"Mouse\")\n",
    "        n_tup= n_tup + (str(\"Duck\"),)\n",
    "    if(n%3==0 and n%5==0):\n",
    "        print(\"MickeyMouse\")\n",
    "        n_tup= n_tup + (str(\"MickeyMouse\"),)\n",
    "    if(n%3!=0 and n%5!=0):\n",
    "        print(n)\n",
    "        n_tup= n_tup + (n,)\n",
    "        \n",
    "print(\"\\n\")\n",
    "print(n_tup)"
   ]
  },
  {
   "cell_type": "markdown",
   "metadata": {},
   "source": [
    "2\\. The swap function\n",
    "\n",
    "Write a function that swap the values of two input variables x and y (whatever the type). Try to do that also without a temporary variable"
   ]
  },
  {
   "cell_type": "code",
   "execution_count": 125,
   "metadata": {},
   "outputs": [
    {
     "name": "stdout",
     "output_type": "stream",
     "text": [
      "With a temporary variable: \n",
      "Initial variables:  5 7\n",
      "Variables after the swap:  (7, 5)\n",
      "\n",
      "\n",
      "Without a temporary variable: \n",
      "Initial variables:  3 4\n",
      "Variables after the swap:  (4, 3)\n"
     ]
    }
   ],
   "source": [
    "#code ex 2\n",
    "\n",
    "#First way with temporary variable\n",
    "x=5\n",
    "y=7\n",
    "\n",
    "def swap(x,y):\n",
    "    tempvar=x\n",
    "    x=y\n",
    "    y=tempvar\n",
    "    return x,y\n",
    "\n",
    "\n",
    "print(\"With a temporary variable: \")\n",
    "print(\"Initial variables: \", x,y)\n",
    "print(\"Variables after the swap: \", swap(x,y))\n",
    "print(\"\\n\")\n",
    "\n",
    "\n",
    "#Second way\n",
    "def swapfunction(x, y): #funtion to swap the variable\n",
    "    return y, x\n",
    "\n",
    "x = 3\n",
    "y = 4\n",
    "\n",
    "print(\"Without a temporary variable: \")\n",
    "print(\"Initial variables: \", x,y)\n",
    "print(\"Variables after the swap: \",swapfunction(x, y))\n"
   ]
  },
  {
   "cell_type": "markdown",
   "metadata": {},
   "source": [
    "3\\. Computing the distance\n",
    "\n",
    "Write a function that calculates and returns the euclidean distance between two points *u* and *v*, where *u* and *v* are both 2-tuples *(x,y)*. For example, if *u=(3,0)* and *v=(0,4)*, the function should return 5"
   ]
  },
  {
   "cell_type": "code",
   "execution_count": 126,
   "metadata": {},
   "outputs": [
    {
     "name": "stdout",
     "output_type": "stream",
     "text": [
      "The euclidean distance between point u = (3, 0) and point v = (0, 4) is equal to:  5.0\n"
     ]
    }
   ],
   "source": [
    "#code ex 3\n",
    "utup= (3,0)\n",
    "vtup= (0,4)\n",
    "\n",
    "import math\n",
    "\n",
    "def euclidean(utup, vtup):\n",
    "    return math.sqrt((utup[0]-vtup[0])**2 + (utup[1]-vtup[1])**2)\n",
    "\n",
    "print(\"The euclidean distance between point u =\",utup,\"and point v =\",vtup, \"is equal to: \", euclidean(utup,vtup))"
   ]
  },
  {
   "cell_type": "markdown",
   "metadata": {},
   "source": [
    "4\\. Counting letters\n",
    "\n",
    "Write a program to calculate the number of times each character occurs in a given string *s*. Ignore differneces in capitalization"
   ]
  },
  {
   "cell_type": "code",
   "execution_count": 127,
   "metadata": {},
   "outputs": [],
   "source": [
    "s=\"Write a program that prints the numbers from 1 to 100. \\\n",
    "But for multiples of three print Mickey instead of the number and for the multiples of five print Mouse. \\\n",
    "For numbers which are multiples of both three and five print MickeyMouse\""
   ]
  },
  {
   "cell_type": "code",
   "execution_count": 128,
   "metadata": {},
   "outputs": [
    {
     "name": "stdout",
     "output_type": "stream",
     "text": [
      "{'w': 2, 'r': 17, 'i': 14, 't': 19, 'e': 22, ' ': 41, 'a': 7, 'p': 8, 'o': 13, 'g': 1, 'm': 12, 'h': 9, 'n': 10, 's': 9, 'u': 9, 'b': 5, 'f': 10, '1': 2, '0': 2, '.': 2, 'l': 6, 'c': 3, 'k': 2, 'y': 2, 'd': 3, 'v': 2}\n"
     ]
    }
   ],
   "source": [
    "s=\"Write a program that prints the numbers from 1 to 100. \\\n",
    "But for multiples of three print Mickey instead of the number and for the multiples of five print Mouse. \\\n",
    "For numbers which are multiples of both three and five print MickeyMouse\"\n",
    "\n",
    "count = {} #define counter\n",
    "    \n",
    "for i in s.lower():  #s.lower -> ignore differences in capitalization \n",
    "    if i in count :\n",
    "        count[i] += 1\n",
    "    else:\n",
    "        count[i] = 1\n",
    "\n",
    "print(str(count)) \n"
   ]
  },
  {
   "cell_type": "markdown",
   "metadata": {},
   "source": [
    "5\\. Isolating the unique\n",
    "\n",
    "Write a function that determines and count the unique numbers in the list *l*"
   ]
  },
  {
   "cell_type": "code",
   "execution_count": 129,
   "metadata": {},
   "outputs": [],
   "source": [
    "l = [36, 45, 58, 3, 74, 96, 64, 45, 31, 10, 24, 19, 33, 86, 99, 18, 63, 70, 85,\n",
    " 85, 63, 47, 56, 42, 70, 84, 88, 55, 20, 54, 8, 56, 51, 79, 81, 57, 37, 91,\n",
    " 1, 84, 84, 36, 66, 9, 89, 50, 42, 91, 50, 95, 90, 98, 39, 16, 82, 31, 92, 41,\n",
    " 45, 30, 66, 70, 34, 85, 94, 5, 3, 36, 72, 91, 84, 34, 87, 75, 53, 51, 20, 89, 51, 20]"
   ]
  },
  {
   "cell_type": "code",
   "execution_count": 130,
   "metadata": {},
   "outputs": [
    {
     "name": "stdout",
     "output_type": "stream",
     "text": [
      "['np', 'np', 'np', 3, 'np', 'np', 'np', 'np', 31, 'np', 'np', 19, 'np', 'np', 'np', 'np', 'np', 'np', 'np', 'np', 'np', 47, 'np', 'np', 'np', 'np', 'np', 'np', 'np', 'np', 'np', 'np', 'np', 79, 'np', 'np', 37, 'np', 'np', 'np', 'np', 'np', 'np', 'np', 89, 'np', 'np', 'np', 'np', 'np', 'np', 'np', 'np', 'np', 'np', 31, 'np', 41, 'np', 'np', 'np', 'np', 'np', 'np', 'np', 5, 3, 'np', 'np', 'np', 'np', 'np', 'np', 'np', 53, 'np', 'np', 89, 'np', 'np']\n",
      "# prime numbers:13\n"
     ]
    }
   ],
   "source": [
    "#code ex5 \n",
    "\n",
    "l = [36, 45, 58, 3, 74, 96, 64, 45, 31, 10, 24, 19, 33, 86, 99, 18, 63, 70, 85,\n",
    " 85, 63, 47, 56, 42, 70, 84, 88, 55, 20, 54, 8, 56, 51, 79, 81, 57, 37, 91,\n",
    " 1, 84, 84, 36, 66, 9, 89, 50, 42, 91, 50, 95, 90, 98, 39, 16, 82, 31, 92, 41,\n",
    " 45, 30, 66, 70, 34, 85, 94, 5, 3, 36, 72, 91, 84, 34, 87, 75, 53, 51, 20, 89, 51, 20]\n",
    "\n",
    "def prime(n):\n",
    "    global count\n",
    "    if n<=1:\n",
    "        return \"np\" #np=not prime\n",
    "    if n<=3:\n",
    "        count +=1\n",
    "        return n\n",
    "    if n>=4:\n",
    "        for i in range(2, n+1//2):\n",
    "            if (n % i) ==0:\n",
    "                return \"np\" #np=not prime\n",
    "        else:\n",
    "            count += 1\n",
    "            return n\n",
    "\n",
    "count = 0\n",
    "newl = [prime(num) for num in l] #can apply the function to each element\n",
    "print(newl)\n",
    "print(\"# prime numbers:\" + str(count))"
   ]
  },
  {
   "cell_type": "markdown",
   "metadata": {},
   "source": [
    "6\\. Combination of functions\n",
    "\n",
    "Write two functions - one that returns the square of a number, and one that returns the cube. Now write a third function that returns the number raised to the 6th power using the two previous functions."
   ]
  },
  {
   "cell_type": "code",
   "execution_count": 131,
   "metadata": {},
   "outputs": [
    {
     "name": "stdout",
     "output_type": "stream",
     "text": [
      "Square of n= 2 is:  4\n",
      "Cube of n= 2 is:  8\n",
      "n= 2 to the 6th power is:  32\n"
     ]
    }
   ],
   "source": [
    "#code ex6\n",
    "\n",
    "def square(n):\n",
    "    return n*n\n",
    "def cube(n):\n",
    "    return n*n*n\n",
    "def sixth(n):\n",
    "    return square(n)*cube(n)\n",
    "\n",
    "\n",
    "n=2 # trial number\n",
    "print(\"Square of n=\",n,\"is: \",square(n))\n",
    "print(\"Cube of n=\",n, \"is: \", cube(n))\n",
    "print(\"n=\", n, \"to the 6th power is: \", sixth(n))"
   ]
  },
  {
   "cell_type": "markdown",
   "metadata": {},
   "source": [
    "7\\. Cubes\n",
    "\n",
    "Create a list of the cubes of x for x in *[0, 10]* using:\n",
    "\n",
    "a) a for loop\n",
    "\n",
    "b) a list comprehension"
   ]
  },
  {
   "cell_type": "code",
   "execution_count": 132,
   "metadata": {},
   "outputs": [
    {
     "name": "stdout",
     "output_type": "stream",
     "text": [
      "[0, 1, 8, 27, 64, 125, 216, 343, 512, 729, 1000]\n",
      "\n",
      "\n",
      "[0, 1, 8, 27, 64, 125, 216, 343, 512, 729, 1000]\n"
     ]
    }
   ],
   "source": [
    "#code ex7\n",
    "\n",
    "#mod a with a loop \n",
    "a_list=[]\n",
    "for n in range(0,11):\n",
    "    a_list.append(n**3)\n",
    "    \n",
    "print(a_list)\n",
    "print(\"\\n\")\n",
    "    \n",
    "#mod b with a list comprehension\n",
    "l = [n**3 for n in range(0,11)]\n",
    "print (l)"
   ]
  },
  {
   "cell_type": "markdown",
   "metadata": {},
   "source": [
    "8\\. Nested list comprehension\n",
    "\n",
    "A Pythagorean triple is an integer solution to the Pythagorean theorem $a^2+b^2=c^2$. The first Pythagorean triple is (3,4,5). Find and put in a tuple all unique Pythagorean triples for the positive integers a, b and c less than 100."
   ]
  },
  {
   "cell_type": "code",
   "execution_count": 133,
   "metadata": {},
   "outputs": [
    {
     "name": "stdout",
     "output_type": "stream",
     "text": [
      "(3, 4, 5)\n",
      "(15, 8, 17)\n",
      "(35, 12, 37)\n",
      "(63, 16, 65)\n",
      "(5, 12, 13)\n",
      "(21, 20, 29)\n",
      "(45, 28, 53)\n",
      "(77, 36, 85)\n",
      "(7, 24, 25)\n",
      "(55, 48, 73)\n",
      "(9, 40, 41)\n",
      "(33, 56, 65)\n",
      "(65, 72, 97)\n",
      "(11, 60, 61)\n",
      "(39, 80, 89)\n",
      "(13, 84, 85)\n"
     ]
    }
   ],
   "source": [
    "#code ex 8\n",
    "\n",
    "import math\n",
    "\n",
    "for n in range(1, 100):\n",
    "    if (n**2 + (n+1)**2 > 100):\n",
    "        break\n",
    "    for m in range(n+1, 100, 2):\n",
    "        if (n**2 + m**2 > 100):\n",
    "            break\n",
    "        if (math.gcd(n, m) > 1):\n",
    "            continue\n",
    "        tup = (m*m - n*n, 2*m*n, m*m + n*n)\n",
    "        print (tup)\n"
   ]
  },
  {
   "cell_type": "markdown",
   "metadata": {},
   "source": [
    "9\\. Normalization\n",
    "\n",
    "Write a function that takes a tuple of numbers and returns it with the entries normalized to one"
   ]
  },
  {
   "cell_type": "code",
   "execution_count": 134,
   "metadata": {},
   "outputs": [
    {
     "name": "stdout",
     "output_type": "stream",
     "text": [
      "Tuple of numbers:  [2, 4, 8, 10, 3, 6]\n",
      "Normalized tuple:  [0.0, 0.25, 0.75, 1.0, 0.125, 0.5]\n"
     ]
    }
   ],
   "source": [
    "#code ex 9\n",
    "import math\n",
    "\n",
    "list = [2,4,8,10,3,6]\n",
    "\n",
    "def normalize(a):\n",
    "    amin = min(a)\n",
    "    amax = max(a)\n",
    "    for i, val in enumerate(a): #adds counter to an iterable and the returns object is a enume\n",
    "        a[i] = (val-amin) / (amax-amin)\n",
    "    return a\n",
    "\n",
    "print(\"Tuple of numbers: \", list)\n",
    "print(\"Normalized tuple: \", normalize(list))"
   ]
  },
  {
   "cell_type": "code",
   "execution_count": null,
   "metadata": {},
   "outputs": [],
   "source": []
  }
 ],
 "metadata": {
  "kernelspec": {
   "display_name": "Python 3",
   "language": "python",
   "name": "python3"
  },
  "language_info": {
   "codemirror_mode": {
    "name": "ipython",
    "version": 3
   },
   "file_extension": ".py",
   "mimetype": "text/x-python",
   "name": "python",
   "nbconvert_exporter": "python",
   "pygments_lexer": "ipython3",
   "version": "3.8.3"
  }
 },
 "nbformat": 4,
 "nbformat_minor": 2
}
