{
 "cells": [
  {
   "cell_type": "markdown",
   "metadata": {},
   "source": [
    "1. The MickeyMouse problem\n",
    "\n",
    "a) Write a program that prints the numbers from 1 to 100. But for multiples of three print Mickey instead of the number and for the multiples of five print Mouse. For numbers which are multiples of both three and five print MickeyMouse\n",
    "\n",
    "b) Put the result in a tuple and substitute Mickey with Donald and Mouse with Duck"
   ]
  },
  {
   "cell_type": "code",
   "execution_count": 45,
   "metadata": {},
   "outputs": [
    {
     "name": "stdout",
     "output_type": "stream",
     "text": [
      "[1, 2, 'Mickey', 4, 'Mouse', 'Mickey', 7, 8, 'Mickey', 'Mouse', 11, 'Mickey', 13, 14, 'MickeyMouse', 16, 17, 'Mickey', 19, 'Mouse', 'Mickey', 22, 23, 'Mickey', 'Mouse', 26, 'Mickey', 28, 29, 'MickeyMouse', 31, 32, 'Mickey', 34, 'Mouse', 'Mickey', 37, 38, 'Mickey', 'Mouse', 41, 'Mickey', 43, 44, 'MickeyMouse', 46, 47, 'Mickey', 49, 'Mouse', 'Mickey', 52, 53, 'Mickey', 'Mouse', 56, 'Mickey', 58, 59, 'MickeyMouse', 61, 62, 'Mickey', 64, 'Mouse', 'Mickey', 67, 68, 'Mickey', 'Mouse', 71, 'Mickey', 73, 74, 'MickeyMouse', 76, 77, 'Mickey', 79, 'Mouse', 'Mickey', 82, 83, 'Mickey', 'Mouse', 86, 'Mickey', 88, 89, 'MickeyMouse', 91, 92, 'Mickey', 94, 'Mouse', 'Mickey', 97, 98, 'Mickey', 'Mouse']\n",
      "Questa è una tupla infatti:  <class 'tuple'>\n",
      "(1, 2, 'Donald', 4, 'Duck', 'Donald', 7, 8, 'Donald', 'Duck', 11, 'Donald', 13, 14, 'DonaldDuck', 16, 17, 'Donald', 19, 'Duck', 'Donald', 22, 23, 'Donald', 'Duck', 26, 'Donald', 28, 29, 'DonaldDuck', 31, 32, 'Donald', 34, 'Duck', 'Donald', 37, 38, 'Donald', 'Duck', 41, 'Donald', 43, 44, 'DonaldDuck', 46, 47, 'Donald', 49, 'Duck', 'Donald', 52, 53, 'Donald', 'Duck', 56, 'Donald', 58, 59, 'DonaldDuck', 61, 62, 'Donald', 64, 'Duck', 'Donald', 67, 68, 'Donald', 'Duck', 71, 'Donald', 73, 74, 'DonaldDuck', 76, 77, 'Donald', 79, 'Duck', 'Donald', 82, 83, 'Donald', 'Duck', 86, 'Donald', 88, 89, 'DonaldDuck', 91, 92, 'Donald', 94, 'Duck', 'Donald', 97, 98, 'Donald', 'Duck')\n"
     ]
    }
   ],
   "source": [
    "n=100\n",
    "a=[]\n",
    "for i in range (1,n+1):\n",
    "    if (i % 3 == 0):\n",
    "        if (i % 5 ==0): \n",
    "            a.insert(i-1,\"MickeyMouse\")\n",
    "        else:\n",
    "            a.insert(i-1,\"Mickey\")        \n",
    "    elif (i % 5 ==0):\n",
    "        if (i % 3 == 0):\n",
    "            a.insert(i-1,\"MickeyMouse\")\n",
    "        else:\n",
    "            a.insert(i-1,\"Mouse\")       \n",
    "    else:\n",
    "         a.insert(i-1,i)          \n",
    "print(a) #lista\n",
    "\n",
    "\n",
    "b=[]\n",
    "for i in range (1,n+1):\n",
    "    if (i % 3 == 0):\n",
    "        if (i % 5 ==0): \n",
    "            b.insert(i-1,\"DonaldDuck\")\n",
    "        else:\n",
    "            b.insert(i-1,\"Donald\")       \n",
    "    elif (i % 5 == 0):\n",
    "        if (i % 3 ==0): \n",
    "            b.insert(i-1,\"DonaldDuck\")\n",
    "        else:\n",
    "            b.insert(i-1,\"Duck\")        \n",
    "    else:\n",
    "        b.insert(i-1,a[i-1])\n",
    "        #fino a qui è lista\n",
    "b=tuple(b)#converto in tupla\n",
    "print(\"Questa è una tupla infatti: \",type (b))\n",
    "print (b)"
   ]
  },
  {
   "cell_type": "markdown",
   "metadata": {},
   "source": [
    "2\\. The swap function\n",
    "\n",
    "Write a function that swap the values of two input variables x and y (whatever the type). Try to do that also without a temporary variable"
   ]
  },
  {
   "cell_type": "code",
   "execution_count": 25,
   "metadata": {},
   "outputs": [
    {
     "name": "stdout",
     "output_type": "stream",
     "text": [
      "First variable\n",
      "1\n",
      "Second variable\n",
      "2\n",
      "( 1 , 2 )\n"
     ]
    },
    {
     "data": {
      "text/plain": [
       "('2', '1')"
      ]
     },
     "execution_count": 25,
     "metadata": {},
     "output_type": "execute_result"
    }
   ],
   "source": [
    "#a_0=input()\n",
    "#b_0=input()\n",
    "#print(\"inizio\",\"(\" ,a_0,\",\" ,b_0 ,\")\")\n",
    "#def scambio(a,b):\n",
    "#    a_1=b\n",
    "#    b_1=a\n",
    "#    return a_1,b_1\n",
    "#scambio(a_0,b_0)\n",
    "\n",
    "#without temporary variables\n",
    "print(\"First variable\")\n",
    "c_0=input()\n",
    "print(\"Second variable\")\n",
    "d_0=input()\n",
    "print(\"(\" ,c_0,\",\" ,d_0 ,\")\")\n",
    "def scambionuovo(a,b):\n",
    "\n",
    "    return d_0,c_0\n",
    "\n",
    "scambionuovo(c_0,d_0)"
   ]
  },
  {
   "cell_type": "markdown",
   "metadata": {},
   "source": [
    "3\\. Computing the distance\n",
    "\n",
    "Write a function that calculates and returns the euclidean distance between two points *u* and *v*, where *u* and *v* are both 2-tuples *(x,y)*. For example, if *u=(3,0)* and *v=(0,4)*, the function should return 5"
   ]
  },
  {
   "cell_type": "code",
   "execution_count": 37,
   "metadata": {
    "scrolled": true
   },
   "outputs": [
    {
     "name": "stdout",
     "output_type": "stream",
     "text": [
      "Scegli le coordinate del primo vettore\n",
      "3\n",
      "0\n",
      "Scegli le coordinate del secondo vettore\n",
      "0\n",
      "4\n",
      "La distanza euclidea tra i vettori è :  5.0\n"
     ]
    }
   ],
   "source": [
    "print(\"Scegli le coordinate del primo vettore\")\n",
    "\n",
    "x1=input()\n",
    "y1=input()\n",
    "x_1=float(x1) #converto in float l'input che è una stringa (sempre)\n",
    "y_1=float(y1)\n",
    "v= (x_1,y_1)\n",
    "print(\"Scegli le coordinate del secondo vettore\")\n",
    "x2=input()\n",
    "y2=input()\n",
    "x_2=float(x2)\n",
    "y_2=float(y2)\n",
    "u= (x_2,y_2)\n",
    "\n",
    "d=((x_1-x_2)**2 + (y_1-y_2)**2)**(1/2)\n",
    "print(\"La distanza euclidea tra i vettori è : \",d)"
   ]
  },
  {
   "cell_type": "markdown",
   "metadata": {},
   "source": [
    "# 4\\. Counting letters\n",
    "\n",
    "Write a program to calculate the number of times each character occurs in a given string *s*. Ignore differneces in capitalization"
   ]
  },
  {
   "cell_type": "code",
   "execution_count": 93,
   "metadata": {},
   "outputs": [
    {
     "name": "stdout",
     "output_type": "stream",
     "text": [
      "w compare 2 volte\n",
      "i compare 14 volte\n",
      "e compare 22 volte\n",
      "a compare 7 volte\n",
      "p compare 8 volte\n",
      "o compare 13 volte\n",
      "r compare 17 volte\n",
      "h compare 9 volte\n",
      "  compare 41 volte\n",
      "n compare 10 volte\n",
      "b compare 5 volte\n",
      "f compare 10 volte\n",
      "1 compare 2 volte\n",
      "0 compare 2 volte\n",
      "u compare 9 volte\n",
      "l compare 6 volte\n",
      "s compare 9 volte\n",
      "c compare 3 volte\n",
      "y compare 2 volte\n",
      "d compare 3 volte\n",
      "m compare 12 volte\n",
      "t compare 19 volte\n"
     ]
    }
   ],
   "source": [
    "s=\"Write a program that prints the numbers from 1 to 100. \\\n",
    "But for multiples of three print Mickey instead of the number and for the multiples of five print Mouse. \\\n",
    "For numbers which are multiples of both three and five print MickeyMouse\"\n",
    "i=0\n",
    "lst=s.lower()\n",
    "while i<= len(lst):\n",
    "    cont=0\n",
    "    for j in range(0,len(lst)):\n",
    "        if lst[i] == lst[j]:\n",
    "            cont+=1\n",
    "    print(lst[i], \"compare\", cont, \"volte\")\n",
    "    lst=lst.replace(lst[i],\"\")   \n",
    "    i+=1\n"
   ]
  },
  {
   "cell_type": "markdown",
   "metadata": {},
   "source": [
    "5\\. Isolating the unique\n",
    "\n",
    "Write a function that determines and count the unique numbers in the list *l*"
   ]
  },
  {
   "cell_type": "code",
   "execution_count": 41,
   "metadata": {},
   "outputs": [
    {
     "name": "stdout",
     "output_type": "stream",
     "text": [
      "36\n",
      "45\n",
      "58 E' unico\n",
      "3\n",
      "74 E' unico\n",
      "96 E' unico\n",
      "64 E' unico\n",
      "45\n",
      "31\n",
      "10 E' unico\n",
      "24 E' unico\n",
      "19 E' unico\n",
      "33 E' unico\n",
      "86 E' unico\n",
      "99 E' unico\n",
      "18 E' unico\n",
      "63\n",
      "70\n",
      "85\n",
      "85\n",
      "63\n",
      "47 E' unico\n",
      "56\n",
      "42\n",
      "70\n",
      "84\n",
      "88 E' unico\n",
      "55 E' unico\n",
      "20\n",
      "54 E' unico\n",
      "8 E' unico\n",
      "56\n",
      "51\n",
      "79 E' unico\n",
      "81 E' unico\n",
      "57 E' unico\n",
      "37 E' unico\n",
      "91\n",
      "1 E' unico\n",
      "84\n",
      "84\n",
      "36\n",
      "66\n",
      "9 E' unico\n",
      "89\n",
      "50\n",
      "42\n",
      "91\n",
      "50\n",
      "95 E' unico\n",
      "90 E' unico\n",
      "98 E' unico\n",
      "39 E' unico\n",
      "16 E' unico\n",
      "82 E' unico\n",
      "31\n",
      "92 E' unico\n",
      "41 E' unico\n",
      "45\n",
      "30 E' unico\n",
      "66\n",
      "70\n",
      "34\n",
      "85\n",
      "94 E' unico\n",
      "5 E' unico\n",
      "3\n",
      "36\n",
      "72 E' unico\n",
      "91\n",
      "84\n",
      "34\n",
      "87 E' unico\n",
      "75 E' unico\n",
      "53 E' unico\n",
      "51\n",
      "20\n",
      "89\n",
      "51\n",
      "Esistono in totale  37  numeri unici nella lista\n"
     ]
    }
   ],
   "source": [
    "l = [36, 45, 58, 3, 74, 96, 64, 45, 31, 10, 24, 19, 33, 86, 99, 18, 63, 70, 85,\n",
    " 85, 63, 47, 56, 42, 70, 84, 88, 55, 20, 54, 8, 56, 51, 79, 81, 57, 37, 91,\n",
    " 1, 84, 84, 36, 66, 9, 89, 50, 42, 91, 50, 95, 90, 98, 39, 16, 82, 31, 92, 41,\n",
    " 45, 30, 66, 70, 34, 85, 94, 5, 3, 36, 72, 91, 84, 34, 87, 75, 53, 51, 20, 89, 51, 20]\n",
    "cont1=0\n",
    "for i in range(0,len(l)-1):\n",
    "    cont=0\n",
    "    for j in range(0,len(l)-1):         \n",
    "        if  l[i] == l[j]:\n",
    "            cont +=1\n",
    "        \n",
    "    if cont ==1:\n",
    "        print(l[i], \"E' unico\")\n",
    "        cont1+=1\n",
    "    else:\n",
    "        print(l[i])\n",
    "print(\"Esistono in totale \",cont1, \" numeri unici nella lista\")\n"
   ]
  },
  {
   "cell_type": "markdown",
   "metadata": {},
   "source": [
    "6\\. Combination of functions\n",
    "\n",
    "Write two functions - one that returns the square of a number, and one that returns the cube. Now write a third function that returns the number raised to the 6th power using the two previous functions."
   ]
  },
  {
   "cell_type": "code",
   "execution_count": 15,
   "metadata": {},
   "outputs": [
    {
     "name": "stdout",
     "output_type": "stream",
     "text": [
      "3\n",
      "Il numero inserito è:  3\n",
      "Il quadrato è 9.0 mentre il cubo è 27.0\n",
      "la potenza sesta è: 729.0\n",
      "729\n"
     ]
    }
   ],
   "source": [
    "\n",
    "x_0=input()\n",
    "print(\"Il numero inserito è: \",x_0)\n",
    "x=float(x_0)\n",
    "def cubo(a):   \n",
    "    valore_cubo=a**3\n",
    "    return valore_cubo\n",
    "\n",
    "def quad (a):\n",
    "    valore_quad=a**2\n",
    "    return valore_quad\n",
    "print(\"Il quadrato è\",quad(x), \"mentre il cubo è\",cubo(x))\n",
    "\n",
    "def sesta (a):\n",
    "    valore_sesta=cubo(quad(a))\n",
    "    return valore_sesta\n",
    "print(\"la potenza sesta è:\", sesta(x))\n"
   ]
  },
  {
   "cell_type": "markdown",
   "metadata": {},
   "source": [
    "7\\. Cubes\n",
    "\n",
    "Create a list of the cubes of x for x in *[0, 10]* using:\n",
    "\n",
    "a) a for loop\n",
    "\n",
    "b) a list comprehension"
   ]
  },
  {
   "cell_type": "code",
   "execution_count": 2,
   "metadata": {},
   "outputs": [
    {
     "name": "stdout",
     "output_type": "stream",
     "text": [
      "[0, 1, 8, 27, 64, 125, 216, 343, 512, 729, 1000]\n",
      "[0, 1, 8, 27, 64, 125, 216, 343, 512, 729, 1000]\n"
     ]
    }
   ],
   "source": [
    "b=[i**3 for i in range(11)]\n",
    "print(b)\n",
    "\n",
    "a=[]\n",
    "for x in range (0,11):\n",
    "    a.append(x**3)\n",
    "print(a)"
   ]
  },
  {
   "cell_type": "markdown",
   "metadata": {},
   "source": [
    "8\\. Nested list comprehension\n",
    "\n",
    "A Pythagorean triple is an integer solution to the Pythagorean theorem $a^2+b^2=c^2$. The first Pythagorean triple is (3,4,5). Find and put in a tuple all unique Pythagorean triples for the positive integers a, b and c less than 100."
   ]
  },
  {
   "cell_type": "code",
   "execution_count": 54,
   "metadata": {},
   "outputs": [
    {
     "name": "stdout",
     "output_type": "stream",
     "text": [
      "<class 'tuple'>\n"
     ]
    },
    {
     "data": {
      "text/plain": [
       "([3, 4, 5],\n",
       " [8, 6, 10],\n",
       " [12, 5, 13],\n",
       " [12, 9, 15],\n",
       " [15, 8, 17],\n",
       " [16, 12, 20],\n",
       " [20, 15, 25],\n",
       " [21, 20, 29],\n",
       " [24, 7, 25],\n",
       " [24, 10, 26],\n",
       " [24, 18, 30],\n",
       " [28, 21, 35],\n",
       " [30, 16, 34],\n",
       " [32, 24, 40],\n",
       " [35, 12, 37],\n",
       " [36, 15, 39],\n",
       " [36, 27, 45],\n",
       " [40, 9, 41],\n",
       " [40, 30, 50],\n",
       " [42, 40, 58],\n",
       " [44, 33, 55],\n",
       " [45, 24, 51],\n",
       " [45, 28, 53],\n",
       " [48, 14, 50],\n",
       " [48, 20, 52],\n",
       " [48, 36, 60],\n",
       " [52, 39, 65],\n",
       " [55, 48, 73],\n",
       " [56, 33, 65],\n",
       " [56, 42, 70],\n",
       " [60, 11, 61],\n",
       " [60, 25, 65],\n",
       " [60, 32, 68],\n",
       " [60, 45, 75],\n",
       " [63, 16, 65],\n",
       " [63, 60, 87],\n",
       " [64, 48, 80],\n",
       " [68, 51, 85],\n",
       " [70, 24, 74],\n",
       " [72, 21, 75],\n",
       " [72, 30, 78],\n",
       " [72, 54, 90],\n",
       " [72, 65, 97],\n",
       " [75, 40, 85],\n",
       " [76, 57, 95],\n",
       " [77, 36, 85],\n",
       " [80, 18, 82],\n",
       " [80, 39, 89],\n",
       " [84, 13, 85],\n",
       " [84, 35, 91])"
      ]
     },
     "execution_count": 54,
     "metadata": {},
     "output_type": "execute_result"
    }
   ],
   "source": [
    "a=[[3,4,5]]\n",
    "for i in range (3,100):\n",
    "    for j in range (4,i):\n",
    "        for k in range (1,100):\n",
    "            if i**2 + j**2 ==k**2:\n",
    "                a.append([i,j,k])\n",
    "                \n",
    "             \n",
    "\n",
    "            \n",
    "\n",
    "a=tuple(a)\n",
    "print(type(a))\n",
    "a"
   ]
  },
  {
   "cell_type": "markdown",
   "metadata": {},
   "source": [
    "9\\. Normalization\n",
    "\n",
    "Write a function that takes a tuple of numbers and returns it with the entries normalized to one"
   ]
  },
  {
   "cell_type": "code",
   "execution_count": 22,
   "metadata": {},
   "outputs": [
    {
     "name": "stdout",
     "output_type": "stream",
     "text": [
      "La norma del vettore è:  2.449489742783178\n",
      "tipo lista: [0.8164965809277261, 0.4082482904638631, 0.4082482904638631]\n",
      "tipo <class 'tuple'> , esplicitamente: (0.8164965809277261, 0.4082482904638631, 0.4082482904638631)\n"
     ]
    }
   ],
   "source": [
    "a=(2,1,1)\n",
    "mod=0\n",
    "for i in range(len(a)):\n",
    "    mod+= a[i]**2\n",
    "print(\"La norma del vettore è: \",mod**0.5)\n",
    "lst=[]\n",
    "for i in range(len(a)):\n",
    "    lst.append(a[i]/mod**0.5)\n",
    "print(\"tipo lista:\",lst)\n",
    "lst=tuple(lst)\n",
    "print(\"tipo\", type(lst),\", esplicitamente:\",lst)"
   ]
  }
 ],
 "metadata": {
  "kernelspec": {
   "display_name": "Python 3",
   "language": "python",
   "name": "python3"
  },
  "language_info": {
   "codemirror_mode": {
    "name": "ipython",
    "version": 3
   },
   "file_extension": ".py",
   "mimetype": "text/x-python",
   "name": "python",
   "nbconvert_exporter": "python",
   "pygments_lexer": "ipython3",
   "version": "3.8.3"
  }
 },
 "nbformat": 4,
 "nbformat_minor": 2
}
