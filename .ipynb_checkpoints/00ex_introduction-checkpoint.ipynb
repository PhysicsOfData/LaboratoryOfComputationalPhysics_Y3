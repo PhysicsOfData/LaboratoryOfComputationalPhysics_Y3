{
 "cells": [
  {
   "cell_type": "markdown",
   "metadata": {},
   "source": [
    "1. The MickeyMouse problem\n",
    "\n",
    "a) Write a program that prints the numbers from 1 to 100. But for multiples of three print Mickey instead of the number and for the multiples of five print Mouse. For numbers which are multiples of both three and five print MickeyMouse\n",
    "\n",
    "b) Put the result in a tuple and substitute Mickey with Donald and Mouse with Duck"
   ]
  },
  {
   "cell_type": "code",
   "execution_count": 47,
   "metadata": {},
   "outputs": [
    {
     "name": "stdout",
     "output_type": "stream",
     "text": [
      "[1, 2, 'Mickey', 4, 'Mouse', 'Mickey', 7, 8, 'Mickey', 'Mouse', 11, 'Mickey', 13, 14, 'MickeyMouse', 16, 17, 'Mickey', 19, 'Mouse', 'Mickey', 22, 23, 'Mickey', 'Mouse', 26, 'Mickey', 28, 29, 'MickeyMouse', 31, 32, 'Mickey', 34, 'Mouse', 'Mickey', 37, 38, 'Mickey', 'Mouse', 41, 'Mickey', 43, 44, 'MickeyMouse', 46, 47, 'Mickey', 49, 'Mouse', 'Mickey', 52, 53, 'Mickey', 'Mouse', 56, 'Mickey', 58, 59, 'MickeyMouse', 61, 62, 'Mickey', 64, 'Mouse', 'Mickey', 67, 68, 'Mickey', 'Mouse', 71, 'Mickey', 73, 74, 'MickeyMouse', 76, 77, 'Mickey', 79, 'Mouse', 'Mickey', 82, 83, 'Mickey', 'Mouse', 86, 'Mickey', 88, 89, 'MickeyMouse', 91, 92, 'Mickey', 94, 'Mouse', 'Mickey', 97, 98, 'Mickey', 'Mouse']\n",
      "\n",
      " True\n",
      "\n",
      "\n",
      "(1, 2, 'Donald', 4, 'Duck', 'Donald', 7, 8, 'Donald', 'Duck', 11, 'Donald', 13, 14, 'DonaldDuck', 16, 17, 'Donald', 19, 'Duck', 'Donald', 22, 23, 'Donald', 'Duck', 26, 'Donald', 28, 29, 'DonaldDuck', 31, 32, 'Donald', 34, 'Duck', 'Donald', 37, 38, 'Donald', 'Duck', 41, 'Donald', 43, 44, 'DonaldDuck', 46, 47, 'Donald', 49, 'Duck', 'Donald', 52, 53, 'Donald', 'Duck', 56, 'Donald', 58, 59, 'DonaldDuck', 61, 62, 'Donald', 64, 'Duck', 'Donald', 67, 68, 'Donald', 'Duck', 71, 'Donald', 73, 74, 'DonaldDuck', 76, 77, 'Donald', 79, 'Duck', 'Donald', 82, 83, 'Donald', 'Duck', 86, 'Donald', 88, 89, 'DonaldDuck', 91, 92, 'Donald', 94, 'Duck', 'Donald', 97, 98, 'Donald', 'Duck')\n",
      "\n",
      " True\n"
     ]
    }
   ],
   "source": [
    "x=list()\n",
    "\n",
    "for i in range(1,101) :#range(100) va da 0 a 99 anziché da 1 a 100\n",
    "    if i%3 == 0 :\n",
    "        if i%5 == 0 : x.append(\"MickeyMouse\")\n",
    "        else : x.append(\"Mickey\")\n",
    "    elif i%5 == 0 : x.append(\"Mouse\")\n",
    "    else : x.append(i)\n",
    "        \n",
    "print(x)\n",
    "x2=[\"MickeyMouse\" if i%15 == 0 else \"Mickey\" if i%3 == 0 else \"Mouse\" if i%5 == 0 else i for i in range(1,101)]#siccome il primo if in questo modo non penso possa avere un altro if nested credo che bisogni necessariamente fare tre controlli\n",
    "#print(\"\\n\",x2)#vedi https://stackoverflow.com/questions/44636514/python-multiple-nested-ternary-expression\n",
    "print(\"\\n\",x2==x)\n",
    "\n",
    "y=x\n",
    "y=[\"Donald\" if i == \"Mickey\" else i for i in y]#else serve; devo avere una regola \"completa\" per generare ogni elemento della lista senza ricorrere ad un for esplicito (che è proprio lo scopo della list comprehension)\n",
    "y=[\"Duck\" if i == \"Mouse\" else i for i in y]\n",
    "y=[\"DonaldDuck\" if i == \"MickeyMouse\" else i for i in y]\n",
    "y=tuple(y)\n",
    "print(\"\\n\")\n",
    "print(y)\n",
    "\n",
    "y2=x\n",
    "y2=[\"Donald\" if i == \"Mickey\" else \"Duck\" if i == \"Mouse\" else \"DonaldDuck\" if i == \"MickeyMouse\" else i for i in y]\n",
    "y2=tuple(y2)\n",
    "print(\"\\n\",y2==y)"
   ]
  },
  {
   "cell_type": "code",
   "execution_count": 41,
   "metadata": {},
   "outputs": [
    {
     "name": "stdout",
     "output_type": "stream",
     "text": [
      "True\n",
      "True\n"
     ]
    }
   ],
   "source": [
    "z=list(range(1,101))\n",
    "#print(z)\n",
    "for i in range(1,101) :\n",
    "    if i%3 == 0 : z[i-1]=\"Mickey\"\n",
    "    if i%5 == 0 : z[i-1]=\"MickeyMouse\" if type(z[i-1]) == str else \"Mouse\"#o += o =, non li posso mescolare in quanto devo specificare solo un tipo di assegnazione e cosa assegno nei due casi\n",
    "    \n",
    "#print(z)\n",
    "print(z==x)\n",
    "\n",
    "a=z\n",
    "for j,i in enumerate(a) :\n",
    "    if i == \"Mickey\" : a[j]=\"Donald\"#per effettuare l'indexing di a serve comunque un \"contatore\" numerico\n",
    "    if i == \"Mouse\" : a[j]=\"Duck\"\n",
    "    if i == \"MickeyMouse\" : a[j]=\"DonaldDuck\"\n",
    "        \n",
    "a=tuple(a)\n",
    "#print(a)\n",
    "print(a==y)"
   ]
  },
  {
   "cell_type": "markdown",
   "metadata": {},
   "source": [
    "2\\. The swap function\n",
    "\n",
    "Write a function that swap the values of two input variables x and y (whatever the type). Try to do that also without a temporary variable"
   ]
  },
  {
   "cell_type": "code",
   "execution_count": 58,
   "metadata": {},
   "outputs": [
    {
     "name": "stdout",
     "output_type": "stream",
     "text": [
      "1 2\n",
      "2 1\n",
      "2 1\n"
     ]
    }
   ],
   "source": [
    "def swap(x,y) : return y,x\n",
    "\n",
    "def swap2(x,y) :\n",
    "    temp=x\n",
    "    x=y\n",
    "    y=temp\n",
    "    return x,y\n",
    "    \n",
    "a,b=1,2\n",
    "print(a,b)\n",
    "c,d=swap(a,b)\n",
    "print(c,d)\n",
    "e,f=swap2(a,b)\n",
    "print(e,f)"
   ]
  },
  {
   "cell_type": "markdown",
   "metadata": {},
   "source": [
    "3\\. Computing the distance\n",
    "\n",
    "Write a function that calculates and returns the euclidean distance between two points *u* and *v*, where *u* and *v* are both 2-tuples *(x,y)*. For example, if *u=(3,0)* and *v=(0,4)*, the function should return 5"
   ]
  },
  {
   "cell_type": "code",
   "execution_count": 63,
   "metadata": {},
   "outputs": [
    {
     "name": "stdout",
     "output_type": "stream",
     "text": [
      "5.0\n",
      "5.0\n",
      "At least one of the arguments is not a 2-tuple\n",
      "None\n",
      "5.0\n"
     ]
    }
   ],
   "source": [
    "import numpy as np\n",
    "\n",
    "def distance(u,v) :\n",
    "    if (type(u),type(v))==(tuple,tuple) and (len(u),len(v))==(2,2) :\n",
    "        return np.sqrt((u[0]-v[0])**2+(u[1]-v[1])**2)\n",
    "    else :\n",
    "        print(\"At least one of the arguments is not a 2-tuple\")\n",
    "        return None\n",
    "        \n",
    "def distance_no_checks(u,v) : return np.sqrt((u[0]-v[0])**2+(u[1]-v[1])**2)\n",
    "        \n",
    "x=(3,0)\n",
    "y=(0,4)\n",
    "d=distance(x,y)\n",
    "print(d)\n",
    "d=distance_no_checks(x,y)\n",
    "print(d)\n",
    "\n",
    "a=[3,0,1,1,1]\n",
    "b=[0,4,2,2,2]\n",
    "d=distance(a,b)\n",
    "print(d)\n",
    "d=distance_no_checks(a,b)\n",
    "print(d)"
   ]
  },
  {
   "cell_type": "markdown",
   "metadata": {},
   "source": [
    "4\\. Counting letters\n",
    "\n",
    "Write a program to calculate the number of times each character occurs in a given string *s*. Ignore differences in capitalization"
   ]
  },
  {
   "cell_type": "code",
   "execution_count": 68,
   "metadata": {},
   "outputs": [
    {
     "name": "stdout",
     "output_type": "stream",
     "text": [
      "{'write': 1, 'a': 1, 'program': 1, 'that': 1, 'prints': 1, 'the': 3, 'numbers': 2, 'from': 1, '1': 1, 'to': 1, '100.': 1, 'but': 1, 'for': 3, 'multiples': 3, 'of': 4, 'three': 2, 'print': 3, 'mickey': 1, 'instead': 1, 'number': 1, 'and': 2, 'five': 2, 'mouse.': 1, 'which': 1, 'are': 1, 'both': 1, 'mickeymouse': 1}\n",
      "\n",
      " [('of', 4), ('the', 3), ('print', 3), ('multiples', 3), ('for', 3), ('three', 2), ('numbers', 2), ('five', 2), ('and', 2), ('write', 1), ('which', 1), ('to', 1), ('that', 1), ('program', 1), ('prints', 1), ('number', 1), ('mouse.', 1), ('mickeymouse', 1), ('mickey', 1), ('instead', 1), ('from', 1), ('but', 1), ('both', 1), ('are', 1), ('a', 1), ('100.', 1), ('1', 1)]\n"
     ]
    }
   ],
   "source": [
    "s=\"Write a program that prints the numbers from 1 to 100. \\\n",
    "But for multiples of three print Mickey instead of the number and for the multiples of five print Mouse. \\\n",
    "For numbers which are multiples of both three and five print MickeyMouse\"\n",
    "\n",
    "s=s.lower().split()\n",
    "d=dict()\n",
    "\n",
    "for character in s :\n",
    "    d[character]=d.get(character,0)+1\n",
    "    \n",
    "print(d)\n",
    "\n",
    "x=sorted([(v,k) for k,v in d.items()],reverse=True)\n",
    "x=[(k,v) for v,k in x]\n",
    "print(\"\\n\",x)"
   ]
  },
  {
   "cell_type": "markdown",
   "metadata": {},
   "source": [
    "5\\. Isolating the unique\n",
    "\n",
    "Write a function that determines and count the unique numbers in the list *l*"
   ]
  },
  {
   "cell_type": "code",
   "execution_count": 72,
   "metadata": {},
   "outputs": [
    {
     "name": "stdout",
     "output_type": "stream",
     "text": [
      "there are 37 unique numbers\n",
      "unique numbers: [58, 74, 96, 64, 10, 24, 19, 33, 86, 99, 18, 47, 88, 55, 54, 8, 79, 81, 57, 37, 1, 9, 95, 90, 98, 39, 16, 82, 92, 41, 30, 94, 5, 72, 87, 75, 53]\n"
     ]
    },
    {
     "data": {
      "text/plain": [
       "54"
      ]
     },
     "execution_count": 72,
     "metadata": {},
     "output_type": "execute_result"
    }
   ],
   "source": [
    "l = [36, 45, 58, 3, 74, 96, 64, 45, 31, 10, 24, 19, 33, 86, 99, 18, 63, 70, 85,\n",
    " 85, 63, 47, 56, 42, 70, 84, 88, 55, 20, 54, 8, 56, 51, 79, 81, 57, 37, 91,\n",
    " 1, 84, 84, 36, 66, 9, 89, 50, 42, 91, 50, 95, 90, 98, 39, 16, 82, 31, 92, 41,\n",
    " 45, 30, 66, 70, 34, 85, 94, 5, 3, 36, 72, 91, 84, 34, 87, 75, 53, 51, 20, 89, 51, 20]\n",
    "\n",
    "d=dict()\n",
    "\n",
    "for n in l :\n",
    "    d[n]=d.get(n,0)+1\n",
    "    \n",
    "unique=[x for x,y in d.items() if y==1]\n",
    "print(\"there are %d unique numbers\"%len(unique))\n",
    "print(\"unique numbers:\",unique)"
   ]
  },
  {
   "cell_type": "markdown",
   "metadata": {},
   "source": [
    "6\\. Combination of functions\n",
    "\n",
    "Write two functions - one that returns the square of a number, and one that returns the cube. Now write a third function that returns the number raised to the 6th power using the two previous functions."
   ]
  },
  {
   "cell_type": "markdown",
   "metadata": {},
   "source": [
    "7\\. Cubes\n",
    "\n",
    "Create a list of the cubes of x for x in *[0, 10]* using:\n",
    "\n",
    "a) a for loop\n",
    "\n",
    "b) a list comprehension"
   ]
  },
  {
   "cell_type": "markdown",
   "metadata": {},
   "source": [
    "8\\. Nested list comprehension\n",
    "\n",
    "A Pythagorean triple is an integer solution to the Pythagorean theorem $a^2+b^2=c^2$. The first Pythagorean triple is (3,4,5). Find and put in a tuple all unique Pythagorean triples for the positive integers a, b and c less than 100."
   ]
  },
  {
   "cell_type": "markdown",
   "metadata": {},
   "source": [
    "9\\. Normalization\n",
    "\n",
    "Write a function that takes a tuple of numbers and returns it with the entries normalized to one"
   ]
  },
  {
   "cell_type": "code",
   "execution_count": null,
   "metadata": {},
   "outputs": [],
   "source": []
  }
 ],
 "metadata": {
  "kernelspec": {
   "display_name": "Python 3",
   "language": "python",
   "name": "python3"
  },
  "language_info": {
   "codemirror_mode": {
    "name": "ipython",
    "version": 3
   },
   "file_extension": ".py",
   "mimetype": "text/x-python",
   "name": "python",
   "nbconvert_exporter": "python",
   "pygments_lexer": "ipython3",
   "version": "3.8.3"
  }
 },
 "nbformat": 4,
 "nbformat_minor": 4
}
