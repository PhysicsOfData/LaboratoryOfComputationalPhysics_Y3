{
 "cells": [
  {
   "cell_type": "markdown",
   "metadata": {},
   "source": [
    "# Modules/packages/libraries\n",
    "\n",
    "Definitions:\n",
    "\n",
    "  * Modules:\n",
    "  A module is a file which contains python functions, global variables etc. It is nothing but .py file which has python executable code / statement.\n",
    "\n",
    "  * Packages:\n",
    "  A package is namespace which contains multiple package/modules. It is a directory which contains a special file `__init__.py`\n",
    "  \n",
    "  * Libraries:\n",
    "  A library is a collection of various packages. There is no difference between package and python library conceptually.\n",
    "  \n",
    "Modules/packages/libraries can be easily \"imported\" and made functional in your python code. A set of libriaries comes with every python installation. Others can be installed locally and then imported. Your own code sitting somewhere else in your local computer can be imported too.\n",
    "\n",
    "Further details (very important!) on packages and how to create them can be found online. We may find the need of creating our own during the course."
   ]
  },
  {
   "cell_type": "code",
   "execution_count": 1,
   "metadata": {},
   "outputs": [
    {
     "name": "stdout",
     "output_type": "stream",
     "text": [
      "3.141592653589793\n",
      "3.141592653589793\n",
      "3.141592653589793\n",
      "2.6457513110645907\n"
     ]
    }
   ],
   "source": [
    "###### all the \"stuff\" that is in the math library can be used\n",
    "import math\n",
    "print(math.pi)\n",
    "\n",
    "# you can give math a label for convenience\n",
    "import math as m\n",
    "print (m.pi)\n",
    "\n",
    "# alternatively you can import only a given \"thing\" from the library\n",
    "from math import pi    #you can add several libraries at once, just list them separated by a \", \"\n",
    "print (pi)\n",
    "\n",
    "# or just get everything (very dangerous!!!)\n",
    "from math import *\n",
    "print (sqrt(7))"
   ]
  },
  {
   "cell_type": "markdown",
   "metadata": {},
   "source": [
    "To know which modules are there for you to use just type:"
   ]
  },
  {
   "cell_type": "code",
   "execution_count": 2,
   "metadata": {},
   "outputs": [
    {
     "name": "stdout",
     "output_type": "stream",
     "text": [
      "\n",
      "Please wait a moment while I gather a list of all available modules...\n",
      "\n"
     ]
    },
    {
     "name": "stderr",
     "output_type": "stream",
     "text": [
      "/usr/lib/python3/dist-packages/IPython/kernel/__init__.py:12: ShimWarning: The `IPython.kernel` package has been deprecated since IPython 4.0.You should import from ipykernel or jupyter_client instead.\n",
      "  warn(\"The `IPython.kernel` package has been deprecated since IPython 4.0.\"\n",
      "/usr/lib/python3/dist-packages/UpdateManager/backend/__init__.py:11: PyGIWarning: Gtk was imported without specifying a version first. Use gi.require_version('Gtk', '3.0') before import to ensure that the right version gets loaded.\n",
      "  from gi.repository import GLib, Gtk, Snapd\n"
     ]
    },
    {
     "name": "stdout",
     "output_type": "stream",
     "text": [
      "INFO:root:Generating grammar tables from /usr/lib/python3.8/lib2to3/Grammar.txt\n",
      "INFO:root:Generating grammar tables from /usr/lib/python3.8/lib2to3/PatternGrammar.txt\n",
      "DEBUG:matplotlib:$HOME=/home/dario\n",
      "DEBUG:matplotlib:CONFIGDIR=/home/dario/.config/matplotlib\n",
      "DEBUG:matplotlib:matplotlib data path: /usr/share/matplotlib/mpl-data\n",
      "DEBUG:matplotlib:loaded rc file /etc/matplotlibrc\n",
      "DEBUG:matplotlib:matplotlib version 3.1.2\n",
      "DEBUG:matplotlib:interactive is False\n",
      "DEBUG:matplotlib:platform is linux\n",
      "DEBUG:matplotlib:loaded modules: ['sys', 'builtins', '_frozen_importlib', '_imp', '_warnings', '_frozen_importlib_external', '_io', 'marshal', 'posix', '_thread', '_weakref', 'time', 'zipimport', '_codecs', 'codecs', 'encodings.aliases', 'encodings', 'encodings.utf_8', '_signal', '__main__', 'encodings.latin_1', '_abc', 'abc', 'io', '_stat', 'stat', '_collections_abc', 'genericpath', 'posixpath', 'os.path', 'os', '_sitebuiltins', '_locale', '_bootlocale', 'types', 'importlib._bootstrap', 'importlib._bootstrap_external', 'warnings', 'importlib', 'importlib.machinery', 'importlib.abc', '_operator', 'operator', 'keyword', '_heapq', 'heapq', 'itertools', 'reprlib', '_collections', 'collections', '_functools', 'functools', 'contextlib', 'importlib.util', 'mpl_toolkits', 'apport_python_hook', 'sitecustomize', 'site', '_weakrefset', 'weakref', 'pkgutil', 'runpy', 'ipykernel._version', '__future__', 'enum', '_sre', 'sre_constants', 'sre_parse', 'sre_compile', 'copyreg', 're', '_json', 'json.scanner', 'json.decoder', 'json.encoder', 'json', 'errno', 'signal', 'threading', '_posixsubprocess', 'select', 'collections.abc', 'math', 'selectors', 'subprocess', 'IPython.core', 'IPython.core.getipython', 'IPython.core.release', 'atexit', 'copy', 'fnmatch', 'glob', 'token', 'tokenize', 'linecache', 'traceback', '_string', 'string', 'logging', 'zlib', '_compression', '_bz2', 'bz2', '_lzma', 'lzma', 'pwd', 'grp', 'shutil', '_opcode', 'opcode', 'dis', 'inspect', '_struct', 'struct', 'six', 'traitlets.utils', 'traitlets.utils.getargspec', 'ipython_genutils._version', 'ipython_genutils', 'locale', 'ipython_genutils.encoding', 'platform', 'ipython_genutils.py3compat', 'traitlets.utils.importstring', 'traitlets.utils.sentinel', 'traitlets.utils.bunch', 'traitlets.traitlets', 'traitlets._version', 'traitlets', 'decorator', 'gettext', 'argparse', '_ast', 'ast', '_bisect', 'bisect', '_sha512', '_random', 'random', 'ipython_genutils.path', 'traitlets.config.loader', 'textwrap', 'ipython_genutils.text', 'traitlets.config.configurable', 'ipython_genutils.importstring', 'traitlets.config.application', 'traitlets.config', 'pprint', 'sysconfig', 'urllib', 'urllib.parse', '_sysconfigdata__x86_64-linux-gnu', 'pydoc', 'bdb', 'IPython.utils', 'IPython.utils.ipstruct', 'IPython.utils.coloransi', 'pygments.util', 'pygments', 'IPython.utils.colorable', 'IPython.utils.PyColorize', 'IPython.utils.encoding', 'IPython.utils.py3compat', 'IPython.core.excolors', 'IPython.testing', 'IPython.testing.skipdoctest', 'cmd', 'codeop', 'code', 'pdb', 'IPython.core.debugger', 'IPython.core.display_trap', 'pexpect.exceptions', 'pexpect.utils', 'pexpect.expect', 'termios', 'tty', 'pty', 'fcntl', 'resource', 'ptyprocess.util', 'ptyprocess.ptyprocess', 'ptyprocess', 'pexpect.spawnbase', 'pexpect.pty_spawn', 'pexpect.run', 'pexpect', 'shlex', 'IPython.utils._process_common', 'IPython.utils._process_posix', 'IPython.utils.process', 'IPython.utils.decorators', 'IPython.utils.path', 'IPython.utils.data', 'IPython.utils.terminal', 'IPython.core.ultratb', 'IPython.utils._sysinfo', 'IPython.utils.sysinfo', 'IPython.core.crashhandler', 'tempfile', 'IPython.utils.importstring', 'IPython.paths', 'IPython.core.profiledir', 'IPython.core.application', 'IPython.terminal', '_hashlib', '_blake2', '_sha3', 'hashlib', 'IPython.core.compilerop', 'IPython.core.error', 'ntpath', 'pathlib', 'IPython.utils.text', 'IPython.core.magic_arguments', 'getopt', 'typing.io', 'typing.re', 'typing', 'binascii', 'mimetypes', 'IPython.core.display', 'IPython.core.page', 'getpass', 'IPython.lib.security', 'IPython.lib', '_datetime', 'datetime', 'IPython.lib.pretty', 'IPython.utils.openpy', 'IPython.utils.dir2', 'IPython.utils.wildcard', 'pygments.lexers._mapping', 'pygments.modeline', 'pygments.plugin', 'pygments.lexers', 'pygments.filter', 'pygments.token', 'pygments.filters', 'pygments.regexopt', 'pygments.lexer', 'pygments.unistring', 'pygments.lexers.python', 'pygments.formatters._mapping', 'pygments.formatters', 'pygments.styles', 'pygments.formatter', 'pygments.formatters.html', 'IPython.core.oinspect', 'IPython.core.inputtransformer2', 'IPython.core.magic', '_compat_pickle', '_pickle', 'pickle', 'pickleshare', 'IPython.core.autocall', 'IPython.core.macro', 'IPython.core.splitinput', 'IPython.core.prefilter', 'IPython.core.alias', 'IPython.core.builtin_trap', 'backcall.backcall', 'backcall', 'IPython.core.events', 'IPython.core.displayhook', 'IPython.core.displaypub', 'IPython.core.extensions', 'IPython.utils.sentinel', 'IPython.core.formatters', '_sqlite3', 'sqlite3.dbapi2', 'sqlite3', 'IPython.core.history', 'IPython.core.logger', 'IPython.core.payload', 'IPython.core.usage', 'html.entities', 'html', 'IPython.lib.display', 'IPython.display', 'IPython.utils.capture', 'IPython.utils.io', 'IPython.core.hooks', 'IPython.utils.strdispatch', 'IPython.utils.syspathcontext', 'IPython.utils.tempdir', 'IPython.utils.contexts', 'IPython.core.async_helpers', 'IPython.core.interactiveshell', 'concurrent', 'concurrent.futures._base', 'concurrent.futures', '_socket', 'socket', '_ssl', 'base64', 'ssl', 'asyncio.constants', 'asyncio.format_helpers', 'asyncio.base_futures', 'asyncio.log', 'asyncio.coroutines', '_contextvars', 'contextvars', 'asyncio.exceptions', 'asyncio.base_tasks', '_asyncio', 'asyncio.events', 'asyncio.futures', 'asyncio.protocols', 'asyncio.transports', 'asyncio.sslproto', 'asyncio.locks', 'asyncio.tasks', 'asyncio.staggered', 'asyncio.trsock', 'asyncio.base_events', 'asyncio.runners', 'asyncio.queues', 'asyncio.streams', 'asyncio.subprocess', 'asyncio.base_subprocess', 'asyncio.selector_events', 'asyncio.unix_events', 'asyncio', 'six.moves', '_queue', 'queue', 'six.moves.queue', 'wcwidth.table_wide', 'wcwidth.table_zero', 'wcwidth.wcwidth', 'wcwidth', 'prompt_toolkit.cache', 'prompt_toolkit.utils', 'prompt_toolkit.log', 'prompt_toolkit.eventloop.base', 'prompt_toolkit.eventloop.defaults', 'prompt_toolkit.eventloop.context', 'prompt_toolkit.eventloop.future', 'prompt_toolkit.eventloop.coroutine', 'prompt_toolkit.eventloop.async_generator', 'prompt_toolkit.eventloop.event', 'prompt_toolkit.eventloop', 'prompt_toolkit.application.current', 'prompt_toolkit.application.run_in_terminal', 'prompt_toolkit.enums', 'prompt_toolkit.filters.base', 'prompt_toolkit.filters.app', 'prompt_toolkit.filters.cli', 'prompt_toolkit.filters.utils', 'prompt_toolkit.filters', 'prompt_toolkit.auto_suggest', 'prompt_toolkit.selection', 'prompt_toolkit.clipboard.base', 'prompt_toolkit.clipboard.in_memory', 'prompt_toolkit.clipboard', 'prompt_toolkit.completion.base', 'prompt_toolkit.completion.filesystem', 'prompt_toolkit.document', 'prompt_toolkit.completion.word_completer', 'prompt_toolkit.completion.fuzzy_completer', 'prompt_toolkit.completion', 'prompt_toolkit.history', 'prompt_toolkit.keys', 'prompt_toolkit.key_binding.key_bindings', 'prompt_toolkit.key_binding', 'prompt_toolkit.key_binding.vi_state', 'prompt_toolkit.search', 'prompt_toolkit.validation', 'prompt_toolkit.buffer', 'prompt_toolkit.input.base', 'prompt_toolkit.input.defaults', 'prompt_toolkit.input', 'prompt_toolkit.input.typeahead', 'prompt_toolkit.key_binding.bindings', 'prompt_toolkit.key_binding.bindings.scroll', 'prompt_toolkit.key_binding.bindings.page_navigation', 'prompt_toolkit.key_binding.key_processor', 'prompt_toolkit.key_binding.bindings.completion', 'prompt_toolkit.key_binding.bindings.named_commands', 'prompt_toolkit.key_binding.bindings.basic', 'prompt_toolkit.key_binding.bindings.cpr', 'prompt_toolkit.key_binding.bindings.emacs', 'prompt_toolkit.layout.screen', 'prompt_toolkit.output.base', 'prompt_toolkit.output.color_depth', 'prompt_toolkit.output.defaults', 'prompt_toolkit.output', 'array', 'prompt_toolkit.styles.base', 'prompt_toolkit.styles.named_colors', 'prompt_toolkit.styles.style', 'prompt_toolkit.styles.defaults', 'prompt_toolkit.styles.pygments', 'colorsys', 'prompt_toolkit.styles.style_transformation', 'prompt_toolkit.styles', 'prompt_toolkit.output.vt100', 'prompt_toolkit.formatted_text.base', 'prompt_toolkit.formatted_text.ansi', 'xml', 'xml.dom.domreg', 'xml.dom', 'xml.dom.minicompat', 'xml.dom.NodeFilter', 'xml.dom.xmlbuilder', 'xml.dom.minidom', 'prompt_toolkit.formatted_text.html', 'prompt_toolkit.formatted_text.pygments', 'prompt_toolkit.formatted_text.utils', 'prompt_toolkit.formatted_text', 'prompt_toolkit.mouse_events', 'prompt_toolkit.lexers.base', 'prompt_toolkit.lexers.pygments', 'prompt_toolkit.lexers', 'prompt_toolkit.layout.utils', 'prompt_toolkit.layout.processors', 'prompt_toolkit.layout.controls', 'prompt_toolkit.layout.dimension', 'prompt_toolkit.layout.margins', 'prompt_toolkit.layout.containers', 'prompt_toolkit.layout.layout', 'prompt_toolkit.layout.menus', 'prompt_toolkit.layout', 'prompt_toolkit.layout.mouse_handlers', 'prompt_toolkit.renderer', 'prompt_toolkit.key_binding.bindings.mouse', 'prompt_toolkit.input.ansi_escape_sequences', 'prompt_toolkit.input.vt100_parser', 'prompt_toolkit.key_binding.digraphs', 'prompt_toolkit.key_binding.bindings.vi', 'prompt_toolkit.key_binding.defaults', 'prompt_toolkit.key_binding.emacs_state', 'prompt_toolkit.layout.dummy', 'prompt_toolkit.application.application', 'prompt_toolkit.application.dummy', 'prompt_toolkit.application', 'prompt_toolkit.key_binding.bindings.focus', 'prompt_toolkit.widgets.toolbars', 'prompt_toolkit.widgets.base', 'prompt_toolkit.widgets.dialogs', 'prompt_toolkit.widgets.menus', 'prompt_toolkit.widgets', 'prompt_toolkit.shortcuts.dialogs', 'prompt_toolkit.shortcuts.progress_bar.formatters', 'prompt_toolkit.shortcuts.progress_bar.base', 'prompt_toolkit.shortcuts.progress_bar', 'prompt_toolkit.key_binding.bindings.auto_suggest', 'prompt_toolkit.key_binding.bindings.open_in_editor', 'prompt_toolkit.shortcuts.prompt', 'prompt_toolkit.shortcuts.utils', 'prompt_toolkit.shortcuts', 'prompt_toolkit', 'prompt_toolkit.patch_stdout', 'pygments.style', 'unicodedata', 'IPython.core.latex_symbols', 'IPython.utils.generics', 'parso._compatibility', 'parso.utils', 'parso.tree', 'parso.python', 'parso.python.token', 'parso.python.tokenize', 'parso.pgen2.grammar_parser', 'parso.pgen2.generator', 'parso.pgen2', 'parso.parser', 'difflib', 'parso.python.prefix', 'parso.python.tree', 'parso.python.parser', 'parso.python.diff', 'gc', 'parso.cache', 'parso.normalizer', 'parso.python.errors', 'parso.python.pep8', 'parso.file_io', 'parso.grammar', 'parso', 'jedi.file_io', 'jedi._compatibility', 'jedi.parser_utils', 'colorama.ansi', '_ctypes', 'ctypes._endian', 'ctypes', 'colorama.win32', 'colorama.winterm', 'colorama.ansitowin32', 'colorama.initialise', 'colorama', 'jedi.debug', 'jedi.settings', 'jedi.cache', 'jedi.inference.cache', 'jedi.common.value', 'jedi.common', 'jedi.inference.helpers', 'jedi.inference.utils', 'jedi.inference.base_value', 'jedi.common.utils', 'jedi.inference.sys_path', 'jedi.inference.recursion', 'jedi.inference.flow_analysis', 'jedi.inference.lazy_value', 'jedi.inference.docstrings', 'jedi.inference.names', 'jedi.inference.filters', 'jedi.inference.compiled.getattr_static', 'jedi.inference.compiled.access', 'jedi.inference.signature', 'jedi.inference.context', 'jedi.inference.compiled.value', 'jedi.inference.compiled', 'jedi.inference.analysis', 'jedi.inference.gradual', 'jedi.inference.value.module', 'jedi.inference.value.dynamic_arrays', 'jedi.inference.value.iterable', 'jedi.inference.arguments', 'jedi.inference.parser_cache', 'jedi.inference.gradual.generics', 'jedi.inference.value.function', 'jedi.plugins', 'jedi.inference.value.klass', 'jedi.inference.value.instance', 'jedi.inference.value', 'jedi.inference.gradual.base', 'jedi.inference.gradual.type_var', 'jedi.inference.gradual.typing', 'jedi.inference.gradual.stub_value', 'jedi.inference.gradual.typeshed', 'jedi.inference.imports', 'jedi.inference.param', 'jedi.inference.gradual.annotation', 'jedi.inference.value.decorator', 'jedi.inference.syntax_tree', 'jedi.inference', 'jedi.inference.gradual.conversion', 'pydoc_data', 'pydoc_data.topics', 'jedi.api.keywords', 'jedi.api.classes', 'jedi.inference.compiled.mixed', 'jedi.api.interpreter', 'jedi.api.helpers', 'jedi.api.file_name', 'jedi.api.completion', 'filecmp', 'jedi.inference.compiled.subprocess.functions', 'jedi.api.exceptions', 'jedi.inference.compiled.subprocess', 'jedi.api.environment', 'jedi.api.project', 'jedi.inference.usages', 'jedi.inference.gradual.utils', 'jedi.api', 'jedi.plugins.stdlib', 'jedi.plugins.flask', 'jedi.plugins.registry', 'jedi', 'IPython.core.completer', 'IPython.terminal.ptutils', 'IPython.terminal.shortcuts', 'IPython.terminal.debugger', 'IPython.lib.clipboard', 'IPython.terminal.magics', 'IPython.terminal.pt_inputhooks', 'IPython.terminal.prompts', 'IPython.terminal.interactiveshell', 'IPython.core.magics.auto', 'IPython.core.magics.basic', 'email', 'http', 'email.errors', 'email.quoprimime', 'email.base64mime', 'quopri', 'email.encoders', 'email.charset', 'email.header', 'calendar', 'email._parseaddr', 'email.utils', 'email._policybase', 'email.feedparser', 'email.parser', 'uu', 'email._encoded_words', 'email.iterators', 'email.message', 'http.client', 'urllib.response', 'urllib.error', 'urllib.request', 'IPython.core.magics.code', 'IPython.core.magics.config', 'IPython.core.magics.display', 'timeit', '_lsprof', 'profile', 'cProfile', 'pstats', 'IPython.utils.module_paths', 'IPython.utils.timing', 'IPython.core.magics.execution', 'IPython.core.magics.extension', 'IPython.core.magics.history', 'IPython.core.magics.logging', 'IPython.core.magics.namespace', 'IPython.core.magics.osm', 'IPython.core.magics.packaging', 'IPython.core.pylabtools', 'IPython.core.magics.pylab', 'IPython.lib.backgroundjobs', 'IPython.core.magics.script', 'IPython.core.magics', 'IPython.core.shellapp', 'IPython.extensions', 'IPython.extensions.storemagic', 'IPython.terminal.ipapp', 'IPython.terminal.embed', 'IPython.utils.frame', 'IPython', 'jupyter_client._version', 'zmq.backend.select', 'cython_runtime', 'zmq.backend.cython.constants', '_cython_0_29_14', 'zmq.backend.cython.error', 'zmq.error', 'zmq.backend.cython.message', 'zmq.backend.cython.context', 'zmq.backend.cython.socket', 'zmq.backend.cython.utils', 'zmq.backend.cython._poll', 'zmq.backend.cython._version', 'zmq.backend.cython._device', 'zmq.backend.cython._proxy_steerable', 'zmq.backend.cython', 'zmq.backend', 'zmq.utils', 'zmq.utils.constant_names', 'zmq.sugar.constants', 'zmq.sugar.attrsettr', 'zmq.sugar.poll', 'zmq.utils.strtypes', 'numbers', '_decimal', 'decimal', 'simplejson.errors', 'simplejson.raw_json', 'simplejson.compat', 'simplejson._speedups', 'simplejson.scanner', 'simplejson.decoder', 'simplejson.encoder', 'simplejson', 'zmq.utils.jsonapi', 'zmq.sugar.socket', 'zmq.sugar.context', 'zmq.sugar.frame', 'zmq.sugar.tracker', 'zmq.sugar.version', 'zmq.sugar.stopwatch', 'zmq.sugar', 'zmq', 'jupyter_client.localinterfaces', 'jupyter_core.version', 'jupyter_core', 'distutils', 'distutils.errors', 'distutils.dep_util', 'distutils.debug', 'distutils.log', 'distutils.spawn', 'distutils.util', 'jupyter_core.paths', 'jupyter_client.connect', 'traitlets.log', 'jupyter_client.launcher', 'jupyter_client.channelsabc', 'jupyter_client.channels', 'jupyter_client.clientabc', 'jupyter_client.client', 'jupyter_client.kernelspec', 'jupyter_client.managerabc', 'jupyter_client.manager', 'jupyter_client.blocking.channels', 'jupyter_client.blocking.client', 'jupyter_client.blocking', 'zmq._future', 'zmq.asyncio', 'jupyter_client.asynchronous.channels', 'jupyter_client.asynchronous.client', 'jupyter_client.asynchronous', '_uuid', 'uuid', 'jupyter_client.multikernelmanager', 'jupyter_client', 'ipykernel.connect', 'ipykernel', 'tornado', 'logging.handlers', 'tornado.speedups', 'tornado.util', 'tornado.escape', '_curses', 'curses', 'tornado.log', 'tornado.stack_context', 'tornado.concurrent', 'tornado.platform', 'tornado.platform.interface', 'tornado.platform.common', 'tornado.platform.posix', 'monotonic', 'tornado.platform.auto', 'concurrent.futures.thread', 'tornado.ioloop', 'tornado.gen', 'tornado.platform.asyncio', 'zmq.eventloop.ioloop', 'zmq.eventloop', 'zmq.eventloop.zmqstream', 'imp', 'hmac', 'dateutil._version', 'dateutil', 'dateutil._common', 'dateutil.relativedelta', 'dateutil.tz._common', 'dateutil.tz._factories', 'dateutil.tz.tz', 'dateutil.tz', 'dateutil.parser._parser', 'dateutil.parser.isoparser', 'dateutil.parser', '_strptime', 'jupyter_client.jsonutil', 'jupyter_client.adapter', 'jupyter_client.session', 'ipykernel.iostream', 'ipykernel.heartbeat', 'IPython.utils.tokenutil', 'tornado.locks', 'tornado.queues', 'ipykernel.jsonutil', 'ipykernel.kernelbase', 'ipykernel.comm.comm', 'ipykernel.comm.manager', 'ipykernel.comm', 'IPython.core.payloadpage', 'ipykernel.displayhook', 'ipykernel.zmqshell', 'distutils.version', 'ipykernel.eventloops', 'ipykernel.ipkernel', 'ipykernel.parentpoller', 'ipykernel.kernelapp', 'netifaces', 'faulthandler', 'ipykernel.codeutil', 'ipykernel.pickleutil', 'ipykernel.serialize', 'ipykernel.datapub', 'IPython.core.completerlib', 'storemagic', '_dbm', 'dbm.ndbm', 'dbm', 'distutils.command', 'email.mime', 'lib2to3', 'lib2to3.fixes', 'lib2to3.pgen2', 'multiprocessing.process', 'multiprocessing.reduction', 'multiprocessing.context', '__mp_main__', 'multiprocessing', 'multiprocessing.dummy.connection', 'multiprocessing.dummy', 'test', 'nntplib', 'unittest.util', 'unittest.result', 'unittest.case', 'unittest.async_case', 'unittest.suite', 'unittest.loader', 'unittest.signals', 'unittest.runner', 'unittest.main', 'unittest', 'xml.etree', 'xml.etree.ElementPath', 'pyexpat.errors', 'pyexpat.model', 'pyexpat', '_elementtree', 'xml.etree.ElementTree', 'test.support.testresult', 'gzip', 'test.support', 'test.libregrtest.cmdline', 'test.libregrtest.refleak', 'test.libregrtest.utils', '_multiprocessing', 'test.libregrtest.save_env', 'test.libregrtest.runtest', 'test.libregrtest.setup', 'test.libregrtest.pgo', 'test.libregrtest.main', 'test.libregrtest', '_tkinter', 'tkinter.constants', 'tkinter', 'venv', 'wsgiref', 'xml.parsers', 'xml.sax.handler', 'xml.sax._exceptions', 'xml.sax.xmlreader', 'xml.sax', 'xmlrpc', 'joblib.hashing', 'multiprocessing.util', 'joblib.disk', 'joblib.logger', 'joblib.func_inspect', 'numpy._globals', 'numpy.__config__', 'numpy.version', 'numpy._distributor_init', 'numpy.core.info', 'numpy.core._multiarray_umath', 'numpy.compat._inspect', 'numpy.compat.py3k', 'numpy.compat', 'numpy.core.overrides', 'numpy.core.multiarray', 'numpy.core.umath', 'numpy.core._string_helpers', 'numpy.core._dtype', 'numpy.core._type_aliases', 'numpy.core.numerictypes', 'numpy.core._exceptions', 'numpy.core._asarray', 'numpy.core._ufunc_config', 'numpy.core._methods', 'numpy.core.fromnumeric', 'numpy.core.arrayprint', 'numpy.core.numeric', 'numpy.core.defchararray', 'numpy.core.records', 'numpy.core.memmap', 'numpy.core.function_base', 'numpy.core.machar', 'numpy.core.getlimits', 'numpy.core.shape_base', 'numpy.core.einsumfunc', 'numpy.core._multiarray_tests', 'numpy.core._add_newdocs', 'numpy.core._dtype_ctypes', 'numpy.core._internal', 'numpy._pytesttester', 'numpy.core', 'numpy.lib.info', 'numpy.lib.ufunclike', 'numpy.lib.type_check', 'numpy.linalg.info', 'numpy.lib.twodim_base', 'numpy.linalg.lapack_lite', 'numpy.linalg._umath_linalg', 'numpy.linalg.linalg', 'numpy.linalg', 'numpy.matrixlib.defmatrix', 'numpy.matrixlib', 'numpy.lib.histograms', 'numpy.lib.function_base', 'numpy.lib.stride_tricks', 'numpy.lib.index_tricks', 'numpy.lib.mixins', 'numpy.lib.nanfunctions', 'numpy.lib.shape_base', 'numpy.lib.scimath', 'numpy.lib.polynomial', 'numpy.lib.utils', 'numpy.lib.arraysetops', 'numpy.lib.format', 'numpy.lib._datasource', 'numpy.lib._iotools', 'numpy.lib.npyio', 'numpy.lib.financial', 'numpy.lib.arrayterator', 'numpy.lib.arraypad', 'numpy.lib._version', 'numpy.lib', 'numpy.fft._pocketfft_internal', 'numpy.fft._pocketfft', 'numpy.fft.helper', 'numpy.fft', 'numpy.polynomial.polyutils', 'numpy.polynomial._polybase', 'numpy.polynomial.polynomial', 'numpy.polynomial.chebyshev', 'numpy.polynomial.legendre', 'numpy.polynomial.hermite', 'numpy.polynomial.hermite_e', 'numpy.polynomial.laguerre', 'numpy.polynomial', 'numpy.random.common', 'numpy.random.bounded_integers', 'secrets', 'numpy.random.bit_generator', 'numpy.random.mt19937', 'numpy.random.mtrand', 'numpy.random.philox', 'numpy.random.pcg64', 'numpy.random.sfc64', 'numpy.random.generator', 'numpy.random._pickle', 'numpy.random', 'numpy.ctypeslib', 'numpy.ma.core', 'numpy.ma.extras', 'numpy.ma', 'numpy.testing._private', 'numpy.testing._private.utils', 'numpy.testing._private.decorators', 'numpy.testing._private.nosetester', 'numpy.testing', 'numpy', 'joblib.backports', 'joblib.compressor', 'joblib.numpy_pickle_utils', 'joblib.numpy_pickle_compat', 'joblib.numpy_pickle', 'joblib._store_backends', 'joblib.memory', 'joblib._multiprocessing_helpers', 'joblib._deprecated_my_exceptions', 'joblib.my_exceptions', 'mmap', 'joblib.externals', 'joblib.externals.loky._base', 'multiprocessing.connection', 'joblib.externals.loky.backend.compat_posix', 'joblib.externals.loky.backend.compat', 'joblib.externals.loky.backend.process', 'joblib.externals.loky.backend.context', 'multiprocessing.synchronize', 'joblib.externals.loky.backend', 'joblib.externals.loky.backend._posix_reduction', 'joblib.externals.cloudpickle.compat', 'joblib.externals.cloudpickle.cloudpickle', 'joblib.externals.cloudpickle.cloudpickle_fast', 'joblib.externals.cloudpickle', 'joblib.externals.loky.backend.reduction', 'multiprocessing.queues', 'joblib.externals.loky.backend.queues', 'joblib.externals.loky.backend.utils', 'concurrent.futures.process', 'joblib.externals.loky.process_executor', 'joblib.externals.loky.reusable_executor', 'joblib.externals.loky.cloudpickle_wrapper', 'joblib.externals.loky', 'joblib.externals.loky.backend.spawn', 'joblib.externals.loky.backend.resource_tracker', 'joblib._memmapping_reducer', 'multiprocessing.pool', 'joblib.pool', 'joblib.executor', 'joblib._parallel_backends', 'joblib.parallel', 'joblib', '_pytest._version', '_pytest', 'atomicwrites', 'py.error', 'py._error', 'py._vendored_packages', 'py._vendored_packages.apipkg', 'py._version', 'py.test', 'py.process', 'py.apipkg', 'py.iniconfig', 'py.path', 'py.code', 'py.builtin', 'py.io', 'py.xml', 'py.log', 'py', '_pytest._io', '_pytest._io.saferepr', 'attr._config', 'attr._compat', 'attr.exceptions', 'attr._make', 'attr.converters', 'attr.filters', 'attr.validators', 'attr._funcs', 'attr._version_info', 'attr', 'pluggy._version', 'pluggy._tracing', 'pluggy.callers', 'pluggy.hooks', '_csv', 'csv', 'zipfile', 'configparser', 'importlib.metadata', 'pluggy.manager', 'pluggy', 'packaging.__about__', 'packaging', 'packaging._structures', 'packaging._typing', 'packaging.version', '_pytest.outcomes', '_pytest.compat', 'py._path', 'py._path.common', 'py._path.local', '_pytest._code.code', '_pytest._code.source', '_pytest._code', '_pytest.assertion.util', '_pytest.warning_types', '_pytest.pathlib', '_pytest.assertion.rewrite', '_pytest.assertion.truncate', '_pytest.assertion', '_pytest.deprecated', '_pytest.hookspec', '_pytest.config.exceptions', '_pytest.config.findpaths', '_pytest.config', 'doctest', '_pytest.debugging', '_pytest.mark.legacy', '_pytest.mark.structures', '_pytest.mark', '_pytest.nodes', '_pytest.fixtures', '_pytest.freeze_support', '_pytest.reports', '_pytest.runner', '_pytest.main', '_pytest.python', 'more_itertools.recipes', 'more_itertools.more', 'more_itertools', '_pytest.python_api', '_pytest.recwarn', 'pytest', 'joblib.testing', 'joblib.test.common', 'joblib.test.test_memory', 'joblib.test.test_hashing', 'joblib.test', 'joblib.test.data', 'sklearn._config', 'sklearn._distributor_init', 'sklearn.__check_build._check_build', 'sklearn.__check_build', 'scipy._distributor_init', 'scipy.__config__', 'scipy.version', 'scipy._lib._testutils', 'scipy._lib', 'scipy._lib.six', 'scipy._lib._version', 'scipy._lib._ccallback_c', 'scipy._lib._ccallback', 'scipy', 'scipy._lib._numpy_compat', 'scipy.sparse.sputils', 'scipy.sparse.base', 'scipy.sparse._sparsetools', 'scipy._lib._util', 'scipy.sparse.data', 'scipy.sparse.dia', 'scipy.sparse._index', 'scipy.sparse.compressed', 'scipy.sparse.csr', 'scipy.sparse.csc', 'scipy.sparse._csparsetools', 'scipy.sparse.lil', 'scipy.sparse.dok', 'scipy.sparse.coo', 'scipy.sparse.bsr', 'scipy.sparse.construct', 'scipy.sparse.extract', 'scipy.sparse._matrix_io', 'scipy.sparse.csgraph._laplacian', 'scipy.sparse.csgraph._tools', 'scipy.sparse.csgraph._validation', 'scipy.sparse.csgraph._shortest_path', 'scipy.sparse.csgraph._traversal', 'scipy.sparse.csgraph._min_spanning_tree', 'scipy.sparse.csgraph._reordering', 'scipy.sparse.csgraph', 'scipy.sparse', 'sklearn.utils.murmurhash', 'scipy.special.sf_error', 'scipy.special._ufuncs_cxx', 'scipy.special._ufuncs', 'scipy.special.specfun', 'scipy.linalg.linalg_version', 'scipy.linalg._fblas', 'scipy.linalg.blas', 'scipy.linalg._flapack', 'scipy.linalg.lapack', 'scipy.linalg.misc', 'scipy.linalg._flinalg', 'scipy.linalg.flinalg', 'scipy.linalg.decomp', 'scipy.linalg.decomp_svd', 'scipy.linalg._solve_toeplitz', 'scipy.linalg.basic', 'scipy.linalg.decomp_lu', 'scipy.linalg._decomp_ldl', 'scipy.linalg.decomp_cholesky', 'scipy.linalg.decomp_qr', 'scipy.linalg._decomp_qz', 'scipy.linalg.decomp_schur', 'scipy.linalg._decomp_polar', 'scipy.linalg.special_matrices', 'scipy.linalg._expm_frechet', 'scipy.linalg._matfuncs_sqrtm', 'scipy.linalg.matfuncs', 'scipy.linalg._solvers', 'scipy.linalg._procrustes', 'scipy.linalg.cython_blas', 'scipy.linalg.cython_lapack', 'scipy.linalg._decomp_update', 'scipy.linalg._sketches', 'numpy.dual', 'scipy.linalg', 'scipy.special.orthogonal', 'scipy.special._comb', 'scipy.special.basic', 'scipy.special._logsumexp', 'scipy.special.spfun_stats', 'scipy.special._ellip_harm_2', 'scipy.special._ellip_harm', 'scipy.special.lambertw', 'scipy.special._spherical_bessel', 'scipy.special', 'scipy._lib.doccer', 'scipy.stats._distr_params', 'scipy.optimize.minpack2', 'scipy.optimize.linesearch', 'scipy.optimize.optimize', 'scipy.optimize._trustregion', 'scipy.optimize._trustregion_dogleg', 'scipy.optimize._trustregion_ncg', 'scipy._lib.messagestream', 'scipy.optimize._trlib._trlib', 'scipy.optimize._trlib', 'scipy.optimize._trustregion_krylov', 'scipy.optimize._trustregion_exact', 'scipy.sparse.linalg.isolve._iterative', 'scipy.sparse.linalg.interface', 'scipy.sparse.linalg.isolve.utils', 'scipy._lib.decorator', 'scipy._lib._threadsafety', 'scipy.sparse.linalg.isolve.iterative', 'scipy.sparse.linalg.isolve.minres', 'scipy.sparse.linalg.isolve._gcrotmk', 'scipy.sparse.linalg.isolve.lgmres', 'scipy.sparse.linalg.isolve.lsqr', 'scipy.sparse.linalg.isolve.lsmr', 'scipy.sparse.linalg.isolve', 'scipy.sparse.linalg.dsolve._superlu', 'scipy.sparse.linalg.dsolve.linsolve', 'scipy.sparse.linalg.dsolve._add_newdocs', 'scipy.sparse.linalg.dsolve', 'scipy.sparse.linalg.eigen.arpack._arpack', 'scipy.sparse.linalg.eigen.arpack.arpack', 'scipy.sparse.linalg.eigen.arpack', 'scipy.sparse.linalg.eigen.lobpcg.lobpcg', 'scipy.sparse.linalg.eigen.lobpcg', 'scipy.sparse.linalg.eigen', 'scipy.sparse.linalg.matfuncs', 'scipy.sparse.linalg._onenormest', 'scipy.sparse.linalg._norm', 'scipy.sparse.linalg._expm_multiply', 'scipy.sparse.linalg', 'scipy.optimize._group_columns', 'scipy.optimize._numdiff', 'scipy.optimize._hessian_update_strategy', 'scipy.optimize._differentiable_functions', 'scipy.optimize._constraints', 'scipy.optimize._trustregion_constr.projections', 'scipy.optimize._trustregion_constr.qp_subproblem', 'scipy.optimize._trustregion_constr.equality_constrained_sqp', 'scipy.optimize._trustregion_constr.canonical_constraint', 'scipy.optimize._trustregion_constr.tr_interior_point', 'scipy.optimize._trustregion_constr.report', 'scipy.optimize._trustregion_constr.minimize_trustregion_constr', 'scipy.optimize._trustregion_constr', 'scipy.optimize._lbfgsb', 'scipy.optimize.lbfgsb', 'scipy.optimize.moduleTNC', 'scipy.optimize.tnc', 'scipy.optimize._cobyla', 'scipy.optimize.cobyla', 'scipy.optimize._slsqp', 'scipy.optimize.slsqp', 'scipy.optimize._minimize', 'scipy.optimize._minpack', 'scipy.optimize._lsq.common', 'scipy.optimize._lsq.trf', 'scipy.optimize._lsq.dogbox', 'scipy.optimize._lsq.least_squares', 'scipy.optimize._lsq.givens_elimination', 'scipy.optimize._lsq.trf_linear', 'scipy.optimize._lsq.bvls', 'scipy.optimize._lsq.lsq_linear', 'scipy.optimize._lsq', 'scipy.optimize.minpack', 'scipy.optimize._spectral', 'scipy.optimize.nonlin', 'scipy.optimize._root', 'scipy.optimize._zeros', 'scipy.optimize.zeros', 'scipy.optimize._root_scalar', 'scipy.optimize._nnls', 'scipy.optimize.nnls', 'scipy.optimize._basinhopping', 'scipy.optimize._remove_redundancy', 'scipy.optimize._linprog_util', 'scipy.optimize._linprog_ip', 'scipy.optimize._linprog_simplex', 'scipy.optimize._bglu_dense', 'scipy.optimize._linprog_rs', 'scipy.optimize._linprog', 'scipy.optimize._hungarian', 'scipy.optimize._differentialevolution', 'scipy.spatial.kdtree', 'scipy.spatial.ckdtree', 'scipy.spatial.qhull', 'scipy.spatial._voronoi', 'scipy.spatial._distance_wrap', 'scipy.spatial._hausdorff', 'scipy.spatial.distance', 'scipy.spatial._spherical_voronoi', 'scipy.spatial._plotutils', 'scipy.spatial._procrustes', 'scipy.spatial.transform.rotation', 'scipy.spatial.transform._rotation_spline', 'scipy.spatial.transform', 'scipy.spatial', 'scipy.optimize._shgo_lib', 'scipy.optimize._shgo_lib.sobol_seq', 'scipy.optimize._shgo_lib.triangulation', 'scipy.optimize._shgo', 'scipy.optimize._dual_annealing', 'scipy.optimize', 'scipy.integrate.quadrature', 'scipy.integrate._odepack', 'scipy.integrate.odepack', 'scipy.integrate._quadpack', 'scipy.integrate.quadpack', 'scipy.integrate.vode', 'scipy.integrate._dop', 'scipy.integrate.lsoda', 'scipy.integrate._ode', 'scipy.integrate._bvp', 'scipy.integrate._ivp.common', 'scipy.integrate._ivp.base', 'scipy.integrate._ivp.bdf', 'scipy.integrate._ivp.radau', 'scipy.integrate._ivp.rk', 'scipy.integrate._ivp.lsoda', 'scipy.integrate._ivp.ivp', 'scipy.integrate._ivp', 'scipy.integrate', 'scipy.misc.doccer', 'scipy.misc.common', 'scipy.misc', 'scipy.stats._constants', 'scipy.stats._distn_infrastructure', 'scipy.interpolate._fitpack', 'scipy.interpolate.dfitpack', 'scipy.interpolate._fitpack_impl', 'scipy.interpolate._bspl', 'scipy.interpolate._bsplines', 'scipy.interpolate.fitpack', 'scipy.interpolate.polyint', 'scipy.interpolate._ppoly', 'scipy.interpolate.fitpack2', 'scipy.interpolate.interpnd', 'scipy.interpolate.interpolate', 'scipy.interpolate.rbf', 'scipy.interpolate._cubic', 'scipy.interpolate.ndgriddata', 'scipy.interpolate._pade', 'scipy.interpolate', 'scipy.stats._stats', 'scipy.stats._tukeylambda_stats', 'scipy.stats._continuous_distns', 'scipy.stats._discrete_distns', 'scipy.stats.distributions', 'scipy.stats._stats_mstats_common', 'scipy.stats.mstats_basic', 'scipy.stats._rvs_sampling', 'scipy.stats._hypotests', 'scipy.stats.stats', 'scipy.stats.statlib', 'scipy.stats.contingency', 'scipy.stats.morestats', 'scipy.stats._binned_statistic', 'scipy.stats.mvn', 'scipy.stats.kde', 'scipy.stats.mstats_extras', 'scipy.stats.mstats', 'scipy.stats._multivariate', 'scipy.stats', 'sklearn.utils.deprecation', 'xml.parsers.expat.model', 'xml.parsers.expat.errors', 'xml.parsers.expat', 'plistlib', 'pkg_resources.extern', 'pkg_resources._vendor', 'pkg_resources.extern.six', 'pkg_resources._vendor.six', 'pkg_resources.extern.six.moves', 'pkg_resources._vendor.six.moves', 'pkg_resources.py31compat', 'pkg_resources.extern.appdirs', 'pkg_resources._vendor.packaging.__about__', 'pkg_resources.extern.packaging', 'pkg_resources.extern.packaging._structures', 'pkg_resources.extern.packaging.version', 'pkg_resources.extern.packaging._compat', 'pkg_resources.extern.packaging.specifiers', 'pkg_resources.extern.pyparsing', 'pkg_resources.extern.six.moves.urllib', 'pkg_resources.extern.packaging.markers', 'pkg_resources.extern.packaging.requirements', 'pkg_resources.py2_warn', 'pkg_resources', 'sklearn.externals', 'sklearn.externals._lobpcg', 'sklearn.utils.fixes', 'sklearn.exceptions', 'sklearn.utils.validation', 'sklearn.utils.class_weight', 'sklearn.utils._joblib', 'sklearn.utils._estimator_html_repr', 'sklearn.utils', 'sklearn.base', 'sklearn.utils._openmp_helpers', 'sklearn.utils._show_versions', 'sklearn', 'distutils.sysconfig', 'numpy.distutils.__version__', 'distutils.file_util', 'distutils.dir_util', 'distutils.ccompiler', 'numpy.distutils.compat', 'numpy.distutils.misc_util', 'numpy.distutils.log', 'numpy.distutils.exec_command', 'numpy.distutils.ccompiler', 'distutils.unixccompiler', 'numpy.distutils.unixccompiler', 'numpy.distutils.info', 'numpy.distutils.npy_pkg_config', 'numpy.distutils.__config__', 'numpy.distutils', 'sklearn._build_utils.pre_build_helpers', 'sklearn._build_utils.openmp_helpers', 'sklearn._build_utils', 'sklearn._loss', 'sklearn._loss.tests', 'sklearn.utils.multiclass', 'sklearn.utils._logistic_sigmoid', '_cython_0_29_21', 'sklearn.utils.sparsefuncs_fast', 'sklearn.utils.extmath', 'sklearn.utils.sparsefuncs', 'sklearn.preprocessing._function_transformer', 'sklearn.preprocessing._csr_polynomial_expansion', 'sklearn.preprocessing._label', 'sklearn.preprocessing._encoders', 'sklearn.preprocessing._data', 'sklearn.preprocessing._discretization', 'sklearn.preprocessing', 'sklearn.metrics._base', 'sklearn.metrics._ranking', 'sklearn.metrics._classification', 'sklearn.metrics.cluster._expected_mutual_info_fast', 'sklearn.metrics.cluster._supervised', 'sklearn.utils._mask', 'sklearn.metrics._pairwise_fast', 'sklearn.metrics.pairwise', 'sklearn.metrics.cluster._unsupervised', 'sklearn.metrics.cluster._bicluster', 'sklearn.metrics.cluster', 'sklearn._loss.glm_distribution', 'sklearn.metrics._regression', 'sklearn.metrics._scorer', 'sklearn.metrics._plot', 'sklearn.metrics._plot.base', 'sklearn.metrics._plot.roc_curve', 'sklearn.metrics._plot.precision_recall_curve', 'sklearn.metrics._plot.confusion_matrix', 'sklearn.metrics', 'sklearn.neighbors._typedefs', 'sklearn.neighbors._dist_metrics', 'sklearn.neighbors._ball_tree', 'sklearn.neighbors._kd_tree', 'sklearn.neighbors._base', 'sklearn.neighbors._unsupervised', 'sklearn.neighbors._graph', 'sklearn.neighbors._classification', 'sklearn.neighbors._regression', 'sklearn.neighbors._nearest_centroid', 'sklearn.neighbors._kde', 'sklearn.neighbors._lof', 'sklearn.utils._random', 'sklearn.utils._seq_dataset', 'sklearn.linear_model._base', 'sklearn.linear_model._bayes', 'sklearn.utils._cython_blas', 'sklearn.utils.arrayfuncs', 'sklearn.model_selection._split', 'sklearn.utils.metaestimators', 'sklearn.model_selection._validation', 'sklearn.utils.random', 'sklearn.model_selection._search', 'sklearn.model_selection', 'sklearn.linear_model._least_angle', 'sklearn.linear_model._cd_fast', 'sklearn.linear_model._coordinate_descent', 'sklearn.utils.optimize', 'sklearn.linear_model._glm.link', 'sklearn.linear_model._glm.glm', 'sklearn.linear_model._glm', 'sklearn.linear_model._huber', 'sklearn.utils._weight_vector', 'sklearn.linear_model._sgd_fast', 'sklearn.linear_model._stochastic_gradient', 'sklearn.linear_model._sag_fast', 'sklearn.linear_model._sag', 'sklearn.linear_model._ridge', 'sklearn.svm._libsvm', 'sklearn.svm._liblinear', 'sklearn.svm._libsvm_sparse', 'sklearn.svm._base', 'sklearn.svm._classes', 'sklearn.svm._bounds', 'sklearn.svm', 'sklearn.linear_model._logistic', 'sklearn.linear_model._omp', 'sklearn.linear_model._passive_aggressive', 'sklearn.linear_model._perceptron', 'sklearn.linear_model._ransac', 'sklearn.linear_model._theil_sen', 'sklearn.linear_model', 'sklearn.decomposition._dict_learning', 'sklearn.externals._pep562', 'sklearn.decomposition.dict_learning', 'sklearn.decomposition._cdnmf_fast', 'sklearn.decomposition._nmf', 'sklearn.decomposition._base', 'sklearn.decomposition._pca', 'sklearn.decomposition._incremental_pca', 'sklearn.decomposition._kernel_pca', 'sklearn.decomposition._sparse_pca', 'sklearn.decomposition._truncated_svd', 'sklearn.decomposition._fastica', 'sklearn.decomposition._factor_analysis', 'sklearn.decomposition._online_lda_fast', 'sklearn.decomposition._lda', 'sklearn.decomposition', 'sklearn.neighbors._nca', 'sklearn.neighbors', 'sklearn.manifold._locally_linear', 'sklearn.utils.graph_shortest_path', 'sklearn.utils.graph', 'sklearn.manifold._isomap', 'sklearn._isotonic', 'sklearn.isotonic', 'sklearn.manifold._mds', 'sklearn.manifold._spectral_embedding', 'sklearn.manifold._utils', 'sklearn.tree._utils', 'sklearn.tree._tree', 'sklearn.tree._splitter', 'sklearn.tree._criterion', 'sklearn.tree._classes', 'sklearn.tree._reingold_tilford', 'sklearn.tree._export', 'sklearn.tree', 'sklearn.neighbors._quad_tree', 'sklearn.manifold._barnes_hut_tsne', 'sklearn.manifold._t_sne', 'sklearn.manifold', 'ctypes.util', 'threadpoolctl', 'sklearn.cluster._k_means_fast', 'sklearn.cluster._k_means_lloyd', 'sklearn.cluster._k_means_elkan', 'sklearn.cluster._kmeans', 'sklearn.cluster._spectral', 'sklearn.cluster._mean_shift', 'sklearn.cluster._affinity_propagation', 'sklearn.utils._fast_dict', 'sklearn.cluster._hierarchical_fast', 'sklearn.cluster._feature_agglomeration', 'sklearn.cluster._agglomerative', 'sklearn.cluster._dbscan_inner', 'sklearn.cluster._dbscan', 'sklearn.cluster._optics', 'sklearn.cluster._bicluster', 'sklearn.cluster._birch', 'sklearn.cluster', 'sklearn.cluster.tests', 'sklearn.pipeline', 'sklearn.compose._column_transformer', 'sklearn.compose._target', 'sklearn.compose', 'sklearn.compose.tests', 'sklearn.covariance._empirical_covariance', 'sklearn.covariance._shrunk_covariance', 'sklearn.covariance._robust_covariance', 'sklearn.covariance._graph_lasso', 'sklearn.covariance._elliptic_envelope', 'sklearn.covariance', 'sklearn.covariance.tests', 'sklearn.cross_decomposition._pls', 'sklearn.cross_decomposition._cca', 'sklearn.cross_decomposition', 'sklearn.cross_decomposition.tests', 'sklearn.datasets._base', 'sklearn.datasets._covtype', 'sklearn.datasets._kddcup99', 'sklearn.datasets._lfw', 'tarfile', 'sklearn.feature_extraction._dict_vectorizer', 'sklearn.feature_extraction._hashing_fast', 'sklearn.feature_extraction._hash', 'sklearn.feature_extraction.image', 'sklearn.feature_extraction._stop_words', 'sklearn.feature_extraction.text', 'sklearn.feature_extraction', 'sklearn.datasets._twenty_newsgroups', 'sklearn.externals._arff', 'sklearn.datasets._openml', 'sklearn.datasets._samples_generator', 'sklearn.datasets._svmlight_format_fast', 'sklearn.datasets._svmlight_format_io', 'scipy.io.matlab.byteordercodes', 'scipy.io.matlab.miobase', 'scipy.io.matlab.mio_utils', 'scipy.io.matlab.mio4', 'scipy.io.matlab.streams', 'scipy.io.matlab.mio5_params', 'scipy.io.matlab.mio5_utils', 'scipy.io.matlab.mio5', 'scipy.io.matlab.mio', 'scipy.io.matlab', 'scipy.io.netcdf', 'scipy.io._fortran', 'scipy.io.mmio', 'scipy.io.idl', 'scipy.io.harwell_boeing._fortran_format_parser', 'scipy.io.harwell_boeing.hb', 'scipy.io.harwell_boeing', 'scipy.io', 'sklearn.datasets._olivetti_faces', 'sklearn.datasets._species_distributions', 'sklearn.datasets._california_housing', 'sklearn.datasets._rcv1', 'sklearn.datasets', 'sklearn.datasets.tests', 'sklearn.decomposition.tests', 'sklearn.ensemble._base', 'sklearn.ensemble._forest', 'sklearn.ensemble._bagging', 'sklearn.ensemble._iforest', 'sklearn.ensemble._weight_boosting', 'sklearn.ensemble._gradient_boosting', 'sklearn.utils.stats', 'sklearn.dummy', 'sklearn.ensemble._gb_losses', 'sklearn.ensemble._gb', 'sklearn.ensemble._voting', 'sklearn.ensemble._stacking', 'sklearn.ensemble', 'sklearn.ensemble._hist_gradient_boosting', 'sklearn.ensemble._hist_gradient_boosting.tests', 'sklearn.ensemble.tests', 'sklearn.experimental', 'sklearn.experimental.tests', 'sklearn.feature_extraction.tests', 'sklearn.feature_selection._base', 'sklearn.feature_selection._univariate_selection', 'sklearn.feature_selection._variance_threshold', 'sklearn.feature_selection._rfe', 'sklearn.feature_selection._from_model', 'sklearn.feature_selection._mutual_info', 'sklearn.feature_selection', 'sklearn.feature_selection.tests', 'sklearn.gaussian_process.kernels', 'sklearn.gaussian_process._gpr', 'sklearn.multiclass', 'sklearn.gaussian_process._gpc', 'sklearn.gaussian_process', 'sklearn.gaussian_process.tests', 'sklearn.impute._base', 'sklearn.impute._knn', 'sklearn.impute', 'sklearn.impute.tests', 'sklearn.ensemble._hist_gradient_boosting.common', 'sklearn.ensemble._hist_gradient_boosting._gradient_boosting', 'sklearn.ensemble._hist_gradient_boosting._binning', 'sklearn.ensemble._hist_gradient_boosting.binning', 'sklearn.ensemble._hist_gradient_boosting.splitting', 'sklearn.ensemble._hist_gradient_boosting.histogram', 'sklearn.ensemble._hist_gradient_boosting._predictor', 'sklearn.ensemble._hist_gradient_boosting.predictor', 'sklearn.ensemble._hist_gradient_boosting.utils', 'sklearn.ensemble._hist_gradient_boosting.grower', 'sklearn.ensemble._hist_gradient_boosting._loss', 'sklearn.ensemble._hist_gradient_boosting.loss', 'sklearn.ensemble._hist_gradient_boosting.gradient_boosting', 'sklearn.inspection._partial_dependence', 'sklearn.inspection.partial_dependence', 'sklearn.inspection._permutation_importance', 'sklearn.inspection._plot', 'sklearn.inspection._plot.partial_dependence', 'sklearn.inspection', 'sklearn.inspection._plot.tests', 'sklearn.inspection.tests', 'sklearn.linear_model._glm.tests', 'sklearn.linear_model.tests', 'sklearn.manifold.tests', 'sklearn.metrics._plot.tests', 'sklearn.metrics.cluster.tests', 'sklearn.metrics.tests', 'sklearn.mixture._base', 'sklearn.mixture._gaussian_mixture', 'sklearn.mixture._bayesian_mixture', 'sklearn.mixture', 'sklearn.mixture.tests', 'sklearn.model_selection.tests', 'sklearn.neighbors.tests', 'sklearn.neural_network._rbm', 'sklearn.neural_network._base', 'sklearn.neural_network._stochastic_optimizers', 'sklearn.neural_network._multilayer_perceptron', 'sklearn.neural_network', 'sklearn.neural_network.tests', 'sklearn.preprocessing.tests', 'sklearn.semi_supervised._label_propagation', 'sklearn.semi_supervised', 'sklearn.semi_supervised.tests', 'sklearn.svm.tests', 'sklearn.tests', 'sklearn.tree.tests', 'sklearn.utils.tests', 'AptUrl', 'AptUrl.gtk', 'gi._error', 'gi._gi', 'gi._compat', 'gi._gobject', 'cairo._cairo', 'cairo', 'gi._gi_cairo', 'glib', 'gobject', 'gio', 'gtk', 'gtk.gdk', 'gi', 'gi._constants', 'gi.docstring', 'gi._propertyhelper', 'gi._signalhelper', 'gi.types', 'gi.module', 'gi.overrides', 'gi.importer', 'gi.repository', 'gi._ossighelper', 'optparse', 'gi._option', 'gi.overrides.GLib', 'gi.repository.GLib', 'gi.overrides.GObject', 'gi.repository.GObject', 'AptUrl.gtk.backend', 'CommandNotFound', 'CommandNotFound.db', 'Crypto', 'Crypto.Cipher', 'Crypto.Hash', 'Crypto.Protocol', 'Crypto.PublicKey', 'Crypto.Random.OSRNG.rng_base', 'Crypto.Util', 'Crypto.Util.py3compat', 'Crypto.Random.OSRNG.posix', 'Crypto.Random.OSRNG', 'Crypto.Random.Fortuna', 'Crypto.pct_warnings', 'Crypto.Hash.hashalgo', 'Crypto.Hash.SHA256', 'Crypto.Random.Fortuna.SHAd256', 'Crypto.PublicKey._fastmath', 'Crypto.Util._number_new', 'Crypto.Util.number', 'Crypto.Util._counter', 'Crypto.Util.Counter', 'Crypto.Cipher.blockalgo', 'Crypto.Cipher._AES', 'Crypto.Cipher.AES', 'Crypto.Random.Fortuna.FortunaGenerator', 'Crypto.Random.Fortuna.FortunaAccumulator', 'Crypto.Random._UserFriendlyRNG', 'Crypto.Random', 'Crypto.SelfTest', 'Crypto.SelfTest.Cipher', 'Crypto.SelfTest.Hash', 'Crypto.SelfTest.Protocol', 'Crypto.SelfTest.PublicKey', 'Crypto.SelfTest.Random', 'Crypto.SelfTest.Random.Fortuna', 'Crypto.SelfTest.Random.OSRNG', 'Crypto.SelfTest.Signature', 'Crypto.SelfTest.Util', 'Crypto.Signature', 'DistUpgrade', 'HweSupportStatus', 'IPython.core.tests', 'IPython.extensions.tests', 'IPython.external', 'IPython.external.decorators._decorators', 'IPython.external.decorators', 'IPython.utils.shimmodule', 'IPython.kernel.zmq.session', 'IPython.kernel.zmq', 'IPython.kernel.comm', 'IPython.kernel.inprocess', 'IPython.kernel.ioloop', 'IPython.kernel.blocking', 'ipykernel.inprocess.socket', 'ipykernel.inprocess.channels', 'ipykernel.inprocess.client', 'ipykernel.inprocess.constants', 'ipykernel.inprocess.manager', 'ipykernel.inprocess.blocking', 'ipykernel.inprocess', 'jupyter_client.restarter', 'jupyter_client.ioloop.restarter', 'jupyter_client.ioloop.manager', 'jupyter_client.ioloop', 'IPython.kernel', 'IPython.lib.tests', 'IPython.sphinxext', 'IPython.terminal.tests', 'IPython.testing.plugin', 'IPython.testing.tests', 'IPython.utils.tests', 'LanguageSelector', 'LanguageSelector.gtk', 'NvidiaDetector', 'PIL._version', 'PIL', 'Quirks', 'UbuntuDrivers', 'UpdateManager', 'UpdateManager.Core', 'gi.repository.xlib', 'gi.repository.cairo', 'gi.overrides.Pango', 'gi.repository.Pango', 'gi.overrides.Gio', 'gi.repository.Gio', 'gi.repository.GModule', 'gi.overrides.GdkPixbuf', 'gi.repository.GdkPixbuf', 'gi.repository.GdkX11', 'gi.overrides.Gdk', 'gi.repository.Gdk', 'gi.repository.Atk', 'gi._gtktemplate', 'gi.overrides.Gtk', 'gi.repository.Gtk', 'gi.repository.Snapd', 'apt_pkg', 'apt.progress', 'apt.progress.base', 'apt.progress.text', 'apt.package', 'apt.cache', 'apt.cdrom', 'apt', 'DistUpgrade.DistUpgradeGettext', 'DistUpgrade.utils', 'DistUpgrade.DistUpgradeCache', 'launchpadlib', 'httplib2.socks', 'httplib2.iri2uri', 'httplib2', 'lazr', 'lazr.restfulclient', 'lazr.uri._uri', 'lazr.uri', 'wadllib', 'xml.etree.cElementTree', 'wadllib.iso_strptime', 'wadllib.application', 'lazr.restfulclient.errors', 'lazr.restfulclient._json', 'lazr.restfulclient._browser', 'lazr.restfulclient.resource', 'lazr.restfulclient.authorize', 'oauthlib', 'oauthlib.common', 'oauthlib.oauth1.rfc5849.utils', 'oauthlib.oauth1.rfc5849.parameters', 'oauthlib.oauth1.rfc5849.signature', 'oauthlib.oauth1.rfc5849', 'oauthlib.oauth1.rfc5849.request_validator', 'oauthlib.oauth1.rfc5849.errors', 'oauthlib.oauth1.rfc5849.endpoints.base', 'oauthlib.oauth1.rfc5849.endpoints.request_token', 'oauthlib.oauth1.rfc5849.endpoints.authorization', 'oauthlib.oauth1.rfc5849.endpoints.access_token', 'oauthlib.oauth1.rfc5849.endpoints.resource', 'oauthlib.oauth1.rfc5849.endpoints.signature_only', 'oauthlib.oauth1.rfc5849.endpoints.pre_configured', 'oauthlib.oauth1.rfc5849.endpoints', 'oauthlib.oauth1', 'lazr.restfulclient.authorize.oauth', 'webbrowser', 'six.moves.urllib', 'six.moves.urllib.parse', 'launchpadlib.uris', 'launchpadlib.credentials', 'launchpadlib.launchpad', 'UpdateManager.Core.MyCache', 'UpdateManager.Core.utils', 'dbus._compat', 'dbus.exceptions', '_dbus_bindings', 'dbus.types', 'dbus.lowlevel', 'dbus._expat_introspect_parser', 'dbus.proxies', 'dbus.connection', 'dbus.bus', 'dbus._dbus', 'dbus', 'distro_info', 'HweSupportStatus.consts', 'yaml.error', 'yaml.tokens', 'yaml.events', 'yaml.nodes', 'yaml.reader', 'yaml.scanner', 'yaml.parser', 'yaml.composer', 'yaml.constructor', 'yaml.resolver', 'yaml.loader', 'yaml.emitter', 'yaml.serializer', 'yaml.representer', 'yaml.dumper', '_yaml', 'yaml.cyaml', 'yaml', 'UpdateManager.Core.LivePatchSocket', 'UpdateManager.Dialogs', 'aptdaemon', 'dbus.mainloop', '_dbus_glib_bindings', 'dbus.mainloop.glib', 'aptdaemon.enums', 'aptdaemon.debconf', 'defer.version', 'defer', 'defer.utils', 'aptdaemon.errors', 'aptdaemon.client', 'gi.repository.Vte', 'aptdaemon.gtk3widgets', 'gi.repository.Dbusmenu', 'gi.overrides.Dee', 'gi.repository.Dee', 'gi.overrides.Unity', 'gi.repository.Unity', 'UpdateManager.UnitySupport', 'UpdateManager.backend.InstallBackendAptdaemon', 'UpdateManager.backend', 'email._header_value_parser', 'email.headerregistry', 'email.contentmanager', 'email.policy', 'email.mime.base', 'email.mime.multipart', 'email.mime.nonmultipart', 'email.mime.text', 'problem_report', 'six.moves.http_client', 'urllib3.exceptions', 'urllib3.packages', 'urllib3.packages.ssl_match_hostname', 'urllib3.util.wait', 'urllib3.contrib', 'urllib3.contrib._appengine_environ', 'urllib3.util.connection', 'urllib3.util.request', 'urllib3.util.response', 'urllib3.util.url', 'urllib3.util.ssl_', 'urllib3.util.timeout', 'urllib3.util.retry', 'urllib3.util', 'urllib3._collections', 'urllib3.connection', 'urllib3.fields', 'urllib3.filepost', 'urllib3.request', 'urllib3.response', 'urllib3.util.queue', 'urllib3.connectionpool', 'urllib3.poolmanager', 'urllib3', 'chardet.compat', 'chardet.enums', 'chardet.charsetprober', 'chardet.charsetgroupprober', 'chardet.codingstatemachine', 'chardet.escsm', 'chardet.escprober', 'chardet.latin1prober', 'chardet.mbcssm', 'chardet.utf8prober', 'chardet.mbcharsetprober', 'chardet.euctwfreq', 'chardet.euckrfreq', 'chardet.gb2312freq', 'chardet.big5freq', 'chardet.jisfreq', 'chardet.chardistribution', 'chardet.jpcntx', 'chardet.sjisprober', 'chardet.eucjpprober', 'chardet.gb2312prober', 'chardet.euckrprober', 'chardet.cp949prober', 'chardet.big5prober', 'chardet.euctwprober', 'chardet.mbcsgroupprober', 'chardet.sbcharsetprober', 'chardet.langcyrillicmodel', 'chardet.langgreekmodel', 'chardet.langbulgarianmodel', 'chardet.langthaimodel', 'chardet.langhebrewmodel', 'chardet.hebrewprober', 'chardet.langturkishmodel', 'chardet.sbcsgroupprober', 'chardet.universaldetector', 'chardet.version', 'chardet', 'requests.exceptions', 'requests.__version__', 'certifi.core', 'certifi', 'requests.certs', 'http.cookiejar', 'http.cookies', 'requests.compat', 'requests._internal_utils', 'requests.cookies', 'requests.structures', 'requests.utils', 'requests.packages.urllib3.exceptions', 'requests.packages.urllib3.packages', 'requests.packages.urllib3.packages.ssl_match_hostname', 'requests.packages.urllib3.util.wait', 'requests.packages.urllib3.contrib', 'requests.packages.urllib3.contrib._appengine_environ', 'requests.packages.urllib3.util.connection', 'requests.packages.urllib3.util.request', 'requests.packages.urllib3.util.response', 'requests.packages.urllib3.util.url', 'requests.packages.urllib3.util.ssl_', 'requests.packages.urllib3.util.timeout', 'requests.packages.urllib3.util.retry', 'requests.packages.urllib3.util', 'requests.packages.urllib3._collections', 'requests.packages.urllib3.connection', 'requests.packages.urllib3.fields', 'requests.packages.urllib3.filepost', 'requests.packages.urllib3.request', 'requests.packages.urllib3.response', 'requests.packages.urllib3.util.queue', 'requests.packages.urllib3.connectionpool', 'requests.packages.urllib3.poolmanager', 'requests.packages.urllib3', 'idna.package_data', 'idna.idnadata', 'idna.intranges', 'idna.core', 'idna', 'requests.packages.idna.package_data', 'requests.packages.idna.idnadata', 'requests.packages.idna.intranges', 'requests.packages.idna.core', 'requests.packages.idna', 'requests.packages.chardet.compat', 'requests.packages.chardet.enums', 'requests.packages.chardet.charsetprober', 'requests.packages.chardet.charsetgroupprober', 'requests.packages.chardet.codingstatemachine', 'requests.packages.chardet.escsm', 'requests.packages.chardet.escprober', 'requests.packages.chardet.latin1prober', 'requests.packages.chardet.mbcssm', 'requests.packages.chardet.utf8prober', 'requests.packages.chardet.mbcharsetprober', 'requests.packages.chardet.euctwfreq', 'requests.packages.chardet.euckrfreq', 'requests.packages.chardet.gb2312freq', 'requests.packages.chardet.big5freq', 'requests.packages.chardet.jisfreq', 'requests.packages.chardet.chardistribution', 'requests.packages.chardet.jpcntx', 'requests.packages.chardet.sjisprober', 'requests.packages.chardet.eucjpprober', 'requests.packages.chardet.gb2312prober', 'requests.packages.chardet.euckrprober', 'requests.packages.chardet.cp949prober', 'requests.packages.chardet.big5prober', 'requests.packages.chardet.euctwprober', 'requests.packages.chardet.mbcsgroupprober', 'requests.packages.chardet.sbcharsetprober', 'requests.packages.chardet.langcyrillicmodel', 'requests.packages.chardet.langgreekmodel', 'requests.packages.chardet.langbulgarianmodel', 'requests.packages.chardet.langthaimodel', 'requests.packages.chardet.langhebrewmodel', 'requests.packages.chardet.hebrewprober', 'requests.packages.chardet.langturkishmodel', 'requests.packages.chardet.sbcsgroupprober', 'requests.packages.chardet.universaldetector', 'requests.packages.chardet.version', 'requests.packages.chardet', 'requests.packages', 'stringprep', 'encodings.idna', 'requests.hooks', 'requests.auth', 'requests.status_codes', 'requests.models', 'requests.adapters', 'requests.sessions', 'requests.api', 'requests', 'requests_unixsocket.adapters', 'requests_unixsocket', 'apport.packaging', 'apport.packaging_impl', 'apport.fileutils', 'apport.report', 'apport', 'apport.crashdb_impl', 'aptdaemon.worker', 'aptsources', '_cffi_backend', '_bcrypt.lib', '_bcrypt', 'bcrypt._bcrypt', 'bcrypt.__about__', 'bcrypt', 'bleach.callbacks', 'webencodings.labels', 'encodings.utf_16_le', 'encodings.utf_16_be', 'webencodings', 'html5lib.constants', 'html5lib._utils', 'html5lib._inputstream', 'html5lib._trie._base', 'html5lib._trie.py', 'html5lib._trie', 'html5lib._tokenizer', 'html5lib.treebuilders', 'html5lib.treebuilders.base', 'html5lib.html5parser', 'html5lib.treewalkers', 'xml.sax.saxutils', 'html5lib.serializer', 'html5lib', 'html5lib.filters', 'html5lib.filters.base', 'html5lib.filters.sanitizer', 'bleach.html5lib_shim', 'bleach.utils', 'bleach.linkifier', 'bleach.sanitizer', 'bleach', 'bleach._vendor', 'bleach._vendor.html5lib.constants', 'bleach._vendor.html5lib._utils', 'bleach._vendor.html5lib._inputstream', 'bleach._vendor.html5lib._trie._base', 'bleach._vendor.html5lib._trie.py', 'bleach._vendor.html5lib._trie', 'bleach._vendor.html5lib._tokenizer', 'bleach._vendor.html5lib.treebuilders', 'bleach._vendor.html5lib.treebuilders.base', 'bleach._vendor.html5lib.html5parser', 'bleach._vendor.html5lib.treewalkers', 'bleach._vendor.html5lib.serializer', 'bleach._vendor.html5lib', 'bleach._vendor.html5lib.filters', 'bleach._vendor.html5lib.treeadapters.sax', 'bleach._vendor.html5lib.treeadapters', 'blinker._saferef', 'blinker._utilities', 'blinker.base', 'blinker', 'soupsieve.__meta__', 'soupsieve.util', 'soupsieve.css_types', 'soupsieve.css_match', 'soupsieve.css_parser', 'soupsieve', 'bs4.dammit', 'bs4.formatter', 'bs4.element', '_markupbase', 'html.parser', 'bs4.builder._htmlparser', 'bs4.builder._html5lib', 'lxml', 'lxml._elementpath', 'lxml.etree', 'bs4.builder._lxml', 'bs4.builder', 'bs4', 'bs4.tests', 'chardet.cli', 'click._compat', 'click.globals', 'click.utils', 'click.exceptions', 'click.types', 'click.termui', 'click.parser', 'click.formatting', 'click._unicodefun', 'click.decorators', 'click.core', 'click', 'cryptography.__about__', 'cryptography', 'cryptography.hazmat', 'cryptography.hazmat.backends', 'cryptography.utils', 'cryptography.x509.certificate_transparency', 'cryptography.hazmat.primitives', 'cryptography.hazmat.primitives.asymmetric', 'cryptography.hazmat.primitives.asymmetric.dsa', 'cryptography.hazmat._oid', 'cryptography.hazmat.primitives.asymmetric.ec', 'cryptography.exceptions', 'cryptography.hazmat.primitives.asymmetric.ed25519', 'cryptography.hazmat.primitives.asymmetric.ed448', 'cryptography.hazmat.backends.interfaces', 'cryptography.hazmat.primitives.asymmetric.rsa', 'ipaddress', 'cryptography.hazmat._der', 'cryptography.hazmat.bindings', '_constant_time.lib', '_constant_time', 'cryptography.hazmat.bindings._constant_time', 'cryptography.hazmat.primitives.constant_time', 'cryptography.hazmat.primitives.serialization.base', 'cryptography.hazmat.primitives.serialization.ssh', 'cryptography.hazmat.primitives.serialization', 'cryptography.hazmat.primitives.hashes', 'cryptography.x509.oid', 'cryptography.x509.name', 'cryptography.x509.general_name', 'cryptography.x509.extensions', 'cryptography.x509.base', 'cryptography.x509', 'cryptography.hazmat.backends.openssl.aead', 'cryptography.hazmat.primitives.ciphers.modes', 'cryptography.hazmat.primitives.ciphers.base', 'cryptography.hazmat.primitives.ciphers', 'cryptography.hazmat.backends.openssl.ciphers', 'cryptography.hazmat.backends.openssl.cmac', 'cryptography.hazmat.backends.openssl.decode_asn1', 'cryptography.hazmat.primitives.asymmetric.dh', 'cryptography.hazmat.backends.openssl.dh', 'cryptography.hazmat.primitives.asymmetric.utils', 'cryptography.hazmat.backends.openssl.utils', 'cryptography.hazmat.backends.openssl.dsa', 'cryptography.hazmat.backends.openssl.ec', 'cryptography.hazmat.backends.openssl.ed25519', 'cryptography.hazmat.backends.openssl.ed448', 'cryptography.hazmat.backends.openssl.encode_asn1', 'cryptography.hazmat.backends.openssl.hashes', 'cryptography.hazmat.backends.openssl.hmac', 'cryptography.hazmat.backends.openssl.x509', 'cryptography.x509.ocsp', 'cryptography.hazmat.backends.openssl.ocsp', 'cryptography.hazmat.backends.openssl.poly1305', 'cryptography.hazmat.primitives.asymmetric.padding', 'cryptography.hazmat.backends.openssl.rsa', 'cryptography.hazmat.primitives.asymmetric.x25519', 'cryptography.hazmat.backends.openssl.x25519', 'cryptography.hazmat.primitives.asymmetric.x448', 'cryptography.hazmat.backends.openssl.x448', 'cryptography.hazmat.bindings.openssl', '_openssl.lib', '_openssl', 'cryptography.hazmat.bindings._openssl', 'cryptography.hazmat.bindings.openssl._conditional', 'cryptography.hazmat.bindings.openssl.binding', 'cryptography.hazmat.primitives.ciphers.algorithms', 'cryptography.hazmat.primitives.kdf', 'cryptography.hazmat.primitives.kdf.scrypt', 'cryptography.hazmat.backends.openssl.backend', 'cryptography.hazmat.backends.openssl', 'cryptography.hazmat.primitives.twofactor', 'cups', 'cupshelpers.config', 'cupshelpers.cupshelpers', 'cupshelpers.xmldriverprefs', 'cupshelpers.ppds', 'cupshelpers.openprinting', 'cupshelpers', 'dateutil.zoneinfo', 'debian._version', 'debian', 'debian_bundle', 'defusedxml.common', 'defusedxml', 'duplicity', 'duplicity.backends', 'duplicity.backends.pyrax_identity', 'et_xmlfile.xmlfile', 'et_xmlfile', 'et_xmlfile.tests', 'fasteners._utils', 'fasteners.lock', 'fasteners.process_lock', 'fasteners', 'fasteners.tests', 'future', 'future.utils', 'future.standard_library', 'socketserver', '_dummy_thread', 'future.backports.misc', 'future.backports', 'encodings.ascii', 'future.utils.surrogateescape', 'future.backports.email', 'future.backports.email.mime', 'future.backports.html', 'future.backports.http', 'future.backports.test', 'future.backports.urllib', 'future.backports.xmlrpc', 'future.builtins.iterators', 'future.builtins.misc', 'future.builtins', 'future.moves', 'future.moves.dbm', 'future.moves.html', 'future.moves.http', 'future.moves.test', 'future.moves.tkinter', 'future.moves.urllib', 'future.moves.xmlrpc', 'future.tests', 'future.types', 'html5lib.treeadapters.sax', 'html5lib.treeadapters', 'zipp', 'importlib_metadata._compat', 'importlib_metadata', 'ipykernel.gui', 'ipykernel.inprocess.tests', 'ipykernel.pylab', 'unittest.mock', 'ipykernel.kernelspec', 'ipykernel.tests', 'ipython_genutils.testing', 'ipython_genutils.tests', 'ipywidgets._version', 'ipywidgets.widgets.widget', 'ipywidgets.widgets.trait_types', 'ipywidgets.widgets.widget_core', 'ipywidgets.widgets.widget_layout', 'ipywidgets.widgets.domwidget', 'ipywidgets.widgets.valuewidget', 'ipywidgets.widgets.widget_bool', 'ipywidgets.widgets.widget_style', 'ipywidgets.widgets.widget_button', 'ipywidgets.widgets.widget_box', 'ipywidgets.widgets.widget_float', 'ipywidgets.widgets.widget_image', 'ipywidgets.widgets.widget_int', 'ipywidgets.widgets.widget_color', 'ipywidgets.widgets.widget_date', 'ipywidgets.widgets.widget_output', 'ipywidgets.widgets.widget_selection', 'ipywidgets.widgets.widget_selectioncontainer', 'ipywidgets.widgets.widget_string', 'ipywidgets.widgets.widget_controller', 'ipywidgets.widgets.interaction', 'ipywidgets.widgets.widget_link', 'ipywidgets.widgets', 'ipywidgets', 'ipywidgets.widgets.tests', 'janitor', 'janitor.plugincore', 'jinja2._compat', 'markupsafe._compat', 'markupsafe._speedups', 'markupsafe', 'jinja2.utils', 'jinja2.nodes', 'jinja2.exceptions', 'jinja2.runtime', 'jinja2.filters', 'jinja2.tests', 'jinja2.defaults', 'jinja2.lexer', 'jinja2.parser', 'jinja2.visitor', 'jinja2.optimizer', 'jinja2.idtracking', 'jinja2.compiler', 'jinja2.environment', 'jinja2.loaders', 'jinja2.bccache', 'jinja2.asyncsupport', 'jinja2.asyncfilters', 'jinja2', 'jsonschema.compat', 'jsonschema._utils', 'jsonschema.exceptions', 'jsonschema._format', 'pyrsistent._compat', 'pyrsistent._transformations', 'pvectorc', 'pyrsistent._pvector', 'pyrsistent._pmap', 'pyrsistent._pset', 'pyrsistent._pbag', 'pyrsistent._plist', 'pyrsistent._pdeque', 'pyrsistent._checked_types', 'pyrsistent._field_common', 'pyrsistent._precord', 'pyrsistent._pclass', 'pyrsistent._immutable', 'pyrsistent._helpers', 'pyrsistent._toolz', 'pyrsistent', 'jsonschema._types', 'jsonschema._legacy_validators', 'jsonschema._validators', 'jsonschema.validators', 'jsonschema', 'jsonschema.benchmarks', 'jsonschema.tests', 'paramiko._version', 'paramiko.py3compat', 'paramiko.common', 'paramiko.config', 'paramiko.util', 'paramiko.message', 'paramiko.ssh_exception', 'paramiko.server', 'paramiko.ssh_gss', 'paramiko.auth_handler', 'paramiko.file', 'paramiko.buffered_pipe', 'paramiko.pipe', 'paramiko.channel', 'paramiko.compress', 'paramiko.ber', 'paramiko.pkey', 'paramiko.dsskey', 'nacl', 'nacl.exceptions', '_sodium.lib', '_sodium', 'nacl._sodium', 'nacl.bindings.crypto_aead', 'nacl.bindings.crypto_box', 'nacl.bindings.crypto_generichash', 'nacl.bindings.crypto_hash', 'nacl.bindings.crypto_kx', 'nacl.bindings.crypto_pwhash', 'nacl.bindings.crypto_scalarmult', 'nacl.bindings.crypto_secretbox', 'nacl.bindings.crypto_secretstream', 'nacl.bindings.crypto_shorthash', 'nacl.bindings.crypto_sign', 'nacl.bindings.randombytes', 'nacl.bindings.sodium_core', 'nacl.bindings.utils', 'nacl.bindings', 'nacl.encoding', 'nacl.utils', 'nacl.public', 'nacl.signing', 'paramiko.ed25519key', 'paramiko.kex_curve25519', 'paramiko.kex_gex', 'paramiko.kex_group1', 'paramiko.kex_group14', 'paramiko.kex_group16', 'paramiko.kex_ecdh_nist', 'paramiko.kex_gss', 'paramiko.packet', 'paramiko.primes', 'paramiko.rsakey', 'paramiko.ecdsakey', 'paramiko.sftp', 'paramiko.sftp_attr', 'paramiko.sftp_file', 'paramiko.sftp_client', 'paramiko.transport', 'paramiko.agent', 'paramiko.hostkeys', 'paramiko.client', 'paramiko.sftp_si', 'paramiko.sftp_handle', 'paramiko.sftp_server', 'paramiko.proxy', 'paramiko', 'jupyter_client.ssh.forward', 'jupyter_client.ssh.tunnel', 'jupyter_client.ssh', 'jupyter_client.tests', 'jupyter_console._version', 'jupyter_console', 'jupyter_console.tests', 'jupyter_core.tests', 'jupyter_core.utils', 'jwt.compat', 'jwt.exceptions', 'jwt.utils', 'jwt.algorithms', 'jwt.api_jws', 'jwt.api_jwt', 'jwt', 'jwt.contrib', 'jwt.contrib.algorithms', 'keyring.py27compat', 'keyring.py33compat', 'entrypoints', 'keyring.credentials', 'keyring.errors', 'keyring.util', 'keyring.py32compat', 'keyring.util.properties', 'keyring.backend', 'keyring.util.platform_', 'keyring.backends', 'keyring.backends.fail', 'keyring.backends.kwallet', 'secretstorage.defines', 'secretstorage.exceptions', 'secretstorage.dhcrypto', 'secretstorage.util', 'secretstorage.item', 'secretstorage.collection', 'secretstorage', 'keyring.backends.SecretService', 'keyring.backends.Windows', 'keyring.backends.chainer', 'keyring.backends.OS_X', 'keyrings', 'keyrings.alt', 'keyrings.alt.Gnome', 'keyrings.alt.keyczar', 'keyrings.alt.Google', 'keyrings.alt.escape', 'keyrings.alt.file_base', 'keyrings.alt.Windows', 'keyrings.alt.file', 'keyrings.alt.multi', 'keyrings.alt.pyfs', 'Crypto.Hash.SHA', 'Crypto.Util.strxor', 'Crypto.Hash.HMAC', 'Crypto.Protocol.KDF', 'keyring.core', 'keyring', 'keyring.tests', 'keyring.tests.backends', 'launchpadlib.testing', 'launchpadlib.testing.tests', 'launchpadlib.tests', 'libfuturize', 'lib2to3.pgen2.token', 'lib2to3.pgen2.grammar', 'lib2to3.pgen2.parse', 'lib2to3.pgen2.tokenize', 'lib2to3.pgen2.pgen', 'lib2to3.pgen2.driver', 'lib2to3.pytree', 'lib2to3.pygram', 'lib2to3.pgen2.literals', 'lib2to3.patcomp', 'lib2to3.fixer_util', 'lib2to3.btm_utils', 'lib2to3.btm_matcher', 'lib2to3.refactor', 'libfuturize.fixes', 'libpasteurize', 'libpasteurize.fixes', 'lockfile.linklockfile', 'lockfile', 'louis', 'lxml.html.defs', 'lxml.html._setmixin', 'lxml.html', 'lxml.includes', 'lxml.isoschematron', 'macaroonbakery', 'pymacaroons.utils', 'pymacaroons.caveat', 'pymacaroons.binders.base_binder', 'pymacaroons.binders.hash_signatures_binder', 'pymacaroons.binders', 'pymacaroons.serializers.base_serializer', 'pymacaroons.exceptions', 'pymacaroons.serializers.binary_serializer', 'pymacaroons.serializers.json_serializer', 'pymacaroons.serializers', 'pymacaroons.caveat_delegates.base_first_party', 'pymacaroons.caveat_delegates.first_party', 'pymacaroons.field_encryptors.base_field_encryptor', 'nacl.secret', 'pymacaroons.field_encryptors.secret_box_encryptor', 'pymacaroons.field_encryptors', 'pymacaroons.caveat_delegates.encrypted_first_party', 'pymacaroons.caveat_delegates.base_third_party', 'pymacaroons.caveat_delegates.third_party', 'pymacaroons.caveat_delegates', 'pymacaroons.macaroon', 'pymacaroons.verifier', 'pymacaroons', 'six.moves.http_cookiejar', 'macaroonbakery._utils', 'macaroonbakery.bakery._versions', 'macaroonbakery.bakery._error', 'macaroonbakery.bakery._identity', 'macaroonbakery.bakery._authorizer', 'macaroonbakery.checkers._conditions', 'pytz.exceptions', 'pytz.lazy', 'pytz.tzinfo', 'pytz.tzfile', 'pytz', 'pyrfc3339.utils', 'pyrfc3339.generator', 'pyrfc3339.parser', 'pyrfc3339', 'macaroonbakery.checkers._caveat', 'macaroonbakery.checkers._auth_context', 'macaroonbakery.checkers._utils', 'macaroonbakery.checkers._namespace', 'macaroonbakery.checkers._declared', 'macaroonbakery.checkers._operation', 'macaroonbakery.checkers._time', 'macaroonbakery.checkers._checkers', 'macaroonbakery.checkers', 'macaroonbakery.bakery._third_party', 'macaroonbakery.bakery._keys', 'macaroonbakery.bakery._codec', 'macaroonbakery.bakery._checker', 'macaroonbakery.bakery._store', 'macaroonbakery.bakery._macaroon', 'macaroonbakery.bakery._discharge', 'google', 'macaroonbakery.bakery._internal', 'google.protobuf', 'google.protobuf.internal', 'google.protobuf.internal._api_implementation', 'google.protobuf.pyext', 'google.protobuf.internal.containers', 'google.protobuf.internal.enum_type_wrapper', 'google.protobuf.message', 'google.protobuf.pyext._message', 'google.protobuf.internal.api_implementation', 'google.protobuf.descriptor', 'google.protobuf.pyext.cpp_message', 'google.protobuf.reflection', 'google.protobuf.descriptor_database', 'google.protobuf.text_encoding', 'google.protobuf.descriptor_pool', 'google.protobuf.message_factory', 'google.protobuf.symbol_database', 'google.protobuf.internal.well_known_types', 'google.protobuf.descriptor_pb2', 'macaroonbakery.bakery._internal.id_pb2', 'macaroonbakery.bakery._oven', 'macaroonbakery.bakery._bakery', 'macaroonbakery.bakery', 'macaroonbakery.httpbakery._error', 'macaroonbakery.httpbakery._interactor', 'macaroonbakery.httpbakery._browser', 'six.moves.http_cookies', 'macaroonbakery.httpbakery._client', 'macaroonbakery.httpbakery._keyring', 'macaroonbakery.httpbakery._discharge', 'macaroonbakery.httpbakery', 'macaroonbakery.httpbakery.agent._agent', 'macaroonbakery.httpbakery.agent', 'macaroonbakery.tests', 'mako', 'mako.ext', 'matplotlib', 'matplotlib.cbook.deprecation', 'matplotlib.cbook', 'pyparsing', 'matplotlib.fontconfig_pattern', 'matplotlib._color_data', 'matplotlib.colors', 'cycler', 'matplotlib.rcsetup', 'matplotlib._version', 'matplotlib.ft2font', 'kiwisolver']\n"
     ]
    },
    {
     "name": "stdout",
     "output_type": "stream",
     "text": [
      "DEBUG:matplotlib:CACHEDIR=/home/dario/.cache/matplotlib\n",
      "DEBUG:matplotlib.font_manager:Using fontManager instance from /home/dario/.cache/matplotlib/fontlist-v310.json\n",
      "INFO:numexpr.utils:NumExpr defaulting to 8 threads.\n"
     ]
    },
    {
     "name": "stderr",
     "output_type": "stream",
     "text": [
      "/usr/lib/python3.8/pkgutil.py:92: MatplotlibDeprecationWarning: \n",
      "The mpl_toolkits.axes_grid module was deprecated in Matplotlib 2.1 and will be removed two minor releases later. Use mpl_toolkits.axes_grid1 and mpl_toolkits.axisartist, which provide the same functionality instead.\n",
      "  __import__(info.name)\n"
     ]
    },
    {
     "name": "stdout",
     "output_type": "stream",
     "text": [
      "DEBUG:pip._internal.vcs.versioncontrol:Registered VCS backend: bzr\n",
      "DEBUG:pip._internal.vcs.versioncontrol:Registered VCS backend: git\n",
      "DEBUG:pip._internal.vcs.versioncontrol:Registered VCS backend: hg\n",
      "DEBUG:pip._internal.vcs.versioncontrol:Registered VCS backend: svn\n",
      "DEBUG:matplotlib.pyplot:Loaded backend module://ipykernel.pylab.backend_inline version unknown.\n",
      "DEBUG:matplotlib.pyplot:Loaded backend module://ipykernel.pylab.backend_inline version unknown.\n",
      "AptUrl              atexit              jdcal               requests\n",
      "CommandNotFound     atomicwrites        jedi                requests_unixsocket\n",
      "Crypto              attr                jinja2              resource\n",
      "DistUpgrade         audioop             joblib              rlcompleter\n",
      "HweSupportStatus    autoreload          json                rmagic\n",
      "IPython             backcall            jsonschema          runpy\n",
      "LanguageSelector    base64              jupyter             scanext\n",
      "NvidiaDetector      bcrypt              jupyter_client      sched\n",
      "PIL                 bdb                 jupyter_console     scipy\n",
      "Quirks              binascii            jupyter_core        seaborn\n",
      "UbuntuDrivers       binhex              jwt                 secrets\n",
      "UpdateManager       bisect              keyring             secretstorage\n",
      "__future__          bleach              keyword             select\n",
      "_abc                blinker             kiwisolver          selectors\n",
      "_ast                brlapi              language_support_pkgs send2trash\n",
      "_asyncio            bs4                 launchpadlib        setuptools\n",
      "_bisect             builtins            lib2to3             shelve\n",
      "_blake2             bz2                 libfuturize         shlex\n",
      "_bootlocale         cProfile            libpasteurize       shutil\n",
      "_bz2                cairo               linecache           signal\n",
      "_cffi_backend       calendar            locale              simplejson\n",
      "_codecs             certifi             lockfile            site\n",
      "_codecs_cn          cgi                 logging             sitecustomize\n",
      "_codecs_hk          cgitb               louis               six\n",
      "_codecs_iso2022     chardet             lsb_release         sklearn\n",
      "_codecs_jp          chunk               lxml                smtpd\n",
      "_codecs_kr          click               lzma                smtplib\n",
      "_codecs_tw          cmath               macaroonbakery      sndhdr\n",
      "_collections        cmd                 mailbox             socket\n",
      "_collections_abc    code                mailcap             socketserver\n",
      "_compat_pickle      codecs              mako                softwareproperties\n",
      "_compression        codeop              markupsafe          soupsieve\n",
      "_contextvars        collections         marshal             speechd\n",
      "_crypt              colorama            math                speechd_config\n",
      "_csv                colorsys            matplotlib          spwd\n",
      "_ctypes             compileall          mimetypes           sqlite3\n",
      "_ctypes_test        concurrent          mistune             sre_compile\n",
      "_curses             configparser        mmap                sre_constants\n",
      "_curses_panel       contextlib          modulefinder        sre_parse\n",
      "_datetime           contextvars         monotonic           ssl\n",
      "_dbm                copy                more_itertools      stat\n",
      "_dbus_bindings      copyreg             mpl_toolkits        statistics\n",
      "_dbus_glib_bindings crypt               multiprocessing     storemagic\n",
      "_decimal            cryptography        nacl                string\n",
      "_dummy_thread       csv                 nbconvert           stringprep\n",
      "_elementtree        ctypes              nbformat            struct\n",
      "_functools          cups                netifaces           subprocess\n",
      "_gdbm               cupsext             netrc               sunau\n",
      "_hashlib            cupshelpers         nis                 symbol\n",
      "_heapq              curses              nntplib             sympyprinting\n",
      "_imp                cycler              notebook            symtable\n",
      "_io                 cythonmagic         ntpath              sys\n",
      "_json               dataclasses         nturl2path          sysconfig\n",
      "_locale             datetime            numbers             syslog\n",
      "_lsprof             dateutil            numexpr             systemd\n",
      "_lzma               dbm                 numpy               tables\n",
      "_markupbase         dbus                oauthlib            tabnanny\n",
      "_md5                deb822              olefile             talloc\n",
      "_multibytecodec     debconf             opcode              tarfile\n",
      "_multiprocessing    debian              openpyxl            telnetlib\n",
      "_opcode             debian_bundle       operator            tempfile\n",
      "_operator           decimal             optparse            terminado\n",
      "_osx_support        decorator           orca                termios\n",
      "_pickle             defer               os                  test\n",
      "_posixshmem         defusedxml          ossaudiodev         testpath\n",
      "_posixsubprocess    difflib             packaging           tests\n",
      "_py_abc             dis                 pandas              textwrap\n",
      "_pydecimal          distro              pandocfilters       this\n",
      "_pyio               distro_info         paramiko            threading\n",
      "_pyrsistent_version distutils           parser              threadpoolctl\n",
      "_pytest             doctest             parso               time\n",
      "_queue              dummy_threading     past                timeit\n",
      "_random             duplicity           pathlib             tkinter\n",
      "_sha1               easy_install        patsy               token\n",
      "_sha256             email               pcardext            tokenize\n",
      "_sha3               encodings           pdb                 tornado\n",
      "_sha512             entrypoints         pexpect             trace\n",
      "_signal             enum                pickle              traceback\n",
      "_sitebuiltins       errno               pickleshare         tracemalloc\n",
      "_socket             et_xmlfile          pickletools         traitlets\n",
      "_sqlite3            fasteners           pip                 tty\n",
      "_sre                faulthandler        pipes               turtle\n",
      "_ssl                fcntl               pkg_resources       types\n",
      "_stat               filecmp             pkgutil             typing\n",
      "_statistics         fileinput           platform            uaclient\n",
      "_string             fnmatch             plistlib            ufw\n",
      "_strptime           formatter           pluggy              unicodedata\n",
      "_struct             fractions           poplib              unittest\n",
      "_symtable           ftplib              posix               uno\n",
      "_sysconfigdata__linux_x86_64-linux-gnu functools           posixpath           unohelper\n",
      "_sysconfigdata__x86_64-linux-gnu future              pprint              urllib\n",
      "_testbuffer         gc                  problem_report      urllib3\n",
      "_testcapi           genericpath         profile             usbcreator\n",
      "_testimportmultiple getopt              prometheus_client   uu\n",
      "_testinternalcapi   getpass             prompt_toolkit      uuid\n",
      "_testmultiphase     gettext             pstats              venv\n",
      "_thread             gi                  pty                 wadllib\n",
      "_threading_local    glob                ptyprocess          warnings\n",
      "_tkinter            grp                 pvectorc            wave\n",
      "_tracemalloc        gzip                pwd                 wcwidth\n",
      "_uuid               hashlib             py                  weakref\n",
      "_warnings           heapq               py_compile          webbrowser\n",
      "_weakref            hmac                pyatspi             webencodings\n",
      "_weakrefset         hpmudext            pyclbr              wheel\n",
      "_xxsubinterpreters  html                pydoc               widgetsnbextension\n",
      "_xxtestfuzz         html5lib            pydoc_data          wsgiref\n",
      "_yaml               http                pyexpat             xdg\n",
      "abc                 httplib2            pygments            xdrlib\n",
      "aifc                idna                pygtkcompat         xkit\n",
      "antigravity         imaplib             pylab               xlrd\n",
      "apport              imghdr              pymacaroons         xlwt\n",
      "apport_python_hook  imp                 pyparsing           xml\n",
      "apt                 importlib           pyrfc3339           xmlrpc\n",
      "apt_inst            importlib_metadata  pyrsistent          xxlimited\n",
      "apt_pkg             inspect             pytest              xxsubtype\n",
      "aptdaemon           io                  pytz                yaml\n",
      "aptsources          ipaddress           queue               zipapp\n",
      "argparse            ipykernel           quopri              zipfile\n",
      "array               ipykernel_launcher  random              zipimport\n",
      "ast                 ipython_genutils    re                  zipp\n",
      "asynchat            ipywidgets          readline            zlib\n",
      "asyncio             itertools           reportlab           zmq\n",
      "asyncore            janitor             reprlib             \n",
      "\n",
      "Enter any module name to get more help.  Or, type \"modules spam\" to search\n",
      "for modules whose name or summary contain the string \"spam\".\n",
      "\n",
      "None\n"
     ]
    },
    {
     "name": "stderr",
     "output_type": "stream",
     "text": [
      "/usr/lib/python3.8/pkgutil.py:107: VisibleDeprecationWarning: zmq.eventloop.minitornado is deprecated in pyzmq 14.0 and will be removed.\n",
      "    Install tornado itself to use zmq with the tornado IOLoop.\n",
      "    \n",
      "  yield from walk_packages(path, info.name+'.', onerror)\n"
     ]
    }
   ],
   "source": [
    "print (help('modules') )\n"
   ]
  },
  {
   "cell_type": "markdown",
   "metadata": {},
   "source": [
    "`pip` is a special package. It is used from the command line to install properly (e.g. matching the version of the local packages) new packages. It can also be used from within python to check i.e. the set installed packages and their versions. N.B.: only the installed packages on top of the default ones will be listed "
   ]
  },
  {
   "cell_type": "code",
   "execution_count": 3,
   "metadata": {},
   "outputs": [],
   "source": [
    "import pip\n",
    "#sorted([\"%s==%s\" % (i.key, i.version) for i in pip.get_installed_distributions()])"
   ]
  },
  {
   "cell_type": "markdown",
   "metadata": {},
   "source": [
    "# Functions"
   ]
  },
  {
   "cell_type": "code",
   "execution_count": 4,
   "metadata": {},
   "outputs": [
    {
     "name": "stdout",
     "output_type": "stream",
     "text": [
      "9\n",
      "27\n",
      "cube 27\n",
      "square 9\n"
     ]
    }
   ],
   "source": [
    "def square(x):\n",
    "    \"\"\"Square of x.\"\"\"\n",
    "    return x*x\n",
    "\n",
    "def cube(x):\n",
    "    \"\"\"Cube of x.\"\"\"\n",
    "    return x*x*x\n",
    "\n",
    "# create a dictionary of functions\n",
    "funcs = {\n",
    "    'square': square,\n",
    "    'cube': cube,\n",
    "}\n",
    "\n",
    "x = 3\n",
    "print(square(x))\n",
    "print(cube(x))\n",
    "\n",
    "for func in sorted(funcs):\n",
    "    print (func, funcs[func](x))"
   ]
  },
  {
   "cell_type": "markdown",
   "metadata": {},
   "source": [
    "## Functions arguments"
   ]
  },
  {
   "cell_type": "markdown",
   "metadata": {},
   "source": [
    "What is passsed to a function is a copy of the input. Imagine we have a list *x =[1, 2, 3]*, i.e. a mutable object. If within the function the content of *x* is directly changed (e.g. *x[0] = 999*), then *x* changes outside the funciton as well. "
   ]
  },
  {
   "cell_type": "code",
   "execution_count": 5,
   "metadata": {},
   "outputs": [
    {
     "name": "stdout",
     "output_type": "stream",
     "text": [
      "[1, 2, 3]\n",
      "[999, 2, 3]\n",
      "[999, 2, 3]\n"
     ]
    }
   ],
   "source": [
    "def modify(x):\n",
    "    x[0] = 999\n",
    "    return x\n",
    "\n",
    "x = [1,2,3]\n",
    "print (x)\n",
    "print (modify(x))\n",
    "print (x)"
   ]
  },
  {
   "cell_type": "markdown",
   "metadata": {},
   "source": [
    "However, if *x* is reassigned within the function to a new object (e.g. another list), then the copy of the name *x* now points to the new object, but *x* outside the function is unhcanged."
   ]
  },
  {
   "cell_type": "code",
   "execution_count": 6,
   "metadata": {},
   "outputs": [
    {
     "name": "stdout",
     "output_type": "stream",
     "text": [
      "[1, 2, 3]\n",
      "[4, 5, 6]\n",
      "[1, 2, 3]\n"
     ]
    }
   ],
   "source": [
    "def no_modify(x):\n",
    "    x = [4,5,6]\n",
    "    return x\n",
    "\n",
    "x = [1,2,3]\n",
    "print (x)\n",
    "print (no_modify(x))\n",
    "print (x)\n"
   ]
  },
  {
   "cell_type": "markdown",
   "metadata": {},
   "source": [
    "What if the function tries to modify the value of an immutable object?"
   ]
  },
  {
   "cell_type": "markdown",
   "metadata": {},
   "source": [
    "Binding of default arguments occurs at function definition:"
   ]
  },
  {
   "cell_type": "code",
   "execution_count": 7,
   "metadata": {},
   "outputs": [
    {
     "name": "stdout",
     "output_type": "stream",
     "text": [
      "[1]\n",
      "[1, 1]\n",
      "[9, 9, 9, 1]\n",
      "[1, 1, 1]\n",
      "[1, 1, 1, 1]\n"
     ]
    }
   ],
   "source": [
    "def f(x = []):\n",
    "    x.append(1)\n",
    "    return x\n",
    "\n",
    "print (f())\n",
    "print (f())\n",
    "print (f(x = [9,9,9]))\n",
    "print (f())\n",
    "print (f())"
   ]
  },
  {
   "cell_type": "markdown",
   "metadata": {},
   "source": [
    "Try to aviod that!!"
   ]
  },
  {
   "cell_type": "code",
   "execution_count": 8,
   "metadata": {},
   "outputs": [
    {
     "name": "stdout",
     "output_type": "stream",
     "text": [
      "[1]\n",
      "[1]\n",
      "[9, 9, 9, 1]\n",
      "[1]\n",
      "[1]\n"
     ]
    }
   ],
   "source": [
    "def f(x = None):\n",
    "    if x is None:\n",
    "        x = []\n",
    "    x.append(1)\n",
    "    return x\n",
    "\n",
    "print (f())\n",
    "print (f())\n",
    "print (f(x = [9,9,9]))\n",
    "print (f())\n",
    "print (f())"
   ]
  },
  {
   "cell_type": "markdown",
   "metadata": {},
   "source": [
    "## Higher order functions\n",
    "\n",
    "A function that uses another function as an input argument or returns a function is known as a higher-order function (HOF). The most familiar examples are `map` and `filter`."
   ]
  },
  {
   "cell_type": "markdown",
   "metadata": {},
   "source": [
    "### map\n",
    "\n",
    "The map function applies a function to each member of a collection"
   ]
  },
  {
   "cell_type": "code",
   "execution_count": 9,
   "metadata": {},
   "outputs": [
    {
     "name": "stdout",
     "output_type": "stream",
     "text": [
      "[0, 1, 4, 9, 16]\n",
      "0\n",
      "1\n",
      "4\n",
      "9\n",
      "16\n"
     ]
    }
   ],
   "source": [
    "x = list(map(square, range(5))) \n",
    "print (x)\n",
    "\n",
    "# Note the difference w.r.t python 2. In python 3 map retuns an iterator so you can do stuff like:\n",
    "for i in map(square,range(5)): print(i)"
   ]
  },
  {
   "cell_type": "markdown",
   "metadata": {},
   "source": [
    "### filter\n",
    "\n",
    "The filter function applies a predicate to each memmber of a collection, retaining only those members where the predicate is True"
   ]
  },
  {
   "cell_type": "code",
   "execution_count": 10,
   "metadata": {},
   "outputs": [
    {
     "name": "stdout",
     "output_type": "stream",
     "text": [
      "[0, 2, 4]\n"
     ]
    }
   ],
   "source": [
    "def is_even(x):\n",
    "    return x%2 == 0\n",
    "\n",
    "print (list(filter(is_even, range(5))))"
   ]
  },
  {
   "cell_type": "code",
   "execution_count": 11,
   "metadata": {},
   "outputs": [
    {
     "data": {
      "text/plain": [
       "[0, 4, 16]"
      ]
     },
     "execution_count": 11,
     "metadata": {},
     "output_type": "execute_result"
    }
   ],
   "source": [
    "list(map(square, filter(is_even, range(5))))\n"
   ]
  },
  {
   "cell_type": "markdown",
   "metadata": {},
   "source": [
    "### reduce\n",
    "\n",
    "The reduce function reduces a collection using a binary operator to combine items two at a time. More often than not reduce can be substituted with a more efficient for loop. It is worth mentioning it for its key role in big-data applications together with map (the map-reduce paradigm). \n",
    "N.B.: it no loger exist as built-in function in python 3, it is now part of the `functools` library"
   ]
  },
  {
   "cell_type": "code",
   "execution_count": 12,
   "metadata": {},
   "outputs": [
    {
     "data": {
      "text/plain": [
       "15"
      ]
     },
     "execution_count": 12,
     "metadata": {},
     "output_type": "execute_result"
    }
   ],
   "source": [
    "from functools import reduce\n",
    "\n",
    "def my_add(x, y):\n",
    "    return x + y\n",
    "\n",
    "# another implementation of the sum function\n",
    "reduce(my_add, [1,2,3,4,5])"
   ]
  },
  {
   "cell_type": "markdown",
   "metadata": {},
   "source": [
    "### zip\n",
    "\n",
    "zip is useful when you need to iterate over matched elements of multiple lists"
   ]
  },
  {
   "cell_type": "code",
   "execution_count": 13,
   "metadata": {},
   "outputs": [
    {
     "name": "stdout",
     "output_type": "stream",
     "text": [
      "1 10 a\n",
      "2 20 b\n",
      "3 30 c\n",
      "4 40 d\n"
     ]
    }
   ],
   "source": [
    "xs = [1, 2, 3, 4]\n",
    "ys = [10, 20, 30, 40]\n",
    "zs = ['a', 'b', 'c', 'd', 'e']\n",
    "\n",
    "for x, y, z in zip(xs, ys, zs):\n",
    "    print (x, y, z)"
   ]
  },
  {
   "cell_type": "markdown",
   "metadata": {},
   "source": [
    "### Custom HOF"
   ]
  },
  {
   "cell_type": "code",
   "execution_count": 14,
   "metadata": {},
   "outputs": [
    {
     "name": "stdout",
     "output_type": "stream",
     "text": [
      "30\n",
      "100\n"
     ]
    }
   ],
   "source": [
    "def custom_sum(xs, transform):\n",
    "    \"\"\"Returns the sum of xs after a user specified transform.\"\"\"\n",
    "    return sum(map(transform, xs))\n",
    "\n",
    "xs = range(5)\n",
    "print (custom_sum(xs, square))\n",
    "print (custom_sum(xs, cube))\n",
    "\n"
   ]
  },
  {
   "cell_type": "markdown",
   "metadata": {},
   "source": [
    "### Returning a function"
   ]
  },
  {
   "cell_type": "code",
   "execution_count": 15,
   "metadata": {},
   "outputs": [],
   "source": [
    "def make_logger(target):\n",
    "    def logger(data):\n",
    "        with open(target, 'a') as f:\n",
    "            f.write(data + '\\n')\n",
    "    return logger\n",
    "\n",
    "foo_logger = make_logger('foo.txt') #foo.txt will be created if not there already\n",
    "foo_logger('Hello')\n",
    "foo_logger('World')"
   ]
  },
  {
   "cell_type": "code",
   "execution_count": 16,
   "metadata": {},
   "outputs": [
    {
     "name": "stdout",
     "output_type": "stream",
     "text": [
      "Hello\r\n",
      "World\r\n",
      "Hello\r\n",
      "World\r\n",
      "Hello\r\n",
      "World\r\n"
     ]
    }
   ],
   "source": [
    "! cat 'foo.txt'"
   ]
  },
  {
   "cell_type": "markdown",
   "metadata": {},
   "source": [
    "## Anonimous functions (lambda)\n",
    "\n",
    "When using functional style, there is often the need to create specific functions that perform a limited task as input to a HOF such as map or filter. In such cases, these functions are often written as anonymous or lambda functions. \n",
    "The syntax is as follows:\n",
    "\n",
    "lambda *arguments* : *expression*\n",
    "\n",
    "\n",
    "If you find it hard to understand what a lambda function is doing, it should probably be rewritten as a regular function."
   ]
  },
  {
   "cell_type": "code",
   "execution_count": 17,
   "metadata": {},
   "outputs": [
    {
     "data": {
      "text/plain": [
       "7"
      ]
     },
     "execution_count": 17,
     "metadata": {},
     "output_type": "execute_result"
    }
   ],
   "source": [
    "sum = lambda x,y: x+y\n",
    "sum(3,4)"
   ]
  },
  {
   "cell_type": "code",
   "execution_count": 18,
   "metadata": {},
   "outputs": [
    {
     "name": "stdout",
     "output_type": "stream",
     "text": [
      "0\n",
      "1\n",
      "4\n",
      "9\n",
      "16\n"
     ]
    }
   ],
   "source": [
    "for i in map(lambda x: x*x, range(5)): print (i)"
   ]
  },
  {
   "cell_type": "code",
   "execution_count": 19,
   "metadata": {},
   "outputs": [
    {
     "name": "stdout",
     "output_type": "stream",
     "text": [
      "285\n"
     ]
    }
   ],
   "source": [
    "# what does this function do?\n",
    "from functools import reduce\n",
    "s1 = reduce(lambda x, y: x+y, map(lambda x: x**2, range(1,10)))\n",
    "print(s1)\n"
   ]
  },
  {
   "cell_type": "markdown",
   "metadata": {},
   "source": [
    "## Recursive functions "
   ]
  },
  {
   "cell_type": "code",
   "execution_count": 20,
   "metadata": {},
   "outputs": [
    {
     "name": "stdout",
     "output_type": "stream",
     "text": [
      "[1, 1, 2, 3, 5, 8, 13, 21, 34, 55]\n"
     ]
    }
   ],
   "source": [
    "def fib1(n):\n",
    "    \"\"\"Fib with recursion.\"\"\"\n",
    "\n",
    "    # base case\n",
    "    if n==0 or n==1:\n",
    "        return 1\n",
    "    # recurssive case\n",
    "    else:\n",
    "        return fib1(n-1) + fib1(n-2)\n",
    "\n",
    "    \n",
    "print ([fib1(i) for i in range(10)])"
   ]
  },
  {
   "cell_type": "code",
   "execution_count": 21,
   "metadata": {},
   "outputs": [
    {
     "name": "stdout",
     "output_type": "stream",
     "text": [
      "[1, 1, 2, 3, 5, 8, 13, 21, 34, 55]\n"
     ]
    }
   ],
   "source": [
    "# In Python, a more efficient version that does not use recursion is\n",
    "\n",
    "def fib2(n):\n",
    "    \"\"\"Fib without recursion.\"\"\"\n",
    "    a, b = 0, 1\n",
    "    for i in range(1, n+1):\n",
    "        a, b = b, a+b\n",
    "    return b\n",
    "\n",
    "print ([fib2(i) for i in range(10)])"
   ]
  },
  {
   "cell_type": "code",
   "execution_count": 22,
   "metadata": {},
   "outputs": [
    {
     "name": "stdout",
     "output_type": "stream",
     "text": [
      "1.89 ms ± 27.6 µs per loop (mean ± std. dev. of 7 runs, 1000 loops each)\n",
      "833 ns ± 1.64 ns per loop (mean ± std. dev. of 7 runs, 1000000 loops each)\n"
     ]
    }
   ],
   "source": [
    "# check indeed the timing:\n",
    "\n",
    "%timeit fib1(20)\n",
    "%timeit fib2(20)\n"
   ]
  },
  {
   "cell_type": "markdown",
   "metadata": {},
   "source": [
    "## Iterators\n",
    "\n",
    "Iterators represent streams of values. Because only one value is consumed at a time, they use very little memory. Use of iterators is very helpful for working with data sets too large to fit into RAM."
   ]
  },
  {
   "cell_type": "code",
   "execution_count": 23,
   "metadata": {},
   "outputs": [
    {
     "name": "stdout",
     "output_type": "stream",
     "text": [
      "1\n",
      "2\n",
      "3\n"
     ]
    }
   ],
   "source": [
    "# Iterators can be created from sequences with the built-in function iter()\n",
    "\n",
    "xs = [1,2,3]\n",
    "x_iter = iter(xs)\n",
    "\n",
    "print (next(x_iter))\n",
    "print (next(x_iter))\n",
    "print (next(x_iter))\n",
    "#print (next(x_iter))"
   ]
  },
  {
   "cell_type": "code",
   "execution_count": 24,
   "metadata": {},
   "outputs": [
    {
     "name": "stdout",
     "output_type": "stream",
     "text": [
      "1\n",
      "2\n",
      "3\n"
     ]
    }
   ],
   "source": [
    "# Most commonly, iterators are used (automatically) within a for loop\n",
    "# which terminates when it encouters a StopIteration exception\n",
    "\n",
    "x_iter = iter(xs)\n",
    "for x in x_iter:\n",
    "    print (x)"
   ]
  },
  {
   "cell_type": "markdown",
   "metadata": {},
   "source": [
    "## More on comprehensions"
   ]
  },
  {
   "cell_type": "code",
   "execution_count": 25,
   "metadata": {},
   "outputs": [
    {
     "name": "stdout",
     "output_type": "stream",
     "text": [
      "<generator object <genexpr> at 0x7f9f7dd2c040>\n",
      "[0, 1, 2, 3, 4, 5, 6, 7, 8, 9]\n",
      "{0, 1, 2, 3, 4, 5, 6, 7, 8, 9}\n",
      "{0: 0, 1: 1, 2: 2, 3: 3, 4: 4, 5: 5, 6: 6, 7: 7, 8: 8, 9: 9}\n"
     ]
    }
   ],
   "source": [
    "# A generator expression\n",
    "\n",
    "print ((x for x in range(10)))\n",
    "\n",
    "# A list comprehesnnion\n",
    "\n",
    "print ([x for x in range(10)])\n",
    "\n",
    "# A set comprehension\n",
    "\n",
    "print ({x for x in range(10)})\n",
    "\n",
    "# A dictionary comprehension\n",
    "\n",
    "print ({x: x for x in range(10)})"
   ]
  },
  {
   "cell_type": "markdown",
   "metadata": {},
   "source": [
    "## Useful Modules\n",
    "\n",
    "You may want to have a look at the content of the following modules for further usage of (HO) functions:\n",
    "  - [operator](https://docs.python.org/3/library/operator.html)\n",
    "  - [functools](https://docs.python.org/3/library/functools.html)\n",
    "  - [itertools](https://docs.python.org/3/library/itertools.html)\n",
    "  - [toolz](https://pypi.org/project/toolz/)\n",
    "  - [funcy](https://pypi.org/project/funcy/)"
   ]
  },
  {
   "cell_type": "markdown",
   "metadata": {},
   "source": [
    "## Decorators\n",
    "\n",
    "Decorators are a type of HOF that take a function and return a wrapped function that provides additional useful properties.\n",
    "\n",
    "Examples:\n",
    "\n",
    "  - logging\n",
    "  - profiling\n",
    "  - Just-In-Time (JIT) compilation"
   ]
  },
  {
   "cell_type": "code",
   "execution_count": 26,
   "metadata": {},
   "outputs": [],
   "source": [
    "def my_decorator(func):\n",
    "    def wrapper():\n",
    "        print(\"Something is happening before the function is called.\")\n",
    "        func()\n",
    "        print(\"Something is happening after the function is called.\")\n",
    "    return wrapper\n",
    "\n",
    "def say_whee():\n",
    "    print(\"Whee!\")\n",
    "\n",
    "say_whee = my_decorator(say_whee)"
   ]
  },
  {
   "cell_type": "code",
   "execution_count": 27,
   "metadata": {},
   "outputs": [
    {
     "name": "stdout",
     "output_type": "stream",
     "text": [
      "Something is happening before the function is called.\n",
      "Whee!\n",
      "Something is happening after the function is called.\n"
     ]
    }
   ],
   "source": [
    "say_whee()"
   ]
  },
  {
   "cell_type": "markdown",
   "metadata": {},
   "source": [
    "Python allows you to use decorators in a simpler way with the @ symbol, sometimes called the “pie” syntax"
   ]
  },
  {
   "cell_type": "code",
   "execution_count": 28,
   "metadata": {},
   "outputs": [],
   "source": [
    "def my_decorator(func):\n",
    "    def wrapper():\n",
    "        print(\"Something is happening before the function is called.\")\n",
    "        func()\n",
    "        print(\"Something is happening after the function is called.\")\n",
    "    return wrapper\n",
    "\n",
    "@my_decorator\n",
    "def say_whee():\n",
    "    print(\"Whee!\")"
   ]
  },
  {
   "cell_type": "code",
   "execution_count": 29,
   "metadata": {},
   "outputs": [
    {
     "name": "stdout",
     "output_type": "stream",
     "text": [
      "Something is happening before the function is called.\n",
      "Whee!\n",
      "Something is happening after the function is called.\n"
     ]
    }
   ],
   "source": [
    "say_whee()"
   ]
  },
  {
   "cell_type": "markdown",
   "metadata": {},
   "source": [
    "# Classes and Objects\n",
    "\n",
    "Old school object-oriented programming is possible and often used in python. Classes are defined similarly to standard object-oriented languages, with similar functionalities.\n",
    "\n",
    "The main python doc [page](https://docs.python.org/3.6/tutorial/classes.html) is worth reading through "
   ]
  },
  {
   "cell_type": "code",
   "execution_count": 30,
   "metadata": {},
   "outputs": [
    {
     "name": "stdout",
     "output_type": "stream",
     "text": [
      "buddy 12\n",
      "3\n"
     ]
    }
   ],
   "source": [
    "class Pet:\n",
    "    # the \"constructor\"\n",
    "    def __init__(self, name, age):  #inizialize the elements of the class\n",
    "        self.name=name\n",
    "        self.age=age\n",
    "    # class functions take the \"self\" parameter !!!\n",
    "    def set_name(self,name):\n",
    "        self.name=name\n",
    "    def convert_age(self,factor):\n",
    "        self.age*=factor\n",
    "\n",
    "buddy=Pet(\"buddy\",12)\n",
    "print (buddy.name, buddy.age)\n",
    "buddy.age=3\n",
    "print (buddy.age)\n",
    "\n"
   ]
  },
  {
   "cell_type": "code",
   "execution_count": 31,
   "metadata": {},
   "outputs": [
    {
     "name": "stdout",
     "output_type": "stream",
     "text": [
      "tobia\n",
      "70\n"
     ]
    }
   ],
   "source": [
    "# ineritance is straightforward\n",
    "class Dog(Pet):\n",
    "    # the following variables is \"global\", i.e. holds for all \"Dog\" objects\n",
    "    species = \"mammal\"\n",
    "    # functions can be redefined as usual\n",
    "    def convert_age(self):\n",
    "        self.age*=7\n",
    "    def set_species(self, species):\n",
    "        self.species = species\n",
    "        \n",
    "puppy=Dog(\"tobia\",10)\n",
    "print(puppy.name)\n",
    "puppy.convert_age()\n",
    "print(puppy.age)\n",
    "\n"
   ]
  },
  {
   "cell_type": "code",
   "execution_count": null,
   "metadata": {},
   "outputs": [],
   "source": []
  }
 ],
 "metadata": {
  "kernelspec": {
   "display_name": "Python 3",
   "language": "python",
   "name": "python3"
  },
  "language_info": {
   "codemirror_mode": {
    "name": "ipython",
    "version": 3
   },
   "file_extension": ".py",
   "mimetype": "text/x-python",
   "name": "python",
   "nbconvert_exporter": "python",
   "pygments_lexer": "ipython3",
   "version": "3.8.5"
  }
 },
 "nbformat": 4,
 "nbformat_minor": 2
}
