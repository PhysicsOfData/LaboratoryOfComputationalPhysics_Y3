{
 "cells": [
  {
   "cell_type": "markdown",
   "metadata": {},
   "source": [
    "# Modules/packages/libraries\n",
    "\n",
    "Definitions:\n",
    "\n",
    "  * Modules:\n",
    "  A module is a file which contains python functions, global variables etc. It is nothing but .py file which has python executable code / statement.\n",
    "\n",
    "  * Packages:\n",
    "  A package is namespace which contains multiple modules. It is a directory which contains a special file `__init__.py`(says that there's a package and there would be modules inside it)\n",
    "  \n",
    "  * Libraries:\n",
    "  A library is a collection of various packages and modules. There is no difference between package and python library conceptually.\n",
    "  \n",
    "Modules/packages/libraries can be easily \"imported\" and made functional in your python code. A set of libriaries comes with every python installation. Others can be installed locally and then imported. Your own code sitting somewhere else in your local computer can be imported too.\n",
    "\n",
    "Further details (very important!) on packages and how to create them can be found online. We may find the need of creating our own during the course.\n",
    "\n",
    "Comment: a script = module but w/ output->run directly; module= only func def->only imported"
   ]
  },
  {
   "cell_type": "code",
   "execution_count": 1,
   "metadata": {},
   "outputs": [
    {
     "name": "stdout",
     "output_type": "stream",
     "text": [
      "3.141592653589793\n",
      "3.141592653589793\n",
      "3.141592653589793\n",
      "2.6457513110645907\n"
     ]
    }
   ],
   "source": [
    "###### all the \"stuff\" that is in the math library can be used\n",
    "import math\n",
    "print(math.pi)\n",
    "\n",
    "# you can give math a label for convenience\n",
    "import math as m\n",
    "print (m.pi)\n",
    "\n",
    "# THIS: alternatively you can import only a given \"thing\" from the library\n",
    "from math import pi    #you can add several libraries at once, just list them separated by a \", \"\n",
    "print (pi)\n",
    "\n",
    "# or just import everything (clashes code-variable + math-variables very dangerous!!!)\n",
    "from math import *\n",
    "print (sqrt(7))"
   ]
  },
  {
   "cell_type": "markdown",
   "metadata": {},
   "source": [
    "To know which modules are there for you to use just type:"
   ]
  },
  {
   "cell_type": "code",
   "execution_count": 1,
   "metadata": {},
   "outputs": [
    {
     "name": "stdout",
     "output_type": "stream",
     "text": [
      "\n",
      "Please wait a moment while I gather a list of all available modules...\n",
      "\n"
     ]
    },
    {
     "name": "stderr",
     "output_type": "stream",
     "text": [
      "/home/hal20/anaconda3/lib/python3.8/site-packages/IPython/kernel/__init__.py:12: ShimWarning: The `IPython.kernel` package has been deprecated since IPython 4.0.You should import from ipykernel or jupyter_client instead.\n",
      "  warn(\"The `IPython.kernel` package has been deprecated since IPython 4.0.\"\n",
      "/home/hal20/anaconda3/lib/python3.8/site-packages/nltk/twitter/__init__.py:21: UserWarning: The twython library has not been installed. Some functionality from the twitter package will not be available.\n",
      "  warnings.warn(\n",
      "/home/hal20/anaconda3/lib/python3.8/site-packages/setuptools/distutils_patch.py:25: UserWarning: Distutils was imported before Setuptools. This usage is discouraged and may exhibit undesirable behaviors or errors. Please use Setuptools' objects directly or at least import Setuptools first.\n",
      "  warnings.warn(\n",
      "/home/hal20/anaconda3/lib/python3.8/site-packages/skimage/viewer/utils/__init__.py:1: UserWarning: Recommended matplotlib backend is `Agg` for full skimage.viewer functionality.\n",
      "  from .core import *\n",
      "/home/hal20/anaconda3/lib/python3.8/site-packages/qtawesome/iconic_font.py:312: UserWarning: You need to have a running QApplication to use QtAwesome!\n",
      "  warnings.warn(\"You need to have a running \"\n",
      "/home/hal20/anaconda3/lib/python3.8/pkgutil.py:107: VisibleDeprecationWarning: zmq.eventloop.minitornado is deprecated in pyzmq 14.0 and will be removed.\n",
      "    Install tornado itself to use zmq with the tornado IOLoop.\n",
      "    \n",
      "  yield from walk_packages(path, info.name+'.', onerror)\n"
     ]
    },
    {
     "name": "stdout",
     "output_type": "stream",
     "text": [
      "Cython              brain_numpy_core_multiarray jupyter_console     rmagic\n",
      "IPython             brain_numpy_core_numeric jupyter_core        rope\n",
      "OpenSSL             brain_numpy_core_numerictypes jupyterlab          rsa\n",
      "PIL                 brain_numpy_core_umath jupyterlab_server   rtree\n",
      "PyQt5               brain_numpy_ndarray jupytext            ruamel_yaml\n",
      "XRootD              brain_numpy_random_mtrand jwt                 runpy\n",
      "__future__          brain_numpy_utils   keras_preprocessing sched\n",
      "_abc                brain_pkg_resources keyring             schema\n",
      "_ast                brain_pytest        keyword             scipy\n",
      "_asyncio            brain_qt            kiwisolver          scripts\n",
      "_bisect             brain_random        lazy_object_proxy   seaborn\n",
      "_blake2             brain_re            lib2to3             secrets\n",
      "_bootlocale         brain_responses     libarchive          secretstorage\n",
      "_bz2                brain_scipy_signal  libfuturize         select\n",
      "_cffi_backend       brain_six           libpasteurize       selectors\n",
      "_codecs             brain_ssl           lief                send2trash\n",
      "_codecs_cn          brain_subprocess    linecache           setuptools\n",
      "_codecs_hk          brain_threading     llvmlite            shelve\n",
      "_codecs_iso2022     brain_typing        locale              shlex\n",
      "_codecs_jp          brain_uuid          locket              shutil\n",
      "_codecs_kr          brotli              logging             signal\n",
      "_codecs_tw          bs4                 lxml                simplegeneric\n",
      "_collections        bson                lz4                 simplejson\n",
      "_collections_abc    builtins            lzma                singledispatch\n",
      "_compat_pickle      bz2                 mailbox             singledispatch_helpers\n",
      "_compression        cProfile            mailcap             sip\n",
      "_contextvars        cachetools          markdown            sipconfig\n",
      "_crypt              caffe2              markdown_it         sipdistutils\n",
      "_csv                calendar            markupsafe          site\n",
      "_ctypes             certifi             marshal             six\n",
      "_ctypes_test        cffi                math                skimage\n",
      "_curses             cgi                 matplotlib          sklearn\n",
      "_curses_panel       cgitb               mccabe              smtpd\n",
      "_datetime           chardet             mimetypes           smtplib\n",
      "_decimal            chunk               mistune             sndhdr\n",
      "_dummy_thread       click               mkl                 snowballstemmer\n",
      "_elementtree        cloudpickle         mkl_fft             socket\n",
      "_functools          clyent              mkl_random          socketserver\n",
      "_hashlib            cmath               mmap                socks\n",
      "_heapq              cmd                 mock                sockshandler\n",
      "_imp                code                modulefinder        sortedcollections\n",
      "_io                 codecs              more_itertools      sortedcontainers\n",
      "_json               codeop              mpmath              soupsieve\n",
      "_locale             collections         msgpack             sphinx\n",
      "_lsprof             colorama            multidict           sphinxcontrib\n",
      "_lzma               colorsys            multipledispatch    spwd\n",
      "_markupbase         compileall          multiprocessing     spyder\n",
      "_md5                concurrent          navigator_updater   spyder_kernels\n",
      "_multibytecodec     conda               nbconvert           sqlalchemy\n",
      "_multiprocessing    conda_build         nbformat            sqlite3\n",
      "_opcode             conda_env           netifaces           sre_compile\n",
      "_operator           conda_package_handling netrc               sre_constants\n",
      "_osx_support        conda_verify        networkx            sre_parse\n",
      "_pickle             configparser        nis                 ssl\n",
      "_posixshmem         contextlib          nltk                stat\n",
      "_posixsubprocess    contextlib2         nni                 statistics\n",
      "_py_abc             contextvars         nni_annotation      statsmodels\n",
      "_pydecimal          copy                nni_cmd             storemagic\n",
      "_pyio               copyreg             nni_gpu_tool        string\n",
      "_pyrsistent_version coverage            nni_trial_tool      stringprep\n",
      "_pytest             crypt               nnicli              struct\n",
      "_queue              cryptography        nntplib             subprocess\n",
      "_random             csv                 nose                sunau\n",
      "_sha1               ctypes              notebook            symbol\n",
      "_sha256             curl                ntpath              sympy\n",
      "_sha3               curses              nturl2path          sympyprinting\n",
      "_sha512             cycler              numba               symtable\n",
      "_signal             cython              numbers             sys\n",
      "_sitebuiltins       cythonmagic         numexpr             sysconfig\n",
      "_socket             cytoolz             numpy               syslog\n",
      "_sqlite3            dask                numpydoc            tables\n",
      "_sre                dataclasses         oauthlib            tabnanny\n",
      "_ssl                datetime            olefile             tarfile\n",
      "_stat               dateutil            opcode              tblib\n",
      "_statistics         dbm                 openpyxl            telnetlib\n",
      "_string             decimal             operator            tempfile\n",
      "_strptime           decorator           opt_einsum          tensorboard\n",
      "_struct             defusedxml          optparse            tensorboard_plugin_wit\n",
      "_symtable           diff_match_patch    os                  tensorflow\n",
      "_sysconfigdata__linux_x86_64-linux-gnu difflib             ossaudiodev         tensorflow_estimator\n",
      "_sysconfigdata_aarch64_conda_cos7_linux_gnu dis                 packaging           termcolor\n",
      "_sysconfigdata_i686_conda_cos6_linux_gnu distributed         pandas              terminado\n",
      "_sysconfigdata_powerpc64le_conda_cos7_linux_gnu distutils           pandocfilters       termios\n",
      "_sysconfigdata_x86_64_apple_darwin13_4_0 doctest             parser              test\n",
      "_sysconfigdata_x86_64_conda_cos6_linux_gnu docutils            parso               test_data\n",
      "_testbuffer         dummy_threading     partd               test_pycosat\n",
      "_testcapi           easy_install        past                testpath\n",
      "_testimportmultiple email               pasta               tests\n",
      "_testinternalcapi   encodings           path                textwrap\n",
      "_testmultiphase     ensurepip           pathlib             this\n",
      "_thread             entrypoints         pathlib2            threading\n",
      "_threading_local    enum                pathtools           threadpoolctl\n",
      "_tkinter            errno               patsy               time\n",
      "_tracemalloc        et_xmlfile          pdb                 timeit\n",
      "_warnings           fastcache           pep8                tkinter\n",
      "_weakref            faulthandler        pexpect             tlz\n",
      "_weakrefset         fcntl               pickle              token\n",
      "_xxsubinterpreters  filecmp             pickleshare         tokenize\n",
      "_xxtestfuzz         fileinput           pickletools         toml\n",
      "_yaml               filelock            pip                 toolz\n",
      "_zstd_cffi          flake8              pipes               torch\n",
      "abc                 flask               pkg_resources       torchvision\n",
      "absl                fnmatch             pkginfo             tornado\n",
      "aifc                formatter           pkgutil             tqdm\n",
      "aiohttp             fractions           platform            trace\n",
      "alabaster           fsspec              plistlib            traceback\n",
      "anaconda_navigator  ftplib              pluggy              tracemalloc\n",
      "anaconda_project    functools           ply                 traitlets\n",
      "antigravity         future              poplib              tty\n",
      "argh                gast                posix               turtle\n",
      "argparse            gc                  posixpath           turtledemo\n",
      "array               genericpath         pprint              types\n",
      "asn1crypto          getopt              profile             typing\n",
      "ast                 getpass             prometheus_client   typing_extensions\n",
      "astor               gettext             prompt_toolkit      ujson\n",
      "astroid             gevent              pstats              unicodecsv\n",
      "astropy             glob                psutil              unicodedata\n",
      "astunparse          glob2               pty                 unittest\n",
      "async_timeout       gmpy2               ptyprocess          uproot\n",
      "asynchat            google_auth_oauthlib pvectorc            uproot_methods\n",
      "asyncio             greenlet            pwd                 urllib\n",
      "asyncore            gridfs              py                  urllib3\n",
      "atexit              grp                 py_compile          uu\n",
      "atomicwrites        grpc                pyasn1              uuid\n",
      "attr                gzip                pyasn1_modules      venv\n",
      "audioop             h5py                pyclbr              warnings\n",
      "autopep8            hashlib             pycodestyle         watchdog\n",
      "autoreload          heapdict            pycosat             wave\n",
      "awkward             heapq               pycparser           wcwidth\n",
      "babel               hmac                pycurl              weakref\n",
      "backcall            html                pydoc               webbrowser\n",
      "backports           html5lib            pydoc_data          webencodings\n",
      "base64              http                pydocstyle          websockets\n",
      "bdb                 hyperopt            pyexpat             werkzeug\n",
      "binascii            idlelib             pyflakes            wheel\n",
      "binhex              idna                pygments            widgetsnbextension\n",
      "binstar_client      imageio             pyhdfs              wrapt\n",
      "bisect              imagesize           pylab               wsgiref\n",
      "bitarray            imaplib             pylint              wurlitzer\n",
      "bkcharts            imghdr              pyls                xdg\n",
      "bleach              imp                 pyls_jsonrpc        xdrlib\n",
      "blinker             importlib           pymongo             xgboost\n",
      "bokeh               importlib_metadata  pyodbc              xlrd\n",
      "boto                inspect             pyparsing           xlsxwriter\n",
      "bottleneck          intervaltree        pyrsistent          xlwt\n",
      "brain_argparse      io                  pytest              xml\n",
      "brain_attrs         ipaddress           pytz                xmlrpc\n",
      "brain_boto3         ipykernel           pywt                xmltodict\n",
      "brain_builtin_inference ipykernel_launcher  pyximport           xxhash\n",
      "brain_collections   ipython_genutils    pyxrootd            xxlimited\n",
      "brain_crypt         ipywidgets          qdarkstyle          xxsubtype\n",
      "brain_curses        isort               qtawesome           yaml\n",
      "brain_dataclasses   isympy              qtconsole           yapf\n",
      "brain_dateutil      itertools           qtpy                yapftests\n",
      "brain_fstrings      itsdangerous        queue               yarl\n",
      "brain_functools     jdcal               quopri              zict\n",
      "brain_gi            jedi                random              zipapp\n",
      "brain_hashlib       jeepney             re                  zipfile\n",
      "brain_http          jinja2              readline            zipimport\n",
      "brain_io            joblib              regex               zipp\n",
      "brain_mechanize     json                reprlib             zlib\n",
      "brain_multiprocessing json5               requests            zmq\n",
      "brain_namedtuple_enum json_tricks         requests_oauthlib   zope\n",
      "brain_nose          jsonschema          resource            zstandard\n",
      "brain_numpy_core_fromnumeric jupyter             responses           zstd\n",
      "brain_numpy_core_function_base jupyter_client      rlcompleter         \n",
      "\n",
      "Enter any module name to get more help.  Or, type \"modules spam\" to search\n",
      "for modules whose name or summary contain the string \"spam\".\n",
      "\n",
      "None\n"
     ]
    }
   ],
   "source": [
    "print (help('modules') ) #some issues"
   ]
  },
  {
   "cell_type": "markdown",
   "metadata": {},
   "source": [
    "`pip` is a special package. It is used from the command line to install properly (e.g. matching the version of the local packages) new packages. It can also be used from within python to check i.e. the set installed packages and their versions. N.B.: only the installed packages on top of the default ones will be listed "
   ]
  },
  {
   "cell_type": "code",
   "execution_count": 8,
   "metadata": {},
   "outputs": [
    {
     "name": "stdout",
     "output_type": "stream",
     "text": [
      "Python 3.8.3\n",
      "pip 20.2.3 from /home/hal20/anaconda3/lib/python3.8/site-packages/pip (python 3.8)\n"
     ]
    }
   ],
   "source": [
    "import pip; import sys\n",
    "!{sys.executable} --version\n",
    "!pip --version"
   ]
  },
  {
   "cell_type": "markdown",
   "metadata": {},
   "source": [
    "# Functions"
   ]
  },
  {
   "cell_type": "code",
   "execution_count": 20,
   "metadata": {},
   "outputs": [
    {
     "name": "stdout",
     "output_type": "stream",
     "text": [
      "9\n",
      "27\n",
      "cube 27\n",
      "square 9\n"
     ]
    }
   ],
   "source": [
    "def square(x):\n",
    "    \"\"\"Square of x.\"\"\"\n",
    "    return x*x\n",
    "\n",
    "def cube(x):\n",
    "    \"\"\"Cube of x.\"\"\"\n",
    "    return x*x*x\n",
    "\n",
    "# create a dictionary of functions\n",
    "funcs = {\n",
    "    'square': square,\n",
    "    'cube': cube,\n",
    "}\n",
    "\n",
    "x = 3\n",
    "print(square(x))\n",
    "print(cube(x))\n",
    "\n",
    "for func in sorted(funcs): #this for collects only keys\n",
    "    print (func, funcs[func](x))"
   ]
  },
  {
   "cell_type": "markdown",
   "metadata": {},
   "source": [
    "## Functions arguments"
   ]
  },
  {
   "cell_type": "markdown",
   "metadata": {},
   "source": [
    "What is passsed to a function is a copy of the input. Imagine we have a list *x =[1, 2, 3]*, i.e. a mutable object. If within the function the content of *x* is directly changed (e.g. *x[0] = 999*), then *x* changes outside the funciton as well. "
   ]
  },
  {
   "cell_type": "code",
   "execution_count": 8,
   "metadata": {},
   "outputs": [
    {
     "name": "stdout",
     "output_type": "stream",
     "text": [
      "[1, 2, 3]\n",
      "140038014350656\n",
      "[999, 2, 3]\n",
      "140038014350656\n",
      "[999, 2, 3]\n",
      "140038014350656\n"
     ]
    }
   ],
   "source": [
    "def modify(x): #pass a copy of that object. List is mutable->modify it directly\n",
    "    x[0] = 999; #\"=\" is making a copy\n",
    "    return x\n",
    "\n",
    "x = [1,2,3]\n",
    "print(x); print(id(x))\n",
    "print(modify(x)); print(id(modify(x))) #mod 1st element, x is a copy of the input\n",
    "print(x); print(id(x))"
   ]
  },
  {
   "cell_type": "markdown",
   "metadata": {},
   "source": [
    "However, if *x* is reassigned within the function to a new object (e.g. another list), then the copy of the name *x* now points to the new object, but *x* outside the function is unchanged."
   ]
  },
  {
   "cell_type": "code",
   "execution_count": 4,
   "metadata": {},
   "outputs": [
    {
     "name": "stdout",
     "output_type": "stream",
     "text": [
      "x:  [1, 2, 3] y:  [1, 2, 3]\n",
      "The x w/in the func is [4, 5, 6] but x out is unchanged since x = [1, 2, 3]\n",
      "Then use global on y [4, 5, 6] and y is changed [4, 5, 6]\n"
     ]
    }
   ],
   "source": [
    "def no_modify(x):\n",
    "    x = [4,5,6] #new object + append change the object\n",
    "    return x\n",
    "def modify():\n",
    "    global y; y = [4,5,6]; return y\n",
    "\n",
    "x = [1,2,3]\n",
    "y = [1,2,3]\n",
    "print(\"x: \",x,\"y: \",y); #print(id(x))\n",
    "print(\"The x w/in the func is\", no_modify(x), \"but x out is unchanged since x =\", x)\n",
    "print(\"Then use global on y\", modify(), \"and y is changed\",y) #print(id(x))\n",
    "#if we want to change the variable we've to use global"
   ]
  },
  {
   "cell_type": "markdown",
   "metadata": {},
   "source": [
    "What if the function tries to modify the value of an immutable object, ex. tuples or list?"
   ]
  },
  {
   "cell_type": "code",
   "execution_count": 8,
   "metadata": {},
   "outputs": [
    {
     "name": "stdout",
     "output_type": "stream",
     "text": [
      "a is mutable and = to [3, 'h', 'a', 't']\n"
     ]
    }
   ],
   "source": [
    "a = list(\"What\"); #try with str/tuple\n",
    "try: a[0]=3; print(\"a is mutable and = to\", a)\n",
    "except: print(\"a is immutable\")"
   ]
  },
  {
   "cell_type": "markdown",
   "metadata": {},
   "source": [
    "Binding of default arguments occurs at function definition:"
   ]
  },
  {
   "cell_type": "code",
   "execution_count": 10,
   "metadata": {},
   "outputs": [
    {
     "name": "stdout",
     "output_type": "stream",
     "text": [
      "[1]\n",
      "[1, 1]\n",
      "[9, 9, 9, 1]\n",
      "[9, 9, 9, 1]\n",
      "[1, 1, 1]\n",
      "[1, 1, 1, 1]\n"
     ]
    }
   ],
   "source": [
    "def f(x = []):\n",
    "    x.append(1)\n",
    "    return x\n",
    "\n",
    "print(f())\n",
    "print(f());\n",
    "print(f(x = [9,9,9]))\n",
    "print(f(x = [9,9,9])); \n",
    "print(f());\n",
    "print(f())"
   ]
  },
  {
   "cell_type": "markdown",
   "metadata": {},
   "source": [
    "Try to avoid that!!"
   ]
  },
  {
   "cell_type": "code",
   "execution_count": 11,
   "metadata": {},
   "outputs": [
    {
     "name": "stdout",
     "output_type": "stream",
     "text": [
      "[3, 1]\n",
      "[3, 1]\n",
      "[9, 9, 9, 1]\n",
      "[3, 1]\n",
      "[3, 1]\n"
     ]
    }
   ],
   "source": [
    "#avoid this in this way\n",
    "def f(x = None):\n",
    "    if x is None: x = [3]\n",
    "    x.append(1)\n",
    "    return x\n",
    "\n",
    "print(f())\n",
    "print(f())\n",
    "print(f(x = [9,9,9]))\n",
    "print(f())\n",
    "print(f())"
   ]
  },
  {
   "cell_type": "markdown",
   "metadata": {},
   "source": [
    "## Higher order functions\n",
    "\n",
    "Function acts on function (func of func) not only variable. All these are extremely common. A way to get compact code.\n",
    "A function that uses another function as an input argument or returns a function is known as a higher-order function (HOF). The most familiar examples are `map` and `filter`."
   ]
  },
  {
   "cell_type": "markdown",
   "metadata": {},
   "source": [
    "### map\n",
    "\n",
    "The map function applies a function to each member of a collection; \"cast\" is present also in python"
   ]
  },
  {
   "cell_type": "code",
   "execution_count": 19,
   "metadata": {},
   "outputs": [
    {
     "name": "stdout",
     "output_type": "stream",
     "text": [
      "[0, 1, 4, 9, 16]\n"
     ]
    }
   ],
   "source": [
    "x = list(map(square,range(5) ))#map(unc, list)-> list\n",
    "print (x)\n",
    "\n",
    "# Note the difference w.r.t python 2. In python 3 map retuns an iterator so you can do stuff like:\n",
    "#for i in map(square,range(5)): print(i)"
   ]
  },
  {
   "cell_type": "markdown",
   "metadata": {},
   "source": [
    "### filter\n",
    "\n",
    "The filter function applies a predicate to each memmber of a collection, retaining only those members where the predicate is True"
   ]
  },
  {
   "cell_type": "code",
   "execution_count": 10,
   "metadata": {},
   "outputs": [
    {
     "name": "stdout",
     "output_type": "stream",
     "text": [
      "False\n",
      "[0, 2, 4]\n"
     ]
    }
   ],
   "source": [
    "def is_even(x):\n",
    "    return x%2 == 0 #resto\n",
    "\n",
    "print(is_even(5))\n",
    "print (list(filter(is_even, range(5))))"
   ]
  },
  {
   "cell_type": "code",
   "execution_count": 28,
   "metadata": {},
   "outputs": [
    {
     "data": {
      "text/plain": [
       "[0, 4, 16]"
      ]
     },
     "execution_count": 28,
     "metadata": {},
     "output_type": "execute_result"
    }
   ],
   "source": [
    "list(map(square, filter(is_even, range(5))))"
   ]
  },
  {
   "cell_type": "markdown",
   "metadata": {},
   "source": [
    "### reduce\n",
    "\n",
    "The reduce function reduces a collection using a binary operator to combine items two at a time. More often than not reduce can be substituted with a more efficient for loop. It is worth mentioning it for its key role in big-data applications together with map (the map-reduce paradigm). \n",
    "N.B.: it no loger exist as built-in function in python 3, it is now part of the `functools` library"
   ]
  },
  {
   "cell_type": "code",
   "execution_count": 18,
   "metadata": {},
   "outputs": [
    {
     "data": {
      "text/plain": [
       "15"
      ]
     },
     "execution_count": 18,
     "metadata": {},
     "output_type": "execute_result"
    }
   ],
   "source": [
    "from functools import reduce\n",
    "\n",
    "def my_add(x, y):\n",
    "    return x + y\n",
    "\n",
    "# another implementation of the sum function\n",
    "reduce(my_add,  [1,2,3,4,5])"
   ]
  },
  {
   "cell_type": "markdown",
   "metadata": {},
   "source": [
    "### zip\n",
    "\n",
    "zip is useful when you need to iterate over matched elements of multiple lists"
   ]
  },
  {
   "cell_type": "code",
   "execution_count": 9,
   "metadata": {},
   "outputs": [
    {
     "name": "stdout",
     "output_type": "stream",
     "text": [
      "1 10 a\n",
      "2 20 b\n",
      "3 30 c\n",
      "4 40 d\n"
     ]
    }
   ],
   "source": [
    "#combine el homogenous across the lists\n",
    "a = [1, 2, 3, 4]\n",
    "b = [10, 20, 30, 40]\n",
    "c = ['a', 'b', 'c', 'd', 'e']\n",
    "\n",
    "for x, y, z in zip(a, b, c):\n",
    "    print (x, y, z)"
   ]
  },
  {
   "cell_type": "markdown",
   "metadata": {},
   "source": [
    "### Custom HOF"
   ]
  },
  {
   "cell_type": "code",
   "execution_count": 21,
   "metadata": {},
   "outputs": [
    {
     "name": "stdout",
     "output_type": "stream",
     "text": [
      "30\n",
      "100\n"
     ]
    }
   ],
   "source": [
    "def custom_sum(transform, a):\n",
    "    \"\"\"Returns the sum of a after a user specified transform.\"\"\"\n",
    "    return sum(map(transform, a))\n",
    "\n",
    "a = range(5)\n",
    "print (custom_sum(square, a))\n",
    "print (custom_sum(cube, a))"
   ]
  },
  {
   "cell_type": "markdown",
   "metadata": {},
   "source": [
    "### Returning a function"
   ]
  },
  {
   "cell_type": "code",
   "execution_count": 45,
   "metadata": {},
   "outputs": [],
   "source": [
    "def make_logger(target):\n",
    "    def logger(data):\n",
    "        #open(target, \"w+\")\n",
    "        #with open(target, 'a') as f:\n",
    "        open(target, 'a').write(data + '\\n')\n",
    "    return logger\n",
    "\n",
    "mk_target = open(\"foo.txt\",\"w+\"); file.close \n",
    "foo_logger = make_logger(\"foo.txt\") #foo.txt will be created if not there already\n",
    "file = open(\"foo.txt\", \"r+\"); file.truncate(); file.close; #see outputs of this cell many time w/ and w/o this\n",
    "foo_logger('Hello')\n",
    "foo_logger('World')"
   ]
  },
  {
   "cell_type": "code",
   "execution_count": 35,
   "metadata": {},
   "outputs": [
    {
     "name": "stdout",
     "output_type": "stream",
     "text": [
      "Hello\n",
      "World\n"
     ]
    }
   ],
   "source": [
    "! cat 'foo.txt' #prints to screen whats in a file"
   ]
  },
  {
   "cell_type": "markdown",
   "metadata": {},
   "source": [
    "## Anonimous functions (lambda)\n",
    "\n",
    "When using functional style, there is often the need to create specific functions that perform a limited task as input to a HOF such as map or filter. In such cases, these functions are often written as anonymous or lambda functions. \n",
    "The syntax is as follows:\n",
    "\n",
    "lambda *arguments* : *expression*\n",
    "\n",
    "\n",
    "If you find it hard to understand what a lambda function is doing, it should probably be rewritten as a regular function."
   ]
  },
  {
   "cell_type": "code",
   "execution_count": 3,
   "metadata": {},
   "outputs": [
    {
     "data": {
      "text/plain": [
       "7"
      ]
     },
     "execution_count": 3,
     "metadata": {},
     "output_type": "execute_result"
    }
   ],
   "source": [
    "sum = lambda x,y: x+y #insted of def but \"on the fly\" definition\n",
    "sum(3,4)"
   ]
  },
  {
   "cell_type": "code",
   "execution_count": 31,
   "metadata": {},
   "outputs": [
    {
     "name": "stdout",
     "output_type": "stream",
     "text": [
      "0\n",
      "1\n",
      "4\n",
      "9\n",
      "16\n"
     ]
    }
   ],
   "source": [
    "for i in map(lambda x: x*x, range(5)): print (i)"
   ]
  },
  {
   "cell_type": "code",
   "execution_count": 55,
   "metadata": {},
   "outputs": [
    {
     "name": "stdout",
     "output_type": "stream",
     "text": [
      "This is awesome!\n"
     ]
    }
   ],
   "source": [
    "# what does this function do? sum of x**2 for x in range(1,10)\n",
    "from functools import reduce\n",
    "temp=int()\n",
    "s1 = reduce(lambda x, y: x+y, map(lambda x: x**2, range(1,10)))\n",
    "#ANSWER:\n",
    "sum = 0\n",
    "for i in range(1,10): sum+=i**2;\n",
    "if sum==s1: print(\"This is awesome!\")\n",
    "else: print(\"You've another shot, buddy\")"
   ]
  },
  {
   "cell_type": "markdown",
   "metadata": {},
   "source": [
    "## Recursive functions "
   ]
  },
  {
   "cell_type": "code",
   "execution_count": 59,
   "metadata": {},
   "outputs": [
    {
     "name": "stdout",
     "output_type": "stream",
     "text": [
      "[1, 1, 2, 3, 5, 8, 13, 21, 34, 55]\n"
     ]
    }
   ],
   "source": [
    "#recursion is of the function itself\n",
    "def fib1(n):\n",
    "    \"\"\"Fib with recursion.\"\"\"\n",
    "    # base case\n",
    "    if n==0 or n==1:\n",
    "        return 1\n",
    "    # recursive case\n",
    "    else:\n",
    "        return fib1(n-1) + fib1(n-2)\n",
    "\n",
    "    \n",
    "print ([fib1(i) for i in range(10)])"
   ]
  },
  {
   "cell_type": "code",
   "execution_count": 61,
   "metadata": {},
   "outputs": [
    {
     "name": "stdout",
     "output_type": "stream",
     "text": [
      "[1, 1, 2, 3, 5, 8, 13, 21, 34, 55]\n"
     ]
    }
   ],
   "source": [
    "# In Python, a more efficient version that use recursion inside\n",
    "def fib2(n):\n",
    "    \"\"\"Fib without recursion.\"\"\"\n",
    "    a, b = 0, 1\n",
    "    for i in range(1, n+1):\n",
    "        a, b = b, a+b\n",
    "    return b\n",
    "\n",
    "print ([fib2(i) for i in range(10)])"
   ]
  },
  {
   "cell_type": "code",
   "execution_count": 58,
   "metadata": {},
   "outputs": [
    {
     "name": "stdout",
     "output_type": "stream",
     "text": [
      "2.8 ms ± 119 µs per loop (mean ± std. dev. of 7 runs, 100 loops each)\n",
      "1.16 µs ± 42.2 ns per loop (mean ± std. dev. of 7 runs, 1000000 loops each)\n"
     ]
    }
   ],
   "source": [
    "# check indeed the timing:\n",
    "\n",
    "%timeit fib1(20)\n",
    "%timeit fib2(20)"
   ]
  },
  {
   "cell_type": "markdown",
   "metadata": {},
   "source": [
    "## Iterators\n",
    "\n",
    "Iterators represent streams of values. Because only one value is consumed at a time, they use very little memory. The use of iterators is very helpful for working with data sets too large to fit into RAM."
   ]
  },
  {
   "cell_type": "code",
   "execution_count": 67,
   "metadata": {},
   "outputs": [
    {
     "name": "stdout",
     "output_type": "stream",
     "text": [
      "W\n",
      "h\n",
      "a\n",
      "t\n"
     ]
    }
   ],
   "source": [
    "# Iterators can be created from sequences with the built-in function iter()\n",
    "#xs = [1,2,3,4]\n",
    "xs = \"What?\"\n",
    "#xs = (\"banana\", \"is\", \"a\", \"fruit\")\n",
    "x_iter = iter(xs)\n",
    "\n",
    "\n",
    "print(next(x_iter))\n",
    "print(next(x_iter))\n",
    "print(next(x_iter))\n",
    "print(next(x_iter))"
   ]
  },
  {
   "cell_type": "code",
   "execution_count": 68,
   "metadata": {},
   "outputs": [
    {
     "name": "stdout",
     "output_type": "stream",
     "text": [
      "W\n",
      "h\n",
      "a\n",
      "t\n",
      "?\n"
     ]
    }
   ],
   "source": [
    "# Most commonly, iterators are used (automatically) within a for loop\n",
    "# which terminates when it encouters a StopIteration exception\n",
    "\n",
    "x_iter = iter(xs)\n",
    "for x in x_iter:\n",
    "    print (x)"
   ]
  },
  {
   "cell_type": "markdown",
   "metadata": {},
   "source": [
    "## More on comprehensions"
   ]
  },
  {
   "cell_type": "code",
   "execution_count": 52,
   "metadata": {},
   "outputs": [
    {
     "name": "stdout",
     "output_type": "stream",
     "text": [
      "<generator object <genexpr> at 0x7f17424f2510>\n",
      "[0, 1, 2, 3, 4, 5, 6, 7, 8, 9]\n",
      "{0, 1, 2, 3, 4, 5, 6, 7, 8, 9}\n",
      "{0: 0, 1: 1, 2: 2, 3: 3, 4: 4, 5: 5, 6: 6, 7: 7, 8: 8, 9: 9}\n"
     ]
    }
   ],
   "source": [
    "# A generator expression // dictionaries and list compr\n",
    "\n",
    "print ((x for x in range(10)))\n",
    "\n",
    "# A list comprehension\n",
    "\n",
    "print ([x for x in range(10)])\n",
    "\n",
    "# A set comprehension\n",
    "\n",
    "print ({x for x in range(10)})\n",
    "\n",
    "# A dictionary comprehension\n",
    "\n",
    "print ({x: x for x in range(10)})"
   ]
  },
  {
   "cell_type": "markdown",
   "metadata": {},
   "source": [
    "## Useful Modules\n",
    "\n",
    "You may want to have a look at the content of the following modules for further usage of (HO) functions:\n",
    "  - [operator](https://docs.python.org/3/library/operator.html)\n",
    "  - [functools](https://docs.python.org/3/library/functools.html)\n",
    "  - [itertools](https://docs.python.org/3/library/itertools.html)\n",
    "  - [toolz](https://pypi.org/project/toolz/)\n",
    "  - [funcy](https://pypi.org/project/funcy/)"
   ]
  },
  {
   "cell_type": "markdown",
   "metadata": {},
   "source": [
    "## Decorators\n",
    "\n",
    "Decorators are a type of HOF that take a function and return a wrapped function that provides additional useful properties.\n",
    "\n",
    "Examples:\n",
    "\n",
    "  - logging\n",
    "  - profiling\n",
    "  - Just-In-Time (JIT) compilation"
   ]
  },
  {
   "cell_type": "code",
   "execution_count": 83,
   "metadata": {},
   "outputs": [],
   "source": [
    "def my_decorator(func):\n",
    "    def wrapper():\n",
    "        print(\"Something is happening before the function is called.\")\n",
    "        func()\n",
    "        print(\"Something is happening after the function is called.\")\n",
    "    return wrapper\n",
    "\n",
    "def say_whee():\n",
    "    print(\"Whee!\")\n",
    "    \n",
    "#wrap w/in the funct the decorator\n",
    "say_whee = my_decorator(say_whee)"
   ]
  },
  {
   "cell_type": "code",
   "execution_count": 84,
   "metadata": {},
   "outputs": [
    {
     "name": "stdout",
     "output_type": "stream",
     "text": [
      "Something is happening before the function is called.\n",
      "Whee!\n",
      "Something is happening after the function is called.\n"
     ]
    }
   ],
   "source": [
    "say_whee()"
   ]
  },
  {
   "cell_type": "markdown",
   "metadata": {},
   "source": [
    "Python allows you to use decorators in a simpler way with the @ symbol, sometimes called the “pie” syntax"
   ]
  },
  {
   "cell_type": "code",
   "execution_count": 85,
   "metadata": {},
   "outputs": [
    {
     "name": "stdout",
     "output_type": "stream",
     "text": [
      "Something is happening before the function is called.\n",
      "Whee!\n",
      "Something is happening after the function is called.\n"
     ]
    }
   ],
   "source": [
    "#equal to above\n",
    "def my_decorator(func):\n",
    "    def wrapper():\n",
    "        print(\"Something is happening before the function is called.\")\n",
    "        func()\n",
    "        print(\"Something is happening after the function is called.\")\n",
    "    return wrapper\n",
    "\n",
    "@my_decorator\n",
    "def say_whee():\n",
    "    print(\"Whee!\")\n",
    "say_whee()"
   ]
  },
  {
   "cell_type": "markdown",
   "metadata": {},
   "source": [
    "# Classes and Objects\n",
    "\n",
    "Old school object-oriented programming is possible and often used in python. Classes are defined similarly to standard object-oriented languages, with similar functionalities.\n",
    "\n",
    "The main python doc [page](https://docs.python.org/3.6/tutorial/classes.html) is worth reading through "
   ]
  },
  {
   "cell_type": "code",
   "execution_count": 89,
   "metadata": {},
   "outputs": [
    {
     "name": "stdout",
     "output_type": "stream",
     "text": [
      "My buddy is 12\n",
      "Oh, no sorry. It is 3\n"
     ]
    }
   ],
   "source": [
    "class Pet:\n",
    "    # the \"constructor\" (default method)\n",
    "    def __init__(self, name, age):  #method=self, inizialize the elements of the class\n",
    "        self.name=name\n",
    "        self.age=age\n",
    "    # class functions take the \"self\" parameter !!!\n",
    "    def set_name(self,name):\n",
    "        self.name=name\n",
    "    def convert_age(self,factor):\n",
    "        self.age*=factor\n",
    "\n",
    "buddy=Pet(\"My buddy\",12)\n",
    "print (buddy.name, \"is\", buddy.age)\n",
    "buddy.age=3\n",
    "print (\"Oh, no sorry...It is\",buddy.age)"
   ]
  },
  {
   "cell_type": "code",
   "execution_count": 64,
   "metadata": {},
   "outputs": [
    {
     "name": "stdout",
     "output_type": "stream",
     "text": [
      "tobia\n",
      "70\n"
     ]
    }
   ],
   "source": [
    "# ineritance is straightforward\n",
    "class Dog(Pet):\n",
    "    # the following variables is \"global\", i.e. holds for all \"Dog\" objects\n",
    "    species = \"mammal\"\n",
    "    # functions can be redefined as usual\n",
    "    def convert_age(self):\n",
    "        self.age*=7\n",
    "    def set_species(self, species):\n",
    "        self.species = species\n",
    "        \n",
    "puppy=Dog(\"tobia\",10)\n",
    "print(puppy.name)\n",
    "puppy.convert_age()\n",
    "print(puppy.age)\n",
    "\n"
   ]
  },
  {
   "cell_type": "code",
   "execution_count": null,
   "metadata": {},
   "outputs": [],
   "source": []
  }
 ],
 "metadata": {
  "kernelspec": {
   "display_name": "Python 3",
   "language": "python",
   "name": "python3"
  },
  "language_info": {
   "codemirror_mode": {
    "name": "ipython",
    "version": 3
   },
   "file_extension": ".py",
   "mimetype": "text/x-python",
   "name": "python",
   "nbconvert_exporter": "python",
   "pygments_lexer": "ipython3",
   "version": "3.8.3"
  }
 },
 "nbformat": 4,
 "nbformat_minor": 4
}
