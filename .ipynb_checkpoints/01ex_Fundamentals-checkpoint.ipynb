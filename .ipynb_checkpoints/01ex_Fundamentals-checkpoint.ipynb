{
 "cells": [
  {
   "cell_type": "markdown",
   "metadata": {},
   "source": [
    "1\\. Write the following as a list comprehension"
   ]
  },
  {
   "cell_type": "code",
   "execution_count": 1,
   "metadata": {},
   "outputs": [
    {
     "name": "stdout",
     "output_type": "stream",
     "text": [
      "[(0, 0), (0, 1), (0, 2), (0, 3), (1, 0), (1, 1), (1, 2), (1, 3), (2, 0), (2, 1), (2, 2), (2, 3)]\n",
      "[0, 4, 16]\n"
     ]
    }
   ],
   "source": [
    "# 1\n",
    "ans = []\n",
    "for i in range(3):\n",
    "    for j in range(4):\n",
    "        ans.append((i, j))\n",
    "print (ans)\n",
    "\n",
    "# 2\n",
    "ans = map(lambda x: x*x, filter(lambda x: x%2 == 0, range(5)))\n",
    "print (list(ans))\n",
    "\n"
   ]
  },
  {
   "cell_type": "code",
   "execution_count": 2,
   "metadata": {
    "scrolled": true
   },
   "outputs": [
    {
     "name": "stdout",
     "output_type": "stream",
     "text": [
      "[(0, 0), (0, 1), (0, 2), (0, 3), (1, 0), (1, 1), (1, 2), (1, 3), (2, 0), (2, 1), (2, 2), (2, 3)]\n"
     ]
    }
   ],
   "source": [
    "#Answer 1\n",
    "ans = [(a,b) for a in range(0,3) for b  in range (0,4)]\n",
    "print(ans)"
   ]
  },
  {
   "cell_type": "code",
   "execution_count": 3,
   "metadata": {
    "scrolled": true
   },
   "outputs": [
    {
     "name": "stdout",
     "output_type": "stream",
     "text": [
      "[0, 4, 16]\n"
     ]
    }
   ],
   "source": [
    "#Answer 2\n",
    "ans = [x*x for x in [j for j in range(5) if j%2 == 0]]\n",
    "print(ans)"
   ]
  },
  {
   "cell_type": "markdown",
   "metadata": {},
   "source": [
    "2\\. Convert the following function into a pure function with no global variables or side effects"
   ]
  },
  {
   "cell_type": "code",
   "execution_count": 4,
   "metadata": {
    "scrolled": true
   },
   "outputs": [
    {
     "name": "stdout",
     "output_type": "stream",
     "text": [
      "[1, 2, 3, 0, 1, 2, 3, 4]\n",
      "[1, 2, 3, 0, 1, 2, 3, 4]\n"
     ]
    }
   ],
   "source": [
    "x = 5\n",
    "def f(alist):\n",
    "    for i in range(x):\n",
    "         alist.append(i)\n",
    "    return alist\n",
    "\n",
    "alist = [1,2,3]\n",
    "ans = f(alist)\n",
    "print (ans)\n",
    "print (alist) # alist has been changed!"
   ]
  },
  {
   "cell_type": "code",
   "execution_count": 5,
   "metadata": {
    "scrolled": true
   },
   "outputs": [
    {
     "name": "stdout",
     "output_type": "stream",
     "text": [
      "[1, 2, 3, 0, 1, 2, 3, 4]\n",
      "(1, 2, 3)\n"
     ]
    }
   ],
   "source": [
    "#Answer (OPTION 1)\n",
    "def f(alist,x):\n",
    "    alist = list(alist)\n",
    "    for i in range(x):\n",
    "         alist.append(i)\n",
    "    return alist\n",
    "\n",
    "alist = (1,2,3)           #I used other type o variables\n",
    "ans = f(alist,5)\n",
    "print (ans)\n",
    "print (alist) # alist has not been changed!"
   ]
  },
  {
   "cell_type": "code",
   "execution_count": 6,
   "metadata": {},
   "outputs": [
    {
     "name": "stdout",
     "output_type": "stream",
     "text": [
      "[1, 2, 3, 0, 1, 2, 3, 4]\n",
      "[1, 2, 3]\n"
     ]
    }
   ],
   "source": [
    "#Answer (OPTION 2)\n",
    "def f(alist,x):\n",
    "    temp = [j for j in alist] \n",
    "    for i in range(x):\n",
    "         temp.append(i)\n",
    "    return temp\n",
    "\n",
    "alist = [1,2,3]           \n",
    "ans = f(alist,5)\n",
    "print (ans)\n",
    "print (alist) # alist has not been changed!"
   ]
  },
  {
   "cell_type": "markdown",
   "metadata": {},
   "source": [
    "3\\. Write a `decorator` hello that makes every wrapped function print “Hello!”, i.e. something like:\n",
    "\n",
    "```python\n",
    "@hello\n",
    "def square(x):\n",
    "    return x*x\n",
    "```\n",
    "\n"
   ]
  },
  {
   "cell_type": "code",
   "execution_count": 7,
   "metadata": {},
   "outputs": [
    {
     "name": "stdout",
     "output_type": "stream",
     "text": [
      "Hello!\n",
      "25\n"
     ]
    }
   ],
   "source": [
    "#Answer\n",
    "def hello_decorator(function):\n",
    "    def wrapper(y):\n",
    "        print('Hello!')\n",
    "        return function(y)\n",
    "    return wrapper\n",
    "\n",
    "@hello_decorator\n",
    "def square(x):\n",
    "    return x*x\n",
    "\n",
    "print(square(5))"
   ]
  },
  {
   "cell_type": "markdown",
   "metadata": {},
   "source": [
    "4\\. Write the factorial function so that it a) does and b) does not use recursion."
   ]
  },
  {
   "cell_type": "code",
   "execution_count": 8,
   "metadata": {
    "scrolled": true
   },
   "outputs": [
    {
     "name": "stdout",
     "output_type": "stream",
     "text": [
      "Factorial function is not defined for negative integers.\n",
      "1\n",
      "120\n"
     ]
    }
   ],
   "source": [
    "#Answer a\n",
    "def factorial1(n):\n",
    "    if n < 0: \n",
    "        return 'Factorial function is not defined for negative integers.'\n",
    "    elif n >= 0:          \n",
    "        if n == 1:\n",
    "            return n\n",
    "        elif n == 0:\n",
    "            return 1\n",
    "        else:\n",
    "            return n * factorial1(n-1)\n",
    "\n",
    "print(factorial1(-1))  \n",
    "print(factorial1(0)) \n",
    "print(factorial1(5))  "
   ]
  },
  {
   "cell_type": "code",
   "execution_count": 9,
   "metadata": {
    "scrolled": false
   },
   "outputs": [
    {
     "name": "stdout",
     "output_type": "stream",
     "text": [
      "Factorial function is not defined for negative integers.\n",
      "1\n",
      "120\n"
     ]
    }
   ],
   "source": [
    "#Answer b\n",
    "def factorial2(n):\n",
    "    if n < 0:\n",
    "        return 'Factorial function is not defined for negative integers.'\n",
    "    else: \n",
    "        fact = 1\n",
    "        for j in range(1,n+1):\n",
    "            fact = fact * j \n",
    "        return fact\n",
    "\n",
    "print(factorial2(-1))  \n",
    "print(factorial2(0)) \n",
    "print(factorial2(5)) "
   ]
  },
  {
   "cell_type": "markdown",
   "metadata": {},
   "source": [
    "5\\. Use HOFs (zip in particular) to compute the weight of a circle, a disk and a sphere, assuming different radii and different densities:\n",
    "\n",
    "```python\n",
    "densities = {\"Al\":[0.5,1,2],\"Fe\":[3,4,5],\"Pb\": [15,20,30]}\n",
    "radii = [1,2,3]\n",
    "```\n",
    "\n",
    "where the entries of the dictionary's values are the linear, superficial and volumetric densities of the materials respectively.\n",
    "\n",
    "In particular define a list of three lambda functions using a comprehension that computes the circumference, the area and the volume for a given radius.\n"
   ]
  },
  {
   "cell_type": "code",
   "execution_count": 10,
   "metadata": {
    "scrolled": true
   },
   "outputs": [
    {
     "name": "stdout",
     "output_type": "stream",
     "text": [
      "...................\n",
      "Element = Al\n",
      "...................\n",
      "\n",
      "Radio = 1\n",
      "\n",
      "Dimension | Density | Weight \n",
      "1         | 0.5     | 3.141592653589793\n",
      "2         | 1     | 6.283185307179586\n",
      "3         | 2     | 8.377580409572781\n",
      "\n",
      "Radio = 2\n",
      "\n",
      "Dimension | Density | Weight \n",
      "1         | 0.5     | 6.283185307179586\n",
      "2         | 1     | 25.132741228718345\n",
      "3         | 2     | 67.02064327658225\n",
      "\n",
      "Radio = 3\n",
      "\n",
      "Dimension | Density | Weight \n",
      "1         | 0.5     | 9.42477796076938\n",
      "2         | 1     | 56.548667764616276\n",
      "3         | 2     | 226.19467105846508\n",
      "...................\n",
      "Element = Fe\n",
      "...................\n",
      "\n",
      "Radio = 1\n",
      "\n",
      "Dimension | Density | Weight \n",
      "1         | 3     | 18.84955592153876\n",
      "2         | 4     | 25.132741228718345\n",
      "3         | 5     | 20.94395102393195\n",
      "\n",
      "Radio = 2\n",
      "\n",
      "Dimension | Density | Weight \n",
      "1         | 3     | 37.69911184307752\n",
      "2         | 4     | 100.53096491487338\n",
      "3         | 5     | 167.5516081914556\n",
      "\n",
      "Radio = 3\n",
      "\n",
      "Dimension | Density | Weight \n",
      "1         | 3     | 56.548667764616276\n",
      "2         | 4     | 226.1946710584651\n",
      "3         | 5     | 565.4866776461627\n",
      "...................\n",
      "Element = Pb\n",
      "...................\n",
      "\n",
      "Radio = 1\n",
      "\n",
      "Dimension | Density | Weight \n",
      "1         | 15     | 94.24777960769379\n",
      "2         | 20     | 125.66370614359172\n",
      "3         | 30     | 125.66370614359171\n",
      "\n",
      "Radio = 2\n",
      "\n",
      "Dimension | Density | Weight \n",
      "1         | 15     | 188.49555921538757\n",
      "2         | 20     | 502.6548245743669\n",
      "3         | 30     | 1005.3096491487337\n",
      "\n",
      "Radio = 3\n",
      "\n",
      "Dimension | Density | Weight \n",
      "1         | 15     | 282.7433388230814\n",
      "2         | 20     | 1130.9733552923256\n",
      "3         | 30     | 3392.920065876976\n"
     ]
    }
   ],
   "source": [
    "#Answer\n",
    "from math import pi\n",
    "\n",
    "densities = {\"Al\":[0.5,1,2],\"Fe\":[3,4,5],\"Pb\": [15,20,30]}\n",
    "radii = [1,2,3]\n",
    "\n",
    "\n",
    "for element in densities:                                                     #Loop over the elements\n",
    "    print('...................')\n",
    "    print('Element =',element)\n",
    "    print('...................')\n",
    "    space = [lambda x: 2*pi*x, lambda x: 2*pi*x**2, lambda x: 4/3 *pi* x**3 ]\n",
    "    dimension =[1,2,3]\n",
    "    for r in radii:\n",
    "        print('')\n",
    "        print('Radio =',r)                                                    #Loop over the radios\n",
    "        print('')\n",
    "        print('Dimension | Density | Weight ')\n",
    "        for dens, vl, dim  in zip(densities[element],space, dimension):       #loop over the densities\n",
    "            print(dim,'        |',dens,'    |',vl(r)*dens)"
   ]
  },
  {
   "cell_type": "code",
   "execution_count": null,
   "metadata": {},
   "outputs": [],
   "source": []
  },
  {
   "cell_type": "markdown",
   "metadata": {},
   "source": [
    "6\\. Edit the class defintion to add an instance attribute of is_hungry = True to the Dog class. Then add a method called eat() which changes the value of is_hungry to False when called. Figure out the best way to feed each dog and then output “My dogs are hungry.” if all are hungry or “My dogs are not hungry.” if all are not hungry. The final output should look like this:\n",
    "\n",
    "`I have 3 dogs. \n",
    "Tom is 6. \n",
    "Fletcher is 7. \n",
    "Larry is 9. \n",
    "And they're all mammals, of course. \n",
    "My dogs are not hungry.\n",
    "`"
   ]
  },
  {
   "cell_type": "code",
   "execution_count": 11,
   "metadata": {},
   "outputs": [],
   "source": [
    "# Parent class\n",
    "class Dog:\n",
    "\n",
    "    # Class attribute\n",
    "    species = 'mammal'\n",
    "\n",
    "    # Initializer / Instance attributes\n",
    "    def __init__(self, name, age):\n",
    "        self.name = name\n",
    "        self.age = age\n",
    "\n",
    "    # instance method\n",
    "    def description(self):\n",
    "        return \"{} is {} years old\".format(self.name, self.age)\n",
    "\n",
    "    # instance method\n",
    "    def speak(self, sound):\n",
    "        return \"{} says {}\".format(self.name, sound)\n",
    "\n",
    "# Child class (inherits from Dog class)\n",
    "class RussellTerrier(Dog):\n",
    "    def run(self, speed):\n",
    "        return \"{} runs {}\".format(self.name, speed)\n",
    "\n",
    "# Child class (inherits from Dog class)\n",
    "class Bulldog(Dog):\n",
    "    def run(self, speed):\n",
    "        return \"{} runs {}\".format(self.name, speed)\n"
   ]
  },
  {
   "cell_type": "code",
   "execution_count": 12,
   "metadata": {
    "scrolled": true
   },
   "outputs": [
    {
     "name": "stdout",
     "output_type": "stream",
     "text": [
      "I have 3 dogs.\n",
      "Tom is 6 .\n",
      "Fletcher is 7 .\n",
      "Larry is 9 .\n",
      "And they are all mammals ,of course.\n",
      "My dogs are hungry\n",
      "Tom is getting food\n",
      "Fletcher is getting food\n",
      "Larry is getting food\n",
      "My dogs are not hungry\n"
     ]
    }
   ],
   "source": [
    "#Answer\n",
    "\n",
    "# Parent class\n",
    "class Dog:\n",
    "\n",
    "    # Class attribute\n",
    "    species = 'mammals'\n",
    "\n",
    "    # Initializer / Instance attributes\n",
    "    def __init__(self, name, age):\n",
    "        self.name = name\n",
    "        self.age = age\n",
    "        self.is_hungry = True\n",
    "\n",
    "    # instance method\n",
    "    def description(self):\n",
    "        return \"{} is {} years old\".format(self.name, self.age)\n",
    "\n",
    "    # instance method\n",
    "    def speak(self, sound):\n",
    "        return \"{} says {}\".format(self.name, sound)\n",
    "    \n",
    "    # instance method (NEW)\n",
    "    def eat(self):\n",
    "        self.is_hungry = False\n",
    "        return self.is_hungry\n",
    "\n",
    "# Child class (inherits from Dog class)\n",
    "class RussellTerrier(Dog):\n",
    "    def run(self, speed):\n",
    "        return \"{} runs {}\".format(self.name, speed)\n",
    "\n",
    "# Child class (inherits from Dog class)\n",
    "class Bulldog(Dog):\n",
    "    def run(self, speed):\n",
    "        return \"{} runs {}\".format(self.name, speed)\n",
    "    \n",
    "    \n",
    "    \n",
    "\n",
    "    \n",
    "    \n",
    "    \n",
    "def DogHungriness(DogList):\n",
    "    temp = 0\n",
    "    for dog in DogList:\n",
    "        if (dog.is_hungry == True):  temp += 1\n",
    "    if(temp == len(DogList)): \n",
    "        print(\"My dogs are hungry\")\n",
    "        return(True)\n",
    "    elif(temp == 0):\n",
    "        print(\"My dogs are not hungry\")\n",
    "        return(False)\n",
    "    else:\n",
    "        print(\"Some dogs are hungry\")\n",
    "        return(True)\n",
    "    \n",
    "    \n",
    "    \n",
    "#set the dogs information    \n",
    "Tom      = Dog(\"Tom\", 6)\n",
    "Fletcher = Dog(\"Fletcher\", 7)\n",
    "Larry    = Bulldog(\"Larry\", 9)\n",
    "dogs = [Tom, Fletcher, Larry]\n",
    "\n",
    "\n",
    "\n",
    "#Output\n",
    "print(\"I have\", len(dogs), \"dogs.\")\n",
    "\n",
    "for i in dogs:\n",
    "    print(i.name, \"is\", i.age,'.')\n",
    "print(\"And they are all\", Tom.species, \",of course.\")\n",
    "\n",
    "\n",
    "if DogHungriness(dogs) == True:\n",
    "    #checking the dog's hungriness\n",
    "    for dog in dogs:    \n",
    "        if(dog.is_hungry == True): \n",
    "            print(dog.name, \"is getting food\")\n",
    "            dog.eat()\n",
    "        else:\n",
    "            print(dog.name, \"is not hungry\")\n",
    "    DogHungriness(dogs)"
   ]
  },
  {
   "cell_type": "code",
   "execution_count": null,
   "metadata": {},
   "outputs": [],
   "source": []
  }
 ],
 "metadata": {
  "kernelspec": {
   "display_name": "Python 3",
   "language": "python",
   "name": "python3"
  },
  "language_info": {
   "codemirror_mode": {
    "name": "ipython",
    "version": 3
   },
   "file_extension": ".py",
   "mimetype": "text/x-python",
   "name": "python",
   "nbconvert_exporter": "python",
   "pygments_lexer": "ipython3",
   "version": "3.8.3"
  }
 },
 "nbformat": 4,
 "nbformat_minor": 2
}
