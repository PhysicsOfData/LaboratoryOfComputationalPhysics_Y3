{
 "cells": [
  {
   "cell_type": "markdown",
   "metadata": {},
   "source": [
    "1\\. Write the following as a list comprehension"
   ]
  },
  {
   "cell_type": "code",
   "execution_count": 3,
   "metadata": {},
   "outputs": [
    {
     "name": "stdout",
     "output_type": "stream",
     "text": [
      "[(0, 0), (0, 1), (0, 2), (0, 3), (1, 0), (1, 1), (1, 2), (1, 3), (2, 0), (2, 1), (2, 2), (2, 3)]\n",
      "[0, 4, 16]\n"
     ]
    }
   ],
   "source": [
    "# 1\n",
    "ans = []\n",
    "for i in range(3):\n",
    "    for j in range(4):\n",
    "        ans.append((i, j))\n",
    "print (ans)\n",
    "\n",
    "# 2\n",
    "ans = map(lambda x: x*x, filter(lambda x: x%2 == 0, range(5)))\n",
    "print (list(ans))"
   ]
  },
  {
   "cell_type": "markdown",
   "metadata": {},
   "source": [
    "# Considerazioni sul secondo script\n",
    "Il secondo comando da tradurre in list comprehension risulta molto poco leggibile poichè contiene molte informazioni. Innanzitutto la funzione \"map\" contiene due argomenti, il primo è una funzione, il secondo invece una serie di punti a cui applicare la funzione del primo argomento. Il risultato sarà una lista di valori ottenuti applicando la funzione alle quantità indicate dal secondo argomento. Nello specifico si osserva che la funzione è una lambda function che assegna a x il suo quadrato mentre i numeri a cui aplicarla sono quelli appartenenti al range(0,5) congruenti a 2 modulo 2."
   ]
  },
  {
   "cell_type": "code",
   "execution_count": 13,
   "metadata": {},
   "outputs": [
    {
     "name": "stdout",
     "output_type": "stream",
     "text": [
      "[(0, 0), (0, 1), (0, 2), (0, 3), (1, 0), (1, 1), (1, 2), (1, 3), (2, 0), (2, 1), (2, 2), (2, 3)]\n",
      "[0, 4, 16]\n"
     ]
    }
   ],
   "source": [
    "#list comprehension of two scripts \n",
    "#1\n",
    "ans = [(i, j) for i in range(3) for j in range(4)]\n",
    "print(ans)\n",
    "\n",
    "#2\n",
    "ans = [x*x for x in range(5) if x%2 == 0]\n",
    "print(ans)"
   ]
  },
  {
   "cell_type": "markdown",
   "metadata": {},
   "source": [
    "2\\. Convert the following function into a pure function with no global variables or side effects"
   ]
  },
  {
   "cell_type": "code",
   "execution_count": 14,
   "metadata": {},
   "outputs": [
    {
     "name": "stdout",
     "output_type": "stream",
     "text": [
      "[1, 2, 3, 0, 1, 2, 3, 4]\n",
      "[1, 2, 3, 0, 1, 2, 3, 4]\n"
     ]
    }
   ],
   "source": [
    "x = 5\n",
    "def f(alist):\n",
    "    for i in range(x):\n",
    "         alist.append(i)\n",
    "    return alist\n",
    "\n",
    "alist = [1,2,3]\n",
    "ans = f(alist)\n",
    "print (ans)\n",
    "print (alist) # alist has been changed!"
   ]
  },
  {
   "cell_type": "markdown",
   "metadata": {},
   "source": [
    "Si chiede che la variabile alist non cambi ma che sia una local variable nella funzione f(). Il problema è che il method append interviene sulla lista essendo questa mutable la cambia."
   ]
  },
  {
   "cell_type": "code",
   "execution_count": 39,
   "metadata": {},
   "outputs": [
    {
     "name": "stdout",
     "output_type": "stream",
     "text": [
      "[1, 2, 3, 0, 1, 2, 3, 4]\n",
      "[1, 2, 3]\n"
     ]
    }
   ],
   "source": [
    "x = 5\n",
    "def f(alist):\n",
    "    return alist + [i for i in range(x)]\n",
    "#invece di cambiare la variabile alist tramite il method append uso + per aggiungere ad alist, che così diventa una variabile\n",
    "#locale, un'altra lista concatenandola costiuitia dalla list comprehension in parentesi\n",
    "alist = [1,2,3]\n",
    "ans = f(alist)\n",
    "print(ans)\n",
    "print(alist)\n",
    "\n"
   ]
  },
  {
   "cell_type": "markdown",
   "metadata": {},
   "source": [
    "3\\. Write a `decorator` hello that makes every wrapped function print “Hello!”, i.e. something like:\n",
    "\n",
    "```python\n",
    "@hello\n",
    "def square(x):\n",
    "    return x*x\n",
    "```\n",
    "\n"
   ]
  },
  {
   "cell_type": "code",
   "execution_count": 1,
   "metadata": {},
   "outputs": [
    {
     "name": "stdout",
     "output_type": "stream",
     "text": [
      "Hello!\n",
      "I have been decorated\n"
     ]
    }
   ],
   "source": [
    "#definisco un decoratore ad una generica funzione che stampi \"hello\" ogni volta che è aggiunto. Per farlo innanzitutto \n",
    "#bisogna capire che un decorator è una funzione che prende come argomento un'altra funzione (anche se in python la sintassi \n",
    "#è stata migliorata appositamente per contraddistinguere quando si applica un decorator). In questo caso vogliamo che esso \n",
    "#agisca come un'identità ma stampando \"Hello!\" prima della funzione eseguita. \n",
    "\n",
    "def hello_decorator(func):\n",
    "    def inner_1():\n",
    "        print(\"Hello!\")\n",
    "        func()\n",
    "    return inner_1\n",
    "\n",
    "@hello_decorator\n",
    "def function_to_be_decorated():\n",
    "    print(\"I have been decorated\")\n",
    "\n",
    "function_to_be_decorated()\n",
    "\n",
    "    "
   ]
  },
  {
   "cell_type": "markdown",
   "metadata": {},
   "source": [
    "4\\. Write the factorial function so that it a) does and b) does not use recursion."
   ]
  },
  {
   "cell_type": "code",
   "execution_count": 30,
   "metadata": {},
   "outputs": [
    {
     "name": "stdout",
     "output_type": "stream",
     "text": [
      "what is the number you want to compute the factorial?\n",
      "e\n",
      "use a number instead!\n",
      "\n"
     ]
    }
   ],
   "source": [
    "#a)\n",
    "#fattoriale è il blocco che viene ripetuto fino a quando automaticamente il programma assegna uno trovando x = 0 perchè ad\n",
    "#ogni applicazione di fattoriale x è diminuita di un'unità\n",
    "def fattoriale(x):\n",
    "    if x < 0 : print(\"factorial of negative number doesn't exist\")\n",
    "    elif x == 0 : \n",
    "        return 1\n",
    "    else : \n",
    "        return x*fattoriale(x-1)\n",
    "try :\n",
    "    num = int(input('what is the number you want to compute the factorial?\\n'))\n",
    "    fattoriale(num)\n",
    "except :\n",
    "    print(\"use a number instead!\\n\")\n",
    "#in questo modo si tiene conto anche dell'eventualità che il carattere inserito da terminale possa non essere castato a int\n"
   ]
  },
  {
   "cell_type": "code",
   "execution_count": 2,
   "metadata": {},
   "outputs": [
    {
     "name": "stdout",
     "output_type": "stream",
     "text": [
      "what is the number you want to compute the factorial?\n",
      "2\n"
     ]
    },
    {
     "data": {
      "text/plain": [
       "2"
      ]
     },
     "execution_count": 2,
     "metadata": {},
     "output_type": "execute_result"
    }
   ],
   "source": [
    "#b)\n",
    "#Innanzitutto è necessario verificare se il numero inserito sia zero o no. Se lo è allora la funzione restituisce uno \n",
    "#altrimenti continua a lavorare, inoltre bisogna capire se tale numero sia negativo altrimenti il fattoriale non ha significato\n",
    "\n",
    "def fattoriale(x):\n",
    "    f = 1\n",
    "    if x < 0 : \n",
    "        print(\"factorial of negative number doesn't exist\")\n",
    "    elif x == 0 : \n",
    "        print(\"factorial of zero is one\")\n",
    "    else :\n",
    "        for i in range(1,x+1):\n",
    "            f *= i\n",
    "    return f\n",
    "\n",
    "fattoriale(int(input('what is the number you want to compute the factorial?\\n')))"
   ]
  },
  {
   "cell_type": "markdown",
   "metadata": {},
   "source": [
    "5\\. Use HOFs (zip in particular) to compute the weight of a circle, a disk and a sphere, assuming different radii and different densities:\n",
    "\n",
    "```python\n",
    "densities = {\"Al\":[0.5,1,2],\"Fe\":[3,4,5],\"Pb\": [15,20,30]}\n",
    "radii = [1,2,3]\n",
    "```\n",
    "\n",
    "where the entries of the dictionary's values are the linear, superficial and volumetric densities of the materials respectively.\n",
    "\n",
    "In particular define a list of three lambda functions using a comprehension that computes the circumference, the area and the volume for a given radius.\n"
   ]
  },
  {
   "cell_type": "code",
   "execution_count": null,
   "metadata": {},
   "outputs": [],
   "source": [
    "from math import pi\n",
    "densities = {\"Al\":[0.5,1,2],\"Fe\":[3,4,5],\"Pb\": [15,20,30]}#Lin.,Sup.,Vol. densities\n",
    "radii = [1,2,3]\n",
    "\n",
    "for lin, sup, vol in zip(densities[\"Al\"],densities[\"Fe\"],densities[\"Pb\"]):\n",
    "    \n",
    "    x = [(lambda a,b : a*2*pi*b)(lin,i) for i in radii]\n",
    "    y = [(lambda a,b : a*pi*(b**2))(sup,i) for i in radii]\n",
    "    z = [(lambda a,b : a*0.75*pi*(b**3))(sup,i) for i in radii]\n",
    "    \n",
    "print(\"The weight of a circle (given the three radii)\",x)\n",
    "print(\"The weight of a disk is (given the three radii)\",y)\n",
    "print(\"The weight of a sphere is (given the three radii)\",z)"
   ]
  },
  {
   "cell_type": "markdown",
   "metadata": {},
   "source": [
    "6\\. Edit the class defintion to add an instance attribute of is_hungry = True to the Dog class. Then add a method called eat() which changes the value of is_hungry to False when called. Figure out the best way to feed each dog and then output “My dogs are hungry.” if all are hungry or “My dogs are not hungry.” if all are not hungry. The final output should look like this:\n",
    "\n",
    "`I have 3 dogs. \n",
    "Tom is 6. \n",
    "Fletcher is 7. \n",
    "Larry is 9. \n",
    "And they're all mammals, of course. \n",
    "My dogs are not hungry.\n",
    "`"
   ]
  },
  {
   "cell_type": "code",
   "execution_count": 31,
   "metadata": {},
   "outputs": [
    {
     "ename": "TypeError",
     "evalue": "__init__() takes 3 positional arguments but 4 were given",
     "output_type": "error",
     "traceback": [
      "\u001b[1;31m---------------------------------------------------------------------------\u001b[0m",
      "\u001b[1;31mTypeError\u001b[0m                                 Traceback (most recent call last)",
      "\u001b[1;32m<ipython-input-31-a79f1be8a43d>\u001b[0m in \u001b[0;36m<module>\u001b[1;34m\u001b[0m\n\u001b[0;32m     27\u001b[0m     \u001b[1;32mdef\u001b[0m \u001b[0mrun\u001b[0m\u001b[1;33m(\u001b[0m\u001b[0mself\u001b[0m\u001b[1;33m,\u001b[0m \u001b[0mspeed\u001b[0m\u001b[1;33m)\u001b[0m\u001b[1;33m:\u001b[0m\u001b[1;33m\u001b[0m\u001b[1;33m\u001b[0m\u001b[0m\n\u001b[0;32m     28\u001b[0m         \u001b[1;32mreturn\u001b[0m \u001b[1;34m\"{} runs {}\"\u001b[0m\u001b[1;33m.\u001b[0m\u001b[0mformat\u001b[0m\u001b[1;33m(\u001b[0m\u001b[0mself\u001b[0m\u001b[1;33m.\u001b[0m\u001b[0mname\u001b[0m\u001b[1;33m,\u001b[0m \u001b[0mspeed\u001b[0m\u001b[1;33m)\u001b[0m\u001b[1;33m\u001b[0m\u001b[1;33m\u001b[0m\u001b[0m\n\u001b[1;32m---> 29\u001b[1;33m \u001b[0mdog1\u001b[0m \u001b[1;33m=\u001b[0m \u001b[0mBulldog\u001b[0m\u001b[1;33m(\u001b[0m\u001b[1;34m\"Tom\"\u001b[0m\u001b[1;33m,\u001b[0m\u001b[1;36m6\u001b[0m\u001b[1;33m,\u001b[0m\u001b[1;32mTrue\u001b[0m\u001b[1;33m)\u001b[0m\u001b[1;33m\u001b[0m\u001b[1;33m\u001b[0m\u001b[0m\n\u001b[0m\u001b[0;32m     30\u001b[0m \u001b[0mdog2\u001b[0m \u001b[1;33m=\u001b[0m \u001b[0mRussellTerrier\u001b[0m\u001b[1;33m(\u001b[0m\u001b[1;34m\"Fletcher\"\u001b[0m\u001b[1;33m,\u001b[0m\u001b[1;36m7\u001b[0m\u001b[1;33m,\u001b[0m\u001b[1;32mFalse\u001b[0m\u001b[1;33m)\u001b[0m\u001b[1;33m\u001b[0m\u001b[1;33m\u001b[0m\u001b[0m\n\u001b[0;32m     31\u001b[0m \u001b[0mdog3\u001b[0m \u001b[1;33m=\u001b[0m \u001b[0mDog\u001b[0m\u001b[1;33m(\u001b[0m\u001b[1;34m\"Larry\"\u001b[0m\u001b[1;33m,\u001b[0m\u001b[1;36m9\u001b[0m\u001b[1;33m,\u001b[0m\u001b[1;32mTrue\u001b[0m\u001b[1;33m)\u001b[0m\u001b[1;31m#i can just insert class name \"Dog\"\u001b[0m\u001b[1;33m\u001b[0m\u001b[1;33m\u001b[0m\u001b[0m\n",
      "\u001b[1;31mTypeError\u001b[0m: __init__() takes 3 positional arguments but 4 were given"
     ]
    }
   ],
   "source": [
    "# Parent class\n",
    "class Dog:\n",
    "\n",
    "    # Class attribute\n",
    "    species = 'mammal'\n",
    "\n",
    "    # Initializer / Instance attributes\n",
    "    def __init__(self, name, age):\n",
    "        self.name = name\n",
    "        self.age = age\n",
    "\n",
    "    # instance method\n",
    "    def description(self):\n",
    "        return \"{} is {} years old\".format(self.name, self.age)\n",
    "\n",
    "    # instance method\n",
    "    def speak(self, sound):\n",
    "        return \"{} says {}\".format(self.name, sound)\n",
    "\n",
    "# Child class (inherits from Dog class)\n",
    "class RussellTerrier(Dog):\n",
    "    def run(self, speed):\n",
    "        return \"{} runs {}\".format(self.name, speed)\n",
    "\n",
    "# Child class (inherits from Dog class)\n",
    "class Bulldog(Dog):\n",
    "    def run(self, speed):\n",
    "        return \"{} runs {}\".format(self.name, speed)\n",
    "dog1 = Bulldog(\"Tom\",6,True)    \n",
    "dog2 = RussellTerrier(\"Fletcher\",7,False)   \n",
    "dog3 = Dog(\"Larry\",9,True)#i can just insert class name \"Dog\"\n",
    "\n",
    "print(\"I have 3 dogs.\")\n",
    "print(Dog.description(dog1))\n",
    "print(Dog.description(dog2))\n",
    "print(Dog.description(dog3))\n",
    "print(\"And they're all\",Dog.species + \", of course.\")\n",
    "\n",
    "if dog1.is_hungry == dog2.is_hungry == dog3.is_hungry == True:\n",
    "    print(\"My dogs are hungry.\")\n",
    "else:\n",
    "    print(\"My dogs are not hungry.\")"
   ]
  },
  {
   "cell_type": "code",
   "execution_count": null,
   "metadata": {},
   "outputs": [],
   "source": []
  }
 ],
 "metadata": {
  "kernelspec": {
   "display_name": "Python 3",
   "language": "python",
   "name": "python3"
  },
  "language_info": {
   "codemirror_mode": {
    "name": "ipython",
    "version": 3
   },
   "file_extension": ".py",
   "mimetype": "text/x-python",
   "name": "python",
   "nbconvert_exporter": "python",
   "pygments_lexer": "ipython3",
   "version": "3.8.5"
  }
 },
 "nbformat": 4,
 "nbformat_minor": 2
}
