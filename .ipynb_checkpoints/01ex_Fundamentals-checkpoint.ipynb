{
 "cells": [
  {
   "cell_type": "markdown",
   "metadata": {},
   "source": [
    "1\\. Write the following as a list comprehension"
   ]
  },
  {
   "cell_type": "code",
   "execution_count": 49,
   "metadata": {},
   "outputs": [
    {
     "name": "stdout",
     "output_type": "stream",
     "text": [
      "[(0, 0), (0, 1), (0, 2), (0, 3), (1, 0), (1, 1), (1, 2), (1, 3), (2, 0), (2, 1), (2, 2), (2, 3)]\n",
      "[0, 4, 16]\n"
     ]
    }
   ],
   "source": [
    "ans = []\n",
    "for i in range(3):\n",
    "    for j in range(4):\n",
    "        ans.append((i, j))\n",
    "print (ans)\n",
    "\n",
    "ans = map(lambda x: x*x, filter(lambda x: x%2 == 0, range(5)))\n",
    "print (list(ans))\n"
   ]
  },
  {
   "cell_type": "code",
   "execution_count": 50,
   "metadata": {},
   "outputs": [
    {
     "name": "stdout",
     "output_type": "stream",
     "text": [
      "Prima Soluzione:\n",
      "[(0, 0), (0, 1), (0, 2), (0, 3), (1, 0), (1, 1), (1, 2), (1, 3), (2, 0), (2, 1), (2, 2), (2, 3)]\n",
      "Seconda Soluzione:\n",
      "[0, 4, 16]\n"
     ]
    }
   ],
   "source": [
    "###################################################################\n",
    "\n",
    "print(\"Prima Soluzione:\")\n",
    "variabile=[(i,j) for i in range(3) for j in range(4)]\n",
    "print(variabile)\n",
    "print(\"Seconda Soluzione:\")\n",
    "variable=[n**2 for n in range(5) if n%2==0]\n",
    "print(variable)"
   ]
  },
  {
   "cell_type": "markdown",
   "metadata": {},
   "source": [
    "2\\. Convert the following function into a pure function with no global variables or side effects"
   ]
  },
  {
   "cell_type": "code",
   "execution_count": 34,
   "metadata": {},
   "outputs": [
    {
     "name": "stdout",
     "output_type": "stream",
     "text": [
      "[1, 2, 3, 0, 1, 2, 3, 4]\n",
      "[1, 2, 3, 0, 1, 2, 3, 4]\n"
     ]
    }
   ],
   "source": [
    "x = 5\n",
    "def f(alist):\n",
    "     for i in range(x):\n",
    "            alist.append(i)\n",
    "     return alist\n",
    " \n",
    "alist = [1,2,3]\n",
    "ans = f(alist)\n",
    "print (ans)\n",
    "print (alist) # alist has been changed!\n"
   ]
  },
  {
   "cell_type": "code",
   "execution_count": 52,
   "metadata": {},
   "outputs": [
    {
     "name": "stdout",
     "output_type": "stream",
     "text": [
      "Soluzione:\n",
      "[1, 2, 3, 0, 1, 2, 3, 4]\n",
      "[1, 2, 3]\n"
     ]
    }
   ],
   "source": [
    "##################################################################\n",
    "\n",
    "print(\"Soluzione:\")\n",
    "x = 5\n",
    "def f(alist):\n",
    "    lista=[]+alist\n",
    "    for i in range(x):\n",
    "         lista.append(i)\n",
    "    return lista\n",
    "\n",
    "alist = [1,2,3]\n",
    "ans = f(alist)\n",
    "print (ans)\n",
    "print (alist) # alist has been changed!"
   ]
  },
  {
   "cell_type": "markdown",
   "metadata": {},
   "source": [
    "3\\. Write a `decorator` hello that makes every wrapped function print “Hello!”, i.e. something like:\n",
    "\n",
    "```python\n",
    "@hello\n",
    "def square(x):\n",
    "    return x*x\n",
    "```\n",
    "\n"
   ]
  },
  {
   "cell_type": "code",
   "execution_count": 74,
   "metadata": {},
   "outputs": [],
   "source": [
    "def hello(funz):\n",
    "    def wrapped(*args, **kwargs):\n",
    "        print(\"HELLO\")\n",
    "        funz(*args, **kwargs)\n",
    "        print(\"HELLO\")\n",
    "    return wrapped\n",
    "\n",
    "@hello\n",
    "def square(x):\n",
    "    return x*x\n",
    "\n"
   ]
  },
  {
   "cell_type": "markdown",
   "metadata": {},
   "source": [
    "4\\. Write the factorial function so that it a) does and b) does not use recursion."
   ]
  },
  {
   "cell_type": "code",
   "execution_count": 75,
   "metadata": {},
   "outputs": [
    {
     "name": "stdout",
     "output_type": "stream",
     "text": [
      "1307674368000\n",
      "1307674368000\n"
     ]
    }
   ],
   "source": [
    "#non ricorsiva\n",
    "def func(n):\n",
    "    fattoriale=1\n",
    "    for i in range(0,n):\n",
    "        fattoriale=fattoriale*(n-i)\n",
    "    return fattoriale\n",
    "\n",
    "print(func(15)) \n",
    "###############################################################################################\n",
    "\n",
    "#ricorsiva\n",
    "def funz(n):\n",
    "    \n",
    "    if n==0 or n==1:\n",
    "        return 1\n",
    "    elif n<0:\n",
    "        return \"errore\"\n",
    "    else:\n",
    "        return n*funz(n-1) #->caso ricorsivo\n",
    "\n",
    "print(funz(15))\n"
   ]
  },
  {
   "cell_type": "markdown",
   "metadata": {},
   "source": [
    "5\\. Use HOFs (zip in particular) to compute the weight of a circle, a disk and a sphere, assuming different radii and different densities:\n",
    "\n",
    "```python\n",
    "densities = {\"Al\":[0.5,1,2],\"Fe\":[3,4,5],\"Pb\": [15,20,30]}\n",
    "radii = [1,2,3]\n",
    "```\n",
    "\n",
    "where the entries of the dictionary's values are the linear, superficial and volumetric densities of the materials respectively.\n",
    "\n",
    "In particular define a list of three lambda functions using a comprehension that computes the circumference, the area and the volume for a given radius.\n"
   ]
  },
  {
   "cell_type": "code",
   "execution_count": 171,
   "metadata": {},
   "outputs": [
    {
     "name": "stdout",
     "output_type": "stream",
     "text": [
      "Quale materiale ti interessa?\n",
      "Al\n",
      "densità= 0.5 raggio= 1 massa= 3.141592653589793\n",
      "densità= 1 raggio= 2 massa= 12.566370614359172\n",
      "densità= 2 raggio= 3 massa= 226.19467105846508\n"
     ]
    }
   ],
   "source": [
    "densities = {\"Al\":[0.5,1,2],\"Fe\":[3,4,5],\"Pb\": [15,20,30]}\n",
    "radii = [1,2,3]\n",
    "import math as m\n",
    "Funzione=[lambda x,y: 2*m.pi*x*y,lambda x,y: m.pi*x**2*y, lambda x,y: m.pi*(4/3)*y*x**3]\n",
    "print(\"Quale materiale ti interessa?\")\n",
    "x=input()\n",
    "for i,j,k in zip(densities[x],radii,Funzione):\n",
    "    print(\"densità=\",i,\"raggio=\",j,\"massa=\",k(j,i))"
   ]
  },
  {
   "cell_type": "markdown",
   "metadata": {},
   "source": [
    "6\\. Edit the class defintion to add an instance attribute of is_hungry = True to the Dog class. Then add a method called eat() which changes the value of is_hungry to False when called. Figure out the best way to feed each dog and then output “My dogs are hungry.” if all are hungry or “My dogs are not hungry.” if all are not hungry. The final output should look like this:\n",
    "\n",
    "`I have 3 dogs. \n",
    "Tom is 6. \n",
    "Fletcher is 7. \n",
    "Larry is 9. \n",
    "And they're all mammals, of course. \n",
    "My dogs are not hungry.\n",
    "`\n",
    "\n",
    "```python\n",
    "# Parent class\n",
    "class Dog:\n",
    "\n",
    "    # Class attribute\n",
    "    species = 'mammal'\n",
    "\n",
    "    # Initializer / Instance attributes\n",
    "    def __init__(self, name, age):\n",
    "        self.name = name\n",
    "        self.age = age\n",
    "\n",
    "    # instance method\n",
    "    def description(self):\n",
    "        return \"{} is {} years old\".format(self.name, self.age)\n",
    "\n",
    "    # instance method\n",
    "    def speak(self, sound):\n",
    "        return \"{} says {}\".format(self.name, sound)\n",
    "\n",
    "# Child class (inherits from Dog class)\n",
    "class RussellTerrier(Dog):\n",
    "    def run(self, speed):\n",
    "        return \"{} runs {}\".format(self.name, speed)\n",
    "\n",
    "# Child class (inherits from Dog class)\n",
    "class Bulldog(Dog):\n",
    "    def run(self, speed):\n",
    "        return \"{} runs {}\".format(self.name, speed)\n",
    "```"
   ]
  },
  {
   "cell_type": "code",
   "execution_count": 33,
   "metadata": {},
   "outputs": [
    {
     "name": "stdout",
     "output_type": "stream",
     "text": [
      "Ho in totale 3 cani:\n",
      "Tom ha 6 anni\n",
      "Fletcher ha 7 anni\n",
      "Larry ha 9 anni\n",
      "Sono ovviamente 3 mammiferi (in inglese si dice mammal )\n",
      "I cani non sono affamati.\n"
     ]
    }
   ],
   "source": [
    "# Parent class\n",
    "class Dog:\n",
    "\n",
    "    # Class attribute\n",
    "    species = 'mammal'\n",
    "    is_hungry= True\n",
    "\n",
    "    # Initializer / Instance attributes\n",
    "    def __init__(self, name, age):\n",
    "        self.name = name\n",
    "        self.age = age\n",
    "\n",
    "    # instance method\n",
    "    def description(self):\n",
    "        return \"{} is {} years old\".format(self.name, self.age)\n",
    "\n",
    "    # instance method\n",
    "    def speak(self, sound):\n",
    "        return \"{} says {}\".format(self.name, sound)\n",
    "    \n",
    "    def eat(self):\n",
    "        self.is_hungry=False\n",
    "        \n",
    "# Child class (inherits from Dog class)\n",
    "class RussellTerrier(Dog):\n",
    "    def run(self, speed):\n",
    "        return \"{} runs {}\".format(self.name, speed)\n",
    "\n",
    "# Child class (inherits from Dog class)\n",
    "class Bulldog(Dog):\n",
    "    def run(self, speed):\n",
    "        return \"{} runs {}\".format(self.name, speed)\n",
    "    \n",
    "dogs=[Bulldog(\"Tom\",6),RussellTerrier(\"Fletcher\",7),Dog(\"Larry\",9)]\n",
    "\n",
    "#costruisco l'output\n",
    "print(\"Ho in totale {} cani:\".format(len(dogs)))\n",
    "for dog in dogs:\n",
    "    print(\"{} ha {} anni\".format(dog.name, dog.age))\n",
    "print(\"Sono ovviamente 3 mammiferi (in inglese si dice\", dog.species,\")\")\n",
    "\n",
    "\n",
    "for dog in dogs:\n",
    "    if dog.is_hungry:\n",
    "        dog.eat()\n",
    "\n",
    "\n",
    "cont = False\n",
    "for dog in dogs:\n",
    "    if dog.is_hungry:\n",
    "        cont = True\n",
    "if cont:\n",
    "    print(\"I cani sono affamati.\")\n",
    "else:\n",
    "    print(\"I cani non sono affamati.\")"
   ]
  }
 ],
 "metadata": {
  "kernelspec": {
   "display_name": "Python 3",
   "language": "python",
   "name": "python3"
  },
  "language_info": {
   "codemirror_mode": {
    "name": "ipython",
    "version": 3
   },
   "file_extension": ".py",
   "mimetype": "text/x-python",
   "name": "python",
   "nbconvert_exporter": "python",
   "pygments_lexer": "ipython3",
   "version": "3.8.3"
  }
 },
 "nbformat": 4,
 "nbformat_minor": 2
}
