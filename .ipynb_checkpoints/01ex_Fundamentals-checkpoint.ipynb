{
 "cells": [
  {
   "cell_type": "markdown",
   "metadata": {},
   "source": [
    "1\\. Write the following as a list comprehension"
   ]
  },
  {
   "cell_type": "code",
   "execution_count": 18,
   "metadata": {},
   "outputs": [
    {
     "name": "stdout",
     "output_type": "stream",
     "text": [
      "[(0, 0), (0, 1), (0, 2), (0, 3), (1, 0), (1, 1), (1, 2), (1, 3), (2, 0), (2, 1), (2, 2), (2, 3)]\n",
      "[0, 4, 16]\n"
     ]
    }
   ],
   "source": [
    "# 1\n",
    "ans = []\n",
    "for i in range(3):\n",
    "    for j in range(4):\n",
    "        ans.append((i, j))\n",
    "print (ans)\n",
    "\n",
    "\n",
    "# 2\n",
    "ans = map(lambda x: x*x, filter(lambda x: x%2 == 0, range(5)))\n",
    "print (list(ans))\n",
    "\n"
   ]
  },
  {
   "cell_type": "code",
   "execution_count": 19,
   "metadata": {},
   "outputs": [
    {
     "name": "stdout",
     "output_type": "stream",
     "text": [
      "[(0, 0), (0, 1), (0, 2), (0, 3), (1, 0), (1, 1), (1, 2), (1, 3), (2, 0), (2, 1), (2, 2), (2, 3)]\n",
      "[0, 4, 16]\n"
     ]
    }
   ],
   "source": [
    "# 1\n",
    "a=[(x,y) for x in range(3) for y in range(4)]\n",
    "\n",
    "print(a)\n",
    "\n",
    "# 2\n",
    "b=[x**2 for x in range(5) if x%2==0]\n",
    "\n",
    "print(b)\n"
   ]
  },
  {
   "cell_type": "markdown",
   "metadata": {},
   "source": [
    "2\\. Convert the following function into a pure function with no global variables or side effects"
   ]
  },
  {
   "cell_type": "code",
   "execution_count": 17,
   "metadata": {},
   "outputs": [
    {
     "name": "stdout",
     "output_type": "stream",
     "text": [
      "[1, 2, 3, 0, 1, 2, 3, 4]\n",
      "[1, 2, 3, 0, 1, 2, 3, 4]\n"
     ]
    }
   ],
   "source": [
    "x = 5\n",
    "def f(alist):\n",
    "    for i in range(x):\n",
    "         alist.append(i)\n",
    "    return alist\n",
    "\n",
    "alist = [1,2,3]\n",
    "ans = f(alist)\n",
    "print (ans)\n",
    "print (alist) # alist has been changed!"
   ]
  },
  {
   "cell_type": "code",
   "execution_count": 20,
   "metadata": {},
   "outputs": [
    {
     "name": "stdout",
     "output_type": "stream",
     "text": [
      "[1, 2, 3, 0, 1, 2, 3, 4]\n",
      "[1, 2, 3, 0, 1, 2, 3, 4]\n"
     ]
    }
   ],
   "source": [
    "def f(alist, x=5):\n",
    "    for i in range(x):\n",
    "        alist.append(i)\n",
    "    return alist\n",
    "\n",
    "alist = [1,2,3]\n",
    "ans = f(alist)\n",
    "print(ans)\n",
    "print(alist)"
   ]
  },
  {
   "cell_type": "markdown",
   "metadata": {},
   "source": [
    "3\\. Write a `decorator` hello that makes every wrapped function print “Hello!”, i.e. something like:\n",
    "\n",
    "```python\n",
    "@hello\n",
    "def square(x):\n",
    "    return x*x\n",
    "```\n",
    "\n"
   ]
  },
  {
   "cell_type": "code",
   "execution_count": 51,
   "metadata": {},
   "outputs": [
    {
     "name": "stdout",
     "output_type": "stream",
     "text": [
      "Hello!\n",
      "4\n"
     ]
    }
   ],
   "source": [
    "def hello(func):\n",
    "    def wrapper(x):\n",
    "        print(\"Hello!\")\n",
    "        return func(x)\n",
    "    return wrapper\n",
    "\n",
    "@hello\n",
    "def square(x):\n",
    "    return x*x\n",
    "\n",
    "y = square(2)\n",
    "print(y)"
   ]
  },
  {
   "cell_type": "markdown",
   "metadata": {},
   "source": [
    "4\\. Write the factorial function so that it a) does and b) does not use recursion."
   ]
  },
  {
   "cell_type": "code",
   "execution_count": 54,
   "metadata": {},
   "outputs": [
    {
     "name": "stdout",
     "output_type": "stream",
     "text": [
      "Factorial with recursion: 24\n",
      "Factorial without recursion: 24\n"
     ]
    }
   ],
   "source": [
    "# 4a\n",
    "\n",
    "def fact_rec (x):\n",
    "    if x < 0:\n",
    "        print(\"You can compute the factorial of only positive number\")\n",
    "        return \n",
    "    elif x <= 1 and x >= 0:\n",
    "        return 1\n",
    "    else:\n",
    "        a=x*fact_rec(x-1)\n",
    "        return a\n",
    "\n",
    "# 4b\n",
    "\n",
    "def fact_no_rec (x):\n",
    "    a=1\n",
    "    if x < 0:\n",
    "        print(\"You can compute the factorial of only positive number\")\n",
    "        return \n",
    "    elif x <= 1 and x >= 0:\n",
    "        return 1\n",
    "    else:\n",
    "        for i in range(x):\n",
    "            a = (i+1)*a\n",
    "        return a\n",
    "    \n",
    "x=4\n",
    "a = fact_rec(x)\n",
    "b = fact_no_rec(x)\n",
    "print(\"Factorial with recursion:\", a)\n",
    "print(\"Factorial without recursion:\", b)"
   ]
  },
  {
   "cell_type": "markdown",
   "metadata": {},
   "source": [
    "5\\. Use HOFs (zip in particular) to compute the weight of a circle, a disk and a sphere, assuming different radii and different densities:\n",
    "\n",
    "```python\n",
    "densities = {\"Al\":[0.5,1,2],\"Fe\":[3,4,5],\"Pb\": [15,20,30]}\n",
    "radii = [1,2,3]\n",
    "```\n",
    "\n",
    "where the entries of the dictionary's values are the linear, superficial and volumetric densities of the materials respectively.\n",
    "\n",
    "In particular define a list of three lambda functions using a comprehension that computes the circumference, the area and the volume for a given radius.\n"
   ]
  },
  {
   "cell_type": "code",
   "execution_count": 62,
   "metadata": {},
   "outputs": [
    {
     "name": "stdout",
     "output_type": "stream",
     "text": [
      "RADIUS =  1\n",
      "Al :  [3.141592653589793, 3.141592653589793, 8.377580409572781]\n",
      "Fe :  [18.84955592153876, 12.566370614359172, 20.94395102393195]\n",
      "Pb :  [94.24777960769379, 62.83185307179586, 125.66370614359171]\n",
      "\n",
      "\n",
      "RADIUS =  2\n",
      "Al :  [6.283185307179586, 12.566370614359172, 67.02064327658225]\n",
      "Fe :  [37.69911184307752, 50.26548245743669, 167.5516081914556]\n",
      "Pb :  [188.49555921538757, 251.32741228718345, 1005.3096491487337]\n",
      "\n",
      "\n",
      "RADIUS =  3\n",
      "Al :  [9.42477796076938, 28.274333882308138, 226.19467105846508]\n",
      "Fe :  [56.548667764616276, 113.09733552923255, 565.4866776461627]\n",
      "Pb :  [282.7433388230814, 565.4866776461628, 3392.920065876976]\n",
      "\n",
      "\n"
     ]
    }
   ],
   "source": [
    "import math\n",
    "\n",
    "densities = {\"Al\":[0.5,1,2],\"Fe\":[3,4,5],\"Pb\": [15,20,30]}\n",
    "radii = [1,2,3]\n",
    "\n",
    "functions=[lambda r: 2*math.pi*r, lambda r: math.pi*r**2, lambda r: (4/3)*math.pi*r**3 ]\n",
    "\n",
    "for i in range(len(radii)):\n",
    "    print(\"RADIUS = \", radii[i])\n",
    "    for k in densities:\n",
    "        result=[]\n",
    "        for a,b in zip(functions,densities[k]):\n",
    "            result.append( a(radii[i])*b )\n",
    "        print(k, \": \", result)\n",
    "    print(\"\\n\")"
   ]
  },
  {
   "cell_type": "markdown",
   "metadata": {},
   "source": [
    "6\\. Edit the class defintion to add an instance attribute of is_hungry = True to the Dog class. Then add a method called eat() which changes the value of is_hungry to False when called. Figure out the best way to feed each dog and then output “My dogs are hungry.” if all are hungry or “My dogs are not hungry.” if all are not hungry. The final output should look like this:\n",
    "\n",
    "`I have 3 dogs. \n",
    "Tom is 6. \n",
    "Fletcher is 7. \n",
    "Larry is 9. \n",
    "And they're all mammals, of course. \n",
    "My dogs are not hungry.\n",
    "`\n",
    "\n",
    "```python\n",
    "# Parent class\n",
    "class Dog:\n",
    "\n",
    "    # Class attribute\n",
    "    species = 'mammal'\n",
    "\n",
    "    # Initializer / Instance attributes\n",
    "    def __init__(self, name, age):\n",
    "        self.name = name\n",
    "        self.age = age\n",
    "\n",
    "    # instance method\n",
    "    def description(self):\n",
    "        return \"{} is {} years old\".format(self.name, self.age)\n",
    "\n",
    "    # instance method\n",
    "    def speak(self, sound):\n",
    "        return \"{} says {}\".format(self.name, sound)\n",
    "\n",
    "# Child class (inherits from Dog class)\n",
    "class RussellTerrier(Dog):\n",
    "    def run(self, speed):\n",
    "        return \"{} runs {}\".format(self.name, speed)\n",
    "\n",
    "# Child class (inherits from Dog class)\n",
    "class Bulldog(Dog):\n",
    "    def run(self, speed):\n",
    "        return \"{} runs {}\".format(self.name, speed)\n",
    "```"
   ]
  },
  {
   "cell_type": "code",
   "execution_count": 64,
   "metadata": {},
   "outputs": [
    {
     "name": "stdout",
     "output_type": "stream",
     "text": [
      "I have 3 dogs.\n",
      "Tom is 6 years old.\n",
      "Fletcher is 7 years old.\n",
      "Larry is 9 years old.\n",
      "And they're all mammals, of course.\n",
      "My dogs are hungry.\n",
      "Some of my dogs are hungry, some others are not.\n",
      "My dogs are not hungry.\n"
     ]
    }
   ],
   "source": [
    "# Parent class\n",
    "class Dog:\n",
    "\n",
    "    # Class attribute\n",
    "    species = 'mammal'\n",
    "\n",
    "    # Initializer / Instance attributes\n",
    "    def __init__(self, name, age):\n",
    "        self.name = name\n",
    "        self.age = age\n",
    "        self.is_hungry = True\n",
    "\n",
    "    # instance method\n",
    "    def description(self):\n",
    "        return \"{} is {} years old.\".format(self.name, self.age)\n",
    "\n",
    "    # instance method\n",
    "    def speak(self, sound):\n",
    "        return \"{} says {}.\".format(self.name, sound)\n",
    "    \n",
    "    # instance method\n",
    "    def eat(self):\n",
    "        self.is_hungry = False\n",
    "        \n",
    "    # instance method\n",
    "    def feed(self):\n",
    "        self.eat()\n",
    "        \n",
    "    # instance method\n",
    "    def get_spec(pets):\n",
    "        count = 0\n",
    "        for pet in pets:\n",
    "            if type(pet) is Dog:\n",
    "                count = count + 1\n",
    "        if count == len(pets):\n",
    "            return \"And they're all mammals, of course.\"\n",
    "            \n",
    "    # instance method\n",
    "    def are_hungry(pets):\n",
    "        hungry = 0\n",
    "        nothungry = 0\n",
    "        for pet in pets:\n",
    "            if pet.is_hungry == True:\n",
    "                hungry += 1\n",
    "            else:\n",
    "                nothungry += 1\n",
    "        if hungry == len(pets):\n",
    "            return \"My dogs are hungry.\"\n",
    "        elif nothungry == len(pets):\n",
    "            return \"My dogs are not hungry.\"\n",
    "        else:\n",
    "            return \"Some of my dogs are hungry, some others are not.\"\n",
    "\n",
    "# Child class (inherits from Dog class)\n",
    "class RussellTerrier(Dog):\n",
    "    def run(self, speed):\n",
    "        return \"{} runs {}\".format(self.name, speed)\n",
    "\n",
    "# Child class (inherits from Dog class)\n",
    "class Bulldog(Dog):\n",
    "    def run(self, speed):\n",
    "        return \"{} runs {}\".format(self.name, speed)\n",
    "    \n",
    "    \n",
    "dogs = [ Dog(\"Tom\", 6), Dog(\"Fletcher\", 7), Dog(\"Larry\", 9) ]\n",
    "print(\"I have\", len(dogs), \"dogs.\")\n",
    "\n",
    "for dog in dogs:\n",
    "    print(dog.description())\n",
    "\n",
    "\n",
    "print(Dog.get_spec(dogs))\n",
    "\n",
    "\n",
    "print(Dog.are_hungry(dogs))\n",
    "\n",
    "\n",
    "dogs[1].feed()\n",
    "\n",
    "\n",
    "print(Dog.are_hungry(dogs))\n",
    "\n",
    "\n",
    "for dog in dogs:\n",
    "    dog.feed()\n",
    "\n",
    "\n",
    "print(Dog.are_hungry(dogs))"
   ]
  }
 ],
 "metadata": {
  "kernelspec": {
   "display_name": "Python 3",
   "language": "python",
   "name": "python3"
  },
  "language_info": {
   "codemirror_mode": {
    "name": "ipython",
    "version": 3
   },
   "file_extension": ".py",
   "mimetype": "text/x-python",
   "name": "python",
   "nbconvert_exporter": "python",
   "pygments_lexer": "ipython3",
   "version": "3.7.9"
  }
 },
 "nbformat": 4,
 "nbformat_minor": 2
}
