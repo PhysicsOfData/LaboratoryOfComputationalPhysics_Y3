{
 "cells": [
  {
   "cell_type": "markdown",
   "metadata": {},
   "source": [
    "1\\. Write the following as a list comprehension"
   ]
  },
  {
   "cell_type": "code",
   "execution_count": 1,
   "metadata": {},
   "outputs": [
    {
     "name": "stdout",
     "output_type": "stream",
     "text": [
      "[(0, 0), (0, 1), (0, 2), (0, 3), (1, 0), (1, 1), (1, 2), (1, 3), (2, 0), (2, 1), (2, 2), (2, 3)]\n",
      "[(0, 0), (0, 1), (0, 2), (0, 3), (1, 0), (1, 1), (1, 2), (1, 3), (2, 0), (2, 1), (2, 2), (2, 3)]\n",
      "[0, 4, 16]\n",
      "[0, 4, 16]\n"
     ]
    }
   ],
   "source": [
    "# 1\n",
    "ans = []\n",
    "for i in range(3):\n",
    "    for j in range(4):\n",
    "        ans.append((i, j))\n",
    "print (ans)\n",
    "\n",
    "ans = [(i,j) for i in range(3) for j in range(4)]\n",
    "print(ans)\n",
    "\n",
    "# 2\n",
    "ans = map(lambda x: x*x, filter(lambda x: x%2 == 0, range(5)))\n",
    "print (list(ans))\n",
    "\n",
    "ans = [x*x for x in range(5) if x%2 == 0]\n",
    "print(ans)\n"
   ]
  },
  {
   "cell_type": "markdown",
   "metadata": {},
   "source": [
    "2\\. Convert the following function into a pure function with no global variables or side effects"
   ]
  },
  {
   "cell_type": "code",
   "execution_count": 2,
   "metadata": {},
   "outputs": [
    {
     "name": "stdout",
     "output_type": "stream",
     "text": [
      "[1, 2, 3, 0, 1, 2, 3, 4]\n",
      "[1, 2, 3, 0, 1, 2, 3, 4]\n",
      "[1, 2, 3, 0, 1, 2, 3, 4]\n",
      "[1, 2, 3]\n"
     ]
    }
   ],
   "source": [
    "x = 5\n",
    "def f(alist):\n",
    "    for i in range(x):\n",
    "         alist.append(i)\n",
    "    return alist\n",
    "\n",
    "alist = [1,2,3]\n",
    "ans = f(alist)\n",
    "print (ans)\n",
    "print (alist) # alist has been changed!\n",
    "\n",
    "def fnew(alist, x=5):\n",
    "    alist = alist + [i for i in range(x)]\n",
    "    return alist\n",
    "alist = [1,2,3]\n",
    "ans = fnew(alist)\n",
    "print(ans)\n",
    "print(alist)"
   ]
  },
  {
   "cell_type": "markdown",
   "metadata": {},
   "source": [
    "3\\. Write a `decorator` hello that makes every wrapped function print “Hello!”, i.e. something like:\n",
    "\n",
    "```python\n",
    "@hello\n",
    "def square(x):\n",
    "    return x*x\n",
    "```\n",
    "\n"
   ]
  },
  {
   "cell_type": "code",
   "execution_count": 3,
   "metadata": {},
   "outputs": [
    {
     "name": "stdout",
     "output_type": "stream",
     "text": [
      "Hello!\n",
      "16\n"
     ]
    }
   ],
   "source": [
    "def hello(function):\n",
    "    def wrapper(*arg):\n",
    "        print(\"Hello!\")\n",
    "        return function(*arg)\n",
    "    return wrapper\n",
    "\n",
    "@hello\n",
    "def square(x):\n",
    "    return x*x\n",
    "\n",
    "print(square(4))"
   ]
  },
  {
   "cell_type": "markdown",
   "metadata": {},
   "source": [
    "4\\. Write the factorial function so that it a) does and b) does not use recursion."
   ]
  },
  {
   "cell_type": "code",
   "execution_count": 4,
   "metadata": {},
   "outputs": [
    {
     "name": "stdout",
     "output_type": "stream",
     "text": [
      "3628800\n",
      "3628800\n"
     ]
    }
   ],
   "source": [
    "# A)\n",
    "def fact_rec(n):\n",
    "    if( n > 1 ):\n",
    "        return n*fact_rec(n-1)\n",
    "    return 1\n",
    "\n",
    "# B)\n",
    "from functools import reduce\n",
    "def fact_norec(n):\n",
    "    return reduce(lambda a,b: a*b,[i for i in range(1,n+1)])\n",
    "\n",
    "print(fact_rec(10))\n",
    "print(fact_norec(10))"
   ]
  },
  {
   "cell_type": "markdown",
   "metadata": {},
   "source": [
    "5\\. Use HOFs (zip in particular) to compute the weight of a circle, a disk and a sphere, assuming different radii and different densities:\n",
    "\n",
    "```python\n",
    "densities = {\"Al\":[0.5,1,2],\"Fe\":[3,4,5],\"Pb\": [15,20,30]}\n",
    "radii = [1,2,3]\n",
    "```\n",
    "\n",
    "where the entries of the dictionary's values are the linear, superficial and volumetric densities of the materials respectively.\n",
    "\n",
    "In particular define a list of three lambda functions using a comprehension that computes the circumference, the area and the volume for a given radius.\n"
   ]
  },
  {
   "cell_type": "code",
   "execution_count": 5,
   "metadata": {
    "scrolled": true
   },
   "outputs": [
    {
     "name": "stdout",
     "output_type": "stream",
     "text": [
      "\n",
      " Al\n",
      "circle [3.141592653589793, 6.283185307179586, 9.42477796076938]\n",
      "disk [3.141592653589793, 12.566370614359172, 28.274333882308138]\n",
      "sphere [8.377580409572781, 67.02064327658225, 226.1946710584651]\n",
      "\n",
      " Fe\n",
      "circle [18.84955592153876, 37.69911184307752, 56.548667764616276]\n",
      "disk [12.566370614359172, 50.26548245743669, 113.09733552923255]\n",
      "sphere [20.94395102393195, 167.5516081914556, 565.4866776461628]\n",
      "\n",
      " Pb\n",
      "circle [94.24777960769379, 188.49555921538757, 282.7433388230814]\n",
      "disk [62.83185307179586, 251.32741228718345, 565.4866776461628]\n",
      "sphere [125.66370614359171, 1005.3096491487337, 3392.9200658769764]\n"
     ]
    }
   ],
   "source": [
    "from math import pi\n",
    "\n",
    "functions = [lambda r: 2*pi*r, lambda r: pi*r*r, lambda r: 4/3*pi*r*r*r]\n",
    "densities = {\"Al\":[0.5,1,2],\"Fe\":[3,4,5],\"Pb\": [15,20,30]}\n",
    "radii = [1,2,3]\n",
    "\n",
    "weights = [[[rho*f(r) for r in radii] for rho,f in zip(densities[i],functions)] for i in densities]\n",
    "\n",
    "for material,dimensions in zip(densities,weights):\n",
    "    print(\"\\n\",material)\n",
    "    for dimension,shape in zip(dimensions,[\"circle\",\"disk\",\"sphere\"]):\n",
    "        print(shape,dimension)"
   ]
  },
  {
   "cell_type": "markdown",
   "metadata": {},
   "source": [
    "6\\. Edit the class defintion to add an instance attribute of is_hungry = True to the Dog class. Then add a method called eat() which changes the value of is_hungry to False when called. Figure out the best way to feed each dog and then output “My dogs are hungry.” if all are hungry or “My dogs are not hungry.” if all are not hungry. The final output should look like this:\n",
    "\n",
    "`I have 3 dogs. \n",
    "Tom is 6. \n",
    "Fletcher is 7. \n",
    "Larry is 9. \n",
    "And they're all mammals, of course. \n",
    "My dogs are not hungry.\n",
    "`\n",
    "\n",
    "```python\n",
    "# Parent class\n",
    "class Dog:\n",
    "\n",
    "    # Class attribute\n",
    "    species = 'mammal'\n",
    "\n",
    "    # Initializer / Instance attributes\n",
    "    def __init__(self, name, age):\n",
    "        self.name = name\n",
    "        self.age = age\n",
    "\n",
    "    # instance method\n",
    "    def description(self):\n",
    "        return \"{} is {} years old\".format(self.name, self.age)\n",
    "\n",
    "    # instance method\n",
    "    def speak(self, sound):\n",
    "        return \"{} says {}\".format(self.name, sound)\n",
    "\n",
    "# Child class (inherits from Dog class)\n",
    "class RussellTerrier(Dog):\n",
    "    def run(self, speed):\n",
    "        return \"{} runs {}\".format(self.name, speed)\n",
    "\n",
    "# Child class (inherits from Dog class)\n",
    "class Bulldog(Dog):\n",
    "    def run(self, speed):\n",
    "        return \"{} runs {}\".format(self.name, speed)\n",
    "```"
   ]
  },
  {
   "cell_type": "code",
   "execution_count": 6,
   "metadata": {},
   "outputs": [
    {
     "name": "stdout",
     "output_type": "stream",
     "text": [
      "I have 3 dogs, let me introduce them\n",
      "\n",
      "Tom is 6 years old\n",
      "Fletcher is 7 years old\n",
      "Larry is 9 years old\n",
      "\n",
      "I ask if they're hungry, and they reply: [True, True, True]\n",
      "I must feed them!\n",
      "\n",
      "Hey, Tom is eating!\n",
      "Hey, Fletcher is eating!\n",
      "Hey, Larry is eating!\n",
      "I ask again if they're hungry: [False, False, False]\n",
      "\n",
      "Now they're happy and they start running!\n",
      "Tom runs at 8km/h\n",
      "Fletcher runs at 20km/h\n",
      "Larry runs at 20km/h\n"
     ]
    }
   ],
   "source": [
    "# Parent class\n",
    "class Dog:\n",
    "    species = 'mammal'\n",
    "    is_hungry = True\n",
    "    def __init__(self, name, age):\n",
    "        self.name = name\n",
    "        self.age = age\n",
    "    def description(self):\n",
    "        return \"{} is {} years old\".format(self.name, self.age)\n",
    "    def speak(self, sound):\n",
    "        return \"{} says {}\".format(self.name, sound)\n",
    "    def eat(self):\n",
    "        print(\"Hey, {} is eating!\".format(self.name))\n",
    "        self.is_hungry = False\n",
    "\n",
    "# Child class (inherits from Dog class)\n",
    "class RussellTerrier(Dog):\n",
    "    speed = 20\n",
    "    def run(self):\n",
    "        return \"{} runs at {}km/h\".format(self.name, self.speed)\n",
    "\n",
    "# Child class (inherits from Dog class)\n",
    "class Bulldog(Dog):\n",
    "    speed = 8\n",
    "    def run(self):\n",
    "        return \"{} runs at {}km/h\".format(self.name, self.speed)\n",
    "\n",
    "dogs = [Bulldog(\"Tom\",6), RussellTerrier(\"Fletcher\",7), RussellTerrier(\"Larry\",9)]\n",
    "print(f\"I have {len(dogs)} dogs, let me introduce them\\n\")\n",
    "\n",
    "for dog in dogs:\n",
    "    print(dog.description())\n",
    "print()\n",
    "\n",
    "print(f\"I ask if they're hungry, and they reply: {[dog.is_hungry for dog in dogs]}\")\n",
    "print(\"I must feed them!\\n\")\n",
    "\n",
    "for dog in dogs:\n",
    "    dog.eat()\n",
    "print(f\"I ask again if they're hungry: {[dog.is_hungry for dog in dogs]}\\n\")\n",
    "\n",
    "print(\"Now they're happy and they start running!\")\n",
    "for dog in dogs:\n",
    "    print(dog.run())"
   ]
  },
  {
   "cell_type": "code",
   "execution_count": null,
   "metadata": {},
   "outputs": [],
   "source": []
  }
 ],
 "metadata": {
  "kernelspec": {
   "display_name": "Python 3",
   "language": "python",
   "name": "python3"
  },
  "language_info": {
   "codemirror_mode": {
    "name": "ipython",
    "version": 3
   },
   "file_extension": ".py",
   "mimetype": "text/x-python",
   "name": "python",
   "nbconvert_exporter": "python",
   "pygments_lexer": "ipython3",
   "version": "3.8.5"
  }
 },
 "nbformat": 4,
 "nbformat_minor": 2
}
