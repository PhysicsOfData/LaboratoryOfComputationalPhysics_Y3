{
 "cells": [
  {
   "cell_type": "markdown",
   "metadata": {},
   "source": [
    "1\\. Write the following as a list comprehension"
   ]
  },
  {
   "cell_type": "code",
   "execution_count": 25,
   "metadata": {},
   "outputs": [
    {
     "name": "stdout",
     "output_type": "stream",
     "text": [
      "[(0, 0), (0, 1), (0, 2), (0, 3), (1, 0), (1, 1), (1, 2), (1, 3), (2, 0), (2, 1), (2, 2), (2, 3)]\n",
      "[(0, 0), (0, 1), (0, 2), (0, 3), (1, 0), (1, 1), (1, 2), (1, 3), (2, 0), (2, 1), (2, 2), (2, 3)]\n",
      "[0, 4, 16]\n",
      "[0, 4, 16]\n"
     ]
    }
   ],
   "source": [
    "# 1\n",
    "ans = []\n",
    "for i in range(3):\n",
    "    for j in range(4):\n",
    "        ans.append((i, j))\n",
    "print (ans)\n",
    "#--Solution--\n",
    "ans = [(x, y) for x in [0,1,2] for y in [0,1,2,3]]\n",
    "print (ans)\n",
    "\n",
    "# 2\n",
    "ans = map(lambda x: x*x, filter(lambda x: x%2 == 0, range(5)))\n",
    "print (list(ans))\n",
    "#--Solution--\n",
    "ans=[i for i in map(lambda x: x*x, filter(lambda x: x%2 == 0, range(5)))]\n",
    "print(ans)"
   ]
  },
  {
   "cell_type": "markdown",
   "metadata": {},
   "source": [
    "2\\. Convert the following function into a pure function with no global variables (=without changing alist, must remain teh same always) or side effects"
   ]
  },
  {
   "cell_type": "code",
   "execution_count": 34,
   "metadata": {},
   "outputs": [
    {
     "name": "stdout",
     "output_type": "stream",
     "text": [
      "[1, 2, 3]\n",
      "[1, 2, 3, 0, 1, 2, 3, 4]\n",
      "[1, 2, 3]\n"
     ]
    }
   ],
   "source": [
    "x = 5\n",
    "def f(alist):\n",
    "    local, aggiunta = [], []\n",
    "    for i in range(x):\n",
    "        aggiunta.append(i)\n",
    "    local=alist+aggiunta\n",
    "    return local\n",
    "\n",
    "alist = [1,2,3]\n",
    "print(alist)\n",
    "ans = f(alist)\n",
    "print (ans)\n",
    "print (alist) # alist now is not changed!"
   ]
  },
  {
   "cell_type": "markdown",
   "metadata": {},
   "source": [
    "3\\. Write a `decorator` hello that makes every wrapped function print “Hello!”, i.e. something like:\n",
    "\n",
    "```python\n",
    "@hello\n",
    "def square(x):\n",
    "    return x*x\n",
    "```\n",
    "\n"
   ]
  },
  {
   "cell_type": "code",
   "execution_count": 8,
   "metadata": {},
   "outputs": [
    {
     "name": "stdout",
     "output_type": "stream",
     "text": [
      "Hello!\n",
      "16\n"
     ]
    }
   ],
   "source": [
    "def hello(func):\n",
    "    def wrapper(*args, **kwargs):\n",
    "        print(\"Hello!\")\n",
    "        func(*args, **kwargs)\n",
    "        return func(*args, **kwargs)\n",
    "    return wrapper\n",
    "\n",
    "@hello\n",
    "def square(x):\n",
    "    return x*x\n",
    "\n",
    "n=4\n",
    "print(square(n))"
   ]
  },
  {
   "cell_type": "markdown",
   "metadata": {},
   "source": [
    "4\\. Write the factorial function so that it a) does and b) does not use recursion."
   ]
  },
  {
   "cell_type": "code",
   "execution_count": 13,
   "metadata": {},
   "outputs": [
    {
     "name": "stdout",
     "output_type": "stream",
     "text": [
      "24\n",
      "24\n"
     ]
    }
   ],
   "source": [
    "def factR(n):\n",
    "    \"\"\"Factorial with recursion\"\"\"\n",
    "    ans=1\n",
    "    # base case\n",
    "    if n==0:\n",
    "        return ans\n",
    "    # recursive case\n",
    "    else:\n",
    "        ans*=n*factR(n-1)\n",
    "        return ans\n",
    "\n",
    "def factNR(n):\n",
    "    \"\"\"Factorial without recursion\"\"\"\n",
    "    ans=1\n",
    "    # base case\n",
    "    if n==0 or n==1:\n",
    "        return 1\n",
    "    # recursive case\n",
    "    else:\n",
    "        while n>1:\n",
    "            ans*=n\n",
    "            n-=1\n",
    "        return ans\n",
    "\n",
    "n=4   \n",
    "print (factR(n))\n",
    "print (factNR(n))"
   ]
  },
  {
   "cell_type": "markdown",
   "metadata": {},
   "source": [
    "5\\. Use HOFs (zip in particular) to compute the weight of a circle, a disk and a sphere, assuming different radii and different densities:\n",
    "\n",
    "```python\n",
    "densities = {\"Al\":[0.5,1,2],\"Fe\":[3,4,5],\"Pb\": [15,20,30]}\n",
    "radii = [1,2,3]\n",
    "```\n",
    "\n",
    "where the entries of the dictionary's values are the linear, superficial and volumetric densities of the materials respectively.\n",
    "\n",
    "In particular define a list of three lambda functions using a comprehension that computes the circumference, the area and the volume for a given radius.\n"
   ]
  },
  {
   "cell_type": "code",
   "execution_count": 3,
   "metadata": {},
   "outputs": [
    {
     "name": "stdout",
     "output_type": "stream",
     "text": [
      "[[6.283185307179586, 3.141592653589793, 4.1887902047863905], [12.566370614359172, 12.566370614359172, 33.510321638291124], [18.84955592153876, 28.274333882308138, 113.09733552923254]]\n",
      "Al: Radius | weight | figure\n",
      "1 | 6.283185307179586 | 0.5 | 3.141592653589793 | circle\n",
      "1 | 3.141592653589793 | 1 | 3.141592653589793 | disk\n",
      "1 | 4.1887902047863905 | 2 | 8.377580409572781 | sphere\n",
      "2 | 12.566370614359172 | 0.5 | 6.283185307179586 | circle\n",
      "2 | 12.566370614359172 | 1 | 12.566370614359172 | disk\n",
      "2 | 33.510321638291124 | 2 | 67.02064327658225 | sphere\n",
      "3 | 18.84955592153876 | 0.5 | 9.42477796076938 | circle\n",
      "3 | 28.274333882308138 | 1 | 28.274333882308138 | disk\n",
      "3 | 113.09733552923254 | 2 | 226.19467105846508 | sphere\n",
      "Fe: Radius | weight | figure\n",
      "1 | 6.283185307179586 | 3 | 18.84955592153876 | circle\n",
      "1 | 3.141592653589793 | 4 | 12.566370614359172 | disk\n",
      "1 | 4.1887902047863905 | 5 | 20.94395102393195 | sphere\n",
      "2 | 12.566370614359172 | 3 | 37.69911184307752 | circle\n",
      "2 | 12.566370614359172 | 4 | 50.26548245743669 | disk\n",
      "2 | 33.510321638291124 | 5 | 167.5516081914556 | sphere\n",
      "3 | 18.84955592153876 | 3 | 56.548667764616276 | circle\n",
      "3 | 28.274333882308138 | 4 | 113.09733552923255 | disk\n",
      "3 | 113.09733552923254 | 5 | 565.4866776461627 | sphere\n",
      "Pb: Radius | weight | figure\n",
      "1 | 6.283185307179586 | 15 | 94.24777960769379 | circle\n",
      "1 | 3.141592653589793 | 20 | 62.83185307179586 | disk\n",
      "1 | 4.1887902047863905 | 30 | 125.66370614359171 | sphere\n",
      "2 | 12.566370614359172 | 15 | 188.49555921538757 | circle\n",
      "2 | 12.566370614359172 | 20 | 251.32741228718345 | disk\n",
      "2 | 33.510321638291124 | 30 | 1005.3096491487337 | sphere\n",
      "3 | 18.84955592153876 | 15 | 282.7433388230814 | circle\n",
      "3 | 28.274333882308138 | 20 | 565.4866776461628 | disk\n",
      "3 | 113.09733552923254 | 30 | 3392.920065876976 | sphere\n",
      "[3.141592653589793, 3.141592653589793, 8.377580409572781, 6.283185307179586, 12.566370614359172, 67.02064327658225, 9.42477796076938, 28.274333882308138, 226.19467105846508, 18.84955592153876, 12.566370614359172, 20.94395102393195, 37.69911184307752, 50.26548245743669, 167.5516081914556, 56.548667764616276, 113.09733552923255, 565.4866776461627, 94.24777960769379, 62.83185307179586, 125.66370614359171, 188.49555921538757, 251.32741228718345, 1005.3096491487337, 282.7433388230814, 565.4866776461628, 3392.920065876976]\n"
     ]
    }
   ],
   "source": [
    "from math import pi\n",
    "\n",
    "weights=[]\n",
    "densities = {\"Al\":[0.5,1,2],\"Fe\":[3,4,5],\"Pb\": [15,20,30]}\n",
    "radii = [1,2,3]\n",
    "dims=[i for i in map(lambda x: [2*pi*x, pi*x**2, pi*4/3*x**3], radii)]\n",
    "print (dims)\n",
    "#element = input('Choose the element between: alluminium \"Al\", iron \"Fe\" or piomb \"Pb\": ')\n",
    "figures=['circle', 'disk', 'sphere']\n",
    "#print('Radium | weight | figure')\n",
    "materials=[\"Al\", \"Fe\", \"Pb\"]\n",
    "for element in materials:\n",
    "    print(str(element) + ': Radius | weight | figure')\n",
    "    for i in range (0,3):\n",
    "        for x, y, z in zip(dims[i], densities[element], figures):\n",
    "            w=x*y\n",
    "            weights.append(w)\n",
    "            print(str(radii[i])+' | '+str(x)+' | '+str(y)+' | '+str(w)+' | '+str(z))\n",
    "print(weights)"
   ]
  },
  {
   "cell_type": "markdown",
   "metadata": {},
   "source": [
    "6\\. Edit the class defintion to add an instance attribute of is_hungry = True to the Dog class. Then add a method called eat() which changes the value of is_hungry to False when called. Figure out the best way to feed each dog and then output “My dogs are hungry.” if all are hungry or “My dogs are not hungry.” if all are not hungry. The final output should look like this:\n",
    "\n",
    "`I have 3 dogs. \n",
    "Tom is 6. \n",
    "Fletcher is 7. \n",
    "Larry is 9. \n",
    "And they're all mammals, of course. \n",
    "My dogs are not hungry.\n",
    "`\n",
    "\n",
    "```python\n",
    "# Parent class\n",
    "class Dog:\n",
    "\n",
    "    # Class attribute\n",
    "    species = 'mammal'\n",
    "\n",
    "    # Initializer / Instance attributes\n",
    "    def __init__(self, name, age):\n",
    "        self.name = name\n",
    "        self.age = age\n",
    "\n",
    "    # instance method\n",
    "    def description(self):\n",
    "        return \"{} is {} years old\".format(self.name, self.age)\n",
    "\n",
    "    # instance method\n",
    "    def speak(self, sound):\n",
    "        return \"{} says {}\".format(self.name, sound)\n",
    "\n",
    "# Child class (inherits from Dog class)\n",
    "class RussellTerrier(Dog):\n",
    "    def run(self, speed):\n",
    "        return \"{} runs {}\".format(self.name, speed)\n",
    "\n",
    "# Child class (inherits from Dog class)\n",
    "class Bulldog(Dog):\n",
    "    def run(self, speed):\n",
    "        return \"{} runs {}\".format(self.name, speed)\n",
    "```"
   ]
  },
  {
   "cell_type": "code",
   "execution_count": null,
   "metadata": {},
   "outputs": [],
   "source": [
    "from itertools import count\n",
    "\n",
    "# Parent class\n",
    "class Dog:\n",
    "    _ids = count(1)\n",
    "    \n",
    "    # Class attribute\n",
    "    species = 'mammal'\n",
    "    \n",
    "    # Initializer / Instance attributes\n",
    "    def __init__(self, name, age):\n",
    "        self.id = next(self._ids)\n",
    "        self.name = name\n",
    "        self.age = age\n",
    "        self.is_hungry = True\n",
    "        \n",
    "\n",
    "    # instance method\n",
    "    def description(self):\n",
    "        return \"{} is {} years old\".format(self.name, self.age)\n",
    "    def eat(self):\n",
    "        self.is_hungry = False\n",
    "\n",
    "    # instance method\n",
    "    def speak(self, sound):\n",
    "        return \"{} says {}\".format(self.name, sound)\n",
    "\n",
    "# Child class (inherits from Dog class)\n",
    "class RussellTerrier(Dog):\n",
    "    def run(self, speed):\n",
    "        return \"{} runs {}\".format(self.name, speed)\n",
    "\n",
    "# Child class (inherits from Dog class)\n",
    "class Bulldog(Dog):\n",
    "    def run(self, speed):\n",
    "        return \"{} runs {}\".format(self.name, speed)\n",
    "\n",
    "tom = Dog(\"Tom\", 6)\n",
    "fletcher = Dog(\"Fletcher\", 7)\n",
    "larry = Dog(\"Larry\", 9)\n",
    "entries=[tom, fletcher, larry]\n",
    "print('I have ' + str(len(entries)) + ' dogs')\n",
    "for cane in entries:\n",
    "    print (cane.description())\n",
    "statement=True\n",
    "for dog in entries:\n",
    "    if dog.species == 'mammal':\n",
    "        statement= statement & True\n",
    "    else:\n",
    "        statement= statement & False\n",
    "if statement==True:\n",
    "    print(\"And they're all \" + str(tom.species) + \", of course\")\n",
    "for cane in entries:\n",
    "    cibo=input(\"Feed \" + cane.name + \"? [y/n] \")\n",
    "    if (cibo=='y'):\n",
    "        cane.eat()\n",
    "hunger = 0\n",
    "for cane in entries:\n",
    "    if(cane.is_hungry == True):\n",
    "        hunger += 1 \n",
    "if(hunger == 0):\n",
    "    print (\"My dogs aren't hungry\")\n",
    "if(hunger == len(entries)):\n",
    "    print (\"My dogs are hungry\")"
   ]
  },
  {
   "cell_type": "code",
   "execution_count": null,
   "metadata": {},
   "outputs": [],
   "source": []
  },
  {
   "cell_type": "code",
   "execution_count": null,
   "metadata": {},
   "outputs": [],
   "source": []
  }
 ],
 "metadata": {
  "kernelspec": {
   "display_name": "Python 3",
   "language": "python",
   "name": "python3"
  },
  "language_info": {
   "codemirror_mode": {
    "name": "ipython",
    "version": 3
   },
   "file_extension": ".py",
   "mimetype": "text/x-python",
   "name": "python",
   "nbconvert_exporter": "python",
   "pygments_lexer": "ipython3",
   "version": "3.7.4"
  }
 },
 "nbformat": 4,
 "nbformat_minor": 2
}
