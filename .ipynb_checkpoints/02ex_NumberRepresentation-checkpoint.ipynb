{
 "cells": [
  {
   "cell_type": "markdown",
   "metadata": {},
   "source": [
    "1\\. Write a function that converts number representation (bin<->dec<->hex)"
   ]
  },
  {
   "cell_type": "code",
   "execution_count": 1,
   "metadata": {},
   "outputs": [
    {
     "name": "stdout",
     "output_type": "stream",
     "text": [
      "0b1011100\n",
      "92\n"
     ]
    }
   ],
   "source": [
    "def base_converter(number, targetbase = 2):\n",
    "    characters = list(\"0123456789abcdef\") ## to be extended if you want to convert with sourcebase>16\n",
    "    try:\n",
    "        number[1]\n",
    "    except:\n",
    "        val10 = number\n",
    "    else:\n",
    "        if( number[1] == 'b' ): sourcebase = 2\n",
    "        elif( number[1] == 'x' ): sourcebase = 16\n",
    "        ## 'elif' to add other sourcebases, if needed.\n",
    "        number = number[:1:-1]\n",
    "        val10 = 0\n",
    "        for i,j in enumerate(number):\n",
    "            val10 += characters.index(j) * sourcebase**i\n",
    "    \n",
    "    if( targetbase == 10 ): return val10\n",
    "    \n",
    "    val = \"\"\n",
    "    while( val10 > 0 ):\n",
    "        rem = val10 % targetbase\n",
    "        val = characters[rem] + val\n",
    "        val10 = val10 // targetbase\n",
    "    return val\n",
    "\n",
    "test = bin(92)\n",
    "print(test)\n",
    "print(base_converter(test, 10))"
   ]
  },
  {
   "cell_type": "markdown",
   "metadata": {},
   "source": [
    "2\\. Write a function that converts a 32 bit word into a single precision floating point (i.e. interprets the various bits as sign, mantissa and exponent)"
   ]
  },
  {
   "cell_type": "code",
   "execution_count": 2,
   "metadata": {},
   "outputs": [
    {
     "data": {
      "text/plain": [
       "1.316553672920962e-36"
      ]
     },
     "execution_count": 2,
     "metadata": {},
     "output_type": "execute_result"
    }
   ],
   "source": [
    "def bin_to_f(string):\n",
    "    if( len(string) != 32 ): raise Exception(\"String requested is not 32bits long\")\n",
    "    bias = 127\n",
    "    sign = (-1)**int(string[0])\n",
    "    mantissa = 1\n",
    "    for i,j in enumerate(string[9:]):\n",
    "        mantissa += int(j) * 2**(int(-1-i))\n",
    "    exponent = int(\"0b\"+string[1:9], 2)\n",
    "    return sign * mantissa * 2**(exponent-bias)\n",
    "\n",
    "test = \"00000011111000000000000000000000\"\n",
    "bin_to_f(test)"
   ]
  },
  {
   "cell_type": "markdown",
   "metadata": {},
   "source": [
    "3\\. Write a program to determine the underflow and overflow limits (within a factor of 2) for python on your computer. \n",
    "\n",
    "**Tips**: define two variables inizialized to 1 and halve/double them enough time to exceed the under/over-flow limits  "
   ]
  },
  {
   "cell_type": "code",
   "execution_count": 3,
   "metadata": {},
   "outputs": [
    {
     "name": "stdout",
     "output_type": "stream",
     "text": [
      "The minimum float that can be represented is 5e-324\n",
      "The maximum float that can be represented is 8.98846567431158e+307\n"
     ]
    }
   ],
   "source": [
    "underflow, overflow = 0, 0\n",
    "var = 1\n",
    "while( var != 0 ):\n",
    "    var = var / 2\n",
    "    underflow += 1\n",
    "print(\"The minimum float that can be represented is\", 1/2**(underflow-1))\n",
    "var = 1.\n",
    "while( var < float(\"inf\") ):\n",
    "    var = var * 2\n",
    "    overflow += 1.\n",
    "print(\"The maximum float that can be represented is\", 2**(overflow-1))"
   ]
  },
  {
   "cell_type": "markdown",
   "metadata": {},
   "source": [
    "4\\. Write a program to determine the machine precision\n",
    "\n",
    "**Tips**: define a new variable by adding a smaller and smaller value (proceeding similarly to prob. 2) to an original variable and check the point where the two are the same "
   ]
  },
  {
   "cell_type": "code",
   "execution_count": 4,
   "metadata": {},
   "outputs": [
    {
     "name": "stdout",
     "output_type": "stream",
     "text": [
      "The precision is 5.551115123125783e-17\n"
     ]
    }
   ],
   "source": [
    "var = -5.420380183e15\n",
    "underflow = 0\n",
    "while( var != var + var / 2**underflow ):\n",
    "    underflow += 1\n",
    "print(\"The precision is\", 1/2**underflow)"
   ]
  },
  {
   "cell_type": "markdown",
   "metadata": {},
   "source": [
    "5\\. Write a function that takes in input three parameters $a$, $b$ and $c$ and prints out the two solutions to the quadratic equation $ax^2+bx+c=0$ using the standard formula:\n",
    "$$\n",
    "x=\\frac{-b\\pm\\sqrt{b^2-4ac}}{2a}\n",
    "$$\n",
    "\n",
    "(a) use the program to compute the solution for $a=0.001$, $b=1000$ and $c=0.001$\n",
    "\n",
    "(b) re-express the standard solution formula by multiplying top and bottom by $-b\\mp\\sqrt{b^2-4ac}$ and again find the solution for $a=0.001$, $b=1000$ and $c=0.001$. How does it compare with what previously obtained? Why?\n",
    "\n",
    "(c) write a function that compute the roots of a quadratic equation accurately in all cases"
   ]
  },
  {
   "cell_type": "code",
   "execution_count": 5,
   "metadata": {},
   "outputs": [
    {
     "name": "stdout",
     "output_type": "stream",
     "text": [
      "Case a): (-9.999894245993346e-07, -999999.999999)\n",
      "Case b): (-1.000000000001e-06, -1000010.5755125057)\n",
      "Case c): (-1.000000000001e-06, -999999.999999)\n",
      "3937.007874007874\n"
     ]
    }
   ],
   "source": [
    "def quadratic_a(a, b, c):\n",
    "    x1 = ( -b + (b**2 - 4*a*c)**0.5 ) / 2 / a\n",
    "    x2 = ( -b - (b**2 - 4*a*c)**0.5 ) / 2 / a\n",
    "    return x1,x2\n",
    "\n",
    "def quadratic_b(a, b, c):\n",
    "    x1 = 2 * c / ( -b - (b**2 - 4*a*c)**0.5)\n",
    "    x2 = 2 * c / ( -b + (b**2 - 4*a*c)**0.5)\n",
    "    return x1,x2\n",
    "\n",
    "def quadratic_c(a, b, c):\n",
    "    x1 = 2 * c / ( -b - (b**2 - 4*a*c)**0.5)\n",
    "    x2 = ( -b - (b**2 - 4*a*c)**0.5 ) / 2 / a\n",
    "    return x1,x2\n",
    "\n",
    "### A)\n",
    "print(\"Case a):\", quadratic_a(0.001, 1000, 0.001))\n",
    "\n",
    "### B)\n",
    "print(\"Case b):\", quadratic_b(0.001, 1000, 0.001))\n",
    "\n",
    "### C)\n",
    "print(\"Case c):\", quadratic_c(0.001, 1000, 0.001))\n",
    "\n",
    "print((15500031)**0.5)"
   ]
  },
  {
   "cell_type": "markdown",
   "metadata": {},
   "source": [
    "The correct solutions should be $x_1=-10^{-6}$ and $x_2=-(10^6-10^{-6})$\n",
    "\n",
    "In the case _a)_ we have a very accurate solution for $x_2$, but $x_1$ has a wrong value at the fifth significant digit. In the case _b)_ we have the opposite situation: a very precise value for $x_1$ and a wrong fifth significant digit for $x_2$\n",
    "\n",
    "We can explain these results considering underflow problems. Since the term $4ac$ is very small (order $10^-6$) compared to $b^2$ (order $10^6$), the square root $\\sqrt{b^2-4ac}\\simeq b$. In particular we have no difference between the square root and $b$ up to the 12th digit, so when we subtract the values, we lost the majority of the mantissa, so we lose the majority of the precision in the computation. In fact, in the cases when we add up the square root and $b$, we still have information in the whole mantissa.\n",
    "\n",
    "For this reason is a good idea to avoid subtracting the square root and the $b$ term, and in order to do this we can merge the formulas from case _a)_ and case _b)_ and have a precise solution with, at least, 12 valid digits."
   ]
  },
  {
   "cell_type": "markdown",
   "metadata": {},
   "source": [
    "6\\. Write a program that implements the function $f(x)=x(x−1)$\n",
    "\n",
    "(a) Calculate the derivative of the function at the point $x = 1$ using the derivative definition:\n",
    "\n",
    "$$\n",
    "\\frac{{\\rm d}f}{{\\rm d}x} = \\lim_{\\delta\\to0} \\frac{f(x+\\delta)-f(x)}{\\delta}\n",
    "$$\n",
    "\n",
    "with $\\delta = 10^{−2}$. Calculate the true value of the same derivative analytically and compare with the answer your program gives. The two will not agree perfectly. Why not?\n",
    "\n",
    "(b) Repeat the calculation for $\\delta = 10^{−4}, 10^{−6}, 10^{−8}, 10^{−10}, 10^{−12}$ and $10^{−14}$. How does the accuracy scales with $\\delta$?"
   ]
  },
  {
   "cell_type": "code",
   "execution_count": 6,
   "metadata": {},
   "outputs": [
    {
     "name": "stdout",
     "output_type": "stream",
     "text": [
      "Computative value: 1.010000000000001\n",
      "Analytical value: 1\n",
      "\n",
      "\n",
      "For delta = 0.0001  we compute: 1.0000999999998899 that has a relative error of 9.999999988985486e-05\n",
      "For delta = 1e-06  we compute: 1.0000009999177333 that has a relative error of 9.99917733279787e-07\n",
      "For delta = 1e-08  we compute: 1.0000000039225287 that has a relative error of 3.922528746258536e-09\n",
      "For delta = 1e-10  we compute: 1.000000082840371 that has a relative error of 8.284037100736441e-08\n",
      "For delta = 1e-12  we compute: 1.0000889005833413 that has a relative error of 8.890058334132256e-05\n",
      "For delta = 1e-14  we compute: 0.9992007221626509 that has a relative error of -0.0007992778373491216\n"
     ]
    }
   ],
   "source": [
    "def function(x):\n",
    "    return x*(x-1)\n",
    "def difference_quotient(f, x, delta = 1e-2):\n",
    "    return ( f(x+delta) - f(x) ) / delta\n",
    "\n",
    "### A)\n",
    "x = 1\n",
    "print(\"Computative value:\", difference_quotient(function, x))\n",
    "print(\"Analytical value: 1\")\n",
    "\n",
    "print(\"\\n\")\n",
    "### B)\n",
    "for exponent in range(-4, -16, -2):\n",
    "    delta = 10**exponent\n",
    "    der = difference_quotient(function, x, delta)\n",
    "    print(\"For delta =\", delta, \" we compute:\", der, \"that has a relative error of\", der-1)"
   ]
  },
  {
   "cell_type": "markdown",
   "metadata": {},
   "source": [
    "The definition of the derivative expect $\\delta$ to be very small, so if we compute it's value with $\\delta=10^{-2}$ we cannot have a correct result. We can try to compute the derivative with smaller values of $\\delta$, and we expect them to be closer and closer to the correct value (analytically obtained).\n",
    "\n",
    "The computation behaves as expected up to values of $\\delta\\geq10^{-10}$, then the smaller $\\delta$ we use, the more the relative error of the derivative increases. We have to figure out why, probably it's due to numerical truncation.\n",
    "\n",
    "If we specialise definition of the derivative to the case where the function is $f(x)=x(x-1)$, we get that ```difference_quotient``` has to compute\n",
    "\n",
    "\\begin{equation}\n",
    "\\frac{df}{dx}=\\lim_{\\delta\\to0}\\frac{(x+\\delta)(x+\\delta-1)-x(x-1)}{\\delta}\n",
    "\\end{equation}\n",
    "\n",
    "Since $x=1$ does not have any computational truncation, we will always get $f(1)=1(1-1)=0$ with no error. The problem comes when the algorithm tries to evaluate $f(1+\\delta)=(1+\\delta)(1+\\delta-1)$, in fact if $\\delta$ is much smaller than $1$, adding up these two terms we have a truncation that is comparable to $\\delta$. In detail, in the sum $1+\\delta-1\\neq\\delta$, when the machine adds the first to terms, some of the digits of the mantissa of $\\delta$ are lost, and when the second $1$ is added the results is different from $\\delta$. This fact introduces an error and, at the end of the day, $\\frac{(1+\\delta)(1+\\delta-1)}{\\delta}\\neq1+\\delta$. Besides the smaller is $\\delta$, the greater is the error due to the truncation.\n",
    "\n",
    "In conclusion, $\\delta$ must be small in order to compute the derivative, but not too small in order to avoid truncation problems."
   ]
  },
  {
   "cell_type": "markdown",
   "metadata": {},
   "source": [
    "7\\. Consider the integral of the semicircle of radius 1:\n",
    "$$\n",
    "I=\\int_{-1}^{1} \\sqrt(1-x^2) {\\rm d}x\n",
    "$$\n",
    "which it's known to be $I=\\frac{\\pi}{2}=1.57079632679...$.\n",
    "Alternatively we can use the Riemann definition of the integral:\n",
    "$$\n",
    "I=\\lim_{N\\to\\infty} \\sum_{k=1}^{N} h y_k \n",
    "$$\n",
    "\n",
    "with $h=2/N$ the width of each of the $N$ slices the domain is divided into and where\n",
    "$y_k$ is the value of the function at the $k-$th slice.\n",
    "\n",
    "(a) Write a programe to compute the integral with $N=100$. How does the result compares to the true value?\n",
    "\n",
    "(b) How much can $N$ be increased if the computation needs to be run in less than a second? What is the gain in running it for 1 minute? \n"
   ]
  },
  {
   "cell_type": "code",
   "execution_count": 7,
   "metadata": {},
   "outputs": [
    {
     "name": "stdout",
     "output_type": "stream",
     "text": [
      "A)\n",
      "The correct value is: 1.5707963267948966\n",
      "The value with N=100 is: 1.5712827762297958 with relative error 0.0003096833285139202\n",
      "\n",
      "B)\n",
      "934 µs ± 2.95 µs per loop (mean ± std. dev. of 7 runs, 1000 loops each)\n",
      "The value with N=4000000 is: 1.5707963268558547 with relative error 3.880714921141603e-11\n",
      "The value with N=240000000 is: 1.5707963267954632 with relative error 3.607455798708842e-13\n"
     ]
    }
   ],
   "source": [
    "from math import pi\n",
    "I_inf = pi / 2\n",
    "\n",
    "def circle(x):\n",
    "    return ( (1 - x) * (1 + x) )**0.5\n",
    "\n",
    "def riemann_semicircle(N):\n",
    "    h = 2 / N\n",
    "    tot = 0\n",
    "    for i in range(N): tot += h * circle( -1 + (i+(i+1)) / 2 * h )\n",
    "    return tot\n",
    "\n",
    "### A)\n",
    "print(\"A)\")\n",
    "print(\"The correct value is:\", I_inf)\n",
    "I_100 = riemann_semicircle(100)\n",
    "print(\"The value with N=100 is:\", I_100, \"with relative error\", (I_100 - I_inf) / I_inf)\n",
    "\n",
    "### B)\n",
    "print(\"\\nB)\")\n",
    "%timeit riemann_semicircle(4000)\n",
    "\n",
    "I_4000000 = riemann_semicircle(4000000)\n",
    "print(\"The value with N=4000000 is:\", I_4000000, \"with relative error\", (I_4000000 - I_inf) / I_inf)\n",
    "I_240000000 = riemann_semicircle(240000000)\n",
    "print(\"The value with N=240000000 is:\", I_240000000, \"with relative error\", (I_240000000 - I_inf) / I_inf)\n",
    "\n"
   ]
  },
  {
   "cell_type": "markdown",
   "metadata": {},
   "source": [
    "The computation with $N=100$ it's not very correct, in fact it has a relative error of $\\sim3\\cdot10^{-4}$ with respect to the true value of $\\pi$.\n",
    "\n",
    "In order to understand what value of $N$ is needed to let the function run for $1s$ we compute the average time for $N=4000$. We measure a bit less than $1ms$, so with $N=1000\\cdot4000$ it should run for $1s$.\n",
    "\n",
    "With this running time we get a very precise value of $\\pi$, with relative error of $\\sim4\\cdot10^{-11}$. We then try to reduce this error even more, increasing $N=2.4\\cdot10^8$ in order to have $1min$ of running time, and this allows us to have a more precise value with relative error of $\\sim4\\cdot10^{-13}$.\n",
    "\n",
    "Having $1min$ of computation time is very demanding, and maybe it isn't worth the $2$ orders of magnitude of accuracy. This result was expected though, because we increased the execution time of only a factor $60$, much less than what we did from $N=100$ to $N=4\\cdot10^6$"
   ]
  },
  {
   "cell_type": "code",
   "execution_count": null,
   "metadata": {},
   "outputs": [],
   "source": []
  }
 ],
 "metadata": {
  "kernelspec": {
   "display_name": "Python 3",
   "language": "python",
   "name": "python3"
  },
  "language_info": {
   "codemirror_mode": {
    "name": "ipython",
    "version": 3
   },
   "file_extension": ".py",
   "mimetype": "text/x-python",
   "name": "python",
   "nbconvert_exporter": "python",
   "pygments_lexer": "ipython3",
   "version": "3.8.5"
  }
 },
 "nbformat": 4,
 "nbformat_minor": 2
}
