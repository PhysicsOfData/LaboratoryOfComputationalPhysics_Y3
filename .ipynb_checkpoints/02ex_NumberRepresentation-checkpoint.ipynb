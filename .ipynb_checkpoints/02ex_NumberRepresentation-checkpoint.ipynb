{
 "cells": [
  {
   "cell_type": "markdown",
   "metadata": {},
   "source": [
    "1\\. Write a function that converts number representation (bin<->dec<->hex)"
   ]
  },
  {
   "cell_type": "code",
   "execution_count": 25,
   "metadata": {},
   "outputs": [
    {
     "name": "stdout",
     "output_type": "stream",
     "text": [
      "Conversion from dec to bin:  235 -> [1, 1, 1, 0, 1, 0, 1, 1]\n",
      "Conversion from bin to dec:  [1, 1, 1, 0, 1, 0, 1, 1] -> 235\n"
     ]
    }
   ],
   "source": [
    "#conversion programs for 8-bit number\n",
    "a=235\n",
    "\n",
    "def conv_db(x):\n",
    "    global bits\n",
    "    bits=[]\n",
    "    for i in range(8):\n",
    "        bits.append(int(x/(2**(7-i))))\n",
    "        x=x-bits[i]*2**(7-i)\n",
    "    return(bits)\n",
    "\n",
    "def conv_bd(x):\n",
    "    global ab\n",
    "    ab=0\n",
    "    for i in range(8):\n",
    "        ab=ab+x[i]*(2**(7-i))\n",
    "    return(ab)\n",
    "\n",
    "conv_db(a)\n",
    "print('Conversion from dec to bin: ',a,'->',bits)\n",
    "conv_bd(bits)\n",
    "print('Conversion from bin to dec: ',bits,'->',ab)\n"
   ]
  },
  {
   "cell_type": "code",
   "execution_count": 31,
   "metadata": {},
   "outputs": [
    {
     "name": "stdout",
     "output_type": "stream",
     "text": [
      "Conversion from dec to hex:  23 -> [1, 7]\n",
      "Conversion from hex to dec:  [1, 7] -> 23\n"
     ]
    }
   ],
   "source": [
    "a=23\n",
    "\n",
    "def transl(y):\n",
    "    if   y=='A'or y=='a' :\n",
    "        tr=10\n",
    "    elif y=='B'or y=='b' :\n",
    "        tr=11 \n",
    "    elif y=='C'or y=='c':\n",
    "        tr=12 \n",
    "    elif y=='D'or y=='d':\n",
    "        tr=13 \n",
    "    elif y=='E'or y=='e':\n",
    "        tr=14 \n",
    "    elif y=='F'or y=='f':\n",
    "        tr=15 \n",
    "    else:\n",
    "        tr=y\n",
    "    return tr \n",
    "\n",
    "def translinv(z):\n",
    "    if   z==10:\n",
    "        tr='A'\n",
    "    elif z==11:\n",
    "        tr='B' \n",
    "    elif z==12:\n",
    "        tr='C' \n",
    "    elif z==13:\n",
    "        tr='D' \n",
    "    elif z==14:\n",
    "        tr='E' \n",
    "    elif z==15:\n",
    "        tr='F' \n",
    "    else:\n",
    "        tr=z\n",
    "    return tr \n",
    "\n",
    "def conv_dx(x):\n",
    "    global hexnum\n",
    "    hexnum=[]\n",
    "    for i in range(2):\n",
    "        hexnum.append(translinv(int(x/(16**(1-i)))))\n",
    "        x=x-int(x/(16**(1-i)))*16**(1-i)\n",
    "    return(hexnum)\n",
    "\n",
    "def conv_xd(x):\n",
    "    global ab\n",
    "    ab=0\n",
    "    for i in range(2):\n",
    "        ab=ab+transl(x[i])*(16**(1-i))\n",
    "    return(ab)\n",
    "\n",
    "conv_dx(a)\n",
    "print('Conversion from dec to hex: ',a,'->',hexnum)\n",
    "conv_xd(hexnum)\n",
    "print('Conversion from hex to dec: ',hexnum,'->',ab)"
   ]
  },
  {
   "cell_type": "markdown",
   "metadata": {},
   "source": [
    "2\\. Write a function that converts a 32 bit word into a single precision floating point (i.e. interprets the various bits as sign, mantissa and exponent)"
   ]
  },
  {
   "cell_type": "code",
   "execution_count": 46,
   "metadata": {},
   "outputs": [
    {
     "name": "stdout",
     "output_type": "stream",
     "text": [
      "The sign is:  0\n",
      "The exponent is:  [1, 1, 0, 0, 0, 1, 1, 0]\n",
      "The mantissa is:  [1, 0, 1, 0, 0, 1, 0, 1, 1, 0, 0, 0, 0, 1, 0, 1, 1, 0, 1, 1, 1, 1]\n"
     ]
    }
   ],
   "source": [
    "string='ciao'\n",
    "def conv_sf(s):\n",
    "    dec=[i for i in s.encode('ascii')]\n",
    "    bit=[]\n",
    "    for i in range(4): \n",
    "        a=conv_db(dec[i])\n",
    "        for j in range(8):\n",
    "            bit.append(a[j])\n",
    "    \n",
    "    print('The sign is: ',bit[0])\n",
    "    print('The exponent is: ', bit[1:9])\n",
    "    print('The mantissa is: ', bit[10:32])\n",
    "    \n",
    "conv_sf(string)"
   ]
  },
  {
   "cell_type": "markdown",
   "metadata": {},
   "source": [
    "3\\. Write a program to determine the underflow and overflow limits (within a factor of 2) for python on your computer. \n",
    "\n",
    "**Tips**: define two variables inizialized to 1 and halve/double them enough time to exceed the under/over-flow limits  "
   ]
  },
  {
   "cell_type": "code",
   "execution_count": 13,
   "metadata": {},
   "outputs": [
    {
     "name": "stdout",
     "output_type": "stream",
     "text": [
      "[2]\n",
      "[4]\n",
      "[8]\n",
      "[16]\n",
      "[32]\n",
      "[64]\n",
      "[128]\n",
      "[256]\n",
      "[512]\n",
      "[1024]\n",
      "[2048]\n",
      "[4096]\n",
      "[8192]\n",
      "[16384]\n",
      "[32768]\n",
      "[65536]\n",
      "[131072]\n",
      "[262144]\n",
      "[524288]\n",
      "[1048576]\n",
      "[2097152]\n",
      "[4194304]\n",
      "[8388608]\n",
      "[16777216]\n",
      "[33554432]\n",
      "[67108864]\n",
      "[134217728]\n",
      "[268435456]\n",
      "[536870912]\n",
      "[1073741824]\n",
      "[-2147483648]\n",
      "[0]\n",
      "[0]\n"
     ]
    }
   ],
   "source": [
    "# integers can't overflow in python if the operations are done in pure python, because python integers have arbitrary precision\n",
    "# integers can   overflow in python if the operations are done in the pydata stack (numpy/pandas), \n",
    "# because they use C-style fixed-precision integers.\n",
    "# (from: https://mortada.net/can-integer-operations-overflow-in-python.html)\n",
    "import numpy as np\n",
    "a=np.array([1])\n",
    "b=np.array([0])\n",
    "while a!=b:\n",
    "    b=np.copy(a)\n",
    "    a=np.copy(a*2)\n",
    "    print(a)\n",
    "#2^30 is represented, but 2^31 becomes negative\n",
    "\n",
    "# for the underflow see ex.4"
   ]
  },
  {
   "cell_type": "markdown",
   "metadata": {},
   "source": [
    "4\\. Write a program to determine the machine precision\n",
    "\n",
    "**Tips**: define a new variable by adding a smaller and smaller value (proceeding similarly to prob. 2) to an original variable and check the point where the two are the same "
   ]
  },
  {
   "cell_type": "code",
   "execution_count": 39,
   "metadata": {},
   "outputs": [
    {
     "name": "stdout",
     "output_type": "stream",
     "text": [
      "Machine Precision is:  5e-324\n"
     ]
    }
   ],
   "source": [
    "#adding a small quantity and verify when these two are the same is equal to verify when the difference between these two is 0 \n",
    "a=1\n",
    "while a!=0:\n",
    "    b=a\n",
    "    a=a/2\n",
    "\n",
    "print('Machine Precision is: ',b)"
   ]
  },
  {
   "cell_type": "markdown",
   "metadata": {},
   "source": [
    "5\\. Write a function that takes in input three parameters $a$, $b$ and $c$ and prints out the two solutions to the quadratic equation $ax^2+bx+c=0$ using the standard formula:\n",
    "$$\n",
    "x=\\frac{-b\\pm\\sqrt{b^2-4ac}}{2a}\n",
    "$$\n",
    "\n",
    "(a) use the program to compute the solution for $a=0.001$, $b=1000$ and $c=0.001$\n",
    "\n",
    "(b) re-express the standard solution formula by multiplying top and bottom by $-b\\mp\\sqrt{b^2-4ac}$ and again find the solution for $a=0.001$, $b=1000$ and $c=0.001$. How does it compare with what previously obtained? Why?\n",
    "\n",
    "(c) write a function that compute the roots of a quadratic equation accurately in all cases"
   ]
  },
  {
   "cell_type": "code",
   "execution_count": 13,
   "metadata": {},
   "outputs": [
    {
     "name": "stdout",
     "output_type": "stream",
     "text": [
      "-9.999894245993346e-07 -1000010.5755125057\n"
     ]
    }
   ],
   "source": [
    "a=0.001\n",
    "b=1000\n",
    "c=0.001\n",
    "\n",
    "def roots1(x,y,z):\n",
    "    global x1,x2\n",
    "    c=y/2\n",
    "    x1=(-c+(c**2-x*z)**0.5)/(x)\n",
    "    x2=(-c-(c**2-x*z)**0.5)/(x)\n",
    "    return x1,x2\n",
    "\n",
    "def roots2(x,y,z):\n",
    "    global x1,x2\n",
    "    x1=(2*z)/(-y-(y**2-4*x*z)**0.5)\n",
    "    x2=(2*z)/(-y+(y**2-4*x*z)**0.5)\n",
    "    return x1,x2\n",
    "\n",
    "roots1(a,b,c)\n",
    "roots2(a,b,c)\n",
    "\n",
    "#we aren't able to write the solution X1(+), X2(-), but we know for sure that X1=0- and X2=(-10^6)+ so it's impossibile that\n",
    "#X2=-1000010.57... but have to be -999... -> so in this sense, calculating X2 with the 1° method is better\n",
    "#on the other hand, because -a(X1+X2)=b, than for calculate X1 is better the 2° method\n",
    "\n",
    "def rootsgen(x,y,z):\n",
    "    global x1,x2\n",
    "    c=y/2\n",
    "    x1=(-c+(c**2-x*z)**0.5)/(x)\n",
    "    x2=(2*z)/(-y+(y**2-4*x*z)**0.5)\n",
    "    return x1,x2\n",
    "\n",
    "rootsgen(a,b,c)\n",
    "print(x1,x2)"
   ]
  },
  {
   "cell_type": "markdown",
   "metadata": {},
   "source": [
    "6\\. Write a program that implements the function $f(x)=x(x−1)$\n",
    "\n",
    "(a) Calculate the derivative of the function at the point $x = 1$ using the derivative definition:\n",
    "\n",
    "$$\n",
    "\\frac{{\\rm d}f}{{\\rm d}x} = \\lim_{\\delta\\to0} \\frac{f(x+\\delta)-f(x)}{\\delta}\n",
    "$$\n",
    "\n",
    "with $\\delta = 10^{−2}$. Calculate the true value of the same derivative analytically and compare with the answer your program gives. The two will not agree perfectly. Why not?\n",
    "\n",
    "(b) Repeat the calculation for $\\delta = 10^{−4}, 10^{−6}, 10^{−8}, 10^{−10}, 10^{−12}$ and $10^{−14}$. How does the accuracy scales with $\\delta$?"
   ]
  },
  {
   "cell_type": "code",
   "execution_count": 55,
   "metadata": {},
   "outputs": [
    {
     "name": "stdout",
     "output_type": "stream",
     "text": [
      "True derivative is:  1\n",
      "1.010000000000001\n"
     ]
    }
   ],
   "source": [
    "x=1\n",
    "\n",
    "def f(x):\n",
    "    fx=x*(x-1)\n",
    "    return fx\n",
    "\n",
    "def df(x,i):\n",
    "    d=10**(-i)\n",
    "    dfx=(f(x+d)-f(x))/d\n",
    "    return dfx\n",
    "\n",
    "print('True derivative is: ',2*x-1)\n",
    "print(df(x,2))\n",
    "#these two values don't corrispond because we are using the a taylor expansion.\n",
    "#Numerically this method has a poor error; it's better to use x(i+1)-x(i-1), in order to calcuate x'(i)."
   ]
  },
  {
   "cell_type": "code",
   "execution_count": 53,
   "metadata": {},
   "outputs": [
    {
     "name": "stdout",
     "output_type": "stream",
     "text": [
      "True derivative is:  1\n",
      "1.010000000000001\n",
      "1.0000999999998899\n",
      "1.0000009999177333\n",
      "1.0000000039225287\n",
      "1.000000082840371\n",
      "1.0000889005833413\n"
     ]
    }
   ],
   "source": [
    "print('True derivative is: ',2*x-1)\n",
    "for i in range(2,14): \n",
    "    if i%2==0: print(df(x,i))\n",
    "#if the accuracy becames to much smaller, truncation error occurs and so a decreasing order of d, dosen't imply anymore \n",
    "#a better solution for x'"
   ]
  },
  {
   "cell_type": "markdown",
   "metadata": {},
   "source": [
    "7\\. Consider the integral of the semicircle of radius 1:\n",
    "$$\n",
    "I=\\int_{-1}^{1} \\sqrt(1-x^2) {\\rm d}x\n",
    "$$\n",
    "which it's known to be $I=\\frac{\\pi}{2}=1.57079632679...$.\n",
    "Alternatively we can use the Riemann definition of the integral:\n",
    "$$\n",
    "I=\\lim_{N\\to\\infty} \\sum_{k=1}^{N} h y_k \n",
    "$$\n",
    "\n",
    "with $h=2/N$ the width of each of the $N$ slices the domain is divided into and where\n",
    "$y_k$ is the value of the function at the $k-$th slice.\n",
    "\n",
    "(a) Write a programe to compute the integral with $N=100$. How does the result compares to the true value?\n",
    "\n",
    "(b) How much can $N$ be increased if the computation needs to be run in less than a second? What is the gain in running it for 1 minute? \n"
   ]
  },
  {
   "cell_type": "code",
   "execution_count": 84,
   "metadata": {},
   "outputs": [
    {
     "name": "stdout",
     "output_type": "stream",
     "text": [
      "The integral I is:  1.5707963267948966\n",
      "The integral I calculated is:  1.5691342555492505\n",
      "The error is Ith-Ical: 0.0016620712456461018\n"
     ]
    }
   ],
   "source": [
    "import math as m\n",
    "N=100\n",
    "h=2/N\n",
    "\n",
    "def f(x):\n",
    "    fx=(1-x*x)**0.5\n",
    "    return fx\n",
    "\n",
    "I=0\n",
    "for i in range(N):\n",
    "    I=I+h*f(-1+h*i)\n",
    "print('The integral I is: ',m.pi/2)\n",
    "print('The integral I calculated is: ',I)\n",
    "print('The error is Ith-Ical:',m.pi/2-I)"
   ]
  },
  {
   "cell_type": "code",
   "execution_count": 85,
   "metadata": {},
   "outputs": [
    {
     "name": "stdout",
     "output_type": "stream",
     "text": [
      "The integral I is:  1.5707963267948966\n",
      "The integral I calculated is:  1.5691342555492505\n",
      "The error is Ith-Ical: 0.0016620712456461018\n",
      "Time Required:  0.9184725284576416\n"
     ]
    }
   ],
   "source": [
    "import math as m\n",
    "import time\n",
    "N=1300000 \n",
    "#N=10000000\n",
    "h=2/N\n",
    "\n",
    "tic=time.time()\n",
    "def integral(x):\n",
    "    I=0\n",
    "    for i in range(x):\n",
    "        y=(1-(-1+h*i)**2)**0.5\n",
    "        I=I+h*y\n",
    "    return I\n",
    "integral(N)\n",
    "toc=time.time()\n",
    "print('The integral I is: ',m.pi/2)\n",
    "print('The integral I calculated is: ',I)\n",
    "print('The error is Ith-Ical:',m.pi/2-I)\n",
    "print('Time Required: ',toc-tic)\n",
    "\n",
    "#with N=10000000 time required is 7.511s, the error is 5.26*10^-5\n",
    "#with N= 1300000 time required is 0.929s, the error is 5.26*10^-5"
   ]
  }
 ],
 "metadata": {
  "kernelspec": {
   "display_name": "Python 3",
   "language": "python",
   "name": "python3"
  },
  "language_info": {
   "codemirror_mode": {
    "name": "ipython",
    "version": 3
   },
   "file_extension": ".py",
   "mimetype": "text/x-python",
   "name": "python",
   "nbconvert_exporter": "python",
   "pygments_lexer": "ipython3",
   "version": "3.8.5"
  }
 },
 "nbformat": 4,
 "nbformat_minor": 2
}
