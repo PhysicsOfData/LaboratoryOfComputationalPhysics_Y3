{
 "cells": [
  {
   "cell_type": "markdown",
   "metadata": {},
   "source": [
    "1\\. Write a function that converts number representation (bin<->dec<->hex)"
   ]
  },
  {
   "cell_type": "code",
   "execution_count": 15,
   "metadata": {},
   "outputs": [
    {
     "name": "stdout",
     "output_type": "stream",
     "text": [
      "0b100010\n",
      "0b100010\n",
      "12\n"
     ]
    }
   ],
   "source": [
    "def convert(s,t):\n",
    "    if s[1] == \"b\":\n",
    "        if t == \"bin\":\n",
    "            return s\n",
    "        elif t == \"dec\":\n",
    "            return int(s,2)\n",
    "        elif t == \"hex\":\n",
    "            return hex(int(s,2))\n",
    "        else:\n",
    "            return 0\n",
    "    \n",
    "        \n",
    "    elif s[1] == \"x\":\n",
    "        if t == \"bin\":\n",
    "            return bin(int(s, 16))\n",
    "        elif t == \"dec\":\n",
    "            return int(s,16)\n",
    "        elif t == \"hex\":\n",
    "            return s\n",
    "        else:\n",
    "            return 0\n",
    "    \n",
    "    elif type(s) == int:\n",
    "        if t == \"bin\":\n",
    "            return bin(s)\n",
    "        elif t == \"dec\":\n",
    "            return s\n",
    "        elif t == \"hex\":\n",
    "            return hex(s)\n",
    "        else:\n",
    "            return 0\n",
    "    \n",
    "    else:\n",
    "        return 0\n",
    "        \n",
    "\n",
    "\n",
    "\n",
    "print(convert(bin(34),\"bin\"))\n",
    "print(bin(34))\n",
    "print(convert(hex(12),\"dec\"))"
   ]
  },
  {
   "cell_type": "markdown",
   "metadata": {},
   "source": [
    "2\\. Write a function that converts a 32 bit word into a single precision floating point (i.e. interprets the various bits as sign, mantissa and exponent)"
   ]
  },
  {
   "cell_type": "code",
   "execution_count": 16,
   "metadata": {},
   "outputs": [
    {
     "data": {
      "text/plain": [
       "32.310001373291016"
      ]
     },
     "execution_count": 16,
     "metadata": {},
     "output_type": "execute_result"
    }
   ],
   "source": [
    "def float32(s):\n",
    "    \n",
    "    sign = 1\n",
    "    if s[0] == \"1\":\n",
    "        sign = -1\n",
    "    \n",
    "    exp = -127\n",
    "    c = 0\n",
    "    for i in s[1:9]:\n",
    "        if i == \"1\":\n",
    "            exp += 2**(7-c)\n",
    "        c += 1\n",
    "            \n",
    "    \n",
    "    \n",
    "    mant = 1\n",
    "    c = 1\n",
    "    for i in s[9:]:\n",
    "        if i == \"1\":\n",
    "            mant += 2**(-c)\n",
    "        c += 1\n",
    "    \n",
    "    return sign*mant*2**exp\n",
    "\n",
    "\n",
    "# I searched 32.31 on google\n",
    "float32(\"01000010000000010011110101110001\")"
   ]
  },
  {
   "cell_type": "markdown",
   "metadata": {},
   "source": [
    "3\\. Write a program to determine the underflow and overflow limits (within a factor of 2) for python on your computer. \n",
    "\n",
    "**Tips**: define two variables inizialized to 1 and halve/double them enough time to exceed the under/over-flow limits  "
   ]
  },
  {
   "cell_type": "code",
   "execution_count": 17,
   "metadata": {},
   "outputs": [
    {
     "name": "stdout",
     "output_type": "stream",
     "text": [
      "5e-324\n",
      "8.98846567431158e+307\n"
     ]
    }
   ],
   "source": [
    "a, a1 = 1,1\n",
    "b, b1 = 1,1\n",
    "\n",
    "\n",
    "\n",
    "while 0 != 0 + a:\n",
    "    a, a1 = a/2, a\n",
    "\n",
    "print(a1)\n",
    "    \n",
    "\n",
    "\n",
    "while True:\n",
    "    try: \n",
    "        1.0 + b != b\n",
    "        b, b1 = b*2, b\n",
    "    except:\n",
    "        break\n",
    "\n",
    "print(b1+0.1)"
   ]
  },
  {
   "cell_type": "markdown",
   "metadata": {},
   "source": [
    "4\\. Write a program to determine the machine precision\n",
    "\n",
    "**Tips**: define a new variable by adding a smaller and smaller value (proceeding similarly to prob. 2) to an original variable and check the point where the two are the same "
   ]
  },
  {
   "cell_type": "code",
   "execution_count": 18,
   "metadata": {},
   "outputs": [
    {
     "name": "stdout",
     "output_type": "stream",
     "text": [
      "2.220446049250313e-16\n"
     ]
    }
   ],
   "source": [
    "a, a1 = 1,1\n",
    "\n",
    "while 1 != 1 + a:\n",
    "    a, a1 = a/2, a\n",
    "\n",
    "print(a1)"
   ]
  },
  {
   "cell_type": "markdown",
   "metadata": {},
   "source": [
    "5\\. Write a function that takes in input three parameters $a$, $b$ and $c$ and prints out the two solutions to the quadratic equation $ax^2+bx+c=0$ using the standard formula:\n",
    "$$\n",
    "x=\\frac{-b\\pm\\sqrt{b^2-4ac}}{2a}\n",
    "$$\n",
    "\n",
    "(a) use the program to compute the solution for $a=0.001$, $b=1000$ and $c=0.001$\n",
    "\n",
    "(b) re-express the standard solution formula by multiplying top and bottom by $-b\\mp\\sqrt{b^2-4ac}$ and again find the solution for $a=0.001$, $b=1000$ and $c=0.001$. How does it compare with what previously obtained? Why?\n",
    "\n",
    "(c) write a function that compute the roots of a quadratic equation accurately in all cases"
   ]
  },
  {
   "cell_type": "code",
   "execution_count": 19,
   "metadata": {},
   "outputs": [
    {
     "name": "stdout",
     "output_type": "stream",
     "text": [
      "(-999999.999999, -9.999894245993346e-07)\n",
      "(-999999.9999990001, -9.999894245993346e-07)\n",
      "999999.99999599996954202652\n",
      "0.00200000000000000004\n",
      "-1999.99999999800002115080\n",
      "-999999.99999900010880082846\n",
      "-999999.99999899999238550663\n",
      "-999999.99999900010880082846\n",
      "-999999.99999899999238550663\n"
     ]
    }
   ],
   "source": [
    "def sol(a,b,c):\n",
    "    delta = (b**2 - 4*a*c)**(1/2)\n",
    "    x1 = (-b-delta)/(2*a)\n",
    "    x2 = (-b+delta)/(2*a)\n",
    "    return x1, x2\n",
    "\n",
    "print(sol(0.001,1000,0.001))\n",
    "\n",
    "def solb(a,b,c):\n",
    "    delta = (b**2 - 4*a*c)**(1/2)\n",
    "    x1 = ((-b-delta)*(-b+delta))/((2*a)*(-b+delta))\n",
    "    x2 = ((-b+delta)*(-b-delta))/((2*a)*(-b-delta))\n",
    "    return x1, x2\n",
    "\n",
    "print(solb(0.001,1000,0.001))\n",
    "\n",
    "#we are doing calculations on number very small and the value stored in memory (for exemple for 0.001) in binary \n",
    "#form is not the exact value of the decimal number\n",
    "    \n",
    "print(\"%8.20f\"%(1000**2 - 4*0.001**2))\n",
    "print(\"%8.20f\"%(2*0.001))\n",
    "print(\"%8.20f\"%(-1000 - (1000**2 - 4*0.001**2)**(1/2)))\n",
    "print(\"%8.20f\"%(solb(0.001,1000,0.001)[0]))\n",
    "print(\"%8.20f\"%(sol(0.001,1000,0.001)[0]))\n",
    "\n",
    "# in this case we multiplicate the coefficients with a very large number and we approximate the result in an int,\n",
    "#therefore we will store the binary form in memory exact to the decimanl form. Can occurs an overflow problem if \n",
    "#the coefficient are to big \n",
    "\n",
    "def solex(a,b,c):\n",
    "    a = int(10**6*a)\n",
    "    b = int(10**6*b)\n",
    "    c = int(10**6*c)\n",
    "    delta = (b**2 - 4*a*c)**(1/2)\n",
    "    x1 = (-b-delta)/(2*a)\n",
    "    x2 = (-b+delta)/(2*a)\n",
    "    return x1, x2\n",
    "\n",
    "print(\"%8.20f\"%(solex(0.001,1000,0.001)[0]))\n",
    "print(\"%8.20f\"%(solex(1,1000000,1)[0]))"
   ]
  },
  {
   "cell_type": "markdown",
   "metadata": {},
   "source": [
    "###### 6\\. Write a program that implements the function $f(x)=x(x−1)$\n",
    "\n",
    "(a) Calculate the derivative of the function at the point $x = 1$ using the derivative definition:\n",
    "\n",
    "$$\n",
    "\\frac{{\\rm d}f}{{\\rm d}x} = \\lim_{\\delta\\to0} \\frac{f(x+\\delta)-f(x)}{\\delta}\n",
    "$$\n",
    "\n",
    "with $\\delta = 10^{−2}$. Calculate the true value of the same derivative analytically and compare with the answer your program gives. The two will not agree perfectly. Why not?\n",
    "\n",
    "(b) Repeat the calculation for $\\delta = 10^{−4}, 10^{−6}, 10^{−8}, 10^{−10}, 10^{−12}$ and $10^{−14}$. How does the accuracy scales with $\\delta$?"
   ]
  },
  {
   "cell_type": "code",
   "execution_count": 20,
   "metadata": {},
   "outputs": [
    {
     "name": "stdout",
     "output_type": "stream",
     "text": [
      "1.010000000000001\n",
      "1.0000999999998899\n",
      "1.0000009999177333\n",
      "1.0000000039225287\n",
      "1.000000082840371\n",
      "1.0000889005833413\n",
      "0.9992007221626509\n",
      "0.0\n"
     ]
    },
    {
     "data": {
      "image/png": "[encoded data removed]",
      "text/plain": [
       "<Figure size 432x288 with 1 Axes>"
      ]
     },
     "metadata": {
      "needs_background": "light"
     },
     "output_type": "display_data"
    },
    {
     "data": {
      "image/png": "[encoded data removed]",
      "text/plain": [
       "<Figure size 432x288 with 1 Axes>"
      ]
     },
     "metadata": {
      "needs_background": "light"
     },
     "output_type": "display_data"
    },
    {
     "data": {
      "image/png": "[encoded data removed]",
      "text/plain": [
       "<Figure size 432x288 with 1 Axes>"
      ]
     },
     "metadata": {
      "needs_background": "light"
     },
     "output_type": "display_data"
    }
   ],
   "source": [
    "def f(x):\n",
    "    return x*(x-1)\n",
    "\n",
    "def df1(d):\n",
    "    return (f(1+d) + f(1))/d\n",
    "\n",
    "#the result will be not 1 because we are discretizing teh derivative\n",
    "\n",
    "print(df1(0.01))\n",
    "\n",
    "for e in range(4,17,2):\n",
    "    print(df1(10**(-e)))\n",
    "    \n",
    "import numpy as np\n",
    "import matplotlib.pyplot as plt\n",
    "\n",
    "\n",
    "x = np.linspace(-4e-8, 4e-8, 100)\n",
    "plt.plot(x,df1(x));\n",
    "plt.xlim([-4e-8, 4e-8])\n",
    "plt.show()\n",
    "\n",
    "#when d tends to 0 the operations between the foat numbers give in the binary space different results and this\n",
    "#leads (in this case when we have an unstable function) to big propagation errors\n",
    "x = np.linspace(-4e-15, 4e-15, 100)\n",
    "plt.plot(x,df1(x));\n",
    "plt.xlim([-4e-15, 4e-15])\n",
    "plt.show()\n",
    "\n",
    "#underflow\n",
    "\n",
    "x = np.linspace(-4e-17, 4e-17, 100)\n",
    "plt.plot(x,df1(x));\n",
    "plt.xlim([-4e-17, 4e-17])\n",
    "plt.show()"
   ]
  },
  {
   "cell_type": "markdown",
   "metadata": {},
   "source": [
    "7\\. Consider the integral of the semicircle of radius 1:\n",
    "$$\n",
    "I=\\int_{-1}^{1} \\sqrt(1-x^2) {\\rm d}x\n",
    "$$\n",
    "which it's known to be $I=\\frac{\\pi}{2}=1.57079632679...$.\n",
    "Alternatively we can use the Riemann definition of the integral:\n",
    "$$\n",
    "I=\\lim_{N\\to\\infty} \\sum_{k=1}^{N} h y_k \n",
    "$$\n",
    "\n",
    "with $h=2/N$ the width of each of the $N$ slices the domain is divided into and where\n",
    "$y_k$ is the value of the function at the $k-$th slice.\n",
    "\n",
    "(a) Write a programe to compute the integral with $N=100$. How does the result compares to the true value?\n",
    "\n",
    "(b) How much can $N$ be increased if the computation needs to be run in less than a second? What is the gain in running it for 1 minute? \n"
   ]
  },
  {
   "cell_type": "code",
   "execution_count": 21,
   "metadata": {},
   "outputs": [
    {
     "name": "stdout",
     "output_type": "stream",
     "text": [
      "1.5707960648823494\n"
     ]
    }
   ],
   "source": [
    "import numpy as np\n",
    "import time\n",
    "\n",
    "def f(x):\n",
    "    return (1-x**2)**(1/2)\n",
    "\n",
    "def intf(N):\n",
    "    h = 2/N\n",
    "    x = np.linspace(-1,1,N)\n",
    "    return (f(x)*h).sum()\n",
    "\n",
    "#less than a second\n",
    "#%timeit intf(30000000)\n",
    "print(intf(6000000))\n",
    "\n",
    "#less than a minute\n",
    "#%timeit intf(500000000)\n",
    "#print(intf(300000000))"
   ]
  },
  {
   "cell_type": "code",
   "execution_count": null,
   "metadata": {},
   "outputs": [],
   "source": []
  }
 ],
 "metadata": {
  "kernelspec": {
   "display_name": "Python 3",
   "language": "python",
   "name": "python3"
  },
  "language_info": {
   "codemirror_mode": {
    "name": "ipython",
    "version": 3
   },
   "file_extension": ".py",
   "mimetype": "text/x-python",
   "name": "python",
   "nbconvert_exporter": "python",
   "pygments_lexer": "ipython3",
   "version": "3.7.3"
  }
 },
 "nbformat": 4,
 "nbformat_minor": 2
}
