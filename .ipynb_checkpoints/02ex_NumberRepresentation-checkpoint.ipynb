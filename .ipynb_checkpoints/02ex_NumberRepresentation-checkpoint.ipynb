{
 "cells": [
  {
   "cell_type": "markdown",
   "metadata": {},
   "source": [
    "1\\. Write a function that converts number representation (bin<->dec<->hex)"
   ]
  },
  {
   "cell_type": "code",
   "execution_count": 81,
   "metadata": {},
   "outputs": [
    {
     "name": "stdout",
     "output_type": "stream",
     "text": [
      "18\n",
      "18\n",
      "0b10010\n",
      "0b10010\n",
      "0x12\n",
      "0x12\n",
      "5\n",
      "0b10010\n"
     ]
    }
   ],
   "source": [
    "def converter(a, base1=10,base2=2): #di default converte da decimale a binario\n",
    "    a_s=str(a)\n",
    "    a_int=int(a_s,base1)\n",
    "    if base2==10:\n",
    "        return a_int\n",
    "    elif base2==2:\n",
    "        a_bin=bin(a_int)\n",
    "        return a_bin\n",
    "    elif base2==16:\n",
    "        a_hex=hex(a_int)\n",
    "        return a_hex\n",
    "    else:\n",
    "         raise ValueError(\"Error: this converter converts only to bin, dec or hex\")\n",
    "\n",
    "#x=\"0b10010\" è necessario scrivere il numero come string se sono presenti la b o la x\n",
    "#y=\"0x12\"\n",
    "x=10010\n",
    "y=12\n",
    "z=18\n",
    "w=12\n",
    "\n",
    "print(converter(x,2,10))\n",
    "print(converter(y,16,10))\n",
    "print(converter(z,10,2))\n",
    "print(converter(y,16,2))\n",
    "print(converter(z,10,16))\n",
    "print(converter(x,2,16))\n",
    "print(converter(w,3,10)) #feature banale in più: converte da ogni base in decimale\n",
    "print(converter(z))"
   ]
  },
  {
   "cell_type": "markdown",
   "metadata": {},
   "source": [
    "2\\. Write a function that converts a 32 bit word into a single precision floating point (i.e. interprets the various bits as sign, mantissa and exponent)"
   ]
  },
  {
   "cell_type": "code",
   "execution_count": 125,
   "metadata": {},
   "outputs": [
    {
     "name": "stdout",
     "output_type": "stream",
     "text": [
      "-5.5\n"
     ]
    }
   ],
   "source": [
    "w=11000000101100000000000000000000 #diventerà -5.500000 post conversione\n",
    "def single_p_float (x):\n",
    "    s=str(x)\n",
    "    sign=int(s[0])\n",
    "    mantissa=1\n",
    "    for i,j in zip(range(9,32),range(1,23)):\n",
    "        mantissa +=int(s[i])*pow(2,-j)\n",
    "    exp=int(s[1:9],2)\n",
    "    x_float=pow(-1,sign)*mantissa*pow(2,exp-127)\n",
    "    return x_float\n",
    "\n",
    "print (single_p_float(w))"
   ]
  },
  {
   "cell_type": "markdown",
   "metadata": {},
   "source": [
    "3\\. Write a program to determine the underflow and overflow limits (within a factor of 2) for python on your computer. \n",
    "\n",
    "**Tips**: define two variables inizialized to 1 and halve/double them enough time to exceed the under/over-flow limits  "
   ]
  },
  {
   "cell_type": "code",
   "execution_count": 2,
   "metadata": {},
   "outputs": [
    {
     "name": "stdout",
     "output_type": "stream",
     "text": [
      "underflow limit -within a factor of two-:\n",
      "1075\n"
     ]
    }
   ],
   "source": [
    "u=1.0\n",
    "counter=0\n",
    "while True:\n",
    "    u=u/2\n",
    "    counter+=1\n",
    "    if u==u/2:\n",
    "        print(\"underflow limit -within a factor of two-:\")\n",
    "        print(counter)\n",
    "        break"
   ]
  },
  {
   "cell_type": "code",
   "execution_count": 1,
   "metadata": {},
   "outputs": [
    {
     "name": "stdout",
     "output_type": "stream",
     "text": [
      "overflow limit -within a factor of two-:\n",
      "1024\n"
     ]
    }
   ],
   "source": [
    "o=1.0 #con o=1 int il ciclo non finiva mai, motivo: unlimited precision degli int in Python?\n",
    "counter=0\n",
    "while True:\n",
    "    o=o*2\n",
    "    counter+=1\n",
    "    if o==o*2:\n",
    "        print(\"overflow limit -within a factor of two-:\")\n",
    "        print(counter)\n",
    "        break"
   ]
  },
  {
   "cell_type": "markdown",
   "metadata": {},
   "source": [
    "4\\. Write a program to determine the machine precision\n",
    "\n",
    "**Tips**: define a new variable by adding a smaller and smaller value (proceeding similarly to prob. 2) to an original variable and check the point where the two are the same "
   ]
  },
  {
   "cell_type": "markdown",
   "metadata": {},
   "source": [
    "5\\. Write a function that takes in input three parameters $a$, $b$ and $c$ and prints out the two solutions to the quadratic equation $ax^2+bx+c=0$ using the standard formula:\n",
    "$$\n",
    "x=\\frac{-b\\pm\\sqrt{b^2-4ac}}{2a}\n",
    "$$\n",
    "\n",
    "(a) use the program to compute the solution for $a=0.001$, $b=1000$ and $c=0.001$\n",
    "\n",
    "(b) re-express the standard solution formula by multiplying top and bottom by $-b\\mp\\sqrt{b^2-4ac}$ and again find the solution for $a=0.001$, $b=1000$ and $c=0.001$. How does it compare with what previously obtained? Why?\n",
    "\n",
    "(c) write a function that compute the roots of a quadratic equation accurately in all cases"
   ]
  },
  {
   "cell_type": "markdown",
   "metadata": {},
   "source": [
    "6\\. Write a program that implements the function $f(x)=x(x−1)$\n",
    "\n",
    "(a) Calculate the derivative of the function at the point $x = 1$ using the derivative definition:\n",
    "\n",
    "$$\n",
    "\\frac{{\\rm d}f}{{\\rm d}x} = \\lim_{\\delta\\to0} \\frac{f(x+\\delta)-f(x)}{\\delta}\n",
    "$$\n",
    "\n",
    "with $\\delta = 10^{−2}$. Calculate the true value of the same derivative analytically and compare with the answer your program gives. The two will not agree perfectly. Why not?\n",
    "\n",
    "(b) Repeat the calculation for $\\delta = 10^{−4}, 10^{−6}, 10^{−8}, 10^{−10}, 10^{−12}$ and $10^{−14}$. How does the accuracy scales with $\\delta$?"
   ]
  },
  {
   "cell_type": "markdown",
   "metadata": {},
   "source": [
    "7\\. Consider the integral of the semicircle of radius 1:\n",
    "$$\n",
    "I=\\int_{-1}^{1} \\sqrt(1-x^2) {\\rm d}x\n",
    "$$\n",
    "which it's known to be $I=\\frac{\\pi}{2}=1.57079632679...$.\n",
    "Alternatively we can use the Riemann definition of the integral:\n",
    "$$\n",
    "I=\\lim_{N\\to\\infty} \\sum_{k=1}^{N} h y_k \n",
    "$$\n",
    "\n",
    "with $h=2/N$ the width of each of the $N$ slices the domain is divided into and where\n",
    "$y_k$ is the value of the function at the $k-$th slice.\n",
    "\n",
    "(a) Write a programe to compute the integral with $N=100$. How does the result compares to the true value?\n",
    "\n",
    "(b) How much can $N$ be increased if the computation needs to be run in less than a second? What is the gain in running it for 1 minute? \n"
   ]
  },
  {
   "cell_type": "code",
   "execution_count": null,
   "metadata": {},
   "outputs": [],
   "source": []
  }
 ],
 "metadata": {
  "kernelspec": {
   "display_name": "Python 3",
   "language": "python",
   "name": "python3"
  },
  "language_info": {
   "codemirror_mode": {
    "name": "ipython",
    "version": 3
   },
   "file_extension": ".py",
   "mimetype": "text/x-python",
   "name": "python",
   "nbconvert_exporter": "python",
   "pygments_lexer": "ipython3",
   "version": "3.8.3"
  }
 },
 "nbformat": 4,
 "nbformat_minor": 4
}
