{
 "cells": [
  {
   "cell_type": "markdown",
   "metadata": {},
   "source": [
    "1\\. Write a function that converts number representation (bin<->dec<->hex)"
   ]
  },
  {
   "cell_type": "code",
   "execution_count": 7,
   "metadata": {},
   "outputs": [
    {
     "name": "stdout",
     "output_type": "stream",
     "text": [
      "0x2a  =>  0b101010\n",
      "0b101010  =>  0x2a\n"
     ]
    }
   ],
   "source": [
    "def binhex(typ, nb): \n",
    "    if(typ == \"hex\"):\n",
    "        return bin(int(nb,16))\n",
    "    else:\n",
    "        return hex(int(nb,2))\n",
    "\n",
    "theNB = 42\n",
    "\n",
    "myHex = hex(theNB)\n",
    "\n",
    "myBin = bin(theNB)\n",
    "newHex = binhex(\"hex\",myHex)\n",
    "print(myHex,\" => \",newHex)\n",
    "newBin = binhex(\"bin\", myBin)\n",
    "print(myBin, \" => \",newBin)\n"
   ]
  },
  {
   "cell_type": "markdown",
   "metadata": {},
   "source": [
    "2\\. Write a function that converts a 32 bit word into a single precision floating point (i.e. interprets the various bits as sign, mantissa and exponent)"
   ]
  },
  {
   "cell_type": "code",
   "execution_count": 19,
   "metadata": {},
   "outputs": [
    {
     "name": "stdout",
     "output_type": "stream",
     "text": [
      "922341051976\n",
      "e= 129\n",
      "finalexp =  2\n",
      "m= 1.0078219175338745\n",
      "2**finalexp =  4\n",
      "my number is 4.031287670135498\n",
      "e= 129\n",
      "finalexp =  2\n",
      "m= 1.3125\n",
      "2**finalexp =  4\n",
      "my number is 5.25\n"
     ]
    }
   ],
   "source": [
    "'''\n",
    "single precision : \n",
    "1 bit sign (-1)^bit32\n",
    "8 bits exponent e - 127\n",
    "23 bits mantissa \n",
    "'''\n",
    "\n",
    "def bintofloat(value):\n",
    "    # In working not finished\n",
    "    print(bin(value))\n",
    "    #knowing the sign\n",
    "    sign = 1\n",
    "    if(value & 1<<32 != 0):\n",
    "        sign = -1\n",
    "    \n",
    "    #calculating the exponent bit 24 (2^0) to 31 (2^7)\n",
    "    e = 0\n",
    "    pow2 = 1\n",
    "    for i in range(24,32):\n",
    "        print(bin(value),\" \",bin(1<<i))\n",
    "        if(value & 1<<i != 0):\n",
    "            e += pow2\n",
    "        pow2 *= 2\n",
    "    print(e)\n",
    "    finalexp = e - 127\n",
    "    res = sign * (2 ** finalexp)\n",
    "    return res\n",
    "'''\n",
    "\n",
    "myNB = 1<<32\n",
    "print(bintofloat(myNB))\n",
    "\n",
    "myNB2 = 0<<32\n",
    "print(bintofloat(myNB2))\n",
    "'''\n",
    "\n",
    "myNB3 =  0<<32 | 14757456831618>>4\n",
    "print(myNB3)\n",
    "#print(bintofloat(myNB3))\n",
    "\n",
    "def binStringToFloat(value):\n",
    "    #verify lengthof the string:\n",
    "    if len(value) != 32:\n",
    "        print(\"ERROR : length of value should be 32\");\n",
    "        return 0\n",
    "    else:\n",
    "        # knowing the sign\n",
    "        sign = 1\n",
    "        if value[0]==\"1\":\n",
    "            sign = -1\n",
    "        \n",
    "        #calculating the exponent bit 24 (so 8th in string) (2^0) to 31 (so 1) (2^7)\n",
    "        e = 0\n",
    "        pow2 = 1\n",
    "        for i in range(8,0,-1):\n",
    "            if(value[i] == \"1\"):\n",
    "                e += pow2\n",
    "            pow2 *= 2\n",
    "        print(\"e=\",e)\n",
    "        finalexp = e - 127\n",
    "        print(\"finalexp = \",finalexp)\n",
    "        res = sign * (2 ** finalexp)\n",
    "        \n",
    "        #calculating the mantissa bit 0 (so 31th) to 23 (so 9th) \n",
    "        m = 1\n",
    "        pow2 = 1/2\n",
    "        for i in range(9,32):\n",
    "            if(value[i] == \"1\"):\n",
    "                m += pow2\n",
    "            pow2 *= 1/2\n",
    "        print(\"m=\",m)\n",
    "        print(\"2**finalexp = \",2 ** finalexp)\n",
    "        \n",
    "        res = sign * (2 ** finalexp) * m\n",
    "        return res\n",
    "\n",
    "print(\"my number is\",binStringToFloat(\"0\"+\"10000001\"+\"00000010000000001001111\"))\n",
    "print(\"my number is\",binStringToFloat(\"0\"+\"10000001\"+\"01010000000000000000000\"))"
   ]
  },
  {
   "cell_type": "markdown",
   "metadata": {},
   "source": [
    "3\\. Write a program to determine the underflow and overflow limits (within a factor of 2) for python on your computer. \n",
    "\n",
    "**Tips**: define two variables inizialized to 1 and halve/double them enough time to exceed the under/over-flow limits  "
   ]
  },
  {
   "cell_type": "code",
   "execution_count": 10,
   "metadata": {},
   "outputs": [
    {
     "name": "stdout",
     "output_type": "stream",
     "text": [
      "1\n",
      "2\n",
      "100000\n",
      "200000\n",
      "300000\n",
      "400000\n",
      "500000\n",
      "600000\n",
      "700000\n",
      "800000\n",
      "900000\n",
      "1000000\n",
      "1100000\n",
      "1200000\n",
      "1300000\n",
      "1400000\n",
      "1500000\n",
      "1600000\n",
      "1700000\n",
      "1800000\n",
      "1900000\n",
      "2000000\n"
     ]
    },
    {
     "ename": "KeyboardInterrupt",
     "evalue": "",
     "output_type": "error",
     "traceback": [
      "\u001b[1;31m---------------------------------------------------------------------------\u001b[0m",
      "\u001b[1;31mKeyboardInterrupt\u001b[0m                         Traceback (most recent call last)",
      "\u001b[1;32m<ipython-input-10-5ab583026fe0>\u001b[0m in \u001b[0;36m<module>\u001b[1;34m\u001b[0m\n\u001b[0;32m      8\u001b[0m \u001b[1;32mwhile\u001b[0m \u001b[0mnew_maxi\u001b[0m \u001b[1;33m!=\u001b[0m \u001b[0mmaxi\u001b[0m\u001b[1;33m:\u001b[0m\u001b[1;33m\u001b[0m\u001b[1;33m\u001b[0m\u001b[0m\n\u001b[0;32m      9\u001b[0m     \u001b[0mmaxi\u001b[0m \u001b[1;33m=\u001b[0m \u001b[0mnew_maxi\u001b[0m\u001b[1;33m\u001b[0m\u001b[1;33m\u001b[0m\u001b[0m\n\u001b[1;32m---> 10\u001b[1;33m     \u001b[0mnew_maxi\u001b[0m \u001b[1;33m=\u001b[0m \u001b[0mmaxi\u001b[0m \u001b[1;33m*\u001b[0m \u001b[1;36m2\u001b[0m\u001b[1;33m\u001b[0m\u001b[1;33m\u001b[0m\u001b[0m\n\u001b[0m\u001b[0;32m     11\u001b[0m     \u001b[0mi\u001b[0m \u001b[1;33m+=\u001b[0m\u001b[1;36m1\u001b[0m\u001b[1;33m\u001b[0m\u001b[1;33m\u001b[0m\u001b[0m\n\u001b[0;32m     12\u001b[0m     \u001b[1;32mif\u001b[0m \u001b[0mi\u001b[0m\u001b[1;33m%\u001b[0m\u001b[1;36m100000\u001b[0m \u001b[1;33m==\u001b[0m \u001b[1;36m0\u001b[0m\u001b[1;33m:\u001b[0m\u001b[1;33m\u001b[0m\u001b[1;33m\u001b[0m\u001b[0m\n",
      "\u001b[1;31mKeyboardInterrupt\u001b[0m: "
     ]
    }
   ],
   "source": [
    "# overflow\n",
    "maxi = 1\n",
    "new_maxi = maxi * 2\n",
    "print(maxi)\n",
    "print(new_maxi)\n",
    "\n",
    "i = 0\n",
    "while new_maxi != maxi:\n",
    "    maxi = new_maxi \n",
    "    new_maxi = maxi * 2\n",
    "    i +=1\n",
    "    if i%100000 == 0:\n",
    "        print(i)\n",
    "        # just to know that the script is still running\n",
    "\n",
    "\n",
    "print(maxi)\n",
    "\n",
    "#underflow\n",
    "mini = 1\n",
    "new_mini = mini/2\n",
    "i=0\n",
    "while new_mini != mini:\n",
    "    mini = new_mini\n",
    "    new_mini = mini/2\n",
    "    if i%10000 == 0:\n",
    "        print(i)\n",
    "    \n",
    "print(mini)"
   ]
  },
  {
   "cell_type": "markdown",
   "metadata": {},
   "source": [
    "4\\. Write a program to determine the machine precision\n",
    "\n",
    "**Tips**: define a new variable by adding a smaller and smaller value (proceeding similarly to prob. 2) to an original variable and check the point where the two are the same "
   ]
  },
  {
   "cell_type": "code",
   "execution_count": 14,
   "metadata": {},
   "outputs": [
    {
     "name": "stdout",
     "output_type": "stream",
     "text": [
      "10\n",
      "20\n",
      "30\n",
      "40\n",
      "50\n",
      "1.1102230246251565e-16\n"
     ]
    }
   ],
   "source": [
    "m = 0\n",
    "epsi = 1\n",
    "new_m = 1+epsi\n",
    "i = 0\n",
    "while new_m != m:\n",
    "    m = new_m\n",
    "    epsi = epsi/2\n",
    "    new_m = m + epsi\n",
    "    i+=1\n",
    "    if i%10 == 0:\n",
    "        print(i)\n",
    "\n",
    "print(epsi)"
   ]
  },
  {
   "cell_type": "markdown",
   "metadata": {},
   "source": [
    "5\\. Write a function that takes in input three parameters $a$, $b$ and $c$ and prints out the two solutions to the quadratic equation $ax^2+bx+c=0$ using the standard formula:\n",
    "$$\n",
    "x=\\frac{-b\\pm\\sqrt{b^2-4ac}}{2a}\n",
    "$$\n",
    "\n",
    "(a) use the program to compute the solution for $a=0.001$, $b=1000$ and $c=0.001$\n",
    "\n",
    "(b) re-express the standard solution formula by multiplying top and bottom by $-b\\mp\\sqrt{b^2-4ac}$ and again find the solution for $a=0.001$, $b=1000$ and $c=0.001$. How does it compare with what previously obtained? Why?\n",
    "\n",
    "(c) write a function that compute the roots of a quadratic equation accurately in all cases"
   ]
  },
  {
   "cell_type": "code",
   "execution_count": 16,
   "metadata": {},
   "outputs": [
    {
     "name": "stdout",
     "output_type": "stream",
     "text": [
      "x1 =  -9.999894245993346e-07\n",
      "x2 =  -999999.999999\n",
      "x1 =  -9.999894245993346e-07\n",
      "x2 =  -999999.999999\n"
     ]
    }
   ],
   "source": [
    "import math\n",
    "\n",
    "def quadraSol(a, b, c):\n",
    "    #resolve a^2 *x+ b *x + c = 0\n",
    "    if a != 0:\n",
    "        sqr = math.sqrt((b**2)-(4*a*c))\n",
    "        x1 = (-b + sqr) / (2*a)\n",
    "        x2 = (-b - sqr) / (2*a)\n",
    "        print(\"x1 = \",x1)\n",
    "        print(\"x2 = \",x2)\n",
    "    else:\n",
    "        print(\"ERROR : a shouldn't be 0\")\n",
    "\n",
    "# a\n",
    "quadraSol(0.001,1000,0.001)\n",
    "\n",
    "# b\n",
    "\n",
    "def newQuadraSol(a, b, c):\n",
    "    #resolve a^2 *x+ b *x + c = 0\n",
    "    if a != 0:\n",
    "        sqr = math.sqrt((b**2)-(4*a*c))\n",
    "        f1 = (-b + sqr)\n",
    "        x1 = ((-b + sqr)*f1) / (2*a*f1)\n",
    "        f2 = (-b - sqr)\n",
    "        x2 = ((-b - sqr)*f2) / (2*a*f2)\n",
    "        print(\"x1 = \",x1)\n",
    "        print(\"x2 = \",x2)\n",
    "    else:\n",
    "        print(\"ERROR : a shouldn't be 0\")\n",
    "print(\"Second function\")\n",
    "quadraSol(0.001,1000,0.001)\n",
    "\"\"\"\n",
    "It's the same because by multiplying top and bottom by the same thing is multiplying result by 1 so that change nothing\n",
    "\"\"\"\n",
    "\n",
    "# c\n",
    "\"\"\"\n",
    "I think that we supposedly find a difference due to the big difference between the numbers given\n",
    "\"\"\"\n"
   ]
  },
  {
   "cell_type": "markdown",
   "metadata": {},
   "source": [
    "6\\. Write a program that implements the function $f(x)=x(x−1)$\n",
    "\n",
    "(a) Calculate the derivative of the function at the point $x = 1$ using the derivative definition:\n",
    "\n",
    "$$\n",
    "\\frac{{\\rm d}f}{{\\rm d}x} = \\lim_{\\delta\\to0} \\frac{f(x+\\delta)-f(x)}{\\delta}\n",
    "$$\n",
    "\n",
    "with $\\delta = 10^{−2}$. Calculate the true value of the same derivative analytically and compare with the answer your program gives. The two will not agree perfectly. Why not?\n",
    "\n",
    "(b) Repeat the calculation for $\\delta = 10^{−4}, 10^{−6}, 10^{−8}, 10^{−10}, 10^{−12}$ and $10^{−14}$. How does the accuracy scales with $\\delta$?"
   ]
  },
  {
   "cell_type": "code",
   "execution_count": 21,
   "metadata": {},
   "outputs": [
    {
     "name": "stdout",
     "output_type": "stream",
     "text": [
      "1.010000000000001\n",
      "0.0001\n",
      "1.0000999999998899\n",
      "1e-06\n",
      "1.0000009999177333\n",
      "1e-08\n",
      "1.0000000039225287\n",
      "1e-10\n",
      "1.000000082840371\n",
      "1e-12\n",
      "1.0000889005833413\n",
      "1e-14\n",
      "0.9992007221626509\n",
      "1e-16\n",
      "0.0\n"
     ]
    }
   ],
   "source": [
    "def f(x):\n",
    "    return x*(x-1)\n",
    "\n",
    "# a\n",
    "x = 1\n",
    "d = 10**(-2)\n",
    "deriv = (f(x+d)-f(x))/d\n",
    "print(deriv)\n",
    "\n",
    "# b\n",
    "dList = [10**(-i) for i in range(4,16,2)]\n",
    "for d in dList:\n",
    "    print(d)\n",
    "    deriv = (f(x+d)-f(x))/d\n",
    "    print(deriv)\n",
    "\n",
    "    \"\"\"\n",
    "    The accuracy became better\n",
    "    \"\"\""
   ]
  },
  {
   "cell_type": "markdown",
   "metadata": {},
   "source": [
    "7\\. Consider the integral of the semicircle of radius 1:\n",
    "$$\n",
    "I=\\int_{-1}^{1} \\sqrt(1-x^2) {\\rm d}x\n",
    "$$\n",
    "which it's known to be $I=\\frac{\\pi}{2}=1.57079632679...$.\n",
    "Alternatively we can use the Riemann definition of the integral:\n",
    "$$\n",
    "I=\\lim_{N\\to\\infty} \\sum_{k=1}^{N} h y_k \n",
    "$$\n",
    "\n",
    "with $h=2/N$ the width of each of the $N$ slices the domain is divided into and where\n",
    "$y_k$ is the value of the function at the $k-$th slice.\n",
    "\n",
    "(a) Write a programe to compute the integral with $N=100$. How does the result compares to the true value?\n",
    "\n",
    "(b) How much can $N$ be increased if the computation needs to be run in less than a second? What is the gain in running it for 1 minute? \n"
   ]
  },
  {
   "cell_type": "code",
   "execution_count": 27,
   "metadata": {},
   "outputs": [
    {
     "name": "stdout",
     "output_type": "stream",
     "text": [
      "1.5691342555492493\n",
      "0.0016620712407506844\n"
     ]
    }
   ],
   "source": [
    "import math\n",
    "\"\"\"\n",
    "x^2 + y^2 = r^2\n",
    "=> y = sqrt(r^2 - x^2)\n",
    "radius = 1\n",
    "So lets take x in [-1,1] and r = 1 \n",
    "so y = sqrt(1-(x**2))\n",
    "N = 100 so step for x is 2/100 = 0.02\n",
    "\"\"\"\n",
    "# a\n",
    "N = 100\n",
    "h = 2/N\n",
    "\n",
    "I = 0\n",
    "x = -1;\n",
    "for i in range(0,100):\n",
    "    I += h*math.sqrt(1-(x**2))\n",
    "    x += h\n",
    "print(I)\n",
    "print(1.57079632679 - I)\n",
    "\n",
    "# b"
   ]
  },
  {
   "cell_type": "code",
   "execution_count": null,
   "metadata": {},
   "outputs": [],
   "source": []
  }
 ],
 "metadata": {
  "kernelspec": {
   "display_name": "Python 3",
   "language": "python",
   "name": "python3"
  },
  "language_info": {
   "codemirror_mode": {
    "name": "ipython",
    "version": 3
   },
   "file_extension": ".py",
   "mimetype": "text/x-python",
   "name": "python",
   "nbconvert_exporter": "python",
   "pygments_lexer": "ipython3",
   "version": "3.7.4"
  }
 },
 "nbformat": 4,
 "nbformat_minor": 2
}
