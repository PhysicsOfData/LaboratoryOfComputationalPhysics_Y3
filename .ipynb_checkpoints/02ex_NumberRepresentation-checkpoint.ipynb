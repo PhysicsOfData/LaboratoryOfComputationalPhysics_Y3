{
 "cells": [
  {
   "cell_type": "markdown",
   "metadata": {},
   "source": [
    "1\\. Write a function that converts number representation (bin<->dec<->hex)"
   ]
  },
  {
   "cell_type": "code",
   "execution_count": null,
   "metadata": {},
   "outputs": [],
   "source": [
    "def conv(x):\n",
    "    x_bin=bin(x)\n",
    "    x_hex=hex(x)\n",
    "    \n",
    "    print(\"decimal: \", x)\n",
    "    print(\"binary: \", x_bin)\n",
    "    print(\"hexadecimal: \", x_hex)"
   ]
  },
  {
   "cell_type": "markdown",
   "metadata": {},
   "source": [
    "2\\. Write a function that converts a 32 bit word into a single precision floating point (i.e. interprets the various bits as sign, mantissa and exponent)"
   ]
  },
  {
   "cell_type": "code",
   "execution_count": null,
   "metadata": {},
   "outputs": [],
   "source": [
    "import numpy as np\n",
    "import numpy.random as npr\n",
    "\n",
    "a=npr.randint(0, 2, 32)\n",
    "\n",
    "def func(a):\n",
    "    s=int(a[0])\n",
    "    esp=a[1:9]\n",
    "    m=a[9:32]\n",
    "    \n",
    "    print(\"Sign:\", s)\n",
    "    \n",
    "    esp=esp[::-1]\n",
    "    e=0\n",
    "    for i in range(len(esp)):\n",
    "        e=e+esp[i]*2.**i\n",
    "    print(\"Exponent:\", e)\n",
    "    \n",
    "    f=1\n",
    "    for i in range(1, len(m)+1):\n",
    "        f=f+m[len(m)-i]*2**(-i)\n",
    "    print(\"Fraction:\", f)\n",
    "    \n",
    "    value=((-1)**s)*(2.**(e-127))*f\n",
    "    return \"Single precision floating point:\", value\n",
    "\n",
    "print(func(a))"
   ]
  },
  {
   "cell_type": "markdown",
   "metadata": {},
   "source": [
    "3\\. Write a program to determine the underflow and overflow limits (within a factor of 2) for python on your computer. \n",
    "\n",
    "**Tips**: define two variables inizialized to 1 and halve/double them enough time to exceed the under/over-flow limits  "
   ]
  },
  {
   "cell_type": "code",
   "execution_count": 3,
   "metadata": {},
   "outputs": [
    {
     "name": "stdout",
     "output_type": "stream",
     "text": [
      "c1: 1023\n",
      "d: 8.98846567431158e+307\n",
      "c2: 9\n",
      "overflow limit: ~ 1.7078084781192e+308\n"
     ]
    }
   ],
   "source": [
    "#Overflow limit\n",
    "c1=0 #contatore 1\n",
    "c2=0 #contatore 2\n",
    "f1=0 #flag 1\n",
    "f2=1 #flag 2\n",
    "d=1. #variabile da duplicare\n",
    "\n",
    "while f1==0 or f2==0:\n",
    "    if f1==0:\n",
    "        d=d*2\n",
    "        c1=c1+1\n",
    "        if d==float('inf'):\n",
    "            c1=c1-1\n",
    "            d=2**c1\n",
    "            f1=1\n",
    "            f2=0\n",
    "    if f2==0:\n",
    "        c2=c2+1\n",
    "        b=d+(0.1*c2)*d\n",
    "        if b==float('inf'):\n",
    "            b=d+(0.1*(c2-1))*d\n",
    "            f2=1\n",
    "            \n",
    "print(\"c1:\", c1)\n",
    "print(\"d:\", float(d))\n",
    "print(\"c2:\", c2-1)\n",
    "print(\"overflow limit: ~\", b)"
   ]
  },
  {
   "cell_type": "markdown",
   "metadata": {},
   "source": [
    "4\\. Write a program to determine the machine precision\n",
    "\n",
    "**Tips**: define a new variable by adding a smaller and smaller value (proceeding similarly to prob. 2) to an original variable and check the point where the two are the same "
   ]
  },
  {
   "cell_type": "markdown",
   "metadata": {},
   "source": [
    "5\\. Write a function that takes in input three parameters $a$, $b$ and $c$ and prints out the two solutions to the quadratic equation $ax^2+bx+c=0$ using the standard formula:\n",
    "$$\n",
    "x=\\frac{-b\\pm\\sqrt{b^2-4ac}}{2a}\n",
    "$$\n",
    "\n",
    "(a) use the program to compute the solution for $a=0.001$, $b=1000$ and $c=0.001$\n",
    "\n",
    "(b) re-express the standard solution formula by multiplying top and bottom by $-b\\mp\\sqrt{b^2-4ac}$ and again find the solution for $a=0.001$, $b=1000$ and $c=0.001$. How does it compare with what previously obtained? Why?\n",
    "\n",
    "(c) write a function that compute the roots of a quadratic equation accurately in all cases"
   ]
  },
  {
   "cell_type": "code",
   "execution_count": null,
   "metadata": {},
   "outputs": [],
   "source": [
    "from math import sqrt\n",
    "\n",
    "#(a)\n",
    "def func(a, b, c):\n",
    "    num1=-b+sqrt(b**2-4*a*c)\n",
    "    num2=-b-sqrt(b**2-4*a*c)\n",
    "    den=2*a\n",
    "    x1=num1/den\n",
    "    x2=num2/den\n",
    "    \n",
    "    print(\"solutions: \", x1, \",\", x2)\n",
    "    \n",
    "    \n",
    "#(b)\n",
    "def func2(a, b, c):\n",
    "    num=2*c\n",
    "    den1=-(b+sqrt(b**2-4*a*c))\n",
    "    den2=-b+sqrt(b**2-4*a*c)\n",
    "    x1=num/den1\n",
    "    x2=num/den2\n",
    "    \n",
    "    print(\"solutions: \", x1, x2)\n",
    "    \n",
    "#The results of method (a) and (b) do not coincide due to the fact that floating numbers cannot be represented in the computer\n",
    "#with infinite accuracy but they occupy a limited amount of bits in computer's memory, so what is printed on Python's shell\n",
    "#is not always equal to what is stored inside the memory of computer.\n",
    "#Therefore it may happen that even if one starts with same numbers, during calculations that follow different\n",
    "#procedures that theorically sholud lead to the same result, this doesn't happen because the different operations\n",
    "#approximate slightly different numbers and this difference propagates leading to results that are not equal."
   ]
  },
  {
   "cell_type": "markdown",
   "metadata": {},
   "source": [
    "6\\. Write a program that implements the function $f(x)=x(x−1)$\n",
    "\n",
    "(a) Calculate the derivative of the function at the point $x = 1$ using the derivative definition:\n",
    "\n",
    "$$\n",
    "\\frac{{\\rm d}f}{{\\rm d}x} = \\lim_{\\delta\\to0} \\frac{f(x+\\delta)-f(x)}{\\delta}\n",
    "$$\n",
    "\n",
    "with $\\delta = 10^{−2}$. Calculate the true value of the same derivative analytically and compare with the answer your program gives. The two will not agree perfectly. Why not?\n",
    "\n",
    "(b) Repeat the calculation for $\\delta = 10^{−4}, 10^{−6}, 10^{−8}, 10^{−10}, 10^{−12}$ and $10^{−14}$. How does the accuracy scales with $\\delta$?"
   ]
  },
  {
   "cell_type": "code",
   "execution_count": null,
   "metadata": {},
   "outputs": [],
   "source": [
    "#a)\n",
    "delta=10e-2\n",
    "\n",
    "def der(x):\n",
    "    def f(x):\n",
    "        return x*(x-1)\n",
    "    df=(f(x+delta)-f(x))/delta\n",
    "    return df\n",
    "\n",
    "print(der(1)\n",
    "\n",
    "#The two results, analytical and computational, differ because computer stores the decimal fractional number 10e-2\n",
    "#not exactly as a binary fraction, because in order to have exact corrispondence between\n",
    "#decimal and binary representation of that fractional number it would require an infinite number of digits\n",
    "#for the binary representation.\n",
    "#So numbers that are written on Python are decimal approximations to the true decimal value of binary approximation\n",
    "#registered on the computer. This binary approximation for a fractional number has a certain number of digits beyond\n",
    "#comma and zeros, so it may not exactly coincide with the true decimal value.\n",
    "\n",
    "\n",
    "#b)\n",
    "#As delta decreases, the computed result becomes more inaccurate than the analytical one, because as the number decreases\n",
    "#it is more and more roughly approximated as a binary fraction."
   ]
  },
  {
   "cell_type": "markdown",
   "metadata": {},
   "source": [
    "7\\. Consider the integral of the semicircle of radius 1:\n",
    "$$\n",
    "I=\\int_{-1}^{1} \\sqrt(1-x^2) {\\rm d}x\n",
    "$$\n",
    "which it's known to be $I=\\frac{\\pi}{2}=1.57079632679...$.\n",
    "Alternatively we can use the Riemann definition of the integral:\n",
    "$$\n",
    "I=\\lim_{N\\to\\infty} \\sum_{k=1}^{N} h y_k \n",
    "$$\n",
    "\n",
    "with $h=2/N$ the width of each of the $N$ slices the domain is divided into and where\n",
    "$y_k$ is the value of the function at the $k-$th slice.\n",
    "\n",
    "(a) Write a programe to compute the integral with $N=100$. How does the result compares to the true value?\n",
    "\n",
    "(b) How much can $N$ be increased if the computation needs to be run in less than a second? What is the gain in running it for 1 minute? \n"
   ]
  },
  {
   "cell_type": "code",
   "execution_count": null,
   "metadata": {},
   "outputs": [],
   "source": [
    "def integ(N):\n",
    "    h=2/N\n",
    "\n",
    "    f=lambda i: -1+i*h\n",
    "    lista=[f(i) for i in range(0, N+1)]\n",
    "\n",
    "    def func(x):\n",
    "        from math import sqrt\n",
    "        if x<=1 and x>=-1:\n",
    "            return sqrt(1-x**2)\n",
    "\n",
    "    y=list(map(func, lista))\n",
    "    \n",
    "    somma=0\n",
    "\n",
    "    for i in range(len(y)):\n",
    "        a=h*y[i]\n",
    "        somma=somma+a\n",
    "    \n",
    "    return \"I=\", somma\n",
    "\n",
    "print(integ(100))\n",
    "\n",
    "%timeit integ(100)\n",
    "\n",
    "\n",
    "#The time needed to run the program with N=100 is ~298e-6 s, therefore to find the N for which the computation reaches 1 s\n",
    "#(let's call it N_1s), we have to perform the following calculus: (1/298e-6)*100=352112.\n",
    "#So for N_1s=352112 we obtain a computational time of 1 s.\n",
    "#To get a computational time of 1 min, we multiply N_1s*60, and if we check the time to run the program with N_60s=352112*60,\n",
    "#we get that it requires 59 s for loop. This means that the gain is 1 second."
   ]
  },
  {
   "cell_type": "code",
   "execution_count": null,
   "metadata": {},
   "outputs": [],
   "source": []
  }
 ],
 "metadata": {
  "kernelspec": {
   "display_name": "Python 3",
   "language": "python",
   "name": "python3"
  },
  "language_info": {
   "codemirror_mode": {
    "name": "ipython",
    "version": 3
   },
   "file_extension": ".py",
   "mimetype": "text/x-python",
   "name": "python",
   "nbconvert_exporter": "python",
   "pygments_lexer": "ipython3",
   "version": "3.8.3"
  }
 },
 "nbformat": 4,
 "nbformat_minor": 2
}
