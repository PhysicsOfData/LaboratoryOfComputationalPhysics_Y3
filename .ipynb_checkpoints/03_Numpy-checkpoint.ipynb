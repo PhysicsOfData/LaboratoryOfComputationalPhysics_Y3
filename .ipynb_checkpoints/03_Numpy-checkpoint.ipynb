{
 "cells": [
  {
   "cell_type": "markdown",
   "metadata": {},
   "source": [
    "NumPy is the fundamental package for scientific computing with Python. It contains among other things:\n",
    "\n",
    "  * a powerful N-dimensional array object <== today's subject\n",
    "  * sophisticated (broadcasting) functions <== today's subject\n",
    "  * tools for integrating C/C++ and Fortran code <== not treated \n",
    "  * random number <== today's subject (but Montecarlo later)\n",
    "  * linear algebra, Fourier transform, etc. <== later in the course \n",
    "\n",
    "Besides its obvious scientific uses, NumPy can also be used as an efficient multi-dimensional container of generic data. Arbitrary data-types can be defined and this allows NumPy to seamlessly and speedily integrate with a wide variety of projects\n",
    "\n"
   ]
  },
  {
   "cell_type": "code",
   "execution_count": null,
   "metadata": {},
   "outputs": [],
   "source": [
    "import numpy as np # importing convention"
   ]
  },
  {
   "cell_type": "markdown",
   "metadata": {},
   "source": [
    "# Arrays\n",
    "\n",
    "A numpy array (matrice n-dim) is a grid of values, **all of the same type** (limitazione utile), and is indexed by a tuple of nonnegative integers\n",
    "\n",
    "With respect to standard python lists, Numpy provides:\n",
    "* extension package to Python for multi-dimensional arrays\n",
    "* closer to hardware (efficiency)\n",
    "* designed for scientific computation (convenience)\n",
    "* Also known as array oriented computing\n",
    "\n",
    "\n",
    "All standard data types are available:"
   ]
  },
  {
   "cell_type": "code",
   "execution_count": null,
   "metadata": {},
   "outputs": [],
   "source": [
    "# type can be set\n",
    "a=np.array([1, 2, 3],'float64')\n",
    "print (a,a.dtype,'\\n')\n",
    "a=np.array([1, 2, 3],'uint32')#unsigned int\n",
    "print (a,a.dtype,'\\n')\n",
    "\n",
    "# or inferred: \n",
    "a=np.array([1, 2, 3.3])#decide che è float, perché c'è 3.3\n",
    "print (a,a.dtype,'\\n')\n",
    "\n",
    "# complex\n",
    "a=np.array([1+2j, 3+4j, 5+6*1j])#i si scrive j, come ingegneri\n",
    "print (a,a.dtype,'\\n')#complex128 (float64*2)\n",
    "\n",
    "# bool\n",
    "a = np.array([True, False, False, True])\n",
    "print (a,a.dtype,'\\n')\n",
    "\n",
    "# string\n",
    "a=np.array(['bonjour messieurs dames', 'Hello', 'Hallo'])\n",
    "print (a,a.dtype,'\\n')\n"
   ]
  },
  {
   "cell_type": "markdown",
   "metadata": {},
   "source": [
    "Arrays are memory-efficient container that provides fast numerical operations"
   ]
  },
  {
   "cell_type": "code",
   "execution_count": 3,
   "metadata": {},
   "outputs": [
    {
     "name": "stdout",
     "output_type": "stream",
     "text": [
      "560 µs ± 140 µs per loop (mean ± std. dev. of 7 runs, 1000 loops each)\n",
      "3.97 µs ± 922 ns per loop (mean ± std. dev. of 7 runs, 100000 loops each)\n"
     ]
    }
   ],
   "source": [
    "import numpy as np\n",
    "# standard python\n",
    "L = range(1000)\n",
    "%timeit [i**2 for i in L]\n",
    "\n",
    "# numpy\n",
    "a = np.arange(1000)\n",
    "%timeit a**2 #velocissimo: si può mettere al quadrato l'array stesso, ottenendo \n",
    "#tutti gli elementi al quadrato\n"
   ]
  },
  {
   "cell_type": "markdown",
   "metadata": {},
   "source": [
    "### Dimensions\n",
    "\n",
    "The number of dimensions is the rank of the array; the shape of an array is a tuple of integers giving the size of the array along each dimension.\n",
    "\n",
    "1D containers"
   ]
  },
  {
   "cell_type": "code",
   "execution_count": 4,
   "metadata": {},
   "outputs": [
    {
     "name": "stdout",
     "output_type": "stream",
     "text": [
      "[0 1 2 3]\n",
      "array dimensions (rank): 1\n",
      "shape of the array: (4,)\n",
      "size of the first dimension (axis): 4\n"
     ]
    }
   ],
   "source": [
    "#numpy array possono essere considerati oggetti dell'alg lin\n",
    "a1 = np.array([0, 1, 2, 3])\n",
    "print (a1)\n",
    "print (\"array dimensions (rank):\", a1.ndim)#rango TENSORIALE: se è vettore, 1d\n",
    "print (\"shape of the array:\", a1.shape)#(rango righe, rango colonne)\n",
    "print (\"size of the first dimension (axis):\", len(a1))#len va evitato perché ignora le n-dim\n",
    "#rivedi len cosa fa uscire esattamente"
   ]
  },
  {
   "cell_type": "markdown",
   "metadata": {},
   "source": [
    "2D, 3D and so on"
   ]
  },
  {
   "cell_type": "code",
   "execution_count": 5,
   "metadata": {},
   "outputs": [
    {
     "name": "stdout",
     "output_type": "stream",
     "text": [
      "2 x 3 array:\n",
      "[[0 1 2]\n",
      " [3 4 5]]\n",
      "array dimensions (rank): 2\n",
      "shape of the array: (2, 3)\n",
      "size of the first dimension (axis): 2\n",
      "\n",
      "2 x 3 x 2 array:\n",
      "[[[ 1 10]\n",
      "  [ 2 20]\n",
      "  [ 3 30]]\n",
      "\n",
      " [[ 4 40]\n",
      "  [ 5 50]\n",
      "  [ 6 60]]]\n",
      "array dimensions (rank): 3\n",
      "shape of the array: (2, 3, 2)\n",
      "size of the first dimension (axis): 2\n"
     ]
    }
   ],
   "source": [
    "a2_3 = np.array([[0, 1, 2], [3, 4, 5]])    # 2 x 3 array (dim x raws x columns)\n",
    "#col sistema delle par quadre scriviamo le righe\n",
    "print (\"2 x 3 array:\") \n",
    "print (a2_3)\n",
    "print (\"array dimensions (rank):\", a2_3.ndim)\n",
    "print (\"shape of the array:\", a2_3.shape)\n",
    "print (\"size of the first dimension (axis):\", len(a2_3))\n",
    "\n",
    "print (\"\")\n",
    "\n",
    "#a2_3_2 = np.array([[[1,10], [2,20], [3,30]], [[4,40], [5,50], [6,60]]])# 2 x 3 x 2 array (dim x raws x columns)\n",
    "a2_3_2 = np.array([[[1,10], [2,20], [3,30]], [[4,40], [5,50], [6,60]]])# 2 x 3 x 2 array (dim x raws x columns)\n",
    "print (\"2 x 3 x 2 array:\")\n",
    "print (a2_3_2)\n",
    "print (\"array dimensions (rank):\", a2_3_2.ndim)\n",
    "print (\"shape of the array:\", a2_3_2.shape)\n",
    "print (\"size of the first dimension (axis):\", len(a2_3_2))\n"
   ]
  },
  {
   "cell_type": "markdown",
   "metadata": {},
   "source": [
    "### Generating arrays\n",
    "\n",
    "back an forth from a list (i.e. a numpy array is NOT a list):"
   ]
  },
  {
   "cell_type": "code",
   "execution_count": null,
   "metadata": {},
   "outputs": [],
   "source": [
    "l = [0, 1, 2, 3]\n",
    "a = np.array(l)#conversione da list a np array\n",
    "print (a.tolist(), type(a.tolist()))#a.tolist() torna una list"
   ]
  },
  {
   "cell_type": "markdown",
   "metadata": {},
   "source": [
    "Copies and views:"
   ]
  },
  {
   "cell_type": "code",
   "execution_count": 6,
   "metadata": {},
   "outputs": [
    {
     "name": "stdout",
     "output_type": "stream",
     "text": [
      "[7 2 3] [7 2 3] [1 2 3]\n"
     ]
    }
   ],
   "source": [
    "a=np.array([1,2,3]) #np.array è mutable\n",
    "b=a # a view, questa è shallow copy, copia indirizzo in memo e dunque è esattamente \"a\"\n",
    "c=a.copy() # a copy, una deep copy, copia per valore, i due oggetti sono sganciati\n",
    "a[0]=7\n",
    "print (a,b,c)"
   ]
  },
  {
   "cell_type": "code",
   "execution_count": 8,
   "metadata": {},
   "outputs": [
    {
     "name": "stdout",
     "output_type": "stream",
     "text": [
      "[1 3 5 7]\n",
      "[0.         0.05263158 0.10526316 0.15789474 0.21052632 0.26315789\n",
      " 0.31578947 0.36842105 0.42105263 0.47368421 0.52631579 0.57894737\n",
      " 0.63157895 0.68421053 0.73684211 0.78947368 0.84210526 0.89473684\n",
      " 0.94736842 1.        ]\n"
     ]
    }
   ],
   "source": [
    "# evenly spaced:\n",
    "print (np.arange(1,9,2)) # same as \"range\": start, end (exclusive, cioè qui da 1 a 8), step\n",
    "\n",
    "# or by number of points: un arange non per int\n",
    "print (np.linspace(0, 1, 20)) # start, end, num-points (to be used for plotting f(x): 20 bins in ascissa)\n",
    "#num-point: quanti punti voglio fra start e end, si fa dividendo 1 su 20?"
   ]
  },
  {
   "cell_type": "code",
   "execution_count": 9,
   "metadata": {},
   "outputs": [
    {
     "name": "stdout",
     "output_type": "stream",
     "text": [
      "[[1. 1. 1.]\n",
      " [1. 1. 1.]\n",
      " [1. 1. 1.]] \n",
      "\n",
      "[[0. 0.]\n",
      " [0. 0.]] \n",
      "\n",
      "[[1. 0. 0.]\n",
      " [0. 1. 0.]\n",
      " [0. 0. 1.]] \n",
      "\n",
      "[[ 1  0  0  0]\n",
      " [ 0 20  0  0]\n",
      " [ 0  0  3  0]\n",
      " [ 0  0  0  4]] \n",
      "\n",
      "[[0 0]\n",
      " [0 1]\n",
      " [0 2]\n",
      " [1 0]\n",
      " [1 1]\n",
      " [1 2]] \n",
      "\n",
      "[[ 4.  5.  8. 13. 20.]\n",
      " [ 2.  1.  2.  5. 10.]\n",
      " [ 4.  1.  0.  1.  4.]\n",
      " [10.  5.  2.  1.  2.]\n",
      " [20. 13.  8.  5.  4.]] \n",
      "\n"
     ]
    }
   ],
   "source": [
    "# 3x3 matrix of 1's\n",
    "ones = np.ones((3, 3))\n",
    "print (ones,'\\n')\n",
    "\n",
    "# 2x2 matrix of 0's\n",
    "zeros = np.zeros((2, 2))\n",
    "print (zeros,'\\n')\n",
    "\n",
    "# 3x3 unitary matrix: identità della dim desiderata\n",
    "#unity3d = np.identity(3)\n",
    "unity3d = np.eye(3)\n",
    "print (unity3d,'\\n')\n",
    "\n",
    "# generic diagonal matrix\n",
    "diagonal = np.diag(np.array([1, 20, 3, 4]))\n",
    "print (diagonal,'\\n')\n",
    "\n",
    "# from lists\n",
    "array = np.array([(i,j) for i in range(2) for j in range(3)]) #prova a modificare per capire\n",
    "print (array,'\\n')\n",
    "\n",
    "# from a function\n",
    "fromfunct = np.fromfunction(lambda i, j: (i-2)**2+(j-i)**2, (5,5))#matrice 5*5 con i,j interi\n",
    "#come argomenti (si parte da 0 o da 1? vedi)\n",
    "print (fromfunct,'\\n')"
   ]
  },
  {
   "cell_type": "code",
   "execution_count": null,
   "metadata": {},
   "outputs": [],
   "source": [
    "## more on random later!\n",
    "\n",
    "# Setting the random seed, rerun the cell both commenting and uncommenting it\n",
    "np.random.seed(1235)  \n",
    "#fissato il seed l'algoritmo è deterministico\n",
    "\n",
    "# filling an array with random numers (a volte +è chiamato npr)\n",
    "uniform = np.random.rand(4) # 4 random numbers in [0,1], distribuz uniforme\n",
    "print (uniform,'\\n')\n",
    "\n",
    "gaussian = np.random.randn(5) # 5 random numbers drawn from a gaussian with mean=0 and sigma=1\n",
    "print (gaussian,'\\n')"
   ]
  },
  {
   "cell_type": "markdown",
   "metadata": {},
   "source": [
    "## Reshaping"
   ]
  },
  {
   "cell_type": "code",
   "execution_count": 10,
   "metadata": {},
   "outputs": [
    {
     "name": "stdout",
     "output_type": "stream",
     "text": [
      "original= [0 1 2 3 4 5] \n",
      "\n",
      "3x2 matrix: \n",
      " [[0 1]\n",
      " [2 3]\n",
      " [4 5]] \n",
      "\n",
      "flattening it out (back to original)= [0 1 2 3 4 5] \n",
      "\n"
     ]
    }
   ],
   "source": [
    "a=np.arange(0,6)\n",
    "m=a.reshape(3,2) #si fa così, non si modifica a mano riassegnando con le par quadre\n",
    "#da matrice 1*6 a matr 3*2\n",
    "print (\"original=\", a,'\\n')\n",
    "print (\"3x2 matrix:\",'\\n', m,'\\n')\n",
    "# is m a view or a copy?? prova a modif m\n",
    "\n",
    "a_from_m = m.flatten()\n",
    "print (\"flattening it out (back to original)=\", a_from_m,'\\n')"
   ]
  },
  {
   "cell_type": "code",
   "execution_count": 12,
   "metadata": {},
   "outputs": [
    {
     "name": "stdout",
     "output_type": "stream",
     "text": [
      "1D concatenation: [1 2 3 4 5 6 7 8 9] \n",
      "\n",
      "default 2D concatenation: \n",
      " [[1 2]\n",
      " [3 4]\n",
      " [5 6]\n",
      " [7 8]] \n",
      "\n",
      "concatenation along the first axis: \n",
      " [[1 2]\n",
      " [3 4]\n",
      " [5 6]\n",
      " [7 8]] \n",
      "\n",
      "concatenation along the second axis: \n",
      " [[1 2 5 6]\n",
      " [3 4 7 8]] \n",
      "\n",
      "[[1]\n",
      " [2]\n",
      " [3]]\n",
      "[[1 2 3]]\n"
     ]
    }
   ],
   "source": [
    "# 1D concatenation\n",
    "a = np.array([1,2])\n",
    "b = np.array([3,4,5,6])\n",
    "c = np.array([7,8,9])\n",
    "print (\"1D concatenation:\", np.concatenate((a, b, c)),'\\n')\n",
    "\n",
    "# nD concatenation\n",
    "a = np.array([[1, 2], [3, 4]])\n",
    "b = np.array([[5, 6], [7,8]])\n",
    "# if no axis is defined, concatenations occurs on the 1st dimension\n",
    "print (\"default 2D concatenation:\",'\\n', np.concatenate((a,b)),'\\n')\n",
    "\n",
    "print (\"concatenation along the first axis:\",'\\n',np.concatenate((a,b), axis=0),'\\n')\n",
    "print (\"concatenation along the second axis:\",'\\n',np.concatenate((a,b), axis=1),'\\n')\n",
    "#axis=1 ci dice di concatenare lungo la seconda dim\n",
    "\n",
    "# adding a dimension, useful for linear algebra: POSSIBILE MODIFICA SU M PER DOMANDA PRIMA\n",
    "a = np.array([1,2,3])\n",
    "print (a[:,np.newaxis])\n",
    "print (a[np.newaxis,:])\n",
    "\n"
   ]
  },
  {
   "cell_type": "markdown",
   "metadata": {},
   "source": [
    "## Indexing and slicing\n",
    "\n",
    "The items of an array can be accessed and assigned to the same way as other Python sequences (e.g. lists):"
   ]
  },
  {
   "cell_type": "code",
   "execution_count": null,
   "metadata": {},
   "outputs": [],
   "source": [
    "a = np.arange(10)\n",
    "print (a[0], a[2], a[-1])\n",
    "\n",
    "#subset: slicing\n",
    "# reminder: the [start:stop:step] works as well. \n",
    "# step can be negative and a reverse sequence is thus obtained\n",
    "print (a[2:9:3])\n",
    "print (a[::-1])\n"
   ]
  },
  {
   "cell_type": "code",
   "execution_count": null,
   "metadata": {},
   "outputs": [],
   "source": [
    "from IPython.display import Image\n",
    "Image(\"numpy_indexing.png\") #scaricala, l'ha aggiunta in ritardo\n",
    "#[2::2, ::2] dalla terza riga ogni due righe, dalla prima (zeresima) colonna ogni due colonne"
   ]
  },
  {
   "cell_type": "code",
   "execution_count": null,
   "metadata": {},
   "outputs": [],
   "source": [
    "# create here the np array used as example above\n",
    "#arange(0,55), poi reshape in 6*6"
   ]
  },
  {
   "cell_type": "markdown",
   "metadata": {},
   "source": [
    "For multidimensional arrays, indexes are tuples of integers.\n",
    "\n",
    "Note:\n",
    "* in 2D, the first dimension corresponds to rows, the second to columns.\n",
    "* for multidimensional a, a[0] is interpreted by taking all elements in the unspecified dimensions."
   ]
  },
  {
   "cell_type": "markdown",
   "metadata": {},
   "source": [
    "A slicing operation creates a view (shallow copy, copia per indirizzo, elementi legati) on the original array, which is just a way of accessing array data. Thus the original array is not copied in memory (per risparmiare memoria, sono tutti dei move). You can use `np.may_share_memory()` to check if two arrays share the same memory block. Note however, that this uses heuristics and may give you false positives.\n",
    "\n",
    "When modifying the view, the original array is modified as well, watch out!\n",
    "Se modifichi lo slice, modifichi la matrice originale: basta usare .copy() sullo slice appena fatto "
   ]
  },
  {
   "cell_type": "code",
   "execution_count": null,
   "metadata": {},
   "outputs": [],
   "source": [
    "a = np.diag(np.arange(3))\n",
    "print (a,'\\n')\n",
    "print (a[1,1],'\\n')\n",
    "print (a[2],'\\n')\n",
    "\n",
    "# assignment: NPARRAY MUTABLE\n",
    "a[2, 1] = 10 # third line, second column\n",
    "print (a,'\\n')"
   ]
  },
  {
   "cell_type": "markdown",
   "metadata": {},
   "source": [
    "## Fancy indexing\n",
    "\n",
    "NumPy arrays can be indexed with slices, but also with boolean or integer arrays (masks). This method is called fancy indexing. It creates copies not views."
   ]
  },
  {
   "cell_type": "code",
   "execution_count": 13,
   "metadata": {},
   "outputs": [
    {
     "name": "stdout",
     "output_type": "stream",
     "text": [
      "original array: [ 7 14 20 13  9  4 12 14  8 17  9  6  0  2  1] \n",
      "\n",
      "the mask: [False False False False  True False  True False False False  True  True\n",
      "  True False False] \n",
      "\n",
      "the filtered array: [ 9 12  9  6  0] \n",
      "\n",
      "the modified array: [ 7 14 20 13 -1  4 -1 14  8 17 -1 -1 -1  2  1] \n",
      "\n"
     ]
    }
   ],
   "source": [
    "a = np.random.randint(0, 21, 15) #15 interi a caso fra 0 e 21\n",
    "print (\"original array:\", a,'\\n')\n",
    "\n",
    "mask = (a % 3 == 0) #ne esce un numpy array di bool\n",
    "print (\"the mask:\", mask,'\\n')\n",
    "\n",
    "filtered_a = a[mask]  #e dove c'è false l'elemento di a sparisce\n",
    "#filtered_a è una copy, non una view, possiamo modifcarlo senza toccare \"a\"\n",
    "#https://scipy-cookbook.readthedocs.io/items/ViewsVsCopies.html#I-think-I-understand-what-a-view-is,-but-why-fancy-indexing-is-not-returning-a-view?\n",
    "# equivalent to a[a%3==0]\n",
    "print (\"the filtered array:\", filtered_a,'\\n')\n",
    "\n",
    "# Indexing with a mask can be very useful to assign a new value to a sub-array:\n",
    "a[a % 3 == 0] = -1 #mette -1 a tutti i true, molto pratico per array lunghi\n",
    "print (\"the modified array:\", a,'\\n')"
   ]
  },
  {
   "cell_type": "markdown",
   "metadata": {},
   "source": [
    "Indexing can be done with an array of integers, where the same index can be repeated several times. Note the notation!"
   ]
  },
  {
   "cell_type": "code",
   "execution_count": 15,
   "metadata": {},
   "outputs": [
    {
     "name": "stdout",
     "output_type": "stream",
     "text": [
      "selection of indexes:  [20 30 20 40 20] \n",
      "\n"
     ]
    }
   ],
   "source": [
    "a = np.arange(0, 100, 10) #[0, 10, 20...90]\n",
    "l = [2, 3, 2, 4, 2] #a python list  \n",
    "print (\"selection of indexes: \",a[l],'\\n')  # note: [2, 3, 2, 4, 2] is a Python list\n"
   ]
  },
  {
   "cell_type": "markdown",
   "metadata": {},
   "source": [
    "When a new array is created by indexing with an array of integers, the new array has the same shape as the array of integers:"
   ]
  },
  {
   "cell_type": "code",
   "execution_count": 16,
   "metadata": {},
   "outputs": [
    {
     "name": "stdout",
     "output_type": "stream",
     "text": [
      "[[ 6  8]\n",
      " [18 14]]\n"
     ]
    }
   ],
   "source": [
    "a=np.arange(0,20,2) #[0, 2, 4...20]\n",
    "idx = np.array([[3,4],[9,7]]) # note the shape and the ordering\n",
    "#non fa solo fancy indexing, pure reshaping: \n",
    "#[indice voluto 1 (es. 3 corrisp a 6, indice voluto 2] ecc...\n",
    "print (a[idx])"
   ]
  },
  {
   "cell_type": "code",
   "execution_count": null,
   "metadata": {},
   "outputs": [],
   "source": [
    "# an exstensive example. SCARICA IMMAGINE\n",
    "#a[mask,2] applica maschera a terza colonna\n",
    "from IPython.display import Image\n",
    "Image(\"numpy_fancy_indexing.png\") "
   ]
  },
  {
   "cell_type": "markdown",
   "metadata": {},
   "source": [
    "## Universal functions\n",
    "\n",
    "usual functions are available.\n",
    "In the following the first hints on visualization with `matplotlib`"
   ]
  },
  {
   "cell_type": "code",
   "execution_count": 17,
   "metadata": {},
   "outputs": [
    {
     "data": {
      "image/png": "[encoded data removed]",
      "text/plain": [
       "<Figure size 432x288 with 1 Axes>"
      ]
     },
     "metadata": {
      "needs_background": "light"
     },
     "output_type": "display_data"
    }
   ],
   "source": [
    "import matplotlib.pyplot as plt # everybody imports it that way\n",
    "\n",
    "%matplotlib inline \n",
    "# tell jupyter to plot inline\n",
    "\n",
    "xs = np.linspace(0, 2*np.pi, 100)\n",
    "ys = np.sin(xs) # np.sin is a universal function -applico funz su intero numpy array, comodo per plot-\n",
    "plt.plot(xs, ys);\n"
   ]
  },
  {
   "cell_type": "code",
   "execution_count": null,
   "metadata": {},
   "outputs": [],
   "source": [
    "image = np.random.rand(30, 30)\n",
    "plt.imshow(image, cmap=plt.cm.hot)    \n",
    "plt.colorbar()    "
   ]
  },
  {
   "cell_type": "markdown",
   "metadata": {},
   "source": [
    "## Elementwise operations\n",
    "\n",
    "### Basic operations"
   ]
  },
  {
   "cell_type": "code",
   "execution_count": 18,
   "metadata": {},
   "outputs": [
    {
     "name": "stdout",
     "output_type": "stream",
     "text": [
      "[5 6 7 8] \n",
      "\n",
      "[1 2 4 8] \n",
      "\n"
     ]
    }
   ],
   "source": [
    "# operations with scalars\n",
    "a=np.arange(4)\n",
    "print (a+5,'\\n')\n",
    "print (2**a,'\\n')"
   ]
  },
  {
   "cell_type": "code",
   "execution_count": null,
   "metadata": {},
   "outputs": [],
   "source": [
    "# operations among 1D \"vectors\". All is elementwise\n",
    "a=np.arange(4)\n",
    "b = np.ones(4) + 1\n",
    "print (\"a-b:\", a-b)\n",
    "print (\"a*b:\", a*b)\n",
    "\n",
    "# all is much faster than in plain python\n",
    "%timeit np.arange(10000) + 1\n",
    "%timeit [i+1 for i in range(10000)] "
   ]
  },
  {
   "cell_type": "markdown",
   "metadata": {},
   "source": [
    "Array multiplication is not matrix multiplication!!"
   ]
  },
  {
   "cell_type": "code",
   "execution_count": 19,
   "metadata": {},
   "outputs": [
    {
     "name": "stdout",
     "output_type": "stream",
     "text": [
      "the original matrix: \n",
      " [[1. 1. 1.]\n",
      " [1. 1. 1.]\n",
      " [1. 1. 1.]] \n",
      "\n",
      "the \"*\" product:  \n",
      " [[1. 1. 1.]\n",
      " [1. 1. 1.]\n",
      " [1. 1. 1.]] \n",
      "\n",
      "the actual matrix product:  \n",
      " [[3. 3. 3.]\n",
      " [3. 3. 3.]\n",
      " [3. 3. 3.]] \n",
      "\n"
     ]
    }
   ],
   "source": [
    "#differenza fra prodotto * (è come prodotto molt per scalare) e prodotto riga per colonna (.dot())\n",
    "\n",
    "ones = np.ones((3,3))\n",
    "print ('the original matrix:','\\n',ones,'\\n')\n",
    "\n",
    "print ('the \"*\" product: ','\\n',ones*ones,'\\n')\n",
    "\n",
    "print ('the actual matrix product: ','\\n',ones.dot(ones),'\\n')"
   ]
  },
  {
   "cell_type": "markdown",
   "metadata": {},
   "source": [
    "### Other operations\n",
    "\n",
    "comparisons, logical, functions "
   ]
  },
  {
   "cell_type": "code",
   "execution_count": null,
   "metadata": {},
   "outputs": [],
   "source": [
    "# elementwise\n",
    "print ('equal?:',np.array([1,3,2,5])==np.array([3,1,2,1]))\n",
    "print ('greater than?:',np.array([1,3,2,5])>np.array([3,1,2,1]))\n",
    "\n",
    "# array-wise\n",
    "np.array_equal(np.array([1,3,2,5]),np.array([3,1,2,1]))"
   ]
  },
  {
   "cell_type": "code",
   "execution_count": null,
   "metadata": {},
   "outputs": [],
   "source": [
    "# logical\n",
    "a=np.array([1,1,0,0],bool)\n",
    "b=np.array([1,0,1,0],bool)\n",
    "print (\"logical or:\", np.logical_or(a,b))\n",
    "print (\"logical and:\", np.logical_and(a,b))"
   ]
  },
  {
   "cell_type": "code",
   "execution_count": null,
   "metadata": {},
   "outputs": [],
   "source": [
    "# functions\n",
    "a=np.arange(1,9)\n",
    "print (\"sin:\", np.sin(a))\n",
    "print (\"log:\", np.log(a))\n",
    "\n",
    "# works in whatever dimension\n",
    "m=a.reshape(2,4)\n",
    "print (m)\n",
    "print (\"exp:\", np.exp(m))"
   ]
  },
  {
   "cell_type": "code",
   "execution_count": null,
   "metadata": {},
   "outputs": [],
   "source": [
    "# extracting off-diagonal terms\n",
    "a= np.tril(np.arange(16).reshape(4,4), -1) # play with the last parameter!\n",
    "#a= np.triu(np.arange(16).reshape(4,4), -1) # play with the last parameter (sign and value)!\n",
    "print (\"a:\", '\\n', a , '\\n')\n",
    "\n",
    "print (\"transpose:\", '\\n', a.T , '\\n') #a.T is a view!"
   ]
  },
  {
   "cell_type": "markdown",
   "metadata": {},
   "source": [
    "N.B.: a linear algebra package exists in numpy, `numpy.linalg`, but performance-wise the scipy one, `scipy.linalg`, is way better, we will see that later"
   ]
  },
  {
   "cell_type": "markdown",
   "metadata": {},
   "source": [
    "## Reductions\n",
    "\n",
    "Operations on the elements of an array returning a (set of) scalar are available either as methods of the array class or as numpy functions.\n",
    "\n",
    "In dimensions higher than one, the axis have to be specified"
   ]
  },
  {
   "cell_type": "code",
   "execution_count": null,
   "metadata": {},
   "outputs": [],
   "source": [
    "a=np.arange(1,7)\n",
    "# just to mess it up (for random see later)\n",
    "np.random.shuffle(a)\n",
    "print (a)\n",
    "print (\"sum:\", a.sum(), np.sum(a))\n",
    "print (\"min:\", a.min(), np.min(a))\n",
    "print (\"max:\", a.max(), np.max(a))\n",
    "print (\"index of the minimum argument:\", a.argmin(), np.argmin(a))\n",
    "print (\"index of the maximum argument:\", a.argmax(), np.argmax(a))\n",
    "print (\"mean:\", a.mean(), np.mean(a))\n",
    "print (\"median:\", np.median(a)) # so weird, median is not a method of the array class..\n",
    "print (\"standard deviation:\", a.std(), np.std(a))\n",
    "# and many others\n",
    "\n",
    "\n",
    "# giving you a \"chicca\" here:\n",
    "#for function in ['sum','min','argmin','mean','median','std']:\n",
    "#    print (function, getattr(np, function)(a))\n",
    "\n"
   ]
  },
  {
   "cell_type": "code",
   "execution_count": null,
   "metadata": {},
   "outputs": [],
   "source": [
    "# all those things wors as well in higher dimensions\n",
    "\n",
    "m=a.reshape(3,2)\n",
    "print (m,'\\n')\n",
    "\n",
    "print (\"sum along the columns:\", m.sum(axis=0))\n",
    "print (\"sum along the rows:\", m.sum(axis=1))"
   ]
  },
  {
   "cell_type": "markdown",
   "metadata": {},
   "source": [
    "## Broadcasting\n",
    "\n",
    "So far we have seen elementwise operations on arrays, which works only on arrays of the same size/shape (Verify that out!!).\n",
    "\n",
    "Nevertheless, It’s also possible to do operations on arrays of different\n",
    "sizes if NumPy can transform these arrays so that they all have\n",
    "the same size: this conversion is called broadcasting."
   ]
  },
  {
   "cell_type": "code",
   "execution_count": null,
   "metadata": {},
   "outputs": [],
   "source": [
    "from IPython.display import Image\n",
    "Image(\"numpy_broadcasting.png\")"
   ]
  },
  {
   "cell_type": "code",
   "execution_count": null,
   "metadata": {},
   "outputs": [],
   "source": [
    "a = np.tile(np.arange(0, 40, 10), (3, 1)).T # check what exactly np.tile does! \n",
    "print (\"original array:\",'\\n',a,'\\n')\n",
    "print (\"broadcasted sum :\",'\\n',a+np.arange(3),'\\n')"
   ]
  },
  {
   "cell_type": "markdown",
   "metadata": {},
   "source": [
    "## More on shape manipulation"
   ]
  },
  {
   "cell_type": "code",
   "execution_count": null,
   "metadata": {},
   "outputs": [],
   "source": [
    "# adding a dimension (useful for linear algebra)\n",
    "print (\"new dim along axis 1:\",'\\n', np.arange(1,4)[:,np.newaxis],'\\n')\n",
    "print (\"new dim along axis 0:\",'\\n', np.arange(1,4)[np.newaxis,:],'\\n')\n",
    "\n",
    "# resizing\n",
    "print (\"resizing:\",'\\n', np.resize(np.arange(4),(8,)),'\\n')\n"
   ]
  },
  {
   "cell_type": "markdown",
   "metadata": {},
   "source": [
    "# Random numbers\n",
    "\n",
    "There are two modules for (pseudo) random numbers that are commonly used. When all you need is to generate random numbers from some distribtuion, the `numpy.random` moodule is the simplest to use. When you need more information realted to a disttribution such as quantiles or the PDF, you can use the `scipy.stats` module, which will see later in the course."
   ]
  },
  {
   "cell_type": "code",
   "execution_count": null,
   "metadata": {},
   "outputs": [],
   "source": [
    "import numpy.random as npr\n",
    "npr.seed(123) # fix seed for reproducible result"
   ]
  },
  {
   "cell_type": "markdown",
   "metadata": {},
   "source": [
    "### Random data"
   ]
  },
  {
   "cell_type": "code",
   "execution_count": null,
   "metadata": {},
   "outputs": [],
   "source": [
    "# random values from a uniform distrubtion in [0.0, 1.0) for a given shape\n",
    "print (\"uniform:\",'\\n', npr.rand(3,4),'\\n') # shape=(3,4)\n",
    " \n",
    "# random values from a standard normal distrubtion  for a given shape\n",
    "print (\"normal:\",'\\n', npr.randn(2,5),'\\n') # shape=(2,5)\n",
    "\n",
    "# random integers between \"low\" and \"high\" edges for a given shape (size)\n",
    "print (\"integers:\",'\\n', npr.randint(1,5,size=(3,6)),'\\n') # shape=(3,6)"
   ]
  },
  {
   "cell_type": "markdown",
   "metadata": {},
   "source": [
    "### Operations on arrays"
   ]
  },
  {
   "cell_type": "code",
   "execution_count": null,
   "metadata": {},
   "outputs": [],
   "source": [
    "# randomly shuffling a vector\n",
    "x = np.arange(10)\n",
    "npr.shuffle(x)\n",
    "print (\"reshuffling:\",'\\n', x,'\\n')\n",
    "# npr.permutation works similarly\n",
    "\n",
    "# Generates a random sample from a given 1-D array (without replacement)\n",
    "x = np.arange(10,20)\n",
    "print (\"choice w/o replace\",'\\n',npr.choice(x, 10, replace=False),'\\n')\n",
    "\n",
    "# Generates a random sample of a given dimension from a given 1-D array\n",
    "print (\"choice w/o replace\",'\\n',npr.choice(x, (5, 10), replace=True),'\\n') # this is default\n",
    "\n",
    "\n"
   ]
  },
  {
   "cell_type": "markdown",
   "metadata": {},
   "source": [
    "## Probability Density Functions\n",
    "\n",
    "numbers can be drawn from basically any common PDF (normal, binomial, chisquare, etc..)"
   ]
  },
  {
   "cell_type": "code",
   "execution_count": null,
   "metadata": {},
   "outputs": [],
   "source": [
    "# exponential\n",
    "print (\"exponential:\",'\\n', npr.exponential(10, size=(3,2)),'\\n')"
   ]
  },
  {
   "cell_type": "code",
   "execution_count": null,
   "metadata": {},
   "outputs": [],
   "source": [
    "# tossing a dice\n",
    "roll = 1./6\n",
    "x = npr.multinomial(20000, [roll]*6, size=2)\n",
    "print (\"frequencies of 6-faces dice tossing (two players):\",'\\n', x)"
   ]
  },
  {
   "cell_type": "code",
   "execution_count": null,
   "metadata": {},
   "outputs": [],
   "source": [
    "# toy example - estimating pi inefficiently\n",
    "n = int(1e6)\n",
    "x = npr.uniform(-1,1,(n,2))\n",
    "4.0*np.sum(x[:,0]**2 + x[:,1]**2 < 1)/n"
   ]
  },
  {
   "cell_type": "code",
   "execution_count": null,
   "metadata": {},
   "outputs": [],
   "source": [
    "# uniformly distributed numbers in 2D\n",
    "x = npr.uniform(-1, 1, (100, 2))\n",
    "plt.scatter(x[:,0], x[:,1], s=50)\n",
    "plt.axis([-1.05, 1.05, -1.05, 1.05]);"
   ]
  },
  {
   "cell_type": "code",
   "execution_count": null,
   "metadata": {},
   "outputs": [],
   "source": []
  }
 ],
 "metadata": {
  "kernelspec": {
   "display_name": "Python 3",
   "language": "python",
   "name": "python3"
  },
  "language_info": {
   "codemirror_mode": {
    "name": "ipython",
    "version": 3
   },
   "file_extension": ".py",
   "mimetype": "text/x-python",
   "name": "python",
   "nbconvert_exporter": "python",
   "pygments_lexer": "ipython3",
   "version": "3.8.3"
  }
 },
 "nbformat": 4,
 "nbformat_minor": 4
}
