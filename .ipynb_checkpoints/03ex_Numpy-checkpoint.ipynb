{
 "cells": [
  {
   "cell_type": "code",
   "execution_count": null,
   "metadata": {},
   "outputs": [],
   "source": [
    "import numpy as np\n",
    "import numpy.random as npr\n",
    "import math as m\n",
    "import matplotlib.pyplot as plt"
   ]
  },
  {
   "cell_type": "markdown",
   "metadata": {},
   "source": [
    "### Numpy basics"
   ]
  },
  {
   "cell_type": "markdown",
   "metadata": {},
   "source": [
    "1\\. Find the row, column and overall means for the following matrix:\n",
    "\n",
    "```python\n",
    "m = np.arange(12).reshape((3,4))\n",
    "```"
   ]
  },
  {
   "cell_type": "code",
   "execution_count": 3,
   "metadata": {},
   "outputs": [
    {
     "name": "stdout",
     "output_type": "stream",
     "text": [
      "Overall Means:  5.5\n",
      "Rows:  3\n",
      "Colums:  4\n"
     ]
    }
   ],
   "source": [
    "m = np.arange(12).reshape((3,4))\n",
    "print('Overall Means: ',np.mean(m))\n",
    "print('Rows: ',np.shape(m)[0])\n",
    "print('Colums: ',np.shape(m)[1])"
   ]
  },
  {
   "cell_type": "markdown",
   "metadata": {},
   "source": [
    "2\\. Find the outer product of the following two vecotrs\n",
    "\n",
    "```python\n",
    "u = np.array([1,3,5,7])\n",
    "v = np.array([2,4,6,8])\n",
    "```\n",
    "\n",
    "Do this in the following ways:\n",
    "\n",
    "   * Using the function outer in numpy\n",
    "   * Using a nested for loop or list comprehension\n",
    "   * Using numpy broadcasting operations\n"
   ]
  },
  {
   "cell_type": "code",
   "execution_count": 171,
   "metadata": {},
   "outputs": [
    {
     "name": "stdout",
     "output_type": "stream",
     "text": [
      "[[ 2  4  6  8]\n",
      " [ 6 12 18 24]\n",
      " [10 20 30 40]\n",
      " [14 28 42 56]]\n",
      "[[ 2.  4.  6.  8.]\n",
      " [ 6. 12. 18. 24.]\n",
      " [10. 20. 30. 40.]\n",
      " [14. 28. 42. 56.]]\n",
      "[[ 2  4  6  8]\n",
      " [ 6 12 18 24]\n",
      " [10 20 30 40]\n",
      " [14 28 42 56]]\n"
     ]
    }
   ],
   "source": [
    "u = np.array([1,3,5,7])\n",
    "v = np.array([2,4,6,8])\n",
    "out_prod=np.outer(u,v)\n",
    "print(out_prod)\n",
    "\n",
    "loo_prod=np.zeros((len(u),len(v)))\n",
    "for i in range(len(u)):\n",
    "    for j in range(len(v)):\n",
    "        loo_prod[i][j]=u[i]*v[j]\n",
    "print(loo_prod)\n",
    "\n",
    "loo_prod=np.tile(u, (len(u),1)).T\n",
    "loo_prod=loo_prod*v\n",
    "print(loo_prod)"
   ]
  },
  {
   "cell_type": "markdown",
   "metadata": {},
   "source": [
    "3\\. Create a 10 by 6 matrix of random uniform numbers. Set all rows with any entry less than 0.1 to be zero\n",
    "\n",
    "Hint: Use the following numpy functions - np.random.random, np.any as well as Boolean indexing and the axis argument."
   ]
  },
  {
   "cell_type": "code",
   "execution_count": null,
   "metadata": {},
   "outputs": [],
   "source": [
    "randmat=npr.rand(10,6)\n",
    "print('Old Matrix')\n",
    "print(randmat)\n",
    "randmat[randmat< 0.1] = 0\n",
    "print('New Matrix')\n",
    "print(randmat)"
   ]
  },
  {
   "cell_type": "markdown",
   "metadata": {},
   "source": [
    "4\\. Use np.linspace to create an array of 100 numbers between 0 and 2π (inclusive).\n",
    "\n",
    "  * Extract every 10th element using slice notation\n",
    "  * Reverse the array using slice notation\n",
    "  * Extract elements where the absolute difference between the sine and cosine functions evaluated at that element is less than 0.1\n",
    "  * Make a plot showing the sin and cos functions and indicate where they are close"
   ]
  },
  {
   "cell_type": "code",
   "execution_count": 109,
   "metadata": {},
   "outputs": [
    {
     "name": "stdout",
     "output_type": "stream",
     "text": [
      "[0.         0.31733259 0.63466518 0.95199777 1.26933037 1.58666296\n",
      " 1.90399555 2.22132814 2.53866073 2.85599332]\n",
      "----------------------------------------------\n",
      "[3.14159265 2.82426006 2.50692747 2.18959488 1.87226229 1.5549297\n",
      " 1.23759711 0.92026451 0.60293192 0.28559933]\n",
      "----------------------------------------------\n",
      "[0.72986496 0.76159822 0.79333148 0.82506474]\n",
      "----------------------------------------------\n"
     ]
    },
    {
     "data": {
      "image/png": "[encoded data removed]",
      "text/plain": [
       "<Figure size 432x288 with 1 Axes>"
      ]
     },
     "metadata": {
      "needs_background": "light"
     },
     "output_type": "display_data"
    }
   ],
   "source": [
    "arr=np.linspace(0,m.pi,100)\n",
    "print(arr[::10]) #take elements every 10\n",
    "print('----------------------------------------------')\n",
    "print(arr[::-10]) #take elements every 10 in reverse\n",
    "print('----------------------------------------------')\n",
    "arr_diff=arr[abs(np.sin(arr)-np.cos(arr))<0.1]\n",
    "print(arr_diff)\n",
    "print('----------------------------------------------')\n",
    "ys = np.sin(arr_diff) \n",
    "y1s = np.cos(arr_diff) \n",
    "plt.plot(arr_diff, ys, arr_diff,y1s);"
   ]
  },
  {
   "cell_type": "markdown",
   "metadata": {},
   "source": [
    "5\\. Create a matrix that shows the 10 by 10 multiplication table.\n",
    "\n",
    " * Find the trace of the matrix\n",
    " * Extract the anto-diagonal (this should be ```array([10, 18, 24, 28, 30, 30, 28, 24, 18, 10])```)\n",
    " * Extract the diagnoal offset by 1 upwards (this should be ```array([ 2,  6, 12, 20, 30, 42, 56, 72, 90])```)"
   ]
  },
  {
   "cell_type": "code",
   "execution_count": 129,
   "metadata": {},
   "outputs": [
    {
     "name": "stdout",
     "output_type": "stream",
     "text": [
      "[[  1.   2.   3.   4.   5.   6.   7.   8.   9.  10.]\n",
      " [  2.   4.   6.   8.  10.  12.  14.  16.  18.  20.]\n",
      " [  3.   6.   9.  12.  15.  18.  21.  24.  27.  30.]\n",
      " [  4.   8.  12.  16.  20.  24.  28.  32.  36.  40.]\n",
      " [  5.  10.  15.  20.  25.  30.  35.  40.  45.  50.]\n",
      " [  6.  12.  18.  24.  30.  36.  42.  48.  54.  60.]\n",
      " [  7.  14.  21.  28.  35.  42.  49.  56.  63.  70.]\n",
      " [  8.  16.  24.  32.  40.  48.  56.  64.  72.  80.]\n",
      " [  9.  18.  27.  36.  45.  54.  63.  72.  81.  90.]\n",
      " [ 10.  20.  30.  40.  50.  60.  70.  80.  90. 100.]]\n",
      "The Trace is:  385.0\n",
      "[10. 18. 24. 28. 30. 30. 28. 24. 18. 10.]\n",
      "[ 2.  6. 12. 20. 30. 42. 56. 72. 90.]\n"
     ]
    }
   ],
   "source": [
    "multmat=np.zeros((10,10))\n",
    "for i in range(1,11,1):\n",
    "    multmat[i-1]=i*np.arange(1,11,1)\n",
    "print(multmat)\n",
    "\n",
    "trace=np.trace(multmat)\n",
    "print('The Trace is: ',trace)\n",
    "\n",
    "antidiag=np.zeros((10))\n",
    "for i in range(10):\n",
    "    antidiag[i]=multmat[i][9-i]\n",
    "print(antidiag)\n",
    "\n",
    "updiag=np.zeros((9))\n",
    "for i in range(9):\n",
    "    updiag[i]=multmat[i][i+1]\n",
    "print(updiag)"
   ]
  },
  {
   "cell_type": "markdown",
   "metadata": {},
   "source": [
    "6\\. Use broadcasting to create a grid of distances\n",
    "\n",
    "Route 66 crosses the following cities in the US: Chicago, Springfield, Saint-Louis, Tulsa, Oklahoma City, Amarillo, Santa Fe, Albuquerque, Flagstaff, Los Angeles\n",
    "The corresponding positions in miles are: 0, 198, 303, 736, 871, 1175, 1475, 1544, 1913, 2448\n",
    "\n",
    "  * Construct a 2D grid of distances among each city along Route 66\n",
    "  * Convert that in km (those savages...)"
   ]
  },
  {
   "cell_type": "code",
   "execution_count": 169,
   "metadata": {},
   "outputs": [
    {
     "name": "stdout",
     "output_type": "stream",
     "text": [
      "[[   0.   316.8  484.8 1177.6 1393.6 1880.  2360.  2470.4 3060.8 3916.8]\n",
      " [ 316.8    0.   168.   860.8 1076.8 1563.2 2043.2 2153.6 2744.  3600. ]\n",
      " [ 484.8  168.     0.   692.8  908.8 1395.2 1875.2 1985.6 2576.  3432. ]\n",
      " [1177.6  860.8  692.8    0.   216.   702.4 1182.4 1292.8 1883.2 2739.2]\n",
      " [1393.6 1076.8  908.8  216.     0.   486.4  966.4 1076.8 1667.2 2523.2]\n",
      " [1880.  1563.2 1395.2  702.4  486.4    0.   480.   590.4 1180.8 2036.8]\n",
      " [2360.  2043.2 1875.2 1182.4  966.4  480.     0.   110.4  700.8 1556.8]\n",
      " [2470.4 2153.6 1985.6 1292.8 1076.8  590.4  110.4    0.   590.4 1446.4]\n",
      " [3060.8 2744.  2576.  1883.2 1667.2 1180.8  700.8  590.4    0.   856. ]\n",
      " [3916.8 3600.  3432.  2739.2 2523.2 2036.8 1556.8 1446.4  856.     0. ]]\n"
     ]
    }
   ],
   "source": [
    "miles=np.array([0,198,303,736,871,1175,1475,1544,1913,2448])\n",
    "distmat=np.zeros((len(miles),len(miles)))\n",
    "a = np.tile(miles, (len(miles),1)).T\n",
    "distmat=abs(a-miles)\n",
    "distmat=1.6*distmat\n",
    "\n",
    "print(distmat)"
   ]
  },
  {
   "cell_type": "markdown",
   "metadata": {},
   "source": [
    "7\\. Prime numbers sieve: compute the prime numbers in the 0-N (N=99 to start with) range with a sieve (mask).\n",
    "  * Constract a shape (100,) boolean array, the mask\n",
    "  * Identify the multiples of each number starting from 2 and set accordingly the corresponding mask element\n",
    "  * Apply the mask to obtain an array of ordered prime numbers\n",
    "  * Check the performances (timeit); how does it scale with N?\n",
    "  * Implement the optimization suggested in the [sieve of Eratosthenes](https://en.wikipedia.org/wiki/Sieve_of_Eratosthenes)"
   ]
  },
  {
   "cell_type": "code",
   "execution_count": 168,
   "metadata": {},
   "outputs": [
    {
     "name": "stdout",
     "output_type": "stream",
     "text": [
      "[ 1  2  3  5  7 11 13 17 19 23 29 31 37 41 43 47 53 59 61 67 71 73 79 83\n",
      " 89 97]\n"
     ]
    }
   ],
   "source": [
    "N=100\n",
    "numb=np.arange(1,N+1,1)\n",
    "primes=numb\n",
    "mask=np.zeros((N,),bool)\n",
    "for i in range(2,round(N**0.5),1):\n",
    "    mask=mask+(numb % i == 0)*(numb!=i)   \n",
    "mask=np.logical_not(mask)\n",
    "primes=numb[mask]\n",
    "\n",
    "print(primes)\n",
    "\n",
    "#N=1000000 time: 9.1645262\n",
    "#N=100000  time: 0.1805370\n",
    "#N=10000   time: 0.0109701\n",
    "#N=1000    time: 0.0019953"
   ]
  },
  {
   "cell_type": "markdown",
   "metadata": {},
   "source": [
    "8\\. Diffusion using random walk\n",
    "\n",
    "Consider a simple random walk process: at each step in time, a walker jumps right or left (+1 or -1) with equal probability. The goal is to find the typical distance from the origin of a random walker after a given amount of time. \n",
    "To do that, let's simulate many walkers and create a 2D array with each walker as a raw and the actual time evolution as columns\n",
    "\n",
    "  * Take 1000 walkers and let them walk for 200 steps\n",
    "  * Use randint to create a 2D array of size walkers x steps with values -1 or 1\n",
    "  * Build the actual walking distances for each walker (i.e. another 2D array \"summing on each raw\")\n",
    "  * Take the square of that 2D array (elementwise)\n",
    "  * Compute the mean of the squared distances at each step (i.e. the mean along the columns)\n",
    "  * Plot the average distances (sqrt(distance\\*\\*2)) as a function of time (step)\n",
    "  \n",
    "Did you get what you expected?"
   ]
  },
  {
   "cell_type": "code",
   "execution_count": 94,
   "metadata": {},
   "outputs": [
    {
     "data": {
      "image/png": "[encoded data removed]",
      "text/plain": [
       "<Figure size 432x288 with 1 Axes>"
      ]
     },
     "metadata": {
      "needs_background": "light"
     },
     "output_type": "display_data"
    }
   ],
   "source": [
    "Nwalk=1000\n",
    "Nstep=200\n",
    "walkp_mat=npr.randint(0,2,(Nwalk,Nstep))\n",
    "walkp_mat[walkp_mat==0]=-1\n",
    "\n",
    "pos_mat=np.zeros((Nwalk,Nstep))\n",
    "for i in range(1,Nstep):\n",
    "    pos_mat[:,i]=pos_mat[:,i-1]+walkp_mat[:,i-1]\n",
    "\n",
    "pos_mat=pos_mat**2\n",
    "medpos=np.zeros(Nstep)\n",
    "for i in range(Nstep):\n",
    "    medpos[i]=np.mean(pos_mat[:,i])\n",
    "medpos=medpos**0.5\n",
    "steps=np.arange(Nstep)\n",
    "\n",
    "plt.plot(steps, medpos);"
   ]
  },
  {
   "cell_type": "markdown",
   "metadata": {},
   "source": [
    "9\\. Analyze a data file \n",
    "  * Download the population of hares, lynxes and carrots at the beginning of the last century.\n",
    "    ```python\n",
    "    ! wget https://www.dropbox.com/s/3vigxoqayo389uc/populations.txt\n",
    "    ```\n",
    "\n",
    "  * Check the content by looking within the file\n",
    "  * Load the data (use an appropriate numpy method) into a 2D array\n",
    "  * Create arrays out of the columns, the arrays being (in order): *year*, *hares*, *lynxes*, *carrots* \n",
    "  * Plot the 3 populations over the years\n",
    "  * Compute the main statistical properties of the dataset (mean, std, correlations, etc.)\n",
    "  * Which species has the highest population each year?\n",
    "\n",
    "Do you feel there is some evident correlation here? [Studies](https://www.enr.gov.nt.ca/en/services/lynx/lynx-snowshoe-hare-cycle) tend to believe so."
   ]
  },
  {
   "cell_type": "code",
   "execution_count": 172,
   "metadata": {},
   "outputs": [
    {
     "name": "stdout",
     "output_type": "stream",
     "text": [
      "['carrots', 'carrots', 'hares', 'hares', 'lynxes', 'lynxes', 'carrots', 'carrots', 'carrots', 'carrots', 'carrots', 'carrots', 'hares', 'hares', 'hares', 'lynxes', 'carrots', 'carrots', 'carrots', 'carrots', 'carrots']\n"
     ]
    },
    {
     "data": {
      "image/png": "[encoded data removed]",
      "text/plain": [
       "<Figure size 432x288 with 1 Axes>"
      ]
     },
     "metadata": {
      "needs_background": "light"
     },
     "output_type": "display_data"
    },
    {
     "data": {
      "image/png": "[encoded data removed]",
      "text/plain": [
       "<Figure size 432x288 with 1 Axes>"
      ]
     },
     "metadata": {
      "needs_background": "light"
     },
     "output_type": "display_data"
    }
   ],
   "source": [
    "#import wget\n",
    "#url = 'https://www.dropbox.com/s/3vigxoqayo389uc/populations.txt'\n",
    "#wget.download(url, '/Users/andre/Downloads/file.txt')\n",
    "\n",
    "#Data\n",
    "years=np.arange(1900,1921)\n",
    "hares=100*np.array([300,472,702,774,363,206,181,214,220,254,271,403,570,766,523,195,112,76,146,162,247])\n",
    "lynxes=100*np.array([40,61,98,352,594,417,190,130,83,91,74,80,123,195,457,511,297,158,97,101,86])\n",
    "carrots=100*np.array([483,482,415,382,406,398,386,423,445,421,460,468,438,409,394,390,367,418,433,413,473])\n",
    "data=np.zeros((4,len(years)))\n",
    "data[0,:]=years\n",
    "data[1,:]=hares\n",
    "data[2,:]=lynxes\n",
    "data[3,:]=carrots\n",
    "#this introduction can be modified using wget\n",
    "plt.figure(1)\n",
    "plt.plot(years,hares,'g',year,lynxes,'r');\n",
    "plt.plot(years,carrots,color='orange');\n",
    "\n",
    "menarr=np.array([np.mean(hares),np.mean(lynxes),np.mean(carrots)])\n",
    "covmat=np.cov(data[1:,:])\n",
    "\n",
    "labels=['hares','lynxes','carrots']\n",
    "maxspec=[]\n",
    "for i in range(len(years)):\n",
    "    ind=data[1:,i].argmax()\n",
    "    maxspec.append(labels[ind])\n",
    "print(maxspec)\n",
    "#obviously there is some correlation here, and this plot show a clear stable dynamic equilibrium between for example \n",
    "#hares-lynxes, and this is also discussed in Lotka-Volterra Model\n",
    "plt.figure(2)\n",
    "plt.plot(hares,lynxes);"
   ]
  },
  {
   "cell_type": "code",
   "execution_count": null,
   "metadata": {},
   "outputs": [],
   "source": []
  }
 ],
 "metadata": {
  "kernelspec": {
   "display_name": "Python 3",
   "language": "python",
   "name": "python3"
  },
  "language_info": {
   "codemirror_mode": {
    "name": "ipython",
    "version": 3
   },
   "file_extension": ".py",
   "mimetype": "text/x-python",
   "name": "python",
   "nbconvert_exporter": "python",
   "pygments_lexer": "ipython3",
   "version": "3.8.5"
  }
 },
 "nbformat": 4,
 "nbformat_minor": 2
}
