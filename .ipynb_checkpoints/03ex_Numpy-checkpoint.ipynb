{
 "cells": [
  {
   "cell_type": "markdown",
   "metadata": {},
   "source": [
    "### Numpy basics"
   ]
  },
  {
   "cell_type": "markdown",
   "metadata": {},
   "source": [
    "1\\. Find the row, column and overall means for the following matrix:\n",
    "\n",
    "```python\n",
    "m = np.arange(12).reshape((3,4))\n",
    "```"
   ]
  },
  {
   "cell_type": "code",
   "execution_count": 3,
   "metadata": {},
   "outputs": [
    {
     "name": "stdout",
     "output_type": "stream",
     "text": [
      "Matrice iniziale:\n",
      "[[ 0  1  2  3]\n",
      " [ 4  5  6  7]\n",
      " [ 8  9 10 11]] \n",
      "\n",
      "Media complessiva =  5.5\n",
      "Media righe:  [1.5 5.5 9.5]\n",
      "Media colonne:  [4. 5. 6. 7.]\n"
     ]
    }
   ],
   "source": [
    "import numpy as np\n",
    "m=np.arange(12).reshape((3,4))\n",
    "print(\"Matrice iniziale:\")\n",
    "print(m,\"\\n\")\n",
    "valore_m=np.array(np.mean(m))\n",
    "media_r=np.array([np.mean(m[i,:]) for i in range(m.shape[0])])\n",
    "media_c=np.array([np.mean(m[:,i]) for i in range(m.shape[1])])\n",
    "print(\"Media complessiva = \",valore_m)\n",
    "print(\"Media righe: \",media_r)\n",
    "print(\"Media colonne: \",media_c)\n"
   ]
  },
  {
   "cell_type": "markdown",
   "metadata": {},
   "source": [
    "2\\. Find the outer product of the following two vecotrs\n",
    "\n",
    "```python\n",
    "u = np.array([1,3,5,7])\n",
    "v = np.array([2,4,6,8])\n",
    "```\n",
    "\n",
    "Do this in the following ways:\n",
    "\n",
    "   * Using the function outer in numpy\n",
    "   * Using a nested for loop or list comprehension\n",
    "   * Using numpy broadcasting operatoins\n"
   ]
  },
  {
   "cell_type": "code",
   "execution_count": 7,
   "metadata": {},
   "outputs": [
    {
     "name": "stdout",
     "output_type": "stream",
     "text": [
      "Vettore u:  [1 3 5 7]\n",
      "Vettore v:  [2 4 6 8]\n",
      "Sfruttando np.outer:\n",
      "[[ 2  4  6  8]\n",
      " [ 6 12 18 24]\n",
      " [10 20 30 40]\n",
      " [14 28 42 56]] \n",
      "\n",
      "List comprehension:\n",
      "[[ 2  4  6  8]\n",
      " [ 6 12 18 24]\n",
      " [10 20 30 40]\n",
      " [14 28 42 56]] \n",
      "\n",
      "Broadcasting \n",
      "[[ 2  4  6  8]\n",
      " [ 6 12 18 24]\n",
      " [10 20 30 40]\n",
      " [14 28 42 56]]\n"
     ]
    }
   ],
   "source": [
    "import numpy as np\n",
    "u=np.array([1,3,5,7])\n",
    "v=np.array([2,4,6,8])\n",
    "print(\"Vettore u: \",u)\n",
    "print(\"Vettore v: \",v)\n",
    "#Primo modo:\n",
    "prodotto_est=np.outer(u,v)\n",
    "print(\"Sfruttando np.outer:\")\n",
    "print(prodotto_est , '\\n')\n",
    "\n",
    "#Secondo modo:\n",
    "risultato_2=np.array([ [u[i]*v[j] for j in range(4)] for i in range(4)])\n",
    "print(\"List comprehension:\")\n",
    "print(risultato_2, '\\n')\n",
    "\n",
    "#Terzo modo:\n",
    "u_new=np.tile(u,(4,1)).T       #VETTORE TRASPOSTO\n",
    "v_new=np.tile(v,(4,1))\n",
    "risultato_3=u_new*v_new #Il risultato è una matrice\n",
    "print(\"Broadcasting:\")\n",
    "print(risultato_3, )"
   ]
  },
  {
   "cell_type": "markdown",
   "metadata": {},
   "source": [
    "3\\. Create a 10 by 6 matrix of random uniform numbers. Set all rows with any entry less than 0.1 to be zero\n",
    "\n",
    "Hint: Use the following numpy functions - np.random.random, np.any as well as Boolean indexing and the axis argument."
   ]
  },
  {
   "cell_type": "code",
   "execution_count": 17,
   "metadata": {},
   "outputs": [
    {
     "name": "stdout",
     "output_type": "stream",
     "text": [
      "\u001b[1;34mLa matrice iniziale è data da:\u001b[0m\n",
      "[[0.58686411 0.96451984 0.25410431 0.29008331 0.14405422 0.50537794]\n",
      " [0.07866823 0.18683496 0.72181942 0.10804126 0.98504025 0.06734928]\n",
      " [0.20362167 0.81146073 0.73638215 0.27833657 0.53836717 0.66779759]\n",
      " [0.67059517 0.51846403 0.7896383  0.64163584 0.08342723 0.18092384]\n",
      " [0.17035461 0.39084189 0.64064446 0.88523725 0.25378631 0.82438889]\n",
      " [0.27448735 0.7830617  0.82719553 0.09138247 0.87574889 0.48811846]\n",
      " [0.37568188 0.4192114  0.16919341 0.59305887 0.40508273 0.51951023]\n",
      " [0.84700701 0.07951444 0.82575768 0.95439166 0.29960884 0.80880484]\n",
      " [0.56326087 0.24616829 0.07671497 0.82279503 0.1253519  0.0777638 ]\n",
      " [0.69812577 0.5967136  0.86081735 0.46612815 0.49343458 0.9403816 ]] \n",
      "\n",
      "\u001b[1;34mLa matrice iniziale modificata sarà:\u001b[0m\n",
      "[[0.58686411 0.96451984 0.25410431 0.29008331 0.14405422 0.50537794]\n",
      " [0.         0.         0.         0.         0.         0.        ]\n",
      " [0.20362167 0.81146073 0.73638215 0.27833657 0.53836717 0.66779759]\n",
      " [0.         0.         0.         0.         0.         0.        ]\n",
      " [0.17035461 0.39084189 0.64064446 0.88523725 0.25378631 0.82438889]\n",
      " [0.         0.         0.         0.         0.         0.        ]\n",
      " [0.37568188 0.4192114  0.16919341 0.59305887 0.40508273 0.51951023]\n",
      " [0.         0.         0.         0.         0.         0.        ]\n",
      " [0.         0.         0.         0.         0.         0.        ]\n",
      " [0.69812577 0.5967136  0.86081735 0.46612815 0.49343458 0.9403816 ]]\n"
     ]
    }
   ],
   "source": [
    "import numpy.random as npr\n",
    "\n",
    "matrice=npr.rand(10,6)\n",
    "print(\"\\x1b[1;34mLa matrice iniziale è data da:\\x1b[0m\")\n",
    "print(matrice,\"\\n\")\n",
    "\n",
    "for i in range(0,10):\n",
    "    if (np.any(matrice[i,:]<0.1)==True):\n",
    "        matrice[i,:]=0\n",
    "print(\"\\x1b[1;34mLa matrice iniziale modificata sarà:\\x1b[0m\")\n",
    "print(matrice)"
   ]
  },
  {
   "cell_type": "markdown",
   "metadata": {},
   "source": [
    "4\\. Use np.linspace to create an array of 100 numbers between 0 and 2π (includsive).\n",
    "\n",
    "  * Extract every 10th element using slice notation\n",
    "  * Reverse the array using slice notation\n",
    "  * Extract elements where the absolute difference between the sine and cosine functions evaluated at that element is less than 0.1\n",
    "  * Make a plot showing the sin and cos functions and indicate where they are close"
   ]
  },
  {
   "cell_type": "code",
   "execution_count": 29,
   "metadata": {},
   "outputs": [
    {
     "name": "stdout",
     "output_type": "stream",
     "text": [
      "[0.         0.06346652 0.12693304 0.19039955 0.25386607 0.31733259\n",
      " 0.38079911 0.44426563 0.50773215 0.57119866 0.63466518 0.6981317\n",
      " 0.76159822 0.82506474 0.88853126 0.95199777 1.01546429 1.07893081\n",
      " 1.14239733 1.20586385 1.26933037 1.33279688 1.3962634  1.45972992\n",
      " 1.52319644 1.58666296 1.65012947 1.71359599 1.77706251 1.84052903\n",
      " 1.90399555 1.96746207 2.03092858 2.0943951  2.15786162 2.22132814\n",
      " 2.28479466 2.34826118 2.41172769 2.47519421 2.53866073 2.60212725\n",
      " 2.66559377 2.72906028 2.7925268  2.85599332 2.91945984 2.98292636\n",
      " 3.04639288 3.10985939 3.17332591 3.23679243 3.30025895 3.36372547\n",
      " 3.42719199 3.4906585  3.55412502 3.61759154 3.68105806 3.74452458\n",
      " 3.8079911  3.87145761 3.93492413 3.99839065 4.06185717 4.12532369\n",
      " 4.1887902  4.25225672 4.31572324 4.37918976 4.44265628 4.5061228\n",
      " 4.56958931 4.63305583 4.69652235 4.75998887 4.82345539 4.88692191\n",
      " 4.95038842 5.01385494 5.07732146 5.14078798 5.2042545  5.26772102\n",
      " 5.33118753 5.39465405 5.45812057 5.52158709 5.58505361 5.64852012\n",
      " 5.71198664 5.77545316 5.83891968 5.9023862  5.96585272 6.02931923\n",
      " 6.09278575 6.15625227 6.21971879 6.28318531] \n",
      "\n",
      "Stampa ogni decimo elemento:\n",
      "[0.         0.63466518 1.26933037 1.90399555 2.53866073 3.17332591\n",
      " 3.8079911  4.44265628 5.07732146 5.71198664] \n",
      "\n",
      "Usando la slice notation, l'array invertito sarà:\n",
      "[6.28318531 6.21971879 6.15625227 6.09278575 6.02931923 5.96585272\n",
      " 5.9023862  5.83891968 5.77545316 5.71198664 5.64852012 5.58505361\n",
      " 5.52158709 5.45812057 5.39465405 5.33118753 5.26772102 5.2042545\n",
      " 5.14078798 5.07732146 5.01385494 4.95038842 4.88692191 4.82345539\n",
      " 4.75998887 4.69652235 4.63305583 4.56958931 4.5061228  4.44265628\n",
      " 4.37918976 4.31572324 4.25225672 4.1887902  4.12532369 4.06185717\n",
      " 3.99839065 3.93492413 3.87145761 3.8079911  3.74452458 3.68105806\n",
      " 3.61759154 3.55412502 3.4906585  3.42719199 3.36372547 3.30025895\n",
      " 3.23679243 3.17332591 3.10985939 3.04639288 2.98292636 2.91945984\n",
      " 2.85599332 2.7925268  2.72906028 2.66559377 2.60212725 2.53866073\n",
      " 2.47519421 2.41172769 2.34826118 2.28479466 2.22132814 2.15786162\n",
      " 2.0943951  2.03092858 1.96746207 1.90399555 1.84052903 1.77706251\n",
      " 1.71359599 1.65012947 1.58666296 1.52319644 1.45972992 1.3962634\n",
      " 1.33279688 1.26933037 1.20586385 1.14239733 1.07893081 1.01546429\n",
      " 0.95199777 0.88853126 0.82506474 0.76159822 0.6981317  0.63466518\n",
      " 0.57119866 0.50773215 0.44426563 0.38079911 0.31733259 0.25386607\n",
      " 0.19039955 0.12693304 0.06346652 0.        ] \n",
      "\n",
      "Elementi per cui la differenza è minore di 0.1:\n",
      "[0.76159822 0.82506474 3.87145761 3.93492413]\n"
     ]
    },
    {
     "data": {
      "image/png": "[encoded data removed]",
      "text/plain": [
       "<Figure size 432x288 with 1 Axes>"
      ]
     },
     "metadata": {
      "needs_background": "light"
     },
     "output_type": "display_data"
    }
   ],
   "source": [
    "import math as m\n",
    "import numpy as np\n",
    "import matplotlib.pyplot as plt\n",
    "\n",
    "a=np.linspace(0,2*m.pi,100)\n",
    "print(a,\"\\n\")\n",
    "\n",
    "print(\"Stampa ogni decimo elemento:\")\n",
    "print(a[0:100:10],\"\\n\")\n",
    "print(\"Usando la slice notation, l'array invertito sarà:\")\n",
    "print(a[::-1],\"\\n\")\n",
    "\n",
    "b = np.empty((0))\n",
    "print(\"Elementi per cui la differenza è minore di 0.1:\")\n",
    "for i in range(0,100): \n",
    "    if abs(m.cos(a[i])-m.sin(a[i]))<0.1:\n",
    "        b = np.append(b,a[i]) \n",
    "print(b)\n",
    "\n",
    "plt.plot(b,np.cos(b), color=\"green\", marker=\"o\", linestyle=\"\")\n",
    "plt.plot(b,np.sin(b), color=\"red\", marker=\"o\", linestyle=\"\")\n",
    "plt.plot(a,np.cos(a))\n",
    "plt.plot(a,np.sin(a))\n",
    "\n",
    "plt.plot(a,np.cos(a), label=\"Coseno\")\n",
    "plt.plot(a,np.sin(a), label=\"Seno\")\n",
    "\n",
    "plt.legend()\n",
    "plt.show()"
   ]
  },
  {
   "cell_type": "markdown",
   "metadata": {},
   "source": [
    "5\\. Create a matrix that shows the 10 by 10 multiplication table.\n",
    "\n",
    " * Find the trace of the matrix\n",
    " * Extract the anto-diagonal (this should be ```array([10, 18, 24, 28, 30, 30, 28, 24, 18, 10])```)\n",
    " * Extract the diagnoal offset by 1 upwards (this should be ```array([ 2,  6, 12, 20, 30, 42, 56, 72, 90])```)"
   ]
  },
  {
   "cell_type": "code",
   "execution_count": 21,
   "metadata": {},
   "outputs": [
    {
     "name": "stdout",
     "output_type": "stream",
     "text": [
      "[[  1   2   3   4   5   6   7   8   9  10]\n",
      " [  2   4   6   8  10  12  14  16  18  20]\n",
      " [  3   6   9  12  15  18  21  24  27  30]\n",
      " [  4   8  12  16  20  24  28  32  36  40]\n",
      " [  5  10  15  20  25  30  35  40  45  50]\n",
      " [  6  12  18  24  30  36  42  48  54  60]\n",
      " [  7  14  21  28  35  42  49  56  63  70]\n",
      " [  8  16  24  32  40  48  56  64  72  80]\n",
      " [  9  18  27  36  45  54  63  72  81  90]\n",
      " [ 10  20  30  40  50  60  70  80  90 100]] \n",
      "\n",
      "traccia: 385\n",
      "anti diagonale:  [10 18 24 28 30 30 28 24 18 10]\n",
      "Ultima richiesta:  [ 2  6 12 20 30 42 56 72 90]\n"
     ]
    }
   ],
   "source": [
    "a=np.array([ [i*j for j in range(1,11)] for i in range(1,11)])\n",
    "print(a,\"\\n\")\n",
    "\n",
    "print(\"traccia:\" ,np.trace(a))\n",
    "\n",
    "anti_diag=np.array([a[i,9-i] for i in range(0,10)])\n",
    "print(\"anti diagonale: \",anti_diag)\n",
    "\n",
    "diag=np.array([a[1+i,i] for i in range(0,9)])\n",
    "print(\"Ultima richiesta: \",diag)"
   ]
  },
  {
   "cell_type": "markdown",
   "metadata": {},
   "source": [
    "6\\. Use broadcasting to create a grid of distances\n",
    "\n",
    "Route 66 crosses the following cities in the US: Chicago, Springfield, Saint-Louis, Tulsa, Oklahoma City, Amarillo, Santa Fe, Albuquerque, Flagstaff, Los Angeles\n",
    "The corresponding positions in miles are: 0, 198, 303, 736, 871, 1175, 1475, 1544, 1913, 2448\n",
    "\n",
    "  * Construct a 2D grid of distances among each city along Route 66\n",
    "  * Convert that in km (those savages...)"
   ]
  },
  {
   "cell_type": "code",
   "execution_count": 223,
   "metadata": {},
   "outputs": [
    {
     "name": "stdout",
     "output_type": "stream",
     "text": [
      "\u001b[1;30mTabella che riporta la distanza tra le città, l'una rispetto all'altra, in KM:\u001b[0m\n",
      "[[   0.   316.8  484.8 1177.6 1393.6 1880.  2360.  2470.4 3060.8 3916.8]\n",
      " [ 316.8    0.   168.   860.8 1076.8 1563.2 2043.2 2153.6 2744.  3600. ]\n",
      " [ 484.8  168.     0.   692.8  908.8 1395.2 1875.2 1985.6 2576.  3432. ]\n",
      " [1177.6  860.8  692.8    0.   216.   702.4 1182.4 1292.8 1883.2 2739.2]\n",
      " [1393.6 1076.8  908.8  216.     0.   486.4  966.4 1076.8 1667.2 2523.2]\n",
      " [1880.  1563.2 1395.2  702.4  486.4    0.   480.   590.4 1180.8 2036.8]\n",
      " [2360.  2043.2 1875.2 1182.4  966.4  480.     0.   110.4  700.8 1556.8]\n",
      " [2470.4 2153.6 1985.6 1292.8 1076.8  590.4  110.4    0.   590.4 1446.4]\n",
      " [3060.8 2744.  2576.  1883.2 1667.2 1180.8  700.8  590.4    0.   856. ]\n",
      " [3916.8 3600.  3432.  2739.2 2523.2 2036.8 1556.8 1446.4  856.     0. ]]\n"
     ]
    }
   ],
   "source": [
    "dist = np.array([0, 198, 303, 736, 871, 1175, 1475, 1544, 1913, 2448])\n",
    "griglia_distanze = np.abs(dist - dist[:, np.newaxis])\n",
    "print(\"\\x1b[1;30mTabella che riporta la distanza tra le città, l'una rispetto all'altra, in KM:\\x1b[0m\")\n",
    "\n",
    "print(griglia_distanze*1.6)"
   ]
  },
  {
   "cell_type": "markdown",
   "metadata": {},
   "source": [
    "7\\. Prime numbers sieve: compute the prime numbers in the 0-N (N=99 to start with) range with a sieve (mask).\n",
    "  * Constract a shape (100,) boolean array, the mask\n",
    "  * Identify the multiples of each number starting from 2 and set accordingly the corresponding mask element\n",
    "  * Apply the mask to obtain an array of ordered prime numbers\n",
    "  * Check the performances (timeit); how does it scale with N?\n",
    "  * Implement the optimization suggested in the [sieve of Eratosthenes](https://en.wikipedia.org/wiki/Sieve_of_Eratosthenes)"
   ]
  },
  {
   "cell_type": "code",
   "execution_count": 222,
   "metadata": {},
   "outputs": [
    {
     "name": "stdout",
     "output_type": "stream",
     "text": [
      "Numeri primi da 2 a 1000 : \n",
      "\n",
      "29.5 ns ± 0.577 ns per loop (mean ± std. dev. of 7 runs, 10000000 loops each)\n",
      "[2, 3, 5, 7, 11, 13, 17, 19, 23, 29, 31, 37, 41, 43, 47, 53, 59, 61, 67, 71, 73, 79, 83, 89, 97, 101, 103, 107, 109, 113, 127, 131, 137, 139, 149, 151, 157, 163, 167, 173, 179, 181, 191, 193, 197, 199, 211, 223, 227, 229, 233, 239, 241, 251, 257, 263, 269, 271, 277, 281, 283, 293, 307, 311, 313, 317, 331, 337, 347, 349, 353, 359, 367, 373, 379, 383, 389, 397, 401, 409, 419, 421, 431, 433, 439, 443, 449, 457, 461, 463, 467, 479, 487, 491, 499, 503, 509, 521, 523, 541, 547, 557, 563, 569, 571, 577, 587, 593, 599, 601, 607, 613, 617, 619, 631, 641, 643, 647, 653, 659, 661, 673, 677, 683, 691, 701, 709, 719, 727, 733, 739, 743, 751, 757, 761, 769, 773, 787, 797, 809, 811, 821, 823, 827, 829, 839, 853, 857, 859, 863, 877, 881, 883, 887, 907, 911, 919, 929, 937, 941, 947, 953, 967, 971, 977, 983, 991, 997]\n"
     ]
    }
   ],
   "source": [
    "import numpy as np\n",
    "#Algoritmo per la ricerca dei numeri primi\n",
    "N=1000#inserire valore a piacere entro cui cercare numeri primi\n",
    "num=np.arange(2,N)\n",
    "lista=[2,]\n",
    "\n",
    "for i in range (2,N-2):\n",
    "    the_mask=(num%i==0)\n",
    "    filtro=num[the_mask]\n",
    "    c=np.setdiff1d(num, filtro) \n",
    "    num=c\n",
    "    try:\n",
    "        lista.append(num[0])\n",
    "    except:\n",
    "        print(\"\",end=\"\")\n",
    "\n",
    "\n",
    "\n",
    "lista=list(set(lista))#tolgo i doppioni\n",
    "lista.sort()#ordine crescente\n",
    "print(\"Numeri primi da\",2,\"a\",N,\":\",\"\\n\")\n",
    "%timeit risultato\n",
    "print(lista)\n"
   ]
  },
  {
   "cell_type": "code",
   "execution_count": 165,
   "metadata": {},
   "outputs": [
    {
     "data": {
      "image/png": "[encoded data removed]",
      "text/plain": [
       "<Figure size 432x288 with 1 Axes>"
      ]
     },
     "metadata": {
      "needs_background": "light"
     },
     "output_type": "display_data"
    }
   ],
   "source": [
    "#PERFORMANCE\n",
    "import numpy as np\n",
    "import time\n",
    "import matplotlib.pyplot as plt\n",
    "x=[]\n",
    "y=[]\n",
    "for j in range (1,10000,100):\n",
    "    t1=time.time()\n",
    "    num=np.arange(2,j)\n",
    "    lista=[2,]\n",
    "\n",
    "    for i in range (2,j-2):\n",
    "        the_mask=(num%i==0)\n",
    "        filtro=num[the_mask]\n",
    "        c=np.setdiff1d(num, filtro) \n",
    "        num=c\n",
    "        try:\n",
    "            lista.append(num[0])\n",
    "        except:\n",
    "            print(\"\",end=\"\")\n",
    "    risultato=list(set(lista))\n",
    "    t2=time.time()\n",
    "    x.append(j)\n",
    "    y.append(t2-t1)\n",
    "\n",
    "plt.plot(x,y)\n",
    "plt.title(\"PERFORMANCE ALGORITMO\")\n",
    "plt.xlabel(\"N\"),plt.ylabel(\"tempo (secondi)\")\n",
    "plt.show()\n"
   ]
  },
  {
   "cell_type": "markdown",
   "metadata": {},
   "source": [
    "8\\. Diffusion using random walk\n",
    "\n",
    "Consider a simple random walk process: at each step in time, a walker jumps right or left (+1 or -1) with equal probability. The goal is to find the typical distance from the origin of a random walker after a given amount of time. \n",
    "To do that, let's simulate many walkers and create a 2D array with each walker as a raw and the actual time evolution as columns\n",
    "\n",
    "  * Take 1000 walkers and let them walk for 200 steps\n",
    "  * Use randint to create a 2D array of size walkers x steps with values -1 or 1\n",
    "  * Build the actual walking distances for each walker (i.e. another 2D array \"summing on each raw\")\n",
    "  * Take the square of that 2D array (elementwise)\n",
    "  * Compute the mean of the squared distances at each step (i.e. the mean along the columns)\n",
    "  * Plot the average distances (sqrt(distance\\*\\*2)) as a function of time (step)\n",
    "  \n",
    "Did you get what you expected?"
   ]
  },
  {
   "cell_type": "code",
   "execution_count": 214,
   "metadata": {},
   "outputs": [
    {
     "name": "stdout",
     "output_type": "stream",
     "text": [
      "Inizio; partenza di ogni walker casuale:\n",
      "[[ 1 -1  1 ...  0  0  0]\n",
      " [ 0  0  0 ... -1  0  0]\n",
      " [ 0 -1  0 ...  0  1  0]\n",
      " ...\n",
      " [ 0 -1  0 ...  0  1  1]\n",
      " [ 0 -1  0 ...  0  0 -1]\n",
      " [-1  0  0 ... -1  1 -1]] \n",
      "\n",
      "walking distances: \n",
      "[[ 1  0  1 ... -1 -1 -1]\n",
      " [ 0  0  0 ...  3  3  3]\n",
      " [ 0 -1 -1 ... 13 14 14]\n",
      " ...\n",
      " [ 0 -1 -1 ... -2 -1  0]\n",
      " [ 0 -1 -1 ... -4 -4 -5]\n",
      " [-1 -1 -1 ...  2  3  2]] \n",
      "\n",
      "The square (elementwise):\n",
      "[[  1   0   1 ...   1   1   1]\n",
      " [  0   0   0 ...   9   9   9]\n",
      " [  0   1   1 ... 169 196 196]\n",
      " ...\n",
      " [  0   1   1 ...   4   1   0]\n",
      " [  0   1   1 ...  16  16  25]\n",
      " [  1   1   1 ...   4   9   4]]\n",
      " the mean of the squared distances at each step:\n",
      "[0.69856997 1.001998   1.225969   1.42021125 1.60934769 1.76351921\n",
      " 1.89208879 2.0374003  2.16055548 2.25344181 2.3727621  2.46434575\n",
      " 2.52784493 2.62106848 2.70222131 2.73751712 2.79892837 2.89810283\n",
      " 2.97825452 3.10016129 3.22319717 3.30242335 3.35484724 3.4177478\n",
      " 3.45079701 3.53652372 3.65882495 3.72451339 3.79091018 3.86212377\n",
      " 3.89858949 3.9408121  4.08240125 4.13980676 4.17564366 4.21093814\n",
      " 4.28310635 4.327817   4.37126984 4.39465585 4.45926003 4.4957758\n",
      " 4.55960525 4.62536485 4.68273424 4.7793305  4.8578802  4.92544414\n",
      " 4.95116148 5.04013889 5.07759786 5.13400429 5.19721079 5.25984791\n",
      " 5.28337014 5.33863278 5.40129614 5.39017625 5.41904051 5.43700285\n",
      " 5.4780471  5.57288076 5.60865403 5.64747731 5.69297813 5.69253898\n",
      " 5.70315702 5.74499782 5.84011986 5.85866879 5.90677577 5.91024534\n",
      " 5.95986577 6.00341569 6.07585385 6.11547218 6.1095008  6.1608441\n",
      " 6.20233827 6.23169319 6.24123385 6.27869413 6.32661047 6.40109366\n",
      " 6.4255739  6.48359468 6.52916534 6.5368188  6.5231894  6.56521134\n",
      " 6.62570751 6.64778158 6.67150658 6.74129068 6.75640437 6.80999266\n",
      " 6.86847873 6.86476511 6.91953756 6.96641945 6.96182447 7.04386258\n",
      " 7.09408204 7.12081456 7.18428841 7.20361021 7.2832685  7.33007503\n",
      " 7.35411449 7.39357829 7.37943087 7.38518788 7.39445738 7.39384879\n",
      " 7.40526839 7.40533591 7.40331007 7.45935654 7.51598297 7.61275246\n",
      " 7.63649134 7.6595039  7.6788671  7.67984375 7.67489414 7.70895583\n",
      " 7.74067181 7.80698405 7.8414922  7.86485855 7.87864201 7.91965908\n",
      " 7.92842986 8.00662226 8.05779126 8.08133652 8.08634652 8.09079724\n",
      " 8.14174428 8.16247511 8.15745058 8.19695065 8.22246922 8.27840564\n",
      " 8.29939757 8.29288852 8.2843829  8.31865374 8.34415963 8.38379389\n",
      " 8.39749963 8.43018387 8.47496313 8.48699004 8.48940516 8.52244096\n",
      " 8.56475335 8.6080776  8.6455769  8.65066471 8.65950345 8.67219695\n",
      " 8.73933636 8.75528412 8.76578576 8.79499858 8.81056184 8.84415061\n",
      " 8.84211513 8.86526931 8.90140438 8.939519   8.97061871 9.008607\n",
      " 9.02147438 9.04560667 9.06040838 9.07358804 9.08124441 9.10329611\n",
      " 9.13131973 9.1701145  9.21097172 9.20776846 9.24196949 9.28288748\n",
      " 9.33380951 9.37576664 9.36039529 9.41360717 9.43811422 9.46926608\n",
      " 9.49657833 9.50920607 9.53608935 9.57193815 9.57136354 9.5891084\n",
      " 9.62766846 9.67191811] \n",
      "\n"
     ]
    },
    {
     "data": {
      "text/plain": [
       "<function matplotlib.pyplot.show(close=None, block=None)>"
      ]
     },
     "execution_count": 214,
     "metadata": {},
     "output_type": "execute_result"
    },
    {
     "data": {
      "image/png": "[encoded data removed]",
      "text/plain": [
       "<Figure size 432x288 with 1 Axes>"
      ]
     },
     "metadata": {
      "needs_background": "light"
     },
     "output_type": "display_data"
    }
   ],
   "source": [
    "import numpy as np\n",
    "NW=1000\n",
    "NS=200\n",
    "print(\"Inizio; partenza di ogni walker casuale:\")\n",
    "x=np.random.randint(2, size= (NW, NS))*np.random.choice([-1,1],size= (NW, NS))\n",
    "print(x,\"\\n\")\n",
    "print(\"walking distances: \")\n",
    "\n",
    "for i in range(0,NW):\n",
    "    cont=0\n",
    "    for j in range(0,NS):\n",
    "        cont=cont+x[i][j]\n",
    "        x[i][j]=cont\n",
    "print(x,\"\\n\")\n",
    "print(\"The square (elementwise):\")\n",
    "x_q=x**2\n",
    "print(x_q)\n",
    "\n",
    "mean_column=np.array([np.mean(x_q[:,i]) for i in range(x_q.shape[1])])\n",
    "print(\" the mean of the squared distances at each step:\")\n",
    "media=pow(mean_column,0.5)\n",
    "print(media,\"\\n\")\n",
    "\n",
    "steps=[i for i in range(NS)]\n",
    "plt.plot(steps,media,marker=\"x\")\n",
    "plt.title(\"Random walker \")\n",
    "plt.xlabel(\"Steps\"),plt.ylabel(\"Distanza media\")\n",
    "plt.show"
   ]
  },
  {
   "cell_type": "markdown",
   "metadata": {},
   "source": [
    "9\\. Analyze a data file \n",
    "  * Download the population of hares, lynxes and carrots at the beginning of the last century.\n",
    "    ```python\n",
    "    ! wget https://www.dropbox.com/s/3vigxoqayo389uc/populations.txt\n",
    "    ```\n",
    "\n",
    "  * Check the content by looking within the file\n",
    "  * Load the data (use an appropriate numpy method) into a 2D array\n",
    "  * Create arrays out of the columns, the arrays being (in order): *year*, *hares*, *lynxes*, *carrots* \n",
    "  * Plot the 3 populations over the years\n",
    "  * Compute the main statistical properties of the dataset (mean, std, correlations, etc.)\n",
    "  * Which species has the highest population each year?\n",
    "\n",
    "Do you feel there is some evident correlation here? [Studies](https://www.enr.gov.nt.ca/en/services/lynx/lynx-snowshoe-hare-cycle) tend to believe so."
   ]
  },
  {
   "cell_type": "code",
   "execution_count": 64,
   "metadata": {},
   "outputs": [
    {
     "name": "stdout",
     "output_type": "stream",
     "text": [
      "   ANNI-LEPRI-LINCI-CAROTE:\n",
      "[[ 1900. 30000.  4000. 48300.]\n",
      " [ 1901. 47200.  6100. 48200.]\n",
      " [ 1902. 70200.  9800. 41500.]\n",
      " [ 1903. 77400. 35200. 38200.]\n",
      " [ 1904. 36300. 59400. 40600.]\n",
      " [ 1905. 20600. 41700. 39800.]\n",
      " [ 1906. 18100. 19000. 38600.]\n",
      " [ 1907. 21400. 13000. 42300.]\n",
      " [ 1908. 22000.  8300. 44500.]\n",
      " [ 1909. 25400.  9100. 42100.]\n",
      " [ 1910. 27100.  7400. 46000.]\n",
      " [ 1911. 40300.  8000. 46800.]\n",
      " [ 1912. 57000. 12300. 43800.]\n",
      " [ 1913. 76600. 19500. 40900.]\n",
      " [ 1914. 52300. 45700. 39400.]\n",
      " [ 1915. 19500. 51100. 39000.]\n",
      " [ 1916. 11200. 29700. 36700.]\n",
      " [ 1917.  7600. 15800. 41800.]\n",
      " [ 1918. 14600.  9700. 43300.]\n",
      " [ 1919. 16200. 10100. 41300.]\n",
      " [ 1920. 24700.  8600. 47300.]]\n",
      "\u001b[1;30mNumero di lepri in media: 34081.0 std,  20897.9\n",
      "Numero di linci in media:  20166.7 std,  16254.6\n",
      "Numero di carote in media:  42400.0  std,  3322.5 :\u001b[0m\n",
      "\u001b[1;30mLa matrice di correlazione sarà:\n",
      "[[ 1.         -0.01660378  0.07189206]\n",
      " [-0.01660378  1.         -0.68057717]\n",
      " [ 0.07189206 -0.68057717  1.        ]] \u001b[0m\n",
      "Popolazione più alta per anno:\n",
      "Nell'anno  1900.0 era costituita da CAROTE\n",
      "Nell'anno  1901.0 era costituita da CAROTE\n",
      "Nell'anno  1902.0 era costituita da LEPRI\n",
      "Nell'anno  1903.0 era costituita da LEPRI\n",
      "Nell'anno  1904.0 era costituita da LINCI\n",
      "Nell'anno  1905.0 era costituita da LINCI\n",
      "Nell'anno  1906.0 era costituita da CAROTE\n",
      "Nell'anno  1907.0 era costituita da CAROTE\n",
      "Nell'anno  1908.0 era costituita da CAROTE\n",
      "Nell'anno  1909.0 era costituita da CAROTE\n",
      "Nell'anno  1910.0 era costituita da CAROTE\n",
      "Nell'anno  1911.0 era costituita da CAROTE\n",
      "Nell'anno  1912.0 era costituita da LEPRI\n",
      "Nell'anno  1913.0 era costituita da LEPRI\n",
      "Nell'anno  1914.0 era costituita da LEPRI\n",
      "Nell'anno  1915.0 era costituita da LINCI\n",
      "Nell'anno  1916.0 era costituita da CAROTE\n",
      "Nell'anno  1917.0 era costituita da CAROTE\n",
      "Nell'anno  1918.0 era costituita da CAROTE\n",
      "Nell'anno  1919.0 era costituita da CAROTE\n",
      "Nell'anno  1920.0 era costituita da CAROTE\n"
     ]
    },
    {
     "data": {
      "image/png": "[encoded data removed]",
      "text/plain": [
       "<Figure size 432x288 with 1 Axes>"
      ]
     },
     "metadata": {
      "needs_background": "light"
     },
     "output_type": "display_data"
    }
   ],
   "source": [
    "import matplotlib.pyplot as plt\n",
    "\n",
    "x=np.loadtxt(\"/Users/Alessandro/LaboratoryOfComputationalPhysics_Y3/populations.txt\")\n",
    "print(\"   ANNI-LEPRI-LINCI-CAROTE:\")\n",
    "print(x)\n",
    "anni=x[:,0]\n",
    "lepri=x[:,1]\n",
    "linci=x[:,2]\n",
    "carote=x[:,3]\n",
    "plt.plot(anni,lepri, label=\"Lepri\")\n",
    "plt.plot(anni,linci, label=\"Linci\")\n",
    "plt.plot(anni,carote, label=\"Carote\")\n",
    "plt.legend()\n",
    "plt.title(\"Popolazioni in funzione del tempo (anni)\")\n",
    "plt.xlabel(\"Anni\"),plt.ylabel(\"Numero unità\")\n",
    "\n",
    "print(\"\\x1b[1;30mNumero di lepri in media:\" , round(np.mean(lepri),1) ,\"std, \", round(np.std(lepri),1))\n",
    "print(\"Numero di linci in media: \", round(np.mean(linci),1) ,\"std, \", round(np.std(linci),1))\n",
    "print(\"Numero di carote in media: \", round(np.mean(carote),1) ,\" std, \", round(np.std(carote),1),\":\\x1b[0m\")\n",
    "\n",
    "print(\"\\x1b[1;30mLa matrice di correlazione sarà:\")\n",
    "print(np.corrcoef([lepri, carote,linci]),\"\\x1b[0m\")\n",
    "print(\"Popolazione più alta per anno:\")\n",
    "for i in range(x.shape[0]):\n",
    "    if (max(lepri[i],linci[i],carote[i])==lepri[i]):\n",
    "        print(\"Nell'anno \",anni[i],\"era costituita da LEPRI\")\n",
    "    elif (max(lepri[i],linci[i],carote[i])==linci[i]):\n",
    "        print(\"Nell'anno \",anni[i],\"era costituita da LINCI\")\n",
    "    else:\n",
    "        print(\"Nell'anno \",anni[i],\"era costituita da CAROTE\")"
   ]
  }
 ],
 "metadata": {
  "kernelspec": {
   "display_name": "Python 3",
   "language": "python",
   "name": "python3"
  },
  "language_info": {
   "codemirror_mode": {
    "name": "ipython",
    "version": 3
   },
   "file_extension": ".py",
   "mimetype": "text/x-python",
   "name": "python",
   "nbconvert_exporter": "python",
   "pygments_lexer": "ipython3",
   "version": "3.8.3"
  }
 },
 "nbformat": 4,
 "nbformat_minor": 2
}
