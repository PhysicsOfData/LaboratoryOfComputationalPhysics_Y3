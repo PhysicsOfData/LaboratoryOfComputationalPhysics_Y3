{
 "cells": [
  {
   "cell_type": "markdown",
   "metadata": {},
   "source": [
    "### Numpy basics"
   ]
  },
  {
   "cell_type": "markdown",
   "metadata": {},
   "source": [
    "1\\. Find the row, column and overall means for the following matrix:\n",
    "\n",
    "```python\n",
    "m = np.arange(12).reshape((3,4))\n",
    "```"
   ]
  },
  {
   "cell_type": "code",
   "execution_count": 1,
   "metadata": {},
   "outputs": [
    {
     "name": "stdout",
     "output_type": "stream",
     "text": [
      "[[ 0  1  2  3]\n",
      " [ 4  5  6  7]\n",
      " [ 8  9 10 11]]\n",
      "\n",
      "The  matrix mean is 5.5\n",
      "The  matrix row´s mean are [1.5 5.5 9.5]\n",
      "The  matrix column´s mean are [4. 5. 6. 7.]\n"
     ]
    }
   ],
   "source": [
    "#Answer\n",
    "import numpy as np\n",
    "\n",
    "m = np.arange(12).reshape((3,4))\n",
    "\n",
    "m_mean         = m.mean()\n",
    "m_rmean    = m.mean(1)\n",
    "m_cmean = m.mean(0)\n",
    "\n",
    "print(m)\n",
    "print('')\n",
    "print('The  matrix mean is', m_mean)\n",
    "print('The  matrix row´s mean are',m_rmean)\n",
    "print('The  matrix column´s mean are',m_cmean)\n"
   ]
  },
  {
   "cell_type": "markdown",
   "metadata": {},
   "source": [
    "2\\. Find the outer product of the following two vecotrs\n",
    "\n",
    "```python\n",
    "u = np.array([1,3,5,7])\n",
    "v = np.array([2,4,6,8])\n",
    "```\n",
    "\n",
    "Do this in the following ways:\n",
    "\n",
    "   * Using the function outer in numpy\n",
    "   * Using a nested for loop or list comprehension\n",
    "   * Using numpy broadcasting operatoins\n"
   ]
  },
  {
   "cell_type": "code",
   "execution_count": 2,
   "metadata": {},
   "outputs": [
    {
     "name": "stdout",
     "output_type": "stream",
     "text": [
      "The matrix obtained using the numpy outer function is \n",
      " [[ 2  4  6  8]\n",
      " [ 6 12 18 24]\n",
      " [10 20 30 40]\n",
      " [14 28 42 56]]\n",
      "\n",
      "The matrix obtained using a nested list comprehension is \n",
      " [[ 2  4  6  8]\n",
      " [ 6 12 18 24]\n",
      " [10 20 30 40]\n",
      " [14 28 42 56]]\n",
      "\n",
      "The matrix obtained using numpy broadcasting is \n",
      " [[ 2  4  6  8]\n",
      " [ 6 12 18 24]\n",
      " [10 20 30 40]\n",
      " [14 28 42 56]]\n"
     ]
    }
   ],
   "source": [
    "#Answer\n",
    "import numpy as np\n",
    "\n",
    "u = np.array([1,3,5,7])\n",
    "v = np.array([2,4,6,8])\n",
    "\n",
    "A1 = np.outer(u,v)\n",
    "\n",
    "A2 = np.transpose(np.asarray([[u[i]*v[j] for i in range(0, u.shape[0])] for j in range(0, u.shape[0])]))\n",
    "\n",
    "u1 = u.reshape(4,1)\n",
    "A3 = u1 * v\n",
    "\n",
    "print('The matrix obtained using the numpy outer function is \\n',A1)\n",
    "print('')\n",
    "print('The matrix obtained using a nested list comprehension is \\n',A2)\n",
    "print('')\n",
    "print('The matrix obtained using numpy broadcasting is \\n',A3)"
   ]
  },
  {
   "cell_type": "markdown",
   "metadata": {},
   "source": [
    "3\\. Create a 10 by 6 matrix of random uniform numbers. Set all rows with any entry less than 0.1 to be zero\n",
    "\n",
    "Hint: Use the following numpy functions - np.random.random, np.any as well as Boolean indexing and the axis argument."
   ]
  },
  {
   "cell_type": "code",
   "execution_count": 3,
   "metadata": {},
   "outputs": [
    {
     "name": "stdout",
     "output_type": "stream",
     "text": [
      "[[0.22404685 0.33214246 0.82061542 0.37202616 0.55661589 0.80361475]\n",
      " [0.83532273 0.20218998 0.42388924 0.25747716 0.88052892 0.56859292]\n",
      " [0.82801529 0.59149071 0.09439033 0.50586434 0.9547508  0.02344153]\n",
      " [0.02211354 0.51401784 0.74715645 0.99552702 0.79582924 0.37129134]\n",
      " [0.78048341 0.45625163 0.59445068 0.3752956  0.29537127 0.63785215]\n",
      " [0.15035557 0.19344186 0.51300015 0.31458219 0.37612453 0.034204  ]\n",
      " [0.59531648 0.12729759 0.84483313 0.40731019 0.81660944 0.40811319]\n",
      " [0.60714048 0.18987941 0.60737951 0.38478095 0.07918843 0.44717663]\n",
      " [0.81610047 0.64393948 0.56815136 0.2778899  0.69960637 0.74870719]\n",
      " [0.61504867 0.6515227  0.52125762 0.71637944 0.47265305 0.91812704]]\n",
      "\n",
      "[[0.22404685 0.33214246 0.82061542 0.37202616 0.55661589 0.80361475]\n",
      " [0.83532273 0.20218998 0.42388924 0.25747716 0.88052892 0.56859292]\n",
      " [0.         0.         0.         0.         0.         0.        ]\n",
      " [0.         0.         0.         0.         0.         0.        ]\n",
      " [0.78048341 0.45625163 0.59445068 0.3752956  0.29537127 0.63785215]\n",
      " [0.         0.         0.         0.         0.         0.        ]\n",
      " [0.59531648 0.12729759 0.84483313 0.40731019 0.81660944 0.40811319]\n",
      " [0.         0.         0.         0.         0.         0.        ]\n",
      " [0.81610047 0.64393948 0.56815136 0.2778899  0.69960637 0.74870719]\n",
      " [0.61504867 0.6515227  0.52125762 0.71637944 0.47265305 0.91812704]]\n"
     ]
    }
   ],
   "source": [
    "#Answer\n",
    "import numpy as np\n",
    "\n",
    "m = np.random.random((10,6))\n",
    "\n",
    "print(m)\n",
    "print('')\n",
    "\n",
    "a  = np.where(m < 0.1)\n",
    "a0 = a[0]\n",
    "\n",
    "for i in range(len(a0)):\n",
    "    m[a0[i],] = 0.\n",
    "\n",
    "print(m)"
   ]
  },
  {
   "cell_type": "code",
   "execution_count": 4,
   "metadata": {},
   "outputs": [
    {
     "name": "stdout",
     "output_type": "stream",
     "text": [
      "[[0.48742886 0.40833885 0.40084185 0.04318433 0.46292746 0.83215826]\n",
      " [0.24217175 0.97787548 0.97060186 0.23173898 0.42037631 0.73384505]\n",
      " [0.17466114 0.67318706 0.7078     0.87013329 0.23036608 0.49346875]\n",
      " [0.77359044 0.67735558 0.3002846  0.75550322 0.46916417 0.28057215]\n",
      " [0.65312268 0.63845299 0.4992386  0.94005068 0.6416632  0.79120306]\n",
      " [0.33454201 0.83335963 0.79339735 0.4205352  0.52965123 0.80975173]\n",
      " [0.55393908 0.41223147 0.95255476 0.60113737 0.39278254 0.38574515]\n",
      " [0.38759764 0.97613267 0.7026046  0.82789088 0.38879091 0.63276427]\n",
      " [0.10897964 0.23209408 0.85790411 0.87968247 0.77810075 0.0172398 ]\n",
      " [0.29548723 0.56098527 0.85898324 0.17913843 0.31746714 0.17527435]]\n",
      "\n",
      "[[0.         0.         0.         0.         0.         0.        ]\n",
      " [0.24217175 0.97787548 0.97060186 0.23173898 0.42037631 0.73384505]\n",
      " [0.17466114 0.67318706 0.7078     0.87013329 0.23036608 0.49346875]\n",
      " [0.77359044 0.67735558 0.3002846  0.75550322 0.46916417 0.28057215]\n",
      " [0.65312268 0.63845299 0.4992386  0.94005068 0.6416632  0.79120306]\n",
      " [0.33454201 0.83335963 0.79339735 0.4205352  0.52965123 0.80975173]\n",
      " [0.55393908 0.41223147 0.95255476 0.60113737 0.39278254 0.38574515]\n",
      " [0.38759764 0.97613267 0.7026046  0.82789088 0.38879091 0.63276427]\n",
      " [0.         0.         0.         0.         0.         0.        ]\n",
      " [0.29548723 0.56098527 0.85898324 0.17913843 0.31746714 0.17527435]]\n"
     ]
    }
   ],
   "source": [
    "#Answer using hint\n",
    "import numpy as np\n",
    "\n",
    "m = np.random.random((10,6))\n",
    "\n",
    "print(m)\n",
    "print('')\n",
    "\n",
    "for i in range(len(m)):\n",
    "    if np.any(m[i,]<0.1) == True:\n",
    "        m[i,] = 0.\n",
    "    \n",
    "print(m)"
   ]
  },
  {
   "cell_type": "markdown",
   "metadata": {},
   "source": [
    "4\\. Use np.linspace to create an array of 100 numbers between 0 and 2π (includsive).\n",
    "\n",
    "  * Extract every 10th element using slice notation\n",
    "  * Reverse the array using slice notation\n",
    "  * Extract elements where the absolute difference between the sine and cosine functions evaluated at that element is less than 0.1\n",
    "  * Make a plot showing the sin and cos functions and indicate where they are close"
   ]
  },
  {
   "cell_type": "code",
   "execution_count": 5,
   "metadata": {},
   "outputs": [
    {
     "name": "stdout",
     "output_type": "stream",
     "text": [
      "Array of 100 numbers between 0 and 2π \n",
      " [0.         0.06346652 0.12693304 0.19039955 0.25386607 0.31733259\n",
      " 0.38079911 0.44426563 0.50773215 0.57119866 0.63466518 0.6981317\n",
      " 0.76159822 0.82506474 0.88853126 0.95199777 1.01546429 1.07893081\n",
      " 1.14239733 1.20586385 1.26933037 1.33279688 1.3962634  1.45972992\n",
      " 1.52319644 1.58666296 1.65012947 1.71359599 1.77706251 1.84052903\n",
      " 1.90399555 1.96746207 2.03092858 2.0943951  2.15786162 2.22132814\n",
      " 2.28479466 2.34826118 2.41172769 2.47519421 2.53866073 2.60212725\n",
      " 2.66559377 2.72906028 2.7925268  2.85599332 2.91945984 2.98292636\n",
      " 3.04639288 3.10985939 3.17332591 3.23679243 3.30025895 3.36372547\n",
      " 3.42719199 3.4906585  3.55412502 3.61759154 3.68105806 3.74452458\n",
      " 3.8079911  3.87145761 3.93492413 3.99839065 4.06185717 4.12532369\n",
      " 4.1887902  4.25225672 4.31572324 4.37918976 4.44265628 4.5061228\n",
      " 4.56958931 4.63305583 4.69652235 4.75998887 4.82345539 4.88692191\n",
      " 4.95038842 5.01385494 5.07732146 5.14078798 5.2042545  5.26772102\n",
      " 5.33118753 5.39465405 5.45812057 5.52158709 5.58505361 5.64852012\n",
      " 5.71198664 5.77545316 5.83891968 5.9023862  5.96585272 6.02931923\n",
      " 6.09278575 6.15625227 6.21971879 6.28318531]\n",
      "\n",
      "Every 10th element \n",
      " [0.         0.63466518 1.26933037 1.90399555 2.53866073 3.17332591\n",
      " 3.8079911  4.44265628 5.07732146 5.71198664]\n",
      "\n",
      "Reversed array \n",
      " [6.28318531 6.21971879 6.15625227 6.09278575 6.02931923 5.96585272\n",
      " 5.9023862  5.83891968 5.77545316 5.71198664 5.64852012 5.58505361\n",
      " 5.52158709 5.45812057 5.39465405 5.33118753 5.26772102 5.2042545\n",
      " 5.14078798 5.07732146 5.01385494 4.95038842 4.88692191 4.82345539\n",
      " 4.75998887 4.69652235 4.63305583 4.56958931 4.5061228  4.44265628\n",
      " 4.37918976 4.31572324 4.25225672 4.1887902  4.12532369 4.06185717\n",
      " 3.99839065 3.93492413 3.87145761 3.8079911  3.74452458 3.68105806\n",
      " 3.61759154 3.55412502 3.4906585  3.42719199 3.36372547 3.30025895\n",
      " 3.23679243 3.17332591 3.10985939 3.04639288 2.98292636 2.91945984\n",
      " 2.85599332 2.7925268  2.72906028 2.66559377 2.60212725 2.53866073\n",
      " 2.47519421 2.41172769 2.34826118 2.28479466 2.22132814 2.15786162\n",
      " 2.0943951  2.03092858 1.96746207 1.90399555 1.84052903 1.77706251\n",
      " 1.71359599 1.65012947 1.58666296 1.52319644 1.45972992 1.3962634\n",
      " 1.33279688 1.26933037 1.20586385 1.14239733 1.07893081 1.01546429\n",
      " 0.95199777 0.88853126 0.82506474 0.76159822 0.6981317  0.63466518\n",
      " 0.57119866 0.50773215 0.44426563 0.38079911 0.31733259 0.25386607\n",
      " 0.19039955 0.12693304 0.06346652 0.        ]\n",
      "\n",
      "Reversed array \n",
      " [0.76159822 0.82506474 3.87145761 3.93492413]\n",
      "\n"
     ]
    },
    {
     "data": {
      "image/png": "[encoded data removed]",
      "text/plain": [
       "<Figure size 432x288 with 1 Axes>"
      ]
     },
     "metadata": {
      "needs_background": "light"
     },
     "output_type": "display_data"
    }
   ],
   "source": [
    "#Answer\n",
    "import numpy as np\n",
    "import matplotlib.pyplot as plt\n",
    "\n",
    "m = np.linspace(0,2*np.pi,100,endpoint=True)\n",
    "print('Array of 100 numbers between 0 and 2π \\n',m)\n",
    "print('')\n",
    "\n",
    "m_10 = m[::10]\n",
    "print('Every 10th element \\n',m_10)\n",
    "print('')\n",
    "\n",
    "m_reverse = m[::-1]\n",
    "print('Reversed array \\n',m_reverse)\n",
    "print('')\n",
    "\n",
    "m_cos = np.cos(m)\n",
    "m_sin = np.sin(m)\n",
    "m_dif_cs = np.abs(m_cos-m_sin)\n",
    "mask = (m_dif_cs<0.1)\n",
    "m_dif = m[mask]\n",
    "print('Reversed array \\n',m_dif)\n",
    "print('')\n",
    "\n",
    "plt.plot(m, m_cos, label ='Cos(x)')\n",
    "plt.plot(m, m_sin, label ='Sin(x)')\n",
    "for i in m_dif:\n",
    "    plt.axvline(x=i,color ='black',linewidth = 0.5)\n",
    "plt.xlabel('x')\n",
    "plt.ylabel('y')\n",
    "plt.legend()\n",
    "plt.show()"
   ]
  },
  {
   "cell_type": "markdown",
   "metadata": {},
   "source": [
    "5\\. Create a matrix that shows the 10 by 10 multiplication table.\n",
    "\n",
    " * Find the trace of the matrix\n",
    " * Extract the anto-diagonal (this should be ```array([10, 18, 24, 28, 30, 30, 28, 24, 18, 10])```)\n",
    " * Extract the diagnoal offset by 1 upwards (this should be ```array([ 2,  6, 12, 20, 30, 42, 56, 72, 90])```)"
   ]
  },
  {
   "cell_type": "code",
   "execution_count": 6,
   "metadata": {
    "scrolled": true
   },
   "outputs": [
    {
     "name": "stdout",
     "output_type": "stream",
     "text": [
      "[[  1   2   3   4   5   6   7   8   9  10]\n",
      " [  2   4   6   8  10  12  14  16  18  20]\n",
      " [  3   6   9  12  15  18  21  24  27  30]\n",
      " [  4   8  12  16  20  24  28  32  36  40]\n",
      " [  5  10  15  20  25  30  35  40  45  50]\n",
      " [  6  12  18  24  30  36  42  48  54  60]\n",
      " [  7  14  21  28  35  42  49  56  63  70]\n",
      " [  8  16  24  32  40  48  56  64  72  80]\n",
      " [  9  18  27  36  45  54  63  72  81  90]\n",
      " [ 10  20  30  40  50  60  70  80  90 100]]\n",
      "\n",
      "The trace of the matrix is \n",
      " 385\n",
      "\n",
      "The anti-diagonal of the matrix is \n",
      " [10 18 24 28 30 30 28 24 18 10]\n",
      "\n",
      "The diagnoal offset by 1 upwards of the matrix is \n",
      " [ 2  6 12 20 30 42 56 72 90]\n"
     ]
    }
   ],
   "source": [
    "#Answer\n",
    "import numpy as np\n",
    "u = np.arange(1,11,1)\n",
    "mult = np.outer(u,u)\n",
    "print(mult)\n",
    "print('')\n",
    "trace = np.trace(mult)\n",
    "print('The trace of the matrix is \\n',trace)\n",
    "print('')\n",
    "antidiagonal = np.diag(np.fliplr(mult))\n",
    "print('The anti-diagonal of the matrix is \\n',antidiagonal)\n",
    "print('')\n",
    "dplus1 = np.diag(mult,1)\n",
    "print('The diagnoal offset by 1 upwards of the matrix is \\n',dplus1)"
   ]
  },
  {
   "cell_type": "markdown",
   "metadata": {},
   "source": [
    "6\\. Use broadcasting to create a grid of distances\n",
    "\n",
    "Route 66 crosses the following cities in the US: Chicago, Springfield, Saint-Louis, Tulsa, Oklahoma City, Amarillo, Santa Fe, Albuquerque, Flagstaff, Los Angeles\n",
    "The corresponding positions in miles are: 0, 198, 303, 736, 871, 1175, 1475, 1544, 1913, 2448\n",
    "\n",
    "  * Construct a 2D grid of distances among each city along Route 66\n",
    "  * Convert that in km (those savages...)"
   ]
  },
  {
   "cell_type": "code",
   "execution_count": 7,
   "metadata": {
    "scrolled": false
   },
   "outputs": [
    {
     "name": "stdout",
     "output_type": "stream",
     "text": [
      "The distance between the cities in milles \n",
      "  [[   0  198  303  736  871 1175 1475 1544 1913 2448]\n",
      " [ 198    0  105  538  673  977 1277 1346 1715 2250]\n",
      " [ 303  105    0  433  568  872 1172 1241 1610 2145]\n",
      " [ 736  538  433    0  135  439  739  808 1177 1712]\n",
      " [ 871  673  568  135    0  304  604  673 1042 1577]\n",
      " [1175  977  872  439  304    0  300  369  738 1273]\n",
      " [1475 1277 1172  739  604  300    0   69  438  973]\n",
      " [1544 1346 1241  808  673  369   69    0  369  904]\n",
      " [1913 1715 1610 1177 1042  738  438  369    0  535]\n",
      " [2448 2250 2145 1712 1577 1273  973  904  535    0]]\n",
      "\n",
      "The distance between the cities in km \n",
      " [[   0  318  487 1184 1402 1891 2374 2485 3079 3941]\n",
      " [ 318    0  169  866 1083 1572 2055 2167 2761 3622]\n",
      " [ 487  169    0  697  914 1403 1886 1998 2592 3453]\n",
      " [1184  866  697    0  217  706 1189 1300 1894 2756]\n",
      " [1402 1083  914  217    0  489  972 1083 1677 2538]\n",
      " [1891 1572 1403  706  489    0  483  594 1188 2049]\n",
      " [2374 2055 1886 1189  972  483    0  111  705 1566]\n",
      " [2485 2167 1998 1300 1083  594  111    0  594 1455]\n",
      " [3079 2761 2592 1894 1677 1188  705  594    0  861]\n",
      " [3941 3622 3453 2756 2538 2049 1566 1455  861    0]]\n"
     ]
    }
   ],
   "source": [
    "#Answer\n",
    "import numpy as np\n",
    "\n",
    "cities_distances ={'Chicago':0, 'Springfield':198, 'Saint-Louis':303, 'Tulsa':736, 'Oklahoma City':871, 'Amarillo':1175, 'Santa Fe':1475, 'Albuquerque':1544, 'Flagstaff':1913, 'Los Angeles':2448}\n",
    "cities = np.array(list(cities_distances))\n",
    "\n",
    "distance = np.empty((cities.shape[0],cities.shape[0]))\n",
    "\n",
    "for i in range(cities.shape[0]):\n",
    "    for j in range(cities.shape[0]):\n",
    "        distance[i,j] = abs(cities_distances[cities[i]]-cities_distances[cities[j]])\n",
    "        \n",
    "print('The distance between the cities in milles \\n ',distance.astype(int))\n",
    "print('')\n",
    "distancekm = distance*1.61\n",
    "print('The distance between the cities in km \\n', distancekm.astype(int))"
   ]
  },
  {
   "cell_type": "markdown",
   "metadata": {},
   "source": [
    "7\\. Prime numbers sieve: compute the prime numbers in the 0-N (N=99 to start with) range with a sieve (mask).\n",
    "  * Constract a shape (100,) boolean array, the mask\n",
    "  * Identify the multiples of each number starting from 2 and set accordingly the corresponding mask element\n",
    "  * Apply the mask to obtain an array of ordered prime numbers\n",
    "  * Check the performances (timeit); how does it scale with N?\n",
    "  * Implement the optimization suggested in the [sieve of Eratosthenes](https://en.wikipedia.org/wiki/Sieve_of_Eratosthenes)"
   ]
  },
  {
   "cell_type": "code",
   "execution_count": 8,
   "metadata": {
    "scrolled": true
   },
   "outputs": [
    {
     "name": "stdout",
     "output_type": "stream",
     "text": [
      "The prime numbers between 2 and 100 are \n",
      " [ 2  3  5  7 11 13 17 19 23 29 31 37 41 43 47 53 59 61 67 71 73 79 83 89\n",
      " 97]\n"
     ]
    },
    {
     "data": {
      "image/png": "[encoded data removed]",
      "text/plain": [
       "<Figure size 432x288 with 1 Axes>"
      ]
     },
     "metadata": {
      "needs_background": "light"
     },
     "output_type": "display_data"
    },
    {
     "data": {
      "image/png": "[encoded data removed]",
      "text/plain": [
       "<Figure size 432x288 with 1 Axes>"
      ]
     },
     "metadata": {
      "needs_background": "light"
     },
     "output_type": "display_data"
    }
   ],
   "source": [
    "#Answer\n",
    "import numpy as np\n",
    "import  time\n",
    "import matplotlib.pyplot as plt\n",
    "\n",
    "\n",
    "def sieve(N):\n",
    "    lst = np.arange(2,N+1)\n",
    "    mask = np.ones((N-1), dtype=bool)\n",
    "\n",
    "    for j in range(0,N-1):\n",
    "        for i in range(j+1,N-1):\n",
    "            if lst[i]%lst[j] == 0:\n",
    "                mask[i] = False\n",
    "    prime_numbers = lst[mask]\n",
    "    return prime_numbers\n",
    "\n",
    "print('The prime numbers between 2 and 100 are \\n', sieve(100))\n",
    "\n",
    "dt = 0.\n",
    "ln = []\n",
    "lt = []\n",
    "for n in range(1,1100,100):\n",
    "    start =time.time()\n",
    "    sieve(n)\n",
    "    ln.append(n)\n",
    "    lt.append(abs(start - time.time()))\n",
    "    \n",
    "plt.plot(ln, lt,'.')\n",
    "plt.xlabel('N')\n",
    "plt.ylabel('Time (s)')\n",
    "plt.title('Prime function scaling')\n",
    "plt.show()\n",
    "\n",
    "#We can see that the scaling for the first method is exponential with N.\n",
    "\n",
    "def sieve_of_eratosthenes(N):\n",
    "    mask = np.array([True for i in range(N)])\n",
    "    lst = np.arange(0,N)\n",
    "    \n",
    "    for i in range(2,int(np.sqrt(N))):\n",
    "        if mask[i] == True:\n",
    "            for j in range(i**2,N,i):\n",
    "                mask[j]=False\n",
    "    prime_numbers_e = lst[mask]       \n",
    "    return prime_numbers_e \n",
    "\n",
    "dt = 0.\n",
    "ln = []\n",
    "lt = []\n",
    "for n in range(1,100000,500):\n",
    "    start =time.time()\n",
    "    sieve_of_eratosthenes(n)\n",
    "    ln.append(n)\n",
    "    lt.append(abs(start - time.time()))\n",
    "    \n",
    "plt.plot(ln, lt,'.')\n",
    "plt.xlabel('N')\n",
    "plt.ylabel('Time (s)')\n",
    "plt.title('Sieve of Eratosthenes scaling')\n",
    "plt.show()\n",
    "\n",
    "#We can see that the scaling for the Eratostenes method is linear with N."
   ]
  },
  {
   "cell_type": "markdown",
   "metadata": {},
   "source": [
    "8\\. Diffusion using random walk\n",
    "\n",
    "Consider a simple random walk process: at each step in time, a walker jumps right or left (+1 or -1) with equal probability. The goal is to find the typical distance from the origin of a random walker after a given amount of time. \n",
    "To do that, let's simulate many walkers and create a 2D array with each walker as a raw and the actual time evolution as columns\n",
    "\n",
    "  * Take 1000 walkers and let them walk for 200 steps\n",
    "  * Use randint to create a 2D array of size walkers x steps with values -1 or 1\n",
    "  * Build the actual walking distances for each walker (i.e. another 2D array \"summing on each raw\")\n",
    "  * Take the square of that 2D array (elementwise)\n",
    "  * Compute the mean of the squared distances at each step (i.e. the mean along the columns)\n",
    "  * Plot the average distances (sqrt(distance\\*\\*2)) as a function of time (step)\n",
    "  \n",
    "Did you get what you expected?"
   ]
  },
  {
   "cell_type": "code",
   "execution_count": 9,
   "metadata": {},
   "outputs": [
    {
     "data": {
      "image/png": "[encoded data removed]",
      "text/plain": [
       "<Figure size 432x288 with 1 Axes>"
      ]
     },
     "metadata": {
      "needs_background": "light"
     },
     "output_type": "display_data"
    }
   ],
   "source": [
    "#Answer\n",
    "import numpy as np\n",
    "import matplotlib.pyplot as plt\n",
    "\n",
    "np.random.seed(27383)\n",
    "walkers = 1000\n",
    "steps   = 200\n",
    "\n",
    "leaps = np.random.randint(0,2,size=(walkers,steps)) \n",
    "leaps = leaps*2 - 1                               #2D array of size walkers x steps with values -1 or 1\n",
    "\n",
    "distances = np.zeros((walkers,steps))             #Distances for every walker at every time step are computed\n",
    "for walker in range(0,walkers):\n",
    "    distances[walker,0]=leaps[walker,0]\n",
    "    for step in range(1,steps):\n",
    "        distances[walker,step] = distances[walker,step-1] + leaps[walker,step]\n",
    "\n",
    "distances = abs(distances)\n",
    "mean_distance = np.mean(distances**2,axis=0)\n",
    "time = np.arange(1,steps+1)\n",
    "theoretical   = np.sqrt(time)\n",
    "\n",
    "plt.plot(time,np.sqrt(mean_distance),'.',label='Numerical simulacion')\n",
    "plt.plot(time,theoretical,label='Analytical result')\n",
    "plt.xlabel('Time step')\n",
    "plt.ylabel('Mean distance')\n",
    "plt.legend()\n",
    "plt.show()"
   ]
  },
  {
   "cell_type": "markdown",
   "metadata": {},
   "source": [
    "9\\. Analyze a data file \n",
    "  * Download the population of hares, lynxes and carrots at the beginning of the last century.\n",
    "    ```python\n",
    "    ! wget https://www.dropbox.com/s/3vigxoqayo389uc/populations.txt\n",
    "    ```\n",
    "\n",
    "  * Check the content by looking within the file\n",
    "  * Load the data (use an appropriate numpy method) into a 2D array\n",
    "  * Create arrays out of the columns, the arrays being (in order): *year*, *hares*, *lynxes*, *carrots* \n",
    "  * Plot the 3 populations over the years\n",
    "  * Compute the main statistical properties of the dataset (mean, std, correlations, etc.)\n",
    "  * Which species has the highest population each year?\n",
    "\n",
    "Do you feel there is some evident correlation here? [Studies](https://www.enr.gov.nt.ca/en/services/lynx/lynx-snowshoe-hare-cycle) tend to believe so."
   ]
  },
  {
   "cell_type": "code",
   "execution_count": 11,
   "metadata": {},
   "outputs": [
    {
     "data": {
      "image/png": "[encoded data removed]",
      "text/plain": [
       "<Figure size 432x288 with 1 Axes>"
      ]
     },
     "metadata": {
      "needs_background": "light"
     },
     "output_type": "display_data"
    },
    {
     "name": "stdout",
     "output_type": "stream",
     "text": [
      "-------------------\n",
      "Hares\n",
      "-------------------\n",
      "mean :   34080.95238095238\n",
      "median :   25400.0\n",
      "var :   436722494.3310658\n",
      "std :   20897.906458089667\n",
      "min :   7600.0\n",
      "max :   77400.0\n",
      "-------------------\n",
      "Lynxes\n",
      "-------------------\n",
      "mean :   20166.666666666668\n",
      "median :   12300.0\n",
      "var :   264211746.031746\n",
      "std :   16254.591536908763\n",
      "min :   4000.0\n",
      "max :   59400.0\n",
      "-------------------\n",
      "Carrots\n",
      "-------------------\n",
      "mean :   42400.0\n",
      "median :   41800.0\n",
      "var :   11039047.61904762\n",
      "std :   3322.5062255844787\n",
      "min :   36700.0\n",
      "max :   48300.0\n",
      "\n",
      "The correlation matrix is \n",
      " [[ 1.          0.07189206 -0.01660378]\n",
      " [ 0.07189206  1.         -0.68057717]\n",
      " [-0.01660378 -0.68057717  1.        ]]\n",
      "We see a strong correlation between Hares alnd Lynxes populations.\n"
     ]
    }
   ],
   "source": [
    "#Answer\n",
    "import numpy as np\n",
    "import matplotlib.pyplot as plt\n",
    "\n",
    "data = np.loadtxt('populations.txt',skiprows=0)\n",
    "\n",
    "years   = data[:,0].astype(int)\n",
    "hares   = data[:,1]\n",
    "lynxes  = data[:,2]\n",
    "carrots = data[:,3]\n",
    "\n",
    "plt.plot(years,hares,'.-',label='Hares')\n",
    "plt.plot(years,lynxes,'.-',label='Lynxes')\n",
    "plt.plot(years,carrots,'.-',label='Carrots')\n",
    "plt.xlabel('Year')\n",
    "plt.ylabel('Population')\n",
    "plt.ticklabel_format(axis='y', style='sci', scilimits=(4,4))\n",
    "plt.locator_params(axis='x', nbins=8)        #I have to use this to avoid floats  in the xlabel (didn´t found a smarter way)\n",
    "plt.legend()\n",
    "plt.show()\n",
    "\n",
    "h_mean = np.mean(hares)\n",
    "h_std  = np.std(hares)\n",
    "h_min  = np.min(hares)\n",
    "h_max  = np.max(hares)\n",
    "\n",
    "lebewesen  = [['Hares',hares],['Lynxes',lynxes],['Carrots',carrots]]\n",
    "properties = ['mean','median','var','std','min','max']\n",
    "\n",
    "for i in lebewesen:\n",
    "    print('-------------------')\n",
    "    print(i[0])\n",
    "    print('-------------------')\n",
    "    for j in properties:\n",
    "        print(j,':  ',getattr(np, j)(i[1]))\n",
    "\n",
    "print('')\n",
    "print('The correlation matrix is', '\\n', np.corrcoef(data[:,1:],rowvar=False))\n",
    "print('We see a strong correlation between Hares alnd Lynxes populations.')\n"
   ]
  },
  {
   "cell_type": "code",
   "execution_count": null,
   "metadata": {},
   "outputs": [],
   "source": []
  }
 ],
 "metadata": {
  "kernelspec": {
   "display_name": "Python 3",
   "language": "python",
   "name": "python3"
  },
  "language_info": {
   "codemirror_mode": {
    "name": "ipython",
    "version": 3
   },
   "file_extension": ".py",
   "mimetype": "text/x-python",
   "name": "python",
   "nbconvert_exporter": "python",
   "pygments_lexer": "ipython3",
   "version": "3.8.3"
  }
 },
 "nbformat": 4,
 "nbformat_minor": 2
}
