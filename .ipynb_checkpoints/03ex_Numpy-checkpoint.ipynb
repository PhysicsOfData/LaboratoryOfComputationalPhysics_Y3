{
 "cells": [
  {
   "cell_type": "markdown",
   "metadata": {},
   "source": [
    "### Numpy basics"
   ]
  },
  {
   "cell_type": "markdown",
   "metadata": {},
   "source": [
    "1\\. Find the row, column and overall means for the following matrix:\n",
    "\n",
    "```python\n",
    "m = np.arange(12).reshape((3,4))\n",
    "```"
   ]
  },
  {
   "cell_type": "code",
   "execution_count": 3,
   "metadata": {},
   "outputs": [
    {
     "name": "stdout",
     "output_type": "stream",
     "text": [
      "[[ 0  1  2  3]\n",
      " [ 4  5  6  7]\n",
      " [ 8  9 10 11]]\n",
      "overall mean:  5.5\n",
      "column mean:  [4. 5. 6. 7.]\n",
      "row mean:  [1.5 5.5 9.5]\n"
     ]
    }
   ],
   "source": [
    "import numpy as np\n",
    "m = np.arange(12).reshape((3,4))\n",
    "\n",
    "print(m)\n",
    "print(\"overall mean: \", np.mean(m))   \n",
    "print(\"column mean: \", np.mean(m, axis = 0))   \n",
    "print(\"row mean: \", np.mean(m, axis = 1)) "
   ]
  },
  {
   "cell_type": "markdown",
   "metadata": {},
   "source": [
    "2\\. Find the outer product of the following two vecotrs\n",
    "\n",
    "```python\n",
    "u = np.array([1,3,5,7])\n",
    "v = np.array([2,4,6,8])\n",
    "```\n",
    "\n",
    "Do this in the following ways:\n",
    "\n",
    "   * Using the function outer in numpy\n",
    "   * Using a nested for loop or list comprehension\n",
    "   * Using numpy broadcasting operatoins\n"
   ]
  },
  {
   "cell_type": "code",
   "execution_count": 86,
   "metadata": {},
   "outputs": [
    {
     "name": "stdout",
     "output_type": "stream",
     "text": [
      "[[ 2.  4.  6.  8.]\n",
      " [ 6. 12. 18. 24.]\n",
      " [10. 20. 30. 40.]\n",
      " [14. 28. 42. 56.]]\n",
      "[[ 2.  4.  6.  8.]\n",
      " [ 6. 12. 18. 24.]\n",
      " [10. 20. 30. 40.]\n",
      " [14. 28. 42. 56.]]\n",
      "[[ 2  6 10 14]\n",
      " [ 4 12 20 28]\n",
      " [ 6 18 30 42]\n",
      " [ 8 24 40 56]]\n"
     ]
    }
   ],
   "source": [
    "import numpy as np\n",
    "import copy\n",
    "u = np.array([1,3,5,7])\n",
    "v = np.array([2,4,6,8])\n",
    "\n",
    "o = np.zeros((4,4))\n",
    "print (np.outer(u,v,o))\n",
    "#print (o) #grazie alla riga precedente, il prodotto esterno è stato assegnato ad o\n",
    "\n",
    "o = np.zeros((4,4))\n",
    "for i in range (4):\n",
    "    for j in range (4):\n",
    "        o[i,j]= u[i]*v[j]\n",
    "print (o)\n",
    "\n",
    "w=u.copy()\n",
    "z=v.copy()\n",
    "o = np.zeros((4,4))\n",
    "t=z[:, np.newaxis] * w[np.newaxis,:]\n",
    "o=np.asmatrix(t)\n",
    "print(o)\n"
   ]
  },
  {
   "cell_type": "markdown",
   "metadata": {},
   "source": [
    "3\\. Create a 10 by 6 matrix of random uniform numbers. Set all rows with any entry less than 0.1 to be zero\n",
    "\n",
    "Hint: Use the following numpy functions - np.random.random, np.any as well as Boolean indexing and the axis argument."
   ]
  },
  {
   "cell_type": "code",
   "execution_count": 75,
   "metadata": {},
   "outputs": [
    {
     "name": "stdout",
     "output_type": "stream",
     "text": [
      "[[0.88594794 0.07791236 0.97964616 0.24767146 0.75288472 0.52667564]\n",
      " [0.90755375 0.8840703  0.08926896 0.5173446  0.34362129 0.21229369]\n",
      " [0.36067344 0.27077517 0.76162502 0.4780419  0.09899468 0.27539478]\n",
      " [0.79442731 0.51397031 0.45329481 0.25515125 0.1139766  0.82431305]\n",
      " [0.3177535  0.15230703 0.21497959 0.91211032 0.04311515 0.37595241]\n",
      " [0.31796557 0.35403302 0.93335757 0.3885452  0.89593944 0.14550322]\n",
      " [0.4903603  0.9233404  0.8013113  0.84837182 0.66544598 0.14321914]\n",
      " [0.11609391 0.07739594 0.38291192 0.14642985 0.44785731 0.35552736]\n",
      " [0.43314193 0.80080664 0.35500568 0.0477506  0.8495784  0.62342568]\n",
      " [0.14159893 0.99707981 0.43055091 0.92260123 0.23040647 0.51684848]]\n",
      "[[0.         0.         0.         0.         0.         0.        ]\n",
      " [0.         0.         0.         0.         0.         0.        ]\n",
      " [0.         0.         0.         0.         0.         0.        ]\n",
      " [0.79442731 0.         0.         0.         0.         0.82431305]\n",
      " [0.         0.         0.         0.         0.         0.        ]\n",
      " [0.31796557 0.         0.         0.         0.         0.14550322]\n",
      " [0.4903603  0.         0.         0.         0.         0.14321914]\n",
      " [0.         0.         0.         0.         0.         0.        ]\n",
      " [0.         0.         0.         0.         0.         0.        ]\n",
      " [0.14159893 0.         0.         0.         0.         0.51684848]]\n"
     ]
    }
   ],
   "source": [
    "import numpy as np\n",
    "import numpy.random as npr\n",
    "npr.seed(321)\n",
    "a=npr.rand(10,6)\n",
    "print(a)\n",
    "mask = (a <= 0.1) \n",
    "a[np.ix_(*np.where(np.any(mask, axis=1))),:] = 0\n",
    "a[:,np.ix_(*np.where(np.any(mask, axis=0)))] = 0\n",
    "print(a)"
   ]
  },
  {
   "cell_type": "markdown",
   "metadata": {},
   "source": [
    "4\\. Use np.linspace to create an array of 100 numbers between 0 and 2π (includsive).\n",
    "\n",
    "  * Extract every 10th element using slice notation\n",
    "  * Reverse the array using slice notation\n",
    "  * Extract elements where the absolute difference between the sine and cosine functions evaluated at that element is less than 0.1\n",
    "  * Make a plot showing the sin and cos functions and indicate where they are close"
   ]
  },
  {
   "cell_type": "code",
   "execution_count": 1,
   "metadata": {},
   "outputs": [
    {
     "name": "stdout",
     "output_type": "stream",
     "text": [
      "[0.         0.63466518 1.26933037 1.90399555 2.53866073 3.17332591\n",
      " 3.8079911  4.44265628 5.07732146 5.71198664]\n",
      "[6.28318531 6.21971879 6.15625227 6.09278575 6.02931923 5.96585272\n",
      " 5.9023862  5.83891968 5.77545316 5.71198664 5.64852012 5.58505361\n",
      " 5.52158709 5.45812057 5.39465405 5.33118753 5.26772102 5.2042545\n",
      " 5.14078798 5.07732146 5.01385494 4.95038842 4.88692191 4.82345539\n",
      " 4.75998887 4.69652235 4.63305583 4.56958931 4.5061228  4.44265628\n",
      " 4.37918976 4.31572324 4.25225672 4.1887902  4.12532369 4.06185717\n",
      " 3.99839065 3.93492413 3.87145761 3.8079911  3.74452458 3.68105806\n",
      " 3.61759154 3.55412502 3.4906585  3.42719199 3.36372547 3.30025895\n",
      " 3.23679243 3.17332591 3.10985939 3.04639288 2.98292636 2.91945984\n",
      " 2.85599332 2.7925268  2.72906028 2.66559377 2.60212725 2.53866073\n",
      " 2.47519421 2.41172769 2.34826118 2.28479466 2.22132814 2.15786162\n",
      " 2.0943951  2.03092858 1.96746207 1.90399555 1.84052903 1.77706251\n",
      " 1.71359599 1.65012947 1.58666296 1.52319644 1.45972992 1.3962634\n",
      " 1.33279688 1.26933037 1.20586385 1.14239733 1.07893081 1.01546429\n",
      " 0.95199777 0.88853126 0.82506474 0.76159822 0.6981317  0.63466518\n",
      " 0.57119866 0.50773215 0.44426563 0.38079911 0.31733259 0.25386607\n",
      " 0.19039955 0.12693304 0.06346652 0.        ]\n",
      "[0.76159822 0.82506474 3.87145761 3.93492413]\n"
     ]
    },
    {
     "data": {
      "image/png": "[encoded data removed]",
      "text/plain": [
       "<Figure size 432x288 with 1 Axes>"
      ]
     },
     "metadata": {
      "needs_background": "light"
     },
     "output_type": "display_data"
    }
   ],
   "source": [
    "import numpy as np\n",
    "a=np.linspace(0, 2*np.pi, 100)\n",
    "print (a[0:99:10])\n",
    "print (a[::-1])\n",
    "mask = (np.abs(np.sin(a)-np.cos(a))<=0.1) #ha true dove è vero\n",
    "b=a[mask]\n",
    "print(b)\n",
    "\n",
    "import matplotlib.pyplot as plt\n",
    "plt.plot(a, np.sin(a), 'b', label='sin')\n",
    "plt.plot(a, np.cos(a), 'r', label='cos')\n",
    "plt.legend()\n",
    "plt.show()"
   ]
  },
  {
   "cell_type": "markdown",
   "metadata": {},
   "source": [
    "5\\. Create a matrix that shows the 10 by 10 multiplication table.\n",
    "\n",
    " * Find the trace of the matrix\n",
    " * Extract the anto-diagonal (this should be ```array([10, 18, 24, 28, 30, 30, 28, 24, 18, 10])```)\n",
    " * Extract the diagnoal offset by 1 upwards (this should be ```array([ 2,  6, 12, 20, 30, 42, 56, 72, 90])```)"
   ]
  },
  {
   "cell_type": "code",
   "execution_count": 105,
   "metadata": {},
   "outputs": [
    {
     "name": "stdout",
     "output_type": "stream",
     "text": [
      "385\n",
      "[10 18 24 28 30 30 28 24 18 10]\n",
      "[ 2  6 12 20 30 42 56 72 90]\n"
     ]
    }
   ],
   "source": [
    "x = range(1,11) \n",
    "y = range(1,11)\n",
    "\n",
    "mult_table = [[i*j for j in y] for i in x]\n",
    "a=np.array(mult_table)\n",
    "print(np.trace(a))\n",
    "\n",
    "def anti_diagonal(arr):\n",
    "    return np.fliplr(arr).diagonal()\n",
    "\n",
    "print (anti_diagonal(a))\n",
    "print(np.diagonal(a, offset=1, axis1=0, axis2=1))"
   ]
  },
  {
   "cell_type": "markdown",
   "metadata": {},
   "source": [
    "6\\. Use broadcasting to create a grid of distances\n",
    "\n",
    "Route 66 crosses the following cities in the US: Chicago, Springfield, Saint-Louis, Tulsa, Oklahoma City, Amarillo, Santa Fe, Albuquerque, Flagstaff, Los Angeles\n",
    "The corresponding positions in miles are: 0, 198, 303, 736, 871, 1175, 1475, 1544, 1913, 2448\n",
    "\n",
    "  * Construct a 2D grid of distances among each city along Route 66\n",
    "  * Convert that in km (those savages...)"
   ]
  },
  {
   "cell_type": "code",
   "execution_count": 123,
   "metadata": {},
   "outputs": [
    {
     "name": "stdout",
     "output_type": "stream",
     "text": [
      "[[[   0  198  303  736  871 1175 1475 1544 1913 2448]\n",
      "  [ 198    0  105  538  673  977 1277 1346 1715 2250]\n",
      "  [ 303  105    0  433  568  872 1172 1241 1610 2145]\n",
      "  [ 736  538  433    0  135  439  739  808 1177 1712]\n",
      "  [ 871  673  568  135    0  304  604  673 1042 1577]\n",
      "  [1175  977  872  439  304    0  300  369  738 1273]\n",
      "  [1475 1277 1172  739  604  300    0   69  438  973]\n",
      "  [1544 1346 1241  808  673  369   69    0  369  904]\n",
      "  [1913 1715 1610 1177 1042  738  438  369    0  535]\n",
      "  [2448 2250 2145 1712 1577 1273  973  904  535    0]]]\n",
      "[[[   0.      318.6414  487.6179 1184.4448 1401.7003 1890.9275 2373.7175\n",
      "   2484.7592 3078.5909 3939.5664]\n",
      "  [ 318.6414    0.      168.9765  865.8034 1083.0589 1572.2861 2055.0761\n",
      "   2166.1178 2759.9495 3620.925 ]\n",
      "  [ 487.6179  168.9765    0.      696.8269  914.0824 1403.3096 1886.0996\n",
      "   1997.1413 2590.973  3451.9485]\n",
      "  [1184.4448  865.8034  696.8269    0.      217.2555  706.4827 1189.2727\n",
      "   1300.3144 1894.1461 2755.1216]\n",
      "  [1401.7003 1083.0589  914.0824  217.2555    0.      489.2272  972.0172\n",
      "   1083.0589 1676.8906 2537.8661]\n",
      "  [1890.9275 1572.2861 1403.3096  706.4827  489.2272    0.      482.79\n",
      "    593.8317 1187.6634 2048.6389]\n",
      "  [2373.7175 2055.0761 1886.0996 1189.2727  972.0172  482.79      0.\n",
      "    111.0417  704.8734 1565.8489]\n",
      "  [2484.7592 2166.1178 1997.1413 1300.3144 1083.0589  593.8317  111.0417\n",
      "      0.      593.8317 1454.8072]\n",
      "  [3078.5909 2759.9495 2590.973  1894.1461 1676.8906 1187.6634  704.8734\n",
      "    593.8317    0.      860.9755]\n",
      "  [3939.5664 3620.925  3451.9485 2755.1216 2537.8661 2048.6389 1565.8489\n",
      "   1454.8072  860.9755    0.    ]]]\n"
     ]
    }
   ],
   "source": [
    "import numpy as np\n",
    "xval=np.array([0, 198, 303, 736, 871, 1175, 1475, 1544, 1913, 2448])\n",
    "yval=np.array([0, 198, 303, 736, 871, 1175, 1475, 1544, 1913, 2448])\n",
    "d=np.abs([xval[:, np.newaxis] - yval[np.newaxis, :]])\n",
    "#non riuscivo ad interpretare meglio \"grid of distances\"\n",
    "print(d)\n",
    "print(np.dot(d, 1.6093))"
   ]
  },
  {
   "cell_type": "markdown",
   "metadata": {},
   "source": [
    "7\\. Prime numbers sieve: compute the prime numbers in the 0-N (N=99 to start with) range with a sieve (mask).\n",
    "  * Constract a shape (100,) boolean array, the mask\n",
    "  * Identify the multiples of each number starting from 2 and set accordingly the corresponding mask element\n",
    "  * Apply the mask to obtain an array of ordered prime numbers\n",
    "  * Check the performances (timeit); how does it scale with N?\n",
    "  * Implement the optimization suggested in the [sieve of Eratosthenes](https://en.wikipedia.org/wiki/Sieve_of_Eratosthenes)"
   ]
  },
  {
   "cell_type": "code",
   "execution_count": 2,
   "metadata": {},
   "outputs": [
    {
     "name": "stdout",
     "output_type": "stream",
     "text": [
      "[ 0  1  2  3  5  7 11 13 17 19 23 29 31 37 41 43 47 53 59 61 67 71 73 79\n",
      " 83 89 97]\n",
      "[ 0  1  2  3  5  7 11 13 17 19 23 29 31 37 41 43 47 53 59 61 67 71 73 79\n",
      " 83 89 97]\n"
     ]
    }
   ],
   "source": [
    "import numpy as np\n",
    "\n",
    "def prime_numbers(N):\n",
    "    a=np.arange(N)\n",
    "    mask=np.array([True]*N)\n",
    "    for i in range(N):\n",
    "        for j in range (2,i-1):\n",
    "            if i % j == 0:\n",
    "                mask[i]=False\n",
    "    a=a[mask]\n",
    "    return a\n",
    "\n",
    "print(prime_numbers(100))\n",
    "\n",
    "#for i in [100,1000,10000]:\n",
    "    #%timeit prime_numbers(i)\n",
    "\n",
    "#Check the performances (timeit); how does it scale with N?\n",
    "#100: 891 µs ± 90.1 µs per loop (mean ± std. dev. of 7 runs, 1000 loops each)\n",
    "#1000: 75.9 ms ± 3.48 ms per loop (mean ± std. dev. of 7 runs, 10 loops each)\n",
    "#10000: 8.07 s ± 260 ms per loop (mean ± std. dev. of 7 runs, 1 loop each)\n",
    " \n",
    "def sieve_of_eratosthenes (N):\n",
    "    a=np.arange(N)\n",
    "    mask=np.array([True]*N)\n",
    "    for i in range (2, int(pow(N, 1/2))):\n",
    "        if mask[i]:\n",
    "            for j in range(pow(i,2),N,i):\n",
    "                mask[j]=False           \n",
    "    a=a[mask]\n",
    "    return a\n",
    "\n",
    "print (sieve_of_eratosthenes(100))\n",
    "\n",
    "#for i in [100,1000,10000]:\n",
    "    #%timeit sieve_of_eratosthenes(i)\n",
    "\n",
    "#Check the performances (timeit); how does it scale with N?\n",
    "#100: 20.1 µs ± 441 ns per loop (mean ± std. dev. of 7 runs, 10000 loops each)\n",
    "#1000: 242 µs ± 63.2 µs per loop (mean ± std. dev. of 7 runs, 10000 loops each)\n",
    "#10000: 2.16 ms ± 48.9 µs per loop (mean ± std. dev. of 7 runs, 100 loops each)"
   ]
  },
  {
   "cell_type": "markdown",
   "metadata": {},
   "source": [
    "8\\. Diffusion using random walk\n",
    "\n",
    "Consider a simple random walk process: at each step in time, a walker jumps right or left (+1 or -1) with equal probability. The goal is to find the typical distance from the origin of a random walker after a given amount of time. \n",
    "To do that, let's simulate many walkers and create a 2D array with each walker as a raw and the actual time evolution as columns\n",
    "\n",
    "  * Take 1000 walkers and let them walk for 200 steps\n",
    "  * Use randint to create a 2D array of size walkers x steps with values -1 or 1\n",
    "  * Build the actual walking distances for each walker (i.e. another 2D array \"summing on each raw\")\n",
    "  * Take the square of that 2D array (elementwise)\n",
    "  * Compute the mean of the squared distances at each step (i.e. the mean along the columns)\n",
    "  * Plot the average distances (sqrt(distance\\*\\*2)) as a function of time (step)\n",
    "  \n",
    "Did you get what you expected?"
   ]
  },
  {
   "cell_type": "code",
   "execution_count": 62,
   "metadata": {},
   "outputs": [
    {
     "data": {
      "image/png": "[encoded data removed]",
      "text/plain": [
       "<Figure size 432x288 with 1 Axes>"
      ]
     },
     "metadata": {
      "needs_background": "light"
     },
     "output_type": "display_data"
    }
   ],
   "source": [
    "import numpy.random as npr\n",
    "m=np.array([0]*51)\n",
    "for i in range(20,1000+1,20):\n",
    "    r=npr.randint(0,2,size=(1000,i))\n",
    "    indices_zero = (r == 0)\n",
    "    r[indices_zero] =-1 \n",
    "    s= np.sum(r,axis=1)\n",
    "    s=s[:,np.newaxis]\n",
    "    m[int(i/20)]=np.sqrt(np.mean(s**2,axis=0))\n",
    "\n",
    "import matplotlib.pyplot as plt\n",
    "plt.plot(range(0,1000+1,20), m, linewidth=2, markersize=12, color='b')\n",
    "plt.show()\n",
    "\n",
    "#Did you get what you expected? No, I didn't expect a positive slope"
   ]
  },
  {
   "cell_type": "markdown",
   "metadata": {},
   "source": [
    "9\\. Analyze a data file \n",
    "  * Download the population of hares, lynxes and carrots at the beginning of the last century.\n",
    "    ```python\n",
    "    ! wget https://www.dropbox.com/s/3vigxoqayo389uc/populations.txt\n",
    "    ```\n",
    "\n",
    "  * Check the content by looking within the file\n",
    "  * Load the data (use an appropriate numpy method) into a 2D array\n",
    "  * Create arrays out of the columns, the arrays being (in order): *year*, *hares*, *lynxes*, *carrots* \n",
    "  * Plot the 3 populations over the years\n",
    "  * Compute the main statistical properties of the dataset (mean, std, correlations, etc.)\n",
    "  * Which species has the highest population each year?\n",
    "\n",
    "Do you feel there is some evident correlation here? [Studies](https://www.enr.gov.nt.ca/en/services/lynx/lynx-snowshoe-hare-cycle) tend to believe so."
   ]
  },
  {
   "cell_type": "code",
   "execution_count": 26,
   "metadata": {},
   "outputs": [
    {
     "name": "stdout",
     "output_type": "stream",
     "text": [
      "(21, 4)\n"
     ]
    },
    {
     "data": {
      "image/png": "[encoded data removed]",
      "text/plain": [
       "<Figure size 432x288 with 1 Axes>"
      ]
     },
     "metadata": {
      "needs_background": "light"
     },
     "output_type": "display_data"
    },
    {
     "name": "stdout",
     "output_type": "stream",
     "text": [
      "Main statistical properties of the carrot array (1), the hare array (2) and the lynx array (3): \n",
      " \n",
      "min: 36700.0\n",
      "year of the min: 1916\n",
      "max: 48300.0\n",
      "year of the max: 1900\n",
      "mean: 42400.0\n",
      "median: 41800.0\n",
      "standard deviation: 3322.5062255844787\n",
      " \n",
      " \n",
      "min: 7600.0\n",
      "year of the min: 1917\n",
      "max: 77400.0\n",
      "year of the max: 1903\n",
      "mean: 34080.95238095238\n",
      "median: 25400.0\n",
      "standard deviation: 20897.906458089667\n",
      " \n",
      " \n",
      "min: 4000.0\n",
      "year of the min: 1900\n",
      "max: 59400.0\n",
      "year of the max: 1904\n",
      "mean: 20166.666666666668\n",
      "median: 12300.0\n",
      "standard deviation: 16254.591536908763\n",
      " \n",
      "correlation matrix between carrot and hare:  [[ 1.         -0.01660378]\n",
      " [-0.01660378  1.        ]]\n",
      "correlation matrix between carrot and lynx:  [[ 1.         -0.68057717]\n",
      " [-0.68057717  1.        ]]\n",
      "correlation matrix between hare and lynx:  [[1.         0.07189206]\n",
      " [0.07189206 1.        ]]\n",
      "Highest population each year: \n",
      "1900.0 : carrot\n",
      "1901.0 : carrot\n",
      "1902.0 : hare\n",
      "1903.0 : hare\n",
      "1904.0 : lynx\n",
      "1905.0 : lynx\n",
      "1906.0 : carrot\n",
      "1907.0 : carrot\n",
      "1908.0 : carrot\n",
      "1909.0 : carrot\n",
      "1910.0 : carrot\n",
      "1911.0 : carrot\n",
      "1912.0 : hare\n",
      "1913.0 : hare\n",
      "1914.0 : hare\n",
      "1915.0 : lynx\n",
      "1916.0 : carrot\n",
      "1917.0 : carrot\n",
      "1918.0 : carrot\n",
      "1919.0 : carrot\n",
      "1920.0 : carrot\n"
     ]
    }
   ],
   "source": [
    "import numpy as np\n",
    "! wget https://www.dropbox.com/s/3vigxoqayo389uc/populations.txt \n",
    "#il comando sopra non mi era accessibile, lavorando su windows, quindi per le mie prove\n",
    "#ho semplicemente caricato il file. Spero che eseguendolo voi su linux tutto funzioni\n",
    "file = open(\"populations.txt\", \"r\")\n",
    "#for i in range (5):\n",
    "    #x = file.readline().strip()\n",
    "    #print(x)\n",
    "p=np.loadtxt('populations.txt')    \n",
    "print(p.shape)\n",
    "year=p[:,0]\n",
    "hare=p[:,1]\n",
    "lynx=p[:,2]\n",
    "carrot=p[:,3]\n",
    "\n",
    "import matplotlib.pyplot as plt\n",
    "plt.plot(year, hare, 'g', label='hare')\n",
    "plt.plot(year, lynx, 'b', label='lynx')\n",
    "plt.plot(year, carrot, 'r', label='carrot')\n",
    "plt.legend()\n",
    "plt.show()\n",
    "\n",
    "print(\"Main statistical properties of the carrot array (1), the hare array (2) and the lynx array (3): \")\n",
    "for i in [carrot, hare, lynx]:\n",
    "    print (\" \")\n",
    "    print (\"min:\", np.min(i)) \n",
    "    print (\"year of the min:\", (1900+np.argmin(i)))\n",
    "    print (\"max:\", np.max(i))\n",
    "    print (\"year of the max:\", (1900+np.argmax(i)))\n",
    "    print (\"mean:\", np.mean(i))\n",
    "    print (\"median:\", np.median(i)) # so weird, median is not a method of the array class..\n",
    "    print (\"standard deviation:\", np.std(i))\n",
    "    print (\" \")    \n",
    "\n",
    "print(\"correlation matrix between carrot and hare: \", np.corrcoef(carrot,hare))\n",
    "print(\"correlation matrix between carrot and lynx: \", np.corrcoef(carrot,lynx))\n",
    "print(\"correlation matrix between hare and lynx: \", np.corrcoef(hare, lynx))\n",
    "\n",
    "print(\"Highest population each year: \")\n",
    "for y,c,h,l in zip(list(year),list(carrot), list(hare), list(lynx)):\n",
    "    if (c>h and c>l):\n",
    "        print (y, \": carrot\") \n",
    "    if (h>c and h>l):\n",
    "        print (y, \": hare\")\n",
    "    if (l>c and l>h):\n",
    "        print (y, \": lynx\") "
   ]
  }
 ],
 "metadata": {
  "kernelspec": {
   "display_name": "Python 3",
   "language": "python",
   "name": "python3"
  },
  "language_info": {
   "codemirror_mode": {
    "name": "ipython",
    "version": 3
   },
   "file_extension": ".py",
   "mimetype": "text/x-python",
   "name": "python",
   "nbconvert_exporter": "python",
   "pygments_lexer": "ipython3",
   "version": "3.8.3"
  }
 },
 "nbformat": 4,
 "nbformat_minor": 4
}
