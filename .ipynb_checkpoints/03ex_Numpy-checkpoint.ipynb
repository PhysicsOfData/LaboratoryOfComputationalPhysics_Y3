{
 "cells": [
  {
   "cell_type": "markdown",
   "metadata": {},
   "source": [
    "### Numpy basics"
   ]
  },
  {
   "cell_type": "markdown",
   "metadata": {},
   "source": [
    "1\\. Find the row, column and overall means for the following matrix:\n",
    "\n",
    "```python\n",
    "m = np.arange(12).reshape((3,4))\n",
    "```"
   ]
  },
  {
   "cell_type": "code",
   "execution_count": 2,
   "metadata": {},
   "outputs": [
    {
     "name": "stdout",
     "output_type": "stream",
     "text": [
      "[[ 0  1  2  3]\n",
      " [ 4  5  6  7]\n",
      " [ 8  9 10 11]] \n",
      "\n",
      "first row  [[0 1 2 3]]\n",
      "second row  [[4 5 6 7]] \n",
      "\n",
      "\n",
      "----------------------------------------------\n",
      "colonna 0 : [0 4 8] --> media = 4.0\n",
      "colonna 1 : [1 5 9] --> media = 5.0\n",
      "colonna 2 : [ 2  6 10] --> media = 6.0\n",
      "colonna 3 : [ 3  7 11] --> media = 7.0\n",
      "----------------------------------------------\n",
      "riga 0 : [[0 1 2 3]] --> media = 1.5\n",
      "riga 1 : [[4 5 6 7]] --> media = 5.5\n",
      "riga 2 : [[ 8  9 10 11]] --> media = 9.5\n",
      "----------------------------------------------\n",
      "The mean of all values:  5.5\n"
     ]
    }
   ],
   "source": [
    "import numpy as np\n",
    "\n",
    "m = np.arange(12).reshape((3,4))\n",
    "print(m,'\\n')\n",
    "\n",
    "#TESTING\n",
    "print('first row ',m[:1])\n",
    "print('second row ',m[1:2],'\\n')\n",
    "\n",
    "# Let us make it more general\n",
    "def extractrow(m, row):\n",
    "    return m[row:row+1]\n",
    "#print(extractrow(m,0))\n",
    "\n",
    "def extractcolumn(m, col):\n",
    "    return m[:,col]\n",
    "#print(extractcolumn(m,1))\n",
    "\n",
    "print('\\n----------------------------------------------')\n",
    "\n",
    "for i in range(m.shape[1]):\n",
    "    print('colonna',i,':',extractcolumn(m,i),'--> media =',np.mean(extractcolumn(m,i)))\n",
    "print('----------------------------------------------')   \n",
    "for i in range(m.shape[0]):\n",
    "    print('riga',i,':',extractrow(m,i),'--> media =',np.mean(extractrow(m,i)))\n",
    "print('----------------------------------------------') \n",
    "print('The mean of all values: ',np.mean(m))\n",
    "#print(np.mean(m),'=',(np.mean(extractrow(m,0))+np.mean(extractrow(m,1))+np.mean(extractrow(m,2)))/3)"
   ]
  },
  {
   "cell_type": "markdown",
   "metadata": {},
   "source": [
    "2\\. Find the outer product of the following two vecotrs\n",
    "\n",
    "```python\n",
    "u = np.array([1,3,5,7])\n",
    "v = np.array([2,4,6,8])\n",
    "```\n",
    "\n",
    "Do this in the following ways:\n",
    "\n",
    "   * Using the function outer in numpy\n",
    "   * Using a nested for loop or list comprehension\n",
    "   * Using numpy broadcasting operatoins\n"
   ]
  },
  {
   "cell_type": "code",
   "execution_count": 58,
   "metadata": {},
   "outputs": [
    {
     "data": {
      "text/plain": [
       "array([[ 2,  4,  6,  8],\n",
       "       [ 6, 12, 18, 24],\n",
       "       [10, 20, 30, 40],\n",
       "       [14, 28, 42, 56]])"
      ]
     },
     "execution_count": 58,
     "metadata": {},
     "output_type": "execute_result"
    }
   ],
   "source": [
    "#Using the function outer in numpy\n",
    "u = np.array([1,3,5,7])\n",
    "v = np.array([2,4,6,8])\n",
    "\n",
    "np.outer(u, v, out=None)"
   ]
  },
  {
   "cell_type": "code",
   "execution_count": 70,
   "metadata": {},
   "outputs": [
    {
     "name": "stdout",
     "output_type": "stream",
     "text": [
      "[[0. 0. 0. 0.]\n",
      " [0. 0. 0. 0.]\n",
      " [0. 0. 0. 0.]\n",
      " [0. 0. 0. 0.]] \n",
      "\n",
      "[[ 2.  4.  6.  8.]\n",
      " [ 6. 12. 18. 24.]\n",
      " [10. 20. 30. 40.]\n",
      " [14. 28. 42. 56.]]\n"
     ]
    }
   ],
   "source": [
    "lena = len(a)\n",
    "lenb = len(b)\n",
    "\n",
    "c = np.zeros((len(u), len(v)))\n",
    "print(c,'\\n')\n",
    "\n",
    "for i in range(lena):\n",
    "    for k in range(lenb):\n",
    "        c[i,k]=u[i]*v[k]\n",
    "\n",
    "        \n",
    "print(outerproduct(u,v))"
   ]
  },
  {
   "cell_type": "code",
   "execution_count": 86,
   "metadata": {},
   "outputs": [
    {
     "name": "stdout",
     "output_type": "stream",
     "text": [
      "[[0. 0. 0. 0.]\n",
      " [0. 0. 0. 0.]\n",
      " [0. 0. 0. 0.]\n",
      " [0. 0. 0. 0.]] \n",
      "\n",
      "[[ 2  6 10 14]\n",
      " [ 4 12 20 28]\n",
      " [ 6 18 30 42]\n",
      " [ 8 24 40 56]]\n"
     ]
    }
   ],
   "source": [
    "d = np.zeros((len(u), len(v)))\n",
    "print(d,'\\n')\n",
    "\n",
    "w=v.reshape(len(v),1)\n",
    "print(w*u)"
   ]
  },
  {
   "cell_type": "markdown",
   "metadata": {},
   "source": [
    "3\\. Create a 10 by 6 matrix of random uniform numbers. Set all rows with any entry less than 0.1 to be zero\n",
    "\n",
    "Hint: Use the following numpy functions - np.random.random, np.any as well as Boolean indexing and the axis argument."
   ]
  },
  {
   "cell_type": "code",
   "execution_count": 137,
   "metadata": {},
   "outputs": [
    {
     "name": "stdout",
     "output_type": "stream",
     "text": [
      "[[0.69646919 0.28613933 0.22685145 0.55131477 0.71946897 0.42310646]\n",
      " [0.9807642  0.68482974 0.4809319  0.39211752 0.34317802 0.72904971]\n",
      " [0.43857224 0.0596779  0.39804426 0.73799541 0.18249173 0.17545176]\n",
      " [0.53155137 0.53182759 0.63440096 0.84943179 0.72445532 0.61102351]\n",
      " [0.72244338 0.32295891 0.36178866 0.22826323 0.29371405 0.63097612]\n",
      " [0.09210494 0.43370117 0.43086276 0.4936851  0.42583029 0.31226122]\n",
      " [0.42635131 0.89338916 0.94416002 0.50183668 0.62395295 0.1156184 ]\n",
      " [0.31728548 0.41482621 0.86630916 0.25045537 0.48303426 0.98555979]\n",
      " [0.51948512 0.61289453 0.12062867 0.8263408  0.60306013 0.54506801]\n",
      " [0.34276383 0.30412079 0.41702221 0.68130077 0.87545684 0.51042234]] \n",
      "\n",
      "[[0.69646919 0.28613933 0.22685145 0.55131477 0.71946897 0.42310646]\n",
      " [0.9807642  0.68482974 0.4809319  0.39211752 0.34317802 0.72904971]\n",
      " [0.         0.         0.         0.         0.         0.        ]\n",
      " [0.53155137 0.53182759 0.63440096 0.84943179 0.72445532 0.61102351]\n",
      " [0.72244338 0.32295891 0.36178866 0.22826323 0.29371405 0.63097612]\n",
      " [0.         0.         0.         0.         0.         0.        ]\n",
      " [0.42635131 0.89338916 0.94416002 0.50183668 0.62395295 0.1156184 ]\n",
      " [0.31728548 0.41482621 0.86630916 0.25045537 0.48303426 0.98555979]\n",
      " [0.51948512 0.61289453 0.12062867 0.8263408  0.60306013 0.54506801]\n",
      " [0.34276383 0.30412079 0.41702221 0.68130077 0.87545684 0.51042234]]\n"
     ]
    }
   ],
   "source": [
    "import numpy.random as npr\n",
    "npr.seed(123)\n",
    "\n",
    "g = npr.rand(10,6)\n",
    "\n",
    "print(g,'\\n')\n",
    "\n",
    "# The idea is to create for each row a boolean array that has element True, if a element of that row is < 0.1, \n",
    "# so that by using np.any on the boolean array, if it returns True that means that there's an element < 0.1\n",
    "for row in range(g.shape[1]):\n",
    "    boolmatrix = (g[row:row+1]<[0.1,0.1,0.1,0.1,0.1,0.1])\n",
    "    if ( np.any(boolmatrix) == True ):\n",
    "        g[row:row+1] = 0\n",
    "\n",
    "print(g)"
   ]
  },
  {
   "cell_type": "markdown",
   "metadata": {},
   "source": [
    "4\\. Use np.linspace to create an array of 100 numbers between 0 and 2π (inclusive).\n",
    "\n",
    "  * Extract every 10th element using slice notation\n",
    "  * Reverse the array using slice notation\n",
    "  * Extract elements where the absolute difference between the sine and cosine functions evaluated at that element is less than 0.1\n",
    "  * Make a plot showing the sin and cos functions and indicate where they are close"
   ]
  },
  {
   "cell_type": "code",
   "execution_count": 143,
   "metadata": {},
   "outputs": [
    {
     "data": {
      "text/plain": [
       "array([0.        , 0.12822827, 0.25645654, 0.38468481, 0.51291309,\n",
       "       0.64114136, 0.76936963, 0.8975979 , 1.02582617, 1.15405444,\n",
       "       1.28228272, 1.41051099, 1.53873926, 1.66696753, 1.7951958 ,\n",
       "       1.92342407, 2.05165235, 2.17988062, 2.30810889, 2.43633716,\n",
       "       2.56456543, 2.6927937 , 2.82102197, 2.94925025, 3.07747852,\n",
       "       3.20570679, 3.33393506, 3.46216333, 3.5903916 , 3.71861988,\n",
       "       3.84684815, 3.97507642, 4.10330469, 4.23153296, 4.35976123,\n",
       "       4.48798951, 4.61621778, 4.74444605, 4.87267432, 5.00090259,\n",
       "       5.12913086, 5.25735913, 5.38558741, 5.51381568, 5.64204395,\n",
       "       5.77027222, 5.89850049, 6.02672876, 6.15495704, 6.28318531])"
      ]
     },
     "execution_count": 143,
     "metadata": {},
     "output_type": "execute_result"
    }
   ],
   "source": [
    "h = np.linspace(0, 2*np.pi)\n",
    "h"
   ]
  },
  {
   "cell_type": "code",
   "execution_count": 144,
   "metadata": {},
   "outputs": [
    {
     "name": "stdout",
     "output_type": "stream",
     "text": [
      "[0.         1.28228272 2.56456543 3.84684815 5.12913086]\n"
     ]
    }
   ],
   "source": [
    "print(h[::10])"
   ]
  },
  {
   "cell_type": "code",
   "execution_count": 145,
   "metadata": {},
   "outputs": [
    {
     "name": "stdout",
     "output_type": "stream",
     "text": [
      "[6.28318531 6.15495704 6.02672876 5.89850049 5.77027222 5.64204395\n",
      " 5.51381568 5.38558741 5.25735913 5.12913086 5.00090259 4.87267432\n",
      " 4.74444605 4.61621778 4.48798951 4.35976123 4.23153296 4.10330469\n",
      " 3.97507642 3.84684815 3.71861988 3.5903916  3.46216333 3.33393506\n",
      " 3.20570679 3.07747852 2.94925025 2.82102197 2.6927937  2.56456543\n",
      " 2.43633716 2.30810889 2.17988062 2.05165235 1.92342407 1.7951958\n",
      " 1.66696753 1.53873926 1.41051099 1.28228272 1.15405444 1.02582617\n",
      " 0.8975979  0.76936963 0.64114136 0.51291309 0.38468481 0.25645654\n",
      " 0.12822827 0.        ]\n"
     ]
    }
   ],
   "source": [
    "\n",
    "print(h[::-1])"
   ]
  },
  {
   "cell_type": "code",
   "execution_count": 154,
   "metadata": {},
   "outputs": [
    {
     "name": "stdout",
     "output_type": "stream",
     "text": [
      "[0.76936963 3.97507642] 0.7853981633974483 3.9269908169872414\n"
     ]
    }
   ],
   "source": [
    "mask = (np.power(np.sin(h)-np.cos(h),2)<0.01)\n",
    "h = h[mask]\n",
    "print(h,np.pi/4,np.pi/4+np.pi)"
   ]
  },
  {
   "cell_type": "code",
   "execution_count": 87,
   "metadata": {},
   "outputs": [
    {
     "data": {
      "image/png": "[encoded data removed]",
      "text/plain": [
       "<Figure size 432x288 with 1 Axes>"
      ]
     },
     "metadata": {
      "needs_background": "light"
     },
     "output_type": "display_data"
    }
   ],
   "source": [
    "import matplotlib.pyplot as plt # everybody imports it that way\n",
    "\n",
    "%matplotlib inline \n",
    "# tell jupyter to plot inline\n",
    "\n",
    "xs = np.linspace(0, 2*np.pi, 100)\n",
    "ysin = np.sin(xs)\n",
    "ycos = np.cos(xs)\n",
    "plt.plot(xs, ysin);\n",
    "plt.plot(xs, ycos);"
   ]
  },
  {
   "cell_type": "markdown",
   "metadata": {},
   "source": [
    "5\\. Create a matrix that shows the 10 by 10 multiplication table.\n",
    "\n",
    " * Find the trace of the matrix\n",
    " * Extract the anto-diagonal (this should be ```array([10, 18, 24, 28, 30, 30, 28, 24, 18, 10])```)\n",
    " * Extract the diagnoal offset by 1 upwards (this should be ```array([ 2,  6, 12, 20, 30, 42, 56, 72, 90])```)"
   ]
  },
  {
   "cell_type": "code",
   "execution_count": 167,
   "metadata": {},
   "outputs": [
    {
     "data": {
      "text/plain": [
       "array([[  1,   2,   3,   4,   5,   6,   7,   8,   9,  10],\n",
       "       [  2,   4,   6,   8,  10,  12,  14,  16,  18,  20],\n",
       "       [  3,   6,   9,  12,  15,  18,  21,  24,  27,  30],\n",
       "       [  4,   8,  12,  16,  20,  24,  28,  32,  36,  40],\n",
       "       [  5,  10,  15,  20,  25,  30,  35,  40,  45,  50],\n",
       "       [  6,  12,  18,  24,  30,  36,  42,  48,  54,  60],\n",
       "       [  7,  14,  21,  28,  35,  42,  49,  56,  63,  70],\n",
       "       [  8,  16,  24,  32,  40,  48,  56,  64,  72,  80],\n",
       "       [  9,  18,  27,  36,  45,  54,  63,  72,  81,  90],\n",
       "       [ 10,  20,  30,  40,  50,  60,  70,  80,  90, 100]])"
      ]
     },
     "execution_count": 167,
     "metadata": {},
     "output_type": "execute_result"
    }
   ],
   "source": [
    "a = (np.arange(10)+1)\n",
    "b = a.reshape(10,1)\n",
    "\n",
    "c = a*b\n",
    "c"
   ]
  },
  {
   "cell_type": "code",
   "execution_count": 168,
   "metadata": {},
   "outputs": [
    {
     "data": {
      "text/plain": [
       "385"
      ]
     },
     "execution_count": 168,
     "metadata": {},
     "output_type": "execute_result"
    }
   ],
   "source": [
    "traccia = c.trace()\n",
    "traccia"
   ]
  },
  {
   "cell_type": "code",
   "execution_count": 173,
   "metadata": {},
   "outputs": [
    {
     "data": {
      "text/plain": [
       "array([10, 18, 24, 28, 30, 30, 28, 24, 18, 10])"
      ]
     },
     "execution_count": 173,
     "metadata": {},
     "output_type": "execute_result"
    }
   ],
   "source": [
    "d = np.flip(c,1)\n",
    "e = np.diag(d)\n",
    "e"
   ]
  },
  {
   "cell_type": "code",
   "execution_count": 178,
   "metadata": {},
   "outputs": [
    {
     "data": {
      "text/plain": [
       "array([ 2,  6, 12, 20, 30, 42, 56, 72, 90,  1])"
      ]
     },
     "execution_count": 178,
     "metadata": {},
     "output_type": "execute_result"
    }
   ],
   "source": [
    "f = np.roll(c,-1)\n",
    "g = np.diag(f)\n",
    "g"
   ]
  },
  {
   "cell_type": "markdown",
   "metadata": {},
   "source": [
    "6\\. Use broadcasting to create a grid of distances\n",
    "\n",
    "Route 66 crosses the following cities in the US: Chicago, Springfield, Saint-Louis, Tulsa, Oklahoma City, Amarillo, Santa Fe, Albuquerque, Flagstaff, Los Angeles\n",
    "The corresponding positions in miles are: 0, 198, 303, 736, 871, 1175, 1475, 1544, 1913, 2448\n",
    "\n",
    "  * Construct a 2D grid of distances among each city along Route 66\n",
    "  * Convert that in km (those savages...)"
   ]
  },
  {
   "cell_type": "code",
   "execution_count": 194,
   "metadata": {},
   "outputs": [
    {
     "data": {
      "text/plain": [
       "array([[0.0, 122.8, 187.9, 456.3, 540.0, 728.5, 914.5, 957.3, 1186.1,\n",
       "        1517.8],\n",
       "       [122.8, 0.0, 65.1, 333.6, 417.3, 605.7, 791.7, 834.5, 1063.3,\n",
       "        1395.0],\n",
       "       [187.9, 65.1, 0.0, 268.5, 352.2, 540.6, 726.6, 769.4, 998.2,\n",
       "        1329.9],\n",
       "       [456.3, 333.6, 268.5, 0.0, 83.7, 272.2, 458.2, 501.0, 729.7,\n",
       "        1061.4],\n",
       "       [540.0, 417.3, 352.2, 83.7, 0.0, 188.5, 374.5, 417.3, 646.0,\n",
       "        977.7],\n",
       "       [728.5, 605.7, 540.6, 272.2, 188.5, 0.0, 186.0, 228.8, 457.6,\n",
       "        789.3],\n",
       "       [914.5, 791.7, 726.6, 458.2, 374.5, 186.0, 0.0, 42.8, 271.6,\n",
       "        603.3],\n",
       "       [957.3, 834.5, 769.4, 501.0, 417.3, 228.8, 42.8, 0.0, 228.8,\n",
       "        560.5],\n",
       "       [1186.1, 1063.3, 998.2, 729.7, 646.0, 457.6, 271.6, 228.8, 0.0,\n",
       "        331.7],\n",
       "       [1517.8, 1395.0, 1329.9, 1061.4, 977.7, 789.3, 603.3, 560.5,\n",
       "        331.7, 0.0]])"
      ]
     },
     "execution_count": 194,
     "metadata": {},
     "output_type": "execute_result"
    }
   ],
   "source": [
    "distances = [0, 198, 303, 736, 871, 1175, 1475, 1544, 1913, 2448]\n",
    "distances = np.array(distances)\n",
    "\n",
    "distancesT = distances.reshape(10,1)\n",
    "\n",
    "grid = np.absolute(distances-distancesT)\n",
    "grid = 0.62*grid\n",
    "grid"
   ]
  },
  {
   "cell_type": "markdown",
   "metadata": {},
   "source": [
    "7\\. Prime numbers sieve: compute the prime numbers in the 0-N (N=99 to start with) range with a sieve (mask).\n",
    "  * Constract a shape (100,) boolean array, the mask\n",
    "  * Identify the multiples of each number starting from 2 and set accordingly the corresponding mask element\n",
    "  * Apply the mask to obtain an array of ordered prime numbers\n",
    "  * Check the performances (timeit); how does it scale with N?\n",
    "  * Implement the optimization suggested in the [sieve of Eratosthenes](https://en.wikipedia.org/wiki/Sieve_of_Eratosthenes)"
   ]
  },
  {
   "cell_type": "code",
   "execution_count": 277,
   "metadata": {},
   "outputs": [
    {
     "data": {
      "text/plain": [
       "array([ 1,  2,  3,  5,  7, 11, 13, 17, 19, 23, 29, 31, 37, 41, 43, 47, 53,\n",
       "       59, 61, 67, 71, 73, 79, 83, 89, 97])"
      ]
     },
     "execution_count": 277,
     "metadata": {},
     "output_type": "execute_result"
    }
   ],
   "source": [
    "numbers = np.arange(100)+1\n",
    "\n",
    "mask = np.array(numbers == -1)\n",
    "\n",
    "for i in range(2,len(numbers)+1):\n",
    "    mask = np.append(mask, numbers % i == 0)\n",
    "\n",
    "mask = mask.reshape(len(numbers),len(numbers))\n",
    "\n",
    "secondmask = 1-np.eye(len(numbers))\n",
    "\n",
    "thirdmask = np.logical_and(mask,secondmask)\n",
    "#print(mask,'\\n\\n',thirdmask)\n",
    "\n",
    "fourthmask = np.any(thirdmask,axis=0)\n",
    "\n",
    "finalmask = np.logical_not(fourthmask)\n",
    "numbers[finalmask]\n",
    "\n",
    "# La logica dietro questo algoritmo è un po' complicata, preferirei spiegarmi in italiano:\n",
    "# Il primo filtro contiene true tanti true, quante volte è stata effettuata una divisione tra numbers (1,2,3,4...)\n",
    "# e il suddetto numero.\n",
    "# Quindi per ogni numero primo, vi sarà un solo true, che si troverà sulla diagonale principale:\n",
    "#\n",
    "#    1  2  3  4  5 \n",
    "#\n",
    "# 1  T  F  F  F  F\n",
    "#\n",
    "# 2  F  T  F  T  F\n",
    "#\n",
    "# 3  F  F  T  F  F\n",
    "#\n",
    "# 4  F  F  F  T  F\n",
    "#\n",
    "# 5  F  F  F  F  T\n",
    "#\n",
    "# Si noti che 4 ad esempio contiene già due true, essendo divisibile per 2 e per se stesso.\n",
    "#\n",
    "# Col secondo e terzo filtro si è fatto in modo di eliminare tutti i true sulla diagonale facendo un and logico\n",
    "# con una matrice (1-Id)\n",
    "#\n",
    "# Adesso tutti i numeri primi contengono solo false nella loro colonna, da qui si è usato any per ottenere l'ultimo\n",
    "# filtro"
   ]
  },
  {
   "cell_type": "code",
   "execution_count": 69,
   "metadata": {},
   "outputs": [
    {
     "name": "stdout",
     "output_type": "stream",
     "text": [
      "[1, 2, 3, 5]\n"
     ]
    }
   ],
   "source": [
    "# TESTING OF THE ALGORITHM W/ FOR LOOP\n",
    "\n",
    "numbers = np.arange(100)+1\n",
    "primes = []\n",
    "\n",
    "primes.append(1)\n",
    "mask = ( numbers % 2 != 0)\n",
    "\n",
    "primes.append((numbers[1]))\n",
    "numbers = numbers[mask]\n",
    "#print(mask,primes,numbers)\n",
    "\n",
    "\n",
    "mask = ( numbers % 3 != 0)\n",
    "\n",
    "primes.append((numbers[1]))\n",
    "numbers = numbers[mask]\n",
    "\n",
    "\n",
    "#print(mask,primes,numbers)\n",
    "\n",
    "\n",
    "mask = ( numbers % 4 != 0)\n",
    "\n",
    "primes.append((numbers[1]))\n",
    "numbers = numbers[mask]\n",
    "\n",
    "\n",
    "print(primes)"
   ]
  },
  {
   "cell_type": "code",
   "execution_count": 78,
   "metadata": {},
   "outputs": [
    {
     "data": {
      "text/plain": [
       "array([ 1,  2,  3,  5,  7, 11, 13, 17, 19, 23, 29, 31, 37, 41, 43, 47, 53,\n",
       "       59, 61, 67, 71, 73, 79, 83, 89, 97])"
      ]
     },
     "execution_count": 78,
     "metadata": {},
     "output_type": "execute_result"
    }
   ],
   "source": [
    "#######################################################################\n",
    "#############         sieve of Eratosthenes               #############\n",
    "#######################################################################\n",
    "\n",
    "numbers = np.arange(100)+1\n",
    "primes = []\n",
    "\n",
    "primes.append(1)\n",
    "\n",
    "for i in range(2,len(numbers)-3):\n",
    "    mask = ( numbers % i != 0)\n",
    "\n",
    "    primes.append((numbers[1]))\n",
    "    numbers = numbers[mask]\n",
    "\n",
    "np.unique(primes,axis=0)"
   ]
  },
  {
   "cell_type": "markdown",
   "metadata": {},
   "source": [
    "# 8\\. Diffusion using random walk\n",
    "\n",
    "Consider a simple random walk process: at each step in time, a walker jumps right or left (+1 or -1) with equal probability. The goal is to find the typical distance from the origin of a random walker after a given amount of time. \n",
    "To do that, let's simulate many walkers and create a 2D array with each walker as a raw and the actual time evolution as columns\n",
    "\n",
    "  * Take 1000 walkers and let them walk for 200 steps\n",
    "  * Use randint to create a 2D array of size walkers x steps with values -1 or 1\n",
    "  * Build the actual walking distances for each walker (i.e. another 2D array \"summing on each raw\")\n",
    "  * Take the square of that 2D array (elementwise)\n",
    "  * Compute the mean of the squared distances at each step (i.e. the mean along the columns)\n",
    "  * Plot the average distances (sqrt(distance\\*\\*2)) as a function of time (step)\n",
    "  \n",
    "Did you get what you expected?"
   ]
  },
  {
   "cell_type": "code",
   "execution_count": 112,
   "metadata": {},
   "outputs": [
    {
     "data": {
      "image/png": "[encoded data removed]",
      "text/plain": [
       "<Figure size 432x288 with 1 Axes>"
      ]
     },
     "metadata": {
      "needs_background": "light"
     },
     "output_type": "display_data"
    }
   ],
   "source": [
    "import random\n",
    "\n",
    "def positive_or_negative():\n",
    "    if random.random() < 0.5:\n",
    "        return 1\n",
    "    else:\n",
    "        return -1\n",
    "\n",
    "\n",
    "numwalkers = 1000\n",
    "steps = 200\n",
    "lenghtgrid = 200\n",
    "\n",
    "grid = np.zeros(200)\n",
    "\n",
    "for i in range(numwalkers):\n",
    "    position = lenghtgrid//2\n",
    "    for k in range(steps):\n",
    "        position += positive_or_negative()\n",
    "        #print(position)\n",
    "    grid[position] += 1\n",
    "\n",
    "    \n",
    "# Given the fact that  the walker moves of one space (fowards or backwards) 200 times, only the odd position will\n",
    "# be reached, let us remove all the 0 elements\n",
    "\n",
    "mask = (grid != 0)\n",
    "newgrid = grid[mask]\n",
    "\n",
    "x = np.arange(0, len(newgrid), 1)\n",
    "y = newgrid\n",
    "\n",
    "fig = plt.figure()\n",
    "ax = fig.gca()\n",
    "plt.scatter(x, y)\n",
    "plt.grid()\n",
    "plt.show()\n",
    "\n"
   ]
  },
  {
   "cell_type": "code",
   "execution_count": 172,
   "metadata": {
    "scrolled": true
   },
   "outputs": [
    {
     "data": {
      "text/plain": [
       "array([ 12, -12, -12,   2,   8,   2, -10,  -2, -16, -10,   4,   4,  -6,\n",
       "        10,  24,  -8,  14,  10,  16,  -8,  14,  -2,  16,   8, -18,  12,\n",
       "       -12, -10, -10,  -4,   6,  18,  16,   2, -16, -24,   6,  10, -18,\n",
       "        -8,   6,  28, -28,  12,  16, -16,  26,  16,   2, -10, -18,  -4,\n",
       "        20,  22,  52, -18,  20,  -2,   4, -16,  12,   6, -26, -10,  -6,\n",
       "        -4,  10,   4,   8, -12,  -4,  -8,  -4,   8,  24,  -6,   8,   2,\n",
       "        -2,  -4,  -4, -32,  -6,  -2,   4,  -8, -24,   8, -12,  20, -16,\n",
       "       -36, -16,  -8,   4,  -8,  10,  -8,  10,   4,  22,  -8,   6,  -2,\n",
       "        12, -16,   6, -10,   6,  -8,  -6, -10, -10,  24, -14, -16, -14,\n",
       "        12, -26,  -2,   6, -10,   6, -40,  -4,  24,  -2,  22, -18,  -4,\n",
       "        10,  -4,  -4, -10,   2,  -8,  10, -28,  -8,   8,  -8,   0, -10,\n",
       "        -6,  14,  -4,  -4, -14,  28,  18,   8,   8,  24,  20,  38,  10,\n",
       "         8,  36,  -8,  -4, -20,  14, -12, -14,  -4,  -8,   6,  -2,  -4,\n",
       "       -10,   0,  -8,  -4, -20, -10, -10, -16,  16,   2,   2,  18,  -8,\n",
       "        14,  -8,  -4,  14,  -2, -32,  38, -20,  14,   4,   2,   8, -12,\n",
       "        18, -20,  -8,   4,  12,  -6,  -4, -24, -12,  -6,  -8,   8,  26,\n",
       "        10,  28,   8,  14,  -4,   8,  22,  -4,   0,   6,   4,  -2,  28,\n",
       "        12, -16,  12,   8, -12, -10,  -8,  -2, -12,  -8,   6,   2,   0,\n",
       "        34,  -8, -20,   4,  10, -26, -18,  -8,   4,  12,   0,  -2,  14,\n",
       "        -4,  10, -18,   8, -22, -12,  -8,   4,  -2,  12,   0, -10,  -2,\n",
       "        14,   4,   2,  22,  -8, -24,  16, -16, -36,  10,  12,  -4, -12,\n",
       "       -20,   2,   8,   6,  -4,   4, -14,   0,  -6,   0,  -6,  16,  32,\n",
       "         2,  -2,  -8, -12, -24,  12,   4,   2,  18, -26,   0,  16,  -2,\n",
       "         6,  -2, -10, -18, -14,  20,   8, -14,  24,  22, -44,  -6,  -4,\n",
       "        18,  38,  -2,  12,  10,   2,  -6,  12,   4,  -2,  12,  12, -10,\n",
       "         4, -30,  -8,   2, -40,  -4,  10,   2,   6, -10, -12, -22,  -4,\n",
       "        24,   0,   6, -24, -24, -10,  -4, -24,  -4,  -4,  10,  -2,  18,\n",
       "       -26,  18,   0,  14,  -8,  14,  -2,  -4, -12, -28,   8, -18,  -6,\n",
       "         2, -12,  22,  -8,  36,  26, -12,  10,  -4,   4, -28,   6, -20,\n",
       "       -10,  36,   8, -26,  -2, -10,  14,   0,  -8, -12,  24,  22,  -6,\n",
       "       -12, -18,  -2, -14, -14, -26,  18,   0,  -8,  16,  16,  16,  14,\n",
       "       -10, -14, -24, -10,   4,  16,  -6,  -2, -24,  18, -20,   6, -16,\n",
       "        -6,  -8,   4, -22,   8,  30,  -2,  14,  14, -18,  34, -10, -28,\n",
       "       -32, -12,   2,  -6,   8, -32,   8, -10,  -2,  14,   0, -30,   4,\n",
       "        14,  -8,   6,  16,   6,  -4,  10, -10,  18,  30,  26,  16, -30,\n",
       "         6,   0, -26,   0,  16,  -8,  -8, -14,  -4,  -4,  12,  20,  -6,\n",
       "        12,   8, -12,  16, -16, -20,  -6,  28,   8, -12,  -6, -10,  12,\n",
       "       -38, -14, -22,   0,  22,  10,  22,  -6, -22,   4,  -2,  -4,   2,\n",
       "        -4, -26,  -8, -30,   0,  -4, -12,  28,  -6,  -6, -18,  18,  -4,\n",
       "       -12,   4,  12,   4,  10,   8,   2,  20,  -2,  10,  32,  -4, -16,\n",
       "        -6,  -2,   6,  -2, -10, -22,  16,  18,  14,  -8,  18,   8,  -8,\n",
       "         4,   4, -16,  -8,  14,  12,  12, -16,  -6,  10,  20,  12,   6,\n",
       "        -4,  14,  12,  22, -12,  18, -22, -14,   0,  -6,  -6,  32,  16,\n",
       "        18, -10,  24,   4,  -6, -32, -14,  20,  10, -20,  14,  -6,   0,\n",
       "        -6, -10, -26,  -2,   2, -10,  14,  -2,  14,  14, -24,  -6, -12,\n",
       "        -4,  16,  -2,  18,  24,  14,  14,  -2,  38,  -2, -20,   2,   4,\n",
       "         6,  -6, -14,  10,   0, -14,  24,  -2,  -6, -26,   0,   4,  -4,\n",
       "       -10,  12,  20,   8,   2,  -8,   2,  -4,   2,  18,   4,   2,  20,\n",
       "        -4,  14,  -8, -20, -14,  -4,   4,  22,  24,   4,  -8,   6, -16,\n",
       "        -6, -10,  -8,   0, -16, -14,  18,  -6,  12,   2,   2, -14,   6,\n",
       "         4,  14,   4, -14,  -8,  22,   2,   2, -10, -22, -10, -12,  -8,\n",
       "        -4,  -6,  -6,   4, -16,   6,   2, -10,  -2, -20, -16,  -4,  14,\n",
       "        -8,  18,   8,  -2,  12,  30, -10,   8,  22,   2,  16,   2,   4,\n",
       "        -4, -10,  20,  20,   6, -22,   6,   0,   2,   4, -10,   4,  10,\n",
       "       -12,  22,  -4,   4,   8,   2,  -6,  14,   0,  18,  14,  -6,   4,\n",
       "        18,  -8,   8, -12, -10,  -4,   0,  14,  -6, -12,   6,  -4,  -6,\n",
       "        12, -22,   4, -14,   0, -22,   6,  -4,  -2,  -6,   0,  18,  -4,\n",
       "       -12, -10,  10,   8,  26,  -4,  14,  10,   4, -22,  -4, -30,   4,\n",
       "       -14,   0, -10,   6,   4,  14,   6,  -6,  -8, -12,   2, -16,   0,\n",
       "        -6,  18,  12,   2,  14,  14,   6,  14,  12,  10, -10,  16, -14,\n",
       "        14,   8,  16,  10,   2, -10,   6,  12,  -4,  -8,  20, -10, -12,\n",
       "        -4,  12,  -2,  -4,  -8, -18,  -8,  -2, -18, -14,   0,  10,  10,\n",
       "        -8,  20,  -4,  14, -12,  16,  -4,  -4,  34,  14,  12, -10,  38,\n",
       "        -8,   2,  10,  34,  16,   4,  -2,   2,   2, -12, -18,   2, -12,\n",
       "         0,   0,  22, -30, -10, -26,   2,  14, -10,   0,  -2,   4,  10,\n",
       "       -12, -14,  -8, -38,  32,  -8,   6,  -2,   6, -22,  -8, -10,  20,\n",
       "        -2,  -4,  10,  -6,  28,  -2, -16,  10, -10,  -2,   4,  -4,  -8,\n",
       "        22,   4, -12,   6,   4,   6,   2,   0, -22,   4,   6,   2,   8,\n",
       "       -20,  -2,   2,  -6,   2,   4, -24,  -6,  -6,  28,   6, -12,  12,\n",
       "       -14,   4, -14,  10, -16, -10,   0, -22,  24,   0,   2,  -8,  18,\n",
       "         0,  16,  -4, -20,   8, -12,   4, -18,  -2,   4,  -8,  12, -20,\n",
       "         0,   0,   4,   8,   0,  -2,   8,  -6,  28, -10,  22,   8, -14,\n",
       "        20,   8, -20,  16, -20,  34,   0,  -4,   0,  12,  -6,   0,   8,\n",
       "         2,   2,  -4,   2, -26,  20,   6, -20,   2, -10, -16,  10,   0,\n",
       "       -28,  -8, -24,   0, -34,  -2,  -6, -12,   0,  -4,  26,  18,  10,\n",
       "        -4,   2, -12,  -2,   0, -26,   8,  12, -12,  -4, -12,   4,   4,\n",
       "       -24,  22,  -8, -10,  10,  -8, -20,   2,  -6,   2, -12,  10])"
      ]
     },
     "execution_count": 172,
     "metadata": {},
     "output_type": "execute_result"
    }
   ],
   "source": [
    "import numpy.random as npr\n",
    "def positive_or_negative():\n",
    "    if random.random() < 0.5:\n",
    "        return 1\n",
    "    else:\n",
    "        return -1\n",
    "\n",
    "\n",
    "numwalkers = 1000\n",
    "steps = 200\n",
    "lenghtgrid = 200\n",
    "\n",
    "gridwalker = 2*(npr.randint(0,2,size=(numwalkers,steps)))-1\n",
    "\n",
    "gridwalker\n",
    "\n",
    "walkersdistances = np.ndarray.sum(gridwalker,axis=1)\n",
    "walkersdistances"
   ]
  },
  {
   "cell_type": "code",
   "execution_count": 185,
   "metadata": {},
   "outputs": [
    {
     "name": "stdout",
     "output_type": "stream",
     "text": [
      "[    16     80    144    144    160   2464   3040   7940   8724   8740\n",
      "   8996   9140  10040  10056  11080  11276  11532  11788  11852  15216\n",
      "  15280  15296  15696  16272  17428  17624  17640  18936  19192  20092\n",
      "  20668  20812  20816  21012  26196  26596  26612  27908  27924  28824\n",
      "  28888  29288  29432  29688  30172  30956  38700  39276  39420  39456\n",
      "  39492  39816  40392  40456  44300  45456  48160  48176  49076  53700\n",
      "  61444  62020  63316  63352  63496  64520  64716  64780  64796  64860\n",
      "  65536  65860  66260  70356  71140  72296  75660  78160  78736  80500\n",
      "  80564  81860  83016  83116  83372  84272  84756  90232  90296  90696\n",
      "  95320  98920 102056 102200 102984 103048 103724 107820 109420 110576\n",
      " 112176 114112 115136 116900 117684 117700 117704 123480 123580 123724\n",
      " 123740 123840 123984 124560 125716 126116 132840 134776 135352 135928\n",
      " 136028 136128 138628 138952 138968 139068 140364 141388 141584 144288\n",
      " 144544 145028 145604 145860 146004 149368 149944 152060 152160 152644\n",
      " 153044 153144 153720 154396 157100 157356 157420 157564 157664 157764\n",
      " 157780 157880 158204 158400 158800 158804 159204 160648 162952 164108\n",
      " 164108 164432 164688 164884 165784 169628 169628 172332 173488 173552\n",
      " 174128 174144 174244 179428 179464 179788 180464 183600 183616 184912\n",
      " 189536 189792 189856 190256 190832 190976 191652 192328 193112 193148\n",
      " 198624 199408 199472 200916 200916 203832 204088 204284 206048 207204]\n"
     ]
    },
    {
     "data": {
      "image/png": "[encoded data removed]",
      "text/plain": [
       "<Figure size 432x288 with 1 Axes>"
      ]
     },
     "metadata": {
      "needs_background": "light"
     },
     "output_type": "display_data"
    }
   ],
   "source": [
    "walkersdistances = np.ndarray.sum(gridwalker,axis=0)\n",
    "walkersdistances = np.power(walkersdistances,2)\n",
    "walkersdistances = np.cumsum(walkersdistances)\n",
    "print(walkersdistances)\n",
    "\n",
    "\n",
    "x = np.arange(0, steps, 1)\n",
    "y = (walkersdistances)\n",
    "\n",
    "fig = plt.figure()\n",
    "ax = fig.gca()\n",
    "plt.scatter(x, y)\n",
    "plt.grid()\n",
    "plt.show()"
   ]
  },
  {
   "cell_type": "code",
   "execution_count": null,
   "metadata": {},
   "outputs": [],
   "source": [
    "# In a brownian motion <x^2> grows linear with time, with this program I found the same result"
   ]
  },
  {
   "cell_type": "markdown",
   "metadata": {},
   "source": [
    "9\\. Analyze a data file \n",
    "  * Download the population of hares, lynxes and carrots at the beginning of the last century.\n",
    "    ```python\n",
    "    ! wget https://www.dropbox.com/s/3vigxoqayo389uc/populations.txt\n",
    "    ```\n",
    "\n",
    "  * Check the content by looking within the file\n",
    "  * Load the data (use an appropriate numpy method) into a 2D array\n",
    "  * Create arrays out of the columns, the arrays being (in order): *year*, *hares*, *lynxes*, *carrots* \n",
    "  * Plot the 3 populations over the years\n",
    "  * Compute the main statistical properties of the dataset (mean, std, correlations, etc.)\n",
    "  * Which species has the highest population each year?\n",
    "\n",
    "Do you feel there is some evident correlation here? [Studies](https://www.enr.gov.nt.ca/en/services/lynx/lynx-snowshoe-hare-cycle) tend to believe so."
   ]
  },
  {
   "cell_type": "code",
   "execution_count": 238,
   "metadata": {},
   "outputs": [
    {
     "data": {
      "image/png": "[encoded data removed]",
      "text/plain": [
       "<Figure size 432x288 with 1 Axes>"
      ]
     },
     "metadata": {
      "needs_background": "light"
     },
     "output_type": "display_data"
    },
    {
     "name": "stdout",
     "output_type": "stream",
     "text": [
      "Means:\n",
      " Mean:  34080.95238095238 \n",
      " Lynx:  20166.666666666668 \n",
      " Carrot: 42400.0\n",
      "\n",
      "St. Deviations:\n",
      " Mean:  20897.906458089667 \n",
      " Lynx:  16254.591536908763 \n",
      " Carrot: 3322.5062255844787\n",
      "\n",
      "Correlation between hare and lynx:  [[1.         0.07189206]\n",
      " [0.07189206 1.        ]]\n",
      "\n",
      "Correlation between hare and carrot:  [[ 1.         -0.01660378]\n",
      " [-0.01660378  1.        ]]\n",
      "\n",
      "Correlation between lynx and carrot:  [[ 1.         -0.68057717]\n",
      " [-0.68057717  1.        ]]\n"
     ]
    }
   ],
   "source": [
    "file = open(\"populations.txt\",\"r\")\n",
    "data = np.loadtxt(file,skiprows=1)\n",
    "\n",
    "years = data[:,0] # array of years\n",
    "\n",
    "hare = data[:,1] # array of hare\n",
    "lynx = data[:,2] # array of lynx\n",
    "carrot = data[:,3] # array of carrot\n",
    "\n",
    "fig = plt.figure()\n",
    "ax = fig.gca()\n",
    "plt.scatter(years, hare)\n",
    "plt.scatter(years, lynx)\n",
    "plt.scatter(years, carrot)\n",
    "plt.grid()\n",
    "plt.show()\n",
    "\n",
    "meanhare = np.mean(hare)\n",
    "meanlynx = np.mean(lynx)\n",
    "meancarrot = np.mean(carrot)\n",
    "\n",
    "print('Means:\\n Mean: ',meanhare,'\\n Lynx: ',meanlynx,'\\n Carrot:',meancarrot)\n",
    "\n",
    "stdevhare = np.std(hare)\n",
    "stdevlynx = np.std(lynx)\n",
    "stdevcarrot = np.std(carrot)\n",
    "\n",
    "print('\\nSt. Deviations:\\n Mean: ',stdevhare,'\\n Lynx: ',stdevlynx,'\\n Carrot:',stdevcarrot)\n",
    "print('\\nCorrelation between hare and lynx: ',np.corrcoef(hare,lynx))\n",
    "print('\\nCorrelation between hare and carrot: ',np.corrcoef(hare,carrot))\n",
    "print('\\nCorrelation between lynx and carrot: ',np.corrcoef(carrot,lynx))\n",
    "#print(data,x)"
   ]
  },
  {
   "cell_type": "code",
   "execution_count": null,
   "metadata": {},
   "outputs": [],
   "source": []
  }
 ],
 "metadata": {
  "kernelspec": {
   "display_name": "Python 3",
   "language": "python",
   "name": "python3"
  },
  "language_info": {
   "codemirror_mode": {
    "name": "ipython",
    "version": 3
   },
   "file_extension": ".py",
   "mimetype": "text/x-python",
   "name": "python",
   "nbconvert_exporter": "python",
   "pygments_lexer": "ipython3",
   "version": "3.8.3"
  }
 },
 "nbformat": 4,
 "nbformat_minor": 2
}
