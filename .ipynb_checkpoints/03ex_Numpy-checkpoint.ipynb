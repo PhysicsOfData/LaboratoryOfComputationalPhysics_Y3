{
 "cells": [
  {
   "cell_type": "markdown",
   "metadata": {},
   "source": [
    "### Numpy basics"
   ]
  },
  {
   "cell_type": "markdown",
   "metadata": {},
   "source": [
    "1\\. Find the row, column and overall means for the following matrix:\n",
    "\n",
    "```python\n",
    "m = np.arange(12).reshape((3,4))\n",
    "```"
   ]
  },
  {
   "cell_type": "code",
   "execution_count": null,
   "metadata": {},
   "outputs": [],
   "source": [
    "import numpy as np"
   ]
  },
  {
   "cell_type": "code",
   "execution_count": null,
   "metadata": {
    "scrolled": true
   },
   "outputs": [],
   "source": [
    "m = np.arange(12).reshape((3,4))\n",
    "print(\"Array: \\n\", m)\n",
    "print(\"Array dimensions (rank):\", m.ndim)\n",
    "print(\"Shape of the array:\", m.shape)\n",
    "print(\"Size of the first dimension (axis):\", len(m))\n",
    "print(\"Overall mean\", m.mean())\n",
    "print(\"Row wise mean\", m.mean(1))\n",
    "print(\"Column wise mean\", m.mean(0))"
   ]
  },
  {
   "cell_type": "markdown",
   "metadata": {},
   "source": [
    "2\\. Find the outer product of the following two vecotrs\n",
    "\n",
    "```python\n",
    "u = np.array([1,3,5,7])\n",
    "v = np.array([2,4,6,8])\n",
    "```\n",
    "\n",
    "Do this in the following ways:\n",
    "\n",
    "   * Using the function outer in numpy\n",
    "   * Using a nested for loop or list comprehension\n",
    "   * Using numpy broadcasting operatoins\n"
   ]
  },
  {
   "cell_type": "code",
   "execution_count": null,
   "metadata": {},
   "outputs": [],
   "source": [
    "u = np.array([1,3,5,7])\n",
    "v = np.array([2,4,6,8])\n",
    "\n",
    "a = np.outer(u, v)\n",
    "\n",
    "b = np.array([i*j for i in u for j in v]).reshape(4,4)\n",
    "\n",
    "c = u[:, np.newaxis]*v"
   ]
  },
  {
   "cell_type": "markdown",
   "metadata": {},
   "source": [
    "3\\. Create a 10 by 6 matrix of random uniform numbers. Set all rows with any entry less than 0.1 to be zero\n",
    "\n",
    "Hint: Use the following numpy functions - np.random.random, np.any as well as Boolean indexing and the axis argument."
   ]
  },
  {
   "cell_type": "code",
   "execution_count": null,
   "metadata": {},
   "outputs": [],
   "source": [
    "np.random.seed(1170818)\n",
    "d = np.array([np.random.random(60)]).reshape(10,6)\n",
    "print(d)\n",
    "con = np.array(np.where(np.any(d<0.1, axis=1)))[0]\n",
    "for i in range(len(con)):\n",
    "    d[con[i]] = np.tile(0., d.shape[1])\n",
    "\n",
    "print(d)"
   ]
  },
  {
   "cell_type": "markdown",
   "metadata": {},
   "source": [
    "4\\. Use np.linspace to create an array of 100 numbers between 0 and 2π (includsive).\n",
    "\n",
    "  * Extract every 10th element using slice notation\n",
    "  * Reverse the array using slice notation\n",
    "  * Extract elements where the absolute difference between the sine and cosine functions evaluated at that element is less than 0.1\n",
    "  * Make a plot showing the sin and cos functions and indicate where they are close"
   ]
  },
  {
   "cell_type": "code",
   "execution_count": null,
   "metadata": {},
   "outputs": [],
   "source": [
    "import matplotlib.pyplot as plt\n",
    "\n",
    "%matplotlib inline \n",
    "\n",
    "xs = np.linspace(0, 2*np.pi, 100)\n",
    "#1\n",
    "e = xs[9::10]\n",
    "#2\n",
    "f = xs[::-1]\n",
    "#3\n",
    "index = np.abs(np.sin(xs)-np.cos(xs)) < 0.1\n",
    "g = xs[index]\n",
    "#4\n",
    "plt.scatter(g, np.sin(g))\n",
    "plt.plot(xs, np.sin(xs), xs, np.cos(xs));"
   ]
  },
  {
   "cell_type": "markdown",
   "metadata": {},
   "source": [
    "5\\. Create a matrix that shows the 10 by 10 multiplication table.\n",
    "\n",
    " * Find the trace of the matrix\n",
    " * Extract the anto-diagonal (this should be ```array([10, 18, 24, 28, 30, 30, 28, 24, 18, 10])```)\n",
    " * Extract the diagnoal offset by 1 upwards (this should be ```array([ 2,  6, 12, 20, 30, 42, 56, 72, 90])```)"
   ]
  },
  {
   "cell_type": "code",
   "execution_count": null,
   "metadata": {},
   "outputs": [],
   "source": [
    "ns = np.arange(1, 11)\n",
    "mult = ns[:,None]*ns[None,:]\n",
    "print(mult)\n",
    "print(mult.trace())\n",
    "print(np.flipud(mult).diagonal())\n",
    "print(mult.diagonal(offset=1))"
   ]
  },
  {
   "cell_type": "markdown",
   "metadata": {},
   "source": [
    "6\\. Use broadcasting to create a grid of distances\n",
    "\n",
    "Route 66 crosses the following cities in the US: Chicago, Springfield, Saint-Louis, Tulsa, Oklahoma City, Amarillo, Santa Fe, Albuquerque, Flagstaff, Los Angeles\n",
    "The corresponding positions in miles are: 0, 198, 303, 736, 871, 1175, 1475, 1544, 1913, 2448\n",
    "\n",
    "  * Construct a 2D grid of distances among each city along Route 66\n",
    "  * Convert that in km (those savages...)"
   ]
  },
  {
   "cell_type": "code",
   "execution_count": null,
   "metadata": {},
   "outputs": [],
   "source": [
    "cities = [\"Chicago\", \"Springfield\", \"Saint-Louis\", \"Tulsa\", \"Oklahoma City\", \"Amarillo\",\n",
    "          \"Santa Fe\", \"Albuquerque\", \"Flagstaff\", \"Los Angeles\"]\n",
    "city = np.array([0, 198, 303, 736, 871, 1175, 1475, 1544, 1913, 2448])\n",
    "dist = np.abs(city[:, None] - city[None,:])\n",
    "\n",
    "to_km = 1.60934\n",
    "dist_km = dist*to_km\n",
    "print(\"The distance between:\\n\")\n",
    "for i in range(10):\n",
    "    for k in range(i, 10):\n",
    "        if i != k:\n",
    "            print(\"{} and {} is {}km\".format(cities[i], cities[k], round(dist_km[i][k],2))) #[i][k]=[k][i]"
   ]
  },
  {
   "cell_type": "markdown",
   "metadata": {},
   "source": [
    "7\\. Prime numbers sieve: compute the prime numbers in the 0-N (N=99 to start with) range with a sieve (mask).\n",
    "  * Constract a shape (100,) boolean array, the mask\n",
    "  * Identify the multiples of each number starting from 2 and set accordingly the corresponding mask element\n",
    "  * Apply the mask to obtain an array of ordered prime numbers\n",
    "  * Check the performances (timeit); how does it scale with N?\n",
    "  * Implement the optimization suggested in the [sieve of Eratosthenes](https://en.wikipedia.org/wiki/Sieve_of_Eratosthenes)"
   ]
  },
  {
   "cell_type": "code",
   "execution_count": null,
   "metadata": {},
   "outputs": [],
   "source": [
    "def prime(N):\n",
    "    def is_prime(n):\n",
    "        if n % 2 == 0 and n > 2: \n",
    "            return False\n",
    "        return all(n % i for i in range(3, int(np.sqrt(n)) + 1, 2))\n",
    "    p = np.arange(2, N)\n",
    "    tf = np.vectorize(is_prime)\n",
    "    pbools = tf(p)\n",
    "    primes = np.extract(pbools, p)\n",
    "    return primes\n",
    "\n",
    "print(list(prime(100)))\n",
    "%timeit prime(100)\n",
    "%timeit prime(1000)\n",
    "%timeit prime(10000)\n",
    "%timeit prime(100000)\n",
    "%timeit prime(1000000) #performance scales roughly exponentially with each order of magnitude "
   ]
  },
  {
   "cell_type": "code",
   "execution_count": null,
   "metadata": {},
   "outputs": [],
   "source": [
    "#Sieve of Eratosthenes\n",
    "def sieve(n):\n",
    "    ps, sieve = [], [True]*(n + 1)\n",
    "    for p in range(2, n+1):\n",
    "        if sieve[p]:\n",
    "            ps.append(p)\n",
    "            for i in range(p * p, n + 1, p):\n",
    "                sieve[i] = False\n",
    "    return ps\n",
    "print(sieve(100))"
   ]
  },
  {
   "cell_type": "markdown",
   "metadata": {},
   "source": [
    "8\\. Diffusion using random walk\n",
    "\n",
    "Consider a simple random walk process: at each step in time, a walker jumps right or left (+1 or -1) with equal probability. The goal is to find the typical distance from the origin of a random walker after a given amount of time. \n",
    "To do that, let's simulate many walkers and create a 2D array with each walker as a raw and the actual time evolution as columns\n",
    "\n",
    "  * Take 1000 walkers and let them walk for 200 steps\n",
    "  * Use randint to create a 2D array of size walkers x steps with values -1 or 1\n",
    "  * Build the actual walking distances for each walker (i.e. another 2D array \"summing on each raw\")\n",
    "  * Take the square of that 2D array (elementwise)\n",
    "  * Compute the mean of the squared distances at each step (i.e. the mean along the columns)\n",
    "  * Plot the average distances (sqrt(distance\\*\\*2)) as a function of time (step)\n",
    "  \n",
    "Did you get what you expected?"
   ]
  },
  {
   "cell_type": "code",
   "execution_count": null,
   "metadata": {
    "scrolled": true
   },
   "outputs": [],
   "source": [
    "import numpy.random as npr\n",
    "import matplotlib.pyplot as plt\n",
    "steps, num_walkers = 200, 1000\n",
    "time_steps = np.arange(steps)\n",
    "walkers = np.array([2*npr.randint(0,2,size=steps*num_walkers)-1]).reshape(steps, num_walkers)\n",
    "path = np.empty([steps, num_walkers], \"int\")\n",
    "\n",
    "for i in range(walkers.shape[0]):\n",
    "    path[i] = np.array([np.sum(walkers[:i+1,],axis=0)])\n",
    "avg_dist = np.sqrt((path**2).mean(axis=1))\n",
    "\n",
    "plt.figure(figsize=(10,5))\n",
    "plt.scatter(time_steps, avg_dist)\n",
    "plt.xlabel(\"Time steps\", fontsize=15)\n",
    "plt.ylabel(\"Average distance\", fontsize=15)\n",
    "plt.grid(True)\n",
    "plt.show()\n",
    "\n",
    "#as expected sqrt(avg_distance^2)=sqrt(time_steps)"
   ]
  },
  {
   "cell_type": "markdown",
   "metadata": {},
   "source": [
    "9\\. Analyze a data file \n",
    "  * Download the population of hares, lynxes and carrots at the beginning of the last century.\n",
    "    ```python\n",
    "    ! wget https://www.dropbox.com/s/3vigxoqayo389uc/populations.txt\n",
    "    ```\n",
    "\n",
    "  * Check the content by looking within the file\n",
    "  * Load the data (use an appropriate numpy method) into a 2D array\n",
    "  * Create arrays out of the columns, the arrays being (in order): *year*, *hares*, *lynxes*, *carrots* \n",
    "  * Plot the 3 populations over the years\n",
    "  * Compute the main statistical properties of the dataset (mean, std, correlations, etc.)\n",
    "  * Which species has the highest population each year?\n",
    "\n",
    "Do you feel there is some evident correlation here? [Studies](https://www.enr.gov.nt.ca/en/services/lynx/lynx-snowshoe-hare-cycle) tend to believe so."
   ]
  },
  {
   "cell_type": "code",
   "execution_count": null,
   "metadata": {
    "scrolled": true
   },
   "outputs": [],
   "source": [
    "! wget https://www.dropbox.com/s/3vigxoqayo389uc/populations.txt"
   ]
  },
  {
   "cell_type": "code",
   "execution_count": null,
   "metadata": {},
   "outputs": [],
   "source": [
    "f = open(\"populations.txt\", \"r\")\n",
    "print(f.read())"
   ]
  },
  {
   "cell_type": "code",
   "execution_count": null,
   "metadata": {},
   "outputs": [],
   "source": [
    "import matplotlib.pyplot as plt\n",
    "data = np.loadtxt(\"populations.txt\")\n",
    "year, hares, lynxes, carrots = data[:,0], data[:,1], data[:,2], data[:,3]\n",
    "high, low = [], []\n",
    "\n",
    "plt.figure(figsize=(12,6))\n",
    "plt.scatter(year, carrots, label=\"Carrots\")\n",
    "plt.scatter(year, hares, label=\"Hares\")\n",
    "plt.scatter(year, lynxes, label=\"Lynxes\")\n",
    "carrots_mean = plt.hlines(carrots.mean(), year[0], year[20], color=\"navy\", label=\"Carrots mean\")\n",
    "hares_mean = plt.hlines(hares.mean(), year[0], year[20], color=\"darkred\", label=\"Hares mean\")\n",
    "lynxes_mean = plt.hlines(lynxes.mean(), year[0], year[20], color=\"gold\", label=\"Lynxes mean\")\n",
    "plt.xlabel(\"Year\", fontsize=15)\n",
    "plt.legend(fontsize=12)\n",
    "plt.grid(True)\n",
    "plt.show()\n",
    "\n",
    "sigma = np.array([hares.std(), lynxes.std(), carrots.std()])\n",
    "HL = np.corrcoef(hares, lynxes)\n",
    "LC = np.corrcoef(lynxes, carrots) #lynxes and carrots are correlated (corr ~ -0.68)\n",
    "HC = np.corrcoef(hares, carrots)\n",
    "\n",
    "for x in range(21):\n",
    "    pop_max = np.max(data[x,:])\n",
    "    if (pop_max in hares): high.append(\"H\")\n",
    "    elif (pop_max in lynxes): high.append(\"L\")\n",
    "    else: high.append(\"C\")\n",
    "for x in range(21):\n",
    "    pop_min = np.min(data[x,1:])\n",
    "    if (pop_min in hares): low.append(\"H\")\n",
    "    elif (pop_min in lynxes): low.append(\"L\")\n",
    "    else: low.append(\"C\")\n",
    "print(\"Highest population:\\n\", high)\n",
    "print(\"Lowest population:\\n\", low)\n",
    "#as shown, almost always, to a lower lynxes population number correspond peaks of carrots"
   ]
  }
 ],
 "metadata": {
  "kernelspec": {
   "display_name": "Python 3",
   "language": "python",
   "name": "python3"
  },
  "language_info": {
   "codemirror_mode": {
    "name": "ipython",
    "version": 3
   },
   "file_extension": ".py",
   "mimetype": "text/x-python",
   "name": "python",
   "nbconvert_exporter": "python",
   "pygments_lexer": "ipython3",
   "version": "3.8.5"
  }
 },
 "nbformat": 4,
 "nbformat_minor": 2
}
