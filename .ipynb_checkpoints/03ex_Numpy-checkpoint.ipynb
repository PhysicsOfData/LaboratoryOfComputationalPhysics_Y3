{
 "cells": [
  {
   "cell_type": "markdown",
   "metadata": {},
   "source": [
    "### Numpy basics"
   ]
  },
  {
   "cell_type": "markdown",
   "metadata": {},
   "source": [
    "1\\. Find the row, column and overall means for the following matrix:\n",
    "\n",
    "```python\n",
    "m = np.arange(12).reshape((3,4))\n",
    "```"
   ]
  },
  {
   "cell_type": "code",
   "execution_count": 1,
   "metadata": {},
   "outputs": [
    {
     "name": "stdout",
     "output_type": "stream",
     "text": [
      "columns: [0 4 8] [1 5 9] [1 5 9] [ 2  6 10] [ 3  7 11]\n",
      "rows: [0 1 2 3] [4 5 6 7] [ 8  9 10 11]\n",
      "mean: 5.5\n",
      "mean column 0 = 4.0\n",
      "mean column 1 = 5.0\n",
      "mean column 2 = 6.0\n",
      "mean column 3 = 7.0\n",
      "mean row 0 = 1.5\n",
      "mean row 1 = 5.5\n",
      "mean row 2 = 9.5\n"
     ]
    }
   ],
   "source": [
    "import numpy as np\n",
    "m = np.arange(12).reshape((3,4))\n",
    "print(\"columns:\",m[:,0],m[:,1],m[:,1],m[:,2],m[:,3])\n",
    "print(\"rows:\",m[0],m[1],m[2])\n",
    "print(\"mean:\",m.mean())\n",
    "for i in range(0,4):\n",
    "    print(\"mean column\",i,\"=\",m[:,i].mean())\n",
    "for i in range(0,3):\n",
    "    print(\"mean row\",i,\"=\",m[i].mean())"
   ]
  },
  {
   "cell_type": "markdown",
   "metadata": {},
   "source": [
    "2\\. Find the outer product of the following two vecotrs\n",
    "\n",
    "```python\n",
    "u = np.array([1,3,5,7])\n",
    "v = np.array([2,4,6,8])\n",
    "```\n",
    "\n",
    "Do this in the following ways:\n",
    "\n",
    "   * Using the function outer in numpy\n",
    "   * Using a nested for loop or list comprehension\n",
    "   * Using numpy broadcasting operatoins\n"
   ]
  },
  {
   "cell_type": "code",
   "execution_count": 2,
   "metadata": {},
   "outputs": [
    {
     "name": "stdout",
     "output_type": "stream",
     "text": [
      "[[ 2  4  6  8]\n",
      " [ 6 12 18 24]\n",
      " [10 20 30 40]\n",
      " [14 28 42 56]]\n"
     ]
    }
   ],
   "source": [
    "#Using the function outer in numpy\n",
    "u=np.array([1,3,5,7])\n",
    "v = np.array([2,4,6,8])\n",
    "print(np.outer(u,v))"
   ]
  },
  {
   "cell_type": "code",
   "execution_count": 3,
   "metadata": {},
   "outputs": [
    {
     "name": "stdout",
     "output_type": "stream",
     "text": [
      "[[ 2  4  6  8]\n",
      " [ 6 12 18 24]\n",
      " [10 20 30 40]\n",
      " [14 28 42 56]]\n"
     ]
    }
   ],
   "source": [
    "#Using a nested for loop or list comprehension\n",
    "u=np.array([1,3,5,7])\n",
    "v = np.array([2,4,6,8])\n",
    "out=np.array([v*j  for j in u])\n",
    "print(out)"
   ]
  },
  {
   "cell_type": "code",
   "execution_count": 4,
   "metadata": {},
   "outputs": [
    {
     "name": "stdout",
     "output_type": "stream",
     "text": [
      "[[ 2  4  6  8]\n",
      " [ 6 12 18 24]\n",
      " [10 20 30 40]\n",
      " [14 28 42 56]]\n"
     ]
    }
   ],
   "source": [
    "#Using numpy broadcasting operatoins\n",
    "u=np.array([1,3,5,7])\n",
    "v = np.array([2,4,6,8])\n",
    "u=u[:,np.newaxis]\n",
    "print(u*v)"
   ]
  },
  {
   "cell_type": "markdown",
   "metadata": {},
   "source": [
    "3\\. Create a 10 by 6 matrix of random uniform numbers. Set all rows with any entry less than 0.1 to be zero\n",
    "\n",
    "Hint: Use the following numpy functions - np.random.random, np.any as well as Boolean indexing and the axis argument."
   ]
  },
  {
   "cell_type": "code",
   "execution_count": 5,
   "metadata": {},
   "outputs": [
    {
     "name": "stdout",
     "output_type": "stream",
     "text": [
      "10 by 6 matrix of random uniform numbers:\n",
      "[[0.35319953 0.77528074 0.61099633 0.72573472 0.90202963 0.76741034]\n",
      " [0.85893794 0.68703606 0.23037666 0.27787373 0.08350159 0.84308713]\n",
      " [0.88945246 0.50785327 0.12799234 0.44228425 0.82670948 0.6479141 ]\n",
      " [0.07899357 0.17574013 0.29667954 0.23114749 0.84038966 0.28843916]\n",
      " [0.59212084 0.13521104 0.67757361 0.76628585 0.2505559  0.06637658]\n",
      " [0.92227351 0.87911192 0.17909824 0.16740803 0.63534205 0.80591014]\n",
      " [0.66933057 0.53171779 0.52363924 0.08669989 0.37628352 0.1111478 ]\n",
      " [0.91021935 0.15739743 0.67674987 0.43253634 0.9183584  0.82908984]\n",
      " [0.42116716 0.70311038 0.95129381 0.25228478 0.05940619 0.34007744]\n",
      " [0.86495727 0.80657122 0.19451159 0.43633931 0.71493857 0.01918248]]\n",
      "Matrix with all rows with any entry less than 0.1 set to zero:\n",
      "[[0.35319953 0.77528074 0.61099633 0.72573472 0.90202963 0.76741034]\n",
      " [0.         0.         0.         0.         0.         0.        ]\n",
      " [0.88945246 0.50785327 0.12799234 0.44228425 0.82670948 0.6479141 ]\n",
      " [0.         0.         0.         0.         0.         0.        ]\n",
      " [0.         0.         0.         0.         0.         0.        ]\n",
      " [0.92227351 0.87911192 0.17909824 0.16740803 0.63534205 0.80591014]\n",
      " [0.         0.         0.         0.         0.         0.        ]\n",
      " [0.91021935 0.15739743 0.67674987 0.43253634 0.9183584  0.82908984]\n",
      " [0.         0.         0.         0.         0.         0.        ]\n",
      " [0.         0.         0.         0.         0.         0.        ]]\n"
     ]
    }
   ],
   "source": [
    "a=np.random.random((10,6))\n",
    "print('10 by 6 matrix of random uniform numbers:')\n",
    "print(a)\n",
    "mask= (a<0.1)\n",
    "o=np.any(mask,axis=1)\n",
    "a[o]=0\n",
    "print('Matrix with all rows with any entry less than 0.1 set to zero:')\n",
    "print(a)"
   ]
  },
  {
   "cell_type": "markdown",
   "metadata": {},
   "source": [
    "4\\. Use np.linspace to create an array of 100 numbers between 0 and 2π (includsive).\n",
    "\n",
    "  * Extract every 10th element using slice notation\n",
    "  * Reverse the array using slice notation\n",
    "  * Extract elements where the absolute difference between the sine and cosine functions evaluated at that element is less than 0.1\n",
    "  * Make a plot showing the sin and cos functions and indicate where they are close"
   ]
  },
  {
   "cell_type": "code",
   "execution_count": 6,
   "metadata": {},
   "outputs": [
    {
     "name": "stdout",
     "output_type": "stream",
     "text": [
      "[0.         0.63466518 1.26933037 1.90399555 2.53866073 3.17332591\n",
      " 3.8079911  4.44265628 5.07732146 5.71198664]\n"
     ]
    },
    {
     "data": {
      "image/png": "[encoded data removed]",
      "text/plain": [
       "<Figure size 432x288 with 1 Axes>"
      ]
     },
     "metadata": {
      "needs_background": "light"
     },
     "output_type": "display_data"
    }
   ],
   "source": [
    "import matplotlib.pyplot as plt\n",
    "%matplotlib inline\n",
    "#Use np.linspace to create an array of 100 numbers between 0 and 2π\n",
    "a=np.linspace(0,2*np.pi,100)\n",
    "#Extract every 10th element using slice notation\n",
    "a_ten=a[::10]\n",
    "print(a_ten)\n",
    "#Reverse the array using slice notation\n",
    "a_reverse=a[::-1]\n",
    "sin=np.sin(a)\n",
    "cos=np.cos(a)\n",
    "#Extract elements where the absolute difference between the sine and cosine functions evaluated at that element is less than 0.1\n",
    "mask=np.abs(sin-cos)<0.1\n",
    "a_extract=a[mask]\n",
    "#Make a plot showing the sin and cos functions and indicate where they are close\n",
    "plt.figure()\n",
    "plt.plot(a,sin)\n",
    "plt.plot(a,cos)\n",
    "plt.scatter(a_extract,np.sin(a_extract),s=60,c=\"red\")\n",
    "plt.show()"
   ]
  },
  {
   "cell_type": "markdown",
   "metadata": {},
   "source": [
    "5\\. Create a matrix that shows the 10 by 10 multiplication table.\n",
    "\n",
    " * Find the trace of the matrix\n",
    " * Extract the anto-diagonal (this should be ```array([10, 18, 24, 28, 30, 30, 28, 24, 18, 10])```)\n",
    " * Extract the diagnoal offset by 1 upwards (this should be ```array([ 2,  6, 12, 20, 30, 42, 56, 72, 90])```)"
   ]
  },
  {
   "cell_type": "code",
   "execution_count": 7,
   "metadata": {},
   "outputs": [
    {
     "name": "stdout",
     "output_type": "stream",
     "text": [
      "[[  1   2   3   4   5   6   7   8   9  10]\n",
      " [  2   4   6   8  10  12  14  16  18  20]\n",
      " [  3   6   9  12  15  18  21  24  27  30]\n",
      " [  4   8  12  16  20  24  28  32  36  40]\n",
      " [  5  10  15  20  25  30  35  40  45  50]\n",
      " [  6  12  18  24  30  36  42  48  54  60]\n",
      " [  7  14  21  28  35  42  49  56  63  70]\n",
      " [  8  16  24  32  40  48  56  64  72  80]\n",
      " [  9  18  27  36  45  54  63  72  81  90]\n",
      " [ 10  20  30  40  50  60  70  80  90 100]]\n",
      "385\n",
      "[10 18 24 28 30 30 28 24 18 10]\n",
      "[ 2  6 12 20 30 42 56 72 90]\n"
     ]
    }
   ],
   "source": [
    "#Create a matrix that shows the 10 by 10 multiplication table\n",
    "matrix=np.array([[i*j for i in range(1,11)] for j in range(1,11)])\n",
    "print(matrix)\n",
    "#Find the trace of the matrix\n",
    "print(np.trace(matrix))\n",
    "#Extract the anto-diagonal\n",
    "print(np.diag(np.fliplr(matrix)))\n",
    "#Extract the anto-diagonal\n",
    "print(matrix[(0,1,2,3,4,5,6,7,8), (1,2,3,4,5,6,7,8,9)])"
   ]
  },
  {
   "cell_type": "markdown",
   "metadata": {},
   "source": [
    "6\\. Use broadcasting to create a grid of distances\n",
    "\n",
    "Route 66 crosses the following cities in the US: Chicago, Springfield, Saint-Louis, Tulsa, Oklahoma City, Amarillo, Santa Fe, Albuquerque, Flagstaff, Los Angeles\n",
    "The corresponding positions in miles are: 0, 198, 303, 736, 871, 1175, 1475, 1544, 1913, 2448\n",
    "\n",
    "  * Construct a 2D grid of distances among each city along Route 66\n",
    "  * Convert that in km (those savages...)"
   ]
  },
  {
   "cell_type": "code",
   "execution_count": 8,
   "metadata": {},
   "outputs": [
    {
     "name": "stdout",
     "output_type": "stream",
     "text": [
      "Grid of distances\n",
      "[[   0  198  303  736  871 1175 1475 1544 1913 2448]\n",
      " [ 198    0  105  538  673  977 1277 1346 1715 2250]\n",
      " [ 303  105    0  433  568  872 1172 1241 1610 2145]\n",
      " [ 736  538  433    0  135  439  739  808 1177 1712]\n",
      " [ 871  673  568  135    0  304  604  673 1042 1577]\n",
      " [1175  977  872  439  304    0  300  369  738 1273]\n",
      " [1475 1277 1172  739  604  300    0   69  438  973]\n",
      " [1544 1346 1241  808  673  369   69    0  369  904]\n",
      " [1913 1715 1610 1177 1042  738  438  369    0  535]\n",
      " [2448 2250 2145 1712 1577 1273  973  904  535    0]]\n",
      "Grid of distances(km)\n",
      "[[   0.       318.64932  487.63002 1184.47424 1401.73514 1890.9745\n",
      "  2373.7765  2484.82096 3078.66742 3939.66432]\n",
      " [ 318.64932    0.       168.9807   865.82492 1083.08582 1572.32518\n",
      "  2055.12718 2166.17164 2760.0181  3621.015  ]\n",
      " [ 487.63002  168.9807     0.       696.84422  914.10512 1403.34448\n",
      "  1886.14648 1997.19094 2591.0374  3452.0343 ]\n",
      " [1184.47424  865.82492  696.84422    0.       217.2609   706.50026\n",
      "  1189.30226 1300.34672 1894.19318 2755.19008]\n",
      " [1401.73514 1083.08582  914.10512  217.2609     0.       489.23936\n",
      "   972.04136 1083.08582 1676.93228 2537.92918]\n",
      " [1890.9745  1572.32518 1403.34448  706.50026  489.23936    0.\n",
      "   482.802    593.84646 1187.69292 2048.68982]\n",
      " [2373.7765  2055.12718 1886.14648 1189.30226  972.04136  482.802\n",
      "     0.       111.04446  704.89092 1565.88782]\n",
      " [2484.82096 2166.17164 1997.19094 1300.34672 1083.08582  593.84646\n",
      "   111.04446    0.       593.84646 1454.84336]\n",
      " [3078.66742 2760.0181  2591.0374  1894.19318 1676.93228 1187.69292\n",
      "   704.89092  593.84646    0.       860.9969 ]\n",
      " [3939.66432 3621.015   3452.0343  2755.19008 2537.92918 2048.68982\n",
      "  1565.88782 1454.84336  860.9969     0.     ]]\n"
     ]
    }
   ],
   "source": [
    "#Construct a 2D grid of distances among each city along Route 66\n",
    "positions_1=np.array([0, 198, 303, 736, 871, 1175, 1475, 1544, 1913, 2448])\n",
    "positions_2=np.array([0, 198, 303, 736, 871, 1175, 1475, 1544, 1913, 2448])\n",
    "positions_1=positions_1[:,np.newaxis]\n",
    "distances=np.abs(positions_1-positions_2)\n",
    "print('Grid of distances')\n",
    "print(distances)\n",
    "#Convert that in km\n",
    "print('Grid of distances(km)')\n",
    "print(distances*1.60934)"
   ]
  },
  {
   "cell_type": "markdown",
   "metadata": {},
   "source": [
    "7\\. Prime numbers sieve: compute the prime numbers in the 0-N (N=99 to start with) range with a sieve (mask).\n",
    "  * Constract a shape (100,) boolean array, the mask\n",
    "  * Identify the multiples of each number starting from 2 and set accordingly the corresponding mask element\n",
    "  * Apply the mask to obtain an array of ordered prime numbers\n",
    "  * Check the performances (timeit); how does it scale with N?\n",
    "  * Implement the optimization suggested in the [sieve of Eratosthenes](https://en.wikipedia.org/wiki/Sieve_of_Eratosthenes)"
   ]
  },
  {
   "cell_type": "code",
   "execution_count": 9,
   "metadata": {},
   "outputs": [
    {
     "name": "stdout",
     "output_type": "stream",
     "text": [
      "Prime numbers in the 0-99 range:\n",
      " [ 0  1  2  3  5  7 11 13 17 19 23 29 31 37 41 43 47 53 59 61 67 71 73 79\n",
      " 83 89 97]\n"
     ]
    }
   ],
   "source": [
    "n=100\n",
    "numbers=np.arange(n)\n",
    "mask=[True for i in range(n)]\n",
    "for i in range (2,n):\n",
    "    for j in range (2,n):\n",
    "        if numbers[j]%i==0 and numbers[j]>i:\n",
    "            mask[j]=False\n",
    "prime=numbers[mask]\n",
    "print('Prime numbers in the 0-99 range:\\n',prime)"
   ]
  },
  {
   "cell_type": "code",
   "execution_count": 10,
   "metadata": {},
   "outputs": [
    {
     "name": "stdout",
     "output_type": "stream",
     "text": [
      "Prime numbers in the 0-99 range using the sieve of Eratosthenes:\n",
      " [ 1  2  3  5  7 11 13 17 19 23 29 31 37 41 43 47 53 59 61 67 71 73 79 83\n",
      " 89 97]\n"
     ]
    }
   ],
   "source": [
    "#sieve of Eratosthenes\n",
    "import math as m\n",
    "n=100\n",
    "numbers=np.arange(n)\n",
    "mask=[True for i in range(n)]\n",
    "for i in range (2,int(m.sqrt(n))+1):\n",
    "    for j in range (0,n):\n",
    "        if numbers[j]!=i and numbers[j]%i==0:\n",
    "            mask[j]=False\n",
    "prime=numbers[mask]\n",
    "print('Prime numbers in the 0-99 range using the sieve of Eratosthenes:\\n',prime)"
   ]
  },
  {
   "cell_type": "markdown",
   "metadata": {},
   "source": [
    "8\\. Diffusion using random walk\n",
    "\n",
    "Consider a simple random walk process: at each step in time, a walker jumps right or left (+1 or -1) with equal probability. The goal is to find the typical distance from the origin of a random walker after a given amount of time. \n",
    "To do that, let's simulate many walkers and create a 2D array with each walker as a raw and the actual time evolution as columns\n",
    "\n",
    "  * Take 1000 walkers and let them walk for 200 steps\n",
    "  * Use randint to create a 2D array of size walkers x steps with values -1 or 1\n",
    "  * Build the actual walking distances for each walker (i.e. another 2D array \"summing on each raw\")\n",
    "  * Take the square of that 2D array (elementwise)\n",
    "  * Compute the mean of the squared distances at each step (i.e. the mean along the columns)\n",
    "  * Plot the average distances (sqrt(distance\\*\\*2)) as a function of time (step)\n",
    "  \n",
    "Did you get what you expected?"
   ]
  },
  {
   "cell_type": "code",
   "execution_count": 11,
   "metadata": {},
   "outputs": [
    {
     "data": {
      "image/png": "[encoded data removed]",
      "text/plain": [
       "<Figure size 432x288 with 1 Axes>"
      ]
     },
     "metadata": {
      "needs_background": "light"
     },
     "output_type": "display_data"
    }
   ],
   "source": [
    "import numpy.random as npr\n",
    "npr.seed(123)\n",
    "n_walkers=1000\n",
    "n_steps=2000\n",
    "\n",
    "#Use randint to create a 2D array of size walkers x steps with values -1 or 1\n",
    "array=npr.randint(1,3,size=(n_walkers,n_steps))\n",
    "mask= array==2\n",
    "array[mask]=-1\n",
    "\n",
    "#Build the actual walking distances for each walke\n",
    "for i in range (0,n_walkers):\n",
    "    for j in range(0,n_steps-1):\n",
    "        array[i,j+1]=array[i,j+1]+array[i,j]\n",
    "#Take the square of that 2D array\n",
    "square_distances=array*array    \n",
    "#Compute the mean of the squared distances at each step\n",
    "mean_distances=([square_distances[:,i].mean() for i in range (0,n_steps)])\n",
    "#Plot the average distances as a function of time\n",
    "plt.figure()\n",
    "plt.plot(np.sqrt(mean_distances))\n",
    "plt.show()"
   ]
  },
  {
   "cell_type": "markdown",
   "metadata": {},
   "source": [
    "9\\. Analyze a data file \n",
    "  * Download the population of hares, lynxes and carrots at the beginning of the last century.\n",
    "    ```python\n",
    "    ! wget https://www.dropbox.com/s/3vigxoqayo389uc/populations.txt\n",
    "    ```\n",
    "\n",
    "  * Check the content by looking within the file\n",
    "  * Load the data (use an appropriate numpy method) into a 2D array\n",
    "  * Create arrays out of the columns, the arrays being (in order): *year*, *hares*, *lynxes*, *carrots* \n",
    "  * Plot the 3 populations over the years\n",
    "  * Compute the main statistical properties of the dataset (mean, std, correlations, etc.)\n",
    "  * Which species has the highest population each year?\n",
    "\n",
    "Do you feel there is some evident correlation here? [Studies](https://www.enr.gov.nt.ca/en/services/lynx/lynx-snowshoe-hare-cycle) tend to believe so."
   ]
  },
  {
   "cell_type": "code",
   "execution_count": 12,
   "metadata": {},
   "outputs": [
    {
     "name": "stdout",
     "output_type": "stream",
     "text": [
      "means:\n",
      " hares: 34080.95238095238 \n",
      " lynxes: 20166.666666666668 \n",
      " carrots: 42400.0\n",
      "standard deviations:\n",
      " hares: 20897.906458089667 \n",
      " lynxes: 16254.591536908763 \n",
      " carrots: 3322.5062255844787\n",
      "\n",
      "higest population:\n",
      "1900 carrots\n",
      "1901 carrots\n",
      "1902 hares\n",
      "1903 hares\n",
      "1904 lynxes\n",
      "1905 lynxes\n",
      "1906 carrots\n",
      "1907 carrots\n",
      "1908 carrots\n",
      "1909 carrots\n",
      "1910 carrots\n",
      "1911 carrots\n",
      "1912 hares\n",
      "1913 hares\n",
      "1914 hares\n",
      "1915 lynxes\n",
      "1916 carrots\n",
      "1917 carrots\n",
      "1918 carrots\n",
      "1919 carrots\n",
      "1920 carrots\n"
     ]
    },
    {
     "data": {
      "image/png": "[encoded data removed]",
      "text/plain": [
       "<Figure size 432x288 with 1 Axes>"
      ]
     },
     "metadata": {
      "needs_background": "light"
     },
     "output_type": "display_data"
    }
   ],
   "source": [
    "data=np.loadtxt(\"populations.txt\")\n",
    "year=data[:,0]\n",
    "hares=data[:,1]\n",
    "lynxes=data[:,2]\n",
    "carrots=data[:,3]\n",
    "plt.figure()\n",
    "plt.plot(year,hares)\n",
    "plt.plot(year,lynxes)\n",
    "plt.plot(year,carrots)\n",
    "plt.legend(['hares','lynxes','carrots'])\n",
    "print(\"means:\\n\",\"hares:\",hares.mean(),\"\\n\",\"lynxes:\",lynxes.mean(),\"\\n\",\"carrots:\",carrots.mean())\n",
    "print(\"standard deviations:\\n\",\"hares:\",hares.std(),\"\\n\",\"lynxes:\",lynxes.std(),\"\\n\",\"carrots:\",carrots.std())\n",
    "print(\"\\nhigest population:\")\n",
    "for i in range (0,len(data)):\n",
    "    if data[i,1]>data[i,2] and data[i,1]>data[i,3]:\n",
    "        print(int(data[i,0]),\"hares\")\n",
    "    if data[i,2]>data[i,1] and data[i,2]>data[i,3]:\n",
    "        print(int(data[i,0]),\"lynxes\")\n",
    "    if data[i,3]>data[i,1] and data[i,3]>data[i,2]:\n",
    "        print(int(data[i,0]),\"carrots\")"
   ]
  }
 ],
 "metadata": {
  "kernelspec": {
   "display_name": "Python 3",
   "language": "python",
   "name": "python3"
  },
  "language_info": {
   "codemirror_mode": {
    "name": "ipython",
    "version": 3
   },
   "file_extension": ".py",
   "mimetype": "text/x-python",
   "name": "python",
   "nbconvert_exporter": "python",
   "pygments_lexer": "ipython3",
   "version": "3.7.4"
  }
 },
 "nbformat": 4,
 "nbformat_minor": 2
}
