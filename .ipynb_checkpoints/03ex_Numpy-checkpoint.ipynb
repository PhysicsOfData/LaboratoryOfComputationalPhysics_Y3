{
 "cells": [
  {
   "cell_type": "markdown",
   "metadata": {},
   "source": [
    "### Numpy basics"
   ]
  },
  {
   "cell_type": "markdown",
   "metadata": {},
   "source": [
    "1\\. Find the row, column and overall means for the following matrix:\n",
    "\n",
    "```python\n",
    "m = np.arange(12).reshape((3,4))\n",
    "```"
   ]
  },
  {
   "cell_type": "code",
   "execution_count": 1,
   "metadata": {},
   "outputs": [
    {
     "name": "stdout",
     "output_type": "stream",
     "text": [
      "overall mean:  5.5\n",
      "column mean:  [4. 5. 6. 7.]\n",
      "row mean:  [1.5 5.5 9.5]\n"
     ]
    }
   ],
   "source": [
    "import numpy as np\n",
    "\n",
    "m = np.arange(12).reshape((3,4))\n",
    "\n",
    "print(\"overall mean: \",np.mean(m))\n",
    "print(\"column mean: \",np.mean(m,axis = 0))\n",
    "print(\"row mean: \",np.mean(m,axis = 1))"
   ]
  },
  {
   "cell_type": "markdown",
   "metadata": {},
   "source": [
    "2\\. Find the outer product of the following two vecotrs\n",
    "\n",
    "```python\n",
    "u = np.array([1,3,5,7])\n",
    "v = np.array([2,4,6,8])\n",
    "```\n",
    "\n",
    "Do this in the following ways:\n",
    "\n",
    "   * Using the function outer in numpy\n",
    "   * Using a nested for loop or list comprehension\n",
    "   * Using numpy broadcasting operatoins\n"
   ]
  },
  {
   "cell_type": "code",
   "execution_count": 2,
   "metadata": {},
   "outputs": [
    {
     "name": "stdout",
     "output_type": "stream",
     "text": [
      "outer in numpy: \n",
      " [[ 2  4  6  8]\n",
      " [ 6 12 18 24]\n",
      " [10 20 30 40]\n",
      " [14 28 42 56]]\n",
      "list comprehension: \n",
      " [[ 2  6 10 14]\n",
      " [ 4 12 20 28]\n",
      " [ 6 18 30 42]\n",
      " [ 8 24 40 56]]\n",
      "numpy broadcasting: \n",
      " [[ 2  4  6  8]\n",
      " [ 6 12 18 24]\n",
      " [10 20 30 40]\n",
      " [14 28 42 56]]\n"
     ]
    }
   ],
   "source": [
    "u = np.array([1,3,5,7])\n",
    "v = np.array([2,4,6,8])\n",
    "\n",
    "uxv = np.outer(u,v)\n",
    "print(\"outer in numpy:\",\"\\n\",uxv)\n",
    "\n",
    "uxv = np.array([i*j for j in v for i in u]).reshape(4,4)\n",
    "print(\"list comprehension:\",\"\\n\",uxv)\n",
    "\n",
    "uxv = np.resize(u,(4,4)).T*v\n",
    "print(\"numpy broadcasting:\",\"\\n\",uxv)\n"
   ]
  },
  {
   "cell_type": "markdown",
   "metadata": {},
   "source": [
    "3\\. Create a 10 by 6 matrix of random uniform numbers. Set all rows with any entry less than 0.1 to be zero\n",
    "\n",
    "Hint: Use the following numpy functions - np.random.random, np.any as well as Boolean indexing and the axis argument."
   ]
  },
  {
   "cell_type": "code",
   "execution_count": 3,
   "metadata": {},
   "outputs": [
    {
     "name": "stdout",
     "output_type": "stream",
     "text": [
      "10 by 6 matrix:  \n",
      " [[0.79135767 0.07909262 0.19072547 0.68057185 0.8856702  0.87704608]\n",
      " [0.65652071 0.33309385 0.07897136 0.3002992  0.77534724 0.19763032]\n",
      " [0.2733572  0.05102383 0.29416809 0.92205234 0.32871674 0.68528535]\n",
      " [0.3959787  0.14608042 0.54356178 0.97563434 0.98852425 0.39435453]\n",
      " [0.64003056 0.89747166 0.20362883 0.85590685 0.35346778 0.7731899 ]\n",
      " [0.49194319 0.81372046 0.71909181 0.65790783 0.25779295 0.47821411]\n",
      " [0.6041082  0.54836127 0.42393569 0.37974233 0.43187599 0.42464386]\n",
      " [0.26123123 0.50588232 0.41686278 0.07652428 0.44731099 0.9697101 ]\n",
      " [0.8211916  0.21565863 0.43996991 0.34098643 0.99989035 0.2535676 ]\n",
      " [0.3495238  0.81744705 0.86461419 0.57190232 0.6142528  0.06159495]]\n",
      "\n",
      " Mapped matrix:  \n",
      " [[0.         0.         0.         0.         0.         0.        ]\n",
      " [0.         0.         0.         0.         0.         0.        ]\n",
      " [0.         0.         0.         0.         0.         0.        ]\n",
      " [0.3959787  0.14608042 0.54356178 0.97563434 0.98852425 0.39435453]\n",
      " [0.64003056 0.89747166 0.20362883 0.85590685 0.35346778 0.7731899 ]\n",
      " [0.49194319 0.81372046 0.71909181 0.65790783 0.25779295 0.47821411]\n",
      " [0.6041082  0.54836127 0.42393569 0.37974233 0.43187599 0.42464386]\n",
      " [0.         0.         0.         0.         0.         0.        ]\n",
      " [0.8211916  0.21565863 0.43996991 0.34098643 0.99989035 0.2535676 ]\n",
      " [0.         0.         0.         0.         0.         0.        ]]\n"
     ]
    }
   ],
   "source": [
    "import numpy.random as npr\n",
    "\n",
    "rn = npr.rand(10,6)\n",
    "print(\"10 by 6 matrix: \", \"\\n\", rn)\n",
    "\n",
    "rn[np.any(rn < 0.1,axis = 1),:] = 0\n",
    "print(\"\\n\",\"Mapped matrix: \",\"\\n\", rn)"
   ]
  },
  {
   "cell_type": "markdown",
   "metadata": {},
   "source": [
    "4\\. Use np.linspace to create an array of 100 numbers between 0 and 2π (includsive).\n",
    "\n",
    "  * Extract every 10th element using slice notation\n",
    "  * Reverse the array using slice notation\n",
    "  * Extract elements where the absolute difference between the sine and cosine functions evaluated at that element is less than 0.1\n",
    "  * Make a plot showing the sin and cos functions and indicate where they are close"
   ]
  },
  {
   "cell_type": "code",
   "execution_count": 4,
   "metadata": {},
   "outputs": [
    {
     "name": "stdout",
     "output_type": "stream",
     "text": [
      "original array: \n",
      " [0.         0.06346652 0.12693304 0.19039955 0.25386607 0.31733259\n",
      " 0.38079911 0.44426563 0.50773215 0.57119866 0.63466518 0.6981317\n",
      " 0.76159822 0.82506474 0.88853126 0.95199777 1.01546429 1.07893081\n",
      " 1.14239733 1.20586385 1.26933037 1.33279688 1.3962634  1.45972992\n",
      " 1.52319644 1.58666296 1.65012947 1.71359599 1.77706251 1.84052903\n",
      " 1.90399555 1.96746207 2.03092858 2.0943951  2.15786162 2.22132814\n",
      " 2.28479466 2.34826118 2.41172769 2.47519421 2.53866073 2.60212725\n",
      " 2.66559377 2.72906028 2.7925268  2.85599332 2.91945984 2.98292636\n",
      " 3.04639288 3.10985939 3.17332591 3.23679243 3.30025895 3.36372547\n",
      " 3.42719199 3.4906585  3.55412502 3.61759154 3.68105806 3.74452458\n",
      " 3.8079911  3.87145761 3.93492413 3.99839065 4.06185717 4.12532369\n",
      " 4.1887902  4.25225672 4.31572324 4.37918976 4.44265628 4.5061228\n",
      " 4.56958931 4.63305583 4.69652235 4.75998887 4.82345539 4.88692191\n",
      " 4.95038842 5.01385494 5.07732146 5.14078798 5.2042545  5.26772102\n",
      " 5.33118753 5.39465405 5.45812057 5.52158709 5.58505361 5.64852012\n",
      " 5.71198664 5.77545316 5.83891968 5.9023862  5.96585272 6.02931923\n",
      " 6.09278575 6.15625227 6.21971879 6.28318531]\n",
      "\n",
      " extract every 10th element: \n",
      " [0.         0.63466518 1.26933037 1.90399555 2.53866073 3.17332591\n",
      " 3.8079911  4.44265628 5.07732146 5.71198664]\n",
      "\n",
      " filtered array: \n",
      " [0.76159822 0.82506474 3.87145761 3.93492413]\n"
     ]
    },
    {
     "data": {
      "text/plain": [
       "<Figure size 640x480 with 1 Axes>"
      ]
     },
     "metadata": {},
     "output_type": "display_data"
    }
   ],
   "source": [
    "from math import pi\n",
    "import matplotlib.pyplot as plt\n",
    "\n",
    "pn = np.linspace(0,2*pi,100)\n",
    "print(\"original array: \\n\", pn)\n",
    "print(\"\\n extract every 10th element: \\n\", pn[::10])\n",
    "\n",
    "closes = pn[np.absolute(np.sin(pn) - np.cos(pn)) < 0.1]\n",
    "print(\"\\n filtered array: \\n\", closes)\n",
    "\n",
    "closes.resize(2,2)\n",
    "\n",
    "sin = np.sin(pn)\n",
    "cos = np.cos(pn)\n",
    "plt.plot(pn,sin)\n",
    "plt.plot(pn,cos)\n",
    "\n",
    "for i in np.mean(closes, axis = 1):\n",
    "    plt.annotate('They are close', xy=(i, np.sin(i)), xytext=(i+0.3, np.sin(i)+0.3),\n",
    "            arrowprops=dict(facecolor='black', shrink=0.05),\n",
    "            )\n",
    "plt.show()\n"
   ]
  },
  {
   "cell_type": "markdown",
   "metadata": {},
   "source": [
    "5\\. Create a matrix that shows the 10 by 10 multiplication table.\n",
    "\n",
    " * Find the trace of the matrix\n",
    " * Extract the anto-diagonal (this should be ```array([10, 18, 24, 28, 30, 30, 28, 24, 18, 10])```)\n",
    " * Extract the diagnoal offset by 1 upwards (this should be ```array([ 2,  6, 12, 20, 30, 42, 56, 72, 90])```)"
   ]
  },
  {
   "cell_type": "code",
   "execution_count": 5,
   "metadata": {},
   "outputs": [
    {
     "name": "stdout",
     "output_type": "stream",
     "text": [
      "matrix: \n",
      " [[  1.   2.   3.   4.   5.   6.   7.   8.   9.  10.]\n",
      " [  2.   4.   6.   8.  10.  12.  14.  16.  18.  20.]\n",
      " [  3.   6.   9.  12.  15.  18.  21.  24.  27.  30.]\n",
      " [  4.   8.  12.  16.  20.  24.  28.  32.  36.  40.]\n",
      " [  5.  10.  15.  20.  25.  30.  35.  40.  45.  50.]\n",
      " [  6.  12.  18.  24.  30.  36.  42.  48.  54.  60.]\n",
      " [  7.  14.  21.  28.  35.  42.  49.  56.  63.  70.]\n",
      " [  8.  16.  24.  32.  40.  48.  56.  64.  72.  80.]\n",
      " [  9.  18.  27.  36.  45.  54.  63.  72.  81.  90.]\n",
      " [ 10.  20.  30.  40.  50.  60.  70.  80.  90. 100.]]\n",
      "Trase:  385.0\n",
      "Anto-diagonal:  [10. 18. 24. 28. 30. 30. 28. 24. 18. 10.]\n",
      "diagnoal offset by 1 upwards :  [ 2.  6. 12. 20. 30. 42. 56. 72. 90.]\n"
     ]
    }
   ],
   "source": [
    "txt = np.fromfunction(lambda i, j: (i+1)*(j+1), (10,10))\n",
    "print(\"matrix: \\n\",txt)\n",
    "\n",
    "print(\"Trase: \", np.sum(txt.diagonal()))\n",
    "print(\"Anto-diagonal: \", txt[:,::-1].diagonal())\n",
    "print(\"diagnoal offset by 1 upwards : \", txt[np.arange(9),np.arange(9)+1])"
   ]
  },
  {
   "cell_type": "markdown",
   "metadata": {},
   "source": [
    "6\\. Use broadcasting to create a grid of distances\n",
    "\n",
    "Route 66 crosses the following cities in the US: Chicago, Springfield, Saint-Louis, Tulsa, Oklahoma City, Amarillo, Santa Fe, Albuquerque, Flagstaff, Los Angeles\n",
    "The corresponding positions in miles are: 0, 198, 303, 736, 871, 1175, 1475, 1544, 1913, 2448\n",
    "\n",
    "  * Construct a 2D grid of distances among each city along Route 66\n",
    "  * Convert that in km (those savages...)"
   ]
  },
  {
   "cell_type": "code",
   "execution_count": 6,
   "metadata": {},
   "outputs": [
    {
     "name": "stdout",
     "output_type": "stream",
     "text": [
      "miles: \n",
      " [[   0.  198.  303.  736.  871. 1175. 1475. 1544. 1913. 2448.]\n",
      " [ 198.    0.  105.  538.  673.  977. 1277. 1346. 1715. 2250.]\n",
      " [ 303.  105.    0.  433.  568.  872. 1172. 1241. 1610. 2145.]\n",
      " [ 736.  538.  433.    0.  135.  439.  739.  808. 1177. 1712.]\n",
      " [ 871.  673.  568.  135.    0.  304.  604.  673. 1042. 1577.]\n",
      " [1175.  977.  872.  439.  304.    0.  300.  369.  738. 1273.]\n",
      " [1475. 1277. 1172.  739.  604.  300.    0.   69.  438.  973.]\n",
      " [1544. 1346. 1241.  808.  673.  369.   69.    0.  369.  904.]\n",
      " [1913. 1715. 1610. 1177. 1042.  738.  438.  369.    0.  535.]\n",
      " [2448. 2250. 2145. 1712. 1577. 1273.  973.  904.  535.    0.]]\n",
      "kilometers: \n",
      " [[   0.  319.  488. 1184. 1402. 1891. 2374. 2485. 3079. 3940.]\n",
      " [ 319.    0.  169.  866. 1083. 1572. 2055. 2166. 2760. 3621.]\n",
      " [ 488.  169.    0.  697.  914. 1403. 1886. 1997. 2591. 3452.]\n",
      " [1184.  866.  697.    0.  217.  707. 1189. 1300. 1894. 2755.]\n",
      " [1402. 1083.  914.  217.    0.  489.  972. 1083. 1677. 2538.]\n",
      " [1891. 1572. 1403.  707.  489.    0.  483.  594. 1188. 2049.]\n",
      " [2374. 2055. 1886. 1189.  972.  483.    0.  111.  705. 1566.]\n",
      " [2485. 2166. 1997. 1300. 1083.  594.  111.    0.  594. 1455.]\n",
      " [3079. 2760. 2591. 1894. 1677. 1188.  705.  594.    0.  861.]\n",
      " [3940. 3621. 3452. 2755. 2538. 2049. 1566. 1455.  861.    0.]]\n"
     ]
    }
   ],
   "source": [
    "#I put data into a file 'cities.csv'\n",
    "\n",
    "import csv\n",
    "\n",
    "filename = 'cities.txt' \n",
    "data = np.genfromtxt('cities.txt', delimiter = ',')\n",
    "\n",
    "grid = np.absolute(data[1,:,np.newaxis] - data[1,:])\n",
    "\n",
    "print(\"miles: \\n\", grid)\n",
    "\n",
    "print(\"kilometers: \\n\",np.round(grid*1.60934))"
   ]
  },
  {
   "cell_type": "markdown",
   "metadata": {},
   "source": [
    "7\\. Prime numbers sieve: compute the prime numbers in the 0-N (N=99 to start with) range with a sieve (mask).\n",
    "  * Constract a shape (100,) boolean array, the mask\n",
    "  * Identify the multiples of each number starting from 2 and set accordingly the corresponding mask element\n",
    "  * Apply the mask to obtain an array of ordered prime numbers\n",
    "  * Check the performances (timeit); how does it scale with N?\n",
    "  * Implement the optimization suggested in the [sieve of Eratosthenes](https://en.wikipedia.org/wiki/Sieve_of_Eratosthenes)"
   ]
  },
  {
   "cell_type": "code",
   "execution_count": 7,
   "metadata": {},
   "outputs": [
    {
     "name": "stdout",
     "output_type": "stream",
     "text": [
      "Prime numbers:  [ 1  2  3  5  7 11 13 17 19 23 29 31 37 41 43 47 53 59 61 67 71 73 79 83\n",
      " 89 97]\n",
      "Prime numbers:  [ 1  2  3  5  7 11 13 17 19 23 29 31 37 41 43 47 53 59 61 67 71 73 79 83\n",
      " 89 97]\n"
     ]
    }
   ],
   "source": [
    "def prime(lim):\n",
    "    \n",
    "    ba = np.ones(lim,'bool')\n",
    "\n",
    "    for j in range(2,lim+1):   \n",
    "        i = j\n",
    "        while j*i <= lim:\n",
    "            ba[j*i-1] = False\n",
    "            i += 1\n",
    "        \n",
    "    return np.arange(1, lim+1)[ba]\n",
    "\n",
    "\n",
    "print(\"Prime numbers: \", prime(100))\n",
    "\n",
    "#%timeit prime(10)\n",
    "#%timeit prime(100)\n",
    "#%timeit prime(1000)\n",
    "#%timeit prime(10000)\n",
    "#%timeit prime(100000)\n",
    "#%timeit prime(1000000)\n",
    "\n",
    "#Eratosthenes implement\n",
    "\n",
    "def prime(lim):\n",
    "    \n",
    "    ba = np.ones(lim, 'bool')\n",
    "    numbers = np.arange(1, lim+1)\n",
    "    \n",
    "    k = 1\n",
    "    while True:\n",
    "        try: \n",
    "            numbers[ba][k]\n",
    "        except IndexError:\n",
    "            break\n",
    "        j = numbers[ba][k]\n",
    "        i = j\n",
    "        while j*i <= lim:\n",
    "            ba[j*i-1] = False\n",
    "            i += 1\n",
    "        k += 1\n",
    " \n",
    "    return numbers[ba]\n",
    "\n",
    "print(\"Prime numbers: \", prime(100))\n",
    "\n",
    "#%timeit prime(10)\n",
    "#%timeit prime(100)\n",
    "#%timeit prime(1000)\n",
    "#%timeit prime(10000)\n",
    "#%timeit prime(100000)\n",
    "#%timeit prime(1000000)"
   ]
  },
  {
   "cell_type": "markdown",
   "metadata": {},
   "source": [
    "8\\. Diffusion using random walk\n",
    "\n",
    "Consider a simple random walk process: at each step in time, a walker jumps right or left (+1 or -1) with equal probability. The goal is to find the typical distance from the origin of a random walker after a given amount of time. \n",
    "To do that, let's simulate many walkers and create a 2D array with each walker as a raw and the actual time evolution as columns\n",
    "\n",
    "  * Take 1000 walkers and let them walk for 200 steps\n",
    "  * Use randint to create a 2D array of size walkers x steps with values -1 or 1\n",
    "  * Build the actual walking distances for each walker (i.e. another 2D array \"summing on each raw\")\n",
    "  * Take the square of that 2D array (elementwise)\n",
    "  * Compute the mean of the squared distances at each step (i.e. the mean along the columns)\n",
    "  * Plot the average distances (sqrt(distance\\*\\*2)) as a function of time (step)\n",
    "  \n",
    "Did you get what you expected?"
   ]
  },
  {
   "cell_type": "code",
   "execution_count": 8,
   "metadata": {},
   "outputs": [
    {
     "name": "stdout",
     "output_type": "stream",
     "text": [
      "Simulated walks: \n",
      " [[-1  1 -1 ...  1 -1 -1]\n",
      " [-1 -1 -1 ...  1  1  1]\n",
      " [-1 -1  1 ...  1  1 -1]\n",
      " ...\n",
      " [-1  1 -1 ... -1 -1 -1]\n",
      " [ 1  1  1 ... -1 -1 -1]\n",
      " [ 1 -1 -1 ...  1  1 -1]]\n",
      "\n",
      " Actual distance for each walker : \n",
      " [[  0  -1   0 ...  -9  -8  -9]\n",
      " [  0  -1  -2 ...  -5  -4  -3]\n",
      " [  0  -1  -2 ...  19  20  21]\n",
      " ...\n",
      " [  0  -1   0 ...  -1  -2  -3]\n",
      " [  0   1   2 ...  -3  -4  -5]\n",
      " [  0   1   0 ... -13 -12 -11]]\n",
      "\n",
      " Square of the last array: \n",
      " [[  0   1   0 ...  81  64  81]\n",
      " [  0   1   4 ...  25  16   9]\n",
      " [  0   1   4 ... 361 400 441]\n",
      " ...\n",
      " [  0   1   0 ...   1   4   9]\n",
      " [  0   1   4 ...   9  16  25]\n",
      " [  0   1   0 ... 169 144 121]]\n",
      "\n",
      "  Mean of the squared distances at each step: \n",
      " [  0.      1.      2.06    3.144   4.3     5.304   6.436   7.296   8.28\n",
      "   9.08   10.204  11.192  12.396  13.456  14.272  15.28   16.252  16.96\n",
      "  18.508  19.416  20.844  21.624  22.684  24.328  25.516  26.336  27.24\n",
      "  28.248  29.844  31.024  31.684  32.536  33.744  34.896  36.036  37.728\n",
      "  38.884  40.024  40.916  42.224  43.856  44.264  45.084  45.688  46.572\n",
      "  47.752  49.632  50.064  50.116  51.424  51.812  52.736  53.924  54.864\n",
      "  55.508  56.744  57.888  58.856  59.628  61.52   62.276  62.864  64.192\n",
      "  66.336  67.384  68.856  69.868  69.904  70.388  71.68   72.552  73.064\n",
      "  74.24   76.064  76.664  77.736  78.68   79.272  79.548  80.008  80.868\n",
      "  81.544  83.324  84.504  85.76   85.944  86.132  87.272  88.092  89.248\n",
      "  91.208  91.632  92.268  92.944  92.564  94.512  95.096  95.272  96.2\n",
      "  96.928  99.82   99.56  100.728 102.024 102.164 102.696 103.924 104.576\n",
      " 105.984 107.672 108.068 108.136 108.68  109.032 110.092 111.768 113.3\n",
      " 113.976 114.744 116.592 117.072 119.272 119.272 119.752 121.656 122.52\n",
      " 122.96  123.336 123.192 124.224 124.648 125.464 125.336 127.536 129.772\n",
      " 131.856 132.236 132.776 133.588 134.248 136.58  138.456 139.184 140.592\n",
      " 142.168 142.736 144.032 143.856 143.86  144.888 145.292 146.024 148.048\n",
      " 148.736 151.1   151.952 152.048 154.152 155.044 156.448 157.7   158.496\n",
      " 160.08  160.504 159.824 160.528 161.376 162.784 163.38  164.72  165.856\n",
      " 167.072 167.496 167.992 168.436 169.024 169.692 169.632 171.568 171.72\n",
      " 172.86  173.936 176.688 177.84  178.324 178.408 180.7   181.688 180.736\n",
      " 181.304 183.42  184.84  187.464 187.344 189.02  192.136 193.468 193.44\n",
      " 195.448 196.464]\n"
     ]
    },
    {
     "data": {
      "text/plain": [
       "[<matplotlib.lines.Line2D at 0x120e08b70>]"
      ]
     },
     "execution_count": 8,
     "metadata": {},
     "output_type": "execute_result"
    },
    {
     "data": {
      "image/png": "[encoded data removed]",
      "text/plain": [
       "<Figure size 432x288 with 1 Axes>"
      ]
     },
     "metadata": {
      "needs_background": "light"
     },
     "output_type": "display_data"
    }
   ],
   "source": [
    "import numpy.random as npr\n",
    "npr.seed(1150407)\n",
    "\n",
    "jumps = np.array([-1,1])\n",
    "\n",
    "simw = npr.choice(jumps,size = (1000,200))\n",
    "print(\"Simulated walks: \\n\", simw)\n",
    "\n",
    "dis = np.array([[np.sum(simw[j,:i]) for i in range(200)] for j in range(1000)])\n",
    "print(\"\\n Actual distance for each walker : \\n\", dis)\n",
    "\n",
    "print(\"\\n Square of the last array: \\n\", dis**2)\n",
    "\n",
    "dism2 = np.mean(dis**2,axis = 0)\n",
    "print(\"\\n  Mean of the squared distances at each step: \\n\", dism2)\n",
    "\n",
    "# I expect to get a lineare dependece of the square of the distance from the time\n",
    "xs = range(200)\n",
    "ys = np.sqrt(dism2)\n",
    "plt.plot(xs,ys)"
   ]
  },
  {
   "cell_type": "markdown",
   "metadata": {},
   "source": [
    "9\\. Analyze a data file \n",
    "  * Download the population of hares, lynxes and carrots at the beginning of the last century.\n",
    "    ```python\n",
    "    ! wget https://www.dropbox.com/s/3vigxoqayo389uc/populations.txt\n",
    "    ```\n",
    "\n",
    "  * Check the content by looking within the file\n",
    "  * Load the data (use an appropriate numpy method) into a 2D array\n",
    "  * Create arrays out of the columns, the arrays being (in order): *year*, *hares*, *lynxes*, *carrots* \n",
    "  * Plot the 3 populations over the years\n",
    "  * Compute the main statistical properties of the dataset (mean, std, correlations, etc.)\n",
    "  * Which species has the highest population each year?\n",
    "\n",
    "Do you feel there is some evident correlation here? [Studies](https://www.enr.gov.nt.ca/en/services/lynx/lynx-snowshoe-hare-cycle) tend to believe so."
   ]
  },
  {
   "cell_type": "code",
   "execution_count": 9,
   "metadata": {},
   "outputs": [
    {
     "name": "stdout",
     "output_type": "stream",
     "text": [
      "--2020-11-28 15:50:57--  https://www.dropbox.com/s/3vigxoqayo389uc/populations.txt\n",
      "Resolving www.dropbox.com... 162.125.69.1\n",
      "Connecting to www.dropbox.com|162.125.69.1|:443... connected.\n",
      "HTTP request sent, awaiting response... 301 Moved Permanently\n",
      "Location: /s/raw/3vigxoqayo389uc/populations.txt [following]\n",
      "--2020-11-28 15:50:57--  https://www.dropbox.com/s/raw/3vigxoqayo389uc/populations.txt\n",
      "Reusing existing connection to www.dropbox.com:443.\n",
      "HTTP request sent, awaiting response... 302 Found\n",
      "Location: https://uc9d2f0536c5a55e1cc1d93dcf97.dl.dropboxusercontent.com/cd/0/inline/BEDMrPUYL5oZlClccKBR2dqZsdhHKZcDJ0QMamN_AMt58YliMZ0-Mw_s_QFM9Sqz7-oNTfARnjAJoE975RkK7gKDK0UWaqcU9n0NWvDi_n6XuQ/file# [following]\n",
      "--2020-11-28 15:50:58--  https://uc9d2f0536c5a55e1cc1d93dcf97.dl.dropboxusercontent.com/cd/0/inline/BEDMrPUYL5oZlClccKBR2dqZsdhHKZcDJ0QMamN_AMt58YliMZ0-Mw_s_QFM9Sqz7-oNTfARnjAJoE975RkK7gKDK0UWaqcU9n0NWvDi_n6XuQ/file\n",
      "Resolving uc9d2f0536c5a55e1cc1d93dcf97.dl.dropboxusercontent.com... 162.125.69.15\n",
      "Connecting to uc9d2f0536c5a55e1cc1d93dcf97.dl.dropboxusercontent.com|162.125.69.15|:443... connected.\n",
      "HTTP request sent, awaiting response... 200 OK\n",
      "Length: 525 [text/plain]\n",
      "Saving to: 'populations.txt'\n",
      "\n",
      "populations.txt     100%[===================>]     525  --.-KB/s    in 0s      \n",
      "\n",
      "2020-11-28 15:50:59 (4.01 MB/s) - 'populations.txt' saved [525/525]\n",
      "\n"
     ]
    }
   ],
   "source": [
    "! wget https://www.dropbox.com/s/3vigxoqayo389uc/populations.txt"
   ]
  },
  {
   "cell_type": "code",
   "execution_count": 10,
   "metadata": {},
   "outputs": [
    {
     "data": {
      "image/png": "[encoded data removed]",
      "text/plain": [
       "<Figure size 432x288 with 1 Axes>"
      ]
     },
     "metadata": {
      "needs_background": "light"
     },
     "output_type": "display_data"
    },
    {
     "name": "stdout",
     "output_type": "stream",
     "text": [
      "mean [34080.95238095 20166.66666667 42400.        ]\n",
      "std [20897.90645809 16254.59153691  3322.50622558]\n",
      "\n",
      " hares, lynxes correlarions:  0.728414460136199 after a time of  1 years\n"
     ]
    }
   ],
   "source": [
    "from scipy.ndimage.interpolation import shift\n",
    "\n",
    "data = np.loadtxt('populations.txt',skiprows=1)\n",
    "\n",
    "year = data[:,0].astype(int)\n",
    "hares = data[:,1]\n",
    "lynxes = data[:,2]\n",
    "carrots = data[:,3]\n",
    "\n",
    "plt.xlabel(\"Year\")\n",
    "plt.ylabel(\"Population\")\n",
    "plt.plot(year,hares,label = \"hares\")\n",
    "plt.plot(year,lynxes, label = \"lynxes\")\n",
    "plt.plot(year,carrots, label = \"carrots\")\n",
    "plt.legend(loc=\"upper center\")\n",
    "plt.show()\n",
    "\n",
    "\n",
    "for function in ['mean','std']:\n",
    "    print (function, getattr(np, function)(data[:,1:],axis = 0))\n",
    "\n",
    "\n",
    "print(\"\\n hares, lynxes correlarions: \", np.corrcoef(shift(hares, -np.argmax(hares) + np.argmax(lynxes))[1:], lynxes[1:])[0,1], \"after a time of \", -np.argmax(hares) + np.argmax(lynxes), \"years\")"
   ]
  },
  {
   "cell_type": "code",
   "execution_count": null,
   "metadata": {},
   "outputs": [],
   "source": []
  }
 ],
 "metadata": {
  "kernelspec": {
   "display_name": "Python 3",
   "language": "python",
   "name": "python3"
  },
  "language_info": {
   "codemirror_mode": {
    "name": "ipython",
    "version": 3
   },
   "file_extension": ".py",
   "mimetype": "text/x-python",
   "name": "python",
   "nbconvert_exporter": "python",
   "pygments_lexer": "ipython3",
   "version": "3.7.3"
  }
 },
 "nbformat": 4,
 "nbformat_minor": 2
}
