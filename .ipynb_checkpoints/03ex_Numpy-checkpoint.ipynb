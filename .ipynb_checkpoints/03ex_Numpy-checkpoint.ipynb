{
 "cells": [
  {
   "cell_type": "markdown",
   "metadata": {},
   "source": [
    "### Numpy basics"
   ]
  },
  {
   "cell_type": "markdown",
   "metadata": {},
   "source": [
    "1\\. Find the row, column and overall means for the following matrix:\n",
    "\n",
    "```python\n",
    "m = np.arange(12).reshape((3,4))\n",
    "```"
   ]
  },
  {
   "cell_type": "code",
   "execution_count": 3,
   "metadata": {},
   "outputs": [
    {
     "name": "stdout",
     "output_type": "stream",
     "text": [
      "[[ 0  1  2  3]\n",
      " [ 4  5  6  7]\n",
      " [ 8  9 10 11]]\n",
      "overall mean:  5.5\n",
      "column mean:  [4. 5. 6. 7.]\n",
      "row mean:  [1.5 5.5 9.5]\n"
     ]
    }
   ],
   "source": [
    "import numpy as np\n",
    "m = np.arange(12).reshape((3,4))\n",
    "\n",
    "print(m)\n",
    "print(\"overall mean: \", np.mean(m))   \n",
    "print(\"column mean: \", np.mean(m, axis = 0))   \n",
    "print(\"row mean: \", np.mean(m, axis = 1)) "
   ]
  },
  {
   "cell_type": "markdown",
   "metadata": {},
   "source": [
    "2\\. Find the outer product of the following two vecotrs\n",
    "\n",
    "```python\n",
    "u = np.array([1,3,5,7])\n",
    "v = np.array([2,4,6,8])\n",
    "```\n",
    "\n",
    "Do this in the following ways:\n",
    "\n",
    "   * Using the function outer in numpy\n",
    "   * Using a nested for loop or list comprehension\n",
    "   * Using numpy broadcasting operatoins\n"
   ]
  },
  {
   "cell_type": "code",
   "execution_count": 86,
   "metadata": {},
   "outputs": [
    {
     "name": "stdout",
     "output_type": "stream",
     "text": [
      "[[ 2.  4.  6.  8.]\n",
      " [ 6. 12. 18. 24.]\n",
      " [10. 20. 30. 40.]\n",
      " [14. 28. 42. 56.]]\n",
      "[[ 2.  4.  6.  8.]\n",
      " [ 6. 12. 18. 24.]\n",
      " [10. 20. 30. 40.]\n",
      " [14. 28. 42. 56.]]\n",
      "[[ 2  6 10 14]\n",
      " [ 4 12 20 28]\n",
      " [ 6 18 30 42]\n",
      " [ 8 24 40 56]]\n"
     ]
    }
   ],
   "source": [
    "import numpy as np\n",
    "import copy\n",
    "u = np.array([1,3,5,7])\n",
    "v = np.array([2,4,6,8])\n",
    "\n",
    "o = np.zeros((4,4))\n",
    "print (np.outer(u,v,o))\n",
    "#print (o) #grazie alla riga precedente, il prodotto esterno è stato assegnato ad o\n",
    "\n",
    "o = np.zeros((4,4))\n",
    "for i in range (4):\n",
    "    for j in range (4):\n",
    "        o[i,j]= u[i]*v[j]\n",
    "print (o)\n",
    "\n",
    "w=u.copy()\n",
    "z=v.copy()\n",
    "o = np.zeros((4,4))\n",
    "t=z[:, np.newaxis] * w[np.newaxis,:]\n",
    "o=np.asmatrix(t)\n",
    "print(o)\n"
   ]
  },
  {
   "cell_type": "markdown",
   "metadata": {},
   "source": [
    "3\\. Create a 10 by 6 matrix of random uniform numbers. Set all rows with any entry less than 0.1 to be zero\n",
    "\n",
    "Hint: Use the following numpy functions - np.random.random, np.any as well as Boolean indexing and the axis argument."
   ]
  },
  {
   "cell_type": "code",
   "execution_count": 75,
   "metadata": {},
   "outputs": [
    {
     "name": "stdout",
     "output_type": "stream",
     "text": [
      "[[0.88594794 0.07791236 0.97964616 0.24767146 0.75288472 0.52667564]\n",
      " [0.90755375 0.8840703  0.08926896 0.5173446  0.34362129 0.21229369]\n",
      " [0.36067344 0.27077517 0.76162502 0.4780419  0.09899468 0.27539478]\n",
      " [0.79442731 0.51397031 0.45329481 0.25515125 0.1139766  0.82431305]\n",
      " [0.3177535  0.15230703 0.21497959 0.91211032 0.04311515 0.37595241]\n",
      " [0.31796557 0.35403302 0.93335757 0.3885452  0.89593944 0.14550322]\n",
      " [0.4903603  0.9233404  0.8013113  0.84837182 0.66544598 0.14321914]\n",
      " [0.11609391 0.07739594 0.38291192 0.14642985 0.44785731 0.35552736]\n",
      " [0.43314193 0.80080664 0.35500568 0.0477506  0.8495784  0.62342568]\n",
      " [0.14159893 0.99707981 0.43055091 0.92260123 0.23040647 0.51684848]]\n",
      "[[0.         0.         0.         0.         0.         0.        ]\n",
      " [0.         0.         0.         0.         0.         0.        ]\n",
      " [0.         0.         0.         0.         0.         0.        ]\n",
      " [0.79442731 0.         0.         0.         0.         0.82431305]\n",
      " [0.         0.         0.         0.         0.         0.        ]\n",
      " [0.31796557 0.         0.         0.         0.         0.14550322]\n",
      " [0.4903603  0.         0.         0.         0.         0.14321914]\n",
      " [0.         0.         0.         0.         0.         0.        ]\n",
      " [0.         0.         0.         0.         0.         0.        ]\n",
      " [0.14159893 0.         0.         0.         0.         0.51684848]]\n"
     ]
    }
   ],
   "source": [
    "import numpy as np\n",
    "import numpy.random as npr\n",
    "npr.seed(321)\n",
    "a=npr.rand(10,6)\n",
    "print(a)\n",
    "mask = (a <= 0.1) \n",
    "a[np.ix_(*np.where(np.any(mask, axis=1))),:] = 0\n",
    "a[:,np.ix_(*np.where(np.any(mask, axis=0)))] = 0\n",
    "print(a)"
   ]
  },
  {
   "cell_type": "markdown",
   "metadata": {},
   "source": [
    "4\\. Use np.linspace to create an array of 100 numbers between 0 and 2π (includsive).\n",
    "\n",
    "  * Extract every 10th element using slice notation\n",
    "  * Reverse the array using slice notation\n",
    "  * Extract elements where the absolute difference between the sine and cosine functions evaluated at that element is less than 0.1\n",
    "  * Make a plot showing the sin and cos functions and indicate where they are close"
   ]
  },
  {
   "cell_type": "code",
   "execution_count": 98,
   "metadata": {},
   "outputs": [
    {
     "name": "stdout",
     "output_type": "stream",
     "text": [
      "[0.76159822 0.82506474 3.87145761 3.93492413]\n"
     ]
    },
    {
     "data": {
      "image/png": "[encoded data removed]",
      "text/plain": [
       "<Figure size 432x288 with 1 Axes>"
      ]
     },
     "metadata": {
      "needs_background": "light"
     },
     "output_type": "display_data"
    }
   ],
   "source": [
    "import numpy as np\n",
    "a=np.linspace(0, 2*np.pi, 100)\n",
    "#print (a[0:99:10])\n",
    "#print (a[::-1])\n",
    "mask = (np.abs(np.sin(a)-np.cos(a))<=0.1) #ha true dove è vero\n",
    "b=a[mask]\n",
    "print(b)\n",
    "\n",
    "import matplotlib.pyplot as plt\n",
    "plt.plot(a, np.sin(a), 'b', label='sin')\n",
    "plt.plot(a, np.cos(a), 'r', label='cos')\n",
    "plt.legend()\n",
    "plt.show()"
   ]
  },
  {
   "cell_type": "markdown",
   "metadata": {},
   "source": [
    "5\\. Create a matrix that shows the 10 by 10 multiplication table.\n",
    "\n",
    " * Find the trace of the matrix\n",
    " * Extract the anto-diagonal (this should be ```array([10, 18, 24, 28, 30, 30, 28, 24, 18, 10])```)\n",
    " * Extract the diagnoal offset by 1 upwards (this should be ```array([ 2,  6, 12, 20, 30, 42, 56, 72, 90])```)"
   ]
  },
  {
   "cell_type": "code",
   "execution_count": 105,
   "metadata": {},
   "outputs": [
    {
     "name": "stdout",
     "output_type": "stream",
     "text": [
      "385\n",
      "[10 18 24 28 30 30 28 24 18 10]\n",
      "[ 2  6 12 20 30 42 56 72 90]\n"
     ]
    }
   ],
   "source": [
    "x = range(1,11) \n",
    "y = range(1,11)\n",
    "\n",
    "mult_table = [[i*j for j in y] for i in x]\n",
    "a=np.array(mult_table)\n",
    "print(np.trace(a))\n",
    "\n",
    "def anti_diagonal(arr):\n",
    "    return np.fliplr(arr).diagonal()\n",
    "\n",
    "print (anti_diagonal(a))\n",
    "print(np.diagonal(a, offset=1, axis1=0, axis2=1))"
   ]
  },
  {
   "cell_type": "markdown",
   "metadata": {},
   "source": [
    "6\\. Use broadcasting to create a grid of distances\n",
    "\n",
    "Route 66 crosses the following cities in the US: Chicago, Springfield, Saint-Louis, Tulsa, Oklahoma City, Amarillo, Santa Fe, Albuquerque, Flagstaff, Los Angeles\n",
    "The corresponding positions in miles are: 0, 198, 303, 736, 871, 1175, 1475, 1544, 1913, 2448\n",
    "\n",
    "  * Construct a 2D grid of distances among each city along Route 66\n",
    "  * Convert that in km (those savages...)"
   ]
  },
  {
   "cell_type": "code",
   "execution_count": 123,
   "metadata": {},
   "outputs": [
    {
     "name": "stdout",
     "output_type": "stream",
     "text": [
      "[[[   0  198  303  736  871 1175 1475 1544 1913 2448]\n",
      "  [ 198    0  105  538  673  977 1277 1346 1715 2250]\n",
      "  [ 303  105    0  433  568  872 1172 1241 1610 2145]\n",
      "  [ 736  538  433    0  135  439  739  808 1177 1712]\n",
      "  [ 871  673  568  135    0  304  604  673 1042 1577]\n",
      "  [1175  977  872  439  304    0  300  369  738 1273]\n",
      "  [1475 1277 1172  739  604  300    0   69  438  973]\n",
      "  [1544 1346 1241  808  673  369   69    0  369  904]\n",
      "  [1913 1715 1610 1177 1042  738  438  369    0  535]\n",
      "  [2448 2250 2145 1712 1577 1273  973  904  535    0]]]\n",
      "[[[   0.      318.6414  487.6179 1184.4448 1401.7003 1890.9275 2373.7175\n",
      "   2484.7592 3078.5909 3939.5664]\n",
      "  [ 318.6414    0.      168.9765  865.8034 1083.0589 1572.2861 2055.0761\n",
      "   2166.1178 2759.9495 3620.925 ]\n",
      "  [ 487.6179  168.9765    0.      696.8269  914.0824 1403.3096 1886.0996\n",
      "   1997.1413 2590.973  3451.9485]\n",
      "  [1184.4448  865.8034  696.8269    0.      217.2555  706.4827 1189.2727\n",
      "   1300.3144 1894.1461 2755.1216]\n",
      "  [1401.7003 1083.0589  914.0824  217.2555    0.      489.2272  972.0172\n",
      "   1083.0589 1676.8906 2537.8661]\n",
      "  [1890.9275 1572.2861 1403.3096  706.4827  489.2272    0.      482.79\n",
      "    593.8317 1187.6634 2048.6389]\n",
      "  [2373.7175 2055.0761 1886.0996 1189.2727  972.0172  482.79      0.\n",
      "    111.0417  704.8734 1565.8489]\n",
      "  [2484.7592 2166.1178 1997.1413 1300.3144 1083.0589  593.8317  111.0417\n",
      "      0.      593.8317 1454.8072]\n",
      "  [3078.5909 2759.9495 2590.973  1894.1461 1676.8906 1187.6634  704.8734\n",
      "    593.8317    0.      860.9755]\n",
      "  [3939.5664 3620.925  3451.9485 2755.1216 2537.8661 2048.6389 1565.8489\n",
      "   1454.8072  860.9755    0.    ]]]\n"
     ]
    }
   ],
   "source": [
    "import numpy as np\n",
    "xval=np.array([0, 198, 303, 736, 871, 1175, 1475, 1544, 1913, 2448])\n",
    "yval=np.array([0, 198, 303, 736, 871, 1175, 1475, 1544, 1913, 2448])\n",
    "d=np.abs([xval[:, np.newaxis] - yval[np.newaxis, :]])\n",
    "#non riuscivo ad interpretare meglio \"grid of distances\"\n",
    "print(d)\n",
    "print(np.dot(d, 1.6093))"
   ]
  },
  {
   "cell_type": "markdown",
   "metadata": {},
   "source": [
    "7\\. Prime numbers sieve: compute the prime numbers in the 0-N (N=99 to start with) range with a sieve (mask).\n",
    "  * Constract a shape (100,) boolean array, the mask\n",
    "  * Identify the multiples of each number starting from 2 and set accordingly the corresponding mask element\n",
    "  * Apply the mask to obtain an array of ordered prime numbers\n",
    "  * Check the performances (timeit); how does it scale with N?\n",
    "  * Implement the optimization suggested in the [sieve of Eratosthenes](https://en.wikipedia.org/wiki/Sieve_of_Eratosthenes)"
   ]
  },
  {
   "cell_type": "markdown",
   "metadata": {},
   "source": [
    "8\\. Diffusion using random walk\n",
    "\n",
    "Consider a simple random walk process: at each step in time, a walker jumps right or left (+1 or -1) with equal probability. The goal is to find the typical distance from the origin of a random walker after a given amount of time. \n",
    "To do that, let's simulate many walkers and create a 2D array with each walker as a raw and the actual time evolution as columns\n",
    "\n",
    "  * Take 1000 walkers and let them walk for 200 steps\n",
    "  * Use randint to create a 2D array of size walkers x steps with values -1 or 1\n",
    "  * Build the actual walking distances for each walker (i.e. another 2D array \"summing on each raw\")\n",
    "  * Take the square of that 2D array (elementwise)\n",
    "  * Compute the mean of the squared distances at each step (i.e. the mean along the columns)\n",
    "  * Plot the average distances (sqrt(distance\\*\\*2)) as a function of time (step)\n",
    "  \n",
    "Did you get what you expected?"
   ]
  },
  {
   "cell_type": "markdown",
   "metadata": {},
   "source": [
    "9\\. Analyze a data file \n",
    "  * Download the population of hares, lynxes and carrots at the beginning of the last century.\n",
    "    ```python\n",
    "    ! wget https://www.dropbox.com/s/3vigxoqayo389uc/populations.txt\n",
    "    ```\n",
    "\n",
    "  * Check the content by looking within the file\n",
    "  * Load the data (use an appropriate numpy method) into a 2D array\n",
    "  * Create arrays out of the columns, the arrays being (in order): *year*, *hares*, *lynxes*, *carrots* \n",
    "  * Plot the 3 populations over the years\n",
    "  * Compute the main statistical properties of the dataset (mean, std, correlations, etc.)\n",
    "  * Which species has the highest population each year?\n",
    "\n",
    "Do you feel there is some evident correlation here? [Studies](https://www.enr.gov.nt.ca/en/services/lynx/lynx-snowshoe-hare-cycle) tend to believe so."
   ]
  },
  {
   "cell_type": "code",
   "execution_count": null,
   "metadata": {},
   "outputs": [],
   "source": []
  }
 ],
 "metadata": {
  "kernelspec": {
   "display_name": "Python 3",
   "language": "python",
   "name": "python3"
  },
  "language_info": {
   "codemirror_mode": {
    "name": "ipython",
    "version": 3
   },
   "file_extension": ".py",
   "mimetype": "text/x-python",
   "name": "python",
   "nbconvert_exporter": "python",
   "pygments_lexer": "ipython3",
   "version": "3.8.3"
  }
 },
 "nbformat": 4,
 "nbformat_minor": 4
}
