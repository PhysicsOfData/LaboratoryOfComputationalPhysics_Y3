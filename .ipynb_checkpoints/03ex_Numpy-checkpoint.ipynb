{
 "cells": [
  {
   "cell_type": "markdown",
   "metadata": {},
   "source": [
    "### Numpy basics"
   ]
  },
  {
   "cell_type": "markdown",
   "metadata": {},
   "source": [
    "1\\. Find the row, column and overall means for the following matrix:\n",
    "\n",
    "```python\n",
    "m = np.arange(12).reshape((3,4))\n",
    "```"
   ]
  },
  {
   "cell_type": "code",
   "execution_count": 47,
   "metadata": {},
   "outputs": [
    {
     "name": "stdout",
     "output_type": "stream",
     "text": [
      "[[ 0  1  2  3]\n",
      " [ 4  5  6  7]\n",
      " [ 8  9 10 11]] \n",
      "\n",
      "Row: [1.5 5.5 9.5]\n",
      "Column: [4. 5. 6. 7.]\n",
      "Overall: 5.5\n"
     ]
    }
   ],
   "source": [
    "import numpy as np\n",
    "\n",
    "m = np.arange(12).reshape((3,4))\n",
    "print(m, \"\\n\") #the initial matix\n",
    "\n",
    "print(\"Row: {}\".format(m.mean(1))) #Row mean\n",
    "print(\"Column: {}\".format(m.mean(0))) #Column mean\n",
    "print(\"Overall: {}\".format(m.mean())) #Overall matrix mean"
   ]
  },
  {
   "cell_type": "raw",
   "metadata": {},
   "source": [
    "2. Find the outer product of the following two vecotrs\n",
    "\n",
    "u = np.array([1,3,5,7])\n",
    "v = np.array([2,4,6,8])\n",
    "\n",
    "Do this in the following ways:\n",
    "\n",
    "   * Using the function outer in numpy\n",
    "   * Using a nested for loop or list comprehension\n",
    "   * Using numpy broadcasting operatoins\n"
   ]
  },
  {
   "cell_type": "code",
   "execution_count": 45,
   "metadata": {},
   "outputs": [
    {
     "name": "stdout",
     "output_type": "stream",
     "text": [
      "\n",
      " Outer: \n",
      " [[ 2  4  6  8]\n",
      " [ 6 12 18 24]\n",
      " [10 20 30 40]\n",
      " [14 28 42 56]]\n",
      "\n",
      " List comprehension: \n",
      " [[ 2  4  6  8]\n",
      " [ 6 12 18 24]\n",
      " [10 20 30 40]\n",
      " [14 28 42 56]]\n",
      "\n",
      " Numpy: \n",
      " [[ 2  4  6  8]\n",
      " [ 6 12 18 24]\n",
      " [10 20 30 40]\n",
      " [14 28 42 56]]\n"
     ]
    }
   ],
   "source": [
    "import numpy as np\n",
    "\n",
    "u = np.array([1,3,5,7])\n",
    "v = np.array([2,4,6,8])\n",
    "\n",
    "print(\"\\n\", \"Outer: \\n {}\".format(np.outer(u,v)))\n",
    "print(\"\\n\", \"List comprehension: \\n {}\".format(np.array([i*j for i in u for j in v]).reshape(4,4)))\n",
    "print(\"\\n\", \"Numpy: \\n {}\".format(u[:,None]*v))"
   ]
  },
  {
   "cell_type": "markdown",
   "metadata": {},
   "source": [
    "3\\. Create a 10 by 6 matrix of random uniform numbers. Set all rows with any entry less than 0.1 to be zero\n",
    "\n",
    "Hint: Use the following numpy functions - np.random.random, np.any as well as Boolean indexing and the axis argument."
   ]
  },
  {
   "cell_type": "code",
   "execution_count": 44,
   "metadata": {},
   "outputs": [
    {
     "name": "stdout",
     "output_type": "stream",
     "text": [
      "The 10x6 matrix of random uniform numbers is: \n",
      " [0.53975402 0.16983082 0.4458854  0.         0.37113886 0.\n",
      " 0.86569911 0.997894   0.9468496  0.85577759 0.19582418 0.27107823\n",
      " 0.39810585 0.56944617 0.95285482 0.93965851 0.80375991 0.44415214\n",
      " 0.67303693 0.1927914  0.67905074 0.77955332 0.         0.10585996\n",
      " 0.2540176  0.67472645 0.19395925 0.5421023  0.85081138 0.49909567\n",
      " 0.33344372 0.         0.71250222 0.15677647 0.29383847 0.39908033\n",
      " 0.         0.4657968  0.18250679 0.1272866  0.75296019 0.56985838\n",
      " 0.70349325 0.35129375 0.69104033 0.13268425 0.90267939 0.41342303\n",
      " 0.38146304 0.7764276  0.63998171 0.12288959 0.11894693 0.94786038\n",
      " 0.6830618  0.50071267 0.95958404 0.31705471 0.3684166  0.78415991]\n"
     ]
    }
   ],
   "source": [
    "import numpy as np\n",
    "\n",
    "m = np.random.random(60)\n",
    "m.reshape(10,6)           \n",
    "m[m<0.1]=0 \n",
    "\n",
    "print(\"The 10x6 matrix of random uniform numbers is: \\n {}\".format(m))"
   ]
  },
  {
   "cell_type": "raw",
   "metadata": {},
   "source": [
    "4. Use np.linspace to create an array of 100 numbers between 0 and 2π (includsive).\n",
    "\n",
    "  * Extract every 10th element using slice notation\n",
    "  * Reverse the array using slice notation\n",
    "  * Extract elements where the absolute difference between the sine and cosine functions evaluated at that element is less than 0.1\n",
    "  * Make a plot showing the sin and cos functions and indicate where they are close"
   ]
  },
  {
   "cell_type": "code",
   "execution_count": 43,
   "metadata": {},
   "outputs": [
    {
     "name": "stdout",
     "output_type": "stream",
     "text": [
      "Initial linspace: \n",
      " [0.         0.06346652 0.12693304 0.19039955 0.25386607 0.31733259\n",
      " 0.38079911 0.44426563 0.50773215 0.57119866 0.63466518 0.6981317\n",
      " 0.76159822 0.82506474 0.88853126 0.95199777 1.01546429 1.07893081\n",
      " 1.14239733 1.20586385 1.26933037 1.33279688 1.3962634  1.45972992\n",
      " 1.52319644 1.58666296 1.65012947 1.71359599 1.77706251 1.84052903\n",
      " 1.90399555 1.96746207 2.03092858 2.0943951  2.15786162 2.22132814\n",
      " 2.28479466 2.34826118 2.41172769 2.47519421 2.53866073 2.60212725\n",
      " 2.66559377 2.72906028 2.7925268  2.85599332 2.91945984 2.98292636\n",
      " 3.04639288 3.10985939 3.17332591 3.23679243 3.30025895 3.36372547\n",
      " 3.42719199 3.4906585  3.55412502 3.61759154 3.68105806 3.74452458\n",
      " 3.8079911  3.87145761 3.93492413 3.99839065 4.06185717 4.12532369\n",
      " 4.1887902  4.25225672 4.31572324 4.37918976 4.44265628 4.5061228\n",
      " 4.56958931 4.63305583 4.69652235 4.75998887 4.82345539 4.88692191\n",
      " 4.95038842 5.01385494 5.07732146 5.14078798 5.2042545  5.26772102\n",
      " 5.33118753 5.39465405 5.45812057 5.52158709 5.58505361 5.64852012\n",
      " 5.71198664 5.77545316 5.83891968 5.9023862  5.96585272 6.02931923\n",
      " 6.09278575 6.15625227 6.21971879 6.28318531] \n",
      "\n",
      "Extracted elements: \n",
      " [0.         0.63466518 1.26933037 1.90399555 2.53866073 3.17332591\n",
      " 3.8079911  4.44265628 5.07732146 5.71198664] \n",
      "\n",
      "Reversed linspace: \n",
      " [6.28318531 6.21971879 6.15625227 6.09278575 6.02931923 5.96585272\n",
      " 5.9023862  5.83891968 5.77545316 5.71198664 5.64852012 5.58505361\n",
      " 5.52158709 5.45812057 5.39465405 5.33118753 5.26772102 5.2042545\n",
      " 5.14078798 5.07732146 5.01385494 4.95038842 4.88692191 4.82345539\n",
      " 4.75998887 4.69652235 4.63305583 4.56958931 4.5061228  4.44265628\n",
      " 4.37918976 4.31572324 4.25225672 4.1887902  4.12532369 4.06185717\n",
      " 3.99839065 3.93492413 3.87145761 3.8079911  3.74452458 3.68105806\n",
      " 3.61759154 3.55412502 3.4906585  3.42719199 3.36372547 3.30025895\n",
      " 3.23679243 3.17332591 3.10985939 3.04639288 2.98292636 2.91945984\n",
      " 2.85599332 2.7925268  2.72906028 2.66559377 2.60212725 2.53866073\n",
      " 2.47519421 2.41172769 2.34826118 2.28479466 2.22132814 2.15786162\n",
      " 2.0943951  2.03092858 1.96746207 1.90399555 1.84052903 1.77706251\n",
      " 1.71359599 1.65012947 1.58666296 1.52319644 1.45972992 1.3962634\n",
      " 1.33279688 1.26933037 1.20586385 1.14239733 1.07893081 1.01546429\n",
      " 0.95199777 0.88853126 0.82506474 0.76159822 0.6981317  0.63466518\n",
      " 0.57119866 0.50773215 0.44426563 0.38079911 0.31733259 0.25386607\n",
      " 0.19039955 0.12693304 0.06346652 0.        ]\n",
      "\n",
      "Elements where diff < 0.1: \n",
      " [0.76159822 0.82506474 3.87145761 3.93492413] \n",
      "\n"
     ]
    },
    {
     "data": {
      "image/png": "[encoded data removed]",
      "text/plain": [
       "<Figure size 432x288 with 1 Axes>"
      ]
     },
     "metadata": {
      "needs_background": "light"
     },
     "output_type": "display_data"
    }
   ],
   "source": [
    "import math\n",
    "import matplotlib.pyplot as plt\n",
    "\n",
    "linspace = np.linspace(0, 2*math.pi, num=100, endpoint=True)\n",
    "print(\"Initial linspace: \\n {} \\n\".format(linspace))\n",
    "\n",
    "extracted = linspace[::10]\n",
    "print(\"Extracted elements: \\n {} \\n\".format(extracted))\n",
    "\n",
    "reverse = linspace[::-1]\n",
    "print(\"Reversed linspace: \\n {}\\n\".format(reverse))\n",
    "\n",
    "extracted = linspace[np.where(abs(np.sin(linspace)-np.cos(linspace))<0.1)]\n",
    "print(\"Elements where diff < 0.1: \\n {} \\n\".format(extracted))\n",
    "\n",
    "\n",
    "%matplotlib inline \n",
    "x = np.sin(linspace) \n",
    "y = np.cos(linspace)\n",
    "plt.plot(linspace, x,\"m-\") \n",
    "plt.plot(linspace, y,\"c-\")\n",
    "\n",
    "index = np.argwhere(abs(x-y)<0.1).flatten()\n",
    "plt.plot(linspace[index], x[index], \"bo\")\n",
    "plt.plot(linspace[index], y[index], \"bo\")\n",
    "plt.legend([\"Sin\",\"Cos\",\"Points where Sin and Cos are close\"])\n",
    "plt.show()"
   ]
  },
  {
   "cell_type": "markdown",
   "metadata": {},
   "source": [
    "5\\. Create a matrix that shows the 10 by 10 multiplication table.\n",
    "\n",
    " * Find the trace of the matrix\n",
    " * Extract the anto-diagonal (this should be ```array([10, 18, 24, 28, 30, 30, 28, 24, 18, 10])```)\n",
    " * Extract the diagnoal offset by 1 upwards (this should be ```array([ 2,  6, 12, 20, 30, 42, 56, 72, 90])```)"
   ]
  },
  {
   "cell_type": "code",
   "execution_count": 50,
   "metadata": {},
   "outputs": [
    {
     "name": "stdout",
     "output_type": "stream",
     "text": [
      "The 10x10 multiplication table is: \n",
      " [[  1   2   3   4   5   6   7   8   9  10]\n",
      " [  2   4   6   8  10  12  14  16  18  20]\n",
      " [  3   6   9  12  15  18  21  24  27  30]\n",
      " [  4   8  12  16  20  24  28  32  36  40]\n",
      " [  5  10  15  20  25  30  35  40  45  50]\n",
      " [  6  12  18  24  30  36  42  48  54  60]\n",
      " [  7  14  21  28  35  42  49  56  63  70]\n",
      " [  8  16  24  32  40  48  56  64  72  80]\n",
      " [  9  18  27  36  45  54  63  72  81  90]\n",
      " [ 10  20  30  40  50  60  70  80  90 100]] \n",
      "\n",
      "The trace of the matrix is: \n",
      " 385 \n",
      "\n",
      "Anti diagonal method: \n",
      " [10 18 24 28 30 30 28 24 18 10] \n",
      "\n",
      "Diagonal method with offset: \n",
      " [ 2  6 12 20 30 42 56 72 90 10] \n",
      "\n"
     ]
    }
   ],
   "source": [
    "import numpy as np\n",
    "\n",
    "matrix = np.array([i*j for i in range(1,11) for j in range(1,11)]).reshape(10,10)\n",
    "\n",
    "print(\"The 10x10 multiplication table is: \\n {} \\n\".format(matrix))\n",
    "\n",
    "print(\"The trace of the matrix is: \\n {} \\n\".format(matrix.trace()))\n",
    "\n",
    "print(\"Anti diagonal method: \\n {} \\n\".format(np.diag(matrix[:,::-1]))) \n",
    "\n",
    "print(\"Diagonal method with offset: \\n {} \\n\".format(np.diag(np.roll(matrix, -1, axis=0))))"
   ]
  },
  {
   "cell_type": "markdown",
   "metadata": {},
   "source": [
    "6\\. Use broadcasting to create a grid of distances\n",
    "\n",
    "Route 66 crosses the following cities in the US: Chicago, Springfield, Saint-Louis, Tulsa, Oklahoma City, Amarillo, Santa Fe, Albuquerque, Flagstaff, Los Angeles\n",
    "The corresponding positions in miles are: 0, 198, 303, 736, 871, 1175, 1475, 1544, 1913, 2448\n",
    "\n",
    "  * Construct a 2D grid of distances among each city along Route 66\n",
    "  * Convert that in km (those savages...)"
   ]
  },
  {
   "cell_type": "code",
   "execution_count": 53,
   "metadata": {},
   "outputs": [
    {
     "name": "stdout",
     "output_type": "stream",
     "text": [
      "2D grid of distances among each city along Route 66: \n",
      " [[    0   198   303   736   871  1175  1475  1544  1913  2448]\n",
      " [ -198     0   105   538   673   977  1277  1346  1715  2250]\n",
      " [ -303  -105     0   433   568   872  1172  1241  1610  2145]\n",
      " [ -736  -538  -433     0   135   439   739   808  1177  1712]\n",
      " [ -871  -673  -568  -135     0   304   604   673  1042  1577]\n",
      " [-1175  -977  -872  -439  -304     0   300   369   738  1273]\n",
      " [-1475 -1277 -1172  -739  -604  -300     0    69   438   973]\n",
      " [-1544 -1346 -1241  -808  -673  -369   -69     0   369   904]\n",
      " [-1913 -1715 -1610 -1177 -1042  -738  -438  -369     0   535]\n",
      " [-2448 -2250 -2145 -1712 -1577 -1273  -973  -904  -535     0]] \n",
      "\n",
      "Grid converted in km: \n",
      " [[    0.        318.64932   487.63002  1184.47424  1401.73514  1890.9745\n",
      "   2373.7765   2484.82096  3078.66742  3939.66432]\n",
      " [ -318.64932     0.        168.9807    865.82492  1083.08582  1572.32518\n",
      "   2055.12718  2166.17164  2760.0181   3621.015  ]\n",
      " [ -487.63002  -168.9807      0.        696.84422   914.10512  1403.34448\n",
      "   1886.14648  1997.19094  2591.0374   3452.0343 ]\n",
      " [-1184.47424  -865.82492  -696.84422     0.        217.2609    706.50026\n",
      "   1189.30226  1300.34672  1894.19318  2755.19008]\n",
      " [-1401.73514 -1083.08582  -914.10512  -217.2609      0.        489.23936\n",
      "    972.04136  1083.08582  1676.93228  2537.92918]\n",
      " [-1890.9745  -1572.32518 -1403.34448  -706.50026  -489.23936     0.\n",
      "    482.802     593.84646  1187.69292  2048.68982]\n",
      " [-2373.7765  -2055.12718 -1886.14648 -1189.30226  -972.04136  -482.802\n",
      "      0.        111.04446   704.89092  1565.88782]\n",
      " [-2484.82096 -2166.17164 -1997.19094 -1300.34672 -1083.08582  -593.84646\n",
      "   -111.04446     0.        593.84646  1454.84336]\n",
      " [-3078.66742 -2760.0181  -2591.0374  -1894.19318 -1676.93228 -1187.69292\n",
      "   -704.89092  -593.84646     0.        860.9969 ]\n",
      " [-3939.66432 -3621.015   -3452.0343  -2755.19008 -2537.92918 -2048.68982\n",
      "  -1565.88782 -1454.84336  -860.9969      0.     ]] \n",
      "\n"
     ]
    }
   ],
   "source": [
    "import numpy as np\n",
    "\n",
    "positions = np.array([0, 198, 303, 736, 871, 1175, 1475, 1544, 1913, 2448])\n",
    "grid = positions[None,:]-positions[:,None]\n",
    "print(\"2D grid of distances among each city along Route 66: \\n {} \\n\".format(grid))\n",
    "print(\"Grid converted in km: \\n {} \\n\".format(grid*1.60934)) #1mile = 1,60934km"
   ]
  },
  {
   "cell_type": "markdown",
   "metadata": {},
   "source": [
    "7\\. Prime numbers sieve: compute the prime numbers in the 0-N (N=99 to start with) range with a sieve (mask).\n",
    "  * Constract a shape (100,) boolean array, the mask\n",
    "  * Identify the multiples of each number starting from 2 and set accordingly the corresponding mask element\n",
    "  * Apply the mask to obtain an array of ordered prime numbers\n",
    "  * Check the performances (timeit); how does it scale with N?\n",
    "  * Implement the optimization suggested in the [sieve of Eratosthenes](https://en.wikipedia.org/wiki/Sieve_of_Eratosthenes)"
   ]
  },
  {
   "cell_type": "code",
   "execution_count": 59,
   "metadata": {},
   "outputs": [
    {
     "name": "stdout",
     "output_type": "stream",
     "text": [
      "583 µs ± 220 µs per loop (mean ± std. dev. of 7 runs, 10 loops each)\n",
      "The slowest run took 6.65 times longer than the fastest. This could mean that an intermediate result is being cached.\n",
      "70.2 µs ± 56.4 µs per loop (mean ± std. dev. of 7 runs, 10 loops each)\n",
      "8.66 ms ± 690 µs per loop (mean ± std. dev. of 7 runs, 10 loops each)\n",
      "371 µs ± 68.2 µs per loop (mean ± std. dev. of 7 runs, 10 loops each)\n",
      "650 ms ± 61.4 ms per loop (mean ± std. dev. of 7 runs, 10 loops each)\n",
      "2.82 ms ± 25.2 µs per loop (mean ± std. dev. of 7 runs, 10 loops each)\n"
     ]
    }
   ],
   "source": [
    "import numpy as np\n",
    "\n",
    "N = 100\n",
    "def impl(N):\n",
    "    mat = np.ones((N-1,), dtype=bool)\n",
    "    numb = np.array([x for x in range(1,N)])\n",
    "    for i in range(2,math.ceil(N/2)):\n",
    "        mat[(numb%i==0) & (numb > i)] = False\n",
    "        \n",
    "\n",
    "def impl2(N):\n",
    "    mat = np.ones((N-1,), dtype=bool)\n",
    "    numb = np.array([x for x in range(1,N)])\n",
    "    \n",
    "    for i in range(2,math.ceil(N**0.5)-1):\n",
    "        if(mat[i]):\n",
    "            for j in range(i**2,N-1):\n",
    "                mat[j] = False\n",
    "    \n",
    "%timeit -n 10 impl(N)\n",
    "%timeit -n 10 impl2(N)\n",
    "%timeit -n 10 impl(N*10)\n",
    "%timeit -n 10 impl2(N*10)\n",
    "%timeit -n 10 impl(N*100)\n",
    "%timeit -n 10 impl2(N*100)"
   ]
  },
  {
   "cell_type": "code",
   "execution_count": 60,
   "metadata": {},
   "outputs": [
    {
     "name": "stdout",
     "output_type": "stream",
     "text": [
      "491 µs ± 102 µs per loop (mean ± std. dev. of 7 runs, 1000 loops each)\n",
      "11.9 ms ± 2.11 ms per loop (mean ± std. dev. of 7 runs, 100 loops each)\n",
      "745 ms ± 77.5 ms per loop (mean ± std. dev. of 7 runs, 1 loop each)\n",
      "55.8 s ± 2.3 s per loop (mean ± std. dev. of 7 runs, 1 loop each)\n"
     ]
    }
   ],
   "source": [
    "def prime(N=99):\n",
    "    prime = np.array(range(N+1))\n",
    "    mask = np.empty((N+1,),dtype=bool)\n",
    "    mask[:] = True\n",
    "\n",
    "    for i in range(2,N+1):\n",
    "        mask2 = (prime[i+1:] % i == 0)\n",
    "        #print(i, prime[i+1:][mask2])\n",
    "        mask[i+1:][mask2] = False   \n",
    "    \n",
    "    return prime[mask]\n",
    "        \n",
    "# performance check (may take a while...)\n",
    "\n",
    "%timeit prime()\n",
    "%timeit prime(999)\n",
    "%timeit prime(9999)\n",
    "%timeit prime(99999)"
   ]
  },
  {
   "cell_type": "markdown",
   "metadata": {},
   "source": [
    "8\\. Diffusion using random walk\n",
    "\n",
    "Consider a simple random walk process: at each step in time, a walker jumps right or left (+1 or -1) with equal probability. The goal is to find the typical distance from the origin of a random walker after a given amount of time. \n",
    "To do that, let's simulate many walkers and create a 2D array with each walker as a raw and the actual time evolution as columns\n",
    "\n",
    "  * Take 1000 walkers and let them walk for 200 steps\n",
    "  * Use randint to create a 2D array of size walkers x steps with values -1 or 1\n",
    "  * Build the actual walking distances for each walker (i.e. another 2D array \"summing on each raw\")\n",
    "  * Take the square of that 2D array (elementwise)\n",
    "  * Compute the mean of the squared distances at each step (i.e. the mean along the columns)\n",
    "  * Plot the average distances (sqrt(distance\\*\\*2)) as a function of time (step)\n",
    "  \n",
    "Did you get what you expected?"
   ]
  },
  {
   "cell_type": "code",
   "execution_count": null,
   "metadata": {},
   "outputs": [],
   "source": []
  },
  {
   "cell_type": "markdown",
   "metadata": {},
   "source": [
    "9\\. Analyze a data file \n",
    "  * Download the population of hares, lynxes and carrots at the beginning of the last century.\n",
    "    ```python\n",
    "    ! wget https://www.dropbox.com/s/3vigxoqayo389uc/populations.txt\n",
    "    ```\n",
    "\n",
    "  * Check the content by looking within the file\n",
    "  * Load the data (use an appropriate numpy method) into a 2D array\n",
    "  * Create arrays out of the columns, the arrays being (in order): *year*, *hares*, *lynxes*, *carrots* \n",
    "  * Plot the 3 populations over the years\n",
    "  * Compute the main statistical properties of the dataset (mean, std, correlations, etc.)\n",
    "  * Which species has the highest population each year?\n",
    "\n",
    "Do you feel there is some evident correlation here? [Studies](https://www.enr.gov.nt.ca/en/services/lynx/lynx-snowshoe-hare-cycle) tend to believe so."
   ]
  },
  {
   "cell_type": "code",
   "execution_count": null,
   "metadata": {},
   "outputs": [],
   "source": []
  },
  {
   "cell_type": "code",
   "execution_count": null,
   "metadata": {},
   "outputs": [],
   "source": []
  }
 ],
 "metadata": {
  "kernelspec": {
   "display_name": "Python 3",
   "language": "python",
   "name": "python3"
  },
  "language_info": {
   "codemirror_mode": {
    "name": "ipython",
    "version": 3
   },
   "file_extension": ".py",
   "mimetype": "text/x-python",
   "name": "python",
   "nbconvert_exporter": "python",
   "pygments_lexer": "ipython3",
   "version": "3.8.3"
  }
 },
 "nbformat": 4,
 "nbformat_minor": 4
}
