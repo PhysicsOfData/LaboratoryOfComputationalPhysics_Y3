{
 "cells": [
  {
   "cell_type": "markdown",
   "metadata": {},
   "source": [
    "### Numpy basics"
   ]
  },
  {
   "cell_type": "markdown",
   "metadata": {},
   "source": [
    "1\\. Find the row, column and overall means for the following matrix:\n",
    "\n",
    "```python\n",
    "m = np.arange(12).reshape((3,4))\n",
    "```"
   ]
  },
  {
   "cell_type": "code",
   "execution_count": 1,
   "metadata": {},
   "outputs": [
    {
     "name": "stdout",
     "output_type": "stream",
     "text": [
      "The initial matrix m is:\n",
      " [[ 0  1  2  3]\n",
      " [ 4  5  6  7]\n",
      " [ 8  9 10 11]] \n",
      "\n",
      "Row mean: [1.5 5.5 9.5]\n",
      "Column mean: [4. 5. 6. 7.]\n",
      "Overall matrix mean: 5.5\n"
     ]
    }
   ],
   "source": [
    "import numpy as np\n",
    "\n",
    "m = np.arange(12).reshape((3,4))\n",
    "\n",
    "print(\"The initial matrix m is:\\n\", m, \"\\n\")\n",
    "\n",
    "print(\"Row mean: {}\".format(m.mean(1)))\n",
    "print(\"Column mean: {}\".format(m.mean(0)))\n",
    "print(\"Overall matrix mean: {}\".format(m.mean()))"
   ]
  },
  {
   "cell_type": "markdown",
   "metadata": {},
   "source": [
    "2\\. Find the outer product of the following two vecotrs\n",
    "\n",
    "```python\n",
    "u = np.array([1,3,5,7])\n",
    "v = np.array([2,4,6,8])\n",
    "```\n",
    "\n",
    "Do this in the following ways:\n",
    "\n",
    "   * Using the function outer in numpy\n",
    "   * Using a nested for loop or list comprehension\n",
    "   * Using numpy broadcasting operatoins\n"
   ]
  },
  {
   "cell_type": "code",
   "execution_count": 2,
   "metadata": {},
   "outputs": [
    {
     "name": "stdout",
     "output_type": "stream",
     "text": [
      "\n",
      " Outer: \n",
      " [[ 2  4  6  8]\n",
      " [ 6 12 18 24]\n",
      " [10 20 30 40]\n",
      " [14 28 42 56]]\n",
      "\n",
      " List comprehension: \n",
      " [[ 2  4  6  8]\n",
      " [ 6 12 18 24]\n",
      " [10 20 30 40]\n",
      " [14 28 42 56]]\n",
      "\n",
      " Numpy: \n",
      " [[ 2  4  6  8]\n",
      " [ 6 12 18 24]\n",
      " [10 20 30 40]\n",
      " [14 28 42 56]]\n"
     ]
    }
   ],
   "source": [
    "import numpy as np\n",
    "\n",
    "u = np.array([1,3,5,7])\n",
    "v = np.array([2,4,6,8])\n",
    "\n",
    "print(\"\\n\", \"Outer: \\n {}\".format(np.outer(u,v)))\n",
    "print(\"\\n\", \"List comprehension: \\n {}\".format(np.array([i*j for i in u for j in v]).reshape(4,4)))\n",
    "print(\"\\n\", \"Numpy: \\n {}\".format(u[:,None]*v))"
   ]
  },
  {
   "cell_type": "markdown",
   "metadata": {},
   "source": [
    "3\\. Create a 10 by 6 matrix of random uniform numbers. Set all rows with any entry less than 0.1 to be zero\n",
    "\n",
    "Hint: Use the following numpy functions - np.random.random, np.any as well as Boolean indexing and the axis argument."
   ]
  },
  {
   "cell_type": "code",
   "execution_count": 10,
   "metadata": {},
   "outputs": [
    {
     "name": "stdout",
     "output_type": "stream",
     "text": [
      "[[0.37293115 0.14722745 0.24805632 0.76772629 0.11322996 0.80968689]\n",
      " [0.63588721 0.26347171 0.01364162 0.87355585 0.97307705 0.30541809]\n",
      " [0.20452019 0.75037167 0.76498591 0.32874676 0.60065153 0.75658111]\n",
      " [0.84242583 0.98656089 0.28635674 0.66624708 0.7840312  0.99535751]\n",
      " [0.52774673 0.40705529 0.47750985 0.53209694 0.1067972  0.68308416]\n",
      " [0.75520749 0.22476181 0.59737249 0.04929218 0.17306224 0.0985381 ]\n",
      " [0.49163728 0.05591673 0.04042445 0.88850096 0.44674878 0.67007478]\n",
      " [0.789497   0.77705814 0.89985324 0.43719243 0.22892297 0.41880281]\n",
      " [0.01141729 0.03058438 0.72597542 0.98056913 0.31737183 0.28714491]\n",
      " [0.28841589 0.75573163 0.39318678 0.38526592 0.1699412  0.10971853]] \n",
      "\n",
      " [False  True False False False  True  True False  True False] \n",
      "\n",
      "[[0.37293115 0.14722745 0.24805632 0.76772629 0.11322996 0.80968689]\n",
      " [0.         0.         0.         0.         0.         0.        ]\n",
      " [0.20452019 0.75037167 0.76498591 0.32874676 0.60065153 0.75658111]\n",
      " [0.84242583 0.98656089 0.28635674 0.66624708 0.7840312  0.99535751]\n",
      " [0.52774673 0.40705529 0.47750985 0.53209694 0.1067972  0.68308416]\n",
      " [0.         0.         0.         0.         0.         0.        ]\n",
      " [0.         0.         0.         0.         0.         0.        ]\n",
      " [0.789497   0.77705814 0.89985324 0.43719243 0.22892297 0.41880281]\n",
      " [0.         0.         0.         0.         0.         0.        ]\n",
      " [0.28841589 0.75573163 0.39318678 0.38526592 0.1699412  0.10971853]]\n"
     ]
    }
   ],
   "source": [
    "import numpy as np\n",
    "\n",
    "mat = np.random.rand(10,6)\n",
    "mask = np.any(mat<=0.1, axis=1) # mask of rows with 1+ element <=0.1\n",
    "\n",
    "print(mat,\"\\n\\n\",mask,\"\\n\")\n",
    "mat[mask] = 0 \n",
    "print(mat)"
   ]
  },
  {
   "cell_type": "markdown",
   "metadata": {},
   "source": [
    "4\\. Use np.linspace to create an array of 100 numbers between 0 and 2π (includsive).\n",
    "\n",
    "  * Extract every 10th element using slice notation\n",
    "  * Reverse the array using slice notation\n",
    "  * Extract elements where the absolute difference between the sine and cosine functions evaluated at that element is less than 0.1\n",
    "  * Make a plot showing the sin and cos functions and indicate where they are close"
   ]
  },
  {
   "cell_type": "code",
   "execution_count": 4,
   "metadata": {},
   "outputs": [
    {
     "name": "stdout",
     "output_type": "stream",
     "text": [
      "The 10x6 matrix of random uniform numbers is: \n",
      " [0.9342863  0.94420678 0.52205894 0.68631566 0.         0.\n",
      " 0.         0.51361118 0.41932531 0.56842046 0.15304785 0.92714605\n",
      " 0.43463261 0.54531854 0.94418889 0.23519003 0.15151305 0.90331006\n",
      " 0.44424845 0.85112431 0.41425719 0.         0.28843173 0.52572369\n",
      " 0.26035258 0.69852502 0.95538293 0.71263033 0.17258493 0.63464765\n",
      " 0.8169464  0.81463793 0.         0.         0.70042957 0.25627512\n",
      " 0.5920824  0.93000583 0.         0.52531507 0.15374339 0.910545\n",
      " 0.8931899  0.11353008 0.62891342 0.         0.5324477  0.23156284\n",
      " 0.         0.1265612  0.6528351  0.25100528 0.37044311 0.69158917\n",
      " 0.36276424 0.8475019  0.         0.17499968 0.69203876 0.78027064] \n",
      "\n",
      "Initial linspace: \n",
      " [0.         0.06346652 0.12693304 0.19039955 0.25386607 0.31733259\n",
      " 0.38079911 0.44426563 0.50773215 0.57119866 0.63466518 0.6981317\n",
      " 0.76159822 0.82506474 0.88853126 0.95199777 1.01546429 1.07893081\n",
      " 1.14239733 1.20586385 1.26933037 1.33279688 1.3962634  1.45972992\n",
      " 1.52319644 1.58666296 1.65012947 1.71359599 1.77706251 1.84052903\n",
      " 1.90399555 1.96746207 2.03092858 2.0943951  2.15786162 2.22132814\n",
      " 2.28479466 2.34826118 2.41172769 2.47519421 2.53866073 2.60212725\n",
      " 2.66559377 2.72906028 2.7925268  2.85599332 2.91945984 2.98292636\n",
      " 3.04639288 3.10985939 3.17332591 3.23679243 3.30025895 3.36372547\n",
      " 3.42719199 3.4906585  3.55412502 3.61759154 3.68105806 3.74452458\n",
      " 3.8079911  3.87145761 3.93492413 3.99839065 4.06185717 4.12532369\n",
      " 4.1887902  4.25225672 4.31572324 4.37918976 4.44265628 4.5061228\n",
      " 4.56958931 4.63305583 4.69652235 4.75998887 4.82345539 4.88692191\n",
      " 4.95038842 5.01385494 5.07732146 5.14078798 5.2042545  5.26772102\n",
      " 5.33118753 5.39465405 5.45812057 5.52158709 5.58505361 5.64852012\n",
      " 5.71198664 5.77545316 5.83891968 5.9023862  5.96585272 6.02931923\n",
      " 6.09278575 6.15625227 6.21971879 6.28318531] \n",
      "\n",
      "Extracted elements: \n",
      " [0.         0.63466518 1.26933037 1.90399555 2.53866073 3.17332591\n",
      " 3.8079911  4.44265628 5.07732146 5.71198664] \n",
      "\n",
      "Reversed linspace: \n",
      " [6.28318531 6.21971879 6.15625227 6.09278575 6.02931923 5.96585272\n",
      " 5.9023862  5.83891968 5.77545316 5.71198664 5.64852012 5.58505361\n",
      " 5.52158709 5.45812057 5.39465405 5.33118753 5.26772102 5.2042545\n",
      " 5.14078798 5.07732146 5.01385494 4.95038842 4.88692191 4.82345539\n",
      " 4.75998887 4.69652235 4.63305583 4.56958931 4.5061228  4.44265628\n",
      " 4.37918976 4.31572324 4.25225672 4.1887902  4.12532369 4.06185717\n",
      " 3.99839065 3.93492413 3.87145761 3.8079911  3.74452458 3.68105806\n",
      " 3.61759154 3.55412502 3.4906585  3.42719199 3.36372547 3.30025895\n",
      " 3.23679243 3.17332591 3.10985939 3.04639288 2.98292636 2.91945984\n",
      " 2.85599332 2.7925268  2.72906028 2.66559377 2.60212725 2.53866073\n",
      " 2.47519421 2.41172769 2.34826118 2.28479466 2.22132814 2.15786162\n",
      " 2.0943951  2.03092858 1.96746207 1.90399555 1.84052903 1.77706251\n",
      " 1.71359599 1.65012947 1.58666296 1.52319644 1.45972992 1.3962634\n",
      " 1.33279688 1.26933037 1.20586385 1.14239733 1.07893081 1.01546429\n",
      " 0.95199777 0.88853126 0.82506474 0.76159822 0.6981317  0.63466518\n",
      " 0.57119866 0.50773215 0.44426563 0.38079911 0.31733259 0.25386607\n",
      " 0.19039955 0.12693304 0.06346652 0.        ]\n",
      "\n",
      "Elements where diff < 0.1: \n",
      " [0.76159822 0.82506474 3.87145761 3.93492413] \n",
      "\n"
     ]
    },
    {
     "data": {
      "image/png": "[encoded data removed]",
      "text/plain": [
       "<Figure size 432x288 with 1 Axes>"
      ]
     },
     "metadata": {
      "needs_background": "light"
     },
     "output_type": "display_data"
    }
   ],
   "source": [
    "import matplotlib.pyplot as plt\n",
    "\n",
    "linspace = np.linspace(0, 2*math.pi, num=100, endpoint=True)\n",
    "print(\"Initial linspace: \\n {} \\n\".format(linspace))\n",
    "\n",
    "extracted = linspace[::10]\n",
    "print(\"Extracted elements: \\n {} \\n\".format(extracted))\n",
    "\n",
    "reverse = linspace[::-1]\n",
    "print(\"Reversed linspace: \\n {}\\n\".format(reverse))\n",
    "\n",
    "extracted = linspace[np.where(abs(np.sin(linspace)-np.cos(linspace))<0.1)]\n",
    "print(\"Elements where diff < 0.1: \\n {} \\n\".format(extracted))\n",
    "\n",
    "\n",
    "%matplotlib inline \n",
    "x = np.sin(linspace) \n",
    "y = np.cos(linspace)\n",
    "plt.plot(linspace, x,\"m-\") \n",
    "plt.plot(linspace, y,\"c-\")\n",
    "\n",
    "index = np.argwhere(abs(x-y)<0.1).flatten()\n",
    "plt.plot(linspace[index], x[index], \"bo\")\n",
    "plt.plot(linspace[index], y[index], \"bo\")\n",
    "plt.legend([\"Sin\",\"Cos\",\"Points where Sin and Cos are close\"])\n",
    "plt.show()"
   ]
  },
  {
   "cell_type": "markdown",
   "metadata": {},
   "source": [
    "5\\. Create a matrix that shows the 10 by 10 multiplication table.\n",
    "\n",
    " * Find the trace of the matrix\n",
    " * Extract the anto-diagonal (this should be ```array([10, 18, 24, 28, 30, 30, 28, 24, 18, 10])```)\n",
    " * Extract the diagnoal offset by 1 upwards (this should be ```array([ 2,  6, 12, 20, 30, 42, 56, 72, 90])```)"
   ]
  },
  {
   "cell_type": "code",
   "execution_count": 5,
   "metadata": {},
   "outputs": [
    {
     "name": "stdout",
     "output_type": "stream",
     "text": [
      "The 10x10 multiplication table is: \n",
      " [[  1   2   3   4   5   6   7   8   9  10]\n",
      " [  2   4   6   8  10  12  14  16  18  20]\n",
      " [  3   6   9  12  15  18  21  24  27  30]\n",
      " [  4   8  12  16  20  24  28  32  36  40]\n",
      " [  5  10  15  20  25  30  35  40  45  50]\n",
      " [  6  12  18  24  30  36  42  48  54  60]\n",
      " [  7  14  21  28  35  42  49  56  63  70]\n",
      " [  8  16  24  32  40  48  56  64  72  80]\n",
      " [  9  18  27  36  45  54  63  72  81  90]\n",
      " [ 10  20  30  40  50  60  70  80  90 100]] \n",
      "\n",
      "The trace of the matrix is: \n",
      " 385 \n",
      "\n",
      "Anti diagonal method: \n",
      " [10 18 24 28 30 30 28 24 18 10] \n",
      "\n",
      "Diagonal method with offset: \n",
      " [ 2  6 12 20 30 42 56 72 90 10] \n",
      "\n"
     ]
    }
   ],
   "source": [
    "import numpy as np\n",
    "\n",
    "matrix = np.array([i*j for i in range(1,11) for j in range(1,11)]).reshape(10,10)\n",
    "\n",
    "print(\"The 10x10 multiplication table is: \\n {} \\n\".format(matrix))\n",
    "\n",
    "print(\"The trace of the matrix is: \\n {} \\n\".format(matrix.trace()))\n",
    "\n",
    "print(\"Anti diagonal method: \\n {} \\n\".format(np.diag(matrix[:,::-1]))) \n",
    "\n",
    "print(\"Diagonal method with offset: \\n {} \\n\".format(np.diag(np.roll(matrix, -1, axis=0))))"
   ]
  },
  {
   "cell_type": "markdown",
   "metadata": {},
   "source": [
    "6\\. Use broadcasting to create a grid of distances\n",
    "\n",
    "Route 66 crosses the following cities in the US: Chicago, Springfield, Saint-Louis, Tulsa, Oklahoma City, Amarillo, Santa Fe, Albuquerque, Flagstaff, Los Angeles\n",
    "The corresponding positions in miles are: 0, 198, 303, 736, 871, 1175, 1475, 1544, 1913, 2448\n",
    "\n",
    "  * Construct a 2D grid of distances among each city along Route 66\n",
    "  * Convert that in km (those savages...)"
   ]
  },
  {
   "cell_type": "code",
   "execution_count": 6,
   "metadata": {},
   "outputs": [
    {
     "name": "stdout",
     "output_type": "stream",
     "text": [
      "2D grid of distances among each city along Route 66: \n",
      " [[   0  198  303  736  871 1175 1475 1544 1913 2448]\n",
      " [ 198    0  105  538  673  977 1277 1346 1715 2250]\n",
      " [ 303  105    0  433  568  872 1172 1241 1610 2145]\n",
      " [ 736  538  433    0  135  439  739  808 1177 1712]\n",
      " [ 871  673  568  135    0  304  604  673 1042 1577]\n",
      " [1175  977  872  439  304    0  300  369  738 1273]\n",
      " [1475 1277 1172  739  604  300    0   69  438  973]\n",
      " [1544 1346 1241  808  673  369   69    0  369  904]\n",
      " [1913 1715 1610 1177 1042  738  438  369    0  535]\n",
      " [2448 2250 2145 1712 1577 1273  973  904  535    0]] \n",
      "\n",
      "Grid converted to km: \n",
      " [[   0.  319.  488. 1184. 1402. 1891. 2374. 2485. 3079. 3940.]\n",
      " [ 319.    0.  169.  866. 1083. 1572. 2055. 2166. 2760. 3621.]\n",
      " [ 488.  169.    0.  697.  914. 1403. 1886. 1997. 2591. 3452.]\n",
      " [1184.  866.  697.    0.  217.  707. 1189. 1300. 1894. 2755.]\n",
      " [1402. 1083.  914.  217.    0.  489.  972. 1083. 1677. 2538.]\n",
      " [1891. 1572. 1403.  707.  489.    0.  483.  594. 1188. 2049.]\n",
      " [2374. 2055. 1886. 1189.  972.  483.    0.  111.  705. 1566.]\n",
      " [2485. 2166. 1997. 1300. 1083.  594.  111.    0.  594. 1455.]\n",
      " [3079. 2760. 2591. 1894. 1677. 1188.  705.  594.    0.  861.]\n",
      " [3940. 3621. 3452. 2755. 2538. 2049. 1566. 1455.  861.    0.]] \n",
      "\n"
     ]
    }
   ],
   "source": [
    "import numpy as np\n",
    "\n",
    "positions = np.array([0, 198, 303, 736, 871, 1175, 1475, 1544, 1913, 2448])\n",
    "grid = np.array([[abs(positions[i]-positions[j]) for i in range(len(positions))] for j in range(len(positions))])\n",
    "print(\"2D grid of distances among each city along Route 66: \\n {} \\n\".format(grid))\n",
    "print(\"Grid converted to km: \\n {} \\n\".format(np.round(grid*1.609344))) #1mile = 1,60934km"
   ]
  },
  {
   "cell_type": "markdown",
   "metadata": {},
   "source": [
    "7\\. Prime numbers sieve: compute the prime numbers in the 0-N (N=99 to start with) range with a sieve (mask).\n",
    "  * Constract a shape (100,) boolean array, the mask\n",
    "  * Identify the multiples of each number starting from 2 and set accordingly the corresponding mask element\n",
    "  * Apply the mask to obtain an array of ordered prime numbers\n",
    "  * Check the performances (timeit); how does it scale with N?\n",
    "  * Implement the optimization suggested in the [sieve of Eratosthenes](https://en.wikipedia.org/wiki/Sieve_of_Eratosthenes)"
   ]
  },
  {
   "cell_type": "code",
   "execution_count": 11,
   "metadata": {},
   "outputs": [
    {
     "name": "stdout",
     "output_type": "stream",
     "text": [
      "The list of prime numbers in the 0-99 range is: \n",
      "[ 1  2  3  5  7 11 13 17 19 23 29 31 37 41 43 47 53 59 61 67 71 73 79 83\n",
      " 89 97]\n",
      "\n",
      "The list of prime numbers in the 0-99 range using the sieve of Eratosthenes algorithm is: \n",
      "[ 1  2  3  5  7 11 13 17 19 23 29 31 37 41 43 47 53 59 61 67 71 73 79 83\n",
      " 89 97]\n",
      "\n",
      "The performances using the first algorithm are:\n",
      "910 µs ± 211 µs per loop (mean ± std. dev. of 7 runs, 10 loops each)\n",
      "\n",
      "The performances using the Eratosthenes algorithm are:\n",
      "283 µs ± 82.7 µs per loop (mean ± std. dev. of 7 runs, 10 loops each)\n",
      "\n",
      "The performances using the first algorithm are:\n",
      "774 µs ± 151 µs per loop (mean ± std. dev. of 7 runs, 100 loops each)\n",
      "\n",
      "The performances using the Eratosthenes algorithm are:\n",
      "246 µs ± 15.1 µs per loop (mean ± std. dev. of 7 runs, 100 loops each)\n"
     ]
    }
   ],
   "source": [
    "def prime():\n",
    "    mask = np.ones((N,), dtype='bool')\n",
    "    nmb = np.arange(N)+1\n",
    "    \n",
    "    for elem in range(2,MAX):\n",
    "        for num in nmb:\n",
    "            if mask[num-1] and num % elem == 0 and num != elem:\n",
    "                mask[num-1] = False\n",
    "    return nmb[mask]\n",
    "\n",
    "def prime_eratosthenes():\n",
    "    mask = np.ones((N,), dtype='bool')\n",
    "    nmb = np.arange(N)+1\n",
    "\n",
    "    for elem in range(2,MAX):\n",
    "        if mask[elem-1]:\n",
    "            array = []\n",
    "            for k in range(N):\n",
    "                val = elem**2 + k*elem\n",
    "                if val < N+1:\n",
    "                    array.append(val)\n",
    "\n",
    "            for j in array:\n",
    "                mask[j-1] = False\n",
    "    return nmb[mask]\n",
    "\n",
    "N = 100\n",
    "MAX = 10 # sqrt(N)\n",
    "print(\"The list of prime numbers in the 0-99 range is: \\n{}\\n\".format(prime()))\n",
    "print(\"The list of prime numbers in the 0-99 range using the sieve of Eratosthenes algorithm is: \\n{}\\n\".format(prime_eratosthenes()))\n",
    "\n",
    "print(\"The performances using the first algorithm are:\")\n",
    "%timeit -n 10 prime()\n",
    "print(\"\\nThe performances using the Eratosthenes algorithm are:\")\n",
    "%timeit -n 10 prime_eratosthenes()\n",
    "print(\"\\nThe performances using the first algorithm are:\")\n",
    "%timeit -n 100 prime()\n",
    "print(\"\\nThe performances using the Eratosthenes algorithm are:\")\n",
    "%timeit -n 100 prime_eratosthenes()"
   ]
  },
  {
   "cell_type": "markdown",
   "metadata": {},
   "source": [
    "8\\. Diffusion using random walk\n",
    "\n",
    "Consider a simple random walk process: at each step in time, a walker jumps right or left (+1 or -1) with equal probability. The goal is to find the typical distance from the origin of a random walker after a given amount of time. \n",
    "To do that, let's simulate many walkers and create a 2D array with each walker as a raw and the actual time evolution as columns\n",
    "\n",
    "  * Take 1000 walkers and let them walk for 200 steps\n",
    "  * Use randint to create a 2D array of size walkers x steps with values -1 or 1\n",
    "  * Build the actual walking distances for each walker (i.e. another 2D array \"summing on each raw\")\n",
    "  * Take the square of that 2D array (elementwise)\n",
    "  * Compute the mean of the squared distances at each step (i.e. the mean along the columns)\n",
    "  * Plot the average distances (sqrt(distance\\*\\*2)) as a function of time (step)\n",
    "  \n",
    "Did you get what you expected?"
   ]
  },
  {
   "cell_type": "code",
   "execution_count": 12,
   "metadata": {},
   "outputs": [
    {
     "name": "stdout",
     "output_type": "stream",
     "text": [
      "The 2D array of size walkers x steps with values -1 or 1 is: \n",
      "[[-1 -1  1 ...  1  1 -1]\n",
      " [ 1 -1 -1 ...  1  1  1]\n",
      " [-1  1 -1 ...  1 -1  1]\n",
      " ...\n",
      " [-1 -1 -1 ...  1 -1  1]\n",
      " [ 1  1 -1 ...  1  1  1]\n",
      " [-1  1 -1 ...  1 -1  1]]\n",
      "\n",
      "\n",
      "Plot of the average distances:\n"
     ]
    },
    {
     "data": {
      "image/png": "[encoded data removed]",
      "text/plain": [
       "<Figure size 432x288 with 1 Axes>"
      ]
     },
     "metadata": {
      "needs_background": "light"
     },
     "output_type": "display_data"
    }
   ],
   "source": [
    "import numpy as np\n",
    "import numpy.random as npr\n",
    "import matplotlib.pyplot as plt\n",
    "\n",
    "npr.seed(100)\n",
    "walkers = np.zeros((1000,200))\n",
    "matrix = np.random.randint(-1,1,size=walkers.shape) \n",
    "matrix[matrix==0]=1\n",
    "\n",
    "print(\"The 2D array of size walkers x steps with values -1 or 1 is: \\n{}\\n\" .format(matrix))\n",
    "\n",
    "sum_ = np.cumsum(matrix, axis=1)\n",
    "squared_sum= sum_**2\n",
    "mean_ = np.mean(squared_sum, axis=0)\n",
    "print(\"\\nPlot of the average distances:\")\n",
    "plt.plot(mean_**0.5, color= 'violet')\n",
    "plt.xlabel(\"Steps of the walkers\")\n",
    "plt.ylabel(\"Average distances\")\n",
    "plt.show()"
   ]
  },
  {
   "cell_type": "markdown",
   "metadata": {},
   "source": [
    "9\\. Analyze a data file \n",
    "  * Download the population of hares, lynxes and carrots at the beginning of the last century.\n",
    "    ```python\n",
    "    ! wget https://www.dropbox.com/s/3vigxoqayo389uc/populations.txt\n",
    "    ```\n",
    "\n",
    "  * Check the content by looking within the file\n",
    "  * Load the data (use an appropriate numpy method) into a 2D array\n",
    "  * Create arrays out of the columns, the arrays being (in order): *year*, *hares*, *lynxes*, *carrots* \n",
    "  * Plot the 3 populations over the years\n",
    "  * Compute the main statistical properties of the dataset (mean, std, correlations, etc.)\n",
    "  * Which species has the highest population each year?\n",
    "\n",
    "Do you feel there is some evident correlation here? [Studies](https://www.enr.gov.nt.ca/en/services/lynx/lynx-snowshoe-hare-cycle) tend to believe so."
   ]
  },
  {
   "cell_type": "code",
   "execution_count": 13,
   "metadata": {},
   "outputs": [
    {
     "name": "stdout",
     "output_type": "stream",
     "text": [
      "Plot of the three populations over the years: \n",
      "\n"
     ]
    },
    {
     "data": {
      "image/png": "[encoded data removed]",
      "text/plain": [
       "<Figure size 432x288 with 1 Axes>"
      ]
     },
     "metadata": {
      "needs_background": "light"
     },
     "output_type": "display_data"
    },
    {
     "name": "stdout",
     "output_type": "stream",
     "text": [
      "\n",
      "\n",
      "The main statistical properties of the dataset are: \n",
      "\n",
      "Hares: \n",
      "mean 34080.95238095238\n",
      "median 25400.0\n",
      "std 20897.906458089667\n",
      "min 7600.0\n",
      "max 77400.0\n",
      "\n",
      "Lyxes:\n",
      "mean 20166.666666666668\n",
      "median 12300.0\n",
      "std 16254.591536908763\n",
      "min 4000.0\n",
      "max 59400.0\n",
      "\n",
      "Carrots:\n",
      "mean 42400.0\n",
      "median 41800.0\n",
      "std 3322.5062255844787\n",
      "min 36700.0\n",
      "max 48300.0\n",
      "\n",
      "The list of the species that have the highest population each year is:\n",
      "\n",
      "In 1900 the max population was made of CARROTS with 48300.0 specimens\n",
      "In 1901 the max population was made of CARROTS with 48200.0 specimens\n",
      "In 1902 the max population was made of HARES with 70200.0 specimens\n",
      "In 1903 the max population was made of HARES with 77400.0 specimens\n",
      "In 1904 the max population was made of LYNXES with 59400.0 specimens\n",
      "In 1905 the max population was made of LYNXES with 41700.0 specimens\n",
      "In 1906 the max population was made of CARROTS with 38600.0 specimens\n",
      "In 1907 the max population was made of CARROTS with 42300.0 specimens\n",
      "In 1908 the max population was made of CARROTS with 44500.0 specimens\n",
      "In 1909 the max population was made of CARROTS with 42100.0 specimens\n",
      "In 1910 the max population was made of CARROTS with 46000.0 specimens\n",
      "In 1911 the max population was made of CARROTS with 46800.0 specimens\n",
      "In 1912 the max population was made of HARES with 57000.0 specimens\n",
      "In 1913 the max population was made of HARES with 76600.0 specimens\n",
      "In 1914 the max population was made of HARES with 52300.0 specimens\n",
      "In 1915 the max population was made of LYNXES with 51100.0 specimens\n",
      "In 1916 the max population was made of CARROTS with 36700.0 specimens\n",
      "In 1917 the max population was made of CARROTS with 41800.0 specimens\n",
      "In 1918 the max population was made of CARROTS with 43300.0 specimens\n",
      "In 1919 the max population was made of CARROTS with 41300.0 specimens\n",
      "In 1920 the max population was made of CARROTS with 47300.0 specimens\n"
     ]
    }
   ],
   "source": [
    "import matplotlib.pyplot as plt\n",
    "import scipy.stats as stats\n",
    "\n",
    "%matplotlib inline \n",
    "\n",
    "data  = np.loadtxt(\"./populations.txt\")\n",
    "\n",
    "year, hares, lynxes, carrots = (data[:,i] for i in range(4))\n",
    "\n",
    "\n",
    "print(\"Plot of the three populations over the years: \\n\")\n",
    "plt.plot(year, hares, label='hares', color= 'violet')\n",
    "plt.plot(year, lynxes, label='lynxes', color= 'cyan')\n",
    "plt.plot(year, carrots, label='carrots', color= 'orange')\n",
    "plt.xlabel(\"years\")\n",
    "plt.ylabel(\"population\")\n",
    "plt.legend()\n",
    "plt.show()\n",
    "\n",
    "print(\"\\n\\nThe main statistical properties of the dataset are: \\n\")\n",
    "print(\"Hares: \")\n",
    "for elem in [\"mean\",\"median\",\"std\", \"min\", \"max\"]:\n",
    "    print (elem, getattr(np, elem)(hares))\n",
    "print(\"\\nLyxes:\")\n",
    "for elem in [\"mean\",\"median\",\"std\", \"min\", \"max\"]:\n",
    "    print (elem, getattr(np, elem)(lynxes))\n",
    "print(\"\\nCarrots:\")\n",
    "for elem in [\"mean\",\"median\",\"std\", \"min\", \"max\"]:\n",
    "    print (elem, getattr(np, elem)(carrots))\n",
    "    \n",
    " \n",
    "print(\"\\nThe list of the species that have the highest population each year is:\\n\")\n",
    "year= data[:,0].astype(int)\n",
    "\n",
    "for i in range(len(year)):\n",
    "    if(max(hares[i],lynxes[i],carrots[i]) == hares[i]):\n",
    "        print (\"In\", year[i] ,\"the max population was made of\",\"HARES with\",hares[i], \"specimens\")\n",
    "    elif(max(hares[i],lynxes[i],carrots[i]) == lynxes[i]):\n",
    "        print (\"In\", year[i] ,\"the max population was made of\", \"LYNXES with\", lynxes[i], \"specimens\")\n",
    "    else:\n",
    "        print (\"In\", year[i] ,\"the max population was made of\", \"CARROTS with\",carrots[i], \"specimens\")"
   ]
  },
  {
   "cell_type": "code",
   "execution_count": null,
   "metadata": {},
   "outputs": [],
   "source": []
  }
 ],
 "metadata": {
  "kernelspec": {
   "display_name": "Python 3",
   "language": "python",
   "name": "python3"
  },
  "language_info": {
   "codemirror_mode": {
    "name": "ipython",
    "version": 3
   },
   "file_extension": ".py",
   "mimetype": "text/x-python",
   "name": "python",
   "nbconvert_exporter": "python",
   "pygments_lexer": "ipython3",
   "version": "3.8.3"
  }
 },
 "nbformat": 4,
 "nbformat_minor": 4
}
