{
 "cells": [
  {
   "cell_type": "markdown",
   "metadata": {},
   "source": [
    "# OSEMN Exercises"
   ]
  },
  {
   "cell_type": "code",
   "execution_count": 2,
   "metadata": {},
   "outputs": [],
   "source": [
    "%matplotlib inline\n",
    "import pandas as pd\n",
    "import numpy as np"
   ]
  },
  {
   "cell_type": "markdown",
   "metadata": {},
   "source": [
    "1\\. Create a random list of number and then save it to a text file named \"simple_data.txt\""
   ]
  },
  {
   "cell_type": "code",
   "execution_count": 5,
   "metadata": {},
   "outputs": [
    {
     "name": "stdout",
     "output_type": "stream",
     "text": [
      "[0.39854191 0.31154305 0.18741439 0.99537524 0.73692958 0.13684449\n",
      " 0.63733883 0.6601196  0.07957561 0.96021911 0.07168542 0.516917\n",
      " 0.39606817 0.24271441 0.87140273 0.98430004 0.87627908 0.85548143\n",
      " 0.28804404 0.55792559 0.12070478 0.61989833 0.03245273 0.88289098\n",
      " 0.95510155 0.96999239 0.88037432 0.6400859  0.93716563 0.34733687\n",
      " 0.24452937 0.52744469 0.99662762 0.97732357 0.90007495 0.00375173\n",
      " 0.16471292 0.53613846 0.95811017 0.10688599 0.36416276 0.16294192\n",
      " 0.64604623 0.4679993  0.62139172 0.8111702  0.99668824 0.80311218\n",
      " 0.34815393 0.28997092 0.50292573 0.80214849 0.58835847 0.99123383\n",
      " 0.15548306 0.64263766 0.59566554 0.48619806 0.39610457 0.03372922\n",
      " 0.66078637 0.24867162 0.65077723 0.15909316 0.16411992 0.7657634\n",
      " 0.62105677 0.66209934 0.96200746 0.72621067 0.11556926 0.58464599\n",
      " 0.60549664 0.3398577  0.319269   0.16180756 0.39441123 0.22400399\n",
      " 0.80179135 0.09761296 0.64802755 0.12259203 0.23635113 0.11091237\n",
      " 0.23699277 0.94537203 0.11421099 0.79775244 0.30267916 0.30387016\n",
      " 0.68856657 0.93765024 0.44896431 0.95080824 0.55683658 0.5391822\n",
      " 0.08463974 0.48783969 0.96744297 0.43739801]\n"
     ]
    }
   ],
   "source": [
    "l=np.random.random(100)\n",
    "print(l)"
   ]
  },
  {
   "cell_type": "markdown",
   "metadata": {},
   "source": [
    "2\\. Create a random matrix of 5x5 and then save it to a text file named \"data.txt\""
   ]
  },
  {
   "cell_type": "markdown",
   "metadata": {},
   "source": [
    "3\\. Load the saved txt file of point 2 and convert it to a csv file (by hand)"
   ]
  },
  {
   "cell_type": "markdown",
   "metadata": {},
   "source": [
    "4\\. load the binary file named *credit_card.dat* and convert the data into the real credit-card number.\n",
    "Each line correspond to a credit card number.\n",
    "Each character is composed by 6 bit (even the space) and the last 4 bit are just a padding\n",
    "\n",
    "**hint**: use the `chr()` function to convert a number to a char"
   ]
  },
  {
   "cell_type": "markdown",
   "metadata": {},
   "source": [
    "5\\. Load the file \"user_data.json\", filter the data by the \"CreditCardType\" field equals to \"American Express\". Than save the data a to CSV."
   ]
  },
  {
   "cell_type": "markdown",
   "metadata": {},
   "source": [
    "6\\. Load the file from this url: [https://www.dropbox.com/s/7u3lm737ogbqsg8/mushrooms_categorized.csv?dl=1](https://www.dropbox.com/s/7u3lm737ogbqsg8/mushrooms_categorized.csv?dl=1) with Pandas. \n",
    "+ Explore the data (see the info of the data)\n",
    "+ Draw the istogram of the 'class' field. Decribe wath yuou see\n"
   ]
  },
  {
   "cell_type": "markdown",
   "metadata": {},
   "source": [
    "7\\. Load the remote file [https://www.dropbox.com/s/vkl89yce7xjdq4n/regression_generated.csv?dl=1](https://www.dropbox.com/s/vkl89yce7xjdq4n/regression_generated.csv?dl=1) with Pandas and plot a scatter plot all possible combination of the following fields:\n",
    "    \n",
    "  + features_1\n",
    "  + features_2\n",
    "  + features_3"
   ]
  },
  {
   "cell_type": "markdown",
   "metadata": {},
   "source": [
    "8\\. Load the same file of point 6, and convert the file to json with Pandas."
   ]
  }
 ],
 "metadata": {
  "kernelspec": {
   "display_name": "Python 3",
   "language": "python",
   "name": "python3"
  },
  "language_info": {
   "codemirror_mode": {
    "name": "ipython",
    "version": 3
   },
   "file_extension": ".py",
   "mimetype": "text/x-python",
   "name": "python",
   "nbconvert_exporter": "python",
   "pygments_lexer": "ipython3",
   "version": "3.8.1"
  }
 },
 "nbformat": 4,
 "nbformat_minor": 2
}
