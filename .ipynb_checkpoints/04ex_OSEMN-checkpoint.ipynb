{
 "cells": [
  {
   "cell_type": "markdown",
   "metadata": {},
   "source": [
    "# OSEMN Exercises"
   ]
  },
  {
   "cell_type": "code",
   "execution_count": 2,
   "metadata": {},
   "outputs": [],
   "source": [
    "%matplotlib inline\n",
    "import pandas as pd\n",
    "import numpy as np"
   ]
  },
  {
   "cell_type": "markdown",
   "metadata": {},
   "source": [
    "1\\. Create a random list of number and then save it to a text file named \"simple_data.txt\""
   ]
  },
  {
   "cell_type": "code",
   "execution_count": 3,
   "metadata": {},
   "outputs": [
    {
     "ename": "SyntaxError",
     "evalue": "(unicode error) 'unicodeescape' codec can't decode bytes in position 0-1: truncated \\UXXXXXXXX escape (<ipython-input-3-b59a609f9c13>, line 5)",
     "output_type": "error",
     "traceback": [
      "\u001b[1;36m  File \u001b[1;32m\"<ipython-input-3-b59a609f9c13>\"\u001b[1;36m, line \u001b[1;32m5\u001b[0m\n\u001b[1;33m    path = '\\Users\\feder\\Desktop\\Magistrale\\HLP\\LaboratoryOfComputationalPhysics_Y3\\simple_data.txt'\u001b[0m\n\u001b[1;37m          ^\u001b[0m\n\u001b[1;31mSyntaxError\u001b[0m\u001b[1;31m:\u001b[0m (unicode error) 'unicodeescape' codec can't decode bytes in position 0-1: truncated \\UXXXXXXXX escape\n"
     ]
    }
   ],
   "source": [
    "import os \n",
    "import random\n",
    "\n",
    "numbers = random.sample(range(0, 100), 20)\n",
    "path = 'Users\\feder\\Desktop\\Magistrale\\HLP\\LaboratoryOfComputationalPhysics_Y3\\simple_data.txt'\n",
    "\n",
    "with open(path, 'w') as file:\n",
    "    file.write(str(numbers))"
   ]
  },
  {
   "cell_type": "markdown",
   "metadata": {},
   "source": [
    "2\\. Create a random matrix of 5x5 and then save it to a text file named \"data.txt\""
   ]
  },
  {
   "cell_type": "code",
   "execution_count": 25,
   "metadata": {},
   "outputs": [],
   "source": [
    "randomArray = np.random.rand(5, 5)\n",
    "pathA = '/Users/carlotta/Documents/Università/LaboratoryOfComputationalPhysics_Y3/data.txt'\n",
    "\n",
    "with open(pathA, 'w') as file:\n",
    "    file.write(str(randomArray))"
   ]
  },
  {
   "cell_type": "markdown",
   "metadata": {},
   "source": [
    "3\\. Load the saved txt file of point 2 and convert it to a csv file (by hand)"
   ]
  },
  {
   "cell_type": "code",
   "execution_count": 35,
   "metadata": {},
   "outputs": [],
   "source": [
    "ranList = open(pathL, 'r')\n",
    "with open(pathA, 'r') as f:\n",
    "    ranArray = f.readlines()\n",
    "path = '/Users/carlotta/Documents/Università/LaboratoryOfComputationalPhysics_Y3/'\n",
    "    \n",
    "lines = [line.replace(' ', '') for line in ranList]\n",
    "with open(path + 'file_data.csv', 'w') as f:\n",
    "    f.writelines(lines)\n",
    "\n",
    "linesA = [line.replace(' ', ',') for line in ranArray]\n",
    "linesA = [line.replace('\\n', '') for line in linesA]\n",
    "with open(path + 'data.csv', 'w') as f:\n",
    "    f.writelines(linesA)\n"
   ]
  },
  {
   "cell_type": "markdown",
   "metadata": {},
   "source": [
    "4\\. load the binary file named *credit_card.dat* and convert the data into the real credit-card number.\n",
    "Each line correspond to a credit card number.\n",
    "Each character is composed by 6 bit (even the space) and the last 4 bit are just a padding\n",
    "\n",
    "**hint**: use the `chr()` function to convert a number to a char"
   ]
  },
  {
   "cell_type": "code",
   "execution_count": 38,
   "metadata": {},
   "outputs": [],
   "source": [
    "with open(path + 'credit_card.dat', 'r') as f:\n",
    "    cc = f.readlines()\n",
    "\n",
    "res = open(path + 'credit_card.txt', 'w')\n",
    "\n",
    "count = 0\n",
    "l = []\n",
    "for ch in cc:\n",
    "    if count == 5:\n",
    "        count = 0\n",
    "        res.write(bin(str(ch)))\n",
    "    elif ch == '\\n':\n",
    "        res.write('\\n')\n",
    "        count = 0\n",
    "    else: \n",
    "        l.append(ch)\n",
    "        "
   ]
  },
  {
   "cell_type": "markdown",
   "metadata": {},
   "source": [
    "5\\. Load the file \"user_data.json\", filter the data by the \"CreditCardType\" field equals to \"American Express\". Than save the data a to CSV."
   ]
  },
  {
   "cell_type": "markdown",
   "metadata": {},
   "source": [
    "6\\. Load the file from this url: [https://www.dropbox.com/s/7u3lm737ogbqsg8/mushrooms_categorized.csv?dl=1](https://www.dropbox.com/s/7u3lm737ogbqsg8/mushrooms_categorized.csv?dl=1) with Pandas. \n",
    "+ Explore the data (see the info of the data)\n",
    "+ Draw the istogram of the 'class' field. Decribe wath yuou see\n"
   ]
  },
  {
   "cell_type": "markdown",
   "metadata": {},
   "source": [
    "7\\. Load the remote file [https://www.dropbox.com/s/vkl89yce7xjdq4n/regression_generated.csv?dl=1](https://www.dropbox.com/s/vkl89yce7xjdq4n/regression_generated.csv?dl=1) with Pandas and plot a scatter plot all possible combination of the following fields:\n",
    "    \n",
    "  + features_1\n",
    "  + features_2\n",
    "  + features_3"
   ]
  },
  {
   "cell_type": "markdown",
   "metadata": {},
   "source": [
    "8\\. Load the same file of point 6, and convert the file to json with Pandas."
   ]
  }
 ],
 "metadata": {
  "kernelspec": {
   "display_name": "Python 3",
   "language": "python",
   "name": "python3"
  },
  "language_info": {
   "codemirror_mode": {
    "name": "ipython",
    "version": 3
   },
   "file_extension": ".py",
   "mimetype": "text/x-python",
   "name": "python",
   "nbconvert_exporter": "python",
   "pygments_lexer": "ipython3",
   "version": "3.7.9"
  }
 },
 "nbformat": 4,
 "nbformat_minor": 2
}
