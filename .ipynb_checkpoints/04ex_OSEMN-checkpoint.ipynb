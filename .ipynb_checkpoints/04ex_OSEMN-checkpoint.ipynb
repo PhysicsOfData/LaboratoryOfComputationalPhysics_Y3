{
 "cells": [
  {
   "cell_type": "markdown",
   "metadata": {},
   "source": [
    "# OSEMN Exercises"
   ]
  },
  {
   "cell_type": "code",
   "execution_count": 78,
   "metadata": {},
   "outputs": [],
   "source": [
    "%matplotlib inline\n",
    "import pandas as pd\n",
    "import numpy as np\n",
    "import json\n",
    "import random\n",
    "import csv"
   ]
  },
  {
   "cell_type": "markdown",
   "metadata": {},
   "source": [
    "1\\. Create a random list of number and then save it to a text file named \"simple_data.txt\""
   ]
  },
  {
   "cell_type": "code",
   "execution_count": 15,
   "metadata": {},
   "outputs": [
    {
     "name": "stdout",
     "output_type": "stream",
     "text": [
      "[11, 4, 18, 30, 14, 25, 10, 27, 9, 12]\n"
     ]
    }
   ],
   "source": [
    "file_name = r\"C:/Users/filip/Desktop/LaboratoryOfComputationalPhysics_Y3\\data\\simple_data.txt\"\n",
    "randomlist = [random.randint(1,30) for i in range(10)]    \n",
    "\n",
    "f= open(file_name,\"w+\")#create file\n",
    "\n",
    "with open(file_name, \"w\") as output:#save list to file\n",
    "    output.write(str(randomlist))\n",
    "\n",
    "print(randomlist)\n",
    "f.close() "
   ]
  },
  {
   "cell_type": "markdown",
   "metadata": {},
   "source": [
    "2\\. Create a random matrix of 5x5 and then save it to a text file named \"data.txt\""
   ]
  },
  {
   "cell_type": "code",
   "execution_count": 14,
   "metadata": {},
   "outputs": [
    {
     "name": "stdout",
     "output_type": "stream",
     "text": [
      "[[3.23157786e-01 7.85823206e-01 8.96275115e-01 6.58602273e-01\n",
      "  7.21722651e-01]\n",
      " [7.30669649e-01 9.45406197e-01 8.32473064e-01 1.06895985e-01\n",
      "  9.39184818e-01]\n",
      " [5.99093391e-02 1.16576526e-01 1.38216814e-01 4.40585746e-01\n",
      "  6.67287185e-01]\n",
      " [4.04540343e-01 7.23988398e-01 8.38772507e-02 7.46944363e-01\n",
      "  5.63136829e-04]\n",
      " [2.83197183e-01 7.13625878e-01 4.39746526e-01 4.26628657e-01\n",
      "  1.71139642e-01]]\n"
     ]
    }
   ],
   "source": [
    "a=np.random.rand(5,5)\n",
    "print(a)\n",
    "\n",
    "file_name1 = r\"C:/Users/filip/Desktop/LaboratoryOfComputationalPhysics_Y3\\data\\data.txt\"\n",
    "\n",
    "f= open(file_name1,\"w+\")#create file\n",
    "\n",
    "with open(file_name1, \"w\") as output:#save list to file\n",
    "    output.write(str(a))\n",
    "    \n",
    "f.close()"
   ]
  },
  {
   "cell_type": "markdown",
   "metadata": {},
   "source": [
    "3\\. Load the saved txt file of point 2 and convert it to a csv file (by hand)"
   ]
  },
  {
   "cell_type": "code",
   "execution_count": 16,
   "metadata": {},
   "outputs": [],
   "source": [
    "#data.txt\n",
    "with open(r\"C:/Users/filip/Desktop/LaboratoryOfComputationalPhysics_Y3\\data\\simple_data.txt\",\"r\") as file3:\n",
    "    with open(r\"C:/Users/filip/Desktop/LaboratoryOfComputationalPhysics_Y3\\data\\simple_data.cvs\",\"w\") as file4:\n",
    "        for line in file3:\n",
    "            l=line.split()\n",
    "            for i in l:\n",
    "                file4.write(str(i))\n",
    "                file4.write(\",\")\n",
    "                file4.write(\"\\n\")\n",
    "\n",
    "#simple_data\n",
    "read_file = pd.read_csv (r\"C:\\Users\\filip\\Desktop\\04ex_OSEMN\\data\\simple_data.txt\")\n",
    "read_file.to_csv (r\"C:\\Users\\filip\\Desktop\\04ex_OSEMN\\data\\simple_data.cvs\", index=None)\n",
    "\n",
    "#i tried to use two different methos to convert in cvs file."
   ]
  },
  {
   "cell_type": "markdown",
   "metadata": {},
   "source": [
    "4\\. load the binary file named *credit_card.dat* and convert the data into the real credit-card number.\n",
    "Each line correspond to a credit card number.\n",
    "Each character is composed by 6 bit (even the space) and the last 4 bit are just a padding\n",
    "\n",
    "**hint**: use the `chr()` function to convert a number to a char"
   ]
  },
  {
   "cell_type": "code",
   "execution_count": 21,
   "metadata": {},
   "outputs": [
    {
     "name": "stdout",
     "output_type": "stream",
     "text": [
      "[290024364883249943472971508327046938, 268931906753213216287685809534065514, 264141356060906019551228545876809514, 253680683515296272238573651907172106, 253514641084481952053280392336626474, 279799475319802130388075471300707130, 279724624542658806563744571534198650, 294810855073734525718880696200123226, 279723356857907512310850354731401994, 284671036765132969752743313441016682, 258543529891684445109340885453161226, 289538716029520590015558095748586346, 253674483911959755333925556513398634, 258789394672351026875690333003763562, 284911870581351384513083828963168074, 289704897124491333462990802012915514, 289536220352443632132942087538787082, 263984286253055900315467647586192202, 258875575091467673899409856550520714, 253681970968480450992435354171526938, 284587292630905371256921262270960394, 259028941011967065903920573412722458, 263904404463188819139165554941877130, 279554719723966033776358553065605994, 268773371195644447371517555695995738, 274363670718364758646541211307069258, 289945671501158901148753693007930234, 294970658282669708339299968970251034, 253599633100579200776000768753125130, 279229032564581965096638279665045386, 263903037753505639786532126277817146, 264149080807208178418145717319489354, 279803159444476445582360706161169274, 253681931349177400246001223127717722, 279805754166563905337834446958150506, 264220009843722803337872165624273674, 279157964917238203532953338152278826, 258387569219775331444490376762809194, 295054244003937695968398256005898106, 274529871601114630776375899537531770, 289948266208976513064109602359335818, 263981671704351370883825696471374682, 269096641895460339883153846749809514, 258704363022605247920362492898894698, 289777113590093247591449054120429402, 253351153800228156844599753500187498, 253276283162468901370656002229588746, 263570992528943121070058756235510538, 294810894702176591536942197188381546, 268765824712787137485468375276643146]\n"
     ]
    }
   ],
   "source": [
    "file_name2 = r\"C:/Users/filip/Desktop/LaboratoryOfComputationalPhysics_Y3/data/credit_card.dat\"\n",
    "\n",
    "f= open(file_name2,\"r\")#create file\n",
    "creditcard = []\n",
    "\n",
    "for line in f:\n",
    "    for \n",
    "    dec = int(line,2)\n",
    "    creditcard.append(dec)\n",
    "\n",
    "creditcard.pop()#erasing last element\n",
    "print(creditcard)"
   ]
  },
  {
   "cell_type": "markdown",
   "metadata": {},
   "source": [
    "5\\. Load the file \"user_data.json\", filter the data by the \"CreditCardType\" field equals to \"American Express\". Than save the data a to CSV."
   ]
  },
  {
   "cell_type": "code",
   "execution_count": 115,
   "metadata": {},
   "outputs": [
    {
     "ename": "TypeError",
     "evalue": "'list' object is not callable",
     "output_type": "error",
     "traceback": [
      "\u001b[1;31m---------------------------------------------------------------------------\u001b[0m",
      "\u001b[1;31mTypeError\u001b[0m                                 Traceback (most recent call last)",
      "\u001b[1;32m<ipython-input-115-e556f4dcd8c4>\u001b[0m in \u001b[0;36m<module>\u001b[1;34m\u001b[0m\n\u001b[0;32m      7\u001b[0m         \u001b[0mtemp\u001b[0m\u001b[1;33m.\u001b[0m\u001b[0mappend\u001b[0m\u001b[1;33m(\u001b[0m\u001b[0muser\u001b[0m\u001b[1;33m[\u001b[0m\u001b[1;34m'ID'\u001b[0m\u001b[1;33m]\u001b[0m\u001b[1;33m)\u001b[0m\u001b[1;33m\u001b[0m\u001b[1;33m\u001b[0m\u001b[0m\n\u001b[0;32m      8\u001b[0m         \u001b[0mtemp\u001b[0m\u001b[1;33m.\u001b[0m\u001b[0mappend\u001b[0m\u001b[1;33m(\u001b[0m\u001b[0muser\u001b[0m\u001b[1;33m[\u001b[0m\u001b[1;34m'JobTitle'\u001b[0m\u001b[1;33m]\u001b[0m\u001b[1;33m)\u001b[0m\u001b[1;33m\u001b[0m\u001b[1;33m\u001b[0m\u001b[0m\n\u001b[1;32m----> 9\u001b[1;33m         \u001b[0mtemp\u001b[0m\u001b[1;33m(\u001b[0m\u001b[0muser\u001b[0m\u001b[1;33m[\u001b[0m\u001b[1;34m'CreditCardType'\u001b[0m\u001b[1;33m]\u001b[0m\u001b[1;33m+\u001b[0m\u001b[1;34m'\\n'\u001b[0m\u001b[1;33m)\u001b[0m\u001b[1;33m\u001b[0m\u001b[1;33m\u001b[0m\u001b[0m\n\u001b[0m\u001b[0;32m     10\u001b[0m \u001b[1;33m\u001b[0m\u001b[0m\n\u001b[0;32m     11\u001b[0m         \u001b[1;31m#user['EmailAddress'],user['FirstNameLastName'])\u001b[0m\u001b[1;33m\u001b[0m\u001b[1;33m\u001b[0m\u001b[1;33m\u001b[0m\u001b[0m\n",
      "\u001b[1;31mTypeError\u001b[0m: 'list' object is not callable"
     ]
    }
   ],
   "source": [
    "data = json.load(open(r\"C:/Users/filip/Desktop/LaboratoryOfComputationalPhysics_Y3/data/user_data.json\"))\n",
    "#print (data)\n",
    "file_name6=r\"C:/Users/filip/Desktop/LaboratoryOfComputationalPhysics_Y3/data/user_data.csv\"\n",
    "temp = []\n",
    "for user in data:\n",
    "    if user['CreditCardType']=='American Express':\n",
    "        temp.append(user['ID'])\n",
    "        temp.append(user['JobTitle'])\n",
    "        temp.append(user['CreditCardType'])\n",
    "    \n",
    "\n",
    "\n",
    "        #user['EmailAddress'],user['FirstNameLastName'])\n",
    "\n",
    "print(temp)\n",
    "  "
   ]
  },
  {
   "cell_type": "markdown",
   "metadata": {},
   "source": [
    "6\\. Load the file from this url: [https://www.dropbox.com/s/7u3lm737ogbqsg8/mushrooms_categorized.csv?dl=1](https://www.dropbox.com/s/7u3lm737ogbqsg8/mushrooms_categorized.csv?dl=1) with Pandas. \n",
    "+ Explore the data (see the info of the data)\n",
    "+ Draw the istogram of the 'class' field. Decribe wath yuou see\n"
   ]
  },
  {
   "cell_type": "code",
   "execution_count": null,
   "metadata": {},
   "outputs": [],
   "source": []
  },
  {
   "cell_type": "markdown",
   "metadata": {},
   "source": [
    "7\\. Load the remote file [https://www.dropbox.com/s/vkl89yce7xjdq4n/regression_generated.csv?dl=1](https://www.dropbox.com/s/vkl89yce7xjdq4n/regression_generated.csv?dl=1) with Pandas and plot a scatter plot all possible combination of the following fields:\n",
    "    \n",
    "  + features_1\n",
    "  + features_2\n",
    "  + features_3"
   ]
  },
  {
   "cell_type": "code",
   "execution_count": null,
   "metadata": {},
   "outputs": [],
   "source": []
  },
  {
   "cell_type": "markdown",
   "metadata": {},
   "source": [
    "8\\. Load the same file of point 6, and convert the file to json with Pandas."
   ]
  },
  {
   "cell_type": "code",
   "execution_count": null,
   "metadata": {},
   "outputs": [],
   "source": []
  }
 ],
 "metadata": {
  "kernelspec": {
   "display_name": "Python 3",
   "language": "python",
   "name": "python3"
  },
  "language_info": {
   "codemirror_mode": {
    "name": "ipython",
    "version": 3
   },
   "file_extension": ".py",
   "mimetype": "text/x-python",
   "name": "python",
   "nbconvert_exporter": "python",
   "pygments_lexer": "ipython3",
   "version": "3.8.3"
  }
 },
 "nbformat": 4,
 "nbformat_minor": 2
}
