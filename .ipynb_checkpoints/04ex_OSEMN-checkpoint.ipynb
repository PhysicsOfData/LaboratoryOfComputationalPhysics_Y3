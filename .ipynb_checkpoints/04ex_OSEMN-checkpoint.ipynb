{
 "cells": [
  {
   "cell_type": "markdown",
   "metadata": {},
   "source": [
    "# OSEMN Exercises"
   ]
  },
  {
   "cell_type": "code",
   "execution_count": 1,
   "metadata": {},
   "outputs": [],
   "source": [
    "%matplotlib inline\n",
    "import pandas as pd\n",
    "import numpy as np"
   ]
  },
  {
   "cell_type": "markdown",
   "metadata": {},
   "source": [
    "1\\. Create a random list of number and then save it to a text file named \"simple_data.txt\""
   ]
  },
  {
   "cell_type": "code",
   "execution_count": null,
   "metadata": {},
   "outputs": [],
   "source": [
    "l = [1,2,3,4,5,6,7]\n",
    "\n",
    "with open(\"simple_data.txt\", \"w\") as output:\n",
    "    output.write(str(l))"
   ]
  },
  {
   "cell_type": "markdown",
   "metadata": {},
   "source": [
    "2\\. Create a random matrix of 5x5 and then save it to a text file named \"data.txt\""
   ]
  },
  {
   "cell_type": "code",
   "execution_count": null,
   "metadata": {},
   "outputs": [],
   "source": [
    "m = np.random.randint(0, 100, 25).reshape(5,5)\n",
    "print (m)\n",
    "\n",
    "with open(\"data.txt\", \"w\") as output:\n",
    "    output.write(str(m))"
   ]
  },
  {
   "cell_type": "markdown",
   "metadata": {},
   "source": [
    "3\\. Load the saved txt file of point 2 and convert it to a csv file (by hand)"
   ]
  },
  {
   "cell_type": "code",
   "execution_count": null,
   "metadata": {},
   "outputs": [],
   "source": [
    "import csv\n",
    "a = []\n",
    "with open('data.txt',\"r\") as data_file:\n",
    "    with open(\"data.csv\",\"w\") as file:\n",
    "        for line in data_file:\n",
    "            l = line.split() \n",
    "            for i in l:\n",
    "                file.write(i)\n",
    "                file.write(\",\")"
   ]
  },
  {
   "cell_type": "markdown",
   "metadata": {},
   "source": [
    "4\\. load the binary file named *credit_card.dat* and convert the data into the real credit-card number.\n",
    "Each line correspond to a credit card number.\n",
    "Each character is composed by 6 bit (even the space) and the last 4 bit are just a padding\n",
    "\n",
    "**hint**: use the `chr()` function to convert a number to a char"
   ]
  },
  {
   "cell_type": "code",
   "execution_count": null,
   "metadata": {},
   "outputs": [],
   "source": [
    "a =[]\n",
    "with open(\"credit_card.dat\",\"r\") as card:\n",
    "    for line in card:\n",
    "        a.append(line)\n",
    "\n",
    "\n",
    "        \n",
    "lunghezza = len(a[1])\n",
    "\n",
    "carte = []\n",
    "for k in range(0,len(a)-1):\n",
    "    num = \"\"\n",
    "    for i in range(0,lunghezza//6):\n",
    "          num = num + chr(int(a[k][i*6:i*6+6],2))\n",
    "    carte.append(num)\n",
    "\n",
    "print(carte)"
   ]
  },
  {
   "cell_type": "markdown",
   "metadata": {},
   "source": [
    "5\\. Load the file \"user_data.json\", filter the data by the \"CreditCardType\" field equals to \"American Express\". Than save the data a to CSV."
   ]
  },
  {
   "cell_type": "code",
   "execution_count": null,
   "metadata": {},
   "outputs": [],
   "source": [
    "import json\n",
    "data = json.load(open('user_data.json'))\n",
    "\n",
    "personemastercard =[]\n",
    "for p in range(0,len(data)):\n",
    "    if data[p][\"CreditCardType\"] == \"MasterCard\" :\n",
    "        personemastercard.append(data[p])\n",
    "        \n",
    "with open('data.csv', 'w') as f:\n",
    "    json.dump(personemastercard, f)"
   ]
  },
  {
   "cell_type": "markdown",
   "metadata": {},
   "source": [
    "6\\. Load the file from this url: [https://www.dropbox.com/s/7u3lm737ogbqsg8/mushrooms_categorized.csv?dl=1](https://www.dropbox.com/s/7u3lm737ogbqsg8/mushrooms_categorized.csv?dl=1) with Pandas. \n",
    "+ Explore the data (see the info of the data)\n",
    "+ Draw the istogram of the 'class' field. Decribe wath yuou see\n"
   ]
  },
  {
   "cell_type": "code",
   "execution_count": null,
   "metadata": {},
   "outputs": [],
   "source": [
    "mport pandas as pd\n",
    "import matplotlib.pyplot as plt\n",
    "\n",
    "file_name=\"mushrooms_categorized.csv\"\n",
    "data=pd.read_csv(file_name,nrows=50,skiprows=range(1,1))\n",
    "\n",
    "\n",
    "isto = pd.DataFrame(data[\"class\"])\n",
    "\n",
    "plt.hist( isto.T,density=False, bins = 2)\n",
    "plt.show()"
   ]
  },
  {
   "cell_type": "markdown",
   "metadata": {},
   "source": [
    "7\\. Load the remote file [https://www.dropbox.com/s/vkl89yce7xjdq4n/regression_generated.csv?dl=1](https://www.dropbox.com/s/vkl89yce7xjdq4n/regression_generated.csv?dl=1) with Pandas and plot a scatter plot all possible combination of the following fields:\n",
    "    \n",
    "  + features_1\n",
    "  + features_2\n",
    "  + features_3"
   ]
  },
  {
   "cell_type": "code",
   "execution_count": null,
   "metadata": {},
   "outputs": [],
   "source": [
    "import pandas as pd\n",
    "import matplotlib.pyplot as plt\n",
    "\n",
    "file_name1=\"regression_generated.csv\"\n",
    "regression_data=pd.read_csv(file_name1,nrows=50,skiprows=range(1,1))\n",
    "\n",
    "regression_data\n",
    "\n",
    "dati1 = pd.DataFrame(regression_data[\"features_1\"])\n",
    "dati2 = pd.DataFrame(regression_data[\"features_2\"])\n",
    "dati3 = pd.DataFrame(regression_data[\"features_3\"])\n",
    "\n",
    "plt.plot(dati1,dati2)\n",
    "plt.plot(dati2,dati3)\n",
    "plt.plot(dati3,dati1)\n",
    " "
   ]
  },
  {
   "cell_type": "markdown",
   "metadata": {},
   "source": [
    "8\\. Load the same file of point 6, and convert the file to json with Pandas."
   ]
  },
  {
   "cell_type": "code",
   "execution_count": null,
   "metadata": {},
   "outputs": [],
   "source": [
    "df = pd.DataFrame(data)\n",
    "df.to_json ('export_data.json')"
   ]
  }
 ],
 "metadata": {
  "kernelspec": {
   "display_name": "Python 3",
   "language": "python",
   "name": "python3"
  },
  "language_info": {
   "codemirror_mode": {
    "name": "ipython",
    "version": 3
   },
   "file_extension": ".py",
   "mimetype": "text/x-python",
   "name": "python",
   "nbconvert_exporter": "python",
   "pygments_lexer": "ipython3",
   "version": "3.8.3"
  }
 },
 "nbformat": 4,
 "nbformat_minor": 2
}
