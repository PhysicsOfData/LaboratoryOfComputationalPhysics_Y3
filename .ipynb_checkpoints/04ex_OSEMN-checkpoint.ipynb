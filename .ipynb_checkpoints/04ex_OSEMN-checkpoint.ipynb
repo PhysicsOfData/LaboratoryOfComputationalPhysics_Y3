{
 "cells": [
  {
   "cell_type": "markdown",
   "metadata": {},
   "source": [
    "# OSEMN Exercises"
   ]
  },
  {
   "cell_type": "code",
   "execution_count": 1,
   "metadata": {},
   "outputs": [],
   "source": [
    "%matplotlib inline\n",
    "import pandas as pd\n",
    "import numpy as np"
   ]
  },
  {
   "cell_type": "markdown",
   "metadata": {},
   "source": [
    "1\\. Create a random list of number and then save it to a text file named \"simple_data.txt\""
   ]
  },
  {
   "cell_type": "code",
   "execution_count": 4,
   "metadata": {},
   "outputs": [],
   "source": [
    "l = np.random.random(size = (100))\n",
    "f = open(\"simple_data.txt\",\"w\")\n",
    "f.write(str(l))\n",
    "f.close()"
   ]
  },
  {
   "cell_type": "code",
   "execution_count": 6,
   "metadata": {},
   "outputs": [
    {
     "name": "stdout",
     "output_type": "stream",
     "text": [
      "Output of Read function is \n",
      "[0.52598434 0.90012971 0.78699749 0.51430793 0.46139353 0.13514415\n",
      " 0.76015612 0.39884619 0.29008183 0.45983974 0.1320667  0.81141385\n",
      " 0.91728334 0.63176469 0.08206627 0.91346848 0.55138833 0.33698361\n",
      " 0.35411161 0.97222241 0.00996949 0.11597187 0.33754566 0.18068595\n",
      " 0.66248702 0.47092088 0.10595202 0.32343996 0.12384101 0.89271453\n",
      " 0.16114466 0.87627724 0.9275275  0.13295662 0.62340633 0.2007204\n",
      " 0.97282912 0.20252932 0.22861943 0.64306947 0.13613294 0.60136363\n",
      " 0.40191773 0.43210736 0.71750154 0.65468454 0.69226166 0.24916763\n",
      " 0.7973774  0.83919663 0.68594244 0.59920826 0.77830773 0.13611167\n",
      " 0.87718357 0.71271527 0.40505403 0.34350937 0.56581351 0.12904606\n",
      " 0.37762029 0.63794277 0.15853228 0.04462567 0.41614244 0.39974772\n",
      " 0.40255536 0.5930767  0.68193566 0.54778097 0.51396409 0.99130537\n",
      " 0.59434258 0.86322452 0.19941018 0.98429361 0.63334443 0.13949321\n",
      " 0.33909618 0.62069747 0.33909124 0.39849506 0.79643094 0.06928027\n",
      " 0.36126352 0.77512282 0.03624921 0.14080145 0.02261555 0.91252296\n",
      " 0.14495411 0.6557512  0.83436774 0.7846178  0.19619116 0.50559655\n",
      " 0.31999414 0.73467277 0.37620455 0.94568045]\n"
     ]
    }
   ],
   "source": [
    "f = open(\"simple_data.txt\",\"r\")\n",
    "print (\"Content of the file: \")\n",
    "print (f.read())\n",
    "f.close()"
   ]
  },
  {
   "cell_type": "markdown",
   "metadata": {},
   "source": [
    "2\\. Create a random matrix of 5x5 and then save it to a text file named \"data.txt\""
   ]
  },
  {
   "cell_type": "code",
   "execution_count": 20,
   "metadata": {},
   "outputs": [],
   "source": [
    "ranMat = np.random.random(size = (5,5))\n",
    "frM = open(\"data.txt\",\"w\")\n",
    "for i in range(0, 5, 1) :\n",
    "    for j in range(0, 5, 1) :\n",
    "        frM.write(str(ranMat[i,j]) + ' ')\n",
    "    frM.write('\\n')\n",
    "frM.close()"
   ]
  },
  {
   "cell_type": "code",
   "execution_count": 21,
   "metadata": {},
   "outputs": [
    {
     "name": "stdout",
     "output_type": "stream",
     "text": [
      "Content of the file: \n",
      "0.21644144737335402 0.36002333634828787 0.07895599149996857 0.03405609197104176 0.008449933311580504 \n",
      "0.3089964985659629 0.8233102115900736 0.00525492380576853 0.3260556215394651 0.2290679749319524 \n",
      "0.44482534224843584 0.026196349752053427 0.48304699309126564 0.9047382441827874 0.8926644306505732 \n",
      "0.2779835263770204 0.9945928729381991 0.10318844433398466 0.08457139910568345 0.47730826552573746 \n",
      "0.7213233615860761 0.8925171960407892 0.7581535419224084 0.34378380660909935 0.9258302215083956 \n",
      "\n"
     ]
    }
   ],
   "source": [
    "frM = open(\"data.txt\",\"r\")\n",
    "print (\"Content of the file: \")\n",
    "print (frM.read())\n",
    "frM.close()"
   ]
  },
  {
   "cell_type": "markdown",
   "metadata": {},
   "source": [
    "3\\. Load the saved txt file of point 2 and convert it to a csv file (by hand)"
   ]
  },
  {
   "cell_type": "code",
   "execution_count": 22,
   "metadata": {},
   "outputs": [],
   "source": [
    "import csv\n",
    "\n",
    "with open('data.txt') as frM:\n",
    "    rows = [r.strip() for r in frM]\n",
    "    lines = [r.split(\" \") for r in rows]\n",
    "    numbers = [[float(r) for r in lines[i]] for i in range(0,5,1)]\n",
    "    with open('dataconverted.csv', 'w') as csvFile:\n",
    "        writer = csv.writer(csvFile)\n",
    "        writer.writerows(numbers)"
   ]
  },
  {
   "cell_type": "code",
   "execution_count": 24,
   "metadata": {},
   "outputs": [
    {
     "name": "stdout",
     "output_type": "stream",
     "text": [
      "   0.21644144737335402  0.36002333634828787  0.07895599149996857  \\\n",
      "0             0.308996             0.823310             0.005255   \n",
      "1             0.444825             0.026196             0.483047   \n",
      "2             0.277984             0.994593             0.103188   \n",
      "3             0.721323             0.892517             0.758154   \n",
      "\n",
      "   0.03405609197104176  0.008449933311580504  \n",
      "0             0.326056              0.229068  \n",
      "1             0.904738              0.892664  \n",
      "2             0.084571              0.477308  \n",
      "3             0.343784              0.925830  \n",
      "0.21644144737335402,0.36002333634828787,0.07895599149996857,0.03405609197104176,0.008449933311580504\n",
      "0.3089964985659629,0.8233102115900736,0.00525492380576853,0.3260556215394651,0.2290679749319524\n",
      "0.44482534224843584,0.026196349752053427,0.48304699309126564,0.9047382441827874,0.8926644306505732\n",
      "0.2779835263770204,0.9945928729381991,0.10318844433398466,0.08457139910568345,0.47730826552573746\n",
      "0.7213233615860761,0.8925171960407892,0.7581535419224084,0.34378380660909935,0.9258302215083956\n"
     ]
    }
   ],
   "source": [
    "#just to print out the file\n",
    "df = pd.read_csv('dataconverted.csv')\n",
    "print(df)\n",
    "\n",
    "\n",
    "with open('dataconverted.csv', newline='') as csvfile:\n",
    "     spamreader = csv.reader(csvfile, delimiter=' ', quotechar='|')\n",
    "     for row in spamreader:\n",
    "         print(', '.join(row))"
   ]
  },
  {
   "cell_type": "markdown",
   "metadata": {},
   "source": [
    "4\\. load the binary file named *credit_card.dat* and convert the data into the real credit-card number.\n",
    "Each line correspond to a credit card number.\n",
    "Each character is composed by 6 bit (even the space) and the last 4 bit are just a padding\n",
    "\n",
    "**hint**: use the `chr()` function to convert a number to a char"
   ]
  },
  {
   "cell_type": "code",
   "execution_count": 74,
   "metadata": {
    "scrolled": true
   },
   "outputs": [
    {
     "name": "stdout",
     "output_type": "stream",
     "text": [
      "['7648 5673 3775 2271', '3257 8247 3354 2266', '2722 0001 4011 6652', '0661 3063 3742 3150', '0432 1608 1462 4742', '5827 2027 8785 7303', '5774 8528 2087 1117', '8140 1210 6352 2845', '5764 1133 7301 7100', '6456 1737 4126 6726', '1228 8631 7382 0000', '7051 0160 5374 3166', '0618 3587 1630 6376', '1545 5454 7444 5636', '6735 3116 3202 6834', '7287 5011 1547 8413', '7033 2607 3328 4200', '2568 5244 1874 5024', '1684 2253 7570 7118', '0672 2576 0575 6631', '6332 8353 8787 1340', '1813 3361 1175 4211', '2477 6450 8840 2368', '5512 3505 2563 1326', '3083 7882 0621 0025', '4521 5148 8045 0334', '7563 3654 8713 5787', '8324 2664 0476 5561', '0565 2504 7168 3510', '5107 5507 1767 0738', '2462 1821 2448 1443', '2788 0638 6861 6554', '5851 5873 5474 0547', '0670 1004 4013 2655', '5874 5506 3048 0806', '2805 5401 8462 1260', '5083 8406 6310 1862', '1076 1445 3013 2266', '8440 4804 4844 5277', '4758 6141 0686 1387', '7586 0675 0315 2568', '2544 1258 7432 5165', '3474 5023 4434 5626', '1410 0270 0434 5086', '7315 4446 1104 4215', '0224 7742 8300 0266', '0170 2700 3145 0640', '2006 2437 8054 1600', '8142 4055 1776 0026', '3026 7380 1241 1084']\n"
     ]
    }
   ],
   "source": [
    "ccNumbers=[]\n",
    "with open('credit_card.dat') as ccFile: #loading file\n",
    "    entries = [r.strip() for r in ccFile]\n",
    "    del4 = [e[:-4] for e in entries] #removing last 4 padding chars\n",
    "    delLast = del4[:-1] #removing last strange entry (just 4 chars)\n",
    "    length = int(np.char.str_len(delLast[0])/6)\n",
    "    for e in delLast:\n",
    "        charNum = ''\n",
    "        for i in range(0,length,1) :\n",
    "            sixConv = int(e[6*i:6*(i+1)],2) #converting every 6 bits\n",
    "            charNum += chr(sixConv) #building the credit card number char by char\n",
    "        ccNumbers.append(charNum) #appending the completed number to the list\n",
    "print(ccNumbers)\n"
   ]
  },
  {
   "cell_type": "markdown",
   "metadata": {},
   "source": [
    "5\\. Load the file \"user_data.json\", filter the data by the \"CreditCardType\" field equals to \"American Express\". Than save the data a to CSV."
   ]
  },
  {
   "cell_type": "markdown",
   "metadata": {},
   "source": [
    "6\\. Load the file from this url: [https://www.dropbox.com/s/7u3lm737ogbqsg8/mushrooms_categorized.csv?dl=1](https://www.dropbox.com/s/7u3lm737ogbqsg8/mushrooms_categorized.csv?dl=1) with Pandas. \n",
    "+ Explore the data (see the info of the data)\n",
    "+ Draw the istogram of the 'class' field. Decribe wath yuou see\n"
   ]
  },
  {
   "cell_type": "markdown",
   "metadata": {},
   "source": [
    "7\\. Load the remote file [https://www.dropbox.com/s/vkl89yce7xjdq4n/regression_generated.csv?dl=1](https://www.dropbox.com/s/vkl89yce7xjdq4n/regression_generated.csv?dl=1) with Pandas and plot a scatter plot all possible combination of the following fields:\n",
    "    \n",
    "  + features_1\n",
    "  + features_2\n",
    "  + features_3"
   ]
  },
  {
   "cell_type": "markdown",
   "metadata": {},
   "source": [
    "8\\. Load the same file of point 6, and convert the file to json with Pandas."
   ]
  }
 ],
 "metadata": {
  "kernelspec": {
   "display_name": "Python 3",
   "language": "python",
   "name": "python3"
  },
  "language_info": {
   "codemirror_mode": {
    "name": "ipython",
    "version": 3
   },
   "file_extension": ".py",
   "mimetype": "text/x-python",
   "name": "python",
   "nbconvert_exporter": "python",
   "pygments_lexer": "ipython3",
   "version": "3.7.4"
  }
 },
 "nbformat": 4,
 "nbformat_minor": 2
}
