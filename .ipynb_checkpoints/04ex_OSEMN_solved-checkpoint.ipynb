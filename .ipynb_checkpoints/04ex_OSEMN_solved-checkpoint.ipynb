{
 "cells": [
  {
   "cell_type": "markdown",
   "metadata": {},
   "source": [
    "# OSEMN Exercises"
   ]
  },
  {
   "cell_type": "code",
   "execution_count": 1,
   "metadata": {},
   "outputs": [],
   "source": [
    "%matplotlib inline\n",
    "import pandas as pd\n",
    "import numpy as np"
   ]
  },
  {
   "cell_type": "markdown",
   "metadata": {},
   "source": [
    "1\\. Create a random list of number and then save it to a text file named \"simple_data.txt\""
   ]
  },
  {
   "cell_type": "code",
   "execution_count": 10,
   "metadata": {},
   "outputs": [
    {
     "name": "stdout",
     "output_type": "stream",
     "text": [
      "0.1868632130554978\r\n",
      "0.2519104697882435\r\n",
      "0.9489448667301537\r\n",
      "0.9870189106685201\r\n",
      "0.36276125428673134\r\n",
      "0.4226649231984484\r\n",
      "0.8831638514568699\r\n",
      "0.1952363199880086\r\n",
      "0.7767070846520701\r\n",
      "0.2969007100990948\r\n"
     ]
    }
   ],
   "source": [
    "r_numbers = np.random.rand(10)\n",
    "file = open('simple_data.txt','w')\n",
    "for i in r_numbers:\n",
    "    file.write(str(i) + '\\n')\n",
    "file.close()\n",
    "! cat simple_data.txt    "
   ]
  },
  {
   "cell_type": "markdown",
   "metadata": {},
   "source": [
    "2\\. Create a random matrix of 5x5 and then save it to a text file named \"data.txt\""
   ]
  },
  {
   "cell_type": "code",
   "execution_count": 18,
   "metadata": {},
   "outputs": [
    {
     "name": "stdout",
     "output_type": "stream",
     "text": [
      "7.499297028393487885e-01 3.333339234748656787e-01 7.931246297762584163e-02 7.170421370697784846e-01 8.214204300422113247e-01\r\n",
      "5.793918885893469817e-01 2.886278891843768735e-01 8.164725247583798362e-01 8.146643725905504674e-01 3.247461347409404953e-01\r\n",
      "9.418646483494106381e-01 8.957882545997836177e-01 7.742269800490062526e-01 7.290346717540524546e-01 6.504010642522343177e-01\r\n",
      "8.122124846766851647e-01 8.457172864366461207e-01 4.383714761995465281e-01 6.203174098036410289e-01 9.538725214542986830e-01\r\n",
      "2.344486563427772285e-02 1.910479025192213243e-01 9.570474457998319195e-01 6.756567522868084374e-02 6.897478234998629665e-01\r\n"
     ]
    }
   ],
   "source": [
    "r_matrix = np.random.rand(5,5)\n",
    "np.savetxt('data.txt', r_matrix)\n",
    "! cat data.txt"
   ]
  },
  {
   "cell_type": "markdown",
   "metadata": {},
   "source": [
    "3\\. Load the saved txt file of point 2 and convert it to a csv file (by hand)"
   ]
  },
  {
   "cell_type": "code",
   "execution_count": 78,
   "metadata": {
    "scrolled": false
   },
   "outputs": [
    {
     "name": "stdout",
     "output_type": "stream",
     "text": [
      "7.499297028393487885e-01,3.333339234748656787e-01,7.931246297762584163e-02,7.170421370697784846e-01,8.214204300422113247e-01\r",
      "\r\n",
      "5.793918885893469817e-01,2.886278891843768735e-01,8.164725247583798362e-01,8.146643725905504674e-01,3.247461347409404953e-01\r",
      "\r\n",
      "9.418646483494106381e-01,8.957882545997836177e-01,7.742269800490062526e-01,7.290346717540524546e-01,6.504010642522343177e-01\r",
      "\r\n",
      "8.122124846766851647e-01,8.457172864366461207e-01,4.383714761995465281e-01,6.203174098036410289e-01,9.538725214542986830e-01\r",
      "\r\n",
      "2.344486563427772285e-02,1.910479025192213243e-01,9.570474457998319195e-01,6.756567522868084374e-02,6.897478234998629665e-01\r",
      "\r\n"
     ]
    }
   ],
   "source": [
    "import csv\n",
    "in_file = open('data.txt', 'r')\n",
    "out_file = open('data.csv', 'w')\n",
    "writer = csv.writer(out_file)\n",
    "stripped = [line.strip() for line in in_file] #removes \\n\n",
    "splitted = [line.split(' ') for line in stripped] #split according to ' ' character\n",
    "writer.writerows(splitted)\n",
    "\n",
    "#for line in in_file:\n",
    " #   print(list(line))\n",
    "    #writer.writerow(list(line))\n",
    "! cat data.csv"
   ]
  },
  {
   "cell_type": "markdown",
   "metadata": {},
   "source": [
    "4\\. load the binary file named *credit_card.dat* and convert the data into the real credit-card number.\n",
    "Each line correspond to a credit card number.\n",
    "Each character is composed by 6 bit (even the space) and the last 4 bit are just a padding\n",
    "\n",
    "**hint**: use the `chr()` function to convert a number to a char"
   ]
  },
  {
   "cell_type": "code",
   "execution_count": null,
   "metadata": {},
   "outputs": [],
   "source": []
  },
  {
   "cell_type": "markdown",
   "metadata": {},
   "source": [
    "5\\. Load the file \"user_data.json\", filter the data by the \"CreditCardType\" field equals to \"American Express\". Than save the data a to CSV."
   ]
  },
  {
   "cell_type": "markdown",
   "metadata": {},
   "source": [
    "6\\. Load the file from this url: [https://www.dropbox.com/s/7u3lm737ogbqsg8/mushrooms_categorized.csv?dl=1](https://www.dropbox.com/s/7u3lm737ogbqsg8/mushrooms_categorized.csv?dl=1) with Pandas. \n",
    "+ Explore the data (see the info of the data)\n",
    "+ Draw the istogram of the 'class' field. Decribe wath yuou see\n"
   ]
  },
  {
   "cell_type": "markdown",
   "metadata": {},
   "source": [
    "7\\. Load the remote file [https://www.dropbox.com/s/vkl89yce7xjdq4n/regression_generated.csv?dl=1](https://www.dropbox.com/s/vkl89yce7xjdq4n/regression_generated.csv?dl=1) with Pandas and plot a scatter plot all possible combination of the following fields:\n",
    "    \n",
    "  + features_1\n",
    "  + features_2\n",
    "  + features_3"
   ]
  },
  {
   "cell_type": "markdown",
   "metadata": {},
   "source": [
    "8\\. Load the same file of point 6, and convert the file to json with Pandas."
   ]
  }
 ],
 "metadata": {
  "kernelspec": {
   "display_name": "Python 3",
   "language": "python",
   "name": "python3"
  },
  "language_info": {
   "codemirror_mode": {
    "name": "ipython",
    "version": 3
   },
   "file_extension": ".py",
   "mimetype": "text/x-python",
   "name": "python",
   "nbconvert_exporter": "python",
   "pygments_lexer": "ipython3",
   "version": "3.8.5"
  }
 },
 "nbformat": 4,
 "nbformat_minor": 2
}
