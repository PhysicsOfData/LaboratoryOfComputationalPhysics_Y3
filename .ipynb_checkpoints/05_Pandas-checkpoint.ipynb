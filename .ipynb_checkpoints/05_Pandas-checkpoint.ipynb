{
 "cells": [
  {
   "cell_type": "code",
   "execution_count": null,
   "metadata": {},
   "outputs": [],
   "source": []
  },
  {
   "cell_type": "markdown",
   "metadata": {},
   "source": [
    "# Pandas\n",
    "\n",
    "The `numpy` module is excellent for numerical computations, but to handle missing data or arrays with mixed types takes more work. The `pandas` module is currently the most widely used tool for data manipulation, providing high-performance, easy-to-use data structures and advanced data analysis tools.\n",
    "\n",
    "In particular `pandas` features:\n",
    "\n",
    "* A fast and efficient \"DataFrame\" object for data manipulation with integrated indexing;\n",
    "* Tools for reading and writing data between in-memory data structures and different formats (CSV, Excel, SQL, HDF5);\n",
    "* Intelligent data alignment and integrated handling of missing data;\n",
    "* Intelligent label-based slicing, fancy indexing, and subsetting of large data sets;\n",
    "* Aggregating or transforming data with a powerful \"group-by\" engine; \n",
    "* High performance merging and joining of data sets;\n",
    "* Hierarchical axis indexing provides an intuitive way of working with high-dimensional data in a lower-dimensional data structure;\n",
    "* Time series-functionalities;\n",
    "* Highly optimized for performance, with critical code paths written in Cython or C.\n"
   ]
  },
  {
   "cell_type": "code",
   "execution_count": 1,
   "metadata": {},
   "outputs": [],
   "source": [
    "import pandas as pd\n",
    "import numpy as np"
   ]
  },
  {
   "cell_type": "markdown",
   "metadata": {},
   "source": [
    "## Series\n",
    "\n",
    "Series are completely equivalent to 1D array but with axis labels and the possibility to store heterogeneous elements. Of paramount importance are the time-series, used to define time evolutions of a phenomenon. \n"
   ]
  },
  {
   "cell_type": "code",
   "execution_count": 2,
   "metadata": {},
   "outputs": [
    {
     "name": "stdout",
     "output_type": "stream",
     "text": [
      "xs: a    0.0\n",
      "b    0.5\n",
      "c    1.0\n",
      "d    1.5\n",
      "e    2.0\n",
      "f    2.5\n",
      "g    3.0\n",
      "h    3.5\n",
      "i    4.0\n",
      "j    4.5\n",
      "dtype: float64 \n",
      "\n",
      "xs indexes: Index(['a', 'b', 'c', 'd', 'e', 'f', 'g', 'h', 'i', 'j'], dtype='object') \n",
      "\n",
      "xs values: [0.  0.5 1.  1.5 2.  2.5 3.  3.5 4.  4.5] <class 'numpy.ndarray'> \n",
      "\n",
      "2.5 2.5 3.5 \n",
      "\n",
      "d    1.5\n",
      "f    2.5\n",
      "h    3.5\n",
      "dtype: float64 \n",
      "\n",
      "<class 'pandas.core.series.Series'> \n",
      "\n"
     ]
    }
   ],
   "source": [
    "from string import ascii_lowercase as letters\n",
    "\n",
    "# Creating a series, accessing indexes, values and values by their index \n",
    "xs = pd.Series(np.arange(10)*0.5, index=tuple(letters[:10]))\n",
    "print (\"xs:\", xs,'\\n')\n",
    "print (\"xs indexes:\",xs.index,'\\n')\n",
    "# Values of the Series are actually a numpy array\n",
    "print (\"xs values:\", xs.values, type(xs.values),'\\n')\n",
    "print (xs['f'], xs.f, xs.h, '\\n')\n",
    "print (xs[['d', 'f', 'h']], '\\n')\n",
    "print (type(xs[['d', 'f', 'h']]), '\\n')"
   ]
  },
  {
   "cell_type": "code",
   "execution_count": 3,
   "metadata": {},
   "outputs": [
    {
     "name": "stdout",
     "output_type": "stream",
     "text": [
      "a    0.0\n",
      "b    0.5\n",
      "c    1.0\n",
      "dtype: float64 \n",
      "\n",
      "h    3.5\n",
      "i    4.0\n",
      "j    4.5\n",
      "dtype: float64 \n",
      "\n",
      "a    0.0\n",
      "d    1.5\n",
      "g    3.0\n",
      "j    4.5\n",
      "dtype: float64 \n",
      "\n",
      "h    3.5\n",
      "i    4.0\n",
      "j    4.5\n",
      "dtype: float64 \n",
      "\n",
      "a     1.000000\n",
      "b     1.648721\n",
      "c     2.718282\n",
      "d     4.481689\n",
      "e     7.389056\n",
      "f    12.182494\n",
      "g    20.085537\n",
      "h    33.115452\n",
      "i    54.598150\n",
      "j    90.017131\n",
      "dtype: float64 \n",
      "\n",
      "2.25 1.4361406616345072 \n",
      "\n"
     ]
    }
   ],
   "source": [
    "# Extracting elements and operations: same as numpy array\n",
    "print (xs[:3],'\\n')\n",
    "print (xs[7:], '\\n')\n",
    "print (xs[::3], '\\n')\n",
    "print (xs[xs>3], '\\n')\n",
    "print (np.exp(xs), '\\n')\n",
    "print (np.mean(xs), np.std(xs), '\\n')"
   ]
  },
  {
   "cell_type": "code",
   "execution_count": 4,
   "metadata": {},
   "outputs": [
    {
     "data": {
      "text/plain": [
       "b         1\n",
       "a       cat\n",
       "c    [2, 3]\n",
       "dtype: object"
      ]
     },
     "execution_count": 4,
     "metadata": {},
     "output_type": "execute_result"
    }
   ],
   "source": [
    "# Series can be created from python dictionary too.\n",
    "# Not that the elements can be whatever!\n",
    "d = {'b' : 1, 'a' : 'cat', 'c' : [2,3]}\n",
    "pd.Series(d)\n",
    "\n"
   ]
  },
  {
   "cell_type": "markdown",
   "metadata": {},
   "source": [
    "A key difference between Series and ndarray is that operations between Series automatically align the data based on label. Thus, you can write computations without considering whether the Series involved have the same labels."
   ]
  },
  {
   "cell_type": "code",
   "execution_count": 5,
   "metadata": {},
   "outputs": [
    {
     "name": "stdout",
     "output_type": "stream",
     "text": [
<<<<<<< HEAD
      "a    1.425233\n",
      "b    0.690813\n",
      "c   -0.229042\n",
      "d    0.477610\n",
      "e   -0.654681\n",
      "dtype: float64\n",
      "a         NaN\n",
      "b    1.381625\n",
      "c   -0.458084\n",
      "d    0.955221\n",
=======
      "a    0.345235\n",
      "b    1.290793\n",
      "c   -0.831597\n",
      "d   -0.911156\n",
      "e    0.134178\n",
      "dtype: float64\n",
      "a         NaN\n",
      "b    2.581585\n",
      "c   -1.663194\n",
      "d   -1.822313\n",
>>>>>>> master
      "e         NaN\n",
      "dtype: float64\n"
     ]
    }
   ],
   "source": [
    "s = pd.Series(np.random.randn(5), index=tuple(letters[:5]))\n",
    "print(s)\n",
    "s = s[1:] + s[:-1]\n",
    "print(s)"
   ]
  },
  {
   "cell_type": "markdown",
   "metadata": {},
   "source": [
    "### Time series\n",
    "\n",
    "Time series are very often used to profile the behaviour of a quantity as a function of time. Pandas as a special index for that, `DatetimeIndex`, that can be created e.g. with the function `pd.data_range()`"
   ]
  },
  {
   "cell_type": "code",
   "execution_count": 6,
   "metadata": {},
   "outputs": [
    {
     "name": "stdout",
     "output_type": "stream",
     "text": [
<<<<<<< HEAD
      "2020-11-23\n",
      "2020-11-09 14:45:10.000015\n",
      "9/11/2020 14:45:00\n",
      "DatetimeIndex(['2020-09-11 14:45:00', '2020-09-12 14:45:00',\n",
      "               '2020-09-13 14:45:00', '2020-09-14 14:45:00',\n",
      "               '2020-09-15 14:45:00', '2020-09-16 14:45:00',\n",
      "               '2020-09-17 14:45:00'],\n",
      "              dtype='datetime64[ns]', freq='D')\n",
      "DatetimeIndex(['2020-09-11 14:45:00', '2020-09-11 14:45:01',\n",
      "               '2020-09-11 14:45:02', '2020-09-11 14:45:03',\n",
      "               '2020-09-11 14:45:04', '2020-09-11 14:45:05',\n",
      "               '2020-09-11 14:45:06', '2020-09-11 14:45:07',\n",
      "               '2020-09-11 14:45:08', '2020-09-11 14:45:09',\n",
      "               ...\n",
      "               '2020-09-11 15:44:50', '2020-09-11 15:44:51',\n",
      "               '2020-09-11 15:44:52', '2020-09-11 15:44:53',\n",
      "               '2020-09-11 15:44:54', '2020-09-11 15:44:55',\n",
      "               '2020-09-11 15:44:56', '2020-09-11 15:44:57',\n",
      "               '2020-09-11 15:44:58', '2020-09-11 15:44:59'],\n",
=======
      "2020-11-18\n",
      "2020-11-09 14:45:10.000015\n",
      "2020-11-09 14:45:10.000015\n",
      "DatetimeIndex(['2020-11-09 14:45:10.000015', '2020-11-10 14:45:10.000015',\n",
      "               '2020-11-11 14:45:10.000015', '2020-11-12 14:45:10.000015',\n",
      "               '2020-11-13 14:45:10.000015', '2020-11-14 14:45:10.000015',\n",
      "               '2020-11-15 14:45:10.000015'],\n",
      "              dtype='datetime64[ns]', freq='D')\n",
      "DatetimeIndex(['2020-11-09 14:45:10.000015', '2020-11-09 14:45:11.000015',\n",
      "               '2020-11-09 14:45:12.000015', '2020-11-09 14:45:13.000015',\n",
      "               '2020-11-09 14:45:14.000015', '2020-11-09 14:45:15.000015',\n",
      "               '2020-11-09 14:45:16.000015', '2020-11-09 14:45:17.000015',\n",
      "               '2020-11-09 14:45:18.000015', '2020-11-09 14:45:19.000015',\n",
      "               ...\n",
      "               '2020-11-09 15:45:00.000015', '2020-11-09 15:45:01.000015',\n",
      "               '2020-11-09 15:45:02.000015', '2020-11-09 15:45:03.000015',\n",
      "               '2020-11-09 15:45:04.000015', '2020-11-09 15:45:05.000015',\n",
      "               '2020-11-09 15:45:06.000015', '2020-11-09 15:45:07.000015',\n",
      "               '2020-11-09 15:45:08.000015', '2020-11-09 15:45:09.000015'],\n",
>>>>>>> master
      "              dtype='datetime64[ns]', length=3600, freq='S')\n"
     ]
    }
   ],
   "source": [
    "# to define a date, the datetime module is very useful\n",
    "import datetime as dt\n",
    "date = dt.date.today()\n",
    "print(date)\n",
    "\n",
    "date = dt.datetime(2020,11,9,14,45,10,15)\n",
    "print (date)\n",
    "\n",
    "# otherwise, several notations are interpreted too\n",
    "#date = 'Nov 9 2020'\n",
    "# or alternatively\n",
    "#date = '9/11/2020 14:45:00'\n",
    "print (date)\n",
    "\n",
    "days = pd.date_range(date, periods=7, freq='D')\n",
    "print (days)\n",
    "\n",
    "seconds = pd.date_range(date, periods=3600, freq='s')\n",
    "print (seconds)\n"
   ]
  },
  {
   "cell_type": "markdown",
   "metadata": {},
   "source": [
    "To learn more about the frequency strings, please see this [link](http://pandas.pydata.org/pandas-docs/stable/timeseries.html#offset-aliases)\n",
    "\n",
    "\n",
    "Timestamped data is the most basic type of time series data that associates values with points in time. For pandas objects it means using the points in time.\n",
    "\n",
    "functions like `pd.to_datetime` can be used, for instance, when reading information as string from a dataset"
   ]
  },
  {
   "cell_type": "code",
   "execution_count": 7,
   "metadata": {},
   "outputs": [
    {
     "name": "stdout",
     "output_type": "stream",
     "text": [
      "1604880000000000000\n",
      "<class 'pandas._libs.tslibs.timestamps.Timestamp'>\n",
      "2010-11-12 00:00:00\n",
      "2010-11-12 00:00:00\n",
      "1289520000000000000\n"
     ]
    }
   ],
   "source": [
    "tstamp = pd.Timestamp(dt.datetime(2020, 11, 9))\n",
    "\n",
    "# internally it counts the nanoseconds from January 1st 19\n",
    "#tstamp = pd.Timestamp(dt.datetime(1970, 1, 1, 0, 0, 0, 1))\n",
    "print(tstamp.value)\n",
    "\n",
    "# when creating a timestamp the format can be explicitly passed\n",
    "ts = pd.to_datetime('2010/11/12', format='%Y/%m/%d')\n",
    "print (type(ts))\n",
    "print (ts)\n",
    "ts = pd.to_datetime('12-11-2010 00:00', format='%d-%m-%Y %H:%M')\n",
    "print (ts)\n",
    "print (ts.value)\n",
    "\n"
   ]
  },
  {
   "cell_type": "markdown",
   "metadata": {},
   "source": [
    "A standard series can be created and (range of) elements can be used as indexes"
   ]
  },
  {
   "cell_type": "code",
   "execution_count": 8,
   "metadata": {
    "scrolled": true
   },
   "outputs": [
    {
     "name": "stdout",
     "output_type": "stream",
     "text": [
<<<<<<< HEAD
      "2020-09-11 14:45:00    8.528374\n",
      "2020-09-12 14:45:00    8.793255\n",
      "2020-09-13 14:45:00    9.753742\n",
      "2020-09-14 14:45:00    8.976326\n",
      "Freq: D, dtype: float64 \n",
      "\n",
      "Series([], Freq: D, dtype: float64) \n",
=======
      "2020-11-09 14:45:10.000015     8.600701\n",
      "2020-11-10 14:45:10.000015     9.957186\n",
      "2020-11-11 14:45:10.000015     9.848689\n",
      "2020-11-12 14:45:10.000015    11.149939\n",
      "Freq: D, dtype: float64 \n",
      "\n",
      "2020-11-09 14:45:10.000015    8.600701\n",
      "2020-11-10 14:45:10.000015    9.957186\n",
      "2020-11-11 14:45:10.000015    9.848689\n",
      "Freq: D, dtype: float64 \n",
>>>>>>> master
      "\n"
     ]
    }
   ],
   "source": [
    "tseries = pd.Series(np.random.normal(10, 1, len(days)), index=days)\n",
    "# Extracting elements\n",
    "print (tseries[0:4], '\\n')\n",
    "print (tseries['2020-11-9':'2020-11-11'], '\\n') # Note - includes end time\n"
   ]
  },
  {
   "cell_type": "markdown",
   "metadata": {},
   "source": [
    "`pd.to_datetime` can also be used to create a `DatetimeIndex`:"
   ]
  },
  {
   "cell_type": "code",
   "execution_count": 9,
   "metadata": {},
   "outputs": [
    {
     "data": {
      "text/plain": [
       "DatetimeIndex(['1980-02-04', '1980-02-05', '1980-02-06', '1980-02-07'], dtype='datetime64[ns]', freq=None)"
      ]
     },
     "execution_count": 9,
     "metadata": {},
     "output_type": "execute_result"
    }
   ],
   "source": [
    "pd.to_datetime([1, 2, 3, 4], unit='D', origin=pd.Timestamp('1980-02-03'))"
   ]
  },
  {
   "cell_type": "markdown",
   "metadata": {},
   "source": [
    "## DataFrame\n",
    "\n",
    "A pandas DataFrame is like a simple tabular spreadsheet. For future reference (or for people already familiar with R), a pandas DataFrame is very similar to the R DataFrame.\n",
    "\n",
    "Each column in a DataFrame is a Series object.\n",
    "\n",
    "The element can be whatever, missing data are dealt with too (as NaN)"
   ]
  },
  {
   "cell_type": "markdown",
   "metadata": {},
   "source": [
    "### DataFrame creation\n",
    "\n",
    "A DataFrame can be created implicitly, with, e.g., a DatatimeIndex object as index:"
   ]
  },
  {
   "cell_type": "code",
   "execution_count": 10,
   "metadata": {},
   "outputs": [
    {
     "data": {
      "text/html": [
       "<div>\n",
       "<style scoped>\n",
       "    .dataframe tbody tr th:only-of-type {\n",
       "        vertical-align: middle;\n",
       "    }\n",
       "\n",
       "    .dataframe tbody tr th {\n",
       "        vertical-align: top;\n",
       "    }\n",
       "\n",
       "    .dataframe thead th {\n",
       "        text-align: right;\n",
       "    }\n",
       "</style>\n",
       "<table border=\"1\" class=\"dataframe\">\n",
       "  <thead>\n",
       "    <tr style=\"text-align: right;\">\n",
       "      <th></th>\n",
       "      <th>A</th>\n",
       "      <th>B</th>\n",
       "      <th>C</th>\n",
       "      <th>D</th>\n",
       "    </tr>\n",
       "  </thead>\n",
       "  <tbody>\n",
       "    <tr>\n",
       "      <th>2020-11-09 14:45:00</th>\n",
<<<<<<< HEAD
       "      <td>1.260241</td>\n",
       "      <td>-0.371284</td>\n",
       "      <td>-0.532242</td>\n",
       "      <td>0.814141</td>\n",
       "    </tr>\n",
       "    <tr>\n",
       "      <th>2020-11-09 15:45:00</th>\n",
       "      <td>-1.127918</td>\n",
       "      <td>-0.671627</td>\n",
       "      <td>0.464455</td>\n",
       "      <td>1.796412</td>\n",
       "    </tr>\n",
       "    <tr>\n",
       "      <th>2020-11-09 16:45:00</th>\n",
       "      <td>-1.284273</td>\n",
       "      <td>-0.481479</td>\n",
       "      <td>-0.189562</td>\n",
       "      <td>-1.536073</td>\n",
       "    </tr>\n",
       "    <tr>\n",
       "      <th>2020-11-09 17:45:00</th>\n",
       "      <td>0.439409</td>\n",
       "      <td>-1.685927</td>\n",
       "      <td>-1.175168</td>\n",
       "      <td>-0.452299</td>\n",
       "    </tr>\n",
       "    <tr>\n",
       "      <th>2020-11-09 18:45:00</th>\n",
       "      <td>-0.460468</td>\n",
       "      <td>0.845529</td>\n",
       "      <td>-0.858127</td>\n",
       "      <td>0.987893</td>\n",
       "    </tr>\n",
       "    <tr>\n",
       "      <th>2020-11-09 19:45:00</th>\n",
       "      <td>-1.191730</td>\n",
       "      <td>-0.617910</td>\n",
       "      <td>-0.080656</td>\n",
       "      <td>-0.620962</td>\n",
       "    </tr>\n",
       "    <tr>\n",
       "      <th>2020-11-09 20:45:00</th>\n",
       "      <td>0.878778</td>\n",
       "      <td>-1.938080</td>\n",
       "      <td>-0.366647</td>\n",
       "      <td>-0.690654</td>\n",
       "    </tr>\n",
       "    <tr>\n",
       "      <th>2020-11-09 21:45:00</th>\n",
       "      <td>2.215064</td>\n",
       "      <td>-1.577065</td>\n",
       "      <td>0.889675</td>\n",
       "      <td>0.282736</td>\n",
       "    </tr>\n",
       "    <tr>\n",
       "      <th>2020-11-09 22:45:00</th>\n",
       "      <td>1.483511</td>\n",
       "      <td>0.399441</td>\n",
       "      <td>-1.211552</td>\n",
       "      <td>-0.209453</td>\n",
       "    </tr>\n",
       "    <tr>\n",
       "      <th>2020-11-09 23:45:00</th>\n",
       "      <td>0.300842</td>\n",
       "      <td>0.125939</td>\n",
       "      <td>-1.353353</td>\n",
       "      <td>0.048067</td>\n",
=======
       "      <td>0.285672</td>\n",
       "      <td>-0.941649</td>\n",
       "      <td>0.318398</td>\n",
       "      <td>-1.188904</td>\n",
       "    </tr>\n",
       "    <tr>\n",
       "      <th>2020-11-09 15:45:00</th>\n",
       "      <td>-2.481662</td>\n",
       "      <td>0.699006</td>\n",
       "      <td>0.566518</td>\n",
       "      <td>-1.416604</td>\n",
       "    </tr>\n",
       "    <tr>\n",
       "      <th>2020-11-09 16:45:00</th>\n",
       "      <td>-0.761617</td>\n",
       "      <td>1.086019</td>\n",
       "      <td>-0.803419</td>\n",
       "      <td>-0.662126</td>\n",
       "    </tr>\n",
       "    <tr>\n",
       "      <th>2020-11-09 17:45:00</th>\n",
       "      <td>1.731154</td>\n",
       "      <td>-0.446186</td>\n",
       "      <td>-0.605477</td>\n",
       "      <td>0.412373</td>\n",
       "    </tr>\n",
       "    <tr>\n",
       "      <th>2020-11-09 18:45:00</th>\n",
       "      <td>-0.482729</td>\n",
       "      <td>0.998313</td>\n",
       "      <td>0.630441</td>\n",
       "      <td>0.927891</td>\n",
       "    </tr>\n",
       "    <tr>\n",
       "      <th>2020-11-09 19:45:00</th>\n",
       "      <td>-0.581911</td>\n",
       "      <td>-1.978957</td>\n",
       "      <td>1.009629</td>\n",
       "      <td>-0.232674</td>\n",
       "    </tr>\n",
       "    <tr>\n",
       "      <th>2020-11-09 20:45:00</th>\n",
       "      <td>-0.641403</td>\n",
       "      <td>0.019690</td>\n",
       "      <td>-0.938782</td>\n",
       "      <td>0.465152</td>\n",
       "    </tr>\n",
       "    <tr>\n",
       "      <th>2020-11-09 21:45:00</th>\n",
       "      <td>0.780900</td>\n",
       "      <td>0.435113</td>\n",
       "      <td>0.333215</td>\n",
       "      <td>0.751176</td>\n",
       "    </tr>\n",
       "    <tr>\n",
       "      <th>2020-11-09 22:45:00</th>\n",
       "      <td>0.411493</td>\n",
       "      <td>-1.579712</td>\n",
       "      <td>0.263748</td>\n",
       "      <td>-0.161756</td>\n",
       "    </tr>\n",
       "    <tr>\n",
       "      <th>2020-11-09 23:45:00</th>\n",
       "      <td>-0.041885</td>\n",
       "      <td>0.690319</td>\n",
       "      <td>-0.918700</td>\n",
       "      <td>0.268290</td>\n",
>>>>>>> master
       "    </tr>\n",
       "  </tbody>\n",
       "</table>\n",
       "</div>"
      ],
      "text/plain": [
       "                            A         B         C         D\n",
<<<<<<< HEAD
       "2020-11-09 14:45:00  1.260241 -0.371284 -0.532242  0.814141\n",
       "2020-11-09 15:45:00 -1.127918 -0.671627  0.464455  1.796412\n",
       "2020-11-09 16:45:00 -1.284273 -0.481479 -0.189562 -1.536073\n",
       "2020-11-09 17:45:00  0.439409 -1.685927 -1.175168 -0.452299\n",
       "2020-11-09 18:45:00 -0.460468  0.845529 -0.858127  0.987893\n",
       "2020-11-09 19:45:00 -1.191730 -0.617910 -0.080656 -0.620962\n",
       "2020-11-09 20:45:00  0.878778 -1.938080 -0.366647 -0.690654\n",
       "2020-11-09 21:45:00  2.215064 -1.577065  0.889675  0.282736\n",
       "2020-11-09 22:45:00  1.483511  0.399441 -1.211552 -0.209453\n",
       "2020-11-09 23:45:00  0.300842  0.125939 -1.353353  0.048067"
=======
       "2020-11-09 14:45:00  0.285672 -0.941649  0.318398 -1.188904\n",
       "2020-11-09 15:45:00 -2.481662  0.699006  0.566518 -1.416604\n",
       "2020-11-09 16:45:00 -0.761617  1.086019 -0.803419 -0.662126\n",
       "2020-11-09 17:45:00  1.731154 -0.446186 -0.605477  0.412373\n",
       "2020-11-09 18:45:00 -0.482729  0.998313  0.630441  0.927891\n",
       "2020-11-09 19:45:00 -0.581911 -1.978957  1.009629 -0.232674\n",
       "2020-11-09 20:45:00 -0.641403  0.019690 -0.938782  0.465152\n",
       "2020-11-09 21:45:00  0.780900  0.435113  0.333215  0.751176\n",
       "2020-11-09 22:45:00  0.411493 -1.579712  0.263748 -0.161756\n",
       "2020-11-09 23:45:00 -0.041885  0.690319 -0.918700  0.268290"
>>>>>>> master
      ]
     },
     "execution_count": 10,
     "metadata": {},
     "output_type": "execute_result"
    }
   ],
   "source": [
    "entries=10\n",
    "dates=pd.date_range('11/9/2020 14:45:00',freq='h', periods=entries)\n",
    "df = pd.DataFrame(np.random.randn(entries,4), index=dates, columns=['A','B','C','D'])\n",
    "df\n"
   ]
  },
  {
   "cell_type": "markdown",
   "metadata": {},
   "source": [
    "or by means of a dictionary:\n"
   ]
  },
  {
   "cell_type": "code",
   "execution_count": 11,
   "metadata": {},
   "outputs": [
    {
     "data": {
      "text/html": [
       "<div>\n",
       "<style scoped>\n",
       "    .dataframe tbody tr th:only-of-type {\n",
       "        vertical-align: middle;\n",
       "    }\n",
       "\n",
       "    .dataframe tbody tr th {\n",
       "        vertical-align: top;\n",
       "    }\n",
       "\n",
       "    .dataframe thead th {\n",
       "        text-align: right;\n",
       "    }\n",
       "</style>\n",
       "<table border=\"1\" class=\"dataframe\">\n",
       "  <thead>\n",
       "    <tr style=\"text-align: right;\">\n",
       "      <th></th>\n",
       "      <th>A</th>\n",
       "      <th>B</th>\n",
       "      <th>C</th>\n",
       "      <th>D</th>\n",
       "      <th>E</th>\n",
       "    </tr>\n",
       "  </thead>\n",
       "  <tbody>\n",
       "    <tr>\n",
       "      <th>0</th>\n",
       "      <td>1.0</td>\n",
       "      <td>2013-01-02</td>\n",
       "      <td>1.0</td>\n",
       "      <td>7</td>\n",
       "      <td>test</td>\n",
       "    </tr>\n",
       "    <tr>\n",
       "      <th>1</th>\n",
       "      <td>1.0</td>\n",
       "      <td>2013-01-02</td>\n",
       "      <td>1.0</td>\n",
       "      <td>8</td>\n",
       "      <td>train</td>\n",
       "    </tr>\n",
       "    <tr>\n",
       "      <th>2</th>\n",
       "      <td>1.0</td>\n",
       "      <td>2013-01-02</td>\n",
       "      <td>1.0</td>\n",
       "      <td>9</td>\n",
       "      <td>test</td>\n",
       "    </tr>\n",
       "    <tr>\n",
       "      <th>3</th>\n",
       "      <td>1.0</td>\n",
       "      <td>2013-01-02</td>\n",
       "      <td>1.0</td>\n",
       "      <td>10</td>\n",
       "      <td>train</td>\n",
       "    </tr>\n",
       "  </tbody>\n",
       "</table>\n",
       "</div>"
      ],
      "text/plain": [
       "     A          B    C   D      E\n",
       "0  1.0 2013-01-02  1.0   7   test\n",
       "1  1.0 2013-01-02  1.0   8  train\n",
       "2  1.0 2013-01-02  1.0   9   test\n",
       "3  1.0 2013-01-02  1.0  10  train"
      ]
     },
     "execution_count": 11,
     "metadata": {},
     "output_type": "execute_result"
    }
   ],
   "source": [
    "df2 = pd.DataFrame(\n",
    "    { 'A' : 1.,\n",
    "      'B' : pd.Timestamp('20130102'),\n",
    "      'C' : pd.Series(1,index=range(4),dtype='float32'),\n",
    "      'D' : np.arange(7,11),\n",
    "      'E' : pd.Categorical([\"test\",\"train\",\"test\",\"train\"]),\n",
    "    }\n",
    "    )\n",
    "df2"
   ]
  },
  {
   "cell_type": "markdown",
   "metadata": {},
   "source": [
    "### Viewing Data"
   ]
  },
  {
   "cell_type": "code",
   "execution_count": 12,
   "metadata": {},
   "outputs": [
    {
     "data": {
      "text/html": [
       "<div>\n",
       "<style scoped>\n",
       "    .dataframe tbody tr th:only-of-type {\n",
       "        vertical-align: middle;\n",
       "    }\n",
       "\n",
       "    .dataframe tbody tr th {\n",
       "        vertical-align: top;\n",
       "    }\n",
       "\n",
       "    .dataframe thead th {\n",
       "        text-align: right;\n",
       "    }\n",
       "</style>\n",
       "<table border=\"1\" class=\"dataframe\">\n",
       "  <thead>\n",
       "    <tr style=\"text-align: right;\">\n",
       "      <th></th>\n",
       "      <th>A</th>\n",
       "      <th>B</th>\n",
       "      <th>C</th>\n",
       "      <th>D</th>\n",
       "    </tr>\n",
       "  </thead>\n",
       "  <tbody>\n",
       "    <tr>\n",
       "      <th>2020-11-09 14:45:00</th>\n",
<<<<<<< HEAD
       "      <td>1.260241</td>\n",
       "      <td>-0.371284</td>\n",
       "      <td>-0.532242</td>\n",
       "      <td>0.814141</td>\n",
       "    </tr>\n",
       "    <tr>\n",
       "      <th>2020-11-09 15:45:00</th>\n",
       "      <td>-1.127918</td>\n",
       "      <td>-0.671627</td>\n",
       "      <td>0.464455</td>\n",
       "      <td>1.796412</td>\n",
       "    </tr>\n",
       "    <tr>\n",
       "      <th>2020-11-09 16:45:00</th>\n",
       "      <td>-1.284273</td>\n",
       "      <td>-0.481479</td>\n",
       "      <td>-0.189562</td>\n",
       "      <td>-1.536073</td>\n",
       "    </tr>\n",
       "    <tr>\n",
       "      <th>2020-11-09 17:45:00</th>\n",
       "      <td>0.439409</td>\n",
       "      <td>-1.685927</td>\n",
       "      <td>-1.175168</td>\n",
       "      <td>-0.452299</td>\n",
       "    </tr>\n",
       "    <tr>\n",
       "      <th>2020-11-09 18:45:00</th>\n",
       "      <td>-0.460468</td>\n",
       "      <td>0.845529</td>\n",
       "      <td>-0.858127</td>\n",
       "      <td>0.987893</td>\n",
=======
       "      <td>0.285672</td>\n",
       "      <td>-0.941649</td>\n",
       "      <td>0.318398</td>\n",
       "      <td>-1.188904</td>\n",
       "    </tr>\n",
       "    <tr>\n",
       "      <th>2020-11-09 15:45:00</th>\n",
       "      <td>-2.481662</td>\n",
       "      <td>0.699006</td>\n",
       "      <td>0.566518</td>\n",
       "      <td>-1.416604</td>\n",
       "    </tr>\n",
       "    <tr>\n",
       "      <th>2020-11-09 16:45:00</th>\n",
       "      <td>-0.761617</td>\n",
       "      <td>1.086019</td>\n",
       "      <td>-0.803419</td>\n",
       "      <td>-0.662126</td>\n",
       "    </tr>\n",
       "    <tr>\n",
       "      <th>2020-11-09 17:45:00</th>\n",
       "      <td>1.731154</td>\n",
       "      <td>-0.446186</td>\n",
       "      <td>-0.605477</td>\n",
       "      <td>0.412373</td>\n",
       "    </tr>\n",
       "    <tr>\n",
       "      <th>2020-11-09 18:45:00</th>\n",
       "      <td>-0.482729</td>\n",
       "      <td>0.998313</td>\n",
       "      <td>0.630441</td>\n",
       "      <td>0.927891</td>\n",
>>>>>>> master
       "    </tr>\n",
       "  </tbody>\n",
       "</table>\n",
       "</div>"
      ],
      "text/plain": [
       "                            A         B         C         D\n",
<<<<<<< HEAD
       "2020-11-09 14:45:00  1.260241 -0.371284 -0.532242  0.814141\n",
       "2020-11-09 15:45:00 -1.127918 -0.671627  0.464455  1.796412\n",
       "2020-11-09 16:45:00 -1.284273 -0.481479 -0.189562 -1.536073\n",
       "2020-11-09 17:45:00  0.439409 -1.685927 -1.175168 -0.452299\n",
       "2020-11-09 18:45:00 -0.460468  0.845529 -0.858127  0.987893"
=======
       "2020-11-09 14:45:00  0.285672 -0.941649  0.318398 -1.188904\n",
       "2020-11-09 15:45:00 -2.481662  0.699006  0.566518 -1.416604\n",
       "2020-11-09 16:45:00 -0.761617  1.086019 -0.803419 -0.662126\n",
       "2020-11-09 17:45:00  1.731154 -0.446186 -0.605477  0.412373\n",
       "2020-11-09 18:45:00 -0.482729  0.998313  0.630441  0.927891"
>>>>>>> master
      ]
     },
     "execution_count": 12,
     "metadata": {},
     "output_type": "execute_result"
    }
   ],
   "source": [
    "df.head()"
   ]
  },
  {
   "cell_type": "code",
   "execution_count": 13,
   "metadata": {},
   "outputs": [
    {
     "data": {
      "text/html": [
       "<div>\n",
       "<style scoped>\n",
       "    .dataframe tbody tr th:only-of-type {\n",
       "        vertical-align: middle;\n",
       "    }\n",
       "\n",
       "    .dataframe tbody tr th {\n",
       "        vertical-align: top;\n",
       "    }\n",
       "\n",
       "    .dataframe thead th {\n",
       "        text-align: right;\n",
       "    }\n",
       "</style>\n",
       "<table border=\"1\" class=\"dataframe\">\n",
       "  <thead>\n",
       "    <tr style=\"text-align: right;\">\n",
       "      <th></th>\n",
       "      <th>A</th>\n",
       "      <th>B</th>\n",
       "      <th>C</th>\n",
       "      <th>D</th>\n",
       "    </tr>\n",
       "  </thead>\n",
       "  <tbody>\n",
       "    <tr>\n",
       "      <th>2020-11-09 20:45:00</th>\n",
<<<<<<< HEAD
       "      <td>0.878778</td>\n",
       "      <td>-1.938080</td>\n",
       "      <td>-0.366647</td>\n",
       "      <td>-0.690654</td>\n",
       "    </tr>\n",
       "    <tr>\n",
       "      <th>2020-11-09 21:45:00</th>\n",
       "      <td>2.215064</td>\n",
       "      <td>-1.577065</td>\n",
       "      <td>0.889675</td>\n",
       "      <td>0.282736</td>\n",
       "    </tr>\n",
       "    <tr>\n",
       "      <th>2020-11-09 22:45:00</th>\n",
       "      <td>1.483511</td>\n",
       "      <td>0.399441</td>\n",
       "      <td>-1.211552</td>\n",
       "      <td>-0.209453</td>\n",
       "    </tr>\n",
       "    <tr>\n",
       "      <th>2020-11-09 23:45:00</th>\n",
       "      <td>0.300842</td>\n",
       "      <td>0.125939</td>\n",
       "      <td>-1.353353</td>\n",
       "      <td>0.048067</td>\n",
=======
       "      <td>-0.641403</td>\n",
       "      <td>0.019690</td>\n",
       "      <td>-0.938782</td>\n",
       "      <td>0.465152</td>\n",
       "    </tr>\n",
       "    <tr>\n",
       "      <th>2020-11-09 21:45:00</th>\n",
       "      <td>0.780900</td>\n",
       "      <td>0.435113</td>\n",
       "      <td>0.333215</td>\n",
       "      <td>0.751176</td>\n",
       "    </tr>\n",
       "    <tr>\n",
       "      <th>2020-11-09 22:45:00</th>\n",
       "      <td>0.411493</td>\n",
       "      <td>-1.579712</td>\n",
       "      <td>0.263748</td>\n",
       "      <td>-0.161756</td>\n",
       "    </tr>\n",
       "    <tr>\n",
       "      <th>2020-11-09 23:45:00</th>\n",
       "      <td>-0.041885</td>\n",
       "      <td>0.690319</td>\n",
       "      <td>-0.918700</td>\n",
       "      <td>0.268290</td>\n",
>>>>>>> master
       "    </tr>\n",
       "  </tbody>\n",
       "</table>\n",
       "</div>"
      ],
      "text/plain": [
       "                            A         B         C         D\n",
<<<<<<< HEAD
       "2020-11-09 20:45:00  0.878778 -1.938080 -0.366647 -0.690654\n",
       "2020-11-09 21:45:00  2.215064 -1.577065  0.889675  0.282736\n",
       "2020-11-09 22:45:00  1.483511  0.399441 -1.211552 -0.209453\n",
       "2020-11-09 23:45:00  0.300842  0.125939 -1.353353  0.048067"
=======
       "2020-11-09 20:45:00 -0.641403  0.019690 -0.938782  0.465152\n",
       "2020-11-09 21:45:00  0.780900  0.435113  0.333215  0.751176\n",
       "2020-11-09 22:45:00  0.411493 -1.579712  0.263748 -0.161756\n",
       "2020-11-09 23:45:00 -0.041885  0.690319 -0.918700  0.268290"
>>>>>>> master
      ]
     },
     "execution_count": 13,
     "metadata": {},
     "output_type": "execute_result"
    }
   ],
   "source": [
    "df.tail(4)"
   ]
  },
  {
   "cell_type": "code",
   "execution_count": 14,
   "metadata": {},
   "outputs": [
    {
     "data": {
      "text/plain": [
       "DatetimeIndex(['2020-11-09 14:45:00', '2020-11-09 15:45:00',\n",
       "               '2020-11-09 16:45:00', '2020-11-09 17:45:00',\n",
       "               '2020-11-09 18:45:00', '2020-11-09 19:45:00',\n",
       "               '2020-11-09 20:45:00', '2020-11-09 21:45:00',\n",
       "               '2020-11-09 22:45:00', '2020-11-09 23:45:00'],\n",
       "              dtype='datetime64[ns]', freq='H')"
      ]
     },
     "execution_count": 14,
     "metadata": {},
     "output_type": "execute_result"
    }
   ],
   "source": [
    "df.index"
   ]
  },
  {
   "cell_type": "code",
   "execution_count": 15,
   "metadata": {},
   "outputs": [
    {
     "data": {
      "text/plain": [
       "Index(['A', 'B', 'C', 'D'], dtype='object')"
      ]
     },
     "execution_count": 15,
     "metadata": {},
     "output_type": "execute_result"
    }
   ],
   "source": [
    "df.columns"
   ]
  },
  {
   "cell_type": "code",
   "execution_count": 16,
   "metadata": {},
   "outputs": [
    {
     "data": {
      "text/plain": [
<<<<<<< HEAD
       "array([[ 1.26024051, -0.37128377, -0.53224233,  0.81414078],\n",
       "       [-1.12791842, -0.67162714,  0.46445504,  1.79641237],\n",
       "       [-1.28427313, -0.48147851, -0.18956152, -1.53607344],\n",
       "       [ 0.43940949, -1.68592679, -1.17516824, -0.45229878],\n",
       "       [-0.46046751,  0.8455293 , -0.85812659,  0.98789298],\n",
       "       [-1.19173021, -0.61790986, -0.08065568, -0.62096154],\n",
       "       [ 0.87877787, -1.93808043, -0.3666468 , -0.69065376],\n",
       "       [ 2.2150637 , -1.57706498,  0.88967454,  0.28273632],\n",
       "       [ 1.48351088,  0.39944068, -1.21155184, -0.20945315],\n",
       "       [ 0.30084155,  0.1259388 , -1.3533529 ,  0.04806654]])"
=======
       "array([[ 0.28567198, -0.94164854,  0.31839828, -1.18890354],\n",
       "       [-2.48166176,  0.6990057 ,  0.56651816, -1.41660358],\n",
       "       [-0.76161729,  1.08601901, -0.80341856, -0.66212577],\n",
       "       [ 1.73115411, -0.44618629, -0.60547731,  0.41237313],\n",
       "       [-0.48272885,  0.99831325,  0.63044148,  0.92789111],\n",
       "       [-0.58191052, -1.97895701,  1.00962907, -0.23267424],\n",
       "       [-0.64140286,  0.01969019, -0.93878234,  0.46515229],\n",
       "       [ 0.78090035,  0.4351125 ,  0.33321515,  0.75117554],\n",
       "       [ 0.41149333, -1.57971207,  0.26374847, -0.16175637],\n",
       "       [-0.04188491,  0.6903188 , -0.91870014,  0.26829007]])"
>>>>>>> master
      ]
     },
     "execution_count": 16,
     "metadata": {},
     "output_type": "execute_result"
    }
   ],
   "source": [
    "df.values"
   ]
  },
  {
   "cell_type": "code",
   "execution_count": 17,
   "metadata": {},
   "outputs": [
    {
     "data": {
      "text/html": [
       "<div>\n",
       "<style scoped>\n",
       "    .dataframe tbody tr th:only-of-type {\n",
       "        vertical-align: middle;\n",
       "    }\n",
       "\n",
       "    .dataframe tbody tr th {\n",
       "        vertical-align: top;\n",
       "    }\n",
       "\n",
       "    .dataframe thead th {\n",
       "        text-align: right;\n",
       "    }\n",
       "</style>\n",
       "<table border=\"1\" class=\"dataframe\">\n",
       "  <thead>\n",
       "    <tr style=\"text-align: right;\">\n",
       "      <th></th>\n",
       "      <th>A</th>\n",
       "      <th>B</th>\n",
       "      <th>C</th>\n",
       "      <th>D</th>\n",
       "    </tr>\n",
       "  </thead>\n",
       "  <tbody>\n",
       "    <tr>\n",
       "      <th>count</th>\n",
       "      <td>10.000000</td>\n",
       "      <td>10.000000</td>\n",
       "      <td>10.000000</td>\n",
       "      <td>10.000000</td>\n",
       "    </tr>\n",
       "    <tr>\n",
       "      <th>mean</th>\n",
<<<<<<< HEAD
       "      <td>0.251345</td>\n",
       "      <td>-0.597246</td>\n",
       "      <td>-0.441318</td>\n",
       "      <td>0.041981</td>\n",
       "    </tr>\n",
       "    <tr>\n",
       "      <th>std</th>\n",
       "      <td>1.232586</td>\n",
       "      <td>0.919632</td>\n",
       "      <td>0.740615</td>\n",
       "      <td>0.966152</td>\n",
       "    </tr>\n",
       "    <tr>\n",
       "      <th>min</th>\n",
       "      <td>-1.284273</td>\n",
       "      <td>-1.938080</td>\n",
       "      <td>-1.353353</td>\n",
       "      <td>-1.536073</td>\n",
       "    </tr>\n",
       "    <tr>\n",
       "      <th>25%</th>\n",
       "      <td>-0.961056</td>\n",
       "      <td>-1.350706</td>\n",
       "      <td>-1.095908</td>\n",
       "      <td>-0.578796</td>\n",
       "    </tr>\n",
       "    <tr>\n",
       "      <th>50%</th>\n",
       "      <td>0.370126</td>\n",
       "      <td>-0.549694</td>\n",
       "      <td>-0.449445</td>\n",
       "      <td>-0.080693</td>\n",
       "    </tr>\n",
       "    <tr>\n",
       "      <th>75%</th>\n",
       "      <td>1.164875</td>\n",
       "      <td>0.001633</td>\n",
       "      <td>-0.107882</td>\n",
       "      <td>0.681290</td>\n",
       "    </tr>\n",
       "    <tr>\n",
       "      <th>max</th>\n",
       "      <td>2.215064</td>\n",
       "      <td>0.845529</td>\n",
       "      <td>0.889675</td>\n",
       "      <td>1.796412</td>\n",
=======
       "      <td>-0.178199</td>\n",
       "      <td>-0.101804</td>\n",
       "      <td>-0.014443</td>\n",
       "      <td>-0.083718</td>\n",
       "    </tr>\n",
       "    <tr>\n",
       "      <th>std</th>\n",
       "      <td>1.118709</td>\n",
       "      <td>1.091626</td>\n",
       "      <td>0.726869</td>\n",
       "      <td>0.799481</td>\n",
       "    </tr>\n",
       "    <tr>\n",
       "      <th>min</th>\n",
       "      <td>-2.481662</td>\n",
       "      <td>-1.978957</td>\n",
       "      <td>-0.938782</td>\n",
       "      <td>-1.416604</td>\n",
       "    </tr>\n",
       "    <tr>\n",
       "      <th>25%</th>\n",
       "      <td>-0.626530</td>\n",
       "      <td>-0.817783</td>\n",
       "      <td>-0.753933</td>\n",
       "      <td>-0.554763</td>\n",
       "    </tr>\n",
       "    <tr>\n",
       "      <th>50%</th>\n",
       "      <td>-0.262307</td>\n",
       "      <td>0.227401</td>\n",
       "      <td>0.291073</td>\n",
       "      <td>0.053267</td>\n",
       "    </tr>\n",
       "    <tr>\n",
       "      <th>75%</th>\n",
       "      <td>0.380038</td>\n",
       "      <td>0.696834</td>\n",
       "      <td>0.508192</td>\n",
       "      <td>0.451958</td>\n",
       "    </tr>\n",
       "    <tr>\n",
       "      <th>max</th>\n",
       "      <td>1.731154</td>\n",
       "      <td>1.086019</td>\n",
       "      <td>1.009629</td>\n",
       "      <td>0.927891</td>\n",
>>>>>>> master
       "    </tr>\n",
       "  </tbody>\n",
       "</table>\n",
       "</div>"
      ],
      "text/plain": [
       "               A          B          C          D\n",
       "count  10.000000  10.000000  10.000000  10.000000\n",
<<<<<<< HEAD
       "mean    0.251345  -0.597246  -0.441318   0.041981\n",
       "std     1.232586   0.919632   0.740615   0.966152\n",
       "min    -1.284273  -1.938080  -1.353353  -1.536073\n",
       "25%    -0.961056  -1.350706  -1.095908  -0.578796\n",
       "50%     0.370126  -0.549694  -0.449445  -0.080693\n",
       "75%     1.164875   0.001633  -0.107882   0.681290\n",
       "max     2.215064   0.845529   0.889675   1.796412"
=======
       "mean   -0.178199  -0.101804  -0.014443  -0.083718\n",
       "std     1.118709   1.091626   0.726869   0.799481\n",
       "min    -2.481662  -1.978957  -0.938782  -1.416604\n",
       "25%    -0.626530  -0.817783  -0.753933  -0.554763\n",
       "50%    -0.262307   0.227401   0.291073   0.053267\n",
       "75%     0.380038   0.696834   0.508192   0.451958\n",
       "max     1.731154   1.086019   1.009629   0.927891"
>>>>>>> master
      ]
     },
     "execution_count": 17,
     "metadata": {},
     "output_type": "execute_result"
    }
   ],
   "source": [
    "df.describe()"
   ]
  },
  {
   "cell_type": "code",
   "execution_count": 18,
   "metadata": {},
   "outputs": [
    {
     "data": {
      "text/html": [
       "<div>\n",
       "<style scoped>\n",
       "    .dataframe tbody tr th:only-of-type {\n",
       "        vertical-align: middle;\n",
       "    }\n",
       "\n",
       "    .dataframe tbody tr th {\n",
       "        vertical-align: top;\n",
       "    }\n",
       "\n",
       "    .dataframe thead th {\n",
       "        text-align: right;\n",
       "    }\n",
       "</style>\n",
       "<table border=\"1\" class=\"dataframe\">\n",
       "  <thead>\n",
       "    <tr style=\"text-align: right;\">\n",
       "      <th></th>\n",
       "      <th>2020-11-09 14:45:00</th>\n",
       "      <th>2020-11-09 15:45:00</th>\n",
       "      <th>2020-11-09 16:45:00</th>\n",
       "      <th>2020-11-09 17:45:00</th>\n",
       "      <th>2020-11-09 18:45:00</th>\n",
       "      <th>2020-11-09 19:45:00</th>\n",
       "      <th>2020-11-09 20:45:00</th>\n",
       "      <th>2020-11-09 21:45:00</th>\n",
       "      <th>2020-11-09 22:45:00</th>\n",
       "      <th>2020-11-09 23:45:00</th>\n",
       "    </tr>\n",
       "  </thead>\n",
       "  <tbody>\n",
       "    <tr>\n",
       "      <th>A</th>\n",
<<<<<<< HEAD
       "      <td>1.260241</td>\n",
       "      <td>-1.127918</td>\n",
       "      <td>-1.284273</td>\n",
       "      <td>0.439409</td>\n",
       "      <td>-0.460468</td>\n",
       "      <td>-1.191730</td>\n",
       "      <td>0.878778</td>\n",
       "      <td>2.215064</td>\n",
       "      <td>1.483511</td>\n",
       "      <td>0.300842</td>\n",
       "    </tr>\n",
       "    <tr>\n",
       "      <th>B</th>\n",
       "      <td>-0.371284</td>\n",
       "      <td>-0.671627</td>\n",
       "      <td>-0.481479</td>\n",
       "      <td>-1.685927</td>\n",
       "      <td>0.845529</td>\n",
       "      <td>-0.617910</td>\n",
       "      <td>-1.938080</td>\n",
       "      <td>-1.577065</td>\n",
       "      <td>0.399441</td>\n",
       "      <td>0.125939</td>\n",
       "    </tr>\n",
       "    <tr>\n",
       "      <th>C</th>\n",
       "      <td>-0.532242</td>\n",
       "      <td>0.464455</td>\n",
       "      <td>-0.189562</td>\n",
       "      <td>-1.175168</td>\n",
       "      <td>-0.858127</td>\n",
       "      <td>-0.080656</td>\n",
       "      <td>-0.366647</td>\n",
       "      <td>0.889675</td>\n",
       "      <td>-1.211552</td>\n",
       "      <td>-1.353353</td>\n",
       "    </tr>\n",
       "    <tr>\n",
       "      <th>D</th>\n",
       "      <td>0.814141</td>\n",
       "      <td>1.796412</td>\n",
       "      <td>-1.536073</td>\n",
       "      <td>-0.452299</td>\n",
       "      <td>0.987893</td>\n",
       "      <td>-0.620962</td>\n",
       "      <td>-0.690654</td>\n",
       "      <td>0.282736</td>\n",
       "      <td>-0.209453</td>\n",
       "      <td>0.048067</td>\n",
=======
       "      <td>0.285672</td>\n",
       "      <td>-2.481662</td>\n",
       "      <td>-0.761617</td>\n",
       "      <td>1.731154</td>\n",
       "      <td>-0.482729</td>\n",
       "      <td>-0.581911</td>\n",
       "      <td>-0.641403</td>\n",
       "      <td>0.780900</td>\n",
       "      <td>0.411493</td>\n",
       "      <td>-0.041885</td>\n",
       "    </tr>\n",
       "    <tr>\n",
       "      <th>B</th>\n",
       "      <td>-0.941649</td>\n",
       "      <td>0.699006</td>\n",
       "      <td>1.086019</td>\n",
       "      <td>-0.446186</td>\n",
       "      <td>0.998313</td>\n",
       "      <td>-1.978957</td>\n",
       "      <td>0.019690</td>\n",
       "      <td>0.435113</td>\n",
       "      <td>-1.579712</td>\n",
       "      <td>0.690319</td>\n",
       "    </tr>\n",
       "    <tr>\n",
       "      <th>C</th>\n",
       "      <td>0.318398</td>\n",
       "      <td>0.566518</td>\n",
       "      <td>-0.803419</td>\n",
       "      <td>-0.605477</td>\n",
       "      <td>0.630441</td>\n",
       "      <td>1.009629</td>\n",
       "      <td>-0.938782</td>\n",
       "      <td>0.333215</td>\n",
       "      <td>0.263748</td>\n",
       "      <td>-0.918700</td>\n",
       "    </tr>\n",
       "    <tr>\n",
       "      <th>D</th>\n",
       "      <td>-1.188904</td>\n",
       "      <td>-1.416604</td>\n",
       "      <td>-0.662126</td>\n",
       "      <td>0.412373</td>\n",
       "      <td>0.927891</td>\n",
       "      <td>-0.232674</td>\n",
       "      <td>0.465152</td>\n",
       "      <td>0.751176</td>\n",
       "      <td>-0.161756</td>\n",
       "      <td>0.268290</td>\n",
>>>>>>> master
       "    </tr>\n",
       "  </tbody>\n",
       "</table>\n",
       "</div>"
      ],
      "text/plain": [
       "   2020-11-09 14:45:00  2020-11-09 15:45:00  2020-11-09 16:45:00  \\\n",
<<<<<<< HEAD
       "A             1.260241            -1.127918            -1.284273   \n",
       "B            -0.371284            -0.671627            -0.481479   \n",
       "C            -0.532242             0.464455            -0.189562   \n",
       "D             0.814141             1.796412            -1.536073   \n",
       "\n",
       "   2020-11-09 17:45:00  2020-11-09 18:45:00  2020-11-09 19:45:00  \\\n",
       "A             0.439409            -0.460468            -1.191730   \n",
       "B            -1.685927             0.845529            -0.617910   \n",
       "C            -1.175168            -0.858127            -0.080656   \n",
       "D            -0.452299             0.987893            -0.620962   \n",
       "\n",
       "   2020-11-09 20:45:00  2020-11-09 21:45:00  2020-11-09 22:45:00  \\\n",
       "A             0.878778             2.215064             1.483511   \n",
       "B            -1.938080            -1.577065             0.399441   \n",
       "C            -0.366647             0.889675            -1.211552   \n",
       "D            -0.690654             0.282736            -0.209453   \n",
       "\n",
       "   2020-11-09 23:45:00  \n",
       "A             0.300842  \n",
       "B             0.125939  \n",
       "C            -1.353353  \n",
       "D             0.048067  "
=======
       "A             0.285672            -2.481662            -0.761617   \n",
       "B            -0.941649             0.699006             1.086019   \n",
       "C             0.318398             0.566518            -0.803419   \n",
       "D            -1.188904            -1.416604            -0.662126   \n",
       "\n",
       "   2020-11-09 17:45:00  2020-11-09 18:45:00  2020-11-09 19:45:00  \\\n",
       "A             1.731154            -0.482729            -0.581911   \n",
       "B            -0.446186             0.998313            -1.978957   \n",
       "C            -0.605477             0.630441             1.009629   \n",
       "D             0.412373             0.927891            -0.232674   \n",
       "\n",
       "   2020-11-09 20:45:00  2020-11-09 21:45:00  2020-11-09 22:45:00  \\\n",
       "A            -0.641403             0.780900             0.411493   \n",
       "B             0.019690             0.435113            -1.579712   \n",
       "C            -0.938782             0.333215             0.263748   \n",
       "D             0.465152             0.751176            -0.161756   \n",
       "\n",
       "   2020-11-09 23:45:00  \n",
       "A            -0.041885  \n",
       "B             0.690319  \n",
       "C            -0.918700  \n",
       "D             0.268290  "
>>>>>>> master
      ]
     },
     "execution_count": 18,
     "metadata": {},
     "output_type": "execute_result"
    }
   ],
   "source": [
    "df.T"
   ]
  },
  {
   "cell_type": "code",
   "execution_count": 19,
   "metadata": {},
   "outputs": [
    {
     "data": {
      "text/html": [
       "<div>\n",
       "<style scoped>\n",
       "    .dataframe tbody tr th:only-of-type {\n",
       "        vertical-align: middle;\n",
       "    }\n",
       "\n",
       "    .dataframe tbody tr th {\n",
       "        vertical-align: top;\n",
       "    }\n",
       "\n",
       "    .dataframe thead th {\n",
       "        text-align: right;\n",
       "    }\n",
       "</style>\n",
       "<table border=\"1\" class=\"dataframe\">\n",
       "  <thead>\n",
       "    <tr style=\"text-align: right;\">\n",
       "      <th></th>\n",
       "      <th>D</th>\n",
       "      <th>C</th>\n",
       "      <th>B</th>\n",
       "      <th>A</th>\n",
       "    </tr>\n",
       "  </thead>\n",
       "  <tbody>\n",
       "    <tr>\n",
       "      <th>2020-11-09 14:45:00</th>\n",
<<<<<<< HEAD
       "      <td>0.814141</td>\n",
       "      <td>-0.532242</td>\n",
       "      <td>-0.371284</td>\n",
       "      <td>1.260241</td>\n",
       "    </tr>\n",
       "    <tr>\n",
       "      <th>2020-11-09 15:45:00</th>\n",
       "      <td>1.796412</td>\n",
       "      <td>0.464455</td>\n",
       "      <td>-0.671627</td>\n",
       "      <td>-1.127918</td>\n",
       "    </tr>\n",
       "    <tr>\n",
       "      <th>2020-11-09 16:45:00</th>\n",
       "      <td>-1.536073</td>\n",
       "      <td>-0.189562</td>\n",
       "      <td>-0.481479</td>\n",
       "      <td>-1.284273</td>\n",
       "    </tr>\n",
       "    <tr>\n",
       "      <th>2020-11-09 17:45:00</th>\n",
       "      <td>-0.452299</td>\n",
       "      <td>-1.175168</td>\n",
       "      <td>-1.685927</td>\n",
       "      <td>0.439409</td>\n",
       "    </tr>\n",
       "    <tr>\n",
       "      <th>2020-11-09 18:45:00</th>\n",
       "      <td>0.987893</td>\n",
       "      <td>-0.858127</td>\n",
       "      <td>0.845529</td>\n",
       "      <td>-0.460468</td>\n",
       "    </tr>\n",
       "    <tr>\n",
       "      <th>2020-11-09 19:45:00</th>\n",
       "      <td>-0.620962</td>\n",
       "      <td>-0.080656</td>\n",
       "      <td>-0.617910</td>\n",
       "      <td>-1.191730</td>\n",
       "    </tr>\n",
       "    <tr>\n",
       "      <th>2020-11-09 20:45:00</th>\n",
       "      <td>-0.690654</td>\n",
       "      <td>-0.366647</td>\n",
       "      <td>-1.938080</td>\n",
       "      <td>0.878778</td>\n",
       "    </tr>\n",
       "    <tr>\n",
       "      <th>2020-11-09 21:45:00</th>\n",
       "      <td>0.282736</td>\n",
       "      <td>0.889675</td>\n",
       "      <td>-1.577065</td>\n",
       "      <td>2.215064</td>\n",
       "    </tr>\n",
       "    <tr>\n",
       "      <th>2020-11-09 22:45:00</th>\n",
       "      <td>-0.209453</td>\n",
       "      <td>-1.211552</td>\n",
       "      <td>0.399441</td>\n",
       "      <td>1.483511</td>\n",
       "    </tr>\n",
       "    <tr>\n",
       "      <th>2020-11-09 23:45:00</th>\n",
       "      <td>0.048067</td>\n",
       "      <td>-1.353353</td>\n",
       "      <td>0.125939</td>\n",
       "      <td>0.300842</td>\n",
=======
       "      <td>-1.188904</td>\n",
       "      <td>0.318398</td>\n",
       "      <td>-0.941649</td>\n",
       "      <td>0.285672</td>\n",
       "    </tr>\n",
       "    <tr>\n",
       "      <th>2020-11-09 15:45:00</th>\n",
       "      <td>-1.416604</td>\n",
       "      <td>0.566518</td>\n",
       "      <td>0.699006</td>\n",
       "      <td>-2.481662</td>\n",
       "    </tr>\n",
       "    <tr>\n",
       "      <th>2020-11-09 16:45:00</th>\n",
       "      <td>-0.662126</td>\n",
       "      <td>-0.803419</td>\n",
       "      <td>1.086019</td>\n",
       "      <td>-0.761617</td>\n",
       "    </tr>\n",
       "    <tr>\n",
       "      <th>2020-11-09 17:45:00</th>\n",
       "      <td>0.412373</td>\n",
       "      <td>-0.605477</td>\n",
       "      <td>-0.446186</td>\n",
       "      <td>1.731154</td>\n",
       "    </tr>\n",
       "    <tr>\n",
       "      <th>2020-11-09 18:45:00</th>\n",
       "      <td>0.927891</td>\n",
       "      <td>0.630441</td>\n",
       "      <td>0.998313</td>\n",
       "      <td>-0.482729</td>\n",
       "    </tr>\n",
       "    <tr>\n",
       "      <th>2020-11-09 19:45:00</th>\n",
       "      <td>-0.232674</td>\n",
       "      <td>1.009629</td>\n",
       "      <td>-1.978957</td>\n",
       "      <td>-0.581911</td>\n",
       "    </tr>\n",
       "    <tr>\n",
       "      <th>2020-11-09 20:45:00</th>\n",
       "      <td>0.465152</td>\n",
       "      <td>-0.938782</td>\n",
       "      <td>0.019690</td>\n",
       "      <td>-0.641403</td>\n",
       "    </tr>\n",
       "    <tr>\n",
       "      <th>2020-11-09 21:45:00</th>\n",
       "      <td>0.751176</td>\n",
       "      <td>0.333215</td>\n",
       "      <td>0.435113</td>\n",
       "      <td>0.780900</td>\n",
       "    </tr>\n",
       "    <tr>\n",
       "      <th>2020-11-09 22:45:00</th>\n",
       "      <td>-0.161756</td>\n",
       "      <td>0.263748</td>\n",
       "      <td>-1.579712</td>\n",
       "      <td>0.411493</td>\n",
       "    </tr>\n",
       "    <tr>\n",
       "      <th>2020-11-09 23:45:00</th>\n",
       "      <td>0.268290</td>\n",
       "      <td>-0.918700</td>\n",
       "      <td>0.690319</td>\n",
       "      <td>-0.041885</td>\n",
>>>>>>> master
       "    </tr>\n",
       "  </tbody>\n",
       "</table>\n",
       "</div>"
      ],
      "text/plain": [
       "                            D         C         B         A\n",
<<<<<<< HEAD
       "2020-11-09 14:45:00  0.814141 -0.532242 -0.371284  1.260241\n",
       "2020-11-09 15:45:00  1.796412  0.464455 -0.671627 -1.127918\n",
       "2020-11-09 16:45:00 -1.536073 -0.189562 -0.481479 -1.284273\n",
       "2020-11-09 17:45:00 -0.452299 -1.175168 -1.685927  0.439409\n",
       "2020-11-09 18:45:00  0.987893 -0.858127  0.845529 -0.460468\n",
       "2020-11-09 19:45:00 -0.620962 -0.080656 -0.617910 -1.191730\n",
       "2020-11-09 20:45:00 -0.690654 -0.366647 -1.938080  0.878778\n",
       "2020-11-09 21:45:00  0.282736  0.889675 -1.577065  2.215064\n",
       "2020-11-09 22:45:00 -0.209453 -1.211552  0.399441  1.483511\n",
       "2020-11-09 23:45:00  0.048067 -1.353353  0.125939  0.300842"
=======
       "2020-11-09 14:45:00 -1.188904  0.318398 -0.941649  0.285672\n",
       "2020-11-09 15:45:00 -1.416604  0.566518  0.699006 -2.481662\n",
       "2020-11-09 16:45:00 -0.662126 -0.803419  1.086019 -0.761617\n",
       "2020-11-09 17:45:00  0.412373 -0.605477 -0.446186  1.731154\n",
       "2020-11-09 18:45:00  0.927891  0.630441  0.998313 -0.482729\n",
       "2020-11-09 19:45:00 -0.232674  1.009629 -1.978957 -0.581911\n",
       "2020-11-09 20:45:00  0.465152 -0.938782  0.019690 -0.641403\n",
       "2020-11-09 21:45:00  0.751176  0.333215  0.435113  0.780900\n",
       "2020-11-09 22:45:00 -0.161756  0.263748 -1.579712  0.411493\n",
       "2020-11-09 23:45:00  0.268290 -0.918700  0.690319 -0.041885"
>>>>>>> master
      ]
     },
     "execution_count": 19,
     "metadata": {},
     "output_type": "execute_result"
    }
   ],
   "source": [
    "df.sort_index(axis=1,ascending=False)\n",
    "#axis mi dice quale asse considero, dopo ci va la condizione, asecnding=False significa che si va dal più piccolo al più grande"
   ]
  },
  {
   "cell_type": "code",
   "execution_count": 20,
   "metadata": {},
   "outputs": [
    {
     "data": {
      "text/html": [
       "<div>\n",
       "<style scoped>\n",
       "    .dataframe tbody tr th:only-of-type {\n",
       "        vertical-align: middle;\n",
       "    }\n",
       "\n",
       "    .dataframe tbody tr th {\n",
       "        vertical-align: top;\n",
       "    }\n",
       "\n",
       "    .dataframe thead th {\n",
       "        text-align: right;\n",
       "    }\n",
       "</style>\n",
       "<table border=\"1\" class=\"dataframe\">\n",
       "  <thead>\n",
       "    <tr style=\"text-align: right;\">\n",
       "      <th></th>\n",
       "      <th>A</th>\n",
       "      <th>B</th>\n",
       "      <th>C</th>\n",
       "      <th>D</th>\n",
       "    </tr>\n",
       "  </thead>\n",
       "  <tbody>\n",
       "    <tr>\n",
<<<<<<< HEAD
       "      <th>2020-11-09 23:45:00</th>\n",
       "      <td>0.300842</td>\n",
       "      <td>0.125939</td>\n",
       "      <td>-1.353353</td>\n",
       "      <td>0.048067</td>\n",
       "    </tr>\n",
       "    <tr>\n",
       "      <th>2020-11-09 22:45:00</th>\n",
       "      <td>1.483511</td>\n",
       "      <td>0.399441</td>\n",
       "      <td>-1.211552</td>\n",
       "      <td>-0.209453</td>\n",
       "    </tr>\n",
       "    <tr>\n",
       "      <th>2020-11-09 17:45:00</th>\n",
       "      <td>0.439409</td>\n",
       "      <td>-1.685927</td>\n",
       "      <td>-1.175168</td>\n",
       "      <td>-0.452299</td>\n",
       "    </tr>\n",
       "    <tr>\n",
       "      <th>2020-11-09 18:45:00</th>\n",
       "      <td>-0.460468</td>\n",
       "      <td>0.845529</td>\n",
       "      <td>-0.858127</td>\n",
       "      <td>0.987893</td>\n",
       "    </tr>\n",
       "    <tr>\n",
       "      <th>2020-11-09 14:45:00</th>\n",
       "      <td>1.260241</td>\n",
       "      <td>-0.371284</td>\n",
       "      <td>-0.532242</td>\n",
       "      <td>0.814141</td>\n",
       "    </tr>\n",
       "    <tr>\n",
       "      <th>2020-11-09 20:45:00</th>\n",
       "      <td>0.878778</td>\n",
       "      <td>-1.938080</td>\n",
       "      <td>-0.366647</td>\n",
       "      <td>-0.690654</td>\n",
       "    </tr>\n",
       "    <tr>\n",
       "      <th>2020-11-09 16:45:00</th>\n",
       "      <td>-1.284273</td>\n",
       "      <td>-0.481479</td>\n",
       "      <td>-0.189562</td>\n",
       "      <td>-1.536073</td>\n",
       "    </tr>\n",
       "    <tr>\n",
       "      <th>2020-11-09 19:45:00</th>\n",
       "      <td>-1.191730</td>\n",
       "      <td>-0.617910</td>\n",
       "      <td>-0.080656</td>\n",
       "      <td>-0.620962</td>\n",
       "    </tr>\n",
       "    <tr>\n",
       "      <th>2020-11-09 15:45:00</th>\n",
       "      <td>-1.127918</td>\n",
       "      <td>-0.671627</td>\n",
       "      <td>0.464455</td>\n",
       "      <td>1.796412</td>\n",
       "    </tr>\n",
       "    <tr>\n",
       "      <th>2020-11-09 21:45:00</th>\n",
       "      <td>2.215064</td>\n",
       "      <td>-1.577065</td>\n",
       "      <td>0.889675</td>\n",
       "      <td>0.282736</td>\n",
=======
       "      <th>2020-11-09 20:45:00</th>\n",
       "      <td>-0.641403</td>\n",
       "      <td>0.019690</td>\n",
       "      <td>-0.938782</td>\n",
       "      <td>0.465152</td>\n",
       "    </tr>\n",
       "    <tr>\n",
       "      <th>2020-11-09 23:45:00</th>\n",
       "      <td>-0.041885</td>\n",
       "      <td>0.690319</td>\n",
       "      <td>-0.918700</td>\n",
       "      <td>0.268290</td>\n",
       "    </tr>\n",
       "    <tr>\n",
       "      <th>2020-11-09 16:45:00</th>\n",
       "      <td>-0.761617</td>\n",
       "      <td>1.086019</td>\n",
       "      <td>-0.803419</td>\n",
       "      <td>-0.662126</td>\n",
       "    </tr>\n",
       "    <tr>\n",
       "      <th>2020-11-09 17:45:00</th>\n",
       "      <td>1.731154</td>\n",
       "      <td>-0.446186</td>\n",
       "      <td>-0.605477</td>\n",
       "      <td>0.412373</td>\n",
       "    </tr>\n",
       "    <tr>\n",
       "      <th>2020-11-09 22:45:00</th>\n",
       "      <td>0.411493</td>\n",
       "      <td>-1.579712</td>\n",
       "      <td>0.263748</td>\n",
       "      <td>-0.161756</td>\n",
       "    </tr>\n",
       "    <tr>\n",
       "      <th>2020-11-09 14:45:00</th>\n",
       "      <td>0.285672</td>\n",
       "      <td>-0.941649</td>\n",
       "      <td>0.318398</td>\n",
       "      <td>-1.188904</td>\n",
       "    </tr>\n",
       "    <tr>\n",
       "      <th>2020-11-09 21:45:00</th>\n",
       "      <td>0.780900</td>\n",
       "      <td>0.435113</td>\n",
       "      <td>0.333215</td>\n",
       "      <td>0.751176</td>\n",
       "    </tr>\n",
       "    <tr>\n",
       "      <th>2020-11-09 15:45:00</th>\n",
       "      <td>-2.481662</td>\n",
       "      <td>0.699006</td>\n",
       "      <td>0.566518</td>\n",
       "      <td>-1.416604</td>\n",
       "    </tr>\n",
       "    <tr>\n",
       "      <th>2020-11-09 18:45:00</th>\n",
       "      <td>-0.482729</td>\n",
       "      <td>0.998313</td>\n",
       "      <td>0.630441</td>\n",
       "      <td>0.927891</td>\n",
       "    </tr>\n",
       "    <tr>\n",
       "      <th>2020-11-09 19:45:00</th>\n",
       "      <td>-0.581911</td>\n",
       "      <td>-1.978957</td>\n",
       "      <td>1.009629</td>\n",
       "      <td>-0.232674</td>\n",
>>>>>>> master
       "    </tr>\n",
       "  </tbody>\n",
       "</table>\n",
       "</div>"
      ],
      "text/plain": [
       "                            A         B         C         D\n",
<<<<<<< HEAD
       "2020-11-09 23:45:00  0.300842  0.125939 -1.353353  0.048067\n",
       "2020-11-09 22:45:00  1.483511  0.399441 -1.211552 -0.209453\n",
       "2020-11-09 17:45:00  0.439409 -1.685927 -1.175168 -0.452299\n",
       "2020-11-09 18:45:00 -0.460468  0.845529 -0.858127  0.987893\n",
       "2020-11-09 14:45:00  1.260241 -0.371284 -0.532242  0.814141\n",
       "2020-11-09 20:45:00  0.878778 -1.938080 -0.366647 -0.690654\n",
       "2020-11-09 16:45:00 -1.284273 -0.481479 -0.189562 -1.536073\n",
       "2020-11-09 19:45:00 -1.191730 -0.617910 -0.080656 -0.620962\n",
       "2020-11-09 15:45:00 -1.127918 -0.671627  0.464455  1.796412\n",
       "2020-11-09 21:45:00  2.215064 -1.577065  0.889675  0.282736"
=======
       "2020-11-09 20:45:00 -0.641403  0.019690 -0.938782  0.465152\n",
       "2020-11-09 23:45:00 -0.041885  0.690319 -0.918700  0.268290\n",
       "2020-11-09 16:45:00 -0.761617  1.086019 -0.803419 -0.662126\n",
       "2020-11-09 17:45:00  1.731154 -0.446186 -0.605477  0.412373\n",
       "2020-11-09 22:45:00  0.411493 -1.579712  0.263748 -0.161756\n",
       "2020-11-09 14:45:00  0.285672 -0.941649  0.318398 -1.188904\n",
       "2020-11-09 21:45:00  0.780900  0.435113  0.333215  0.751176\n",
       "2020-11-09 15:45:00 -2.481662  0.699006  0.566518 -1.416604\n",
       "2020-11-09 18:45:00 -0.482729  0.998313  0.630441  0.927891\n",
       "2020-11-09 19:45:00 -0.581911 -1.978957  1.009629 -0.232674"
>>>>>>> master
      ]
     },
     "execution_count": 20,
     "metadata": {},
     "output_type": "execute_result"
    }
   ],
   "source": [
    "df.sort_values(by=\"C\")"
   ]
  },
  {
   "cell_type": "markdown",
   "metadata": {},
   "source": [
    "## Selection\n",
    "\n",
    "### Getting slices\n",
    "\n",
    "The following show how to get part of the DataFrame (i.e. not just the elements)"
   ]
  },
  {
   "cell_type": "code",
   "execution_count": 21,
   "metadata": {},
   "outputs": [
    {
     "name": "stdout",
     "output_type": "stream",
     "text": [
<<<<<<< HEAD
      "2020-11-09 14:45:00    1.260241\n",
      "2020-11-09 15:45:00   -1.127918\n",
      "2020-11-09 16:45:00   -1.284273\n",
      "2020-11-09 17:45:00    0.439409\n",
      "2020-11-09 18:45:00   -0.460468\n",
      "2020-11-09 19:45:00   -1.191730\n",
      "2020-11-09 20:45:00    0.878778\n",
      "2020-11-09 21:45:00    2.215064\n",
      "2020-11-09 22:45:00    1.483511\n",
      "2020-11-09 23:45:00    0.300842\n",
      "Freq: H, Name: A, dtype: float64 \n",
      "\n",
      "2020-11-09 14:45:00    1.260241\n",
      "2020-11-09 15:45:00   -1.127918\n",
      "2020-11-09 16:45:00   -1.284273\n",
      "2020-11-09 17:45:00    0.439409\n",
      "2020-11-09 18:45:00   -0.460468\n",
      "2020-11-09 19:45:00   -1.191730\n",
      "2020-11-09 20:45:00    0.878778\n",
      "2020-11-09 21:45:00    2.215064\n",
      "2020-11-09 22:45:00    1.483511\n",
      "2020-11-09 23:45:00    0.300842\n",
=======
      "2020-11-09 14:45:00    0.285672\n",
      "2020-11-09 15:45:00   -2.481662\n",
      "2020-11-09 16:45:00   -0.761617\n",
      "2020-11-09 17:45:00    1.731154\n",
      "2020-11-09 18:45:00   -0.482729\n",
      "2020-11-09 19:45:00   -0.581911\n",
      "2020-11-09 20:45:00   -0.641403\n",
      "2020-11-09 21:45:00    0.780900\n",
      "2020-11-09 22:45:00    0.411493\n",
      "2020-11-09 23:45:00   -0.041885\n",
      "Freq: H, Name: A, dtype: float64 \n",
      "\n",
      "2020-11-09 14:45:00    0.285672\n",
      "2020-11-09 15:45:00   -2.481662\n",
      "2020-11-09 16:45:00   -0.761617\n",
      "2020-11-09 17:45:00    1.731154\n",
      "2020-11-09 18:45:00   -0.482729\n",
      "2020-11-09 19:45:00   -0.581911\n",
      "2020-11-09 20:45:00   -0.641403\n",
      "2020-11-09 21:45:00    0.780900\n",
      "2020-11-09 22:45:00    0.411493\n",
      "2020-11-09 23:45:00   -0.041885\n",
>>>>>>> master
      "Freq: H, Name: A, dtype: float64\n"
     ]
    }
   ],
   "source": [
    "## standard and safe\n",
    "print (df['A'],'\\n')\n",
    "\n",
    "## equivalent but dangerous (imagine blank spaces in the name of the column..)\n",
    "print (df.A)"
   ]
  },
  {
   "cell_type": "code",
   "execution_count": 22,
   "metadata": {},
   "outputs": [
    {
     "name": "stdout",
     "output_type": "stream",
     "text": [
      "                            A         B         C         D\n",
<<<<<<< HEAD
      "2020-11-09 14:45:00  1.260241 -0.371284 -0.532242  0.814141\n",
      "2020-11-09 15:45:00 -1.127918 -0.671627  0.464455  1.796412\n",
      "2020-11-09 16:45:00 -1.284273 -0.481479 -0.189562 -1.536073\n",
      "                            A         B         C         D\n",
      "2020-11-09 14:45:00  1.260241 -0.371284 -0.532242  0.814141\n",
      "2020-11-09 15:45:00 -1.127918 -0.671627  0.464455  1.796412\n",
      "2020-11-09 16:45:00 -1.284273 -0.481479 -0.189562 -1.536073\n"
=======
      "2020-11-09 14:45:00  0.285672 -0.941649  0.318398 -1.188904\n",
      "2020-11-09 15:45:00 -2.481662  0.699006  0.566518 -1.416604\n",
      "2020-11-09 16:45:00 -0.761617  1.086019 -0.803419 -0.662126\n",
      "                            A         B         C         D\n",
      "2020-11-09 14:45:00  0.285672 -0.941649  0.318398 -1.188904\n",
      "2020-11-09 15:45:00 -2.481662  0.699006  0.566518 -1.416604\n",
      "2020-11-09 16:45:00 -0.761617  1.086019 -0.803419 -0.662126\n"
>>>>>>> master
     ]
    }
   ],
   "source": [
    "# selecting rows by counting\n",
    "print (df[0:3])\n",
    "\n",
    "# or by index\n",
    "print (df[\"2020-11-09 14:45:00\":\"2020-11-09 16:45:00\"])"
   ]
  },
  {
   "cell_type": "markdown",
   "metadata": {},
   "source": [
    "### Selection by label\n",
    ".loc[ ] creates a copy!!"
   ]
  },
  {
   "cell_type": "code",
   "execution_count": 23,
   "metadata": {},
   "outputs": [
    {
     "data": {
      "text/plain": [
<<<<<<< HEAD
       "A    1.260241\n",
       "B   -0.371284\n",
       "C   -0.532242\n",
       "D    0.814141\n",
=======
       "A    0.285672\n",
       "B   -0.941649\n",
       "C    0.318398\n",
       "D   -1.188904\n",
>>>>>>> master
       "Name: 2020-11-09 14:45:00, dtype: float64"
      ]
     },
     "execution_count": 23,
     "metadata": {},
     "output_type": "execute_result"
    }
   ],
   "source": [
    "# getting a cross section (part of the DataFrame) using a label\n",
    "df.loc[dates[0]]"
   ]
  },
  {
   "cell_type": "code",
   "execution_count": 24,
   "metadata": {},
   "outputs": [
    {
     "data": {
      "text/html": [
       "<div>\n",
       "<style scoped>\n",
       "    .dataframe tbody tr th:only-of-type {\n",
       "        vertical-align: middle;\n",
       "    }\n",
       "\n",
       "    .dataframe tbody tr th {\n",
       "        vertical-align: top;\n",
       "    }\n",
       "\n",
       "    .dataframe thead th {\n",
       "        text-align: right;\n",
       "    }\n",
       "</style>\n",
       "<table border=\"1\" class=\"dataframe\">\n",
       "  <thead>\n",
       "    <tr style=\"text-align: right;\">\n",
       "      <th></th>\n",
       "      <th>A</th>\n",
       "      <th>B</th>\n",
       "    </tr>\n",
       "  </thead>\n",
       "  <tbody>\n",
       "    <tr>\n",
       "      <th>2020-11-09 14:45:00</th>\n",
<<<<<<< HEAD
       "      <td>1.260241</td>\n",
       "      <td>-0.371284</td>\n",
       "    </tr>\n",
       "    <tr>\n",
       "      <th>2020-11-09 15:45:00</th>\n",
       "      <td>-1.127918</td>\n",
       "      <td>-0.671627</td>\n",
       "    </tr>\n",
       "    <tr>\n",
       "      <th>2020-11-09 16:45:00</th>\n",
       "      <td>-1.284273</td>\n",
       "      <td>-0.481479</td>\n",
       "    </tr>\n",
       "    <tr>\n",
       "      <th>2020-11-09 17:45:00</th>\n",
       "      <td>0.439409</td>\n",
       "      <td>-1.685927</td>\n",
       "    </tr>\n",
       "    <tr>\n",
       "      <th>2020-11-09 18:45:00</th>\n",
       "      <td>-0.460468</td>\n",
       "      <td>0.845529</td>\n",
       "    </tr>\n",
       "    <tr>\n",
       "      <th>2020-11-09 19:45:00</th>\n",
       "      <td>-1.191730</td>\n",
       "      <td>-0.617910</td>\n",
       "    </tr>\n",
       "    <tr>\n",
       "      <th>2020-11-09 20:45:00</th>\n",
       "      <td>0.878778</td>\n",
       "      <td>-1.938080</td>\n",
       "    </tr>\n",
       "    <tr>\n",
       "      <th>2020-11-09 21:45:00</th>\n",
       "      <td>2.215064</td>\n",
       "      <td>-1.577065</td>\n",
       "    </tr>\n",
       "    <tr>\n",
       "      <th>2020-11-09 22:45:00</th>\n",
       "      <td>1.483511</td>\n",
       "      <td>0.399441</td>\n",
       "    </tr>\n",
       "    <tr>\n",
       "      <th>2020-11-09 23:45:00</th>\n",
       "      <td>0.300842</td>\n",
       "      <td>0.125939</td>\n",
=======
       "      <td>0.285672</td>\n",
       "      <td>-0.941649</td>\n",
       "    </tr>\n",
       "    <tr>\n",
       "      <th>2020-11-09 15:45:00</th>\n",
       "      <td>-2.481662</td>\n",
       "      <td>0.699006</td>\n",
       "    </tr>\n",
       "    <tr>\n",
       "      <th>2020-11-09 16:45:00</th>\n",
       "      <td>-0.761617</td>\n",
       "      <td>1.086019</td>\n",
       "    </tr>\n",
       "    <tr>\n",
       "      <th>2020-11-09 17:45:00</th>\n",
       "      <td>1.731154</td>\n",
       "      <td>-0.446186</td>\n",
       "    </tr>\n",
       "    <tr>\n",
       "      <th>2020-11-09 18:45:00</th>\n",
       "      <td>-0.482729</td>\n",
       "      <td>0.998313</td>\n",
       "    </tr>\n",
       "    <tr>\n",
       "      <th>2020-11-09 19:45:00</th>\n",
       "      <td>-0.581911</td>\n",
       "      <td>-1.978957</td>\n",
       "    </tr>\n",
       "    <tr>\n",
       "      <th>2020-11-09 20:45:00</th>\n",
       "      <td>-0.641403</td>\n",
       "      <td>0.019690</td>\n",
       "    </tr>\n",
       "    <tr>\n",
       "      <th>2020-11-09 21:45:00</th>\n",
       "      <td>0.780900</td>\n",
       "      <td>0.435113</td>\n",
       "    </tr>\n",
       "    <tr>\n",
       "      <th>2020-11-09 22:45:00</th>\n",
       "      <td>0.411493</td>\n",
       "      <td>-1.579712</td>\n",
       "    </tr>\n",
       "    <tr>\n",
       "      <th>2020-11-09 23:45:00</th>\n",
       "      <td>-0.041885</td>\n",
       "      <td>0.690319</td>\n",
>>>>>>> master
       "    </tr>\n",
       "  </tbody>\n",
       "</table>\n",
       "</div>"
      ],
      "text/plain": [
       "                            A         B\n",
<<<<<<< HEAD
       "2020-11-09 14:45:00  1.260241 -0.371284\n",
       "2020-11-09 15:45:00 -1.127918 -0.671627\n",
       "2020-11-09 16:45:00 -1.284273 -0.481479\n",
       "2020-11-09 17:45:00  0.439409 -1.685927\n",
       "2020-11-09 18:45:00 -0.460468  0.845529\n",
       "2020-11-09 19:45:00 -1.191730 -0.617910\n",
       "2020-11-09 20:45:00  0.878778 -1.938080\n",
       "2020-11-09 21:45:00  2.215064 -1.577065\n",
       "2020-11-09 22:45:00  1.483511  0.399441\n",
       "2020-11-09 23:45:00  0.300842  0.125939"
=======
       "2020-11-09 14:45:00  0.285672 -0.941649\n",
       "2020-11-09 15:45:00 -2.481662  0.699006\n",
       "2020-11-09 16:45:00 -0.761617  1.086019\n",
       "2020-11-09 17:45:00  1.731154 -0.446186\n",
       "2020-11-09 18:45:00 -0.482729  0.998313\n",
       "2020-11-09 19:45:00 -0.581911 -1.978957\n",
       "2020-11-09 20:45:00 -0.641403  0.019690\n",
       "2020-11-09 21:45:00  0.780900  0.435113\n",
       "2020-11-09 22:45:00  0.411493 -1.579712\n",
       "2020-11-09 23:45:00 -0.041885  0.690319"
>>>>>>> master
      ]
     },
     "execution_count": 24,
     "metadata": {},
     "output_type": "execute_result"
    }
   ],
   "source": [
    "# selecting on a multi-axis by label:\n",
    "df.loc[:,['A','B']]\n",
    "#df.loc[rows, columns]"
   ]
  },
  {
   "cell_type": "code",
   "execution_count": 25,
   "metadata": {},
   "outputs": [
    {
     "data": {
      "text/html": [
       "<div>\n",
       "<style scoped>\n",
       "    .dataframe tbody tr th:only-of-type {\n",
       "        vertical-align: middle;\n",
       "    }\n",
       "\n",
       "    .dataframe tbody tr th {\n",
       "        vertical-align: top;\n",
       "    }\n",
       "\n",
       "    .dataframe thead th {\n",
       "        text-align: right;\n",
       "    }\n",
       "</style>\n",
       "<table border=\"1\" class=\"dataframe\">\n",
       "  <thead>\n",
       "    <tr style=\"text-align: right;\">\n",
       "      <th></th>\n",
       "      <th>A</th>\n",
       "      <th>B</th>\n",
       "    </tr>\n",
       "  </thead>\n",
       "  <tbody>\n",
       "    <tr>\n",
       "      <th>2020-11-09 18:45:00</th>\n",
<<<<<<< HEAD
       "      <td>-0.460468</td>\n",
       "      <td>0.845529</td>\n",
       "    </tr>\n",
       "    <tr>\n",
       "      <th>2020-11-09 19:45:00</th>\n",
       "      <td>-1.191730</td>\n",
       "      <td>-0.617910</td>\n",
       "    </tr>\n",
       "    <tr>\n",
       "      <th>2020-11-09 20:45:00</th>\n",
       "      <td>0.878778</td>\n",
       "      <td>-1.938080</td>\n",
=======
       "      <td>-0.482729</td>\n",
       "      <td>0.998313</td>\n",
       "    </tr>\n",
       "    <tr>\n",
       "      <th>2020-11-09 19:45:00</th>\n",
       "      <td>-0.581911</td>\n",
       "      <td>-1.978957</td>\n",
       "    </tr>\n",
       "    <tr>\n",
       "      <th>2020-11-09 20:45:00</th>\n",
       "      <td>-0.641403</td>\n",
       "      <td>0.019690</td>\n",
>>>>>>> master
       "    </tr>\n",
       "  </tbody>\n",
       "</table>\n",
       "</div>"
      ],
      "text/plain": [
       "                            A         B\n",
<<<<<<< HEAD
       "2020-11-09 18:45:00 -0.460468  0.845529\n",
       "2020-11-09 19:45:00 -1.191730 -0.617910\n",
       "2020-11-09 20:45:00  0.878778 -1.938080"
=======
       "2020-11-09 18:45:00 -0.482729  0.998313\n",
       "2020-11-09 19:45:00 -0.581911 -1.978957\n",
       "2020-11-09 20:45:00 -0.641403  0.019690"
>>>>>>> master
      ]
     },
     "execution_count": 25,
     "metadata": {},
     "output_type": "execute_result"
    }
   ],
   "source": [
    "# showing label slicing, both endpoints are included:\n",
    "df.loc['2020-11-09 18:45:00':'2020-11-09 20:45:00',['A','B']]"
   ]
  },
  {
   "cell_type": "code",
   "execution_count": 26,
   "metadata": {},
   "outputs": [
    {
     "name": "stdout",
     "output_type": "stream",
     "text": [
<<<<<<< HEAD
      "-1.1279184162870035\n",
      "-1.1279184162870035\n"
=======
      "-2.481661758824875\n",
      "-2.481661758824875\n"
>>>>>>> master
     ]
    }
   ],
   "source": [
    "# getting an individual element\n",
    "print (df.loc[dates[1],'A'])\n",
    "\n",
    "# equivalently\n",
    "print (df.at[dates[1],'A'])"
   ]
  },
  {
   "cell_type": "markdown",
   "metadata": {},
   "source": [
    "### Selecting by position\n",
    ".iloc[ ] creates a view!! (to modify the dataframe)"
   ]
  },
  {
   "cell_type": "code",
   "execution_count": 27,
   "metadata": {},
   "outputs": [
    {
     "name": "stdout",
     "output_type": "stream",
     "text": [
<<<<<<< HEAD
      "A    0.439409\n",
      "B   -1.685927\n",
      "C   -1.175168\n",
      "D   -0.452299\n",
      "Name: 2020-11-09 17:45:00, dtype: float64 \n",
      "\n",
      "                            A         B\n",
      "2020-11-09 17:45:00  0.439409 -1.685927\n",
      "2020-11-09 18:45:00 -0.460468  0.845529\n"
=======
      "A    1.731154\n",
      "B   -0.446186\n",
      "C   -0.605477\n",
      "D    0.412373\n",
      "Name: 2020-11-09 17:45:00, dtype: float64 \n",
      "\n",
      "                            A         B\n",
      "2020-11-09 17:45:00  1.731154 -0.446186\n",
      "2020-11-09 18:45:00 -0.482729  0.998313\n"
>>>>>>> master
     ]
    }
   ],
   "source": [
    "# select via the position of the passed integers:\n",
    "print (df.iloc[3],'\\n')\n",
    "\n",
    "# notation similar to numpy/python\n",
    "print (df.iloc[3:5,0:2])"
   ]
  },
  {
   "cell_type": "code",
   "execution_count": 28,
   "metadata": {},
   "outputs": [
    {
     "data": {
      "text/html": [
       "<div>\n",
       "<style scoped>\n",
       "    .dataframe tbody tr th:only-of-type {\n",
       "        vertical-align: middle;\n",
       "    }\n",
       "\n",
       "    .dataframe tbody tr th {\n",
       "        vertical-align: top;\n",
       "    }\n",
       "\n",
       "    .dataframe thead th {\n",
       "        text-align: right;\n",
       "    }\n",
       "</style>\n",
       "<table border=\"1\" class=\"dataframe\">\n",
       "  <thead>\n",
       "    <tr style=\"text-align: right;\">\n",
       "      <th></th>\n",
       "      <th>A</th>\n",
       "      <th>C</th>\n",
       "    </tr>\n",
       "  </thead>\n",
       "  <tbody>\n",
       "    <tr>\n",
       "      <th>2020-11-09 15:45:00</th>\n",
<<<<<<< HEAD
       "      <td>-1.127918</td>\n",
       "      <td>0.464455</td>\n",
       "    </tr>\n",
       "    <tr>\n",
       "      <th>2020-11-09 16:45:00</th>\n",
       "      <td>-1.284273</td>\n",
       "      <td>-0.189562</td>\n",
       "    </tr>\n",
       "    <tr>\n",
       "      <th>2020-11-09 18:45:00</th>\n",
       "      <td>-0.460468</td>\n",
       "      <td>-0.858127</td>\n",
=======
       "      <td>-2.481662</td>\n",
       "      <td>0.566518</td>\n",
       "    </tr>\n",
       "    <tr>\n",
       "      <th>2020-11-09 16:45:00</th>\n",
       "      <td>-0.761617</td>\n",
       "      <td>-0.803419</td>\n",
       "    </tr>\n",
       "    <tr>\n",
       "      <th>2020-11-09 18:45:00</th>\n",
       "      <td>-0.482729</td>\n",
       "      <td>0.630441</td>\n",
>>>>>>> master
       "    </tr>\n",
       "  </tbody>\n",
       "</table>\n",
       "</div>"
      ],
      "text/plain": [
       "                            A         C\n",
<<<<<<< HEAD
       "2020-11-09 15:45:00 -1.127918  0.464455\n",
       "2020-11-09 16:45:00 -1.284273 -0.189562\n",
       "2020-11-09 18:45:00 -0.460468 -0.858127"
=======
       "2020-11-09 15:45:00 -2.481662  0.566518\n",
       "2020-11-09 16:45:00 -0.761617 -0.803419\n",
       "2020-11-09 18:45:00 -0.482729  0.630441"
>>>>>>> master
      ]
     },
     "execution_count": 28,
     "metadata": {},
     "output_type": "execute_result"
    }
   ],
   "source": [
    "# selecting raws 1,2 and 4 for columns 0 and 2\n",
    "df.iloc[[1,2,4],[0,2]]"
   ]
  },
  {
   "cell_type": "code",
   "execution_count": 29,
   "metadata": {},
   "outputs": [
    {
     "name": "stdout",
     "output_type": "stream",
     "text": [
      "                            A         B         C         D\n",
<<<<<<< HEAD
      "2020-11-09 15:45:00 -1.127918 -0.671627  0.464455  1.796412\n",
      "2020-11-09 16:45:00 -1.284273 -0.481479 -0.189562 -1.536073 \n",
      "\n",
      "                            B         C\n",
      "2020-11-09 14:45:00 -0.371284 -0.532242\n",
      "2020-11-09 15:45:00 -0.671627  0.464455\n",
      "2020-11-09 16:45:00 -0.481479 -0.189562\n",
      "2020-11-09 17:45:00 -1.685927 -1.175168\n",
      "2020-11-09 18:45:00  0.845529 -0.858127\n",
      "2020-11-09 19:45:00 -0.617910 -0.080656\n",
      "2020-11-09 20:45:00 -1.938080 -0.366647\n",
      "2020-11-09 21:45:00 -1.577065  0.889675\n",
      "2020-11-09 22:45:00  0.399441 -1.211552\n",
      "2020-11-09 23:45:00  0.125939 -1.353353\n"
=======
      "2020-11-09 15:45:00 -2.481662  0.699006  0.566518 -1.416604\n",
      "2020-11-09 16:45:00 -0.761617  1.086019 -0.803419 -0.662126 \n",
      "\n",
      "                            B         C\n",
      "2020-11-09 14:45:00 -0.941649  0.318398\n",
      "2020-11-09 15:45:00  0.699006  0.566518\n",
      "2020-11-09 16:45:00  1.086019 -0.803419\n",
      "2020-11-09 17:45:00 -0.446186 -0.605477\n",
      "2020-11-09 18:45:00  0.998313  0.630441\n",
      "2020-11-09 19:45:00 -1.978957  1.009629\n",
      "2020-11-09 20:45:00  0.019690 -0.938782\n",
      "2020-11-09 21:45:00  0.435113  0.333215\n",
      "2020-11-09 22:45:00 -1.579712  0.263748\n",
      "2020-11-09 23:45:00  0.690319 -0.918700\n"
>>>>>>> master
     ]
    }
   ],
   "source": [
    "# slicing rows explicitly\n",
    "print (df.iloc[1:3,:],'\\n')\n",
    "\n",
    "# slicing columns explicitly\n",
    "print (df.iloc[:,1:3])\n"
   ]
  },
  {
   "cell_type": "code",
   "execution_count": 30,
   "metadata": {},
   "outputs": [
    {
     "data": {
      "text/plain": [
<<<<<<< HEAD
       "-0.6716271364291498"
=======
       "0.6990056959081052"
>>>>>>> master
      ]
     },
     "execution_count": 30,
     "metadata": {},
     "output_type": "execute_result"
    }
   ],
   "source": [
    "# selecting an individual element by position\n",
    "df.iloc[1,1]\n",
    "df.iat[1,1]\n"
   ]
  },
  {
   "cell_type": "markdown",
   "metadata": {},
   "source": [
    "### Boolean index\n",
    "\n",
    "Very powerful way of filtering out data with certain features. Notation is very similar to numpy arrays."
   ]
  },
  {
   "cell_type": "code",
   "execution_count": 31,
   "metadata": {},
   "outputs": [
    {
     "data": {
      "text/html": [
       "<div>\n",
       "<style scoped>\n",
       "    .dataframe tbody tr th:only-of-type {\n",
       "        vertical-align: middle;\n",
       "    }\n",
       "\n",
       "    .dataframe tbody tr th {\n",
       "        vertical-align: top;\n",
       "    }\n",
       "\n",
       "    .dataframe thead th {\n",
       "        text-align: right;\n",
       "    }\n",
       "</style>\n",
       "<table border=\"1\" class=\"dataframe\">\n",
       "  <thead>\n",
       "    <tr style=\"text-align: right;\">\n",
       "      <th></th>\n",
       "      <th>A</th>\n",
       "      <th>B</th>\n",
       "      <th>C</th>\n",
       "      <th>D</th>\n",
       "    </tr>\n",
       "  </thead>\n",
       "  <tbody>\n",
       "    <tr>\n",
<<<<<<< HEAD
       "      <th>2020-11-09 18:45:00</th>\n",
       "      <td>-0.460468</td>\n",
       "      <td>0.845529</td>\n",
       "      <td>-0.858127</td>\n",
       "      <td>0.987893</td>\n",
       "    </tr>\n",
       "    <tr>\n",
       "      <th>2020-11-09 22:45:00</th>\n",
       "      <td>1.483511</td>\n",
       "      <td>0.399441</td>\n",
       "      <td>-1.211552</td>\n",
       "      <td>-0.209453</td>\n",
       "    </tr>\n",
       "    <tr>\n",
       "      <th>2020-11-09 23:45:00</th>\n",
       "      <td>0.300842</td>\n",
       "      <td>0.125939</td>\n",
       "      <td>-1.353353</td>\n",
       "      <td>0.048067</td>\n",
=======
       "      <th>2020-11-09 15:45:00</th>\n",
       "      <td>-2.481662</td>\n",
       "      <td>0.699006</td>\n",
       "      <td>0.566518</td>\n",
       "      <td>-1.416604</td>\n",
       "    </tr>\n",
       "    <tr>\n",
       "      <th>2020-11-09 16:45:00</th>\n",
       "      <td>-0.761617</td>\n",
       "      <td>1.086019</td>\n",
       "      <td>-0.803419</td>\n",
       "      <td>-0.662126</td>\n",
       "    </tr>\n",
       "    <tr>\n",
       "      <th>2020-11-09 18:45:00</th>\n",
       "      <td>-0.482729</td>\n",
       "      <td>0.998313</td>\n",
       "      <td>0.630441</td>\n",
       "      <td>0.927891</td>\n",
       "    </tr>\n",
       "    <tr>\n",
       "      <th>2020-11-09 20:45:00</th>\n",
       "      <td>-0.641403</td>\n",
       "      <td>0.019690</td>\n",
       "      <td>-0.938782</td>\n",
       "      <td>0.465152</td>\n",
       "    </tr>\n",
       "    <tr>\n",
       "      <th>2020-11-09 21:45:00</th>\n",
       "      <td>0.780900</td>\n",
       "      <td>0.435113</td>\n",
       "      <td>0.333215</td>\n",
       "      <td>0.751176</td>\n",
       "    </tr>\n",
       "    <tr>\n",
       "      <th>2020-11-09 23:45:00</th>\n",
       "      <td>-0.041885</td>\n",
       "      <td>0.690319</td>\n",
       "      <td>-0.918700</td>\n",
       "      <td>0.268290</td>\n",
>>>>>>> master
       "    </tr>\n",
       "  </tbody>\n",
       "</table>\n",
       "</div>"
      ],
      "text/plain": [
       "                            A         B         C         D\n",
<<<<<<< HEAD
       "2020-11-09 18:45:00 -0.460468  0.845529 -0.858127  0.987893\n",
       "2020-11-09 22:45:00  1.483511  0.399441 -1.211552 -0.209453\n",
       "2020-11-09 23:45:00  0.300842  0.125939 -1.353353  0.048067"
=======
       "2020-11-09 15:45:00 -2.481662  0.699006  0.566518 -1.416604\n",
       "2020-11-09 16:45:00 -0.761617  1.086019 -0.803419 -0.662126\n",
       "2020-11-09 18:45:00 -0.482729  0.998313  0.630441  0.927891\n",
       "2020-11-09 20:45:00 -0.641403  0.019690 -0.938782  0.465152\n",
       "2020-11-09 21:45:00  0.780900  0.435113  0.333215  0.751176\n",
       "2020-11-09 23:45:00 -0.041885  0.690319 -0.918700  0.268290"
>>>>>>> master
      ]
     },
     "execution_count": 31,
     "metadata": {},
     "output_type": "execute_result"
    }
   ],
   "source": [
    "# Filter by a boolean condition on the values of a single column\n",
    "df[df['B'] > 0]"
   ]
  },
  {
   "cell_type": "code",
   "execution_count": 32,
   "metadata": {},
   "outputs": [
    {
     "data": {
      "text/html": [
       "<div>\n",
       "<style scoped>\n",
       "    .dataframe tbody tr th:only-of-type {\n",
       "        vertical-align: middle;\n",
       "    }\n",
       "\n",
       "    .dataframe tbody tr th {\n",
       "        vertical-align: top;\n",
       "    }\n",
       "\n",
       "    .dataframe thead th {\n",
       "        text-align: right;\n",
       "    }\n",
       "</style>\n",
       "<table border=\"1\" class=\"dataframe\">\n",
       "  <thead>\n",
       "    <tr style=\"text-align: right;\">\n",
       "      <th></th>\n",
       "      <th>A</th>\n",
       "      <th>B</th>\n",
       "      <th>C</th>\n",
       "      <th>D</th>\n",
       "    </tr>\n",
       "  </thead>\n",
       "  <tbody>\n",
       "    <tr>\n",
       "      <th>2020-11-09 14:45:00</th>\n",
<<<<<<< HEAD
       "      <td>1.260241</td>\n",
       "      <td>NaN</td>\n",
       "      <td>NaN</td>\n",
       "      <td>0.814141</td>\n",
=======
       "      <td>0.285672</td>\n",
       "      <td>NaN</td>\n",
       "      <td>0.318398</td>\n",
       "      <td>NaN</td>\n",
>>>>>>> master
       "    </tr>\n",
       "    <tr>\n",
       "      <th>2020-11-09 15:45:00</th>\n",
       "      <td>NaN</td>\n",
<<<<<<< HEAD
       "      <td>NaN</td>\n",
       "      <td>0.464455</td>\n",
       "      <td>1.796412</td>\n",
=======
       "      <td>0.699006</td>\n",
       "      <td>0.566518</td>\n",
       "      <td>NaN</td>\n",
>>>>>>> master
       "    </tr>\n",
       "    <tr>\n",
       "      <th>2020-11-09 16:45:00</th>\n",
       "      <td>NaN</td>\n",
<<<<<<< HEAD
       "      <td>NaN</td>\n",
=======
       "      <td>1.086019</td>\n",
>>>>>>> master
       "      <td>NaN</td>\n",
       "      <td>NaN</td>\n",
       "    </tr>\n",
       "    <tr>\n",
       "      <th>2020-11-09 17:45:00</th>\n",
<<<<<<< HEAD
       "      <td>0.439409</td>\n",
       "      <td>NaN</td>\n",
       "      <td>NaN</td>\n",
       "      <td>NaN</td>\n",
=======
       "      <td>1.731154</td>\n",
       "      <td>NaN</td>\n",
       "      <td>NaN</td>\n",
       "      <td>0.412373</td>\n",
>>>>>>> master
       "    </tr>\n",
       "    <tr>\n",
       "      <th>2020-11-09 18:45:00</th>\n",
       "      <td>NaN</td>\n",
<<<<<<< HEAD
       "      <td>0.845529</td>\n",
       "      <td>NaN</td>\n",
       "      <td>0.987893</td>\n",
=======
       "      <td>0.998313</td>\n",
       "      <td>0.630441</td>\n",
       "      <td>0.927891</td>\n",
>>>>>>> master
       "    </tr>\n",
       "    <tr>\n",
       "      <th>2020-11-09 19:45:00</th>\n",
       "      <td>NaN</td>\n",
       "      <td>NaN</td>\n",
<<<<<<< HEAD
       "      <td>NaN</td>\n",
=======
       "      <td>1.009629</td>\n",
>>>>>>> master
       "      <td>NaN</td>\n",
       "    </tr>\n",
       "    <tr>\n",
       "      <th>2020-11-09 20:45:00</th>\n",
<<<<<<< HEAD
       "      <td>0.878778</td>\n",
       "      <td>NaN</td>\n",
       "      <td>NaN</td>\n",
       "      <td>NaN</td>\n",
       "    </tr>\n",
       "    <tr>\n",
       "      <th>2020-11-09 21:45:00</th>\n",
       "      <td>2.215064</td>\n",
       "      <td>NaN</td>\n",
       "      <td>0.889675</td>\n",
       "      <td>0.282736</td>\n",
       "    </tr>\n",
       "    <tr>\n",
       "      <th>2020-11-09 22:45:00</th>\n",
       "      <td>1.483511</td>\n",
       "      <td>0.399441</td>\n",
       "      <td>NaN</td>\n",
=======
       "      <td>NaN</td>\n",
       "      <td>0.019690</td>\n",
       "      <td>NaN</td>\n",
       "      <td>0.465152</td>\n",
       "    </tr>\n",
       "    <tr>\n",
       "      <th>2020-11-09 21:45:00</th>\n",
       "      <td>0.780900</td>\n",
       "      <td>0.435113</td>\n",
       "      <td>0.333215</td>\n",
       "      <td>0.751176</td>\n",
       "    </tr>\n",
       "    <tr>\n",
       "      <th>2020-11-09 22:45:00</th>\n",
       "      <td>0.411493</td>\n",
       "      <td>NaN</td>\n",
       "      <td>0.263748</td>\n",
>>>>>>> master
       "      <td>NaN</td>\n",
       "    </tr>\n",
       "    <tr>\n",
       "      <th>2020-11-09 23:45:00</th>\n",
<<<<<<< HEAD
       "      <td>0.300842</td>\n",
       "      <td>0.125939</td>\n",
       "      <td>NaN</td>\n",
       "      <td>0.048067</td>\n",
=======
       "      <td>NaN</td>\n",
       "      <td>0.690319</td>\n",
       "      <td>NaN</td>\n",
       "      <td>0.268290</td>\n",
>>>>>>> master
       "    </tr>\n",
       "  </tbody>\n",
       "</table>\n",
       "</div>"
      ],
      "text/plain": [
       "                            A         B         C         D\n",
<<<<<<< HEAD
       "2020-11-09 14:45:00  1.260241       NaN       NaN  0.814141\n",
       "2020-11-09 15:45:00       NaN       NaN  0.464455  1.796412\n",
       "2020-11-09 16:45:00       NaN       NaN       NaN       NaN\n",
       "2020-11-09 17:45:00  0.439409       NaN       NaN       NaN\n",
       "2020-11-09 18:45:00       NaN  0.845529       NaN  0.987893\n",
       "2020-11-09 19:45:00       NaN       NaN       NaN       NaN\n",
       "2020-11-09 20:45:00  0.878778       NaN       NaN       NaN\n",
       "2020-11-09 21:45:00  2.215064       NaN  0.889675  0.282736\n",
       "2020-11-09 22:45:00  1.483511  0.399441       NaN       NaN\n",
       "2020-11-09 23:45:00  0.300842  0.125939       NaN  0.048067"
=======
       "2020-11-09 14:45:00  0.285672       NaN  0.318398       NaN\n",
       "2020-11-09 15:45:00       NaN  0.699006  0.566518       NaN\n",
       "2020-11-09 16:45:00       NaN  1.086019       NaN       NaN\n",
       "2020-11-09 17:45:00  1.731154       NaN       NaN  0.412373\n",
       "2020-11-09 18:45:00       NaN  0.998313  0.630441  0.927891\n",
       "2020-11-09 19:45:00       NaN       NaN  1.009629       NaN\n",
       "2020-11-09 20:45:00       NaN  0.019690       NaN  0.465152\n",
       "2020-11-09 21:45:00  0.780900  0.435113  0.333215  0.751176\n",
       "2020-11-09 22:45:00  0.411493       NaN  0.263748       NaN\n",
       "2020-11-09 23:45:00       NaN  0.690319       NaN  0.268290"
>>>>>>> master
      ]
     },
     "execution_count": 32,
     "metadata": {},
     "output_type": "execute_result"
    }
   ],
   "source": [
    "# Selecting on the basis of boolean conditions applied to the whole DataFrame\n",
    "df[df>0]\n",
    "\n",
    "# a DataFrame with the same shape is returned, with NaN's where condition is not met"
   ]
  },
  {
   "cell_type": "markdown",
   "metadata": {},
   "source": [
    "### Setting\n",
    "\n",
    "Combination of selection and setting of values"
   ]
  },
  {
   "cell_type": "code",
   "execution_count": 33,
   "metadata": {},
   "outputs": [],
   "source": [
    "# setting values by label (same as by position)\n",
    "df.at[dates[0],'A'] = 0\n",
    "\n",
    "# setting and assigning a numpy array\n",
    "df.loc[:,'D'] = np.array([5] * len(df))\n",
    "\n",
    "# defining a brend new column\n",
    "df['E'] = np.arange(len(df))*0.5\n",
    "\n",
    "# defining a brend new column by means of a pd.Series: indexes must be the same!\n",
    "df['E prime'] = pd.Series(np.arange(len(df))*2, index=df.index)\n"
   ]
  },
  {
   "cell_type": "code",
   "execution_count": 34,
   "metadata": {},
   "outputs": [
    {
     "data": {
      "text/html": [
       "<div>\n",
       "<style scoped>\n",
       "    .dataframe tbody tr th:only-of-type {\n",
       "        vertical-align: middle;\n",
       "    }\n",
       "\n",
       "    .dataframe tbody tr th {\n",
       "        vertical-align: top;\n",
       "    }\n",
       "\n",
       "    .dataframe thead th {\n",
       "        text-align: right;\n",
       "    }\n",
       "</style>\n",
       "<table border=\"1\" class=\"dataframe\">\n",
       "  <thead>\n",
       "    <tr style=\"text-align: right;\">\n",
       "      <th></th>\n",
       "      <th>A</th>\n",
       "      <th>B</th>\n",
       "      <th>C</th>\n",
       "      <th>D</th>\n",
       "      <th>E</th>\n",
       "      <th>E prime</th>\n",
       "      <th>cosine</th>\n",
       "    </tr>\n",
       "  </thead>\n",
       "  <tbody>\n",
       "    <tr>\n",
       "      <th>2020-11-09 14:45:00</th>\n",
       "      <td>0.000000</td>\n",
<<<<<<< HEAD
       "      <td>-0.371284</td>\n",
       "      <td>-0.532242</td>\n",
=======
       "      <td>-0.941649</td>\n",
       "      <td>0.318398</td>\n",
>>>>>>> master
       "      <td>5</td>\n",
       "      <td>0.0</td>\n",
       "      <td>0</td>\n",
       "      <td>1.000000</td>\n",
       "    </tr>\n",
       "    <tr>\n",
       "      <th>2020-11-09 15:45:00</th>\n",
<<<<<<< HEAD
       "      <td>-1.127918</td>\n",
       "      <td>-0.671627</td>\n",
       "      <td>0.464455</td>\n",
=======
       "      <td>-2.481662</td>\n",
       "      <td>0.699006</td>\n",
       "      <td>0.566518</td>\n",
>>>>>>> master
       "      <td>5</td>\n",
       "      <td>0.5</td>\n",
       "      <td>2</td>\n",
       "      <td>0.999962</td>\n",
       "    </tr>\n",
       "    <tr>\n",
       "      <th>2020-11-09 16:45:00</th>\n",
<<<<<<< HEAD
       "      <td>-1.284273</td>\n",
       "      <td>-0.481479</td>\n",
       "      <td>-0.189562</td>\n",
=======
       "      <td>-0.761617</td>\n",
       "      <td>1.086019</td>\n",
       "      <td>-0.803419</td>\n",
>>>>>>> master
       "      <td>5</td>\n",
       "      <td>1.0</td>\n",
       "      <td>4</td>\n",
       "      <td>0.999848</td>\n",
       "    </tr>\n",
       "    <tr>\n",
       "      <th>2020-11-09 17:45:00</th>\n",
<<<<<<< HEAD
       "      <td>0.439409</td>\n",
       "      <td>-1.685927</td>\n",
       "      <td>-1.175168</td>\n",
=======
       "      <td>1.731154</td>\n",
       "      <td>-0.446186</td>\n",
       "      <td>-0.605477</td>\n",
>>>>>>> master
       "      <td>5</td>\n",
       "      <td>1.5</td>\n",
       "      <td>6</td>\n",
       "      <td>0.999657</td>\n",
       "    </tr>\n",
       "    <tr>\n",
       "      <th>2020-11-09 18:45:00</th>\n",
<<<<<<< HEAD
       "      <td>-0.460468</td>\n",
       "      <td>0.845529</td>\n",
       "      <td>-0.858127</td>\n",
=======
       "      <td>-0.482729</td>\n",
       "      <td>0.998313</td>\n",
       "      <td>0.630441</td>\n",
>>>>>>> master
       "      <td>5</td>\n",
       "      <td>2.0</td>\n",
       "      <td>8</td>\n",
       "      <td>0.999391</td>\n",
       "    </tr>\n",
       "    <tr>\n",
       "      <th>2020-11-09 19:45:00</th>\n",
<<<<<<< HEAD
       "      <td>-1.191730</td>\n",
       "      <td>-0.617910</td>\n",
       "      <td>-0.080656</td>\n",
=======
       "      <td>-0.581911</td>\n",
       "      <td>-1.978957</td>\n",
       "      <td>1.009629</td>\n",
>>>>>>> master
       "      <td>5</td>\n",
       "      <td>2.5</td>\n",
       "      <td>10</td>\n",
       "      <td>0.999048</td>\n",
       "    </tr>\n",
       "    <tr>\n",
       "      <th>2020-11-09 20:45:00</th>\n",
<<<<<<< HEAD
       "      <td>0.878778</td>\n",
       "      <td>-1.938080</td>\n",
       "      <td>-0.366647</td>\n",
=======
       "      <td>-0.641403</td>\n",
       "      <td>0.019690</td>\n",
       "      <td>-0.938782</td>\n",
>>>>>>> master
       "      <td>5</td>\n",
       "      <td>3.0</td>\n",
       "      <td>12</td>\n",
       "      <td>0.998630</td>\n",
       "    </tr>\n",
       "    <tr>\n",
       "      <th>2020-11-09 21:45:00</th>\n",
<<<<<<< HEAD
       "      <td>2.215064</td>\n",
       "      <td>-1.577065</td>\n",
       "      <td>0.889675</td>\n",
=======
       "      <td>0.780900</td>\n",
       "      <td>0.435113</td>\n",
       "      <td>0.333215</td>\n",
>>>>>>> master
       "      <td>5</td>\n",
       "      <td>3.5</td>\n",
       "      <td>14</td>\n",
       "      <td>0.998135</td>\n",
       "    </tr>\n",
       "    <tr>\n",
       "      <th>2020-11-09 22:45:00</th>\n",
<<<<<<< HEAD
       "      <td>1.483511</td>\n",
       "      <td>0.399441</td>\n",
       "      <td>-1.211552</td>\n",
=======
       "      <td>0.411493</td>\n",
       "      <td>-1.579712</td>\n",
       "      <td>0.263748</td>\n",
>>>>>>> master
       "      <td>5</td>\n",
       "      <td>4.0</td>\n",
       "      <td>16</td>\n",
       "      <td>0.997564</td>\n",
       "    </tr>\n",
       "    <tr>\n",
       "      <th>2020-11-09 23:45:00</th>\n",
<<<<<<< HEAD
       "      <td>0.300842</td>\n",
       "      <td>0.125939</td>\n",
       "      <td>-1.353353</td>\n",
=======
       "      <td>-0.041885</td>\n",
       "      <td>0.690319</td>\n",
       "      <td>-0.918700</td>\n",
>>>>>>> master
       "      <td>5</td>\n",
       "      <td>4.5</td>\n",
       "      <td>18</td>\n",
       "      <td>0.996917</td>\n",
       "    </tr>\n",
       "  </tbody>\n",
       "</table>\n",
       "</div>"
      ],
      "text/plain": [
       "                            A         B         C  D    E  E prime    cosine\n",
<<<<<<< HEAD
       "2020-11-09 14:45:00  0.000000 -0.371284 -0.532242  5  0.0        0  1.000000\n",
       "2020-11-09 15:45:00 -1.127918 -0.671627  0.464455  5  0.5        2  0.999962\n",
       "2020-11-09 16:45:00 -1.284273 -0.481479 -0.189562  5  1.0        4  0.999848\n",
       "2020-11-09 17:45:00  0.439409 -1.685927 -1.175168  5  1.5        6  0.999657\n",
       "2020-11-09 18:45:00 -0.460468  0.845529 -0.858127  5  2.0        8  0.999391\n",
       "2020-11-09 19:45:00 -1.191730 -0.617910 -0.080656  5  2.5       10  0.999048\n",
       "2020-11-09 20:45:00  0.878778 -1.938080 -0.366647  5  3.0       12  0.998630\n",
       "2020-11-09 21:45:00  2.215064 -1.577065  0.889675  5  3.5       14  0.998135\n",
       "2020-11-09 22:45:00  1.483511  0.399441 -1.211552  5  4.0       16  0.997564\n",
       "2020-11-09 23:45:00  0.300842  0.125939 -1.353353  5  4.5       18  0.996917"
=======
       "2020-11-09 14:45:00  0.000000 -0.941649  0.318398  5  0.0        0  1.000000\n",
       "2020-11-09 15:45:00 -2.481662  0.699006  0.566518  5  0.5        2  0.999962\n",
       "2020-11-09 16:45:00 -0.761617  1.086019 -0.803419  5  1.0        4  0.999848\n",
       "2020-11-09 17:45:00  1.731154 -0.446186 -0.605477  5  1.5        6  0.999657\n",
       "2020-11-09 18:45:00 -0.482729  0.998313  0.630441  5  2.0        8  0.999391\n",
       "2020-11-09 19:45:00 -0.581911 -1.978957  1.009629  5  2.5       10  0.999048\n",
       "2020-11-09 20:45:00 -0.641403  0.019690 -0.938782  5  3.0       12  0.998630\n",
       "2020-11-09 21:45:00  0.780900  0.435113  0.333215  5  3.5       14  0.998135\n",
       "2020-11-09 22:45:00  0.411493 -1.579712  0.263748  5  4.0       16  0.997564\n",
       "2020-11-09 23:45:00 -0.041885  0.690319 -0.918700  5  4.5       18  0.996917"
>>>>>>> master
      ]
     },
     "execution_count": 34,
     "metadata": {},
     "output_type": "execute_result"
    }
   ],
   "source": [
    "def dcos(theta):\n",
    "    theta = theta*(np.pi/180)\n",
    "    return np.cos(theta)\n",
    " \n",
    "df['cosine'] = pd.Series(df[\"E\"].apply(dcos), index=df.index)\n",
    "df"
   ]
  },
  {
   "cell_type": "code",
   "execution_count": 35,
   "metadata": {},
   "outputs": [
    {
     "data": {
      "text/html": [
       "<div>\n",
       "<style scoped>\n",
       "    .dataframe tbody tr th:only-of-type {\n",
       "        vertical-align: middle;\n",
       "    }\n",
       "\n",
       "    .dataframe tbody tr th {\n",
       "        vertical-align: top;\n",
       "    }\n",
       "\n",
       "    .dataframe thead th {\n",
       "        text-align: right;\n",
       "    }\n",
       "</style>\n",
       "<table border=\"1\" class=\"dataframe\">\n",
       "  <thead>\n",
       "    <tr style=\"text-align: right;\">\n",
       "      <th></th>\n",
       "      <th>A</th>\n",
       "      <th>B</th>\n",
       "      <th>C</th>\n",
       "      <th>D</th>\n",
       "      <th>E</th>\n",
       "      <th>E prime</th>\n",
       "      <th>cosine</th>\n",
       "    </tr>\n",
       "  </thead>\n",
       "  <tbody>\n",
       "    <tr>\n",
       "      <th>2020-11-09 14:45:00</th>\n",
       "      <td>0.000000</td>\n",
<<<<<<< HEAD
       "      <td>-0.371284</td>\n",
       "      <td>-0.532242</td>\n",
=======
       "      <td>-0.941649</td>\n",
       "      <td>-0.318398</td>\n",
>>>>>>> master
       "      <td>-5</td>\n",
       "      <td>0.0</td>\n",
       "      <td>0</td>\n",
       "      <td>-1.000000</td>\n",
       "    </tr>\n",
       "    <tr>\n",
       "      <th>2020-11-09 15:45:00</th>\n",
<<<<<<< HEAD
       "      <td>-1.127918</td>\n",
       "      <td>-0.671627</td>\n",
       "      <td>-0.464455</td>\n",
=======
       "      <td>-2.481662</td>\n",
       "      <td>-0.699006</td>\n",
       "      <td>-0.566518</td>\n",
>>>>>>> master
       "      <td>-5</td>\n",
       "      <td>-0.5</td>\n",
       "      <td>-2</td>\n",
       "      <td>-0.999962</td>\n",
       "    </tr>\n",
       "    <tr>\n",
       "      <th>2020-11-09 16:45:00</th>\n",
<<<<<<< HEAD
       "      <td>-1.284273</td>\n",
       "      <td>-0.481479</td>\n",
       "      <td>-0.189562</td>\n",
=======
       "      <td>-0.761617</td>\n",
       "      <td>-1.086019</td>\n",
       "      <td>-0.803419</td>\n",
>>>>>>> master
       "      <td>-5</td>\n",
       "      <td>-1.0</td>\n",
       "      <td>-4</td>\n",
       "      <td>-0.999848</td>\n",
       "    </tr>\n",
       "    <tr>\n",
       "      <th>2020-11-09 17:45:00</th>\n",
<<<<<<< HEAD
       "      <td>-0.439409</td>\n",
       "      <td>-1.685927</td>\n",
       "      <td>-1.175168</td>\n",
=======
       "      <td>-1.731154</td>\n",
       "      <td>-0.446186</td>\n",
       "      <td>-0.605477</td>\n",
>>>>>>> master
       "      <td>-5</td>\n",
       "      <td>-1.5</td>\n",
       "      <td>-6</td>\n",
       "      <td>-0.999657</td>\n",
       "    </tr>\n",
       "    <tr>\n",
       "      <th>2020-11-09 18:45:00</th>\n",
<<<<<<< HEAD
       "      <td>-0.460468</td>\n",
       "      <td>-0.845529</td>\n",
       "      <td>-0.858127</td>\n",
=======
       "      <td>-0.482729</td>\n",
       "      <td>-0.998313</td>\n",
       "      <td>-0.630441</td>\n",
>>>>>>> master
       "      <td>-5</td>\n",
       "      <td>-2.0</td>\n",
       "      <td>-8</td>\n",
       "      <td>-0.999391</td>\n",
       "    </tr>\n",
       "    <tr>\n",
       "      <th>2020-11-09 19:45:00</th>\n",
<<<<<<< HEAD
       "      <td>-1.191730</td>\n",
       "      <td>-0.617910</td>\n",
       "      <td>-0.080656</td>\n",
=======
       "      <td>-0.581911</td>\n",
       "      <td>-1.978957</td>\n",
       "      <td>-1.009629</td>\n",
>>>>>>> master
       "      <td>-5</td>\n",
       "      <td>-2.5</td>\n",
       "      <td>-10</td>\n",
       "      <td>-0.999048</td>\n",
       "    </tr>\n",
       "    <tr>\n",
       "      <th>2020-11-09 20:45:00</th>\n",
<<<<<<< HEAD
       "      <td>-0.878778</td>\n",
       "      <td>-1.938080</td>\n",
       "      <td>-0.366647</td>\n",
=======
       "      <td>-0.641403</td>\n",
       "      <td>-0.019690</td>\n",
       "      <td>-0.938782</td>\n",
>>>>>>> master
       "      <td>-5</td>\n",
       "      <td>-3.0</td>\n",
       "      <td>-12</td>\n",
       "      <td>-0.998630</td>\n",
       "    </tr>\n",
       "    <tr>\n",
       "      <th>2020-11-09 21:45:00</th>\n",
<<<<<<< HEAD
       "      <td>-2.215064</td>\n",
       "      <td>-1.577065</td>\n",
       "      <td>-0.889675</td>\n",
=======
       "      <td>-0.780900</td>\n",
       "      <td>-0.435113</td>\n",
       "      <td>-0.333215</td>\n",
>>>>>>> master
       "      <td>-5</td>\n",
       "      <td>-3.5</td>\n",
       "      <td>-14</td>\n",
       "      <td>-0.998135</td>\n",
       "    </tr>\n",
       "    <tr>\n",
       "      <th>2020-11-09 22:45:00</th>\n",
<<<<<<< HEAD
       "      <td>-1.483511</td>\n",
       "      <td>-0.399441</td>\n",
       "      <td>-1.211552</td>\n",
=======
       "      <td>-0.411493</td>\n",
       "      <td>-1.579712</td>\n",
       "      <td>-0.263748</td>\n",
>>>>>>> master
       "      <td>-5</td>\n",
       "      <td>-4.0</td>\n",
       "      <td>-16</td>\n",
       "      <td>-0.997564</td>\n",
       "    </tr>\n",
       "    <tr>\n",
       "      <th>2020-11-09 23:45:00</th>\n",
<<<<<<< HEAD
       "      <td>-0.300842</td>\n",
       "      <td>-0.125939</td>\n",
       "      <td>-1.353353</td>\n",
=======
       "      <td>-0.041885</td>\n",
       "      <td>-0.690319</td>\n",
       "      <td>-0.918700</td>\n",
>>>>>>> master
       "      <td>-5</td>\n",
       "      <td>-4.5</td>\n",
       "      <td>-18</td>\n",
       "      <td>-0.996917</td>\n",
       "    </tr>\n",
       "  </tbody>\n",
       "</table>\n",
       "</div>"
      ],
      "text/plain": [
       "                            A         B         C  D    E  E prime    cosine\n",
<<<<<<< HEAD
       "2020-11-09 14:45:00  0.000000 -0.371284 -0.532242 -5  0.0        0 -1.000000\n",
       "2020-11-09 15:45:00 -1.127918 -0.671627 -0.464455 -5 -0.5       -2 -0.999962\n",
       "2020-11-09 16:45:00 -1.284273 -0.481479 -0.189562 -5 -1.0       -4 -0.999848\n",
       "2020-11-09 17:45:00 -0.439409 -1.685927 -1.175168 -5 -1.5       -6 -0.999657\n",
       "2020-11-09 18:45:00 -0.460468 -0.845529 -0.858127 -5 -2.0       -8 -0.999391\n",
       "2020-11-09 19:45:00 -1.191730 -0.617910 -0.080656 -5 -2.5      -10 -0.999048\n",
       "2020-11-09 20:45:00 -0.878778 -1.938080 -0.366647 -5 -3.0      -12 -0.998630\n",
       "2020-11-09 21:45:00 -2.215064 -1.577065 -0.889675 -5 -3.5      -14 -0.998135\n",
       "2020-11-09 22:45:00 -1.483511 -0.399441 -1.211552 -5 -4.0      -16 -0.997564\n",
       "2020-11-09 23:45:00 -0.300842 -0.125939 -1.353353 -5 -4.5      -18 -0.996917"
=======
       "2020-11-09 14:45:00  0.000000 -0.941649 -0.318398 -5  0.0        0 -1.000000\n",
       "2020-11-09 15:45:00 -2.481662 -0.699006 -0.566518 -5 -0.5       -2 -0.999962\n",
       "2020-11-09 16:45:00 -0.761617 -1.086019 -0.803419 -5 -1.0       -4 -0.999848\n",
       "2020-11-09 17:45:00 -1.731154 -0.446186 -0.605477 -5 -1.5       -6 -0.999657\n",
       "2020-11-09 18:45:00 -0.482729 -0.998313 -0.630441 -5 -2.0       -8 -0.999391\n",
       "2020-11-09 19:45:00 -0.581911 -1.978957 -1.009629 -5 -2.5      -10 -0.999048\n",
       "2020-11-09 20:45:00 -0.641403 -0.019690 -0.938782 -5 -3.0      -12 -0.998630\n",
       "2020-11-09 21:45:00 -0.780900 -0.435113 -0.333215 -5 -3.5      -14 -0.998135\n",
       "2020-11-09 22:45:00 -0.411493 -1.579712 -0.263748 -5 -4.0      -16 -0.997564\n",
       "2020-11-09 23:45:00 -0.041885 -0.690319 -0.918700 -5 -4.5      -18 -0.996917"
>>>>>>> master
      ]
     },
     "execution_count": 35,
     "metadata": {},
     "output_type": "execute_result"
    }
   ],
   "source": [
    "# another example of global setting\n",
    "df2=df.copy()\n",
    "df2[df2>0] = -df2\n",
    "df2"
   ]
  },
  {
   "cell_type": "markdown",
   "metadata": {},
   "source": [
    "### Dropping\n",
    "\n",
    "N.B.: dropping doesn't act permanently on the DataFrame, i.e. to get that do :\n",
    "```python\n",
    "df = df.drop(....)\n",
    "```"
   ]
  },
  {
   "cell_type": "code",
   "execution_count": 36,
   "metadata": {},
   "outputs": [
    {
     "data": {
      "text/html": [
       "<div>\n",
       "<style scoped>\n",
       "    .dataframe tbody tr th:only-of-type {\n",
       "        vertical-align: middle;\n",
       "    }\n",
       "\n",
       "    .dataframe tbody tr th {\n",
       "        vertical-align: top;\n",
       "    }\n",
       "\n",
       "    .dataframe thead th {\n",
       "        text-align: right;\n",
       "    }\n",
       "</style>\n",
       "<table border=\"1\" class=\"dataframe\">\n",
       "  <thead>\n",
       "    <tr style=\"text-align: right;\">\n",
       "      <th></th>\n",
       "      <th>A</th>\n",
       "      <th>B</th>\n",
       "      <th>C</th>\n",
       "      <th>D</th>\n",
       "      <th>E</th>\n",
       "      <th>cosine</th>\n",
       "    </tr>\n",
       "  </thead>\n",
       "  <tbody>\n",
       "    <tr>\n",
       "      <th>2020-11-09 14:45:00</th>\n",
       "      <td>0.000000</td>\n",
<<<<<<< HEAD
       "      <td>-0.371284</td>\n",
       "      <td>-0.532242</td>\n",
=======
       "      <td>-0.941649</td>\n",
       "      <td>0.318398</td>\n",
>>>>>>> master
       "      <td>5</td>\n",
       "      <td>0.0</td>\n",
       "      <td>1.000000</td>\n",
       "    </tr>\n",
       "    <tr>\n",
       "      <th>2020-11-09 15:45:00</th>\n",
<<<<<<< HEAD
       "      <td>-1.127918</td>\n",
       "      <td>-0.671627</td>\n",
       "      <td>0.464455</td>\n",
=======
       "      <td>-2.481662</td>\n",
       "      <td>0.699006</td>\n",
       "      <td>0.566518</td>\n",
>>>>>>> master
       "      <td>5</td>\n",
       "      <td>0.5</td>\n",
       "      <td>0.999962</td>\n",
       "    </tr>\n",
       "    <tr>\n",
       "      <th>2020-11-09 16:45:00</th>\n",
<<<<<<< HEAD
       "      <td>-1.284273</td>\n",
       "      <td>-0.481479</td>\n",
       "      <td>-0.189562</td>\n",
=======
       "      <td>-0.761617</td>\n",
       "      <td>1.086019</td>\n",
       "      <td>-0.803419</td>\n",
>>>>>>> master
       "      <td>5</td>\n",
       "      <td>1.0</td>\n",
       "      <td>0.999848</td>\n",
       "    </tr>\n",
       "    <tr>\n",
       "      <th>2020-11-09 17:45:00</th>\n",
<<<<<<< HEAD
       "      <td>0.439409</td>\n",
       "      <td>-1.685927</td>\n",
       "      <td>-1.175168</td>\n",
=======
       "      <td>1.731154</td>\n",
       "      <td>-0.446186</td>\n",
       "      <td>-0.605477</td>\n",
>>>>>>> master
       "      <td>5</td>\n",
       "      <td>1.5</td>\n",
       "      <td>0.999657</td>\n",
       "    </tr>\n",
       "    <tr>\n",
       "      <th>2020-11-09 18:45:00</th>\n",
<<<<<<< HEAD
       "      <td>-0.460468</td>\n",
       "      <td>0.845529</td>\n",
       "      <td>-0.858127</td>\n",
=======
       "      <td>-0.482729</td>\n",
       "      <td>0.998313</td>\n",
       "      <td>0.630441</td>\n",
>>>>>>> master
       "      <td>5</td>\n",
       "      <td>2.0</td>\n",
       "      <td>0.999391</td>\n",
       "    </tr>\n",
       "    <tr>\n",
       "      <th>2020-11-09 19:45:00</th>\n",
<<<<<<< HEAD
       "      <td>-1.191730</td>\n",
       "      <td>-0.617910</td>\n",
       "      <td>-0.080656</td>\n",
=======
       "      <td>-0.581911</td>\n",
       "      <td>-1.978957</td>\n",
       "      <td>1.009629</td>\n",
>>>>>>> master
       "      <td>5</td>\n",
       "      <td>2.5</td>\n",
       "      <td>0.999048</td>\n",
       "    </tr>\n",
       "    <tr>\n",
       "      <th>2020-11-09 20:45:00</th>\n",
<<<<<<< HEAD
       "      <td>0.878778</td>\n",
       "      <td>-1.938080</td>\n",
       "      <td>-0.366647</td>\n",
=======
       "      <td>-0.641403</td>\n",
       "      <td>0.019690</td>\n",
       "      <td>-0.938782</td>\n",
>>>>>>> master
       "      <td>5</td>\n",
       "      <td>3.0</td>\n",
       "      <td>0.998630</td>\n",
       "    </tr>\n",
       "    <tr>\n",
       "      <th>2020-11-09 21:45:00</th>\n",
<<<<<<< HEAD
       "      <td>2.215064</td>\n",
       "      <td>-1.577065</td>\n",
       "      <td>0.889675</td>\n",
=======
       "      <td>0.780900</td>\n",
       "      <td>0.435113</td>\n",
       "      <td>0.333215</td>\n",
>>>>>>> master
       "      <td>5</td>\n",
       "      <td>3.5</td>\n",
       "      <td>0.998135</td>\n",
       "    </tr>\n",
       "    <tr>\n",
       "      <th>2020-11-09 22:45:00</th>\n",
<<<<<<< HEAD
       "      <td>1.483511</td>\n",
       "      <td>0.399441</td>\n",
       "      <td>-1.211552</td>\n",
=======
       "      <td>0.411493</td>\n",
       "      <td>-1.579712</td>\n",
       "      <td>0.263748</td>\n",
>>>>>>> master
       "      <td>5</td>\n",
       "      <td>4.0</td>\n",
       "      <td>0.997564</td>\n",
       "    </tr>\n",
       "    <tr>\n",
       "      <th>2020-11-09 23:45:00</th>\n",
<<<<<<< HEAD
       "      <td>0.300842</td>\n",
       "      <td>0.125939</td>\n",
       "      <td>-1.353353</td>\n",
=======
       "      <td>-0.041885</td>\n",
       "      <td>0.690319</td>\n",
       "      <td>-0.918700</td>\n",
>>>>>>> master
       "      <td>5</td>\n",
       "      <td>4.5</td>\n",
       "      <td>0.996917</td>\n",
       "    </tr>\n",
       "  </tbody>\n",
       "</table>\n",
       "</div>"
      ],
      "text/plain": [
       "                            A         B         C  D    E    cosine\n",
<<<<<<< HEAD
       "2020-11-09 14:45:00  0.000000 -0.371284 -0.532242  5  0.0  1.000000\n",
       "2020-11-09 15:45:00 -1.127918 -0.671627  0.464455  5  0.5  0.999962\n",
       "2020-11-09 16:45:00 -1.284273 -0.481479 -0.189562  5  1.0  0.999848\n",
       "2020-11-09 17:45:00  0.439409 -1.685927 -1.175168  5  1.5  0.999657\n",
       "2020-11-09 18:45:00 -0.460468  0.845529 -0.858127  5  2.0  0.999391\n",
       "2020-11-09 19:45:00 -1.191730 -0.617910 -0.080656  5  2.5  0.999048\n",
       "2020-11-09 20:45:00  0.878778 -1.938080 -0.366647  5  3.0  0.998630\n",
       "2020-11-09 21:45:00  2.215064 -1.577065  0.889675  5  3.5  0.998135\n",
       "2020-11-09 22:45:00  1.483511  0.399441 -1.211552  5  4.0  0.997564\n",
       "2020-11-09 23:45:00  0.300842  0.125939 -1.353353  5  4.5  0.996917"
=======
       "2020-11-09 14:45:00  0.000000 -0.941649  0.318398  5  0.0  1.000000\n",
       "2020-11-09 15:45:00 -2.481662  0.699006  0.566518  5  0.5  0.999962\n",
       "2020-11-09 16:45:00 -0.761617  1.086019 -0.803419  5  1.0  0.999848\n",
       "2020-11-09 17:45:00  1.731154 -0.446186 -0.605477  5  1.5  0.999657\n",
       "2020-11-09 18:45:00 -0.482729  0.998313  0.630441  5  2.0  0.999391\n",
       "2020-11-09 19:45:00 -0.581911 -1.978957  1.009629  5  2.5  0.999048\n",
       "2020-11-09 20:45:00 -0.641403  0.019690 -0.938782  5  3.0  0.998630\n",
       "2020-11-09 21:45:00  0.780900  0.435113  0.333215  5  3.5  0.998135\n",
       "2020-11-09 22:45:00  0.411493 -1.579712  0.263748  5  4.0  0.997564\n",
       "2020-11-09 23:45:00 -0.041885  0.690319 -0.918700  5  4.5  0.996917"
>>>>>>> master
      ]
     },
     "execution_count": 36,
     "metadata": {},
     "output_type": "execute_result"
    }
   ],
   "source": [
    "# Dropping by column\n",
    "df.drop(['E prime'], axis=1)\n",
    "\n",
    "#which is equivalent to\n",
    "df.drop(columns=['E prime'])"
   ]
  },
  {
   "cell_type": "code",
   "execution_count": 37,
   "metadata": {},
   "outputs": [
    {
     "data": {
      "text/html": [
       "<div>\n",
       "<style scoped>\n",
       "    .dataframe tbody tr th:only-of-type {\n",
       "        vertical-align: middle;\n",
       "    }\n",
       "\n",
       "    .dataframe tbody tr th {\n",
       "        vertical-align: top;\n",
       "    }\n",
       "\n",
       "    .dataframe thead th {\n",
       "        text-align: right;\n",
       "    }\n",
       "</style>\n",
       "<table border=\"1\" class=\"dataframe\">\n",
       "  <thead>\n",
       "    <tr style=\"text-align: right;\">\n",
       "      <th></th>\n",
       "      <th>A</th>\n",
       "      <th>B</th>\n",
       "      <th>C</th>\n",
       "      <th>D</th>\n",
       "      <th>E</th>\n",
       "      <th>E prime</th>\n",
       "      <th>cosine</th>\n",
       "    </tr>\n",
       "  </thead>\n",
       "  <tbody>\n",
       "    <tr>\n",
       "      <th>2020-11-09 14:45:00</th>\n",
       "      <td>0.000000</td>\n",
<<<<<<< HEAD
       "      <td>-0.371284</td>\n",
       "      <td>-0.532242</td>\n",
=======
       "      <td>-0.941649</td>\n",
       "      <td>0.318398</td>\n",
>>>>>>> master
       "      <td>5</td>\n",
       "      <td>0.0</td>\n",
       "      <td>0</td>\n",
       "      <td>1.000000</td>\n",
       "    </tr>\n",
       "    <tr>\n",
       "      <th>2020-11-09 19:45:00</th>\n",
<<<<<<< HEAD
       "      <td>-1.191730</td>\n",
       "      <td>-0.617910</td>\n",
       "      <td>-0.080656</td>\n",
=======
       "      <td>-0.581911</td>\n",
       "      <td>-1.978957</td>\n",
       "      <td>1.009629</td>\n",
>>>>>>> master
       "      <td>5</td>\n",
       "      <td>2.5</td>\n",
       "      <td>10</td>\n",
       "      <td>0.999048</td>\n",
       "    </tr>\n",
       "    <tr>\n",
       "      <th>2020-11-09 20:45:00</th>\n",
<<<<<<< HEAD
       "      <td>0.878778</td>\n",
       "      <td>-1.938080</td>\n",
       "      <td>-0.366647</td>\n",
=======
       "      <td>-0.641403</td>\n",
       "      <td>0.019690</td>\n",
       "      <td>-0.938782</td>\n",
>>>>>>> master
       "      <td>5</td>\n",
       "      <td>3.0</td>\n",
       "      <td>12</td>\n",
       "      <td>0.998630</td>\n",
       "    </tr>\n",
       "    <tr>\n",
       "      <th>2020-11-09 21:45:00</th>\n",
<<<<<<< HEAD
       "      <td>2.215064</td>\n",
       "      <td>-1.577065</td>\n",
       "      <td>0.889675</td>\n",
=======
       "      <td>0.780900</td>\n",
       "      <td>0.435113</td>\n",
       "      <td>0.333215</td>\n",
>>>>>>> master
       "      <td>5</td>\n",
       "      <td>3.5</td>\n",
       "      <td>14</td>\n",
       "      <td>0.998135</td>\n",
       "    </tr>\n",
       "    <tr>\n",
       "      <th>2020-11-09 22:45:00</th>\n",
<<<<<<< HEAD
       "      <td>1.483511</td>\n",
       "      <td>0.399441</td>\n",
       "      <td>-1.211552</td>\n",
=======
       "      <td>0.411493</td>\n",
       "      <td>-1.579712</td>\n",
       "      <td>0.263748</td>\n",
>>>>>>> master
       "      <td>5</td>\n",
       "      <td>4.0</td>\n",
       "      <td>16</td>\n",
       "      <td>0.997564</td>\n",
       "    </tr>\n",
       "    <tr>\n",
       "      <th>2020-11-09 23:45:00</th>\n",
<<<<<<< HEAD
       "      <td>0.300842</td>\n",
       "      <td>0.125939</td>\n",
       "      <td>-1.353353</td>\n",
=======
       "      <td>-0.041885</td>\n",
       "      <td>0.690319</td>\n",
       "      <td>-0.918700</td>\n",
>>>>>>> master
       "      <td>5</td>\n",
       "      <td>4.5</td>\n",
       "      <td>18</td>\n",
       "      <td>0.996917</td>\n",
       "    </tr>\n",
       "  </tbody>\n",
       "</table>\n",
       "</div>"
      ],
      "text/plain": [
       "                            A         B         C  D    E  E prime    cosine\n",
<<<<<<< HEAD
       "2020-11-09 14:45:00  0.000000 -0.371284 -0.532242  5  0.0        0  1.000000\n",
       "2020-11-09 19:45:00 -1.191730 -0.617910 -0.080656  5  2.5       10  0.999048\n",
       "2020-11-09 20:45:00  0.878778 -1.938080 -0.366647  5  3.0       12  0.998630\n",
       "2020-11-09 21:45:00  2.215064 -1.577065  0.889675  5  3.5       14  0.998135\n",
       "2020-11-09 22:45:00  1.483511  0.399441 -1.211552  5  4.0       16  0.997564\n",
       "2020-11-09 23:45:00  0.300842  0.125939 -1.353353  5  4.5       18  0.996917"
=======
       "2020-11-09 14:45:00  0.000000 -0.941649  0.318398  5  0.0        0  1.000000\n",
       "2020-11-09 19:45:00 -0.581911 -1.978957  1.009629  5  2.5       10  0.999048\n",
       "2020-11-09 20:45:00 -0.641403  0.019690 -0.938782  5  3.0       12  0.998630\n",
       "2020-11-09 21:45:00  0.780900  0.435113  0.333215  5  3.5       14  0.998135\n",
       "2020-11-09 22:45:00  0.411493 -1.579712  0.263748  5  4.0       16  0.997564\n",
       "2020-11-09 23:45:00 -0.041885  0.690319 -0.918700  5  4.5       18  0.996917"
>>>>>>> master
      ]
     },
     "execution_count": 37,
     "metadata": {},
     "output_type": "execute_result"
    }
   ],
   "source": [
    "# Dropping by raws\n",
    "# safe and always working\n",
    "df.drop(df.index[[1,2,3,4]])"
   ]
  },
  {
   "cell_type": "code",
   "execution_count": 38,
   "metadata": {},
   "outputs": [
    {
     "data": {
      "text/html": [
       "<div>\n",
       "<style scoped>\n",
       "    .dataframe tbody tr th:only-of-type {\n",
       "        vertical-align: middle;\n",
       "    }\n",
       "\n",
       "    .dataframe tbody tr th {\n",
       "        vertical-align: top;\n",
       "    }\n",
       "\n",
       "    .dataframe thead th {\n",
       "        text-align: right;\n",
       "    }\n",
       "</style>\n",
       "<table border=\"1\" class=\"dataframe\">\n",
       "  <thead>\n",
       "    <tr style=\"text-align: right;\">\n",
       "      <th></th>\n",
       "      <th>A</th>\n",
       "      <th>B</th>\n",
       "      <th>C</th>\n",
       "      <th>D</th>\n",
       "      <th>E</th>\n",
       "      <th>E prime</th>\n",
       "      <th>cosine</th>\n",
       "    </tr>\n",
       "  </thead>\n",
       "  <tbody>\n",
       "    <tr>\n",
       "      <th>2020-11-09 14:45:00</th>\n",
       "      <td>0.000000</td>\n",
<<<<<<< HEAD
       "      <td>-0.371284</td>\n",
       "      <td>-0.532242</td>\n",
=======
       "      <td>-0.941649</td>\n",
       "      <td>0.318398</td>\n",
>>>>>>> master
       "      <td>5</td>\n",
       "      <td>0.0</td>\n",
       "      <td>0</td>\n",
       "      <td>1.000000</td>\n",
       "    </tr>\n",
       "    <tr>\n",
       "      <th>2020-11-09 15:45:00</th>\n",
<<<<<<< HEAD
       "      <td>-1.127918</td>\n",
       "      <td>-0.671627</td>\n",
       "      <td>0.464455</td>\n",
=======
       "      <td>-2.481662</td>\n",
       "      <td>0.699006</td>\n",
       "      <td>0.566518</td>\n",
>>>>>>> master
       "      <td>5</td>\n",
       "      <td>0.5</td>\n",
       "      <td>2</td>\n",
       "      <td>0.999962</td>\n",
       "    </tr>\n",
       "    <tr>\n",
       "      <th>2020-11-09 16:45:00</th>\n",
<<<<<<< HEAD
       "      <td>-1.284273</td>\n",
       "      <td>-0.481479</td>\n",
       "      <td>-0.189562</td>\n",
=======
       "      <td>-0.761617</td>\n",
       "      <td>1.086019</td>\n",
       "      <td>-0.803419</td>\n",
>>>>>>> master
       "      <td>5</td>\n",
       "      <td>1.0</td>\n",
       "      <td>4</td>\n",
       "      <td>0.999848</td>\n",
       "    </tr>\n",
       "    <tr>\n",
       "      <th>2020-11-09 17:45:00</th>\n",
<<<<<<< HEAD
       "      <td>0.439409</td>\n",
       "      <td>-1.685927</td>\n",
       "      <td>-1.175168</td>\n",
=======
       "      <td>1.731154</td>\n",
       "      <td>-0.446186</td>\n",
       "      <td>-0.605477</td>\n",
>>>>>>> master
       "      <td>5</td>\n",
       "      <td>1.5</td>\n",
       "      <td>6</td>\n",
       "      <td>0.999657</td>\n",
       "    </tr>\n",
       "    <tr>\n",
       "      <th>2020-11-09 18:45:00</th>\n",
<<<<<<< HEAD
       "      <td>-0.460468</td>\n",
       "      <td>0.845529</td>\n",
       "      <td>-0.858127</td>\n",
=======
       "      <td>-0.482729</td>\n",
       "      <td>0.998313</td>\n",
       "      <td>0.630441</td>\n",
>>>>>>> master
       "      <td>5</td>\n",
       "      <td>2.0</td>\n",
       "      <td>8</td>\n",
       "      <td>0.999391</td>\n",
       "    </tr>\n",
       "    <tr>\n",
       "      <th>2020-11-09 19:45:00</th>\n",
<<<<<<< HEAD
       "      <td>-1.191730</td>\n",
       "      <td>-0.617910</td>\n",
       "      <td>-0.080656</td>\n",
=======
       "      <td>-0.581911</td>\n",
       "      <td>-1.978957</td>\n",
       "      <td>1.009629</td>\n",
>>>>>>> master
       "      <td>5</td>\n",
       "      <td>2.5</td>\n",
       "      <td>10</td>\n",
       "      <td>0.999048</td>\n",
       "    </tr>\n",
       "    <tr>\n",
       "      <th>2020-11-09 20:45:00</th>\n",
<<<<<<< HEAD
       "      <td>0.878778</td>\n",
       "      <td>-1.938080</td>\n",
       "      <td>-0.366647</td>\n",
=======
       "      <td>-0.641403</td>\n",
       "      <td>0.019690</td>\n",
       "      <td>-0.938782</td>\n",
>>>>>>> master
       "      <td>5</td>\n",
       "      <td>3.0</td>\n",
       "      <td>12</td>\n",
       "      <td>0.998630</td>\n",
       "    </tr>\n",
       "    <tr>\n",
       "      <th>2020-11-09 21:45:00</th>\n",
<<<<<<< HEAD
       "      <td>2.215064</td>\n",
       "      <td>-1.577065</td>\n",
       "      <td>0.889675</td>\n",
=======
       "      <td>0.780900</td>\n",
       "      <td>0.435113</td>\n",
       "      <td>0.333215</td>\n",
>>>>>>> master
       "      <td>5</td>\n",
       "      <td>3.5</td>\n",
       "      <td>14</td>\n",
       "      <td>0.998135</td>\n",
       "    </tr>\n",
       "    <tr>\n",
       "      <th>2020-11-09 23:45:00</th>\n",
<<<<<<< HEAD
       "      <td>0.300842</td>\n",
       "      <td>0.125939</td>\n",
       "      <td>-1.353353</td>\n",
=======
       "      <td>-0.041885</td>\n",
       "      <td>0.690319</td>\n",
       "      <td>-0.918700</td>\n",
>>>>>>> master
       "      <td>5</td>\n",
       "      <td>4.5</td>\n",
       "      <td>18</td>\n",
       "      <td>0.996917</td>\n",
       "    </tr>\n",
       "  </tbody>\n",
       "</table>\n",
       "</div>"
      ],
      "text/plain": [
       "                            A         B         C  D    E  E prime    cosine\n",
<<<<<<< HEAD
       "2020-11-09 14:45:00  0.000000 -0.371284 -0.532242  5  0.0        0  1.000000\n",
       "2020-11-09 15:45:00 -1.127918 -0.671627  0.464455  5  0.5        2  0.999962\n",
       "2020-11-09 16:45:00 -1.284273 -0.481479 -0.189562  5  1.0        4  0.999848\n",
       "2020-11-09 17:45:00  0.439409 -1.685927 -1.175168  5  1.5        6  0.999657\n",
       "2020-11-09 18:45:00 -0.460468  0.845529 -0.858127  5  2.0        8  0.999391\n",
       "2020-11-09 19:45:00 -1.191730 -0.617910 -0.080656  5  2.5       10  0.999048\n",
       "2020-11-09 20:45:00  0.878778 -1.938080 -0.366647  5  3.0       12  0.998630\n",
       "2020-11-09 21:45:00  2.215064 -1.577065  0.889675  5  3.5       14  0.998135\n",
       "2020-11-09 23:45:00  0.300842  0.125939 -1.353353  5  4.5       18  0.996917"
=======
       "2020-11-09 14:45:00  0.000000 -0.941649  0.318398  5  0.0        0  1.000000\n",
       "2020-11-09 15:45:00 -2.481662  0.699006  0.566518  5  0.5        2  0.999962\n",
       "2020-11-09 16:45:00 -0.761617  1.086019 -0.803419  5  1.0        4  0.999848\n",
       "2020-11-09 17:45:00  1.731154 -0.446186 -0.605477  5  1.5        6  0.999657\n",
       "2020-11-09 18:45:00 -0.482729  0.998313  0.630441  5  2.0        8  0.999391\n",
       "2020-11-09 19:45:00 -0.581911 -1.978957  1.009629  5  2.5       10  0.999048\n",
       "2020-11-09 20:45:00 -0.641403  0.019690 -0.938782  5  3.0       12  0.998630\n",
       "2020-11-09 21:45:00  0.780900  0.435113  0.333215  5  3.5       14  0.998135\n",
       "2020-11-09 23:45:00 -0.041885  0.690319 -0.918700  5  4.5       18  0.996917"
>>>>>>> master
      ]
     },
     "execution_count": 38,
     "metadata": {},
     "output_type": "execute_result"
    }
   ],
   "source": [
    "# something like df.drop('index_name') \n",
    "# would work but the type of index must be specificed, \n",
    "# in particular with DatetimeIndex\n",
    "df.drop(pd.to_datetime(\"2020-11-09 22:45:00\"))"
   ]
  },
  {
   "cell_type": "markdown",
   "metadata": {},
   "source": [
    "## Missing data\n",
    "\n",
    "pandas primarily uses the value np.nan to represent missing data. It is by default not included in computations."
   ]
  },
  {
   "cell_type": "code",
   "execution_count": 39,
   "metadata": {},
   "outputs": [
    {
     "data": {
      "text/html": [
       "<div>\n",
       "<style scoped>\n",
       "    .dataframe tbody tr th:only-of-type {\n",
       "        vertical-align: middle;\n",
       "    }\n",
       "\n",
       "    .dataframe tbody tr th {\n",
       "        vertical-align: top;\n",
       "    }\n",
       "\n",
       "    .dataframe thead th {\n",
       "        text-align: right;\n",
       "    }\n",
       "</style>\n",
       "<table border=\"1\" class=\"dataframe\">\n",
       "  <thead>\n",
       "    <tr style=\"text-align: right;\">\n",
       "      <th></th>\n",
       "      <th>A</th>\n",
       "      <th>B</th>\n",
       "      <th>C</th>\n",
       "      <th>D</th>\n",
       "      <th>E</th>\n",
       "      <th>E prime</th>\n",
       "      <th>cosine</th>\n",
       "    </tr>\n",
       "  </thead>\n",
       "  <tbody>\n",
       "    <tr>\n",
       "      <th>2020-11-09 14:45:00</th>\n",
       "      <td>NaN</td>\n",
       "      <td>NaN</td>\n",
<<<<<<< HEAD
       "      <td>NaN</td>\n",
=======
       "      <td>0.318398</td>\n",
>>>>>>> master
       "      <td>5</td>\n",
       "      <td>NaN</td>\n",
       "      <td>NaN</td>\n",
       "      <td>1.000000</td>\n",
       "    </tr>\n",
       "    <tr>\n",
       "      <th>2020-11-09 15:45:00</th>\n",
       "      <td>NaN</td>\n",
<<<<<<< HEAD
       "      <td>NaN</td>\n",
       "      <td>0.464455</td>\n",
=======
       "      <td>0.699006</td>\n",
       "      <td>0.566518</td>\n",
>>>>>>> master
       "      <td>5</td>\n",
       "      <td>0.5</td>\n",
       "      <td>2.0</td>\n",
       "      <td>0.999962</td>\n",
       "    </tr>\n",
       "    <tr>\n",
       "      <th>2020-11-09 16:45:00</th>\n",
       "      <td>NaN</td>\n",
<<<<<<< HEAD
       "      <td>NaN</td>\n",
=======
       "      <td>1.086019</td>\n",
>>>>>>> master
       "      <td>NaN</td>\n",
       "      <td>5</td>\n",
       "      <td>1.0</td>\n",
       "      <td>4.0</td>\n",
       "      <td>0.999848</td>\n",
       "    </tr>\n",
       "    <tr>\n",
       "      <th>2020-11-09 17:45:00</th>\n",
<<<<<<< HEAD
       "      <td>0.439409</td>\n",
=======
       "      <td>1.731154</td>\n",
>>>>>>> master
       "      <td>NaN</td>\n",
       "      <td>NaN</td>\n",
       "      <td>5</td>\n",
       "      <td>1.5</td>\n",
       "      <td>6.0</td>\n",
       "      <td>0.999657</td>\n",
       "    </tr>\n",
       "    <tr>\n",
       "      <th>2020-11-09 18:45:00</th>\n",
       "      <td>NaN</td>\n",
<<<<<<< HEAD
       "      <td>0.845529</td>\n",
       "      <td>NaN</td>\n",
=======
       "      <td>0.998313</td>\n",
       "      <td>0.630441</td>\n",
>>>>>>> master
       "      <td>5</td>\n",
       "      <td>2.0</td>\n",
       "      <td>8.0</td>\n",
       "      <td>0.999391</td>\n",
       "    </tr>\n",
       "    <tr>\n",
       "      <th>2020-11-09 19:45:00</th>\n",
       "      <td>NaN</td>\n",
       "      <td>NaN</td>\n",
<<<<<<< HEAD
       "      <td>NaN</td>\n",
=======
       "      <td>1.009629</td>\n",
>>>>>>> master
       "      <td>5</td>\n",
       "      <td>2.5</td>\n",
       "      <td>10.0</td>\n",
       "      <td>0.999048</td>\n",
       "    </tr>\n",
       "    <tr>\n",
       "      <th>2020-11-09 20:45:00</th>\n",
<<<<<<< HEAD
       "      <td>0.878778</td>\n",
       "      <td>NaN</td>\n",
=======
       "      <td>NaN</td>\n",
       "      <td>0.019690</td>\n",
>>>>>>> master
       "      <td>NaN</td>\n",
       "      <td>5</td>\n",
       "      <td>3.0</td>\n",
       "      <td>12.0</td>\n",
       "      <td>0.998630</td>\n",
       "    </tr>\n",
       "    <tr>\n",
       "      <th>2020-11-09 21:45:00</th>\n",
<<<<<<< HEAD
       "      <td>2.215064</td>\n",
       "      <td>NaN</td>\n",
       "      <td>0.889675</td>\n",
=======
       "      <td>0.780900</td>\n",
       "      <td>0.435113</td>\n",
       "      <td>0.333215</td>\n",
>>>>>>> master
       "      <td>5</td>\n",
       "      <td>3.5</td>\n",
       "      <td>14.0</td>\n",
       "      <td>0.998135</td>\n",
       "    </tr>\n",
       "    <tr>\n",
       "      <th>2020-11-09 22:45:00</th>\n",
<<<<<<< HEAD
       "      <td>1.483511</td>\n",
       "      <td>0.399441</td>\n",
       "      <td>NaN</td>\n",
=======
       "      <td>0.411493</td>\n",
       "      <td>NaN</td>\n",
       "      <td>0.263748</td>\n",
>>>>>>> master
       "      <td>5</td>\n",
       "      <td>4.0</td>\n",
       "      <td>16.0</td>\n",
       "      <td>0.997564</td>\n",
       "    </tr>\n",
       "    <tr>\n",
       "      <th>2020-11-09 23:45:00</th>\n",
<<<<<<< HEAD
       "      <td>0.300842</td>\n",
       "      <td>0.125939</td>\n",
=======
       "      <td>NaN</td>\n",
       "      <td>0.690319</td>\n",
>>>>>>> master
       "      <td>NaN</td>\n",
       "      <td>5</td>\n",
       "      <td>4.5</td>\n",
       "      <td>18.0</td>\n",
       "      <td>0.996917</td>\n",
       "    </tr>\n",
       "  </tbody>\n",
       "</table>\n",
       "</div>"
      ],
      "text/plain": [
       "                            A         B         C  D    E  E prime    cosine\n",
<<<<<<< HEAD
       "2020-11-09 14:45:00       NaN       NaN       NaN  5  NaN      NaN  1.000000\n",
       "2020-11-09 15:45:00       NaN       NaN  0.464455  5  0.5      2.0  0.999962\n",
       "2020-11-09 16:45:00       NaN       NaN       NaN  5  1.0      4.0  0.999848\n",
       "2020-11-09 17:45:00  0.439409       NaN       NaN  5  1.5      6.0  0.999657\n",
       "2020-11-09 18:45:00       NaN  0.845529       NaN  5  2.0      8.0  0.999391\n",
       "2020-11-09 19:45:00       NaN       NaN       NaN  5  2.5     10.0  0.999048\n",
       "2020-11-09 20:45:00  0.878778       NaN       NaN  5  3.0     12.0  0.998630\n",
       "2020-11-09 21:45:00  2.215064       NaN  0.889675  5  3.5     14.0  0.998135\n",
       "2020-11-09 22:45:00  1.483511  0.399441       NaN  5  4.0     16.0  0.997564\n",
       "2020-11-09 23:45:00  0.300842  0.125939       NaN  5  4.5     18.0  0.996917"
=======
       "2020-11-09 14:45:00       NaN       NaN  0.318398  5  NaN      NaN  1.000000\n",
       "2020-11-09 15:45:00       NaN  0.699006  0.566518  5  0.5      2.0  0.999962\n",
       "2020-11-09 16:45:00       NaN  1.086019       NaN  5  1.0      4.0  0.999848\n",
       "2020-11-09 17:45:00  1.731154       NaN       NaN  5  1.5      6.0  0.999657\n",
       "2020-11-09 18:45:00       NaN  0.998313  0.630441  5  2.0      8.0  0.999391\n",
       "2020-11-09 19:45:00       NaN       NaN  1.009629  5  2.5     10.0  0.999048\n",
       "2020-11-09 20:45:00       NaN  0.019690       NaN  5  3.0     12.0  0.998630\n",
       "2020-11-09 21:45:00  0.780900  0.435113  0.333215  5  3.5     14.0  0.998135\n",
       "2020-11-09 22:45:00  0.411493       NaN  0.263748  5  4.0     16.0  0.997564\n",
       "2020-11-09 23:45:00       NaN  0.690319       NaN  5  4.5     18.0  0.996917"
>>>>>>> master
      ]
     },
     "execution_count": 39,
     "metadata": {},
     "output_type": "execute_result"
    }
   ],
   "source": [
    "df_wNan = df[df>0]\n",
    "df_wNan\n",
    "#Nan indica un numero in notazione binaria in cui tutti i bit delle diverse sezioni sono saturi\n",
    "#in pandas equivale proprio a dire che non c'è il numero"
   ]
  },
  {
   "cell_type": "code",
   "execution_count": 40,
   "metadata": {},
   "outputs": [
    {
     "data": {
      "text/html": [
       "<div>\n",
       "<style scoped>\n",
       "    .dataframe tbody tr th:only-of-type {\n",
       "        vertical-align: middle;\n",
       "    }\n",
       "\n",
       "    .dataframe tbody tr th {\n",
       "        vertical-align: top;\n",
       "    }\n",
       "\n",
       "    .dataframe thead th {\n",
       "        text-align: right;\n",
       "    }\n",
       "</style>\n",
       "<table border=\"1\" class=\"dataframe\">\n",
       "  <thead>\n",
       "    <tr style=\"text-align: right;\">\n",
       "      <th></th>\n",
       "      <th>A</th>\n",
       "      <th>B</th>\n",
       "      <th>C</th>\n",
       "      <th>D</th>\n",
       "      <th>E</th>\n",
       "      <th>E prime</th>\n",
       "      <th>cosine</th>\n",
       "    </tr>\n",
       "  </thead>\n",
       "  <tbody>\n",
<<<<<<< HEAD
=======
       "    <tr>\n",
       "      <th>2020-11-09 21:45:00</th>\n",
       "      <td>0.7809</td>\n",
       "      <td>0.435113</td>\n",
       "      <td>0.333215</td>\n",
       "      <td>5</td>\n",
       "      <td>3.5</td>\n",
       "      <td>14.0</td>\n",
       "      <td>0.998135</td>\n",
       "    </tr>\n",
>>>>>>> master
       "  </tbody>\n",
       "</table>\n",
       "</div>"
      ],
      "text/plain": [
<<<<<<< HEAD
       "Empty DataFrame\n",
       "Columns: [A, B, C, D, E, E prime, cosine]\n",
       "Index: []"
=======
       "                          A         B         C  D    E  E prime    cosine\n",
       "2020-11-09 21:45:00  0.7809  0.435113  0.333215  5  3.5     14.0  0.998135"
>>>>>>> master
      ]
     },
     "execution_count": 40,
     "metadata": {},
     "output_type": "execute_result"
    }
   ],
   "source": [
    "# dropping raws with at least a Nan\n",
    "df_wNan.dropna(how='any')"
   ]
  },
  {
   "cell_type": "code",
   "execution_count": 41,
   "metadata": {},
   "outputs": [
    {
     "data": {
      "text/html": [
       "<div>\n",
       "<style scoped>\n",
       "    .dataframe tbody tr th:only-of-type {\n",
       "        vertical-align: middle;\n",
       "    }\n",
       "\n",
       "    .dataframe tbody tr th {\n",
       "        vertical-align: top;\n",
       "    }\n",
       "\n",
       "    .dataframe thead th {\n",
       "        text-align: right;\n",
       "    }\n",
       "</style>\n",
       "<table border=\"1\" class=\"dataframe\">\n",
       "  <thead>\n",
       "    <tr style=\"text-align: right;\">\n",
       "      <th></th>\n",
       "      <th>A</th>\n",
       "      <th>B</th>\n",
       "      <th>C</th>\n",
       "      <th>D</th>\n",
       "      <th>E</th>\n",
       "      <th>E prime</th>\n",
       "      <th>cosine</th>\n",
       "    </tr>\n",
       "  </thead>\n",
       "  <tbody>\n",
       "    <tr>\n",
       "      <th>2020-11-09 14:45:00</th>\n",
       "      <td>True</td>\n",
       "      <td>True</td>\n",
<<<<<<< HEAD
       "      <td>True</td>\n",
=======
       "      <td>False</td>\n",
>>>>>>> master
       "      <td>False</td>\n",
       "      <td>True</td>\n",
       "      <td>True</td>\n",
       "      <td>False</td>\n",
       "    </tr>\n",
       "    <tr>\n",
       "      <th>2020-11-09 15:45:00</th>\n",
       "      <td>True</td>\n",
<<<<<<< HEAD
       "      <td>True</td>\n",
=======
       "      <td>False</td>\n",
>>>>>>> master
       "      <td>False</td>\n",
       "      <td>False</td>\n",
       "      <td>False</td>\n",
       "      <td>False</td>\n",
       "      <td>False</td>\n",
       "    </tr>\n",
       "    <tr>\n",
       "      <th>2020-11-09 16:45:00</th>\n",
       "      <td>True</td>\n",
<<<<<<< HEAD
       "      <td>True</td>\n",
=======
       "      <td>False</td>\n",
>>>>>>> master
       "      <td>True</td>\n",
       "      <td>False</td>\n",
       "      <td>False</td>\n",
       "      <td>False</td>\n",
       "      <td>False</td>\n",
       "    </tr>\n",
       "    <tr>\n",
       "      <th>2020-11-09 17:45:00</th>\n",
       "      <td>False</td>\n",
       "      <td>True</td>\n",
       "      <td>True</td>\n",
       "      <td>False</td>\n",
       "      <td>False</td>\n",
       "      <td>False</td>\n",
       "      <td>False</td>\n",
       "    </tr>\n",
       "    <tr>\n",
       "      <th>2020-11-09 18:45:00</th>\n",
       "      <td>True</td>\n",
       "      <td>False</td>\n",
<<<<<<< HEAD
       "      <td>True</td>\n",
=======
       "      <td>False</td>\n",
>>>>>>> master
       "      <td>False</td>\n",
       "      <td>False</td>\n",
       "      <td>False</td>\n",
       "      <td>False</td>\n",
       "    </tr>\n",
       "    <tr>\n",
       "      <th>2020-11-09 19:45:00</th>\n",
       "      <td>True</td>\n",
       "      <td>True</td>\n",
<<<<<<< HEAD
       "      <td>True</td>\n",
=======
       "      <td>False</td>\n",
>>>>>>> master
       "      <td>False</td>\n",
       "      <td>False</td>\n",
       "      <td>False</td>\n",
       "      <td>False</td>\n",
       "    </tr>\n",
       "    <tr>\n",
       "      <th>2020-11-09 20:45:00</th>\n",
<<<<<<< HEAD
       "      <td>False</td>\n",
       "      <td>True</td>\n",
=======
       "      <td>True</td>\n",
       "      <td>False</td>\n",
>>>>>>> master
       "      <td>True</td>\n",
       "      <td>False</td>\n",
       "      <td>False</td>\n",
       "      <td>False</td>\n",
       "      <td>False</td>\n",
       "    </tr>\n",
       "    <tr>\n",
       "      <th>2020-11-09 21:45:00</th>\n",
       "      <td>False</td>\n",
<<<<<<< HEAD
       "      <td>True</td>\n",
=======
       "      <td>False</td>\n",
>>>>>>> master
       "      <td>False</td>\n",
       "      <td>False</td>\n",
       "      <td>False</td>\n",
       "      <td>False</td>\n",
       "      <td>False</td>\n",
       "    </tr>\n",
       "    <tr>\n",
       "      <th>2020-11-09 22:45:00</th>\n",
       "      <td>False</td>\n",
<<<<<<< HEAD
       "      <td>False</td>\n",
=======
>>>>>>> master
       "      <td>True</td>\n",
       "      <td>False</td>\n",
       "      <td>False</td>\n",
       "      <td>False</td>\n",
       "      <td>False</td>\n",
<<<<<<< HEAD
       "    </tr>\n",
       "    <tr>\n",
       "      <th>2020-11-09 23:45:00</th>\n",
       "      <td>False</td>\n",
=======
       "      <td>False</td>\n",
       "    </tr>\n",
       "    <tr>\n",
       "      <th>2020-11-09 23:45:00</th>\n",
       "      <td>True</td>\n",
>>>>>>> master
       "      <td>False</td>\n",
       "      <td>True</td>\n",
       "      <td>False</td>\n",
       "      <td>False</td>\n",
       "      <td>False</td>\n",
       "      <td>False</td>\n",
       "    </tr>\n",
       "  </tbody>\n",
       "</table>\n",
       "</div>"
      ],
      "text/plain": [
       "                         A      B      C      D      E  E prime  cosine\n",
<<<<<<< HEAD
       "2020-11-09 14:45:00   True   True   True  False   True     True   False\n",
       "2020-11-09 15:45:00   True   True  False  False  False    False   False\n",
       "2020-11-09 16:45:00   True   True   True  False  False    False   False\n",
       "2020-11-09 17:45:00  False   True   True  False  False    False   False\n",
       "2020-11-09 18:45:00   True  False   True  False  False    False   False\n",
       "2020-11-09 19:45:00   True   True   True  False  False    False   False\n",
       "2020-11-09 20:45:00  False   True   True  False  False    False   False\n",
       "2020-11-09 21:45:00  False   True  False  False  False    False   False\n",
       "2020-11-09 22:45:00  False  False   True  False  False    False   False\n",
       "2020-11-09 23:45:00  False  False   True  False  False    False   False"
=======
       "2020-11-09 14:45:00   True   True  False  False   True     True   False\n",
       "2020-11-09 15:45:00   True  False  False  False  False    False   False\n",
       "2020-11-09 16:45:00   True  False   True  False  False    False   False\n",
       "2020-11-09 17:45:00  False   True   True  False  False    False   False\n",
       "2020-11-09 18:45:00   True  False  False  False  False    False   False\n",
       "2020-11-09 19:45:00   True   True  False  False  False    False   False\n",
       "2020-11-09 20:45:00   True  False   True  False  False    False   False\n",
       "2020-11-09 21:45:00  False  False  False  False  False    False   False\n",
       "2020-11-09 22:45:00  False   True  False  False  False    False   False\n",
       "2020-11-09 23:45:00   True  False   True  False  False    False   False"
>>>>>>> master
      ]
     },
     "execution_count": 41,
     "metadata": {},
     "output_type": "execute_result"
    }
   ],
   "source": [
    "# getting a mask\n",
    "df_wNan.isna()\n",
    "#df_wNan.notna()"
   ]
  },
  {
   "cell_type": "code",
   "execution_count": 42,
   "metadata": {},
   "outputs": [
    {
     "data": {
      "text/html": [
       "<div>\n",
       "<style scoped>\n",
       "    .dataframe tbody tr th:only-of-type {\n",
       "        vertical-align: middle;\n",
       "    }\n",
       "\n",
       "    .dataframe tbody tr th {\n",
       "        vertical-align: top;\n",
       "    }\n",
       "\n",
       "    .dataframe thead th {\n",
       "        text-align: right;\n",
       "    }\n",
       "</style>\n",
       "<table border=\"1\" class=\"dataframe\">\n",
       "  <thead>\n",
       "    <tr style=\"text-align: right;\">\n",
       "      <th></th>\n",
       "      <th>A</th>\n",
       "      <th>B</th>\n",
       "      <th>C</th>\n",
       "      <th>D</th>\n",
       "      <th>E</th>\n",
       "      <th>E prime</th>\n",
       "      <th>cosine</th>\n",
       "    </tr>\n",
       "  </thead>\n",
       "  <tbody>\n",
       "    <tr>\n",
       "      <th>2020-11-09 14:45:00</th>\n",
       "      <td>0.000000</td>\n",
       "      <td>0.000000</td>\n",
<<<<<<< HEAD
       "      <td>0.000000</td>\n",
=======
       "      <td>0.318398</td>\n",
>>>>>>> master
       "      <td>5</td>\n",
       "      <td>0.0</td>\n",
       "      <td>0.0</td>\n",
       "      <td>1.000000</td>\n",
       "    </tr>\n",
       "    <tr>\n",
       "      <th>2020-11-09 15:45:00</th>\n",
       "      <td>0.000000</td>\n",
<<<<<<< HEAD
       "      <td>0.000000</td>\n",
       "      <td>0.464455</td>\n",
=======
       "      <td>0.699006</td>\n",
       "      <td>0.566518</td>\n",
>>>>>>> master
       "      <td>5</td>\n",
       "      <td>0.5</td>\n",
       "      <td>2.0</td>\n",
       "      <td>0.999962</td>\n",
       "    </tr>\n",
       "    <tr>\n",
       "      <th>2020-11-09 16:45:00</th>\n",
       "      <td>0.000000</td>\n",
<<<<<<< HEAD
       "      <td>0.000000</td>\n",
=======
       "      <td>1.086019</td>\n",
>>>>>>> master
       "      <td>0.000000</td>\n",
       "      <td>5</td>\n",
       "      <td>1.0</td>\n",
       "      <td>4.0</td>\n",
       "      <td>0.999848</td>\n",
       "    </tr>\n",
       "    <tr>\n",
       "      <th>2020-11-09 17:45:00</th>\n",
<<<<<<< HEAD
       "      <td>0.439409</td>\n",
=======
       "      <td>1.731154</td>\n",
>>>>>>> master
       "      <td>0.000000</td>\n",
       "      <td>0.000000</td>\n",
       "      <td>5</td>\n",
       "      <td>1.5</td>\n",
       "      <td>6.0</td>\n",
       "      <td>0.999657</td>\n",
       "    </tr>\n",
       "    <tr>\n",
       "      <th>2020-11-09 18:45:00</th>\n",
       "      <td>0.000000</td>\n",
<<<<<<< HEAD
       "      <td>0.845529</td>\n",
       "      <td>0.000000</td>\n",
=======
       "      <td>0.998313</td>\n",
       "      <td>0.630441</td>\n",
>>>>>>> master
       "      <td>5</td>\n",
       "      <td>2.0</td>\n",
       "      <td>8.0</td>\n",
       "      <td>0.999391</td>\n",
       "    </tr>\n",
       "    <tr>\n",
       "      <th>2020-11-09 19:45:00</th>\n",
       "      <td>0.000000</td>\n",
       "      <td>0.000000</td>\n",
<<<<<<< HEAD
       "      <td>0.000000</td>\n",
=======
       "      <td>1.009629</td>\n",
>>>>>>> master
       "      <td>5</td>\n",
       "      <td>2.5</td>\n",
       "      <td>10.0</td>\n",
       "      <td>0.999048</td>\n",
       "    </tr>\n",
       "    <tr>\n",
       "      <th>2020-11-09 20:45:00</th>\n",
<<<<<<< HEAD
       "      <td>0.878778</td>\n",
       "      <td>0.000000</td>\n",
=======
       "      <td>0.000000</td>\n",
       "      <td>0.019690</td>\n",
>>>>>>> master
       "      <td>0.000000</td>\n",
       "      <td>5</td>\n",
       "      <td>3.0</td>\n",
       "      <td>12.0</td>\n",
       "      <td>0.998630</td>\n",
       "    </tr>\n",
       "    <tr>\n",
       "      <th>2020-11-09 21:45:00</th>\n",
<<<<<<< HEAD
       "      <td>2.215064</td>\n",
       "      <td>0.000000</td>\n",
       "      <td>0.889675</td>\n",
=======
       "      <td>0.780900</td>\n",
       "      <td>0.435113</td>\n",
       "      <td>0.333215</td>\n",
>>>>>>> master
       "      <td>5</td>\n",
       "      <td>3.5</td>\n",
       "      <td>14.0</td>\n",
       "      <td>0.998135</td>\n",
       "    </tr>\n",
       "    <tr>\n",
       "      <th>2020-11-09 22:45:00</th>\n",
<<<<<<< HEAD
       "      <td>1.483511</td>\n",
       "      <td>0.399441</td>\n",
       "      <td>0.000000</td>\n",
=======
       "      <td>0.411493</td>\n",
       "      <td>0.000000</td>\n",
       "      <td>0.263748</td>\n",
>>>>>>> master
       "      <td>5</td>\n",
       "      <td>4.0</td>\n",
       "      <td>16.0</td>\n",
       "      <td>0.997564</td>\n",
       "    </tr>\n",
       "    <tr>\n",
       "      <th>2020-11-09 23:45:00</th>\n",
<<<<<<< HEAD
       "      <td>0.300842</td>\n",
       "      <td>0.125939</td>\n",
=======
       "      <td>0.000000</td>\n",
       "      <td>0.690319</td>\n",
>>>>>>> master
       "      <td>0.000000</td>\n",
       "      <td>5</td>\n",
       "      <td>4.5</td>\n",
       "      <td>18.0</td>\n",
       "      <td>0.996917</td>\n",
       "    </tr>\n",
       "  </tbody>\n",
       "</table>\n",
       "</div>"
      ],
      "text/plain": [
       "                            A         B         C  D    E  E prime    cosine\n",
<<<<<<< HEAD
       "2020-11-09 14:45:00  0.000000  0.000000  0.000000  5  0.0      0.0  1.000000\n",
       "2020-11-09 15:45:00  0.000000  0.000000  0.464455  5  0.5      2.0  0.999962\n",
       "2020-11-09 16:45:00  0.000000  0.000000  0.000000  5  1.0      4.0  0.999848\n",
       "2020-11-09 17:45:00  0.439409  0.000000  0.000000  5  1.5      6.0  0.999657\n",
       "2020-11-09 18:45:00  0.000000  0.845529  0.000000  5  2.0      8.0  0.999391\n",
       "2020-11-09 19:45:00  0.000000  0.000000  0.000000  5  2.5     10.0  0.999048\n",
       "2020-11-09 20:45:00  0.878778  0.000000  0.000000  5  3.0     12.0  0.998630\n",
       "2020-11-09 21:45:00  2.215064  0.000000  0.889675  5  3.5     14.0  0.998135\n",
       "2020-11-09 22:45:00  1.483511  0.399441  0.000000  5  4.0     16.0  0.997564\n",
       "2020-11-09 23:45:00  0.300842  0.125939  0.000000  5  4.5     18.0  0.996917"
=======
       "2020-11-09 14:45:00  0.000000  0.000000  0.318398  5  0.0      0.0  1.000000\n",
       "2020-11-09 15:45:00  0.000000  0.699006  0.566518  5  0.5      2.0  0.999962\n",
       "2020-11-09 16:45:00  0.000000  1.086019  0.000000  5  1.0      4.0  0.999848\n",
       "2020-11-09 17:45:00  1.731154  0.000000  0.000000  5  1.5      6.0  0.999657\n",
       "2020-11-09 18:45:00  0.000000  0.998313  0.630441  5  2.0      8.0  0.999391\n",
       "2020-11-09 19:45:00  0.000000  0.000000  1.009629  5  2.5     10.0  0.999048\n",
       "2020-11-09 20:45:00  0.000000  0.019690  0.000000  5  3.0     12.0  0.998630\n",
       "2020-11-09 21:45:00  0.780900  0.435113  0.333215  5  3.5     14.0  0.998135\n",
       "2020-11-09 22:45:00  0.411493  0.000000  0.263748  5  4.0     16.0  0.997564\n",
       "2020-11-09 23:45:00  0.000000  0.690319  0.000000  5  4.5     18.0  0.996917"
>>>>>>> master
      ]
     },
     "execution_count": 42,
     "metadata": {},
     "output_type": "execute_result"
    }
   ],
   "source": [
    "# filling missing data\n",
    "df_wNan.fillna(value=0)"
   ]
  },
  {
   "cell_type": "markdown",
   "metadata": {},
   "source": [
    "Fill gaps forward or backward by propagating non-NA values forward or backward:"
   ]
  },
  {
   "cell_type": "code",
   "execution_count": 43,
   "metadata": {},
   "outputs": [
    {
     "data": {
      "text/html": [
       "<div>\n",
       "<style scoped>\n",
       "    .dataframe tbody tr th:only-of-type {\n",
       "        vertical-align: middle;\n",
       "    }\n",
       "\n",
       "    .dataframe tbody tr th {\n",
       "        vertical-align: top;\n",
       "    }\n",
       "\n",
       "    .dataframe thead th {\n",
       "        text-align: right;\n",
       "    }\n",
       "</style>\n",
       "<table border=\"1\" class=\"dataframe\">\n",
       "  <thead>\n",
       "    <tr style=\"text-align: right;\">\n",
       "      <th></th>\n",
       "      <th>A</th>\n",
       "      <th>B</th>\n",
       "      <th>C</th>\n",
       "      <th>D</th>\n",
       "      <th>E</th>\n",
       "      <th>E prime</th>\n",
       "      <th>cosine</th>\n",
       "    </tr>\n",
       "  </thead>\n",
       "  <tbody>\n",
       "    <tr>\n",
       "      <th>2020-11-09 14:45:00</th>\n",
       "      <td>NaN</td>\n",
       "      <td>NaN</td>\n",
<<<<<<< HEAD
       "      <td>NaN</td>\n",
=======
       "      <td>0.318398</td>\n",
>>>>>>> master
       "      <td>5</td>\n",
       "      <td>NaN</td>\n",
       "      <td>NaN</td>\n",
       "      <td>1.000000</td>\n",
       "    </tr>\n",
       "    <tr>\n",
       "      <th>2020-11-09 15:45:00</th>\n",
       "      <td>NaN</td>\n",
<<<<<<< HEAD
       "      <td>NaN</td>\n",
       "      <td>0.464455</td>\n",
=======
       "      <td>0.699006</td>\n",
       "      <td>0.566518</td>\n",
>>>>>>> master
       "      <td>5</td>\n",
       "      <td>0.5</td>\n",
       "      <td>2.0</td>\n",
       "      <td>0.999962</td>\n",
       "    </tr>\n",
       "    <tr>\n",
       "      <th>2020-11-09 16:45:00</th>\n",
       "      <td>NaN</td>\n",
<<<<<<< HEAD
       "      <td>NaN</td>\n",
       "      <td>0.464455</td>\n",
=======
       "      <td>1.086019</td>\n",
       "      <td>0.566518</td>\n",
>>>>>>> master
       "      <td>5</td>\n",
       "      <td>1.0</td>\n",
       "      <td>4.0</td>\n",
       "      <td>0.999848</td>\n",
       "    </tr>\n",
       "    <tr>\n",
       "      <th>2020-11-09 17:45:00</th>\n",
<<<<<<< HEAD
       "      <td>0.439409</td>\n",
       "      <td>NaN</td>\n",
       "      <td>0.464455</td>\n",
=======
       "      <td>1.731154</td>\n",
       "      <td>1.086019</td>\n",
       "      <td>0.566518</td>\n",
>>>>>>> master
       "      <td>5</td>\n",
       "      <td>1.5</td>\n",
       "      <td>6.0</td>\n",
       "      <td>0.999657</td>\n",
       "    </tr>\n",
       "    <tr>\n",
       "      <th>2020-11-09 18:45:00</th>\n",
<<<<<<< HEAD
       "      <td>0.439409</td>\n",
       "      <td>0.845529</td>\n",
       "      <td>0.464455</td>\n",
=======
       "      <td>1.731154</td>\n",
       "      <td>0.998313</td>\n",
       "      <td>0.630441</td>\n",
>>>>>>> master
       "      <td>5</td>\n",
       "      <td>2.0</td>\n",
       "      <td>8.0</td>\n",
       "      <td>0.999391</td>\n",
       "    </tr>\n",
       "    <tr>\n",
       "      <th>2020-11-09 19:45:00</th>\n",
<<<<<<< HEAD
       "      <td>0.439409</td>\n",
       "      <td>0.845529</td>\n",
       "      <td>0.464455</td>\n",
=======
       "      <td>1.731154</td>\n",
       "      <td>0.998313</td>\n",
       "      <td>1.009629</td>\n",
>>>>>>> master
       "      <td>5</td>\n",
       "      <td>2.5</td>\n",
       "      <td>10.0</td>\n",
       "      <td>0.999048</td>\n",
       "    </tr>\n",
       "    <tr>\n",
       "      <th>2020-11-09 20:45:00</th>\n",
<<<<<<< HEAD
       "      <td>0.878778</td>\n",
       "      <td>0.845529</td>\n",
       "      <td>0.464455</td>\n",
=======
       "      <td>1.731154</td>\n",
       "      <td>0.019690</td>\n",
       "      <td>1.009629</td>\n",
>>>>>>> master
       "      <td>5</td>\n",
       "      <td>3.0</td>\n",
       "      <td>12.0</td>\n",
       "      <td>0.998630</td>\n",
       "    </tr>\n",
       "    <tr>\n",
       "      <th>2020-11-09 21:45:00</th>\n",
<<<<<<< HEAD
       "      <td>2.215064</td>\n",
       "      <td>0.845529</td>\n",
       "      <td>0.889675</td>\n",
=======
       "      <td>0.780900</td>\n",
       "      <td>0.435113</td>\n",
       "      <td>0.333215</td>\n",
>>>>>>> master
       "      <td>5</td>\n",
       "      <td>3.5</td>\n",
       "      <td>14.0</td>\n",
       "      <td>0.998135</td>\n",
       "    </tr>\n",
       "    <tr>\n",
       "      <th>2020-11-09 22:45:00</th>\n",
<<<<<<< HEAD
       "      <td>1.483511</td>\n",
       "      <td>0.399441</td>\n",
       "      <td>0.889675</td>\n",
=======
       "      <td>0.411493</td>\n",
       "      <td>0.435113</td>\n",
       "      <td>0.263748</td>\n",
>>>>>>> master
       "      <td>5</td>\n",
       "      <td>4.0</td>\n",
       "      <td>16.0</td>\n",
       "      <td>0.997564</td>\n",
       "    </tr>\n",
       "    <tr>\n",
       "      <th>2020-11-09 23:45:00</th>\n",
<<<<<<< HEAD
       "      <td>0.300842</td>\n",
       "      <td>0.125939</td>\n",
       "      <td>0.889675</td>\n",
=======
       "      <td>0.411493</td>\n",
       "      <td>0.690319</td>\n",
       "      <td>0.263748</td>\n",
>>>>>>> master
       "      <td>5</td>\n",
       "      <td>4.5</td>\n",
       "      <td>18.0</td>\n",
       "      <td>0.996917</td>\n",
       "    </tr>\n",
       "  </tbody>\n",
       "</table>\n",
       "</div>"
      ],
      "text/plain": [
       "                            A         B         C  D    E  E prime    cosine\n",
<<<<<<< HEAD
       "2020-11-09 14:45:00       NaN       NaN       NaN  5  NaN      NaN  1.000000\n",
       "2020-11-09 15:45:00       NaN       NaN  0.464455  5  0.5      2.0  0.999962\n",
       "2020-11-09 16:45:00       NaN       NaN  0.464455  5  1.0      4.0  0.999848\n",
       "2020-11-09 17:45:00  0.439409       NaN  0.464455  5  1.5      6.0  0.999657\n",
       "2020-11-09 18:45:00  0.439409  0.845529  0.464455  5  2.0      8.0  0.999391\n",
       "2020-11-09 19:45:00  0.439409  0.845529  0.464455  5  2.5     10.0  0.999048\n",
       "2020-11-09 20:45:00  0.878778  0.845529  0.464455  5  3.0     12.0  0.998630\n",
       "2020-11-09 21:45:00  2.215064  0.845529  0.889675  5  3.5     14.0  0.998135\n",
       "2020-11-09 22:45:00  1.483511  0.399441  0.889675  5  4.0     16.0  0.997564\n",
       "2020-11-09 23:45:00  0.300842  0.125939  0.889675  5  4.5     18.0  0.996917"
=======
       "2020-11-09 14:45:00       NaN       NaN  0.318398  5  NaN      NaN  1.000000\n",
       "2020-11-09 15:45:00       NaN  0.699006  0.566518  5  0.5      2.0  0.999962\n",
       "2020-11-09 16:45:00       NaN  1.086019  0.566518  5  1.0      4.0  0.999848\n",
       "2020-11-09 17:45:00  1.731154  1.086019  0.566518  5  1.5      6.0  0.999657\n",
       "2020-11-09 18:45:00  1.731154  0.998313  0.630441  5  2.0      8.0  0.999391\n",
       "2020-11-09 19:45:00  1.731154  0.998313  1.009629  5  2.5     10.0  0.999048\n",
       "2020-11-09 20:45:00  1.731154  0.019690  1.009629  5  3.0     12.0  0.998630\n",
       "2020-11-09 21:45:00  0.780900  0.435113  0.333215  5  3.5     14.0  0.998135\n",
       "2020-11-09 22:45:00  0.411493  0.435113  0.263748  5  4.0     16.0  0.997564\n",
       "2020-11-09 23:45:00  0.411493  0.690319  0.263748  5  4.5     18.0  0.996917"
>>>>>>> master
      ]
     },
     "execution_count": 43,
     "metadata": {},
     "output_type": "execute_result"
    }
   ],
   "source": [
    "#pandas cerca di riempire le caselle mancanti in modo intelligente. Molto rischioso\n",
    "df_wNan.fillna(method='pad')"
   ]
  },
  {
   "cell_type": "markdown",
   "metadata": {},
   "source": [
    "## Operations\n",
    "\n",
    "Here comes the most relevant advantage of DataFrame. Operations on columns are extremly fast, almost as fast as the actual operation between elements in a raw"
   ]
  },
  {
   "cell_type": "code",
   "execution_count": 44,
   "metadata": {},
   "outputs": [
    {
     "name": "stdout",
     "output_type": "stream",
     "text": [
<<<<<<< HEAD
      "A          0.125321\n",
      "B         -0.597246\n",
      "C         -0.441318\n",
=======
      "A         -0.206766\n",
      "B         -0.101804\n",
      "C         -0.014443\n",
>>>>>>> master
      "D          5.000000\n",
      "E          2.250000\n",
      "E prime    9.000000\n",
      "cosine     0.998915\n",
      "dtype: float64 \n",
      "\n",
<<<<<<< HEAD
      "2020-11-09 14:45:00    0.728068\n",
      "2020-11-09 15:45:00    1.023553\n",
      "2020-11-09 16:45:00    1.292076\n",
      "2020-11-09 17:45:00    1.582567\n",
      "2020-11-09 18:45:00    2.218047\n",
      "2020-11-09 19:45:00    2.372679\n",
      "2020-11-09 20:45:00    2.796097\n",
      "2020-11-09 21:45:00    3.575115\n",
      "2020-11-09 22:45:00    3.809852\n",
      "2020-11-09 23:45:00    3.938621\n",
=======
      "2020-11-09 14:45:00    0.768107\n",
      "2020-11-09 15:45:00    1.040546\n",
      "2020-11-09 16:45:00    1.502976\n",
      "2020-11-09 17:45:00    2.025593\n",
      "2020-11-09 18:45:00    2.449345\n",
      "2020-11-09 19:45:00    2.421116\n",
      "2020-11-09 20:45:00    2.776876\n",
      "2020-11-09 21:45:00    3.578195\n",
      "2020-11-09 22:45:00    3.584728\n",
      "2020-11-09 23:45:00    4.032379\n",
>>>>>>> master
      "Freq: H, dtype: float64 \n",
      "\n"
     ]
    }
   ],
   "source": [
    "# Some statistics (mean() just as an example)\n",
    "# raws\n",
    "print (df.mean(axis=0),'\\n')\n",
    "# columns\n",
    "print (df.mean(axis=1),'\\n')"
   ]
  },
  {
   "cell_type": "code",
   "execution_count": 45,
   "metadata": {},
   "outputs": [
    {
     "data": {
      "text/html": [
       "<div>\n",
       "<style scoped>\n",
       "    .dataframe tbody tr th:only-of-type {\n",
       "        vertical-align: middle;\n",
       "    }\n",
       "\n",
       "    .dataframe tbody tr th {\n",
       "        vertical-align: top;\n",
       "    }\n",
       "\n",
       "    .dataframe thead th {\n",
       "        text-align: right;\n",
       "    }\n",
       "</style>\n",
       "<table border=\"1\" class=\"dataframe\">\n",
       "  <thead>\n",
       "    <tr style=\"text-align: right;\">\n",
       "      <th></th>\n",
       "      <th>A</th>\n",
       "      <th>B</th>\n",
       "      <th>C</th>\n",
       "      <th>D</th>\n",
       "      <th>E</th>\n",
       "      <th>E prime</th>\n",
       "      <th>cosine</th>\n",
       "    </tr>\n",
       "  </thead>\n",
       "  <tbody>\n",
       "    <tr>\n",
       "      <th>2020-11-09 14:45:00</th>\n",
       "      <td>0.000000</td>\n",
<<<<<<< HEAD
       "      <td>-0.371284</td>\n",
       "      <td>-0.532242</td>\n",
=======
       "      <td>-0.941649</td>\n",
       "      <td>0.318398</td>\n",
>>>>>>> master
       "      <td>5</td>\n",
       "      <td>0.0</td>\n",
       "      <td>0</td>\n",
       "      <td>1.000000</td>\n",
       "    </tr>\n",
       "    <tr>\n",
       "      <th>2020-11-09 15:45:00</th>\n",
<<<<<<< HEAD
       "      <td>-1.127918</td>\n",
       "      <td>-1.042911</td>\n",
       "      <td>-0.067787</td>\n",
=======
       "      <td>-2.481662</td>\n",
       "      <td>-0.242643</td>\n",
       "      <td>0.884916</td>\n",
>>>>>>> master
       "      <td>10</td>\n",
       "      <td>0.5</td>\n",
       "      <td>2</td>\n",
       "      <td>1.999962</td>\n",
       "    </tr>\n",
       "    <tr>\n",
       "      <th>2020-11-09 16:45:00</th>\n",
<<<<<<< HEAD
       "      <td>-2.412192</td>\n",
       "      <td>-1.524389</td>\n",
       "      <td>-0.257349</td>\n",
=======
       "      <td>-3.243279</td>\n",
       "      <td>0.843376</td>\n",
       "      <td>0.081498</td>\n",
>>>>>>> master
       "      <td>15</td>\n",
       "      <td>1.5</td>\n",
       "      <td>6</td>\n",
       "      <td>2.999810</td>\n",
       "    </tr>\n",
       "    <tr>\n",
       "      <th>2020-11-09 17:45:00</th>\n",
<<<<<<< HEAD
       "      <td>-1.972782</td>\n",
       "      <td>-3.210316</td>\n",
       "      <td>-1.432517</td>\n",
=======
       "      <td>-1.512125</td>\n",
       "      <td>0.397190</td>\n",
       "      <td>-0.523979</td>\n",
>>>>>>> master
       "      <td>20</td>\n",
       "      <td>3.0</td>\n",
       "      <td>12</td>\n",
       "      <td>3.999467</td>\n",
       "    </tr>\n",
       "    <tr>\n",
       "      <th>2020-11-09 18:45:00</th>\n",
<<<<<<< HEAD
       "      <td>-2.433250</td>\n",
       "      <td>-2.364787</td>\n",
       "      <td>-2.290644</td>\n",
=======
       "      <td>-1.994854</td>\n",
       "      <td>1.395503</td>\n",
       "      <td>0.106462</td>\n",
>>>>>>> master
       "      <td>25</td>\n",
       "      <td>5.0</td>\n",
       "      <td>20</td>\n",
       "      <td>4.998858</td>\n",
       "    </tr>\n",
       "    <tr>\n",
       "      <th>2020-11-09 19:45:00</th>\n",
<<<<<<< HEAD
       "      <td>-3.624980</td>\n",
       "      <td>-2.982697</td>\n",
       "      <td>-2.371299</td>\n",
=======
       "      <td>-2.576764</td>\n",
       "      <td>-0.583454</td>\n",
       "      <td>1.116091</td>\n",
>>>>>>> master
       "      <td>30</td>\n",
       "      <td>7.5</td>\n",
       "      <td>30</td>\n",
       "      <td>5.997906</td>\n",
       "    </tr>\n",
       "    <tr>\n",
       "      <th>2020-11-09 20:45:00</th>\n",
<<<<<<< HEAD
       "      <td>-2.746202</td>\n",
       "      <td>-4.920777</td>\n",
       "      <td>-2.737946</td>\n",
=======
       "      <td>-3.218167</td>\n",
       "      <td>-0.563764</td>\n",
       "      <td>0.177309</td>\n",
>>>>>>> master
       "      <td>35</td>\n",
       "      <td>10.5</td>\n",
       "      <td>42</td>\n",
       "      <td>6.996536</td>\n",
       "    </tr>\n",
       "    <tr>\n",
       "      <th>2020-11-09 21:45:00</th>\n",
<<<<<<< HEAD
       "      <td>-0.531138</td>\n",
       "      <td>-6.497842</td>\n",
       "      <td>-1.848272</td>\n",
=======
       "      <td>-2.437267</td>\n",
       "      <td>-0.128651</td>\n",
       "      <td>0.510524</td>\n",
>>>>>>> master
       "      <td>40</td>\n",
       "      <td>14.0</td>\n",
       "      <td>56</td>\n",
       "      <td>7.994670</td>\n",
       "    </tr>\n",
       "    <tr>\n",
       "      <th>2020-11-09 22:45:00</th>\n",
<<<<<<< HEAD
       "      <td>0.952373</td>\n",
       "      <td>-6.098401</td>\n",
       "      <td>-3.059823</td>\n",
=======
       "      <td>-2.025773</td>\n",
       "      <td>-1.708363</td>\n",
       "      <td>0.774272</td>\n",
>>>>>>> master
       "      <td>45</td>\n",
       "      <td>18.0</td>\n",
       "      <td>72</td>\n",
       "      <td>8.992234</td>\n",
       "    </tr>\n",
       "    <tr>\n",
       "      <th>2020-11-09 23:45:00</th>\n",
<<<<<<< HEAD
       "      <td>1.253214</td>\n",
       "      <td>-5.972463</td>\n",
       "      <td>-4.413176</td>\n",
=======
       "      <td>-2.067658</td>\n",
       "      <td>-1.018044</td>\n",
       "      <td>-0.144428</td>\n",
>>>>>>> master
       "      <td>50</td>\n",
       "      <td>22.5</td>\n",
       "      <td>90</td>\n",
       "      <td>9.989152</td>\n",
       "    </tr>\n",
       "  </tbody>\n",
       "</table>\n",
       "</div>"
      ],
      "text/plain": [
       "                            A         B         C   D     E  E prime    cosine\n",
<<<<<<< HEAD
       "2020-11-09 14:45:00  0.000000 -0.371284 -0.532242   5   0.0        0  1.000000\n",
       "2020-11-09 15:45:00 -1.127918 -1.042911 -0.067787  10   0.5        2  1.999962\n",
       "2020-11-09 16:45:00 -2.412192 -1.524389 -0.257349  15   1.5        6  2.999810\n",
       "2020-11-09 17:45:00 -1.972782 -3.210316 -1.432517  20   3.0       12  3.999467\n",
       "2020-11-09 18:45:00 -2.433250 -2.364787 -2.290644  25   5.0       20  4.998858\n",
       "2020-11-09 19:45:00 -3.624980 -2.982697 -2.371299  30   7.5       30  5.997906\n",
       "2020-11-09 20:45:00 -2.746202 -4.920777 -2.737946  35  10.5       42  6.996536\n",
       "2020-11-09 21:45:00 -0.531138 -6.497842 -1.848272  40  14.0       56  7.994670\n",
       "2020-11-09 22:45:00  0.952373 -6.098401 -3.059823  45  18.0       72  8.992234\n",
       "2020-11-09 23:45:00  1.253214 -5.972463 -4.413176  50  22.5       90  9.989152"
=======
       "2020-11-09 14:45:00  0.000000 -0.941649  0.318398   5   0.0        0  1.000000\n",
       "2020-11-09 15:45:00 -2.481662 -0.242643  0.884916  10   0.5        2  1.999962\n",
       "2020-11-09 16:45:00 -3.243279  0.843376  0.081498  15   1.5        6  2.999810\n",
       "2020-11-09 17:45:00 -1.512125  0.397190 -0.523979  20   3.0       12  3.999467\n",
       "2020-11-09 18:45:00 -1.994854  1.395503  0.106462  25   5.0       20  4.998858\n",
       "2020-11-09 19:45:00 -2.576764 -0.583454  1.116091  30   7.5       30  5.997906\n",
       "2020-11-09 20:45:00 -3.218167 -0.563764  0.177309  35  10.5       42  6.996536\n",
       "2020-11-09 21:45:00 -2.437267 -0.128651  0.510524  40  14.0       56  7.994670\n",
       "2020-11-09 22:45:00 -2.025773 -1.708363  0.774272  45  18.0       72  8.992234\n",
       "2020-11-09 23:45:00 -2.067658 -1.018044 -0.144428  50  22.5       90  9.989152"
>>>>>>> master
      ]
     },
     "execution_count": 45,
     "metadata": {},
     "output_type": "execute_result"
    }
   ],
   "source": [
    "# global operations on columns\n",
    "df.apply(np.cumsum)"
   ]
  },
  {
   "cell_type": "code",
   "execution_count": 46,
   "metadata": {},
   "outputs": [
    {
     "data": {
      "text/html": [
       "<div>\n",
       "<style scoped>\n",
       "    .dataframe tbody tr th:only-of-type {\n",
       "        vertical-align: middle;\n",
       "    }\n",
       "\n",
       "    .dataframe tbody tr th {\n",
       "        vertical-align: top;\n",
       "    }\n",
       "\n",
       "    .dataframe thead th {\n",
       "        text-align: right;\n",
       "    }\n",
       "</style>\n",
       "<table border=\"1\" class=\"dataframe\">\n",
       "  <thead>\n",
       "    <tr style=\"text-align: right;\">\n",
       "      <th></th>\n",
       "      <th>A</th>\n",
       "      <th>B</th>\n",
       "      <th>C</th>\n",
       "      <th>D</th>\n",
       "      <th>E</th>\n",
       "      <th>E prime</th>\n",
       "      <th>cosine</th>\n",
       "    </tr>\n",
       "  </thead>\n",
       "  <tbody>\n",
       "    <tr>\n",
       "      <th>2020-11-09 14:45:00</th>\n",
       "      <td>0.000000</td>\n",
<<<<<<< HEAD
       "      <td>-0.371284</td>\n",
       "      <td>-0.532242</td>\n",
=======
       "      <td>-0.941649</td>\n",
       "      <td>0.318398</td>\n",
>>>>>>> master
       "      <td>5</td>\n",
       "      <td>0.0</td>\n",
       "      <td>0</td>\n",
       "      <td>1.000000</td>\n",
       "    </tr>\n",
       "    <tr>\n",
       "      <th>2020-11-09 15:45:00</th>\n",
<<<<<<< HEAD
       "      <td>-1.127918</td>\n",
       "      <td>-0.671627</td>\n",
       "      <td>0.464455</td>\n",
=======
       "      <td>-2.481662</td>\n",
       "      <td>0.699006</td>\n",
       "      <td>0.566518</td>\n",
>>>>>>> master
       "      <td>5</td>\n",
       "      <td>0.5</td>\n",
       "      <td>2</td>\n",
       "      <td>0.999962</td>\n",
       "    </tr>\n",
       "    <tr>\n",
       "      <th>2020-11-09 16:45:00</th>\n",
<<<<<<< HEAD
       "      <td>-1.284273</td>\n",
       "      <td>-0.481479</td>\n",
       "      <td>-0.189562</td>\n",
=======
       "      <td>-0.761617</td>\n",
       "      <td>1.086019</td>\n",
       "      <td>-0.803419</td>\n",
>>>>>>> master
       "      <td>5</td>\n",
       "      <td>1.0</td>\n",
       "      <td>4</td>\n",
       "      <td>0.999848</td>\n",
       "    </tr>\n",
       "    <tr>\n",
       "      <th>2020-11-09 17:45:00</th>\n",
<<<<<<< HEAD
       "      <td>0.439409</td>\n",
       "      <td>-1.685927</td>\n",
       "      <td>-1.175168</td>\n",
=======
       "      <td>1.731154</td>\n",
       "      <td>-0.446186</td>\n",
       "      <td>-0.605477</td>\n",
>>>>>>> master
       "      <td>5</td>\n",
       "      <td>1.5</td>\n",
       "      <td>6</td>\n",
       "      <td>0.999657</td>\n",
       "    </tr>\n",
       "    <tr>\n",
       "      <th>2020-11-09 18:45:00</th>\n",
<<<<<<< HEAD
       "      <td>-0.460468</td>\n",
       "      <td>0.845529</td>\n",
       "      <td>-0.858127</td>\n",
=======
       "      <td>-0.482729</td>\n",
       "      <td>0.998313</td>\n",
       "      <td>0.630441</td>\n",
>>>>>>> master
       "      <td>5</td>\n",
       "      <td>2.0</td>\n",
       "      <td>8</td>\n",
       "      <td>0.999391</td>\n",
       "    </tr>\n",
       "    <tr>\n",
       "      <th>2020-11-09 19:45:00</th>\n",
<<<<<<< HEAD
       "      <td>-1.191730</td>\n",
       "      <td>-0.617910</td>\n",
       "      <td>-0.080656</td>\n",
=======
       "      <td>-0.581911</td>\n",
       "      <td>-1.978957</td>\n",
       "      <td>1.009629</td>\n",
>>>>>>> master
       "      <td>5</td>\n",
       "      <td>2.5</td>\n",
       "      <td>10</td>\n",
       "      <td>0.999048</td>\n",
       "    </tr>\n",
       "    <tr>\n",
       "      <th>2020-11-09 20:45:00</th>\n",
<<<<<<< HEAD
       "      <td>0.878778</td>\n",
       "      <td>-1.938080</td>\n",
       "      <td>-0.366647</td>\n",
=======
       "      <td>-0.641403</td>\n",
       "      <td>0.019690</td>\n",
       "      <td>-0.938782</td>\n",
>>>>>>> master
       "      <td>5</td>\n",
       "      <td>3.0</td>\n",
       "      <td>12</td>\n",
       "      <td>0.998630</td>\n",
       "    </tr>\n",
       "    <tr>\n",
       "      <th>2020-11-09 21:45:00</th>\n",
<<<<<<< HEAD
       "      <td>2.215064</td>\n",
       "      <td>-1.577065</td>\n",
       "      <td>0.889675</td>\n",
=======
       "      <td>0.780900</td>\n",
       "      <td>0.435113</td>\n",
       "      <td>0.333215</td>\n",
>>>>>>> master
       "      <td>5</td>\n",
       "      <td>3.5</td>\n",
       "      <td>14</td>\n",
       "      <td>0.998135</td>\n",
       "    </tr>\n",
       "    <tr>\n",
       "      <th>2020-11-09 22:45:00</th>\n",
<<<<<<< HEAD
       "      <td>1.483511</td>\n",
       "      <td>0.399441</td>\n",
       "      <td>-1.211552</td>\n",
=======
       "      <td>0.411493</td>\n",
       "      <td>-1.579712</td>\n",
       "      <td>0.263748</td>\n",
>>>>>>> master
       "      <td>5</td>\n",
       "      <td>4.0</td>\n",
       "      <td>16</td>\n",
       "      <td>0.997564</td>\n",
       "    </tr>\n",
       "    <tr>\n",
       "      <th>2020-11-09 23:45:00</th>\n",
<<<<<<< HEAD
       "      <td>0.300842</td>\n",
       "      <td>0.125939</td>\n",
       "      <td>-1.353353</td>\n",
=======
       "      <td>-0.041885</td>\n",
       "      <td>0.690319</td>\n",
       "      <td>-0.918700</td>\n",
>>>>>>> master
       "      <td>5</td>\n",
       "      <td>4.5</td>\n",
       "      <td>18</td>\n",
       "      <td>0.996917</td>\n",
       "    </tr>\n",
       "  </tbody>\n",
       "</table>\n",
       "</div>"
      ],
      "text/plain": [
       "                            A         B         C  D    E  E prime    cosine\n",
<<<<<<< HEAD
       "2020-11-09 14:45:00  0.000000 -0.371284 -0.532242  5  0.0        0  1.000000\n",
       "2020-11-09 15:45:00 -1.127918 -0.671627  0.464455  5  0.5        2  0.999962\n",
       "2020-11-09 16:45:00 -1.284273 -0.481479 -0.189562  5  1.0        4  0.999848\n",
       "2020-11-09 17:45:00  0.439409 -1.685927 -1.175168  5  1.5        6  0.999657\n",
       "2020-11-09 18:45:00 -0.460468  0.845529 -0.858127  5  2.0        8  0.999391\n",
       "2020-11-09 19:45:00 -1.191730 -0.617910 -0.080656  5  2.5       10  0.999048\n",
       "2020-11-09 20:45:00  0.878778 -1.938080 -0.366647  5  3.0       12  0.998630\n",
       "2020-11-09 21:45:00  2.215064 -1.577065  0.889675  5  3.5       14  0.998135\n",
       "2020-11-09 22:45:00  1.483511  0.399441 -1.211552  5  4.0       16  0.997564\n",
       "2020-11-09 23:45:00  0.300842  0.125939 -1.353353  5  4.5       18  0.996917"
=======
       "2020-11-09 14:45:00  0.000000 -0.941649  0.318398  5  0.0        0  1.000000\n",
       "2020-11-09 15:45:00 -2.481662  0.699006  0.566518  5  0.5        2  0.999962\n",
       "2020-11-09 16:45:00 -0.761617  1.086019 -0.803419  5  1.0        4  0.999848\n",
       "2020-11-09 17:45:00  1.731154 -0.446186 -0.605477  5  1.5        6  0.999657\n",
       "2020-11-09 18:45:00 -0.482729  0.998313  0.630441  5  2.0        8  0.999391\n",
       "2020-11-09 19:45:00 -0.581911 -1.978957  1.009629  5  2.5       10  0.999048\n",
       "2020-11-09 20:45:00 -0.641403  0.019690 -0.938782  5  3.0       12  0.998630\n",
       "2020-11-09 21:45:00  0.780900  0.435113  0.333215  5  3.5       14  0.998135\n",
       "2020-11-09 22:45:00  0.411493 -1.579712  0.263748  5  4.0       16  0.997564\n",
       "2020-11-09 23:45:00 -0.041885  0.690319 -0.918700  5  4.5       18  0.996917"
>>>>>>> master
      ]
     },
     "execution_count": 46,
     "metadata": {},
     "output_type": "execute_result"
    }
   ],
   "source": [
    "df"
   ]
  },
  {
   "cell_type": "code",
   "execution_count": 47,
   "metadata": {},
   "outputs": [
    {
     "data": {
      "text/plain": [
<<<<<<< HEAD
       "A           3.499337\n",
       "B           2.783610\n",
       "C           2.243027\n",
=======
       "A           4.212816\n",
       "B           3.064976\n",
       "C           1.948411\n",
>>>>>>> master
       "D           0.000000\n",
       "E           4.500000\n",
       "E prime    18.000000\n",
       "cosine      0.003083\n",
       "dtype: float64"
      ]
     },
     "execution_count": 47,
     "metadata": {},
     "output_type": "execute_result"
    }
   ],
   "source": [
    "df.apply(lambda x: x.max() - x.min())"
   ]
  },
  {
   "cell_type": "code",
   "execution_count": 48,
   "metadata": {},
   "outputs": [
    {
     "data": {
      "text/plain": [
<<<<<<< HEAD
       "2020-11-09 14:45:00   -0.371284\n",
       "2020-11-09 15:45:00   -1.799546\n",
       "2020-11-09 16:45:00   -1.765752\n",
       "2020-11-09 17:45:00   -1.246517\n",
       "2020-11-09 18:45:00    0.385062\n",
       "2020-11-09 19:45:00   -1.809640\n",
       "2020-11-09 20:45:00   -1.059303\n",
       "2020-11-09 21:45:00    0.637999\n",
       "2020-11-09 22:45:00    1.882952\n",
       "2020-11-09 23:45:00    0.426780\n",
=======
       "2020-11-09 14:45:00   -0.941649\n",
       "2020-11-09 15:45:00   -1.782656\n",
       "2020-11-09 16:45:00    0.324402\n",
       "2020-11-09 17:45:00    1.284968\n",
       "2020-11-09 18:45:00    0.515584\n",
       "2020-11-09 19:45:00   -2.560868\n",
       "2020-11-09 20:45:00   -0.621713\n",
       "2020-11-09 21:45:00    1.216013\n",
       "2020-11-09 22:45:00   -1.168219\n",
       "2020-11-09 23:45:00    0.648434\n",
>>>>>>> master
       "Freq: H, dtype: float64"
      ]
     },
     "execution_count": 48,
     "metadata": {},
     "output_type": "execute_result"
    }
   ],
   "source": [
    "# syntax is as usual similar to that of numpy arrays\n",
    "df['A']+df['B']"
   ]
  },
  {
   "cell_type": "markdown",
   "metadata": {},
   "source": [
    "Let's play it hard and load (in memory) a (relatively) large dataset"
   ]
  },
  {
   "cell_type": "code",
   "execution_count": 49,
   "metadata": {},
   "outputs": [
    {
     "data": {
      "text/html": [
       "<div>\n",
       "<style scoped>\n",
       "    .dataframe tbody tr th:only-of-type {\n",
       "        vertical-align: middle;\n",
       "    }\n",
       "\n",
       "    .dataframe tbody tr th {\n",
       "        vertical-align: top;\n",
       "    }\n",
       "\n",
       "    .dataframe thead th {\n",
       "        text-align: right;\n",
       "    }\n",
       "</style>\n",
       "<table border=\"1\" class=\"dataframe\">\n",
       "  <thead>\n",
       "    <tr style=\"text-align: right;\">\n",
       "      <th></th>\n",
       "      <th>HEAD</th>\n",
       "      <th>FPGA</th>\n",
       "      <th>TDC_CHANNEL</th>\n",
       "      <th>ORB_CNT</th>\n",
       "      <th>BX</th>\n",
       "      <th>TDC_MEAS</th>\n",
       "    </tr>\n",
       "  </thead>\n",
       "  <tbody>\n",
       "    <tr>\n",
       "      <th>0</th>\n",
       "      <td>1</td>\n",
       "      <td>0</td>\n",
       "      <td>122</td>\n",
       "      <td>3869200167</td>\n",
       "      <td>2374</td>\n",
       "      <td>27</td>\n",
       "    </tr>\n",
       "    <tr>\n",
       "      <th>1</th>\n",
       "      <td>1</td>\n",
       "      <td>0</td>\n",
       "      <td>123</td>\n",
       "      <td>3869200167</td>\n",
       "      <td>2374</td>\n",
       "      <td>28</td>\n",
       "    </tr>\n",
       "    <tr>\n",
       "      <th>2</th>\n",
       "      <td>1</td>\n",
       "      <td>0</td>\n",
       "      <td>62</td>\n",
       "      <td>3869200167</td>\n",
       "      <td>2553</td>\n",
       "      <td>29</td>\n",
       "    </tr>\n",
       "    <tr>\n",
       "      <th>3</th>\n",
       "      <td>1</td>\n",
       "      <td>0</td>\n",
       "      <td>63</td>\n",
       "      <td>3869200167</td>\n",
       "      <td>2558</td>\n",
       "      <td>20</td>\n",
       "    </tr>\n",
       "    <tr>\n",
       "      <th>4</th>\n",
       "      <td>1</td>\n",
       "      <td>0</td>\n",
       "      <td>63</td>\n",
       "      <td>3869200167</td>\n",
       "      <td>2760</td>\n",
       "      <td>26</td>\n",
       "    </tr>\n",
       "    <tr>\n",
       "      <th>...</th>\n",
       "      <td>...</td>\n",
       "      <td>...</td>\n",
       "      <td>...</td>\n",
       "      <td>...</td>\n",
       "      <td>...</td>\n",
       "      <td>...</td>\n",
       "    </tr>\n",
       "    <tr>\n",
       "      <th>95</th>\n",
       "      <td>1</td>\n",
       "      <td>0</td>\n",
       "      <td>63</td>\n",
       "      <td>3869200168</td>\n",
       "      <td>1506</td>\n",
       "      <td>5</td>\n",
       "    </tr>\n",
       "    <tr>\n",
       "      <th>96</th>\n",
       "      <td>1</td>\n",
       "      <td>1</td>\n",
       "      <td>5</td>\n",
       "      <td>3869200168</td>\n",
       "      <td>1503</td>\n",
       "      <td>7</td>\n",
       "    </tr>\n",
       "    <tr>\n",
       "      <th>97</th>\n",
       "      <td>1</td>\n",
       "      <td>0</td>\n",
       "      <td>60</td>\n",
       "      <td>3869200168</td>\n",
       "      <td>1609</td>\n",
       "      <td>11</td>\n",
       "    </tr>\n",
       "    <tr>\n",
       "      <th>98</th>\n",
       "      <td>1</td>\n",
       "      <td>0</td>\n",
       "      <td>58</td>\n",
       "      <td>3869200168</td>\n",
       "      <td>1614</td>\n",
       "      <td>17</td>\n",
       "    </tr>\n",
       "    <tr>\n",
       "      <th>99</th>\n",
       "      <td>1</td>\n",
       "      <td>0</td>\n",
       "      <td>138</td>\n",
       "      <td>3869200168</td>\n",
       "      <td>1616</td>\n",
       "      <td>1</td>\n",
       "    </tr>\n",
       "  </tbody>\n",
       "</table>\n",
       "<p>100 rows × 6 columns</p>\n",
       "</div>"
      ],
      "text/plain": [
       "    HEAD  FPGA  TDC_CHANNEL     ORB_CNT    BX  TDC_MEAS\n",
       "0      1     0          122  3869200167  2374        27\n",
       "1      1     0          123  3869200167  2374        28\n",
       "2      1     0           62  3869200167  2553        29\n",
       "3      1     0           63  3869200167  2558        20\n",
       "4      1     0           63  3869200167  2760        26\n",
       "..   ...   ...          ...         ...   ...       ...\n",
       "95     1     0           63  3869200168  1506         5\n",
       "96     1     1            5  3869200168  1503         7\n",
       "97     1     0           60  3869200168  1609        11\n",
       "98     1     0           58  3869200168  1614        17\n",
       "99     1     0          138  3869200168  1616         1\n",
       "\n",
       "[100 rows x 6 columns]"
      ]
     },
     "execution_count": 49,
     "metadata": {},
     "output_type": "execute_result"
    }
   ],
   "source": [
    "# WARNING! link in past notebook was wrong!, (if needed) get the right file from:\n",
    "#!wget https://www.dropbox.com/s/xvjzaxzz3ysphme/data_000637.txt -P ~/data/\n",
    "\n",
    "file_name=\"~/data/data_000637.txt\"\n",
    "data=pd.read_csv(file_name)\n",
    "data"
   ]
  },
  {
   "cell_type": "markdown",
   "metadata": {},
   "source": [
    "Let's now do some operations among (elements of) columns"
   ]
  },
  {
   "cell_type": "code",
<<<<<<< HEAD
   "execution_count": 50,
=======
   "execution_count": 51,
>>>>>>> master
   "metadata": {},
   "outputs": [
    {
     "ename": "KeyError",
     "evalue": "'BX_COUNTER'",
     "output_type": "error",
     "traceback": [
      "\u001b[0;31m---------------------------------------------------------------------------\u001b[0m",
      "\u001b[0;31mKeyError\u001b[0m                                  Traceback (most recent call last)",
      "\u001b[0;32m~/anaconda3/lib/python3.8/site-packages/pandas/core/indexes/base.py\u001b[0m in \u001b[0;36mget_loc\u001b[0;34m(self, key, method, tolerance)\u001b[0m\n\u001b[1;32m   2888\u001b[0m             \u001b[0;32mtry\u001b[0m\u001b[0;34m:\u001b[0m\u001b[0;34m\u001b[0m\u001b[0;34m\u001b[0m\u001b[0m\n\u001b[0;32m-> 2889\u001b[0;31m                 \u001b[0;32mreturn\u001b[0m \u001b[0mself\u001b[0m\u001b[0;34m.\u001b[0m\u001b[0m_engine\u001b[0m\u001b[0;34m.\u001b[0m\u001b[0mget_loc\u001b[0m\u001b[0;34m(\u001b[0m\u001b[0mcasted_key\u001b[0m\u001b[0;34m)\u001b[0m\u001b[0;34m\u001b[0m\u001b[0;34m\u001b[0m\u001b[0m\n\u001b[0m\u001b[1;32m   2890\u001b[0m             \u001b[0;32mexcept\u001b[0m \u001b[0mKeyError\u001b[0m \u001b[0;32mas\u001b[0m \u001b[0merr\u001b[0m\u001b[0;34m:\u001b[0m\u001b[0;34m\u001b[0m\u001b[0;34m\u001b[0m\u001b[0m\n",
      "\u001b[0;32mpandas/_libs/index.pyx\u001b[0m in \u001b[0;36mpandas._libs.index.IndexEngine.get_loc\u001b[0;34m()\u001b[0m\n",
      "\u001b[0;32mpandas/_libs/index.pyx\u001b[0m in \u001b[0;36mpandas._libs.index.IndexEngine.get_loc\u001b[0;34m()\u001b[0m\n",
      "\u001b[0;32mpandas/_libs/hashtable_class_helper.pxi\u001b[0m in \u001b[0;36mpandas._libs.hashtable.PyObjectHashTable.get_item\u001b[0;34m()\u001b[0m\n",
      "\u001b[0;32mpandas/_libs/hashtable_class_helper.pxi\u001b[0m in \u001b[0;36mpandas._libs.hashtable.PyObjectHashTable.get_item\u001b[0;34m()\u001b[0m\n",
      "\u001b[0;31mKeyError\u001b[0m: 'BX_COUNTER'",
      "\nThe above exception was the direct cause of the following exception:\n",
      "\u001b[0;31mKeyError\u001b[0m                                  Traceback (most recent call last)",
      "\u001b[0;32m<ipython-input-50-b8ef054267fa>\u001b[0m in \u001b[0;36m<module>\u001b[0;34m\u001b[0m\n\u001b[1;32m      1\u001b[0m \u001b[0;31m# the one-liner killing it all\u001b[0m\u001b[0;34m\u001b[0m\u001b[0;34m\u001b[0m\u001b[0;34m\u001b[0m\u001b[0m\n\u001b[0;32m----> 2\u001b[0;31m \u001b[0mdata\u001b[0m\u001b[0;34m[\u001b[0m\u001b[0;34m'timens'\u001b[0m\u001b[0;34m]\u001b[0m\u001b[0;34m=\u001b[0m\u001b[0mdata\u001b[0m\u001b[0;34m[\u001b[0m\u001b[0;34m'TDC_MEAS'\u001b[0m\u001b[0;34m]\u001b[0m\u001b[0;34m*\u001b[0m\u001b[0;36m25\u001b[0m\u001b[0;34m/\u001b[0m\u001b[0;36m30\u001b[0m\u001b[0;34m+\u001b[0m\u001b[0mdata\u001b[0m\u001b[0;34m[\u001b[0m\u001b[0;34m'BX_COUNTER'\u001b[0m\u001b[0;34m]\u001b[0m\u001b[0;34m*\u001b[0m\u001b[0;36m25\u001b[0m\u001b[0;34m\u001b[0m\u001b[0;34m\u001b[0m\u001b[0m\n\u001b[0m",
      "\u001b[0;32m~/anaconda3/lib/python3.8/site-packages/pandas/core/frame.py\u001b[0m in \u001b[0;36m__getitem__\u001b[0;34m(self, key)\u001b[0m\n\u001b[1;32m   2900\u001b[0m             \u001b[0;32mif\u001b[0m \u001b[0mself\u001b[0m\u001b[0;34m.\u001b[0m\u001b[0mcolumns\u001b[0m\u001b[0;34m.\u001b[0m\u001b[0mnlevels\u001b[0m \u001b[0;34m>\u001b[0m \u001b[0;36m1\u001b[0m\u001b[0;34m:\u001b[0m\u001b[0;34m\u001b[0m\u001b[0;34m\u001b[0m\u001b[0m\n\u001b[1;32m   2901\u001b[0m                 \u001b[0;32mreturn\u001b[0m \u001b[0mself\u001b[0m\u001b[0;34m.\u001b[0m\u001b[0m_getitem_multilevel\u001b[0m\u001b[0;34m(\u001b[0m\u001b[0mkey\u001b[0m\u001b[0;34m)\u001b[0m\u001b[0;34m\u001b[0m\u001b[0;34m\u001b[0m\u001b[0m\n\u001b[0;32m-> 2902\u001b[0;31m             \u001b[0mindexer\u001b[0m \u001b[0;34m=\u001b[0m \u001b[0mself\u001b[0m\u001b[0;34m.\u001b[0m\u001b[0mcolumns\u001b[0m\u001b[0;34m.\u001b[0m\u001b[0mget_loc\u001b[0m\u001b[0;34m(\u001b[0m\u001b[0mkey\u001b[0m\u001b[0;34m)\u001b[0m\u001b[0;34m\u001b[0m\u001b[0;34m\u001b[0m\u001b[0m\n\u001b[0m\u001b[1;32m   2903\u001b[0m             \u001b[0;32mif\u001b[0m \u001b[0mis_integer\u001b[0m\u001b[0;34m(\u001b[0m\u001b[0mindexer\u001b[0m\u001b[0;34m)\u001b[0m\u001b[0;34m:\u001b[0m\u001b[0;34m\u001b[0m\u001b[0;34m\u001b[0m\u001b[0m\n\u001b[1;32m   2904\u001b[0m                 \u001b[0mindexer\u001b[0m \u001b[0;34m=\u001b[0m \u001b[0;34m[\u001b[0m\u001b[0mindexer\u001b[0m\u001b[0;34m]\u001b[0m\u001b[0;34m\u001b[0m\u001b[0;34m\u001b[0m\u001b[0m\n",
      "\u001b[0;32m~/anaconda3/lib/python3.8/site-packages/pandas/core/indexes/base.py\u001b[0m in \u001b[0;36mget_loc\u001b[0;34m(self, key, method, tolerance)\u001b[0m\n\u001b[1;32m   2889\u001b[0m                 \u001b[0;32mreturn\u001b[0m \u001b[0mself\u001b[0m\u001b[0;34m.\u001b[0m\u001b[0m_engine\u001b[0m\u001b[0;34m.\u001b[0m\u001b[0mget_loc\u001b[0m\u001b[0;34m(\u001b[0m\u001b[0mcasted_key\u001b[0m\u001b[0;34m)\u001b[0m\u001b[0;34m\u001b[0m\u001b[0;34m\u001b[0m\u001b[0m\n\u001b[1;32m   2890\u001b[0m             \u001b[0;32mexcept\u001b[0m \u001b[0mKeyError\u001b[0m \u001b[0;32mas\u001b[0m \u001b[0merr\u001b[0m\u001b[0;34m:\u001b[0m\u001b[0;34m\u001b[0m\u001b[0;34m\u001b[0m\u001b[0m\n\u001b[0;32m-> 2891\u001b[0;31m                 \u001b[0;32mraise\u001b[0m \u001b[0mKeyError\u001b[0m\u001b[0;34m(\u001b[0m\u001b[0mkey\u001b[0m\u001b[0;34m)\u001b[0m \u001b[0;32mfrom\u001b[0m \u001b[0merr\u001b[0m\u001b[0;34m\u001b[0m\u001b[0;34m\u001b[0m\u001b[0m\n\u001b[0m\u001b[1;32m   2892\u001b[0m \u001b[0;34m\u001b[0m\u001b[0m\n\u001b[1;32m   2893\u001b[0m         \u001b[0;32mif\u001b[0m \u001b[0mtolerance\u001b[0m \u001b[0;32mis\u001b[0m \u001b[0;32mnot\u001b[0m \u001b[0;32mNone\u001b[0m\u001b[0;34m:\u001b[0m\u001b[0;34m\u001b[0m\u001b[0;34m\u001b[0m\u001b[0m\n",
      "\u001b[0;31mKeyError\u001b[0m: 'BX_COUNTER'"
     ]
    }
   ],
   "source": [
    "# the one-liner killing it all\n",
    "data['timens']=data['TDC_MEAS']*25/30+data['BX']*25"
   ]
  },
  {
   "cell_type": "code",
   "execution_count": 53,
   "metadata": {},
   "outputs": [
    {
     "data": {
      "text/plain": [
       "0     59372.500000\n",
       "1     59373.333333\n",
       "2     63849.166667\n",
       "3     63966.666667\n",
       "4     69021.666667\n",
       "          ...     \n",
       "95    37654.166667\n",
       "96    37580.833333\n",
       "97    40234.166667\n",
       "98    40364.166667\n",
       "99    40400.833333\n",
       "Name: timens, Length: 100, dtype: float64"
      ]
     },
     "execution_count": 53,
     "metadata": {},
     "output_type": "execute_result"
    }
   ],
   "source": [
    "data['timens']"
   ]
  },
  {
   "cell_type": "code",
   "execution_count": null,
   "metadata": {},
   "outputs": [],
   "source": [
    "# the old slooow way\n",
    "def conversion(data):\n",
    "    result=[]\n",
    "    for i in range(len(data)): \n",
    "        result.append(data.loc[data.index[i],'TDC_MEAS']*25/30.+data.loc[data.index[i],'BX_COUNTER']*25)\n",
    "    return result\n",
    "\n",
    "data['timens']=conversion(data)"
   ]
  },
  {
   "cell_type": "markdown",
   "metadata": {},
   "source": [
    "## Merge\n",
    "\n",
    "pandas provides various facilities for easily combining together Series, DataFrame, and Panel objects with various kinds of set logic for the indexes and relational algebra functionality in the case of join / merge-type operations.\n",
    "\n",
    "### Concat\n",
    "\n",
    "concatenation (adding rows) is straightforward\n"
   ]
  },
  {
   "cell_type": "code",
   "execution_count": null,
   "metadata": {},
   "outputs": [],
   "source": [
    "rdf = pd.DataFrame(np.random.randn(10, 4))\n",
    "rdf"
   ]
  },
  {
   "cell_type": "code",
   "execution_count": null,
   "metadata": {},
   "outputs": [],
   "source": [
    "# divide it into pieaces raw-wise\n",
    "pieces = [rdf[:3], rdf[3:7], rdf[7:]]\n",
    "pieces"
   ]
  },
  {
   "cell_type": "code",
   "execution_count": null,
   "metadata": {},
   "outputs": [],
   "source": [
    "# put it back together\n",
    "#pd.concat(pieces)\n",
    "\n",
    "# indexes can be ignored\n",
    "pd.concat(pieces, ignore_index=True)\n",
    "\n",
    "# in case of dimension mismatch, Nan are added where needed"
   ]
  },
  {
   "cell_type": "code",
   "execution_count": null,
   "metadata": {},
   "outputs": [],
   "source": [
    "# appending a single row (as a Series)\n",
    "s = rdf.iloc[3]\n",
    "rdf.append(s, ignore_index=True)\n",
    "rdf"
   ]
  },
  {
   "cell_type": "markdown",
   "metadata": {},
   "source": [
    "### Merge/Join\n",
    "\n",
    "SQL like operations on table can be performed on DataFrames. This is all rather sophisticated, refer to the [doc](https://pandas.pydata.org/pandas-docs/stable/merging.html#merging) for more info/examples"
   ]
  },
  {
   "cell_type": "code",
   "execution_count": null,
   "metadata": {},
   "outputs": [],
   "source": [
    "left = pd.DataFrame({'key': ['foo', 'bar'], 'lval': [1, 2]})\n",
    "right = pd.DataFrame({'key': ['foo', 'bar'], 'rval': [4, 5]})\n",
    "\n",
    "pd.merge(left,right,on=\"key\")"
   ]
  },
  {
   "cell_type": "markdown",
   "metadata": {},
   "source": [
    "## Grouping\n",
    "\n",
    "By “group by” we are referring to a process involving one or more of the following steps:\n",
    "\n",
    "* Splitting the data into groups based on some criteria\n",
    "* Applying a function to each group independently\n",
    "* Combining the results into a data structure\n"
   ]
  },
  {
   "cell_type": "code",
   "execution_count": null,
   "metadata": {},
   "outputs": [],
   "source": [
    "gdf = pd.DataFrame({'A' : ['foo', 'bar', 'foo', 'bar',\n",
    "                          'foo', 'bar', 'foo', 'foo'],\n",
    "                    'B' : ['one', 'one', 'two', 'three',\n",
    "                           'two', 'two', 'one', 'three'],\n",
    "                    'C' : np.random.randn(8),\n",
    "                    'D' : np.random.randn(8)})\n",
    "gdf"
   ]
  },
  {
   "cell_type": "code",
   "execution_count": null,
   "metadata": {},
   "outputs": [],
   "source": [
    "# Grouping and then applying the sum() \n",
    "# function to the resulting groups (effective only where number are there).\n",
    "gdf.groupby('A').sum()"
   ]
  },
  {
   "cell_type": "markdown",
   "metadata": {},
   "source": [
    "## Multi-indexing\n",
    "\n",
    "\n",
    "Hierarchical / Multi-level indexing allows sophisticated data analysis on higher dimensional data. In essence, it enables you to store and manipulate data with an arbitrary number of dimensions in lower dimensional data structures like Series (1d) and DataFrame (2d)."
   ]
  },
  {
   "cell_type": "code",
   "execution_count": null,
   "metadata": {},
   "outputs": [],
   "source": [
    "tuples = list(zip(['bar', 'bar', 'baz', 'baz', 'foo', 'foo', 'qux', 'qux'],\n",
    "          ['one', 'two', 'one', 'two', 'one', 'two', 'one', 'two']))\n",
    "multi_index = pd.MultiIndex.from_tuples(tuples, names=['first', 'second'])\n",
    "print (multi_index,'\\n')\n",
    "\n",
    "s = pd.Series(np.random.randn(8), index=multi_index)\n",
    "print (s)\n"
   ]
  },
  {
   "cell_type": "code",
   "execution_count": null,
   "metadata": {},
   "outputs": [],
   "source": [
    "# it enables further features of the groupby method,\n",
    "# e.g. when group-by by multiple columns\n",
    "gdf.groupby(['A','B']).sum()"
   ]
  },
  {
   "cell_type": "code",
   "execution_count": null,
   "metadata": {},
   "outputs": [],
   "source": [
    "# stack() method “compresses” a level in the DataFrame’s columns\n",
    "gdf.groupby(['A','B']).sum().stack()"
   ]
  },
  {
   "cell_type": "markdown",
   "metadata": {},
   "source": [
    "## Plotting\n",
    "\n",
    "Just a preview, more on the next lab class!"
   ]
  },
  {
   "cell_type": "code",
   "execution_count": null,
   "metadata": {},
   "outputs": [],
   "source": [
    "ts = pd.Series(np.random.randn(1000), index=pd.date_range('1/1/2000', periods=1000))\n",
    "ts.cumsum().plot()"
   ]
  },
  {
   "cell_type": "code",
   "execution_count": null,
   "metadata": {},
   "outputs": [],
   "source": [
    "import matplotlib.pyplot as plt\n",
    "\n",
    "pdf=pd.DataFrame(np.random.randn(1000, 4), index=ts.index,columns=['A', 'B', 'C', 'D'])\n",
    "df = df.cumsum()\n",
    "plt.figure(); df.plot(); plt.legend(loc='best')"
   ]
  }
 ],
 "metadata": {
  "kernelspec": {
   "display_name": "Python 3",
   "language": "python",
   "name": "python3"
  },
  "language_info": {
   "codemirror_mode": {
    "name": "ipython",
    "version": 3
   },
   "file_extension": ".py",
   "mimetype": "text/x-python",
   "name": "python",
   "nbconvert_exporter": "python",
   "pygments_lexer": "ipython3",
   "version": "3.8.5"
  }
 },
 "nbformat": 4,
 "nbformat_minor": 2
}
