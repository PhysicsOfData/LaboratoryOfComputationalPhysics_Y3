{
 "cells": [
  {
   "cell_type": "markdown",
   "metadata": {},
   "source": [
    "## Pandas analysis\n",
    "\n",
    "This exercise consists in analyzing a dataset containg timing information from a series of Time-to-Digital-Converters (TDC) implemented in a couple of FPGAs. Each measurement (i.e. each row of the input file) consists of a flag that specifies the type of message ('HEAD', which in this case is always 1), two addresses of the TDC providing the signal ('FPGA' and 'TDC_CHANNEL'), and the timing information ('ORBIT_CNT', 'BX_COUNTER', and 'TDC_MEAS'). Each TDC count corresponds to 25/30 ns, whereas a unit of BX_COUNTER corresponds to 25 ns, and the ORBIT_CNT is increased every 'x' BX_COUNTER. This allows to store the time in a similar way to hours, minutes and seconds."
   ]
  },
  {
   "cell_type": "code",
   "execution_count": 20,
   "metadata": {},
   "outputs": [],
   "source": [
    "import pandas\n",
    "import numpy\n",
    "import matplotlib.pyplot as plt\n",
    "numpy.random.seed(2012265)"
   ]
  },
  {
   "cell_type": "code",
   "execution_count": 2,
   "metadata": {},
   "outputs": [
    {
     "name": "stdout",
     "output_type": "stream",
     "text": [
      "--2020-11-16 19:25:47--  https://www.dropbox.com/s/xvjzaxzz3ysphme/data_000637.txt\n",
      "Risoluzione di www.dropbox.com (www.dropbox.com)... 2620:100:6025:1::a27d:4501, 162.125.69.1\n",
      "Connessione a www.dropbox.com (www.dropbox.com)|2620:100:6025:1::a27d:4501|:443... connesso.\n",
      "Richiesta HTTP inviata, in attesa di risposta... 301 Moved Permanently\n",
      "Posizione: /s/raw/xvjzaxzz3ysphme/data_000637.txt [segue]\n",
      "--2020-11-16 19:25:48--  https://www.dropbox.com/s/raw/xvjzaxzz3ysphme/data_000637.txt\n",
      "Riutilizzo della connessione esistente a [www.dropbox.com]:443.\n",
      "Richiesta HTTP inviata, in attesa di risposta... 302 Found\n",
      "Posizione: https://uc54781d54ded3fa8ffb4fda118a.dl.dropboxusercontent.com/cd/0/inline/BDU4db1ntCFlk6_ewKgNKtNgP316no4VeO6SDFdMyDO-z6-B7zvBSMxjIJuO_2b07r1GbJBdmqbLYymXAo1bL82PR0QLOtHLvs5PjRiTdRXcLOyMwq_Na1rHS0kPczIFiQg/file# [segue]\n",
      "--2020-11-16 19:25:48--  https://uc54781d54ded3fa8ffb4fda118a.dl.dropboxusercontent.com/cd/0/inline/BDU4db1ntCFlk6_ewKgNKtNgP316no4VeO6SDFdMyDO-z6-B7zvBSMxjIJuO_2b07r1GbJBdmqbLYymXAo1bL82PR0QLOtHLvs5PjRiTdRXcLOyMwq_Na1rHS0kPczIFiQg/file\n",
      "Risoluzione di uc54781d54ded3fa8ffb4fda118a.dl.dropboxusercontent.com (uc54781d54ded3fa8ffb4fda118a.dl.dropboxusercontent.com)... 2620:100:6025:15::a27d:450f, 162.125.69.15\n",
      "Connessione a uc54781d54ded3fa8ffb4fda118a.dl.dropboxusercontent.com (uc54781d54ded3fa8ffb4fda118a.dl.dropboxusercontent.com)|2620:100:6025:15::a27d:450f|:443... connesso.\n",
      "Richiesta HTTP inviata, in attesa di risposta... 200 OK\n",
      "Lunghezza: 33179236 (32M) [text/plain]\n",
      "Salvataggio in: \"./data/data_000637.txt\"\n",
      "\n",
      "data_000637.txt     100%[===================>]  31,64M  6,82MB/s    in 4,7s    \n",
      "\n",
      "2020-11-16 19:25:54 (6,79 MB/s) - \"./data/data_000637.txt\" salvato [33179236/33179236]\n",
      "\n"
     ]
    }
   ],
   "source": [
    "# If you didn't download it yet, please get the relevant file now!\n",
    "!wget https://www.dropbox.com/s/xvjzaxzz3ysphme/data_000637.txt -P ./data/"
   ]
  },
  {
   "cell_type": "markdown",
   "metadata": {},
   "source": [
    "1\\. Create a Pandas DataFrame reading N rows of the 'data_000637.txt' dataset. Choose N to be smaller than or equal to the maximum number of rows and larger that 10k."
   ]
  },
  {
   "cell_type": "code",
   "execution_count": 3,
   "metadata": {},
   "outputs": [
    {
     "data": {
      "text/html": [
       "<div>\n",
       "<style scoped>\n",
       "    .dataframe tbody tr th:only-of-type {\n",
       "        vertical-align: middle;\n",
       "    }\n",
       "\n",
       "    .dataframe tbody tr th {\n",
       "        vertical-align: top;\n",
       "    }\n",
       "\n",
       "    .dataframe thead th {\n",
       "        text-align: right;\n",
       "    }\n",
       "</style>\n",
       "<table border=\"1\" class=\"dataframe\">\n",
       "  <thead>\n",
       "    <tr style=\"text-align: right;\">\n",
       "      <th></th>\n",
       "      <th></th>\n",
       "      <th>HEAD</th>\n",
       "      <th>ORBIT_CNT</th>\n",
       "      <th>BX_COUNTER</th>\n",
       "      <th>TDC_MEAS</th>\n",
       "    </tr>\n",
       "    <tr>\n",
       "      <th>FPGA</th>\n",
       "      <th>TDC_CHANNEL</th>\n",
       "      <th></th>\n",
       "      <th></th>\n",
       "      <th></th>\n",
       "      <th></th>\n",
       "    </tr>\n",
       "  </thead>\n",
       "  <tbody>\n",
       "    <tr>\n",
       "      <th rowspan=\"5\" valign=\"top\">0</th>\n",
       "      <th>1</th>\n",
       "      <td>1</td>\n",
       "      <td>3869200678</td>\n",
       "      <td>227</td>\n",
       "      <td>0</td>\n",
       "    </tr>\n",
       "    <tr>\n",
       "      <th>1</th>\n",
       "      <td>1</td>\n",
       "      <td>3869200803</td>\n",
       "      <td>297</td>\n",
       "      <td>0</td>\n",
       "    </tr>\n",
       "    <tr>\n",
       "      <th>1</th>\n",
       "      <td>1</td>\n",
       "      <td>3869200745</td>\n",
       "      <td>834</td>\n",
       "      <td>0</td>\n",
       "    </tr>\n",
       "    <tr>\n",
       "      <th>1</th>\n",
       "      <td>1</td>\n",
       "      <td>3869200290</td>\n",
       "      <td>1225</td>\n",
       "      <td>1</td>\n",
       "    </tr>\n",
       "    <tr>\n",
       "      <th>1</th>\n",
       "      <td>1</td>\n",
       "      <td>3869200511</td>\n",
       "      <td>2509</td>\n",
       "      <td>1</td>\n",
       "    </tr>\n",
       "    <tr>\n",
       "      <th>...</th>\n",
       "      <th>...</th>\n",
       "      <td>...</td>\n",
       "      <td>...</td>\n",
       "      <td>...</td>\n",
       "      <td>...</td>\n",
       "    </tr>\n",
       "    <tr>\n",
       "      <th rowspan=\"5\" valign=\"top\">1</th>\n",
       "      <th>139</th>\n",
       "      <td>1</td>\n",
       "      <td>3869200859</td>\n",
       "      <td>3555</td>\n",
       "      <td>0</td>\n",
       "    </tr>\n",
       "    <tr>\n",
       "      <th>139</th>\n",
       "      <td>1</td>\n",
       "      <td>3869200374</td>\n",
       "      <td>3556</td>\n",
       "      <td>0</td>\n",
       "    </tr>\n",
       "    <tr>\n",
       "      <th>139</th>\n",
       "      <td>1</td>\n",
       "      <td>3869201040</td>\n",
       "      <td>3556</td>\n",
       "      <td>0</td>\n",
       "    </tr>\n",
       "    <tr>\n",
       "      <th>139</th>\n",
       "      <td>1</td>\n",
       "      <td>3869200312</td>\n",
       "      <td>3558</td>\n",
       "      <td>0</td>\n",
       "    </tr>\n",
       "    <tr>\n",
       "      <th>139</th>\n",
       "      <td>1</td>\n",
       "      <td>3869200353</td>\n",
       "      <td>3559</td>\n",
       "      <td>0</td>\n",
       "    </tr>\n",
       "  </tbody>\n",
       "</table>\n",
       "<p>100000 rows × 4 columns</p>\n",
       "</div>"
      ],
      "text/plain": [
       "                  HEAD   ORBIT_CNT  BX_COUNTER  TDC_MEAS\n",
       "FPGA TDC_CHANNEL                                        \n",
       "0    1               1  3869200678         227         0\n",
       "     1               1  3869200803         297         0\n",
       "     1               1  3869200745         834         0\n",
       "     1               1  3869200290        1225         1\n",
       "     1               1  3869200511        2509         1\n",
       "...                ...         ...         ...       ...\n",
       "1    139             1  3869200859        3555         0\n",
       "     139             1  3869200374        3556         0\n",
       "     139             1  3869201040        3556         0\n",
       "     139             1  3869200312        3558         0\n",
       "     139             1  3869200353        3559         0\n",
       "\n",
       "[100000 rows x 4 columns]"
      ]
     },
     "execution_count": 3,
     "metadata": {},
     "output_type": "execute_result"
    }
   ],
   "source": [
    "source_file = \"./data/data_000637.txt\"\n",
    "lines = open(source_file)\n",
    "N = min(len(list(lines)), 100000)\n",
    "lines.close()\n",
    "\n",
    "data = pandas.read_csv(source_file, header=0, nrows=N)\n",
    "\n",
    "data.set_index(['FPGA', 'TDC_CHANNEL'], inplace=True)\n",
    "data.sort_values(['TDC_MEAS','BX_COUNTER','ORBIT_CNT'], inplace=True)\n",
    "data.sort_index(inplace=True)\n",
    "\n",
    "data"
   ]
  },
  {
   "cell_type": "markdown",
   "metadata": {},
   "source": [
    "2\\. Find out the number of BX in a ORBIT (the value 'x')."
   ]
  },
  {
   "cell_type": "code",
   "execution_count": 4,
   "metadata": {},
   "outputs": [
    {
     "name": "stdout",
     "output_type": "stream",
     "text": [
      "The number of BX_COUNTERS in one TDC_MEAS is: 3564\n"
     ]
    }
   ],
   "source": [
    "X = data['BX_COUNTER'].max() + 1\n",
    "print(f\"The number of BX_COUNTERS in one TDC_MEAS is: {X}\")"
   ]
  },
  {
   "cell_type": "markdown",
   "metadata": {},
   "source": [
    "3\\. Find out how much the data taking lasted. You can either make an estimate based on the fraction of the measurements (rows) you read, or perform this check precisely by reading out the whole dataset."
   ]
  },
  {
   "cell_type": "code",
   "execution_count": 5,
   "metadata": {},
   "outputs": [
    {
     "name": "stdout",
     "output_type": "stream",
     "text": [
      "We estimate that these data have been collected for 3.2270064708333335s\n",
      "We will check more precisely in the next answer, by reading the whole dataset\n"
     ]
    }
   ],
   "source": [
    "time = data.loc[slice(None),'ORBIT_CNT':'TDC_MEAS']\n",
    "time_max_TDC = time[time['TDC_MEAS'] == time['TDC_MEAS'].max()]\n",
    "time_max_BX = time_max_TDC[time_max_TDC['BX_COUNTER'] == time_max_TDC['BX_COUNTER'].max()]\n",
    "time_max_ORBIT = time_max_BX[time_max_BX['ORBIT_CNT'] == time_max_BX['ORBIT_CNT'].max()]\n",
    "\n",
    "time_weight = numpy.array([25/30, 25, 25*X])\n",
    "\n",
    "print(f\"We estimate that these data have been collected for {numpy.dot(time_weight,numpy.array(time_max_ORBIT)[0].T) / 1e09}s\")\n",
    "print(\"We will check more precisely in the next answer, by reading the whole dataset\")"
   ]
  },
  {
   "cell_type": "markdown",
   "metadata": {},
   "source": [
    "4\\. Create a new column with the absolute time in ns (as a combination of the other three columns with timing information)."
   ]
  },
  {
   "cell_type": "code",
   "execution_count": 6,
   "metadata": {},
   "outputs": [
    {
     "name": "stdout",
     "output_type": "stream",
     "text": [
      "We can now state that the data collecting took 3.227007115s\n"
     ]
    }
   ],
   "source": [
    "data['TIME_NS'] = numpy.dot(time,time_weight)\n",
    "print(f\"We can now state that the data collecting took {data['TIME_NS'].max() / 1e09}s\")"
   ]
  },
  {
   "cell_type": "markdown",
   "metadata": {},
   "source": [
    "5\\. Replace the values (all 1) of the HEAD column randomly with 0 or 1."
   ]
  },
  {
   "cell_type": "code",
   "execution_count": 7,
   "metadata": {},
   "outputs": [
    {
     "data": {
      "text/html": [
       "<div>\n",
       "<style scoped>\n",
       "    .dataframe tbody tr th:only-of-type {\n",
       "        vertical-align: middle;\n",
       "    }\n",
       "\n",
       "    .dataframe tbody tr th {\n",
       "        vertical-align: top;\n",
       "    }\n",
       "\n",
       "    .dataframe thead th {\n",
       "        text-align: right;\n",
       "    }\n",
       "</style>\n",
       "<table border=\"1\" class=\"dataframe\">\n",
       "  <thead>\n",
       "    <tr style=\"text-align: right;\">\n",
       "      <th></th>\n",
       "      <th></th>\n",
       "      <th>HEAD</th>\n",
       "      <th>ORBIT_CNT</th>\n",
       "      <th>BX_COUNTER</th>\n",
       "      <th>TDC_MEAS</th>\n",
       "      <th>TIME_NS</th>\n",
       "    </tr>\n",
       "    <tr>\n",
       "      <th>FPGA</th>\n",
       "      <th>TDC_CHANNEL</th>\n",
       "      <th></th>\n",
       "      <th></th>\n",
       "      <th></th>\n",
       "      <th></th>\n",
       "      <th></th>\n",
       "    </tr>\n",
       "  </thead>\n",
       "  <tbody>\n",
       "    <tr>\n",
       "      <th rowspan=\"5\" valign=\"top\">0</th>\n",
       "      <th>1</th>\n",
       "      <td>1</td>\n",
       "      <td>3869200678</td>\n",
       "      <td>227</td>\n",
       "      <td>0</td>\n",
       "      <td>3.224340e+09</td>\n",
       "    </tr>\n",
       "    <tr>\n",
       "      <th>1</th>\n",
       "      <td>1</td>\n",
       "      <td>3869200803</td>\n",
       "      <td>297</td>\n",
       "      <td>0</td>\n",
       "      <td>3.224341e+09</td>\n",
       "    </tr>\n",
       "    <tr>\n",
       "      <th>1</th>\n",
       "      <td>0</td>\n",
       "      <td>3869200745</td>\n",
       "      <td>834</td>\n",
       "      <td>0</td>\n",
       "      <td>3.224355e+09</td>\n",
       "    </tr>\n",
       "    <tr>\n",
       "      <th>1</th>\n",
       "      <td>0</td>\n",
       "      <td>3869200290</td>\n",
       "      <td>1225</td>\n",
       "      <td>1</td>\n",
       "      <td>3.224453e+09</td>\n",
       "    </tr>\n",
       "    <tr>\n",
       "      <th>1</th>\n",
       "      <td>0</td>\n",
       "      <td>3869200511</td>\n",
       "      <td>2509</td>\n",
       "      <td>1</td>\n",
       "      <td>3.224486e+09</td>\n",
       "    </tr>\n",
       "    <tr>\n",
       "      <th>...</th>\n",
       "      <th>...</th>\n",
       "      <td>...</td>\n",
       "      <td>...</td>\n",
       "      <td>...</td>\n",
       "      <td>...</td>\n",
       "      <td>...</td>\n",
       "    </tr>\n",
       "    <tr>\n",
       "      <th rowspan=\"5\" valign=\"top\">1</th>\n",
       "      <th>139</th>\n",
       "      <td>1</td>\n",
       "      <td>3869200859</td>\n",
       "      <td>3555</td>\n",
       "      <td>0</td>\n",
       "      <td>3.224423e+09</td>\n",
       "    </tr>\n",
       "    <tr>\n",
       "      <th>139</th>\n",
       "      <td>1</td>\n",
       "      <td>3869200374</td>\n",
       "      <td>3556</td>\n",
       "      <td>0</td>\n",
       "      <td>3.224423e+09</td>\n",
       "    </tr>\n",
       "    <tr>\n",
       "      <th>139</th>\n",
       "      <td>0</td>\n",
       "      <td>3869201040</td>\n",
       "      <td>3556</td>\n",
       "      <td>0</td>\n",
       "      <td>3.224423e+09</td>\n",
       "    </tr>\n",
       "    <tr>\n",
       "      <th>139</th>\n",
       "      <td>0</td>\n",
       "      <td>3869200312</td>\n",
       "      <td>3558</td>\n",
       "      <td>0</td>\n",
       "      <td>3.224423e+09</td>\n",
       "    </tr>\n",
       "    <tr>\n",
       "      <th>139</th>\n",
       "      <td>1</td>\n",
       "      <td>3869200353</td>\n",
       "      <td>3559</td>\n",
       "      <td>0</td>\n",
       "      <td>3.224423e+09</td>\n",
       "    </tr>\n",
       "  </tbody>\n",
       "</table>\n",
       "<p>100000 rows × 5 columns</p>\n",
       "</div>"
      ],
      "text/plain": [
       "                  HEAD   ORBIT_CNT  BX_COUNTER  TDC_MEAS       TIME_NS\n",
       "FPGA TDC_CHANNEL                                                      \n",
       "0    1               1  3869200678         227         0  3.224340e+09\n",
       "     1               1  3869200803         297         0  3.224341e+09\n",
       "     1               0  3869200745         834         0  3.224355e+09\n",
       "     1               0  3869200290        1225         1  3.224453e+09\n",
       "     1               0  3869200511        2509         1  3.224486e+09\n",
       "...                ...         ...         ...       ...           ...\n",
       "1    139             1  3869200859        3555         0  3.224423e+09\n",
       "     139             1  3869200374        3556         0  3.224423e+09\n",
       "     139             0  3869201040        3556         0  3.224423e+09\n",
       "     139             0  3869200312        3558         0  3.224423e+09\n",
       "     139             1  3869200353        3559         0  3.224423e+09\n",
       "\n",
       "[100000 rows x 5 columns]"
      ]
     },
     "execution_count": 7,
     "metadata": {},
     "output_type": "execute_result"
    }
   ],
   "source": [
    "data['HEAD'] = numpy.random.binomial(1, 0.5, size=data.shape[0])\n",
    "data"
   ]
  },
  {
   "cell_type": "markdown",
   "metadata": {},
   "source": [
    "6\\. Create a new DataFrame that contains only the rows with HEAD=1."
   ]
  },
  {
   "cell_type": "code",
   "execution_count": 17,
   "metadata": {},
   "outputs": [
    {
     "data": {
      "text/html": [
       "<div>\n",
       "<style scoped>\n",
       "    .dataframe tbody tr th:only-of-type {\n",
       "        vertical-align: middle;\n",
       "    }\n",
       "\n",
       "    .dataframe tbody tr th {\n",
       "        vertical-align: top;\n",
       "    }\n",
       "\n",
       "    .dataframe thead th {\n",
       "        text-align: right;\n",
       "    }\n",
       "</style>\n",
       "<table border=\"1\" class=\"dataframe\">\n",
       "  <thead>\n",
       "    <tr style=\"text-align: right;\">\n",
       "      <th></th>\n",
       "      <th></th>\n",
       "      <th>HEAD</th>\n",
       "      <th>ORBIT_CNT</th>\n",
       "      <th>BX_COUNTER</th>\n",
       "      <th>TDC_MEAS</th>\n",
       "      <th>TIME_NS</th>\n",
       "    </tr>\n",
       "    <tr>\n",
       "      <th>FPGA</th>\n",
       "      <th>TDC_CHANNEL</th>\n",
       "      <th></th>\n",
       "      <th></th>\n",
       "      <th></th>\n",
       "      <th></th>\n",
       "      <th></th>\n",
       "    </tr>\n",
       "  </thead>\n",
       "  <tbody>\n",
       "    <tr>\n",
       "      <th rowspan=\"5\" valign=\"top\">0</th>\n",
       "      <th>1</th>\n",
       "      <td>1</td>\n",
       "      <td>3869200678</td>\n",
       "      <td>227</td>\n",
       "      <td>0</td>\n",
       "      <td>3.224340e+09</td>\n",
       "    </tr>\n",
       "    <tr>\n",
       "      <th>1</th>\n",
       "      <td>1</td>\n",
       "      <td>3869200803</td>\n",
       "      <td>297</td>\n",
       "      <td>0</td>\n",
       "      <td>3.224341e+09</td>\n",
       "    </tr>\n",
       "    <tr>\n",
       "      <th>1</th>\n",
       "      <td>1</td>\n",
       "      <td>3869200412</td>\n",
       "      <td>334</td>\n",
       "      <td>2</td>\n",
       "      <td>3.224520e+09</td>\n",
       "    </tr>\n",
       "    <tr>\n",
       "      <th>1</th>\n",
       "      <td>1</td>\n",
       "      <td>3869200884</td>\n",
       "      <td>1173</td>\n",
       "      <td>2</td>\n",
       "      <td>3.224542e+09</td>\n",
       "    </tr>\n",
       "    <tr>\n",
       "      <th>1</th>\n",
       "      <td>1</td>\n",
       "      <td>3869200265</td>\n",
       "      <td>1554</td>\n",
       "      <td>2</td>\n",
       "      <td>3.224551e+09</td>\n",
       "    </tr>\n",
       "    <tr>\n",
       "      <th>...</th>\n",
       "      <th>...</th>\n",
       "      <td>...</td>\n",
       "      <td>...</td>\n",
       "      <td>...</td>\n",
       "      <td>...</td>\n",
       "      <td>...</td>\n",
       "    </tr>\n",
       "    <tr>\n",
       "      <th rowspan=\"5\" valign=\"top\">1</th>\n",
       "      <th>139</th>\n",
       "      <td>1</td>\n",
       "      <td>3869200780</td>\n",
       "      <td>3549</td>\n",
       "      <td>0</td>\n",
       "      <td>3.224423e+09</td>\n",
       "    </tr>\n",
       "    <tr>\n",
       "      <th>139</th>\n",
       "      <td>1</td>\n",
       "      <td>3869200606</td>\n",
       "      <td>3553</td>\n",
       "      <td>0</td>\n",
       "      <td>3.224423e+09</td>\n",
       "    </tr>\n",
       "    <tr>\n",
       "      <th>139</th>\n",
       "      <td>1</td>\n",
       "      <td>3869200859</td>\n",
       "      <td>3555</td>\n",
       "      <td>0</td>\n",
       "      <td>3.224423e+09</td>\n",
       "    </tr>\n",
       "    <tr>\n",
       "      <th>139</th>\n",
       "      <td>1</td>\n",
       "      <td>3869200374</td>\n",
       "      <td>3556</td>\n",
       "      <td>0</td>\n",
       "      <td>3.224423e+09</td>\n",
       "    </tr>\n",
       "    <tr>\n",
       "      <th>139</th>\n",
       "      <td>1</td>\n",
       "      <td>3869200353</td>\n",
       "      <td>3559</td>\n",
       "      <td>0</td>\n",
       "      <td>3.224423e+09</td>\n",
       "    </tr>\n",
       "  </tbody>\n",
       "</table>\n",
       "<p>49920 rows × 5 columns</p>\n",
       "</div>"
      ],
      "text/plain": [
       "                  HEAD   ORBIT_CNT  BX_COUNTER  TDC_MEAS       TIME_NS\n",
       "FPGA TDC_CHANNEL                                                      \n",
       "0    1               1  3869200678         227         0  3.224340e+09\n",
       "     1               1  3869200803         297         0  3.224341e+09\n",
       "     1               1  3869200412         334         2  3.224520e+09\n",
       "     1               1  3869200884        1173         2  3.224542e+09\n",
       "     1               1  3869200265        1554         2  3.224551e+09\n",
       "...                ...         ...         ...       ...           ...\n",
       "1    139             1  3869200780        3549         0  3.224423e+09\n",
       "     139             1  3869200606        3553         0  3.224423e+09\n",
       "     139             1  3869200859        3555         0  3.224423e+09\n",
       "     139             1  3869200374        3556         0  3.224423e+09\n",
       "     139             1  3869200353        3559         0  3.224423e+09\n",
       "\n",
       "[49920 rows x 5 columns]"
      ]
     },
     "execution_count": 17,
     "metadata": {},
     "output_type": "execute_result"
    }
   ],
   "source": [
    "new_data = data[data['HEAD'] == 1]\n",
    "new_data"
   ]
  },
  {
   "cell_type": "markdown",
   "metadata": {},
   "source": [
    "7\\. Make two occupancy plots (one for each FPGA), i.e. plot the number of counts per TDC channel"
   ]
  },
  {
   "cell_type": "code",
   "execution_count": 34,
   "metadata": {
    "scrolled": true
   },
   "outputs": [
    {
     "data": {
      "image/png": "[encoded data removed]",
      "text/plain": [
       "<Figure size 864x345.6 with 2 Axes>"
      ]
     },
     "metadata": {
      "needs_background": "light"
     },
     "output_type": "display_data"
    }
   ],
   "source": [
    "#new_data.reset_index(level=1, inplace=True)\n",
    "\n",
    "fig, axs = plt.subplots(1, 2, figsize=(12,4.8))\n",
    "\n",
    "for i in [0,1]:\n",
    "    new_data.loc[i, 'TDC_CHANNEL'].hist(ax=axs[i], bins=139)\n",
    "    axs[i].set_ylabel(\"Counts per channel\")\n",
    "    axs[i].set_xlabel(\"Channel\")\n",
    "    axs[i].set_title(\"FPGA n°\"+str(i))\n",
    "axs[1].yaxis.tick_right()\n",
    "axs[1].yaxis.set_label_position(\"right\")\n",
    "fig.tight_layout()"
   ]
  },
  {
   "cell_type": "markdown",
   "metadata": {},
   "source": [
    "8\\. Use the groupby method to find out the noisy channels, i.e. the TDC channels with most counts (say the top 3)"
   ]
  },
  {
   "cell_type": "code",
   "execution_count": null,
   "metadata": {},
   "outputs": [],
   "source": []
  },
  {
   "cell_type": "markdown",
   "metadata": {},
   "source": [
    "9\\. Count the number of unique orbits. Count the number of unique orbits with at least one measurement from TDC_CHANNEL=139"
   ]
  },
  {
   "cell_type": "code",
   "execution_count": 10,
   "metadata": {},
   "outputs": [],
   "source": [
    "!rm -r ./data"
   ]
  },
  {
   "cell_type": "code",
   "execution_count": null,
   "metadata": {},
   "outputs": [],
   "source": []
  }
 ],
 "metadata": {
  "kernelspec": {
   "display_name": "Python 3",
   "language": "python",
   "name": "python3"
  },
  "language_info": {
   "codemirror_mode": {
    "name": "ipython",
    "version": 3
   },
   "file_extension": ".py",
   "mimetype": "text/x-python",
   "name": "python",
   "nbconvert_exporter": "python",
   "pygments_lexer": "ipython3",
   "version": "3.8.5"
  }
 },
 "nbformat": 4,
 "nbformat_minor": 2
}
