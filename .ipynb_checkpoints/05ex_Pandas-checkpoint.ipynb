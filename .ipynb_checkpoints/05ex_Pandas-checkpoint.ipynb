{
 "cells": [
  {
   "cell_type": "markdown",
   "metadata": {},
   "source": [
    "## Pandas analysis\n",
    "\n",
    "This exercise consists in analyzing a dataset containg timing information from a series of Time-to-Digital-Converters (TDC) implemented in a couple of FPGAs. Each measurement (i.e. each row of the input file) consists of a flag that specifies the type of message ('HEAD', which in this case is always 1), two addresses of the TDC providing the signal ('FPGA' and 'TDC_CHANNEL'), and the timing information ('ORBIT_CNT', 'BX_COUNTER', and 'TDC_MEAS'). Each TDC count corresponds to 25/30 ns, whereas a unit of BX_COUNTER corresponds to 25 ns, and the ORBIT_CNT is increased every 'x' BX_COUNTER. This allows to store the time in a similar way to hours, minutes and seconds."
   ]
  },
  {
   "cell_type": "code",
   "execution_count": null,
   "metadata": {},
   "outputs": [],
   "source": [
    "# If you didn't download it yet, please get the relevant file now!\n",
    "#!wget https://www.dropbox.com/s/xvjzaxzz3ysphme/data_000637.txt -P ~/data/"
   ]
  },
  {
   "cell_type": "markdown",
   "metadata": {},
   "source": [
    "1\\. Create a Pandas DataFrame reading N rows of the 'data_000637.txt' dataset. Choose N to be smaller than or equal to the maximum number of rows and larger that 10k.\n",
    "\n",
    "2\\. Find out the number of BX in a ORBIT (the value 'x').\n",
    "\n",
    "3\\. Find out how much the data taking lasted. You can either make an estimate based on the fraction of the measurements (rows) you read, or perform this check precisely by reading out the whole dataset.\n",
    "\n",
    "4\\. Create a new column with the absolute time in ns (as a combination of the other three columns with timing information).\n",
    "\n",
    "5\\. Replace the values (all 1) of the HEAD column randomly with 0 or 1.\n",
    "\n",
    "6\\. Create a new DataFrame that contains only the rows with HEAD=1.\n",
    "\n",
    "7\\. Make two occupancy plots (one for each FPGA), i.e. plot the number of counts per TDC channel\n",
    "\n",
    "8\\. Use the groupby method to find out the noisy channels, i.e. the TDC channels with most counts (say the top 3)\n",
    "\n",
    "9\\. Count the number of unique orbits. Count the number of unique orbits with at least one measurement from TDC_CHANNEL=139"
   ]
  },
  {
   "cell_type": "markdown",
   "metadata": {},
   "source": [
    "### Exercise 1."
   ]
  },
  {
   "cell_type": "code",
   "execution_count": 27,
   "metadata": {},
   "outputs": [
    {
     "data": {
      "text/html": [
       "<div>\n",
       "<style scoped>\n",
       "    .dataframe tbody tr th:only-of-type {\n",
       "        vertical-align: middle;\n",
       "    }\n",
       "\n",
       "    .dataframe tbody tr th {\n",
       "        vertical-align: top;\n",
       "    }\n",
       "\n",
       "    .dataframe thead th {\n",
       "        text-align: right;\n",
       "    }\n",
       "</style>\n",
       "<table border=\"1\" class=\"dataframe\">\n",
       "  <thead>\n",
       "    <tr style=\"text-align: right;\">\n",
       "      <th></th>\n",
       "      <th>HEAD</th>\n",
       "      <th>FPGA</th>\n",
       "      <th>TDC_CHANNEL</th>\n",
       "      <th>ORBIT_CNT</th>\n",
       "      <th>BX_COUNTER</th>\n",
       "      <th>TDC_MEAS</th>\n",
       "    </tr>\n",
       "  </thead>\n",
       "  <tbody>\n",
       "    <tr>\n",
       "      <td>0</td>\n",
       "      <td>1</td>\n",
       "      <td>0</td>\n",
       "      <td>123</td>\n",
       "      <td>3869200167</td>\n",
       "      <td>2374</td>\n",
       "      <td>26</td>\n",
       "    </tr>\n",
       "    <tr>\n",
       "      <td>1</td>\n",
       "      <td>1</td>\n",
       "      <td>0</td>\n",
       "      <td>124</td>\n",
       "      <td>3869200167</td>\n",
       "      <td>2374</td>\n",
       "      <td>27</td>\n",
       "    </tr>\n",
       "    <tr>\n",
       "      <td>2</td>\n",
       "      <td>1</td>\n",
       "      <td>0</td>\n",
       "      <td>63</td>\n",
       "      <td>3869200167</td>\n",
       "      <td>2553</td>\n",
       "      <td>28</td>\n",
       "    </tr>\n",
       "    <tr>\n",
       "      <td>3</td>\n",
       "      <td>1</td>\n",
       "      <td>0</td>\n",
       "      <td>64</td>\n",
       "      <td>3869200167</td>\n",
       "      <td>2558</td>\n",
       "      <td>19</td>\n",
       "    </tr>\n",
       "    <tr>\n",
       "      <td>4</td>\n",
       "      <td>1</td>\n",
       "      <td>0</td>\n",
       "      <td>64</td>\n",
       "      <td>3869200167</td>\n",
       "      <td>2760</td>\n",
       "      <td>25</td>\n",
       "    </tr>\n",
       "    <tr>\n",
       "      <td>...</td>\n",
       "      <td>...</td>\n",
       "      <td>...</td>\n",
       "      <td>...</td>\n",
       "      <td>...</td>\n",
       "      <td>...</td>\n",
       "      <td>...</td>\n",
       "    </tr>\n",
       "    <tr>\n",
       "      <td>49995</td>\n",
       "      <td>1</td>\n",
       "      <td>1</td>\n",
       "      <td>2</td>\n",
       "      <td>3869200664</td>\n",
       "      <td>1103</td>\n",
       "      <td>4</td>\n",
       "    </tr>\n",
       "    <tr>\n",
       "      <td>49996</td>\n",
       "      <td>1</td>\n",
       "      <td>1</td>\n",
       "      <td>4</td>\n",
       "      <td>3869200664</td>\n",
       "      <td>1105</td>\n",
       "      <td>14</td>\n",
       "    </tr>\n",
       "    <tr>\n",
       "      <td>49997</td>\n",
       "      <td>1</td>\n",
       "      <td>0</td>\n",
       "      <td>59</td>\n",
       "      <td>3869200664</td>\n",
       "      <td>1191</td>\n",
       "      <td>17</td>\n",
       "    </tr>\n",
       "    <tr>\n",
       "      <td>49998</td>\n",
       "      <td>1</td>\n",
       "      <td>0</td>\n",
       "      <td>32</td>\n",
       "      <td>3869200664</td>\n",
       "      <td>1191</td>\n",
       "      <td>1</td>\n",
       "    </tr>\n",
       "    <tr>\n",
       "      <td>49999</td>\n",
       "      <td>1</td>\n",
       "      <td>0</td>\n",
       "      <td>60</td>\n",
       "      <td>3869200664</td>\n",
       "      <td>1190</td>\n",
       "      <td>6</td>\n",
       "    </tr>\n",
       "  </tbody>\n",
       "</table>\n",
       "<p>50000 rows × 6 columns</p>\n",
       "</div>"
      ],
      "text/plain": [
       "       HEAD  FPGA  TDC_CHANNEL   ORBIT_CNT  BX_COUNTER  TDC_MEAS\n",
       "0         1     0          123  3869200167        2374        26\n",
       "1         1     0          124  3869200167        2374        27\n",
       "2         1     0           63  3869200167        2553        28\n",
       "3         1     0           64  3869200167        2558        19\n",
       "4         1     0           64  3869200167        2760        25\n",
       "...     ...   ...          ...         ...         ...       ...\n",
       "49995     1     1            2  3869200664        1103         4\n",
       "49996     1     1            4  3869200664        1105        14\n",
       "49997     1     0           59  3869200664        1191        17\n",
       "49998     1     0           32  3869200664        1191         1\n",
       "49999     1     0           60  3869200664        1190         6\n",
       "\n",
       "[50000 rows x 6 columns]"
      ]
     },
     "execution_count": 27,
     "metadata": {},
     "output_type": "execute_result"
    }
   ],
   "source": [
    "import pandas as pd\n",
    "import numpy as np\n",
    "df=pd.read_csv('data_000637.txt',nrows=50000)\n",
    "df"
   ]
  },
  {
   "cell_type": "markdown",
   "metadata": {},
   "source": [
    "### Exercise 2."
   ]
  },
  {
   "cell_type": "code",
   "execution_count": 191,
   "metadata": {},
   "outputs": [
    {
     "name": "stdout",
     "output_type": "stream",
     "text": [
      "{3869200167: 3187, 3869200168: 3538, 3869200169: 2766, 3869200170: 3377, 3869200171: 3542, 3869200172: 3521, 3869200173: 3247, 3869200174: 2989, 3869200175: 3542, 3869200176: 3489, 3869200177: 3244, 3869200178: 1370, 3869200179: 1953, 3869200180: 3545, 3869200181: 3376, 3869200182: 3513, 3869200183: 2310, 3869200184: 3483, 3869200185: 3339, 3869200186: 3475, 3869200187: 3011, 3869200188: 2214, 3869200189: 3390, 3869200190: 3529, 3869200191: 3481, 3869200192: 3562, 3869200193: 3493, 3869200194: 2576, 3869200195: 3563, 3869200196: 3516, 3869200197: 2094, 3869200198: 2631, 3869200199: 3540, 3869200200: 3426, 3869200201: 3550, 3869200202: 2966, 3869200203: 3528, 3869200204: 3436, 3869200205: 3526, 3869200206: 1746, 3869200207: 3563, 3869200208: 3384, 3869200209: 3489, 3869200210: 3249, 3869200211: 3563, 3869200212: 3528, 3869200213: 3510, 3869200214: 3563, 3869200215: 3403, 3869200216: 3555, 3869200217: 3084, 3869200218: 3477, 3869200219: 3480, 3869200220: 2703, 3869200221: 3186, 3869200222: 3387, 3869200223: 3547, 3869200224: 3351, 3869200225: 3309, 3869200226: 3558, 3869200227: 3189, 3869200228: 3542, 3869200229: 2056, 3869200230: 2750, 3869200231: 3461, 3869200232: 3537, 3869200233: 3511, 3869200234: 3451, 3869200235: 3530, 3869200236: 3492, 3869200237: 3362, 3869200238: 3359, 3869200239: 3148, 3869200240: 3492, 3869200241: 3240, 3869200242: 3141, 3869200243: 1741, 3869200244: 3541, 3869200245: 3038, 3869200246: 3563, 3869200247: 1081, 3869200248: 2287, 3869200249: 3529, 3869200250: 3408, 3869200251: 3546, 3869200252: 3458, 3869200253: 3327, 3869200254: 3505, 3869200255: 3538, 3869200256: 3256, 3869200257: 3031, 3869200258: 3457, 3869200259: 3059, 3869200260: 3376, 3869200261: 3332, 3869200262: 3183, 3869200263: 3422, 3869200264: 3067, 3869200265: 3484, 3869200266: 1859, 3869200267: 3490, 3869200268: 3458, 3869200269: 3550, 3869200270: 777, 3869200271: 2970, 3869200272: 3511, 3869200273: 3286, 3869200274: 3302, 3869200275: 2380, 3869200276: 3555, 3869200277: 3200, 3869200278: 3410, 3869200279: 3512, 3869200280: 3369, 3869200281: 2644, 3869200282: 3255, 3869200283: 3356, 3869200284: 3524, 3869200285: 3531, 3869200286: 3529, 3869200287: 3126, 3869200288: 3311, 3869200289: 3474, 3869200290: 1239, 3869200291: 3320, 3869200292: 3470, 3869200293: 3495, 3869200294: 3424, 3869200295: 3164, 3869200296: 3440, 3869200297: 3541, 3869200298: 3404, 3869200299: 3522, 3869200300: 3417, 3869200301: 3258, 3869200302: 3463, 3869200303: 3519, 3869200304: 3562, 3869200305: 3554, 3869200306: 3266, 3869200307: 3514, 3869200308: 3451, 3869200309: 3246, 3869200310: 3563, 3869200311: 3562, 3869200312: 3558, 3869200313: 3209, 3869200314: 3350, 3869200315: 3468, 3869200316: 3542, 3869200317: 3307, 3869200318: 3492, 3869200319: 3243, 3869200320: 3502, 3869200321: 3563, 3869200322: 2651, 3869200323: 3555, 3869200324: 3281, 3869200325: 3130, 3869200326: 3374, 3869200327: 3302, 3869200328: 3168, 3869200329: 3509, 3869200330: 3245, 3869200331: 3281, 3869200332: 3544, 3869200333: 3560, 3869200334: 3354, 3869200335: 3443, 3869200336: 1201, 3869200337: 3425, 3869200338: 3530, 3869200339: 3541, 3869200340: 3482, 3869200341: 2891, 3869200342: 3524, 3869200343: 3469, 3869200344: 3480, 3869200345: 3317, 3869200346: 3038, 3869200347: 3170, 3869200348: 3511, 3869200349: 3439, 3869200350: 3160, 3869200351: 3310, 3869200352: 3563, 3869200353: 3559, 3869200354: 3374, 3869200355: 3317, 3869200356: 3445, 3869200357: 3557, 3869200358: 2929, 3869200359: 3406, 3869200360: 3503, 3869200361: 3433, 3869200362: 3425, 3869200363: 3460, 3869200364: 3352, 3869200365: 2787, 3869200366: 3281, 3869200367: 2993, 3869200368: 3321, 3869200369: 3097, 3869200370: 3541, 3869200371: 3543, 3869200372: 3151, 3869200373: 3165, 3869200374: 3556, 3869200375: 3339, 3869200376: 3360, 3869200377: 3550, 3869200378: 3366, 3869200379: 3351, 3869200380: 3421, 3869200381: 3529, 3869200382: 2186, 3869200383: 3002, 3869200384: 3427, 3869200385: 3548, 3869200386: 3402, 3869200387: 1616, 3869200388: 3073, 3869200389: 3547, 3869200390: 3241, 3869200391: 3375, 3869200392: 3484, 3869200393: 3491, 3869200394: 3391, 3869200395: 3535, 3869200396: 3562, 3869200397: 3336, 3869200398: 3562, 3869200399: 3448, 3869200400: 3506, 3869200401: 3448, 3869200402: 3519, 3869200403: 3349, 3869200404: 3496, 3869200405: 3227, 3869200406: 2982, 3869200407: 3528, 3869200408: 3169, 3869200409: 3558, 3869200410: 3441, 3869200411: 3168, 3869200412: 3198, 3869200413: 3451, 3869200414: 3253, 3869200415: 3246, 3869200416: 3290, 3869200417: 3429, 3869200418: 3375, 3869200419: 3383, 3869200420: 3526, 3869200421: 3474, 3869200422: 3412, 3869200423: 3442, 3869200424: 3351, 3869200425: 3295, 3869200426: 3340, 3869200427: 3515, 3869200428: 3048, 3869200429: 3554, 3869200430: 3296, 3869200431: 3313, 3869200432: 3541, 3869200433: 3334, 3869200434: 3324, 3869200435: 3259, 3869200436: 3503, 3869200437: 3157, 3869200438: 3317, 3869200439: 2997, 3869200440: 3563, 3869200441: 3555, 3869200442: 3522, 3869200443: 3534, 3869200444: 2951, 3869200445: 3400, 3869200446: 3534, 3869200447: 3556, 3869200448: 1277, 3869200449: 3445, 3869200450: 3450, 3869200451: 3340, 3869200452: 3208, 3869200453: 2984, 3869200454: 3376, 3869200455: 3260, 3869200456: 3492, 3869200457: 3190, 3869200458: 3217, 3869200459: 3248, 3869200460: 3412, 3869200461: 3204, 3869200462: 1190, 3869200463: 3370, 3869200464: 2916, 3869200465: 3398, 3869200466: 3560, 3869200467: 3445, 3869200468: 3529, 3869200469: 3273, 3869200470: 3402, 3869200471: 541, 3869200472: 2533, 3869200473: 3229, 3869200474: 3437, 3869200475: 3348, 3869200476: 3481, 3869200477: 3298, 3869200478: 3390, 3869200479: 3476, 3869200480: 3533, 3869200481: 3508, 3869200482: 3523, 3869200483: 3368, 3869200484: 1922, 3869200485: 3428, 3869200486: 3433, 3869200487: 3342, 3869200488: 3485, 3869200489: 3119, 3869200490: 3457, 3869200491: 3537, 3869200492: 3506, 3869200493: 3392, 3869200494: 3225, 3869200495: 3557, 3869200496: 3454, 3869200497: 3070, 3869200498: 3439, 3869200499: 3012, 3869200500: 2986, 3869200501: 3427, 3869200502: 3390, 3869200503: 3491, 3869200504: 3458, 3869200505: 3368, 3869200506: 3212, 3869200507: 3537, 3869200508: 3408, 3869200509: 2426, 3869200510: 3422, 3869200511: 3445, 3869200512: 3413, 3869200513: 3538, 3869200514: 3484, 3869200515: 3218, 3869200516: 3543, 3869200517: 3487, 3869200518: 3524, 3869200519: 2768, 3869200520: 2974, 3869200521: 3395, 3869200522: 3159, 3869200523: 3021, 3869200524: 3543, 3869200525: 3345, 3869200526: 3294, 3869200527: 3528, 3869200528: 3442, 3869200529: 3378, 3869200530: 3387, 3869200531: 3352, 3869200532: 3558, 3869200533: 3351, 3869200534: 3547, 3869200535: 3419, 3869200536: 3136, 3869200537: 2951, 3869200538: 3550, 3869200539: 3363, 3869200540: 3474, 3869200541: 3545, 3869200542: 3452, 3869200543: 3394, 3869200544: 3563, 3869200545: 3324, 3869200546: 3477, 3869200547: 3271, 3869200548: 3547, 3869200549: 3474, 3869200550: 3192, 3869200551: 3412, 3869200552: 3039, 3869200553: 3429, 3869200554: 3563, 3869200555: 3555, 3869200556: 3005, 3869200557: 3550, 3869200558: 3186, 3869200559: 3416, 3869200560: 2572, 3869200561: 3329, 3869200562: 3563, 3869200563: 3440, 3869200564: 3038, 3869200565: 3471, 3869200566: 3455, 3869200567: 3160, 3869200568: 3505, 3869200569: 3523, 3869200570: 3380, 3869200571: 2864, 3869200572: 3549, 3869200573: 3426, 3869200574: 3562, 3869200575: 3550, 3869200576: 3522, 3869200577: 3473, 3869200578: 2946, 3869200579: 2356, 3869200580: 2815, 3869200581: 3292, 3869200582: 3426, 3869200583: 3351, 3869200584: 2130, 3869200585: 3255, 3869200586: 3475, 3869200587: 3540, 3869200588: 3548, 3869200589: 2040, 3869200590: 3260, 3869200591: 3561, 3869200592: 3538, 3869200593: 3499, 3869200594: 3347, 3869200595: 3227, 3869200596: 3295, 3869200597: 3329, 3869200598: 3218, 3869200599: 3387, 3869200600: 3532, 3869200601: 3445, 3869200602: 3493, 3869200603: 1986, 3869200604: 2814, 3869200605: 3432, 3869200606: 3555, 3869200607: 1426, 3869200608: 3419, 3869200609: 2846, 3869200610: 3480, 3869200611: 3214, 3869200612: 1863, 3869200613: 3088, 3869200614: 3378, 3869200615: 3497, 3869200616: 3560, 3869200617: 2202, 3869200618: 2258, 3869200619: 3493, 3869200620: 3463, 3869200621: 1731, 3869200622: 3500, 3869200623: 3399, 3869200624: 2775, 3869200625: 3489, 3869200626: 3455, 3869200627: 3509, 3869200628: 3563, 3869200629: 3543, 3869200630: 3510, 3869200631: 1536, 3869200632: 3272, 3869200633: 3551, 3869200634: 3545, 3869200635: 3464, 3869200636: 2842, 3869200637: 3272, 3869200638: 3518, 3869200639: 3214, 3869200640: 2768, 3869200641: 3020, 3869200642: 3474, 3869200643: 3442, 3869200644: 3533, 3869200645: 2049, 3869200646: 2212, 3869200647: 3245, 3869200648: 3294, 3869200649: 3447, 3869200650: 2187, 3869200651: 3421, 3869200652: 3321, 3869200653: 3330, 3869200654: 3553, 3869200655: 3508, 3869200656: 3353, 3869200657: 3449, 3869200658: 3422, 3869200659: 2546, 3869200660: 2805, 3869200661: 3562, 3869200662: 3537, 3869200663: 422, 3869200664: 1191}\n"
     ]
    }
   ],
   "source": [
    "df2=pd.read_csv('data_000637.txt',nrows=50000,index_col=3)\n",
    "Unique_keys=np.unique(df2['BX_COUNTER'].keys())\n",
    "dic={}\n",
    "for key in Unique_keys:\n",
    "    dic[key]=df2['BX_COUNTER'][key].max()\n",
    "print(dic)\n"
   ]
  },
  {
   "cell_type": "code",
   "execution_count": 192,
   "metadata": {},
   "outputs": [
    {
     "name": "stdout",
     "output_type": "stream",
     "text": [
      "[[3869200167 3869200168 3869200169 ... 3869211169 3869211170 3869211171]\n",
      " [      3187       3538       2766 ...       3498       3527        769]]\n"
     ]
    }
   ],
   "source": [
    "\n",
    "df2=pd.read_csv('data_000637.txt')\n",
    "Unique_keys=np.unique(df2['ORBIT_CNT'])\n",
    "bx_max=[max(df2['BX_COUNTER'][df2['ORBIT_CNT']==key]) for key in Unique_keys] \n",
    "bx_orbit=np.array([Unique_keys,bx_max])\n",
    "print(bx_orbit)"
   ]
  },
  {
   "cell_type": "markdown",
   "metadata": {},
   "source": [
    "### Exercise 3"
   ]
  },
  {
   "cell_type": "code",
   "execution_count": 160,
   "metadata": {},
   "outputs": [],
   "source": [
    "df3=pd.read_csv('data_000637.txt',index_col=3,nrows=50000)\n",
    "Unique_keys=np.unique(df3['BX_COUNTER'].keys())\n",
    "bx=0\n",
    "n=1310720\n",
    "#df3['BX_COUNTER'][key]\n",
    "for key in Unique_keys:\n",
    "    lista=np.array(df3['BX_COUNTER'][key])\n",
    "    bx+=max(lista)*25*10**(-9)+np.array(df3['TDC_MEAS'][key])[np.argmax(lista)]*5/6*10**(-9)\n"
   ]
  },
  {
   "cell_type": "code",
   "execution_count": 161,
   "metadata": {},
   "outputs": [
    {
     "name": "stdout",
     "output_type": "stream",
     "text": [
      "The data acquisition took 1.0579647747413325 s\n"
     ]
    }
   ],
   "source": [
    "print('The data acquisition took',n*bx/50000,'s')\n"
   ]
  },
  {
   "cell_type": "markdown",
   "metadata": {},
   "source": [
    "### Exercise 4"
   ]
  },
  {
   "cell_type": "code",
   "execution_count": 184,
   "metadata": {},
   "outputs": [
    {
     "ename": "ValueError",
     "evalue": "Length of values does not match length of index",
     "output_type": "error",
     "traceback": [
      "\u001b[1;31m---------------------------------------------------------------------------\u001b[0m",
      "\u001b[1;31mValueError\u001b[0m                                Traceback (most recent call last)",
      "\u001b[1;32m<ipython-input-184-e49957be2736>\u001b[0m in \u001b[0;36m<module>\u001b[1;34m\u001b[0m\n\u001b[0;32m     13\u001b[0m     \u001b[0mi_tot\u001b[0m\u001b[1;33m+=\u001b[0m\u001b[0mi\u001b[0m\u001b[1;33m+\u001b[0m\u001b[1;36m1\u001b[0m\u001b[1;33m\u001b[0m\u001b[1;33m\u001b[0m\u001b[0m\n\u001b[0;32m     14\u001b[0m \u001b[0mTime_abs\u001b[0m\u001b[1;33m*=\u001b[0m\u001b[1;36m10\u001b[0m\u001b[1;33m**\u001b[0m\u001b[1;33m(\u001b[0m\u001b[1;33m-\u001b[0m\u001b[1;36m9\u001b[0m\u001b[1;33m)\u001b[0m\u001b[1;33m\u001b[0m\u001b[1;33m\u001b[0m\u001b[0m\n\u001b[1;32m---> 15\u001b[1;33m \u001b[0mdf3\u001b[0m\u001b[1;33m[\u001b[0m\u001b[1;34m'TIME_ABS'\u001b[0m\u001b[1;33m]\u001b[0m\u001b[1;33m=\u001b[0m\u001b[0mTime_abs\u001b[0m\u001b[1;33m\u001b[0m\u001b[1;33m\u001b[0m\u001b[0m\n\u001b[0m\u001b[0;32m     16\u001b[0m \u001b[0mdf3\u001b[0m\u001b[1;33m\u001b[0m\u001b[1;33m\u001b[0m\u001b[0m\n",
      "\u001b[1;32m~\\Anaconda3\\lib\\site-packages\\pandas\\core\\frame.py\u001b[0m in \u001b[0;36m__setitem__\u001b[1;34m(self, key, value)\u001b[0m\n\u001b[0;32m   3470\u001b[0m         \u001b[1;32melse\u001b[0m\u001b[1;33m:\u001b[0m\u001b[1;33m\u001b[0m\u001b[1;33m\u001b[0m\u001b[0m\n\u001b[0;32m   3471\u001b[0m             \u001b[1;31m# set column\u001b[0m\u001b[1;33m\u001b[0m\u001b[1;33m\u001b[0m\u001b[1;33m\u001b[0m\u001b[0m\n\u001b[1;32m-> 3472\u001b[1;33m             \u001b[0mself\u001b[0m\u001b[1;33m.\u001b[0m\u001b[0m_set_item\u001b[0m\u001b[1;33m(\u001b[0m\u001b[0mkey\u001b[0m\u001b[1;33m,\u001b[0m \u001b[0mvalue\u001b[0m\u001b[1;33m)\u001b[0m\u001b[1;33m\u001b[0m\u001b[1;33m\u001b[0m\u001b[0m\n\u001b[0m\u001b[0;32m   3473\u001b[0m \u001b[1;33m\u001b[0m\u001b[0m\n\u001b[0;32m   3474\u001b[0m     \u001b[1;32mdef\u001b[0m \u001b[0m_setitem_slice\u001b[0m\u001b[1;33m(\u001b[0m\u001b[0mself\u001b[0m\u001b[1;33m,\u001b[0m \u001b[0mkey\u001b[0m\u001b[1;33m,\u001b[0m \u001b[0mvalue\u001b[0m\u001b[1;33m)\u001b[0m\u001b[1;33m:\u001b[0m\u001b[1;33m\u001b[0m\u001b[1;33m\u001b[0m\u001b[0m\n",
      "\u001b[1;32m~\\Anaconda3\\lib\\site-packages\\pandas\\core\\frame.py\u001b[0m in \u001b[0;36m_set_item\u001b[1;34m(self, key, value)\u001b[0m\n\u001b[0;32m   3547\u001b[0m \u001b[1;33m\u001b[0m\u001b[0m\n\u001b[0;32m   3548\u001b[0m         \u001b[0mself\u001b[0m\u001b[1;33m.\u001b[0m\u001b[0m_ensure_valid_index\u001b[0m\u001b[1;33m(\u001b[0m\u001b[0mvalue\u001b[0m\u001b[1;33m)\u001b[0m\u001b[1;33m\u001b[0m\u001b[1;33m\u001b[0m\u001b[0m\n\u001b[1;32m-> 3549\u001b[1;33m         \u001b[0mvalue\u001b[0m \u001b[1;33m=\u001b[0m \u001b[0mself\u001b[0m\u001b[1;33m.\u001b[0m\u001b[0m_sanitize_column\u001b[0m\u001b[1;33m(\u001b[0m\u001b[0mkey\u001b[0m\u001b[1;33m,\u001b[0m \u001b[0mvalue\u001b[0m\u001b[1;33m)\u001b[0m\u001b[1;33m\u001b[0m\u001b[1;33m\u001b[0m\u001b[0m\n\u001b[0m\u001b[0;32m   3550\u001b[0m         \u001b[0mNDFrame\u001b[0m\u001b[1;33m.\u001b[0m\u001b[0m_set_item\u001b[0m\u001b[1;33m(\u001b[0m\u001b[0mself\u001b[0m\u001b[1;33m,\u001b[0m \u001b[0mkey\u001b[0m\u001b[1;33m,\u001b[0m \u001b[0mvalue\u001b[0m\u001b[1;33m)\u001b[0m\u001b[1;33m\u001b[0m\u001b[1;33m\u001b[0m\u001b[0m\n\u001b[0;32m   3551\u001b[0m \u001b[1;33m\u001b[0m\u001b[0m\n",
      "\u001b[1;32m~\\Anaconda3\\lib\\site-packages\\pandas\\core\\frame.py\u001b[0m in \u001b[0;36m_sanitize_column\u001b[1;34m(self, key, value, broadcast)\u001b[0m\n\u001b[0;32m   3732\u001b[0m \u001b[1;33m\u001b[0m\u001b[0m\n\u001b[0;32m   3733\u001b[0m             \u001b[1;31m# turn me into an ndarray\u001b[0m\u001b[1;33m\u001b[0m\u001b[1;33m\u001b[0m\u001b[1;33m\u001b[0m\u001b[0m\n\u001b[1;32m-> 3734\u001b[1;33m             \u001b[0mvalue\u001b[0m \u001b[1;33m=\u001b[0m \u001b[0msanitize_index\u001b[0m\u001b[1;33m(\u001b[0m\u001b[0mvalue\u001b[0m\u001b[1;33m,\u001b[0m \u001b[0mself\u001b[0m\u001b[1;33m.\u001b[0m\u001b[0mindex\u001b[0m\u001b[1;33m,\u001b[0m \u001b[0mcopy\u001b[0m\u001b[1;33m=\u001b[0m\u001b[1;32mFalse\u001b[0m\u001b[1;33m)\u001b[0m\u001b[1;33m\u001b[0m\u001b[1;33m\u001b[0m\u001b[0m\n\u001b[0m\u001b[0;32m   3735\u001b[0m             \u001b[1;32mif\u001b[0m \u001b[1;32mnot\u001b[0m \u001b[0misinstance\u001b[0m\u001b[1;33m(\u001b[0m\u001b[0mvalue\u001b[0m\u001b[1;33m,\u001b[0m \u001b[1;33m(\u001b[0m\u001b[0mnp\u001b[0m\u001b[1;33m.\u001b[0m\u001b[0mndarray\u001b[0m\u001b[1;33m,\u001b[0m \u001b[0mIndex\u001b[0m\u001b[1;33m)\u001b[0m\u001b[1;33m)\u001b[0m\u001b[1;33m:\u001b[0m\u001b[1;33m\u001b[0m\u001b[1;33m\u001b[0m\u001b[0m\n\u001b[0;32m   3736\u001b[0m                 \u001b[1;32mif\u001b[0m \u001b[0misinstance\u001b[0m\u001b[1;33m(\u001b[0m\u001b[0mvalue\u001b[0m\u001b[1;33m,\u001b[0m \u001b[0mlist\u001b[0m\u001b[1;33m)\u001b[0m \u001b[1;32mand\u001b[0m \u001b[0mlen\u001b[0m\u001b[1;33m(\u001b[0m\u001b[0mvalue\u001b[0m\u001b[1;33m)\u001b[0m \u001b[1;33m>\u001b[0m \u001b[1;36m0\u001b[0m\u001b[1;33m:\u001b[0m\u001b[1;33m\u001b[0m\u001b[1;33m\u001b[0m\u001b[0m\n",
      "\u001b[1;32m~\\Anaconda3\\lib\\site-packages\\pandas\\core\\internals\\construction.py\u001b[0m in \u001b[0;36msanitize_index\u001b[1;34m(data, index, copy)\u001b[0m\n\u001b[0;32m    610\u001b[0m \u001b[1;33m\u001b[0m\u001b[0m\n\u001b[0;32m    611\u001b[0m     \u001b[1;32mif\u001b[0m \u001b[0mlen\u001b[0m\u001b[1;33m(\u001b[0m\u001b[0mdata\u001b[0m\u001b[1;33m)\u001b[0m \u001b[1;33m!=\u001b[0m \u001b[0mlen\u001b[0m\u001b[1;33m(\u001b[0m\u001b[0mindex\u001b[0m\u001b[1;33m)\u001b[0m\u001b[1;33m:\u001b[0m\u001b[1;33m\u001b[0m\u001b[1;33m\u001b[0m\u001b[0m\n\u001b[1;32m--> 612\u001b[1;33m         \u001b[1;32mraise\u001b[0m \u001b[0mValueError\u001b[0m\u001b[1;33m(\u001b[0m\u001b[1;34m\"Length of values does not match length of index\"\u001b[0m\u001b[1;33m)\u001b[0m\u001b[1;33m\u001b[0m\u001b[1;33m\u001b[0m\u001b[0m\n\u001b[0m\u001b[0;32m    613\u001b[0m \u001b[1;33m\u001b[0m\u001b[0m\n\u001b[0;32m    614\u001b[0m     \u001b[1;32mif\u001b[0m \u001b[0misinstance\u001b[0m\u001b[1;33m(\u001b[0m\u001b[0mdata\u001b[0m\u001b[1;33m,\u001b[0m \u001b[0mABCIndexClass\u001b[0m\u001b[1;33m)\u001b[0m \u001b[1;32mand\u001b[0m \u001b[1;32mnot\u001b[0m \u001b[0mcopy\u001b[0m\u001b[1;33m:\u001b[0m\u001b[1;33m\u001b[0m\u001b[1;33m\u001b[0m\u001b[0m\n",
      "\u001b[1;31mValueError\u001b[0m: Length of values does not match length of index"
     ]
    }
   ],
   "source": [
    "df3=pd.read_csv('data_000637.txt',index_col=3,nrows=50000)\n",
    "\n",
    "Time_abs=np.zeros(n)\n",
    "i_tot=0\n",
    "prev_time=0\n",
    "for key in Unique_keys:\n",
    "    bx=np.array(df3['BX_COUNTER'][key])*25\n",
    "    tdc=np.array(df3['TDC_MEAS'][key])*(5/6)\n",
    "    for i in range(len(df3['BX_COUNTER'][key])):\n",
    "        i_now=i_tot+i\n",
    "        Time_abs[i_now]=bx[i]+tdc[i]+prev_time\n",
    "    prev_time=max(Time_abs[i_tot:])\n",
    "    i_tot+=i+1\n",
    "Time_abs*=10**(-9)\n",
    "df3['TIME_ABS']=Time_abs\n",
    "df3"
   ]
  },
  {
   "cell_type": "markdown",
   "metadata": {
    "run_control": {
     "marked": false
    }
   },
   "source": [
    "### Exercise 5"
   ]
  },
  {
   "cell_type": "code",
   "execution_count": 76,
   "metadata": {},
   "outputs": [
    {
     "data": {
      "text/html": [
       "<div>\n",
       "<style scoped>\n",
       "    .dataframe tbody tr th:only-of-type {\n",
       "        vertical-align: middle;\n",
       "    }\n",
       "\n",
       "    .dataframe tbody tr th {\n",
       "        vertical-align: top;\n",
       "    }\n",
       "\n",
       "    .dataframe thead th {\n",
       "        text-align: right;\n",
       "    }\n",
       "</style>\n",
       "<table border=\"1\" class=\"dataframe\">\n",
       "  <thead>\n",
       "    <tr style=\"text-align: right;\">\n",
       "      <th></th>\n",
       "      <th>HEAD</th>\n",
       "      <th>FPGA</th>\n",
       "      <th>TDC_CHANNEL</th>\n",
       "      <th>BX_COUNTER</th>\n",
       "      <th>TDC_MEAS</th>\n",
       "      <th>TIME_ABS</th>\n",
       "    </tr>\n",
       "    <tr>\n",
       "      <th>ORBIT_CNT</th>\n",
       "      <th></th>\n",
       "      <th></th>\n",
       "      <th></th>\n",
       "      <th></th>\n",
       "      <th></th>\n",
       "      <th></th>\n",
       "    </tr>\n",
       "  </thead>\n",
       "  <tbody>\n",
       "    <tr>\n",
       "      <td>3869200167</td>\n",
       "      <td>0</td>\n",
       "      <td>0</td>\n",
       "      <td>123</td>\n",
       "      <td>2374</td>\n",
       "      <td>26</td>\n",
       "      <td>0.000059</td>\n",
       "    </tr>\n",
       "    <tr>\n",
       "      <td>3869200167</td>\n",
       "      <td>0</td>\n",
       "      <td>0</td>\n",
       "      <td>124</td>\n",
       "      <td>2374</td>\n",
       "      <td>27</td>\n",
       "      <td>0.000059</td>\n",
       "    </tr>\n",
       "    <tr>\n",
       "      <td>3869200167</td>\n",
       "      <td>0</td>\n",
       "      <td>0</td>\n",
       "      <td>63</td>\n",
       "      <td>2553</td>\n",
       "      <td>28</td>\n",
       "      <td>0.000064</td>\n",
       "    </tr>\n",
       "    <tr>\n",
       "      <td>3869200167</td>\n",
       "      <td>1</td>\n",
       "      <td>0</td>\n",
       "      <td>64</td>\n",
       "      <td>2558</td>\n",
       "      <td>19</td>\n",
       "      <td>0.000064</td>\n",
       "    </tr>\n",
       "    <tr>\n",
       "      <td>3869200167</td>\n",
       "      <td>1</td>\n",
       "      <td>0</td>\n",
       "      <td>64</td>\n",
       "      <td>2760</td>\n",
       "      <td>25</td>\n",
       "      <td>0.000069</td>\n",
       "    </tr>\n",
       "    <tr>\n",
       "      <td>...</td>\n",
       "      <td>...</td>\n",
       "      <td>...</td>\n",
       "      <td>...</td>\n",
       "      <td>...</td>\n",
       "      <td>...</td>\n",
       "      <td>...</td>\n",
       "    </tr>\n",
       "    <tr>\n",
       "      <td>3869200664</td>\n",
       "      <td>1</td>\n",
       "      <td>1</td>\n",
       "      <td>2</td>\n",
       "      <td>1103</td>\n",
       "      <td>4</td>\n",
       "      <td>0.040356</td>\n",
       "    </tr>\n",
       "    <tr>\n",
       "      <td>3869200664</td>\n",
       "      <td>1</td>\n",
       "      <td>1</td>\n",
       "      <td>4</td>\n",
       "      <td>1105</td>\n",
       "      <td>14</td>\n",
       "      <td>0.040356</td>\n",
       "    </tr>\n",
       "    <tr>\n",
       "      <td>3869200664</td>\n",
       "      <td>0</td>\n",
       "      <td>0</td>\n",
       "      <td>59</td>\n",
       "      <td>1191</td>\n",
       "      <td>17</td>\n",
       "      <td>0.040359</td>\n",
       "    </tr>\n",
       "    <tr>\n",
       "      <td>3869200664</td>\n",
       "      <td>0</td>\n",
       "      <td>0</td>\n",
       "      <td>32</td>\n",
       "      <td>1191</td>\n",
       "      <td>1</td>\n",
       "      <td>0.040359</td>\n",
       "    </tr>\n",
       "    <tr>\n",
       "      <td>3869200664</td>\n",
       "      <td>1</td>\n",
       "      <td>0</td>\n",
       "      <td>60</td>\n",
       "      <td>1190</td>\n",
       "      <td>6</td>\n",
       "      <td>0.040359</td>\n",
       "    </tr>\n",
       "  </tbody>\n",
       "</table>\n",
       "<p>50000 rows × 6 columns</p>\n",
       "</div>"
      ],
      "text/plain": [
       "            HEAD  FPGA  TDC_CHANNEL  BX_COUNTER  TDC_MEAS  TIME_ABS\n",
       "ORBIT_CNT                                                          \n",
       "3869200167     0     0          123        2374        26  0.000059\n",
       "3869200167     0     0          124        2374        27  0.000059\n",
       "3869200167     0     0           63        2553        28  0.000064\n",
       "3869200167     1     0           64        2558        19  0.000064\n",
       "3869200167     1     0           64        2760        25  0.000069\n",
       "...          ...   ...          ...         ...       ...       ...\n",
       "3869200664     1     1            2        1103         4  0.040356\n",
       "3869200664     1     1            4        1105        14  0.040356\n",
       "3869200664     0     0           59        1191        17  0.040359\n",
       "3869200664     0     0           32        1191         1  0.040359\n",
       "3869200664     1     0           60        1190         6  0.040359\n",
       "\n",
       "[50000 rows x 6 columns]"
      ]
     },
     "execution_count": 76,
     "metadata": {},
     "output_type": "execute_result"
    }
   ],
   "source": [
    "df3['HEAD']=np.random.randint(0,2,50000)\n",
    "df3"
   ]
  },
  {
   "cell_type": "markdown",
   "metadata": {},
   "source": [
    "### Exercise 6"
   ]
  },
  {
   "cell_type": "code",
   "execution_count": 77,
   "metadata": {},
   "outputs": [],
   "source": [
    "df4=df3[df3['HEAD']==1]"
   ]
  },
  {
   "cell_type": "code",
   "execution_count": 78,
   "metadata": {},
   "outputs": [
    {
     "data": {
      "text/html": [
       "<div>\n",
       "<style scoped>\n",
       "    .dataframe tbody tr th:only-of-type {\n",
       "        vertical-align: middle;\n",
       "    }\n",
       "\n",
       "    .dataframe tbody tr th {\n",
       "        vertical-align: top;\n",
       "    }\n",
       "\n",
       "    .dataframe thead th {\n",
       "        text-align: right;\n",
       "    }\n",
       "</style>\n",
       "<table border=\"1\" class=\"dataframe\">\n",
       "  <thead>\n",
       "    <tr style=\"text-align: right;\">\n",
       "      <th></th>\n",
       "      <th>HEAD</th>\n",
       "      <th>FPGA</th>\n",
       "      <th>TDC_CHANNEL</th>\n",
       "      <th>BX_COUNTER</th>\n",
       "      <th>TDC_MEAS</th>\n",
       "      <th>TIME_ABS</th>\n",
       "    </tr>\n",
       "    <tr>\n",
       "      <th>ORBIT_CNT</th>\n",
       "      <th></th>\n",
       "      <th></th>\n",
       "      <th></th>\n",
       "      <th></th>\n",
       "      <th></th>\n",
       "      <th></th>\n",
       "    </tr>\n",
       "  </thead>\n",
       "  <tbody>\n",
       "    <tr>\n",
       "      <td>3869200167</td>\n",
       "      <td>1</td>\n",
       "      <td>0</td>\n",
       "      <td>64</td>\n",
       "      <td>2558</td>\n",
       "      <td>19</td>\n",
       "      <td>0.000064</td>\n",
       "    </tr>\n",
       "    <tr>\n",
       "      <td>3869200167</td>\n",
       "      <td>1</td>\n",
       "      <td>0</td>\n",
       "      <td>64</td>\n",
       "      <td>2760</td>\n",
       "      <td>25</td>\n",
       "      <td>0.000069</td>\n",
       "    </tr>\n",
       "    <tr>\n",
       "      <td>3869200167</td>\n",
       "      <td>1</td>\n",
       "      <td>0</td>\n",
       "      <td>63</td>\n",
       "      <td>2762</td>\n",
       "      <td>4</td>\n",
       "      <td>0.000069</td>\n",
       "    </tr>\n",
       "    <tr>\n",
       "      <td>3869200167</td>\n",
       "      <td>1</td>\n",
       "      <td>0</td>\n",
       "      <td>61</td>\n",
       "      <td>2772</td>\n",
       "      <td>14</td>\n",
       "      <td>0.000069</td>\n",
       "    </tr>\n",
       "    <tr>\n",
       "      <td>3869200167</td>\n",
       "      <td>1</td>\n",
       "      <td>0</td>\n",
       "      <td>60</td>\n",
       "      <td>2788</td>\n",
       "      <td>7</td>\n",
       "      <td>0.000070</td>\n",
       "    </tr>\n",
       "    <tr>\n",
       "      <td>...</td>\n",
       "      <td>...</td>\n",
       "      <td>...</td>\n",
       "      <td>...</td>\n",
       "      <td>...</td>\n",
       "      <td>...</td>\n",
       "      <td>...</td>\n",
       "    </tr>\n",
       "    <tr>\n",
       "      <td>3869200664</td>\n",
       "      <td>1</td>\n",
       "      <td>1</td>\n",
       "      <td>6</td>\n",
       "      <td>1103</td>\n",
       "      <td>18</td>\n",
       "      <td>0.040356</td>\n",
       "    </tr>\n",
       "    <tr>\n",
       "      <td>3869200664</td>\n",
       "      <td>1</td>\n",
       "      <td>1</td>\n",
       "      <td>52</td>\n",
       "      <td>1102</td>\n",
       "      <td>16</td>\n",
       "      <td>0.040356</td>\n",
       "    </tr>\n",
       "    <tr>\n",
       "      <td>3869200664</td>\n",
       "      <td>1</td>\n",
       "      <td>1</td>\n",
       "      <td>2</td>\n",
       "      <td>1103</td>\n",
       "      <td>4</td>\n",
       "      <td>0.040356</td>\n",
       "    </tr>\n",
       "    <tr>\n",
       "      <td>3869200664</td>\n",
       "      <td>1</td>\n",
       "      <td>1</td>\n",
       "      <td>4</td>\n",
       "      <td>1105</td>\n",
       "      <td>14</td>\n",
       "      <td>0.040356</td>\n",
       "    </tr>\n",
       "    <tr>\n",
       "      <td>3869200664</td>\n",
       "      <td>1</td>\n",
       "      <td>0</td>\n",
       "      <td>60</td>\n",
       "      <td>1190</td>\n",
       "      <td>6</td>\n",
       "      <td>0.040359</td>\n",
       "    </tr>\n",
       "  </tbody>\n",
       "</table>\n",
       "<p>24929 rows × 6 columns</p>\n",
       "</div>"
      ],
      "text/plain": [
       "            HEAD  FPGA  TDC_CHANNEL  BX_COUNTER  TDC_MEAS  TIME_ABS\n",
       "ORBIT_CNT                                                          \n",
       "3869200167     1     0           64        2558        19  0.000064\n",
       "3869200167     1     0           64        2760        25  0.000069\n",
       "3869200167     1     0           63        2762         4  0.000069\n",
       "3869200167     1     0           61        2772        14  0.000069\n",
       "3869200167     1     0           60        2788         7  0.000070\n",
       "...          ...   ...          ...         ...       ...       ...\n",
       "3869200664     1     1            6        1103        18  0.040356\n",
       "3869200664     1     1           52        1102        16  0.040356\n",
       "3869200664     1     1            2        1103         4  0.040356\n",
       "3869200664     1     1            4        1105        14  0.040356\n",
       "3869200664     1     0           60        1190         6  0.040359\n",
       "\n",
       "[24929 rows x 6 columns]"
      ]
     },
     "execution_count": 78,
     "metadata": {},
     "output_type": "execute_result"
    }
   ],
   "source": [
    "df4"
   ]
  },
  {
   "cell_type": "markdown",
   "metadata": {},
   "source": [
    "### Exercise 7"
   ]
  },
  {
   "cell_type": "code",
   "execution_count": 182,
   "metadata": {},
   "outputs": [
    {
     "name": "stdout",
     "output_type": "stream",
     "text": [
      "139\n"
     ]
    },
    {
     "data": {
      "image/png": "[encoded data removed]",
      "text/plain": [
       "<Figure size 432x288 with 1 Axes>"
      ]
     },
     "metadata": {
      "needs_background": "light"
     },
     "output_type": "display_data"
    },
    {
     "data": {
      "image/png": "[encoded data removed]",
      "text/plain": [
       "<Figure size 432x288 with 1 Axes>"
      ]
     },
     "metadata": {
      "needs_background": "light"
     },
     "output_type": "display_data"
    }
   ],
   "source": [
    "import matplotlib.pyplot as plt\n",
    "df3=pd.read_csv('data_000637.txt',index_col=3)\n",
    "tdc0=df3['TDC_CHANNEL'][df3['FPGA']==0]\n",
    "print(max(tdc0))\n",
    "tdc1=df3['TDC_CHANNEL'][df3['FPGA']==1]\n",
    "hist0,edge0=np.histogram(tdc0,bins=(max(tdc0)-1))\n",
    "hist1,edge1=np.histogram(tdc1,bins=max(tdc1))\n",
    "\n",
    "\n",
    "plt.bar(edge0[:-1],hist0)\n",
    "plt.xlabel('TDC CHANNEL')\n",
    "plt.ylabel('TDC Count')\n",
    "plt.title('FPGA 0')\n",
    "plt.show()\n",
    "plt.bar(edge1[:-1],hist1,color='r')\n",
    "plt.xlabel('TDC CHANNEL')\n",
    "plt.ylabel('TDC Count')\n",
    "plt.title('FPGA 1')\n",
    "plt.show()"
   ]
  },
  {
   "cell_type": "markdown",
   "metadata": {},
   "source": [
    "### Exercise 8"
   ]
  },
  {
   "cell_type": "code",
   "execution_count": 164,
   "metadata": {},
   "outputs": [],
   "source": [
    "\n",
    "df30=df3[df3['FPGA']==0]\n",
    "tdc0=df30.groupby('TDC_CHANNEL').sum()\n",
    "df31=df3[df3['FPGA']==1]\n",
    "tdc1=df31.groupby('TDC_CHANNEL').sum()"
   ]
  },
  {
   "cell_type": "code",
   "execution_count": 165,
   "metadata": {},
   "outputs": [
    {
     "name": "stdout",
     "output_type": "stream",
     "text": [
      "The noisiest channels on FPGA0 are \n",
      " \n",
      "               HEAD  FPGA  BX_COUNTER  TDC_MEAS\n",
      "TDC_CHANNEL                                   \n",
      "139          75617     0   134482540         0\n",
      "64           64581     0   115180305    941085\n",
      "63           63724     0   113828187    924689 \n",
      " \n",
      " \n",
      "\n",
      "The noisiest channels on FPGA1 are \n",
      " \n",
      "               HEAD   FPGA  BX_COUNTER  TDC_MEAS\n",
      "TDC_CHANNEL                                    \n",
      "2            32669  32669    58194220    475221\n",
      "139          32442  32442    57995164         0\n",
      "1            28438  28438    50854862    413328 \n",
      " \n",
      " \n",
      "\n"
     ]
    }
   ],
   "source": [
    "sorted0=tdc0.sort_values('HEAD')[::-1]\n",
    "print('The noisiest channels on FPGA0 are \\n \\n',sorted0[:3],'\\n \\n \\n')\n",
    "sorted1=tdc1.sort_values('HEAD')[::-1]\n",
    "print('The noisiest channels on FPGA1 are \\n \\n',sorted1[:3],'\\n \\n \\n')"
   ]
  },
  {
   "cell_type": "markdown",
   "metadata": {},
   "source": [
    "### Exercise 9 "
   ]
  },
  {
   "cell_type": "code",
   "execution_count": 167,
   "metadata": {},
   "outputs": [
    {
     "name": "stdout",
     "output_type": "stream",
     "text": [
      "There are 11001 Unique orbits\n"
     ]
    }
   ],
   "source": [
    "print('There are',len(np.unique(df3['BX_COUNTER'].keys())), 'Unique orbits')"
   ]
  },
  {
   "cell_type": "code",
   "execution_count": 183,
   "metadata": {},
   "outputs": [
    {
     "name": "stdout",
     "output_type": "stream",
     "text": [
      "There are 10976 Unique orbits with at least one measurement from TDC Channel 139\n"
     ]
    }
   ],
   "source": [
    "df6=df3[df3['TDC_CHANNEL']==139]\n",
    "print('There are',len(np.unique(df6['BX_COUNTER'].keys())), 'Unique orbits with at least one measurement from TDC Channel 139')"
   ]
  },
  {
   "cell_type": "code",
   "execution_count": null,
   "metadata": {},
   "outputs": [],
   "source": []
  }
 ],
 "metadata": {
  "kernelspec": {
   "display_name": "Python 3",
   "language": "python",
   "name": "python3"
  },
  "language_info": {
   "codemirror_mode": {
    "name": "ipython",
    "version": 3
   },
   "file_extension": ".py",
   "mimetype": "text/x-python",
   "name": "python",
   "nbconvert_exporter": "python",
   "pygments_lexer": "ipython3",
   "version": "3.7.4"
  },
  "toc": {
   "base_numbering": 1,
   "nav_menu": {},
   "number_sections": true,
   "sideBar": true,
   "skip_h1_title": false,
   "title_cell": "Table of Contents",
   "title_sidebar": "Contents",
   "toc_cell": false,
   "toc_position": {},
   "toc_section_display": true,
   "toc_window_display": true
  },
  "varInspector": {
   "cols": {
    "lenName": 16,
    "lenType": 16,
    "lenVar": 40
   },
   "kernels_config": {
    "python": {
     "delete_cmd_postfix": "",
     "delete_cmd_prefix": "del ",
     "library": "var_list.py",
     "varRefreshCmd": "print(var_dic_list())"
    },
    "r": {
     "delete_cmd_postfix": ") ",
     "delete_cmd_prefix": "rm(",
     "library": "var_list.r",
     "varRefreshCmd": "cat(var_dic_list()) "
    }
   },
   "oldHeight": 307.208,
   "position": {
    "height": "40px",
    "left": "1193.61px",
    "right": "20px",
    "top": "106.958px",
    "width": "495.5px"
   },
   "types_to_exclude": [
    "module",
    "function",
    "builtin_function_or_method",
    "instance",
    "_Feature"
   ],
   "varInspector_section_display": "none",
   "window_display": true
  }
 },
 "nbformat": 4,
 "nbformat_minor": 2
}
