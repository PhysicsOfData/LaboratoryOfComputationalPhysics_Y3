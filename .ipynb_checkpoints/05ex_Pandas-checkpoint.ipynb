{
 "cells": [
  {
   "cell_type": "markdown",
   "metadata": {},
   "source": [
    "## Pandas analysis\n",
    "\n",
    "This exercise consists in analyzing a dataset containg timing information from a series of Time-to-Digital-Converters (TDC) implemented in a couple of FPGAs. Each measurement (i.e. each row of the input file) consists of a flag that specifies the type of message ('HEAD', which in this case is always 1), two addresses of the TDC providing the signal ('FPGA' and 'TDC_CHANNEL'), and the timing information ('ORBIT_CNT', 'BX_COUNTER', and 'TDC_MEAS'). Each TDC count corresponds to 25/30 ns, whereas a unit of BX_COUNTER corresponds to 25 ns, and the ORBIT_CNT is increased every 'x' BX_COUNTER. This allows to store the time in a similar way to hours, minutes and seconds."
   ]
  },
  {
   "cell_type": "code",
   "execution_count": 1,
   "metadata": {},
   "outputs": [
    {
     "name": "stdout",
     "output_type": "stream",
     "text": [
      "--2020-11-23 11:19:17--  https://www.dropbox.com/s/xvjzaxzz3ysphme/data_000637.txt\n",
      "Risoluzione di www.dropbox.com (www.dropbox.com)... 162.125.69.1, 2620:100:6025:1::a27d:4501\n",
      "Connessione a www.dropbox.com (www.dropbox.com)|162.125.69.1|:443... connesso.\n",
      "Richiesta HTTP inviata, in attesa di risposta... 301 Moved Permanently\n",
      "Posizione: /s/raw/xvjzaxzz3ysphme/data_000637.txt [segue]\n",
      "--2020-11-23 11:19:17--  https://www.dropbox.com/s/raw/xvjzaxzz3ysphme/data_000637.txt\n",
      "Riutilizzo della connessione esistente a www.dropbox.com:443.\n",
      "Richiesta HTTP inviata, in attesa di risposta... 302 Found\n",
      "Posizione: https://uc5ad4ea03adea8bc0ed5d19e621.dl.dropboxusercontent.com/cd/0/inline/BDsMPaabFqY9EpGlnWWsXGOExdeVPg-bw4cJMlfml82asmktkicv_NTjSa5-0i9uCdi0Fbskkjr5GtGA6Ef_hPnHBpifLPYkQS_wOHPkOAw69rELkZUKdXl9EqKBazS_gCw/file# [segue]\n",
      "--2020-11-23 11:19:18--  https://uc5ad4ea03adea8bc0ed5d19e621.dl.dropboxusercontent.com/cd/0/inline/BDsMPaabFqY9EpGlnWWsXGOExdeVPg-bw4cJMlfml82asmktkicv_NTjSa5-0i9uCdi0Fbskkjr5GtGA6Ef_hPnHBpifLPYkQS_wOHPkOAw69rELkZUKdXl9EqKBazS_gCw/file\n",
      "Risoluzione di uc5ad4ea03adea8bc0ed5d19e621.dl.dropboxusercontent.com (uc5ad4ea03adea8bc0ed5d19e621.dl.dropboxusercontent.com)... 162.125.69.15, 2620:100:6025:15::a27d:450f\n",
      "Connessione a uc5ad4ea03adea8bc0ed5d19e621.dl.dropboxusercontent.com (uc5ad4ea03adea8bc0ed5d19e621.dl.dropboxusercontent.com)|162.125.69.15|:443... connesso.\n",
      "Richiesta HTTP inviata, in attesa di risposta... 200 OK\n",
      "Lunghezza: 33179236 (32M) [text/plain]\n",
      "Salvataggio in: \"/home/michele/data/data_000637.txt\"\n",
      "\n",
      "data_000637.txt     100%[===================>]  31,64M  14,0MB/s    in 2,3s    \n",
      "\n",
      "2020-11-23 11:19:20 (14,0 MB/s) - \"/home/michele/data/data_000637.txt\" salvato [33179236/33179236]\n",
      "\n"
     ]
    }
   ],
   "source": [
    "# If you didn't download it yet, please get the relevant file now!\n",
    "!wget https://www.dropbox.com/s/xvjzaxzz3ysphme/data_000637.txt -P ~/data/"
   ]
  },
  {
   "cell_type": "markdown",
   "metadata": {},
   "source": [
    "1\\. Create a Pandas DataFrame reading N rows of the 'data_000637.txt' dataset. Choose N to be smaller than or equal to the maximum number of rows and larger that 10k.\n",
    "\n",
    "2\\. Find out the number of BX in a ORBIT (the value 'x').\n",
    "\n",
    "3\\. Find out how much the data taking lasted. You can either make an estimate based on the fraction of the measurements (rows) you read, or perform this check precisely by reading out the whole dataset.\n",
    "\n",
    "4\\. Create a new column with the absolute time in ns (as a combination of the other three columns with timing information).\n",
    "\n",
    "5\\. Replace the values (all 1) of the HEAD column randomly with 0 or 1.\n",
    "\n",
    "6\\. Create a new DataFrame that contains only the rows with HEAD=1.\n",
    "\n",
    "7\\. Make two occupancy plots (one for each FPGA), i.e. plot the number of counts per TDC channel\n",
    "\n",
    "8\\. Use the groupby method to find out the noisy channels, i.e. the TDC channels with most counts (say the top 3)\n",
    "\n",
    "9\\. Count the number of unique orbits. Count the number of unique orbits with at least one measurement from TDC_CHANNEL=139"
   ]
  },
  {
   "cell_type": "code",
   "execution_count": 3,
   "metadata": {},
   "outputs": [
    {
     "name": "stdout",
     "output_type": "stream",
     "text": [
      "00ex_introduction.ipynb\t\t credit_card.dat\r\n",
      "00_introduction.ipynb\t\t data.csv\r\n",
      "01ex_Fundamentals.ipynb\t\t data.txt\r\n",
      "01_Fundamentals.ipynb\t\t example.hdf5\r\n",
      "02ex_NumberRepresentation.ipynb  numpy_broadcasting.png\r\n",
      "02_NumberRepresentation.ipynb\t numpy_fancy_indexing.png\r\n",
      "03ex_Numpy.ipynb\t\t numpy_indexing.png\r\n",
      "03_Numpy.ipynb\t\t\t populations.txt\r\n",
      "04ex_OSEMN.ipynb\t\t profile.png\r\n",
      "04_OSEMN.ipynb\t\t\t README.md\r\n",
      "05ex_Pandas.ipynb\t\t simple_data.txt\r\n",
      "05_Pandas.ipynb\t\t\t Untitled.ipynb\r\n",
      "06ex_Visualization.ipynb\t user_data.json\r\n",
      "06_Visualization.ipynb\r\n"
     ]
    }
   ],
   "source": [
    "#1\n",
    "!ls "
   ]
  },
  {
   "cell_type": "code",
   "execution_count": null,
   "metadata": {},
   "outputs": [],
   "source": []
  }
 ],
 "metadata": {
  "kernelspec": {
   "display_name": "Python 3",
   "language": "python",
   "name": "python3"
  },
  "language_info": {
   "codemirror_mode": {
    "name": "ipython",
    "version": 3
   },
   "file_extension": ".py",
   "mimetype": "text/x-python",
   "name": "python",
   "nbconvert_exporter": "python",
   "pygments_lexer": "ipython3",
   "version": "3.8.5"
  }
 },
 "nbformat": 4,
 "nbformat_minor": 2
}
