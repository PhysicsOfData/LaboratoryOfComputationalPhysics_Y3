{
 "cells": [
  {
   "cell_type": "code",
   "execution_count": 1,
   "metadata": {},
   "outputs": [],
   "source": [
    "import numpy as np\n",
    "import matplotlib.pyplot as plt\n",
    "%matplotlib inline\n",
    "from scipy import linalg as la\n",
    "import pandas as pd"
   ]
  },
  {
   "cell_type": "markdown",
   "metadata": {},
   "source": [
    "1\\. **PCA on 3D dataset**\n",
    "\n",
    "* Generate a dataset with 3 features each with N entries (N being ${\\cal O}(1000)$). With $N(\\mu,\\sigma)$ the normal distribution with mean $\\mu$ and $\\sigma$  standard deviation, generate the 3 variables $x_{1,2,3}$ such that:\n",
    "    * $x_1$ is distributed as $N(0,1)$\n",
    "    * $x_2$ is distributed as $x_1+N(0,3)$\n",
    "    * $x_3$ is given by $2x_1+x_2$\n",
    "* Find the eigenvectors and eigenvalues of the covariance matrix of the dataset\n",
    "* Find the eigenvectors and eigenvalues using SVD. Check that the two procedures yield to same result\n",
    "* What percent of the total dataset's variability is explained by the principal components? Given how the dataset was constructed, do these make sense? Reduce the dimensionality of the system so that at least 99% of the total variability is retained.\n",
    "* Redefine the data in the basis yielded by the PCA procedure\n",
    "* Plot the data points in the original and the new coordiantes as a set of scatter plots. Your final figure should have 2 rows of 3 plots each, where the columns show the (0,1), (0,2) and (1,2) proejctions.\n"
   ]
  },
  {
   "cell_type": "code",
   "execution_count": 19,
   "metadata": {},
   "outputs": [
    {
     "name": "stdout",
     "output_type": "stream",
     "text": [
      "normal:  [ 7.10542736e-15+0.00000000e+00j  4.47082917e+01+0.00000000e+00j\n",
      "  2.18359899e+01+0.00000000e+00j -7.93579349e-16+0.00000000e+00j\n",
      "  1.38823468e-15+0.00000000e+00j  8.94743306e-16+0.00000000e+00j\n",
      "  6.80199127e-16+0.00000000e+00j  8.98034896e-17+2.34200199e-16j\n",
      "  8.98034896e-17-2.34200199e-16j -1.17182016e-17+0.00000000e+00j]\n",
      "SVD:  [19.95695209  8.62648037  1.06644201]\n"
     ]
    },
    {
     "data": {
      "text/html": [
       "<div>\n",
       "<style scoped>\n",
       "    .dataframe tbody tr th:only-of-type {\n",
       "        vertical-align: middle;\n",
       "    }\n",
       "\n",
       "    .dataframe tbody tr th {\n",
       "        vertical-align: top;\n",
       "    }\n",
       "\n",
       "    .dataframe thead th {\n",
       "        text-align: right;\n",
       "    }\n",
       "</style>\n",
       "<table border=\"1\" class=\"dataframe\">\n",
       "  <thead>\n",
       "    <tr style=\"text-align: right;\">\n",
       "      <th></th>\n",
       "      <th>x_1</th>\n",
       "      <th>x_2</th>\n",
       "      <th>x_3</th>\n",
       "    </tr>\n",
       "  </thead>\n",
       "  <tbody>\n",
       "    <tr>\n",
       "      <th>0</th>\n",
       "      <td>0.857213</td>\n",
       "      <td>-1.632160</td>\n",
       "      <td>-3.047619</td>\n",
       "    </tr>\n",
       "    <tr>\n",
       "      <th>1</th>\n",
       "      <td>0.221219</td>\n",
       "      <td>-4.848875</td>\n",
       "      <td>-4.056908</td>\n",
       "    </tr>\n",
       "    <tr>\n",
       "      <th>2</th>\n",
       "      <td>1.159569</td>\n",
       "      <td>4.852455</td>\n",
       "      <td>3.723159</td>\n",
       "    </tr>\n",
       "    <tr>\n",
       "      <th>3</th>\n",
       "      <td>1.617132</td>\n",
       "      <td>6.860943</td>\n",
       "      <td>-2.058051</td>\n",
       "    </tr>\n",
       "    <tr>\n",
       "      <th>4</th>\n",
       "      <td>-1.093078</td>\n",
       "      <td>-1.926173</td>\n",
       "      <td>-4.611888</td>\n",
       "    </tr>\n",
       "    <tr>\n",
       "      <th>5</th>\n",
       "      <td>-1.175832</td>\n",
       "      <td>1.186427</td>\n",
       "      <td>4.737917</td>\n",
       "    </tr>\n",
       "    <tr>\n",
       "      <th>6</th>\n",
       "      <td>1.241982</td>\n",
       "      <td>-0.523696</td>\n",
       "      <td>-3.223478</td>\n",
       "    </tr>\n",
       "    <tr>\n",
       "      <th>7</th>\n",
       "      <td>-1.305508</td>\n",
       "      <td>-1.502615</td>\n",
       "      <td>-1.038021</td>\n",
       "    </tr>\n",
       "    <tr>\n",
       "      <th>8</th>\n",
       "      <td>-1.292021</td>\n",
       "      <td>0.636911</td>\n",
       "      <td>-6.127066</td>\n",
       "    </tr>\n",
       "    <tr>\n",
       "      <th>9</th>\n",
       "      <td>-0.416482</td>\n",
       "      <td>-1.570363</td>\n",
       "      <td>-3.248359</td>\n",
       "    </tr>\n",
       "  </tbody>\n",
       "</table>\n",
       "</div>"
      ],
      "text/plain": [
       "        x_1       x_2       x_3\n",
       "0  0.857213 -1.632160 -3.047619\n",
       "1  0.221219 -4.848875 -4.056908\n",
       "2  1.159569  4.852455  3.723159\n",
       "3  1.617132  6.860943 -2.058051\n",
       "4 -1.093078 -1.926173 -4.611888\n",
       "5 -1.175832  1.186427  4.737917\n",
       "6  1.241982 -0.523696 -3.223478\n",
       "7 -1.305508 -1.502615 -1.038021\n",
       "8 -1.292021  0.636911 -6.127066\n",
       "9 -0.416482 -1.570363 -3.248359"
      ]
     },
     "execution_count": 19,
     "metadata": {},
     "output_type": "execute_result"
    }
   ],
   "source": [
    "from numpy import sqrt\n",
    "\n",
    "N = np.random.randint(10,11)\n",
    "\n",
    "mean_x1, std_x1 = 0 , sqrt(1)\n",
    "x1 = np.random.randn(N,1)*std_x1+mean_x1 # mean 0 var 1\n",
    "\n",
    "mean_x2, std_x2 = mean_x1+0 , sqrt(std_x1**2 + 3**2)\n",
    "x2 = np.random.randn(N,1)*std_x2+mean_x2 # mean 0 var 10\n",
    "\n",
    "mean_x3, std_x3 = 2*mean_x1+mean_x2 , sqrt(2**2*std_x1**2 + std_x2**2)\n",
    "x3 = np.random.randn(N,1)*std_x3+mean_x3 # mean 0 var 14\n",
    "\n",
    "df = pd.DataFrame(data=np.concatenate([x1,x2,x3], axis=1), columns=['x_1', 'x_2', 'x_3'])\n",
    "\n",
    "# COV MATRIX OF DATASET\n",
    "l, V = np.linalg.eig(np.cov(df))\n",
    "\n",
    "print(\"normal: \", l)\n",
    "\n",
    "# SVD\n",
    "U, D, Vt = la.svd(df)\n",
    "\n",
    "l_svd = D**2/(N-1)\n",
    "V_svd = U\n",
    "\n",
    "print(\"SVD: \", l_svd)\n",
    "\n",
    "df"
   ]
  },
  {
   "cell_type": "markdown",
   "metadata": {},
   "source": [
    "2\\. **PCA on a nD dataset**\n",
    "\n",
    "Start from the dataset you have genereted in the previous exercise and add uncorrelated random noise. Such noise should be represented by other 10 uncorrelated variables normal distributed, with standar deviation much smaller (say, a factor 50) than those used to generate the $x_1$ and $x_2$.\n",
    "\n",
    "Repeat the PCA procedure and compare the results with what you obtained before"
   ]
  },
  {
   "cell_type": "markdown",
   "metadata": {},
   "source": [
    "3 \\. **Looking at an oscillating spring** (optional)\n",
    "\n",
    "Imagine you have $n$ cameras looking at a spring oscillating along the $x$ axis. Each  camera record the motion of the spring looking at it along a given direction defined by the pair $(\\theta_i, \\phi_i)$, the angles in spherical coordinates. \n",
    "\n",
    "Start from the simulation of the records (say ${\\cal O}(1000)$) of the spring's motion along the x axis, assuming a little random noise affects the measurements along the $y$. Rotate such dataset to emulate the records of each camera.\n",
    "\n",
    "Perform a Principal Component Analysis on the thus obtained dataset, aiming at finding the only one coordinate that really matters.\n"
   ]
  },
  {
   "cell_type": "markdown",
   "metadata": {},
   "source": [
    "4\\. **PCA on the MAGIC dataset** (optional)\n",
    "\n",
    "Perform a PCA on the magic04.data dataset"
   ]
  },
  {
   "cell_type": "code",
   "execution_count": 3,
   "metadata": {},
   "outputs": [],
   "source": [
    "# get the dataset and its description on the proper data directory\n",
    "#!wget https://archive.ics.uci.edu/ml/machine-learning-databases/magic/magic04.data -P ~/data/\n",
    "#!wget https://archive.ics.uci.edu/ml/machine-learning-databases/magic/magic04.names -P ~/data/ "
   ]
  }
 ],
 "metadata": {
  "kernelspec": {
   "display_name": "Python 3",
   "language": "python",
   "name": "python3"
  },
  "language_info": {
   "codemirror_mode": {
    "name": "ipython",
    "version": 3
   },
   "file_extension": ".py",
   "mimetype": "text/x-python",
   "name": "python",
   "nbconvert_exporter": "python",
   "pygments_lexer": "ipython3",
   "version": "3.8.3"
  }
 },
 "nbformat": 4,
 "nbformat_minor": 2
}
