{
 "cells": [
  {
   "cell_type": "markdown",
   "metadata": {},
   "source": [
    "## Pandas analysis\n",
    "\n",
    "This exercise consists in analyzing a dataset containg timing information from a series of Time-to-Digital-Converters (TDC) implemented in a couple of FPGAs. Each measurement (i.e. each row of the input file) consists of a flag that specifies the type of message ('HEAD', which in this case is always 1), two addresses of the TDC providing the signal ('FPGA' and 'TDC_CHANNEL'), and the timing information ('ORBIT_CNT', 'BX_COUNTER', and 'TDC_MEAS'). Each TDC count corresponds to 25/30 ns, whereas a unit of BX_COUNTER corresponds to 25 ns, and the ORBIT_CNT is increased every 'x' BX_COUNTER. This allows to store the time in a similar way to hours, minutes and seconds."
   ]
  },
  {
   "cell_type": "code",
   "execution_count": null,
   "metadata": {},
   "outputs": [
    {
     "name": "stdout",
     "output_type": "stream",
     "text": [
      "--2020-11-25 16:07:00--  https://www.dropbox.com/s/xvjzaxzz3ysphme/data_000637.txt\n",
      "Resolving www.dropbox.com (www.dropbox.com)... 162.125.69.1, 2620:100:6025:1::a27d:4501\n",
      "Connecting to www.dropbox.com (www.dropbox.com)|162.125.69.1|:443... connected.\n",
      "HTTP request sent, awaiting response... 301 Moved Permanently\n",
      "Location: /s/raw/xvjzaxzz3ysphme/data_000637.txt [following]\n",
      "--2020-11-25 16:07:01--  https://www.dropbox.com/s/raw/xvjzaxzz3ysphme/data_000637.txt\n",
      "Reusing existing connection to www.dropbox.com:443.\n",
      "HTTP request sent, awaiting response... 302 Found\n",
      "Location: https://uc886e220ccaa249266a92e62861.dl.dropboxusercontent.com/cd/0/inline/BD0M0z1bc9TkS4AjjRgnfvJLLol2knud-yAJklQIF2cXQrRc_kz6SdEjyD_2vt29vTZunoKvHFbeXVERt8ZrnUi1fkbe-aF4s8bW8eA0HyokcmgkegxacSgQ35grMQEMYU8/file# [following]\n",
      "--2020-11-25 16:07:02--  https://uc886e220ccaa249266a92e62861.dl.dropboxusercontent.com/cd/0/inline/BD0M0z1bc9TkS4AjjRgnfvJLLol2knud-yAJklQIF2cXQrRc_kz6SdEjyD_2vt29vTZunoKvHFbeXVERt8ZrnUi1fkbe-aF4s8bW8eA0HyokcmgkegxacSgQ35grMQEMYU8/file\n",
      "Resolving uc886e220ccaa249266a92e62861.dl.dropboxusercontent.com (uc886e220ccaa249266a92e62861.dl.dropboxusercontent.com)... 162.125.69.15, 2620:100:6025:15::a27d:450f\n",
      "Connecting to uc886e220ccaa249266a92e62861.dl.dropboxusercontent.com (uc886e220ccaa249266a92e62861.dl.dropboxusercontent.com)|162.125.69.15|:443... connected.\n",
      "HTTP request sent, awaiting response... 200 OK\n",
      "Length: 33179236 (32M) [text/plain]\n",
      "Saving to: ‘/home/nicholas/data/data_000637.txt.6’\n",
      "\n",
      "data_000637.txt.6     7%[>                   ]   2,53M   145KB/s    eta 2m 37s "
     ]
    }
   ],
   "source": [
    "# If you didn't download it yet, please get the relevant file now!\n",
    "!wget https://www.dropbox.com/s/xvjzaxzz3ysphme/data_000637.txt -P ~/data/"
   ]
  },
  {
   "cell_type": "markdown",
   "metadata": {},
   "source": [
    "1\\. Create a Pandas DataFrame reading N rows of the 'data_000637.txt' dataset. Choose N to be smaller than or equal to the maximum number of rows and larger that 10k.\n",
    "\n",
    "2\\. Find out the number of BX in a ORBIT (the value 'x').\n",
    "\n",
    "3\\. Find out how much the data taking lasted. You can either make an estimate based on the fraction of the measurements (rows) you read, or perform this check precisely by reading out the whole dataset.\n",
    "\n",
    "4\\. Create a new column with the absolute time in ns (as a combination of the other three columns with timing information).\n",
    "\n",
    "5\\. Replace the values (all 1) of the HEAD column randomly with 0 or 1.\n",
    "\n",
    "6\\. Create a new DataFrame that contains only the rows with HEAD=1.\n",
    "\n",
    "7\\. Make two occupancy plots (one for each FPGA), i.e. plot the number of counts per TDC channel\n",
    "\n",
    "8\\. Use the groupby method to find out the noisy channels, i.e. the TDC channels with most counts (say the top 3)\n",
    "\n",
    "9\\. Count the number of unique orbits. Count the number of unique orbits with at least one measurement from TDC_CHANNEL=139"
   ]
  },
  {
   "cell_type": "code",
   "execution_count": 25,
   "metadata": {},
   "outputs": [
    {
     "name": "stdout",
     "output_type": "stream",
     "text": [
      "x =  3564\n",
      "time =  980.4160932898521 s\n",
      "tdc channel with most counts: 139 64 63\n",
      "# of unique orbits: 11001\n",
      "# of unique orbits with at least one measurement from TDC_CHANNEL=139: 10976\n"
     ]
    },
    {
     "data": {
      "image/png": "[encoded data removed]",
      "text/plain": [
       "<Figure size 432x288 with 1 Axes>"
      ]
     },
     "metadata": {
      "needs_background": "light"
     },
     "output_type": "display_data"
    },
    {
     "data": {
      "image/png": "[encoded data removed]",
      "text/plain": [
       "<Figure size 432x288 with 1 Axes>"
      ]
     },
     "metadata": {
      "needs_background": "light"
     },
     "output_type": "display_data"
    }
   ],
   "source": [
    "from pandas import DataFrame\n",
    "import pandas as pd\n",
    "import numpy as np\n",
    "\n",
    "\n",
    "np.random.seed(2377) \n",
    "\n",
    "\n",
    "# 1\n",
    "\n",
    "file_name = \"/home/nicholas/data/data_000637.txt.6\"\n",
    "data=pd.read_csv(file_name)\n",
    "\n",
    "# 2\n",
    "\n",
    "bx_column = data[\"BX_COUNTER\"].tolist()\n",
    "x = max(bx_column) + 1\n",
    "print(\"x = \", x)\n",
    "\n",
    "# 3 and # 4\n",
    "\n",
    "orb_column = data[\"ORBIT_CNT\"].tolist()\n",
    "tdc_column = data[\"TDC_MEAS\"].tolist()\n",
    "size = len(bx_column)\n",
    "\n",
    "abs_time = []\n",
    "\n",
    "time0 = orb_column[0]*x*25*10**(-6) + bx_column[0]*25*10**(-6) + tdc_column[0]*(25/30)*10**(-6)\n",
    "\n",
    "for i in range(0,size,1):\n",
    "    timei = orb_column[i]*x*25*10**(-6) + bx_column[i]*25*10**(-6) + tdc_column[i]*(25/30)*10**(-6)\n",
    "    abs_time.append( timei - time0 )\n",
    "    \n",
    "data[\"ABS_TIME\"] = abs_time\n",
    "\n",
    "print(\"time = \", abs_time[size-1] , \"s\")\n",
    "\n",
    "# 5\n",
    "\n",
    "head = []\n",
    "\n",
    "\n",
    "for i in range(0,size,1):\n",
    "    if(np.random.randint(0,2) > 0.5): head.append(1)\n",
    "    else: head.append(0)\n",
    "\n",
    "data.HEAD = head\n",
    "\n",
    "# 6\n",
    "\n",
    "data = data[data[\"HEAD\"]==1]\n",
    "#data  #check\n",
    "\n",
    "# 7\n",
    "\n",
    "#histo con tdc channel filtrando fpga 0 o 1 i dati come fatto in precedenza\n",
    "data0 = data[data[\"FPGA\"]==0]\n",
    "data1 = data[data[\"FPGA\"]==1]\n",
    "\n",
    "data0.hist(\"TDC_CHANNEL\",bins=139)\n",
    "data1.hist(\"TDC_CHANNEL\",bins=139)\n",
    "\n",
    "# 8\n",
    "\n",
    "data=pd.read_csv(file_name)\n",
    "\n",
    "data = data.groupby(by=\"TDC_CHANNEL\").sum()\n",
    "data = data.sort_values(by=\"HEAD\", ascending=False)\n",
    "\n",
    "tdc = data.index.values\n",
    "\n",
    "print(\"tdc channel with most counts:\", tdc[0], tdc[1], tdc[2])\n",
    "\n",
    "#data\n",
    "\n",
    "# 9\n",
    "\n",
    "data=pd.read_csv(file_name)\n",
    "\n",
    "unique_orb = data.ORBIT_CNT.unique()\n",
    "\n",
    "data = data[data[\"TDC_CHANNEL\"]==139]\n",
    "\n",
    "unique_orb139 = data.ORBIT_CNT.unique()\n",
    "\n",
    "print(\"# of unique orbits:\" , len(unique_orb))\n",
    "print(\"# of unique orbits with at least one measurement from TDC_CHANNEL=139:\", len(unique_orb139))"
   ]
  },
  {
   "cell_type": "code",
   "execution_count": null,
   "metadata": {},
   "outputs": [],
   "source": []
  }
 ],
 "metadata": {
  "kernelspec": {
   "display_name": "Python 3",
   "language": "python",
   "name": "python3"
  },
  "language_info": {
   "codemirror_mode": {
    "name": "ipython",
    "version": 3
   },
   "file_extension": ".py",
   "mimetype": "text/x-python",
   "name": "python",
   "nbconvert_exporter": "python",
   "pygments_lexer": "ipython3",
   "version": "3.8.3"
  }
 },
 "nbformat": 4,
 "nbformat_minor": 2
}
