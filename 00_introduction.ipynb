{
 "cells": [
  {
   "cell_type": "markdown",
   "metadata": {},
   "source": [
    "Check online documentation on jupyter [here](http://nbviewer.jupyter.org/urls/bitbucket.org/ipre/calico/raw/master/notebooks/Documentation/Reference%20Guide/Reference%20Guide.ipynb)"
   ]
  },
  {
   "cell_type": "markdown",
   "metadata": {},
   "source": [
    "## Print\n",
    "To make Python write an object (a variable, the result of an operation, a string) explicitly "
   ]
  },
  {
   "cell_type": "code",
   "execution_count": 49,
   "metadata": {},
   "outputs": [
    {
     "name": "stdout",
     "output_type": "stream",
     "text": [
      "this is python, programming is fun again\n"
     ]
    }
   ],
   "source": [
    "print(\"this is python, programming is fun again\") #prints the string in brakets"
   ]
  },
  {
   "cell_type": "markdown",
   "metadata": {},
   "source": [
    "## Variables\n",
    "\n",
    "In Python you don't need to declare the type of a variable, Python does that automatically"
   ]
  },
  {
   "cell_type": "code",
   "execution_count": 50,
   "metadata": {},
   "outputs": [
    {
     "name": "stdout",
     "output_type": "stream",
     "text": [
      "2\n"
     ]
    },
    {
     "data": {
      "text/plain": [
       "str"
      ]
     },
     "execution_count": 50,
     "metadata": {},
     "output_type": "execute_result"
    }
   ],
   "source": [
    "# This b.t.w is a comment\n",
    "\n",
    "variable = \"2\" #since you put \"\" your variable is a string, otherwise it would have been an integer\n",
    "print(variable)\n",
    "type(variable) #tells you what type is your variable\n",
    "\n"
   ]
  },
  {
   "cell_type": "markdown",
   "metadata": {},
   "source": [
    "the function `print` allows also more powerful way of outputting numbers:"
   ]
  },
  {
   "cell_type": "code",
   "execution_count": 3,
   "metadata": {},
   "outputs": [
    {
     "name": "stdout",
     "output_type": "stream",
     "text": [
      "Art:   453, Prince per unit:    59.06\n"
     ]
    }
   ],
   "source": [
    "print (\"Art: %5d, Prince per unit: %8.2f\"% (453, 59.058))"
   ]
  },
  {
   "cell_type": "code",
   "execution_count": 51,
   "metadata": {},
   "outputs": [
    {
     "name": "stdout",
     "output_type": "stream",
     "text": [
      "5 1\n"
     ]
    }
   ],
   "source": [
    "a, b = 5,\"1\"# a python trick to assign values to more than one variable\n",
    "print (a,b)"
   ]
  },
  {
   "cell_type": "markdown",
   "metadata": {},
   "source": [
    "try to sum a and b; if it doesn't work, cast one of the two and repeat"
   ]
  },
  {
   "cell_type": "code",
   "execution_count": 52,
   "metadata": {},
   "outputs": [
    {
     "ename": "TypeError",
     "evalue": "unsupported operand type(s) for +: 'int' and 'str'",
     "output_type": "error",
     "traceback": [
      "\u001b[1;31m---------------------------------------------------------------------------\u001b[0m",
      "\u001b[1;31mTypeError\u001b[0m                                 Traceback (most recent call last)",
      "\u001b[1;32m<ipython-input-52-85111a3ab660>\u001b[0m in \u001b[0;36m<module>\u001b[1;34m\u001b[0m\n\u001b[1;32m----> 1\u001b[1;33m \u001b[0mprint\u001b[0m\u001b[1;33m(\u001b[0m\u001b[0ma\u001b[0m\u001b[1;33m+\u001b[0m\u001b[0mb\u001b[0m\u001b[1;33m)\u001b[0m\u001b[1;33m\u001b[0m\u001b[1;33m\u001b[0m\u001b[0m\n\u001b[0m",
      "\u001b[1;31mTypeError\u001b[0m: unsupported operand type(s) for +: 'int' and 'str'"
     ]
    }
   ],
   "source": [
    "print(a+b) #gives error because b is a string"
   ]
  },
  {
   "cell_type": "code",
   "execution_count": 6,
   "metadata": {},
   "outputs": [
    {
     "name": "stdout",
     "output_type": "stream",
     "text": [
      "7 7 7\n"
     ]
    }
   ],
   "source": [
    "x=y=z=7 # multiple assignmet\n",
    "print (x,y,z)"
   ]
  },
  {
   "cell_type": "markdown",
   "metadata": {},
   "source": [
    "what if you reassign one of the three (say $y$)?"
   ]
  },
  {
   "cell_type": "code",
   "execution_count": 53,
   "metadata": {
    "scrolled": true
   },
   "outputs": [
    {
     "name": "stdout",
     "output_type": "stream",
     "text": [
      "set the value of x5\n",
      "5\n"
     ]
    }
   ],
   "source": [
    "# can set values from command line as well (rarely used)\n",
    "x=input(\"set the value of x\") \n",
    "print (x)"
   ]
  },
  {
   "cell_type": "markdown",
   "metadata": {},
   "source": [
    "### Pointers in Python? \n",
    "\n",
    "\n",
    "Pointers are widely used in C and C++. Essentially, they are variables that hold the memory address of another variable.  Are there pointers in python? Essentially no.\n",
    "Pointers go against the [Zen of Python](https://www.python.org/dev/peps/pep-0020/#id3):\n",
    "\n",
    "\n",
    "*Pointers encourage implicit changes rather than explicit. Often, they are complex instead of simple, especially for beginners. Even worse, they beg for ways to shoot yourself in the foot, or do something really dangerous like read from a section of memory you were not supposed to.Python tends to try to abstract away implementation details like memory addresses from its users. Python often focuses on usability instead of speed. As a result, pointers in Python doesn’t really make sense.*\n",
    "\n",
    "It's all about two basics python concepts:\n",
    "1. Mutable vs Immutable objects\n",
    "2. Variable/Name in python\n",
    "\n",
    "In Python everything is an object, a PyObject.\n",
    "Mutable objects can be changed, immutable cannot. I.e. when a new value is assigned to a given immutable \"variable\", a new object is in reality created. This as \"variable\" in python are actually just names bound to objects (PyObject).\n",
    "When you change the value of an immutable variable and check its address with id(variable) you'll see that the address actually changed.\n",
    "\n",
    "A Python name actually refers to a PyObject which consists of the variable type, name and different references associated to it.\n",
    "\n",
    "For more details about all this refer e.g. to [this review](https://realpython.com/pointers-in-python/)"
   ]
  },
  {
   "cell_type": "markdown",
   "metadata": {},
   "source": [
    "## Operators\n",
    "the usual stuff.."
   ]
  },
  {
   "cell_type": "code",
   "execution_count": 57,
   "metadata": {},
   "outputs": [
    {
     "name": "stdout",
     "output_type": "stream",
     "text": [
      "0.75\n",
      "0.75\n",
      "3\n",
      "0\n",
      "81\n",
      "81\n",
      "<class 'int'>\n",
      "<class 'float'>\n",
      "0.75\n",
      "0.75\n"
     ]
    }
   ],
   "source": [
    "print(3/4) #its a division between integers and it will give 0 in other languages, \n",
    "           #now Python is smart enough to change type automatically and give the rational result\n",
    "print(3.0 / 4.0) #here you are declaring them as not integers but it's not necessary\n",
    "print(3%4)  #Modulus % gives the rest of the division\n",
    "print(3//4) #Floor division // rounds the result down to the nearest whole number\n",
    "print(3**4)     #this is 3 to the 4th power\n",
    "print(pow(3,4)) #this is also 3 to the 4th power\n",
    "\n",
    "x=1\n",
    "print(type(x))  #this gives the type of the variable\n",
    "y=1.0\n",
    "print(type(y))\n",
    "a,b = int(3), int(4)\n",
    "print(a/b)      #as previously said they are converted to float for the operation\n",
    "print(float(a)/float(b))"
   ]
  },
  {
   "cell_type": "markdown",
   "metadata": {},
   "source": [
    "## Iterators\n",
    "very similar to all other languages. Start exploring the `range` and `enumerate` functions.\n",
    "\n",
    "However, in other languages we have brackets enclosing the commands. In Python however you work on indentation: you have to \"allign vertically\" the commands related to that iteration/conditional statement"
   ]
  },
  {
   "cell_type": "code",
   "execution_count": 58,
   "metadata": {},
   "outputs": [
    {
     "name": "stdout",
     "output_type": "stream",
     "text": [
      "1\n",
      "2\n",
      "3\n",
      "4\n",
      "5\n",
      "6\n",
      "7\n",
      "8\n",
      "9\n"
     ]
    }
   ],
   "source": [
    "for i in range(1,10): print (i) #range gives the range of the iteration"
   ]
  },
  {
   "cell_type": "code",
   "execution_count": 59,
   "metadata": {},
   "outputs": [
    {
     "name": "stdout",
     "output_type": "stream",
     "text": [
      "1\n",
      "2\n",
      "3\n",
      "4\n",
      "5\n",
      "6\n",
      "7\n",
      "8\n",
      "9\n"
     ]
    }
   ],
   "source": [
    "i = 1\n",
    "while i < 10: #equivalent to for\n",
    "    print(i)\n",
    "    i+=1 "
   ]
  },
  {
   "cell_type": "code",
   "execution_count": 12,
   "metadata": {},
   "outputs": [
    {
     "name": "stdout",
     "output_type": "stream",
     "text": [
      "0 4\n",
      "1 5\n",
      "2 2\n",
      "3 7\n"
     ]
    }
   ],
   "source": [
    "for i, j in enumerate([4,5,2,7]): print(i,j) #enumerate loops over an array: i is the iteration\n",
    "                                             #j the element of the array"
   ]
  },
  {
   "cell_type": "markdown",
   "metadata": {},
   "source": [
    "## Conditional Statements\n",
    "Mind the indentation! "
   ]
  },
  {
   "cell_type": "code",
   "execution_count": 14,
   "metadata": {},
   "outputs": [
    {
     "name": "stdout",
     "output_type": "stream",
     "text": [
      "elif\n"
     ]
    }
   ],
   "source": [
    "a = 21\n",
    "if a >= 22: \n",
    "    print(\"if\")\n",
    "elif a >= 21:    #this is else if \n",
    "    print(\"elif\")\n",
    "else:           #for the last one you put only else\n",
    "    print(\"else\")"
   ]
  },
  {
   "cell_type": "markdown",
   "metadata": {},
   "source": [
    "try/except: a very important and powerful type of conditional expression, use it and use it with care.\n",
    "Sometimes you'll do operations that will result in an error (es div 0). To prevent this we can use try/accept: try to do this command, if it doesn't work print an error message or something else "
   ]
  },
  {
   "cell_type": "code",
   "execution_count": 15,
   "metadata": {},
   "outputs": [
    {
     "name": "stdout",
     "output_type": "stream",
     "text": [
      "3\n"
     ]
    }
   ],
   "source": [
    "a = 1\n",
    "try:\n",
    "  a = 1\n",
    "  b = a + 2 #if you do not choose a value for a you cannot sum a number and a string\n",
    "  print (b)\n",
    "except:\n",
    "  print(a, \" is not a number\")"
   ]
  },
  {
   "cell_type": "markdown",
   "metadata": {},
   "source": [
    "# Functions"
   ]
  },
  {
   "cell_type": "code",
   "execution_count": 63,
   "metadata": {},
   "outputs": [
    {
     "data": {
      "text/plain": [
       "7"
      ]
     },
     "execution_count": 63,
     "metadata": {},
     "output_type": "execute_result"
    }
   ],
   "source": [
    "def my_function(a,b=2):\n",
    "    result = a+2*b\n",
    "    return result\n",
    "\n",
    "my_function(3)    #b is set to 2, the default value specified in the function, a is set to 3 with this comand \n",
    "#my_function(3,1) #specifies value for both a and b"
   ]
  },
  {
   "cell_type": "markdown",
   "metadata": {},
   "source": [
    "Notice that the function does not specify the types of the arguments, like you would see in statically typed languages (you can end up doing operations with variables of different types!). This is both useful and dangerous. Use the try/except construction to make it safe."
   ]
  },
  {
   "cell_type": "markdown",
   "metadata": {},
   "source": [
    "function can edit \"global\" variables as well, i.e. variables that are declared outside the function scope. To do so the statement ```global``` is used"
   ]
  },
  {
   "cell_type": "code",
   "execution_count": 21,
   "metadata": {},
   "outputs": [
    {
     "name": "stdout",
     "output_type": "stream",
     "text": [
      "Python is fantastic\n",
      "Python is awesome\n"
     ]
    }
   ],
   "source": [
    "x = \"awesome\" #declare x at beginning  \n",
    "\n",
    "def myfunc():\n",
    "  x = \"fantastic\" #however if I use it again in a function, they do not see each other \n",
    "  print(\"Python is \" + x)\n",
    "\n",
    "myfunc()\n",
    "\n",
    "print(\"Python is \" + x) #basically I've defined two x variables, I haven't changed it"
   ]
  },
  {
   "cell_type": "code",
   "execution_count": 22,
   "metadata": {},
   "outputs": [
    {
     "name": "stdout",
     "output_type": "stream",
     "text": [
      "Python is fantastic\n"
     ]
    }
   ],
   "source": [
    "x = \"awesome\"\n",
    "\n",
    "def myfunc():\n",
    "  global x           #by declaring x as global I can change it even inside the function\n",
    "  x = \"fantastic\"\n",
    "\n",
    "myfunc()\n",
    "\n",
    "print(\"Python is \" + x)"
   ]
  },
  {
   "cell_type": "markdown",
   "metadata": {},
   "source": [
    "# Lists, Tuples, Dictionaries"
   ]
  },
  {
   "cell_type": "markdown",
   "metadata": {},
   "source": [
    "## Lists\n",
    "Lists are exactly as the name implies. They are lists of objects (basically they're the arrays of Python). A list is heterogeneous: the objects can be any data type (including lists), and it is allowed to mix data types. In this way they are much more flexible than arrays. It is possible to append, delete, insert and count elements and to sort, reverse, etc. the list."
   ]
  },
  {
   "cell_type": "code",
   "execution_count": 44,
   "metadata": {},
   "outputs": [
    {
     "name": "stdout",
     "output_type": "stream",
     "text": [
      "['A', 'B', 'F', 'G', 'd', 'x', 'c', [1, 2, 3, 'this is a string', 5.3], 3]\n"
     ]
    }
   ],
   "source": [
    "a_list = [1,2,3,\"this is a string\",5.3] #objects of different types in same list\n",
    "b_list = [\"A\",\"B\",\"F\",\"G\",\"d\",\"x\",\"c\",a_list,3] #can also have list of lists\n",
    "print(b_list)"
   ]
  },
  {
   "cell_type": "markdown",
   "metadata": {},
   "source": [
    "Manipulations of list is rather intuitive"
   ]
  },
  {
   "cell_type": "code",
   "execution_count": 80,
   "metadata": {},
   "outputs": [
    {
     "name": "stdout",
     "output_type": "stream",
     "text": [
      "7\n",
      "15\n",
      "10\n",
      "[3, 4]\n",
      "[7, 5, 3]\n",
      "[4, 10, 15]\n",
      "6\n",
      "[3, 4, 10, 15]\n",
      "[5, 4, 15]\n"
     ]
    }
   ],
   "source": [
    "a = [7,5,3,4,10,15]\n",
    "#indexing starts with 0! 0 is first element!\n",
    "#specify position of element you want to access inside with []\n",
    "#can go in reverse with indexes: -1 gives you last element of the list\n",
    "print(a[0])   #first element of list\n",
    "print(a[-1])  #last element of list\n",
    "print(a[-2])\n",
    "print(a[2:4]) #elements from 3rd (3rd included) to 5th (5th excluded!!)\n",
    "print(a[:3])  #gives first 3 elements \n",
    "print(a[3:])  #gives last 3 elements\n",
    "print(len(a)) #gives length of list\n",
    "print(a[2:len(a)])   #gives elements from the 3rd to the end\n",
    "print(a[1:len(a):2]) #can skip elements,you go from 2nd element to end of list by steps of 2 \n",
    "\n",
    "#synthax: a[start:stop:step] if not specified starts from beginning, stops at end and goes by steps of 1"
   ]
  },
  {
   "cell_type": "code",
   "execution_count": 81,
   "metadata": {},
   "outputs": [
    {
     "name": "stdout",
     "output_type": "stream",
     "text": [
      "[1000, 7, 5, 3, 4, 10, 15]\n",
      "[1000, 7, 5, 3, 4, 10, 15, 200]\n",
      "[200, 15, 10, 4, 3, 5, 7, 1000]\n",
      "[3, 4, 5, 7, 10, 15, 200, 1000]\n",
      "[3, 4, 5, 7, 10, 15, 200]\n",
      "[4, 5, 7, 10, 15, 200]\n",
      "[4, 5, 7, 10, 200]\n"
     ]
    }
   ],
   "source": [
    "a.insert(0,1000) #this way you puy 1000 at the specified position (1st in this case)\n",
    "print(a)\n",
    "a.append(200) #append adds the value at the end of a\n",
    "print(a)\n",
    "a.reverse()   #reverses order of list\n",
    "print(a)\n",
    "a.sort() #sorts in a way I can choose (default is from smallest to largest)\n",
    "print(a)\n",
    "a.pop()  #removes last element\n",
    "print(a)\n",
    "a.remove(3) #removes the 3 (NOT the element at position 3!!)\n",
    "print(a)\n",
    "a.remove(a[4]) #removes value at position 4 (i.e. the 5th one)\n",
    "print(a)\n",
    "\n"
   ]
  },
  {
   "cell_type": "markdown",
   "metadata": {},
   "source": [
    "Very fancy operations are possibile (known as list [comprehensions](https://docs.python.org/2/tutorial/datastructures.html?highlight=comprehensions)).\n",
    "This allows to write very complicated operations in just a single line."
   ]
  },
  {
   "cell_type": "code",
   "execution_count": 82,
   "metadata": {},
   "outputs": [
    {
     "name": "stdout",
     "output_type": "stream",
     "text": [
      "[0, 2, 4, 6, 8, 10, 12, 14, 16, 18]\n"
     ]
    }
   ],
   "source": [
    "even_numbers = [x for x in range(20) if x % 2 == 0] \n",
    "#basically you make a list of elements x from a certain list only if a certain condition is fulfilled \n",
    "#(here numbers must be even)\n",
    "#even_numbers = [x for x in [1,2,3,4,5,6]] if x % 2 == 0] has same effect\n",
    "print (even_numbers)"
   ]
  },
  {
   "cell_type": "markdown",
   "metadata": {},
   "source": [
    "strings are lists (basically a list of characters) and feature all operations permitted on strings, comprehensions as well"
   ]
  },
  {
   "cell_type": "code",
   "execution_count": 84,
   "metadata": {},
   "outputs": [
    {
     "name": "stdout",
     "output_type": "stream",
     "text": [
      "['I', 't', ' ', 'w', 'a', 's', ' ', 'a', ' ', 'd', 'a', 'r', 'k', ' ', 'a', 'n', 'd', ' ', 's', 't', 'o', 'r', 'm', 'y', ' ', 'n', 'i', 'g', 'h', 't', '.']\n"
     ]
    }
   ],
   "source": [
    "first_sentence = \"It was a dark and stormy night.\"\n",
    "characters = [x for x in first_sentence] #lists all characters of string\n",
    "#characters = [x for x in first_sentence][:3] #lists last 3 characters\n",
    "#characters = [x for x in first_sentence]\n",
    "#characters = first_sentence[:3]           #same as before but split in 2 commands\n",
    "print(characters)"
   ]
  },
  {
   "cell_type": "code",
   "execution_count": 36,
   "metadata": {},
   "outputs": [
    {
     "name": "stdout",
     "output_type": "stream",
     "text": [
      "Ciaociccio\n"
     ]
    }
   ],
   "source": [
    "a = \"Ciao\"\n",
    "b = \"ciccio\"\n",
    "print(a+b) #can even sum strings"
   ]
  },
  {
   "cell_type": "markdown",
   "metadata": {},
   "source": [
    "## Tuples\n",
    "Tuples are like lists with one very important difference. Tuples are not changeable (immutable, if you try to change their value they give error)."
   ]
  },
  {
   "cell_type": "code",
   "execution_count": 37,
   "metadata": {},
   "outputs": [
    {
     "name": "stdout",
     "output_type": "stream",
     "text": [
      "(1, 2, 3, 4)\n"
     ]
    },
    {
     "ename": "TypeError",
     "evalue": "'tuple' object does not support item assignment",
     "output_type": "error",
     "traceback": [
      "\u001b[1;31m---------------------------------------------------------------------------\u001b[0m",
      "\u001b[1;31mTypeError\u001b[0m                                 Traceback (most recent call last)",
      "\u001b[1;32m<ipython-input-37-69d310c07e2c>\u001b[0m in \u001b[0;36m<module>\u001b[1;34m\u001b[0m\n\u001b[0;32m      1\u001b[0m \u001b[0ma\u001b[0m \u001b[1;33m=\u001b[0m \u001b[1;33m(\u001b[0m\u001b[1;36m1\u001b[0m\u001b[1;33m,\u001b[0m\u001b[1;36m2\u001b[0m\u001b[1;33m,\u001b[0m\u001b[1;36m3\u001b[0m\u001b[1;33m,\u001b[0m\u001b[1;36m4\u001b[0m\u001b[1;33m)\u001b[0m\u001b[1;33m\u001b[0m\u001b[1;33m\u001b[0m\u001b[0m\n\u001b[0;32m      2\u001b[0m \u001b[0mprint\u001b[0m\u001b[1;33m(\u001b[0m\u001b[0ma\u001b[0m\u001b[1;33m)\u001b[0m\u001b[1;33m\u001b[0m\u001b[1;33m\u001b[0m\u001b[0m\n\u001b[1;32m----> 3\u001b[1;33m \u001b[0ma\u001b[0m\u001b[1;33m[\u001b[0m\u001b[1;36m1\u001b[0m\u001b[1;33m]\u001b[0m \u001b[1;33m=\u001b[0m \u001b[1;36m2\u001b[0m\u001b[1;33m\u001b[0m\u001b[1;33m\u001b[0m\u001b[0m\n\u001b[0m",
      "\u001b[1;31mTypeError\u001b[0m: 'tuple' object does not support item assignment"
     ]
    }
   ],
   "source": [
    "a = (1,2,3,4)\n",
    "print(a)\n",
    "a[1] = 2 #change value --> gives error"
   ]
  },
  {
   "cell_type": "markdown",
   "metadata": {},
   "source": [
    "## Dictionaries\n",
    "Dictionaries are of paramount importance and a major asset of python.\n",
    "Lists are ordered, each element has a defined location and their keys are the integers defining their locations.\n",
    "Dictionaries are unordered, keyed lists. Lists are ordered, and the index may be viewed as a key.\n",
    "To call the element you refer to its key.\n",
    "You can use as key an integer or a string. Usually you want to keep them simple. Values can be whatever, even dictionaries (you can have very complicated nested structures).\n",
    "If the key doen't exist you get an error."
   ]
  },
  {
   "cell_type": "code",
   "execution_count": 85,
   "metadata": {},
   "outputs": [
    {
     "name": "stdout",
     "output_type": "stream",
     "text": [
      "A {1: 2, '3': [3, 4]}\n"
     ]
    }
   ],
   "source": [
    "a = {'anItem': \"A\", 'anotherItem': [\"a,bc\"],3:\"C\",'afourthItem':7, 4:{1:2,\"3\":[3,4]}} #dictionary example\n",
    "#it's made of pairs of values: the key and the associated element\n",
    "print(a['anItem'], a[4])"
   ]
  },
  {
   "cell_type": "code",
   "execution_count": 40,
   "metadata": {},
   "outputs": [
    {
     "name": "stdout",
     "output_type": "stream",
     "text": [
      "anItem A\n",
      "anotherItem ['a,bc']\n",
      "3 C\n",
      "afourthItem 7\n",
      "4 {1: 2, '3': [3, 4]}\n"
     ]
    }
   ],
   "source": [
    "for i in a: print (i,a[i]) "
   ]
  },
  {
   "cell_type": "markdown",
   "metadata": {},
   "source": [
    "## Strings and String Handling\n",
    "One of the most important features of Python is its powerful and easy handling of strings. Defining strings is simple enough in most languages. But in Python, it is easy to search and replace, convert cases, concatenate, or access elements. We’ll discuss a few of these here. For a complete list, see this [tutorial]( http://www.tutorialspoint.com/python/python_strings.htm)"
   ]
  },
  {
   "cell_type": "code",
   "execution_count": 87,
   "metadata": {},
   "outputs": [
    {
     "name": "stdout",
     "output_type": "stream",
     "text": [
      "A string of characters, with newline \n",
      " CAPITALS, etc.\n",
      "A string of characters, with newline \n",
      " CAPITALS, etc.\n",
      " We can format strings for printing 5.00\n"
     ]
    }
   ],
   "source": [
    "a = \"A string of characters, with newline \\n CAPITALS, etc.\" #\\n is newline\n",
    "print(a)\n",
    "b=5.0\n",
    "newstring = a + \"\\n We can format strings for printing %.2f\"\n",
    "print(newstring %b)"
   ]
  },
  {
   "cell_type": "markdown",
   "metadata": {},
   "source": [
    "Operations are easy (remember strings are lists!).\n",
    "There are also some additional operations for string with respect to lists."
   ]
  },
  {
   "cell_type": "code",
   "execution_count": 41,
   "metadata": {},
   "outputs": [
    {
     "name": "stdout",
     "output_type": "stream",
     "text": [
      "BC\n",
      "ABC D\n"
     ]
    }
   ],
   "source": [
    "a = \"ABC DEFG\"\n",
    "print(a[1:3])\n",
    "print(a[0:5])"
   ]
  },
  {
   "cell_type": "code",
   "execution_count": 88,
   "metadata": {},
   "outputs": [
    {
     "name": "stdout",
     "output_type": "stream",
     "text": [
      "abc defg\n",
      "ABC DEFG\n",
      "4\n",
      "ABC afg\n",
      "ABC defg\n",
      "ABC aaag\n",
      "ABC cccg\n"
     ]
    },
    {
     "data": {
      "text/plain": [
       "3"
      ]
     },
     "execution_count": 88,
     "metadata": {},
     "output_type": "execute_result"
    }
   ],
   "source": [
    "a = \"ABC defg\"\n",
    "print(a.lower())  #make everything lowercase\n",
    "print(a.upper())  #make everything uppercase\n",
    "print(a.find('d')) #gives position of character 'd'\n",
    "print(a.replace('de','a')) #replace a segment of string with something else\n",
    "print(a)\n",
    "b = a.replace('def','aaa')\n",
    "print(b)\n",
    "b = b.replace('a','c')\n",
    "print(b)\n",
    "b.count('c')  #gives the number of 'c' characters in string b"
   ]
  },
  {
   "cell_type": "code",
   "execution_count": 89,
   "metadata": {},
   "outputs": [
    {
     "data": {
      "text/plain": [
       "'abc defg'"
      ]
     },
     "execution_count": 89,
     "metadata": {},
     "output_type": "execute_result"
    }
   ],
   "source": [
    "\"ABC defg\".lower() #can make it lower without using the name\n",
    "\n"
   ]
  },
  {
   "cell_type": "code",
   "execution_count": null,
   "metadata": {},
   "outputs": [],
   "source": []
  }
 ],
 "metadata": {
  "kernelspec": {
   "display_name": "Python 3",
   "language": "python",
   "name": "python3"
  },
  "language_info": {
   "codemirror_mode": {
    "name": "ipython",
    "version": 3
   },
   "file_extension": ".py",
   "mimetype": "text/x-python",
   "name": "python",
   "nbconvert_exporter": "python",
   "pygments_lexer": "ipython3",
   "version": "3.8.3"
  }
 },
 "nbformat": 4,
 "nbformat_minor": 2
}
