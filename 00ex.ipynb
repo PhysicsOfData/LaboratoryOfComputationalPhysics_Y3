{
 "cells": [
  {
   "cell_type": "code",
   "execution_count": 43,
   "metadata": {},
   "outputs": [
    {
     "name": "stdout",
     "output_type": "stream",
     "text": [
      "1\n",
      "2\n",
      "Mickey\n",
      "4\n",
      "Mouse\n",
      "Mickey\n",
      "7\n",
      "8\n",
      "Mickey\n",
      "Mouse\n",
      "11\n",
      "Mickey\n",
      "13\n",
      "14\n",
      "MickeyMouse\n",
      "16\n",
      "17\n",
      "Mickey\n",
      "19\n",
      "Mouse\n",
      "Mickey\n",
      "22\n",
      "23\n",
      "Mickey\n",
      "Mouse\n",
      "26\n",
      "Mickey\n",
      "28\n",
      "29\n",
      "MickeyMouse\n",
      "31\n",
      "32\n",
      "Mickey\n",
      "34\n",
      "Mouse\n",
      "Mickey\n",
      "37\n",
      "38\n",
      "Mickey\n",
      "Mouse\n",
      "41\n",
      "Mickey\n",
      "43\n",
      "44\n",
      "MickeyMouse\n",
      "46\n",
      "47\n",
      "Mickey\n",
      "49\n",
      "Mouse\n",
      "Mickey\n",
      "52\n",
      "53\n",
      "Mickey\n",
      "Mouse\n",
      "56\n",
      "Mickey\n",
      "58\n",
      "59\n",
      "MickeyMouse\n",
      "61\n",
      "62\n",
      "Mickey\n",
      "64\n",
      "Mouse\n",
      "Mickey\n",
      "67\n",
      "68\n",
      "Mickey\n",
      "Mouse\n",
      "71\n",
      "Mickey\n",
      "73\n",
      "74\n",
      "MickeyMouse\n",
      "76\n",
      "77\n",
      "Mickey\n",
      "79\n",
      "Mouse\n",
      "Mickey\n",
      "82\n",
      "83\n",
      "Mickey\n",
      "Mouse\n",
      "86\n",
      "Mickey\n",
      "88\n",
      "89\n",
      "MickeyMouse\n",
      "91\n",
      "92\n",
      "Mickey\n",
      "94\n",
      "Mouse\n",
      "Mickey\n",
      "97\n",
      "98\n",
      "Mickey\n",
      "Mouse\n",
      "(1, 2, 'Donald', 4, 'Duck', 'Donald', 7, 8, 'Donald', 'Duck', 11, 'Donald', 13, 14, 'MickeyMouse', 16, 17, 'Donald', 19, 'Duck', 'Donald', 22, 23, 'Donald', 'Duck', 26, 'Donald', 28, 29, 'MickeyMouse', 31, 32, 'Donald', 34, 'Duck', 'Donald', 37, 38, 'Donald', 'Duck', 41, 'Donald', 43, 44, 'MickeyMouse', 46, 47, 'Donald', 49, 'Duck', 'Donald', 52, 53, 'Donald', 'Duck', 56, 'Donald', 58, 59, 'MickeyMouse', 61, 62, 'Donald', 64, 'Duck', 'Donald', 67, 68, 'Donald', 'Duck', 71, 'Donald', 73, 74, 'MickeyMouse', 76, 77, 'Donald', 79, 'Duck', 'Donald', 82, 83, 'Donald', 'Duck', 86, 'Donald', 88, 89, 'MickeyMouse', 91, 92, 'Donald', 94, 'Duck', 'Donald', 97, 98, 'Donald', 'Duck')\n"
     ]
    }
   ],
   "source": [
    "mm=[]\n",
    "for j in range(1,101):\n",
    "    if j%3==0 and j%5==0:\n",
    "        mm.append('MickeyMouse')  \n",
    "    elif j%3==0:\n",
    "        mm.append('Mickey')\n",
    "    elif j%5==0:\n",
    "        mm.append('Mouse')\n",
    "    else:\n",
    "        mm.append(j)\n",
    "for item in mm:\n",
    "        print(item)\n",
    "for i in range(len(mm)):\n",
    "    if mm[i]=='Mickey':\n",
    "        mm[i]='Donald'\n",
    "    if mm[i]=='Mouse':\n",
    "        mm[i]='Duck'    \n",
    "print(tuple(mm))"
   ]
  },
  {
   "cell_type": "code",
   "execution_count": 47,
   "metadata": {},
   "outputs": [
    {
     "data": {
      "text/plain": [
       "(5, 'hello')"
      ]
     },
     "execution_count": 47,
     "metadata": {},
     "output_type": "execute_result"
    }
   ],
   "source": [
    "def swap_func1(x,y):\n",
    "    temp=x\n",
    "    x=y\n",
    "    y=temp\n",
    "    return x,y\n",
    "swap_func1('hello',5)  "
   ]
  },
  {
   "cell_type": "code",
   "execution_count": 48,
   "metadata": {},
   "outputs": [
    {
     "data": {
      "text/plain": [
       "(5, 'hello')"
      ]
     },
     "execution_count": 48,
     "metadata": {},
     "output_type": "execute_result"
    }
   ],
   "source": [
    "def swap_func2(x,y):\n",
    "    x,y=y,x\n",
    "    return x,y\n",
    "swap_func2('hello',5)"
   ]
  },
  {
   "cell_type": "code",
   "execution_count": 36,
   "metadata": {},
   "outputs": [
    {
     "data": {
      "text/plain": [
       "5.0"
      ]
     },
     "execution_count": 36,
     "metadata": {},
     "output_type": "execute_result"
    }
   ],
   "source": [
    "import math\n",
    "def distance(u,v):\n",
    "    c=math.sqrt(((u[0]-v[0])**2)+((u[1]-v[1])**2))\n",
    "    return c\n",
    "u=(3,0)\n",
    "v=(0,4)\n",
    "distance(u,v)"
   ]
  },
  {
   "cell_type": "code",
   "execution_count": 37,
   "metadata": {},
   "outputs": [
    {
     "name": "stdout",
     "output_type": "stream",
     "text": [
      "a 7\n",
      "b 5\n",
      "c 3\n",
      "d 3\n",
      "e 22\n",
      "f 10\n",
      "g 1\n",
      "h 9\n",
      "i 14\n",
      "k 2\n",
      "l 6\n",
      "m 12\n",
      "n 10\n",
      "o 13\n",
      "p 8\n",
      "r 17\n",
      "s 9\n",
      "t 19\n",
      "u 9\n",
      "v 2\n",
      "w 2\n",
      "y 2\n",
      "0 2\n",
      "1 2\n"
     ]
    }
   ],
   "source": [
    "chars =\"abcdefghijklmnopqrstuvwxyz0123456789\"\n",
    "s=\"Write a program that prints the numbers from 1 to 100. \\\n",
    "But for multiples of three print Mickey instead of the number and for the multiples of five print Mouse. \\\n",
    "For numbers which are multiples of both three and five print MickeyMouse\"\n",
    "for char in chars:\n",
    "    count = s.lower().count(char)\n",
    "    if count >= 1:\n",
    "        print(char, count)"
   ]
  },
  {
   "cell_type": "code",
   "execution_count": 38,
   "metadata": {},
   "outputs": [
    {
     "name": "stdout",
     "output_type": "stream",
     "text": [
      "[58, 74, 96, 64, 10, 24, 19, 33, 86, 99, 18, 47, 88, 55, 54, 8, 79, 81, 57, 37, 1, 9, 95, 90, 98, 39, 16, 82, 92, 41, 30, 94, 5, 72, 87, 75, 53]\n",
      "37\n"
     ]
    }
   ],
   "source": [
    "def unique_numbers(l):\n",
    "    k=[]\n",
    "    for i in l:\n",
    "        count=l.count(i)\n",
    "        if count==1:\n",
    "            k.append(i)\n",
    "    print(k)\n",
    "    print(len(k)) \n",
    "l = [36, 45, 58, 3, 74, 96, 64, 45, 31, 10, 24, 19, 33, 86, 99, 18, 63, 70, 85,\n",
    " 85, 63, 47, 56, 42, 70, 84, 88, 55, 20, 54, 8, 56, 51, 79, 81, 57, 37, 91,\n",
    " 1, 84, 84, 36, 66, 9, 89, 50, 42, 91, 50, 95, 90, 98, 39, 16, 82, 31, 92, 41,\n",
    " 45, 30, 66, 70, 34, 85, 94, 5, 3, 36, 72, 91, 84, 34, 87, 75, 53, 51, 20, 89, 51, 20]\n",
    "\n",
    "unique_numbers(l)"
   ]
  },
  {
   "cell_type": "code",
   "execution_count": 44,
   "metadata": {},
   "outputs": [
    {
     "data": {
      "text/plain": [
       "64"
      ]
     },
     "execution_count": 44,
     "metadata": {},
     "output_type": "execute_result"
    }
   ],
   "source": [
    "def sguare_func(m):\n",
    "    return m**2\n",
    "def cube_func(m):\n",
    "    return m**3\n",
    "def sixth_power_func(m):\n",
    "    return cube_func(sguare_func(m))\n",
    "sixth_power_func(2)"
   ]
  },
  {
   "cell_type": "code",
   "execution_count": 116,
   "metadata": {},
   "outputs": [
    {
     "name": "stdout",
     "output_type": "stream",
     "text": [
      "[0, 1, 8, 27, 64, 125, 216, 343, 512, 729, 1000]\n"
     ]
    }
   ],
   "source": [
    "a=[]\n",
    "for i in range(11):\n",
    "    c=i*i*i\n",
    "    a.append(c)\n",
    "print(a)\n"
   ]
  },
  {
   "cell_type": "code",
   "execution_count": 117,
   "metadata": {},
   "outputs": [
    {
     "name": "stdout",
     "output_type": "stream",
     "text": [
      "[0, 1, 8, 27, 64, 125, 216, 343, 512, 729, 1000]\n"
     ]
    }
   ],
   "source": [
    "b=list(map(lambda x: x*x*x,range(11)))\n",
    "print(b)"
   ]
  },
  {
   "cell_type": "code",
   "execution_count": 141,
   "metadata": {},
   "outputs": [
    {
     "name": "stdout",
     "output_type": "stream",
     "text": [
      "(3, 4, 5)\n",
      "(8, 6, 10)\n",
      "(5, 12, 13)\n",
      "(15, 8, 17)\n",
      "(12, 16, 20)\n",
      "(7, 24, 25)\n",
      "(24, 10, 26)\n",
      "(21, 20, 29)\n",
      "(16, 30, 34)\n",
      "(9, 40, 41)\n",
      "(35, 12, 37)\n",
      "(32, 24, 40)\n",
      "(27, 36, 45)\n",
      "(20, 48, 52)\n",
      "(11, 60, 61)\n",
      "(48, 14, 50)\n",
      "(45, 28, 53)\n",
      "(40, 42, 58)\n",
      "(33, 56, 65)\n",
      "(24, 70, 74)\n",
      "(13, 84, 85)\n",
      "(63, 16, 65)\n",
      "(60, 32, 68)\n",
      "(55, 48, 73)\n",
      "(48, 64, 80)\n",
      "(39, 80, 89)\n",
      "(28, 96, 100)\n"
     ]
    }
   ],
   "source": [
    "\n",
    "def pythagoreanTriplets(limits) : \n",
    "    \n",
    "    c, m = 0, 2\n",
    "  \n",
    "    while c < limits : \n",
    "          \n",
    "        # Now loop on n from 1 to m-1 \n",
    "       \n",
    "        for n in range(1, m) : \n",
    "           \n",
    "            a = m * m - n * n \n",
    "            b = 2 * m * n \n",
    "            c = m * m + n * n\n",
    "           \n",
    "            matrix1.append(a)\n",
    "            matrix2.append(b)\n",
    "            matrix3.append(c)\n",
    "            # if c is greater than \n",
    "            # limit then break it \n",
    "            if c > limits : \n",
    "                break\n",
    "            triple=(list((a,b,c)))\n",
    "            print(tuple(triple))\n",
    "       \n",
    "        m = m + 1\n",
    "pythagoreanTriplets(100)    \n"
   ]
  },
  {
   "cell_type": "code",
   "execution_count": 49,
   "metadata": {},
   "outputs": [
    {
     "data": {
      "text/plain": [
       "(0.0, 4, 10, 6, 8, 4)"
      ]
     },
     "execution_count": 49,
     "metadata": {},
     "output_type": "execute_result"
    }
   ],
   "source": [
    "def Normalization_func(h):\n",
    "    \n",
    "    amin, amax = min(h), max(h)\n",
    "    for i, val in enumerate(h):\n",
    "        v=list(h)\n",
    "        v[i] = (val-amin) / (amax-amin)\n",
    "        return tuple(v)\n",
    "h = (2,4,10,6,8,4)\n",
    "Normalization_func(h)"
   ]
  },
  {
   "cell_type": "code",
   "execution_count": null,
   "metadata": {},
   "outputs": [],
   "source": []
  }
 ],
 "metadata": {
  "kernelspec": {
   "display_name": "Python 3",
   "language": "python",
   "name": "python3"
  },
  "language_info": {
   "codemirror_mode": {
    "name": "ipython",
    "version": 3
   },
   "file_extension": ".py",
   "mimetype": "text/x-python",
   "name": "python",
   "nbconvert_exporter": "python",
   "pygments_lexer": "ipython3",
   "version": "3.8.3"
  }
 },
 "nbformat": 4,
 "nbformat_minor": 4
}
