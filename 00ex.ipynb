{
 "cells": [
  {
   "cell_type": "markdown",
   "metadata": {},
   "source": [
    "1)The MickeyMouse problem\n",
    "\n",
    "a) Write a program that prints the numbers from 1 to 100. But for multiples of three print Mickey instead of the number and for the multiples of five print Mouse. For numbers which are multiples of both three and five print MickeyMouse"
   ]
  },
  {
   "cell_type": "code",
   "execution_count": null,
   "metadata": {},
   "outputs": [],
   "source": [
    "for i in range(1,100):\n",
    "    if(i%3!=0 and i%5!=0 and i%15!=0):\n",
    "        print(str(i))\n",
    "    if(i%3==0 and i%5!=0 and i%15!=0):\n",
    "        print(\"Micky\")\n",
    "    if(i%5==0 and i%15!=0 and i%3!=0):\n",
    "        print(\"Mouse\")\n",
    "    if(i%15==0):\n",
    "        print(\"MickyMouse\")"
   ]
  },
  {
   "cell_type": "markdown",
   "metadata": {},
   "source": [
    "b) Put the result in a tuple and substitute Mickey with Donald and Mouse with Duck"
   ]
  },
  {
   "cell_type": "code",
   "execution_count": null,
   "metadata": {},
   "outputs": [],
   "source": [
    "t1=()\n",
    "l1=[]\n",
    "for i in range(1,101):\n",
    "    if(i%3!=0 and i%5!=0 and i%15!=0):\n",
    "        t1 = t1 + (i,)\n",
    "    if(i%3==0 and i%5!=0 and i%15!=0):\n",
    "        t1 = t1 + (\"Micky\",)\n",
    "    if(i%5==0 and i%15!=0 and i%3!=0):\n",
    "        t1 = t1 + (\"Mouse\",)\n",
    "    if(i%15==0):\n",
    "        t1 = t1 + (\"MickyMouse\",)\n",
    "l1=list(t1)\n",
    "for j in range(0,len(t1)):\n",
    "    if l1[j]==\"Micky\":\n",
    "        l1[j]=\"Donald\"\n",
    "    if l1[j]==\"Mouse\":\n",
    "        l1[j]=\"Duck\"\n",
    "    if l1[j]==\"MickyMouse\":\n",
    "        l1[j]=\"DonaldDuck\"\n",
    "       \n",
    "t1=tuple(l1)\n",
    "print(t1)"
   ]
  },
  {
   "cell_type": "markdown",
   "metadata": {},
   "source": [
    "2.The swap function\n",
    "\n",
    "Write a function that swap the values of two input variables x and y (whatever the type). Try to do that also without a temporary variable"
   ]
  },
  {
   "cell_type": "code",
   "execution_count": null,
   "metadata": {},
   "outputs": [],
   "source": [
    "def function(a,b):\n",
    "    a,b=b,a\n",
    "    return a,b\n",
    "print(function(2,5))"
   ]
  },
  {
   "cell_type": "markdown",
   "metadata": {},
   "source": [
    "3. Computing the distance\n",
    "\n",
    "Write a function that calculates and returns the euclidean distance between two points u and v, where u and v are both 2-tuples (x,y). For example, if u=(3,0) and v=(0,4), the function should return 5"
   ]
  },
  {
   "cell_type": "code",
   "execution_count": null,
   "metadata": {},
   "outputs": [],
   "source": [
    "import math\n",
    "def function(v,u):\n",
    "    a=abs(int(v[1])-int(u[1]))\n",
    "    b=abs(int(v[0])-int(u[0]))\n",
    "    return math.sqrt((a**2)+(b**2))\n",
    "v=(input(\"type first eleman of v\"),input(\"type second eleman of v\"))\n",
    "u=(input(\"type first eleman of u\"),input(\"type second eleman of u\"))\n",
    "print(function(v,u))"
   ]
  },
  {
   "cell_type": "markdown",
   "metadata": {},
   "source": [
    "4. Counting letters\n",
    "\n",
    "Write a program to calculate the number of times each character occurs in a given string s. Ignore differneces in capitalization\n",
    "\n",
    "s=\"Write a program that prints the numbers from 1 to 100. \\\n",
    "But for multiples of three print Mickey instead of the number and for the multiples of five print Mouse. \\\n",
    "For numbers which are multiples of both three and five print MickeyMouse\""
   ]
  },
  {
   "cell_type": "code",
   "execution_count": null,
   "metadata": {},
   "outputs": [],
   "source": [
    "liste=['A','B','C','D','E','F','G','H','I','J','K','L','M','N','O','P','Q','R','S','T','U','V','W','X','Y','Z','.']\n",
    "liste2=[]\n",
    "string=s=\"Write a program that prints the numbers from 1 to 100. \\\n",
    "But for multiples of three print Mickey instead of the number and for the multiples of five print Mouse. \\\n",
    "For numbers which are multiples of both three and five print MickeyMouse\"\n",
    "string=string.upper()\n",
    "chracters=[x for x in string]\n",
    "for i in range (0,len(liste)):\n",
    "    count=0\n",
    "    for j in range(0,len(chracters)):\n",
    "        if(str(liste[i])==str(chracters[j])):\n",
    "            count+=1\n",
    "        if(j==len(chracters)-1 and count!=0):\n",
    "            print(str(liste[i]),count)"
   ]
  },
  {
   "cell_type": "markdown",
   "metadata": {},
   "source": [
    "5. Isolating the unique\n",
    "\n",
    "Write a function that determines and count the unique numbers in the list l\n",
    "\n",
    "l = [36, 45, 58, 3, 74, 96, 64, 45, 31, 10, 24, 19, 33, 86, 99, 18, 63, 70, 85,\n",
    " 85, 63, 47, 56, 42, 70, 84, 88, 55, 20, 54, 8, 56, 51, 79, 81, 57, 37, 91,\n",
    " 1, 84, 84, 36, 66, 9, 89, 50, 42, 91, 50, 95, 90, 98, 39, 16, 82, 31, 92, 41,\n",
    " 45, 30, 66, 70, 34, 85, 94, 5, 3, 36, 72, 91, 84, 34, 87, 75, 53, 51, 20, 89, 51, 20]"
   ]
  },
  {
   "cell_type": "code",
   "execution_count": null,
   "metadata": {},
   "outputs": [],
   "source": [
    "# Write a function that determines and count the unique numbers in the list\n",
    "unique_list = [36, 45, 58, 3, 74, 96, 64, 45, 31, 10, 24, 19, 33, 86, 99, 18, 63, 70, 85,\n",
    "     85, 63, 47, 56, 42, 70, 84, 88, 55, 20, 54, 8, 56, 51, 79, 81, 57, 37, 91,\n",
    "     1, 84, 84, 36, 66, 9, 89, 50, 42, 91, 50, 95, 90, 98, 39, 16, 82, 31, 92, 41,\n",
    "     45, 30, 66, 70, 34, 85, 94, 5, 3, 36, 72, 91, 84, 34, 87, 75, 53, 51, 20, 89, 51, 20]\n",
    "\n",
    "my_list=[8,15,7,1,4,9,6,7,25,78,96,56,356,47,62]\n",
    "\n",
    "found_in_unique_list = []\n",
    "def unique_numbers(unique_list):\n",
    "    for i in range(len(my_list)):\n",
    "        for j in range(len(unique_list)):\n",
    "            if int(my_list[i]) == int(unique_list[j]):\n",
    "                found_in_unique_list.append(int(unique_list[j]))\n",
    "        j=0\n",
    "    i=0        \n",
    "    for i in range(len(found_in_unique_list)):\n",
    "        print(found_in_unique_list[i])\n",
    "    print(\"Number of unique numbers:\" , len(found_in_unique_list))\n",
    "   \n",
    "print(\"Unique numbers in list:\")\n",
    "unique_numbers(unique_list) "
   ]
  },
  {
   "cell_type": "markdown",
   "metadata": {},
   "source": [
    "6. Combination of functions\n",
    "\n",
    "Write two functions - one that returns the square of a number, and one that returns the cube. Now write a third function that returns the number raised to the 6th power using the two previous functions."
   ]
  },
  {
   "cell_type": "code",
   "execution_count": null,
   "metadata": {},
   "outputs": [],
   "source": [
    "a=input(\"input number\")\n",
    "def function2(a):\n",
    "    return a**2\n",
    "def function3(a):\n",
    "    return a**3\n",
    "def function6(a):\n",
    "    return int(function2(a)*function3(a)*(function2(a)/a))\n",
    "function2(int(a))\n",
    "function3(int(a))\n",
    "print(function6(int(a)))"
   ]
  },
  {
   "cell_type": "markdown",
   "metadata": {},
   "source": [
    "7. Cubes\n",
    "\n",
    "Create a list of the cubes of x for x in [0, 10] using:\n",
    "\n",
    "a) a for loop"
   ]
  },
  {
   "cell_type": "code",
   "execution_count": null,
   "metadata": {},
   "outputs": [],
   "source": [
    "liste=[]\n",
    "for x in range(0,10):\n",
    "    liste.append(x**3);\n",
    "for i in range(0,10):\n",
    "    print(liste[i])"
   ]
  },
  {
   "cell_type": "markdown",
   "metadata": {},
   "source": [
    "7. Cubes\n",
    "\n",
    "Create a list of the cubes of x for x in [0, 10] using:\n",
    "\n",
    "b) a list comprehension"
   ]
  },
  {
   "cell_type": "code",
   "execution_count": null,
   "metadata": {},
   "outputs": [],
   "source": [
    "liste=[(i**3)for i in range(0,10)]\n",
    "print(liste)"
   ]
  },
  {
   "cell_type": "markdown",
   "metadata": {},
   "source": [
    "8. Nested list comprehension\n",
    "\n",
    "A Pythagorean triple is an integer solution to the Pythagorean theorem $a^2+b^2=c^2$. The first Pythagorean triple is (3,4,5). Find and put in a tuple all unique Pythagorean triples for the positive integers a, b and c less than 100."
   ]
  },
  {
   "cell_type": "code",
   "execution_count": null,
   "metadata": {},
   "outputs": [],
   "source": [
    "for a in range(0,100):\n",
    "    for b in range(0,100):\n",
    "        for c in range(0,100):\n",
    "            if (int(c**2)==(int(a**2)+int(b**2))and int(a)!=0 and int(b)!=0 and int(c)!=0):\n",
    "                print(\"a=\"+str(a),\"b=\"+str(b),\"c=\"+str(c))"
   ]
  },
  {
   "cell_type": "markdown",
   "metadata": {},
   "source": [
    "9. Normalization\n",
    "\n",
    "Write a function that takes a tuple of numbers and returns it with the entries normalized to one"
   ]
  },
  {
   "cell_type": "code",
   "execution_count": null,
   "metadata": {},
   "outputs": [],
   "source": [
    "# List we define\n",
    "my_list = [2, 4, 10, 6, 8, 4, 10, 12, 18, 19, 25, 5, 7]\n",
    "# max and min of our list\n",
    "my_list_min, my_list_max = min(my_list), max(my_list)\n",
    "# Normalization of our list according to max and min value of our list\n",
    "for i, num in enumerate(my_list):\n",
    "    my_list[i]=(num-my_list_min)/(my_list_max-my_list_min)\n",
    "print(\"Normalization : \", my_list)\n"
   ]
  }
 ],
 "metadata": {
  "kernelspec": {
   "display_name": "Python 3",
   "language": "python",
   "name": "python3"
  },
  "language_info": {
   "codemirror_mode": {
    "name": "ipython",
    "version": 3
   },
   "file_extension": ".py",
   "mimetype": "text/x-python",
   "name": "python",
   "nbconvert_exporter": "python",
   "pygments_lexer": "ipython3",
   "version": "3.8.5"
  }
 },
 "nbformat": 4,
 "nbformat_minor": 4
}
