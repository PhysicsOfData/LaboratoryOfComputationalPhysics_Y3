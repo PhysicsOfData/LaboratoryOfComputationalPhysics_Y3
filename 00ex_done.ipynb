{
 "cells": [
  {
   "cell_type": "markdown",
   "metadata": {},
   "source": [
    "1. The MickeyMouse problem\n",
    "\n",
    "a) Write a program that prints the numbers from 1 to 100. But for multiples of three print Mickey instead of the number and for the multiples of five print Mouse. For numbers which are multiples of both three and five print MickeyMouse\n",
    "\n",
    "b) Put the result in a tuple and substitute Mickey with Donald and Mouse with Duck"
   ]
  },
  {
   "cell_type": "code",
   "execution_count": 1,
   "metadata": {},
   "outputs": [
    {
     "name": "stdout",
     "output_type": "stream",
     "text": [
      "Case (A) --> first version of the list is: \n",
      "\n",
      " (1, 2, 'Mickey', 4, 'Mouse', 'Mickey', 7, 8, 'Mickey', 'Mouse', 11, 'Mickey', 13, 14, 'MickeyMouse', 16, 17, 'Mickey', 19, 'Mouse', 'Mickey', 22, 23, 'Mickey', 'Mouse', 26, 'Mickey', 28, 29, 'MickeyMouse', 31, 32, 'Mickey', 34, 'Mouse', 'Mickey', 37, 38, 'Mickey', 'Mouse', 41, 'Mickey', 43, 44, 'MickeyMouse', 46, 47, 'Mickey', 49, 'Mouse', 'Mickey', 52, 53, 'Mickey', 'Mouse', 56, 'Mickey', 58, 59, 'MickeyMouse', 61, 62, 'Mickey', 64, 'Mouse', 'Mickey', 67, 68, 'Mickey', 'Mouse', 71, 'Mickey', 73, 74, 'MickeyMouse', 76, 77, 'Mickey', 79, 'Mouse', 'Mickey', 82, 83, 'Mickey', 'Mouse', 86, 'Mickey', 88, 89, 'MickeyMouse', 91, 92, 'Mickey', 94, 'Mouse', 'Mickey', 97, 98, 'Mickey') \n",
      "\n",
      "Case (B) --> last version of the list is: \n",
      "\n",
      " (1, 2, 'Donald', 4, 'Duck', 'Donald', 7, 8, 'Donald', 'Duck', 11, 'Donald', 13, 14, 'MickeyMouse', 16, 17, 'Donald', 19, 'Duck', 'Donald', 22, 23, 'Donald', 'Duck', 26, 'Donald', 28, 29, 'MickeyMouse', 31, 32, 'Donald', 34, 'Duck', 'Donald', 37, 38, 'Donald', 'Duck', 41, 'Donald', 43, 44, 'MickeyMouse', 46, 47, 'Donald', 49, 'Duck', 'Donald', 52, 53, 'Donald', 'Duck', 56, 'Donald', 58, 59, 'MickeyMouse', 61, 62, 'Donald', 64, 'Duck', 'Donald', 67, 68, 'Donald', 'Duck', 71, 'Donald', 73, 74, 'MickeyMouse', 76, 77, 'Donald', 79, 'Duck', 'Donald', 82, 83, 'Donald', 'Duck', 86, 'Donald', 88, 89, 'MickeyMouse', 91, 92, 'Donald', 94, 'Duck', 'Donald', 97, 98, 'Donald') \n",
      "\n"
     ]
    }
   ],
   "source": [
    "lista=[] \n",
    "\n",
    "for i in range (1,100):\n",
    "    if i%15==0:\n",
    "        lista.append(\"MickeyMouse\")\n",
    "    elif i%3==0:\n",
    "        lista.append(\"Mickey\")\n",
    "    elif i%5==0:\n",
    "        lista.append(\"Mouse\")\n",
    "    else:\n",
    "        lista.append(i)\n",
    "        \n",
    "print ('Case (A) --> first version of the list is: \\n\\n', tuple(lista) ,'\\n')\n",
    "\n",
    "for y in range(len(lista)):\n",
    "    if lista[y]=='Mickey':\n",
    "        lista[y]='Donald'\n",
    "    elif lista[y]=='Mouse':\n",
    "        lista[y]='Duck'\n",
    "\n",
    "\n",
    "print ('Case (B) --> last version of the list is: \\n\\n', tuple(lista) ,'\\n')\n"
   ]
  },
  {
   "cell_type": "markdown",
   "metadata": {},
   "source": [
    "2\\. The swap function\n",
    "\n",
    "Write a function that swap the values of two input variables x and y (whatever the type). Try to do that also without a temporary variable"
   ]
  },
  {
   "cell_type": "code",
   "execution_count": 5,
   "metadata": {},
   "outputs": [
    {
     "name": "stdout",
     "output_type": "stream",
     "text": [
      "set the value of x: 1\n",
      "set the value of y: 5\n",
      "Using a temporal variable:  (5.0, 1.0)\n",
      "Without using a temporal variable:  (5.0, 1.0)\n"
     ]
    }
   ],
   "source": [
    "a=float(input(\"set the value of x: \"))\n",
    "b=float(input(\"set the value of y: \"))\n",
    "\n",
    "def swap1(x,y):\n",
    "    tmp=x\n",
    "    x=y\n",
    "    y=tmp\n",
    "    return x,y\n",
    "\n",
    "def swap2(x,y):\n",
    "    x,y=y,x\n",
    "    return x,y\n",
    "    \n",
    "print('Using a temporal variable: ', swap1(a,b))\n",
    "print('Without using a temporal variable: ', swap2(a,b))\n"
   ]
  },
  {
   "cell_type": "markdown",
   "metadata": {},
   "source": [
    "3\\. Computing the distance\n",
    "\n",
    "Write a function that calculates and returns the euclidean distance between two points *u* and *v*, where *u* and *v* are both 2-tuples *(x,y)*. For example, if *u=(3,0)* and *v=(0,4)*, the function should return 5"
   ]
  },
  {
   "cell_type": "code",
   "execution_count": 21,
   "metadata": {},
   "outputs": [
    {
     "name": "stdout",
     "output_type": "stream",
     "text": [
      "Set the dimension of the space: 5\n",
      "Set the  1 coordinate of 1st vector\n",
      "4\n",
      "Set the  2 coordinate of 1st vector\n",
      "5\n",
      "Set the  3 coordinate of 1st vector\n",
      "6\n",
      "Set the  4 coordinate of 1st vector\n",
      "7\n",
      "Set the  5 coordinate of 1st vector\n",
      "8\n",
      "Set the  1 coordinate of 2nd vector\n",
      "5\n",
      "Set the  2 coordinate of 2nd vector\n",
      "6\n",
      "Set the  3 coordinate of 2nd vector\n",
      "2\n",
      "Set the  4 coordinate of 2nd vector\n",
      "6\n",
      "Set the  5 coordinate of 2nd vector\n",
      "8\n",
      "The first vector is:  u=  (4.0, 5.0, 6.0, 7.0, 8.0)\n",
      "The second vector is':  v=  (5.0, 6.0, 2.0, 6.0, 8.0)\n",
      "Distance between {v} and {u} is  4.358898943540674\n"
     ]
    }
   ],
   "source": [
    "inp=int(input(\"Set the dimension of the space: \"))\n",
    "i=0\n",
    "e=0\n",
    "u=[]\n",
    "v=[]\n",
    "\n",
    "while i<inp:\n",
    "    print(\"Set the \", i+1 ,\"coordinate of 1st vector\")\n",
    "    x=float(input())\n",
    "    u.append(x)\n",
    "    i+=1\n",
    "    \n",
    "while e<inp:    \n",
    "    print(\"Set the \", e+1 ,\"coordinate of 2nd vector\")\n",
    "    y=float(input())\n",
    "    v.append(y)   \n",
    "    e+=1\n",
    "\n",
    "a=tuple(u)\n",
    "b=tuple(v)\n",
    "\n",
    "print (\"The first vector is:  u= \", a)\n",
    "print (\"The second vector is:  v= \", b)\n",
    "\n",
    "def distance(x,y):\n",
    "    summ=0\n",
    "    ris=0\n",
    "    i=0\n",
    "    while i<len(x):\n",
    "        \n",
    "        summ=summ + (x[i] - y[i])**2\n",
    "        \n",
    "        i+=1\n",
    "    \n",
    "    ris=summ**0.5\n",
    "    print(\"Distance between {v} and {u} is \", ris)\n",
    "\n",
    "distance(a,b)\n"
   ]
  },
  {
   "cell_type": "markdown",
   "metadata": {},
   "source": [
    "54\\. Counting letters\n",
    "\n",
    "Write a program to calculate the number of times each character occurs in a given string *s*. Ignore differneces in capitalization"
   ]
  },
  {
   "cell_type": "code",
   "execution_count": 6,
   "metadata": {},
   "outputs": [
    {
     "name": "stdout",
     "output_type": "stream",
     "text": [
      "Inserisci una frase: cfyvukjAvkgubliunTYUI\n",
      "The caracter ' c ' appears  1 times in the sentence \n",
      "The caracter ' f ' appears  1 times in the sentence \n",
      "The caracter ' y ' appears  2 times in the sentence \n",
      "The caracter ' v ' appears  2 times in the sentence \n",
      "The caracter ' u ' appears  4 times in the sentence \n",
      "The caracter ' k ' appears  2 times in the sentence \n",
      "The caracter ' j ' appears  1 times in the sentence \n",
      "The caracter ' A ' appears  0 times in the sentence \n",
      "The caracter ' v ' appears  2 times in the sentence \n",
      "The caracter ' k ' appears  2 times in the sentence \n",
      "The caracter ' g ' appears  1 times in the sentence \n",
      "The caracter ' u ' appears  4 times in the sentence \n",
      "The caracter ' b ' appears  1 times in the sentence \n",
      "The caracter ' l ' appears  1 times in the sentence \n",
      "The caracter ' i ' appears  2 times in the sentence \n",
      "The caracter ' u ' appears  4 times in the sentence \n",
      "The caracter ' n ' appears  1 times in the sentence \n",
      "The caracter ' T ' appears  0 times in the sentence \n",
      "The caracter ' Y ' appears  0 times in the sentence \n",
      "The caracter ' U ' appears  0 times in the sentence \n",
      "The caracter ' I ' appears  0 times in the sentence \n"
     ]
    }
   ],
   "source": [
    "s=input(\"Inserisci una frase: \")\n",
    "s2=s.lower()\n",
    "alph=['a','b','c','d','e','f','g','h','i','j','k','l','m','n','o','p','q','r','s','t','u','v','w','x','y','z']\n",
    "\n",
    "for i in s:\n",
    "    print (\"The caracter '\", i, \"' appears \",s2.count(i), \"times in the sentence \")\n",
    "   "
   ]
  },
  {
   "cell_type": "markdown",
   "metadata": {},
   "source": [
    "5\\. Isolating the unique\n",
    "\n",
    "Write a function that determines and count the unique numbers in the list *l*"
   ]
  },
  {
   "cell_type": "code",
   "execution_count": 12,
   "metadata": {},
   "outputs": [
    {
     "name": "stdout",
     "output_type": "stream",
     "text": [
      "The numbers that appear only 1 times are \n",
      " [58, 74, 96, 64, 10, 24, 19, 33, 86, 99, 18, 47, 88, 55, 54, 8, 79, 81, 57, 37, 1, 9, 95, 90, 98, 39, 16, 82, 92, 41, 30, 94, 5, 72, 87, 75, 53]\n"
     ]
    },
    {
     "data": {
      "text/plain": [
       "()"
      ]
     },
     "execution_count": 12,
     "metadata": {},
     "output_type": "execute_result"
    }
   ],
   "source": [
    "l = [36, 45, 58, 3, 74, 96, 64, 45, 31, 10, 24, 19, 33, 86, 99, 18, 63, 70, 85,\n",
    " 85, 63, 47, 56, 42, 70, 84, 88, 55, 20, 54, 8, 56, 51, 79, 81, 57, 37, 91,\n",
    " 1, 84, 84, 36, 66, 9, 89, 50, 42, 91, 50, 95, 90, 98, 39, 16, 82, 31, 92, 41,\n",
    " 45, 30, 66, 70, 34, 85, 94, 5, 3, 36, 72, 91, 84, 34, 87, 75, 53, 51, 20, 89, 51, 20]\n",
    "\n",
    "def findout (a):\n",
    "    n=[]\n",
    "    for i in a:\n",
    "        if a.count(i) == 1:\n",
    "            n.append(i)\n",
    "            \n",
    "    print('The numbers that appear only 1 times are \\n',n)\n",
    "    return ()\n",
    "\n",
    "findout(l)"
   ]
  },
  {
   "cell_type": "markdown",
   "metadata": {},
   "source": [
    "6\\. Combination of functions\n",
    "\n",
    "Write two functions - one that returns the square of a number, and one that returns the cube. Now write a third function that returns the number raised to the 6th power using the two previous functions."
   ]
  },
  {
   "cell_type": "code",
   "execution_count": 7,
   "metadata": {},
   "outputs": [
    {
     "name": "stdout",
     "output_type": "stream",
     "text": [
      "Insert the number: 2\n",
      "The number ' 2.0 ' at the 6th power is: 64.0\n"
     ]
    }
   ],
   "source": [
    "a=float(input(\"Insert the number: \"))\n",
    "\n",
    "def square (a):\n",
    "    return (a*a)\n",
    "\n",
    "def cube (a):\n",
    "    return (a*a*a)\n",
    "\n",
    "def sixt(x):\n",
    "    return (square(cube(x)))\n",
    "\n",
    "print(\"The number '\",a, \"' at the 6th power is:\",  sixt(a))"
   ]
  },
  {
   "cell_type": "markdown",
   "metadata": {},
   "source": [
    "7\\. Cubes\n",
    "\n",
    "Create a list of the cubes of x for x in *[0, 10]* using:\n",
    "\n",
    "a) a for loop\n",
    "\n",
    "b) a list comprehension"
   ]
  },
  {
   "cell_type": "code",
   "execution_count": 20,
   "metadata": {},
   "outputs": [
    {
     "name": "stdout",
     "output_type": "stream",
     "text": [
      "Cube list realized by loop:  [0, 1, 8, 27, 64, 125, 216, 343, 512, 729, 1000]\n",
      "Cube list realized by list comprehension:  [0, 1, 8, 27, 64, 125, 216, 343, 512, 729, 1000]\n"
     ]
    }
   ],
   "source": [
    "cube=[]\n",
    "for i in range(11):\n",
    "    cube.append(i**3)\n",
    "\n",
    "print('Cube list realized by loop: ' , cube)\n",
    "\n",
    "cube2=[x**3 for x in range (11)]\n",
    "print('Cube list realized by list comprehension: ' , cube2)"
   ]
  },
  {
   "cell_type": "markdown",
   "metadata": {},
   "source": [
    "8\\. Nested list comprehension\n",
    "\n",
    "A Pythagorean triple is an integer solution to the Pythagorean theorem $a^2+b^2=c^2$. The first Pythagorean triple is (3,4,5). Find and put in a tuple all unique Pythagorean triples for the positive integers a, b and c less than 100."
   ]
  },
  {
   "cell_type": "code",
   "execution_count": 18,
   "metadata": {},
   "outputs": [
    {
     "name": "stdout",
     "output_type": "stream",
     "text": [
      "((3, 4, 5), (5, 12, 13), (6, 8, 10), (7, 24, 25), (8, 15, 17), (9, 12, 15), (9, 40, 41), (10, 24, 26), (11, 60, 61), (12, 16, 20), (12, 35, 37), (13, 84, 85), (14, 48, 50), (15, 20, 25), (15, 36, 39), (16, 30, 34), (16, 63, 65), (18, 24, 30), (18, 80, 82), (20, 21, 29), (20, 48, 52), (21, 28, 35), (21, 72, 75), (24, 32, 40), (24, 45, 51), (24, 70, 74), (25, 60, 65), (27, 36, 45), (28, 45, 53), (30, 40, 50), (30, 72, 78), (32, 60, 68), (33, 44, 55), (33, 56, 65), (35, 84, 91), (36, 48, 60), (36, 77, 85), (39, 52, 65), (39, 80, 89), (40, 42, 58), (40, 75, 85), (42, 56, 70), (45, 60, 75), (48, 55, 73), (48, 64, 80), (51, 68, 85), (54, 72, 90), (57, 76, 95), (60, 63, 87), (65, 72, 97))\n"
     ]
    }
   ],
   "source": [
    "lis=[(a,b,c) for a in range(1,100) for b in range (a,100) for c in range(b,100) if a**2+b**2==c**2]\n",
    "\n",
    "print(tuple(lis))"
   ]
  },
  {
   "cell_type": "markdown",
   "metadata": {},
   "source": [
    "9\\. Normalization\n",
    "\n",
    "Write a function that takes a tuple of numbers and returns it with the entries normalized to one"
   ]
  },
  {
   "cell_type": "code",
   "execution_count": 95,
   "metadata": {},
   "outputs": [
    {
     "name": "stdout",
     "output_type": "stream",
     "text": [
      "Set the dimension number of vector: 2\n",
      "insert 1 -coordinate: \n",
      "4\n",
      "insert 2 -coordinate: \n",
      "6\n",
      "\n",
      "The vector is (4.0, 6.0) \n",
      "\n",
      "the vector normalized is (0.5547001962252291, 0.8320502943378437)\n"
     ]
    }
   ],
   "source": [
    "from math import sqrt\n",
    "inp=int(input(\"Set the dimension number of vector: \"))\n",
    "\n",
    "i=0\n",
    "s=[]\n",
    "\n",
    "while i<inp:\n",
    "    print(\"insert\",i+1,\"-coordinate: \")\n",
    "    x=float(input())\n",
    "    s.append(x)\n",
    "    i+=1\n",
    "\n",
    "#convert list in a tuple to be used in the function below\n",
    "\n",
    "q=tuple(s)\n",
    "print('\\nThe vector is', q ,'\\n')\n",
    "\n",
    "#funtion definition\n",
    "\n",
    "def norm (a):\n",
    "    z=list(a)\n",
    "    summ=0.0\n",
    "    for i in range(len(a)): summ+=a[i]**2\n",
    "        \n",
    "    summ=sqrt(summ)\n",
    "    for e in range(len(a)):\n",
    "        z[e]=z[e]/summ\n",
    "        tp=tuple(z)\n",
    "    return(tp)\n",
    "\n",
    "t=norm(q)\n",
    "print('The vector normalized is', t)"
   ]
  },
  {
   "cell_type": "code",
   "execution_count": null,
   "metadata": {},
   "outputs": [],
   "source": []
  }
 ],
 "metadata": {
  "kernelspec": {
   "display_name": "Python 3",
   "language": "python",
   "name": "python3"
  },
  "language_info": {
   "codemirror_mode": {
    "name": "ipython",
    "version": 3
   },
   "file_extension": ".py",
   "mimetype": "text/x-python",
   "name": "python",
   "nbconvert_exporter": "python",
   "pygments_lexer": "ipython3",
   "version": "3.8.3"
  }
 },
 "nbformat": 4,
 "nbformat_minor": 2
}
