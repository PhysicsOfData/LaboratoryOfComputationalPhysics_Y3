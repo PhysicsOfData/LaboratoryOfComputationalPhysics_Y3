{
 "cells": [
  {
   "cell_type": "markdown",
   "metadata": {},
   "source": [
    "1. The MickeyMouse problem\n",
    "\n",
    "a) Write a program that prints the numbers from 1 to 100. But for multiples of three print Mickey instead of the number and for the multiples of five print Mouse. For numbers which are multiples of both three and five print MickeyMouse\n",
    "\n",
    "b) Put the result in a tuple and substitute Mickey with Donald and Mouse with Duck"
   ]
  },
  {
   "cell_type": "code",
   "execution_count": 1,
   "metadata": {
    "scrolled": true
   },
   "outputs": [
    {
     "name": "stdout",
     "output_type": "stream",
     "text": [
      "1\n",
      "2\n",
      "Mickey\n",
      "4\n",
      "Mouse\n",
      "Mickey\n",
      "7\n",
      "8\n",
      "Mickey\n",
      "Mouse\n",
      "11\n",
      "Mickey\n",
      "13\n",
      "14\n",
      "MickeyMouse\n",
      "16\n",
      "17\n",
      "Mickey\n",
      "19\n",
      "Mouse\n",
      "Mickey\n",
      "22\n",
      "23\n",
      "Mickey\n",
      "Mouse\n",
      "26\n",
      "Mickey\n",
      "28\n",
      "29\n",
      "MickeyMouse\n",
      "31\n",
      "32\n",
      "Mickey\n",
      "34\n",
      "Mouse\n",
      "Mickey\n",
      "37\n",
      "38\n",
      "Mickey\n",
      "Mouse\n",
      "41\n",
      "Mickey\n",
      "43\n",
      "44\n",
      "MickeyMouse\n",
      "46\n",
      "47\n",
      "Mickey\n",
      "49\n",
      "Mouse\n",
      "Mickey\n",
      "52\n",
      "53\n",
      "Mickey\n",
      "Mouse\n",
      "56\n",
      "Mickey\n",
      "58\n",
      "59\n",
      "MickeyMouse\n",
      "61\n",
      "62\n",
      "Mickey\n",
      "64\n",
      "Mouse\n",
      "Mickey\n",
      "67\n",
      "68\n",
      "Mickey\n",
      "Mouse\n",
      "71\n",
      "Mickey\n",
      "73\n",
      "74\n",
      "MickeyMouse\n",
      "76\n",
      "77\n",
      "Mickey\n",
      "79\n",
      "Mouse\n",
      "Mickey\n",
      "82\n",
      "83\n",
      "Mickey\n",
      "Mouse\n",
      "86\n",
      "Mickey\n",
      "88\n",
      "89\n",
      "MickeyMouse\n",
      "91\n",
      "92\n",
      "Mickey\n",
      "94\n",
      "Mouse\n",
      "Mickey\n",
      "97\n",
      "98\n",
      "Mickey\n",
      "Mouse\n"
     ]
    }
   ],
   "source": [
    "#define the tuple\n",
    "nt=()\n",
    "#cycle\n",
    "for i in range(1,101):\n",
    "    if i%15==0:#alternatively one could use logical and\n",
    "        print(\"MickeyMouse\")\n",
    "        nt=nt+(\"DonaldDuck\",)\n",
    "    elif i%3==0:\n",
    "        print(\"Mickey\")\n",
    "        nt=nt+(\"Donald\",)\n",
    "    elif i%5==0:\n",
    "        print(\"Mouse\")\n",
    "        nt=nt+(\"Duck\",)\n",
    "    else:\n",
    "        print(i)\n",
    "        nt=nt+(i,)\n",
    "#print(len(nt)) checks everything worked\n",
    "#print(nt)  \n",
    "    "
   ]
  },
  {
   "cell_type": "markdown",
   "metadata": {},
   "source": [
    "2\\. The swap function\n",
    "\n",
    "Write a function that swap the values of two input variables x and y (whatever the type). Try to do that also without a temporary variable"
   ]
  },
  {
   "cell_type": "code",
   "execution_count": 37,
   "metadata": {},
   "outputs": [
    {
     "name": "stdout",
     "output_type": "stream",
     "text": [
      "2\n",
      "3\n"
     ]
    }
   ],
   "source": [
    "#definition and test\n",
    "x,y=2,3\n",
    "print(x)\n",
    "\n",
    "#with temporary variable\n",
    "def swap(x,y):\n",
    "    t=x\n",
    "    x=y\n",
    "    y=t\n",
    "    return x,y\n",
    "    \n",
    "#without temporary variable\n",
    "def SWAP(x,y):\n",
    "    x,y=y,x\n",
    "    return x,y\n",
    "\n",
    "def shortSWAP(x,y):\n",
    "    return y,x\n",
    "\n",
    "#final test\n",
    "#x,y=swap(x,y)\n",
    "#print(x)\n",
    "#x,y=SWAP(x,y)\n",
    "#print(x)\n",
    "x,y=shortSWAP(x,y)\n",
    "print(x)"
   ]
  },
  {
   "cell_type": "markdown",
   "metadata": {},
   "source": [
    "3\\. Computing the distance\n",
    "\n",
    "Write a function that calculates and returns the euclidean distance between two points *u* and *v*, where *u* and *v* are both 2-tuples *(x,y)*. For example, if *u=(3,0)* and *v=(0,4)*, the function should return 5"
   ]
  },
  {
   "cell_type": "code",
   "execution_count": 47,
   "metadata": {},
   "outputs": [
    {
     "name": "stdout",
     "output_type": "stream",
     "text": [
      "3 0 0 4\n",
      "5.0\n"
     ]
    }
   ],
   "source": [
    "import math\n",
    "#definition\n",
    "def Distance(u,v):\n",
    "    print(u[0],u[1],v[0],v[1])\n",
    "    try:\n",
    "        d=math.sqrt((u[0]-v[0])**2+(u[1]-v[1])**2)\n",
    "        return d\n",
    "    except:\n",
    "        print (\"u or v is not a tuple or does not contain numbers\")\n",
    "\n",
    "U,V=(3,0),(0,4)\n",
    "distance=Distance(U,V)\n",
    "print(distance)"
   ]
  },
  {
   "cell_type": "markdown",
   "metadata": {},
   "source": [
    "4\\. Counting letters\n",
    "\n",
    "Write a program to calculate the number of times each character occurs in a given string *s*. Ignore differneces in capitalization"
   ]
  },
  {
   "cell_type": "code",
   "execution_count": 16,
   "metadata": {},
   "outputs": [
    {
     "name": "stdout",
     "output_type": "stream",
     "text": [
      "w 2\n",
      "r 17\n",
      "i 14\n",
      "t 19\n",
      "e 22\n",
      "  41\n",
      "a 7\n",
      "p 8\n",
      "o 13\n",
      "g 1\n",
      "m 12\n",
      "h 9\n",
      "n 10\n",
      "s 9\n",
      "u 9\n",
      "b 5\n",
      "f 10\n",
      "1 2\n",
      "0 2\n",
      ". 2\n",
      "l 6\n",
      "c 3\n",
      "k 2\n",
      "y 2\n",
      "d 3\n",
      "v 2\n"
     ]
    }
   ],
   "source": [
    "S=\"Write a program that prints the numbers from 1 to 100. \\\n",
    "But for multiples of three print Mickey instead of the number and for the multiples of five print Mouse. \\\n",
    "For numbers which are multiples of both three and five print MickeyMouse\"\n",
    "#let's put everything in lowercase\n",
    "s=\"\"\n",
    "for cont in range(0,len(S)):\n",
    "    s=s+(S[cont].lower())\n",
    "#definitions\n",
    "diction={}\n",
    "cont=0\n",
    "#starts counting cycle\n",
    "for i in range(0,len(s)):\n",
    "\n",
    "    if not(s[cont] in diction):#if it is the first time it meets this letter (key)\n",
    "        diction[s[cont]]=1 #it saves the letter as a key which value is the counting:start from 1\n",
    "    elif (s[cont] in diction):#if the letter is not new, just augment the counter\n",
    "        value=diction[s[cont]]\n",
    "        value=value+1\n",
    "        diction[s[cont]]=value\n",
    "    cont=cont+1\n",
    "#test\n",
    "for i in diction: print (i,diction[i]) "
   ]
  },
  {
   "cell_type": "markdown",
   "metadata": {},
   "source": [
    "5\\. Isolating the unique\n",
    "\n",
    "Write a function that determines and count the unique numbers in the list *l*"
   ]
  },
  {
   "cell_type": "code",
   "execution_count": 11,
   "metadata": {},
   "outputs": [
    {
     "name": "stdout",
     "output_type": "stream",
     "text": [
      "[1, 3, 3, 5, 8, 9, 10, 16, 18, 19, 20, 20, 20, 24, 30, 31, 31, 33, 34, 34, 36, 36, 36, 37, 39, 41, 42, 42, 45, 45, 45, 47, 50, 50, 51, 51, 51, 53, 54, 55, 56, 56, 57, 58, 63, 63, 64, 66, 66, 70, 70, 70, 72, 74, 75, 79, 81, 82, 84, 84, 84, 84, 85, 85, 85, 86, 87, 88, 89, 89, 90, 91, 91, 91, 92, 94, 95, 96, 98, 99]\n",
      "[1, 3, 5, 8, 9, 10, 16, 18, 19, 20, 24, 30, 31, 33, 34, 36, 37, 39, 41, 42, 45, 47, 50, 51, 53, 54, 55, 56, 57, 58, 63, 64, 66, 70, 72, 74, 75, 79, 81, 82, 84, 85, 86, 87, 88, 89, 90, 91, 92, 94, 95, 96, 98, 99]\n"
     ]
    }
   ],
   "source": [
    "l = [36, 45, 58, 3, 74, 96, 64, 45, 31, 10, 24, 19, 33, 86, 99, 18, 63, 70, 85,\n",
    " 85, 63, 47, 56, 42, 70, 84, 88, 55, 20, 54, 8, 56, 51, 79, 81, 57, 37, 91,\n",
    " 1, 84, 84, 36, 66, 9, 89, 50, 42, 91, 50, 95, 90, 98, 39, 16, 82, 31, 92, 41,\n",
    " 45, 30, 66, 70, 34, 85, 94, 5, 3, 36, 72, 91, 84, 34, 87, 75, 53, 51, 20, 89, 51, 20]\n",
    "#more general, yet not the most efficient (every cycle I write the data and then delete it if it's already there)\n",
    "#a more efficient one is to first check ifthe data is new and only then write, yet I only have lengthy ideas\n",
    "#(booleans or counters) on how to do it\n",
    "def Once(l):\n",
    "    v=[]\n",
    "    for i in range(0,len(l)):\n",
    "        v.append(l[i]) #add the element\n",
    "        if len(v)>1 :\n",
    "            for j in range(0,len(v)-1):\n",
    "                if v[j]==l[i]:  #delete element if already there\n",
    "                    v.pop()\n",
    "                    break\n",
    "    return v\n",
    "List=Once(l)\n",
    "print(List)\n",
    "#to count the unique numbers, just use len(List)\n",
    "\n",
    "#since they are number, one could also use l.sort() and just check if the number before the index studied is the same\n",
    "#as the one pointed by the index and if so, delete it from l or nor rewrite it in the new list"
   ]
  },
  {
   "cell_type": "markdown",
   "metadata": {},
   "source": [
    "6\\. Combination of functions\n",
    "\n",
    "Write two functions - one that returns the square of a number, and one that returns the cube. Now write a third function that returns the number raised to the 6th power using the two previous functions."
   ]
  },
  {
   "cell_type": "code",
   "execution_count": 15,
   "metadata": {},
   "outputs": [
    {
     "name": "stdout",
     "output_type": "stream",
     "text": [
      "64\n"
     ]
    }
   ],
   "source": [
    "def Square(x):\n",
    "    try:\n",
    "        y=x**2\n",
    "        return y\n",
    "    except:\n",
    "        print(\"x is not a number\")\n",
    "\n",
    "def Cube(x):\n",
    "     try:\n",
    "        y=x**3\n",
    "        return y\n",
    "     except:\n",
    "        print(\"x is not a number\")\n",
    "\n",
    "        \n",
    "def Sixth(x):\n",
    "    try:\n",
    "        y=Square(x)\n",
    "        z=Cube(y)\n",
    "        return z\n",
    "    except:\n",
    "        print(\"x is not a number\")\n",
    "        \n",
    "print(Sixth(2))"
   ]
  },
  {
   "cell_type": "markdown",
   "metadata": {},
   "source": [
    "7\\. Cubes\n",
    "\n",
    "Create a list of the cubes of x for x in *[0, 10]* using:\n",
    "\n",
    "a) a for loop\n",
    "\n",
    "b) a list comprehension"
   ]
  },
  {
   "cell_type": "code",
   "execution_count": 17,
   "metadata": {},
   "outputs": [
    {
     "name": "stdout",
     "output_type": "stream",
     "text": [
      "[0, 1, 4, 9, 16, 25, 36, 49, 64, 81]\n",
      "[0, 1, 4, 9, 16, 25, 36, 49, 64, 81]\n"
     ]
    }
   ],
   "source": [
    "#a) with loop\n",
    "cubi = []\n",
    "\n",
    "for n in range(10):\n",
    "    cubi.append(n**2)\n",
    "\n",
    "#b) with list comprehension\n",
    "CUBES= [n**2 for n in range(10)]\n",
    "\n",
    "print(cubi)\n",
    "print(CUBES)"
   ]
  },
  {
   "cell_type": "markdown",
   "metadata": {},
   "source": [
    "8\\. Nested list comprehension\n",
    "\n",
    "A Pythagorean triple is an integer solution to the Pythagorean theorem $a^2+b^2=c^2$. The first Pythagorean triple is (3,4,5). Find and put in a tuple all unique Pythagorean triples for the positive integers a, b and c less than 100."
   ]
  },
  {
   "cell_type": "code",
   "execution_count": 27,
   "metadata": {
    "scrolled": true
   },
   "outputs": [
    {
     "name": "stdout",
     "output_type": "stream",
     "text": [
      "(3, 4, 5.0, '#', 5, 12, 13.0, '#', 6, 8, 10.0, '#', 7, 24, 25.0, '#', 8, 15, 17.0, '#', 9, 12, 15.0, '#', 9, 40, 41.0, '#', 10, 24, 26.0, '#', 11, 60, 61.0, '#', 12, 16, 20.0, '#', 12, 35, 37.0, '#', 13, 84, 85.0, '#', 14, 48, 50.0, '#', 15, 20, 25.0, '#', 15, 36, 39.0, '#', 16, 30, 34.0, '#', 16, 63, 65.0, '#', 18, 24, 30.0, '#', 18, 80, 82.0, '#', 20, 21, 29.0, '#', 20, 48, 52.0, '#', 21, 28, 35.0, '#', 21, 72, 75.0, '#', 24, 32, 40.0, '#', 24, 45, 51.0, '#', 24, 70, 74.0, '#', 25, 60, 65.0, '#', 27, 36, 45.0, '#', 28, 45, 53.0, '#', 30, 40, 50.0, '#', 30, 72, 78.0, '#', 32, 60, 68.0, '#', 33, 44, 55.0, '#', 33, 56, 65.0, '#', 35, 84, 91.0, '#', 36, 48, 60.0, '#', 36, 77, 85.0, '#', 39, 52, 65.0, '#', 39, 80, 89.0, '#', 40, 42, 58.0, '#', 40, 75, 85.0, '#', 42, 56, 70.0, '#', 45, 60, 75.0, '#', 48, 55, 73.0, '#', 48, 64, 80.0, '#', 51, 68, 85.0, '#', 54, 72, 90.0, '#', 57, 76, 95.0, '#', 60, 63, 87.0, '#', 65, 72, 97.0, '#')\n",
      "(3, 4, 5.0)\n",
      "(5, 12, 13.0)\n",
      "(6, 8, 10.0)\n",
      "(7, 24, 25.0)\n",
      "(8, 15, 17.0)\n",
      "(9, 12, 15.0)\n",
      "(9, 40, 41.0)\n",
      "(10, 24, 26.0)\n",
      "(11, 60, 61.0)\n",
      "(12, 16, 20.0)\n",
      "(12, 35, 37.0)\n",
      "(13, 84, 85.0)\n",
      "(14, 48, 50.0)\n",
      "(15, 20, 25.0)\n",
      "(15, 36, 39.0)\n",
      "(16, 30, 34.0)\n",
      "(16, 63, 65.0)\n",
      "(18, 24, 30.0)\n",
      "(18, 80, 82.0)\n",
      "(20, 21, 29.0)\n",
      "(20, 48, 52.0)\n",
      "(21, 28, 35.0)\n",
      "(21, 72, 75.0)\n",
      "(24, 32, 40.0)\n",
      "(24, 45, 51.0)\n",
      "(24, 70, 74.0)\n",
      "(25, 60, 65.0)\n",
      "(27, 36, 45.0)\n",
      "(28, 45, 53.0)\n",
      "(30, 40, 50.0)\n",
      "(30, 72, 78.0)\n",
      "(32, 60, 68.0)\n",
      "(33, 44, 55.0)\n",
      "(33, 56, 65.0)\n",
      "(35, 84, 91.0)\n",
      "(36, 48, 60.0)\n",
      "(36, 77, 85.0)\n",
      "(39, 52, 65.0)\n",
      "(39, 80, 89.0)\n",
      "(40, 42, 58.0)\n",
      "(40, 75, 85.0)\n",
      "(42, 56, 70.0)\n",
      "(45, 60, 75.0)\n",
      "(48, 55, 73.0)\n",
      "(48, 64, 80.0)\n",
      "(51, 68, 85.0)\n",
      "(54, 72, 90.0)\n",
      "(57, 76, 95.0)\n",
      "(60, 63, 87.0)\n",
      "(65, 72, 97.0)\n"
     ]
    }
   ],
   "source": [
    "import math\n",
    "#without double counting\n",
    "#if we wanted to consider double counting (i.e. (3,4,5) as well as (4,3,5) in the tuple) we just have to start\n",
    "#the second for from 1 instead of x\n",
    "orderedtryplets=()\n",
    "for x in range(1,100):\n",
    "    for y in range(x,100):\n",
    "        c=math.sqrt(x**2+y**2)\n",
    "        if (c<100 and c%1==0):\n",
    "            orderedtryplets=orderedtryplets+(x,y,c,\"#\")#I added # to make the output more readable\n",
    "            \n",
    "print(orderedtryplets)\n",
    "#one could also use a nested list comprehension,\n",
    "tryples=([(a,b,math.sqrt(a**2+b**2)) for a in range(1,100) for b in range(1,100) if (math.sqrt(a**2+b**2)%1==0 and math.sqrt(a**2+b**2)<100 and a<b)])\n",
    "\n",
    "for i in tryples:\n",
    "    print(i)\n"
   ]
  },
  {
   "cell_type": "markdown",
   "metadata": {},
   "source": [
    "9\\. Normalization\n",
    "\n",
    "Write a function that takes a tuple of numbers and returns it with the entries normalized to one"
   ]
  },
  {
   "cell_type": "code",
   "execution_count": 11,
   "metadata": {},
   "outputs": [
    {
     "name": "stdout",
     "output_type": "stream",
     "text": [
      "(1.0, 0.0)\n"
     ]
    }
   ],
   "source": [
    "import math\n",
    "\n",
    "def Normalitation(tp):\n",
    "    normtp=()\n",
    "    sum=0\n",
    "    for i in range(0,len(tp)):\n",
    "        sum=sum+tp[i]**2\n",
    "    norm=math.sqrt(sum)\n",
    "    for i in range(0,len(tp)):\n",
    "        normtp=normtp+(tp[i]/norm,)\n",
    "    return normtp\n",
    "tp=(2,0)\n",
    "vect=Normalitation(tp)\n",
    "print(vect)"
   ]
  },
  {
   "cell_type": "code",
   "execution_count": null,
   "metadata": {},
   "outputs": [],
   "source": []
  }
 ],
 "metadata": {
  "kernelspec": {
   "display_name": "Python 3",
   "language": "python",
   "name": "python3"
  },
  "language_info": {
   "codemirror_mode": {
    "name": "ipython",
    "version": 3
   },
   "file_extension": ".py",
   "mimetype": "text/x-python",
   "name": "python",
   "nbconvert_exporter": "python",
   "pygments_lexer": "ipython3",
   "version": "3.7.6"
  }
 },
 "nbformat": 4,
 "nbformat_minor": 2
}
