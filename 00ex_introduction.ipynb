{
 "cells": [
  {
   "cell_type": "markdown",
   "metadata": {},
   "source": [
    "1. The MickeyMouse problem\n",
    "\n",
    "a) Write a program that prints the numbers from 1 to 100. But for multiples of three print Mickey instead of the number and for the multiples of five print Mouse. For numbers which are multiples of both three and five print MickeyMouse\n",
    "\n",
    "b) Put the result in a tuple and substitute Mickey with Donald and Mouse with Duck"
   ]
  },
  {
   "cell_type": "code",
   "execution_count": 2,
   "metadata": {},
   "outputs": [
    {
     "name": "stdout",
     "output_type": "stream",
     "text": [
      "a)\n",
      "[0, 1, 2, 'Mickey', 4, 'Mouse', 'Mickey', 7, 8, 'Mickey', 'Mouse', 11, 'Mickey', 13, 14, 'MickeyMouse', 16, 17, 'Mickey', 19, 'Mouse', 'Mickey', 22, 23, 'Mickey', 'Mouse', 26, 'Mickey', 28, 29, 'MickeyMouse', 31, 32, 'Mickey', 34, 'Mouse', 'Mickey', 37, 38, 'Mickey', 'Mouse', 41, 'Mickey', 43, 44, 'MickeyMouse', 46, 47, 'Mickey', 49, 'Mouse', 'Mickey', 52, 53, 'Mickey', 'Mouse', 56, 'Mickey', 58, 59, 'MickeyMouse', 61, 62, 'Mickey', 64, 'Mouse', 'Mickey', 67, 68, 'Mickey', 'Mouse', 71, 'Mickey', 73, 74, 'MickeyMouse', 76, 77, 'Mickey', 79, 'Mouse', 'Mickey', 82, 83, 'Mickey', 'Mouse', 86, 'Mickey', 88, 89, 'MickeyMouse', 91, 92, 'Mickey', 94, 'Mouse', 'Mickey', 97, 98, 'Mickey', 'Mouse']\n",
      "b)\n",
      "<class 'list'>\n",
      "[0, 1, 2, 'Donald', 4, 'Duck', 'Donald', 7, 8, 'Donald', 'Duck', 11, 'Donald', 13, 14, 'DonaldDuck', 16, 17, 'Donald', 19, 'Duck', 'Donald', 22, 23, 'Donald', 'Duck', 26, 'Donald', 28, 29, 'DonaldDuck', 31, 32, 'Donald', 34, 'Duck', 'Donald', 37, 38, 'Donald', 'Duck', 41, 'Donald', 43, 44, 'DonaldDuck', 46, 47, 'Donald', 49, 'Duck', 'Donald', 52, 53, 'Donald', 'Duck', 56, 'Donald', 58, 59, 'DonaldDuck', 61, 62, 'Donald', 64, 'Duck', 'Donald', 67, 68, 'Donald', 'Duck', 71, 'Donald', 73, 74, 'DonaldDuck', 76, 77, 'Donald', 79, 'Duck', 'Donald', 82, 83, 'Donald', 'Duck', 86, 'Donald', 88, 89, 'DonaldDuck', 91, 92, 'Donald', 94, 'Duck', 'Donald', 97, 98, 'Donald', 'Duck']\n",
      "<class 'tuple'>\n",
      "(0, 1, 2, 'Donald', 4, 'Duck', 'Donald', 7, 8, 'Donald', 'Duck', 11, 'Donald', 13, 14, 'DonaldDuck', 16, 17, 'Donald', 19, 'Duck', 'Donald', 22, 23, 'Donald', 'Duck', 26, 'Donald', 28, 29, 'DonaldDuck', 31, 32, 'Donald', 34, 'Duck', 'Donald', 37, 38, 'Donald', 'Duck', 41, 'Donald', 43, 44, 'DonaldDuck', 46, 47, 'Donald', 49, 'Duck', 'Donald', 52, 53, 'Donald', 'Duck', 56, 'Donald', 58, 59, 'DonaldDuck', 61, 62, 'Donald', 64, 'Duck', 'Donald', 67, 68, 'Donald', 'Duck', 71, 'Donald', 73, 74, 'DonaldDuck', 76, 77, 'Donald', 79, 'Duck', 'Donald', 82, 83, 'Donald', 'Duck', 86, 'Donald', 88, 89, 'DonaldDuck', 91, 92, 'Donald', 94, 'Duck', 'Donald', 97, 98, 'Donald', 'Duck')\n"
     ]
    }
   ],
   "source": [
    "print(\"a)\")\n",
    "number_list= [x for x in range(101)]\n",
    "# print(number_list)\n",
    "b=\"Mickey\"\n",
    "c=\"Mouse\"\n",
    "d=b+c\n",
    "#print(d)\n",
    "x=0;\n",
    "while x<=100:\n",
    "    \n",
    "    if x>=3 and x%3==0 and x%15!=0:\n",
    "       \n",
    "        number_list.insert(number_list[x],b)\n",
    "        number_list.remove(number_list[x+1])\n",
    "    \n",
    "    if x>=5 and x%5==0 and x%15!=0:\n",
    "     \n",
    "        number_list.insert(number_list[x],c)\n",
    "        number_list.remove(number_list[x+1])\n",
    "    \n",
    "    if x>=3 and x%3==0 and x>=5 and x%5==0 :\n",
    "      \n",
    "        number_list.insert(number_list[x],d)\n",
    "        number_list.remove(number_list[x+1])   \n",
    "    x+=1\n",
    "print(number_list)  \n",
    "\n",
    "print(\"b)\")\n",
    "print(type(number_list))\n",
    "b=\"Mickey\"\n",
    "c=\"Mouse\"\n",
    "d=b+c\n",
    "e=\"Donald\"\n",
    "f=\"Duck\"\n",
    "g=e+f\n",
    "#print(d)\n",
    "x=0;\n",
    "while x<=100:\n",
    "    \n",
    "    if number_list[x]== b :\n",
    "        number_list[x]=e\n",
    "    if number_list[x]== c :\n",
    "        number_list[x]=f\n",
    "    if number_list[x]== d :\n",
    "        number_list[x]=g    \n",
    "    x+=1\n",
    "print(number_list)\n",
    "    \n",
    "tuple_list=tuple(number_list)\n",
    "print(type(tuple_list))\n",
    "print(tuple_list)\n"
   ]
  },
  {
   "cell_type": "markdown",
   "metadata": {},
   "source": [
    "2\\. The swap function\n",
    "\n",
    "Write a function that swap the values of two input variables x and y (whatever the type). Try to do that also without a temporary variable"
   ]
  },
  {
   "cell_type": "code",
   "execution_count": 4,
   "metadata": {},
   "outputs": [
    {
     "name": "stdout",
     "output_type": "stream",
     "text": [
      "with temporary variable\n",
      "Please enter first variable: 5\n",
      "Please enter second variable: 6\n",
      "The first variable after swapping: 6\n",
      "The second variable after swapping: 5\n",
      "without temporary variable\n",
      "Please enter first number: 5\n",
      "Please enter second number: 6\n",
      "After Swapping: first number = 6  second number = 5\n"
     ]
    }
   ],
   "source": [
    "print(\"with temporary variable\")\n",
    "first_input= input(\"Please enter first variable: \")\n",
    "second_input= input(\"Please enter second variable: \")\n",
    "\n",
    "temp_first = first_input\n",
    "first_input = second_input\n",
    "second_input = temp_first\n",
    "\n",
    "\n",
    "print(\"The first variable after swapping: \" + first_input)\n",
    "print(\"The second variable after swapping: \" + second_input)\n",
    "\n",
    "print(\"without temporary variable\")\n",
    "x = int(input(\"Please enter first number: \"))\n",
    "y = int(input(\"Please enter second number: \"))\n",
    "x = x + y  \n",
    "y = x - y \n",
    "x = x - y  \n",
    "print(\"After Swapping: first number =\", x, \" second number =\", y)"
   ]
  },
  {
   "cell_type": "markdown",
   "metadata": {},
   "source": [
    "3\\. Computing the distance\n",
    "\n",
    "Write a function that calculates and returns the euclidean distance between two points *u* and *v*, where *u* and *v* are both 2-tuples *(x,y)*. For example, if *u=(3,0)* and *v=(0,4)*, the function should return 5"
   ]
  },
  {
   "cell_type": "code",
   "execution_count": null,
   "metadata": {},
   "outputs": [],
   "source": [
    "from math import sqrt\n",
    "\n",
    "x1= int(input(\"Enter x1: \"))\n",
    "y1= int(input(\"Enter y1: \"))\n",
    "x2= int(input(\"Enter x2: \"))\n",
    "y2= int(input(\"Enter y2: \"))\n",
    "\n",
    "u= (x1,y1)\n",
    "v= (x2,y2)\n",
    "num = int(sqrt(((u[1]-v[1])**2) + ((u[0]-v[0])**2)))\n",
    "\n",
    "print(num)\n"
   ]
  },
  {
   "cell_type": "markdown",
   "metadata": {},
   "source": [
    "4\\. Counting letters\n",
    "\n",
    "Write a program to calculate the number of times each character occurs in a given string *s*. Ignore differneces in capitalization"
   ]
  },
  {
   "cell_type": "code",
   "execution_count": 6,
   "metadata": {},
   "outputs": [],
   "source": [
    "s=\"Write a program that prints the numbers from 1 to 100. \\\n",
    "But for multiples of three print Mickey instead of the number and for the multiples of five print Mouse. \\\n",
    "For numbers which are multiples of both three and five print MickeyMouse\"\n"
   ]
  },
  {
   "cell_type": "code",
   "execution_count": 7,
   "metadata": {},
   "outputs": [
    {
     "name": "stdout",
     "output_type": "stream",
     "text": [
      "Number of characters: \n",
      " {'w': 2, 'r': 17, 'i': 14, 't': 19, 'e': 22, ' ': 41, 'a': 7, 'p': 8, 'o': 13, 'g': 1, 'm': 12, 'h': 9, 'n': 10, 's': 9, 'u': 9, 'b': 5, 'f': 10, '1': 2, '0': 2, '.': 2, 'l': 6, 'c': 3, 'k': 2, 'y': 2, 'd': 3, 'v': 2}\n"
     ]
    }
   ],
   "source": [
    "s_new=s.lower()\n",
    "#print(s_new)\n",
    "characters = {} \n",
    "  \n",
    "for i in s_new: \n",
    "    if i in characters: \n",
    "        characters[i] += 1\n",
    "    else: \n",
    "        characters[i] = 1\n",
    "print (\"Number of characters: \\n \" +  str(characters))\n",
    "s=\"Write a program that prints the numbers from 1 to 100. \\\n",
    "But for multiples of three print Mickey instead of the number and for the multiples of five print Mouse. \\\n",
    "For numbers which are multiples of both three and five print MickeyMouse\"\n",
    "\n"
   ]
  },
  {
   "cell_type": "markdown",
   "metadata": {},
   "source": [
    "5\\. Isolating the unique\n",
    "\n",
    "Write a function that determines and count the unique numbers in the list *l*"
   ]
  },
  {
   "cell_type": "code",
   "execution_count": null,
   "metadata": {},
   "outputs": [],
   "source": [
    "l = [36, 45, 58, 3, 74, 96, 64, 45, 31, 10, 24, 19, 33, 86, 99, 18, 63, 70, 85,\n",
    " 85, 63, 47, 56, 42, 70, 84, 88, 55, 20, 54, 8, 56, 51, 79, 81, 57, 37, 91,\n",
    " 1, 84, 84, 36, 66, 9, 89, 50, 42, 91, 50, 95, 90, 98, 39, 16, 82, 31, 92, 41,\n",
    " 45, 30, 66, 70, 34, 85, 94, 5, 3, 36, 72, 91, 84, 34, 87, 75, 53, 51, 20, 89, 51, 20]"
   ]
  },
  {
   "cell_type": "code",
   "execution_count": null,
   "metadata": {},
   "outputs": [],
   "source": [
    "ss= sorted(l)\n",
    "print(ss)\n",
    "\n",
    "my_list = list(set(ss))\n",
    "print(my_list)"
   ]
  },
  {
   "cell_type": "markdown",
   "metadata": {},
   "source": [
    "6\\. Combination of functions\n",
    "\n",
    "Write two functions - one that returns the square of a number, and one that returns the cube. Now write a third function that returns the number raised to the 6th power using the two previous functions."
   ]
  },
  {
   "cell_type": "code",
   "execution_count": null,
   "metadata": {},
   "outputs": [],
   "source": [
    "a= int(input(\" number 1: \"))\n",
    "\n",
    "def square(a):\n",
    "    return a*a\n",
    "print(square(a))\n",
    "\n",
    "def cube(a):\n",
    "    return a*a*a\n",
    "print(cube(a))\n",
    "\n",
    "def six(a):\n",
    "      return square(a)*cube(a)*a\n",
    "print(six(a))\n"
   ]
  },
  {
   "cell_type": "markdown",
   "metadata": {},
   "source": [
    "7\\. Cubes\n",
    "\n",
    "Create a list of the cubes of x for x in *[0, 10]* using:\n",
    "\n",
    "a) a for loop\n",
    "\n",
    "b) a list comprehension"
   ]
  },
  {
   "cell_type": "code",
   "execution_count": null,
   "metadata": {},
   "outputs": [],
   "source": [
    "print(\"a)\")\n",
    "list1=[]\n",
    "for x in range(0,11):\n",
    "  \n",
    "    a=x*x*x\n",
    "    list1.append(a)\n",
    "    x+=1   \n",
    "print(list1)\n",
    "\n",
    "print(\"b)\")\n",
    "\n",
    "list2 = [i*i*i for i in range(0,11)]\n",
    "print(list2)\n",
    "\n"
   ]
  },
  {
   "cell_type": "markdown",
   "metadata": {},
   "source": [
    "8\\. Nested list comprehension\n",
    "\n",
    "A Pythagorean triple is an integer solution to the Pythagorean theorem $a^2+b^2=c^2$. The first Pythagorean triple is (3,4,5). Find and put in a tuple all unique Pythagorean triples for the positive integers a, b and c less than 100."
   ]
  },
  {
   "cell_type": "code",
   "execution_count": null,
   "metadata": {},
   "outputs": [],
   "source": [
    "list=[]\n",
    "for a in range (1,101):\n",
    "    for b in range (1,101) :\n",
    "        for c in range(1,101):\n",
    "            if c*c == (a*a)+(b*b):\n",
    "                \n",
    "                list.append([a,b,c])\n",
    "        c+=1\n",
    "    b+=1\n",
    "a+=1\n",
    "\n",
    "print(tuple(list))"
   ]
  },
  {
   "cell_type": "markdown",
   "metadata": {},
   "source": [
    "9\\. Normalization\n",
    "\n",
    "Write a function that takes a tuple of numbers and returns it with the entries normalized to one"
   ]
  },
  {
   "cell_type": "code",
   "execution_count": null,
   "metadata": {},
   "outputs": [],
   "source": [
    "a = (2,4,6,8)\n",
    "aa=list(a)\n",
    "\n",
    "amin, amax = min(aa), max(aa)\n",
    "for i, val in enumerate(aa):\n",
    "    aa[i] = (val-amin) / (amax-amin)\n",
    "    \n",
    "print(tuple(aa))"
   ]
  },
  {
   "cell_type": "code",
   "execution_count": null,
   "metadata": {},
   "outputs": [],
   "source": []
  },
  {
   "cell_type": "code",
   "execution_count": null,
   "metadata": {},
   "outputs": [],
   "source": []
  }
 ],
 "metadata": {
  "kernelspec": {
   "display_name": "Python 3",
   "language": "python",
   "name": "python3"
  },
  "language_info": {
   "codemirror_mode": {
    "name": "ipython",
    "version": 3
   },
   "file_extension": ".py",
   "mimetype": "text/x-python",
   "name": "python",
   "nbconvert_exporter": "python",
   "pygments_lexer": "ipython3",
   "version": "3.8.3"
  }
 },
 "nbformat": 4,
 "nbformat_minor": 2
}
