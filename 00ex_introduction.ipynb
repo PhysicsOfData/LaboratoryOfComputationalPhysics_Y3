{
 "cells": [
  {
   "cell_type": "markdown",
   "metadata": {},
   "source": [
    "1. The MickeyMouse problem\n",
    "\n",
    "a) Write a program that prints the numbers from 1 to 100. But for multiples of three print Mickey instead of the number and for the multiples of five print Mouse. For numbers which are multiples of both three and five print MickeyMouse\n",
    "\n",
    "b) Put the result in a tuple and substitute Mickey with Donald and Mouse with Duck"
   ]
  },
  {
   "cell_type": "code",
   "execution_count": 2,
   "metadata": {},
   "outputs": [],
   "source": [
    "def f1a():\n",
    "    \n",
    "    for i in range(1,101) :\n",
    "    \n",
    "        if i%3==0 and i%5==0:\n",
    "            print(\"MickeyMouse\")\n",
    "        elif i%3==0:\n",
    "            print(\"Mickey\")\n",
    "        elif i%5==0:\n",
    "            print(\"Mouse\")\n",
    "        else:\n",
    "            print(i)\n",
    "            \n",
    "def f1b():\n",
    "    \n",
    "    l1 = []\n",
    "    \n",
    "    for i in range(1,101) :\n",
    "    \n",
    "        if i%3==0 and i%5==0:\n",
    "            l1.append(\"MickeyMouse\")\n",
    "        elif i%3==0:\n",
    "            l1.append(\"Mickey\")\n",
    "        elif i%5==0:\n",
    "            l1.append(\"Mouse\")\n",
    "        else:\n",
    "            l1.append(i)\n",
    "    \n",
    "    for i in range(0,100):\n",
    "        \n",
    "        if l1[i]==\"Mickey\":\n",
    "            l1[i] = \"Donald\"\n",
    "        elif l1[i]==\"Mouse\":\n",
    "            l1[i] = \"Duck\" \n",
    "    \n",
    "    return tuple(l1)"
   ]
  },
  {
   "cell_type": "markdown",
   "metadata": {
    "slideshow": {
     "slide_type": "subslide"
    }
   },
   "source": [
    "2\\. The swap function\n",
    "\n",
    "Write a function that swap the values of two input variables x and y (whatever the type). Try to do that also without a temporary variable"
   ]
  },
  {
   "cell_type": "code",
   "execution_count": 31,
   "metadata": {},
   "outputs": [],
   "source": [
    "def fswap(a,b):\n",
    "    return b, a"
   ]
  },
  {
   "cell_type": "markdown",
   "metadata": {},
   "source": [
    "3\\. Computing the distance\n",
    "\n",
    "Write a function that calculates and returns the euclidean distance between two points *u* and *v*, where *u* and *v* are both 2-tuples *(x,y)*. For example, if *u=(3,0)* and *v=(0,4)*, the function should return 5"
   ]
  },
  {
   "cell_type": "code",
   "execution_count": 6,
   "metadata": {},
   "outputs": [],
   "source": [
    "def fdistance(a,b):\n",
    "    # More optimized\n",
    "    return ((a[0]-b[0])*(a[0]-b[0])+(a[1]-b[1])*(a[1]-b[1]))**0.5\n",
    "    # Naive method\n",
    "    # return ((a[0]-b[0])**2+(a[1]-b[1])**2)**0.5"
   ]
  },
  {
   "cell_type": "markdown",
   "metadata": {},
   "source": [
    "4\\. Counting letters\n",
    "\n",
    "Write a program to calculate the number of times each character occurs in a given string *s*. Ignore differneces in capitalization"
   ]
  },
  {
   "cell_type": "code",
   "execution_count": 1,
   "metadata": {},
   "outputs": [],
   "source": [
    "s=\"Write a program that prints the numbers from 1 to 100. \\\n",
    "But for multiples of three print Mickey instead of the number and for the multiples of five print Mouse. \\\n",
    "For numbers which are multiples of both three and five print MickeyMouse\""
   ]
  },
  {
   "cell_type": "code",
   "execution_count": 5,
   "metadata": {},
   "outputs": [
    {
     "name": "stdout",
     "output_type": "stream",
     "text": [
      "The character w occurs 2 times.\n",
      "The character i occurs 14 times.\n",
      "The character e occurs 22 times.\n",
      "The character a occurs 7 times.\n",
      "The character p occurs 8 times.\n",
      "The character o occurs 13 times.\n",
      "The character r occurs 17 times.\n",
      "The character h occurs 9 times.\n",
      "The character   occurs 41 times.\n",
      "The character n occurs 10 times.\n",
      "The character b occurs 5 times.\n",
      "The character f occurs 10 times.\n",
      "The character 1 occurs 2 times.\n",
      "The character 0 occurs 2 times.\n",
      "The character u occurs 9 times.\n",
      "The character l occurs 6 times.\n",
      "The character s occurs 9 times.\n",
      "The character c occurs 3 times.\n",
      "The character y occurs 2 times.\n",
      "The character d occurs 3 times.\n",
      "The character m occurs 12 times.\n",
      "The character t occurs 19 times.\n"
     ]
    }
   ],
   "source": [
    "def fcount(s): \n",
    "    \n",
    "    s = s.lower()\n",
    "    i = 0\n",
    "\n",
    "    while i <len(s):\n",
    "        \n",
    "        c = 0\n",
    "        d = s[i]\n",
    "    \n",
    "        for j in range(len(s)):\n",
    "\n",
    "            if d == s[j]:\n",
    "                c += 1\n",
    "        \n",
    "        print(\"The character\",s[i],\"occurs\",c,\"times.\")\n",
    "        s = s.replace(s[i],'')\n",
    "        i += 1\n",
    "        \n",
    "fcount(s)            \n",
    "                    "
   ]
  },
  {
   "cell_type": "markdown",
   "metadata": {},
   "source": [
    "5\\. Isolating the unique\n",
    "\n",
    "Write a function that determines and count the unique numbers in the list *l*"
   ]
  },
  {
   "cell_type": "code",
   "execution_count": 121,
   "metadata": {},
   "outputs": [],
   "source": [
    "l = [36, 45, 58, 3, 74, 96, 64, 45, 31, 10, 24, 19, 33, 86, 99, 18, 63, 70, 85,\n",
    " 85, 63, 47, 56, 42, 70, 84, 88, 55, 20, 54, 8, 56, 51, 79, 81, 57, 37, 91,\n",
    " 1, 84, 84, 36, 66, 9, 89, 50, 42, 91, 50, 95, 90, 98, 39, 16, 82, 31, 92, 41,\n",
    " 45, 30, 66, 70, 34, 85, 94, 5, 3, 36, 72, 91, 84, 34, 87, 75, 53, 51, 20, 89, 51, 20]"
   ]
  },
  {
   "cell_type": "code",
   "execution_count": 7,
   "metadata": {},
   "outputs": [],
   "source": [
    "def funique(l):\n",
    "    # Number of unique number   \n",
    "    k = 0\n",
    "\n",
    "    for i in range(len(l)):\n",
    "        c = 0\n",
    "\n",
    "        for j in range(len(l)):\n",
    "         \n",
    "            if l[i] == l[j]:\n",
    "                c += 1\n",
    "        \n",
    "        if c==1:\n",
    "            print(l[i],\" is unique!\")\n",
    "            k += 1\n",
    "    \n",
    "    print(\"There are \",k,\" unique numbers.\")"
   ]
  },
  {
   "cell_type": "markdown",
   "metadata": {},
   "source": [
    "6\\. Combination of functions\n",
    "\n",
    "Write two functions - one that returns the square of a number, and one that returns the cube. Now write a third function that returns the number raised to the 6th power using the two previous functions."
   ]
  },
  {
   "cell_type": "code",
   "execution_count": 128,
   "metadata": {},
   "outputs": [],
   "source": [
    "def fp2(x):\n",
    "    return x**2\n",
    "\n",
    "def fp3(x):\n",
    "    return x**3\n",
    "\n",
    "# Particular\n",
    "def fp6v1(x):\n",
    "    return fp3(fp2(x))\n",
    "\n",
    "# More general\n",
    "def fp6v2(f1,f2,x):\n",
    "    return f2(f1(x))\n"
   ]
  },
  {
   "cell_type": "markdown",
   "metadata": {},
   "source": [
    "7\\. Cubes\n",
    "\n",
    "Create a list of the cubes of x for x in *[0, 10]* using:\n",
    "\n",
    "a) a for loop\n",
    "\n",
    "b) a list comprehension"
   ]
  },
  {
   "cell_type": "code",
   "execution_count": 10,
   "metadata": {},
   "outputs": [],
   "source": [
    "l1 = []\n",
    "for i in range(0,11):\n",
    "    l1.append(i**3)\n",
    "\n",
    "l2 = [i**3 for i in range(11)]"
   ]
  },
  {
   "cell_type": "markdown",
   "metadata": {},
   "source": [
    "8\\. Nested list comprehension\n",
    "\n",
    "A Pythagorean triple is an integer solution to the Pythagorean theorem $a^2+b^2=c^2$. The first Pythagorean triple is (3,4,5). Find and put in a tuple all unique Pythagorean triples for the positive integers a, b and c less than 100."
   ]
  },
  {
   "cell_type": "code",
   "execution_count": 3,
   "metadata": {},
   "outputs": [],
   "source": [
    "l1 =[[3,4,5]]\n",
    "for i in range(3,100):\n",
    "    for j in range(4,i):\n",
    "        for k in range(5,100):\n",
    "            if i*i + j*j == k*k:\n",
    "                l1.append([i,j,k])\n",
    "l1 = tuple(l1)"
   ]
  },
  {
   "cell_type": "markdown",
   "metadata": {},
   "source": [
    "9\\. Normalization\n",
    "\n",
    "Write a function that takes a tuple of numbers and returns it with the entries normalized to one"
   ]
  },
  {
   "cell_type": "code",
   "execution_count": 12,
   "metadata": {},
   "outputs": [],
   "source": [
    "def fnorm(x):\n",
    "    x = list(x)\n",
    "    # Adder variable\n",
    "    s = 0\n",
    "    for i in range(len(x)):\n",
    "        s += x[i]\n",
    "    for i in range(len(x)):\n",
    "        x[i] /=s\n",
    "    \n",
    "    return tuple(x)"
   ]
  },
  {
   "cell_type": "code",
   "execution_count": null,
   "metadata": {},
   "outputs": [],
   "source": []
  }
 ],
 "metadata": {
  "kernelspec": {
   "display_name": "Python 3",
   "language": "python",
   "name": "python3"
  },
  "language_info": {
   "codemirror_mode": {
    "name": "ipython",
    "version": 3
   },
   "file_extension": ".py",
   "mimetype": "text/x-python",
   "name": "python",
   "nbconvert_exporter": "python",
   "pygments_lexer": "ipython3",
   "version": "3.8.3"
  }
 },
 "nbformat": 4,
 "nbformat_minor": 2
}
