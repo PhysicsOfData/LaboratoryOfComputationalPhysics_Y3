{
 "cells": [
  {
   "cell_type": "markdown",
   "metadata": {},
   "source": [
    "1. The MickeyMouse problem\n",
    "\n",
    "a) Write a program that prints the numbers from 1 to 100. But for multiples of three print Mickey instead of the number and for the multiples of five print Mouse. For numbers which are multiples of both three and five print MickeyMouse\n",
    "\n",
    "b) Put the result in a tuple and substitute Mickey with Donald and Mouse with Duck"
   ]
  },
  {
   "cell_type": "code",
   "execution_count": 1,
   "metadata": {},
   "outputs": [
    {
     "name": "stdout",
     "output_type": "stream",
     "text": [
      "1\n",
      "2\n",
      "Mickey\n",
      "4\n",
      "Mouse\n",
      "Mickey\n",
      "7\n",
      "8\n",
      "Mickey\n",
      "Mouse\n",
      "11\n",
      "Mickey\n",
      "13\n",
      "14\n",
      "MickeyMouse\n",
      "16\n",
      "17\n",
      "Mickey\n",
      "19\n",
      "Mouse\n",
      "Mickey\n",
      "22\n",
      "23\n",
      "Mickey\n",
      "Mouse\n",
      "26\n",
      "Mickey\n",
      "28\n",
      "29\n",
      "MickeyMouse\n",
      "31\n",
      "32\n",
      "Mickey\n",
      "34\n",
      "Mouse\n",
      "Mickey\n",
      "37\n",
      "38\n",
      "Mickey\n",
      "Mouse\n",
      "41\n",
      "Mickey\n",
      "43\n",
      "44\n",
      "MickeyMouse\n",
      "46\n",
      "47\n",
      "Mickey\n",
      "49\n",
      "Mouse\n",
      "Mickey\n",
      "52\n",
      "53\n",
      "Mickey\n",
      "Mouse\n",
      "56\n",
      "Mickey\n",
      "58\n",
      "59\n",
      "MickeyMouse\n",
      "61\n",
      "62\n",
      "Mickey\n",
      "64\n",
      "Mouse\n",
      "Mickey\n",
      "67\n",
      "68\n",
      "Mickey\n",
      "Mouse\n",
      "71\n",
      "Mickey\n",
      "73\n",
      "74\n",
      "MickeyMouse\n",
      "76\n",
      "77\n",
      "Mickey\n",
      "79\n",
      "Mouse\n",
      "Mickey\n",
      "82\n",
      "83\n",
      "Mickey\n",
      "Mouse\n",
      "86\n",
      "Mickey\n",
      "88\n",
      "89\n",
      "MickeyMouse\n",
      "91\n",
      "92\n",
      "Mickey\n",
      "94\n",
      "Mouse\n",
      "Mickey\n",
      "97\n",
      "98\n",
      "Mickey\n",
      "Mouse\n"
     ]
    }
   ],
   "source": [
    "l=[]\n",
    "for i in range (1,101): \n",
    "    if i%15==0:\n",
    "        print (\"MickeyMouse\")\n",
    "        l.append(\"MickeyMouse\")\n",
    "    elif i%3==0: \n",
    "        print (\"Mickey\")\n",
    "        l.append(\"Mickey\")\n",
    "    elif i%5==0:\n",
    "        print (\"Mouse\")\n",
    "        l.append(\"Mouse\")\n",
    "    else:\n",
    "        print (i)\n",
    "        l.append(i)\n",
    "    \n",
    "for i in range (0,100):\n",
    "    if l[i]==\"Mickey\":\n",
    "        l[i]=\"Donald\"\n",
    "    elif l[i]==\"Mouse\":\n",
    "        l[i]=\"Duck\"\n",
    "    elif l[i]==\"MickeyMouse\":\n",
    "        l[i]=\"DonaldDuck\""
   ]
  },
  {
   "cell_type": "markdown",
   "metadata": {},
   "source": [
    "2\\. The swap function\n",
    "\n",
    "Write a function that swap the values of two input variables x and y (whatever the type). Try to do that also without a temporary variable"
   ]
  },
  {
   "cell_type": "code",
   "execution_count": 32,
   "metadata": {},
   "outputs": [
    {
     "name": "stdout",
     "output_type": "stream",
     "text": [
      "x = Pippo\n",
      "y = 3\n"
     ]
    }
   ],
   "source": [
    "def swap (x,y):\n",
    "    x, y = y, x\n",
    "    print(\"x =\", x)\n",
    "    print(\"y =\", y)\n",
    "    \n",
    "\n",
    "swap(3, \"Pippo\")"
   ]
  },
  {
   "cell_type": "markdown",
   "metadata": {},
   "source": [
    "3\\. Computing the distance\n",
    "\n",
    "Write a function that calculates and returns the euclidean distance between two points *u* and *v*, where *u* and *v* are both 2-tuples *(x,y)*. For example, if *u=(3,0)* and *v=(0,4)*, the function should return 5"
   ]
  },
  {
   "cell_type": "code",
   "execution_count": 49,
   "metadata": {},
   "outputs": [
    {
     "data": {
      "text/plain": [
       "5.0"
      ]
     },
     "execution_count": 49,
     "metadata": {},
     "output_type": "execute_result"
    }
   ],
   "source": [
    "def dist(x1, y1, x2, y2):\n",
    "    u=(x1, y1)\n",
    "    v=(x2,y2)\n",
    "    d=((y2+y1)**2+(x1+x2)**2)**(1/2)\n",
    "    return d\n",
    "\n",
    "dist(3,0,0,4)\n"
   ]
  },
  {
   "cell_type": "markdown",
   "metadata": {},
   "source": [
    "4\\. Counting letters\n",
    "\n",
    "Write a program to calculate the number of times each character occurs in a given string *s*. Ignore differneces in capitalization"
   ]
  },
  {
   "cell_type": "code",
   "execution_count": 62,
   "metadata": {},
   "outputs": [
    {
     "data": {
      "text/plain": [
       "9"
      ]
     },
     "execution_count": 62,
     "metadata": {},
     "output_type": "execute_result"
    }
   ],
   "source": [
    "s = \"Write a program that prints the numbers from 1 to 100. \\\n",
    "But for multiples of three print Mickey instead of the number and for the multiples of five print Mouse. \\\n",
    "For numbers which are multiples of both three and five print MickeyMouse\"\n",
    "\n",
    "p=s.lower()\n",
    "p.count('s')"
   ]
  },
  {
   "cell_type": "markdown",
   "metadata": {},
   "source": [
    "5\\. Isolating the unique\n",
    "\n",
    "Write a function that determines and count the unique numbers in the list *l*"
   ]
  },
  {
   "cell_type": "code",
   "execution_count": 82,
   "metadata": {},
   "outputs": [
    {
     "name": "stdout",
     "output_type": "stream",
     "text": [
      "36 is a unique number\n",
      "45 is a unique number\n",
      "58 is a unique number\n",
      "3 is a unique number\n",
      "74 is a unique number\n",
      "The number of the unique numbers is 5\n"
     ]
    }
   ],
   "source": [
    "l = [36, 45, 58, 3, 74, 96, 96, 100, 96, 100]\n",
    "\n",
    "c=0\n",
    "\n",
    "for i in range (0,len(l)):\n",
    "    if l.count(l[i])==1:\n",
    "        print(l[i], \"is a unique number\")\n",
    "        c=c+1\n",
    "        \n",
    "print(\"The number of the unique numbers is\",c)"
   ]
  },
  {
   "cell_type": "markdown",
   "metadata": {},
   "source": [
    "6\\. Combination of functions\n",
    "\n",
    "Write two functions - one that returns the square of a number, and one that returns the cube. Now write a third function that returns the number raised to the 6th power using the two previous functions."
   ]
  },
  {
   "cell_type": "code",
   "execution_count": 4,
   "metadata": {},
   "outputs": [
    {
     "data": {
      "text/plain": [
       "15625"
      ]
     },
     "execution_count": 4,
     "metadata": {},
     "output_type": "execute_result"
    }
   ],
   "source": [
    "def square(x):\n",
    "    return x**2\n",
    "\n",
    "def cube(x):\n",
    "    return x**3\n",
    "\n",
    "def sixth(x):\n",
    "    return cube(square(x))\n",
    "\n",
    "sixth(5)"
   ]
  },
  {
   "cell_type": "markdown",
   "metadata": {},
   "source": [
    "7\\. Cubes\n",
    "\n",
    "Create a list of the cubes of x for x in *[0, 10]* using:\n",
    "\n",
    "a) a for loop\n",
    "\n",
    "b) a list comprehension"
   ]
  },
  {
   "cell_type": "code",
   "execution_count": 20,
   "metadata": {},
   "outputs": [
    {
     "ename": "TypeError",
     "evalue": "append() takes exactly one argument (2 given)",
     "output_type": "error",
     "traceback": [
      "\u001b[0;31m---------------------------------------------------------------------------\u001b[0m",
      "\u001b[0;31mTypeError\u001b[0m                                 Traceback (most recent call last)",
      "\u001b[0;32m<ipython-input-20-7ea00fdfeb12>\u001b[0m in \u001b[0;36m<module>\u001b[0;34m\u001b[0m\n\u001b[1;32m      1\u001b[0m \u001b[0mcubes\u001b[0m\u001b[0;34m=\u001b[0m\u001b[0;34m[\u001b[0m\u001b[0;34m]\u001b[0m\u001b[0;34m\u001b[0m\u001b[0;34m\u001b[0m\u001b[0m\n\u001b[1;32m      2\u001b[0m \u001b[0;32mfor\u001b[0m \u001b[0mi\u001b[0m \u001b[0;32min\u001b[0m \u001b[0mrange\u001b[0m \u001b[0;34m(\u001b[0m\u001b[0;36m11\u001b[0m\u001b[0;34m)\u001b[0m\u001b[0;34m:\u001b[0m\u001b[0;34m\u001b[0m\u001b[0;34m\u001b[0m\u001b[0m\n\u001b[0;32m----> 3\u001b[0;31m     \u001b[0mcubes\u001b[0m\u001b[0;34m.\u001b[0m\u001b[0mappend\u001b[0m\u001b[0;34m(\u001b[0m\u001b[0mi\u001b[0m\u001b[0;34m**\u001b[0m\u001b[0;36m3\u001b[0m\u001b[0;34m,\u001b[0m \u001b[0;34m\"z\"\u001b[0m\u001b[0;34m)\u001b[0m\u001b[0;34m\u001b[0m\u001b[0;34m\u001b[0m\u001b[0m\n\u001b[0m\u001b[1;32m      4\u001b[0m \u001b[0mprint\u001b[0m\u001b[0;34m(\u001b[0m\u001b[0mcubes\u001b[0m\u001b[0;34m)\u001b[0m\u001b[0;34m\u001b[0m\u001b[0;34m\u001b[0m\u001b[0m\n\u001b[1;32m      5\u001b[0m \u001b[0;34m\u001b[0m\u001b[0m\n",
      "\u001b[0;31mTypeError\u001b[0m: append() takes exactly one argument (2 given)"
     ]
    }
   ],
   "source": [
    "cubes=[]\n",
    "for i in range (11):\n",
    "    cubes.append(i**3)\n",
    "print(cubes)\n",
    "\n",
    "######################################\n",
    "\n",
    "cubesc=[x**3 for x in range(11)]\n",
    "print(cubesc)"
   ]
  },
  {
   "cell_type": "markdown",
   "metadata": {},
   "source": [
    "8\\. Nested list comprehension\n",
    "\n",
    "A Pythagorean triple is an integer solution to the Pythagorean theorem $a^2+b^2=c^2$. The first Pythagorean triple is (3,4,5). Find and put in a tuple all unique Pythagorean triples for the positive integers a, b and c less than 100."
   ]
  },
  {
   "cell_type": "code",
   "execution_count": 76,
   "metadata": {},
   "outputs": [
    {
     "name": "stdout",
     "output_type": "stream",
     "text": [
      "[3, 4, 5.0, '.', 5, 12, 13.0, '.', 6, 8, 10.0, '.', 7, 24, 25.0, '.', 8, 15, 17.0, '.', 9, 12, 15.0, '.', 9, 40, 41.0, '.', 10, 24, 26.0, '.', 11, 60, 61.0, '.', 12, 16, 20.0, '.', 12, 35, 37.0, '.', 13, 84, 85.0, '.', 14, 48, 50.0, '.', 15, 20, 25.0, '.', 15, 36, 39.0, '.', 16, 30, 34.0, '.', 16, 63, 65.0, '.', 18, 24, 30.0, '.', 18, 80, 82.0, '.', 20, 21, 29.0, '.', 20, 48, 52.0, '.', 21, 28, 35.0, '.', 21, 72, 75.0, '.', 24, 32, 40.0, '.', 24, 45, 51.0, '.', 24, 70, 74.0, '.', 25, 60, 65.0, '.', 27, 36, 45.0, '.', 28, 45, 53.0, '.', 30, 40, 50.0, '.', 30, 72, 78.0, '.', 32, 60, 68.0, '.', 33, 44, 55.0, '.', 33, 56, 65.0, '.', 35, 84, 91.0, '.', 36, 48, 60.0, '.', 36, 77, 85.0, '.', 39, 52, 65.0, '.', 39, 80, 89.0, '.', 40, 42, 58.0, '.', 40, 75, 85.0, '.', 42, 56, 70.0, '.', 45, 60, 75.0, '.', 48, 55, 73.0, '.', 48, 64, 80.0, '.', 51, 68, 85.0, '.', 54, 72, 90.0, '.', 57, 76, 95.0, '.', 60, 63, 87.0, '.', 65, 72, 97.0, '.']\n"
     ]
    }
   ],
   "source": [
    "p=[]\n",
    "for i in range (1,100):\n",
    "    for j in range(i+1, 100):\n",
    "        z=(i**2+j**2)**(1/2)\n",
    "        if z<100 and z%1==0:\n",
    "            p.append(i)\n",
    "            p.append(j)\n",
    "            p.append(z)\n",
    "            p.append('.')\n",
    "tuple(p)\n",
    "print(p)\n",
    "            "
   ]
  },
  {
   "cell_type": "markdown",
   "metadata": {},
   "source": [
    "9\\. Normalization\n",
    "\n",
    "Write a function that takes a tuple of numbers and returns it with the entries normalized to one"
   ]
  },
  {
   "cell_type": "code",
   "execution_count": 81,
   "metadata": {},
   "outputs": [
    {
     "name": "stdout",
     "output_type": "stream",
     "text": [
      "(1, 1, 1, 1, 1, 1, 1, 1, 1, 1, 1, 1, 1, 1, 1)\n"
     ]
    }
   ],
   "source": [
    "def fun(t):\n",
    "    l=list(t)\n",
    "    for i in range (len(l)):\n",
    "        l[i]=1\n",
    "    return print(tuple(l))\n",
    "\n",
    "t=(21,24,42352,5252,525,2,352,52,5,25,2,645645,67474,7474,7)\n",
    "fun(t)\n",
    "    "
   ]
  }
 ],
 "metadata": {
  "kernelspec": {
   "display_name": "Python 3",
   "language": "python",
   "name": "python3"
  },
  "language_info": {
   "codemirror_mode": {
    "name": "ipython",
    "version": 3
   },
   "file_extension": ".py",
   "mimetype": "text/x-python",
   "name": "python",
   "nbconvert_exporter": "python",
   "pygments_lexer": "ipython3",
   "version": "3.8.3"
  }
 },
 "nbformat": 4,
 "nbformat_minor": 2
}
