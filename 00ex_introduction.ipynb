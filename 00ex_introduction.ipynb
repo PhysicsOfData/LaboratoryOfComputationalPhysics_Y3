{
 "cells": [
  {
   "cell_type": "markdown",
   "metadata": {},
   "source": [
    "1. The MickeyMouse problem\n",
    "\n",
    "a) Write a program that prints the numbers from 1 to 100. But for multiples of three print Mickey instead of the number and for the multiples of five print Mouse. For numbers which are multiples of both three and five print MickeyMouse\n",
    "\n",
    "b) Put the result in a tuple and substitute Mickey with Donald and Mouse with Duck"
   ]
  },
  {

   "cell_type": "code",
   "execution_count": 51,
   "metadata": {},
   "outputs": [
    {
     "name": "stdout",
     "output_type": "stream",
     "text": [
      "(1, 2, 'Donald', 4, 'Duck', 'Donald', 7, 8, 'Donald', 'Duck', 11, 'Donald', 13, 14, 'DonaldDuck', 16, 17, 'Donald', 19, 'Duck', 'Donald', 22, 23, 'Donald', 'Duck', 26, 'Donald', 28, 29, 'DonaldDuck', 31, 32, 'Donald', 34, 'Duck', 'Donald', 37, 38, 'Donald', 'Duck', 41, 'Donald', 43, 44, 'DonaldDuck', 46, 47, 'Donald', 49, 'Duck', 'Donald', 52, 53, 'Donald', 'Duck', 56, 'Donald', 58, 59, 'DonaldDuck', 61, 62, 'Donald', 64, 'Duck', 'Donald', 67, 68, 'Donald', 'Duck', 71, 'Donald', 73, 74, 'DonaldDuck', 76, 77, 'Donald', 79, 'Duck', 'Donald', 82, 83, 'Donald', 'Duck', 86, 'Donald', 88, 89, 'DonaldDuck', 91, 92, 'Donald', 94, 'Duck', 'Donald', 97, 98, 'Donald', 'Duck')\n"
     ]
    }
   ],
   "source": [
    "def switchNames(string):     \n",
    "    if (string=='Mickey'):\n",
    "        return 'Donald'\n",
    "    if (string=='Mouse'):\n",
    "        return 'Duck'\n",
    "    return 'DonaldDuck'\n",
    "\n",
    "finalList=()\n",
    "for i in range(1,101):\n",
    "    ToPrint=\"\"\n",
    "    addToList=()\n",
    "    if (i%3!=0 and i%5!=0):\n",
    "        addToList=(i,)\n",
    "    else:\n",
    "        if(i%3==0):\n",
    "            ToPrint+=\"Mickey\"\n",
    "        if(i%5==0):\n",
    "            ToPrint+=\"Mouse\"\n",
    "        addToList=(switchNames(ToPrint),)\n",
    "    finalList+=addToList\n",
    "\n",
    "#print(finalList)"
   ]
  },
  {

   "cell_type": "markdown",
   "metadata": {},
   "source": [
    "2\\. The swap function\n",
    "\n",

    "Write a function that swaps the values of two input variables x and y (whatever the type). Try to do that also without a temporary variable"
   ]
  },
  {
   "cell_type": "code",
   "execution_count": null,
   "metadata": {},
   "outputs": [],
   "source": [
    "def SwapVar(x,y):\n",
    "    return [y,x]\n",
    "    \n",
    "    \n",
    "    \n",
    "#Example:\n",
    "num1=10\n",
    "num2=20\n",
    "print(SwapVar(num1,num2)"
]
  },
  {
   "cell_type": "markdown",
   "metadata": {},
   "source": [
    "3\\. Computing the distance\n",
    "\n",
    "Write a function that calculates and returns the euclidean distance between two points *u* and *v*, where *u* and *v* are both 2-tuples *(x,y)*. For example, if *u=(3,0)* and *v=(0,4)*, the function should return 5"
   ]
  },
  {

   "cell_type": "code",
   "execution_count": null,
   "metadata": {
    "scrolled": true
   },
   "outputs": [],
   "source": [
    "import math\n",
    "def eDistance(u,v):\n",
    "    dif1=u[0]-v[0]\n",
    "    dif2=u[1]-v[1]\n",
    "    return math.sqrt((dif1**2+dif2**2))\n",
    "\n",
    "a=(3,0)\n",
    "b=(0,4)\n",
    "print(eDistance(a,b))"
   ]
  },
  {

   "cell_type": "markdown",
   "metadata": {},
   "source": [
    "4\\. Counting letters\n",
    "\n",
    "Write a program to calculate the number of times each character occurs in a given string *s*. Ignore differneces in capitalization"
   ]
  },
  {
   "cell_type": "code",

   "execution_count": 1,
   "metadata": {
    "scrolled": true
   },
   "outputs": [
    {
     "name": "stdout",
     "output_type": "stream",
     "text": [
      "(' ', 41)\n",
      "('.', 2)\n",
      "('0', 2)\n",
      "('1', 2)\n",
      "('B', 1)\n",
      "('F', 1)\n",
      "('M', 4)\n",
      "('W', 1)\n",
      "('a', 7)\n",
      "('b', 4)\n",
      "('c', 3)\n",
      "('d', 3)\n",
      "('e', 22)\n",
      "('f', 9)\n",
      "('g', 1)\n",
      "('h', 9)\n",
      "('i', 14)\n",
      "('k', 2)\n",
      "('l', 6)\n",
      "('m', 8)\n",
      "('n', 10)\n",
      "('o', 13)\n",
      "('p', 8)\n",
      "('r', 17)\n",
      "('s', 9)\n",
      "('t', 19)\n",
      "('u', 9)\n",
      "('v', 2)\n",
      "('w', 1)\n",
      "('y', 2)\n"
     ]
    }
   ],
   "source": [
    "s=\"Write a program that prints the numbers from 1 to 100. \\\n",
    "But for multiples of three print Mickey instead of the number and for the multiples of five print Mouse. \\\n",
    "For numbers which are multiples of both three and five print MickeyMouse\"\n",
    "\n",
    "\n",
    "sList=[x for x in s]\n",
    "sList.sort()\n",
    "i=0\n",
    "while (i<len(sList)):\n",
    "    char=sList[i]\n",
    "    print((char, sList.count(char)))\n",
    "    i+=sList.count(char)\n",
    "    \n",
    "    "
   ]
  },
  {
   "cell_type": "code",

   "execution_count": null,
   "metadata": {},
   "outputs": [],
   "source": [
    "s=\"Write a program that prints the numbers from 1 to 100. \\\n",
    "But for multiples of three print Mickey instead of the number and for the multiples of five print Mouse. \\\n",
    "For numbers which are multiples of both three and five print MickeyMouse\""
   ]
  },
  {
   "cell_type": "markdown",
   "metadata": {},
   "source": [
    "5\\. Isolating the unique\n",
    "\n",
    "Write a function that determines and count the unique numbers in the list *l*"
   ]
  },
  {
   "cell_type": "code",

   "execution_count": 57,
   "metadata": {},
   "outputs": [
    {
     "name": "stdout",
     "output_type": "stream",
     "text": [
      "([58, 74, 96, 64, 10, 24, 19, 33, 86, 99, 18, 47, 88, 55, 54, 8, 79, 81, 57, 37, 1, 9, 95, 90, 98, 39, 16, 82, 92, 41, 30, 94, 5, 72, 87, 75, 53], 37)\n"
     ]
    }
   ],
   "source": [
    "def SelectUnique(list):\n",
    "    i=0\n",
    "    while(i<len(list)):\n",
    "        inspectedNum=list[i]\n",
    "        n=list.count(inspectedNum)\n",
    "        if(n==1):\n",
    "            i+=1\n",
    "        else:\n",
    "            for j in range(1,n+1):\n",
    "                list.remove(inspectedNum)\n",
    "    return (list, len(list))\n",
    "\n",
    "l = [36, 45, 58, 3, 74, 96, 64, 45, 31, 10, 24, 19, 33, 86, 99, 18, 63, 70, 85,\n",
    " 85, 63, 47, 56, 42, 70, 84, 88, 55, 20, 54, 8, 56, 51, 79, 81, 57, 37, 91,\n",
    " 1, 84, 84, 36, 66, 9, 89, 50, 42, 91, 50, 95, 90, 98, 39, 16, 82, 31, 92, 41,\n",
    " 45, 30, 66, 70, 34, 85, 94, 5, 3, 36, 72, 91, 84, 34, 87, 75, 53, 51, 20, 89, 51, 20]\n",
    "\n",
    "#print(SelectUnique(l))"
   ]
  },
  {
   "cell_type": "code",

   "execution_count": null,
   "metadata": {},
   "outputs": [],
   "source": [
    "l = [36, 45, 58, 3, 74, 96, 64, 45, 31, 10, 24, 19, 33, 86, 99, 18, 63, 70, 85,\n",
    " 85, 63, 47, 56, 42, 70, 84, 88, 55, 20, 54, 8, 56, 51, 79, 81, 57, 37, 91,\n",
    " 1, 84, 84, 36, 66, 9, 89, 50, 42, 91, 50, 95, 90, 98, 39, 16, 82, 31, 92, 41,\n",
    " 45, 30, 66, 70, 34, 85, 94, 5, 3, 36, 72, 91, 84, 34, 87, 75, 53, 51, 20, 89, 51, 20]"
   ]
  },
  {
   "cell_type": "markdown",
   "metadata": {},
   "source": [
    "6\\. Combination of functions\n",
    "\n",
    "Write two functions - one that returns the square of a number, and one that returns the cube. Now write a third function that returns the number raised to the 6th power using the two previous functions."
   ]
  },
  {

   "cell_type": "code",
   "execution_count": 33,
   "metadata": {},
   "outputs": [
    {
     "name": "stdout",
     "output_type": "stream",
     "text": [
      "64 64\n"
     ]
    }
   ],
   "source": [
    "def SquareOf(num):\n",
    "    return num**2\n",
    "\n",
    "def CubeOf(num):\n",
    "    return num**3\n",
    "\n",
    "def SixthPowerOf(num):\n",
    "    return SquareOf(CubeOf(num))\n",
    "\n",
    "#print(2**6, SixthPowerOf(2))"
   ]
  },
  {
   "cell_type": "markdown",
   "metadata": {},
   "source": [
    "7. Cubes\n",

    "\n",
    "Create a list of the cubes of x for x in *[0, 10]* using:\n",
    "\n",
    "a) a for loop\n",
    "\n",
    "b) a list comprehension"
   ]
  },
  {

   "cell_type": "code",
   "execution_count": 72,
   "metadata": {},
   "outputs": [],
   "source": [
    "cubes=[]\n",
    "for i in range(11):\n",
    "    cubes.append(i**3)"
   ]
  },
  {
   "cell_type": "code",
   "execution_count": 75,
   "metadata": {},
   "outputs": [
    {
     "name": "stdout",
     "output_type": "stream",
     "text": [
      "[0, 1, 8, 27, 64, 125, 216, 343, 512, 729, 1000]\n"
     ]
    }
   ],
   "source": [
    "numrange=[x for x in range(11)]\n",
    "cubes=[]\n",
    "for i in numrange:\n",
    "    cubes.insert(i,i**3)"
   ]
  },
  {

   "cell_type": "markdown",
   "metadata": {},
   "source": [
    "8\\. Nested list comprehension\n",
    "\n",
    "A Pythagorean triple is an integer solution to the Pythagorean theorem $a^2+b^2=c^2$. The first Pythagorean triple is (3,4,5). Find and put in a tuple all unique Pythagorean triples for the positive integers a, b and c less than 100."
   ]
  },
  {

   "cell_type": "code",
   "execution_count": 76,
   "metadata": {},
   "outputs": [],
   "source": [
    "PyTriples=()\n",
    "for i in range (1, 101):\n",
    "    for j in range(1, 101):\n",
    "        for k in range (1, 101):\n",
    "            if(k**2==i**2+j**2):\n",
    "                Triple=[i,j,k]\n",
    "                PyTriples+=(Triple,)\n",
    "#print(PyTriples)"
   ]
  },
  {

   "cell_type": "markdown",
   "metadata": {},
   "source": [
    "9\\. Normalization\n",
    "\n",
    "Write a function that takes a tuple of numbers and returns it with the entries normalized to one"
   ]
  },
  {
   "cell_type": "code",

   "execution_count": 55,
   "metadata": {},
   "outputs": [
    {
     "name": "stdout",
     "output_type": "stream",
     "text": [
      "(0.0, 0.028169014084507043, 0.04225352112676056, 0.04225352112676056, 0.14084507042253522, 0.2676056338028169, 0.323943661971831, 0.6197183098591549, 0.7183098591549296, 1.0)\n"
     ]
    }
   ],
   "source": [
    "def Normalize(numbers):\n",
    "    numberList=[x for x in numbers]\n",
    "    numberList.sort()\n",
    "    max=numberList[-1]\n",
    "    min=numberList[0]\n",
    "    for i in range(0, len(numberList)):\n",
    "        n=numberList[i]\n",
    "        numberList[i]=(n-min)/(max-min)\n",
    "    return tuple(i for i in numberList)\n",
    "        \n",
    "\n",
    "a=(4,5,2,5,12,53,21,25,73,46)\n",
    "print(Normalize(a))"
   ]
  },
  {
   "cell_type": "code",

   "execution_count": null,
   "metadata": {},
   "outputs": [],
   "source": []
  }
 ],
 "metadata": {
  "kernelspec": {
   "display_name": "Python 3",
   "language": "python",
   "name": "python3"
  },
  "language_info": {
   "codemirror_mode": {
    "name": "ipython",
    "version": 3
   },
   "file_extension": ".py",
   "mimetype": "text/x-python",
   "name": "python",
   "nbconvert_exporter": "python",
   "pygments_lexer": "ipython3",

   "version": "3.8.6"

  }
 },
 "nbformat": 4,
 "nbformat_minor": 2
}
