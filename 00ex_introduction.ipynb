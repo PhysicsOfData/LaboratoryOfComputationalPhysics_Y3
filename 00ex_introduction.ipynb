{
 "cells": [
  {
   "cell_type": "markdown",
   "metadata": {},
   "source": [
    "1. The MickeyMouse problem\n",
    "\n",
    "a) Write a program that prints the numbers from 1 to 100. But for multiples of three print Mickey instead of the number and for the multiples of five print Mouse. For numbers which are multiples of both three and five print MickeyMouse\n",
    "\n",
    "b) Put the result in a tuple and substitute Mickey with Donald and Mouse with Duck"
   ]
  },
  {
   "cell_type": "code",
   "execution_count": 28,
   "metadata": {},
   "outputs": [
    {
     "name": "stdout",
     "output_type": "stream",
     "text": [
      "1\n",
      "2\n",
      "Mickey\n",
      "4\n",
      "Mouse\n",
      "Mickey\n",
      "7\n",
      "8\n",
      "Mickey\n",
      "Mouse\n",
      "11\n",
      "Mickey\n",
      "13\n",
      "14\n",
      "MickeyMouse\n",
      "16\n",
      "17\n",
      "Mickey\n",
      "19\n",
      "Mouse\n",
      "Mickey\n",
      "22\n",
      "23\n",
      "Mickey\n",
      "Mouse\n",
      "26\n",
      "Mickey\n",
      "28\n",
      "29\n",
      "MickeyMouse\n",
      "31\n",
      "32\n",
      "Mickey\n",
      "34\n",
      "Mouse\n",
      "Mickey\n",
      "37\n",
      "38\n",
      "Mickey\n",
      "Mouse\n",
      "41\n",
      "Mickey\n",
      "43\n",
      "44\n",
      "MickeyMouse\n",
      "46\n",
      "47\n",
      "Mickey\n",
      "49\n",
      "Mouse\n",
      "Mickey\n",
      "52\n",
      "53\n",
      "Mickey\n",
      "Mouse\n",
      "56\n",
      "Mickey\n",
      "58\n",
      "59\n",
      "MickeyMouse\n",
      "61\n",
      "62\n",
      "Mickey\n",
      "64\n",
      "Mouse\n",
      "Mickey\n",
      "67\n",
      "68\n",
      "Mickey\n",
      "Mouse\n",
      "71\n",
      "Mickey\n",
      "73\n",
      "74\n",
      "MickeyMouse\n",
      "76\n",
      "77\n",
      "Mickey\n",
      "79\n",
      "Mouse\n",
      "Mickey\n",
      "82\n",
      "83\n",
      "Mickey\n",
      "Mouse\n",
      "86\n",
      "Mickey\n",
      "88\n",
      "89\n",
      "MickeyMouse\n",
      "91\n",
      "92\n",
      "Mickey\n",
      "94\n",
      "Mouse\n",
      "Mickey\n",
      "97\n",
      "98\n",
      "Mickey\n",
      "Mouse\n"
     ]
    }
   ],
   "source": [
    "a=range(1,101)\n",
    "for i in a:\n",
    "    if i%5==0 and i%3==0:\n",
    "        print(\"MickeyMouse\")\n",
    "    elif i%5==0:\n",
    "        print(\"Mouse\")\n",
    "    elif i%3==0:\n",
    "        print(\"Mickey\")\n",
    "    else:\n",
    "        print(i)"
   ]
  },
  {
   "cell_type": "code",
   "execution_count": 75,
   "metadata": {},
   "outputs": [
    {
     "name": "stdout",
     "output_type": "stream",
     "text": [
      "(1, 2, 'Donald', 4, 'Duck', 'Donald', 7, 8, 'Donald', 'Duck', 11, 'Donald', 13, 14, 'DonaldDuck', 16, 17, 'Donald', 19, 'Duck', 'Donald', 22, 23, 'Donald', 'Duck', 26, 'Donald', 28, 29, 'DonaldDuck', 31, 32, 'Donald', 34, 'Duck', 'Donald', 37, 38, 'Donald', 'Duck', 41, 'Donald', 43, 44, 'DonaldDuck', 46, 47, 'Donald', 49, 'Duck', 'Donald', 52, 53, 'Donald', 'Duck', 56, 'Donald', 58, 59, 'DonaldDuck', 61, 62, 'Donald', 64, 'Duck', 'Donald', 67, 68, 'Donald', 'Duck', 71, 'Donald', 73, 74, 'DonaldDuck', 76, 77, 'Donald', 79, 'Duck', 'Donald', 82, 83, 'Donald', 'Duck', 86, 'Donald', 88, 89, 'DonaldDuck', 91, 92, 'Donald', 94, 'Duck', 'Donald', 97, 98, 'Donald', 'Duck')\n"
     ]
    }
   ],
   "source": [
    "c=[]\n",
    "a=range(1,101)\n",
    "for i in a:\n",
    "    if i%5==0 and i%3==0:\n",
    "        c.append(\"DonaldDuck\")\n",
    "    elif i%5==0:\n",
    "        c.append(\"Duck\")\n",
    "    elif i%3==0:\n",
    "        c.append(\"Donald\")\n",
    "    else:\n",
    "        c.append(i)\n",
    "\n",
    "f=tuple(c)\n",
    "print(f)\n"
   ]
  },
  {
   "cell_type": "markdown",
   "metadata": {},
   "source": [
    "2\\. The swap function\n",
    "\n",
    "Write a function that swap the values of two input variables x and y (whatever the type). Try to do that also without a temporary variable"
   ]
  },
  {
   "cell_type": "code",
   "execution_count": 1,
   "metadata": {},
   "outputs": [
    {
     "name": "stdout",
     "output_type": "stream",
     "text": [
      "[4, 3]\n"
     ]
    },
    {
     "data": {
      "text/plain": [
       "[4, 3]"
      ]
     },
     "execution_count": 1,
     "metadata": {},
     "output_type": "execute_result"
    }
   ],
   "source": [
    "def swapfunc(x,y):\n",
    "    x=int(x) or float(x) or str(x)\n",
    "    y=int(y) or float(y) or str(y)\n",
    "    c=[x,y]\n",
    "    c.reverse()\n",
    "    print(c)    \n",
    "    return c\n",
    "swapfunc(3,4)\n",
    "\n",
    "\n",
    "    \n",
    "    \n"
   ]
  },
  {
   "cell_type": "markdown",
   "metadata": {},
   "source": [
    "3\\. Computing the distance\n",
    "\n",
    "Write a function that calculates and returns the euclidean distance between two points *u* and *v*, where *u* and *v* are both 2-tuples *(x,y)*. For example, if *u=(3,0)* and *v=(0,4)*, the function should return 5"
   ]
  },
  {
   "cell_type": "code",
   "execution_count": 2,
   "metadata": {},
   "outputs": [
    {
     "name": "stdout",
     "output_type": "stream",
     "text": [
      "5.0\n"
     ]
    },
    {
     "data": {
      "text/plain": [
       "5.0"
      ]
     },
     "execution_count": 2,
     "metadata": {},
     "output_type": "execute_result"
    }
   ],
   "source": [
    "def e_d(x1,y1,x2,y2):\n",
    "    from math import sqrt\n",
    "    x1=float(x1)\n",
    "    y1=float(y1)\n",
    "    v1=(x1,y1)\n",
    "    x2=float(x2)\n",
    "    y2=float(y2)\n",
    "    v2=(x2,y2)\n",
    "    euclidean_distance=sqrt(((v1[0]-v2[0])**2)+((v1[1]-v2[1])**2))\n",
    "    print(euclidean_distance)\n",
    "    return(euclidean_distance)\n",
    "    \n",
    "e_d(4,0,0,3)"
   ]
  },
  {
   "cell_type": "markdown",
   "metadata": {},
   "source": [
    "4\\. Counting letters\n",
    "\n",
    "Write a program to calculate the number of times each character occurs in a given string *s*. Ignore differneces in capitalization"
   ]
  },
  {
   "cell_type": "code",
   "execution_count": 6,
   "metadata": {},
   "outputs": [
    {
     "name": "stdout",
     "output_type": "stream",
     "text": [
      "{'w': 1, 'r': 8, 'i': 5, 't': 7, 'e': 8, ' ': 16, 'a': 8, 'p': 1, 'o': 4, 'g': 3, 'm': 3, 'c': 7, 'l': 2, 'u': 3, 'h': 3, 'n': 4, 'b': 1, 'f': 1, 's': 4, 'v': 1}\n"
     ]
    }
   ],
   "source": [
    "my_string=\"write a program to calculate the number of times each character occurs in a given string s\"\n",
    "counter=dict()\n",
    "for letter in my_string:\n",
    "    if letter in counter:\n",
    "        counter[letter] +=1\n",
    "    else:\n",
    "        counter[letter]=1\n",
    "print(counter)        "
   ]
  },
  {
   "cell_type": "markdown",
   "metadata": {},
   "source": [
    "5\\. Isolating the unique\n",
    "\n",
    "Write a function that determines and count the unique numbers in the list *l*"
   ]
  },
  {
   "cell_type": "code",
   "execution_count": 22,
   "metadata": {},
   "outputs": [],
   "source": [
    "l = [36, 45, 58, 3, 74, 96, 64, 45, 31, 10, 24, 19, 33, 86, 99, 18, 63, 70, 85,\n",
    " 85, 63, 47, 56, 42, 70, 84, 88, 55, 20, 54, 8, 56, 51, 79, 81, 57, 37, 91,\n",
    " 1, 84, 84, 36, 66, 9, 89, 50, 42, 91, 50, 95, 90, 98, 39, 16, 82, 31, 92, 41,\n",
    " 45, 30, 66, 70, 34, 85, 94, 5, 3, 36, 72, 91, 84, 34, 87, 75, 53, 51, 20, 89, 51, 20]\n",
    "\n"
   ]
  },
  {
   "cell_type": "code",
   "execution_count": 16,
   "metadata": {},
   "outputs": [
    {
     "name": "stdout",
     "output_type": "stream",
     "text": [
      "[36, 45, 58, 3, 74, 96, 64, 31, 10, 24, 19, 33, 86, 99, 18, 63, 70, 85, 47, 56, 42, 84, 88, 55, 20, 54, 8, 51, 79, 81, 57, 37, 91, 1, 66, 9, 89, 50, 95, 90, 98, 39, 16, 82, 92, 41, 30, 34, 94, 5, 72, 87, 75, 53]\n",
      "54\n"
     ]
    }
   ],
   "source": [
    "unique_numbers = []\n",
    "for x in l:\n",
    "    if x not in unique_numbers:\n",
    "        unique_numbers.append(x)\n",
    "print(unique_numbers)\n",
    "print(len(unique_numbers))"
   ]
  },
  {
   "cell_type": "markdown",
   "metadata": {},
   "source": [
    "6\\. Combination of functions\n",
    "\n",
    "Write two functions - one that returns the square of a number, and one that returns the cube. Now write a third function that returns the number raised to the 6th power using the two previous functions."
   ]
  },
  {
   "cell_type": "code",
   "execution_count": 19,
   "metadata": {},
   "outputs": [
    {
     "data": {
      "text/plain": [
       "4"
      ]
     },
     "execution_count": 19,
     "metadata": {},
     "output_type": "execute_result"
    }
   ],
   "source": [
    "def sq(x):\n",
    "    a=x*x\n",
    "    return a\n",
    "sq(2)"
   ]
  },
  {
   "cell_type": "code",
   "execution_count": 23,
   "metadata": {},
   "outputs": [
    {
     "data": {
      "text/plain": [
       "8"
      ]
     },
     "execution_count": 23,
     "metadata": {},
     "output_type": "execute_result"
    }
   ],
   "source": [
    "def cu(x):\n",
    "    b=x*x*x\n",
    "    return b\n",
    "cu(2)"
   ]
  },
  {
   "cell_type": "code",
   "execution_count": 32,
   "metadata": {},
   "outputs": [
    {
     "data": {
      "text/plain": [
       "32"
      ]
     },
     "execution_count": 32,
     "metadata": {},
     "output_type": "execute_result"
    }
   ],
   "source": [
    "def psixth(x):\n",
    "    c=cu(x)*sq(x)\n",
    "    return c\n",
    "psixth(2)"
   ]
  },
  {
   "cell_type": "markdown",
   "metadata": {},
   "source": [
    "7\\. Cubes\n",
    "\n",
    "Create a list of the cubes of x for x in *[0, 10]* using:\n",
    "\n",
    "a) a for loop\n",
    "\n",
    "b) a list comprehension"
   ]
  },
  {
   "cell_type": "code",
   "execution_count": 9,
   "metadata": {},
   "outputs": [
    {
     "name": "stdout",
     "output_type": "stream",
     "text": [
      "0\n",
      "1\n",
      "8\n",
      "27\n",
      "64\n",
      "125\n",
      "216\n",
      "343\n",
      "512\n",
      "729\n"
     ]
    }
   ],
   "source": [
    "k=range(0,10)\n",
    "for i in k:\n",
    "    m=i**3\n",
    "    print(m)\n",
    "    \n"
   ]
  },
  {
   "cell_type": "code",
   "execution_count": 8,
   "metadata": {},
   "outputs": [
    {
     "name": "stdout",
     "output_type": "stream",
     "text": [
      "[0, 1, 8, 27, 64, 125, 216, 343, 512, 729]\n"
     ]
    }
   ],
   "source": [
    "List=[pow(i,3) for i in range(10)]\n",
    "print(List)"
   ]
  },
  {
   "cell_type": "markdown",
   "metadata": {},
   "source": [
    "8\\. Nested list comprehension\n",
    "\n",
    "A Pythagorean triple is an integer solution to the Pythagorean theorem $a^2+b^2=c^2$. The first Pythagorean triple is (3,4,5). Find and put in a tuple all unique Pythagorean triples for the positive integers a, b and c less than 100."
   ]
  },
  {
   "cell_type": "code",
   "execution_count": 17,
   "metadata": {},
   "outputs": [
    {
     "data": {
      "text/plain": [
       "[(3, 4, 5),\n",
       " (6, 8, 10),\n",
       " (5, 12, 13),\n",
       " (9, 12, 15),\n",
       " (8, 15, 17),\n",
       " (12, 16, 20),\n",
       " (15, 20, 25),\n",
       " (20, 21, 29),\n",
       " (7, 24, 25),\n",
       " (10, 24, 26),\n",
       " (18, 24, 30),\n",
       " (21, 28, 35),\n",
       " (16, 30, 34),\n",
       " (24, 32, 40),\n",
       " (12, 35, 37),\n",
       " (15, 36, 39),\n",
       " (27, 36, 45),\n",
       " (9, 40, 41),\n",
       " (30, 40, 50),\n",
       " (40, 42, 58),\n",
       " (33, 44, 55),\n",
       " (24, 45, 51),\n",
       " (28, 45, 53),\n",
       " (14, 48, 50),\n",
       " (20, 48, 52),\n",
       " (36, 48, 60),\n",
       " (39, 52, 65),\n",
       " (48, 55, 73),\n",
       " (33, 56, 65),\n",
       " (42, 56, 70),\n",
       " (11, 60, 61),\n",
       " (25, 60, 65),\n",
       " (32, 60, 68),\n",
       " (45, 60, 75),\n",
       " (16, 63, 65),\n",
       " (60, 63, 87),\n",
       " (48, 64, 80),\n",
       " (51, 68, 85),\n",
       " (24, 70, 74),\n",
       " (21, 72, 75),\n",
       " (30, 72, 78),\n",
       " (54, 72, 90),\n",
       " (65, 72, 97),\n",
       " (40, 75, 85),\n",
       " (57, 76, 95),\n",
       " (36, 77, 85),\n",
       " (18, 80, 82),\n",
       " (39, 80, 89),\n",
       " (60, 80, 100)]"
      ]
     },
     "execution_count": 17,
     "metadata": {},
     "output_type": "execute_result"
    }
   ],
   "source": [
    "from math import sqrt\n",
    "def pythagorean_numbers(n):\n",
    "    triplez=[]\n",
    "    for b in range(n):\n",
    "        for a in range(1, b):\n",
    "            c =sqrt( a * a + b * b)\n",
    "            if c % 1 == 0:\n",
    "                ans=tuple((a,b,int(c)))\n",
    "                triplez.append(ans)\n",
    "    return triplez\n",
    "pythagorean_numbers(84)\n",
    "\n",
    "\n",
    "\n"
   ]
  },
  {
   "cell_type": "markdown",
   "metadata": {},
   "source": [
    "9\\. Normalization\n",
    "\n",
    "Write a function that takes a tuple of numbers and returns it with the entries normalized to one"
   ]
  },
  {
   "cell_type": "code",
   "execution_count": 56,
   "metadata": {
    "scrolled": true
   },
   "outputs": [
    {
     "name": "stdout",
     "output_type": "stream",
     "text": [
      "(0.3333333333333333,)\n",
      "(0.3333333333333333, 0.0)\n",
      "(0.3333333333333333, 0.0, 0.10256410256410256)\n",
      "(0.3333333333333333, 0.0, 0.10256410256410256, 0.05128205128205128)\n",
      "(0.3333333333333333, 0.0, 0.10256410256410256, 0.05128205128205128, 0.1794871794871795)\n",
      "(0.3333333333333333, 0.0, 0.10256410256410256, 0.05128205128205128, 0.1794871794871795, 0.20512820512820512)\n",
      "(0.3333333333333333, 0.0, 0.10256410256410256, 0.05128205128205128, 0.1794871794871795, 0.20512820512820512, 1.0)\n"
     ]
    }
   ],
   "source": [
    "my_tuple=(15,2,6,4,9,10,41)\n",
    "normalizing=[]\n",
    "for i in my_tuple:\n",
    "    z=(i-min(my_tuple))/(max(my_tuple)-min(my_tuple))\n",
    "    normalizing.append(z)\n",
    "    print(tuple(normalizing))"
   ]
  }
 ],
 "metadata": {
  "kernelspec": {
   "display_name": "Python 3",
   "language": "python",
   "name": "python3"
  },
  "language_info": {
   "codemirror_mode": {
    "name": "ipython",
    "version": 3
   },
   "file_extension": ".py",
   "mimetype": "text/x-python",
   "name": "python",
   "nbconvert_exporter": "python",
   "pygments_lexer": "ipython3",
   "version": "3.8.3"
  }
 },
 "nbformat": 4,
 "nbformat_minor": 2
}
