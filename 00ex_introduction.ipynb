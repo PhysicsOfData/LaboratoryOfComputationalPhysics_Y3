{
 "cells": [
  {
   "cell_type": "markdown",
   "metadata": {},
   "source": [
    "1. The MickeyMouse problem\n",
    "\n",
    "a) Write a program that prints the numbers from 1 to 100. But for multiples of three print Mickey instead of the number and for the multiples of five print Mouse. For numbers which are multiples of both three and five print MickeyMouse\n",
    "\n",
    "b) Put the result in a tuple and substitute Mickey with Donald and Mouse with Duck"
   ]
  },
  {
   "cell_type": "code",
   "execution_count": 20,
   "metadata": {},
   "outputs": [
    {
     "name": "stdout",
     "output_type": "stream",
     "text": [
      "1\n",
      "2\n",
      "Mickey\n",
      "4\n",
      "Mouse\n",
      "Mickey\n",
      "7\n",
      "8\n",
      "Mickey\n",
      "Mouse\n",
      "11\n",
      "Mickey\n",
      "13\n",
      "14\n",
      "MickeyMouse\n",
      "16\n",
      "17\n",
      "Mickey\n",
      "19\n",
      "Mouse\n",
      "Mickey\n",
      "22\n",
      "23\n",
      "Mickey\n",
      "Mouse\n",
      "26\n",
      "Mickey\n",
      "28\n",
      "29\n",
      "MickeyMouse\n",
      "31\n",
      "32\n",
      "Mickey\n",
      "34\n",
      "Mouse\n",
      "Mickey\n",
      "37\n",
      "38\n",
      "Mickey\n",
      "Mouse\n",
      "41\n",
      "Mickey\n",
      "43\n",
      "44\n",
      "MickeyMouse\n",
      "46\n",
      "47\n",
      "Mickey\n",
      "49\n",
      "Mouse\n",
      "Mickey\n",
      "52\n",
      "53\n",
      "Mickey\n",
      "Mouse\n",
      "56\n",
      "Mickey\n",
      "58\n",
      "59\n",
      "MickeyMouse\n",
      "61\n",
      "62\n",
      "Mickey\n",
      "64\n",
      "Mouse\n",
      "Mickey\n",
      "67\n",
      "68\n",
      "Mickey\n",
      "Mouse\n",
      "71\n",
      "Mickey\n",
      "73\n",
      "74\n",
      "MickeyMouse\n",
      "76\n",
      "77\n",
      "Mickey\n",
      "79\n",
      "Mouse\n",
      "Mickey\n",
      "82\n",
      "83\n",
      "Mickey\n",
      "Mouse\n",
      "86\n",
      "Mickey\n",
      "88\n",
      "89\n",
      "MickeyMouse\n",
      "91\n",
      "92\n",
      "Mickey\n",
      "94\n",
      "Mouse\n",
      "Mickey\n",
      "97\n",
      "98\n",
      "Mickey\n",
      "(1, 2, 'Donald', 4, 'Mouse', 'Donald', 7, 8, 'Donald', 'Mouse', 11, 'Donald', 13, 14, 'MickeyMouse', 16, 17, 'Donald', 19, 'Mouse', 'Donald', 22, 23, 'Donald', 'Mouse', 26, 'Donald', 28, 29, 'MickeyMouse', 31, 32, 'Donald', 34, 'Mouse', 'Donald', 37, 38, 'Donald', 'Mouse', 41, 'Donald', 43, 44, 'MickeyMouse', 46, 47, 'Donald', 49, 'Mouse', 'Donald', 52, 53, 'Donald', 'Mouse', 56, 'Donald', 58, 59, 'MickeyMouse', 61, 62, 'Donald', 64, 'Mouse', 'Donald', 67, 68, 'Donald', 'Mouse', 71, 'Donald', 73, 74, 'MickeyMouse', 76, 77, 'Donald', 79, 'Mouse', 'Donald', 82, 83, 'Donald', 'Mouse', 86, 'Donald', 88, 89, 'MickeyMouse', 91, 92, 'Donald', 94, 'Mouse', 'Donald', 97, 98, 'Donald')\n"
     ]
    }
   ],
   "source": [
    "#a)\n",
    "for i in range(1,100): \n",
    "    if (i % 3 == 0 and i %5==0):\n",
    "        print(\"MickeyMouse\")\n",
    "    elif i %5 == 0:\n",
    "        print(\"Mouse\")\n",
    "    elif i %3 == 0:\n",
    "        print(\"Mickey\")\n",
    "    else:\n",
    "        print(i)\n",
    "\n",
    "#b) Since you can't modify a touple I work in list and at the end convert it to a touple\n",
    "a = []\n",
    "for i in range(1,100): \n",
    "    if (i % 3 == 0 and i %5==0):\n",
    "        a.append (\"MickeyMouse\")\n",
    "    elif i %5 == 0:\n",
    "        a.append (\"Mouse\")\n",
    "    elif i %3 == 0:\n",
    "        a.append (\"Mickey\")\n",
    "    else:\n",
    "        a.append (i)\n",
    "for n, i in enumerate(a):\n",
    "    if i == \"Mickey\":\n",
    "        a[n] = \"Donald\"\n",
    "    elif i ==\"Mouse\":\n",
    "        a[n] == \"Dcuk\"\n",
    "b = tuple(a)\n",
    "print(b)"
   ]
  },
  {
   "cell_type": "markdown",
   "metadata": {},
   "source": [
    "2\\. The swap function\n",
    "\n",
    "Write a function that swap the values of two input variables x and y (whatever the type). Try to do that also without a temporary variable"
   ]
  },
  {
   "cell_type": "code",
   "execution_count": 24,
   "metadata": {},
   "outputs": [
    {
     "data": {
      "text/plain": [
       "(3, 'feo')"
      ]
     },
     "execution_count": 24,
     "metadata": {},
     "output_type": "execute_result"
    }
   ],
   "source": [
    "def swap(x,y):\n",
    "    temp = x\n",
    "    x=y\n",
    "    y=temp\n",
    "    return x, y\n",
    "swap(\"feo\",3)\n",
    "    "
   ]
  },
  {
   "cell_type": "markdown",
   "metadata": {},
   "source": [
    "3\\. Computing the distance\n",
    "\n",
    "Write a function that calculates and returns the euclidean distance between two points *u* and *v*, where *u* and *v* are both 2-tuples *(x,y)*. For example, if *u=(3,0)* and *v=(0,4)*, the function should return 5"
   ]
  },
  {
   "cell_type": "code",
   "execution_count": 33,
   "metadata": {},
   "outputs": [
    {
     "data": {
      "text/plain": [
       "5.0"
      ]
     },
     "execution_count": 33,
     "metadata": {},
     "output_type": "execute_result"
    }
   ],
   "source": [
    "def euclideanDistance(u,v):\n",
    "    distance = ((u[0]-v[0])**2 +(u[1]-v[1])**2)**0.5\n",
    "    return distance\n",
    "x =(3,0)\n",
    "y = (0,4)\n",
    "euclideanDistance(x,y)"
   ]
  },
  {
   "cell_type": "markdown",
   "metadata": {},
   "source": [
    "4\\. Counting letters\n",
    "\n",
    "Write a program to calculate the number of times each character occurs in a given string *s*. Ignore differneces in capitalization"
   ]
  },
  {
   "cell_type": "code",
   "execution_count": 49,
   "metadata": {},
   "outputs": [
    {
     "data": {
      "text/plain": [
       "2"
      ]
     },
     "execution_count": 49,
     "metadata": {},
     "output_type": "execute_result"
    }
   ],
   "source": [
    "s=\"Write a program that prints the numbers from 1 to 100. \\\n",
    "But for multiples of three print Mickey instead of the number and for the multiples of five print Mouse. \\\n",
    "For numbers which are multiples of both three and five print MickeyMouse\"\n",
    "\n",
    "def letterFinder(s, l):\n",
    "    s = s.lower()\n",
    "    l = l.lower()\n",
    "    return s.count(l)\n",
    "\n",
    "letterFinder(s, \"W\")\n",
    "\n",
    "\n"
   ]
  },
  {
   "cell_type": "markdown",
   "metadata": {},
   "source": [
    "5\\. Isolating the unique\n",
    "\n",
    "Write a function that determines and count the unique numbers in the list *l*"
   ]
  },
  {
   "cell_type": "code",
   "execution_count": 52,
   "metadata": {},
   "outputs": [
    {
     "name": "stdout",
     "output_type": "stream",
     "text": [
      "The unique numbers are:\n",
      "36\n",
      "45\n",
      "58\n",
      "3\n",
      "74\n",
      "96\n",
      "64\n",
      "31\n",
      "10\n",
      "24\n",
      "19\n",
      "33\n",
      "86\n",
      "99\n",
      "18\n",
      "63\n",
      "70\n",
      "85\n",
      "47\n",
      "56\n",
      "42\n",
      "84\n",
      "88\n",
      "55\n",
      "20\n",
      "54\n",
      "8\n",
      "51\n",
      "79\n",
      "81\n",
      "57\n",
      "37\n",
      "91\n",
      "1\n",
      "66\n",
      "9\n",
      "89\n",
      "50\n",
      "95\n",
      "90\n",
      "98\n",
      "39\n",
      "16\n",
      "82\n",
      "92\n",
      "41\n",
      "30\n",
      "34\n",
      "94\n",
      "5\n",
      "72\n",
      "87\n",
      "75\n",
      "53\n",
      "and there are 54\n"
     ]
    }
   ],
   "source": [
    "l = [36, 45, 58, 3, 74, 96, 64, 45, 31, 10, 24, 19, 33, 86, 99, 18, 63, 70, 85,\n",
    " 85, 63, 47, 56, 42, 70, 84, 88, 55, 20, 54, 8, 56, 51, 79, 81, 57, 37, 91,\n",
    " 1, 84, 84, 36, 66, 9, 89, 50, 42, 91, 50, 95, 90, 98, 39, 16, 82, 31, 92, 41,\n",
    " 45, 30, 66, 70, 34, 85, 94, 5, 3, 36, 72, 91, 84, 34, 87, 75, 53, 51, 20, 89, 51, 20]\n",
    "\n",
    "def unique(list1): \n",
    "    unique_list = [] \n",
    "    for x in list1:\n",
    "        if x not in unique_list: \n",
    "            unique_list.append(x) \n",
    "    print(\"The unique numbers are:\")\n",
    "    for x in unique_list: \n",
    "        print (x)\n",
    "  \n",
    "    print(\"and there are\", len(unique_list))\n",
    "unique(l)"
   ]
  },
  {
   "cell_type": "markdown",
   "metadata": {},
   "source": [
    "6\\. Combination of functions\n",
    "\n",
    "Write two functions - one that returns the square of a number, and one that returns the cube. Now write a third function that returns the number raised to the 6th power using the two previous functions."
   ]
  },
  {
   "cell_type": "code",
   "execution_count": 81,
   "metadata": {},
   "outputs": [
    {
     "name": "stdout",
     "output_type": "stream",
     "text": [
      "64\n"
     ]
    },
    {
     "data": {
      "text/plain": [
       "1000000"
      ]
     },
     "execution_count": 81,
     "metadata": {},
     "output_type": "execute_result"
    }
   ],
   "source": [
    "def cube(a): \n",
    "    return a *a * a \n",
    "\n",
    "def square(a):\n",
    "    return a*a\n",
    "\n",
    "def sixthPower (a):\n",
    "    return square(cube(a))\n",
    "\n",
    "sixthPower(10)\n"
   ]
  },
  {
   "cell_type": "markdown",
   "metadata": {},
   "source": [
    "7\\. Cubes\n",
    "\n",
    "Create a list of the cubes of x for x in *[0, 10]* using:\n",
    "\n",
    "a) a for loop\n",
    "\n",
    "b) a list comprehension"
   ]
  },
  {
   "cell_type": "code",
   "execution_count": 107,
   "metadata": {},
   "outputs": [
    {
     "name": "stdout",
     "output_type": "stream",
     "text": [
      "[0, 1, 8, 27, 64, 125, 216, 343, 512, 729, 1000]\n",
      "[0, 1, 8, 27, 64, 125, 216, 343, 512, 729, 1000]\n"
     ]
    }
   ],
   "source": [
    "#a)\n",
    "def cube(a): \n",
    "    return a *a * a \n",
    "\n",
    "list=[]\n",
    "for i in range(0,11): \n",
    "    list.append(cube(i))\n",
    "print(list)\n",
    "\n",
    "#b) \n",
    "b_list=[]\n",
    "for i in range(0,11):\n",
    "    b_list.append(i)\n",
    "\n",
    "\n",
    "for i, val in enumerate(b_list):\n",
    "    b_list[i]=cube(val)\n",
    "\n",
    "    \n",
    "print(b_list)\n",
    "    \n"
   ]
  },
  {
   "cell_type": "markdown",
   "metadata": {},
   "source": [
    "8\\. Nested list comprehension\n",
    "\n",
    "A Pythagorean triple is an integer solution to the Pythagorean theorem $a^2+b^2=c^2$. The first Pythagorean triple is (3,4,5). Find and put in a tuple all unique Pythagorean triples for the positive integers a, b and c less than 100."
   ]
  },
  {
   "cell_type": "code",
   "execution_count": 98,
   "metadata": {},
   "outputs": [
    {
     "name": "stdout",
     "output_type": "stream",
     "text": [
      "[(3, 4, 5), (4, 3, 5), (5, 12, 13), (6, 8, 10), (7, 24, 25), (8, 6, 10), (8, 15, 17), (9, 12, 15), (9, 40, 41), (10, 24, 26), (11, 60, 61), (12, 5, 13), (12, 9, 15), (12, 16, 20), (12, 35, 37), (13, 84, 85), (14, 48, 50), (15, 8, 17), (15, 20, 25), (15, 36, 39), (16, 12, 20), (16, 30, 34), (16, 63, 65), (18, 24, 30), (18, 80, 82), (20, 15, 25), (20, 21, 29), (20, 48, 52), (21, 20, 29), (21, 28, 35), (21, 72, 75), (24, 7, 25), (24, 10, 26), (24, 18, 30), (24, 32, 40), (24, 45, 51), (24, 70, 74), (25, 60, 65), (27, 36, 45), (28, 21, 35), (28, 45, 53), (28, 96, 100), (30, 16, 34), (30, 40, 50), (30, 72, 78), (32, 24, 40), (32, 60, 68), (33, 44, 55), (33, 56, 65), (35, 12, 37), (35, 84, 91), (36, 15, 39), (36, 27, 45), (36, 48, 60), (36, 77, 85), (39, 52, 65), (39, 80, 89), (40, 9, 41), (40, 30, 50), (40, 42, 58), (40, 75, 85), (42, 40, 58), (42, 56, 70), (44, 33, 55), (45, 24, 51), (45, 28, 53), (45, 60, 75), (48, 14, 50), (48, 20, 52), (48, 36, 60), (48, 55, 73), (48, 64, 80), (51, 68, 85), (52, 39, 65), (54, 72, 90), (55, 48, 73), (56, 33, 65), (56, 42, 70), (57, 76, 95), (60, 11, 61), (60, 25, 65), (60, 32, 68), (60, 45, 75), (60, 63, 87), (60, 80, 100), (63, 16, 65), (63, 60, 87), (64, 48, 80), (65, 72, 97), (68, 51, 85), (70, 24, 74), (72, 21, 75), (72, 30, 78), (72, 54, 90), (72, 65, 97), (75, 40, 85), (76, 57, 95), (77, 36, 85), (80, 18, 82), (80, 39, 89), (80, 60, 100), (84, 13, 85), (84, 35, 91), (96, 28, 100)]\n"
     ]
    }
   ],
   "source": [
    "triples=[]\n",
    "for a in range(1,101):\n",
    "    for b in range(1,101):\n",
    "        for c in range(1,101):\n",
    "            if (a**2 + b**2 == c**2):\n",
    "                triples.append((a,b,c))\n",
    "print(triples)\n",
    "                "
   ]
  },
  {
   "cell_type": "markdown",
   "metadata": {},
   "source": [
    "9\\. Normalization\n",
    "\n",
    "Write a function that takes a tuple of numbers and returns it with the entries normalized to one"
   ]
  },
  {
   "cell_type": "code",
   "execution_count": 105,
   "metadata": {},
   "outputs": [
    {
     "name": "stdout",
     "output_type": "stream",
     "text": [
      "[0.35714285714285715, 0.4489795918367347, 0.5816326530612245, 0.02040816326530612, 0.7448979591836735, 0.9693877551020408, 0.6428571428571429, 0.4489795918367347, 0.30612244897959184, 0.09183673469387756, 0.23469387755102042, 0.1836734693877551, 0.32653061224489793, 0.8673469387755102, 1.0, 0.17346938775510204, 0.6326530612244898, 0.7040816326530612, 0.8571428571428571, 0.8571428571428571, 0.6326530612244898, 0.46938775510204084, 0.5612244897959183, 0.41836734693877553, 0.7040816326530612, 0.8469387755102041, 0.8877551020408163, 0.5510204081632653, 0.19387755102040816, 0.5408163265306123, 0.07142857142857142, 0.5612244897959183, 0.5102040816326531, 0.7959183673469388, 0.8163265306122449, 0.5714285714285714, 0.3673469387755102, 0.9183673469387755, 0.0, 0.8469387755102041, 0.8469387755102041, 0.35714285714285715, 0.6632653061224489, 0.08163265306122448, 0.8979591836734694, 0.5, 0.41836734693877553, 0.9183673469387755, 0.5, 0.9591836734693877, 0.9081632653061225, 0.9897959183673469, 0.3877551020408163, 0.15306122448979592, 0.826530612244898, 0.30612244897959184, 0.9285714285714286, 0.40816326530612246, 0.4489795918367347, 0.29591836734693877, 0.6632653061224489, 0.7040816326530612, 0.336734693877551, 0.8571428571428571, 0.9489795918367347, 0.04081632653061224, 0.02040816326530612, 0.35714285714285715, 0.7244897959183674, 0.9183673469387755, 0.8469387755102041, 0.336734693877551, 0.8775510204081632, 0.7551020408163265, 0.5306122448979592, 0.5102040816326531, 0.19387755102040816, 0.8979591836734694, 0.5102040816326531, 0.19387755102040816]\n"
     ]
    }
   ],
   "source": [
    "l = (36, 45, 58, 3, 74, 96, 64, 45, 31, 10, 24, 19, 33, 86, 99, 18, 63, 70, 85,\n",
    " 85, 63, 47, 56, 42, 70, 84, 88, 55, 20, 54, 8, 56, 51, 79, 81, 57, 37, 91,\n",
    " 1, 84, 84, 36, 66, 9, 89, 50, 42, 91, 50, 95, 90, 98, 39, 16, 82, 31, 92, 41,\n",
    " 45, 30, 66, 70, 34, 85, 94, 5, 3, 36, 72, 91, 84, 34, 87, 75, 53, 51, 20, 89, 51, 20)\n",
    "\n",
    "lmin, lmax = min(l), max(l)\n",
    "norm=[]\n",
    "for i, val in enumerate(l):\n",
    "    norm.append( (val-amin) / (amax-amin))\n",
    "print(norm)\n",
    "    "
   ]
  },
  {
   "cell_type": "code",
   "execution_count": null,
   "metadata": {},
   "outputs": [],
   "source": []
  }
 ],
 "metadata": {
  "kernelspec": {
   "display_name": "Python 3",
   "language": "python",
   "name": "python3"
  },
  "language_info": {
   "codemirror_mode": {
    "name": "ipython",
    "version": 3
   },
   "file_extension": ".py",
   "mimetype": "text/x-python",
   "name": "python",
   "nbconvert_exporter": "python",
   "pygments_lexer": "ipython3",
   "version": "3.8.3"
  }
 },
 "nbformat": 4,
 "nbformat_minor": 2
}
