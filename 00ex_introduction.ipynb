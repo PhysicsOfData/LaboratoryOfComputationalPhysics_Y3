{
 "cells": [
  {
   "cell_type": "markdown",
   "metadata": {},
   "source": [
    "1.The MickeyMouse problem\n",
    "\n",
    "a) Write a program that prints the numbers from 1 to 100. But for multiples of three print Mickey instead of the number and for the multiples of five print Mouse. For numbers which are multiples of both three and five print MickeyMouse\n",
    "\n",
    "b) Put the result in a tuple and substitute Mickey with Donald and Mouse with Duck\n"
   ]
  },
  {
   "cell_type": "code",
   "execution_count": null,
   "metadata": {},
   "outputs": [],
   "source": [
    "# Exercise  1.a\n",
    "for i in range(1, 100):\n",
    "     if(i % 15 == 0):\n",
    "         print(\"Micky Mouse\")\n",
    "     elif(i % 5 == 0):\n",
    "         print(\"Mouse\")\n",
    "     elif(i % 3 == 0):\n",
    "         print(\"Micky\")\n",
    "     else:\n",
    "         print(str(i))"
   ]
  },
  {
   "cell_type": "code",
   "execution_count": null,
   "metadata": {},
   "outputs": [],
   "source": [
    "# Exercise  1.b\n",
    "t1 = ()\n",
    "k = 0\n",
    "for i in range(1, 100):\n",
    "    if(i % 3 != 0 and i % 5 != 0 and i % 15 != 0):\n",
    "        t1 = t1 + (i,)\n",
    "        print(str(i), t1[k])\n",
    "        k = k+1\n",
    "    if(i % 3 == 0 and i % 5 != 0 and i % 15 != 0):\n",
    "        t1 = t1 + (\"Donald\",)\n",
    "        print(str(i), t1[k])\n",
    "        k = k+1\n",
    "    if(i % 5 == 0 and i % 15 != 0 and i % 3 != 0):\n",
    "        t1 = t1 + (\"Duck\",)\n",
    "        print(str(i), t1[k])\n",
    "        k = k+1\n",
    "    if(i % 15 == 0):\n",
    "        t1 = t1 + (\"Mickey Mouse\",)\n",
    "        print(str(i), t1[k])\n",
    "        k = k+1"
   ]
  },
  {
   "cell_type": "markdown",
   "metadata": {},
   "source": [
    "2. The swap function\n",
    "\n",
    "Write a function that swap the values of two input variables x and y (whatever the type). Try to do that also without a temporary variable."
   ]
  },
  {
   "cell_type": "code",
   "execution_count": null,
   "metadata": {},
   "outputs": [],
   "source": [
    "# Exercise 2\n",
    "def function(a, b):\n",
    "    a, b = b, a\n",
    "    return print(\"Number one: {} Number two: {}\".format(a, b))\n",
    "\n",
    "\n",
    "a = int(input(\"Please write your first number: \"))\n",
    "b = int(input(\"Please write your second number: \"))\n",
    "print(\"Number one: {} Number two: {}\".format(a, b))\n",
    "print(\"Swaping your numbers -----\")\n",
    "print(function(a, b))"
   ]
  },
  {
   "cell_type": "markdown",
   "metadata": {},
   "source": [
    "3. Computing the distance\n",
    "\n",
    "Write a function that calculates and returns the euclidean distance between two points u and v, where u and v are both 2-tuples (x,y). For example, if u=(3,0) and v=(0,4), the function should return 5\n"
   ]
  },
  {
   "cell_type": "code",
   "execution_count": null,
   "metadata": {},
   "outputs": [],
   "source": [
    "# Exercise 3\n",
    "a = [2, 4, 10, 6, 8, 4, 10, 12, 18, 19, 25, 5, 7]\n",
    "print(\"Before normalization : \", a)\n",
    "\n",
    "amin, amax = min(a), max(a)\n",
    "for i, val in enumerate(a):\n",
    "    a[i] = (val-amin) / (amax-amin)\n",
    "\n",
    "print(\"After normalization : \", a)"
   ]
  },
  {
   "cell_type": "markdown",
   "metadata": {},
   "source": [
    "4. Counting letters\n",
    "\n",
    "Write a program to calculate the number of times each character occurs in a given string s. Ignore differneces in capitalization\n"
   ]
  },
  {
   "cell_type": "code",
   "execution_count": null,
   "metadata": {},
   "outputs": [],
   "source": [
    "# Exercise 4 = Long and wrong way to do that ( first trial )\n",
    "alphabet = ['A', 'B', 'C', 'D', 'E', 'F', 'G', 'H', 'I', 'J', 'K', 'L',\n",
    "            'M', 'N', 'O', 'P', 'Q', 'R', 'S', 'T', 'U', 'V', 'W', 'X', 'Y', 'Z']\n",
    "liste2 = []\n",
    "string = input(\n",
    "    \"Type your text to calculate the number of times each character occurs: \")\n",
    "string = string.upper()\n",
    "\n",
    "chracters = [x for x in string]\n",
    "for i in range(0, len(alphabet)):\n",
    "    count = 0\n",
    "    for j in range(0, len(chracters)):\n",
    "        if(str(alphabet[i]) == str(chracters[j])):\n",
    "            count += 1\n",
    "        if(j == len(chracters)-1 and count != 0):\n",
    "            print(str(alphabet[i]), count)"
   ]
  },
  {
   "cell_type": "code",
   "execution_count": null,
   "metadata": {},
   "outputs": [],
   "source": [
    "# Exercise 4\n",
    "def count(j,g):\n",
    "    g.lower()\n",
    "    j.lower()\n",
    "    print g, \"is written=\", j.count(g),\"times\"\n",
    "\n",
    "s=\"Write a program that prints the numbers from 1 to 100. \\\n",
    "But for multiples of three print Mickey instead of the number and for the multiples of five print Mouse. \\\n",
    "For numbers which are multiples of both three and five print MickeyMouse\"\n",
    "count(s.lower(),\"o\") "
   ]
  },
  {
   "cell_type": "markdown",
   "metadata": {},
   "source": [
    "5. Isolating the unique\n",
    "\n",
    "Write a function that determines and count the unique numbers in the list l\n"
   ]
  },
  {
   "cell_type": "code",
   "execution_count": null,
   "metadata": {},
   "outputs": [],
   "source": [
    "# Exercise 5 (not completed fully)\n",
    "\n",
    "def unique(l): \n",
    "  \n",
    "    unique_list = [] \n",
    "      \n",
    "    for x in l: \n",
    "        # check if exists in unique_list or not \n",
    "        if x not in unique_list: \n",
    "            unique_list.append(x) \n",
    "\n",
    "    for x in unique_list: \n",
    "        print(x)\n",
    "    print(\"Total number of unique numbers:\" , len(unique_list))    \n",
    "\n",
    "      \n",
    "l = [36, 45, 58, 3, 74, 96, 64, 45, 31, 10, 24, 19, 33, 86, 99, 18, 63, 70, 85,\n",
    "     85, 63, 47, 56, 42, 70, 84, 88, 55, 20, 54, 8, 56, 51, 79, 81, 57, 37, 91,\n",
    "     1, 84, 84, 36, 66, 9, 89, 50, 42, 91, 50, 95, 90, 98, 39, 16, 82, 31, 92, 41,\n",
    "     45, 30, 66, 70, 34, 85, 94, 5, 3, 36, 72, 91, 84, 34, 87, 75, 53, 51, 20, 89, 51, 20]\n",
    "\n",
    "c=[1,1,2,2,2,3,4,5,6,7]\n",
    "\n",
    "print(\"The unique values from the list: \") \n",
    "#unique(l) \n",
    "unique(c) "
   ]
  },
  {
   "cell_type": "markdown",
   "metadata": {},
   "source": [
    "6. Combination of functions\n",
    "\n",
    "Write two functions - one that returns the square of a number, and one that returns the cube. Now write a third function that returns the number raised to the 6th power using the two previous functions.\n"
   ]
  },
  {
   "cell_type": "code",
   "execution_count": null,
   "metadata": {},
   "outputs": [],
   "source": [
    "# Exercise 6\n",
    "# User defind method to find square\n",
    "def square(num):\n",
    "    return (num*num)\n",
    "\n",
    "# User defind method to find cube\n",
    "\n",
    "def cube(num):\n",
    "    return (num*num*num)\n",
    "\n",
    "def function6th(num):\n",
    "    return cube(num)*square(num)*num\n",
    "\n",
    "function6th(2)\n",
    "print(function6th(2))"
   ]
  },
  {
   "cell_type": "markdown",
   "metadata": {},
   "source": [
    "7. Cubes\n",
    "\n",
    "Create a list of the cubes of x for x in [0, 10] using:\n",
    "\n",
    "a) a for loop\n",
    "\n",
    "b) a list comprehension\n"
   ]
  },
  {
   "cell_type": "code",
   "execution_count": null,
   "metadata": {},
   "outputs": [],
   "source": [
    "# Exercise 7\n",
    "print(\"----- For loop --------\")\n",
    "my_list = []\n",
    "for x in range(0, 10):\n",
    "    my_list.append(x**3)\n",
    "print(my_list)\n",
    "\n",
    "print(\"----- List Comprehension --------\")\n",
    "y = (y ** 3 for y in range(0, 10))\n",
    "y = list(y)\n",
    "print(y)\n"
   ]
  },
  {
   "cell_type": "markdown",
   "metadata": {},
   "source": [
    "8. Nested list comprehension\n",
    "\n",
    "A Pythagorean triple is an integer solution to the Pythagorean theorem $a^2+b^2=c^2$. The first Pythagorean triple is (3,4,5). Find and put in a tuple all unique Pythagorean triples for the positive integers a, b and c less than 100.\n"
   ]
  },
  {
   "cell_type": "code",
   "execution_count": null,
   "metadata": {},
   "outputs": [],
   "source": [
    "# Exercise 8\n",
    "import math\n",
    "for a in range(0, 100):\n",
    "    for b in range(0, 100):\n",
    "        for c in range(0, 100):\n",
    "            if (int(c**2) == (int(a**2)+int(b**2)) and int(a) != 0 and int(b) != 0 and int(c) != 0):\n",
    "                print(\"a=\"+str(a), \"b=\"+str(b), \"c=\"+str(c))\n",
    "\n",
    "# my second solution :\n",
    "\n",
    "\n",
    "def pythagorean_triplet(n):\n",
    "    for b in range(n):\n",
    "        for a in range(1, b):\n",
    "            c = math.sqrt(a * a + b * b)\n",
    "            if c % 1 == 0:\n",
    "                print(a, b, int(c))\n",
    "\n",
    "\n",
    "\"\n",
    "pythagorean_triplet(100)\n",
    "\n",
    "\n",
    "# A Pythagorean triple is an integer solution to the Pythagorean theorem $a^2+b^2=c^2$.\n",
    "# The first Pythagorean triple is (3,4,5). Find and put in a tuple all unique Pythagorean triples for the positive integers a, b and c less than 100.\n"
   ]
  },
  {
   "cell_type": "markdown",
   "metadata": {},
   "source": [
    "9. Normalization\n",
    "\n",
    "Write a function that takes a tuple of numbers and returns it with the entries normalized to one\n"
   ]
  },
  {
   "cell_type": "code",
   "execution_count": null,
   "metadata": {},
   "outputs": [],
   "source": [
    "# Exercise 9\n",
    "# tup = tuple(input(\"Enter the list of tuples(don't use space):\\n\"))\n",
    "# print(tup)\n",
    "# res = int(''.join(map(str, tup)))\n",
    "# tupmin, tupmax = min(tup), max(tup)\n",
    "# print(tupmin,tupmax)\n",
    "# #Normalization usually means to scale a variable to have a values between 0 and 1\n",
    "# for i, val in enumerate(tup):\n",
    "#     tup[i] = (val-tupmin) / (tupmax-tupmin)\n",
    "\n",
    "# print(tup)\n",
    "\n",
    "a = [2, 4, 10, 6, 8, 4, 10, 12, 18, 19, 25, 5, 7]\n",
    "print(\"Before normalization : \", a)\n",
    "\n",
    "amin, amax = min(a), max(a)\n",
    "for i, val in enumerate(a):\n",
    "    a[i] = (val-amin) / (amax-amin)\n",
    "\n",
    "print(\"After normalization : \", a)\n"
   ]
  }
 ],
 "metadata": {
  "kernelspec": {
   "display_name": "Python 3",
   "language": "python",
   "name": "python3"
  },
  "language_info": {
   "codemirror_mode": {
    "name": "ipython",
    "version": 3
   },
   "file_extension": ".py",
   "mimetype": "text/x-python",
   "name": "python",
   "nbconvert_exporter": "python",
   "pygments_lexer": "ipython3",
   "version": "3.8.5"
  }
 },
 "nbformat": 4,
 "nbformat_minor": 4
}
