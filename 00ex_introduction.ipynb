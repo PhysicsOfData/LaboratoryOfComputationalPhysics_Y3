{
 "cells": [
  {
   "cell_type": "markdown",
   "metadata": {},
   "source": [
    "1. The MickeyMouse problem\n",
    "\n",
    "a) Write a program that prints the numbers from 1 to 100. But for multiples of three print Mickey instead of the number and for the multiples of five print Mouse. For numbers which are multiples of both three and five print MickeyMouse\n",
    "\n",
    "b) Put the result in a tuple and substitute Mickey with Donald and Mouse with Duck"
   ]
  },
  {
   "cell_type": "code",
   "execution_count": null,
   "metadata": {},
   "outputs": [],
   "source": [
    "a=[]\n",
    "for i in range(1,21): #done up to 20\n",
    "    if i % 3 == 0 and i % 5 == 0:\n",
    "        a.append(\"MickeyMouse\")\n",
    "    elif i%3==0:\n",
    "        a.append(\"Mickey\")\n",
    "    elif i%5==0:\n",
    "        a.append(\"Mouse\")\n",
    "    else:\n",
    "        a.append(i)\n",
    "print(a)\n",
    "\n",
    "for i in range (len(a)):\n",
    "    if (i+1) % 3 == 0: a[i]=\"Donald\"\n",
    "    elif (i+1) % 5 == 0: a[i]=\"Duck\"\n",
    "a=tuple(a) #tuples can't be modified\n",
    "print(a)"
   ]
  },
  {
   "cell_type": "markdown",
   "metadata": {},
   "source": [
    "2\\. The swap function\n",
    "\n",
    "Write a function that swap the values of two input variables x and y (whatever the type). Try to do that also without a temporary variable"
   ]
  },
  {
   "cell_type": "code",
   "execution_count": null,
   "metadata": {},
   "outputs": [],
   "source": [
    "x=input(\"x = \")\n",
    "y=input(\"y = \")\n",
    "def swap(x, y):\n",
    "    x, y = y, x\n",
    "    print(\"x =\", x, \"y =\", y)\n",
    "\n",
    "swap(x, y)"
   ]
  },
  {
   "cell_type": "markdown",
   "metadata": {},
   "source": [
    "3\\. Computing the distance\n",
    "\n",
    "Write a function that calculates and returns the euclidean distance between two points *u* and *v*, where *u* and *v* are both 2-tuples *(x,y)*. For example, if *u=(3,0)* and *v=(0,4)*, the function should return 5"
   ]
  },
  {
   "cell_type": "code",
   "execution_count": null,
   "metadata": {},
   "outputs": [],
   "source": [
    "import math\n",
    "x1, y1 = [int(x) for x in input(\"Coordinates of the first point: \").split(\",\")]\n",
    "x2, y2 = [int(x) for x in input(\"Coordinates of the second point: \").split(\",\")]\n",
    "a=(x1,y1) \n",
    "b=(x2,y2)\n",
    "#print(\"Point A: (\", a[0], a[1], \")\")\n",
    "#print(\"Point B: (\", b[0], b[1], \")\")\n",
    "def eu(x, y):\n",
    "    dist=math.sqrt((x[0]-y[0])**2+(x[1]-y[1])**2)\n",
    "    return dist\n",
    "eu(a,b)"
   ]
  },
  {
   "cell_type": "markdown",
   "metadata": {},
   "source": [
    "4\\. Counting letters\n",
    "\n",
    "Write a program to calculate the number of times each character occurs in a given string *s*. Ignore differneces in capitalization"
   ]
  },
  {
   "cell_type": "code",
   "execution_count": null,
   "metadata": {},
   "outputs": [],
   "source": [
    "S=input()\n",
    "s=S.lower()\n",
    "freq={}\n",
    "for i in s:\n",
    "    if i in freq:\n",
    "        freq[i] += 1\n",
    "    else:\n",
    "        freq[i] = 1\n",
    "print(\"The number of time every character appears in (\"+ S + \") is \" + str(freq))"
   ]
  },
  {
   "cell_type": "code",
   "execution_count": null,
   "metadata": {},
   "outputs": [],
   "source": [
    "s=\"Write a program that prints the numbers from 1 to 100. \\\n",
    "But for multiples of three print Mickey instead of the number and for the multiples of five print Mouse. \\\n",
    "For numbers which are multiples of both three and five print MickeyMouse\""
   ]
  },
  {
   "cell_type": "markdown",
   "metadata": {},
   "source": [
    "5\\. Isolating the unique\n",
    "\n",
    "Write a function that determines and count the unique numbers in the list *l*"
   ]
  },
  {
   "cell_type": "code",
   "execution_count": null,
   "metadata": {},
   "outputs": [],
   "source": [
    "L=[36, 45, 58, 3, 74, 96, 64, 45, 31, 10, 24, 19, 33, 86, 99, 18, 63, 70, 85,\n",
    "   85, 63, 47, 56, 42, 70, 84, 88, 55, 20, 54, 8, 56, 51, 79, 81, 57, 37, 91,\n",
    "    1, 84, 84, 36, 66, 9, 89, 50, 42, 91, 50, 95, 90, 98, 39, 16, 82, 31, 92, 41,\n",
    "   45, 30, 66, 70, 34, 85, 94, 5, 3, 36, 72, 91, 84, 34, 87, 75, 53, 51, 20, 89, 51, 20]\n",
    "\n",
    "def unique(l):\n",
    "    freq, c = {}, 0\n",
    "    for i in l:\n",
    "        if i in freq: freq[i] += 1\n",
    "        else: freq[i] = 1\n",
    "    for i in freq:\n",
    "        if freq.get(i) == 1:\n",
    "            print(str(i) + \" is a unique number\")\n",
    "            c += 1\n",
    "    print(\"The number of unique numbers is: \" + str(c))\n",
    "\n",
    "unique(L)"
   ]
  },
  {
   "cell_type": "code",
   "execution_count": null,
   "metadata": {},
   "outputs": [],
   "source": [
    "l = [36, 45, 58, 3, 74, 96, 64, 45, 31, 10, 24, 19, 33, 86, 99, 18, 63, 70, 85,\n",
    " 85, 63, 47, 56, 42, 70, 84, 88, 55, 20, 54, 8, 56, 51, 79, 81, 57, 37, 91,\n",
    " 1, 84, 84, 36, 66, 9, 89, 50, 42, 91, 50, 95, 90, 98, 39, 16, 82, 31, 92, 41,\n",
    " 45, 30, 66, 70, 34, 85, 94, 5, 3, 36, 72, 91, 84, 34, 87, 75, 53, 51, 20, 89, 51, 20]"
   ]
  },
  {
   "cell_type": "markdown",
   "metadata": {},
   "source": [
    "6\\. Combination of functions\n",
    "\n",
    "Write two functions - one that returns the square of a number, and one that returns the cube. Now write a third function that returns the number raised to the 6th power using the two previous functions."
   ]
  },
  {
   "cell_type": "code",
   "execution_count": null,
   "metadata": {},
   "outputs": [],
   "source": [
    "x=float(input())\n",
    "def square(x):\n",
    "    sq=x**2\n",
    "    return sq\n",
    "def cube(x):\n",
    "    cu=x**3\n",
    "    return cu\n",
    "def sixth_pow(x):\n",
    "    sp=cube(square(x))\n",
    "    return sp\n",
    "\n",
    "print(str(square(x)) + \", \" + str(cube(x)) + \", \" + str(sixth_pow(x)))"
   ]
  },
  {
   "cell_type": "markdown",
   "metadata": {},
   "source": [
    "7\\. Cubes\n",
    "\n",
    "Create a list of the cubes of x for x in *[0, 10]* using:\n",
    "\n",
    "a) a for loop\n",
    "\n",
    "b) a list comprehension"
   ]
  },
  {
   "cell_type": "code",
   "execution_count": null,
   "metadata": {},
   "outputs": [],
   "source": [
    "square1=[]\n",
    "for x in range(10):\n",
    "    square1.append(x**2)\n",
    "print(square1)\n",
    "\n",
    "square2=[x**2 for x in range(10)]\n",
    "print(square2)"
   ]
  },
  {
   "cell_type": "markdown",
   "metadata": {},
   "source": [
    "8\\. Nested list comprehension\n",
    "\n",
    "A Pythagorean triple is an integer solution to the Pythagorean theorem $a^2+b^2=c^2$. The first Pythagorean triple is (3,4,5). Find and put in a tuple all unique Pythagorean triples for the positive integers a, b and c less than 100."
   ]
  },
  {
   "cell_type": "code",
   "execution_count": null,
   "metadata": {},
   "outputs": [],
   "source": [
    "pyth=[[a,b,c] for a in range(1,21) for b in range(a,21) for c in range(b,21) if c**2==a**2+b**2] #done up to 20\n",
    "print(pyth)"
   ]
  },
  {
   "cell_type": "markdown",
   "metadata": {},
   "source": [
    "9\\. Normalization\n",
    "\n",
    "Write a function that takes a tuple of numbers and returns it with the entries normalized to one"
   ]
  },
  {
   "cell_type": "code",
   "execution_count": null,
   "metadata": {},
   "outputs": [],
   "source": [
    "import math\n",
    "vec_in = [int(x) for x in input(\"Enter vector components: \").split(\",\")]\n",
    "vec = tuple(vec_in)\n",
    "#print(vec)\n",
    "def normal(v):\n",
    "    norm = tuple([float(i)/sum(v) for i in v])\n",
    "    return norm\n",
    "print(normal(vec))"
   ]
  }
 ],
 "metadata": {
  "kernelspec": {
   "display_name": "Python 3",
   "language": "python",
   "name": "python3"
  },
  "language_info": {
   "codemirror_mode": {
    "name": "ipython",
    "version": 3
   },
   "file_extension": ".py",
   "mimetype": "text/x-python",
   "name": "python",
   "nbconvert_exporter": "python",
   "pygments_lexer": "ipython3",
  }
 },
 "nbformat": 4,
 "nbformat_minor": 2
}
