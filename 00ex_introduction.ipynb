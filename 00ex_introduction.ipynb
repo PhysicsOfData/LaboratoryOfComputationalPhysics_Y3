{
 "cells": [
  {
   "cell_type": "markdown",
   "metadata": {},
   "source": [
    "1. The MickeyMouse problem\n",
    "\n",
    "a) Write a program that prints the numbers from 1 to 100. But for multiples of three print Mickey instead of the number and for the multiples of five print Mouse. For numbers which are multiples of both three and five print MickeyMouse\n",
    "\n",
    "b) Put the result in a tuple and substitute Mickey with Donald and Mouse with Duck"
   ]
  },
  {
   "cell_type": "code",
   "execution_count": 1,
   "metadata": {},
   "outputs": [],
   "source": [
    "results = []\n",
    "\n",
    "for i in range(1,101):\n",
    "    if (i%3==0) and (i%5==0):\n",
    "        results.append('MickeyMouse')\n",
    "    elif i%3==0:\n",
    "        results.append('Mickey')\n",
    "    elif i%5==0:\n",
    "        results.append('Mouse')\n",
    "    else:\n",
    "        results.append(i)"
   ]
  },
  {
   "cell_type": "code",
   "execution_count": 3,
   "metadata": {},
   "outputs": [
    {
     "name": "stdout",
     "output_type": "stream",
     "text": [
      "[1, 2, 'Mickey', 4, 'Mouse', 'Mickey', 7, 8, 'Mickey', 'Mouse', 11, 'Mickey', 13, 14, 'MickeyMouse']\n"
     ]
    }
   ],
   "source": [
    "print(results[:15])"
   ]
  },
  {
   "cell_type": "code",
   "execution_count": 8,
   "metadata": {},
   "outputs": [],
   "source": [
    "def rename(m):\n",
    "    if m == 'MickeyMouse':\n",
    "        return 'DonaldDuck'\n",
    "    elif m == 'Mickey':\n",
    "        return 'Donald'\n",
    "    elif m == 'Mouse':\n",
    "        return 'Duck'\n",
    "    else:\n",
    "        return m\n",
    "    \n",
    "tup = tuple([rename(y) for y in results])"
   ]
  },
  {
   "cell_type": "code",
   "execution_count": 9,
   "metadata": {},
   "outputs": [
    {
     "name": "stdout",
     "output_type": "stream",
     "text": [
      "(1, 2, 'Donald', 4, 'Duck', 'Donald', 7, 8, 'Donald', 'Duck', 11, 'Donald', 13, 14, 'DonaldDuck')\n"
     ]
    }
   ],
   "source": [
    "print(tup[:15])"
   ]
  },
  {
   "cell_type": "markdown",
   "metadata": {},
   "source": [
    "2\\. The swap function\n",
    "\n",
    "Write a function that swap the values of two input variables x and y (whatever the type). Try to do that also without a temporary variable"
   ]
  },
  {
   "cell_type": "code",
   "execution_count": 10,
   "metadata": {},
   "outputs": [],
   "source": [
    "def swap(x, y):\n",
    "    return y, x"
   ]
  },
  {
   "cell_type": "code",
   "execution_count": 17,
   "metadata": {},
   "outputs": [
    {
     "name": "stdout",
     "output_type": "stream",
     "text": [
      "Original values: (1, 0)\n",
      "Swapped values: (0, 1)\n",
      "\n",
      "\n",
      "Original values: ('hello', 'bye')\n",
      "Swapped values: ('bye', 'hello')\n",
      "\n",
      "\n",
      "Original values: ({'name': 'Giacomo'}, {'surname': 'Barzon'})\n",
      "Swapped values: ({'surname': 'Barzon'}, {'name': 'Giacomo'})\n",
      "\n",
      "\n"
     ]
    }
   ],
   "source": [
    "values_to_swap = [(1,0), ('hello', 'bye'), ({'name':'Giacomo'}, {'surname':'Barzon'}) ]\n",
    "\n",
    "for i in values_to_swap:\n",
    "    print( 'Original values: '+str(i) )\n",
    "    print( 'Swapped values: '+str(swap(i[0], i[1]) ))\n",
    "    print('\\n')\n"
   ]
  },
  {
   "cell_type": "markdown",
   "metadata": {},
   "source": [
    "3\\. Computing the distance\n",
    "\n",
    "Write a function that calculates and returns the euclidean distance between two points *u* and *v*, where *u* and *v* are both 2-tuples *(x,y)*. For example, if *u=(3,0)* and *v=(0,4)*, the function should return 5"
   ]
  },
  {
   "cell_type": "code",
   "execution_count": 18,
   "metadata": {},
   "outputs": [],
   "source": [
    "def distance(u, v):\n",
    "    return ( (u[0]-v[0])**2 + (u[1]-v[1])**2 )**0.5"
   ]
  },
  {
   "cell_type": "code",
   "execution_count": 20,
   "metadata": {},
   "outputs": [
    {
     "name": "stdout",
     "output_type": "stream",
     "text": [
      "5.0\n"
     ]
    }
   ],
   "source": [
    "u = (3., 0.)\n",
    "v = (0., 4.)\n",
    "\n",
    "print(distance(u, v))"
   ]
  },
  {
   "cell_type": "markdown",
   "metadata": {},
   "source": [
    "4\\. Counting letters\n",
    "\n",
    "Write a program to calculate the number of times each character occurs in a given string *s*. Ignore differneces in capitalization"
   ]
  },
  {
   "cell_type": "code",
   "execution_count": 21,
   "metadata": {},
   "outputs": [],
   "source": [
    "s=\"Write a program that prints the numbers from 1 to 100. \\\n",
    "But for multiples of three print Mickey instead of the number and for the multiples of five print Mouse. \\\n",
    "For numbers which are multiples of both three and five print MickeyMouse\""
   ]
  },
  {
   "cell_type": "code",
   "execution_count": 23,
   "metadata": {},
   "outputs": [],
   "source": [
    "def count(string):\n",
    "    string = string.lower()\n",
    "    \n",
    "    counts = {}\n",
    "    \n",
    "    for l in string:\n",
    "        if l in counts.keys():\n",
    "            counts[l]+=1\n",
    "        else:\n",
    "            counts.update({l:1})\n",
    "    return counts"
   ]
  },
  {
   "cell_type": "code",
   "execution_count": 27,
   "metadata": {},
   "outputs": [
    {
     "name": "stdout",
     "output_type": "stream",
     "text": [
      "w :  2\n",
      "r :  17\n",
      "i :  14\n",
      "t :  19\n",
      "e :  22\n",
      "  :  41\n",
      "a :  7\n",
      "p :  8\n",
      "o :  13\n",
      "g :  1\n",
      "m :  12\n",
      "h :  9\n",
      "n :  10\n",
      "s :  9\n",
      "u :  9\n",
      "b :  5\n",
      "f :  10\n",
      "1 :  2\n",
      "0 :  2\n",
      ". :  2\n",
      "l :  6\n",
      "c :  3\n",
      "k :  2\n",
      "y :  2\n",
      "d :  3\n",
      "v :  2\n"
     ]
    }
   ],
   "source": [
    "counts = count(s)\n",
    "\n",
    "for key in counts:\n",
    "    print(key, \": \", counts[key])"
   ]
  },
  {
   "cell_type": "markdown",
   "metadata": {},
   "source": [
    "5\\. Isolating the unique\n",
    "\n",
    "Write a function that determines and count the unique numbers in the list *l*"
   ]
  },
  {
   "cell_type": "code",
   "execution_count": 33,
   "metadata": {},
   "outputs": [],
   "source": [
    "l = [36, 45, 58, 3, 74, 96, 64, 45, 31, 10, 24, 19, 33, 86, 99, 18, 63, 70, 85,\n",
    " 85, 63, 47, 56, 42, 70, 84, 88, 55, 20, 54, 8, 56, 51, 79, 81, 57, 37, 91,\n",
    " 1, 84, 84, 36, 66, 9, 89, 50, 42, 91, 50, 95, 90, 98, 39, 16, 82, 31, 92, 41,\n",
    " 45, 30, 66, 70, 34, 85, 94, 5, 3, 36, 72, 91, 84, 34, 87, 75, 53, 51, 20, 89, 51, 20]"
   ]
  },
  {
   "cell_type": "code",
   "execution_count": 34,
   "metadata": {},
   "outputs": [],
   "source": [
    "def count(numb):\n",
    "    counts = {}\n",
    "    \n",
    "    for l in numb:\n",
    "        if l in counts.keys():\n",
    "            counts[l]+=1\n",
    "        else:\n",
    "            counts.update({l:1})\n",
    "    return counts"
   ]
  },
  {
   "cell_type": "code",
   "execution_count": 36,
   "metadata": {},
   "outputs": [
    {
     "name": "stdout",
     "output_type": "stream",
     "text": [
      "54\n"
     ]
    }
   ],
   "source": [
    "counts = count(l)\n",
    "\n",
    "print(len(counts))"
   ]
  },
  {
   "cell_type": "markdown",
   "metadata": {},
   "source": [
    "6\\. Combination of functions\n",
    "\n",
    "Write two functions - one that returns the square of a number, and one that returns the cube. Now write a third function that returns the number raised to the 6th power using the two previous functions."
   ]
  },
  {
   "cell_type": "code",
   "execution_count": 38,
   "metadata": {},
   "outputs": [
    {
     "name": "stdout",
     "output_type": "stream",
     "text": [
      "64\n",
      "64\n"
     ]
    }
   ],
   "source": [
    "def square(x):\n",
    "    return x**2\n",
    "def cube(x):\n",
    "    return x**3\n",
    "def pow6(x):\n",
    "    return square(cube(x))\n",
    "\n",
    "print(pow6(2))\n",
    "print(2**6)"
   ]
  },
  {
   "cell_type": "markdown",
   "metadata": {},
   "source": [
    "7\\. Cubes\n",
    "\n",
    "Create a list of the cubes of x for x in *[0, 10]* using:\n",
    "\n",
    "a) a for loop\n",
    "\n",
    "b) a list comprehension"
   ]
  },
  {
   "cell_type": "code",
   "execution_count": 39,
   "metadata": {},
   "outputs": [
    {
     "name": "stdout",
     "output_type": "stream",
     "text": [
      "[0, 1, 8, 27, 64, 125, 216, 343, 512, 729] [0, 1, 8, 27, 64, 125, 216, 343, 512, 729]\n"
     ]
    }
   ],
   "source": [
    "cubes=[]\n",
    "\n",
    "for x in range(10):\n",
    "    cubes.append(x**3)\n",
    "    \n",
    "cubes2=[x**3 for x in range(10)]\n",
    "\n",
    "print(cubes, cubes2)"
   ]
  },
  {
   "cell_type": "markdown",
   "metadata": {},
   "source": [
    "8\\. Nested list comprehension\n",
    "\n",
    "A Pythagorean triple is an integer solution to the Pythagorean theorem $a^2+b^2=c^2$. The first Pythagorean triple is (3,4,5). Find and put in a tuple all unique Pythagorean triples for the positive integers a, b and c less than 100."
   ]
  },
  {
   "cell_type": "code",
   "execution_count": 54,
   "metadata": {},
   "outputs": [],
   "source": [
    "pyth = [(a, b, c) for a in range(2,100) for b in range(a,100) for c in range(b,100) if (a**2 + b**2 == c**2)]"
   ]
  },
  {
   "cell_type": "code",
   "execution_count": 58,
   "metadata": {},
   "outputs": [
    {
     "name": "stdout",
     "output_type": "stream",
     "text": [
      "50\n"
     ]
    }
   ],
   "source": [
    "print(len(pyth))"
   ]
  },
  {
   "cell_type": "code",
   "execution_count": 59,
   "metadata": {},
   "outputs": [
    {
     "data": {
      "text/plain": [
       "[(3, 4, 5),\n",
       " (5, 12, 13),\n",
       " (6, 8, 10),\n",
       " (7, 24, 25),\n",
       " (8, 15, 17),\n",
       " (9, 12, 15),\n",
       " (9, 40, 41),\n",
       " (10, 24, 26),\n",
       " (11, 60, 61),\n",
       " (12, 16, 20),\n",
       " (12, 35, 37),\n",
       " (13, 84, 85),\n",
       " (14, 48, 50),\n",
       " (15, 20, 25),\n",
       " (15, 36, 39),\n",
       " (16, 30, 34),\n",
       " (16, 63, 65),\n",
       " (18, 24, 30),\n",
       " (18, 80, 82),\n",
       " (20, 21, 29),\n",
       " (20, 48, 52),\n",
       " (21, 28, 35),\n",
       " (21, 72, 75),\n",
       " (24, 32, 40),\n",
       " (24, 45, 51),\n",
       " (24, 70, 74),\n",
       " (25, 60, 65),\n",
       " (27, 36, 45),\n",
       " (28, 45, 53),\n",
       " (30, 40, 50),\n",
       " (30, 72, 78),\n",
       " (32, 60, 68),\n",
       " (33, 44, 55),\n",
       " (33, 56, 65),\n",
       " (35, 84, 91),\n",
       " (36, 48, 60),\n",
       " (36, 77, 85),\n",
       " (39, 52, 65),\n",
       " (39, 80, 89),\n",
       " (40, 42, 58),\n",
       " (40, 75, 85),\n",
       " (42, 56, 70),\n",
       " (45, 60, 75),\n",
       " (48, 55, 73),\n",
       " (48, 64, 80),\n",
       " (51, 68, 85),\n",
       " (54, 72, 90),\n",
       " (57, 76, 95),\n",
       " (60, 63, 87),\n",
       " (65, 72, 97)]"
      ]
     },
     "execution_count": 59,
     "metadata": {},
     "output_type": "execute_result"
    }
   ],
   "source": [
    "pyth"
   ]
  },
  {
   "cell_type": "markdown",
   "metadata": {},
   "source": [
    "9\\. Normalization\n",
    "\n",
    "Write a function that takes a tuple of numbers and returns it with the entries normalized to one"
   ]
  },
  {
   "cell_type": "code",
   "execution_count": 62,
   "metadata": {},
   "outputs": [],
   "source": [
    "def normalize(tup):\n",
    "    mod = sum([i**2 for i in tup])**0.5\n",
    "    \n",
    "    return tuple([i/mod for i in tup])"
   ]
  },
  {
   "cell_type": "code",
   "execution_count": 66,
   "metadata": {},
   "outputs": [
    {
     "name": "stdout",
     "output_type": "stream",
     "text": [
      "(3, 4, 5)\n",
      "(0.4242640687119285, 0.565685424949238, 0.7071067811865475)\n",
      "(0.4242640687119285, 0.565685424949238, 0.7071067811865475)\n"
     ]
    }
   ],
   "source": [
    "tup = (3, 4, 5)\n",
    "\n",
    "print(tup)\n",
    "print(normalize(tup))\n",
    "print(normalize(normalize(tup)))"
   ]
  },
  {
   "cell_type": "code",
   "execution_count": null,
   "metadata": {},
   "outputs": [],
   "source": []
  }
 ],
 "metadata": {
  "kernelspec": {
   "display_name": "Python 3",
   "language": "python",
   "name": "python3"
  },
  "language_info": {
   "codemirror_mode": {
    "name": "ipython",
    "version": 3
   },
   "file_extension": ".py",
   "mimetype": "text/x-python",
   "name": "python",
   "nbconvert_exporter": "python",
   "pygments_lexer": "ipython3",
   "version": "3.7.1"
  }
 },
 "nbformat": 4,
 "nbformat_minor": 2
}
