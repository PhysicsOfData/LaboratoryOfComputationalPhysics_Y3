{
 "cells": [
  {
   "cell_type": "markdown",
   "metadata": {},
   "source": [
    "1. The MickeyMouse problem\n",
    "\n",
    "a) Write a program that prints the numbers from 1 to 100. But for multiples of three print Mickey instead of the number and for the multiples of five print Mouse. For numbers which are multiples of both three and five print MickeyMouse\n",
    "\n",
    "b) Put the result in a tuple and substitute Mickey with Donald and Mouse with Duck"
   ]
  },
  {
   "cell_type": "code",
   "execution_count": 2,
   "metadata": {},
   "outputs": [
    {
     "name": "stdout",
     "output_type": "stream",
     "text": [
      "[1, 2, 'Mickey', 4, 'Mouse', 'Mickey', 7, 8, 'Mickey', 'Mouse', 11, 'Mickey', 13, 14, 'MickeyMouse', 16, 17, 'Mickey', 19, 'Mouse', 'Mickey', 22, 23, 'Mickey', 'Mouse', 26, 'Mickey', 28, 29, 'MickeyMouse', 31, 32, 'Mickey', 34, 'Mouse', 'Mickey', 37, 38, 'Mickey', 'Mouse', 41, 'Mickey', 43, 44, 'MickeyMouse', 46, 47, 'Mickey', 49, 'Mouse', 'Mickey', 52, 53, 'Mickey', 'Mouse', 56, 'Mickey', 58, 59, 'MickeyMouse', 61, 62, 'Mickey', 64, 'Mouse', 'Mickey', 67, 68, 'Mickey', 'Mouse', 71, 'Mickey', 73, 74, 'MickeyMouse', 76, 77, 'Mickey', 79, 'Mouse', 'Mickey', 82, 83, 'Mickey', 'Mouse', 86, 'Mickey', 88, 89, 'MickeyMouse', 91, 92, 'Mickey', 94, 'Mouse', 'Mickey', 97, 98, 'Mickey', 'Mouse']\n"
     ]
    }
   ],
   "source": [
    "a=[]\n",
    "for i in range (1,101) :\n",
    "\tif i%3==0 and i%5==0 :\n",
    "\t\ta.append('MickeyMouse')\n",
    "\telif i%3==0 :\n",
    "\t\ta.append('Mickey')\n",
    "\telif i%5==0 :\n",
    "\t\ta.append('Mouse')\n",
    "\telse:\n",
    "\t\ta.append(i)\n",
    "        \n",
    "print (a)\n",
    "\n",
    "\n",
    "\n",
    "        "
   ]
  },
  {
   "cell_type": "markdown",
   "metadata": {},
   "source": [
    "2\\. The swap function\n",
    "\n",
    "Write a function that swap the values of two input variables x and y (whatever the type). Try to do that also without a temporary variable"
   ]
  },
  {
   "cell_type": "code",
   "execution_count": 30,
   "metadata": {},
   "outputs": [
    {
     "data": {
      "text/plain": [
       "[5, 4]"
      ]
     },
     "execution_count": 30,
     "metadata": {},
     "output_type": "execute_result"
    }
   ],
   "source": [
    "def swap(x,y):\n",
    "    a=[x,y]\n",
    "    a=a*2\n",
    "    del a[0]\n",
    "    del a[2]\n",
    "    return a\n",
    "swap(4,5)"
   ]
  },
  {
   "cell_type": "markdown",
   "metadata": {},
   "source": [
    "3\\. Computing the distance\n",
    "\n",
    "Write a function that calculates and returns the euclidean distance between two points *u* and *v*, where *u* and *v* are both 2-tuples *(x,y)*. For example, if *u=(3,0)* and *v=(0,4)*, the function should return 5"
   ]
  },
  {
   "cell_type": "code",
   "execution_count": 5,
   "metadata": {},
   "outputs": [
    {
     "name": "stdout",
     "output_type": "stream",
     "text": [
      "5.0\n"
     ]
    }
   ],
   "source": [
    "import math\n",
    "def Distance(ux,uy,vx,vy):\n",
    "\tdx=ux-vx\n",
    "\tdy=uy-vy\n",
    "\tdistance=math.sqrt(dx**2+dy**2)\n",
    "\tprint (distance)\n",
    "    \n",
    "    \n",
    "    Distance (3,0,0,4)\n",
    "    \n",
    "\n",
    "    "
   ]
  },
  {
   "cell_type": "markdown",
   "metadata": {},
   "source": [
    "4\\. Counting letters\n",
    "\n",
    "Write a program to calculate the number of times each character occurs in a given string *s*. Ignore differneces in capitalization"
   ]
  },
  {
   "cell_type": "code",
   "execution_count": 7,
   "metadata": {},
   "outputs": [
    {
     "name": "stdout",
     "output_type": "stream",
     "text": [
      "a 7\n",
      "b 4\n",
      "c 3\n",
      "d 3\n",
      "e 22\n",
      "f 9\n",
      "g 1\n",
      "h 9\n",
      "i 14\n",
      "j 0\n",
      "k 2\n",
      "l 6\n",
      "m 8\n",
      "n 10\n",
      "o 13\n",
      "p 8\n",
      "q 0\n",
      "r 17\n",
      "s 9\n",
      "t 19\n",
      "u 9\n",
      "v 2\n",
      "w 1\n",
      "x 0\n",
      "y 2\n",
      "z 0\n"
     ]
    }
   ],
   "source": [
    "s=\"Write a program that prints the numbers from 1 to 100. \\\n",
    "But for multiples of three print Mickey instead of the number and for the multiples of five print Mouse. \\\n",
    "For numbers which are multiples of both three and five print MickeyMouse\"\n",
    "alphabet='abcdefghijklmnopqrstuvwxyz'\n",
    "for char in alphabet:\n",
    "    print (char,s.count(char))\n"
   ]
  },
  {
   "cell_type": "markdown",
   "metadata": {},
   "source": [
    "5\\. Isolating the unique\n",
    "\n",
    "Write a function that determines and count the unique numbers in the list *l*"
   ]
  },
  {
   "cell_type": "code",
   "execution_count": 9,
   "metadata": {},
   "outputs": [
    {
     "name": "stdout",
     "output_type": "stream",
     "text": [
      "36 is repeated 3 times\n",
      "45 is repeated 3 times\n",
      "58 is repeated 1 times\n",
      "3 is repeated 2 times\n",
      "74 is repeated 1 times\n",
      "96 is repeated 1 times\n",
      "64 is repeated 1 times\n",
      "45 is repeated 3 times\n",
      "31 is repeated 2 times\n",
      "10 is repeated 1 times\n",
      "24 is repeated 1 times\n",
      "19 is repeated 1 times\n",
      "33 is repeated 1 times\n",
      "86 is repeated 1 times\n",
      "99 is repeated 1 times\n",
      "18 is repeated 1 times\n",
      "63 is repeated 2 times\n",
      "70 is repeated 3 times\n",
      "85 is repeated 3 times\n",
      "85 is repeated 3 times\n",
      "63 is repeated 2 times\n",
      "47 is repeated 1 times\n",
      "56 is repeated 2 times\n",
      "42 is repeated 2 times\n",
      "70 is repeated 3 times\n",
      "84 is repeated 4 times\n",
      "88 is repeated 1 times\n",
      "55 is repeated 1 times\n",
      "20 is repeated 3 times\n",
      "54 is repeated 1 times\n",
      "8 is repeated 1 times\n",
      "56 is repeated 2 times\n",
      "51 is repeated 3 times\n",
      "79 is repeated 1 times\n",
      "81 is repeated 1 times\n",
      "57 is repeated 1 times\n",
      "37 is repeated 1 times\n",
      "91 is repeated 3 times\n",
      "1 is repeated 1 times\n",
      "84 is repeated 4 times\n",
      "84 is repeated 4 times\n",
      "36 is repeated 3 times\n",
      "66 is repeated 2 times\n",
      "9 is repeated 1 times\n",
      "89 is repeated 2 times\n",
      "50 is repeated 2 times\n",
      "42 is repeated 2 times\n",
      "91 is repeated 3 times\n",
      "50 is repeated 2 times\n",
      "95 is repeated 1 times\n",
      "90 is repeated 1 times\n",
      "98 is repeated 1 times\n",
      "39 is repeated 1 times\n",
      "16 is repeated 1 times\n",
      "82 is repeated 1 times\n",
      "31 is repeated 2 times\n",
      "92 is repeated 1 times\n",
      "41 is repeated 1 times\n",
      "45 is repeated 3 times\n",
      "30 is repeated 1 times\n",
      "66 is repeated 2 times\n",
      "70 is repeated 3 times\n",
      "34 is repeated 2 times\n",
      "85 is repeated 3 times\n",
      "94 is repeated 1 times\n",
      "5 is repeated 1 times\n",
      "3 is repeated 2 times\n",
      "36 is repeated 3 times\n",
      "72 is repeated 1 times\n",
      "91 is repeated 3 times\n",
      "84 is repeated 4 times\n",
      "34 is repeated 2 times\n",
      "87 is repeated 1 times\n",
      "75 is repeated 1 times\n",
      "53 is repeated 1 times\n",
      "51 is repeated 3 times\n",
      "20 is repeated 3 times\n",
      "89 is repeated 2 times\n",
      "51 is repeated 3 times\n",
      "20 is repeated 3 times\n"
     ]
    }
   ],
   "source": [
    "l = [36, 45, 58, 3, 74, 96, 64, 45, 31, 10, 24, 19, 33, 86, 99, 18, 63, 70, 85,\n",
    " 85, 63, 47, 56, 42, 70, 84, 88, 55, 20, 54, 8, 56, 51, 79, 81, 57, 37, 91,\n",
    " 1, 84, 84, 36, 66, 9, 89, 50, 42, 91, 50, 95, 90, 98, 39, 16, 82, 31, 92, 41,\n",
    " 45, 30, 66, 70, 34, 85, 94, 5, 3, 36, 72, 91, 84, 34, 87, 75, 53, 51, 20, 89, 51, 20]\n",
    "for i in l:\n",
    "    print (i, 'is repeated', l.count(i),'times')"
   ]
  },
  {
   "cell_type": "markdown",
   "metadata": {},
   "source": [
    "6\\. Combination of functions\n",
    "\n",
    "Write two functions - one that returns the square of a number, and one that returns the cube. Now write a third function that returns the number raised to the 6th power using the two previous functions."
   ]
  },
  {
   "cell_type": "code",
   "execution_count": 11,
   "metadata": {
    "scrolled": true
   },
   "outputs": [
    {
     "data": {
      "text/plain": [
       "64"
      ]
     },
     "execution_count": 11,
     "metadata": {},
     "output_type": "execute_result"
    }
   ],
   "source": [
    "def sqr(x):\n",
    "    return(x**2)\n",
    "\n",
    "def cube(x):\n",
    "    return (x**3)\n",
    "\n",
    "\n",
    "def sixthpower(x):\n",
    "    return(cube(sqr(x)))\n",
    "\n",
    "sixthpower(2)\n"
   ]
  },
  {
   "cell_type": "markdown",
   "metadata": {},
   "source": [
    "7\\. Cubes\n",
    "\n",
    "Create a list of the cubes of x for x in *[0, 10]* using:\n",
    "\n",
    "a) a for loop\n",
    "\n",
    "b) a list comprehension"
   ]
  },
  {
   "cell_type": "code",
   "execution_count": 12,
   "metadata": {},
   "outputs": [
    {
     "name": "stdout",
     "output_type": "stream",
     "text": [
      "[0, 1, 8, 27, 64, 125, 216, 343, 512, 729, 1000]\n"
     ]
    }
   ],
   "source": [
    "cube=[]\n",
    "for i in range (0,11):\n",
    "\tcube.append(i**3)\n",
    "\n",
    "\n",
    "print(cube)\n",
    "\n"
   ]
  },
  {
   "cell_type": "markdown",
   "metadata": {},
   "source": [
    "8\\. Nested list comprehension\n",
    "\n",
    "A Pythagorean triple is an integer solution to the Pythagorean theorem $a^2+b^2=c^2$. The first Pythagorean triple is (3,4,5). Find and put in a tuple all unique Pythagorean triples for the positive integers a, b and c less than 100."
   ]
  },
  {
   "cell_type": "code",
   "execution_count": 20,
   "metadata": {},
   "outputs": [
    {
     "name": "stdout",
     "output_type": "stream",
     "text": [
      "0 0 0.0\n",
      "0 1 1.0\n",
      "0 2 2.0\n",
      "0 3 3.0\n",
      "0 4 4.0\n",
      "0 5 5.0\n",
      "0 6 6.0\n",
      "0 7 7.0\n",
      "0 8 8.0\n",
      "0 9 9.0\n",
      "0 10 10.0\n",
      "1 0 1.0\n",
      "1 1 1.4142135623730951\n",
      "1 2 2.23606797749979\n",
      "1 3 3.1622776601683795\n",
      "1 4 4.123105625617661\n",
      "1 5 5.0990195135927845\n",
      "1 6 6.082762530298219\n",
      "1 7 7.0710678118654755\n",
      "1 8 8.06225774829855\n",
      "1 9 9.055385138137417\n",
      "\n",
      "2 0 2.0\n",
      "2 1 2.23606797749979\n",
      "2 2 2.8284271247461903\n",
      "2 3 3.605551275463989\n",
      "2 4 4.47213595499958\n",
      "2 5 5.385164807134504\n",
      "2 6 6.324555320336759\n",
      "2 7 7.280109889280518\n",
      "2 8 8.246211251235321\n",
      "2 9 9.219544457292887\n",
      "\n",
      "3 0 3.0\n",
      "3 1 3.1622776601683795\n",
      "3 2 3.605551275463989\n",
      "3 3 4.242640687119285\n",
      "3 4 5.0\n",
      "3 5 5.830951894845301\n",
      "3 6 6.708203932499369\n",
      "3 7 7.615773105863909\n",
      "3 8 8.54400374531753\n",
      "3 9 9.486832980505138\n",
      "\n",
      "4 0 4.0\n",
      "4 1 4.123105625617661\n",
      "4 2 4.47213595499958\n",
      "4 3 5.0\n",
      "4 4 5.656854249492381\n",
      "4 5 6.4031242374328485\n",
      "4 6 7.211102550927978\n",
      "4 7 8.06225774829855\n",
      "4 8 8.94427190999916\n",
      "4 9 9.848857801796104\n",
      "\n",
      "5 0 5.0\n",
      "5 1 5.0990195135927845\n",
      "5 2 5.385164807134504\n",
      "5 3 5.830951894845301\n",
      "5 4 6.4031242374328485\n",
      "5 5 7.0710678118654755\n",
      "5 6 7.810249675906654\n",
      "5 7 8.602325267042627\n",
      "5 8 9.433981132056603\n",
      "\n",
      "\n",
      "6 0 6.0\n",
      "6 1 6.082762530298219\n",
      "6 2 6.324555320336759\n",
      "6 3 6.708203932499369\n",
      "6 4 7.211102550927978\n",
      "6 5 7.810249675906654\n",
      "6 6 8.48528137423857\n",
      "6 7 9.219544457292887\n",
      "6 8 10.0\n",
      "\n",
      "\n",
      "7 0 7.0\n",
      "7 1 7.0710678118654755\n",
      "7 2 7.280109889280518\n",
      "7 3 7.615773105863909\n",
      "7 4 8.06225774829855\n",
      "7 5 8.602325267042627\n",
      "7 6 9.219544457292887\n",
      "7 7 9.899494936611665\n",
      "\n",
      "\n",
      "\n",
      "8 0 8.0\n",
      "8 1 8.06225774829855\n",
      "8 2 8.246211251235321\n",
      "8 3 8.54400374531753\n",
      "8 4 8.94427190999916\n",
      "8 5 9.433981132056603\n",
      "8 6 10.0\n",
      "\n",
      "\n",
      "\n",
      "\n",
      "9 0 9.0\n",
      "9 1 9.055385138137417\n",
      "9 2 9.219544457292887\n",
      "9 3 9.486832980505138\n",
      "9 4 9.848857801796104\n",
      "\n",
      "\n",
      "\n",
      "\n",
      "\n",
      "\n",
      "10 0 10.0\n",
      "\n",
      "\n",
      "\n",
      "\n",
      "\n",
      "\n",
      "\n",
      "\n",
      "\n",
      "\n"
     ]
    }
   ],
   "source": [
    "for a in range (0,11):\n",
    "\tfor b in range (0,11):\n",
    "\t\tc2=a**2+b**2\n",
    "\t\tif c2<101:\n",
    "\t\t\tprint(a,b,math.sqrt(c2))\n",
    "\t\telse :\n",
    "\t\t\tprint('')\n",
    "\n",
    "                \n",
    "                \n",
    "                \n",
    "            \n",
    "        \n",
    "    \n",
    "            "
   ]
  },
  {
   "cell_type": "markdown",
   "metadata": {},
   "source": [
    "9\\. Normalization\n",
    "\n",
    "Write a function that takes a tuple of numbers and returns it with the entries normalized to one"
   ]
  },
  {
   "cell_type": "code",
   "execution_count": 27,
   "metadata": {},
   "outputs": [
    {
     "name": "stdout",
     "output_type": "stream",
     "text": [
      "(0.6, 0.8)\n"
     ]
    }
   ],
   "source": [
    " import math\n",
    "def normalization (x,y):\n",
    "\ta=x/math.sqrt(x**2+y**2)\n",
    "\tb=y/math.sqrt(x**2+y**2)\n",
    "\tprint ((a,b))\n",
    "    \n",
    "    \n",
    "normalization (6,8)\n"
   ]
  }
 ],
 "metadata": {
  "kernelspec": {
   "display_name": "Python 3",
   "language": "python",
   "name": "python3"
  },
  "language_info": {
   "codemirror_mode": {
    "name": "ipython",
    "version": 3
   },
   "file_extension": ".py",
   "mimetype": "text/x-python",
   "name": "python",
   "nbconvert_exporter": "python",
   "pygments_lexer": "ipython3",
   "version": "3.8.3"
  }
 },
 "nbformat": 4,
 "nbformat_minor": 2
}
