{
 "cells": [
  {
   "cell_type": "markdown",
   "metadata": {},
   "source": [
    "1. The MickeyMouse problem\n",
    "\n",
    "a) Write a program that prints the numbers from 1 to 100. But for multiples of three print Mickey instead of the number and for the multiples of five print Mouse. For numbers which are multiples of both three and five print MickeyMouse\n",
    "\n",
    "b) Put the result in a tuple and substitute Mickey with Donald and Mouse with Duck"
   ]
  },
  {
   "cell_type": "code",
   "execution_count": 20,
   "metadata": {},
   "outputs": [
    {
     "name": "stdout",
     "output_type": "stream",
     "text": [
      "['1', '2', 'Mickey', '4', 'Mouse', 'Mickey', '7', '8', 'Mickey', 'Mouse', '11', 'Mickey', '13', '14', 'MickeyMouse', '16', '17', 'Mickey', '19', 'Mouse', 'Mickey', '22', '23', 'Mickey', 'Mouse', '26', 'Mickey', '28', '29', 'MickeyMouse', '31', '32', 'Mickey', '34', 'Mouse', 'Mickey', '37', '38', 'Mickey', 'Mouse', '41', 'Mickey', '43', '44', 'MickeyMouse', '46', '47', 'Mickey', '49', 'Mouse', 'Mickey', '52', '53', 'Mickey', 'Mouse', '56', 'Mickey', '58', '59', 'MickeyMouse', '61', '62', 'Mickey', '64', 'Mouse', 'Mickey', '67', '68', 'Mickey', 'Mouse', '71', 'Mickey', '73', '74', 'MickeyMouse', '76', '77', 'Mickey', '79', 'Mouse', 'Mickey', '82', '83', 'Mickey', 'Mouse', '86', 'Mickey', '88', '89', 'MickeyMouse', '91', '92', 'Mickey', '94', 'Mouse', 'Mickey', '97', '98', 'Mickey', 'Mouse']\n",
      "('1', '2', 'Donald', '4', 'Duck', 'Donald', '7', '8', 'Donald', 'Duck', '11', 'Donald', '13', '14', 'DonaldDuck', '16', '17', 'Donald', '19', 'Duck', 'Donald', '22', '23', 'Donald', 'Duck', '26', 'Donald', '28', '29', 'DonaldDuck', '31', '32', 'Donald', '34', 'Duck', 'Donald', '37', '38', 'Donald', 'Duck', '41', 'Donald', '43', '44', 'DonaldDuck', '46', '47', 'Donald', '49', 'Duck', 'Donald', '52', '53', 'Donald', 'Duck', '56', 'Donald', '58', '59', 'DonaldDuck', '61', '62', 'Donald', '64', 'Duck', 'Donald', '67', '68', 'Donald', 'Duck', '71', 'Donald', '73', '74', 'DonaldDuck', '76', '77', 'Donald', '79', 'Duck', 'Donald', '82', '83', 'Donald', 'Duck', '86', 'Donald', '88', '89', 'DonaldDuck', '91', '92', 'Donald', '94', 'Duck', 'Donald', '97', '98', 'Donald', 'Duck')\n"
     ]
    }
   ],
   "source": [
    "name = [\"Mickey\", \"Mouse\", \"Donald\", \"Duck\"]\n",
    "weirdlist = [str(x) for x in range(1,101)]\n",
    "for i in weirdlist:\n",
    "    i = int(i)\n",
    "    if i % 3 == 0:\n",
    "        weirdlist[i-1] = name[0]\n",
    "    if i % 5 == 0:\n",
    "        weirdlist[i-1] = name[1]\n",
    "    if i % 3 == 0 and i % 5 == 0:\n",
    "        weirdlist[i-1] = name[0]+name[1]\n",
    "print(weirdlist)        \n",
    "weirdlist = [element.replace(name[0], name[2]) for element in weirdlist]\n",
    "weirdlist = [element.replace(name[1], name[3]) for element in weirdlist]\n",
    "weirdlist = [element.replace(name[0]+name[1], name[2]+name[3]) for element in weirdlist]\n",
    "weirdtuple = tuple(weirdlist)\n",
    "print(weirdtuple)"
   ]
  },
  {
   "cell_type": "markdown",
   "metadata": {},
   "source": [
    "2\\. The swap function\n",
    "\n",
    "Write a function that swap the values of two input variables x and y (whatever the type). Try to do that also without a temporary variable"
   ]
  },
  {
   "cell_type": "code",
   "execution_count": 1,
   "metadata": {},
   "outputs": [
    {
     "name": "stdout",
     "output_type": "stream",
     "text": [
      "Insert X value 4\n",
      "Insert Y value 7\n",
      "With temp: Value X is 7  and value Y is 4\n",
      "Without temp : Value X is 7  and value Y is 4\n"
     ]
    }
   ],
   "source": [
    "def swapfunctiontmp(x,y):\n",
    "    tmp = x\n",
    "    x = y\n",
    "    y = tmp\n",
    "    return x,y\n",
    "\n",
    "def swapfunction(x,y):\n",
    "    x = int(x)\n",
    "    y = int(y)\n",
    "    x = x + y\n",
    "    y = x - y\n",
    "    x = x - y\n",
    "    return x,y\n",
    "    \n",
    "xx = input(\"Insert X value \")\n",
    "yy = input(\"Insert Y value \")\n",
    "\n",
    "x,y = swapfunctiontmp(xx,yy)\n",
    "print(\"With temp: Value X is %s  and value Y is %s\"% (x,y))\n",
    "x,y = swapfunction(xx,yy)\n",
    "print(\"Without temp : Value X is %s  and value Y is %s\"% (x,y))"
   ]
  },
  {
   "cell_type": "markdown",
   "metadata": {},
   "source": [
    "3\\. Computing the distance\n",
    "\n",
    "Write a function that calculates and returns the euclidean distance between two points *u* and *v*, where *u* and *v* are both 2-tuples *(x,y)*. For example, if *u=(3,0)* and *v=(0,4)*, the function should return 5"
   ]
  },
  {
   "cell_type": "code",
   "execution_count": 11,
   "metadata": {},
   "outputs": [
    {
     "name": "stdout",
     "output_type": "stream",
     "text": [
      "12.727922061357855\n"
     ]
    }
   ],
   "source": [
    "import math\n",
    "def eucdist(u,v):\n",
    "    d = math.sqrt((v[0]-u[0])**2 + (v[1]-u[1])**2)\n",
    "    return d\n",
    "\n",
    "u = (10,1)\n",
    "v = (1,10)\n",
    "d = eucdist(u,v)\n",
    "print(d)"
   ]
  },
  {
   "cell_type": "markdown",
   "metadata": {},
   "source": [
    "4\\. Counting letters\n",
    "\n",
    "Write a program to calculate the number of times each character occurs in a given string *s*. Ignore differneces in capitalization"
   ]
  },
  {
   "cell_type": "code",
   "execution_count": 24,
   "metadata": {},
   "outputs": [
    {
     "name": "stdout",
     "output_type": "stream",
     "text": [
      "{'w': 2, 'r': 17, 'i': 14, 't': 19, 'e': 22, ' ': 41, 'a': 7, 'p': 8, 'o': 13, 'g': 1, 'm': 12, 'h': 9, 'n': 10, 's': 9, 'u': 9, 'b': 5, 'f': 10, '1': 2, '0': 2, '.': 2, 'l': 6, 'c': 3, 'k': 2, 'y': 2, 'd': 3, 'v': 2}\n"
     ]
    }
   ],
   "source": [
    "s=\"Write a program that prints the numbers from 1 to 100. \\\n",
    "But for multiples of three print Mickey instead of the number and for the multiples of five print Mouse. \\\n",
    "For numbers which are multiples of both three and five print MickeyMouse\"\n",
    "s = s.lower()\n",
    "counter = {}\n",
    "for c in s:\n",
    "    if c in counter:\n",
    "        counter[c] += 1\n",
    "    else:\n",
    "        counter[c] = 1\n",
    "print(counter)"
   ]
  },
  {
   "cell_type": "markdown",
   "metadata": {},
   "source": [
    "5\\. Isolating the unique\n",
    "\n",
    "Write a function that determines and count the unique numbers in the list *l*"
   ]
  },
  {
   "cell_type": "code",
   "execution_count": 35,
   "metadata": {},
   "outputs": [
    {
     "name": "stdout",
     "output_type": "stream",
     "text": [
      "{1, 3, 5, 8, 9, 10, 16, 18, 19, 20, 24, 30, 31, 33, 34, 36, 37, 39, 41, 42, 45, 47, 50, 51, 53, 54, 55, 56, 57, 58, 63, 64, 66, 70, 72, 74, 75, 79, 81, 82, 84, 85, 86, 87, 88, 89, 90, 91, 92, 94, 95, 96, 98, 99}\n",
      "Number of unique elements 54\n"
     ]
    }
   ],
   "source": [
    "l = [36, 45, 58, 3, 74, 96, 64, 45, 31, 10, 24, 19, 33, 86, 99, 18, 63, 70, 85,\n",
    " 85, 63, 47, 56, 42, 70, 84, 88, 55, 20, 54, 8, 56, 51, 79, 81, 57, 37, 91,\n",
    " 1, 84, 84, 36, 66, 9, 89, 50, 42, 91, 50, 95, 90, 98, 39, 16, 82, 31, 92, 41,\n",
    " 45, 30, 66, 70, 34, 85, 94, 5, 3, 36, 72, 91, 84, 34, 87, 75, 53, 51, 20, 89, 51, 20]\n",
    "unique = set(l)\n",
    "print(unique)\n",
    "print(\"Number of unique elements\",len(unique))"
   ]
  },
  {
   "cell_type": "markdown",
   "metadata": {},
   "source": [
    "6\\. Combination of functions\n",
    "\n",
    "Write two functions - one that returns the square of a number, and one that returns the cube. Now write a third function that returns the number raised to the 6th power using the two previous functions."
   ]
  },
  {
   "cell_type": "code",
   "execution_count": 7,
   "metadata": {},
   "outputs": [
    {
     "name": "stdout",
     "output_type": "stream",
     "text": [
      "Insert a number 5\n",
      "15625\n"
     ]
    }
   ],
   "source": [
    "def square(x):\n",
    "    x = x**2\n",
    "    return x\n",
    "    \n",
    "def cube(x):\n",
    "    x = x**3\n",
    "    return x\n",
    "    \n",
    "def sixth(x):\n",
    "    x = square(cube(x))\n",
    "    return x\n",
    "    \n",
    "x = input(\"Insert a number \")\n",
    "x = sixth(int(x))\n",
    "print(x)"
   ]
  },
  {
   "cell_type": "markdown",
   "metadata": {},
   "source": [
    "7\\. Cubes\n",
    "\n",
    "Create a list of the cubes of x for x in *[0, 10]* using:\n",
    "\n",
    "a) a for loop\n",
    "\n",
    "b) a list comprehension"
   ]
  },
  {
   "cell_type": "code",
   "execution_count": 15,
   "metadata": {},
   "outputs": [
    {
     "name": "stdout",
     "output_type": "stream",
     "text": [
      "[0, 1, 8, 27, 64, 125, 216, 343, 512, 729, 1000]\n",
      "[0, 1, 8, 27, 64, 125, 216, 343, 512, 729, 1000]\n"
     ]
    }
   ],
   "source": [
    "l = [0]*11\n",
    "for i in range(0,11):\n",
    "    l[i] = i**3\n",
    "print(l)\n",
    "\n",
    "ll = [x**3 for x in range(0,11)]\n",
    "print(ll)"
   ]
  },
  {
   "cell_type": "markdown",
   "metadata": {},
   "source": [
    "8\\. Nested list comprehension\n",
    "\n",
    "A Pythagorean triple is an integer solution to the Pythagorean theorem $a^2+b^2=c^2$. The first Pythagorean triple is (3,4,5). Find and put in a tuple all unique Pythagorean triples for the positive integers a, b and c less than 100."
   ]
  },
  {
   "cell_type": "code",
   "execution_count": 17,
   "metadata": {},
   "outputs": [
    {
     "name": "stdout",
     "output_type": "stream",
     "text": [
      "[[3, 4, 5], [4, 3, 5], [5, 12, 13], [6, 8, 10], [7, 24, 25], [8, 6, 10], [8, 15, 17], [9, 12, 15], [9, 40, 41], [10, 24, 26], [11, 60, 61], [12, 5, 13], [12, 9, 15], [12, 16, 20], [12, 35, 37], [13, 84, 85], [14, 48, 50], [15, 8, 17], [15, 20, 25], [15, 36, 39], [16, 12, 20], [16, 30, 34], [16, 63, 65], [18, 24, 30], [18, 80, 82], [20, 15, 25], [20, 21, 29], [20, 48, 52], [21, 20, 29], [21, 28, 35], [21, 72, 75], [24, 7, 25], [24, 10, 26], [24, 18, 30], [24, 32, 40], [24, 45, 51], [24, 70, 74], [25, 60, 65], [27, 36, 45], [28, 21, 35], [28, 45, 53], [28, 96, 100], [30, 16, 34], [30, 40, 50], [30, 72, 78], [32, 24, 40], [32, 60, 68], [33, 44, 55], [33, 56, 65], [35, 12, 37], [35, 84, 91], [36, 15, 39], [36, 27, 45], [36, 48, 60], [36, 77, 85], [39, 52, 65], [39, 80, 89], [40, 9, 41], [40, 30, 50], [40, 42, 58], [40, 75, 85], [42, 40, 58], [42, 56, 70], [44, 33, 55], [45, 24, 51], [45, 28, 53], [45, 60, 75], [48, 14, 50], [48, 20, 52], [48, 36, 60], [48, 55, 73], [48, 64, 80], [51, 68, 85], [52, 39, 65], [54, 72, 90], [55, 48, 73], [56, 33, 65], [56, 42, 70], [57, 76, 95], [60, 11, 61], [60, 25, 65], [60, 32, 68], [60, 45, 75], [60, 63, 87], [60, 80, 100], [63, 16, 65], [63, 60, 87], [64, 48, 80], [65, 72, 97], [68, 51, 85], [70, 24, 74], [72, 21, 75], [72, 30, 78], [72, 54, 90], [72, 65, 97], [75, 40, 85], [76, 57, 95], [77, 36, 85], [80, 18, 82], [80, 39, 89], [80, 60, 100], [84, 13, 85], [84, 35, 91], [96, 28, 100]]\n",
      "([3, 4, 5], [4, 3, 5], [5, 12, 13], [6, 8, 10], [7, 24, 25], [8, 6, 10], [8, 15, 17], [9, 12, 15], [9, 40, 41], [10, 24, 26], [11, 60, 61], [12, 5, 13], [12, 9, 15], [12, 16, 20], [12, 35, 37], [13, 84, 85], [14, 48, 50], [15, 8, 17], [15, 20, 25], [15, 36, 39], [16, 12, 20], [16, 30, 34], [16, 63, 65], [18, 24, 30], [18, 80, 82], [20, 15, 25], [20, 21, 29], [20, 48, 52], [21, 20, 29], [21, 28, 35], [21, 72, 75], [24, 7, 25], [24, 10, 26], [24, 18, 30], [24, 32, 40], [24, 45, 51], [24, 70, 74], [25, 60, 65], [27, 36, 45], [28, 21, 35], [28, 45, 53], [28, 96, 100], [30, 16, 34], [30, 40, 50], [30, 72, 78], [32, 24, 40], [32, 60, 68], [33, 44, 55], [33, 56, 65], [35, 12, 37], [35, 84, 91], [36, 15, 39], [36, 27, 45], [36, 48, 60], [36, 77, 85], [39, 52, 65], [39, 80, 89], [40, 9, 41], [40, 30, 50], [40, 42, 58], [40, 75, 85], [42, 40, 58], [42, 56, 70], [44, 33, 55], [45, 24, 51], [45, 28, 53], [45, 60, 75], [48, 14, 50], [48, 20, 52], [48, 36, 60], [48, 55, 73], [48, 64, 80], [51, 68, 85], [52, 39, 65], [54, 72, 90], [55, 48, 73], [56, 33, 65], [56, 42, 70], [57, 76, 95], [60, 11, 61], [60, 25, 65], [60, 32, 68], [60, 45, 75], [60, 63, 87], [60, 80, 100], [63, 16, 65], [63, 60, 87], [64, 48, 80], [65, 72, 97], [68, 51, 85], [70, 24, 74], [72, 21, 75], [72, 30, 78], [72, 54, 90], [72, 65, 97], [75, 40, 85], [76, 57, 95], [77, 36, 85], [80, 18, 82], [80, 39, 89], [80, 60, 100], [84, 13, 85], [84, 35, 91], [96, 28, 100])\n"
     ]
    }
   ],
   "source": [
    "i = 0\n",
    "l = []\n",
    "pythag = [0]*104\n",
    "\n",
    "for a in range(1,101):\n",
    "    for b in range(1,101):\n",
    "        for c in range(1,101):\n",
    "            if a**2 + b**2 == c**2:\n",
    "                l = [a,b,c]\n",
    "                pythag[i] = l\n",
    "                i += 1\n",
    "pytuple = tuple(pythag)\n",
    "print(pythag)\n",
    "print(pytuple)"
   ]
  },
  {
   "cell_type": "markdown",
   "metadata": {},
   "source": [
    "9\\. Normalization\n",
    "\n",
    "Write a function that takes a tuple of numbers and returns it with the entries normalized to one"
   ]
  },
  {
   "cell_type": "code",
   "execution_count": 37,
   "metadata": {},
   "outputs": [
    {
     "name": "stdout",
     "output_type": "stream",
     "text": [
      "How many numbers do you want to add? 5\n",
      "11\n",
      "22\n",
      "33\n",
      "44\n",
      "55\n",
      "15\n",
      "(0.06666666666666667, 0.13333333333333333, 0.2, 0.26666666666666666, 0.3333333333333333)\n"
     ]
    }
   ],
   "source": [
    "def normalizer(t):\n",
    "    s = 0\n",
    "    j = 0\n",
    "    for i in t:\n",
    "        s = s + i\n",
    "    print(s)\n",
    "    for i in t:\n",
    "        t[j] = i/s\n",
    "        j += 1\n",
    "    return tuple(t)\n",
    "\n",
    "n = input(\"How many numbers do you want to add? \")\n",
    "n = int(n)\n",
    "t = [0]*n\n",
    "for i in range(0,n):\n",
    "    t[i] = input(i+1)\n",
    "    t[i] = int(t[i])\n",
    "t = normalizer(t)\n",
    "print(t)"
   ]
  },
  {
   "cell_type": "markdown",
   "metadata": {},
   "source": [
    "### "
   ]
  }
 ],
 "metadata": {
  "kernelspec": {
   "display_name": "Python 3",
   "language": "python",
   "name": "python3"
  },
  "language_info": {
   "codemirror_mode": {
    "name": "ipython",
    "version": 3
   },
   "file_extension": ".py",
   "mimetype": "text/x-python",
   "name": "python",
   "nbconvert_exporter": "python",
   "pygments_lexer": "ipython3",
   "version": "3.8.5"
  }
 },
 "nbformat": 4,
 "nbformat_minor": 2
}
