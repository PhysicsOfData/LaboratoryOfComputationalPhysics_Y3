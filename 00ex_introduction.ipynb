{
 "cells": [
  {
   "cell_type": "markdown",
   "metadata": {},
   "source": [
    "1. The MickeyMouse problem\n",
    "\n",
    "a) Write a program that prints the numbers from 1 to 100. But for multiples of three print Mickey instead of the number and for the multiples of five print Mouse. For numbers which are multiples of both three and five print MickeyMouse\n",
    "\n",
    "b) Put the result in a tuple and substitute Mickey with Donald and Mouse with Duck"
   ]
  },
  {
   "cell_type": "code",
   "execution_count": 1,
   "metadata": {},
   "outputs": [],
   "source": [
    "import numpy as np\n",
    "from random import randint\n"
   ]
  },
  {
   "cell_type": "code",
   "execution_count": 2,
   "metadata": {},
   "outputs": [
    {
     "name": "stdout",
     "output_type": "stream",
     "text": [
      "[1, 2, 'Mickey', 4, 'Mouse', 'Mickey', 7, 8, 'Mickey', 'Mouse', 11, 'Mickey', 13, 14, 'MickeyMouse', 16, 17, 'Mickey', 19, 'Mouse', 'Mickey', 22, 23, 'Mickey', 'Mouse', 26, 'Mickey', 28, 29, 'MickeyMouse', 31, 32, 'Mickey', 34, 'Mouse', 'Mickey', 37, 38, 'Mickey', 'Mouse', 41, 'Mickey', 43, 44, 'MickeyMouse', 46, 47, 'Mickey', 49, 'Mouse', 'Mickey', 52, 53, 'Mickey', 'Mouse', 56, 'Mickey', 58, 59, 'MickeyMouse', 61, 62, 'Mickey', 64, 'Mouse', 'Mickey', 67, 68, 'Mickey', 'Mouse', 71, 'Mickey', 73, 74, 'MickeyMouse', 76, 77, 'Mickey', 79, 'Mouse', 'Mickey', 82, 83, 'Mickey', 'Mouse', 86, 'Mickey', 88, 89, 'MickeyMouse', 91, 92, 'Mickey', 94, 'Mouse', 'Mickey', 97, 98, 'Mickey', 'Mouse']\n"
     ]
    }
   ],
   "source": [
    "num=[x for x in range(1,101)]\n",
    "def mickeymouse(vect):\n",
    "    length=len(vect)\n",
    "    for i in range(1,length+1):\n",
    "        if i%15==0:\n",
    "            vect[i-1]='MickeyMouse'\n",
    "        elif i%5==0:\n",
    "            vect[i-1]='Mouse'\n",
    "        elif i%3==0:\n",
    "            vect[i-1]='Mickey'\n",
    "    return vect\n",
    "    \n",
    "print(mickeymouse(num))"
   ]
  },
  {
   "cell_type": "markdown",
   "metadata": {},
   "source": [
    "2\\. The swap function\n",
    "\n",
    "Write a function that swap the values of two input variables x and y (whatever the type). Try to do that also without a temporary variable"
   ]
  },
  {
   "cell_type": "code",
   "execution_count": 3,
   "metadata": {},
   "outputs": [
    {
     "name": "stdout",
     "output_type": "stream",
     "text": [
      "a=destra and b=sinistra\n",
      "a=sinistra and b=destra\n"
     ]
    }
   ],
   "source": [
    "#swap function with temporary variable\n",
    "a='destra'\n",
    "b='sinistra'\n",
    "print('a='+a +' and b='+b)\n",
    "def swap(x,y):\n",
    "    temp=x\n",
    "    x=y\n",
    "    y=temp\n",
    "    return x,y\n",
    "\n",
    "[a,b]=swap(a,b)\n",
    "print('a='+a +' and b='+b)\n"
   ]
  },
  {
   "cell_type": "code",
   "execution_count": 4,
   "metadata": {},
   "outputs": [
    {
     "name": "stdout",
     "output_type": "stream",
     "text": [
      "a=destra and b=sinistra\n",
      "a=sinistra and b=destra\n"
     ]
    }
   ],
   "source": [
    "#swap function withput temporary variable\n",
    "[a,b]=['destra','sinistra']\n",
    "\n",
    "print('a='+a +' and b='+b)\n",
    "\n",
    "def alternativeSwap(a,b):\n",
    "    return [b,a]\n",
    "\n",
    "[a,b]=alternativeSwap(a,b)\n",
    "print('a='+a +' and b='+b)\n"
   ]
  },
  {
   "cell_type": "markdown",
   "metadata": {},
   "source": [
    "3\\. Computing the distance\n",
    "\n",
    "Write a function that calculates and returns the euclidean distance between two points *u* and *v*, where *u* and *v* are both 2-tuples *(x,y)*. For example, if *u=(3,0)* and *v=(0,4)*, the function should return 5"
   ]
  },
  {
   "cell_type": "code",
   "execution_count": 5,
   "metadata": {},
   "outputs": [
    {
     "name": "stdout",
     "output_type": "stream",
     "text": [
      "5.0\n"
     ]
    }
   ],
   "source": [
    "import numpy as np\n",
    "print(np.sqrt(25))"
   ]
  },
  {
   "cell_type": "code",
   "execution_count": 6,
   "metadata": {},
   "outputs": [
    {
     "name": "stdout",
     "output_type": "stream",
     "text": [
      "[2, 10] [6, 3]\n",
      "8.06225774829855\n",
      "Euclidean distance between [2, 10] and [6, 3] is Dist=8.06225774829855\n"
     ]
    }
   ],
   "source": [
    "x=[randint(0,10),randint(0,10)]\n",
    "y=[randint(0,10),randint(0,10)]\n",
    "\n",
    "def euclideanDist(u,v): #compute the euclidean distance between two bidimensional vectors\n",
    "    dist=np.sqrt((u[0]-v[0])**2+(u[1]-v[1])**2)\n",
    "    return dist\n",
    "print(x,y)\n",
    "print(euclideanDist(x,y))\n",
    "print('Euclidean distance between '+str(x)+' and '+str(y)+' is Dist='+str(euclideanDist(x,y)))"
   ]
  },
  {
   "cell_type": "markdown",
   "metadata": {},
   "source": [
    "4\\. Counting letters\n",
    "\n",
    "Write a program to calculate the number of times each character occurs in a given string *s*. Ignore differneces in capitalization"
   ]
  },
  {
   "cell_type": "code",
   "execution_count": 7,
   "metadata": {},
   "outputs": [
    {
     "name": "stdout",
     "output_type": "stream",
     "text": [
      "character a appears 7 times in string s\n",
      "character b appears 5 times in string s\n",
      "character c appears 3 times in string s\n",
      "character d appears 3 times in string s\n",
      "character e appears 22 times in string s\n",
      "character f appears 10 times in string s\n",
      "character g appears 1 times in string s\n",
      "character h appears 9 times in string s\n",
      "character i appears 14 times in string s\n",
      "character j appears 0 times in string s\n",
      "character k appears 2 times in string s\n",
      "character l appears 6 times in string s\n",
      "character m appears 12 times in string s\n",
      "character n appears 10 times in string s\n",
      "character 0 appears 2 times in string s\n",
      "character p appears 8 times in string s\n",
      "character q appears 0 times in string s\n",
      "character r appears 17 times in string s\n",
      "character s appears 9 times in string s\n",
      "character t appears 19 times in string s\n",
      "character u appears 9 times in string s\n",
      "character v appears 2 times in string s\n",
      "character w appears 2 times in string s\n",
      "character x appears 0 times in string s\n",
      "character y appears 2 times in string s\n",
      "character z appears 0 times in string s\n",
      "character   appears 41 times in string s\n",
      "character . appears 2 times in string s\n"
     ]
    }
   ],
   "source": [
    "s=\"Write a program that prints the numbers from 1 to 100. \\\n",
    "But for multiples of three print Mickey instead of the number and for the multiples of five print Mouse. \\\n",
    "For numbers which are multiples of both three and five print MickeyMouse\"\n",
    "\n",
    "char_list=['a','b','c','d','e','f','g','h','i','j','k','l','m','n','0','p','q','r','s','t','u','v','w','x','y','z',' ','.']\n",
    "\n",
    "for letter in range(0,len(char_list)):\n",
    "    count=0\n",
    "    for i in range(0,len(s)):\n",
    "        if char_list[letter]==s[i].lower():\n",
    "            count+=1\n",
    "    print('character '+char_list[letter]+' appears '+str(count)+' times in string s')\n"
   ]
  },
  {
   "cell_type": "markdown",
   "metadata": {},
   "source": [
    "5\\. Isolating the unique\n",
    "\n",
    "Write a function that determines and count the unique numbers in the list *l*"
   ]
  },
  {
   "cell_type": "code",
   "execution_count": 8,
   "metadata": {},
   "outputs": [
    {
     "name": "stdout",
     "output_type": "stream",
     "text": [
      "[1, 3, 3, 5, 8, 9, 10, 16, 18, 19, 20, 20, 20, 24, 30, 31, 31, 33, 34, 34, 36, 36, 36, 37, 39, 41, 42, 42, 45, 45, 45, 47, 50, 50, 51, 51, 51, 53, 54, 55, 56, 56, 57, 58, 63, 63, 64, 66, 66, 70, 70, 70, 72, 74, 75, 79, 81, 82, 84, 84, 84, 84, 85, 85, 85, 86, 87, 88, 89, 89, 90, 91, 91, 91, 92, 94, 95, 96, 98, 99]\n",
      "[1, 0, 0, 5, 8, 9, 10, 16, 18, 19, 0, 0, 0, 24, 30, 0, 0, 33, 0, 0, 0, 0, 0, 37, 39, 41, 0, 0, 0, 0, 0, 47, 0, 0, 0, 0, 0, 53, 54, 55, 0, 0, 57, 58, 0, 0, 64, 0, 0, 0, 0, 0, 72, 74, 75, 79, 81, 82, 0, 0, 0, 0, 0, 0, 0, 86, 87, 88, 0, 0, 90, 0, 0, 0, 92, 94, 95, 96, 98, 99]\n",
      "37\n",
      "List of uniques unmbers in l: [1, 5, 8, 9, 10, 16, 18, 19, 24, 30, 33, 37, 39, 41, 47, 53, 54, 55, 57, 58, 64, 72, 74, 75, 79, 81, 82, 86, 87, 88, 90, 92, 94, 95, 96, 98, 99]\n"
     ]
    }
   ],
   "source": [
    "l = [36, 45, 58, 3, 74, 96, 64, 45, 31, 10, 24, 19, 33, 86, 99, 18, 63, 70, 85,\n",
    " 85, 63, 47, 56, 42, 70, 84, 88, 55, 20, 54, 8, 56, 51, 79, 81, 57, 37, 91,\n",
    " 1, 84, 84, 36, 66, 9, 89, 50, 42, 91, 50, 95, 90, 98, 39, 16, 82, 31, 92, 41,\n",
    " 45, 30, 66, 70, 34, 85, 94, 5, 3, 36, 72, 91, 84, 34, 87, 75, 53, 51, 20, 89, 51, 20]\n",
    "\n",
    "#I want to preserve the original list\n",
    "original_L=[0 for x in range(0,len(l))]\n",
    "for i in range(0,len(l)):\n",
    "    original_L[i]=l[i]\n",
    "\n",
    "l.sort()\n",
    "print(l)\n",
    "\n",
    "count=0  #counts the number of values in l that are uniques\n",
    "index=0\n",
    "a=1  #counts the number each member of l is repeated\n",
    "interventionFLAG=0   #this flag value states when recurrent values must be set to zero (=1), else the value is unique (=0)\n",
    "while index<=len(l):\n",
    "    \n",
    "    if index+a>=len(l):\n",
    "        count+=1\n",
    "        break\n",
    "\n",
    "    while l[index]==l[index+a]:\n",
    "        a=a+1\n",
    "        interventionFLAG=1\n",
    "    if interventionFLAG==1:\n",
    "        for j in range(index,index+a):\n",
    "            l[j]=0\n",
    "        index=index+a\n",
    "        a=1\n",
    "        interventionFLAG=0\n",
    "    elif interventionFLAG==0:\n",
    "        index=index+1\n",
    "        count=count+1\n",
    "\n",
    "\n",
    "#Now all NOT UNIQUES numbers have been set equal to zero\n",
    "print(l)\n",
    "print(count)\n",
    "\n",
    "uniques=[0 for i in range(0,count)]\n",
    "i=0\n",
    "for a in range(0,len(l)):\n",
    "    if l[a]!=0:\n",
    "        uniques[i]=l[a]\n",
    "        i+=1\n",
    "        \n",
    "#Now all uniques number in l are listed in list 'uniques'\n",
    "print('List of uniques unmbers in l: '+str(uniques))"
   ]
  },
  {
   "cell_type": "markdown",
   "metadata": {},
   "source": [
    "6\\. Combination of functions\n",
    "\n",
    "Write two functions - one that returns the square of a number, and one that returns the cube. Now write a third function that returns the number raised to the 6th power using the two previous functions."
   ]
  },
  {
   "cell_type": "code",
   "execution_count": 9,
   "metadata": {},
   "outputs": [
    {
     "name": "stdout",
     "output_type": "stream",
     "text": [
      "2 4 8\n",
      "64\n"
     ]
    }
   ],
   "source": [
    "def square(x):\n",
    "    return x**2\n",
    "def cube(x):\n",
    "    return x**3\n",
    "n=2\n",
    "print(n,square(n),cube(n))\n",
    "\n",
    "def sixthPow(x):\n",
    "    return x*square(x)*cube(x)\n",
    "\n",
    "print(sixthPow(n))"
   ]
  },
  {
   "cell_type": "markdown",
   "metadata": {},
   "source": [
    "7\\. Cubes\n",
    "\n",
    "Create a list of the cubes of x for x in *[0, 10]* using:\n",
    "\n",
    "a) a for loop\n",
    "\n",
    "b) a list comprehension"
   ]
  },
  {
   "cell_type": "code",
   "execution_count": 10,
   "metadata": {},
   "outputs": [
    {
     "name": "stdout",
     "output_type": "stream",
     "text": [
      "[0, 1, 8, 27, 64, 125, 216, 343, 512, 729, 1000]\n",
      "[0, 1, 8, 27, 64, 125, 216, 343, 512, 729, 1000]\n"
     ]
    }
   ],
   "source": [
    "#for loop:\n",
    "cube_list=[x for x in range(0,11)]\n",
    "for i in range(0,10+1):\n",
    "    cube_list[i]=i**3\n",
    "    \n",
    "print(cube_list)\n",
    "\n",
    "\n",
    "#NOW using list comprehension\n",
    "CUBE_list=[x**3 for x in range(0,11)]\n",
    "print(CUBE_list)"
   ]
  },
  {
   "cell_type": "markdown",
   "metadata": {},
   "source": [
    "8\\. Nested list comprehension\n",
    "\n",
    "A Pythagorean triple is an integer solution to the Pythagorean theorem $a^2+b^2=c^2$. The first Pythagorean triple is (3,4,5). Find and put in a tuple all unique Pythagorean triples for the positive integers a, b and c less than 100."
   ]
  },
  {
   "cell_type": "code",
   "execution_count": 14,
   "metadata": {},
   "outputs": [
    {
     "name": "stdout",
     "output_type": "stream",
     "text": [
      "[(3, 4, 5), (4, 3, 5), (5, 12, 13), (6, 8, 10), (7, 24, 25), (8, 6, 10), (8, 15, 17), (9, 12, 15), (9, 40, 41), (10, 24, 26), (11, 60, 61), (12, 5, 13), (12, 9, 15), (12, 16, 20), (12, 35, 37), (13, 84, 85), (14, 48, 50), (15, 8, 17), (15, 20, 25), (15, 36, 39), (16, 12, 20), (16, 30, 34), (16, 63, 65), (18, 24, 30), (18, 80, 82), (20, 15, 25), (20, 21, 29), (20, 48, 52), (21, 20, 29), (21, 28, 35), (21, 72, 75), (24, 7, 25), (24, 10, 26), (24, 18, 30), (24, 32, 40), (24, 45, 51), (24, 70, 74), (25, 60, 65), (27, 36, 45), (28, 21, 35), (28, 45, 53), (30, 16, 34), (30, 40, 50), (30, 72, 78), (32, 24, 40), (32, 60, 68), (33, 44, 55), (33, 56, 65), (35, 12, 37), (35, 84, 91), (36, 15, 39), (36, 27, 45), (36, 48, 60), (36, 77, 85), (39, 52, 65), (39, 80, 89), (40, 9, 41), (40, 30, 50), (40, 42, 58), (40, 75, 85), (42, 40, 58), (42, 56, 70), (44, 33, 55), (45, 24, 51), (45, 28, 53), (45, 60, 75), (48, 14, 50), (48, 20, 52), (48, 36, 60), (48, 55, 73), (48, 64, 80), (51, 68, 85), (52, 39, 65), (54, 72, 90), (55, 48, 73), (56, 33, 65), (56, 42, 70), (57, 76, 95), (60, 11, 61), (60, 25, 65), (60, 32, 68), (60, 45, 75), (60, 63, 87), (63, 16, 65), (63, 60, 87), (64, 48, 80), (65, 72, 97), (68, 51, 85), (70, 24, 74), (72, 21, 75), (72, 30, 78), (72, 54, 90), (72, 65, 97), (75, 40, 85), (76, 57, 95), (77, 36, 85), (80, 18, 82), (80, 39, 89), (84, 13, 85), (84, 35, 91)]\n"
     ]
    }
   ],
   "source": [
    "triple=[]\n",
    "\n",
    "for a in range(1,100):\n",
    "    for b in range(1,100):\n",
    "        for c in range(1,100):\n",
    "            if c**2 == a**2 + b**2:\n",
    "                triple.append((a,b,c))\n",
    "\n",
    "print(triple)\n",
    "    "
   ]
  },
  {
   "cell_type": "markdown",
   "metadata": {},
   "source": [
    "9\\. Normalization\n",
    "\n",
    "Write a function that takes a tuple of numbers and returns it with the entries normalized to one"
   ]
  },
  {
   "cell_type": "code",
   "execution_count": 15,
   "metadata": {},
   "outputs": [
    {
     "name": "stdout",
     "output_type": "stream",
     "text": [
      "[40, 30, 75]\n",
      "Normalized tuple: (0.27586206896551724, 0.20689655172413793, 0.5172413793103449)\n"
     ]
    }
   ],
   "source": [
    "x=[randint(0,100) for i in range(0,randint(1,10))] #generate a list of random length (between 1 and 10) of random integer \\\n",
    "#ranging from 0 to 99\n",
    "print(x)\n",
    "\n",
    "tuple(x)\n",
    "\n",
    "def normalizeTup(tupla):\n",
    "    list(tupla)   #now 'tupla' is a list\n",
    "    s=sum(tupla)\n",
    "    for i in range(0,len(tupla)):\n",
    "        tupla[i]=tupla[i]/s\n",
    "    return tuple(tupla)\n",
    "\n",
    "x_norm=normalizeTup(x)\n",
    "print('Normalized tuple: '+str(x_norm))"
   ]
  },
  {
   "cell_type": "code",
   "execution_count": null,
   "metadata": {},
   "outputs": [],
   "source": []
  }
 ],
 "metadata": {
  "kernelspec": {
   "display_name": "Python 3",
   "language": "python",
   "name": "python3"
  },
  "language_info": {
   "codemirror_mode": {
    "name": "ipython",
    "version": 3
   },
   "file_extension": ".py",
   "mimetype": "text/x-python",
   "name": "python",
   "nbconvert_exporter": "python",
   "pygments_lexer": "ipython3",
   "version": "3.7.3"
  }
 },
 "nbformat": 4,
 "nbformat_minor": 2
}
