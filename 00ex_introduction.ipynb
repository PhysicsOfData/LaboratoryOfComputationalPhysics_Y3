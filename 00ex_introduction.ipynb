{
 "cells": [
  {
   "cell_type": "markdown",
   "metadata": {},
   "source": [
    "1. The MickeyMouse problem\n",
    "\n",
    "a) Write a program that prints the numbers from 1 to 100. But for multiples of three print Mickey instead of the number and for the multiples of five print Mouse. For numbers which are multiples of both three and five print MickeyMouse\n",
    "\n",
    "b) Put the result in a tuple and substitute Mickey with Donald and Mouse with Duck"
   ]
  },
  {
   "source": [
    "1. Solution\n",
    "\n",
    "This problem can be solved in multiple ways; let's tackle a couple of them for both part a) and part b).\n",
    "\n",
    "a) a simple approach is the following: we create an empty list x and cycle over a range of integers from 1 to 100. If that integer (i) is a multiple of 3 we then check whether it's a multiple of 5, too; if it is we append \"MickeyMouse\" to x, if not we just append \"Mickey\" and go to the next iteration of the loop. If i was not a multiple of 3 we check whether it's a multiple of 5; if it is we append \"Mouse\", if it isn't we just append i itself. This way we only do 2 divisions for each integer, which is the minimum number of divisions needed (i can independently be a multiple of both 3 and 5, so both of them need to be checked).\n",
    "We may also avoid an \"explicit\" for loop by using list comprehension, but this time we need a minimum of 3 divisions since we can't nest if statements inside list comprehensions (at least that's what I know; even if we could it would probably be a bad idea since it would make the code too cumbersome).\n",
    "\n",
    "b) a simple solution is the following. We make a copy of the previous list and we \"scan it\" using list comprehension: if element i of the list is \"Mickey\" we replace it with \"Donald\" and so on. We can do this with 3 separate list comprehensions or we can nest them [using the ternary operator] (https://stackoverflow.com/questions/44636514/python-multiple-nested-ternary-expression)."
   ],
   "cell_type": "markdown",
   "metadata": {}
  },
  {
   "cell_type": "code",
   "execution_count": 47,
   "metadata": {},
   "outputs": [
    {
     "name": "stdout",
     "output_type": "stream",
     "text": [
      "[1, 2, 'Mickey', 4, 'Mouse', 'Mickey', 7, 8, 'Mickey', 'Mouse', 11, 'Mickey', 13, 14, 'MickeyMouse', 16, 17, 'Mickey', 19, 'Mouse', 'Mickey', 22, 23, 'Mickey', 'Mouse', 26, 'Mickey', 28, 29, 'MickeyMouse', 31, 32, 'Mickey', 34, 'Mouse', 'Mickey', 37, 38, 'Mickey', 'Mouse', 41, 'Mickey', 43, 44, 'MickeyMouse', 46, 47, 'Mickey', 49, 'Mouse', 'Mickey', 52, 53, 'Mickey', 'Mouse', 56, 'Mickey', 58, 59, 'MickeyMouse', 61, 62, 'Mickey', 64, 'Mouse', 'Mickey', 67, 68, 'Mickey', 'Mouse', 71, 'Mickey', 73, 74, 'MickeyMouse', 76, 77, 'Mickey', 79, 'Mouse', 'Mickey', 82, 83, 'Mickey', 'Mouse', 86, 'Mickey', 88, 89, 'MickeyMouse', 91, 92, 'Mickey', 94, 'Mouse', 'Mickey', 97, 98, 'Mickey', 'Mouse']\n",
      "\n",
      " True\n",
      "\n",
      "\n",
      "(1, 2, 'Donald', 4, 'Duck', 'Donald', 7, 8, 'Donald', 'Duck', 11, 'Donald', 13, 14, 'DonaldDuck', 16, 17, 'Donald', 19, 'Duck', 'Donald', 22, 23, 'Donald', 'Duck', 26, 'Donald', 28, 29, 'DonaldDuck', 31, 32, 'Donald', 34, 'Duck', 'Donald', 37, 38, 'Donald', 'Duck', 41, 'Donald', 43, 44, 'DonaldDuck', 46, 47, 'Donald', 49, 'Duck', 'Donald', 52, 53, 'Donald', 'Duck', 56, 'Donald', 58, 59, 'DonaldDuck', 61, 62, 'Donald', 64, 'Duck', 'Donald', 67, 68, 'Donald', 'Duck', 71, 'Donald', 73, 74, 'DonaldDuck', 76, 77, 'Donald', 79, 'Duck', 'Donald', 82, 83, 'Donald', 'Duck', 86, 'Donald', 88, 89, 'DonaldDuck', 91, 92, 'Donald', 94, 'Duck', 'Donald', 97, 98, 'Donald', 'Duck')\n",
      "\n",
      " True\n"
     ]
    }
   ],
   "source": [
    "x=list()\n",
    "\n",
    "for i in range(1,101) :#range(100) va da 0 a 99 anziché da 1 a 100\n",
    "    if i%3 == 0 :\n",
    "        if i%5 == 0 : x.append(\"MickeyMouse\")\n",
    "        else : x.append(\"Mickey\")\n",
    "    elif i%5 == 0 : x.append(\"Mouse\")\n",
    "    else : x.append(i)\n",
    "        \n",
    "print(x)\n",
    "x2=[\"MickeyMouse\" if i%15 == 0 else \"Mickey\" if i%3 == 0 else \"Mouse\" if i%5 == 0 else i for i in range(1,101)]#siccome il primo if in questo modo non penso possa avere un altro if nested credo che bisogni necessariamente fare tre controlli\n",
    "#print(\"\\n\",x2)#vedi https://stackoverflow.com/questions/44636514/python-multiple-nested-ternary-expression\n",
    "print(\"\\n\",x2==x)\n",
    "\n",
    "y=x\n",
    "y=[\"Donald\" if i == \"Mickey\" else i for i in y]#else serve; devo avere una regola \"completa\" per generare ogni elemento della lista senza ricorrere ad un for esplicito (che è proprio lo scopo della list comprehension)\n",
    "y=[\"Duck\" if i == \"Mouse\" else i for i in y]\n",
    "y=[\"DonaldDuck\" if i == \"MickeyMouse\" else i for i in y]\n",
    "y=tuple(y)\n",
    "print(\"\\n\")\n",
    "print(y)\n",
    "\n",
    "y2=x\n",
    "y2=[\"Donald\" if i == \"Mickey\" else \"Duck\" if i == \"Mouse\" else \"DonaldDuck\" if i == \"MickeyMouse\" else i for i in y]\n",
    "y2=tuple(y2)\n",
    "print(\"\\n\",y2==y)"
   ]
  },
  {
   "source": [
    "An alternative approach to a) is to generate a list of numbers from 1 to 100 and iterate over the elements of a copy of this list in a for loop; if a particular i is a multiple of 3 we replace it with \"Mickey\". Then we check whether i is a multiple of 5; if it is and z[i] was already replaced (i.e. z[i] is of type str instead of type int) we replace it with Mickey Mouse, if not with Mouse.\n",
    "An alternative approach to b) is to explicitly use a for loop to check whether each element of the list is equal to a certain string and if so to manually replace it with the appropriate one."
   ],
   "cell_type": "markdown",
   "metadata": {}
  },
  {
   "cell_type": "code",
   "execution_count": 41,
   "metadata": {},
   "outputs": [
    {
     "name": "stdout",
     "output_type": "stream",
     "text": [
      "True\n",
      "True\n"
     ]
    }
   ],
   "source": [
    "z=list(range(1,101))\n",
    "#print(z)\n",
    "for i in range(1,101) :\n",
    "    if i%3 == 0 : z[i-1]=\"Mickey\"\n",
    "    if i%5 == 0 : z[i-1]=\"MickeyMouse\" if type(z[i-1]) == str else \"Mouse\"#o += o =, non li posso mescolare in quanto devo specificare solo un tipo di assegnazione e cosa assegno nei due casi\n",
    "    \n",
    "#print(z)\n",
    "print(z==x)\n",
    "\n",
    "a=z\n",
    "for j,i in enumerate(a) :\n",
    "    if i == \"Mickey\" : a[j]=\"Donald\"#per effettuare l'indexing di a serve comunque un \"contatore\" numerico\n",
    "    if i == \"Mouse\" : a[j]=\"Duck\"\n",
    "    if i == \"MickeyMouse\" : a[j]=\"DonaldDuck\"\n",
    "        \n",
    "a=tuple(a)\n",
    "#print(a)\n",
    "print(a==y)"
   ]
  },
  {
   "cell_type": "markdown",
   "metadata": {},
   "source": [
    "2\\. The swap function\n",
    "\n",
    "Write a function that swap the values of two input variables x and y (whatever the type). Try to do that also without a temporary variable"
   ]
  },
  {
   "source": [
    "2. Solution\n",
    "\n",
    "Everything here is self-explanatory"
   ],
   "cell_type": "markdown",
   "metadata": {}
  },
  {
   "cell_type": "code",
   "execution_count": 58,
   "metadata": {},
   "outputs": [
    {
     "name": "stdout",
     "output_type": "stream",
     "text": [
      "1 2\n",
      "2 1\n",
      "2 1\n"
     ]
    }
   ],
   "source": [
    "def swap(x,y) : return y,x\n",
    "\n",
    "def swap2(x,y) :\n",
    "    temp=x\n",
    "    x=y\n",
    "    y=temp\n",
    "    return x,y\n",
    "    \n",
    "a,b=1,2\n",
    "print(a,b)\n",
    "c,d=swap(a,b)\n",
    "print(c,d)\n",
    "e,f=swap2(a,b)\n",
    "print(e,f)"
   ]
  },
  {
   "cell_type": "markdown",
   "metadata": {},
   "source": [
    "3\\. Computing the distance\n",
    "\n",
    "Write a function that calculates and returns the euclidean distance between two points *u* and *v*, where *u* and *v* are both 2-tuples *(x,y)*. For example, if *u=(3,0)* and *v=(0,4)*, the function should return 5"
   ]
  },
  {
   "source": [
    "3. Solution\n",
    "\n",
    "it's quite trivial to implement the euclidean distance formula by computing the square root of the sum of the square of the difference of the appropriate components of u and v. Since u and v are expected to be 2-tuples, though, it's probably a better idea to check whether they really are - and if not to print an error message and to return None since the distance is undefined. \n",
    "If this function is to be used in a more flexible way (e.g. with length-2 lists) then a try-except may be used, checking whether it's legal to compute the distance. This function, thoughm should be designed with care; if we only try to compute sqrt()... with e.g. a more than 2 length 3 lists nothing would cause an error but the result would probably be wrong if we hardcoded a formula that only considers the first two components of 2 variables, so a more general function should probably use a more general version of the formula (i.e. no hardcoding)"
   ],
   "cell_type": "markdown",
   "metadata": {}
  },
  {
   "cell_type": "code",
   "execution_count": 1,
   "metadata": {},
   "outputs": [
    {
     "output_type": "stream",
     "name": "stdout",
     "text": [
      "5.0\n5.0\nAt least one of the arguments is not a 2-tuple\nNone\n5.0\n"
     ]
    }
   ],
   "source": [
    "from numpy import sqrt\n",
    "\n",
    "def distance(u,v) :\n",
    "    if (type(u),type(v))==(tuple,tuple) and (len(u),len(v))==(2,2) :\n",
    "        return sqrt((u[0]-v[0])**2+(u[1]-v[1])**2)\n",
    "    else :\n",
    "        print(\"At least one of the arguments is not a 2-tuple\")\n",
    "        return None\n",
    "        \n",
    "def distance_no_checks(u,v) : return sqrt((u[0]-v[0])**2+(u[1]-v[1])**2)\n",
    "        \n",
    "x=(3,0)\n",
    "y=(0,4)\n",
    "d=distance(x,y)\n",
    "print(d)\n",
    "d=distance_no_checks(x,y)\n",
    "print(d)\n",
    "\n",
    "a=[3,0,1,1,1]\n",
    "b=[0,4,2,2,2]\n",
    "d=distance(a,b)\n",
    "print(d)\n",
    "d=distance_no_checks(a,b)\n",
    "print(d)"
   ]
  },
  {
   "cell_type": "markdown",
   "metadata": {},
   "source": [
    "4\\. Counting letters\n",
    "\n",
    "Write a program to calculate the number of times each character occurs in a given string *s*. Ignore differences in capitalization"
   ]
  },
  {
   "source": [
    "4. Solution\n",
    "\n",
    "this is a standard example of when python dictionaries can shine.\n",
    "Since capitalization is to be ignored we \"pre-process\"our string by using the lower method, then use the split method in order to have a list of words to be parsed. We actually want to count single characters, though, so we actually join to an empty string all the elements of the words list - so that we end up with the original string, but un-capitalized and with whitespaces removed. An alternative approach is to use the replace method/regular expressions with the original string and to replace \" \" with \"\".\n",
    "\n",
    "Then we create an empty dictionary and loop over the elements of our processed string (i.e. over individual characters); the idea is to fill our dictionary so that each key is a character and the corrisponding value is the number of times that particular character occured. \n",
    "To do so in each iteration we use the get method to fetch the value corrisponding to a certain key (i.e. character); if that key isn't already inside our dictionary we return 0. Once we fetched the number of times that character occured so far we add 1 o it and assing the resulting number to the value corrisponding to our key.\n",
    "\n",
    "Once this is done we can just print the dictionary or parse it so that we may find the most used character etc. A simple approach is the following: we use the items method to create a list of 2-tuples (value,key), then used the sorted value (which sorts according to the first element in each tuple), then use a list comprehension to flip once again keys and values. This step is necessary since otherwise the sorted function would have to sort according to the key (i.e. the character), which is something we're not interested in."
   ],
   "cell_type": "markdown",
   "metadata": {}
  },
  {
   "cell_type": "code",
   "execution_count": 2,
   "metadata": {},
   "outputs": [
    {
     "output_type": "stream",
     "name": "stdout",
     "text": [
      "{'w': 2, 'r': 17, 'i': 14, 't': 19, 'e': 22, 'a': 7, 'p': 8, 'o': 13, 'g': 1, 'm': 12, 'h': 9, 'n': 10, 's': 9, 'u': 9, 'b': 5, 'f': 10, '1': 2, '0': 2, '.': 2, 'l': 6, 'c': 3, 'k': 2, 'y': 2, 'd': 3, 'v': 2}\n\n [('e', 22), ('t', 19), ('r', 17), ('i', 14), ('o', 13), ('m', 12), ('n', 10), ('f', 10), ('u', 9), ('s', 9), ('h', 9), ('p', 8), ('a', 7), ('l', 6), ('b', 5), ('d', 3), ('c', 3), ('y', 2), ('w', 2), ('v', 2), ('k', 2), ('1', 2), ('0', 2), ('.', 2), ('g', 1)]\n"
     ]
    }
   ],
   "source": [
    "s=\"Write a program that prints the numbers from 1 to 100. \\\n",
    "But for multiples of three print Mickey instead of the number and for the multiples of five print Mouse. \\\n",
    "For numbers which are multiples of both three and five print MickeyMouse\"\n",
    "\n",
    "s=\"\".join(s.lower().split())\n",
    "d=dict()\n",
    "\n",
    "for character in s :\n",
    "    d[character]=d.get(character,0)+1\n",
    "    \n",
    "print(d)\n",
    "\n",
    "x=sorted([(v,k) for k,v in d.items()],reverse=True)\n",
    "x=[(k,v) for v,k in x]\n",
    "print(\"\\n\",x)"
   ]
  },
  {
   "cell_type": "markdown",
   "metadata": {},
   "source": [
    "5\\. Isolating the unique\n",
    "\n",
    "Write a function that determines and count the unique numbers in the list *l*"
   ]
  },
  {
   "source": [
    "5. Solution\n",
    "\n",
    "We create a dictionary and use the same method as above: we use the get method to assign a value=n. of times so far to each key=particular element of l.\n",
    "We then create a list of unique elements using list comprehension by looping over the \"unique\" list but only including keys whose value is equal to 1."
   ],
   "cell_type": "markdown",
   "metadata": {}
  },
  {
   "cell_type": "code",
   "execution_count": 73,
   "metadata": {},
   "outputs": [
    {
     "name": "stdout",
     "output_type": "stream",
     "text": [
      "there are 37 unique numbers\n",
      "unique numbers: [58, 74, 96, 64, 10, 24, 19, 33, 86, 99, 18, 47, 88, 55, 54, 8, 79, 81, 57, 37, 1, 9, 95, 90, 98, 39, 16, 82, 92, 41, 30, 94, 5, 72, 87, 75, 53]\n"
     ]
    }
   ],
   "source": [
    "l = [36, 45, 58, 3, 74, 96, 64, 45, 31, 10, 24, 19, 33, 86, 99, 18, 63, 70, 85,\n",
    " 85, 63, 47, 56, 42, 70, 84, 88, 55, 20, 54, 8, 56, 51, 79, 81, 57, 37, 91,\n",
    " 1, 84, 84, 36, 66, 9, 89, 50, 42, 91, 50, 95, 90, 98, 39, 16, 82, 31, 92, 41,\n",
    " 45, 30, 66, 70, 34, 85, 94, 5, 3, 36, 72, 91, 84, 34, 87, 75, 53, 51, 20, 89, 51, 20]\n",
    "\n",
    "d=dict()\n",
    "\n",
    "for n in l :\n",
    "    d[n]=d.get(n,0)+1\n",
    "    \n",
    "unique=[x for x,y in d.items() if y==1]\n",
    "print(\"there are %d unique numbers\"%len(unique))\n",
    "print(\"unique numbers:\",unique)"
   ]
  },
  {
   "cell_type": "markdown",
   "metadata": {},
   "source": [
    "6\\. Combination of functions\n",
    "\n",
    "Write two functions - one that returns the square of a number, and one that returns the cube. Now write a third function that returns the number raised to the 6th power using the two previous functions."
   ]
  },
  {
   "source": [
    "6. Solution\n",
    "\n",
    "Self-explanatory"
   ],
   "cell_type": "markdown",
   "metadata": {}
  },
  {
   "cell_type": "code",
   "execution_count": 78,
   "metadata": {},
   "outputs": [
    {
     "name": "stdout",
     "output_type": "stream",
     "text": [
      "2^2 = 4\n",
      "2^3 = 8\n",
      "2^6 = 64\n"
     ]
    }
   ],
   "source": [
    "def square(x) : return x**2\n",
    "def cube(x) : return x**3\n",
    "def sixth_power(x) : return square(cube(x))\n",
    "\n",
    "x=2\n",
    "print(\"2^2 =\",square(x))\n",
    "print(\"2^3 =\",cube(x))\n",
    "print(\"2^6 =\",sixth_power(x))"
   ]
  },
  {
   "cell_type": "markdown",
   "metadata": {},
   "source": [
    "7\\. Cubes\n",
    "\n",
    "Create a list of the cubes of x for x in *[0, 10]* using:\n",
    "\n",
    "a) a for loop\n",
    "\n",
    "b) a list comprehension"
   ]
  },
  {
   "source": [
    "7. Solution\n",
    "\n",
    "Self-explanatory"
   ],
   "cell_type": "markdown",
   "metadata": {}
  },
  {
   "cell_type": "code",
   "execution_count": 77,
   "metadata": {},
   "outputs": [
    {
     "name": "stdout",
     "output_type": "stream",
     "text": [
      "[0, 1, 8, 27, 64, 125, 216, 343, 512, 729, 1000]\n",
      "[0, 1, 8, 27, 64, 125, 216, 343, 512, 729, 1000]\n"
     ]
    }
   ],
   "source": [
    "x=list()\n",
    "for i in range(11) :\n",
    "    x.append(i**3)\n",
    "    \n",
    "print(x)\n",
    "y=[n**3 for n in range(11)]\n",
    "print(y)    "
   ]
  },
  {
   "cell_type": "markdown",
   "metadata": {},
   "source": [
    "8\\. Nested list comprehension\n",
    "\n",
    "A Pythagorean triple is an integer solution to the Pythagorean theorem $a^2+b^2=c^2$. The first Pythagorean triple is (3,4,5). Find and put in a tuple all unique Pythagorean triples for the positive integers a, b and c less than 100."
   ]
  },
  {
   "source": [
    "8. Solution\n",
    "\n",
    "We loop over all possible tiplets (a,b,c) by fixing a, then b, then c; if a certain triplet satisfies the pythagorean relation then we sort it and include the tuple (a,b,c) in our list only if it's not already there. \n",
    "\n",
    "Note: the sorting step is necessary to make sure that for example (3,4,5) and (4,3,5) don't count as independent triplets."
   ],
   "cell_type": "markdown",
   "metadata": {}
  },
  {
   "cell_type": "code",
   "execution_count": 86,
   "metadata": {},
   "outputs": [
    {
     "name": "stdout",
     "output_type": "stream",
     "text": [
      "[(3, 4, 5), (5, 12, 13), (6, 8, 10), (7, 24, 25), (8, 15, 17), (9, 12, 15), (9, 40, 41), (10, 24, 26), (11, 60, 61), (12, 16, 20), (12, 35, 37), (13, 84, 85), (14, 48, 50), (15, 20, 25), (15, 36, 39), (16, 30, 34), (16, 63, 65), (18, 24, 30), (18, 80, 82), (20, 21, 29), (20, 48, 52), (21, 28, 35), (21, 72, 75), (24, 32, 40), (24, 45, 51), (24, 70, 74), (25, 60, 65), (27, 36, 45), (28, 45, 53), (30, 40, 50), (30, 72, 78), (32, 60, 68), (33, 44, 55), (33, 56, 65), (35, 84, 91), (36, 48, 60), (36, 77, 85), (39, 52, 65), (39, 80, 89), (40, 42, 58), (40, 75, 85), (42, 56, 70), (45, 60, 75), (48, 55, 73), (48, 64, 80), (51, 68, 85), (54, 72, 90), (57, 76, 95), (60, 63, 87), (65, 72, 97)]\n"
     ]
    }
   ],
   "source": [
    "x=list()\n",
    "for a in range(1,100) :\n",
    "    for b in range(1,100) :\n",
    "        for c in range(1,100) :\n",
    "            if a**2+b**2==c**2 :\n",
    "                y=tuple(sorted((a,b,c)))\n",
    "                if y not in x : x.append(y)\n",
    "                \n",
    "print(x)\n",
    "\n",
    "    \n"
   ]
  },
  {
   "cell_type": "markdown",
   "metadata": {},
   "source": [
    "9\\. Normalization\n",
    "\n",
    "Write a function that takes a tuple of numbers and returns it with the entries normalized to one"
   ]
  },
  {
   "source": [
    "9. Solution\n",
    "\n",
    "Self-explanatory. A more robust implementation may be obtained by using if statements or try-except ones."
   ],
   "cell_type": "markdown",
   "metadata": {}
  },
  {
   "cell_type": "code",
   "execution_count": 93,
   "metadata": {},
   "outputs": [
    {
     "name": "stdout",
     "output_type": "stream",
     "text": [
      "(0.6, 0.8)\n"
     ]
    }
   ],
   "source": [
    "from numpy import sqrt\n",
    "\n",
    "def normalize(v) :\n",
    "    norm=sqrt(sum([x**2 for x in v]))\n",
    "    return tuple([x/norm for x in v])\n",
    "\n",
    "\n",
    "print(normalize((3,4)))"
   ]
  }
 ],
 "metadata": {
  "kernelspec": {
   "display_name": "Python 3",
   "language": "python",
   "name": "python3"
  },
  "language_info": {
   "codemirror_mode": {
    "name": "ipython",
    "version": 3
   },
   "file_extension": ".py",
   "mimetype": "text/x-python",
   "name": "python",
   "nbconvert_exporter": "python",
   "pygments_lexer": "ipython3",
   "version": "3.8.3-final"
  }
 },
 "nbformat": 4,
 "nbformat_minor": 4
}
