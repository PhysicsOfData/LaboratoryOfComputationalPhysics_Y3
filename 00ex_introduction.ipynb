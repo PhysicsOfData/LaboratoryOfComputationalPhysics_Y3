{
 "cells": [
  {
   "cell_type": "markdown",
   "metadata": {},
   "source": [
    "1. The MickeyMouse problem\n",
    "\n",
    "a) Write a program that prints the numbers from 1 to 100. But for multiples of three print Mickey instead of the number and for the multiples of five print Mouse. For numbers which are multiples of both three and five print MickeyMouse\n",
    "\n",
    "b) Put the result in a tuple and substitute Mickey with Donald and Mouse with Duck"
   ]
  },
  {
   "cell_type": "code",
   "execution_count": 41,
   "metadata": {},
   "outputs": [
    {
     "name": "stdout",
     "output_type": "stream",
     "text": [
      "1\n",
      "2\n",
      "Mickey\n",
      "4\n",
      "Mouse\n",
      "Mickey\n",
      "7\n",
      "8\n",
      "Mickey\n",
      "Mouse\n",
      "11\n",
      "Mickey\n",
      "13\n",
      "14\n",
      "MickeyMouse\n",
      "16\n",
      "17\n",
      "Mickey\n",
      "19\n",
      "Mouse\n",
      "Mickey\n",
      "22\n",
      "23\n",
      "Mickey\n",
      "Mouse\n",
      "26\n",
      "Mickey\n",
      "28\n",
      "29\n",
      "MickeyMouse\n",
      "31\n",
      "32\n",
      "Mickey\n",
      "34\n",
      "Mouse\n",
      "Mickey\n",
      "37\n",
      "38\n",
      "Mickey\n",
      "Mouse\n",
      "41\n",
      "Mickey\n",
      "43\n",
      "44\n",
      "MickeyMouse\n",
      "46\n",
      "47\n",
      "Mickey\n",
      "49\n",
      "Mouse\n",
      "Mickey\n",
      "52\n",
      "53\n",
      "Mickey\n",
      "Mouse\n",
      "56\n",
      "Mickey\n",
      "58\n",
      "59\n",
      "MickeyMouse\n",
      "61\n",
      "62\n",
      "Mickey\n",
      "64\n",
      "Mouse\n",
      "Mickey\n",
      "67\n",
      "68\n",
      "Mickey\n",
      "Mouse\n",
      "71\n",
      "Mickey\n",
      "73\n",
      "74\n",
      "MickeyMouse\n",
      "76\n",
      "77\n",
      "Mickey\n",
      "79\n",
      "Mouse\n",
      "Mickey\n",
      "82\n",
      "83\n",
      "Mickey\n",
      "Mouse\n",
      "86\n",
      "Mickey\n",
      "88\n",
      "89\n",
      "MickeyMouse\n",
      "91\n",
      "92\n",
      "Mickey\n",
      "94\n",
      "Mouse\n",
      "Mickey\n",
      "97\n",
      "98\n",
      "Mickey\n",
      "Mouse\n"
     ]
    }
   ],
   "source": [
    "def print_mickey():\n",
    "    result = []\n",
    "    for i in range(1,101):\n",
    "        tmp = ('Mickey' if i%3 == 0 else '') + ('Mouse' if i%5 == 0 else '')\n",
    "        a = tmp if tmp else f'{i}'\n",
    "        print(a)\n",
    "        result.append(a)\n",
    "    return tuple(result)\n",
    "\n",
    "def replace(t):\n",
    "    output = []\n",
    "    for item in t:\n",
    "        tmp = ('Donald' if 'Mickey' in item else '') + ('Duck' if 'Mouse' in item else '')\n",
    "        a = tmp if tmp else item\n",
    "        output.append(a)\n",
    "    return tuple(output)\n",
    "\n",
    "result = print_mickey()\n",
    "result = replace(result)"
   ]
  },
  {
   "cell_type": "markdown",
   "metadata": {},
   "source": [
    "2\\. The swap function\n",
    "\n",
    "Write a function that swap the values of two input variables x and y (whatever the type). Try to do that also without a temporary variable"
   ]
  },
  {
   "cell_type": "code",
   "execution_count": 8,
   "metadata": {},
   "outputs": [
    {
     "name": "stdout",
     "output_type": "stream",
     "text": [
      "a = 1, b = 2\n",
      "Applying swap with temporal variable...\n",
      "a = 2, b = 1\n",
      "Applying swap without temporal variable...\n",
      "a = 1, b = 2\n"
     ]
    }
   ],
   "source": [
    "def swap_w_tmp(a,b):\n",
    "    tmp = a\n",
    "    a = b\n",
    "    b = tmp\n",
    "    return a, b\n",
    "\n",
    "def swap(a,b):\n",
    "    a,b = b,a\n",
    "    return a,b\n",
    "\n",
    "a, b = 1,2\n",
    "print(f'a = {a}, b = {b}')\n",
    "print(f'Applying swap with temporal variable...')\n",
    "a,b = swap_w_tmp(a,b)\n",
    "print(f'a = {a}, b = {b}')\n",
    "print(f'Applying swap without temporal variable...')\n",
    "a,b = swap(a,b)\n",
    "print(f'a = {a}, b = {b}')\n"
   ]
  },
  {
   "cell_type": "markdown",
   "metadata": {},
   "source": [
    "3\\. Computing the distance\n",
    "\n",
    "Write a function that calculates and returns the euclidean distance between two points *u* and *v*, where *u* and *v* are both 2-tuples *(x,y)*. For example, if *u=(3,0)* and *v=(0,4)*, the function should return 5"
   ]
  },
  {
   "cell_type": "code",
   "execution_count": 17,
   "metadata": {},
   "outputs": [
    {
     "name": "stdout",
     "output_type": "stream",
     "text": [
      "u = (3, 0)\n",
      "v = (0, 4)\n",
      "The distance between both is 5.0...\n",
      "u = (1, 4)\n",
      "v = (1, 4)\n",
      "The distance between both is 0.0...\n",
      "u = (-1, 6)\n",
      "v = (3, 6)\n",
      "The distance between both is 4.0...\n",
      "u = (3, 5)\n",
      "v = (1, 7)\n",
      "The distance between both is 2.8284271247461903...\n"
     ]
    }
   ],
   "source": [
    "from math import sqrt\n",
    "def distance(u,v):\n",
    "    return sqrt(sum((e_i-e_j)**2 for e_i,e_j in zip(u,v)))\n",
    "\n",
    "for u, v in zip([(3,0), (1,4), (-1,6), (3,5)], [(0,4), (1,4), (3,6), (1,7)]):\n",
    "    print(f'u = {u}\\nv = {v}')\n",
    "    print(f'The distance between both is {distance(u,v)}...')"
   ]
  },
  {
   "cell_type": "markdown",
   "metadata": {},
   "source": [
    "4\\. Counting letters\n",
    "\n",
    "Write a program to calculate the number of times each character occurs in a given string *s*. Ignore differneces in capitalization"
   ]
  },
  {
   "cell_type": "code",
   "execution_count": 26,
   "metadata": {},
   "outputs": [
    {
     "name": "stdout",
     "output_type": "stream",
     "text": [
      "Counting characters frequencies in the following string:\n",
      "\"Write a program that prints the numbers from 1 to 100. But for multiples of three print Mickey instead of the number and for the multiples of five print Mouse. For numbers which are multiples of both three and five print MickeyMouse\"\n",
      "{'W': 1, 'r': 17, 'i': 14, 't': 19, 'e': 22, ' ': 41, 'a': 7, 'p': 8, 'o': 13, 'g': 1, 'm': 8, 'h': 9, 'n': 10, 's': 9, 'u': 9, 'b': 4, 'f': 9, '1': 2, '0': 2, '.': 2, 'B': 1, 'l': 6, 'M': 4, 'c': 3, 'k': 2, 'y': 2, 'd': 3, 'v': 2, 'F': 1, 'w': 1}\n"
     ]
    }
   ],
   "source": [
    "s=\"Write a program that prints the numbers from 1 to 100. \\\n",
    "But for multiples of three print Mickey instead of the number and for the multiples of five print Mouse. \\\n",
    "For numbers which are multiples of both three and five print MickeyMouse\"\n",
    "\n",
    "def char_counter(s):\n",
    "    characters = {}\n",
    "    for char in s:\n",
    "        char = char if char is not str else char.lower()\n",
    "        if not characters.get(char):\n",
    "            characters[char] = 0\n",
    "        characters[char]+= 1\n",
    "    return characters\n",
    "print(f'Counting characters frequencies in the following string:\\n\"{s}\"')\n",
    "print(char_counter(s))"
   ]
  },
  {
   "cell_type": "markdown",
   "metadata": {},
   "source": [
    "5\\. Isolating the unique\n",
    "\n",
    "Write a function that determines and count the unique numbers in the list *l*"
   ]
  },
  {
   "cell_type": "code",
   "execution_count": 30,
   "metadata": {},
   "outputs": [
    {
     "name": "stdout",
     "output_type": "stream",
     "text": [
      "Measuring frequencies in the following list:\n",
      "\"[36, 45, 58, 3, 74, 96, 64, 45, 31, 10, 24, 19, 33, 86, 99, 18, 63, 70, 85, 85, 63, 47, 56, 42, 70, 84, 88, 55, 20, 54, 8, 56, 51, 79, 81, 57, 37, 91, 1, 84, 84, 36, 66, 9, 89, 50, 42, 91, 50, 95, 90, 98, 39, 16, 82, 31, 92, 41, 45, 30, 66, 70, 34, 85, 94, 5, 3, 36, 72, 91, 84, 34, 87, 75, 53, 51, 20, 89, 51, 20]\"\n",
      "\n",
      "Keys are the unique numbers, values are their frequencies:\n",
      " {36: 3, 45: 3, 58: 1, 3: 2, 74: 1, 96: 1, 64: 1, 31: 2, 10: 1, 24: 1, 19: 1, 33: 1, 86: 1, 99: 1, 18: 1, 63: 2, 70: 3, 85: 3, 47: 1, 56: 2, 42: 2, 84: 4, 88: 1, 55: 1, 20: 3, 54: 1, 8: 1, 51: 3, 79: 1, 81: 1, 57: 1, 37: 1, 91: 3, 1: 1, 66: 2, 9: 1, 89: 2, 50: 2, 95: 1, 90: 1, 98: 1, 39: 1, 16: 1, 82: 1, 92: 1, 41: 1, 30: 1, 34: 2, 94: 1, 5: 1, 72: 1, 87: 1, 75: 1, 53: 1}\n"
     ]
    }
   ],
   "source": [
    "l = [36, 45, 58, 3, 74, 96, 64, 45, 31, 10, 24, 19, 33, 86, 99, 18, 63, 70, 85,\n",
    " 85, 63, 47, 56, 42, 70, 84, 88, 55, 20, 54, 8, 56, 51, 79, 81, 57, 37, 91,\n",
    " 1, 84, 84, 36, 66, 9, 89, 50, 42, 91, 50, 95, 90, 98, 39, 16, 82, 31, 92, 41,\n",
    " 45, 30, 66, 70, 34, 85, 94, 5, 3, 36, 72, 91, 84, 34, 87, 75, 53, 51, 20, 89, 51, 20]\n",
    "\n",
    "# We can recycle the function defined in the problem above:\n",
    "isolate_unique = lambda x: char_counter(x)\n",
    "print(f'Measuring frequencies in the following list:\\n\"{l}\"')\n",
    "print()\n",
    "print(f'Keys are the unique numbers, values are their frequencies:\\n {isolate_unique(l)}')"
   ]
  },
  {
   "cell_type": "markdown",
   "metadata": {},
   "source": [
    "6\\. Combination of functions\n",
    "\n",
    "Write two functions - one that returns the square of a number, and one that returns the cube. Now write a third function that returns the number raised to the 6th power using the two previous functions."
   ]
  },
  {
   "cell_type": "code",
   "execution_count": 32,
   "metadata": {},
   "outputs": [
    {
     "name": "stdout",
     "output_type": "stream",
     "text": [
      "1 squared is 1, its cube is 1. Its 6th power is 1\n",
      "2 squared is 4, its cube is 8. Its 6th power is 64\n",
      "3 squared is 9, its cube is 27. Its 6th power is 729\n",
      "4 squared is 16, its cube is 64. Its 6th power is 4096\n",
      "5 squared is 25, its cube is 125. Its 6th power is 15625\n"
     ]
    }
   ],
   "source": [
    "square = lambda x: x**2\n",
    "cube = lambda x: x**3\n",
    "sixth_pow = lambda x: cube(square(x))\n",
    "\n",
    "for i in range(1,6):\n",
    "    print(f'{i} squared is {square(i)}, its cube is {cube(i)}. Its 6th power is {sixth_pow(i)}')"
   ]
  },
  {
   "cell_type": "markdown",
   "metadata": {},
   "source": [
    "7\\. Cubes\n",
    "\n",
    "Create a list of the cubes of x for x in *[0, 10]* using:\n",
    "\n",
    "a) a for loop\n",
    "\n",
    "b) a list comprehension"
   ]
  },
  {
   "cell_type": "code",
   "execution_count": 35,
   "metadata": {},
   "outputs": [
    {
     "name": "stdout",
     "output_type": "stream",
     "text": [
      "Cube list by loop:\n",
      "[0, 1, 8, 27, 64, 125, 216, 343, 512, 729, 1000]\n",
      "Cube list by list comprehension:\n",
      "[0, 1, 8, 27, 64, 125, 216, 343, 512, 729, 1000]\n"
     ]
    }
   ],
   "source": [
    "cube_list = []\n",
    "for i in range(11):\n",
    "    cube_list.append(i**3)\n",
    "\n",
    "print(f'Cube list by loop:\\n{cube_list}')\n",
    "\n",
    "cube_list = [x**3 for x in range(11)]\n",
    "\n",
    "print(f'Cube list by list comprehension:\\n{cube_list}')"
   ]
  },
  {
   "cell_type": "markdown",
   "metadata": {},
   "source": [
    "8\\. Nested list comprehension\n",
    "\n",
    "A Pythagorean triple is an integer solution to the Pythagorean theorem $a^2+b^2=c^2$. The first Pythagorean triple is (3,4,5). Find and put in a tuple all unique Pythagorean triples for the positive integers a, b and c less than 100."
   ]
  },
  {
   "cell_type": "code",
   "execution_count": 37,
   "metadata": {},
   "outputs": [
    {
     "name": "stdout",
     "output_type": "stream",
     "text": [
      "These are the first 50 pitagorean triplets:\n",
      "[(3, 4, 5), (5, 12, 13), (6, 8, 10), (7, 24, 25), (8, 15, 17), (9, 12, 15), (9, 40, 41), (10, 24, 26), (11, 60, 61), (12, 16, 20), (12, 35, 37), (13, 84, 85), (14, 48, 50), (15, 20, 25), (15, 36, 39), (16, 30, 34), (16, 63, 65), (18, 24, 30), (18, 80, 82), (20, 21, 29), (20, 48, 52), (21, 28, 35), (21, 72, 75), (24, 32, 40), (24, 45, 51), (24, 70, 74), (25, 60, 65), (27, 36, 45), (28, 45, 53), (30, 40, 50), (30, 72, 78), (32, 60, 68), (33, 44, 55), (33, 56, 65), (35, 84, 91), (36, 48, 60), (36, 77, 85), (39, 52, 65), (39, 80, 89), (40, 42, 58), (40, 75, 85), (42, 56, 70), (45, 60, 75), (48, 55, 73), (48, 64, 80), (51, 68, 85), (54, 72, 90), (57, 76, 95), (60, 63, 87), (65, 72, 97)]\n"
     ]
    }
   ],
   "source": [
    "# Since we are looking for unique combinations, there's no need to iterate over the whole range for b and c.\n",
    "# In fact, we can start precisely at the current a. We also know that c must be higher than both a and b, so there's also no point in going over the whole range for c.\n",
    "triplets = [(a,b,c) for a in range(1,100) for b in range(a,100) for c in range(b,100) if a**2 +b**2 == c**2]\n",
    "print(f'These are the first {len(triplets)} pitagorean triplets:\\n{triplets}')"
   ]
  },
  {
   "cell_type": "markdown",
   "metadata": {},
   "source": [
    "9\\. Normalization\n",
    "\n",
    "Write a function that takes a tuple of numbers and returns it with the entries normalized to one"
   ]
  },
  {
   "cell_type": "code",
   "execution_count": 42,
   "metadata": {},
   "outputs": [
    {
     "name": "stdout",
     "output_type": "stream",
     "text": [
      "The original vector is (3, 4, 5), normalized vector is (0.4242640687119285, 0.565685424949238, 0.7071067811865475)\n",
      "The original vector is (5, 12, 13), normalized vector is (0.2719641466102106, 0.6527139518645054, 0.7071067811865476)\n",
      "The original vector is (6, 8, 10), normalized vector is (0.4242640687119285, 0.565685424949238, 0.7071067811865475)\n",
      "The original vector is (7, 24, 25), normalized vector is (0.1979898987322333, 0.6788225099390855, 0.7071067811865475)\n",
      "The original vector is (8, 15, 17), normalized vector is (0.3327561323230812, 0.6239177481057773, 0.7071067811865476)\n",
      "The original vector is (9, 12, 15), normalized vector is (0.4242640687119285, 0.565685424949238, 0.7071067811865475)\n",
      "The original vector is (9, 40, 41), normalized vector is (0.1552185617238763, 0.6898602743283391, 0.7071067811865476)\n",
      "The original vector is (10, 24, 26), normalized vector is (0.2719641466102106, 0.6527139518645054, 0.7071067811865476)\n",
      "The original vector is (11, 60, 61), normalized vector is (0.12751105890249217, 0.6955148667408664, 0.7071067811865476)\n",
      "The original vector is (12, 16, 20), normalized vector is (0.4242640687119285, 0.565685424949238, 0.7071067811865475)\n",
      "The original vector is (12, 35, 37), normalized vector is (0.22933192903347485, 0.6688847930143017, 0.7071067811865475)\n",
      "The original vector is (13, 84, 85), normalized vector is (0.10814574300500138, 0.6987878778784705, 0.7071067811865475)\n",
      "The original vector is (14, 48, 50), normalized vector is (0.1979898987322333, 0.6788225099390855, 0.7071067811865475)\n",
      "The original vector is (15, 20, 25), normalized vector is (0.4242640687119285, 0.565685424949238, 0.7071067811865475)\n",
      "The original vector is (15, 36, 39), normalized vector is (0.2719641466102106, 0.6527139518645054, 0.7071067811865476)\n",
      "The original vector is (16, 30, 34), normalized vector is (0.3327561323230812, 0.6239177481057773, 0.7071067811865476)\n",
      "The original vector is (16, 63, 65), normalized vector is (0.17405705383053477, 0.6853496494577307, 0.7071067811865475)\n",
      "The original vector is (18, 24, 30), normalized vector is (0.4242640687119285, 0.565685424949238, 0.7071067811865475)\n",
      "The original vector is (18, 80, 82), normalized vector is (0.1552185617238763, 0.6898602743283391, 0.7071067811865476)\n",
      "The original vector is (20, 21, 29), normalized vector is (0.48765984909417076, 0.5120428415488792, 0.7071067811865476)\n",
      "The original vector is (20, 48, 52), normalized vector is (0.2719641466102106, 0.6527139518645054, 0.7071067811865476)\n",
      "The original vector is (21, 28, 35), normalized vector is (0.4242640687119285, 0.565685424949238, 0.7071067811865475)\n",
      "The original vector is (21, 72, 75), normalized vector is (0.1979898987322333, 0.6788225099390855, 0.7071067811865475)\n",
      "The original vector is (24, 32, 40), normalized vector is (0.4242640687119285, 0.565685424949238, 0.7071067811865475)\n",
      "The original vector is (24, 45, 51), normalized vector is (0.3327561323230812, 0.6239177481057773, 0.7071067811865476)\n",
      "The original vector is (24, 70, 74), normalized vector is (0.22933192903347485, 0.6688847930143017, 0.7071067811865475)\n",
      "The original vector is (25, 60, 65), normalized vector is (0.27196414661021057, 0.6527139518645054, 0.7071067811865475)\n",
      "The original vector is (27, 36, 45), normalized vector is (0.4242640687119285, 0.565685424949238, 0.7071067811865475)\n",
      "The original vector is (28, 45, 53), normalized vector is (0.3735658466645912, 0.6003736821395216, 0.7071067811865476)\n",
      "The original vector is (30, 40, 50), normalized vector is (0.4242640687119285, 0.565685424949238, 0.7071067811865475)\n",
      "The original vector is (30, 72, 78), normalized vector is (0.2719641466102106, 0.6527139518645054, 0.7071067811865476)\n",
      "The original vector is (32, 60, 68), normalized vector is (0.3327561323230812, 0.6239177481057773, 0.7071067811865476)\n",
      "The original vector is (33, 44, 55), normalized vector is (0.4242640687119285, 0.565685424949238, 0.7071067811865475)\n",
      "The original vector is (33, 56, 65), normalized vector is (0.358992673525478, 0.6091996884068717, 0.7071067811865475)\n",
      "The original vector is (35, 84, 91), normalized vector is (0.2719641466102106, 0.6527139518645054, 0.7071067811865476)\n",
      "The original vector is (36, 48, 60), normalized vector is (0.4242640687119285, 0.565685424949238, 0.7071067811865475)\n",
      "The original vector is (36, 77, 85), normalized vector is (0.29948051909077306, 0.6405555547219313, 0.7071067811865475)\n",
      "The original vector is (39, 52, 65), normalized vector is (0.4242640687119285, 0.565685424949238, 0.7071067811865475)\n",
      "The original vector is (39, 80, 89), normalized vector is (0.30985578051994783, 0.6356016010665596, 0.7071067811865476)\n",
      "The original vector is (40, 42, 58), normalized vector is (0.48765984909417076, 0.5120428415488792, 0.7071067811865476)\n",
      "The original vector is (40, 75, 85), normalized vector is (0.33275613232308116, 0.6239177481057772, 0.7071067811865475)\n",
      "The original vector is (42, 56, 70), normalized vector is (0.4242640687119285, 0.565685424949238, 0.7071067811865475)\n",
      "The original vector is (45, 60, 75), normalized vector is (0.4242640687119285, 0.565685424949238, 0.7071067811865475)\n",
      "The original vector is (48, 55, 73), normalized vector is (0.4649469246158121, 0.532751684455618, 0.7071067811865476)\n",
      "The original vector is (48, 64, 80), normalized vector is (0.4242640687119285, 0.565685424949238, 0.7071067811865475)\n",
      "The original vector is (51, 68, 85), normalized vector is (0.4242640687119285, 0.565685424949238, 0.7071067811865475)\n",
      "The original vector is (54, 72, 90), normalized vector is (0.4242640687119285, 0.565685424949238, 0.7071067811865475)\n",
      "The original vector is (57, 76, 95), normalized vector is (0.4242640687119285, 0.565685424949238, 0.7071067811865475)\n",
      "The original vector is (60, 63, 87), normalized vector is (0.4876598490941707, 0.5120428415488792, 0.7071067811865476)\n",
      "The original vector is (65, 72, 97), normalized vector is (0.47383444100129474, 0.5248627654168188, 0.7071067811865476)\n"
     ]
    }
   ],
   "source": [
    "# For this problem we may recycle the distance function.\n",
    "size = lambda u: distance(u,(0,0,0))\n",
    "def normalize(u):\n",
    "    norm = size(u)\n",
    "    normalized = tuple([e/norm for e in u])\n",
    "    return normalized\n",
    "\n",
    "for t in triplets:\n",
    "    print(f'The original vector is {t}, normalized vector is {normalize(t)}')"
   ]
  },
  {
   "cell_type": "code",
   "execution_count": null,
   "metadata": {},
   "outputs": [],
   "source": []
  }
 ],
 "metadata": {
  "kernelspec": {
   "display_name": "Python 3",
   "language": "python",
   "name": "python3"
  },
  "language_info": {
   "codemirror_mode": {
    "name": "ipython",
    "version": 3
   },
   "file_extension": ".py",
   "mimetype": "text/x-python",
   "name": "python",
   "nbconvert_exporter": "python",
   "pygments_lexer": "ipython3",
   "version": "3.7.3"
  }
 },
 "nbformat": 4,
 "nbformat_minor": 2
}
