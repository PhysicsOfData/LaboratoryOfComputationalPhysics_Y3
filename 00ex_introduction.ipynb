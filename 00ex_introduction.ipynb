{
 "cells": [
  {
   "cell_type": "markdown",
   "metadata": {},
   "source": [
    "1. The MickeyMouse problem\n",
    "\n",
    "a) Write a program that prints the numbers from 1 to 100. But for multiples of three print Mickey instead of the number and for the multiples of five print Mouse. For numbers which are multiples of both three and five print MickeyMouse\n",
    "\n",
    "b) Put the result in a tuple and substitute Mickey with Donald and Mouse with Duck"
   ]
  },
  {
   "cell_type": "code",
   "execution_count": 1,
   "metadata": {},
   "outputs": [
    {
     "name": "stdout",
     "output_type": "stream",
     "text": [
      "1\n",
      "2\n",
      "Mickey\n",
      "4\n",
      "Mouse\n",
      "Mickey\n",
      "7\n",
      "8\n",
      "Mickey\n",
      "Mouse\n",
      "11\n",
      "Mickey\n",
      "13\n",
      "14\n",
      "Mickey Mouse\n",
      "16\n",
      "17\n",
      "Mickey\n",
      "19\n",
      "Mouse\n",
      "Mickey\n",
      "22\n",
      "23\n",
      "Mickey\n",
      "Mouse\n",
      "26\n",
      "Mickey\n",
      "28\n",
      "29\n",
      "Mickey Mouse\n",
      "31\n",
      "32\n",
      "Mickey\n",
      "34\n",
      "Mouse\n",
      "Mickey\n",
      "37\n",
      "38\n",
      "Mickey\n",
      "Mouse\n",
      "41\n",
      "Mickey\n",
      "43\n",
      "44\n",
      "Mickey Mouse\n",
      "46\n",
      "47\n",
      "Mickey\n",
      "49\n",
      "Mouse\n",
      "Mickey\n",
      "52\n",
      "53\n",
      "Mickey\n",
      "Mouse\n",
      "56\n",
      "Mickey\n",
      "58\n",
      "59\n",
      "Mickey Mouse\n",
      "61\n",
      "62\n",
      "Mickey\n",
      "64\n",
      "Mouse\n",
      "Mickey\n",
      "67\n",
      "68\n",
      "Mickey\n",
      "Mouse\n",
      "71\n",
      "Mickey\n",
      "73\n",
      "74\n",
      "Mickey Mouse\n",
      "76\n",
      "77\n",
      "Mickey\n",
      "79\n",
      "Mouse\n",
      "Mickey\n",
      "82\n",
      "83\n",
      "Mickey\n",
      "Mouse\n",
      "86\n",
      "Mickey\n",
      "88\n",
      "89\n",
      "Mickey Mouse\n",
      "91\n",
      "92\n",
      "Mickey\n",
      "94\n",
      "Mouse\n",
      "Mickey\n",
      "97\n",
      "98\n",
      "Mickey\n",
      "Mouse\n"
     ]
    }
   ],
   "source": [
    "#a\n",
    "\n",
    "for i in range(1,101):\n",
    "    if i%3 == 0 : \n",
    "        if i%5 == 0 : print('Mickey Mouse')\n",
    "        else: print('Mickey')\n",
    "    elif i%5 == 0 : print('Mouse')\n",
    "    else: print(i)"
   ]
  },
  {
   "cell_type": "code",
   "execution_count": 2,
   "metadata": {},
   "outputs": [
    {
     "name": "stdout",
     "output_type": "stream",
     "text": [
      "<class 'tuple'>\n",
      "('1', '2', 'Donald', '4', 'Duck', 'Donald', '7', '8', 'Donald', 'Duck', '11', 'Donald', '13', '14', 'DonaldDuck', '16', '17', 'Donald', '19', 'Duck', 'Donald', '22', '23', 'Donald', 'Duck', '26', 'Donald', '28', '29', 'DonaldDuck', '31', '32', 'Donald', '34', 'Duck', 'Donald', '37', '38', 'Donald', 'Duck', '41', 'Donald', '43', '44', 'DonaldDuck', '46', '47', 'Donald', '49', 'Duck', 'Donald', '52', '53', 'Donald', 'Duck', '56', 'Donald', '58', '59', 'DonaldDuck', '61', '62', 'Donald', '64', 'Duck', 'Donald', '67', '68', 'Donald', 'Duck', '71', 'Donald', '73', '74', 'DonaldDuck', '76', '77', 'Donald', '79', 'Duck', 'Donald', '82', '83', 'Donald', 'Duck', '86', 'Donald', '88', '89', 'DonaldDuck', '91', '92', 'Donald', '94', 'Duck', 'Donald', '97', '98', 'Donald', 'Duck')\n"
     ]
    }
   ],
   "source": [
    "#b\n",
    "ris=[]\n",
    "for i in range(1,101):\n",
    "    if i%3 == 0 : \n",
    "        if i%5 == 0 : ris.append('DonaldDuck')\n",
    "        else: ris.append('Donald')\n",
    "    elif i%5 == 0 : ris.append('Duck')\n",
    "    else: ris.append(str(i))\n",
    "ris=tuple(ris)\n",
    "print(type(ris))\n",
    "print(ris)"
   ]
  },
  {
   "cell_type": "markdown",
   "metadata": {},
   "source": [
    "2\\. The swap function\n",
    "\n",
    "Write a function that swap the values of two input variables x and y (whatever the type). Try to do that also without a temporary variable"
   ]
  },
  {
   "cell_type": "code",
   "execution_count": 3,
   "metadata": {},
   "outputs": [
    {
     "name": "stdout",
     "output_type": "stream",
     "text": [
      "Before:  Ciao   Pizza\n",
      "After:  Pizza   Ciao\n"
     ]
    }
   ],
   "source": [
    "def swap(a,b):\n",
    "    return b,a\n",
    "\n",
    "a,b = 'Ciao','Pizza'\n",
    "print('Before: ',a,' ',b)\n",
    "a,b=swap(a,b)\n",
    "print('After: ',a,' ',b)"
   ]
  },
  {
   "cell_type": "markdown",
   "metadata": {},
   "source": [
    "3\\. Computing the distance\n",
    "\n",
    "Write a function that calculates and returns the euclidean distance between two points *u* and *v*, where *u* and *v* are both 2-tuples *(x,y)*. For example, if *u=(3,0)* and *v=(0,4)*, the function should return 5"
   ]
  },
  {
   "cell_type": "code",
   "execution_count": 4,
   "metadata": {},
   "outputs": [
    {
     "name": "stdout",
     "output_type": "stream",
     "text": [
      "5.0\n"
     ]
    }
   ],
   "source": [
    "def distance(p1,p2):\n",
    "    return ((p1[0]-p2[0])**2+(p1[1]-p2[1])**2)**0.5\n",
    "u=(0,0)\n",
    "v=(3,4)\n",
    "\n",
    "print(distance(u,v))"
   ]
  },
  {
   "cell_type": "markdown",
   "metadata": {},
   "source": [
    "4\\. Counting letters\n",
    "\n",
    "Write a program to calculate the number of times each character occurs in a given string *s*. Ignore differneces in capitalization"
   ]
  },
  {
   "cell_type": "code",
   "execution_count": 5,
   "metadata": {},
   "outputs": [
    {
     "name": "stdout",
     "output_type": "stream",
     "text": [
      "  41\n",
      ". 2\n",
      "0 2\n",
      "1 2\n",
      "a 7\n",
      "b 5\n",
      "c 3\n",
      "d 3\n",
      "e 22\n",
      "f 10\n",
      "g 1\n",
      "h 9\n",
      "i 14\n",
      "k 2\n",
      "l 6\n",
      "m 12\n",
      "n 10\n",
      "o 13\n",
      "p 8\n",
      "r 17\n",
      "s 9\n",
      "t 19\n",
      "u 9\n",
      "v 2\n",
      "w 2\n",
      "y 2\n"
     ]
    }
   ],
   "source": [
    "s=\"Write a program that prints the numbers from 1 to 100. \\\n",
    "But for multiples of three print Mickey instead of the number and for the multiples of five print Mouse. \\\n",
    "For numbers which are multiples of both three and five print MickeyMouse\"\n",
    "\n",
    "s=s.lower()\n",
    "unique_s=[]\n",
    "\n",
    "l=list(s)\n",
    "l.sort()\n",
    "for i in l:\n",
    "    if i not in unique_s:\n",
    "        unique_s.append(i)\n",
    "        print(i,s.count(i))\n"
   ]
  },
  {
   "cell_type": "markdown",
   "metadata": {},
   "source": [
    "5\\. Isolating the unique\n",
    "\n",
    "Write a function that determines and count the unique numbers in the list *l*"
   ]
  },
  {
   "cell_type": "code",
   "execution_count": 22,
   "metadata": {},
   "outputs": [
    {
     "name": "stdout",
     "output_type": "stream",
     "text": [
      "1 1\n",
      "3 2\n",
      "5 1\n",
      "8 1\n",
      "9 1\n",
      "10 1\n",
      "16 1\n",
      "18 1\n",
      "19 1\n",
      "20 3\n",
      "24 1\n",
      "30 1\n",
      "31 2\n",
      "33 1\n",
      "34 2\n",
      "36 3\n",
      "37 1\n",
      "39 1\n",
      "41 1\n",
      "42 2\n",
      "45 3\n",
      "47 1\n",
      "50 2\n",
      "51 3\n",
      "53 1\n",
      "54 1\n",
      "55 1\n",
      "56 2\n",
      "57 1\n",
      "58 1\n",
      "63 2\n",
      "64 1\n",
      "66 2\n",
      "70 3\n",
      "72 1\n",
      "74 1\n",
      "75 1\n",
      "79 1\n",
      "81 1\n",
      "82 1\n",
      "84 4\n",
      "85 3\n",
      "86 1\n",
      "87 1\n",
      "88 1\n",
      "89 2\n",
      "90 1\n",
      "91 3\n",
      "92 1\n",
      "94 1\n",
      "95 1\n",
      "96 1\n",
      "98 1\n",
      "99 1\n"
     ]
    }
   ],
   "source": [
    "l = [36, 45, 58, 3, 74, 96, 64, 45, 31, 10, 24, 19, 33, 86, 99, 18, 63, 70, 85,\n",
    " 85, 63, 47, 56, 42, 70, 84, 88, 55, 20, 54, 8, 56, 51, 79, 81, 57, 37, 91,\n",
    " 1, 84, 84, 36, 66, 9, 89, 50, 42, 91, 50, 95, 90, 98, 39, 16, 82, 31, 92, 41,\n",
    " 45, 30, 66, 70, 34, 85, 94, 5, 3, 36, 72, 91, 84, 34, 87, 75, 53, 51, 20, 89, 51, 20]\n",
    "\n",
    "def f_unique_count(l):\n",
    "    unique_l=[]\n",
    "    unique_s=[]\n",
    "    for i in l:\n",
    "        if i not in unique_l:\n",
    "            unique_l.append(i)\n",
    "    unique_l.sort()\n",
    "    #print(len(unique_l))\n",
    "    #print(unique_l)\n",
    "    \n",
    "    for i in unique_l:\n",
    "        if i not in unique_s:\n",
    "            unique_s.append(i)\n",
    "            print(i,l.count(i))\n",
    "    return\n",
    "\n",
    "f_unique_count(l)"
   ]
  },
  {
   "cell_type": "markdown",
   "metadata": {},
   "source": [
    "6\\. Combination of functions\n",
    "\n",
    "Write two functions - one that returns the square of a number, and one that returns the cube. Now write a third function that returns the number raised to the 6th power using the two previous functions."
   ]
  },
  {
   "cell_type": "code",
   "execution_count": 7,
   "metadata": {},
   "outputs": [
    {
     "name": "stdout",
     "output_type": "stream",
     "text": [
      "64\n"
     ]
    }
   ],
   "source": [
    "def square(x):\n",
    "    return x**2\n",
    "def cube(x):\n",
    "    return x**3\n",
    "\n",
    "def third(x):\n",
    "    return square(cube(x))\n",
    "\n",
    "print(third(2))"
   ]
  },
  {
   "cell_type": "markdown",
   "metadata": {},
   "source": [
    "7\\. Cubes\n",
    "\n",
    "Create a list of the cubes of x for x in *[0, 10]* using:\n",
    "\n",
    "a) a for loop\n",
    "\n",
    "b) a list comprehension"
   ]
  },
  {
   "cell_type": "code",
   "execution_count": 8,
   "metadata": {},
   "outputs": [
    {
     "name": "stdout",
     "output_type": "stream",
     "text": [
      "[0, 1, 8, 27, 64, 125, 216, 343, 512, 729, 1000]\n",
      "[0, 1, 8, 27, 64, 125, 216, 343, 512, 729, 1000]\n"
     ]
    }
   ],
   "source": [
    "l1=[]\n",
    "for i in range(0,11):\n",
    "    l1.append(i**3)\n",
    "print(l1)\n",
    "\n",
    "l2=[i**3 for i in range(0,11)]\n",
    "print(l2)"
   ]
  },
  {
   "cell_type": "markdown",
   "metadata": {},
   "source": [
    "8\\. Nested list comprehension\n",
    "\n",
    "A Pythagorean triple is an integer solution to the Pythagorean theorem $a^2+b^2=c^2$. The first Pythagorean triple is (3,4,5). Find and put in a tuple all unique Pythagorean triples for the positive integers a, b and c less than 100."
   ]
  },
  {
   "cell_type": "code",
   "execution_count": 9,
   "metadata": {},
   "outputs": [
    {
     "name": "stdout",
     "output_type": "stream",
     "text": [
      "[(3, 4, 5), (4, 3, 5), (5, 12, 13), (6, 8, 10), (8, 6, 10), (9, 12, 15), (12, 5, 13), (12, 9, 15)]\n",
      "[(3, 4, 5), (5, 12, 13), (6, 8, 10), (9, 12, 15)]\n"
     ]
    }
   ],
   "source": [
    "l= [(a,b,c) for a in range(1,100) for b in range(1,100) for c in range(1,100) if a**2+b**2 is c**2 ]\n",
    "print(l)\n",
    "\n",
    "#unique\n",
    "u_l=[l[0]]\n",
    "for i in l[1:]:\n",
    "    unico=True\n",
    "    for j in u_l:\n",
    "        \n",
    "        if i[0] == j[1] and i[1] == j[0]:\n",
    "            unico=False\n",
    "    \n",
    "    if unico==True: u_l.append(i)\n",
    "        \n",
    "print(u_l)"
   ]
  },
  {
   "cell_type": "markdown",
   "metadata": {},
   "source": [
    "9\\. Normalization\n",
    "\n",
    "Write a function that takes a tuple of numbers and returns it with the entries normalized to one"
   ]
  },
  {
   "cell_type": "code",
   "execution_count": 10,
   "metadata": {},
   "outputs": [
    {
     "name": "stdout",
     "output_type": "stream",
     "text": [
      "(0.13483997249264842, 0.40451991747794525, 0.5393598899705937, 0.674199862463242, 0.26967994498529685)\n",
      "1.0\n"
     ]
    }
   ],
   "source": [
    "def norm(t):\n",
    "    m=modulo(t)\n",
    "    new=tuple([i/m for i in t])\n",
    "    return new\n",
    "\n",
    "def modulo(t):\n",
    "    n=0\n",
    "    for i in t:\n",
    "        n+=i*i\n",
    "    return n**0.5\n",
    "\n",
    "tup=(1,3,4,5,2)\n",
    "\n",
    "print(norm(tup))\n",
    "print(modulo(norm(tup)))"
   ]
  },
  {
   "cell_type": "code",
   "execution_count": null,
   "metadata": {},
   "outputs": [],
   "source": []
  }
 ],
 "metadata": {
  "kernelspec": {
   "display_name": "Python 3",
   "language": "python",
   "name": "python3"
  },
  "language_info": {
   "codemirror_mode": {
    "name": "ipython",
    "version": 3
   },
   "file_extension": ".py",
   "mimetype": "text/x-python",
   "name": "python",
   "nbconvert_exporter": "python",
   "pygments_lexer": "ipython3",
   "version": "3.8.1"
  }
 },
 "nbformat": 4,
 "nbformat_minor": 2
}
