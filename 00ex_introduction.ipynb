{
 "cells": [
  {
   "cell_type": "markdown",
   "metadata": {},
   "source": [
    "1. The MickeyMouse problem\n",
    "\n",
    "a) Write a program that prints the numbers from 1 to 100. But for multiples of three print Mickey instead of the number and for the multiples of five print Mouse. For numbers which are multiples of both three and five print MickeyMouse\n",
    "\n",
    "b) Put the result in a tuple and substitute Mickey with Donald and Mouse with Duck"
   ]
  },
  {
   "cell_type": "code",
   "execution_count": 22,
   "metadata": {},
   "outputs": [
    {
     "name": "stdout",
     "output_type": "stream",
     "text": [
      "1\n",
      "2\n",
      "Mickey\n",
      "4\n",
      "Mouse\n",
      "Mickey\n",
      "7\n",
      "8\n",
      "Mickey\n",
      "Mouse\n",
      "11\n",
      "Mickey\n",
      "13\n",
      "14\n",
      "MickeyMouse\n",
      "16\n",
      "17\n",
      "Mickey\n",
      "19\n",
      "Mouse\n",
      "Mickey\n",
      "22\n",
      "23\n",
      "Mickey\n",
      "Mouse\n",
      "26\n",
      "Mickey\n",
      "28\n",
      "29\n",
      "MickeyMouse\n",
      "31\n",
      "32\n",
      "Mickey\n",
      "34\n",
      "Mouse\n",
      "Mickey\n",
      "37\n",
      "38\n",
      "Mickey\n",
      "Mouse\n",
      "41\n",
      "Mickey\n",
      "43\n",
      "44\n",
      "MickeyMouse\n",
      "46\n",
      "47\n",
      "Mickey\n",
      "49\n",
      "Mouse\n",
      "Mickey\n",
      "52\n",
      "53\n",
      "Mickey\n",
      "Mouse\n",
      "56\n",
      "Mickey\n",
      "58\n",
      "59\n",
      "MickeyMouse\n",
      "61\n",
      "62\n",
      "Mickey\n",
      "64\n",
      "Mouse\n",
      "Mickey\n",
      "67\n",
      "68\n",
      "Mickey\n",
      "Mouse\n",
      "71\n",
      "Mickey\n",
      "73\n",
      "74\n",
      "MickeyMouse\n",
      "76\n",
      "77\n",
      "Mickey\n",
      "79\n",
      "Mouse\n",
      "Mickey\n",
      "82\n",
      "83\n",
      "Mickey\n",
      "Mouse\n",
      "86\n",
      "Mickey\n",
      "88\n",
      "89\n",
      "MickeyMouse\n",
      "91\n",
      "92\n",
      "Mickey\n",
      "94\n",
      "Mouse\n",
      "Mickey\n",
      "97\n",
      "98\n",
      "Mickey\n"
     ]
    }
   ],
   "source": [
    "for i in range(1,100):\n",
    "    if i%3 == 0 and i%5 == 0:\n",
    "        print(\"MickeyMouse\")\n",
    "    elif i%3 == 0:\n",
    "        print(\"Mickey\")\n",
    "    elif i%5== 0:\n",
    "        print(\"Mouse\")\n",
    "    else:\n",
    "        print(i)\n",
    "        \n",
    "\n",
    "# Less if statements could have been made:\n",
    "#\n",
    "# for i in range(1,100)\n",
    "#     if i%3 == 0:\n",
    "#          print(\"Mickey\")\n",
    "#          if i%5 == 0:\n",
    "#               print(\"Mouse\")\n",
    "#     if i%5 == 0:\n",
    "#          print(\"Mouse\")\n",
    "#\n",
    "# But print creates a new line, so for numbers that are multiples of 3 and 5 'Mickey' and 'Mouse' would be\n",
    "# in 2 different lines (also \\b before 'Mouse' doesn't work)"
   ]
  },
  {
   "cell_type": "markdown",
   "metadata": {},
   "source": [
    "2\\. The swap function\n",
    "\n",
    "Write a function that swap the values of two input variables x and y (whatever the type). Try to do that also without a temporary variable"
   ]
  },
  {
   "cell_type": "code",
   "execution_count": 37,
   "metadata": {},
   "outputs": [
    {
     "name": "stdout",
     "output_type": "stream",
     "text": [
      "4 four\n",
      "four 4\n"
     ]
    }
   ],
   "source": [
    "x = 4\n",
    "y = \"four\"\n",
    "\n",
    "print(x,y) # the output is '4 four'\n",
    "\n",
    "# with a temporary variable\n",
    "def swap_values_withtemp():\n",
    "    global x\n",
    "    global y\n",
    "    \n",
    "    temp = x\n",
    "    x = y\n",
    "    y = temp\n",
    "\n",
    "swap_values_withtemp()\n",
    "print(x,y) # being swapped, the output should be 'four 4'"
   ]
  },
  {
   "cell_type": "code",
   "execution_count": 40,
   "metadata": {},
   "outputs": [
    {
     "name": "stdout",
     "output_type": "stream",
     "text": [
      "[4] ['four']\n",
      "[['four']] [4]\n"
     ]
    }
   ],
   "source": [
    "# without a temporary variable, I use lists as a workaround\n",
    "x = [4]\n",
    "y = ['four']\n",
    "\n",
    "print(x,y) # the output is '4 four'\n",
    "\n",
    "# without a temporary variable\n",
    "def swap_values_withouttemp():\n",
    "    global x\n",
    "    global y\n",
    "    \n",
    "    x.append(y)\n",
    "    y = [x[0]]\n",
    "    x.remove(x[0])\n",
    "\n",
    "swap_values_withouttemp()\n",
    "print(x,y) # being swapped again, the output should be the original one '4 four'"
   ]
  },
  {
   "cell_type": "markdown",
   "metadata": {},
   "source": [
    "3\\. Computing the distance\n",
    "\n",
    "Write a function that calculates and returns the euclidean distance between two points *u* and *v*, where *u* and *v* are both 2-tuples *(x,y)*. For example, if *u=(3,0)* and *v=(0,4)*, the function should return 5"
   ]
  },
  {
   "cell_type": "code",
   "execution_count": 46,
   "metadata": {},
   "outputs": [
    {
     "name": "stdout",
     "output_type": "stream",
     "text": [
      "5.0\n",
      "ERROR: The two vectors don't share the same dimension\n"
     ]
    }
   ],
   "source": [
    "import math\n",
    "\n",
    "u = (3,0)\n",
    "v = (0,4)\n",
    "badvector = (1,2,3)\n",
    "\n",
    "def printdistance(a,b):\n",
    "    dim = len(a)\n",
    "    distance = 0\n",
    "    if (dim == len(b)):\n",
    "        # general dimension function\n",
    "        for i in range(dim):\n",
    "            distance += (u[i]-v[i])**2\n",
    "        distance = math.sqrt(distance)\n",
    "        print(distance)\n",
    "    else:\n",
    "        print(\"ERROR: The two vectors don't share the same dimension\")\n",
    "\n",
    "printdistance(u,v)\n",
    "printdistance(u,badvector)"
   ]
  },
  {
   "cell_type": "markdown",
   "metadata": {},
   "source": [
    "4\\. Counting letters\n",
    "\n",
    "Write a program to calculate the number of times each character occurs in a given string *s*. Ignore differneces in capitalization"
   ]
  },
  {
   "cell_type": "code",
   "execution_count": 52,
   "metadata": {},
   "outputs": [
    {
     "name": "stdout",
     "output_type": "stream",
     "text": [
      "a  =  7\n",
      "b  =  5\n",
      "c  =  3\n",
      "d  =  3\n",
      "e  =  22\n",
      "f  =  10\n",
      "g  =  1\n",
      "h  =  9\n",
      "i  =  14\n",
      "j  =  0\n",
      "k  =  2\n",
      "l  =  6\n",
      "m  =  12\n",
      "n  =  10\n",
      "o  =  13\n",
      "p  =  8\n",
      "q  =  0\n",
      "r  =  17\n",
      "s  =  9\n",
      "t  =  19\n",
      "u  =  9\n",
      "v  =  2\n",
      "w  =  2\n",
      "x  =  0\n",
      "y  =  2\n",
      "z  =  0\n"
     ]
    }
   ],
   "source": [
    "s=\"Write a program that prints the numbers from 1 to 100. \\\n",
    "But for multiples of three print Mickey instead of the number and for the multiples of five print Mouse. \\\n",
    "For numbers which are multiples of both three and five print MickeyMouse\"\n",
    "\n",
    "s=s.lower()\n",
    "alfabeto = ('a','b','c','d','e','f','g','h','i','j','k','l','m','n','o','p','q','r','s','t','u','v','w','x','y','z')\n",
    "\n",
    "for i in range(26):\n",
    "    print(alfabeto[i],\" = \", s.count(alfabeto[i]))"
   ]
  },
  {
   "cell_type": "markdown",
   "metadata": {},
   "source": [
    "5\\. Isolating the unique\n",
    "\n",
    "Write a function that determines and count the unique numbers in the list *l*"
   ]
  },
  {
   "cell_type": "code",
   "execution_count": 66,
   "metadata": {},
   "outputs": [
    {
     "name": "stdout",
     "output_type": "stream",
     "text": [
      "{1, 5, 8, 9, 10, 16, 18, 19, 24, 30, 33, 37, 39, 41, 47, 53, 54, 55, 57, 58, 64, 72, 74, 75, 79, 81, 82, 86, 87, 88, 90, 92, 94, 95, 96, 98, 99}\n",
      "The unique numbers are 37\n"
     ]
    }
   ],
   "source": [
    "l = [36, 45, 58, 3, 74, 96, 64, 45, 31, 10, 24, 19, 33, 86, 99, 18, 63, 70, 85,\n",
    " 85, 63, 47, 56, 42, 70, 84, 88, 55, 20, 54, 8, 56, 51, 79, 81, 57, 37, 91,\n",
    " 1, 84, 84, 36, 66, 9, 89, 50, 42, 91, 50, 95, 90, 98, 39, 16, 82, 31, 92, 41,\n",
    " 45, 30, 66, 70, 34, 85, 94, 5, 3, 36, 72, 91, 84, 34, 87, 75, 53, 51, 20, 89, 51, 20]\n",
    "\n",
    "#print(len(l)) 80\n",
    "#print(len(set(l))) 54\n",
    "dim = len(l)\n",
    "g = []\n",
    "for i in range(dim):\n",
    "    if l.count(l[i]) == 1 :\n",
    "        g.append(l[i])\n",
    "\n",
    "print(set(g))\n",
    "print(\"The unique numbers are\", len(g))"
   ]
  },
  {
   "cell_type": "markdown",
   "metadata": {},
   "source": [
    "6\\. Combination of functions\n",
    "\n",
    "Write two functions - one that returns the square of a number, and one that returns the cube. Now write a third function that returns the number raised to the 6th power using the two previous functions."
   ]
  },
  {
   "cell_type": "code",
   "execution_count": 77,
   "metadata": {},
   "outputs": [
    {
     "name": "stdout",
     "output_type": "stream",
     "text": [
      "The square of 2 is 4\n",
      "The cube of 2 is 8\n",
      "64 = 64 = 64\n"
     ]
    }
   ],
   "source": [
    "num = 2\n",
    "\n",
    "def square(a):\n",
    "    return a**2\n",
    "\n",
    "b = square(num)\n",
    "print(\"The square of 2 is\",b)\n",
    "\n",
    "def cube(a):\n",
    "    return a**3\n",
    "\n",
    "c = cube(num)\n",
    "print(\"The cube of 2 is\",c)\n",
    "\n",
    "def sixth_withsquares(a):\n",
    "    return (square(a)*square(a)*square(a))\n",
    "\n",
    "def sixth_withcubes(a):\n",
    "    return (cube(a)*cube(a))\n",
    "\n",
    "d = sixth_withsquares(num)\n",
    "e = sixth_withcubes(num)\n",
    "\n",
    "print(\"64 =\",d,\"=\",e)"
   ]
  },
  {
   "cell_type": "markdown",
   "metadata": {},
   "source": [
    "7\\. Cubes\n",
    "\n",
    "Create a list of the cubes of x for x in *[0, 10]* using:\n",
    "\n",
    "a) a for loop\n",
    "\n",
    "b) a list comprehension"
   ]
  },
  {
   "cell_type": "code",
   "execution_count": 80,
   "metadata": {},
   "outputs": [
    {
     "name": "stdout",
     "output_type": "stream",
     "text": [
      "[0, 1, 8, 27, 64, 125, 216, 343, 512, 729]\n",
      "[0, 1, 8, 27, 64, 125, 216, 343, 512, 729]\n"
     ]
    }
   ],
   "source": [
    "# using a for loop\n",
    "cubes_loop = []\n",
    "\n",
    "for i in range(10):\n",
    "    cubes_loop.append(i**3)\n",
    "    \n",
    "print(cubes_loop)\n",
    "\n",
    "# using list comprehension\n",
    "cubes_com = [x**3 for x in range(10)]\n",
    "\n",
    "print(cubes_com)"
   ]
  },
  {
   "cell_type": "markdown",
   "metadata": {},
   "source": [
    "8\\. Nested list comprehension\n",
    "\n",
    "A Pythagorean triple is an integer solution to the Pythagorean theorem $a^2+b^2=c^2$. The first Pythagorean triple is (3,4,5). Find and put in a tuple all unique Pythagorean triples for the positive integers a, b and c less than 100."
   ]
  },
  {
   "cell_type": "code",
   "execution_count": 97,
   "metadata": {},
   "outputs": [
    {
     "name": "stdout",
     "output_type": "stream",
     "text": [
      "((3, 4, 5.0), (4, 3, 5.0), (5, 12, 13.0), (6, 8, 10.0), (7, 24, 25.0), (8, 6, 10.0), (8, 15, 17.0), (9, 12, 15.0), (9, 40, 41.0), (10, 24, 26.0), (11, 60, 61.0), (12, 5, 13.0), (12, 9, 15.0), (12, 16, 20.0), (12, 35, 37.0), (13, 84, 85.0), (14, 48, 50.0), (15, 8, 17.0), (15, 20, 25.0), (15, 36, 39.0), (16, 12, 20.0), (16, 30, 34.0), (16, 63, 65.0), (18, 24, 30.0), (18, 80, 82.0), (20, 15, 25.0), (20, 21, 29.0), (20, 48, 52.0), (21, 20, 29.0), (21, 28, 35.0), (21, 72, 75.0), (24, 7, 25.0), (24, 10, 26.0), (24, 18, 30.0), (24, 32, 40.0), (24, 45, 51.0), (24, 70, 74.0), (25, 60, 65.0), (27, 36, 45.0), (28, 21, 35.0), (28, 45, 53.0), (30, 16, 34.0), (30, 40, 50.0), (30, 72, 78.0), (32, 24, 40.0), (32, 60, 68.0), (33, 44, 55.0), (33, 56, 65.0), (35, 12, 37.0), (35, 84, 91.0), (36, 15, 39.0), (36, 27, 45.0), (36, 48, 60.0), (36, 77, 85.0), (39, 52, 65.0), (39, 80, 89.0), (40, 9, 41.0), (40, 30, 50.0), (40, 42, 58.0), (40, 75, 85.0), (42, 40, 58.0), (42, 56, 70.0), (44, 33, 55.0), (45, 24, 51.0), (45, 28, 53.0), (45, 60, 75.0), (48, 14, 50.0), (48, 20, 52.0), (48, 36, 60.0), (48, 55, 73.0), (48, 64, 80.0), (51, 68, 85.0), (52, 39, 65.0), (54, 72, 90.0), (55, 48, 73.0), (56, 33, 65.0), (56, 42, 70.0), (57, 76, 95.0), (60, 11, 61.0), (60, 25, 65.0), (60, 32, 68.0), (60, 45, 75.0), (60, 63, 87.0), (63, 16, 65.0), (63, 60, 87.0), (64, 48, 80.0), (65, 72, 97.0), (68, 51, 85.0), (70, 24, 74.0), (72, 21, 75.0), (72, 30, 78.0), (72, 54, 90.0), (72, 65, 97.0), (75, 40, 85.0), (76, 57, 95.0), (77, 36, 85.0), (80, 18, 82.0), (80, 39, 89.0), (84, 13, 85.0), (84, 35, 91.0))\n"
     ]
    }
   ],
   "source": [
    "# isinstance(<var>, int)\n",
    "\n",
    "import math\n",
    "\n",
    "pythagoreannumbers = []\n",
    "for a in range(1,99):\n",
    "    for b in range(1,99):\n",
    "        c = math.sqrt(a**2 + b**2)\n",
    "        \n",
    "        if c.is_integer() and c < 100:\n",
    "            pythagoreannumbers.append((a,b,c))\n",
    "\n",
    "mytuple = tuple(pythagoreannumbers)\n",
    "print(mytuple)"
   ]
  },
  {
   "cell_type": "markdown",
   "metadata": {},
   "source": [
    "9\\. Normalization\n",
    "\n",
    "Write a function that takes a tuple of numbers and returns it with the entries normalized to one"
   ]
  },
  {
   "cell_type": "code",
   "execution_count": 88,
   "metadata": {},
   "outputs": [
    {
     "name": "stdout",
     "output_type": "stream",
     "text": [
      "[0.047619047619047616, 0.09523809523809523, 0.14285714285714285, 0.19047619047619047, 0.23809523809523808, 0.2857142857142857]\n"
     ]
    }
   ],
   "source": [
    "mytuple = (1,2,3,4,5,6)\n",
    "\n",
    "denominator = 0\n",
    "lentuple = len(mytuple)\n",
    "for i in range(lentuple):\n",
    "    denominator += mytuple[i]\n",
    "\n",
    "#print(denominator)\n",
    "\n",
    "normalizedtuple = [ x/denominator for x in mytuple]\n",
    "\n",
    "print(normalizedtuple)"
   ]
  },
  {
   "cell_type": "code",
   "execution_count": null,
   "metadata": {},
   "outputs": [],
   "source": []
  }
 ],
 "metadata": {
  "kernelspec": {
   "display_name": "Python 3",
   "language": "python",
   "name": "python3"
  },
  "language_info": {
   "codemirror_mode": {
    "name": "ipython",
    "version": 3
   },
   "file_extension": ".py",
   "mimetype": "text/x-python",
   "name": "python",
   "nbconvert_exporter": "python",
   "pygments_lexer": "ipython3",
   "version": "3.8.3"
  }
 },
 "nbformat": 4,
 "nbformat_minor": 2
}
