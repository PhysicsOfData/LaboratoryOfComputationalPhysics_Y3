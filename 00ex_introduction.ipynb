{
 "cells": [
  {
   "cell_type": "markdown",
   "metadata": {},
   "source": [
    "1. The MickeyMouse problem\n",
    "\n",
    "a) Write a program that prints the numbers from 1 to 100. But for multiples of three print Mickey instead of the number and for the multiples of five print Mouse. For numbers which are multiples of both three and five print MickeyMouse\n",
    "\n",
    "b) Put the result in a tuple and substitute Mickey with Donald and Mouse with Duck"
   ]
  },
  {
   "cell_type": "code",
   "execution_count": 7,
   "metadata": {},
   "outputs": [
    {
     "name": "stdout",
     "output_type": "stream",
     "text": [
      "\n",
      "--------Before Substitution--------\n",
      "['1', '2', 'Mickey', '4', 'Mouse', 'Mickey', '7', '8', 'Mickey', 'Mouse', '11', 'Mickey', '13', '14', 'MickeyMouse', '16', '17', 'Mickey', '19', 'Mouse', 'Mickey', '22', '23', 'Mickey', 'Mouse', '26', 'Mickey', '28', '29', 'MickeyMouse', '31', '32', 'Mickey', '34', 'Mouse', 'Mickey', '37', '38', 'Mickey', 'Mouse', '41', 'Mickey', '43', '44', 'MickeyMouse', '46', '47', 'Mickey', '49', 'Mouse', 'Mickey', '52', '53', 'Mickey', 'Mouse', '56', 'Mickey', '58', '59', 'MickeyMouse', '61', '62', 'Mickey', '64', 'Mouse', 'Mickey', '67', '68', 'Mickey', 'Mouse', '71', 'Mickey', '73', '74', 'MickeyMouse', '76', '77', 'Mickey', '79', 'Mouse', 'Mickey', '82', '83', 'Mickey', 'Mouse', '86', 'Mickey', '88', '89', 'MickeyMouse', '91', '92', 'Mickey', '94', 'Mouse', 'Mickey', '97', '98', 'Mickey', 'Mouse']\n",
      "\n",
      "------------------AFTER 1st Substitution --------------\n",
      "['1', '2', 'Donald', '4', 'Mouse', 'Donald', '7', '8', 'Donald', 'Mouse', '11', 'Donald', '13', '14', 'DonaldMouse', '16', '17', 'Donald', '19', 'Mouse', 'Donald', '22', '23', 'Donald', 'Mouse', '26', 'Donald', '28', '29', 'DonaldMouse', '31', '32', 'Donald', '34', 'Mouse', 'Donald', '37', '38', 'Donald', 'Mouse', '41', 'Donald', '43', '44', 'DonaldMouse', '46', '47', 'Donald', '49', 'Mouse', 'Donald', '52', '53', 'Donald', 'Mouse', '56', 'Donald', '58', '59', 'DonaldMouse', '61', '62', 'Donald', '64', 'Mouse', 'Donald', '67', '68', 'Donald', 'Mouse', '71', 'Donald', '73', '74', 'DonaldMouse', '76', '77', 'Donald', '79', 'Mouse', 'Donald', '82', '83', 'Donald', 'Mouse', '86', 'Donald', '88', '89', 'DonaldMouse', '91', '92', 'Donald', '94', 'Mouse', 'Donald', '97', '98', 'Donald', 'Mouse']\n",
      "\n",
      "------------------AFTER 2nd Substitution-------------\n",
      "('1', '2', 'Donald', '4', 'Duck', 'Donald', '7', '8', 'Donald', 'Duck', '11', 'Donald', '13', '14', 'DonaldDuck', '16', '17', 'Donald', '19', 'Duck', 'Donald', '22', '23', 'Donald', 'Duck', '26', 'Donald', '28', '29', 'DonaldDuck', '31', '32', 'Donald', '34', 'Duck', 'Donald', '37', '38', 'Donald', 'Duck', '41', 'Donald', '43', '44', 'DonaldDuck', '46', '47', 'Donald', '49', 'Duck', 'Donald', '52', '53', 'Donald', 'Duck', '56', 'Donald', '58', '59', 'DonaldDuck', '61', '62', 'Donald', '64', 'Duck', 'Donald', '67', '68', 'Donald', 'Duck', '71', 'Donald', '73', '74', 'DonaldDuck', '76', '77', 'Donald', '79', 'Duck', 'Donald', '82', '83', 'Donald', 'Duck', '86', 'Donald', '88', '89', 'DonaldDuck', '91', '92', 'Donald', '94', 'Duck', 'Donald', '97', '98', 'Donald', 'Duck')\n"
     ]
    }
   ],
   "source": [
    "Lis = []\n",
    "print(\"\\n--------Before Substitution--------\")\n",
    "for i in range(1,101):\n",
    "    if(i % 3 == 0 and i % 5 == 0 ):\n",
    "        Lis.append(\"MickeyMouse\")\n",
    "    elif( i % 3 == 0 ):\n",
    "        Lis.append(\"Mickey\")\n",
    "    elif( i % 5 == 0 ):\n",
    "        Lis.append(\"Mouse\")\n",
    "    else:    \n",
    "        Lis.append(str(i))\n",
    "        \n",
    "print(Lis)\n",
    "\n",
    "print(\"\\n------------------AFTER 1st Substitution --------------\")\n",
    "Lis = [w.replace('Mickey', 'Donald') for w in Lis]\n",
    "print(Lis)\n",
    "\n",
    "print(\"\\n------------------AFTER 2nd Substitution-------------\")\n",
    "Lis = [w.replace('Mouse', 'Duck') for w in Lis]\n",
    "\n",
    "t = tuple(Lis)\n",
    "print(t)"
   ]
  },
  {
   "cell_type": "markdown",
   "metadata": {},
   "source": [
    "2\\. The swap function\n",
    "\n",
    "Write a function that swap the values of two input variables x and y (whatever the type). Try to do that also without a temporary variable"
   ]
  },
  {
   "cell_type": "code",
   "execution_count": 8,
   "metadata": {},
   "outputs": [
    {
     "name": "stdout",
     "output_type": "stream",
     "text": [
      "-------Without Temporary Variable---------\n",
      "\n",
      "Before swap a = 17 and b = 52\n",
      "\n",
      "Afterswap a = 52 and b = 17\n",
      "\n",
      "-------With Temporary Variable---------\n",
      "\n",
      "Before swap a = 17 and b = 52\n",
      "\n",
      "Afterswap a = 52 and b = 17\n"
     ]
    }
   ],
   "source": [
    "print(\"-------Without Temporary Variable---------\")\n",
    "def swap(a, b):\n",
    "    print(\"\\nBefore swap a = %d and b = %d\" %(a, b))\n",
    "    a,b = b,a\n",
    "    print(\"\\nAfterswap a = %d and b = %d\" %(a, b))\n",
    "        \n",
    "swap(17,52)\n",
    "\n",
    "print(\"\\n-------With Temporary Variable---------\")\n",
    "\n",
    "def swap(a, b):\n",
    "    print(\"\\nBefore swap a = %d and b = %d\" %(a, b))\n",
    "    temp = a\n",
    "    a = b\n",
    "    b = temp\n",
    "    print(\"\\nAfter swap a = %d and b = %d\" %(a, b))\n",
    "        \n",
    "swap(17,52)"
   ]
  },
  {
   "cell_type": "markdown",
   "metadata": {},
   "source": [
    "3\\. Computing the distance\n",
    "\n",
    "Write a function that calculates and returns the euclidean distance between two points *u* and *v*, where *u* and *v* are both 2-tuples *(x,y)*. For example, if *u=(3,0)* and *v=(0,4)*, the function should return 5"
   ]
  },
  {
   "cell_type": "code",
   "execution_count": 12,
   "metadata": {},
   "outputs": [
    {
     "name": "stdout",
     "output_type": "stream",
     "text": [
      "5.0\n",
      "None\n"
     ]
    }
   ],
   "source": [
    "import math \n",
    "\n",
    "def Euclidean(u,v):\n",
    "    distance = math.sqrt (sum ([(a - b) ** 2 for a, b in zip(u, v)]) )\n",
    "    print(distance)\n",
    "    \n",
    "u = (3,0)\n",
    "v = (0,4)\n",
    "\n",
    "print(Euclidean(u,v))  "
   ]
  },
  {
   "cell_type": "markdown",
   "metadata": {},
   "source": [
    "4. Counting letters\n",
    "\n",
    "Write a program to calculate the number of times each character occurs in a given string *s*. Ignore differneces in capitalization"
   ]
  },
  {
   "cell_type": "code",
   "execution_count": 16,
   "metadata": {},
   "outputs": [
    {
     "name": "stdout",
     "output_type": "stream",
     "text": [
      "{'W': 1, 'r': 17, 'i': 14, 't': 19, 'e': 22, ' ': 41, 'a': 7, 'p': 8, 'o': 13, 'g': 1, 'm': 8, 'h': 9, 'n': 10, 's': 9, 'u': 9, 'b': 4, 'f': 9, '1': 2, '0': 2, '.': 2, 'B': 1, 'l': 6, 'M': 4, 'c': 3, 'k': 2, 'y': 2, 'd': 3, 'v': 2, 'F': 1, 'w': 1}\n"
     ]
    }
   ],
   "source": [
    "s=\"Write a program that prints the numbers from 1 to 100. \\\n",
    "But for multiples of three print Mickey instead of the number and for the multiples of five print Mouse. \\\n",
    "For numbers which are multiples of both three and five print MickeyMouse\"\n",
    "\n",
    "\n",
    "def char_count(string):\n",
    "    dict = {}\n",
    "    for n in string:\n",
    "        keys = dict.keys()\n",
    "        if n in keys:\n",
    "            dict[n] += 1\n",
    "        else:\n",
    "            dict[n] = 1\n",
    "    return dict\n",
    "\n",
    "print( char_count(s) )\n",
    "\n",
    "\n",
    "\n"
   ]
  },
  {
   "cell_type": "markdown",
   "metadata": {},
   "source": [
    "5\\. Isolating the unique\n",
    "\n",
    "Write a function that determines and count the unique numbers in the list *l*"
   ]
  },
  {
   "cell_type": "code",
   "execution_count": 17,
   "metadata": {},
   "outputs": [
    {
     "name": "stdout",
     "output_type": "stream",
     "text": [
      "\n",
      "Number Frequency :  Counter({84: 4, 36: 3, 45: 3, 70: 3, 85: 3, 20: 3, 51: 3, 91: 3, 3: 2, 31: 2, 63: 2, 56: 2, 42: 2, 66: 2, 89: 2, 50: 2, 34: 2, 58: 1, 74: 1, 96: 1, 64: 1, 10: 1, 24: 1, 19: 1, 33: 1, 86: 1, 99: 1, 18: 1, 47: 1, 88: 1, 55: 1, 54: 1, 8: 1, 79: 1, 81: 1, 57: 1, 37: 1, 1: 1, 9: 1, 95: 1, 90: 1, 98: 1, 39: 1, 16: 1, 82: 1, 92: 1, 41: 1, 30: 1, 94: 1, 5: 1, 72: 1, 87: 1, 75: 1, 53: 1})\n",
      "\n",
      "Unique Numbers  dict_keys([36, 45, 58, 3, 74, 96, 64, 31, 10, 24, 19, 33, 86, 99, 18, 63, 70, 85, 47, 56, 42, 84, 88, 55, 20, 54, 8, 51, 79, 81, 57, 37, 91, 1, 66, 9, 89, 50, 95, 90, 98, 39, 16, 82, 92, 41, 30, 34, 94, 5, 72, 87, 75, 53])\n"
     ]
    }
   ],
   "source": [
    "l = [36, 45, 58, 3, 74, 96, 64, 45, 31, 10, 24, 19, 33, 86, 99, 18, 63, 70, 85,\n",
    " 85, 63, 47, 56, 42, 70, 84, 88, 55, 20, 54, 8, 56, 51, 79, 81, 57, 37, 91,\n",
    " 1, 84, 84, 36, 66, 9, 89, 50, 42, 91, 50, 95, 90, 98, 39, 16, 82, 31, 92, 41,\n",
    " 45, 30, 66, 70, 34, 85, 94, 5, 3, 36, 72, 91, 84, 34, 87, 75, 53, 51, 20, 89, 51, 20]\n",
    "\n",
    "import collections\n",
    "\n",
    "def uniq_num(Lis) :\n",
    "     counter=collections.Counter(Lis)\n",
    "     print(\"\\nNumber Frequency : \",counter)\n",
    "     print(\"\\nUnique Numbers \",counter.keys())\n",
    "        \n",
    "uniq_num(l)"
   ]
  },
  {
   "cell_type": "markdown",
   "metadata": {},
   "source": [
    "6\\. Combination of functions\n",
    "\n",
    "Write two functions - one that returns the square of a number, and one that returns the cube. Now write a third function that returns the number raised to the 6th power using the two previous functions."
   ]
  },
  {
   "cell_type": "code",
   "execution_count": 4,
   "metadata": {},
   "outputs": [
    {
     "name": "stdout",
     "output_type": "stream",
     "text": [
      "Square : 1\n",
      "Cube : 8\n",
      "Sixth power : 531441\n"
     ]
    }
   ],
   "source": [
    "\n",
    "def square(a):\n",
    "    print(\"Square :\",a**2)\n",
    "    return a**2;\n",
    "    \n",
    "def cube(b):\n",
    "    print(\"Cube :\",b**3)\n",
    "    return b**3;\n",
    "    \n",
    "def sixth(c,d):\n",
    "    print(\"Sixth power :\",(c+d)**6)\n",
    "\n",
    "c = square(1)\n",
    "d = cube(2)\n",
    "sixth(c,d)\n",
    "\n"
   ]
  },
  {
   "cell_type": "markdown",
   "metadata": {},
   "source": [
    "7\\. Cubes\n",
    "\n",
    "Create a list of the cubes of x for x in *[0, 10]* using:\n",
    "\n",
    "a) a for loop\n",
    "\n",
    "b) a list comprehension"
   ]
  },
  {
   "cell_type": "code",
   "execution_count": 7,
   "metadata": {},
   "outputs": [
    {
     "name": "stdout",
     "output_type": "stream",
     "text": [
      "-- list of the cubes using for loop--\n",
      "0\n",
      "1\n",
      "8\n",
      "27\n",
      "64\n",
      "125\n",
      "216\n",
      "343\n",
      "512\n",
      "729\n",
      "\n",
      "-- list of the cubes using List Comprehension--\n",
      "[0, 1, 8, 27, 64, 125, 216, 343, 512, 729]\n"
     ]
    }
   ],
   "source": [
    "print(\"-- list of the cubes using for loop--\")\n",
    "for x in range ( 0, 10):\n",
    "    print(x ** 3)\n",
    "print(\"\\n-- list of the cubes using List Comprehension--\")\n",
    "cubes = [ x**3 for x in range(10)]\n",
    "print(cubes)\n",
    "    "
   ]
  },
  {
   "cell_type": "markdown",
   "metadata": {},
   "source": [
    "8\\. Nested list comprehension\n",
    "\n",
    "A Pythagorean triple is an integer solution to the Pythagorean theorem $a^2+b^2=c^2$. The first Pythagorean triple is (3,4,5). Find and put in a tuple all unique Pythagorean triples for the positive integers a, b and c less than 100."
   ]
  },
  {
   "cell_type": "code",
   "execution_count": 21,
   "metadata": {},
   "outputs": [
    {
     "name": "stdout",
     "output_type": "stream",
     "text": [
      "---- Pythagorean tuple upto  100----\n",
      "3 4 5\n",
      "8 6 10\n",
      "5 12 13\n",
      "15 8 17\n",
      "12 16 20\n",
      "7 24 25\n",
      "24 10 26\n",
      "21 20 29\n",
      "16 30 34\n",
      "9 40 41\n",
      "35 12 37\n",
      "32 24 40\n",
      "27 36 45\n",
      "20 48 52\n",
      "11 60 61\n",
      "48 14 50\n",
      "45 28 53\n",
      "40 42 58\n",
      "33 56 65\n",
      "24 70 74\n",
      "13 84 85\n",
      "63 16 65\n",
      "60 32 68\n",
      "55 48 73\n",
      "48 64 80\n",
      "39 80 89\n",
      "28 96 100\n"
     ]
    }
   ],
   "source": [
    "\n",
    "def pythagoreanTriplets(limits) : \n",
    "    c, m = 0, 2\n",
    "    while c < limits : \n",
    "        for n in range(1, m) : \n",
    "            a = m * m - n * n \n",
    "            b = 2 * m * n \n",
    "            c = m * m + n * n \n",
    "\n",
    "            if c > limits : \n",
    "                break\n",
    "            print(a, b, c) \n",
    "  \n",
    "        m = m + 1\n",
    "print(\"---- Pythagorean tuple upto  100----\")\n",
    "\n",
    "pythagoreanTriplets(100)\n"
   ]
  },
  {
   "cell_type": "markdown",
   "metadata": {},
   "source": [
    "9\\. Normalization\n",
    "\n",
    "Write a function that takes a tuple of numbers and returns it with the entries normalized to one"
   ]
  },
  {
   "cell_type": "code",
   "execution_count": 8,
   "metadata": {},
   "outputs": [
    {
     "name": "stdout",
     "output_type": "stream",
     "text": [
      "[3, 4, 5]\n"
     ]
    }
   ],
   "source": [
    "def sumtupleinlist(lst):\n",
    "    return [sum(i) for i in lst]\n",
    "\n",
    "list = [(1, 2), (1, 3), (2, 3)]\n",
    "\n",
    "\n",
    "print(sumtupleinlist(list))"
   ]
  }
 ],
 "metadata": {
  "kernelspec": {
   "display_name": "Python 3",
   "language": "python",
   "name": "python3"
  },
  "language_info": {
   "codemirror_mode": {
    "name": "ipython",
    "version": 3
   },
   "file_extension": ".py",
   "mimetype": "text/x-python",
   "name": "python",
   "nbconvert_exporter": "python",
   "pygments_lexer": "ipython3",
   "version": "3.7.6"
  }
 },
 "nbformat": 4,
 "nbformat_minor": 2
}
