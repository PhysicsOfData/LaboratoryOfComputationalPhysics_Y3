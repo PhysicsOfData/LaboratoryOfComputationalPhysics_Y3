{
 "cells": [
  {
   "cell_type": "markdown",
   "metadata": {},
   "source": [
    "1. The MickeyMouse problem\n",
    "\n",
    "a) Write a program that prints the numbers from 1 to 100. But for multiples of three print Mickey instead of the number and for the multiples of five print Mouse. For numbers which are multiples of both three and five print MickeyMouse\n",
    "\n",
    "b) Put the result in a tuple and substitute Mickey with Donald and Mouse with Duck"
   ]
  },
  {
   "cell_type": "code",
   "execution_count": 47,
   "metadata": {},
   "outputs": [
    {
     "name": "stdout",
     "output_type": "stream",
     "text": [
      "1\n",
      "2\n",
      "Mickey\n",
      "4\n",
      "Mouse\n",
      "Mickey\n",
      "7\n",
      "8\n",
      "Mickey\n",
      "Mouse\n",
      "11\n",
      "Mickey\n",
      "13\n",
      "14\n",
      "Mickey Mouse\n",
      "16\n",
      "17\n",
      "Mickey\n",
      "19\n",
      "Mouse\n",
      "Mickey\n",
      "22\n",
      "23\n",
      "Mickey\n",
      "Mouse\n",
      "26\n",
      "Mickey\n",
      "28\n",
      "29\n",
      "Mickey Mouse\n",
      "31\n",
      "32\n",
      "Mickey\n",
      "34\n",
      "Mouse\n",
      "Mickey\n",
      "37\n",
      "38\n",
      "Mickey\n",
      "Mouse\n",
      "41\n",
      "Mickey\n",
      "43\n",
      "44\n",
      "Mickey Mouse\n",
      "46\n",
      "47\n",
      "Mickey\n",
      "49\n",
      "Mouse\n",
      "Mickey\n",
      "52\n",
      "53\n",
      "Mickey\n",
      "Mouse\n",
      "56\n",
      "Mickey\n",
      "58\n",
      "59\n",
      "Mickey Mouse\n",
      "61\n",
      "62\n",
      "Mickey\n",
      "64\n",
      "Mouse\n",
      "Mickey\n",
      "67\n",
      "68\n",
      "Mickey\n",
      "Mouse\n",
      "71\n",
      "Mickey\n",
      "73\n",
      "74\n",
      "Mickey Mouse\n",
      "76\n",
      "77\n",
      "Mickey\n",
      "79\n",
      "Mouse\n",
      "Mickey\n",
      "82\n",
      "83\n",
      "Mickey\n",
      "Mouse\n",
      "86\n",
      "Mickey\n",
      "88\n",
      "89\n",
      "Mickey Mouse\n",
      "91\n",
      "92\n",
      "Mickey\n",
      "94\n",
      "Mouse\n",
      "Mickey\n",
      "97\n",
      "98\n",
      "Mickey\n",
      "Mouse\n",
      "(100,)\n"
     ]
    }
   ],
   "source": [
    "for i in range (1, 101): \n",
    "    if i%3 ==0 and i%5 !=0: \n",
    "        print (\"Mickey\")\n",
    "    elif i%5 ==0 and i%3 !=0: \n",
    "        print (\"Mouse\")\n",
    "    elif i%5 ==0 and i%3 ==0: \n",
    "        print (\"Mickey Mouse\")\n",
    "    else :\n",
    "        print (i)\n",
    "     \n"
   ]
  },
  {
   "cell_type": "markdown",
   "metadata": {},
   "source": [
    "2\\. The swap function\n",
    "\n",
    "Write a function that swap the values of two input variables x and y (whatever the type). Try to do that also without a temporary variable"
   ]
  },
  {
   "cell_type": "code",
   "execution_count": 39,
   "metadata": {},
   "outputs": [
    {
     "name": "stdout",
     "output_type": "stream",
     "text": [
      "set the value of x: 33\n",
      "set the value of y: 4\n",
      "x = 4 , y = 33\n"
     ]
    }
   ],
   "source": [
    "x=input(\"set the value of x: \")\n",
    "y=input(\"set the value of y: \")\n",
    "\n",
    "def swap():\n",
    "    global x\n",
    "    global y\n",
    "    z=x\n",
    "    x=y\n",
    "    y=z\n",
    "    \n",
    "swap ()\n",
    "print(\"x =\", x, \", y =\", y)"
   ]
  },
  {
   "cell_type": "markdown",
   "metadata": {},
   "source": [
    "3\\. Computing the distance\n",
    "\n",
    "Write a function that calculates and returns the euclidean distance between two points *u* and *v*, where *u* and *v* are both 2-tuples *(x,y)*. For example, if *u=(3,0)* and *v=(0,4)*, the function should return 5"
   ]
  },
  {
   "cell_type": "code",
   "execution_count": 15,
   "metadata": {},
   "outputs": [
    {
     "data": {
      "text/plain": [
       "5.0"
      ]
     },
     "execution_count": 15,
     "metadata": {},
     "output_type": "execute_result"
    }
   ],
   "source": [
    "import math\n",
    "def distance (a, b):\n",
    "    try:\n",
    "        d = math.sqrt ( math.pow ( a[0] - b[0], 2) + math.pow ( a[1] - b[1], 2) )\n",
    "        return (d)\n",
    "    except:\n",
    "        print (\"can't compute distance for this type of objects\")\n",
    "        \n",
    "        \n",
    "u = (3, 0)\n",
    "v = (0, 4)\n",
    "\n",
    "distance (u, v)"
   ]
  },
  {
   "cell_type": "markdown",
   "metadata": {},
   "source": [
    "4\\. Counting letters\n",
    "\n",
    "Write a program to calculate the number of times each character occurs in a given string *s*. Ignore differneces in capitalization"
   ]
  },
  {
   "cell_type": "code",
   "execution_count": 16,
   "metadata": {},
   "outputs": [
    {
     "name": "stdout",
     "output_type": "stream",
     "text": [
      "  : appears\n",
      "i : appears\n",
      "  : appears\n",
      "t : appears\n",
      "o : appears\n",
      "p : appears\n",
      "i : appears\n",
      "  : appears\n",
      "n : appears\n",
      "o : appears\n",
      "n : appears\n",
      "  : appears\n",
      "a : appears\n",
      "v : appears\n",
      "e : appears\n",
      "v : appears\n",
      "a : appears\n",
      "n : appears\n",
      "o : appears\n",
      "  : appears\n",
      "n : appears\n",
      "i : appears\n",
      "p : appears\n",
      "o : appears\n",
      "t : appears\n",
      "i : appears\n"
     ]
    }
   ],
   "source": [
    "s = \"i topi non avevano NIPOTI\"\n",
    "for \n",
    "\n",
    "    "
   ]
  },
  {
   "cell_type": "markdown",
   "metadata": {},
   "source": [
    "5\\. Isolating the unique\n",
    "\n",
    "Write a function that determines and count the unique numbers in the list *l*"
   ]
  },
  {
   "cell_type": "code",
   "execution_count": 20,
   "metadata": {},
   "outputs": [
    {
     "name": "stdout",
     "output_type": "stream",
     "text": [
      "3 is prime\n",
      "31 is prime\n",
      "19 is prime\n",
      "47 is prime\n",
      "79 is prime\n",
      "37 is prime\n",
      "89 is prime\n",
      "31 is prime\n",
      "41 is prime\n",
      "5 is prime\n",
      "3 is prime\n",
      "53 is prime\n",
      "89 is prime\n"
     ]
    },
    {
     "data": {
      "text/plain": [
       "13"
      ]
     },
     "execution_count": 20,
     "metadata": {},
     "output_type": "execute_result"
    }
   ],
   "source": [
    "l = [36, 45, 58, 3, 74, 96, 64, 45, 31, 10, 24, 19, 33, 86, 99, 18, 63, 70, 85,\n",
    " 85, 63, 47, 56, 42, 70, 84, 88, 55, 20, 54, 8, 56, 51, 79, 81, 57, 37, 91,\n",
    " 1, 84, 84, 36, 66, 9, 89, 50, 42, 91, 50, 95, 90, 98, 39, 16, 82, 31, 92, 41,\n",
    " 45, 30, 66, 70, 34, 85, 94, 5, 3, 36, 72, 91, 84, 34, 87, 75, 53, 51, 20, 89, 51, 20]\n",
    "\n",
    "import math\n",
    "\n",
    "def unique (a):\n",
    "    try:\n",
    "        count = 0\n",
    "        for i in a: \n",
    "            countDivisor = 0\n",
    "            c = int ( math.sqrt (i) ) +1\n",
    "            for j in range (2, c+1):\n",
    "                if i % j == 0:\n",
    "                    countDivisor = countDivisor + 1\n",
    "            if countDivisor == 0 and i != 1:\n",
    "                print (i, \"is prime\")\n",
    "                count = count +1\n",
    "            \n",
    "                    \n",
    "        return (count)\n",
    "\n",
    "    except:\n",
    "        print(\"can'do this operation on \", a)\n",
    "        \n",
    "unique (l)"
   ]
  },
  {
   "cell_type": "markdown",
   "metadata": {},
   "source": [
    "6\\. Combination of functions\n",
    "\n",
    "Write two functions - one that returns the square of a number, and one that returns the cube. Now write a third function that returns the number raised to the 6th power using the two previous functions."
   ]
  },
  {
   "cell_type": "code",
   "execution_count": 27,
   "metadata": {},
   "outputs": [
    {
     "data": {
      "text/plain": [
       "64.0"
      ]
     },
     "execution_count": 27,
     "metadata": {},
     "output_type": "execute_result"
    }
   ],
   "source": [
    "import math\n",
    "def square (a):\n",
    "    try:\n",
    "        return ( math.pow( a, 2 ) )\n",
    "    except:\n",
    "        print (\"can't do this operation on \", a)\n",
    "\n",
    "def cube (a):\n",
    "    try:\n",
    "        return ( math.pow(a, 3) )\n",
    "    except:\n",
    "        print (\"can't do this operation on \", a)\n",
    "        \n",
    "def sixthPower (a):\n",
    "    try:\n",
    "        return ( cube ( square(a) ) )\n",
    "    except:\n",
    "        print (\"can't do this operation on \", a)\n",
    "        \n",
    "        \n",
    "sixthPower(2)\n"
   ]
  },
  {
   "cell_type": "markdown",
   "metadata": {},
   "source": [
    "7\\. Cubes\n",
    "\n",
    "Create a list of the cubes of x for x in *[0, 10]* using:\n",
    "\n",
    "a) a for loop\n",
    "\n",
    "b) a list comprehension"
   ]
  },
  {
   "cell_type": "code",
   "execution_count": 28,
   "metadata": {},
   "outputs": [
    {
     "name": "stdout",
     "output_type": "stream",
     "text": [
      "0.0\n",
      "1.0\n",
      "8.0\n",
      "27.0\n",
      "64.0\n",
      "125.0\n",
      "216.0\n",
      "343.0\n",
      "512.0\n",
      "729.0\n",
      "1000.0\n"
     ]
    }
   ],
   "source": [
    "for i in range (0, 11):\n",
    "    print ( cube(i) )"
   ]
  },
  {
   "cell_type": "code",
   "execution_count": 30,
   "metadata": {},
   "outputs": [
    {
     "name": "stdout",
     "output_type": "stream",
     "text": [
      "[0.0, 1.0, 8.0, 27.0, 64.0, 125.0, 216.0, 343.0, 512.0, 729.0, 1000.0]\n"
     ]
    }
   ],
   "source": [
    "cubes = [ cube(x) for x in range(11) ]\n",
    "print ( cubes )\n"
   ]
  },
  {
   "cell_type": "markdown",
   "metadata": {},
   "source": [
    "8\\. Nested list comprehension\n",
    "\n",
    "A Pythagorean triple is an integer solution to the Pythagorean theorem $a^2+b^2=c^2$. The first Pythagorean triple is (3,4,5). Find and put in a tuple all unique Pythagorean triples for the positive integers a, b and c less than 100."
   ]
  },
  {
   "cell_type": "code",
   "execution_count": null,
   "metadata": {},
   "outputs": [],
   "source": []
  },
  {
   "cell_type": "markdown",
   "metadata": {},
   "source": [
    "9\\. Normalization\n",
    "\n",
    "Write a function that takes a tuple of numbers and returns it with the entries normalized to one"
   ]
  },
  {
   "cell_type": "code",
   "execution_count": null,
   "metadata": {},
   "outputs": [],
   "source": []
  }
 ],
 "metadata": {
  "kernelspec": {
   "display_name": "Python 3",
   "language": "python",
   "name": "python3"
  },
  "language_info": {
   "codemirror_mode": {
    "name": "ipython",
    "version": 3
   },
   "file_extension": ".py",
   "mimetype": "text/x-python",
   "name": "python",
   "nbconvert_exporter": "python",
   "pygments_lexer": "ipython3",
   "version": "3.6.9"
  }
 },
 "nbformat": 4,
 "nbformat_minor": 2
}
