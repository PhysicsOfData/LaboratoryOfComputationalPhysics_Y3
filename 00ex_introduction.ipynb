{
 "cells": [
  {
   "cell_type": "markdown",
   "metadata": {},
   "source": [
    "1. The MickeyMouse problem\n",
    "\n",
    "a) Write a program that prints the numbers from 1 to 100. But for multiples of three print Mickey instead of the number and for the multiples of five print Mouse. For numbers which are multiples of both three and five print MickeyMouse"
   ]
  },
  {
   "cell_type": "code",
   "execution_count": 1,
   "metadata": {},
   "outputs": [
    {
     "name": "stdout",
     "output_type": "stream",
     "text": [
      "1\n",
      "2\n",
      "Mickey\n",
      "4\n",
      "Mouse\n",
      "Mickey\n",
      "7\n",
      "8\n",
      "Mickey\n",
      "Mouse\n",
      "11\n",
      "Mickey\n",
      "13\n",
      "14\n",
      "MickeyMouse\n",
      "16\n",
      "17\n",
      "Mickey\n",
      "19\n",
      "Mouse\n",
      "Mickey\n",
      "22\n",
      "23\n",
      "Mickey\n",
      "Mouse\n",
      "26\n",
      "Mickey\n",
      "28\n",
      "29\n",
      "MickeyMouse\n",
      "31\n",
      "32\n",
      "Mickey\n",
      "34\n",
      "Mouse\n",
      "Mickey\n",
      "37\n",
      "38\n",
      "Mickey\n",
      "Mouse\n",
      "41\n",
      "Mickey\n",
      "43\n",
      "44\n",
      "MickeyMouse\n",
      "46\n",
      "47\n",
      "Mickey\n",
      "49\n",
      "Mouse\n",
      "Mickey\n",
      "52\n",
      "53\n",
      "Mickey\n",
      "Mouse\n",
      "56\n",
      "Mickey\n",
      "58\n",
      "59\n",
      "MickeyMouse\n",
      "61\n",
      "62\n",
      "Mickey\n",
      "64\n",
      "Mouse\n",
      "Mickey\n",
      "67\n",
      "68\n",
      "Mickey\n",
      "Mouse\n",
      "71\n",
      "Mickey\n",
      "73\n",
      "74\n",
      "MickeyMouse\n",
      "76\n",
      "77\n",
      "Mickey\n",
      "79\n",
      "Mouse\n",
      "Mickey\n",
      "82\n",
      "83\n",
      "Mickey\n",
      "Mouse\n",
      "86\n",
      "Mickey\n",
      "88\n",
      "89\n",
      "MickeyMouse\n",
      "91\n",
      "92\n",
      "Mickey\n",
      "94\n",
      "Mouse\n",
      "Mickey\n",
      "97\n",
      "98\n",
      "Mickey\n",
      "Mouse\n"
     ]
    }
   ],
   "source": [
    "for i in range(1,101): \n",
    "    if (i%3==0 and i%5!=0):\n",
    "        print(\"Mickey\")\n",
    "    elif (i%3!=0 and i%5==0):\n",
    "        print(\"Mouse\")\n",
    "    elif (i%3==0 and i%5==0):\n",
    "        print(\"MickeyMouse\")\n",
    "    else:\n",
    "        print(i)"
   ]
  },
  {
   "cell_type": "markdown",
   "metadata": {},
   "source": [
    "b) Put the result in a tuple and substitute Mickey with Donald and Mouse with Duck"
   ]
  },
  {
   "cell_type": "code",
   "execution_count": 2,
   "metadata": {},
   "outputs": [
    {
     "name": "stdout",
     "output_type": "stream",
     "text": [
      "(1, 2, 'Donald', 4, 'Duck', 'Donald', 7, 8, 'Donald', 'Duck', 11, 'Donald', 13, 14, 'DonaldDuck', 16, 17, 'Donald', 19, 'Duck', 'Donald', 22, 23, 'Donald', 'Duck', 26, 'Donald', 28, 29, 'DonaldDuck', 31, 32, 'Donald', 34, 'Duck', 'Donald', 37, 38, 'Donald', 'Duck', 41, 'Donald', 43, 44, 'DonaldDuck', 46, 47, 'Donald', 49, 'Duck', 'Donald', 52, 53, 'Donald', 'Duck', 56, 'Donald', 58, 59, 'DonaldDuck', 61, 62, 'Donald', 64, 'Duck', 'Donald', 67, 68, 'Donald', 'Duck', 71, 'Donald', 73, 74, 'DonaldDuck', 76, 77, 'Donald', 79, 'Duck', 'Donald', 82, 83, 'Donald', 'Duck', 86, 'Donald', 88, 89, 'DonaldDuck', 91, 92, 'Donald', 94, 'Duck', 'Donald', 97, 98, 'Donald', 'Duck')\n"
     ]
    }
   ],
   "source": [
    "my_list = []\n",
    "\n",
    "# create a list instead of a tuple\n",
    "# because I can not change the tuple variables\n",
    "for i in range(1,101): \n",
    "    if (i%3==0 and i%5!=0):\n",
    "        my_list.append(\"Mickey\")\n",
    "    elif (i%3!=0 and i%5==0):\n",
    "        my_list.append(\"Mouse\")\n",
    "    elif (i%3==0 and i%5==0):\n",
    "        my_list.append(\"MickeyMouse\")\n",
    "    else:\n",
    "        my_list.append(i)\n",
    "        \n",
    "# now I can change the list variables \n",
    "for j in range(0,len(my_list)):\n",
    "    a = my_list[j]\n",
    "    if (a == \"Mickey\"):\n",
    "        my_list[j] = \"Donald\"\n",
    "    elif (a == \"Mouse\"):\n",
    "        my_list[j] = \"Duck\"\n",
    "    elif (a == \"MickeyMouse\"):\n",
    "        my_list[j] = \"DonaldDuck\"\n",
    "\n",
    "# change list to tuple\n",
    "my_list = tuple(my_list)\n",
    "\n",
    "print(my_list)"
   ]
  },
  {
   "cell_type": "markdown",
   "metadata": {},
   "source": [
    "2\\. The swap function\n",
    "\n",
    "Write a function that swap the values of two input variables x and y (whatever the type). Try to do that also without a temporary variable"
   ]
  },
  {
   "cell_type": "code",
   "execution_count": 5,
   "metadata": {},
   "outputs": [
    {
     "name": "stdin",
     "output_type": "stream",
     "text": [
      "set x =  5\n",
      "set y =  6\n"
     ]
    },
    {
     "name": "stdout",
     "output_type": "stream",
     "text": [
      "x now is = 6 and y now is = 5\n"
     ]
    }
   ],
   "source": [
    "x = input(\"set x = \")\n",
    "y = input(\"set y = \")\n",
    "\n",
    "# function swap: swaps the values of the variables\n",
    "def swap():\n",
    "    global x\n",
    "    global y\n",
    "    t = x\n",
    "    x = y\n",
    "    y = t\n",
    "\n",
    "swap()\n",
    "\n",
    "print(\"x now is = \" + x + \" and y now is = \" + y)"
   ]
  },
  {
   "cell_type": "code",
   "execution_count": 6,
   "metadata": {},
   "outputs": [
    {
     "name": "stdin",
     "output_type": "stream",
     "text": [
      "set w =  5\n",
      "set z =  9\n"
     ]
    },
    {
     "name": "stdout",
     "output_type": "stream",
     "text": [
      "w now is = 9 and z now is = 5\n"
     ]
    }
   ],
   "source": [
    "w = int(input(\"set w = \"))\n",
    "z = int(input(\"set z = \"))\n",
    "\n",
    "# without temporary variable\n",
    "def new_swap():\n",
    "    global w\n",
    "    global z\n",
    "    w = w + z\n",
    "    z = w - z\n",
    "    w = w - z\n",
    "    \n",
    "new_swap()\n",
    "\n",
    "print(\"w now is = \" + str(w) + \" and z now is = \" + str(z))"
   ]
  },
  {
   "cell_type": "markdown",
   "metadata": {},
   "source": [
    "3\\. Computing the distance\n",
    "\n",
    "Write a function that calculates and returns the euclidean distance between two points *u* and *v*, where *u* and *v* are both 2-tuples *(x,y)*. For example, if *u=(3,0)* and *v=(0,4)*, the function should return 5"
   ]
  },
  {
   "cell_type": "code",
   "execution_count": 8,
   "metadata": {},
   "outputs": [
    {
     "name": "stdin",
     "output_type": "stream",
     "text": [
      "set x1 =  5\n",
      "set y1 =  2\n",
      "set x2 =  7\n",
      "set y2 =  12\n"
     ]
    },
    {
     "name": "stdout",
     "output_type": "stream",
     "text": [
      "10.198039027185569\n"
     ]
    }
   ],
   "source": [
    "import math\n",
    "\n",
    "x1 = input(\"set x1 = \")\n",
    "y1 = input(\"set y1 = \")\n",
    "\n",
    "x2 = input(\"set x2 = \")\n",
    "y2 = input(\"set y2 = \")\n",
    "\n",
    "u = (x1, y1)\n",
    "v = (x2, y2)\n",
    "\n",
    "def euclidian_distance(u1, u2, v1, v2):\n",
    "    distance = math.sqrt((float(v1)-float(u1))**2 + (float(v2)-float(u2))**2)\n",
    "    return distance\n",
    "    \n",
    "print(euclidian_distance(u[0], u[1], v[0], v[1]))"
   ]
  },
  {
   "cell_type": "markdown",
   "metadata": {},
   "source": [
    "4\\. Counting letters\n",
    "\n",
    "Write a program to calculate the number of times each character occurs in a given string *s*. Ignore differneces in capitalization"
   ]
  },
  {
   "cell_type": "code",
   "execution_count": 9,
   "metadata": {},
   "outputs": [
    {
     "name": "stdout",
     "output_type": "stream",
     "text": [
      "Character a appears 7 times\n",
      "Character b appears 5 times\n",
      "Character c appears 3 times\n",
      "Character d appears 3 times\n",
      "Character e appears 22 times\n",
      "Character f appears 10 times\n",
      "Character g appears 1 times\n",
      "Character h appears 9 times\n",
      "Character i appears 14 times\n",
      "Character j appears 0 times\n",
      "Character k appears 2 times\n",
      "Character l appears 6 times\n",
      "Character m appears 12 times\n",
      "Character n appears 10 times\n",
      "Character o appears 13 times\n",
      "Character p appears 8 times\n",
      "Character q appears 0 times\n",
      "Character r appears 17 times\n",
      "Character s appears 9 times\n",
      "Character t appears 19 times\n",
      "Character u appears 9 times\n",
      "Character v appears 2 times\n",
      "Character w appears 2 times\n",
      "Character x appears 0 times\n",
      "Character y appears 2 times\n",
      "Character z appears 0 times\n"
     ]
    }
   ],
   "source": [
    "s=\"Write a program that prints the numbers from 1 to 100. \\\n",
    "But for multiples of three print Mickey instead of the number and for the multiples of five print Mouse. \\\n",
    "For numbers which are multiples of both three and five print MickeyMouse\"\n",
    "\n",
    "s = s.lower()\n",
    "\n",
    "alphabet = [\"a\",\"b\",\"c\",\"d\",\"e\",\"f\",\"g\",\"h\",\"i\",\"j\",\"k\",\"l\",\"m\",\"n\",\"o\",\"p\",\"q\",\"r\",\"s\",\"t\",\"u\",\"v\",\"w\",\"x\",\"y\",\"z\"]\n",
    "\n",
    "for char in alphabet:\n",
    "    print(\"Character \" + char + \" appears \" + str(s.count(char)) + \" times\")"
   ]
  },
  {
   "cell_type": "markdown",
   "metadata": {},
   "source": [
    "5\\. Isolating the unique\n",
    "\n",
    "Write a function that determines and count the unique numbers in the list *l*"
   ]
  },
  {
   "cell_type": "code",
   "execution_count": 10,
   "metadata": {},
   "outputs": [
    {
     "name": "stdout",
     "output_type": "stream",
     "text": [
      "{1, 3, 5, 8, 9, 10, 16, 18, 19, 20, 24, 30, 31, 33, 34, 36, 37, 39, 41, 42, 45, 47, 50, 51, 53, 54, 55, 56, 57, 58, 63, 64, 66, 70, 72, 74, 75, 79, 81, 82, 84, 85, 86, 87, 88, 89, 90, 91, 92, 94, 95, 96, 98, 99}\n",
      "Number of unique numbers = 54\n"
     ]
    }
   ],
   "source": [
    "l = [36, 45, 58, 3, 74, 96, 64, 45, 31, 10, 24, 19, 33, 86, 99, 18, 63, 70, 85,\n",
    " 85, 63, 47, 56, 42, 70, 84, 88, 55, 20, 54, 8, 56, 51, 79, 81, 57, 37, 91,\n",
    " 1, 84, 84, 36, 66, 9, 89, 50, 42, 91, 50, 95, 90, 98, 39, 16, 82, 31, 92, 41,\n",
    " 45, 30, 66, 70, 34, 85, 94, 5, 3, 36, 72, 91, 84, 34, 87, 75, 53, 51, 20, 89, 51, 20]\n",
    "\n",
    "l = set(l)\n",
    "print(l)\n",
    "print(\"Number of unique numbers = \" + str(len(l)))"
   ]
  },
  {
   "cell_type": "markdown",
   "metadata": {},
   "source": [
    "6\\. Combination of functions\n",
    "\n",
    "Write two functions - one that returns the square of a number, and one that returns the cube. Now write a third function that returns the number raised to the 6th power using the two previous functions."
   ]
  },
  {
   "cell_type": "code",
   "execution_count": 11,
   "metadata": {},
   "outputs": [
    {
     "name": "stdin",
     "output_type": "stream",
     "text": [
      " 6\n"
     ]
    },
    {
     "name": "stdout",
     "output_type": "stream",
     "text": [
      "46656\n"
     ]
    }
   ],
   "source": [
    "x = int(input())\n",
    "\n",
    "def power_2(x):\n",
    "    return pow(x,2)\n",
    "\n",
    "def power_3(x):\n",
    "    return pow(x,3)\n",
    "\n",
    "def power_6(x2,x3):\n",
    "    return x2*x3*x\n",
    "\n",
    "print(power_6(power_2(x), power_3(x)))"
   ]
  },
  {
   "cell_type": "markdown",
   "metadata": {},
   "source": [
    "7\\. Cubes\n",
    "\n",
    "Create a list of the cubes of x for x in *[0, 10]* using:\n",
    "\n",
    "a) a for loop\n",
    "\n",
    "b) a list comprehension"
   ]
  },
  {
   "cell_type": "code",
   "execution_count": 12,
   "metadata": {},
   "outputs": [
    {
     "name": "stdout",
     "output_type": "stream",
     "text": [
      "[0, 1, 8, 27, 64, 125, 216, 343, 512, 729]\n"
     ]
    }
   ],
   "source": [
    "a = []\n",
    "for i in range(0, 10):\n",
    "    a.append(pow(i, 3))\n",
    "    \n",
    "print(a)"
   ]
  },
  {
   "cell_type": "code",
   "execution_count": 13,
   "metadata": {},
   "outputs": [
    {
     "name": "stdout",
     "output_type": "stream",
     "text": [
      "[0, 1, 8, 27, 64, 125, 216, 343, 512, 729]\n"
     ]
    }
   ],
   "source": [
    "a = [pow(x, 3) for x in range(0, 10)]\n",
    "print(a)"
   ]
  },
  {
   "cell_type": "markdown",
   "metadata": {},
   "source": [
    "8\\. Nested list comprehension\n",
    "\n",
    "A Pythagorean triple is an integer solution to the Pythagorean theorem $a^2+b^2=c^2$. The first Pythagorean triple is (3,4,5). Find and put in a tuple all unique Pythagorean triples for the positive integers a, b and c less than 100."
   ]
  },
  {
   "cell_type": "code",
   "execution_count": 14,
   "metadata": {},
   "outputs": [
    {
     "name": "stdout",
     "output_type": "stream",
     "text": [
      "[[(3, 4, 5), (6, 8, 10), (5, 12, 13), (9, 12, 15), (8, 15, 17), (12, 16, 20), (15, 20, 25), (7, 24, 25), (10, 24, 26), (20, 21, 29), (18, 24, 30), (16, 30, 34), (21, 28, 35), (12, 35, 37), (15, 36, 39), (24, 32, 40), (9, 40, 41), (27, 36, 45), (30, 40, 50), (14, 48, 50), (24, 45, 51), (20, 48, 52), (28, 45, 53), (33, 44, 55), (40, 42, 58), (36, 48, 60), (11, 60, 61), (39, 52, 65), (33, 56, 65), (25, 60, 65), (16, 63, 65), (32, 60, 68), (42, 56, 70), (48, 55, 73), (24, 70, 74), (45, 60, 75), (21, 72, 75), (30, 72, 78), (48, 64, 80), (18, 80, 82), (51, 68, 85), (40, 75, 85), (36, 77, 85), (13, 84, 85), (60, 63, 87), (39, 80, 89), (54, 72, 90), (35, 84, 91), (57, 76, 95), (65, 72, 97)]]\n"
     ]
    }
   ],
   "source": [
    "d = [[(a, b, c) for c in range(100) for b in range(c) for a in range(b) if c*c == a*a + b*b]]\n",
    "print(d)\n",
    "\n",
    "# not sure about uniqueness"
   ]
  },
  {
   "cell_type": "markdown",
   "metadata": {},
   "source": [
    "9\\. Normalization\n",
    "\n",
    "Write a function that takes a tuple of numbers and returns it with the entries normalized to one"
   ]
  },
  {
   "cell_type": "code",
   "execution_count": 17,
   "metadata": {},
   "outputs": [
    {
     "name": "stdin",
     "output_type": "stream",
     "text": [
      "Enter number of elements :  5\n",
      " 1\n",
      " 3\n",
      " 5\n",
      " 7\n",
      " 3\n"
     ]
    },
    {
     "name": "stdout",
     "output_type": "stream",
     "text": [
      "(0.05263157894736842, 0.15789473684210525, 0.2631578947368421, 0.3684210526315789, 0.15789473684210525)\n"
     ]
    }
   ],
   "source": [
    "def normalization():\n",
    "    # empty list \n",
    "    lst = [] \n",
    "    # number of elements as input \n",
    "    n = int(input(\"Enter number of elements : \")) \n",
    "    #insert elements\n",
    "    for i in range(0, n): \n",
    "        element = float(input()) \n",
    "        lst.append(element) # adding the element \n",
    "        \n",
    "    s = sum(lst)\n",
    "    lst = [i/s for i in lst]\n",
    "\n",
    "    return(tuple(lst))\n",
    "\n",
    "tpl = normalization()\n",
    "\n",
    "print(tpl)"
   ]
  },
  {
   "cell_type": "markdown",
   "metadata": {},
   "source": []
  }
 ],
 "metadata": {
  "kernelspec": {
   "display_name": "Python 3",
   "language": "python",
   "name": "python3"
  },
  "language_info": {
   "codemirror_mode": {
    "name": "ipython",
    "version": 3
   },
   "file_extension": ".py",
   "mimetype": "text/x-python",
   "name": "python",
   "nbconvert_exporter": "python",
   "pygments_lexer": "ipython3",
   "version": "3.5.4"
  }
 },
 "nbformat": 4,
 "nbformat_minor": 4
}
