{
 "cells": [
  {
   "cell_type": "markdown",
   "metadata": {},
   "source": [
    "1. The MickeyMouse problem\n",
    "\n",
    "a) Write a program that prints the numbers from 1 to 100. But for multiples of three print Mickey instead of the number and for the multiples of five print Mouse. For numbers which are multiples of both three and five print MickeyMouse\n",
    "\n",
    "b) Put the result in a tuple and substitute Mickey with Donald and Mouse with Duck"
   ]
  },
  {
   "cell_type": "code",
   "execution_count": 1,
   "metadata": {},
   "outputs": [
    {
     "name": "stdout",
     "output_type": "stream",
     "text": [
      "[1, 2, 'Mickey', 4, 'Mouse', 'Mickey', 7, 8, 'Mickey', 'Mouse', 11, 'Mickey', 13, 14, 'MickeyMouse', 16, 17, 'Mickey', 19, 'Mouse', 'Mickey', 22, 23, 'Mickey', 'Mouse', 26, 'Mickey', 28, 29, 'MickeyMouse', 31, 32, 'Mickey', 34, 'Mouse', 'Mickey', 37, 38, 'Mickey', 'Mouse', 41, 'Mickey', 43, 44, 'MickeyMouse', 46, 47, 'Mickey', 49, 'Mouse', 'Mickey', 52, 53, 'Mickey', 'Mouse', 56, 'Mickey', 58, 59, 'MickeyMouse', 61, 62, 'Mickey', 64, 'Mouse', 'Mickey', 67, 68, 'Mickey', 'Mouse', 71, 'Mickey', 73, 74, 'MickeyMouse', 76, 77, 'Mickey', 79, 'Mouse', 'Mickey', 82, 83, 'Mickey', 'Mouse', 86, 'Mickey', 88, 89, 'MickeyMouse', 91, 92, 'Mickey', 94, 'Mouse', 'Mickey', 97, 98, 'Mickey', 'Mouse']\n",
      "(1, 2, 'Donald', 4, 'Duck', 'Donald', 7, 8, 'Donald', 'Duck', 11, 'Donald', 13, 14, 'DonaldDuck', 16, 17, 'Donald', 19, 'Duck', 'Donald', 22, 23, 'Donald', 'Duck', 26, 'Donald', 28, 29, 'DonaldDuck', 31, 32, 'Donald', 34, 'Duck', 'Donald', 37, 38, 'Donald', 'Duck', 41, 'Donald', 43, 44, 'DonaldDuck', 46, 47, 'Donald', 49, 'Duck', 'Donald', 52, 53, 'Donald', 'Duck', 56, 'Donald', 58, 59, 'DonaldDuck', 61, 62, 'Donald', 64, 'Duck', 'Donald', 67, 68, 'Donald', 'Duck', 71, 'Donald', 73, 74, 'DonaldDuck', 76, 77, 'Donald', 79, 'Duck', 'Donald', 82, 83, 'Donald', 'Duck', 86, 'Donald', 88, 89, 'DonaldDuck', 91, 92, 'Donald', 94, 'Duck', 'Donald', 97, 98, 'Donald', 'Duck')\n"
     ]
    }
   ],
   "source": [
    "#A\n",
    "result=[]\n",
    "\n",
    "#add values to the empty list\n",
    "for i in range(1,101):\n",
    "    if i%3==0 and i%5==0 : result.append(\"MickeyMouse\")\n",
    "    elif i%5==0: result.append(\"Mouse\")\n",
    "    elif i%3==0: result.append(\"Mickey\")\n",
    "    else: result.append(i) \n",
    "        \n",
    "print(result)\n",
    "    \n",
    "#B\n",
    "replace={'Mickey':'Donald','Mouse':'Duck','MickeyMouse':'DonaldDuck'}\n",
    "result = [replace.get(x, x) for x in result] #replace values\n",
    "\n",
    "a=tuple(result) #put the result into a tuple\n",
    "\n",
    "print(a)"
   ]
  },
  {
   "cell_type": "markdown",
   "metadata": {},
   "source": [
    "2\\. The swap function\n",
    "\n",
    "Write a function that swap the values of two input variables x and y (whatever the type). Try to do that also without a temporary variable"
   ]
  },
  {
   "cell_type": "code",
   "execution_count": 2,
   "metadata": {},
   "outputs": [
    {
     "name": "stdout",
     "output_type": "stream",
     "text": [
      "Set the value x: 1\n",
      "Set the value y: 2\n"
     ]
    },
    {
     "data": {
      "text/plain": [
       "('2', '1')"
      ]
     },
     "execution_count": 2,
     "metadata": {},
     "output_type": "execute_result"
    }
   ],
   "source": [
    "#With a temporary variable c\n",
    "\n",
    "x=input(\"Set the value of x: \")\n",
    "y=input(\"Set the value of y: \")\n",
    "\n",
    "#define the swap function\n",
    "def swap(a,b):\n",
    "    c=a #temporary variable\n",
    "    a=b\n",
    "    b=c\n",
    "    return (a,b)\n",
    "\n",
    "swap(x,y)"
   ]
  },
  {
   "cell_type": "code",
   "execution_count": 4,
   "metadata": {},
   "outputs": [
    {
     "name": "stdout",
     "output_type": "stream",
     "text": [
      "Set the value x: 1\n",
      "Set the value y: 2\n"
     ]
    },
    {
     "data": {
      "text/plain": [
       "('2', '1')"
      ]
     },
     "execution_count": 4,
     "metadata": {},
     "output_type": "execute_result"
    }
   ],
   "source": [
    "#Without a temporary variable\n",
    "\n",
    "x=input(\"Set the value of x: \")\n",
    "y=input(\"Set the value of y: \")\n",
    "\n",
    "#define the swap function\n",
    "def swap(a,b):\n",
    "    global x #change the values of global variables\n",
    "    x=b\n",
    "    global y\n",
    "    y=a\n",
    "    return (x,y)\n",
    "\n",
    "swap(x,y)  "
   ]
  },
  {
   "cell_type": "markdown",
   "metadata": {},
   "source": [
    "3\\. Computing the distance\n",
    "\n",
    "Write a function that calculates and returns the euclidean distance between two points *u* and *v*, where *u* and *v* are both 2-tuples *(x,y)*. For example, if *u=(3,0)* and *v=(0,4)*, the function should return 5"
   ]
  },
  {
   "cell_type": "code",
   "execution_count": 5,
   "metadata": {},
   "outputs": [
    {
     "data": {
      "text/plain": [
       "5.0"
      ]
     },
     "execution_count": 5,
     "metadata": {},
     "output_type": "execute_result"
    }
   ],
   "source": [
    "u=(6,8)\n",
    "v=(9,4)\n",
    "\n",
    "#calculate the distance\n",
    "def distance(a,b):\n",
    "    x=a[0]-b[0]\n",
    "    y=a[1]-b[1]\n",
    "    distance=pow(pow(x,2)+pow(y,2),1/2)\n",
    "    return distance\n",
    "\n",
    "distance(u,v)"
   ]
  },
  {
   "cell_type": "markdown",
   "metadata": {},
   "source": [
    "4\\. Counting letters\n",
    "\n",
    "Write a program to calculate the number of times each character occurs in a given string *s*. Ignore differneces in capitalization"
   ]
  },
  {
   "cell_type": "code",
   "execution_count": 55,
   "metadata": {},
   "outputs": [
    {
     "name": "stdout",
     "output_type": "stream",
     "text": [
      "{'W': 1, 'r': 17, 'i': 14, 't': 19, 'e': 22, ' ': 41, 'a': 7, 'p': 8, 'o': 13, 'g': 1, 'm': 8, 'h': 9, 'n': 10, 's': 9, 'u': 9, 'b': 4, 'f': 9, '1': 2, '0': 2, '.': 2, 'B': 1, 'l': 6, 'M': 4, 'c': 3, 'k': 2, 'y': 2, 'd': 3, 'v': 2, 'F': 1, 'w': 1}\n"
     ]
    }
   ],
   "source": [
    "s=\"Write a program that prints the numbers from 1 to 100. \\\n",
    "But for multiples of three print Mickey instead of the number and for the multiples of five print Mouse. \\\n",
    "For numbers which are multiples of both three and five print MickeyMouse\"\n",
    "\n",
    "#create a dictionary{character:number}\n",
    "dictionary={}\n",
    "\n",
    "#calculate how many and which characters we have in the string\n",
    "for i in range(len(s)):\n",
    "    k=0\n",
    "    for j in range(len(s)): \n",
    "        if s[i]==s[j]: k+=1\n",
    "    dictionary[s[i]] = k\n",
    "    \n",
    "print(dictionary)"
   ]
  },
  {
   "cell_type": "markdown",
   "metadata": {},
   "source": [
    "5\\. Isolating the unique\n",
    "\n",
    "Write a function that determines and count the unique numbers in the list *l*"
   ]
  },
  {
   "cell_type": "code",
   "execution_count": 7,
   "metadata": {},
   "outputs": [
    {
     "name": "stdout",
     "output_type": "stream",
     "text": [
      "[58, 74, 96, 64, 10, 24, 19, 33, 86, 99, 18, 47, 88, 55, 54, 8, 79, 81, 57, 37, 1, 9, 95, 90, 98, 39, 16, 82, 92, 41, 30, 94, 5, 72, 87, 75, 53] 37\n"
     ]
    }
   ],
   "source": [
    "l = [36, 45, 58, 3, 74, 96, 64, 45, 31, 10, 24, 19, 33, 86, 99, 18, 63, 70, 85,\n",
    " 85, 63, 47, 56, 42, 70, 84, 88, 55, 20, 54, 8, 56, 51, 79, 81, 57, 37, 91,\n",
    " 1, 84, 84, 36, 66, 9, 89, 50, 42, 91, 50, 95, 90, 98, 39, 16, 82, 31, 92, 41,\n",
    " 45, 30, 66, 70, 34, 85, 94, 5, 3, 36, 72, 91, 84, 34, 87, 75, 53, 51, 20, 89, 51, 20]\n",
    "\n",
    "u=[] #null list of unique numbers\n",
    "\n",
    "#search throught the numbers\n",
    "for i in range(len(l)):\n",
    "    k=0\n",
    "    for j in range(len(l)):\n",
    "        if l[i]==l[j]: k+=1 #count how many times they appear\n",
    "    if k==1: u.append(l[i]) #select the unique numbers\n",
    "\n",
    "print(u,len(u))"
   ]
  },
  {
   "cell_type": "markdown",
   "metadata": {},
   "source": [
    "6\\. Combination of functions\n",
    "\n",
    "Write two functions - one that returns the square of a number, and one that returns the cube. Now write a third function that returns the number raised to the 6th power using the two previous functions."
   ]
  },
  {
   "cell_type": "code",
   "execution_count": 13,
   "metadata": {},
   "outputs": [
    {
     "name": "stdout",
     "output_type": "stream",
     "text": [
      "4 8 64\n"
     ]
    }
   ],
   "source": [
    "#define square function\n",
    "def square(x):return x**2\n",
    "\n",
    "#define cube function\n",
    "def cube(x):return x**3\n",
    "\n",
    "#define sixth power function\n",
    "def sixth(x):return cube(square(x))\n",
    "\n",
    "print(square(2),cube(2),sixth(2))"
   ]
  },
  {
   "cell_type": "markdown",
   "metadata": {},
   "source": [
    "7\\. Cubes\n",
    "\n",
    "Create a list of the cubes of x for x in *[0, 10]* using:\n",
    "\n",
    "a) a for loop\n",
    "\n",
    "b) a list comprehension"
   ]
  },
  {
   "cell_type": "code",
   "execution_count": 12,
   "metadata": {},
   "outputs": [
    {
     "name": "stdout",
     "output_type": "stream",
     "text": [
      "[0, 1, 8, 27, 64, 125, 216, 343, 512, 729, 1000]\n",
      "[0, 1, 8, 27, 64, 125, 216, 343, 512, 729, 1000]\n"
     ]
    }
   ],
   "source": [
    "#A\n",
    "cubesA=[]\n",
    "\n",
    "for i in range(11):cubesA.append(i**3)\n",
    "    \n",
    "print(cubesA)\n",
    "\n",
    "#B\n",
    "cubesB=[i**3 for i in range(11)]\n",
    "\n",
    "print(cubesB)"
   ]
  },
  {
   "cell_type": "markdown",
   "metadata": {},
   "source": [
    "8\\. Nested list comprehension\n",
    "\n",
    "A Pythagorean triple is an integer solution to the Pythagorean theorem $a^2+b^2=c^2$. The first Pythagorean triple is (3,4,5). Find and put in a tuple all unique Pythagorean triples for the positive integers a, b and c less than 100."
   ]
  },
  {
   "cell_type": "code",
   "execution_count": 111,
   "metadata": {},
   "outputs": [
    {
     "name": "stdout",
     "output_type": "stream",
     "text": [
      "[(5, 4, 3), (10, 8, 6), (13, 12, 5), (15, 12, 9), (17, 15, 8), (20, 16, 12), (25, 20, 15), (25, 24, 7), (26, 24, 10), (29, 21, 20), (30, 24, 18), (34, 30, 16), (35, 28, 21), (37, 35, 12), (39, 36, 15), (40, 32, 24), (41, 40, 9), (45, 36, 27), (50, 40, 30), (50, 48, 14), (51, 45, 24), (52, 48, 20), (53, 45, 28), (55, 44, 33), (58, 42, 40), (60, 48, 36), (61, 60, 11), (65, 52, 39), (65, 56, 33), (65, 60, 25), (65, 63, 16), (68, 60, 32), (70, 56, 42), (73, 55, 48), (74, 70, 24), (75, 60, 45), (75, 72, 21), (78, 72, 30), (80, 64, 48), (82, 80, 18), (85, 68, 51), (85, 75, 40), (85, 77, 36), (85, 84, 13), (87, 63, 60), (89, 80, 39), (90, 72, 54), (91, 84, 35), (95, 76, 57), (97, 72, 65), (100, 80, 60), (100, 96, 28)] \n",
      " 52 triplets.\n"
     ]
    }
   ],
   "source": [
    "#list of Pythagorean triples without repetitions\n",
    "pyt=[(x,y,z) for x in range(1,101) for y in range(1,101) for z in range(1,101) if x**2==y**2+z**2 and x>y>z]\n",
    "\n",
    "print(pyt,\"\\n\",len(pyt),\"triplets.\")"
   ]
  },
  {
   "cell_type": "markdown",
   "metadata": {},
   "source": [
    "9\\. Normalization\n",
    "\n",
    "Write a function that takes a tuple of numbers and returns it with the entries normalized to one"
   ]
  },
  {
   "cell_type": "code",
   "execution_count": 37,
   "metadata": {},
   "outputs": [
    {
     "name": "stdout",
     "output_type": "stream",
     "text": [
      "(12, 25, 64, 42, 76, 22, 44, 58, 97, 60)\n",
      "(0.024, 0.05, 0.128, 0.084, 0.152, 0.044, 0.088, 0.116, 0.194, 0.12)\n"
     ]
    }
   ],
   "source": [
    "entries=(12,25,64,42,76,22,44,58,97,60)\n",
    "\n",
    "#define normalizing function\n",
    "def norm(a):\n",
    "    norma=0\n",
    "    a=list(a)\n",
    "    for i in range(len(a)):norma=norma+a[i] #sum the entries\n",
    "    a_norm=[x/norma for x in a] #normalize\n",
    "    return tuple(a_norm)\n",
    "\n",
    "print(entries)\n",
    "print(norm(entries))"
   ]
  }
 ],
 "metadata": {
  "kernelspec": {
   "display_name": "Python 3",
   "language": "python",
   "name": "python3"
  },
  "language_info": {
   "codemirror_mode": {
    "name": "ipython",
    "version": 3
   },
   "file_extension": ".py",
   "mimetype": "text/x-python",
   "name": "python",
   "nbconvert_exporter": "python",
   "pygments_lexer": "ipython3",
   "version": "3.7.6"
  }
 },
 "nbformat": 4,
 "nbformat_minor": 2
}
