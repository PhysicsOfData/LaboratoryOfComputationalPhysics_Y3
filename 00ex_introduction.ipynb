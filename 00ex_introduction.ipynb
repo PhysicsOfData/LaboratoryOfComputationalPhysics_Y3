{
 "cells": [
  {
   "cell_type": "markdown",
   "metadata": {},
   "source": [
    "1. The MickeyMouse problem\n",
    "\n",
    "a) Write a program that prints the numbers from 1 to 100. But for multiples of three print Mickey instead of the number and for the multiples of five print Mouse. For numbers which are multiples of both three and five print MickeyMouse\n",
    "\n",
    "b) Put the result in a tuple and substitute Mickey with Donald and Mouse with Duck"
   ]
  },
  {
   "cell_type": "code",
   "execution_count": null,
   "metadata": {},
   "outputs": [],
   "source": [
    "#1.a\n",
    "aux_list=list()\n",
    "for i in range(100):\n",
    "    if i%5==0 and i%3==0:\n",
    "        i = \"MickeyMouse\"\n",
    "    elif i%5 == 0: \n",
    "        i=\"Mouse\"\n",
    "    elif i%3 == 0:\n",
    "        i=\"Mickey\"\n",
    "    aux_list.append(i)\n",
    "\n",
    "mickey_tuple = tuple(aux_list)\n",
    "mickey_tuple"
   ]
  },
  {
   "cell_type": "code",
   "execution_count": null,
   "metadata": {},
   "outputs": [],
   "source": [
    "#1.b\n",
    "for x in range(len(aux_list)):\n",
    "    if aux_list[x] == \"MickeyMouse\":\n",
    "        aux_list[x]= \"DonaldDuck\"\n",
    "    elif aux_list[x] == \"Mickey\":\n",
    "         aux_list[x] = \"Donald\"\n",
    "    elif aux_list[x] == \"Mouse\":\n",
    "         aux_list[x] = \"Duck\"\n",
    "            \n",
    "donald_tuple = tuple(aux_list)\n",
    "donald_tuple"
   ]
  },
  {
   "cell_type": "markdown",
   "metadata": {},
   "source": [
    "2\\. The swap function\n",
    "\n",
    "Write a function that swap the values of two input variables x and y (whatever the type). Try to do that also without a temporary variable"
   ]
  },
  {
   "cell_type": "code",
   "execution_count": null,
   "metadata": {},
   "outputs": [],
   "source": [
    "x=input(\"Value of x: \")\n",
    "y=input(\"Value of y: \")\n",
    "def swap1(a, b):\n",
    "    a,b = b, a\n",
    "    print('x = {}, y = {}'.format(a,b))\n",
    "    \n",
    "def swap2(a,b):\n",
    "    temp = a\n",
    "    a = b\n",
    "    b = temp\n",
    "    print('x = {}, y = {}'.format(a,b))\n",
    "    \n",
    "swap1(x,y)\n",
    "swap2(x,y)\n"
   ]
  },
  {
   "cell_type": "markdown",
   "metadata": {},
   "source": [
    "3\\. Computing the distance\n",
    "\n",
    "Write a function that calculates and returns the euclidean distance between two points *u* and *v*, where *u* and *v* are both 2-tuples *(x,y)*. For example, if *u=(3,0)* and *v=(0,4)*, the function should return 5"
   ]
  },
  {
   "cell_type": "code",
   "execution_count": null,
   "metadata": {},
   "outputs": [],
   "source": [
    "a_list=list()\n",
    "for i in range(2):\n",
    "    i = int(input(\"coordinate of u: \"))\n",
    "    a_list.append(i)\n",
    "u = tuple(a_list)\n",
    "print(\"\\n u =\", u,\"\\n\")\n",
    "\n",
    "b_list=list()\n",
    "for i in range(2):\n",
    "    i = int(input(\"coordinate of v: \"))\n",
    "    b_list.append(i)\n",
    "v = tuple(b_list)\n",
    "print(\"\\n v =\", v, \"\\n\")\n",
    "\n",
    "#def euc_dist(a, b, c, d):\n",
    "#   ((a-c)**2 + (b-d)**2)**(1/2)\n",
    "    \n",
    "a = ((u[0]-v[0])**2 + (u[1]-v[1])**2)**(1/2)\n",
    "print(\"d(u,v) = \", a)"
   ]
  },
  {
   "cell_type": "markdown",
   "metadata": {},
   "source": [
    "4\\. Counting letters\n",
    "\n",
    "Write a program to calculate the number of times each character occurs in a given string *s*. Ignore differneces in capitalization"
   ]
  },
  {
   "cell_type": "code",
   "execution_count": null,
   "metadata": {},
   "outputs": [],
   "source": [
    "s=\"Write a program that prints the numbers from 1 to 100. \\\n",
    "But for multiples of three print Mickey instead of the number and for the multiples of five print Mouse. \\\n",
    "For numbers which are multiples of both three and five print MickeyMouse\""
   ]
  },
  {
   "cell_type": "code",
   "execution_count": null,
   "metadata": {},
   "outputs": [],
   "source": [
    "t=s.lower()\n",
    "for i in range(len(s)):\n",
    "    b=t.count(t[i])\n",
    "    print(\"{} -- {}\".format(s[i],b))"
   ]
  },
  {
   "cell_type": "markdown",
   "metadata": {},
   "source": [
    "5\\. Isolating the unique\n",
    "\n",
    "Write a function that determines and count the unique numbers in the list *l*"
   ]
  },
  {
   "cell_type": "code",
   "execution_count": null,
   "metadata": {},
   "outputs": [],
   "source": [
    "l = [36, 45, 58, 3, 74, 96, 64, 45, 31, 10, 24, 19, 33, 86, 99, 18, 63, 70, 85,\n",
    " 85, 63, 47, 56, 42, 70, 84, 88, 55, 20, 54, 8, 56, 51, 79, 81, 57, 37, 91,\n",
    " 1, 84, 84, 36, 66, 9, 89, 50, 42, 91, 50, 95, 90, 98, 39, 16, 82, 31, 92, 41,\n",
    " 45, 30, 66, 70, 34, 85, 94, 5, 3, 36, 72, 91, 84, 34, 87, 75, 53, 51, 20, 89, 51, 20]"
   ]
  },
  {
   "cell_type": "code",
   "execution_count": null,
   "metadata": {},
   "outputs": [],
   "source": [
    "l_=set(l)\n",
    "print(l_)"
   ]
  },
  {
   "cell_type": "markdown",
   "metadata": {},
   "source": [
    "6\\. Combination of functions\n",
    "\n",
    "Write two functions - one that returns the square of a number, and one that returns the cube. Now write a third function that returns the number raised to the 6th power using the two previous functions."
   ]
  },
  {
   "cell_type": "code",
   "execution_count": null,
   "metadata": {},
   "outputs": [],
   "source": [
    "def square(x):\n",
    "    y=x**2\n",
    "    return y\n",
    "\n",
    "def cube(a):\n",
    "    b=a**3\n",
    "    return b\n",
    "\n",
    "def sixth(z):\n",
    "    v=square(z)*cube(z)\n",
    "    return v\n",
    "\n",
    "sixth(4)\n",
    "    "
   ]
  },
  {
   "cell_type": "markdown",
   "metadata": {},
   "source": [
    "7\\. Cubes\n",
    "\n",
    "Create a list of the cubes of x for x in *[0, 10]* using:\n",
    "\n",
    "a) a for loop\n",
    "\n",
    "b) a list comprehension"
   ]
  },
  {
   "cell_type": "code",
   "execution_count": null,
   "metadata": {},
   "outputs": [],
   "source": [
    "cube_list = [x**3 for x in range(11)]\n",
    "cube_list"
   ]
  },
  {
   "cell_type": "markdown",
   "metadata": {},
   "source": [
    "8\\. Nested list comprehension\n",
    "\n",
    "A Pythagorean triple is an integer solution to the Pythagorean theorem $a^2+b^2=c^2$. The first Pythagorean triple is (3,4,5). Find and put in a tuple all unique Pythagorean triples for the positive integers a, b and c less than 100."
   ]
  },
  {
   "cell_type": "code",
   "execution_count": null,
   "metadata": {},
   "outputs": [],
   "source": [
    "triplet_list = list()\n",
    "for b in range(100):\n",
    "    for a in range(1, b):\n",
    "        c = ( a * a + b * b)**(1/2)\n",
    "        if c % 1 == 0:\n",
    "            t=(a,b,int(c))\n",
    "            triplet_list.append(t)\n",
    "triplet_tuple = tuple(triplet_list)\n",
    "triplet_tuple"
   ]
  },
  {
   "cell_type": "markdown",
   "metadata": {},
   "source": [
    "9\\. Normalization\n",
    "\n",
    "Write a function that takes a tuple of numbers and returns it with the entries normalized to one"
   ]
  },
  {
   "cell_type": "code",
   "execution_count": null,
   "metadata": {},
   "outputs": [],
   "source": [
    "a_tuple = (2, 5, 68, 53, 444, 33, 23, 182)\n",
    "a = list(a_tuple)\n",
    "mag = (sum(i**2 for i in a))**(1/2)\n",
    "for i in range(len(a)):\n",
    "    a[i] = a[i]/mag\n",
    "check_mag =(sum(i**2 for i in a))**(1/2)\n",
    "\n",
    "norm_tuple = tuple(a)\n",
    "print(\"the magnitude of the normalized tuple is\", check_mag)\n",
    "norm_tuple"
   ]
  },
  {
   "cell_type": "code",
   "execution_count": null,
   "metadata": {},
   "outputs": [],
   "source": []
  }
 ],
 "metadata": {
  "kernelspec": {
   "display_name": "Python 3",
   "language": "python",
   "name": "python3"
  },
  "language_info": {
   "codemirror_mode": {
    "name": "ipython",
    "version": 3
   },
   "file_extension": ".py",
   "mimetype": "text/x-python",
   "name": "python",
   "nbconvert_exporter": "python",
   "pygments_lexer": "ipython3",
   "version": "3.7.4"
  }
 },
 "nbformat": 4,
 "nbformat_minor": 2
}
