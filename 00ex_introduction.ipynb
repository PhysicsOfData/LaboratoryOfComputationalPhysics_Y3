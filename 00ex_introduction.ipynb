{
 "cells": [
  {
   "cell_type": "markdown",
   "metadata": {},
   "source": [
    "1. The MickeyMouse problem\n",
    "\n",
    "a) Write a program that prints the numbers from 1 to 100. But for multiples of three print Mickey instead of the number and for the multiples of five print Mouse. For numbers which are multiples of both three and five print MickeyMouse\n",
    "\n",
    "b) Put the result in a tuple and substitute Mickey with Donald and Mouse with Duck"
   ]
  },
  {
   "cell_type": "code",
   "execution_count": 1,
   "metadata": {},
   "outputs": [
    {
     "name": "stdout",
     "output_type": "stream",
     "text": [
      "[1, 2, 'Mickey', 4, 'Mouse', 'Mickey', 7, 8, 'Mickey', 'Mouse', 11, 'Mickey', 13, 14, 'MickeyMouse', 16, 17, 'Mickey', 19, 'Mouse', 'Mickey', 22, 23, 'Mickey', 'Mouse', 26, 'Mickey', 28, 29, 'MickeyMouse', 31, 32, 'Mickey', 34, 'Mouse', 'Mickey', 37, 38, 'Mickey', 'Mouse', 41, 'Mickey', 43, 44, 'MickeyMouse', 46, 47, 'Mickey', 49, 'Mouse', 'Mickey', 52, 53, 'Mickey', 'Mouse', 56, 'Mickey', 58, 59, 'MickeyMouse', 61, 62, 'Mickey', 64, 'Mouse', 'Mickey', 67, 68, 'Mickey', 'Mouse', 71, 'Mickey', 73, 74, 'MickeyMouse', 76, 77, 'Mickey', 79, 'Mouse', 'Mickey', 82, 83, 'Mickey', 'Mouse', 86, 'Mickey', 88, 89, 'MickeyMouse', 91, 92, 'Mickey', 94, 'Mouse', 'Mickey', 97, 98, 'Mickey', 'Mouse']\n"
     ]
    }
   ],
   "source": [
    "# solution of a)\n",
    "\n",
    "l = []\n",
    "for i in range(100):\n",
    "    if ((i+1) % 3 == 0 and (i+1) % 5 == 0):\n",
    "        l.append(\"MickeyMouse\")\n",
    "    elif ((i+1) % 3 == 0):\n",
    "        l.append(\"Mickey\")\n",
    "    elif ((i+1) % 5 == 0):\n",
    "        l.append(\"Mouse\")\n",
    "    else:\n",
    "        l.append(i+1)\n",
    "        \n",
    "print(l)"
   ]
  },
  {
   "cell_type": "code",
   "execution_count": 2,
   "metadata": {},
   "outputs": [
    {
     "name": "stdout",
     "output_type": "stream",
     "text": [
      "(1, 2, 'Donald', 4, 'Duck', 'Donald', 7, 8, 'Donald', 'Duck', 11, 'Donald', 13, 14, 'DonaldDuck', 16, 17, 'Donald', 19, 'Duck', 'Donald', 22, 23, 'Donald', 'Duck', 26, 'Donald', 28, 29, 'DonaldDuck', 31, 32, 'Donald', 34, 'Duck', 'Donald', 37, 38, 'Donald', 'Duck', 41, 'Donald', 43, 44, 'DonaldDuck', 46, 47, 'Donald', 49, 'Duck', 'Donald', 52, 53, 'Donald', 'Duck', 56, 'Donald', 58, 59, 'DonaldDuck', 61, 62, 'Donald', 64, 'Duck', 'Donald', 67, 68, 'Donald', 'Duck', 71, 'Donald', 73, 74, 'DonaldDuck', 76, 77, 'Donald', 79, 'Duck', 'Donald', 82, 83, 'Donald', 'Duck', 86, 'Donald', 88, 89, 'DonaldDuck', 91, 92, 'Donald', 94, 'Duck', 'Donald', 97, 98, 'Donald', 'Duck')\n"
     ]
    }
   ],
   "source": [
    "# solution of b)\n",
    "\n",
    "for pos, element in enumerate(l):\n",
    "    if (type(element) is not int):\n",
    "        if (element == \"Mickey\"):\n",
    "            l[pos] = \"Donald\"\n",
    "        elif (element == \"Mouse\"):\n",
    "            l[pos] = \"Duck\"\n",
    "        else:\n",
    "            l[pos] = \"DonaldDuck\"\n",
    "           \n",
    "final_result = tuple(l)\n",
    "print(final_result)"
   ]
  },
  {
   "cell_type": "markdown",
   "metadata": {},
   "source": [
    "2\\. The swap function\n",
    "\n",
    "Write a function that swap the values of two input variables x and y (whatever the type). Try to do that also without a temporary variable"
   ]
  },
  {
   "cell_type": "code",
   "execution_count": 3,
   "metadata": {},
   "outputs": [
    {
     "name": "stdout",
     "output_type": "stream",
     "text": [
      "5 d\n",
      "d 5\n"
     ]
    }
   ],
   "source": [
    "# with a temporary variable\n",
    "def swap_temp(x,y):\n",
    "    temp = x\n",
    "    x = y\n",
    "    y = temp\n",
    "    return x, y\n",
    "\n",
    "\n",
    "# without a temporary variable\n",
    "def swap(x,y):\n",
    "    x, y = y, x\n",
    "    return x, y\n",
    "\n",
    "# example\n",
    "x, y = 5, \"d\"\n",
    "print(x,y)\n",
    "x, y = swap(x,y)\n",
    "print(x,y)"
   ]
  },
  {
   "cell_type": "markdown",
   "metadata": {},
   "source": [
    "3\\. Computing the distance\n",
    "\n",
    "Write a function that calculates and returns the euclidean distance between two points *u* and *v*, where *u* and *v* are both 2-tuples *(x,y)*. For example, if *u=(3,0)* and *v=(0,4)*, the function should return 5"
   ]
  },
  {
   "cell_type": "code",
   "execution_count": 4,
   "metadata": {},
   "outputs": [
    {
     "name": "stdout",
     "output_type": "stream",
     "text": [
      "5.0\n"
     ]
    }
   ],
   "source": [
    "def euclidian_dist(u,v):\n",
    "    return ((u[0]-v[0])**2 + (u[1]-v[1])**2)**(1/2)\n",
    "\n",
    "# example\n",
    "u, v = (3, 0), (0, 4)\n",
    "print(euclidian_dist(u,v))"
   ]
  },
  {
   "cell_type": "markdown",
   "metadata": {},
   "source": [
    "4\\. Counting letters\n",
    "\n",
    "Write a program to calculate the number of times each character occurs in a given string *s*. Ignore differneces in capitalization"
   ]
  },
  {
   "cell_type": "code",
   "execution_count": 5,
   "metadata": {},
   "outputs": [
    {
     "name": "stdout",
     "output_type": "stream",
     "text": [
      "'1' -> 2\n",
      "'k' -> 2\n",
      "'m' -> 12\n",
      "'a' -> 7\n",
      "'s' -> 9\n",
      "'v' -> 2\n",
      "'g' -> 1\n",
      "'i' -> 14\n",
      "'.' -> 2\n",
      "'d' -> 3\n",
      "'l' -> 6\n",
      "' ' -> 41\n",
      "'0' -> 2\n",
      "'o' -> 13\n",
      "'p' -> 8\n",
      "'y' -> 2\n",
      "'b' -> 5\n",
      "'e' -> 22\n",
      "'t' -> 19\n",
      "'w' -> 2\n",
      "'u' -> 9\n",
      "'r' -> 17\n",
      "'f' -> 10\n",
      "'c' -> 3\n",
      "'n' -> 10\n",
      "'h' -> 9\n"
     ]
    }
   ],
   "source": [
    "s=\"Write a program that prints the numbers from 1 to 100. \\\n",
    "But for multiples of three print Mickey instead of the number and for the multiples of five print Mouse. \\\n",
    "For numbers which are multiples of both three and five print MickeyMouse\"\n",
    "\n",
    "# example\n",
    "occurs = []\n",
    "diff_elements = set(s.lower())\n",
    "for pos, element in enumerate(diff_elements):\n",
    "    occurs.append(s.lower().count(element))\n",
    "    print(\"'\"+element+\"' -> \"+str(occurs[pos]))"
   ]
  },
  {
   "cell_type": "markdown",
   "metadata": {},
   "source": [
    "5\\. Isolating the unique\n",
    "\n",
    "Write a function that determines and count the unique numbers in the list *l*"
   ]
  },
  {
   "cell_type": "code",
   "execution_count": 6,
   "metadata": {},
   "outputs": [
    {
     "name": "stdout",
     "output_type": "stream",
     "text": [
      "'1' -> 1\n",
      "'3' -> 2\n",
      "'5' -> 1\n",
      "'8' -> 1\n",
      "'9' -> 1\n",
      "'10' -> 1\n",
      "'16' -> 1\n",
      "'18' -> 1\n",
      "'19' -> 1\n",
      "'20' -> 3\n",
      "'24' -> 1\n",
      "'30' -> 1\n",
      "'31' -> 2\n",
      "'33' -> 1\n",
      "'34' -> 2\n",
      "'36' -> 3\n",
      "'37' -> 1\n",
      "'39' -> 1\n",
      "'41' -> 1\n",
      "'42' -> 2\n",
      "'45' -> 3\n",
      "'47' -> 1\n",
      "'50' -> 2\n",
      "'51' -> 3\n",
      "'53' -> 1\n",
      "'54' -> 1\n",
      "'55' -> 1\n",
      "'56' -> 2\n",
      "'57' -> 1\n",
      "'58' -> 1\n",
      "'63' -> 2\n",
      "'64' -> 1\n",
      "'66' -> 2\n",
      "'70' -> 3\n",
      "'72' -> 1\n",
      "'74' -> 1\n",
      "'75' -> 1\n",
      "'79' -> 1\n",
      "'81' -> 1\n",
      "'82' -> 1\n",
      "'84' -> 4\n",
      "'85' -> 3\n",
      "'86' -> 1\n",
      "'87' -> 1\n",
      "'88' -> 1\n",
      "'89' -> 2\n",
      "'90' -> 1\n",
      "'91' -> 3\n",
      "'92' -> 1\n",
      "'94' -> 1\n",
      "'95' -> 1\n",
      "'96' -> 1\n",
      "'98' -> 1\n",
      "'99' -> 1\n"
     ]
    }
   ],
   "source": [
    "l = [36, 45, 58, 3, 74, 96, 64, 45, 31, 10, 24, 19, 33, 86, 99, 18, 63, 70, 85,\n",
    " 85, 63, 47, 56, 42, 70, 84, 88, 55, 20, 54, 8, 56, 51, 79, 81, 57, 37, 91,\n",
    " 1, 84, 84, 36, 66, 9, 89, 50, 42, 91, 50, 95, 90, 98, 39, 16, 82, 31, 92, 41,\n",
    " 45, 30, 66, 70, 34, 85, 94, 5, 3, 36, 72, 91, 84, 34, 87, 75, 53, 51, 20, 89, 51, 20]\n",
    "\n",
    "def unique_and_count(l):\n",
    "    occurs = []\n",
    "    diff_elements = list(set(l))\n",
    "    for element in diff_elements:\n",
    "        occurs.append(l.count(element))\n",
    "    return diff_elements, occurs\n",
    "\n",
    "# example\n",
    "unique_val, occurs = unique_and_count(l)\n",
    "for el in range(len(unique_val)):\n",
    "    print(\"'\"+str(unique_val[el])+\"' -> \"+str(occurs[el]))"
   ]
  },
  {
   "cell_type": "markdown",
   "metadata": {},
   "source": [
    "6\\. Combination of functions\n",
    "\n",
    "Write two functions - one that returns the square of a number, and one that returns the cube. Now write a third function that returns the number raised to the 6th power using the two previous functions."
   ]
  },
  {
   "cell_type": "code",
   "execution_count": 7,
   "metadata": {},
   "outputs": [
    {
     "name": "stdout",
     "output_type": "stream",
     "text": [
      "64\n"
     ]
    }
   ],
   "source": [
    "def square(x):\n",
    "    return x**2\n",
    "\n",
    "def cube(x):\n",
    "    return x**3\n",
    "\n",
    "def pow_6th(x):\n",
    "    return square(cube(x))\n",
    "\n",
    "# example\n",
    "x = 2\n",
    "print(pow_6th(x))"
   ]
  },
  {
   "cell_type": "markdown",
   "metadata": {},
   "source": [
    "7\\. Cubes\n",
    "\n",
    "Create a list of the cubes of x for x in *[0, 10]* using:\n",
    "\n",
    "a) a for loop\n",
    "\n",
    "b) a list comprehension"
   ]
  },
  {
   "cell_type": "code",
   "execution_count": 8,
   "metadata": {},
   "outputs": [
    {
     "name": "stdout",
     "output_type": "stream",
     "text": [
      "[0, 1, 8, 27, 64, 125, 216, 343, 512, 729, 1000]\n"
     ]
    }
   ],
   "source": [
    "# solution of a)\n",
    "\n",
    "cubes = []\n",
    "for x in range(11):\n",
    "    cubes.append(x**3)\n",
    "print(cubes)"
   ]
  },
  {
   "cell_type": "code",
   "execution_count": 9,
   "metadata": {},
   "outputs": [
    {
     "name": "stdout",
     "output_type": "stream",
     "text": [
      "[0, 1, 8, 27, 64, 125, 216, 343, 512, 729, 1000]\n"
     ]
    }
   ],
   "source": [
    "# solution of b)\n",
    "\n",
    "cubes = [x**3 for x in range(11)]\n",
    "print(cubes)"
   ]
  },
  {
   "cell_type": "markdown",
   "metadata": {},
   "source": [
    "8\\. Nested list comprehension\n",
    "\n",
    "A Pythagorean triple is an integer solution to the Pythagorean theorem $a^2+b^2=c^2$. The first Pythagorean triple is (3,4,5). Find and put in a tuple all unique Pythagorean triples for the positive integers a, b and c less than 100."
   ]
  },
  {
   "cell_type": "code",
   "execution_count": 10,
   "metadata": {},
   "outputs": [
    {
     "name": "stdout",
     "output_type": "stream",
     "text": [
      "(3, 4, 5)\n",
      "(5, 12, 13)\n",
      "(7, 24, 25)\n",
      "(8, 15, 17)\n",
      "(9, 40, 41)\n",
      "(11, 60, 61)\n",
      "(12, 35, 37)\n",
      "(13, 84, 85)\n",
      "(16, 63, 65)\n",
      "(20, 21, 29)\n",
      "(28, 45, 53)\n",
      "(33, 56, 65)\n",
      "(36, 77, 85)\n",
      "(39, 80, 89)\n",
      "(48, 55, 73)\n",
      "(65, 72, 97)\n"
     ]
    }
   ],
   "source": [
    "# I used the euclidean algorithm to find the greatest common divisor between\n",
    "# 'a' and 'b' and then I verify the division between the found gcd and 'c'\n",
    "def not_cd(a,b,c):\n",
    "    r = gcd = -1\n",
    "    while (r != 0):\n",
    "        r = b % a\n",
    "        if (r != 0):\n",
    "            gcd = r\n",
    "        b = a\n",
    "        a = r\n",
    "    if (gcd != 1 and c % gcd == 0):\n",
    "        return False\n",
    "    return True\n",
    "        \n",
    "\n",
    "pythagorean_triples = [(a,b,c) for a in range(1,100) for b in range(a,99) \\\n",
    "                       for c in range(b,98) if (a**2 + b**2 == c**2) and not_cd(a,b,c)]\n",
    "\n",
    "print(*pythagorean_triples, sep = \"\\n\")"
   ]
  },
  {
   "cell_type": "markdown",
   "metadata": {},
   "source": [
    "9\\. Normalization\n",
    "\n",
    "Write a function that takes a tuple of numbers and returns it with the entries normalized to one"
   ]
  },
  {
   "cell_type": "code",
   "execution_count": 11,
   "metadata": {},
   "outputs": [
    {
     "name": "stdout",
     "output_type": "stream",
     "text": [
      "(0.3333333333333333, 0.3333333333333333, 0.3333333333333333)\n"
     ]
    }
   ],
   "source": [
    "def norm(tup):\n",
    "    l = list(tup)\n",
    "    s = sum(l)\n",
    "    l = [x/s for x in l]\n",
    "    return tuple(l)\n",
    "\n",
    "# example\n",
    "t = (3,3,3)\n",
    "print(norm(t))"
   ]
  }
 ],
 "metadata": {
  "kernelspec": {
   "display_name": "Python 3",
   "language": "python",
   "name": "python3"
  },
  "language_info": {
   "codemirror_mode": {
    "name": "ipython",
    "version": 3
   },
   "file_extension": ".py",
   "mimetype": "text/x-python",
   "name": "python",
   "nbconvert_exporter": "python",
   "pygments_lexer": "ipython3",
   "version": "3.8.3"
  }
 },
 "nbformat": 4,
 "nbformat_minor": 2
}
