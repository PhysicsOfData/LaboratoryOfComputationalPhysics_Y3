{
 "cells": [
  {
   "cell_type": "markdown",
   "metadata": {},
   "source": [
    "1. The MickeyMouse problem\n",
    "\n",
    "a) Write a program that prints the numbers from 1 to 100. But for multiples of three print Mickey instead of the number and for the multiples of five print Mouse. For numbers which are multiples of both three and five print MickeyMouse\n",
    "\n",
    "b) Put the result in a tuple and substitute Mickey with Donald and Mouse with Duck"
   ]
  },
  {
   "cell_type": "code",
   "execution_count": null,
   "metadata": {},
   "outputs": [],
   "source": []
  },
  {
   "cell_type": "code",
   "execution_count": 1,
   "metadata": {},
   "outputs": [
    {
     "name": "stdout",
     "output_type": "stream",
     "text": [
      "1\n",
      "2\n",
      "Mickey\n",
      "3\n",
      "4\n",
      "Mouse\n",
      "5\n",
      "Mickey\n",
      "6\n",
      "7\n",
      "8\n",
      "Mickey\n",
      "9\n",
      "Mouse\n",
      "10\n",
      "11\n",
      "Mickey\n",
      "12\n",
      "13\n",
      "14\n",
      "Mickey\n",
      "Mouse\n",
      "MickeyMouse\n",
      "16\n",
      "17\n",
      "Mickey\n",
      "18\n",
      "19\n",
      "Mouse\n",
      "20\n",
      "Mickey\n",
      "21\n",
      "22\n",
      "23\n",
      "Mickey\n",
      "24\n",
      "Mouse\n",
      "25\n",
      "26\n",
      "Mickey\n",
      "27\n",
      "28\n",
      "29\n",
      "Mickey\n",
      "Mouse\n",
      "MickeyMouse\n",
      "31\n",
      "32\n",
      "Mickey\n",
      "33\n",
      "34\n",
      "Mouse\n",
      "35\n",
      "Mickey\n",
      "36\n",
      "37\n",
      "38\n",
      "Mickey\n",
      "39\n",
      "Mouse\n",
      "40\n",
      "41\n",
      "Mickey\n",
      "42\n",
      "43\n",
      "44\n",
      "Mickey\n",
      "Mouse\n",
      "MickeyMouse\n",
      "46\n",
      "47\n",
      "Mickey\n",
      "48\n",
      "49\n",
      "Mouse\n",
      "50\n",
      "Mickey\n",
      "51\n",
      "52\n",
      "53\n",
      "Mickey\n",
      "54\n",
      "Mouse\n",
      "55\n",
      "56\n",
      "Mickey\n",
      "57\n",
      "58\n",
      "59\n",
      "Mickey\n",
      "Mouse\n",
      "MickeyMouse\n",
      "61\n",
      "62\n",
      "Mickey\n",
      "63\n",
      "64\n",
      "Mouse\n",
      "65\n",
      "Mickey\n",
      "66\n",
      "67\n",
      "68\n",
      "Mickey\n",
      "69\n",
      "Mouse\n",
      "70\n",
      "71\n",
      "Mickey\n",
      "72\n",
      "73\n",
      "74\n",
      "Mickey\n",
      "Mouse\n",
      "MickeyMouse\n",
      "76\n",
      "77\n",
      "Mickey\n",
      "78\n",
      "79\n",
      "Mouse\n",
      "80\n",
      "Mickey\n",
      "81\n",
      "82\n",
      "83\n",
      "Mickey\n",
      "84\n",
      "Mouse\n",
      "85\n",
      "86\n",
      "Mickey\n",
      "87\n",
      "88\n",
      "89\n",
      "Mickey\n",
      "Mouse\n",
      "MickeyMouse\n",
      "91\n",
      "92\n",
      "Mickey\n",
      "93\n",
      "94\n",
      "Mouse\n",
      "95\n",
      "Mickey\n",
      "96\n",
      "97\n",
      "98\n",
      "Mickey\n",
      "99\n"
     ]
    }
   ],
   "source": [
    "def func():\n",
    "    for var in range(1,100):        \n",
    "        if(var%3 == 0):\n",
    "            print(\"Mickey\")\n",
    "        if(var%5 == 0):\n",
    "            print(\"Mouse\")\n",
    "        if(var%3 == 0 and var%5 == 0):\n",
    "            print(\"MickeyMouse\")\n",
    "        else:\n",
    "            print (var)\n",
    "func()"
   ]
  },
  {
   "cell_type": "markdown",
   "metadata": {},
   "source": [
    "2\\. The swap function\n",
    "\n",
    "Write a function that swap the values of two input variables x and y (whatever the type). Try to do that also without a temporary variable"
   ]
  },
  {
   "cell_type": "code",
   "execution_count": null,
   "metadata": {},
   "outputs": [],
   "source": [
    "def func(var1, var2):\n",
    "  var1 = var1 + var2\n",
    "  \n"
   ]
  },
  {
   "cell_type": "markdown",
   "metadata": {},
   "source": [
    "3\\. Computing the distance\n",
    "\n",
    "Write a function that calculates and returns the euclidean distance between two points *u* and *v*, where *u* and *v* are both 2-tuples *(x,y)*. For example, if *u=(3,0)* and *v=(0,4)*, the function should return 5"
   ]
  },
  {
   "cell_type": "markdown",
   "metadata": {},
   "source": [
    "4\\. Counting letters\n",
    "\n",
    "Write a program to calculate the number of times each character occurs in a given string *s*. Ignore differneces in capitalization"
   ]
  },
  {
   "cell_type": "code",
   "execution_count": null,
   "metadata": {},
   "outputs": [],
   "source": [
    "s=\"Write a program that prints the numbers from 1 to 100. \\\n",
    "But for multiples of three print Mickey instead of the number and for the multiples of five print Mouse. \\\n",
    "For numbers which are multiples of both three and five print MickeyMouse\""
   ]
  },
  {
   "cell_type": "markdown",
   "metadata": {},
   "source": [
    "5\\. Isolating the unique\n",
    "\n",
    "Write a function that determines and count the unique numbers in the list *l*"
   ]
  },
  {
   "cell_type": "code",
   "execution_count": null,
   "metadata": {},
   "outputs": [],
   "source": [
    "l = [36, 45, 58, 3, 74, 96, 64, 45, 31, 10, 24, 19, 33, 86, 99, 18, 63, 70, 85,\n",
    " 85, 63, 47, 56, 42, 70, 84, 88, 55, 20, 54, 8, 56, 51, 79, 81, 57, 37, 91,\n",
    " 1, 84, 84, 36, 66, 9, 89, 50, 42, 91, 50, 95, 90, 98, 39, 16, 82, 31, 92, 41,\n",
    " 45, 30, 66, 70, 34, 85, 94, 5, 3, 36, 72, 91, 84, 34, 87, 75, 53, 51, 20, 89, 51, 20]"
   ]
  },
  {
   "cell_type": "markdown",
   "metadata": {},
   "source": [
    "6\\. Combination of functions\n",
    "\n",
    "Write two functions - one that returns the square of a number, and one that returns the cube. Now write a third function that returns the number raised to the 6th power using the two previous functions."
   ]
  },
  {
   "cell_type": "markdown",
   "metadata": {},
   "source": [
    "7\\. Cubes\n",
    "\n",
    "Create a list of the cubes of x for x in *[0, 10]* using:\n",
    "\n",
    "a) a for loop\n",
    "\n",
    "b) a list comprehension"
   ]
  },
  {
   "cell_type": "markdown",
   "metadata": {},
   "source": [
    "8\\. Nested list comprehension\n",
    "\n",
    "A Pythagorean triple is an integer solution to the Pythagorean theorem $a^2+b^2=c^2$. The first Pythagorean triple is (3,4,5). Find and put in a tuple all unique Pythagorean triples for the positive integers a, b and c less than 100."
   ]
  },
  {
   "cell_type": "markdown",
   "metadata": {},
   "source": [
    "9\\. Normalization\n",
    "\n",
    "Write a function that takes a tuple of numbers and returns it with the entries normalized to one"
   ]
  },
  {
   "cell_type": "code",
   "execution_count": null,
   "metadata": {},
   "outputs": [],
   "source": []
  }
 ],
 "metadata": {
  "kernelspec": {
   "display_name": "Python 3",
   "language": "python",
   "name": "python3"
  },
  "language_info": {
   "codemirror_mode": {
    "name": "ipython",
    "version": 3
   },
   "file_extension": ".py",
   "mimetype": "text/x-python",
   "name": "python",
   "nbconvert_exporter": "python",
   "pygments_lexer": "ipython3",
   "version": "3.8.3"
  }
 },
 "nbformat": 4,
 "nbformat_minor": 2
}
