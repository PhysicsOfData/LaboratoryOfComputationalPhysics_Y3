{
 "cells": [
  {
   "cell_type": "markdown",
   "metadata": {},
   "source": [
    "1. The MickeyMouse problem\n",
    "\n",
    "a) Write a program that prints the numbers from 1 to 100. But for multiples of three print Mickey instead of the number and for the multiples of five print Mouse. For numbers which are multiples of both three and five print MickeyMouse\n",
    "\n",
    "b) Put the result in a tuple and substitute Mickey with Donald and Mouse with Duck"
   ]
  },
  {
   "cell_type": "code",
   "execution_count": 15,
   "metadata": {},
   "outputs": [
    {
     "name": "stdout",
     "output_type": "stream",
     "text": [
      "[1, 2, 'Mickey', 4, 'Mouse', 'Mickey', 7, 8, 'Mickey', 'Mouse', 11, 'Mickey', 13, 14, 'MickeyMouse', 16, 17, 'Mickey', 19, 'Mouse', 'Mickey', 22, 23, 'Mickey', 'Mouse', 26, 'Mickey', 28, 29, 'MickeyMouse', 31, 32, 'Mickey', 34, 'Mouse', 'Mickey', 37, 38, 'Mickey', 'Mouse', 41, 'Mickey', 43, 44, 'MickeyMouse', 46, 47, 'Mickey', 49, 'Mouse', 'Mickey', 52, 53, 'Mickey', 'Mouse', 56, 'Mickey', 58, 59, 'MickeyMouse', 61, 62, 'Mickey', 64, 'Mouse', 'Mickey', 67, 68, 'Mickey', 'Mouse', 71, 'Mickey', 73, 74, 'MickeyMouse', 76, 77, 'Mickey', 79, 'Mouse', 'Mickey', 82, 83, 'Mickey', 'Mouse', 86, 'Mickey', 88, 89, 'MickeyMouse', 91, 92, 'Mickey', 94, 'Mouse', 'Mickey', 97, 98, 'Mickey', 'Mouse']\n"
     ]
    }
   ],
   "source": [
    "# 1a\n",
    "\n",
    "a=[]\n",
    "\n",
    "i=0\n",
    "while i<100:\n",
    "    i+=1\n",
    "    if i%3==0:\n",
    "        if i%5==0:\n",
    "            a.append(\"MickeyMouse\")\n",
    "        else:\n",
    "            a.append(\"Mickey\")\n",
    "    elif i%5==0:\n",
    "        a.append(\"Mouse\")\n",
    "    else:\n",
    "        a.append(i)\n",
    "\n",
    "print(a)"
   ]
  },
  {
   "cell_type": "code",
   "execution_count": 16,
   "metadata": {},
   "outputs": [
    {
     "name": "stdout",
     "output_type": "stream",
     "text": [
      "(1, 2, 'Donald', 4, 'Duck', 'Donald', 7, 8, 'Donald', 'Duck', 11, 'Donald', 13, 14, 'MickeyMouse', 16, 17, 'Donald', 19, 'Duck', 'Donald', 22, 23, 'Donald', 'Duck', 26, 'Donald', 28, 29, 'MickeyMouse', 31, 32, 'Donald', 34, 'Duck', 'Donald', 37, 38, 'Donald', 'Duck', 41, 'Donald', 43, 44, 'MickeyMouse', 46, 47, 'Donald', 49, 'Duck', 'Donald', 52, 53, 'Donald', 'Duck', 56, 'Donald', 58, 59, 'MickeyMouse', 61, 62, 'Donald', 64, 'Duck', 'Donald', 67, 68, 'Donald', 'Duck', 71, 'Donald', 73, 74, 'MickeyMouse', 76, 77, 'Donald', 79, 'Duck', 'Donald', 82, 83, 'Donald', 'Duck', 86, 'Donald', 88, 89, 'MickeyMouse', 91, 92, 'Donald', 94, 'Duck', 'Donald', 97, 98, 'Donald', 'Duck')\n"
     ]
    }
   ],
   "source": [
    "# 1b\n",
    "b = []\n",
    "i=0\n",
    "while i<100:\n",
    "    if a[i]==\"Mickey\":\n",
    "        b.append(\"Donald\")\n",
    "    elif a[i]==\"Mouse\":\n",
    "        b.append(\"Duck\")\n",
    "    else:\n",
    "        b.append(a[i])\n",
    "    i+=1\n",
    "\n",
    "print(tuple(b))"
   ]
  },
  {
   "cell_type": "markdown",
   "metadata": {},
   "source": [
    "2\\. The swap function\n",
    "\n",
    "Write a function that swap the values of two input variables x and y (whatever the type). Try to do that also without a temporary variable"
   ]
  },
  {
   "cell_type": "code",
   "execution_count": 6,
   "metadata": {},
   "outputs": [
    {
     "name": "stdout",
     "output_type": "stream",
     "text": [
      "1 prova\n"
     ]
    }
   ],
   "source": [
    "a = \"prova\"\n",
    "b = 1\n",
    "\n",
    "def swap(a,b):\n",
    "    return b, a\n",
    "\n",
    "a,b = swap(a,b)\n",
    "print(a,b)"
   ]
  },
  {
   "cell_type": "markdown",
   "metadata": {},
   "source": [
    "3\\. Computing the distance\n",
    "\n",
    "Write a function that calculates and returns the euclidean distance between two points *u* and *v*, where *u* and *v* are both 2-tuples *(x,y)*. For example, if *u=(3,0)* and *v=(0,4)*, the function should return 5"
   ]
  },
  {
   "cell_type": "code",
   "execution_count": 7,
   "metadata": {},
   "outputs": [
    {
     "name": "stdout",
     "output_type": "stream",
     "text": [
      "5.0\n"
     ]
    }
   ],
   "source": [
    "import math\n",
    "\n",
    "def distance(a,b):\n",
    "    d = math.sqrt(((a[0]-b[0])**2)+((a[1]-b[1])**2))\n",
    "    return d\n",
    "a=[3,0]\n",
    "b=[0,4]\n",
    "d=distance(a,b)\n",
    "print(d)"
   ]
  },
  {
   "cell_type": "markdown",
   "metadata": {},
   "source": [
    "4\\. Counting letters\n",
    "\n",
    "Write a program to calculate the number of times each character occurs in a given string *s*. Ignore differneces in capitalization"
   ]
  },
  {
   "cell_type": "code",
   "execution_count": 8,
   "metadata": {},
   "outputs": [
    {
     "name": "stdout",
     "output_type": "stream",
     "text": [
      "[['W', 2], ['R', 17], ['I', 14], ['T', 19], ['E', 22], [' ', 41], ['A', 7], ['P', 8], ['O', 13], ['G', 1], ['M', 12], ['H', 9], ['N', 10], ['S', 9], ['U', 9], ['B', 5], ['F', 10], ['1', 2], ['0', 2], ['.', 2], ['L', 6], ['C', 3], ['K', 2], ['Y', 2], ['D', 3], ['V', 2]]\n"
     ]
    }
   ],
   "source": [
    "s=\"Write a program that prints the numbers from 1 to 100. \\\n",
    "But for multiples of three print Mickey instead of the number and for the multiples of five print Mouse. \\\n",
    "For numbers which are multiples of both three and five print MickeyMouse\"\n",
    "\n",
    "s=s.upper()\n",
    "x=[]\n",
    "y=[]\n",
    "for i in s:\n",
    "    if not (i in y):\n",
    "        x.append([i,s.count(i)])\n",
    "        y.append(i)\n",
    "    \n",
    "print(x)"
   ]
  },
  {
   "cell_type": "markdown",
   "metadata": {},
   "source": [
    "5\\. Isolating the unique\n",
    "\n",
    "Write a function that determines and count the unique numbers in the list *l*"
   ]
  },
  {
   "cell_type": "code",
   "execution_count": 9,
   "metadata": {},
   "outputs": [
    {
     "name": "stdout",
     "output_type": "stream",
     "text": [
      "[[36, 3], [45, 3], [58, 1], [3, 2], [74, 1], [96, 1], [64, 1], [31, 2], [10, 1], [24, 1], [19, 1], [33, 1], [86, 1], [99, 1], [18, 1], [63, 2], [70, 3], [85, 3], [47, 1], [56, 2], [42, 2], [84, 4], [88, 1], [55, 1], [20, 3], [54, 1], [8, 1], [51, 3], [79, 1], [81, 1], [57, 1], [37, 1], [91, 3], [1, 1], [66, 2], [9, 1], [89, 2], [50, 2], [95, 1], [90, 1], [98, 1], [39, 1], [16, 1], [82, 1], [92, 1], [41, 1], [30, 1], [34, 2], [94, 1], [5, 1], [72, 1], [87, 1], [75, 1], [53, 1]]\n",
      "[[58, 1], [74, 1], [96, 1], [64, 1], [10, 1], [24, 1], [19, 1], [33, 1], [86, 1], [99, 1], [18, 1], [47, 1], [88, 1], [55, 1], [54, 1], [8, 1], [79, 1], [81, 1], [57, 1], [37, 1], [1, 1], [9, 1], [95, 1], [90, 1], [98, 1], [39, 1], [16, 1], [82, 1], [92, 1], [41, 1], [30, 1], [94, 1], [5, 1], [72, 1], [87, 1], [75, 1], [53, 1]]\n"
     ]
    }
   ],
   "source": [
    "l = [36, 45, 58, 3, 74, 96, 64, 45, 31, 10, 24, 19, 33, 86, 99, 18, 63, 70, 85,\n",
    " 85, 63, 47, 56, 42, 70, 84, 88, 55, 20, 54, 8, 56, 51, 79, 81, 57, 37, 91,\n",
    " 1, 84, 84, 36, 66, 9, 89, 50, 42, 91, 50, 95, 90, 98, 39, 16, 82, 31, 92, 41,\n",
    " 45, 30, 66, 70, 34, 85, 94, 5, 3, 36, 72, 91, 84, 34, 87, 75, 53, 51, 20, 89, 51, 20]\n",
    "\n",
    "\n",
    "def unique_num (l):\n",
    "    x=[]\n",
    "    y=[]\n",
    "    for i in l:\n",
    "        if not (i in y):\n",
    "            x.append([i,l.count(i)])\n",
    "            y.append(i)\n",
    "\n",
    "    u=[]\n",
    "    for i in range(len(x)):\n",
    "        if x[i][1]==1:\n",
    "            u.append(x[i])\n",
    "    print(x)\n",
    "    print(u)\n",
    "\n",
    "unique_num(l)"
   ]
  },
  {
   "cell_type": "markdown",
   "metadata": {},
   "source": [
    "6\\. Combination of functions\n",
    "\n",
    "Write two functions - one that returns the square of a number, and one that returns the cube. Now write a third function that returns the number raised to the 6th power using the two previous functions."
   ]
  },
  {
   "cell_type": "code",
   "execution_count": 10,
   "metadata": {},
   "outputs": [
    {
     "name": "stdout",
     "output_type": "stream",
     "text": [
      "4\n",
      "8\n",
      "64\n"
     ]
    }
   ],
   "source": [
    "def square(a):\n",
    "    return (a**2)\n",
    "\n",
    "def cube(a):\n",
    "    return (a**3)\n",
    "\n",
    "def sixth(a):\n",
    "    return (cube(square(a)))\n",
    "\n",
    "a = 2\n",
    "print(square(a))\n",
    "print(cube(a))\n",
    "print(sixth(a))"
   ]
  },
  {
   "cell_type": "markdown",
   "metadata": {},
   "source": [
    "7\\. Cubes\n",
    "\n",
    "Create a list of the cubes of x for x in *[0, 10]* using:\n",
    "\n",
    "a) a for loop\n",
    "\n",
    "b) a list comprehension"
   ]
  },
  {
   "cell_type": "code",
   "execution_count": 11,
   "metadata": {},
   "outputs": [
    {
     "name": "stdout",
     "output_type": "stream",
     "text": [
      "[0, 1, 8, 27, 64, 125, 216, 343, 512, 729, 1000]\n",
      "[0, 1, 8, 27, 64, 125, 216, 343, 512, 729, 1000]\n"
     ]
    }
   ],
   "source": [
    "x = []\n",
    "y = []\n",
    "\n",
    "\n",
    "# a\n",
    "for i in range(0,11):\n",
    "    x.append(cube(i))\n",
    "\n",
    "print (x)\n",
    "\n",
    "# b\n",
    "y = [cube(i) for i in range(0,11)]\n",
    "\n",
    "print (y)"
   ]
  },
  {
   "cell_type": "markdown",
   "metadata": {},
   "source": [
    "8\\. Nested list comprehension\n",
    "\n",
    "A Pythagorean triple is an integer solution to the Pythagorean theorem $a^2+b^2=c^2$. The first Pythagorean triple is (3,4,5). Find and put in a tuple all unique Pythagorean triples for the positive integers a, b and c less than 100."
   ]
  },
  {
   "cell_type": "code",
   "execution_count": 12,
   "metadata": {},
   "outputs": [
    {
     "name": "stdout",
     "output_type": "stream",
     "text": [
      "[(3, 4, 5), (5, 12, 13), (6, 8, 10), (7, 24, 25), (8, 15, 17), (9, 12, 15), (9, 40, 41), (10, 24, 26), (11, 60, 61), (12, 16, 20), (12, 35, 37), (13, 84, 85), (14, 48, 50), (15, 20, 25), (15, 36, 39), (16, 30, 34), (16, 63, 65), (18, 24, 30), (18, 80, 82), (20, 21, 29), (20, 48, 52), (21, 28, 35), (21, 72, 75), (24, 32, 40), (24, 45, 51), (24, 70, 74), (25, 60, 65), (27, 36, 45), (28, 45, 53), (28, 96, 100), (30, 40, 50), (30, 72, 78), (32, 60, 68), (33, 44, 55), (33, 56, 65), (35, 84, 91), (36, 48, 60), (36, 77, 85), (39, 52, 65), (39, 80, 89), (40, 42, 58), (40, 75, 85), (42, 56, 70), (45, 60, 75), (48, 55, 73), (48, 64, 80), (51, 68, 85), (54, 72, 90), (57, 76, 95), (60, 63, 87), (60, 80, 100), (65, 72, 97)]\n",
      "52\n"
     ]
    }
   ],
   "source": [
    "x = [(a,b,c) for a in range(1,101) for b in range(1,101) for c in range(1,101) if (square(a)+square(b)==square(c)) and a<b<c]\n",
    "\n",
    "print(x)\n",
    "print(len(x))"
   ]
  },
  {
   "cell_type": "markdown",
   "metadata": {},
   "source": [
    "9\\. Normalization\n",
    "\n",
    "Write a function that takes a tuple of numbers and returns it with the entries normalized to one"
   ]
  },
  {
   "cell_type": "code",
   "execution_count": 14,
   "metadata": {},
   "outputs": [
    {
     "name": "stdout",
     "output_type": "stream",
     "text": [
      "[0.10714285714285714, 0.5357142857142857, 0.07142857142857142, 0.21428571428571427, 0.07142857142857142]\n"
     ]
    }
   ],
   "source": [
    "def norm(x):\n",
    "    sum = 0\n",
    "    for i in range(len(x)):\n",
    "        sum+=x[i]\n",
    "    n = [x[i]/sum for i in range(len(x))]\n",
    "    return n\n",
    "\n",
    "x = (3,15,2,6,2)\n",
    "print(norm(x))"
   ]
  }
 ],
 "metadata": {
  "kernelspec": {
   "display_name": "Python 3",
   "language": "python",
   "name": "python3"
  },
  "language_info": {
   "codemirror_mode": {
    "name": "ipython",
    "version": 3
   },
   "file_extension": ".py",
   "mimetype": "text/x-python",
   "name": "python",
   "nbconvert_exporter": "python",
   "pygments_lexer": "ipython3",
   "version": "3.7.9"
  }
 },
 "nbformat": 4,
 "nbformat_minor": 2
}
