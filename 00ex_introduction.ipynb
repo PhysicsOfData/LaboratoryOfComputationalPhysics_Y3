{
 "cells": [
  {
   "cell_type": "markdown",
   "metadata": {},
   "source": [
    "1. The MickeyMouse problem\n",
    "\n",
    "a) Write a program that prints the numbers from 1 to 100. But for multiples of three print Mickey instead of the number and for the multiples of five print Mouse. For numbers which are multiples of both three and five print MickeyMouse\n",
    "\n",
    "b) Put the result in a tuple and substitute Mickey with Donald and Mouse with Duck"
   ]
  },
  {
   "cell_type": "code",
   "execution_count": 1,
   "metadata": {},
   "outputs": [
    {
     "name": "stdout",
     "output_type": "stream",
     "text": [
      "1\n",
      "2\n",
      "mickey\n",
      "4\n",
      "mouse\n",
      "mickey\n",
      "7\n",
      "8\n",
      "mickey\n",
      "mouse\n",
      "11\n",
      "mickey\n",
      "13\n",
      "14\n",
      "mickeymouse\n",
      "16\n",
      "17\n",
      "mickey\n",
      "19\n",
      "mouse\n",
      "mickey\n",
      "22\n",
      "23\n",
      "mickey\n",
      "mouse\n",
      "26\n",
      "mickey\n",
      "28\n",
      "29\n",
      "mickeymouse\n",
      "31\n",
      "32\n",
      "mickey\n",
      "34\n",
      "mouse\n",
      "mickey\n",
      "37\n",
      "38\n",
      "mickey\n",
      "mouse\n",
      "41\n",
      "mickey\n",
      "43\n",
      "44\n",
      "mickeymouse\n",
      "46\n",
      "47\n",
      "mickey\n",
      "49\n",
      "mouse\n",
      "mickey\n",
      "52\n",
      "53\n",
      "mickey\n",
      "mouse\n",
      "56\n",
      "mickey\n",
      "58\n",
      "59\n",
      "mickeymouse\n",
      "61\n",
      "62\n",
      "mickey\n",
      "64\n",
      "mouse\n",
      "mickey\n",
      "67\n",
      "68\n",
      "mickey\n",
      "mouse\n",
      "71\n",
      "mickey\n",
      "73\n",
      "74\n",
      "mickeymouse\n",
      "76\n",
      "77\n",
      "mickey\n",
      "79\n",
      "mouse\n",
      "mickey\n",
      "82\n",
      "83\n",
      "mickey\n",
      "mouse\n",
      "86\n",
      "mickey\n",
      "88\n",
      "89\n",
      "mickeymouse\n",
      "91\n",
      "92\n",
      "mickey\n",
      "94\n",
      "mouse\n",
      "mickey\n",
      "97\n",
      "98\n",
      "mickey\n",
      "mouse\n"
     ]
    }
   ],
   "source": [
    "for i in range(1,101):\n",
    "    if i % 3 == 0 and i % 5 != 0:\n",
    "        print(\"mickey\")\n",
    "    elif i % 5 == 0 and i % 3 != 0:\n",
    "        print(\"mouse\")\n",
    "    elif i % 3 == 0 and i % 5 == 0:\n",
    "        print(\"mickeymouse\")\n",
    "    else:\n",
    "        print(i)"
   ]
  },
  {
   "cell_type": "markdown",
   "metadata": {},
   "source": [
    "2\\. The swap function\n",
    "\n",
    "Write a function that swap the values of two input variables x and y (whatever the type). Try to do that also without a temporary variable"
   ]
  },
  {
   "cell_type": "code",
   "execution_count": 3,
   "metadata": {},
   "outputs": [
    {
     "name": "stdout",
     "output_type": "stream",
     "text": [
      "The value of x after swapping: 10\n",
      "The value of y after swapping: 5\n"
     ]
    }
   ],
   "source": [
    "x = 5\n",
    "y = 10\n",
    "\n",
    "temp = x\n",
    "x = y\n",
    "y = temp\n",
    "\n",
    "print('The value of x after swapping: {}'.format(x))\n",
    "print('The value of y after swapping: {}'.format(y))"
   ]
  },
  {
   "cell_type": "code",
   "execution_count": 4,
   "metadata": {},
   "outputs": [
    {
     "name": "stdout",
     "output_type": "stream",
     "text": [
      "x = 10\n",
      "y = 5\n"
     ]
    }
   ],
   "source": [
    "x = 5\n",
    "y = 10\n",
    "\n",
    "x, y = y, x\n",
    "print(\"x =\", x)\n",
    "print(\"y =\", y)"
   ]
  },
  {
   "cell_type": "markdown",
   "metadata": {},
   "source": [
    "3\\. Computing the distance\n",
    "\n",
    "Write a function that calculates and returns the euclidean distance between two points *u* and *v*, where *u* and *v* are both 2-tuples *(x,y)*. For example, if *u=(3,0)* and *v=(0,4)*, the function should return 5"
   ]
  },
  {
   "cell_type": "code",
   "execution_count": 25,
   "metadata": {},
   "outputs": [
    {
     "name": "stdout",
     "output_type": "stream",
     "text": [
      "3 0 0 4\n",
      "5.0\n"
     ]
    }
   ],
   "source": [
    "\n",
    "a,b,c,d=map(int,input().split())\n",
    "\n",
    "u = (a,b)\n",
    "v = (c,d)\n",
    "\n",
    "distance = ( (( c - a ) ** 2 )+(( d - b ) ** 2 ) ) ** 0.5\n",
    "\n",
    "print(distance)"
   ]
  },
  {
   "cell_type": "markdown",
   "metadata": {},
   "source": [
    "4\\. Counting letters\n",
    "\n",
    "Write a program to calculate the number of times each character occurs in a given string *s*. Ignore differneces in capitalization"
   ]
  },
  {
   "cell_type": "code",
   "execution_count": null,
   "metadata": {},
   "outputs": [],
   "source": [
    "s=\"Write a program that prints the numbers from 1 to 100. \\\n",
    "But for multiples of three print Mickey instead of the number and for the multiples of five print Mouse. \\\n",
    "For numbers which are multiples of both three and five print MickeyMouse\""
   ]
  },
  {
   "cell_type": "code",
   "execution_count": 22,
   "metadata": {},
   "outputs": [
    {
     "name": "stdout",
     "output_type": "stream",
     "text": [
      "Count of all characters in s1 is :\n",
      " {'w': 2, 'r': 17, 'i': 14, 't': 19, 'e': 22, ' ': 41, 'a': 7, 'p': 8, 'o': 13, 'g': 1, 'm': 12, 'h': 9, 'n': 10, 's': 9, 'u': 9, 'b': 5, 'f': 10, '1': 2, '0': 2, '.': 2, 'l': 6, 'c': 3, 'k': 2, 'y': 2, 'd': 3, 'v': 2}\n"
     ]
    }
   ],
   "source": [
    "s=\"Write a program that prints the numbers from 1 to 100. \\\n",
    "But for multiples of three print Mickey instead of the number and for the multiples of five print Mouse. \\\n",
    "For numbers which are multiples of both three and five print MickeyMouse\"\n",
    "s1=s.lower()\n",
    "  \n",
    "all_freq = {} \n",
    "  \n",
    "for i in s1: \n",
    "    if i in all_freq: \n",
    "        all_freq[i] += 1\n",
    "    else: \n",
    "        all_freq[i] = 1\n",
    "    \n",
    "print (\"Count of all characters in s1 is :\\n \"\n",
    "                                        +  str(all_freq)) "
   ]
  },
  {
   "cell_type": "markdown",
   "metadata": {},
   "source": [
    "5\\. Isolating the unique\n",
    "\n",
    "Write a function that determines and count the unique numbers in the list *l*"
   ]
  },
  {
   "cell_type": "code",
   "execution_count": 26,
   "metadata": {},
   "outputs": [
    {
     "name": "stdout",
     "output_type": "stream",
     "text": [
      "1 36\n",
      "2 45\n",
      "3 58\n",
      "4 3\n",
      "5 74\n",
      "6 96\n",
      "7 64\n",
      "8 45\n",
      "9 31\n",
      "10 10\n",
      "11 24\n",
      "12 19\n",
      "13 33\n",
      "14 86\n",
      "15 99\n",
      "16 18\n",
      "17 63\n",
      "18 70\n",
      "19 85\n",
      "20 85\n",
      "21 63\n",
      "22 47\n",
      "23 56\n",
      "24 42\n",
      "25 70\n",
      "26 84\n",
      "27 88\n",
      "28 55\n",
      "29 20\n",
      "30 54\n",
      "31 8\n",
      "32 56\n",
      "33 51\n",
      "34 79\n",
      "35 81\n",
      "36 57\n",
      "37 37\n",
      "38 91\n",
      "39 1\n",
      "40 84\n",
      "41 84\n",
      "42 36\n",
      "43 66\n",
      "44 9\n",
      "45 89\n",
      "46 50\n",
      "47 42\n",
      "48 91\n",
      "49 50\n",
      "50 95\n",
      "51 90\n",
      "52 98\n",
      "53 39\n",
      "54 16\n",
      "55 82\n",
      "56 31\n",
      "57 92\n",
      "58 41\n",
      "59 45\n",
      "60 30\n",
      "61 66\n",
      "62 70\n",
      "63 34\n",
      "64 85\n",
      "65 94\n",
      "66 5\n",
      "67 3\n",
      "68 36\n",
      "69 72\n",
      "70 91\n",
      "71 84\n",
      "72 34\n",
      "73 87\n",
      "74 75\n",
      "75 53\n",
      "76 51\n",
      "77 20\n",
      "78 89\n",
      "79 51\n",
      "80 20\n"
     ]
    }
   ],
   "source": [
    "\n",
    "for i, j in enumerate([36, 45, 58, 3, 74, 96, 64, 45, 31, 10, 24, 19, 33, 86, 99, 18, 63, 70, 85,\n",
    " 85, 63, 47, 56, 42, 70, 84, 88, 55, 20, 54, 8, 56, 51, 79, 81, 57, 37, 91,\n",
    " 1, 84, 84, 36, 66, 9, 89, 50, 42, 91, 50, 95, 90, 98, 39, 16, 82, 31, 92, 41,\n",
    " 45, 30, 66, 70, 34, 85, 94, 5, 3, 36, 72, 91, 84, 34, 87, 75, 53, 51, 20, 89, 51, 20]): \n",
    "    print(i+1,j)\n",
    "    \n",
    "\n"
   ]
  },
  {
   "cell_type": "markdown",
   "metadata": {},
   "source": [
    "6\\. Combination of functions\n",
    "\n",
    "Write two functions - one that returns the square of a number, and one that returns the cube. Now write a third function that returns the number raised to the 6th power using the two previous functions."
   ]
  },
  {
   "cell_type": "code",
   "execution_count": 45,
   "metadata": {},
   "outputs": [
    {
     "name": "stdout",
     "output_type": "stream",
     "text": [
      "Enter an integer number: 3\n",
      "square of 3 is 9\n",
      "Cube of 3 is 27\n",
      "the6thpower of 3 is 243\n"
     ]
    }
   ],
   "source": [
    "\n",
    "def square (num):\n",
    "    return  (num*num)\n",
    "\n",
    "\n",
    "def cube (num) :\n",
    "    return  (num*num*num) \n",
    "\n",
    "def the6thpower (num):\n",
    "    a = square (num)\n",
    "    b = cube (num)\n",
    "    return a*b\n",
    "\n",
    "\n",
    "number = int (input(\"Enter an integer number: \"))\n",
    "\n",
    "\n",
    "print( \"square of {0} is {1}\".format(number, square(number)))\n",
    "print (\"Cube of {0} is {1}\".format(number, cube (number)))\n",
    "print (\"the6thpower of {0} is {1}\".format(number, the6thpower (number)))\n",
    "\n"
   ]
  },
  {
   "cell_type": "markdown",
   "metadata": {},
   "source": [
    "7\\. Cubes\n",
    "\n",
    "Create a list of the cubes of x for x in *[0, 10]* using:\n",
    "\n",
    "a) a for loop\n",
    "\n",
    "b) a list comprehension"
   ]
  },
  {
   "cell_type": "code",
   "execution_count": 62,
   "metadata": {},
   "outputs": [
    {
     "name": "stdout",
     "output_type": "stream",
     "text": [
      "[0, 1, 8, 27, 64, 125, 216, 343, 512, 729, 1000]\n"
     ]
    }
   ],
   "source": [
    "list=[]\n",
    "for i in range(11):\n",
    "    list.append(i**3)\n",
    "print(list)"
   ]
  },
  {
   "cell_type": "code",
   "execution_count": 53,
   "metadata": {},
   "outputs": [
    {
     "name": "stdout",
     "output_type": "stream",
     "text": [
      "[0, 1, 8, 27, 64, 125, 216, 343, 512, 729, 1000]\n"
     ]
    }
   ],
   "source": [
    "nums = [x**3 for x in range(11)]\n",
    "print (nums)"
   ]
  },
  {
   "cell_type": "markdown",
   "metadata": {},
   "source": [
    "8\\. Nested list comprehension\n",
    "\n",
    "A Pythagorean triple is an integer solution to the Pythagorean theorem $a^2+b^2=c^2$. The first Pythagorean triple is (3,4,5). Find and put in a tuple all unique Pythagorean triples for the positive integers a, b and c less than 100."
   ]
  },
  {
   "cell_type": "code",
   "execution_count": 77,
   "metadata": {},
   "outputs": [
    {
     "name": "stdout",
     "output_type": "stream",
     "text": [
      "[3, 4, 5]\n",
      "[5, 12, 13]\n",
      "[6, 8, 10]\n",
      "[7, 24, 25]\n",
      "[8, 15, 17]\n",
      "[9, 12, 15]\n",
      "[9, 40, 41]\n",
      "[10, 24, 26]\n",
      "[11, 60, 61]\n",
      "[12, 16, 20]\n",
      "[12, 35, 37]\n",
      "[13, 84, 85]\n",
      "[14, 48, 50]\n",
      "[15, 20, 25]\n",
      "[15, 36, 39]\n",
      "[16, 30, 34]\n",
      "[16, 63, 65]\n",
      "[18, 24, 30]\n",
      "[18, 80, 82]\n",
      "[20, 21, 29]\n",
      "[20, 48, 52]\n",
      "[21, 28, 35]\n",
      "[21, 72, 75]\n",
      "[24, 32, 40]\n",
      "[24, 45, 51]\n",
      "[24, 70, 74]\n",
      "[25, 60, 65]\n",
      "[27, 36, 45]\n",
      "[28, 45, 53]\n",
      "[30, 40, 50]\n",
      "[30, 72, 78]\n",
      "[32, 60, 68]\n",
      "[33, 44, 55]\n",
      "[33, 56, 65]\n",
      "[35, 84, 91]\n",
      "[36, 48, 60]\n",
      "[36, 77, 85]\n",
      "[39, 52, 65]\n",
      "[39, 80, 89]\n",
      "[40, 42, 58]\n",
      "[40, 75, 85]\n",
      "[42, 56, 70]\n",
      "[45, 60, 75]\n",
      "[48, 55, 73]\n",
      "[48, 64, 80]\n",
      "[51, 68, 85]\n",
      "[54, 72, 90]\n",
      "[57, 76, 95]\n",
      "[60, 63, 87]\n",
      "[65, 72, 97]\n"
     ]
    }
   ],
   "source": [
    "for a in range(1,100):\n",
    "    for b in range(1,100):\n",
    "        for c in range(1,100):\n",
    "            if a<b and c>b:\n",
    "                if c**2==a**2+b**2:\n",
    "                    print([a,b,c])"
   ]
  },
  {
   "cell_type": "markdown",
   "metadata": {},
   "source": [
    "9\\. Normalization\n",
    "\n",
    "Write a function that takes a tuple of numbers and returns it with the entries normalized to one"
   ]
  },
  {
   "cell_type": "code",
   "execution_count": 118,
   "metadata": {},
   "outputs": [
    {
     "name": "stdout",
     "output_type": "stream",
     "text": [
      "normed = [0.125, 0.25, 0.125, 0.5]\n"
     ]
    }
   ],
   "source": [
    "raw = [0.02,0.04,0.02,0.08] \n",
    "normed = [i/sum(raw) for i in raw]\n",
    "print(\"normed =\",normed)"
   ]
  }
 ],
 "metadata": {
  "kernelspec": {
   "display_name": "Python 3",
   "language": "python",
   "name": "python3"
  },
  "language_info": {
   "codemirror_mode": {
    "name": "ipython",
    "version": 3
   },
   "file_extension": ".py",
   "mimetype": "text/x-python",
   "name": "python",
   "nbconvert_exporter": "python",
   "pygments_lexer": "ipython3",
   "version": "3.8.3"
  }
 },
 "nbformat": 4,
 "nbformat_minor": 2
}
