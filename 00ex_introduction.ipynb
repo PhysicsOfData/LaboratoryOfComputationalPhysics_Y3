{
 "cells": [
  {
   "cell_type": "markdown",
   "metadata": {},
   "source": [
    "1. The MickeyMouse problem\n",
    "\n",
    "a) Write a program that prints the numbers from 1 to 100. But for multiples of three print Mickey instead of the number and for the multiples of five print Mouse. For numbers which are multiples of both three and five print MickeyMouse\n",
    "\n",
    "b) Put the result in a tuple and substitute Mickey with Donald and Mouse with Duck"
   ]
  },
  {
   "cell_type": "code",
   "execution_count": 53,
   "metadata": {},
   "outputs": [
    {
     "name": "stdout",
     "output_type": "stream",
     "text": [
      "(1, 2, 'Donald', 4, 'Duck', 'Donald', 7, 8, 'Donald', 'Duck', 11, 'Donald', 13, 14, 'DonaldDuck', 16, 17, 'Donald', 19, 'Duck', 'Donald', 22, 23, 'Donald', 'Duck', 26, 'Donald', 28, 29, 'DonaldDuck', 31, 32, 'Donald', 34, 'Duck', 'Donald', 37, 38, 'Donald', 'Duck', 41, 'Donald', 43, 44, 'DonaldDuck', 46, 47, 'Donald', 49, 'Duck', 'Donald', 52, 53, 'Donald', 'Duck', 56, 'Donald', 58, 59, 'DonaldDuck', 61, 62, 'Donald', 64, 'Duck', 'Donald', 67, 68, 'Donald', 'Duck', 71, 'Donald', 73, 74, 'DonaldDuck', 76, 77, 'Donald', 79, 'Duck', 'Donald', 82, 83, 'Donald', 'Duck', 86, 'Donald', 88, 89, 'DonaldDuck', 91, 92, 'Donald', 94, 'Duck', 'Donald', 97, 98, 'Donald', 'Duck')\n"
     ]
    }
   ],
   "source": [
    "#creo una lista e la converto in tupla alla fine\n",
    "t= \"Mickey\"\n",
    "s= \"Mouse\"\n",
    "\n",
    "\n",
    "lista = []\n",
    "for i in range(1,101):\n",
    "    if(i%3==0) and (i%5==0):  lista.append(t+s)#,print(t,s)\n",
    "    elif (i%3==0 and i%5!=0):  lista.append(t) #,print(t)\n",
    "    elif (i%3!=0 and i%5==0):  lista.append(s)#,print(s)\n",
    "    else:  lista.append(i)#, print(i)\n",
    "        \n",
    "a =\"Donald\"\n",
    "b =\"Duck\"\n",
    "\n",
    "for i in range(0,100):\n",
    "    if lista[i]==t: lista[i]=a\n",
    "    elif lista[i]==s: lista[i]=b\n",
    "    elif lista[i]==t+s: lista[i]= a+b\n",
    "    else: lista[i]=lista[i]\n",
    "\n",
    "\n",
    "tupleMM = tuple(lista)\n",
    "print(tupleMM)\n",
    "   "
   ]
  },
  {
   "cell_type": "markdown",
   "metadata": {},
   "source": [
    "2\\. The swap function\n",
    "\n",
    "Write a function that swap the values of two input variables x and y (whatever the type). Try to do that also without a temporary variable"
   ]
  },
  {
   "cell_type": "code",
   "execution_count": 10,
   "metadata": {},
   "outputs": [
    {
     "name": "stdout",
     "output_type": "stream",
     "text": [
      "Inserire a: 10\n",
      "Inserire b: 4\n",
      "10 4\n",
      "4 10\n",
      "Inserire x: 10\n",
      "Inserire y: 4\n",
      "10 4\n",
      "4 10\n"
     ]
    }
   ],
   "source": [
    "#swap with a temporary variable (s)\n",
    "a=input(\"Inserire a: \")\n",
    "b=input(\"Inserire b: \")\n",
    "\n",
    "print(a,b)\n",
    "\n",
    "s = a\n",
    "a = b\n",
    "b = s\n",
    "print(a,b)\n",
    "\n",
    "#swap without a temporary variable\n",
    "x=input(\"Inserire x: \")\n",
    "y=input(\"Inserire y: \")\n",
    "\n",
    "print(x,y)\n",
    "\n",
    "(x,y)=(y,x)\n",
    "print(x,y)\n"
   ]
  },
  {
   "cell_type": "markdown",
   "metadata": {},
   "source": [
    "3\\. Computing the distance\n",
    "\n",
    "Write a function that calculates and returns the euclidean distance between two points *u* and *v*, where *u* and *v* are both 2-tuples *(x,y)*. For example, if *u=(3,0)* and *v=(0,4)*, the function should return 5"
   ]
  },
  {
   "cell_type": "code",
   "execution_count": 12,
   "metadata": {},
   "outputs": [
    {
     "name": "stdout",
     "output_type": "stream",
     "text": [
      "Inserire le 2 coordinate del vettore u: 4,3\n",
      "Inserire le 2 coordinate del vettore v: 6,7\n",
      "4.47213595499958\n"
     ]
    }
   ],
   "source": [
    "#definisco le due tuple u,v\n",
    "(a,b)=input(\"Inserire le 2 coordinate del vettore u: \").split(',')\n",
    "(c,d)=input(\"Inserire le 2 coordinate del vettore v: \").split(',')\n",
    "\n",
    "#warnong: con 'input' creo delle variabili stringhe. e per fare operazioni devo trasformarle in int\n",
    "\n",
    "distance=pow(pow(int(a)-int(c),2)+pow(int(b)-int(d),2),0.5)\n",
    "print(distance)\n"
   ]
  },
  {
   "cell_type": "markdown",
   "metadata": {},
   "source": [
    "4\\. Counting letters\n",
    "\n",
    "Write a program to calculate the number of times each character occurs in a given string *s*. Ignore differneces in capitalization"
   ]
  },
  {
   "cell_type": "code",
   "execution_count": 13,
   "metadata": {},
   "outputs": [
    {
     "name": "stdout",
     "output_type": "stream",
     "text": [
      "Inserire il carattere da ricercare: i\n",
      "14\n"
     ]
    }
   ],
   "source": [
    "s=\"Write a program that prints the numbers from 1 to 100. \\\n",
    "But for multiples of three print Mickey instead of the number and for the multiples of five print Mouse. \\\n",
    "For numbers which are multiples of both three and five print MickeyMouse\"\n",
    "\n",
    "t=input(\"Inserire il carattere da ricercare: \")\n",
    "numero=0\n",
    "\n",
    "for i in range (0,len(s)):\n",
    "    if(s[i]==t) or (s[i]==t.upper()) or (s[i]==t.lower()): numero += 1\n",
    "    else: numero += 0\n",
    "print(numero)"
   ]
  },
  {
   "cell_type": "markdown",
   "metadata": {},
   "source": [
    "5\\. Isolating the unique\n",
    "\n",
    "Write a function that determines and count the unique numbers in the list *l*"
   ]
  },
  {
   "cell_type": "code",
   "execution_count": 14,
   "metadata": {},
   "outputs": [
    {
     "name": "stdout",
     "output_type": "stream",
     "text": [
      "37\n"
     ]
    }
   ],
   "source": [
    "l = [36, 45, 58, 3, 74, 96, 64, 45, 31, 10, 24, 19, 33, 86, 99, 18, 63, 70, 85,\n",
    " 85, 63, 47, 56, 42, 70, 84, 88, 55, 20, 54, 8, 56, 51, 79, 81, 57, 37, 91,\n",
    " 1, 84, 84, 36, 66, 9, 89, 50, 42, 91, 50, 95, 90, 98, 39, 16, 82, 31, 92, 41,\n",
    " 45, 30, 66, 70, 34, 85, 94, 5, 3, 36, 72, 91, 84, 34, 87, 75, 53, 51, 20, 89, 51, 20]\n",
    "\n",
    "def func():\n",
    "    s=0\n",
    "    for i in range(0,len(l)):\n",
    "        c=l.count(l[i])\n",
    "        if(c==1): s+=1\n",
    "        else:  s+=0\n",
    "    print(s)\n",
    "        \n",
    "func()"
   ]
  },
  {
   "cell_type": "markdown",
   "metadata": {},
   "source": [
    "6\\. Combination of functions\n",
    "\n",
    "Write two functions - one that returns the square of a number, and one that returns the cube. Now write a third function that returns the number raised to the 6th power using the two previous functions."
   ]
  },
  {
   "cell_type": "code",
   "execution_count": 15,
   "metadata": {},
   "outputs": [
    {
     "data": {
      "text/plain": [
       "64"
      ]
     },
     "execution_count": 15,
     "metadata": {},
     "output_type": "execute_result"
    }
   ],
   "source": [
    "def square(x):\n",
    "    return(pow(x,2))\n",
    "\n",
    "def cube(x):\n",
    "    return(pow(x,3))\n",
    "\n",
    "def all(x):\n",
    "    return(square(cube(x)))\n",
    "\n",
    "all(2)"
   ]
  },
  {
   "cell_type": "markdown",
   "metadata": {},
   "source": [
    "7\\. Cubes\n",
    "\n",
    "Create a list of the cubes of x for x in *[0, 10]* using:\n",
    "\n",
    "a) a for loop\n",
    "\n",
    "b) a list comprehension"
   ]
  },
  {
   "cell_type": "code",
   "execution_count": 16,
   "metadata": {},
   "outputs": [
    {
     "name": "stdout",
     "output_type": "stream",
     "text": [
      "[0, 1, 8, 27, 64, 125, 216, 343, 512, 729]\n",
      "[0, 1, 8, 27, 64, 125, 216, 343, 512, 729]\n"
     ]
    }
   ],
   "source": [
    "#ciclo for\n",
    "cubi=[]\n",
    "for i in range(0,10):\n",
    "    cubi.append(i**3)\n",
    "    \n",
    "print(cubi)\n",
    "\n",
    "#comprehension\n",
    "terza=[x**3 for x in range(0,10)]\n",
    "print(terza)"
   ]
  },
  {
   "cell_type": "markdown",
   "metadata": {},
   "source": [
    "8\\. Nested list comprehension\n",
    "\n",
    "A Pythagorean triple is an integer solution to the Pythagorean theorem $a^2+b^2=c^2$. The first Pythagorean triple is (3,4,5). Find and put in a tuple all unique Pythagorean triples for the positive integers a, b and c less than 100."
   ]
  },
  {
   "cell_type": "code",
   "execution_count": 17,
   "metadata": {},
   "outputs": [
    {
     "name": "stdout",
     "output_type": "stream",
     "text": [
      "((3, 4, 5), (5, 12, 13), (6, 8, 10), (7, 24, 25), (8, 15, 17), (9, 12, 15), (9, 40, 41), (10, 24, 26), (11, 60, 61), (12, 16, 20), (12, 35, 37), (13, 84, 85), (14, 48, 50), (15, 20, 25), (15, 36, 39), (16, 30, 34), (16, 63, 65), (18, 24, 30), (18, 80, 82), (20, 21, 29), (20, 48, 52), (21, 28, 35), (21, 72, 75), (24, 32, 40), (24, 45, 51), (24, 70, 74), (25, 60, 65), (27, 36, 45), (28, 45, 53), (30, 40, 50), (30, 72, 78), (32, 60, 68), (33, 44, 55), (33, 56, 65), (35, 84, 91), (36, 48, 60), (36, 77, 85), (39, 52, 65), (39, 80, 89), (40, 42, 58), (40, 75, 85), (42, 56, 70), (45, 60, 75), (48, 55, 73), (48, 64, 80), (51, 68, 85), (54, 72, 90), (57, 76, 95), (60, 63, 87), (65, 72, 97))\n"
     ]
    }
   ],
   "source": [
    "def func(x,y):\n",
    "    t=x**2+y**2\n",
    "    c=pow(t,0.5)\n",
    "    if c/round(c)==1: return(round(c))\n",
    "    else: return(200)\n",
    "\n",
    "\n",
    "terne=[(a,b,func(a,b)) for a in range(1,100) for b in range(1,100) if b>a if func(a,b)<100]\n",
    "#print(terne)\n",
    "\n",
    "tuplaterne = tuple(terne)\n",
    "print(tuplaterne)\n",
    "\n",
    "#così ho trovato le terne pitagoriche primitive e derivate fino a c<100"
   ]
  },
  {
   "cell_type": "markdown",
   "metadata": {},
   "source": [
    "9\\. Normalization\n",
    "\n",
    "Write a function that takes a tuple of numbers and returns it with the entries normalized to one"
   ]
  },
  {
   "cell_type": "code",
   "execution_count": 18,
   "metadata": {},
   "outputs": [
    {
     "name": "stdout",
     "output_type": "stream",
     "text": [
      "Errore: è necessario inserire una tupla!\n"
     ]
    }
   ],
   "source": [
    "#creo una funzione che normalizza gli elementi in modo che la loro somma sia 1\n",
    "def normalizza(t):\n",
    "    if isinstance(t, tuple):\n",
    "        s=[x for x in t]\n",
    "        n=0\n",
    "        for i in range(0,len(s)): n+=(s[i])\n",
    "        for i in range(0,len(s)):\n",
    "            s[i]=s[i]/n\n",
    "        tupla=tuple(s)\n",
    "        \n",
    "        return(tupla)\n",
    "    else: print(\"Errore: è necessario inserire una tupla!\")\n",
    "\n",
    "a=3\n",
    "numeri=(2,2,4)\n",
    "normalizza(a)\n"
   ]
  },
  {
   "cell_type": "code",
   "execution_count": null,
   "metadata": {},
   "outputs": [],
   "source": []
  }
 ],
 "metadata": {
  "kernelspec": {
   "display_name": "Python 3",
   "language": "python",
   "name": "python3"
  },
  "language_info": {
   "codemirror_mode": {
    "name": "ipython",
    "version": 3
   },
   "file_extension": ".py",
   "mimetype": "text/x-python",
   "name": "python",
   "nbconvert_exporter": "python",
   "pygments_lexer": "ipython3",
   "version": "3.8.3"
  }
 },
 "nbformat": 4,
 "nbformat_minor": 2
}
