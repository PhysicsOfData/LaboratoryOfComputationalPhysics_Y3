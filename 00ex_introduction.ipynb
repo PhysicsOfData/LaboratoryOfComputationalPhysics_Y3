{
 "cells": [
  {
   "cell_type": "markdown",
   "metadata": {},
   "source": [
    "1. The MickeyMouse problem\n",
    "\n",
    "a) Write a program that prints the numbers from 1 to 100. But for multiples of three print Mickey instead of the number and for the multiples of five print Mouse. For numbers which are multiples of both three and five print MickeyMouse\n",
    "\n",
    "b) Put the result in a tuple and substitute Mickey with Donald and Mouse with Duck"
   ]
  },
  {
   "cell_type": "code",
   "execution_count": 1,
   "metadata": {},
   "outputs": [
    {
     "name": "stdout",
     "output_type": "stream",
     "text": [
      "1\n",
      "2\n",
      "Mickey\n",
      "4\n",
      "Mouse\n",
      "Mickey\n",
      "7\n",
      "8\n",
      "Mickey\n",
      "Mouse\n",
      "11\n",
      "Mickey\n",
      "13\n",
      "14\n",
      "MickeyMouse\n",
      "16\n",
      "17\n",
      "Mickey\n",
      "19\n",
      "Mouse\n",
      "Mickey\n",
      "22\n",
      "23\n",
      "Mickey\n",
      "Mouse\n",
      "26\n",
      "Mickey\n",
      "28\n",
      "29\n",
      "MickeyMouse\n",
      "31\n",
      "32\n",
      "Mickey\n",
      "34\n",
      "Mouse\n",
      "Mickey\n",
      "37\n",
      "38\n",
      "Mickey\n",
      "Mouse\n",
      "41\n",
      "Mickey\n",
      "43\n",
      "44\n",
      "MickeyMouse\n",
      "46\n",
      "47\n",
      "Mickey\n",
      "49\n",
      "Mouse\n",
      "Mickey\n",
      "52\n",
      "53\n",
      "Mickey\n",
      "Mouse\n",
      "56\n",
      "Mickey\n",
      "58\n",
      "59\n",
      "MickeyMouse\n",
      "61\n",
      "62\n",
      "Mickey\n",
      "64\n",
      "Mouse\n",
      "Mickey\n",
      "67\n",
      "68\n",
      "Mickey\n",
      "Mouse\n",
      "71\n",
      "Mickey\n",
      "73\n",
      "74\n",
      "MickeyMouse\n",
      "76\n",
      "77\n",
      "Mickey\n",
      "79\n",
      "Mouse\n",
      "Mickey\n",
      "82\n",
      "83\n",
      "Mickey\n",
      "Mouse\n",
      "86\n",
      "Mickey\n",
      "88\n",
      "89\n",
      "MickeyMouse\n",
      "91\n",
      "92\n",
      "Mickey\n",
      "94\n",
      "Mouse\n",
      "Mickey\n",
      "97\n",
      "98\n",
      "Mickey\n",
      "\n",
      "\n",
      "\n",
      "\n",
      "-------------------\n",
      "Donald Duck version\n",
      "-------------------\n",
      "1\n",
      "2\n",
      "Donald\n",
      "4\n",
      "Duck\n",
      "Donald\n",
      "7\n",
      "8\n",
      "Donald\n",
      "Duck\n",
      "11\n",
      "Donald\n",
      "13\n",
      "14\n",
      "DonaldDuck\n",
      "16\n",
      "17\n",
      "Donald\n",
      "19\n",
      "Duck\n",
      "Donald\n",
      "22\n",
      "23\n",
      "Donald\n",
      "Duck\n",
      "26\n",
      "Donald\n",
      "28\n",
      "29\n",
      "DonaldDuck\n",
      "31\n",
      "32\n",
      "Donald\n",
      "34\n",
      "Duck\n",
      "Donald\n",
      "37\n",
      "38\n",
      "Donald\n",
      "Duck\n",
      "41\n",
      "Donald\n",
      "43\n",
      "44\n",
      "DonaldDuck\n",
      "46\n",
      "47\n",
      "Donald\n",
      "49\n",
      "Duck\n",
      "Donald\n",
      "52\n",
      "53\n",
      "Donald\n",
      "Duck\n",
      "56\n",
      "Donald\n",
      "58\n",
      "59\n",
      "DonaldDuck\n",
      "61\n",
      "62\n",
      "Donald\n",
      "64\n",
      "Duck\n",
      "Donald\n",
      "67\n",
      "68\n",
      "Donald\n",
      "Duck\n",
      "71\n",
      "Donald\n",
      "73\n",
      "74\n",
      "DonaldDuck\n",
      "76\n",
      "77\n",
      "Donald\n",
      "79\n",
      "Duck\n",
      "Donald\n",
      "82\n",
      "83\n",
      "Donald\n",
      "Duck\n",
      "86\n",
      "Donald\n",
      "88\n",
      "89\n",
      "DonaldDuck\n",
      "91\n",
      "92\n",
      "Donald\n",
      "94\n",
      "Duck\n",
      "Donald\n",
      "97\n",
      "98\n",
      "Donald\n"
     ]
    }
   ],
   "source": [
    "counting = range(1,100)\n",
    "# Could lightly optimize with De Morgan's laws: (!c%3 && !c%5) = !(c%3 || c%5), or with !c%15\n",
    "counting = tuple('MickeyMouse' if not c%3 and not c%5 else \n",
    "                 'Mickey' if not c%3 else 'Mouse' if not c%5 else c for c in counting)\n",
    "for c in counting:\n",
    "    print(c)\n",
    "substitution_dict = {'MickeyMouse' : 'DonaldDuck', 'Mickey' : 'Donald', 'Mouse' : 'Duck'}\n",
    "counting_but_donald = tuple(substitution_dict[c] if type(c)==str else c for c in counting)\n",
    "# Alternative\n",
    "#counting_but_donald = tuple('DonaldDuck' if c=='MickeyMouse' else 'Donald' if c=='Mickey' else\n",
    "#                           'Duck' if c=='Mouse' else c for c in counting)\n",
    "print(\"\\n\\n\\n\")\n",
    "print(\"-------------------\")\n",
    "print(\"Donald Duck version\")\n",
    "print(\"-------------------\")\n",
    "for c in counting_but_donald:\n",
    "    print(c)\n",
    "\n"
   ]
  },
  {
   "cell_type": "markdown",
   "metadata": {},
   "source": [
    "2\\. The swap function\n",
    "\n",
    "Write a function that swap the values of two input variables x and y (whatever the type). Try to do that also without a temporary variable"
   ]
  },
  {
   "cell_type": "code",
   "execution_count": 39,
   "metadata": {},
   "outputs": [
    {
     "name": "stdout",
     "output_type": "stream",
     "text": [
      "(2, 1)\n",
      "(2, 1)\n",
      "(2, 1)\n"
     ]
    }
   ],
   "source": [
    "x, y = 1, 2\n",
    "def swap_with_temp(a, b):\n",
    "    temp = a\n",
    "    a = b\n",
    "    b = temp\n",
    "    return a,b\n",
    "\n",
    "def swap_without_temp(a, b):\n",
    "    return b,a\n",
    "\n",
    "def swap_global(a:str, b:str):\n",
    "    if not (type(a)==str and type(b)==str):\n",
    "        print(\"Error: string type needed to parse\")\n",
    "        return\n",
    "    a_value = globals()[a]\n",
    "    b_value = globals()[b]\n",
    "    exec(\"global \" + a + \"; \" + a + \" = b_value\")\n",
    "    exec(\"global \" + b + \"; \" + b + \" = a_value\")\n",
    "    return globals()[a], globals()[b]\n",
    "\n",
    "\n",
    "print(swap_with_temp(x,y))\n",
    "print(swap_without_temp(x,y))\n",
    "print(swap_global(\"x\",\"y\"))\n"
   ]
  },
  {
   "cell_type": "markdown",
   "metadata": {},
   "source": [
    "3\\. Computing the distance\n",
    "\n",
    "Write a function that calculates and returns the euclidean distance between two points *u* and *v*, where *u* and *v* are both 2-tuples *(x,y)*. For example, if *u=(3,0)* and *v=(0,4)*, the function should return 5"
   ]
  },
  {
   "cell_type": "code",
   "execution_count": 19,
   "metadata": {},
   "outputs": [
    {
     "name": "stdout",
     "output_type": "stream",
     "text": [
      "5.0\n"
     ]
    }
   ],
   "source": [
    "u = (3, 0)\n",
    "v = (0, 4)\n",
    "def dist(x, y):\n",
    "    if len(x) != len(y):\n",
    "        print(\"Error: points have different number of coordinates\")\n",
    "        return\n",
    "    return sum((a-b)**2 for a,b in zip(x,y)) ** 0.5\n",
    "# Prints \"None\" in Error case\n",
    "print(dist(u,v))"
   ]
  },
  {
   "cell_type": "markdown",
   "metadata": {},
   "source": [
    "4\\. Counting letters\n",
    "\n",
    "Write a program to calculate the number of times each character occurs in a given string *s*. Ignore differneces in capitalization"
   ]
  },
  {
   "cell_type": "code",
   "execution_count": 25,
   "metadata": {},
   "outputs": [
    {
     "name": "stdout",
     "output_type": "stream",
     "text": [
      "{'W': 2, 'R': 17, 'I': 14, 'T': 19, 'E': 22, ' ': 41, 'A': 7, 'P': 8, 'O': 13, 'G': 1, 'M': 12, 'H': 9, 'N': 10, 'S': 9, 'U': 9, 'B': 5, 'F': 10, '1': 2, '0': 2, '.': 2, 'L': 6, 'C': 3, 'K': 2, 'Y': 2, 'D': 3, 'V': 2}\n"
     ]
    }
   ],
   "source": [
    "s=\"Write a program that prints the numbers from 1 to 100. \\\n",
    "But for multiples of three print Mickey instead of the number and for the multiples of five print Mouse. \\\n",
    "For numbers which are multiples of both three and five print MickeyMouse\"\n",
    "assert(type(s) == str)\n",
    "# We don't take into account differences in capitalization \n",
    "s = s.upper()\n",
    "occurrences = dict()\n",
    "for letter in s:\n",
    "    if letter in occurrences:\n",
    "        occurrences[letter] += 1\n",
    "    else:\n",
    "        occurrences[letter] = 1\n",
    "print(occurrences)\n"
   ]
  },
  {
   "cell_type": "markdown",
   "metadata": {},
   "source": [
    "5\\. Isolating the unique\n",
    "\n",
    "Write a function that determines and count the unique numbers in the list *l*"
   ]
  },
  {
   "cell_type": "code",
   "execution_count": 64,
   "metadata": {},
   "outputs": [
    {
     "name": "stdout",
     "output_type": "stream",
     "text": [
      "(58, 74, 96, 64, 10, 24, 19, 33, 86, 99, 18, 47, 88, 55, 54, 8, 79, 81, 57, 37, 1, 9, 95, 90, 98, 39, 16, 82, 92, 41, 30, 94, 5, 72, 87, 75, 53)\n"
     ]
    }
   ],
   "source": [
    "l = [36, 45, 58, 3, 74, 96, 64, 45, 31, 10, 24, 19, 33, 86, 99, 18, 63, 70, 85,\n",
    " 85, 63, 47, 56, 42, 70, 84, 88, 55, 20, 54, 8, 56, 51, 79, 81, 57, 37, 91,\n",
    " 1, 84, 84, 36, 66, 9, 89, 50, 42, 91, 50, 95, 90, 98, 39, 16, 82, 31, 92, 41,\n",
    " 45, 30, 66, 70, 34, 85, 94, 5, 3, 36, 72, 91, 84, 34, 87, 75, 53, 51, 20, 89, 51, 20]\n",
    "counting = dict()\n",
    "for n in l:\n",
    "    if n in counting:\n",
    "        counting[n] += 1\n",
    "    else:\n",
    "        counting[n] = 1\n",
    "counting = {k:v  for k,v in counting.items() if v == 1}\n",
    "unique = tuple(counting.keys())\n",
    "print(unique)\n",
    "\n"
   ]
  },
  {
   "cell_type": "markdown",
   "metadata": {},
   "source": [
    "6\\. Combination of functions\n",
    "\n",
    "Write two functions - one that returns the square of a number, and one that returns the cube. Now write a third function that returns the number raised to the 6th power using the two previous functions."
   ]
  },
  {
   "cell_type": "code",
   "execution_count": 68,
   "metadata": {},
   "outputs": [
    {
     "name": "stdout",
     "output_type": "stream",
     "text": [
      "64\n"
     ]
    }
   ],
   "source": [
    "def square(x):\n",
    "    return x**2\n",
    "\n",
    "def cube(x):\n",
    "    return x**3\n",
    "\n",
    "def power_6(x):\n",
    "    return cube(square(x))\n",
    "\n",
    "print(power_6(2))"
   ]
  },
  {
   "cell_type": "markdown",
   "metadata": {},
   "source": [
    "7\\. Cubes\n",
    "\n",
    "Create a list of the cubes of x for x in *[0, 10]* using:\n",
    "\n",
    "a) a for loop\n",
    "\n",
    "b) a list comprehension"
   ]
  },
  {
   "cell_type": "code",
   "execution_count": 69,
   "metadata": {},
   "outputs": [
    {
     "name": "stdout",
     "output_type": "stream",
     "text": [
      "[0, 1, 8, 27, 64, 125, 216, 343, 512, 729, 1000]\n",
      "[0, 1, 8, 27, 64, 125, 216, 343, 512, 729, 1000]\n"
     ]
    }
   ],
   "source": [
    "cubes_list = list()\n",
    "for x in range(11):\n",
    "    cubes_list.append(x**3)\n",
    "cubes_comprehension = list(x**3 for x in range(11))\n",
    "\n",
    "print(cubes_list)\n",
    "print(cubes_comprehension)"
   ]
  },
  {
   "cell_type": "markdown",
   "metadata": {},
   "source": [
    "8\\. Nested list comprehension\n",
    "\n",
    "A Pythagorean triple is an integer solution to the Pythagorean theorem $a^2+b^2=c^2$. The first Pythagorean triple is (3,4,5). Find and put in a tuple all unique Pythagorean triples for the positive integers a, b and c less than 100."
   ]
  },
  {
   "cell_type": "code",
   "execution_count": 81,
   "metadata": {},
   "outputs": [
    {
     "name": "stdout",
     "output_type": "stream",
     "text": [
      "1st method\n",
      "((3, 4, 5), (4, 3, 5), (5, 12, 13), (6, 8, 10), (7, 24, 25), (8, 6, 10), (8, 15, 17), (9, 12, 15), (9, 40, 41), (10, 24, 26), (11, 60, 61), (12, 5, 13), (12, 9, 15), (12, 16, 20), (12, 35, 37), (13, 84, 85), (14, 48, 50), (15, 8, 17), (15, 20, 25), (15, 36, 39), (16, 12, 20), (16, 30, 34), (16, 63, 65), (18, 24, 30), (18, 80, 82), (20, 15, 25), (20, 21, 29), (20, 48, 52), (21, 20, 29), (21, 28, 35), (21, 72, 75), (24, 7, 25), (24, 10, 26), (24, 18, 30), (24, 32, 40), (24, 45, 51), (24, 70, 74), (25, 60, 65), (27, 36, 45), (28, 21, 35), (28, 45, 53), (30, 16, 34), (30, 40, 50), (30, 72, 78), (32, 24, 40), (32, 60, 68), (33, 44, 55), (33, 56, 65), (35, 12, 37), (35, 84, 91), (36, 15, 39), (36, 27, 45), (36, 48, 60), (36, 77, 85), (39, 52, 65), (39, 80, 89), (40, 9, 41), (40, 30, 50), (40, 42, 58), (40, 75, 85), (42, 40, 58), (42, 56, 70), (44, 33, 55), (45, 24, 51), (45, 28, 53), (45, 60, 75), (48, 14, 50), (48, 20, 52), (48, 36, 60), (48, 55, 73), (48, 64, 80), (51, 68, 85), (52, 39, 65), (54, 72, 90), (55, 48, 73), (56, 33, 65), (56, 42, 70), (57, 76, 95), (60, 11, 61), (60, 25, 65), (60, 32, 68), (60, 45, 75), (60, 63, 87), (63, 16, 65), (63, 60, 87), (64, 48, 80), (65, 72, 97), (68, 51, 85), (70, 24, 74), (72, 21, 75), (72, 30, 78), (72, 54, 90), (72, 65, 97), (75, 40, 85), (76, 57, 95), (77, 36, 85), (80, 18, 82), (80, 39, 89), (84, 13, 85), (84, 35, 91))\n",
      "2nd method\n",
      "((3, 4, 5), (4, 3, 5), (5, 12, 13), (6, 8, 10), (7, 24, 25), (8, 6, 10), (8, 15, 17), (9, 12, 15), (9, 40, 41), (10, 24, 26), (11, 60, 61), (12, 5, 13), (12, 9, 15), (12, 16, 20), (12, 35, 37), (13, 84, 85), (14, 48, 50), (15, 8, 17), (15, 20, 25), (15, 36, 39), (16, 12, 20), (16, 30, 34), (16, 63, 65), (18, 24, 30), (18, 80, 82), (20, 15, 25), (20, 21, 29), (20, 48, 52), (21, 20, 29), (21, 28, 35), (21, 72, 75), (24, 7, 25), (24, 10, 26), (24, 18, 30), (24, 32, 40), (24, 45, 51), (24, 70, 74), (25, 60, 65), (27, 36, 45), (28, 21, 35), (28, 45, 53), (30, 16, 34), (30, 40, 50), (30, 72, 78), (32, 24, 40), (32, 60, 68), (33, 44, 55), (33, 56, 65), (35, 12, 37), (35, 84, 91), (36, 15, 39), (36, 27, 45), (36, 48, 60), (36, 77, 85), (39, 52, 65), (39, 80, 89), (40, 9, 41), (40, 30, 50), (40, 42, 58), (40, 75, 85), (42, 40, 58), (42, 56, 70), (44, 33, 55), (45, 24, 51), (45, 28, 53), (45, 60, 75), (48, 14, 50), (48, 20, 52), (48, 36, 60), (48, 55, 73), (48, 64, 80), (51, 68, 85), (52, 39, 65), (54, 72, 90), (55, 48, 73), (56, 33, 65), (56, 42, 70), (57, 76, 95), (60, 11, 61), (60, 25, 65), (60, 32, 68), (60, 45, 75), (60, 63, 87), (63, 16, 65), (63, 60, 87), (64, 48, 80), (65, 72, 97), (68, 51, 85), (70, 24, 74), (72, 21, 75), (72, 30, 78), (72, 54, 90), (72, 65, 97), (75, 40, 85), (76, 57, 95), (77, 36, 85), (80, 18, 82), (80, 39, 89), (84, 13, 85), (84, 35, 91))\n",
      "The two methods gave same result\n"
     ]
    }
   ],
   "source": [
    "# 1st method\n",
    "l = list()\n",
    "for a in range(1,100):\n",
    "    for b in range(1,100):\n",
    "        for c in range(1,100):\n",
    "            if a**2 + b**2 == c**2:\n",
    "                l.append((a,b,c))\n",
    "l = tuple(l)\n",
    "# 2nd method\n",
    "t = tuple((a,b,c) for a in range(1, 100) for b in range(1, 100) for c in range(1, 100) if a**2 + b**2 == c**2)\n",
    "\n",
    "print(\"1st method\")\n",
    "print(l)\n",
    "print(\"2nd method\")\n",
    "print(t)\n",
    "if l == t:\n",
    "    print(\"The two methods gave same result\")"
   ]
  },
  {
   "cell_type": "markdown",
   "metadata": {},
   "source": [
    "9\\. Normalization\n",
    "\n",
    "Write a function that takes a tuple of numbers and returns it with the entries normalized to one"
   ]
  },
  {
   "cell_type": "code",
   "execution_count": 87,
   "metadata": {},
   "outputs": [
    {
     "name": "stdout",
     "output_type": "stream",
     "text": [
      "Generated tuple:\n",
      " (44, 85, 60, 31, 53, 55, 4, 37, 13, 53)\n",
      "Normalized against maximum:\n",
      " (0.5176470588235295, 1.0, 0.7058823529411765, 0.36470588235294116, 0.6235294117647059, 0.6470588235294118, 0.047058823529411764, 0.43529411764705883, 0.15294117647058825, 0.6235294117647059)\n",
      "Normalized against sum:\n",
      " (0.10114942528735632, 0.19540229885057472, 0.13793103448275862, 0.07126436781609195, 0.12183908045977011, 0.12643678160919541, 0.009195402298850575, 0.08505747126436781, 0.029885057471264367, 0.12183908045977011)\n"
     ]
    }
   ],
   "source": [
    "import random\n",
    "x = tuple(random.randint(1,100) for i in range(10))\n",
    "print(\"Generated tuple:\\n\", x)\n",
    "x_max = max(x)\n",
    "x_sum = sum(x)\n",
    "norm_max = tuple(value/x_max for value in x)\n",
    "print(\"Normalized against maximum:\\n\", norm_max)\n",
    "norm_sum = tuple(value/x_sum for value in x)\n",
    "print(\"Normalized against sum:\\n\", norm_sum)"
   ]
  },
  {
   "cell_type": "code",
   "execution_count": null,
   "metadata": {},
   "outputs": [],
   "source": []
  }
 ],
 "metadata": {
  "kernelspec": {
   "display_name": "Python 3",
   "language": "python",
   "name": "python3"
  },
  "language_info": {
   "codemirror_mode": {
    "name": "ipython",
    "version": 3
   },
   "file_extension": ".py",
   "mimetype": "text/x-python",
   "name": "python",
   "nbconvert_exporter": "python",
   "pygments_lexer": "ipython3",
   "version": "3.8.5"
  }
 },
 "nbformat": 4,
 "nbformat_minor": 2
}
