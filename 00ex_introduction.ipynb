{
 "cells": [
  {
   "cell_type": "markdown",
   "metadata": {},
   "source": [
    "1. The MickeyMouse problem\n",
    "\n",
    "a) Write a program that prints the numbers from 1 to 100. But for multiples of three print Mickey instead of the number and for the multiples of five print Mouse. For numbers which are multiples of both three and five print MickeyMouse\n",
    "\n",
    "b) Put the result in a tuple and substitute Mickey with Donald and Mouse with Duck"
   ]
  },
  {
   "cell_type": "code",
   "execution_count": 33,
   "metadata": {
    "tags": []
   },
   "outputs": [
    {
     "output_type": "stream",
     "name": "stdout",
     "text": "(1, 2, &#39;Donald&#39;, 4, &#39;Duck&#39;, &#39;Donald&#39;, 7, 8, &#39;Donald&#39;, &#39;Duck&#39;, 11, &#39;Donald&#39;, 13, 14, &#39;DonaldDuck&#39;, 16, 17, &#39;Donald&#39;, 19, &#39;Duck&#39;, &#39;Donald&#39;, 22, 23, &#39;Donald&#39;, &#39;Duck&#39;, 26, &#39;Donald&#39;, 28, 29, &#39;DonaldDuck&#39;, 31, 32, &#39;Donald&#39;, 34, &#39;Duck&#39;, &#39;Donald&#39;, 37, 38, &#39;Donald&#39;, &#39;Duck&#39;, 41, &#39;Donald&#39;, 43, 44, &#39;DonaldDuck&#39;, 46, 47, &#39;Donald&#39;, 49, &#39;Duck&#39;, &#39;Donald&#39;, 52, 53, &#39;Donald&#39;, &#39;Duck&#39;, 56, &#39;Donald&#39;, 58, 59, &#39;DonaldDuck&#39;, 61, 62, &#39;Donald&#39;, 64, &#39;Duck&#39;, &#39;Donald&#39;, 67, 68, &#39;Donald&#39;, &#39;Duck&#39;, 71, &#39;Donald&#39;, 73, 74, &#39;DonaldDuck&#39;, 76, 77, &#39;Donald&#39;, 79, &#39;Duck&#39;, &#39;Donald&#39;, 82, 83, &#39;Donald&#39;, &#39;Duck&#39;, 86, &#39;Donald&#39;, 88, 89, &#39;DonaldDuck&#39;, 91, 92, &#39;Donald&#39;, 94, &#39;Duck&#39;, &#39;Donald&#39;, 97, 98, &#39;Donald&#39;, &#39;Duck&#39;)\n"
    }
   ],
   "source": [
    "res = []\n",
    "for i in range(1, 101):\n",
    "    if(i%3 == 0 and i%5 == 0):\n",
    "        res.append(\"MickeyMouse\")\n",
    "    elif(i%3==0):\n",
    "        res.append(\"Mickey\")\n",
    "    elif(i%5==0):\n",
    "        res.append(\"Mouse\")\n",
    "    else:\n",
    "        res.append(i)\n",
    "\n",
    "for index, element in enumerate(res):\n",
    "    if(type(element) is not int):\n",
    "        if(element == \"Mickey\"):\n",
    "            res[index] = \"Donald\"\n",
    "        elif (element == \"Mouse\"):\n",
    "            res[index] = \"Duck\"\n",
    "        else:\n",
    "            res[index] = \"DonaldDuck\"\n",
    "res = tuple(res)\n",
    "\n",
    "print(res)"
   ]
  },
  {
   "cell_type": "markdown",
   "metadata": {},
   "source": [
    "2\\. The swap function\n",
    "\n",
    "Write a function that swap the values of two input variables x and y (whatever the type). Try to do that also without a temporary variable"
   ]
  },
  {
   "cell_type": "code",
   "execution_count": 34,
   "metadata": {},
   "outputs": [
    {
     "output_type": "execute_result",
     "data": {
      "text/plain": "(1, &#39;test&#39;)"
     },
     "metadata": {},
     "execution_count": 34
    }
   ],
   "source": [
    "def swap(x,y):\n",
    "    x,y = y,x\n",
    "    return x,y\n",
    "\n",
    "swap(\"test\", 1)"
   ]
  },
  {
   "cell_type": "markdown",
   "metadata": {},
   "source": [
    "3\\. Computing the distance\n",
    "\n",
    "Write a function that calculates and returns the euclidean distance between two points *u* and *v*, where *u* and *v* are both 2-tuples *(x,y)*. For example, if *u=(3,0)* and *v=(0,4)*, the function should return 5"
   ]
  },
  {
   "cell_type": "code",
   "execution_count": 35,
   "metadata": {},
   "outputs": [
    {
     "output_type": "execute_result",
     "data": {
      "text/plain": "5.0"
     },
     "metadata": {},
     "execution_count": 35
    }
   ],
   "source": [
    "def distance(u,v):\n",
    "    dist = ((u[0]-v[0])**2 + (u[1]-v[1])**2)**(1/2)\n",
    "    return dist\n",
    "\n",
    "distance((3,0), (0,4))"
   ]
  },
  {
   "cell_type": "markdown",
   "metadata": {},
   "source": [
    "4\\. Counting letters\n",
    "\n",
    "Write a program to calculate the number of times each character occurs in a given string *s*. Ignore differneces in capitalization"
   ]
  },
  {
   "cell_type": "code",
   "execution_count": 46,
   "metadata": {
    "tags": []
   },
   "outputs": [
    {
     "output_type": "execute_result",
     "data": {
      "text/plain": "{&#39;u&#39;: 9,\n &#39;o&#39;: 13,\n &#39;0&#39;: 2,\n &#39;b&#39;: 5,\n &#39;w&#39;: 2,\n &#39;a&#39;: 7,\n &#39;p&#39;: 8,\n &#39;v&#39;: 2,\n &#39;n&#39;: 10,\n &#39;h&#39;: 9,\n &#39;s&#39;: 9,\n &#39;r&#39;: 17,\n &#39;1&#39;: 2,\n &#39;g&#39;: 1,\n &#39; &#39;: 41,\n &#39;i&#39;: 14,\n &#39;.&#39;: 2,\n &#39;k&#39;: 2,\n &#39;m&#39;: 12,\n &#39;f&#39;: 10,\n &#39;d&#39;: 3,\n &#39;y&#39;: 2,\n &#39;l&#39;: 6,\n &#39;e&#39;: 22,\n &#39;t&#39;: 19,\n &#39;c&#39;: 3}"
     },
     "metadata": {},
     "execution_count": 46
    }
   ],
   "source": [
    "s=\"Write a program that prints the numbers from 1 to 100. \\\n",
    "But for multiples of three print Mickey instead of the number and for the multiples of five print Mouse. \\\n",
    "For numbers which are multiples of both three and five print MickeyMouse\"\n",
    "\n",
    "s = s.lower()\n",
    "dict((x,s.count(x)) for x in set(s))\n"
   ]
  },
  {
   "cell_type": "markdown",
   "metadata": {},
   "source": [
    "5\\. Isolating the unique\n",
    "\n",
    "Write a function that determines and count the unique numbers in the list *l*"
   ]
  },
  {
   "cell_type": "code",
   "execution_count": 31,
   "metadata": {
    "tags": []
   },
   "outputs": [
    {
     "output_type": "execute_result",
     "data": {
      "text/plain": "{1: 1,\n 3: 2,\n 5: 1,\n 8: 1,\n 9: 1,\n 10: 1,\n 16: 1,\n 18: 1,\n 19: 1,\n 20: 3,\n 24: 1,\n 30: 1,\n 31: 2,\n 33: 1,\n 34: 2,\n 36: 3,\n 37: 1,\n 39: 1,\n 41: 1,\n 42: 2,\n 45: 3,\n 47: 1,\n 50: 2,\n 51: 3,\n 53: 1,\n 54: 1,\n 55: 1,\n 56: 2,\n 57: 1,\n 58: 1,\n 63: 2,\n 64: 1,\n 66: 2,\n 70: 3,\n 72: 1,\n 74: 1,\n 75: 1,\n 79: 1,\n 81: 1,\n 82: 1,\n 84: 4,\n 85: 3,\n 86: 1,\n 87: 1,\n 88: 1,\n 89: 2,\n 90: 1,\n 91: 3,\n 92: 1,\n 94: 1,\n 95: 1,\n 96: 1,\n 98: 1,\n 99: 1}"
     },
     "metadata": {},
     "execution_count": 31
    }
   ],
   "source": [
    "l = [36, 45, 58, 3, 74, 96, 64, 45, 31, 10, 24, 19, 33, 86, 99, 18, 63, 70, 85,\n",
    " 85, 63, 47, 56, 42, 70, 84, 88, 55, 20, 54, 8, 56, 51, 79, 81, 57, 37, 91,\n",
    " 1, 84, 84, 36, 66, 9, 89, 50, 42, 91, 50, 95, 90, 98, 39, 16, 82, 31, 92, 41,\n",
    " 45, 30, 66, 70, 34, 85, 94, 5, 3, 36, 72, 91, 84, 34, 87, 75, 53, 51, 20, 89, 51, 20]\n",
    "\n",
    "def find_unique(l):\n",
    "   return dict((x,l.count(x)) for x in set(l))\n"
   ]
  },
  {
   "cell_type": "markdown",
   "metadata": {},
   "source": [
    "6\\. Combination of functions\n",
    "\n",
    "Write two functions - one that returns the square of a number, and one that returns the cube. Now write a third function that returns the number raised to the 6th power using the two previous functions."
   ]
  },
  {
   "cell_type": "code",
   "execution_count": 40,
   "metadata": {},
   "outputs": [],
   "source": [
    "def square(a):\n",
    "    return a**2\n",
    "\n",
    "def cube(a):\n",
    "    return a**3\n",
    "\n",
    "def sixth(a):\n",
    "    return square(cube(a))"
   ]
  },
  {
   "cell_type": "markdown",
   "metadata": {},
   "source": [
    "7\\. Cubes\n",
    "\n",
    "Create a list of the cubes of x for x in *[0, 10]* using:\n",
    "\n",
    "a) a for loop\n",
    "\n",
    "b) a list comprehension"
   ]
  },
  {
   "cell_type": "code",
   "execution_count": 43,
   "metadata": {
    "tags": []
   },
   "outputs": [
    {
     "output_type": "stream",
     "name": "stdout",
     "text": "[0, 1, 8, 27, 64, 125, 216, 343, 512, 729, 1000]\n[0, 1, 8, 27, 64, 125, 216, 343, 512, 729, 1000]\n"
    }
   ],
   "source": [
    "l_a = []\n",
    "for i in range(0,11):\n",
    "    l_a.append(i**3)\n",
    "\n",
    "print(l_a)\n",
    "\n",
    "l_b = [x**3 for x in range(0,11)]\n",
    "\n",
    "print(l_b)\n"
   ]
  },
  {
   "cell_type": "markdown",
   "metadata": {},
   "source": [
    "8\\. Nested list comprehension\n",
    "\n",
    "A Pythagorean triple is an integer solution to the Pythagorean theorem $a^2+b^2=c^2$. The first Pythagorean triple is (3,4,5). Find and put in a tuple all unique Pythagorean triples for the positive integers a, b and c less than 100."
   ]
  },
  {
   "cell_type": "code",
   "execution_count": 85,
   "metadata": {
    "tags": []
   },
   "outputs": [
    {
     "output_type": "stream",
     "name": "stdout",
     "text": "((3, 4, 5), (5, 12, 13), (7, 24, 25), (8, 15, 17), (9, 40, 41), (11, 60, 61), (12, 35, 37), (13, 84, 85), (16, 63, 65), (20, 21, 29), (28, 45, 53), (33, 56, 65), (36, 77, 85), (39, 80, 89), (48, 55, 73), (65, 72, 97))\n"
    }
   ],
   "source": [
    "u_bound = 101\n",
    "l = []\n",
    "\n",
    "def check_div(a,b,c):\n",
    "    tmp = [a,b,c]\n",
    "    tmp.sort()\n",
    "    i=2\n",
    "    div = []\n",
    "    while i<=tmp[0]:\n",
    "        if(tmp[0]%i==0):\n",
    "            div.append(i)\n",
    "        i+=1\n",
    "    for d in div:\n",
    "        if(tmp[1]%d==0 or tmp[2]%d==0):\n",
    "            return False\n",
    "\n",
    "    return True\n",
    "\n",
    "for a in range(1,u_bound):\n",
    "    for b in range(a,u_bound):\n",
    "        for c in range(b,u_bound):\n",
    "            if(a**2 + b**2 == c**2):\n",
    "                x = (c+a)**0.5\n",
    "                y = (c-a)**0.5\n",
    "                X = (c+b)**0.5\n",
    "                Y = (c-b)**0.5\n",
    "                if(check_div(a,b,c)):\n",
    "                    l.append((a,b,c))\n",
    "print(tuple(l))\n"
   ]
  },
  {
   "cell_type": "markdown",
   "metadata": {},
   "source": [
    "9\\. Normalization\n",
    "\n",
    "Write a function that takes a tuple of numbers and returns it with the entries normalized to one"
   ]
  },
  {
   "cell_type": "code",
   "execution_count": 57,
   "metadata": {
    "tags": []
   },
   "outputs": [
    {
     "output_type": "execute_result",
     "data": {
      "text/plain": "(0.16666666666666666, 0.3333333333333333, 0.5)"
     },
     "metadata": {},
     "execution_count": 57
    }
   ],
   "source": [
    "def normalize(t):\n",
    "    sum = 0\n",
    "    for i in t:\n",
    "        sum+=i\n",
    "    t = list(t)\n",
    "    for i in range(len(t)):\n",
    "        t[i] = t[i]/sum\n",
    "    return tuple(t)\n",
    "\n",
    "normalize((1,2,3))"
   ]
  }
 ],
 "metadata": {
  "kernelspec": {
   "display_name": "Python 3",
   "language": "python",
   "name": "python3"
  },
  "language_info": {
   "codemirror_mode": {
    "name": "ipython",
    "version": 3
   },
   "file_extension": ".py",
   "mimetype": "text/x-python",
   "name": "python",
   "nbconvert_exporter": "python",
   "pygments_lexer": "ipython3",
   "version": "3.7.4-final"
  }
 },
 "nbformat": 4,
 "nbformat_minor": 2
}