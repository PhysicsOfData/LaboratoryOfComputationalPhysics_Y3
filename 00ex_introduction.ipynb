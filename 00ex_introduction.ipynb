{
 "cells": [
  {
   "cell_type": "markdown",
   "metadata": {},
   "source": [
    "1. The MickeyMouse problem\n",
    "\n",
    "a) Write a program that prints the numbers from 1 to 100. But for multiples of three print Mickey instead of the number and for the multiples of five print Mouse. For numbers which are multiples of both three and five print MickeyMouse\n",
    "\n",
    "b) Put the result in a tuple and substitute Mickey with Donald and Mouse with Duck"
   ]
  },
  {
   "cell_type": "code",
   "execution_count": 27,
   "metadata": {},
   "outputs": [
    {
     "name": "stdout",
     "output_type": "stream",
     "text": [
      "[1, 2, 'Mickey', 4, 'Mouse', 'Mickey', 7, 8, 'Mickey', 'Mouse', 11, 'Mickey', 13, 14, 'MickeyMouse', 16, 17, 'Mickey', 19, 'Mouse', 'Mickey', 22, 23, 'Mickey', 'Mouse', 26, 'Mickey', 28, 29, 'MickeyMouse', 31, 32, 'Mickey', 34, 'Mouse', 'Mickey', 37, 38, 'Mickey', 'Mouse', 41, 'Mickey', 43, 44, 'MickeyMouse', 46, 47, 'Mickey', 49, 'Mouse', 'Mickey', 52, 53, 'Mickey', 'Mouse', 56, 'Mickey', 58, 59, 'MickeyMouse', 61, 62, 'Mickey', 64, 'Mouse', 'Mickey', 67, 68, 'Mickey', 'Mouse', 71, 'Mickey', 73, 74, 'MickeyMouse', 76, 77, 'Mickey', 79, 'Mouse', 'Mickey', 82, 83, 'Mickey', 'Mouse', 86, 'Mickey', 88, 89, 'MickeyMouse', 91, 92, 'Mickey', 94, 'Mouse', 'Mickey', 97, 98, 'Mickey', 'Mouse']\n"
     ]
    }
   ],
   "source": [
    "a= [x for x in range(1,101)]\n",
    "for i in a:\n",
    "    if i % 3 == 0:\n",
    "        a[i-1] = \"Mickey\"\n",
    "    elif i % 5 == 0:\n",
    "        a[i-1] = \"Mouse\"\n",
    "    if i % 3 == 0 and i % 5 == 0:\n",
    "        a[i-1] = \"MickeyMouse\"\n",
    "\n",
    "print(a)\n",
    "a_tuple = tuple(a)\n",
    "# Tuples are not changeable"
   ]
  },
  {
   "cell_type": "markdown",
   "metadata": {},
   "source": [
    "2\\. The swap function\n",
    "\n",
    "Write a function that swap the values of two input variables x and y (whatever the type). Try to do that also without a temporary variable"
   ]
  },
  {
   "cell_type": "code",
   "execution_count": 98,
   "metadata": {},
   "outputs": [
    {
     "name": "stdout",
     "output_type": "stream",
     "text": [
      "x = 5.0\n",
      "y = 10.0\n",
      "x = 10.0\n",
      "y = 5.0\n"
     ]
    }
   ],
   "source": [
    "def swap(x,y):\n",
    "    x = x+y\n",
    "    y = x-y\n",
    "    x = x-y\n",
    "    return x,y\n",
    "\n",
    "x = 5.0\n",
    "print(\"x =\",x)\n",
    "y = 10.0\n",
    "print(\"y =\",y)\n",
    "x,y = swap(x,y)\n",
    "print(\"x =\",x)\n",
    "print(\"y =\",y)"
   ]
  },
  {
   "cell_type": "markdown",
   "metadata": {},
   "source": [
    "3\\. Computing the distance\n",
    "\n",
    "Write a function that calculates and returns the euclidean distance between two points *u* and *v*, where *u* and *v* are both 2-tuples *(x,y)*. For example, if *u=(3,0)* and *v=(0,4)*, the function should return 5"
   ]
  },
  {
   "cell_type": "code",
   "execution_count": 70,
   "metadata": {},
   "outputs": [
    {
     "data": {
      "text/plain": [
       "5.0"
      ]
     },
     "execution_count": 70,
     "metadata": {},
     "output_type": "execute_result"
    }
   ],
   "source": [
    "def euclidean_dist(u,v):\n",
    "    value = math.sqrt((u[0]-v[0])**2+(u[1]-v[1])**2)\n",
    "    return value\n",
    "\n",
    "u = (3,0)\n",
    "v = (0,4)\n",
    "euclidean_dist(u,v)"
   ]
  },
  {
   "cell_type": "markdown",
   "metadata": {},
   "source": [
    "4\\. Counting letters\n",
    "\n",
    "Write a program to calculate the number of times each character occurs in a given string *s*. Ignore differneces in capitalization"
   ]
  },
  {
   "cell_type": "code",
   "execution_count": 101,
   "metadata": {},
   "outputs": [
    {
     "name": "stdout",
     "output_type": "stream",
     "text": [
      "w 2\n",
      "r 17\n",
      "i 14\n",
      "t 19\n",
      "e 22\n",
      "  41\n",
      "a 7\n",
      "p 8\n",
      "o 13\n",
      "g 1\n",
      "m 12\n",
      "h 9\n",
      "n 10\n",
      "s 9\n",
      "u 9\n",
      "b 5\n",
      "f 10\n",
      "1 2\n",
      "0 2\n",
      ". 2\n",
      "l 6\n",
      "c 3\n",
      "k 2\n",
      "y 2\n",
      "d 3\n",
      "v 2\n"
     ]
    }
   ],
   "source": [
    "s=\"Write a program that prints the numbers from 1 to 100. \\\n",
    "But for multiples of three print Mickey instead of the number and for the multiples of five print Mouse. \\\n",
    "For numbers which are multiples of both three and five print MickeyMouse\"\n",
    "\n",
    "characters = [x for x in s.lower()]\n",
    "unique_char = []\n",
    "for i in characters:\n",
    "    if (i not in unique_char):\n",
    "        unique_char.append(i)\n",
    "\n",
    "#print(unique_char)\n",
    "#tot_char=0\n",
    "for i in unique_char:\n",
    "    print(i, characters.count(i))\n",
    "    #tot_char = tot_char+characters.count(i)\n",
    "    \n",
    "#print(len(s),tot_char)\n"
   ]
  },
  {
   "cell_type": "markdown",
   "metadata": {},
   "source": [
    "5\\. Isolating the unique\n",
    "\n",
    "Write a function that determines and count the unique numbers in the list *l*"
   ]
  },
  {
   "cell_type": "code",
   "execution_count": 103,
   "metadata": {},
   "outputs": [
    {
     "name": "stdout",
     "output_type": "stream",
     "text": [
      "[36, 45, 58, 3, 74, 96, 64, 31, 10, 24, 19, 33, 86, 99, 18, 63, 70, 85, 47, 56, 42, 84, 88, 55, 20, 54, 8, 51, 79, 81, 57, 37, 91, 1, 66, 9, 89, 50, 95, 90, 98, 39, 16, 82, 92, 41, 30, 34, 94, 5, 72, 87, 75, 53]\n",
      "36 3\n",
      "45 3\n",
      "58 1\n",
      "3 2\n",
      "74 1\n",
      "96 1\n",
      "64 1\n",
      "31 2\n",
      "10 1\n",
      "24 1\n",
      "19 1\n",
      "33 1\n",
      "86 1\n",
      "99 1\n",
      "18 1\n",
      "63 2\n",
      "70 3\n",
      "85 3\n",
      "47 1\n",
      "56 2\n",
      "42 2\n",
      "84 4\n",
      "88 1\n",
      "55 1\n",
      "20 3\n",
      "54 1\n",
      "8 1\n",
      "51 3\n",
      "79 1\n",
      "81 1\n",
      "57 1\n",
      "37 1\n",
      "91 3\n",
      "1 1\n",
      "66 2\n",
      "9 1\n",
      "89 2\n",
      "50 2\n",
      "95 1\n",
      "90 1\n",
      "98 1\n",
      "39 1\n",
      "16 1\n",
      "82 1\n",
      "92 1\n",
      "41 1\n",
      "30 1\n",
      "34 2\n",
      "94 1\n",
      "5 1\n",
      "72 1\n",
      "87 1\n",
      "75 1\n",
      "53 1\n"
     ]
    }
   ],
   "source": [
    "l = [36, 45, 58, 3, 74, 96, 64, 45, 31, 10, 24, 19, 33, 86, 99, 18, 63, 70, 85,\n",
    " 85, 63, 47, 56, 42, 70, 84, 88, 55, 20, 54, 8, 56, 51, 79, 81, 57, 37, 91,\n",
    " 1, 84, 84, 36, 66, 9, 89, 50, 42, 91, 50, 95, 90, 98, 39, 16, 82, 31, 92, 41,\n",
    " 45, 30, 66, 70, 34, 85, 94, 5, 3, 36, 72, 91, 84, 34, 87, 75, 53, 51, 20, 89, 51, 20]\n",
    "\n",
    "unique_num = []\n",
    "for i in l:\n",
    "    if (i not in unique_num):\n",
    "        unique_num.append(i)\n",
    "print(unique_num)        \n",
    "for i in unique_num:\n",
    "    print(i, l.count(i))        \n"
   ]
  },
  {
   "cell_type": "markdown",
   "metadata": {},
   "source": [
    "6\\. Combination of functions\n",
    "\n",
    "Write two functions - one that returns the square of a number, and one that returns the cube. Now write a third function that returns the number raised to the 6th power using the two previous functions."
   ]
  },
  {
   "cell_type": "code",
   "execution_count": 107,
   "metadata": {},
   "outputs": [
    {
     "data": {
      "text/plain": [
       "729"
      ]
     },
     "execution_count": 107,
     "metadata": {},
     "output_type": "execute_result"
    }
   ],
   "source": [
    "def square_num(x):\n",
    "    return x*x\n",
    "\n",
    "def cube_num(x):\n",
    "    return x*x*x\n",
    "\n",
    "def sixth_power(x):\n",
    "    return x*square_num(x)*cube_num(x)\n",
    "\n",
    "x =3\n",
    "sixth_power(x)"
   ]
  },
  {
   "cell_type": "markdown",
   "metadata": {},
   "source": [
    "7\\. Cubes\n",
    "\n",
    "Create a list of the cubes of x for x in *[0, 10]* using:\n",
    "\n",
    "a) a for loop\n",
    "\n",
    "b) a list comprehension"
   ]
  },
  {
   "cell_type": "code",
   "execution_count": 115,
   "metadata": {},
   "outputs": [
    {
     "name": "stdout",
     "output_type": "stream",
     "text": [
      "[0, 1, 8, 27, 64, 125, 216, 343, 512, 729]\n",
      "[0, 1, 8, 27, 64, 125, 216, 343, 512, 729]\n"
     ]
    }
   ],
   "source": [
    "#a)\n",
    "a = []\n",
    "for i in range(0,10):\n",
    "    a.append(i**3)\n",
    "print(a)\n",
    "\n",
    "#b)\n",
    "b= [x**3 for x in range(0,10)]\n",
    "print(b)"
   ]
  },
  {
   "cell_type": "markdown",
   "metadata": {},
   "source": [
    "8\\. Nested list comprehension\n",
    "\n",
    "A Pythagorean triple is an integer solution to the Pythagorean theorem $a^2+b^2=c^2$. The first Pythagorean triple is (3,4,5). Find and put in a tuple all unique Pythagorean triples for the positive integers a, b and c less than 100."
   ]
  },
  {
   "cell_type": "code",
   "execution_count": 133,
   "metadata": {},
   "outputs": [
    {
     "name": "stdout",
     "output_type": "stream",
     "text": [
      "(3, 4, 5)\n",
      "(4, 3, 5)\n",
      "(5, 12, 13)\n",
      "(6, 8, 10)\n",
      "(7, 24, 25)\n",
      "(8, 6, 10)\n",
      "(8, 15, 17)\n",
      "(9, 12, 15)\n",
      "(9, 40, 41)\n",
      "(10, 24, 26)\n",
      "(11, 60, 61)\n",
      "(12, 5, 13)\n",
      "(12, 9, 15)\n",
      "(12, 16, 20)\n",
      "(12, 35, 37)\n",
      "(13, 84, 85)\n",
      "(14, 48, 50)\n",
      "(15, 8, 17)\n",
      "(15, 20, 25)\n",
      "(15, 36, 39)\n",
      "(16, 12, 20)\n",
      "(16, 30, 34)\n",
      "(16, 63, 65)\n",
      "(18, 24, 30)\n",
      "(18, 80, 82)\n",
      "(20, 15, 25)\n",
      "(20, 21, 29)\n",
      "(20, 48, 52)\n",
      "(21, 20, 29)\n",
      "(21, 28, 35)\n",
      "(21, 72, 75)\n",
      "(24, 7, 25)\n",
      "(24, 10, 26)\n",
      "(24, 18, 30)\n",
      "(24, 32, 40)\n",
      "(24, 45, 51)\n",
      "(24, 70, 74)\n",
      "(25, 60, 65)\n",
      "(27, 36, 45)\n",
      "(28, 21, 35)\n",
      "(28, 45, 53)\n",
      "(28, 96, 100)\n",
      "(30, 16, 34)\n",
      "(30, 40, 50)\n",
      "(30, 72, 78)\n",
      "(32, 24, 40)\n",
      "(32, 60, 68)\n",
      "(33, 44, 55)\n",
      "(33, 56, 65)\n",
      "(35, 12, 37)\n",
      "(35, 84, 91)\n",
      "(36, 15, 39)\n",
      "(36, 27, 45)\n",
      "(36, 48, 60)\n",
      "(36, 77, 85)\n",
      "(39, 52, 65)\n",
      "(39, 80, 89)\n",
      "(40, 9, 41)\n",
      "(40, 30, 50)\n",
      "(40, 42, 58)\n",
      "(40, 75, 85)\n",
      "(42, 40, 58)\n",
      "(42, 56, 70)\n",
      "(44, 33, 55)\n",
      "(45, 24, 51)\n",
      "(45, 28, 53)\n",
      "(45, 60, 75)\n",
      "(48, 14, 50)\n",
      "(48, 20, 52)\n",
      "(48, 36, 60)\n",
      "(48, 55, 73)\n",
      "(48, 64, 80)\n",
      "(51, 68, 85)\n",
      "(52, 39, 65)\n",
      "(54, 72, 90)\n",
      "(55, 48, 73)\n",
      "(56, 33, 65)\n",
      "(56, 42, 70)\n",
      "(57, 76, 95)\n",
      "(60, 11, 61)\n",
      "(60, 25, 65)\n",
      "(60, 32, 68)\n",
      "(60, 45, 75)\n",
      "(60, 63, 87)\n",
      "(60, 80, 100)\n",
      "(63, 16, 65)\n",
      "(63, 60, 87)\n",
      "(64, 48, 80)\n",
      "(65, 72, 97)\n",
      "(68, 51, 85)\n",
      "(70, 24, 74)\n",
      "(72, 21, 75)\n",
      "(72, 30, 78)\n",
      "(72, 54, 90)\n",
      "(72, 65, 97)\n",
      "(75, 40, 85)\n",
      "(76, 57, 95)\n",
      "(77, 36, 85)\n",
      "(80, 18, 82)\n",
      "(80, 39, 89)\n",
      "(80, 60, 100)\n",
      "(84, 13, 85)\n",
      "(84, 35, 91)\n",
      "(96, 28, 100)\n"
     ]
    }
   ],
   "source": [
    "for a in range(1,100):\n",
    "    for b in range(1,100):\n",
    "        c = math.sqrt(a**2+b**2)\n",
    "        if (c <= 100 and c%1 ==0):\n",
    "            output = (a,b,int(c))\n",
    "            print(output)"
   ]
  },
  {
   "cell_type": "markdown",
   "metadata": {},
   "source": [
    "9\\. Normalization\n",
    "\n",
    "Write a function that takes a tuple of numbers and returns it with the entries normalized to one"
   ]
  },
  {
   "cell_type": "code",
   "execution_count": 131,
   "metadata": {},
   "outputs": [
    {
     "data": {
      "text/plain": [
       "(0.1, 0.5, 0.1, 0.1, 0.2)"
      ]
     },
     "execution_count": 131,
     "metadata": {},
     "output_type": "execute_result"
    }
   ],
   "source": [
    "def norm(entry):\n",
    "    totsum = 0\n",
    "    for i in entry:\n",
    "        totsum = totsum + i \n",
    "    a = [x / totsum for x in entry]    \n",
    "    return tuple(a)\n",
    "\n",
    "#example\n",
    "x = (1, 5,1,1, 2)  \n",
    "norm(x)\n",
    "        "
   ]
  }
 ],
 "metadata": {
  "kernelspec": {
   "display_name": "Python 3",
   "language": "python",
   "name": "python3"
  },
  "language_info": {
   "codemirror_mode": {
    "name": "ipython",
    "version": 3
   },
   "file_extension": ".py",
   "mimetype": "text/x-python",
   "name": "python",
   "nbconvert_exporter": "python",
   "pygments_lexer": "ipython3",
   "version": "3.8.3"
  }
 },
 "nbformat": 4,
 "nbformat_minor": 2
}
