{
 "cells": [
  {
   "cell_type": "markdown",
   "metadata": {},
   "source": [
    "1. The MickeyMouse problem\n",
    "\n",
    "a) Write a program that prints the numbers from 1 to 100. But for multiples of three print Mickey instead of the number and for the multiples of five print Mouse. For numbers which are multiples of both three and five print MickeyMouse\n",
    "\n",
    "b) Put the result in a tuple and substitute Mickey with Donald and Mouse with Duck"
   ]
  },
  {
   "cell_type": "code",
   "execution_count": null,
   "metadata": {},
   "outputs": [],
   "source": [
    "def func():\n",
    "    aList = []\n",
    "    for i in range(1,101):\n",
    "        if i%3 == 0 and i%5 == 0:\n",
    "            aList.append('MickeyMouse')\n",
    "        elif i%3 == 0:\n",
    "            aList.append('Mickey')\n",
    "        elif i%5 == 0:\n",
    "            aList.append('Mouse')\n",
    "        else:\n",
    "            aList.append(i)\n",
    "    print(aList)\n",
    "    for i,j in enumerate(aList):\n",
    "        if j == 'Mickey': aList[i] = 'Donald'\n",
    "        elif j == 'Mouse': aList[i] = 'Duck'\n",
    "        elif j == 'MickeyMouse':  aList[i] = 'DonaldDuck' # not clear from the exercise if this has to be changed too but i did\n",
    "    return tuple(aList)\n",
    "\n",
    "func()"
   ]
  },
  {
   "cell_type": "markdown",
   "metadata": {},
   "source": [
    "2\\. The swap function\n",
    "\n",
    "Write a function that swap the values of two input variables x and y (whatever the type). Try to do that also without a temporary variable"
   ]
  },
  {
   "cell_type": "code",
   "execution_count": null,
   "metadata": {},
   "outputs": [],
   "source": [
    "def swap_values(a,b): #general case\n",
    "    temp = a\n",
    "    a = b\n",
    "    b = temp\n",
    "    return a,b \n",
    "\n",
    "def swap_values_num(a,b): # for int and floats can be done without temp variable (although there is a limit with number representation)\n",
    "    if isinstance(a, (int, float)) and isinstance(b, (int, float)):\n",
    "        a+=b #a now is a+b\n",
    "        b-=a #b now is -a\n",
    "        return a+b, -b       \n",
    "    else: \n",
    "        print(\"This works only with numbers (int or float)\")\n",
    "        return None\n",
    "\n",
    "swap_values('s', 5)    \n",
    "swap_values_num(3.2,-1.7)"
   ]
  },
  {
   "cell_type": "markdown",
   "metadata": {},
   "source": [
    "3\\. Computing the distance\n",
    "\n",
    "Write a function that calculates and returns the euclidean distance between two points *u* and *v*, where *u* and *v* are both 2-tuples *(x,y)*. For example, if *u=(3,0)* and *v=(0,4)*, the function should return 5"
   ]
  },
  {
   "cell_type": "code",
   "execution_count": null,
   "metadata": {},
   "outputs": [],
   "source": [
    "import math\n",
    "def distance_2D(u,v):\n",
    "    return math.sqrt((u[0]-v[0])**2 + (u[1]-v[1])**2)\n",
    "\n",
    "distance_2D((1,2),(4,5))"
   ]
  },
  {
   "cell_type": "markdown",
   "metadata": {},
   "source": [
    "4\\. Counting letters\n",
    "\n",
    "Write a program to calculate the number of times each character occurs in a given string *s*. Ignore differneces in capitalization"
   ]
  },
  {
   "cell_type": "code",
   "execution_count": null,
   "metadata": {},
   "outputs": [],
   "source": [
    "s=\"Write a program that prints the numbers from 1 to 100. \\\n",
    "But for multiples of three print Mickey instead of the number and for the multiples of five print Mouse. \\\n",
    "For numbers which are multiples of both three and five print MickeyMouse\"\n",
    "\n",
    "def count_character(aString):\n",
    "    aString = aString.lower() # set lower case\n",
    "    char_counter = {}\n",
    "    for char in aString:\n",
    "        if char in char_counter: char_counter[char]+=1\n",
    "        else: char_counter.update({char:1})\n",
    "    return char_counter\n",
    "\n",
    "count_character(s)"
   ]
  },
  {
   "cell_type": "markdown",
   "metadata": {},
   "source": [
    "5\\. Isolating the unique\n",
    "\n",
    "Write a function that determines and count the unique numbers in the list *l*"
   ]
  },
  {
   "cell_type": "code",
   "execution_count": null,
   "metadata": {},
   "outputs": [],
   "source": [
    "l = [36, 45, 58, 3, 74, 96, 64, 45, 31, 10, 24, 19, 33, 86, 99, 18, 63, 70, 85,\n",
    " 85, 63, 47, 56, 42, 70, 84, 88, 55, 20, 54, 8, 56, 51, 79, 81, 57, 37, 91,\n",
    " 1, 84, 84, 36, 66, 9, 89, 50, 42, 91, 50, 95, 90, 98, 39, 16, 82, 31, 92, 41,\n",
    " 45, 30, 66, 70, 34, 85, 94, 5, 3, 36, 72, 91, 84, 34, 87, 75, 53, 51, 20, 89, 51, 20]\n",
    "\n",
    "def find_unique(aList):\n",
    "    unique_elm=[]\n",
    "    for elm in aList: \n",
    "        if aList.count(elm) == 1: unique_elm.append(elm)\n",
    "    return unique_elm, len(unique_elm) #return list of unique numbers and the number of unique numbers \n",
    "    \n",
    "find_unique(l)"
   ]
  },
  {
   "cell_type": "markdown",
   "metadata": {},
   "source": [
    "6\\. Combination of functions\n",
    "\n",
    "Write two functions - one that returns the square of a number, and one that returns the cube. Now write a third function that returns the number raised to the 6th power using the two previous functions."
   ]
  },
  {
   "cell_type": "code",
   "execution_count": null,
   "metadata": {},
   "outputs": [],
   "source": [
    "def square(a):\n",
    "    return a**2\n",
    "\n",
    "def cube(a):\n",
    "    return a**3\n",
    "\n",
    "def sixth(a):\n",
    "    return cube(square(a))\n",
    "\n",
    "sixth(3)"
   ]
  },
  {
   "cell_type": "markdown",
   "metadata": {},
   "source": [
    "7\\. Cubes\n",
    "\n",
    "Create a list of the cubes of x for x in *[0, 10]* using:\n",
    "\n",
    "a) a for loop\n",
    "\n",
    "b) a list comprehension"
   ]
  },
  {
   "cell_type": "code",
   "execution_count": null,
   "metadata": {},
   "outputs": [],
   "source": [
    "aList = []\n",
    "for i in range(11): #for loop\n",
    "    aList.append(i**3)\n",
    "    \n",
    "print(aList)\n",
    "   \n",
    "[i**3 for i in range(11)] #list comprehension"
   ]
  },
  {
   "cell_type": "markdown",
   "metadata": {},
   "source": [
    "8\\. Nested list comprehension\n",
    "\n",
    "A Pythagorean triple is an integer solution to the Pythagorean theorem $a^2+b^2=c^2$. The first Pythagorean triple is (3,4,5). Find and put in a tuple all unique Pythagorean triples for the positive integers a, b and c less than 100."
   ]
  },
  {
   "cell_type": "code",
   "execution_count": null,
   "metadata": {},
   "outputs": [],
   "source": [
    "# the second condition is to avoid getting the same triple with a and b swapped\n",
    "tuple([(a,b,c) for a in range(1,100) for b in range(1,100) for c in range(1,100) if a**2+b**2==c**2 if b>a])"
   ]
  },
  {
   "cell_type": "markdown",
   "metadata": {},
   "source": [
    "9\\. Normalization\n",
    "\n",
    "Write a function that takes a tuple of numbers and returns it with the entries normalized to one"
   ]
  },
  {
   "cell_type": "code",
   "execution_count": null,
   "metadata": {},
   "outputs": [],
   "source": [
    "def norm(a):\n",
    "    sum_square=0                \n",
    "    for i in a: \n",
    "        sum_square+= i**2\n",
    "    return tuple([n/math.sqrt(sum_square) for n in a])\n",
    "    \n",
    "norm((1,2,1))"
   ]
  },
  {
   "cell_type": "code",
   "execution_count": null,
   "metadata": {},
   "outputs": [],
   "source": []
  }
 ],
 "metadata": {
  "kernelspec": {
   "display_name": "Python 3",
   "language": "python",
   "name": "python3"
  },
  "language_info": {
   "codemirror_mode": {
    "name": "ipython",
    "version": 3
   },
   "file_extension": ".py",
   "mimetype": "text/x-python",
   "name": "python",
   "nbconvert_exporter": "python",
   "pygments_lexer": "ipython3",
   "version": "3.7.7"
  }
 },
 "nbformat": 4,
 "nbformat_minor": 2
}
