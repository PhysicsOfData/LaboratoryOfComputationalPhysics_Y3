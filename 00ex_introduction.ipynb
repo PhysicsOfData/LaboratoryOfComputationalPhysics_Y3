{
 "cells": [
  {
   "cell_type": "markdown",
   "metadata": {},
   "source": [
    "## 1. The MickeyMouse problem\n",
    "\n",
    "a) Write a program that prints the numbers from 1 to 100. But for multiples of three print Mickey instead of the number and for the multiples of five print Mouse. For numbers which are multiples of both three and five print MickeyMouse\n",
    "\n",
    "b) Put the result in a tuple and substitute Mickey with Donald and Mouse with Duck"
   ]
  },
  {
   "cell_type": "code",
   "execution_count": 1,
   "metadata": {},
   "outputs": [],
   "source": [
    "#a\n",
    "\n",
    "sequence = []\n",
    "for n in range(1,101):\n",
    "    if n%3==0:\n",
    "        if n%5==0:\n",
    "            sequence.append('MikeyMouse')\n",
    "        else:\n",
    "            sequence.append('Mikey')\n",
    "    elif n%5==0:\n",
    "        sequence.append('Mouse')\n",
    "    else:\n",
    "        sequence.append(str(n))\n",
    "\n",
    "#sequence"
   ]
  },
  {
   "cell_type": "code",
   "execution_count": 2,
   "metadata": {},
   "outputs": [],
   "source": [
    "#b\n",
    "\n",
    "for i,v in enumerate(sequence):\n",
    "    sequence[i]=v.replace('Mikey','Donald').replace('Mouse','Duck')\n",
    "\n",
    "#sequence"
   ]
  },
  {
   "cell_type": "markdown",
   "metadata": {},
   "source": [
    "## 2\\. The swap function\n",
    "\n",
    "Write a function that swap the values of two input variables x and y (whatever the type). Try to do that also without a temporary variable"
   ]
  },
  {
   "cell_type": "code",
   "execution_count": 3,
   "metadata": {},
   "outputs": [
    {
     "name": "stdout",
     "output_type": "stream",
     "text": [
      "['cagnolino', <class 'int'>]\n",
      "[<class 'int'>, 'cagnolino']\n"
     ]
    }
   ],
   "source": [
    "#it seems to me that it is possoble to swap the values in the external scope only\n",
    "#if a and b are mutable, and some methods are available to modify them in-place from within the function\n",
    "\n",
    "#otherwise, if one to consider swap the order of the return parameters of the function one could simply write\n",
    "def swap(a,b):\n",
    "    return b,a\n",
    "    \n",
    "a='cagnolino'\n",
    "b= int\n",
    "\n",
    "print([a,b])\n",
    "\n",
    "a,b = swap(a,b)\n",
    "\n",
    "print([a,b])"
   ]
  },
  {
   "cell_type": "markdown",
   "metadata": {},
   "source": [
    "## 3\\. Computing the distance\n",
    "\n",
    "Write a function that calculates and returns the euclidean distance between two points *u* and *v*, where *u* and *v* are both 2-tuples *(x,y)*. For example, if *u=(3,0)* and *v=(0,4)*, the function should return 5"
   ]
  },
  {
   "cell_type": "code",
   "execution_count": 4,
   "metadata": {},
   "outputs": [
    {
     "name": "stdout",
     "output_type": "stream",
     "text": [
      "5.0\n"
     ]
    }
   ],
   "source": [
    "def distance(u,v):\n",
    "    return ((v[0]-u[0])**2+(v[1]-u[1])**2)**0.5\n",
    "\n",
    "u=(3,0)\n",
    "v=(0,4)\n",
    "\n",
    "print(distance(u,v))"
   ]
  },
  {
   "cell_type": "markdown",
   "metadata": {},
   "source": [
    "## 4\\. Counting letters\n",
    "\n",
    "Write a program to calculate the number of times each character occurs in a given string *s*. Ignore differneces in capitalization"
   ]
  },
  {
   "cell_type": "code",
   "execution_count": 5,
   "metadata": {},
   "outputs": [],
   "source": [
    "s=\"Write a program that prints the numbers from 1 to 100. \\\n",
    "But for multiples of three print Mickey instead of the number and for the multiples of five print Mouse. \\\n",
    "For numbers which are multiples of both three and five print MickeyMouse\"\n",
    "\n",
    "s=s.lower()\n",
    "\n",
    "counting=[]\n",
    "\n",
    "for i in range(500):# 500 sould contain all the useful char for the purpose of the exercise\n",
    "    c = s.count(chr(i))\n",
    "    if c>0:\n",
    "        counting.append([chr(i),c])\n",
    "\n",
    "#counting"
   ]
  },
  {
   "cell_type": "markdown",
   "metadata": {},
   "source": [
    "## 5\\. Isolating the unique\n",
    "\n",
    "Write a function that determines and count the unique numbers in the list *L*"
   ]
  },
  {
   "cell_type": "code",
   "execution_count": 6,
   "metadata": {},
   "outputs": [],
   "source": [
    "L = [36, 45, 58, 3, 74, 96, 64, 45, 31, 10, 24, 19, 33, 86, 99, 18, 63, 70, 85,\n",
    " 85, 63, 47, 56, 42, 70, 84, 88, 55, 20, 54, 8, 56, 51, 79, 81, 57, 37, 91,\n",
    " 1, 84, 84, 36, 66, 9, 89, 50, 42, 91, 50, 95, 90, 98, 39, 16, 82, 31, 92, 41,\n",
    " 45, 30, 66, 70, 34, 85, 94, 5, 3, 36, 72, 91, 84, 34, 87, 75, 53, 51, 20, 89, 51, 20]\n",
    "\n",
    "def uniques_finder(L):\n",
    "    uniques = []\n",
    "\n",
    "    for l in L:\n",
    "        if L.count(l)==1:\n",
    "                uniques.append(l)\n",
    "            \n",
    "    return uniques,len(uniques)\n",
    "\n",
    "#uniques_finder(L)"
   ]
  },
  {
   "cell_type": "markdown",
   "metadata": {},
   "source": [
    "## 6\\. Combination of functions\n",
    "\n",
    "Write two functions - one that returns the square of a number, and one that returns the cube. Now write a third function that returns the number raised to the 6th power using the two previous functions."
   ]
  },
  {
   "cell_type": "code",
   "execution_count": 7,
   "metadata": {},
   "outputs": [
    {
     "name": "stdout",
     "output_type": "stream",
     "text": [
      "4 8 64\n"
     ]
    }
   ],
   "source": [
    "def pow2(x):\n",
    "    return x**2\n",
    "def pow3(x):\n",
    "    return x**3\n",
    "def pow6(x):\n",
    "    return pow2(pow3(x))\n",
    "\n",
    "print(pow2(2),pow3(2),pow6(2))"
   ]
  },
  {
   "cell_type": "markdown",
   "metadata": {},
   "source": [
    "## 7\\. Cubes\n",
    "\n",
    "Create a list of the cubes of x for x in *[0, 10]* using:\n",
    "\n",
    "a) a for loop\n",
    "\n",
    "b) a list comprehension"
   ]
  },
  {
   "cell_type": "code",
   "execution_count": 8,
   "metadata": {},
   "outputs": [
    {
     "data": {
      "text/plain": [
       "[0, 1, 8, 27, 64, 125, 216, 343, 512, 729, 1000]"
      ]
     },
     "execution_count": 8,
     "metadata": {},
     "output_type": "execute_result"
    }
   ],
   "source": [
    "#a\n",
    "cubes = []\n",
    "for i in range(11):\n",
    "    cubes += [i**3]\n",
    "\n",
    "cubes"
   ]
  },
  {
   "cell_type": "code",
   "execution_count": 9,
   "metadata": {},
   "outputs": [
    {
     "data": {
      "text/plain": [
       "[0, 1, 8, 27, 64, 125, 216, 343, 512, 729, 1000]"
      ]
     },
     "execution_count": 9,
     "metadata": {},
     "output_type": "execute_result"
    }
   ],
   "source": [
    "#b\n",
    "cubes = [i**3 for i in range(11)]\n",
    "\n",
    "cubes"
   ]
  },
  {
   "cell_type": "markdown",
   "metadata": {},
   "source": [
    "## 8\\. Nested list comprehension\n",
    "\n",
    "A Pythagorean triple is an integer solution to the Pythagorean theorem $a^2+b^2=c^2$. The first Pythagorean triple is (3,4,5). Find and put in a tuple all unique Pythagorean triples for the positive integers a, b and c less than 100."
   ]
  },
  {
   "cell_type": "code",
   "execution_count": 10,
   "metadata": {},
   "outputs": [
    {
     "data": {
      "text/plain": [
       "[[3, 4, 5],\n",
       " [6, 8, 10],\n",
       " [5, 12, 13],\n",
       " [9, 12, 15],\n",
       " [8, 15, 17],\n",
       " [12, 16, 20],\n",
       " [15, 20, 25],\n",
       " [20, 21, 29],\n",
       " [7, 24, 25],\n",
       " [10, 24, 26],\n",
       " [18, 24, 30],\n",
       " [21, 28, 35],\n",
       " [16, 30, 34],\n",
       " [24, 32, 40],\n",
       " [12, 35, 37],\n",
       " [15, 36, 39],\n",
       " [27, 36, 45],\n",
       " [9, 40, 41],\n",
       " [30, 40, 50],\n",
       " [40, 42, 58],\n",
       " [33, 44, 55],\n",
       " [24, 45, 51],\n",
       " [28, 45, 53],\n",
       " [14, 48, 50],\n",
       " [20, 48, 52],\n",
       " [36, 48, 60],\n",
       " [39, 52, 65],\n",
       " [48, 55, 73],\n",
       " [33, 56, 65],\n",
       " [42, 56, 70],\n",
       " [11, 60, 61],\n",
       " [25, 60, 65],\n",
       " [32, 60, 68],\n",
       " [45, 60, 75],\n",
       " [16, 63, 65],\n",
       " [60, 63, 87],\n",
       " [48, 64, 80],\n",
       " [51, 68, 85],\n",
       " [24, 70, 74],\n",
       " [21, 72, 75],\n",
       " [30, 72, 78],\n",
       " [54, 72, 90],\n",
       " [65, 72, 97],\n",
       " [40, 75, 85],\n",
       " [57, 76, 95],\n",
       " [36, 77, 85],\n",
       " [18, 80, 82],\n",
       " [39, 80, 89],\n",
       " [60, 80, 100],\n",
       " [13, 84, 85],\n",
       " [35, 84, 91],\n",
       " [63, 84, 105],\n",
       " [80, 84, 116],\n",
       " [66, 88, 110],\n",
       " [48, 90, 102],\n",
       " [56, 90, 106],\n",
       " [60, 91, 109],\n",
       " [69, 92, 115],\n",
       " [28, 96, 100],\n",
       " [40, 96, 104],\n",
       " [72, 96, 120],\n",
       " [20, 99, 101],\n",
       " [75, 100, 125]]"
      ]
     },
     "execution_count": 10,
     "metadata": {},
     "output_type": "execute_result"
    }
   ],
   "source": [
    "pit_trip =  []\n",
    "for serie in [[ [i,j,(i**2+j**2)**0.5] for i in range(1,101)] for j in range(1,101)]:\n",
    "        for trip in serie:\n",
    "            if (trip[1]>trip[0]) & (trip[2]%1 == 0): # a bit risky to be onest\n",
    "              pit_trip.append( [trip[0],trip[1],int(trip[2])] )\n",
    "\n",
    "pit_trip"
   ]
  },
  {
   "cell_type": "markdown",
   "metadata": {},
   "source": [
    "## 9\\. Normalization\n",
    "\n",
    "Write a function that takes a tuple of numbers and returns it with the entries normalized to one"
   ]
  },
  {
   "cell_type": "code",
   "execution_count": 11,
   "metadata": {},
   "outputs": [
    {
     "data": {
      "text/plain": [
       "4.0"
      ]
     },
     "execution_count": 11,
     "metadata": {},
     "output_type": "execute_result"
    }
   ],
   "source": [
    "def norm(X):\n",
    "    val = 0;\n",
    "    for x in X:\n",
    "        val+=x**2\n",
    "    return val**0.5\n",
    "\n",
    "X = (1,1,1,1,2,2,2)\n",
    "\n",
    "norm(X)"
   ]
  },
  {
   "cell_type": "code",
   "execution_count": null,
   "metadata": {},
   "outputs": [],
   "source": []
  }
 ],
 "metadata": {
  "kernelspec": {
   "display_name": "Python 3",
   "language": "python",
   "name": "python3"
  },
  "language_info": {
   "codemirror_mode": {
    "name": "ipython",
    "version": 3
   },
   "file_extension": ".py",
   "mimetype": "text/x-python",
   "name": "python",
   "nbconvert_exporter": "python",
   "pygments_lexer": "ipython3",
   "version": "3.5.4"
  }
 },
 "nbformat": 4,
 "nbformat_minor": 4
}
