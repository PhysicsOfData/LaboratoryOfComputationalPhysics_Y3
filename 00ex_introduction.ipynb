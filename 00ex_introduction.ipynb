{
 "cells": [
  {
   "cell_type": "markdown",
   "metadata": {},
   "source": [
    "1. The MickeyMouse problem\n",
    "\n",
    "a) Write a program that prints the numbers from 1 to 100. But for multiples of three print Mickey instead of the number and for the multiples of five print Mouse. For numbers which are multiples of both three and five print MickeyMouse\n",
    "\n",
    "b) Put the result in a tuple and substitute Mickey with Donald and Mouse with Duck"
   ]
  },
  {
   "cell_type": "code",
   "execution_count": 18,
   "metadata": {},
   "outputs": [
    {
     "name": "stdout",
     "output_type": "stream",
     "text": [
      "1\n",
      "2\n",
      "Mickey\n",
      "4\n",
      "Mouse\n",
      "Mickey\n",
      "7\n",
      "8\n",
      "Mickey\n",
      "Mouse\n",
      "11\n",
      "Mickey\n",
      "13\n",
      "14\n",
      "MickeyMouse\n",
      "16\n",
      "17\n",
      "Mickey\n",
      "19\n",
      "Mouse\n",
      "Mickey\n",
      "22\n",
      "23\n",
      "Mickey\n",
      "Mouse\n",
      "26\n",
      "Mickey\n",
      "28\n",
      "29\n",
      "MickeyMouse\n",
      "31\n",
      "32\n",
      "Mickey\n",
      "34\n",
      "Mouse\n",
      "Mickey\n",
      "37\n",
      "38\n",
      "Mickey\n",
      "Mouse\n",
      "41\n",
      "Mickey\n",
      "43\n",
      "44\n",
      "MickeyMouse\n",
      "46\n",
      "47\n",
      "Mickey\n",
      "49\n",
      "Mouse\n",
      "Mickey\n",
      "52\n",
      "53\n",
      "Mickey\n",
      "Mouse\n",
      "56\n",
      "Mickey\n",
      "58\n",
      "59\n",
      "MickeyMouse\n",
      "61\n",
      "62\n",
      "Mickey\n",
      "64\n",
      "Mouse\n",
      "Mickey\n",
      "67\n",
      "68\n",
      "Mickey\n",
      "Mouse\n",
      "71\n",
      "Mickey\n",
      "73\n",
      "74\n",
      "MickeyMouse\n",
      "76\n",
      "77\n",
      "Mickey\n",
      "79\n",
      "Mouse\n",
      "Mickey\n",
      "82\n",
      "83\n",
      "Mickey\n",
      "Mouse\n",
      "86\n",
      "Mickey\n",
      "88\n",
      "89\n",
      "MickeyMouse\n",
      "91\n",
      "92\n",
      "Mickey\n",
      "94\n",
      "Mouse\n",
      "Mickey\n",
      "97\n",
      "98\n",
      "Mickey\n",
      "Mouse\n",
      "[1, 2, 'Donald', 4, 'Duck', 'Donald', 7, 8, 'Donald', 'Duck', 11, 'Donald', 13, 14, 'MickeyMouse', 16, 17, 'Donald', 19, 'Duck', 'Donald', 22, 23, 'Donald', 'Duck', 26, 'Donald', 28, 29, 'MickeyMouse', 31, 32, 'Donald', 34, 'Duck', 'Donald', 37, 38, 'Donald', 'Duck', 41, 'Donald', 43, 44, 'MickeyMouse', 46, 47, 'Donald', 49, 'Duck', 'Donald', 52, 53, 'Donald', 'Duck', 56, 'Donald', 58, 59, 'MickeyMouse', 61, 62, 'Donald', 64, 'Duck', 'Donald', 67, 68, 'Donald', 'Duck', 71, 'Donald', 73, 74, 'MickeyMouse', 76, 77, 'Donald', 79, 'Duck', 'Donald', 82, 83, 'Donald', 'Duck', 86, 'Donald', 88, 89, 'MickeyMouse', 91, 92, 'Donald', 94, 'Duck', 'Donald', 97, 98, 'Donald', 'Duck']\n"
     ]
    }
   ],
   "source": [
    "a = [x for x in range(1, 101)]\n",
    "for i in range(1, 101):\n",
    "    if (i%3==0 and i%5==0):\n",
    "        print(\"MickeyMouse\")\n",
    "        a[i-1] = \"MickeyMouse\"\n",
    "    elif i % 3 == 0:\n",
    "        print(\"Mickey\")\n",
    "        a[i-1] = \"Mickey\"\n",
    "    elif i % 5 == 0:\n",
    "        print(\"Mouse\")\n",
    "        a[i-1] = \"Mouse\"\n",
    "    else:\n",
    "        print(i)\n",
    "        a[i-1] = i\n",
    "\n",
    "for i in range(0, len(a)):\n",
    "    if a[i] == \"Mickey\":\n",
    "        a[i] = \"Donald\"\n",
    "    elif a[i] == \"Mouse\":\n",
    "        a[i] = \"Duck\"\n",
    "        \n",
    "print(a)"
   ]
  },
  {
   "cell_type": "markdown",
   "metadata": {},
   "source": [
    "2\\. The swap function\n",
    "\n",
    "Write a function that swap the values of two input variables x and y (whatever the type). Try to do that also without a temporary variable"
   ]
  },
  {
   "cell_type": "code",
   "execution_count": 8,
   "metadata": {},
   "outputs": [
    {
     "name": "stdout",
     "output_type": "stream",
     "text": [
      "Name: Nicola , Surname: Magagna\n",
      "Name: Magagna , Surname: Nicola\n",
      "Name: Nicola , Surname: Magagna\n"
     ]
    }
   ],
   "source": [
    "name = \"Nicola\"\n",
    "surname = \"Magagna\"\n",
    "\n",
    "print(\"Name: \" + name + \" , Surname: \"  + surname)\n",
    "\n",
    "# Simple returning function #\n",
    "def ret_swapfunc(a, b):\n",
    "    return b, a\n",
    "    \n",
    "name, surname = ret_swapfunc(name, surname)\n",
    "print(\"Name: \" + name + \" , Surname: \"  + surname)\n",
    "\n",
    "# Simulating pointers #\n",
    "info = [name, surname]\n",
    "\n",
    "def swapfunc(info):\n",
    "    info[0], info[1] = info[1], info[0]\n",
    "    \n",
    "swapfunc(info)\n",
    "\n",
    "print(\"Name: \" + info[0] + \" , Surname: \"  + info[1])"
   ]
  },
  {
   "cell_type": "markdown",
   "metadata": {},
   "source": [
    "3\\. Computing the distance\n",
    "\n",
    "Write a function that calculates and returns the euclidean distance between two points *u* and *v*, where *u* and *v* are both 2-tuples *(x,y)*. For example, if *u=(3,0)* and *v=(0,4)*, the function should return 5"
   ]
  },
  {
   "cell_type": "code",
   "execution_count": 29,
   "metadata": {},
   "outputs": [
    {
     "name": "stdout",
     "output_type": "stream",
     "text": [
      "5.0\n"
     ]
    }
   ],
   "source": [
    "import math\n",
    "\n",
    "u = [3, 0]\n",
    "v = [0, 4]\n",
    "\n",
    "def compute_distance(p1, p2):\n",
    "    # Tried both ways for the exponential (same result)\n",
    "    d = math.sqrt(pow((p1[0]-p2[0]),2) + ((p1[1]-p2[1])**2))\n",
    "    return d\n",
    "\n",
    "print(compute_distance(u, v))"
   ]
  },
  {
   "cell_type": "markdown",
   "metadata": {},
   "source": [
    "4\\. Counting letters\n",
    "\n",
    "Write a program to calculate the number of times each character occurs in a given string *s*. Ignore differneces in capitalization"
   ]
  },
  {
   "cell_type": "code",
   "execution_count": 26,
   "metadata": {},
   "outputs": [
    {
     "name": "stdout",
     "output_type": "stream",
     "text": [
      "{'w': 2, 'r': 17, 'i': 14, 't': 19, 'e': 22, ' ': 41, 'a': 7, 'p': 8, 'o': 13, 'g': 1, 'm': 12, 'h': 9, 'n': 10, 's': 9, 'u': 9, 'b': 5, 'f': 10, '1': 2, '0': 2, '.': 2, 'l': 6, 'c': 3, 'k': 2, 'y': 2, 'd': 3, 'v': 2}\n"
     ]
    }
   ],
   "source": [
    "s=\"Write a program that prints the numbers from 1 to 100. \\\n",
    "But for multiples of three print Mickey instead of the number and for the multiples of five print Mouse. \\\n",
    "For numbers which are multiples of both three and five print MickeyMouse\"\n",
    "\n",
    "letters = {}\n",
    "for l in s:\n",
    "    l = l.lower()\n",
    "    new = True\n",
    "    for i in letters:\n",
    "        if i == l:\n",
    "            letters[i] +=1\n",
    "            new = False\n",
    "    if new:\n",
    "        letters[l] = 1\n",
    "        \n",
    "print(letters)        "
   ]
  },
  {
   "cell_type": "markdown",
   "metadata": {},
   "source": [
    "5\\. Isolating the unique\n",
    "\n",
    "Write a function that determines and count the unique numbers in the list *l*"
   ]
  },
  {
   "cell_type": "code",
   "execution_count": 35,
   "metadata": {},
   "outputs": [
    {
     "name": "stdout",
     "output_type": "stream",
     "text": [
      "There are 37 single numbers.\n"
     ]
    }
   ],
   "source": [
    "l = [36, 45, 58, 3, 74, 96, 64, 45, 31, 10, 24, 19, 33, 86, 99, 18, 63, 70, 85,\n",
    " 85, 63, 47, 56, 42, 70, 84, 88, 55, 20, 54, 8, 56, 51, 79, 81, 57, 37, 91,\n",
    " 1, 84, 84, 36, 66, 9, 89, 50, 42, 91, 50, 95, 90, 98, 39, 16, 82, 31, 92, 41,\n",
    " 45, 30, 66, 70, 34, 85, 94, 5, 3, 36, 72, 91, 84, 34, 87, 75, 53, 51, 20, 89, 51, 20]\n",
    "\n",
    "def count_singleNumbers(l):\n",
    "    numbers = {}\n",
    "    for n in l:\n",
    "        new = True\n",
    "        for i in numbers:\n",
    "            if i == n:\n",
    "                numbers[i] +=1\n",
    "                new = False\n",
    "        if new:\n",
    "            numbers[n] = 1\n",
    "\n",
    "    counter = 0\n",
    "    for n in numbers:\n",
    "        if numbers[n] == 1:\n",
    "            #print(\"Single number: \" + str(n))\n",
    "            counter += 1\n",
    "            \n",
    "    return counter\n",
    "        \n",
    "print(\"There are \" + str(count_singleNumbers(l)) + \" single numbers.\")\n",
    "    "
   ]
  },
  {
   "cell_type": "markdown",
   "metadata": {},
   "source": [
    "6\\. Combination of functions\n",
    "\n",
    "Write two functions - one that returns the square of a number, and one that returns the cube. Now write a third function that returns the number raised to the 6th power using the two previous functions."
   ]
  },
  {
   "cell_type": "code",
   "execution_count": 10,
   "metadata": {},
   "outputs": [
    {
     "name": "stdout",
     "output_type": "stream",
     "text": [
      "64\n"
     ]
    }
   ],
   "source": [
    "def square_power(x):\n",
    "    return x**2\n",
    "\n",
    "def cube_power(x):\n",
    "    return x**3\n",
    "\n",
    "def sixth_power(x):\n",
    "    return square_power(cube_power(x))\n",
    "\n",
    "print(sixth_power(2))"
   ]
  },
  {
   "cell_type": "markdown",
   "metadata": {},
   "source": [
    "7\\. Cubes\n",
    "\n",
    "Create a list of the cubes of x for x in *[0, 10]* using:\n",
    "\n",
    "a) a for loop\n",
    "\n",
    "b) a list comprehension"
   ]
  },
  {
   "cell_type": "code",
   "execution_count": 15,
   "metadata": {
    "scrolled": true
   },
   "outputs": [
    {
     "name": "stdout",
     "output_type": "stream",
     "text": [
      "[1, 2, 4, 8, 16, 32, 64, 128, 256, 512, 1024]\n",
      "[1, 2, 4, 8, 16, 32, 64, 128, 256, 512, 1024]\n"
     ]
    }
   ],
   "source": [
    "x = 2\n",
    "\n",
    "# Must be initialized the size\n",
    "powers = [None]*11\n",
    "\n",
    "for i in range(0, 11):\n",
    "    powers[i] = x**i\n",
    "print(powers)\n",
    "\n",
    "powers2 = [x**i for i in range(0, 11)]\n",
    "print(powers2)"
   ]
  },
  {
   "cell_type": "markdown",
   "metadata": {},
   "source": [
    "8\\. Nested list comprehension\n",
    "\n",
    "A Pythagorean triple is an integer solution to the Pythagorean theorem $a^2+b^2=c^2$. The first Pythagorean triple is (3,4,5). Find and put in a tuple all unique Pythagorean triples for the positive integers a, b and c less than 100."
   ]
  },
  {
   "cell_type": "code",
   "execution_count": 18,
   "metadata": {},
   "outputs": [
    {
     "name": "stdout",
     "output_type": "stream",
     "text": [
      "('(3, 4, 5)', '(6, 8, 10)', '(5, 12, 13)', '(9, 12, 15)', '(8, 15, 17)', '(12, 16, 20)', '(15, 20, 25)', '(7, 24, 25)', '(10, 24, 26)', '(20, 21, 29)', '(18, 24, 30)', '(16, 30, 34)', '(21, 28, 35)', '(12, 35, 37)', '(15, 36, 39)', '(24, 32, 40)', '(9, 40, 41)', '(27, 36, 45)', '(30, 40, 50)', '(14, 48, 50)', '(24, 45, 51)', '(20, 48, 52)', '(28, 45, 53)', '(33, 44, 55)', '(40, 42, 58)', '(36, 48, 60)', '(11, 60, 61)', '(39, 52, 65)', '(33, 56, 65)', '(25, 60, 65)', '(16, 63, 65)', '(32, 60, 68)', '(42, 56, 70)', '(48, 55, 73)', '(24, 70, 74)', '(45, 60, 75)', '(21, 72, 75)', '(30, 72, 78)', '(48, 64, 80)', '(18, 80, 82)', '(51, 68, 85)', '(40, 75, 85)', '(36, 77, 85)', '(13, 84, 85)', '(60, 63, 87)', '(39, 80, 89)', '(54, 72, 90)', '(35, 84, 91)', '(57, 76, 95)', '(65, 72, 97)')\n"
     ]
    }
   ],
   "source": [
    "triples = ()\n",
    "\n",
    "for c in range(1, 100):\n",
    "    for b in range(1, c):\n",
    "        for a in range(1,b):\n",
    "            if (a**2)+(b**2) == (c**2):\n",
    "                triples = triples + (\"(\" + str(a) + \", \" + str(b) + \", \" + str(c) + \")\",)\n",
    "                \n",
    "print(triples)"
   ]
  },
  {
   "cell_type": "markdown",
   "metadata": {},
   "source": [
    "9\\. Normalization\n",
    "\n",
    "Write a function that takes a tuple of numbers and returns it with the entries normalized to one"
   ]
  },
  {
   "cell_type": "code",
   "execution_count": 2,
   "metadata": {},
   "outputs": [
    {
     "name": "stdout",
     "output_type": "stream",
     "text": [
      "[0.2711864406779661, 0.2542372881355932, 0.10169491525423728, 0.20338983050847456, 0.1694915254237288]\n",
      "[1.0, 0.9375, 0.37499999999999994, 0.7499999999999999, 0.625]\n"
     ]
    }
   ],
   "source": [
    "# Normalizing with respect to the sum\n",
    "def normalize_sum(a):\n",
    "    norm = [float(x)/sum(a) for x in a]\n",
    "    return norm\n",
    "\n",
    "# Normalizing with respect to the maximum value\n",
    "def normalize_max(a):\n",
    "    norm = [float(x)/max(a) for x in a]\n",
    "    return norm\n",
    "\n",
    "l = (0.8, 0.75, 0.3, 0.6, 0.5)\n",
    "\n",
    "print(normalize_sum(l))\n",
    "print(normalize_max(l))"
   ]
  }
 ],
 "metadata": {
  "kernelspec": {
   "display_name": "Python 3",
   "language": "python",
   "name": "python3"
  },
  "language_info": {
   "codemirror_mode": {
    "name": "ipython",
    "version": 3
   },
   "file_extension": ".py",
   "mimetype": "text/x-python",
   "name": "python",
   "nbconvert_exporter": "python",
   "pygments_lexer": "ipython3",
<<<<<<< HEAD
<<<<<<< HEAD
   "version": "3.8.3"
=======
   "version": "3.7.6"
>>>>>>> master
=======
   "version": "3.5.4"
>>>>>>> master
  }
 },
 "nbformat": 4,
 "nbformat_minor": 2
}
