{
 "cells": [
  {
   "cell_type": "markdown",
   "metadata": {},
   "source": [
    "1. The MickeyMouse problem\n",
    "\n",
    "a) Write a program that prints the numbers from 1 to 100. But for multiples of three print Mickey instead of the number and for the multiples of five print Mouse. For numbers which are multiples of both three and five print MickeyMouse\n",
    "\n",
    "b) Put the result in a tuple and substitute Mickey with Donald and Mouse with Duck"
   ]
  },
  {
   "cell_type": "code",
   "execution_count": 6,
   "metadata": {},
   "outputs": [
    {
     "name": "stdout",
     "output_type": "stream",
     "text": [
      "[1, 2, 'Mickey', 4, 'Mouse', 'Mickey', 7, 8, 'Mickey', 'Mouse', 11, 'Mickey', 13, 14, 'MickeyMouse', 16, 17, 'Mickey', 19, 'Mouse', 'Mickey', 22, 23, 'Mickey', 'Mouse', 26, 'Mickey', 28, 29, 'MickeyMouse', 31, 32, 'Mickey', 34, 'Mouse', 'Mickey', 37, 38, 'Mickey', 'Mouse', 41, 'Mickey', 43, 44, 'MickeyMouse', 46, 47, 'Mickey', 49, 'Mouse', 'Mickey', 52, 53, 'Mickey', 'Mouse', 56, 'Mickey', 58, 59, 'MickeyMouse', 61, 62, 'Mickey', 64, 'Mouse', 'Mickey', 67, 68, 'Mickey', 'Mouse', 71, 'Mickey', 73, 74, 'MickeyMouse', 76, 77, 'Mickey', 79, 'Mouse', 'Mickey', 82, 83, 'Mickey', 'Mouse', 86, 'Mickey', 88, 89, 'MickeyMouse', 91, 92, 'Mickey', 94, 'Mouse', 'Mickey', 97, 98, 'Mickey', 'Mouse']\n",
      "[1, 2, 'Donald', 4, 'Duck', 'Donald', 7, 8, 'Donald', 'Duck', 11, 'Donald', 13, 14, 'DonaldDuck', 16, 17, 'Donald', 19, 'Duck', 'Donald', 22, 23, 'Donald', 'Duck', 26, 'Donald', 28, 29, 'DonaldDuck', 31, 32, 'Donald', 34, 'Duck', 'Donald', 37, 38, 'Donald', 'Duck', 41, 'Donald', 43, 44, 'DonaldDuck', 46, 47, 'Donald', 49, 'Duck', 'Donald', 52, 53, 'Donald', 'Duck', 56, 'Donald', 58, 59, 'DonaldDuck', 61, 62, 'Donald', 64, 'Duck', 'Donald', 67, 68, 'Donald', 'Duck', 71, 'Donald', 73, 74, 'DonaldDuck', 76, 77, 'Donald', 79, 'Duck', 'Donald', 82, 83, 'Donald', 'Duck', 86, 'Donald', 88, 89, 'DonaldDuck', 91, 92, 'Donald', 94, 'Duck', 'Donald', 97, 98, 'Donald', 'Duck']\n"
     ]
    }
   ],
   "source": [
    "lis = [x for x in range(1,101)]\n",
    "for i in range(1,101) : \n",
    "    if i % 3 == 0 and i % 5 == 0 : \n",
    "        lis[i-1] = \"MickeyMouse\"\n",
    "    elif i % 5 == 0 :\n",
    "        lis[i-1] = \"Mouse\"\n",
    "    elif i % 3 == 0 :\n",
    "        lis[i-1] = \"Mickey\"\n",
    "print(lis)\n",
    "for i in range(1,101) : \n",
    "    if i % 3 == 0 and i % 5 == 0 : \n",
    "        lis[i-1] = \"DonaldDuck\"\n",
    "    elif i % 5 == 0 :\n",
    "        lis[i-1] = \"Duck\"\n",
    "    elif i % 3 == 0 :\n",
    "        lis[i-1] = \"Donald\"\n",
    "tup = (lis)\n",
    "print(tup)"
   ]
  },
  {
   "cell_type": "markdown",
   "metadata": {},
   "source": [
    "2\\. The swap function\n",
    "\n",
    "Write a function that swap the values of two input variables x and y (whatever the type). Try to do that also without a temporary variable"
   ]
  },
  {
   "cell_type": "code",
   "execution_count": 68,
   "metadata": {},
   "outputs": [
    {
     "name": "stdout",
     "output_type": "stream",
     "text": [
      "Write two values: 34\n",
      "('4', '3')\n",
      "Write two values: 56\n",
      "('6', '5')\n"
     ]
    }
   ],
   "source": [
    "#with a temporary variable\n",
    "a,b = input(\"Write two values: \")\n",
    "def swap(x,y) :\n",
    "    c = x\n",
    "    x = y\n",
    "    y = c\n",
    "    return(x,y)\n",
    "print(swap(a,b))\n",
    "\n",
    "#without a temporary variable\n",
    "c,d = input(\"Write two values: \")\n",
    "def swap(x,y) :\n",
    "    x,y=y,x\n",
    "    return(x,y)\n",
    "print(swap(c,d))"
   ]
  },
  {
   "cell_type": "markdown",
   "metadata": {},
   "source": [
    "3\\. Computing the distance\n",
    "\n",
    "Write a function that calculates and returns the euclidean distance between two points *u* and *v*, where *u* and *v* are both 2-tuples *(x,y)*. For example, if *u=(3,0)* and *v=(0,4)*, the function should return 5"
   ]
  },
  {
   "cell_type": "code",
   "execution_count": 34,
   "metadata": {},
   "outputs": [
    {
     "data": {
      "text/plain": [
       "5.0"
      ]
     },
     "execution_count": 34,
     "metadata": {},
     "output_type": "execute_result"
    }
   ],
   "source": [
    "def dis(u,v):\n",
    "    return(((u[0]-v[0])**2 + (u[1]-v[1])**2)**(1/2))\n",
    "u = (3,0)\n",
    "v = (0,4)\n",
    "dis(u,v)"
   ]
  },
  {
   "cell_type": "markdown",
   "metadata": {},
   "source": [
    "4\\. Counting letters\n",
    "\n",
    "Write a program to calculate the number of times each character occurs in a given string *s*. Ignore differneces in capitalization"
   ]
  },
  {
   "cell_type": "code",
   "execution_count": 67,
   "metadata": {},
   "outputs": [
    {
     "name": "stdout",
     "output_type": "stream",
     "text": [
      "a  occurs:  7\n",
      "b  occurs:  4\n",
      "c  occurs:  3\n",
      "d  occurs:  3\n",
      "e  occurs:  22\n",
      "f  occurs:  9\n",
      "g  occurs:  1\n",
      "h  occurs:  9\n",
      "i  occurs:  14\n",
      "j  occurs:  0\n",
      "k  occurs:  2\n",
      "l  occurs:  6\n",
      "m  occurs:  8\n",
      "n  occurs:  10\n",
      "o  occurs:  13\n",
      "p  occurs:  8\n",
      "q  occurs:  0\n",
      "r  occurs:  17\n",
      "s  occurs:  9\n",
      "t  occurs:  19\n",
      "u  occurs:  9\n",
      "v  occurs:  2\n",
      "w  occurs:  1\n",
      "x  occurs:  0\n",
      "y  occurs:  2\n",
      "z  occurs:  0\n"
     ]
    }
   ],
   "source": [
    "import string\n",
    "s=\"Write a program that prints the numbers from 1 to 100. \\\n",
    "But for multiples of three print Mickey instead of the number and for the multiples of five print Mouse. \\\n",
    "For numbers which are multiples of both three and five print MickeyMouse\"\n",
    "alph = list(string.ascii_lowercase)\n",
    "for i in range(0,len(alph)) :\n",
    "    print(alph[i], \" occurs: \", s.count(alph[i]))"
   ]
  },
  {
   "cell_type": "markdown",
   "metadata": {},
   "source": [
    "5\\. Isolating the unique\n",
    "\n",
    "Write a function that determines and count the unique numbers in the list *l*"
   ]
  },
  {
   "cell_type": "code",
   "execution_count": 74,
   "metadata": {},
   "outputs": [
    {
     "name": "stdout",
     "output_type": "stream",
     "text": [
      "[58, 74, 96, 64, 10, 24, 19, 33, 86, 99, 18, 47, 88, 55, 54, 8, 79, 81, 57, 37, 1, 9, 95, 90, 98, 39, 16, 82, 92, 41, 30, 94, 5, 72, 87, 75, 53] in total are:  37  unique numbers\n"
     ]
    }
   ],
   "source": [
    "l = [36, 45, 58, 3, 74, 96, 64, 45, 31, 10, 24, 19, 33, 86, 99, 18, 63, 70, 85,\n",
    " 85, 63, 47, 56, 42, 70, 84, 88, 55, 20, 54, 8, 56, 51, 79, 81, 57, 37, 91,\n",
    " 1, 84, 84, 36, 66, 9, 89, 50, 42, 91, 50, 95, 90, 98, 39, 16, 82, 31, 92, 41,\n",
    " 45, 30, 66, 70, 34, 85, 94, 5, 3, 36, 72, 91, 84, 34, 87, 75, 53, 51, 20, 89, 51, 20]\n",
    "def uni_search(list):\n",
    "    uniq = []\n",
    "    for h in l:\n",
    "        if l.count(h) == 1:\n",
    "            uniq.append(h)\n",
    "    return(uniq)\n",
    "print(uni_search(l), \"in total are: \", len(uni_search(l)), \" unique numbers\")"
   ]
  },
  {
   "cell_type": "markdown",
   "metadata": {},
   "source": [
    "6\\. Combination of functions\n",
    "\n",
    "Write two functions - one that returns the square of a number, and one that returns the cube. Now write a third function that returns the number raised to the 6th power using the two previous functions."
   ]
  },
  {
   "cell_type": "code",
   "execution_count": 119,
   "metadata": {},
   "outputs": [
    {
     "name": "stdout",
     "output_type": "stream",
     "text": [
      "531441\n"
     ]
    }
   ],
   "source": [
    "def sqrt(m):\n",
    "    r = m**(1/2)\n",
    "    return(r)\n",
    "def cub(m):\n",
    "    return(m**3)\n",
    "def sixth(m):\n",
    "    return(cub(m)*cub(m))\n",
    "#example\n",
    "print(sixth(9))"
   ]
  },
  {
   "cell_type": "markdown",
   "metadata": {},
   "source": [
    "7\\. Cubes\n",
    "\n",
    "Create a list of the cubes of x for x in *[0, 10]* using:\n",
    "\n",
    "a) a for loop\n",
    "\n",
    "b) a list comprehension"
   ]
  },
  {
   "cell_type": "code",
   "execution_count": 94,
   "metadata": {},
   "outputs": [
    {
     "name": "stdout",
     "output_type": "stream",
     "text": [
      "[0, 1, 8, 27, 64, 125, 216, 343, 512, 729, 1000] [0, 1, 8, 27, 64, 125, 216, 343, 512, 729, 1000]\n"
     ]
    }
   ],
   "source": [
    "list1 = []\n",
    "for n in range(11) :\n",
    "    list1.append(n**3)\n",
    "list2 = [x**3 for x in range(11)]\n",
    "print(list1, list2)"
   ]
  },
  {
   "cell_type": "markdown",
   "metadata": {},
   "source": [
    "8. Nested list comprehension\n",
    "\n",
    "A Pythagorean triple is an integer solution to the Pythagorean theorem $a^2+b^2=c^2$. The first Pythagorean triple is (3,4,5). Find and put in a tuple all unique Pythagorean triples for the positive integers a, b and c less than 100."
   ]
  },
  {
   "cell_type": "code",
   "execution_count": 139,
   "metadata": {},
   "outputs": [
    {
     "name": "stdout",
     "output_type": "stream",
     "text": [
      "[[3, 4, 5], [8, 6, 10], [5, 12, 13], [15, 8, 17], [12, 16, 20], [7, 24, 25], [24, 10, 26], [21, 20, 29], [16, 30, 34], [9, 40, 41], [35, 12, 37], [32, 24, 40], [27, 36, 45], [20, 48, 52], [11, 60, 61], [48, 14, 50], [45, 28, 53], [40, 42, 58], [33, 56, 65], [24, 70, 74], [13, 84, 85], [63, 16, 65], [60, 32, 68], [55, 48, 73], [48, 64, 80], [39, 80, 89], [28, 96, 100]]\n"
     ]
    }
   ],
   "source": [
    "tri = []\n",
    "c, m = 0, 2\n",
    "while c < 100 : \n",
    "    for n in range(1, m) : \n",
    "        a = m * m - n * n \n",
    "        b = 2 * m * n \n",
    "        c = m * m + n * n \n",
    "        if c > 100 : \n",
    "            break\n",
    "        tri.append([a,b,c])\n",
    "    m = m + 1\n",
    "tru=(tri)\n",
    "print(tru)"
   ]
  },
  {
   "cell_type": "markdown",
   "metadata": {},
   "source": [
    "9\\. Normalization\n",
    "\n",
    "Write a function that takes a tuple of numbers and returns it with the entries normalized to one"
   ]
  },
  {
   "cell_type": "code",
   "execution_count": 115,
   "metadata": {},
   "outputs": [
    {
     "name": "stdout",
     "output_type": "stream",
     "text": [
      "[0.2, 0.4, 0.4]\n"
     ]
    }
   ],
   "source": [
    "def norm(tup1):\n",
    "    s=0\n",
    "    for w in tup1:\n",
    "        s +=w\n",
    "    l =[x/s for x in tup1]\n",
    "    return(l)\n",
    "#example\n",
    "u = (10,20,20)\n",
    "print(norm(u))"
   ]
  },
  {
   "cell_type": "code",
   "execution_count": null,
   "metadata": {},
   "outputs": [],
   "source": []
  }
 ],
 "metadata": {
  "kernelspec": {
   "display_name": "Python 3",
   "language": "python",
   "name": "python3"
  },
  "language_info": {
   "codemirror_mode": {
    "name": "ipython",
    "version": 3
   },
   "file_extension": ".py",
   "mimetype": "text/x-python",
   "name": "python",
   "nbconvert_exporter": "python",
   "pygments_lexer": "ipython3",
   "version": "3.8.3"
  }
 },
 "nbformat": 4,
 "nbformat_minor": 2
}
