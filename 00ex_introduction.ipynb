{
 "cells": [
  {
   "cell_type": "markdown",
   "metadata": {},
   "source": [
    "1. The MickeyMouse problem\n",
    "\n",
    "a) Write a program that prints the numbers from 1 to 100. But for multiples of three print Mickey instead of the number and for the multiples of five print Mouse. For numbers which are multiples of both three and five print MickeyMouse\n",
    "\n",
    "b) Put the result in a tuple and substitute Mickey with Donald and Mouse with Duck"
   ]
  },
  {
   "cell_type": "code",
   "execution_count": 2,
   "metadata": {},
   "outputs": [
    {
     "name": "stdout",
     "output_type": "stream",
     "text": [
      "(1, 2, 'Mickey', 4, 'Mouse', 'Mickey', 7, 8, 'Mickey', 'Mouse', 11, 'Mickey', 13, 14, 'MickeyMouse', 16, 17, 'Mickey', 19, 'Mouse', 'Mickey', 22, 23, 'Mickey', 'Mouse', 26, 'Mickey', 28, 29, 'MickeyMouse', 31, 32, 'Mickey', 34, 'Mouse', 'Mickey', 37, 38, 'Mickey', 'Mouse', 41, 'Mickey', 43, 44, 'MickeyMouse', 46, 47, 'Mickey', 49, 'Mouse', 'Mickey', 52, 53, 'Mickey', 'Mouse', 56, 'Mickey', 58, 59, 'MickeyMouse', 61, 62, 'Mickey', 64, 'Mouse', 'Mickey', 67, 68, 'Mickey', 'Mouse', 71, 'Mickey', 73, 74, 'MickeyMouse', 76, 77, 'Mickey', 79, 'Mouse', 'Mickey', 82, 83, 'Mickey', 'Mouse', 86, 'Mickey', 88, 89, 'MickeyMouse', 91, 92, 'Mickey', 94, 'Mouse', 'Mickey', 97, 98, 'Mickey', 'Mouse')\n",
      "[1, 2, 'Donald', 4, 'Duck', 'Donald', 7, 8, 'Donald', 'Duck', 11, 'Donald', 13, 14, 'MickeyMouse', 16, 17, 'Donald', 19, 'Duck', 'Donald', 22, 23, 'Donald', 'Duck', 26, 'Donald', 28, 29, 'MickeyMouse', 31, 32, 'Donald', 34, 'Duck', 'Donald', 37, 38, 'Donald', 'Duck', 41, 'Donald', 43, 44, 'MickeyMouse', 46, 47, 'Donald', 49, 'Duck', 'Donald', 52, 53, 'Donald', 'Duck', 56, 'Donald', 58, 59, 'MickeyMouse', 61, 62, 'Donald', 64, 'Duck', 'Donald', 67, 68, 'Donald', 'Duck', 71, 'Donald', 73, 74, 'MickeyMouse', 76, 77, 'Donald', 79, 'Duck', 'Donald', 82, 83, 'Donald', 'Duck', 86, 'Donald', 88, 89, 'MickeyMouse', 91, 92, 'Donald', 94, 'Duck', 'Donald', 97, 98, 'Donald', 'Duck']\n"
     ]
    }
   ],
   "source": [
    "# a)   \n",
    "a = ()\n",
    "for i in range(1,101):\n",
    "    if (i%3 == 0) and (i%5 == 0):\n",
    "        i = \"MickeyMouse\"\n",
    "    elif i%5 == 0:\n",
    "        i = \"Mouse\"\n",
    "    elif i%3 == 0:\n",
    "        i = \"Mickey\"\n",
    "    b=(i,)\n",
    "    a=a+b\n",
    "print(a)\n",
    "#b)\n",
    "\n",
    "a=list(a)\n",
    "for i in range(len(a)):\n",
    "    if a[i] == \"Mickey\":\n",
    "        a[i] = \"Donald\"\n",
    "    if a[i] == \"Mouse\":\n",
    "        a[i] = \"Duck\"\n",
    "print(a)"
   ]
  },
  {
   "cell_type": "markdown",
   "metadata": {},
   "source": [
    "2\\. The swap function\n",
    "\n",
    "Write a function that swap the values of two input variables x and y (whatever the type). Try to do that also without a temporary variable"
   ]
  },
  {
   "cell_type": "code",
   "execution_count": 2,
   "metadata": {},
   "outputs": [
    {
     "name": "stdout",
     "output_type": "stream",
     "text": [
      "2\n",
      "4\n",
      "4 2\n"
     ]
    }
   ],
   "source": [
    "# without a temporary variable  \n",
    "x=input()\n",
    "y=input()\n",
    "def swap(x,y):\n",
    "    x,y=y,x\n",
    "    print(x,y)\n",
    "swap(x,y)\n"
   ]
  },
  {
   "cell_type": "code",
   "execution_count": 3,
   "metadata": {},
   "outputs": [
    {
     "name": "stdout",
     "output_type": "stream",
     "text": [
      "3\n",
      "5\n",
      "5 3\n"
     ]
    }
   ],
   "source": [
    "# with a temporary variable  \n",
    "def swap():\n",
    "    x=input()\n",
    "    y=input()\n",
    "    x,y=y,x\n",
    "    print(x,y)\n",
    "swap()"
   ]
  },
  {
   "cell_type": "markdown",
   "metadata": {},
   "source": [
    "3\\. Computing the distance\n",
    "\n",
    "Write a function that calculates and returns the euclidean distance between two points *u* and *v*, where *u* and *v* are both 2-tuples *(x,y)*. For example, if *u=(3,0)* and *v=(0,4)*, the function should return 5"
   ]
  },
  {
   "cell_type": "code",
   "execution_count": 4,
   "metadata": {},
   "outputs": [
    {
     "name": "stdout",
     "output_type": "stream",
     "text": [
      "5.0\n"
     ]
    }
   ],
   "source": [
    "u=(3,0)\n",
    "v=(0,4)\n",
    "\n",
    "def distance(u,v):\n",
    "    d=pow(pow(u[0]-v[0],2)+pow(u[1]-v[1],2),0.5)\n",
    "    print(d)\n",
    "    \n",
    "distance(u,v)"
   ]
  },
  {
   "cell_type": "markdown",
   "metadata": {},
   "source": [
    "4\\. Counting letters\n",
    "\n",
    "Write a program to calculate the number of times each character occurs in a given string *s*. Ignore differneces in capitalization"
   ]
  },
  {
   "cell_type": "code",
   "execution_count": 9,
   "metadata": {},
   "outputs": [
    {
     "data": {
      "text/plain": [
       "Counter({'w': 2,\n",
       "         'r': 17,\n",
       "         'i': 14,\n",
       "         't': 19,\n",
       "         'e': 22,\n",
       "         ' ': 41,\n",
       "         'a': 7,\n",
       "         'p': 8,\n",
       "         'o': 13,\n",
       "         'g': 1,\n",
       "         'm': 12,\n",
       "         'h': 9,\n",
       "         'n': 10,\n",
       "         's': 9,\n",
       "         'u': 9,\n",
       "         'b': 5,\n",
       "         'f': 10,\n",
       "         '1': 2,\n",
       "         '0': 2,\n",
       "         '.': 2,\n",
       "         'l': 6,\n",
       "         'c': 3,\n",
       "         'k': 2,\n",
       "         'y': 2,\n",
       "         'd': 3,\n",
       "         'v': 2})"
      ]
     },
     "execution_count": 9,
     "metadata": {},
     "output_type": "execute_result"
    }
   ],
   "source": [
    "s = \"Write a program that prints the numbers from 1 to 100. \\\n",
    "But for multiples of three print Mickey instead of the number and for the multiples of five print Mouse. \\\n",
    "For numbers which are multiples of both three and five print MickeyMouse\"\n",
    "all_freq = {} \n",
    "  \n",
    "from collections import Counter\n",
    "minuscole = s.lower()\n",
    "Counter(minuscole)\n"
   ]
  },
  {
   "cell_type": "markdown",
   "metadata": {},
   "source": [
    "5\\. Isolating the unique\n",
    "\n",
    "Write a function that determines and count the unique numbers in the list *l*"
   ]
  },
  {
   "cell_type": "code",
   "execution_count": 40,
   "metadata": {
    "scrolled": true
   },
   "outputs": [
    {
     "name": "stdout",
     "output_type": "stream",
     "text": [
      "{36: 3, 45: 3, 58: 1, 3: 2, 74: 1, 96: 1, 64: 1, 31: 2, 10: 1, 24: 1, 19: 1, 33: 1, 86: 1, 99: 1, 18: 1, 63: 2, 70: 3, 85: 3, 47: 1, 56: 2, 42: 2, 84: 4, 88: 1, 55: 1, 20: 3, 54: 1, 8: 1, 51: 3, 79: 1, 81: 1, 57: 1, 37: 1, 91: 3, 1: 1, 66: 2, 9: 1, 89: 2, 50: 2, 95: 1, 90: 1, 98: 1, 39: 1, 16: 1, 82: 1, 92: 1, 41: 1, 30: 1, 34: 2, 94: 1, 5: 1, 72: 1, 87: 1, 75: 1, 53: 1}\n",
      "\n",
      "\n",
      "[45, 85, 63, 70, 56, 84, 36, 42, 91, 50, 31, 66, 3, 34, 51, 20, 89]\n",
      "\n",
      "\n",
      "{1, 5, 8, 9, 10, 16, 18, 19, 24, 30, 33, 37, 39, 41, 47, 53, 54, 55, 57, 58, 64, 72, 74, 75, 79, 81, 82, 86, 87, 88, 90, 92, 94, 95, 96, 98, 99} unique numbers:  37 of total 80 numbers\n"
     ]
    }
   ],
   "source": [
    "l = [36, 45, 58, 3, 74, 96, 64, 45, 31, 10, 24, 19, 33, 86, 99, 18, 63, 70, 85,\n",
    " 85, 63, 47, 56, 42, 70, 84, 88, 55, 20, 54, 8, 56, 51, 79, 81, 57, 37, 91,\n",
    " 1, 84, 84, 36, 66, 9, 89, 50, 42, 91, 50, 95, 90, 98, 39, 16, 82, 31, 92, 41,\n",
    " 45, 30, 66, 70, 34, 85, 94, 5, 3, 36, 72, 91, 84, 34, 87, 75, 53, 51, 20, 89, 51, 20]\n",
    "\n",
    "#import collections\n",
    "#a = [item for item, count in collections.Counter(l).items() if count > 1]\n",
    "#b = set(l) - set(a)\n",
    "#print(b, \"unique numbers: \",len(b))\n",
    "\n",
    "def unique(L):\n",
    "    dictionary = {}\n",
    "    duplicates = []\n",
    "\n",
    "    for i in L:\n",
    "        if i not in dictionary:\n",
    "            dictionary[i] = 1\n",
    "        else:\n",
    "            if dictionary[i] == 1:\n",
    "                duplicates.append(i)\n",
    "            dictionary[i] += 1\n",
    "    b = set(L)-set(duplicates)\n",
    "    print(dictionary)\n",
    "    print(\"\\n\")\n",
    "    print(duplicates)\n",
    "    print(\"\\n\")\n",
    "    print(b, \"unique numbers: \", len(b),\"of total\", len(L),\"numbers\")\n",
    "unique(l)"
   ]
  },
  {
   "cell_type": "markdown",
   "metadata": {},
   "source": [
    "6\\. Combination of functions\n",
    "\n",
    "Write two functions - one that returns the square of a number, and one that returns the cube. Now write a third function that returns the number raised to the 6th power using the two previous functions."
   ]
  },
  {
   "cell_type": "code",
   "execution_count": 9,
   "metadata": {},
   "outputs": [
    {
     "name": "stdout",
     "output_type": "stream",
     "text": [
      "2\n"
     ]
    },
    {
     "data": {
      "text/plain": [
       "64"
      ]
     },
     "execution_count": 9,
     "metadata": {},
     "output_type": "execute_result"
    }
   ],
   "source": [
    "n=int(input())\n",
    "\n",
    "def square(n):\n",
    "    sq=pow(n,2)\n",
    "    return sq\n",
    "def cube(n):\n",
    "    cube=pow(n,3)\n",
    "    return cube\n",
    "\n",
    "def sixth_pow(n):\n",
    "    return cube(square(n))\n",
    "\n",
    "sixth_pow(n)"
   ]
  },
  {
   "cell_type": "markdown",
   "metadata": {},
   "source": [
    "7\\. Cubes\n",
    "\n",
    "Create a list of the cubes of x for x in *[0, 10]* using:\n",
    "\n",
    "a) a for loop\n",
    "\n",
    "b) a list comprehension"
   ]
  },
  {
   "cell_type": "code",
   "execution_count": 18,
   "metadata": {},
   "outputs": [
    {
     "name": "stdout",
     "output_type": "stream",
     "text": [
      "[0, 1, 8, 27, 64, 125, 216, 343, 512, 729, 1000]\n",
      "\n",
      "\n",
      "[0, 1, 8, 27, 64, 125, 216, 343, 512, 729, 1000]\n"
     ]
    }
   ],
   "source": [
    "#filling an empty list with for\n",
    "x=[]\n",
    "for i in range(11):\n",
    "    x.append(i)\n",
    "    \n",
    "def cube_list(a):\n",
    "    for j in range(len(a)):\n",
    "        a[j] = j**3\n",
    "    print(a)\n",
    "cube_list(x)\n",
    "\n",
    "#list comprehension\n",
    "\n",
    "print(\"\\n\")\n",
    "\n",
    "cubi = [n**3 for n in range(11)]\n",
    "print(cubi)\n",
    "\n"
   ]
  },
  {
   "cell_type": "markdown",
   "metadata": {},
   "source": [
    "8\\. Nested list comprehension\n",
    "\n",
    "A Pythagorean triple is an integer solution to the Pythagorean theorem $a^2+b^2=c^2$. The first Pythagorean triple is (3,4,5). Find and put in a tuple all unique Pythagorean triples for the positive integers a, b and c less than 100."
   ]
  },
  {
   "cell_type": "code",
   "execution_count": 27,
   "metadata": {},
   "outputs": [
    {
     "name": "stdout",
     "output_type": "stream",
     "text": [
      "((3, 4, 5), (5, 12, 13), (7, 24, 25), (8, 15, 17), (9, 40, 41), (11, 60, 61), (12, 35, 37), (13, 84, 85), (16, 63, 65), (20, 21, 29), (28, 45, 53), (33, 56, 65), (36, 77, 85), (39, 80, 89), (48, 55, 73), (65, 72, 97))\n"
     ]
    }
   ],
   "source": [
    "import math\n",
    "a=[(x,y,z) for x in range(1,100) for y in range(x,100) for z in range(y,100) if (x**2 + y**2 == z**2) and (math.gcd(x,math.gcd(y,z))==1)]\n",
    "b=tuple(a)\n",
    "print(b)"
   ]
  },
  {
   "cell_type": "markdown",
   "metadata": {},
   "source": [
    "9\\. Normalization\n",
    "\n",
    "Write a function that takes a tuple of numbers and returns it with the entries normalized to one"
   ]
  },
  {
   "cell_type": "code",
   "execution_count": 40,
   "metadata": {},
   "outputs": [
    {
     "name": "stdout",
     "output_type": "stream",
     "text": [
      "4\n",
      "6\n",
      "(1, 1)\n"
     ]
    }
   ],
   "source": [
    "x=int(input())\n",
    "y=int(input())\n",
    "a=(x,y)\n",
    "def normalize(A):\n",
    "    b=list(A)\n",
    "    for i in range(len(b)):\n",
    "        b[i]=1\n",
    "    c=tuple(b)\n",
    "    print(c)\n",
    "normalize(a)"
   ]
  }
 ],
 "metadata": {
  "kernelspec": {
   "display_name": "Python 3",
   "language": "python",
   "name": "python3"
  },
  "language_info": {
   "codemirror_mode": {
    "name": "ipython",
    "version": 3
   },
   "file_extension": ".py",
   "mimetype": "text/x-python",
   "name": "python",
   "nbconvert_exporter": "python",
   "pygments_lexer": "ipython3",
   "version": "3.8.3"
  }
 },
 "nbformat": 4,
 "nbformat_minor": 2
}
