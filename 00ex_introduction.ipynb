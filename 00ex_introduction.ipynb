{
 "cells": [
  {
   "cell_type": "markdown",
   "metadata": {},
   "source": [
    "1. The MickeyMouse problem\n",
    "\n",
    "a) Write a program that prints the numbers from 1 to 100. But for multiples of three print Mickey instead of the number and for the multiples of five print Mouse. For numbers which are multiples of both three and five print MickeyMouse\n",
    "\n",
    "b) Put the result in a tuple and substitute Mickey with Donald and Mouse with Duck"
   ]
  },
  {
   "cell_type": "code",
   "execution_count": 1,
   "metadata": {},
   "outputs": [
    {
     "name": "stdout",
     "output_type": "stream",
     "text": [
      "1\n",
      "2\n",
      "Mickey\n",
      "4\n",
      "Mouse\n",
      "Mickey\n",
      "7\n",
      "8\n",
      "Mickey\n",
      "Mouse\n",
      "11\n",
      "Mickey\n",
      "13\n",
      "14\n",
      "Mickey Mouse\n",
      "16\n",
      "17\n",
      "Mickey\n",
      "19\n",
      "Mouse\n",
      "Mickey\n",
      "22\n",
      "23\n",
      "Mickey\n",
      "Mouse\n",
      "26\n",
      "Mickey\n",
      "28\n",
      "29\n",
      "Mickey Mouse\n",
      "31\n",
      "32\n",
      "Mickey\n",
      "34\n",
      "Mouse\n",
      "Mickey\n",
      "37\n",
      "38\n",
      "Mickey\n",
      "Mouse\n",
      "41\n",
      "Mickey\n",
      "43\n",
      "44\n",
      "Mickey Mouse\n",
      "46\n",
      "47\n",
      "Mickey\n",
      "49\n",
      "Mouse\n",
      "Mickey\n",
      "52\n",
      "53\n",
      "Mickey\n",
      "Mouse\n",
      "56\n",
      "Mickey\n",
      "58\n",
      "59\n",
      "Mickey Mouse\n",
      "61\n",
      "62\n",
      "Mickey\n",
      "64\n",
      "Mouse\n",
      "Mickey\n",
      "67\n",
      "68\n",
      "Mickey\n",
      "Mouse\n",
      "71\n",
      "Mickey\n",
      "73\n",
      "74\n",
      "Mickey Mouse\n",
      "76\n",
      "77\n",
      "Mickey\n",
      "79\n",
      "Mouse\n",
      "Mickey\n",
      "82\n",
      "83\n",
      "Mickey\n",
      "Mouse\n",
      "86\n",
      "Mickey\n",
      "88\n",
      "89\n",
      "Mickey Mouse\n",
      "91\n",
      "92\n",
      "Mickey\n",
      "94\n",
      "Mouse\n",
      "Mickey\n",
      "97\n",
      "98\n",
      "Mickey\n",
      "Mouse\n"
     ]
    }
   ],
   "source": [
    "#a\n",
    "a = []\n",
    "\n",
    "for i in range(1,101): \n",
    "    if i % 3 == 0:   \n",
    "        if i % 3 == 0 and i % 5 == 0:       \n",
    "            print('Mickey Mouse')\n",
    "            a.append('Mickey Mouse')    \n",
    "        else:  \n",
    "            print('Mickey')\n",
    "            a.append('Mickey')\n",
    "    elif i % 5 == 0: \n",
    "        print('Mouse')\n",
    "        a.append('Mouse')\n",
    "    else:\n",
    "        print(i)\n",
    "        a.append(i)"
   ]
  },
  {
   "cell_type": "markdown",
   "metadata": {},
   "source": [
    "2\\. The swap function\n",
    "\n",
    "Write a function that swap the values of two input variables x and y (whatever the type). Try to do that also without a temporary variable"
   ]
  },
  {
   "cell_type": "code",
   "execution_count": 2,
   "metadata": {},
   "outputs": [
    {
     "name": "stdout",
     "output_type": "stream",
     "text": [
      "At the beginning a is:  10\n",
      "At the beginning b is:  5\n",
      "\n",
      "FIRST SWAP: \n",
      "a is now:  5\n",
      "b is now:  10\n",
      "\n",
      "SECOND SWAP: \n",
      "a is now:  10\n",
      "b is now:  5\n",
      "\n",
      "THIRD SWAP: \n",
      "a is now:  5\n",
      "b is now:  10\n"
     ]
    }
   ],
   "source": [
    "a=10\n",
    "b=5\n",
    "\n",
    "print(\"At the beginning a is: \",a)\n",
    "print(\"At the beginning b is: \",b)\n",
    "\n",
    "#using a temporary variable ========\n",
    "def swap():\n",
    "    global a\n",
    "    global b\n",
    "    c = a\n",
    "    a = b\n",
    "    b = c\n",
    "  \n",
    "swap()\n",
    "\n",
    "print(\"\\nFIRST SWAP: \")\n",
    "print(\"a is now: \",a)\n",
    "print(\"b is now: \",b)\n",
    "\n",
    "#without using a temporary variable ========\n",
    "def swap_2(a,b):\n",
    "    return b,a\n",
    "\n",
    "a,b = swap_2(a,b)\n",
    "\n",
    "print(\"\\nSECOND SWAP: \")\n",
    "print(\"a is now: \",a)\n",
    "print(\"b is now: \",b)\n",
    "\n",
    "#without using a temporary variable (but with lists) ========\n",
    "def swap_3(numbers_list):\n",
    "    numbers_list.reverse()\n",
    "    return numbers_list\n",
    "\n",
    "a,b = swap_3([a,b])\n",
    "\n",
    "print(\"\\nTHIRD SWAP: \")\n",
    "print(\"a is now: \",a)\n",
    "print(\"b is now: \",b)"
   ]
  },
  {
   "cell_type": "markdown",
   "metadata": {},
   "source": [
    "3\\. Computing the distance\n",
    "\n",
    "Write a function that calculates and returns the euclidean distance between two points *u* and *v*, where *u* and *v* are both 2-tuples *(x,y)*. For example, if *u=(3,0)* and *v=(0,4)*, the function should return 5"
   ]
  },
  {
   "cell_type": "code",
   "execution_count": 3,
   "metadata": {},
   "outputs": [
    {
     "name": "stdout",
     "output_type": "stream",
     "text": [
      "5.0\n"
     ]
    }
   ],
   "source": [
    "u = (3,0)\n",
    "v = (0,4)\n",
    "\n",
    "def euclidean_dist_2D(x_1,x_2):\n",
    "    dist = pow((pow(x_1[0] - x_2[0], 2)\n",
    "                + pow(x_1[1] - x_2[1],2)), 1/2) \n",
    "    return dist\n",
    "\n",
    "print(euclidean_dist_2D(u,v))"
   ]
  },
  {
   "cell_type": "markdown",
   "metadata": {},
   "source": [
    "4\\. Counting letters\n",
    "\n",
    "Write a program to calculate the number of times each character occurs in a given string *s*. Ignore differneces in capitalization"
   ]
  },
  {
   "cell_type": "code",
   "execution_count": 4,
   "metadata": {},
   "outputs": [
    {
     "name": "stdout",
     "output_type": "stream",
     "text": [
      "{'w': 2, 'r': 17, 'i': 14, 't': 19, 'e': 22, ' ': 41, 'a': 7, 'p': 8, 'o': 13, 'g': 1, 'm': 12, 'h': 9, 'n': 10, 's': 9, 'u': 9, 'b': 5, 'f': 10, '1': 2, '0': 2, '.': 2, 'l': 6, 'c': 3, 'k': 2, 'y': 2, 'd': 3, 'v': 2}\n"
     ]
    }
   ],
   "source": [
    "s= \"Write a program that prints the numbers from 1 to 100. \\\n",
    "But for multiples of three print Mickey instead of the number and for the multiples of five print Mouse. \\\n",
    "For numbers which are multiples of both three and five print MickeyMouse\"\n",
    "\n",
    "char_dictionary = {}\n",
    "\n",
    "for i in s:\n",
    "    if i.lower() in char_dictionary: char_dictionary[i.lower()] += 1\n",
    "    else: char_dictionary[i.lower()] = 1    \n",
    "print(char_dictionary)"
   ]
  },
  {
   "cell_type": "markdown",
   "metadata": {},
   "source": [
    "5\\. Isolating the unique\n",
    "\n",
    "Write a function that determines and count the unique numbers in the list *l*"
   ]
  },
  {
   "cell_type": "code",
   "execution_count": 5,
   "metadata": {},
   "outputs": [
    {
     "name": "stdout",
     "output_type": "stream",
     "text": [
      "58 appears 1 time\n",
      "74 appears 1 time\n",
      "96 appears 1 time\n",
      "64 appears 1 time\n",
      "10 appears 1 time\n",
      "24 appears 1 time\n",
      "19 appears 1 time\n",
      "33 appears 1 time\n",
      "86 appears 1 time\n",
      "99 appears 1 time\n",
      "18 appears 1 time\n",
      "47 appears 1 time\n",
      "88 appears 1 time\n",
      "55 appears 1 time\n",
      "54 appears 1 time\n",
      "8 appears 1 time\n",
      "79 appears 1 time\n",
      "81 appears 1 time\n",
      "57 appears 1 time\n",
      "37 appears 1 time\n",
      "1 appears 1 time\n",
      "9 appears 1 time\n",
      "95 appears 1 time\n",
      "90 appears 1 time\n",
      "98 appears 1 time\n",
      "39 appears 1 time\n",
      "16 appears 1 time\n",
      "82 appears 1 time\n",
      "92 appears 1 time\n",
      "41 appears 1 time\n",
      "30 appears 1 time\n",
      "94 appears 1 time\n",
      "5 appears 1 time\n",
      "72 appears 1 time\n",
      "87 appears 1 time\n",
      "75 appears 1 time\n",
      "53 appears 1 time\n",
      "There are in total 37 single numbers\n"
     ]
    }
   ],
   "source": [
    "l = [36, 45, 58, 3, 74, 96, 64, 45, 31, 10, 24, 19, 33, 86, 99, 18, 63, 70, 85,\n",
    " 85, 63, 47, 56, 42, 70, 84, 88, 55, 20, 54, 8, 56, 51, 79, 81, 57, 37, 91,\n",
    " 1, 84, 84, 36, 66, 9, 89, 50, 42, 91, 50, 95, 90, 98, 39, 16, 82, 31, 92, 41,\n",
    " 45, 30, 66, 70, 34, 85, 94, 5, 3, 36, 72, 91, 84, 34, 87, 75, 53, 51, 20, 89, 51, 20]\n",
    "\n",
    "def counter_func(l):\n",
    "    num_dict = {}\n",
    "    count = 0\n",
    "    for i in l: \n",
    "        if i in num_dict: num_dict[i] += 1\n",
    "        else: num_dict[i] = 1\n",
    "    for j in num_dict:\n",
    "        if num_dict[j] == 1:\n",
    "            print(\"%s appears %s time\" %(j, num_dict[j]))\n",
    "            count += 1\n",
    "    print('There are in total %s single numbers' %(count))\n",
    "\n",
    "counter_func(l)"
   ]
  },
  {
   "cell_type": "markdown",
   "metadata": {},
   "source": [
    "6\\. Combination of functions\n",
    "\n",
    "Write two functions - one that returns the square of a number, and one that returns the cube. Now write a third function that returns the number raised to the 6th power using the two previous functions."
   ]
  },
  {
   "cell_type": "code",
   "execution_count": 6,
   "metadata": {},
   "outputs": [
    {
     "name": "stdout",
     "output_type": "stream",
     "text": [
      "15625\n"
     ]
    }
   ],
   "source": [
    "n = 5\n",
    "\n",
    "def square(a):\n",
    "    return a ** 2\n",
    "def cube(a):\n",
    "    return a ** 3\n",
    "def sixth_power(a):\n",
    "    return cube(square(a))    \n",
    "print(sixth_power(n))"
   ]
  },
  {
   "cell_type": "markdown",
   "metadata": {},
   "source": [
    "7\\. Cubes\n",
    "\n",
    "Create a list of the cubes of x for x in *[0, 10]* using:\n",
    "\n",
    "a) a for loop\n",
    "\n",
    "b) a list comprehension"
   ]
  },
  {
   "cell_type": "code",
   "execution_count": 7,
   "metadata": {},
   "outputs": [
    {
     "name": "stdout",
     "output_type": "stream",
     "text": [
      "[0, 1, 8, 27, 64, 125, 216, 343, 512, 729] [0, 1, 8, 27, 64, 125, 216, 343, 512, 729]\n"
     ]
    }
   ],
   "source": [
    "#without a list comprehension\n",
    "a=[]\n",
    "\n",
    "for i in range(0,10):\n",
    "    a.append(i ** 3)\n",
    " \n",
    "#with a list comprehension\n",
    "b = [x ** 3 for x in range(10)]\n",
    "\n",
    "print(a,b)"
   ]
  },
  {
   "cell_type": "markdown",
   "metadata": {},
   "source": [
    "8\\. Nested list comprehension\n",
    "\n",
    "A Pythagorean triple is an integer solution to the Pythagorean theorem $a^2+b^2=c^2$. The first Pythagorean triple is (3,4,5). Find and put in a tuple all unique Pythagorean triples for the positive integers a, b and c less than 100."
   ]
  },
  {
   "cell_type": "code",
   "execution_count": 8,
   "metadata": {},
   "outputs": [
    {
     "name": "stdout",
     "output_type": "stream",
     "text": [
      "([3, 4, 5], [5, 12, 13], [6, 8, 10], [7, 24, 25], [8, 15, 17], [9, 12, 15], [9, 40, 41], [10, 24, 26], [11, 60, 61], [12, 16, 20], [12, 35, 37], [13, 84, 85], [14, 48, 50], [15, 20, 25], [15, 36, 39], [16, 30, 34], [16, 63, 65], [18, 24, 30], [18, 80, 82], [20, 21, 29], [20, 48, 52], [21, 28, 35], [21, 72, 75], [24, 32, 40], [24, 45, 51], [24, 70, 74], [25, 60, 65], [27, 36, 45], [28, 45, 53], [30, 40, 50], [30, 72, 78], [32, 60, 68], [33, 44, 55], [33, 56, 65], [35, 84, 91], [36, 48, 60], [36, 77, 85], [39, 52, 65], [39, 80, 89], [40, 42, 58], [40, 75, 85], [42, 56, 70], [45, 60, 75], [48, 55, 73], [48, 64, 80], [51, 68, 85], [54, 72, 90], [57, 76, 95], [60, 63, 87], [65, 72, 97])\n"
     ]
    }
   ],
   "source": [
    "print(tuple([[a,b,c] for a in range(1,100) for b in range(a, 100) for c in range(b, 100) if c**2 - b**2 - a**2 == 0]))"
   ]
  },
  {
   "cell_type": "markdown",
   "metadata": {},
   "source": [
    "9\\. Normalization\n",
    "\n",
    "Write a function that takes a tuple of numbers and returns it with the entries normalized to one"
   ]
  },
  {
   "cell_type": "code",
   "execution_count": 9,
   "metadata": {},
   "outputs": [
    {
     "name": "stdout",
     "output_type": "stream",
     "text": [
      "(0.14285714285714285, 0.2857142857142857, 0.5714285714285714)\n"
     ]
    }
   ],
   "source": [
    "a = (1,2,4)\n",
    "\n",
    "def normalization(a):\n",
    "    b = ()\n",
    "    norm_factor = 0\n",
    "    for i in range(len(a)): \n",
    "        norm_factor += a[i]\n",
    "    for i in range(len(a)):\n",
    "        b += (a[i] / norm_factor,)  \n",
    "    return b\n",
    "\n",
    "print(normalization(a))"
   ]
  },
  {
   "cell_type": "code",
   "execution_count": null,
   "metadata": {},
   "outputs": [],
   "source": []
  }
 ],
 "metadata": {
  "kernelspec": {
   "display_name": "Python 3",
   "language": "python",
   "name": "python3"
  },
  "language_info": {
   "codemirror_mode": {
    "name": "ipython",
    "version": 3
   },
   "file_extension": ".py",
   "mimetype": "text/x-python",
   "name": "python",
   "nbconvert_exporter": "python",
   "pygments_lexer": "ipython3",
   "version": "3.5.4"
  }
 },
 "nbformat": 4,
 "nbformat_minor": 2
}
