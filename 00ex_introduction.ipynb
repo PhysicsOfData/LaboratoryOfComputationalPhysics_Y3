{
 "cells": [
  {
   "cell_type": "markdown",
   "metadata": {},
   "source": [
    "1. The MickeyMouse problem\n",
    "\n",
    "a) Write a program that prints the numbers from 1 to 100. But for multiples of three print Mickey instead of the number and for the multiples of five print Mouse. For numbers which are multiples of both three and five print MickeyMouse\n",
    "\n",
    "b) Put the result in a tuple and substitute Mickey with Donald and Mouse with Duck"
   ]
  },
  {
   "cell_type": "code",
   "execution_count": 206,
   "metadata": {},
   "outputs": [
    {
     "name": "stdout",
     "output_type": "stream",
     "text": [
      "1\n",
      "2\n",
      "Mickey\n",
      "4\n",
      "Mouse\n",
      "Mickey\n",
      "7\n",
      "8\n",
      "Mickey\n",
      "Mouse\n",
      "11\n",
      "Mickey\n",
      "13\n",
      "14\n",
      "MickeyMouse\n",
      "16\n",
      "17\n",
      "Mickey\n",
      "19\n",
      "Mouse\n",
      "Mickey\n",
      "22\n",
      "23\n",
      "Mickey\n",
      "Mouse\n",
      "26\n",
      "Mickey\n",
      "28\n",
      "29\n",
      "MickeyMouse\n",
      "31\n",
      "32\n",
      "Mickey\n",
      "34\n",
      "Mouse\n",
      "Mickey\n",
      "37\n",
      "38\n",
      "Mickey\n",
      "Mouse\n",
      "41\n",
      "Mickey\n",
      "43\n",
      "44\n",
      "MickeyMouse\n",
      "46\n",
      "47\n",
      "Mickey\n",
      "49\n",
      "Mouse\n",
      "Mickey\n",
      "52\n",
      "53\n",
      "Mickey\n",
      "Mouse\n",
      "56\n",
      "Mickey\n",
      "58\n",
      "59\n",
      "MickeyMouse\n",
      "61\n",
      "62\n",
      "Mickey\n",
      "64\n",
      "Mouse\n",
      "Mickey\n",
      "67\n",
      "68\n",
      "Mickey\n",
      "Mouse\n",
      "71\n",
      "Mickey\n",
      "73\n",
      "74\n",
      "MickeyMouse\n",
      "76\n",
      "77\n",
      "Mickey\n",
      "79\n",
      "Mouse\n",
      "Mickey\n",
      "82\n",
      "83\n",
      "Mickey\n",
      "Mouse\n",
      "86\n",
      "Mickey\n",
      "88\n",
      "89\n",
      "MickeyMouse\n",
      "91\n",
      "92\n",
      "Mickey\n",
      "94\n",
      "Mouse\n",
      "Mickey\n",
      "97\n",
      "98\n",
      "Mickey\n",
      "Mouse\n",
      "('Mouse',)\n"
     ]
    }
   ],
   "source": [
    "for i in range(1,101):\n",
    "    if i % 5 == 0 and i % 3 == 0:\n",
    "        print(\"MickeyMouse\")\n",
    "    elif i % 3 == 0:\n",
    "        print(\"Mickey\")\n",
    "    elif i % 5 == 0:\n",
    "        print(\"Mouse\")\n",
    "    else: print(i)"
   ]
  },
  {
   "cell_type": "code",
   "execution_count": 208,
   "metadata": {},
   "outputs": [
    {
     "name": "stdout",
     "output_type": "stream",
     "text": [
      "(1, 2, 'Donald', 4, 'Duck', 'Donald', 7, 8, 'Donald', 'Duck', 11, 'Donald', 13, 14, 'DonaldDuck', 16, 17, 'Donald', 19, 'Duck', 'Donald', 22, 23, 'Donald', 'Duck', 26, 'Donald', 28, 29, 'DonaldDuck', 31, 32, 'Donald', 34, 'Duck', 'Donald', 37, 38, 'Donald', 'Duck', 41, 'Donald', 43, 44, 'DonaldDuck', 46, 47, 'Donald', 49, 'Duck', 'Donald', 52, 53, 'Donald', 'Duck', 56, 'Donald', 58, 59, 'DonaldDuck', 61, 62, 'Donald', 64, 'Duck', 'Donald', 67, 68, 'Donald', 'Duck', 71, 'Donald', 73, 74, 'DonaldDuck', 76, 77, 'Donald', 79, 'Duck', 'Donald', 82, 83, 'Donald', 'Duck', 86, 'Donald', 88, 89, 'DonaldDuck', 91, 92, 'Donald', 94, 'Duck', 'Donald', 97, 98, 'Donald', 'Duck')\n"
     ]
    }
   ],
   "source": [
    "l = []\n",
    "for i in range(1,101):\n",
    "    if i % 5 == 0 and i % 3 == 0:\n",
    "        l.append(\"DonaldDuck\")\n",
    "    elif i % 3 == 0:\n",
    "        l.append(\"Donald\")\n",
    "    elif i % 5 == 0:\n",
    "        l.append(\"Duck\")\n",
    "    else: l.append(i)\n",
    "print(tuple(l))"
   ]
  },
  {
   "cell_type": "markdown",
   "metadata": {},
   "source": [
    "2\\. The swap function\n",
    "\n",
    "Write a function that swap the values of two input variables x and y (whatever the type). Try to do that also without a temporary variable"
   ]
  },
  {
   "cell_type": "code",
   "execution_count": 168,
   "metadata": {},
   "outputs": [
    {
     "name": "stdout",
     "output_type": "stream",
     "text": [
      "([4, 5, 6], [1, 2, 3])\n",
      "([4, 5, 6], [1, 2, 3])\n",
      "[1, 2, 3]\n"
     ]
    }
   ],
   "source": [
    "def swap(x, y):\n",
    "    temp = x\n",
    "    x = y\n",
    "    y = temp\n",
    "    return(x,y)\n",
    "\n",
    "def swap1(x, y):\n",
    "    return y, x\n",
    "\n",
    "x = [1,2,3]\n",
    "y = [4,5,6]\n",
    "\n",
    "print(swap(x,y))\n",
    "print(swap1(x,y))\n",
    "\n",
    "print(x)"
   ]
  },
  {
   "cell_type": "markdown",
   "metadata": {},
   "source": [
    "3\\. Computing the distance\n",
    "\n",
    "Write a function that calculates and returns the euclidean distance between two points *u* and *v*, where *u* and *v* are both 2-tuples *(x,y)*. For example, if *u=(3,0)* and *v=(0,4)*, the function should return 5"
   ]
  },
  {
   "cell_type": "code",
   "execution_count": 169,
   "metadata": {},
   "outputs": [
    {
     "name": "stdout",
     "output_type": "stream",
     "text": [
      "5.0\n"
     ]
    }
   ],
   "source": [
    "import math\n",
    "def dist(u, v):\n",
    "    distance = math.sqrt((v[1] - v[0])**2 + (u[1] - u[0])**2)\n",
    "    return distance\n",
    "u = (3,0)\n",
    "v = (0,4)\n",
    "print(dist(u,v))"
   ]
  },
  {
   "cell_type": "markdown",
   "metadata": {},
   "source": [
    "4\\. Counting letters\n",
    "\n",
    "Write a program to calculate the number of times each character occurs in a given string *s*. Ignore differneces in capitalization"
   ]
  },
  {
   "cell_type": "code",
   "execution_count": 170,
   "metadata": {},
   "outputs": [
    {
     "name": "stdout",
     "output_type": "stream",
     "text": [
      "w 2\n",
      "r 17\n",
      "i 14\n",
      "t 19\n",
      "e 22\n",
      "  41\n",
      "a 7\n",
      "  41\n",
      "p 8\n",
      "r 17\n",
      "o 13\n",
      "g 1\n",
      "r 17\n",
      "a 7\n",
      "m 12\n",
      "  41\n",
      "t 19\n",
      "h 9\n",
      "a 7\n",
      "t 19\n",
      "  41\n",
      "p 8\n",
      "r 17\n",
      "i 14\n",
      "n 10\n",
      "t 19\n",
      "s 9\n",
      "  41\n",
      "t 19\n",
      "h 9\n",
      "e 22\n",
      "  41\n",
      "n 10\n",
      "u 9\n",
      "m 12\n",
      "b 5\n",
      "e 22\n",
      "r 17\n",
      "s 9\n",
      "  41\n",
      "f 10\n",
      "r 17\n",
      "o 13\n",
      "m 12\n",
      "  41\n",
      "1 2\n",
      "  41\n",
      "t 19\n",
      "o 13\n",
      "  41\n",
      "1 2\n",
      "0 2\n",
      "0 2\n",
      ". 2\n",
      "  41\n",
      "b 5\n",
      "u 9\n",
      "t 19\n",
      "  41\n",
      "f 10\n",
      "o 13\n",
      "r 17\n",
      "  41\n",
      "m 12\n",
      "u 9\n",
      "l 6\n",
      "t 19\n",
      "i 14\n",
      "p 8\n",
      "l 6\n",
      "e 22\n",
      "s 9\n",
      "  41\n",
      "o 13\n",
      "f 10\n",
      "  41\n",
      "t 19\n",
      "h 9\n",
      "r 17\n",
      "e 22\n",
      "e 22\n",
      "  41\n",
      "p 8\n",
      "r 17\n",
      "i 14\n",
      "n 10\n",
      "t 19\n",
      "  41\n",
      "m 12\n",
      "i 14\n",
      "c 3\n",
      "k 2\n",
      "e 22\n",
      "y 2\n",
      "  41\n",
      "i 14\n",
      "n 10\n",
      "s 9\n",
      "t 19\n",
      "e 22\n",
      "a 7\n",
      "d 3\n",
      "  41\n",
      "o 13\n",
      "f 10\n",
      "  41\n",
      "t 19\n",
      "h 9\n",
      "e 22\n",
      "  41\n",
      "n 10\n",
      "u 9\n",
      "m 12\n",
      "b 5\n",
      "e 22\n",
      "r 17\n",
      "  41\n",
      "a 7\n",
      "n 10\n",
      "d 3\n",
      "  41\n",
      "f 10\n",
      "o 13\n",
      "r 17\n",
      "  41\n",
      "t 19\n",
      "h 9\n",
      "e 22\n",
      "  41\n",
      "m 12\n",
      "u 9\n",
      "l 6\n",
      "t 19\n",
      "i 14\n",
      "p 8\n",
      "l 6\n",
      "e 22\n",
      "s 9\n",
      "  41\n",
      "o 13\n",
      "f 10\n",
      "  41\n",
      "f 10\n",
      "i 14\n",
      "v 2\n",
      "e 22\n",
      "  41\n",
      "p 8\n",
      "r 17\n",
      "i 14\n",
      "n 10\n",
      "t 19\n",
      "  41\n",
      "m 12\n",
      "o 13\n",
      "u 9\n",
      "s 9\n",
      "e 22\n",
      ". 2\n",
      "  41\n",
      "f 10\n",
      "o 13\n",
      "r 17\n",
      "  41\n",
      "n 10\n",
      "u 9\n",
      "m 12\n",
      "b 5\n",
      "e 22\n",
      "r 17\n",
      "s 9\n",
      "  41\n",
      "w 2\n",
      "h 9\n",
      "i 14\n",
      "c 3\n",
      "h 9\n",
      "  41\n",
      "a 7\n",
      "r 17\n",
      "e 22\n",
      "  41\n",
      "m 12\n",
      "u 9\n",
      "l 6\n",
      "t 19\n",
      "i 14\n",
      "p 8\n",
      "l 6\n",
      "e 22\n",
      "s 9\n",
      "  41\n",
      "o 13\n",
      "f 10\n",
      "  41\n",
      "b 5\n",
      "o 13\n",
      "t 19\n",
      "h 9\n",
      "  41\n",
      "t 19\n",
      "h 9\n",
      "r 17\n",
      "e 22\n",
      "e 22\n",
      "  41\n",
      "a 7\n",
      "n 10\n",
      "d 3\n",
      "  41\n",
      "f 10\n",
      "i 14\n",
      "v 2\n",
      "e 22\n",
      "  41\n",
      "p 8\n",
      "r 17\n",
      "i 14\n",
      "n 10\n",
      "t 19\n",
      "  41\n",
      "m 12\n",
      "i 14\n",
      "c 3\n",
      "k 2\n",
      "e 22\n",
      "y 2\n",
      "m 12\n",
      "o 13\n",
      "u 9\n",
      "s 9\n",
      "e 22\n"
     ]
    }
   ],
   "source": [
    "s = \"Write a program that prints the numbers from 1 to 100. \\\n",
    "But for multiples of three print Mickey instead of the number and for the multiples of five print Mouse. \\\n",
    "For numbers which are multiples of both three and five print MickeyMouse\"\n",
    "s1 = s.lower()\n",
    "\n",
    "for i in s1:\n",
    "    print(i,s1.count(i))"
   ]
  },
  {
   "cell_type": "code",
   "execution_count": 171,
   "metadata": {},
   "outputs": [
    {
     "name": "stdout",
     "output_type": "stream",
     "text": [
      "58 is unique\n",
      "74 is unique\n",
      "96 is unique\n",
      "64 is unique\n",
      "10 is unique\n",
      "24 is unique\n",
      "19 is unique\n",
      "33 is unique\n",
      "86 is unique\n",
      "99 is unique\n",
      "18 is unique\n",
      "47 is unique\n",
      "88 is unique\n",
      "55 is unique\n",
      "54 is unique\n",
      "8 is unique\n",
      "79 is unique\n",
      "81 is unique\n",
      "57 is unique\n",
      "37 is unique\n",
      "1 is unique\n",
      "9 is unique\n",
      "95 is unique\n",
      "90 is unique\n",
      "98 is unique\n",
      "39 is unique\n",
      "16 is unique\n",
      "82 is unique\n",
      "92 is unique\n",
      "41 is unique\n",
      "30 is unique\n",
      "94 is unique\n",
      "5 is unique\n",
      "72 is unique\n",
      "87 is unique\n",
      "75 is unique\n",
      "53 is unique\n",
      "37\n"
     ]
    }
   ],
   "source": [
    "l = [36, 45, 58, 3, 74, 96, 64, 45, 31, 10, 24, 19, 33, 86, 99, 18, 63, 70, 85,\n",
    " 85, 63, 47, 56, 42, 70, 84, 88, 55, 20, 54, 8, 56, 51, 79, 81, 57, 37, 91,\n",
    " 1, 84, 84, 36, 66, 9, 89, 50, 42, 91, 50, 95, 90, 98, 39, 16, 82, 31, 92, 41,\n",
    " 45, 30, 66, 70, 34, 85, 94, 5, 3, 36, 72, 91, 84, 34, 87, 75, 53, 51, 20, 89, 51, 20]\n",
    "\n",
    "count = 0\n",
    "for i in l: \n",
    "    if l.count(i) == 1: \n",
    "        print(i, \"is unique\")\n",
    "        count +=1\n",
    "print(count)"
   ]
  },
  {
   "cell_type": "markdown",
   "metadata": {},
   "source": [
    "6\\. Combination of functions\n",
    "\n",
    "Write two functions - one that returns the square of a number, and one that returns the cube. Now write a third function that returns the number raised to the 6th power using the two previous functions."
   ]
  },
  {
   "cell_type": "code",
   "execution_count": 172,
   "metadata": {},
   "outputs": [
    {
     "data": {
      "text/plain": [
       "64"
      ]
     },
     "execution_count": 172,
     "metadata": {},
     "output_type": "execute_result"
    }
   ],
   "source": [
    "def square(x):\n",
    "    return x**2\n",
    "\n",
    "def cube(x):\n",
    "    return x**3\n",
    "\n",
    "def sixth(x):\n",
    "    return x*square(x)*cube(x)\n",
    "\n",
    "sixth(2)\n",
    "    "
   ]
  },
  {
   "cell_type": "markdown",
   "metadata": {},
   "source": [
    "7\\. Cubes\n",
    "\n",
    "Create a list of the cubes of x for x in *[0, 10]* using:\n",
    "\n",
    "a) a for loop\n",
    "\n",
    "b) a list comprehension"
   ]
  },
  {
   "cell_type": "code",
   "execution_count": 189,
   "metadata": {},
   "outputs": [
    {
     "name": "stdout",
     "output_type": "stream",
     "text": [
      "[0, 1, 8, 27, 64, 125, 216, 343, 512, 729, 1000]\n"
     ]
    }
   ],
   "source": [
    "\n",
    "l = []\n",
    "for i in range(0,11): \n",
    "    l.append(i**3)\n",
    "\n",
    "\n",
    "l1 = [x**3 for x in range(0,11)]\n",
    "print(l1)\n"
   ]
  },
  {
   "cell_type": "markdown",
   "metadata": {},
   "source": [
    "8\\. Nested list comprehension\n",
    "\n",
    "A Pythagorean triple is an integer solution to the Pythagorean theorem $a^2+b^2=c^2$. The first Pythagorean triple is (3,4,5). Find and put in a tuple all unique Pythagorean triples for the positive integers a, b and c less than 100."
   ]
  },
  {
   "cell_type": "code",
   "execution_count": 148,
   "metadata": {},
   "outputs": [
    {
     "name": "stdout",
     "output_type": "stream",
     "text": [
      "[(3, 4, 5), (5, 12, 13), (6, 8, 10), (7, 24, 25), (8, 15, 17), (9, 12, 15), (9, 40, 41), (10, 24, 26), (11, 60, 61), (12, 16, 20), (12, 35, 37), (13, 84, 85), (14, 48, 50), (15, 20, 25), (15, 36, 39), (16, 30, 34), (16, 63, 65), (18, 24, 30), (18, 80, 82), (20, 21, 29), (20, 48, 52), (21, 28, 35), (21, 72, 75), (24, 32, 40), (24, 45, 51), (24, 70, 74), (25, 60, 65), (27, 36, 45), (28, 45, 53), (28, 96, 100), (30, 40, 50), (30, 72, 78), (32, 60, 68), (33, 44, 55), (33, 56, 65), (35, 84, 91), (36, 48, 60), (36, 77, 85), (39, 52, 65), (39, 80, 89), (40, 42, 58), (40, 75, 85), (42, 56, 70), (45, 60, 75), (48, 55, 73), (48, 64, 80), (51, 68, 85), (54, 72, 90), (57, 76, 95), (60, 63, 87), (60, 80, 100), (65, 72, 97)]\n"
     ]
    }
   ],
   "source": [
    "print([(a,b,c) for a in range(1,101) for b in range(a,101) for c in range(b,101) if a**2 + b**2 == c**2])"
   ]
  },
  {
   "cell_type": "markdown",
   "metadata": {},
   "source": [
    "9\\. Normalization\n",
    "\n",
    "Write a function that takes a tuple of numbers and returns it with the entries normalized to one"
   ]
  },
  {
   "cell_type": "code",
   "execution_count": 200,
   "metadata": {},
   "outputs": [
    {
     "data": {
      "text/plain": [
       "(0.2672612419124244, 0.5345224838248488, 0.8017837257372732)"
      ]
     },
     "execution_count": 200,
     "metadata": {},
     "output_type": "execute_result"
    }
   ],
   "source": [
    "def norm(t):\n",
    "    l = list(t)\n",
    "    new_l = []\n",
    "    z2 = 0\n",
    "    for i in l:\n",
    "        z2 += i**2\n",
    "    z = math.sqrt(z2)\n",
    "    for i in l:\n",
    "        new_l.append(i/z)\n",
    "    t = tuple(new_l)\n",
    "    return(t)\n",
    "\n",
    "a = (1,2,3)\n",
    "norm(a)\n",
    "        "
   ]
  }
 ],
 "metadata": {
  "kernelspec": {
   "display_name": "Python 3",
   "language": "python",
   "name": "python3"
  },
  "language_info": {
   "codemirror_mode": {
    "name": "ipython",
    "version": 3
   },
   "file_extension": ".py",
   "mimetype": "text/x-python",
   "name": "python",
   "nbconvert_exporter": "python",
   "pygments_lexer": "ipython3",

   "version": "3.8.3"

  }
 },
 "nbformat": 4,
 "nbformat_minor": 2
}
