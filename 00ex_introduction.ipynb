{
 "cells": [
  {
   "cell_type": "markdown",
   "metadata": {},
   "source": [
    "1. The MickeyMouse problem\n",
    "\n",
    "a) Write a program that prints the numbers from 1 to 100. But for multiples of three print Mickey instead of the number and for the multiples of five print Mouse. For numbers which are multiples of both three and five print MickeyMouse\n",
    "\n",
    "b) Put the result in a tuple and substitute Mickey with Donald and Mouse with Duck"
   ]
  },
  {
   "cell_type": "code",
   "execution_count": 149,
   "metadata": {},
   "outputs": [
    {
     "name": "stdout",
     "output_type": "stream",
     "text": [
      "1\n",
      "2\n",
      "Mickey\n",
      "4\n",
      "Mouse\n",
      "Mickey\n",
      "7\n",
      "8\n",
      "Mickey\n",
      "Mouse\n",
      "11\n",
      "Mickey\n",
      "13\n",
      "14\n",
      "Mickey Mouse\n",
      "16\n",
      "17\n",
      "Mickey\n",
      "19\n",
      "Mouse\n",
      "Mickey\n",
      "22\n",
      "23\n",
      "Mickey\n",
      "Mouse\n",
      "26\n",
      "Mickey\n",
      "28\n",
      "29\n",
      "Mickey Mouse\n",
      "31\n",
      "32\n",
      "Mickey\n",
      "34\n",
      "Mouse\n",
      "Mickey\n",
      "37\n",
      "38\n",
      "Mickey\n",
      "Mouse\n",
      "41\n",
      "Mickey\n",
      "43\n",
      "44\n",
      "Mickey Mouse\n",
      "46\n",
      "47\n",
      "Mickey\n",
      "49\n",
      "Mouse\n",
      "Mickey\n",
      "52\n",
      "53\n",
      "Mickey\n",
      "Mouse\n",
      "56\n",
      "Mickey\n",
      "58\n",
      "59\n",
      "Mickey Mouse\n",
      "61\n",
      "62\n",
      "Mickey\n",
      "64\n",
      "Mouse\n",
      "Mickey\n",
      "67\n",
      "68\n",
      "Mickey\n",
      "Mouse\n",
      "71\n",
      "Mickey\n",
      "73\n",
      "74\n",
      "Mickey Mouse\n",
      "76\n",
      "77\n",
      "Mickey\n",
      "79\n",
      "Mouse\n",
      "Mickey\n",
      "82\n",
      "83\n",
      "Mickey\n",
      "Mouse\n",
      "86\n",
      "Mickey\n",
      "88\n",
      "89\n",
      "Mickey Mouse\n",
      "91\n",
      "92\n",
      "Mickey\n",
      "94\n",
      "Mouse\n",
      "Mickey\n",
      "97\n",
      "98\n",
      "Mickey\n",
      "Mouse\n"
     ]
    }
   ],
   "source": [
    "#a\n",
    "a = []\n",
    "\n",
    "for i in range(1,101): \n",
    "    \n",
    "    if i%3==0:\n",
    "        \n",
    "        if i%3==0 and i%5==0:\n",
    "            \n",
    "            print('Mickey Mouse')\n",
    "            a.append('Mickey Mouse')\n",
    "            \n",
    "        else: \n",
    "            \n",
    "            print('Mickey')\n",
    "            a.append('Mickey')\n",
    "            \n",
    "    elif i%5==0: \n",
    "        \n",
    "        print('Mouse')\n",
    "        a.append('Mouse')\n",
    "        \n",
    "    else:\n",
    "        \n",
    "        print(i)\n",
    "        a.append(i)"
   ]
  },
  {
   "cell_type": "code",
   "execution_count": 150,
   "metadata": {},
   "outputs": [
    {
     "name": "stdout",
     "output_type": "stream",
     "text": [
      "(1, 2, 'Donald', 4, 'Duck', 'Donald', 7, 8, 'Donald', 'Duck', 11, 'Donald', 13, 14, 'Donald Duck', 16, 17, 'Donald', 19, 'Duck', 'Donald', 22, 23, 'Donald', 'Duck', 26, 'Donald', 28, 29, 'Donald Duck', 31, 32, 'Donald', 34, 'Duck', 'Donald', 37, 38, 'Donald', 'Duck', 41, 'Donald', 43, 44, 'Donald Duck', 46, 47, 'Donald', 49, 'Duck', 'Donald', 52, 53, 'Donald', 'Duck', 56, 'Donald', 58, 59, 'Donald Duck', 61, 62, 'Donald', 64, 'Duck', 'Donald', 67, 68, 'Donald', 'Duck', 71, 'Donald', 73, 74, 'Donald Duck', 76, 77, 'Donald', 79, 'Duck', 'Donald', 82, 83, 'Donald', 'Duck', 86, 'Donald', 88, 89, 'Donald Duck', 91, 92, 'Donald', 94, 'Duck', 'Donald', 97, 98, 'Donald', 'Duck')\n"
     ]
    }
   ],
   "source": [
    "#b\n",
    "b = ()\n",
    "\n",
    "for i in range(len(a)):\n",
    "    \n",
    "    if a[i] == 'Mickey':\n",
    "        \n",
    "        b+=('Donald',)\n",
    "        \n",
    "    elif a[i] == 'Mouse':\n",
    "        \n",
    "        b+=('Duck',)\n",
    "        \n",
    "    elif a[i] == 'Mickey Mouse':\n",
    "        \n",
    "        b+=('Donald Duck',)\n",
    "        \n",
    "    else:\n",
    "        \n",
    "        b+=(a[i],)\n",
    "print(b)"
   ]
  },
  {
   "cell_type": "markdown",
   "metadata": {},
   "source": [
    "2\\. The swap function\n",
    "\n",
    "Write a function that swap the values of two input variables x and y (whatever the type). Try to do that also without a temporary variable"
   ]
  },
  {
   "cell_type": "code",
   "execution_count": 151,
   "metadata": {},
   "outputs": [
    {
     "name": "stdout",
     "output_type": "stream",
     "text": [
      "a was:  10\n",
      "b was:  5\n",
      "a is now:  5\n",
      "b is now:  10\n"
     ]
    }
   ],
   "source": [
    "#using a temporary variable\n",
    "\n",
    "a=10\n",
    "b=5\n",
    "\n",
    "def swap():\n",
    "    \n",
    "    global a\n",
    "    global b\n",
    "    c = a\n",
    "    a = b\n",
    "    b = c\n",
    "\n",
    "print(\"a was: \",a)\n",
    "print(\"b was: \",b)\n",
    "\n",
    "swap()\n",
    "\n",
    "print(\"a is now: \",a)\n",
    "print(\"b is now: \",b)"
   ]
  },
  {
   "cell_type": "code",
   "execution_count": 152,
   "metadata": {},
   "outputs": [
    {
     "name": "stdout",
     "output_type": "stream",
     "text": [
      "a was:  10\n",
      "b was:  5\n",
      "a is now:  5\n",
      "b is now:  10\n"
     ]
    }
   ],
   "source": [
    "#without using a temporary variable\n",
    "\n",
    "a=10\n",
    "b=5\n",
    "\n",
    "def swap(a,b):\n",
    "    \n",
    "    return b,a\n",
    "\n",
    "print(\"a was: \",a)\n",
    "print(\"b was: \",b)\n",
    "\n",
    "a,b = swap(a,b)\n",
    "\n",
    "print(\"a is now: \",a)\n",
    "print(\"b is now: \",b)"
   ]
  },
  {
   "cell_type": "markdown",
   "metadata": {},
   "source": [
    "3\\. Computing the distance\n",
    "\n",
    "Write a function that calculates and returns the euclidean distance between two points *u* and *v*, where *u* and *v* are both 2-tuples *(x,y)*. For example, if *u=(3,0)* and *v=(0,4)*, the function should return 5"
   ]
  },
  {
   "cell_type": "code",
   "execution_count": 153,
   "metadata": {},
   "outputs": [
    {
     "name": "stdout",
     "output_type": "stream",
     "text": [
      "5.0\n"
     ]
    }
   ],
   "source": [
    "u = (3,0)\n",
    "v = (0,4)\n",
    "\n",
    "def euclidean_dist_2D(x_1,x_2):\n",
    "    \n",
    "    dist=pow((pow(x_1[0]-x_2[0],2)+pow(x_1[1]-x_2[1],2)),1/2) #or i can import some math libraries\n",
    "    return dist\n",
    "\n",
    "print(euclidean_dist_2D(u,v))"
   ]
  },
  {
   "cell_type": "markdown",
   "metadata": {},
   "source": [
    "4\\. Counting letters\n",
    "\n",
    "Write a program to calculate the number of times each character occurs in a given string *s*. Ignore differneces in capitalization"
   ]
  },
  {
   "cell_type": "code",
   "execution_count": 154,
   "metadata": {},
   "outputs": [],
   "source": [
    "s= \"Write a program that prints the numbers from 1 to 100. \\\n",
    "But for multiples of three print Mickey instead of the number and for the multiples of five print Mouse. \\\n",
    "For numbers which are multiples of both three and five print MickeyMouse\"\n",
    "\n",
    "char_dictionary = {}\n",
    "\n",
    "for i in s:\n",
    "    \n",
    "    if i.lower() in char_dictionary: char_dictionary[i.lower()]+=1\n",
    "        \n",
    "    else: char_dictionary[i.lower()]=1    "
   ]
  },
  {
   "cell_type": "markdown",
   "metadata": {},
   "source": [
    "5\\. Isolating the unique\n",
    "\n",
    "Write a function that determines and count the unique numbers in the list *l*"
   ]
  },
  {
   "cell_type": "code",
   "execution_count": 156,
   "metadata": {},
   "outputs": [
    {
     "name": "stdout",
     "output_type": "stream",
     "text": [
      "58 appears 1 time\n",
      "74 appears 1 time\n",
      "96 appears 1 time\n",
      "64 appears 1 time\n",
      "10 appears 1 time\n",
      "24 appears 1 time\n",
      "19 appears 1 time\n",
      "33 appears 1 time\n",
      "86 appears 1 time\n",
      "99 appears 1 time\n",
      "18 appears 1 time\n",
      "47 appears 1 time\n",
      "88 appears 1 time\n",
      "55 appears 1 time\n",
      "54 appears 1 time\n",
      "8 appears 1 time\n",
      "79 appears 1 time\n",
      "81 appears 1 time\n",
      "57 appears 1 time\n",
      "37 appears 1 time\n",
      "1 appears 1 time\n",
      "9 appears 1 time\n",
      "95 appears 1 time\n",
      "90 appears 1 time\n",
      "98 appears 1 time\n",
      "39 appears 1 time\n",
      "16 appears 1 time\n",
      "82 appears 1 time\n",
      "92 appears 1 time\n",
      "41 appears 1 time\n",
      "30 appears 1 time\n",
      "94 appears 1 time\n",
      "5 appears 1 time\n",
      "72 appears 1 time\n",
      "87 appears 1 time\n",
      "75 appears 1 time\n",
      "53 appears 1 time\n",
      "There are in total 37 single numbers\n"
     ]
    }
   ],
   "source": [
    "l = [36, 45, 58, 3, 74, 96, 64, 45, 31, 10, 24, 19, 33, 86, 99, 18, 63, 70, 85,\n",
    " 85, 63, 47, 56, 42, 70, 84, 88, 55, 20, 54, 8, 56, 51, 79, 81, 57, 37, 91,\n",
    " 1, 84, 84, 36, 66, 9, 89, 50, 42, 91, 50, 95, 90, 98, 39, 16, 82, 31, 92, 41,\n",
    " 45, 30, 66, 70, 34, 85, 94, 5, 3, 36, 72, 91, 84, 34, 87, 75, 53, 51, 20, 89, 51, 20]\n",
    "\n",
    "def counter_func(l):\n",
    "    \n",
    "    num_dict ={}\n",
    "    count=0\n",
    "    \n",
    "    for i in l: \n",
    "        \n",
    "        if i in num_dict: num_dict[i] += 1\n",
    "            \n",
    "        else: num_dict[i]=1\n",
    "            \n",
    "    for j in num_dict:\n",
    "        \n",
    "        if num_dict[j] ==1:\n",
    "            \n",
    "            print(\"%s appears %s time\" % (j, num_dict[j]))\n",
    "            count+=1\n",
    "            \n",
    "    print('There are in total %s single numbers' %(count))\n",
    "\n",
    "counter_func(l)"
   ]
  },
  {
   "cell_type": "markdown",
   "metadata": {},
   "source": [
    "6\\. Combination of functions\n",
    "\n",
    "Write two functions - one that returns the square of a number, and one that returns the cube. Now write a third function that returns the number raised to the 6th power using the two previous functions."
   ]
  },
  {
   "cell_type": "code",
   "execution_count": 157,
   "metadata": {},
   "outputs": [],
   "source": [
    "def square(a):\n",
    "    \n",
    "    return a**2\n",
    "\n",
    "def cube(a):\n",
    "    \n",
    "    return a**3\n",
    "\n",
    "def sixth_power(a):\n",
    "    \n",
    "    return cube(square(a))    "
   ]
  },
  {
   "cell_type": "markdown",
   "metadata": {},
   "source": [
    "7\\. Cubes\n",
    "\n",
    "Create a list of the cubes of x for x in *[0, 10]* using:\n",
    "\n",
    "a) a for loop\n",
    "\n",
    "b) a list comprehension"
   ]
  },
  {
   "cell_type": "code",
   "execution_count": 158,
   "metadata": {},
   "outputs": [],
   "source": [
    "a=[]\n",
    "\n",
    "for i in range(0,10):\n",
    "    \n",
    "    a.append(i**3)\n",
    "    \n",
    "b = [x**3 for x in range(10)]"
   ]
  },
  {
   "cell_type": "markdown",
   "metadata": {},
   "source": [
    "8\\. Nested list comprehension\n",
    "\n",
    "A Pythagorean triple is an integer solution to the Pythagorean theorem $a^2+b^2=c^2$. The first Pythagorean triple is (3,4,5). Find and put in a tuple all unique Pythagorean triples for the positive integers a, b and c less than 100."
   ]
  },
  {
   "cell_type": "code",
   "execution_count": 159,
   "metadata": {},
   "outputs": [
    {
     "name": "stdout",
     "output_type": "stream",
     "text": [
      "((3, 4, 5.0), (5, 12, 13.0), (6, 8, 10.0), (7, 24, 25.0), (8, 15, 17.0), (9, 12, 15.0), (9, 40, 41.0), (10, 24, 26.0), (11, 60, 61.0), (12, 16, 20.0), (12, 35, 37.0), (13, 84, 85.0), (14, 48, 50.0), (15, 20, 25.0), (15, 36, 39.0), (16, 30, 34.0), (16, 63, 65.0), (18, 24, 30.0), (18, 80, 82.0), (20, 21, 29.0), (20, 48, 52.0), (21, 28, 35.0), (21, 72, 75.0), (24, 32, 40.0), (24, 45, 51.0), (24, 70, 74.0), (25, 60, 65.0), (27, 36, 45.0), (28, 45, 53.0), (30, 40, 50.0), (30, 72, 78.0), (32, 60, 68.0), (33, 44, 55.0), (33, 56, 65.0), (35, 84, 91.0), (36, 48, 60.0), (36, 77, 85.0), (39, 52, 65.0), (39, 80, 89.0), (40, 42, 58.0), (40, 75, 85.0), (42, 56, 70.0), (45, 60, 75.0), (48, 55, 73.0), (48, 64, 80.0), (51, 68, 85.0), (54, 72, 90.0), (57, 76, 95.0), (60, 63, 87.0), (65, 72, 97.0))\n"
     ]
    }
   ],
   "source": [
    "collection = ()\n",
    "\n",
    "for a in range(1,101):\n",
    "    \n",
    "    for b in range(a,101):\n",
    "        \n",
    "        c = pow(pow(a,2)+pow(b,2),1/2)\n",
    "        sub=()\n",
    "        \n",
    "        if c==int(c) and c <100:\n",
    "            \n",
    "            sub+=(a,b,c,)\n",
    "            collection+=(sub,)\n",
    "            \n",
    "        else: pass\n",
    "        \n",
    "print(collection)"
   ]
  },
  {
   "cell_type": "markdown",
   "metadata": {},
   "source": [
    "9\\. Normalization\n",
    "\n",
    "Write a function that takes a tuple of numbers and returns it with the entries normalized to one"
   ]
  },
  {
   "cell_type": "code",
   "execution_count": 160,
   "metadata": {},
   "outputs": [
    {
     "name": "stdout",
     "output_type": "stream",
     "text": [
      "(0.14285714285714285, 0.2857142857142857, 0.5714285714285714)\n"
     ]
    }
   ],
   "source": [
    "a = (1,2,4)\n",
    "\n",
    "def normalization(a):\n",
    "    \n",
    "    b=()\n",
    "    norm_factor = 0\n",
    "    \n",
    "    for i in range(len(a)):\n",
    "        \n",
    "        norm_factor+=a[i]\n",
    "        \n",
    "    for i in range(len(a)):\n",
    "        \n",
    "        b+=(a[i]/norm_factor,)\n",
    "        \n",
    "    return b\n",
    "\n",
    "print(normalization(a))"
   ]
  },
  {
   "cell_type": "code",
   "execution_count": null,
   "metadata": {},
   "outputs": [],
   "source": []
  }
 ],
 "metadata": {
  "kernelspec": {
   "display_name": "Python 3",
   "language": "python",
   "name": "python3"
  },
  "language_info": {
   "codemirror_mode": {
    "name": "ipython",
    "version": 3
   },
   "file_extension": ".py",
   "mimetype": "text/x-python",
   "name": "python",
   "nbconvert_exporter": "python",
   "pygments_lexer": "ipython3",
   "version": "3.7.4"
  }
 },
 "nbformat": 4,
 "nbformat_minor": 2
}
