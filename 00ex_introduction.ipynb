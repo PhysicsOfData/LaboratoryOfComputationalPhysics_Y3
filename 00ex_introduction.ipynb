{
 "cells": [
  {
   "cell_type": "markdown",
   "metadata": {},
   "source": [
    "1. The MickeyMouse problem\n",
    "\n",
    "a) Write a program that prints the numbers from 1 to 100. But for multiples of three print Mickey instead of the number and for the multiples of five print Mouse. For numbers which are multiples of both three and five print MickeyMouse\n",
    "\n",
    "b) Put the result in a tuple and substitute Mickey with Donald and Mouse with Duck"
   ]
  },
  {
   "cell_type": "code",
   "execution_count": 2,
   "metadata": {},
   "outputs": [
    {
     "name": "stdout",
     "output_type": "stream",
     "text": [
      "the MickeyMouse tuple: \n",
      " (1, 2, 'Mickey', 4, 'Mouse', 'Mickey', 7, 8, 'Mickey', 'Mouse', 11, 'Mickey', 13, 14, 'MickeyMouse', 16, 17, 'Mickey', 19, 'Mouse', 'Mickey', 22, 23, 'Mickey', 'Mouse', 26, 'Mickey', 28, 29, 'MickeyMouse', 31, 32, 'Mickey', 34, 'Mouse', 'Mickey', 37, 38, 'Mickey', 'Mouse', 41, 'Mickey', 43, 44, 'MickeyMouse', 46, 47, 'Mickey', 49, 'Mouse', 'Mickey', 52, 53, 'Mickey', 'Mouse', 56, 'Mickey', 58, 59, 'MickeyMouse', 61, 62, 'Mickey', 64, 'Mouse', 'Mickey', 67, 68, 'Mickey', 'Mouse', 71, 'Mickey', 73, 74, 'MickeyMouse', 76, 77, 'Mickey', 79, 'Mouse', 'Mickey', 82, 83, 'Mickey', 'Mouse', 86, 'Mickey', 88, 89, 'MickeyMouse', 91, 92, 'Mickey', 94, 'Mouse', 'Mickey', 97, 98, 'Mickey', 'Mouse') \n",
      "\n",
      "the DonaldDuck tuple: \n",
      " (1, 2, 'Donald', 4, 'Duck', 'Donald', 7, 8, 'Donald', 'Duck', 11, 'Donald', 13, 14, 'DonaldDuck', 16, 17, 'Donald', 19, 'Duck', 'Donald', 22, 23, 'Donald', 'Duck', 26, 'Donald', 28, 29, 'DonaldDuck', 31, 32, 'Donald', 34, 'Duck', 'Donald', 37, 38, 'Donald', 'Duck', 41, 'Donald', 43, 44, 'DonaldDuck', 46, 47, 'Donald', 49, 'Duck', 'Donald', 52, 53, 'Donald', 'Duck', 56, 'Donald', 58, 59, 'DonaldDuck', 61, 62, 'Donald', 64, 'Duck', 'Donald', 67, 68, 'Donald', 'Duck', 71, 'Donald', 73, 74, 'DonaldDuck', 76, 77, 'Donald', 79, 'Duck', 'Donald', 82, 83, 'Donald', 'Duck', 86, 'Donald', 88, 89, 'DonaldDuck', 91, 92, 'Donald', 94, 'Duck', 'Donald', 97, 98, 'Donald', 'Duck')\n"
     ]
    }
   ],
   "source": [
    "#exercise 1.a\n",
    "def MMfunc(n):\n",
    "    if n%3 == 0 and n%5 == 0:\n",
    "        return \"Mickey\"+\"Mouse\"\n",
    "    elif n%3 == 0:\n",
    "        return \"Mickey\"\n",
    "    elif n%5 == 0:\n",
    "        return \"Mouse\"\n",
    "    else:\n",
    "        return n\n",
    "    \n",
    "a = tuple(MMfunc(n) for n in range(1,101))\n",
    "print(\"the MickeyMouse tuple:\", \"\\n\", a, \"\\n\")\n",
    "\n",
    "#exercise 1.b\n",
    "def substitute():\n",
    "    c=[]\n",
    "    for i in range(0,100):         \n",
    "        if a[i] == \"Mickey\":\n",
    "            c.append(\"Donald\")\n",
    "        elif a[i] == \"Mouse\":\n",
    "            c.append(\"Duck\")\n",
    "        elif a[i] == \"MickeyMouse\":\n",
    "            c.append(\"DonaldDuck\")\n",
    "        else:\n",
    "            c.append(a[i])\n",
    "    return c\n",
    "\n",
    "b = tuple(substitute())\n",
    "print(\"the DonaldDuck tuple:\", \"\\n\", b)"
   ]
  },
  {
   "cell_type": "markdown",
   "metadata": {},
   "source": [
    "2\\. The swap function\n",
    "\n",
    "Write a function that swap the values of two input variables x and y (whatever the type). Try to do that also without a temporary variable"
   ]
  },
  {
   "cell_type": "code",
   "execution_count": 3,
   "metadata": {},
   "outputs": [
    {
     "name": "stdout",
     "output_type": "stream",
     "text": [
      "the initial value of a is: ciao \n",
      " and b is: 7\n",
      "the value of a after swapping is: 7 \n",
      " and b is: ciao \n",
      "\n",
      "without temporary variable: \n",
      " (7, 'ciao')\n"
     ]
    }
   ],
   "source": [
    "#exercise 2\n",
    "#with temporary variable\n",
    "a = \"ciao\"\n",
    "b = 7\n",
    "print(\"the initial value of a is:\", a, \"\\n and b is:\", b)\n",
    "\n",
    "temporary = a\n",
    "a = b\n",
    "b = temporary\n",
    "print(\"the value of a after swapping is:\", a, \"\\n and b is:\", b, \"\\n\")\n",
    "\n",
    "#without temporary variable \n",
    "def swap(x,y):\n",
    "    x, y = y, x\n",
    "    return x, y\n",
    "\n",
    "x = \"ciao\"\n",
    "y = 7\n",
    "print(\"without temporary variable:\", \"\\n\",swap(x,y))\n"
   ]
  },
  {
   "cell_type": "markdown",
   "metadata": {},
   "source": [
    "3\\. Computing the distance\n",
    "\n",
    "Write a function that calculates and returns the euclidean distance between two points *u* and *v*, where *u* and *v* are both 2-tuples *(x,y)*. For example, if *u=(3,0)* and *v=(0,4)*, the function should return 5"
   ]
  },
  {
   "cell_type": "code",
   "execution_count": 4,
   "metadata": {},
   "outputs": [
    {
     "name": "stdout",
     "output_type": "stream",
     "text": [
      "u = (3, 0) and v = (0, 4)\n",
      "the distance between u and v is: 5.0\n"
     ]
    }
   ],
   "source": [
    "#exercise 3\n",
    "def dist(a,b):\n",
    "    d = ((a[0] - b[0])**2 + (a[1] - b[1])**2)**0.5\n",
    "    return d\n",
    "\n",
    "u = (3, 0)\n",
    "v = (0, 4)\n",
    "\n",
    "print(\"u =\", u, \"and v =\",v)\n",
    "print(\"the distance between u and v is:\", dist(u,v))"
   ]
  },
  {
   "cell_type": "markdown",
   "metadata": {},
   "source": [
    "4\\. Counting letters\n",
    "\n",
    "Write a program to calculate the number of times each character occurs in a given string *s*. Ignore differneces in capitalization"
   ]
  },
  {
   "cell_type": "code",
   "execution_count": 5,
   "metadata": {},
   "outputs": [
    {
     "name": "stdout",
     "output_type": "stream",
     "text": [
      "the number of times each character occurs in the given string is: \n",
      " {'w': 2, 'r': 17, 'i': 14, 't': 19, 'e': 22, ' ': 41, 'a': 7, 'p': 8, 'o': 13, 'g': 1, 'm': 12, 'h': 9, 'n': 10, 's': 9, 'u': 9, 'b': 5, 'f': 10, '1': 2, '0': 2, '.': 2, 'l': 6, 'c': 3, 'k': 2, 'y': 2, 'd': 3, 'v': 2}\n"
     ]
    }
   ],
   "source": [
    "#exercise 4\n",
    "S = \"Write a program that prints the numbers from 1 to 100. \\\n",
    "But for multiples of three print Mickey instead of the number and for the multiples of five print Mouse. \\\n",
    "For numbers which are multiples of both three and five print MickeyMouse\"\n",
    "s = S.lower()\n",
    "\n",
    "def freq(string):\n",
    "    L = {}\n",
    "    for char in string:\n",
    "        if char in L:\n",
    "            L[char] += 1\n",
    "        else:\n",
    "            L[char] = 1\n",
    "    return L\n",
    "\n",
    "print(\"the number of times each character occurs in the given string is:\", \"\\n\", freq(s))"
   ]
  },
  {
   "cell_type": "markdown",
   "metadata": {},
   "source": [
    "5\\. Isolating the unique\n",
    "\n",
    "Write a function that determines and count the unique numbers in the list *l*"
   ]
  },
  {
   "cell_type": "code",
   "execution_count": 6,
   "metadata": {},
   "outputs": [
    {
     "name": "stdout",
     "output_type": "stream",
     "text": [
      "the number of times each number occurs in the given list is: \n",
      " {36: 3, 45: 3, 58: 1, 3: 2, 74: 1, 96: 1, 64: 1, 31: 2, 10: 1, 24: 1, 19: 1, 33: 1, 86: 1, 99: 1, 18: 1, 63: 2, 70: 3, 85: 3, 47: 1, 56: 2, 42: 2, 84: 4, 88: 1, 55: 1, 20: 3, 54: 1, 8: 1, 51: 3, 79: 1, 81: 1, 57: 1, 37: 1, 91: 3, 1: 1, 66: 2, 9: 1, 89: 2, 50: 2, 95: 1, 90: 1, 98: 1, 39: 1, 16: 1, 82: 1, 92: 1, 41: 1, 30: 1, 34: 2, 94: 1, 5: 1, 72: 1, 87: 1, 75: 1, 53: 1} \n",
      "\n",
      "the unique numbers are: [58, 74, 96, 64, 10, 24, 19, 33, 86, 99, 18, 47, 88, 55, 54, 8, 79, 81, 57, 37, 1, 9, 95, 90, 98, 39, 16, 82, 92, 41, 30, 94, 5, 72, 87, 75, 53]\n",
      "the number of uniques is: 37\n"
     ]
    }
   ],
   "source": [
    "#exercise 5\n",
    "L = [36, 45, 58, 3, 74, 96, 64, 45, 31, 10, 24, 19, 33, 86, 99, 18, 63, 70, 85,\n",
    " 85, 63, 47, 56, 42, 70, 84, 88, 55, 20, 54, 8, 56, 51, 79, 81, 57, 37, 91,\n",
    " 1, 84, 84, 36, 66, 9, 89, 50, 42, 91, 50, 95, 90, 98, 39, 16, 82, 31, 92, 41,\n",
    " 45, 30, 66, 70, 34, 85, 94, 5, 3, 36, 72, 91, 84, 34, 87, 75, 53, 51, 20, 89, 51, 20]\n",
    "\n",
    "def unique(l):\n",
    "    D = {}\n",
    "    for x in l:\n",
    "        if x in D:\n",
    "            D[x] += 1\n",
    "        else:\n",
    "            D[x] = 1\n",
    "    print(\"the number of times each number occurs in the given list is:\", \"\\n\", D, \"\\n\")\n",
    "    \n",
    "    unique = []\n",
    "    for i in D:\n",
    "        if D[i] == 1:\n",
    "            unique.append(i) \n",
    "    print(\"the unique numbers are:\", unique)\n",
    "    print(\"the number of uniques is:\", len(unique))\n",
    "    \n",
    "unique(L)\n"
   ]
  },
  {
   "cell_type": "markdown",
   "metadata": {},
   "source": [
    "6\\. Combination of functions\n",
    "\n",
    "Write two functions - one that returns the square of a number, and one that returns the cube. Now write a third function that returns the number raised to the 6th power using the two previous functions."
   ]
  },
  {
   "cell_type": "code",
   "execution_count": 7,
   "metadata": {},
   "outputs": [
    {
     "name": "stdout",
     "output_type": "stream",
     "text": [
      "2 rised to the 6th power is: 64\n"
     ]
    }
   ],
   "source": [
    "#exercise 6\n",
    "def square(x):\n",
    "    return x**2\n",
    "\n",
    "def cube(x):\n",
    "    return x**3\n",
    "\n",
    "def six(x):\n",
    "    return cube(square(x))\n",
    "\n",
    "a = 2\n",
    "print(a, \"rised to the 6th power is:\", six(a))"
   ]
  },
  {
   "cell_type": "markdown",
   "metadata": {},
   "source": [
    "7\\. Cubes\n",
    "\n",
    "Create a list of the cubes of x for x in *[0, 10]* using:\n",
    "\n",
    "a) a for loop\n",
    "\n",
    "b) a list comprehension"
   ]
  },
  {
   "cell_type": "code",
   "execution_count": 8,
   "metadata": {},
   "outputs": [
    {
     "name": "stdout",
     "output_type": "stream",
     "text": [
      "using a for loop: [0, 1, 8, 27, 64, 125, 216, 343, 512, 729, 1000]\n",
      "using a list comprehension [0, 1, 8, 27, 64, 125, 216, 343, 512, 729, 1000]\n"
     ]
    }
   ],
   "source": [
    "#exercise 7.a\n",
    "def cube():\n",
    "    a = []\n",
    "    for x in range(0,11): \n",
    "        a.append(x**3)\n",
    "    return a\n",
    "\n",
    "print(\"using a for loop:\", cube())\n",
    "    \n",
    "#exercise 7.b\n",
    "cube = [x**3 for x in range(0,11)]\n",
    "print(\"using a list comprehension\", cube)"
   ]
  },
  {
   "cell_type": "markdown",
   "metadata": {},
   "source": [
    "8\\. Nested list comprehension\n",
    "\n",
    "A Pythagorean triple is an integer solution to the Pythagorean theorem $a^2+b^2=c^2$. The first Pythagorean triple is (3,4,5). Find and put in a tuple all unique Pythagorean triples for the positive integers a, b and c less than 100."
   ]
  },
  {
   "cell_type": "code",
   "execution_count": 9,
   "metadata": {},
   "outputs": [
    {
     "name": "stdout",
     "output_type": "stream",
     "text": [
      "the Pythagorean triples until 100 are: \n",
      " ((3, 4, 5), (5, 12, 13), (6, 8, 10), (7, 24, 25), (8, 15, 17), (9, 12, 15), (9, 40, 41), (10, 24, 26), (11, 60, 61), (12, 16, 20), (12, 35, 37), (13, 84, 85), (14, 48, 50), (15, 20, 25), (15, 36, 39), (16, 30, 34), (16, 63, 65), (18, 24, 30), (18, 80, 82), (20, 21, 29), (20, 48, 52), (21, 28, 35), (21, 72, 75), (24, 32, 40), (24, 45, 51), (24, 70, 74), (25, 60, 65), (27, 36, 45), (28, 45, 53), (30, 40, 50), (30, 72, 78), (32, 60, 68), (33, 44, 55), (33, 56, 65), (35, 84, 91), (36, 48, 60), (36, 77, 85), (39, 52, 65), (39, 80, 89), (40, 42, 58), (40, 75, 85), (42, 56, 70), (45, 60, 75), (48, 55, 73), (48, 64, 80), (51, 68, 85), (54, 72, 90), (57, 76, 95), (60, 63, 87), (65, 72, 97))\n"
     ]
    }
   ],
   "source": [
    "#exercise 8\n",
    "pyth = [(a,b,c) for a in range(1,100) for b in range(a,100) for c in range(b,100) if c*c == a*a + b*b]\n",
    "P = tuple(pyth)\n",
    "print(\"the Pythagorean triples until 100 are: \\n\",P)"
   ]
  },
  {
   "cell_type": "markdown",
   "metadata": {},
   "source": [
    "9\\. Normalization\n",
    "\n",
    "Write a function that takes a tuple of numbers and returns it with the entries normalized to one"
   ]
  },
  {
   "cell_type": "code",
   "execution_count": 10,
   "metadata": {},
   "outputs": [
    {
     "name": "stdout",
     "output_type": "stream",
     "text": [
      "the initial tuple is: (1, 2, 3, 4)\n",
      "the tuple normalized to 1 is: (1.0, 1.0, 1.0, 1.0)\n"
     ]
    }
   ],
   "source": [
    "#exercise 9\n",
    "def norm():\n",
    "    n = []\n",
    "    for i in range (0, len(a)):\n",
    "        n.append(a[i]/a[i])\n",
    "    return n\n",
    "\n",
    "a = (1, 2, 3, 4)\n",
    "print(\"the initial tuple is:\", a)\n",
    "b = tuple(norm())\n",
    "print(\"the tuple normalized to 1 is:\", b)\n",
    "\n",
    "    "
   ]
  }
 ],
 "metadata": {
  "kernelspec": {
   "display_name": "Python 3",
   "language": "python",
   "name": "python3"
  },
  "language_info": {
   "codemirror_mode": {
    "name": "ipython",
    "version": 3
   },
   "file_extension": ".py",
   "mimetype": "text/x-python",
   "name": "python",
   "nbconvert_exporter": "python",
   "pygments_lexer": "ipython3",
   "version": "3.8.3"
  }
 },
 "nbformat": 4,
 "nbformat_minor": 2
}
