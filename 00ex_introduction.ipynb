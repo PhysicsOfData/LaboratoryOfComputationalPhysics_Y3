{
 "cells": [
  {
   "cell_type": "markdown",
   "metadata": {},
   "source": [
    "# 1. The MickeyMouse problem\n",
    "\n",
    "a) Write a program that prints the numbers from 1 to 100. But for multiples of three print Mickey instead of the number and for the multiples of five print Mouse. For numbers which are multiples of both three and five print MickeyMouse\n",
    "\n",
    "b) Put the result in a tuple and substitute Mickey with Donald and Mouse with Duck"
   ]
  },
  {
   "cell_type": "code",
   "execution_count": 1,
   "metadata": {},
   "outputs": [
    {
     "name": "stdout",
     "output_type": "stream",
     "text": [
      "Point a)\n",
      "['1', '2', 'Mickey', '4', 'Mouse', 'Mickey', '7', '8', 'Mickey', 'Mouse', '11', 'Mickey', '13', '14', 'Mickey Mouse', '16', '17', 'Mickey', '19', 'Mouse', 'Mickey', '22', '23', 'Mickey', 'Mouse', '26', 'Mickey', '28', '29', 'Mickey Mouse', '31', '32', 'Mickey', '34', 'Mouse', 'Mickey', '37', '38', 'Mickey', 'Mouse', '41', 'Mickey', '43', '44', 'Mickey Mouse', '46', '47', 'Mickey', '49', 'Mouse', 'Mickey', '52', '53', 'Mickey', 'Mouse', '56', 'Mickey', '58', '59', 'Mickey Mouse', '61', '62', 'Mickey', '64', 'Mouse', 'Mickey', '67', '68', 'Mickey', 'Mouse', '71', 'Mickey', '73', '74', 'Mickey Mouse', '76', '77', 'Mickey', '79', 'Mouse', 'Mickey', '82', '83', 'Mickey', 'Mouse', '86', 'Mickey', '88', '89', 'Mickey Mouse', '91', '92', 'Mickey', '94', 'Mouse', 'Mickey', '97', '98', 'Mickey', 'Mouse']\n",
      "Point b)\n",
      "('1', '2', 'Donald', '4', 'Duck', 'Donald', '7', '8', 'Donald', 'Duck', '11', 'Donald', '13', '14', 'Donald Duck', '16', '17', 'Donald', '19', 'Duck', 'Donald', '22', '23', 'Donald', 'Duck', '26', 'Donald', '28', '29', 'Donald Duck', '31', '32', 'Donald', '34', 'Duck', 'Donald', '37', '38', 'Donald', 'Duck', '41', 'Donald', '43', '44', 'Donald Duck', '46', '47', 'Donald', '49', 'Duck', 'Donald', '52', '53', 'Donald', 'Duck', '56', 'Donald', '58', '59', 'Donald Duck', '61', '62', 'Donald', '64', 'Duck', 'Donald', '67', '68', 'Donald', 'Duck', '71', 'Donald', '73', '74', 'Donald Duck', '76', '77', 'Donald', '79', 'Duck', 'Donald', '82', '83', 'Donald', 'Duck', '86', 'Donald', '88', '89', 'Donald Duck', '91', '92', 'Donald', '94', 'Duck', 'Donald', '97', '98', 'Donald', 'Duck')\n"
     ]
    }
   ],
   "source": [
    "#a)\n",
    "a = []\n",
    "for i in range(1,101):\n",
    "    if i%3 == 0 and i%5 != 0:\n",
    "        a.append(\"Mickey\")\n",
    "    elif i%5 == 0 and i%3 != 0:\n",
    "        a.append(\"Mouse\")\n",
    "    elif i%5 == 0 and i%3 == 0:\n",
    "        a.append(\"Mickey Mouse\")\n",
    "    else:\n",
    "        a.append(str(i))\n",
    "print(\"Point a)\")\n",
    "print(a)\n",
    "#b)\n",
    "print(\"Point b)\")\n",
    "new_a = [\"Donald\" if x==\"Mickey\" else x for x in a]\n",
    "new_a = [\"Duck\" if x==\"Mouse\" else x for x in new_a]\n",
    "new_a = [\"Donald Duck\" if x==\"Mickey Mouse\" else x for x in new_a]\n",
    "\n",
    "new_a= tuple(new_a)\n",
    "print(new_a)"
   ]
  },
  {
   "cell_type": "markdown",
   "metadata": {},
   "source": [
    "# 2\\. The swap function\n",
    "\n",
    "Write a function that swap the values of two input variables x and y (whatever the type). Try to do that also without a temporary variable"
   ]
  },
  {
   "cell_type": "code",
   "execution_count": 2,
   "metadata": {},
   "outputs": [
    {
     "name": "stdout",
     "output_type": "stream",
     "text": [
      "Input the variable x: 1\n",
      "Input the variable y: 5\n",
      "With temp variable:\n",
      "The new x is:  5\n",
      "The new y is:  1\n",
      "Without temp variable:\n",
      "The new x is:  5\n",
      "The new y is:  1\n"
     ]
    }
   ],
   "source": [
    "x = int(input('Input the variable x: '))\n",
    "y = int(input('Input the variable y: '))\n",
    "\n",
    "def with_temp(x,y):\n",
    "# To take inputs from the user\n",
    "   \n",
    "#temp variable\n",
    "    temp = x\n",
    "    x = y\n",
    "    y = temp\n",
    "#output\n",
    "    print(\"With temp variable:\")\n",
    "    print(\"The new x is: \",x)\n",
    "    print(\"The new y is: \",y)\n",
    "    return \n",
    "\n",
    "def without_temp(x,y):\n",
    "    x=x+y\n",
    "    y=x-y\n",
    "    x=x-y\n",
    "    print(\"Without temp variable:\")\n",
    "    print(\"The new x is: \",x)\n",
    "    print(\"The new y is: \",y)\n",
    "    return\n",
    "\n",
    "with_temp(x,y)\n",
    "without_temp(x,y)"
   ]
  },
  {
   "cell_type": "markdown",
   "metadata": {},
   "source": [
    "# 3\\. Computing the distance\n",
    "\n",
    "Write a function that calculates and returns the euclidean distance between two points *u* and *v*, where *u* and *v* are both 2-tuples *(x,y)*. For example, if *u=(3,0)* and *v=(0,4)*, the function should return 5"
   ]
  },
  {
   "cell_type": "code",
   "execution_count": 3,
   "metadata": {},
   "outputs": [
    {
     "name": "stdout",
     "output_type": "stream",
     "text": [
      "Given the vectors of the example: u(3,0) and v(0,4)\n",
      "The corresponding euclidean distance is:  5.0\n"
     ]
    }
   ],
   "source": [
    "from math import sqrt\n",
    "print(\"Given the vectors of the example: u(3,0) and v(0,4)\")\n",
    "def distance(x_1,y_1,x_2,y_2):\n",
    "    result = sqrt((x_1-x_2)**2 + (y_1-y_2)**2)\n",
    "    return result\n",
    "\n",
    "print(\"The corresponding euclidean distance is: \",distance(3,0,0,4))"
   ]
  },
  {
   "cell_type": "markdown",
   "metadata": {},
   "source": [
    "# 4\\. Counting letters\n",
    "\n",
    "Write a program to calculate the number of times each character occurs in a given string *s*. Ignore differneces in capitalization"
   ]
  },
  {
   "cell_type": "code",
   "execution_count": 4,
   "metadata": {},
   "outputs": [
    {
     "name": "stdout",
     "output_type": "stream",
     "text": [
      "Given the phrase the counts of all the letters are:\n",
      "[['a', 7], ['b', 5], ['c', 3], ['d', 3], ['e', 22], ['f', 10], ['g', 1], ['h', 9], ['i', 14], ['j', 0], ['k', 2], ['l', 6], ['m', 12], ['n', 10], ['o', 13], ['p', 8], ['q', 0], ['r', 17], ['s', 9], ['t', 19], ['u', 9], ['v', 2], ['w', 2], ['x', 0], ['y', 2], ['z', 0]]\n"
     ]
    }
   ],
   "source": [
    "import string  #import all the alphabet\n",
    "list = string.ascii_lowercase\n",
    "\n",
    "phrase =\"Write a program that prints the numbers from 1 to 100. \\\n",
    "But for multiples of three print Mickey instead of the number and for the multiples of five print Mouse. \\\n",
    "For numbers which are multiples of both three and five print MickeyMouse\"\n",
    "\n",
    "phrase = phrase.lower() #bring every character back to low capitalization\n",
    "iteration = []\n",
    "\n",
    "for character in list:\n",
    "    for i in phrase:\n",
    "        N = phrase.count(character)\n",
    "    iteration.append([character,N])\n",
    "\n",
    "print(\"Given the phrase the counts of all the letters are:\")\n",
    "print (iteration)#the position of the element refers to the letter of the alphabet\n",
    "    "
   ]
  },
  {
   "cell_type": "markdown",
   "metadata": {},
   "source": [
    "# 5\\. Isolating the unique\n",
    "\n",
    "Write a function that determines and count the unique numbers in the list *l*"
   ]
  },
  {
   "cell_type": "code",
   "execution_count": 5,
   "metadata": {},
   "outputs": [
    {
     "name": "stdout",
     "output_type": "stream",
     "text": [
      "Given the list l, all unique numbers inside are: \n",
      "[58, 74, 96, 64, 10, 24, 19, 33, 86, 99, 18, 47, 88, 55, 54, 8, 79, 81, 57, 37, 1, 9, 95, 90, 98, 39, 16, 82, 92, 41, 30, 94, 5, 72, 87, 75, 53]\n"
     ]
    }
   ],
   "source": [
    "l = [36, 45, 58, 3, 74, 96, 64, 45, 31, 10, 24, 19, 33, 86, 99, 18, 63, 70, 85,\n",
    " 85, 63, 47, 56, 42, 70, 84, 88, 55, 20, 54, 8, 56, 51, 79, 81, 57, 37, 91,\n",
    " 1, 84, 84, 36, 66, 9, 89, 50, 42, 91, 50, 95, 90, 98, 39, 16, 82, 31, 92, 41,\n",
    " 45, 30, 66, 70, 34, 85, 94, 5, 3, 36, 72, 91, 84, 34, 87, 75, 53, 51, 20, 89, 51, 20]\n",
    "unique = []\n",
    "\n",
    "def function():\n",
    "    for j in l:\n",
    "        n = l.count(j)\n",
    "        if n==1:\n",
    "            unique.append(j)\n",
    "    return print(unique)\n",
    "\n",
    "print(\"Given the list l, all unique numbers inside are: \")\n",
    "function()\n"
   ]
  },
  {
   "cell_type": "markdown",
   "metadata": {},
   "source": [
    "# 6\\. Combination of functions\n",
    "\n",
    "Write two functions - one that returns the square of a number, and one that returns the cube. Now write a third function that returns the number raised to the 6th power using the two previous functions."
   ]
  },
  {
   "cell_type": "code",
   "execution_count": 6,
   "metadata": {},
   "outputs": [
    {
     "name": "stdout",
     "output_type": "stream",
     "text": [
      "Insert a value: \n",
      "3\n",
      "The final function gives: 729\n"
     ]
    }
   ],
   "source": [
    "print(\"Insert a value: \")\n",
    "a = int(input())\n",
    "\n",
    "def square(number):\n",
    "    result = number**2\n",
    "    return result\n",
    "\n",
    "def cube(number):\n",
    "    result_1 = number**3\n",
    "    return result_1\n",
    "\n",
    "def both(number):\n",
    "    result_2 = cube(square(number))\n",
    "    return result_2\n",
    "\n",
    "square(a)\n",
    "cube(a)\n",
    "print(\"The final function gives: \"+ str(both(a)))"
   ]
  },
  {
   "cell_type": "markdown",
   "metadata": {},
   "source": [
    "# 7\\. Cubes\n",
    "\n",
    "Create a list of the cubes of x for x in *[0, 10]* using:\n",
    "\n",
    "a) a for loop\n",
    "\n",
    "b) a list comprehension"
   ]
  },
  {
   "cell_type": "code",
   "execution_count": 7,
   "metadata": {},
   "outputs": [
    {
     "name": "stdout",
     "output_type": "stream",
     "text": [
      "The first list is:  [0, 1, 8, 27, 64, 125, 216, 343, 512, 729, 1000]\n",
      "The second list (list comprehension) is : [0, 1, 8, 27, 64, 125, 216, 343, 512, 729, 1000]\n"
     ]
    }
   ],
   "source": [
    "list_loop = []\n",
    "list_comprehension = []\n",
    "\n",
    "def cube(a):\n",
    "    result_1 = a**3\n",
    "    return result_1\n",
    "\n",
    "#point a)\n",
    "for x in range(0,11):\n",
    "    list_loop.append(cube(x))\n",
    "    \n",
    "#point b)\n",
    "list_comprehension = [x**3 for x in range(0,11)]\n",
    "    \n",
    "print(\"The first list is: \",list_loop)\n",
    "print(\"The second list (list comprehension) is :\",list_comprehension)"
   ]
  },
  {
   "cell_type": "markdown",
   "metadata": {},
   "source": [
    "# 8\\. Nested list comprehension\n",
    "\n",
    "A Pythagorean triple is an integer solution to the Pythagorean theorem $a^2+b^2=c^2$. The first Pythagorean triple is (3,4,5). Find and put in a tuple all unique Pythagorean triples for the positive integers a, b and c less than 100."
   ]
  },
  {
   "cell_type": "code",
   "execution_count": 8,
   "metadata": {},
   "outputs": [
    {
     "name": "stdout",
     "output_type": "stream",
     "text": [
      "All unique Pythegorean triples are:\n",
      "[(3, 4, 5), (5, 12, 13), (6, 8, 10), (7, 24, 25), (8, 15, 17), (9, 12, 15), (9, 40, 41), (10, 24, 26), (11, 60, 61), (12, 16, 20), (12, 35, 37), (13, 84, 85), (14, 48, 50), (15, 20, 25), (15, 36, 39), (16, 30, 34), (16, 63, 65), (18, 24, 30), (18, 80, 82), (20, 21, 29), (20, 48, 52), (21, 28, 35), (21, 72, 75), (24, 32, 40), (24, 45, 51), (24, 70, 74), (25, 60, 65), (27, 36, 45), (28, 45, 53), (30, 40, 50), (30, 72, 78), (32, 60, 68), (33, 44, 55), (33, 56, 65), (35, 84, 91), (36, 48, 60), (36, 77, 85), (39, 52, 65), (39, 80, 89), (40, 42, 58), (40, 75, 85), (42, 56, 70), (45, 60, 75), (48, 55, 73), (48, 64, 80), (51, 68, 85), (54, 72, 90), (57, 76, 95), (60, 63, 87), (65, 72, 97)]\n"
     ]
    }
   ],
   "source": [
    "from math import sqrt\n",
    "\n",
    "integers = [i for i in range(1,100)]\n",
    "pyth_c = []\n",
    "triple = []\n",
    "\n",
    "for a in range(1,100):\n",
    "    for b in range(1,100):\n",
    "        c = a**2 + b**2\n",
    "        if a < b: #unique pythagorean triples\n",
    "            pyth_c.append(c)\n",
    "            if sqrt(c) in integers:\n",
    "                triple.append((a,b,int(sqrt(c))))\n",
    "            else: continue\n",
    "        else: continue\n",
    "\n",
    "print(\"All unique Pythegorean triples are:\")\n",
    "print(triple)\n"
   ]
  },
  {
   "cell_type": "markdown",
   "metadata": {},
   "source": [
    "# 9\\. Normalization\n",
    "\n",
    "Write a function that takes a tuple of numbers and returns it with the entries normalized to one"
   ]
  },
  {
   "cell_type": "code",
   "execution_count": 9,
   "metadata": {},
   "outputs": [
    {
     "name": "stdout",
     "output_type": "stream",
     "text": [
      "Given the 4-dimensional vector:  (1, 1, 1, 1)\n",
      "The normalized  4 dimensional vector is: \n"
     ]
    },
    {
     "data": {
      "text/plain": [
       "(0.5, 0.5, 0.5, 0.5)"
      ]
     },
     "execution_count": 9,
     "metadata": {},
     "output_type": "execute_result"
    }
   ],
   "source": [
    "n=4\n",
    "vector = (1,1,1,1)\n",
    "print(\"Given the 4-dimensional vector: \", vector)\n",
    "\n",
    "def normalization(dim,generic_vector):#generic n-dimensional normalization function\n",
    "    temp = []\n",
    "    sum_v=0\n",
    "    for i in generic_vector:\n",
    "        square = i**2\n",
    "        sum_v += square\n",
    "    const = sum_v**-0.5\n",
    "    for i in generic_vector:\n",
    "        i*= const\n",
    "        temp.append(i)\n",
    "    temp = tuple(temp)#turn the list into tuple\n",
    "    return temp\n",
    "\n",
    "print(\"The normalized \",n,\"dimensional vector is: \")\n",
    "normalization(n,vector)\n",
    "\n",
    "\n"
   ]
  }
 ],
 "metadata": {
  "kernelspec": {
   "display_name": "Python 3",
   "language": "python",
   "name": "python3"
  },
  "language_info": {
   "codemirror_mode": {
    "name": "ipython",
    "version": 3
   },
   "file_extension": ".py",
   "mimetype": "text/x-python",
   "name": "python",
   "nbconvert_exporter": "python",
   "pygments_lexer": "ipython3",
   "version": "3.8.3"
  }
 },
 "nbformat": 4,
 "nbformat_minor": 2
}
