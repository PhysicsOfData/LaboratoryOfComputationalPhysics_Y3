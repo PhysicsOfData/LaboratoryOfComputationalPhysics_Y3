{
 "cells": [
  {
   "cell_type": "markdown",
   "metadata": {},
   "source": [
    "1. The MickeyMouse problem\n",
    "\n",
    "a) Write a program that prints the numbers from 1 to 100. But for multiples of three print Mickey instead of the number and for the multiples of five print Mouse. For numbers which are multiples of both three and five print MickeyMouse\n",
    "\n",
    "b) Put the result in a tuple and substitute Mickey with Donald and Mouse with Duck"
   ]
  },
  {
   "cell_type": "code",
   "execution_count": 7,
   "metadata": {},
   "outputs": [
    {
     "name": "stdout",
     "output_type": "stream",
     "text": [
      "1\n",
      "2\n",
      "Mickey\n",
      "4\n",
      "Mouse\n",
      "Mickey\n",
      "7\n",
      "8\n",
      "Mickey\n",
      "Mouse\n",
      "11\n",
      "Mickey\n",
      "13\n",
      "14\n",
      "MickeyMouse\n",
      "16\n",
      "17\n",
      "Mickey\n",
      "19\n",
      "Mouse\n",
      "Mickey\n",
      "22\n",
      "23\n",
      "Mickey\n",
      "Mouse\n",
      "26\n",
      "Mickey\n",
      "28\n",
      "29\n",
      "MickeyMouse\n",
      "31\n",
      "32\n",
      "Mickey\n",
      "34\n",
      "Mouse\n",
      "Mickey\n",
      "37\n",
      "38\n",
      "Mickey\n",
      "Mouse\n",
      "41\n",
      "Mickey\n",
      "43\n",
      "44\n",
      "MickeyMouse\n",
      "46\n",
      "47\n",
      "Mickey\n",
      "49\n",
      "Mouse\n",
      "Mickey\n",
      "52\n",
      "53\n",
      "Mickey\n",
      "Mouse\n",
      "56\n",
      "Mickey\n",
      "58\n",
      "59\n",
      "MickeyMouse\n",
      "61\n",
      "62\n",
      "Mickey\n",
      "64\n",
      "Mouse\n",
      "Mickey\n",
      "67\n",
      "68\n",
      "Mickey\n",
      "Mouse\n",
      "71\n",
      "Mickey\n",
      "73\n",
      "74\n",
      "MickeyMouse\n",
      "76\n",
      "77\n",
      "Mickey\n",
      "79\n",
      "Mouse\n",
      "Mickey\n",
      "82\n",
      "83\n",
      "Mickey\n",
      "Mouse\n",
      "86\n",
      "Mickey\n",
      "88\n",
      "89\n",
      "MickeyMouse\n",
      "91\n",
      "92\n",
      "Mickey\n",
      "94\n",
      "Mouse\n",
      "Mickey\n",
      "97\n",
      "98\n",
      "Mickey\n",
      "[1, 2, 'Donald', 4, 'Duck', 'Donald', 7, 8, 'Donald', 'Duck', 11, 'Donald', 13, 14, 'DonaldDuck', 16, 17, 'Donald', 19, 'Duck', 'Donald', 22, 23, 'Donald', 'Duck', 26, 'Donald', 28, 29, 'DonaldDuck', 31, 32, 'Donald', 34, 'Duck', 'Donald', 37, 38, 'Donald', 'Duck', 41, 'Donald', 43, 44, 'DonaldDuck', 46, 47, 'Donald', 49, 'Duck', 'Donald', 52, 53, 'Donald', 'Duck', 56, 'Donald', 58, 59, 'DonaldDuck', 61, 62, 'Donald', 64, 'Duck', 'Donald', 67, 68, 'Donald', 'Duck', 71, 'Donald', 73, 74, 'DonaldDuck', 76, 77, 'Donald', 79, 'Duck', 'Donald', 82, 83, 'Donald', 'Duck', 86, 'Donald', 88, 89, 'DonaldDuck', 91, 92, 'Donald', 94, 'Duck', 'Donald', 97, 98, 'Donald']\n"
     ]
    }
   ],
   "source": [
    "t=()\n",
    "\n",
    "for i in range(1,100): \n",
    "    a=i/3\n",
    "    b=i/5\n",
    "    if a.is_integer() and b.is_integer():\n",
    "        print(\"MickeyMouse\")\n",
    "        t.append(\"DonaldDuck\")\n",
    "    elif a.is_integer():\n",
    "        print(\"Mickey\")\n",
    "        t.append(\"Donald\")\n",
    "    elif b.is_integer():\n",
    "        print(\"Mouse\")\n",
    "        t.append(\"Duck\")\n",
    "    else:\n",
    "        print(i)\n",
    "        t.append(i)\n",
    "        \n",
    "print(t)\n",
    "\n",
    "\n",
    "\n",
    "\n",
    "\n",
    "\n",
    "            "
   ]
  },
  {
   "cell_type": "markdown",
   "metadata": {},
   "source": [
    "2\\. The swap function\n",
    "\n",
    "Write a function that swap the values of two input variables x and y (whatever the type). Try to do that also without a temporary variable"
   ]
  },
  {
   "cell_type": "code",
   "execution_count": 5,
   "metadata": {},
   "outputs": [
    {
     "name": "stdout",
     "output_type": "stream",
     "text": [
      "2 1\n"
     ]
    }
   ],
   "source": [
    "def swap(x, y):\n",
    "    return y, x\n",
    "\n",
    "x1 = 1\n",
    "y1 = 2\n",
    "x1, y1 = swap(x1, y1)\n",
    "print (x1, y1)\n"
   ]
  },
  {
   "cell_type": "code",
   "execution_count": 6,
   "metadata": {},
   "outputs": [
    {
     "name": "stdout",
     "output_type": "stream",
     "text": [
      "2 1\n"
     ]
    }
   ],
   "source": [
    "def swap(x, y):\n",
    "    temp = x\n",
    "    x = y\n",
    "    y = temp\n",
    "    return x, y \n",
    "x1 = 1\n",
    "y1 = 2\n",
    "x1, y1 = swap(x1, y1)\n",
    "print (x1, y1)\n"
   ]
  },
  {
   "cell_type": "markdown",
   "metadata": {},
   "source": [
    "3\\. Computing the distance\n",
    "\n",
    "Write a function that calculates and returns the euclidean distance between two points *u* and *v*, where *u* and *v* are both 2-tuples *(x,y)*. For example, if *u=(3,0)* and *v=(0,4)*, the function should return 5"
   ]
  },
  {
   "cell_type": "code",
   "execution_count": 25,
   "metadata": {},
   "outputs": [
    {
     "data": {
      "text/plain": [
       "3.605551275463989"
      ]
     },
     "execution_count": 25,
     "metadata": {},
     "output_type": "execute_result"
    }
   ],
   "source": [
    "import math\n",
    "def distance(u,v):\n",
    "    dist=math.sqrt((u[0]-v[0])**2+(u[1]-v[1])**2)\n",
    "    return dist\n",
    "\n",
    "u1=(3,1)\n",
    "v1=(5,4)\n",
    "distance(u1,v1)\n"
   ]
  },
  {
   "cell_type": "markdown",
   "metadata": {},
   "source": [
    "4\\. Counting letters\n",
    "\n",
    "Write a program to calculate the number of times each character occurs in a given string *s*. Ignore differneces in capitalization"
   ]
  },
  {
   "cell_type": "code",
   "execution_count": 44,
   "metadata": {},
   "outputs": [
    {
     "name": "stdout",
     "output_type": "stream",
     "text": [
      "[2, 2, 0, 0, 0, 0, 0, 0, 0, 0, 7, 4, 3, 3, 21, 9, 1, 9, 14, 0, 2, 6, 8, 10, 13, 8, 0, 17, 9, 19, 9, 2, 1, 0, 2, 0]\n"
     ]
    }
   ],
   "source": [
    "s=\"Write a program that prints the numbers from 1 to 100. \\\n",
    "But for multiples of three print Mickey instead of the number and for the multiples of five print Mouse. \\\n",
    "For numbers which are multiples of both three and five print MickeyMouse\"\n",
    "# times is a list containing in palces from 0 to 9 the number of times characters 0,1,...,9 occur \n",
    "#and from 10 to 25 the number of times alphabet letters occur\n",
    "\n",
    "#s=\"ciaoatutti\"\n",
    "\n",
    "times =[]\n",
    "for a in range(0,36):\n",
    "    times.append(0)\n",
    "    \n",
    "example = \"0123456789abcdefghijklmnopqrstuvwxyz\"\n",
    "\n",
    "for i in range(0,len(s)-1):\n",
    "    for j in range(0,len(example)-1):\n",
    "        if s[i]==example[j]: \n",
    "            times[j]= times[j]+1\n",
    "            \n",
    "print(times)"
   ]
  },
  {
   "cell_type": "markdown",
   "metadata": {},
   "source": [
    "s=\"Write a program that prints the numbers from 1 to 100. \\\n",
    "But for multiples of three print Mickey instead of the number and for the multiples of five print Mouse. \\\n",
    "For numbers which are multiples of both three and five print MickeyMouse\"\n",
    "\n",
    "for i in range(1,len(s))\n",
    "    for j in range(1:len(s))\n",
    "        \n"
   ]
  },
  {
   "cell_type": "markdown",
   "metadata": {},
   "source": [
    "5\\. Isolating the unique\n",
    "\n",
    "Write a function that determines and count the unique numbers in the list *l*"
   ]
  },
  {
   "cell_type": "code",
   "execution_count": 32,
   "metadata": {},
   "outputs": [
    {
     "name": "stdout",
     "output_type": "stream",
     "text": [
      "37 [58, 74, 96, 64, 10, 24, 19, 33, 86, 99, 18, 47, 88, 55, 54, 8, 79, 81, 57, 37, 1, 9, 95, 90, 98, 39, 16, 82, 92, 41, 30, 94, 5, 72, 87, 75, 53]\n"
     ]
    }
   ],
   "source": [
    "l = [36, 45, 58, 3, 74, 96, 64, 45, 31, 10, 24, 19, 33, 86, 99, 18, 63, 70, 85,\n",
    " 85, 63, 47, 56, 42, 70, 84, 88, 55, 20, 54, 8, 56, 51, 79, 81, 57, 37, 91,\n",
    " 1, 84, 84, 36, 66, 9, 89, 50, 42, 91, 50, 95, 90, 98, 39, 16, 82, 31, 92, 41,\n",
    " 45, 30, 66, 70, 34, 85, 94, 5, 3, 36, 72, 91, 84, 34, 87, 75, 53, 51, 20, 89, 51, 20]\n",
    "\n",
    "def uniq(l):\n",
    "    count = []\n",
    "    for i in range(1,len(l)):\n",
    "        count.append(1)\n",
    "\n",
    "    for i in range(0,len(l)-1):\n",
    "        for j in range(0,len(l)-1):\n",
    "            if i!=j and l[i]==l[j]: \n",
    "                count[i]=0\n",
    "                count[j]=0\n",
    "            \n",
    "    #print(count)\n",
    "    numbers=[]\n",
    "    for i in range(0, len(l)-1):\n",
    "        if count[i]==1:\n",
    "            numbers.append(l[i])\n",
    "        \n",
    "    s=sum(count)\n",
    "    return s, numbers\n",
    "\n",
    "s, numbers = uniq(l)\n",
    "\n",
    "print(s, numbers)\n",
    "    \n"
   ]
  },
  {
   "cell_type": "markdown",
   "metadata": {},
   "source": [
    "6\\. Combination of functions\n",
    "\n",
    "Write two functions - one that returns the square of a number, and one that returns the cube. Now write a third function that returns the number raised to the 6th power using the two previous functions."
   ]
  },
  {
   "cell_type": "code",
   "execution_count": 33,
   "metadata": {},
   "outputs": [
    {
     "name": "stdout",
     "output_type": "stream",
     "text": [
      "4 8 64\n"
     ]
    }
   ],
   "source": [
    "def square(a):\n",
    "    b=a*a\n",
    "    return b\n",
    "\n",
    "def cube(a):\n",
    "    b=a*a*a\n",
    "    return b\n",
    "\n",
    "def six(a):\n",
    "    b=square(cube(a))\n",
    "    return b\n",
    "\n",
    "a = square(2)\n",
    "b = cube(2)\n",
    "c = six(2)\n",
    "\n",
    "print(a,b,c)\n",
    "    "
   ]
  },
  {
   "cell_type": "markdown",
   "metadata": {},
   "source": [
    "7\\. Cubes\n",
    "\n",
    "Create a list of the cubes of x for x in *[0, 10]* using:\n",
    "\n",
    "a) a for loop\n",
    "\n",
    "b) a list comprehension"
   ]
  },
  {
   "cell_type": "code",
   "execution_count": 34,
   "metadata": {},
   "outputs": [
    {
     "name": "stdout",
     "output_type": "stream",
     "text": [
      "[1, 8, 27, 64, 125, 216, 343, 512, 729]\n",
      "[1, 8, 27, 64, 125, 216, 343, 512, 729]\n"
     ]
    }
   ],
   "source": [
    "mylist = []\n",
    "for i in range(1,10):\n",
    "    mylist.append(cube(i))\n",
    "print(mylist)\n",
    "\n",
    "myl = [cube(i) for i in range(1,10)]   #list comprehension\n",
    "\n",
    "print(myl)\n"
   ]
  },
  {
   "cell_type": "markdown",
   "metadata": {},
   "source": [
    "8\\. Nested list comprehension\n",
    "\n",
    "A Pythagorean triple is an integer solution to the Pythagorean theorem $a^2+b^2=c^2$. The first Pythagorean triple is (3,4,5). Find and put in a tuple all unique Pythagorean triples for the positive integers a, b and c less than 100."
   ]
  },
  {
   "cell_type": "markdown",
   "metadata": {},
   "source": [
    "Formula for generating Pythagorean triples:\n",
    "a=m^2-n^2\n",
    "b=2*m*n\n",
    "c=m^2+n^2"
   ]
  },
  {
   "cell_type": "code",
   "execution_count": 42,
   "metadata": {},
   "outputs": [
    {
     "name": "stdout",
     "output_type": "stream",
     "text": [
      "[[3, 4, 5], [6, 8, 10], [5, 12, 13], [8, 15, 17], [12, 16, 20], [7, 24, 25], [10, 24, 26], [20, 21, 29], [16, 30, 34], [9, 40, 41], [12, 35, 37], [24, 32, 40], [27, 36, 45], [20, 48, 52], [11, 60, 61], [14, 48, 50], [28, 45, 53], [40, 42, 58], [33, 56, 65], [24, 70, 74], [13, 84, 85], [16, 63, 65], [32, 60, 68], [48, 55, 73], [48, 64, 80], [39, 80, 89]]\n"
     ]
    }
   ],
   "source": [
    "triples = []\n",
    "\n",
    "for m in range(1,9):\n",
    "    for n in range(1,m):\n",
    "        a = square(m)-square(n)\n",
    "        b = 2*m*n\n",
    "        c = square(m)+square(n)\n",
    "        if c>99: a=1\n",
    "        elif square(a)+square(b)==square(c):\n",
    "            if a<b: triples.append([a,b,c])\n",
    "            else:   triples.append([b,a,c])\n",
    "            \n",
    "print(triples)\n",
    "            "
   ]
  },
  {
   "cell_type": "markdown",
   "metadata": {},
   "source": [
    "9\\. Normalization\n",
    "\n",
    "Write a function that takes a tuple of numbers and returns it with the entries normalized to one"
   ]
  },
  {
   "cell_type": "code",
   "execution_count": 46,
   "metadata": {},
   "outputs": [
    {
     "name": "stdout",
     "output_type": "stream",
     "text": [
      "[0.037037037037037035, 0.05555555555555555, 0.07407407407407407, 0.09259259259259259, 0.1111111111111111]\n"
     ]
    }
   ],
   "source": [
    "def normalize(v1):\n",
    "    mod = 0  \n",
    "    for i in range(0,len(v1)-1):\n",
    "         mod = mod + square(v1[i])\n",
    "    v2 = [v1[i]/mod for i in range(0,len(v1))]\n",
    "    return v2\n",
    "\n",
    "u=[2,3,4,5,6]\n",
    "v=normalize(u)\n",
    "print(v)         \n",
    "    "
   ]
  },
  {
   "cell_type": "code",
   "execution_count": null,
   "metadata": {},
   "outputs": [],
   "source": []
  }
 ],
 "metadata": {
  "kernelspec": {
   "display_name": "Python 3",
   "language": "python",
   "name": "python3"
  },
  "language_info": {
   "codemirror_mode": {
    "name": "ipython",
    "version": 3
   },
   "file_extension": ".py",
   "mimetype": "text/x-python",
   "name": "python",
   "nbconvert_exporter": "python",
   "pygments_lexer": "ipython3",
   "version": "3.8.3"
  }
 },
 "nbformat": 4,
 "nbformat_minor": 2
}
