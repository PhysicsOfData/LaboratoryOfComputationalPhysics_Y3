{
 "cells": [
  {
   "cell_type": "markdown",
   "metadata": {},
   "source": [
    "1. The MickeyMouse problem\n",
    "\n",
    "a) Write a program that prints the numbers from 1 to 100. But for multiples of three print Mickey instead of the number and for the multiples of five print Mouse. For numbers which are multiples of both three and five print MickeyMouse\n",
    "\n",
    "b) Put the result in a tuple and substitute Mickey with Donald and Mouse with Duck"
   ]
  },
  {
   "cell_type": "code",
   "execution_count": 105,
   "metadata": {},
   "outputs": [
    {
     "name": "stdout",
     "output_type": "stream",
     "text": [
      "1\n",
      "2\n",
      "Mickey\n",
      "4\n",
      "Mouse\n",
      "Mickey\n",
      "7\n",
      "8\n",
      "Mickey\n",
      "Mouse\n",
      "11\n",
      "Mickey\n",
      "13\n",
      "14\n",
      "MickeyMouse\n",
      "16\n",
      "17\n",
      "Mickey\n",
      "19\n",
      "Mouse\n",
      "Mickey\n",
      "22\n",
      "23\n",
      "Mickey\n",
      "Mouse\n",
      "26\n",
      "Mickey\n",
      "28\n",
      "29\n",
      "MickeyMouse\n",
      "31\n",
      "32\n",
      "Mickey\n",
      "34\n",
      "Mouse\n",
      "Mickey\n",
      "37\n",
      "38\n",
      "Mickey\n",
      "Mouse\n",
      "41\n",
      "Mickey\n",
      "43\n",
      "44\n",
      "MickeyMouse\n",
      "46\n",
      "47\n",
      "Mickey\n",
      "49\n",
      "Mouse\n",
      "Mickey\n",
      "52\n",
      "53\n",
      "Mickey\n",
      "Mouse\n",
      "56\n",
      "Mickey\n",
      "58\n",
      "59\n",
      "MickeyMouse\n",
      "61\n",
      "62\n",
      "Mickey\n",
      "64\n",
      "Mouse\n",
      "Mickey\n",
      "67\n",
      "68\n",
      "Mickey\n",
      "Mouse\n",
      "71\n",
      "Mickey\n",
      "73\n",
      "74\n",
      "MickeyMouse\n",
      "76\n",
      "77\n",
      "Mickey\n",
      "79\n",
      "Mouse\n",
      "Mickey\n",
      "82\n",
      "83\n",
      "Mickey\n",
      "Mouse\n",
      "86\n",
      "Mickey\n",
      "88\n",
      "89\n",
      "MickeyMouse\n",
      "91\n",
      "92\n",
      "Mickey\n",
      "94\n",
      "Mouse\n",
      "Mickey\n",
      "97\n",
      "98\n",
      "Mickey\n"
     ]
    }
   ],
   "source": [
    "#Part A\n",
    "for i in range (1,100):\n",
    "    if i% 15 ==0:\n",
    "        MickeyMouse = i\n",
    "        print('MickeyMouse')\n",
    "    elif i % 3 ==0:\n",
    "        Mickey = (i)\n",
    "        print('Mickey')\n",
    "    elif i % 5 ==0:\n",
    "        Mouse = (i)\n",
    "        print('Mouse')    \n",
    "    else:\n",
    "        print(i)\n",
    "\n",
    "Mickey = [Mickey]\n",
    "Donald = tuple (Mickey)\n",
    "Mouse = [Mouse]\n",
    "Duck = tuple (Mouse)\n",
    "\n"
   ]
  },
  {
   "cell_type": "markdown",
   "metadata": {},
   "source": [
    "2\\. The swap function\n",
    "\n",
    "Write a function that swap the values of two input variables x and y (whatever the type). Try to do that also without a temporary variable"
   ]
  },
  {
   "cell_type": "code",
   "execution_count": 107,
   "metadata": {},
   "outputs": [
    {
     "name": "stdout",
     "output_type": "stream",
     "text": [
      "input x value3\n",
      "input y value9\n",
      "the new value of x is: 9\n",
      "the new value of y is: 3\n"
     ]
    }
   ],
   "source": [
    "def swap(a,b):\n",
    "    temp = a\n",
    "    a = b\n",
    "    b = temp\n",
    "    return a\n",
    "    \n",
    "x = input('input x value')\n",
    "y = input('input y value')\n",
    "x_new = swap(x,y)\n",
    "y_new = swap(y,x)\n",
    "print(\"the new value of x is:\",x_new)\n",
    "print(\"the new value of y is:\",y_new)\n",
    "\n",
    "\n"
   ]
  },
  {
   "cell_type": "markdown",
   "metadata": {},
   "source": [
    "3\\. Computing the distance\n",
    "\n",
    "Write a function that calculates and returns the euclidean distance between two points *u* and *v*, where *u* and *v* are both 2-tuples *(x,y)*. For example, if *u=(3,0)* and *v=(0,4)*, the function should return 5"
   ]
  },
  {
   "cell_type": "code",
   "execution_count": 108,
   "metadata": {},
   "outputs": [
    {
     "name": "stdout",
     "output_type": "stream",
     "text": [
      "5.0\n"
     ]
    }
   ],
   "source": [
    "import math\n",
    "# the euclidean distance between two u and v points which u =(x1,y1) and v =(x2,y2)\n",
    "def euclideandistance(x1,y1,x2,y2):\n",
    "    dist = math.sqrt((x2 - x1)**2 + (y2 - y1)**2)\n",
    "    return dist\n",
    "#You can change the values of u and v\n",
    "u = (x1,y1) = (3,0)\n",
    "v = (x2,y2) = (0,4)\n",
    "print(euclideandistance(x1, y1, x2, y2))"
   ]
  },
  {
   "cell_type": "markdown",
   "metadata": {},
   "source": [
    "4\\. Counting letters\n",
    "\n",
    "Write a program to calculate the number of times each character occurs in a given string *s*. Ignore differneces in capitalization"
   ]
  },
  {
   "cell_type": "code",
   "execution_count": 25,
   "metadata": {},
   "outputs": [
    {
     "name": "stdout",
     "output_type": "stream",
     "text": [
      "9\n"
     ]
    }
   ],
   "source": [
    "def calculate(str,c) : \n",
    "    res = 0\n",
    "    for i in range(len(str)) : \n",
    "    # Checking character in string \n",
    "        if (str[i] == c): \n",
    "            res = res + 1\n",
    "    return res \n",
    "s=\"Write a program that prints the numbers from 1 to 100. \\\n",
    "But for multiples of three print Mickey instead of the number and for the multiples of five print Mouse. \\\n",
    "For numbers which are multiples of both three and five print MickeyMouse\"\n",
    "c = 's'\n",
    "#lower() makes the code insensetive to uppercase letters\n",
    "print(calculate(s.lower(),c)) \n"
   ]
  },
  {
   "cell_type": "markdown",
   "metadata": {},
   "source": [
    "5\\. Isolating the unique\n",
    "\n",
    "Write a function that determines and count the unique numbers in the list *l*"
   ]
  },
  {
   "cell_type": "code",
   "execution_count": 34,
   "metadata": {},
   "outputs": [
    {
     "name": "stdout",
     "output_type": "stream",
     "text": [
      "the unique values from 1st list is\n",
      "36\n",
      "45\n",
      "58\n",
      "3\n",
      "74\n",
      "96\n",
      "64\n",
      "31\n",
      "10\n",
      "24\n",
      "19\n",
      "33\n",
      "86\n",
      "99\n",
      "18\n",
      "63\n",
      "70\n",
      "85\n",
      "47\n",
      "56\n",
      "42\n",
      "84\n",
      "88\n",
      "55\n",
      "20\n",
      "54\n",
      "8\n",
      "51\n",
      "79\n",
      "81\n",
      "57\n",
      "37\n",
      "91\n",
      "1\n",
      "66\n",
      "9\n",
      "89\n",
      "50\n",
      "95\n",
      "90\n",
      "98\n",
      "39\n",
      "16\n",
      "82\n",
      "92\n",
      "41\n",
      "30\n",
      "34\n",
      "94\n",
      "5\n",
      "72\n",
      "87\n",
      "75\n",
      "53\n"
     ]
    }
   ],
   "source": [
    "def unique(list1): \n",
    "    \n",
    "    unique_list = [] \n",
    "    for x in list1: \n",
    "        # check if exists in unique_list or not \n",
    "        if x not in unique_list: \n",
    "            unique_list.append(x) \n",
    "    # print list \n",
    "    for x in unique_list: \n",
    "        print(x)\n",
    "    \n",
    "l = [36, 45, 58, 3, 74, 96, 64, 45, 31, 10, 24, 19, 33, 86, 99, 18, 63, 70, 85,\n",
    " 85, 63, 47, 56, 42, 70, 84, 88, 55, 20, 54, 8, 56, 51, 79, 81, 57, 37, 91,\n",
    " 1, 84, 84, 36, 66, 9, 89, 50, 42, 91, 50, 95, 90, 98, 39, 16, 82, 31, 92, 41,\n",
    " 45, 30, 66, 70, 34, 85, 94, 5, 3, 36, 72, 91, 84, 34, 87, 75, 53, 51, 20, 89, 51, 20]\n",
    "print(\"the unique values from 1st list is\") \n",
    "unique(l)\n"
   ]
  },
  {
   "cell_type": "markdown",
   "metadata": {},
   "source": [
    "6\\. Combination of functions\n",
    "\n",
    "Write two functions - one that returns the square of a number, and one that returns the cube. Now write a third function that returns the number raised to the 6th power using the two previous functions."
   ]
  },
  {
   "cell_type": "code",
   "execution_count": 114,
   "metadata": {},
   "outputs": [
    {
     "name": "stdout",
     "output_type": "stream",
     "text": [
      "9\n",
      "27\n",
      "729\n"
     ]
    }
   ],
   "source": [
    "def square(x):\n",
    "    sq = x*x\n",
    "    return sq\n",
    "\n",
    "def cube(x):\n",
    "    cu = x*x*x\n",
    "    return cu\n",
    "def pow6(x):\n",
    "    po = square(cube(x))\n",
    "    return po\n",
    "\n",
    "number = 3\n",
    "print(square(number))\n",
    "print(cube(number))\n",
    "print(pow6(number))"
   ]
  },
  {
   "cell_type": "markdown",
   "metadata": {},
   "source": [
    "7\\. Cubes\n",
    "\n",
    "Create a list of the cubes of x for x in [0, 10] using:\n",
    "\n",
    "a) a for loop\n",
    "\n",
    "b) a list comprehension"
   ]
  },
  {
   "cell_type": "code",
   "execution_count": 68,
   "metadata": {},
   "outputs": [
    {
     "name": "stdout",
     "output_type": "stream",
     "text": [
      "with for loop: [0, 1, 8, 27, 64, 125, 216, 343, 512, 729, 1000]\n",
      "with list comprehension: [0, 1, 8, 27, 64, 125, 216, 343, 512, 729, 1000]\n"
     ]
    }
   ],
   "source": [
    "#part a\n",
    "cubes = []\n",
    "for number in range(0, 11):\n",
    "    cube = number**3\n",
    "    cubes.append(cube)\n",
    "print('with for loop:',cubes)\n",
    "\n",
    "#part b\n",
    "cubes1 = [d**3 for d in range(0,11)]\n",
    "print('with list comprehension:', cubes1)\n"
   ]
  },
  {
   "cell_type": "markdown",
   "metadata": {},
   "source": [
    "8\\. Nested list comprehension\n",
    "\n",
    "A Pythagorean triple is an integer solution to the Pythagorean theorem $a^2+b^2=c^2$. The first Pythagorean triple is (3,4,5). Find and put in a tuple all unique Pythagorean triples for the positive integers a, b and c less than 100."
   ]
  },
  {
   "cell_type": "code",
   "execution_count": 73,
   "metadata": {},
   "outputs": [
    {
     "name": "stdout",
     "output_type": "stream",
     "text": [
      "a b c :\n",
      "3 4 5\n",
      "6 8 10\n",
      "5 12 13\n",
      "9 12 15\n",
      "8 15 17\n",
      "12 16 20\n",
      "15 20 25\n",
      "20 21 29\n",
      "7 24 25\n",
      "10 24 26\n",
      "18 24 30\n",
      "21 28 35\n",
      "16 30 34\n",
      "24 32 40\n",
      "12 35 37\n",
      "15 36 39\n",
      "27 36 45\n",
      "9 40 41\n",
      "30 40 50\n",
      "40 42 58\n",
      "33 44 55\n",
      "24 45 51\n",
      "28 45 53\n",
      "14 48 50\n",
      "20 48 52\n",
      "36 48 60\n",
      "39 52 65\n",
      "48 55 73\n",
      "33 56 65\n",
      "42 56 70\n",
      "11 60 61\n",
      "25 60 65\n",
      "32 60 68\n",
      "45 60 75\n",
      "16 63 65\n",
      "60 63 87\n",
      "48 64 80\n",
      "51 68 85\n",
      "24 70 74\n",
      "21 72 75\n",
      "30 72 78\n",
      "54 72 90\n",
      "65 72 97\n",
      "40 75 85\n",
      "57 76 95\n",
      "36 77 85\n",
      "18 80 82\n",
      "39 80 89\n",
      "60 80 100\n",
      "13 84 85\n",
      "35 84 91\n",
      "63 84 105\n",
      "80 84 116\n",
      "66 88 110\n",
      "48 90 102\n",
      "56 90 106\n",
      "60 91 109\n",
      "69 92 115\n",
      "28 96 100\n",
      "40 96 104\n",
      "72 96 120\n",
      "20 99 101\n"
     ]
    }
   ],
   "source": [
    "import math\n",
    "def pythagoreantriplet(n):\n",
    "  for b in range(n):\n",
    "    for a in range(1, b):\n",
    "        c = math.sqrt( a * a + b * b)\n",
    "        if c % 1 == 0:\n",
    "            print(a, b, int(c))\n",
    "            \n",
    "print('a b c :')\n",
    "pythagoreantriplet(100)"
   ]
  },
  {
   "cell_type": "markdown",
   "metadata": {},
   "source": [
    "9\\. Normalization\n",
    "\n",
    "Write a function that takes a tuple of numbers and returns it with the entries normalized to one"
   ]
  },
  {
   "cell_type": "code",
   "execution_count": 121,
   "metadata": {},
   "outputs": [
    {
     "name": "stdout",
     "output_type": "stream",
     "text": [
      "[0.13333333333333333, 0.25333333333333335, 0.7066666666666667, 1.0, 0.0, 0.4, 0.25333333333333335]\n"
     ]
    }
   ],
   "source": [
    "def norm(a):\n",
    "    amin, amax = min(a), max(a)\n",
    "    for i, val in enumerate(a):\n",
    "        a[i] = (val-amin) / (amax-amin)\n",
    "    return a\n",
    "#define your tuple of numbers here\n",
    "x=(24,33,67,89,14,44,33)\n",
    "norm(list(x))\n",
    "print(norm(list(x)))"
   ]
  },
  {
   "cell_type": "code",
   "execution_count": null,
   "metadata": {},
   "outputs": [],
   "source": []
  }
 ],
 "metadata": {
  "kernelspec": {
   "display_name": "Python 3",
   "language": "python",
   "name": "python3"
  },
  "language_info": {
   "codemirror_mode": {
    "name": "ipython",
    "version": 3
   },
   "file_extension": ".py",
   "mimetype": "text/x-python",
   "name": "python",
   "nbconvert_exporter": "python",
   "pygments_lexer": "ipython3",
   "version": "3.7.3"
  }
 },
 "nbformat": 4,
 "nbformat_minor": 2
}
