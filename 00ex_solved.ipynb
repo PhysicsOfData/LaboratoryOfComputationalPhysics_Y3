{
 "cells": [
  {
   "cell_type": "markdown",
   "metadata": {},
   "source": [
    "1. The MickeyMouse problem\n",
    "\n",
    "a) Write a program that prints the numbers from 1 to 100. But for multiples of three print Mickey instead of the number and for the multiples of five print Mouse. For numbers which are multiples of both three and five print MickeyMouse\n",
    "\n",
    "b) Put the result in a tuple and substitute Mickey with Donald and Mouse with Duck"
   ]
  },
  {
   "cell_type": "code",
   "execution_count": 35,
   "metadata": {
    "scrolled": true
   },
   "outputs": [
    {
     "name": "stdout",
     "output_type": "stream",
     "text": [
      "[1, 2, 'Mickey', 4, 'Mouse', 'Mickey', 7, 8, 'Mickey', 'Mouse', 11, 'Mickey', 13, 14, 'MickeyMouse', 16, 17, 'Mickey', 19, 'Mouse', 'Mickey', 22, 23, 'Mickey', 'Mouse', 26, 'Mickey', 28, 29, 'MickeyMouse', 31, 32, 'Mickey', 34, 'Mouse', 'Mickey', 37, 38, 'Mickey', 'Mouse', 41, 'Mickey', 43, 44, 'MickeyMouse', 46, 47, 'Mickey', 49, 'Mouse', 'Mickey', 52, 53, 'Mickey', 'Mouse', 56, 'Mickey', 58, 59, 'MickeyMouse', 61, 62, 'Mickey', 64, 'Mouse', 'Mickey', 67, 68, 'Mickey', 'Mouse', 71, 'Mickey', 73, 74, 'MickeyMouse', 76, 77, 'Mickey', 79, 'Mouse', 'Mickey', 82, 83, 'Mickey', 'Mouse', 86, 'Mickey', 88, 89, 'MickeyMouse', 91, 92, 'Mickey', 94, 'Mouse', 'Mickey', 97, 98, 'Mickey', 'Mouse']\n"
     ]
    }
   ],
   "source": [
    "number=[i for i in range(1,101)] \n",
    "number[2:100:3]=['Mickey' for i in range(1,34)]\n",
    "number[4:100:5]=['Mouse' for i in range(1,21)]\n",
    "number[14:100:15]=['MickeyMouse' for i in range(1,7)]\n",
    "print(number)"
   ]
  },
  {
   "cell_type": "code",
   "execution_count": 36,
   "metadata": {},
   "outputs": [
    {
     "name": "stdout",
     "output_type": "stream",
     "text": [
      "[1, 2, 'Donald', 4, 'Duck', 'Donald', 7, 8, 'Donald', 'Duck', 11, 'Donald', 13, 14, 'DonaldDuck', 16, 17, 'Donald', 19, 'Duck', 'Donald', 22, 23, 'Donald', 'Duck', 26, 'Donald', 28, 29, 'DonaldDuck', 31, 32, 'Donald', 34, 'Duck', 'Donald', 37, 38, 'Donald', 'Duck', 41, 'Donald', 43, 44, 'DonaldDuck', 46, 47, 'Donald', 49, 'Duck', 'Donald', 52, 53, 'Donald', 'Duck', 56, 'Donald', 58, 59, 'DonaldDuck', 61, 62, 'Donald', 64, 'Duck', 'Donald', 67, 68, 'Donald', 'Duck', 71, 'Donald', 73, 74, 'DonaldDuck', 76, 77, 'Donald', 79, 'Duck', 'Donald', 82, 83, 'Donald', 'Duck', 86, 'Donald', 88, 89, 'DonaldDuck', 91, 92, 'Donald', 94, 'Duck', 'Donald', 97, 98, 'Donald', 'Duck']\n"
     ]
    }
   ],
   "source": [
    "for i in range (0,len(number)):\n",
    "    if number[i]=='Mickey':\n",
    "        number1[i]='Donald'\n",
    "    elif number[i]=='Mouse':\n",
    "        number1[i]='Duck'\n",
    "    elif number[i]=='MickeyMouse':      \n",
    "        number1[i]='DonaldDuck'\n",
    "    else:\n",
    "        number1[i]=number[i]\n",
    "print(number1)"
   ]
  },
  {
   "cell_type": "markdown",
   "metadata": {},
   "source": [
    "2\\. The swap function\n",
    "\n",
    "Write a function that swap the values of two input variables x and y (whatever the type). Try to do that also without a temporary variable"
   ]
  },
  {
   "cell_type": "code",
   "execution_count": 16,
   "metadata": {},
   "outputs": [
    {
     "name": "stdout",
     "output_type": "stream",
     "text": [
      "X is 1\n",
      "Y is 2\n",
      "X is 2\n",
      "Y is 1\n"
     ]
    }
   ],
   "source": [
    "X=1\n",
    "Y=2\n",
    "print('X is',X)\n",
    "print('Y is',Y)\n",
    "\n",
    "def swapf1():\n",
    "    global X\n",
    "    global Y\n",
    "    A=X\n",
    "    X=Y\n",
    "    Y=A\n",
    "    \n",
    "swapf1()\n",
    "print('X is',X)\n",
    "print('Y is',Y)"
   ]
  },
  {
   "cell_type": "code",
   "execution_count": 17,
   "metadata": {},
   "outputs": [
    {
     "name": "stdout",
     "output_type": "stream",
     "text": [
      "X is 1\n",
      "Y is 2\n",
      "X is 2\n",
      "Y is 1\n"
     ]
    }
   ],
   "source": [
    "xy=[1,2]\n",
    "print('X is',xy[0])\n",
    "print('Y is',xy[1])\n",
    "\n",
    "def swapf2():\n",
    "    xy.reverse()\n",
    "    \n",
    "swapf2()\n",
    "print('X is',xy[0])\n",
    "print('Y is',xy[1])\n",
    "\n",
    "#why using reverse dosen't need to define xy global?"
   ]
  },
  {
   "cell_type": "markdown",
   "metadata": {},
   "source": [
    "3\\. Computing the distance\n",
    "\n",
    "Write a function that calculates and returns the euclidean distance between two points *u* and *v*, where *u* and *v* are both 2-tuples *(x,y)*. For example, if *u=(3,0)* and *v=(0,4)*, the function should return 5"
   ]
  },
  {
   "cell_type": "code",
   "execution_count": 25,
   "metadata": {},
   "outputs": [
    {
     "name": "stdout",
     "output_type": "stream",
     "text": [
      "Distance is: 5.0\n"
     ]
    }
   ],
   "source": [
    "u=(4,0)\n",
    "v=(0,3)\n",
    "\n",
    "def eucl_dist():\n",
    "    c=((u[0]-v[0])**2+(u[1]-v[1])**2)**0.5\n",
    "    return c\n",
    "\n",
    "print('Distance is:',eucl_dist())"
   ]
  },
  {
   "cell_type": "markdown",
   "metadata": {},
   "source": [
    "4\\. Counting letters\n",
    "\n",
    "Write a program to calculate the number of times each character occurs in a given string *s*. Ignore differneces in capitalization"
   ]
  },
  {
   "cell_type": "code",
   "execution_count": 28,
   "metadata": {},
   "outputs": [
    {
     "name": "stdout",
     "output_type": "stream",
     "text": [
      "A and a appear: 7  times.\n",
      "B and b appear: 5  times.\n",
      "C and c appear: 3  times.\n"
     ]
    }
   ],
   "source": [
    "s=\"Write a program that prints the numbers from 1 to 100. \\\n",
    "But for multiples of three print Mickey instead of the number and for the multiples of five print Mouse. \\\n",
    "For numbers which are multiples of both three and five print MickeyMouse\"\n",
    "\n",
    "chars = [i for i in s]\n",
    "print('A and a appear:',chars.count('A')+chars.count('a'),' times.')\n",
    "print('B and b appear:',chars.count('B')+chars.count('b'),' times.')\n",
    "print('C and c appear:',chars.count('C')+chars.count('c'),' times.')\n",
    "#...and so on"
   ]
  },
  {
   "cell_type": "code",
   "execution_count": null,
   "metadata": {},
   "outputs": [],
   "source": [
    "s=\"Write a program that prints the numbers from 1 to 100. \\\n",
    "But for multiples of three print Mickey instead of the number and for the multiples of five print Mouse. \\\n",
    "For numbers which are multiples of both three and five print MickeyMouse\"\n",
    "#TO DO\n",
    "#try to make an automated program instead 26 lines of code."
   ]
  },
  {
   "cell_type": "markdown",
   "metadata": {},
   "source": [
    "5\\. Isolating the unique\n",
    "\n",
    "Write a function that determines and count the unique numbers in the list *l*"
   ]
  },
  {
   "cell_type": "code",
   "execution_count": 31,
   "metadata": {},
   "outputs": [
    {
     "name": "stdout",
     "output_type": "stream",
     "text": [
      "These are all the numbers that appear 1 time:\n",
      "1\n",
      "5\n",
      "8\n",
      "9\n",
      "10\n",
      "16\n",
      "18\n",
      "19\n",
      "24\n",
      "30\n",
      "33\n",
      "37\n",
      "39\n",
      "41\n",
      "47\n",
      "53\n",
      "54\n",
      "55\n",
      "57\n",
      "58\n",
      "64\n",
      "72\n",
      "74\n",
      "75\n",
      "79\n",
      "81\n",
      "82\n",
      "86\n",
      "87\n",
      "88\n",
      "90\n",
      "92\n",
      "94\n",
      "95\n",
      "96\n",
      "98\n"
     ]
    }
   ],
   "source": [
    "l = [36, 45, 58, 3, 74, 96, 64, 45, 31, 10, 24, 19, 33, 86, 99, 18, 63, 70, 85,\n",
    " 85, 63, 47, 56, 42, 70, 84, 88, 55, 20, 54, 8, 56, 51, 79, 81, 57, 37, 91,\n",
    " 1, 84, 84, 36, 66, 9, 89, 50, 42, 91, 50, 95, 90, 98, 39, 16, 82, 31, 92, 41,\n",
    " 45, 30, 66, 70, 34, 85, 94, 5, 3, 36, 72, 91, 84, 34, 87, 75, 53, 51, 20, 89, 51, 20]\n",
    "\n",
    "print('These are all the numbers that appear 1 time:')\n",
    "for i in range (min(l),max(l)):\n",
    "    c=l.count(i)\n",
    "    if c==1:\n",
    "        print(i)"
   ]
  },
  {
   "cell_type": "markdown",
   "metadata": {},
   "source": [
    "6\\. Combination of functions\n",
    "\n",
    "Write two functions - one that returns the square of a number, and one that returns the cube. Now write a third function that returns the number raised to the 6th power using the two previous functions."
   ]
  },
  {
   "cell_type": "code",
   "execution_count": 37,
   "metadata": {},
   "outputs": [
    {
     "name": "stdout",
     "output_type": "stream",
     "text": [
      "x^6 is:  729\n"
     ]
    }
   ],
   "source": [
    "x=3\n",
    "\n",
    "def quad(x):\n",
    "    x2=x**2\n",
    "    return x2\n",
    "def cub(x):\n",
    "    x3=x**3\n",
    "    return x3\n",
    "\n",
    "def sixth(x):\n",
    "    x6=cub(quad(x))\n",
    "    return x6\n",
    "\n",
    "print('x^6 is: ',sixth(x))"
   ]
  },
  {
   "cell_type": "markdown",
   "metadata": {},
   "source": [
    "7\\. Cubes\n",
    "\n",
    "Create a list of the cubes of x for x in *[0, 10]* using:\n",
    "\n",
    "a) a for loop\n",
    "\n",
    "b) a list comprehension"
   ]
  },
  {
   "cell_type": "code",
   "execution_count": 38,
   "metadata": {},
   "outputs": [
    {
     "name": "stdout",
     "output_type": "stream",
     "text": [
      "[0, 1, 8, 27, 64, 125, 216, 343, 512, 729, 1000]\n"
     ]
    }
   ],
   "source": [
    "c=[]\n",
    "for x in range (0,11):\n",
    "    c.append(x**3)\n",
    "print(c)"
   ]
  },
  {
   "cell_type": "code",
   "execution_count": 237,
   "metadata": {},
   "outputs": [
    {
     "name": "stdout",
     "output_type": "stream",
     "text": [
      "[0, 1, 8, 27, 64, 125, 216, 343, 512, 729, 1000]\n"
     ]
    }
   ],
   "source": [
    "b=[x**3 for x in range (0,11)]\n",
    "print(b)"
   ]
  },
  {
   "cell_type": "markdown",
   "metadata": {},
   "source": [
    "8\\. Nested list comprehension\n",
    "\n",
    "A Pythagorean triple is an integer solution to the Pythagorean theorem $a^2+b^2=c^2$. The first Pythagorean triple is (3,4,5). Find and put in a tuple all unique Pythagorean triples for the positive integers a, b and c less than 100."
   ]
  },
  {
   "cell_type": "code",
   "execution_count": 39,
   "metadata": {},
   "outputs": [
    {
     "name": "stdout",
     "output_type": "stream",
     "text": [
      "All the Pythagorean triples with a,b,c less than 100 are: \n",
      "[3, 4, 5]\n",
      "[5, 12, 13]\n",
      "[6, 8, 10]\n",
      "[7, 24, 25]\n",
      "[8, 15, 17]\n",
      "[9, 12, 15]\n",
      "[9, 40, 41]\n",
      "[10, 24, 26]\n",
      "[11, 60, 61]\n",
      "[12, 16, 20]\n",
      "[12, 35, 37]\n",
      "[13, 84, 85]\n",
      "[14, 48, 50]\n",
      "[15, 20, 25]\n",
      "[15, 36, 39]\n",
      "[16, 30, 34]\n",
      "[16, 63, 65]\n",
      "[18, 24, 30]\n",
      "[18, 80, 82]\n",
      "[20, 21, 29]\n",
      "[20, 48, 52]\n",
      "[21, 28, 35]\n",
      "[21, 72, 75]\n",
      "[24, 32, 40]\n",
      "[24, 45, 51]\n",
      "[24, 70, 74]\n",
      "[25, 60, 65]\n",
      "[27, 36, 45]\n",
      "[28, 45, 53]\n",
      "[28, 96, 100]\n",
      "[30, 40, 50]\n",
      "[30, 72, 78]\n",
      "[32, 60, 68]\n",
      "[33, 44, 55]\n",
      "[33, 56, 65]\n",
      "[35, 84, 91]\n",
      "[36, 48, 60]\n",
      "[36, 77, 85]\n",
      "[39, 52, 65]\n",
      "[39, 80, 89]\n",
      "[40, 42, 58]\n",
      "[40, 75, 85]\n",
      "[42, 56, 70]\n",
      "[45, 60, 75]\n",
      "[48, 55, 73]\n",
      "[48, 64, 80]\n",
      "[51, 68, 85]\n",
      "[54, 72, 90]\n",
      "[57, 76, 95]\n",
      "[60, 63, 87]\n",
      "[60, 80, 100]\n",
      "[65, 72, 97]\n"
     ]
    }
   ],
   "source": [
    "abc=[]\n",
    "for a in range (1,101):\n",
    "    for b in range (1,101):\n",
    "        if b>=a:   \n",
    "            for c in range (1,101):\n",
    "                if c>=b:\n",
    "                    c2=a**2+b**2\n",
    "                    if c**2==c2:\n",
    "                        abc.append([a,b,c])\n",
    "abct=(abc)\n",
    "print('All the Pythagorean triples with a,b,c less than 100 are: ')\n",
    "for i in range (0,len(abct)):\n",
    "    print(abct[i])"
   ]
  },
  {
   "cell_type": "markdown",
   "metadata": {},
   "source": [
    "9\\. Normalization\n",
    "\n",
    "Write a function that takes a tuple of numbers and returns it with the entries normalized to one"
   ]
  },
  {
   "cell_type": "code",
   "execution_count": 43,
   "metadata": {},
   "outputs": [
    {
     "name": "stdout",
     "output_type": "stream",
     "text": [
      "The ||a|| is equal to: 5.0\n",
      "a normalized is:  [0.6, 0.8, 0.0, 0.0, 0.0]\n"
     ]
    }
   ],
   "source": [
    "a=(3,4,0,0,0)\n",
    "\n",
    "def norm(a):\n",
    "    c=0\n",
    "    for i in range (0,len(a)):\n",
    "        c=c+a[i]**2\n",
    "    print('The ||a|| is equal to:',c**0.5)\n",
    "    b=list(a)\n",
    "    try:\n",
    "        for i in range (0,len(b)):\n",
    "            b[i]=b[i]/(c**0.5)\n",
    "        return b\n",
    "    except:\n",
    "        print('a is not normalizable beacuse is the null vector.')\n",
    "        return a\n",
    "\n",
    "print('a normalized is: ',norm(a))\n",
    "\n",
    "#there's something like break or go to in python?"
   ]
  },
  {
   "cell_type": "code",
   "execution_count": null,
   "metadata": {},
   "outputs": [],
   "source": []
  }
 ],
 "metadata": {
  "kernelspec": {
   "display_name": "Python 3",
   "language": "python",
   "name": "python3"
  },
  "language_info": {
   "codemirror_mode": {
    "name": "ipython",
    "version": 3
   },
   "file_extension": ".py",
   "mimetype": "text/x-python",
   "name": "python",
   "nbconvert_exporter": "python",
   "pygments_lexer": "ipython3",
   "version": "3.8.5"
  }
 },
 "nbformat": 4,
 "nbformat_minor": 2
}
