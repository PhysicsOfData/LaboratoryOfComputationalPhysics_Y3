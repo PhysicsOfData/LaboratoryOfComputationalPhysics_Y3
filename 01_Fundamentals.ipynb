{
 "cells": [
  {
   "cell_type": "markdown",
   "metadata": {},
   "source": [
    "# Modules/packages/libraries\n",
    "\n",
    "One of the main features of Python and the biggest reason behind its success is the possibility to import functions, algorithms, libraries,... written by other people. Most of the stuff you'll need is already there, you just have to import it.\n",
    "\n",
    "Definitions:\n",
    "\n",
    "  * Modules:\n",
    "  A module is a python file which contains python functions, global variables etc. It is nothing but .py file which has python executable code / statement. It can be used in other files by importing said module.\n",
    "\n",
    "  * Packages:\n",
    "  A package is namespace which contains multiple package/modules. It is a directory which contains the python files and also a special file `__init__.py`.\n",
    "  \n",
    "  * Libraries:\n",
    "  A library is a collection of various packages. There is no difference between package and python library conceptually.\n",
    "  \n",
    "Modules/packages/libraries can be easily \"imported\" and made functional in your python code. A set of libriaries comes with every python installation. Others can be installed locally and then imported. Your own code sitting somewhere else in your local computer can be imported too.\n",
    "\n",
    "Further details (very important!) on packages and how to create them can be found online. We may find the need of creating our own during the course."
   ]
  },
  {
   "cell_type": "code",
   "execution_count": 1,
   "metadata": {},
   "outputs": [
    {
     "name": "stdout",
     "output_type": "stream",
     "text": [
      "3.141592653589793\n",
      "3.141592653589793\n",
      "3.141592653589793\n",
      "2.6457513110645907\n"
     ]
    }
   ],
   "source": [
    "###### all the \"stuff\" that is in the math library can be used to do math things\n",
    "import math\n",
    "print(math.pi) #math.something to use an element of the library\n",
    "\n",
    "# you can give math a label for convenience if name is too long\n",
    "import math as m\n",
    "print (m.pi)  #now instead of math you can write just m\n",
    "\n",
    "# alternatively you can import only a given \"thing\" from the library\n",
    "from math import pi    #you can add several libraries at once, just list them separated by a \", \"\n",
    "print (pi)\n",
    "\n",
    "# or just get everything (very dangerous!!! You don't really know what you have in the library and can generate conflicts!!!)\n",
    "from math import * #not suggested, can create problems.\n",
    "print (sqrt(7))"
   ]
  },
  {
   "cell_type": "markdown",
   "metadata": {},
   "source": [
    "Usually we'll use shorter aliases to rename long names of libraries (e.g. pandas --> pd, numpy --> np) "
   ]
  },
  {
   "cell_type": "markdown",
   "metadata": {},
   "source": [
    "To know which modules are there for you to use in that environment just type:"
   ]
  },
  {
   "cell_type": "code",
   "execution_count": 3,
   "metadata": {},
   "outputs": [
    {
     "name": "stdout",
     "output_type": "stream",
     "text": [
      "\n",
      "Please wait a moment while I gather a list of all available modules...\n",
      "\n"
     ]
    },
    {
     "name": "stderr",
     "output_type": "stream",
     "text": [
      "C:\\Users\\Francesca\\anaconda3\\envs\\HLP\\lib\\site-packages\\IPython\\kernel\\__init__.py:12: ShimWarning: The `IPython.kernel` package has been deprecated since IPython 4.0.You should import from ipykernel or jupyter_client instead.\n",
      "  warn(\"The `IPython.kernel` package has been deprecated since IPython 4.0.\"\n",
      "menuinst called from non-root env C:\\Users\\Francesca\\anaconda3\\envs\\HLP\n",
      "C:\\Users\\Francesca\\anaconda3\\envs\\HLP\\lib\\site-packages\\nltk\\twitter\\__init__.py:21: UserWarning: The twython library has not been installed. Some functionality from the twitter package will not be available.\n",
      "  warnings.warn(\n",
      "C:\\Users\\Francesca\\anaconda3\\envs\\HLP\\lib\\site-packages\\setuptools\\distutils_patch.py:25: UserWarning: Distutils was imported before Setuptools. This usage is discouraged and may exhibit undesirable behaviors or errors. Please use Setuptools' objects directly or at least import Setuptools first.\n",
      "  warnings.warn(\n",
      "C:\\Users\\Francesca\\anaconda3\\envs\\HLP\\lib\\site-packages\\skimage\\viewer\\utils\\__init__.py:1: UserWarning: Recommended matplotlib backend is `Agg` for full skimage.viewer functionality.\n",
      "  from .core import *\n"
     ]
    },
    {
     "name": "stdout",
     "output_type": "stream",
     "text": [
      "Update LANGUAGE_CODES (inside config/base.py) if a new translation has been added to Spyder\n"
     ]
    },
    {
     "name": "stderr",
     "output_type": "stream",
     "text": [
      "C:\\Users\\Francesca\\anaconda3\\envs\\HLP\\lib\\site-packages\\qtawesome\\iconic_font.py:312: UserWarning: You need to have a running QApplication to use QtAwesome!\n",
      "  warnings.warn(\"You need to have a running \"\n",
      "C:\\Users\\Francesca\\anaconda3\\envs\\HLP\\lib\\pkgutil.py:107: VisibleDeprecationWarning: zmq.eventloop.minitornado is deprecated in pyzmq 14.0 and will be removed.\n",
      "    Install tornado itself to use zmq with the tornado IOLoop.\n",
      "    \n",
      "  yield from walk_packages(path, info.name+'.', onerror)\n"
     ]
    },
    {
     "name": "stdout",
     "output_type": "stream",
     "text": [
      "Cython              brain_six           math                socks\n",
      "IPython             brain_ssl           matplotlib          sockshandler\n",
      "OpenSSL             brain_subprocess    mccabe              sortedcollections\n",
      "PIL                 brain_threading     menuinst            sortedcontainers\n",
      "PyQt5               brain_typing        mimetypes           soupsieve\n",
      "__future__          brain_uuid          mistune             sphinx\n",
      "_abc                brotli              mkl                 sphinxcontrib\n",
      "_ast                bs4                 mkl_fft             spyder\n",
      "_asyncio            builtins            mkl_random          spyder_kernels\n",
      "_bisect             bz2                 mmap                sqlalchemy\n",
      "_blake2             cProfile            mmapfile            sqlite3\n",
      "_bootlocale         calendar            mmsystem            sre_compile\n",
      "_bz2                certifi             mock                sre_constants\n",
      "_cffi_backend       cffi                modulefinder        sre_parse\n",
      "_codecs             cgi                 more_itertools      ssl\n",
      "_codecs_cn          cgitb               mpmath              sspi\n",
      "_codecs_hk          chardet             msgpack             sspicon\n",
      "_codecs_iso2022     chunk               msilib              stat\n",
      "_codecs_jp          click               msvcrt              statistics\n",
      "_codecs_kr          cloudpickle         multipledispatch    statsmodels\n",
      "_codecs_tw          clyent              multiprocessing     storemagic\n",
      "_collections        cmath               nacl                string\n",
      "_collections_abc    cmd                 nbconvert           stringprep\n",
      "_compat_pickle      code                nbformat            struct\n",
      "_compression        codecs              netbios             subprocess\n",
      "_contextvars        codeop              netrc               sunau\n",
      "_csv                collections         networkx            symbol\n",
      "_ctypes             colorama            nltk                sympy\n",
      "_ctypes_test        colorsys            nntplib             sympyprinting\n",
      "_datetime           commctrl            nose                symtable\n",
      "_decimal            compileall          notebook            sys\n",
      "_dummy_thread       comtypes            nt                  sysconfig\n",
      "_elementtree        concurrent          ntpath              tables\n",
      "_functools          conda               ntsecuritycon       tabnanny\n",
      "_hashlib            conda_env           nturl2path          tarfile\n",
      "_heapq              conda_package_handling numba               tblib\n",
      "_imp                configparser        numbers             telnetlib\n",
      "_io                 contextlib          numexpr             tempfile\n",
      "_json               contextlib2         numpy               terminado\n",
      "_locale             contextvars         numpydoc            test\n",
      "_lsprof             copy                odbc                test_data\n",
      "_lzma               copyreg             olefile             test_pycosat\n",
      "_markupbase         crypt               opcode              testpath\n",
      "_md5                cryptography        openpyxl            tests\n",
      "_msi                csv                 operator            textwrap\n",
      "_multibytecodec     ctypes              optparse            this\n",
      "_multiprocessing    curl                os                  threading\n",
      "_opcode             curses              packaging           threadpoolctl\n",
      "_operator           cwp                 pandas              time\n",
      "_osx_support        cycler              pandocfilters       timeit\n",
      "_overlapped         cython              paramiko            timer\n",
      "_pickle             cythonmagic         parser              tkinter\n",
      "_py_abc             cytoolz             parso               tlz\n",
      "_pydecimal          dask                partd               token\n",
      "_pyio               dataclasses         past                tokenize\n",
      "_pyrsistent_version datetime            path                toml\n",
      "_pytest             dateutil            pathlib             toolz\n",
      "_queue              dbi                 pathlib2            tornado\n",
      "_random             dbm                 pathtools           tqdm\n",
      "_sha1               dde                 patsy               trace\n",
      "_sha256             decimal             pdb                 traceback\n",
      "_sha3               decorator           pep8                tracemalloc\n",
      "_sha512             defusedxml          perfmon             traitlets\n",
      "_signal             diff_match_patch    pexpect             tty\n",
      "_sitebuiltins       difflib             pickle              turtle\n",
      "_socket             dis                 pickleshare         turtledemo\n",
      "_sqlite3            distributed         pickletools         types\n",
      "_sre                distutils           pip                 typing\n",
      "_ssl                doctest             pipes               typing_extensions\n",
      "_stat               docutils            pkg_resources       ujson\n",
      "_statistics         dummy_threading     pkginfo             unicodecsv\n",
      "_string             easy_install        pkgutil             unicodedata\n",
      "_strptime           email               platform            unittest\n",
      "_struct             encodings           plistlib            urllib\n",
      "_symtable           ensurepip           pluggy              urllib3\n",
      "_testbuffer         entrypoints         ply                 uu\n",
      "_testcapi           enum                poplib              uuid\n",
      "_testconsole        errno               posixpath           venv\n",
      "_testimportmultiple et_xmlfile          pprint              warnings\n",
      "_testinternalcapi   fastcache           profile             watchdog\n",
      "_testmultiphase     faulthandler        prometheus_client   wave\n",
      "_thread             filecmp             prompt_toolkit      wcwidth\n",
      "_threading_local    fileinput           pstats              weakref\n",
      "_tkinter            filelock            psutil              webbrowser\n",
      "_tracemalloc        flake8              pty                 webencodings\n",
      "_warnings           flask               pvectorc            werkzeug\n",
      "_weakref            fnmatch             py                  wheel\n",
      "_weakrefset         formatter           py_compile          widgetsnbextension\n",
      "_win32sysloader     fractions           pyclbr              win2kras\n",
      "_winapi             fsspec              pycodestyle         win32api\n",
      "_winxptheme         ftplib              pycosat             win32clipboard\n",
      "_xxsubinterpreters  functools           pycparser           win32com\n",
      "_yaml               future              pycurl              win32con\n",
      "abc                 gc                  pydoc               win32console\n",
      "adodbapi            genericpath         pydoc_data          win32cred\n",
      "afxres              getopt              pydocstyle          win32crypt\n",
      "aifc                getpass             pyexpat             win32cryptcon\n",
      "alabaster           gettext             pyflakes            win32ctypes\n",
      "anaconda_project    gevent              pygments            win32event\n",
      "antigravity         glob                pylab               win32evtlog\n",
      "argh                glob2               pylint              win32evtlogutil\n",
      "argparse            gmpy2               pyls                win32file\n",
      "array               greenlet            pyls_jsonrpc        win32gui\n",
      "asn1crypto          gzip                pyodbc              win32gui_struct\n",
      "ast                 h5py                pyparsing           win32help\n",
      "astroid             hashlib             pyreadline          win32inet\n",
      "astropy             heapdict            pyrsistent          win32inetcon\n",
      "asynchat            heapq               pytest              win32job\n",
      "asyncio             hmac                pythoncom           win32lz\n",
      "asyncore            html                pytz                win32net\n",
      "atexit              html5lib            pywin               win32netcon\n",
      "atomicwrites        http                pywin32_bootstrap   win32pdh\n",
      "attr                idlelib             pywin32_testutil    win32pdhquery\n",
      "audioop             idna                pywintypes          win32pdhutil\n",
      "autopep8            imageio             pywt                win32pipe\n",
      "autoreload          imagesize           pyximport           win32print\n",
      "babel               imaplib             qdarkstyle          win32process\n",
      "backcall            imghdr              qtawesome           win32profile\n",
      "backports           imp                 qtconsole           win32ras\n",
      "base64              importlib           qtpy                win32rcparser\n",
      "bcrypt              importlib_metadata  queue               win32security\n",
      "bdb                 inspect             quopri              win32service\n",
      "binascii            intervaltree        random              win32serviceutil\n",
      "binhex              io                  rasutil             win32timezone\n",
      "binstar_client      ipaddress           re                  win32trace\n",
      "bisect              ipykernel           readline            win32traceutil\n",
      "bitarray            ipykernel_launcher  regcheck            win32transaction\n",
      "bkcharts            ipython_genutils    regex               win32ts\n",
      "bleach              ipywidgets          regutil             win32ui\n",
      "bokeh               isapi               reprlib             win32uiole\n",
      "boto                isort               requests            win32verstamp\n",
      "bottleneck          isympy              rlcompleter         win32wnet\n",
      "brain_argparse      itertools           rmagic              win_inet_pton\n",
      "brain_attrs         itsdangerous        rope                win_unicode_console\n",
      "brain_boto3         jdcal               rtree               wincertstore\n",
      "brain_builtin_inference jedi                ruamel_yaml         winerror\n",
      "brain_collections   jinja2              run                 winioctlcon\n",
      "brain_crypt         joblib              runpy               winnt\n",
      "brain_curses        json                sched               winperf\n",
      "brain_dataclasses   json5               scipy               winpty\n",
      "brain_dateutil      jsonschema          seaborn             winreg\n",
      "brain_fstrings      jupyter             secrets             winsound\n",
      "brain_functools     jupyter_client      select              winxpgui\n",
      "brain_gi            jupyter_console     selectors           winxptheme\n",
      "brain_hashlib       jupyter_core        send2trash          wrapt\n",
      "brain_http          jupyterlab          servicemanager      wsgiref\n",
      "brain_io            jupyterlab_server   setuptools          xdrlib\n",
      "brain_mechanize     keyring             shelve              xlrd\n",
      "brain_multiprocessing keyword             shlex               xlsxwriter\n",
      "brain_namedtuple_enum kiwisolver          shutil              xlwings\n",
      "brain_nose          lazy_object_proxy   signal              xlwt\n",
      "brain_numpy_core_fromnumeric lib2to3             simplegeneric       xml\n",
      "brain_numpy_core_function_base libarchive          singledispatch      xmlrpc\n",
      "brain_numpy_core_multiarray libfuturize         singledispatch_helpers xxsubtype\n",
      "brain_numpy_core_numeric libpasteurize       sip                 yaml\n",
      "brain_numpy_core_numerictypes lief                sipconfig           yapf\n",
      "brain_numpy_core_umath linecache           sipdistutils        yapftests\n",
      "brain_numpy_ndarray llvmlite            site                zict\n",
      "brain_numpy_random_mtrand locale              six                 zipapp\n",
      "brain_numpy_utils   locket              skimage             zipfile\n",
      "brain_pkg_resources logging             sklearn             zipimport\n",
      "brain_pytest        lxml                smtpd               zipp\n",
      "brain_qt            lzma                smtplib             zlib\n",
      "brain_random        mailbox             sndhdr              zmq\n",
      "brain_re            mailcap             snowballstemmer     zope\n",
      "brain_responses     markupsafe          socket              \n",
      "brain_scipy_signal  marshal             socketserver        \n",
      "\n",
      "Enter any module name to get more help.  Or, type \"modules spam\" to search\n",
      "for modules whose name or summary contain the string \"spam\".\n",
      "\n",
      "None\n"
     ]
    }
   ],
   "source": [
    "print (help('modules') ) #to see the list of modules avaliable in my python environment\n"
   ]
  },
  {
   "cell_type": "markdown",
   "metadata": {},
   "source": [
    "`pip` is a special package. It's an executable in my shell. It is used from the command line to install properly (e.g. matching the version of the local packages) new packages. It can also be used from within python to check i.e. the set installed packages and their versions. You can have compatibility errors and need also to downgrade to an older version (see error below)\n",
    "\n",
    "N.B.: only the installed packages on top of the default ones will be listed "
   ]
  },
  {
   "cell_type": "code",
   "execution_count": 2,
   "metadata": {},
   "outputs": [
    {
     "ename": "NameError",
     "evalue": "name 'pip_internal' is not defined",
     "output_type": "error",
     "traceback": [
      "\u001b[1;31m---------------------------------------------------------------------------\u001b[0m",
      "\u001b[1;31mNameError\u001b[0m                                 Traceback (most recent call last)",
      "\u001b[1;32m<ipython-input-2-13b01d7ff0ce>\u001b[0m in \u001b[0;36m<module>\u001b[1;34m\u001b[0m\n\u001b[0;32m      1\u001b[0m \u001b[1;32mimport\u001b[0m \u001b[0mpip\u001b[0m\u001b[1;33m\u001b[0m\u001b[1;33m\u001b[0m\u001b[0m\n\u001b[1;32m----> 2\u001b[1;33m \u001b[0msorted\u001b[0m\u001b[1;33m(\u001b[0m\u001b[1;33m[\u001b[0m\u001b[1;34m\"%s==%s\"\u001b[0m \u001b[1;33m%\u001b[0m \u001b[1;33m(\u001b[0m\u001b[0mi\u001b[0m\u001b[1;33m.\u001b[0m\u001b[0mkey\u001b[0m\u001b[1;33m,\u001b[0m \u001b[0mi\u001b[0m\u001b[1;33m.\u001b[0m\u001b[0mversion\u001b[0m\u001b[1;33m)\u001b[0m \u001b[1;32mfor\u001b[0m \u001b[0mi\u001b[0m \u001b[1;32min\u001b[0m \u001b[0mpip_internal\u001b[0m\u001b[1;33m.\u001b[0m\u001b[0mget_installed_distributions\u001b[0m\u001b[1;33m(\u001b[0m\u001b[1;33m)\u001b[0m\u001b[1;33m]\u001b[0m\u001b[1;33m)\u001b[0m\u001b[1;33m\u001b[0m\u001b[1;33m\u001b[0m\u001b[0m\n\u001b[0m",
      "\u001b[1;31mNameError\u001b[0m: name 'pip_internal' is not defined"
     ]
    }
   ],
   "source": [
    "import pip\n",
    "sorted([\"%s==%s\" % (i.key, i.version) for i in pip.get_installed_distributions()])"
   ]
  },
  {
   "cell_type": "markdown",
   "metadata": {},
   "source": [
    "# Functions\n",
    "\n",
    "Functions are python objects as everything else and can be put in lists, tuples, dictionaries as well."
   ]
  },
  {
   "cell_type": "code",
   "execution_count": 3,
   "metadata": {},
   "outputs": [
    {
     "name": "stdout",
     "output_type": "stream",
     "text": [
      "9\n",
      "27\n",
      "cube 27\n",
      "square 9\n"
     ]
    }
   ],
   "source": [
    "def square(x):             #Function that does square of x\n",
    "    \"\"\"Square of x.\"\"\"\n",
    "    return x*x\n",
    "\n",
    "def cube(x):               #Function that does cube of x\n",
    "    \"\"\"Cube of x.\"\"\"\n",
    "    return x*x*x\n",
    "\n",
    "# create a dictionary of functions(functions also are python objects and can be put in lists, tuples,...)\n",
    "funcs = {\n",
    "    'square': square,\n",
    "    'cube': cube,\n",
    "}\n",
    "\n",
    "x = 3\n",
    "print(square(x))\n",
    "print(cube(x))\n",
    "\n",
    "for func in sorted(funcs):\n",
    "    print (func, funcs[func](x)) #Prints name of function (key) and value corresponding to that key"
   ]
  },
  {
   "cell_type": "markdown",
   "metadata": {},
   "source": [
    "## Functions arguments"
   ]
  },
  {
   "cell_type": "markdown",
   "metadata": {},
   "source": [
    "We saw that objects can be mutable or immutable. In Python, what is passsed to a function, is a copy of the input. \n",
    "Imagine we have a list *x =[1, 2, 3]*, i.e. a mutable object. If within the function the content of *x* (mutable) is directly changed (e.g. *x[0] = 999*), then *x* changes outside the funciton as well. "
   ]
  },
  {
   "cell_type": "code",
   "execution_count": 11,
   "metadata": {},
   "outputs": [
    {
     "name": "stdout",
     "output_type": "stream",
     "text": [
      "[1, 2, 3]\n",
      "[999, 2, 3]\n",
      "[999, 2, 3]\n"
     ]
    }
   ],
   "source": [
    "def modify(x):\n",
    "    x[0] = 999 #change 1st element of the list within the function\n",
    "    return x\n",
    "\n",
    "x = [1,2,3]\n",
    "print (x)          #original list\n",
    "print (modify(x))  #modified list\n",
    "print (x)          #still modified! I modified the actual variable so from now on x=modify(x)"
   ]
  },
  {
   "cell_type": "markdown",
   "metadata": {},
   "source": [
    "However, if *x* is reassigned within the function to a new object (e.g. another list), then the copy of the name *x* now points to the new object, but *x* outside the function is unchanged because there is no link between the original value and its copy.\n",
    "\n",
    "Thus, for mutable objects, we have some operations that modify the object (thus changing the object everywhere) and some that create a copy of it (thus changing the object only inside the function since now we are working on its copy). \n",
    "\n",
    "Appending or other similar operations modify the original object, re-assigning creates a copy leaving the original unchanged!"
   ]
  },
  {
   "cell_type": "code",
   "execution_count": 4,
   "metadata": {},
   "outputs": [
    {
     "name": "stdout",
     "output_type": "stream",
     "text": [
      "[1, 2, 3]\n",
      "[4, 5, 6]\n",
      "[1, 2, 3]\n"
     ]
    }
   ],
   "source": [
    "def no_modify(x):\n",
    "    x = [4,5,6]  #this functions assigns another list to the namespace x\n",
    "    return x\n",
    "\n",
    "x = [1,2,3]\n",
    "print (x)\n",
    "print (no_modify(x)) #x is copied and re-assigned to another value but there is no link between the two!\n",
    "print (x)            #still gives old x!!\n"
   ]
  },
  {
   "cell_type": "markdown",
   "metadata": {},
   "source": [
    "What if the function tries to modify the value of an immutable object?\n",
    "You'll either get an error or weird results."
   ]
  },
  {
   "cell_type": "markdown",
   "metadata": {},
   "source": [
    "Binding of default arguments occurs at function definition:"
   ]
  },
  {
   "cell_type": "code",
   "execution_count": 15,
   "metadata": {},
   "outputs": [
    {
     "name": "stdout",
     "output_type": "stream",
     "text": [
      "[1]\n",
      "[1, 1]\n",
      "[9, 9, 9, 1]\n",
      "[1, 1, 1]\n",
      "[1, 1, 1, 1]\n"
     ]
    }
   ],
   "source": [
    "def f(x = []):  #function that appends a 1 to the input argument\n",
    "    x.append(1)\n",
    "    return x\n",
    "\n",
    "print (f())    \n",
    "print (f()) #(*)\n",
    "print (f(x = [9,9,9])) #now you apply the function to [9,9,9]\n",
    "print (f()) #however, if you call the function again, you're not appending to [9,9,9] but you'll go back to (*)\n",
    "            #because in the function you have x=[] in the definition, not in the body!\n",
    "print (f())"
   ]
  },
  {
   "cell_type": "markdown",
   "metadata": {},
   "source": [
    "Try to aviod that!!"
   ]
  },
  {
   "cell_type": "code",
   "execution_count": 5,
   "metadata": {},
   "outputs": [
    {
     "name": "stdout",
     "output_type": "stream",
     "text": [
      "[1]\n",
      "[1]\n",
      "[9, 9, 9, 1]\n",
      "[1]\n",
      "[1]\n"
     ]
    }
   ],
   "source": [
    "def f(x = None):\n",
    "    if x is None:\n",
    "        x = []   #this is the correct way\n",
    "    x.append(1)\n",
    "    return x\n",
    "\n",
    "print (f())\n",
    "print (f())\n",
    "print (f(x = [9,9,9]))\n",
    "print (f())\n",
    "print (f())\n",
    "\n",
    "#In this way the function works on the input argument and the previous uses of the function have no impact on the result"
   ]
  },
  {
   "cell_type": "markdown",
   "metadata": {},
   "source": [
    "## Higher order functions\n",
    "\n",
    "A function that uses another function as an input argument or returns a function (i.e. a function of functions) is known as a higher-order function (HOF). The most familiar examples are `map` and `filter`.\n",
    "\n",
    "They are used a lot in Python because they make the code more compact."
   ]
  },
  {
   "cell_type": "markdown",
   "metadata": {},
   "source": [
    "### map\n",
    "\n",
    "The map function applies a function to each member of a collection. In this way, instead of performing a loop you just apply the function to all the elements."
   ]
  },
  {
   "cell_type": "code",
   "execution_count": 17,
   "metadata": {},
   "outputs": [
    {
     "name": "stdout",
     "output_type": "stream",
     "text": [
      "[0, 1, 4, 9, 16]\n",
      "0\n",
      "1\n",
      "4\n",
      "9\n",
      "16\n"
     ]
    }
   ],
   "source": [
    "x = list(map(square, range(5))) #takes a function as 1st argument and then a collection\n",
    "print (x)\n",
    "\n",
    "# Note the difference w.r.t python 2. In python 3 map retuns an iterator so you can do stuff like:\n",
    "for i in map(square,range(5)): print(i)"
   ]
  },
  {
   "cell_type": "markdown",
   "metadata": {},
   "source": [
    "### filter\n",
    "\n",
    "The filter function applies a predicate to each member of a collection, retaining only those members where the predicate is True. "
   ]
  },
  {
   "cell_type": "code",
   "execution_count": 18,
   "metadata": {},
   "outputs": [
    {
     "name": "stdout",
     "output_type": "stream",
     "text": [
      "[0, 2, 4]\n"
     ]
    }
   ],
   "source": [
    "def is_even(x):\n",
    "    return x%2 == 0\n",
    "\n",
    "print (list(filter(is_even, range(5)))) #Returns only elements for which is_even is true, i.e. even numbers"
   ]
  },
  {
   "cell_type": "code",
   "execution_count": 20,
   "metadata": {},
   "outputs": [
    {
     "data": {
      "text/plain": [
       "[0, 4, 16]"
      ]
     },
     "execution_count": 20,
     "metadata": {},
     "output_type": "execute_result"
    }
   ],
   "source": [
    "list(map(square, filter(is_even, range(5)))) #can also do nested HOF\n"
   ]
  },
  {
   "cell_type": "markdown",
   "metadata": {},
   "source": [
    "### reduce\n",
    "\n",
    "The reduce function reduces a collection using a binary operator to combine items two at a time. More often than not reduce can be substituted with a more efficient `for` loop. It is worth mentioning it for its key role in big-data applications together with map (the map-reduce paradigm). \n",
    "N.B.: it no longer exist as built-in function in python 3, it is now part of the `functools` library.\n",
    "\n",
    "Now it's not very used in common Python"
   ]
  },
  {
   "cell_type": "code",
   "execution_count": 21,
   "metadata": {},
   "outputs": [
    {
     "data": {
      "text/plain": [
       "15"
      ]
     },
     "execution_count": 21,
     "metadata": {},
     "output_type": "execute_result"
    }
   ],
   "source": [
    "from functools import reduce\n",
    "\n",
    "def my_add(x, y):\n",
    "    return x + y\n",
    "\n",
    "# another implementation of the sum function\n",
    "reduce(my_add, [1,2,3,4,5])"
   ]
  },
  {
   "cell_type": "markdown",
   "metadata": {},
   "source": [
    "### zip\n",
    "\n",
    "When you have several lists of several elements and you want to perform a certain operation for a certain index (combine lists elementwise), zip is useful to iterate over matched elements of multiple lists.\n",
    "\n",
    "The length of the lists doesn't have to be the same, the command stops to the last possible common element. "
   ]
  },
  {
   "cell_type": "code",
   "execution_count": 6,
   "metadata": {},
   "outputs": [
    {
     "name": "stdout",
     "output_type": "stream",
     "text": [
      "1 10 a\n",
      "2 20 b\n",
      "3 30 c\n",
      "4 40 d\n"
     ]
    }
   ],
   "source": [
    "xs = [1, 2, 3, 4]\n",
    "ys = [10, 20, 30, 40]\n",
    "zs = ['a', 'b', 'c', 'd', 'e']\n",
    "\n",
    "for x, y, z in zip(xs, ys, zs):\n",
    "    print (x, y, z) #prints elements with matching indexes"
   ]
  },
  {
   "cell_type": "markdown",
   "metadata": {},
   "source": [
    "### Custom HOF\n",
    "\n",
    "You can also define your own custom HOF, you just define a function that uses other functions within it"
   ]
  },
  {
   "cell_type": "code",
   "execution_count": 23,
   "metadata": {},
   "outputs": [
    {
     "name": "stdout",
     "output_type": "stream",
     "text": [
      "30\n",
      "100\n"
     ]
    }
   ],
   "source": [
    "def custom_sum(xs, transform): #HOF that takes as input an object \"xs\" and a function \"transform\" of choice\n",
    "    \"\"\"Returns the sum of xs after a user specified transform.\"\"\"\n",
    "    return sum(map(transform, xs)) #this HOF applies transform to all elements of xs and then makes the sum of all the elements\n",
    "\n",
    "xs = range(5)\n",
    "print (custom_sum(xs, square)) #sums squares of numbers btwn 0 and 4\n",
    "print (custom_sum(xs, cube))   #sums cubes of numbers btwn 0 and 4\n",
    "\n"
   ]
  },
  {
   "cell_type": "markdown",
   "metadata": {},
   "source": [
    "### Returning a function\n",
    "\n",
    "Can also make a function in which you define a function"
   ]
  },
  {
   "cell_type": "code",
   "execution_count": 8,
   "metadata": {},
   "outputs": [],
   "source": [
    "def make_logger(target):\n",
    "    def logger(data):      #function defined in a function\n",
    "        with open(target, 'a') as f:\n",
    "            f.write(data + '\\n') #write function writes 'data' in a file 'foo.txt' in my directory\n",
    "    return logger          #make_logger returns a function\n",
    "\n",
    "foo_logger = make_logger('foo.txt') #Define function foo_logger that creates foo.txt (if not there already) and prints 'data' in it\n",
    "foo_logger('Hello')   #Print 'Hello' in foo.txt\n",
    "foo_logger('World')   #Print 'World' in foo.txt"
   ]
  },
  {
   "cell_type": "markdown",
   "metadata": {},
   "source": [
    "When you start a with a '!' in a cell on jupyter notebook, it performs the command on the shell you are working on instead than on the notebook!"
   ]
  },
  {
   "cell_type": "code",
   "execution_count": 9,
   "metadata": {},
   "outputs": [
    {
     "name": "stderr",
     "output_type": "stream",
     "text": [
      "\"rm\" non Š riconosciuto come comando interno o esterno,\n",
      " un programma eseguibile o un file batch.\n"
     ]
    }
   ],
   "source": [
    "! rm foo.txt   #to remove the file foo.txt previously created"
   ]
  },
  {
   "cell_type": "code",
   "execution_count": 26,
   "metadata": {},
   "outputs": [
    {
     "name": "stderr",
     "output_type": "stream",
     "text": [
      "\"cat\" non Š riconosciuto come comando interno o esterno,\n",
      " un programma eseguibile o un file batch.\n"
     ]
    }
   ],
   "source": [
    "! cat 'foo.txt' #cat is a unix command that prints to screen (shell) the content of a file"
   ]
  },
  {
   "cell_type": "markdown",
   "metadata": {},
   "source": [
    "## Anonimous functions (lambda)\n",
    "\n",
    "When using functional style, there is often the need to create specific functions that perform a limited task as input to a HOF such as map or filter. In such cases, these functions are often written as anonymous or lambda functions. \n",
    "The syntax is as follows:\n",
    "\n",
    "lambda *arguments* : *expression*\n",
    "\n",
    "\n",
    "If you find it hard to understand what a lambda function is doing, it should probably be rewritten as a regular function.\n",
    "They are a way to perform simple operations on the fly without defining a specific function with a name."
   ]
  },
  {
   "cell_type": "code",
   "execution_count": 29,
   "metadata": {},
   "outputs": [
    {
     "data": {
      "text/plain": [
       "7"
      ]
     },
     "execution_count": 29,
     "metadata": {},
     "output_type": "execute_result"
    }
   ],
   "source": [
    "sum = lambda x,y: x+y #lambda is a temporary label, x and y the arguments, x+y the result\n",
    "sum(3,4)"
   ]
  },
  {
   "cell_type": "code",
   "execution_count": 30,
   "metadata": {},
   "outputs": [
    {
     "name": "stdout",
     "output_type": "stream",
     "text": [
      "0\n",
      "1\n",
      "4\n",
      "9\n",
      "16\n"
     ]
    }
   ],
   "source": [
    "for i in map(lambda x: x*x, range(5)): print (i) #instead of defining a function named square I can use a lambda function"
   ]
  },
  {
   "cell_type": "code",
   "execution_count": 10,
   "metadata": {},
   "outputs": [
    {
     "name": "stdout",
     "output_type": "stream",
     "text": [
      "285\n"
     ]
    }
   ],
   "source": [
    "# what does this function do?\n",
    "from functools import reduce\n",
    "s1 = reduce(lambda x, y: x+y, map(lambda x: x**2, range(1,10)))\n",
    "print(s1)\n",
    "\n",
    "#This function does the square of the numbers from 1 to 9 and sums them "
   ]
  },
  {
   "cell_type": "markdown",
   "metadata": {},
   "source": [
    "## Recursive functions "
   ]
  },
  {
   "cell_type": "code",
   "execution_count": 32,
   "metadata": {},
   "outputs": [
    {
     "name": "stdout",
     "output_type": "stream",
     "text": [
      "[1, 1, 2, 3, 5, 8, 13, 21, 34, 55]\n"
     ]
    }
   ],
   "source": [
    "#Fibonacci series\n",
    "\n",
    "def fib1(n):\n",
    "    \"\"\"Fib with recursion.\"\"\"\n",
    "\n",
    "    # base case\n",
    "    if n==0 or n==1:\n",
    "        return 1\n",
    "    # recursive case\n",
    "    else:\n",
    "        return fib1(n-1) + fib1(n-2) #you can define a new element recursively (i.e. wrt previous elements of the series)\n",
    "\n",
    "    \n",
    "print ([fib1(i) for i in range(10)]) #comprehension to print result"
   ]
  },
  {
   "cell_type": "code",
   "execution_count": 11,
   "metadata": {},
   "outputs": [
    {
     "name": "stdout",
     "output_type": "stream",
     "text": [
      "[1, 1, 2, 3, 5, 8, 13, 21, 34, 55]\n"
     ]
    }
   ],
   "source": [
    "# In Python, a more efficient version that does not use recursion is\n",
    "\n",
    "def fib2(n):\n",
    "    \"\"\"Fib without recursion.\"\"\"\n",
    "    a, b = 0, 1\n",
    "    for i in range(1, n+1):\n",
    "        a, b = b, a+b #a is re-defined as the following element of the series (b) and b as the sum of itself with the element \n",
    "                      #before it (as by def of Fibonacci series)\n",
    "    return b\n",
    "\n",
    "print ([fib2(i) for i in range(10)])"
   ]
  },
  {
   "cell_type": "code",
   "execution_count": 37,
   "metadata": {},
   "outputs": [
    {
     "name": "stdout",
     "output_type": "stream",
     "text": [
      "4.81 ms ± 338 µs per loop (mean ± std. dev. of 7 runs, 100 loops each)\n",
      "2.19 µs ± 232 ns per loop (mean ± std. dev. of 7 runs, 100000 loops each)\n"
     ]
    }
   ],
   "source": [
    "#to check indeed the timing to perform an instruction (takes some time because it performs it many times to make average):\n",
    "\n",
    "%timeit fib1(20)\n",
    "%timeit fib2(20) #we can see that the second function is 100 times more efficient!!\n"
   ]
  },
  {
   "cell_type": "markdown",
   "metadata": {},
   "source": [
    "## Iterators\n",
    "\n",
    "Iterators represent streams of values. Because only one value is consumed at a time, they use very little memory. Use of iterators is very helpful for working with data sets too large to fit into RAM."
   ]
  },
  {
   "cell_type": "code",
   "execution_count": 12,
   "metadata": {},
   "outputs": [
    {
     "name": "stdout",
     "output_type": "stream",
     "text": [
      "1\n",
      "2\n",
      "3\n"
     ]
    },
    {
     "ename": "StopIteration",
     "evalue": "",
     "output_type": "error",
     "traceback": [
      "\u001b[1;31m---------------------------------------------------------------------------\u001b[0m",
      "\u001b[1;31mStopIteration\u001b[0m                             Traceback (most recent call last)",
      "\u001b[1;32m<ipython-input-12-5932530e02e4>\u001b[0m in \u001b[0;36m<module>\u001b[1;34m\u001b[0m\n\u001b[0;32m      7\u001b[0m \u001b[0mprint\u001b[0m \u001b[1;33m(\u001b[0m\u001b[0mnext\u001b[0m\u001b[1;33m(\u001b[0m\u001b[0mx_iter\u001b[0m\u001b[1;33m)\u001b[0m\u001b[1;33m)\u001b[0m\u001b[1;33m\u001b[0m\u001b[1;33m\u001b[0m\u001b[0m\n\u001b[0;32m      8\u001b[0m \u001b[0mprint\u001b[0m \u001b[1;33m(\u001b[0m\u001b[0mnext\u001b[0m\u001b[1;33m(\u001b[0m\u001b[0mx_iter\u001b[0m\u001b[1;33m)\u001b[0m\u001b[1;33m)\u001b[0m\u001b[1;33m\u001b[0m\u001b[1;33m\u001b[0m\u001b[0m\n\u001b[1;32m----> 9\u001b[1;33m \u001b[0mprint\u001b[0m \u001b[1;33m(\u001b[0m\u001b[0mnext\u001b[0m\u001b[1;33m(\u001b[0m\u001b[0mx_iter\u001b[0m\u001b[1;33m)\u001b[0m\u001b[1;33m)\u001b[0m \u001b[1;31m#when you arrive at the end of the list and cannot iterate further you get an error\u001b[0m\u001b[1;33m\u001b[0m\u001b[1;33m\u001b[0m\u001b[0m\n\u001b[0m",
      "\u001b[1;31mStopIteration\u001b[0m: "
     ]
    }
   ],
   "source": [
    "# Iterators can be created from sequences with the built-in function iter()\n",
    "\n",
    "xs = [1,2,3]\n",
    "x_iter = iter(xs)\n",
    "\n",
    "print (next(x_iter))\n",
    "print (next(x_iter))\n",
    "print (next(x_iter))\n",
    "print (next(x_iter)) #when you arrive at the end of the list and cannot iterate further you get an error"
   ]
  },
  {
   "cell_type": "code",
   "execution_count": 39,
   "metadata": {},
   "outputs": [
    {
     "name": "stdout",
     "output_type": "stream",
     "text": [
      "1\n",
      "2\n",
      "3\n"
     ]
    }
   ],
   "source": [
    "# Most commonly, iterators are used (automatically) within a for loop\n",
    "# which terminates when it encouters a StopIteration exception (to avoid errors)\n",
    "\n",
    "x_iter = iter(xs)\n",
    "for x in x_iter:\n",
    "    print (x)"
   ]
  },
  {
   "cell_type": "markdown",
   "metadata": {},
   "source": [
    "## More on comprehensions"
   ]
  },
  {
   "cell_type": "code",
   "execution_count": 13,
   "metadata": {},
   "outputs": [
    {
     "name": "stdout",
     "output_type": "stream",
     "text": [
      "<generator object <genexpr> at 0x000001C68D238E40>\n",
      "[0, 1, 2, 3, 4, 5, 6, 7, 8, 9]\n",
      "{0, 1, 2, 3, 4, 5, 6, 7, 8, 9}\n",
      "{0: 0, 1: 1, 2: 2, 3: 3, 4: 4, 5: 5, 6: 6, 7: 7, 8: 8, 9: 9}\n"
     ]
    }
   ],
   "source": [
    "# A generator expression\n",
    "\n",
    "print ((x for x in range(10)))\n",
    "\n",
    "# A list comprehension\n",
    "\n",
    "print ([x for x in range(10)])\n",
    "\n",
    "# A set comprehension\n",
    "\n",
    "print ({x for x in range(10)})\n",
    "\n",
    "# A dictionary comprehension\n",
    "\n",
    "print ({x: x for x in range(10)})"
   ]
  },
  {
   "cell_type": "markdown",
   "metadata": {},
   "source": [
    "## Useful Modules\n",
    "\n",
    "You may want to have a look at the content of the following modules for further usage of (HO) functions:\n",
    "  - [operator](https://docs.python.org/3/library/operator.html)\n",
    "  - [functools](https://docs.python.org/3/library/functools.html)\n",
    "  - [itertools](https://docs.python.org/3/library/itertools.html)\n",
    "  - [toolz](https://pypi.org/project/toolz/)\n",
    "  - [funcy](https://pypi.org/project/funcy/)"
   ]
  },
  {
   "cell_type": "markdown",
   "metadata": {},
   "source": [
    "## Decorators\n",
    "\n",
    "Decorators are a type of HOF that take a function and return a wrapped function (used to add something at beginning and at end of another function) that provides additional useful properties.\n",
    "\n",
    "Examples:\n",
    "\n",
    "  - logging\n",
    "  - profiling\n",
    "  - Just-In-Time (JIT) compilation"
   ]
  },
  {
   "cell_type": "code",
   "execution_count": 41,
   "metadata": {},
   "outputs": [],
   "source": [
    "#Without decorators\n",
    "def my_decorator(func):\n",
    "    def wrapper():\n",
    "        print(\"Something is happening before the function is called.\")\n",
    "        func()\n",
    "        print(\"Something is happening after the function is called.\")\n",
    "    return wrapper\n",
    "\n",
    "def say_whee():\n",
    "    print(\"Whee!\")\n",
    "\n",
    "say_whee = my_decorator(say_whee)"
   ]
  },
  {
   "cell_type": "code",
   "execution_count": 42,
   "metadata": {},
   "outputs": [
    {
     "name": "stdout",
     "output_type": "stream",
     "text": [
      "Something is happening before the function is called.\n",
      "Whee!\n",
      "Something is happening after the function is called.\n"
     ]
    }
   ],
   "source": [
    "say_whee()"
   ]
  },
  {
   "cell_type": "markdown",
   "metadata": {},
   "source": [
    "Python allows you to use decorators in a simpler way with the @ symbol, sometimes called the “pie” syntax"
   ]
  },
  {
   "cell_type": "code",
   "execution_count": 43,
   "metadata": {},
   "outputs": [],
   "source": [
    "def my_decorator(func):\n",
    "    def wrapper():\n",
    "        print(\"Something is happening before the function is called.\")\n",
    "        func()\n",
    "        print(\"Something is happening after the function is called.\")\n",
    "    return wrapper #decorates the function putting something before and something after\n",
    "\n",
    "@my_decorator\n",
    "def say_whee():\n",
    "    print(\"Whee!\")"
   ]
  },
  {
   "cell_type": "code",
   "execution_count": 44,
   "metadata": {},
   "outputs": [
    {
     "name": "stdout",
     "output_type": "stream",
     "text": [
      "Something is happening before the function is called.\n",
      "Whee!\n",
      "Something is happening after the function is called.\n"
     ]
    }
   ],
   "source": [
    "say_whee()"
   ]
  },
  {
   "cell_type": "markdown",
   "metadata": {},
   "source": [
    "# Classes and Objects\n",
    "\n",
    "Python is not very object oriented but it's possible to use them.\n",
    "Old school object-oriented programming is possible and often used in python. Classes are defined similarly to standard object-oriented languages, with similar functionalities.\n",
    "\n",
    "The main python doc [page](https://docs.python.org/3.6/tutorial/classes.html) is worth reading through "
   ]
  },
  {
   "cell_type": "code",
   "execution_count": 15,
   "metadata": {},
   "outputs": [
    {
     "name": "stdout",
     "output_type": "stream",
     "text": [
      "buddy 12\n",
      "3\n"
     ]
    }
   ],
   "source": [
    "class Pet:\n",
    "    # the \"constructor\" (assign name and age)\n",
    "    def __init__(self, name, age):  #inizialize the elements of the class\n",
    "        self.name=name\n",
    "        self.age=age #self.variable for variables belonging to the class\n",
    "    # class functions take the \"self\" parameter !!!\n",
    "    def set_name(self,name):\n",
    "        self.name=name\n",
    "    def convert_age(self,factor):\n",
    "        self.age*=factor #similar to += but with * operation\n",
    "\n",
    "buddy=Pet(\"buddy\",12)\n",
    "print (buddy.name, buddy.age)\n",
    "buddy.age=3\n",
    "print (buddy.age) #just object.variable to access it, you don't need a getter like in C++\n",
    "\n"
   ]
  },
  {
   "cell_type": "code",
   "execution_count": 16,
   "metadata": {},
   "outputs": [
    {
     "name": "stdout",
     "output_type": "stream",
     "text": [
      "tobia\n",
      "70\n"
     ]
    }
   ],
   "source": [
    "# ineritance is straightforward\n",
    "class Dog(Pet):\n",
    "    # the following variables is \"global\", i.e. holds for all \"Dog\" objects\n",
    "    species = \"mammal\"\n",
    "    # functions can be redefined as usual\n",
    "    def convert_age(self):\n",
    "        self.age*=7\n",
    "    def set_species(self, species):\n",
    "        self.species = species\n",
    "        \n",
    "puppy=Dog(\"tobia\",10)\n",
    "print(puppy.name)\n",
    "puppy.convert_age() #converts in human years\n",
    "print(puppy.age)\n",
    "\n"
   ]
  },
  {
   "cell_type": "code",
   "execution_count": null,
   "metadata": {},
   "outputs": [],
   "source": []
  }
 ],
 "metadata": {
  "kernelspec": {
   "display_name": "Python 3",
   "language": "python",
   "name": "python3"
  },
  "language_info": {
   "codemirror_mode": {
    "name": "ipython",
    "version": 3
   },
   "file_extension": ".py",
   "mimetype": "text/x-python",
   "name": "python",
   "nbconvert_exporter": "python",
   "pygments_lexer": "ipython3",
   "version": "3.8.3"
  }
 },
 "nbformat": 4,
 "nbformat_minor": 2
}
