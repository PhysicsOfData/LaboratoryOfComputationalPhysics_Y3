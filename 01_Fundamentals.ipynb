{
 "cells": [
  {
   "cell_type": "markdown",
   "metadata": {},
   "source": [
    "# Modules/packages/libraries\n",
    "\n",
    "Definitions:\n",
    "\n",
    "  * Modules:\n",
    "  A module is a file which contains python functions, global variables etc. It is nothing but .py file which has python executable code / statement.\n",
    "\n",
    "  * Packages:\n",
    "  A package is namespace which contains multiple package/modules. It is a directory which contains a special file `__init__.py`\n",
    "  \n",
    "  * Libraries:\n",
    "  A library is a collection of various packages. There is no difference between package and python library conceptually.\n",
    "  \n",
    "Modules/packages/libraries can be easily \"imported\" and made functional in your python code. A set of libriaries comes with every python installation. Others can be installed locally and then imported. Your own code sitting somewhere else in your local computer can be imported too.\n",
    "\n",
    "Further details (very important!) on packages and how to create them can be found online. We may find the need of creating our own during the course."
   ]
  },
  {
   "cell_type": "code",
   "execution_count": 1,
   "metadata": {},
   "outputs": [
    {
     "name": "stdout",
     "output_type": "stream",
     "text": [
      "3.141592653589793\n",
      "3.141592653589793\n",
      "3.141592653589793\n",
      "2.6457513110645907\n"
     ]
    }
   ],
   "source": [
    "###### all the \"stuff\" that is in the math library can be used\n",
    "import math\n",
    "print(math.pi)\n",
    "\n",
    "# you can give math a label for convenience\n",
    "import math as m\n",
    "print (m.pi)\n",
    "\n",
    "# alternatively you can import only a given \"thing\" from the library\n",
    "from math import pi    #you can add several libraries at once, just list them separated by a \", \"\n",
    "print (pi)\n",
    "\n",
    "# or just get everything (very dangerous!!!), this can cause name conflict\n",
    "from math import *\n",
    "print (sqrt(7))"
   ]
  },
  {
   "cell_type": "markdown",
   "metadata": {},
   "source": [
    "To know which modules are there for you to use just type:"
   ]
  },
  {
   "cell_type": "code",
   "execution_count": 2,
   "metadata": {},
   "outputs": [
    {
     "name": "stdout",
     "output_type": "stream",
     "text": [
      "\n",
      "Please wait a moment while I gather a list of all available modules...\n",
      "\n"
     ]
    },
    {
     "name": "stderr",
     "output_type": "stream",
     "text": [
      "/home/giulia/.local/lib/python3.6/site-packages/IPython/kernel/__init__.py:13: ShimWarning: The `IPython.kernel` package has been deprecated since IPython 4.0.You should import from ipykernel or jupyter_client instead.\n",
      "  \"You should import from ipykernel or jupyter_client instead.\", ShimWarning)\n",
      "/usr/lib/python3.6/pkgutil.py:92: MatplotlibDeprecationWarning: \n",
      "The matplotlib.compat module was deprecated in Matplotlib 3.3 and will be removed two minor releases later.\n",
      "  __import__(info.name)\n",
      "/usr/lib/python3.6/pkgutil.py:107: VisibleDeprecationWarning: zmq.eventloop.minitornado is deprecated in pyzmq 14.0 and will be removed.\n",
      "    Install tornado itself to use zmq with the tornado IOLoop.\n",
      "    \n",
      "  yield from walk_packages(path, info.name+'.', onerror)\n"
     ]
    },
    {
     "name": "stdout",
     "output_type": "stream",
     "text": [
      "DEBUG:pip.vcs:Registered VCS backend: git\n",
      "DEBUG:pip.vcs:Registered VCS backend: hg\n",
      "DEBUG:pip.vcs:Registered VCS backend: svn\n",
      "DEBUG:pip.vcs:Registered VCS backend: bzr\n",
      "AptUrl              chunk               libImt              ptyprocess\n",
      "CommandNotFound     cmath               libJupyROOT         pvectorc\n",
      "Crypto              cmd                 libKrb5Auth         pwd\n",
      "DistUpgrade         cmdLineUtils        libMLP              py_compile\n",
      "HweSupportStatus    code                libMathCore         pyatspi\n",
      "IPython             codecs              libMathMore         pyclbr\n",
      "JsMVA               codeop              libMatrix           pycparser\n",
      "JupyROOT            collections         libMemStat          pydoc\n",
      "LanguageSelector    colorama            libMinuit           pydoc_data\n",
      "NvidiaDetector      colorsys            libMinuit2          pyexpat\n",
      "PIL                 compileall          libMultiProc        pygments\n",
      "Quirks              concurrent          libNet              pygtkcompat\n",
      "ROOT                configparser        libNew              pylab\n",
      "UbuntuDrivers       contextlib          libPhysics          pymacaroons\n",
      "UbuntuSystemService copy                libPostscript       pyparsing\n",
      "UpdateManager       copyreg             libProof            pyrfc3339\n",
      "Xlib                cppyy               libProofBench       pyrsistent\n",
      "__future__          crypt               libProofDraw        pytz\n",
      "_ast                cryptography        libProofPlayer      queue\n",
      "_asyncio            csv                 libPyROOT           quopri\n",
      "_bisect             ctypes              libQtGSI            random\n",
      "_blake2             cups                libQtRoot           re\n",
      "_blueman            cupsext             libQuadp            readline\n",
      "_bootlocale         cupshelpers         libRGL              reportlab\n",
      "_bz2                curses              libRHTTP            reprlib\n",
      "_cffi_backend       cycler              libRIO              requests\n",
      "_codecs             cythonmagic         libRLDAP            requests_unixsocket\n",
      "_codecs_cn          datetime            libRMySQL           resource\n",
      "_codecs_hk          dateutil            libRecorder         retrying\n",
      "_codecs_iso2022     dbm                 libRint             rlcompleter\n",
      "_codecs_jp          dbus                libRooFit           rmagic\n",
      "_codecs_kr          deb822              libRooFitCore       runpy\n",
      "_codecs_tw          debconf             libRooStats         scanext\n",
      "_collections        debian              libRootAuth         sched\n",
      "_collections_abc    debian_bundle       libSPlot            scipy\n",
      "_compat_pickle      decimal             libSQLIO            secrets\n",
      "_compression        decorator           libSessionViewer    secretstorage\n",
      "_crypt              defer               libSmatrix          select\n",
      "_csv                defusedxml          libSpectrum         selectors\n",
      "_ctypes             difflib             libSpectrumPainter  send2trash\n",
      "_ctypes_test        dis                 libSrvAuth          setproctitle\n",
      "_curses             distro_info         libTMVA             setuptools\n",
      "_curses_panel       distro_info_test    libTMVAGui          shelve\n",
      "_datetime           distutils           libTable            shlex\n",
      "_dbm                doctest             libThread           shutil\n",
      "_dbus_bindings      dummy_threading     libTree             signal\n",
      "_dbus_glib_bindings easy_install        libTreePlayer       simplejson\n",
      "_decimal            email               libTreeViewer       site\n",
      "_distutils_hack     encodings           libUnfold           sitecustomize\n",
      "_dummy_thread       entrypoints         libUnuran           six\n",
      "_elementtree        enum                libVMC              sklearn\n",
      "_functools          errno               libX3d              smtpd\n",
      "_gdbm               faulthandler        libXMLIO            smtplib\n",
      "_hashlib            fcntl               libXMLParser        sndhdr\n",
      "_heapq              filecmp             libcomplexDict      socket\n",
      "_imp                fileinput           libdequeDict        socketserver\n",
      "_io                 fnmatch             libforward_listDict softwareproperties\n",
      "_json               formatter           liblistDict         speechd\n",
      "_locale             fractions           libmap2Dict         speechd_config\n",
      "_lsprof             ftplib              libmapDict          spwd\n",
      "_lzma               functools           libmultimap2Dict    sqlite3\n",
      "_markupbase         gc                  libmultimapDict     sre_compile\n",
      "_md5                genericpath         libmultisetDict     sre_constants\n",
      "_multibytecodec     getopt              libsetDict          sre_parse\n",
      "_multiprocessing    getpass             libtbb              ssh_import_id\n",
      "_opcode             gettext             libtbbmalloc        ssl\n",
      "_operator           gi                  libtbbmalloc_proxy  stat\n",
      "_osx_support        glob                libunordered_mapDict statistics\n",
      "_pickle             grp                 libunordered_multimapDict storemagic\n",
      "_posixsubprocess    gzip                libunordered_multisetDict string\n",
      "_pydecimal          hashlib             libunordered_setDict stringprep\n",
      "_pyio               heapq               libvalarrayDict     struct\n",
      "_pyrsistent_version hmac                libvectorDict       subprocess\n",
      "_pythonization      hpmudext            linecache           sunau\n",
      "_random             html                locale              symbol\n",
      "_sha1               http                lockfile            sympyprinting\n",
      "_sha256             httplib2            logging             symtable\n",
      "_sha3               idna                louis               sys\n",
      "_sha512             imaplib             lsb_release         sysconfig\n",
      "_signal             imghdr              lzma                syslog\n",
      "_sitebuiltins       imp                 macaroonbakery      systemd\n",
      "_socket             importlib           macpath             tabnanny\n",
      "_sqlite3            importlib_metadata  macurl2path         tarfile\n",
      "_sre                inspect             mailbox             telnetlib\n",
      "_ssl                io                  mailcap             tempfile\n",
      "_stat               ipaddress           mako                terminado\n",
      "_string             ipykernel           markupsafe          termios\n",
      "_strptime           ipykernel_launcher  marshal             test\n",
      "_struct             ipython_genutils    math                testpath\n",
      "_symtable           itertools           matplotlib          tests\n",
      "_sysconfigdata_m_linux_x86_64-linux-gnu janitor             mimetypes           textwrap\n",
      "_testbuffer         jedi                mistune             this\n",
      "_testcapi           jinja2              mmap                threading\n",
      "_testimportmultiple joblib              modulefinder        threadpoolctl\n",
      "_testmultiphase     json                multiprocessing     time\n",
      "_thread             json5               nacl                timeit\n",
      "_threading_local    jsonschema          nbclient            token\n",
      "_tracemalloc        jupyter             nbconvert           tokenize\n",
      "_warnings           jupyter_client      nbformat            tornado\n",
      "_weakref            jupyter_core        nest_asyncio        trace\n",
      "_weakrefset         jupyterlab          netifaces           traceback\n",
      "_yaml               jupyterlab_pygments netrc               tracemalloc\n",
      "abc                 jupyterlab_server   nis                 traitlets\n",
      "aifc                keyring             nntplib             tty\n",
      "antigravity         keyword             notebook            turtle\n",
      "appdirs             kiwisolver          ntpath              types\n",
      "apport              language_support_pkgs nturl2path          typing\n",
      "apport_python_hook  launchpadlib        numbers             ufw\n",
      "apt                 lib2to3             numpy               unicodedata\n",
      "apt_inst            libASImage          oauth               unittest\n",
      "apt_pkg             libASImageGui       olefile             uno\n",
      "aptdaemon           libBonjour          opcode              unohelper\n",
      "aptsources          libCling            operator            urllib\n",
      "argon2              libCore             optparse            urllib3\n",
      "argparse            libEG               orca                usbcreator\n",
      "array               libEve              os                  uu\n",
      "asn1crypto          libFFTW             ossaudiodev         uuid\n",
      "ast                 libFITSIO           packaging           venv\n",
      "async_generator     libFTGL             pandas              wadllib\n",
      "asynchat            libFitPanel         pandocfilters       warnings\n",
      "asyncio             libFoam             parser              wave\n",
      "asyncore            libFumili           parso               wcwidth\n",
      "atexit              libGLEW             pathlib             weakref\n",
      "attr                libGQt              pcardext            webbrowser\n",
      "audioop             libGX11             pdb                 webencodings\n",
      "autoreload          libGX11TTF          pexpect             wheel\n",
      "backcall            libGdml             pickle              wsgiref\n",
      "base64              libGed              pickleshare         xapp\n",
      "bdb                 libGenVector        pickletools         xdg\n",
      "binascii            libGenetic          pip                 xdrlib\n",
      "binhex              libGeom             pipes               xkit\n",
      "bisect              libGeomBuilder      pkg_resources       xml\n",
      "bleach              libGeomPainter      pkgutil             xmlrpc\n",
      "blueman             libGpad             platform            xxlimited\n",
      "brlapi              libGraf             plistlib            xxsubtype\n",
      "builtins            libGraf3d           poplib              yaml\n",
      "bz2                 libGui              posix               zipapp\n",
      "cProfile            libGuiBld           posixpath           zipfile\n",
      "cachecontrol        libGuiHtml          pprint              zipimport\n",
      "cairo               libGviz             problem_report      zipp\n",
      "calendar            libGviz3d           profile             zlib\n",
      "certifi             libHbook            prometheus_client   zmq\n",
      "cffi                libHist             prompt_toolkit      zope\n",
      "cgi                 libHistFactory      pstats              \n",
      "cgitb               libHistPainter      psutil              \n",
      "chardet             libHtml             pty                 \n",
      "\n",
      "Enter any module name to get more help.  Or, type \"modules spam\" to search\n",
      "for modules whose name or summary contain the string \"spam\".\n",
      "\n",
      "None\n"
     ]
    }
   ],
   "source": [
    "print (help('modules') )\n"
   ]
  },
  {
   "cell_type": "markdown",
   "metadata": {},
   "source": [
    "`pip` is a special package. It is used from the command line to install properly (e.g. matching the version of the local packages) new packages. It can also be used from within python to check i.e. the set installed packages and their versions. N.B.: only the installed packages on top of the default ones will be listed "
   ]
  },
  {
   "cell_type": "code",
   "execution_count": 5,
   "metadata": {},
   "outputs": [
    {
     "data": {
      "text/plain": [
       "['argon2-cffi==20.1.0',\n",
       " 'async-generator==1.10',\n",
       " 'attrs==20.2.0',\n",
       " 'backcall==0.2.0',\n",
       " 'bleach==3.2.1',\n",
       " 'certifi==2020.6.20',\n",
       " 'cffi==1.14.3',\n",
       " 'chardet==3.0.4',\n",
       " 'cycler==0.10.0',\n",
       " 'decorator==4.4.2',\n",
       " 'defusedxml==0.6.0',\n",
       " 'entrypoints==0.3',\n",
       " 'idna==2.10',\n",
       " 'importlib-metadata==2.0.0',\n",
       " 'ipykernel==5.3.4',\n",
       " 'ipython-genutils==0.2.0',\n",
       " 'ipython==7.16.1',\n",
       " 'jedi==0.17.2',\n",
       " 'jinja2==2.11.2',\n",
       " 'joblib==0.16.0',\n",
       " 'json5==0.9.5',\n",
       " 'jsonschema==3.2.0',\n",
       " 'jupyter-client==6.1.7',\n",
       " 'jupyter-core==4.6.3',\n",
       " 'jupyterlab-pygments==0.1.2',\n",
       " 'jupyterlab-server==1.2.0',\n",
       " 'jupyterlab==2.2.8',\n",
       " 'kiwisolver==1.2.0',\n",
       " 'markupsafe==1.1.1',\n",
       " 'matplotlib==3.3.2',\n",
       " 'mistune==0.8.4',\n",
       " 'nbclient==0.5.0',\n",
       " 'nbconvert==6.0.6',\n",
       " 'nbformat==5.0.7',\n",
       " 'nest-asyncio==1.4.1',\n",
       " 'notebook==6.1.4',\n",
       " 'numpy==1.19.2',\n",
       " 'packaging==20.4',\n",
       " 'pandas==1.1.2',\n",
       " 'pandocfilters==1.4.2',\n",
       " 'parso==0.7.1',\n",
       " 'pexpect==4.8.0',\n",
       " 'pickleshare==0.7.5',\n",
       " 'pillow==7.2.0',\n",
       " 'prometheus-client==0.8.0',\n",
       " 'prompt-toolkit==3.0.7',\n",
       " 'ptyprocess==0.6.0',\n",
       " 'pycparser==2.20',\n",
       " 'pygments==2.7.1',\n",
       " 'pyparsing==2.4.7',\n",
       " 'pyrsistent==0.17.3',\n",
       " 'python-dateutil==2.8.1',\n",
       " 'pytz==2020.1',\n",
       " 'pyzmq==19.0.2',\n",
       " 'requests==2.24.0',\n",
       " 'scikit-learn==0.23.2',\n",
       " 'scipy==1.5.2',\n",
       " 'send2trash==1.5.0',\n",
       " 'setuptools==50.3.0',\n",
       " 'six==1.15.0',\n",
       " 'terminado==0.9.1',\n",
       " 'testpath==0.4.4',\n",
       " 'threadpoolctl==2.1.0',\n",
       " 'tornado==6.0.4',\n",
       " 'traitlets==4.3.3',\n",
       " 'urllib3==1.25.10',\n",
       " 'wcwidth==0.2.5',\n",
       " 'webencodings==0.5.1',\n",
       " 'zipp==3.2.0']"
      ]
     },
     "execution_count": 5,
     "metadata": {},
     "output_type": "execute_result"
    }
   ],
   "source": [
    "#pip is an executable\n",
    "import pip\n",
    "sorted([\"%s==%s\" % (i.key, i.version) for i in pip.get_installed_distributions()])"
   ]
  },
  {
   "cell_type": "markdown",
   "metadata": {},
   "source": [
    "# Functions"
   ]
  },
  {
   "cell_type": "code",
   "execution_count": 7,
   "metadata": {},
   "outputs": [
    {
     "name": "stdout",
     "output_type": "stream",
     "text": [
      "9\n",
      "27\n",
      "cube 27\n",
      "square 9\n"
     ]
    }
   ],
   "source": [
    "def square(x):\n",
    "    \"\"\"Square of x.\"\"\"\n",
    "    return x*x\n",
    "\n",
    "def cube(x):\n",
    "    \"\"\"Cube of x.\"\"\"\n",
    "    return x*x*x\n",
    "\n",
    "# create a dictionary of functions\n",
    "funcs = {\n",
    "    'square': square,\n",
    "    'cube': cube,\n",
    "}\n",
    "\n",
    "x = 3\n",
    "print(square(x))\n",
    "print(cube(x))\n",
    "\n",
    "for func in sorted(funcs):\n",
    "    print (func, funcs[func](x))"
   ]
  },
  {
   "cell_type": "markdown",
   "metadata": {},
   "source": [
    "## Functions arguments"
   ]
  },
  {
   "cell_type": "markdown",
   "metadata": {},
   "source": [
    "What is passsed to a function is a copy of the input. Imagine we have a list *x =[1, 2, 3]*, i.e. a mutable object. If within the function the content of *x* is directly changed (e.g. *x[0] = 999*), then *x* changes outside the funciton as well. "
   ]
  },
  {
   "cell_type": "code",
   "execution_count": 7,
   "metadata": {},
   "outputs": [
    {
     "name": "stdout",
     "output_type": "stream",
     "text": [
      "[1, 2, 3]\n",
      "[999, 2, 3]\n",
      "[999, 2, 3]\n"
     ]
    }
   ],
   "source": [
    "def modify(x):\n",
    "    x[0] = 999\n",
    "    return x\n",
    "\n",
    "x = [1,2,3]\n",
    "print (x)\n",
    "print (modify(x))\n",
    "print (x)"
   ]
  },
  {
   "cell_type": "markdown",
   "metadata": {},
   "source": [
    "However, if *x* is reassigned within the function to a new object (e.g. another list), then the copy of the name *x* now points to the new object, but *x* outside the function is unhcanged."
   ]
  },
  {
   "cell_type": "code",
   "execution_count": 18,
   "metadata": {},
   "outputs": [
    {
     "name": "stdout",
     "output_type": "stream",
     "text": [
      "[1, 2, 3]\n",
      "[4, 5, 6]\n",
      "[1, 2, 3]\n"
     ]
    }
   ],
   "source": [
    "def no_modify(x):\n",
    "    x = [4,5,6]\n",
    "    return x\n",
    "\n",
    "x = [1,2,3]\n",
    "print (x)\n",
    "print (no_modify(x))\n",
    "print (x)\n"
   ]
  },
  {
   "cell_type": "markdown",
   "metadata": {},
   "source": [
    "What if the function tries to modify the value of an immutable object?"
   ]
  },
  {
   "cell_type": "markdown",
   "metadata": {},
   "source": [
    "Binding of default arguments occurs at function definition:"
   ]
  },
  {
   "cell_type": "code",
   "execution_count": 19,
   "metadata": {},
   "outputs": [
    {
     "name": "stdout",
     "output_type": "stream",
     "text": [
      "[1]\n",
      "[1, 1]\n",
      "[9, 9, 9, 1]\n",
      "[1, 1, 1]\n",
      "[1, 1, 1, 1]\n"
     ]
    }
   ],
   "source": [
    "def f(x = []):\n",
    "    x.append(1)\n",
    "    return x\n",
    "\n",
    "print (f())\n",
    "print (f())\n",
    "print (f(x = [9,9,9]))\n",
    "print (f())\n",
    "print (f())"
   ]
  },
  {
   "cell_type": "markdown",
   "metadata": {},
   "source": [
    "Try to aviod that!!"
   ]
  },
  {
   "cell_type": "code",
   "execution_count": 4,
   "metadata": {},
   "outputs": [
    {
     "name": "stdout",
     "output_type": "stream",
     "text": [
      "[1]\n",
      "[1]\n",
      "[9, 9, 9, 1]\n",
      "[1]\n",
      "[1]\n"
     ]
    }
   ],
   "source": [
    "def f(x = None):\n",
    "    if x is None:\n",
    "        x = []\n",
    "    x.append(1)\n",
    "    return x\n",
    "\n",
    "print (f())\n",
    "print (f())\n",
    "print (f(x = [9,9,9]))\n",
    "print (f())\n",
    "print (f())"
   ]
  },
  {
   "cell_type": "markdown",
   "metadata": {},
   "source": [
    "## Higher order functions\n",
    "\n",
    "A function that uses another function as an input argument or returns a function is known as a higher-order function (HOF). The most familiar examples are `map` and `filter`."
   ]
  },
  {
   "cell_type": "markdown",
   "metadata": {},
   "source": [
    "### map\n",
    "\n",
    "The map function applies a function to each member of a collection"
   ]
  },
  {
   "cell_type": "code",
   "execution_count": 9,
   "metadata": {},
   "outputs": [
    {
     "name": "stdout",
     "output_type": "stream",
     "text": [
      "0\n",
      "1\n",
      "4\n",
      "9\n",
      "16\n"
     ]
    }
   ],
   "source": [
    "x = list(map(square, range(5))) \n",
    "\n",
    "#we are doing a cast putting the results in a list, since the return of the map is an iterator; in fact doing for i in x print (type(i)) you get int\n",
    "#print (type(map(square, range(5))))\n",
    "\n",
    "# Note the difference w.r.t python 2. In python 3 map retuns an iterator so you can do stuff like:\n",
    "for i in map(square,range(5)): print(i)\n",
    "    "
   ]
  },
  {
   "cell_type": "markdown",
   "metadata": {},
   "source": [
    "### filter\n",
    "\n",
    "The filter function applies a predicate to each memmber of a collection, retaining only those members where the predicate is True"
   ]
  },
  {
   "cell_type": "code",
   "execution_count": 24,
   "metadata": {},
   "outputs": [
    {
     "name": "stdout",
     "output_type": "stream",
     "text": [
      "[0, 2, 4]\n"
     ]
    }
   ],
   "source": [
    "def is_even(x):\n",
    "    return x%2 == 0\n",
    "\n",
    "print (list(filter(is_even, range(5))))"
   ]
  },
  {
   "cell_type": "code",
   "execution_count": 25,
   "metadata": {},
   "outputs": [
    {
     "data": {
      "text/plain": [
       "[0, 4, 16]"
      ]
     },
     "execution_count": 25,
     "metadata": {},
     "output_type": "execute_result"
    }
   ],
   "source": [
    "list(map(square, filter(is_even, range(5))))\n"
   ]
  },
  {
   "cell_type": "markdown",
   "metadata": {},
   "source": [
    "### reduce\n",
    "\n",
    "The reduce function reduces a collection using a binary operator to combine items two at a time. More often than not reduce can be substituted with a more efficient for loop. It is worth mentioning it for its key role in big-data applications together with map (the map-reduce paradigm). \n",
    "N.B.: it no loger exist as built-in function in python 3, it is now part of the `functools` library"
   ]
  },
  {
   "cell_type": "code",
   "execution_count": 26,
   "metadata": {},
   "outputs": [
    {
     "data": {
      "text/plain": [
       "15"
      ]
     },
     "execution_count": 26,
     "metadata": {},
     "output_type": "execute_result"
    }
   ],
   "source": [
    "from functools import reduce\n",
    "#it's no more used that often\n",
    "def my_add(x, y):\n",
    "    return x + y\n",
    "\n",
    "# another implementation of the sum function\n",
    "reduce(my_add, [1,2,3,4,5])"
   ]
  },
  {
   "cell_type": "markdown",
   "metadata": {},
   "source": [
    "### zip\n",
    "\n",
    "zip is useful when you need to iterate over matched elements of multiple lists"
   ]
  },
  {
   "cell_type": "code",
   "execution_count": 29,
   "metadata": {},
   "outputs": [
    {
     "name": "stdout",
     "output_type": "stream",
     "text": [
      "1 10 a\n",
      "2 20 b\n",
      "3 30 c\n",
      "4 40 d\n"
     ]
    }
   ],
   "source": [
    "xs = [1, 2, 3, 4]\n",
    "ys = [10, 20, 30, 40]\n",
    "zs = ['a', 'b', 'c', 'd', 'e']\n",
    "\n",
    "for x, y, z in zip(xs, ys, zs):\n",
    "    print (x, y, z)"
   ]
  },
  {
   "cell_type": "markdown",
   "metadata": {},
   "source": [
    "### Custom HOF"
   ]
  },
  {
   "cell_type": "code",
   "execution_count": 30,
   "metadata": {},
   "outputs": [
    {
     "name": "stdout",
     "output_type": "stream",
     "text": [
      "30\n",
      "100\n"
     ]
    }
   ],
   "source": [
    "def custom_sum(xs, transform):\n",
    "    \"\"\"Returns the sum of xs after a user specified transform.\"\"\"\n",
    "    return sum(map(transform, xs))\n",
    "\n",
    "xs = range(5)\n",
    "print (custom_sum(xs, square))\n",
    "print (custom_sum(xs, cube))\n",
    "\n"
   ]
  },
  {
   "cell_type": "markdown",
   "metadata": {},
   "source": [
    "### Returning a function"
   ]
  },
  {
   "cell_type": "code",
   "execution_count": 38,
   "metadata": {},
   "outputs": [],
   "source": [
    "def make_logger(target):\n",
    "    def logger(data):\n",
    "        with open(target, 'a') as f:\n",
    "            f.write(data + '\\n')\n",
    "    return logger\n",
    "\n",
    "foo_logger = make_logger('foo.txt') #foo.txt will be created if not there already\n",
    "foo_logger('Hello')\n",
    "foo_logger('World')"
   ]
  },
  {
   "cell_type": "code",
   "execution_count": 39,
   "metadata": {},
   "outputs": [
    {
     "name": "stdout",
     "output_type": "stream",
     "text": [
      "Hello\r\n",
      "World\r\n"
     ]
    }
   ],
   "source": [
    "\n",
    "! cat 'foo.txt'\n",
    "\n",
    "#in a code cell, whatever comes after ! is executed in the unix shell\n",
    "#cat prints on the screen the content of a given file"
   ]
  },
  {
   "cell_type": "markdown",
   "metadata": {},
   "source": [
    "## Anonimous functions (lambda)\n",
    "\n",
    "When using functional style, there is often the need to create specific functions that perform a limited task as input to a HOF such as map or filter. In such cases, these functions are often written as anonymous or lambda functions. \n",
    "The syntax is as follows:\n",
    "\n",
    "lambda *arguments* : *expression*\n",
    "\n",
    "\n",
    "If you find it hard to understand what a lambda function is doing, it should probably be rewritten as a regular function."
   ]
  },
  {
   "cell_type": "code",
   "execution_count": 40,
   "metadata": {},
   "outputs": [
    {
     "data": {
      "text/plain": [
       "7"
      ]
     },
     "execution_count": 40,
     "metadata": {},
     "output_type": "execute_result"
    }
   ],
   "source": [
    "sum = lambda x,y: x+y\n",
    "sum(3,4)"
   ]
  },
  {
   "cell_type": "code",
   "execution_count": 43,
   "metadata": {},
   "outputs": [
    {
     "name": "stdout",
     "output_type": "stream",
     "text": [
      "0\n",
      "1\n",
      "4\n",
      "9\n",
      "16\n"
     ]
    }
   ],
   "source": [
    "for i in map(lambda x: x*x, range(5)): print (i)"
   ]
  },
  {
   "cell_type": "code",
   "execution_count": 42,
   "metadata": {},
   "outputs": [
    {
     "name": "stdout",
     "output_type": "stream",
     "text": [
      "285\n"
     ]
    }
   ],
   "source": [
    "# what does this function do?\n",
    "from functools import reduce\n",
    "s1 = reduce(lambda x, y: x+y, map(lambda x: x**2, range(1,10)))\n",
    "print(s1)\n"
   ]
  },
  {
   "cell_type": "markdown",
   "metadata": {},
   "source": [
    "## Recursive functions "
   ]
  },
  {
   "cell_type": "code",
   "execution_count": 44,
   "metadata": {},
   "outputs": [
    {
     "name": "stdout",
     "output_type": "stream",
     "text": [
      "[1, 1, 2, 3, 5, 8, 13, 21, 34, 55]\n"
     ]
    }
   ],
   "source": [
    "def fib1(n):\n",
    "    \"\"\"Fib with recursion.\"\"\"\n",
    "\n",
    "    # base case\n",
    "    if n==0 or n==1:\n",
    "        return 1\n",
    "    # recurssive case\n",
    "    else:\n",
    "        return fib1(n-1) + fib1(n-2)\n",
    "\n",
    "    \n",
    "print ([fib1(i) for i in range(10)])"
   ]
  },
  {
   "cell_type": "code",
   "execution_count": 45,
   "metadata": {},
   "outputs": [
    {
     "name": "stdout",
     "output_type": "stream",
     "text": [
      "[1, 1, 2, 3, 5, 8, 13, 21, 34, 55]\n"
     ]
    }
   ],
   "source": [
    "# In Python, a more efficient version that does not use recursion is\n",
    "\n",
    "def fib2(n):\n",
    "    \"\"\"Fib without recursion.\"\"\"\n",
    "    a, b = 0, 1\n",
    "    for i in range(1, n+1):\n",
    "        a, b = b, a+b\n",
    "    return b\n",
    "\n",
    "print ([fib2(i) for i in range(10)])"
   ]
  },
  {
   "cell_type": "code",
   "execution_count": 47,
   "metadata": {},
   "outputs": [
    {
     "name": "stdout",
     "output_type": "stream",
     "text": [
      "4.23 ms ± 75.9 µs per loop (mean ± std. dev. of 7 runs, 100 loops each)\n",
      "1.66 µs ± 17.3 ns per loop (mean ± std. dev. of 7 runs, 1000000 loops each)\n"
     ]
    }
   ],
   "source": [
    "# check indeed the timing:\n",
    "\n",
    "%timeit fib1(20)\n",
    "%timeit fib2(20)\n",
    "#the second one is an undred time more efficient"
   ]
  },
  {
   "cell_type": "markdown",
   "metadata": {},
   "source": [
    "## Iterators\n",
    "\n",
    "Iterators represent streams of values. Because only one value is consumed at a time, they use very little memory. Use of iterators is very helpful for working with data sets too large to fit into RAM."
   ]
  },
  {
   "cell_type": "code",
   "execution_count": 51,
   "metadata": {},
   "outputs": [
    {
     "name": "stdout",
     "output_type": "stream",
     "text": [
      "1\n",
      "2\n",
      "3\n"
     ]
    }
   ],
   "source": [
    "# Iterators can be created from sequences with the built-in function iter()\n",
    "\n",
    "xs = [1,2,3]\n",
    "x_iter = iter(xs)\n",
    "\n",
    "print (next(x_iter))\n",
    "print (next(x_iter))\n",
    "print (next(x_iter))\n",
    "#print (next(x_iter)), it gives an error since it points to not allocated memory "
   ]
  },
  {
   "cell_type": "code",
   "execution_count": 52,
   "metadata": {},
   "outputs": [
    {
     "name": "stdout",
     "output_type": "stream",
     "text": [
      "1\n",
      "2\n",
      "3\n"
     ]
    }
   ],
   "source": [
    "# Most commonly, iterators are used (automatically) within a for loop\n",
    "# which terminates when it encouters a StopIteration exception\n",
    "\n",
    "x_iter = iter(xs)\n",
    "for x in x_iter:\n",
    "    print (x)"
   ]
  },
  {
   "cell_type": "markdown",
   "metadata": {},
   "source": [
    "## More on comprehensions"
   ]
  },
  {
   "cell_type": "code",
   "execution_count": 53,
   "metadata": {},
   "outputs": [
    {
     "name": "stdout",
     "output_type": "stream",
     "text": [
      "<generator object <genexpr> at 0x7f91e0451a98>\n",
      "[0, 1, 2, 3, 4, 5, 6, 7, 8, 9]\n",
      "{0, 1, 2, 3, 4, 5, 6, 7, 8, 9}\n",
      "{0: 0, 1: 1, 2: 2, 3: 3, 4: 4, 5: 5, 6: 6, 7: 7, 8: 8, 9: 9}\n"
     ]
    }
   ],
   "source": [
    "# A generator expression\n",
    "\n",
    "print ((x for x in range(10)))\n",
    "\n",
    "# A list comprehesnnion\n",
    "\n",
    "print ([x for x in range(10)])\n",
    "\n",
    "# A set comprehension\n",
    "\n",
    "print ({x for x in range(10)})\n",
    "\n",
    "# A dictionary comprehension\n",
    "\n",
    "print ({x: x for x in range(10)})"
   ]
  },
  {
   "cell_type": "markdown",
   "metadata": {},
   "source": [
    "## Useful Modules\n",
    "\n",
    "You may want to have a look at the content of the following modules for further usage of (HO) functions:\n",
    "  - [operator](https://docs.python.org/3/library/operator.html)\n",
    "  - [functools](https://docs.python.org/3/library/functools.html)\n",
    "  - [itertools](https://docs.python.org/3/library/itertools.html)\n",
    "  - [toolz](https://pypi.org/project/toolz/)\n",
    "  - [funcy](https://pypi.org/project/funcy/)"
   ]
  },
  {
   "cell_type": "markdown",
   "metadata": {},
   "source": [
    "## Decorators\n",
    "\n",
    "Decorators are a type of HOF that take a function and return a wrapped function that provides additional useful properties.\n",
    "\n",
    "Examples:\n",
    "\n",
    "  - logging\n",
    "  - profiling\n",
    "  - Just-In-Time (JIT) compilation"
   ]
  },
  {
   "cell_type": "code",
   "execution_count": 13,
   "metadata": {},
   "outputs": [],
   "source": [
    "#no decorator\n",
    "def my_decorator(func):\n",
    "    def wrapper():\n",
    "        print(\"Something is happening before the function is called.\")\n",
    "        func()\n",
    "        print(\"Something is happening after the function is called.\")\n",
    "    return wrapper\n",
    "\n",
    "def say_whee():\n",
    "    print(\"Whee!\")\n",
    "\n",
    "say_whee = my_decorator(say_whee)\n"
   ]
  },
  {
   "cell_type": "code",
   "execution_count": 10,
   "metadata": {},
   "outputs": [
    {
     "data": {
      "text/plain": [
       "<function __main__.my_decorator.<locals>.wrapper()>"
      ]
     },
     "execution_count": 10,
     "metadata": {},
     "output_type": "execute_result"
    }
   ],
   "source": [
    "say_whee"
   ]
  },
  {
   "cell_type": "markdown",
   "metadata": {},
   "source": [
    "Python allows you to use decorators in a simpler way with the @ symbol, sometimes called the “pie” syntax"
   ]
  },
  {
   "cell_type": "code",
   "execution_count": 3,
   "metadata": {},
   "outputs": [],
   "source": [
    "def my_decorator(func):\n",
    "    def wrapper():\n",
    "        print(\"Something is happening before the function is called.\")\n",
    "        func()\n",
    "        print(\"Something is happening after the function is called.\")\n",
    "    return wrapper\n",
    "\n",
    "@my_decorator\n",
    "def say_whee():\n",
    "    print (\"Whee!\")"
   ]
  },
  {
   "cell_type": "code",
   "execution_count": 4,
   "metadata": {},
   "outputs": [
    {
     "name": "stdout",
     "output_type": "stream",
     "text": [
      "Something is happening before the function is called.\n",
      "Whee!\n",
      "Something is happening after the function is called.\n"
     ]
    }
   ],
   "source": [
    "say_whee()"
   ]
  },
  {
   "cell_type": "markdown",
   "metadata": {},
   "source": [
    "# Classes and Objects\n",
    "\n",
    "Old school object-oriented programming is possible and often used in python. Classes are defined similarly to standard object-oriented languages, with similar functionalities.\n",
    "\n",
    "The main python doc [page](https://docs.python.org/3.6/tutorial/classes.html) is worth reading through "
   ]
  },
  {
   "cell_type": "code",
   "execution_count": 58,
   "metadata": {},
   "outputs": [
    {
     "name": "stdout",
     "output_type": "stream",
     "text": [
      "buddy 12\n",
      "3\n"
     ]
    }
   ],
   "source": [
    "class Pet:\n",
    "    # the \"constructor\"\n",
    "    def __init__(self, name, age):  #inizialize the elements of the class\n",
    "        self.name=name\n",
    "        self.age=age\n",
    "    # class functions take the \"self\" parameter !!!\n",
    "    def set_name(self,name):\n",
    "        self.name=name\n",
    "    def convert_age(self,factor):\n",
    "        self.age*=factor\n",
    "\n",
    "buddy=Pet(\"buddy\",12)\n",
    "print (buddy.name, buddy.age)\n",
    "buddy.age=3 #equivalent of setter function\n",
    "print (buddy.age)\n",
    "\n"
   ]
  },
  {
   "cell_type": "code",
   "execution_count": 60,
   "metadata": {},
   "outputs": [
    {
     "name": "stdout",
     "output_type": "stream",
     "text": [
      "tobia\n",
      "70\n"
     ]
    }
   ],
   "source": [
    "# ineritance is straightforward\n",
    "class Dog(Pet):\n",
    "    # the following variables is \"global\", i.e. holds for all \"Dog\" objects\n",
    "    species = \"mammal\"\n",
    "    # functions can be redefined as usual\n",
    "    def convert_age(self):\n",
    "        self.age*=7\n",
    "    def set_species(self, species):\n",
    "        self.species = species\n",
    "        \n",
    "puppy=Dog(\"tobia\",10)\n",
    "print(puppy.name)\n",
    "puppy.convert_age()\n",
    "print(puppy.age)\n",
    "\n"
   ]
  },
  {
   "cell_type": "code",
   "execution_count": null,
   "metadata": {},
   "outputs": [],
   "source": []
  }
 ],
 "metadata": {
  "kernelspec": {
   "display_name": "Python 3",
   "language": "python",
   "name": "python3"
  },
  "language_info": {
   "codemirror_mode": {
    "name": "ipython",
    "version": 3
   },
   "file_extension": ".py",
   "mimetype": "text/x-python",
   "name": "python",
   "nbconvert_exporter": "python",
   "pygments_lexer": "ipython3",
   "version": "3.6.9"
  }
 },
 "nbformat": 4,
 "nbformat_minor": 2
}
