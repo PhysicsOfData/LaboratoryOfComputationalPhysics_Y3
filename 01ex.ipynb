{
 "cells": [
  {
   "cell_type": "code",
   "execution_count": 5,
   "metadata": {},
   "outputs": [
    {
     "name": "stdout",
     "output_type": "stream",
     "text": [
      "[(0, 0), (0, 1), (0, 2), (0, 3), (1, 0), (1, 1), (1, 2), (1, 3), (2, 0), (2, 1), (2, 2), (2, 3)]\n",
      "[0, 4, 16]\n"
     ]
    }
   ],
   "source": [
    "ans = [(i,j)for i in range(3) for j in range(4)]\n",
    "print(ans)\n",
    "ans=[x*x for x in range(5) if x%2==0]\n",
    "print(ans)"
   ]
  },
  {
   "cell_type": "code",
   "execution_count": 12,
   "metadata": {},
   "outputs": [
    {
     "name": "stdout",
     "output_type": "stream",
     "text": [
      "[1, 2, 3, 0, 1, 2, 3, 4]\n",
      "[1, 2, 3]\n"
     ]
    }
   ],
   "source": [
    "x = 5\n",
    "def f(alist):\n",
    "    alist = [1,2,3]\n",
    "    for i in range(x):\n",
    "         alist.append(i)\n",
    "    return alist\n",
    "\n",
    "alist = [1,2,3]\n",
    "ans = f(alist)\n",
    "print (ans)\n",
    "print (alist) # alist has been changed!"
   ]
  },
  {
   "cell_type": "code",
   "execution_count": 76,
   "metadata": {},
   "outputs": [
    {
     "name": "stdout",
     "output_type": "stream",
     "text": [
      "Hello!\n"
     ]
    },
    {
     "data": {
      "text/plain": [
       "9"
      ]
     },
     "execution_count": 76,
     "metadata": {},
     "output_type": "execute_result"
    }
   ],
   "source": [
    "x=3\n",
    "def my_decorator(func):\n",
    "    def wrapper():\n",
    "        func()\n",
    "        return x*x\n",
    "        \n",
    "    return wrapper\n",
    "@my_decorator\n",
    "def say_hello():\n",
    "    print('Hello!')\n",
    "say_hello()   \n",
    " "
   ]
  },
  {
   "cell_type": "code",
   "execution_count": 80,
   "metadata": {},
   "outputs": [
    {
     "data": {
      "text/plain": [
       "6"
      ]
     },
     "execution_count": 80,
     "metadata": {},
     "output_type": "execute_result"
    }
   ],
   "source": [
    "def factorial_recrusion(n): \n",
    "    if n < 0: \n",
    "        return 0\n",
    "    elif n == 0 or n == 1: \n",
    "        return 1\n",
    "    else: \n",
    "        fact = 1\n",
    "        while(n > 1): \n",
    "            fact *= n \n",
    "            n -= 1\n",
    "        return fact \n",
    "factorial(3)\n",
    "  "
   ]
  },
  {
   "cell_type": "code",
   "execution_count": 81,
   "metadata": {},
   "outputs": [
    {
     "data": {
      "text/plain": [
       "720"
      ]
     },
     "execution_count": 81,
     "metadata": {},
     "output_type": "execute_result"
    }
   ],
   "source": [
    "def factorial_nonrecrusion(n):\n",
    "    fact=1\n",
    "    if n < 0: \n",
    "        return 0\n",
    "    else:\n",
    "        for i in range(1,n+1):\n",
    "            fact=fact*i\n",
    "    return fact\n",
    "factorial_nonrecrusion(6)  "
   ]
  },
  {
   "cell_type": "code",
   "execution_count": 85,
   "metadata": {},
   "outputs": [
    {
     "name": "stdout",
     "output_type": "stream",
     "text": [
      "[[6.283185307179586, 12.566370614359172, 18.84955592153876], [3.141592653589793, 12.566370614359172, 28.274333882308138], [4.1887902047863905, 33.510321638291124, 113.09733552923254]]\n",
      "0.5 3.141592653589793\n",
      "1 12.566370614359172\n",
      "2 37.69911184307752\n",
      "0.5 1.5707963267948966\n",
      "1 12.566370614359172\n",
      "2 56.548667764616276\n",
      "0.5 2.0943951023931953\n",
      "1 33.510321638291124\n",
      "2 226.19467105846508\n",
      "3 18.84955592153876\n",
      "4 50.26548245743669\n",
      "5 94.24777960769379\n",
      "3 9.42477796076938\n",
      "4 50.26548245743669\n",
      "5 141.3716694115407\n",
      "3 12.566370614359172\n",
      "4 134.0412865531645\n",
      "5 565.4866776461627\n",
      "15 94.24777960769379\n",
      "20 251.32741228718345\n",
      "30 565.4866776461628\n",
      "15 47.12388980384689\n",
      "20 251.32741228718345\n",
      "30 848.2300164692441\n",
      "15 62.831853071795855\n",
      "20 670.2064327658225\n",
      "30 3392.920065876976\n"
     ]
    }
   ],
   "source": [
    "from math import pi\n",
    "densities = {\"Al\":[0.5,1,2],\"Fe\":[3,4,5],\"Pb\": [15,20,30]}\n",
    "radii = [1,2,3]\n",
    "c = [i for i in map(lambda x:2*pi*x, radii)]\n",
    "a = [i for i in map(lambda x:pi*x**2, radii)]\n",
    "v = [i for i in map(lambda x:(4/3)*pi*(x**3), radii)]\n",
    "temp = [[],[],[]]\n",
    "for x,y,z in zip(c, a, v):\n",
    "    temp[0].append(x)\n",
    "    temp[1].append(y)\n",
    "    temp[2].append(z)\n",
    "print(temp)\n",
    "for i in densities:\n",
    "    for j in temp:\n",
    "         for x, y in zip(densities[i], j):\n",
    "                print (x, y*x)"
   ]
  },
  {
   "cell_type": "code",
   "execution_count": 91,
   "metadata": {},
   "outputs": [
    {
     "name": "stdout",
     "output_type": "stream",
     "text": [
      "I have 3 dogs.\n",
      "Tom is 6 .\n",
      "Fletcher is 7 .\n",
      "Larry is 9 .\n",
      "And they're all mammals, of course.\n",
      "my dogs are not hungry.\n"
     ]
    }
   ],
   "source": [
    "class Dog:\n",
    "\n",
    "    # Class attribute\n",
    "    species = 'mammal'\n",
    "\n",
    "    # Initializer / Instance attributes\n",
    "    def __init__(self, name, age):\n",
    "        self.name = name\n",
    "        self.age = age\n",
    "        self.is_hungry = True\n",
    "\n",
    "    # instance method\n",
    "    def description(self):\n",
    "        return \"{} is {} years old\".format(self.name, self.age)\n",
    "\n",
    "    # instance method\n",
    "    def speak(self, sound):\n",
    "        return \"{} says {}\".format(self.name, sound)\n",
    "    \n",
    "    def eat(self):\n",
    "        self.is_hungry = False\n",
    "\n",
    "# Child class (inherits from Dog class)\n",
    "class RussellTerrier(Dog):\n",
    "    def run(self, speed):\n",
    "        return \"{} runs {}\".format(self.name, speed)\n",
    "\n",
    "# Child class (inherits from Dog class)\n",
    "class Bulldog(Dog):\n",
    "    def run(self, speed):\n",
    "        return \"{} runs {}\".format(self.name, speed)\n",
    "Tom=Dog('Tom',6)\n",
    "Fletcher = RussellTerrier('Fletcher',7)\n",
    "Larry = Bulldog('Larry',9)\n",
    "dogs = [Tom, Fletcher, Larry]\n",
    "print('I have',len(dogs),'dogs.')\n",
    "for dog in dogs:\n",
    "    print(dog.name,'is',dog.age,'.')\n",
    "print(\"And they're all mammals, of course.\")\n",
    "for dog in dogs:\n",
    "    Tom.eat()\n",
    "    Larry.eat()\n",
    "    Fletcher.eat()\n",
    "    is_all = [dog for dog in dogs if dog.is_hungry == True]\n",
    "if(len(is_all) == len(dogs)):\n",
    "    print('My dogs are hungry')\n",
    "elif(len(is_all) == 0):\n",
    "    print('my dogs are not hungry.')\n",
    "else:\n",
    "    print('some of my dogs are hungry.')"
   ]
  },
  {
   "cell_type": "code",
   "execution_count": null,
   "metadata": {},
   "outputs": [],
   "source": []
  }
 ],
 "metadata": {
  "kernelspec": {
   "display_name": "Python 3",
   "language": "python",
   "name": "python3"
  },
  "language_info": {
   "codemirror_mode": {
    "name": "ipython",
    "version": 3
   },
   "file_extension": ".py",
   "mimetype": "text/x-python",
   "name": "python",
   "nbconvert_exporter": "python",
   "pygments_lexer": "ipython3",
   "version": "3.8.3"
  }
 },
 "nbformat": 4,
 "nbformat_minor": 4
}
