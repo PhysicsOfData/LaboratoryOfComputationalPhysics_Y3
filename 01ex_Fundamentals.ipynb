{
 "cells": [
  {
   "cell_type": "markdown",
   "metadata": {},
   "source": [
    "1\\. Write the following as a list comprehension"
   ]
  },
  {
   "cell_type": "code",
   "execution_count": 1,
   "metadata": {},
   "outputs": [],
   "source": [
    "# 1\n",
    "ans = []\n",
    "for i in range(3):\n",
    "    for j in range(4):\n",
    "        ans.append((i, j))\n",
    "print (ans)\n",
    "\n",
    "#list comprehension\n",
    "ans = []\n",
    "ans = [(i,j) for i in range(3) for j in range(4)]\n",
    "print(ans)\n",
    "\n",
    "# 2\n",
    "ans =[]\n",
    "ans = map(lambda x: x*x, filter(lambda x: x%2 == 0, range(5)))\n",
    "print(list(ans))\n",
    "\n",
    "#list comprehension\n",
    "ans = []\n",
    "ans = [i*i for i in range (5) if i % 2 == 0 ]\n",
    "print(ans)"
   ]
  },
  {
   "cell_type": "markdown",
   "metadata": {},
   "source": [
    "2\\. Convert the following function into a pure function with no global variables or side effects"
   ]
  },
  {
   "cell_type": "code",
   "execution_count": 1,
   "metadata": {
    "scrolled": true
   },
   "outputs": [
    {
     "name": "stdout",
     "output_type": "stream",
     "text": [
      "[1, 2, 3]\n",
      "[0, 1, 2, 3, 4]\n",
      "[1, 2, 3]\n"
     ]
    }
   ],
   "source": [
    "x = 5\n",
    "alist = [1,2,3]\n",
    "def f(alist):\n",
    "    alist = []\n",
    "    for i in range(x):\n",
    "         alist.append(i)\n",
    "    return alist\n",
    "\n",
    "print(alist)\n",
    "print(f(alist))\n",
    "print(alist)"
   ]
  },
  {
   "cell_type": "markdown",
   "metadata": {},
   "source": [
    "3\\. Write a `decorator` hello that makes every wrapped function print “Hello!”, i.e. something like:\n",
    "\n",
    "```python\n",
    "@hello\n",
    "def square(x):\n",
    "    return x*x\n",
    "```\n",
    "\n"
   ]
  },
  {
   "cell_type": "code",
   "execution_count": 3,
   "metadata": {},
   "outputs": [
    {
     "name": "stdout",
     "output_type": "stream",
     "text": [
      "Hello\n",
      "25\n",
      "Hello\n"
     ]
    }
   ],
   "source": [
    "def hello(func): \n",
    "    print(\"Hello\")\n",
    "    def wrapper(argument): \n",
    "        print(func(argument)) \n",
    "        print(\"Hello\")\n",
    "    return wrapper\n",
    "\n",
    "\n",
    "@hello\n",
    "def square(x):\n",
    "    return x*x\n",
    "\n",
    "square(5)"
   ]
  },
  {
   "cell_type": "markdown",
   "metadata": {},
   "source": [
    "4\\. Write the factorial function so that it a) does and b) does not use recursion."
   ]
  },
  {
   "cell_type": "code",
   "execution_count": 4,
   "metadata": {},
   "outputs": [
    {
     "name": "stdout",
     "output_type": "stream",
     "text": [
      "Enter a number: 4\n",
      "The factorial of 4 is 24\n",
      "Enter a number: 4\n",
      "The factorial of 4 is 24\n"
     ]
    }
   ],
   "source": [
    "#a)\n",
    "#write a number\n",
    "n = int(input(\"Enter a number: \"))\n",
    "\n",
    "def recur_fact(n):  \n",
    "   if n == 1:  \n",
    "       return n  \n",
    "   else:  \n",
    "       return n*recur_fact(n-1)  \n",
    "   \n",
    "if n < 0:  \n",
    "   print(\"Factorial does not exist for negative numbers\")  \n",
    "elif n == 0:  \n",
    "   print(\"The factorial of 0 is 1\")  \n",
    "else:  \n",
    "   print(\"The factorial of\",n,\"is\",recur_fact(n))  \n",
    "\n",
    "\n",
    "#without recursion b)\n",
    "num = int(input(\"Enter a number: \"))\n",
    "def fact(num):\n",
    "    factorial = 1\n",
    "\n",
    "    #negative, positive or zero\n",
    "    if num < 0:\n",
    "       print(\"Factorial does not exist for negative numbers\")\n",
    "    elif num == 0:\n",
    "       print(\"The factorial of 0 is 1\")\n",
    "    else:\n",
    "       for i in range(1,num + 1):\n",
    "           factorial = factorial*i          \n",
    "    return print(\"The factorial of\",num,\"is\",factorial)\n",
    "\n",
    "fact(num)"
   ]
  },
  {
   "cell_type": "markdown",
   "metadata": {},
   "source": [
    "5\\. Use HOFs (zip in particular) to compute the weight of a circle, a disk and a sphere, assuming different radii and different densities:\n",
    "\n",
    "```python\n",
    "densities = {\"Al\":[0.5,1,2],\"Fe\":[3,4,5],\"Pb\": [15,20,30]}\n",
    "radii = [1,2,3]\n",
    "```\n",
    "\n",
    "where the entries of the dictionary's values are the linear, superficial and volumetric densities of the materials respectively.\n",
    "\n",
    "In particular define a list of three lambda functions using a comprehension that computes the circumference, the area and the volume for a given radius.\n"
   ]
  },
  {
   "cell_type": "code",
   "execution_count": 5,
   "metadata": {},
   "outputs": [
    {
     "name": "stdout",
     "output_type": "stream",
     "text": [
      "[6.283185307179586, 12.566370614359172, 18.84955592153876]\n",
      "[3.141592653589793, 12.566370614359172, 28.274333882308138]\n",
      "[4.1887902047863905, 33.510321638291124, 113.09733552923254]\n",
      "[[6.283185307179586, 12.566370614359172, 18.84955592153876], [3.141592653589793, 12.566370614359172, 28.274333882308138], [4.1887902047863905, 33.510321638291124, 113.09733552923254]]\n",
      "0.5 3.141592653589793\n",
      "1 12.566370614359172\n",
      "2 37.69911184307752\n",
      "0.5 1.5707963267948966\n",
      "1 12.566370614359172\n",
      "2 56.548667764616276\n",
      "0.5 2.0943951023931953\n",
      "1 33.510321638291124\n",
      "2 226.19467105846508\n",
      "3 18.84955592153876\n",
      "4 50.26548245743669\n",
      "5 94.24777960769379\n",
      "3 9.42477796076938\n",
      "4 50.26548245743669\n",
      "5 141.3716694115407\n",
      "3 12.566370614359172\n",
      "4 134.0412865531645\n",
      "5 565.4866776461627\n",
      "15 94.24777960769379\n",
      "20 251.32741228718345\n",
      "30 565.4866776461628\n",
      "15 47.12388980384689\n",
      "20 251.32741228718345\n",
      "30 848.2300164692441\n",
      "15 62.831853071795855\n",
      "20 670.2064327658225\n",
      "30 3392.920065876976\n"
     ]
    }
   ],
   "source": [
    "from math import pi\n",
    "densities = {\"Al\":[0.5,1,2],\"Fe\":[3,4,5],\"Pb\": [15,20,30]}\n",
    "radii = [1,2,3]\n",
    "\n",
    "c = [i for i in map(lambda x:2*pi*x, radii)] #list for circumference\n",
    "print(c)\n",
    "a = [i for i in map(lambda x:pi*x**2, radii)] #list for area\n",
    "print(a)\n",
    "v = [i for i in map(lambda x:(4/3)*pi*(x**3), radii)] #list for volume\n",
    "print(v)\n",
    "\n",
    "temp = [[],[],[]] #save\n",
    "for x,y,z in zip(c, a, v):\n",
    "      temp[0].append(x)\n",
    "      temp[1].append(y)\n",
    "      temp[2].append(z)\n",
    "print(temp)\n",
    "        \n",
    "#calculate mass        \n",
    "for i in densities: #for each key of the dictionary\n",
    "    for j in temp:\n",
    "      for x, y in zip(densities[i], j): \n",
    "         print (x, y*x) "
   ]
  },
  {
   "cell_type": "markdown",
   "metadata": {},
   "source": [
    "6\\. Edit the class defintion to add an instance attribute of is_hungry = True to the Dog class. Then add a method called eat() which changes the value of is_hungry to False when called. Figure out the best way to feed each dog and then output “My dogs are hungry.” if all are hungry or “My dogs are not hungry.” if all are not hungry. The final output should look like this:\n",
    "\n",
    "`I have 3 dogs. \n",
    "Tom is 6. \n",
    "Fletcher is 7. \n",
    "Larry is 9. \n",
    "And they're all mammals, of course. \n",
    "My dogs are not hungry.\n",
    "`\n",
    "\n",
    "```python\n",
    "# Parent class\n",
    "class Dog:\n",
    "\n",
    "    # Class attribute\n",
    "    species = 'mammal'\n",
    "\n",
    "    # Initializer / Instance attributes\n",
    "    def __init__(self, name, age):\n",
    "        self.name = name\n",
    "        self.age = age\n",
    "\n",
    "    # instance method\n",
    "    def description(self):\n",
    "        return \"{} is {} years old\".format(self.name, self.age)\n",
    "\n",
    "    # instance method\n",
    "    def speak(self, sound):\n",
    "        return \"{} says {}\".format(self.name, sound)\n",
    "\n",
    "# Child class (inherits from Dog class)\n",
    "class RussellTerrier(Dog):\n",
    "    def run(self, speed):\n",
    "        return \"{} runs {}\".format(self.name, speed)\n",
    "\n",
    "# Child class (inherits from Dog class)\n",
    "class Bulldog(Dog):\n",
    "    def run(self, speed):\n",
    "        return \"{} runs {}\".format(self.name, speed)\n",
    "```"
   ]
  },
  {
   "cell_type": "code",
   "execution_count": 6,
   "metadata": {},
   "outputs": [],
   "source": [
    "class Dog:\n",
    "    species = 'mammal'\n",
    "    def __init__(self, name, age):\n",
    "        self.name = name\n",
    "        self.age = age\n",
    "        self.is_hungry = True\n",
    " \n",
    "        # instance method\n",
    "    def description(self):\n",
    "        return \"{} is {} years old\".format(self.name, self.age)\n",
    "    \n",
    "       # instance method\n",
    "    def speak(self, sound):\n",
    "         return \"{} says {}\".format(self.name, sound)\n",
    "    \n",
    "    def eat(self):\n",
    "        self.is_hungry = False\n",
    "    \n",
    "    # Child class (inherits from Dog class)\n",
    "class RussellTerrier(Dog):\n",
    "    def run(self, speed):\n",
    "        return \"{} runs {}\".format(self.name, speed)\n",
    "    \n",
    "class Bulldog(Dog):\n",
    "    def run(self, speed):\n",
    "        return\"{} runs {}\".format(self.name, speed)\n"
   ]
  },
  {
   "cell_type": "code",
   "execution_count": 7,
   "metadata": {},
   "outputs": [
    {
     "name": "stdout",
     "output_type": "stream",
     "text": [
      "I have 3 dogs.\n",
      "Tom is 6\n",
      "Fletcher is 7\n",
      "Larry is 9\n",
      "And they're all mammals, of course\n",
      "My dogs are not hungry\n"
     ]
    }
   ],
   "source": [
    "Tom = Dog(\"Tom\", 6)\n",
    "Fletcher = RussellTerrier(\"Fletcher\", 7)\n",
    "Larry = Bulldog(\"Larry\", 9)\n",
    "dogs = [Tom, Fletcher, Larry]\n",
    "print(\"I have\",len(dogs),\"dogs.\")\n",
    "\n",
    "for dog in dogs: \n",
    "    print(dog.name,\"is\",dog.age)\n",
    "    \n",
    "print(\"And they're all mammals, of course\")\n",
    "    \n",
    "for dog in dogs:\n",
    "    dog.eat()\n",
    "    is_all = [dog for dog in dogs if dog.is_hungry == True]\n",
    "    \n",
    "    \n",
    "if(len(is_all) == len(dogs)):\n",
    "    print(\"My dogs are hungry\")\n",
    "elif(len(is_all) == 0):\n",
    "    print(\"My dogs are not hungry\")\n",
    "else:\n",
    "    print(\"Some of my dogs are hungry\")\n",
    "    "
   ]
  },
  {
   "cell_type": "code",
   "execution_count": null,
   "metadata": {},
   "outputs": [],
   "source": []
  }
 ],
 "metadata": {
  "kernelspec": {
   "display_name": "Python 3",
   "language": "python",
   "name": "python3"
  },
  "language_info": {
   "codemirror_mode": {
    "name": "ipython",
    "version": 3
   },
   "file_extension": ".py",
   "mimetype": "text/x-python",
   "name": "python",
   "nbconvert_exporter": "python",
   "pygments_lexer": "ipython3",
   "version": "3.7.3"
  }
 },
 "nbformat": 4,
 "nbformat_minor": 2
}
