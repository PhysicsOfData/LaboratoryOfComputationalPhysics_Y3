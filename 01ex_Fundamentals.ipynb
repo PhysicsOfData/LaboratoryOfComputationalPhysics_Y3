{
 "cells": [
  {
   "cell_type": "markdown",
   "metadata": {},
   "source": [
    "1\\. Write the following as a list comprehension"
   ]
  },
  {
   "cell_type": "code",
   "execution_count": 49,
   "metadata": {},
   "outputs": [
    {
     "name": "stdout",
     "output_type": "stream",
     "text": [
      "[0, 4, 16]\n"
     ]
    }
   ],
   "source": [
    "# 1\n",
    "ans = []\n",
    "for i in range(3):\n",
    "    for j in range(4):\n",
    "        ans.append((i, j))\n",
    "#print (ans)\n",
    "\n",
    "\n",
    "# 2\n",
    "ans = map(lambda x: x*x, filter(lambda x: x%2 == 0, range(5)))\n",
    "print (list(ans))\n",
    "\n",
    "\n",
    "\n"
   ]
  },
  {
   "cell_type": "code",
   "execution_count": 46,
   "metadata": {},
   "outputs": [
    {
     "name": "stdout",
     "output_type": "stream",
     "text": [
      "[(0, 0), (0, 1), (0, 2), (0, 3), (1, 0), (1, 1), (1, 2), (1, 3), (2, 0), (2, 1), (2, 2), (2, 3)]\n"
     ]
    }
   ],
   "source": [
    "#1\n",
    "ans = ([(x,y) for x in range(3) for y in range(4)])\n",
    "print (ans)"
   ]
  },
  {
   "cell_type": "code",
   "execution_count": 53,
   "metadata": {
    "scrolled": true
   },
   "outputs": [
    {
     "name": "stdout",
     "output_type": "stream",
     "text": [
      "[0, 4, 16]\n"
     ]
    }
   ],
   "source": [
    "#2\n",
    "ans = ([x**2 for x in range (5) if x%2==0])\n",
    "print (ans)"
   ]
  },
  {
   "cell_type": "markdown",
   "metadata": {},
   "source": [
    "2\\. Convert the following function into a pure function with no global variables or side effects"
   ]
  },
  {
   "cell_type": "code",
   "execution_count": 63,
   "metadata": {
    "scrolled": true
   },
   "outputs": [
    {
     "name": "stdout",
     "output_type": "stream",
     "text": [
      "[1, 2, 3, 0, 1, 2, 3, 4]\n",
      "[1, 2, 3, 0, 1, 2, 3, 4]\n"
     ]
    }
   ],
   "source": [
    "x = 5\n",
    "def f(alist):\n",
    "    for i in range(x):\n",
    "         alist.append(i)\n",
    "    return alist\n",
    "\n",
    "alist = [1,2,3]\n",
    "ans = f(alist)\n",
    "print (ans)\n",
    "print (alist) # alist has been changed!"
   ]
  },
  {
   "cell_type": "code",
   "execution_count": 3,
   "metadata": {},
   "outputs": [
    {
     "name": "stdout",
     "output_type": "stream",
     "text": [
      "[1, 2, 3, 0, 1, 2, 3, 4]\n",
      "[1, 2, 3]\n"
     ]
    }
   ],
   "source": [
    "x = 5\n",
    "def fun(list):\n",
    "    a = []\n",
    "    for i in range (len(list)):\n",
    "        a.append(list[i])\n",
    "    list = a\n",
    "    for i in range (x):\n",
    "        list.append(i)\n",
    "    return list\n",
    "    \n",
    "list = [1,2,3]\n",
    "a=fun(list)\n",
    "print (a)\n",
    "print(list)"
   ]
  },
  {
   "cell_type": "markdown",
   "metadata": {},
   "source": [
    "3\\. Write a `decorator` hello that makes every wrapped function print “Hello!”, i.e. something like:\n",
    "\n",
    "```python\n",
    "@hello\n",
    "def square(x):\n",
    "    return x*x\n",
    "```\n",
    "\n"
   ]
  },
  {
   "cell_type": "code",
   "execution_count": 7,
   "metadata": {},
   "outputs": [
    {
     "name": "stdout",
     "output_type": "stream",
     "text": [
      "Hello!\n",
      "Forza Milan!!!\n",
      "Hello!\n"
     ]
    }
   ],
   "source": [
    "def decorator(func):\n",
    "    def wrap():\n",
    "        print(\"Hello!\")\n",
    "        func()\n",
    "        print(\"Hello!\")\n",
    "    return wrap\n",
    "\n",
    "def forza_milan():\n",
    "    print(\"Forza Milan!!!\")\n",
    "\n",
    "forza_milan = decorator(forza_milan)\n",
    "forza_milan()"
   ]
  },
  {
   "cell_type": "markdown",
   "metadata": {},
   "source": [
    "4\\. Write the factorial function so that it a) does and b) does not use recursion."
   ]
  },
  {
   "cell_type": "code",
   "execution_count": 81,
   "metadata": {},
   "outputs": [
    {
     "name": "stdout",
     "output_type": "stream",
     "text": [
      "120\n",
      "120\n"
     ]
    }
   ],
   "source": [
    "# a)\n",
    "def factoriala(n):\n",
    "    if n == 1 or n == 0:\n",
    "        return 1\n",
    "    else:\n",
    "        return n*factoriala(n-1)\n",
    "\n",
    "print(factoriala(5))\n",
    "\n",
    "# b)\n",
    "def factorialb(n):\n",
    "    f=n\n",
    "    if n==0:\n",
    "        return (print(1))\n",
    "    if n<0:\n",
    "        return (print(\"Il fattoriale è definito solo per numeri positivi!\"))\n",
    "    else:\n",
    "        for i in range(1, n):\n",
    "            f = f*(n-i)\n",
    "        return (print(f))\n",
    "    \n",
    "\n",
    "(factorialb(5))\n",
    "        \n"
   ]
  },
  {
   "cell_type": "markdown",
   "metadata": {},
   "source": [
    "5\\. Use HOFs (zip in particular) to compute the weight of a circle, a disk and a sphere, assuming different radii and different densities:\n",
    "\n",
    "```python\n",
    "densities = {\"Al\":[0.5,1,2],\"Fe\":[3,4,5],\"Pb\": [15,20,30]}\n",
    "radii = [1,2,3]\n",
    "```\n",
    "\n",
    "where the entries of the dictionary's values are the linear, superficial and volumetric densities of the materials respectively.\n",
    "\n",
    "In particular define a list of three lambda functions using a comprehension that computes the circumference, the area and the volume for a given radius.\n"
   ]
  },
  {
   "cell_type": "code",
   "execution_count": 142,
   "metadata": {},
   "outputs": [
    {
     "name": "stdout",
     "output_type": "stream",
     "text": [
      "0.5 // 6.283185307179586 // 3.141592653589793 \n",
      "\n",
      "1 // 3.141592653589793 // 3.141592653589793 \n",
      "\n",
      "2 // 4.1887902047863905 // 8.377580409572781 \n",
      "\n",
      "0.5 // 12.566370614359172 // 6.283185307179586 \n",
      "\n",
      "1 // 12.566370614359172 // 12.566370614359172 \n",
      "\n",
      "2 // 33.510321638291124 // 67.02064327658225 \n",
      "\n",
      "0.5 // 18.84955592153876 // 9.42477796076938 \n",
      "\n",
      "1 // 28.274333882308138 // 28.274333882308138 \n",
      "\n",
      "2 // 113.09733552923254 // 226.19467105846508 \n",
      "\n",
      "3 // 6.283185307179586 // 18.84955592153876 \n",
      "\n",
      "4 // 3.141592653589793 // 12.566370614359172 \n",
      "\n",
      "5 // 4.1887902047863905 // 20.94395102393195 \n",
      "\n",
      "3 // 12.566370614359172 // 37.69911184307752 \n",
      "\n",
      "4 // 12.566370614359172 // 50.26548245743669 \n",
      "\n",
      "5 // 33.510321638291124 // 167.5516081914556 \n",
      "\n",
      "3 // 18.84955592153876 // 56.548667764616276 \n",
      "\n",
      "4 // 28.274333882308138 // 113.09733552923255 \n",
      "\n",
      "5 // 113.09733552923254 // 565.4866776461627 \n",
      "\n",
      "15 // 6.283185307179586 // 94.24777960769379 \n",
      "\n",
      "20 // 3.141592653589793 // 62.83185307179586 \n",
      "\n",
      "30 // 4.1887902047863905 // 125.66370614359171 \n",
      "\n",
      "15 // 12.566370614359172 // 188.49555921538757 \n",
      "\n",
      "20 // 12.566370614359172 // 251.32741228718345 \n",
      "\n",
      "30 // 33.510321638291124 // 1005.3096491487337 \n",
      "\n",
      "15 // 18.84955592153876 // 282.7433388230814 \n",
      "\n",
      "20 // 28.274333882308138 // 565.4866776461628 \n",
      "\n",
      "30 // 113.09733552923254 // 3392.920065876976 \n",
      "\n"
     ]
    }
   ],
   "source": [
    "import math\n",
    "densities = {\"Al\":[0.5,1,2],\"Fe\":[3,4,5],\"Pb\": [15,20,30]}\n",
    "radii = [1,2,3]\n",
    "\n",
    "c = [i for i in map(lambda x: 2*math.pi*x, radii)]\n",
    "a = [i for i in map(lambda x: math.pi*x**2, radii)]\n",
    "v = [i for i in map(lambda x: 4/3*math.pi*x**3, radii)]\n",
    "\n",
    "cav = [[], [], []]\n",
    "\n",
    "for i in range (3):\n",
    "    cav[i].append(c[i])\n",
    "    cav[i].append(a[i])\n",
    "    cav[i].append(v[i])\n",
    "\n",
    "for i in densities:\n",
    "    for j in range(3):\n",
    "        for x, y in zip(densities[i], cav[j]):\n",
    "            print(x,'//', y, '//', x*y, '\\n')\n"
   ]
  },
  {
   "cell_type": "markdown",
   "metadata": {},
   "source": [
    "6\\. Edit the class defintion to add an instance attribute of is_hungry = True to the Dog class. Then add a method called eat() which changes the value of is_hungry to False when called. Figure out the best way to feed each dog and then output “My dogs are hungry.” if all are hungry or “My dogs are not hungry.” if all are not hungry. The final output should look like this:\n",
    "\n",
    "`I have 3 dogs. \n",
    "Tom is 6. \n",
    "Fletcher is 7. \n",
    "Larry is 9. \n",
    "And they're all mammals, of course. \n",
    "My dogs are not hungry.\n",
    "`"
   ]
  },
  {
   "cell_type": "code",
   "execution_count": 151,
   "metadata": {},
   "outputs": [
    {
     "name": "stdout",
     "output_type": "stream",
     "text": [
      "I have 3 dogs\n",
      "Doggo is 10\n",
      "Fifo is 1\n",
      "Leone is 12\n",
      "And they're all mammals, of course\n",
      "My dogs are not hungry\n"
     ]
    }
   ],
   "source": [
    "# Parent class\n",
    "class Dog:\n",
    "\n",
    "    # Class attribute\n",
    "    species = 'mammal'\n",
    "    is_hungry = 'True'\n",
    "\n",
    "    # Initializer / Instance attributes\n",
    "    def __init__(self, name, age):\n",
    "        self.name = name\n",
    "        self.age = age\n",
    "\n",
    "    # instance method\n",
    "    def description(self):\n",
    "        return \"{} is {} years old\".format(self.name, self.age)\n",
    "    \n",
    "    # exercise method\n",
    "    def eat(self):\n",
    "        self.is_hungry = 'False'\n",
    "\n",
    "# Child class (inherits from Dog class)\n",
    "class Bulldog(Dog):\n",
    "    def run(self, speed):\n",
    "        return \"{} runs {}\".format(self.name, speed)\n",
    "    \n",
    "doggo = Dog(\"Doggo\", 10)\n",
    "fifo = Dog(\"Fifo\", 1)\n",
    "leone = Dog(\"Leone\", 12)\n",
    "\n",
    "dogs = [doggo, fifo, leone]\n",
    "\n",
    "print(\"I have {} dogs\".format(len(dogs)))\n",
    "\n",
    "for i in range (len(dogs)):\n",
    "    print(\"{} is {}\".format(dogs[i].name, dogs[i].age))\n",
    "    \n",
    "print(\"And they're all {}s, of course\".format(Dog.species))\n",
    "\n",
    "for i in range(len(dogs)):\n",
    "    dogs[i].eat()\n",
    "\n",
    "hunger = [i for i in dogs if i.is_hungry == True]\n",
    "\n",
    "if len(hunger)==0:\n",
    "    print(\"My dogs are not hungry\")\n",
    "if len(hunger)==len(dogs):\n",
    "    print(\"My dogs are hungry\")"
   ]
  }
 ],
 "metadata": {
  "kernelspec": {
   "display_name": "Python 3",
   "language": "python",
   "name": "python3"
  },
  "language_info": {
   "codemirror_mode": {
    "name": "ipython",
    "version": 3
   },
   "file_extension": ".py",
   "mimetype": "text/x-python",
   "name": "python",
   "nbconvert_exporter": "python",
   "pygments_lexer": "ipython3",
   "version": "3.5.4"
  }
 },
 "nbformat": 4,
 "nbformat_minor": 2
}
