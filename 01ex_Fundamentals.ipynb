{
 "cells": [
  {
   "cell_type": "markdown",
   "metadata": {},
   "source": [
    "1\\. Write the following as a list comprehension"
   ]
  },
  {
   "cell_type": "code",
   "execution_count": null,
   "metadata": {},
   "outputs": [],
   "source": [
    "# 1\n",
    "ans = []\n",
    "for i in range(3):\n",
    "    for j in range(4):\n",
    "        ans.append((i, j))\n",
    "print (ans)\n",
    "\n",
    "# 2\n",
    "ans = map(lambda x: x*x, filter(lambda x: x % 2 == 0, range(5)))\n",
    "print (list(ans))"
   ]
  },
  {
   "cell_type": "code",
   "execution_count": 27,
   "metadata": {},
   "outputs": [
    {
     "name": "stdout",
     "output_type": "stream",
     "text": [
      "[(0, 0), (0, 1), (0, 2), (0, 3), (1, 0), (1, 1), (1, 2), (1, 3), (2, 0), (2, 1), (2, 2), (2, 3)]\n",
      "[0, 4, 16]\n"
     ]
    }
   ],
   "source": [
    "#answers\n",
    "#1)\n",
    "\n",
    "ans = [(i,j) for i in range(3) for j in range(4)]\n",
    "print(ans)\n",
    "\n",
    "#2)\n",
    "ans = [x*x for x in range(5) if x % 2 == 0]\n",
    "print(ans)"
   ]
  },
  {
   "cell_type": "markdown",
   "metadata": {},
   "source": [
    "2\\. Convert the following function into a pure function with no global variables or side effects"
   ]
  },
  {
   "cell_type": "code",
   "execution_count": 28,
   "metadata": {},
   "outputs": [
    {
     "name": "stdout",
     "output_type": "stream",
     "text": [
      "[1, 2, 3, 0, 1, 2, 3, 4]\n",
      "[1, 2, 3, 0, 1, 2, 3, 4]\n"
     ]
    }
   ],
   "source": [
    "x = 5\n",
    "def f(alist):\n",
    "    for i in range(x):\n",
    "         alist.append(i)\n",
    "    return alist\n",
    "\n",
    "alist = [1,2,3]\n",
    "ans = f(alist)\n",
    "print (ans)\n",
    "print (alist) # alist has been changed!"
   ]
  },
  {
   "cell_type": "code",
   "execution_count": 29,
   "metadata": {},
   "outputs": [
    {
     "name": "stdout",
     "output_type": "stream",
     "text": [
      "[0, 1, 2, 3, 4]\n",
      "[1, 2, 3]\n"
     ]
    }
   ],
   "source": [
    "x = 5 \n",
    "def f(alist,z):\n",
    "    y = []\n",
    "    for i in range(z):\n",
    "        y.append(i)\n",
    "    return y\n",
    "\n",
    "alist = [1,2,3]\n",
    "ans = f(alist,x)\n",
    "print (ans)\n",
    "print (alist) # alist does not change anymore!"
   ]
  },
  {
   "cell_type": "markdown",
   "metadata": {},
   "source": [
    "3\\. Write a `decorator` hello that makes every wrapped function print “Hello!”, i.e. something like:\n",
    "\n",
    "```python\n",
    "@hello\n",
    "def square(x):\n",
    "    return x*x\n",
    "```\n",
    "\n"
   ]
  },
  {
   "cell_type": "code",
   "execution_count": 30,
   "metadata": {},
   "outputs": [
    {
     "name": "stdout",
     "output_type": "stream",
     "text": [
      "Hello!\n",
      "25\n",
      "I will 'McWrap' any function!\n"
     ]
    }
   ],
   "source": [
    "def hello(func):\n",
    "    def wrapper(x):\n",
    "        print(\"Hello!\")\n",
    "        print(func(x))\n",
    "        print(\"I will 'McWrap' any function!\")\n",
    "    return wrapper\n",
    "\n",
    "@hello\n",
    "def square(x):\n",
    "    return x * x\n",
    "square(x)"
   ]
  },
  {
   "cell_type": "markdown",
   "metadata": {},
   "source": [
    "4\\. Write the factorial function so that it a) does and b) does not use recursion."
   ]
  },
  {
   "cell_type": "code",
   "execution_count": 31,
   "metadata": {},
   "outputs": [],
   "source": [
    "#a) factorial without recursion\n",
    "n = 5\n",
    "\n",
    "def factorial(x):\n",
    "    out = x\n",
    "    if out == 1 or out == 0: return 1\n",
    "    else:  \n",
    "        for i in range(1,x):    \n",
    "            out *= i\n",
    "        return out\n",
    "\n",
    "    factorial(n)  \n"
   ]
  },
  {
   "cell_type": "code",
   "execution_count": 32,
   "metadata": {},
   "outputs": [
    {
     "data": {
      "text/plain": [
       "120"
      ]
     },
     "execution_count": 32,
     "metadata": {},
     "output_type": "execute_result"
    }
   ],
   "source": [
    "#a) factorial with recursion\n",
    "\n",
    "n = 5\n",
    "\n",
    "def factorial(x): \n",
    "    if x == 1 or x == 0: return 1\n",
    "    else: return factorial(x - 1) * x\n",
    "\n",
    "factorial(n)\n"
   ]
  },
  {
   "cell_type": "markdown",
   "metadata": {},
   "source": [
    "5\\. Use HOFs (zip in particular) to compute the weight of a circle, a disk and a sphere, assuming different radii and different densities:\n",
    "\n",
    "```python\n",
    "densities = {\"Al\":[0.5,1,2],\"Fe\":[3,4,5],\"Pb\": [15,20,30]}\n",
    "radii = [1,2,3]\n",
    "```\n",
    "\n",
    "where the entries of the dictionary's values are the linear, superficial and volumetric densities of the materials respectively.\n",
    "\n",
    "In particular define a list of three lambda functions using a comprehension that computes the circumference, the area and the volume for a given radius.\n"
   ]
  },
  {
   "cell_type": "code",
   "execution_count": 33,
   "metadata": {},
   "outputs": [
    {
     "name": "stdout",
     "output_type": "stream",
     "text": [
      "A circumnference made of Al, with radius 1, weights 3.141592653589793\n",
      "A circumnference made of Al, with radius 1, weights 6.283185307179586\n",
      "A circumnference made of Al, with radius 1, weights 9.42477796076938\n",
      "A disk made of Al, with radius 2, weights 3.141592653589793\n",
      "A disk made of Al, with radius 2, weights 12.566370614359172\n",
      "A disk made of Al, with radius 2, weights 28.274333882308138\n",
      "A sphere made of Al, with radius 3, weights 8.377580409572781\n",
      "A sphere made of Al, with radius 3, weights 67.02064327658225\n",
      "A sphere made of Al, with radius 3, weights 226.19467105846508\n",
      "A circumnference made of Fe, with radius 1, weights 18.84955592153876\n",
      "A circumnference made of Fe, with radius 1, weights 37.69911184307752\n",
      "A circumnference made of Fe, with radius 1, weights 56.548667764616276\n",
      "A disk made of Fe, with radius 2, weights 12.566370614359172\n",
      "A disk made of Fe, with radius 2, weights 50.26548245743669\n",
      "A disk made of Fe, with radius 2, weights 113.09733552923255\n",
      "A sphere made of Fe, with radius 3, weights 20.94395102393195\n",
      "A sphere made of Fe, with radius 3, weights 167.5516081914556\n",
      "A sphere made of Fe, with radius 3, weights 565.4866776461627\n",
      "A circumnference made of Pb, with radius 1, weights 94.24777960769379\n",
      "A circumnference made of Pb, with radius 1, weights 188.49555921538757\n",
      "A circumnference made of Pb, with radius 1, weights 282.7433388230814\n",
      "A disk made of Pb, with radius 2, weights 62.83185307179586\n",
      "A disk made of Pb, with radius 2, weights 251.32741228718345\n",
      "A disk made of Pb, with radius 2, weights 565.4866776461628\n",
      "A sphere made of Pb, with radius 3, weights 125.66370614359171\n",
      "A sphere made of Pb, with radius 3, weights 1005.3096491487337\n",
      "A sphere made of Pb, with radius 3, weights 3392.920065876976\n"
     ]
    }
   ],
   "source": [
    "densities = {\"Al\": [0.5,1,2],\"Fe\": [3,4,5],\"Pb\": [15,20,30]}\n",
    "radii = [1,2,3]\n",
    "\n",
    "import numpy as np\n",
    "\n",
    "func = [\n",
    "    lambda radii_list: [2 * np.pi * radius for radius in radii],\n",
    "    lambda radii_list: [np.pi * pow(radius, 2) for radius in radii],\n",
    "    lambda radii_list: [4/3 * np.pi * pow(radius, 3) for radius in radii]\n",
    "]\n",
    "\n",
    "for density in densities:\n",
    "    type = 0\n",
    "    for i,j in zip(densities[density], func):\n",
    "        for k in j(radii):\n",
    "            w = i * k\n",
    "            if type == 0: \n",
    "                print(\"A circumnference made of %s, with radius %s, weights %s\"\n",
    "                      %(density, radii[type],w))\n",
    "            elif type == 1:\n",
    "                print(\"A disk made of %s, with radius %s, weights %s\"\n",
    "                      %(density, radii[type], w))\n",
    "            else:\n",
    "                print(\"A sphere made of %s, with radius %s, weights %s\"\n",
    "                      %(density, radii[type], w))\n",
    "        type += 1"
   ]
  },
  {
   "cell_type": "markdown",
   "metadata": {},
   "source": [
    "6\\. Edit the class defintion to add an instance attribute of is_hungry = True to the Dog class. Then add a method called eat() which changes the value of is_hungry to False when called. Figure out the best way to feed each dog and then output “My dogs are hungry.” if all are hungry or “My dogs are not hungry.” if all are not hungry. The final output should look like this:\n",
    "\n",
    "`I have 3 dogs. \n",
    "Tom is 6. \n",
    "Fletcher is 7. \n",
    "Larry is 9. \n",
    "And they're all mammals, of course. \n",
    "My dogs are not hungry.\n",
    "`\n",
    "\n",
    "```python\n",
    "# Parent class\n",
    "class Dog:\n",
    "\n",
    "    # Class attribute\n",
    "    species = 'mammal'\n",
    "\n",
    "    # Initializer / Instance attributes\n",
    "    def __init__(self, name, age):\n",
    "        self.name = name\n",
    "        self.age = age\n",
    "\n",
    "    # instance method\n",
    "    def description(self):\n",
    "        return \"{} is {} years old\".format(self.name, self.age)\n",
    "\n",
    "    # instance method\n",
    "    def speak(self, sound):\n",
    "        return \"{} says {}\".format(self.name, sound)\n",
    "\n",
    "# Child class (inherits from Dog class)\n",
    "class RussellTerrier(Dog):\n",
    "    def run(self, speed):\n",
    "        return \"{} runs {}\".format(self.name, speed)\n",
    "\n",
    "# Child class (inherits from Dog class)\n",
    "class Bulldog(Dog):\n",
    "    def run(self, speed):\n",
    "        return \"{} runs {}\".format(self.name, speed)\n",
    "```"
   ]
  },
  {
   "cell_type": "code",
   "execution_count": 34,
   "metadata": {},
   "outputs": [
    {
     "name": "stdout",
     "output_type": "stream",
     "text": [
      "I have 3 dogs.\n",
      "Tom is 6 years old\n",
      "Fletcher is 7 years old\n",
      "Larry is 9 years old\n",
      "And they are all mammal, of course.\n",
      "You forgot to feed Tom, I'm feeding him\n",
      "Now all are fed\n"
     ]
    }
   ],
   "source": [
    "# Parent class\n",
    "class Dog:\n",
    "\n",
    "    # Class attribute\n",
    "    species = 'mammal'\n",
    "    is_hungry = True\n",
    "\n",
    "    # Initializer / Instance attributes\n",
    "    def __init__(self, name, age):\n",
    "        self.name = name\n",
    "        self.age = age\n",
    "\n",
    "    # instance method\n",
    "    def description(self):\n",
    "        return \"{} is {} years old\".format(self.name, self.age)\n",
    "\n",
    "    # instance method\n",
    "    def speak(self, sound):\n",
    "        return \"{} says {}\".format(self.name, sound)\n",
    "    \n",
    "    def eat(self):\n",
    "        self.is_hungry = False\n",
    "\n",
    "# Child class (inherits from Dog class)\n",
    "class RussellTerrier(Dog):\n",
    "    def run(self, speed):\n",
    "        return \"{} runs {}\".format(self.name, speed)\n",
    "\n",
    "# Child class (inherits from Dog class)\n",
    "class Bulldog(Dog):\n",
    "    def run(self, speed):\n",
    "        return \"{} runs {}\".format(self.name, speed)\n",
    "\n",
    "#=====================================================================================\n",
    "\n",
    "my_puppies = [RussellTerrier(\"Tom\",6),RussellTerrier(\"Fletcher\",7),Bulldog(\"Larry\",9)]\n",
    "\n",
    "print('I have %s dogs.' %(len(my_puppies)))\n",
    "\n",
    "for puppy in my_puppies:\n",
    "    print(puppy.description())\n",
    "    \n",
    "print(\"And they are all %s, of course.\" %(Dog.species)) #they all inherit from Dog \n",
    "\n",
    "#The following three lines are the three dog bowls\n",
    "my_puppies[1].eat() #Tom\n",
    "#my_puppies[0].eat() #Fletcher\n",
    "my_puppies[2].eat() #Larry\n",
    "\n",
    "if len(list(filter(lambda i: i.is_hungry, my_puppies))) == len(my_puppies):\n",
    "    print(\"My dogs are hungry\")\n",
    "    for puppy in my_puppies:\n",
    "        puppy.eat()\n",
    "    print(\"Now all are fed\")\n",
    "    \n",
    "elif len(list(filter(lambda i: i.is_hungry, my_puppies))) == 0:\n",
    "    print(\"My dogs are not hungry\")\n",
    "    \n",
    "else: \n",
    "    for puppy in my_puppies:\n",
    "        if puppy.is_hungry:\n",
    "            puppy.eat()\n",
    "            print(\"You forgot to feed %s, I'm feeding him\" %(puppy.name))\n",
    "        else:\n",
    "            pass\n",
    "    print(\"Now all are fed\")"
   ]
  }
 ],
 "metadata": {
  "kernelspec": {
   "display_name": "Python 3",
   "language": "python",
   "name": "python3"
  },
  "language_info": {
   "codemirror_mode": {
    "name": "ipython",
    "version": 3
   },
   "file_extension": ".py",
   "mimetype": "text/x-python",
   "name": "python",
   "nbconvert_exporter": "python",
   "pygments_lexer": "ipython3",
   "version": "3.7.4"
  }
 },
 "nbformat": 4,
 "nbformat_minor": 2
}
