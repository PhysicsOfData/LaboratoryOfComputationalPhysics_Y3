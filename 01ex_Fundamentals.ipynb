{
 "cells": [
  {
   "cell_type": "markdown",
   "metadata": {},
   "source": [
    "1\\. Write the following as a list comprehension"
   ]
  },
  {
   "cell_type": "code",
   "execution_count": 1,
   "metadata": {},
   "outputs": [
    {
     "name": "stdout",
     "output_type": "stream",
     "text": [
      "[(0, 0), (0, 1), (0, 2), (0, 3), (1, 0), (1, 1), (1, 2), (1, 3), (2, 0), (2, 1), (2, 2), (2, 3)]\n",
      "[0, 4, 16]\n"
     ]
    }
   ],
   "source": [
    "# 1\n",
    "ans = []\n",
    "for i in range(3):\n",
    "    for j in range(4):\n",
    "        ans.append((i, j))\n",
    "print (ans)\n",
    "\n",
    "# 2\n",
    "ans = map(lambda x: x*x, filter(lambda x: x%2 == 0, range(5)))\n",
    "print (list(ans))\n",
    "\n"
   ]
  },
  {
   "cell_type": "code",
   "execution_count": 2,
   "metadata": {},
   "outputs": [
    {
     "name": "stdout",
     "output_type": "stream",
     "text": [
      "[(0, 0), (0, 1), (0, 2), (0, 3), (1, 0), (1, 1), (1, 2), (1, 3), (2, 0), (2, 1), (2, 2), (2, 3)]\n",
      "[0, 4, 16]\n"
     ]
    }
   ],
   "source": [
    "#1\n",
    "ans1 =[]\n",
    "ans1 = [(i,j) for i in range(3) for j in range(4)]\n",
    "print(ans1)\n",
    "\n",
    "#2\n",
    "ans = [x*x for x in filter(lambda x: x%2 == 0, range(5))]\n",
    "print(ans)"
   ]
  },
  {
   "cell_type": "markdown",
   "metadata": {},
   "source": [
    "2\\. Convert the following function into a pure function with no global variables or side effects"
   ]
  },
  {
   "cell_type": "code",
   "execution_count": 3,
   "metadata": {},
   "outputs": [
    {
     "name": "stdout",
     "output_type": "stream",
     "text": [
      "[1, 2, 3]\n",
      "[1, 2, 3, 0, 1, 2, 3, 4]\n",
      "[1, 2, 3, 0, 1, 2, 3, 4]\n"
     ]
    }
   ],
   "source": [
    "x = 5\n",
    "def f(alist=[]):\n",
    "    for i in range(x):\n",
    "         alist.append(i)\n",
    "    return alist\n",
    "\n",
    "alist = [1,2,3]\n",
    "print(alist)\n",
    "print (f(alist))\n",
    "print (alist) # alist has been changed!\n"
   ]
  },
  {
   "cell_type": "code",
   "execution_count": 4,
   "metadata": {},
   "outputs": [
    {
     "name": "stdout",
     "output_type": "stream",
     "text": [
      "[1, 2, 3]\n",
      "[1, 2, 3, 0, 1, 2, 3, 4]\n",
      "[1, 2, 3]\n"
     ]
    }
   ],
   "source": [
    "x = 5\n",
    "def f(alist=[]):\n",
    "    for i in range(x):\n",
    "         alist = alist + [i]\n",
    "    return alist\n",
    "\n",
    "alist = [1,2,3]\n",
    "print(alist)\n",
    "print (f(alist))\n",
    "print (alist) "
   ]
  },
  {
   "cell_type": "markdown",
   "metadata": {},
   "source": [
    "3\\. Write a `decorator` hello that makes every wrapped function print “Hello!”, i.e. something like:\n",
    "\n",
    "```python\n",
    "@hello\n",
    "def square(x):\n",
    "    return x*x\n",
    "```\n",
    "\n"
   ]
  },
  {
   "cell_type": "code",
   "execution_count": 5,
   "metadata": {},
   "outputs": [
    {
     "name": "stdout",
     "output_type": "stream",
     "text": [
      "Hello!\n",
      "9\n"
     ]
    }
   ],
   "source": [
    "def hello(func):\n",
    "    def wrapper(*args, **kwargs):\n",
    "        func(*args, **kwargs)\n",
    "        print(\"Hello!\")\n",
    "        return func(*args, **kwargs)\n",
    "    return wrapper\n",
    "\n",
    "\n",
    "\n",
    "@hello\n",
    "def square(x):\n",
    "    return x*x\n",
    "\n",
    "print(square(3))\n"
   ]
  },
  {
   "cell_type": "markdown",
   "metadata": {},
   "source": [
    "4\\. Write the factorial function so that it a) does and b) does not use recursion."
   ]
  },
  {
   "cell_type": "code",
   "execution_count": 6,
   "metadata": {},
   "outputs": [
    {
     "name": "stdout",
     "output_type": "stream",
     "text": [
      "120\n",
      "120\n"
     ]
    }
   ],
   "source": [
    "#with recursion\n",
    "x=6\n",
    "fact=1\n",
    "for i in range(1,x): fact = fact*i\n",
    "print(fact)\n",
    "\n",
    "#no recursion\n",
    "from functools import reduce\n",
    "\n",
    "def my_fact(x, y):\n",
    "    return x * y\n",
    "\n",
    "print(reduce(my_fact, [i for i in range(1,x)]))"
   ]
  },
  {
   "cell_type": "markdown",
   "metadata": {},
   "source": [
    "5\\. Use HOFs (zip in particular) to compute the weight of a circle, a disk and a sphere, assuming different radii and different densities:\n",
    "\n",
    "```python\n",
    "densities = {\"Al\":[0.5,1,2],\"Fe\":[3,4,5],\"Pb\": [15,20,30]}\n",
    "radii = [1,2,3]\n",
    "```\n",
    "\n",
    "where the entries of the dictionary's values are the linear, superficial and volumetric densities of the materials respectively.\n",
    "\n",
    "In particular define a list of three lambda functions using a comprehension that computes the circumference, the area and the volume for a given radius.\n"
   ]
  },
  {
   "cell_type": "code",
   "execution_count": 7,
   "metadata": {},
   "outputs": [
    {
     "name": "stdout",
     "output_type": "stream",
     "text": [
      "Al with radius 1 , Linear density      0.5 : Weight 3.141592653589793\n",
      "Al with radius 1 , Superficial density 1 : Weight 12.566370614359172\n",
      "Al with radius 1 , Volumetric density  2 : Weight 8.377580409572781\n",
      "Al with radius 2 , Linear density      0.5 : Weight 6.283185307179586\n",
      "Al with radius 2 , Superficial density 1 : Weight 50.26548245743669\n",
      "Al with radius 2 , Volumetric density  2 : Weight 67.02064327658225\n",
      "Al with radius 3 , Linear density      0.5 : Weight 9.42477796076938\n",
      "Al with radius 3 , Superficial density 1 : Weight 113.09733552923255\n",
      "Al with radius 3 , Volumetric density  2 : Weight 226.19467105846508\n",
      "Fe with radius 1 , Linear density      3 : Weight 18.84955592153876\n",
      "Fe with radius 1 , Superficial density 4 : Weight 50.26548245743669\n",
      "Fe with radius 1 , Volumetric density  5 : Weight 20.94395102393195\n",
      "Fe with radius 2 , Linear density      3 : Weight 37.69911184307752\n",
      "Fe with radius 2 , Superficial density 4 : Weight 201.06192982974676\n",
      "Fe with radius 2 , Volumetric density  5 : Weight 167.5516081914556\n",
      "Fe with radius 3 , Linear density      3 : Weight 56.548667764616276\n",
      "Fe with radius 3 , Superficial density 4 : Weight 452.3893421169302\n",
      "Fe with radius 3 , Volumetric density  5 : Weight 565.4866776461627\n",
      "Pb with radius 1 , Linear density      15 : Weight 94.24777960769379\n",
      "Pb with radius 1 , Superficial density 20 : Weight 251.32741228718345\n",
      "Pb with radius 1 , Volumetric density  30 : Weight 125.66370614359171\n",
      "Pb with radius 2 , Linear density      15 : Weight 188.49555921538757\n",
      "Pb with radius 2 , Superficial density 20 : Weight 1005.3096491487338\n",
      "Pb with radius 2 , Volumetric density  30 : Weight 1005.3096491487337\n",
      "Pb with radius 3 , Linear density      15 : Weight 282.7433388230814\n",
      "Pb with radius 3 , Superficial density 20 : Weight 2261.946710584651\n",
      "Pb with radius 3 , Volumetric density  30 : Weight 3392.920065876976\n"
     ]
    }
   ],
   "source": [
    "densities = {\"Al\":[0.5,1,2],\"Fe\":[3,4,5],\"Pb\": [15,20,30]}\n",
    "radii = [1,2,3]\n",
    "D =[\"Linear density     \",\"Superficial density\",\"Volumetric density \"]\n",
    "\n",
    "import math\n",
    "volumes = lambda x: [2*math.pi*x , 4*math.pi*x**2, 4/3*math.pi*x**3]\n",
    "\n",
    "for i in densities:\n",
    "    for a in range(0,3):\n",
    "        for z,x,y in zip(D[0:],densities[i], volumes(radii[a])[0:]):\n",
    "            print(i,\"with radius\",radii[a],',',z,x,\": Weight\",x*y)\n",
    "           "
   ]
  },
  {
   "cell_type": "markdown",
   "metadata": {},
   "source": [
    "6\\. Edit the class defintion to add an instance attribute of is_hungry = True to the Dog class. Then add a method called eat() which changes the value of is_hungry to False when called. Figure out the best way to feed each dog and then output “My dogs are hungry.” if all are hungry or “My dogs are not hungry.” if all are not hungry. The final output should look like this:\n",
    "\n",
    "`I have 3 dogs. \n",
    "Tom is 6. \n",
    "Fletcher is 7. \n",
    "Larry is 9. \n",
    "And they're all mammals, of course. \n",
    "My dogs are not hungry.\n",
    "`\n",
    "\n",
    "```python\n",
    "# Parent class\n",
    "class Dog:\n",
    "\n",
    "    # Class attribute\n",
    "    species = 'mammal'\n",
    "\n",
    "    # Initializer / Instance attributes\n",
    "    def __init__(self, name, age):\n",
    "        self.name = name\n",
    "        self.age = age\n",
    "\n",
    "    # instance method\n",
    "    def description(self):\n",
    "        return \"{} is {} years old\".format(self.name, self.age)\n",
    "\n",
    "    # instance method\n",
    "    def speak(self, sound):\n",
    "        return \"{} says {}\".format(self.name, sound)\n",
    "\n",
    "# Child class (inherits from Dog class)\n",
    "class RussellTerrier(Dog):\n",
    "    def run(self, speed):\n",
    "        return \"{} runs {}\".format(self.name, speed)\n",
    "\n",
    "# Child class (inherits from Dog class)\n",
    "class Bulldog(Dog):\n",
    "    def run(self, speed):\n",
    "        return \"{} runs {}\".format(self.name, speed)\n",
    "```"
   ]
  },
  {
   "cell_type": "code",
   "execution_count": 8,
   "metadata": {},
   "outputs": [],
   "source": [
    "# Parent class\n",
    "class Dog:\n",
    "    \n",
    "\n",
    "    # Class attribute\n",
    "    species = 'mammals'\n",
    "    # hungry attribute\n",
    "    is_hungry = 'True'\n",
    "\n",
    "    # Initializer / Instance attributes\n",
    "    _counter = 0\n",
    "    def __init__(self, name, age):\n",
    "        Dog._counter += 1\n",
    "        self.id = Dog._counter\n",
    "        self.name = name\n",
    "        self.age = age\n",
    "\n",
    "    # instance method\n",
    "    def description(self):\n",
    "        return \"{} is {}.\".format(self.name, self.age)\n",
    "\n",
    "    # instance method\n",
    "    def speak(self, sound):\n",
    "        return \"{} says {}\".format(self.name, sound)\n",
    "    #eat method\n",
    "    def eat(self):\n",
    "        self.is_hungry=\"False\"\n",
    "\n",
    "# Child class (inherits from Dog class)\n",
    "class RussellTerrier(Dog):\n",
    "    def run(self, speed):\n",
    "        return \"{} runs {}\".format(self.name, speed)\n",
    "\n",
    "# Child class (inherits from Dog class)\n",
    "class Bulldog(Dog):\n",
    "    def run(self, speed):\n",
    "        return \"{} runs {}\".format(self.name, speed)\n",
    "    \n",
    "    \n"
   ]
  },
  {
   "cell_type": "code",
   "execution_count": 9,
   "metadata": {},
   "outputs": [
    {
     "name": "stdout",
     "output_type": "stream",
     "text": [
      "I have 3 dogs.\n",
      "Tom is 6.\n",
      "Fletcher is 7.\n",
      "Larry is 9.\n",
      "And they are all mammals of course.\n",
      "My dogs are not hungry.\n"
     ]
    }
   ],
   "source": [
    "T=RussellTerrier('Tom',6)\n",
    "F=Bulldog('Fletcher',7)\n",
    "L=Bulldog('Larry',9)\n",
    "\n",
    "print('I have',L.id,'dogs.')    #in order to get the number of dog, print the id of the last one I created\n",
    "print(T.description())\n",
    "print(F.description())\n",
    "print(L.description())\n",
    "#check if the species is the same for everyone\n",
    "if T.species==F.species and F.species==L.species:\n",
    "    print('And they are all',T.species,'of course.')\n",
    "else:\n",
    "    print(T.name, \"is a\",T.species)\n",
    "    print(F.name, \"is a\",F.species)\n",
    "    print(L.name, \"is a\",L.species)\n",
    "\n",
    "T.eat()\n",
    "F.eat()\n",
    "L.eat()\n",
    "\n",
    "if T.is_hungry=='False'and F.is_hungry=='False' and L.is_hungry=='False':\n",
    "    print('My dogs are not hungry.')\n",
    "elif [T.is_hungry,F.is_hungry,L.is_hungry]==['True','True','True']:\n",
    "    print('My dogs are hungry.')\n",
    "else:\n",
    "    print('Some of my dogs are hungry.')\n"
   ]
  },
  {
   "cell_type": "code",
   "execution_count": null,
   "metadata": {},
   "outputs": [],
   "source": []
  },
  {
   "cell_type": "code",
   "execution_count": null,
   "metadata": {},
   "outputs": [],
   "source": []
  }
 ],
 "metadata": {
  "kernelspec": {
   "display_name": "Python 3",
   "language": "python",
   "name": "python3"
  },
  "language_info": {
   "codemirror_mode": {
    "name": "ipython",
    "version": 3
   },
   "file_extension": ".py",
   "mimetype": "text/x-python",
   "name": "python",
   "nbconvert_exporter": "python",
   "pygments_lexer": "ipython3",
   "version": "3.8.3"
  }
 },
 "nbformat": 4,
 "nbformat_minor": 2
}
