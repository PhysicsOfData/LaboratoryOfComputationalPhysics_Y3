{
 "cells": [
  {
   "cell_type": "markdown",
   "metadata": {},
   "source": [
    "1\\. Write the following as a list comprehension"
   ]
  },
  {
   "cell_type": "code",
   "execution_count": null,
   "metadata": {},
   "outputs": [],
   "source": [
    "# 1\n",
    "ans = []\n",
    "for i in range(3):\n",
    "    for j in range(4):\n",
    "        ans.append((i, j))\n",
    "print (ans)\n",
    "\n",
    "# 2\n",
    "ans = map(lambda x: x*x, filter(lambda x: x%2 == 0, range(5)))\n",
    "print (list(ans))\n",
    "\n"
   ]
  },
  {
   "cell_type": "code",
   "execution_count": null,
   "metadata": {},
   "outputs": [],
   "source": [
    "#sol_1\n",
    "lc_1 = [(x,y) for x in range(3) for y in range(4)]\n",
    "print(lc_1)\n",
    "\n",
    "#sol_2 \n",
    "lc_2 = [x*x for x in range(5) if x%2 == 0]\n",
    "print(lc_2)"
   ]
  },
  {
   "cell_type": "markdown",
   "metadata": {},
   "source": [
    "2\\. Convert the following function into a pure function with no global variables or side effects"
   ]
  },
  {
   "cell_type": "code",
   "execution_count": null,
   "metadata": {},
   "outputs": [],
   "source": [
    "x = 5\n",
    "def f(alist):\n",
    "    for i in range(x):\n",
    "         alist.append(i)\n",
    "    return alist\n",
    "\n",
    "alist = [1,2,3]\n",
    "ans = f(alist)\n",
    "print (ans)\n",
    "print (alist) # alist has been changed!"
   ]
  },
  {
   "cell_type": "code",
   "execution_count": null,
   "metadata": {},
   "outputs": [],
   "source": [
    "def f(alist):\n",
    "    x = 5\n",
    "    new_list = []\n",
    "    for i in range(x):\n",
    "         new_list.append(i)\n",
    "    return new_list\n",
    "\n",
    "alist = [1,2,3]\n",
    "ans = f(alist)\n",
    "print (ans)\n",
    "print (alist)"
   ]
  },
  {
   "cell_type": "markdown",
   "metadata": {},
   "source": [
    "3\\. Write a `decorator` hello that makes every wrapped function print “Hello!”, i.e. something like:\n",
    "\n",
    "```python\n",
    "@hello\n",
    "def square(x):\n",
    "    return x*x\n",
    "```\n",
    "\n"
   ]
  },
  {
   "cell_type": "code",
   "execution_count": 144,
   "metadata": {},
   "outputs": [
    {
     "name": "stdout",
     "output_type": "stream",
     "text": [
      "Hello!\n"
     ]
    },
    {
     "data": {
      "text/plain": [
       "256"
      ]
     },
     "execution_count": 144,
     "metadata": {},
     "output_type": "execute_result"
    }
   ],
   "source": [
    "def hello(func):\n",
    "    def wrapper(x):\n",
    "        func(x)\n",
    "        print(\"Hello!\")\n",
    "        return func(x)\n",
    "    return wrapper\n",
    "\n",
    "@hello\n",
    "def square(x):\n",
    "    return x*x\n",
    "\n",
    "square(16)\n",
    "\n"
   ]
  },
  {
   "cell_type": "markdown",
   "metadata": {},
   "source": [
    "4\\. Write the factorial function so that it a) does and b) does not use recursion."
   ]
  },
  {
   "cell_type": "code",
   "execution_count": 148,
   "metadata": {},
   "outputs": [
    {
     "name": "stdout",
     "output_type": "stream",
     "text": [
      "120\n",
      "120\n"
     ]
    }
   ],
   "source": [
    "#a\n",
    "def factorial_rec(n):\n",
    "    if n < 1:   \n",
    "        return 1\n",
    "    else:\n",
    "        fac = n * factorial_rec( n - 1 )  \n",
    "        return fac\n",
    "\n",
    "#b\n",
    "def factorial_notrec(n):\n",
    "    r = 1\n",
    "    i = 2\n",
    "    while i <= n:\n",
    "        r *= i\n",
    "        i += 1\n",
    "    return r\n",
    "\n",
    "print(factorial_rec(5))\n",
    "print(factorial_notrec(5))"
   ]
  },
  {
   "cell_type": "markdown",
   "metadata": {},
   "source": [
    "5\\. Use HOFs (zip in particular) to compute the weight of a circle, a disk and a sphere, assuming different radii and different densities:\n",
    "\n",
    "```python\n",
    "densities = {\"Al\":[0.5,1,2],\"Fe\":[3,4,5],\"Pb\": [15,20,30]}\n",
    "radii = [1,2,3]\n",
    "```\n",
    "\n",
    "where the entries of the dictionary's values are the linear, superficial and volumetric densities of the materials respectively.\n",
    "\n",
    "In particular define a list of three lambda functions using a comprehension that computes the circumference, the area and the volume for a given radius."
   ]
  },
  {
   "cell_type": "code",
   "execution_count": 111,
   "metadata": {},
   "outputs": [
    {
     "name": "stdout",
     "output_type": "stream",
     "text": [
      "CIRCLE\n",
      "rad_1\n",
      "Al -> 3.141592653589793 \n",
      "\n",
      "rad_2\n",
      "Al -> 6.283185307179586 \n",
      "\n",
      "rad_3\n",
      "Al -> 9.42477796076938 \n",
      "\n",
      "rad_1\n",
      "Fe -> 18.84955592153876 \n",
      "\n",
      "rad_2\n",
      "Fe -> 37.69911184307752 \n",
      "\n",
      "rad_3\n",
      "Fe -> 56.548667764616276 \n",
      "\n",
      "rad_1\n",
      "Pb -> 94.24777960769379 \n",
      "\n",
      "rad_2\n",
      "Pb -> 188.49555921538757 \n",
      "\n",
      "rad_3\n",
      "Pb -> 282.7433388230814 \n",
      "\n",
      "DISK\n",
      "rad_1\n",
      "Al -> 3.141592653589793 \n",
      "\n",
      "rad_2\n",
      "Al -> 12.566370614359172 \n",
      "\n",
      "rad_3\n",
      "Al -> 28.274333882308138 \n",
      "\n",
      "rad_1\n",
      "Fe -> 12.566370614359172 \n",
      "\n",
      "rad_2\n",
      "Fe -> 50.26548245743669 \n",
      "\n",
      "rad_3\n",
      "Fe -> 113.09733552923255 \n",
      "\n",
      "rad_1\n",
      "Pb -> 62.83185307179586 \n",
      "\n",
      "rad_2\n",
      "Pb -> 251.32741228718345 \n",
      "\n",
      "rad_3\n",
      "Pb -> 565.4866776461628 \n",
      "\n",
      "SPHERE\n",
      "rad_1\n",
      "Al -> 8.377580409572781 \n",
      "\n",
      "rad_2\n",
      "Al -> 67.02064327658225 \n",
      "\n",
      "rad_3\n",
      "Al -> 226.19467105846508 \n",
      "\n",
      "rad_1\n",
      "Fe -> 20.94395102393195 \n",
      "\n",
      "rad_2\n",
      "Fe -> 167.5516081914556 \n",
      "\n",
      "rad_3\n",
      "Fe -> 565.4866776461627 \n",
      "\n",
      "rad_1\n",
      "Pb -> 125.66370614359171 \n",
      "\n",
      "rad_2\n",
      "Pb -> 1005.3096491487337 \n",
      "\n",
      "rad_3\n",
      "Pb -> 3392.920065876976 \n",
      "\n"
     ]
    }
   ],
   "source": [
    "from math import pi   \n",
    "densities = {\"Al\":[0.5,1,2],\"Fe\":[3,4,5],\"Pb\": [15,20,30]}\n",
    "\n",
    "radii = {\"rad_1\":1, \"rad_2\":2,\"rad_3\":3}\n",
    "names = (\"CIRCLE\", \"DISK\", \"SPHERE\") \n",
    "a = lambda x: 2*pi*x\n",
    "b = lambda x: pi*x**2\n",
    "c = lambda x: (4/3)*pi*x**3\n",
    "dic = {item: [a(i), b(i), c(i)] for (item,i) in radii.items()}\n",
    "\n",
    "#i tried a lot to do it with a zip function but i had some problems\n",
    "for i in range(len(densities.values())):\n",
    "    print(names[i])  \n",
    "    for key1 in densities.keys():\n",
    "        for key2 in dic.keys():\n",
    "                print(key2)\n",
    "                print(key1,\"->\", densities[key1][i]*dic[key2][i],\"\\n\")"
   ]
  },
  {
   "cell_type": "markdown",
   "metadata": {},
   "source": [
    "6\\. Edit the class defintion to add an instance attribute of is_hungry = True to the Dog class. Then add a method called eat() which changes the value of is_hungry to False when called. Figure out the best way to feed each dog and then output “My dogs are hungry.” if all are hungry or “My dogs are not hungry.” if all are not hungry. The final output should look like this:\n",
    "\n",
    "`I have 3 dogs. \n",
    "Tom is 6. \n",
    "Fletcher is 7. \n",
    "Larry is 9. \n",
    "And they're all mammals, of course. \n",
    "My dogs are not hungry.\n",
    "`\n",
    "\n",
    "```python\n",
    "# Parent class\n",
    "class Dog:\n",
    "\n",
    "    # Class attribute\n",
    "    species = 'mammal'\n",
    "\n",
    "    # Initializer / Instance attributes\n",
    "    def __init__(self, name, age):\n",
    "        self.name = name\n",
    "        self.age = age\n",
    "\n",
    "    # instance method\n",
    "    def description(self):\n",
    "        return \"{} is {} years old\".format(self.name, self.age)\n",
    "\n",
    "    # instance method\n",
    "    def speak(self, sound):\n",
    "        return \"{} says {}\".format(self.name, sound)\n",
    "\n",
    "# Child class (inherits from Dog class)\n",
    "class RussellTerrier(Dog):\n",
    "    def run(self, speed):\n",
    "        return \"{} runs {}\".format(self.name, speed)\n",
    "\n",
    "# Child class (inherits from Dog class)\n",
    "class Bulldog(Dog):\n",
    "    def run(self, speed):\n",
    "        return \"{} runs {}\".format(self.name, speed)\n",
    "```"
   ]
  },
  {
   "cell_type": "code",
   "execution_count": null,
   "metadata": {},
   "outputs": [],
   "source": []
  },
  {
   "cell_type": "code",
   "execution_count": null,
   "metadata": {},
   "outputs": [],
   "source": []
  }
 ],
 "metadata": {
  "kernelspec": {
   "display_name": "Python 3",
   "language": "python",
   "name": "python3"
  },
  "language_info": {
   "codemirror_mode": {
    "name": "ipython",
    "version": 3
   },
   "file_extension": ".py",
   "mimetype": "text/x-python",
   "name": "python",
   "nbconvert_exporter": "python",
   "pygments_lexer": "ipython3",
   "version": "3.7.4"
  }
 },
 "nbformat": 4,
 "nbformat_minor": 2
}
