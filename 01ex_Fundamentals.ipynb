{
 "cells": [
  {
   "cell_type": "markdown",
   "metadata": {},
   "source": [
    "1\\. Write the following as a list comprehension"
   ]
  },
  {
   "cell_type": "code",
   "execution_count": 4,
   "metadata": {},
   "outputs": [
    {
     "name": "stdout",
     "output_type": "stream",
     "text": [
      "Case one:\n",
      "[(0, 0), (0, 1), (0, 2), (0, 3), (1, 0), (1, 1), (1, 2), (1, 3), (2, 0), (2, 1), (2, 2), (2, 3)]\n",
      "As a comprehension list:\n",
      "[(0, 0), (0, 1), (0, 2), (0, 3), (1, 0), (1, 1), (1, 2), (1, 3), (2, 0), (2, 1), (2, 2), (2, 3)]\n",
      "Case two\n",
      "[0, 4, 16]\n",
      "As a comprehension list:\n",
      "[0, 4, 16]\n"
     ]
    }
   ],
   "source": [
    "# 1\n",
    "print(\"Case one:\")\n",
    "ans = []\n",
    "for i in range(3):\n",
    "    for j in range(4):\n",
    "        ans.append((i, j))\n",
    "print (ans)\n",
    "\n",
    "# 1 as a list comprehension\n",
    "print(\"As a comprehension list:\")\n",
    "print([(i,j) for i in range(3) for j in range(4)])\n",
    "\n",
    "# 2\n",
    "print(\"Case two\")\n",
    "ans = map(lambda x: x*x, filter(lambda x: x%2 == 0, range(5)))\n",
    "print (list(ans))\n",
    "\n",
    "\n",
    "#2 as a list comprehension\n",
    "import math\n",
    "print(\"As a comprehension list:\")\n",
    "print([i**2 for i in range(0,5, 2)])"
   ]
  },
  {
   "cell_type": "markdown",
   "metadata": {},
   "source": [
    "2\\. Convert the following function into a pure function with no global variables or side effects"
   ]
  },
  {
   "cell_type": "code",
   "execution_count": 5,
   "metadata": {},
   "outputs": [
    {
     "name": "stdout",
     "output_type": "stream",
     "text": [
      "[1, 2, 3, 0, 1, 2, 3, 4]\n",
      "[1, 2, 3, 0, 1, 2, 3, 4]\n",
      "[1, 2, 3, 0, 1, 2, 3, 4]\n",
      "[1, 2, 3]\n"
     ]
    }
   ],
   "source": [
    "x = 5\n",
    "def f(alist):\n",
    "    for i in range(x):\n",
    "         alist.append(i)\n",
    "    return alist\n",
    "\n",
    "alist = [1,2,3]\n",
    "ans = f(alist)\n",
    "print (ans)\n",
    "print (alist) # alist has been changed!\n",
    "\n",
    "\n",
    "#code ex 2 (without modyfing alist)\n",
    "x = 5\n",
    "def f(alist):\n",
    "    s = alist.copy()    #copying the list we want to modify\n",
    "    for i in range(x):\n",
    "        s.append(i)\n",
    "    return s\n",
    "\n",
    "alist=[1,2,3]\n",
    "ans=f(alist)\n",
    "print(ans)\n",
    "print(alist)  #alist has NOT been changed"
   ]
  },
  {
   "cell_type": "markdown",
   "metadata": {},
   "source": [
    "3\\. Write a `decorator` hello that makes every wrapped function print “Hello!”, i.e. something like:\n",
    "\n",
    "```python\n",
    "@hello\n",
    "def square(x):\n",
    "    return x*x\n",
    "```\n",
    "\n"
   ]
  },
  {
   "cell_type": "code",
   "execution_count": 109,
   "metadata": {},
   "outputs": [
    {
     "name": "stdout",
     "output_type": "stream",
     "text": [
      "4\n",
      "Hello!\n"
     ]
    }
   ],
   "source": [
    "#code ex3 ----------------solve error-check---------------\n",
    "#imagine what a decorator passes a argument ...\n",
    "\n",
    "def hello_decorator(function):\n",
    "    def wrapper(x):\n",
    "        print(\"Hello!\")\n",
    "        function(x)\n",
    "    return wrapper\n",
    "    \n",
    "def square(x):\n",
    "    return x*x\n",
    "\n",
    "print(square(2)) #what the function returns before the decorator\n",
    "\n",
    "\n",
    "square = hello_decorator(square)\n",
    "square(2)"
   ]
  },
  {
   "cell_type": "markdown",
   "metadata": {},
   "source": [
    "4\\. Write the factorial function so that it a) does and b) does not use recursion."
   ]
  },
  {
   "cell_type": "code",
   "execution_count": 26,
   "metadata": {},
   "outputs": [
    {
     "name": "stdout",
     "output_type": "stream",
     "text": [
      "6\n",
      "720\n"
     ]
    }
   ],
   "source": [
    "#code ex4\n",
    "\n",
    "#a does use recursion\n",
    "def recfact(x): #must exclude 0 or in the recursion x-1 will be = 0\n",
    "    if x == 0:\n",
    "        return 1\n",
    "    else:\n",
    "        return x*recfact(x-1)\n",
    "\n",
    "print(recfact(3))\n",
    "\n",
    "#b does not use recursion\n",
    "def factorial(n):\n",
    "    i = n\n",
    "    while i>1:\n",
    "        i=i-1\n",
    "        n=n*i\n",
    "    return n\n",
    "\n",
    "print(factorial(6))\n",
    "        \n",
    "\n",
    "        "
   ]
  },
  {
   "cell_type": "markdown",
   "metadata": {},
   "source": [
    "5\\. Use HOFs (zip in particular) to compute the weight of a circle, a disk and a sphere, assuming different radii and different densities:\n",
    "\n",
    "```python\n",
    "densities = {\"Al\":[0.5,1,2],\"Fe\":[3,4,5],\"Pb\": [15,20,30]}\n",
    "radii = [1,2,3]\n",
    "```\n",
    "\n",
    "where the entries of the dictionary's values are the linear, superficial and volumetric densities of the materials respectively.\n",
    "\n",
    "In particular define a list of three lambda functions using a comprehension that computes the circumference, the area and the volume for a given radius.\n"
   ]
  },
  {
   "cell_type": "code",
   "execution_count": 99,
   "metadata": {},
   "outputs": [
    {
     "name": "stdout",
     "output_type": "stream",
     "text": [
      "(0.5, 1)\n",
      "(1, 2)\n",
      "(2, 3)\n",
      "Linear density: 0.5 Radius: 1\n",
      "Weight: 3.141592653589793\n",
      "Linear density: 0.5 Radius: 2\n",
      "Weight: 6.283185307179586\n",
      "Linear density: 0.5 Radius: 3\n",
      "Weight: 9.42477796076938\n",
      "Linear density: 3 Radius: 1\n",
      "Weight: 18.84955592153876\n",
      "Linear density: 3 Radius: 2\n",
      "Weight: 37.69911184307752\n",
      "Linear density: 3 Radius: 3\n",
      "Weight: 56.548667764616276\n",
      "Linear density: 15 Radius: 1\n",
      "Weight: 94.24777960769379\n",
      "Linear density: 15 Radius: 2\n",
      "Weight: 188.49555921538757\n",
      "Linear density: 15 Radius: 3\n",
      "Weight: 282.7433388230814\n",
      "0.5 [1, 2, 3]\n",
      "1 [1, 2, 3]\n",
      "2 [1, 2, 3]\n",
      "3 [1, 2, 3]\n",
      "4 [1, 2, 3]\n",
      "5 [1, 2, 3]\n",
      "15 [1, 2, 3]\n",
      "20 [1, 2, 3]\n",
      "30 [1, 2, 3]\n",
      "2\n",
      "5\n",
      "30\n"
     ]
    }
   ],
   "source": [
    "#code ex5\n",
    "\n",
    "import math\n",
    "\n",
    "densities = {\"Al\":[0.5,1,2],\"Fe\":[3,4,5],\"Pb\": [15,20,30]}\n",
    "radii = [1,2,3]\n",
    "\n",
    "#densities=weight/volume(radii)\n",
    "\n",
    "#weight=densities*volume(radii)\n",
    "\n",
    "for x, r in zip(densities.get(\"Al\"), radii):  #calcolava le varie densità per l'alluminio  ma è sbagliato, perchè non sono tutte lineari...\n",
    "    a=(x,r)\n",
    "    print(a)\n",
    "    for x in densities.values(): #modo per ottenere tutte le densità dellos stesso tipo\n",
    "        if (x==d[0]):\n",
    "            w = 2 * math.pi * r * x\n",
    "            print(w)\n",
    "    \n",
    "    \n",
    "\n",
    "#linear case  #manca da associare la densità al materiale\n",
    "for d in densities.values():\n",
    "    for rd in radii:\n",
    "        print(\"Linear density:\",d[0],\"Radius:\",rd)\n",
    "        wl = 2 * math.pi * rd * d[0]\n",
    "        print(\"Weight:\", wl)\n",
    "\n",
    "\n",
    "\n",
    "\n",
    "for d in densities.values():\n",
    "    for i in range (0,3):\n",
    "        print(d[i],radii)\n",
    "        \n",
    "    \n",
    "\n",
    "\n",
    "#compute the weight of a circle\n",
    "#circle 2pir\n",
    "#disk pir**2\n",
    "#sfera4/3pir3\n",
    "\n",
    "\n",
    "for x in densities.values(): #modo per ottenere tutte le densità dellos stesso tipo\n",
    "    print(x[2])\n",
    "\n",
    "#Define a list of lambda functions using a comprehension that computes the circumference,area, volume for a given radius.\n",
    "\n",
    "#use comprehension to define a list of lambda function for a given radius  TO DOO!\n",
    "circ = lambda rad: 2*math.pi*rad\n",
    "area = lambda rad: 2*math.pi*rad*rad \n",
    "volume= lambda rad: (4/3)*math.pi*rad**3\n",
    "\n"
   ]
  },
  {
   "cell_type": "markdown",
   "metadata": {},
   "source": [
    "6\\. Edit the class defintion to add an instance attribute of is_hungry = True to the Dog class. Then add a method called eat() which changes the value of is_hungry to False when called. Figure out the best way to feed each dog and then output “My dogs are hungry.” if all are hungry or “My dogs are not hungry.” if all are not hungry. The final output should look like this:\n",
    "\n",
    "`I have 3 dogs. \n",
    "Tom is 6. \n",
    "Fletcher is 7. \n",
    "Larry is 9. \n",
    "And they're all mammals, of course. \n",
    "My dogs are not hungry.\n",
    "`\n",
    "\n",
    "```python\n",
    "# Parent class\n",
    "class Dog:\n",
    "\n",
    "    # Class attribute\n",
    "    species = 'mammal'\n",
    "\n",
    "    # Initializer / Instance attributes\n",
    "    def __init__(self, name, age):\n",
    "        self.name = name\n",
    "        self.age = age\n",
    "\n",
    "    # instance method\n",
    "    def description(self):\n",
    "        return \"{} is {} years old\".format(self.name, self.age)\n",
    "\n",
    "    # instance method\n",
    "    def speak(self, sound):\n",
    "        return \"{} says {}\".format(self.name, sound)\n",
    "\n",
    "# Child class (inherits from Dog class)\n",
    "class RussellTerrier(Dog):\n",
    "    def run(self, speed):\n",
    "        return \"{} runs {}\".format(self.name, speed)\n",
    "\n",
    "# Child class (inherits from Dog class)\n",
    "class Bulldog(Dog):\n",
    "    def run(self, speed):\n",
    "        return \"{} runs {}\".format(self.name, speed)\n",
    "```"
   ]
  },
  {
   "cell_type": "code",
   "execution_count": 110,
   "metadata": {},
   "outputs": [],
   "source": [
    "#code ex6\n",
    "# Parent class\n",
    "class Dog:\n",
    "\n",
    "    # Class attribute\n",
    "    species = 'mammal'\n",
    "\n",
    "    # Initializer / Instance attributes\n",
    "    def __init__(self, name, age):\n",
    "        self.name = name\n",
    "        self.age = age\n",
    "        self.is_hungry = true  #AGGIUNTA HUNGRY\n",
    "\n",
    "    # instance method\n",
    "    def description(self):\n",
    "        return \"{} is {} years old\".format(self.name, self.age)\n",
    "\n",
    "    # instance method\n",
    "    def speak(self, sound):\n",
    "        return \"{} says {}\".format(self.name, sound)\n",
    "    \n",
    "    # instance method\n",
    "    def eat(self):\n",
    "        return self.is_hungry=false  #CAMBAIRE SELF HUNGRY\n",
    "\n",
    "# Child class (inherits from Dog class)\n",
    "class RussellTerrier(Dog):\n",
    "    def run(self, speed):\n",
    "        return \"{} runs {}\".format(self.name, speed)\n",
    "\n",
    "# Child class (inherits from Dog class)\n",
    "class Bulldog(Dog):\n",
    "    def run(self, speed):\n",
    "        return \"{} runs {}\".format(self.name, speed)"
   ]
  },
  {
   "cell_type": "code",
   "execution_count": null,
   "metadata": {},
   "outputs": [],
   "source": []
  }
 ],
 "metadata": {
  "kernelspec": {
   "display_name": "Python 3",
   "language": "python",
   "name": "python3"
  },
  "language_info": {
   "codemirror_mode": {
    "name": "ipython",
    "version": 3
   },
   "file_extension": ".py",
   "mimetype": "text/x-python",
   "name": "python",
   "nbconvert_exporter": "python",
   "pygments_lexer": "ipython3",
   "version": "3.8.3"
  }
 },
 "nbformat": 4,
 "nbformat_minor": 2
}
