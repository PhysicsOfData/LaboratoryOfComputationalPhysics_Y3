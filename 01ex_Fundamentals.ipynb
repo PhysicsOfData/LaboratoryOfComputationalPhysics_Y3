{
 "cells": [
  {
   "cell_type": "markdown",
   "metadata": {},
   "source": [
    "1\\. Write the following as a list comprehension"
   ]
  },
  {
   "cell_type": "code",
   "execution_count": 3,
   "metadata": {},
   "outputs": [
    {
     "name": "stdout",
     "output_type": "stream",
     "text": [
      "[(0, 0), (0, 1), (0, 2), (0, 3), (1, 0), (1, 1), (1, 2), (1, 3), (2, 0), (2, 1), (2, 2), (2, 3)]\n",
      "[0, 4, 16]\n"
     ]
    }
   ],
   "source": [
    "# 1\n",
    "ans = []\n",
    "for i in range(3):\n",
    "    for j in range(4):\n",
    "        ans.append((i, j))\n",
    "print (ans)\n",
    "\n",
    "# 2\n",
    "ans = map(lambda x: x*x, filter(lambda x: x%2 == 0, range(5)))\n",
    "print (list(ans))\n",
    "\n"
   ]
  },
  {
   "cell_type": "code",
   "execution_count": 4,
   "metadata": {
    "scrolled": true
   },
   "outputs": [
    {
     "name": "stdout",
     "output_type": "stream",
     "text": [
      "[(0, 0), (0, 1), (0, 2), (0, 3), (1, 0), (1, 1), (1, 2), (1, 3), (2, 0), (2, 1), (2, 2), (2, 3)]\n",
      "\n",
      "[0, 4, 16]\n"
     ]
    }
   ],
   "source": [
    "# 1\n",
    "ans = [(i,j) for i in range(3) for j in range(4)]\n",
    "print(ans)\n",
    "print()\n",
    "# 2\n",
    "ans = [x*x for x in range(5) if x%2==0]\n",
    "print(ans)"
   ]
  },
  {
   "cell_type": "markdown",
   "metadata": {},
   "source": [
    "2\\. Convert the following function into a pure function with no global variables or side effects"
   ]
  },
  {
   "cell_type": "code",
   "execution_count": 6,
   "metadata": {},
   "outputs": [
    {
     "name": "stdout",
     "output_type": "stream",
     "text": [
      "[1, 2, 3, 0, 1, 2, 3, 4]\n",
      "[1, 2, 3, 0, 1, 2, 3, 4]\n"
     ]
    }
   ],
   "source": [
    "x = 5\n",
    "def f(alist):\n",
    "    for i in range(x):\n",
    "         alist.append(i)\n",
    "    return alist\n",
    "\n",
    "alist = [1,2,3]\n",
    "ans = f(alist)\n",
    "print (ans)\n",
    "print (alist) # alist has been changed!"
   ]
  },
  {
   "cell_type": "code",
   "execution_count": 5,
   "metadata": {},
   "outputs": [
    {
     "name": "stdout",
     "output_type": "stream",
     "text": [
      "[1, 2, 3, 0, 1, 2, 3, 4]\n",
      "[1, 2, 3]\n"
     ]
    }
   ],
   "source": [
    "def f(alist,x):\n",
    "    ans = alist[:]\n",
    "    ans.extend(range(x))\n",
    "    return ans\n",
    "\n",
    "alist = [1,2,3]\n",
    "ans = f(alist,5)\n",
    "print(ans)\n",
    "print(alist)"
   ]
  },
  {
   "cell_type": "markdown",
   "metadata": {},
   "source": [
    "3\\. Write a `decorator` hello that makes every wrapped function print “Hello!”, i.e. something like:\n",
    "\n",
    "```python\n",
    "@hello\n",
    "def square(x):\n",
    "    return x*x\n",
    "```\n",
    "\n"
   ]
  },
  {
   "cell_type": "code",
   "execution_count": 5,
   "metadata": {},
   "outputs": [
    {
     "name": "stdout",
     "output_type": "stream",
     "text": [
      "Hello\n",
      "1\n",
      "Hello\n",
      "1\n",
      "Hello\n",
      "4\n",
      "Hello\n",
      "8\n",
      "Hello\n",
      "9\n",
      "Hello\n",
      "27\n",
      "Hello\n",
      "16\n",
      "Hello\n",
      "64\n",
      "Hello\n",
      "25\n",
      "Hello\n",
      "125\n",
      "Hello\n",
      "36\n",
      "Hello\n",
      "216\n",
      "Hello\n",
      "49\n",
      "Hello\n",
      "343\n",
      "Hello\n",
      "64\n",
      "Hello\n",
      "512\n",
      "Hello\n",
      "81\n",
      "Hello\n",
      "729\n"
     ]
    }
   ],
   "source": [
    "def hello(f):\n",
    "    def print_hello_f(x):\n",
    "        print('Hello')\n",
    "        return f(x)\n",
    "    return print_hello_f\n",
    "\n",
    "@hello\n",
    "def square(x):\n",
    "    return x*x\n",
    "@hello\n",
    "def cube(x):\n",
    "    return x**3\n",
    "\n",
    "for i in range(1,10):\n",
    "    for f in [square,cube]:\n",
    "        print(f(i))"
   ]
  },
  {
   "cell_type": "markdown",
   "metadata": {},
   "source": [
    "4\\. Write the factorial function so that it a) does and b) does not use recursion."
   ]
  },
  {
   "cell_type": "code",
   "execution_count": 6,
   "metadata": {},
   "outputs": [
    {
     "name": "stdout",
     "output_type": "stream",
     "text": [
      "Recursive factorial function evaluations:\n",
      "1\n",
      "1\n",
      "2\n",
      "6\n",
      "24\n",
      "\n",
      "Non-recursive factorial function evaluations:\n",
      "1\n",
      "1\n",
      "2\n",
      "6\n",
      "24\n"
     ]
    }
   ],
   "source": [
    "def rec_factorial(n):\n",
    "    if n in [0,1]:\n",
    "        return 1\n",
    "    return n*rec_factorial(n-1)\n",
    "print(f'Recursive factorial function evaluations:')\n",
    "for i in range(5):\n",
    "    print(rec_factorial(i))\n",
    "\n",
    "def factorial(n):\n",
    "    if n in [0,1]:\n",
    "        return 1\n",
    "    ans = 1\n",
    "    for i in range(1,n):\n",
    "        ans *= i\n",
    "    return n*ans\n",
    "print()\n",
    "print(f'Non-recursive factorial function evaluations:')\n",
    "for i in range(5):\n",
    "    print(factorial(i))"
   ]
  },
  {
   "cell_type": "markdown",
   "metadata": {},
   "source": [
    "5\\. Use HOFs (zip in particular) to compute the weight of a circle, a disk and a sphere, assuming different radii and different densities:\n",
    "\n",
    "```python\n",
    "densities = {\"Al\":[0.5,1,2],\"Fe\":[3,4,5],\"Pb\": [15,20,30]}\n",
    "radii = [1,2,3]\n",
    "```\n",
    "\n",
    "where the entries of the dictionary's values are the linear, superficial and volumetric densities of the materials respectively.\n",
    "\n",
    "In particular define a list of three lambda functions using a comprehension that computes the circumference, the area and the volume for a given radius.\n"
   ]
  },
  {
   "cell_type": "code",
   "execution_count": 15,
   "metadata": {},
   "outputs": [
    {
     "name": "stdout",
     "output_type": "stream",
     "text": [
      "Weights for various items of Al\n",
      "Weight for a circle with radius 1 m and density 0.5 Kg/m^1:\n",
      "30.79 N\n",
      "Weight for a disk with radius 2 m and density 1 Kg/m^1:\n",
      "123.15 N\n",
      "Weight for a sphere with radius 3 m and density 2 Kg/m^1:\n",
      "2216.71 N\n",
      "\n",
      "Weights for various items of Fe\n",
      "Weight for a circle with radius 1 m and density 3 Kg/m^1:\n",
      "184.73 N\n",
      "Weight for a disk with radius 2 m and density 4 Kg/m^1:\n",
      "492.6 N\n",
      "Weight for a sphere with radius 3 m and density 5 Kg/m^1:\n",
      "5541.77 N\n",
      "\n",
      "Weights for various items of Pb\n",
      "Weight for a circle with radius 1 m and density 15 Kg/m^1:\n",
      "923.63 N\n",
      "Weight for a disk with radius 2 m and density 20 Kg/m^1:\n",
      "2463.01 N\n",
      "Weight for a sphere with radius 3 m and density 30 Kg/m^1:\n",
      "33250.62 N\n",
      "\n"
     ]
    }
   ],
   "source": [
    "from math import pi\n",
    "densities = {\"Al\":[0.5,1,2],\"Fe\":[3,4,5],\"Pb\": [15,20,30]}\n",
    "radii = [1,2,3]\n",
    "perimeter = lambda r: 2*pi*r\n",
    "area = lambda r: pi*r**2\n",
    "volume = lambda r: 4*pi*r**3/3\n",
    "shapes = {'circle': perimeter,'disk': area, 'sphere': volume}\n",
    "g = 9.8\n",
    "\n",
    "for key, dens in densities.items():\n",
    "    print(f'Weights for various items of {key}')\n",
    "    for i, r, rho, shape in zip(range(len(radii)),radii,dens,shapes):\n",
    "        metric = shapes[shape]\n",
    "        print(f'Weight for a {shape} with radius {r} m and density {rho} Kg/m^{+1}:\\n{round(rho*metric(r)*g,2)} N')\n",
    "    print()"
   ]
  },
  {
   "cell_type": "markdown",
   "metadata": {},
   "source": [
    "6\\. Edit the class defintion to add an instance attribute of is_hungry = True to the Dog class. Then add a method called eat() which changes the value of is_hungry to False when called. Figure out the best way to feed each dog and then output “My dogs are hungry.” if all are hungry or “My dogs are not hungry.” if all are not hungry. The final output should look like this:\n",
    "\n",
    "`I have 3 dogs. \n",
    "Tom is 6. \n",
    "Fletcher is 7. \n",
    "Larry is 9. \n",
    "And they're all mammals, of course. \n",
    "My dogs are not hungry.\n",
    "`\n",
    "\n",
    "```python\n",
    "# Parent class\n",
    "class Dog:\n",
    "\n",
    "    # Class attribute\n",
    "    species = 'mammal'\n",
    "\n",
    "    # Initializer / Instance attributes\n",
    "    def __init__(self, name, age):\n",
    "        self.name = name\n",
    "        self.age = age\n",
    "\n",
    "    # instance method\n",
    "    def description(self):\n",
    "        return \"{} is {} years old\".format(self.name, self.age)\n",
    "\n",
    "    # instance method\n",
    "    def speak(self, sound):\n",
    "        return \"{} says {}\".format(self.name, sound)\n",
    "\n",
    "# Child class (inherits from Dog class)\n",
    "class RussellTerrier(Dog):\n",
    "    def run(self, speed):\n",
    "        return \"{} runs {}\".format(self.name, speed)\n",
    "\n",
    "# Child class (inherits from Dog class)\n",
    "class Bulldog(Dog):\n",
    "    def run(self, speed):\n",
    "        return \"{} runs {}\".format(self.name, speed)\n",
    "```"
   ]
  },
  {
   "cell_type": "code",
   "execution_count": null,
   "metadata": {},
   "outputs": [],
   "source": []
  }
 ],
 "metadata": {
  "kernelspec": {
   "display_name": "Python 3",
   "language": "python",
   "name": "python3"
  },
  "language_info": {
   "codemirror_mode": {
    "name": "ipython",
    "version": 3
   },
   "file_extension": ".py",
   "mimetype": "text/x-python",
   "name": "python",
   "nbconvert_exporter": "python",
   "pygments_lexer": "ipython3",
   "version": "3.7.3"
  }
 },
 "nbformat": 4,
 "nbformat_minor": 2
}
