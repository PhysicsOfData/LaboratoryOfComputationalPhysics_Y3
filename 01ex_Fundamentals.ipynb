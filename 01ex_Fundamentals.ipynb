{
 "cells": [
  {
   "cell_type": "markdown",
   "metadata": {},
   "source": [
    "1\\. Write the following as a list comprehension"
   ]
  },
  {
   "cell_type": "code",
   "execution_count": 1,
   "metadata": {},
   "outputs": [
    {
     "name": "stdout",
     "output_type": "stream",
     "text": [
      "[(0, 0), (0, 1), (0, 2), (0, 3), (1, 0), (1, 1), (1, 2), (1, 3), (2, 0), (2, 1), (2, 2), (2, 3)]\n",
      "[0, 4, 16]\n"
     ]
    }
   ],
   "source": [
    "# 1\n",
    "ans = []\n",
    "for i in range(3):\n",
    "    for j in range(4):\n",
    "        ans.append((i, j))\n",
    "print (ans)\n",
    "\n",
    "# 2\n",
    "ans = map(lambda x: x*x, filter(lambda x: x%2 == 0, range(5)))\n",
    "print (list(ans))\n",
    "\n"
   ]
  },
  {
   "cell_type": "code",
   "execution_count": 115,
   "metadata": {},
   "outputs": [
    {
     "name": "stdout",
     "output_type": "stream",
     "text": [
      "1) First way: [(0, 0), (0, 1), (0, 2), (0, 3), (1, 0), (1, 1), (1, 2), (1, 3), (2, 0), (2, 1), (2, 2), (2, 3)]\n",
      "1) Second way: [(0, 0), (0, 1), (0, 2), (0, 3), (1, 0), (1, 1), (1, 2), (1, 3), (2, 0), (2, 1), (2, 2), (2, 3)]\n",
      "2) [0, 4, 16]\n"
     ]
    }
   ],
   "source": [
    "# 1-Firts way \n",
    "\n",
    "i=[x for x in range(3)]\n",
    "j=[y for y in range(4)]\n",
    "print(\"1) First way:\", [(i[0],j[0]) , (i[0],j[1]) , (i[0],j[2]) , (i[0],j[3]) , (i[1],j[0]) , (i[1],j[1]) , (i[1],j[2]) , (i[1],j[3]) , (i[2],j[0]) , (i[2],j[1]) , (i[2],j[2]) , (i[2],j[3])])\n",
    "\n",
    "# 1-Second way\n",
    "\n",
    "i=[0,1,2]\n",
    "j=[0,1,2,3]\n",
    "print(\"1) Second way:\", [(a,b) for a in i for b in j])\n",
    "\n",
    "#2\n",
    "a= [x*x for x in range(5) if x%2==0]\n",
    "print(\"2)\", a)"
   ]
  },
  {
   "cell_type": "markdown",
   "metadata": {},
   "source": [
    "2\\. Convert the following function into a pure function with no global variables or side effects"
   ]
  },
  {
   "cell_type": "code",
   "execution_count": 173,
   "metadata": {},
   "outputs": [
    {
     "name": "stdout",
     "output_type": "stream",
     "text": [
      "[1, 2, 3, 0, 1, 2, 3, 4]\n",
      "[1, 2, 3, 0, 1, 2, 3, 4]\n"
     ]
    }
   ],
   "source": [
    "x = 5\n",
    "def f(alist):\n",
    "    for i in range(x):\n",
    "         alist.append(i)\n",
    "    return alist\n",
    "\n",
    "alist = [1,2,3]\n",
    "ans = f(alist)\n",
    "print (ans)\n",
    "print (alist) # alist has been changed!"
   ]
  },
  {
   "cell_type": "code",
   "execution_count": 145,
   "metadata": {},
   "outputs": [
    {
     "name": "stdout",
     "output_type": "stream",
     "text": [
      "[1, 2, 3]\n",
      "[1, 2, 3]\n",
      "[1, 2, 3, 0, 1, 2, 3, 4]\n"
     ]
    }
   ],
   "source": [
    "x = 5\n",
    "def f(alist):\n",
    "    for i in range(x):\n",
    "         alist.append(i)\n",
    "    alist = [1,2,3]\n",
    "    return alist\n",
    "alist = [1,2,3]\n",
    "print(alist)\n",
    "print (f(alist))\n",
    "print(alist)"
   ]
  },
  {
   "cell_type": "markdown",
   "metadata": {},
   "source": [
    "3\\. Write a `decorator` hello that makes every wrapped function print “Hello!”, i.e. something like:\n",
    "\n",
    "```python\n",
    "@hello\n",
    "def square(x):\n",
    "    return x*x\n",
    "```\n",
    "\n"
   ]
  },
  {
   "cell_type": "code",
   "execution_count": null,
   "metadata": {},
   "outputs": [],
   "source": []
  },
  {
   "cell_type": "markdown",
   "metadata": {},
   "source": [
    "4\\. Write the factorial function so that it a) does and b) does not use recursion."
   ]
  },
  {
   "cell_type": "code",
   "execution_count": 215,
   "metadata": {},
   "outputs": [
    {
     "name": "stdout",
     "output_type": "stream",
     "text": [
      "this number must be an integer otherwise, you won't get an answer\n",
      "None\n",
      "1\n",
      "39916800\n",
      "-----------------------------------------------------\n",
      "Enter your favorite number and receive its factorial:5\n",
      "Factorial of the number is:\n",
      "120\n"
     ]
    }
   ],
   "source": [
    "#a (with Recursion)\n",
    "\n",
    "def factorial(x):\n",
    "    if type(x) == int and x>=0:\n",
    "        if x == 0:\n",
    "            return 1\n",
    "        else:\n",
    "            return x*factorial(x-1)\n",
    "    else:\n",
    "        print(\"this number must be an integer otherwise, you won't get an answer\")\n",
    "print(factorial(1.6))\n",
    "print(factorial(0))\n",
    "print(factorial(11))\n",
    "\n",
    "\n",
    "\n",
    "print(\"-----------------------------------------------------\")\n",
    "\n",
    "#b (Without Recursion)\n",
    " \n",
    "i=int(input(\"Enter your favorite number and receive its factorial:\" ))\n",
    "factorial=1\n",
    "while(i>0):\n",
    "    factorial=factorial*i\n",
    "    i=i-1\n",
    "print(\"Factorial of the number is:\")\n",
    "print(factorial)"
   ]
  },
  {
   "cell_type": "markdown",
   "metadata": {},
   "source": [
    "5\\. Use HOFs (zip in particular) to compute the weight of a circle, a disk and a sphere, assuming different radii and different densities:\n",
    "\n",
    "```python\n",
    "densities = {\"Al\":[0.5,1,2],\"Fe\":[3,4,5],\"Pb\": [15,20,30]}\n",
    "radii = [1,2,3]\n",
    "```\n",
    "\n",
    "where the entries of the dictionary's values are the linear, superficial and volumetric densities of the materials respectively.\n",
    "\n",
    "In particular define a list of three lambda functions using a comprehension that computes the circumference, the area and the volume for a given radius.\n"
   ]
  },
  {
   "cell_type": "code",
   "execution_count": 64,
   "metadata": {},
   "outputs": [
    {
     "name": "stdout",
     "output_type": "stream",
     "text": [
      "[6.283185307179586, 12.566370614359172, 113.09733552923254]\n",
      "[3.141592653589793, 6.283185307179586, 12.566370614359172]\n",
      "[9.42477796076938, 50.26548245743669, 141.3716694115407]\n",
      "[62.83185307179586, 670.2064327658225, 3392.9200658769764]\n",
      "Al: 3.141592653589793 Fe: 9.42477796076938 Pb: 62.83185307179586\n",
      "Al: 6.283185307179586 Fe: 50.26548245743669 Pb: 670.2064327658225\n",
      "Al: 12.566370614359172 Fe: 141.3716694115407 Pb: 3392.9200658769764\n"
     ]
    }
   ],
   "source": [
    "import math as m\n",
    "De = {\"Al\":[0.5,1,2],\"Fe\":[3,4,5],\"Pb\":[15,20,30]}\n",
    "Ra = [1,2,3]\n",
    "[d,s,v] = [lambda r:m.pi*r*2 , lambda r:m.pi*r**2 , lambda r:(4/3)*m.pi*r**3]\n",
    "[W_d , W_s , W_v] = [lambda D,r:D*m.pi*2 , lambda D,r:D*m.pi*r**2 , lambda D,r:D*(4/3)*m.pi*r**3]\n",
    "\n",
    "print([d(Ra[0]),s(Ra[1]),v(Ra[2])])\n",
    "print([W_d(De['Al'][0],Ra[0]) , W_d(De['Al'][1],Ra[1]) , W_d(De['Al'][2],Ra[2])])\n",
    "print([W_s(De['Fe'][0],Ra[0]) , W_s(De['Fe'][1],Ra[1]) , W_s(De['Fe'][2],Ra[2])])\n",
    "print([W_v(De['Pb'][0],Ra[0]) , W_v(De['Pb'][1],Ra[1]) , W_v(De['Pb'][2],Ra[2])])\n",
    " \n",
    "A=[W_Al_d , W_Al_s , W_Al_v]=[W_d(De['Al'][0],Ra[0]) , W_d(De['Al'][1],Ra[1]) , W_d(De['Al'][2],Ra[2])]      \n",
    "B=[W_Fe_d , W_Fe_s , W_Fe_v]=[W_s(De['Fe'][0],Ra[0]) , W_s(De['Fe'][1],Ra[1]) , W_s(De['Fe'][2],Ra[2])]\n",
    "C=[W_Pb_d , W_Pb_s , W_Pb_v]=[W_v(De['Pb'][0],Ra[0]) , W_v(De['Pb'][1],Ra[1]) , W_v(De['Pb'][2],Ra[2])]\n",
    "\n",
    "for x,y,z in zip(A,B,C):\n",
    "    print(\"Al:\", x,\"Fe:\", y ,\"Pb:\", z)\n",
    "\n"
   ]
  },
  {
   "cell_type": "markdown",
   "metadata": {},
   "source": [
    "6\\. Edit the class defintion to add an instance attribute of is_hungry = True to the Dog class. Then add a method called eat() which changes the value of is_hungry to False when called. Figure out the best way to feed each dog and then output “My dogs are hungry.” if all are hungry or “My dogs are not hungry.” if all are not hungry. The final output should look like this:\n",
    "\n",
    "`I have 3 dogs. \n",
    "Tom is 6. \n",
    "Fletcher is 7. \n",
    "Larry is 9. \n",
    "And they're all mammals, of course. \n",
    "My dogs are not hungry.\n",
    "`\n",
    "\n",
    "```python\n",
    "# Parent class\n",
    "class Dog:\n",
    "\n",
    "    # Class attribute\n",
    "    species = 'mammal'\n",
    "\n",
    "    # Initializer / Instance attributes\n",
    "    def __init__(self, name, age):\n",
    "        self.name = name\n",
    "        self.age = age\n",
    "\n",
    "    # instance method\n",
    "    def description(self):\n",
    "        return \"{} is {} years old\".format(self.name, self.age)\n",
    "\n",
    "    # instance method\n",
    "    def speak(self, sound):\n",
    "        return \"{} says {}\".format(self.name, sound)\n",
    "\n",
    "# Child class (inherits from Dog class)\n",
    "class RussellTerrier(Dog):\n",
    "    def run(self, speed):\n",
    "        return \"{} runs {}\".format(self.name, speed)\n",
    "\n",
    "# Child class (inherits from Dog class)\n",
    "class Bulldog(Dog):\n",
    "    def run(self, speed):\n",
    "        return \"{} runs {}\".format(self.name, speed)\n",
    "```"
   ]
  },
  {
   "cell_type": "code",
   "execution_count": null,
   "metadata": {},
   "outputs": [],
   "source": []
  }
 ],
 "metadata": {
  "kernelspec": {
   "display_name": "Python 3",
   "language": "python",
   "name": "python3"
  },
  "language_info": {
   "codemirror_mode": {
    "name": "ipython",
    "version": 3
   },
   "file_extension": ".py",
   "mimetype": "text/x-python",
   "name": "python",
   "nbconvert_exporter": "python",
   "pygments_lexer": "ipython3",
   "version": "3.7.4"
  }
 },
 "nbformat": 4,
 "nbformat_minor": 2
}
