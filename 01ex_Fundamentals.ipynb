{
 "cells": [
  {
   "cell_type": "markdown",
   "metadata": {},
   "source": [
    "1\\. Write the following as a list comprehension"
   ]
  },
  {
   "cell_type": "code",
   "execution_count": null,
   "metadata": {
    "scrolled": true
   },
   "outputs": [],
   "source": [
    "# 1\n",
    "ans = []\n",
    "for i in range(3):\n",
    "    for j in range(4):\n",
    "        ans.append((i, j))\n",
    "print (ans)\n",
    "\n",
    "print([(i,j) for i in range(3) for j in range(4)])\n",
    "\n",
    "\n",
    "# 2\n",
    "ans = map(lambda x: x*x, filter(lambda x: x%2 == 0, range(5)))\n",
    "print (list(ans))\n",
    "\n",
    "print([x*x for x in range(5) if x%2 == 0])\n",
    "\n"
   ]
  },
  {
   "cell_type": "markdown",
   "metadata": {},
   "source": [
    "2\\. Convert the following function into a pure function with no global variables or side effects"
   ]
  },
  {
   "cell_type": "code",
   "execution_count": null,
   "metadata": {},
   "outputs": [],
   "source": [
    "x = 5\n",
    "def f(alist):\n",
    "    for i in range(x):\n",
    "         alist.append(i)\n",
    "    return alist\n",
    "\n",
    "alist = [1,2,3]\n",
    "ans = f(alist)\n",
    "print (ans)\n",
    "print (alist) # alist has been changed!"
   ]
  },
  {
   "cell_type": "code",
   "execution_count": null,
   "metadata": {},
   "outputs": [],
   "source": [
    "#pure function\n",
    "x = 5\n",
    "def f(alist):\n",
    "    new_alist=[]\n",
    "    for t in alist:\n",
    "        new_alist.append(t)\n",
    "    for i in range(x):\n",
    "        new_alist.append(i)\n",
    "    return new_alist\n",
    "\n",
    "alist = [1,2,3]\n",
    "ans = f(alist)\n",
    "print (ans)\n",
    "print (alist) # alist has been changed!"
   ]
  },
  {
   "cell_type": "markdown",
   "metadata": {},
   "source": [
    "3\\. Write a `decorator` hello that makes every wrapped function print “Hello!”, i.e. something like:\n",
    "\n",
    "```python\n",
    "@hello\n",
    "def square(x):\n",
    "    return x*x\n",
    "```\n",
    "\n"
   ]
  },
  {
   "cell_type": "code",
   "execution_count": null,
   "metadata": {},
   "outputs": [],
   "source": [
    "def hello(func):\n",
    "    def deco(t):\n",
    "        print(\"Hello!\")\n",
    "        func(t)\n",
    "        print(\"Hello!\")\n",
    "    return deco\n",
    "\n",
    "@hello\n",
    "def square(x):\n",
    "    print(x*x)\n",
    "\n",
    "\n",
    "square(2)\n",
    "#https://www.geeksforgeeks.org/decorators-with-parameters-in-python/ non ho capito se ho compreso bene l'esercizio"
   ]
  },
  {
   "cell_type": "markdown",
   "metadata": {},
   "source": [
    "4\\. Write the factorial function so that it a) does and b) does not use recursion."
   ]
  },
  {
   "cell_type": "code",
   "execution_count": 8,
   "metadata": {},
   "outputs": [
    {
     "data": {
      "text/plain": [
       "(720, 720)"
      ]
     },
     "execution_count": 8,
     "metadata": {},
     "output_type": "execute_result"
    }
   ],
   "source": [
    "#without recursion\n",
    "def fattoriale(x):\n",
    "    n=1\n",
    "    for i in range(0,x):\n",
    "        n=n*(x-i)\n",
    "    return n\n",
    "\n",
    "\n",
    "\n",
    "#with recursion\n",
    "def fatt(x):\n",
    "    if x==1: return 1\n",
    "    else: return x*fatt(x-1)\n",
    "    \n",
    "(fatt(6),fattoriale(6))"
   ]
  },
  {
   "cell_type": "markdown",
   "metadata": {},
   "source": [
    "5\\. Use HOFs (zip in particular) to compute the weight of a circle, a disk and a sphere, assuming different radii and different densities:\n",
    "\n",
    "```python\n",
    "densities = {\"Al\":[0.5,1,2],\"Fe\":[3,4,5],\"Pb\": [15,20,30]}\n",
    "radii = [1,2,3]\n",
    "```\n",
    "\n",
    "where the entries of the dictionary's values are the linear, superficial and volumetric densities of the materials respectively.\n",
    "\n",
    "In particular define a list of three lambda functions using a comprehension that computes the circumference, the area and the volume for a given radius.\n"
   ]
  },
  {
   "cell_type": "code",
   "execution_count": 64,
   "metadata": {},
   "outputs": [
    {
     "name": "stdout",
     "output_type": "stream",
     "text": [
      "[0.5, 1, 2]\n",
      "Al [0.5, 1, 2]\n",
      "Fe [3, 4, 5]\n",
      "Pb [15, 20, 30]\n",
      "[[6.283185307179586, 3.141592653589793, 4.1887902047863905], [12.566370614359172, 12.566370614359172, 33.510321638291124], [18.84955592153876, 28.274333882308138, 113.09733552923254]]\n",
      "0.5 6.283185307179586 3.141592653589793\n",
      "1 3.141592653589793 3.141592653589793\n",
      "2 4.1887902047863905 8.377580409572781\n",
      "0.5 12.566370614359172 6.283185307179586\n",
      "1 12.566370614359172 12.566370614359172\n",
      "2 33.510321638291124 67.02064327658225\n",
      "0.5 18.84955592153876 9.42477796076938\n",
      "1 28.274333882308138 28.274333882308138\n",
      "2 113.09733552923254 226.19467105846508\n",
      "0.5 6.283185307179586\n",
      "1 3.141592653589793\n",
      "2 4.1887902047863905\n"
     ]
    }
   ],
   "source": [
    "import math as m\n",
    "\n",
    "densities = {\"Al\":[0.5,1,2],\"Fe\":[3,4,5],\"Pb\": [15,20,30]}\n",
    "\n",
    "\n",
    "print(densities[\"Al\"])\n",
    "for i in densities: print (i,densities[i]) \n",
    "\n",
    "alist = []\n",
    "radii = [1,2,3]\n",
    "\n",
    "alist=[i for i in map(lambda x: [ 2*m.pi*x, m.pi*(x**2),(4/3)*m.pi*(x**3)],radii)]\n",
    "print(alist)\n",
    "\n",
    "pesi=[]\n",
    "for i in range(0,len(radii)):\n",
    "        for a, b in zip(densities[\"Al\"], alist[i]): print(a,b,a*b)\n",
    "            pesi.pp\n",
    "\n",
    "    \n",
    "#print(pesi)\n",
    "xs = [0.5,1,2]\n",
    "ys = [6.283185307179586, 3.141592653589793, 4.1887902047863905]\n",
    "\n",
    "for x, y in zip(xs, ys):\n",
    "    print (x, y)"
   ]
  },
  {
   "cell_type": "markdown",
   "metadata": {},
   "source": [
    "6\\. Edit the class defintion to add an instance attribute of is_hungry = True to the Dog class. Then add a method called eat() which changes the value of is_hungry to False when called. Figure out the best way to feed each dog and then output “My dogs are hungry.” if all are hungry or “My dogs are not hungry.” if all are not hungry. The final output should look like this:\n",
    "\n",
    "`I have 3 dogs. \n",
    "Tom is 6. \n",
    "Fletcher is 7. \n",
    "Larry is 9. \n",
    "And they're all mammals, of course. \n",
    "My dogs are not hungry.\n",
    "`\n",
    "\n",
    "```python\n",
    "# Parent class\n",
    "class Dog:\n",
    "\n",
    "    # Class attribute\n",
    "    species = 'mammal'\n",
    "\n",
    "    # Initializer / Instance attributes\n",
    "    def __init__(self, name, age):\n",
    "        self.name = name\n",
    "        self.age = age\n",
    "\n",
    "    # instance method\n",
    "    def description(self):\n",
    "        return \"{} is {} years old\".format(self.name, self.age)\n",
    "\n",
    "    # instance method\n",
    "    def speak(self, sound):\n",
    "        return \"{} says {}\".format(self.name, sound)\n",
    "\n",
    "# Child class (inherits from Dog class)\n",
    "class RussellTerrier(Dog):\n",
    "    def run(self, speed):\n",
    "        return \"{} runs {}\".format(self.name, speed)\n",
    "\n",
    "# Child class (inherits from Dog class)\n",
    "class Bulldog(Dog):\n",
    "    def run(self, speed):\n",
    "        return \"{} runs {}\".format(self.name, speed)\n",
    "```"
   ]
  },
  {
   "cell_type": "code",
   "execution_count": null,
   "metadata": {},
   "outputs": [],
   "source": []
  }
 ],
 "metadata": {
  "kernelspec": {
   "display_name": "Python 3",
   "language": "python",
   "name": "python3"
  },
  "language_info": {
   "codemirror_mode": {
    "name": "ipython",
    "version": 3
   },
   "file_extension": ".py",
   "mimetype": "text/x-python",
   "name": "python",
   "nbconvert_exporter": "python",
   "pygments_lexer": "ipython3",
   "version": "3.8.3"
  }
 },
 "nbformat": 4,
 "nbformat_minor": 2
}
