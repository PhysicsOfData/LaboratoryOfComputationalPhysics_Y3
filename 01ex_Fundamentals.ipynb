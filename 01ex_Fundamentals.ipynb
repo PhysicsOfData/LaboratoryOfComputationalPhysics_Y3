{
 "cells": [
  {
   "cell_type": "markdown",
   "metadata": {},
   "source": [
    "1\\. Write the following as a list comprehension"
   ]
  },
  {
   "cell_type": "code",
   "execution_count": 8,
   "metadata": {},
   "outputs": [
    {
     "name": "stdout",
     "output_type": "stream",
     "text": [
      "[(0, 0), (0, 1), (0, 2), (0, 3), (1, 0), (1, 1), (1, 2), (1, 3), (2, 0), (2, 1), (2, 2), (2, 3)]\n",
      "[(0, 0), (0, 1), (0, 2), (0, 3), (1, 0), (1, 1), (1, 2), (1, 3), (2, 0), (2, 1), (2, 2), (2, 3)]\n",
      "[0, 4, 16]\n",
      "[0, 4, 16]\n"
     ]
    }
   ],
   "source": [
    "# 1\n",
    "ans = []\n",
    "for i in range(3):\n",
    "    for j in range(4):\n",
    "        ans.append((i, j))\n",
    "print (ans)\n",
    "\n",
    "#list comprehension\n",
    "ans = [(i,j) for i in range(3) for j in range(4)]\n",
    "print (ans)\n",
    "\n",
    "# 2\n",
    "ans = map(lambda x: x*x, filter(lambda x: x%2 == 0, range(5)))\n",
    "print (list(ans))\n",
    "\n",
    "#list comprehension\n",
    "ans = [x*x for x in range(5) if x%2 ==0]\n",
    "print (list(ans))"
   ]
  },
  {
   "cell_type": "markdown",
   "metadata": {},
   "source": [
    "2\\. Convert the following function into a pure function with no global variables or side effects"
   ]
  },
  {
   "cell_type": "code",
   "execution_count": 3,
   "metadata": {},
   "outputs": [
    {
     "name": "stdout",
     "output_type": "stream",
     "text": [
      "[0, 1, 2, 3, 4]\n",
      "[1, 2, 3]\n"
     ]
    }
   ],
   "source": [
    "def f(alist, x=5):\n",
    "    alist = [i for i in range(x)]\n",
    "    return alist\n",
    "\n",
    "alist = [1,2,3]\n",
    "ans = f(alist)\n",
    "print (ans)\n",
    "print (alist) # alist has been changed!"
   ]
  },
  {
   "cell_type": "markdown",
   "metadata": {},
   "source": [
    "3\\. Write a `decorator` hello that makes every wrapped function print “Hello!”, i.e. something like:\n",
    "\n",
    "```python\n",
    "@hello\n",
    "def square(x):\n",
    "    return x*x\n",
    "```\n",
    "\n"
   ]
  },
  {
   "cell_type": "code",
   "execution_count": 29,
   "metadata": {},
   "outputs": [
    {
     "name": "stdout",
     "output_type": "stream",
     "text": [
      "Hello!\n"
     ]
    },
    {
     "data": {
      "text/plain": [
       "27"
      ]
     },
     "execution_count": 29,
     "metadata": {},
     "output_type": "execute_result"
    }
   ],
   "source": [
    "def hello(func):\n",
    "    def wrapper(*args):\n",
    "        print('Hello!')\n",
    "        func(*args)\n",
    "        return func(*args)\n",
    "    return wrapper\n",
    "\n",
    "@hello\n",
    "def cube(x):\n",
    "    return x*x*x\n",
    "\n",
    "#example\n",
    "cube(3)"
   ]
  },
  {
   "cell_type": "markdown",
   "metadata": {},
   "source": [
    "4\\. Write the factorial function so that it a) does and b) does not use recursion."
   ]
  },
  {
   "cell_type": "code",
   "execution_count": 40,
   "metadata": {},
   "outputs": [
    {
     "name": "stdout",
     "output_type": "stream",
     "text": [
      "120\n",
      "120\n"
     ]
    }
   ],
   "source": [
    "#a) recursive function\n",
    "def facto1(m):\n",
    "    if m==0 or m==1:\n",
    "        return 1\n",
    "    else:\n",
    "        return m*facto1(m-1)\n",
    "    \n",
    "print(facto1(5))\n",
    "\n",
    "#b) not recursive function\n",
    "def facto2(h):\n",
    "    f=1\n",
    "    for i in range(1, h+1):\n",
    "        f *= i\n",
    "    return f\n",
    "\n",
    "print(facto2(5))"
   ]
  },
  {
   "cell_type": "markdown",
   "metadata": {},
   "source": [
    "5\\. Use HOFs (zip in particular) to compute the weight of a circle, a disk and a sphere, assuming different radii and different densities:\n",
    "\n",
    "```python\n",
    "densities = {\"Al\":[0.5,1,2],\"Fe\":[3,4,5],\"Pb\": [15,20,30]}\n",
    "radii = [1,2,3]\n",
    "```\n",
    "\n",
    "where the entries of the dictionary's values are the linear, superficial and volumetric densities of the materials respectively.\n",
    "\n",
    "In particular define a list of three lambda functions using a comprehension that computes the circumference, the area and the volume for a given radius.\n"
   ]
  },
  {
   "cell_type": "code",
   "execution_count": 10,
   "metadata": {},
   "outputs": [
    {
     "name": "stdout",
     "output_type": "stream",
     "text": [
      "\n",
      " 1 dim\n",
      "Al: radius= 1 weight= 3.141592653589793\n",
      "Al: radius= 2 weight= 6.283185307179586\n",
      "Al: radius= 3 weight= 9.42477796076938\n",
      "\n",
      " 2 dim\n",
      "Al: radius= 1 weight= 3.141592653589793\n",
      "Al: radius= 2 weight= 12.566370614359172\n",
      "Al: radius= 3 weight= 28.274333882308138\n",
      "\n",
      " 3 dim\n",
      "Al: radius= 1 weight= 8.377580409572781\n",
      "Al: radius= 2 weight= 67.02064327658225\n",
      "Al: radius= 3 weight= 226.19467105846508\n",
      "\n",
      " 1 dim\n",
      "Fe: radius= 1 weight= 18.84955592153876\n",
      "Fe: radius= 2 weight= 37.69911184307752\n",
      "Fe: radius= 3 weight= 56.548667764616276\n",
      "\n",
      " 2 dim\n",
      "Fe: radius= 1 weight= 12.566370614359172\n",
      "Fe: radius= 2 weight= 50.26548245743669\n",
      "Fe: radius= 3 weight= 113.09733552923255\n",
      "\n",
      " 3 dim\n",
      "Fe: radius= 1 weight= 20.94395102393195\n",
      "Fe: radius= 2 weight= 167.5516081914556\n",
      "Fe: radius= 3 weight= 565.4866776461627\n",
      "\n",
      " 1 dim\n",
      "Pb: radius= 1 weight= 94.24777960769379\n",
      "Pb: radius= 2 weight= 188.49555921538757\n",
      "Pb: radius= 3 weight= 282.7433388230814\n",
      "\n",
      " 2 dim\n",
      "Pb: radius= 1 weight= 62.83185307179586\n",
      "Pb: radius= 2 weight= 251.32741228718345\n",
      "Pb: radius= 3 weight= 565.4866776461628\n",
      "\n",
      " 3 dim\n",
      "Pb: radius= 1 weight= 125.66370614359171\n",
      "Pb: radius= 2 weight= 1005.3096491487337\n",
      "Pb: radius= 3 weight= 3392.920065876976\n"
     ]
    }
   ],
   "source": [
    "import math as m\n",
    "densities = {\"Al\":[0.5,1,2],\"Fe\":[3,4,5],\"Pb\": [15,20,30]}\n",
    "radii = [1,2,3]\n",
    "\n",
    "fun = [lambda r: 2*m.pi*r , lambda r: m.pi*(r)**2, lambda r: (4/3)*m.pi*(r)**3]\n",
    "for k in densities :\n",
    "    n = 0\n",
    "    for d,f in zip(densities[k],fun):\n",
    "        n+=1\n",
    "        print(\"\\n\", n, \"dim\")\n",
    "        for i in radii:print(k + \":\", \"radius=\",i, \"weight=\", d*f(i))"
   ]
  },
  {
   "cell_type": "markdown",
   "metadata": {},
   "source": [
    "6\\. Edit the class defintion to add an instance attribute of is_hungry = True to the Dog class. Then add a method called eat() which changes the value of is_hungry to False when called. Figure out the best way to feed each dog and then output “My dogs are hungry.” if all are hungry or “My dogs are not hungry.” if all are not hungry. The final output should look like this:\n",
    "\n",
    "`I have 3 dogs. \n",
    "Tom is 6. \n",
    "Fletcher is 7. \n",
    "Larry is 9. \n",
    "And they're all mammals, of course. \n",
    "My dogs are not hungry.\n",
    "`\n",
    "\n",
    "```python\n",
    "# Parent class\n",
    "class Dog:\n",
    "\n",
    "    # Class attribute\n",
    "    species = 'mammal'\n",
    "\n",
    "    # Initializer / Instance attributes\n",
    "    def __init__(self, name, age):\n",
    "        self.name = name\n",
    "        self.age = age\n",
    "\n",
    "    # instance method\n",
    "    def description(self):\n",
    "        return \"{} is {} years old\".format(self.name, self.age)\n",
    "\n",
    "    # instance method\n",
    "    def speak(self, sound):\n",
    "        return \"{} says {}\".format(self.name, sound)\n",
    "\n",
    "# Child class (inherits from Dog class)\n",
    "class RussellTerrier(Dog):\n",
    "    def run(self, speed):\n",
    "        return \"{} runs {}\".format(self.name, speed)\n",
    "\n",
    "# Child class (inherits from Dog class)\n",
    "class Bulldog(Dog):\n",
    "    def run(self, speed):\n",
    "        return \"{} runs {}\".format(self.name, speed)\n",
    "```"
   ]
  },
  {
   "cell_type": "code",
   "execution_count": 124,
   "metadata": {},
   "outputs": [
    {
     "name": "stdout",
     "output_type": "stream",
     "text": [
      "WELCOME TO THIS DOGHOUSE\n",
      "I have 3 dogs\n",
      "John is 2 years old\n",
      "Do you want to feed the dog? y/n: y\n",
      "Sherlock is 2 years old\n",
      "Do you want to feed the dog? y/n: y\n",
      "Mary is 1 years old\n",
      "Do you want to feed the dog? y/n: y\n",
      "John is not hungry\n",
      "Sherlock is not hungry\n",
      "Mary is not hungry\n"
     ]
    }
   ],
   "source": [
    "# Parent class\n",
    "class Dog:\n",
    "\n",
    "    # Class attribute\n",
    "    species = 'mammal'\n",
    "\n",
    "    # Initializer / Instance attributes\n",
    "    def __init__(self, name, age):\n",
    "        self.name = name\n",
    "        self.age = age\n",
    "        self.is_hungry = True\n",
    "\n",
    "    # instance method\n",
    "    def description(self):\n",
    "        return \"{} is {} years old\".format(self.name, self.age)\n",
    "\n",
    "    # instance method\n",
    "    def speak(self, sound):\n",
    "        return \"{} says {}\".format(self.name, sound)\n",
    "    \n",
    "    #instance method\n",
    "    def eat(self):\n",
    "        self.is_hungry = False\n",
    "        return \"{} is no longer hungry\".format(self.name)\n",
    "    \n",
    "# Child class (inherits from Dog class)\n",
    "class RussellTerrier(Dog):\n",
    "    def run(self, speed):\n",
    "        return \"{} runs {}\".format(self.name, speed)\n",
    "\n",
    "# Child class (inherits from Dog class)\n",
    "class Bulldog(Dog):\n",
    "    def run(self, speed):\n",
    "        return \"{} runs {}\".format(self.name, speed)\n",
    "\n",
    "# Child class (inherits from Dog class)\n",
    "class Akira(Dog):\n",
    "    def run(self, speed):\n",
    "        return \"{} runs {}\".format(self.name, speed)\n",
    "\n",
    "def hungry(p):\n",
    "    for t in p:\n",
    "        if t.is_hungry == True : print(t.name, 'is hungry')\n",
    "        else: print(t.name, 'is not hungry')\n",
    "\n",
    "print('WELCOME TO THIS DOGHOUSE')\n",
    "pets = [Bulldog(\"John\", 2), RussellTerrier(\"Sherlock\", 2), Akira(\"Mary\", 1)]\n",
    "print('I have', len(pets), 'dogs')\n",
    "for i in pets :\n",
    "    print(i.description())\n",
    "    a = input('Do you want to feed the dog? y/n: ')\n",
    "    if a == 'y': i.eat()\n",
    "hungry(pets)\n"
   ]
  },
  {
   "cell_type": "code",
   "execution_count": null,
   "metadata": {},
   "outputs": [],
   "source": []
  }
 ],
 "metadata": {
  "kernelspec": {
   "display_name": "Python 3",
   "language": "python",
   "name": "python3"
  },
  "language_info": {
   "codemirror_mode": {
    "name": "ipython",
    "version": 3
   },
   "file_extension": ".py",
   "mimetype": "text/x-python",
   "name": "python",
   "nbconvert_exporter": "python",
   "pygments_lexer": "ipython3",
<<<<<<< HEAD
   "version": "3.8.3"
=======
   "version": "3.7.6"
>>>>>>> upstream/master
  }
 },
 "nbformat": 4,
 "nbformat_minor": 2
}
