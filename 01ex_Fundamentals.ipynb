{
 "cells": [
  {
   "cell_type": "markdown",
   "metadata": {},
   "source": [
    "1\\. Write the following as a list comprehension"
   ]
  },
  {
   "cell_type": "code",
   "execution_count": 1,
   "metadata": {},
   "outputs": [
    {
     "name": "stdout",
     "output_type": "stream",
     "text": [
      "[(0, 0), (0, 1), (0, 2), (0, 3), (1, 0), (1, 1), (1, 2), (1, 3), (2, 0), (2, 1), (2, 2), (2, 3)]\n",
      "[0, 4, 16]\n"
     ]
    }
   ],
   "source": [
    "# 1\n",
    "ans = []\n",
    "for i in range(3):\n",
    "    for j in range(4):\n",
    "        ans.append((i, j))\n",
    "print (ans)\n",
    "\n",
    "# 2\n",
    "ans = map(lambda x: x*x, filter(lambda x: x%2 == 0, range(5)))\n",
    "print (list(ans))\n",
    "\n"
   ]
  },
  {
   "cell_type": "code",
   "execution_count": 2,
   "metadata": {},
   "outputs": [
    {
     "name": "stdout",
     "output_type": "stream",
     "text": [
      "[(0, 0), (0, 1), (0, 2), (0, 3), (1, 0), (1, 1), (1, 2), (1, 3), (2, 0), (2, 1), (2, 2), (2, 3)]\n"
     ]
    }
   ],
   "source": [
    "# solution of 1\n",
    "ans = [(x,y) for x in range(3) for y in range(4)]\n",
    "print(ans)"
   ]
  },
  {
   "cell_type": "code",
   "execution_count": 3,
   "metadata": {},
   "outputs": [
    {
     "name": "stdout",
     "output_type": "stream",
     "text": [
      "[0, 4, 16]\n"
     ]
    }
   ],
   "source": [
    "# solution of 2\n",
    "ans = [x*x for x in range(5) if x%2 == 0]\n",
    "print(ans)"
   ]
  },
  {
   "cell_type": "markdown",
   "metadata": {},
   "source": [
    "2\\. Convert the following function into a pure function with no global variables or side effects"
   ]
  },
  {
   "cell_type": "code",
   "execution_count": 4,
   "metadata": {},
   "outputs": [
    {
     "name": "stdout",
     "output_type": "stream",
     "text": [
      "[1, 2, 3, 0, 1, 2, 3, 4]\n",
      "[1, 2, 3, 0, 1, 2, 3, 4]\n"
     ]
    }
   ],
   "source": [
    "x = 5\n",
    "def f(alist):\n",
    "    for i in range(x):\n",
    "         alist.append(i)\n",
    "    return alist\n",
    "\n",
    "alist = [1,2,3]\n",
    "ans = f(alist)\n",
    "print (ans)\n",
    "print (alist) # alist has been changed!"
   ]
  },
  {
   "cell_type": "code",
   "execution_count": 5,
   "metadata": {},
   "outputs": [
    {
     "name": "stdout",
     "output_type": "stream",
     "text": [
      "[1, 2, 3, 0, 1, 2, 3, 4]\n",
      "[1, 2, 3]\n"
     ]
    }
   ],
   "source": [
    "# solution\n",
    "def f_new(alist, x=5):\n",
    "    temp = alist.copy()\n",
    "    for i in range(x):\n",
    "        temp.append(i)\n",
    "    return temp\n",
    "\n",
    "# example\n",
    "alist = [1,2,3]\n",
    "ans = f_new(alist)\n",
    "print (ans)\n",
    "print (alist) # alist has not been changed!"
   ]
  },
  {
   "cell_type": "markdown",
   "metadata": {},
   "source": [
    "3\\. Write a `decorator` hello that makes every wrapped function print “Hello!”, i.e. something like:\n",
    "\n",
    "```python\n",
    "@hello\n",
    "def square(x):\n",
    "    return x*x\n",
    "```\n",
    "\n"
   ]
  },
  {
   "cell_type": "code",
   "execution_count": 6,
   "metadata": {},
   "outputs": [
    {
     "name": "stdout",
     "output_type": "stream",
     "text": [
      "Hello!\n",
      "16\n"
     ]
    }
   ],
   "source": [
    "def hello(func):\n",
    "    def wrapper(x):\n",
    "        print(\"Hello!\")\n",
    "        print(func(x))\n",
    "    return wrapper\n",
    "\n",
    "@hello\n",
    "def square(x):\n",
    "    return x*x\n",
    "\n",
    "# example\n",
    "square(4)"
   ]
  },
  {
   "cell_type": "markdown",
   "metadata": {},
   "source": [
    "4\\. Write the factorial function so that it a) does and b) does not use recursion."
   ]
  },
  {
   "cell_type": "code",
   "execution_count": 7,
   "metadata": {},
   "outputs": [],
   "source": [
    "# solution of a)\n",
    "def fact1(x):\n",
    "    if (x < 0):\n",
    "        return \"impossible\"\n",
    "    if (x == 0):\n",
    "        return 1\n",
    "    return fact1(x-1)*x"
   ]
  },
  {
   "cell_type": "code",
   "execution_count": 8,
   "metadata": {},
   "outputs": [],
   "source": [
    "# solution of b)\n",
    "def fact2(x):\n",
    "    if (x < 0):\n",
    "        return \"impossible\"\n",
    "    if (x == 0):\n",
    "        return 1\n",
    "    fact = 1\n",
    "    for i in range(1, x+1):\n",
    "        fact *= i\n",
    "    return fact"
   ]
  },
  {
   "cell_type": "code",
   "execution_count": 9,
   "metadata": {},
   "outputs": [
    {
     "name": "stdout",
     "output_type": "stream",
     "text": [
      "120\n",
      "120\n"
     ]
    }
   ],
   "source": [
    "# example\n",
    "x = 5\n",
    "print(fact1(5))\n",
    "print(fact2(5))"
   ]
  },
  {
   "cell_type": "markdown",
   "metadata": {},
   "source": [
    "5\\. Use HOFs (zip in particular) to compute the weight of a circle, a disk and a sphere, assuming different radii and different densities:\n",
    "\n",
    "```python\n",
    "densities = {\"Al\":[0.5,1,2],\"Fe\":[3,4,5],\"Pb\": [15,20,30]}\n",
    "radii = [1,2,3]\n",
    "```\n",
    "\n",
    "where the entries of the dictionary's values are the linear, superficial and volumetric densities of the materials respectively.\n",
    "\n",
    "In particular define a list of three lambda functions using a comprehension that computes the circumference, the area and the volume for a given radius.\n"
   ]
  },
  {
   "cell_type": "code",
   "execution_count": 10,
   "metadata": {},
   "outputs": [],
   "source": [
    "import math\n",
    "\n",
    "densities = {\"Al\":[0.5,1,2],\"Fe\":[3,4,5],\"Pb\": [15,20,30]}\n",
    "radii = [1,2,3]\n",
    "\n",
    "lambda_list = [lambda r: 2 * math.pi * r, lambda r: math.pi * r**2, lambda r: (4/3) * math.pi * r**3]"
   ]
  },
  {
   "cell_type": "code",
   "execution_count": 11,
   "metadata": {},
   "outputs": [
    {
     "name": "stdout",
     "output_type": "stream",
     "text": [
      "The circumference, the area and the volume for the Al are:\n",
      "With radius 1 :\n",
      "3.141592653589793\n",
      "3.141592653589793\n",
      "8.377580409572781\n",
      "With radius 2 :\n",
      "6.283185307179586\n",
      "12.566370614359172\n",
      "67.02064327658225\n",
      "With radius 3 :\n",
      "9.42477796076938\n",
      "28.274333882308138\n",
      "226.19467105846508\n",
      "The circumference, the area and the volume for the Fe are:\n",
      "With radius 1 :\n",
      "18.84955592153876\n",
      "12.566370614359172\n",
      "20.94395102393195\n",
      "With radius 2 :\n",
      "37.69911184307752\n",
      "50.26548245743669\n",
      "167.5516081914556\n",
      "With radius 3 :\n",
      "56.548667764616276\n",
      "113.09733552923255\n",
      "565.4866776461627\n",
      "The circumference, the area and the volume for the Pb are:\n",
      "With radius 1 :\n",
      "94.24777960769379\n",
      "62.83185307179586\n",
      "125.66370614359171\n",
      "With radius 2 :\n",
      "188.49555921538757\n",
      "251.32741228718345\n",
      "1005.3096491487337\n",
      "With radius 3 :\n",
      "282.7433388230814\n",
      "565.4866776461628\n",
      "3392.920065876976\n"
     ]
    }
   ],
   "source": [
    "# example\n",
    "for key in densities:\n",
    "    print(\"The circumference, the area and the volume for the\", key, \"are:\")\n",
    "    combine_dens_rad = [(x, y) for x in radii for y in densities[key]]\n",
    "    for i, dens_rad in enumerate(combine_dens_rad):\n",
    "        if (i % len(radii) == 0):\n",
    "            print(\"With radius\", dens_rad[0], \":\")\n",
    "        print(lambda_list[i % len(radii)](dens_rad[0]) * dens_rad[1])"
   ]
  },
  {
   "cell_type": "markdown",
   "metadata": {},
   "source": [
    "6\\. Edit the class defintion to add an instance attribute of is_hungry = True to the Dog class. Then add a method called eat() which changes the value of is_hungry to False when called. Figure out the best way to feed each dog and then output “My dogs are hungry.” if all are hungry or “My dogs are not hungry.” if all are not hungry. The final output should look like this:\n",
    "\n",
    "`I have 3 dogs. \n",
    "Tom is 6. \n",
    "Fletcher is 7. \n",
    "Larry is 9. \n",
    "And they're all mammals, of course. \n",
    "My dogs are not hungry.\n",
    "`"
   ]
  },
  {
   "cell_type": "code",
   "execution_count": 12,
   "metadata": {},
   "outputs": [],
   "source": [
    "# Parent class\n",
    "class Dog:\n",
    "\n",
    "    # Class attributes\n",
    "    species = 'mammal'\n",
    "    is_hungry = True\n",
    "\n",
    "    # Initializer / Instance attributes\n",
    "    def __init__(self, name, age):\n",
    "        self.name = name\n",
    "        self.age = age\n",
    "\n",
    "    # instance method\n",
    "    def description(self):\n",
    "        return \"{} is {}.\".format(self.name, self.age)\n",
    "\n",
    "    # instance method\n",
    "    def speak(self, sound):\n",
    "        return \"{} says {}\".format(self.name, sound)\n",
    "    \n",
    "    # instance method\n",
    "    def eat(self):\n",
    "        self.is_hungry = False\n",
    "\n",
    "# Child class (inherits from Dog class)\n",
    "class RussellTerrier(Dog):\n",
    "    def run(self, speed):\n",
    "        return \"{} runs {}\".format(self.name, speed)\n",
    "\n",
    "# Child class (inherits from Dog class)\n",
    "class Bulldog(Dog):\n",
    "    def run(self, speed):\n",
    "        return \"{} runs {}\".format(self.name, speed)"
   ]
  },
  {
   "cell_type": "code",
   "execution_count": 13,
   "metadata": {},
   "outputs": [
    {
     "name": "stdout",
     "output_type": "stream",
     "text": [
      "I have 3 dogs.\n",
      "Tom is 6.\n",
      "Fletcher is 7.\n",
      "Larry is 9.\n",
      "And they're all mammals, of course.\n",
      "My dogs are not hungry.\n"
     ]
    }
   ],
   "source": [
    "def count_mammals(dl):\n",
    "    if (len(dl) == 0):\n",
    "        return \"You do not have any dog\"\n",
    "    count = 0\n",
    "    for i in range(len(dl)):\n",
    "        if (dl[i].species == \"mammal\"):\n",
    "            count += 1\n",
    "    if (count == len(dl)):\n",
    "        print(\"And they're all mammals, of course.\")\n",
    "    return\n",
    "        \n",
    "        \n",
    "def print_descr(dl):\n",
    "    if (len(dl) == 0):\n",
    "        return \"You do not have any dog\"\n",
    "    for i in range(len(dl)):\n",
    "        print(dl[i].description())\n",
    "    return\n",
    "        \n",
    "        \n",
    "def feed_all(dl):\n",
    "    if (len(dl) == 0):\n",
    "        return \"You do not have any dog\"\n",
    "    for i in range(len(dl)):\n",
    "        dl[i].eat()\n",
    "    return\n",
    "        \n",
    "        \n",
    "def check_if_hungry(dl):\n",
    "    if (len(dl) == 0):\n",
    "        return \"You do not have any dog\"\n",
    "    state = dl[0].is_hungry\n",
    "    for i in range(len(dl)):\n",
    "        if (state != dl[i].is_hungry):\n",
    "            return\n",
    "    if (state == True):\n",
    "        print(\"My dogs are hungry.\")\n",
    "        return\n",
    "    print(\"My dogs are not hungry.\")\n",
    "\n",
    "    \n",
    "    \n",
    "# example\n",
    "dog_list = [Dog(\"Tom\", 6), Dog(\"Fletcher\", 7), Dog(\"Larry\", 9)]\n",
    "\n",
    "\n",
    "print(\"I have\", len(dog_list), \"dogs.\")\n",
    "        \n",
    "print_descr(dog_list)\n",
    "\n",
    "count_mammals(dog_list)\n",
    "\n",
    "feed_all(dog_list)\n",
    "\n",
    "check_if_hungry(dog_list)"
   ]
  },
  {
   "cell_type": "code",
   "execution_count": null,
   "metadata": {},
   "outputs": [],
   "source": []
  }
 ],
 "metadata": {
  "kernelspec": {
   "display_name": "Python 3",
   "language": "python",
   "name": "python3"
  },
  "language_info": {
   "codemirror_mode": {
    "name": "ipython",
    "version": 3
   },
   "file_extension": ".py",
   "mimetype": "text/x-python",
   "name": "python",
   "nbconvert_exporter": "python",
   "pygments_lexer": "ipython3",
   "version": "3.8.3"
  }
 },
 "nbformat": 4,
 "nbformat_minor": 2
}
