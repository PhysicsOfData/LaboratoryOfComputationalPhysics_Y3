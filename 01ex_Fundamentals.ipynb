{
 "cells": [
  {
   "cell_type": "markdown",
   "metadata": {},
   "source": [
    "1\\. Write the following as a list comprehension"
   ]
  },
  {
   "cell_type": "code",
   "execution_count": 9,
   "metadata": {},
   "outputs": [
    {
     "output_type": "stream",
     "name": "stdout",
     "text": [
      "[(0, 0), (0, 1), (0, 2), (0, 3), (1, 0), (1, 1), (1, 2), (1, 3), (2, 0), (2, 1), (2, 2), (2, 3)]\n[0, 4, 16]\n"
     ]
    }
   ],
   "source": [
    "# 1\n",
    "ans = []\n",
    "for i in range(3):\n",
    "    for j in range(4):\n",
    "        ans.append((i, j))\n",
    "print (ans)\n",
    "\n",
    "# 2\n",
    "ans = map(lambda x: x*x, filter(lambda x: x%2 == 0, range(5)))\n",
    "print (list(ans))\n",
    "\n"
   ]
  },
  {
   "cell_type": "code",
   "execution_count": 8,
   "metadata": {},
   "outputs": [
    {
     "output_type": "stream",
     "name": "stdout",
     "text": [
      "[(0, 0), (0, 1), (0, 2), (0, 3), (1, 0), (1, 1), (1, 2), (1, 3), (2, 0), (2, 1), (2, 2), (2, 3)]\n[0, 4, 16]\n"
     ]
    }
   ],
   "source": [
    "x=[(i,j) for i in range(3) for j in range(4)]\n",
    "print(x)\n",
    "\n",
    "y=[i**2 for i in range(5) if i%2==0]\n",
    "print(y)"
   ]
  },
  {
   "cell_type": "markdown",
   "metadata": {},
   "source": [
    "2\\. Convert the following function into a pure function with no global variables or side effects"
   ]
  },
  {
   "cell_type": "code",
   "execution_count": 10,
   "metadata": {},
   "outputs": [
    {
     "output_type": "stream",
     "name": "stdout",
     "text": [
      "[1, 2, 3, 0, 1, 2, 3, 4]\n[1, 2, 3, 0, 1, 2, 3, 4]\n"
     ]
    }
   ],
   "source": [
    "x = 5\n",
    "def f(alist):\n",
    "    for i in range(x):\n",
    "         alist.append(i)\n",
    "    return alist\n",
    "\n",
    "alist = [1,2,3]\n",
    "ans = f(alist)\n",
    "print (ans)\n",
    "print (alist) # alist has been changed!"
   ]
  },
  {
   "cell_type": "code",
   "execution_count": 10,
   "metadata": {},
   "outputs": [
    {
     "output_type": "stream",
     "name": "stdout",
     "text": [
      "[1, 2, 3]\n[1, 2, 3, [0, 1, 2, 3, 4]]\n[1, 2, 3]\n[1, 2, 3, 0, 1, 2, 3, 4]\n[1, 2, 3]\n[1, 2, 3, 0, 1, 2, 3, 4]\n[1, 2, 3]\n"
     ]
    }
   ],
   "source": [
    "def func(l,x) :\n",
    "    y=l.copy()#https://www.dataquest.io/blog/tutorial-functions-modify-lists-dictionaries-python/\n",
    "    y.append([i for i in range(x)])#con la list comp. \"semplice\" non aggiungo a x i singoli elementi ma la lista [0,..,5]! Questo perché la list comp. è equivalente a y.append([0,...,5]). Nota che non si può fare y.append(0,...,5) in quanto append vuole un solo argomento; il modo corretto per evitare un for (i.e. multiple calls) è usare il metodo extend qui sotto. Non si può usare neanche * visto che append vuole solo un argomento\n",
    "    return y\n",
    "\n",
    "#alternativa: extend+multiple arguments, cfr https://stackabuse.com/list-comprehensions-in-python/\n",
    "def func2(l,x):\n",
    "    y=l.copy()\n",
    "    y.extend(list(range(x)))\n",
    "    return y\n",
    "\n",
    "def func3(l,x):\n",
    "    return l+list(range(x))\n",
    "\n",
    "alist=[1,2,3]\n",
    "print(alist)\n",
    "print(func(alist,5))\n",
    "print(alist)\n",
    "print(func2(alist,5))\n",
    "print(alist)\n",
    "print(func3(alist,5))\n",
    "print(alist)"
   ]
  },
  {
   "cell_type": "markdown",
   "metadata": {},
   "source": [
    "3\\. Write a `decorator` hello that makes every wrapped function print “Hello!”, i.e. something like:\n",
    "\n",
    "```python\n",
    "@hello\n",
    "def square(x):\n",
    "    return x*x\n",
    "```\n",
    "\n"
   ]
  },
  {
   "cell_type": "code",
   "execution_count": 14,
   "metadata": {},
   "outputs": [
    {
     "output_type": "stream",
     "name": "stdout",
     "text": [
      "Hello!\n"
     ]
    },
    {
     "output_type": "execute_result",
     "data": {
      "text/plain": [
       "4"
      ]
     },
     "metadata": {},
     "execution_count": 14
    }
   ],
   "source": [
    "def hello(func):#https://realpython.com/primer-on-python-decorators/\n",
    "    def wrapper(*args, **kwargs):\n",
    "        print(\"Hello!\")\n",
    "        func(*args, **kwargs)\n",
    "        return func(*args, **kwargs)\n",
    "    return wrapper\n",
    "\n",
    "@hello\n",
    "def square(x):\n",
    "    return x**2\n",
    "\n",
    "square(2)"
   ]
  },
  {
   "cell_type": "markdown",
   "metadata": {},
   "source": [
    "4\\. Write the factorial function so that it a) does and b) does not use recursion."
   ]
  },
  {
   "cell_type": "code",
   "execution_count": 26,
   "metadata": {},
   "outputs": [
    {
     "output_type": "stream",
     "name": "stdout",
     "text": [
      "1! = 1\n2! = 2\n3! = 6\n4! = 24\n5! = 120\n6! = 720\n\n\n1! = 1\n2! = 2\n3! = 6\n4! = 24\n5! = 120\n6! = 720\n"
     ]
    }
   ],
   "source": [
    "from math import prod\n",
    "\n",
    "def factorial(n) :\n",
    "    return prod(range(1,n+1))\n",
    "\n",
    "def factorial_rec(n) :\n",
    "    if n==0 or n==1 :\n",
    "        return 1\n",
    "    else :\n",
    "        return n*factorial_rec(n-1)\n",
    "\n",
    "\n",
    "def print_factorials(N) :\n",
    "    for n in range(1,N+1) :\n",
    "        num=str(n)+\"!\"\n",
    "        print(num,\"=\",factorial(n))\n",
    "\n",
    "def print_factorials_rec(N) :\n",
    "    for n in range(1,N+1) :\n",
    "        num=str(n)+\"!\"\n",
    "        print(num,\"=\",factorial_rec(n))\n",
    "\n",
    "print_factorials(6)\n",
    "print(\"\\n\")\n",
    "print_factorials_rec(6)\n"
   ]
  },
  {
   "cell_type": "code",
   "execution_count": 29,
   "metadata": {},
   "outputs": [
    {
     "output_type": "stream",
     "name": "stdout",
     "text": [
      "549 ns ± 26.8 ns per loop (mean ± std. dev. of 7 runs, 1000000 loops each)\n",
      "1.86 µs ± 80.5 ns per loop (mean ± std. dev. of 7 runs, 1000000 loops each)\n"
     ]
    }
   ],
   "source": [
    "%timeit factorial(10)\n",
    "%timeit factorial_rec(10)"
   ]
  },
  {
   "cell_type": "markdown",
   "metadata": {},
   "source": [
    "5\\. Use HOFs (zip in particular) to compute the weight of a circle, a disk and a sphere, assuming different radii and different densities:\n",
    "\n",
    "```python\n",
    "densities = {\"Al\":[0.5,1,2],\"Fe\":[3,4,5],\"Pb\": [15,20,30]}\n",
    "radii = [1,2,3]\n",
    "```\n",
    "\n",
    "where the entries of the dictionary's values are the linear, superficial and volumetric densities of the materials respectively.\n",
    "\n",
    "In particular define a list of three lambda functions using a comprehension that computes the circumference, the area and the volume for a given radius.\n"
   ]
  },
  {
   "cell_type": "code",
   "execution_count": 66,
   "metadata": {},
   "outputs": [
    {
     "output_type": "stream",
     "name": "stdout",
     "text": [
      "{'Al': [2.0943951023931953, 33.510321638291124, 226.19467105846508], 'Fe': [12.566370614359172, 134.0412865531645, 565.4866776461627], 'Pb': [62.831853071795855, 670.2064327658225, 3392.920065876976]}\n"
     ]
    }
   ],
   "source": [
    "from math import pi\n",
    "\n",
    "densities = {\"Al\":[0.5,1,2],\"Fe\":[3,4,5],\"Pb\": [15,20,30]}\n",
    "radii = [1,2,3]\n",
    "\n",
    "const=[2*pi,4*pi,4*pi/3]\n",
    "compute_size=[lambda r,d: const[i]*d*r**(i+1) for i in range(3)]\n",
    "weights=dict(densities)\n",
    "\n",
    "for metal in densities.keys() :\n",
    "    z=list(zip(radii,densities[metal]))\n",
    "    #print(list(z))\n",
    "    #weights[metal]=[map(z[i]) for i in range(3)]\n",
    "    weights[metal]=[compute_size[i](*z[i]) for i in range(3)]\n",
    "\n",
    "print(weights)\n",
    "\n",
    "#z=list(zip(*densities.values()))\n",
    "#print(list(z))\n",
    "#w=[list(map(compute_size[i],z[i])) for i in range(2)]\n",
    "#print(w)\n"
   ]
  },
  {
   "cell_type": "markdown",
   "metadata": {},
   "source": [
    "6\\. Edit the class definition to add an instance attribute of is_hungry = True to the Dog class. Then add a method called eat() which changes the value of is_hungry to False when called. Figure out the best way to feed each dog and then output “My dogs are hungry.” if all are hungry or “My dogs are not hungry.” if all are not hungry. The final output should look like this:\n",
    "\n",
    "`I have 3 dogs. \n",
    "Tom is 6. \n",
    "Fletcher is 7. \n",
    "Larry is 9. \n",
    "And they're all mammals, of course. \n",
    "My dogs are not hungry.\n",
    "`\n",
    "\n",
    "```python\n",
    "# Parent class\n",
    "class Dog:\n",
    "\n",
    "    # Class attribute\n",
    "    species = 'mammal'\n",
    "\n",
    "    # Initializer / Instance attributes\n",
    "    def __init__(self, name, age):\n",
    "        self.name = name\n",
    "        self.age = age\n",
    "\n",
    "    # instance method\n",
    "    def description(self):\n",
    "        return \"{} is {} years old\".format(self.name, self.age)\n",
    "\n",
    "    # instance method\n",
    "    def speak(self, sound):\n",
    "        return \"{} says {}\".format(self.name, sound)\n",
    "\n",
    "# Child class (inherits from Dog class)\n",
    "class RussellTerrier(Dog):\n",
    "    def run(self, speed):\n",
    "        return \"{} runs {}\".format(self.name, speed)\n",
    "\n",
    "# Child class (inherits from Dog class)\n",
    "class Bulldog(Dog):\n",
    "    def run(self, speed):\n",
    "        return \"{} runs {}\".format(self.name, speed)\n",
    "```"
   ]
  },
  {
   "cell_type": "code",
   "execution_count": 9,
   "metadata": {},
   "outputs": [
    {
     "output_type": "stream",
     "name": "stdout",
     "text": [
      "I have 3 dogs:\nTom is 6 years old\nFletcher is 7 years old\nLarry is 9 years old\nEach one of them is a mammal\nTom is not hungry\nFletcher is not hungry\nLarry is not hungry\n"
     ]
    }
   ],
   "source": [
    "# Parent class\n",
    "class Dog:\n",
    "\n",
    "    # Class attribute\n",
    "    species = 'mammal'\n",
    "\n",
    "    # Initializer / Instance attributes\n",
    "    def __init__(self, name, age, is_hungry = True):\n",
    "        self.name = name\n",
    "        self.age = age\n",
    "\n",
    "    # instance method\n",
    "    def description(self):\n",
    "        return \"{} is {} years old\".format(self.name, self.age)\n",
    "\n",
    "    # instance method\n",
    "    def speak(self, sound):\n",
    "        return \"{} says {}\".format(self.name, sound)\n",
    "\n",
    "    def eat(self) :\n",
    "        self.is_hungry = False\n",
    "    \n",
    "    def state_hunger(self) :\n",
    "        if self.is_hungry: print(self.name,\"is hungry\")\n",
    "        else: print(self.name,\"is not hungry\")\n",
    "\n",
    "# Child class (inherits from Dog class)\n",
    "class RussellTerrier(Dog):\n",
    "    def run(self, speed):\n",
    "        return \"{} runs {}\".format(self.name, speed)\n",
    "\n",
    "# Child class (inherits from Dog class)\n",
    "class Bulldog(Dog):\n",
    "    def run(self, speed):\n",
    "        return \"{} runs {}\".format(self.name, speed)\n",
    "\n",
    "\n",
    "Tom=Dog(\"Tom\",6)\n",
    "Fletcher=Dog(\"Fletcher\",7)\n",
    "Larry=Dog(\"Larry\",9)\n",
    "dogs=[Tom,Fletcher,Larry]\n",
    "print(\"I have %d dogs:\"%len(dogs))\n",
    "for i in dogs :\n",
    "    print(i.description())\n",
    "\n",
    "print(\"Each one of them is a\",Tom.species)\n",
    "\n",
    "for i in dogs :\n",
    "    i.eat()\n",
    "    i.state_hunger()"
   ]
  }
 ],
 "metadata": {
  "kernelspec": {
   "display_name": "Python 3",
   "language": "python",
   "name": "python3"
  },
  "language_info": {
   "codemirror_mode": {
    "name": "ipython",
    "version": 3
   },
   "file_extension": ".py",
   "mimetype": "text/x-python",
   "name": "python",
   "nbconvert_exporter": "python",
   "pygments_lexer": "ipython3",
   "version": "3.8.3-final"
  }
 },
 "nbformat": 4,
 "nbformat_minor": 2
}