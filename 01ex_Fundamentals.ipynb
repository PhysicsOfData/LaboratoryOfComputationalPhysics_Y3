{
 "cells": [
  {
   "cell_type": "markdown",
   "metadata": {},
   "source": [
    "1\\. Write the following as a list comprehension"
   ]
  },
  {
   "cell_type": "code",
   "execution_count": 2,
   "metadata": {},
   "outputs": [
    {
     "name": "stdout",
     "output_type": "stream",
     "text": [
      "[(0, 0), (0, 1), (0, 2), (0, 3), (1, 0), (1, 1), (1, 2), (1, 3), (2, 0), (2, 1), (2, 2), (2, 3)]\n",
      "[0, 4, 16]\n"
     ]
    }
   ],
   "source": [
    "# 1\n",
    "ans = []\n",
    "for i in range(3):\n",
    "    for j in range(4):\n",
    "        ans.append((i, j))\n",
    "print (ans)\n",
    "\n",
    "# 2\n",
    "ans = map(lambda x: x*x, filter(lambda x: x%2 == 0, range(5)))\n",
    "print (list(ans))"
   ]
  },
  {
   "cell_type": "code",
   "execution_count": 3,
   "metadata": {},
   "outputs": [
    {
     "name": "stdout",
     "output_type": "stream",
     "text": [
      "[(0, 0), (0, 1), (0, 2), (0, 3), (1, 0), (1, 1), (1, 2), (1, 3), (2, 0), (2, 1), (2, 2), (2, 3)]\n",
      "[0, 4, 16]\n"
     ]
    }
   ],
   "source": [
    "# 1 as comprehension \n",
    "ans = [(i,j) for i in range(3) for j in range(4)]\n",
    "print(ans)\n",
    "\n",
    "# 2 as comprehension\n",
    "ans = [x*x for x in range(5) if x%2 == 0]\n",
    "print(ans)"
   ]
  },
  {
   "cell_type": "markdown",
   "metadata": {},
   "source": [
    "2\\. Convert the following function into a pure function with no global variables or side effects"
   ]
  },
  {
   "cell_type": "code",
   "execution_count": 9,
   "metadata": {},
   "outputs": [
    {
     "name": "stdout",
     "output_type": "stream",
     "text": [
      "[1, 2, 3, 0, 1, 2, 3, 4]\n",
      "[1, 2, 3, 0, 1, 2, 3, 4]\n"
     ]
    }
   ],
   "source": [
    "def f(alist):\n",
    "    x = 5\n",
    "    for i in range(x):\n",
    "         alist.append(i)\n",
    "    return alist\n",
    "\n",
    "alist = [1,2,3]\n",
    "ans = f(alist)\n",
    "print (ans)\n",
    "print (alist) # alist has been changed!"
   ]
  },
  {
   "cell_type": "code",
   "execution_count": 13,
   "metadata": {},
   "outputs": [
    {
     "name": "stdout",
     "output_type": "stream",
     "text": [
      "[1, 2, 3, 0, 1, 2, 3, 4]\n",
      "[1, 2, 3]\n"
     ]
    }
   ],
   "source": [
    "def redef(newlist):\n",
    "    app = []\n",
    "    for i in range(5):\n",
    "        app.append(i)\n",
    "    newlist = oldlist + app\n",
    "    return newlist\n",
    "\n",
    "oldlist = [1,2,3]\n",
    "ans = redef(oldlist)\n",
    "\n",
    "print(ans)\n",
    "print(oldlist)"
   ]
  },
  {
   "cell_type": "markdown",
   "metadata": {},
   "source": [
    "3\\. Write a `decorator` hello that makes every wrapped function print “Hello!”, i.e. something like:\n",
    "\n",
    "```python\n",
    "@hello\n",
    "def square(x):\n",
    "    return x*x\n",
    "```\n",
    "\n"
   ]
  },
  {
   "cell_type": "code",
   "execution_count": 14,
   "metadata": {},
   "outputs": [
    {
     "name": "stdout",
     "output_type": "stream",
     "text": [
      "Hello!\n",
      "9\n"
     ]
    }
   ],
   "source": [
    "def hello(f):\n",
    "    def greet(i):\n",
    "        print(\"Hello!\")\n",
    "        print(f(i))\n",
    "    return greet\n",
    "    \n",
    "@hello    \n",
    "def square(x):\n",
    "    return x*x\n",
    "\n",
    "square(3)"
   ]
  },
  {
   "cell_type": "markdown",
   "metadata": {},
   "source": [
    "4\\. Write the factorial function so that it a) does and b) does not use recursion."
   ]
  },
  {
   "cell_type": "code",
   "execution_count": 15,
   "metadata": {},
   "outputs": [
    {
     "name": "stdout",
     "output_type": "stream",
     "text": [
      "5040\n"
     ]
    }
   ],
   "source": [
    "#a) With recursion\n",
    "\n",
    "def facta(n):      \n",
    "    if n==0:\n",
    "        return 1\n",
    "    else:\n",
    "        return n*facta(n-1)\n",
    "    \n",
    "print (facta(7))"
   ]
  },
  {
   "cell_type": "code",
   "execution_count": 16,
   "metadata": {},
   "outputs": [
    {
     "name": "stdout",
     "output_type": "stream",
     "text": [
      "5040\n"
     ]
    }
   ],
   "source": [
    "#b) Without recursion\n",
    "\n",
    "def factb(n):\n",
    "    if n==0 or n ==1:\n",
    "        return 1\n",
    "    else:\n",
    "        for i in range(1,n):\n",
    "            n *= i\n",
    "    return n\n",
    "\n",
    "print (factb(7))"
   ]
  },
  {
   "cell_type": "markdown",
   "metadata": {},
   "source": [
    "5\\. Use HOFs (zip in particular) to compute the weight of a circle, a disk and a sphere, assuming different radii and different densities:\n",
    "\n",
    "```python\n",
    "densities = {\"Al\":[0.5,1,2],\"Fe\":[3,4,5],\"Pb\": [15,20,30]}\n",
    "radii = [1,2,3]\n",
    "```\n",
    "\n",
    "where the entries of the dictionary's values are the linear, superficial and volumetric densities of the materials respectively.\n",
    "\n",
    "In particular define a list of three lambda functions using a comprehension that computes the circumference, the area and the volume for a given radius.\n"
   ]
  },
  {
   "cell_type": "code",
   "execution_count": 17,
   "metadata": {},
   "outputs": [
    {
     "name": "stdout",
     "output_type": "stream",
     "text": [
      "Circle of radius 1   Material: Al --> Weight: 3.141592653589793\n",
      "Disk of radius 1   Material: Al --> Weight: 3.141592653589793\n",
      "Sphere of radius 1   Material: Al --> Weight: 8.377580409572781\n",
      "Circle of radius 2   Material: Al --> Weight: 6.283185307179586\n",
      "Disk of radius 2   Material: Al --> Weight: 12.566370614359172\n",
      "Sphere of radius 2   Material: Al --> Weight: 67.02064327658225\n",
      "Circle of radius 3   Material: Al --> Weight: 9.42477796076938\n",
      "Disk of radius 3   Material: Al --> Weight: 28.274333882308138\n",
      "Sphere of radius 3   Material: Al --> Weight: 226.19467105846508\n",
      "Circle of radius 1   Material: Fe --> Weight: 18.84955592153876\n",
      "Disk of radius 1   Material: Fe --> Weight: 12.566370614359172\n",
      "Sphere of radius 1   Material: Fe --> Weight: 20.94395102393195\n",
      "Circle of radius 2   Material: Fe --> Weight: 37.69911184307752\n",
      "Disk of radius 2   Material: Fe --> Weight: 50.26548245743669\n",
      "Sphere of radius 2   Material: Fe --> Weight: 167.5516081914556\n",
      "Circle of radius 3   Material: Fe --> Weight: 56.548667764616276\n",
      "Disk of radius 3   Material: Fe --> Weight: 113.09733552923255\n",
      "Sphere of radius 3   Material: Fe --> Weight: 565.4866776461627\n",
      "Circle of radius 1   Material: Pb --> Weight: 94.24777960769379\n",
      "Disk of radius 1   Material: Pb --> Weight: 62.83185307179586\n",
      "Sphere of radius 1   Material: Pb --> Weight: 125.66370614359171\n",
      "Circle of radius 2   Material: Pb --> Weight: 188.49555921538757\n",
      "Disk of radius 2   Material: Pb --> Weight: 251.32741228718345\n",
      "Sphere of radius 2   Material: Pb --> Weight: 1005.3096491487337\n",
      "Circle of radius 3   Material: Pb --> Weight: 282.7433388230814\n",
      "Disk of radius 3   Material: Pb --> Weight: 565.4866776461628\n",
      "Sphere of radius 3   Material: Pb --> Weight: 3392.920065876976\n"
     ]
    }
   ],
   "source": [
    "from math import pi\n",
    "\n",
    "densities = {\"Al\":[0.5,1,2],\"Fe\":[3,4,5],\"Pb\": [15,20,30]}\n",
    "radii = [1,2,3]\n",
    "cases = [\"Circle\", \"Disk\", \"Sphere\"]\n",
    "\n",
    "vol = []\n",
    "for  c,a,v in zip(map(lambda r: 2*r*pi, radii), map(lambda r: r*r*pi,radii), map(lambda r: 4/3*pi*(r**3),radii)):\n",
    "    vol.append([c,a,v])\n",
    "    \n",
    "vol_dict = dict(zip(radii, vol))\n",
    "\n",
    "for d in densities:\n",
    "    for v in vol_dict:\n",
    "        for x,y,z in zip(densities[d], vol_dict[v], cases):\n",
    "            w = x*y                \n",
    "            print(z, \"of radius\", v, \"  Material:\", d, \"--> Weight:\", w)"
   ]
  },
  {
   "cell_type": "markdown",
   "metadata": {},
   "source": [
    "6\\. Edit the class defintion to add an instance attribute of is_hungry = True to the Dog class. Then add a method called eat() which changes the value of is_hungry to False when called. Figure out the best way to feed each dog and then output “My dogs are hungry.” if all are hungry or “My dogs are not hungry.” if all are not hungry. The final output should look like this:\n",
    "\n",
    "`I have 3 dogs. \n",
    "Tom is 6. \n",
    "Fletcher is 7. \n",
    "Larry is 9. \n",
    "And they're all mammals, of course. \n",
    "My dogs are not hungry.\n",
    "`\n",
    "\n",
    "```python\n",
    "# Parent class\n",
    "class Dog:\n",
    "\n",
    "    # Class attribute\n",
    "    species = 'mammal'\n",
    "\n",
    "    # Initializer / Instance attributes\n",
    "    def __init__(self, name, age):\n",
    "        self.name = name\n",
    "        self.age = age\n",
    "\n",
    "    # instance method\n",
    "    def description(self):\n",
    "        return \"{} is {} years old\".format(self.name, self.age)\n",
    "\n",
    "    # instance method\n",
    "    def speak(self, sound):\n",
    "        return \"{} says {}\".format(self.name, sound)\n",
    "\n",
    "# Child class (inherits from Dog class)\n",
    "class RussellTerrier(Dog):\n",
    "    def run(self, speed):\n",
    "        return \"{} runs {}\".format(self.name, speed)\n",
    "\n",
    "# Child class (inherits from Dog class)\n",
    "class Bulldog(Dog):\n",
    "    def run(self, speed):\n",
    "        return \"{} runs {}\".format(self.name, speed)\n",
    "```"
   ]
  },
  {
   "cell_type": "code",
   "execution_count": 18,
   "metadata": {},
   "outputs": [
    {
     "name": "stdout",
     "output_type": "stream",
     "text": [
      "I have 3 dogs. \n",
      "\n",
      "Tom is 6 years old\n",
      "Fletcher is 7 years old\n",
      "Larry is 9 years old\n",
      "And they are all mammals of course. \n",
      "\n",
      "My dogs are hungry. \n",
      "\n",
      "Tom was hungry, so I fed it. \n",
      "\n",
      "Fletcher was hungry, so I fed it. \n",
      "\n",
      "Larry was hungry, so I fed it. \n",
      "\n",
      "My dogs are not hungry anymore.\n"
     ]
    }
   ],
   "source": [
    "# Parent class\n",
    "class Dog:\n",
    "\n",
    "    # Class attribute\n",
    "    species = 'mammals'\n",
    "\n",
    "    # Initializer / Instance attributes\n",
    "    def __init__(self, name, age, is_hungry=True):\n",
    "        self.name = name\n",
    "        self.age = age\n",
    "        self.is_hungry = is_hungry\n",
    "\n",
    "    # instance method\n",
    "    def description(self):\n",
    "        return \"{} is {} years old\".format(self.name, self.age)\n",
    "\n",
    "    # instance method\n",
    "    def speak(self, sound):\n",
    "        return \"{} says {}\".format(self.name, sound)\n",
    "    \n",
    "    def set_species(self, species):\n",
    "        self.species = species\n",
    "\n",
    "    def eat(self):\n",
    "        self.is_hungry = False\n",
    "\n",
    "# Child class (inherits from Dog class)\n",
    "class RussellTerrier(Dog):\n",
    "    def run(self, speed):\n",
    "        return \"{} runs {}\".format(self.name, speed)\n",
    "\n",
    "# Child class (inherits from Dog class)\n",
    "class Bulldog(Dog):\n",
    "    def run(self, speed):\n",
    "        return \"{} runs {}\".format(self.name, speed)\n",
    "    \n",
    "To = Dog('Tom', 6)\n",
    "Fl = Dog('Fletcher', 7)\n",
    "La = Dog('Larry', 9)\n",
    "\n",
    "dogs = [To, Fl, La]\n",
    "\n",
    "print(\"I have\", len(dogs), \"dogs. \\n\")\n",
    "\n",
    "for x in dogs:\n",
    "    print(x.description())\n",
    "    \n",
    "print(\"And they are all\", To.species, \"of course. \\n\")\n",
    "\n",
    "if any(x.is_hungry for x in dogs):\n",
    "    print(\"My dogs are hungry. \\n\")\n",
    "else:\n",
    "    print(\"My dogs are not hungry. \\n\")\n",
    "\n",
    "for x in dogs:\n",
    "    if x.is_hungry:\n",
    "        x.eat()\n",
    "        print(x.name, \"was hungry, so I fed it. \\n\")\n",
    "\n",
    "if any(x.is_hungry for x in dogs):\n",
    "    print(\"My dogs are hungry.\")\n",
    "else:\n",
    "    print(\"My dogs are not hungry anymore.\")\n"
   ]
  },
  {
   "cell_type": "code",
   "execution_count": null,
   "metadata": {},
   "outputs": [],
   "source": []
  }
 ],
 "metadata": {
  "kernelspec": {
   "display_name": "Python 3",
   "language": "python",
   "name": "python3"
  },
  "language_info": {
   "codemirror_mode": {
    "name": "ipython",
    "version": 3
   },
   "file_extension": ".py",
   "mimetype": "text/x-python",
   "name": "python",
   "nbconvert_exporter": "python",
   "pygments_lexer": "ipython3",
<<<<<<< HEAD
<<<<<<< HEAD
   "version": "3.8.3"
=======
   "version": "3.7.6"
>>>>>>> upstream/master
=======
   "version": "3.5.4"
>>>>>>> upstream/master
  }
 },
 "nbformat": 4,
 "nbformat_minor": 2
}
