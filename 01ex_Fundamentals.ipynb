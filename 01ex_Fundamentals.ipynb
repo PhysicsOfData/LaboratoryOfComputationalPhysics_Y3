{
 "cells": [
  {
   "cell_type": "markdown",
   "metadata": {},
   "source": [
    "1\\. Write the following as a list comprehension"
   ]
  },
  {
   "cell_type": "code",
   "execution_count": 2,
   "metadata": {},
   "outputs": [
    {
     "name": "stdout",
     "output_type": "stream",
     "text": [
      "[(0, 0), (0, 1), (0, 2), (0, 3), (1, 0), (1, 1), (1, 2), (1, 3), (2, 0), (2, 1), (2, 2), (2, 3)]\n",
      "[(0, 0), (0, 1), (0, 2), (0, 3), (1, 0), (1, 1), (1, 2), (1, 3), (2, 0), (2, 1), (2, 2), (2, 3)]\n",
      "[0, 4, 16]\n"
     ]
    }
   ],
   "source": [
    "# 1\n",
    "ans = []\n",
    "for i in range(3):\n",
    "    for j in range(4):\n",
    "        ans.append((i, j))\n",
    "print (ans)\n",
    "print (list(ans))\n",
    "\n",
    "# 2\n",
    "ans = map(lambda x: x*x, filter(lambda x: x%2 == 0, range(5)))\n",
    "print (list(ans))\n",
    "\n"
   ]
  },
  {
   "cell_type": "code",
   "execution_count": 4,
   "metadata": {},
   "outputs": [
    {
     "name": "stdout",
     "output_type": "stream",
     "text": [
      "[(0, 0), (0, 1), (0, 2), (0, 3), (1, 0), (1, 1), (1, 2), (1, 3), (2, 0), (2, 1), (2, 2), (2, 3)]\n",
      "[(0, 0), (0, 1), (0, 2), (0, 3), (1, 0), (1, 1), (1, 2), (1, 3), (2, 0), (2, 1), (2, 2), (2, 3)]\n"
     ]
    }
   ],
   "source": [
    "var1 = [(i,j) for i in range(3) for j in range(4)]\n",
    "print(var1)\n",
    "print(list(var1))"
   ]
  },
  {
   "cell_type": "code",
   "execution_count": 5,
   "metadata": {},
   "outputs": [
    {
     "name": "stdout",
     "output_type": "stream",
     "text": [
      "[0, 4, 16]\n"
     ]
    }
   ],
   "source": [
    "var2 = [x*x for x in range(5) if x%2 == 0]\n",
    "print(var2)"
   ]
  },
  {
   "cell_type": "markdown",
   "metadata": {},
   "source": [
    "2\\. Convert the following function into a pure function with no global variables or side effects"
   ]
  },
  {
   "cell_type": "code",
   "execution_count": 6,
   "metadata": {},
   "outputs": [
    {
     "name": "stdout",
     "output_type": "stream",
     "text": [
      "[1, 2, 3, 0, 1, 2, 3, 4]\n",
      "[1, 2, 3, 0, 1, 2, 3, 4]\n"
     ]
    }
   ],
   "source": [
    "x = 5\n",
    "def f(alist):\n",
    "    for i in range(x):\n",
    "         alist.append(i)\n",
    "    return alist\n",
    "\n",
    "alist = [1,2,3]\n",
    "ans = f(alist)\n",
    "print (ans)\n",
    "print (alist) # alist has been changed!"
   ]
  },
  {
   "cell_type": "code",
   "execution_count": 24,
   "metadata": {},
   "outputs": [
    {
     "name": "stdout",
     "output_type": "stream",
     "text": [
      "[3, 2, 5]\n",
      "appended list, by calling the pure function, this function has no sideeffects(global vars etc.)\n",
      " [3, 2, 5, 0, 1, 2, 3, 4]\n"
     ]
    }
   ],
   "source": [
    "def func_pure(list1):\n",
    "    var = 5\n",
    "    list2 = list1\n",
    "    \n",
    "    for i in range(var):\n",
    "        list2.append(i)\n",
    "    return list2\n",
    "\n",
    "list1 = [3,2,5]\n",
    "print(list1)\n",
    "\n",
    "answer = func_pure(list1)\n",
    "print(\"appended list, by calling the pure function, this function has no sideeffects(global vars etc.)\\n\", answer)"
   ]
  },
  {
   "cell_type": "markdown",
   "metadata": {},
   "source": [
    "3\\. Write a `decorator` hello that makes every wrapped function print “Hello!”, i.e. something like:\n",
    "\n",
    "```python\n",
    "@hello\n",
    "def square(x):\n",
    "    return x*x\n",
    "```\n",
    "\n"
   ]
  },
  {
   "cell_type": "code",
   "execution_count": 9,
   "metadata": {},
   "outputs": [
    {
     "name": "stdout",
     "output_type": "stream",
     "text": [
      "hello\n",
      "hello\n",
      "None\n"
     ]
    }
   ],
   "source": [
    "def hello(f):\n",
    "    \n",
    "     def func(*arg1, **arg2):\n",
    "            print(\"hello\")\n",
    "            f(*arg1, **arg2)\n",
    "            print(\"hello\")\n",
    "     return func\n",
    "\n",
    "@hello\n",
    "def square(x):\n",
    "    return x*x\n",
    "\n",
    "print(square(3))"
   ]
  },
  {
   "cell_type": "markdown",
   "metadata": {},
   "source": [
    "4\\. Write the factorial function so that it a) does and b) does not use recursion."
   ]
  },
  {
   "cell_type": "code",
   "execution_count": 8,
   "metadata": {},
   "outputs": [
    {
     "name": "stdout",
     "output_type": "stream",
     "text": [
      "120\n",
      "120\n"
     ]
    }
   ],
   "source": [
    "#part (a)\n",
    "\n",
    "def fact1(var1):\n",
    "    if(var1 == 0 or var1 == 1):\n",
    "        return 1\n",
    "    else:\n",
    "        return var1 * fact(var1-1)\n",
    "print(fact(5))\n",
    "\n",
    "#part (b)\n",
    "\n",
    "def fact2(var2):\n",
    "    if(var2 == 0 or var2 == 1):\n",
    "        return 1\n",
    "    else:\n",
    "        fac = 1\n",
    "        for x in range(1,var2+1):\n",
    "            fac = fac * x\n",
    "    return fac\n",
    "print(fact2(5))"
   ]
  },
  {
   "cell_type": "markdown",
   "metadata": {},
   "source": [
    "5\\. Use HOFs (zip in particular) to compute the weight of a circle, a disk and a sphere, assuming different radii and different densities:\n",
    "\n",
    "```python\n",
    "densities = {\"Al\":[0.5,1,2],\"Fe\":[3,4,5],\"Pb\": [15,20,30]}\n",
    "radii = [1,2,3]\n",
    "```\n",
    "\n",
    "where the entries of the dictionary's values are the linear, superficial and volumetric densities of the materials respectively.\n",
    "\n",
    "In particular define a list of three lambda functions using a comprehension that computes the circumference, the area and the volume for a given radius.\n"
   ]
  },
  {
   "cell_type": "code",
   "execution_count": 29,
   "metadata": {},
   "outputs": [
    {
     "name": "stdout",
     "output_type": "stream",
     "text": [
      "mass of circle, disc, sphere made of Al & radius 1 : [3.141592653589793, 3.141592653589793, 8.377580409572781]\n",
      "mass of circle, disc, sphere made of Fe & radius 1 : [18.84955592153876, 12.566370614359172, 20.94395102393195]\n",
      "mass of circle, disc, sphere made of Pb & radius 1 : [94.24777960769379, 62.83185307179586, 125.66370614359171]\n",
      "\n",
      "\n",
      "mass of circle, disc, sphere made of Al & radius 2 : [6.283185307179586, 12.566370614359172, 67.02064327658225]\n",
      "mass of circle, disc, sphere made of Fe & radius 2 : [37.69911184307752, 50.26548245743669, 167.5516081914556]\n",
      "mass of circle, disc, sphere made of Pb & radius 2 : [188.49555921538757, 251.32741228718345, 1005.3096491487337]\n",
      "\n",
      "\n",
      "mass of circle, disc, sphere made of Al & radius 3 : [9.42477796076938, 28.274333882308138, 226.19467105846508]\n",
      "mass of circle, disc, sphere made of Fe & radius 3 : [56.548667764616276, 113.09733552923255, 565.4866776461627]\n",
      "mass of circle, disc, sphere made of Pb & radius 3 : [282.7433388230814, 565.4866776461628, 3392.920065876976]\n",
      "\n",
      "\n"
     ]
    }
   ],
   "source": [
    "from math import pi\n",
    "\n",
    "density = {\"Al\":[0.5,1,2],\"Fe\":[3,4,5],\"Pb\": [15,20,30]}\n",
    "radius = [1,2,3]\n",
    "\n",
    "functions = [ lambda r,den : 2*pi*r*den, lambda r,den : pi*r**2*den, lambda r,den : (4/3)*pi*r**3*den ]\n",
    "for x in range(3):\n",
    "  mAlu = [functions(radius[x],den) for functions,den in zip(functions,density['Al'])]\n",
    "  print(\"mass of circle, disc, sphere made of Al & radius\",x+1,\":\",mAlu)\n",
    "\n",
    "  mFe = [functions(radius[x],den) for functions,den in zip(functions,density['Fe'])]\n",
    "  print(\"mass of circle, disc, sphere made of Fe & radius\",x+1,\":\",mFe)\n",
    "\n",
    "  mPb = [functions(radius[x],den) for functions,den in zip(functions,density['Pb'])]\n",
    "  print(\"mass of circle, disc, sphere made of Pb & radius\",x+1,\":\",mPb)\n",
    "  print(\"\\n\")"
   ]
  },
  {
   "cell_type": "markdown",
   "metadata": {},
   "source": [
    "6\\. Edit the class defintion to add an instance attribute of is_hungry = True to the Dog class. Then add a method called eat() which changes the value of is_hungry to False when called. Figure out the best way to feed each dog and then output “My dogs are hungry.” if all are hungry or “My dogs are not hungry.” if all are not hungry. The final output should look like this:\n",
    "\n",
    "`I have 3 dogs. \n",
    "Tom is 6. \n",
    "Fletcher is 7. \n",
    "Larry is 9. \n",
    "And they're all mammals, of course. \n",
    "My dogs are not hungry.\n",
    "`\n",
    "\n",
    "```python\n",
    "# Parent class\n",
    "class Dog:\n",
    "\n",
    "    # Class attribute\n",
    "    species = 'mammal'\n",
    "\n",
    "    # Initializer / Instance attributes\n",
    "    def __init__(self, name, age):\n",
    "        self.name = name\n",
    "        self.age = age\n",
    "\n",
    "    # instance method\n",
    "    def description(self):\n",
    "        return \"{} is {} years old\".format(self.name, self.age)\n",
    "\n",
    "    # instance method\n",
    "    def speak(self, sound):\n",
    "        return \"{} says {}\".format(self.name, sound)\n",
    "\n",
    "# Child class (inherits from Dog class)\n",
    "class RussellTerrier(Dog):\n",
    "    def run(self, speed):\n",
    "        return \"{} runs {}\".format(self.name, speed)\n",
    "\n",
    "# Child class (inherits from Dog class)\n",
    "class Bulldog(Dog):\n",
    "    def run(self, speed):\n",
    "        return \"{} runs {}\".format(self.name, speed)\n",
    "```"
   ]
  },
  {
   "cell_type": "code",
   "execution_count": 39,
   "metadata": {
    "scrolled": true
   },
   "outputs": [
    {
     "name": "stdout",
     "output_type": "stream",
     "text": [
      "I have 3 dogs.\n",
      "Tom is 6 .\n",
      "Fletcher is 7 .\n",
      "Larry is 9 .\n",
      "And they're all mammals of course.\n",
      "My dogs are not hungry.\n"
     ]
    }
   ],
   "source": [
    "# Parent class\n",
    "class Dog:\n",
    "\n",
    "    # Class attribute\n",
    "    species = 'mammals'\n",
    "\n",
    "    # Initializer / Instance attributes\n",
    "    def __init__(self, name, age):\n",
    "        self.name = name\n",
    "        self.age = age\n",
    "        self.is_hungry = True\n",
    "        \n",
    "    def eat(self):\n",
    "        self.is_hungry = False\n",
    "        \n",
    "    # instance method\n",
    "    def description(self):\n",
    "        return \"{} is {} years old\".format(self.name, self.age)\n",
    "\n",
    "    # instance method\n",
    "    def speak(self, sound):\n",
    "        return \"{} says {}\".format(self.name, sound)\n",
    "\n",
    "# Child class (inherits from Dog class)\n",
    "class RussellTerrier(Dog):\n",
    "    def run(self, speed):\n",
    "        return \"{} runs {}\".format(self.name, speed)\n",
    "\n",
    "# Child class (inherits from Dog class)\n",
    "class Bulldog(Dog):\n",
    "    def run(self, speed):\n",
    "        return \"{} runs {}\".format(self.name, speed)\n",
    "\n",
    "#dog examples\n",
    "dog_ex1 = Dog(\"Tom\", 6)\n",
    "dog_ex2 = Dog(\"Fletcher\",7)\n",
    "dog_ex3 = Dog(\"Larry\",9)\n",
    "\n",
    "list_dog = [Dog(\"Tom\", 6), Dog(\"Fletcher\", 7), Dog(\"Larry\", 9)]\n",
    "  \n",
    "##  \n",
    "print(\"I have\",len(list_dog),\"dogs.\")\n",
    "for dog in list_dog:\n",
    "    print(dog.name,\"is\",dog.age,\".\")\n",
    "\n",
    "print(\"And they're all\",dog.species,\"of course.\")\n",
    "\n",
    "##\n",
    "\n",
    "for dog in list_dog:\n",
    "    if( dog.is_hungry == True):\n",
    "        dog.eat()\n",
    "        \n",
    "##\n",
    "\n",
    "hungry = False # works as a flag\n",
    "for dog in list_dog:\n",
    "    if (dog.is_hungry == True):\n",
    "        hungry = True\n",
    "\n",
    "##\n",
    "\n",
    "if(hungry == True):\n",
    "    print(\"My dogs are hungry\")\n",
    "else:\n",
    "    print(\"My dogs are not hungry.\")"
   ]
  },
  {
   "cell_type": "code",
   "execution_count": null,
   "metadata": {},
   "outputs": [],
   "source": []
  },
  {
   "cell_type": "code",
   "execution_count": null,
   "metadata": {},
   "outputs": [],
   "source": []
  }
 ],
 "metadata": {
  "kernelspec": {
   "display_name": "Python 3",
   "language": "python",
   "name": "python3"
  },
  "language_info": {
   "codemirror_mode": {
    "name": "ipython",
    "version": 3
   },
   "file_extension": ".py",
   "mimetype": "text/x-python",
   "name": "python",
   "nbconvert_exporter": "python",
   "pygments_lexer": "ipython3",
   "version": "3.8.3"
  }
 },
 "nbformat": 4,
 "nbformat_minor": 2
}
