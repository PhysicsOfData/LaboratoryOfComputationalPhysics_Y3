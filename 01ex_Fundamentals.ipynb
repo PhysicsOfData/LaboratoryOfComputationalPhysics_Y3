{
 "cells": [
  {
   "cell_type": "markdown",
   "metadata": {},
   "source": [
    "1\\. Write the following as a list comprehension"
   ]
  },
  {
   "cell_type": "code",

   "execution_count": 32,
   "metadata": {},
   "outputs": [
    {
     "name": "stdout",
     "output_type": "stream",
     "text": [
      "[(0, 0), (0, 1), (0, 2), (0, 3), (1, 0), (1, 1), (1, 2), (1, 3), (2, 0), (2, 1), (2, 2), (2, 3)]\n",
      "[0, 4, 16]\n"
     ]
    }
   ],
   "source": [
    "# 1\n",
    "ans=[(x,y) for x in range(3) for y in range (4)]\n",
    "print(ans)\n",
    "\n",
    "# 2\n",
    "ans= [x*x for x in range(5)]\n",
    "ans1= [x for x in ans if x%2 == 0]\n",
    "print(ans1)"

   ]
  },
  {
   "cell_type": "markdown",
   "metadata": {},
   "source": [
    "2\\. Convert the following function into a pure function with no global variables or side effects"
   ]
  },
  {
   "cell_type": "code",

   "execution_count": 19,
   "metadata": {
    "scrolled": true
   },
   "outputs": [
    {
     "name": "stdout",
     "output_type": "stream",
     "text": [
      "[1, 2, 3, 1, 2, 3, 4, 5]\n",
      "[1, 2, 3]\n"
     ]
    }
   ],
   "source": [
    "def f(lis): \n",
    "    blist=[x for x in lis]\n",
    "    for i in range(5):\n",
    "         blist.append(i+1)\n",
    "    return blist\n",

    "\n",
    "alist = [1,2,3]\n",
    "ans = f(alist)\n",
    "print (ans)\n",
    "print (alist) # alist has been changed!"
   ]
  },
  {
   "cell_type": "markdown",
   "metadata": {},
   "source": [
    "3\\. Write a `decorator` hello that makes every wrapped function print “Hello!”, i.e. something like:\n",
    "\n",
    "```python\n",
    "@hello\n",
    "def square(x):\n",
    "    return x*x\n",
    "```\n",
    "\n"
   ]
  },
  {

   "cell_type": "code",
   "execution_count": 60,
   "metadata": {},
   "outputs": [],
   "source": [
    "def hello(func): \n",
    "    def wrapper(*x):\n",
    "        print(\"Hello!\")\n",
    "        return func(*x)\n",
    "    return wrapper\n",
    "\n",
    "@hello\n",
    "def square(x):\n",
    "    return x*x\n",
    "\n",
    "#print(square(2))"
   ]
  },
  {

   "cell_type": "markdown",
   "metadata": {},
   "source": [
    "4\\. Write the factorial function so that it a) does and b) does not use recursion."
   ]
  },
  {

   "cell_type": "code",
   "execution_count": 11,
   "metadata": {},
   "outputs": [],
   "source": [
    "def recfactorial(num):\n",
    "    if num==1 or num==2:\n",
    "        return num\n",
    "    else:\n",
    "        return(num*recfactorial(num-1))\n",
    "    \n",
    "#print(recfactorial(10))"
   ]
  },
  {
   "cell_type": "code",
   "execution_count": 10,
   "metadata": {},
   "outputs": [],
   "source": [
    "def iterfactorial(num):\n",
    "    facnum=1\n",
    "    for i in range(1, num):\n",
    "        facnum*=i\n",
    "    return facnum\n",
    "        \n",
    "#print(iterfactorial(10))"
   ]
  },
  {

   "cell_type": "markdown",
   "metadata": {},
   "source": [
    "5\\. Use HOFs (zip in particular) to compute the weight of a circle, a disk and a sphere, assuming different radii and different densities:\n",
    "\n",
    "```python\n",
    "densities = {\"Al\":[0.5,1,2],\"Fe\":[3,4,5],\"Pb\": [15,20,30]}\n",
    "radii = [1,2,3]\n",
    "```\n",
    "\n",
    "where the entries of the dictionary's values are the linear, superficial and volumetric densities of the materials respectively.\n",
    "\n",
    "In particular define a list of three lambda functions using a comprehension that computes the circumference, the area and the volume for a given radius.\n"
   ]
  },
  {

   "cell_type": "code",
   "execution_count": 62,
   "metadata": {},
   "outputs": [
    {
     "name": "stdout",
     "output_type": "stream",
     "text": [
      "Aluminum circle  radius 1 : 3.141592653589793\n",
      "Iron circle  radius 1 : 18.84955592153876\n",
      "Lead circle  radius 1 : 94.24777960769379\n",
      "Aluminum circle  radius 2 : 6.283185307179586\n",
      "Iron circle  radius 2 : 37.69911184307752\n",
      "Lead circle  radius 2 : 188.49555921538757\n",
      "Aluminum circle  radius 3 : 9.42477796076938\n",
      "Iron circle  radius 3 : 56.548667764616276\n",
      "Lead circle  radius 3 : 282.7433388230814\n",
      "Aluminum disk  radius 1 : 3.141592653589793\n",
      "Iron disk  radius 1 : 12.566370614359172\n",
      "Lead disk  radius 1 : 62.83185307179586\n",
      "Aluminum disk  radius 2 : 12.566370614359172\n",
      "Iron disk  radius 2 : 50.26548245743669\n",
      "Lead disk  radius 2 : 251.32741228718345\n",
      "Aluminum disk  radius 3 : 28.274333882308138\n",
      "Iron disk  radius 3 : 113.09733552923255\n",
      "Lead disk  radius 3 : 565.4866776461628\n",
      "Aluminum sphere  radius 1 : 8.377580409572781\n",
      "Iron sphere  radius 1 : 20.94395102393195\n",
      "Lead sphere  radius 1 : 125.66370614359171\n",
      "Aluminum sphere  radius 2 : 67.02064327658225\n",
      "Iron sphere  radius 2 : 167.5516081914556\n",
      "Lead sphere  radius 2 : 1005.3096491487337\n",
      "Aluminum sphere  radius 3 : 226.19467105846508\n",
      "Iron sphere  radius 3 : 565.4866776461627\n",
      "Lead sphere  radius 3 : 3392.920065876976\n"
     ]
    }
   ],
   "source": [
    "densities = {\"Al\":[0.5,1,2],\"Fe\":[3,4,5],\"Pb\": [15,20,30]}\n",
    "radii = [1,2,3]\n",
    "results=[\"circle\", \"disk\", \"sphere\"]\n",
    "\n",
    "import math as m\n",
    "\n",
    "functions=[lambda x: 2*m.pi*x, lambda x: m.pi*(x**2),  lambda x: (4/3)*m.pi*(x**3)]\n",
    "\n",
    "for x,y,w,z,v in zip(densities.get(\"Al\"), densities.get(\"Fe\"), densities.get(\"Pb\"), functions, results):\n",
    "    r=1\n",
    "    areas=map(z, radii)\n",
    "    for i in areas:\n",
    "        print(\"Aluminum\", v, \" radius\", r, \":\", i*x)\n",
    "        print(\"Iron\", v, \" radius\", r, \":\", i*y)\n",
    "        print(\"Lead\", v, \" radius\", r, \":\", i*w)\n",
    "        r+=1"
   ]
  },
  {

   "cell_type": "markdown",
   "metadata": {},
   "source": [
    "6\\. Edit the class defintion to add an instance attribute of is_hungry = True to the Dog class. Then add a method called eat() which changes the value of is_hungry to False when called. Figure out the best way to feed each dog and then output “My dogs are hungry.” if all are hungry or “My dogs are not hungry.” if all are not hungry. The final output should look like this:\n",
    "\n",
    "`I have 3 dogs. \n",
    "Tom is 6. \n",
    "Fletcher is 7. \n",
    "Larry is 9. \n",
    "And they're all mammals, of course. \n",
    "My dogs are not hungry.\n",
    "`\n",
    "\n",
    "```python\n",
    "# Parent class\n",
    "class Dog:\n",
    "\n",
    "    # Class attribute\n",
    "    species = 'mammal'\n",
    "\n",
    "    # Initializer / Instance attributes\n",
    "    def __init__(self, name, age):\n",
    "        self.name = name\n",
    "        self.age = age\n",
    "\n",
    "    # instance method\n",
    "    def description(self):\n",
    "        return \"{} is {} years old\".format(self.name, self.age)\n",
    "\n",
    "    # instance method\n",
    "    def speak(self, sound):\n",
    "        return \"{} says {}\".format(self.name, sound)\n",
    "\n",
    "# Child class (inherits from Dog class)\n",
    "class RussellTerrier(Dog):\n",
    "    def run(self, speed):\n",
    "        return \"{} runs {}\".format(self.name, speed)\n",
    "\n",
    "# Child class (inherits from Dog class)\n",
    "class Bulldog(Dog):\n",
    "    def run(self, speed):\n",
    "        return \"{} runs {}\".format(self.name, speed)\n",
    "```"
   ]
  },
  {
   "cell_type": "code",

   "execution_count": 17,
   "metadata": {},
   "outputs": [
    {
     "name": "stdout",
     "output_type": "stream",
     "text": [
      "Tom is 6 years old\n",
      "False\n",
      "Fletcher is 7 years old\n",
      "False\n",
      "Larry is 9 years old\n",
      "False\n",
      "and they're all mammal, of course.\n",
      "My dogs are not hungry\n"
     ]
    }
   ],
   "source": [
    "class Dog:\n",
    "    \n",
    "    species = 'mammal'\n",
    "\n",
    "    def __init__(self, name, age):\n",
    "        self.name = name\n",
    "        self.age = age\n",
    "        self.is_hungry = True\n",
    "\n",
    "    def description(self):\n",
    "        return \"{} is {} years old\".format(self.name, self.age)\n",
    "\n",
    "    def speak(self, sound):\n",
    "        return \"{} says {}\".format(self.name, sound)\n",
    "    \n",
    "    def eat(self):\n",
    "        self.is_hungry = False\n",
    "\n",
    "class RussellTerrier(Dog):\n",
    "    def run(self, speed):\n",
    "        return \"{} runs {}\".format(self.name, speed)\n",
    "\n",
    "class Bulldog(Dog):\n",
    "    def run(self, speed):\n",
    "        return \"{} runs {}\".format(self.name, speed)\n",
    "    \n",
    "    \n",
    "Tom = Dog(\"Tom\", 6)\n",
    "Fletcher = Dog(\"Fletcher\", 7)\n",
    "Larry = Dog(\"Larry\", 9)\n",
    "DogShelter = [Tom, Fletcher, Larry]\n",
    "for x in DogShelter:\n",
    "    print(x.description())\n",
    "    x.eat()\n",
    "print(\"and they're all mammal, of course.\")\n",
    "if (Larry.is_hungry & Tom.is_hungry & Fletcher.is_hungry):\n",
    "    print(\"My dogs are hungry\")\n",
    "if(not(Larry.is_hungry) and not(Tom.is_hungry) and not(Fletcher.is_hungry)):\n",
    "    print(\"My dogs are not hungry\")"
   ]

  }
 ],
 "metadata": {
  "kernelspec": {
   "display_name": "Python 3",
   "language": "python",
   "name": "python3"
  },
  "language_info": {
   "codemirror_mode": {
    "name": "ipython",
    "version": 3
   },
   "file_extension": ".py",
   "mimetype": "text/x-python",
   "name": "python",
   "nbconvert_exporter": "python",
   "pygments_lexer": "ipython3",

   "version": "3.8.6"
  }
 },
 "nbformat": 4,
 "nbformat_minor": 2
}
