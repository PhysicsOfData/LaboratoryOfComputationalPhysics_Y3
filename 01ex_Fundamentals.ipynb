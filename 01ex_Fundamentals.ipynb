{
 "cells": [
  {
   "cell_type": "markdown",
   "metadata": {},
   "source": [
    "1\\. Write the following as a list comprehension"
   ]
  },
  {
   "cell_type": "code",
   "execution_count": 4,
   "metadata": {},
   "outputs": [
    {
     "name": "stdout",
     "output_type": "stream",
     "text": [
      "[(0, 0), (0, 1), (0, 2), (0, 3), (1, 0), (1, 1), (1, 2), (1, 3), (2, 0), (2, 1), (2, 2), (2, 3)]\n",
      "[(0, 0), (0, 1), (0, 2), (0, 3), (1, 0), (1, 1), (1, 2), (1, 3), (2, 0), (2, 1), (2, 2), (2, 3)]\n",
      "[0, 4, 16]\n",
      "[0, 4, 16]\n"
     ]
    }
   ],
   "source": [
    "# 1\n",
    "ans = []\n",
    "for i in range(3):\n",
    "    for j in range(4):\n",
    "        ans.append((i, j))\n",
    "print (ans)\n",
    "\n",
    "### SOLUTION\n",
    "ans=[(i,j) for i in range(3) for j in range(4)]\n",
    "print(ans)\n",
    "###\n",
    "\n",
    "# 2\n",
    "ans = map(lambda x: x*x, filter(lambda x: x%2 == 0, range(5)))\n",
    "print (list(ans))\n",
    "\n",
    "###SOLUTION\n",
    "ans=[x**2 for x in range(5) if x%2==0]\n",
    "print(ans)\n",
    "###\n"
   ]
  },
  {
   "cell_type": "markdown",
   "metadata": {},
   "source": [
    "2\\. Convert the following function into a pure function with no global variables or side effects"
   ]
  },
  {
   "cell_type": "code",
   "execution_count": 66,
   "metadata": {},
   "outputs": [
    {
     "name": "stdout",
     "output_type": "stream",
     "text": [
      "[1, 2, 3, 0, 1, 2, 3, 4]\n",
      "changing: [1, 2, 3, 0, 1, 2, 3, 4]\n",
      "[1, 2, 3, 0, 1, 2, 3, 4]\n",
      "not changing: [1, 2, 3]\n"
     ]
    }
   ],
   "source": [
    "x = 5\n",
    "def f(alist):\n",
    "    for i in range(x):\n",
    "         alist.append(i)\n",
    "    return alist\n",
    "\n",
    "alist = [1,2,3]\n",
    "ans = f(alist)\n",
    "print (ans)\n",
    "print (\"changing:\",alist) # alist has been changed!\n",
    "\n",
    "## SOLUTION\n",
    "\n",
    "def f(alist,x):\n",
    "    L=alist.copy();\n",
    "    for i in range(x):\n",
    "         L.append(i)\n",
    "    return L\n",
    "\n",
    "x=5\n",
    "alist = [1,2,3]\n",
    "ans = f(alist,x)\n",
    "print (ans)\n",
    "print (\"not changing:\",alist) # alist has not changed!"
   ]
  },
  {
   "cell_type": "markdown",
   "metadata": {},
   "source": [
    "3\\. Write a `decorator` hello that makes every wrapped function print “Hello!”, i.e. something like:\n",
    "\n",
    "```python\n",
    "@hello\n",
    "def square(x):\n",
    "    return x*x\n",
    "```\n",
    "\n"
   ]
  },
  {
   "cell_type": "code",
   "execution_count": 2,
   "metadata": {},
   "outputs": [
    {
     "name": "stdout",
     "output_type": "stream",
     "text": [
      "Hello!\n",
      "16\n"
     ]
    }
   ],
   "source": [
    "def hello(func):\n",
    "    def wrapper(x):\n",
    "        print(\"Hello!\")\n",
    "        f=func(x)\n",
    "        return f\n",
    "    return wrapper\n",
    "        \n",
    "\n",
    "@hello\n",
    "def square(x):\n",
    "    return x*x\n",
    "\n",
    "print(square(4))"
   ]
  },
  {
   "cell_type": "markdown",
   "metadata": {},
   "source": [
    "4\\. Write the factorial function so that it a) does and b) does not use recursion."
   ]
  },
  {
   "cell_type": "code",
   "execution_count": 1,
   "metadata": {},
   "outputs": [
    {
     "name": "stdout",
     "output_type": "stream",
     "text": [
      "4!= 24\n",
      "4!= 24\n"
     ]
    }
   ],
   "source": [
    "a=4\n",
    "\n",
    "def fact_r(a):\n",
    "    if a<0: return None\n",
    "    elif a==0: return 1\n",
    "    return a*fact_r(a-1)\n",
    "\n",
    "print(str(a)+\"!=\",fact_r(a))\n",
    "\n",
    "def fact_nr(a):\n",
    "    c=1\n",
    "    for i in range(1,a+1):\n",
    "        c*=i\n",
    "    return c\n",
    "\n",
    "print(str(a)+\"!=\",fact_nr(a))"
   ]
  },
  {
   "cell_type": "markdown",
   "metadata": {},
   "source": [
    "5\\. Use HOFs (zip in particular) to compute the weight of a circle, a disk and a sphere, assuming different radii and different densities:\n",
    "\n",
    "```python\n",
    "densities = {\"Al\":[0.5,1,2],\"Fe\":[3,4,5],\"Pb\": [15,20,30]}\n",
    "radii = [1,2,3]\n",
    "```\n",
    "\n",
    "where the entries of the dictionary's values are the linear, superficial and volumetric densities of the materials respectively.\n",
    "\n",
    "In particular define a list of three lambda functions using a comprehension that computes the circumference, the area and the volume for a given radius.\n"
   ]
  },
  {
   "cell_type": "code",
   "execution_count": 30,
   "metadata": {
    "scrolled": true
   },
   "outputs": [
    {
     "name": "stdout",
     "output_type": "stream",
     "text": [
      "Al densities: [0.5, 1, 2] radius: 1 = Weights: [3.141592653589793, 3.141592653589793, 8.377580409572781]\n",
      "Al densities: [0.5, 1, 2] radius: 2 = Weights: [6.283185307179586, 12.566370614359172, 67.02064327658225]\n",
      "Al densities: [0.5, 1, 2] radius: 3 = Weights: [9.42477796076938, 28.274333882308138, 226.19467105846508]\n",
      "Fe densities: [3, 4, 5] radius: 1 = Weights: [18.84955592153876, 12.566370614359172, 20.94395102393195]\n",
      "Fe densities: [3, 4, 5] radius: 2 = Weights: [37.69911184307752, 50.26548245743669, 167.5516081914556]\n",
      "Fe densities: [3, 4, 5] radius: 3 = Weights: [56.548667764616276, 113.09733552923255, 565.4866776461627]\n",
      "Pb densities: [15, 20, 30] radius: 1 = Weights: [94.24777960769379, 62.83185307179586, 125.66370614359171]\n",
      "Pb densities: [15, 20, 30] radius: 2 = Weights: [188.49555921538757, 251.32741228718345, 1005.3096491487337]\n",
      "Pb densities: [15, 20, 30] radius: 3 = Weights: [282.7433388230814, 565.4866776461628, 3392.920065876976]\n"
     ]
    }
   ],
   "source": [
    "from math import pi\n",
    "\n",
    "densities = {\"Al\":[0.5,1,2],\"Fe\":[3,4,5],\"Pb\": [15,20,30]}\n",
    "radii = [1,2,3]\n",
    "\n",
    "\n",
    "for i in densities:\n",
    "    for j in zip(densities[i],radii):\n",
    "        r=j[1]\n",
    "        dens=densities[i]\n",
    "        \n",
    "        Weight=[(lambda r,dens: 2*pi*r*dens)(r,dens[0]), (lambda r,dens: pi*r**2*dens)(r,dens[1]), \n",
    "                (lambda r,dens: 4/3*pi*r**3*dens)(r,dens[2])] #circumference, area and volume weight\n",
    "        print(i,\"densities:\",dens,\"radius:\",r,\"=\", \"Weights:\", Weight)"
   ]
  },
  {
   "cell_type": "markdown",
   "metadata": {},
   "source": [
    "6\\. Edit the class defintion to add an instance attribute of is_hungry = True to the Dog class. Then add a method called eat() which changes the value of is_hungry to False when called. Figure out the best way to feed each dog and then output “My dogs are hungry.” if all are hungry or “My dogs are not hungry.” if all are not hungry. The final output should look like this:\n",
    "\n",
    "`I have 3 dogs. \n",
    "Tom is 6. \n",
    "Fletcher is 7. \n",
    "Larry is 9. \n",
    "And they're all mammals, of course. \n",
    "My dogs are not hungry.\n",
    "`\n",
    "\n",
    "```python\n",
    "# Parent class\n",
    "class Dog:\n",
    "\n",
    "    # Class attribute\n",
    "    species = 'mammal'\n",
    "\n",
    "    # Initializer / Instance attributes\n",
    "    def __init__(self, name, age):\n",
    "        self.name = name\n",
    "        self.age = age\n",
    "\n",
    "    # instance method\n",
    "    def description(self):\n",
    "        return \"{} is {} years old\".format(self.name, self.age)\n",
    "\n",
    "    # instance method\n",
    "    def speak(self, sound):\n",
    "        return \"{} says {}\".format(self.name, sound)\n",
    "\n",
    "# Child class (inherits from Dog class)\n",
    "class RussellTerrier(Dog):\n",
    "    def run(self, speed):\n",
    "        return \"{} runs {}\".format(self.name, speed)\n",
    "\n",
    "# Child class (inherits from Dog class)\n",
    "class Bulldog(Dog):\n",
    "    def run(self, speed):\n",
    "        return \"{} runs {}\".format(self.name, speed)\n",
    "```"
   ]
  },
  {
   "cell_type": "code",
   "execution_count": 64,
   "metadata": {},
   "outputs": [
    {
     "name": "stdout",
     "output_type": "stream",
     "text": [
      "I have 3 dogs.\n",
      "Tom is 6.\n",
      "Fletcher is 7.\n",
      "Larry is 9.\n",
      "And they're all mammals, of course.\n",
      "My dogs are not hungry.\n"
     ]
    }
   ],
   "source": [
    "# Parent class\n",
    "class Dog:\n",
    "\n",
    "    # Class attribute\n",
    "    species = 'mammal'\n",
    "    \n",
    "    \n",
    "    # Initializer / Instance attributes\n",
    "    def __init__(self, name, age):\n",
    "        self.name = name\n",
    "        self.age = age\n",
    "        self.is_hungry=True;\n",
    "\n",
    "    # instance method\n",
    "    def description(self):\n",
    "        return \"{} is {}.\".format(self.name, self.age)\n",
    "\n",
    "    # instance method\n",
    "    def speak(self, sound):\n",
    "        return \"{} says {}\".format(self.name, sound)\n",
    "    \n",
    "    # instance method\n",
    "    def eat(self):\n",
    "        self.is_hungry=False;\n",
    "        \n",
    "\n",
    "        \n",
    "        \n",
    "# Child class (inherits from Dog class)\n",
    "class RussellTerrier(Dog):\n",
    "    def run(self, speed):\n",
    "        return \"{} runs {}\".format(self.name, speed)\n",
    "\n",
    "# Child class (inherits from Dog class)\n",
    "class Bulldog(Dog):\n",
    "    def run(self, speed):\n",
    "        return \"{} runs {}\".format(self.name, speed)\n",
    "    \n",
    "# Child class (inherits from Dog class)\n",
    "class GoldenRetriever(Dog):\n",
    "    def run(self, speed):\n",
    "        return \"{} runs {}\".format(self.name, speed)\n",
    "    \n",
    "##############################################################################\n",
    "\n",
    "Dogs=[Bulldog(\"Tom\",6),RussellTerrier(\"Fletcher\",7),GoldenRetriever(\"Larry\",9)]\n",
    "\n",
    "Dogs_number=len(Dogs)\n",
    "print(\"I have \"+str(Dogs_number)+\" dogs.\")\n",
    "\n",
    "is_mammal=True; areHungry=False;\n",
    "for i in range(Dogs_number):\n",
    "    print(Dogs[i].description())\n",
    "    if Dogs[i].species != 'mammal':   # This check shouldn't be necessary. But being species a global variable\n",
    "        is_mammal=False;              # it could be changed by someone and therefore it is likely to be checked. \n",
    "    Dogs[i].eat()\n",
    "    if Dogs[i].is_hungry==True:\n",
    "        areHungry=True;\n",
    "\n",
    "if is_mammal:\n",
    "    print(\"And they're all mammals, of course.\")\n",
    "else:\n",
    "    print(\"But they're not all mammals!\")\n",
    "    \n",
    "if areHungry:\n",
    "    print(\"My dogs are still hungry.\")\n",
    "else:\n",
    "    print(\"My dogs are not hungry.\")"
   ]
  }
 ],
 "metadata": {
  "kernelspec": {
   "display_name": "Python 3",
   "language": "python",
   "name": "python3"
  },
  "language_info": {
   "codemirror_mode": {
    "name": "ipython",
    "version": 3
   },
   "file_extension": ".py",
   "mimetype": "text/x-python",
   "name": "python",
   "nbconvert_exporter": "python",
   "pygments_lexer": "ipython3",
   "version": "3.8.3"
  }
 },
 "nbformat": 4,
 "nbformat_minor": 2
}
