{
 "cells": [
  {
   "cell_type": "markdown",
   "metadata": {},
   "source": [
    "1\\. Write the following as a list comprehension"
   ]
  },
  {
   "cell_type": "code",
   "execution_count": 1,
   "metadata": {},
   "outputs": [
    {
     "name": "stdout",
     "output_type": "stream",
     "text": [
      "[(0, 0), (0, 1), (0, 2), (0, 3), (1, 0), (1, 1), (1, 2), (1, 3), (2, 0), (2, 1), (2, 2), (2, 3)]\n",
      "[0, 4, 16]\n"
     ]
    }
   ],
   "source": [
    "# 1\n",
    "ans = []\n",
    "for i in range(3):\n",
    "    for j in range(4):\n",
    "        ans.append((i, j))\n",
    "print (ans)\n",
    "\n",
    "# 2\n",
    "ans = map(lambda x: x*x, filter(lambda x: x%2 == 0, range(5)))\n",
    "print (list(ans))\n",
    "\n"
   ]
  },
  {
   "cell_type": "code",
   "execution_count": 2,
   "metadata": {},
   "outputs": [
    {
     "name": "stdout",
     "output_type": "stream",
     "text": [
      "[(0, 0), (0, 1), (0, 2), (0, 3), (1, 0), (1, 1), (1, 2), (1, 3), (2, 0), (2, 1), (2, 2), (2, 3)]\n"
     ]
    }
   ],
   "source": [
    "#1\n",
    "ans=[(x,y) for x in range (3) for y in range (4)]\n",
    "print (ans)"
   ]
  },
  {
   "cell_type": "code",
   "execution_count": 3,
   "metadata": {},
   "outputs": [
    {
     "name": "stdout",
     "output_type": "stream",
     "text": [
      "[0, 4, 16]\n"
     ]
    }
   ],
   "source": [
    "#2\n",
    "ans=[x*x for x in range (5) if x%2==0]\n",
    "print (ans)"
   ]
  },
  {
   "cell_type": "markdown",
   "metadata": {},
   "source": [
    "2\\. Convert the following function into a pure function with no global variables or side effects"
   ]
  },
  {
   "cell_type": "code",
   "execution_count": 4,
   "metadata": {},
   "outputs": [
    {
     "name": "stdout",
     "output_type": "stream",
     "text": [
      "[1, 2, 3, 0, 1, 2, 3, 4]\n",
      "[1, 2, 3, 0, 1, 2, 3, 4]\n"
     ]
    }
   ],
   "source": [
    "x = 5\n",
    "def f(alist):\n",
    "    for i in range(x):\n",
    "         alist.append(i)\n",
    "    return alist\n",
    "\n",
    "alist = [1,2,3]\n",
    "ans = f(alist)\n",
    "print (ans)\n",
    "print (alist) # alist has been changed!"
   ]
  },
  {
   "cell_type": "code",
   "execution_count": 5,
   "metadata": {},
   "outputs": [
    {
     "name": "stdout",
     "output_type": "stream",
     "text": [
      "[1, 2, 3, 0, 1, 2, 3, 4]\n",
      "[1, 2, 3]\n"
     ]
    }
   ],
   "source": [
    "\n",
    "def f(alist):\n",
    "    b=[x for x in alist]\n",
    "    for i in range (x):\n",
    "         b.append(i)\n",
    "    return b\n",
    "\n",
    "alist = [1,2,3]\n",
    "ans = f(alist)\n",
    "print (ans)\n",
    "print (alist)"
   ]
  },
  {
   "cell_type": "markdown",
   "metadata": {},
   "source": [
    "3\\. Write a `decorator` hello that makes every wrapped function print “Hello!”, i.e. something like:\n",
    "\n",
    "```python\n",
    "@hello\n",
    "def square(x):\n",
    "    return x*x\n",
    "```\n",
    "\n"
   ]
  },
  {
   "cell_type": "code",
   "execution_count": 6,
   "metadata": {},
   "outputs": [
    {
     "name": "stdout",
     "output_type": "stream",
     "text": [
      "Hello!\n",
      "25\n"
     ]
    }
   ],
   "source": [
    "def hello(func):\n",
    "    def wrapper(*args, **kwargs):\n",
    "        print(\"Hello!\")\n",
    "        func(*args, **kwargs)\n",
    "        return func(*args, **kwargs)\n",
    "    return wrapper\n",
    "\n",
    "@hello\n",
    "def square(x):\n",
    "    return x*x\n",
    "a=5    \n",
    "print(square(a))"
   ]
  },
  {
   "cell_type": "markdown",
   "metadata": {},
   "source": [
    "4\\. Write the factorial function so that it a) does and b) does not use recursion."
   ]
  },
  {
   "cell_type": "code",
   "execution_count": 7,
   "metadata": {},
   "outputs": [
    {
     "name": "stdout",
     "output_type": "stream",
     "text": [
      "1\n"
     ]
    }
   ],
   "source": [
    "#recursive factorial function\n",
    "def factorial(n):\n",
    "    if n==0 or n==1: return 1\n",
    "    elif n<0: print(\"not valid\")\n",
    "    else:\n",
    "        return n*factorial(n-1)\n",
    "n=0\n",
    "print(factorial(n))"
   ]
  },
  {
   "cell_type": "code",
   "execution_count": 8,
   "metadata": {},
   "outputs": [
    {
     "name": "stdout",
     "output_type": "stream",
     "text": [
      "120\n"
     ]
    }
   ],
   "source": [
    "#non-recursive factorial function\n",
    "def factorial(n):\n",
    "    if n==0: return 1\n",
    "    elif n<0: print(\"na\")\n",
    "    else:\n",
    "        fact=1\n",
    "        for i in range (1,n+1):\n",
    "            fact=fact*i\n",
    "    return fact\n",
    "\n",
    "fact=factorial(5)\n",
    "print(fact)"
   ]
  },
  {
   "cell_type": "markdown",
   "metadata": {},
   "source": [
    "5\\. Use HOFs (zip in particular) to compute the weight of a circle, a disk and a sphere, assuming different radii and different densities:\n",
    "\n",
    "```python\n",
    "densities = {\"Al\":[0.5,1,2],\"Fe\":[3,4,5],\"Pb\": [15,20,30]}\n",
    "radii = [1,2,3]\n",
    "```\n",
    "\n",
    "where the entries of the dictionary's values are the linear, superficial and volumetric densities of the materials respectively.\n",
    "\n",
    "In particular define a list of three lambda functions using a comprehension that computes the circumference, the area and the volume for a given radius.\n"
   ]
  },
  {
   "cell_type": "code",
   "execution_count": 9,
   "metadata": {},
   "outputs": [
    {
     "name": "stdout",
     "output_type": "stream",
     "text": [
      "radius= 1\n",
      "Al\n",
      "weight of the circle: 3.141592653589793\n",
      "weight of the disk: 3.141592653589793\n",
      "weight of the sfere: 8.377580409572781\n",
      "Fe\n",
      "weight of the circle: 18.84955592153876\n",
      "weight of the disk: 12.566370614359172\n",
      "weight of the sfere: 20.94395102393195\n",
      "Pb\n",
      "weight of the circle: 94.24777960769379\n",
      "weight of the disk: 62.83185307179586\n",
      "weight of the sfere: 125.66370614359171\n",
      "radius= 2\n",
      "Al\n",
      "weight of the circle: 6.283185307179586\n",
      "weight of the disk: 12.566370614359172\n",
      "weight of the sfere: 67.02064327658225\n",
      "Fe\n",
      "weight of the circle: 37.69911184307752\n",
      "weight of the disk: 50.26548245743669\n",
      "weight of the sfere: 167.5516081914556\n",
      "Pb\n",
      "weight of the circle: 188.49555921538757\n",
      "weight of the disk: 251.32741228718345\n",
      "weight of the sfere: 1005.3096491487337\n",
      "radius= 3\n",
      "Al\n",
      "weight of the circle: 9.42477796076938\n",
      "weight of the disk: 28.274333882308138\n",
      "weight of the sfere: 226.1946710584651\n",
      "Fe\n",
      "weight of the circle: 56.548667764616276\n",
      "weight of the disk: 113.09733552923255\n",
      "weight of the sfere: 565.4866776461628\n",
      "Pb\n",
      "weight of the circle: 282.7433388230814\n",
      "weight of the disk: 565.4866776461628\n",
      "weight of the sfere: 3392.9200658769764\n"
     ]
    }
   ],
   "source": [
    "import math as m\n",
    "densities = {\"Al\":[0.5,1,2],\"Fe\":[3,4,5],\"Pb\": [15,20,30]}\n",
    "radii = [1,2,3]\n",
    "func=[lambda r:2*m.pi*r,lambda r:m.pi*r*r,lambda r:(4/3)*m.pi*r*r*r]\n",
    "ric=[\"weight of the circle:\", \"weight of the disk:\",\"weight of the sfere:\"]\n",
    "for i in radii:\n",
    "    print(\"radius=\",i)\n",
    "    for x in densities:\n",
    "        print(x)\n",
    "        for y,z,w in zip(func,densities[x],ric):\n",
    "            print (w,y(i)*z)"
   ]
  },
  {
   "cell_type": "markdown",
   "metadata": {},
   "source": [
    "6\\. Edit the class defintion to add an instance attribute of is_hungry = True to the Dog class. Then add a method called eat() which changes the value of is_hungry to False when called. Figure out the best way to feed each dog and then output “My dogs are hungry.” if all are hungry or “My dogs are not hungry.” if all are not hungry. The final output should look like this:\n",
    "\n",
    "`I have 3 dogs. \n",
    "Tom is 6. \n",
    "Fletcher is 7. \n",
    "Larry is 9. \n",
    "And they're all mammals, of course. \n",
    "My dogs are not hungry.\n",
    "`\n",
    "\n",
    "```python\n",
    "# Parent class\n",
    "class Dog:\n",
    "\n",
    "    # Class attribute\n",
    "    species = 'mammal'\n",
    "\n",
    "    # Initializer / Instance attributes\n",
    "    def __init__(self, name, age):\n",
    "        self.name = name\n",
    "        self.age = age\n",
    "\n",
    "    # instance method\n",
    "    def description(self):\n",
    "        return \"{} is {} years old\".format(self.name, self.age)\n",
    "\n",
    "    # instance method\n",
    "    def speak(self, sound):\n",
    "        return \"{} says {}\".format(self.name, sound)\n",
    "\n",
    "# Child class (inherits from Dog class)\n",
    "class RussellTerrier(Dog):\n",
    "    def run(self, speed):\n",
    "        return \"{} runs {}\".format(self.name, speed)\n",
    "\n",
    "# Child class (inherits from Dog class)\n",
    "class Bulldog(Dog):\n",
    "    def run(self, speed):\n",
    "        return \"{} runs {}\".format(self.name, speed)\n",
    "```"
   ]
  },
  {
   "cell_type": "code",
   "execution_count": 10,
   "metadata": {},
   "outputs": [
    {
     "name": "stdout",
     "output_type": "stream",
     "text": [
      "I have 3 dogs.\n",
      "Tom is 6.\n",
      "Fletcher is 7.\n",
      "Larry is 9.\n",
      "And they're all mammals, of course.\n",
      "My dogs are hungry.\n",
      "Let's feed them.\n",
      "Now Tom is not hungry.\n",
      "Now Fletcher is not hungry.\n",
      "Now Larry is not hungry.\n",
      "Now my dogs are not hungry.\n"
     ]
    }
   ],
   "source": [
    "class Dog:\n",
    "\n",
    "    species = 'mammal'\n",
    "\n",
    "    def __init__(self, name, age):\n",
    "        self.name = name\n",
    "        self.age = age\n",
    "        self.is_hungry=True\n",
    "\n",
    "    def eat(self):\n",
    "        self.is_hungry=False\n",
    "        \n",
    "    def description(self):\n",
    "        return \"{} is {} years old\".format(self.name, self.age)\n",
    "\n",
    "    def speak(self, sound):\n",
    "        return \"{} says {}\".format(self.name, sound)\n",
    "\n",
    "class RussellTerrier(Dog):\n",
    "    def run(self, speed):\n",
    "        return \"{} runs {}\".format(self.name, speed)\n",
    "\n",
    "class Bulldog(Dog):\n",
    "    def run(self, speed):\n",
    "        return \"{} runs {}\".format(self.name, speed)\n",
    "     \n",
    "dogs=[Dog('Tom',6),Dog('Fletcher',7),Dog('Larry',9)]\n",
    "hunger=[]\n",
    "print(\"I have {} dogs.\".format(len(dogs)))\n",
    "for dog in dogs:\n",
    "    hunger.append(dog.is_hungry)\n",
    "    print(\"{} is {}.\".format(dog.name, dog.age))\n",
    "print(\"And they\\'re all {}s, of course.\".format(dog.species))\n",
    "if hunger==[True for _ in range(len(dogs))]:\n",
    "    print('My dogs are hungry.\\nLet\\'s feed them.')\n",
    "    for dog in dogs:\n",
    "        dog.eat()\n",
    "        if dog.is_hungry==True: print('Now {} is hungry.'.format(dog.name))\n",
    "        elif dog.is_hungry==False: print('Now {} is not hungry.'.format(dog.name))\n",
    "    print ('Now my dogs are not hungry.')\n",
    "elif hunger==[False for _ in range(len(dogs))]: print ('My dogs are not hungry.')\n",
    "else:\n",
    "    for dog in dogs:\n",
    "        if dog.is_hungry==True: print('{} is hungry.'.format(dog.name))\n",
    "        elif dog.is_hungry==False: print('{} is not hungry.'.format(dog.name))"
   ]
  }
 ],
 "metadata": {
  "kernelspec": {
   "display_name": "Python 3",
   "language": "python",
   "name": "python3"
  },
  "language_info": {
   "codemirror_mode": {
    "name": "ipython",
    "version": 3
   },
   "file_extension": ".py",
   "mimetype": "text/x-python",
   "name": "python",
   "nbconvert_exporter": "python",
   "pygments_lexer": "ipython3",
   "version": "3.7.4"
  }
 },
 "nbformat": 4,
 "nbformat_minor": 2
}
