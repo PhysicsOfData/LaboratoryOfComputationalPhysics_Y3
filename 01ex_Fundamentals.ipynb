{
 "cells": [
  {
   "cell_type": "markdown",
   "metadata": {},
   "source": [
    "1\\. Write the following as a list comprehension"
   ]
  },
  {
   "cell_type": "code",
   "execution_count": 1,
   "metadata": {},
   "outputs": [
    {
     "name": "stdout",
     "output_type": "stream",
     "text": [
      "[(0, 0), (0, 1), (0, 2), (0, 3), (1, 0), (1, 1), (1, 2), (1, 3), (2, 0), (2, 1), (2, 2), (2, 3)]\n",
      "[0, 4, 16]\n",
      "[(0, 0), (0, 1), (0, 2), (0, 3), (1, 0), (1, 1), (1, 2), (1, 3), (2, 0), (2, 1), (2, 2), (2, 3)]\n",
      "[0, 4, 16]\n"
     ]
    }
   ],
   "source": [
    "# 1\n",
    "ans = []\n",
    "for i in range(3):\n",
    "    for j in range(4):\n",
    "        ans.append((i, j))\n",
    "print (ans)\n",
    "\n",
    "# 2\n",
    "ans = map(lambda x: x*x, filter(lambda x: x%2 == 0, range(5)))\n",
    "print (list(ans))\n",
    "\n",
    "# Solving\n",
    "# 1\n",
    "ans = [(i,j) for i in range(3) for j in range(4)]\n",
    "print(ans)\n",
    "\n",
    "# 2\n",
    "ans = [x**2 for x in range(0,5,2)]\n",
    "print(ans)\n",
    "\n"
   ]
  },
  {
   "cell_type": "markdown",
   "metadata": {},
   "source": [
    "2\\. Convert the following function into a pure function with no global variables or side effects"
   ]
  },
  {
   "cell_type": "code",
   "execution_count": 24,
   "metadata": {},
   "outputs": [
    {
     "name": "stdout",
     "output_type": "stream",
     "text": [
      "[1, 2, 3, 0, 1, 2, 3, 4]\n",
      "[1, 2, 3, 0, 1, 2, 3, 4]\n",
      "Solving...\n",
      "[1, 2, 3, 0, 1, 2, 3, 4]\n",
      "[1, 2, 3]\n"
     ]
    }
   ],
   "source": [
    "x = 5\n",
    "def f(alist):\n",
    "    for i in range(x):\n",
    "         alist.append(i)\n",
    "    return alist\n",
    "\n",
    "alist = [1,2,3]\n",
    "ans = f(alist)\n",
    "print (ans)\n",
    "print (alist) # alist has been changed!\n",
    "\n",
    "# Solving\n",
    "print(\"Solving...\")\n",
    "x = 5\n",
    "def f(alist, x:int):\n",
    "    return alist + list(range(x))\n",
    "\n",
    "alist = [1, 2, 3]\n",
    "ans = f(alist, x)\n",
    "print(ans)\n",
    "print(alist)"
   ]
  },
  {
   "cell_type": "markdown",
   "metadata": {},
   "source": [
    "3\\. Write a `decorator` hello that makes every wrapped function print “Hello!”, i.e. something like:\n",
    "\n",
    "```python\n",
    "@hello\n",
    "def square(x):\n",
    "    return x*x\n",
    "```\n",
    "\n"
   ]
  },
  {
   "cell_type": "code",
   "execution_count": 27,
   "metadata": {},
   "outputs": [
    {
     "name": "stdout",
     "output_type": "stream",
     "text": [
      "Hello!\n"
     ]
    }
   ],
   "source": [
    "def hello(f):\n",
    "    def wrapper(*args):\n",
    "        print(\"Hello!\")\n",
    "    return wrapper\n",
    "\n",
    "@hello\n",
    "def square(x):\n",
    "    return x*x\n",
    "\n",
    "square(5)\n"
   ]
  },
  {
   "cell_type": "markdown",
   "metadata": {},
   "source": [
    "4\\. Write the factorial function so that it a) does and b) does not use recursion."
   ]
  },
  {
   "cell_type": "code",
   "execution_count": 30,
   "metadata": {},
   "outputs": [
    {
     "name": "stdout",
     "output_type": "stream",
     "text": [
      "[1, 1, 2, 3, 5, 8, 13, 21, 34, 55]\n",
      "[1, 1, 2, 3, 5, 8, 13, 21, 34, 55]\n"
     ]
    }
   ],
   "source": [
    "def fact_recurs(n:int):\n",
    "    if not type(n)==int or n < 0:\n",
    "        print(\"Error: {} is not a valid argument\".format(n))\n",
    "        return\n",
    "    if n in(0,1):\n",
    "        return 1\n",
    "    else:\n",
    "        return fact_no_recurs(n-1) + fact_no_recurs(n-2)\n",
    "\n",
    "def fact_no_recurs(n:int):\n",
    "    if not type(n)==int or n < 0:\n",
    "        print(\"Error: {} is not a valid argument\".format(n))\n",
    "        return\n",
    "    a, b = 0, 1\n",
    "    for i in range(n):\n",
    "        a, b = b, a+b\n",
    "    return b\n",
    "\n",
    "# a) recursion\n",
    "print([fact_recurs(n) for n in range(10)])\n",
    "# b) no recursion\n",
    "print([fact_no_recurs(n) for n in range(10)])"
   ]
  },
  {
   "cell_type": "markdown",
   "metadata": {},
   "source": [
    "5\\. Use HOFs (zip in particular) to compute the weight of a circle, a disk and a sphere, assuming different radii and different densities:\n",
    "\n",
    "```python\n",
    "densities = {\"Al\":[0.5,1,2],\"Fe\":[3,4,5],\"Pb\": [15,20,30]}\n",
    "radii = [1,2,3]\n",
    "```\n",
    "\n",
    "where the entries of the dictionary's values are the linear, superficial and volumetric densities of the materials respectively.\n",
    "\n",
    "In particular define a list of three lambda functions using a comprehension that computes the circumference, the area and the volume for a given radius.\n"
   ]
  },
  {
   "cell_type": "code",
   "execution_count": 21,
   "metadata": {},
   "outputs": [
    {
     "name": "stdout",
     "output_type": "stream",
     "text": [
      "Shape: Circle, Radius: 1, Material: Al, Density: 0.5 -> Weight = 3.141592653589793\n",
      "Shape: Disk,   Radius: 1, Material: Al, Density: 1   -> Weight = 3.141592653589793\n",
      "Shape: Sphere, Radius: 1, Material: Al, Density: 2   -> Weight = 8.377580409572781\n",
      "Shape: Circle, Radius: 2, Material: Al, Density: 0.5 -> Weight = 6.283185307179586\n",
      "Shape: Disk,   Radius: 2, Material: Al, Density: 1   -> Weight = 12.566370614359172\n",
      "Shape: Sphere, Radius: 2, Material: Al, Density: 2   -> Weight = 67.02064327658225\n",
      "Shape: Circle, Radius: 3, Material: Al, Density: 0.5 -> Weight = 9.42477796076938\n",
      "Shape: Disk,   Radius: 3, Material: Al, Density: 1   -> Weight = 28.274333882308138\n",
      "Shape: Sphere, Radius: 3, Material: Al, Density: 2   -> Weight = 226.19467105846508\n",
      "Shape: Circle, Radius: 1, Material: Fe, Density: 3   -> Weight = 18.84955592153876\n",
      "Shape: Disk,   Radius: 1, Material: Fe, Density: 4   -> Weight = 12.566370614359172\n",
      "Shape: Sphere, Radius: 1, Material: Fe, Density: 5   -> Weight = 20.94395102393195\n",
      "Shape: Circle, Radius: 2, Material: Fe, Density: 3   -> Weight = 37.69911184307752\n",
      "Shape: Disk,   Radius: 2, Material: Fe, Density: 4   -> Weight = 50.26548245743669\n",
      "Shape: Sphere, Radius: 2, Material: Fe, Density: 5   -> Weight = 167.5516081914556\n",
      "Shape: Circle, Radius: 3, Material: Fe, Density: 3   -> Weight = 56.548667764616276\n",
      "Shape: Disk,   Radius: 3, Material: Fe, Density: 4   -> Weight = 113.09733552923255\n",
      "Shape: Sphere, Radius: 3, Material: Fe, Density: 5   -> Weight = 565.4866776461627\n",
      "Shape: Circle, Radius: 1, Material: Pb, Density: 15  -> Weight = 94.24777960769379\n",
      "Shape: Disk,   Radius: 1, Material: Pb, Density: 20  -> Weight = 62.83185307179586\n",
      "Shape: Sphere, Radius: 1, Material: Pb, Density: 30  -> Weight = 125.66370614359171\n",
      "Shape: Circle, Radius: 2, Material: Pb, Density: 15  -> Weight = 188.49555921538757\n",
      "Shape: Disk,   Radius: 2, Material: Pb, Density: 20  -> Weight = 251.32741228718345\n",
      "Shape: Sphere, Radius: 2, Material: Pb, Density: 30  -> Weight = 1005.3096491487337\n",
      "Shape: Circle, Radius: 3, Material: Pb, Density: 15  -> Weight = 282.7433388230814\n",
      "Shape: Disk,   Radius: 3, Material: Pb, Density: 20  -> Weight = 565.4866776461628\n",
      "Shape: Sphere, Radius: 3, Material: Pb, Density: 30  -> Weight = 3392.920065876976\n"
     ]
    }
   ],
   "source": [
    "densities = {\"Al\":[0.5,1,2],\"Fe\":[3,4,5],\"Pb\": [15,20,30]}\n",
    "radii = [1,2,3]\n",
    "\n",
    "from math import pi\n",
    "lambdas = [lambda x: 2*pi*x, lambda x: pi*x**2, lambda x: 4/3*pi*x**3]\n",
    "weights = {}\n",
    "\n",
    "shapes = (\"Circle\", \"Disk\", \"Sphere\")\n",
    "# Spaces are just for a bit of formatting\n",
    "results = ( \"Shape: {},\".format(shapes[i]) + \" \"*(6-len(shapes[i]))\n",
    "           + \" Radius: {}, Material: {}, Density: {}\".format(r,k,d) + \" \"*(3-len(str(d)))\n",
    "           + \" -> Weight = {}\".format(l(r)*d)\n",
    "           for k in densities.keys() for r in radii for d,l,i in zip(densities[k], lambdas, (0,1,2)) )\n",
    "for r in results:\n",
    "    print(r)"
   ]
  },
  {
   "cell_type": "markdown",
   "metadata": {},
   "source": [
    "6\\. Edit the class defintion to add an instance attribute of is_hungry = True to the Dog class. Then add a method called eat() which changes the value of is_hungry to False when called. Figure out the best way to feed each dog and then output “My dogs are hungry.” if all are hungry or “My dogs are not hungry.” if all are not hungry. The final output should look like this:\n",
    "\n",
    "`I have 3 dogs. \n",
    "Tom is 6. \n",
    "Fletcher is 7. \n",
    "Larry is 9. \n",
    "And they're all mammals, of course. \n",
    "My dogs are not hungry.\n",
    "`\n",
    "\n",
    "```python\n",
    "# Parent class\n",
    "class Dog:\n",
    "\n",
    "    # Class attribute\n",
    "    species = 'mammal'\n",
    "\n",
    "    # Initializer / Instance attributes\n",
    "    def __init__(self, name, age):\n",
    "        self.name = name\n",
    "        self.age = age\n",
    "\n",
    "    # instance method\n",
    "    def description(self):\n",
    "        return \"{} is {} years old\".format(self.name, self.age)\n",
    "\n",
    "    # instance method\n",
    "    def speak(self, sound):\n",
    "        return \"{} says {}\".format(self.name, sound)\n",
    "\n",
    "# Child class (inherits from Dog class)\n",
    "class RussellTerrier(Dog):\n",
    "    def run(self, speed):\n",
    "        return \"{} runs {}\".format(self.name, speed)\n",
    "\n",
    "# Child class (inherits from Dog class)\n",
    "class Bulldog(Dog):\n",
    "    def run(self, speed):\n",
    "        return \"{} runs {}\".format(self.name, speed)\n",
    "```"
   ]
  },
  {
   "cell_type": "code",
   "execution_count": 22,
   "metadata": {},
   "outputs": [
    {
     "name": "stdout",
     "output_type": "stream",
     "text": [
      "I have 3 dogs.\n",
      "Tom is 6.\n",
      "Fletcher is 7.\n",
      "Larry is 9.\n",
      "And they're all mammals, of course.\n",
      "My dogs are not hungry.\n"
     ]
    }
   ],
   "source": [
    "# Parent class\n",
    "class Dog:\n",
    "    # Class attribute\n",
    "    species = 'mammal'\n",
    "    \n",
    "    # Initializer / Instance attributes\n",
    "    def __init__(self, name, age):\n",
    "        self.name = name\n",
    "        self.age = age\n",
    "        self.is_hungry = True\n",
    "\n",
    "    # instance method\n",
    "    def description(self):\n",
    "        return \"{} is {}.\".format(self.name, self.age)\n",
    "\n",
    "    # instance method\n",
    "    def speak(self, sound):\n",
    "        return \"{} says {}\".format(self.name, sound)\n",
    "    \n",
    "    # instance method\n",
    "    def eat(self):\n",
    "        self.is_hungry = False\n",
    "\n",
    "# Child class (inherits from Dog class)\n",
    "class RussellTerrier(Dog):\n",
    "    def run(self, speed):\n",
    "        return \"{} runs {}\".format(self.name, speed)\n",
    "\n",
    "# Child class (inherits from Dog class)\n",
    "class Bulldog(Dog):\n",
    "    def run(self, speed):\n",
    "        return \"{} runs {}\".format(self.name, speed)\n",
    "\n",
    "my_dogs = [RussellTerrier(\"Tom\", 6), RussellTerrier(\"Fletcher\", 7), Bulldog(\"Larry\", 9)]\n",
    "print(\"I have {} dogs.\".format(len(my_dogs)))\n",
    "# Presenting dogs\n",
    "for dog in my_dogs:\n",
    "    print(dog.description())\n",
    "# Dogs' species must be mammal\n",
    "assert(all(dog.species == \"mammal\" for dog in my_dogs))\n",
    "print(\"And they're all mammals, of course.\".format())\n",
    "# Feeding dogs\n",
    "for dog in my_dogs:\n",
    "    dog.eat()\n",
    "# Checking if any dog is still hungry\n",
    "if any(dog.is_hungry for dog in my_dogs):\n",
    "    print(\"My dogs are hungry.\")\n",
    "else:\n",
    "    print(\"My dogs are not hungry.\")"
   ]
  }
 ],
 "metadata": {
  "kernelspec": {
   "display_name": "Python 3",
   "language": "python",
   "name": "python3"
  },
  "language_info": {
   "codemirror_mode": {
    "name": "ipython",
    "version": 3
   },
   "file_extension": ".py",
   "mimetype": "text/x-python",
   "name": "python",
   "nbconvert_exporter": "python",
   "pygments_lexer": "ipython3",
   "version": "3.8.5"
  }
 },
 "nbformat": 4,
 "nbformat_minor": 2
}
