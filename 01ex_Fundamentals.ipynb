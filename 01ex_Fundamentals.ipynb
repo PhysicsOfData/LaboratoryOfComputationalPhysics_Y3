{
 "cells": [
  {
   "cell_type": "markdown",
   "metadata": {},
   "source": [
    "1\\. Write the following as a list comprehension"
   ]
  },
  {
   "cell_type": "code",
   "execution_count": 6,
   "metadata": {},
   "outputs": [
    {
     "name": "stdout",
     "output_type": "stream",
     "text": [
      "[(0, 0), (0, 1), (0, 2), (0, 3), (1, 0), (1, 1), (1, 2), (1, 3), (2, 0), (2, 1), (2, 2), (2, 3)]\n",
      "[(0, 0), (0, 1), (0, 2), (0, 3), (1, 0), (1, 1), (1, 2), (1, 3), (2, 0), (2, 1), (2, 2), (2, 3)]\n",
      "[0, 4, 16]\n",
      "[0, 4, 16]\n"
     ]
    }
   ],
   "source": [
    "# 1\n",
    "ans = []\n",
    "for i in range(3):\n",
    "    for j in range(4):\n",
    "        ans.append((i, j))\n",
    "print (ans)\n",
    "\n",
    "list1_ans = [(i,j) for i in range(3) for j in range(4)]\n",
    "print(list1_ans)\n",
    "\n",
    "# 2\n",
    "ans = map(lambda x: x*x, filter(lambda x: x%2 == 0, range(5)))\n",
    "print (list(ans))\n",
    "\n",
    "list2_ans = [i**2 for i in range(5) if i%2==0]\n",
    "print(list2_ans)\n"
   ]
  },
  {
   "cell_type": "markdown",
   "metadata": {},
   "source": [
    "2\\. Convert the following function into a pure function with no global variables or side effects"
   ]
  },
  {
   "cell_type": "code",
   "execution_count": 1,
   "metadata": {},
   "outputs": [
    {
     "name": "stdout",
     "output_type": "stream",
     "text": [
      "[1, 2, 3, 0, 1, 2, 3, 4]\n",
      "[1, 2, 3, 0, 1, 2, 3, 4]\n",
      "[1, 2, 3, 0, 1, 2, 3, 4]\n",
      "[1, 2, 3]\n"
     ]
    }
   ],
   "source": [
    "x = 5\n",
    "def f(alist):\n",
    "    for i in range(x):\n",
    "         alist.append(i)\n",
    "    return alist\n",
    "\n",
    "def no_modify_f(onelist):\n",
    "    y = 5                              #y is the previous x\n",
    "    retlist = [i for i in onelist]\n",
    "    for i in range(y):\n",
    "        retlist.append(i)\n",
    "    return retlist\n",
    "\n",
    "alist = [1,2,3]\n",
    "ans = f(alist)\n",
    "print (ans)\n",
    "print (alist) # alist has been changed!\n",
    "\n",
    "onelist = [1,2,3]\n",
    "newans = no_modify_f(onelist)\n",
    "print(newans)\n",
    "print(onelist)"
   ]
  },
  {
   "cell_type": "markdown",
   "metadata": {},
   "source": [
    "3\\. Write a `decorator` hello that makes every wrapped function print “Hello!”, i.e. something like:\n",
    "\n",
    "```python\n",
    "@hello\n",
    "def square(x):\n",
    "    return x*x\n",
    "```\n",
    "\n"
   ]
  },
  {
   "cell_type": "code",
   "execution_count": 17,
   "metadata": {},
   "outputs": [
    {
     "name": "stdout",
     "output_type": "stream",
     "text": [
      "Hello!\n",
      "36\n"
     ]
    }
   ],
   "source": [
    "def hello(func):\n",
    "    def wrapper(arg):\n",
    "        print(\"Hello!\")\n",
    "        return(func(arg))\n",
    "    return wrapper\n",
    "\n",
    "@hello\n",
    "def square(x):\n",
    "    return x*x\n",
    "\n",
    "print(square(6))"
   ]
  },
  {
   "cell_type": "markdown",
   "metadata": {},
   "source": [
    "4\\. Write the factorial function so that it a) does and b) does not use recursion."
   ]
  },
  {
   "cell_type": "code",
   "execution_count": 25,
   "metadata": {},
   "outputs": [
    {
     "name": "stdout",
     "output_type": "stream",
     "text": [
      "120\n",
      "120\n"
     ]
    }
   ],
   "source": [
    "def rec_factorial(x):\n",
    "    if x==1: return 1\n",
    "    return x*rec_factorial(x-1)\n",
    "\n",
    "def it_factorial(x):\n",
    "    y = 1\n",
    "    while x>1:\n",
    "        y*=x\n",
    "        x-=1\n",
    "    return y\n",
    "\n",
    "print(rec_factorial(5))\n",
    "print(it_factorial(5))"
   ]
  },
  {
   "cell_type": "markdown",
   "metadata": {},
   "source": [
    "5\\. Use HOFs (zip in particular) to compute the weight of a circle, a disk and a sphere, assuming different radii and different densities:\n",
    "\n",
    "```python\n",
    "densities = {\"Al\":[0.5,1,2],\"Fe\":[3,4,5],\"Pb\": [15,20,30]}\n",
    "radii = [1,2,3]\n",
    "```\n",
    "\n",
    "where the entries of the dictionary's values are the linear, superficial and volumetric densities of the materials respectively.\n",
    "\n",
    "In particular define a list of three lambda functions using a comprehension that computes the circumference, the area and the volume for a given radius.\n"
   ]
  },
  {
   "cell_type": "code",
   "execution_count": 1,
   "metadata": {},
   "outputs": [
    {
     "name": "stdout",
     "output_type": "stream",
     "text": [
      "Weight of Al metal with radio 1 is 3.141592653589793\n",
      "Weight of Al metal with radio 1 is 3.141592653589793\n",
      "Weight of Al metal with radio 1 is 8.377580409572781\n",
      "Weight of Al metal with radio 2 is 6.283185307179586\n",
      "Weight of Al metal with radio 2 is 12.566370614359172\n",
      "Weight of Al metal with radio 2 is 67.02064327658225\n",
      "Weight of Al metal with radio 3 is 9.42477796076938\n",
      "Weight of Al metal with radio 3 is 28.274333882308138\n",
      "Weight of Al metal with radio 3 is 226.19467105846508\n",
      "Weight of Fe metal with radio 1 is 18.84955592153876\n",
      "Weight of Fe metal with radio 1 is 12.566370614359172\n",
      "Weight of Fe metal with radio 1 is 20.94395102393195\n",
      "Weight of Fe metal with radio 2 is 37.69911184307752\n",
      "Weight of Fe metal with radio 2 is 50.26548245743669\n",
      "Weight of Fe metal with radio 2 is 167.5516081914556\n",
      "Weight of Fe metal with radio 3 is 56.548667764616276\n",
      "Weight of Fe metal with radio 3 is 113.09733552923255\n",
      "Weight of Fe metal with radio 3 is 565.4866776461627\n",
      "Weight of Pb metal with radio 1 is 94.24777960769379\n",
      "Weight of Pb metal with radio 1 is 62.83185307179586\n",
      "Weight of Pb metal with radio 1 is 125.66370614359171\n",
      "Weight of Pb metal with radio 2 is 188.49555921538757\n",
      "Weight of Pb metal with radio 2 is 251.32741228718345\n",
      "Weight of Pb metal with radio 2 is 1005.3096491487337\n",
      "Weight of Pb metal with radio 3 is 282.7433388230814\n",
      "Weight of Pb metal with radio 3 is 565.4866776461628\n",
      "Weight of Pb metal with radio 3 is 3392.920065876976\n"
     ]
    }
   ],
   "source": [
    "from math import pi\n",
    "\n",
    "densities = {\"Al\":[0.5,1,2],\"Fe\":[3,4,5],\"Pb\": [15,20,30]}\n",
    "radii = [1,2,3]\n",
    "\n",
    "circumference = lambda x:2*x*pi\n",
    "area = lambda x:pi*x**2\n",
    "volume = lambda x:(4/3)*pi*x**3\n",
    "dim_list = [(circumference(x),area(x),volume(x)) for x in radii]\n",
    "#print(dim_list)\n",
    "\n",
    "for y in sorted(densities):\n",
    "    for x in range(3):\n",
    "        for i,j in zip(dim_list[x],densities[y]):\n",
    "            print(\"Weight of\", y ,\"metal with radio\", radii[x],\"is\", i*j)"
   ]
  },
  {
   "cell_type": "markdown",
   "metadata": {},
   "source": [
    "6\\. Edit the class defintion to add an instance attribute of is_hungry = True to the Dog class. Then add a method called eat() which changes the value of is_hungry to False when called. Figure out the best way to feed each dog and then output “My dogs are hungry.” if all are hungry or “My dogs are not hungry.” if all are not hungry. The final output should look like this:\n",
    "\n",
    "`I have 3 dogs. \n",
    "Tom is 6. \n",
    "Fletcher is 7. \n",
    "Larry is 9. \n",
    "And they're all mammals, of course. \n",
    "My dogs are not hungry.\n",
    "`\n",
    "\n",
    "```python\n",
    "# Parent class\n",
    "class Dog:\n",
    "\n",
    "    # Class attribute\n",
    "    species = 'mammal'\n",
    "\n",
    "    # Initializer / Instance attributes\n",
    "    def __init__(self, name, age):\n",
    "        self.name = name\n",
    "        self.age = age\n",
    "\n",
    "    # instance method\n",
    "    def description(self):\n",
    "        return \"{} is {} years old\".format(self.name, self.age)\n",
    "\n",
    "    # instance method\n",
    "    def speak(self, sound):\n",
    "        return \"{} says {}\".format(self.name, sound)\n",
    "\n",
    "# Child class (inherits from Dog class)\n",
    "class RussellTerrier(Dog):\n",
    "    def run(self, speed):\n",
    "        return \"{} runs {}\".format(self.name, speed)\n",
    "\n",
    "# Child class (inherits from Dog class)\n",
    "class Bulldog(Dog):\n",
    "    def run(self, speed):\n",
    "        return \"{} runs {}\".format(self.name, speed)\n",
    "```"
   ]
  },
  {
   "cell_type": "code",
   "execution_count": 82,
   "metadata": {
    "scrolled": true
   },
   "outputs": [
    {
     "name": "stdout",
     "output_type": "stream",
     "text": [
      "I have 3 dogs.\n",
      "Tom is 6 years old.\n",
      "Fletcher is 7 years old.\n",
      "Larry is 9 years old.\n",
      "And they are all mammal , of course.\n",
      "My dogs are not hungry\n"
     ]
    }
   ],
   "source": [
    "# Parent class\n",
    "class Dog:\n",
    "\n",
    "    # Class attribute\n",
    "    species = 'mammal'\n",
    "\n",
    "    # Initializer / Instance attributes\n",
    "    def __init__(self, name, age, is_hungry = True):\n",
    "        self.name = name\n",
    "        self.age = age\n",
    "        self.is_hungry = is_hungry\n",
    "\n",
    "    # instance method\n",
    "    def description(self):\n",
    "        return \"{} is {} years old\".format(self.name, self.age)\n",
    "\n",
    "    # instance method\n",
    "    def speak(self, sound):\n",
    "        return \"{} says {}\".format(self.name, sound)\n",
    "    \n",
    "    def eat(self):\n",
    "        self.is_hungry = False\n",
    "\n",
    "# Child class (inherits from Dog class)\n",
    "class RussellTerrier(Dog):\n",
    "    def run(self, speed):\n",
    "        return \"{} runs {}\".format(self.name, speed)\n",
    "\n",
    "# Child class (inherits from Dog class)\n",
    "class Bulldog(Dog):\n",
    "    def run(self, speed):\n",
    "        return \"{} runs {}\".format(self.name, speed)\n",
    "\n",
    "\n",
    "doggo_list = [RussellTerrier(\"Tom\",6,False),Bulldog(\"Fletcher\",7),RussellTerrier(\"Larry\",9)]\n",
    "        \n",
    "print(\"I have %d dogs.\"%(len(doggo_list)))\n",
    "for i in doggo_list:\n",
    "    print(i.description() + \".\")\n",
    "    \n",
    "print(\"And they are all\", doggo_list[1].species,\", of course.\")\n",
    "\n",
    "for doggo in doggo_list:\n",
    "    if doggo.is_hungry:\n",
    "        doggo.eat()\n",
    "\n",
    "hungry_doggies = list(filter(lambda x: x.is_hungry,doggo_list))\n",
    "\n",
    "if len(hungry_doggies)==0:\n",
    "    print(\"My dogs are not hungry.\")\n",
    "elif (len(hungry_doggies)==len(doggo_list)):\n",
    "    print(\"My dogs are all hungry.\")"
   ]
  },
  {
   "cell_type": "code",
   "execution_count": null,
   "metadata": {},
   "outputs": [],
   "source": []
  }
 ],
 "metadata": {
  "kernelspec": {
   "display_name": "Python 3",
   "language": "python",
   "name": "python3"
  },
  "language_info": {
   "codemirror_mode": {
    "name": "ipython",
    "version": 3
   },
   "file_extension": ".py",
   "mimetype": "text/x-python",
   "name": "python",
   "nbconvert_exporter": "python",
   "pygments_lexer": "ipython3",
   "version": "3.5.4"
  }
 },
 "nbformat": 4,
 "nbformat_minor": 2
}
