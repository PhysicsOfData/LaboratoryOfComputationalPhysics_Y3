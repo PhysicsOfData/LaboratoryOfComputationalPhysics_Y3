{
 "cells": [
  {
   "cell_type": "markdown",
   "metadata": {},
   "source": [
    "1\\. Write the following as a list comprehension"
   ]
  },
  {
   "cell_type": "code",
   "execution_count": 2,
   "metadata": {},
   "outputs": [
    {
     "name": "stdout",
     "output_type": "stream",
     "text": [
      "[(0, 0), (0, 1), (0, 2), (0, 3), (1, 0), (1, 1), (1, 2), (1, 3), (2, 0), (2, 1), (2, 2), (2, 3)]\n",
      "[0, 4, 16]\n"
     ]
    }
   ],
   "source": [
    "# 1\n",
    "ans = []\n",
    "for i in range(3):\n",
    "    for j in range(4):\n",
    "        ans.append((i, j))\n",
    "print (ans)\n",
    "\n",
    "# 2\n",
    "ans = map(lambda x: x*x, filter(lambda x: x%2 == 0, range(5)))\n",
    "print (list(ans))\n",
    "\n"
   ]
  },
  {
   "cell_type": "code",
   "execution_count": 1,
   "metadata": {},
   "outputs": [
    {
     "name": "stdout",
     "output_type": "stream",
     "text": [
      "[(0, 0), (0, 1), (0, 2), (0, 3), (1, 0), (1, 1), (1, 2), (1, 3), (2, 0), (2, 1), (2, 2), (2, 3)]\n",
      "[0, 4, 16]\n"
     ]
    }
   ],
   "source": [
    "#1\n",
    "ans = [(i, j) for i in range(3) for j in range(4)]\n",
    "print(ans)\n",
    "\n",
    "#2\n",
    "ans = [n**2 for n in range(5) if n%2 == 0]\n",
    "print(ans)\n"
   ]
  },
  {
   "cell_type": "markdown",
   "metadata": {},
   "source": [
    "2\\. Convert the following function into a pure function with no global variables or side effects"
   ]
  },
  {
   "cell_type": "code",
   "execution_count": null,
   "metadata": {},
   "outputs": [],
   "source": [
    "x = 5\n",
    "def f(alist):\n",
    "    for i in range(x):\n",
    "         alist.append(i)\n",
    "    return alist\n",
    "\n",
    "alist = [1,2,3]\n",
    "ans = f(alist)\n",
    "print (ans)\n",
    "print (alist) # alist has been changed!"
   ]
  },
  {
   "cell_type": "code",
   "execution_count": 3,
   "metadata": {},
   "outputs": [
    {
     "name": "stdout",
     "output_type": "stream",
     "text": [
      "[1, 2, 3, 0, 1, 2, 3, 4]\n",
      "[1, 2, 3]\n"
     ]
    }
   ],
   "source": [
    "def f(alist):\n",
    "    new_alist = list.copy(alist)\n",
    "    for i in range(5):\n",
    "        new_alist.append(i)\n",
    "    return new_alist\n",
    "\n",
    "alist = [1,2,3]\n",
    "ans = f(alist)\n",
    "print (ans)\n",
    "print (alist)"
   ]
  },
  {
   "cell_type": "markdown",
   "metadata": {},
   "source": [
    "3\\. Write a `decorator` hello that makes every wrapped function print “Hello!”, i.e. something like:\n",
    "\n",
    "```python\n",
    "@hello\n",
    "def square(x):\n",
    "    return x*x\n",
    "```\n",
    "\n"
   ]
  },
  {
   "cell_type": "code",
   "execution_count": 14,
   "metadata": {},
   "outputs": [],
   "source": [
    "def hello(func):\n",
    "    def wrapper(x):\n",
    "        print(\"Hello!\")\n",
    "        func(x)\n",
    "    return wrapper\n",
    "\n",
    "@hello\n",
    "def square(x):\n",
    "    print(x*x)\n"
   ]
  },
  {
   "cell_type": "code",
   "execution_count": 15,
   "metadata": {},
   "outputs": [
    {
     "name": "stdout",
     "output_type": "stream",
     "text": [
      "Hello!\n",
      "25\n"
     ]
    }
   ],
   "source": [
    "square(5)"
   ]
  },
  {
   "cell_type": "markdown",
   "metadata": {},
   "source": [
    "4\\. Write the factorial function so that it a) does and b) does not use recursion."
   ]
  },
  {
   "cell_type": "code",
   "execution_count": 23,
   "metadata": {},
   "outputs": [
    {
     "name": "stdout",
     "output_type": "stream",
     "text": [
      "5.68 µs ± 1.92 µs per loop (mean ± std. dev. of 7 runs, 100000 loops each)\n"
     ]
    }
   ],
   "source": [
    "# recursive\n",
    "def fact(x):\n",
    "    if x == 0 or x == 1:\n",
    "        return 1\n",
    "    else:\n",
    "        return x*fact(x-1)\n",
    "\n",
    "fact(5)\n",
    "\n",
    "%timeit fact(20)"
   ]
  },
  {
   "cell_type": "code",
   "execution_count": 22,
   "metadata": {},
   "outputs": [
    {
     "name": "stdout",
     "output_type": "stream",
     "text": [
      "2.02 µs ± 162 ns per loop (mean ± std. dev. of 7 runs, 100000 loops each)\n"
     ]
    }
   ],
   "source": [
    "#non recursive\n",
    "def fact1(x):\n",
    "    f = 1\n",
    "    if x == 0 or x == 1:\n",
    "        return 1\n",
    "    else:\n",
    "        for i in range(2, x+1):\n",
    "            f *=  i \n",
    "    return f\n",
    "fact1(5)\n",
    "\n",
    "%timeit fact1(20)"
   ]
  },
  {
   "cell_type": "markdown",
   "metadata": {},
   "source": [
    "5\\. Use HOFs (zip in particular) to compute the weight of a circle, a disk and a sphere, assuming different radii and different densities:\n",
    "\n",
    "```python\n",
    "densities = {\"Al\":[0.5,1,2],\"Fe\":[3,4,5],\"Pb\": [15,20,30]}\n",
    "radii = [1,2,3]\n",
    "```\n",
    "\n",
    "where the entries of the dictionary's values are the linear, superficial and volumetric densities of the materials respectively.\n",
    "\n",
    "In particular define a list of three lambda functions using a comprehension that computes the circumference, the area and the volume for a given radius.\n"
   ]
  },
  {
   "cell_type": "code",
   "execution_count": 65,
   "metadata": {},
   "outputs": [
    {
     "name": "stdout",
     "output_type": "stream",
     "text": [
      "circle {'Al': 0.5, 'Fe': 3, 'Pb': 15}\n",
      "r = 1 [3.141592653589793, 18.84955592153876, 94.24777960769379]\n",
      "r = 2 [6.283185307179586, 37.69911184307752, 188.49555921538757]\n",
      "r = 3 [9.42477796076938, 56.548667764616276, 282.7433388230814]\n",
      "disk {'Al': 1, 'Fe': 4, 'Pb': 20}\n",
      "r = 1 [3.141592653589793, 12.566370614359172, 62.83185307179586]\n",
      "r = 2 [12.566370614359172, 50.26548245743669, 251.32741228718345]\n",
      "r = 3 [28.274333882308138, 113.09733552923255, 565.4866776461628]\n",
      "sphere {'Al': 2, 'Fe': 5, 'Pb': 30}\n",
      "r = 1 [8.377580409572781, 20.94395102393195, 125.66370614359171]\n",
      "r = 2 [67.02064327658225, 167.5516081914556, 1005.3096491487337]\n",
      "r = 3 [226.1946710584651, 565.4866776461628, 3392.9200658769764]\n"
     ]
    }
   ],
   "source": [
    "import math\n",
    "\n",
    "lambdas = [lambda r: 2*math.pi*r, lambda r: math.pi*r**2, lambda r:(4*math.pi*r**3)/3]\n",
    "\n",
    "densities = {\"Al\":[0.5,1,2],\"Fe\":[3,4,5],\"Pb\": [15,20,30]}\n",
    "radii = [1,2,3]\n",
    "\n",
    "\n",
    "\n",
    "for i, d_Al, d_Fe, d_Pb in zip(range(0,len(lam)), densities[\"Al\"], densities[\"Fe\"], densities[\"Pb\"]):\n",
    "        if i == 0: dens_type = \"circle\"\n",
    "        elif i == 1: dens_type = \"disk\"\n",
    "        elif i == 2: dens_type = \"sphere\"\n",
    "        dens = {\"Al\": d_Al, \"Fe\": d_Fe, \"Pb\": d_Pb}\n",
    "        print(dens_type, dens)\n",
    "        for r in radii:\n",
    "            w = [lambdas[i](r)*d for d in dens.values()]\n",
    "            print(\"r =\", r, w)\n"
   ]
  },
  {
   "cell_type": "markdown",
   "metadata": {},
   "source": [
    "6\\. Edit the class defintion to add an instance attribute of is_hungry = True to the Dog class. Then add a method called eat() which changes the value of is_hungry to False when called. Figure out the best way to feed each dog and then output “My dogs are hungry.” if all are hungry or “My dogs are not hungry.” if all are not hungry. The final output should look like this:\n",
    "\n",
    "`I have 3 dogs. \n",
    "Tom is 6. \n",
    "Fletcher is 7. \n",
    "Larry is 9. \n",
    "And they're all mammals, of course. \n",
    "My dogs are not hungry.\n",
    "`\n",
    "\n",
    "```python\n",
    "# Parent class\n",
    "class Dog:\n",
    "\n",
    "    # Class attribute\n",
    "    species = 'mammal'\n",
    "\n",
    "    # Initializer / Instance attributes\n",
    "    def __init__(self, name, age):\n",
    "        self.name = name\n",
    "        self.age = age\n",
    "\n",
    "    # instance method\n",
    "    def description(self):\n",
    "        return \"{} is {} years old\".format(self.name, self.age)\n",
    "\n",
    "    # instance method\n",
    "    def speak(self, sound):\n",
    "        return \"{} says {}\".format(self.name, sound)\n",
    "\n",
    "# Child class (inherits from Dog class)\n",
    "class RussellTerrier(Dog):\n",
    "    def run(self, speed):\n",
    "        return \"{} runs {}\".format(self.name, speed)\n",
    "\n",
    "# Child class (inherits from Dog class)\n",
    "class Bulldog(Dog):\n",
    "    def run(self, speed):\n",
    "        return \"{} runs {}\".format(self.name, speed)\n",
    "```"
   ]
  },
  {
   "cell_type": "code",
   "execution_count": 2,
   "metadata": {},
   "outputs": [],
   "source": [
    "# Parent class\n",
    "class Dog:\n",
    "\n",
    "    # Class attribute\n",
    "    species = 'mammal'\n",
    "    is_hungry = True\n",
    "\n",
    "    # Initializer / Instance attributes\n",
    "    def __init__(self, name, age):\n",
    "        self.name = name\n",
    "        self.age = age\n",
    "        \n",
    "\n",
    "    # instance method\n",
    "    def description(self):\n",
    "        return \"{} is {} years old\".format(self.name, self.age)\n",
    "\n",
    "    # instance method\n",
    "    def speak(self, sound):\n",
    "        return \"{} says {}\".format(self.name, sound)\n",
    "    \n",
    "    #istance method\n",
    "    def eat(self):\n",
    "        self.is_hungry = False\n",
    "        return\n",
    "\n",
    "# Child class (inherits from Dog class)\n",
    "class RussellTerrier(Dog):\n",
    "    def run(self, speed):\n",
    "        return \"{} runs {}\".format(self.name, speed)\n",
    "\n",
    "# Child class (inherits from Dog class)\n",
    "class Bulldog(Dog):\n",
    "    def run(self, speed):\n",
    "        return \"{} runs {}\".format(self.name, speed)"
   ]
  },
  {
   "cell_type": "code",
   "execution_count": 3,
   "metadata": {},
   "outputs": [
    {
     "name": "stdout",
     "output_type": "stream",
     "text": [
      "How many dogs do you have?\n",
      "2\n",
      "Enter the name:\n",
      "Dana\n",
      "Enter the age\n",
      "3\n",
      "Do you want to feed this dog?\n",
      "yes\n",
      "Enter the name:\n",
      "Ciak\n",
      "Enter the age\n",
      "3\n",
      "Do you want to feed this dog?\n",
      "yes\n",
      "\n",
      "I have 2 dogs\n",
      "Dana is 3 years old\n",
      "Ciak is 3 years old\n",
      "And they're all mammal , of course\n",
      "My dogs are not hungry\n"
     ]
    }
   ],
   "source": [
    "n = input(\"How many dogs do you have?\\n\")\n",
    "\n",
    "\n",
    "dogs = []\n",
    "\n",
    "hungry = [] #a list where each element says if the corresponding dog is hungry or not\n",
    "for i in range(1,int(n)+1):\n",
    "    name = input(\"Enter the name:\\n\")\n",
    "    age = input(\"Enter the age\\n\")\n",
    "    dog_i = Dog(name, int(age))\n",
    "    dogs.append(dog_i)\n",
    "    #feed the dogs\n",
    "    feed = input(\"Do you want to feed this dog?\\n\")\n",
    "    if feed == \"yes\":\n",
    "        dog_i.eat()\n",
    "        hungry.append(dog_i.is_hungry)\n",
    "    elif feed == \"no\":\n",
    "        hungry.append(dog_i.is_hungry)\n",
    "\n",
    "print(\"\\nI have\", n, \"dogs\")\n",
    "\n",
    "for i in dogs:                  #print description for each dog\n",
    "    print(i.description())\n",
    "    \n",
    "\n",
    "print(\"And they're all\", dogs[0].species,\", of course\")\n",
    "if all(j == False for j in hungry):\n",
    "    print(\"My dogs are not hungry\")\n",
    "elif all(j == True for j in hungry):\n",
    "    print(\"My dogs are hungry\")\n",
    "    "
   ]
  }
 ],
 "metadata": {
  "kernelspec": {
   "display_name": "Python 3",
   "language": "python",
   "name": "python3"
  },
  "language_info": {
   "codemirror_mode": {
    "name": "ipython",
    "version": 3
   },
   "file_extension": ".py",
   "mimetype": "text/x-python",
   "name": "python",
   "nbconvert_exporter": "python",
   "pygments_lexer": "ipython3",

   "version": "3.8.3"

  }
 },
 "nbformat": 4,
 "nbformat_minor": 2
}
