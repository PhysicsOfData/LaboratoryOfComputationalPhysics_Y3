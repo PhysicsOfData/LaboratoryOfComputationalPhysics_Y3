{
 "cells": [
  {
   "cell_type": "markdown",
   "metadata": {},
   "source": [
    "1\\. Write the following as a list comprehension"
   ]
  },
  {
   "cell_type": "code",
   "execution_count": 3,
   "metadata": {},
   "outputs": [
    {
     "name": "stdout",
     "output_type": "stream",
     "text": [
      "[(0, 0), (0, 1), (0, 2), (0, 3), (1, 0), (1, 1), (1, 2), (1, 3), (2, 0), (2, 1), (2, 2), (2, 3)]\n",
      "[(0, 0), (0, 1), (0, 2), (0, 3), (1, 0), (1, 1), (1, 2), (1, 3), (2, 0), (2, 1), (2, 2), (2, 3)]\n",
      "[0, 4, 16]\n",
      "[0, 4, 16]\n"
     ]
    }
   ],
   "source": [
    "# 1: original\n",
    "ans = []\n",
    "for i in range(3):\n",
    "    for j in range(4):\n",
    "        ans.append((i, j))\n",
    "print (ans)\n",
    "# 1: comprehension\n",
    "ans1=[(i,j) for i in range(3) for j in range(4)]\n",
    "print(ans1)\n",
    "\n",
    "# 2: original\n",
    "ans = map(lambda x: x*x, filter(lambda x: x%2 == 0, range(5)))\n",
    "print (list(ans))\n",
    "\n",
    "# 2: list comprehension\n",
    "ans2=[x*x for x in range(5) if x%2==0]\n",
    "print(ans2)\n"
   ]
  },
  {
   "cell_type": "markdown",
   "metadata": {},
   "source": [
    "2\\. Convert the following function into a pure function with no global variables or side effects"
   ]
  },
  {
   "cell_type": "code",
   "execution_count": 14,
   "metadata": {},
   "outputs": [
    {
     "name": "stdout",
     "output_type": "stream",
     "text": [
      "[1, 2, 3, 0, 1, 2, 3, 4]\n",
      "[1, 2, 3]\n"
     ]
    }
   ],
   "source": [
    "x = 5\n",
    "#original\n",
    "def f(alist):\n",
    "    for i in range(x):\n",
    "         alist.append(i)\n",
    "    return alist\n",
    "\n",
    "#pure function\n",
    "def fpure(alist):\n",
    "    temp=[i for i in range(x)]\n",
    "    alist=alist+temp #the assignment operator creates a copy of the list, so we don't modify the original object\n",
    "    return alist\n",
    "    \n",
    "alist = [1,2,3]\n",
    "#ans = f(alist)\n",
    "#print (ans)\n",
    "ans1=fpure(alist)\n",
    "print(ans1)\n",
    "print (alist) # alist has not been changed!"
   ]
  },
  {
   "cell_type": "markdown",
   "metadata": {},
   "source": [
    "3\\. Write a `decorator` hello that makes every wrapped function print “Hello!”, i.e. something like:\n",
    "\n",
    "```python\n",
    "@hello\n",
    "def square(x):\n",
    "    return x*x\n",
    "```\n",
    "\n"
   ]
  },
  {
   "cell_type": "code",
   "execution_count": 24,
   "metadata": {},
   "outputs": [
    {
     "name": "stdout",
     "output_type": "stream",
     "text": [
      "Hello there!\n",
      "General Kenobi!\n"
     ]
    }
   ],
   "source": [
    "def hello(func):\n",
    "    def wrapper(x):\n",
    "        print(\"Hello there!\")\n",
    "        func(x)\n",
    "        print(\"General Kenobi!\")\n",
    "    return wrapper\n",
    "\n",
    "@hello\n",
    "def square(x):\n",
    "    return x*x\n",
    "\n",
    "x=2\n",
    "square(2)"
   ]
  },
  {
   "cell_type": "markdown",
   "metadata": {},
   "source": [
    "4\\. Write the factorial function so that it a) does and b) does not use recursion."
   ]
  },
  {
   "cell_type": "code",
   "execution_count": 8,
   "metadata": {},
   "outputs": [
    {
     "name": "stdout",
     "output_type": "stream",
     "text": [
      "6\n",
      "6\n"
     ]
    }
   ],
   "source": [
    "def recur_factorial(x):\n",
    "    if x==1 or x==0:\n",
    "        return 1\n",
    "    else:\n",
    "        return x*recur_factorial(x-1)\n",
    "    \n",
    "\n",
    "#not recursive            \n",
    "def factorial(x):\n",
    "    prod=1\n",
    "    if x<0 :\n",
    "        print(\"x is negative, returning x\")\n",
    "        return x\n",
    "    if not x%1==0:\n",
    "        print(\"x is not integer, returning x\")\n",
    "        return x\n",
    "    if x==0 :\n",
    "        return 1\n",
    "    while x>0:\n",
    "        prod*=x\n",
    "        x=x-1\n",
    "    return prod\n",
    "\n",
    "print(factorial(3))\n",
    "print(recur_factorial(3))"
   ]
  },
  {
   "cell_type": "markdown",
   "metadata": {},
   "source": [
    "5\\. Use HOFs (zip in particular) to compute the weight of a circle, a disk and a sphere, assuming different radii and different densities:\n",
    "\n",
    "```python\n",
    "densities = {\"Al\":[0.5,1,2],\"Fe\":[3,4,5],\"Pb\": [15,20,30]}\n",
    "radii = [1,2,3]\n",
    "```\n",
    "\n",
    "where the entries of the dictionary's values are the linear, superficial and volumetric densities of the materials respectively.\n",
    "\n",
    "In particular define a list of three lambda functions using a comprehension that computes the circumference, the area and the volume for a given radius.\n"
   ]
  },
  {
   "cell_type": "code",
   "execution_count": 12,
   "metadata": {},
   "outputs": [
    {
     "name": "stdout",
     "output_type": "stream",
     "text": [
      "Al 3.141592653589793\n",
      "Al 6.283185307179586\n",
      "Al 9.42477796076938\n",
      "Al 3.141592653589793\n",
      "Al 12.566370614359172\n",
      "Al 28.274333882308138\n",
      "Al 8.377580409572781\n",
      "Al 67.02064327658225\n",
      "Al 226.1946710584651\n",
      "Fe 18.84955592153876\n",
      "Fe 37.69911184307752\n",
      "Fe 56.548667764616276\n",
      "Fe 12.566370614359172\n",
      "Fe 50.26548245743669\n",
      "Fe 113.09733552923255\n",
      "Fe 20.94395102393195\n",
      "Fe 167.5516081914556\n",
      "Fe 565.4866776461628\n",
      "Pb 94.24777960769379\n",
      "Pb 188.49555921538757\n",
      "Pb 282.7433388230814\n",
      "Pb 62.83185307179586\n",
      "Pb 251.32741228718345\n",
      "Pb 565.4866776461628\n",
      "Pb 125.66370614359171\n",
      "Pb 1005.3096491487337\n",
      "Pb 3392.9200658769764\n"
     ]
    }
   ],
   "source": [
    "import math as m\n",
    "densities = {\"Al\":[0.5,1,2],\"Fe\":[3,4,5],\"Pb\": [15,20,30]}\n",
    "radii = [1,2,3]\n",
    "\n",
    "funct=[lambda x: m.pi*2*x,lambda x: m.pi*x*x,lambda x: m.pi*x*x*x*4/3]\n",
    "for key in densities:\n",
    "    for x,y in zip(densities[key],funct):\n",
    "        for j in radii:\n",
    "            print(key,x*y(j))"
   ]
  },
  {
   "cell_type": "markdown",
   "metadata": {},
   "source": [
    "6\\. Edit the class defintion to add an instance attribute of is_hungry = True to the Dog class. Then add a method called eat() which changes the value of is_hungry to False when called. Figure out the best way to feed each dog and then output “My dogs are hungry.” if all are hungry or “My dogs are not hungry.” if all are not hungry. The final output should look like this:\n",
    "\n",
    "`I have 3 dogs. \n",
    "Tom is 6. \n",
    "Fletcher is 7. \n",
    "Larry is 9. \n",
    "And they're all mammals, of course. \n",
    "My dogs are not hungry.\n",
    "`\n",
    "\n",
    "```python\n",
    "# Parent class\n",
    "class Dog:\n",
    "\n",
    "    # Class attribute\n",
    "    species = 'mammal'\n",
    "\n",
    "    # Initializer / Instance attributes\n",
    "    def __init__(self, name, age):\n",
    "        self.name = name\n",
    "        self.age = age\n",
    "\n",
    "    # instance method\n",
    "    def description(self):\n",
    "        return \"{} is {} years old\".format(self.name, self.age)\n",
    "\n",
    "    # instance method\n",
    "    def speak(self, sound):\n",
    "        return \"{} says {}\".format(self.name, sound)\n",
    "\n",
    "# Child class (inherits from Dog class)\n",
    "class RussellTerrier(Dog):\n",
    "    def run(self, speed):\n",
    "        return \"{} runs {}\".format(self.name, speed)\n",
    "\n",
    "# Child class (inherits from Dog class)\n",
    "class Bulldog(Dog):\n",
    "    def run(self, speed):\n",
    "        return \"{} runs {}\".format(self.name, speed)\n",
    "```"
   ]
  },
  {
   "cell_type": "code",
   "execution_count": 39,
   "metadata": {},
   "outputs": [
    {
     "name": "stdout",
     "output_type": "stream",
     "text": [
      "I have 2 dogs.\n",
      "Fido is 3 years old.\n",
      "Lola is 4 years old.\n",
      "My dogs are hungry.\n",
      "My dogs are not hungry.\n"
     ]
    }
   ],
   "source": [
    "# Parent class, I cut some of the parts not needed in the initial class definition\n",
    "class Dog:\n",
    "\n",
    "    # Class attribute\n",
    "    species = 'mammal'\n",
    "\n",
    "    # Initializer / Instance attributes\n",
    "    def __init__(self, name, age):\n",
    "        self.name = name\n",
    "        self.age = age\n",
    "        self.is_hungry=True\n",
    "\n",
    "    def eat(self):\n",
    "        self.is_hungry=False\n",
    "    \n",
    "    # instance method\n",
    "    def description(self):\n",
    "        return \"{} is {} years old.\".format(self.name, self.age)\n",
    "\n",
    "Fido,Lola=Dog(\"Fido\",3),Dog(\"Lola\",4)\n",
    "My_Dogs=(Fido,Lola)\n",
    "hungry_cont,fed_cont=0,0\n",
    "print(\"I have {} dogs.\".format(len(My_Dogs)))\n",
    "for i in My_Dogs:\n",
    "    print(i.description())\n",
    "    if (i.is_hungry==True):\n",
    "        hungry_cont+=1\n",
    "    if (i.is_hungry==False):\n",
    "        fed_cont+=1\n",
    "if(len(My_Dogs)==hungry_cont):\n",
    "    print(\"My dogs are hungry.\")\n",
    "hungry_cont,fed_cont=0,0\n",
    "for i in My_Dogs:\n",
    "    if (i.is_hungry==True):\n",
    "        i.eat()\n",
    "    if (i.is_hungry==False):\n",
    "        fed_cont+=1\n",
    "if(len(My_Dogs)==fed_cont):\n",
    "    print(\"My dogs are not hungry.\")"
   ]
  },
  {
   "cell_type": "code",
   "execution_count": null,
   "metadata": {},
   "outputs": [],
   "source": []
  }
 ],
 "metadata": {
  "kernelspec": {
   "display_name": "Python 3",
   "language": "python",
   "name": "python3"
  },
  "language_info": {
   "codemirror_mode": {
    "name": "ipython",
    "version": 3
   },
   "file_extension": ".py",
   "mimetype": "text/x-python",
   "name": "python",
   "nbconvert_exporter": "python",
   "pygments_lexer": "ipython3",
   "version": "3.7.6"
  }
 },
 "nbformat": 4,
 "nbformat_minor": 2
}
