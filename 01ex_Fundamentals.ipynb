{
 "cells": [
  {
   "cell_type": "markdown",
   "metadata": {},
   "source": [
    "1\\. Write the following as a list comprehension"
   ]
  },
  {
   "cell_type": "code",
   "execution_count": 5,
   "metadata": {},
   "outputs": [
    {
     "name": "stdout",
     "output_type": "stream",
     "text": [
      "1st\n",
      "[(0, 0), (0, 1), (0, 2), (0, 3), (1, 0), (1, 1), (1, 2), (1, 3), (2, 0), (2, 1), (2, 2), (2, 3)]\n",
      "[(0, 0), (0, 1), (0, 2), (0, 3), (1, 0), (1, 1), (1, 2), (1, 3), (2, 0), (2, 1), (2, 2), (2, 3)]\n",
      "2nd\n",
      "[0, 4, 16]\n",
      "[0, 4, 16]\n"
     ]
    }
   ],
   "source": [
    "print(\"1st\")\n",
    "# 1\n",
    "ans = []\n",
    "for i in range(3):\n",
    "    for j in range(4):\n",
    "        ans.append((i, j))\n",
    "print (ans)\n",
    "\n",
    "newAns = [(i,j) for i in range(3) for j in range(4)]\n",
    "print(newAns)\n",
    "\n",
    "print(\"2nd\")\n",
    "# 2\n",
    "ans = map(lambda x: x*x, filter(lambda x: x%2 == 0, range(5)))\n",
    "print (list(ans))\n",
    "\n",
    "newAns2 = [x*x for x in range(5) if x%2 == 0]\n",
    "print(newAns2)\n"
   ]
  },
  {
   "cell_type": "markdown",
   "metadata": {},
   "source": [
    "2\\. Convert the following function into a pure function with no global variables or side effects"
   ]
  },
  {
   "cell_type": "code",
   "execution_count": 7,
   "metadata": {},
   "outputs": [
    {
     "name": "stdout",
     "output_type": "stream",
     "text": [
      "[1, 2, 3, 0, 1, 2, 3, 4]\n",
      "[1, 2, 3]\n"
     ]
    }
   ],
   "source": [
    "x = 5\n",
    "def f(x , alist):\n",
    "    res = alist.copy()\n",
    "    for i in range(x):\n",
    "         res.append(i)\n",
    "    return res\n",
    "\n",
    "alist = [1,2,3]\n",
    "ans = f(x, alist)\n",
    "print (ans)\n",
    "print (alist) # alist hasn't been changed!"
   ]
  },
  {
   "cell_type": "markdown",
   "metadata": {},
   "source": [
    "3\\. Write a `decorator` hello that makes every wrapped function print “Hello!”, i.e. something like:\n",
    "\n",
    "```python\n",
    "@hello\n",
    "def square(x):\n",
    "    return x*x\n",
    "```\n",
    "\n"
   ]
  },
  {
   "cell_type": "code",
   "execution_count": 13,
   "metadata": {},
   "outputs": [
    {
     "name": "stdout",
     "output_type": "stream",
     "text": [
      "Hello!\n",
      "16\n"
     ]
    }
   ],
   "source": [
    "def hello(func):\n",
    "    def wrapper(*args, **kwargs):\n",
    "        print(\"Hello!\")\n",
    "        res = func(*args, **kwargs)\n",
    "        return res\n",
    "    return wrapper\n",
    "\n",
    "@hello\n",
    "def square(x):\n",
    "    return x*x\n",
    "\n",
    "print(square(4))"
   ]
  },
  {
   "cell_type": "markdown",
   "metadata": {},
   "source": [
    "4\\. Write the factorial function so that it a) does and b) does not use recursion."
   ]
  },
  {
   "cell_type": "code",
   "execution_count": 15,
   "metadata": {},
   "outputs": [
    {
     "name": "stdout",
     "output_type": "stream",
     "text": [
      "24\n",
      "24\n"
     ]
    }
   ],
   "source": [
    "# a with recursion\n",
    "def factoRec(x):\n",
    "    if x <= 0:\n",
    "        return 1\n",
    "    else:\n",
    "        return x*factoRec(x-1)\n",
    "print(factoRec(4))\n",
    "\n",
    "# b without recursion\n",
    "def facto(x):\n",
    "    res = 1\n",
    "    while x > 0:\n",
    "        res = res * x\n",
    "        x -= 1\n",
    "    return res\n",
    "print(facto(4))"
   ]
  },
  {
   "cell_type": "markdown",
   "metadata": {},
   "source": [
    "5\\. Use HOFs (zip in particular) to compute the weight of a circle, a disk and a sphere, assuming different radii and different densities:\n",
    "\n",
    "```python\n",
    "densities = {\"Al\":[0.5,1,2],\"Fe\":[3,4,5],\"Pb\": [15,20,30]}\n",
    "radii = [1,2,3]\n",
    "```\n",
    "\n",
    "where the entries of the dictionary's values are the linear, superficial and volumetric densities of the materials respectively.\n",
    "\n",
    "In particular define a list of three lambda functions using a comprehension that computes the circumference, the area and the volume for a given radius.\n"
   ]
  },
  {
   "cell_type": "code",
   "execution_count": 17,
   "metadata": {},
   "outputs": [
    {
     "name": "stdout",
     "output_type": "stream",
     "text": [
      "Al\n",
      "0\n",
      "3.141592653589793\n",
      "6.283185307179586\n",
      "9.42477796076938\n",
      "Fe\n",
      "1\n",
      "12.566370614359172\n",
      "50.26548245743669\n",
      "113.09733552923255\n",
      "Pb\n",
      "2\n",
      "125.66370614359171\n",
      "1005.3096491487337\n",
      "3392.9200658769764\n"
     ]
    }
   ],
   "source": [
    "# I assumed that the unit of densities is the same for radii \n",
    "# so for a sphere w = d * volume ((4/3)*pi*(r**3))\n",
    "# for a disque : w = d * area (pi*(r**2))\n",
    "# for a circle : w = d * circumference (2*pi*r)\n",
    "\n",
    "import math as m\n",
    "\n",
    "densities = {\"Al\":[0.5,1,2],\"Fe\":[3,4,5],\"Pb\": [15,20,30]}\n",
    "radii = [1,2,3]\n",
    "\n",
    "geometricCalculus = [lambda r: 2*m.pi*r, lambda r: m.pi*(r**2), lambda r: (4 * m.pi * (r**3))/3]\n",
    "for func, dens, i in zip(geometricCalculus, densities, [0,1,2]):\n",
    "    print(dens)\n",
    "    print(i)\n",
    "    #first function is for circle, so we use the fisrt densities (i = 0)\n",
    "    #second function is for disk, so we use the second density (i = 1)\n",
    "    #third function is for sphere, so we use the third density (i = 2)\n",
    "    for r in radii:\n",
    "        #we calculate the weight for each radii\n",
    "        print(func(r) * densities[dens][i])"
   ]
  },
  {
   "cell_type": "markdown",
   "metadata": {},
   "source": [
    "6\\. Edit the class definition to add an instance attribute of is_hungry = True to the Dog class. Then add a method called eat() which changes the value of is_hungry to False when called. Figure out the best way to feed each dog and then output “My dogs are hungry.” if all are hungry or “My dogs are not hungry.” if all are not hungry. The final output should look like this:\n",
    "\n",
    "`I have 3 dogs. \n",
    "Tom is 6. \n",
    "Fletcher is 7. \n",
    "Larry is 9. \n",
    "And they're all mammals, of course. \n",
    "My dogs are not hungry.\n",
    "`\n",
    "\n",
    "```python\n",
    "# Parent class\n",
    "class Dog:\n",
    "\n",
    "    # Class attribute\n",
    "    species = 'mammal'\n",
    "\n",
    "    # Initializer / Instance attributes\n",
    "    def __init__(self, name, age):\n",
    "        self.name = name\n",
    "        self.age = age\n",
    "        self.is_hungry = True\n",
    "\n",
    "    # instance method\n",
    "    def description(self):\n",
    "        return \"{} is {} years old\".format(self.name, self.age)\n",
    "\n",
    "    # instance method\n",
    "    def speak(self, sound):\n",
    "        return \"{} says {}\".format(self.name, sound)\n",
    "    \n",
    "    # instance method\n",
    "    def eat(self):\n",
    "        self.is_hungry = False;\n",
    "\n",
    "# Child class (inherits from Dog class)\n",
    "class RussellTerrier(Dog):\n",
    "    def run(self, speed):\n",
    "        return \"{} runs {}\".format(self.name, speed)\n",
    "\n",
    "# Child class (inherits from Dog class)\n",
    "class Bulldog(Dog):\n",
    "    def run(self, speed):\n",
    "        return \"{} runs {}\".format(self.name, speed)\n",
    "```"
   ]
  },
  {
   "cell_type": "code",
   "execution_count": 12,
   "metadata": {},
   "outputs": [
    {
     "name": "stdout",
     "output_type": "stream",
     "text": [
      "I have 3 dogs.\n",
      "Tom is 6 .\n",
      "Fletcher is 7 .\n",
      "Larry is 9 .\n",
      "And they're all mammals, of course.\n",
      "My dogs are not hungry\n"
     ]
    }
   ],
   "source": [
    "##### Parent class\n",
    "class Dog:\n",
    "\n",
    "    # Class attribute\n",
    "    species = 'mammal'\n",
    "    is_hungry = True\n",
    "\n",
    "    # Initializer / Instance attributes\n",
    "    def __init__(self, name, age):\n",
    "        self.name = name\n",
    "        self.age = age\n",
    "\n",
    "    # instance method\n",
    "    def description(self):\n",
    "        return \"{} is {} .\".format(self.name, self.age)\n",
    "    \n",
    "    # instance method\n",
    "    def eat(self):\n",
    "        self.is_hungry = False;\n",
    "\n",
    "myDogs = [Dog(\"Tom\",6), Dog(\"Fletcher\",7), Dog(\"Larry\",9)]\n",
    "\n",
    "# I have 3 dogs.\n",
    "print(\"I have\",len(myDogs), \"dogs.\")\n",
    "#Tom is 6. \n",
    "#Fletcher is 7. \n",
    "#Larry is 9. \n",
    "m = True\n",
    "h = False\n",
    "for d in myDogs:\n",
    "    print(d.description())\n",
    "    m = m and (d.species == 'mammal') #verify if all are mammals\n",
    "    d.eat()\n",
    "    h = h or d.is_hungry # verify if all animals are not hungry\n",
    "#And they're all mammals, of course. \n",
    "if m:\n",
    "    print(\"And they're all mammals, of course.\")\n",
    "else:\n",
    "    print(\"And they're NOT all mammals\")\n",
    "#My dogs are not hungry.\n",
    "if not h:\n",
    "    print(\"My dogs are not hungry\")\n",
    "else:\n",
    "    print(\"At least one dog is hungry\")\n"
   ]
  },
  {
   "cell_type": "code",
   "execution_count": null,
   "metadata": {},
   "outputs": [],
   "source": []
  }
 ],
 "metadata": {
  "kernelspec": {
   "display_name": "Python 3",
   "language": "python",
   "name": "python3"
  },
  "language_info": {
   "codemirror_mode": {
    "name": "ipython",
    "version": 3
   },
   "file_extension": ".py",
   "mimetype": "text/x-python",
   "name": "python",
   "nbconvert_exporter": "python",
   "pygments_lexer": "ipython3",
   "version": "3.7.4"
  }
 },
 "nbformat": 4,
 "nbformat_minor": 2
}
