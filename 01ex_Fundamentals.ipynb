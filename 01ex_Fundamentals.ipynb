{
 "cells": [
  {
   "cell_type": "markdown",
   "metadata": {},
   "source": [
    "1\\. Write the following as a list comprehension"
   ]
  },
  {
   "cell_type": "code",
   "execution_count": 1,
   "metadata": {},
   "outputs": [
    {
     "name": "stdout",
     "output_type": "stream",
     "text": [
      "[(0, 0), (0, 1), (0, 2), (0, 3), (1, 0), (1, 1), (1, 2), (1, 3), (2, 0), (2, 1), (2, 2), (2, 3)]\n",
      "my code below:\n",
      "[(0, 0), (0, 1), (0, 2), (0, 3), (1, 0), (1, 1), (1, 2), (1, 3), (2, 0), (2, 1), (2, 2), (2, 3)]\n",
      "end of my code's result\n",
      "[0, 4, 16]\n",
      "my code below:\n",
      "[0, 4, 16]\n",
      "end of my code's result\n"
     ]
    }
   ],
   "source": [
    "# 1\n",
    "ans = []\n",
    "for i in range(3):\n",
    "    for j in range(4):\n",
    "        ans.append((i, j))\n",
    "print (ans)\n",
    "### MY CODE BELOW\n",
    "print('my code below:')\n",
    "my_ans=[(x,y) for x in range(3) for y in range(4)]\n",
    "print(my_ans)\n",
    "print('end of my code\\'s result')\n",
    "### END\n",
    "\n",
    "# 2\n",
    "ans = map(lambda x: x*x, filter(lambda x: x%2 == 0, range(5)))\n",
    "print (list(ans))\n",
    "\n",
    "### MY CODE BELOW\n",
    "print('my code below:')\n",
    "\n",
    "my_ans=[x*x for x in range(5) if x%2==0]\n",
    "print(my_ans)\n",
    "print('end of my code\\'s result')\n",
    "\n",
    "###END"
   ]
  },
  {
   "cell_type": "markdown",
   "metadata": {},
   "source": [
    "2\\. Convert the following function into a pure function with no global variables or side effects"
   ]
  },
  {
   "cell_type": "code",
   "execution_count": 2,
   "metadata": {},
   "outputs": [
    {
     "name": "stdout",
     "output_type": "stream",
     "text": [
      "[1, 2, 3, 0, 1, 2, 3, 4]\n",
      "[1, 2, 3, 0, 1, 2, 3, 4]\n",
      "my code below:\n",
      "[1, 2, 3, 0, 1, 2, 3, 4]\n",
      "[1, 2, 3]\n",
      "end of my code's result\n"
     ]
    }
   ],
   "source": [
    "x = 5\n",
    "def f(alist):\n",
    "    for i in range(x):\n",
    "         alist.append(i)\n",
    "    return alist\n",
    "\n",
    "alist = [1,2,3]\n",
    "ans = f(alist)\n",
    "print (ans)\n",
    "print (alist) # alist has been changed!\n",
    "\n",
    "\n",
    "\n",
    "print('my code below:')\n",
    "def my_f(alist,x):\n",
    "    newlist=[alist[i] for i in range(len(alist))]\n",
    "    for i in range(x):\n",
    "        newlist.append(i)\n",
    "    return newlist\n",
    "\n",
    "list1=[1,2,3]\n",
    "list2=my_f(list1,5)\n",
    "print(list2)\n",
    "print(list1)\n",
    "print('end of my code\\'s result')"
   ]
  },
  {
   "cell_type": "markdown",
   "metadata": {},
   "source": [
    "3\\. Write a `decorator` hello that makes every wrapped function print “Hello!”, i.e. something like:\n",
    "\n",
    "```python\n",
    "@hello\n",
    "def square(x):\n",
    "    return x*x\n",
    "```\n",
    "\n"
   ]
  },
  {
   "cell_type": "code",
   "execution_count": 3,
   "metadata": {},
   "outputs": [
    {
     "name": "stdout",
     "output_type": "stream",
     "text": [
      "Hello\n",
      "25\n"
     ]
    }
   ],
   "source": [
    "\n",
    "\n",
    "def hello(function):\n",
    "    def wrapper(arg):\n",
    "        func=function(arg)\n",
    "        print('Hello')\n",
    "        return func\n",
    "    return wrapper\n",
    "\n",
    "@hello\n",
    "def square(x):\n",
    "    return x*x\n",
    "print(square(5))"
   ]
  },
  {
   "cell_type": "markdown",
   "metadata": {},
   "source": [
    "4\\. Write the factorial function so that it a) does and b) does not use recursion."
   ]
  },
  {
   "cell_type": "code",
   "execution_count": 4,
   "metadata": {},
   "outputs": [
    {
     "name": "stdout",
     "output_type": "stream",
     "text": [
      "6\n",
      "24\n"
     ]
    }
   ],
   "source": [
    "## recursive factorial:\n",
    "def rec_factorial(x):\n",
    "    if x==0 or x==1:\n",
    "        return x\n",
    "    return x*rec_factorial(x-1)\n",
    "\n",
    "print(rec_factorial(3))\n",
    "\n",
    "## non-recursive factorial\n",
    "def factorial(x):\n",
    "    c=1\n",
    "    while x>0:\n",
    "        c=c*x\n",
    "        x=x-1\n",
    "    return c\n",
    "print(factorial(4))\n",
    "\n",
    "    "
   ]
  },
  {
   "cell_type": "markdown",
   "metadata": {},
   "source": [
    "5\\. Use HOFs (zip in particular) to compute the weight of a circle, a disk and a sphere, assuming different radii and different densities:\n",
    "\n",
    "```python\n",
    "densities = {\"Al\":[0.5,1,2],\"Fe\":[3,4,5],\"Pb\": [15,20,30]}\n",
    "radii = [1,2,3]\n",
    "```\n",
    "\n",
    "where the entries of the dictionary's values are the linear, superficial and volumetric densities of the materials respectively.\n",
    "\n",
    "In particular define a list of three lambda functions using a comprehension that computes the circumference, the area and the volume for a given radius.\n"
   ]
  },
  {
   "cell_type": "code",
   "execution_count": 1,
   "metadata": {},
   "outputs": [
    {
     "name": "stdout",
     "output_type": "stream",
     "text": [
      "Al\n",
      "3.141592653589793\n",
      "12.566370614359172\n",
      "226.19467105846508\n",
      "Fe\n",
      "18.84955592153876\n",
      "50.26548245743669\n",
      "565.4866776461627\n",
      "Pb\n",
      "94.24777960769379\n",
      "251.32741228718345\n",
      "3392.920065876976\n"
     ]
    }
   ],
   "source": [
    "import math\n",
    "densities = {\"Al\":[0.5,1,2],\"Fe\":[3,4,5],\"Pb\": [15,20,30]}\n",
    "radii = [1,2,3]\n",
    "target_weights = [lambda dens,rad: 2*math.pi*rad*dens, lambda dens,rad: math.pi*(rad**2)*dens, lambda dens,rad: 4/3*math.pi*(rad**3)*dens]\n",
    "\n",
    "\n",
    "for k in densities.keys():\n",
    "    print(k)\n",
    "    for x,y,z in zip(densities[k], radii, target_weights):\n",
    "        print(z(x,y))\n",
    "        \n"
   ]
  },
  {
   "cell_type": "markdown",
   "metadata": {},
   "source": [
    "6\\. Edit the class defintion to add an instance attribute of is_hungry = True to the Dog class. Then add a method called eat() which changes the value of is_hungry to False when called. Figure out the best way to feed each dog and then output “My dogs are hungry.” if all are hungry or “My dogs are not hungry.” if all are not hungry. The final output should look like this:\n",
    "\n",
    "`I have 3 dogs. \n",
    "Tom is 6. \n",
    "Fletcher is 7. \n",
    "Larry is 9. \n",
    "And they're all mammals, of course. \n",
    "My dogs are not hungry.\n",
    "`\n",
    "\n",
    "```python\n",
    "# Parent class\n",
    "class Dog:\n",
    "\n",
    "    # Class attribute\n",
    "    species = 'mammal'\n",
    "\n",
    "    # Initializer / Instance attributes\n",
    "    def __init__(self, name, age, hungry):\n",
    "        self.name = name\n",
    "        self.age = age\n",
    "\n",
    "    # instance method\n",
    "    def description(self):\n",
    "        return \"{} is {} years old\".format(self.name, self.age)\n",
    "\n",
    "    # instance method\n",
    "    def speak(self, sound):\n",
    "        return \"{} says {}\".format(self.name, sound)\n",
    "    \n",
    "\n",
    "# Child class (inherits from Dog class)\n",
    "class RussellTerrier(Dog):\n",
    "    def run(self, speed):\n",
    "        return \"{} runs {}\".format(self.name, speed)\n",
    "\n",
    "# Child class (inherits from Dog class)\n",
    "class Bulldog(Dog):\n",
    "    def run(self, speed):\n",
    "        return \"{} runs {}\".format(self.name, speed)\n",
    "```"
   ]
  },
  {
   "cell_type": "code",
   "execution_count": 6,
   "metadata": {},
   "outputs": [
    {
     "ename": "IndentationError",
     "evalue": "expected an indented block (<ipython-input-6-b32a0342582e>, line 55)",
     "output_type": "error",
     "traceback": [
      "\u001b[1;36m  File \u001b[1;32m\"<ipython-input-6-b32a0342582e>\"\u001b[1;36m, line \u001b[1;32m55\u001b[0m\n\u001b[1;33m    else:\u001b[0m\n\u001b[1;37m       ^\u001b[0m\n\u001b[1;31mIndentationError\u001b[0m\u001b[1;31m:\u001b[0m expected an indented block\n"
     ]
    }
   ],
   "source": [
    "class Dog:\n",
    "\n",
    "    # Class attribute\n",
    "    species = 'mammal'\n",
    "    is_hungry = True\n",
    "    \n",
    "    # Initializer / Instance attributes\n",
    "    def __init__(self, name, age):\n",
    "        self.name = name\n",
    "        self.age = age\n",
    "\n",
    "    # instance method\n",
    "    def description(self):\n",
    "        return \"{} is {} years old\".format(self.name, self.age)\n",
    "\n",
    "    # instance method\n",
    "    def speak(self, sound):\n",
    "        return \"{} says {}\".format(self.name, sound)\n",
    "    \n",
    "    #NEW instance method\n",
    "    def eat(self):\n",
    "        is_hungry=False\n",
    "\n",
    "\n",
    "# Child class (inherits from Dog class)\n",
    "class RussellTerrier(Dog):\n",
    "    def run(self, speed):\n",
    "        return \"{} runs {}\".format(self.name, speed)\n",
    "\n",
    "# Child class (inherits from Dog class)\n",
    "class Bulldog(Dog):\n",
    "    def run(self, speed):\n",
    "        return \"{} runs {}\".format(self.name, speed)\n",
    "    \n",
    "    \n",
    "#main part below\n",
    "dogs=[Dog('Tom',6),Dog('Fletcher',7), Dog('Larry',9)]\n",
    "print('I have 3 dogs.')\n",
    "for i in dogs:\n",
    "    print(i.description())\n",
    "    \n",
    "print('And they are all '+dogs[0].species+' of course.')\n",
    "\n",
    "def hungryDogs():\n",
    "    if all([i.is_hungry == True for i in dogs]):\n",
    "        print(\"My dogs are hungry\")\n",
    "    elif all([i.is_hungry == False for i in dogs]):\n",
    "        print(\"My dogs are not hungry\")\n",
    "    else:\n",
    "        print('Some of them is hungry, try to feed it')\n",
    "hungryDogs()    \n",
    "for i in dogs:\n",
    "    if i.is_hungry:\n",
    "        \n",
    "    else:\n",
    "        i.eat()\n",
    "hungryDogs()\n"
   ]
  },
  {
   "cell_type": "code",
   "execution_count": null,
   "metadata": {},
   "outputs": [],
   "source": []
  }
 ],
 "metadata": {
  "kernelspec": {
   "display_name": "Python 3",
   "language": "python",
   "name": "python3"
  },
  "language_info": {
   "codemirror_mode": {
    "name": "ipython",
    "version": 3
   },
   "file_extension": ".py",
   "mimetype": "text/x-python",
   "name": "python",
   "nbconvert_exporter": "python",
   "pygments_lexer": "ipython3",
   "version": "3.7.3"
  }
 },
 "nbformat": 4,
 "nbformat_minor": 2
}
