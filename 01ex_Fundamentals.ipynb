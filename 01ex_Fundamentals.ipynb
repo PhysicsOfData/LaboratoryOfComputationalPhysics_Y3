{
 "cells": [
  {
   "cell_type": "markdown",
   "metadata": {},
   "source": [
    "1\\. Write the following as a list comprehension"
   ]
  },
  {
   "cell_type": "code",
   "execution_count": 7,
   "metadata": {},
   "outputs": [
    {
     "name": "stdout",
     "output_type": "stream",
     "text": [
      "[[0, 0], [0, 1], [0, 2], [0, 3], [1, 0], [1, 1], [1, 2], [1, 3], [2, 0], [2, 1], [2, 2], [2, 3]]\n",
      "[0, 4, 16]\n"
     ]
    }
   ],
   "source": [
    "# 1\n",
    "ans = []\n",
    "for i in range(3):\n",
    "    for j in range(4):\n",
    "        ans.append([i, j])\n",
    "print (ans)\n",
    "\n",
    "# 2\n",
    "ans = list(map(lambda x: x*x, filter(lambda x: x%2 == 0, range(5))))\n",
    "print (ans)\n",
    "\n"
   ]
  },
  {
   "cell_type": "markdown",
   "metadata": {},
   "source": [
    "2\\. Convert the following function into a pure function with no global variables or side effects"
   ]
  },
  {
   "cell_type": "code",
   "execution_count": 24,
   "metadata": {},
   "outputs": [
    {
     "name": "stdout",
     "output_type": "stream",
     "text": [
      "[1, 2, 3, 0, 1, 2, 3, 4]\n",
      "[1, 2, 3, 0, 1, 2, 3, 4]\n"
     ]
    }
   ],
   "source": [
    "x = 5\n",
    "def f(alist):\n",
    "    for i in range(x):\n",
    "         alist.append(i)\n",
    "    return alist\n",
    "\n",
    "alist = [1,2,3]\n",
    "ans = f(alist)\n",
    "print (ans)\n",
    "print (alist) # alist has been changed!"
   ]
  },
  {
   "cell_type": "code",
   "execution_count": 56,
   "metadata": {},
   "outputs": [
    {
     "name": "stdout",
     "output_type": "stream",
     "text": [
      "[1, 2, 3, 0, 1, 2, 3, 4]\n",
      "[1, 2, 3]\n"
     ]
    }
   ],
   "source": [
    "x = 5\n",
    "alist = [1,2,3]\n",
    "def f(alist):\n",
    "    n = alist.copy()\n",
    "    for i in range(x):\n",
    "        n.append(i)\n",
    "    return n\n",
    "ans = f(alist)\n",
    "print (ans)\n",
    "print (alist) # alist has been changed!"
   ]
  },
  {
   "cell_type": "markdown",
   "metadata": {},
   "source": [
    "3\\. Write a `decorator` hello that makes every wrapped function print “Hello!”, i.e. something like:\n",
    "\n",
    "```python\n",
    "@hello\n",
    "def square(x):\n",
    "    return x*x\n",
    "```\n",
    "\n"
   ]
  },
  {
   "cell_type": "code",
   "execution_count": 28,
   "metadata": {},
   "outputs": [
    {
     "name": "stdout",
     "output_type": "stream",
     "text": [
      "Hello! 1\n"
     ]
    }
   ],
   "source": [
    "def hello(func):\n",
    "    def wrapper(*args, **kwargs):\n",
    "        func(*args, **kwargs)\n",
    "    return wrapper\n",
    "\n",
    "@hello\n",
    "def square(x):\n",
    "    ans = x*x\n",
    "    print(\"Hello!\", ans)\n",
    "\n",
    "square(1)\n"
   ]
  },
  {
   "cell_type": "markdown",
   "metadata": {},
   "source": [
    "4\\. Write the factorial function so that it a) does and b) does not use recursion."
   ]
  },
  {
   "cell_type": "code",
   "execution_count": 13,
   "metadata": {},
   "outputs": [
    {
     "name": "stdout",
     "output_type": "stream",
     "text": [
      "Enter the number: 5\n",
      "120\n",
      "3.69 µs ± 36.4 ns per loop (mean ± std. dev. of 7 runs, 100000 loops each)\n",
      "120\n",
      "6.18 µs ± 493 ns per loop (mean ± std. dev. of 7 runs, 100000 loops each)\n"
     ]
    }
   ],
   "source": [
    "n=int(input(\"Enter the number: \"))\n",
    "\n",
    "#A\n",
    "def factorial1(n):\n",
    "    if n<0:\n",
    "        return(\"factorial doesn't exist for negative numbers\")\n",
    "    elif n == 0:\n",
    "        return 1\n",
    "    else:\n",
    "        return n * factorial1(n-1)\n",
    "print(factorial1(n))\n",
    "#Time\n",
    "%timeit factorial1(20)\n",
    "\n",
    "\n",
    "#B\n",
    "def factorial2(n):\n",
    "    if n<0:\n",
    "        return(\"factorial doesn't exist for negative numbers\")\n",
    "    elif n==1:\n",
    "        return 1\n",
    "    else:\n",
    "        return n*factorial2(n-1)\n",
    "print(factorial2(n))\n",
    "\n",
    "#Time\n",
    "%timeit factorial2(20)"
   ]
  },
  {
   "cell_type": "markdown",
   "metadata": {},
   "source": [
    "5\\. Use HOFs (zip in particular) to compute the weight of a circle, a disk and a sphere, assuming different radii and different densities:\n",
    "\n",
    "```python\n",
    "densities = {\"Al\":[0.5,1,2],\"Fe\":[3,4,5],\"Pb\": [15,20,30]}\n",
    "radii = [1,2,3]\n",
    "```\n",
    "\n",
    "where the entries of the dictionary's values are the linear, superficial and volumetric densities of the materials respectively.\n",
    "\n",
    "In particular define a list of three lambda functions using a comprehension that computes the circumference, the area and the volume for a given radius.\n"
   ]
  },
  {
   "cell_type": "code",
   "execution_count": 61,
   "metadata": {},
   "outputs": [
    {
     "name": "stdout",
     "output_type": "stream",
     "text": [
      "0.5 3.141592653589793\n",
      "1 12.566370614359172\n",
      "2 37.69911184307752\n",
      "0.5 1.5707963267948966\n",
      "1 12.566370614359172\n",
      "2 56.548667764616276\n",
      "0.5 2.0943951023931953\n",
      "1 33.510321638291124\n",
      "2 226.19467105846508\n",
      "3 18.84955592153876\n",
      "4 50.26548245743669\n",
      "5 94.24777960769379\n",
      "3 9.42477796076938\n",
      "4 50.26548245743669\n",
      "5 141.3716694115407\n",
      "3 12.566370614359172\n",
      "4 134.0412865531645\n",
      "5 565.4866776461627\n",
      "15 94.24777960769379\n",
      "20 251.32741228718345\n",
      "30 565.4866776461628\n",
      "15 47.12388980384689\n",
      "20 251.32741228718345\n",
      "30 848.2300164692441\n",
      "15 62.831853071795855\n",
      "20 670.2064327658225\n",
      "30 3392.920065876976\n"
     ]
    }
   ],
   "source": [
    "import numpy as np\n",
    "d = {\"Al\":[0.5,1,2],\"Fe\":[3,4,5],\"Pb\": [15,20,30]}\n",
    "r = [1,2,3]\n",
    "\n",
    "circumference = [i for i in map(lambda x: np.pi*x*2, r)]\n",
    "\n",
    "area = [i for i in map(lambda x: np.pi*x*x, r)]\n",
    "    \n",
    "volume = [i for i in map(lambda x: (4/3)*np.pi*x**3, r)]\n",
    "\n",
    "put = [[],[],[]]\n",
    "for x,y,z in zip(circumference, area, volume):\n",
    "    put[0].append(x)\n",
    "    put[1].append(y)\n",
    "    put[2].append(z)\n",
    "    \n",
    "for k in d:\n",
    "    for l in put:\n",
    "        for x, y in zip(d[k], l):\n",
    "            print (x, y*x)"
   ]
  },
  {
   "cell_type": "markdown",
   "metadata": {},
   "source": [
    "6\\. Edit the class defintion to add an instance attribute of is_hungry = True to the Dog class. Then add a method called eat() which changes the value of is_hungry to False when called. Figure out the best way to feed each dog and then output “My dogs are hungry.” if all are hungry or “My dogs are not hungry.” if all are not hungry. The final output should look like this:\n",
    "\n",
    "`I have 3 dogs. \n",
    "Tom is 6. \n",
    "Fletcher is 7. \n",
    "Larry is 9. \n",
    "And they're all mammals, of course. \n",
    "My dogs are not hungry.\n",
    "`\n",
    "\n",
    "```python\n",
    "# Parent class\n",
    "class Dog:\n",
    "\n",
    "    # Class attribute\n",
    "    species = 'mammal'\n",
    "\n",
    "    # Initializer / Instance attributes\n",
    "    def __init__(self, name, age):\n",
    "        self.name = name\n",
    "        self.age = age\n",
    "\n",
    "    # instance method\n",
    "    def description(self):\n",
    "        return \"{} is {} years old\".format(self.name, self.age)\n",
    "\n",
    "    # instance method\n",
    "    def speak(self, sound):\n",
    "        return \"{} says {}\".format(self.name, sound)\n",
    "\n",
    "# Child class (inherits from Dog class)\n",
    "class RussellTerrier(Dog):\n",
    "    def run(self, speed):\n",
    "        return \"{} runs {}\".format(self.name, speed)\n",
    "\n",
    "# Child class (inherits from Dog class)\n",
    "class Bulldog(Dog):\n",
    "    def run(self, speed):\n",
    "        return \"{} runs {}\".format(self.name, speed)\n",
    "```"
   ]
  },
  {
   "cell_type": "code",
   "execution_count": null,
   "metadata": {},
   "outputs": [],
   "source": []
  }
 ],
 "metadata": {
  "kernelspec": {
   "display_name": "Python 3",
   "language": "python",
   "name": "python3"
  },
  "language_info": {
   "codemirror_mode": {
    "name": "ipython",
    "version": 3
   },
   "file_extension": ".py",
   "mimetype": "text/x-python",
   "name": "python",
   "nbconvert_exporter": "python",
   "pygments_lexer": "ipython3",
   "version": "3.8.3"
  }
 },
 "nbformat": 4,
 "nbformat_minor": 2
}
