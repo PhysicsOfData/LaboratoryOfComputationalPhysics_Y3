{
 "cells": [
  {
   "cell_type": "markdown",
   "metadata": {},
   "source": [
    "1\\. Write the following as a list comprehension"
   ]
  },
  {
   "cell_type": "code",
   "execution_count": 1,
   "metadata": {},
   "outputs": [
    {
     "name": "stdout",
     "output_type": "stream",
     "text": [
      "[(0, 0), (0, 1), (0, 2), (0, 3), (1, 0), (1, 1), (1, 2), (1, 3), (2, 0), (2, 1), (2, 2), (2, 3)]\n",
      "[0, 4, 16]\n"
     ]
    }
   ],
   "source": [
    "# 1\n",
    "ans = []\n",
    "for i in range(3):\n",
    "    for j in range(4):\n",
    "        ans.append((i, j))\n",
    "print (ans)\n",
    "\n",
    "# 2\n",
    "ans = map(lambda x: x*x, filter(lambda x: x%2 == 0, range(5)))\n",
    "print (list(ans))"
   ]
  },
  {
   "cell_type": "code",
   "execution_count": 8,
   "metadata": {},
   "outputs": [
    {
     "name": "stdout",
     "output_type": "stream",
     "text": [
      "[(0, 0), (0, 1), (0, 2), (0, 3), (1, 0), (1, 1), (1, 2), (1, 3), (2, 0), (2, 1), (2, 2), (2, 3)]\n",
      "[0, 4, 16]\n"
     ]
    }
   ],
   "source": [
    "#1\n",
    "ans = [(i, j) for i in range(3) for j in range(4)]\n",
    "print(ans)\n",
    "\n",
    "#2\n",
    "ans = [x*x for x in range(5) if x%2 == 0]\n",
    "print(ans)"
   ]
  },
  {
   "cell_type": "markdown",
   "metadata": {},
   "source": [
    "2\\. Convert the following function into a pure function with no global variables or side effects"
   ]
  },
  {
   "cell_type": "code",
   "execution_count": 22,
   "metadata": {},
   "outputs": [
    {
     "name": "stdout",
     "output_type": "stream",
     "text": [
      "[1, 2, 3, 0, 1, 2, 3, 4]\n",
      "[1, 2, 3, 0, 1, 2, 3, 4]\n"
     ]
    }
   ],
   "source": [
    "x = 5\n",
    "def f(alist):\n",
    "    for i in range(x):\n",
    "         alist.append(i)\n",
    "    return alist\n",
    "\n",
    "alist = [1,2,3]\n",
    "ans = f(alist)\n",
    "print (ans)\n",
    "print (alist) # alist has been changed!"
   ]
  },
  {
   "cell_type": "code",
   "execution_count": 38,
   "metadata": {},
   "outputs": [
    {
     "name": "stdout",
     "output_type": "stream",
     "text": [
      "[1, 2, 3, 0, 1, 2, 3, 4]\n",
      "[1, 2, 3]\n"
     ]
    }
   ],
   "source": [
    "x = 5\n",
    "def f(alist):\n",
    "    y = alist[:]\n",
    "    for i in range(x):\n",
    "         y.append(i)\n",
    "    return y\n",
    "\n",
    "alist = [1,2,3]\n",
    "ans = f(alist)\n",
    "print (ans)\n",
    "print (alist) # alist has been changed!"
   ]
  },
  {
   "cell_type": "markdown",
   "metadata": {},
   "source": [
    "3\\. Write a `decorator` hello that makes every wrapped function print “Hello!”, i.e. something like:\n",
    "\n",
    "```python\n",
    "@hello\n",
    "def square(x):\n",
    "    return x*x\n",
    "```\n",
    "\n"
   ]
  },
  {
   "cell_type": "code",
   "execution_count": 79,
   "metadata": {},
   "outputs": [
    {
     "name": "stdout",
     "output_type": "stream",
     "text": [
      "Hello\n"
     ]
    }
   ],
   "source": [
    "def hello(func):\n",
    "    def wrapper(x):\n",
    "        print(\"Hello\")\n",
    "        func(x)\n",
    "    return wrapper\n",
    "\n",
    "def square(x):\n",
    "    return x*x\n",
    "\n",
    "square = hello(square)\n",
    "square(2)"
   ]
  },
  {
   "cell_type": "code",
   "execution_count": 80,
   "metadata": {},
   "outputs": [
    {
     "name": "stdout",
     "output_type": "stream",
     "text": [
      "Hello\n"
     ]
    }
   ],
   "source": [
    "def hello(func):\n",
    "    def wrapper(x):\n",
    "        print(\"Hello\")\n",
    "        func(x)\n",
    "    return wrapper\n",
    "\n",
    "@hello\n",
    "def square(x):\n",
    "    return x*x\n",
    "\n",
    "square(2) #non stampa il quadrato perchè non c'è l'istruzione, ma lo esegue"
   ]
  },
  {
   "cell_type": "markdown",
   "metadata": {},
   "source": [
    "4\\. Write the factorial function so that it a) does and b) does not use recursion."
   ]
  },
  {
   "cell_type": "code",
   "execution_count": 2,
   "metadata": {},
   "outputs": [
    {
     "data": {
      "text/plain": [
       "6"
      ]
     },
     "execution_count": 2,
     "metadata": {},
     "output_type": "execute_result"
    }
   ],
   "source": [
    "#a\n",
    "def factorial_rec(x):\n",
    "    if x==0: x = 1\n",
    "    else: x*=factorial_rec(x-1)\n",
    "    return x\n",
    "\n",
    "factorial_rec(3)"
   ]
  },
  {
   "cell_type": "code",
   "execution_count": 12,
   "metadata": {},
   "outputs": [
    {
     "data": {
      "text/plain": [
       "120"
      ]
     },
     "execution_count": 12,
     "metadata": {},
     "output_type": "execute_result"
    }
   ],
   "source": [
    "def factorial_norec(x):\n",
    "    f=1\n",
    "    if x==0 or x==1: return 1\n",
    "    else:\n",
    "        for i in range(2, x+1):\n",
    "            f*=i\n",
    "        return f\n",
    "\n",
    "factorial_norec(5)"
   ]
  },
  {
   "cell_type": "code",
   "execution_count": 14,
   "metadata": {},
   "outputs": [
    {
     "name": "stdout",
     "output_type": "stream",
     "text": [
      "100000 loops, best of 3: 2.96 µs per loop\n",
      "1000000 loops, best of 3: 1.42 µs per loop\n"
     ]
    }
   ],
   "source": [
    "%timeit factorial_rec(20)\n",
    "%timeit factorial_norec(20) "
   ]
  },
  {
   "cell_type": "markdown",
   "metadata": {},
   "source": [
    "5\\. Use HOFs (zip in particular) to compute the weight of a circle, a disk and a sphere, assuming different radii and different densities:\n",
    "\n",
    "```python\n",
    "densities = {\"Al\":[0.5,1,2],\"Fe\":[3,4,5],\"Pb\": [15,20,30]}\n",
    "radii = [1,2,3]\n",
    "```\n",
    "\n",
    "where the entries of the dictionary's values are the linear, superficial and volumetric densities of the materials respectively.\n",
    "\n",
    "In particular define a list of three lambda functions using a comprehension that computes the circumference, the area and the volume for a given radius.\n"
   ]
  },
  {
   "cell_type": "code",
   "execution_count": 2,
   "metadata": {},
   "outputs": [
    {
     "name": "stdout",
     "output_type": "stream",
     "text": [
      "[3.141592653589793, 6.283185307179586, 9.42477796076938, 18.84955592153876, 37.69911184307752, 56.548667764616276, 94.24777960769379, 188.49555921538757, 282.7433388230814]\n",
      "[3.141592653589793, 12.566370614359172, 28.274333882308138, 12.566370614359172, 50.26548245743669, 113.09733552923255, 62.83185307179586, 251.32741228718345, 565.4866776461628]\n",
      "[8.377580409572781, 67.02064327658225, 226.1946710584651, 20.94395102393195, 167.5516081914556, 565.4866776461628, 125.66370614359171, 1005.3096491487337, 3392.9200658769764]\n"
     ]
    }
   ],
   "source": [
    "import math\n",
    "\n",
    "densities = {\"Al\":[0.5,1,2],\"Fe\":[3,4,5],\"Pb\": [15,20,30]}\n",
    "radii = [1,2,3]\n",
    "\n",
    "materials = [x for x in densities.keys()]\n",
    "volume = [lambda x: 2*math.pi*x, lambda x: math.pi*x*x, lambda x: 4*math.pi*x**3/3] #list comprehension?\n",
    "measure = [list(map(i, radii)) for i in volume]\n",
    "\n",
    "dic_measure = {'l': list(map(volume[0], radii)), 's': list(map(volume[1], radii)), 'v':list(map(volume[2], radii)) }\n",
    "shape = ['x' for x in dic_measure.keys()]\n",
    "\n",
    "weight_circ=[]\n",
    "weight_disk=[]\n",
    "weight_sphere=[]\n",
    "\n",
    "for m in materials:\n",
    "    for i in range(3):\n",
    "        for j in range(3):\n",
    "            if i==0: weight_circ.append(densities[m][i]*measure[i][j])\n",
    "            elif i==1: weight_disk.append(densities[m][i]*measure[i][j])\n",
    "            else: weight_sphere.append(densities[m][i]*measure[i][j])          \n",
    "dic_measure\n",
    "print(weight_circ)\n",
    "print(weight_disk)\n",
    "print(weight_sphere)"
   ]
  },
  {
   "cell_type": "code",
   "execution_count": 1,
   "metadata": {},
   "outputs": [
    {
     "name": "stdout",
     "output_type": "stream",
     "text": [
      "circle {'Al': 0.5, 'Fe': 3, 'Pb': 15}\n",
      "r =  1 [3.141592653589793, 18.84955592153876, 94.24777960769379]\n",
      "r =  2 [6.283185307179586, 37.69911184307752, 188.49555921538757]\n",
      "r =  3 [9.42477796076938, 56.548667764616276, 282.7433388230814]\n",
      "disk {'Al': 1, 'Fe': 4, 'Pb': 20}\n",
      "r =  1 [3.141592653589793, 12.566370614359172, 62.83185307179586]\n",
      "r =  2 [12.566370614359172, 50.26548245743669, 251.32741228718345]\n",
      "r =  3 [28.274333882308138, 113.09733552923255, 565.4866776461628]\n",
      "sphere {'Al': 2, 'Fe': 5, 'Pb': 30}\n",
      "r =  1 [8.377580409572781, 20.94395102393195, 125.66370614359171]\n",
      "r =  2 [67.02064327658225, 167.5516081914556, 1005.3096491487337]\n",
      "r =  3 [226.1946710584651, 565.4866776461628, 3392.9200658769764]\n"
     ]
    }
   ],
   "source": [
    "import math\n",
    "\n",
    "densities = {\"Al\":[0.5,1,2],\"Fe\":[3,4,5],\"Pb\": [15,20,30]}\n",
    "radii = [1,2,3]\n",
    "\n",
    "measure = [lambda x: 2*math.pi*x, lambda x: math.pi*x*x, lambda x: 4*math.pi*x**3/3] #list comprehension?\n",
    "shape = ['circle', 'disk', 'sphere']\n",
    "\n",
    "for i, s, a, f, p in zip(range(0,3), shape, densities['Al'], densities['Fe'], densities['Pb']):\n",
    "    density = {\"Al\":a, \"Fe\":f, \"Pb\":p }\n",
    "    print(s, density)\n",
    "    for r in radii:\n",
    "        weight = [measure[i](r)*d for d in density.values()]\n",
    "        print('r = ', r, weight)"
   ]
  },
  {
   "cell_type": "markdown",
   "metadata": {},
   "source": [
    "6\\. Edit the class defintion to add an instance attribute of is_hungry = True to the Dog class. Then add a method called eat() which changes the value of is_hungry to False when called. Figure out the best way to feed each dog and then output “My dogs are hungry.” if all are hungry or “My dogs are not hungry.” if all are not hungry. The final output should look like this:\n",
    "``\n",
    "I have 3 dogs. \n",
    "Tom is 6. \n",
    "Fletcher is 7. \n",
    "Larry is 9. \n",
    "And they're all mammals, of course. \n",
    "My dogs are not hungry.\n",
    "``"
   ]
  },
  {
   "cell_type": "code",
   "execution_count": null,
   "metadata": {},
   "outputs": [],
   "source": [
    "# Parent class\n",
    "class Dog:\n",
    "\n",
    "    # Class attribute\n",
    "    species = 'mammal'\n",
    "\n",
    "    # Initializer / Instance attributes\n",
    "    def __init__(self, name, age):\n",
    "        self.name = name\n",
    "        self.age = age\n",
    "\n",
    "    # instance method\n",
    "    def description(self):\n",
    "        return \"{} is {} years old\".format(self.name, self.age)\n",
    "\n",
    "    # instance method\n",
    "    def speak(self, sound):\n",
    "        return \"{} says {}\".format(self.name, sound)\n",
    "\n",
    "# Child class (inherits from Dog class)\n",
    "class RussellTerrier(Dog):\n",
    "    def run(self, speed):\n",
    "        return \"{} runs {}\".format(self.name, speed)\n",
    "\n",
    "# Child class (inherits from Dog class)\n",
    "class Bulldog(Dog):\n",
    "    def run(self, speed):\n",
    "        return \"{} runs {}\".format(self.name, speed)"
   ]
  },
  {
   "cell_type": "code",
   "execution_count": 40,
   "metadata": {},
   "outputs": [],
   "source": [
    "# Parent class\n",
    "class Dog:\n",
    "\n",
    "    # Class attribute\n",
    "    species = 'mammal'\n",
    "    is_hungry = True\n",
    "    \n",
    "    # Initializer / Instance attributes\n",
    "    def __init__(self, name, age):\n",
    "        self.name = name\n",
    "        self.age = age\n",
    "\n",
    "    # instance method\n",
    "    def description(self):\n",
    "        return \"{} is {} years old\".format(self.name, self.age)\n",
    "\n",
    "    # instance method\n",
    "    def speak(self, sound):\n",
    "        return \"{} says {}\".format(self.name, sound)\n",
    "    \n",
    "    # instance method\n",
    "    def eat(self):\n",
    "        self.is_hungry = False\n",
    "\n",
    "# Child class (inherits from Dog class)\n",
    "class RussellTerrier(Dog):\n",
    "    def run(self, speed):\n",
    "        return \"{} runs {}\".format(self.name, speed)\n",
    "\n",
    "# Child class (inherits from Dog class)\n",
    "class Bulldog(Dog):\n",
    "    def run(self, speed):\n",
    "        return \"{} runs {}\".format(self.name, speed)"
   ]
  },
  {
   "cell_type": "code",
   "execution_count": 59,
   "metadata": {},
   "outputs": [
    {
     "name": "stdout",
     "output_type": "stream",
     "text": [
      "Do you want to feed the dogs?'yes'\n",
      "Tom is 6 years old\n",
      "Fletcher is 7 years old\n",
      "Larry is 9 years old\n",
      "My dogs are all mammals, of course.\n",
      "My dogs are hungry\n"
     ]
    }
   ],
   "source": [
    "tom = Dog('Tom', 6)\n",
    "fletch = Dog('Fletcher', 7)\n",
    "lar = Dog('Larry', 9)\n",
    "\n",
    "def feed(ans):\n",
    "    if ans == 'yes':\n",
    "        Dog.eat(tom)\n",
    "        Dog.eat(fletch)\n",
    "        Dog.eat(lar)\n",
    "        \n",
    "food = input('Do you want to feed the dogs?')\n",
    "feed(food)\n",
    "\n",
    "print(Dog.description(tom))\n",
    "print(Dog.description(fletch))\n",
    "print(Dog.description(lar))\n",
    "\n",
    "print('My dogs are all mammals, of course.')\n",
    "\n",
    "if tom.is_hungry==False and fletch.is_hungry==False and lar.is_hungry==False: print('My dogs are not hungry')\n",
    "elif tom.is_hungry==True and fletch.is_hungry==True and lar.is_hungry==True: print('My dogs are hungry')"
   ]
  }
 ],
 "metadata": {
  "kernelspec": {
   "display_name": "Python 3",
   "language": "python",
   "name": "python3"
  },
  "language_info": {
   "codemirror_mode": {
    "name": "ipython",
    "version": 3
   },
   "file_extension": ".py",
   "mimetype": "text/x-python",
   "name": "python",
   "nbconvert_exporter": "python",
   "pygments_lexer": "ipython3",
   "version": "3.6.9"
  }
 },
 "nbformat": 4,
 "nbformat_minor": 2
}
