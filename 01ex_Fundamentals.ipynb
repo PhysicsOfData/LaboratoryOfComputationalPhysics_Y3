{
 "cells": [
  {
   "cell_type": "markdown",
   "metadata": {},
   "source": [
    "# 1\\. Write the following as a list comprehension"
   ]
  },
  {
   "cell_type": "raw",
   "metadata": {},
   "source": [
    "# 1\n",
    "ans = []\n",
    "for i in range(3):\n",
    "    for j in range(4):\n",
    "        ans.append((i, j))\n",
    "print (ans)\n",
    "\n",
    "# 2\n",
    "ans = map(lambda x: x*x, filter(lambda x: x%2 == 0, range(5)))\n",
    "print (list(ans))\n",
    "\n",
    "\n",
    "\n"
   ]
  },
  {
   "cell_type": "code",
   "execution_count": 1,
   "metadata": {},
   "outputs": [
    {
     "name": "stdout",
     "output_type": "stream",
     "text": [
      "[(0, 0), (0, 1), (0, 2), (0, 3), (1, 0), (1, 1), (1, 2), (1, 3), (2, 0), (2, 1), (2, 2), (2, 3)]\n",
      "[0, 4, 16]\n"
     ]
    }
   ],
   "source": [
    "#Solution\n",
    "#1\n",
    "print([(i,j) for i in range(3) for j in range(4)])\n",
    "\n",
    "#2\n",
    "print([i for i in map(lambda x: x*x, filter(lambda x: x%2 == 0, range(5)))])\n"
   ]
  },
  {
   "cell_type": "markdown",
   "metadata": {},
   "source": [
    "# 2\\. Convert the following function into a pure function with no global variables or side effects"
   ]
  },
  {
   "cell_type": "raw",
   "metadata": {},
   "source": [
    "x = 5\n",
    "def f(alist):\n",
    "    for i in range(x):\n",
    "         alist.append(i)\n",
    "    return alist\n",
    "\n",
    "alist = [1,2,3]\n",
    "ans = f(alist)\n",
    "print (ans)\n",
    "print (alist) # alist has been changed!"
   ]
  },
  {
   "cell_type": "code",
   "execution_count": 2,
   "metadata": {},
   "outputs": [
    {
     "name": "stdout",
     "output_type": "stream",
     "text": [
      "[0, 1, 2, 3, 4]\n",
      "[1, 2, 3]\n"
     ]
    }
   ],
   "source": [
    "def no_modify(alist):\n",
    "    alist = [i for i in range(5)]\n",
    "    return alist\n",
    "\n",
    "alist = [1,2,3]\n",
    "ans = no_modify(alist)\n",
    "print (ans)\n",
    "print (alist)\n",
    "\n",
    "#P.S.\n",
    "#I don't know if this actually resolves the problem (but it works)"
   ]
  },
  {
   "cell_type": "markdown",
   "metadata": {},
   "source": [
    "# 3\\. Write a `decorator` hello that makes every wrapped function print “Hello!”, i.e. something like:\n",
    "\n",
    "```python\n",
    "@hello\n",
    "def square(x):\n",
    "    return x*x\n",
    "```\n",
    "\n"
   ]
  },
  {
   "cell_type": "code",
   "execution_count": 3,
   "metadata": {},
   "outputs": [
    {
     "name": "stdout",
     "output_type": "stream",
     "text": [
      "Hello!\n"
     ]
    }
   ],
   "source": [
    "def hello(func1):\n",
    "    def wrapper():\n",
    "        print(\"Hello!\")\n",
    "        func1(2)#example of the decorator \"overwriting\" hello over 4\n",
    "    return wrapper\n",
    "\n",
    "@hello\n",
    "def square(x):#first\n",
    "    return x*x\n",
    "\n",
    "square()"
   ]
  },
  {
   "cell_type": "markdown",
   "metadata": {},
   "source": [
    "# 4\\. Write the factorial function so that it a) does and b) does not use recursion."
   ]
  },
  {
   "cell_type": "code",
   "execution_count": 4,
   "metadata": {},
   "outputs": [
    {
     "name": "stdout",
     "output_type": "stream",
     "text": [
      "5! with recursion gives: 120\n",
      "5! without recursion gives: 120\n",
      "Using math library: 120\n",
      "26.8 µs ± 4.02 µs per loop (mean ± std. dev. of 7 runs, 10000 loops each)\n",
      "11.5 µs ± 414 ns per loop (mean ± std. dev. of 7 runs, 100000 loops each)\n"
     ]
    }
   ],
   "source": [
    "#n=int(input(\"Enter the number n to calculate n!: \"))\n",
    "n=5\n",
    "\n",
    "#a) #with recursion\n",
    "def fact(n):\n",
    "\n",
    "    # base case\n",
    "    if n==0 or n==1:\n",
    "        return 1\n",
    "    # recurssive case\n",
    "    else:\n",
    "        return n*fact(n-1)  \n",
    "print(str(n)+\"! with recursion gives:\",fact(n)) \n",
    "\n",
    "#b) without recursion\n",
    "def fact2(n):\n",
    "    if n==0 or n==1:\n",
    "        return 1\n",
    "    else:\n",
    "        a,b = 1,1\n",
    "        for i in range(1,n+1):\n",
    "            a,b = a*b,b+1\n",
    "        return a\n",
    "    \n",
    "print(str(n)+\"! without recursion gives:\",fact2(n))  \n",
    "\n",
    "#c) using libraries\n",
    "from math import factorial\n",
    "print(\"Using math library:\",factorial(n))\n",
    "\n",
    "%timeit fact(40)\n",
    "%timeit fact2(40)"
   ]
  },
  {
   "cell_type": "markdown",
   "metadata": {},
   "source": [
    "# 5\\. Use HOFs (zip in particular) to compute the weight of a circle, a disk and a sphere, assuming different radii and different densities:\n",
    "\n",
    "where the entries of the dictionary's values are the linear, superficial and volumetric densities of the materials respectively.\n",
    "\n",
    "In particular define a list of three lambda functions using a comprehension that computes the circumference, the area and the volume for a given radius.\n"
   ]
  },
  {
   "cell_type": "code",
   "execution_count": 5,
   "metadata": {},
   "outputs": [
    {
     "name": "stdout",
     "output_type": "stream",
     "text": [
      "The weight of a circle (given the three radii) [12.566370614359172, 25.132741228718345, 37.69911184307752]\n",
      "The weight of a disk is (given the three radii) [15.707963267948966, 62.83185307179586, 141.3716694115407]\n",
      "The weight of a sphere is (given the three radii) [11.780972450961723, 94.24777960769379, 318.0862561759665]\n"
     ]
    }
   ],
   "source": [
    "from math import pi\n",
    "densities = {\"Al\":[0.5,1,2],\"Fe\":[3,4,5],\"Pb\": [15,20,30]}#Lin.,Sup.,Vol. densities\n",
    "radii = [1,2,3]\n",
    "\n",
    "for lin, sup, vol in zip(densities[\"Al\"],densities[\"Fe\"],densities[\"Pb\"]):\n",
    "    \n",
    "    x = [(lambda a,b : a*2*pi*b)(lin,i) for i in radii]\n",
    "    y = [(lambda a,b : a*pi*(b**2))(sup,i) for i in radii]\n",
    "    z = [(lambda a,b : a*0.75*pi*(b**3))(sup,i) for i in radii]\n",
    "    \n",
    "print(\"The weight of a circle (given the three radii)\",x)\n",
    "print(\"The weight of a disk is (given the three radii)\",y)\n",
    "print(\"The weight of a sphere is (given the three radii)\",z)"
   ]
  },
  {
   "cell_type": "markdown",
   "metadata": {},
   "source": [
    "# 6\\. Edit the class defintion to add an instance attribute of is_hungry = True to the Dog class.\n",
    "Then add a method called eat() which changes the value of is_hungry to False when called.\n",
    "Figure out the best way to feed each dog and then output “My dogs are hungry.” if all are hungry or “My dogs are not hungry.” if all are not hungry.\n",
    "The final output should look like this:\n",
    "\n",
    "`I have 3 dogs. \n",
    "Tom is 6. \n",
    "Fletcher is 7. \n",
    "Larry is 9. \n",
    "And they're all mammals, of course. \n",
    "My dogs are not hungry.\n",
    "`"
   ]
  },
  {
   "cell_type": "code",
   "execution_count": 6,
   "metadata": {},
   "outputs": [
    {
     "name": "stdout",
     "output_type": "stream",
     "text": [
      "I have 3 dogs.\n",
      "Tom is 6 years old.\n",
      "Fletcher is 7 years old.\n",
      "Larry is 9 years old.\n",
      "And they're all mammals, of course.\n",
      "My dogs are not hungry.\n"
     ]
    }
   ],
   "source": [
    "# Parent class\n",
    "class Dog:\n",
    "\n",
    "    # Class attribute\n",
    "    species = 'mammals'\n",
    "\n",
    "    # Initializer / Instance attributes\n",
    "    def __init__(self, name, age, is_hungry):\n",
    "        self.name = name\n",
    "        self.age = age\n",
    "        self.is_hungry = is_hungry\n",
    "\n",
    "    # instance method\n",
    "    def description(self):\n",
    "        return \"{} is {} years old.\".format(self.name, self.age)\n",
    "\n",
    "    # instance method\n",
    "    def speak(self, sound):\n",
    "        return \"{} says {}\".format(self.name, sound)\n",
    "    \n",
    "    def eat(self):\n",
    "        self.is_hungry = False\n",
    "        return self.is_hungry#if called return false\n",
    "    \n",
    "\n",
    "# Child class (inherits from Dog class)\n",
    "class RussellTerrier(Dog):\n",
    "    def run(self, speed):\n",
    "        return \"{} runs {}\".format(self.name, speed)\n",
    "\n",
    "# Child class (inherits from Dog class)\n",
    "class Bulldog(Dog):\n",
    "    def run(self, speed):\n",
    "        return \"{} runs {}\".format(self.name, speed)\n",
    "    \n",
    "\n",
    "dog1 = Bulldog(\"Tom\",6,True)    \n",
    "dog2 = RussellTerrier(\"Fletcher\",7,False)   \n",
    "dog3 = Dog(\"Larry\",9,True)#i can just insert class name \"Dog\"\n",
    "\n",
    "print(\"I have 3 dogs.\")\n",
    "print(Dog.description(dog1))\n",
    "print(Dog.description(dog2))\n",
    "print(Dog.description(dog3))\n",
    "print(\"And they're all\",Dog.species + \", of course.\")\n",
    "\n",
    "if dog1.is_hungry == dog2.is_hungry == dog3.is_hungry == True:\n",
    "    print(\"My dogs are hungry.\")\n",
    "else:\n",
    "    print(\"My dogs are not hungry.\")"
   ]
  }
 ],
 "metadata": {
  "kernelspec": {
   "display_name": "Python 3",
   "language": "python",
   "name": "python3"
  },
  "language_info": {
   "codemirror_mode": {
    "name": "ipython",
    "version": 3
   },
   "file_extension": ".py",
   "mimetype": "text/x-python",
   "name": "python",
   "nbconvert_exporter": "python",
   "pygments_lexer": "ipython3",
   "version": "3.8.3"
  }
 },
 "nbformat": 4,
 "nbformat_minor": 2
}
