{
 "cells": [
  {
   "cell_type": "markdown",
   "metadata": {},
   "source": [
    "1. Write the following as a list comprehension"
   ]
  },
  {
   "cell_type": "code",
   "execution_count": null,
   "metadata": {},
   "outputs": [],
   "source": [
    "\"\"\"\n",
    "# 1\n",
    "ans = []\n",
    "for i in range(3):\n",
    "    for j in range(4):\n",
    "        ans.append((i, j))\n",
    "print (ans)\n",
    "\n",
    "# 2\n",
    "ans = map(lambda x: x*x, filter(lambda x: x%2 == 0, range(5)))\n",
    "print (list(ans))\n",
    "\"\"\" \n",
    "\n",
    "# 1\n",
    "ans1=[(i,j) for i in range (3) for j in range(4)]\n",
    "print(ans1)\n",
    "\n",
    "# 2\n",
    "ans = [(i**2) for i in range(0,5) if i%2==0]\n",
    "print (list(ans))"
   ]
  },
  {
   "cell_type": "markdown",
   "metadata": {},
   "source": [
    "2.Convert the following function into a pure function with no global variables or side effects"
   ]
  },
  {
   "cell_type": "code",
   "execution_count": null,
   "metadata": {},
   "outputs": [],
   "source": [
    "\n",
    "\"\"\"\n",
    "x = 5\n",
    "def f(alist):\n",
    "    for i in range(x):\n",
    "         alist.append(i)\n",
    "    return alist\n",
    "\n",
    "alist = [1,2,3]\n",
    "ans = f(alist)\n",
    "print (ans)\n",
    "print (alist) # alist has been changed!\n",
    "\n",
    "\"\"\"\n",
    "\n",
    "\n",
    "x = 5\n",
    "def f(alist):\n",
    "    for i in range(x):\n",
    "        alist.append(i)\n",
    "    return alist\n",
    "\n",
    "alist = [1,2,3]\n",
    "list1=alist.copy()\n",
    "ans = f(alist)\n",
    "alist=list1.copy()\n",
    "print (ans)\n",
    "print (alist) # alist has been changed!\n"
   ]
  },
  {
   "cell_type": "markdown",
   "metadata": {},
   "source": [
    "3.Write a decorator hello that makes every wrapped function print “Hello!”"
   ]
  },
  {
   "cell_type": "code",
   "execution_count": null,
   "metadata": {},
   "outputs": [],
   "source": [
    "\"\"\"\n",
    "    Write a decorator hello that makes every wrapped function print “Hello!”, i.e. something like:\n",
    "\n",
    "@hello\n",
    "def square(x):\n",
    "    return x*x\n",
    "\n",
    "\"\"\"\n",
    "#Functions and methods are called callable as they can be called.\n",
    "#A decorator in Python is any callable Python object that is used to modify a function or a class. \n",
    "#Basically, a decorator takes in a function, adds some functionality and returns it.\n",
    "#The decorator function added some new functionality to the original function. \n",
    "#This is similar to packing a gift. The decorator acts as a wrapper. \n",
    "#The nature of the object that got decorated (actual gift inside) does not alter. \n",
    "\n",
    "def hello(func):\n",
    "    def wrapper(x):\n",
    "        print(\"hello\")\n",
    "    return wrapper\n",
    "\n",
    "\n",
    "def make_pretty(func):\n",
    "    def inner():\n",
    "        print(\"I got decorated\")\n",
    "        func()\n",
    "    return inner\n",
    "\n",
    "def ordinary():\n",
    "    print(\"I am ordinary\")\n",
    "\n",
    "pretty = make_pretty(ordinary)   #decorate this ordinary function\n",
    "pretty() "
   ]
  },
  {
   "cell_type": "markdown",
   "metadata": {},
   "source": [
    "4. Write the factorial function so that it a) does and b) does not use recursion."
   ]
  },
  {
   "cell_type": "code",
   "execution_count": null,
   "metadata": {},
   "outputs": [],
   "source": [
    "#Recursion is the process of defining something in terms of itself.\n",
    "#A physical world example would be to place two parallel mirrors facing each other. \n",
    "#Any object in between them would be reflected recursively.\n",
    "\n",
    "#A function can call other functions. It is even possible for the function to call itself. \n",
    "# These types of construct are termed as recursive functions.\n",
    "\n",
    "def factorialA(x):\n",
    "    if x==0:\n",
    "        return 1\n",
    "    else:\n",
    "        return x*factorialA(x-1)\n",
    "print(factorialA(5))\n",
    "\n",
    "print(\"-------------------\")\n",
    "\n",
    "\n",
    "def factorialB(n):\n",
    "    fact = 1\n",
    "    for num in range(2, n + 1):\n",
    "        fact *= num\n",
    "    return fact\n",
    "print(factorialB(5))\n",
    "\n",
    "#BUT \n",
    "# Recursive calls are expensive (inefficient) as they take up a lot of memory and time."
   ]
  },
  {
   "cell_type": "markdown",
   "metadata": {},
   "source": [
    "5. Use HOFs (zip in particular) to compute the weight of a circle, a disk and a sphere, assuming different radii and different densities:\n",
    "densities = {\"Al\":[0.5,1,2],\"Fe\":[3,4,5],\"Pb\": [15,20,30]}\n",
    "radii = [1,2,3]\n",
    "\n",
    "where the entries of the dictionary's values are the linear, superficial and volumetric densities of the materials respectively.\n",
    "\n",
    "In particular define a list of three lambda functions using a comprehension that computes the circumference, the area and the volume for a given radius."
   ]
  },
  {
   "cell_type": "markdown",
   "metadata": {},
   "source": [
    "6. Edit the class defintion to add an instance attribute of is_hungry = True to the Dog class. Then add a method called eat() which changes the value of is_hungry to False when called. Figure out the best way to feed each dog and then output “My dogs are hungry.” if all are hungry or “My dogs are not hungry.” if all are not hungry. The final output should look like this:\n",
    "\n",
    "I have 3 dogs. \n",
    "Tom is 6. \n",
    "Fletcher is 7. \n",
    "Larry is 9. \n",
    "And they're all mammals, of course. \n",
    "My dogs are not hungry."
   ]
  },
  {
   "cell_type": "code",
   "execution_count": null,
   "metadata": {},
   "outputs": [],
   "source": [
    "# Parent class\n",
    "class Pets:\n",
    "     dogs = []\n",
    "     def __init__(self, dogs):\n",
    "         self.dogs = dogs\n",
    "\n",
    "\n",
    " # Parent class\n",
    "class Dog:\n",
    "\n",
    "    # Class attribute\n",
    "    species = 'mammal'\n",
    "\n",
    "    # Initializer / Instance attributes\n",
    "    def __init__(self, name, age):\n",
    "        self.name = name\n",
    "        self.age = age\n",
    "        self.is_hungry = True \n",
    "\n",
    "               # Instance method\n",
    "    def eat(self):\n",
    "        self.is_hungry = False\n",
    "\n",
    "    # Instance method\n",
    "    def description(self):\n",
    "        return \"{} is {} years old\".format(self.name, self.age)\n",
    "\n",
    "    # Instance method\n",
    "    def speak(self, sound):\n",
    "        return \"{} says {}\".format(self.name, sound)\n",
    "\n",
    "  \n",
    "# Child class (inherits from Dog class)\n",
    "class RussellTerrier(Dog):\n",
    "    def run(self, speed):\n",
    "        return \"{} runs {}\".format(self.name, speed)\n",
    "\n",
    "\n",
    "# Child class (inherits from Dog class)\n",
    "class Bulldog(Dog):\n",
    "    def run(self, speed):\n",
    "        return \"{} runs {}\".format(self.name, speed)\n",
    "\n",
    "dog_list = [Bulldog(\"Tom\", 6), RussellTerrier(\"Fletcher\", 7), Dog(\"Larry\", 9)]\n",
    "\n",
    "Pets = Pets(dog_list)\n",
    "\n",
    "print(\"I have {} dogs.\".format(len(Pets.dogs)))\n",
    "for dog in Pets.dogs:\n",
    "    dog.eat()\n",
    "    print(\"{} is {}.\".format(dog.name, dog.age))\n",
    "\n",
    "print(\"And they're all {}s, of course.\".format(dog.species))\n",
    "\n",
    "hungry = False\n",
    "for dog in Pets.dogs:\n",
    "    if dog.is_hungry:\n",
    "        hungry = True\n",
    "\n",
    "if hungry:\n",
    "    print(\"My dogs are hungry.\")\n",
    "else:\n",
    "    print(\"My dogs are not hungry.\")"
   ]
  }
 ],
 "metadata": {
  "kernelspec": {
   "display_name": "Python 3",
   "language": "python",
   "name": "python3"
  },
  "language_info": {
   "codemirror_mode": {
    "name": "ipython",
    "version": 3
   },
   "file_extension": ".py",
   "mimetype": "text/x-python",
   "name": "python",
   "nbconvert_exporter": "python",
   "pygments_lexer": "ipython3",
   "version": "3.8.5"
  }
 },
 "nbformat": 4,
 "nbformat_minor": 4
}
