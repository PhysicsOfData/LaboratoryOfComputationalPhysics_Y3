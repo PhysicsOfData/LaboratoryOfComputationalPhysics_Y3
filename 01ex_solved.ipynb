{
 "cells": [
  {
   "cell_type": "markdown",
   "metadata": {},
   "source": [
    "1\\. Write the following as a list comprehension"
   ]
  },
  {
   "cell_type": "code",
   "execution_count": 15,
   "metadata": {},
   "outputs": [
    {
     "name": "stdout",
     "output_type": "stream",
     "text": [
      "[(0, 0), (0, 1), (0, 2), (0, 3), (1, 0), (1, 1), (1, 2), (1, 3), (2, 0), (2, 1), (2, 2), (2, 3)]\n",
      "[0, 4, 16]\n"
     ]
    }
   ],
   "source": [
    "# 1\n",
    "ans = []\n",
    "for i in range(3):\n",
    "    for j in range(4):\n",
    "        ans.append((i, j))\n",
    "print (ans)\n",
    "\n",
    "# 2\n",
    "ans = map(lambda x: x*x, filter(lambda x: x%2 == 0, range(5)))\n",
    "print (list(ans))\n"
   ]
  },
  {
   "cell_type": "code",
   "execution_count": 16,
   "metadata": {},
   "outputs": [
    {
     "name": "stdout",
     "output_type": "stream",
     "text": [
      "[(0, 0), (0, 1), (0, 2), (0, 3), (1, 0), (1, 1), (1, 2), (1, 3), (2, 0), (2, 1), (2, 2), (2, 3)]\n"
     ]
    }
   ],
   "source": [
    "X = [(i,j) for i in range(3) for j in range(4)]\n",
    "print(X)"
   ]
  },
  {
   "cell_type": "code",
   "execution_count": 22,
   "metadata": {},
   "outputs": [
    {
     "name": "stdout",
     "output_type": "stream",
     "text": [
      "[0, 4, 16]\n"
     ]
    }
   ],
   "source": [
    "X=[i**2 for i in range(5) if i%2 == 0]\n",
    "print(X)"
   ]
  },
  {
   "cell_type": "markdown",
   "metadata": {},
   "source": [
    "2\\. Convert the following function into a pure function with no global variables or side effects"
   ]
  },
  {
   "cell_type": "code",
   "execution_count": 180,
   "metadata": {},
   "outputs": [
    {
     "name": "stdout",
     "output_type": "stream",
     "text": [
      "[1, 2, 3, 0, 1, 2, 3, 4]\n",
      "[1, 2, 3, 0, 1, 2, 3, 4]\n"
     ]
    }
   ],
   "source": [
    "x = 5\n",
    "def f(alist):\n",
    "    for i in range(x):\n",
    "         alist.append(i)\n",
    "    return alist\n",
    "\n",
    "alist = [1,2,3]\n",
    "ans = f(alist)\n",
    "print (ans)\n",
    "print (alist) # alist has been changed!"
   ]
  },
  {
   "cell_type": "code",
   "execution_count": 179,
   "metadata": {},
   "outputs": [
    {
     "name": "stdout",
     "output_type": "stream",
     "text": [
      "[1, 2, 3]\n",
      "[1, 2, 3, 0, 1, 2, 3, 4]\n"
     ]
    }
   ],
   "source": [
    "x = 5\n",
    "def f(alist):\n",
    "    return alist+[i for i in range(x)]\n",
    "\n",
    "alist = [1,2,3]\n",
    "ans = f(alist)\n",
    "print (alist)\n",
    "print (ans)"
   ]
  },
  {
   "cell_type": "markdown",
   "metadata": {},
   "source": [
    "3\\. Write a `decorator` hello that makes every wrapped function print “Hello!”, i.e. something like:\n",
    "\n",
    "```python\n",
    "@hello\n",
    "def square(x):\n",
    "    return x*x\n",
    "```"
   ]
  },
  {
   "cell_type": "code",
   "execution_count": 1,
   "metadata": {},
   "outputs": [],
   "source": [
    "def hello(func):\n",
    "    def wrapper(*args, **kwargs):\n",
    "        print('Hello!')\n",
    "        return func(*args, **kwargs)\n",
    "    return wrapper\n",
    "\n",
    "@hello\n",
    "def square(x):\n",
    "    return x*x"
   ]
  },
  {
   "cell_type": "code",
   "execution_count": 2,
   "metadata": {},
   "outputs": [
    {
     "name": "stdout",
     "output_type": "stream",
     "text": [
      "Hello!\n"
     ]
    },
    {
     "data": {
      "text/plain": [
       "25"
      ]
     },
     "execution_count": 2,
     "metadata": {},
     "output_type": "execute_result"
    }
   ],
   "source": [
    "square(5)"
   ]
  },
  {
   "cell_type": "markdown",
   "metadata": {},
   "source": [
    "4\\. Write the factorial function so that it a) does and b) does not use recursion."
   ]
  },
  {
   "cell_type": "code",
   "execution_count": 3,
   "metadata": {},
   "outputs": [
    {
     "name": "stdout",
     "output_type": "stream",
     "text": [
      "720\n"
     ]
    }
   ],
   "source": [
    "x=6\n",
    "def factorial(x):\n",
    "    if x==0:\n",
    "        return 1\n",
    "    else:\n",
    "        return x*factorial(x-1)\n",
    "\n",
    "fact=factorial(x)\n",
    "print(fact)"
   ]
  },
  {
   "cell_type": "code",
   "execution_count": 4,
   "metadata": {},
   "outputs": [
    {
     "name": "stdout",
     "output_type": "stream",
     "text": [
      "24\n"
     ]
    }
   ],
   "source": [
    "x=4\n",
    "def factorial(x):\n",
    "    global ans\n",
    "    ans=1\n",
    "    for j in range(x):\n",
    "        ans=(j+1)*ans\n",
    "    return ans\n",
    "\n",
    "factorial(x)\n",
    "print(ans)"
   ]
  },
  {
   "cell_type": "markdown",
   "metadata": {},
   "source": [
    "5\\. Use HOFs (zip in particular) to compute the weight of a circle, a disk and a sphere, assuming different radii and different densities:\n",
    "\n",
    "```python\n",
    "densities = {\"Al\":[0.5,1,2],\"Fe\":[3,4,5],\"Pb\": [15,20,30]}\n",
    "radii = [1,2,3]\n",
    "```\n",
    "\n",
    "where the entries of the dictionary's values are the linear, superficial and volumetric densities of the materials respectively.\n",
    "\n",
    "In particular define a list of three lambda functions using a comprehension that computes the circumference, the area and the volume for a given radius.\n"
   ]
  },
  {
   "cell_type": "code",
   "execution_count": 6,
   "metadata": {},
   "outputs": [
    {
     "name": "stdout",
     "output_type": "stream",
     "text": [
      "Material: Al\n",
      "Radius is:  1\n",
      "The weight of a  circle  is  3.14\n",
      "The weight of a  disk    is  12.56\n",
      "The weight of a  sphere  is  8.373333333333333\n",
      "Radius is:  2\n",
      "The weight of a  circle  is  6.28\n",
      "The weight of a  disk    is  50.24\n",
      "The weight of a  sphere  is  66.98666666666666\n",
      "Radius is:  3\n",
      "The weight of a  circle  is  9.42\n",
      "The weight of a  disk    is  113.04\n",
      "The weight of a  sphere  is  226.07999999999998\n",
      "----------------------------------------------------------\n",
      "Material: Fe\n",
      "Radius is:  1\n",
      "The weight of a  circle  is  18.84\n",
      "The weight of a  disk    is  50.24\n",
      "The weight of a  sphere  is  20.933333333333334\n",
      "Radius is:  2\n",
      "The weight of a  circle  is  37.68\n",
      "The weight of a  disk    is  200.96\n",
      "The weight of a  sphere  is  167.46666666666667\n",
      "Radius is:  3\n",
      "The weight of a  circle  is  56.519999999999996\n",
      "The weight of a  disk    is  452.16\n",
      "The weight of a  sphere  is  565.1999999999999\n",
      "----------------------------------------------------------\n",
      "Material: Pb\n",
      "Radius is:  1\n",
      "The weight of a  circle  is  94.2\n",
      "The weight of a  disk    is  251.20000000000002\n",
      "The weight of a  sphere  is  125.6\n",
      "Radius is:  2\n",
      "The weight of a  circle  is  188.4\n",
      "The weight of a  disk    is  1004.8000000000001\n",
      "The weight of a  sphere  is  1004.8\n",
      "Radius is:  3\n",
      "The weight of a  circle  is  282.6\n",
      "The weight of a  disk    is  2260.8\n",
      "The weight of a  sphere  is  3391.2\n",
      "----------------------------------------------------------\n"
     ]
    }
   ],
   "source": [
    "import math as m\n",
    "\n",
    "densities = {\"Al\":[0.5,1,2],\"Fe\":[3,4,5],\"Pb\": [15,20,30]}\n",
    "radii=[1,2,3]\n",
    "\n",
    "#########################\n",
    "def getList(densities): \n",
    "    return list(densities.keys())\n",
    "      \n",
    "key=getList(densities)\n",
    "#this function is copied by the web\n",
    "#########################\n",
    "\n",
    "nvol=[lambda x: 2*(3.14)*x, lambda x: 4*(3.14)*(x**2), lambda x: (4/3)*(3.14)*(x**3)]\n",
    "nlabl=['circle','disk  ','sphere']\n",
    "\n",
    "#the only zippable things are the element of nvol and the values of densities of a given element\n",
    "#the number of radii and of the element must be remain independent\n",
    "for j in range(len(densities)):\n",
    "    print('Material:',key[j])\n",
    "    for i in range(len(radii)):\n",
    "        print('Radius is: ', radii[i])\n",
    "        densgivemat=densities[key[j]]\n",
    "        for x,y,k in zip(densgivemat,nvol,nlabl):\n",
    "            m=x*y(radii[i])\n",
    "            print('The weight of a ',k,' is ',m)\n",
    "    print('----------------------------------------------------------') "
   ]
  },
  {
   "cell_type": "markdown",
   "metadata": {},
   "source": [
    "6\\. Edit the class defintion to add an instance attribute of is_hungry = True to the Dog class. Then add a method called eat() which changes the value of is_hungry to False when called. Figure out the best way to feed each dog and then output “My dogs are hungry.” if all are hungry or “My dogs are not hungry.” if all are not hungry. The final output should look like this:\n",
    "\n",
    "`I have 3 dogs. \n",
    "Tom is 6. \n",
    "Fletcher is 7. \n",
    "Larry is 9. \n",
    "And they're all mammals, of course. \n",
    "My dogs are not hungry.\n",
    "`\n",
    "\n",
    "```python\n",
    "# Parent class\n",
    "class Dog:\n",
    "\n",
    "    # Class attribute\n",
    "    species = 'mammal'\n",
    "\n",
    "    # Initializer / Instance attributes\n",
    "    def __init__(self, name, age):\n",
    "        self.name = name\n",
    "        self.age = age\n",
    "\n",
    "    # instance method\n",
    "    def description(self):\n",
    "        return \"{} is {} years old\".format(self.name, self.age)\n",
    "\n",
    "    # instance method\n",
    "    def speak(self, sound):\n",
    "        return \"{} says {}\".format(self.name, sound)\n",
    "\n",
    "# Child class (inherits from Dog class)\n",
    "class RussellTerrier(Dog):\n",
    "    def run(self, speed):\n",
    "        return \"{} runs {}\".format(self.name, speed)\n",
    "\n",
    "# Child class (inherits from Dog class)\n",
    "class Bulldog(Dog):\n",
    "    def run(self, speed):\n",
    "        return \"{} runs {}\".format(self.name, speed)\n"
   ]
  },
  {
   "cell_type": "code",
   "execution_count": 99,
   "metadata": {},
   "outputs": [
    {
     "name": "stdout",
     "output_type": "stream",
     "text": [
      "I have  3  dogs.\n",
      "Tobia is 10.\n",
      "Pluto is 4.\n",
      "Rex is 3.\n",
      "And they're all mammals, of course.\n",
      "My dogs are not hungry.\n"
     ]
    }
   ],
   "source": [
    "puppies=[Dog(\"Tobia\",10,\"hungry\"), Dog(\"Pluto\",4,\"hungry\"), Dog(\"Rex\",3,\"hungry\")]  \n",
    "\n",
    "# Parent class\n",
    "class Dog:\n",
    "\n",
    "    # Class attribute\n",
    "    species = 'mammal'\n",
    "\n",
    "    # Initializer / Instance attributes\n",
    "    def __init__(self, name, age, hungry):\n",
    "        self.name = name\n",
    "        self.age = age\n",
    "        self.hungry = hungry\n",
    "\n",
    "    # instance method\n",
    "    def description(self):\n",
    "        return \"{} is {}.\".format(self.name, self.age)\n",
    "    \n",
    "    #added instance method\n",
    "    def eat(self):\n",
    "        if self.hungry==\"hungry\":\n",
    "            self.hungry=\"not hungry\" \n",
    "        return self.hungry\n",
    "    \n",
    "#output----------------------------------\n",
    "lp=len(puppies)\n",
    "print('I have ',lp,' dogs.')\n",
    "m=[]\n",
    "for i in range(lp): \n",
    "    print(puppies[i].description())\n",
    "    if puppies[i].species=='mammal':\n",
    "        m.append(1)        \n",
    "if m==[1 for i in range(lp)]: print('And they\\'re all mammals, of course.')\n",
    "\n",
    "m=[]\n",
    "for i in range(lp):\n",
    "    puppies[i].eat()\n",
    "    if puppies[i].hungry=='not hungry':\n",
    "        m.append(1)\n",
    "if m==[1 for i in range(lp)]: print('My dogs are not hungry.')\n"
   ]
  },
  {
   "cell_type": "code",
   "execution_count": null,
   "metadata": {},
   "outputs": [],
   "source": []
  }
 ],
 "metadata": {
  "kernelspec": {
   "display_name": "Python 3",
   "language": "python",
   "name": "python3"
  },
  "language_info": {
   "codemirror_mode": {
    "name": "ipython",
    "version": 3
   },
   "file_extension": ".py",
   "mimetype": "text/x-python",
   "name": "python",
   "nbconvert_exporter": "python",
   "pygments_lexer": "ipython3",
   "version": "3.8.5"
  }
 },
 "nbformat": 4,
 "nbformat_minor": 2
}
