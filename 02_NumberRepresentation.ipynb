{
 "cells": [
  {
   "cell_type": "markdown",
   "metadata": {},
   "source": [
    "# Integers\n",
    "\n",
    "Integrers number are represented by N bits words. Python 3 allows you to store integers with practically unlimited precision, the only limitation comes from the (contiguos) space available in memory.\n",
    "In python 2, N depends on the PC architercture, N=64 in modern computers.\n",
    "\n",
    "Typically 1 bit is dedicated to specifying the sign of the number, thus the conversion between binary and decimal representation is:\n",
    "\n",
    "$$d = (-1)^j\\sum_{i=0}^{N-1} \\alpha_i ~ 2^i$$\n",
    "\n",
    "where $\\alpha_i$ are either 0 or 1. \n",
    "$b=\\alpha_{N-1}\\alpha_{N-2}..\\alpha_0$ is the binary representation of the number."
   ]
  },
  {
   "cell_type": "code",
   "execution_count": null,
   "metadata": {},
   "outputs": [],
   "source": [
    "import sys\n",
    "print (sys.maxsize)\n",
    "\n",
    "# check \n",
    "print (2**63-1 == sys.maxsize)\n",
    "\n",
    "# python 3 doesn't have a limit for integers\n",
    "print (sys.maxsize+1)"
   ]
  },
  {
   "cell_type": "markdown",
   "metadata": {},
   "source": [
    "incidentally note that python 3 recast int to floats when dividing them with `/`. To keep the old functionality of `/`, use instead `//`"
   ]
  },
  {
   "cell_type": "code",
   "execution_count": null,
   "metadata": {},
   "outputs": [],
   "source": [
    "print (2/3)\n",
    "print (2//3)"
   ]
  },
  {
   "cell_type": "markdown",
   "metadata": {},
   "source": [
    "## Binary and Hexadecimal representations\n",
    "\n",
    "numbers values (in python as all the other languages) are assumed to be expressed as decimal. Built-in functions allows explicitly to convert from one representation to another.  "
   ]
  },
  {
   "cell_type": "code",
   "execution_count": null,
   "metadata": {},
   "outputs": [],
   "source": [
    "# an integer in decimal representation\n",
    "a=18\n",
    "\n",
    "# its binary representation\n",
    "a_bin = bin(a)\n",
    "print('Binary representation of',a,':', a_bin)\n",
    "\n",
    "# its hexadecimal representation\n",
    "a_hex = hex(a)\n",
    "print('Hexadecimal representation of',a,':', a_hex)\n",
    "\n",
    "# converting back to integer\n",
    "print('Decimal representation of',a_bin,':', int(a_bin,2))\n",
    "print('Decimal representation of',a_hex,':', int(a_hex,16))\n",
    "\n"
   ]
  },
  {
   "cell_type": "markdown",
   "metadata": {},
   "source": [
    "## Bitwise operators"
   ]
  },
  {
   "cell_type": "markdown",
   "metadata": {},
   "source": [
    "### Logical operators"
   ]
  },
  {
   "cell_type": "code",
   "execution_count": null,
   "metadata": {},
   "outputs": [],
   "source": [
    "a = 60            # 60 = 0011 1100 \n",
    "b = 13            # 13 = 0000 1101 \n",
    "\n",
    "c = a & b;        # 12 = 0000 1100\n",
    "print (\"Logical AND \", c)\n",
    "\n",
    "c = a | b;        # 61 = 0011 1101 \n",
    "print (\"Logical OR \", c)\n",
    "\n",
    "c = a ^ b;        # 49 = 0011 0001\n",
    "print (\"Logical XOR \", c)"
   ]
  },
  {
   "cell_type": "markdown",
   "metadata": {},
   "source": [
    "### Unary operators"
   ]
  },
  {
   "cell_type": "code",
   "execution_count": null,
   "metadata": {},
   "outputs": [],
   "source": [
    "c = ~a;           # -61 = 1100 0011\n",
    "print (\"Negation of a  \", c)"
   ]
  },
  {
   "cell_type": "markdown",
   "metadata": {},
   "source": [
    "### Masks and shifts"
   ]
  },
  {
   "cell_type": "code",
   "execution_count": null,
   "metadata": {},
   "outputs": [],
   "source": [
    "c = a << 2;       # 240 = 1111 0000\n",
    "print (\"Left shift (towards most significant) of two positions \", c)\n",
    "\n",
    "c = a >> 2;       # 15 = 0000 1111\n",
    "print (\"Right shift (towards least significant) of two positions \", c)"
   ]
  },
  {
   "cell_type": "markdown",
   "metadata": {},
   "source": [
    "# Floating point numbers\n",
    "\n",
    "non-integer number cannot be represent with infinite precision on a computer. Single (also known as *float*) and double precision numbers are assigned 32 and 64 bits respectively. \n",
    "Note that all floating point numbers in python are double precision (64 bits).\n",
    "A standard has been developed by IEEE such that the relative precision (see later) is the same in the whole validity range.\n",
    "\n",
    "The 32 or 64 bits are divided among 3 quantities uniquely characterizing the number:\n",
    "\n",
    "$x_{float} = (-1)^s \\times 1.f \\times 2^{e-bias}$\n",
    "\n",
    "where *s* is the sign, *f* the fractional part of the mantissa and *e* the exponent. In order to get numbers smaller than 1, a constant *bias* term is added to the exponent, such *bias* is typically equal to half of the max value of *e*.\n",
    "The mantissa is defined as:\n",
    "\n",
    "${\\rm mantissa}=1.f=1+m_{n-1}2^{-1}+m_{n-2}2^{-2}+..+m_{0}2^{-n}$\n",
    "\n",
    "where $n$ is the number of bits dedicated to *f* (see below) and $m_i$ are the binary coefficients. \n",
    "\n",
    "Numbers exceeding the maximum allowed value are *overflows* and the calculations involving them provide incorrect answers. Numbers smaller in absolute value than the minimum allowed value are *underflows* and simply set to zero, also in this case incorrect results are yielded.  "
   ]
  },
  {
   "cell_type": "markdown",
   "metadata": {},
   "source": [
    "### Single\n",
    "\n",
    "For single precision floating point numbers, $0\\le e \\le 255$ and $bias=127$. Bits are arranged as follows:\n",
    "\n",
    "|   | *s* | *e* | *f* |\n",
    "|---|---|---|---|\n",
    "| Bit position | 31 | 30-23 | 22-0 |\n",
    "\n",
    "Special values are also possibiles. N.B.: those are not numbers that can be used in the mathematical sense!\n",
    "\n",
    "|   |  conditions | value |\n",
    "|---|---|---|\n",
    "|  $+\\infty$ | s=0, e=255, f=0 | +INF  |\n",
    "|  $-\\infty$ | s=1, e=255, f=0 | +INF  |\n",
    "|  not a number | e=255, f>0  | NaN  |\n",
    "\n",
    "The largest value is obtained for $f\\sim 2$ and $e=254$, i.e. $2\\times2^{127}\\sim 3.4\\times10^{38}$.\n",
    "\n",
    "The value closest to zero is obtained instead for $f=2^{-23}$ and $e=0$, i.e. $2^{-149}\\sim 1.4\\times10^{-45}$.\n",
    "\n",
    "An example is given below:"
   ]
  },
  {
   "cell_type": "code",
   "execution_count": 1,
   "metadata": {},
   "outputs": [
    {
     "output_type": "execute_result",
     "data": {
      "text/html": "<img src=\"http://www.dspguide.com/graphics/F_4_2.gif\"/>",
      "text/plain": [
       "<IPython.core.display.Image object>"
      ]
     },
     "metadata": {},
     "execution_count": 1
    }
   ],
   "source": [
    "from IPython.display import Image\n",
    "Image(url='http://www.dspguide.com/graphics/F_4_2.gif')"
   ]
  },
  {
   "cell_type": "markdown",
   "metadata": {},
   "source": [
    "### Double\n",
    "\n",
    "For double precision floating point numbers, $0\\le e \\le 2047$ and $bias=1023$. Bits are arranged as follows:\n",
    "\n",
    "|   | *s* | *e* | *f* |\n",
    "|---|---|---|---|\n",
    "| Bit position | 63 | 62-52 | 51-0 |\n",
    "\n",
    "Special values are also possibiles. N.B.: those are not numbers that can be used in the mathematical sense!\n",
    "\n",
    "|   |  conditions | value |\n",
    "|---|---|---|\n",
    "|  $+\\infty$ | s=0, e=2047, f=0 | +INF  |\n",
    "|  $-\\infty$ | s=1, e=2047, f=0 | +INF  |\n",
    "|  not a number | e=2047, f>0  | NaN  |\n",
    "\n",
    "The validity range for double numbers is $2.2^{-308} - 1.8^{308}$\n",
    "\n",
    "Serious scientific calculations almost always requires at least double precision floating point numbers"
   ]
  },
  {
   "cell_type": "markdown",
   "metadata": {},
   "source": [
    "### Floating point numbers on your system\n",
    "\n",
    "Information about the floating point reresentation on your system can be obtained from sys.float_info. Definitions of the stored values are given on the python doc [page](https://docs.python.org/2/library/sys.html#sys.float_info)"
   ]
  },
  {
   "cell_type": "code",
   "execution_count": null,
   "metadata": {},
   "outputs": [],
   "source": [
    "import sys\n",
    "print (sys.float_info)"
   ]
  },
  {
   "cell_type": "markdown",
   "metadata": {},
   "source": [
    "# Accuracy and the perils of calculations with floats\n",
    "\n",
    "\n",
    "Floats can only have a limited number of meaningful decimal places, on the basis of how many bits are allocated for the fractional part of the mantissa: 6-7 decimal places for singles, 15-16 for doubles. In particular this means that calculations involving numbers with more than those decimal places involved do not yield the correct result, simply because the binary representation of those numbers could not store them properly."
   ]
  },
  {
   "cell_type": "code",
   "execution_count": 2,
   "metadata": {},
   "outputs": [
    {
     "output_type": "stream",
     "name": "stdout",
     "text": [
      "7.00000000000001\n7.000000000000001\n7.0\n"
     ]
    }
   ],
   "source": [
    "for e in [14,15,16]: print (7+1.0*10**-e)"
   ]
  },
  {
   "cell_type": "markdown",
   "metadata": {},
   "source": [
    "It should never been forgotten that computers store numbers in binary format. In the same way it is not possible to express the fraction 1/3 with a finite decimal places, analogously fraction well represented in the decimal base cannot be represented in binary, e.g. 1/10 is the infinitely repeating number:\n",
    "\n",
    "$0.0001100110011001100110011001100110011001100110011...$\n",
    "\n",
    "corresponding to $3602879701896397/2^{55}$ which is close to but not exactly equal to the true value of 1/10 (even though it is even printed to be like that!!.\n",
    "Similarly 0.1 is not 1/10, and making calculations assuming that exactly typically yield to wrong results:"
   ]
  },
  {
   "cell_type": "code",
   "execution_count": 3,
   "metadata": {},
   "outputs": [
    {
     "output_type": "stream",
     "name": "stdout",
     "text": [
      "0.1\n"
     ]
    },
    {
     "output_type": "execute_result",
     "data": {
      "text/plain": [
       "False"
      ]
     },
     "metadata": {},
     "execution_count": 3
    }
   ],
   "source": [
    "# is 1/10 the same of 0.1?\n",
    "print (1/10)\n",
    "\n",
    "# but then whatch out!!\n",
    "0.1 + 0.1 + 0.1 == 0.3\n"
   ]
  },
  {
   "cell_type": "markdown",
   "metadata": {},
   "source": [
    "A lesson of paramount importance is that you must never compare floating point numbers with the \"==\" operator as **what is printed is not what is stored**!!\n",
    "\n",
    "The function ```float.hex()``` yield the exact value stored for a floating point number:"
   ]
  },
  {
   "cell_type": "code",
   "execution_count": 4,
   "metadata": {},
   "outputs": [
    {
     "output_type": "stream",
     "name": "stdout",
     "text": [
      "3.141592653589793\n0x1.921fb54442d18p+1\n"
     ]
    }
   ],
   "source": [
    "import math\n",
    "x=math.pi\n",
    "print (x)\n",
    "print (x.hex())"
   ]
  },
  {
   "cell_type": "markdown",
   "metadata": {},
   "source": [
    "There are ways to print floats (e.g. filling data into an output file) controlling the number of decimals:"
   ]
  },
  {
   "cell_type": "code",
   "execution_count": 7,
   "metadata": {},
   "outputs": [
    {
     "output_type": "stream",
     "name": "stdout",
     "text": [
      "3.1415926535898\n1.00000000000000022\n"
     ]
    }
   ],
   "source": [
    "print (format(math.pi, '.13f'))  # give 13 significant digits\n",
    "\n",
    "print ('%.17f' % (0.1 * 0.1 * 100)) # give 15 significant digits\n",
    "\n",
    "# now repeat trying with >15 digits!\n"
   ]
  },
  {
   "cell_type": "markdown",
   "metadata": {},
   "source": [
    "There is no bug here, this is simply due to the fact that the mantissa is represented by a limited amount of bits, therefore calculations can only make sense if a corresponding number of decimal digits are concerned:"
   ]
  },
  {
   "cell_type": "code",
   "execution_count": 8,
   "metadata": {},
   "outputs": [
    {
     "output_type": "stream",
     "name": "stdout",
     "text": [
      "1.1920928955078125e-07\n1.1102230246251565e-16\n"
     ]
    }
   ],
   "source": [
    "# 23 bits are used for f in single precision floating points \n",
    "print (2**-23)\n",
    "\n",
    "# 53 bits are used for f in single precision floating points \n",
    "print (2**-53)"
   ]
  },
  {
   "cell_type": "markdown",
   "metadata": {},
   "source": [
    "A typical case is subtraction of numbers very close by in value (e.g. when dealing with spectral frequencies). The same happens with functions evaluated near critical points (see later)"
   ]
  },
  {
   "cell_type": "code",
   "execution_count": 9,
   "metadata": {},
   "outputs": [
    {
     "output_type": "execute_result",
     "data": {
      "text/plain": [
       "0.0"
      ]
     },
     "metadata": {},
     "execution_count": 9
    }
   ],
   "source": [
    "1 + 6.022e23 - 6.022e23"
   ]
  },
  {
   "cell_type": "markdown",
   "metadata": {},
   "source": [
    "Associative law does not necessarily hold:"
   ]
  },
  {
   "cell_type": "code",
   "execution_count": 10,
   "metadata": {},
   "outputs": [
    {
     "output_type": "stream",
     "name": "stdout",
     "text": [
      "1.0\n0.0\n"
     ]
    }
   ],
   "source": [
    "print (6.022e23 - 6.022e23 + 1)\n",
    "print (1 + 6.022e23 - 6.022e23)\n"
   ]
  },
  {
   "cell_type": "markdown",
   "metadata": {},
   "source": [
    "Distributive law does not hold"
   ]
  },
  {
   "cell_type": "code",
   "execution_count": 11,
   "metadata": {},
   "outputs": [
    {
     "output_type": "execute_result",
     "data": {
      "text/plain": [
       "False"
      ]
     },
     "metadata": {},
     "execution_count": 11
    }
   ],
   "source": [
    "import math\n",
    "a = math.exp(1);\n",
    "b = math.pi;\n",
    "c = math.sin(1);\n",
    "a*(b+c) == a*b+a*c"
   ]
  },
  {
   "cell_type": "code",
   "execution_count": 12,
   "metadata": {},
   "outputs": [
    {
     "output_type": "stream",
     "name": "stdout",
     "text": [
      "0.0\n-1038.042450010553\n"
     ]
    }
   ],
   "source": [
    "# (we'll see numpy soon, bear with me for the moment)\n",
    "\n",
    "# loss of precision can be a problem when calculating likelihoods\n",
    "import numpy as np\n",
    "probs = np.random.random(1000)\n",
    "print (np.prod(probs))\n",
    "\n",
    "# when multiplying lots of small numbers, work in log space\n",
    "print (np.sum(np.log(probs)))"
   ]
  },
  {
   "cell_type": "markdown",
   "metadata": {},
   "source": [
    "## From numbers to Functions: Stability and conditioning\n",
    "\n",
    "\n",
    "Suppose we have a computer algorithm $g(x)$ that represents the mathematical function $f(x)$. $g(x)$ is stable if for some small perturbation $\\epsilon$, $g(x+\\epsilon)\\simeq f(x)$\n",
    "\n",
    "A mathematical function $f(x)$ is well-conditioned if $f(x+\\epsilon)\\simeq f(x)$ for all small perturbations $\\epsilon$.\n",
    "\n",
<<<<<<< Updated upstream
    "That is, the functionf(x) is **well-conditioned** if the solution varies gradually as problem varies. For a well-conditinoed function, all small pertubations have small effects. However, a poorly-conditioned problem only needs some small perturbation to have large effects. For example, inverting a nearly singluar matrix is a poorly conditioned problem.\n",
    "\n",
    "A numerical algorithm $g(x)$ is numerically-stable if $g(x)\\simeq f(x′)$ for some $x′\\simeq x$. Note that stability is a property that relates the algorithm $g(x)$ to the problem $f(x)$.\n",
    "\n",
    "That is, the algorithm $g(x)$ is **numerically stable** if it gives nearly the right answer to nearly the right question. Numerically unstable algorithms tend to amplify approximation errors due to computer arithmetic over time. If we used an infinite precision numerical system, stable and unstable alorithms would have the same accuracy. However, as we have seen (e.g. variance calculation), when using floating point numbers, algebrically equivalent algorithms can give different results.\n",
    "\n",
    "In general, we need both a well-conditioned problem and numerical stabilty of the algorihtm to reliably accurate answers. In this case, we can be sure that $g(x)\\simeq f(x)$.\n",
=======
    "That is, the function f(x) is **well-conditioned** if the solution varies gradually as problem varies. For a well-conditinoed function, all small perutbations have small effects. However, a poorly-conditioned problem only needs some small perturbations to have large effects. For example, inverting a nearly singular matrix is a poorly conditioned problem.\n",
    "\n",
    "A numerical algorithm $g(x)$ is numerically-stable if $g(x)\\simeq f(x′)$ for some $x′\\simeq x$. Note that stability is a property that relates the algorithm $g(x)$ to the problem $f(x)$.\n",
    "\n",
    "That is, the algorithm $g(x)$ is **numerically stable** if it gives nearly the right answer to nearly the right question. Numerically unstable algorithms tend to amplify approximation errors due to computer arithmetic over time. If we used an infinite precision numerical system, stable and unstable alorithms would have the same accuracy. However, as we have seen (e.g. variance calculation), when using floating point numbers, algebrically equivaelent algorithms can give different results.\n",
    "\n",
    "In general, we need both a well-conditioned problem and numerical stabilty of the algorithm to reliably accurate answers. In this case, we can be sure that $g(x)\\simeq f(x)$.\n",
>>>>>>> Stashed changes
    "\n",
    "In most of the cases, the solution to stability issues is properly redefing the function as in the example above with the likelihood. More examples follow  "
   ]
  },
  {
   "cell_type": "code",
   "execution_count": 13,
   "metadata": {},
   "outputs": [
    {
     "output_type": "stream",
     "name": "stdout",
     "text": [
      "t1 = 61249.008531503045\nt2 = 158057.9134162482\n% change in x = 0.0006366263894271296\n% change in tan(x) = 158.05791343536947\n"
     ]
    }
   ],
   "source": [
    "# The tangent function is poorly conditioned\n",
    "\n",
    "import math\n",
    "x1 = 1.57078\n",
    "x2 = 1.57079\n",
    "t1 = math.tan(x1)\n",
    "t2 = math.tan(x2)\n",
    "\n",
    "print ('t1 =', t1)\n",
    "print ('t2 =', t2)\n",
    "print ('% change in x =', 100.0*(x2-x1)/x1)\n",
    "print ('% change in tan(x) =', (100.0*(t2-t1)/t1))"
   ]
  },
  {
   "cell_type": "code",
   "execution_count": 2,
   "metadata": {},
   "outputs": [
    {
     "output_type": "display_data",
     "data": {
      "text/plain": "<Figure size 432x288 with 1 Axes>",
      "image/svg+xml": "<?xml version=\"1.0\" encoding=\"utf-8\" standalone=\"no\"?>\r\n<!DOCTYPE svg PUBLIC \"-//W3C//DTD SVG 1.1//EN\"\r\n  \"http://www.w3.org/Graphics/SVG/1.1/DTD/svg11.dtd\">\r\n<!-- Created with matplotlib (https://matplotlib.org/) -->\r\n<svg height=\"261.19625pt\" version=\"1.1\" viewBox=\"0 0 375.284375 261.19625\" width=\"375.284375pt\" xmlns=\"http://www.w3.org/2000/svg\" xmlns:xlink=\"http://www.w3.org/1999/xlink\">\r\n <defs>\r\n  <style type=\"text/css\">\r\n*{stroke-linecap:butt;stroke-linejoin:round;}\r\n  </style>\r\n </defs>\r\n <g id=\"figure_1\">\r\n  <g id=\"patch_1\">\r\n   <path d=\"M 0 261.19625 \r\nL 375.284375 261.19625 \r\nL 375.284375 0 \r\nL 0 0 \r\nz\r\n\" style=\"fill:none;\"/>\r\n  </g>\r\n  <g id=\"axes_1\">\r\n   <g id=\"patch_2\">\r\n    <path d=\"M 30.103125 224.64 \r\nL 364.903125 224.64 \r\nL 364.903125 7.2 \r\nL 30.103125 7.2 \r\nz\r\n\" style=\"fill:#ffffff;\"/>\r\n   </g>\r\n   <g id=\"matplotlib.axis_1\">\r\n    <g id=\"xtick_1\">\r\n     <g id=\"line2d_1\">\r\n      <defs>\r\n       <path d=\"M 0 0 \r\nL 0 3.5 \r\n\" id=\"m11c1522a15\" style=\"stroke:#000000;stroke-width:0.8;\"/>\r\n      </defs>\r\n      <g>\r\n       <use style=\"stroke:#000000;stroke-width:0.8;\" x=\"30.103125\" xlink:href=\"#m11c1522a15\" y=\"224.64\"/>\r\n      </g>\r\n     </g>\r\n     <g id=\"text_1\">\r\n      <!-- −4 -->\r\n      <defs>\r\n       <path d=\"M 10.59375 35.5 \r\nL 73.1875 35.5 \r\nL 73.1875 27.203125 \r\nL 10.59375 27.203125 \r\nz\r\n\" id=\"DejaVuSans-8722\"/>\r\n       <path d=\"M 37.796875 64.3125 \r\nL 12.890625 25.390625 \r\nL 37.796875 25.390625 \r\nz\r\nM 35.203125 72.90625 \r\nL 47.609375 72.90625 \r\nL 47.609375 25.390625 \r\nL 58.015625 25.390625 \r\nL 58.015625 17.1875 \r\nL 47.609375 17.1875 \r\nL 47.609375 0 \r\nL 37.796875 0 \r\nL 37.796875 17.1875 \r\nL 4.890625 17.1875 \r\nL 4.890625 26.703125 \r\nz\r\n\" id=\"DejaVuSans-52\"/>\r\n      </defs>\r\n      <g transform=\"translate(22.732031 239.238437)scale(0.1 -0.1)\">\r\n       <use xlink:href=\"#DejaVuSans-8722\"/>\r\n       <use x=\"83.789062\" xlink:href=\"#DejaVuSans-52\"/>\r\n      </g>\r\n     </g>\r\n    </g>\r\n    <g id=\"xtick_2\">\r\n     <g id=\"line2d_2\">\r\n      <g>\r\n       <use style=\"stroke:#000000;stroke-width:0.8;\" x=\"71.953125\" xlink:href=\"#m11c1522a15\" y=\"224.64\"/>\r\n      </g>\r\n     </g>\r\n     <g id=\"text_2\">\r\n      <!-- −3 -->\r\n      <defs>\r\n       <path d=\"M 40.578125 39.3125 \r\nQ 47.65625 37.796875 51.625 33 \r\nQ 55.609375 28.21875 55.609375 21.1875 \r\nQ 55.609375 10.40625 48.1875 4.484375 \r\nQ 40.765625 -1.421875 27.09375 -1.421875 \r\nQ 22.515625 -1.421875 17.65625 -0.515625 \r\nQ 12.796875 0.390625 7.625 2.203125 \r\nL 7.625 11.71875 \r\nQ 11.71875 9.328125 16.59375 8.109375 \r\nQ 21.484375 6.890625 26.8125 6.890625 \r\nQ 36.078125 6.890625 40.9375 10.546875 \r\nQ 45.796875 14.203125 45.796875 21.1875 \r\nQ 45.796875 27.640625 41.28125 31.265625 \r\nQ 36.765625 34.90625 28.71875 34.90625 \r\nL 20.21875 34.90625 \r\nL 20.21875 43.015625 \r\nL 29.109375 43.015625 \r\nQ 36.375 43.015625 40.234375 45.921875 \r\nQ 44.09375 48.828125 44.09375 54.296875 \r\nQ 44.09375 59.90625 40.109375 62.90625 \r\nQ 36.140625 65.921875 28.71875 65.921875 \r\nQ 24.65625 65.921875 20.015625 65.03125 \r\nQ 15.375 64.15625 9.8125 62.3125 \r\nL 9.8125 71.09375 \r\nQ 15.4375 72.65625 20.34375 73.4375 \r\nQ 25.25 74.21875 29.59375 74.21875 \r\nQ 40.828125 74.21875 47.359375 69.109375 \r\nQ 53.90625 64.015625 53.90625 55.328125 \r\nQ 53.90625 49.265625 50.4375 45.09375 \r\nQ 46.96875 40.921875 40.578125 39.3125 \r\nz\r\n\" id=\"DejaVuSans-51\"/>\r\n      </defs>\r\n      <g transform=\"translate(64.582031 239.238437)scale(0.1 -0.1)\">\r\n       <use xlink:href=\"#DejaVuSans-8722\"/>\r\n       <use x=\"83.789062\" xlink:href=\"#DejaVuSans-51\"/>\r\n      </g>\r\n     </g>\r\n    </g>\r\n    <g id=\"xtick_3\">\r\n     <g id=\"line2d_3\">\r\n      <g>\r\n       <use style=\"stroke:#000000;stroke-width:0.8;\" x=\"113.803125\" xlink:href=\"#m11c1522a15\" y=\"224.64\"/>\r\n      </g>\r\n     </g>\r\n     <g id=\"text_3\">\r\n      <!-- −2 -->\r\n      <defs>\r\n       <path d=\"M 19.1875 8.296875 \r\nL 53.609375 8.296875 \r\nL 53.609375 0 \r\nL 7.328125 0 \r\nL 7.328125 8.296875 \r\nQ 12.9375 14.109375 22.625 23.890625 \r\nQ 32.328125 33.6875 34.8125 36.53125 \r\nQ 39.546875 41.84375 41.421875 45.53125 \r\nQ 43.3125 49.21875 43.3125 52.78125 \r\nQ 43.3125 58.59375 39.234375 62.25 \r\nQ 35.15625 65.921875 28.609375 65.921875 \r\nQ 23.96875 65.921875 18.8125 64.3125 \r\nQ 13.671875 62.703125 7.8125 59.421875 \r\nL 7.8125 69.390625 \r\nQ 13.765625 71.78125 18.9375 73 \r\nQ 24.125 74.21875 28.421875 74.21875 \r\nQ 39.75 74.21875 46.484375 68.546875 \r\nQ 53.21875 62.890625 53.21875 53.421875 \r\nQ 53.21875 48.921875 51.53125 44.890625 \r\nQ 49.859375 40.875 45.40625 35.40625 \r\nQ 44.1875 33.984375 37.640625 27.21875 \r\nQ 31.109375 20.453125 19.1875 8.296875 \r\nz\r\n\" id=\"DejaVuSans-50\"/>\r\n      </defs>\r\n      <g transform=\"translate(106.432031 239.238437)scale(0.1 -0.1)\">\r\n       <use xlink:href=\"#DejaVuSans-8722\"/>\r\n       <use x=\"83.789062\" xlink:href=\"#DejaVuSans-50\"/>\r\n      </g>\r\n     </g>\r\n    </g>\r\n    <g id=\"xtick_4\">\r\n     <g id=\"line2d_4\">\r\n      <g>\r\n       <use style=\"stroke:#000000;stroke-width:0.8;\" x=\"155.653125\" xlink:href=\"#m11c1522a15\" y=\"224.64\"/>\r\n      </g>\r\n     </g>\r\n     <g id=\"text_4\">\r\n      <!-- −1 -->\r\n      <defs>\r\n       <path d=\"M 12.40625 8.296875 \r\nL 28.515625 8.296875 \r\nL 28.515625 63.921875 \r\nL 10.984375 60.40625 \r\nL 10.984375 69.390625 \r\nL 28.421875 72.90625 \r\nL 38.28125 72.90625 \r\nL 38.28125 8.296875 \r\nL 54.390625 8.296875 \r\nL 54.390625 0 \r\nL 12.40625 0 \r\nz\r\n\" id=\"DejaVuSans-49\"/>\r\n      </defs>\r\n      <g transform=\"translate(148.282031 239.238437)scale(0.1 -0.1)\">\r\n       <use xlink:href=\"#DejaVuSans-8722\"/>\r\n       <use x=\"83.789062\" xlink:href=\"#DejaVuSans-49\"/>\r\n      </g>\r\n     </g>\r\n    </g>\r\n    <g id=\"xtick_5\">\r\n     <g id=\"line2d_5\">\r\n      <g>\r\n       <use style=\"stroke:#000000;stroke-width:0.8;\" x=\"197.503125\" xlink:href=\"#m11c1522a15\" y=\"224.64\"/>\r\n      </g>\r\n     </g>\r\n     <g id=\"text_5\">\r\n      <!-- 0 -->\r\n      <defs>\r\n       <path d=\"M 31.78125 66.40625 \r\nQ 24.171875 66.40625 20.328125 58.90625 \r\nQ 16.5 51.421875 16.5 36.375 \r\nQ 16.5 21.390625 20.328125 13.890625 \r\nQ 24.171875 6.390625 31.78125 6.390625 \r\nQ 39.453125 6.390625 43.28125 13.890625 \r\nQ 47.125 21.390625 47.125 36.375 \r\nQ 47.125 51.421875 43.28125 58.90625 \r\nQ 39.453125 66.40625 31.78125 66.40625 \r\nz\r\nM 31.78125 74.21875 \r\nQ 44.046875 74.21875 50.515625 64.515625 \r\nQ 56.984375 54.828125 56.984375 36.375 \r\nQ 56.984375 17.96875 50.515625 8.265625 \r\nQ 44.046875 -1.421875 31.78125 -1.421875 \r\nQ 19.53125 -1.421875 13.0625 8.265625 \r\nQ 6.59375 17.96875 6.59375 36.375 \r\nQ 6.59375 54.828125 13.0625 64.515625 \r\nQ 19.53125 74.21875 31.78125 74.21875 \r\nz\r\n\" id=\"DejaVuSans-48\"/>\r\n      </defs>\r\n      <g transform=\"translate(194.321875 239.238437)scale(0.1 -0.1)\">\r\n       <use xlink:href=\"#DejaVuSans-48\"/>\r\n      </g>\r\n     </g>\r\n    </g>\r\n    <g id=\"xtick_6\">\r\n     <g id=\"line2d_6\">\r\n      <g>\r\n       <use style=\"stroke:#000000;stroke-width:0.8;\" x=\"239.353125\" xlink:href=\"#m11c1522a15\" y=\"224.64\"/>\r\n      </g>\r\n     </g>\r\n     <g id=\"text_6\">\r\n      <!-- 1 -->\r\n      <g transform=\"translate(236.171875 239.238437)scale(0.1 -0.1)\">\r\n       <use xlink:href=\"#DejaVuSans-49\"/>\r\n      </g>\r\n     </g>\r\n    </g>\r\n    <g id=\"xtick_7\">\r\n     <g id=\"line2d_7\">\r\n      <g>\r\n       <use style=\"stroke:#000000;stroke-width:0.8;\" x=\"281.203125\" xlink:href=\"#m11c1522a15\" y=\"224.64\"/>\r\n      </g>\r\n     </g>\r\n     <g id=\"text_7\">\r\n      <!-- 2 -->\r\n      <g transform=\"translate(278.021875 239.238437)scale(0.1 -0.1)\">\r\n       <use xlink:href=\"#DejaVuSans-50\"/>\r\n      </g>\r\n     </g>\r\n    </g>\r\n    <g id=\"xtick_8\">\r\n     <g id=\"line2d_8\">\r\n      <g>\r\n       <use style=\"stroke:#000000;stroke-width:0.8;\" x=\"323.053125\" xlink:href=\"#m11c1522a15\" y=\"224.64\"/>\r\n      </g>\r\n     </g>\r\n     <g id=\"text_8\">\r\n      <!-- 3 -->\r\n      <g transform=\"translate(319.871875 239.238437)scale(0.1 -0.1)\">\r\n       <use xlink:href=\"#DejaVuSans-51\"/>\r\n      </g>\r\n     </g>\r\n    </g>\r\n    <g id=\"xtick_9\">\r\n     <g id=\"line2d_9\">\r\n      <g>\r\n       <use style=\"stroke:#000000;stroke-width:0.8;\" x=\"364.903125\" xlink:href=\"#m11c1522a15\" y=\"224.64\"/>\r\n      </g>\r\n     </g>\r\n     <g id=\"text_9\">\r\n      <!-- 4 -->\r\n      <g transform=\"translate(361.721875 239.238437)scale(0.1 -0.1)\">\r\n       <use xlink:href=\"#DejaVuSans-52\"/>\r\n      </g>\r\n     </g>\r\n    </g>\r\n    <g id=\"text_10\">\r\n     <!-- 1e−8 -->\r\n     <defs>\r\n      <path d=\"M 56.203125 29.59375 \r\nL 56.203125 25.203125 \r\nL 14.890625 25.203125 \r\nQ 15.484375 15.921875 20.484375 11.0625 \r\nQ 25.484375 6.203125 34.421875 6.203125 \r\nQ 39.59375 6.203125 44.453125 7.46875 \r\nQ 49.3125 8.734375 54.109375 11.28125 \r\nL 54.109375 2.78125 \r\nQ 49.265625 0.734375 44.1875 -0.34375 \r\nQ 39.109375 -1.421875 33.890625 -1.421875 \r\nQ 20.796875 -1.421875 13.15625 6.1875 \r\nQ 5.515625 13.8125 5.515625 26.8125 \r\nQ 5.515625 40.234375 12.765625 48.109375 \r\nQ 20.015625 56 32.328125 56 \r\nQ 43.359375 56 49.78125 48.890625 \r\nQ 56.203125 41.796875 56.203125 29.59375 \r\nz\r\nM 47.21875 32.234375 \r\nQ 47.125 39.59375 43.09375 43.984375 \r\nQ 39.0625 48.390625 32.421875 48.390625 \r\nQ 24.90625 48.390625 20.390625 44.140625 \r\nQ 15.875 39.890625 15.1875 32.171875 \r\nz\r\n\" id=\"DejaVuSans-101\"/>\r\n      <path d=\"M 31.78125 34.625 \r\nQ 24.75 34.625 20.71875 30.859375 \r\nQ 16.703125 27.09375 16.703125 20.515625 \r\nQ 16.703125 13.921875 20.71875 10.15625 \r\nQ 24.75 6.390625 31.78125 6.390625 \r\nQ 38.8125 6.390625 42.859375 10.171875 \r\nQ 46.921875 13.96875 46.921875 20.515625 \r\nQ 46.921875 27.09375 42.890625 30.859375 \r\nQ 38.875 34.625 31.78125 34.625 \r\nz\r\nM 21.921875 38.8125 \r\nQ 15.578125 40.375 12.03125 44.71875 \r\nQ 8.5 49.078125 8.5 55.328125 \r\nQ 8.5 64.0625 14.71875 69.140625 \r\nQ 20.953125 74.21875 31.78125 74.21875 \r\nQ 42.671875 74.21875 48.875 69.140625 \r\nQ 55.078125 64.0625 55.078125 55.328125 \r\nQ 55.078125 49.078125 51.53125 44.71875 \r\nQ 48 40.375 41.703125 38.8125 \r\nQ 48.828125 37.15625 52.796875 32.3125 \r\nQ 56.78125 27.484375 56.78125 20.515625 \r\nQ 56.78125 9.90625 50.3125 4.234375 \r\nQ 43.84375 -1.421875 31.78125 -1.421875 \r\nQ 19.734375 -1.421875 13.25 4.234375 \r\nQ 6.78125 9.90625 6.78125 20.515625 \r\nQ 6.78125 27.484375 10.78125 32.3125 \r\nQ 14.796875 37.15625 21.921875 38.8125 \r\nz\r\nM 18.3125 54.390625 \r\nQ 18.3125 48.734375 21.84375 45.5625 \r\nQ 25.390625 42.390625 31.78125 42.390625 \r\nQ 38.140625 42.390625 41.71875 45.5625 \r\nQ 45.3125 48.734375 45.3125 54.390625 \r\nQ 45.3125 60.0625 41.71875 63.234375 \r\nQ 38.140625 66.40625 31.78125 66.40625 \r\nQ 25.390625 66.40625 21.84375 63.234375 \r\nQ 18.3125 60.0625 18.3125 54.390625 \r\nz\r\n\" id=\"DejaVuSans-56\"/>\r\n     </defs>\r\n     <g transform=\"translate(337.645313 251.916562)scale(0.1 -0.1)\">\r\n      <use xlink:href=\"#DejaVuSans-49\"/>\r\n      <use x=\"63.623047\" xlink:href=\"#DejaVuSans-101\"/>\r\n      <use x=\"125.146484\" xlink:href=\"#DejaVuSans-8722\"/>\r\n      <use x=\"208.935547\" xlink:href=\"#DejaVuSans-56\"/>\r\n     </g>\r\n    </g>\r\n   </g>\r\n   <g id=\"matplotlib.axis_2\">\r\n    <g id=\"ytick_1\">\r\n     <g id=\"line2d_10\">\r\n      <defs>\r\n       <path d=\"M 0 0 \r\nL -3.5 0 \r\n\" id=\"mfb2b04eabe\" style=\"stroke:#000000;stroke-width:0.8;\"/>\r\n      </defs>\r\n      <g>\r\n       <use style=\"stroke:#000000;stroke-width:0.8;\" x=\"30.103125\" xlink:href=\"#mfb2b04eabe\" y=\"214.756364\"/>\r\n      </g>\r\n     </g>\r\n     <g id=\"text_11\">\r\n      <!-- 0.0 -->\r\n      <defs>\r\n       <path d=\"M 10.6875 12.40625 \r\nL 21 12.40625 \r\nL 21 0 \r\nL 10.6875 0 \r\nz\r\n\" id=\"DejaVuSans-46\"/>\r\n      </defs>\r\n      <g transform=\"translate(7.2 218.555582)scale(0.1 -0.1)\">\r\n       <use xlink:href=\"#DejaVuSans-48\"/>\r\n       <use x=\"63.623047\" xlink:href=\"#DejaVuSans-46\"/>\r\n       <use x=\"95.410156\" xlink:href=\"#DejaVuSans-48\"/>\r\n      </g>\r\n     </g>\r\n    </g>\r\n    <g id=\"ytick_2\">\r\n     <g id=\"line2d_11\">\r\n      <g>\r\n       <use style=\"stroke:#000000;stroke-width:0.8;\" x=\"30.103125\" xlink:href=\"#mfb2b04eabe\" y=\"172.378053\"/>\r\n      </g>\r\n     </g>\r\n     <g id=\"text_12\">\r\n      <!-- 0.2 -->\r\n      <g transform=\"translate(7.2 176.177272)scale(0.1 -0.1)\">\r\n       <use xlink:href=\"#DejaVuSans-48\"/>\r\n       <use x=\"63.623047\" xlink:href=\"#DejaVuSans-46\"/>\r\n       <use x=\"95.410156\" xlink:href=\"#DejaVuSans-50\"/>\r\n      </g>\r\n     </g>\r\n    </g>\r\n    <g id=\"ytick_3\">\r\n     <g id=\"line2d_12\">\r\n      <g>\r\n       <use style=\"stroke:#000000;stroke-width:0.8;\" x=\"30.103125\" xlink:href=\"#mfb2b04eabe\" y=\"129.999742\"/>\r\n      </g>\r\n     </g>\r\n     <g id=\"text_13\">\r\n      <!-- 0.4 -->\r\n      <g transform=\"translate(7.2 133.798961)scale(0.1 -0.1)\">\r\n       <use xlink:href=\"#DejaVuSans-48\"/>\r\n       <use x=\"63.623047\" xlink:href=\"#DejaVuSans-46\"/>\r\n       <use x=\"95.410156\" xlink:href=\"#DejaVuSans-52\"/>\r\n      </g>\r\n     </g>\r\n    </g>\r\n    <g id=\"ytick_4\">\r\n     <g id=\"line2d_13\">\r\n      <g>\r\n       <use style=\"stroke:#000000;stroke-width:0.8;\" x=\"30.103125\" xlink:href=\"#mfb2b04eabe\" y=\"87.621431\"/>\r\n      </g>\r\n     </g>\r\n     <g id=\"text_14\">\r\n      <!-- 0.6 -->\r\n      <defs>\r\n       <path d=\"M 33.015625 40.375 \r\nQ 26.375 40.375 22.484375 35.828125 \r\nQ 18.609375 31.296875 18.609375 23.390625 \r\nQ 18.609375 15.53125 22.484375 10.953125 \r\nQ 26.375 6.390625 33.015625 6.390625 \r\nQ 39.65625 6.390625 43.53125 10.953125 \r\nQ 47.40625 15.53125 47.40625 23.390625 \r\nQ 47.40625 31.296875 43.53125 35.828125 \r\nQ 39.65625 40.375 33.015625 40.375 \r\nz\r\nM 52.59375 71.296875 \r\nL 52.59375 62.3125 \r\nQ 48.875 64.0625 45.09375 64.984375 \r\nQ 41.3125 65.921875 37.59375 65.921875 \r\nQ 27.828125 65.921875 22.671875 59.328125 \r\nQ 17.53125 52.734375 16.796875 39.40625 \r\nQ 19.671875 43.65625 24.015625 45.921875 \r\nQ 28.375 48.1875 33.59375 48.1875 \r\nQ 44.578125 48.1875 50.953125 41.515625 \r\nQ 57.328125 34.859375 57.328125 23.390625 \r\nQ 57.328125 12.15625 50.6875 5.359375 \r\nQ 44.046875 -1.421875 33.015625 -1.421875 \r\nQ 20.359375 -1.421875 13.671875 8.265625 \r\nQ 6.984375 17.96875 6.984375 36.375 \r\nQ 6.984375 53.65625 15.1875 63.9375 \r\nQ 23.390625 74.21875 37.203125 74.21875 \r\nQ 40.921875 74.21875 44.703125 73.484375 \r\nQ 48.484375 72.75 52.59375 71.296875 \r\nz\r\n\" id=\"DejaVuSans-54\"/>\r\n      </defs>\r\n      <g transform=\"translate(7.2 91.42065)scale(0.1 -0.1)\">\r\n       <use xlink:href=\"#DejaVuSans-48\"/>\r\n       <use x=\"63.623047\" xlink:href=\"#DejaVuSans-46\"/>\r\n       <use x=\"95.410156\" xlink:href=\"#DejaVuSans-54\"/>\r\n      </g>\r\n     </g>\r\n    </g>\r\n    <g id=\"ytick_5\">\r\n     <g id=\"line2d_14\">\r\n      <g>\r\n       <use style=\"stroke:#000000;stroke-width:0.8;\" x=\"30.103125\" xlink:href=\"#mfb2b04eabe\" y=\"45.24312\"/>\r\n      </g>\r\n     </g>\r\n     <g id=\"text_15\">\r\n      <!-- 0.8 -->\r\n      <g transform=\"translate(7.2 49.042339)scale(0.1 -0.1)\">\r\n       <use xlink:href=\"#DejaVuSans-48\"/>\r\n       <use x=\"63.623047\" xlink:href=\"#DejaVuSans-46\"/>\r\n       <use x=\"95.410156\" xlink:href=\"#DejaVuSans-56\"/>\r\n      </g>\r\n     </g>\r\n    </g>\r\n   </g>\r\n   <g id=\"line2d_15\">\r\n    <path clip-path=\"url(#p691b318357)\" d=\"M 30.103125 111.835853 \r\nL 33.484943 107.547954 \r\nL 36.866761 102.986399 \r\nL 40.24858 114.788678 \r\nL 43.630398 110.346207 \r\nL 47.012216 105.60089 \r\nL 50.394034 100.524562 \r\nL 53.775852 115.030815 \r\nL 57.15767 110.16686 \r\nL 60.539489 104.938182 \r\nL 63.921307 99.307383 \r\nL 67.303125 117.536989 \r\nL 70.684943 112.282822 \r\nL 74.066761 106.590916 \r\nL 77.44858 100.411259 \r\nL 80.830398 93.686489 \r\nL 84.212216 118.452008 \r\nL 87.594034 112.43441 \r\nL 90.975852 105.834657 \r\nL 94.35767 98.575161 \r\nL 97.739489 90.564966 \r\nL 101.121307 126.050043 \r\nL 104.503125 119.481376 \r\nL 107.884943 112.15514 \r\nL 111.266761 103.950198 \r\nL 114.64858 94.720197 \r\nL 118.030398 84.286995 \r\nL 121.412216 143.594182 \r\nL 124.794034 136.820497 \r\nL 128.175852 129.031546 \r\nL 131.55767 120.013814 \r\nL 134.939489 109.494553 \r\nL 138.321307 97.12092 \r\nL 141.703125 82.429992 \r\nL 145.084943 64.804836 \r\nL 148.466761 43.408661 \r\nL 151.84858 17.083636 \r\nL 155.230398 214.756364 \r\nL 158.612216 214.756364 \r\nL 161.994034 214.756364 \r\nL 165.375852 214.756364 \r\nL 168.75767 214.756364 \r\nL 172.139489 214.756364 \r\nL 175.521307 214.756364 \r\nL 178.903125 214.756364 \r\nL 182.284943 214.756364 \r\nL 185.666761 214.756364 \r\nL 189.04858 214.756364 \r\nL 192.430398 214.756364 \r\nL 195.812216 214.756364 \r\nL 199.194034 214.756364 \r\nL 202.575852 214.756364 \r\nL 205.95767 214.756364 \r\nL 209.339489 214.756364 \r\nL 212.721307 214.756364 \r\nL 216.103125 214.756364 \r\nL 219.484943 214.756364 \r\nL 222.866761 214.756364 \r\nL 226.24858 214.756364 \r\nL 229.630398 214.756364 \r\nL 233.012216 214.756364 \r\nL 236.394034 214.756364 \r\nL 239.775852 214.756364 \r\nL 243.15767 17.083636 \r\nL 246.539489 43.408661 \r\nL 249.921307 64.804836 \r\nL 253.303125 82.429992 \r\nL 256.684943 97.12092 \r\nL 260.066761 109.494553 \r\nL 263.44858 120.013814 \r\nL 266.830398 129.031546 \r\nL 270.212216 136.820497 \r\nL 273.594034 143.594182 \r\nL 276.975852 84.286995 \r\nL 280.35767 94.720197 \r\nL 283.739489 103.950198 \r\nL 287.121307 112.15514 \r\nL 290.503125 119.481376 \r\nL 293.884943 126.050043 \r\nL 297.266761 90.564966 \r\nL 300.64858 98.575161 \r\nL 304.030398 105.834657 \r\nL 307.412216 112.43441 \r\nL 310.794034 118.452008 \r\nL 314.175852 93.686489 \r\nL 317.55767 100.411259 \r\nL 320.939489 106.590916 \r\nL 324.321307 112.282822 \r\nL 327.703125 117.536989 \r\nL 331.084943 99.307383 \r\nL 334.466761 104.938182 \r\nL 337.84858 110.16686 \r\nL 341.230398 115.030815 \r\nL 344.612216 100.524562 \r\nL 347.994034 105.60089 \r\nL 351.375852 110.346207 \r\nL 354.75767 114.788678 \r\nL 358.139489 102.986399 \r\nL 361.521307 107.547954 \r\nL 364.903125 111.835853 \r\n\" style=\"fill:none;stroke:#1f77b4;stroke-linecap:square;stroke-width:1.5;\"/>\r\n   </g>\r\n   <g id=\"line2d_16\">\r\n    <path clip-path=\"url(#p691b318357)\" d=\"M 243.538125 224.64 \r\nL 243.538125 7.2 \r\n\" style=\"fill:none;stroke:#ff0000;stroke-linecap:square;stroke-width:1.5;\"/>\r\n   </g>\r\n   <g id=\"patch_3\">\r\n    <path d=\"M 30.103125 224.64 \r\nL 30.103125 7.2 \r\n\" style=\"fill:none;stroke:#000000;stroke-linecap:square;stroke-linejoin:miter;stroke-width:0.8;\"/>\r\n   </g>\r\n   <g id=\"patch_4\">\r\n    <path d=\"M 364.903125 224.64 \r\nL 364.903125 7.2 \r\n\" style=\"fill:none;stroke:#000000;stroke-linecap:square;stroke-linejoin:miter;stroke-width:0.8;\"/>\r\n   </g>\r\n   <g id=\"patch_5\">\r\n    <path d=\"M 30.103125 224.64 \r\nL 364.903125 224.64 \r\n\" style=\"fill:none;stroke:#000000;stroke-linecap:square;stroke-linejoin:miter;stroke-width:0.8;\"/>\r\n   </g>\r\n   <g id=\"patch_6\">\r\n    <path d=\"M 30.103125 7.2 \r\nL 364.903125 7.2 \r\n\" style=\"fill:none;stroke:#000000;stroke-linecap:square;stroke-linejoin:miter;stroke-width:0.8;\"/>\r\n   </g>\r\n  </g>\r\n </g>\r\n <defs>\r\n  <clipPath id=\"p691b318357\">\r\n   <rect height=\"217.44\" width=\"334.8\" x=\"30.103125\" y=\"7.2\"/>\r\n  </clipPath>\r\n </defs>\r\n</svg>\r\n",
      "image/png": "iVBORw0KGgoAAAANSUhEUgAAAXcAAAEFCAYAAAAYKqc0AAAABHNCSVQICAgIfAhkiAAAAAlwSFlzAAALEgAACxIB0t1+/AAAADh0RVh0U29mdHdhcmUAbWF0cGxvdGxpYiB2ZXJzaW9uMy4yLjEsIGh0dHA6Ly9tYXRwbG90bGliLm9yZy+j8jraAAAgAElEQVR4nO3deXycV3Xw8d+ZRZK1WbIleZflfY0dL3FIgpMQQrBDSMgCJGwvtJA3hPAChUIob1sgpbQvZSkQalKglBKaQhIggayQxVnsxEtsx/Iqy4vkTZIla7WkWe77x8wzkqWZ0TOj55mRpfP9fPKJpXlmfC3NnLlz7rnnijEGpZRSo4sn2wNQSinlPA3uSik1CmlwV0qpUUiDu1JKjUIa3JVSahTyZesvLisrM1VVVdn665Uaffbvj/x/wYLsjkO5atu2bU3GmPKhrstacK+qqmLr1q3Z+uuVGn2uvjry/xdeyOYolMtE5Kid6zQto5RSo5AGd6WUGoU0uCul1CikwV0ppUYhDe5KKTUKaXBXSqlRSIO7UkqNQhrclWu2Hmlmz4m2bA9jTDjd1k1zZ2+2h6FGEA3uyjVfemQX3/3TgWwPY0z4ny11HDjdTiis5zOoCA3uyhXhsKGu5Ry9wXC2hzIm9ARD0f/rz1tFaHBXrmjs6KE3GCYY1mCTCcFQZMZuBXmlNLgrV9Q1dwF9QUe5KxhNx3QH9M1URWhwV66oa4kEd80BZ4b1c9a0jLJocFeuqGs+B0BAg3tGBEKRoK5pGWXR4K5cYaVlQppzz4jYzF3TMipKg7tyhZWW0Zx7ZgT6Lagaoz9zpcFducRKywQ1LZMR1iekUNjQei6Q5dGokUCDu3JcIBTmZGskuOuCamb0fxO13ljV2KbBXTnu5NluwgY80rfQp9zVP/1lpcTU2KbBXTnOCi7TSsfpzD1DgmFDrs8L9C1mq7FNg7tyXH00uFdNLNCce4aEwmF8XsHr8ejMXQEa3JUL6prP4fUI00vzCWpaJiOCYYMI5Pk9mnNXAPiyPQA1+tS1dDG1JI9cn0dn7hkSDBkEIccnOnNXgM7clQvqmruYUZqP3yta554hwXAYEcj1e6lvOUdY31THPA3uynF1LeeYXjoOr8ejC6oZEgwbBMj1eegNhmnq6Mn2kFSWaXBXjuoOhGhs7+mbuWv7gYwIhQ0i0lcxo6mZMU+Du3KUVSkzY0I+Xo8QNmiKIAMCocjMPc8feUnroqrS4K4cZQWVGRPG4fMIoC0IMiFk5dx9VnDXmftYp8FdOcpKB8wozcfnjTy9NDXjvmA0LeMRobwoV9MySoO7clZdcxe5Pg/lRbk6c8+gYDQtAzCjdJymZZQGd+WsuuZIpYyIxIJ7SMshXReKbmKCyHqHztyVBnflqLqWLmZMyAfAG03LBDQt47pAKIxE5+4zSvM52dqtu4PHOA3uylH1LeeYURoJ7rGZu6ZlXBcKG4jN3CMN2062dmd3UCqrbAV3EVknIvtFpEZE7o1z+3gReVxEdopItYh8zPmhqpGurTtA67kA00vHAX3BXXepui8YNkR/3EyPvrlqamZsGzK4i4gXuB9YDywG7hCRxQMu+xSwxxizHLga+LaI5Dg8VjXCHTvTV+MO4PPqgmqmRFIwkZ93ZfTnr+WQY5udmfsaoMYYU2uM6QUeAm4acI0BikREgEKgGQg6OlI14h1q7ABgTnkhAF5P5Omlh2S7L9hvQXVqyThyfB4ONXZmd1Aqq+wE92lAXb+v66Pf6++HwCLgBPAm8BljzKBXtIjcKSJbRWRrY2NjmkNWI9Whxk48AjMnRmaO/mieIKBpGdeFwn2lkF6PMLusgEMNHVkdk8ouO8Fd4nxv4Kv1ncAOYCpwMfBDESkedCdjHjDGrDbGrC4vL095sGpkO9TQwYwJ+eT5I/1NvLqgmhHGmNgmJsucikJqGjW4j2V2gns9MKPf19OJzND7+xjwqImoAQ4DC50ZorpQHGrsYG40JQPgj+1Q1eDuJuvNs/8sbE55IXXNXXQHQtkZlMo6O8F9CzBPRGZFF0lvBx4bcM0x4O0AIjIJWADUOjlQNbKFwobapk7mVPQFd2+sWkZz7m6y3jz7TdyZW1FI2MCRM5p3H6uGDO7GmCBwD/A0sBf4tTGmWkTuEpG7opfdB1wuIm8Cfwa+ZIxpcmvQauSpb+miNxg+b+au7QcyI15wn1NeAMChBg3uY5WtY/aMMU8ATwz43oZ+fz4BXOfs0NSFpCa6eDenoiD2PatxmObc3WW1d5B+iZnZZYWI9P1e1NijO1SVIwaWQUJfWiagaRlXWe0d+s/cx+V4mVYyLvZ7UWOPBnfliJqGDsoKcyjJ79u7pu0HMiPegipE3mh15j52aXBXjjjU2HnerB36dqhqnbu7+nLu54f3uRWF1DZ16ElYY5QGdzVsxhhqGjrOq5QB8Hk0554JVjVSvJl7dyDMiVbt7T4WaXBXw3ams5fWc4GEM3c9icld8aplIDJzB11UHas0uKths7a5zx00c9eukJlg/XwHpmVi5ZDaY2ZM0uCuhq0mVilTcN73tf1AZlifjAamZSYW5lKa79eZ+xilwV0N26GGTsb5vUwdP+687/v1JKaMCCVIy0Ak767lkGOTBnc1bDWNHcwuL8DjOT+66Mw9MwJxNjFZ5lYUanfIMUqDuxq2Qw0dg/LtAP5otYzm3N011Mz9TGcvLZ29GR6VyjYN7mpYunqDHD97blClDIBXq2UyIhhnh6rFetPV1MzYo8FdDUtttBIjXnDXxmGZEUySlrF+Lxrcxx4N7mpYrKARLy0Taz+gaRlXJUvLTCsdR67PoxUzY5AGdzUshxo68AhUleUPui3WOExn7q4KJNihCpHfwayyAg3uY5AGdzUse062U1VWQK7PO+g2EcHrET0g22WxaqR4U3dgweQi9p1qz+CI1EigwV0Ny54TrSyZOj7h7T6PaLWMy6w1DU/82M6SqcWcbO2mWStmxhQN7iptLZ29nGjtZsnUQWehx/g8oguqLhuqGsl6860+0ZqJ4agRQoO7Slv1iTaA5MHd69FNTC5L1FvGYv1+rN+XGhs0uKu0WTPBodIyehKTuxId1mEpyc9hWsk4De5jjAZ3lbbqE21MHZ/HhIKchNdEFlR15u6mQJJSSMuSqcWalhljNLirtFWfaGVxklk7RJqH6UlM7grFSiETR/clU8dzuKmTzp5gpoalskyDu0pLV2+Q2qbOpPl2QEshMyDRYR39LZlajDGw75SmZsYKDe4qLXtPtmNM8sVUiJzGpNUy7rIV3KfpoupYo8FdpWWPtZg6LXlaRuvc3de3oJo4uk8ujqyNVB/X4D5WaHBXadl9vI2SfD9Tx+clvc7r8ejM3WWx9gNJZu4iwpKpxezWRdUxQ4O7Skv1yVaWTC1OWFtt8Xs15+62UNjgkcSlkJbFU4s5cLqd3qD+PsYCDe4qZYFQmAOnOpLWt1u8ukPVdcGwwecZ+qW8ZOp4AiHDwQbtMzMWaHBXKTt4uoPeUHjIxVTQnHsmBEPhWAfOZJbqTtUxRYO7SpmdnakWn8ejJzG5LBg2+LxDB/eqiQUU5HjZo8F9TNDgrlJWfaKNcX4vs8oKhrxWSyHdFwyZ2MEoyXg8wqIpulN1rNDgrlK250Qbi6YU2UoF+LT9gOsiM3d7L+UlU4vZc6KNsP5ORj0N7iolobBhz8k2WykZiJRCavsBd4XCYVszd4ik0jp7Qxw+0+nyqFS2aXAfhVq7AtQ1d7ny2PtPtdPRE2RFZYmt633afsB1wZCx9SkKiP3eth1tcWUszZ29nDh7zpXHVqnR4D4Kffm3u/jof7zuymNvO9oMwOqZE2xdrzl39wXDBr/NtMyc8kLGj/Oz7Yg7wf3rj1dz+wObMUZ/59lm6xkhIutEZL+I1IjIvQmuuVpEdohItYi86OwwlV2dPUH+vLeBhvYeVx5/69EWyotymTFhnK3rtRTSfcGwvVJIiCyqrppZytbom7TTTrf1cKy5izeP66Jttg0Z3EXEC9wPrAcWA3eIyOIB15QAPwJuNMYsAd7rwliVDS/sb6QnGKajJ+jK7GnrkRZWzywdcmeqxevRk5jcZrdaxrJqZimHGjtpceFM1Y5oS+End59y/LFVauzM3NcANcaYWmNML/AQcNOAaz4APGqMOQZgjGlwdpjKrid3nwTAGOjsDTn62Kdauzl+9hyrZpbavo/fqycxuS1ks87dsjr6+9t+zPnUTHt3AICndp/S1EyW2Qnu04C6fl/XR7/X33ygVEReEJFtIvKReA8kIneKyFYR2drY2JjeiFVC3YEQz+9rID/HC/S90JxiLcKtrrKXbwc9iSkTAmGD10b7AcvyGSX4vcJWFxZV27uD5Od4OdzUyf7T2uYgm+w8I+JNCQa+Wn3AKuBdwDuBvxWR+YPuZMwDxpjVxpjV5eXlKQ9WJffSwSY6e0PcsGwKAB3dzp66s/VoM3l+j622Axa/V7tCui0UDuNPIS2T5/eyZOp4VxZV23uCrF86BRF48k1NzWSTneBeD8zo9/V04ESca54yxnQaY5qAjcByZ4Y4uoXChnf/4GV+8lLtsB/ryd0nKc7z8Y7FkwFoczi4bzvawvLpJbYrMyDaOEzTMq5KpRTSsnpmKTvrzzraIbInGKI3GGZ2eQGXzJzAUw7k3V+paeIt//hnTrd1OzDCscXOq3QLME9EZolIDnA78NiAa34PrBURn4jkA5cCe50d6uj0572nefN4K2/UnR3W4/QGw/xpz2muXTyJCQV+oG9xywldvUGqT7Sxusp+vh2i1TI6c3eV3d4y/a2uKqUnGHa0v7v1SbEw18e6pZPZf7qd2saOYT3mrvpWTrV18+Brx5wY4pgyZHA3xgSBe4CniQTsXxtjqkXkLhG5K3rNXuApYBfwOvATY8xu94Y9evxi01EAGtuGV7q4qfYMbd2Rj8RFeZHg7mTOfUfdWUJhY7u+3aJ17u6z2/K3v1XR36OTqZn2aHAvyosEdxh+1UxDe2TG/qvXjmkf+hTZekYYY54wxsw3xswxxnwj+r0NxpgN/a75ljFmsTFmqTHme24NeKT569/s5IGNh9K6b01DOy/XNOH1CI0dwwvuT+0+SUGOl7XzyijM9QF9LzYnWEFgZWVqM3erFFIrJ9wTDNlvP2ApL8pl5sR8R+vd2/vN3KeWjGP5jJJhp2Ya23vweoSmjp5YJViqnt/XwO0PbKI74Gz12EinO1SHYXPtGX6zrT7tJ/B/bTpKjtfDDcum0DCMnGIwFOaZ6tO8bWEFeX4vRXmR4O7kgurWoy3Mn1TI+Hx/SvezFvq0YsY9qZZCWlZVlrLtaItjb7ztPZFPitYnx/VLJ/Pm8dZhtcJoaO9hZWUJVRPzY59yU/XC/gY21zbzy83p3f9CpcF9GL73pwMAHEvjydveHeDhbfXcsGwKCycX09kbojPNHPlLNU2c6ezlhmVTASjI8SHiXFomHDZsP9YS+yifCm806Ghqxj3ppGUAVlWV0tTRy9EzzvQh6p+WAXjXRZGqrd/vOJ72Yza191BRnMeHL6ti29EWdqex8/Vo9PW54cVazjm892Mk0+Cepk2HzrC5tpnKCfk0dfSmvHj52zeO09kb4iOXV1FelAtAU5qpmd9uP05Jvp9rFlYAkS3mhTk+2h1aUD3Q0E57dzC2+SUVVrpAg7t77J7ENJC1fuJUvXvHgOA+Y0I+a2ZN4NE3jqf96aCxvYfywlxuWzWdcX4vv9h0JOXHOHamK/o67eHB18bO7F2DexqMMXz3TweoKMrlM2+fB0SeQKnc/z9fPcLy6eO5eEYJFdHgnk4/mPbuAE9Xn+Ldy6aS4+v7dRbl+RzLub9WG8nLXpLC5iWLNaMMaX8Z16RTLQMwr6KQknw/m2vPODIO65OilZYBuHXlNGobO9lZn/qM+1xviPaeIBXFuYwf5+fmldP4/Y4TKbVNCIUNdS1dXH/RFK6YO5ENLx6iq9fZEuGRakwH98b2nrRy3Ztqz/D64WbuvnoO8ycVAXCs2X5/7JdrmjjU2MlHLqsCiM3cG9MI7k++eYqeYJhbVp6/abgoz+9YWualg43MnJhP5cT8lO9rBZ2Atv11TSicWm8Zi8cjXDGnjJcPNjmSd++/oGpZf9EUcn0eHt1en/LjWa+H8sLI6+Mjl82kJxjmv7fYL4s82XqOQMgwc2I+n7t2Pk0dvWnl3jt6gilN4EaCURPcU12w6wmGeN+PN/GpX21P6X7GGL737EEmFedy+5rKWMBLJW+54cVDVBTlcsPySE4yNnNP443mke31zC4r4OIZ5/dXL8zzOVLn3hsMs+nQGdbOK0vr/l5dUHVdIJRa+4H+1s4r41RbNzUNw6tHh0gAzPV5zvsEWZzn57olk3ls54mUSxmtMsiK4jwAFk4u5q1zy/iPV47YrnyxAvLMCfmsrprA2nll/PjF2pRn799+Zj/v/N5GjqfYqz6bz/tREdyf39/A0r9/mv2n7Pey+PeNtRxu6uTN460p/QJeOtjE60eaufvqueT5vYwf56ck3x9btBnKm/WtvFJzhr946yxyfZEeMKX5OWmVQ9a3dPHa4WZuXjFtUJdGp9IybxxrobM3xNp56bWL8EeDjjYPc08oHMafRloG4K3RN+2NB5uGPY627uB5KRnLLSumcbYrwAv7U+snOHDmDnDXVXNobO/ht2/YW6S1XpfWJOyz187nTGcv//HKkZTGsrPuLOcCIe57fI/t+5zrDbHmG39iw4vplUoP1wUf3Fu7Atz7yC7OBUJsPGCvGVl9Sxc/fL6G0nw/3YEwh5vspVRCYcM3n9zHjAnjuH1NX0eGmRPybX9k2/DiIYryfHzw0srY9zweoawwJ+W0zO+iT/D3rBjYxy3y0diJUsiXDkbq8C+bMzGt++vM3X3ptB+wTC/NZ3Z5AS8dHH4jv46eYGwxtb+188ooK8zh0e2pVc1Ykx0rbQlwxdyJXDRtPA9srLX1nDp6pgu/V5gyPnL+wKqZpVy7aBIbXjhEs83cfThs2HeqndJ8P09Vn+JFm3FmR91ZznT28u1n9rP3ZJut+zhpxAX3x3aeSOkd/r4/7qGpo5eSfD9bjtjbkHHfH/YgCN+6LdL+xu4P/ndvHGfvyTb++p0LY7NugMqJBRy1kXM/3NTJk7tP8qG3zBw0w6koyktpQdUYw6Pbj3PprAnMmDA4F16U53ekt8xLBxtZMaOE4jgzMjt8WgrpulROYornynnlbK49Q09weGWC7d2BuMHd5/Vw08XT+PO+05ztsr8Y2tAW2cA0oSAn9j0R4a6r5nC4qZNnqofeX3KsuZMZpfnnvfndu34Bnb1BfvDcQVvjONrcRVdviM9ft4BZZQV89bFqWz+rrUeaEYm8Fv/64Z22P73uP9XOv2+sHfY6yIgK7psOneGzD73B1/9g76PPc/tO8/C2ej551RyuWVhha0PGC/sbeLr6NJ9++1yunF+O3yvssRHcuwMhvv3MfpZNH88N0fpdy8wJ+Zw42z3kL++BjbX4vB4+dkXVoNvKi3JTmrnvqDtLbVMnt66cHvf24jzfsBdUWzp72XW8Ne2UDPRVy+hpTO4JhdOfuUNkZt0dCA+7FUF7d/C8xdT+blk5jUDI8PjOgT0HE2ts72FiQc6gf9u6pZOpmpjPv714aMjX+9EzXYMKAeZWFPH+Syr55eajHLVxUPieE5H4cPGMEr564xION3Xyk5cOD3m/LUdbmF9RxD/evJTdx9vY8IK99Mz9z9fwjSf2ppw6GmjEBPczHT185qE3EBFqGzuHTHO0ngvw5UffZMGkIj799rlcUjWBM529SVMs3YEQX32smtllBXz8rbPJ8XmYU15oa+b+81ePcKK1m3vXL8Qz4MlWOTGfUNhwvCXxYktDezePbK/ntlXTqSjKG3R7RVFuSjP3h16vY5zfy7qLJse9vTDXR08wPKx+HK8casIYWDs/vcVU6EvLBLVaxjWBcOrtB/p7y+yJ+L0y7Lx7R3f8tAzA4inFLJpSzH+/Xmd7RtrQ3k1Fce6g73s9wp1XzmFXfSubDiUu4zTGcOxMFzPjfLL93LXz8Hk8fOvp/UOOY+/JNrweYW5FIVfNL2fdksn84LmD1LckjlGhsGH70RZWV5WybukU3r18Kt9/7iD7TiWPNaGwYePBRrwe4ZtP7mVXffoNBUdEcA+HDX/1652cPRfgB3esAOCFA8lTM197vJqmjl7+5b3LyfV5uSTarXBrktnHD547yJEzXXztpiWxFf3FU4tj78yJtHT2cv/zNVyzsILL5wwOdNaTJ9mi6s9ePkIwFObOtbPj3l5elMuZjh5becTWrgC/33mc96yYmjBdEmtBMIyKmZcONFGc52PZtPFpP4a10Kc5d3eEwwZjSGuHqqUg18fKytJh593buwMU5sZ/PooIH7y0kj0n22x3QG3s6DlvMbW/W1ZOo6wwl39LsljZ0hWgvSdI5cSCQbdVFOfxiStn84ddJ9kxxHj2nGxjbnkhef5IKvZv370Yjwhf+e3uhG9U+0+109ETjO0N+dqNSxg/zs/nf70z6YRrZ/1ZznYF+OqNSygvzOWeX71BW5qfwEdEcH/gpVpePNDI392wmOsvmsLMifm8sD/xE+2xnSd4dPtxPvW2uVw0PRJ45pQXUpok7159opUfv1jLrSunn5dmWDylmIb2nqS7Q//1zwfp7Aly7/qFcW+fGX3yHEvwEe9MRw+/2HSE6y+aQlXZ4CcaRIJ72GBrkefh7fV0B8J86C0zE15TGA366S6qGmN46WAjV8wtwzeMfK41cw9oWsYV1lpGOpuY+rtyfjnVJ9rS3iUNkYM6Es3cIbLwX5jr45c2e8Q0tvect5jaX57fyyfWzuKlg01sTfCat1Iu8WbuAHdeOZuywhy+8cc9ST9N7D3ZxqIpRbGvp5WM44vvXMCLBxr5XYLWClZDNqtF9oSCHP7x5ouoPtHGt59N/GnhhX0NeATevWwK379jBcfPnuNvHn0zrfx71oP7liPN/MvT+7n+osmxCpKr55fz6qGmuLWsx8+e4yu/fZMVlSX8n2vmxr4vEjnVfVucrdTBUJgvPbKLknw/f3vDovNuWzwlcqpQotTMvlNt/Nfmo9y+pjK2YWmgiqJccn2ehLXuG148RHcgxGevHXQ41XmPAX21vYkYY3hw81FWVJawZGriGbX1Ikv3Xf9QYycnWruHlW8HYgt9OnN3h5XuGk5aBojtY3ilJr3UTDhs6OgJUpwkuBfm+rh5xTT+8ObJIScxobChqaM3bgrT8uHLZlJWmMO3nzkQ93ar59PMBJvvCnN9fOG6BWw50sJjCdYCWjp7OdnazeIBp499+LIqVlaW8LXH98R9Q9xypIXJxXlMKxkX+951SybzgUsreWBjLa8m+Dm/cKCRFZWllOTnsLpqAn/1jvn8YddJfplGP/usBvfTbd3c/eB2ZkzI559uXRar1b56YQXdgTCvHT7/HTkUNnzuoR0YA//6/hWDZpSrqyZQ29Q56If905cPs/t4G1+7cSkl+Tnn3bYoSXA3xvD3v6+mKM/HX1+3IOG/w+MRKifkx03LNLR184tNR3nPxdOYW1GY8DHs7lJ99dAZaps6+XCSWTv0Bfd0a92tj+jpbl6yxHLuWufuCmvmPpwFVYAlU8dTmu9n44H0gntnbxBjIpvnkvnQW2bSGwzzm611Sa9r6eolFDYJZ+4A+Tk+Pnn1XDbVnuHVQ4PHbU224lWTWd63egbLp4/nG3/cGzeFacUFK05YvB7hn29dRldPZB1voG1HmlldVTpo/8n/fdciZpUV8Llf7xjURqGxvYdd9a28bUHfhOqTV83hbQvK+frj1XEnrslkLbgbA3c/uJ3OniAbPrTqvNzxZbMnkuvzDCqJ3PDiIV4/0szXb1oSdyu8lXfv/0M43NTJd549wHWLJ3F9nMXH0oIcpozPi5t3f3zXSV473MwX37mQ0oKcQbf3N3NiftzWpj964RDBsOEz185Len9rhjLUouovNx+lNN/P9QMqdgYqyh3eaUwvHmikamJ+0heGHdo4zF1WFdJwZ+5ej3DF3DI2HmwknMbvynqexdvE1N+CyUWsqZrAg68dS/r3NEQPr6lIEtwBPnhpJZOL8/jOMwcGpS6OnulicnFeLFcej8cjfO2mpTS09/CDPw8ujdyTILgDzJtUxKevmcsfdp08ryzz+NlznGjtjtuLKT/Hx/dvX0FzZy/3PrrrvDFb+3SuXlBx3vi+9/4VTBk/jrsf3DbkJ/vz/m22r3TYydZzbDvawv+7bRkLJp+f7sjze7lszsTz8u5bjzTznWcP8O7lU7k5zqYdgKXTxpPj88RycMFQmM//egc5Pg/3vWfpoHdRy+Ipxew9ef7u1s6eIN/44x4umjae918yI+79+qucUMCx5q7zflknzp7jV68d472rpsfy8omUFQ49cz/V2s0ze07zvtUzkj5hof/MPfW0THt3gFdrznDtokkp33cgn6ZlXBVLywxjXcRy7aJJNLb3pHXkY7y+Mol86LKZHGvuYmOSBdx4G5jiyfN7+dQ1c9l6tGXQ5qJjzZ22+iFdPKOE96+ewU9fPjyoDcOek21UFOXGXp8D/e+r5rBwchFf+d3uWKrJij+rEnRRXTptPF+4bgFPV58+L93ywoFGyotyY6liy/h8Pz/+8CpazwW458E3hvz3WLIW3M909vKJtbNiPcgHunp+OYebOjnS1MmZjh7u+dUbzCgdxzduThykc31elk8fz5ZoxcyPN9ay/dhZ/uE9S5lUnDh3t2hKMTWNHefl+H/wXA2n23r42k1LbH3knTkxn67e0HktBH74fA0Gwz391gYSGZfjpSjXlzS4P7TlGKGw4QP9drcmUjiMapnn9jXQGwqzPkGZZSp8sQVVTcu4wXrTHO7MHeCaRRX4vcLTNjYHDTSwl3sy65ZMpqwwh19uTpxHtvosDRXcAd6/egbTSsbxnWfPn70fTVAGGc8X1y0gP8fLVx+rPu8x9pxoG5Rv7y/H5+G777+Y1q5AbOFz65EWCnN9LJwcf40O4BNrZ3P1gnLue3wPu+ojR1huPNDIVfPLB5VaQyRG/fOty3jd5kZNyGJwL8z18aV18atPoO+jyTU4j2cAABmHSURBVHP7Gvjs/+yguauX+z+4csidkqurJlB9opWtR5r57rMHuGHZFG5cHv8NxLJ4ajGhsOHg6ci79v5T7fz05Vreu2q67WPlrBmCVZ9/uKmTX2+p4/ZLKpleau8JVl6ceCNTdyDELzcf46r55UN+CoDh5dyfrj5FeVEuK2ak3r99IG0/4C4rLTPcnDtEmnxdMbeMp3afSrk6I16730RyfB5uv6SSP+87zZEE+1Lsztytx/s/b5/LrvrW2BvTud4QDe09CRdTB5pYmMvnr1vAyzVNscXVnmCImoaOuCmZ/hZNKebz183nqepTPLr9OFuONLOisiTppymPR/ju+y6mrDCHux/czosHGmg9F+DqBYkLGG66eFrcDZAJ/w7bVzpsVllB0n98VVkBs8oK+Jdn9vPSwSa+fuOSpNUhltUzSwmEDH/x8y1MLMzhH5KkYyz9F1VDYcOXHtlFcZ6fv7l+UdL79RerdY8G9396ci+5Pg+ffvvQs3ZLeWHi4P7bN47T1NHD/74yfp38QLk+Lzk+T8rVMud6Qzy/r5F3LpkUdwaRKn+s5a8GdzdYaxnDaT/Q37olkznW3GVr13Z/qczcAT5y+Uz8Hg///lJt3Nsb23sozPWRn2Pv8W5dOZ15FYV888l99AbDsUqZeDXuiXzoLTNZPqOErz++h5bOXmoaOgiGzaA0STwfXzubNbMm8PePVbP/dLutg+RLC3L44QdXcrqtm3t+9QZej7B2bvLqtL+7YbHtf0/WSyGTuWp+OV29IW5ZOc1W3hv68lxt3UH+5b3LB1XHxDNzQj75OV72nGzj568eYUfdWf7u3YuHXETtb3ppPh6JbGTaXHuGp6tP88mr5yQt5Rqoojgv7oJJKGz49421XDRtfEoNvIrSaB628WAj5wIh1i1JvmBrl9WKNqQ7VF1h/VydmLkDvGPxJDwCT6d4LnDfgqq9YFxRlMetq6bxm231cSc0De09Qy6m9ufzevjKuxZx9EwXv9h0ZMga93giFTAX0XouwH1/2BMrshhq5m7d99vvjfSqMqavuGMoKytL+fL6RXT1hlhZWTLkGcVDTVT7s/ebyJIPvWUmobDhy9cvtP2PKsnPYd2SycybVGi7RtvjERZOLmLjwUZOnu3mmoUVQ6ZyBsrxeZgyfhxHmjp5bt9ppo7P4+MJdqMmkmjm/uye09Q2dfLDD6xI6ZebTtvfp3efoiTfz6WzUz91KZ5YtYxuYnKFtTks3Za/A00szGXNrAk8VX2Kv0pS/juQlZaxs6Bq+fja2Ty0pY5fbDrC5wf8XY3tPZSlENwhksq9cn45P3iuJlYqbDctY1k4uZi7r57D95+r4UBDO3l+D7MSbDwcaMaEfL55y0X82wuHWGEznQvwsSuqaD0XYGUax1gmM6Jn7nMrCrnvPUttfzSzbPjwqkFPlqEsnlpMbWMnHiFpZU0yMyfm89TuU+w+3sYX1y0csqJloIri3EEHZRtj2PDiISon5LNuSWoLnKke2NEbDPPs3tNcu2iSYx/ztSuku0KxOnfnXsrrlkzmwOkODjXaP8CjozuISORwdrvmlBdy3eJJ/GLT0UGHwzemOHO3fOX6RbR3B3hgYy3FeT5bn9wH+tQ1c5lTXsDu420smFyc0qeidy+fyhOfWcu4HPuvfRHhc++Yz1Xzh7dhcKARHdwzycrnf2n9wvN2laVi5sR8ekNhlk8fn/LMH/oOJeg/e99ypIUddWf5xJWzUy53K8pN7ai9TbVnaO8OpvwmkoxX69xdZVUhOVEtY7ku+vt/KoXUTFu0I2Sq6zR3XTWH1nMB/mfL+ZuakrUeSGbB5EjHx95Q2FbhQTy5Pi//fOsyRGBJkkqZkU6De9RNF0/l/g+s5EOXJt/5mcyc8sgO1P97w+K0FiNju1T7lVNuePEQEwtyeO+q+K19k0k1LfPU7lMU5Hhjp/M4wR87IFtz7m4IOdRbpr+pJeNYPqMkpZLI9u4gRSmkZCwrKktZM2sCP335cOyNqqs3SEdPMK3gDvBX75hPYa6P2eXpBXeIVN3958fW8GkbZcwjlQb3qPwcH+9aNmVYFSJ3rKnkkU9eHndnmh1We1Nrd97ek208t6+Bj1xWlXKKByJpGbvBPRQ2PLvnFG9bWJHW35WIV9MyrnKq/cBA65dOZld9a9K2tv119ARslUHGc9dVszl+9lzsZDHrk2sqxQj9lRfl8ujdl6dU7RbPlfPLYyc4XYg0uDuoINeXcFeaHX1pmUjFzHeePUBRno+PXl6V1uMV59lPy7xS00RTR++QbQ1Spe0H3NXXfsDZl/L6pZHUTKKGWgO1dweH7CuTyNsWVLB0WjHff+4ggVC47+zUNGfuAPMnFSXduDgWaHAfQUrzc/B5hIb2HnbWneXZPae5c+3sIcujEinMjSyo2tmQ8vC2esaP83PNwoohr01F30lMmpZxQ1/7AWdn7jMnFnBJVSkPb6u39fxpT3JQx1BEhM+/YwF1zef4zdb6WH+ldBZUVR8N7iNI5KDsSDnkt589QGm+n4+9dVbaj1eU5yNsoKs3+XmPbd0Bnq4+xY3LpzqakgGdubvNyfYDA922ajq1jZ22es109CQ+Ys+OqxeUs7Ky5LwTjoYzc1ca3Eec8qJcNh5sZOOBRu66as6wXjBWDnSovPsfd52kJxjmtjQWbYfi8Qge0fYDbgm4lJYBuP6iKeT5PTyyrX7IayOHY6f3CRMis/cvXLeAk63d/PTlw5GDsdMoY1R9NLiPMBVFuZxu66GsMJePXFY1rMfqax6WPO/+8LZ65lUUsmx6+sfpJePzePQkJpe4US1jKcrzs37pFB7beSLuwTn9tXcnP6jDjsvnlnHZ7InR53+OI+0vxjIN7iOM9VH0U2+bk9JGiHj6TmNKPHOvbexg29EWbls1Pa2NW3Z4PaLtB1wSdLj9wEC3rZpOe3eQZ/ecTnhNbzBMTzA8rE+Zls9fFzmtTFMyw6fBfYS5dPYEVlaWcMeaodv6DqXYRmfIR7bX4xES9sh3gs8rOnN3iVUt43chLQORg3Omjs/j4SSpmb6OkMMP7qurJnDryulcMde5vRZjla1nhIisE5H9IlIjIvcmue4SEQmJyG3ODXFsuXnFdB69+wpHFjatk+gTNQ8LhQ2Pbj/OVfPLqXCxbMznEc25uyTWfsCFtAxE1kxuXTWdlw42cqo1/ilAVouLwmHk3Pv79vuW8+X1w6tRVzaCu4h4gfuB9cBi4A4RGdR3MnrdPwNPOz1IlZ6hTmN69VATJ1u7uW2VvY6b6fJ5PVot45JANC3jdzE/fevK6YQNPPpG/Nl7qu1+VWbYmbmvAWqMMbXGmF7gIeCmONd9GngEaIhzm8qCoU5jss5jffsiZ2vbB/J5ROvcXRJyaYdqf1VlBayZNYH/fv1Y3E9gGtxHJjvBfRrQv6tPffR7MSIyDbgZ2JDsgUTkThHZKiJbGxsTn5+onFGY40Mk/oJqXXMXz+w5zR1rKh2vbR/Iq2kZ17i1Q3Wgj15eRV3zOf60d/DCaiznnutMWkY5w84zIt6UYOAr9XvAl4wxSeuljDEPGGNWG2NWl5c7295SDebxCIU5vrhpmf989QheET58WfqN0uzya1rGNW7tUB3ousWTmFYyjv945fCg23TmPjLZCe71QP+k7HRgYMOJ1cBDInIEuA34kYi8x5ERqmEpzBt8GlNnT5D/2VrH+oumZKQxktcjsSCknOVW47CBfF4PH7lsJptrm9k74Ai+vgVVDe4jiZ3gvgWYJyKzRCQHuB14rP8FxphZxpgqY0wV8DBwtzHmd46PVqUsXtvfR7bX094dTOmw3eGI5Nx15u6GvrSM+xt+br+kknF+76DZu5OlkMo5QwZ3Y0wQuIdIFcxe4NfGmGoRuUtE7nJ7gGp4rOZhlnDY8PNXjrB8RgkrUzgKbDh8XtG0jEsyNXMHGJ/v55aV0/jdjhOc6XfmQHtPkByfh1yfu2s3KjW2VmGMMU8YY+YbY+YYY74R/d4GY8ygBVRjzEeNMQ87PVCVnqIBbX9fPNBIbVMnf5GhWTtEjoDT4O6OUDiMzyOu7S4e6GNXVNEbDPOr147FvpfuQR3KXbpDdZQbmJb52SuHqSjKZf1SZ/u2J+PX9gOuCYaM64up/c2tKGLtvDL+a/NReoKR+onhtPtV7tHgPsoV5floj6ZldtSd5aWDTXz0iipyfJn71Xs92n7ALcGwcb0McqA7r5xNQ3tPrCVBR3dAF1NHIA3uo1z/tMy//inSI3643SZT5fNqnbtbQmGTkXx7f2+dW8bKyhLuf66G3mA4mpbRGveRRoP7KFeY66M7EGbb0Wae39/IJ66c7Uj3vlT4NOfumkAojD+DaRmI9F7/7LXzOdHazW+21dHRo2mZkUiD+yhnvej+4Y97szJrB20/4KZszNwB1s7rm703d/ZqWmYE0uA+ylmn47xx7CwfX5v5WTtoWsZNgVDmc+4Qmb1/Jjp7b2jvodihjpDKORrcRzkrmJfk+/lfl1dlZQyRk5h05u6GUDic0WqZ/q6cV8aKyhKArEwaVHIa3Ee5kvzIjOoTWZq1gzYOc1MwS2kZ6Mu9A4wfpzP3kUbfbke51TNL+eYtF7l60tJQdIeqe4Ih49opTHZcOa+M773/Yt46T09OGmk0uI9yPq/HkSP7hjUG7S3jmmzO3CEye39PFicOKjFNyyjXafsB9wSzmHNXI5sGd+U6v1db/rolFDYZ6QipLjwa3JXrvB4hpGkZVwSzVAqpRj59VijX6UlM7tG0jEpEg7tynZ7E5J5sL6iqkUuDu3Kdz6OlkG7RnLtKRIO7cp3P48GYyClQylmBkMHn1ZexGkyfFcp1Vk44oKkZx1knMSk1kAZ35TorJ6wtCJwXDGnOXcWnwV25zppZ6mlMzguGDX5Ny6g49FmhXOfTmbtrstXPXY18GtyV66wFPy2HdF42TmJSFwYN7sp11sxdm4c5T2fuKhEN7sp1uqDqnmBY2w+o+PRZoVxnLfjpaUzOC4a0FFLFp8FduU5n7u4Jhg1ezbmrODS4K9dZC37agsB5wXB2T2JSI5c+K5TrvNHgowuqzjLG6IKqSkiDu3JdrFpGSyEdZaW5NOeu4tHgrlxn9ZbRnLuzrDSXNg5T8eizQrnOq+0HXBHUmbtKQoO7cp1Vh60zd2dZRxdqzl3Fo8FduU5b/rrD+nlq+wEVj63gLiLrRGS/iNSIyL1xbv+giOyK/veqiCx3fqjqQhVrHKZpGUdZn4S8Wgqp4hjyWSEiXuB+YD2wGLhDRBYPuOwwcJUxZhlwH/CA0wNVFy4rLaN17s6ydvzqAdkqHjtv+WuAGmNMrTGmF3gIuKn/BcaYV40xLdEvNwPTnR2mupD5vFoK6QYthVTJ2Anu04C6fl/XR7+XyF8CTw5nUGp00fYD7giGdUFVJeazcU28Z07cV6mIvI1IcH9rgtvvBO4EqKystDlEdaHz6w5VV1g/Tz2JScVj51lRD8zo9/V04MTAi0RkGfAT4CZjzJl4D2SMecAYs9oYs7q8vDyd8aoLkFfTMq6wfp46c1fx2AnuW4B5IjJLRHKA24HH+l8gIpXAo8CHjTEHnB+mupD5Pdo4zA1WmktLIVU8Q6ZljDFBEbkHeBrwAj8zxlSLyF3R2zcAfwdMBH4kIgBBY8xq94atLiRePYnJFYGQlkKqxOzk3DHGPAE8MeB7G/r9+ePAx50dmhottBTSHVoto5LRt3zlur7GYZpzd1LQqnPX4K7i0OCuXKeNw9zR1xVSg7saTIO7cp1P69xdoe0HVDL6rFCu61tQ1bSMkwKallFJaHBXrhMRfB7RBVWHhTQto5LQ4K4ywucVTcs4rO+wDn0Zq8H0WaEywufx6IKqw6wdqpqWUfFocFcZ4fWIlkI6LKgnMakkNLirjPB7NefutGBYG4epxPRZoTLC6xFtP+AwbfmrktHgrjLC5/HozN1hIS2FVElocFcZ4fOKtvx1mO5QVclocFcZ4dU6d8dpKaRKRp8VKiP8Hg8hzbk7SjcxqWQ0uKuMiMzcNS3jJKv9gFc0uKvBNLirjPBpKaTjQmGDR8CjC6oqDg3uKiN8WgrpuEDI4NMad5WAPjNURkRKITUt46RQOKxlkCohDe4qI7RxmPOCYaPBXSWkwV1lhNcj2jjMYUFNy6gk9JmhMsLn0Zm704Jho60HVEIa3FVG+LzafsBpoXAYvwZ3lYAGd5URkWoZXVB1UjBk8OoGJpWABneVEV5NyzgusqCqL2EVnz4zVEb4vR4CWgrpqKCWQqokNLirjPB6RHvLOCwY0gVVlZgGd5URehKT80Jho6cwqYT0maEyQlv+Oi+gpZAqCQ3uKiN8Ho9WyzhM2w+oZDS4q4zQTUzOizQO0+Cu4tPgrjLC6xUCGtwdFdJSSJWEPjNURvg9Hp25OywY1pm7SkyDu8oIaxOTMRrgnRIMac5dJabBXWWEFYS0YsY5Ia2WUUnYCu4isk5E9otIjYjcG+d2EZHvR2/fJSIrnR+qupBZrWk1NeOcSFpG52cqviGfGSLiBe4H1gOLgTtEZPGAy9YD86L/3Qn8m8PjVBc4a+Ye0HJIx2haRiXjs3HNGqDGGFMLICIPATcBe/pdcxPwCxNJqG4WkRIRmWKMOen4iNUFyUof3HT/K3hFA5IT6lvOsXJmabaHoUYoO8F9GlDX7+t64FIb10wDzgvuInInkZk9lZWVqY5VXcDetrCCHXVn9RxVB82bVMhtK6dnexhqhLIT3ONNswYmTu1cgzHmAeABgNWrV2vydQyZVVbA9+9Yke1hKDVm2FmNqQdm9Pt6OnAijWuUUkpliJ3gvgWYJyKzRCQHuB14bMA1jwEfiVbNvAVo1Xy7Ukplz5BpGWNMUETuAZ4GvMDPjDHVInJX9PYNwBPA9UAN0AV8zL0hK6WUGoqdnDvGmCeIBPD+39vQ788G+JSzQ1NKKZUu3QGhlFKjkAZ3pZQahTS4K6XUKKTBXSmlRiHJVgtWEWkH9mflL09NGdCU7UHYoON01oUwzgthjKDjdNoCY0zRUBfZqpZxyX5jzOos/v22iMhWHadzdJzOuRDGCDpOp4nIVjvXaVpGKaVGIQ3uSik1CmUzuD+Qxb87FTpOZ+k4nXMhjBF0nE6zNc6sLagqpZRyj6ZllFJqFNLgrpRSo9CICO4i8gURMSJSlu2xxCMi90UP/t4hIs+IyNRsjykeEfmWiOyLjvW3IlKS7TENJCLvFZFqEQmLyIgrOxvqMPiRQER+JiINIrI722NJRkRmiMjzIrI3+jv/TLbHFI+I5InI6yKyMzrOr2V7TImIiFdE3hCRPwx1bdaDu4jMAN4BHMv2WJL4ljFmmTHmYuAPwN9le0AJPAssNcYsAw4AX87yeOLZDdwCbMz2QAayeRj8SPBzYF22B2FDEPi8MWYR8BbgUyP059kDXGOMWQ5cDKyLnksxEn0G2GvnwqwHd+C7wBeJcyzfSGGMaev3ZQEjdKzGmGeMMcHol5uJnIg1ohhj9hpjRurO5Nhh8MaYXsA6DH5EMcZsBJqzPY6hGGNOGmO2R//cTiQoTcvuqAYzER3RL/3R/0bca1xEpgPvAn5i5/qsBncRuRE4bozZmc1x2CEi3xCROuCDjNyZe39/ATyZ7UFcYBId9K6GSUSqgBXAa9kdSXzRdMcOoAF41hgzEsf5PSITYVunzLvefkBE/gRMjnPTV4C/Aa5zewx2JBunMeb3xpivAF8RkS8D9wB/n9EBRg01zug1XyHykfjBTI7NYmeMI5Stg95VakSkEHgE+OyAT8EjhjEmBFwcXaf6rYgsNcaMmDUNEbkBaDDGbBORq+3cx/Xgboy5Nt73ReQiYBawU0QgkkLYLiJrjDGn3B7XQInGGcevgD+SpeA+1DhF5H8BNwBvN1naxJDCz3Kk0YPeHSYifiKB/UFjzKPZHs9QjDFnReQFImsaIya4A1cAN4rI9UAeUCwivzTGfCjRHbKWljHGvGmMqTDGVBljqoi8sFZmI7APRUTm9fvyRmBftsaSjIisA74E3GiM6cr2eC5Adg6DVzZJZNb2U2CvMeY72R5PIiJSblWWicg44FpG2GvcGPNlY8z0aKy8HXguWWCHkbGgeiH4JxHZLSK7iKSRRmRJF/BDoAh4Nlq2uWGoO2SaiNwsIvXAZcAfReTpbI/JEl2Mtg6D3wv82hhTnd1RDSYi/w1sAhaISL2I/GW2x5TAFcCHgWuiz8cd0ZnnSDMFeD76+t5CJOc+ZKnhSKftB5RSahTSmbtSSo1CGtyVUmoU0uCulFKjkAZ3pZQahTS4K6WUA5xu6CYi/y/ayGyviHw/WlpqmwZ3pZRyxs9xqKGbiFxOpJR0GbAUuAS4KpXH0OCulFIOiNfQTUTmiMhTIrJNRF4SkYV2H47ITtQcIJdIM7PTqYxHg7tSSrnnAeDTxphVwBeAH9m5kzFmE/A8cDL639PGGFutfi2u95ZRSqmxKNow7XLgN/3S5bnR224Bvh7nbseNMe8UkbnAIvradj8rIldGPx3YosFdKaXc4QHORg/5OU+0iVqyRmo3A5utPvMi8iSRA09sB3dNyyillAui7Y0Pi8h7IdJITUSW27z7MeAqEfFFO2tehc0TmCwa3JVSygEJGrp9EPhLEdkJVGP/ZK+HgUPAm8BOYKcx5vGUxqONw5RSavTRmbtSSo1CGtyVUmoU0uCulFKjkAZ3pZQahTS4K6XUKKTBXSmlRiEN7kopNQr9fxqNo3OTxu0FAAAAAElFTkSuQmCC\n"
     },
     "metadata": {
      "needs_background": "light"
     }
    }
   ],
   "source": [
    "# Catastrophic cancellation occurs when subtracitng\n",
    "# two numbers that are very close to one another\n",
    "# Here is another example\n",
    "import numpy as np\n",
    "import matplotlib.pyplot as plt\n",
    "\n",
    "%matplotlib inline\n",
    "\n",
    "def f(x):\n",
    "    return (1 - np.cos(x))/(x*x)\n",
    "\n",
    "x = np.linspace(-4e-8, 4e-8, 100)\n",
    "plt.plot(x,f(x));\n",
    "plt.axvline(1.1e-8, color='red')\n",
    "plt.xlim([-4e-8, 4e-8]);\n"
   ]
  },
  {
   "cell_type": "code",
   "execution_count": 14,
   "metadata": {},
   "outputs": [
    {
     "output_type": "stream",
     "name": "stdout",
     "text": [
      "0.999999999999999888977697537484\n0.000000000000000111022302462516\n0.917540\n"
     ]
    }
   ],
   "source": [
    "# We know from L'Hopital's rule that the answer is 0.5 at 0\n",
    "# and should be very close to 0.5 throughout this tiny interval\n",
    "# but errors arisee due to catastrophic cancellation\n",
    "\n",
    "print ('%.30f' % np.cos(1.1e-8))\n",
    "print ('%.30f' % (1 - np.cos(1.1e-8))) # exact answer is 6.05e-17\n",
    "print ('%2f' % ((1 - np.cos(1.1e-8))/(1.1e-8*1.1e-8)))"
   ]
  },
  {
   "cell_type": "code",
   "execution_count": 16,
   "metadata": {},
   "outputs": [
    {
     "output_type": "display_data",
     "data": {
      "text/plain": "<Figure size 432x288 with 1 Axes>",
      "image/svg+xml": "<?xml version=\"1.0\" encoding=\"utf-8\" standalone=\"no\"?>\r\n<!DOCTYPE svg PUBLIC \"-//W3C//DTD SVG 1.1//EN\"\r\n  \"http://www.w3.org/Graphics/SVG/1.1/DTD/svg11.dtd\">\r\n<!-- Created with matplotlib (https://matplotlib.org/) -->\r\n<svg height=\"261.19625pt\" version=\"1.1\" viewBox=\"0 0 381.646875 261.19625\" width=\"381.646875pt\" xmlns=\"http://www.w3.org/2000/svg\" xmlns:xlink=\"http://www.w3.org/1999/xlink\">\r\n <defs>\r\n  <style type=\"text/css\">\r\n*{stroke-linecap:butt;stroke-linejoin:round;}\r\n  </style>\r\n </defs>\r\n <g id=\"figure_1\">\r\n  <g id=\"patch_1\">\r\n   <path d=\"M 0 261.19625 \r\nL 381.646875 261.19625 \r\nL 381.646875 0 \r\nL 0 0 \r\nz\r\n\" style=\"fill:none;\"/>\r\n  </g>\r\n  <g id=\"axes_1\">\r\n   <g id=\"patch_2\">\r\n    <path d=\"M 36.465625 224.64 \r\nL 371.265625 224.64 \r\nL 371.265625 7.2 \r\nL 36.465625 7.2 \r\nz\r\n\" style=\"fill:#ffffff;\"/>\r\n   </g>\r\n   <g id=\"matplotlib.axis_1\">\r\n    <g id=\"xtick_1\">\r\n     <g id=\"line2d_1\">\r\n      <defs>\r\n       <path d=\"M 0 0 \r\nL 0 3.5 \r\n\" id=\"m3d990314e2\" style=\"stroke:#000000;stroke-width:0.8;\"/>\r\n      </defs>\r\n      <g>\r\n       <use style=\"stroke:#000000;stroke-width:0.8;\" x=\"36.465625\" xlink:href=\"#m3d990314e2\" y=\"224.64\"/>\r\n      </g>\r\n     </g>\r\n     <g id=\"text_1\">\r\n      <!-- −4 -->\r\n      <defs>\r\n       <path d=\"M 10.59375 35.5 \r\nL 73.1875 35.5 \r\nL 73.1875 27.203125 \r\nL 10.59375 27.203125 \r\nz\r\n\" id=\"DejaVuSans-8722\"/>\r\n       <path d=\"M 37.796875 64.3125 \r\nL 12.890625 25.390625 \r\nL 37.796875 25.390625 \r\nz\r\nM 35.203125 72.90625 \r\nL 47.609375 72.90625 \r\nL 47.609375 25.390625 \r\nL 58.015625 25.390625 \r\nL 58.015625 17.1875 \r\nL 47.609375 17.1875 \r\nL 47.609375 0 \r\nL 37.796875 0 \r\nL 37.796875 17.1875 \r\nL 4.890625 17.1875 \r\nL 4.890625 26.703125 \r\nz\r\n\" id=\"DejaVuSans-52\"/>\r\n      </defs>\r\n      <g transform=\"translate(29.094531 239.238438)scale(0.1 -0.1)\">\r\n       <use xlink:href=\"#DejaVuSans-8722\"/>\r\n       <use x=\"83.789062\" xlink:href=\"#DejaVuSans-52\"/>\r\n      </g>\r\n     </g>\r\n    </g>\r\n    <g id=\"xtick_2\">\r\n     <g id=\"line2d_2\">\r\n      <g>\r\n       <use style=\"stroke:#000000;stroke-width:0.8;\" x=\"78.315625\" xlink:href=\"#m3d990314e2\" y=\"224.64\"/>\r\n      </g>\r\n     </g>\r\n     <g id=\"text_2\">\r\n      <!-- −3 -->\r\n      <defs>\r\n       <path d=\"M 40.578125 39.3125 \r\nQ 47.65625 37.796875 51.625 33 \r\nQ 55.609375 28.21875 55.609375 21.1875 \r\nQ 55.609375 10.40625 48.1875 4.484375 \r\nQ 40.765625 -1.421875 27.09375 -1.421875 \r\nQ 22.515625 -1.421875 17.65625 -0.515625 \r\nQ 12.796875 0.390625 7.625 2.203125 \r\nL 7.625 11.71875 \r\nQ 11.71875 9.328125 16.59375 8.109375 \r\nQ 21.484375 6.890625 26.8125 6.890625 \r\nQ 36.078125 6.890625 40.9375 10.546875 \r\nQ 45.796875 14.203125 45.796875 21.1875 \r\nQ 45.796875 27.640625 41.28125 31.265625 \r\nQ 36.765625 34.90625 28.71875 34.90625 \r\nL 20.21875 34.90625 \r\nL 20.21875 43.015625 \r\nL 29.109375 43.015625 \r\nQ 36.375 43.015625 40.234375 45.921875 \r\nQ 44.09375 48.828125 44.09375 54.296875 \r\nQ 44.09375 59.90625 40.109375 62.90625 \r\nQ 36.140625 65.921875 28.71875 65.921875 \r\nQ 24.65625 65.921875 20.015625 65.03125 \r\nQ 15.375 64.15625 9.8125 62.3125 \r\nL 9.8125 71.09375 \r\nQ 15.4375 72.65625 20.34375 73.4375 \r\nQ 25.25 74.21875 29.59375 74.21875 \r\nQ 40.828125 74.21875 47.359375 69.109375 \r\nQ 53.90625 64.015625 53.90625 55.328125 \r\nQ 53.90625 49.265625 50.4375 45.09375 \r\nQ 46.96875 40.921875 40.578125 39.3125 \r\nz\r\n\" id=\"DejaVuSans-51\"/>\r\n      </defs>\r\n      <g transform=\"translate(70.944531 239.238438)scale(0.1 -0.1)\">\r\n       <use xlink:href=\"#DejaVuSans-8722\"/>\r\n       <use x=\"83.789062\" xlink:href=\"#DejaVuSans-51\"/>\r\n      </g>\r\n     </g>\r\n    </g>\r\n    <g id=\"xtick_3\">\r\n     <g id=\"line2d_3\">\r\n      <g>\r\n       <use style=\"stroke:#000000;stroke-width:0.8;\" x=\"120.165625\" xlink:href=\"#m3d990314e2\" y=\"224.64\"/>\r\n      </g>\r\n     </g>\r\n     <g id=\"text_3\">\r\n      <!-- −2 -->\r\n      <defs>\r\n       <path d=\"M 19.1875 8.296875 \r\nL 53.609375 8.296875 \r\nL 53.609375 0 \r\nL 7.328125 0 \r\nL 7.328125 8.296875 \r\nQ 12.9375 14.109375 22.625 23.890625 \r\nQ 32.328125 33.6875 34.8125 36.53125 \r\nQ 39.546875 41.84375 41.421875 45.53125 \r\nQ 43.3125 49.21875 43.3125 52.78125 \r\nQ 43.3125 58.59375 39.234375 62.25 \r\nQ 35.15625 65.921875 28.609375 65.921875 \r\nQ 23.96875 65.921875 18.8125 64.3125 \r\nQ 13.671875 62.703125 7.8125 59.421875 \r\nL 7.8125 69.390625 \r\nQ 13.765625 71.78125 18.9375 73 \r\nQ 24.125 74.21875 28.421875 74.21875 \r\nQ 39.75 74.21875 46.484375 68.546875 \r\nQ 53.21875 62.890625 53.21875 53.421875 \r\nQ 53.21875 48.921875 51.53125 44.890625 \r\nQ 49.859375 40.875 45.40625 35.40625 \r\nQ 44.1875 33.984375 37.640625 27.21875 \r\nQ 31.109375 20.453125 19.1875 8.296875 \r\nz\r\n\" id=\"DejaVuSans-50\"/>\r\n      </defs>\r\n      <g transform=\"translate(112.794531 239.238438)scale(0.1 -0.1)\">\r\n       <use xlink:href=\"#DejaVuSans-8722\"/>\r\n       <use x=\"83.789062\" xlink:href=\"#DejaVuSans-50\"/>\r\n      </g>\r\n     </g>\r\n    </g>\r\n    <g id=\"xtick_4\">\r\n     <g id=\"line2d_4\">\r\n      <g>\r\n       <use style=\"stroke:#000000;stroke-width:0.8;\" x=\"162.015625\" xlink:href=\"#m3d990314e2\" y=\"224.64\"/>\r\n      </g>\r\n     </g>\r\n     <g id=\"text_4\">\r\n      <!-- −1 -->\r\n      <defs>\r\n       <path d=\"M 12.40625 8.296875 \r\nL 28.515625 8.296875 \r\nL 28.515625 63.921875 \r\nL 10.984375 60.40625 \r\nL 10.984375 69.390625 \r\nL 28.421875 72.90625 \r\nL 38.28125 72.90625 \r\nL 38.28125 8.296875 \r\nL 54.390625 8.296875 \r\nL 54.390625 0 \r\nL 12.40625 0 \r\nz\r\n\" id=\"DejaVuSans-49\"/>\r\n      </defs>\r\n      <g transform=\"translate(154.644531 239.238438)scale(0.1 -0.1)\">\r\n       <use xlink:href=\"#DejaVuSans-8722\"/>\r\n       <use x=\"83.789062\" xlink:href=\"#DejaVuSans-49\"/>\r\n      </g>\r\n     </g>\r\n    </g>\r\n    <g id=\"xtick_5\">\r\n     <g id=\"line2d_5\">\r\n      <g>\r\n       <use style=\"stroke:#000000;stroke-width:0.8;\" x=\"203.865625\" xlink:href=\"#m3d990314e2\" y=\"224.64\"/>\r\n      </g>\r\n     </g>\r\n     <g id=\"text_5\">\r\n      <!-- 0 -->\r\n      <defs>\r\n       <path d=\"M 31.78125 66.40625 \r\nQ 24.171875 66.40625 20.328125 58.90625 \r\nQ 16.5 51.421875 16.5 36.375 \r\nQ 16.5 21.390625 20.328125 13.890625 \r\nQ 24.171875 6.390625 31.78125 6.390625 \r\nQ 39.453125 6.390625 43.28125 13.890625 \r\nQ 47.125 21.390625 47.125 36.375 \r\nQ 47.125 51.421875 43.28125 58.90625 \r\nQ 39.453125 66.40625 31.78125 66.40625 \r\nz\r\nM 31.78125 74.21875 \r\nQ 44.046875 74.21875 50.515625 64.515625 \r\nQ 56.984375 54.828125 56.984375 36.375 \r\nQ 56.984375 17.96875 50.515625 8.265625 \r\nQ 44.046875 -1.421875 31.78125 -1.421875 \r\nQ 19.53125 -1.421875 13.0625 8.265625 \r\nQ 6.59375 17.96875 6.59375 36.375 \r\nQ 6.59375 54.828125 13.0625 64.515625 \r\nQ 19.53125 74.21875 31.78125 74.21875 \r\nz\r\n\" id=\"DejaVuSans-48\"/>\r\n      </defs>\r\n      <g transform=\"translate(200.684375 239.238438)scale(0.1 -0.1)\">\r\n       <use xlink:href=\"#DejaVuSans-48\"/>\r\n      </g>\r\n     </g>\r\n    </g>\r\n    <g id=\"xtick_6\">\r\n     <g id=\"line2d_6\">\r\n      <g>\r\n       <use style=\"stroke:#000000;stroke-width:0.8;\" x=\"245.715625\" xlink:href=\"#m3d990314e2\" y=\"224.64\"/>\r\n      </g>\r\n     </g>\r\n     <g id=\"text_6\">\r\n      <!-- 1 -->\r\n      <g transform=\"translate(242.534375 239.238438)scale(0.1 -0.1)\">\r\n       <use xlink:href=\"#DejaVuSans-49\"/>\r\n      </g>\r\n     </g>\r\n    </g>\r\n    <g id=\"xtick_7\">\r\n     <g id=\"line2d_7\">\r\n      <g>\r\n       <use style=\"stroke:#000000;stroke-width:0.8;\" x=\"287.565625\" xlink:href=\"#m3d990314e2\" y=\"224.64\"/>\r\n      </g>\r\n     </g>\r\n     <g id=\"text_7\">\r\n      <!-- 2 -->\r\n      <g transform=\"translate(284.384375 239.238438)scale(0.1 -0.1)\">\r\n       <use xlink:href=\"#DejaVuSans-50\"/>\r\n      </g>\r\n     </g>\r\n    </g>\r\n    <g id=\"xtick_8\">\r\n     <g id=\"line2d_8\">\r\n      <g>\r\n       <use style=\"stroke:#000000;stroke-width:0.8;\" x=\"329.415625\" xlink:href=\"#m3d990314e2\" y=\"224.64\"/>\r\n      </g>\r\n     </g>\r\n     <g id=\"text_8\">\r\n      <!-- 3 -->\r\n      <g transform=\"translate(326.234375 239.238438)scale(0.1 -0.1)\">\r\n       <use xlink:href=\"#DejaVuSans-51\"/>\r\n      </g>\r\n     </g>\r\n    </g>\r\n    <g id=\"xtick_9\">\r\n     <g id=\"line2d_9\">\r\n      <g>\r\n       <use style=\"stroke:#000000;stroke-width:0.8;\" x=\"371.265625\" xlink:href=\"#m3d990314e2\" y=\"224.64\"/>\r\n      </g>\r\n     </g>\r\n     <g id=\"text_9\">\r\n      <!-- 4 -->\r\n      <g transform=\"translate(368.084375 239.238438)scale(0.1 -0.1)\">\r\n       <use xlink:href=\"#DejaVuSans-52\"/>\r\n      </g>\r\n     </g>\r\n    </g>\r\n    <g id=\"text_10\">\r\n     <!-- 1e−8 -->\r\n     <defs>\r\n      <path d=\"M 56.203125 29.59375 \r\nL 56.203125 25.203125 \r\nL 14.890625 25.203125 \r\nQ 15.484375 15.921875 20.484375 11.0625 \r\nQ 25.484375 6.203125 34.421875 6.203125 \r\nQ 39.59375 6.203125 44.453125 7.46875 \r\nQ 49.3125 8.734375 54.109375 11.28125 \r\nL 54.109375 2.78125 \r\nQ 49.265625 0.734375 44.1875 -0.34375 \r\nQ 39.109375 -1.421875 33.890625 -1.421875 \r\nQ 20.796875 -1.421875 13.15625 6.1875 \r\nQ 5.515625 13.8125 5.515625 26.8125 \r\nQ 5.515625 40.234375 12.765625 48.109375 \r\nQ 20.015625 56 32.328125 56 \r\nQ 43.359375 56 49.78125 48.890625 \r\nQ 56.203125 41.796875 56.203125 29.59375 \r\nz\r\nM 47.21875 32.234375 \r\nQ 47.125 39.59375 43.09375 43.984375 \r\nQ 39.0625 48.390625 32.421875 48.390625 \r\nQ 24.90625 48.390625 20.390625 44.140625 \r\nQ 15.875 39.890625 15.1875 32.171875 \r\nz\r\n\" id=\"DejaVuSans-101\"/>\r\n      <path d=\"M 31.78125 34.625 \r\nQ 24.75 34.625 20.71875 30.859375 \r\nQ 16.703125 27.09375 16.703125 20.515625 \r\nQ 16.703125 13.921875 20.71875 10.15625 \r\nQ 24.75 6.390625 31.78125 6.390625 \r\nQ 38.8125 6.390625 42.859375 10.171875 \r\nQ 46.921875 13.96875 46.921875 20.515625 \r\nQ 46.921875 27.09375 42.890625 30.859375 \r\nQ 38.875 34.625 31.78125 34.625 \r\nz\r\nM 21.921875 38.8125 \r\nQ 15.578125 40.375 12.03125 44.71875 \r\nQ 8.5 49.078125 8.5 55.328125 \r\nQ 8.5 64.0625 14.71875 69.140625 \r\nQ 20.953125 74.21875 31.78125 74.21875 \r\nQ 42.671875 74.21875 48.875 69.140625 \r\nQ 55.078125 64.0625 55.078125 55.328125 \r\nQ 55.078125 49.078125 51.53125 44.71875 \r\nQ 48 40.375 41.703125 38.8125 \r\nQ 48.828125 37.15625 52.796875 32.3125 \r\nQ 56.78125 27.484375 56.78125 20.515625 \r\nQ 56.78125 9.90625 50.3125 4.234375 \r\nQ 43.84375 -1.421875 31.78125 -1.421875 \r\nQ 19.734375 -1.421875 13.25 4.234375 \r\nQ 6.78125 9.90625 6.78125 20.515625 \r\nQ 6.78125 27.484375 10.78125 32.3125 \r\nQ 14.796875 37.15625 21.921875 38.8125 \r\nz\r\nM 18.3125 54.390625 \r\nQ 18.3125 48.734375 21.84375 45.5625 \r\nQ 25.390625 42.390625 31.78125 42.390625 \r\nQ 38.140625 42.390625 41.71875 45.5625 \r\nQ 45.3125 48.734375 45.3125 54.390625 \r\nQ 45.3125 60.0625 41.71875 63.234375 \r\nQ 38.140625 66.40625 31.78125 66.40625 \r\nQ 25.390625 66.40625 21.84375 63.234375 \r\nQ 18.3125 60.0625 18.3125 54.390625 \r\nz\r\n\" id=\"DejaVuSans-56\"/>\r\n     </defs>\r\n     <g transform=\"translate(344.007812 251.916563)scale(0.1 -0.1)\">\r\n      <use xlink:href=\"#DejaVuSans-49\"/>\r\n      <use x=\"63.623047\" xlink:href=\"#DejaVuSans-101\"/>\r\n      <use x=\"125.146484\" xlink:href=\"#DejaVuSans-8722\"/>\r\n      <use x=\"208.935547\" xlink:href=\"#DejaVuSans-56\"/>\r\n     </g>\r\n    </g>\r\n   </g>\r\n   <g id=\"matplotlib.axis_2\">\r\n    <g id=\"ytick_1\">\r\n     <g id=\"line2d_10\">\r\n      <defs>\r\n       <path d=\"M 0 0 \r\nL -3.5 0 \r\n\" id=\"m8b1c66b0cf\" style=\"stroke:#000000;stroke-width:0.8;\"/>\r\n      </defs>\r\n      <g>\r\n       <use style=\"stroke:#000000;stroke-width:0.8;\" x=\"36.465625\" xlink:href=\"#m8b1c66b0cf\" y=\"194.989091\"/>\r\n      </g>\r\n     </g>\r\n     <g id=\"text_11\">\r\n      <!-- 0.48 -->\r\n      <defs>\r\n       <path d=\"M 10.6875 12.40625 \r\nL 21 12.40625 \r\nL 21 0 \r\nL 10.6875 0 \r\nz\r\n\" id=\"DejaVuSans-46\"/>\r\n      </defs>\r\n      <g transform=\"translate(7.2 198.78831)scale(0.1 -0.1)\">\r\n       <use xlink:href=\"#DejaVuSans-48\"/>\r\n       <use x=\"63.623047\" xlink:href=\"#DejaVuSans-46\"/>\r\n       <use x=\"95.410156\" xlink:href=\"#DejaVuSans-52\"/>\r\n       <use x=\"159.033203\" xlink:href=\"#DejaVuSans-56\"/>\r\n      </g>\r\n     </g>\r\n    </g>\r\n    <g id=\"ytick_2\">\r\n     <g id=\"line2d_11\">\r\n      <g>\r\n       <use style=\"stroke:#000000;stroke-width:0.8;\" x=\"36.465625\" xlink:href=\"#m8b1c66b0cf\" y=\"155.454545\"/>\r\n      </g>\r\n     </g>\r\n     <g id=\"text_12\">\r\n      <!-- 0.49 -->\r\n      <defs>\r\n       <path d=\"M 10.984375 1.515625 \r\nL 10.984375 10.5 \r\nQ 14.703125 8.734375 18.5 7.8125 \r\nQ 22.3125 6.890625 25.984375 6.890625 \r\nQ 35.75 6.890625 40.890625 13.453125 \r\nQ 46.046875 20.015625 46.78125 33.40625 \r\nQ 43.953125 29.203125 39.59375 26.953125 \r\nQ 35.25 24.703125 29.984375 24.703125 \r\nQ 19.046875 24.703125 12.671875 31.3125 \r\nQ 6.296875 37.9375 6.296875 49.421875 \r\nQ 6.296875 60.640625 12.9375 67.421875 \r\nQ 19.578125 74.21875 30.609375 74.21875 \r\nQ 43.265625 74.21875 49.921875 64.515625 \r\nQ 56.59375 54.828125 56.59375 36.375 \r\nQ 56.59375 19.140625 48.40625 8.859375 \r\nQ 40.234375 -1.421875 26.421875 -1.421875 \r\nQ 22.703125 -1.421875 18.890625 -0.6875 \r\nQ 15.09375 0.046875 10.984375 1.515625 \r\nz\r\nM 30.609375 32.421875 \r\nQ 37.25 32.421875 41.125 36.953125 \r\nQ 45.015625 41.5 45.015625 49.421875 \r\nQ 45.015625 57.28125 41.125 61.84375 \r\nQ 37.25 66.40625 30.609375 66.40625 \r\nQ 23.96875 66.40625 20.09375 61.84375 \r\nQ 16.21875 57.28125 16.21875 49.421875 \r\nQ 16.21875 41.5 20.09375 36.953125 \r\nQ 23.96875 32.421875 30.609375 32.421875 \r\nz\r\n\" id=\"DejaVuSans-57\"/>\r\n      </defs>\r\n      <g transform=\"translate(7.2 159.253764)scale(0.1 -0.1)\">\r\n       <use xlink:href=\"#DejaVuSans-48\"/>\r\n       <use x=\"63.623047\" xlink:href=\"#DejaVuSans-46\"/>\r\n       <use x=\"95.410156\" xlink:href=\"#DejaVuSans-52\"/>\r\n       <use x=\"159.033203\" xlink:href=\"#DejaVuSans-57\"/>\r\n      </g>\r\n     </g>\r\n    </g>\r\n    <g id=\"ytick_3\">\r\n     <g id=\"line2d_12\">\r\n      <g>\r\n       <use style=\"stroke:#000000;stroke-width:0.8;\" x=\"36.465625\" xlink:href=\"#m8b1c66b0cf\" y=\"115.92\"/>\r\n      </g>\r\n     </g>\r\n     <g id=\"text_13\">\r\n      <!-- 0.50 -->\r\n      <defs>\r\n       <path d=\"M 10.796875 72.90625 \r\nL 49.515625 72.90625 \r\nL 49.515625 64.59375 \r\nL 19.828125 64.59375 \r\nL 19.828125 46.734375 \r\nQ 21.96875 47.46875 24.109375 47.828125 \r\nQ 26.265625 48.1875 28.421875 48.1875 \r\nQ 40.625 48.1875 47.75 41.5 \r\nQ 54.890625 34.8125 54.890625 23.390625 \r\nQ 54.890625 11.625 47.5625 5.09375 \r\nQ 40.234375 -1.421875 26.90625 -1.421875 \r\nQ 22.3125 -1.421875 17.546875 -0.640625 \r\nQ 12.796875 0.140625 7.71875 1.703125 \r\nL 7.71875 11.625 \r\nQ 12.109375 9.234375 16.796875 8.0625 \r\nQ 21.484375 6.890625 26.703125 6.890625 \r\nQ 35.15625 6.890625 40.078125 11.328125 \r\nQ 45.015625 15.765625 45.015625 23.390625 \r\nQ 45.015625 31 40.078125 35.4375 \r\nQ 35.15625 39.890625 26.703125 39.890625 \r\nQ 22.75 39.890625 18.8125 39.015625 \r\nQ 14.890625 38.140625 10.796875 36.28125 \r\nz\r\n\" id=\"DejaVuSans-53\"/>\r\n      </defs>\r\n      <g transform=\"translate(7.2 119.719219)scale(0.1 -0.1)\">\r\n       <use xlink:href=\"#DejaVuSans-48\"/>\r\n       <use x=\"63.623047\" xlink:href=\"#DejaVuSans-46\"/>\r\n       <use x=\"95.410156\" xlink:href=\"#DejaVuSans-53\"/>\r\n       <use x=\"159.033203\" xlink:href=\"#DejaVuSans-48\"/>\r\n      </g>\r\n     </g>\r\n    </g>\r\n    <g id=\"ytick_4\">\r\n     <g id=\"line2d_13\">\r\n      <g>\r\n       <use style=\"stroke:#000000;stroke-width:0.8;\" x=\"36.465625\" xlink:href=\"#m8b1c66b0cf\" y=\"76.385455\"/>\r\n      </g>\r\n     </g>\r\n     <g id=\"text_14\">\r\n      <!-- 0.51 -->\r\n      <g transform=\"translate(7.2 80.184673)scale(0.1 -0.1)\">\r\n       <use xlink:href=\"#DejaVuSans-48\"/>\r\n       <use x=\"63.623047\" xlink:href=\"#DejaVuSans-46\"/>\r\n       <use x=\"95.410156\" xlink:href=\"#DejaVuSans-53\"/>\r\n       <use x=\"159.033203\" xlink:href=\"#DejaVuSans-49\"/>\r\n      </g>\r\n     </g>\r\n    </g>\r\n    <g id=\"ytick_5\">\r\n     <g id=\"line2d_14\">\r\n      <g>\r\n       <use style=\"stroke:#000000;stroke-width:0.8;\" x=\"36.465625\" xlink:href=\"#m8b1c66b0cf\" y=\"36.850909\"/>\r\n      </g>\r\n     </g>\r\n     <g id=\"text_15\">\r\n      <!-- 0.52 -->\r\n      <g transform=\"translate(7.2 40.650128)scale(0.1 -0.1)\">\r\n       <use xlink:href=\"#DejaVuSans-48\"/>\r\n       <use x=\"63.623047\" xlink:href=\"#DejaVuSans-46\"/>\r\n       <use x=\"95.410156\" xlink:href=\"#DejaVuSans-53\"/>\r\n       <use x=\"159.033203\" xlink:href=\"#DejaVuSans-50\"/>\r\n      </g>\r\n     </g>\r\n    </g>\r\n   </g>\r\n   <g id=\"line2d_15\">\r\n    <path clip-path=\"url(#p5e65e4ed2d)\" d=\"M 36.465625 115.92 \r\nL 39.847443 115.92 \r\nL 43.229261 115.92 \r\nL 46.61108 115.92 \r\nL 49.992898 115.92 \r\nL 53.374716 115.92 \r\nL 56.756534 115.92 \r\nL 60.138352 115.92 \r\nL 63.52017 115.92 \r\nL 66.901989 115.92 \r\nL 70.283807 115.92 \r\nL 73.665625 115.92 \r\nL 77.047443 115.92 \r\nL 80.429261 115.92 \r\nL 83.81108 115.92 \r\nL 87.192898 115.92 \r\nL 90.574716 115.92 \r\nL 93.956534 115.92 \r\nL 97.338352 115.92 \r\nL 100.72017 115.92 \r\nL 104.101989 115.92 \r\nL 107.483807 115.92 \r\nL 110.865625 115.92 \r\nL 114.247443 115.92 \r\nL 117.629261 115.92 \r\nL 121.01108 115.92 \r\nL 124.392898 115.92 \r\nL 127.774716 115.92 \r\nL 131.156534 115.92 \r\nL 134.538352 115.92 \r\nL 137.92017 115.92 \r\nL 141.301989 115.92 \r\nL 144.683807 115.92 \r\nL 148.065625 115.92 \r\nL 151.447443 115.92 \r\nL 154.829261 115.92 \r\nL 158.21108 115.92 \r\nL 161.592898 115.92 \r\nL 164.974716 115.92 \r\nL 168.356534 115.92 \r\nL 171.738352 115.92 \r\nL 175.12017 115.92 \r\nL 178.501989 115.92 \r\nL 181.883807 115.92 \r\nL 185.265625 115.92 \r\nL 188.647443 115.92 \r\nL 192.029261 115.92 \r\nL 195.41108 115.92 \r\nL 198.792898 115.92 \r\nL 202.174716 115.92 \r\nL 205.556534 115.92 \r\nL 208.938352 115.92 \r\nL 212.32017 115.92 \r\nL 215.701989 115.92 \r\nL 219.083807 115.92 \r\nL 222.465625 115.92 \r\nL 225.847443 115.92 \r\nL 229.229261 115.92 \r\nL 232.61108 115.92 \r\nL 235.992898 115.92 \r\nL 239.374716 115.92 \r\nL 242.756534 115.92 \r\nL 246.138352 115.92 \r\nL 249.52017 115.92 \r\nL 252.901989 115.92 \r\nL 256.283807 115.92 \r\nL 259.665625 115.92 \r\nL 263.047443 115.92 \r\nL 266.429261 115.92 \r\nL 269.81108 115.92 \r\nL 273.192898 115.92 \r\nL 276.574716 115.92 \r\nL 279.956534 115.92 \r\nL 283.338352 115.92 \r\nL 286.72017 115.92 \r\nL 290.101989 115.92 \r\nL 293.483807 115.92 \r\nL 296.865625 115.92 \r\nL 300.247443 115.92 \r\nL 303.629261 115.92 \r\nL 307.01108 115.92 \r\nL 310.392898 115.92 \r\nL 313.774716 115.92 \r\nL 317.156534 115.92 \r\nL 320.538352 115.92 \r\nL 323.92017 115.92 \r\nL 327.301989 115.92 \r\nL 330.683807 115.92 \r\nL 334.065625 115.92 \r\nL 337.447443 115.92 \r\nL 340.829261 115.92 \r\nL 344.21108 115.92 \r\nL 347.592898 115.92 \r\nL 350.974716 115.92 \r\nL 354.356534 115.92 \r\nL 357.738352 115.92 \r\nL 361.12017 115.92 \r\nL 364.501989 115.92 \r\nL 367.883807 115.92 \r\nL 371.265625 115.92 \r\n\" style=\"fill:none;stroke:#1f77b4;stroke-linecap:square;stroke-width:1.5;\"/>\r\n   </g>\r\n   <g id=\"line2d_16\">\r\n    <path clip-path=\"url(#p5e65e4ed2d)\" d=\"M 249.900625 224.64 \r\nL 249.900625 7.2 \r\n\" style=\"fill:none;stroke:#ff0000;stroke-linecap:square;stroke-width:1.5;\"/>\r\n   </g>\r\n   <g id=\"patch_3\">\r\n    <path d=\"M 36.465625 224.64 \r\nL 36.465625 7.2 \r\n\" style=\"fill:none;stroke:#000000;stroke-linecap:square;stroke-linejoin:miter;stroke-width:0.8;\"/>\r\n   </g>\r\n   <g id=\"patch_4\">\r\n    <path d=\"M 371.265625 224.64 \r\nL 371.265625 7.2 \r\n\" style=\"fill:none;stroke:#000000;stroke-linecap:square;stroke-linejoin:miter;stroke-width:0.8;\"/>\r\n   </g>\r\n   <g id=\"patch_5\">\r\n    <path d=\"M 36.465625 224.64 \r\nL 371.265625 224.64 \r\n\" style=\"fill:none;stroke:#000000;stroke-linecap:square;stroke-linejoin:miter;stroke-width:0.8;\"/>\r\n   </g>\r\n   <g id=\"patch_6\">\r\n    <path d=\"M 36.465625 7.2 \r\nL 371.265625 7.2 \r\n\" style=\"fill:none;stroke:#000000;stroke-linecap:square;stroke-linejoin:miter;stroke-width:0.8;\"/>\r\n   </g>\r\n  </g>\r\n </g>\r\n <defs>\r\n  <clipPath id=\"p5e65e4ed2d\">\r\n   <rect height=\"217.44\" width=\"334.8\" x=\"36.465625\" y=\"7.2\"/>\r\n  </clipPath>\r\n </defs>\r\n</svg>\r\n",
      "image/png": "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\n"
     },
     "metadata": {
      "needs_background": "light"
     }
    }
   ],
   "source": [
    "# Numerically stable version of function using simple trigonometry\n",
    "import numpy as np\n",
    "import matplotlib.pyplot as plt\n",
    "\n",
    "def f1(x):\n",
    "    return 2*np.sin(x/2)**2/(x*x)\n",
    "\n",
    "x = np.linspace(-4e-8, 4e-8, 100)\n",
    "plt.plot(x,f1(x));\n",
    "plt.axvline(1.1e-8, color='red')\n",
    "plt.xlim([-4e-8, 4e-8]);"
   ]
  },
  {
   "cell_type": "markdown",
   "metadata": {},
   "source": [
    "Stable and unstable version of the variance:\n",
    "\n",
    "$s^2 = \\frac{1}{n-1} \\sum (x-\\bar{x})^2$"
   ]
  },
  {
   "cell_type": "code",
   "execution_count": 18,
   "metadata": {},
   "outputs": [],
   "source": [
    "# sum of squares method (vectorized version)\n",
    "# watch out! big number minus big number!\n",
    "def sum_of_squers_var(x):\n",
    "    n = len(x)\n",
    "    return (1.0/(n*(n-1))*(n*np.sum(x**2) - (np.sum(x))**2))\n",
    "\n",
    "# direct method\n",
    "# squaring occuring after subtraction\n",
    "def direct_var(x):\n",
    "    n = len(x)\n",
    "    xbar = np.mean(x)\n",
    "    return 1.0/(n-1)*np.sum((x - xbar)**2)\n",
    "\n",
    "\n",
    "# Welford's method\n",
    "# an optimized method\n",
    "def welford_var(x):\n",
    "    s = 0\n",
    "    m = x[0]\n",
    "    for i in range(1, len(x)):\n",
    "        m += (x[i]-m)/i\n",
    "        s += (x[i]-m)**2\n",
    "    return s/(len(x) -1 )"
   ]
  },
  {
   "cell_type": "code",
   "execution_count": 19,
   "metadata": {},
   "outputs": [
    {
     "output_type": "stream",
     "name": "stdout",
     "text": [
      "0.08176753622917549\n-140878366.72205004\n0.08184973903007813\n0.08136359388167197\n"
     ]
    }
   ],
   "source": [
    "# check the performances with an array \n",
    "# of randomly distributed data around 1e12\n",
    "\n",
    "x_ = np.random.uniform(0,1,int(1e3))\n",
    "x = 1e12 + x_\n",
    "\n",
    "# correct answer\n",
    "print (np.var(x_))\n",
    "\n",
    "print (sum_of_squers_var(x))\n",
    "print (direct_var(x))\n",
    "print (welford_var(x))"
   ]
  },
  {
   "cell_type": "code",
   "execution_count": null,
   "metadata": {},
   "outputs": [],
   "source": []
  }
 ],
 "metadata": {
  "kernelspec": {
   "display_name": "Python 3",
   "language": "python",
   "name": "python3"
  },
  "language_info": {
   "codemirror_mode": {
    "name": "ipython",
    "version": 3
   },
   "file_extension": ".py",
   "mimetype": "text/x-python",
   "name": "python",
   "nbconvert_exporter": "python",
   "pygments_lexer": "ipython3",
   "version": "3.8.3-final"
  }
 },
 "nbformat": 4,
 "nbformat_minor": 2
}