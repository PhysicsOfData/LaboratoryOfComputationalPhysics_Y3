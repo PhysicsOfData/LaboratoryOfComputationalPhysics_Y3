{
 "cells": [
  {
   "cell_type": "code",
   "execution_count": 6,
   "metadata": {},
   "outputs": [
    {
     "name": "stdout",
     "output_type": "stream",
     "text": [
      "0x4e\n",
      "0b1001110\n",
      "78\n"
     ]
    }
   ],
   "source": [
    "def convert_func(num,type_num):\n",
    "    if type_num=='hex':\n",
    "        return hex(num)\n",
    "    elif type_num=='bin':\n",
    "        return bin(num)\n",
    "    elif type_num=='dec':\n",
    "        return int(bin(num),2)\n",
    "    \n",
    "print(convert_func(78,'hex'))\n",
    "print(convert_func(78,'bin'))\n",
    "print(convert_func(78,'dec'))"
   ]
  },
  {
   "cell_type": "code",
   "execution_count": 39,
   "metadata": {},
   "outputs": [
    {
     "name": "stdout",
     "output_type": "stream",
     "text": [
      "-2.0\n"
     ]
    }
   ],
   "source": [
    "def float_(x):\n",
    "    sign = x[0]\n",
    "    mant = 1\n",
    "    exp = int(x[1:9],2)\n",
    "    for i in range(9,32):\n",
    "        mant = mant + int(x[i])*2**(-(i-8))\n",
    "        f_Num = ((-1)**int(sign))*(mant*2**(exp-127))\n",
    "        return f_Num\n",
    "print(float_('11000000000100000000000000000000'))   "
   ]
  },
  {
   "cell_type": "code",
   "execution_count": 49,
   "metadata": {},
   "outputs": [
    {
     "name": "stdout",
     "output_type": "stream",
     "text": [
      "(-9.999894245993346e-07, -999999.999999)\n",
      "(-9.999894245993346e-07, -999999.9999989999)\n"
     ]
    }
   ],
   "source": [
    "import numpy\n",
    "def solution(a,b,c):\n",
    "    s1 = (-b + (numpy.sqrt(b**2-4*a*c)))/(2*a)\n",
    "    s2 = (-b - (numpy.sqrt(b**2-4*a*c)))/(2*a)\n",
    "    return s1,s2\n",
    "print(solution(0.001,1000,0.001))\n",
    "def solution2(a, b, c):\n",
    "    s3 = ((-b+numpy.sqrt(b**2 - 4*a*c))/(2*a)*(-b-numpy.sqrt(b**2 - 4*a*c)))/(-b-numpy.sqrt(b**2 - 4*a*c))\n",
    "    s4 = ((-b-numpy.sqrt(b**2 - 4*a*c))/(2*a)*(-b+numpy.sqrt(b**2 - 4*a*c)))/(-b+numpy.sqrt(b**2 - 4*a*c))\n",
    "    return s3, s4\n",
    "print(solution2(0.001,1000,0.001))\n",
    "def quadratic(abc)\n"
   ]
  },
  {
   "cell_type": "code",
   "execution_count": 62,
   "metadata": {},
   "outputs": [
    {
     "name": "stdout",
     "output_type": "stream",
     "text": [
      "1.010000000000001\n",
      "[1.0000999999998899, 1.0000009999177333, 1.0000000039225287, 1.000000082840371, 1.0000889005833413, 0.9992007221626509]\n"
     ]
    }
   ],
   "source": [
    "def f(x):\n",
    "    return x*(x-1)\n",
    "def der_func(x, delta): \n",
    "    return (f(x+delta) - f(x)) / delta\n",
    "      \n",
    "print(der_func(1,10**-2))\n",
    "print([der_func(1,10**(-delta)) for delta in range(4,16,2)])"
   ]
  },
  {
   "cell_type": "code",
   "execution_count": null,
   "metadata": {},
   "outputs": [],
   "source": []
  }
 ],
 "metadata": {
  "kernelspec": {
   "display_name": "Python 3",
   "language": "python",
   "name": "python3"
  },
  "language_info": {
   "codemirror_mode": {
    "name": "ipython",
    "version": 3
   },
   "file_extension": ".py",
   "mimetype": "text/x-python",
   "name": "python",
   "nbconvert_exporter": "python",
   "pygments_lexer": "ipython3",
   "version": "3.8.3"
  }
 },
 "nbformat": 4,
 "nbformat_minor": 4
}
