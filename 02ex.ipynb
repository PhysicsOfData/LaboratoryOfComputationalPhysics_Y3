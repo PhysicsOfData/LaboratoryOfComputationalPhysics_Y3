{
 "cells": [
  {
   "cell_type": "markdown",
   "metadata": {},
   "source": [
    "1. Write a function that converts number representation (bin<->dec<->hex)"
   ]
  },
  {
   "cell_type": "code",
   "execution_count": null,
   "metadata": {},
   "outputs": [],
   "source": [
    "def convert(fromnumber,tonumber,number):\n",
    "    if fromnumber==\"binary\" and tonumber==\"decimal\":\n",
    "        return int(number,2)\n",
    "    if fromnumber==\"binary\" and tonumber==\"hexadecimal\":\n",
    "        return hex(int(number))\n",
    "    if fromnumber==\"decimal\" and tonumber==\"hexadecimal\":\n",
    "        return hex(int(number))\n",
    "    if fromnumber==\"decimal\" and tonumber==\"binary\":\n",
    "        return bin(int(number))\n",
    "    if fromnumber==\"hexadecimal\" and tonumber==\"decimal\":\n",
    "        return int(number,16)\n",
    "    if fromnumber==\"hexadecimal\" and tonumber==\"binary\":\n",
    "        return bin(hex(number))\n",
    "    else:\n",
    "        print(\"There is no section like that\")\n",
    "fromnumber=input(\"which type would you convert from?\")\n",
    "tonumber=input(\"which type would you convert to?\")\n",
    "number=input(\"which number would you convert?\")\n",
    "print(convert(fromnumber,tonumber,number))"
   ]
  },
  {
   "cell_type": "markdown",
   "metadata": {},
   "source": [
    "3. Write a program to determine the underflow and overflow limits (within a factor of 2) for python on your computer.\n",
    "\n",
    "Tips: define two variables inizialized to 1 and halve/double them enough time to exceed the under/over-flow limits"
   ]
  },
  {
   "cell_type": "code",
   "execution_count": null,
   "metadata": {},
   "outputs": [],
   "source": [
    "N=2000\n",
    "underflow=1\n",
    "overflow=1\n",
    "factor=2\n",
    "for i in range(N):\n",
    "    underflow=underflow/2\n",
    "    overflow=overflow*2\n",
    "    print(\"|%2d\"%i,\"|\",\"\\t\\t\",\"|%2.5e\"%underflow,\"|\",\"\\t\\t\",\"|%2.5e\"%overflow,\"|\")"
   ]
  },
  {
   "cell_type": "markdown",
   "metadata": {},
   "source": [
    "4. Write a program to determine the machine precision\n",
    "\n",
    "Tips: define a new variable by adding a smaller and smaller value (proceeding similarly to prob. 2) to an original variable and check the point where the two are the same"
   ]
  },
  {
   "cell_type": "code",
   "execution_count": null,
   "metadata": {},
   "outputs": [],
   "source": [
    "n=1\n",
    "n=n+0.00000000000000000001\n",
    "print(\"%10e\"%n)"
   ]
  },
  {
   "cell_type": "markdown",
   "metadata": {},
   "source": [
    "5. Write a function that takes in input three parameters a, b and c and prints out the two solutions to the quadratic equation ax^2+bx+c=0 using the standard formula: \n",
    "\n",
    "(a) use the program to compute the solution for $a=0.001, $b=1000 and c=0.001"
   ]
  },
  {
   "cell_type": "code",
   "execution_count": null,
   "metadata": {},
   "outputs": [],
   "source": [
    "import math\n",
    "def roots(a,b,c):\n",
    "    x1=(-b+(math.sqrt((b**2)-(4*a*c))))/(2*a)\n",
    "    x2=(-b-(math.sqrt((b**2)-(4*a*c))))/(2*a)\n",
    "    return x1,x2\n",
    "print(roots(0.001,1000,0.001))"
   ]
  },
  {
   "cell_type": "markdown",
   "metadata": {},
   "source": [
    "(b) re-express the standard solution formula by multiplying top and bottom by -b\\mp\\sqrt{b^2-4ac} and again find the solution for a=0.001, b=1000 and c=0.001. How does it compare with what previously obtained? Why?"
   ]
  },
  {
   "cell_type": "code",
   "execution_count": null,
   "metadata": {},
   "outputs": [],
   "source": [
    "import math\n",
    "def roots(a,b,c):\n",
    "    x1=((-b+(math.sqrt((b**2)-(4*a*c))))*(-b+(math.sqrt((b**2)-(4*a*c)))))/((2*a)*(-b+(math.sqrt((b**2)-(4*a*c)))))\n",
    "    x2=((-b-(math.sqrt((b**2)-(4*a*c))))*(-b-(math.sqrt((b**2)-(4*a*c)))))/((2*a)*(-b-(math.sqrt((b**2)-(4*a*c)))))\n",
    "    return x1,x2\n",
    "print(roots(0.001,1000,0.001))\n",
    "# nothing is changed from previous one"
   ]
  },
  {
   "cell_type": "markdown",
   "metadata": {},
   "source": [
    "6. Write a program that implements the function \n",
    "(a) Calculate the derivative of the function at the point $x = 1$ using the derivative definition:"
   ]
  },
  {
   "cell_type": "code",
   "execution_count": null,
   "metadata": {},
   "outputs": [],
   "source": [
    "def f(x):\n",
    "    return x\n",
    "def derivative(x):\n",
    "    h=1./10.\n",
    "    slope=(f(x+h)-f(x))/h\n",
    "    return slope\n",
    "print(derivative(1))\n",
    "# the result is not perfect due to value of h\n",
    "# there is always a little bit error"
   ]
  },
  {
   "cell_type": "markdown",
   "metadata": {},
   "source": [
    "(b) Repeat the calculation for $\\delta = 10^{−4}, 10^{−6}, 10^{−8}, 10^{−10}, 10^{−12}$ and $10^{−14}$. How does the accuracy scales with $\\delta$?"
   ]
  },
  {
   "cell_type": "code",
   "execution_count": null,
   "metadata": {},
   "outputs": [],
   "source": [
    "def f(x):\n",
    "    return x\n",
    "def derivative(x,i):\n",
    "    h=1./i\n",
    "    slope=(f(x+h)-f(x))/h\n",
    "    return slope\n",
    "print(derivative(1,4))\n",
    "print(derivative(1,6))\n",
    "print(derivative(1,8))\n",
    "print(derivative(1,10))\n",
    "print(derivative(1,12))\n",
    "\n",
    "# the result's resolution depends on value of h"
   ]
  },
  {
   "cell_type": "markdown",
   "metadata": {},
   "source": [
    "7. Consider the integral of the semicircle of radius 1: $$ I=\\int_{-1}^{1} \\sqrt(1-x^2) {\\rm d}x $$ which it's known to be $I=\\frac{\\pi}{2}=1.57079632679...$. Alternatively we can use the Riemann definition of the integral: $$ I=\\lim_{N\\to\\infty} \\sum_{k=1}^{N} h y_k $$\n",
    "\n",
    "with $h=2/N$ the width of each of the $N$ slices the domain is divided into and where $y_k$ is the value of the function at the $k-$th slice.\n",
    "\n",
    "(a) Write a programe to compute the integral with $N=100$. How does the result compares to the true value?"
   ]
  },
  {
   "cell_type": "code",
   "execution_count": null,
   "metadata": {},
   "outputs": [],
   "source": [
    "import math\n",
    "def f(x):\n",
    "    return math.sqrt(1-x**2)\n",
    "def integral(starting,ending,N):\n",
    "    width=(float(ending)-float(starting))/N\n",
    "    Sum=0\n",
    "    for i in range(N):\n",
    "        height=f(starting+i*width)\n",
    "        area=height*width\n",
    "        Sum+=area\n",
    "    return Sum\n",
    "print(integral(-1,1,100))\n",
    "# when we increase value of N the result is getting\n",
    "# closer to true value but in this way running time is increasing "
   ]
  },
  {
   "cell_type": "markdown",
   "metadata": {},
   "source": [
    "(b) How much can $N$ be increased if the computation needs to be run in less than a second? What is the gain in running it for 1 minute?"
   ]
  },
  {
   "cell_type": "code",
   "execution_count": null,
   "metadata": {},
   "outputs": [],
   "source": [
    "import math\n",
    "import time\n",
    "N=3000000\n",
    "def f(x):\n",
    "    return math.sqrt(1-x**2)\n",
    "def integral(starting,ending,N):\n",
    "    stattime=0\n",
    "    endtime=0\n",
    "    starttime=time.time()\n",
    "    width=(float(ending)-float(starting))/N\n",
    "    Sum=0\n",
    "    for i in range(N):\n",
    "        height=f(starting+i*width)\n",
    "        area=height*width\n",
    "        Sum+=area\n",
    "    endtime=time.time()\n",
    "    return endtime-starttime\n",
    "# tring to find N less than 1 second otherwise I decrease N by -100000\n",
    "while(integral(-1,1,N)>=1):\n",
    "    print(N,integral(-1,1,N))\n",
    "    N-=100000\n",
    "print(\"The minimum N in less than 1 second is:\",N,\"Time is:\",integral(-1,1,N))"
   ]
  }
 ],
 "metadata": {
  "kernelspec": {
   "display_name": "Python 3",
   "language": "python",
   "name": "python3"
  },
  "language_info": {
   "codemirror_mode": {
    "name": "ipython",
    "version": 3
   },
   "file_extension": ".py",
   "mimetype": "text/x-python",
   "name": "python",
   "nbconvert_exporter": "python",
   "pygments_lexer": "ipython3",
   "version": "3.8.5"
  }
 },
 "nbformat": 4,
 "nbformat_minor": 4
}
