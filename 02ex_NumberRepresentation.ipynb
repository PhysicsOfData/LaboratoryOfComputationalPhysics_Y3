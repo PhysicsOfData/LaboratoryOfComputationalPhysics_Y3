{
 "cells": [
  {
   "cell_type": "markdown",
   "metadata": {},
   "source": [
    "1\\. Write a function that converts number representation (bin<->dec<->hex)"
   ]
  },
  {
   "cell_type": "code",
   "execution_count": 12,
   "metadata": {},
   "outputs": [
    {
     "output_type": "stream",
     "name": "stdout",
     "text": [
      "5\n5\n3D\n0x3d\n100\n0b100\nAE\n0xae\n110100\n0b110100\n340\n340\n"
     ]
    }
   ],
   "source": [
    "#without sing buil-in functions\n",
    "#function with three inputs: the number, th base in which the number is expressed and the target base\n",
    "def convert(n, s_base, t_base):\n",
    "\n",
    "    r = 0\n",
    "    #for hex base\n",
    "    hex = [0, 1, 2, 3, 4, 5, 6, 7, 8, 9,'A','B','C','D','E','F']\n",
    "\n",
    "    if(s_base == 2 and t_base == 10):\n",
    "        n = str(n)\n",
    "        n = n[::-1]\n",
    "        for i,c in enumerate(n):\n",
    "            r += int(c)*2**i\n",
    "    \n",
    "    if(s_base == 2 and t_base == 16):\n",
    "        return convert(convert(n, 2, 10), 10, 16)\n",
    "\n",
    "    if(s_base == 10 and t_base == 2):\n",
    "        r1 = n\n",
    "        r2 = []\n",
    "        while(r1 != 0):\n",
    "            tmp = r1 // 2\n",
    "            r2.append(r1 % 2)\n",
    "            r1 = tmp\n",
    "        r2.reverse()\n",
    "        r = ''.join(map(str, r2)) \n",
    "\n",
    "    if(s_base == 10 and t_base == 16):\n",
    "        r1 = n\n",
    "        r2 = []\n",
    "        while(r1 != 0):\n",
    "            tmp = r1 // 16\n",
    "            r2.append(hex[r1 % 16])\n",
    "            r1 = tmp\n",
    "        r2.reverse()\n",
    "        r = ''.join(map(str, r2)) \n",
    "\n",
    "    if(s_base == 16 and t_base == 2):\n",
    "        return convert(convert(n, 16, 10), 10, 2)\n",
    "\n",
    "    if(s_base == 16 and t_base == 10):\n",
    "        n = str(n)\n",
    "        n = n[::-1]\n",
    "        for i,c in enumerate(n):\n",
    "            r += int(c)*16**i\n",
    "\n",
    "    return r\n",
    "\n",
    "#using built-in functions\n",
    "def convert2(n, s_base, t_base):\n",
    "    n = str(n)\n",
    "    if(s_base == 2 and t_base == 10):\n",
    "        res = int(n, 2)\n",
    "    if(s_base == 2 and t_base == 16):\n",
    "        res = hex(int(n,2))\n",
    "    if(s_base == 10 and t_base == 2):\n",
    "        res = bin(int(n))\n",
    "    if(s_base == 10 and t_base == 16):\n",
    "        res = hex(int(n))\n",
    "    if(s_base == 16 and t_base == 10):\n",
    "        res = int(n, 16)\n",
    "    if(s_base == 16 and t_base == 2):\n",
    "        res = bin(int(n,16))\n",
    "    return res\n",
    "\n",
    "\n",
    "print(convert(101, 2, 10)) #test, should print 5\n",
    "print(convert2(101, 2, 10)) #check consistency\n",
    "print(convert(111101, 2, 16)) #test, should print 3D\n",
    "print(convert2(111101, 2, 16)) #check consistency\n",
    "print(convert(4, 10, 2)) #test, should print 100\n",
    "print(convert2(4, 10, 2)) #check consistency\n",
    "print(convert(174, 10, 16)) #test, should print AE\n",
    "print(convert2(174, 10, 16)) #check consistency\n",
    "print(convert(34, 16, 2)) #test, should print 110100\n",
    "print(convert2(34, 16, 2)) #check consistency\n",
    "print(convert(154, 16, 10)) #test, should print 340\n",
    "print(convert2(154, 16, 10)) #check consistency\n"
   ]
  },
  {
   "cell_type": "markdown",
   "metadata": {},
   "source": [
    "2\\. Write a function that converts a 32 bit word into a single precision floating point (i.e. interprets the various bits as sign, mantissa and exponent)"
   ]
  },
  {
   "cell_type": "code",
   "execution_count": 37,
   "metadata": {},
   "outputs": [
    {
     "output_type": "stream",
     "name": "stdout",
     "text": [
      "20.0\n"
     ]
    }
   ],
   "source": [
    "def tofloatprecision(x):\n",
    "    s = int(x[0]) #sign\n",
    "    e = int(convert(x[1:9], 2, 10)) #exponent\n",
    "    m = x[9:] #mantissa\n",
    "    mant = 0\n",
    "    for index, val in enumerate(m):\n",
    "        mant += int(val)*2**(-index-1)\n",
    "    res = ((-1)**s) * (2**(e-127)) * (1+mant)\n",
    "\n",
    "    return res\n",
    "\n",
    "#test, should print 20\n",
    "n = \"01000001101000000000000000000000\"\n",
    "print(tofloatprecision(n))"
   ]
  },
  {
   "cell_type": "markdown",
   "metadata": {},
   "source": [
    "3\\. Write a program to determine the underflow and overflow limits (within a factor of 2) for python on your computer. \n",
    "\n",
    "**Tips**: define two variables inizialized to 1 and halve/double them enough time to exceed the under/over-flow limits  "
   ]
  },
  {
   "cell_type": "code",
   "execution_count": 17,
   "metadata": {},
   "outputs": [
    {
     "output_type": "stream",
     "name": "stdout",
     "text": [
      "The number before the overflow is 8.98846567431158e+307\nThe number before the underflow is 5e-324\n"
     ]
    }
   ],
   "source": [
    "x = 1.0\n",
    "while(True):\n",
    "    tmp = x\n",
    "    x *= 2\n",
    "    if(x == float('inf')):\n",
    "        print(\"The number before the overflow is \" + str(tmp))\n",
    "        break\n",
    "        \n",
    "x = 1.0\n",
    "while(True):\n",
    "    tmp = x\n",
    "    x /= 2\n",
    "    if(x == 0):\n",
    "        print(\"The number before the underflow is \" + str(tmp))\n",
    "        break"
   ]
  },
  {
   "cell_type": "markdown",
   "metadata": {},
   "source": [
    "4\\. Write a program to determine the machine precision\n",
    "\n",
    "**Tips**: define a new variable by adding a smaller and smaller value (proceeding similarly to prob. 2) to an original variable and check the point where the two are the same "
   ]
  },
  {
   "cell_type": "code",
   "execution_count": 20,
   "metadata": {},
   "outputs": [
    {
     "output_type": "stream",
     "name": "stdout",
     "text": [
      "Precision = 2.220446049250313e-16\n"
     ]
    }
   ],
   "source": [
    "x = 1.0\n",
    "y = 1.0\n",
    "while(True):\n",
    "    x /= 2\n",
    "    if (y + x/2 == y):\n",
    "        print(\"Precision = \" + str(x))\n",
    "        break"
   ]
  },
  {
   "cell_type": "markdown",
   "metadata": {},
   "source": [
    "5\\. Write a function that takes in input three parameters $a$, $b$ and $c$ and prints out the two solutions to the quadratic equation $ax^2+bx+c=0$ using the standard formula:\n",
    "$$\n",
    "x=\\frac{-b\\pm\\sqrt{b^2-4ac}}{2a}\n",
    "$$\n",
    "\n",
    "(a) use the program to compute the solution for $a=0.001$, $b=1000$ and $c=0.001$\n",
    "\n",
    "(b) re-express the standard solution formula by multiplying top and bottom by $-b\\mp\\sqrt{b^2-4ac}$ and again find the solution for $a=0.001$, $b=1000$ and $c=0.001$. How does it compare with what previously obtained? Why?\n",
    "\n",
    "(c) write a function that compute the roots of a quadratic equation accurately in all cases"
   ]
  },
  {
   "cell_type": "code",
   "execution_count": 11,
   "metadata": {},
   "outputs": [
    {
     "output_type": "stream",
     "name": "stdout",
     "text": [
      "(-9.999894245993346e-07, -999999.999999)\n(1.000000000001e-06, -1000010.5755125057)\n(-1.00000761449337e-06, -999999.999999)\n"
     ]
    }
   ],
   "source": [
    "def solver(a, b, c):\n",
    "    x1 = (-b+(b**2-4*a*c)**0.5)/(2*a)\n",
    "    x2 =(-b-(b**2-4*a*c)**0.5)/(2*a)\n",
    "    return x1, x2\n",
    "\n",
    "def solver2(a, b, c):\n",
    "    x1 = (-2*c)/(-b - (b**2-4*a*c)**0.5)\n",
    "    x2 = (2*c)/(-b + (b**2-4*a*c)**0.5)\n",
    "    return x1, x2\n",
    "\n",
    "def solver3(a, b, c):\n",
    "    x1 = -b/(2*a)+((b**2-4*a*c)**0.5)/(2*a)\n",
    "    x2 = -b/(2*a)-((b**2-4*a*c)**0.5)/(2*a)\n",
    "    return x1, x2\n",
    "\n",
    "print(solver(0.001, 1000, 0.001)) #case a)\n",
    "print(solver2(0.001, 1000, 0.001)) #case b)\n",
    "print(solver3(0.001, 1000, 0.001)) #case c)"
   ]
  },
  {
   "cell_type": "markdown",
   "metadata": {},
   "source": [
    "6\\. Write a program that implements the function $f(x)=x(x−1)$\n",
    "\n",
    "(a) Calculate the derivative of the function at the point $x = 1$ using the derivative definition:\n",
    "\n",
    "$$\n",
    "\\frac{{\\rm d}f}{{\\rm d}x} = \\lim_{\\delta\\to0} \\frac{f(x+\\delta)-f(x)}{\\delta}\n",
    "$$\n",
    "\n",
    "with $\\delta = 10^{−2}$. Calculate the true value of the same derivative analytically and compare with the answer your program gives. The two will not agree perfectly. Why not?\n",
    "\n",
    "(b) Repeat the calculation for $\\delta = 10^{−4}, 10^{−6}, 10^{−8}, 10^{−10}, 10^{−12}$ and $10^{−14}$. How does the accuracy scales with $\\delta$?"
   ]
  },
  {
   "cell_type": "code",
   "execution_count": 8,
   "metadata": {},
   "outputs": [
    {
     "output_type": "stream",
     "name": "stdout",
     "text": [
      "Analytically we have f'(1) = 1\n1.010000000000001\nThe result with delta = 0.0001 is = 1.0000999999998899\nThe result with delta = 1e-06 is = 1.0000009999177333\nThe result with delta = 1e-08 is = 1.0000000039225287\nThe result with delta = 1e-10 is = 1.000000082840371\nThe result with delta = 1e-12 is = 1.0000889005833413\nThe result with delta = 1e-14 is = 0.9992007221626509\n"
     ]
    }
   ],
   "source": [
    "def f(x):\n",
    "    return x*(x-1)\n",
    "\n",
    "#a)\n",
    "#analytically we have f'(x) = 2x-1 --> f'(1) = 1\n",
    "print(\"Analytically we have f'(1) = 1\")\n",
    "#with the definition we have\n",
    "delta = 10**-2\n",
    "der = (f(1+delta) - f(1))/delta\n",
    "print(der)\n",
    "\n",
    "#b)\n",
    "deltas = [10**-4, 10**-6, 10**-8, 10**-10, 10**-12, 10**-14]\n",
    "for d in deltas:\n",
    "    print(\"The result with delta = \" + str(d) + \" is = \" + str((f(1+d) - f(1))/d))"
   ]
  },
  {
   "cell_type": "markdown",
   "metadata": {},
   "source": [
    "7\\. Consider the integral of the semicircle of radius 1:\n",
    "$$\n",
    "I=\\int_{-1}^{1} \\sqrt(1-x^2) {\\rm d}x\n",
    "$$\n",
    "which it's known to be $I=\\frac{\\pi}{2}=1.57079632679...$.\n",
    "Alternatively we can use the Riemann definition of the integral:\n",
    "$$\n",
    "I=\\lim_{N\\to\\infty} \\sum_{k=1}^{N} h y_k \n",
    "$$\n",
    "\n",
    "with $h=2/N$ the width of each of the $N$ slices the domain is divided into and where\n",
    "$y_k$ is the value of the function at the $k-$th slice.\n",
    "\n",
    "(a) Write a programe to compute the integral with $N=100$. How does the result compares to the true value?\n",
    "\n",
    "(b) How much can $N$ be increased if the computation needs to be run in less than a second? What is the gain in running it for 1 minute? \n"
   ]
  },
  {
   "cell_type": "code",
   "execution_count": 11,
   "metadata": {
    "tags": []
   },
   "outputs": [
    {
     "output_type": "stream",
     "name": "stdout",
     "text": [
      "1.5691342555492493\n",
      "1.5707963232100857\n",
      "Elapsed time = 0.5684154033660889\n",
      "1.5707963273185672\n",
      "Elapsed time = 57.20765566825867\n",
      "The gain is 4.108481554965238e-09\n"
     ]
    }
   ],
   "source": [
    "import time\n",
    "\n",
    "def compute_integral(N):\n",
    "    h = 2/N\n",
    "    x = []\n",
    "    tmp = -1\n",
    "    while(tmp < 1):\n",
    "        x.append(tmp)\n",
    "        tmp += h\n",
    "    I = 0\n",
    "    for k in x:\n",
    "        I += (1-k**2)**0.5\n",
    "    return h*I\n",
    "\n",
    "print(compute_integral(100)) #a)\n",
    "\n",
    "#b\n",
    "start = time.time()\n",
    "a = compute_integral(600000)\n",
    "print(a)\n",
    "stop = time.time()\n",
    "print(\"Elapsed time = \" + str(stop-start))\n",
    "\n",
    "start = time.time()\n",
    "b = compute_integral(55000000)\n",
    "print(b)\n",
    "stop = time.time()\n",
    "print(\"Elapsed time = \" + str(stop-start))\n",
    "\n",
    "print(\"The gain is \" + str(b-a))"
   ]
  },
  {
   "cell_type": "code",
   "execution_count": null,
   "metadata": {},
   "outputs": [],
   "source": []
  }
 ],
 "metadata": {
  "kernelspec": {
   "display_name": "Python 3",
   "language": "python",
   "name": "python3"
  },
  "language_info": {
   "codemirror_mode": {
    "name": "ipython",
    "version": 3
   },
   "file_extension": ".py",
   "mimetype": "text/x-python",
   "name": "python",
   "nbconvert_exporter": "python",
   "pygments_lexer": "ipython3",
   "version": "3.7.4-final"
  }
 },
 "nbformat": 4,
 "nbformat_minor": 2
}