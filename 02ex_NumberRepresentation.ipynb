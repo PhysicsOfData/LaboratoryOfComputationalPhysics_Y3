{
 "cells": [
  {
   "cell_type": "markdown",
   "metadata": {},
   "source": [
    "1\\. Write a function that converts number representation (bin<->dec<->hex)"
   ]
  },
  {
   "cell_type": "code",
   "execution_count": null,
   "metadata": {},
   "outputs": [],
   "source": [
    "def first2(s):\n",
    "    return s[:2]\n",
    "\n",
    "def converter(a):\n",
    "    if type(a) == int:\n",
    "        print(\"your number in binary = \", bin(a))\n",
    "        print(\"your number in hexadecimal = \", hex(a))\n",
    "    elif first2(a) == \"0x\":\n",
    "        print(\"your number in decimal = \", int(a,16))\n",
    "        print(\"your number in binary = \", bin(int(a,16)))\n",
    "    elif first2(a) == \"0b\":\n",
    "        print(\"your number in decimal = \", int(a,2))\n",
    "        print(\"your number in hexadecimal = \", hex(int(a,2)))\n",
    "\n",
    "#Write your binary and hexadecimal number as a string with the prefix \"0b\" or \"0x\"\n",
    "converter(\"0x2a\")\n"
   ]
  },
  {
   "cell_type": "markdown",
   "metadata": {},
   "source": [
    "2\\. Write a function that converts a 32 bit word into a single precision floating point (i.e. interprets the various bits as sign, mantissa and exponent)"
   ]
  },
  {
   "cell_type": "code",
   "execution_count": null,
   "metadata": {},
   "outputs": [],
   "source": []
  },
  {
   "cell_type": "markdown",
   "metadata": {},
   "source": [
    "3\\. Write a program to determine the underflow and overflow limits (within a factor of 2) for python on your computer. \n",
    "\n",
    "**Tips**: define two variables inizialized to 1 and halve/double them enough time to exceed the under/over-flow limits  "
   ]
  },
  {
   "cell_type": "code",
   "execution_count": 2,
   "metadata": {},
   "outputs": [
    {
     "name": "stdout",
     "output_type": "stream",
     "text": [
      "Underflow limit:  5e-324\n",
      "Overflow limit:  8.98846567431158e+307\n"
     ]
    }
   ],
   "source": [
    "import math\n",
    "\n",
    "over = 1.\n",
    "under = 1.\n",
    "\n",
    "while((under/2)>0):\n",
    "    under = under/2\n",
    "print(\"Underflow limit: \", under)\n",
    "\n",
    "while((over*2)<math.inf):\n",
    "    over = over*2\n",
    "print(\"Overflow limit: \", over)"
   ]
  },
  {
   "cell_type": "markdown",
   "metadata": {},
   "source": [
    "4\\. Write a program to determine the machine precision\n",
    "\n",
    "**Tips**: define a new variable by adding a smaller and smaller value (proceeding similarly to prob. 2) to an original variable and check the point where the two are the same "
   ]
  },
  {
   "cell_type": "code",
   "execution_count": 4,
   "metadata": {},
   "outputs": [
    {
     "name": "stdout",
     "output_type": "stream",
     "text": [
      "1.1102230246251565e-16\n"
     ]
    }
   ],
   "source": [
    "a = 1\n",
    "b = 1\n",
    "\n",
    "while(b==1):\n",
    "    a = a/2  \n",
    "    if (a+b == b):\n",
    "        b = 0\n",
    "\n",
    "print(a)"
   ]
  },
  {
   "cell_type": "markdown",
   "metadata": {},
   "source": [
    "5\\. Write a function that takes in input three parameters $a$, $b$ and $c$ and prints out the two solutions to the quadratic equation $ax^2+bx+c=0$ using the standard formula:\n",
    "$$\n",
    "x=\\frac{-b\\pm\\sqrt{b^2-4ac}}{2a}\n",
    "$$\n",
    "\n",
    "(a) use the program to compute the solution for $a=0.001$, $b=1000$ and $c=0.001$\n",
    "\n",
    "(b) re-express the standard solution formula by multiplying top and bottom by $-b\\mp\\sqrt{b^2-4ac}$ and again find the solution for $a=0.001$, $b=1000$ and $c=0.001$. How does it compare with what previously obtained? Why?\n",
    "\n",
    "(c) write a function that compute the roots of a quadratic equation accurately in all cases"
   ]
  },
  {
   "cell_type": "code",
   "execution_count": 21,
   "metadata": {},
   "outputs": [
    {
     "name": "stdout",
     "output_type": "stream",
     "text": [
      "solution 1: [-9.999894245993346e-07, -999999.999999]\n",
      "solution 2: [-1.000000000001e-06, 1000010.5755125057]\n",
      "solution 3: [-1.000000000001e-06, -999999.999999]\n"
     ]
    }
   ],
   "source": [
    "from math import sqrt\n",
    "\n",
    "a = 0.001\n",
    "b = 1000\n",
    "c = 0.001\n",
    "\n",
    "def sol_1(a,b,c):\n",
    "    x_1 = (-b + sqrt(b**2 -4*a*c))/(2*a)\n",
    "    x_2 = (-b - sqrt(b**2 -4*a*c))/(2*a) \n",
    "    return [x_1, x_2]\n",
    "\n",
    "print(\"solution 1:\", sol_1(a,b,c))\n",
    "\n",
    "def sol_2(a,b,c):    \n",
    "    x_1 = (2*a)/(-b - sqrt(b**2 -4*a*c)) \n",
    "    x_2 = (-2*a)/(-b + sqrt(b**2 -4*a*c))\n",
    "    return [x_1, x_2]\n",
    "print(\"solution 2:\", sol_2(a,b,c))\n",
    "\n",
    "#the first solution have some problems with x_1 because the ratio (-b + sqrt(b**2 -4*a*c))/(2*a) is between \n",
    "#two small numbers, so the best solution in this case is sol_2.\n",
    "#with the same argoument we can say that for x_2 the best solution is given by sol_1\n",
    "\n",
    "#the optimal solution is therefore:\n",
    "\n",
    "def sol_3(a,b,c):    \n",
    "    x_1 = (2*a)/(-b - sqrt(b**2 -4*a*c)) \n",
    "    x_2 = (-b - sqrt(b**2 -4*a*c))/(2*a)\n",
    "    return [x_1, x_2]\n",
    "print(\"solution 3:\", sol_3(a,b,c))\n"
   ]
  },
  {
   "cell_type": "markdown",
   "metadata": {},
   "source": [
    "6\\. Write a program that implements the function $f(x)=x(x−1)$\n",
    "\n",
    "(a) Calculate the derivative of the function at the point $x = 1$ using the derivative definition:\n",
    "\n",
    "$$\n",
    "\\frac{{\\rm d}f}{{\\rm d}x} = \\lim_{\\delta\\to0} \\frac{f(x+\\delta)-f(x)}{\\delta}\n",
    "$$\n",
    "\n",
    "with $\\delta = 10^{−2}$. Calculate the true value of the same derivative analytically and compare with the answer your program gives. The two will not agree perfectly. Why not?\n",
    "\n",
    "(b) Repeat the calculation for $\\delta = 10^{−4}, 10^{−6}, 10^{−8}, 10^{−10}, 10^{−12}$ and $10^{−14}$. How does the accuracy scales with $\\delta$?"
   ]
  },
  {
   "cell_type": "code",
   "execution_count": null,
   "metadata": {},
   "outputs": [],
   "source": [
    "delta = [10**(-x) for x in range(15) if x%2 == 0 and x!=0]\n",
    "def f(x):\n",
    "    return x*(x-1)\n",
    "\n",
    "def derivative(x, d):\n",
    "    return (f(x+d) - f(x))/d\n",
    "\n",
    "for d in delta:\n",
    "    print(derivative(1,d))\n",
    "#with smaller delta we have a better accuracy, but with the last 2:  10^12,1 0^114  we lose accuracy"
   ]
  },
  {
   "cell_type": "markdown",
   "metadata": {},
   "source": [
    "with smaller delta we have a better accuracy, but with the last 2: $10^{−12}, 10^{−14}$ we lose accuracy"
   ]
  },
  {
   "cell_type": "markdown",
   "metadata": {},
   "source": [
    "7\\. Consider the integral of the semicircle of radius 1:\n",
    "$$\n",
    "I=\\int_{-1}^{1} \\sqrt(1-x^2) {\\rm d}x\n",
    "$$\n",
    "which it's known to be $I=\\frac{\\pi}{2}=1.57079632679...$.\n",
    "Alternatively we can use the Riemann definition of the integral:\n",
    "$$\n",
    "I=\\lim_{N\\to\\infty} \\sum_{k=1}^{N} h y_k \n",
    "$$\n",
    "\n",
    "with $h=2/N$ the width of each of the $N$ slices the domain is divided into and where\n",
    "$y_k$ is the value of the function at the $k-$th slice.\n",
    "\n",
    "(a) Write a programe to compute the integral with $N=100$. How does the result compares to the true value?\n",
    "\n",
    "(b) How much can $N$ be increased if the computation needs to be run in less than a second? What is the gain in running it for 1 minute? \n"
   ]
  },
  {
   "cell_type": "code",
   "execution_count": null,
   "metadata": {},
   "outputs": [],
   "source": [
    "from math import sqrt\n",
    "def y(x):\n",
    "    return sqrt(1-x*x)\n",
    "\n",
    "def integral(N):\n",
    "    h = 2/N\n",
    "    a, b = -1, 1\n",
    "    n = 0\n",
    "    I = 0.0\n",
    "    x = a\n",
    "    while n < N:\n",
    "        delta_I = y(x) * h\n",
    "        x = x + h\n",
    "        I = I + delta_I\n",
    "        n += 1\n",
    "    return I\n",
    "\n",
    "n = [10**(x) for x in range(8) if x >= 2]\n",
    "for N in n:\n",
    "    print(integral(N))\n",
    "    %timeit integral(N)\n",
    "    print()\n",
    "    \n",
    "#we reach 1 secondof runtime about between N = 100000 and N = 1000000\n",
    "#so let's try with N = 4000000\n",
    "\n",
    "print(integral(4000000))\n",
    "%timeit integral(4000000)"
   ]
  },
  {
   "cell_type": "code",
   "execution_count": null,
   "metadata": {},
   "outputs": [],
   "source": []
  },
  {
   "cell_type": "code",
   "execution_count": null,
   "metadata": {},
   "outputs": [],
   "source": []
  }
 ],
 "metadata": {
  "kernelspec": {
   "display_name": "Python 3",
   "language": "python",
   "name": "python3"
  },
  "language_info": {
   "codemirror_mode": {
    "name": "ipython",
    "version": 3
   },
   "file_extension": ".py",
   "mimetype": "text/x-python",
   "name": "python",
   "nbconvert_exporter": "python",
   "pygments_lexer": "ipython3",
   "version": "3.7.4"
  }
 },
 "nbformat": 4,
 "nbformat_minor": 2
}
