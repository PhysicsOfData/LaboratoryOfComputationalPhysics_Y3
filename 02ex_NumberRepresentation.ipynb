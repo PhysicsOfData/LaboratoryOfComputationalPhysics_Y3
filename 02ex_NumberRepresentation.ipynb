{
 "cells": [
  {
   "cell_type": "markdown",
   "metadata": {},
   "source": [
    "1\\. Write a function that converts number representation (bin<->dec<->hex)"
   ]
  },
  {
   "cell_type": "code",
   "execution_count": 6,
   "metadata": {},
   "outputs": [
    {
     "name": "stdout",
     "output_type": "stream",
     "text": [
      "0x10\n",
      "0b10000\n",
      "16\n"
     ]
    }
   ],
   "source": [
    "#Exercise 1)\n",
    "def conversion(a):\n",
    "    y=hex(a)\n",
    "    z=bin(a)\n",
    "    x=int(a)\n",
    "    return y,z,x\n",
    "a,b,c= conversion(16)\n",
    "print(a)\n",
    "print(b)\n",
    "print(c)"
   ]
  },
  {
   "cell_type": "markdown",
   "metadata": {},
   "source": [
    "2\\. Write a function that converts a 32 bit word into a single precision floating point (i.e. interprets the various bits as sign, mantissa and exponent)"
   ]
  },
  {
   "cell_type": "code",
   "execution_count": 14,
   "metadata": {},
   "outputs": [
    {
     "data": {
      "text/plain": [
       "-0.21875"
      ]
     },
     "execution_count": 14,
     "metadata": {},
     "output_type": "execute_result"
    }
   ],
   "source": [
    "def conv(word):\n",
    "    mant=1\n",
    "    for n in range(1,23):\n",
    "        mant=mant + int(word[8+n])/(2**n)\n",
    "    return (-1)**int(word[0])*mant*2**(int(word[1:9],2)-127)\n",
    "word=\"10111110011000000000000000000000\"\n",
    "conv(word)"
   ]
  },
  {
   "cell_type": "markdown",
   "metadata": {},
   "source": [
    "3\\. Write a program to determine the underflow and overflow limits (within a factor of 2) for python on your computer. \n",
    "\n",
    "**Tips**: define two variables inizialized to 1 and halve/double them enough time to exceed the under/over-flow limits  "
   ]
  },
  {
   "cell_type": "code",
   "execution_count": 2,
   "metadata": {},
   "outputs": [
    {
     "name": "stdout",
     "output_type": "stream",
     "text": [
      "underflow = 5e-324\n",
      "overflow = 8.98846567431158e+307\n"
     ]
    }
   ],
   "source": [
    "#Exercise 3) \n",
    "\n",
    "a=1.\n",
    "b=1\n",
    "while b!=0:\n",
    "    c=b\n",
    "    b=b/2\n",
    "print(\"underflow =\",c)\n",
    "\n",
    "while a!= float(\"inf\") :\n",
    "    d=a\n",
    "    a=a*2.\n",
    "print(\"overflow =\",d)\n",
    "    "
   ]
  },
  {
   "cell_type": "markdown",
   "metadata": {},
   "source": [
    "4\\. Write a program to determine the machine precision\n",
    "\n",
    "**Tips**: define a new variable by adding a smaller and smaller value (proceeding similarly to prob. 2) to an original variable and check the point where the two are the same "
   ]
  },
  {
   "cell_type": "code",
   "execution_count": 4,
   "metadata": {},
   "outputs": [
    {
     "name": "stdout",
     "output_type": "stream",
     "text": [
      "precision = 2.220446049250313e-16\n"
     ]
    }
   ],
   "source": [
    "#Exercise 4\n",
    "a=1\n",
    "c=0\n",
    "while (2-c)!=0.:\n",
    "    b=c\n",
    "    c=c+a\n",
    "    a=a/2\n",
    "    \n",
    "print(\"precision =\",2-b)"
   ]
  },
  {
   "cell_type": "markdown",
   "metadata": {},
   "source": [
    "5\\. Write a function that takes in input three parameters $a$, $b$ and $c$ and prints out the two solutions to the quadratic equation $ax^2+bx+c=0$ using the standard formula:\n",
    "$$\n",
    "x=\\frac{-b\\pm\\sqrt{b^2-4ac}}{2a}\n",
    "$$\n",
    "\n",
    "(a) use the program to compute the solution for $a=0.001$, $b=1000$ and $c=0.001$\n",
    "\n",
    "(b) re-express the standard solution formula by multiplying top and bottom by $-b\\mp\\sqrt{b^2-4ac}$ and again find the solution for $a=0.001$, $b=1000$ and $c=0.001$. How does it compare with what previously obtained? Why?\n",
    "\n",
    "(c) write a function that compute the roots of a quadratic equation accurately in all cases"
   ]
  },
  {
   "cell_type": "code",
   "execution_count": 5,
   "metadata": {},
   "outputs": [
    {
     "name": "stdout",
     "output_type": "stream",
     "text": [
      "-9.999894245993346e-07 -999999.999999\n",
      "-1.000000000001e-06 -1000010.5755125057\n"
     ]
    }
   ],
   "source": [
    "#Exercise 5\n",
    "\n",
    "#a)\n",
    "import numpy as np\n",
    "def fquad(a,b,c):\n",
    "    x=(-b+(b*b-4*a*c)**0.5)/(2*a)\n",
    "    y=(-b-(b*b-4*a*c)**0.5)/(2*a)\n",
    "    return x,y\n",
    "       \n",
    "x, y = fquad(0.001,1000,0.001)\n",
    "print(x,y)\n",
    "\n",
    "#b)\n",
    "def fquad2(a,b,c):\n",
    "    x=2*c/(-b-(b**2-4*a*c)**0.5)\n",
    "    y=2*c/(-b+(b**2-4*a*c)**0.5)\n",
    "    return x,y\n",
    "x, y = fquad2(0.001,1000,0.001)\n",
    "print(x,y)\n",
    "\n",
    "\n",
    "#The smaller result of a) is more accurate that the smaller result of b)\n",
    "#The smaller result of b) is more accurate that the smaller result of a)\n",
    "#\n",
    "\n",
    "#c)\n"
   ]
  },
  {
   "cell_type": "markdown",
   "metadata": {},
   "source": [
    "6\\. Write a program that implements the function $f(x)=x(x−1)$\n",
    "\n",
    "(a) Calculate the derivative of the function at the point $x = 1$ using the derivative definition:\n",
    "\n",
    "$$\n",
    "\\frac{{\\rm d}f}{{\\rm d}x} = \\lim_{\\delta\\to0} \\frac{f(x+\\delta)-f(x)}{\\delta}\n",
    "$$\n",
    "\n",
    "with $\\delta = 10^{−2}$. Calculate the true value of the same derivative analytically and compare with the answer your program gives. The two will not agree perfectly. Why not?\n",
    "\n",
    "(b) Repeat the calculation for $\\delta = 10^{−4}, 10^{−6}, 10^{−8}, 10^{−10}, 10^{−12}$ and $10^{−14}$. How does the accuracy scales with $\\delta$?"
   ]
  },
  {
   "cell_type": "code",
   "execution_count": 11,
   "metadata": {},
   "outputs": [
    {
     "name": "stdout",
     "output_type": "stream",
     "text": [
      "1.010000000000001\n",
      "1.0000999999998899\n",
      "1.0000009999177333\n",
      "1.0000000039225287\n",
      "1.000000082840371\n",
      "1.0000889005833413\n",
      "0.9992007221626509\n"
     ]
    }
   ],
   "source": [
    "#Exercise 6\n",
    "def fun(x):\n",
    "    return x*(x-1)\n",
    "\n",
    "\n",
    "x=1\n",
    "for i in range(1,8):\n",
    "    delta=10**(-2*i)\n",
    "    y=(fun(x+delta)-fun(x))/delta\n",
    "    print(y)\n",
    "    \n",
    "#We have the best accurancy for delta=10^(-8)"
   ]
  },
  {
   "cell_type": "markdown",
   "metadata": {},
   "source": [
    "7\\. Consider the integral of the semicircle of radius 1:\n",
    "$$\n",
    "I=\\int_{-1}^{1} \\sqrt(1-x^2) {\\rm d}x\n",
    "$$\n",
    "which it's known to be $I=\\frac{\\pi}{2}=1.57079632679...$.\n",
    "Alternatively we can use the Riemann definition of the integral:\n",
    "$$\n",
    "I=\\lim_{N\\to\\infty} \\sum_{k=1}^{N} h y_k \n",
    "$$\n",
    "\n",
    "with $h=2/N$ the width of each of the $N$ slices the domain is divided into and where\n",
    "$y_k$ is the value of the function at the $k-$th slice.\n",
    "\n",
    "(a) Write a programe to compute the integral with $N=100$. How does the result compares to the true value?\n",
    "\n",
    "(b) How much can $N$ be increased if the computation needs to be run in less than a second? What is the gain in running it for 1 minute? \n"
   ]
  },
  {
   "cell_type": "code",
   "execution_count": 10,
   "metadata": {},
   "outputs": [
    {
     "name": "stdout",
     "output_type": "stream",
     "text": [
      "1.5707963267944103\n",
      "63.28707773200017\n"
     ]
    }
   ],
   "source": [
    "#Exercise 7\n",
    "y=0\n",
    "N=150000000\n",
    "dk=2/N\n",
    "k=-1\n",
    "import time\n",
    "t0=time.perf_counter()\n",
    "for i in range(1,N+1):\n",
    "    y=y+(1-(k+dk*i)**2)**0.5*dk\n",
    "print(y)\n",
    "t1=time.perf_counter()\n",
    "print(t1-t0)\n",
    "\n",
    "#running the program for 1 second means increas N to 2400000, and the error it's on the 10th decimal\n",
    "#running the program for 1 minute means increas N to 150000000, and there is no visible error\n",
    "#"
   ]
  },
  {
   "cell_type": "code",
   "execution_count": null,
   "metadata": {},
   "outputs": [],
   "source": []
  }
 ],
 "metadata": {
  "kernelspec": {
   "display_name": "Python 3",
   "language": "python",
   "name": "python3"
  },
  "language_info": {
   "codemirror_mode": {
    "name": "ipython",
    "version": 3
   },
   "file_extension": ".py",
   "mimetype": "text/x-python",
   "name": "python",
   "nbconvert_exporter": "python",
   "pygments_lexer": "ipython3",
   "version": "3.7.6"
  }
 },
 "nbformat": 4,
 "nbformat_minor": 2
}
