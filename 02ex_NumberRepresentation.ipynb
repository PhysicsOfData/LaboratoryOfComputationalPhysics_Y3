{
 "cells": [
  {
   "cell_type": "markdown",
   "metadata": {},
   "source": [
    "1\\. Write a function that converts number representation (bin<->dec<->hex)"
   ]
  },
  {
   "cell_type": "code",
   "execution_count": 2,
   "metadata": {},
   "outputs": [
    {
     "name": "stdout",
     "output_type": "stream",
     "text": [
      "10011\n",
      "a8a\n",
      "46\n",
      "240\n"
     ]
    }
   ],
   "source": [
    "def dec_to_bin(n):\n",
    "    res=\"\"\n",
    "    while n!=0:\n",
    "        if (n%2 == 0): res = \"0\" + res \n",
    "        else: res = \"1\" + res \n",
    "        n=n//2\n",
    "    \n",
    "    return res\n",
    "\n",
    "print(dec_to_bin(19))\n",
    "\n",
    "def dec_to_hex(n):\n",
    "    res=\"\"\n",
    "    while n!=0:\n",
    "        if n%16 == 10: res = \"a\" + res \n",
    "        elif n%16 == 11: res = \"b\" + res\n",
    "        elif n%16 == 12: res = \"c\" + res\n",
    "        elif n%16 == 13: res = \"d\" + res\n",
    "        elif n%16 == 14: res = \"e\" + res\n",
    "        elif n%16 == 15: res = \"f\" + res  \n",
    "        else: res = str(n%16) + res \n",
    "        n=n//16\n",
    "    \n",
    "    return res\n",
    "\n",
    "print(dec_to_hex(2698))\n",
    "\n",
    "#I define binary to decimal conversion also for non integer number (I will need it in es 2)\n",
    "\n",
    "def bin_to_dec(m):\n",
    "    m = str(m)\n",
    "    while m[0] == '0' and m[1] != '.' : m = m[1:]  #remove initial zeros\n",
    "    n = int(float(m)//1)          #integer part\n",
    "    n = str(n)\n",
    "    frac= str(m)[len(n)+1:]       #fractional part\n",
    "    res = 0\n",
    "    res_f = 0\n",
    "    for i in range(len(n)):\n",
    "        res = res + int(n[len(n)-1-i])*(2**i)\n",
    "    if frac != 0:\n",
    "        for i in range(0,len(frac)):\n",
    "            res_f = res_f + int(frac[i])*(0.5**(i+1))\n",
    "    return res+res_f\n",
    "    \n",
    "print(bin_to_dec(101110))\n",
    "\n",
    "def hex_to_dec(n):\n",
    "    n = str(n)\n",
    "    res = 0\n",
    "    for i in range(len(n)):\n",
    "        if n[len(n)-i-1] == 'a': res = res + 10*(16**i)\n",
    "        elif n[len(n)-i-1] == 'b': res = res + 11*(16**i)\n",
    "        elif n[len(n)-i-1] == 'c': res = res + 12*(16**i)\n",
    "        elif n[len(n)-i-1] == 'd': res = res + 13*(16**i)\n",
    "        elif n[len(n)-i-1] == 'e': res = res + 14*(16**i)\n",
    "        elif n[len(n)-i-1] == 'f': res = res + 15*(16**i)\n",
    "        else: res = res + int(n[len(n)-i-1])*(16**i)\n",
    "    return res\n",
    "\n",
    "print(hex_to_dec('f0'))"
   ]
  },
  {
   "cell_type": "code",
   "execution_count": 104,
   "metadata": {},
   "outputs": [
    {
     "name": "stdout",
     "output_type": "stream",
     "text": [
      "0.75\n"
     ]
    }
   ],
   "source": [
    "print(bin_to_dec(0.11))\n"
   ]
  },
  {
   "cell_type": "markdown",
   "metadata": {},
   "source": [
    "2\\. Write a function that converts a 32 bit word into a single precision floating point (i.e. interprets the various bits as sign, mantissa and exponent)"
   ]
  },
  {
   "cell_type": "code",
   "execution_count": 3,
   "metadata": {},
   "outputs": [
    {
     "name": "stdout",
     "output_type": "stream",
     "text": [
      "7\n",
      "1.75\n",
      "1.316553672920962e-36\n"
     ]
    }
   ],
   "source": [
    "\n",
    "def floating(s):\n",
    "    if len(s)!=32: print('wrong')\n",
    "    else:\n",
    "        exp = bin_to_dec(s[1:9])\n",
    "        print(exp)\n",
    "        mant = bin_to_dec(\"0.\" + s[9:32]) +1\n",
    "        print(mant)\n",
    "        res = (-1)**int(s[0])*(mant*2**(exp-127))\n",
    "    return res\n",
    "\n",
    "print(floating('00000011111000000000000000000000'))"
   ]
  },
  {
   "cell_type": "markdown",
   "metadata": {},
   "source": [
    "3\\. Write a program to determine the underflow and overflow limits (within a factor of 2) for python on your computer. \n",
    "\n",
    "**Tips**: define two variables inizialized to 1 and halve/double them enough time to exceed the under/over-flow limits  "
   ]
  },
  {
   "cell_type": "code",
   "execution_count": 10,
   "metadata": {},
   "outputs": [
    {
     "name": "stdout",
     "output_type": "stream",
     "text": [
      "1075 5e-324\n"
     ]
    }
   ],
   "source": [
    "a=1\n",
    "b=1\n",
    "i=0\n",
    "j=0\n",
    "while a!=0: \n",
    "    a = a/2\n",
    "    i=i+1\n",
    "print(i,2**(-i))  \n",
    "\n",
    "#while j!= 'inf':\n",
    "#    b = b*2\n",
    "#    j=j+1\n",
    "#print(j,2**(j))     \n",
    "#no upper limit for integers, limit given by the RAM"
   ]
  },
  {
   "cell_type": "markdown",
   "metadata": {},
   "source": [
    "4\\. Write a program to determine the machine precision\n",
    "\n",
    "**Tips**: define a new variable by adding a smaller and smaller value (proceeding similarly to prob. 2) to an original variable and check the point where the two are the same "
   ]
  },
  {
   "cell_type": "code",
   "execution_count": 15,
   "metadata": {},
   "outputs": [
    {
     "name": "stdout",
     "output_type": "stream",
     "text": [
      "1.1102230246251565e-16\n"
     ]
    }
   ],
   "source": [
    "a=1\n",
    "i=0\n",
    "c=0\n",
    "while c!=1: \n",
    "    a = a/2\n",
    "    c = 1+a\n",
    "    i=i+1\n",
    "print(2**(-i)) \n"
   ]
  },
  {
   "cell_type": "markdown",
   "metadata": {},
   "source": [
    "5\\. Write a function that takes in input three parameters $a$, $b$ and $c$ and prints out the two solutions to the quadratic equation $ax^2+bx+c=0$ using the standard formula:\n",
    "$$\n",
    "x=\\frac{-b\\pm\\sqrt{b^2-4ac}}{2a}\n",
    "$$\n",
    "\n",
    "(a) use the program to compute the solution for $a=0.001$, $b=1000$ and $c=0.001$\n",
    "\n",
    "(b) re-express the standard solution formula by multiplying top and bottom by $-b\\mp\\sqrt{b^2-4ac}$ and again find the solution for $a=0.001$, $b=1000$ and $c=0.001$. How does it compare with what previously obtained? Why?\n",
    "\n",
    "(c) write a function that compute the roots of a quadratic equation accurately in all cases"
   ]
  },
  {
   "cell_type": "code",
   "execution_count": 26,
   "metadata": {},
   "outputs": [
    {
     "name": "stdout",
     "output_type": "stream",
     "text": [
      "(-9.999894245993346e-07, -999999.999999)\n",
      "(-1.0000000000009999e-06, -1000010.5755125056)\n"
     ]
    }
   ],
   "source": [
    "a = 0.001\n",
    "b= 1000\n",
    "c=0.001\n",
    "\n",
    "import math\n",
    "def sol1(a,b,c):\n",
    "    x1 = (-b+math.sqrt(b**2-4*a*c))/2/a\n",
    "    x2 = (-b-math.sqrt(b**2-4*a*c))/2/a\n",
    "    return x1,x2\n",
    "print(sol1(a,b,c))\n",
    "\n",
    "def sol3(a,b,c):\n",
    "    x1 = (-b**2 + b**2-4*a*c)/(b + math.sqrt(b**2-4*a*c))/2/a\n",
    "    x2 = (-b**2 + b**2-4*a*c)/(b -math.sqrt(b**2-4*a*c))/2/a\n",
    "    return x1,x2\n",
    "print(sol3(a,b,c))"
   ]
  },
  {
   "cell_type": "markdown",
   "metadata": {},
   "source": [
    "6\\. Write a program that implements the function $f(x)=x(x−1)$\n",
    "\n",
    "(a) Calculate the derivative of the function at the point $x = 1$ using the derivative definition:\n",
    "\n",
    "$$\n",
    "\\frac{{\\rm d}f}{{\\rm d}x} = \\lim_{\\delta\\to0} \\frac{f(x+\\delta)-f(x)}{\\delta}\n",
    "$$\n",
    "\n",
    "with $\\delta = 10^{−2}$. Calculate the true value of the same derivative analytically and compare with the answer your program gives. The two will not agree perfectly. Why not?\n",
    "\n",
    "(b) Repeat the calculation for $\\delta = 10^{−4}, 10^{−6}, 10^{−8}, 10^{−10}, 10^{−12}$ and $10^{−14}$. How does the accuracy scales with $\\delta$?"
   ]
  },
  {
   "cell_type": "code",
   "execution_count": 31,
   "metadata": {},
   "outputs": [
    {
     "name": "stdout",
     "output_type": "stream",
     "text": [
      "1.010000000000001\n",
      "1.0000999999998899\n",
      "1.000000999917733\n",
      "1.0000000039225287\n",
      "1.0000000828403708\n",
      "1.000088900583341\n"
     ]
    }
   ],
   "source": [
    "def f(x):\n",
    "    res = x*(x-1)\n",
    "    return res\n",
    "\n",
    "\n",
    "def f1(x,delta):\n",
    "    der = (f(x+delta)-f(x))/delta #analytical derivative is 1 \n",
    "    return der\n",
    "\n",
    "delta = 1\n",
    "x=1\n",
    "\n",
    "for i in range(1,7):\n",
    "    delta = delta*0.01\n",
    "    der = f1(x,delta)\n",
    "    print(der)\n",
    "\n"
   ]
  },
  {
   "cell_type": "markdown",
   "metadata": {},
   "source": [
    "7\\. Consider the integral of the semicircle of radius 1:\n",
    "$$\n",
    "I=\\int_{-1}^{1} \\sqrt(1-x^2) {\\rm d}x\n",
    "$$\n",
    "which it's known to be $I=\\frac{\\pi}{2}=1.57079632679...$.\n",
    "Alternatively we can use the Riemann definition of the integral:\n",
    "$$\n",
    "I=\\lim_{N\\to\\infty} \\sum_{k=1}^{N} h y_k \n",
    "$$\n",
    "\n",
    "with $h=2/N$ the width of each of the $N$ slices the domain is divided into and where\n",
    "$y_k$ is the value of the function at the $k-$th slice.\n",
    "\n",
    "(a) Write a programe to compute the integral with $N=100$. How does the result compares to the true value?\n",
    "\n",
    "(b) How much can $N$ be increased if the computation needs to be run in less than a second? What is the gain in running it for 1 minute? \n"
   ]
  },
  {
   "cell_type": "code",
   "execution_count": 59,
   "metadata": {},
   "outputs": [
    {
     "name": "stdout",
     "output_type": "stream",
     "text": [
      "1.5712827762297958\n",
      "relative error:  0.03096833285139202 %\n"
     ]
    }
   ],
   "source": [
    "I_real = math.pi /2\n",
    "I=0\n",
    "N=100\n",
    "h=2/N\n",
    "for i in range(0,N):\n",
    "    x = i*h -1 +h/2\n",
    "    I = I + h*math.sqrt(1-x**2)\n",
    "    \n",
    "print(I)\n",
    "\n",
    "relative_error = (I-I_real)/I_real\n",
    "print('relative error: ', relative_error*100, '%')"
   ]
  },
  {
   "cell_type": "code",
   "execution_count": 60,
   "metadata": {},
   "outputs": [
    {
     "name": "stdout",
     "output_type": "stream",
     "text": [
      "1.5707963278430572\n",
      "Time:  0.5918630000014673\n",
      "relative error:  6.672798067391025e-08 %\n"
     ]
    }
   ],
   "source": [
    "I=0\n",
    "N=600000\n",
    "h=2/N\n",
    "\n",
    "import timeit\n",
    "\n",
    "start = timeit.default_timer()\n",
    "\n",
    "for i in range(0,N):\n",
    "    x = i*h -1 +h/2\n",
    "    I = I + h*math.sqrt(1-x**2)\n",
    "    \n",
    "print(I)\n",
    "\n",
    "stop = timeit.default_timer()\n",
    "\n",
    "print('Time: ', stop - start)\n",
    "\n",
    "relative_error = (I-I_real)/I_real\n",
    "print('relative error: ', relative_error*100, '%')"
   ]
  },
  {
   "cell_type": "code",
   "execution_count": 63,
   "metadata": {},
   "outputs": [
    {
     "name": "stdout",
     "output_type": "stream",
     "text": [
      "1.5707963267966314\n",
      "Time:  54.9238383999982\n",
      "relative error:  1.1044299433899758e-10 %\n"
     ]
    }
   ],
   "source": [
    "I=0\n",
    "N=50000000\n",
    "h=2/N\n",
    "\n",
    "import timeit\n",
    "\n",
    "start = timeit.default_timer()\n",
    "\n",
    "for i in range(0,N):\n",
    "    x = i*h -1 +h/2\n",
    "    I = I + h*math.sqrt(1-x**2)\n",
    "    \n",
    "print(I)\n",
    "\n",
    "stop = timeit.default_timer()\n",
    "\n",
    "print('Time: ', stop - start)\n",
    "\n",
    "relative_error = (I-I_real)/I_real\n",
    "print('relative error: ', relative_error*100, '%')"
   ]
  },
  {
   "cell_type": "markdown",
   "metadata": {},
   "source": [
    "With one minute runtime the relative error improved of 2 or 3 order of magnitude"
   ]
  }
 ],
 "metadata": {
  "kernelspec": {
   "display_name": "Python 3",
   "language": "python",
   "name": "python3"
  },
  "language_info": {
   "codemirror_mode": {
    "name": "ipython",
    "version": 3
   },
   "file_extension": ".py",
   "mimetype": "text/x-python",
   "name": "python",
   "nbconvert_exporter": "python",
   "pygments_lexer": "ipython3",
   "version": "3.8.3"
  }
 },
 "nbformat": 4,
 "nbformat_minor": 2
}
