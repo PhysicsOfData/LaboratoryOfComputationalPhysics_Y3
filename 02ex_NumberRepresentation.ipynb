{
 "cells": [
  {
   "cell_type": "markdown",
   "metadata": {},
   "source": [
    "1\\. Write a function that converts number representation (bin<->dec<->hex)"
   ]
  },
  {
   "cell_type": "code",
   "execution_count": 4,
   "metadata": {},
   "outputs": [
    {
     "name": "stdout",
     "output_type": "stream",
     "text": [
      "The number 39 will be converted in bin, hex and then reconverted to decimal:  39\n",
      "Trying to convert in a base different from 2,10,16:  error\n"
     ]
    }
   ],
   "source": [
    "def convert(number,frombase,tobase): ##FOR EXAMPLE IF I WANT TO CONVERT (29)dec to bin: convert(29,10,2)\n",
    "    if frombase==2:\n",
    "        if tobase==10:\n",
    "            return int(number,2)\n",
    "        elif tobase==16:\n",
    "            return hex(int(number,2))\n",
    "        elif tobase==2:\n",
    "            return number\n",
    "        else:\n",
    "            return 'error'\n",
    "    elif frombase==10:\n",
    "        if tobase==2:\n",
    "            return bin(number)\n",
    "        elif tobase==16:\n",
    "            return hex(number)\n",
    "        elif tobase==10:\n",
    "            return number\n",
    "        else:\n",
    "            return 'error'\n",
    "    elif frombase==16:\n",
    "        if tobase==10:\n",
    "            return int(number,16)\n",
    "        elif tobase==16:\n",
    "            return hex(int(number,16))\n",
    "        elif tobase==16:\n",
    "            return number\n",
    "        else:\n",
    "            return 'error'\n",
    "    else:\n",
    "        return 'error'\n",
    "        \n",
    "a=39;\n",
    "print(\"The number \"+str(a)+\" will be converted in bin, hex and then reconverted to decimal: \",convert(convert(convert(a,10,2),2,16),16,10))\n",
    "\n",
    "print(\"Trying to convert in a base different from 2,10,16: \", convert(1,2,3)) ##THIS SHOULD RETURN ERROR"
   ]
  },
  {
   "cell_type": "markdown",
   "metadata": {},
   "source": [
    "2\\. Write a function that converts a 32 bit word into a single precision floating point (i.e. interprets the various bits as sign, mantissa and exponent)"
   ]
  },
  {
   "cell_type": "code",
   "execution_count": 5,
   "metadata": {},
   "outputs": [
    {
     "name": "stdout",
     "output_type": "stream",
     "text": [
      "11110110001001011110001000001100\n",
      "sign: -\n",
      "exponent: 11101100 converted: 236\n",
      "mantissa: 01001011110001000001100 converted: 2482700\n",
      "\n",
      "Single precision floating point: -6.490371073168535e+32\n"
     ]
    }
   ],
   "source": [
    "import random\n",
    "\n",
    "def BinToDec(value):\n",
    "    try:\n",
    "        return int(value, 2)\n",
    "    except ValueError:\n",
    "        return \"Invalid binary Value\"\n",
    "\n",
    "a=\"\"; i=0                         #\n",
    "while i<=31:                      # Generates a random number of 32 bits\n",
    "    a=a+str(random.randint(0,1))  #\n",
    "    i+=1                          #\n",
    "\n",
    "print(a)\n",
    "\n",
    "def FP(a):\n",
    "    n=[int(x) for x in str(a)]\n",
    "    if n[0]==1:\n",
    "        sign=-1;\n",
    "        print(\"sign: -\")\n",
    "    else:\n",
    "        sign=+1;\n",
    "        print(\"sign: +\")\n",
    "    exp=\"\"\n",
    "    for i in range(1,9):\n",
    "        exp=exp+str(n[i])\n",
    "    print(\"exponent: \"+exp+\" converted: \"+str(BinToDec(exp)))\n",
    "    mant=\"\"\n",
    "    for i in range(9,32):\n",
    "        mant=mant+str(n[i])\n",
    "    order=len(str(mant))\n",
    "    print(\"mantissa: \"+mant+\" converted: \"+str(BinToDec(mant)))\n",
    "    \n",
    "    print(\"\\nSingle precision floating point: \"+str(sign*(1+BinToDec(mant)*10**(-order))*2**(BinToDec(exp)-127)))\n",
    "    \n",
    "FP(a)"
   ]
  },
  {
   "cell_type": "markdown",
   "metadata": {},
   "source": [
    "3\\. Write a program to determine the underflow and overflow limits (within a factor of 2) for python on your computer. \n",
    "\n",
    "**Tips**: define two variables inizialized to 1 and halve/double them enough time to exceed the under/over-flow limits  "
   ]
  },
  {
   "cell_type": "code",
   "execution_count": 3,
   "metadata": {},
   "outputs": [
    {
     "ename": "KeyboardInterrupt",
     "evalue": "",
     "output_type": "error",
     "traceback": [
      "\u001b[1;31m---------------------------------------------------------------------------\u001b[0m",
      "\u001b[1;31mKeyboardInterrupt\u001b[0m                         Traceback (most recent call last)",
      "\u001b[1;32m<ipython-input-3-6eb8df390fe9>\u001b[0m in \u001b[0;36m<module>\u001b[1;34m\u001b[0m\n\u001b[0;32m      4\u001b[0m     \u001b[1;32mtry\u001b[0m\u001b[1;33m:\u001b[0m\u001b[1;33m\u001b[0m\u001b[1;33m\u001b[0m\u001b[0m\n\u001b[1;32m----> 5\u001b[1;33m         \u001b[0ma\u001b[0m\u001b[1;33m*=\u001b[0m\u001b[1;36m2\u001b[0m\u001b[1;33m\u001b[0m\u001b[1;33m\u001b[0m\u001b[0m\n\u001b[0m\u001b[0;32m      6\u001b[0m     \u001b[1;32mexcept\u001b[0m\u001b[1;33m:\u001b[0m\u001b[1;33m\u001b[0m\u001b[1;33m\u001b[0m\u001b[0m\n",
      "\u001b[1;31mKeyboardInterrupt\u001b[0m: ",
      "\nDuring handling of the above exception, another exception occurred:\n",
      "\u001b[1;31mKeyboardInterrupt\u001b[0m                         Traceback (most recent call last)",
      "\u001b[1;32m<ipython-input-3-6eb8df390fe9>\u001b[0m in \u001b[0;36m<module>\u001b[1;34m\u001b[0m\n\u001b[0;32m      5\u001b[0m         \u001b[0ma\u001b[0m\u001b[1;33m*=\u001b[0m\u001b[1;36m2\u001b[0m\u001b[1;33m\u001b[0m\u001b[1;33m\u001b[0m\u001b[0m\n\u001b[0;32m      6\u001b[0m     \u001b[1;32mexcept\u001b[0m\u001b[1;33m:\u001b[0m\u001b[1;33m\u001b[0m\u001b[1;33m\u001b[0m\u001b[0m\n\u001b[1;32m----> 7\u001b[1;33m         \u001b[0mprint\u001b[0m\u001b[1;33m(\u001b[0m\u001b[0ma\u001b[0m\u001b[1;33m)\u001b[0m\u001b[1;33m\u001b[0m\u001b[1;33m\u001b[0m\u001b[0m\n\u001b[0m\u001b[0;32m      8\u001b[0m         \u001b[1;32mbreak\u001b[0m\u001b[1;33m;\u001b[0m\u001b[1;33m\u001b[0m\u001b[1;33m\u001b[0m\u001b[0m\n\u001b[0;32m      9\u001b[0m \u001b[1;32mwhile\u001b[0m \u001b[1;32mTrue\u001b[0m\u001b[1;33m:\u001b[0m\u001b[1;33m\u001b[0m\u001b[1;33m\u001b[0m\u001b[0m\n",
      "\u001b[1;32mD:\\Programmi\\Anaconda\\lib\\site-packages\\ipykernel\\iostream.py\u001b[0m in \u001b[0;36mwrite\u001b[1;34m(self, string)\u001b[0m\n\u001b[0;32m    385\u001b[0m \u001b[1;33m\u001b[0m\u001b[0m\n\u001b[0;32m    386\u001b[0m     \u001b[1;32mdef\u001b[0m \u001b[0mwrite\u001b[0m\u001b[1;33m(\u001b[0m\u001b[0mself\u001b[0m\u001b[1;33m,\u001b[0m \u001b[0mstring\u001b[0m\u001b[1;33m)\u001b[0m\u001b[1;33m:\u001b[0m\u001b[1;33m\u001b[0m\u001b[1;33m\u001b[0m\u001b[0m\n\u001b[1;32m--> 387\u001b[1;33m         \u001b[1;32mif\u001b[0m \u001b[0mself\u001b[0m\u001b[1;33m.\u001b[0m\u001b[0mecho\u001b[0m \u001b[1;32mis\u001b[0m \u001b[1;32mnot\u001b[0m \u001b[1;32mNone\u001b[0m\u001b[1;33m:\u001b[0m\u001b[1;33m\u001b[0m\u001b[1;33m\u001b[0m\u001b[0m\n\u001b[0m\u001b[0;32m    388\u001b[0m             \u001b[1;32mtry\u001b[0m\u001b[1;33m:\u001b[0m\u001b[1;33m\u001b[0m\u001b[1;33m\u001b[0m\u001b[0m\n\u001b[0;32m    389\u001b[0m                 \u001b[0mself\u001b[0m\u001b[1;33m.\u001b[0m\u001b[0mecho\u001b[0m\u001b[1;33m.\u001b[0m\u001b[0mwrite\u001b[0m\u001b[1;33m(\u001b[0m\u001b[0mstring\u001b[0m\u001b[1;33m)\u001b[0m\u001b[1;33m\u001b[0m\u001b[1;33m\u001b[0m\u001b[0m\n",
      "\u001b[1;31mKeyboardInterrupt\u001b[0m: "
     ]
    }
   ],
   "source": [
    "##THIS PROGRAM TAKES A VERY LONG TIME...\n",
    "import sys \n",
    "a=1; b=1;\n",
    "while True:\n",
    "    try: \n",
    "        a*=2\n",
    "    except: \n",
    "        print(a)\n",
    "        break;\n",
    "while True:\n",
    "    try: \n",
    "        b/=2;\n",
    "    except: \n",
    "        print(b)\n",
    "        break;"
   ]
  },
  {
   "cell_type": "markdown",
   "metadata": {},
   "source": [
    "4\\. Write a program to determine the machine precision\n",
    "\n",
    "**Tips**: define a new variable by adding a smaller and smaller value (proceeding similarly to prob. 2) to an original variable and check the point where the two are the same "
   ]
  },
  {
   "cell_type": "code",
   "execution_count": null,
   "metadata": {},
   "outputs": [],
   "source": [
    "##THIS PROGRAM TAKES A VERY LONG TIME...\n",
    "i=2;j=2;\n",
    "while i!=i+1/(j+1): #checks if the current value of i is equal to the next, if not continues\n",
    "    i+=1/(j+1)      #adds iteratively 1/(j+1) to i (next value of i)\n",
    "    j+=1\n",
    "print(i)"
   ]
  },
  {
   "cell_type": "markdown",
   "metadata": {},
   "source": [
    "5\\. Write a function that takes in input three parameters $a$, $b$ and $c$ and prints out the two solutions to the quadratic equation $ax^2+bx+c=0$ using the standard formula:\n",
    "$$\n",
    "x=\\frac{-b\\pm\\sqrt{b^2-4ac}}{2a}\n",
    "$$\n",
    "\n",
    "(a) use the program to compute the solution for $a=0.001$, $b=1000$ and $c=0.001$\n",
    "\n",
    "(b) re-express the standard solution formula by multiplying top and bottom by $-b\\mp\\sqrt{b^2-4ac}$ and again find the solution for $a=0.001$, $b=1000$ and $c=0.001$. How does it compare with what previously obtained? Why?\n",
    "\n",
    "(c) write a function that compute the roots of a quadratic equation accurately in all cases"
   ]
  },
  {
   "cell_type": "code",
   "execution_count": 6,
   "metadata": {},
   "outputs": [
    {
     "name": "stdout",
     "output_type": "stream",
     "text": [
      "(-9.999894245993346e-07, -999999.999999)\n",
      "(-9.999894245993346e-07, -999999.9999989999)\n",
      "They are different because the multiplication term needs a higher number of decimal places and this propagates to the final result. This can be avoided by using the function round():\n",
      "[(-9.999894245993346e-07, -999999.999999), (-9.999894245993346e-07, -999999.999999)]\n"
     ]
    }
   ],
   "source": [
    "from math import sqrt\n",
    "import math\n",
    "import struct\n",
    "\n",
    "def sol_a(a,b,c):\n",
    "    return ((-b+sqrt(b**2-4*a*c))/(2*a) , (-b-sqrt(b**2-4*a*c))/(2*a))\n",
    "def sol_b(a,b,c):\n",
    "    return ((-b+sqrt(b**2-4*a*c))/(2*a)*(-b-sqrt(b**2-4*a*c))/(-b-sqrt(b**2-4*a*c)) , \n",
    "            (-b-sqrt(b**2-4*a*c))/(2*a)*(-b+sqrt(b**2-4*a*c))/(-b+sqrt(b**2-4*a*c)))\n",
    "def sol_c(a,b,c):\n",
    "    sol1=(-b+sqrt(b**2-4*a*c))/(2*a)*round((-b-sqrt(b**2-4*a*c))/(-b-sqrt(b**2-4*a*c)))\n",
    "    sol2=(-b-sqrt(b**2-4*a*c))/(2*a)*round((-b+sqrt(b**2-4*a*c))/(-b+sqrt(b**2-4*a*c)))\n",
    "    sol3=(-b+sqrt(b**2-4*a*c))/(2*a)\n",
    "    sol4=(-b-sqrt(b**2-4*a*c))/(2*a)\n",
    "    \n",
    "    return [(sol1,sol2),(sol3,sol4)]\n",
    "\n",
    "\n",
    "a=0.001; b=1000; c=0.001;\n",
    "print (sol_a(a,b,c))\n",
    "print (sol_b(a,b,c))\n",
    "print(\"They are different because the multiplication term needs a higher number of decimal places and this propagates to the final result. This can be avoided by using the function round():\")\n",
    "print(sol_c(a,b,c))"
   ]
  },
  {
   "cell_type": "markdown",
   "metadata": {},
   "source": [
    "6\\. Write a program that implements the function $f(x)=x(x−1)$\n",
    "\n",
    "(a) Calculate the derivative of the function at the point $x = 1$ using the derivative definition:\n",
    "\n",
    "$$\n",
    "\\frac{{\\rm d}f}{{\\rm d}x} = \\lim_{\\delta\\to0} \\frac{f(x+\\delta)-f(x)}{\\delta}\n",
    "$$\n",
    "\n",
    "with $\\delta = 10^{−2}$. Calculate the true value of the same derivative analytically and compare with the answer your program gives. The two will not agree perfectly. Why not?\n",
    "\n",
    "(b) Repeat the calculation for $\\delta = 10^{−4}, 10^{−6}, 10^{−8}, 10^{−10}, 10^{−12}$ and $10^{−14}$. How does the accuracy scales with $\\delta$?"
   ]
  },
  {
   "cell_type": "code",
   "execution_count": 7,
   "metadata": {},
   "outputs": [
    {
     "name": "stdout",
     "output_type": "stream",
     "text": [
      "True value=1. Calculated value: \n",
      "delta  0.01 :  1.010000000000001\n",
      "delta  0.0001 :  1.0000999999998899\n",
      "delta  1e-06 :  1.0000009999177333\n",
      "delta  1e-08 :  1.0000000039225287\n",
      "delta  1e-10 :  1.000000082840371\n",
      "delta  1e-12 :  1.0000889005833413\n",
      "delta  1e-14 :  0.9992007221626509\n",
      "The values differ because of the fraction with delta that yields a result with many decimal places that cannot be stored with the limited bits of floating point numbers. Decreasing exponentially delta more bits are needed and the accuracy decreases.\n"
     ]
    }
   ],
   "source": [
    "def f(x):\n",
    "    return x*(x-1)\n",
    "\n",
    "print(\"True value=1. Calculated value: \")\n",
    "for i in range(2, 16, 2):\n",
    "    delta=10**(-i)\n",
    "    x=1\n",
    "    der = (f(x+delta)-f(x))/delta\n",
    "    print(\"delta \", delta, \": \", der)\n",
    "    \n",
    "print(\"The values differ because of the fraction with delta that yields a result with many decimal places that cannot be stored with the limited bits of floating point numbers. Decreasing exponentially delta more bits are needed and the accuracy decreases.\")"
   ]
  },
  {
   "cell_type": "markdown",
   "metadata": {},
   "source": [
    "7\\. Consider the integral of the semicircle of radius 1:\n",
    "$$\n",
    "I=\\int_{-1}^{1} \\sqrt(1-x^2) {\\rm d}x\n",
    "$$\n",
    "which it's known to be $I=\\frac{\\pi}{2}=1.57079632679...$.\n",
    "Alternatively we can use the Riemann definition of the integral:\n",
    "$$\n",
    "I=\\lim_{N\\to\\infty} \\sum_{k=1}^{N} h y_k \n",
    "$$\n",
    "\n",
    "with $h=2/N$ the width of each of the $N$ slices the domain is divided into and where\n",
    "$y_k$ is the value of the function at the $k-$th slice.\n",
    "\n",
    "(a) Write a program to compute the integral with $N=100$. How does the result compares to the true value?\n",
    "\n",
    "(b) How much can $N$ be increased if the computation needs to be run in less than a second? What is the gain in running it for 1 minute? \n"
   ]
  },
  {
   "cell_type": "code",
   "execution_count": 12,
   "metadata": {},
   "outputs": [
    {
     "name": "stdout",
     "output_type": "stream",
     "text": [
      "a) I= 1.569134255549248\n",
      "b) I= 1.5700119444568688 , time elapsed: 1.0118553000002066 s , N= 165\n",
      "c) I= 1.5707897803032307 , time elapsed: 60.009172600000056 s , N= 4011\n",
      "For 1s the result is closer to the real value. Increasing to 60s the result is again closer to the real value.\n"
     ]
    }
   ],
   "source": [
    "from math import sqrt\n",
    "from numpy import arange\n",
    "import time\n",
    "import timeit\n",
    "\n",
    "N=100\n",
    "h=2/N\n",
    "\n",
    "def f(x):\n",
    "    try:\n",
    "        return sqrt(1-x**2)\n",
    "    except:\n",
    "        return 0.0\n",
    "\n",
    "    \n",
    "I=sum([h*x for x in list(map(f, arange(-1,1+h,h)))])\n",
    "print(\"a) I=\", I)\n",
    "\n",
    "######################\n",
    "\n",
    "timeout=timeit.default_timer()+1\n",
    "while timeit.default_timer()<timeout:\n",
    "    N+=1\n",
    "    time.sleep(1e-20)\n",
    "h=2/N\n",
    "I=sum([h*x for x in list(map(f, arange(-1,1+h,h)))])\n",
    "print(\"b) I=\", I, \", time elapsed:\", timeit.default_timer()-timeout+1, \"s , N=\", N)\n",
    "\n",
    "######################\n",
    "\n",
    "timeout=timeit.default_timer()+60\n",
    "while timeit.default_timer()<timeout:\n",
    "    N+=1\n",
    "    time.sleep(1e-20)\n",
    "h=2/N\n",
    "I=sum([h*x for x in list(map(f, arange(-1,1+h,h)))])\n",
    "print(\"c) I=\", I, \", time elapsed:\", timeit.default_timer()-timeout+60, \"s , N=\", N)\n",
    "\n",
    "print(\"For 1s the result is closer to the real value. Increasing to 60s the result is again closer to the real value.\")"
   ]
  },
  {
   "cell_type": "code",
   "execution_count": null,
   "metadata": {},
   "outputs": [],
   "source": []
  }
 ],
 "metadata": {
  "kernelspec": {
   "display_name": "Python 3",
   "language": "python",
   "name": "python3"
  },
  "language_info": {
   "codemirror_mode": {
    "name": "ipython",
    "version": 3
   },
   "file_extension": ".py",
   "mimetype": "text/x-python",
   "name": "python",
   "nbconvert_exporter": "python",
   "pygments_lexer": "ipython3",
   "version": "3.8.3"
  }
 },
 "nbformat": 4,
 "nbformat_minor": 2
}
