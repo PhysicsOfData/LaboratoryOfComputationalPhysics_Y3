{
 "cells": [
  {
   "cell_type": "markdown",
   "metadata": {},
   "source": [
    "1\\. Write a function that converts number representation (bin<->dec<->hex)"
   ]
  },
  {
   "cell_type": "code",
   "execution_count": null,
   "metadata": {},
   "outputs": [],
   "source": [
    "def bin_to_int(n) :\n",
    "    "
   ]
  },
  {
   "cell_type": "markdown",
   "metadata": {},
   "source": [
    "2\\. Write a function that converts a 32 bit word into a single precision floating point (i.e. interprets the various bits as sign, mantissa and exponent)"
   ]
  },
  {
   "cell_type": "code",
   "execution_count": 45,
   "metadata": {},
   "outputs": [
    {
     "output_type": "stream",
     "name": "stdout",
     "text": [
      "s = -1\ne = 129\n1.f = 1.375\n-5.5\n\n\ns = -1\ne = 129\n1.f = 1.375\n-5.5\n\n\ns = 1\ne = 7\n1.f = 1.75\n1.316553672920962e-36\n\n\ns = 1\ne = 7\n1.f = 1.75\n1.316553672920962e-36\n"
     ]
    }
   ],
   "source": [
    "def bin_to_single(x) :\n",
    "    if x.bit_length() != 32 : #i numeri binari in python sono di tipo int\n",
    "    #if len(b) != 32 :\n",
    "        #print(\"The provided binary number is not a 32 bit word\")\n",
    "        #return None\n",
    "        b = x + (1 << 31) #se non copio da un'altra parte l'argomento della funzione questo verrà modificato anche fuori dalla funzione...\n",
    "        s=1 #aggiungo 100... in modo da \"costringerlo\" ad effettuare uno zero padding; sistemo a mano il segno visto che in questo modo il primo bit viene scambiato\n",
    "    else :\n",
    "        b=x\n",
    "        s=-1\n",
    "    #n = b << 1\n",
    "    e = b >> 23 #niente indexing = servono shift e mask\n",
    "    e = e & 255\n",
    "    f=0\n",
    "    for i in range(23) :\n",
    "        n = b & 2**i\n",
    "        n = n >> i\n",
    "        if n != 0 :#potrei mettere una formula generale ma rischio di sommare 0*2^cose. Non so se pesi di più fare if o operazioni con numeri piccoli\n",
    "            f+=2**(i-23)\n",
    "    f+=1\n",
    "    print(\"s =\",s)\n",
    "    print(\"e =\",e)\n",
    "    print(\"1.f =\",f)\n",
    "    return s*f*(2**(e-127))\n",
    "\n",
    "x=0b11000000101100000000000000000000 #-5.5\n",
    "x=bin_to_single(x)\n",
    "print(x)\n",
    "print(\"\\n\")\n",
    "\n",
    "def binstr_to_single(b) :\n",
    "    b_str=b[2:]#se gli passi 0b... Se la stringa non contiene 0b questa riga non serve\n",
    "    #print(b_str)\n",
    "    if len(b_str) != 32 :\n",
    "        print(\"The provided binary number is not a 32 bit word\")\n",
    "        return None\n",
    "    s=b_str[0]\n",
    "    if s == \"0\" : s=1\n",
    "    else : s=-1\n",
    "    e=int(b_str[1:9],2)\n",
    "    m=b_str[9:]\n",
    "    print(\"s =\",s)\n",
    "    print(\"e =\",e)\n",
    "    #print(\"m =\",m)\n",
    "    f=1+sum([int(m[i])*2**(-(i+1)) for i in range(23)])\n",
    "    print(\"1.f =\",f)\n",
    "    n=s*f*2**(e-127)\n",
    "    #print(n)\n",
    "    return n\n",
    "\n",
    "x=binstr_to_single(\"0b11000000101100000000000000000000\")\n",
    "print(x)\n",
    "\n",
    "\n",
    "print(\"\\n\")\n",
    "y=0b00000011111000000000000000000000 #1.316554e-36\n",
    "#y=int(format(y,\"#032b\"),2)\n",
    "print(bin_to_single(y))\n",
    "print(\"\\n\")\n",
    "print(binstr_to_single(\"0b00000011111000000000000000000000\"))"
   ]
  },
  {
   "cell_type": "markdown",
   "metadata": {},
   "source": [
    "3\\. Write a program to determine the underflow and overflow limits (within a factor of 2) for python on your computer. \n",
    "\n",
    "**Tips**: define two variables inizialized to 1 and halve/double them enough time to exceed the under/over-flow limits  "
   ]
  },
  {
   "cell_type": "code",
   "execution_count": 50,
   "metadata": {},
   "outputs": [
    {
     "output_type": "stream",
     "name": "stdout",
     "text": [
      "underflow: 2^(-1075)\noverflow: 2^(1024)\n"
     ]
    }
   ],
   "source": [
    "from math import inf\n",
    "\n",
    "x=1.0\n",
    "i=0\n",
    "while x != 0 :\n",
    "    x/=2\n",
    "    i+=1\n",
    "#print(i)\n",
    "print(\"underflow: 2^(-%d)\"%i)\n",
    "\n",
    "x=1.0\n",
    "i=0\n",
    "while x != inf :\n",
    "    x*=2\n",
    "    i+=1\n",
    "print(\"overflow: 2^(%d)\"%i)"
   ]
  },
  {
   "cell_type": "markdown",
   "metadata": {},
   "source": [
    "4\\. Write a program to determine the machine precision\n",
    "\n",
    "**Tips**: define a new variable by adding a smaller and smaller value (proceeding similarly to prob. 2) to an original variable and check the point where the two are the same "
   ]
  },
  {
   "cell_type": "code",
   "execution_count": 52,
   "metadata": {},
   "outputs": [
    {
     "output_type": "stream",
     "name": "stdout",
     "text": [
      "Smallest significant increment: 2^(-53)\n"
     ]
    }
   ],
   "source": [
    "x=y=1.0\n",
    "i=0\n",
    "while x+y != x :\n",
    "    y/=2\n",
    "    i+=1\n",
    "print(\"Smallest significant increment: 2^(-%d)\"%i)\n"
   ]
  },
  {
   "cell_type": "markdown",
   "metadata": {},
   "source": [
    "5\\. Write a function that takes in input three parameters $a$, $b$ and $c$ and prints out the two solutions to the quadratic equation $ax^2+bx+c=0$ using the standard formula:\n",
    "$$\n",
    "x=\\frac{-b\\pm\\sqrt{b^2-4ac}}{2a}\n",
    "$$\n",
    "\n",
    "(a) use the program to compute the solution for $a=0.001$, $b=1000$ and $c=0.001$\n",
    "\n",
    "(b) re-express the standard solution formula by multiplying top and bottom by $-b\\mp\\sqrt{b^2-4ac}$ and again find the solution for $a=0.001$, $b=1000$ and $c=0.001$. How does it compare with what previously obtained? Why?\n",
    "\n",
    "(c) write a function that compute the roots of a quadratic equation accurately in all cases"
   ]
  },
  {
   "cell_type": "code",
   "execution_count": 4,
   "metadata": {},
   "outputs": [
    {
     "output_type": "stream",
     "name": "stdout",
     "text": [
      "(-9.999894245993346e-07, -999999.999999)\n\n\n(-1.000000000001e-06, -1000010.5755125057)\n\n\n(-1.000000000001e-06, -999999.999999)\n"
     ]
    }
   ],
   "source": [
    "from math import sqrt\n",
    "#according to desmos appoximate solutions are 0 and -1e6\n",
    "\n",
    "def quad_eq_sol1(a,b,c) :\n",
    "    x1=(-b+sqrt(b*b-4*a*c))/(2*a)\n",
    "    x2=(-b-sqrt(b*b-4*a*c))/(2*a)\n",
    "    return x1,x2\n",
    "\n",
    "print(quad_eq_sol1(0.001,1000,0.001))\n",
    "\n",
    "def quad_eq_sol2(a,b,c) :\n",
    "    x1=(2*c)/(-b-sqrt(b*b-4*a*c))\n",
    "    x2=(2*c)/(-b+sqrt(b*b-4*a*c))\n",
    "    return x1,x2\n",
    "print(\"\\n\")\n",
    "print(quad_eq_sol2(0.001,1000,0.001))\n",
    "\n",
    "#https://people.csail.mit.edu/bkph/articles/Quadratics.pdf\n",
    "#vedi anche https://math.stackexchange.com/questions/866331/numerically-stable-algorithm-for-solving-the-quadratic-equation-when-a-is-very\n",
    "def quad_eq_sol_ok(a,b,c) :\n",
    "    x1_1,x2_1=quad_eq_sol1(a,b,c)\n",
    "    x1_2,x2_2=quad_eq_sol2(a,b,c)#dispendioso ma più leggibile di return quad...[0] o quad...[1] \n",
    "    if b < 0 : return x2_2,x1_1\n",
    "    else : return x1_2,x2_1\n",
    "\n",
    "print(\"\\n\")\n",
    "print(quad_eq_sol_ok(0.001,1000,0.001))\n"
   ]
  },
  {
   "cell_type": "markdown",
   "metadata": {},
   "source": [
    "6\\. Write a program that implements the function $f(x)=x(x−1)$\n",
    "\n",
    "(a) Calculate the derivative of the function at the point $x = 1$ using the derivative definition:\n",
    "\n",
    "$$\n",
    "\\frac{{\\rm d}f}{{\\rm d}x} = \\lim_{\\delta\\to0} \\frac{f(x+\\delta)-f(x)}{\\delta}\n",
    "$$\n",
    "\n",
    "with $\\delta = 10^{−2}$. Calculate the true value of the same derivative analytically and compare with the answer your program gives. The two will not agree perfectly. Why not?\n",
    "\n",
    "(b) Repeat the calculation for $\\delta = 10^{−4}, 10^{−6}, 10^{−8}, 10^{−10}, 10^{−12}$ and $10^{−14}$. How does the accuracy scales with $\\delta$?"
   ]
  },
  {
   "cell_type": "code",
   "execution_count": 8,
   "metadata": {},
   "outputs": [
    {
     "output_type": "stream",
     "name": "stdout",
     "text": [
      "f(1) (exact result) = 1\ndelta vs approximated f'(1): [(1, 2.0), (0.01, 1.010000000000001), (0.0001, 1.0000999999998899), (1e-06, 1.0000009999177333), (1e-08, 1.0000000039225287), (1e-10, 1.000000082840371), (1e-12, 1.0000889005833413), (1e-14, 0.9992007221626509)]\n"
     ]
    }
   ],
   "source": [
    "def f(x) :\n",
    "    return x*(x-1)\n",
    "\n",
    "def Df(x,delta) :\n",
    "    return (f(x+delta)-f(x))/delta\n",
    "\n",
    "def der_f(x) :\n",
    "    return 2*x-1\n",
    "\n",
    "deltas = [10**(-i) for i in range(15) if i%2 == 0]\n",
    "print(\"f(1) (exact result) =\",der_f(1))\n",
    "approx_der=list(map(lambda delta: Df(1,delta), deltas))\n",
    "print(\"delta vs approximated f'(1):\",list(zip(deltas,approx_der)))"
   ]
  },
  {
   "cell_type": "markdown",
   "metadata": {},
   "source": [
    "7\\. Consider the integral of the semicircle of radius 1:\n",
    "$$\n",
    "I=\\int_{-1}^{1} \\sqrt(1-x^2) {\\rm d}x\n",
    "$$\n",
    "which it's known to be $I=\\frac{\\pi}{2}=1.57079632679...$.\n",
    "Alternatively we can use the Riemann definition of the integral:\n",
    "$$\n",
    "I=\\lim_{N\\to\\infty} \\sum_{k=1}^{N} h y_k \n",
    "$$\n",
    "\n",
    "with $h=2/N$ the width of each of the $N$ slices the domain is divided into and where\n",
    "$y_k$ is the value of the function at the $k-$th slice.\n",
    "\n",
    "(a) Write a programe to compute the integral with $N=100$. How does the result compares to the true value?\n",
    "\n",
    "(b) How much can $N$ be increased if the computation needs to be run in less than a second? What is the gain in running it for 1 minute? \n"
   ]
  },
  {
   "cell_type": "code",
   "execution_count": 41,
   "metadata": {},
   "outputs": [
    {
     "output_type": "stream",
     "name": "stdout",
     "text": [
      "exact result = 1.5707963267948966\napproximated result with 100 slices = 1.5691342555492502\napprox. int. with 100 slices = 1.5691342555492502\npercentual difference between app./exact result = 0.1058107418062065\nelapsed time with 100 slices (seconds):\n0.000045\n\n\napprox. int. with 200 slices = 1.5702085158895223\npercentual difference between app./exact result = 0.03742120447745672\nelapsed time with 200 slices (seconds):\n0.000085\n\n\napprox. int. with 300 slices = 1.5704763303905234\npercentual difference between app./exact result = 0.020371603811050517\nelapsed time with 300 slices (seconds):\n0.000134\n\n\napprox. int. with 400 slices = 1.5705884724197634\npercentual difference between app./exact result = 0.01323242049828744\nelapsed time with 400 slices (seconds):\n0.000184\n\n\napprox. int. with 500 slices = 1.5706475937537707\npercentual difference between app./exact result = 0.009468639478506844\nelapsed time with 500 slices (seconds):\n0.000191\n\n\napprox. int. with 600 slices = 1.5706831794256648\npercentual difference between app./exact result = 0.007203185244429871\nelapsed time with 600 slices (seconds):\n0.000243\n\n\napprox. int. with 700 slices = 1.5707065362486887\npercentual difference between app./exact result = 0.005716243708759286\nelapsed time with 700 slices (seconds):\n0.000285\n\n\napprox. int. with 800 slices = 1.5707228335460945\npercentual difference between app./exact result = 0.004678725532289254\nelapsed time with 800 slices (seconds):\n0.000609\n\n\napprox. int. with 900 slices = 1.5707347350710912\npercentual difference between app./exact result = 0.003921050918870571\nelapsed time with 900 slices (seconds):\n0.000375\n\n\napprox. int. with 1000 slices = 1.570743738501071\npercentual difference between app./exact result = 0.0033478747644449802\nelapsed time with 1000 slices (seconds):\n0.000422\n\n\n"
     ]
    }
   ],
   "source": [
    "from math import pi,sqrt\n",
    "import timeit\n",
    "\n",
    "def f(x) :\n",
    "    return sqrt(1-x*x)\n",
    "\n",
    "def I(N) :\n",
    "    h=2/N #lo calcolo una tantum\n",
    "    #return N,sum([h*f(i) for i in range(-1,1+h,h)])\n",
    "    return N,sum([h*f(x) for x in [i*h for i in range(-int(1/h),int(1/h+1),1)]])\n",
    "\n",
    "exact_int=pi/2\n",
    "print(\"exact result =\",exact_int)\n",
    "N,integral=I(100)\n",
    "print(\"approximated result with %d slices =\"%N,integral)\n",
    "\n",
    "\n",
    "for n in range(100,1001,100) :\n",
    "    N,integral=I(n)\n",
    "    print(\"approx. int. with %d slices =\"%N,integral)\n",
    "    print(\"percentual difference between app./exact result =\",100*abs(integral-exact_int)/exact_int)\n",
    "    print(\"elapsed time with %d slices (seconds):\"%N)\n",
    "    def time_function() : return I(n) #not very elegant but easy to understand and especially to implement with timeit.timeit(), which requires a statement\n",
    "    #%timeit time_function()\n",
    "    #print(timeit.timeit(time_function, number=1))#just 1 execution per n in order to save time at the expense of measurement accuracy\n",
    "    print(format(timeit.timeit(time_function, number=1), \"f\")) #this works fine if we want a less detailed but easier to read output, which is probably better considering the low accuracy of our measurements\n",
    "    print(\"\\n\")\n",
    "\n",
    "#no use in implementing a while(time<1 minute) : increment n, with N=100 we have a result with an error less than 0.004% and an execution time of less than 1/1000th of a second"
   ]
  }
 ],
 "metadata": {
  "kernelspec": {
   "display_name": "Python 3",
   "language": "python",
   "name": "python3"
  },
  "language_info": {
   "codemirror_mode": {
    "name": "ipython",
    "version": 3
   },
   "file_extension": ".py",
   "mimetype": "text/x-python",
   "name": "python",
   "nbconvert_exporter": "python",
   "pygments_lexer": "ipython3",
   "version": "3.8.3-final"
  }
 },
 "nbformat": 4,
 "nbformat_minor": 2
}