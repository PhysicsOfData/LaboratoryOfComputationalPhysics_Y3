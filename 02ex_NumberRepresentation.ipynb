{
 "cells": [
  {
   "cell_type": "markdown",
   "metadata": {},
   "source": [
    "1\\. Write a function that converts number representation (bin<->dec<->hex)"
   ]
  },
  {
   "cell_type": "code",
   "execution_count": 8,
   "metadata": {},
   "outputs": [
    {
     "name": "stdout",
     "output_type": "stream",
     "text": [
      "0b100000  in Decimal is:  32\n",
      "32  in Binary is:  0b100000\n",
      "32  in Hexadecimal is:  0x20\n",
      "F  in Decimal is:  15\n"
     ]
    }
   ],
   "source": [
    "def binary_to_decimal(n):     \n",
    "    decimal = int(n, 2)\n",
    "    \n",
    "    print(n, \" in Decimal is: \", decimal) \n",
    "\n",
    "def decimal_to_binary(n): \n",
    "    binary = int(n) \n",
    "  \n",
    "    print(n, \" in Binary is: \", bin(binary)) \n",
    "  \n",
    "\n",
    "def decimal_to_hex(n): \n",
    "    hexadecimal = int(n) \n",
    "  \n",
    "    print(n, \" in Hexadecimal is: \", hex(hexadecimal)) \n",
    "  \n",
    "\n",
    "def HextoDec(string):\n",
    "    dec = 0\n",
    "    for i,d in enumerate(string) : \n",
    "        hex = \"0123456789ABCDEF\"\n",
    "        value= hex.index(d)\n",
    "        power = (len(string) -(i+1)) \n",
    "        dec += (value*16**power)\n",
    "    print(string, \" in Decimal is: \", dec)\n",
    "    \n",
    "n = 32\n",
    "strng = 'F'\n",
    "\n",
    "binary_to_decimal(bin(n))\n",
    "decimal_to_binary(n) \n",
    "decimal_to_hex(n)\n",
    "HextoDec(strng)"
   ]
  },
  {
   "cell_type": "markdown",
   "metadata": {},
   "source": [
    "2\\. Write a function that converts a 32 bit word into a single precision floating point (i.e. interprets the various bits as sign, mantissa and exponent)"
   ]
  },
  {
   "cell_type": "code",
   "execution_count": 9,
   "metadata": {},
   "outputs": [
    {
     "name": "stdout",
     "output_type": "stream",
     "text": [
      "The conversion of 00000111111000000010100000000000 into a single precision floating point is: 3.3727283913793073e-34\n",
      "The conversion of 11000000000100000000000000000000 into a single precision floating point is: -2.25\n",
      "The conversion of 01000001100001100000000000000000 into a single precision floating point is: 16.75\n"
     ]
    }
   ],
   "source": [
    "a ='00000111111000000010100000000000'\n",
    "b ='11000000000100000000000000000000'\n",
    "c ='01000001100001100000000000000000'\n",
    "\n",
    "def conversion(bit_32):\n",
    "    exp = bit_32[1:9]\n",
    "    mant = bit_32[9::]\n",
    "    mantissa = 0\n",
    "    for i in range(len(mant)):\n",
    "        mantissa += int(mant[i])*(2**(-(i+1)))\n",
    "    \n",
    "    decimal = ((-1)**int(bit_32[0]))*(2**(int(exp,2)-127))*(1+mantissa)\n",
    "    return(decimal)\n",
    "        \n",
    "    \n",
    "\n",
    "print('The conversion of {0} into a single precision floating point is: {1}'.format(a, conversion(a)))\n",
    "print('The conversion of {0} into a single precision floating point is: {1}'.format(b, conversion(b)))\n",
    "print('The conversion of {0} into a single precision floating point is: {1}'.format(c, conversion(c)))"
   ]
  },
  {
   "cell_type": "markdown",
   "metadata": {},
   "source": [
    "3\\. Write a program to determine the underflow and overflow limits (within a factor of 2) for python on your computer. \n",
    "\n",
    "**Tips**: define two variables inizialized to 1 and halve/double them enough time to exceed the under/over-flow limits  "
   ]
  },
  {
   "cell_type": "code",
   "execution_count": 41,
   "metadata": {},
   "outputs": [
    {
     "name": "stdout",
     "output_type": "stream",
     "text": [
      "The underflow limit is: 5e-324\n",
      "The overflow limit is: 8.98846567431158e+307\n"
     ]
    }
   ],
   "source": [
    "# Underflow\n",
    "under = 1\n",
    "while under != 0:\n",
    "    und_min = under\n",
    "    under = under/2\n",
    "print('The underflow limit is:', und_min)\n",
    "\n",
    "\n",
    "# Overflow\n",
    "over = 1\n",
    "while over/over == 1:\n",
    "    over_max = over\n",
    "    over = over * 2.\n",
    "print('The overflow limit is:', over_max)"
   ]
  },
  {
   "cell_type": "markdown",
   "metadata": {},
   "source": [
    "4\\. Write a program to determine the machine precision\n",
    "\n",
    "**Tips**: define a new variable by adding a smaller and smaller value (proceeding similarly to prob. 2) to an original variable and check the point where the two are the same "
   ]
  },
  {
   "cell_type": "code",
   "execution_count": 45,
   "metadata": {},
   "outputs": [
    {
     "name": "stdout",
     "output_type": "stream",
     "text": [
      "The machine precision is: 2.220446049250313e-16\n"
     ]
    }
   ],
   "source": [
    "var1 = 1\n",
    "var2 = 1\n",
    "\n",
    "while(var1 != var1+(var2/2)):\n",
    "    var2/=2\n",
    "\n",
    "print('The machine precision is:', var2)"
   ]
  },
  {
   "cell_type": "markdown",
   "metadata": {},
   "source": [
    "5\\. Write a function that takes in input three parameters $a$, $b$ and $c$ and prints out the two solutions to the quadratic equation $ax^2+bx+c=0$ using the standard formula:\n",
    "$$\n",
    "x=\\frac{-b\\pm\\sqrt{b^2-4ac}}{2a}\n",
    "$$\n",
    "\n",
    "(a) use the program to compute the solution for $a=0.001$, $b=1000$ and $c=0.001$\n",
    "\n",
    "(b) re-express the standard solution formula by multiplying top and bottom by $-b\\mp\\sqrt{b^2-4ac}$ and again find the solution for $a=0.001$, $b=1000$ and $c=0.001$. How does it compare with what previously obtained? Why?\n",
    "\n",
    "(c) write a function that compute the roots of a quadratic equation accurately in all cases"
   ]
  },
  {
   "cell_type": "code",
   "execution_count": 43,
   "metadata": {},
   "outputs": [
    {
     "name": "stdout",
     "output_type": "stream",
     "text": [
      "a)\n",
      "The solutions are:\n",
      "x1: (-9.999894245993346e-07+0j)\n",
      "x2: (-999999.999999+0j)\n",
      "\n",
      "b)\n",
      "The solutions are:\n",
      "x1: (-1.000000000001e-06-0j)\n",
      "x2: (-1000010.5755125057-0j)\n",
      "\n",
      "c)\n",
      "The solutions are:\n",
      "x1: (-1.000000000001e-06-0j)\n",
      "x2: (-999999.999999+0j)\n"
     ]
    }
   ],
   "source": [
    "import cmath\n",
    "\n",
    "def sol1( a, b, c):\n",
    "    x1 = ( -b + cmath.sqrt( b**2 - 4*a*c ) ) / ( 2*a ) \n",
    "    x2 = ( -b - cmath.sqrt( b**2 - 4*a*c ) ) / ( 2*a ) \n",
    "    return (x1, x2)\n",
    "\n",
    "def sol2( a, b, c):\n",
    "    x1 = ( 2*c ) / ( ( -b - cmath.sqrt( b**2 - 4*a*c ) ) )\n",
    "    x2 = ( 2*c ) / ( ( -b + cmath.sqrt( b**2 - 4*a*c ) ) )\n",
    "    return (x1, x2)\n",
    "\n",
    "    x1 = ( ( -b + cmath.sqrt( b**2 - 4*a*c ) ) * ( -b - cmath.sqrt( b**2 - 4*a*c ) ) ) / ( 2*a* (-b - cmath.sqrt(b**2 - 4*a*c) ) )\n",
    "    x2 = ( ( -b - cmath.sqrt( b**2 - 4*a*c ) ) * ( -b + cmath.sqrt( b**2 - 4*a*c ) ) ) / ( 2*a* (-b + cmath.sqrt(b**2 - 4*a*c) ) )\n",
    "    return (x1, x2)\n",
    "\n",
    "\n",
    "def sol3( a, b, c):\n",
    "    x1 = sol2( a, b, c)[0]\n",
    "    x2 = sol1( a, b, c)[1]\n",
    "    return (x1, x2)\n",
    "\n",
    "# a)\n",
    "a = 0.001\n",
    "b = 1000\n",
    "c = 0.001\n",
    "x1, x2 = sol1( a, b, c)\n",
    "print('a)')\n",
    "print('The solutions are:')\n",
    "print('x1:', x1)\n",
    "print('x2:', x2)\n",
    "\n",
    "# b)\n",
    "a = 0.001\n",
    "b = 1000\n",
    "c = 0.001\n",
    "x1, x2 = sol2( a, b, c)\n",
    "print('')\n",
    "print('b)')\n",
    "print('The solutions are:')\n",
    "print('x1:', x1)\n",
    "print('x2:', x2)\n",
    "\n",
    "# c)\n",
    "a = 0.001\n",
    "b = 1000\n",
    "c = 0.001\n",
    "x1, x2 = sol3( a, b, c)\n",
    "print('')\n",
    "print('c)')\n",
    "print('The solutions are:')\n",
    "print('x1:', x1)\n",
    "print('x2:', x2)"
   ]
  },
  {
   "cell_type": "markdown",
   "metadata": {},
   "source": [
    "6\\. Write a program that implements the function $f(x)=x(x−1)$\n",
    "\n",
    "(a) Calculate the derivative of the function at the point $x = 1$ using the derivative definition:\n",
    "\n",
    "$$\n",
    "\\frac{{\\rm d}f}{{\\rm d}x} = \\lim_{\\delta\\to0} \\frac{f(x+\\delta)-f(x)}{\\delta}\n",
    "$$\n",
    "\n",
    "with $\\delta = 10^{−2}$. Calculate the true value of the same derivative analytically and compare with the answer your program gives. The two will not agree perfectly. Why not?\n",
    "\n",
    "(b) Repeat the calculation for $\\delta = 10^{−4}, 10^{−6}, 10^{−8}, 10^{−10}, 10^{−12}$ and $10^{−14}$. How does the accuracy scales with $\\delta$?"
   ]
  },
  {
   "cell_type": "code",
   "execution_count": 10,
   "metadata": {},
   "outputs": [
    {
     "name": "stdout",
     "output_type": "stream",
     "text": [
      "Delta:  0.01\n",
      "Derivative:  1.010000000000001\n",
      "Accuracy:  0.010000000000000897\n",
      "\n",
      "\n",
      "Delta:  0.0001\n",
      "Derivative:  1.0000999999998899\n",
      "Accuracy:  9.999999988985486e-05\n",
      "\n",
      "\n",
      "Delta:  1e-06\n",
      "Derivative:  1.0000009999177333\n",
      "Accuracy:  9.99917733279787e-07\n",
      "\n",
      "\n",
      "Delta:  1e-08\n",
      "Derivative:  1.0000000039225287\n",
      "Accuracy:  3.922528746258536e-09\n",
      "\n",
      "\n",
      "Delta:  1e-10\n",
      "Derivative:  1.000000082840371\n",
      "Accuracy:  8.284037100736441e-08\n",
      "\n",
      "\n",
      "Delta:  1e-12\n",
      "Derivative:  1.0000889005833413\n",
      "Accuracy:  8.890058334132256e-05\n",
      "\n",
      "\n",
      "Delta:  1e-14\n",
      "Derivative:  0.9992007221626509\n",
      "Accuracy:  -0.0007992778373491216\n",
      "\n",
      "\n",
      "I think that the difference in the computation of the derivative is due to the fact this the value of delta cannot be considered null, hence it keeps increasing the value of the derivative.\n"
     ]
    }
   ],
   "source": [
    "def f(x):\n",
    "    return x*(x-1)\n",
    "\n",
    "def derivative(f, x, delta):\n",
    "    derivative = ( f(x+delta) - f(x) ) / delta\n",
    "    return derivative\n",
    "\n",
    "deltas = [1e-02, 1e-04, 1e-06, 1e-08, 1e-10, 1e-12, 1e-14]\n",
    "\n",
    "for delta in deltas:\n",
    "    print('Delta: ', delta)\n",
    "    \n",
    "    print('Derivative: ', derivative(f,1,delta))\n",
    "    print('Accuracy: ', (derivative(f,1,delta) - 1))\n",
    "    print('\\n')\n",
    "          \n",
    "print('I think that the difference in the computation of the derivative is due to the fact this the value of delta cannot be considered null, hence it keeps increasing the value of the derivative.')\n",
    "    "
   ]
  },
  {
   "cell_type": "markdown",
   "metadata": {},
   "source": [
    "7\\. Consider the integral of the semicircle of radius 1:\n",
    "$$\n",
    "I=\\int_{-1}^{1} \\sqrt(1-x^2) {\\rm d}x\n",
    "$$\n",
    "which it's known to be $I=\\frac{\\pi}{2}=1.57079632679...$.\n",
    "Alternatively we can use the Riemann definition of the integral:\n",
    "$$\n",
    "I=\\lim_{N\\to\\infty} \\sum_{k=1}^{N} h y_k \n",
    "$$\n",
    "\n",
    "with $h=2/N$ the width of each of the $N$ slices the domain is divided into and where\n",
    "$y_k$ is the value of the function at the $k-$th slice.\n",
    "\n",
    "(a) Write a programe to compute the integral with $N=100$. How does the result compares to the true value?\n",
    "\n",
    "(b) How much can $N$ be increased if the computation needs to be run in less than a second? What is the gain in running it for 1 minute? \n"
   ]
  },
  {
   "cell_type": "code",
   "execution_count": 1,
   "metadata": {},
   "outputs": [
    {
     "name": "stdout",
     "output_type": "stream",
     "text": [
      "a)\n",
      "The integral after 100 iterations is: 1.5691342555492493\n"
     ]
    }
   ],
   "source": [
    "#a)\n",
    "\n",
    "from time import time \n",
    "from math import sqrt\n",
    "\n",
    "N = 100\n",
    "def semicircle(N):\n",
    "    I = 0\n",
    "    x = -1\n",
    "    for i in range(1,N+1):\n",
    "        I += (2/N)*sqrt(1-x*x)\n",
    "        x += 2/N\n",
    "    return I\n",
    "A = semicircle(N)\n",
    "\n",
    "print('a)')\n",
    "print('The integral after {0} iterations is: {1}' .format(N, A))"
   ]
  },
  {
   "cell_type": "code",
   "execution_count": 2,
   "metadata": {},
   "outputs": [
    {
     "name": "stdout",
     "output_type": "stream",
     "text": [
      "b)\n",
      "If the loops runs 10000000.0 times, the time taken is: 0.328167200088501 seconds\n",
      "The integral after 10000000.0 iterations is: 1.570796327457729\n"
     ]
    }
   ],
   "source": [
    "#b)\n",
    "\n",
    "t = 0.\n",
    "N = 100\n",
    "A = 0.\n",
    "while t < 1.:\n",
    "    N = int(N*100)\n",
    "    t_temp = t\n",
    "    A_temp = A\n",
    "    t = 0.\n",
    "    start = time()\n",
    "    A = semicircle(N)\n",
    "    t = time() - start\n",
    "N /= 10\n",
    "\n",
    "print('b)')\n",
    "print('If the loops runs {0} times, the time taken is: {1} seconds' .format(N, t_temp))\n",
    "print('The integral after {0} iterations is: {1}' .format(N, A))"
   ]
  },
  {
   "cell_type": "code",
   "execution_count": null,
   "metadata": {},
   "outputs": [],
   "source": [
    "#Running it for 1 minute\n",
    "\n",
    "t = 0.\n",
    "N = 100\n",
    "while t < 60.:\n",
    "    N *= 2\n",
    "    t_temp = t\n",
    "    A_temp = A\n",
    "    t = 0.\n",
    "    start = time()\n",
    "    A = semicircle(N)\n",
    "    t = time() - start\n",
    "N /= 10    \n",
    "print(\"If the loops runs %d times time taken is %f seconds\" %(N,t_temp))\n",
    "print(\"Integral after %d iterations is %f\" %(N, A))"
   ]
  },
  {
   "cell_type": "code",
   "execution_count": null,
   "metadata": {},
   "outputs": [],
   "source": []
  }
 ],
 "metadata": {
  "kernelspec": {
   "display_name": "Python 3",
   "language": "python",
   "name": "python3"
  },
  "language_info": {
   "codemirror_mode": {
    "name": "ipython",
    "version": 3
   },
   "file_extension": ".py",
   "mimetype": "text/x-python",
   "name": "python",
   "nbconvert_exporter": "python",
   "pygments_lexer": "ipython3",
   "version": "3.8.3"
  }
 },
 "nbformat": 4,
 "nbformat_minor": 4
}
