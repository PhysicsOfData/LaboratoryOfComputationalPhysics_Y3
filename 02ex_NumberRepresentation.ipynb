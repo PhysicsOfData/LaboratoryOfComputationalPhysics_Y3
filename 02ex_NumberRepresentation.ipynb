{
 "cells": [
  {
   "cell_type": "markdown",
   "metadata": {},
   "source": [
    "1\\. Write a function that converts number representation (bin<->dec<->hex)"
   ]
  },
  {
   "cell_type": "code",
   "execution_count": 1,
   "metadata": {},
   "outputs": [
    {
     "data": {
      "text/plain": [
       "'0b101011001'"
      ]
     },
     "execution_count": 1,
     "metadata": {},
     "output_type": "execute_result"
    }
   ],
   "source": [
    "def bin2hex(strbin):\n",
    "    return hex(int(strbin,2))\n",
    "\n",
    "def hex2bin(fhex):\n",
    "    return bin(int(fhex,16))\n",
    "\n",
    "a = 345\n",
    "\n",
    "bin2hex(bin(a))\n",
    "hex2bin(hex(a))\n"
   ]
  },
  {
   "cell_type": "markdown",
   "metadata": {},
   "source": [
    "2\\. Write a function that converts a 32 bit word into a single precision floating point (i.e. interprets the various bits as sign, mantissa and exponent)"
   ]
  },
  {
   "cell_type": "code",
   "execution_count": 1,
   "metadata": {},
   "outputs": [
    {
     "ename": "KeyboardInterrupt",
     "evalue": "",
     "output_type": "error",
     "traceback": [
      "\u001b[0;31m---------------------------------------------------------------------------\u001b[0m",
      "\u001b[0;31mKeyboardInterrupt\u001b[0m                         Traceback (most recent call last)",
      "\u001b[0;32m<ipython-input-1-a0f61c8caf35>\u001b[0m in \u001b[0;36m<module>\u001b[0;34m\u001b[0m\n\u001b[1;32m     17\u001b[0m         \u001b[0;32mreturn\u001b[0m \u001b[0;34m(\u001b[0m\u001b[0mmantissa\u001b[0m \u001b[0;34m*\u001b[0m \u001b[0mexponent\u001b[0m\u001b[0;34m)\u001b[0m\u001b[0;34m\u001b[0m\u001b[0;34m\u001b[0m\u001b[0m\n\u001b[1;32m     18\u001b[0m \u001b[0;34m\u001b[0m\u001b[0m\n\u001b[0;32m---> 19\u001b[0;31m \u001b[0mprint\u001b[0m\u001b[0;34m(\u001b[0m\u001b[0mfloatingpoint\u001b[0m\u001b[0;34m(\u001b[0m\u001b[0mb\u001b[0m\u001b[0;34m)\u001b[0m\u001b[0;34m)\u001b[0m\u001b[0;34m\u001b[0m\u001b[0;34m\u001b[0m\u001b[0m\n\u001b[0m",
      "\u001b[0;31mKeyboardInterrupt\u001b[0m: "
     ]
    }
   ],
   "source": [
    "b = 2383116104\n",
    "\n",
    "\n",
    "def floatingpoint(a):\n",
    "    # to obtain the exponent value, we have two extract the bits from the 24th position, to the 24+8th,\n",
    "    # it can be done by logically compare the number a to 2139095040 (1111111100000000000000000000000 in binary)\n",
    "    temp = ( a & 2139095040 ) - 127\n",
    "    exponent = 2**( temp )\n",
    "    \n",
    "    # similar reasoning was done to obtain the mantissa\n",
    "    temp = ( a & 8388607 )\n",
    "    mantissa = 1 + ( temp )\n",
    "\n",
    "    if ( (a & 2147483648) == 2147483648 ):\n",
    "        return (- mantissa * exponent)\n",
    "    else:\n",
    "        return (mantissa * exponent)\n",
    "\n",
    "print(floatingpoint(b))\n",
    "\n",
    "# didn't manage to get a result from this specific cell, the code is stuck on In [*] for some reason"
   ]
  },
  {
   "cell_type": "markdown",
   "metadata": {},
   "source": [
    "3\\. Write a program to determine the underflow and overflow limits (within a factor of 2) for python on your computer. \n",
    "\n",
    "**Tips**: define two variables inizialized to 1 and halve/double them enough time to exceed the under/over-flow limits  "
   ]
  },
  {
   "cell_type": "code",
   "execution_count": null,
   "metadata": {},
   "outputs": [],
   "source": [
    "def findmax():\n",
    "    a = 1\n",
    "    b = 2\n",
    "    \n",
    "    while( b > a ):\n",
    "        a += 1\n",
    "        b = 2 * b\n",
    "    \n",
    "    print(a)\n",
    "    \n",
    "findmax()"
   ]
  },
  {
   "cell_type": "markdown",
   "metadata": {},
   "source": [
    "4\\. Write a program to determine the machine precision\n",
    "\n",
    "**Tips**: define a new variable by adding a smaller and smaller value (proceeding similarly to prob. 2) to an original variable and check the point where the two are the same "
   ]
  },
  {
   "cell_type": "code",
   "execution_count": 3,
   "metadata": {},
   "outputs": [
    {
     "name": "stdout",
     "output_type": "stream",
     "text": [
      "1.0000000000000001e-16 16\n"
     ]
    }
   ],
   "source": [
    "precision = 1\n",
    "i = 0\n",
    "while(( float(1) + precision ) != float(1)):\n",
    "    precision = precision/10\n",
    "    i += 1\n",
    "\n",
    "print(precision,i)"
   ]
  },
  {
   "cell_type": "markdown",
   "metadata": {},
   "source": [
    "5\\. Write a function that takes in input three parameters $a$, $b$ and $c$ and prints out the two solutions to the quadratic equation $ax^2+bx+c=0$ using the standard formula:\n",
    "$$\n",
    "x=\\frac{-b\\pm\\sqrt{b^2-4ac}}{2a}\n",
    "$$\n",
    "\n",
    "(a) use the program to compute the solution for $a=0.001$, $b=1000$ and $c=0.001$\n",
    "\n",
    "(b) re-express the standard solution formula by multiplying top and bottom by $-b\\mp\\sqrt{b^2-4ac}$ and again find the solution for $a=0.001$, $b=1000$ and $c=0.001$. How does it compare with what previously obtained? Why?\n",
    "\n",
    "(c) write a function that compute the roots of a quadratic equation accurately in all cases"
   ]
  },
  {
   "cell_type": "code",
   "execution_count": null,
   "metadata": {},
   "outputs": [],
   "source": [
    "import math\n",
    "\n",
    "def grad2solutions(a,b,c):\n",
    "    squared = (b*b-4*a*c)**.5\n",
    "    return [((-b) + squared)/(2*a),((-b) - squared)/(2*a)]\n",
    "\n",
    "solution = grad2solutions(0.001,1000,0.001)\n",
    "\n",
    "print(solution)"
   ]
  },
  {
   "cell_type": "code",
   "execution_count": null,
   "metadata": {},
   "outputs": [],
   "source": [
    "def grad2solutions(a,b,c):\n",
    "    squared = (b*b-4*a*c)**.5\n",
    "    return [ (((-b) + squared)*(-b - squared))/(2*a*(-b - squared)),(((-b) - squared)*(-b + squared))/(2*a*(-b + squared))]\n",
    "\n",
    "solution = grad2solutions(0.001,1000,0.001)\n",
    "\n",
    "print(solution)\n"
   ]
  },
  {
   "cell_type": "code",
   "execution_count": null,
   "metadata": {},
   "outputs": [],
   "source": [
    "import numpy as np\n",
    "\n",
    "def grad2solutions1(a,b,c):\n",
    "    squared = np.sqrt(b*b-4*a*c)\n",
    "    return [((-b) + squared)/(2*a),((-b) - squared)/(2*a)]\n",
    "\n",
    "solution1 = grad2solutions1(0.001,1000,0.001)\n",
    "\n",
    "def grad2solutions2(a,b,c):\n",
    "    squared = np.sqrt(b*b-4*a*c)\n",
    "    return [ (((-b) + squared)*(-b - squared))/(2*a*(-b - squared)),(((-b) - squared)*(-b + squared))/(2*a*(-b + squared))]\n",
    "\n",
    "solution2 = grad2solutions2(0.001,1000,0.001)\n",
    "\n",
    "print(solution1,solution2)"
   ]
  },
  {
   "cell_type": "markdown",
   "metadata": {},
   "source": [
    "6\\. Write a program that implements the function $f(x)=x(x−1)$\n",
    "\n",
    "(a) Calculate the derivative of the function at the point $x = 1$ using the derivative definition:\n",
    "\n",
    "$$\n",
    "\\frac{{\\rm d}f}{{\\rm d}x} = \\lim_{\\delta\\to0} \\frac{f(x+\\delta)-f(x)}{\\delta}\n",
    "$$\n",
    "\n",
    "with $\\delta = 10^{−2}$. Calculate the true value of the same derivative analytically and compare with the answer your program gives. The two will not agree perfectly. Why not?\n",
    "\n",
    "(b) Repeat the calculation for $\\delta = 10^{−4}, 10^{−6}, 10^{−8}, 10^{−10}, 10^{−12}$ and $10^{−14}$. How does the accuracy scales with $\\delta$?"
   ]
  },
  {
   "cell_type": "code",
   "execution_count": null,
   "metadata": {},
   "outputs": [],
   "source": [
    "def myderivative(delta):\n",
    "    return ((1 + delta)*(1 + delta - 1) - (1-1))/delta\n",
    "\n",
    "deltas = [-2*x for x in range(2,8)]\n",
    "#print(deltas)\n",
    "\n",
    "for i in range(6):\n",
    "    print(myderivative(10**deltas[i]))\n",
    "\n",
    "print(myderivative(10**(-2)))"
   ]
  },
  {
   "cell_type": "markdown",
   "metadata": {},
   "source": [
    "7\\. Consider the integral of the semicircle of radius 1:\n",
    "$$\n",
    "I=\\int_{-1}^{1} \\sqrt(1-x^2) {\\rm d}x\n",
    "$$\n",
    "which it's known to be $I=\\frac{\\pi}{2}=1.57079632679...$.\n",
    "Alternatively we can use the Riemann definition of the integral:\n",
    "$$\n",
    "I=\\lim_{N\\to\\infty} \\sum_{k=1}^{N} h y_k \n",
    "$$\n",
    "\n",
    "with $h=2/N$ the width of each of the $N$ slices the domain is divided into and where\n",
    "$y_k$ is the value of the function at the $k-$th slice.\n",
    "\n",
    "(a) Write a programe to compute the integral with $N=100$. How does the result compares to the true value?\n",
    "\n",
    "(b) How much can $N$ be increased if the computation needs to be run in less than a second? What is the gain in running it for 1 minute? \n"
   ]
  },
  {
   "cell_type": "code",
   "execution_count": null,
   "metadata": {},
   "outputs": [],
   "source": [
    "import math\n",
    "\n",
    "def areasemicircle(n):\n",
    "    b = 2 / n\n",
    "    x = -1\n",
    "    area = 0\n",
    "    \n",
    "    while(x<1):\n",
    "        area += ((1-(x**2))**.5)*b\n",
    "        x += b\n",
    "    \n",
    "    return area\n",
    "\n",
    "N = 4500000\n",
    "%timeit print('For N=',N ,'The error is:', math.pi/2 - areasemicircle(N))"
   ]
  },
  {
   "cell_type": "code",
   "execution_count": null,
   "metadata": {},
   "outputs": [],
   "source": [
    "import math\n",
    "\n",
    "def areasemicircle(n):\n",
    "    b = 2 / n\n",
    "    x = -1\n",
    "    area = 0\n",
    "    \n",
    "    while(x<1):\n",
    "        area += ((1-(x**2))**.5)*b\n",
    "        x += b\n",
    "    \n",
    "    return area\n",
    "\n",
    "N = 240000000\n",
    "%timeit print('For N=',N ,'The error is:', math.pi/2 - areasemicircle(N))\n"
   ]
  },
  {
   "cell_type": "code",
   "execution_count": null,
   "metadata": {},
   "outputs": [],
   "source": [
    "# Apparently there's no gain, theoretically dividing the area can be beneficial because we get a \n",
    "# more accurate result, but dividing the area too much will sum all the small approximation errors resulting\n",
    "# in a much bigger error (10 times!)"
   ]
  }
 ],
 "metadata": {
  "kernelspec": {
   "display_name": "Python 3",
   "language": "python",
   "name": "python3"
  },
  "language_info": {
   "codemirror_mode": {
    "name": "ipython",
    "version": 3
   },
   "file_extension": ".py",
   "mimetype": "text/x-python",
   "name": "python",
   "nbconvert_exporter": "python",
   "pygments_lexer": "ipython3",
   "version": "3.8.3"
  }
 },
 "nbformat": 4,
 "nbformat_minor": 2
}
