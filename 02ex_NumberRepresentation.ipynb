{
 "cells": [
  {
   "cell_type": "markdown",
   "metadata": {},
   "source": [
    "1\\. Write a function that converts number representation (bin<->dec<->hex)"
   ]
  },
  {
   "cell_type": "code",
   "execution_count": null,
   "metadata": {},
   "outputs": [],
   "source": [
    "def convert(num, rep):\n",
    "    if rep not in [\"bin\", \"dec\", \"hex\"]:\n",
    "        print(\"Please specifies the number representation as bin, dec or hex\")\n",
    "        return None\n",
    "    if rep == \"bin\":\n",
    "        num_dec = int(num,2)\n",
    "        num_hex = hex(num_dec)\n",
    "        print(\"Decimal:\",num_dec,\"Hexadecimal:\", num_hex)\n",
    "    elif rep == \"hex\":\n",
    "        num_dec = int(num,16)\n",
    "        num_bin = bin(num_dec)\n",
    "        print(\"Decimal:\",num_dec,\"Binary:\", num_bin)\n",
    "    else:\n",
    "        num_bin = bin(num)\n",
    "        num_hex = hex(num)\n",
    "        print(\"Binary:\",num_bin,\"Hexadecimal:\", num_hex)\n",
    "        \n",
    "        \n",
    "convert(16,\"dec\")\n",
    "convert(\"0b110\",\"bin\")\n",
    "convert(\"0xFF\",\"hex\")\n",
    "    \n",
    "# alternative with detection of representation \n",
    "# def convert_v2(num):\n",
    "#     if isinstance(num, int):\n",
    "#         num_bin = bin(num)\n",
    "#         num_hex = hex(num)\n",
    "#         print(\"Binary:\",num_bin,\"Hexadecimal:\", num_hex)\n",
    "#     elif num[1] == \"b\":\n",
    "#         num_dec = int(num,2)\n",
    "#         num_hex = hex(num_dec)\n",
    "#         print(\"Decimal:\",num_dec,\"Hexadecimal:\", num_hex)\n",
    "#     elif num[1] == \"x\":\n",
    "#         num_dec = int(num,16)\n",
    "#         num_bin = bin(num_dec)\n",
    "#         print(\"Decimal:\",num_dec,\"Binary:\", num_bin)\n",
    "    \n",
    "        \n",
    "# convert_v2(16)\n",
    "# convert_v2(\"0b110\")\n",
    "# convert_v2(\"0xFF\")"
   ]
  },
  {
   "cell_type": "markdown",
   "metadata": {},
   "source": [
    "2\\. Write a function that converts a 32 bit word into a single precision floating point (i.e. interprets the various bits as sign, mantissa and exponent)"
   ]
  },
  {
   "cell_type": "code",
   "execution_count": null,
   "metadata": {},
   "outputs": [],
   "source": [
    "def to_float32_from_bin(word):\n",
    "    if not len(word) == 32:\n",
    "        print(\"insert a 32bit word\")\n",
    "        return None\n",
    "    sign = word[0]\n",
    "    exponent = word[1:9]\n",
    "    mantissa = word[9:]\n",
    "    \n",
    "    exp=0\n",
    "    for i,l in enumerate(exponent[::-1]):\n",
    "        if l =='1':\n",
    "            exp+=2**i\n",
    "    \n",
    "    man=0\n",
    "    for i,l in enumerate(mantissa):\n",
    "        if l =='1':\n",
    "            man+=2**(-(i+1))\n",
    "    \n",
    "    man+=1    \n",
    "    num=man*2**(exp-127) #bias is 127 for 32bit float\n",
    "    \n",
    "    if sign=='1':\n",
    "        return -num\n",
    "    else:\n",
    "        return num\n",
    "\n",
    "print(to_float32_from_bin(\"00000011111000000000000000000000\"))\n",
    "print(to_float32_from_bin(\"11000000101100000000000000000000\"))        "
   ]
  },
  {
   "cell_type": "markdown",
   "metadata": {},
   "source": [
    "3\\. Write a program to determine the underflow and overflow limits (within a factor of 2) for python on your computer. \n",
    "\n",
    "**Tips**: define two variables inizialized to 1 and halve/double them enough time to exceed the under/over-flow limits  "
   ]
  },
  {
   "cell_type": "code",
   "execution_count": null,
   "metadata": {},
   "outputs": [],
   "source": [
    "under, upper =1.0,1.0\n",
    "\n",
    "while True:\n",
    "    new_under = under/2\n",
    "    new_upper = upper*2\n",
    "\n",
    "    if not new_under == 0.0:\n",
    "        under = new_under\n",
    "    if not new_upper == float('inf'):\n",
    "        upper = new_upper\n",
    "    if new_under == 0.0 and new_upper == float('inf'):\n",
    "        break\n",
    "   \n",
    "\n",
    "        \n",
    "    \n",
    "    \n",
    "print(under, upper)"
   ]
  },
  {
   "cell_type": "markdown",
   "metadata": {},
   "source": [
    "the underflow limit is not the same as the min float beacuse the latter is with full precision, while the overflow limit and the max float are the same (the value obtained is within a factor of 2 of the real max float for the system as it is shown in sys.float_info)"
   ]
  },
  {
   "cell_type": "markdown",
   "metadata": {},
   "source": [
    "4\\. Write a program to determine the machine precision\n",
    "\n",
    "**Tips**: define a new variable by adding a smaller and smaller value (proceeding similarly to prob. 2) to an original variable and check the point where the two are the same "
   ]
  },
  {
   "cell_type": "code",
   "execution_count": null,
   "metadata": {},
   "outputs": [],
   "source": [
    "# machine precision (epsilon) defined as the smallest number that can be added to 1 such as 1+eps != 1 \n",
    "a=1.0\n",
    "epsilon=1.0 \n",
    "\n",
    "while True:\n",
    "    b=a+epsilon\n",
    "    if a==b:\n",
    "        print(epsilon*2)\n",
    "        break\n",
    "    else:\n",
    "        epsilon/=2\n",
    "\n",
    "\n"
   ]
  },
  {
   "cell_type": "markdown",
   "metadata": {},
   "source": [
    "5\\. Write a function that takes in input three parameters $a$, $b$ and $c$ and prints out the two solutions to the quadratic equation $ax^2+bx+c=0$ using the standard formula:\n",
    "$$\n",
    "x=\\frac{-b\\pm\\sqrt{b^2-4ac}}{2a}\n",
    "$$\n",
    "\n",
    "(a) use the program to compute the solution for $a=0.001$, $b=1000$ and $c=0.001$\n",
    "\n",
    "(b) re-express the standard solution formula by multiplying top and bottom by $-b\\mp\\sqrt{b^2-4ac}$ and again find the solution for $a=0.001$, $b=1000$ and $c=0.001$. How does it compare with what previously obtained? Why?\n",
    "\n",
    "(c) write a function that compute the roots of a quadratic equation accurately in all cases"
   ]
  },
  {
   "cell_type": "code",
   "execution_count": null,
   "metadata": {},
   "outputs": [],
   "source": [
    "import math\n",
    "\n",
    "def quadratic(a,b,c):\n",
    "    return (-b-math.sqrt(b**2-4*a*c))/(2*a), (-b+math.sqrt(b**2-4*a*c))/(2*a)\n",
    "\n",
    "def quadratic_v2(a,b,c):\n",
    "    return 2*c/(-b+math.sqrt(b**2-4*a*c)), 2*c/(-b-math.sqrt(b**2-4*a*c))\n",
    "\n",
    "def quadratic_v3(a,b,c):\n",
    "    return (-b-math.sqrt(b**2-4*a*c))/(2*a),2*c/(-b-math.sqrt(b**2-4*a*c))\n",
    "\n",
    "print(quadratic(0.001,1000,0.001))\n",
    "print(quadratic_v2(0.001,1000,0.001))\n",
    "print(quadratic_v3(0.001,1000,0.001))\n"
   ]
  },
  {
   "cell_type": "markdown",
   "metadata": {},
   "source": [
    "There is a problem when subtracting two very similar values (-b+sqrt(b^2-4ac)) and dividing(in the orginal version)by a small value (2*a) and in v2 the same small difference is at the denominator. The solution is to avoid subtracting these two very similar values, so combine the good solutions in v1 ad v2."
   ]
  },
  {
   "cell_type": "markdown",
   "metadata": {},
   "source": [
    "6\\. Write a program that implements the function $f(x)=x(x−1)$\n",
    "\n",
    "(a) Calculate the derivative of the function at the point $x = 1$ using the derivative definition:\n",
    "\n",
    "$$\n",
    "\\frac{{\\rm d}f}{{\\rm d}x} = \\lim_{\\delta\\to0} \\frac{f(x+\\delta)-f(x)}{\\delta}\n",
    "$$\n",
    "\n",
    "with $\\delta = 10^{−2}$. Calculate the true value of the same derivative analytically and compare with the answer your program gives. The two will not agree perfectly. Why not?\n",
    "\n",
    "(b) Repeat the calculation for $\\delta = 10^{−4}, 10^{−6}, 10^{−8}, 10^{−10}, 10^{−12}$ and $10^{−14}$. How does the accuracy scales with $\\delta$?"
   ]
  },
  {
   "cell_type": "code",
   "execution_count": null,
   "metadata": {},
   "outputs": [],
   "source": [
    "import math\n",
    "import matplotlib.pyplot as plt\n",
    "\n",
    "def f(x):\n",
    "    return x*(x-1)\n",
    "\n",
    "def deriv(delta, f, x):\n",
    "    return (f(x+delta)-f(x))/delta\n",
    "\n",
    "\n",
    "print(math.fabs(deriv(10**(-2),f,1)-1)) # 1 is the analitical value of the derivative\n",
    "\n",
    "accuracy=[]\n",
    "for delta in [10**(x) for x in [-y for y in range(2,15,2)]]:\n",
    "    accuracy.append(math.fabs(deriv(delta,f,1)-1))\n",
    "    #print(math.fabs(deriv(delta,f,1)-1))\n",
    "    \n",
    "%matplotlib inline \n",
    "plt.plot([10**(x) for x in [-y for y in range(2,15,2)]],accuracy,'o')\n",
    "plt.xscale('log')\n",
    "plt.yscale('log')\n"
   ]
  },
  {
   "cell_type": "markdown",
   "metadata": {},
   "source": [
    "a) as reported the two values are different: that's becuase the definition of derivative is true for delta approaching zero and delta=0.01 is not small enough.\n",
    "\n",
    "b) the accuracy has a minimum for delta = 10^(-8). Going lower, the numerator gets closer to zero but given the error that comes with number representation, when dividing by the very small delta, the deviation from the true value gets amplified."
   ]
  },
  {
   "cell_type": "markdown",
   "metadata": {},
   "source": [
    "7\\. Consider the integral of the semicircle of radius 1:\n",
    "$$\n",
    "I=\\int_{-1}^{1} \\sqrt(1-x^2) {\\rm d}x\n",
    "$$\n",
    "which it's known to be $I=\\frac{\\pi}{2}=1.57079632679...$.\n",
    "Alternatively we can use the Riemann definition of the integral:\n",
    "$$\n",
    "I=\\lim_{N\\to\\infty} \\sum_{k=1}^{N} h y_k \n",
    "$$\n",
    "\n",
    "with $h=2/N$ the width of each of the $N$ slices the domain is divided into and where\n",
    "$y_k$ is the value of the function at the $k-$th slice.\n",
    "\n",
    "(a) Write a programe to compute the integral with $N=100$. How does the result compares to the true value?\n",
    "\n",
    "(b) How much can $N$ be increased if the computation needs to be run in less than a second? What is the gain in running it for 1 minute? \n"
   ]
  },
  {
   "cell_type": "code",
   "execution_count": null,
   "metadata": {},
   "outputs": [],
   "source": [
    "#Warning: it will take time to find the N for the given times, probably there is a better way to do this,\n",
    "# but this was just as an example\n",
    "\n",
    "import math\n",
    "import time\n",
    "\n",
    "def f(x):\n",
    "    return math.sqrt(1-x**2)\n",
    "    \n",
    "    \n",
    "def integral(N,f):\n",
    "    tot=0\n",
    "    h=2/N\n",
    "    for i in range(N):\n",
    "        tot+=f(-1+h*i)\n",
    "    return tot*h\n",
    "\n",
    "\n",
    "print(\"abs diff:\", math.fabs(integral(100,f)-math.pi/2), 100*math.fabs(integral(100,f)-math.pi/2)/(math.pi/2),\"%\")\n",
    "\n",
    "#finding max N to finish in 1 sec\n",
    "def find_max_N_in_t(t,start_N=100):\n",
    "    \n",
    "    #find upper limit \n",
    "    N=start_N\n",
    "    start, end = 0, 0\n",
    "    while end-start<t:\n",
    "        N*=2\n",
    "        start = time.time()\n",
    "        integral(N,f)\n",
    "        end = time.time()\n",
    "        #print(N, \" \", end-start)\n",
    "\n",
    "    start, end = 0,t+1\n",
    "    while end-start>t:\n",
    "        N=int(0.90*N) # reduce N by 10%\n",
    "        start = time.time()\n",
    "        integral(N,f)\n",
    "        end = time.time()\n",
    "        #print(N, \" \", end-start)\n",
    "        \n",
    "    return N\n",
    "\n",
    "N = find_max_N_in_t(1)\n",
    "start = time.time()\n",
    "res1 = math.fabs(integral(N,f)-math.pi/2)\n",
    "end = time.time()\n",
    "\n",
    "print(\"abs diff:\", res1, 100*res1/(math.pi/2), \"%\", \"in (s) \", end-start)\n",
    "\n",
    "N = find_max_N_in_t(60,N*10) # reasonable starting point for N\n",
    "start = time.time()\n",
    "res2 = math.fabs(integral(N,f)-math.pi/2)\n",
    "end = time.time()\n",
    "\n",
    "print(\"abs diff:\", res2, 100*res2/(math.pi/2), \"%\", \"in (s) \", end-start)\n"
   ]
  },
  {
   "cell_type": "markdown",
   "metadata": {},
   "source": [
    "a) the difference is about 0.0017 corresponding to the 0.11%\n",
    "\n",
    "b) going from ~1 sec to ~60sec there is an increment in accurancy by ~551x so it is worth to wait the extra time if you are interested in better precision."
   ]
  },
  {
   "cell_type": "code",
   "execution_count": null,
   "metadata": {},
   "outputs": [],
   "source": []
  }
 ],
 "metadata": {
  "kernelspec": {
   "display_name": "Python 3",
   "language": "python",
   "name": "python3"
  },
  "language_info": {
   "codemirror_mode": {
    "name": "ipython",
    "version": 3
   },
   "file_extension": ".py",
   "mimetype": "text/x-python",
   "name": "python",
   "nbconvert_exporter": "python",
   "pygments_lexer": "ipython3",
   "version": "3.7.3"
  }
 },
 "nbformat": 4,
 "nbformat_minor": 2
}
