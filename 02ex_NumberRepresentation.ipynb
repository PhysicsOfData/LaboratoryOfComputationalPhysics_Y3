{
 "cells": [
  {
   "cell_type": "markdown",
   "metadata": {},
   "source": [
    "1\\. Write a function that converts number representation (bin<->dec<->hex)"
   ]
  },
  {
   "cell_type": "code",
   "execution_count": 2,
   "metadata": {},
   "outputs": [
    {
     "name": "stdout",
     "output_type": "stream",
     "text": [
      "Binary 10 as decimal: 2\n",
      "Decimal 10 as binary: 1010\n",
      "Decimal 10 as hexadecimal: a\n",
      "Hexadecimal 10 as decimal: 16\n"
     ]
    }
   ],
   "source": [
    "def BintoDec(n):\n",
    "    v = [int(x) for x in str(n)]\n",
    "    v = v[::-1]\n",
    "    d = 0\n",
    "    for i in range(0,len(v)):\n",
    "        d += pow(2,i)*v[i]\n",
    "    return(d)\n",
    "\n",
    "def DectoBin(n):\n",
    "    v = []   \n",
    "    while n>0:    \n",
    "        v.append(n%2)    \n",
    "        n = n//2 \n",
    "    v = v[::-1]\n",
    "    b = \"\".join(map(str,v))\n",
    "    return(b)\n",
    "\n",
    "def DectoHex(n):\n",
    "    v = []\n",
    "    while n > 0:    \n",
    "        r = n%16    \n",
    "        if   r == 10: r = 'a'\n",
    "        elif r == 11: r = 'b'\n",
    "        elif r == 12: r = 'c'\n",
    "        elif r == 13: r = 'd'\n",
    "        elif r == 14: r = 'e'\n",
    "        elif r == 15: r = 'f'\n",
    "        v.append(r)\n",
    "        n = n//16\n",
    "    v = v[::-1]\n",
    "    h = \"\".join(map(str,v))\n",
    "    return(h)\n",
    "\n",
    "def HextoDec(n):\n",
    "    v =[int(x) for x in str(n)]\n",
    "    v = v[::-1]\n",
    "    d = 0\n",
    "    for i in range(0,len(v)):\n",
    "        if   v[i] == 'a': v[i] = 10\n",
    "        elif v[i] == 'b': v[i] == 11 \n",
    "        elif v[i] == 'c': v[i] == 12\n",
    "        elif v[i] == 'd': v[i] == 13\n",
    "        elif v[i] == 'e': v[i] == 14\n",
    "        elif v[i] == 'f': v[i] == 15\n",
    "        d += pow(16,i)*v[i]\n",
    "    return(d)\n",
    "\n",
    "n = 10\n",
    "\n",
    "print(\"Binary 10 as decimal:\", BintoDec(n))\n",
    "print(\"Decimal 10 as binary:\", DectoBin(n))\n",
    "print(\"Decimal 10 as hexadecimal:\", DectoHex(n))\n",
    "print(\"Hexadecimal 10 as decimal:\", HextoDec(n))"
   ]
  },
  {
   "cell_type": "markdown",
   "metadata": {},
   "source": [
    "2\\. Write a function that converts a 32 bit word into a single precision floating point (i.e. interprets the various bits as sign, mantissa and exponent)"
   ]
  },
  {
   "cell_type": "code",
   "execution_count": 3,
   "metadata": {},
   "outputs": [
    {
     "name": "stdout",
     "output_type": "stream",
     "text": [
      "01110111011011110111001001100100\n",
      "4.8565588543003575e+33\n"
     ]
    }
   ],
   "source": [
    "w = \"word\" #need a 4 character string to have a 32 bit word\n",
    "\n",
    "bw = '0'+'0'.join(format(ord(i), 'b') for i in w) #convert to 32 bit binary\n",
    "\n",
    "def conv_float(a):\n",
    "    fl = 0\n",
    "    exp = 0\n",
    "    \n",
    "    #mantissa\n",
    "    for i in range(9,32):\n",
    "        fl += int(a[i])*pow(2,8-i)\n",
    "    fl += 1  \n",
    "    \n",
    "    #exponent\n",
    "    for i in range(1,9):\n",
    "        exp += int(a[i])*pow(2,8-i)\n",
    "    exp = exp-127\n",
    "    \n",
    "    fl = fl*(2**exp)\n",
    "    \n",
    "    #sign\n",
    "    if int(a[0]) == 1:\n",
    "        fl*=(-1)    \n",
    "    \n",
    "    return(fl)\n",
    "\n",
    "print(bw)\n",
    "print(conv_float(bw))"
   ]
  },
  {
   "cell_type": "markdown",
   "metadata": {},
   "source": [
    "3\\. Write a program to determine the underflow and overflow limits (within a factor of 2) for python on your computer. \n",
    "\n",
    "**Tips**: define two variables inizialized to 1 and halve/double them enough time to exceed the under/over-flow limits  "
   ]
  },
  {
   "cell_type": "code",
   "execution_count": 4,
   "metadata": {},
   "outputs": [
    {
     "name": "stdout",
     "output_type": "stream",
     "text": [
      "The underflow limit is 5e-324\n",
      "The overflow limit is 8.98846567431158e+307\n"
     ]
    }
   ],
   "source": [
    "stu = 1\n",
    "while True:\n",
    "    underf = stu \n",
    "    stu /= 2\n",
    "    if stu == 0:\n",
    "        print(\"The underflow limit is {}\".format(underf))\n",
    "        break\n",
    "\n",
    "sto = 1.0 #must be a float, no upper limit for integers\n",
    "while True:\n",
    "    overf = sto\n",
    "    sto *= 2\n",
    "    if sto == float('inf'):\n",
    "        print(\"The overflow limit is {}\".format(overf))\n",
    "        break"
   ]
  },
  {
   "cell_type": "markdown",
   "metadata": {},
   "source": [
    "4\\. Write a program to determine the machine precision\n",
    "\n",
    "**Tips**: define a new variable by adding a smaller and smaller value (proceeding similarly to prob. 2) to an original variable and check the point where the two are the same "
   ]
  },
  {
   "cell_type": "code",
   "execution_count": 5,
   "metadata": {},
   "outputs": [
    {
     "name": "stdout",
     "output_type": "stream",
     "text": [
      "The machine precision is 1.1102230246251565e-16\n"
     ]
    }
   ],
   "source": [
    "start = 1\n",
    "add = 1 \n",
    "\n",
    "while True:\n",
    "    add /= 2 \n",
    "    if start + add == start:\n",
    "        print(\"The machine precision is {}\".format(add))\n",
    "        break"
   ]
  },
  {
   "cell_type": "markdown",
   "metadata": {},
   "source": [
    "5\\. Write a function that takes in input three parameters $a$, $b$ and $c$ and prints out the two solutions to the quadratic equation $ax^2+bx+c=0$ using the standard formula:\n",
    "$$\n",
    "x=\\frac{-b\\pm\\sqrt{b^2-4ac}}{2a}\n",
    "$$\n",
    "\n",
    "(a) use the program to compute the solution for $a=0.001$, $b=1000$ and $c=0.001$\n",
    "\n",
    "(b) re-express the standard solution formula by multiplying top and bottom by $-b\\mp\\sqrt{b^2-4ac}$ and again find the solution for $a=0.001$, $b=1000$ and $c=0.001$. How does it compare with what previously obtained? Why?\n",
    "\n",
    "(c) write a function that compute the roots of a quadratic equation accurately in all cases"
   ]
  },
  {
   "cell_type": "code",
   "execution_count": 6,
   "metadata": {},
   "outputs": [
    {
     "name": "stdout",
     "output_type": "stream",
     "text": [
      "(a) The two solutions are x1 = -9.999894245993346e-07 and x2 = -999999.999999\n",
      "(b) The two solutions are x1 = -1.000000000001e-06 and x2 = -1000010.5755125057\n"
     ]
    }
   ],
   "source": [
    "#(a)\n",
    "from math import sqrt\n",
    "\n",
    "def quadr(a,b,c):\n",
    "    delta = b**2 - 4*a*c\n",
    "    if delta >= 0:\n",
    "        x1 = ( -b+sqrt(delta) )/(2*a)\n",
    "        x2 = ( -b-sqrt(delta) )/(2*a)\n",
    "        return(x1, x2)\n",
    "    else: return(print(\"No real solutions\"))\n",
    "\n",
    "x1, x2 = quadr(0.001, 1000, 0.001)\n",
    "print(\"(a) The two solutions are x1 =\", x1,\"and x2 =\", x2)\n",
    "\n",
    "#(b)\n",
    "def quadr(a,b,c):\n",
    "    delta = b**2 - 4*a*c\n",
    "    if delta >= 0:\n",
    "        x1 = (2*c)/( -b - sqrt(delta) )\n",
    "        x2 = (2*c)/( -b + sqrt(delta) )\n",
    "        return(x1, x2)\n",
    "    else: return(print(\"No real solutions\"))\n",
    "\n",
    "x1, x2 = quadr(0.001, 1000, 0.001)\n",
    "print(\"(b) The two solutions are x1 =\", x1,\"and x2 =\", x2)"
   ]
  },
  {
   "cell_type": "markdown",
   "metadata": {},
   "source": [
    "The problem in in the difference $\\Delta = b^2 - 4ac$. Since in this example $b^2 = 10^6$ and $ac = 10^{-6}$, there are 12 orders of magnitude of difference between the two values. This leads to cancellation: the $\\sqrt(\\Delta)$ is basically equal to $b$ and depending on the $\\pm$ sign at numerator you either get a solution that is basically 0 (with the +) or that is very big (with the -). The re-normalization performed in point (b) shifts the problem at the denominator.\n",
    "\n",
    "To solve this problem we can divide the numerator into its two addends, divide by a and only then sum the two, as shown in code (c)."
   ]
  },
  {
   "cell_type": "code",
   "execution_count": 7,
   "metadata": {},
   "outputs": [
    {
     "name": "stdout",
     "output_type": "stream",
     "text": [
      "(c) The two solutions are x1 = -484188.6116991897 and x2 = -515811.3883008103\n"
     ]
    }
   ],
   "source": [
    "#(c)\n",
    "from math import sqrt\n",
    "\n",
    "def quadr(a, b, c):\n",
    "    delta = b**2 - 4*a*c\n",
    "    if delta >= 0:\n",
    "        l = -b/a\n",
    "        r = sqrt(delta/a)\n",
    "        x1 = (l + r)/2\n",
    "        x2 = (l - r)/2\n",
    "        return(x1, x2)\n",
    "    else: return(print(\"No real solutions\"))\n",
    "        \n",
    "x1, x2 = quadr(0.001, 1000, 0.001)\n",
    "print(\"(c) The two solutions are x1 =\", x1,\"and x2 =\", x2)"
   ]
  },
  {
   "cell_type": "markdown",
   "metadata": {},
   "source": [
    "6\\. Write a program that implements the function $f(x)=x(x−1)$\n",
    "\n",
    "(a) Calculate the derivative of the function at the point $x = 1$ using the derivative definition:\n",
    "\n",
    "$$\n",
    "\\frac{{\\rm d}f}{{\\rm d}x} = \\lim_{\\delta\\to0} \\frac{f(x+\\delta)-f(x)}{\\delta}\n",
    "$$\n",
    "\n",
    "with $\\delta = 10^{−2}$. Calculate the true value of the same derivative analytically and compare with the answer your program gives. The two will not agree perfectly. Why not?\n",
    "\n",
    "(b) Repeat the calculation for $\\delta = 10^{−4}, 10^{−6}, 10^{−8}, 10^{−10}, 10^{−12}$ and $10^{−14}$. How does the accuracy scales with $\\delta$?"
   ]
  },
  {
   "cell_type": "code",
   "execution_count": 8,
   "metadata": {},
   "outputs": [
    {
     "name": "stdout",
     "output_type": "stream",
     "text": [
      "The discrete derivative with x = 1 and delta = 0.01 is f'(1) = 1.010000000000001\n",
      "The analytic value of the derivative with x = 1 is f'(1) = 1\n",
      "The discrete derivative with x = 1 and delta = 10^(-2) is 1.010000000000001\n",
      "The discrete derivative with x = 1 and delta = 10^(-4) is 1.0000999999998899\n",
      "The discrete derivative with x = 1 and delta = 10^(-6) is 1.0000009999177333\n",
      "The discrete derivative with x = 1 and delta = 10^(-8) is 1.0000000039225287\n",
      "The discrete derivative with x = 1 and delta = 10^(-10) is 1.000000082840371\n",
      "The discrete derivative with x = 1 and delta = 10^(-12) is 1.0000889005833413\n",
      "The discrete derivative with x = 1 and delta = 10^(-14) is 0.9992007221626509\n"
     ]
    }
   ],
   "source": [
    "def func(x):\n",
    "    f = x*(x-1)\n",
    "    return(f)\n",
    "\n",
    "#(a)\n",
    "def deriv(func,x,d):\n",
    "    Df = (func(x+d)-func(x))/d\n",
    "    return(Df)\n",
    "\n",
    "print(\"The discrete derivative with x = 1 and delta = 0.01 is f'(1) =\", deriv(func, 1, 0.01))\n",
    "print(\"The analytic value of the derivative with x = 1 is f'(1) = 1\")\n",
    "\n",
    "#(b)\n",
    "import math\n",
    "denom = []\n",
    "numvals = []\n",
    "\n",
    "for i in range(2,15,2):\n",
    "    exp = 10**(-i)\n",
    "    denom.append(exp)\n",
    "    der = deriv(func, 1, exp)\n",
    "    numvals.append(abs(der-1))\n",
    "    print(\"The discrete derivative with x = 1 and delta = 10^(-{})\".format(i), \"is {}\".format(der))\n",
    " "
   ]
  },
  {
   "cell_type": "markdown",
   "metadata": {},
   "source": [
    "The analytic result would be $f'(x) = 2x-1 \\Longrightarrow f'(1)=1$. The difference in the numerical result is due to the use of an approximated formula which is true only in the limit $\\delta \\rightarrow 0$. If $\\delta$ is too big the result won't be accurate. \n",
    "\n",
    "However, by increasingly reducing the value of $\\delta$ we can see that the result improves only to an extent, then $\\delta$ becomes so small that we start having problems due to the limitations in the machine's precision. We can visualize this in the following graph where we represent the evolution of the relative error as $\\delta$ decreases:"
   ]
  },
  {
   "cell_type": "code",
   "execution_count": 9,
   "metadata": {},
   "outputs": [
    {
     "data": {
      "image/png": "[encoded data removed]",
      "text/plain": [
       "<Figure size 432x288 with 1 Axes>"
      ]
     },
     "metadata": {
      "needs_background": "light"
     },
     "output_type": "display_data"
    }
   ],
   "source": [
    "import matplotlib.pyplot as plt\n",
    "\n",
    "plt.plot(denom, numvals, 'xb')\n",
    "plt.xlabel('Delta')\n",
    "plt.ylabel('Relative error')\n",
    "plt.yscale(\"log\")\n",
    "plt.xscale(\"log\")\n",
    "plt.show()"
   ]
  },
  {
   "cell_type": "markdown",
   "metadata": {},
   "source": [
    "7\\. Consider the integral of the semicircle of radius 1:\n",
    "$$\n",
    "I=\\int_{-1}^{1} \\sqrt(1-x^2) {\\rm d}x\n",
    "$$\n",
    "which it's known to be $I=\\frac{\\pi}{2}=1.57079632679...$.\n",
    "Alternatively we can use the Riemann definition of the integral:\n",
    "$$\n",
    "I=\\lim_{N\\to\\infty} \\sum_{k=1}^{N} h y_k \n",
    "$$\n",
    "\n",
    "with $h=2/N$ the width of each of the $N$ slices the domain is divided into and where\n",
    "$y_k$ is the value of the function at the $k-$th slice.\n",
    "\n",
    "(a) Write a programe to compute the integral with $N=100$. How does the result compares to the true value?\n",
    "\n",
    "(b) How much can $N$ be increased if the computation needs to be run in less than a second? What is the gain in running it for 1 minute? \n"
   ]
  },
  {
   "cell_type": "code",
   "execution_count": 2,
   "metadata": {},
   "outputs": [
    {
     "name": "stdout",
     "output_type": "stream",
     "text": [
      "The analytic value of the integral is I = pi/2 which is approximately 1.5707963267948966\n",
      "The Riemann sum (with N = 100) is 1.5691342555492493\n",
      "The relative error is 0.0010581074180626305\n"
     ]
    }
   ],
   "source": [
    "#(a)\n",
    "import math \n",
    "\n",
    "def g(x):\n",
    "    return math.sqrt(1-x**2)\n",
    "\n",
    "def riemannint(N):\n",
    "    h = 2/N\n",
    "    I = 0\n",
    "    x = -1\n",
    "    while x<1:\n",
    "        I += h*g(x)\n",
    "        x += h\n",
    "    return(I)\n",
    "\n",
    "trueres = math.pi/2\n",
    "\n",
    "print(\"The analytic value of the integral is I = pi/2 which is approximately\", trueres)\n",
    "print(\"The Riemann sum (with N = 100) is\", riemannint(100))\n",
    "print(\"The relative error is\", abs(trueres-riemannint(100))/trueres)"
   ]
  },
  {
   "cell_type": "code",
   "execution_count": 5,
   "metadata": {},
   "outputs": [
    {
     "name": "stdout",
     "output_type": "stream",
     "text": [
      "The max N to run the computation in t < 1s is N = 1500000 +/- 10000\n",
      "With this N the Riemann sum is 1.570796325908686\n",
      "with a relative error of 5.641792289007527e-10\n",
      "On the other hand with t = 1 min the Riemann sum is 1.5707963291560654\n",
      "with a relative error of 1.5031667541779913e-09\n"
     ]
    }
   ],
   "source": [
    "#(b)\n",
    "import time\n",
    "t = 0\n",
    "N1 = 5000 \n",
    "\n",
    "while(t < 1.0):\n",
    "    start = time.process_time()\n",
    "    riemannint(N1)\n",
    "    end = time.process_time()\n",
    "    t = end-start\n",
    "    N1 += 10000 #Step between iterations must be increased more than 1 to reduce run time (lose accuracy in determination of Nmax)\n",
    "\n",
    "result1 = riemannint(N1-5000)\n",
    "print(\"The max N to run the computation in t < 1s is N =\", N1-5000, \"+/- 10000\" )\n",
    "print(\"With this N the Riemann sum is\", result1)\n",
    "print(\"with a relative error of\", abs(trueres-result1)/trueres)\n",
    "\n",
    "t = 0\n",
    "N60 = 150000\n",
    "\n",
    "while(t < 60.0):\n",
    "    start = time.process_time()\n",
    "    riemannint(N60)\n",
    "    end = time.process_time()\n",
    "    t = end-start\n",
    "    N60 += N60\n",
    "\n",
    "result2 = riemannint(N60)\n",
    "print(\"On the other hand with t = 1 min the Riemann sum is\", result2)\n",
    "print(\"with a relative error of\", abs(trueres-result2)/trueres)"
   ]
  },
  {
   "cell_type": "code",
   "execution_count": null,
   "metadata": {},
   "outputs": [],
   "source": []
  }
 ],
 "metadata": {
  "kernelspec": {
   "display_name": "Python 3",
   "language": "python",
   "name": "python3"
  },
  "language_info": {
   "codemirror_mode": {
    "name": "ipython",
    "version": 3
   },
   "file_extension": ".py",
   "mimetype": "text/x-python",
   "name": "python",
   "nbconvert_exporter": "python",
   "pygments_lexer": "ipython3",
   "version": "3.8.3"
  }
 },
 "nbformat": 4,
 "nbformat_minor": 2
}
