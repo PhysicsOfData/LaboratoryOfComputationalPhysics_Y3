{
 "cells": [
  {
   "cell_type": "markdown",
   "metadata": {},
   "source": [
    "1\\. Write a function that converts number representation (bin<->dec<->hex)"
   ]
  },
  {
   "cell_type": "code",
   "execution_count": 103,
   "metadata": {},
   "outputs": [
    {
     "name": "stdout",
     "output_type": "stream",
     "text": [
      "(18, '0b10010', '0x12')\n",
      "(38, '0b100110', '0x26')\n",
      "(190, '0b10111110', '0xbe')\n"
     ]
    }
   ],
   "source": [
    "#numbers to be converted\n",
    "x=18\n",
    "y=0b00100110\n",
    "z=0xbe\n",
    "\n",
    "#convert function\n",
    "def convert(a):\n",
    "        a_bin=bin(a) \n",
    "        a_hex=hex(a) \n",
    "        a_dec=int(str(a),10) \n",
    "        return(a_dec,a_bin,a_hex)\n",
    "    \n",
    "print(convert(x))\n",
    "print(convert(y))\n",
    "print(convert(z))"
   ]
  },
  {
   "cell_type": "markdown",
   "metadata": {},
   "source": [
    "2\\. Write a function that converts a 32 bit word into a single precision floating point (i.e. interprets the various bits as sign, mantissa and exponent)"
   ]
  },
  {
   "cell_type": "code",
   "execution_count": 104,
   "metadata": {},
   "outputs": [
    {
     "data": {
      "text/plain": [
       "-2.944479758484797e-27"
      ]
     },
     "execution_count": 104,
     "metadata": {},
     "output_type": "execute_result"
    }
   ],
   "source": [
    "#32 bit word\n",
    "word='10010011011010010100100100100101'\n",
    "\n",
    "#convert the word into a float\n",
    "def conv(x):\n",
    "    \n",
    "    sign=(-1)**(int(x[0]))#x[0]=sign,one bit\n",
    "    \n",
    "    exp=list(x[1:9])#x[1:9]=exponent, 8 bits\n",
    "    exp.reverse()\n",
    "    exponent=0\n",
    "    for i in range(len(exp)):exponent+=int(exp[i])*2**i\n",
    "\n",
    "    f=x[9:32] #x[10:32] mantissa,22 bits\n",
    "    mant=1\n",
    "    for i in range(len(f)):mant+=int(f[i])*2**(-i-1)\n",
    "    \n",
    "    #convert the number\n",
    "    bias=127\n",
    "    result=sign*mant*2**(exponent-bias)\n",
    "    \n",
    "    return result\n",
    "\n",
    "conv(word)"
   ]
  },
  {
   "cell_type": "markdown",
   "metadata": {},
   "source": [
    "3\\. Write a program to determine the underflow and overflow limits (within a factor of 2) for python on your computer. \n",
    "\n",
    "**Tips**: define two variables inizialized to 1 and halve/double them enough time to exceed the under/over-flow limits  "
   ]
  },
  {
   "cell_type": "code",
   "execution_count": 105,
   "metadata": {},
   "outputs": [
    {
     "name": "stdout",
     "output_type": "stream",
     "text": [
      "Limits within a factor two: \n",
      " Max: 8.98846567431158e+307 \n",
      " Min: 5e-324\n",
      "Max_float: 1.7976931348623157e+308 \n",
      "Min_float: 2.2250738585072014e-308\n",
      "Check: False True\n"
     ]
    }
   ],
   "source": [
    "import sys\n",
    "from math import inf\n",
    "\n",
    "double=1.0\n",
    "half=1.0\n",
    "\n",
    "#double and halve enough times to reach the limits\n",
    "while double*2!=inf:double*=2 \n",
    "while half/2!=0:half/=2\n",
    "    \n",
    "print(\"Limits within a factor two:\",\"\\n Max:\",double,\"\\n Min:\",half)\n",
    "print(\"Max_float:\",sys.float_info.max,\"\\nMin_float:\",sys.float_info.min)\n",
    "print(\"Check:\",0<sys.float_info.min<half,inf>sys.float_info.max>double)"
   ]
  },
  {
   "cell_type": "markdown",
   "metadata": {},
   "source": [
    "COMMENTS:\n",
    "\n",
    "The value of \"half\" is smaller than the value of \"sys.float_info.min\". \n",
    "\"half\" happens to be a denormalized number, meaning that its representation it's different from the one of a normal 32 precision floating point. This change of representation happens automatically, in order to reach a value even nearer to zero."
   ]
  },
  {
   "cell_type": "markdown",
   "metadata": {},
   "source": [
    "4\\. Write a program to determine the machine precision\n",
    "\n",
    "**Tips**: define a new variable by adding a smaller and smaller value (proceeding similarly to prob. 2) to an original variable and check the point where the two are the same "
   ]
  },
  {
   "cell_type": "code",
   "execution_count": 106,
   "metadata": {},
   "outputs": [
    {
     "name": "stdout",
     "output_type": "stream",
     "text": [
      "Determined machine precision: 2.220446049250313e-16\n",
      "System machine precision: 2.220446049250313e-16\n",
      "Check: True\n"
     ]
    }
   ],
   "source": [
    "import sys\n",
    "\n",
    "x=5\n",
    "y=0\n",
    "eps=1\n",
    "\n",
    "#add smaller number every time\n",
    "while x!=y:\n",
    "    y=x+eps\n",
    "    eps/=2\n",
    "    \n",
    "print(\"Determined machine precision:\",eps)\n",
    "print(\"System machine precision:\",sys.float_info.epsilon)\n",
    "print(\"Check:\",eps==sys.float_info.epsilon)"
   ]
  },
  {
   "cell_type": "markdown",
   "metadata": {},
   "source": [
    "5\\. Write a function that takes in input three parameters $a$, $b$ and $c$ and prints out the two solutions to the quadratic equation $ax^2+bx+c=0$ using the standard formula:\n",
    "$$\n",
    "x=\\frac{-b\\pm\\sqrt{b^2-4ac}}{2a}\n",
    "$$\n",
    "\n",
    "(a) use the program to compute the solution for $a=0.001$, $b=1000$ and $c=0.001$\n",
    "\n",
    "(b) re-express the standard solution formula by multiplying top and bottom by $-b\\mp\\sqrt{b^2-4ac}$ and again find the solution for $a=0.001$, $b=1000$ and $c=0.001$. How does it compare with what previously obtained? Why?\n",
    "\n",
    "(c) write a function that compute the roots of a quadratic equation accurately in all cases"
   ]
  },
  {
   "cell_type": "code",
   "execution_count": 107,
   "metadata": {},
   "outputs": [
    {
     "name": "stdout",
     "output_type": "stream",
     "text": [
      "Standard formula solutions: [-9.999894245993346e-07, -999999.999999]\n",
      "New formula solutions: [-1.000000000001e-06, -1000010.5755125057]\n",
      "Always correct solutions: [-9.999894245993346e-07, -999999.999999]\n"
     ]
    }
   ],
   "source": [
    "from math import sqrt\n",
    "\n",
    "a=0.001\n",
    "b=1000\n",
    "c=a\n",
    "\n",
    "#a) Standard formula solutions\n",
    "def solutions(a,b,c):\n",
    "    sol1=(-b+(b**2-4*a*c)**(1/2))/(2*a)\n",
    "    sol2=(-b-(b**2-4*a*c)**(1/2))/(2*a)\n",
    "    return[sol1,sol2]\n",
    "print(\"Standard formula solutions:\",solutions(a,b,c))\n",
    "\n",
    "#b) New formula solutions\n",
    "def new_solutions(a,b,c):\n",
    "    sol1=(2*c)/(-b-(b**2 -4*a*c)**(1/2))\n",
    "    sol2=(2*c)/(-b+(b**2 -4*a*c)**(1/2))\n",
    "    return[sol1,sol2]\n",
    "print(\"New formula solutions:\",new_solutions(a,b,c))\n",
    "\n",
    "#c) Always correct solutions\n",
    "def quadratic(a,b,c):\n",
    "    x=b**2\n",
    "    y=4*a*c\n",
    "    det=sqrt(x-y)\n",
    "    den=2*a\n",
    "    sol1=-b+det\n",
    "    sol2=-b-det\n",
    "    return[sol1/den,sol2/den]\n",
    "print(\"Always correct solutions:\",quadratic(a,b,c))"
   ]
  },
  {
   "cell_type": "markdown",
   "metadata": {},
   "source": [
    "6\\. Write a program that implements the function $f(x)=x(x−1)$\n",
    "\n",
    "(a) Calculate the derivative of the function at the point $x = 1$ using the derivative definition:\n",
    "\n",
    "$$\n",
    "\\frac{{\\rm d}f}{{\\rm d}x} = \\lim_{\\delta\\to0} \\frac{f(x+\\delta)-f(x)}{\\delta}\n",
    "$$\n",
    "\n",
    "with $\\delta = 10^{−2}$. Calculate the true value of the same derivative analytically and compare with the answer your program gives. The two will not agree perfectly. Why not?\n",
    "\n",
    "(b) Repeat the calculation for $\\delta = 10^{−4}, 10^{−6}, 10^{−8}, 10^{−10}, 10^{−12}$ and $10^{−14}$. How does the accuracy scales with $\\delta$?"
   ]
  },
  {
   "cell_type": "code",
   "execution_count": 68,
   "metadata": {},
   "outputs": [
    {
     "name": "stdout",
     "output_type": "stream",
     "text": [
      "Derivative for delta=0.01: 1.010000000000001\n",
      "Derivatives for all deltas: [1.010000000000001, 1.0000999999998899, 1.0000009999177333, 1.0000000039225287, 1.000000082840371, 1.0000889005833413, 0.9992007221626509]\n",
      "Accuracy for all the values: [0.010000000000000897, 9.999999988985486e-05, 9.99917733279787e-07, 3.922528746258536e-09, 8.284037100736441e-08, 8.890058334132256e-05, -0.0007992778373491216]\n"
     ]
    }
   ],
   "source": [
    "#list of deltas\n",
    "delta=[10**(-n) for n in range(1,15) if n%2==0]\n",
    "\n",
    "#define the function\n",
    "def f(x):return x*(x-1)\n",
    "\n",
    "#define function that calculates the derivative\n",
    "def derivative_f(delta):\n",
    "    num=f(1+delta)-f(1)\n",
    "    return num/delta\n",
    "\n",
    "#a)\n",
    "print(\"Derivative for delta=0.01:\",derivative_f(delta[0]))\n",
    "\n",
    "#b)\n",
    "derivatives=[derivative_f(val) for val in delta]\n",
    "print(\"Derivatives for all deltas:\",derivatives)\n",
    "\n",
    "accuracy=[val-1 for val in derivatives]\n",
    "print(\"Accuracy for all the values:\",accuracy)"
   ]
  },
  {
   "cell_type": "markdown",
   "metadata": {},
   "source": [
    "COMMENTS:\n",
    "\n",
    "a)\n",
    "Analytically the derivative of the function in x=1 is equal to one. In the first place it can't be equal to python's result beacause, of course, of the finite non-zero value of delta. Secondarily, the result doesn't come out perfectly 1.01 because python can't store exactely 0.01 as a value of delta; the error is eventually propagated during the calculations concerning delta.\n",
    "\n",
    "b)The best accuracy is found at $\\delta=10^{-8}$, due to the uncapability of python to perform the division $\\frac{f(1+\\delta)}{\\delta}$, with $\\delta$ every time ideally nearer to $0$."
   ]
  },
  {
   "cell_type": "markdown",
   "metadata": {},
   "source": [
    "7\\. Consider the integral of the semicircle of radius 1:\n",
    "$$\n",
    "I=\\int_{-1}^{1} \\sqrt(1-x^2) {\\rm d}x\n",
    "$$\n",
    "which it's known to be $I=\\frac{\\pi}{2}=1.57079632679...$.\n",
    "Alternatively we can use the Riemann definition of the integral:\n",
    "$$\n",
    "I=\\lim_{N\\to\\infty} \\sum_{k=1}^{N} h y_k \n",
    "$$\n",
    "\n",
    "with $h=2/N$ the width of each of the $N$ slices the domain is divided into and where\n",
    "$y_k$ is the value of the function at the $k-$th slice.\n",
    "\n",
    "(a) Write a programe to compute the integral with $N=100$. How does the result compares to the true value?\n",
    "\n",
    "(b) How much can $N$ be increased if the computation needs to be run in less than a second? What is the gain in running it for 1 minute? \n"
   ]
  },
  {
   "cell_type": "code",
   "execution_count": 102,
   "metadata": {},
   "outputs": [
    {
     "name": "stdout",
     "output_type": "stream",
     "text": [
      "Calculated integral: 1.5691342555492505 \n",
      "Expected value: 1.5707963267948966\n",
      "Error of the measure with N=100 relative to I: 0.11 %\n",
      "Result of integral:2/1.570796\n",
      "Relative error of measure with N=100: 0.10581074180619238 %.\n",
      "32.8 µs ± 474 ns per loop (mean ± std. dev. of 7 runs, 10000 loops each)\n",
      "Result of integral:2/1.570796\n",
      "Relative error of measure with N=1000: 0.0033478747644449802 %.\n",
      "341 µs ± 6.13 µs per loop (mean ± std. dev. of 7 runs, 1000 loops each)\n",
      "Result of integral:2/1.570796\n",
      "Relative error of measure with N=10000: 0.00010587493599366788 %.\n",
      "3.44 ms ± 60.9 µs per loop (mean ± std. dev. of 7 runs, 100 loops each)\n",
      "Result of integral:2/1.570796\n",
      "Relative error of measure with N=100000: 3.3480772388811256e-06 %.\n",
      "34.7 ms ± 446 µs per loop (mean ± std. dev. of 7 runs, 10 loops each)\n",
      "Result of integral:2/1.570796\n",
      "Relative error of measure with N=1000000: 1.058806370743233e-07 %.\n",
      "372 ms ± 9.91 ms per loop (mean ± std. dev. of 7 runs, 1 loop each)\n",
      "Computation in less than a second, max_N= 1000000\n",
      "Computation in less than a minute, max_N= 100000000\n"
     ]
    }
   ],
   "source": [
    "from math import sqrt,pi\n",
    "\n",
    "I=pi/2\n",
    "f=lambda x: sqrt(1-x**2) #integrand function\n",
    " \n",
    "#function that calculates the integral    \n",
    "def integral(N):\n",
    "    h=2/N\n",
    "    x=[-1+i*h for i in range(N+1)]\n",
    "    integral=0\n",
    "    for i in range(len(x)):integral+=(h*f(x[i]))\n",
    "    return integral\n",
    "\n",
    "#a) N=100\n",
    "N=100\n",
    "print(\"Calculated integral:\",integral(N),\"\\nExpected value:\",I)\n",
    "print(\"Error of the measure with N=100 relative to I: %.2f\" % ((I-integral(N))*100/I),\"%\")\n",
    "\n",
    "\n",
    "#b)\n",
    "import timeit\n",
    "\n",
    "N=[10**n for n in range(2,7)] #list of Ns\n",
    "\n",
    "#print and time the integral for every N\n",
    "for i in range(len(N)):\n",
    "    print(\"Result of integral:%.f/%f\" % (integral(N[i]),I))\n",
    "    print(\"Relative error of measure with N=%d:\"%N[i],(I-integral(N[i]))*100/I,\"%.\")\n",
    "    %timeit integral(N[i])\n",
    "\n",
    "print(\"Computation in less than a second, max_N=\",N[4])\n",
    "print(\"Computation in less than a minute, max_N=\",100*N[4])"
   ]
  },
  {
   "cell_type": "markdown",
   "metadata": {},
   "source": [
    "COMMENTS:\n",
    "\n",
    "b)\n",
    "Calculating the integral with different values of N, I have noticed that increasing N by a factor 10, the run time of the function **integral()** is increased by a factor $10$. Python allows me to run codes only up to $1$ sec of run time, so I have inferred that:\n",
    "\n",
    "-if the code needs to be run in less than $1$ sec, then N can reach the maximum value of about $10^{6}$, leading to an accuracy of measurement of $1.05\\times10^{-07}\\%$\n",
    "\n",
    "-if the code needs to be run in less than $1$ min, then N can reach the maximum value of about $10^{9}$, leading to an accuracy of measurement of $1.05\\times10^{-09}\\%$"
   ]
  }
 ],
 "metadata": {
  "kernelspec": {
   "display_name": "Python 3",
   "language": "python",
   "name": "python3"
  },
  "language_info": {
   "codemirror_mode": {
    "name": "ipython",
    "version": 3
   },
   "file_extension": ".py",
   "mimetype": "text/x-python",
   "name": "python",
   "nbconvert_exporter": "python",
   "pygments_lexer": "ipython3",
   "version": "3.7.6"
  }
 },
 "nbformat": 4,
 "nbformat_minor": 2
}
