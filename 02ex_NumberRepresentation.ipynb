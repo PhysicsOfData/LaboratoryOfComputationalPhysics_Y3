{
 "cells": [
  {
   "cell_type": "markdown",
   "metadata": {},
   "source": [
    "1\\. Write a function that converts number representation (bin<->dec<->hex)"
   ]
  },
  {
   "cell_type": "code",
   "execution_count": 3,
   "metadata": {},
   "outputs": [
    {
     "name": "stdout",
     "output_type": "stream",
     "text": [
      "0b11 <-> 3 <-> 0x3\n"
     ]
    }
   ],
   "source": [
    "def convert(n):\n",
    "    n_bin = bin(n)\n",
    "    n_dec = int(n_bin,2)\n",
    "    n_hex = hex(n)\n",
    "    print(n_bin,\"<->\",n_dec,\"<->\",n_hex)\n",
    "convert(3)\n"
   ]
  },
  {
   "cell_type": "markdown",
   "metadata": {},
   "source": [
    "2\\. Write a function that converts a 32 bit word into a single precision floating point (i.e. interprets the various bits as sign, mantissa and exponent)"
   ]
  },
  {
   "cell_type": "code",
   "execution_count": 61,
   "metadata": {},
   "outputs": [
    {
     "data": {
      "text/plain": [
       "'\\nimport struct\\n\\ndef floatToBinary32(value):\\n    return \\'\\'.join(f\\'{c:0>8b}\\' for c in struct.pack(\\'!f\\', value))\\n\\ndef binaryToFloat(value):\\n    hx = hex(int(value, 2))   \\n    return struct.unpack(\"f\", struct.pack(\"l\", int(hx, 16)))[0]\\n\\n# float to binary\\nfl0 = 19.5\\nbinstr = floatToBinary32(fl0)\\nprint(f\\'Binary equivalent of {fl0}: {binstr}\\')\\n\\n# binary to float\\nfl1 = binaryToFloat(binstr)\\nprint(f\\'Decimal equivalent of      {binstr}: {fl1}\\')\\n\\nprint(f\\'\\nSign     ( 1 bit ) = {binstr[0]}\\nExponent ( 8 bits) = {binstr[1:9]}\\nMantissa (23 bits) = {binstr[9:]}\\')\\n\\nassert fl0 == fl1\\n'"
      ]
     },
     "execution_count": 61,
     "metadata": {},
     "output_type": "execute_result"
    }
   ],
   "source": [
    "\"\"\"\n",
    "import struct\n",
    "\n",
    "def floatToBinary32(value):\n",
    "    return ''.join(f'{c:0>8b}' for c in struct.pack('!f', value))\n",
    "\n",
    "def binaryToFloat(value):\n",
    "    hx = hex(int(value, 2))   \n",
    "    return struct.unpack(\"f\", struct.pack(\"l\", int(hx, 16)))[0]\n",
    "\n",
    "# float to binary\n",
    "fl0 = 19.5\n",
    "binstr = floatToBinary32(fl0)\n",
    "print(f'Binary equivalent of {fl0}: {binstr}')\n",
    "\n",
    "# binary to float\n",
    "fl1 = binaryToFloat(binstr)\n",
    "print(f'Decimal equivalent of      {binstr}: {fl1}')\n",
    "\n",
    "print(f'\\nSign     ( 1 bit ) = {binstr[0]}\\nExponent ( 8 bits) = {binstr[1:9]}\\nMantissa (23 bits) = {binstr[9:]}')\n",
    "\n",
    "assert fl0 == fl1\n",
    "\"\"\""
   ]
  },
  {
   "cell_type": "markdown",
   "metadata": {},
   "source": [
    "3\\. Write a program to determine the underflow and overflow limits (within a factor of 2) for python on your computer. \n",
    "\n",
    "**Tips**: define two variables inizialized to 1 and halve/double them enough time to exceed the under/over-flow limits  "
   ]
  },
  {
   "cell_type": "code",
   "execution_count": null,
   "metadata": {},
   "outputs": [],
   "source": []
  },
  {
   "cell_type": "markdown",
   "metadata": {},
   "source": [
    "4\\. Write a program to determine the machine precision\n",
    "\n",
    "**Tips**: define a new variable by adding a smaller and smaller value (proceeding similarly to prob. 2) to an original variable and check the point where the two are the same "
   ]
  },
  {
   "cell_type": "code",
   "execution_count": 16,
   "metadata": {},
   "outputs": [
    {
     "data": {
      "text/plain": [
       "2.220446049250313e-16"
      ]
     },
     "execution_count": 16,
     "metadata": {},
     "output_type": "execute_result"
    }
   ],
   "source": [
    "import numpy as np\n",
    "def delta(func=float):\n",
    "    delta = func(1)\n",
    "    while func(1)+func(delta) != func(1):\n",
    "            delta_prev = delta\n",
    "            delta = func(delta) / func(2)\n",
    "    return delta_prev\n",
    " \n",
    "delta(float)\n",
    "\n",
    "#delta(np.float64)\n",
    "\n",
    "#delta(np.float32)\n"
   ]
  },
  {
   "cell_type": "markdown",
   "metadata": {},
   "source": [
    "5\\. Write a function that takes in input three parameters $a$, $b$ and $c$ and prints out the two solutions to the quadratic equation $ax^2+bx+c=0$ using the standard formula:\n",
    "$$\n",
    "x=\\frac{-b\\pm\\sqrt{b^2-4ac}}{2a}\n",
    "$$\n",
    "\n",
    "(a) use the program to compute the solution for $a=0.001$, $b=1000$ and $c=0.001$\n",
    "\n",
    "(b) re-express the standard solution formula by multiplying top and bottom by $-b\\mp\\sqrt{b^2-4ac}$ and again find the solution for $a=0.001$, $b=1000$ and $c=0.001$. How does it compare with what previously obtained? Why?\n",
    "\n",
    "(c) write a function that compute the roots of a quadratic equation accurately in all cases"
   ]
  },
  {
   "cell_type": "code",
   "execution_count": 60,
   "metadata": {},
   "outputs": [
    {
     "name": "stdout",
     "output_type": "stream",
     "text": [
      "-9.999894245993346e-07 -999999.999999\n",
      "None\n",
      "-9.999894245993346e-07 -999999.999999\n",
      "None\n",
      "The values rendered are exactly the same as we are multiplying and dividing the equation with the same factor, essentially making it such that we are multiplying by 1.\n",
      "Roots are real and different\n",
      "1.0\n",
      "-9.0\n",
      "None\n"
     ]
    }
   ],
   "source": [
    "#A\n",
    "def eqn1(a,b,c):\n",
    "    x = (-b + np.sqrt(b**2-4*a*c))\n",
    "    y = (-b - np.sqrt(b**2-4*a*c))\n",
    "    ans1 = x/(2*a)\n",
    "    ans2 = y/(2*a)\n",
    "    print(ans1 , ans2)\n",
    "print(eqn1(0.001,1000,0.001))\n",
    "\n",
    "\n",
    "#B\n",
    "def eqn2(a,b,c):\n",
    "    x = (-b + np.sqrt(b**2-4*a*c))\n",
    "    y = (-b - np.sqrt(b**2-4*a*c))\n",
    "    ans1 = (x*x)/(2*a*x)\n",
    "    ans2 = (y*y)/(2*a*y)\n",
    "    print(ans1 , ans2)\n",
    "print(eqn2(0.001,1000,0.001))\n",
    "\n",
    "print(\"The values rendered are exactly the same as we are multiplying and dividing the equation with the same factor, essentially making it such that we are multiplying by 1.\")\n",
    "\n",
    "\n",
    "#C\n",
    "def roots(a, b, c):\n",
    "    if a == 0:\n",
    "        print(\"Invalid\")\n",
    "        return -1\n",
    "    d = b**2 - 4*a*c\n",
    "    sqrt_val = np.sqrt(abs(d))\n",
    "    if d > 0:\n",
    "        print(\"Roots are real and different\")\n",
    "        print((-b + sqrt_val)/(2 * a))\n",
    "        print((-b - sqrt_val)/(2 * a))\n",
    "    elif d == 0:\n",
    "        print(\"Roots are real and same\")\n",
    "        print(-b / (2*a))\n",
    "    else: #d < 0\n",
    "        print(\"Roots are complex\")\n",
    "        print(- b / (2*a), \" + i\", sqrt_val)\n",
    "        print(- b / (2*a), \" - i\", sqrt_val)\n",
    "\n",
    "print(roots(1,8,-9))\n"
   ]
  },
  {
   "cell_type": "markdown",
   "metadata": {},
   "source": [
    "6\\. Write a program that implements the function $f(x)=x(x−1)$\n",
    "\n",
    "(a) Calculate the derivative of the function at the point $x = 1$ using the derivative definition:\n",
    "\n",
    "$$\n",
    "\\frac{{\\rm d}f}{{\\rm d}x} = \\lim_{\\delta\\to0} \\frac{f(x+\\delta)-f(x)}{\\delta}\n",
    "$$\n",
    "\n",
    "with $\\delta = 10^{−2}$. Calculate the true value of the same derivative analytically and compare with the answer your program gives. The two will not agree perfectly. Why not?\n",
    "\n",
    "(b) Repeat the calculation for $\\delta = 10^{−4}, 10^{−6}, 10^{−8}, 10^{−10}, 10^{−12}$ and $10^{−14}$. How does the accuracy scales with $\\delta$?"
   ]
  },
  {
   "cell_type": "code",
   "execution_count": 59,
   "metadata": {},
   "outputs": [
    {
     "name": "stdout",
     "output_type": "stream",
     "text": [
      "0 value of the function at 1\n",
      "1.010000000000001 Value of the derivative at x = 1 and delta = 0.01\n",
      "The two do not agree due to computational limitations\n",
      "1.0000999999998899\n",
      "1.0000009999177333\n",
      "1.0000000039225287\n",
      "1.000000082840371\n",
      "1.0000889005833413\n",
      "0.9992007221626509\n",
      "Smaller the value of delta, more accurate the derivative\n"
     ]
    }
   ],
   "source": [
    "def function(x):\n",
    "    return x*(x-1)\n",
    "print(function(1),\"value of the function at 1\")\n",
    "\n",
    "#A\n",
    "a = [10**(-2), 10**(-4), 10**(-6), 10**(-8), 10**(-10), 10**(-12), 10**(-14)]\n",
    "def der(x,d):\n",
    "    return (function(x+d)-function(x))/d\n",
    "print(der(1,10**(-2)),\"Value of the derivative at x = 1 and delta = 0.01\")\n",
    "print(\"The two do not agree due to computational limitations\")\n",
    "\n",
    "#B\n",
    "print(der(1,10**(-4)))\n",
    "print(der(1,10**(-6)))\n",
    "print(der(1,10**(-8)))\n",
    "print(der(1,10**(-10)))\n",
    "print(der(1,10**(-12)))\n",
    "print(der(1,10**(-14)))\n",
    "print(\"Smaller the value of delta, more accurate the derivative\")"
   ]
  },
  {
   "cell_type": "markdown",
   "metadata": {},
   "source": [
    "7\\. Consider the integral of the semicircle of radius 1:\n",
    "$$\n",
    "I=\\int_{-1}^{1} \\sqrt(1-x^2) {\\rm d}x\n",
    "$$\n",
    "which it's known to be $I=\\frac{\\pi}{2}=1.57079632679...$.\n",
    "Alternatively we can use the Riemann definition of the integral:\n",
    "$$\n",
    "I=\\lim_{N\\to\\infty} \\sum_{k=1}^{N} h y_k \n",
    "$$\n",
    "\n",
    "with $h=2/N$ the width of each of the $N$ slices the domain is divided into and where\n",
    "$y_k$ is the value of the function at the $k-$th slice.\n",
    "\n",
    "(a) Write a programe to compute the integral with $N=100$. How does the result compares to the true value?\n",
    "\n",
    "(b) How much can $N$ be increased if the computation needs to be run in less than a second? What is the gain in running it for 1 minute? \n"
   ]
  },
  {
   "cell_type": "code",
   "execution_count": null,
   "metadata": {},
   "outputs": [],
   "source": []
  }
 ],
 "metadata": {
  "kernelspec": {
   "display_name": "Python 3",
   "language": "python",
   "name": "python3"
  },
  "language_info": {
   "codemirror_mode": {
    "name": "ipython",
    "version": 3
   },
   "file_extension": ".py",
   "mimetype": "text/x-python",
   "name": "python",
   "nbconvert_exporter": "python",
   "pygments_lexer": "ipython3",
   "version": "3.8.3"
  }
 },
 "nbformat": 4,
 "nbformat_minor": 2
}
