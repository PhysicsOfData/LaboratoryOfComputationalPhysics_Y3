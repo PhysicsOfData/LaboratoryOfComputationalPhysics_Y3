{
 "cells": [
  {
   "cell_type": "markdown",
   "metadata": {},
   "source": [
    "1\\. Write a function that converts number representation (bin<->dec<->hex)"
   ]
  },
  {
   "cell_type": "code",
   "execution_count": 1,
   "metadata": {},
   "outputs": [
    {
     "name": "stdout",
     "output_type": "stream",
     "text": [
      "Insert the value you want to convert:1101\n",
      "Insert the base of this number:2\n",
      "In base 10: 13\n",
      "In base 16: 0xd\n"
     ]
    }
   ],
   "source": [
    "value = input(\"Insert the value you want to convert:\")\n",
    "base = input(\"Insert the base of this number:\")\n",
    "\n",
    "def converter(val,n):\n",
    "    \n",
    "    if n==2:\n",
    "        case = int(val,n)\n",
    "        print(\"In base 10:\",case)#base10\n",
    "        print(\"In base 16:\",hex(case))#base16\n",
    "    elif n==16:\n",
    "        case = int(val,n)\n",
    "        print(\"In base 10:\",case)#base10\n",
    "        print(\"In base 2:\",bin(case))#base2    \n",
    "    elif n==10: \n",
    "        print(\"In base 16:\",hex(int(val)))\n",
    "        print(\"In base 2:\",bin(int(val))) \n",
    "    else:\n",
    "        print(\"-----BASE NOT VALID-----\")\n",
    "\n",
    "    return\n",
    "converter(value,int(base))\n"
   ]
  },
  {
   "cell_type": "markdown",
   "metadata": {},
   "source": [
    "2\\. Write a function that converts a 32 bit word into a single precision floating point (i.e. interprets the various bits as sign, mantissa and exponent)"
   ]
  },
  {
   "cell_type": "code",
   "execution_count": 2,
   "metadata": {},
   "outputs": [
    {
     "name": "stdout",
     "output_type": "stream",
     "text": [
      "Given the 32-digit value: 0|10001100|00101100000000000111000\n",
      "The relative float value is : 9600.0546875\n"
     ]
    }
   ],
   "source": [
    "print(\"Given the 32-digit value: 0|10001100|00101100000000000111000\")\n",
    "\n",
    "ieee_32 = '0|10001100|00101100000000000111000'\n",
    "\n",
    "def convertToInt(mantissa_str): \n",
    "    power_count = -1\n",
    "    mantissa_int = 0\n",
    "    for i in mantissa_str: \n",
    "        mantissa_int += (int(i) * pow(2, power_count)) \n",
    "        power_count -= 1   \n",
    "    return (mantissa_int + 1) \n",
    "  \n",
    "sign_bit = int(ieee_32[0]) \n",
    "exponent_bias = int(ieee_32[2 : 10], 2) \n",
    "exponent_unbias = exponent_bias - 127\n",
    "mantissa_str = ieee_32[11 : ] \n",
    "\n",
    "mantissa_int = convertToInt(mantissa_str) \n",
    "real_no = pow(-1, sign_bit) * mantissa_int * pow(2, exponent_unbias) \n",
    "\n",
    "print(\"The relative float value is :\",real_no) "
   ]
  },
  {
   "cell_type": "markdown",
   "metadata": {},
   "source": [
    "3\\. Write a program to determine the underflow and overflow limits (within a factor of 2) for python on your computer. \n",
    "\n",
    "**Tips**: define two variables inizialized to 1 and halve/double them enough time to exceed the under/over-flow limits  "
   ]
  },
  {
   "cell_type": "code",
   "execution_count": 3,
   "metadata": {},
   "outputs": [
    {
     "name": "stdout",
     "output_type": "stream",
     "text": [
      "8.98846567431158e+307\n",
      "5e-324\n",
      "for the value under the underflow limit is 5e-324 at N=1075\n",
      "for the value over the overflow limit is about 9e+307 at N=1024\n"
     ]
    }
   ],
   "source": [
    "under=1\n",
    "over=1.\n",
    "N_over=1024\n",
    "N_under=1075\n",
    "\n",
    "for i in range(1,N_over):\n",
    "    over = over*2\n",
    "\n",
    "for i in range(1,N_under):\n",
    "    under=under/2\n",
    "    \n",
    "print(over) \n",
    "print(under)\n",
    "\n",
    "print(\"for the value under the underflow limit is 5e-324 at N=1075\")\n",
    "print(\"for the value over the overflow limit is about 9e+307 at N=1024\")"
   ]
  },
  {
   "cell_type": "markdown",
   "metadata": {},
   "source": [
    "4\\. Write a program to determine the machine precision\n",
    "\n",
    "**Tips**: define a new variable by adding a smaller and smaller value (proceeding similarly to prob. 2) to an original variable and check the point where the two are the same "
   ]
  },
  {
   "cell_type": "code",
   "execution_count": 4,
   "metadata": {},
   "outputs": [
    {
     "name": "stdout",
     "output_type": "stream",
     "text": [
      "The value N for which they are the same is: 53\n",
      "The minimum value we can add is: 1.0000000000000002\n"
     ]
    }
   ],
   "source": [
    "old=1\n",
    "new_=1\n",
    "\n",
    "for i in range(1,1000):\n",
    "    new_ = new_/2\n",
    "    new = old + new_\n",
    "    if new == 1:\n",
    "        break\n",
    "    value = new#the value before the last that breaks the cycle\n",
    "    \n",
    "print(\"The value N for which they are the same is:\",i)\n",
    "print(\"The minimum value we can add is:\",value)\n"
   ]
  },
  {
   "cell_type": "markdown",
   "metadata": {},
   "source": [
    "5\\. Write a function that takes in input three parameters $a$, $b$ and $c$ and prints out the two solutions to the quadratic equation $ax^2+bx+c=0$ using the standard formula:\n",
    "$$\n",
    "x=\\frac{-b\\pm\\sqrt{b^2-4ac}}{2a}\n",
    "$$\n",
    "\n",
    "(a) use the program to compute the solution for $a=0.001$, $b=1000$ and $c=0.001$\n",
    "\n",
    "(b) re-express the standard solution formula by multiplying top and bottom by $-b\\mp\\sqrt{b^2-4ac}$ and again find the solution for $a=0.001$, $b=1000$ and $c=0.001$. How does it compare with what previously obtained? Why?\n",
    "\n",
    "(c) write a function that compute the roots of a quadratic equation accurately in all cases"
   ]
  },
  {
   "cell_type": "code",
   "execution_count": 5,
   "metadata": {},
   "outputs": [
    {
     "name": "stdout",
     "output_type": "stream",
     "text": [
      "for a) the functions returns: [-9.999894245993346e-07, -999999.999999]\n",
      "for b) the functions returns: [-1.000000000001e-06, -1000010.5755125057]\n",
      "for c) the functions returns: [-1.000000000001e-06, -999999.999999]\n"
     ]
    }
   ],
   "source": [
    "#a)\n",
    "from math import sqrt\n",
    "a = 0.001 \n",
    "b = 1000\n",
    "c = 0.001\n",
    "\n",
    "def function1(a,b,c):\n",
    "\n",
    "    x1 = (-b + sqrt(b**2 -4*a*c))/(2*a)\n",
    "    x2 = (-b - sqrt(b**2 -4*a*c))/(2*a)\n",
    "\n",
    "    return [x1,x2]\n",
    "\n",
    "print(\"for a) the functions returns:\",function1(a,b,c))\n",
    "\n",
    "#b)\n",
    "def function2(a,b,c):\n",
    "    \n",
    "    x1 = (2*c)/(-b - sqrt(b**2 - 4*a*c))\n",
    "    x2 = (-2*c)/(-b + sqrt(b**2 + 4*a*c))\n",
    "    \n",
    "    return [x1,x2]\n",
    "\n",
    "print(\"for b) the functions returns:\",function2(a,b,c))\n",
    "#The result show a better value for x1 but a worst value for x2.\n",
    "#This is due to the very small numbers involved in the calculation of x2\n",
    "\n",
    "#c)\n",
    "def function3(a,b,c):\n",
    "    \n",
    "    x1 = (2*c)/(-b -sqrt(b**2 -4*a*c))\n",
    "    x2 = (-b -sqrt(b**2 -4*a*c))/(2*a)\n",
    "    \n",
    "    return [x1,x2]\n",
    "    \n",
    "print(\"for c) the functions returns:\",function3(a,b,c))\n",
    "#This functions takes the best results of the functions above. x1 from function2, x2 from function1.\n",
    "#From this we have a function that works with any nymber we give it in input.\n"
   ]
  },
  {
   "cell_type": "markdown",
   "metadata": {},
   "source": [
    "6\\. Write a program that implements the function $f(x)=x(x−1)$\n",
    "\n",
    "(a) Calculate the derivative of the function at the point $x = 1$ using the derivative definition:\n",
    "\n",
    "$$\n",
    "\\frac{{\\rm d}f}{{\\rm d}x} = \\lim_{\\delta\\to0} \\frac{f(x+\\delta)-f(x)}{\\delta}\n",
    "$$\n",
    "\n",
    "with $\\delta = 10^{−2}$. Calculate the true value of the same derivative analytically and compare with the answer your program gives. The two will not agree perfectly. Why not?\n",
    "\n",
    "(b) Repeat the calculation for $\\delta = 10^{−4}, 10^{−6}, 10^{−8}, 10^{−10}, 10^{−12}$ and $10^{−14}$. How does the accuracy scales with $\\delta$?"
   ]
  },
  {
   "cell_type": "code",
   "execution_count": 6,
   "metadata": {},
   "outputs": [
    {
     "name": "stdout",
     "output_type": "stream",
     "text": [
      "The accuracy for delta=0.01 is: 0.010000000000000897\n",
      "the result is actually different due to the fact that the mathematical limit has to be interpreted infinitesimal, so the computational calculus can't be perfectly the same.\n",
      "The relative accuracies for delta smaller and smaller are:\n",
      "[9.999999988985486e-05, 9.99917733279787e-07, 3.922528746258536e-09, 8.284037100736441e-08, 8.890058334132256e-05, 0.0007992778373491216]\n",
      "It seems that accuracy scales linearly for the first two delta, then it varies due to the operations with very small numbers involved\n"
     ]
    }
   ],
   "source": [
    "#a)\n",
    "delta = 0.01\n",
    "x = 1\n",
    "\n",
    "def derivative(x,d):\n",
    "    \n",
    "    f = x*(x-1)\n",
    "    f_d = (x+d)*(x+d-1)\n",
    "    m = (f_d-f)/d\n",
    "    \n",
    "    return m\n",
    "\n",
    "derivative(x,delta)\n",
    "\n",
    "err = abs(derivative(x,delta)-1)\n",
    "print(\"The accuracy for delta=\"+ str(delta) +\" is:\",err) \n",
    "print(\"the result is actually different due to the fact that the mathematical limit has to be interpreted infinitesimal, so the computational calculus can't be perfectly the same.\")\n",
    "      #Obviosly the mathematical definition of limit has to be interpreted infinitesimal \n",
    "#b)\n",
    "deltas = [1e-4, 1e-6, 1e-8, 1e-10, 1e-12, 1e-14]\n",
    "accuracy = []\n",
    "\n",
    "def derivative2(x,deltas):\n",
    "    \n",
    "    for i in deltas:\n",
    "        \n",
    "        f = x*(x-1)\n",
    "        f_d = (x+i)*(x+i-1)\n",
    "        accuracy.append(abs(1-((f_d -f)/i)))\n",
    "        \n",
    "    return accuracy\n",
    "\n",
    "print(\"The relative accuracies for delta smaller and smaller are:\")\n",
    "print(derivative2(x,deltas))\n",
    "#defining accuracy just by the absolute value of the (f(x+delta)-f(x))/delta:\n",
    "print(\"It seems that accuracy scales linearly for the first two delta, then it varies due to the operations with very small numbers involved\")"
   ]
  },
  {
   "cell_type": "markdown",
   "metadata": {},
   "source": [
    "7\\. Consider the integral of the semicircle of radius 1:\n",
    "$$\n",
    "I=\\int_{-1}^{1} \\sqrt(1-x^2) {\\rm d}x\n",
    "$$\n",
    "which it's known to be $I=\\frac{\\pi}{2}=1.57079632679...$.\n",
    "Alternatively we can use the Riemann definition of the integral:\n",
    "$$\n",
    "I=\\lim_{N\\to\\infty} \\sum_{k=1}^{N} h y_k \n",
    "$$\n",
    "\n",
    "with $h=2/N$ the width of each of the $N$ slices the domain is divided into and where\n",
    "$y_k$ is the value of the function at the $k-$th slice.\n",
    "\n",
    "(a) Write a programe to compute the integral with $N=100$. How does the result compares to the true value?\n",
    "\n",
    "(b) How much can $N$ be increased if the computation needs to be run in less than a second? What is the gain in running it for 1 minute? \n"
   ]
  },
  {
   "cell_type": "code",
   "execution_count": 7,
   "metadata": {},
   "outputs": [
    {
     "name": "stdout",
     "output_type": "stream",
     "text": [
      "0.0016620712456461018\n",
      "The result for N=100 is None\n",
      "4.703899714186832e-09\n",
      "The result for N=10e6 is None\n",
      "--- 0.9961798191070557 seconds ---\n",
      "N = 10e6 is the maximux value for a simulation less than a second(about 0.95 seconds)\n",
      "for N = 10e8 the simulation runs for about 2 minutes and we have an accuracy of 1e-12\n"
     ]
    }
   ],
   "source": [
    "from math import sqrt, pi\n",
    "import time\n",
    "\n",
    "#a)\n",
    "def integral(N):\n",
    "\n",
    "    h = 2/N\n",
    "    x_k = []\n",
    "    for i in range(N):\n",
    "        x_k.append(-1 + h*i)\n",
    "    \n",
    "    y_k = []\n",
    "    for i in range(N):\n",
    "        y_k.append(sqrt(1-x_k[i]**2))\n",
    "    \n",
    "    sum = 0\n",
    "    for i in range(N):\n",
    "        sum +=h*y_k[i]\n",
    "        \n",
    "    accuracy=abs(sum - (pi/2))\n",
    "    print(accuracy)\n",
    "    \n",
    "    return\n",
    "print(\"The result for N=100 is\",integral(100))\n",
    "        \n",
    "#b)\n",
    "start_time = time.time()\n",
    "print(\"The result for N=10e6 is\",integral(500000))\n",
    "print(\"--- %s seconds ---\" % (time.time() - start_time))\n",
    "\n",
    "print(\"N = 10e6 is the maximux value for a simulation less than a second(about 0.95 seconds)\")\n",
    "print(\"for N = 10e8 the simulation runs for about 2 minutes and we have an accuracy of 1e-12\")"
   ]
  },
  {
   "cell_type": "code",
   "execution_count": null,
   "metadata": {},
   "outputs": [],
   "source": []
  }
 ],
 "metadata": {
  "kernelspec": {
   "display_name": "Python 3",
   "language": "python",
   "name": "python3"
  },
  "language_info": {
   "codemirror_mode": {
    "name": "ipython",
    "version": 3
   },
   "file_extension": ".py",
   "mimetype": "text/x-python",
   "name": "python",
   "nbconvert_exporter": "python",
   "pygments_lexer": "ipython3",
   "version": "3.8.3"
  }
 },
 "nbformat": 4,
 "nbformat_minor": 2
}
