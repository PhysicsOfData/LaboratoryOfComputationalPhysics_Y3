{
 "cells": [
  {
   "cell_type": "markdown",
   "metadata": {},
   "source": [
    "1\\. Write a function that converts number representation (bin<->dec<->hex)"
   ]
  },
  {
   "cell_type": "code",
   "execution_count": 3,
   "metadata": {},
   "outputs": [
    {
     "name": "stdout",
     "output_type": "stream",
     "text": [
      "16 0b10000 0x10 22\n"
     ]
    }
   ],
   "source": [
    "#Without using built-in python functions, we would have to convert the number into\n",
    "#decimals by multiplying each bit by base^bitposition and summing (converting to decimals); and doing basically the\n",
    "#opposite to compute in the new chosen base. But since we were confirmed we can use bin(), int(), hex(),\n",
    "#we can avoid those pesky computations\n",
    "\n",
    "def Converter(n,startbase,endbase):\n",
    "    if startbase==10:\n",
    "        if endbase==2:\n",
    "            n=bin(n)\n",
    "        if endbase==16:\n",
    "            n=hex(n)\n",
    "    if startbase==2 or startbase==16:\n",
    "        n=str(n)\n",
    "        if endbase==10:\n",
    "            n=int(n,startbase)\n",
    "        if endbase==16:\n",
    "            n=hex(int(n,startbase))\n",
    "        if endbase==2:\n",
    "            n=bin(int(n,startbase))\n",
    "    return n\n",
    "\n",
    "print(16,Converter(16,10,2),Converter(16,10,16),Converter(16,16,10))\n",
    "\n",
    "            "
   ]
  },
  {
   "cell_type": "markdown",
   "metadata": {},
   "source": [
    "2\\. Write a function that converts a 32 bit word into a single precision floating point (i.e. interprets the various bits as sign, mantissa and exponent)"
   ]
  },
  {
   "cell_type": "code",
   "execution_count": 89,
   "metadata": {},
   "outputs": [
    {
     "name": "stdout",
     "output_type": "stream",
     "text": [
      "3.0\n"
     ]
    }
   ],
   "source": [
    "def Floater(word):\n",
    "    if len(word)==32:\n",
    "        sign=int(word[0])       #sign bit\n",
    "        exp_bias = int(word[1:9],2)\n",
    "        true_exp=exp_bias-127   #exponent\n",
    "        str_mant=word[9:]\n",
    "        power=-1\n",
    "        truemantissa=1 #the mantissa is 1.M, starting from 1 instead of 0, I am adding that 1 before .M\n",
    "        for i in str_mant:\n",
    "            truemantissa+=(int(i)*(2**power)) \n",
    "            power-=1\n",
    "        n=(-1)**sign* truemantissa *(2**true_exp)\n",
    "        return n\n",
    "    else:\n",
    "        print(\"String has wrong dimension, returning 0.\")\n",
    "        return 0\n",
    "print(Floater(\"01000000010000000000000000000000\"))"
   ]
  },
  {
   "cell_type": "markdown",
   "metadata": {},
   "source": [
    "3\\. Write a program to determine the underflow and overflow limits (within a factor of 2) for python on your computer. \n",
    "\n",
    "**Tips**: define two variables inizialized to 1 and halve/double them enough time to exceed the under/over-flow limits  "
   ]
  },
  {
   "cell_type": "code",
   "execution_count": 5,
   "metadata": {},
   "outputs": [
    {
     "name": "stdout",
     "output_type": "stream",
     "text": [
      "Underflow limit is  5e-324  reached after 1074 iterations\n",
      "Overflow limit is  8.98846567431158e+307  reached after 1023 iterations\n"
     ]
    }
   ],
   "source": [
    "cont1,cont2=0,0\n",
    "a,b=1.0,1.0\n",
    "atemp,btemp=1.0,1.0\n",
    "while a<2.0:\n",
    "    a=a/2\n",
    "    cont1+=1\n",
    "    if (not a>0):#when underflow happens, a get set to 0\n",
    "        break\n",
    "    atemp=a\n",
    "print(\"Underflow limit is \",atemp,\" reached after\",cont1-1, \"iterations\")\n",
    "while b>0.5:\n",
    "    b=b*2\n",
    "    cont2+=1\n",
    "    if (not b<b*2):#when overflow happens, b get set to infinite, so doubling it has no effect\n",
    "        break\n",
    "    btemp=b\n",
    "print(\"Overflow limit is \",btemp,\" reached after\",cont2-1, \"iterations\")"
   ]
  },
  {
   "cell_type": "markdown",
   "metadata": {},
   "source": [
    "4\\. Write a program to determine the machine precision\n",
    "\n",
    "**Tips**: define a new variable by adding a smaller and smaller value (proceeding similarly to prob. 2) to an original variable and check the point where the two are the same "
   ]
  },
  {
   "cell_type": "code",
   "execution_count": 60,
   "metadata": {},
   "outputs": [
    {
     "name": "stdout",
     "output_type": "stream",
     "text": [
      "System precision reached at 1.1102230246251565e-16 ,iteration number  53\n"
     ]
    }
   ],
   "source": [
    "i,f=0,1.0\n",
    "while not(f==f+2**i):\n",
    "    i-=1\n",
    "print(\"System precision reached at\",2**i,\",iteration number \",-i)"
   ]
  },
  {
   "cell_type": "markdown",
   "metadata": {},
   "source": [
    "5\\. Write a function that takes in input three parameters $a$, $b$ and $c$ and prints out the two solutions to the quadratic equation $ax^2+bx+c=0$ using the standard formula:\n",
    "$$\n",
    "x=\\frac{-b\\pm\\sqrt{b^2-4ac}}{2a}\n",
    "$$\n",
    "\n",
    "(a) use the program to compute the solution for $a=0.001$, $b=1000$ and $c=0.001$\n",
    "\n",
    "(b) re-express the standard solution formula by multiplying top and bottom by $-b\\mp\\sqrt{b^2-4ac}$ and again find the solution for $a=0.001$, $b=1000$ and $c=0.001$. How does it compare with what previously obtained? Why?\n",
    "\n",
    "(c) write a function that compute the roots of a quadratic equation accurately in all cases"
   ]
  },
  {
   "cell_type": "code",
   "execution_count": 17,
   "metadata": {},
   "outputs": [
    {
     "name": "stdout",
     "output_type": "stream",
     "text": [
      "[-9.999894245993346e-07, -999999.999999]\n",
      "[-1.000000000001e-06, -1000010.5755125057]\n",
      "[-1.000000000001e-06, -999999.999999]\n"
     ]
    }
   ],
   "source": [
    "import math as m\n",
    "\n",
    "#I am providing just the real solutions, but the same principle with just slight modifications can be used\n",
    "#for complex solutions\n",
    "#a)\n",
    "def radicals(a,b,c):\n",
    "    nt=[(-b+m.sqrt(b**2-4*a*c))/(2*a),(-b-m.sqrt(b**2-4*a*c))/(2*a)]\n",
    "    return nt\n",
    "#b)\n",
    "def Radicals(a,b,c):\n",
    "    nt=[(2*c/(-b-m.sqrt(b**2-4*a*c))),(2*c/(-b+m.sqrt(b**2-4*a*c)))]\n",
    "    return nt\n",
    "\n",
    "#we can notice that the problem is in the subtraction of similar numbers that happens in the b-sqrt(delta) term.\n",
    "#So a) works best for the b+sqrt(delta) solution, while b) is more precise with b-sqrt(delta) (since\n",
    "#the moltiplication cancels this term, leaving its + form at the denominator)\n",
    "#yet, by both looking at the formula or at the resulting numbers, we notice that this problem happens in the \n",
    "#different radicals (the - for (a) and the + for (b)), so to improve we can simply use each where it work best\n",
    "def FinalRadicals(a,b,c):\n",
    "    nt=[(2*c/(-b-m.sqrt(b**2-4*a*c))),(-b-m.sqrt(b**2-4*a*c))/(2*a)]\n",
    "    return nt\n",
    "\n",
    "\n",
    "\n",
    "print(radicals(0.001,1000,0.001))\n",
    "print(Radicals(0.001,1000,0.001))\n",
    "print(FinalRadicals(0.001,1000,0.001))"
   ]
  },
  {
   "cell_type": "markdown",
   "metadata": {},
   "source": [
    "6\\. Write a program that implements the function $f(x)=x(x−1)$\n",
    "\n",
    "(a) Calculate the derivative of the function at the point $x = 1$ using the derivative definition:\n",
    "\n",
    "$$\n",
    "\\frac{{\\rm d}f}{{\\rm d}x} = \\lim_{\\delta\\to0} \\frac{f(x+\\delta)-f(x)}{\\delta}\n",
    "$$\n",
    "\n",
    "with $\\delta = 10^{−2}$. Calculate the true value of the same derivative analytically and compare with the answer your program gives. The two will not agree perfectly. Why not?\n",
    "\n",
    "(b) Repeat the calculation for $\\delta = 10^{−4}, 10^{−6}, 10^{−8}, 10^{−10}, 10^{−12}$ and $10^{−14}$. How does the accuracy scales with $\\delta$?"
   ]
  },
  {
   "cell_type": "code",
   "execution_count": 92,
   "metadata": {},
   "outputs": [
    {
     "name": "stdout",
     "output_type": "stream",
     "text": [
      "Con delta 0.01 si ottiene come derivata 1.010000000000001\n",
      "Con delta 0.0001 si ottiene come derivata 1.0000999999998899\n",
      "Con delta 1e-06 si ottiene come derivata 1.0000009999177333\n",
      "Con delta 1e-08 si ottiene come derivata 1.0000000039225287\n",
      "Con delta 1e-10 si ottiene come derivata 1.000000082840371\n",
      "Con delta 1e-12 si ottiene come derivata 1.0000889005833413\n",
      "Con delta 1e-14 si ottiene come derivata 0.9992007221626509\n"
     ]
    }
   ],
   "source": [
    "def f(x):\n",
    "    return x*(x-1)\n",
    "def derivative(delta,point=1):\n",
    "    d=(f(point+delta)-f(point))/delta\n",
    "    return d\n",
    "\n",
    "#the analytic result won't fully agree with the computations, since the computer cannot truly perform\n",
    "#the limit of delta going to 0, can only approximate\n",
    "#and even so, as we will see, its limited number of digits means that we cannot even improve our approximation\n",
    "#forever\n",
    "DELTAS=[10**(-2),10**(-4),10**(-6),10**(-8),10**(-10),10**(-12),10**(-14)]\n",
    "for i in DELTAS:\n",
    "    print(\"Con delta {} si ottiene come derivata {}\".format(i,derivative(i)))\n",
    "\n",
    "#at first the accuracy improves as delta drops since our approximation is getting more precise\n",
    "#and the memory has still enough digits to do the computations well enough.\n",
    "#but below a certain threshold (10^-8)the accuracy gets worst the smaller becomes delta.\n",
    "#This is due to the fact that f(1)-f(1+delta),being a difference of similar numbers, \n",
    "#is getting more and more difficult to compute (requiring more and more digits in the mantissa)\n",
    "#to be computed as accurately as the smaller deltas, and this bring a loss in precision,\n",
    "#also emphatised by the denominator getting smaller and smaller"
   ]
  },
  {
   "cell_type": "markdown",
   "metadata": {},
   "source": [
    "7\\. Consider the integral of the semicircle of radius 1:\n",
    "$$\n",
    "I=\\int_{-1}^{1} \\sqrt(1-x^2) {\\rm d}x\n",
    "$$\n",
    "which it's known to be $I=\\frac{\\pi}{2}=1.57079632679...$.\n",
    "Alternatively we can use the Riemann definition of the integral:\n",
    "$$\n",
    "I=\\lim_{N\\to\\infty} \\sum_{k=1}^{N} h y_k \n",
    "$$\n",
    "\n",
    "with $h=2/N$ the width of each of the $N$ slices the domain is divided into and where\n",
    "$y_k$ is the value of the function at the $k-$th slice.\n",
    "\n",
    "(a) Write a programe to compute the integral with $N=100$. How does the result compares to the true value?\n",
    "\n",
    "(b) How much can $N$ be increased if the computation needs to be run in less than a second? What is the gain in running it for 1 minute? \n"
   ]
  },
  {
   "cell_type": "code",
   "execution_count": 3,
   "metadata": {},
   "outputs": [
    {
     "name": "stdout",
     "output_type": "stream",
     "text": [
      "1.5691342555492505\n",
      "1.04 s ± 13.9 ms per loop (mean ± std. dev. of 7 runs, 1 loop each)\n",
      "1.5707963266460547\n"
     ]
    }
   ],
   "source": [
    "import math as m\n",
    "N,M=100,5*10**6 #N,M are the index of the end of the series in a) e b) respectively\n",
    "#a)\n",
    "def Integral(N):\n",
    "    I=0\n",
    "    for i in range(0,N):\n",
    "        x=2*i/N-1\n",
    "        I+=2/N*m.sqrt(1-x*x)\n",
    "    return I\n",
    "print(Integral(N))\n",
    "#the error is of the order of 1%, which makes sense since we're truncating the sum at the 100th term\n",
    "#b)\n",
    "%timeit Integral(M)\n",
    "print(Integral(M))\n",
    "#in a second we can compute almost up to the M-th term(5 000 000-th), obtaining a result correct up to.\n",
    "#In a minute we can gain another factor 60, so roughly another 2 digits\n",
    "#overall in a minute we can arrive at a precision between the 10^-10 and 10^-11"
   ]
  },
  {
   "cell_type": "code",
   "execution_count": null,
   "metadata": {},
   "outputs": [],
   "source": []
  }
 ],
 "metadata": {
  "kernelspec": {
   "display_name": "Python 3",
   "language": "python",
   "name": "python3"
  },
  "language_info": {
   "codemirror_mode": {
    "name": "ipython",
    "version": 3
   },
   "file_extension": ".py",
   "mimetype": "text/x-python",
   "name": "python",
   "nbconvert_exporter": "python",
   "pygments_lexer": "ipython3",
   "version": "3.7.6"
  }
 },
 "nbformat": 4,
 "nbformat_minor": 2
}
