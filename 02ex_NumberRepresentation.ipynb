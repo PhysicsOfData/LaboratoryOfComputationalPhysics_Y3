{
 "cells": [
  {
   "cell_type": "markdown",
   "metadata": {},
   "source": [
    "1\\. Write a function that converts number representation (bin<->dec<->hex)"
   ]
  },
  {
   "cell_type": "code",
   "execution_count": null,
   "metadata": {},
   "outputs": [],
   "source": []
  },
  {
   "cell_type": "markdown",
   "metadata": {},
   "source": [
    "2\\. Write a function that converts a 32 bit word into a single precision floating point (i.e. interprets the various bits as sign, mantissa and exponent)"
   ]
  },
  {
   "cell_type": "markdown",
   "metadata": {},
   "source": [
    "3\\. Write a program to determine the underflow and overflow limits (within a factor of 2) for python on your computer. \n",
    "\n",
    "**Tips**: define two variables inizialized to 1 and halve/double them enough time to exceed the under/over-flow limits  "
   ]
  },
  {
   "cell_type": "code",
   "execution_count": 1,
   "metadata": {},
   "outputs": [
    {
     "name": "stdout",
     "output_type": "stream",
     "text": [
      "Over flow at 2 to the power of 1025\n",
      "Under flow at 0.5 to the power of 1076\n"
     ]
    }
   ],
   "source": [
    "import numpy as np\n",
    "\n",
    "\n",
    "def Limit(x):\n",
    "    var = x\n",
    "    oldVar = 0.0\n",
    "    \n",
    "    upperLimit = 0\n",
    "    while(var > oldVar):\n",
    "        oldVar = var\n",
    "        var *= 2\n",
    "        upperLimit += 1\n",
    "\n",
    "    var = x\n",
    "    oldVar = x + 1\n",
    "\n",
    "    lowerLimit = 0\n",
    "    while(var < oldVar):\n",
    "        oldVar = var\n",
    "        var *= 0.5\n",
    "        lowerLimit += 1\n",
    "\n",
    "    print(\"Over flow at 2 to the power of \" + str(upperLimit))\n",
    "    print(\"Under flow at 0.5 to the power of \" + str(lowerLimit))\n",
    "\n",
    "\n",
    "Limit(1.0)\n"
   ]
  },
  {
   "cell_type": "markdown",
   "metadata": {},
   "source": [
    "4\\. Write a program to determine the machine precision\n",
    "\n",
    "**Tips**: define a new variable by adding a smaller and smaller value (proceeding similarly to prob. 2) to an original variable and check the point where the two are the same "
   ]
  },
  {
   "cell_type": "code",
   "execution_count": 3,
   "metadata": {},
   "outputs": [
    {
     "name": "stdout",
     "output_type": "stream",
     "text": [
      "Accuracy = 1.0000000000000008e-16\n"
     ]
    }
   ],
   "source": [
    "import numpy as np\n",
    "\n",
    "\n",
    "def Accuracy(x):\n",
    "    var = x\n",
    "    oldVar = 0.0\n",
    "    \n",
    "    accuracy = 0\n",
    "    while(var != oldVar):\n",
    "        oldVar = var\n",
    "        var += 0.1 ** accuracy\n",
    "        accuracy += 1\n",
    "\n",
    "    return 0.1 ** (accuracy - 1)\n",
    "\n",
    "x = 1\n",
    "accuracy = Accuracy(x)\n",
    "\n",
    "print(\"Accuracy = \" + str(accuracy))"
   ]
  },
  {
   "cell_type": "markdown",
   "metadata": {},
   "source": [
    "5\\. Write a function that takes in input three parameters $a$, $b$ and $c$ and prints out the two solutions to the quadratic equation $ax^2+bx+c=0$ using the standard formula:\n",
    "$$\n",
    "x=\\frac{-b\\pm\\sqrt{b^2-4ac}}{2a}\n",
    "$$\n",
    "\n",
    "(a) use the program to compute the solution for $a=0.001$, $b=1000$ and $c=0.001$\n",
    "\n",
    "(b) re-express the standard solution formula by multiplying top and bottom by $-b\\mp\\sqrt{b^2-4ac}$ and again find the solution for $a=0.001$, $b=1000$ and $c=0.001$. How does it compare with what previously obtained? Why?\n",
    "\n",
    "(c) write a function that compute the roots of a quadratic equation accurately in all cases"
   ]
  },
  {
   "cell_type": "code",
   "execution_count": 4,
   "metadata": {},
   "outputs": [
    {
     "name": "stdout",
     "output_type": "stream",
     "text": [
      "x1 = -9.999894245993346e-07 , x2 = -999999.999999\n",
      "x1 = -1.000000000001e-06 , x2 = -1000010.5755125057\n",
      "x1 = -1.000000000001e-06 , x2 = -999999.999999\n"
     ]
    }
   ],
   "source": [
    "import numpy as np\n",
    "import math\n",
    "\n",
    "def FunctionA(a, b, c):\n",
    "    squareTerm = (b ** 2 - 4 * a * c) ** 0.5\n",
    "    x1 = (-1 * b + squareTerm) / (2 * a)\n",
    "    x2 = (-1 * b - squareTerm) / (2 * a)\n",
    "\n",
    "    print(\"x1 = \" + str(x1) + \" , x2 = \" + str(x2))\n",
    "\n",
    "\n",
    "def FunctionB(a, b, c):\n",
    "    squareTerm = (b ** 2 - 4 * a * c) ** 0.5\n",
    "    x1 = (2 * c) / (-1 * b - squareTerm) \n",
    "    x2 = (2 * c) / (-1 * b + squareTerm) \n",
    "\n",
    "    print(\"x1 = \" + str(x1) + \" , x2 = \" + str(x2))\n",
    "\n",
    "def FunctionC(a, b, c):\n",
    "    squareTerm = (b ** 2 - 4 * a * c) ** 0.5\n",
    "    x1 = (2 * c) / (-1 * b - squareTerm) \n",
    "    x2 = (-1 * b - squareTerm) / (2 * a)\n",
    "\n",
    "    print(\"x1 = \" + str(x1) + \" , x2 = \" + str(x2))\n",
    "\n",
    "\n",
    "FunctionA(0.001, 1000, 0.001)\n",
    "FunctionB(0.001, 1000, 0.001)\n",
    "FunctionC(0.001, 1000, 0.001)\n"
   ]
  },
  {
   "cell_type": "markdown",
   "metadata": {},
   "source": [
    "6\\. Write a program that implements the function $f(x)=x(x−1)$\n",
    "\n",
    "(a) Calculate the derivative of the function at the point $x = 1$ using the derivative definition:\n",
    "\n",
    "$$\n",
    "\\frac{{\\rm d}f}{{\\rm d}x} = \\lim_{\\delta\\to0} \\frac{f(x+\\delta)-f(x)}{\\delta}\n",
    "$$\n",
    "\n",
    "with $\\delta = 10^{−2}$. Calculate the true value of the same derivative analytically and compare with the answer your program gives. The two will not agree perfectly. Why not?\n",
    "\n",
    "(b) Repeat the calculation for $\\delta = 10^{−4}, 10^{−6}, 10^{−8}, 10^{−10}, 10^{−12}$ and $10^{−14}$. How does the accuracy scales with $\\delta$?"
   ]
  },
  {
   "cell_type": "code",
   "execution_count": 5,
   "metadata": {},
   "outputs": [
    {
     "name": "stdout",
     "output_type": "stream",
     "text": [
      "Delta = 0.01 , Derivative = 1.010000000000001\n",
      "Delta = 0.0001 , Derivative = 1.0000999999998899\n",
      "Delta = 1e-06 , Derivative = 1.0000009999177333\n",
      "Delta = 1e-08 , Derivative = 1.0000000039225287\n",
      "Delta = 1e-10 , Derivative = 1.000000082840371\n",
      "Delta = 1e-12 , Derivative = 1.0000889005833413\n",
      "Delta = 1e-14 , Derivative = 0.9992007221626509\n"
     ]
    }
   ],
   "source": [
    "import numpy as np\n",
    "\n",
    "def Function(x):\n",
    "    return x * (x - 1)\n",
    "\n",
    "def Derivative(delta):\n",
    "    return (Function(1 + delta) - Function(1)) / delta\n",
    "\n",
    "\n",
    "delta = 10 ** -2\n",
    "result = Derivative(delta)\n",
    "print(\"Delta = \" + str(delta) + \" , Derivative = \" + str(result))\n",
    "\n",
    "for deltaPow in np.arange(-4,-16,-2):\n",
    "    delta = 10.0 ** deltaPow\n",
    "    result = Derivative(delta)\n",
    "    print(\"Delta = \" + str(delta) + \" , Derivative = \" + str(result))\n"
   ]
  },
  {
   "cell_type": "markdown",
   "metadata": {},
   "source": [
    "7\\. Consider the integral of the semicircle of radius 1:\n",
    "$$\n",
    "I=\\int_{-1}^{1} \\sqrt(1-x^2) {\\rm d}x\n",
    "$$\n",
    "which it's known to be $I=\\frac{\\pi}{2}=1.57079632679...$.\n",
    "Alternatively we can use the Riemann definition of the integral:\n",
    "$$\n",
    "I=\\lim_{N\\to\\infty} \\sum_{k=1}^{N} h y_k \n",
    "$$\n",
    "\n",
    "with $h=2/N$ the width of each of the $N$ slices the domain is divided into and where\n",
    "$y_k$ is the value of the function at the $k-$th slice.\n",
    "\n",
    "(a) Write a programe to compute the integral with $N=100$. How does the result compares to the true value?\n",
    "\n",
    "(b) How much can $N$ be increased if the computation needs to be run in less than a second? What is the gain in running it for 1 minute? \n"
   ]
  },
  {
   "cell_type": "code",
   "execution_count": 6,
   "metadata": {},
   "outputs": [
    {
     "name": "stdout",
     "output_type": "stream",
     "text": [
      "Result with N of 100 = 1.5691342555492505 , absolute error = 0.0016620712456461018\n",
      "Result with N of 2400000 = 1.5707963263474831 , absolute error = 4.4741343963039526e-10 , runtime of 1s, actual runtime = 1.3244059085845947\n",
      "Result with N of 144000000 = 1.5707963267943639 , absolute error = 5.326850072151501e-13 , runtime of 1min, actual runtime = 73.48657250404358\n"
     ]
    }
   ],
   "source": [
    "import numpy as np\n",
    "import time\n",
    "\n",
    "def Function(x):\n",
    "    return (1.0 - x ** 2) ** 0.5\n",
    "\n",
    "def Integral(N):\n",
    "    result = 0.0\n",
    "    for i in range(N):\n",
    "        curX = -1 + i * 2.0 / N\n",
    "        result += (2.0 / N) *  Function(curX)\n",
    "    \n",
    "    return result\n",
    "\n",
    "N=100\n",
    "result = Integral(N)\n",
    "print(\"Result with N of \" + str(N) + \" = \" + str(result) + \" , absolute error = \" + str(np.abs(np.pi / 2 - result)))\n",
    "\n",
    "N = 2400000\n",
    "t0 = time.time()\n",
    "result = Integral(N)\n",
    "t0 = time.time() - t0\n",
    "print(\"Result with N of \" + str(N) + \" = \" + str(result) + \" , absolute error = \" + str(np.abs(np.pi / 2 - result)) + \" , runtime of 1s, actual runtime = \" + str(t0))\n",
    "\n",
    " \n",
    "N = 2400000 * 60\n",
    "t0 = time.time()\n",
    "result = Integral(N)\n",
    "t0 = time.time() - t0\n",
    "print(\"Result with N of \" + str(N) + \" = \" + str(result) + \" , absolute error = \" + str(np.abs(np.pi / 2 - result)) + \" , runtime of 1min, actual runtime = \" + str(t0))\n",
    " "
   ]
  }
 ],
 "metadata": {
  "kernelspec": {
   "display_name": "Python 3",
   "language": "python",
   "name": "python3"
  },
  "language_info": {
   "codemirror_mode": {
    "name": "ipython",
    "version": 3
   },
   "file_extension": ".py",
   "mimetype": "text/x-python",
   "name": "python",
   "nbconvert_exporter": "python",
   "pygments_lexer": "ipython3",
   "version": "3.7.4"
  }
 },
 "nbformat": 4,
 "nbformat_minor": 2
}
