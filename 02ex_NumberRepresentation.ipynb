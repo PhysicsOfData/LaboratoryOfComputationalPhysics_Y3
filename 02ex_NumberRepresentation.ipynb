{
 "cells": [
  {
   "cell_type": "markdown",
   "metadata": {},
   "source": [
    "1\\. Write a function that converts number representation (bin<->dec<->hex)"
   ]
  },
  {
   "cell_type": "code",
   "execution_count": 2,
   "metadata": {},
   "outputs": [
    {
     "name": "stdout",
     "output_type": "stream",
     "text": [
      "Binary:   0b100000\n",
      "Decimal:   32\n",
      "Hexadecimal:   0x20\n"
     ]
    }
   ],
   "source": [
    "def dec_bin(dec): \n",
    "    decimal = int(dec) \n",
    "    print( \"Binary:  \", bin(decimal)) \n",
    " \n",
    "def dec_hex(dec): \n",
    "    decimal = int(dec) \n",
    "    print(\"Hexadecimal:  \", hex(decimal)) \n",
    "    \n",
    " \n",
    "dec = 32\n",
    "dec_bin(dec) \n",
    "print(\"Decimal:  \", dec)\n",
    "dec_hex(dec)\n"
   ]
  },
  {
   "cell_type": "markdown",
   "metadata": {},
   "source": [
    "2\\. Write a function that converts a 32 bit word into a single precision floating point (i.e. interprets the various bits as sign, mantissa and exponent)"
   ]
  },
  {
   "cell_type": "code",
   "execution_count": 3,
   "metadata": {},
   "outputs": [
    {
     "name": "stdout",
     "output_type": "stream",
     "text": [
      "Binary equivalent of 15: 01000001011100000000000000000000\n",
      "Decimal equivalent of      01000001011100000000000000000000: 15.0\n",
      "\n",
      "Sign     ( 1 bit ) = 0\n",
      "Exponent ( 8 bits) = 10000010\n",
      "Mantissa (23 bits) = 11100000000000000000000\n"
     ]
    }
   ],
   "source": [
    "import struct\n",
    "\n",
    "def float_Binary32(value):\n",
    "    return ''.join(f'{c:0>8b}' for c in struct.pack('!f', value))\n",
    "\n",
    "def binary_Float(value):\n",
    "    hx = hex(int(value, 2))   \n",
    "    return struct.unpack(\"f\", struct.pack(\"l\", int(hx, 16)))[0]\n",
    "\n",
    "fl0 = 15\n",
    "binstr = float_Binary32(fl0)\n",
    "print(f'Binary equivalent of {fl0}: {binstr}')\n",
    "\n",
    "fl1 = binary_Float(binstr)\n",
    "print(f'Decimal equivalent of      {binstr}: {fl1}')\n",
    "\n",
    "print(f'\\nSign     ( 1 bit ) = {binstr[0]}\\nExponent ( 8 bits) = {binstr[1:9]}\\nMantissa (23 bits) = {binstr[9:]}')\n",
    "\n",
    "assert fl0 == fl1\n"
   ]
  },
  {
   "cell_type": "markdown",
   "metadata": {},
   "source": [
    "3\\. Write a program to determine the underflow and overflow limits (within a factor of 2) for python on your computer. \n",
    "\n",
    "**Tips**: define two variables inizialized to 1 and halve/double them enough time to exceed the under/over-flow limits  "
   ]
  },
  {
   "cell_type": "code",
   "execution_count": 4,
   "metadata": {},
   "outputs": [
    {
     "name": "stdout",
     "output_type": "stream",
     "text": [
      "Overflow: 8.98846567431158e+307\n",
      "Underflow: 5e-324\n"
     ]
    }
   ],
   "source": [
    "def overflow():\n",
    "    x = 1.0\n",
    "    while (str(2*x) != 'inf'): \n",
    "      x*=2\n",
    "    print ('Overflow:',x)\n",
    "    \n",
    "def underflow():\n",
    "    x = 1.0\n",
    "    while (x/2 != 0):\n",
    "      x/=2\n",
    "    print ('Underflow:',x)\n",
    "    \n",
    "overflow()\n",
    "underflow()\n"
   ]
  },
  {
   "cell_type": "markdown",
   "metadata": {},
   "source": [
    "4\\. Write a program to determine the machine precision\n",
    "\n",
    "**Tips**: define a new variable by adding a smaller and smaller value (proceeding similarly to prob. 2) to an original variable and check the point where the two are the same "
   ]
  },
  {
   "cell_type": "code",
   "execution_count": 5,
   "metadata": {},
   "outputs": [
    {
     "name": "stdout",
     "output_type": "stream",
     "text": [
      "1.0000000000000001e-16 = (1/10)** 16\n"
     ]
    }
   ],
   "source": [
    "x = 1\n",
    "y = 1\n",
    "count = 0\n",
    "while x+y != x:\n",
    "    y/= 10\n",
    "    count+=1\n",
    "print( y, '= (1/10)**', count)\n"
   ]
  },
  {
   "cell_type": "markdown",
   "metadata": {},
   "source": [
    "5\\. Write a function that takes in input three parameters $a$, $b$ and $c$ and prints out the two solutions to the quadratic equation $ax^2+bx+c=0$ using the standard formula:\n",
    "$$\n",
    "x=\\frac{-b\\pm\\sqrt{b^2-4ac}}{2a}\n",
    "$$\n",
    "\n",
    "(a) use the program to compute the solution for $a=0.001$, $b=1000$ and $c=0.001$\n",
    "\n",
    "(b) re-express the standard solution formula by multiplying top and bottom by $-b\\mp\\sqrt{b^2-4ac}$ and again find the solution for $a=0.001$, $b=1000$ and $c=0.001$. How does it compare with what previously obtained? Why?\n",
    "\n",
    "(c) write a function that compute the roots of a quadratic equation accurately in all cases"
   ]
  },
  {
   "cell_type": "code",
   "execution_count": 6,
   "metadata": {},
   "outputs": [
    {
     "name": "stdout",
     "output_type": "stream",
     "text": [
      "a:  (-9.999894245993346e-07, -999999.999999)\n",
      "b:  (-1.000000000001e-06, -1000010.5755125057)\n",
      "c:  (-1.000000000001e-06, -999999.999999)\n"
     ]
    }
   ],
   "source": [
    "from math import sqrt\n",
    "\n",
    "def solve1(a,b,c):\n",
    "    \n",
    "    s = sqrt(b**2-4*a*c)\n",
    "    return ((-b+s)/(2*a),(-b-s)/(2*a))\n",
    "\n",
    "\n",
    "def solve2(a,b,c):\n",
    "    \n",
    "    s = sqrt(b**2-4*a*c)\n",
    "    return (2*c/(-b-s),2*c/(-b+s))\n",
    "\n",
    "\n",
    "def solve3(a,b,c):\n",
    "    \n",
    "    return (solve2(a,b,c)[0],solve1(a,b,c)[1]) \n",
    "\n",
    "\n",
    "\n",
    "a = 0.001\n",
    "b = 1000\n",
    "c = a\n",
    "\n",
    "print (\"a: \",solve1 (a,b,c))\n",
    "print (\"b: \",solve2 (a,b,c))\n",
    "print (\"c: \",solve3 (a,b,c))\n"
   ]
  },
  {
   "cell_type": "markdown",
   "metadata": {},
   "source": [
    "6\\. Write a program that implements the function $f(x)=x(x−1)$\n",
    "\n",
    "(a) Calculate the derivative of the function at the point $x = 1$ using the derivative definition:\n",
    "\n",
    "$$\n",
    "\\frac{{\\rm d}f}{{\\rm d}x} = \\lim_{\\delta\\to0} \\frac{f(x+\\delta)-f(x)}{\\delta}\n",
    "$$\n",
    "\n",
    "with $\\delta = 10^{−2}$. Calculate the true value of the same derivative analytically and compare with the answer your program gives. The two will not agree perfectly. Why not?\n",
    "\n",
    "(b) Repeat the calculation for $\\delta = 10^{−4}, 10^{−6}, 10^{−8}, 10^{−10}, 10^{−12}$ and $10^{−14}$. How does the accuracy scales with $\\delta$?"
   ]
  },
  {
   "cell_type": "code",
   "execution_count": 7,
   "metadata": {},
   "outputs": [
    {
     "name": "stdout",
     "output_type": "stream",
     "text": [
      "delta=10-2:  1.010000000000001\n",
      "0.0001  ----  1.0000999999998899\n",
      "1e-06  ----  1.0000009999177333\n",
      "1e-08  ----  1.0000000039225287\n",
      "1e-10  ----  1.000000082840371\n",
      "1e-12  ----  1.0000889005833413\n",
      "1e-14  ----  0.9992007221626509\n"
     ]
    }
   ],
   "source": [
    "def function(x):\n",
    "    return x*(x-1)\n",
    "\n",
    "def dif (function,x, delta=0.01):\n",
    "    return((function(x+delta)-function(x))/ delta )\n",
    "\n",
    "print(\"delta=10-2: \", dif(function,1,delta=0.01))\n",
    "deltas = [10**(-4),10**(-6),10**(-8),10**(-10),10**(-12),10**(-14)]\n",
    "\n",
    "for a in deltas:\n",
    "    print(a,\" ---- \",dif(function,1,a))\n"
   ]
  },
  {
   "cell_type": "markdown",
   "metadata": {},
   "source": [
    "7\\. Consider the integral of the semicircle of radius 1:\n",
    "$$\n",
    "I=\\int_{-1}^{1} \\sqrt(1-x^2) {\\rm d}x\n",
    "$$\n",
    "which it's known to be $I=\\frac{\\pi}{2}=1.57079632679...$.\n",
    "Alternatively we can use the Riemann definition of the integral:\n",
    "$$\n",
    "I=\\lim_{N\\to\\infty} \\sum_{k=1}^{N} h y_k \n",
    "$$\n",
    "\n",
    "with $h=2/N$ the width of each of the $N$ slices the domain is divided into and where\n",
    "$y_k$ is the value of the function at the $k-$th slice.\n",
    "\n",
    "(a) Write a programe to compute the integral with $N=100$. How does the result compares to the true value?\n",
    "\n",
    "(b) How much can $N$ be increased if the computation needs to be run in less than a second? What is the gain in running it for 1 minute? \n"
   ]
  },
  {
   "cell_type": "code",
   "execution_count": 9,
   "metadata": {},
   "outputs": [
    {
     "name": "stdout",
     "output_type": "stream",
     "text": [
      "60.2 ms ± 3.51 ms per loop (mean ± std. dev. of 7 runs, 10 loops each)\n",
      "1.5707962742034223\n"
     ]
    }
   ],
   "source": [
    "def fun_rad(x):\n",
    "    \n",
    "    return pow(1-x*x, 0.5)\n",
    "\n",
    "N = 100000\n",
    "h = 2/N\n",
    "I = 0\n",
    "\n",
    "\n",
    "def process(n):\n",
    "    I = 0\n",
    "    for i in range(n):\n",
    "        I += h*fun_rad(i*h-1.)\n",
    "    return I\n",
    "\n",
    "\n",
    "%timeit process(N)\n",
    "\n",
    "\n",
    "I = process(N)\n",
    "\n",
    "print(I)\n"
   ]
  }
 ],
 "metadata": {
  "kernelspec": {
   "display_name": "Python 3",
   "language": "python",
   "name": "python3"
  },
  "language_info": {
   "codemirror_mode": {
    "name": "ipython",
    "version": 3
   },
   "file_extension": ".py",
   "mimetype": "text/x-python",
   "name": "python",
   "nbconvert_exporter": "python",
   "pygments_lexer": "ipython3",
   "version": "3.8.3"
  }
 },
 "nbformat": 4,
 "nbformat_minor": 2
}
