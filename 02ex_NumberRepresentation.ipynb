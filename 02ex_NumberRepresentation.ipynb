{
 "cells": [
  {
   "cell_type": "markdown",
   "metadata": {},
   "source": [
    "1\\. Write a function that converts number representation (bin<->dec<->hex)"
   ]
  },
  {
   "cell_type": "code",
   "execution_count": 3,
   "metadata": {},
   "outputs": [
    {
     "name": "stdout",
     "output_type": "stream",
     "text": [
      "Il numero 76 in binario è: 0b1001100; in esadecimale è: 0x4c;\n",
      "76\n",
      "76\n"
     ]
    }
   ],
   "source": [
    "def fun (x):\n",
    "    x_bin = bin(x)\n",
    "    x_hex = hex(x)\n",
    "    x_dec_bin = int(x_bin,2)\n",
    "    x_dec_hex = int(x_hex, 16)\n",
    "    \n",
    "    print(\"Il numero {} in binario è: {}; in esadecimale è: {};\".format(x, x_bin, x_hex))\n",
    "    print(x_dec_bin)\n",
    "    print(x_dec_hex)\n",
    "    \n",
    "    return\n",
    "\n",
    "fun(76)"
   ]
  },
  {
   "cell_type": "markdown",
   "metadata": {},
   "source": [
    "2\\. Write a function that converts a 32 bit word into a single precision floating point (i.e. interprets the various bits as sign, mantissa and exponent)"
   ]
  },
  {
   "cell_type": "code",
   "execution_count": 2,
   "metadata": {},
   "outputs": [
    {
     "name": "stdout",
     "output_type": "stream",
     "text": [
      "32\n",
      "exp = 129\n",
      "Mantissa = 1.375\n",
      "Il numero float è: -5.5\n"
     ]
    }
   ],
   "source": [
    "def convert_to_float(x):\n",
    "    \n",
    "    print(len(x))\n",
    "    \n",
    "    exp = 0\n",
    "    mantissa = 1\n",
    "    bias = 127\n",
    "    s = x[0]\n",
    "    \n",
    "    for i in range(1,9):\n",
    "        exp += int(x[i])*2**(8-i)\n",
    "    print(\"exp = {}\".format(exp))\n",
    "        \n",
    "    f = x[9:32]\n",
    "    for i in range(len(f)):\n",
    "        mantissa += int(f[i])*2**(-i-1)\n",
    "    print(\"Mantissa = {}\".format(mantissa))\n",
    "    \n",
    "    n = mantissa*2**(exp-bias)\n",
    "    \n",
    "    if int(s)==0:\n",
    "        print(\"Il numero float è: {}\".format(n))\n",
    "    if int(s)==1:\n",
    "        print(\"Il numero float è: -{}\".format(n))\n",
    "    \n",
    "    return\n",
    "\n",
    "convert_to_float(\"11000000101100000000000000000000\")"
   ]
  },
  {
   "cell_type": "markdown",
   "metadata": {},
   "source": [
    "3\\. Write a program to determine the underflow and overflow limits (within a factor of 2) for python on your computer. \n",
    "\n",
    "**Tips**: define two variables inizialized to 1 and halve/double them enough time to exceed the under/over-flow limits  "
   ]
  },
  {
   "cell_type": "code",
   "execution_count": 2,
   "metadata": {},
   "outputs": [
    {
     "name": "stdout",
     "output_type": "stream",
     "text": [
      "Overflow = 1339385758982834151185531311325002263201756014631917009304687985462938813906170153116497973519619822659493341146941433531483931607115392554498072196837321850491820971853028873177634325632796392734744272769130809372947742658424845944895692993259632864321399559710817770957553728956578048354650708508672000000000 \n",
      "\n",
      "Underflow = 5e-324\n"
     ]
    }
   ],
   "source": [
    "max = [1000000000, 2000000000, 4000000000]\n",
    "min = [1,0.5]\n",
    "for i in range (2,998):\n",
    "    try:\n",
    "        max[i-1]/2\n",
    "        if max[i-1]/2 == max[i-2]:\n",
    "            max.append(max[i]*2)\n",
    "    except:\n",
    "        print(\"Overflow =\", max[i], \"\\n\")\n",
    "        \n",
    "\n",
    "for i in range (1,1076):\n",
    "    if min[i]==0.0:\n",
    "        print(\"Underflow =\", min[i-1])\n",
    "    else:\n",
    "        min.append(min[i]/2)"
   ]
  },
  {
   "cell_type": "markdown",
   "metadata": {},
   "source": [
    "4\\. Write a program to determine the machine precision\n",
    "\n",
    "**Tips**: define a new variable by adding a smaller and smaller value (proceeding similarly to prob. 2) to an original variable and check the point where the two are the same "
   ]
  },
  {
   "cell_type": "code",
   "execution_count": 1,
   "metadata": {},
   "outputs": [
    {
     "name": "stdout",
     "output_type": "stream",
     "text": [
      "5.551115123125783e-17\n"
     ]
    }
   ],
   "source": [
    "x = 1\n",
    "y = 2\n",
    "delta = 1\n",
    "\n",
    "while (x!=y):\n",
    "    y = x + delta\n",
    "    delta = delta/2\n",
    "\n",
    "print(delta)"
   ]
  },
  {
   "cell_type": "markdown",
   "metadata": {},
   "source": [
    "5\\. Write a function that takes in input three parameters $a$, $b$ and $c$ and prints out the two solutions to the quadratic equation $ax^2+bx+c=0$ using the standard formula:\n",
    "$$\n",
    "x=\\frac{-b\\pm\\sqrt{b^2-4ac}}{2a}\n",
    "$$\n",
    "\n",
    "(a) use the program to compute the solution for $a=0.001$, $b=1000$ and $c=0.001$\n",
    "\n",
    "(b) re-express the standard solution formula by multiplying top and bottom by $-b\\mp\\sqrt{b^2-4ac}$ and again find the solution for $a=0.001$, $b=1000$ and $c=0.001$. How does it compare with what previously obtained? Why?\n",
    "\n",
    "(c) write a function that compute the roots of a quadratic equation accurately in all cases"
   ]
  },
  {
   "cell_type": "code",
   "execution_count": 13,
   "metadata": {},
   "outputs": [
    {
     "name": "stdout",
     "output_type": "stream",
     "text": [
      "x1 = -9.999894245993346e-07\n",
      "x11 = -9.999894245993346e-07\n",
      "x2 = -999999.999999\n",
      "x22 = -999999.999999000\n"
     ]
    }
   ],
   "source": [
    "def roots(a, b, c):\n",
    "    b2 = b**2\n",
    "    a4c = 4*a*c\n",
    "    a2 = 2*a\n",
    "    x1 = (((-b+(b2-a4c)**(1/2))/a2))\n",
    "    x2 = (((-b-(b2-a4c)**(1/2))/a2))\n",
    "    x11 = ((((-b+(b2-a4c)**(1/2))*(-b-(b2-a4c)**(1/2)))/(a2*(-b-(b2-a4c)**(1/2)))))\n",
    "    x22 = (\"%.9f\" % (((-b-(b2-a4c)**(1/2))*(-b+(b2-a4c)**(1/2)))/(a2*(-b+(b2-a4c)**(1/2)))))\n",
    "    print(\"x1 = {}\\nx11 = {}\\nx2 = {}\\nx22 = {}\".format(x1, x11, x2, x22))\n",
    "    return\n",
    "roots(0.001, 1000, 0.001)\n"
   ]
  },
  {
   "cell_type": "markdown",
   "metadata": {},
   "source": [
    "6\\. Write a program that implements the function $f(x)=x(x−1)$\n",
    "\n",
    "(a) Calculate the derivative of the function at the point $x = 1$ using the derivative definition:\n",
    "\n",
    "$$\n",
    "\\frac{{\\rm d}f}{{\\rm d}x} = \\lim_{\\delta\\to0} \\frac{f(x+\\delta)-f(x)}{\\delta}\n",
    "$$\n",
    "\n",
    "with $\\delta = 10^{−2}$. Calculate the true value of the same derivative analytically and compare with the answer your program gives. The two will not agree perfectly. Why not?\n",
    "\n",
    "(b) Repeat the calculation for $\\delta = 10^{−4}, 10^{−6}, 10^{−8}, 10^{−10}, 10^{−12}$ and $10^{−14}$. How does the accuracy scales with $\\delta$?"
   ]
  },
  {
   "cell_type": "code",
   "execution_count": 118,
   "metadata": {},
   "outputs": [
    {
     "name": "stdout",
     "output_type": "stream",
     "text": [
      "0.9992007221626509\n",
      "1.0000889005833413\n",
      "1.000000082840371\n",
      "1.0000000039225287\n",
      "1.0000009999177333\n",
      "1.0000999999998899\n",
      "[0.0007992778373491216, 8.890058334132256e-05, 8.284037100736441e-08, 3.922528746258536e-09, 9.99917733279787e-07, 9.999999988985486e-05]\n"
     ]
    },
    {
     "data": {
      "image/png": "[encoded data removed]",
      "text/plain": [
       "<Figure size 432x288 with 1 Axes>"
      ]
     },
     "metadata": {
      "needs_background": "light"
     },
     "output_type": "display_data"
    }
   ],
   "source": [
    "import matplotlib.pyplot as plt\n",
    "\n",
    "def fun(x):\n",
    "    delta = [10**(-14), 10**(-12), 10**(-10), 10**(-8), 10**(-6), 10**(-4)]\n",
    "    der = []\n",
    "    acc = []\n",
    "    fx = x*(x-1)\n",
    "    \n",
    "    for d in delta:\n",
    "        fxdelta = (x+d)*(x+d-1)\n",
    "        dfdx = (fxdelta-fx)/d\n",
    "        der.append(dfdx)\n",
    "        print(dfdx)\n",
    "    for i in der:\n",
    "        if i>1:\n",
    "            acc.append(i-1)\n",
    "        else:\n",
    "            acc.append(1-i)\n",
    "    print(acc)\n",
    "\n",
    "    plt.plot(delta, acc)\n",
    "    plt.xscale('log')\n",
    "\n",
    "    return\n",
    "\n",
    "fun(1)"
   ]
  },
  {
   "cell_type": "markdown",
   "metadata": {},
   "source": [
    "7\\. Consider the integral of the semicircle of radius 1:\n",
    "$$\n",
    "I=\\int_{-1}^{1} \\sqrt(1-x^2) {\\rm d}x\n",
    "$$\n",
    "which it's known to be $I=\\frac{\\pi}{2}=1.57079632679...$.\n",
    "Alternatively we can use the Riemann definition of the integral:\n",
    "$$\n",
    "I=\\lim_{N\\to\\infty} \\sum_{k=1}^{N} h y_k \n",
    "$$\n",
    "\n",
    "with $h=2/N$ the width of each of the $N$ slices the domain is divided into and where\n",
    "$y_k$ is the value of the function at the $k-$th slice.\n",
    "\n",
    "(a) Write a programe to compute the integral with $N=100$. How does the result compares to the true value?\n",
    "\n",
    "(b) How much can $N$ be increased if the computation needs to be run in less than a second? What is the gain in running it for 1 minute? \n"
   ]
  },
  {
   "cell_type": "code",
   "execution_count": 10,
   "metadata": {},
   "outputs": [
    {
     "name": "stdout",
     "output_type": "stream",
     "text": [
      "Il valore calcolato dell'integrale è: 1.5707960635576623\n",
      "La differenza tra il valore vero e quello calcolato è: 2.6323723423260503e-07\n",
      "Il valore calcolato dell'integrale è: 1.5707963217949579\n",
      "La differenza tra il valore vero e quello calcolato è: 4.999938685301686e-09\n",
      "The gain is: -2.5823729554730335e-07\n"
     ]
    }
   ],
   "source": [
    "import math\n",
    "\n",
    "def integral(N):\n",
    "    h = 2/N\n",
    "    Imezzi = 0\n",
    "    I = 0\n",
    "    \n",
    "    for i in range (1, N//2+1):\n",
    "        Imezzi += h*(math.sqrt(1-((i/(N/2))**2)))\n",
    "        \n",
    "    I = Imezzi*2\n",
    "    \n",
    "    print(\"Il valore calcolato dell'integrale è:\", I)\n",
    "    print(\"La differenza tra il valore vero e quello calcolato è:\", math.pi/2-I)\n",
    "    return I\n",
    "\n",
    "#%timeit integral(7600000)\n",
    "#%timeit integral(400000000)\n",
    "\n",
    "s = integral(7600000)\n",
    "m = integral(400000000)\n",
    "\n",
    "d1 = (s - math.pi/2)\n",
    "d2 = (m - math.pi/2)\n",
    "print(\"The gain is: {}\".format(d1-d2))"
   ]
  }
 ],
 "metadata": {
  "kernelspec": {
   "display_name": "Python 3",
   "language": "python",
   "name": "python3"
  },
  "language_info": {
   "codemirror_mode": {
    "name": "ipython",
    "version": 3
   },
   "file_extension": ".py",
   "mimetype": "text/x-python",
   "name": "python",
   "nbconvert_exporter": "python",
   "pygments_lexer": "ipython3",
   "version": "3.8.3"
  }
 },
 "nbformat": 4,
 "nbformat_minor": 2
}
