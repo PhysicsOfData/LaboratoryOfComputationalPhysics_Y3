{
 "cells": [
  {
   "cell_type": "markdown",
   "metadata": {},
   "source": [
    "1. Write a function that converts number representation (bin<->dec<->hex)"
   ]
  },
  {
   "cell_type": "code",
   "execution_count": null,
   "metadata": {},
   "outputs": [],
   "source": [
    "#Exercise 1\n",
    "def convert(fromnumber,tonumber,number):\n",
    "    if fromnumber==\"binary\" and tonumber==\"decimal\":\n",
    "        return int(number,2)\n",
    "    if fromnumber==\"binary\" and tonumber==\"hexadecimal\":\n",
    "        return hex(int(number))\n",
    "    if fromnumber==\"decimal\" and tonumber==\"hexadecimal\":\n",
    "        return hex(int(number))\n",
    "    if fromnumber==\"decimal\" and tonumber==\"binary\":\n",
    "        return bin(int(number))\n",
    "    if fromnumber==\"hexadecimal\" and tonumber==\"decimal\":\n",
    "        return int(number,16)\n",
    "    if fromnumber==\"hexadecimal\" and tonumber==\"binary\":\n",
    "        return bin(hex(number))\n",
    "fromnumber=input(\"which type would you convert from?\")\n",
    "tonumber=input(\"which type would you convert to?\")\n",
    "number=input(\"which number would you convert?\")\n",
    "print(convert(fromnumber,tonumber,number))\n",
    "\n",
    "# --------- there is always easy way in python...\n",
    "\n",
    "def f(a):\n",
    "    a_bin=bin(a)\n",
    "    a_hex=hex(a)\n",
    "    a_dec=a\n",
    "\n",
    "    print(\"Binary:\",a_bin)\n",
    "    print(\"Hexadecimal:\",a_hex)\n",
    "    print(\"Decimal:\",a)"
   ]
  },
  {
   "cell_type": "markdown",
   "metadata": {},
   "source": [
    "2. Write a function that converts a 32 bit word into a single precision floating point (i.e. interprets the various bits as sign, mantissa and exponent)"
   ]
  },
  {
   "cell_type": "markdown",
   "metadata": {},
   "source": [
    "3. Write a program to determine the underflow and overflow limits (within a factor of 2) for python on your computer."
   ]
  },
  {
   "cell_type": "code",
   "execution_count": null,
   "metadata": {},
   "outputs": [],
   "source": [
    "#Exercise 3 \n",
    "\n",
    "N=2000\n",
    "underflow=1\n",
    "overflow=1\n",
    "factor=2\n",
    "\n",
    "for i in range(N):\n",
    "    underflow=underflow/2\n",
    "    overflow=overflow*2\n",
    "    print(\"|%2d\"%i,\"|\",\"\\t\\t\",\"|%2.5e\"%underflow,\"|\",\"\\t\\t\",\"|%2.5e\"%overflow,\"|\")\n",
    "\n",
    "# ----------------\n",
    "i=0\n",
    "a=1\n",
    "while a!=0:\n",
    "    a=a/2\n",
    "    i += 1\n",
    "print pow(2,-i+1)    "
   ]
  },
  {
   "cell_type": "markdown",
   "metadata": {},
   "source": [
    "4. Write a program to determine the machine precision"
   ]
  },
  {
   "cell_type": "code",
   "execution_count": 8,
   "metadata": {},
   "outputs": [
    {
     "name": "stdout",
     "output_type": "stream",
     "text": [
      "2.220446049250313e-16\n"
     ]
    }
   ],
   "source": [
    "x=1\n",
    "def precision(k):\n",
    "    b=1\n",
    "    i=0\n",
    "    while k != k+b:\n",
    "        k=k+b\n",
    "        b=b/2\n",
    "        i += 1\n",
    "    print (pow(2, -i+1))         \n",
    "precision(x)"
   ]
  },
  {
   "cell_type": "markdown",
   "metadata": {},
   "source": [
    "5. Write a function that takes in input three parameters a, b and c and prints out the two solutions to the quadratic equation using the standard formula: "
   ]
  },
  {
   "cell_type": "code",
   "execution_count": null,
   "metadata": {},
   "outputs": [],
   "source": [
    "import math\n",
    "def roots(a,b,c):\n",
    "    x1=((-b+(math.sqrt((b**2)-(4*a*c))))*(-b+(math.sqrt((b**2)-(4*a*c)))))/((2*a)*(-b+(math.sqrt((b**2)-(4*a*c)))))\n",
    "    x2=((-b-(math.sqrt((b**2)-(4*a*c))))*(-b-(math.sqrt((b**2)-(4*a*c)))))/((2*a)*(-b-(math.sqrt((b**2)-(4*a*c)))))\n",
    "    return x1,x2\n",
    "print(roots(0.001,1000,0.001))\n",
    "\n",
    "#------------------\n",
    "\n",
    "x=0\n",
    "def roots2(a,b,c):\n",
    "    x=(-b+pow(b*b-4*a*c,0.5))/2*a\n",
    "    print(\"1. root: \",x)\n",
    "    x=(-b-pow(b*b-4*a*c,0.5))/2*a\n",
    "    print(\"2. root: \",x)\n",
    "print(roots2(0.001,1000,0.001))    "
   ]
  },
  {
   "cell_type": "markdown",
   "metadata": {},
   "source": [
    "6. Write a program that implements the function "
   ]
  },
  {
   "cell_type": "code",
   "execution_count": null,
   "metadata": {},
   "outputs": [],
   "source": [
    "def f(x):\n",
    "    return x\n",
    "def derivative(x):\n",
    "    h=1./10.\n",
    "    slope=(f(x+h)-f(x))/h\n",
    "    return slope\n",
    "\n",
    "print(derivative(1))\n"
   ]
  },
  {
   "cell_type": "markdown",
   "metadata": {},
   "source": [
    "7. a  Write a programe to compute the integral with $N=100$. How does the result compares to the true value?"
   ]
  },
  {
   "cell_type": "code",
   "execution_count": null,
   "metadata": {},
   "outputs": [],
   "source": [
    "import math\n",
    "def f(x):\n",
    "    return math.sqrt(1-x**2)\n",
    "def integral(starting,ending,N):\n",
    "    width=(float(ending)-float(starting))/N\n",
    "    Sum=0\n",
    "    for i in range(N):\n",
    "        height=f(starting+i*width)\n",
    "        area=height*width\n",
    "        Sum+=area\n",
    "    return Sum\n",
    "print(integral(-1,1,100))"
   ]
  },
  {
   "cell_type": "markdown",
   "metadata": {},
   "source": [
    "7. b : How much can N be increased if the computation needs to be run in less than a second? What is the gain in running it for 1 minute?"
   ]
  },
  {
   "cell_type": "code",
   "execution_count": null,
   "metadata": {},
   "outputs": [],
   "source": [
    "import math\n",
    "import time\n",
    "N=3000000\n",
    "def f(x):\n",
    "    return math.sqrt(1-x**2)\n",
    "def integral(starting,ending,N):\n",
    "    stattime=0\n",
    "    endtime=0\n",
    "    starttime=time.time()\n",
    "    width=(float(ending)-float(starting))/N\n",
    "    Sum=0\n",
    "    for i in range(N):\n",
    "        height=f(starting+i*width)\n",
    "        area=height*width\n",
    "        Sum+=area\n",
    "    endtime=time.time()\n",
    "    return endtime-starttime\n",
    "while(integral(-1,1,N)>=1):\n",
    "    print(N,integral(-1,1,N))\n",
    "    N-=100000\n",
    "print(\"The minimum N in less than 1 munite is:\",N,\"Time is:\",integral(-1,1,N))"
   ]
  }
 ],
 "metadata": {
  "kernelspec": {
   "display_name": "Python 3",
   "language": "python",
   "name": "python3"
  },
  "language_info": {
   "codemirror_mode": {
    "name": "ipython",
    "version": 3
   },
   "file_extension": ".py",
   "mimetype": "text/x-python",
   "name": "python",
   "nbconvert_exporter": "python",
   "pygments_lexer": "ipython3",
   "version": "3.8.5"
  }
 },
 "nbformat": 4,
 "nbformat_minor": 4
}
