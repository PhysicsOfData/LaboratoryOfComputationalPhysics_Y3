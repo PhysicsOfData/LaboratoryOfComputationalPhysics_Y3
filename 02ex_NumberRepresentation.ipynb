{
 "cells": [
  {
   "cell_type": "markdown",
   "metadata": {},
   "source": [
    "1\\. Write a function that converts number representation (bin<->dec<->hex)"
   ]
  },
  {
   "cell_type": "code",
   "execution_count": null,
   "metadata": {},
   "outputs": [],
   "source": [
    "def bin_to_int(n) :\n",
    "    "
   ]
  },
  {
   "cell_type": "markdown",
   "metadata": {},
   "source": [
    "2\\. Write a function that converts a 32 bit word into a single precision floating point (i.e. interprets the various bits as sign, mantissa and exponent)"
   ]
  },
  {
   "cell_type": "code",
   "execution_count": 45,
   "metadata": {},
   "outputs": [
    {
     "output_type": "stream",
     "name": "stdout",
     "text": [
      "s = -1\ne = 129\n1.f = 1.375\n-5.5\n\n\ns = -1\ne = 129\n1.f = 1.375\n-5.5\n\n\ns = 1\ne = 7\n1.f = 1.75\n1.316553672920962e-36\n\n\ns = 1\ne = 7\n1.f = 1.75\n1.316553672920962e-36\n"
     ]
    }
   ],
   "source": [
    "def bin_to_single(x) :\n",
    "    if x.bit_length() != 32 : #i numeri binari in python sono di tipo int\n",
    "    #if len(b) != 32 :\n",
    "        #print(\"The provided binary number is not a 32 bit word\")\n",
    "        #return None\n",
    "        b = x + (1 << 31) #se non copio da un'altra parte l'argomento della funzione questo verrà modificato anche fuori dalla funzione...\n",
    "        s=1 #aggiungo 100... in modo da \"costringerlo\" ad effettuare uno zero padding; sistemo a mano il segno visto che in questo modo il primo bit viene scambiato\n",
    "    else :\n",
    "        b=x\n",
    "        s=-1\n",
    "    #n = b << 1\n",
    "    e = b >> 23 #niente indexing = servono shift e mask\n",
    "    e = e & 255\n",
    "    f=0\n",
    "    for i in range(23) :\n",
    "        n = b & 2**i\n",
    "        n = n >> i\n",
    "        if n != 0 :#potrei mettere una formula generale ma rischio di sommare 0*2^cose. Non so se pesi di più fare if o operazioni con numeri piccoli\n",
    "            f+=2**(i-23)\n",
    "    f+=1\n",
    "    print(\"s =\",s)\n",
    "    print(\"e =\",e)\n",
    "    print(\"1.f =\",f)\n",
    "    return s*f*(2**(e-127))\n",
    "\n",
    "x=0b11000000101100000000000000000000 #-5.5\n",
    "x=bin_to_single(x)\n",
    "print(x)\n",
    "print(\"\\n\")\n",
    "\n",
    "def binstr_to_single(b) :\n",
    "    b_str=b[2:]#se gli passi 0b... Se la stringa non contiene 0b questa riga non serve\n",
    "    #print(b_str)\n",
    "    if len(b_str) != 32 :\n",
    "        print(\"The provided binary number is not a 32 bit word\")\n",
    "        return None\n",
    "    s=b_str[0]\n",
    "    if s == \"0\" : s=1\n",
    "    else : s=-1\n",
    "    e=int(b_str[1:9],2)\n",
    "    m=b_str[9:]\n",
    "    print(\"s =\",s)\n",
    "    print(\"e =\",e)\n",
    "    #print(\"m =\",m)\n",
    "    f=1+sum([int(m[i])*2**(-(i+1)) for i in range(23)])\n",
    "    print(\"1.f =\",f)\n",
    "    n=s*f*2**(e-127)\n",
    "    #print(n)\n",
    "    return n\n",
    "\n",
    "x=binstr_to_single(\"0b11000000101100000000000000000000\")\n",
    "print(x)\n",
    "\n",
    "\n",
    "print(\"\\n\")\n",
    "y=0b00000011111000000000000000000000 #1.316554e-36\n",
    "#y=int(format(y,\"#032b\"),2)\n",
    "print(bin_to_single(y))\n",
    "print(\"\\n\")\n",
    "print(binstr_to_single(\"0b00000011111000000000000000000000\"))"
   ]
  },
  {
   "cell_type": "markdown",
   "metadata": {},
   "source": [
    "3\\. Write a program to determine the underflow and overflow limits (within a factor of 2) for python on your computer. \n",
    "\n",
    "**Tips**: define two variables inizialized to 1 and halve/double them enough time to exceed the under/over-flow limits  "
   ]
  },
  {
   "cell_type": "code",
   "execution_count": 50,
   "metadata": {},
   "outputs": [
    {
     "output_type": "stream",
     "name": "stdout",
     "text": [
      "underflow: 2^(-1075)\noverflow: 2^(1024)\n"
     ]
    }
   ],
   "source": [
    "from math import inf\n",
    "\n",
    "x=1.0\n",
    "i=0\n",
    "while x != 0 :\n",
    "    x/=2\n",
    "    i+=1\n",
    "#print(i)\n",
    "print(\"underflow: 2^(-%d)\"%i)\n",
    "\n",
    "x=1.0\n",
    "i=0\n",
    "while x != inf :\n",
    "    x*=2\n",
    "    i+=1\n",
    "print(\"overflow: 2^(%d)\"%i)"
   ]
  },
  {
   "cell_type": "markdown",
   "metadata": {},
   "source": [
    "4\\. Write a program to determine the machine precision\n",
    "\n",
    "**Tips**: define a new variable by adding a smaller and smaller value (proceeding similarly to prob. 2) to an original variable and check the point where the two are the same "
   ]
  },
  {
   "cell_type": "code",
   "execution_count": 52,
   "metadata": {},
   "outputs": [
    {
     "output_type": "stream",
     "name": "stdout",
     "text": [
      "Smallest significant increment: 2^(-53)\n"
     ]
    }
   ],
   "source": [
    "x=y=1.0\n",
    "i=0\n",
    "while x+y != x :\n",
    "    y/=2\n",
    "    i+=1\n",
    "print(\"Smallest significant increment: 2^(-%d)\"%i)\n"
   ]
  },
  {
   "cell_type": "markdown",
   "metadata": {},
   "source": [
    "5\\. Write a function that takes in input three parameters $a$, $b$ and $c$ and prints out the two solutions to the quadratic equation $ax^2+bx+c=0$ using the standard formula:\n",
    "$$\n",
    "x=\\frac{-b\\pm\\sqrt{b^2-4ac}}{2a}\n",
    "$$\n",
    "\n",
    "(a) use the program to compute the solution for $a=0.001$, $b=1000$ and $c=0.001$\n",
    "\n",
    "(b) re-express the standard solution formula by multiplying top and bottom by $-b\\mp\\sqrt{b^2-4ac}$ and again find the solution for $a=0.001$, $b=1000$ and $c=0.001$. How does it compare with what previously obtained? Why?\n",
    "\n",
    "(c) write a function that compute the roots of a quadratic equation accurately in all cases"
   ]
  },
  {
   "cell_type": "code",
   "execution_count": 55,
   "metadata": {},
   "outputs": [
    {
     "output_type": "stream",
     "name": "stdout",
     "text": [
      "(-9.999894245993346e-07, -999999.999999)\n\n (-499999.9999995, -5.0000528775525286e+17)\n"
     ]
    }
   ],
   "source": [
    "from math import sqrt\n",
    "\n",
    "def quad_eq_sol(a,b,c) :\n",
    "    x1=(-b+sqrt(b**2-4*a*c))/(2*a)\n",
    "    x2=(-b-sqrt(b**2-4*a*c))/(2*a)\n",
    "    return x1,x2\n",
    "\n",
    "print(quad_eq_sol(0.001,1000,0.001))\n",
    "\n",
    "def quad_eq_sol2(a,b,c) :\n",
    "    x1=(2*b**2-4*a*c)/(2*a*(-b-sqrt(b**2-4*a*c)))\n",
    "    x2=(2*b**2-4*a*c)/(2*a*(-b+sqrt(b**2-4*a*c)))\n",
    "    return x1,x2\n",
    "\n",
    "print(\"\\n\",quad_eq_sol2(0.001,1000,0.001))"
   ]
  },
  {
   "cell_type": "markdown",
   "metadata": {},
   "source": [
    "6\\. Write a program that implements the function $f(x)=x(x−1)$\n",
    "\n",
    "(a) Calculate the derivative of the function at the point $x = 1$ using the derivative definition:\n",
    "\n",
    "$$\n",
    "\\frac{{\\rm d}f}{{\\rm d}x} = \\lim_{\\delta\\to0} \\frac{f(x+\\delta)-f(x)}{\\delta}\n",
    "$$\n",
    "\n",
    "with $\\delta = 10^{−2}$. Calculate the true value of the same derivative analytically and compare with the answer your program gives. The two will not agree perfectly. Why not?\n",
    "\n",
    "(b) Repeat the calculation for $\\delta = 10^{−4}, 10^{−6}, 10^{−8}, 10^{−10}, 10^{−12}$ and $10^{−14}$. How does the accuracy scales with $\\delta$?"
   ]
  },
  {
   "cell_type": "markdown",
   "metadata": {},
   "source": [
    "7\\. Consider the integral of the semicircle of radius 1:\n",
    "$$\n",
    "I=\\int_{-1}^{1} \\sqrt(1-x^2) {\\rm d}x\n",
    "$$\n",
    "which it's known to be $I=\\frac{\\pi}{2}=1.57079632679...$.\n",
    "Alternatively we can use the Riemann definition of the integral:\n",
    "$$\n",
    "I=\\lim_{N\\to\\infty} \\sum_{k=1}^{N} h y_k \n",
    "$$\n",
    "\n",
    "with $h=2/N$ the width of each of the $N$ slices the domain is divided into and where\n",
    "$y_k$ is the value of the function at the $k-$th slice.\n",
    "\n",
    "(a) Write a programe to compute the integral with $N=100$. How does the result compares to the true value?\n",
    "\n",
    "(b) How much can $N$ be increased if the computation needs to be run in less than a second? What is the gain in running it for 1 minute? \n"
   ]
  },
  {
   "cell_type": "code",
   "execution_count": null,
   "metadata": {},
   "outputs": [],
   "source": []
  }
 ],
 "metadata": {
  "kernelspec": {
   "display_name": "Python 3",
   "language": "python",
   "name": "python3"
  },
  "language_info": {
   "codemirror_mode": {
    "name": "ipython",
    "version": 3
   },
   "file_extension": ".py",
   "mimetype": "text/x-python",
   "name": "python",
   "nbconvert_exporter": "python",
   "pygments_lexer": "ipython3",
   "version": "3.8.3-final"
  }
 },
 "nbformat": 4,
 "nbformat_minor": 2
}