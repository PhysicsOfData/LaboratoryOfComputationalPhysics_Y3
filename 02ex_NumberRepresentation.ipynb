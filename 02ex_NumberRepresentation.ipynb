{
 "cells": [
  {
   "cell_type": "markdown",
   "metadata": {},
   "source": [
    "1\\. Write a function that converts number representation (bin<->dec<->hex)"
   ]
  },
  {
   "cell_type": "code",
   "execution_count": 1,
   "metadata": {},
   "outputs": [
    {
     "name": "stdout",
     "output_type": "stream",
     "text": [
      "0b1010\n",
      "0xa\n",
      "22\n",
      "0x16\n",
      "4095\n",
      "0b111111111111\n"
     ]
    }
   ],
   "source": [
    "def hex_digit(s): \n",
    "    m = 0\n",
    "    if len(s) != 4:\n",
    "        raise Exception \n",
    "    for l, n in zip(s, [1,2,4,8]): \n",
    "        if bool(int(l)): \n",
    "            m += n\n",
    "    if m == 10:\n",
    "        return 'a' \n",
    "    elif m == 11:\n",
    "        return 'b'\n",
    "    elif m == 12:\n",
    "        return 'c'\n",
    "    elif m == 13:\n",
    "        return 'd' \n",
    "    elif m == 14: \n",
    "        return 'e' \n",
    "    elif m == 15: \n",
    "        return 'f' \n",
    "    else:\n",
    "        return str(m)\n",
    "\n",
    "def dec_digit(d): \n",
    "    if d == 'f': \n",
    "        return 15 \n",
    "    elif d == 'e': \n",
    "        return 14 \n",
    "    elif d == 'd': \n",
    "        return 13 \n",
    "    elif d == 'c': \n",
    "        return 12 \n",
    "    elif d == 'b': \n",
    "        return 11 \n",
    "    elif d == 'a': \n",
    "        return 10 \n",
    "    else: \n",
    "        return(int(d)) \n",
    "\n",
    "def dec_to_bin(x):\n",
    "    x = int(x)\n",
    "    x_rapr = []\n",
    "    while x != 0:\n",
    "        x_rapr.append(str(x%2))\n",
    "        x = x//2\n",
    "    s = ''\n",
    "    for i in x_rapr:\n",
    "        s += i\n",
    "    return \"0b\" + s[::-1]\n",
    "        \n",
    "def bin_to_hex(x):\n",
    "    x = str(x)\n",
    "    x = x[:1:-1]\n",
    "    x_rapr = []\n",
    "    i = 0\n",
    "    while i < len(x):\n",
    "        if i >= len(x)-4:\n",
    "            digit = x[i:]\n",
    "            n = len(digit)\n",
    "            digit = digit + '0'*(4-n)\n",
    "            x_rapr.append(hex_digit(digit))\n",
    "            i += 4\n",
    "        else:\n",
    "            digit = x[i:i+4]\n",
    "            x_rapr.append(hex_digit(digit))\n",
    "            i += 4\n",
    "    x = ''\n",
    "    for s in x_rapr:\n",
    "        x = str(s) + x \n",
    "    return '0x' + x\n",
    "\n",
    "def hex_to_dec(x):\n",
    "    x = x[2:]\n",
    "    n = len(x)\n",
    "    x_rapr = 0\n",
    "    for i in x:\n",
    "        x_rapr += dec_digit(i)*16**(n-1)\n",
    "        n -= 1\n",
    "    return x_rapr\n",
    "    \n",
    "def convert(x, origin = 'dec', target = 'bin'):\n",
    "    state = origin\n",
    "    if state == 'dec':\n",
    "        x = dec_to_bin(x)\n",
    "        state = 'bin'\n",
    "        if target == 'bin':\n",
    "            return x\n",
    "    if state == 'bin':\n",
    "        x = bin_to_hex(x)\n",
    "        state = 'hex'\n",
    "        if target == 'hex':\n",
    "            return x\n",
    "    if state == 'hex':\n",
    "        x = hex_to_dec(x)\n",
    "        state = 'dec'\n",
    "        if target == 'dec':\n",
    "            return x\n",
    "    if state == 'dec':\n",
    "        x = dec_to_bin(x)\n",
    "        state = 'bin'\n",
    "        if target == 'bin':\n",
    "            return x    \n",
    "    if state == 'bin':\n",
    "        x = bin_to_hex(x)\n",
    "        state = 'hex'\n",
    "        if target == 'hex':\n",
    "            return x\n",
    "        \n",
    "print(convert(10))\n",
    "print(convert(10, 'dec', 'hex'))\n",
    "print(convert('0b10110', 'bin', 'dec'))\n",
    "print(convert('0b10110', 'bin', 'hex'))\n",
    "print(convert('0xfff', 'hex', 'dec'))\n",
    "print(convert('0xfff', 'hex', 'bin'))"
   ]
  },
  {
   "cell_type": "markdown",
   "metadata": {},
   "source": [
    "2\\. Write a function that converts a 32 bit word into a single precision floating point (i.e. interprets the various bits as sign, mantissa and exponent)"
   ]
  },
  {
   "cell_type": "code",
   "execution_count": null,
   "metadata": {},
   "outputs": [],
   "source": [
    "n = '0b01100011011010001111011010101111'\n",
    "\n",
    "def to_float(word):\n",
    "    word = n[2:]\n",
    "    sgn = word[0]\n",
    "    exp = '0b' + word[1:9]\n",
    "    mantissa = word[9:]\n",
    "    i = 0\n",
    "    j = 0\n",
    "    for k in mantissa:\n",
    "        j += 1\n",
    "        i += int(k)*2**-j\n",
    "    exp = convert(exp, 'bin', 'dec') -127\n",
    "    if sgn == '0':\n",
    "        sgn = 1\n",
    "    elif sgn == '1':\n",
    "        sgn = -1\n",
    "    return sgn*i*pow(2, exp-127)\n",
    "\n",
    "to_float(n)"
   ]
  },
  {
   "cell_type": "markdown",
   "metadata": {},
   "source": [
    "3\\. Write a program to determine the underflow and overflow limits (within a factor of 2) for python on your computer. \n",
    "\n",
    "**Tips**: define two variables inizialized to 1 and halve/double them enough time to exceed the under/over-flow limits  "
   ]
  },
  {
   "cell_type": "code",
   "execution_count": 2,
   "metadata": {},
   "outputs": [
    {
     "name": "stdout",
     "output_type": "stream",
     "text": [
      "The number before the overflow is 8.98846567431158e+307\n",
      "The number before the underflow is 5e-324\n"
     ]
    }
   ],
   "source": [
    "x = 1.0\n",
    "while True:\n",
    "    y = x\n",
    "    x *= 2\n",
    "    if x == float('inf'):\n",
    "        print(\"The number before the overflow is {}\".format(y))\n",
    "        break\n",
    "        \n",
    "x = 1.0\n",
    "while True:\n",
    "    y = x\n",
    "    x /= 2\n",
    "    if x == 0:\n",
    "        print(\"The number before the underflow is {}\".format(y))\n",
    "        break"
   ]
  },
  {
   "cell_type": "markdown",
   "metadata": {},
   "source": [
    "4\\. Write a program to determine the machine precision\n",
    "\n",
    "**Tips**: define a new variable by adding a smaller and smaller value (proceeding similarly to prob. 2) to an original variable and check the point where the two are the same "
   ]
  },
  {
   "cell_type": "code",
   "execution_count": 3,
   "metadata": {},
   "outputs": [
    {
     "name": "stdout",
     "output_type": "stream",
     "text": [
      "The machine precision is 2.220446049250313e-16\n"
     ]
    }
   ],
   "source": [
    "x = 1.0\n",
    "y = 1.0\n",
    "\n",
    "while True:\n",
    "    x /= 2\n",
    "    if y + x/2 == y:\n",
    "        print(\"The machine precision is {}\".format(x))\n",
    "        break"
   ]
  },
  {
   "cell_type": "markdown",
   "metadata": {},
   "source": [
    "5\\. Write a function that takes in input three parameters $a$, $b$ and $c$ and prints out the two solutions to the quadratic equation $ax^2+bx+c=0$ using the standard formula:\n",
    "$$\n",
    "x=\\frac{-b\\pm\\sqrt{b^2-4ac}}{2a}\n",
    "$$\n",
    "\n",
    "(a) use the program to compute the solution for $a=0.001$, $b=1000$ and $c=0.001$\n",
    "\n",
    "(b) re-express the standard solution formula by multiplying top and bottom by $-b\\mp\\sqrt{b^2-4ac}$ and again find the solution for $a=0.001$, $b=1000$ and $c=0.001$. How does it compare with what previously obtained? Why?\n",
    "\n",
    "(c) write a function that compute the roots of a quadratic equation accurately in all cases"
   ]
  },
  {
   "cell_type": "code",
   "execution_count": 4,
   "metadata": {},
   "outputs": [
    {
     "name": "stdout",
     "output_type": "stream",
     "text": [
      "x1: -9.999894245993346e-07\n",
      "x2: -999999.999999\n",
      "x1: -1.000000000001e-06\n",
      "x2: -1000010.5755125057\n",
      "x1: -1.00000761449337e-06\n",
      "x2: -999999.999999\n"
     ]
    }
   ],
   "source": [
    "import math as m\n",
    "\n",
    "def roots(a, b, c):\n",
    "    return (-b+m.sqrt(pow(b,2)-4*a*c))/(2*a), (-b-m.sqrt(pow(b,2)-4*a*c))/(2*a) \n",
    "\n",
    "def roots2(a, b, c):\n",
    "    return (-2*c)/(b+m.sqrt(pow(b,2)-4*a*c)), (2*c)/(-b+m.sqrt(pow(b,2)-4*a*c)) \n",
    "\n",
    "def roots3(a, b, c):\n",
    "    return ((-b)/(2*a))+(m.sqrt(pow(b,2)-4*a*c)/(2*a)), (-b/(2*a))-(m.sqrt(pow(b,2)-4*a*c)/(2*a)) \n",
    "\n",
    "\n",
    "x1, x2 = roots(0.001, 1000, 0.001)\n",
    "print('x1: {}'.format(x1))\n",
    "print('x2: {}'.format(x2))\n",
    "x1, x2 = roots2(0.001, 1000, 0.001)\n",
    "print('x1: {}'.format(x1))\n",
    "print('x2: {}'.format(x2))\n",
    "x1, x2 = roots3(0.001, 1000, 0.001)\n",
    "print('x1: {}'.format(x1))\n",
    "print('x2: {}'.format(x2))"
   ]
  },
  {
   "cell_type": "markdown",
   "metadata": {},
   "source": [
    "6\\. Write a program that implements the function $f(x)=x(x−1)$\n",
    "\n",
    "(a) Calculate the derivative of the function at the point $x = 1$ using the derivative definition:\n",
    "\n",
    "$$\n",
    "\\frac{{\\rm d}f}{{\\rm d}x} = \\lim_{\\delta\\to0} \\frac{f(x+\\delta)-f(x)}{\\delta}\n",
    "$$\n",
    "\n",
    "with $\\delta = 10^{−2}$. Calculate the true value of the same derivative analytically and compare with the answer your program gives. The two will not agree perfectly. Why not?\n",
    "\n",
    "(b) Repeat the calculation for $\\delta = 10^{−4}, 10^{−6}, 10^{−8}, 10^{−10}, 10^{−12}$ and $10^{−14}$. How does the accuracy scales with $\\delta$?"
   ]
  },
  {
   "cell_type": "code",
   "execution_count": 11,
   "metadata": {},
   "outputs": [
    {
     "name": "stdout",
     "output_type": "stream",
     "text": [
      "True value: 1\n",
      "Computed value: 1.010000000000001\n"
     ]
    }
   ],
   "source": [
    "import matplotlib.pyplot as plt\n",
    "%matplotlib inline\n",
    "\n",
    "def f(x):\n",
    "    return x*(x-1)\n",
    "\n",
    "def derive(f, x, d):\n",
    "    return (f(x+d)-f(x))/d\n",
    "\n",
    "def df(x):\n",
    "    return 2*x-1\n",
    "    \n",
    "print(\"True value: {}\".format(df(1)) )\n",
    "print(\"Computed value: {}\".format(derive(f, 1, 10**-2)) )"
   ]
  },
  {
   "cell_type": "code",
   "execution_count": 14,
   "metadata": {},
   "outputs": [
    {
     "name": "stdout",
     "output_type": "stream",
     "text": [
      "with delta 0.0001 the derivate result:  1.0000999999998899\n",
      "with delta 1e-06 the derivate result:  1.0000009999177333\n",
      "with delta 1e-08 the derivate result:  1.0000000039225287\n",
      "with delta 1e-10 the derivate result:  1.000000082840371\n",
      "with delta 1e-12 the derivate result:  1.0000889005833413\n",
      "with delta 1e-14 the derivate result:  0.9992007221626509\n"
     ]
    }
   ],
   "source": [
    "derivatives = []\n",
    "deltas = []\n",
    "\n",
    "for esp in range(-4, -15, -2):\n",
    "    deltas.append(pow(10,esp))\n",
    "    derivatives.append(derive(f,1,pow(10,esp)))\n",
    "    \n",
    "for i in range(len(derivatives)):\n",
    "    print(\"with delta {} the derivate result: \".format(deltas[i]), derivatives[i])"
   ]
  },
  {
   "cell_type": "markdown",
   "metadata": {},
   "source": [
    "7\\. Consider the integral of the semicircle of radius 1:\n",
    "$$\n",
    "I=\\int_{-1}^{1} \\sqrt(1-x^2) {\\rm d}x\n",
    "$$\n",
    "which it's known to be $I=\\frac{\\pi}{2}=1.57079632679...$.\n",
    "Alternatively we can use the Riemann definition of the integral:\n",
    "$$\n",
    "I=\\lim_{N\\to\\infty} \\sum_{k=1}^{N} h y_k \n",
    "$$\n",
    "\n",
    "with $h=2/N$ the width of each of the $N$ slices the domain is divided into and where\n",
    "$y_k$ is the value of the function at the $k-$th slice.\n",
    "\n",
    "(a) Write a programe to compute the integral with $N=100$. How does the result compares to the true value?\n",
    "\n",
    "(b) How much can $N$ be increased if the computation needs to be run in less than a second? What is the gain in running it for 1 minute? \n"
   ]
  },
  {
   "cell_type": "code",
   "execution_count": 16,
   "metadata": {},
   "outputs": [
    {
     "name": "stdout",
     "output_type": "stream",
     "text": [
      "Result of the computation:  1.5712827762297947\n",
      "Percentage error:  0.0003\n"
     ]
    }
   ],
   "source": [
    "from functools import reduce\n",
    "\n",
    "def calc_I(N):\n",
    "    def f(x):\n",
    "        return (1-x**2)**0.5\n",
    "    \n",
    "    h = 2/N\n",
    "    xs = []\n",
    "    x = -1 + h/2\n",
    "    while x < 1:\n",
    "        xs.append(x)\n",
    "        x +=  h\n",
    "    ys = [f(x) for x in xs]\n",
    "    As = [h*y for y in ys]\n",
    "    return reduce(lambda y,x: x+y, As)\n",
    "     \n",
    "I = calc_I(100)\n",
    "\n",
    "print(\"Result of the computation: \", I)\n",
    "\n",
    "import numpy as np\n",
    "print(\"Percentage error: \", round(abs((np.pi/2-I)/(np.pi/2)),4))"
   ]
  }
 ],
 "metadata": {
  "kernelspec": {
   "display_name": "Python 3",
   "language": "python",
   "name": "python3"
  },
  "language_info": {
   "codemirror_mode": {
    "name": "ipython",
    "version": 3
   },
   "file_extension": ".py",
   "mimetype": "text/x-python",
   "name": "python",
   "nbconvert_exporter": "python",
   "pygments_lexer": "ipython3",
   "version": "3.7.1"
  }
 },
 "nbformat": 4,
 "nbformat_minor": 2
}
