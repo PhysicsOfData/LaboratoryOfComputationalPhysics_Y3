{
 "cells": [
  {
   "cell_type": "markdown",
   "metadata": {},
   "source": [
    "1\\. Write a function that converts number representation (bin<->dec<->hex)"
   ]
  },
  {
   "cell_type": "code",
   "execution_count": 4,
   "metadata": {},
   "outputs": [
    {
     "name": "stdout",
     "output_type": "stream",
     "text": [
      "[41, '0b101001', '0x29']\n"
     ]
    }
   ],
   "source": [
    "def conv(A):\n",
    "    b = [A]\n",
    "    a_bin = bin(A)\n",
    "    b.append(a_bin)\n",
    "    a_hex = hex(A)\n",
    "    b.append(a_hex)\n",
    "    return b\n",
    "print (conv(41))"
   ]
  },
  {
   "cell_type": "code",
   "execution_count": 9,
   "metadata": {},
   "outputs": [
    {
     "name": "stdout",
     "output_type": "stream",
     "text": [
      "The number 41 in binary representations is: 0b101001 in hexadecimal representations is: 0x29\n"
     ]
    }
   ],
   "source": [
    "def conv2(A):\n",
    "    print('The number',A,'in binary representations is:',bin(A),'in hexadecimal representations is:',hex(A))\n",
    "    return\n",
    "conv2(41)"
   ]
  },
  {
   "cell_type": "markdown",
   "metadata": {},
   "source": [
    "2\\. Write a function that converts a 32 bit word into a single precision floating point (i.e. interprets the various bits as sign, mantissa and exponent)"
   ]
  },
  {
   "cell_type": "code",
   "execution_count": 13,
   "metadata": {},
   "outputs": [
    {
     "name": "stdout",
     "output_type": "stream",
     "text": [
      "32\n",
      "exp = 127\n",
      "Mantissa = 1.0\n",
      "Il numero float è: 1.0\n"
     ]
    }
   ],
   "source": [
    "def convert_to_float(x):\n",
    "    \n",
    "    print(len(x))\n",
    "    \n",
    "    exp = 0\n",
    "    mantissa = 1\n",
    "    bias = 127\n",
    "    s = x[0]\n",
    "    \n",
    "    for i in range(1,9):\n",
    "        exp += int(x[i])*2**(8-i)\n",
    "    print('exp =',exp)\n",
    "        \n",
    "    f = x[9:32]\n",
    "    for i in range(len(f)):\n",
    "        mantissa += int(f[i])*2**(-i-1)\n",
    "    print('Mantissa =',mantissa)\n",
    "    \n",
    "    n = mantissa*2**(exp-bias)\n",
    "    \n",
    "    if int(s)==0:\n",
    "        print('Il numero float è:',n)\n",
    "    if int(s)==1:\n",
    "        print('Il numero float è:',n)\n",
    "    \n",
    "    return\n",
    "\n",
    "convert_to_float(\"00111111100000000000000000000000\")"
   ]
  },
  {
   "cell_type": "markdown",
   "metadata": {},
   "source": [
    "3\\. Write a program to determine the underflow and overflow limits (within a factor of 2) for python on your computer. \n",
    "\n",
    "**Tips**: define two variables inizialized to 1 and halve/double them enough time to exceed the under/over-flow limits  "
   ]
  },
  {
   "cell_type": "code",
   "execution_count": 26,
   "metadata": {},
   "outputs": [
    {
     "name": "stdout",
     "output_type": "stream",
     "text": [
      "sys.float_info(max=1.7976931348623157e+308, max_exp=1024, max_10_exp=308, min=2.2250738585072014e-308, min_exp=-1021, min_10_exp=-307, dig=15, mant_dig=53, epsilon=2.220446049250313e-16, radix=2, rounds=1)\n",
      "Overflow: 8.98846567431158e+307\n",
      "Underflow: 5e-324\n"
     ]
    }
   ],
   "source": [
    "import sys\n",
    "print (sys.float_info)\n",
    "import math\n",
    "\n",
    "under=1.\n",
    "over=1.\n",
    "\n",
    "   \n",
    "while (under != 0):\n",
    "        vunder = under\n",
    "        under = under / 2\n",
    "while (over != math.inf):\n",
    "        vover = over\n",
    "        over *= 2\n",
    "       \n",
    "        \n",
    "print('Overflow:',vover) \n",
    "print('Underflow:',vunder)\n"
   ]
  },
  {
   "cell_type": "markdown",
   "metadata": {},
   "source": [
    "4\\. Write a program to determine the machine precision\n",
    "\n",
    "**Tips**: define a new variable by adding a smaller and smaller value (proceeding similarly to prob. 2) to an original variable and check the point where the two are the same "
   ]
  },
  {
   "cell_type": "code",
   "execution_count": 38,
   "metadata": {},
   "outputs": [
    {
     "name": "stdout",
     "output_type": "stream",
     "text": [
      "5.551115123125783e-17\n"
     ]
    }
   ],
   "source": [
    "x = 1\n",
    "y = 2\n",
    "eps = 1\n",
    "\n",
    "while (x!=y):\n",
    "    \n",
    "    eps2 = eps\n",
    "    y = x + eps\n",
    "    eps /= 2\n",
    "print(eps)\n",
    "\n",
    "\n"
   ]
  },
  {
   "cell_type": "code",
   "execution_count": 37,
   "metadata": {},
   "outputs": [
    {
     "name": "stdout",
     "output_type": "stream",
     "text": [
      "5.551115123125783e-17\n"
     ]
    }
   ],
   "source": [
    "original = 5\n",
    "ma = 1\n",
    "ori = 0\n",
    "while (original != ori):\n",
    "    ori = original\n",
    "    original = original + eps/2\n",
    "    eps = eps/2\n",
    "print(eps)    "
   ]
  },
  {
   "cell_type": "markdown",
   "metadata": {},
   "source": [
    "5\\. Write a function that takes in input three parameters $a$, $b$ and $c$ and prints out the two solutions to the quadratic equation $ax^2+bx+c=0$ using the standard formula:\n",
    "$$\n",
    "x=\\frac{-b\\pm\\sqrt{b^2-4ac}}{2a}\n",
    "$$\n",
    "\n",
    "(a) use the program to compute the solution for $a=0.001$, $b=1000$ and $c=0.001$\n",
    "\n",
    "(b) re-express the standard solution formula by multiplying top and bottom by $-b\\mp\\sqrt{b^2-4ac}$ and again find the solution for $a=0.001$, $b=1000$ and $c=0.001$. How does it compare with what previously obtained? Why?\n",
    "\n",
    "(c) write a function that compute the roots of a quadratic equation accurately in all cases"
   ]
  },
  {
   "cell_type": "code",
   "execution_count": 20,
   "metadata": {},
   "outputs": [
    {
     "name": "stdout",
     "output_type": "stream",
     "text": [
      "0.001\n",
      "1000\n",
      "0.001\n",
      "\n",
      "a)\n",
      "\n",
      "(-9.999894245993346e-07, -999999.999999)\n",
      "\n",
      "b)\n",
      "\n",
      "(-1.000000000001e-06, -1000010.5755125057)\n",
      "\n",
      "risultato più accurato per x2 ma non per x1.\n",
      "\n",
      "c)\n",
      "\n",
      "(-9.999894245993346e-07, -1000010.5755125057)\n",
      "\n",
      "si utilizza la prima espressione per x1 mentre la seconda per x2.\n",
      "\n"
     ]
    }
   ],
   "source": [
    "import math\n",
    "a = float(input())\n",
    "b = float(input())\n",
    "c = float(input())\n",
    "def quadratic(a,b,c):\n",
    "    x1 = (-b + math.sqrt(b*b - 4*a*c))/(2*a)\n",
    "    x2 = (-b - math.sqrt(b*b - 4*a*c))/(2*a) \n",
    "    return (x1,x2)\n",
    "def quadratic2(a,b,c):\n",
    "    x_1 = (2*c)/(-b - math.sqrt(b*b - 4*a*c))\n",
    "    x_2 = (2*c)/(-b + math.sqrt(b*b - 4*a*c))    \n",
    "    return (x_1,x_2)\n",
    "def quadratic3(a,b,c):\n",
    "    x1 = (-b + math.sqrt(b*b - 4*a*c))/(2*a)\n",
    "    x_2 = (2*c)/(-b + math.sqrt(b*b - 4*a*c))\n",
    "    return (x1,x_2)\n",
    "print('\\n''a)''\\n')\n",
    "print(quadratic(a,b,c))\n",
    "print('\\n''b)''\\n')\n",
    "print(quadratic2(a,b,c))\n",
    "print('\\n''risultato più accurato per x2 ma non per x1.')\n",
    "print('\\n''c)''\\n')\n",
    "print(quadratic3(a,b,c))\n",
    "print('\\n''si utilizza la prima espressione per x1 mentre la seconda per x2.''\\n')\n",
    "\n"
   ]
  },
  {
   "cell_type": "markdown",
   "metadata": {},
   "source": [
    "6\\. Write a program that implements the function $f(x)=x(x−1)$\n",
    "\n",
    "(a) Calculate the derivative of the function at the point $x = 1$ using the derivative definition:\n",
    "\n",
    "$$\n",
    "\\frac{{\\rm d}f}{{\\rm d}x} = \\lim_{\\delta\\to0} \\frac{f(x+\\delta)-f(x)}{\\delta}\n",
    "$$\n",
    "\n",
    "with $\\delta = 10^{−2}$. Calculate the true value of the same derivative analytically and compare with the answer your program gives. The two will not agree perfectly. Why not?\n",
    "\n",
    "(b) Repeat the calculation for $\\delta = 10^{−4}, 10^{−6}, 10^{−8}, 10^{−10}, 10^{−12}$ and $10^{−14}$. How does the accuracy scales with $\\delta$?"
   ]
  },
  {
   "cell_type": "code",
   "execution_count": 33,
   "metadata": {},
   "outputs": [
    {
     "name": "stdout",
     "output_type": "stream",
     "text": [
      "a)\n",
      "1.010000000000001\n",
      "b)\n",
      "1.010000000000001\n",
      "1.0000999999998899\n",
      "1.0000009999177333\n",
      "1.0000000039225287\n",
      "1.000000082840371\n",
      "1.0000889005833413\n"
     ]
    }
   ],
   "source": [
    "import math\n",
    "delta = 0.01\n",
    "x = 1\n",
    "\n",
    "def function(x):\n",
    "    f = x*(x-1)\n",
    "    return f\n",
    "def derivative(x,delta):\n",
    "    d = (function(x+delta)-function(x))/delta\n",
    "    return d\n",
    "print('a)')\n",
    "print(derivative(x,delta))\n",
    "d = [pow(10,-2),pow(10,-4),pow(10,-6),pow(10,-8),pow(10,-10),pow(10,-12)]\n",
    "print('b)')\n",
    "for delta in d:\n",
    "    print(derivative(x,delta))\n",
    "    "
   ]
  },
  {
   "cell_type": "markdown",
   "metadata": {},
   "source": [
    "7\\. Consider the integral of the semicircle of radius 1:\n",
    "$$\n",
    "I=\\int_{-1}^{1} \\sqrt(1-x^2) {\\rm d}x\n",
    "$$\n",
    "which it's known to be $I=\\frac{\\pi}{2}=1.57079632679...$.\n",
    "Alternatively we can use the Riemann definition of the integral:\n",
    "$$\n",
    "I=\\lim_{N\\to\\infty} \\sum_{k=1}^{N} h y_k \n",
    "$$\n",
    "\n",
    "with $h=2/N$ the width of each of the $N$ slices the domain is divided into and where\n",
    "$y_k$ is the value of the function at the $k-$th slice.\n",
    "\n",
    "(a) Write a programe to compute the integral with $N=100$. How does the result compares to the true value?\n",
    "\n",
    "(b) How much can $N$ be increased if the computation needs to be run in less than a second? What is the gain in running it for 1 minute? \n"
   ]
  },
  {
   "cell_type": "code",
   "execution_count": 4,
   "metadata": {},
   "outputs": [
    {
     "name": "stdout",
     "output_type": "stream",
     "text": [
      "a)\n",
      "risultato integrale: 1.5802085158895236\n",
      "risultato reale: 1.5707963267948966\n",
      "differenza: 0.009412189094627044 \n",
      "b)\n",
      "In un minuto si ha: 1.5707963517924732 in un secondo: 1.5708000263075346 il guadagno è: 3.674515061335981e-06\n"
     ]
    }
   ],
   "source": [
    "import numpy as np\n",
    "import time\n",
    "N = 100\n",
    "\n",
    "def yk(x):\n",
    "    y = np.sqrt(1-x**2)\n",
    "    return y \n",
    "def integral(N):\n",
    "    h = 2/N\n",
    "    I = 0\n",
    "    for k in range(N):\n",
    "        I += h*yk(k/N)        \n",
    "    return I\n",
    "print('a)\\nrisultato integrale:',integral(100))\n",
    "print('risultato reale:',np.pi/2)\n",
    "print('differenza:',integral(100)-np.pi/2,'\\nb)')\n",
    "#%timeit integral(100000)\n",
    "#start_time = time.process_time()\n",
    "#un minuto\n",
    "#print(\"The result for one minute is\",integral(40000000))\n",
    "#un secondo\n",
    "#print(\"The result for one second is\",integral(270000))\n",
    "#print(\"--- %s seconds ---\" % (time.process_time() - start_time))\n",
    "m = integral(40000000)\n",
    "s = integral(270000)\n",
    "diff = (s-m)\n",
    "print('In un minuto si ha:',m,'in un secondo:',s,'il guadagno è:',diff)"
   ]
  },
  {
   "cell_type": "code",
   "execution_count": null,
   "metadata": {},
   "outputs": [],
   "source": []
  }
 ],
 "metadata": {
  "kernelspec": {
   "display_name": "Python 3",
   "language": "python",
   "name": "python3"
  },
  "language_info": {
   "codemirror_mode": {
    "name": "ipython",
    "version": 3
   },
   "file_extension": ".py",
   "mimetype": "text/x-python",
   "name": "python",
   "nbconvert_exporter": "python",
   "pygments_lexer": "ipython3",
   "version": "3.8.3"
  }
 },
 "nbformat": 4,
 "nbformat_minor": 2
}
