{
 "cells": [
  {
   "cell_type": "markdown",
   "metadata": {},
   "source": [
    "1\\. Write a function that converts number representation (bin<->dec<->hex)"
   ]
  },
  {
   "cell_type": "code",
   "execution_count": 25,
   "metadata": {},
   "outputs": [
    {
     "name": "stdout",
     "output_type": "stream",
     "text": [
      "('0b1010', 10, '0xa')\n"
     ]
    }
   ],
   "source": [
    "def convert(number):\n",
    "    if(\"0b\" in str(number)): var = int(var,2)\n",
    "    elif(\"0x\" in str(number)): var = int(var,16)\n",
    "    else: var = number\n",
    "    return bin(var), var, hex(var)\n",
    "\n",
    "print(convert(10))"
   ]
  },
  {
   "cell_type": "markdown",
   "metadata": {},
   "source": [
    "2\\. Write a function that converts a 32 bit word into a single precision floating point (i.e. interprets the various bits as sign, mantissa and exponent)"
   ]
  },
  {
   "cell_type": "code",
   "execution_count": 64,
   "metadata": {},
   "outputs": [],
   "source": [
    "def wordtoSPFP(a):\n",
    "    sign = -1\n",
    "    if int(a[0]) == 0:\n",
    "        sign = 1\n",
    "    exponent = int(a[1:9],2)\n",
    "    mantissa = 0\n",
    "    for i in range(23):\n",
    "        mantissa += int(a[9+i])*2**(-(i+1))\n",
    "    mantissa = 1 + mantissa\n",
    "    print(sign)\n",
    "    return (sign)*mantissa*2**(exponent-127)"
   ]
  },
  {
   "cell_type": "code",
   "execution_count": 65,
   "metadata": {
    "scrolled": true
   },
   "outputs": [
    {
     "name": "stdout",
     "output_type": "stream",
     "text": [
      "1\n"
     ]
    },
    {
     "data": {
      "text/plain": [
       "1.316553672920962e-36"
      ]
     },
     "execution_count": 65,
     "metadata": {},
     "output_type": "execute_result"
    }
   ],
   "source": [
    "a = \"00000011111000000000000000000000\"\n",
    "wordtoSPFP(a)"
   ]
  },
  {
   "cell_type": "markdown",
   "metadata": {},
   "source": [
    "3\\. Write a program to determine the underflow and overflow limits (within a factor of 2) for python on your computer. \n",
    "\n",
    "**Tips**: define two variables inizialized to 1 and halve/double them enough time to exceed the under/over-flow limits  "
   ]
  },
  {
   "cell_type": "code",
   "execution_count": null,
   "metadata": {},
   "outputs": [],
   "source": [
    "a = 1\n",
    "while True:\n",
    "    try:\n",
    "        a = 2*a\n",
    "    except:\n",
    "        print(\"a=\",a,\" is max vaule\")\n",
    "\n",
    "b = 1        \n",
    "while True:\n",
    "    try:\n",
    "        b = b/2\n",
    "    except:\n",
    "        print(\"a=\",b,\" is max vaule\")\n"
   ]
  },
  {
   "cell_type": "markdown",
   "metadata": {},
   "source": [
    "4\\. Write a program to determine the machine precision\n",
    "\n",
    "**Tips**: define a new variable by adding a smaller and smaller value (proceeding similarly to prob. 2) to an original variable and check the point where the two are the same "
   ]
  },
  {
   "cell_type": "code",
   "execution_count": 5,
   "metadata": {},
   "outputs": [
    {
     "name": "stdout",
     "output_type": "stream",
     "text": [
      "not equal\n",
      "not equal\n",
      "equal\n"
     ]
    }
   ],
   "source": [
    "a = 7\n",
    "\n",
    "for e in [14,15,16]: \n",
    "    if a == (7+1.0*10**(-e)):\n",
    "        print (\"equal\")\n",
    "    else:\n",
    "        print(\"not equal\")"
   ]
  },
  {
   "cell_type": "markdown",
   "metadata": {},
   "source": [
    "5\\. Write a function that takes in input three parameters $a$, $b$ and $c$ and prints out the two solutions to the quadratic equation $ax^2+bx+c=0$ using the standard formula:\n",
    "$$\n",
    "x=\\frac{-b\\pm\\sqrt{b^2-4ac}}{2a}\n",
    "$$\n",
    "\n",
    "(a) use the program to compute the solution for $a=0.001$, $b=1000$ and $c=0.001$\n",
    "\n",
    "(b) re-express the standard solution formula by multiplying top and bottom by $-b\\mp\\sqrt{b^2-4ac}$ and again find the solution for $a=0.001$, $b=1000$ and $c=0.001$. How does it compare with what previously obtained? Why?\n",
    "\n",
    "(c) write a function that compute the roots of a quadratic equation accurately in all cases"
   ]
  },
  {
   "cell_type": "code",
   "execution_count": 1,
   "metadata": {},
   "outputs": [
    {
     "name": "stdout",
     "output_type": "stream",
     "text": [
      "(-9.999894245993346e-07, -999999.999999)\n",
      "(-9.999894245993346e-07, -999999.999999)\n"
     ]
    }
   ],
   "source": [
    "import math as m\n",
    "def quadraticSol(a,b,c):\n",
    "    x1 = (-b+m.sqrt(b*b-4*a*c))/(2*a)\n",
    "    x2 = (-b-m.sqrt(b*b-4*a*c))/(2*a)\n",
    "    return x1, x2\n",
    "\n",
    "print(quadraticSol(0.001,1000,0.001))\n",
    "\n",
    "def quadraticSol2(a,b,c):\n",
    "    x1 = (-b+m.sqrt(b*b-4*a*c))/(2*a)*(-b+m.sqrt(b*b-4*a*c))/(-b+m.sqrt(b*b-4*a*c))\n",
    "    x2 = (-b-m.sqrt(b*b-4*a*c))/(2*a)*(-b-m.sqrt(b*b-4*a*c))/(-b-m.sqrt(b*b-4*a*c))\n",
    "    return x1, x2\n",
    "\n",
    "print(quadraticSol2(0.001,1000,0.001))"
   ]
  },
  {
   "cell_type": "markdown",
   "metadata": {},
   "source": [
    "6\\. Write a program that implements the function $f(x)=x(x−1)$\n",
    "\n",
    "(a) Calculate the derivative of the function at the point $x = 1$ using the derivative definition:\n",
    "\n",
    "$$\n",
    "\\frac{{\\rm d}f}{{\\rm d}x} = \\lim_{\\delta\\to0} \\frac{f(x+\\delta)-f(x)}{\\delta}\n",
    "$$\n",
    "\n",
    "with $\\delta = 10^{−2}$. Calculate the true value of the same derivative analytically and compare with the answer your program gives. The two will not agree perfectly. Why not?\n",
    "\n",
    "(b) Repeat the calculation for $\\delta = 10^{−4}, 10^{−6}, 10^{−8}, 10^{−10}, 10^{−12}$ and $10^{−14}$. How does the accuracy scales with $\\delta$?"
   ]
  },
  {
   "cell_type": "code",
   "execution_count": 9,
   "metadata": {},
   "outputs": [
    {
     "name": "stdout",
     "output_type": "stream",
     "text": [
      "1.010000000000001\n"
     ]
    },
    {
     "data": {
      "text/plain": [
       "[1.0000999999998899,\n",
       " 1.0000009999177333,\n",
       " 1.0000000039225287,\n",
       " 1.000000082840371,\n",
       " 1.0000889005833413,\n",
       " 0.9992007221626509]"
      ]
     },
     "execution_count": 9,
     "metadata": {},
     "output_type": "execute_result"
    }
   ],
   "source": [
    "def f(x): \n",
    "    return x*(x-1)\n",
    "\n",
    "x = 1\n",
    "delta = 10**(-2)\n",
    "print((f(x+delta)-f(x))/delta)\n",
    "[(f(x+10**(-esponente))-f(x))/10**(-esponente) for esponente in range(4,16,2) ]\n"
   ]
  },
  {
   "cell_type": "markdown",
   "metadata": {},
   "source": [
    "7\\. Consider the integral of the semicircle of radius 1:\n",
    "$$\n",
    "I=\\int_{-1}^{1} \\sqrt(1-x^2) {\\rm d}x\n",
    "$$\n",
    "which it's known to be $I=\\frac{\\pi}{2}=1.57079632679...$.\n",
    "Alternatively we can use the Riemann definition of the integral:\n",
    "$$\n",
    "I=\\lim_{N\\to\\infty} \\sum_{k=1}^{N} h y_k \n",
    "$$\n",
    "\n",
    "with $h=2/N$ the width of each of the $N$ slices the domain is divided into and where\n",
    "$y_k$ is the value of the function at the $k-$th slice.\n",
    "\n",
    "(a) Write a programe to compute the integral with $N=100$. How does the result compares to the true value?\n",
    "\n",
    "(b) How much can $N$ be increased if the computation needs to be run in less than a second? What is the gain in running it for 1 minute? \n"
   ]
  },
  {
   "cell_type": "code",
   "execution_count": 1,
   "metadata": {},
   "outputs": [
    {
     "name": "stdout",
     "output_type": "stream",
     "text": [
      "I= 1.569134255549248\n"
     ]
    }
   ],
   "source": [
    "import math as m\n",
    "import numpy as np\n",
    "import timeit\n",
    "N = 100\n",
    "h = 2/N\n",
    "def semicircle(k):\n",
    "    try:\n",
    "        return m.sqrt(1-k*k)\n",
    "    except:\n",
    "        return 0\n",
    "\n",
    "I = sum([h*x for x in list(map(semicircle, np.arange(-1,1+h,h)))])    \n",
    "print(\"I=\", I)\n"
   ]
  },
  {
   "cell_type": "code",
   "execution_count": 6,
   "metadata": {},
   "outputs": [
    {
     "name": "stdout",
     "output_type": "stream",
     "text": [
      "1.10173225799997 N need to be increaset at least to= 3276800  and I= 1.5707963259675852\n"
     ]
    }
   ],
   "source": [
    "exectime = 0\n",
    "N = 100\n",
    "while exectime < 1: \n",
    "    start = timeit.default_timer()\n",
    "    I = sum([(2/N)*x for x in list(map(semicircle, np.arange(-1,1+(2/N),2/N)))])\n",
    "    end = timeit.default_timer()\n",
    "    exectime = end-start\n",
    "    #print(exectime, \" \",N)\n",
    "    N = N*2\n",
    "\n",
    "print(exectime,\"N need to be increaset at least to=\",N,\" and I=\", I)"
   ]
  },
  {
   "cell_type": "code",
   "execution_count": 7,
   "metadata": {},
   "outputs": [],
   "source": [
    "exectime = 0\n",
    "N = 100\n",
    "start = timeit.default_timer()\n",
    "while exectime < 60: \n",
    "    I = sum([(2/N)*x for x in list(map(semicircle, np.arange(-1,1+(2/N),2/N)))])\n",
    "    end = timeit.default_timer()\n",
    "    exectime = end-start\n",
    "    #print(exectime, \" \",N)\n",
    "    N = N*2\n"
   ]
  },
  {
   "cell_type": "code",
   "execution_count": 9,
   "metadata": {},
   "outputs": [
    {
     "data": {
      "text/plain": [
       "(1.5707963253283521, 104857600)"
      ]
     },
     "execution_count": 9,
     "metadata": {},
     "output_type": "execute_result"
    }
   ],
   "source": [
    "I,N"
   ]
  }
 ],
 "metadata": {
  "kernelspec": {
   "display_name": "Python 3",
   "language": "python",
   "name": "python3"
  },
  "language_info": {
   "codemirror_mode": {
    "name": "ipython",
    "version": 3
   },
   "file_extension": ".py",
   "mimetype": "text/x-python",
   "name": "python",
   "nbconvert_exporter": "python",
   "pygments_lexer": "ipython3",
   "version": "3.8.5"
  }
 },
 "nbformat": 4,
 "nbformat_minor": 4
}
