{
 "cells": [
  {
   "cell_type": "markdown",
   "metadata": {},
   "source": [
    "1\\. Write a function that converts number representation (bin<->dec<->hex)"
   ]
  },
  {
   "cell_type": "code",
   "execution_count": 1,
   "metadata": {},
   "outputs": [
    {
     "name": "stdout",
     "output_type": "stream",
     "text": [
      "65\n",
      "0xc\n",
      "0b1100\n",
      "0x5\n",
      "Innvalid input!\n",
      "False\n",
      "Conversion not available\n",
      "False\n"
     ]
    }
   ],
   "source": [
    "#from: starting representation\n",
    "#end: ending representation\n",
    "#2 = bin, 10 = dec, 16 = hex\n",
    "\n",
    "def from2end(x, f, e):\n",
    "    \n",
    "    if(f==e): return x\n",
    "    \n",
    "    available_conv = (2, 10, 16)\n",
    "    if f not in available_conv or e not in available_conv:\n",
    "        print(\"Conversion not available\")\n",
    "        return False\n",
    "    \n",
    "    \n",
    "    try:\n",
    "        if e==10: return int(x,f)\n",
    "        if f==10 and e==2: return bin(x)\n",
    "        if f==10 and e==16: return hex(x)\n",
    "        if f==2 and e==16: return hex(int(x,2))\n",
    "        if e==16 and f==2: return bin(int(x,16))\n",
    "        \n",
    "    except:\n",
    "        print(\"Innvalid input!\")\n",
    "        return False\n",
    "    \n",
    "\n",
    "print(from2end(\"0x41\", 16, 10))\n",
    "print(from2end(12, 10, 16))\n",
    "print(from2end(12, 10, 2))\n",
    "print(from2end(\"0b101\", 2, 16))\n",
    "print(from2end(\"123\",2,16))\n",
    "print(from2end(\"123\",8,16))"
   ]
  },
  {
   "cell_type": "markdown",
   "metadata": {},
   "source": [
    "2\\. Write a function that converts a 32 bit word into a single precision floating point (i.e. interprets the various bits as sign, mantissa and exponent)"
   ]
  },
  {
   "cell_type": "code",
   "execution_count": 2,
   "metadata": {},
   "outputs": [
    {
     "name": "stdout",
     "output_type": "stream",
     "text": [
      "-893.641845703125\n"
     ]
    }
   ],
   "source": [
    "def bit32_To_float(iw):\n",
    "    bias = 127\n",
    "    sign = iw >> 31 & 1\n",
    "    exp = iw >> 23 & 2**8-1\n",
    "    mantissa = 1\n",
    "    for i in range(23): mantissa += (iw >> (i) & 1)*(2**(i-23))\n",
    "\n",
    "    return -1**sign*2**(exp-bias)*mantissa\n",
    "\n",
    "\n",
    "input_word = 0b11000100010111110110100100010100\n",
    "\n",
    "print(bit32_To_float(input_word))"
   ]
  },
  {
   "cell_type": "markdown",
   "metadata": {},
   "source": [
    "3\\. Write a program to determine the underflow and overflow limits (within a factor of 2) for python on your computer. \n",
    "\n",
    "**Tips**: define two variables inizialized to 1 and halve/double them enough time to exceed the under/over-flow limits  "
   ]
  },
  {
   "cell_type": "code",
   "execution_count": 3,
   "metadata": {},
   "outputs": [
    {
     "name": "stdout",
     "output_type": "stream",
     "text": [
      "sys.float_info(max=1.7976931348623157e+308, max_exp=1024, max_10_exp=308, min=2.2250738585072014e-308, min_exp=-1021, min_10_exp=-307, dig=15, mant_dig=53, epsilon=2.220446049250313e-16, radix=2, rounds=1)\n",
      "sys.int_info(bits_per_digit=30, sizeof_digit=4)\n"
     ]
    }
   ],
   "source": [
    "#underflow = 1\n",
    "#i=1\n",
    "#exit = False\n",
    "#while(not exit):\n",
    "\n",
    "#    try:\n",
    "#        underflow = underflow/2\n",
    "#    except:\n",
    "#        print(\"Underflow =\", 1/(2*(i-1)))\n",
    "#        exit = True\n",
    "#    \n",
    "#    i += 1\n",
    "#    \n",
    "#\n",
    "\n",
    "#overflow = 1\n",
    "#i=1\n",
    "#exit = False\n",
    "#while(not exit):\n",
    "#\n",
    "#    try:\n",
    "#        overflow = overflow*2\n",
    "#    except:\n",
    "#        print(\"Overflow =\", (2*(i-1)))\n",
    "#        exit = True\n",
    "#    \n",
    "#    i += 1\n",
    "\n",
    "import sys\n",
    "\n",
    "print(sys.float_info)\n",
    "print(sys.int_info)"
   ]
  },
  {
   "cell_type": "markdown",
   "metadata": {},
   "source": [
    "4\\. Write a program to determine the machine precision\n",
    "\n",
    "**Tips**: define a new variable by adding a smaller and smaller value (proceeding similarly to prob. 2) to an original variable and check the point where the two are the same "
   ]
  },
  {
   "cell_type": "code",
   "execution_count": 4,
   "metadata": {},
   "outputs": [
    {
     "name": "stdout",
     "output_type": "stream",
     "text": [
      "5.1\n",
      "5.01\n",
      "5.001\n",
      "5.0001\n",
      "5.00001\n",
      "5.000001\n",
      "5.0000001\n",
      "5.00000001\n",
      "5.000000001\n",
      "5.0000000001\n",
      "5.00000000001\n",
      "5.000000000001\n",
      "5.0000000000001\n",
      "5.00000000000001\n",
      "5.000000000000001\n",
      "5.0\n",
      "Machine Precision = 10^- 15\n"
     ]
    }
   ],
   "source": [
    "i = 0\n",
    "n = 5\n",
    "exit = False\n",
    "while(not exit):\n",
    "    i += 1\n",
    "    m = n + 10**-i\n",
    "    print(n + 10**-i)\n",
    "    if(m == n): \n",
    "        print(\"Machine Precision = 10^-\", i-1)\n",
    "        exit = True"
   ]
  },
  {
   "cell_type": "markdown",
   "metadata": {},
   "source": [
    "5\\. Write a function that takes in input three parameters $a$, $b$ and $c$ and prints out the two solutions to the quadratic equation $ax^2+bx+c=0$ using the standard formula:\n",
    "$$\n",
    "x=\\frac{-b\\pm\\sqrt{b^2-4ac}}{2a}\n",
    "$$\n",
    "\n",
    "(a) use the program to compute the solution for $a=0.001$, $b=1000$ and $c=0.001$\n",
    "\n",
    "(b) re-express the standard solution formula by multiplying top and bottom by $-b\\mp\\sqrt{b^2-4ac}$ and again find the solution for $a=0.001$, $b=1000$ and $c=0.001$. How does it compare with what previously obtained? Why?\n",
    "\n",
    "(c) write a function that compute the roots of a quadratic equation accurately in all cases"
   ]
  },
  {
   "cell_type": "code",
   "execution_count": 5,
   "metadata": {},
   "outputs": [
    {
     "name": "stdout",
     "output_type": "stream",
     "text": [
      "(-9.999894245993346e-07, -999999.999999)\n",
      "(-9.999894245993346e-07, -999999.9999990001)\n"
     ]
    }
   ],
   "source": [
    "from math import sqrt\n",
    "\n",
    "def a_find_roots(a,b,c):\n",
    "    root1 = (-b + sqrt( b**2 - 4*a*c)) / (2*a)\n",
    "    root2 = (-b - sqrt( b**2 - 4*a*c)) / (2*a)\n",
    "    return (root1, root2)\n",
    "\n",
    "def b_find_roots(a,b,c):\n",
    "    root1 = (-b + sqrt( b**2 - 4*a*c)) * (-b - sqrt( b**2 - 4*a*c)) / ((2*a) * (-b - sqrt( b**2 - 4*a*c)))\n",
    "    root2 = (-b - sqrt( b**2 - 4*a*c)) * (-b + sqrt( b**2 - 4*a*c)) / ((2*a) * (-b + sqrt( b**2 - 4*a*c)))\n",
    "    return (root1, root2)\n",
    "\n",
    "\n",
    "print(a_find_roots(0.001, 1000, 0.001))\n",
    "print(b_find_roots(0.001, 1000, 0.001))"
   ]
  },
  {
   "cell_type": "markdown",
   "metadata": {},
   "source": [
    "6\\. Write a program that implements the function $f(x)=x(x−1)$\n",
    "\n",
    "(a) Calculate the derivative of the function at the point $x = 1$ using the derivative definition:\n",
    "\n",
    "$$\n",
    "\\frac{{\\rm d}f}{{\\rm d}x} = \\lim_{\\delta\\to0} \\frac{f(x+\\delta)-f(x)}{\\delta}\n",
    "$$\n",
    "\n",
    "with $\\delta = 10^{−2}$. Calculate the true value of the same derivative analytically and compare with the answer your program gives. The two will not agree perfectly. Why not?\n",
    "\n",
    "(b) Repeat the calculation for $\\delta = 10^{−4}, 10^{−6}, 10^{−8}, 10^{−10}, 10^{−12}$ and $10^{−14}$. How does the accuracy scales with $\\delta$?"
   ]
  },
  {
   "cell_type": "code",
   "execution_count": 6,
   "metadata": {},
   "outputs": [
    {
     "name": "stdout",
     "output_type": "stream",
     "text": [
      "12\n",
      "7\n",
      "7.0099999999998275\n",
      "[7.0099999999998275, 7.0001000000097235, 7.000001000179168, 7.000000046275545, 7.000000579182597, 7.000622304076387, 7.283063041541027, 0.0]\n"
     ]
    }
   ],
   "source": [
    "def f(x):\n",
    "    return x*(x+1)\n",
    "\n",
    "def f_prime(x):\n",
    "    return 2*x+1\n",
    "\n",
    "def lim_f(x,i=2):\n",
    "    delta = 10**-i\n",
    "    return (f(x+delta)-f(x))/delta\n",
    "\n",
    "x=3\n",
    "\n",
    "print(f(x))\n",
    "print(f_prime(x))\n",
    "print(lim_f(x))\n",
    "\n",
    "#the two solutions disagree because delta isn't tending to zero\n",
    "\n",
    "\n",
    "sol = [lim_f(x,i) for i in range(2,18,2)]\n",
    "print(sol)\n",
    "\n",
    "#the solutions differs due to the machine accuracy when delta tends to zero"
   ]
  },
  {
   "cell_type": "markdown",
   "metadata": {},
   "source": [
    "7\\. Consider the integral of the semicircle of radius 1:\n",
    "$$\n",
    "I=\\int_{-1}^{1} \\sqrt(1-x^2) {\\rm d}x\n",
    "$$\n",
    "which it's known to be $I=\\frac{\\pi}{2}=1.57079632679...$.\n",
    "Alternatively we can use the Riemann definition of the integral:\n",
    "$$\n",
    "I=\\lim_{N\\to\\infty} \\sum_{k=1}^{N} h y_k \n",
    "$$\n",
    "\n",
    "with $h=2/N$ the width of each of the $N$ slices the domain is divided into and where\n",
    "$y_k$ is the value of the function at the $k-$th slice.\n",
    "\n",
    "(a) Write a programe to compute the integral with $N=100$. How does the result compares to the true value?\n",
    "\n",
    "(b) How much can $N$ be increased if the computation needs to be run in less than a second? What is the gain in running it for 1 minute? \n"
   ]
  },
  {
   "cell_type": "code",
   "execution_count": null,
   "metadata": {},
   "outputs": [
    {
     "name": "stdout",
     "output_type": "stream",
     "text": [
      "With N =  100 , the execution time is:  6.29425048828125e-05  second\n",
      "And I =  1.5602085158895227\n",
      "With N =  3000000 , the execution time is:  0.6009109020233154  second\n",
      "And I =  1.5707959933485702\n"
     ]
    }
   ],
   "source": [
    "from math import sqrt\n",
    "import time\n",
    "\n",
    "def sommation(N):\n",
    "    I = 0\n",
    "    for k in range(1,N):\n",
    "        I += (2/N)*sqrt(1-((k/N)-1)**2)\n",
    "        \n",
    "        \n",
    "    print(\"With N = \", N ,\", the execution time is: \", time.time() - start_time, \" second\")\n",
    "\n",
    "    print(\"And I = \", I)\n",
    "    \n",
    "    return I\n",
    "\n",
    "\n",
    "\n",
    "start_time = time.time();\n",
    "\n",
    "N = 100\n",
    "\n",
    "I_1sec = sommation(N)\n",
    "\n",
    "I_1sec = sommation(N*10**4*3) #exec time less than 1 second\n",
    "\n",
    "I_1min = sommation(N*10**4*300) #exec time less than 1 minute\n",
    "\n",
    "print(\"Gain = \", I_1min - I_1sec)\n",
    "          \n",
    "          \n",
    "#tested on CPU i5-6600"
   ]
  }
 ],
 "metadata": {
  "kernelspec": {
   "display_name": "Python 3",
   "language": "python",
   "name": "python3"
  },
  "language_info": {
   "codemirror_mode": {
    "name": "ipython",
    "version": 3
   },
   "file_extension": ".py",
   "mimetype": "text/x-python",
   "name": "python",
   "nbconvert_exporter": "python",
   "pygments_lexer": "ipython3",
   "version": "3.8.5"
  }
 },
 "nbformat": 4,
 "nbformat_minor": 2
}
