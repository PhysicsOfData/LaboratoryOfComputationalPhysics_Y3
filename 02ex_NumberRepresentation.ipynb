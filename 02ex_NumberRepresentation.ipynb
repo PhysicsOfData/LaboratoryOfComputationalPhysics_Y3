{
 "cells": [
  {
   "cell_type": "markdown",
   "metadata": {},
   "source": [
    "1\\. Write a function that converts number representation (bin<->dec<->hex)"
   ]
  },
  {
   "cell_type": "code",
   "execution_count": null,
   "metadata": {},
   "outputs": [],
   "source": [
    "choice=int(input(\"please enter a number according your choice\" \"\\n\" \n",
    "            \"1- I will use decimal number\" \"\\n\"\n",
    "            \"2- I will use hexadecimal number\" \"\\n\"\n",
    "            \"1- I will use binary number\" \n",
    "            \"\\n\"\"Your choice: \"))\n",
    "            \n",
    "if choice==1:\n",
    "    dec=int(input(\"enter a decimal number\"))\n",
    "    def dec_to_bin(dec):\n",
    "        print(bin(dec), \"in binary.\")\n",
    "    dec_to_bin(dec)\n",
    "\n",
    "    def dec_to_hex(dec):\n",
    "        print(hex(dec), \"in hexadecimal.\")\n",
    "    dec_to_hex(dec)\n",
    "\n",
    "if choice==2:\n",
    "\n",
    "    hex=input(\"enter a hexadecimal number\")\n",
    "    def hex_to_dec(hex):\n",
    "        print(int(hex,16) , \"in decimal\")\n",
    "    hex_to_dec(hex)\n",
    "\n",
    "    def hex_to_bin(hex):\n",
    "        lenght = len(hex) * 4\n",
    "        hex_as_int = int(hex, 16)\n",
    "        hex_as_binary = bin(hex_as_int)\n",
    "        binary = hex_as_binary[2:].zfill(lenght)\n",
    "        print(binary , \"in binary\")\n",
    "    hex_to_bin(hex)\n",
    "    \n",
    "if choice==3:\n",
    "    bin=input(\"enter a binary number\")\n",
    "    def bin_to_dec(bin):\n",
    "        print(int(bin,2) , \"in decimal\")\n",
    "    bin_to_dec(bin)\n",
    "\n",
    "    def bin_to_hex(bin):\n",
    "        decimal = int(bin, 2)\n",
    "        hexa = hex(decimal)\n",
    "        print(hexa , \"in binary\")\n",
    "    bin_to_hex(bin)\n"
   ]
  },
  {
   "cell_type": "markdown",
   "metadata": {},
   "source": [
    "2\\. Write a function that converts a 32 bit word into a single precision floating point (i.e. interprets the various bits as sign, mantissa and exponent)"
   ]
  },
  {
   "cell_type": "code",
   "execution_count": 1,
   "metadata": {},
   "outputs": [
    {
     "ename": "SyntaxError",
     "evalue": "invalid syntax (<ipython-input-1-70dea9cdab6c>, line 4)",
     "output_type": "error",
     "traceback": [
      "\u001b[0;36m  File \u001b[0;32m\"<ipython-input-1-70dea9cdab6c>\"\u001b[0;36m, line \u001b[0;32m4\u001b[0m\n\u001b[0;31m    print struct.unpack('f', struct.pack('I', f))[0]\u001b[0m\n\u001b[0m          ^\u001b[0m\n\u001b[0;31mSyntaxError\u001b[0m\u001b[0;31m:\u001b[0m invalid syntax\n"
     ]
    }
   ],
   "source": []
  },
  {
   "cell_type": "markdown",
   "metadata": {},
   "source": [
    "3\\. Write a program to determine the underflow and overflow limits (within a factor of 2) for python on your computer. \n",
    "\n",
    "**Tips**: define two variables inizialized to 1 and halve/double them enough time to exceed the under/over-flow limits  "
   ]
  },
  {
   "cell_type": "code",
   "execution_count": 2,
   "metadata": {},
   "outputs": [
    {
     "name": "stdout",
     "output_type": "stream",
     "text": [
      "number:  0 undeflow:  0.5 overflow:  2\n",
      "number:  1 undeflow:  0.25 overflow:  4\n",
      "number:  2 undeflow:  0.125 overflow:  8\n",
      "number:  3 undeflow:  0.0625 overflow:  16\n",
      "number:  4 undeflow:  0.03125 overflow:  32\n",
      "number:  5 undeflow:  0.015625 overflow:  64\n",
      "number:  6 undeflow:  0.0078125 overflow:  128\n",
      "number:  7 undeflow:  0.00390625 overflow:  256\n",
      "number:  8 undeflow:  0.001953125 overflow:  512\n",
      "number:  9 undeflow:  0.0009765625 overflow:  1024\n"
     ]
    }
   ],
   "source": [
    "N=10\n",
    "Underflow=1\n",
    "Overflow=1\n",
    "factor=2\n",
    "for n in range(N):\n",
    "    Underflow=Underflow/2\n",
    "    Overflow=Overflow*2\n",
    "    print(\"number: \", n , \"undeflow: \" , Underflow , \"overflow: \",Overflow)"
   ]
  },
  {
   "cell_type": "markdown",
   "metadata": {},
   "source": [
    "4\\. Write a program to determine the machine precision\n",
    "\n",
    "**Tips**: define a new variable by adding a smaller and smaller value (proceeding similarly to prob. 2) to an original variable and check the point where the two are the same "
   ]
  },
  {
   "cell_type": "code",
   "execution_count": 3,
   "metadata": {},
   "outputs": [
    {
     "name": "stdout",
     "output_type": "stream",
     "text": [
      "2 . level = 0.5\n",
      "3 . level = 1.25\n",
      "4 . level = 2.125\n",
      "5 . level = 3.0625\n",
      "6 . level = 4.03125\n",
      "7 . level = 5.015625\n",
      "8 . level = 6.0078125\n",
      "9 . level = 7.00390625\n",
      "10 . level = 8.001953125\n",
      "11 . level = 9.0009765625\n"
     ]
    }
   ],
   "source": [
    "N=10\n",
    "goal=10\n",
    "number=1\n",
    "add=1\n",
    "factor=2\n",
    "count=1\n",
    "for number in range(goal):\n",
    "    add=add/factor\n",
    "    number=number+add\n",
    "    count+=1\n",
    "    print(count, \". level =\" , number)\n"
   ]
  },
  {
   "cell_type": "markdown",
   "metadata": {},
   "source": [
    "5\\. Write a function that takes in input three parameters $a$, $b$ and $c$ and prints out the two solutions to the quadratic equation $ax^2+bx+c=0$ using the standard formula:\n",
    "$$\n",
    "x=\\frac{-b\\pm\\sqrt{b^2-4ac}}{2a}\n",
    "$$\n",
    "\n",
    "(a) use the program to compute the solution for $a=0.001$, $b=1000$ and $c=0.001$\n",
    "\n",
    "(b) re-express the standard solution formula by multiplying top and bottom by $-b\\mp\\sqrt{b^2-4ac}$ and again find the solution for $a=0.001$, $b=1000$ and $c=0.001$. How does it compare with what previously obtained? Why?\n",
    "\n",
    "(c) write a function that compute the roots of a quadratic equation accurately in all cases"
   ]
  },
  {
   "cell_type": "code",
   "execution_count": null,
   "metadata": {},
   "outputs": [],
   "source": [
    "#a)\n",
    "from math import sqrt\n",
    "\n",
    "a = 0.001\n",
    "b = 1000\n",
    "c = 0.001\n",
    "def equation1(a,b,c):\n",
    "\n",
    "    d = ((b**2) - (4*a*c))\n",
    "    x1 = (-b- sqrt(d))/(2*a)\n",
    "    x2 = (-b+ sqrt(d))/(2*a)\n",
    "\n",
    "    print('x1= {} and x2= {}'.format(x1,x2))\n",
    "\n",
    "\n",
    "equation1(a,b,c)\n",
    "\n",
    "#b)\n",
    "\n",
    "def equation2(a,b,c):\n",
    "  \n",
    "    d = ((b**2) - (4*a*c))\n",
    "    mult =((-b- sqrt(d))*(-b + sqrt(d)))\n",
    "    x1 = ((-b- sqrt(d))*mult)/((2*a)*mult)\n",
    "    x2 = ((-b+ sqrt(d))*mult)/((2*a)*mult)\n",
    "\n",
    "    print('x1= {} and x2= {}'.format(x1,x2))\n",
    "equation2(a,b,c)\n",
    "\n",
    "\n",
    "\n",
    "#c)\n",
    "def equation2(a,b,c):\n",
    "    r = ((b**2) - (4*a*c))\n",
    "\n",
    "    if r > 0:\n",
    "        num_roots = 2\n",
    "        x1 = (((-b) - sqrt(r))/(2*a))     \n",
    "        x2 = (((-b) + sqrt(r))/(2*a))\n",
    "        print('x1= {} and x2= {}'.format(x1,x2))\n",
    "    elif r == 0:\n",
    "        num_roots = 1\n",
    "        x = (-b) / 2*a\n",
    "        print(\"x is only root: \", x)\n",
    "    else:\n",
    "        num_roots = 0\n",
    "        print(\"No roots.\")\n",
    "equation2(a,b,c)"
   ]
  },
  {
   "cell_type": "markdown",
   "metadata": {},
   "source": [
    "6\\. Write a program that implements the function $f(x)=x(x−1)$\n",
    "\n",
    "(a) Calculate the derivative of the function at the point $x = 1$ using the derivative definition:\n",
    "\n",
    "$$\n",
    "\\frac{{\\rm d}f}{{\\rm d}x} = \\lim_{\\delta\\to0} \\frac{f(x+\\delta)-f(x)}{\\delta}\n",
    "$$\n",
    "\n",
    "with $\\delta = 10^{−2}$. Calculate the true value of the same derivative analytically and compare with the answer your program gives. The two will not agree perfectly. Why not?\n",
    "\n",
    "(b) Repeat the calculation for $\\delta = 10^{−4}, 10^{−6}, 10^{−8}, 10^{−10}, 10^{−12}$ and $10^{−14}$. How does the accuracy scales with $\\delta$?"
   ]
  },
  {
   "cell_type": "code",
   "execution_count": 15,
   "metadata": {},
   "outputs": [
    {
     "name": "stdout",
     "output_type": "stream",
     "text": [
      "derivative of f(1)= 1.010000000000001\n",
      "derivative of f(1)= 1.000000000000000\n",
      "for h= 0.0001 derivative of f(1)= 1.0000999999998899\n",
      "for h= 1e-06 derivative of f(1)= 1.0000009999177333\n",
      "for h= 1e-08 derivative of f(1)= 1.0000000039225287\n",
      "for h= 1e-10 derivative of f(1)= 1.000000082840371\n",
      "for h= 1e-12 derivative of f(1)= 1.0000889005833413\n",
      "for h= 1e-14 derivative of f(1)= 0.9992007221626509\n"
     ]
    }
   ],
   "source": [
    "#a)\n",
    "##with derivative definition\n",
    "h=0.01\n",
    "def f(x):\n",
    "    val=x*(x-1)\n",
    "    return val\n",
    "def fprime(x):\n",
    "    newval=(f(x+h)-f(x))/h\n",
    "    return newval\n",
    "derivative=fprime(1)\n",
    "print(\"derivative of f(1)=\",derivative)\n",
    "\n",
    "##with sympy\n",
    "import sympy\n",
    "x = sympy.Symbol('x')\n",
    "f = (x*(x-1))\n",
    "\n",
    "#print(\"derivative of f(x)=\",sympy.diff(f,x))\n",
    "from scipy.misc import derivative\n",
    "def f(x):\n",
    "    return x*(x-1)\n",
    "print(\"derivative of f(1)=\",str.format('{0:.15f}', derivative(f,1)))\n",
    "\n",
    "## COMMENT: results are not exactly same. Because 𝛿 is different in two codes.\n",
    "#One of them is 10^(-2), the other one is a constant which is in derivative() method\n",
    "\n",
    "\n",
    "#b)\n",
    "hlist=[10**-4, 10**-6, 10**-8, 10**-10, 10**-12, 10**-14]\n",
    "i=0\n",
    "for i in range(len(hlist)) :\n",
    "    def f(x):\n",
    "        val=x*(x-1)\n",
    "        return val\n",
    "    def fprime(x):\n",
    "        newval=(f(x+hlist[i])-f(x))/hlist[i]\n",
    "        return newval\n",
    "    derivative=fprime(1)\n",
    "    print(\"for h=\",hlist[i],\"derivative of f(1)=\", derivative )\n",
    "\n",
    "## COMMENT: the derivation result changes according to 𝛿 even if 𝛿 is very small number."
   ]
  },
  {
   "cell_type": "markdown",
   "metadata": {},
   "source": [
    "7\\. Consider the integral of the semicircle of radius 1:\n",
    "$$\n",
    "I=\\int_{-1}^{1} \\sqrt(1-x^2) {\\rm d}x\n",
    "$$\n",
    "which it's known to be $I=\\frac{\\pi}{2}=1.57079632679...$.\n",
    "Alternatively we can use the Riemann definition of the integral:\n",
    "$$\n",
    "I=\\lim_{N\\to\\infty} \\sum_{k=1}^{N} h y_k \n",
    "$$\n",
    "\n",
    "with $h=2/N$ the width of each of the $N$ slices the domain is divided into and where\n",
    "$y_k$ is the value of the function at the $k-$th slice.\n",
    "\n",
    "(a) Write a programe to compute the integral with $N=100$. How does the result compares to the true value?\n",
    "\n",
    "(b) How much can $N$ be increased if the computation needs to be run in less than a second? What is the gain in running it for 1 minute? \n"
   ]
  },
  {
   "cell_type": "code",
   "execution_count": null,
   "metadata": {},
   "outputs": [],
   "source": [
    "import sympy as sp\n",
    "from sympy import *\n",
    "x=sp.Symbol('x')\n",
    "func=sp.sqrt(1-x*x)\n",
    "integrate=sp.integrate(func,x)\n",
    "print(integrate)\n",
    "\n",
    "from scipy.integrate import quad\n",
    "def f(x):\n",
    "    return sp.sqrt(1-x*x)\n",
    "    \n",
    "i=quad(f,-1,1)\n",
    "print(\"integration is :\",i[0])"
   ]
  },
  {
   "cell_type": "code",
   "execution_count": null,
   "metadata": {},
   "outputs": [],
   "source": []
  }
 ],
 "metadata": {
  "kernelspec": {
   "display_name": "Python 3",
   "language": "python",
   "name": "python3"
  },
  "language_info": {
   "codemirror_mode": {
    "name": "ipython",
    "version": 3
   },
   "file_extension": ".py",
   "mimetype": "text/x-python",
   "name": "python",
   "nbconvert_exporter": "python",
   "pygments_lexer": "ipython3",
   "version": "3.8.3"
  }
 },
 "nbformat": 4,
 "nbformat_minor": 2
}
