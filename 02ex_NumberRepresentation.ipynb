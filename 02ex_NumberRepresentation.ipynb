{
 "cells": [
  {
   "cell_type": "markdown",
   "metadata": {},
   "source": [
    "1\\. Write a function that converts number representation (bin<->dec<->hex)"
   ]
  },
  {
   "cell_type": "code",
   "execution_count": 8,
   "metadata": {},
   "outputs": [
    {
     "output_type": "stream",
     "name": "stdout",
     "text": [
      "11\n"
     ]
    }
   ],
   "source": [
    "#to convert number representations we can use built-in funcions or directly compute them. In input we can choose the decimal representation of a number. Then to convert it into binary we can divide by two until we have rest zero and get all the remainders during the division\n",
    "try :\n",
    "    number =  int(input(\"choose an integer number:\\n\")) \n",
    "except : print(\"you have not choosen an integer number, try again\\n\")\n",
    "\n",
    "#then decide what we want to get if a binary representation or a hexadeciaml one\n",
    "letter = input(\"write b if you want to convert the number in binary or write h if you want to convert it in hexadecimal\\n\")\n",
    "if letter == 'b' :\n",
    "    binary = []\n",
    "    while number > 0 :\n",
    "        #because when reaching zero the number has ended its series of divisions by two\n",
    "        binary.append(str(number % 2))\n",
    "        #to use the method \"\".join we need an iterable but containing strings objects. Then \"join\" will lead to a string \n",
    "        number = number // 2\n",
    "    print(\"\".join(binary))\n",
    "elif letter == 'h': \n",
    "    hexadecimal = []\n",
    "    while number > 0 :\n",
    "        hexadecimal.append(str(number % 16))\n",
    "        number = number // 16\n",
    "    print(\"\".join(hexadecimal))\n",
    "    #in hexadecimal system numbers from 10 to 15 are capital letters A,B,C,D,E,F so if we put a number less than 16 the program will give number itself and not a letter"
   ]
  },
  {
   "cell_type": "markdown",
   "metadata": {},
   "source": [
    "2\\. Write a function that converts a 32 bit word into a single precision floating point (i.e. interprets the various bits as sign, mantissa and exponent)"
   ]
  },
  {
   "cell_type": "code",
   "execution_count": 46,
   "metadata": {},
   "outputs": [
    {
     "output_type": "stream",
     "name": "stdout",
     "text": [
      "1.0\n3.14159265359\n"
     ]
    }
   ],
   "source": [
    "import struct \n",
    "\n",
    "def bin_to_float(binary) :\n",
    "    return struct.unpack('!f',struct.pack('!I', int(binary, 2)))[0]\n",
    "print(bin_to_float('00111111100000000000000000000000'))\n",
    "    #poichè inizialmente binary è assegnato ad una stringa in memoria è necessario castarlo ad un intero specificando che si tratta però di una rappresentazione binaria. Poi si utilizzano i formati f ed I perchè inizialmente si usa struct.pack su un intero senza segno (sequenza di zero e uno), mentre in secondo luogo lo si vuole trasformare in un float. Il tutto con l'ordine big endian. Per avere come input una word di 64-bits basta cambiare il format da f a d (double) (non proprio guarda sotto).\n",
    "    #Nel secondo argomento di struct.pack devo fornire un numero intero in array di bytes. Inizialmente ho utilizzato int(numero,2) per tradurre in binario il numero intero e struct.pack per \"impacchettarlo\" in una sequenza di bytes, tuttavia potre usare:\n",
    "def bin_to_float_1(binary_1) : \n",
    "    h = int(binary_1, 2).to_bytes(8, byteorder=\"big\") #byteorder = \"big\" mi da la big endianess \n",
    "    return struct.unpack('>d', h)[0]\n",
    "print(bin_to_float_1('0100000000001001001000011111101101010100010001000010111011101010'))\n",
    "#in quest altro modo manualmente compongo la sequenza di bytes a partire dal numero intero. Infatti se prima un intero occupa 4 bytes perchè ho usato il formato 'I' adesso l'ho impacchettato in 8 per avere precisione double nell'unpack che mi restituisce il programma anzichè di 4 di 'f' e quindi un float di 64-bits. Se in questo secondo script metto '>f' e 4 in .to_bytes ottengo lo stesso risultato di prima"
   ]
  },
  {
   "cell_type": "markdown",
   "metadata": {},
   "source": [
    "3\\. Write a program to determine the underflow and overflow limits (within a factor of 2) for python on your computer. \n",
    "\n",
    "**Tips**: define two variables inizialized to 1 and halve/double them enough time to exceed the under/over-flow limits  "
   ]
  },
  {
   "cell_type": "code",
   "execution_count": 26,
   "metadata": {
    "tags": []
   },
   "outputs": [
    {
     "output_type": "stream",
     "name": "stdout",
     "text": [
      "False\nTrue\n"
     ]
    }
   ],
   "source": [
    "#in python only float numbers have real limits in over/underflow because integer are treated like \"long\" arbitrary objects. To determine the limits we can import the sys library and write\n",
    "import sys\n",
    "max = 1.0\n",
    "min = 1\n",
    "while max < sys.float_info.max : \n",
    "    max *= 2\n",
    "print(max == sys.float_info.max)\n",
    "\n",
    "while min > sys.float_info.min : \n",
    "    min /= 2\n",
    "print(min == sys.float_info.min)"
   ]
  },
  {
   "cell_type": "markdown",
   "metadata": {},
   "source": [
    "4\\. Write a program to determine the machine precision\n",
    "\n",
    "**Tips**: define a new variable by adding a smaller and smaller value (proceeding similarly to prob. 2) to an original variable and check the point where the two are the same "
   ]
  },
  {
   "cell_type": "code",
   "execution_count": 4,
   "metadata": {},
   "outputs": [
    {
     "output_type": "stream",
     "name": "stdout",
     "text": [
      "The least appreciable number is 10^(-53)\n"
     ]
    }
   ],
   "source": [
    "#definiamo due variabili x e y e confrontiamo continuamente x+y con x ad esempio\n",
    "x = y = 1.0 \n",
    "z = 0\n",
    "while x+y != x :\n",
    "    y /= 2\n",
    "    z += 1\n",
    "    #z serve qui da contatore rispetto agli ordini di grandezza che un float può apprezzare in python\n",
    "print(\"The least appreciable number is 10^(-%i)\"%z)"
   ]
  },
  {
   "cell_type": "markdown",
   "metadata": {},
   "source": [
    "5\\. Write a function that takes in input three parameters $a$, $b$ and $c$ and prints out the two solutions to the quadratic equation $ax^2+bx+c=0$ using the standard formula:\n",
    "$$\n",
    "x=\\frac{-b\\pm\\sqrt{b^2-4ac}}{2a}\n",
    "$$\n",
    "\n",
    "(a) use the program to compute the solution for $a=0.001$, $b=1000$ and $c=0.001$\n",
    "\n",
    "(b) re-express the standard solution formula by multiplying top and bottom by $-b\\mp\\sqrt{b^2-4ac}$ and again find the solution for $a=0.001$, $b=1000$ and $c=0.001$. How does it compare with what previously obtained? Why?\n",
    "\n",
    "(c) write a function that compute the roots of a quadratic equation accurately in all cases"
   ]
  },
  {
   "cell_type": "code",
   "execution_count": 18,
   "metadata": {},
   "outputs": [
    {
     "output_type": "stream",
     "name": "stdout",
     "text": [
      "(-9.999894245993346e-07, -999999.999999)\n(-499999.9999995, -5.0000528775525286e+17)\n"
     ]
    }
   ],
   "source": [
    "import math \n",
    "a = 0.001\n",
    "b = 1000\n",
    "c = 0.001\n",
    "def root(a,b,c) :\n",
    "    x_plus = (-b + math.sqrt(b*b - 4*a*c))/(2*a)\n",
    "    x_minus =(-b - math.sqrt(b*b - 4*a*c))/(2*a)\n",
    "    return x_plus,x_minus\n",
    "print(root(a,b,c))\n",
    "\n",
    "def root_1(a,b,c) :\n",
    "    x_plus_1 = (2*b*b - 4*a*c)/(2*a*(-b - math.sqrt(b*b - 4*a*c)))\n",
    "    x_minus_1 = (2*b*b - 4*a*c)/(2*a*(-b + math.sqrt(b*b-4*a*c)))\n",
    "    return  x_plus_1,x_minus_1\n",
    "#compute again the solution for this equation multiplying numerator and denominator by the same quantity obtaining the same formula but rewritten in a easier way. \n",
    "print(root_1(a,b,c))"
   ]
  },
  {
   "cell_type": "markdown",
   "metadata": {},
   "source": [
    "6\\. Write a program that implements the function $f(x)=x(x−1)$\n",
    "\n",
    "(a) Calculate the derivative of the function at the point $x = 1$ using the derivative definition:\n",
    "\n",
    "$$\n",
    "\\frac{{\\rm d}f}{{\\rm d}x} = \\lim_{\\delta\\to0} \\frac{f(x+\\delta)-f(x)}{\\delta}\n",
    "$$\n",
    "\n",
    "with $\\delta = 10^{−2}$. Calculate the true value of the same derivative analytically and compare with the answer your program gives. The two will not agree perfectly. Why not?\n",
    "\n",
    "(b) Repeat the calculation for $\\delta = 10^{−4}, 10^{−6}, 10^{−8}, 10^{−10}, 10^{−12}$ and $10^{−14}$. How does the accuracy scales with $\\delta$?"
   ]
  },
  {
   "cell_type": "markdown",
   "metadata": {},
   "source": [
    "7\\. Consider the integral of the semicircle of radius 1:\n",
    "$$\n",
    "I=\\int_{-1}^{1} \\sqrt(1-x^2) {\\rm d}x\n",
    "$$\n",
    "which it's known to be $I=\\frac{\\pi}{2}=1.57079632679...$.\n",
    "Alternatively we can use the Riemann definition of the integral:\n",
    "$$\n",
    "I=\\lim_{N\\to\\infty} \\sum_{k=1}^{N} h y_k \n",
    "$$\n",
    "\n",
    "with $h=2/N$ the width of each of the $N$ slices the domain is divided into and where\n",
    "$y_k$ is the value of the function at the $k-$th slice.\n",
    "\n",
    "(a) Write a programe to compute the integral with $N=100$. How does the result compares to the true value?\n",
    "\n",
    "(b) How much can $N$ be increased if the computation needs to be run in less than a second? What is the gain in running it for 1 minute? \n"
   ]
  },
  {
   "cell_type": "code",
   "execution_count": null,
   "metadata": {},
   "outputs": [],
   "source": []
  }
 ],
 "metadata": {
  "kernelspec": {
   "display_name": "Python 3",
   "language": "python",
   "name": "python3"
  },
  "language_info": {
   "codemirror_mode": {
    "name": "ipython",
    "version": 3
   },
   "file_extension": ".py",
   "mimetype": "text/x-python",
   "name": "python",
   "nbconvert_exporter": "python",
   "pygments_lexer": "ipython3",
   "version": "3.8.5-final"
  }
 },
 "nbformat": 4,
 "nbformat_minor": 2
}