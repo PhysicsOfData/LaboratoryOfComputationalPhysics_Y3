{
 "cells": [
  {
   "cell_type": "markdown",
   "metadata": {},
   "source": [
    "1\\. Write a function that converts number representation (bin<->dec<->hex)"
   ]
  },
  {
   "cell_type": "code",
   "execution_count": 125,
   "metadata": {},
   "outputs": [
    {
     "name": "stdout",
     "output_type": "stream",
     "text": [
      "(111, '0b1101111')\n"
     ]
    }
   ],
   "source": [
    "def con(x,type):\n",
    "    if type ==\"bin\":\n",
    "        return int(x) ,hex(x)\n",
    "    elif type == \"dec\":\n",
    "        return bin(x) ,hex(x)\n",
    "    elif type == \"hex\":\n",
    "        return int(x) ,bin(x)\n",
    "\n",
    "print(con( 0x6f ,\"hex\"))"
   ]
  },
  {
   "cell_type": "markdown",
   "metadata": {},
   "source": [
    "2\\. Write a function that converts a 32 bit word into a single precision floating point (i.e. interprets the various bits as sign, mantissa and exponent)"
   ]
  },
  {
   "cell_type": "code",
   "execution_count": 124,
   "metadata": {},
   "outputs": [
    {
     "name": "stdout",
     "output_type": "stream",
     "text": [
      "Decimal equivalent of 01000001100111000000000000000000: 19.5\n"
     ]
    }
   ],
   "source": [
    "import struct\n",
    "\n",
    "def binary32ToFloat(value):\n",
    "    hx = hex(int(value, 2))   \n",
    "    return struct.unpack(\"f\", struct.pack(\"l\", int(hx, 16)))[0]\n",
    "\n",
    "# binary to float\n",
    "fl1 = binary32ToFloat(binstr)\n",
    "print(f'Decimal equivalent of {binstr}: {fl1}')"
   ]
  },
  {
   "cell_type": "markdown",
   "metadata": {},
   "source": [
    "3\\. Write a program to determine the underflow and overflow limits (within a factor of 2) for python on your computer. \n",
    "\n",
    "**Tips**: define two variables inizialized to 1 and halve/double them enough time to exceed the under/over-flow limits  "
   ]
  },
  {
   "cell_type": "code",
   "execution_count": 123,
   "metadata": {},
   "outputs": [
    {
     "name": "stdout",
     "output_type": "stream",
     "text": [
      "under is 5e-324\n",
      "over is 8.98846567431158e+307\n"
     ]
    }
   ],
   "source": [
    "j = 1\n",
    "h = 1\n",
    "while j!=0:\n",
    "        under = j\n",
    "        j/=2  \n",
    "while h!=float(\"inf\"): \n",
    "        over = h\n",
    "        h*=2.\n",
    "print(\"under is\",under)\n",
    "print(\"over is\",over)"
   ]
  },
  {
   "cell_type": "markdown",
   "metadata": {},
   "source": [
    "4\\. Write a program to determine the machine precision\n",
    "\n",
    "**Tips**: define a new variable by adding a smaller and smaller value (proceeding similarly to prob. 2) to an original variable and check the point where the two are the same "
   ]
  },
  {
   "cell_type": "code",
   "execution_count": 137,
   "metadata": {},
   "outputs": [
    {
     "name": "stdout",
     "output_type": "stream",
     "text": [
      "2.220446049250313e-16\n"
     ]
    }
   ],
   "source": [
    "def precision(func=float):\n",
    "        pre = func(1)\n",
    "        while func(1)+func(pre) != func(1):\n",
    "            pre_last = pre\n",
    "            pre = func(pre) / func(2)\n",
    "        return pre_last\n",
    "    \n",
    "print(precision(float))\n"
   ]
  },
  {
   "cell_type": "markdown",
   "metadata": {},
   "source": [
    "5\\. Write a function that takes in input three parameters $a$, $b$ and $c$ and prints out the two solutions to the quadratic equation $ax^2+bx+c=0$ using the standard formula:\n",
    "$$\n",
    "x=\\frac{-b\\pm\\sqrt{b^2-4ac}}{2a}\n",
    "$$\n",
    "\n",
    "(a) use the program to compute the solution for $a=0.001$, $b=1000$ and $c=0.001$\n",
    "\n",
    "(b) re-express the standard solution formula by multiplying top and bottom by $-b\\mp\\sqrt{b^2-4ac}$ and again find the solution for $a=0.001$, $b=1000$ and $c=0.001$. How does it compare with what previously obtained? Why?\n",
    "\n",
    "(c) write a function that compute the roots of a quadratic equation accurately in all cases"
   ]
  },
  {
   "cell_type": "code",
   "execution_count": null,
   "metadata": {},
   "outputs": [],
   "source": [
    "a=0.001 \n",
    "b=1000\n",
    "c=0.001\n",
    "\n",
    "def root1(a,b,c):\n",
    "    d = (b**2 - 4*a*c)**(1/2)\n",
    "    sol1 = (-b+d)/(2*a)\n",
    "    sol2 = (-b-d)/(2*a)\n",
    "    return [sol1, sol2]\n",
    "\n",
    "print(root1(a,b,c))\n",
    "\n",
    "def root2(a,b,c):\n",
    "    d = (b**2 - 4*a*c)**(1/2)\n",
    "    sol1 = (2*c)/(-b-d)\n",
    "    sol2 = (2*c)/(-b+d)\n",
    "    return [sol1, sol2]\n",
    "\n",
    "print(root2(a,b,c))\n",
    "\n",
    "if root1!= root2:\n",
    "    print (\"the two solutions are different\")\n",
    "\n",
    "def root(a, b, c):\n",
    "    d = (b**2 - 4*a*c)**(1/2)\n",
    "    sol1 = -b/(2*a) + d/(2*a) \n",
    "    sol2 = -b/(2*a) - d/(2*a)\n",
    "    return [sol1, sol2]\n",
    "\n",
    "print(root(a,b,c))"
   ]
  },
  {
   "cell_type": "markdown",
   "metadata": {},
   "source": [
    "6\\. Write a program that implements the function $f(x)=x(x−1)$\n",
    "\n",
    "(a) Calculate the derivative of the function at the point $x = 1$ using the derivative definition:\n",
    "\n",
    "$$\n",
    "\\frac{{\\rm d}f}{{\\rm d}x} = \\lim_{\\delta\\to0} \\frac{f(x+\\delta)-f(x)}{\\delta}\n",
    "$$\n",
    "\n",
    "with $\\delta = 10^{−2}$. Calculate the true value of the same derivative analytically and compare with the answer your program gives. The two will not agree perfectly. Why not?\n",
    "\n",
    "(b) Repeat the calculation for $\\delta = 10^{−4}, 10^{−6}, 10^{−8}, 10^{−10}, 10^{−12}$ and $10^{−14}$. How does the accuracy scales with $\\delta$?"
   ]
  },
  {
   "cell_type": "code",
   "execution_count": null,
   "metadata": {},
   "outputs": [],
   "source": [
    "def f(x):\n",
    "    return x*(x-1)\n",
    "def derivative(f, x, delta):\n",
    "    return (f(x + delta) - f(x))/delta\n",
    "deltas = [10**((-2)*i) for i in range(1,8) ]\n",
    "for d in deltas:\n",
    "    print('Delta =', d, ', derivative =', derivative(f, 1, d))"
   ]
  },
  {
   "cell_type": "markdown",
   "metadata": {},
   "source": [
    "7\\. Consider the integral of the semicircle of radius 1:\n",
    "$$\n",
    "I=\\int_{-1}^{1} \\sqrt(1-x^2) {\\rm d}x\n",
    "$$\n",
    "which it's known to be $I=\\frac{\\pi}{2}=1.57079632679...$.\n",
    "Alternatively we can use the Riemann definition of the integral:\n",
    "$$\n",
    "I=\\lim_{N\\to\\infty} \\sum_{k=1}^{N} h y_k \n",
    "$$\n",
    "\n",
    "with $h=2/N$ the width of each of the $N$ slices the domain is divided into and where\n",
    "$y_k$ is the value of the function at the $k-$th slice.\n",
    "\n",
    "(a) Write a programe to compute the integral with $N=100$. How does the result compares to the true value?\n",
    "\n",
    "(b) How much can $N$ be increased if the computation needs to be run in less than a second? What is the gain in running it for 1 minute? \n"
   ]
  },
  {
   "cell_type": "code",
   "execution_count": 138,
   "metadata": {},
   "outputs": [
    {
     "name": "stdout",
     "output_type": "stream",
     "text": [
      "with N=100,I= 1.5602085158895234\n",
      "I_truevalue= 1.5707963267948966\n",
      "The result is different from the Truevalue\n"
     ]
    }
   ],
   "source": [
    "from math import pi\n",
    "def fun(N):\n",
    "    h = 2/N\n",
    "    s = 0\n",
    "    for i in range(1,N):\n",
    "        s+= h*((((1-((i/N)**2))))**(1/2))\n",
    "    return s\n",
    "\n",
    "N=100\n",
    "print(\"with N=100,I=\", fun(N))\n",
    "\n",
    "print(\"I_truevalue=\", pi/2)\n",
    "\n",
    "if fun(N)==pi/2:\n",
    "       print(\"The result is the same with the Truevalue\")\n",
    "else : print(\"The result is different from the Truevalue\")"
   ]
  },
  {
   "cell_type": "code",
   "execution_count": null,
   "metadata": {},
   "outputs": [],
   "source": []
  }
 ],
 "metadata": {
  "kernelspec": {
   "display_name": "Python 3",
   "language": "python",
   "name": "python3"
  },
  "language_info": {
   "codemirror_mode": {
    "name": "ipython",
    "version": 3
   },
   "file_extension": ".py",
   "mimetype": "text/x-python",
   "name": "python",
   "nbconvert_exporter": "python",
   "pygments_lexer": "ipython3",
   "version": "3.8.3"
  }
 },
 "nbformat": 4,
 "nbformat_minor": 2
}
