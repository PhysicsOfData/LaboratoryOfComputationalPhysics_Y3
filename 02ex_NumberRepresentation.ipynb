{
 "cells": [
  {
   "cell_type": "markdown",
   "metadata": {},
   "source": [
    "### 1\\. Write a function that converts number representation (bin<->dec<->hex)"
   ]
  },
  {
   "cell_type": "code",
   "execution_count": 1,
   "metadata": {},
   "outputs": [
    {
     "name": "stdout",
     "output_type": "stream",
     "text": [
      "True\n",
      "True\n",
      "True\n"
     ]
    }
   ],
   "source": [
    "# from various representation to int representation\n",
    "def hex_to_int(n_hex):\n",
    "    n = 0\n",
    "    for i,c in zip(range(len(n_hex)-2),n_hex[:1:-1]):\n",
    "        try :\n",
    "            base = int(c)\n",
    "        except:\n",
    "            base = ord(c)-97+10 ## proper traslation on ascii code of c character\n",
    "            \n",
    "        n += base*16**i\n",
    "    \n",
    "    return n\n",
    "\n",
    "\n",
    "def dec_to_int(n_dec):\n",
    "    n = 0\n",
    "    for i,c in zip(range(len(n_dec)),n_dec[::-1]):\n",
    "        n += int(c)*10**i\n",
    "    \n",
    "    return n\n",
    "\n",
    "def bin_to_int(n_bin):\n",
    "    n = 0\n",
    "    for i,c in zip(range(len(n_bin)-2),n_bin[:1:-1]):\n",
    "        n += int(c)*2**i\n",
    "    \n",
    "    return n\n",
    "\n",
    "n = 44294\n",
    "n_hex = hex(n)\n",
    "n_dec = str(n)\n",
    "n_bin = bin(n)\n",
    "\n",
    "print(hex_to_int(n_hex) == n)\n",
    "print(dec_to_int(n_dec) == n)\n",
    "print(bin_to_int(n_bin) == n)"
   ]
  },
  {
   "cell_type": "code",
   "execution_count": 2,
   "metadata": {},
   "outputs": [
    {
     "name": "stdout",
     "output_type": "stream",
     "text": [
      "True\n",
      "True\n",
      "True\n"
     ]
    }
   ],
   "source": [
    "# from int representation to various representations\n",
    "\n",
    "def int_to_char(n):\n",
    "    if(n<10):\n",
    "        return str(n)\n",
    "    else:\n",
    "        if(n==10):\n",
    "            return 'a'\n",
    "        elif(n==11):\n",
    "            return 'b'\n",
    "        elif(n==12):\n",
    "            return 'c'\n",
    "        elif(n==13):\n",
    "            return 'd'\n",
    "        elif(n==14):\n",
    "            return 'e'\n",
    "        elif(n==15):\n",
    "            return 'f'\n",
    "        else:\n",
    "            print('{}-->ERROR_unimplementted_base'.format(n))\n",
    "\n",
    "def int_to_bin(n):\n",
    "    B = 2 # base of target representation\n",
    "    n_B = '0b'\n",
    "    I=1\n",
    "    while( (n%(B**I))!=n ):\n",
    "        I += 1\n",
    "    I -= 1\n",
    "    for i in range(I,-1,-1):\n",
    "        n_B += int_to_char( (n-n%(B**i))//B**i )\n",
    "        n %= (B**i) # scrematura\n",
    "    \n",
    "    return n_B\n",
    "        \n",
    "def int_to_dec(n):\n",
    "    B = 10 # base of target representation\n",
    "    n_B = ''\n",
    "    I=1\n",
    "    while( (n%(B**I))!=n ):\n",
    "        I += 1\n",
    "    I -= 1\n",
    "    for i in range(I,-1,-1):\n",
    "        n_B += int_to_char( n//B**i )\n",
    "        n %= (B**i) # scrematura\n",
    "    \n",
    "    return n_B\n",
    "\n",
    "def int_to_hex(n):\n",
    "    B = 16 # base of target representation\n",
    "    n_B = '0x'\n",
    "    I=1\n",
    "    while( (n%(B**I))!=n ):\n",
    "        I += 1\n",
    "    I -= 1\n",
    "    for i in range(I,-1,-1):\n",
    "        n_B += int_to_char( n//B**i )\n",
    "        n %= (B**i) # scrematura\n",
    "    return n_B\n",
    "\n",
    "n = 44294\n",
    "\n",
    "print(int_to_hex(n) == hex(n))\n",
    "print(int_to_dec(n) == str(n))\n",
    "print(int_to_bin(n) == bin(n))"
   ]
  },
  {
   "cell_type": "code",
   "execution_count": 3,
   "metadata": {},
   "outputs": [
    {
     "name": "stdout",
     "output_type": "stream",
     "text": [
      "True\n",
      "True\n",
      "True\n",
      "True\n"
     ]
    }
   ],
   "source": [
    "def bin_to_dec(n_bin):\n",
    "    return int_to_dec(bin_to_int(n_bin))\n",
    "def dec_to_bin(n_dec):\n",
    "    return int_to_bin(dec_to_int(n_dec))\n",
    "def hex_to_dec(n_hex):\n",
    "    return int_to_dec(hex_to_int(n_hex))\n",
    "def dec_to_hex(n_dec):\n",
    "    return int_to_hex(dec_to_int(n_dec))\n",
    "\n",
    "n = 1234\n",
    "n_bin = bin(n)\n",
    "n_dec = int_to_dec(n)\n",
    "n_hex = hex(n)\n",
    "\n",
    "print( bin_to_dec(n_bin) == n_dec )\n",
    "print( dec_to_bin(n_dec) == n_bin )\n",
    "print( hex_to_dec(n_hex) == n_dec )\n",
    "print( dec_to_hex(n_dec) == n_hex )"
   ]
  },
  {
   "cell_type": "markdown",
   "metadata": {},
   "source": [
    "### 2\\. Write a function that converts a 32 bit word into a single precision floating point (i.e. interprets the various bits as sign, mantissa and exponent)"
   ]
  },
  {
   "cell_type": "code",
   "execution_count": 4,
   "metadata": {},
   "outputs": [],
   "source": [
    "def sequence():\n",
    "    from numpy import random\n",
    "    return ''.join([str(round(random.uniform())) for n in range(0,32)])"
   ]
  },
  {
   "cell_type": "code",
   "execution_count": 5,
   "metadata": {},
   "outputs": [
    {
     "name": "stdout",
     "output_type": "stream",
     "text": [
      "2.509277792656201e-25\n",
      "-4.3704952190637414e-07\n",
      "-7.096801759722052e+19\n",
      "5.061405981841399e-19\n",
      "-6.551679642330647e-30\n",
      "-1.1509568429580026e-26\n",
      "-1.3623650116903958e+44\n",
      "-3.34123582934292e+30\n",
      "5.676237258001038e-11\n",
      "-438777.65625\n",
      "-7.461061084738402e+42\n",
      "-6.2553911190307455e-30\n",
      "-2.1534015889890235e-12\n",
      "-1.9195776245930037e-21\n",
      "32834574090240.0\n"
     ]
    }
   ],
   "source": [
    "def floating_point(bit_sequence):\n",
    "    significant = bit_sequence[0:23]\n",
    "    exponent = bin_to_int('0b'+bit_sequence[23:31])\n",
    "    sign = (-1)**dec_to_int(bit_sequence[31])\n",
    "    \n",
    "    fraction = 1\n",
    "    for i,b in zip(range(len(significant)),significant):\n",
    "        fraction+= int(b)*2.**(23-i)\n",
    "    \n",
    "    return sign * 2.**(exponent-127.) * fraction # IEEE 754 single-precision binary floating-point format, from wiki\n",
    "\n",
    "for i in range(15):\n",
    "    print(floating_point(sequence()))"
   ]
  },
  {
   "cell_type": "markdown",
   "metadata": {},
   "source": [
    "### 3\\. Write a program to determine the underflow and overflow limits (within a factor of 2) for python on your computer. \n",
    "\n",
    "**Tips**: define two variables inizialized to 1 and halve/double them enough time to exceed the under/over-flow limits  "
   ]
  },
  {
   "cell_type": "code",
   "execution_count": 6,
   "metadata": {},
   "outputs": [
    {
     "name": "stdout",
     "output_type": "stream",
     "text": [
      "overflow with i=1024\n",
      "underflow with i=1024\n"
     ]
    }
   ],
   "source": [
    "testval = 1.\n",
    "\n",
    "i=0\n",
    "overflow = False\n",
    "while overflow != True:\n",
    "    try:\n",
    "        testval*2**i\n",
    "    except:\n",
    "        print(\"overflow with i={}\".format(i))\n",
    "        overflow = True\n",
    "    i+=1\n",
    "        \n",
    "i=0\n",
    "underflow = False\n",
    "while underflow != True:\n",
    "    try:\n",
    "        testval/2**(i)\n",
    "    except:\n",
    "        print(\"underflow with i={}\".format(i))\n",
    "        underflow = True\n",
    "    i+=1\n",
    "        \n",
    "                "
   ]
  },
  {
   "cell_type": "markdown",
   "metadata": {},
   "source": [
    "### 4\\. Write a program to determine the machine precision\n",
    "\n",
    "**Tips**: define a new variable by adding a smaller and smaller value (proceeding similarly to prob. 3) to an original variable and check the point where the two are the same "
   ]
  },
  {
   "cell_type": "code",
   "execution_count": 7,
   "metadata": {},
   "outputs": [
    {
     "name": "stdout",
     "output_type": "stream",
     "text": [
      "original = 0.00019 \tepsilon = 1.3552527156068805e-20 \tequality = True \tfraction = 7.132909029509897e-17\n",
      "original = 1502 \tepsilon = 2.842170943040401e-14 \tequality = True \tfraction = 1.8922576185355532e-17\n",
      "original = 122000000000000.0 \tepsilon = 0.0009765625 \tequality = True \tfraction = 8.004610655737704e-18\n",
      "original = 1000000 \tepsilon = 1.4551915228366852e-11 \tequality = True \tfraction = 1.455191522836685e-17\n"
     ]
    }
   ],
   "source": [
    "# machine precision upon comparison depends on base vaue\n",
    "def rough_machine_precision(value):\n",
    "    original = value\n",
    "    \n",
    "    epsilon = 1\n",
    "\n",
    "    i=0\n",
    "    test = original + epsilon\n",
    "    while original != test:\n",
    "        epsilon /= 2**i \n",
    "        test = original + epsilon\n",
    "        i += 1\n",
    "    \n",
    "    print(\"original =\",original, \"\\tepsilon =\", epsilon, \"\\tequality =\",original==test, \"\\tfraction =\", epsilon/original )\n",
    "    \n",
    "\n",
    "rough_machine_precision(0.00019)\n",
    "rough_machine_precision(1502)\n",
    "rough_machine_precision(1.22*10**14)\n",
    "rough_machine_precision(10**6)"
   ]
  },
  {
   "cell_type": "markdown",
   "metadata": {},
   "source": [
    "### 5\\. Write a function that takes in input three parameters $a$, $b$ and $c$ and prints out the two solutions to the quadratic equation $ax^2+bx+c=0$ using the standard formula:\n",
    "$$\n",
    "x=\\frac{-b\\pm\\sqrt{b^2-4ac}}{2a}\n",
    "$$"
   ]
  },
  {
   "cell_type": "code",
   "execution_count": 8,
   "metadata": {},
   "outputs": [],
   "source": [
    "from math import sqrt,log10\n",
    "def quad_sol(a,b,c):\n",
    "    return (  (-b+sqrt(b**2-4*a*c) )/(2*a),   (-b-sqrt(b**2-4*a*c) )/(2*a)  )\n",
    "\n",
    "def sol_test(a,b,c,x0):\n",
    "    return a*x0**2+b*x0+c\n",
    "\n",
    "def der(a,b,c,x):\n",
    "    return 2*a*x+b"
   ]
  },
  {
   "cell_type": "markdown",
   "metadata": {},
   "source": [
    "(a) use the program to compute the solution for $a=0.001$, $b=1000$ and $c=0.001$"
   ]
  },
  {
   "cell_type": "code",
   "execution_count": 9,
   "metadata": {},
   "outputs": [
    {
     "name": "stdout",
     "output_type": "stream",
     "text": [
      "sol1 = -9.999894245993346e-07 \tsol test = 1.0575401665491313e-08\n",
      "sol2 = -999999.999999 \tsol test = 7.247924804689582e-08\n"
     ]
    },
    {
     "data": {
      "text/plain": [
       "(999.999999998, -999.999999998)"
      ]
     },
     "execution_count": 9,
     "metadata": {},
     "output_type": "execute_result"
    }
   ],
   "source": [
    "a = 0.001\n",
    "b = 1000\n",
    "c = 0.001\n",
    "\n",
    "x0 = quad_sol(a,b,c)\n",
    "print(\"sol1 =\",x0[0],\"\\tsol test =\",sol_test(a,b,c,x0[0]))\n",
    "print(\"sol2 =\",x0[1],\"\\tsol test =\",sol_test(a,b,c,x0[1]))\n",
    "der(a,b,c,x0[0]),der(a,b,c,x0[1])"
   ]
  },
  {
   "cell_type": "markdown",
   "metadata": {},
   "source": [
    "Solution seems pretty good considering that the modulus of the derivative in corrispondence of the zeros is $\\sim 1000$."
   ]
  },
  {
   "cell_type": "markdown",
   "metadata": {},
   "source": [
    "(b) re-express the standard solution formula by multiplying top and bottom by $-b\\mp\\sqrt{b^2-4ac}$ and again find the solution for $a=0.001$, $b=1000$ and $c=0.001$. How does it compare with what previously obtained? Why?"
   ]
  },
  {
   "cell_type": "code",
   "execution_count": 10,
   "metadata": {},
   "outputs": [
    {
     "name": "stdout",
     "output_type": "stream",
     "text": [
      "sol- = -1.000000000001e-06 \tsol test = 0.0\n",
      "sol+ = -1000010.5755125057 \tsol test = 10575.62534720993\n"
     ]
    },
    {
     "data": {
      "text/plain": [
       "(1000000, 4e-06)"
      ]
     },
     "execution_count": 10,
     "metadata": {},
     "output_type": "execute_result"
    }
   ],
   "source": [
    "Xp = (-b+sqrt(b**2-4*a*c) )\n",
    "Xm = (-b-sqrt(b**2-4*a*c) )\n",
    "\n",
    "def quad_sol2(a,b,c):\n",
    "    #return (  (( (-b-sqrt(b**2-4*a*c) )*(-b+sqrt(b**2-4*a*c) )  ))/((   (2*a)*(-b-sqrt(b**2-4*a*c) )   )),   (( (-b-sqrt(b**2-4*a*c) )*(-b+sqrt(b**2-4*a*c) ) ))/(( (2*a)*(-b+sqrt(b**2-4*a*c) ) ))  )\n",
    "    return (-2*c/(b+sqrt(b**2-4*a*c)),-2*c/(b-sqrt(b**2-4*a*c)))\n",
    "\n",
    "x0 = quad_sol2(a,b,c)\n",
    "print(\"sol- =\",x0[0],\"\\tsol test =\",sol_test(a,b,c,x0[0]))\n",
    "print(\"sol+ =\",x0[1],\"\\tsol test =\",sol_test(a,b,c,x0[1]))\n",
    "\n",
    "b**2,4*a*c"
   ]
  },
  {
   "cell_type": "markdown",
   "metadata": {},
   "source": [
    "The critical point in the calculation is the \"discriminant\", in which an operation like $10^6-10^{-6}$ is present. As seen in the ex4) floating point numbers in python (on the system from which I am writing) have something like 17 decades of precision. If I modify a $10^6$ number by subtracting a $10^{-6}$ number I am effectively truncating the small number after $17-(6+6)=5$ significant digits.\n",
    "\n",
    " * In the $(+)$ solution, the truncated part is left naked and propagating the error the overall accuracy of the result drops to $5$ significant digits, as we consistently observe in the obtained solution. The problem arises since the derivative of the function is in the order of $10^3$, and the solution is asound $X=-10^6$. In this situation an error on the $6^{th}$ digit wheights a $\\Delta x\\simeq 10$, which produces a $\\Delta y\\simeq 10^4$, which probably can be considered a lot differenf from $0$, but this still depends on the context.\n",
    "\n",
    " * On the $(-)$ solution instead, the truncated part is left into the last significant digits and overall precision remains around $12$ digits. "
   ]
  },
  {
   "cell_type": "markdown",
   "metadata": {},
   "source": [
    "(c) write a function that compute the roots of a quadratic equation accurately in all cases"
   ]
  },
  {
   "cell_type": "markdown",
   "metadata": {},
   "source": [
    "I'm not shure but it seems that standard implementation works quite good actually."
   ]
  },
  {
   "cell_type": "markdown",
   "metadata": {},
   "source": [
    "### 6\\. Write a program that implements the function $f(x)=x(x−1)$"
   ]
  },
  {
   "cell_type": "code",
   "execution_count": 11,
   "metadata": {},
   "outputs": [],
   "source": [
    "f = lambda x : x*(x-1)"
   ]
  },
  {
   "cell_type": "markdown",
   "metadata": {},
   "source": [
    "(a) Calculate the derivative of the function at the point $x = 1$ using the derivative definition:\n",
    "\n",
    "$$\n",
    "\\frac{{\\rm d}f}{{\\rm d}x} = \\lim_{\\delta\\to0} \\frac{f(x+\\delta)-f(x)}{\\delta}\n",
    "$$\n",
    "\n",
    "with $\\delta = 10^{−2}$. Calculate the true value of the same derivative analytically and compare with the answer your program gives. The two will not agree perfectly. Why not?"
   ]
  },
  {
   "cell_type": "code",
   "execution_count": 12,
   "metadata": {},
   "outputs": [
    {
     "name": "stdout",
     "output_type": "stream",
     "text": [
      "analitic = 1 \tnumeric = 1.010000000000001\n"
     ]
    }
   ],
   "source": [
    "Df = lambda x : 2*x-1\n",
    "def Df_(x,dx):\n",
    "    return (f(x+dx)-f(x))/dx\n",
    "\n",
    "print(\"analitic =\",Df(1),\"\\tnumeric =\",Df_(1,10**-2))"
   ]
  },
  {
   "cell_type": "markdown",
   "metadata": {},
   "source": [
    "Most significant problem is the fact that $10^{-2}$ represents only a limited convengence of the limit."
   ]
  },
  {
   "cell_type": "markdown",
   "metadata": {},
   "source": [
    "(b) Repeat the calculation for $\\delta = 10^{−4}, 10^{−6}, 10^{−8}, 10^{−10}, 10^{−12}$ and $10^{−14}$. How does the accuracy scales with $\\delta$?"
   ]
  },
  {
   "cell_type": "code",
   "execution_count": 13,
   "metadata": {},
   "outputs": [
    {
     "name": "stdout",
     "output_type": "stream",
     "text": [
      "analitic = 1 \tnumeric = 1.0000999999998899 \trelative_variation = 9.999999988985486e-05\n",
      "analitic = 1 \tnumeric = 1.0000009999177333 \trelative_variation = 9.99917733279787e-07\n",
      "analitic = 1 \tnumeric = 1.0000000039225287 \trelative_variation = 3.922528746258536e-09\n",
      "analitic = 1 \tnumeric = 1.000000082840371 \trelative_variation = 8.284037100736441e-08\n",
      "analitic = 1 \tnumeric = 1.0000889005833413 \trelative_variation = 8.890058334132256e-05\n",
      "analitic = 1 \tnumeric = 0.9992007221626509 \trelative_variation = 0.0007992778373491216\n"
     ]
    }
   ],
   "source": [
    "dX = [10**-4,10**-6,10**-8,10**-10,10**-12,10**-14]\n",
    "\n",
    "for dx in dX:\n",
    "    print(\"analitic =\",Df(1),\"\\tnumeric =\",Df_(1,dx),\"\\trelative_variation =\",abs(Df(1)-Df_(1,dx)))"
   ]
  },
  {
   "cell_type": "markdown",
   "metadata": {},
   "source": [
    "Initially, accuracy improves with smaller $\\delta$. After a certain point accuracy decreases with decreasing $\\delta$.\n",
    "\n",
    "\n",
    "The first behaviour comes from the fact that in principle a smaller $\\delta$ better represents the limit for $\\delta\\rightarrow 0$. The second behaviour comes form the fact that a smaller $\\delta$ also induces a bigger truncation error which at a certain poit takes the lead."
   ]
  },
  {
   "cell_type": "markdown",
   "metadata": {},
   "source": [
    "### 7\\. Consider the integral of the semicircle of radius 1:\n",
    "$$\n",
    "I=\\int_{-1}^{1} \\sqrt(1-x^2) {\\rm d}x\n",
    "$$\n",
    "which it's known to be $I=\\frac{\\pi}{2}=1.57079632679...$.\n",
    "Alternatively we can use the Riemann definition of the integral:\n",
    "$$\n",
    "I=\\lim_{N\\to\\infty} \\sum_{k=1}^{N} h y_k \n",
    "$$\n",
    "\n",
    "with $h=2/N$ the width of each of the $N$ slices the domain is divided into and where\n",
    "$y_k$ is the value of the function at the $k-$th slice.\n",
    "\n",
    "(a) Write a programe to compute the integral with $N=100$. How does the result compares to the true value?\n"
   ]
  },
  {
   "cell_type": "code",
   "execution_count": 14,
   "metadata": {},
   "outputs": [
    {
     "name": "stdout",
     "output_type": "stream",
     "text": [
      "(N=100 case) relative difference with respect to true result = 0.0010581074180623477\n"
     ]
    }
   ],
   "source": [
    "from math import sqrt,pi\n",
    "\n",
    "f = lambda x: sqrt(1-x**2)\n",
    "\n",
    "def Integral(N):\n",
    "    h = 2/N\n",
    "    return (sum(f(-1+i*h) for i in range(0,N)) + 0.5*(f(-1)+f(1)) )*h\n",
    "\n",
    "def rel_diff(N):\n",
    "    return abs(0.5*pi-Integral(N))/(0.5*pi)\n",
    "\n",
    "print(\"(N=100 case) relative difference with respect to true result =\", rel_diff(100) )"
   ]
  },
  {
   "cell_type": "markdown",
   "metadata": {},
   "source": [
    "\n",
    "(b) How much can $N$ be increased if the computation needs to be run in less than a second?"
   ]
  },
  {
   "cell_type": "code",
   "execution_count": 15,
   "metadata": {},
   "outputs": [
    {
     "name": "stdout",
     "output_type": "stream",
     "text": [
      "37.7 µs ± 672 ns per loop (mean ± std. dev. of 7 runs, 10000 loops each)\n",
      "456 µs ± 34.5 µs per loop (mean ± std. dev. of 7 runs, 1000 loops each)\n",
      "4.45 ms ± 339 µs per loop (mean ± std. dev. of 7 runs, 100 loops each)\n"
     ]
    }
   ],
   "source": [
    "%timeit Integral(100)\n",
    "%timeit Integral(1000)\n",
    "%timeit Integral(10000)"
   ]
  },
  {
   "cell_type": "markdown",
   "metadata": {},
   "source": [
    "We can see that the timing scale linearily with $N$. Which means that to do $1000$ times the integration with $N=10000$ I will need almost four seconds, so that with $N=2.5\\times 10^6$ the computation should run for roughly one second."
   ]
  },
  {
   "cell_type": "code",
   "execution_count": 16,
   "metadata": {},
   "outputs": [
    {
     "name": "stdout",
     "output_type": "stream",
     "text": [
      "985 ms ± 50.2 ms per loop (mean ± std. dev. of 7 runs, 1 loop each)\n"
     ]
    }
   ],
   "source": [
    "%timeit Integral(int(2.5e6))"
   ]
  },
  {
   "cell_type": "code",
   "execution_count": 17,
   "metadata": {},
   "outputs": [
    {
     "name": "stdout",
     "output_type": "stream",
     "text": [
      "N=10 -->\t rel_diff= 0.033277332943462204\n",
      "N=100 -->\t rel_diff= 0.0010581074180623477\n",
      "N=1000 -->\t rel_diff= 3.34787476444498e-05\n",
      "N=10000 -->\t rel_diff= 1.0587493629051964e-06\n"
     ]
    }
   ],
   "source": [
    "print(\"N=10 -->\\t rel_diff=\",rel_diff(10))\n",
    "print(\"N=100 -->\\t rel_diff=\",rel_diff(100))\n",
    "print(\"N=1000 -->\\t rel_diff=\",rel_diff(1000))\n",
    "print(\"N=10000 -->\\t rel_diff=\",rel_diff(10000))"
   ]
  },
  {
   "cell_type": "code",
   "execution_count": 19,
   "metadata": {},
   "outputs": [
    {
     "name": "stdout",
     "output_type": "stream",
     "text": [
      "exponent = -1.4994772248164552\n"
     ]
    },
    {
     "data": {
      "image/png": "[encoded data removed]",
      "text/plain": [
       "<Figure size 432x288 with 1 Axes>"
      ]
     },
     "metadata": {
      "needs_background": "light"
     },
     "output_type": "display_data"
    }
   ],
   "source": [
    "import matplotlib.pyplot as plt\n",
    "%matplotlib inline\n",
    "\n",
    "N = [10,100,1000,10000,100000,1000000]\n",
    "rd = [rel_diff(n) for n in N]\n",
    "fit = [n**(-1.5) for n in N]\n",
    "plt.plot(N,rd,label=\"data\")\n",
    "plt.plot(N,fit,linestyle=\"--\",label=\"fit\")\n",
    "plt.xscale(\"log\")\n",
    "plt.yscale(\"log\")\n",
    "plt.legend()\n",
    "\n",
    "from math import log\n",
    "exponent = (log(rd[-1])-log(rd[0]))/(log(N[-1])-log(N[0]))\n",
    "print(\"exponent =\", exponent)"
   ]
  },
  {
   "cell_type": "markdown",
   "metadata": {},
   "source": [
    "b') What is the gain in running it for 1 minute?\n",
    "\n",
    "Assuming the linear time relation holds, 1 minute computation amounts to 60 one second computations which roughly correspond to $N = 1.5\\times 10^{8}$, which exploiting the relation previously derived would amout to a relative presision of $\\sim 10^{-8}$. This precision will be reached only if the roundup errors do not become dominant."
   ]
  },
  {
   "cell_type": "code",
   "execution_count": null,
   "metadata": {},
   "outputs": [],
   "source": []
  }
 ],
 "metadata": {
  "kernelspec": {
   "display_name": "Python 3",
   "language": "python",
   "name": "python3"
  },
  "language_info": {
   "codemirror_mode": {
    "name": "ipython",
    "version": 3
   },
   "file_extension": ".py",
   "mimetype": "text/x-python",
   "name": "python",
   "nbconvert_exporter": "python",
   "pygments_lexer": "ipython3",
   "version": "3.7.6"
  }
 },
 "nbformat": 4,
 "nbformat_minor": 4
}
