{
 "cells": [
  {
   "cell_type": "markdown",
   "metadata": {},
   "source": [
    "1\\. Write a function that converts number representation (bin<->dec<->hex)"
   ]
  },
  {
   "cell_type": "code",
   "execution_count": 40,
   "metadata": {},
   "outputs": [],
   "source": [
    "def change_base(n):\n",
    "    \n",
    "    if type(n) != int:\n",
    "        nd = 0\n",
    "        if n[0:2] == \"0b\": #binary\n",
    "            nd = int(n,2)\n",
    "            \n",
    "        elif n[0:2] == \"0x\": #exadecimal\n",
    "            nd = int(n,16)\n",
    "            \n",
    "    else: nd = n\n",
    "        \n",
    "    print(\"binary: \" + bin(nd) + \" hex: \" + hex(nd) + \" decimal: \" + str(nd))\n",
    "  "
   ]
  },
  {
   "cell_type": "code",
   "execution_count": 43,
   "metadata": {},
   "outputs": [
    {
     "name": "stdout",
     "output_type": "stream",
     "text": [
      "binary: 0b10011 hex: 0x13 decimal: 19\n",
      "binary: 0b101001 hex: 0x29 decimal: 41\n",
      "binary: 0b1011100110 hex: 0x2e6 decimal: 742\n"
     ]
    }
   ],
   "source": [
    "change_base(19)\n",
    "change_base(\"0b101001\")\n",
    "change_base(\"0x2e6\")"
   ]
  },
  {
   "cell_type": "markdown",
   "metadata": {},
   "source": [
    "2\\. Write a function that converts a 32 bit word into a single precision floating point (i.e. interprets the various bits as sign, mantissa and exponent)"
   ]
  },
  {
   "cell_type": "code",
   "execution_count": 59,
   "metadata": {},
   "outputs": [],
   "source": [
    "def str_to_float(s):\n",
    "    \n",
    "    if len(s) != 32:\n",
    "        print(\"invalid input size\")\n",
    "        return 0\n",
    "    \n",
    "    sign = s[0]\n",
    "    exp = s[1:9]\n",
    "    mant = s[9:]\n",
    "    \n",
    "    m = 1\n",
    "    for i in range(23):\n",
    "        m += int(mant[22-i])*2**(-i) \n",
    "        \n",
    "    f = (-1)**int(sign) * m * 2**(int(exp,2)-127) \n",
    "    return f"
   ]
  },
  {
   "cell_type": "code",
   "execution_count": 64,
   "metadata": {},
   "outputs": [
    {
     "data": {
      "text/plain": [
       "4269583502409728.0"
      ]
     },
     "execution_count": 64,
     "metadata": {},
     "output_type": "execute_result"
    }
   ],
   "source": [
    "str_to_float(\"01011001011110010100110101001110\")"
   ]
  },
  {
   "cell_type": "markdown",
   "metadata": {},
   "source": [
    "3\\. Write a program to determine the underflow and overflow limits (within a factor of 2) for python on your computer. \n",
    "\n",
    "**Tips**: define two variables inizialized to 1 and halve/double them enough time to exceed the under/over-flow limits  "
   ]
  },
  {
   "cell_type": "code",
   "execution_count": 68,
   "metadata": {},
   "outputs": [
    {
     "name": "stdout",
     "output_type": "stream",
     "text": [
      "5e-324\n",
      "1.7555597020139804e+308\n"
     ]
    }
   ],
   "source": [
    "u = 1\n",
    "o = 1e3 #needs bigger steps or it will take a lot of time\n",
    "import math\n",
    "while(u != 0):\n",
    "    p = u\n",
    "    u = u/2\n",
    "print(p)\n",
    "\n",
    "while(o != float('inf')):\n",
    "    p = o\n",
    "    o = o*2\n",
    "print(p)"
   ]
  },
  {
   "cell_type": "markdown",
   "metadata": {},
   "source": [
    "4\\. Write a program to determine the machine precision\n",
    "\n",
    "**Tips**: define a new variable by adding a smaller and smaller value (proceeding similarly to prob. 2) to an original variable and check the point where the two are the same "
   ]
  },
  {
   "cell_type": "code",
   "execution_count": 4,
   "metadata": {},
   "outputs": [
    {
     "name": "stdout",
     "output_type": "stream",
     "text": [
      "1.1102230246251565e-16\n"
     ]
    }
   ],
   "source": [
    "s = x = y = 1\n",
    "y = x+s\n",
    "\n",
    "while(x != y):\n",
    "    s = s/2\n",
    "    x = y\n",
    "    y = x+s\n",
    "\n",
    "print(s)"
   ]
  },
  {
   "cell_type": "markdown",
   "metadata": {},
   "source": [
    "5\\. Write a function that takes in input three parameters $a$, $b$ and $c$ and prints out the two solutions to the quadratic equation $ax^2+bx+c=0$ using the standard formula:\n",
    "$$\n",
    "x=\\frac{-b\\pm\\sqrt{b^2-4ac}}{2a}\n",
    "$$\n",
    "\n",
    "(a) use the program to compute the solution for $a=0.001$, $b=1000$ and $c=0.001$\n",
    "\n",
    "(b) re-express the standard solution formula by multiplying top and bottom by $-b\\mp\\sqrt{b^2-4ac}$ and again find the solution for $a=0.001$, $b=1000$ and $c=0.001$. How does it compare with what previously obtained? Why?\n",
    "\n",
    "(c) write a function that compute the roots of a quadratic equation accurately in all cases"
   ]
  },
  {
   "cell_type": "code",
   "execution_count": 25,
   "metadata": {},
   "outputs": [],
   "source": [
    "import math\n",
    "\n",
    "def solve_quadratic(a,b,c):\n",
    "    x1 = (-b + math.sqrt(b**2 - 4*a*c))/(2*a)\n",
    "    x2 = (-b - math.sqrt(b**2 - 4*a*c))/(2*a)\n",
    "    return(x1,x2)\n",
    "\n",
    "def solve_quadratic2(a,b,c):\n",
    "    x1 = 2*c/(-b - math.sqrt(b**2 - 4*a*c))\n",
    "    x2 = 2*c/(-b + math.sqrt(b**2 - 4*a*c))\n",
    "    return(x1,x2)"
   ]
  },
  {
   "cell_type": "code",
   "execution_count": 26,
   "metadata": {},
   "outputs": [
    {
     "name": "stdout",
     "output_type": "stream",
     "text": [
      "(-9.999894245993346e-07, -999999.999999)\n",
      "(-1.000000000001e-06, -1000010.5755125057)\n"
     ]
    }
   ],
   "source": [
    "print(solve_quadratic(0.001,1000,0.001))\n",
    "print(solve_quadratic2(0.001,1000,0.001))"
   ]
  },
  {
   "cell_type": "markdown",
   "metadata": {},
   "source": [
    "Given the very small and very large numbers there are precision errors in the computation. In particular inside the sqrt we are subtracting a very small number (4ac) to a very big number (b^2)"
   ]
  },
  {
   "cell_type": "code",
   "execution_count": 69,
   "metadata": {},
   "outputs": [
    {
     "data": {
      "text/plain": [
       "[-999999.999999000, -1.00000000000100e-6]"
      ]
     },
     "execution_count": 69,
     "metadata": {},
     "output_type": "execute_result"
    }
   ],
   "source": [
    "#function that work with everything from the sympy library\n",
    "from sympy.solvers import solve\n",
    "from sympy import Symbol\n",
    "x = Symbol('x')\n",
    "a = c = 0.001\n",
    "b = 1000\n",
    "solve(a*x**2 + b*x + c, x)"
   ]
  },
  {
   "cell_type": "markdown",
   "metadata": {},
   "source": [
    "6\\. Write a program that implements the function $f(x)=x(x−1)$\n",
    "\n",
    "(a) Calculate the derivative of the function at the point $x = 1$ using the derivative definition:\n",
    "\n",
    "$$\n",
    "\\frac{{\\rm d}f}{{\\rm d}x} = \\lim_{\\delta\\to0} \\frac{f(x+\\delta)-f(x)}{\\delta}\n",
    "$$\n",
    "\n",
    "with $\\delta = 10^{−2}$. Calculate the true value of the same derivative analytically and compare with the answer your program gives. The two will not agree perfectly. Why not?\n",
    "\n",
    "(b) Repeat the calculation for $\\delta = 10^{−4}, 10^{−6}, 10^{−8}, 10^{−10}, 10^{−12}$ and $10^{−14}$. How does the accuracy scales with $\\delta$?"
   ]
  },
  {
   "cell_type": "code",
   "execution_count": 29,
   "metadata": {},
   "outputs": [],
   "source": [
    "def f(x):\n",
    "    return x*(x-1)\n",
    "\n",
    "def deriv(x,d):\n",
    "    return (f(x+d) - f(x))/d"
   ]
  },
  {
   "cell_type": "code",
   "execution_count": 31,
   "metadata": {},
   "outputs": [
    {
     "name": "stdout",
     "output_type": "stream",
     "text": [
      "1.010000000000001\n",
      "1.0000999999998899\n",
      "1.0000009999177333\n",
      "1.0000000039225287\n",
      "1.000000082840371\n",
      "1.0000889005833413\n",
      "0.9992007221626509\n"
     ]
    }
   ],
   "source": [
    "print(deriv(1,10**-2))\n",
    "print(deriv(1,10**-4))\n",
    "print(deriv(1,10**-6))\n",
    "print(deriv(1,10**-8))\n",
    "print(deriv(1,10**-10))\n",
    "print(deriv(1,10**-12))\n",
    "print(deriv(1,10**-14))"
   ]
  },
  {
   "cell_type": "markdown",
   "metadata": {},
   "source": [
    "Using d = 10^-2 we get aproximation errors, since that value is quite different from 0. Lowering d we are getting closer and closer to 0, so reducing the aproximation error, but after a certain point we are to close to the machine precision to get reliable results and the error starts increasing again.\n",
    "Considering that the difference between (x+d) and x is very small, it's reasonable to get precision related errors in the computation."
   ]
  },
  {
   "cell_type": "markdown",
   "metadata": {},
   "source": [
    "7\\. Consider the integral of the semicircle of radius 1:\n",
    "$$\n",
    "I=\\int_{-1}^{1} \\sqrt(1-x^2) {\\rm d}x\n",
    "$$\n",
    "which it's known to be $I=\\frac{\\pi}{2}=1.57079632679...$.\n",
    "Alternatively we can use the Riemann definition of the integral:\n",
    "$$\n",
    "I=\\lim_{N\\to\\infty} \\sum_{k=1}^{N} h y_k \n",
    "$$\n",
    "\n",
    "with $h=2/N$ the width of each of the $N$ slices the domain is divided into and where\n",
    "$y_k$ is the value of the function at the $k-$th slice.\n",
    "\n",
    "(a) Write a programe to compute the integral with $N=100$. How does the result compares to the true value?\n",
    "\n",
    "(b) How much can $N$ be increased if the computation needs to be run in less than a second? What is the gain in running it for 1 minute? \n"
   ]
  },
  {
   "cell_type": "code",
   "execution_count": 44,
   "metadata": {},
   "outputs": [],
   "source": [
    "import math\n",
    "\n",
    "def integrate_circle(n):\n",
    "    a = 0\n",
    "    for i in range(n-1):\n",
    "        y = math.sqrt(1- (i*2/n -1)**2)\n",
    "        a += 2/n * y\n",
    "    return a"
   ]
  },
  {
   "cell_type": "code",
   "execution_count": 59,
   "metadata": {},
   "outputs": [
    {
     "name": "stdout",
     "output_type": "stream",
     "text": [
      "38.5 µs ± 297 ns per loop (mean ± std. dev. of 7 runs, 10000 loops each)\n",
      "961 ms ± 9.23 ms per loop (mean ± std. dev. of 7 runs, 1 loop each)\n"
     ]
    }
   ],
   "source": [
    "%timeit integrate_circle(100)\n",
    "%timeit integrate_circle(2400000)\n",
    "#%timeit integrate_circle(2400000*60)"
   ]
  },
  {
   "cell_type": "code",
   "execution_count": 60,
   "metadata": {},
   "outputs": [
    {
     "name": "stdout",
     "output_type": "stream",
     "text": [
      "1.565154305800824\n",
      "1.5707963252716546\n",
      "1.570796326792049\n"
     ]
    }
   ],
   "source": [
    "print(integrate_circle(100))\n",
    "print(integrate_circle(2400000))\n",
    "print(integrate_circle(2400000*60))"
   ]
  },
  {
   "cell_type": "markdown",
   "metadata": {},
   "source": [
    "The result for N=100 has an error of less than 0.4%, that is perfectelly fine for most applications. Running the function for a second improves the results significatly bringing the error to the 9th decimal position. Running the function for 1 minute reduce the error even further but at this point we are talking about improvements that are close to the machine precision, so probablly it's not worth it."
   ]
  },
  {
   "cell_type": "code",
   "execution_count": null,
   "metadata": {},
   "outputs": [],
   "source": []
  }
 ],
 "metadata": {
  "kernelspec": {
   "display_name": "Python 3",
   "language": "python",
   "name": "python3"
  },
  "language_info": {
   "codemirror_mode": {
    "name": "ipython",
    "version": 3
   },
   "file_extension": ".py",
   "mimetype": "text/x-python",
   "name": "python",
   "nbconvert_exporter": "python",
   "pygments_lexer": "ipython3",
   "version": "3.7.3"
  }
 },
 "nbformat": 4,
 "nbformat_minor": 2
}
