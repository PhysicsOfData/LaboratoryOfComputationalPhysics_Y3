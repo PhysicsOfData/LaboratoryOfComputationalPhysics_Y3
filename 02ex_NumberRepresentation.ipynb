{
 "cells": [
  {
   "cell_type": "markdown",
   "metadata": {},
   "source": [
    "1\\. Write a function that converts number representation (bin<->dec<->hex)"
   ]
  },
  {
   "cell_type": "code",
   "execution_count": 13,
   "metadata": {},
   "outputs": [
    {
     "name": "stdout",
     "output_type": "stream",
     "text": [
      "hex(1234): 0x4d2 is equal to 0x4d2\n",
      "convert(0x4d2,16,10): 1234 is equal to 1234\n",
      "\n",
      "bin(1234): 0b10011010010 is equal to 0b10011010010\n",
      "convert(0b10011010010,2,10): 1234 is equal to 1234\n",
      "\n"
     ]
    }
   ],
   "source": [
    "import string\n",
    "\n",
    "alphabet = list(string.ascii_lowercase)\n",
    "translator = {i+10:letter for i,letter in enumerate(alphabet)}\n",
    "de_translator = {value: key for key,value in translator.items()}\n",
    "codes = {16: 'x', 2: 'b'}\n",
    "\n",
    "def to_dec(arg,original_base,code):\n",
    "    nums = reversed(list(arg.split(code)[1]))\n",
    "    dec = 0\n",
    "    for i, n in enumerate(nums):\n",
    "        n = de_translator.get(n,n)\n",
    "        dec += int(n)*original_base**i\n",
    "    return dec\n",
    "\n",
    "def from_dec(arg,new_base,code):\n",
    "    quo, res = arg//new_base, arg%new_base\n",
    "    res = translator.get(res,res)\n",
    "    nums = f'{res}'\n",
    "    while quo:\n",
    "        quo, res = quo//new_base, quo%new_base\n",
    "        res = translator.get(res,res)\n",
    "        nums = f'{res}'+nums\n",
    "    num_rep =  '0'+code+nums\n",
    "    return num_rep \n",
    "\n",
    "def convert(arg,original_base,new_base):\n",
    "    '''Converts an integer number from one base to another.\\n\n",
    "    Processes hexadecimal, decimal and binary.\\n\n",
    "    Returns and expects hexadecimal and binary numbers as strings.'''\n",
    "    if new_base == original_base:\n",
    "        # No need to do anything\n",
    "        return arg\n",
    "    if new_base == 10:\n",
    "        return to_dec(arg,original_base,codes[original_base])\n",
    "    if original_base == 10:\n",
    "        return from_dec(arg,new_base,codes[new_base])\n",
    "    # If neither of the above was the case,\n",
    "    # then it is a conversion from a non decimal base to another.\n",
    "    # We'll pivot on the decimal base.\n",
    "    return convert(convert(arg,original_base,10),10,new_base)\n",
    "\n",
    "    \n",
    "test_n = 1234\n",
    "for base, int_base in zip(['hex','bin'],[16,2]):\n",
    "    print(f\"{base}({test_n}): {eval(base+F'({test_n})')} is equal to {convert(test_n,10,int_base)}\")\n",
    "    print(f\"convert({eval(base+F'({test_n})')},{int_base},10): {convert(eval(base+F'(test_n)'),int_base,10)} is equal to {test_n}\")\n",
    "    print()\n"
   ]
  },
  {
   "cell_type": "markdown",
   "metadata": {},
   "source": [
    "2\\. Write a function that converts a 32 bit word into a single precision floating point (i.e. interprets the various bits as sign, mantissa and exponent)"
   ]
  },
  {
   "cell_type": "code",
   "execution_count": 14,
   "metadata": {
    "scrolled": true
   },
   "outputs": [
    {
     "name": "stdout",
     "output_type": "stream",
     "text": [
      "Requirement already satisfied: bitstring in /home/gerardo/snap/jupyter/common/lib/python3.7/site-packages (3.1.7)\n",
      "Test number: 1.53. IEEE754 representation is given by bitstring is 00111111110000111101011100001010.\n",
      " The value of this bitsring is 1.5299999713897705.\n"
     ]
    }
   ],
   "source": [
    "!pip install bitstring # Installing bitstring just for result validation\n",
    "import bitstring\n",
    "def bin_to_float(arg, n_exp_bits=8, bias=127):\n",
    "    sign_b = arg[0] # It is assumed that the asign will always be specified by the first bit (from left to right)\n",
    "    exp_bits = '0b'+arg[1:n_exp_bits+1] # Expressed in this way to easily convert it later on\n",
    "    mantissa_bits = arg[n_exp_bits+1:] # The rest of bits belong to the mantissa\n",
    "    number = 1\n",
    "    _exp = convert(exp_bits,2,10)-bias # Here we use a previously defined function\n",
    "    for i, b in enumerate(mantissa_bits):\n",
    "        number+= int(b)*2**(-i-1)\n",
    "    number*=(-1)**int(sign_b)*2**(_exp)\n",
    "    return number\n",
    "\n",
    "test_n = 1.53\n",
    "bit = bitstring.BitArray(float = test_n, length = 32).bin\n",
    "print(f'Test number: {test_n}. IEEE754 representation is given by bitstring is {bit}.\\n The value of this bitsring is {bin_to_float(bit)}.')"
   ]
  },
  {
   "cell_type": "markdown",
   "metadata": {},
   "source": [
    "3\\. Write a program to determine the underflow and overflow limits (within a factor of 2) for python on your computer. \n",
    "\n",
    "**Tips**: define two variables inizialized to 1 and halve/double them enough time to exceed the under/over-flow limits  "
   ]
  },
  {
   "cell_type": "code",
   "execution_count": 15,
   "metadata": {},
   "outputs": [
    {
     "name": "stdout",
     "output_type": "stream",
     "text": [
      "This computer has an overflow limit of 8.98846567431158e+307\n",
      "This computer has an underflow limit of 5e-324\n"
     ]
    }
   ],
   "source": [
    "a = 1.0\n",
    "i = 0\n",
    "r = a*2.0\n",
    "while r/2.0 == a:# This condition breaks when r no longer accurately represents the integer as a float\n",
    "    a*=2.0\n",
    "    r = a*2.0\n",
    "    i+=1\n",
    "print(f'This computer has an overflow limit of {2.0**i}')\n",
    "b = 1.0\n",
    "j = 0\n",
    "p = b/2.0\n",
    "while p*2.0 == b:# This condition breaks when r no longer accurately represents the integer as a float\n",
    "    b/=2.0\n",
    "    p = b/2.0\n",
    "    j+=1\n",
    "print(f'This computer has an underflow limit of {2**-j}')"
   ]
  },
  {
   "cell_type": "markdown",
   "metadata": {},
   "source": [
    "4\\. Write a program to determine the machine precision\n",
    "\n",
    "**Tips**: define a new variable by adding a smaller and smaller value (proceeding similarly to prob. 2) to an original variable and check the point where the two are the same "
   ]
  },
  {
   "cell_type": "code",
   "execution_count": 16,
   "metadata": {},
   "outputs": [
    {
     "name": "stdout",
     "output_type": "stream",
     "text": [
      "Machine precision holds up to 10^-15\n"
     ]
    }
   ],
   "source": [
    "target = 1\n",
    "i = 1\n",
    "wrong = target + 10**(-i)\n",
    "while wrong != target:\n",
    "    i+=1\n",
    "    wrong = target + 10**(-i)\n",
    "print(f'Machine precision holds up to 10^-{i-1}')"
   ]
  },
  {
   "cell_type": "markdown",
   "metadata": {},
   "source": [
    "5\\. Write a function that takes in input three parameters $a$, $b$ and $c$ and prints out the two solutions to the quadratic equation $ax^2+bx+c=0$ using the standard formula:\n",
    "$$\n",
    "x=\\frac{-b\\pm\\sqrt{b^2-4ac}}{2a}\n",
    "$$\n",
    "\n",
    "(a) use the program to compute the solution for $a=0.001$, $b=1000$ and $c=0.001$\n",
    "\n",
    "(b) re-express the standard solution formula by multiplying top and bottom by $-b\\mp\\sqrt{b^2-4ac}$ and again find the solution for $a=0.001$, $b=1000$ and $c=0.001$. How does it compare with what previously obtained? Why?\n",
    "\n",
    "(c) write a function that compute the roots of a quadratic equation accurately in all cases"
   ]
  },
  {
   "cell_type": "code",
   "execution_count": 17,
   "metadata": {},
   "outputs": [
    {
     "name": "stdout",
     "output_type": "stream",
     "text": [
      "(-9.999894245993346e-07, -999999.999999)\n",
      "(-9.999894245993346e-07, -999999.9999990001)\n",
      "999.999999998\n"
     ]
    },
    {
     "ename": "OverflowError",
     "evalue": "math range error",
     "output_type": "error",
     "traceback": [
      "\u001b[0;31m----------------------------------------------------------------------\u001b[0m",
      "\u001b[0;31mOverflowError\u001b[0m                        Traceback (most recent call last)",
      "\u001b[0;32m<ipython-input-17-051c1f02fee0>\u001b[0m in \u001b[0;36m<module>\u001b[0;34m\u001b[0m\n\u001b[1;32m     21\u001b[0m \u001b[0;31m#    return exp(x_1), exp(x_2)\u001b[0m\u001b[0;34m\u001b[0m\u001b[0;34m\u001b[0m\u001b[0;34m\u001b[0m\u001b[0m\n\u001b[1;32m     22\u001b[0m \u001b[0;34m\u001b[0m\u001b[0m\n\u001b[0;32m---> 23\u001b[0;31m \u001b[0mprint\u001b[0m\u001b[0;34m(\u001b[0m\u001b[0mexp_gen_quad\u001b[0m\u001b[0;34m(\u001b[0m\u001b[0ma\u001b[0m\u001b[0;34m,\u001b[0m\u001b[0mb\u001b[0m\u001b[0;34m,\u001b[0m\u001b[0mc\u001b[0m\u001b[0;34m)\u001b[0m\u001b[0;34m)\u001b[0m\u001b[0;34m\u001b[0m\u001b[0;34m\u001b[0m\u001b[0m\n\u001b[0m",
      "\u001b[0;32m<ipython-input-17-051c1f02fee0>\u001b[0m in \u001b[0;36mexp_gen_quad\u001b[0;34m(a, b, c)\u001b[0m\n\u001b[1;32m     10\u001b[0m \u001b[0;32mdef\u001b[0m \u001b[0mexp_gen_quad\u001b[0m\u001b[0;34m(\u001b[0m\u001b[0ma\u001b[0m\u001b[0;34m,\u001b[0m\u001b[0mb\u001b[0m\u001b[0;34m,\u001b[0m\u001b[0mc\u001b[0m\u001b[0;34m)\u001b[0m\u001b[0;34m:\u001b[0m\u001b[0;34m\u001b[0m\u001b[0;34m\u001b[0m\u001b[0m\n\u001b[1;32m     11\u001b[0m     \u001b[0mprint\u001b[0m\u001b[0;34m(\u001b[0m\u001b[0mdet\u001b[0m\u001b[0;34m(\u001b[0m\u001b[0ma\u001b[0m\u001b[0;34m,\u001b[0m\u001b[0mb\u001b[0m\u001b[0;34m,\u001b[0m\u001b[0mc\u001b[0m\u001b[0;34m)\u001b[0m\u001b[0;34m)\u001b[0m\u001b[0;34m\u001b[0m\u001b[0;34m\u001b[0m\u001b[0m\n\u001b[0;32m---> 12\u001b[0;31m     \u001b[0mprint\u001b[0m\u001b[0;34m(\u001b[0m\u001b[0mexp\u001b[0m\u001b[0;34m(\u001b[0m\u001b[0;36m1000\u001b[0m\u001b[0;34m)\u001b[0m\u001b[0;34m)\u001b[0m\u001b[0;34m\u001b[0m\u001b[0;34m\u001b[0m\u001b[0m\n\u001b[0m\u001b[1;32m     13\u001b[0m     \u001b[0mx_1\u001b[0m \u001b[0;34m=\u001b[0m \u001b[0mexp\u001b[0m\u001b[0;34m(\u001b[0m\u001b[0;34m-\u001b[0m\u001b[0mb\u001b[0m\u001b[0;34m)\u001b[0m\u001b[0;34m*\u001b[0m\u001b[0mexp\u001b[0m\u001b[0;34m(\u001b[0m\u001b[0mdet\u001b[0m\u001b[0;34m(\u001b[0m\u001b[0ma\u001b[0m\u001b[0;34m,\u001b[0m\u001b[0mb\u001b[0m\u001b[0;34m,\u001b[0m\u001b[0mc\u001b[0m\u001b[0;34m)\u001b[0m\u001b[0;34m)\u001b[0m\u001b[0;34m\u001b[0m\u001b[0;34m\u001b[0m\u001b[0m\n\u001b[1;32m     14\u001b[0m     \u001b[0mx_2\u001b[0m \u001b[0;34m=\u001b[0m \u001b[0mexp\u001b[0m\u001b[0;34m(\u001b[0m\u001b[0;34m-\u001b[0m\u001b[0mb\u001b[0m\u001b[0;34m)\u001b[0m\u001b[0;34m*\u001b[0m\u001b[0mexp\u001b[0m\u001b[0;34m(\u001b[0m\u001b[0;34m-\u001b[0m\u001b[0mdet\u001b[0m\u001b[0;34m(\u001b[0m\u001b[0ma\u001b[0m\u001b[0;34m,\u001b[0m\u001b[0mb\u001b[0m\u001b[0;34m,\u001b[0m\u001b[0mc\u001b[0m\u001b[0;34m)\u001b[0m\u001b[0;34m)\u001b[0m\u001b[0;34m\u001b[0m\u001b[0;34m\u001b[0m\u001b[0m\n",
      "\u001b[0;31mOverflowError\u001b[0m: math range error"
     ]
    }
   ],
   "source": [
    "# a\n",
    "a,b,c = 0.001,1000,0.001\n",
    "from math import sqrt, exp, log\n",
    "det = lambda a,b,c: sqrt(b**2-4*a*c)\n",
    "gen_quad = lambda a, b, c: ((-b+det(a,b,c))/(2*a), (-b-det(a,b,c))/(2*a))\n",
    "re_gen_quad = lambda a, b, c: ((-b+det(a,b,c))*(-b-det(a,b,c))/(2*a*(-b-det(a,b,c))), (-b-det(a,b,c))*(-b+det(a,b,c))/(2*a*(-b+det(a,b,c))))\n",
    "print(gen_quad(a,b,c))\n",
    "print(re_gen_quad(a,b,c))\n",
    "\n",
    "def exp_gen_quad(a,b,c):\n",
    "    print(det(a,b,c))\n",
    "    print(exp(1000))\n",
    "    x_1 = exp(-b)*exp(det(a,b,c))\n",
    "    x_2 = exp(-b)*exp(-det(a,b,c))\n",
    "    x_1 = log(x_1)\n",
    "    x_2 = log(x_2)\n",
    "    return x_1/(2*a), x_2/(2*a)\n",
    "#def log_gen_quad(a,b,c):\n",
    "#    x_1 = log(-b+det(a,b,c))-log(2)-log(a)\n",
    "#    x_2 = log(-b-det(a,b,c))-log(2)-log(a)\n",
    "#    return exp(x_1), exp(x_2)\n",
    "\n",
    "print(exp_gen_quad(a,b,c))"
   ]
  },
  {
   "cell_type": "markdown",
   "metadata": {},
   "source": [
    "6\\. Write a program that implements the function $f(x)=x(x−1)$\n",
    "\n",
    "(a) Calculate the derivative of the function at the point $x = 1$ using the derivative definition:\n",
    "\n",
    "$$\n",
    "\\frac{{\\rm d}f}{{\\rm d}x} = \\lim_{\\delta\\to0} \\frac{f(x+\\delta)-f(x)}{\\delta}\n",
    "$$\n",
    "\n",
    "with $\\delta = 10^{−2}$. Calculate the true value of the same derivative analytically and compare with the answer your program gives. The two will not agree perfectly. Why not?\n",
    "\n",
    "(b) Repeat the calculation for $\\delta = 10^{−4}, 10^{−6}, 10^{−8}, 10^{−10}, 10^{−12}$ and $10^{−14}$. How does the accuracy scales with $\\delta$?"
   ]
  },
  {
   "cell_type": "code",
   "execution_count": 18,
   "metadata": {},
   "outputs": [
    {
     "name": "stdout",
     "output_type": "stream",
     "text": [
      "1.010000000000001\n",
      "The analytical value of the derivative at x= 1 is 1.\n"
     ]
    },
    {
     "data": {
      "text/plain": [
       "<matplotlib.collections.PathCollection at 0x7f2d5395a7b8>"
      ]
     },
     "execution_count": 18,
     "metadata": {},
     "output_type": "execute_result"
    },
    {
     "data": {
      "image/png": "[encoded data removed]",
      "text/plain": [
       "<Figure size 432x288 with 1 Axes>"
      ]
     },
     "metadata": {
      "needs_background": "light"
     },
     "output_type": "display_data"
    }
   ],
   "source": [
    "import matplotlib.pyplot as plt\n",
    "import numpy as np\n",
    "\n",
    "f = lambda x: x*(x-1)\n",
    "\n",
    "def D_x(f,d):\n",
    "    return lambda x: (f(x+d)-f(x))/d\n",
    "\n",
    "df = D_x(f,1e-2)\n",
    "print(df(1))\n",
    "x=1\n",
    "print(f'The analytical value of the derivative at x= {x} is {2*x-1}.')\n",
    "sample = np.array([float(f'1e-{i}') for i in range(2,16,2)])\n",
    "errors = abs(D_x(f, sample)(1)-1)\n",
    "plt.scatter(sample, errors)"
   ]
  },
  {
   "cell_type": "markdown",
   "metadata": {},
   "source": [
    "7\\. Consider the integral of the semicircle of radius 1:\n",
    "$$\n",
    "I=\\int_{-1}^{1} \\sqrt(1-x^2) {\\rm d}x\n",
    "$$\n",
    "which it's known to be $I=\\frac{\\pi}{2}=1.57079632679...$.\n",
    "Alternatively we can use the Riemann definition of the integral:\n",
    "$$\n",
    "I=\\lim_{N\\to\\infty} \\sum_{k=1}^{N} h y_k \n",
    "$$\n",
    "\n",
    "with $h=2/N$ the width of each of the $N$ slices the domain is divided into and where\n",
    "$y_k$ is the value of the function at the $k-$th slice.\n",
    "\n",
    "(a) Write a programe to compute the integral with $N=100$. How does the result compares to the true value?\n",
    "\n",
    "(b) How much can $N$ be increased if the computation needs to be run in less than a second? What is the gain in running it for 1 minute? \n"
   ]
  },
  {
   "cell_type": "code",
   "execution_count": 52,
   "metadata": {},
   "outputs": [
    {
     "name": "stdout",
     "output_type": "stream",
     "text": [
      "The actual value is 1.5707963267948966\n",
      "The calculated value is 1.5702085158895231\n",
      "The error is 0.037421204477400175%\n",
      "This suggests we can grow N to approximately 140269\n",
      "The actual time spent on this calculation is 0.29237720699893543 seconds\n",
      "The actual time spent on this calculation is 0.9851424199987378 seconds\n",
      "The actual time spent on this calculation is 59.363076776000526 seconds, with N = 28785180. Error is now 57.07963267905036%\n"
     ]
    },
    {
     "data": {
      "image/png": "[encoded data removed]",
      "text/plain": [
       "<Figure size 432x288 with 1 Axes>"
      ]
     },
     "metadata": {
      "needs_background": "light"
     },
     "output_type": "display_data"
    }
   ],
   "source": [
    "from math import pi\n",
    "from timeit import timeit as ti\n",
    "from scipy.linalg import lstsq\n",
    "\n",
    "def Int_x(f,N):\n",
    "    return lambda a,b: sum(f(x/N) for x in range(N*a,N*b))/N\n",
    "print(f'The actual value is {pi/2}')\n",
    "print(f'The calculated value is {Int_x(lambda x: sqrt(1-x**2),100)(-1,1)}')\n",
    "diff = abs(pi/2-Int_x(lambda x: sqrt(1-x**2),100)(-1,1))\n",
    "print(f'The error is {(diff/(pi/2))*100}%')\n",
    "\n",
    "times = []\n",
    "n = np.arange(100,3000,100)\n",
    "for i in n:\n",
    "    timeable = lambda: Int_x(lambda x: sqrt(1-x**2),i)(-1,1)\n",
    "    times.append(ti(timeable, number = 1000))\n",
    "times =np.array(times)\n",
    "plt.plot(n,times)\n",
    "A = np.vstack([n,np.ones(len(n))]).T\n",
    "p,rss,rnk,s = lstsq(A,times)\n",
    "\n",
    "# Since we are taking the time for 1000 evaluations, then a second is 1000 s. Solving p[0]*N+p[1]=1000 for N:\n",
    "max_n_second = int((1000-p[1])//p[0])\n",
    "print(f'Applying least squares suggests N can grow to approximately {max_n_second}')\n",
    "second_long_calculation = lambda: Int_x(lambda x: sqrt(1-x**2),max_n_second)(-1,1)\n",
    "actual_time = ti(second_long_calculation, number = 1)\n",
    "print(f'The actual time spent on this calculation is {actual_time} seconds')\n",
    "missed_factor = 1/actual_time\n",
    "new_n = int(missed_factor*max_n_second)\n",
    "print(f'The result implies, that we can go up to {new_n}. This number is way beyond the order of those evaluated for least squares.')\n",
    "second_long_calculation = lambda: Int_x(lambda x: sqrt(1-x**2),new_n)(-1,1)\n",
    "actual_time = ti(second_long_calculation, number = 1)\n",
    "print(f'The actual time spent on this calculation is {actual_time} seconds')\n",
    "# If we were to evaluate for at most 60 s\n",
    "minute_long_calculation = lambda: Int_x(lambda x: sqrt(1-x**2),60*new_n)(-1,1)\n",
    "actual_time = ti(minute_long_calculation, number = 1)\n",
    "minute_error = abs(1-minute_long_calculation())\n",
    "print(f'The actual time spent on this calculation is {actual_time} seconds, with N = {60*new_n}. Error is now {minute_error*100}%\\n The error typically grows. The source of this growth can be mapped to the quotient 1/N in the method, which is not reliable for N of this order.')\n"
   ]
  },
  {
   "cell_type": "code",
   "execution_count": null,
   "metadata": {},
   "outputs": [],
   "source": []
  }
 ],
 "metadata": {
  "kernelspec": {
   "display_name": "Python 3",
   "language": "python",
   "name": "python3"
  },
  "language_info": {
   "codemirror_mode": {
    "name": "ipython",
    "version": 3
   },
   "file_extension": ".py",
   "mimetype": "text/x-python",
   "name": "python",
   "nbconvert_exporter": "python",
   "pygments_lexer": "ipython3",
   "version": "3.7.3"
  }
 },
 "nbformat": 4,
 "nbformat_minor": 2
}
