{
 "cells": [
  {
   "cell_type": "markdown",
   "metadata": {},
   "source": [
    "1\\. Write a function that converts number representation (bin<->dec<->hex)"
   ]
  },
  {
   "cell_type": "code",
   "execution_count": null,
   "metadata": {},
   "outputs": [],
   "source": [
    "def convert(x, in_base, out_base):\n",
    "    if in_base == \"dec\":\n",
    "        if out_base == \"dec\":\n",
    "            return x\n",
    "        elif out_base == \"bin\":\n",
    "            return bin(x)\n",
    "        elif out_base == \"hex\":\n",
    "            return hex(x)\n",
    "    if in_base == \"bin\":\n",
    "        if out_base == \"dec\":\n",
    "            return int(x, 2)\n",
    "        elif out_base == \"bin\":\n",
    "            return x\n",
    "        elif out_base == \"hex\":\n",
    "            return hex(int(x, 2))\n",
    "    if in_base == \"hex\":\n",
    "        if out_base == \"dec\":\n",
    "            return int(x, 16)\n",
    "        elif out_base == \"bin\":\n",
    "            return bin(int(x, 16))\n",
    "        elif out_base == \"hex\":\n",
    "            return x\n",
    "    \n",
    "print(convert(18, \"dec\", \"hex\")) \n",
    "print(convert(18, \"dec\", \"dec\")) \n",
    "print(convert('0b1100', \"bin\", \"dec\")) \n",
    "print(convert('0b1100', \"bin\", \"hex\")) \n",
    "print(convert('0xCD00', \"hex\", \"dec\")) "
   ]
  },
  {
   "cell_type": "markdown",
   "metadata": {},
   "source": [
    "2\\. Write a function that converts a 32 bit word into a single precision floating point (i.e. interprets the various bits as sign, mantissa and exponent)"
   ]
  },
  {
   "cell_type": "code",
   "execution_count": null,
   "metadata": {},
   "outputs": [],
   "source": [
    "def to_float(bits):\n",
    "    # sign\n",
    "    sign = (-1)**(int(bits[0]))\n",
    "    \n",
    "    #exponent\n",
    "    exponent = bits[1:9]\n",
    "    exp = 0;\n",
    "    k = len(exponent) - 1\n",
    "    for b in exponent:\n",
    "        exp += int(b)*(2**k)\n",
    "        k -= 1\n",
    "    exp -= 127\n",
    "    \n",
    "    #mantissa\n",
    "    mantissa = bits[9:]\n",
    "    frac = 0\n",
    "    k = 1\n",
    "    for b in mantissa:\n",
    "        frac += int(b)*(2**(-k))\n",
    "        k = k+1\n",
    "    frac += 1\n",
    "    \n",
    "    dec = sign*(2**exp)*frac\n",
    "    return dec\n",
    "\n",
    "stringa = '11000001110011000000000100000000'\n",
    "print(to_float(stringa))"
   ]
  },
  {
   "cell_type": "markdown",
   "metadata": {},
   "source": [
    "3\\. Write a program to determine the underflow and overflow limits (within a factor of 2) for python on your computer. \n",
    "\n",
    "**Tips**: define two variables inizialized to 1 and halve/double them enough time to exceed the under/over-flow limits  "
   ]
  },
  {
   "cell_type": "code",
   "execution_count": null,
   "metadata": {},
   "outputs": [],
   "source": [
    "uflow = 1\n",
    "ucount = 0\n",
    "while uflow != 0:\n",
    "    ucount += 1\n",
    "    min_n = uflow\n",
    "    uflow = uflow/2\n",
    "print(\"Underflow limit reached after \" + str(ucount) + \" iterations, equal to \" + str(min_n))\n",
    "\n",
    "\n",
    "oflow = 1\n",
    "ocount = 0\n",
    "while oflow/oflow == 1: # NOT WORK\n",
    "    ocount += 1\n",
    "    max_n = oflow\n",
    "    oflow = oflow*2\n",
    "print(\"Overflow limit reached after \" + str(ocount) + \" iterations, equal to \" + str(max_n))"
   ]
  },
  {
   "cell_type": "markdown",
   "metadata": {},
   "source": [
    "4\\. Write a program to determine the machine precision\n",
    "\n",
    "**Tips**: define a new variable by adding a smaller and smaller value (proceeding similarly to prob. 2) to an original variable and check the point where the two are the same "
   ]
  },
  {
   "cell_type": "code",
   "execution_count": null,
   "metadata": {},
   "outputs": [],
   "source": [
    "n = 1\n",
    "epsilon = 1\n",
    "m = n + epsilon\n",
    "while n != m:\n",
    "    epsilon = epsilon/2\n",
    "    m = n + epsilon\n",
    "\n",
    "print(\"The two variable results the same after adding an epsilon equal to: \" + str(epsilon))"
   ]
  },
  {
   "cell_type": "markdown",
   "metadata": {},
   "source": [
    "5\\. Write a function that takes in input three parameters $a$, $b$ and $c$ and prints out the two solutions to the quadratic equation $ax^2+bx+c=0$ using the standard formula:\n",
    "$$\n",
    "x=\\frac{-b\\pm\\sqrt{b^2-4ac}}{2a}\n",
    "$$\n",
    "\n",
    "(a) use the program to compute the solution for $a=0.001$, $b=1000$ and $c=0.001$\n",
    "\n",
    "(b) re-express the standard solution formula by multiplying top and bottom by $-b\\mp\\sqrt{b^2-4ac}$ and again find the solution for $a=0.001$, $b=1000$ and $c=0.001$. How does it compare with what previously obtained? Why?\n",
    "\n",
    "(c) write a function that compute the roots of a quadratic equation accurately in all cases"
   ]
  },
  {
   "cell_type": "code",
   "execution_count": null,
   "metadata": {},
   "outputs": [],
   "source": [
    "import math as m\n",
    "a = 0.001\n",
    "b = 1000\n",
    "c = 0.001\n",
    "\n",
    "def compute_x(a, b, c):\n",
    "    delta = (b**2) - (4*a*c)\n",
    "    x1 = (-b + m.sqrt(delta)) / (2*a)\n",
    "    x2 = (-b - m.sqrt(delta)) / (2*a)\n",
    "    return x1, x2\n",
    "\n",
    "def compute_x_mod(a, b, c):\n",
    "    delta = (b**2) - (4*a*c)\n",
    "    x1 =  (2*c) / (-b - m.sqrt(delta))\n",
    "    x2 =  (2*c) / (-b + m.sqrt(delta))\n",
    "    return x1, x2\n",
    "\n",
    "print(compute_x(a, b, c))\n",
    "print(compute_x_mod(a, b, c))"
   ]
  },
  {
   "cell_type": "markdown",
   "metadata": {},
   "source": [
    "6\\. Write a program that implements the function $f(x)=x(x−1)$\n",
    "\n",
    "(a) Calculate the derivative of the function at the point $x = 1$ using the derivative definition:\n",
    "\n",
    "$$\n",
    "\\frac{{\\rm d}f}{{\\rm d}x} = \\lim_{\\delta\\to0} \\frac{f(x+\\delta)-f(x)}{\\delta}\n",
    "$$\n",
    "\n",
    "with $\\delta = 10^{−2}$. Calculate the true value of the same derivative analytically and compare with the answer your program gives. The two will not agree perfectly. Why not?\n",
    "\n",
    "(b) Repeat the calculation for $\\delta = 10^{−4}, 10^{−6}, 10^{−8}, 10^{−10}, 10^{−12}$ and $10^{−14}$. How does the accuracy scales with $\\delta$?"
   ]
  },
  {
   "cell_type": "code",
   "execution_count": null,
   "metadata": {},
   "outputs": [],
   "source": [
    "def f(x):\n",
    "    return x*(x-1)\n",
    "\n",
    "def derivative(func , x, delta):\n",
    "    return ((func(x+delta)-func(x))/delta)\n",
    "\n",
    "print(\"Derivative of f(x=1) with delta =\", pow(10, -2), \"\\t\\t:\", derivative(f, 1, pow(10, -2)))\n",
    "\n",
    "deltas = [pow(10, -4), pow(10, -6), pow(10, -8), pow(10, -10), pow(10, -12), pow(10, -14)]\n",
    "for i in deltas:\n",
    "    print(\"Derivative of f(x=1) with delta =\", i, \"\\t:\", derivative(f, 1, i))"
   ]
  },
  {
   "cell_type": "markdown",
   "metadata": {},
   "source": [
    "7\\. Consider the integral of the semicircle of radius 1:\n",
    "$$\n",
    "I=\\int_{-1}^{1} \\sqrt(1-x^2) {\\rm d}x\n",
    "$$\n",
    "which it's known to be $I=\\frac{\\pi}{2}=1.57079632679...$.\n",
    "Alternatively we can use the Riemann definition of the integral:\n",
    "$$\n",
    "I=\\lim_{N\\to\\infty} \\sum_{k=1}^{N} h y_k \n",
    "$$\n",
    "\n",
    "with $h=2/N$ the width of each of the $N$ slices the domain is divided into and where\n",
    "$y_k$ is the value of the function at the $k-$th slice.\n",
    "\n",
    "(a) Write a programe to compute the integral with $N=100$. How does the result compares to the true value?\n",
    "\n",
    "(b) How much can $N$ be increased if the computation needs to be run in less than a second? What is the gain in running it for 1 minute? \n"
   ]
  },
  {
   "cell_type": "code",
   "execution_count": null,
   "metadata": {},
   "outputs": [],
   "source": [
    "import math as m\n",
    "\n",
    "def func(x):\n",
    "    return m.sqrt(1-(x**2))\n",
    "\n",
    "\n",
    "def integral(start, end, function, N):\n",
    "    h = end - start\n",
    "    start = start*N\n",
    "    end = end*N\n",
    "    I = sum( [ (h/N)*function(x/N) for x in range(start,end,h) ] )\n",
    "    return I\n",
    "\n",
    "print(\"Value of the integral with N = 100 :\", integral(-1,1,func, 100))\n",
    "\n",
    "import time\n",
    "for n in range(10**5,10**10,10**5):\n",
    "    t0 = time.process_time()\n",
    "    I = integral(-1,1, func, n)\n",
    "    t1 = time.process_time()\n",
    "    if t1-t0 < 1:    \n",
    "        print(\"N =\", n , \"\\tTime =\", (t1-t0), \"s\", \"\\tResult =\", I)\n",
    "    else:\n",
    "        break\n",
    "print(\"\\nTo calculate the integral in lower than a second, the maximum value of N is about:\", n-10**5)\n",
    "print(\"The difference between the true value is:\", abs(integral(-1,1, func, n-(10**5)) - ((m.pi)/2)))"
   ]
  },
  {
   "cell_type": "code",
   "execution_count": null,
   "metadata": {},
   "outputs": [],
   "source": [
    "# Since expended time doubles when the number of iterations is doubled\n",
    "# If we multiply by 60 the maximum number N we should reach an\n",
    "# execution time of about one minute\n",
    "\n",
    "N = (n-10**5)*60\n",
    "t0 = time.process_time()\n",
    "I = integral(-1,1, func, N)\n",
    "t1 = time.process_time()\n",
    "print(\"N =\", N , \"\\tTime =\", (t1-t0), \"s\", \"\\tResult =\", I)\n",
    "print(\"The difference with respect to the true value is:\", abs(I - ((m.pi)/2)))\n",
    "print(\"The difference with respect to the previous error is:\", abs(I - integral(-1,1, func, n-(10**5)))"
   ]
  },
  {
   "cell_type": "code",
   "execution_count": null,
   "metadata": {},
   "outputs": [],
   "source": []
  }
 ],
 "metadata": {
  "kernelspec": {
   "display_name": "Python 3",
   "language": "python",
   "name": "python3"
  },
  "language_info": {
   "codemirror_mode": {
    "name": "ipython",
    "version": 3
   },
   "file_extension": ".py",
   "mimetype": "text/x-python",
   "name": "python",
   "nbconvert_exporter": "python",
   "pygments_lexer": "ipython3",
   "version": "3.8.3"
  }
 },
 "nbformat": 4,
 "nbformat_minor": 2
}
