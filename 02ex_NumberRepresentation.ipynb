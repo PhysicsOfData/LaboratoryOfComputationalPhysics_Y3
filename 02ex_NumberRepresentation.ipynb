{
 "cells": [
  {
   "cell_type": "markdown",
   "metadata": {},
   "source": [
    "1\\. Write a function that converts number representation (bin<->dec<->hex)"
   ]
  },
  {
   "cell_type": "code",
   "execution_count": 37,
   "metadata": {},
   "outputs": [
    {
     "name": "stdout",
     "output_type": "stream",
     "text": [
      "Insert a number: 30\n",
      "number:  30 \n",
      "binary:  0b11110 \n",
      "hexa:  0x1e\n"
     ]
    }
   ],
   "source": [
    "n = int(input(\"Insert a number: \"))\n",
    "def conv(n):\n",
    "    print(\"number: \",n ,\"\\nbinary: \", bin(n),\"\\nhexa: \", hex(n))\n",
    "conv(n)"
   ]
  },
  {
   "cell_type": "markdown",
   "metadata": {},
   "source": [
    "2\\. Write a function that converts a 32 bit word into a single precision floating point (i.e. interprets the various bits as sign, mantissa and exponent)"
   ]
  },
  {
   "cell_type": "code",
   "execution_count": 24,
   "metadata": {},
   "outputs": [
    {
     "name": "stdout",
     "output_type": "stream",
     "text": [
      "exp:  127 \n",
      "mantissa:  1.0\n",
      "\n",
      "Il numero convertito è:  -1.0\n"
     ]
    }
   ],
   "source": [
    "def conv_float(x):\n",
    "    exp = 0\n",
    "    mantissa = 1\n",
    "    bias = 127\n",
    "    s = x[0]\n",
    "    \n",
    "    for k in range (1,9):\n",
    "        exp += int(x[k])*2**(8-k)\n",
    "    \n",
    "    m = x[9:32]\n",
    "    for j in range(23):\n",
    "        mantissa += int(m[j])*2**(-j-1)\n",
    "        \n",
    "    print(\"exp: \", exp, \"\\nmantissa: \", mantissa)\n",
    "    \n",
    "    n = mantissa*2**(exp-bias)\n",
    "    \n",
    "    if int(s) == 0:\n",
    "        print(\"\\nIl numero convertito è: \", n)\n",
    "    if int(s) == 1:\n",
    "        print(\"\\nIl numero convertito è: \", -n)\n",
    "\n",
    "conv_float(\"10111111100000000000000000000000\")\n"
   ]
  },
  {
   "cell_type": "markdown",
   "metadata": {},
   "source": [
    "3\\. Write a program to determine the underflow and overflow limits (within a factor of 2) for python on your computer. \n",
    "\n",
    "**Tips**: define two variables inizialized to 1 and halve/double them enough time to exceed the under/over-flow limits  "
   ]
  },
  {
   "cell_type": "code",
   "execution_count": 25,
   "metadata": {},
   "outputs": [
    {
     "name": "stdout",
     "output_type": "stream",
     "text": [
      "sys.float_info(max=1.7976931348623157e+308, max_exp=1024, max_10_exp=308, min=2.2250738585072014e-308, min_exp=-1021, min_10_exp=-307, dig=15, mant_dig=53, epsilon=2.220446049250313e-16, radix=2, rounds=1)\n",
      "Overflow:  8.98846567431158e+307 \n",
      "Underflow:  5e-324\n"
     ]
    }
   ],
   "source": [
    "import sys\n",
    "import math\n",
    "\n",
    "print(sys.float_info)\n",
    "\n",
    "under = 1.\n",
    "over = 1.\n",
    "\n",
    "while(under != 0):\n",
    "    vunder = under\n",
    "    under = under / 2\n",
    "while (over != math.inf):\n",
    "    vover = over\n",
    "    over *= 2\n",
    "\n",
    "print(\"Overflow: \", vover, \"\\nUnderflow: \", vunder)"
   ]
  },
  {
   "cell_type": "markdown",
   "metadata": {},
   "source": [
    "4. Write a program to determine the machine precision\n",
    "\n",
    "**Tips**: define a new variable by adding a smaller and smaller value (proceeding similarly to prob. 2) to an original variable and check the point where the two are the same "
   ]
  },
  {
   "cell_type": "code",
   "execution_count": 28,
   "metadata": {},
   "outputs": [
    {
     "name": "stdout",
     "output_type": "stream",
     "text": [
      "5.551115123125783e-17\n"
     ]
    }
   ],
   "source": [
    "x = 1\n",
    "y = 2\n",
    "e = 1\n",
    "\n",
    "while (x != y):\n",
    "    y = x + e\n",
    "    e /= 2\n",
    "print(e)"
   ]
  },
  {
   "cell_type": "markdown",
   "metadata": {},
   "source": [
    "5\\. Write a function that takes in input three parameters $a$, $b$ and $c$ and prints out the two solutions to the quadratic equation $ax^2+bx+c=0$ using the standard formula:\n",
    "$$\n",
    "x=\\frac{-b\\pm\\sqrt{b^2-4ac}}{2a}\n",
    "$$\n",
    "\n",
    "(a) use the program to compute the solution for $a=0.001$, $b=1000$ and $c=0.001$\n",
    "\n",
    "(b) re-express the standard solution formula by multiplying top and bottom by $-b\\mp\\sqrt{b^2-4ac}$ and again find the solution for $a=0.001$, $b=1000$ and $c=0.001$. How does it compare with what previously obtained? Why?\n",
    "\n",
    "(c) write a function that compute the roots of a quadratic equation accurately in all cases"
   ]
  },
  {
   "cell_type": "code",
   "execution_count": 36,
   "metadata": {},
   "outputs": [
    {
     "name": "stdout",
     "output_type": "stream",
     "text": [
      "-999999.999999 -9.999894245993346e-07\n",
      "-9.999894245993346e-07 -999999.9999990001\n"
     ]
    }
   ],
   "source": [
    "def second_order_eqs(a,b,c):\n",
    "    x1 = (-b - pow((b**2-4*a*c),1/2))/(2*a)\n",
    "    x2 = (-b + pow((b**2-4*a*c),1/2))/(2*a)\n",
    "    print(x1,x2)\n",
    "\n",
    "def second_order_eqs1(a,b,c):\n",
    "    x1 = ((-b + (b**2-4*a*c)**(1/2))*(-b - (b**2-4*a*c)**(1/2)))/((2*a)*(-b - (b**2-4*a*c)**(1/2)))\n",
    "    x2 = ((-b - (b**2-4*a*c)**(1/2))*(-b + (b**2-4*a*c)**(1/2)))/((2*a)*(-b + (b**2-4*a*c)**(1/2)))\n",
    "    print(x1,x2)\n",
    "\n",
    "second_order_eqs(0.001,1000,0.001)\n",
    "second_order_eqs1(0.001,1000,0.001)"
   ]
  },
  {
   "cell_type": "markdown",
   "metadata": {},
   "source": [
    "6\\. Write a program that implements the function $f(x)=x(x−1)$\n",
    "\n",
    "(a) Calculate the derivative of the function at the point $x = 1$ using the derivative definition:\n",
    "\n",
    "$$\n",
    "\\frac{{\\rm d}f}{{\\rm d}x} = \\lim_{\\delta\\to0} \\frac{f(x+\\delta)-f(x)}{\\delta}\n",
    "$$\n",
    "\n",
    "with $\\delta = 10^{−2}$. Calculate the true value of the same derivative analytically and compare with the answer your program gives. The two will not agree perfectly. Why not?\n",
    "\n",
    "(b) Repeat the calculation for $\\delta = 10^{−4}, 10^{−6}, 10^{−8}, 10^{−10}, 10^{−12}$ and $10^{−14}$. How does the accuracy scales with $\\delta$?"
   ]
  },
  {
   "cell_type": "code",
   "execution_count": 59,
   "metadata": {},
   "outputs": [
    {
     "name": "stdout",
     "output_type": "stream",
     "text": [
      "derivative scaling with different delta values:\n",
      "\n",
      "1.010000000000001 delta = 0.01\n",
      "1.0000999999998899 delta = 0.0001\n",
      "1.0000009999177333 delta = 1e-06\n",
      "1.0000000039225287 delta = 1e-08\n",
      "1.000000082840371 delta = 1e-10\n",
      "1.0000889005833413 delta = 1e-12\n",
      "0.9992007221626509 delta = 1e-14\n"
     ]
    },
    {
     "data": {
      "image/png": "[encoded data removed]",
      "text/plain": [
       "<Figure size 432x288 with 1 Axes>"
      ]
     },
     "metadata": {
      "needs_background": "light"
     },
     "output_type": "display_data"
    }
   ],
   "source": [
    "import matplotlib.pyplot as plt\n",
    "import numpy as np\n",
    "delta = [10**(-2), 10**(-4), 10**(-6), 10**(-8), 10**(-10), 10**(-12), 10**(-14)]\n",
    "\n",
    "def func(x):\n",
    "    return x*(x-1)\n",
    "\n",
    "def derivative_fun(x):\n",
    "    print(\"derivative scaling with different delta values:\\n\")\n",
    "    for i in range(len(delta)):\n",
    "        print((func(x+delta[i])-func(x))/delta[i], \"delta =\", delta[i])\n",
    "        \n",
    "def func_der_plot(delta):\n",
    "    x = np.linspace(0,4,100)\n",
    "    plt.plot(x, (func(x+delta)-func(x))/delta, label = \"derivative\")\n",
    "    plt.plot(x, func(x), label = \"function\")\n",
    "    plt.legend()\n",
    "    plt.show()\n",
    "    \n",
    "derivative_fun(1)\n",
    "func_der_plot(0.01)"
   ]
  },
  {
   "cell_type": "markdown",
   "metadata": {},
   "source": [
    "7\\. Consider the integral of the semicircle of radius 1:\n",
    "$$\n",
    "I=\\int_{-1}^{1} \\sqrt(1-x^2) {\\rm d}x\n",
    "$$\n",
    "which it's known to be $I=\\frac{\\pi}{2}=1.57079632679...$.\n",
    "Alternatively we can use the Riemann definition of the integral:\n",
    "$$\n",
    "I=\\lim_{N\\to\\infty} \\sum_{k=1}^{N} h y_k \n",
    "$$\n",
    "\n",
    "with $h=2/N$ the width of each of the $N$ slices the domain is divided into and where\n",
    "$y_k$ is the value of the function at the $k-$th slice.\n",
    "\n",
    "(a) Write a programe to compute the integral with $N=100$. How does the result compares to the true value?\n",
    "\n",
    "(b) How much can $N$ be increased if the computation needs to be run in less than a second? What is the gain in running it for 1 minute? \n"
   ]
  },
  {
   "cell_type": "code",
   "execution_count": 34,
   "metadata": {},
   "outputs": [
    {
     "name": "stdout",
     "output_type": "stream",
     "text": [
      "0.009412189094627044\n",
      "3.9318482514261177e-07\n"
     ]
    }
   ],
   "source": [
    "import numpy as np\n",
    "\n",
    "def func(x):\n",
    "    return (1-x**2)**(1/2)\n",
    "\n",
    "def integral(N):\n",
    "    I = 0\n",
    "    h = (1-(-1))/N\n",
    "    for k in range(N):\n",
    "        I += h*func(k/N)\n",
    "    return I\n",
    "\n",
    "print(abs(np.pi/2-integral(100)))\n",
    "print(abs(integral(150000000)-integral(2500000)))\n",
    "#%timeit integral (2500000) - 1 sec\n",
    "#%timeit integral (150000000) - 1 min"
   ]
  },
  {
   "cell_type": "code",
   "execution_count": null,
   "metadata": {},
   "outputs": [],
   "source": []
  }
 ],
 "metadata": {
  "kernelspec": {
   "display_name": "Python 3",
   "language": "python",
   "name": "python3"
  },
  "language_info": {
   "codemirror_mode": {
    "name": "ipython",
    "version": 3
   },
   "file_extension": ".py",
   "mimetype": "text/x-python",
   "name": "python",
   "nbconvert_exporter": "python",
   "pygments_lexer": "ipython3",
   "version": "3.8.3"
  }
 },
 "nbformat": 4,
 "nbformat_minor": 2
}
