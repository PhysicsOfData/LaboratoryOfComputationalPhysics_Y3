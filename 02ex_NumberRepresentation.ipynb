{
 "cells": [
  {
   "cell_type": "markdown",
   "metadata": {},
   "source": [
    "1\\. Write a function that converts number representation (bin<->dec<->hex)"
   ]
  },
  {
   "cell_type": "code",
   "execution_count": 9,
   "metadata": {},
   "outputs": [
    {
     "name": "stdout",
     "output_type": "stream",
     "text": [
      "2 is converted to binary which is 0b10\n",
      "2 is converted to hexadecimal which is 0x2\n",
      "2 2\n"
     ]
    }
   ],
   "source": [
    "def number_conversion(number):\n",
    "    bin_number = bin(number)#number will be converted to binary and stored in bin_number\n",
    "    hex_number = hex(number)#number will be converted to hexadecimal and stored in hex_number\n",
    "    print(number,\"is converted to binary which is\",bin_number)\n",
    "    print(number,\"is converted to hexadecimal which is\",hex_number)\n",
    "    #both binary and hexadecimal will be converted to decimal\n",
    "    bin_number = int(bin_number,2)\n",
    "    hex_number = int(hex_number,16)\n",
    "    print(bin_number,hex_number)\n",
    "    \n",
    "number_conversion(2)"
   ]
  },
  {
   "cell_type": "markdown",
   "metadata": {},
   "source": [
    "2\\. Write a function that converts a 32 bit word into a single precision floating point (i.e. interprets the various bits as sign, mantissa and exponent)"
   ]
  },
  {
   "cell_type": "code",
   "execution_count": 3,
   "metadata": {},
   "outputs": [
    {
     "name": "stdout",
     "output_type": "stream",
     "text": [
      "sign bit:  0\n",
      "exponent:  10000101\n",
      "mantissa:  10001100000000000000000\n"
     ]
    }
   ],
   "source": [
    "def binaryOfFraction(fraction):\n",
    "    binary = str()\n",
    "    while (fraction):\n",
    "        fraction *= 2 \n",
    "        if (fraction >= 1): \n",
    "            int_part = 1\n",
    "            fraction -= 1\n",
    "        else: \n",
    "            int_part = 0 \n",
    "        binary += str(int_part)\n",
    "    return binary\n",
    "\n",
    "\n",
    "def floatpoint_conversion(number): \n",
    "    sign_bit = 0\n",
    "    if(number < 0): \n",
    "        sign_bit = 1 \n",
    "    number = abs(number)\n",
    "    int_str = bin(int(number))[2 : ]\n",
    "    fraction_str = binaryOfFraction(number - int(number))\n",
    "    ind = int_str.index('1')\n",
    "    exp_str = bin((len(int_str) - ind - 1) + 127)[2 : ] \n",
    "    mant_str = int_str[ind + 1 : ] + fraction_str\n",
    "    mant_str = mant_str + ('0' * (23 - len(mant_str)))\n",
    "    return sign_bit, exp_str, mant_str\n",
    "\n",
    "sign_bit, exp_str, mant_str = floatpoint_conversion(99)  \n",
    "print(\"sign bit: \",sign_bit)\n",
    "print(\"exponent: \",exp_str)\n",
    "print(\"mantissa: \",mant_str)"
   ]
  },
  {
   "cell_type": "markdown",
   "metadata": {},
   "source": [
    "3\\. Write a program to determine the underflow and overflow limits (within a factor of 2) for python on your computer. \n",
    "\n",
    "**Tips**: define two variables inizialized to 1 and halve/double them enough time to exceed the under/over-flow limits  "
   ]
  },
  {
   "cell_type": "code",
   "execution_count": 4,
   "metadata": {},
   "outputs": [
    {
     "name": "stdout",
     "output_type": "stream",
     "text": [
      "overflow value:  8.98846567431158e+307\n",
      "Underflow value:  5e-324\n"
     ]
    }
   ],
   "source": [
    "over_flow = 1.0\n",
    "under_flow = 1.0\n",
    "\n",
    "x = under_flow\n",
    "while(abs(x) != 0):\n",
    "    under_flow = x\n",
    "    x /= 2\n",
    "\n",
    "x = over_flow\n",
    "while(abs(x) != float('inf')):\n",
    "    over_flow = x\n",
    "    x *= 2\n",
    "\n",
    "print(\"overflow value: \",over_flow)\n",
    "print(\"Underflow value: \",under_flow)"
   ]
  },
  {
   "cell_type": "markdown",
   "metadata": {},
   "source": [
    "4\\. Write a program to determine the machine precision\n",
    "\n",
    "**Tips**: define a new variable by adding a smaller and smaller value (proceeding similarly to prob. 2) to an original variable and check the point where the two are the same "
   ]
  },
  {
   "cell_type": "code",
   "execution_count": 9,
   "metadata": {},
   "outputs": [
    {
     "name": "stdout",
     "output_type": "stream",
     "text": [
      "1.1102230246251565e-16\n"
     ]
    }
   ],
   "source": [
    "x = 1\n",
    "while(x+1 != 1):\n",
    "    x /= 2\n",
    "print(x)"
   ]
  },
  {
   "cell_type": "markdown",
   "metadata": {},
   "source": [
    "5\\. Write a function that takes in input three parameters $a$, $b$ and $c$ and prints out the two solutions to the quadratic equation $ax^2+bx+c=0$ using the standard formula:\n",
    "$$\n",
    "x=\\frac{-b\\pm\\sqrt{b^2-4ac}}{2a}\n",
    "$$\n",
    "\n",
    "(a) use the program to compute the solution for $a=0.001$, $b=1000$ and $c=0.001$\n",
    "\n",
    "(b) re-express the standard solution formula by multiplying top and bottom by $-b\\mp\\sqrt{b^2-4ac}$ and again find the solution for $a=0.001$, $b=1000$ and $c=0.001$. How does it compare with what previously obtained? Why?\n",
    "\n",
    "(c) write a function that compute the roots of a quadratic equation accurately in all cases"
   ]
  },
  {
   "cell_type": "code",
   "execution_count": 12,
   "metadata": {},
   "outputs": [
    {
     "name": "stdout",
     "output_type": "stream",
     "text": [
      "(-9.999894245993346e-07, -999999.999999)\n",
      "(-9.999894245993346e-07, -999999.9999989999)\n"
     ]
    }
   ],
   "source": [
    "from math import sqrt\n",
    "\n",
    "# function for both questions a and c\n",
    "def standard_formula(a, b, c):\n",
    "    x = ((-b+sqrt(b**2 - 4*a*c))/(2*a))\n",
    "    y = ((-b-sqrt(b**2 - 4*a*c))/(2*a))\n",
    "    return x, y\n",
    "\n",
    "print(standard_formula(0.001, 1000, 0.001))\n",
    "\n",
    "# function for question b\n",
    "def re_expressing(a, b, c):\n",
    "    x = ((-b+sqrt(b**2 - 4*a*c))/(2*a)*(-b-sqrt(b**2 - 4*a*c)))/(-b-sqrt(b**2 - 4*a*c))\n",
    "    y = ((-b-sqrt(b**2 - 4*a*c))/(2*a)*(-b+sqrt(b**2 - 4*a*c)))/(-b+sqrt(b**2 - 4*a*c))\n",
    "    return x, y\n",
    "\n",
    "print(re_expressing(0.001, 1000, 0.001))"
   ]
  },
  {
   "cell_type": "markdown",
   "metadata": {},
   "source": [
    "6\\. Write a program that implements the function $f(x)=x(x−1)$\n",
    "\n",
    "(a) Calculate the derivative of the function at the point $x = 1$ using the derivative definition:\n",
    "\n",
    "$$\n",
    "\\frac{{\\rm d}f}{{\\rm d}x} = \\lim_{\\delta\\to0} \\frac{f(x+\\delta)-f(x)}{\\delta}\n",
    "$$\n",
    "\n",
    "with $\\delta = 10^{−2}$. Calculate the true value of the same derivative analytically and compare with the answer your program gives. The two will not agree perfectly. Why not?\n",
    "\n",
    "(b) Repeat the calculation for $\\delta = 10^{−4}, 10^{−6}, 10^{−8}, 10^{−10}, 10^{−12}$ and $10^{−14}$. How does the accuracy scales with $\\delta$?"
   ]
  },
  {
   "cell_type": "code",
   "execution_count": 3,
   "metadata": {},
   "outputs": [
    {
     "name": "stdout",
     "output_type": "stream",
     "text": [
      "9.0\n",
      "delta:  4  answer:  1.0000999999998899  difference:  9.999999988985486e-05\n",
      "delta:  6  answer:  1.0000009999177333  difference:  9.99917733279787e-07\n",
      "delta:  8  answer:  1.0000000039225287  difference:  3.922528746258536e-09\n",
      "delta:  10  answer:  1.000000082840371  difference:  8.284037100736441e-08\n",
      "delta:  12  answer:  1.0000889005833413  difference:  8.890058334132256e-05\n",
      "delta:  14  answer:  0.9992007221626509  difference:  0.0007992778373491216\n"
     ]
    }
   ],
   "source": [
    "def f(x): \n",
    "    return x*(x-1)\n",
    "\n",
    "def derivative(point, delta):\n",
    "    return (f(point+delta) - f(point)) / delta\n",
    "\n",
    "print(derivative(1,10^2))\n",
    "\n",
    "for i in range(4,16,2):\n",
    "    result = derivative(1.0, 10**(-i))\n",
    "    print(\"delta: \",i,\" answer: \",result,\" difference: \",abs(result-1))"
   ]
  },
  {
   "cell_type": "markdown",
   "metadata": {},
   "source": [
    "7\\. Consider the integral of the semicircle of radius 1:\n",
    "$$\n",
    "I=\\int_{-1}^{1} \\sqrt(1-x^2) {\\rm d}x\n",
    "$$\n",
    "which it's known to be $I=\\frac{\\pi}{2}=1.57079632679...$.\n",
    "Alternatively we can use the Riemann definition of the integral:\n",
    "$$\n",
    "I=\\lim_{N\\to\\infty} \\sum_{k=1}^{N} h y_k \n",
    "$$\n",
    "\n",
    "with $h=2/N$ the width of each of the $N$ slices the domain is divided into and where\n",
    "$y_k$ is the value of the function at the $k-$th slice.\n",
    "\n",
    "(a) Write a programe to compute the integral with $N=100$. How does the result compares to the true value?\n",
    "\n",
    "(b) How much can $N$ be increased if the computation needs to be run in less than a second? What is the gain in running it for 1 minute? \n"
   ]
  },
  {
   "cell_type": "code",
   "execution_count": null,
   "metadata": {},
   "outputs": [],
   "source": []
  }
 ],
 "metadata": {
  "kernelspec": {
   "display_name": "Python 3",
   "language": "python",
   "name": "python3"
  },
  "language_info": {
   "codemirror_mode": {
    "name": "ipython",
    "version": 3
   },
   "file_extension": ".py",
   "mimetype": "text/x-python",
   "name": "python",
   "nbconvert_exporter": "python",
   "pygments_lexer": "ipython3",
   "version": "3.7.9"
  }
 },
 "nbformat": 4,
 "nbformat_minor": 2
}
