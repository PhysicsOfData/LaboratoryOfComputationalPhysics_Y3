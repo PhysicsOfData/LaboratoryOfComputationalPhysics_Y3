{
 "cells": [
  {
   "cell_type": "markdown",
   "metadata": {},
   "source": [
    "1\\. Write a function that converts number representation (bin<->dec<->hex)"
   ]
  },
  {
   "cell_type": "code",
   "execution_count": 8,
   "metadata": {},
   "outputs": [
    {
     "name": "stdout",
     "output_type": "stream",
     "text": [
      "the decimal, binary and hexadecimal representation of 369 is: (369, '0b101110001', '0x171')\n",
      "the decimal, binary and hexadecimal representation of 6 is: (6, '0b110', '0x6')\n",
      "the decimal, binary and hexadecimal representation of 9 is: (9, '0b1001', '0x9')\n"
     ]
    }
   ],
   "source": [
    "#exercise 1\n",
    "def convert(a):\n",
    "    a_int = int(a)\n",
    "    a_bin = bin(a)\n",
    "    a_hex = hex(a)   \n",
    "    return a_int, a_bin, a_hex\n",
    "\n",
    "i = 369\n",
    "b = 0b110\n",
    "h = 0x9\n",
    "print(\"the decimal, binary and hexadecimal representation of\", i, \"is:\", convert(i))\n",
    "print(\"the decimal, binary and hexadecimal representation of\", b, \"is:\", convert(b))\n",
    "print(\"the decimal, binary and hexadecimal representation of\", h, \"is:\", convert(h))"
   ]
  },
  {
   "cell_type": "markdown",
   "metadata": {},
   "source": [
    "2\\. Write a function that converts a 32 bit word into a single precision floating point (i.e. interprets the various bits as sign, mantissa and exponent)"
   ]
  },
  {
   "cell_type": "code",
   "execution_count": 9,
   "metadata": {},
   "outputs": [
    {
     "name": "stdout",
     "output_type": "stream",
     "text": [
      "32 bit word: 11000000101100000000000000000000 \n",
      "\n",
      "sign: 1 = -\n",
      "exponent: 10000001 = 129\n",
      "f: 01100000000000000000000 = 0.375\n",
      "so the mantissa is: 1.375 \n",
      "\n",
      "the result is: - 5.5\n"
     ]
    }
   ],
   "source": [
    "#exercise 2\n",
    "number = 11000000101100000000000000000000\n",
    "print(\"32 bit word:\", number, \"\\n\")\n",
    "digits = str(number)\n",
    "\n",
    "l = []\n",
    "for i in digits:\n",
    "    l.append(i)\n",
    "\n",
    "#sign\n",
    "if l[0]==0:\n",
    "    s = \"+\"\n",
    "else:\n",
    "    s = \"-\"\n",
    "print(\"sign:\", l[0], \"=\", s)\n",
    "\n",
    "#exponent\n",
    "j = \"\".join(l[1:9])\n",
    "E = int(j, 2)\n",
    "bias = 127\n",
    "print(\"exponent:\", j, \"=\", E)\n",
    "\n",
    "#mantissa - (fractional part)\n",
    "J = \"\".join(l[9:len(l)])\n",
    "x = 0\n",
    "c = -1\n",
    "for i in J:\n",
    "    x = x + int(i)*2**(c)\n",
    "    c -= 1\n",
    "print(\"f:\", J, \"=\", x)\n",
    "print(\"so the mantissa is:\", x + 1, \"\\n\")\n",
    "\n",
    "#result\n",
    "print(\"the result is:\", s, (x+1)*2**(E-bias))\n",
    "\n"
   ]
  },
  {
   "cell_type": "markdown",
   "metadata": {},
   "source": [
    "3\\. Write a program to determine the underflow and overflow limits (within a factor of 2) for python on your computer. \n",
    "\n",
    "**Tips**: define two variables inizialized to 1 and halve/double them enough time to exceed the under/over-flow limits  "
   ]
  },
  {
   "cell_type": "code",
   "execution_count": 10,
   "metadata": {},
   "outputs": [
    {
     "name": "stdout",
     "output_type": "stream",
     "text": [
      "no overflow limit in Python (exept for the space in the memory of the computer)\n",
      "the underflow (within a factor of 2) for my computer is: 5e-324\n"
     ]
    }
   ],
   "source": [
    "#exercise 3\n",
    "#x = 1\n",
    "#while 1:\n",
    "#    x = 2*x           #double x\n",
    "        \n",
    "y = 1\n",
    "while 1:\n",
    "    if  (y/2 > 0):\n",
    "        y = y/2        #halve y\n",
    "    else: \n",
    "        break\n",
    "\n",
    "print(\"no overflow limit in Python (exept for the space in the memory of the computer)\")\n",
    "print(\"the underflow (within a factor of 2) for my computer is:\", y)"
   ]
  },
  {
   "cell_type": "markdown",
   "metadata": {},
   "source": [
    "4\\. Write a program to determine the machine precision\n",
    "\n",
    "**Tips**: define a new variable by adding a smaller and smaller value (proceeding similarly to prob. 2) to an original variable and check the point where the two are the same "
   ]
  },
  {
   "cell_type": "code",
   "execution_count": 11,
   "metadata": {},
   "outputs": [
    {
     "name": "stdout",
     "output_type": "stream",
     "text": [
      "a = 1 + 10**-n \n",
      "\n",
      "if n = 15 , a = 1.000000000000001 , and a == 1 is False\n",
      "if n = 16 , a = 1.0 , and a == 1 is True \n",
      "\n",
      "infact the machine precision is: 2.220446049250313e-16\n"
     ]
    }
   ],
   "source": [
    "#exercise 4\n",
    "import numpy as np\n",
    "\n",
    "print(\"a = 1 + 10**-n\", \"\\n\")\n",
    "n = 1\n",
    "while 1 + 10**-n != 1:         #over the machine precision the number is rounded to 1\n",
    "    n += 1\n",
    "\n",
    "a = 1 + 10**-(n-1)\n",
    "b = 1 + 10**-n\n",
    "print(\"if n =\", n-1, \", a =\", a, \", and a == 1 is\", a == 1)\n",
    "print(\"if n =\", n, \", a =\", b, \", and a == 1 is\", b == 1, \"\\n\")\n",
    "print( \"infact the machine precision is:\", np.finfo(float).eps)"
   ]
  },
  {
   "cell_type": "markdown",
   "metadata": {},
   "source": [
    "5\\. Write a function that takes in input three parameters $a$, $b$ and $c$ and prints out the two solutions to the quadratic equation $ax^2+bx+c=0$ using the standard formula:\n",
    "$$\n",
    "x=\\frac{-b\\pm\\sqrt{b^2-4ac}}{2a}\n",
    "$$\n",
    "\n",
    "(a) use the program to compute the solution for $a=0.001$, $b=1000$ and $c=0.001$\n",
    "\n",
    "(b) re-express the standard solution formula by multiplying top and bottom by $-b\\mp\\sqrt{b^2-4ac}$ and again find the solution for $a=0.001$, $b=1000$ and $c=0.001$. How does it compare with what previously obtained? Why?\n",
    "\n",
    "(c) write a function that compute the roots of a quadratic equation accurately in all cases"
   ]
  },
  {
   "cell_type": "code",
   "execution_count": 12,
   "metadata": {},
   "outputs": [
    {
     "name": "stdout",
     "output_type": "stream",
     "text": [
      "solution with the first method: (-9.999894245993346e-07, -999999.999999)\n",
      "solution with the second method: (-9.999894245993346e-07, -999999.9999990001)\n",
      "solutions: (-9.999894245993346e-07, -999999.999999)\n"
     ]
    }
   ],
   "source": [
    "#exercise 5\n",
    "import math as m\n",
    "import cmath \n",
    "\n",
    "a = 0.001\n",
    "b = 1000\n",
    "c = 0.001\n",
    "delta = b**2 - 4*a*c \n",
    "\n",
    "#standard formula for the resolution:\n",
    "def solutionA(a,b,c):\n",
    "    x_piu =  (-b + m.sqrt(delta))/(2*a)\n",
    "    x_meno = (-b - m.sqrt(delta))/(2*a)\n",
    "    return x_piu, x_meno\n",
    "\n",
    "#multiplying and dividing by the same factor:\n",
    "def solutionB(a,b,c):\n",
    "    x_piu =  ((-b + m.sqrt(delta))*(-b - m.sqrt(delta)))/((2*a)*(-b - m.sqrt(delta)))\n",
    "    x_meno = ((-b - m.sqrt(delta))*(-b + m.sqrt(delta)))/((2*a)*(-b + m.sqrt(delta)))\n",
    "    return x_piu, x_meno\n",
    "\n",
    "print(\"solution with the first method:\", solutionA(a,b,c))\n",
    "print(\"solution with the second method:\", solutionB(a,b,c))\n",
    "\n",
    "#resolution that considers all cases\n",
    "#formula that allows negative delta\n",
    "def solutionC(a,b,c):\n",
    "    x_piu =  (-b + cmath.sqrt(delta))/(2*a)\n",
    "    x_meno = (-b - cmath.sqrt(delta))/(2*a)\n",
    "    return x_piu, x_meno\n",
    "\n",
    "if delta == 0:\n",
    "    print(\"coincident solutions:\", -b/(2*a))\n",
    "elif delta > 0:\n",
    "    print(\"solutions:\", solutionA(a,b,c))\n",
    "else:\n",
    "    print(\"complex solutions:\", solutionC(a,b,c))"
   ]
  },
  {
   "cell_type": "markdown",
   "metadata": {},
   "source": [
    "6\\. Write a program that implements the function $f(x)=x(x−1)$\n",
    "\n",
    "(a) Calculate the derivative of the function at the point $x = 1$ using the derivative definition:\n",
    "\n",
    "$$\n",
    "\\frac{{\\rm d}f}{{\\rm d}x} = \\lim_{\\delta\\to0} \\frac{f(x+\\delta)-f(x)}{\\delta}\n",
    "$$\n",
    "\n",
    "with $\\delta = 10^{−2}$. Calculate the true value of the same derivative analytically and compare with the answer your program gives. The two will not agree perfectly. Why not?\n",
    "\n",
    "(b) Repeat the calculation for $\\delta = 10^{−4}, 10^{−6}, 10^{−8}, 10^{−10}, 10^{−12}$ and $10^{−14}$. How does the accuracy scales with $\\delta$?"
   ]
  },
  {
   "cell_type": "code",
   "execution_count": 13,
   "metadata": {},
   "outputs": [
    {
     "name": "stdout",
     "output_type": "stream",
     "text": [
      "the analytical result is 1.\n",
      "if delta = 0.01 , the solution is: 1.01000000000000\n",
      "if delta = 0.0001 , the solution is: 1.00009999999989\n",
      "if delta = 1e-06 , the solution is: 1.00000099991773\n",
      "if delta = 1e-08 , the solution is: 1.00000000392253\n",
      "if delta = 1e-10 , the solution is: 1.00000008284037\n",
      "if delta = 1e-12 , the solution is: 1.00008890058334\n",
      "if delta = 1e-14 , the solution is: 0.999200722162651\n"
     ]
    }
   ],
   "source": [
    "#exercise 6\n",
    "import sympy as sp\n",
    "from sympy import limit, oo, Symbol\n",
    "\n",
    "def func(x):\n",
    "    return x*(x-1)\n",
    "\n",
    "def der(x):\n",
    "    f = (func(x + delta) - func(x))/delta\n",
    "    return limit(f,delta,0)\n",
    "\n",
    "a = 1\n",
    "delta = 10**-2\n",
    "print(\"the analytical result is 1.\")\n",
    "print(\"if delta =\", 10**-2 ,\", the solution is:\" ,der(a))\n",
    "\n",
    "#changing delta\n",
    "delta = 10**-4    \n",
    "print(\"if delta =\", 10**-4 ,\", the solution is:\" ,der(a))\n",
    "\n",
    "delta = 10**-6    \n",
    "print(\"if delta =\", 10**-6 ,\", the solution is:\" ,der(a))\n",
    "\n",
    "delta = 10**-8   \n",
    "print(\"if delta =\", 10**-8 ,\", the solution is:\" ,der(a))\n",
    "\n",
    "delta = 10**-10   \n",
    "print(\"if delta =\", 10**-10 ,\", the solution is:\" ,der(a))\n",
    "\n",
    "delta = 10**-12   \n",
    "print(\"if delta =\", 10**-12 ,\", the solution is:\" ,der(a))\n",
    "\n",
    "delta = 10**-14  \n",
    "print(\"if delta =\", 10**-14 ,\", the solution is:\" ,der(a))"
   ]
  },
  {
   "cell_type": "markdown",
   "metadata": {},
   "source": [
    "7\\. Consider the integral of the semicircle of radius 1:\n",
    "$$\n",
    "I=\\int_{-1}^{1} \\sqrt(1-x^2) {\\rm d}x\n",
    "$$\n",
    "which it's known to be $I=\\frac{\\pi}{2}=1.57079632679...$.\n",
    "Alternatively we can use the Riemann definition of the integral:\n",
    "$$\n",
    "I=\\lim_{N\\to\\infty} \\sum_{k=1}^{N} h y_k \n",
    "$$\n",
    "\n",
    "with $h=2/N$ the width of each of the $N$ slices the domain is divided into and where\n",
    "$y_k$ is the value of the function at the $k-$th slice.\n",
    "\n",
    "(a) Write a programe to compute the integral with $N=100$. How does the result compares to the true value?\n",
    "\n",
    "(b) How much can $N$ be increased if the computation needs to be run in less than a second? What is the gain in running it for 1 minute? \n"
   ]
  },
  {
   "cell_type": "code",
   "execution_count": 14,
   "metadata": {},
   "outputs": [
    {
     "name": "stdout",
     "output_type": "stream",
     "text": [
      "the risult with N = 100 is:  1.5691342555492493\n",
      "Wall time: 0 ns\n",
      "relative error = 0.10581074180626304 % \n",
      "\n",
      "the risult with N = 2443000 is:  1.5707963263696512\n",
      "Wall time: 1.07 s\n",
      "relative error = 2.7071962621709475e-08 % \n",
      "\n",
      "the risult with N = 2444000*60 is:  1.570796326423232\n",
      "Wall time: 1min 9s\n",
      "relative error = 2.366089547273207e-08 %\n"
     ]
    }
   ],
   "source": [
    "#exercise 7\n",
    "import math as m\n",
    "\n",
    "def integral(N):\n",
    "    h = 2/N                   #[-1,1] range is divided in N part\n",
    "    x = -1                    #starting point\n",
    "    I = 0 \n",
    "    for k in range(1, N+1):\n",
    "        x += h\n",
    "        if (x<=1):            #the summation goes on until x = 1\n",
    "            I += h * m.sqrt(1-x**2)\n",
    "    return I\n",
    "\n",
    "#relative error %\n",
    "def rel_err(N):               \n",
    "    return abs((integral(N) - m.pi/2)/(m.pi/2))*100\n",
    "\n",
    "print(\"the risult with N = 100 is: \", integral(100))     \n",
    "%time integral(100)\n",
    "print(\"relative error =\", rel_err(100), \"% \\n\")\n",
    "\n",
    "#near 1s\n",
    "print(\"the risult with N = 2443000 is: \", integral(2443000))     \n",
    "%time integral(2443000)      \n",
    "print(\"relative error =\", rel_err(2443000), \"% \\n\")\n",
    "\n",
    "#near 1m\n",
    "print(\"the risult with N = 2444000*60 is: \", integral(2443000*60))     \n",
    "%time integral(2443000*60)\n",
    "print(\"relative error =\", rel_err(2443000*60), \"%\")"
   ]
  }
 ],
 "metadata": {
  "kernelspec": {
   "display_name": "Python 3",
   "language": "python",
   "name": "python3"
  },
  "language_info": {
   "codemirror_mode": {
    "name": "ipython",
    "version": 3
   },
   "file_extension": ".py",
   "mimetype": "text/x-python",
   "name": "python",
   "nbconvert_exporter": "python",
   "pygments_lexer": "ipython3",
   "version": "3.8.3"
  }
 },
 "nbformat": 4,
 "nbformat_minor": 2
}
