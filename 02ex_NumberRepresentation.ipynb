{
 "cells": [
  {
   "cell_type": "markdown",
   "metadata": {},
   "source": [
    "1\\. Write a function that converts number representation (bin<->dec<->hex)"
   ]
  },
  {
   "cell_type": "code",
   "execution_count": 38,
   "metadata": {},
   "outputs": [
    {
     "name": "stdout",
     "output_type": "stream",
     "text": [
      "The number is decimal\n",
      "Dec:  16\n",
      "Bin:  0b10000\n",
      "Hex:  0x10\n",
      "\n",
      "\n",
      "The number is hexadecimal\n",
      "Dec:  16\n",
      "Bin:  0b10000\n",
      "Hex:  0x10\n",
      "\n",
      "\n",
      "The number is binary\n",
      "Dec:  16\n",
      "Bin:  0b10000\n",
      "Hex:  0x10\n",
      "\n",
      "\n",
      "ERROR\n"
     ]
    }
   ],
   "source": [
    "def fun(num):\n",
    "    if type(num) is int:\n",
    "        print('The number is decimal')\n",
    "        print('Dec: ',num)\n",
    "        print('Bin: ',bin(num))\n",
    "        print('Hex: ', hex(num))\n",
    "    \n",
    "    elif 'x' in num:\n",
    "        print('The number is hexadecimal')\n",
    "        print('Dec: ',int(num,16))\n",
    "        print('Bin: ',bin(int(num,16)))\n",
    "        print('Hex: ', (num))\n",
    "        \n",
    "    else:\n",
    "        is_bin=True\n",
    "        for c in num:\n",
    "            #print(c)\n",
    "            if c != '0' and c!= '1' and c!= 'b':\n",
    "                is_bin = False\n",
    "                exit\n",
    "        if is_bin:\n",
    "            print('The number is binary')\n",
    "            print('Dec: ',int(num,2))\n",
    "            print('Bin: ',num)\n",
    "            print('Hex: ', hex(int(num,2)))\n",
    "            \n",
    "        else: print('ERROR')\n",
    "\n",
    "fun(16)\n",
    "print('\\n')\n",
    "fun(hex(16))\n",
    "print('\\n')\n",
    "fun(bin(16))\n",
    "print('\\n')\n",
    "fun('pippo')"
   ]
  },
  {
   "cell_type": "markdown",
   "metadata": {},
   "source": [
    "2\\. Write a function that converts a 32 bit word into a single precision floating point (i.e. interprets the various bits as sign, mantissa and exponent)"
   ]
  },
  {
   "cell_type": "markdown",
   "metadata": {},
   "source": [
    "3\\. Write a program to determine the underflow and overflow limits (within a factor of 2) for python on your computer. \n",
    "\n",
    "**Tips**: define two variables inizialized to 1 and halve/double them enough time to exceed the under/over-flow limits  "
   ]
  },
  {
   "cell_type": "code",
   "execution_count": 61,
   "metadata": {},
   "outputs": [
    {
     "name": "stdout",
     "output_type": "stream",
     "text": [
      "1075\n",
      "1024\n"
     ]
    }
   ],
   "source": [
    "of=1.\n",
    "uf=1.\n",
    "i=1\n",
    "\n",
    "while True:\n",
    "    uf/=2\n",
    "    if uf == 0. :\n",
    "        print(i)\n",
    "        break\n",
    "    i+=1  \n",
    "\n",
    "i=1\n",
    "while True:\n",
    "    of*=2\n",
    "    if of == float(\"inf\") :\n",
    "        print(i)\n",
    "        break\n",
    "    i+=1  "
   ]
  },
  {
   "cell_type": "markdown",
   "metadata": {},
   "source": [
    "4\\. Write a program to determine the machine precision\n",
    "\n",
    "**Tips**: define a new variable by adding a smaller and smaller value (proceeding similarly to prob. 2) to an original variable and check the point where the two are the same "
   ]
  },
  {
   "cell_type": "code",
   "execution_count": 67,
   "metadata": {},
   "outputs": [
    {
     "name": "stdout",
     "output_type": "stream",
     "text": [
      "1.1102230246251565e-16\n",
      "6.938893903907228e-18\n",
      "8.881784197001252e-16\n",
      "5.684341886080802e-14\n"
     ]
    }
   ],
   "source": [
    "def prec(i):\n",
    "    sens=2\n",
    "    while True:\n",
    "        if i+sens == i:\n",
    "            print(sens)\n",
    "            break\n",
    "        sens/=2 \n",
    "    return\n",
    "\n",
    "prec(1)\n",
    "prec(0.1)\n",
    "prec(10)\n",
    "prec(1000)\n"
   ]
  },
  {
   "cell_type": "markdown",
   "metadata": {},
   "source": [
    "5\\. Write a function that takes in input three parameters $a$, $b$ and $c$ and prints out the two solutions to the quadratic equation $ax^2+bx+c=0$ using the standard formula:\n",
    "$$\n",
    "x=\\frac{-b\\pm\\sqrt{b^2-4ac}}{2a}\n",
    "$$\n",
    "\n",
    "(a) use the program to compute the solution for $a=0.001$, $b=1000$ and $c=0.001$\n",
    "\n",
    "(b) re-express the standard solution formula by multiplying top and bottom by $-b\\mp\\sqrt{b^2-4ac}$ and again find the solution for $a=0.001$, $b=1000$ and $c=0.001$. How does it compare with what previously obtained? Why?\n",
    "\n",
    "(c) write a function that compute the roots of a quadratic equation accurately in all cases"
   ]
  },
  {
   "cell_type": "code",
   "execution_count": 78,
   "metadata": {},
   "outputs": [
    {
     "name": "stdout",
     "output_type": "stream",
     "text": [
      "(-9.999894245993346e-07, -999999.999999)\n",
      "(-9.999894245993346e-07, -999999.9999989999)\n",
      "(-9.999894245993346e-07, -999999.999999)\n"
     ]
    }
   ],
   "source": [
    "def solve1(a,b,c):\n",
    "    x1 = (-b+(b*b-4*a*c)**0.5)/(2*a)\n",
    "    x2 = (-b-(b*b-4*a*c)**0.5)/(2*a)\n",
    "    return x1,x2\n",
    "\n",
    "def solve2(a,b,c):\n",
    "    d = (b*b-4*a*c)**0.5\n",
    "    boh=-b+d\n",
    "    x1 = (-b+d)/(2*a)\n",
    "    x2 = (-b-d)/(2*a)\n",
    "    \n",
    "    x1=x1*boh/boh\n",
    "    x2=x2*boh/boh\n",
    "       \n",
    "    return x1,x2\n",
    "\n",
    "def solve3(a,b,c):\n",
    "    d = ((b/2)**2-a*c)**0.5\n",
    "    x1 = (-b/2+d)/(a)\n",
    "    x2 = (-b/2-d)/(a)\n",
    "    return x1,x2\n",
    "\n",
    "print(solve1(0.001,1000,0.001))\n",
    "print(solve2(0.001,1000,0.001))\n",
    "print(solve3(0.001,1000,0.001))"
   ]
  },
  {
   "cell_type": "markdown",
   "metadata": {},
   "source": [
    "6\\. Write a program that implements the function $f(x)=x(x−1)$\n",
    "\n",
    "(a) Calculate the derivative of the function at the point $x = 1$ using the derivative definition:\n",
    "\n",
    "$$\n",
    "\\frac{{\\rm d}f}{{\\rm d}x} = \\lim_{\\delta\\to0} \\frac{f(x+\\delta)-f(x)}{\\delta}\n",
    "$$\n",
    "\n",
    "with $\\delta = 10^{−2}$. Calculate the true value of the same derivative analytically and compare with the answer your program gives. The two will not agree perfectly. Why not?\n",
    "\n",
    "(b) Repeat the calculation for $\\delta = 10^{−4}, 10^{−6}, 10^{−8}, 10^{−10}, 10^{−12}$ and $10^{−14}$. How does the accuracy scales with $\\delta$?"
   ]
  },
  {
   "cell_type": "code",
   "execution_count": 82,
   "metadata": {},
   "outputs": [
    {
     "name": "stdout",
     "output_type": "stream",
     "text": [
      "1.010000000000001\n",
      "0.0001 1.0000999999998899\n",
      "9.999999988985486e-05\n",
      "1e-06 1.0000009999177333\n",
      "9.99917733279787e-07\n",
      "1e-08 1.0000000039225287\n",
      "3.922528746258536e-09\n",
      "1e-10 1.000000082840371\n",
      "8.284037100736441e-08\n",
      "1e-12 1.0000889005833413\n",
      "8.890058334132256e-05\n",
      "1e-14 0.9992007221626509\n",
      "0.0007992778373491216\n"
     ]
    }
   ],
   "source": [
    "#A\n",
    "def f(x):\n",
    "    return x*(x-1)\n",
    "\n",
    "def derivative(fun,p,d):\n",
    "    return (fun(p+d)-fun(p))/d\n",
    "    \n",
    "\n",
    "delta=0.01\n",
    "print(derivative(f,1,delta))\n",
    "\n",
    "for e in [-4,-6,-8,-10,-12,-14]:\n",
    "    delta=10**e\n",
    "    print('delta: ',delta,'d',derivative(f,1,delta))\n",
    "    print(abs(1-derivative(f,1,delta)))\n"
   ]
  },
  {
   "cell_type": "markdown",
   "metadata": {},
   "source": [
    "7\\. Consider the integral of the semicircle of radius 1:\n",
    "$$\n",
    "I=\\int_{-1}^{1} \\sqrt(1-x^2) {\\rm d}x\n",
    "$$\n",
    "which it's known to be $I=\\frac{\\pi}{2}=1.57079632679...$.\n",
    "Alternatively we can use the Riemann definition of the integral:\n",
    "$$\n",
    "I=\\lim_{N\\to\\infty} \\sum_{k=1}^{N} h y_k \n",
    "$$\n",
    "\n",
    "with $h=2/N$ the width of each of the $N$ slices the domain is divided into and where\n",
    "$y_k$ is the value of the function at the $k-$th slice.\n",
    "\n",
    "(a) Write a programe to compute the integral with $N=100$. How does the result compares to the true value?\n",
    "\n",
    "(b) How much can $N$ be increased if the computation needs to be run in less than a second? What is the gain in running it for 1 minute? \n"
   ]
  },
  {
   "cell_type": "code",
   "execution_count": 3,
   "metadata": {},
   "outputs": [],
   "source": [
    "def integrate(f,N=100):\n",
    "    h=2/N\n",
    "    x_0=-1\n",
    "    I=0\n",
    "    for i in range(N):\n",
    "       I+=h*f(x_0+i*h)\n",
    "    \n",
    "    return I\n",
    "\n",
    "def f(x):\n",
    "    return (1-x**2)**0.5"
   ]
  },
  {
   "cell_type": "code",
   "execution_count": 16,
   "metadata": {},
   "outputs": [
    {
     "name": "stdout",
     "output_type": "stream",
     "text": [
      "CPU times: user 180 µs, sys: 0 ns, total: 180 µs\n",
      "Wall time: 185 µs\n",
      "0.0005878109053745195  with  200  steps \n",
      "CPU times: user 11.6 ms, sys: 0 ns, total: 11.6 ms\n",
      "Wall time: 11.2 ms\n",
      "5.879892277516063e-07  with  20000  steps \n",
      "CPU times: user 1min 16s, sys: 27.9 ms, total: 1min 16s\n",
      "Wall time: 1min 16s\n",
      "4.549693954913892e-13  with  200000000  steps \n"
     ]
    }
   ],
   "source": [
    "from math import pi\n",
    "\n",
    "steps=[int(2*(10**i)) for i in [2,4,8]]\n",
    "for N in steps:\n",
    "    %time I=integrate(f,N)\n",
    "    print(pi/2-I, ' with ',N,' steps ')"
   ]
  },
  {
   "cell_type": "code",
   "execution_count": null,
   "metadata": {},
   "outputs": [],
   "source": []
  }
 ],
 "metadata": {
  "kernelspec": {
   "display_name": "Python 3",
   "language": "python",
   "name": "python3"
  },
  "language_info": {
   "codemirror_mode": {
    "name": "ipython",
    "version": 3
   },
   "file_extension": ".py",
   "mimetype": "text/x-python",
   "name": "python",
   "nbconvert_exporter": "python",
   "pygments_lexer": "ipython3",
   "version": "3.8.1"
  }
 },
 "nbformat": 4,
 "nbformat_minor": 2
}
