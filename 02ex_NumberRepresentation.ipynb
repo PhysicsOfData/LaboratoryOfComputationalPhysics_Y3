{
 "cells": [
  {
   "cell_type": "markdown",
   "metadata": {},
   "source": [
    "1\\. Write a function that converts number representation (bin<->dec<->hex)"
   ]
  },
  {
   "cell_type": "code",
   "execution_count": 14,
   "metadata": {},
   "outputs": [
    {
     "name": "stdout",
     "output_type": "stream",
     "text": [
      "0b10000\n",
      "16\n",
      "0x10\n",
      "0b10\n",
      "2\n",
      "0x2\n"
     ]
    }
   ],
   "source": [
    "#Solution\n",
    "def conv(n,type):\n",
    "    if (type==\"dec\"): return int(n)\n",
    "    elif (type==\"hex\"): return hex(n)\n",
    "    elif (type==\"bin\"): return bin(n)\n",
    "print(conv(0x10,\"bin\"))\n",
    "print(conv(0x10,\"dec\"))\n",
    "print(conv(0x10,\"hex\"))\n",
    "print(conv(0b10,\"bin\"))\n",
    "print(conv(0b10,\"dec\"))\n",
    "print(conv(0b10,\"hex\"))"
   ]
  },
  {
   "cell_type": "markdown",
   "metadata": {},
   "source": [
    "2\\. Write a function that converts a 32 bit word into a single precision floating point (i.e. interprets the various bits as sign, mantissa and exponent)"
   ]
  },
  {
   "cell_type": "code",
   "execution_count": 17,
   "metadata": {},
   "outputs": [
    {
     "data": {
      "text/plain": [
       "140.0"
      ]
     },
     "execution_count": 17,
     "metadata": {},
     "output_type": "execute_result"
    }
   ],
   "source": [
    "#Solution\n",
    "def inter(n):\n",
    "    man=1\n",
    "    i=-1\n",
    "    for l in n[9:32]:\n",
    "        man+=int(l)*2**(i)\n",
    "        i+=-1\n",
    "    return (-1)**int(n[0])*2**(int(n[1:9],2)-127)*man\n",
    "g=\"01000011000011000000000000000000\"\n",
    "inter(g)"
   ]
  },
  {
   "cell_type": "markdown",
   "metadata": {},
   "source": [
    "3\\. Write a program to determine the underflow and overflow limits (within a factor of 2) for python on your computer. \n",
    "\n",
    "**Tips**: define two variables inizialized to 1 and halve/double them enough time to exceed the under/over-flow limits  "
   ]
  },
  {
   "cell_type": "code",
   "execution_count": 68,
   "metadata": {},
   "outputs": [
    {
     "name": "stdout",
     "output_type": "stream",
     "text": [
      "8.98846567431158e+307\n",
      "5e-324\n"
     ]
    }
   ],
   "source": [
    "#Solution\n",
    "a=1.\n",
    "b=1\n",
    "\n",
    "while a!=float(\"inf\"):\n",
    "    a1=a\n",
    "    a*=2\n",
    "print(a1)\n",
    "while b!=0:\n",
    "    b1=b\n",
    "    b/=2\n",
    "print(b1)"
   ]
  },
  {
   "cell_type": "markdown",
   "metadata": {},
   "source": [
    "4\\. Write a program to determine the machine precision\n",
    "\n",
    "**Tips**: define a new variable by adding a smaller and smaller value (proceeding similarly to prob. 2) to an original variable and check the point where the two are the same "
   ]
  },
  {
   "cell_type": "code",
   "execution_count": 19,
   "metadata": {},
   "outputs": [
    {
     "name": "stdout",
     "output_type": "stream",
     "text": [
      "2.7755575615628914e-17\n"
     ]
    }
   ],
   "source": [
    "#Solution\n",
    "x=0.2\n",
    "x1=0\n",
    "i=2\n",
    "while((x-x1)!=0):\n",
    "    i+=1\n",
    "    x1=x\n",
    "    x+=2**(-i)\n",
    "print(2**(-i))"
   ]
  },
  {
   "cell_type": "markdown",
   "metadata": {},
   "source": [
    "5\\. Write a function that takes in input three parameters $a$, $b$ and $c$ and prints out the two solutions to the quadratic equation $ax^2+bx+c=0$ using the standard formula:\n",
    "$$\n",
    "x=\\frac{-b\\pm\\sqrt{b^2-4ac}}{2a}\n",
    "$$\n",
    "\n",
    "(a) use the program to compute the solution for $a=0.001$, $b=1000$ and $c=0.001$\n",
    "\n",
    "(b) re-express the standard solution formula by multiplying top and bottom by $-b\\mp\\sqrt{b^2-4ac}$ and again find the solution for $a=0.001$, $b=1000$ and $c=0.001$. How does it compare with what previously obtained? Why?\n",
    "\n",
    "(c) write a function that compute the roots of a quadratic equation accurately in all cases"
   ]
  },
  {
   "cell_type": "code",
   "execution_count": 1,
   "metadata": {},
   "outputs": [
    {
     "name": "stdout",
     "output_type": "stream",
     "text": [
      "(-9.999894245993346e-07, -999999.999999)\n",
      "(-1000010.5755125057, -1.000000000001e-06)\n",
      "Completely different solutions probably due to limited function accuracy\n",
      "[-1.e+06 -1.e-06]\n",
      "These are the correct results, showing that only one of the two results for the previous case was correct\n"
     ]
    }
   ],
   "source": [
    "import numpy as np\n",
    "#Solution\n",
    "def delta(a,b,c):\n",
    "    return (-b+(b**2-4*a*c)**(1/2))/(2*a),(-b-(b**2-4*a*c)**(1/2))/(2*a)\n",
    "\n",
    "print(delta(0.001,1000,0.001))\n",
    "\n",
    "def delta2(a,b,c):\n",
    "    return (2*c)/(-b+(b**2-4*a*c)**(1/2)),(2*c)/(-b-(b**2-4*a*c)**(1/2))\n",
    "\n",
    "print(delta2(0.001,1000,0.001))\n",
    "print(\"Completely different solutions probably due to limited function accuracy\")\n",
    "coeff = [0.001,1000,0.001]\n",
    "print(np.roots(coeff))\n",
    "print(\"These are the correct results, showing that only one of the two results for the previous cases was correct\")"
   ]
  },
  {
   "cell_type": "markdown",
   "metadata": {},
   "source": [
    "6\\. Write a program that implements the function $f(x)=x(x−1)$\n",
    "\n",
    "(a) Calculate the derivative of the function at the point $x = 1$ using the derivative definition:\n",
    "\n",
    "$$\n",
    "\\frac{{\\rm d}f}{{\\rm d}x} = \\lim_{\\delta\\to0} \\frac{f(x+\\delta)-f(x)}{\\delta}\n",
    "$$\n",
    "\n",
    "with $\\delta = 10^{−2}$. Calculate the true value of the same derivative analytically and compare with the answer your program gives. The two will not agree perfectly. Why not?\n",
    "\n",
    "(b) Repeat the calculation for $\\delta = 10^{−4}, 10^{−6}, 10^{−8}, 10^{−10}, 10^{−12}$ and $10^{−14}$. How does the accuracy scales with $\\delta$?"
   ]
  },
  {
   "cell_type": "code",
   "execution_count": 10,
   "metadata": {},
   "outputs": [
    {
     "name": "stdout",
     "output_type": "stream",
     "text": [
      "1.010000000000001 Accuracy: 0.010000000000000897\n",
      "1.0000999999998899 Accuracy: 9.999999988985486e-05\n",
      "1.0000009999177333 Accuracy: 9.99917733279787e-07\n",
      "1.0000000039225287 Accuracy: 3.922528746258536e-09\n",
      "1.000000082840371 Accuracy: 8.284037100736441e-08\n",
      "1.0000889005833413 Accuracy: 8.890058334132256e-05\n",
      "0.9992007221626509 Accuracy: 0.0007992778373491216\n",
      "The accuracy becomes better but at a certain points is worse\n"
     ]
    }
   ],
   "source": [
    "#Solution\n",
    "def fu(x):\n",
    "    return x*(x-1)\n",
    "def dfdx(delta):\n",
    "    return (fu(1+delta)-fu(1))/delta\n",
    "rs=map(lambda x: dfdx(10**(-x)),filter( lambda i:i%2==0,range(1,15)))\n",
    "for j in rs:\n",
    "    print(j, \"Accuracy: \"+str(abs(1-j)))\n",
    "print(\"The accuracy becomes better but at a certain points is worse\")"
   ]
  },
  {
   "cell_type": "markdown",
   "metadata": {},
   "source": [
    "7\\. Consider the integral of the semicircle of radius 1:\n",
    "$$\n",
    "I=\\int_{-1}^{1} \\sqrt(1-x^2) {\\rm d}x\n",
    "$$\n",
    "which it's known to be $I=\\frac{\\pi}{2}=1.57079632679...$.\n",
    "Alternatively we can use the Riemann definition of the integral:\n",
    "$$\n",
    "I=\\lim_{N\\to\\infty} \\sum_{k=1}^{N} h y_k \n",
    "$$\n",
    "\n",
    "with $h=2/N$ the width of each of the $N$ slices the domain is divided into and where\n",
    "$y_k$ is the value of the function at the $k-$th slice.\n",
    "\n",
    "(a) Write a programe to compute the integral with $N=100$. How does the result compares to the true value?\n",
    "\n",
    "(b) How much can $N$ be increased if the computation needs to be run in less than a second? What is the gain in running it for 1 minute? \n"
   ]
  },
  {
   "cell_type": "code",
   "execution_count": 72,
   "metadata": {},
   "outputs": [
    {
     "name": "stdout",
     "output_type": "stream",
     "text": [
      "953 ms ± 117 ms per loop (mean ± std. dev. of 7 runs, 1 loop each)\n",
      "~ 1 second\n"
     ]
    }
   ],
   "source": [
    "#Solution\n",
    "N=3000000\n",
    "def inte(N):\n",
    "    I=0\n",
    "    for i in range(1,N):\n",
    "        I+=(2/N)*(1-(-1+(2/N)*i)**2)**(1/2)\n",
    "    return I\n",
    "%timeit inte(N)\n",
    "print(\"~ 1 second\")"
   ]
  },
  {
   "cell_type": "code",
   "execution_count": 73,
   "metadata": {},
   "outputs": [
    {
     "name": "stdout",
     "output_type": "stream",
     "text": [
      "1.5707963267944416\n",
      "57.3 s ± 3.3 s per loop (mean ± std. dev. of 7 runs, 1 loop each)\n",
      "~ 1 minute\n"
     ]
    }
   ],
   "source": [
    "#Solution\n",
    "N=200000000\n",
    "print(inte(N))\n",
    "%timeit inte(N)\n",
    "print(\"~ 1 minute\")"
   ]
  },
  {
   "cell_type": "code",
   "execution_count": 74,
   "metadata": {},
   "outputs": [
    {
     "name": "stdout",
     "output_type": "stream",
     "text": [
      "The difference between the two values is-3.1964741964429777e-10\n"
     ]
    }
   ],
   "source": [
    "print(\"The difference between the two values is\" + str(inte(3000000)-inte(200000000)))"
   ]
  },
  {
   "cell_type": "code",
   "execution_count": null,
   "metadata": {},
   "outputs": [],
   "source": []
  }
 ],
 "metadata": {
  "kernelspec": {
   "display_name": "Python 3",
   "language": "python",
   "name": "python3"
  },
  "language_info": {
   "codemirror_mode": {
    "name": "ipython",
    "version": 3
   },
   "file_extension": ".py",
   "mimetype": "text/x-python",
   "name": "python",
   "nbconvert_exporter": "python",
   "pygments_lexer": "ipython3",
   "version": "3.8.6"
  }
 },
 "nbformat": 4,
 "nbformat_minor": 2
}
