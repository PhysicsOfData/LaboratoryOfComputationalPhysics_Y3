{
 "cells": [
  {
   "cell_type": "markdown",
   "metadata": {},
   "source": [
    "1\\. Write a function that converts number representation (bin<->dec<->hex)"
   ]
  },
  {
   "cell_type": "code",
   "execution_count": 5,
   "metadata": {},
   "outputs": [
    {
     "name": "stdout",
     "output_type": "stream",
     "text": [
      "Rappresentazione decimale:  66\n",
      "Rappresentazione binaria:  0b1000010\n",
      "Rappresentazione esadecimale:  0x42\n"
     ]
    }
   ],
   "source": [
    "def converter(i):\n",
    "    s=int(i)\n",
    "    i_bin=bin(s)\n",
    "    i_hex=hex(s)\n",
    "    print(\"Rappresentazione decimale: \", s)\n",
    "    print(\"Rappresentazione binaria: \", i_bin)\n",
    "    print(\"Rappresentazione esadecimale: \", i_hex)\n",
    "        \n",
    "\n",
    "x=66\n",
    "converter(x)"
   ]
  },
  {
   "cell_type": "markdown",
   "metadata": {},
   "source": [
    "2\\. Write a function that converts a 32 bit word into a single precision floating point (i.e. interprets the various bits as sign, mantissa and exponent)"
   ]
  },
  {
   "cell_type": "code",
   "execution_count": 6,
   "metadata": {},
   "outputs": [
    {
     "data": {
      "text/plain": [
       "2.1873552436300517e-25"
      ]
     },
     "execution_count": 6,
     "metadata": {},
     "output_type": "execute_result"
    }
   ],
   "source": [
    "\n",
    "def singprec(x):\n",
    "    if len(x) != 32: print(\"Error! Input: string of 32 elements (0 or 1)\")\n",
    "    \n",
    "    if int(x[0])==0: s=1\n",
    "    elif int(x[0])==1: s=-1\n",
    "    else: print(\"Error!\")\n",
    "    \n",
    "    bin_e = x[1:9]\n",
    "    exp = -127\n",
    "    for i in range(0,8):\n",
    "        exp += int(bin_e[7-i])*pow(2,i)\n",
    "     \n",
    "    \n",
    "    bin_mant = x[9:32]\n",
    "    mantissa = 1\n",
    "    for i in range(0,23):\n",
    "        mantissa += int(bin_mant[i])*pow(0.5,i+1)\n",
    "    \n",
    "    x_float = s*mantissa*pow(2,exp)\n",
    "    return x_float\n",
    "\n",
    "\n",
    "bits='00010110100001110110010000000111' #metto il numero come stringa\n",
    "singprec(bits) "
   ]
  },
  {
   "cell_type": "markdown",
   "metadata": {},
   "source": [
    "3\\. Write a program to determine the underflow and overflow limits (within a factor of 2) for python on your computer. \n",
    "\n",
    "**Tips**: define two variables inizialized to 1 and halve/double them enough time to exceed the under/over-flow limits  "
   ]
  },
  {
   "cell_type": "code",
   "execution_count": 7,
   "metadata": {},
   "outputs": [
    {
     "name": "stdout",
     "output_type": "stream",
     "text": [
      "sys.float_info(max=1.7976931348623157e+308, max_exp=1024, max_10_exp=308, min=2.2250738585072014e-308, min_exp=-1021, min_10_exp=-307, dig=15, mant_dig=53, epsilon=2.220446049250313e-16, radix=2, rounds=1)\n",
      "Underflow! 1.1125369292536007e-308\n"
     ]
    }
   ],
   "source": [
    "import sys\n",
    "print (sys.float_info)\n",
    "\n",
    "\n",
    "#max=1.7976931348623157e+308, min=2.2250738585072014e-308\n",
    "\n",
    "a=1\n",
    "b=1\n",
    "\n",
    "i=1\n",
    "\n",
    "while i>0:\n",
    "    a=a*2\n",
    "    b=b/2\n",
    "    if a>1.7976931348623157e+308:\n",
    "        print(\"Overflow!\", a)\n",
    "        break\n",
    "    if b<2.2250738585072014e-308:\n",
    "        print(\"Underflow!\", b)\n",
    "        break\n",
    "    else: None\n",
    "    \n",
    "    i += 1\n",
    "\n"
   ]
  },
  {
   "cell_type": "markdown",
   "metadata": {},
   "source": [
    "4\\. Write a program to determine the machine precision\n",
    "\n",
    "**Tips**: define a new variable by adding a smaller and smaller value (proceeding similarly to prob. 2) to an original variable and check the point where the two are the same "
   ]
  },
  {
   "cell_type": "code",
   "execution_count": 12,
   "metadata": {},
   "outputs": [
    {
     "name": "stdout",
     "output_type": "stream",
     "text": [
      "eps=  0.5 one=  1.5\n",
      "eps=  0.25 one=  1.25\n",
      "eps=  0.125 one=  1.125\n",
      "Enter and return a character to finish\n",
      "vghbjnk\n"
     ]
    }
   ],
   "source": [
    "n=1\n",
    "\n",
    "a=1\n",
    "b=5\n",
    "\n",
    "\n",
    "while (x != y):\n",
    "    x = y + epsilon\n",
    "    epsilon = epsilon/2\n",
    "\n",
    "print(epsilon)\n",
    "print(x)"
   ]
  },
  {
   "cell_type": "markdown",
   "metadata": {},
   "source": [
    "5\\. Write a function that takes in input three parameters $a$, $b$ and $c$ and prints out the two solutions to the quadratic equation $ax^2+bx+c=0$ using the standard formula:\n",
    "$$\n",
    "x=\\frac{-b\\pm\\sqrt{b^2-4ac}}{2a}\n",
    "$$\n",
    "\n",
    "(a) use the program to compute the solution for $a=0.001$, $b=1000$ and $c=0.001$\n",
    "\n",
    "(b) re-express the standard solution formula by multiplying top and bottom by $-b\\mp\\sqrt{b^2-4ac}$ and again find the solution for $a=0.001$, $b=1000$ and $c=0.001$. How does it compare with what previously obtained? Why?\n",
    "\n",
    "(c) write a function that compute the roots of a quadratic equation accurately in all cases"
   ]
  },
  {
   "cell_type": "code",
   "execution_count": null,
   "metadata": {},
   "outputs": [],
   "source": []
  },
  {
   "cell_type": "markdown",
   "metadata": {},
   "source": [
    "6\\. Write a program that implements the function $f(x)=x(x−1)$\n",
    "\n",
    "(a) Calculate the derivative of the function at the point $x = 1$ using the derivative definition:\n",
    "\n",
    "$$\n",
    "\\frac{{\\rm d}f}{{\\rm d}x} = \\lim_{\\delta\\to0} \\frac{f(x+\\delta)-f(x)}{\\delta}\n",
    "$$\n",
    "\n",
    "with $\\delta = 10^{−2}$. Calculate the true value of the same derivative analytically and compare with the answer your program gives. The two will not agree perfectly. Why not?\n",
    "\n",
    "(b) Repeat the calculation for $\\delta = 10^{−4}, 10^{−6}, 10^{−8}, 10^{−10}, 10^{−12}$ and $10^{−14}$. How does the accuracy scales with $\\delta$?"
   ]
  },
  {
   "cell_type": "code",
   "execution_count": null,
   "metadata": {},
   "outputs": [],
   "source": []
  },
  {
   "cell_type": "markdown",
   "metadata": {},
   "source": [
    "7\\. Consider the integral of the semicircle of radius 1:\n",
    "$$\n",
    "I=\\int_{-1}^{1} \\sqrt(1-x^2) {\\rm d}x\n",
    "$$\n",
    "which it's known to be $I=\\frac{\\pi}{2}=1.57079632679...$.\n",
    "Alternatively we can use the Riemann definition of the integral:\n",
    "$$\n",
    "I=\\lim_{N\\to\\infty} \\sum_{k=1}^{N} h y_k \n",
    "$$\n",
    "\n",
    "with $h=2/N$ the width of each of the $N$ slices the domain is divided into and where\n",
    "$y_k$ is the value of the function at the $k-$th slice.\n",
    "\n",
    "(a) Write a programe to compute the integral with $N=100$. How does the result compares to the true value?\n",
    "\n",
    "(b) How much can $N$ be increased if the computation needs to be run in less than a second? What is the gain in running it for 1 minute? \n"
   ]
  },
  {
   "cell_type": "code",
   "execution_count": null,
   "metadata": {},
   "outputs": [],
   "source": []
  }
 ],
 "metadata": {
  "kernelspec": {
   "display_name": "Python 3",
   "language": "python",
   "name": "python3"
  },
  "language_info": {
   "codemirror_mode": {
    "name": "ipython",
    "version": 3
   },
   "file_extension": ".py",
   "mimetype": "text/x-python",
   "name": "python",
   "nbconvert_exporter": "python",
   "pygments_lexer": "ipython3",
   "version": "3.8.3"
  }
 },
 "nbformat": 4,
 "nbformat_minor": 2
}
