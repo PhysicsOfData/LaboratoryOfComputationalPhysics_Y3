{
 "cells": [
  {
   "cell_type": "markdown",
   "metadata": {},
   "source": [
    "1\\. Write a function that converts number representation (bin<->dec<->hex)"
   ]
  },
  {
   "cell_type": "code",
   "execution_count": 6,
   "metadata": {},
   "outputs": [
    {
     "name": "stdout",
     "output_type": "stream",
     "text": [
      "0x2a  =>  0b101010\n",
      "0b101010  =>  0x2a\n"
     ]
    }
   ],
   "source": [
    "def binhex(typ, nb): \n",
    "    if(typ == \"hex\"):\n",
    "        return bin(int(nb,16))\n",
    "    else:\n",
    "        return hex(int(nb,2))\n",
    "\n",
    "theNB = 42\n",
    "\n",
    "myHex = hex(theNB)\n",
    "\n",
    "myBin = bin(theNB)\n",
    "newHex = binhex(\"hex\",myHex)\n",
    "print(myHex,\" => \",newHex)\n",
    "newBin = binhex(\"bin\", myBin)\n",
    "print(myBin, \" => \",newBin)"
   ]
  },
  {
   "cell_type": "markdown",
   "metadata": {},
   "source": [
    "2\\. Write a function that converts a 32 bit word into a single precision floating point (i.e. interprets the various bits as sign, mantissa and exponent)"
   ]
  },
  {
   "cell_type": "code",
   "execution_count": 31,
   "metadata": {},
   "outputs": [
    {
     "name": "stdout",
     "output_type": "stream",
     "text": [
      "922341051976\n",
      "0b1101011010111111110011111000111001001000\n",
      "0b1101011010111111110011111000111001001000   0b1000000000000000000000000\n",
      "0b1101011010111111110011111000111001001000   0b10000000000000000000000000\n",
      "0b1101011010111111110011111000111001001000   0b100000000000000000000000000\n",
      "0b1101011010111111110011111000111001001000   0b1000000000000000000000000000\n",
      "0b1101011010111111110011111000111001001000   0b10000000000000000000000000000\n",
      "0b1101011010111111110011111000111001001000   0b100000000000000000000000000000\n",
      "0b1101011010111111110011111000111001001000   0b1000000000000000000000000000000\n",
      "0b1101011010111111110011111000111001001000   0b10000000000000000000000000000000\n",
      "191\n",
      "18446744073709551616\n"
     ]
    }
   ],
   "source": [
    "'''\n",
    "single precision : \n",
    "1 bit sign (-1)^bit0\n",
    "8 bits exponent e - 127\n",
    "23 bits mantissa \n",
    "'''\n",
    "\n",
    "def bintofloat(value):\n",
    "    print(bin(value))\n",
    "    #knowing the sign\n",
    "    sign = 1\n",
    "    if(value & 1<<32 != 0):\n",
    "        sign = -1\n",
    "    \n",
    "    #calculating the exponent bit 24 (2^0) to 31 (2^7)\n",
    "    e = 0\n",
    "    pow2 = 1\n",
    "    for i in range(24,32):\n",
    "        print(bin(value),\" \",bin(1<<i))\n",
    "        if(value & 1<<i != 0):\n",
    "            e += pow2\n",
    "        pow2 *= 2\n",
    "    print(e)\n",
    "    finalexp = e - 127\n",
    "    res = sign * (2 ** finalexp)\n",
    "    return res\n",
    "'''\n",
    "\n",
    "myNB = 1<<32\n",
    "print(bintofloat(myNB))\n",
    "\n",
    "myNB2 = 0<<32\n",
    "print(bintofloat(myNB2))\n",
    "'''\n",
    "\n",
    "myNB3 =  0<<32 | 14757456831618>>4\n",
    "print(myNB3)\n",
    "print(bintofloat(myNB3))"
   ]
  },
  {
   "cell_type": "markdown",
   "metadata": {},
   "source": [
    "3\\. Write a program to determine the underflow and overflow limits (within a factor of 2) for python on your computer. \n",
    "\n",
    "**Tips**: define two variables inizialized to 1 and halve/double them enough time to exceed the under/over-flow limits  "
   ]
  },
  {
   "cell_type": "markdown",
   "metadata": {},
   "source": [
    "4\\. Write a program to determine the machine precision\n",
    "\n",
    "**Tips**: define a new variable by adding a smaller and smaller value (proceeding similarly to prob. 2) to an original variable and check the point where the two are the same "
   ]
  },
  {
   "cell_type": "markdown",
   "metadata": {},
   "source": [
    "5\\. Write a function that takes in input three parameters $a$, $b$ and $c$ and prints out the two solutions to the quadratic equation $ax^2+bx+c=0$ using the standard formula:\n",
    "$$\n",
    "x=\\frac{-b\\pm\\sqrt{b^2-4ac}}{2a}\n",
    "$$\n",
    "\n",
    "(a) use the program to compute the solution for $a=0.001$, $b=1000$ and $c=0.001$\n",
    "\n",
    "(b) re-express the standard solution formula by multiplying top and bottom by $-b\\mp\\sqrt{b^2-4ac}$ and again find the solution for $a=0.001$, $b=1000$ and $c=0.001$. How does it compare with what previously obtained? Why?\n",
    "\n",
    "(c) write a function that compute the roots of a quadratic equation accurately in all cases"
   ]
  },
  {
   "cell_type": "markdown",
   "metadata": {},
   "source": [
    "6\\. Write a program that implements the function $f(x)=x(x−1)$\n",
    "\n",
    "(a) Calculate the derivative of the function at the point $x = 1$ using the derivative definition:\n",
    "\n",
    "$$\n",
    "\\frac{{\\rm d}f}{{\\rm d}x} = \\lim_{\\delta\\to0} \\frac{f(x+\\delta)-f(x)}{\\delta}\n",
    "$$\n",
    "\n",
    "with $\\delta = 10^{−2}$. Calculate the true value of the same derivative analytically and compare with the answer your program gives. The two will not agree perfectly. Why not?\n",
    "\n",
    "(b) Repeat the calculation for $\\delta = 10^{−4}, 10^{−6}, 10^{−8}, 10^{−10}, 10^{−12}$ and $10^{−14}$. How does the accuracy scales with $\\delta$?"
   ]
  },
  {
   "cell_type": "markdown",
   "metadata": {},
   "source": [
    "7\\. Consider the integral of the semicircle of radius 1:\n",
    "$$\n",
    "I=\\int_{-1}^{1} \\sqrt(1-x^2) {\\rm d}x\n",
    "$$\n",
    "which it's known to be $I=\\frac{\\pi}{2}=1.57079632679...$.\n",
    "Alternatively we can use the Riemann definition of the integral:\n",
    "$$\n",
    "I=\\lim_{N\\to\\infty} \\sum_{k=1}^{N} h y_k \n",
    "$$\n",
    "\n",
    "with $h=2/N$ the width of each of the $N$ slices the domain is divided into and where\n",
    "$y_k$ is the value of the function at the $k-$th slice.\n",
    "\n",
    "(a) Write a programe to compute the integral with $N=100$. How does the result compares to the true value?\n",
    "\n",
    "(b) How much can $N$ be increased if the computation needs to be run in less than a second? What is the gain in running it for 1 minute? \n"
   ]
  },
  {
   "cell_type": "code",
   "execution_count": null,
   "metadata": {},
   "outputs": [],
   "source": []
  }
 ],
 "metadata": {
  "kernelspec": {
   "display_name": "Python 3",
   "language": "python",
   "name": "python3"
  },
  "language_info": {
   "codemirror_mode": {
    "name": "ipython",
    "version": 3
   },
   "file_extension": ".py",
   "mimetype": "text/x-python",
   "name": "python",
   "nbconvert_exporter": "python",
   "pygments_lexer": "ipython3",
   "version": "3.7.4"
  }
 },
 "nbformat": 4,
 "nbformat_minor": 2
}
