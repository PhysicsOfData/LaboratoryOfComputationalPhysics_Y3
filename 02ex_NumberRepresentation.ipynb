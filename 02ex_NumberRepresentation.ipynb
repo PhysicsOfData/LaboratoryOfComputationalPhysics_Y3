{
 "cells": [
  {
   "cell_type": "markdown",
   "metadata": {},
   "source": [
    "1. Write a function that converts number representation (bin<->dec<->hex)\n"
   ]
  },
  {
   "cell_type": "code",
   "execution_count": null,
   "metadata": {
    "scrolled": false
   },
   "outputs": [],
   "source": [
    "\n",
    "def f(a):\n",
    "    a_bin=bin(a)\n",
    "    a_hex=hex(a)\n",
    "    a_dec=a\n",
    "\n",
    "    print(\"Binary represetation:\",a_bin,\"\\r\\nDecimal represetation:\",a_dec,\"\\r\\nHexadecimal represetation:\",a_hex)\n",
    "\n",
    "f(10)"
   ]
  },
  {
   "cell_type": "markdown",
   "metadata": {},
   "source": [
    "2. Write a function that converts a 32 bit word into a single precision floating point (i.e. interprets the various bits as sign, mantissa and exponent)\n",
    "\n"
   ]
  },
  {
   "cell_type": "code",
   "execution_count": null,
   "metadata": {},
   "outputs": [],
   "source": []
  },
  {
   "cell_type": "markdown",
   "metadata": {},
   "source": [
    "3. Write a program to determine the underflow and overflow limits (within a factor of 2) for python on your computer.\n",
    "\n",
    "Tips: define two variables inizialized to 1 and halve/double them enough time to exceed the under/over-flow limits\n"
   ]
  },
  {
   "cell_type": "code",
   "execution_count": null,
   "metadata": {},
   "outputs": [],
   "source": [
    "N=2000\n",
    "underflow=1\n",
    "overflow=1\n",
    "factor=2\n",
    "\n",
    "for i in range(N):\n",
    "    underflow=underflow/2\n",
    "    overflow=overflow*2\n",
    "    print(\"|%2d\"%i,\"|\",\"\\t\\t\",\"|%2.5e\"%underflow,\"|\",\"\\t\\t\",\"|%2.5e\"%overflow,\"|\")\n",
    "\n"
   ]
  },
  {
   "cell_type": "markdown",
   "metadata": {},
   "source": [
    "4. Write a program to determine the machine precision\n",
    "\n",
    "Tips: define a new variable by adding a smaller and smaller value (proceeding similarly to prob. 2) to an original variable and check the point where the two are the same\n"
   ]
  },
  {
   "cell_type": "code",
   "execution_count": null,
   "metadata": {},
   "outputs": [],
   "source": [
    "x=1\n",
    "def precision(k):\n",
    "    b=1\n",
    "    i=0\n",
    "    while k != k+b:\n",
    "        k=k+b\n",
    "        b=b/2\n",
    "        i += 1\n",
    "    print(pow(2, -i+1))            \n",
    "precision(x)"
   ]
  },
  {
   "cell_type": "markdown",
   "metadata": {},
   "source": [
    "5. Write a function that takes in input three parameters $a$, $b$ and $c$ and prints out the two solutions to the quadratic equation $ax^2+bx+c=0$ using the standard formula:$$\n",
    "x=\\frac{-b\\pm\\sqrt{b^2-4ac}}{2a}\n",
    "$$\n",
    "\n",
    "(a) use the program to compute the solution for $a=0.001$, $b=1000$ and $c=0.001$\n",
    "\n",
    "(b) re-express the standard solution formula by multiplying top and bottom by $-b\\mp\\sqrt{b^2-4ac}$ and again find the solution for $a=0.001$, $b=1000$ and $c=0.001$. How does it compare with what previously obtained? Why?\n",
    "\n",
    "(c) write a function that compute the roots of a quadratic equation accurately in all cases\n"
   ]
  },
  {
   "cell_type": "code",
   "execution_count": null,
   "metadata": {},
   "outputs": [],
   "source": [
    "import math\n",
    "def roots(a,b,c):\n",
    "    x1=((-b+(math.sqrt((b**2)-(4*a*c))))*(-b+(math.sqrt((b**2)-(4*a*c)))))/((2*a)*(-b+(math.sqrt((b**2)-(4*a*c)))))\n",
    "    x2=((-b-(math.sqrt((b**2)-(4*a*c))))*(-b-(math.sqrt((b**2)-(4*a*c)))))/((2*a)*(-b-(math.sqrt((b**2)-(4*a*c)))))\n",
    "    return x1,x2\n",
    "print(roots(0.001,1000,0.001))"
   ]
  },
  {
   "cell_type": "markdown",
   "metadata": {},
   "source": [
    "6. Write a program that implements the function $f(x)=x(x−1)$\n",
    "\n",
    "(a) Calculate the derivative of the function at the point $x = 1$ using the derivative definition:\n",
    "\n",
    "$$\n",
    "\\frac{{\\rm d}f}{{\\rm d}x} = \\lim_{\\delta\\to0} \\frac{f(x+\\delta)-f(x)}{\\delta}\n",
    "$$\n",
    "with $\\delta = 10^{−2}$. Calculate the true value of the same derivative analytically and compare with the answer your program gives. The two will not agree perfectly. Why not?\n",
    "\n",
    "(b) Repeat the calculation for $\\delta = 10^{−4}, 10^{−6}, 10^{−8}, 10^{−10}, 10^{−12}$ and $10^{−14}$. How does the accuracy scales with $\\delta$?\n",
    "\n"
   ]
  },
  {
   "cell_type": "code",
   "execution_count": null,
   "metadata": {},
   "outputs": [],
   "source": [
    "def f(x):\n",
    "    return x\n",
    "def derivative(x):\n",
    "    h=1./10.\n",
    "    slope=(f(x+h)-f(x))/h\n",
    "    return slope\n",
    "\n",
    "print(derivative(1))"
   ]
  },
  {
   "cell_type": "markdown",
   "metadata": {},
   "source": [
    "7. Consider the integral of the semicircle of radius 1:$$\n",
    "I=\\int_{-1}^{1} \\sqrt(1-x^2) {\\rm d}x\n",
    "$$which it's known to be $I=\\frac{\\pi}{2}=1.57079632679...$. Alternatively we can use the Riemann definition of the integral:$$\n",
    "I=\\lim_{N\\to\\infty} \\sum_{k=1}^{N} h y_k \n",
    "$$\n",
    "\n",
    "with $h=2/N$ the width of each of the $N$ slices the domain is divided into and where $y_k$ is the value of the function at the $k-$th slice.\n",
    "\n",
    "(a) Write a programe to compute the integral with $N=100$. How does the result compares to the true value?\n",
    "\n",
    "(b) How much can $N$ be increased if the computation needs to be run in less than a second? What is the gain in running it for 1 minute?\n",
    "\n"
   ]
  },
  {
   "cell_type": "code",
   "execution_count": null,
   "metadata": {},
   "outputs": [],
   "source": [
    "#a\n",
    "import math\n",
    "def f(x):\n",
    "    return math.sqrt(1-x**2)\n",
    "def integral(starting,ending,N):\n",
    "    width=(float(ending)-float(starting))/N\n",
    "    Sum=0\n",
    "    for i in range(N):\n",
    "        height=f(starting+i*width)\n",
    "        area=height*width\n",
    "        Sum+=area\n",
    "    return Sum\n",
    "print(integral(-1,1,100))\n",
    "\n",
    "#b\n",
    "\n",
    "import math\n",
    "import time\n",
    "N=3000000\n",
    "def f(x):\n",
    "    return math.sqrt(1-x**2)\n",
    "def integral(starting,ending,N):\n",
    "    stattime=0\n",
    "    endtime=0\n",
    "    starttime=time.time()\n",
    "    width=(float(ending)-float(starting))/N\n",
    "    Sum=0\n",
    "    for i in range(N):\n",
    "        height=f(starting+i*width)\n",
    "        area=height*width\n",
    "        Sum+=area\n",
    "    endtime=time.time()\n",
    "    return endtime-starttime\n",
    "while(integral(-1,1,N)>=1):\n",
    "    print(N,integral(-1,1,N))\n",
    "    N-=100000\n",
    "print(\"The minimum N in less than 1 munite is:\",N,\"Time is:\",integral(-1,1,N))\n"
   ]
  },
  {
   "cell_type": "code",
   "execution_count": null,
   "metadata": {},
   "outputs": [],
   "source": []
  }
 ],
 "metadata": {
  "kernelspec": {
   "display_name": "Python 3",
   "language": "python",
   "name": "python3"
  },
  "language_info": {
   "codemirror_mode": {
    "name": "ipython",
    "version": 3
   },
   "file_extension": ".py",
   "mimetype": "text/x-python",
   "name": "python",
   "nbconvert_exporter": "python",
   "pygments_lexer": "ipython3",
   "version": "3.6.9"
  }
 },
 "nbformat": 4,
 "nbformat_minor": 4
}
