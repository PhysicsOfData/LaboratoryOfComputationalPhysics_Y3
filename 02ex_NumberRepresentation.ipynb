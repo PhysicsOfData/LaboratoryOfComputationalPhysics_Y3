{
 "cells": [
  {
   "cell_type": "markdown",
   "metadata": {},
   "source": [
    "1\\. Write a function that converts number representation (bin<->dec<->hex)"
   ]
  },
  {
   "cell_type": "code",
   "execution_count": 1,
   "metadata": {},
   "outputs": [
    {
     "name": "stdout",
     "output_type": "stream",
     "text": [
      "The number is decimal\n",
      "Dec:  16\n",
      "Bin:  0b10000\n",
      "Hex:  0x10\n",
      "\n",
      "\n",
      "The number is hexadecimal\n",
      "Dec:  16\n",
      "Bin:  0b10000\n",
      "Hex:  0x10\n",
      "\n",
      "\n",
      "The number is binary\n",
      "Dec:  -16\n",
      "Bin:  -0b10000\n",
      "Hex:  -0x10\n",
      "\n",
      "\n",
      "ERROR\n"
     ]
    }
   ],
   "source": [
    "def fun(num):\n",
    "    if type(num) is int:\n",
    "        print('The number is decimal')\n",
    "        print('Dec: ',num)\n",
    "        print('Bin: ',bin(num))\n",
    "        print('Hex: ', hex(num))\n",
    "    \n",
    "    elif 'x' in num:\n",
    "        print('The number is hexadecimal')\n",
    "        print('Dec: ',int(num,16))\n",
    "        print('Bin: ',bin(int(num,16)))\n",
    "        print('Hex: ', (num))\n",
    "        \n",
    "    else:\n",
    "        is_bin=True\n",
    "        for c in num:\n",
    "            #print(c)\n",
    "            if c != '0' and c!= '1' and c!= 'b' and c!='-':\n",
    "                is_bin = False\n",
    "                exit\n",
    "        if is_bin:\n",
    "            print('The number is binary')\n",
    "            print('Dec: ',int(num,2))\n",
    "            print('Bin: ',num)\n",
    "            print('Hex: ', hex(int(num,2)))\n",
    "            \n",
    "        else: print('ERROR')\n",
    "\n",
    "fun(16)\n",
    "print('\\n')\n",
    "fun(hex(16))\n",
    "print('\\n')\n",
    "fun(bin(-16))\n",
    "print('\\n')\n",
    "fun('pippo')\n",
    "\n"
   ]
  },
  {
   "cell_type": "markdown",
   "metadata": {},
   "source": [
    "2\\. Write a function that converts a 32 bit word into a single precision floating point (i.e. interprets the various bits as sign, mantissa and exponent)"
   ]
  },
  {
   "cell_type": "code",
   "execution_count": 2,
   "metadata": {},
   "outputs": [
    {
     "name": "stdout",
     "output_type": "stream",
     "text": [
      "0 4740234 170\n",
      "The number is 4169553921103.3115\n",
      "Not 32 bit\n"
     ]
    }
   ],
   "source": [
    "def convert(st):\n",
    "    if len(st) == 32:\n",
    "        f=st[:23]\n",
    "        e=st[22:31]\n",
    "        s=st[31]\n",
    "        \n",
    "        f=int(f,2)\n",
    "        e=int(e,2)\n",
    "        s=int(s,2)\n",
    "        \n",
    "        n=10\n",
    "        while True:\n",
    "            if f/n <1:\n",
    "                f_p=f/n\n",
    "                break\n",
    "            n*=10\n",
    "        \n",
    "        print(s,f,e)\n",
    "        print('The number is',((-1)**s)*(2**(e-127))*(f_p))\n",
    "    \n",
    "    else: print('Not 32 bit')\n",
    "        \n",
    "convert('10010000101010010001010101010100')\n",
    "convert('1001000010101001000101010101010')"
   ]
  },
  {
   "cell_type": "markdown",
   "metadata": {},
   "source": [
    "3\\. Write a program to determine the underflow and overflow limits (within a factor of 2) for python on your computer. \n",
    "\n",
    "**Tips**: define two variables inizialized to 1 and halve/double them enough time to exceed the under/over-flow limits  "
   ]
  },
  {
   "cell_type": "code",
   "execution_count": 3,
   "metadata": {},
   "outputs": [
    {
     "name": "stdout",
     "output_type": "stream",
     "text": [
      "1075\n",
      "1024\n"
     ]
    }
   ],
   "source": [
    "of=1.\n",
    "uf=1.\n",
    "i=1\n",
    "\n",
    "while True:\n",
    "    uf/=2\n",
    "    if uf == 0. :\n",
    "        print(i)\n",
    "        break\n",
    "    i+=1  \n",
    "\n",
    "i=1\n",
    "while True:\n",
    "    of*=2\n",
    "    if of == float(\"inf\") :\n",
    "        print(i)\n",
    "        break\n",
    "    i+=1  "
   ]
  },
  {
   "cell_type": "markdown",
   "metadata": {},
   "source": [
    "4\\. Write a program to determine the machine precision\n",
    "\n",
    "**Tips**: define a new variable by adding a smaller and smaller value (proceeding similarly to prob. 2) to an original variable and check the point where the two are the same "
   ]
  },
  {
   "cell_type": "code",
   "execution_count": 4,
   "metadata": {},
   "outputs": [
    {
     "name": "stdout",
     "output_type": "stream",
     "text": [
      "1.1102230246251565e-16\n",
      "6.938893903907228e-18\n",
      "8.881784197001252e-16\n",
      "5.684341886080802e-14\n"
     ]
    }
   ],
   "source": [
    "def prec(i):\n",
    "    sens=2\n",
    "    while True:\n",
    "        if i+sens == i:\n",
    "            print(sens)\n",
    "            break\n",
    "        sens/=2 \n",
    "    return\n",
    "\n",
    "prec(1)\n",
    "prec(0.1)\n",
    "prec(10)\n",
    "prec(1000)\n"
   ]
  },
  {
   "cell_type": "markdown",
   "metadata": {},
   "source": [
    "5\\. Write a function that takes in input three parameters $a$, $b$ and $c$ and prints out the two solutions to the quadratic equation $ax^2+bx+c=0$ using the standard formula:\n",
    "$$\n",
    "x=\\frac{-b\\pm\\sqrt{b^2-4ac}}{2a}\n",
    "$$\n",
    "\n",
    "(a) use the program to compute the solution for $a=0.001$, $b=1000$ and $c=0.001$\n",
    "\n",
    "(b) re-express the standard solution formula by multiplying top and bottom by $-b\\mp\\sqrt{b^2-4ac}$ and again find the solution for $a=0.001$, $b=1000$ and $c=0.001$. How does it compare with what previously obtained? Why?\n",
    "\n",
    "$$\n",
    "x=\\frac{ b^2-\\Delta }{2a(-b\\mp\\sqrt{\\Delta})}\n",
    "$$\n",
    "\n",
    "(c) write a function that compute the roots of a quadratic equation accurately in all cases"
   ]
  },
  {
   "cell_type": "code",
   "execution_count": 5,
   "metadata": {},
   "outputs": [
    {
     "name": "stdout",
     "output_type": "stream",
     "text": [
      "(-9.999894245993346e-07, -999999.999999)\n",
      "(-9.999785106639132e-07, -999989.0859481583)\n",
      "(-9.999894245993346e-07, -999999.999999)\n"
     ]
    }
   ],
   "source": [
    "def solve1(a,b,c):\n",
    "    x1 = (-b+(b*b-4*a*c)**0.5)/(2*a)\n",
    "    x2 = (-b-(b*b-4*a*c)**0.5)/(2*a)\n",
    "    return x1,x2\n",
    "\n",
    "def solve2(a,b,c):\n",
    "    d = (b*b-4*a*c)**0.5\n",
    "    x1 = -(d**2-b**2)/((2*a)*(-b-d))\n",
    "    x2 = -(d**2-b**2)/((2*a)*(-b+d))\n",
    "    \n",
    "    return x1,x2\n",
    "\n",
    "def solve3(a,b,c):\n",
    "    d = ((b/2)**2-a*c)**0.5\n",
    "    x1 = (-b/2+d)/(a)\n",
    "    x2 = (-b/2-d)/(a)\n",
    "    return x1,x2\n",
    "\n",
    "print(solve1(0.001,1000,0.001))\n",
    "print(solve2(0.001,1000,0.001))\n",
    "print(solve3(0.001,1000,0.001))"
   ]
  },
  {
   "cell_type": "markdown",
   "metadata": {},
   "source": [
    "6\\. Write a program that implements the function $f(x)=x(x−1)$\n",
    "\n",
    "(a) Calculate the derivative of the function at the point $x = 1$ using the derivative definition:\n",
    "\n",
    "$$\n",
    "\\frac{{\\rm d}f}{{\\rm d}x} = \\lim_{\\delta\\to0} \\frac{f(x+\\delta)-f(x)}{\\delta}\n",
    "$$\n",
    "\n",
    "with $\\delta = 10^{−2}$. Calculate the true value of the same derivative analytically and compare with the answer your program gives. The two will not agree perfectly. Why not?\n",
    "\n",
    "(b) Repeat the calculation for $\\delta = 10^{−4}, 10^{−6}, 10^{−8}, 10^{−10}, 10^{−12}$ and $10^{−14}$. How does the accuracy scales with $\\delta$?"
   ]
  },
  {
   "cell_type": "code",
   "execution_count": 6,
   "metadata": {},
   "outputs": [
    {
     "name": "stdout",
     "output_type": "stream",
     "text": [
      "1.010000000000001\n",
      "delta:  0.0001 d 1.0000999999998899\n",
      "9.999999988985486e-05\n",
      "delta:  1e-06 d 1.0000009999177333\n",
      "9.99917733279787e-07\n",
      "delta:  1e-08 d 1.0000000039225287\n",
      "3.922528746258536e-09\n",
      "delta:  1e-10 d 1.000000082840371\n",
      "8.284037100736441e-08\n",
      "delta:  1e-12 d 1.0000889005833413\n",
      "8.890058334132256e-05\n",
      "delta:  1e-14 d 0.9992007221626509\n",
      "0.0007992778373491216\n"
     ]
    }
   ],
   "source": [
    "#A\n",
    "def f(x):\n",
    "    return x*(x-1)\n",
    "\n",
    "def derivative(fun,p,d):\n",
    "    return (fun(p+d)-fun(p))/d\n",
    "    \n",
    "\n",
    "delta=0.01\n",
    "print(derivative(f,1,delta))\n",
    "\n",
    "for e in [-4,-6,-8,-10,-12,-14]:\n",
    "    delta=10**e\n",
    "    print('delta: ',delta,'d',derivative(f,1,delta))\n",
    "    print(abs(1-derivative(f,1,delta)))\n"
   ]
  },
  {
   "cell_type": "markdown",
   "metadata": {},
   "source": [
    "7\\. Consider the integral of the semicircle of radius 1:\n",
    "$$\n",
    "I=\\int_{-1}^{1} \\sqrt(1-x^2) {\\rm d}x\n",
    "$$\n",
    "which it's known to be $I=\\frac{\\pi}{2}=1.57079632679...$.\n",
    "Alternatively we can use the Riemann definition of the integral:\n",
    "$$\n",
    "I=\\lim_{N\\to\\infty} \\sum_{k=1}^{N} h y_k \n",
    "$$\n",
    "\n",
    "with $h=2/N$ the width of each of the $N$ slices the domain is divided into and where\n",
    "$y_k$ is the value of the function at the $k-$th slice.\n",
    "\n",
    "(a) Write a programe to compute the integral with $N=100$. How does the result compares to the true value?\n",
    "\n",
    "(b) How much can $N$ be increased if the computation needs to be run in less than a second? What is the gain in running it for 1 minute? \n"
   ]
  },
  {
   "cell_type": "code",
   "execution_count": 7,
   "metadata": {},
   "outputs": [],
   "source": [
    "def integrate(f,N=100):\n",
    "    h=2/N\n",
    "    x_0=-1\n",
    "    I=0\n",
    "    for i in (range(N)):\n",
    "       I+=h*f(x_0+i*h)\n",
    "    \n",
    "    return I\n",
    "\n",
    "def f(x):\n",
    "    return (1-x**2)**0.5"
   ]
  },
  {
   "cell_type": "code",
   "execution_count": 8,
   "metadata": {},
   "outputs": [
    {
     "name": "stdout",
     "output_type": "stream",
     "text": [
      "CPU times: user 255 µs, sys: 39 µs, total: 294 µs\n",
      "Wall time: 299 µs\n",
      "0.00014873304112583696  with  500  steps \n",
      "CPU times: user 19.9 ms, sys: 0 ns, total: 19.9 ms\n",
      "Wall time: 19.7 ms\n",
      "1.4875109566325762e-07  with  50000  steps \n",
      "CPU times: user 19.5 s, sys: 102 ms, total: 19.6 s\n",
      "Wall time: 19.9 s\n",
      "5.063949259920264e-12  with  50000000  steps \n"
     ]
    }
   ],
   "source": [
    "from math import pi\n",
    "\n",
    "steps=[int(5*(10**i)) for i in [2,4,7]]\n",
    "for N in (steps):\n",
    "    %time I=integrate(f,N)\n",
    "    print(pi/2-I, ' with ',N,' steps ')"
   ]
  },
  {
   "cell_type": "code",
   "execution_count": 9,
   "metadata": {},
   "outputs": [
    {
     "name": "stdout",
     "output_type": "stream",
     "text": [
      "CPU times: user 116 ms, sys: 52 ms, total: 168 ms\n",
      "Wall time: 175 ms\n",
      "CPU times: user 3.8 s, sys: 7.88 ms, total: 3.81 s\n",
      "Wall time: 3.85 s\n"
     ]
    },
    {
     "data": {
      "text/plain": [
       "1.5707963267423612"
      ]
     },
     "execution_count": 9,
     "metadata": {},
     "output_type": "execute_result"
    }
   ],
   "source": [
    "import numpy as np\n",
    "def integrate_fast(f,N=100):\n",
    "    x=np.linspace(-1,1,N)\n",
    "    h=2/N\n",
    "    I=h*np.sum(f(x))\n",
    "    \n",
    "    return I\n",
    "N=10000000\n",
    "%time integrate_fast(f,N)\n",
    "%time integrate(f,N)"
   ]
  },
  {
   "cell_type": "code",
   "execution_count": 10,
   "metadata": {},
   "outputs": [
    {
     "name": "stdout",
     "output_type": "stream",
     "text": [
      "1\n",
      "2\n",
      "3\n",
      "4\n",
      "5\n",
      "6\n",
      "7\n",
      "8\n",
      "9\n",
      "10\n"
     ]
    }
   ],
   "source": [
    "steps=np.linspace(1000,10**7,10)\n",
    "ris=[]\n",
    "cont=1\n",
    "for N in (steps):\n",
    "    print(cont)\n",
    "    cont+=1\n",
    "    I=integrate_fast(f,int(N))\n",
    "    ris.append(pi/2-I)"
   ]
  },
  {
   "cell_type": "code",
   "execution_count": 12,
   "metadata": {},
   "outputs": [
    {
     "data": {
      "image/png": "[encoded data removed]",
      "text/plain": [
       "<Figure size 432x288 with 1 Axes>"
      ]
     },
     "metadata": {
      "needs_background": "light"
     },
     "output_type": "display_data"
    }
   ],
   "source": [
    "import matplotlib.pyplot as plt\n",
    "\n",
    "plt.plot(steps,ris)\n",
    "plt.yscale('log')\n"
   ]
  },
  {
   "cell_type": "code",
   "execution_count": null,
   "metadata": {},
   "outputs": [],
   "source": []
  }
 ],
 "metadata": {
  "kernelspec": {
   "display_name": "Python 3",
   "language": "python",
   "name": "python3"
  },
  "language_info": {
   "codemirror_mode": {
    "name": "ipython",
    "version": 3
   },
   "file_extension": ".py",
   "mimetype": "text/x-python",
   "name": "python",
   "nbconvert_exporter": "python",
   "pygments_lexer": "ipython3",
   "version": "3.8.1"
  }
 },
 "nbformat": 4,
 "nbformat_minor": 2
}
