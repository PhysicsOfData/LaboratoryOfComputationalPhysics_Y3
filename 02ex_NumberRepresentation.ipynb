{
 "cells": [
  {
   "cell_type": "markdown",
   "metadata": {},
   "source": [
    "1\\. Write a function that converts number representation (bin<->dec<->hex)"
   ]
  },
  {
   "cell_type": "code",
   "execution_count": 1,
   "metadata": {
    "scrolled": true
   },
   "outputs": [
    {
     "name": "stdout",
     "output_type": "stream",
     "text": [
      "Decimal number 29\n",
      "Decimal converted to binary, 11101\n",
      "Decimal converted to hexadecimal, 1D\n",
      "--------------------------------------------\n",
      "Binary number 11101110\n",
      "Binary converted to decimal, 238\n",
      "Binary converted to hexadecimal, EE\n",
      "--------------------------------------------\n",
      "Hexadecimal number 1DE3\n",
      "Hexadecimal converted to decimal, 7651\n",
      "Hexadecimal converted to binary, 1110111100011\n"
     ]
    }
   ],
   "source": [
    "#Answer\n",
    "\n",
    "#Binary to decimal\n",
    "def btod(x):\n",
    "    y = 0\n",
    "    for i in range(0,len(x)):\n",
    "        j = len(x)-(i+1)\n",
    "        y = 2**i * int(x[j]) + y        \n",
    "    return y \n",
    "\n",
    "#Decimal to binary\n",
    "def dtob(x):\n",
    "    res = 1\n",
    "    y   = ''\n",
    "    \n",
    "    while res > 0:\n",
    "        res = x // 2\n",
    "        i   = x % 2\n",
    "        x   = res\n",
    "        y = str(i) + y\n",
    "    return y\n",
    "\n",
    "#Decimal to Hexadecimal\n",
    "def dtoh(x):\n",
    "    a = {0:'0', 1:'1', 2 :'2', 3:'3', 4:'4', 5:'5', 6:'6', 7:'7', 8:'8', 9:'9', 10:'A', 11:'B', 12:'C', 13:'D', 14:'E', 15:'F'}\n",
    "    res = 1\n",
    "    y   = ''\n",
    "    \n",
    "    while res > 0:\n",
    "        res = x // 16\n",
    "        i   = x % 16\n",
    "        x   = res\n",
    "        \n",
    "        if i == 10:\n",
    "            h=1\n",
    "        y = a[i] + y\n",
    "    return y\n",
    "    \n",
    "\n",
    "\n",
    "#Hexadecimal to decimal\n",
    "def htod(x):\n",
    "    y = 0\n",
    "    a = {'0':0, '1':1, '2' :2, '3':3, '4':4, '5':5, '6':6, '7':7, '8':8, '9':9,'A':10,'B':11,'C':12,'D':13,'E':14,'F':15}\n",
    "\n",
    "    for i in range(0,len(x)):\n",
    "        j = len(x)-(i+1)\n",
    "        y = int(a[x[i]]) * 16**j +y\n",
    "    return y\n",
    "\n",
    "#Binary to hexadecimal\n",
    "def btoh(x):\n",
    "    y = dtoh(btod(x))\n",
    "    return y\n",
    "\n",
    "#Hexadecimal to binary\n",
    "def htob(x):\n",
    "    y = dtob(htod(x))\n",
    "    return y\n",
    "\n",
    "a = 29\n",
    "print('Decimal number',a)\n",
    "print('Decimal converted to binary,',dtob(a))\n",
    "print('Decimal converted to hexadecimal,',dtoh(a))\n",
    "\n",
    "print('--------------------------------------------')\n",
    "\n",
    "b= '11101110'\n",
    "print('Binary number',b)\n",
    "print('Binary converted to decimal,',btod(b))\n",
    "print('Binary converted to hexadecimal,',btoh(b))\n",
    "\n",
    "print('--------------------------------------------')\n",
    "\n",
    "c = '1DE3'\n",
    "print('Hexadecimal number',c)\n",
    "print('Hexadecimal converted to decimal,',htod(c))\n",
    "print('Hexadecimal converted to binary,',htob(c))"
   ]
  },
  {
   "cell_type": "markdown",
   "metadata": {},
   "source": [
    "2\\. Write a function that converts a 32 bit word into a single precision floating point (i.e. interprets the various bits as sign, mantissa and exponent)"
   ]
  },
  {
   "cell_type": "code",
   "execution_count": 2,
   "metadata": {},
   "outputs": [
    {
     "name": "stdout",
     "output_type": "stream",
     "text": [
      "The 32 bit word 00000011111000000000000000000000 was converted into the floating point 1.316553672920962e-36\n"
     ]
    }
   ],
   "source": [
    "#Answer\n",
    "a = '00000011111000000000000000000000'\n",
    "def bit32float(x):\n",
    "    tmp = x [::-1]                      #Reverse the string to operate with conventional indexes \n",
    "    \n",
    "    sgn = int(tmp[31])\n",
    "    f = 1.\n",
    "    for i in range(1,24):\n",
    "        f = f + int(tmp[23-i]) * 2**(-i)\n",
    "    e = 0.\n",
    "    for i in range(0,8):\n",
    "        e = e + int(tmp[23+i]) * 2**i\n",
    "    \n",
    "    y = (-1)**sgn * f * 2**(e-127)\n",
    "    \n",
    "    return y\n",
    "\n",
    "print('The 32 bit word',a,'was converted into the floating point',bit32float(a))"
   ]
  },
  {
   "cell_type": "markdown",
   "metadata": {},
   "source": [
    "3\\. Write a program to determine the underflow and overflow limits (within a factor of 2) for python on your computer. \n",
    "\n",
    "**Tips**: define two variables inizialized to 1 and halve/double them enough time to exceed the under/over-flow limits  "
   ]
  },
  {
   "cell_type": "code",
   "execution_count": 3,
   "metadata": {},
   "outputs": [
    {
     "name": "stdout",
     "output_type": "stream",
     "text": [
      "The underflow limit is: 5e-324\n",
      "The overflow limit is : 8.98846567431158e+307\n"
     ]
    }
   ],
   "source": [
    "#Answer\n",
    "\n",
    "#Underflow\n",
    "under = 1.\n",
    "while under != 0.:\n",
    "    underflow = under\n",
    "    under /= 2\n",
    "print('The underflow limit is:',underflow)\n",
    "\n",
    "#Overflow\n",
    "over = 1.\n",
    "while over != float('inf'):\n",
    "    overflow = over\n",
    "    over *= 2\n",
    "print('The overflow limit is :',overflow)"
   ]
  },
  {
   "cell_type": "markdown",
   "metadata": {},
   "source": [
    "4\\. Write a program to determine the machine precision\n",
    "\n",
    "**Tips**: define a new variable by adding a smaller and smaller value (proceeding similarly to prob. 2) to an original variable and check the point where the two are the same "
   ]
  },
  {
   "cell_type": "code",
   "execution_count": 4,
   "metadata": {
    "scrolled": true
   },
   "outputs": [
    {
     "name": "stdout",
     "output_type": "stream",
     "text": [
      "The machine precision is: 1.1102230246251565e-16\n"
     ]
    }
   ],
   "source": [
    "#Answer\n",
    "epsilon = 1.\n",
    "\n",
    "while epsilon +1. != 1.:\n",
    "    epsilon /= 2\n",
    "print('The machine precision is:',epsilon)"
   ]
  },
  {
   "cell_type": "markdown",
   "metadata": {},
   "source": []
  },
  {
   "cell_type": "markdown",
   "metadata": {},
   "source": []
  },
  {
   "cell_type": "markdown",
   "metadata": {},
   "source": [
    "5\\. Write a function that takes in input three parameters $a$, $b$ and $c$ and prints out the two solutions to the quadratic equation $ax^2+bx+c=0$ using the standard formula:\n",
    "$$\n",
    "x=\\frac{-b\\pm\\sqrt{b^2-4ac}}{2a}\n",
    "$$\n",
    "\n",
    "(a) use the program to compute the solution for $a=0.001$, $b=1000$ and $c=0.001$\n",
    "\n",
    "(b) re-express the standard solution formula by multiplying top and bottom by $-b\\mp\\sqrt{b^2-4ac}$ and again find the solution for $a=0.001$, $b=1000$ and $c=0.001$. How does it compare with what previously obtained? Why?\n",
    "\n",
    "(c) write a function that compute the roots of a quadratic equation accurately in all cases"
   ]
  },
  {
   "cell_type": "code",
   "execution_count": 5,
   "metadata": {},
   "outputs": [
    {
     "name": "stdout",
     "output_type": "stream",
     "text": [
      "a) Solution using the Bhaskaras formula          x1= -9.999894245993346e-07 x2= -999999.999999\n",
      "b) Solution using the modified Bhaskaras formula x1= -1.000000000001e-06    x2= -1000010.5755125057\n",
      "\n",
      "How does it compare with what previously obtained? Why?\n",
      "Good question\n",
      "\n",
      "c) Solution using the stable Bhaskaras formula   x1= -1.000000000001e-06         x2= -999999.999999\n"
     ]
    }
   ],
   "source": [
    "#Answer\n",
    "import  math as m\n",
    "import  numpy as np\n",
    "\n",
    "def bhaskara(a,b,c):\n",
    "    if b**2-4*a*c < 0.:\n",
    "        print('There is no real solution to the problem')\n",
    "        return None \n",
    "    else: \n",
    "        x1 = (-b + m.sqrt(b**2-4*a*c))/(2*a)\n",
    "        x2 = (-b - m.sqrt(b**2-4*a*c))/(2*a)\n",
    "        return x1,x2\n",
    "\n",
    "def bhaskara2(a,b,c):\n",
    "    if b**2-4*a*c < 0.:\n",
    "        print('There is no real solution to the problem')\n",
    "        return None \n",
    "    else: \n",
    "        x1 = 2 *c /(-b-m.sqrt(b**2-4*a*c))\n",
    "        x2 = 2 *c /(-b+m.sqrt(b**2-4*a*c))\n",
    "        return x1,x2\n",
    "    \n",
    "def bhaskara3(a,b,c):\n",
    "    if b**2-4*a*c < 0.:\n",
    "        print('There is no real solution to the problem')\n",
    "        return None \n",
    "    else: \n",
    "        x2 = (-b -np.sign(b)*m.sqrt(b**2 -4*a*c))/(2*a)\n",
    "        x1 = c/(a*x2)\n",
    "        return x1,x2\n",
    "    \n",
    "[a1,a2]=bhaskara(0.001,1000,0.001)\n",
    "print('a) Solution using the Bhaskaras formula','         x1=',a1,'x2=',a2)\n",
    "\n",
    "[a11,a22]=bhaskara2(0.001,1000,0.001)\n",
    "print('b) Solution using the modified Bhaskaras formula','x1=',a11,'   x2=',a22)\n",
    "\n",
    "print('')\n",
    "\n",
    "print('How does it compare with what previously obtained? Why?')\n",
    "print('Good question')\n",
    "\n",
    "print('')\n",
    "[a111,a222]=bhaskara3(0.001,1000,0.001)\n",
    "print('c) Solution using the stable Bhaskaras formula','  x1=',a111,'        x2=',a222)"
   ]
  },
  {
   "cell_type": "code",
   "execution_count": null,
   "metadata": {},
   "outputs": [],
   "source": []
  },
  {
   "cell_type": "markdown",
   "metadata": {},
   "source": [
    "6\\. Write a program that implements the function $f(x)=x(x−1)$\n",
    "\n",
    "(a) Calculate the derivative of the function at the point $x = 1$ using the derivative definition:\n",
    "\n",
    "$$\n",
    "\\frac{{\\rm d}f}{{\\rm d}x} = \\lim_{\\delta\\to0} \\frac{f(x+\\delta)-f(x)}{\\delta}\n",
    "$$\n",
    "\n",
    "with $\\delta = 10^{−2}$. Calculate the true value of the same derivative analytically and compare with the answer your program gives. The two will not agree perfectly. Why not?\n",
    "\n",
    "(b) Repeat the calculation for $\\delta = 10^{−4}, 10^{−6}, 10^{−8}, 10^{−10}, 10^{−12}$ and $10^{−14}$. How does the accuracy scales with $\\delta$?"
   ]
  },
  {
   "cell_type": "code",
   "execution_count": 6,
   "metadata": {
    "scrolled": true
   },
   "outputs": [
    {
     "name": "stdout",
     "output_type": "stream",
     "text": [
      "The analytical value of the derivative is: 1.0\n",
      "The numerically obtained value of the derivative is: 1.0009999999998895 for delta =0.001\n",
      "a)  We can see a difference between the derivatives values, this happen because\n",
      "lolo\n",
      "------------------------------------------------\n",
      "b)  In this table it can be seen that the accuracy scales linearly with delta for delta between 1.e-2 and 1.e-8\n",
      "after this point this tendency is lost.\n",
      "Delta | Derivative        | Difference\n",
      "------------------------------------------------\n",
      "0.01 |   1.010000000000001 | 0.010000000000000897\n",
      "0.0001 |   1.0000999999998899 | 9.999999988985486e-05\n",
      "1e-06 |   1.0000009999177333 | 9.99917733279787e-07\n",
      "1e-08 |   1.0000000039225287 | 3.922528746258536e-09\n",
      "1e-10 |   1.000000082840371 | 8.284037100736441e-08\n",
      "1e-12 |   1.0000889005833413 | 8.890058334132256e-05\n",
      "1e-14 |   0.9992007221626509 | 0.0007992778373491216\n"
     ]
    }
   ],
   "source": [
    "#Answer\n",
    "def f(x):\n",
    "    y = x*(x-1.)\n",
    "    return y\n",
    "\n",
    "def derivate(f,x,d):\n",
    "    df = (f(x+d)-f(x))/d\n",
    "    return df\n",
    "    \n",
    "print('The analytical value of the derivative is:',1.)\n",
    "print('The numerically obtained value of the derivative is:',derivate(f,1.,0.001), 'for delta =0.001')\n",
    "print('a)  We can see a difference between the derivatives values, this happen because')\n",
    "print('lolo')\n",
    "print('------------------------------------------------')\n",
    "\n",
    "\n",
    "delta = [10**-i for i in range(2,15,2)]\n",
    "difference = [abs(1.-derivate(f,1.,delta[i])) for i in range(len(delta))]\n",
    "\n",
    "print('b)  In this table it can be seen that the accuracy scales linearly with delta for delta between 1.e-2 and 1.e-8')\n",
    "print('after this point this tendency is lost.')\n",
    "print('Delta','|','Derivative','       |', 'Difference')\n",
    "print('------------------------------------------------')\n",
    "for i in range(len(delta)):\n",
    "    print(delta[i],'|  ',derivate(f,1.,delta[i]),'|', difference[i])\n",
    "    \n",
    "    "
   ]
  },
  {
   "cell_type": "markdown",
   "metadata": {},
   "source": [
    "7\\. Consider the integral of the semicircle of radius 1:\n",
    "$$\n",
    "I=\\int_{-1}^{1} \\sqrt(1-x^2) {\\rm d}x\n",
    "$$\n",
    "which it's known to be $I=\\frac{\\pi}{2}=1.57079632679...$.\n",
    "Alternatively we can use the Riemann definition of the integral:\n",
    "$$\n",
    "I=\\lim_{N\\to\\infty} \\sum_{k=1}^{N} h y_k \n",
    "$$\n",
    "\n",
    "with $h=2/N$ the width of each of the $N$ slices the domain is divided into and where\n",
    "$y_k$ is the value of the function at the $k-$th slice.\n",
    "\n",
    "(a) Write a programe to compute the integral with $N=100$. How does the result compares to the true value?\n",
    "\n",
    "(b) How much can $N$ be increased if the computation needs to be run in less than a second? What is the gain in running it for 1 minute? \n"
   ]
  },
  {
   "cell_type": "code",
   "execution_count": null,
   "metadata": {},
   "outputs": [
    {
     "name": "stdout",
     "output_type": "stream",
     "text": [
      "The integral with N=100 is equal to 1.5691342555492505\n",
      "The difference with the true value is 0.0016620712407495741\n",
      "If the computation must be done in less than a seccond, then N should be around 10000000 with a difference of 1.6582726303226991e-09\n"
     ]
    }
   ],
   "source": [
    "#Answer\n",
    "import  math as m\n",
    "import  time\n",
    "\n",
    "def scr1(x):\n",
    "    y = m.sqrt(1-x**2)\n",
    "    return y\n",
    "    \n",
    "\n",
    "def riemann(f,x1,x2,n):\n",
    "    I = 0.\n",
    "    for k in range(1,n):\n",
    "        dx = (x2-x1)/n\n",
    "        x  = x1 + dx*k\n",
    "        I = I + dx * f(x)\n",
    "    return I\n",
    "\n",
    "print('The integral with N=100 is equal to',riemann(scr1,-1,1,100))\n",
    "print('The difference with the true value is', abs(riemann(scr1,-1,1,100)-1.57079632679))\n",
    "\n",
    "\n",
    "dt = 0.\n",
    "rmn =0.\n",
    "N=10\n",
    "while dt < 1.:\n",
    "    start =time.time()\n",
    "    N *=10\n",
    "    dprev = dt\n",
    "    rmnprev =rmn\n",
    "    rmn = riemann(scr1,-1,1,N)\n",
    "    dt = abs(start - time.time())\n",
    "print('If the computation must be done in less than a seccond, then N should be around',N, 'with a difference of',abs(rmnprev-1.57079632679))\n",
    "\n",
    "\n",
    "dt = 0.\n",
    "rmn =0.\n",
    "N=10\n",
    "while dt < 60.:\n",
    "    start =time.time()\n",
    "    N *=10\n",
    "    dprev = dt\n",
    "    rmnprev =rmn\n",
    "    rmn = riemann(scr1,-1,1,N)\n",
    "    dt = abs(start - time.time())\n",
    "print('The gain is',abs(rmnprev-1.57079632679))\n",
    "\n",
    "\n",
    "    \n",
    "    "
   ]
  },
  {
   "cell_type": "markdown",
   "metadata": {},
   "source": [
    "It means that to obtain a result 2 order more acurate takes 60 times more time what seems to be unnecessary considering that the accuracy obtained in 1 seccond is of nine digits."
   ]
  },
  {
   "cell_type": "code",
   "execution_count": null,
   "metadata": {},
   "outputs": [],
   "source": []
  }
 ],
 "metadata": {
  "kernelspec": {
   "display_name": "Python 3",
   "language": "python",
   "name": "python3"
  },
  "language_info": {
   "codemirror_mode": {
    "name": "ipython",
    "version": 3
   },
   "file_extension": ".py",
   "mimetype": "text/x-python",
   "name": "python",
   "nbconvert_exporter": "python",
   "pygments_lexer": "ipython3",
   "version": "3.8.3"
  }
 },
 "nbformat": 4,
 "nbformat_minor": 2
}
