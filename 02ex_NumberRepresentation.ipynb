{
 "cells": [
  {
   "cell_type": "markdown",
   "metadata": {},
   "source": [
    "1\\. Write a function that converts number representation (bin<->dec<->hex)"
   ]
  },
  {
   "cell_type": "code",
   "execution_count": 62,
   "metadata": {
    "scrolled": true
   },
   "outputs": [
    {
     "name": "stdout",
     "output_type": "stream",
     "text": [
      "Decimal number 29\n",
      "Decimal converted to binary, 11101\n",
      "Decimal converted to hexadecimal, 1D\n",
      "--------------------------------------------\n",
      "Binary number 11101110\n",
      "Binary converted to decimal, 238\n",
      "Binary converted to hexadecimal, EE\n",
      "--------------------------------------------\n",
      "Hexadecimal number 1DE3\n",
      "Hexadecimal converted to decimal, 7651\n",
      "Hexadecimal converted to binary, 1110111100011\n"
     ]
    }
   ],
   "source": [
    "#Answer\n",
    "\n",
    "#Binary to decimal\n",
    "def btod(x):\n",
    "    y = 0\n",
    "    for i in range(0,len(x)):\n",
    "        j = len(x)-(i+1)\n",
    "        y = 2**i * int(x[j]) + y        \n",
    "    return y \n",
    "\n",
    "#Decimal to binary\n",
    "def dtob(x):\n",
    "    res = 1\n",
    "    y   = ''\n",
    "    \n",
    "    while res > 0:\n",
    "        res = x // 2\n",
    "        i   = x % 2\n",
    "        x   = res\n",
    "        y = str(i) + y\n",
    "    return y\n",
    "\n",
    "#Decimal to Hexadecimal\n",
    "def dtoh(x):\n",
    "    a = {0:'0', 1:'1', 2 :'2', 3:'3', 4:'4', 5:'5', 6:'6', 7:'7', 8:'8', 9:'9', 10:'A', 11:'B', 12:'C', 13:'D', 14:'E', 15:'F'}\n",
    "    res = 1\n",
    "    y   = ''\n",
    "    \n",
    "    while res > 0:\n",
    "        res = x // 16\n",
    "        i   = x % 16\n",
    "        x   = res\n",
    "        \n",
    "        if i == 10:\n",
    "            h=1\n",
    "        y = a[i] + y\n",
    "    return y\n",
    "    \n",
    "\n",
    "\n",
    "#Hexadecimal to decimal\n",
    "def htod(x):\n",
    "    y = 0\n",
    "    a = {'0':0, '1':1, '2' :2, '3':3, '4':4, '5':5, '6':6, '7':7, '8':8, '9':9,'A':10,'B':11,'C':12,'D':13,'E':14,'F':15}\n",
    "\n",
    "    for i in range(0,len(x)):\n",
    "        j = len(x)-(i+1)\n",
    "        y = int(a[x[i]]) * 16**j +y\n",
    "    return y\n",
    "\n",
    "#Binary to hexadecimal\n",
    "def btoh(x):\n",
    "    y = dtoh(btod(x))\n",
    "    return y\n",
    "\n",
    "#Hexadecimal to binary\n",
    "def htob(x):\n",
    "    y = dtob(htod(x))\n",
    "    return y\n",
    "\n",
    "a = 29\n",
    "print('Decimal number',a)\n",
    "print('Decimal converted to binary,',dtob(a))\n",
    "print('Decimal converted to hexadecimal,',dtoh(a))\n",
    "\n",
    "print('--------------------------------------------')\n",
    "\n",
    "b= '11101110'\n",
    "print('Binary number',b)\n",
    "print('Binary converted to decimal,',btod(b))\n",
    "print('Binary converted to hexadecimal,',btoh(b))\n",
    "\n",
    "print('--------------------------------------------')\n",
    "\n",
    "c = '1DE3'\n",
    "print('Hexadecimal number',c)\n",
    "print('Hexadecimal converted to decimal,',htod(c))\n",
    "print('Hexadecimal converted to binary,',htob(c))"
   ]
  },
  {
   "cell_type": "markdown",
   "metadata": {},
   "source": [
    "2\\. Write a function that converts a 32 bit word into a single precision floating point (i.e. interprets the various bits as sign, mantissa and exponent)"
   ]
  },
  {
   "cell_type": "code",
   "execution_count": null,
   "metadata": {},
   "outputs": [],
   "source": [
    "#Answer"
   ]
  },
  {
   "cell_type": "markdown",
   "metadata": {},
   "source": [
    "3\\. Write a program to determine the underflow and overflow limits (within a factor of 2) for python on your computer. \n",
    "\n",
    "**Tips**: define two variables inizialized to 1 and halve/double them enough time to exceed the under/over-flow limits  "
   ]
  },
  {
   "cell_type": "code",
   "execution_count": null,
   "metadata": {},
   "outputs": [],
   "source": [
    "#Answer"
   ]
  },
  {
   "cell_type": "markdown",
   "metadata": {},
   "source": [
    "4\\. Write a program to determine the machine precision\n",
    "\n",
    "**Tips**: define a new variable by adding a smaller and smaller value (proceeding similarly to prob. 2) to an original variable and check the point where the two are the same "
   ]
  },
  {
   "cell_type": "code",
   "execution_count": null,
   "metadata": {},
   "outputs": [],
   "source": [
    "#Answer"
   ]
  },
  {
   "cell_type": "markdown",
   "metadata": {},
   "source": [
    "5\\. Write a function that takes in input three parameters $a$, $b$ and $c$ and prints out the two solutions to the quadratic equation $ax^2+bx+c=0$ using the standard formula:\n",
    "$$\n",
    "x=\\frac{-b\\pm\\sqrt{b^2-4ac}}{2a}\n",
    "$$\n",
    "\n",
    "(a) use the program to compute the solution for $a=0.001$, $b=1000$ and $c=0.001$\n",
    "\n",
    "(b) re-express the standard solution formula by multiplying top and bottom by $-b\\mp\\sqrt{b^2-4ac}$ and again find the solution for $a=0.001$, $b=1000$ and $c=0.001$. How does it compare with what previously obtained? Why?\n",
    "\n",
    "(c) write a function that compute the roots of a quadratic equation accurately in all cases"
   ]
  },
  {
   "cell_type": "code",
   "execution_count": null,
   "metadata": {},
   "outputs": [],
   "source": [
    "#Answer"
   ]
  },
  {
   "cell_type": "markdown",
   "metadata": {},
   "source": [
    "6\\. Write a program that implements the function $f(x)=x(x−1)$\n",
    "\n",
    "(a) Calculate the derivative of the function at the point $x = 1$ using the derivative definition:\n",
    "\n",
    "$$\n",
    "\\frac{{\\rm d}f}{{\\rm d}x} = \\lim_{\\delta\\to0} \\frac{f(x+\\delta)-f(x)}{\\delta}\n",
    "$$\n",
    "\n",
    "with $\\delta = 10^{−2}$. Calculate the true value of the same derivative analytically and compare with the answer your program gives. The two will not agree perfectly. Why not?\n",
    "\n",
    "(b) Repeat the calculation for $\\delta = 10^{−4}, 10^{−6}, 10^{−8}, 10^{−10}, 10^{−12}$ and $10^{−14}$. How does the accuracy scales with $\\delta$?"
   ]
  },
  {
   "cell_type": "code",
   "execution_count": null,
   "metadata": {},
   "outputs": [],
   "source": [
    "#Answer"
   ]
  },
  {
   "cell_type": "markdown",
   "metadata": {},
   "source": [
    "7\\. Consider the integral of the semicircle of radius 1:\n",
    "$$\n",
    "I=\\int_{-1}^{1} \\sqrt(1-x^2) {\\rm d}x\n",
    "$$\n",
    "which it's known to be $I=\\frac{\\pi}{2}=1.57079632679...$.\n",
    "Alternatively we can use the Riemann definition of the integral:\n",
    "$$\n",
    "I=\\lim_{N\\to\\infty} \\sum_{k=1}^{N} h y_k \n",
    "$$\n",
    "\n",
    "with $h=2/N$ the width of each of the $N$ slices the domain is divided into and where\n",
    "$y_k$ is the value of the function at the $k-$th slice.\n",
    "\n",
    "(a) Write a programe to compute the integral with $N=100$. How does the result compares to the true value?\n",
    "\n",
    "(b) How much can $N$ be increased if the computation needs to be run in less than a second? What is the gain in running it for 1 minute? \n"
   ]
  },
  {
   "cell_type": "code",
   "execution_count": null,
   "metadata": {},
   "outputs": [],
   "source": [
    "#Answer"
   ]
  }
 ],
 "metadata": {
  "kernelspec": {
   "display_name": "Python 3",
   "language": "python",
   "name": "python3"
  },
  "language_info": {
   "codemirror_mode": {
    "name": "ipython",
    "version": 3
   },
   "file_extension": ".py",
   "mimetype": "text/x-python",
   "name": "python",
   "nbconvert_exporter": "python",
   "pygments_lexer": "ipython3",
   "version": "3.8.3"
  }
 },
 "nbformat": 4,
 "nbformat_minor": 2
}
