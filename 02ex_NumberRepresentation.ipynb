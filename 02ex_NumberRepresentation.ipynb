{
 "cells": [
  {
   "cell_type": "markdown",
   "metadata": {},
   "source": [
    "1\\. Write a function that converts number representation (bin<->dec<->hex)"
   ]
  },
  {
   "cell_type": "code",
   "execution_count": 2,
   "metadata": {},
   "outputs": [
    {
     "name": "stdout",
     "output_type": "stream",
     "text": [
      "convert(number, type of the number, type of the final number)\n",
      "dec: decimal, bin: binary, hex: hexadecimal \n",
      "0b10110\n",
      "35\n",
      "25\n"
     ]
    }
   ],
   "source": [
    "print(\"convert(number, type of the number, type of the final number)\")\n",
    "print(\"dec: decimal, bin: binary, hex: hexadecimal \")\n",
    "\n",
    "\n",
    "def convert(a, start, finish):\n",
    "    b=0\n",
    "    c=0\n",
    "    if start==\"dec\":\n",
    "        if finish==\"bin\":\n",
    "            b=bin(a)\n",
    "        if finish==\"hex\":\n",
    "            b=hex(a)        \n",
    "    if start==\"bin\":\n",
    "        if finish==\"dec\":\n",
    "            b=int(a,2)\n",
    "        if finish==\"hex\":\n",
    "            c=int(a,2)\n",
    "            b=hex(b)\n",
    "    if start==\"hex\":\n",
    "        if finish==\"bin\":\n",
    "            c=int(a,16)\n",
    "            b=bin(a)\n",
    "        if finish==\"dec\":\n",
    "            b=int(a,16) \n",
    "            \n",
    "    return b\n",
    "\n",
    "x=22\n",
    "y=\"0x23\"\n",
    "z=\"0b11001\"\n",
    "\n",
    "print(convert(x,\"dec\",\"bin\"))\n",
    "print(convert(y,\"hex\",\"dec\"))\n",
    "print(convert(z,\"bin\",\"dec\"))"
   ]
  },
  {
   "cell_type": "markdown",
   "metadata": {},
   "source": [
    "2\\. Write a function that converts a 32 bit word into a single precision floating point (i.e. interprets the various bits as sign, mantissa and exponent)"
   ]
  },
  {
   "cell_type": "code",
   "execution_count": 5,
   "metadata": {},
   "outputs": [
    {
     "name": "stdout",
     "output_type": "stream",
     "text": [
      "-99718914899968.0\n"
     ]
    }
   ],
   "source": [
    "def bintofloat(a):\n",
    "    s=a[0]\n",
    "\n",
    "    bias=127\n",
    "    m=1.0\n",
    "    e=0\n",
    "    for i in range(1,9):\n",
    "        e+=int(a[i])*10**(8-i)\n",
    "        exp=int(str(e),2)-bias\n",
    "    for i in range(9,32):\n",
    "        m+= float(a[i])*2**(8-i)\n",
    "    x=(-1)**int(s)*m*2**exp\n",
    "    return x\n",
    "    \n",
    "    \n",
    "    \n",
    "        \n",
    "    \n",
    "    \n",
    "    \n",
    "x=\"11010110101101010110001100111101\"\n",
    "\n",
    "\n",
    "\n",
    "print(bintofloat(x))"
   ]
  },
  {
   "cell_type": "markdown",
   "metadata": {},
   "source": [
    "3\\. Write a program to determine the underflow and overflow limits (within a factor of 2) for python on your computer. \n",
    "\n",
    "**Tips**: define two variables inizialized to 1 and halve/double them enough time to exceed the under/over-flow limits  "
   ]
  },
  {
   "cell_type": "code",
   "execution_count": 13,
   "metadata": {},
   "outputs": [
    {
     "name": "stdout",
     "output_type": "stream",
     "text": [
      "lower limit:  5e-324 \t\t\t number of cycles:  1075\n",
      "upper limit:  8.98846567431158e+307 \t number of cycles:  1024\n"
     ]
    }
   ],
   "source": [
    "import math \n",
    "\n",
    "a=1.0\n",
    "b=1.0\n",
    "\n",
    "i=0\n",
    "j=0\n",
    "\n",
    "ci=0\n",
    "cf=0\n",
    "\n",
    "while b>0:\n",
    "    i=b\n",
    "    b=b/2\n",
    "    ci=ci+1\n",
    "\n",
    "\n",
    "while a<math.inf:\n",
    "    j=a\n",
    "    a=a*2 \n",
    "    cf=cf+1\n",
    "\n",
    "    \n",
    "print(\"lower limit: \", i, \"\\t\\t\\t number of cycles: \", ci)\n",
    "print(\"upper limit: \", j, \"\\t number of cycles: \", cf)\n",
    "\n",
    "\n",
    "\n"
   ]
  },
  {
   "cell_type": "markdown",
   "metadata": {},
   "source": [
    "4\\. Write a program to determine the machine precision\n",
    "\n",
    "**Tips**: define a new variable by adding a smaller and smaller value (proceeding similarly to prob. 2) to an original variable and check the point where the two are the same "
   ]
  },
  {
   "cell_type": "code",
   "execution_count": 18,
   "metadata": {},
   "outputs": [
    {
     "name": "stdout",
     "output_type": "stream",
     "text": [
      "1.000000001\n",
      "1.000000001\n",
      "1.0000000005\n",
      "1.00000000025\n",
      "1.000000000125\n",
      "1.0000000000625\n",
      "1.00000000003125\n",
      "1.000000000015625\n",
      "1.0000000000078124\n",
      "1.0000000000039062\n",
      "1.000000000001953\n",
      "1.0000000000009766\n",
      "1.0000000000004883\n",
      "1.0000000000002442\n",
      "1.0000000000001221\n",
      "1.000000000000061\n",
      "1.0000000000000304\n",
      "1.0000000000000153\n",
      "1.0000000000000075\n",
      "1.0000000000000038\n",
      "1.000000000000002\n",
      "1.0000000000000009\n",
      "1.0000000000000004\n",
      "1.0000000000000002\n",
      "1.0000000000000002\n",
      "\n",
      " 2.9802322387695314e-17\n"
     ]
    }
   ],
   "source": [
    "a=1.0\n",
    "c=0.000000001\n",
    "b=a+c\n",
    "\n",
    "while(a!=b):\n",
    "    print(b)\n",
    "    b=a+c\n",
    "    c=c/2\n",
    "\n",
    "print(\"\\n\",c)"
   ]
  },
  {
   "cell_type": "markdown",
   "metadata": {},
   "source": [
    "5\\. Write a function that takes in input three parameters $a$, $b$ and $c$ and prints out the two solutions to the quadratic equation $ax^2+bx+c=0$ using the standard formula:\n",
    "$$\n",
    "x=\\frac{-b\\pm\\sqrt{b^2-4ac}}{2a}\n",
    "$$\n",
    "\n",
    "(a) use the program to compute the solution for $a=0.001$, $b=1000$ and $c=0.001$\n",
    "\n",
    "(b) re-express the standard solution formula by multiplying top and bottom by $-b\\mp\\sqrt{b^2-4ac}$ and again find the solution for $a=0.001$, $b=1000$ and $c=0.001$. How does it compare with what previously obtained? Why?\n",
    "\n",
    "(c) write a function that compute the roots of a quadratic equation accurately in all cases"
   ]
  },
  {
   "cell_type": "code",
   "execution_count": 10,
   "metadata": {},
   "outputs": [
    {
     "name": "stdout",
     "output_type": "stream",
     "text": [
      "(-9.999894245993346e-07, -999999.999999)\n",
      "(-1.000000000001e-06, -1000010.5755125057)\n",
      "(-1.000000000001e-06, -999999.999999)\n"
     ]
    }
   ],
   "source": [
    "import math as m\n",
    "\n",
    "def eq(a, b, c):\n",
    "    x1=(-b+m.sqrt(b**2-4*a*c))/(2*a)\n",
    "    x2=(-b-m.sqrt(b**2-4*a*c))/(2*a)\n",
    "    return x1, x2\n",
    "\n",
    "a=0.001 \n",
    "b=1000\n",
    "c=0.001\n",
    "\n",
    "print(eq(a,b,c))\n",
    "\n",
    "def eq2(a, b, c):\n",
    "    x1=(2*c)/(-b+m.sqrt(b**2-4*a*c))\n",
    "    x2=(2*c)/(-b-m.sqrt(b**2-4*a*c))\n",
    "    return x2, x1\n",
    "\n",
    "print(eq2(a,b,c))\n",
    "#the problem is that at the donominator there's a difference that is almost zero\n",
    "\n",
    "def eq3(a,b,c):\n",
    "    x2=(-b-m.sqrt(b**2-4*a*c))/(2*a)\n",
    "    x1=(2*c)/(-b-m.sqrt(b**2-4*a*c))\n",
    "    return x1, x2\n",
    "\n",
    "print(eq3(a,b,c))"
   ]
  },
  {
   "cell_type": "markdown",
   "metadata": {},
   "source": [
    "6\\. Write a program that implements the function $f(x)=x(x−1)$\n",
    "\n",
    "(a) Calculate the derivative of the function at the point $x = 1$ using the derivative definition:\n",
    "\n",
    "$$\n",
    "\\frac{{\\rm d}f}{{\\rm d}x} = \\lim_{\\delta\\to0} \\frac{f(x+\\delta)-f(x)}{\\delta}\n",
    "$$\n",
    "\n",
    "with $\\delta = 10^{−2}$. Calculate the true value of the same derivative analytically and compare with the answer your program gives. The two will not agree perfectly. Why not?\n",
    "\n",
    "(b) Repeat the calculation for $\\delta = 10^{−4}, 10^{−6}, 10^{−8}, 10^{−10}, 10^{−12}$ and $10^{−14}$. How does the accuracy scales with $\\delta$?"
   ]
  },
  {
   "cell_type": "code",
   "execution_count": 2,
   "metadata": {},
   "outputs": [
    {
     "name": "stdout",
     "output_type": "stream",
     "text": [
      "real derivative:  1 \n",
      "\n",
      "delta: 10^- 2 \t der: 1.010000000000001 \t accuracy:  0.010000000000000897\n",
      "delta: 10^- 4 \t der: 1.0000999999998899 \t accuracy:  9.999999988985486e-05\n",
      "delta: 10^- 6 \t der: 1.0000009999177333 \t accuracy:  9.99917733279787e-07\n",
      "delta: 10^- 8 \t der: 1.0000000039225287 \t accuracy:  3.922528746258536e-09\n",
      "delta: 10^- 10 \t der: 1.000000082840371 \t accuracy:  8.284037100736441e-08\n",
      "delta: 10^- 12 \t der: 1.0000889005833413 \t accuracy:  8.890058334132256e-05\n",
      "delta: 10^- 14 \t der: 0.9992007221626509 \t accuracy:  0.0007992778373491216\n"
     ]
    }
   ],
   "source": [
    "def f(a):\n",
    "    return a*(a-1)\n",
    "\n",
    "def derf(x,d):\n",
    "    xd=(f(x+d)-f(x))/d\n",
    "    return xd\n",
    "\n",
    "print(\"real derivative: \", 1, \"\\n\")\n",
    "for i in range(2,15,2):\n",
    "    x=derf(1,10**(-i))\n",
    "    print(\"delta: 10^-\",i, \"\\t der:\",x, \"\\t accuracy: \",abs(1-x))\n",
    "    \n"
   ]
  },
  {
   "cell_type": "markdown",
   "metadata": {},
   "source": [
    "7\\. Consider the integral of the semicircle of radius 1:\n",
    "$$\n",
    "I=\\int_{-1}^{1} \\sqrt(1-x^2) {\\rm d}x\n",
    "$$\n",
    "which it's known to be $I=\\frac{\\pi}{2}=1.57079632679...$.\n",
    "Alternatively we can use the Riemann definition of the integral:\n",
    "$$\n",
    "I=\\lim_{N\\to\\infty} \\sum_{k=1}^{N} h y_k \n",
    "$$\n",
    "\n",
    "with $h=2/N$ the width of each of the $N$ slices the domain is divided into and where\n",
    "$y_k$ is the value of the function at the $k-$th slice.\n",
    "\n",
    "(a) Write a programe to compute the integral with $N=100$. How does the result compares to the true value?\n",
    "\n",
    "(b) How much can $N$ be increased if the computation needs to be run in less than a second? What is the gain in running it for 1 minute? \n"
   ]
  },
  {
   "cell_type": "code",
   "execution_count": 9,
   "metadata": {},
   "outputs": [
    {
     "name": "stdout",
     "output_type": "stream",
     "text": [
      "real integral:  1.5707963267948966\n",
      "approx integral:  1.5691342555492505\n",
      "delta:  0.0016620712456461018\n",
      "40.6 µs ± 1.64 µs per loop (mean ± std. dev. of 7 runs, 10000 loops each)\n",
      "1.2 s ± 17 ms per loop (mean ± std. dev. of 7 runs, 1 loop each)\n"
     ]
    }
   ],
   "source": [
    "import math\n",
    "rint=math.pi/2\n",
    "\n",
    "def f(x):\n",
    "    return math.sqrt(1-x*x)\n",
    "\n",
    "\n",
    "def inte(n):\n",
    "    h=2/n\n",
    "    s=0\n",
    "    for i in range(n):\n",
    "        s+=h*f(-1+i*h)\n",
    "    return s\n",
    "\n",
    "n=100\n",
    "integral=inte(n)\n",
    "\n",
    "print(\"real integral: \", rint)\n",
    "print(\"approx integral: \", integral)\n",
    "print(\"delta: \", abs(rint-integral))\n",
    "\n",
    "%timeit inte(n)\n",
    "%timeit inte(3000000)"
   ]
  },
  {
   "cell_type": "code",
   "execution_count": null,
   "metadata": {},
   "outputs": [],
   "source": []
  }
 ],
 "metadata": {
  "kernelspec": {
   "display_name": "Python 3",
   "language": "python",
   "name": "python3"
  },
  "language_info": {
   "codemirror_mode": {
    "name": "ipython",
    "version": 3
   },
   "file_extension": ".py",
   "mimetype": "text/x-python",
   "name": "python",
   "nbconvert_exporter": "python",
   "pygments_lexer": "ipython3",
   "version": "3.6.5"
  }
 },
 "nbformat": 4,
 "nbformat_minor": 2
}
