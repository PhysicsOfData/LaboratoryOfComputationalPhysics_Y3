{
 "cells": [
  {
   "cell_type": "markdown",
   "metadata": {},
   "source": [
    "1\\. Write a function that converts number representation (bin<->dec<->hex)"
   ]
  },
  {
   "cell_type": "code",
   "execution_count": 1,
   "metadata": {},
   "outputs": [
    {
     "name": "stdout",
     "output_type": "stream",
     "text": [
      "binary: 0b1001011 \n",
      "hexadecimal: 0x4b \n",
      "decimal: 75\n"
     ]
    }
   ],
   "source": [
    "def convert(numb):\n",
    "    b = bin(numb)\n",
    "    h = hex(numb)\n",
    "    d = int(b,2)\n",
    "    return print('binary:',b,'\\nhexadecimal:',h,'\\ndecimal:',d)\n",
    "\n",
    "convert(75)"
   ]
  },
  {
   "cell_type": "markdown",
   "metadata": {},
   "source": [
    "2\\. Write a function that converts a 32 bit word into a single precision floating point (i.e. interprets the various bits as sign, mantissa and exponent)"
   ]
  },
  {
   "cell_type": "code",
   "execution_count": 2,
   "metadata": {},
   "outputs": [
    {
     "name": "stdout",
     "output_type": "stream",
     "text": [
      "+ 1.875 x 2^( -124 )\n"
     ]
    }
   ],
   "source": [
    "def bitfloat(word):\n",
    "    m = 1\n",
    "    list = [p for p in word]\n",
    "    stri = [str(i) for i in list[1:9]]\n",
    "    st = \"\".join(stri)\n",
    "    e = int('0b'+ st,2)\n",
    "    for r in range(1,24):\n",
    "        if list[r+8]=='1' : m += 2**-r\n",
    "    if list[0] == '0': return print('+', m, 'x 2^(',e-127,')')\n",
    "    else: return print('-', m, 'x 2^(', e-127, ')')\n",
    "\n",
    "bitfloat('00000001111100000000000000000000')"
   ]
  },
  {
   "cell_type": "markdown",
   "metadata": {},
   "source": [
    "3\\. Write a program to determine the underflow and overflow limits (within a factor of 2) for python on your computer. \n",
    "\n",
    "**Tips**: define two variables inizialized to 1 and halve/double them enough time to exceed the under/over-flow limits  "
   ]
  },
  {
   "cell_type": "code",
   "execution_count": 3,
   "metadata": {},
   "outputs": [
    {
     "name": "stdout",
     "output_type": "stream",
     "text": [
      "Overflow: 8.98846567431158e+307 1023 \n",
      "Underflow: 5e-324 1074\n"
     ]
    }
   ],
   "source": [
    "import numpy as np\n",
    "import sys\n",
    "up,do,i,j = 1,1,0,0\n",
    "\n",
    "while up*2. != float('inf'):\n",
    "    up *= 2.\n",
    "    i +=1\n",
    "while do/2. != 0:\n",
    "    do /= 2.\n",
    "    j +=1\n",
    "    \n",
    "print('Overflow:', up,i,'\\nUnderflow:',do,j)"
   ]
  },
  {
   "cell_type": "markdown",
   "metadata": {},
   "source": [
    "4\\. Write a program to determine the machine precision\n",
    "\n",
    "**Tips**: define a new variable by adding a smaller and smaller value (proceeding similarly to prob. 2) to an original variable and check the point where the two are the same "
   ]
  },
  {
   "cell_type": "code",
   "execution_count": 4,
   "metadata": {},
   "outputs": [
    {
     "name": "stdout",
     "output_type": "stream",
     "text": [
      "2.1\n",
      "2.01\n",
      "2.001\n",
      "2.0001\n",
      "2.00001\n",
      "2.000001\n",
      "2.0000001\n",
      "2.00000001\n",
      "2.000000001\n",
      "2.0000000001\n",
      "2.00000000001\n",
      "2.000000000001\n",
      "2.0000000000001\n",
      "2.00000000000001\n",
      "2.000000000000001\n",
      "2.0\n",
      "the machine precision is: 0.00000000000000100000\n"
     ]
    }
   ],
   "source": [
    "z,i=1,1\n",
    "while z!=2 :\n",
    "    i*=(10**-1)\n",
    "    z = 2 + i\n",
    "    print(z)\n",
    "print('the machine precision is:', format(i*10, '.20f'))"
   ]
  },
  {
   "cell_type": "markdown",
   "metadata": {},
   "source": [
    "5\\. Write a function that takes in input three parameters $a$, $b$ and $c$ and prints out the two solutions to the quadratic equation $ax^2+bx+c=0$ using the standard formula:\n",
    "$$\n",
    "x=\\frac{-b\\pm\\sqrt{b^2-4ac}}{2a}\n",
    "$$\n",
    "\n",
    "(a) use the program to compute the solution for $a=0.001$, $b=1000$ and $c=0.001$\n",
    "\n",
    "(b) re-express the standard solution formula by multiplying top and bottom by $-b\\mp\\sqrt{b^2-4ac}$ and again find the solution for $a=0.001$, $b=1000$ and $c=0.001$. How does it compare with what previously obtained? Why?\n",
    "\n",
    "(c) write a function that compute the roots of a quadratic equation accurately in all cases"
   ]
  },
  {
   "cell_type": "code",
   "execution_count": 5,
   "metadata": {},
   "outputs": [
    {
     "name": "stdout",
     "output_type": "stream",
     "text": [
      "-9.999894245993346e-07 -999999.999999\n",
      "-9.999894245993346e-07 -999999.9999990001\n",
      "-0.0000009999894245993346 -999999.999999000\n"
     ]
    }
   ],
   "source": [
    "def solve1(a,b,c):\n",
    "    x1,x2 = (-b + (b**2-4*a*c)**(1/2))/(2*a), (-b - (b**2-4*a*c)**(1/2))/(2*a)\n",
    "    return print(x1,x2)\n",
    "solve1(0.001,1000,0.001)\n",
    "\n",
    "def solve2(a,b,c):\n",
    "    x1,x2 = ((-b + (b**2-4*a*c)**(1/2))*(-b - (b**2-4*a*c)**(1/2)))/((2*a)*(-b - (b**2-4*a*c)**(1/2))), ((-b - (b**2-4*a*c)**(1/2))*(-b + (b**2-4*a*c)**(1/2)))/((2*a)*(-b + (b**2-4*a*c)**(1/2)))\n",
    "    return print(x1,x2)\n",
    "solve2(0.001,1000,0.001)\n",
    "\n",
    "#optimized method\n",
    "def solve3(a,b,c):\n",
    "    x1,x2 = (-b + (b**2-4*a*c)**(1/2))/(2*a), (-b - (b**2-4*a*c)**(1/2))/(2*a)\n",
    "    return print(format(x1,'.22f'),format(x2,'.9f'))\n",
    "solve3(0.001,1000,0.001)"
   ]
  },
  {
   "cell_type": "markdown",
   "metadata": {},
   "source": [
    "6\\. Write a program that implements the function $f(x)=x(x−1)$\n",
    "\n",
    "(a) Calculate the derivative of the function at the point $x = 1$ using the derivative definition:\n",
    "\n",
    "$$\n",
    "\\frac{{\\rm d}f}{{\\rm d}x} = \\lim_{\\delta\\to0} \\frac{f(x+\\delta)-f(x)}{\\delta}\n",
    "$$\n",
    "\n",
    "with $\\delta = 10^{−2}$. Calculate the true value of the same derivative analytically and compare with the answer your program gives. The two will not agree perfectly. Why not?\n",
    "\n",
    "(b) Repeat the calculation for $\\delta = 10^{−4}, 10^{−6}, 10^{−8}, 10^{−10}, 10^{−12}$ and $10^{−14}$. How does the accuracy scales with $\\delta$?"
   ]
  },
  {
   "cell_type": "code",
   "execution_count": 6,
   "metadata": {},
   "outputs": [
    {
     "name": "stdout",
     "output_type": "stream",
     "text": [
      "1.010000000000001\n",
      "1.0000999999998899\n",
      "1.0000009999177333\n",
      "1.0000000039225287\n",
      "1.000000082840371\n",
      "1.0000889005833413\n",
      "0.9992007221626509\n"
     ]
    }
   ],
   "source": [
    "def f(x):\n",
    "    return x*(x-1)\n",
    "def df(x,d):\n",
    "    return (f(x+d)-f(x))/(d)\n",
    "\n",
    "for i in [10**(-2),10**(-4),10**(-6),10**(-8),10**(-10),10**(-12),10**(-14)]: print(df(1,i))"
   ]
  },
  {
   "cell_type": "markdown",
   "metadata": {},
   "source": [
    "7\\. Consider the integral of the semicircle of radius 1:\n",
    "$$\n",
    "I=\\int_{-1}^{1} \\sqrt(1-x^2) {\\rm d}x\n",
    "$$\n",
    "which it's known to be $I=\\frac{\\pi}{2}=1.57079632679...$.\n",
    "Alternatively we can use the Riemann definition of the integral:\n",
    "$$\n",
    "I=\\lim_{N\\to\\infty} \\sum_{k=1}^{N} h y_k \n",
    "$$\n",
    "\n",
    "with $h=2/N$ the width of each of the $N$ slices the domain is divided into and where\n",
    "$y_k$ is the value of the function at the $k-$th slice.\n",
    "\n",
    "(a) Write a programe to compute the integral with $N=100$. How does the result compares to the true value?\n",
    "\n",
    "(b) How much can $N$ be increased if the computation needs to be run in less than a second? What is the gain in running it for 1 minute? \n"
   ]
  },
  {
   "cell_type": "code",
   "execution_count": 7,
   "metadata": {},
   "outputs": [
    {
     "name": "stdout",
     "output_type": "stream",
     "text": [
      "1.5602085158895225\n",
      "1.57079541719438\n",
      "--- 0.6870565414428711 seconds ---\n",
      "1.570796311409235\n",
      "--- 41.42505931854248 seconds ---\n"
     ]
    }
   ],
   "source": [
    "import math as m\n",
    "import time\n",
    "\n",
    "def y(x):\n",
    "    return m.sqrt(1-x**2)\n",
    "def I(N):\n",
    "    s = 0\n",
    "    for k in range(1,N+1): s += y(k*1/N)\n",
    "    return s*(2/N)\n",
    "\n",
    "print(I(100))\n",
    "\n",
    "#computation more or less a second N = 1 100 000\n",
    "start_time = time.time()\n",
    "print(I(1100000))\n",
    "print(\"--- %s seconds ---\" % (time.time() - start_time))\n",
    "\n",
    "#computation running for one minute (more or less)\n",
    "start_time = time.time()\n",
    "print(I(65000000))\n",
    "print(\"--- %s seconds ---\" % (time.time() - start_time))"
   ]
  }
 ],
 "metadata": {
  "kernelspec": {
   "display_name": "Python 3",
   "language": "python",
   "name": "python3"
  },
  "language_info": {
   "codemirror_mode": {
    "name": "ipython",
    "version": 3
   },
   "file_extension": ".py",
   "mimetype": "text/x-python",
   "name": "python",
   "nbconvert_exporter": "python",
   "pygments_lexer": "ipython3",
   "version": "3.8.3"
  }
 },
 "nbformat": 4,
 "nbformat_minor": 2
}
