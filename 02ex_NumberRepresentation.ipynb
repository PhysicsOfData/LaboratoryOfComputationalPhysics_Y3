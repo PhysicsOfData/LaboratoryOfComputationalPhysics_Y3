{
 "cells": [
  {
   "cell_type": "markdown",
   "metadata": {},
   "source": [
    "1\\. Write a function that converts number representation (bin<->dec<->hex)"
   ]
  },
  {
   "cell_type": "code",
   "execution_count": 10,
   "metadata": {},
   "outputs": [
    {
     "name": "stdout",
     "output_type": "stream",
     "text": [
      "2\n",
      "0b10\n",
      "0x2\n"
     ]
    }
   ],
   "source": [
    "def change_base(x, old_base, new_base):\n",
    "    \n",
    "    x = int(str(x), old_base)\n",
    "    \n",
    "    if new_base == 10:\n",
    "        return x\n",
    "        \n",
    "    if new_base == 2:\n",
    "        return bin(x)\n",
    "\n",
    "    if new_base == 16:\n",
    "        return hex(x)\n",
    "\n",
    "print(change_base(2,10,10))\n",
    "print(change_base(2,10,2))\n",
    "print(change_base(2,10,16))"
   ]
  },
  {
   "cell_type": "markdown",
   "metadata": {},
   "source": [
    "2\\. Write a function that converts a 32 bit word into a single precision floating point (i.e. interprets the various bits as sign, mantissa and exponent)"
   ]
  },
  {
   "cell_type": "code",
   "execution_count": 11,
   "metadata": {},
   "outputs": [
    {
     "name": "stdout",
     "output_type": "stream",
     "text": [
      "-3.0316488252093987e-13\n"
     ]
    }
   ],
   "source": [
    "def word_to_float(word):\n",
    "    bits = list(word)\n",
    "    bits.reverse()\n",
    "    \n",
    "    f_bits = [int(i) for i in bits[0:23]]\n",
    "    f = sum([ f_bits[len(f_bits)-1-i]*(2**(-i-1)) for i in range(len(f_bits))])\n",
    "\n",
    "    e_bits = [int(i) for i in bits[23:31]] \n",
    "    e = sum([e_bits[i]*(2**i) for i in range(len(e_bits))])   \n",
    "\n",
    "    sign = int(bits[31]) \n",
    "    value = ((-1)**sign) * (1 + f) * (2**(e - 127))\n",
    "\n",
    "    return value\n",
    "    \n",
    "b = \"10101010101010101010101010101010\"\n",
    "print(word_to_float(b))"
   ]
  },
  {
   "cell_type": "markdown",
   "metadata": {},
   "source": [
    "3\\. Write a program to determine the underflow and overflow limits (within a factor of 2) for python on your computer. \n",
    "\n",
    "**Tips**: define two variables inizialized to 1 and halve/double them enough time to exceed the under/over-flow limits  word_to_float"
   ]
  },
  {
   "cell_type": "code",
   "execution_count": 12,
   "metadata": {},
   "outputs": [
    {
     "name": "stdout",
     "output_type": "stream",
     "text": [
      "min: 5e-324\n",
      "max: 8.98846567431158e+307\n"
     ]
    }
   ],
   "source": [
    "import math\n",
    "\n",
    "x = 1.\n",
    "while(x/2 > 0):\n",
    "    x = x/2\n",
    "\n",
    "print(\"min: \" + str(x)) \n",
    "\n",
    "x = 1.\n",
    "while(x*2 < math.inf):\n",
    "    x = x*2\n",
    "\n",
    "print(\"max: \" + str(x))"
   ]
  },
  {
   "cell_type": "markdown",
   "metadata": {},
   "source": [
    "4\\. Write a program to determine the machine precision\n",
    "\n",
    "**Tips**: define a new variable by adding a smaller and smaller value (proceeding similarly to prob. 2) to an original variable and check the point where the two are the same "
   ]
  },
  {
   "cell_type": "code",
   "execution_count": 13,
   "metadata": {},
   "outputs": [
    {
     "name": "stdout",
     "output_type": "stream",
     "text": [
      "min number: 1.1102230246251565e-16\n"
     ]
    }
   ],
   "source": [
    "x = 1\n",
    "y = 2 \n",
    "\n",
    "delta = 1\n",
    "while(x != y):\n",
    "    y = x + delta\n",
    "    delta /= 2\n",
    "    \n",
    "print(\"min number: \" + str(delta*2))"
   ]
  },
  {
   "cell_type": "markdown",
   "metadata": {},
   "source": [
    "5\\. Write a function that takes in input three parameters $a$, $b$ and $c$ and prints out the two solutions to the quadratic equation $ax^2+bx+c=0$ using the standard formula:\n",
    "$$\n",
    "x=\\frac{-b\\pm\\sqrt{b^2-4ac}}{2a}\n",
    "$$\n",
    "\n",
    "(a) use the program to compute the solution for $a=0.001$, $b=1000$ and $c=0.001$\n",
    "\n",
    "(b) re-express the standard solution formula by multiplying top and bottom by $-b\\mp\\sqrt{b^2-4ac}$ and again find the solution for $a=0.001$, $b=1000$ and $c=0.001$. How does it compare with what previously obtained? Why?\n",
    "\n",
    "(c) write a function that compute the roots of a quadratic equation accurately in all cases"
   ]
  },
  {
   "cell_type": "code",
   "execution_count": 14,
   "metadata": {},
   "outputs": [
    {
     "name": "stdout",
     "output_type": "stream",
     "text": [
      "[-9.999894245993346e-07, -999999.999999]\n",
      "[-9.999894245993346e-07, -999999.9999990001]\n",
      "The solutions are very similar but both are wrong\n",
      "[-1.00000761449337e-06, -999999.999999]\n"
     ]
    }
   ],
   "source": [
    "a = 0.001\n",
    "b = 1000\n",
    "c = 0.001\n",
    "\n",
    "def roots_a(a, b, c):\n",
    "    sqrt = (b**2 - 4*a*c)**(1/2)\n",
    "    x1 = (-b + sqrt)/(2*a)\n",
    "    x2 = (-b - sqrt)/(2*a)\n",
    "    return [x1, x2]\n",
    "\n",
    "sol_a = roots_a(a, b, c)  \n",
    "print(sol_a)\n",
    "\n",
    "def roots_b(a, b, c):\n",
    "    sqrt = (b**2 - 4*a*c)**(1/2)\n",
    "    x1 = (-b + sqrt)*(-b - sqrt)/(2*a*(-b - sqrt)) \n",
    "    x2 = (-b - sqrt)*(-b + sqrt)/(2*a*(-b + sqrt))\n",
    "    return [x1, x2]\n",
    "\n",
    "sol_b = roots_b(a, b, c)\n",
    "print(sol_b)\n",
    "\n",
    "print(\"The solutions are very similar but both are wrong\")\n",
    "\n",
    "def roots(a, b, c):\n",
    "    sqrt = (b**2 - 4*a*c)**(1/2)\n",
    "    x1 = -b/(2*a) + sqrt/(2*a) \n",
    "    x2 = -b/(2*a) - sqrt/(2*a)\n",
    "    return [x1, x2]\n",
    "\n",
    "sol = roots(a, b, c)\n",
    "print(sol)"
   ]
  },
  {
   "cell_type": "markdown",
   "metadata": {},
   "source": [
    "6\\. Write a program that implements the function $f(x)=x(x−1)$\n",
    "\n",
    "(a) Calculate the derivative of the function at the point $x = 1$ using the derivative definition:\n",
    "\n",
    "$$\n",
    "\\frac{{\\rm d}f}{{\\rm d}x} = \\lim_{\\delta\\to0} \\frac{f(x+\\delta)-f(x)}{\\delta}\n",
    "$$\n",
    "\n",
    "with $\\delta = 10^{−2}$. Calculate the true value of the same derivative analytically and compare with the answer your program gives. The two will not agree perfectly. Why not?\n",
    "\n",
    "(b) Repeat the calculation for $\\delta = 10^{−4}, 10^{−6}, 10^{−8}, 10^{−10}, 10^{−12}$ and $10^{−14}$. How does the accuracy scales with $\\delta$?"
   ]
  },
  {
   "cell_type": "code",
   "execution_count": 15,
   "metadata": {},
   "outputs": [
    {
     "name": "stdout",
     "output_type": "stream",
     "text": [
      "[1.010000000000001, 1.0000999999998899, 1.0000009999177333, 1.0000000039225287, 1.000000082840371, 1.0000889005833413, 0.9992007221626509]\n"
     ]
    }
   ],
   "source": [
    "def f(x):\n",
    "    return x*(x-1)\n",
    "\n",
    "def derivative(f, x, delta):\n",
    "    return (f(x + delta) - f(x))/delta\n",
    "\n",
    "deltas = [10**i for i in [-2,-4,-6,-8,-10,-12,-14]]\n",
    "fx_1 = [derivative(f, 1, delta) for delta in deltas]\n",
    "\n",
    "print(fx_1)"
   ]
  },
  {
   "cell_type": "markdown",
   "metadata": {},
   "source": [
    "```We notice that when delta decreases the accuracy increases, up to a certain point```\n"
   ]
  },
  {
   "cell_type": "markdown",
   "metadata": {},
   "source": [
    "7\\. Consider the integral of the semicircle of radius 1:\n",
    "$$\n",
    "I=\\int_{-1}^{1} \\sqrt(1-x^2) {\\rm d}x\n",
    "$$\n",
    "which it's known to be $I=\\frac{\\pi}{2}=1.57079632679...$.\n",
    "Alternatively we can use the Riemann definition of the integral:\n",
    "$$\n",
    "I=\\lim_{N\\to\\infty} \\sum_{k=1}^{N} h y_k \n",
    "$$\n",
    "\n",
    "with $h=2/N$ the width of each of the $N$ slices the domain is divided into and where\n",
    "$y_k$ is the value of the function at the $k-$th slice.\n",
    "\n",
    "(a) Write a programe to compute the integral with $N=100$. How does the result compares to the true value?\n",
    "\n",
    "(b) How much can $N$ be increased if the computation needs to be run in less than a second? What is the gain in running it for 1 minute? \n"
   ]
  },
  {
   "cell_type": "code",
   "execution_count": null,
   "metadata": {},
   "outputs": [
    {
     "name": "stdout",
     "output_type": "stream",
     "text": [
      "Integral: 1.5602085158895234, \n",
      "True value: 1.5707963267948966\n"
     ]
    }
   ],
   "source": [
    "import math\n",
    "\n",
    "def I(N):\n",
    "    h = 2/N\n",
    "    value = 0\n",
    "    \n",
    "    for i in range (1, N):\n",
    "        value += h*(math.sqrt(1-((i/(N))**2)))\n",
    "    \n",
    "    return value\n",
    "\n",
    "integral = I(100)\n",
    "print(\"Integral: {}, \\nTrue value: {}\" .format(integral,math.pi/2))\n",
    "\n",
    "%timeit I(100)"
   ]
  },
  {
   "cell_type": "code",
   "execution_count": null,
   "metadata": {},
   "outputs": [],
   "source": []
  }
 ],
 "metadata": {
  "kernelspec": {
   "display_name": "Python 3",
   "language": "python",
   "name": "python3"
  },
  "language_info": {
   "codemirror_mode": {
    "name": "ipython",
    "version": 3
   },
   "file_extension": ".py",
   "mimetype": "text/x-python",
   "name": "python",
   "nbconvert_exporter": "python",
   "pygments_lexer": "ipython3",
   "version": "3.8.5"
  }
 },
 "nbformat": 4,
 "nbformat_minor": 4
}
