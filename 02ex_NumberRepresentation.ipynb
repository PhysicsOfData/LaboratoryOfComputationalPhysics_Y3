{
 "cells": [
  {
   "cell_type": "markdown",
   "metadata": {},
   "source": [
    "1\\. Write a function that converts number representation (bin<->dec<->hex)"
   ]
  },
  {
   "cell_type": "code",
   "execution_count": 1,
   "metadata": {},
   "outputs": [
    {
     "name": "stdout",
     "output_type": "stream",
     "text": [
      "15 0b1111 0xf\n"
     ]
    }
   ],
   "source": [
    "def conversion(num):\n",
    "    decimal=int(num)\n",
    "    binario=bin(num)\n",
    "    hexadecimal=hex(num)\n",
    "    print(decimal,binario,hexadecimal)\n",
    "    \n",
    "n=0xf\n",
    "conversion(n)"
   ]
  },
  {
   "cell_type": "markdown",
   "metadata": {},
   "source": [
    "2\\. Write a function that converts a 32 bit word into a single precision floating point (i.e. interprets the various bits as sign, mantissa and exponent)"
   ]
  },
  {
   "cell_type": "code",
   "execution_count": 2,
   "metadata": {},
   "outputs": [
    {
     "name": "stdout",
     "output_type": "stream",
     "text": [
      "7.0157470703125\n"
     ]
    }
   ],
   "source": [
    "word=\"11000000111000001000000100000000\"\n",
    "def convert(word):\n",
    "    number=[x for x in word]\n",
    "    num=0\n",
    "    f=1\n",
    "    e=0\n",
    "    for i in range(9,32):\n",
    "        m=float(number[i])\n",
    "        f=f+pow(2,8-i)*m\n",
    "        \n",
    "    for i in range (1,9):\n",
    "        m=float(number[i])\n",
    "        e=e+pow(2,8-i)*m\n",
    "        \n",
    "    num=f*pow(2,e-127)\n",
    "    if number[0]==1: num=num*-1\n",
    "    return num\n",
    "print(convert(word))"
   ]
  },
  {
   "cell_type": "markdown",
   "metadata": {},
   "source": [
    "3\\. Write a program to determine the underflow and overflow limits (within a factor of 2) for python on your computer. \n",
    "\n",
    "**Tips**: define two variables inizialized to 1 and halve/double them enough time to exceed the under/over-flow limits  "
   ]
  },
  {
   "cell_type": "code",
   "execution_count": 3,
   "metadata": {},
   "outputs": [
    {
     "name": "stdout",
     "output_type": "stream",
     "text": [
      "8.98846567431158e+307 inf\n"
     ]
    }
   ],
   "source": [
    "#overflow\n",
    "a=1.\n",
    "b=2.\n",
    "while a*2.!=b*2.:\n",
    "    a=a*2.\n",
    "    b=b*2.\n",
    "    \n",
    "print(a,b)"
   ]
  },
  {
   "cell_type": "code",
   "execution_count": 4,
   "metadata": {},
   "outputs": [
    {
     "name": "stdout",
     "output_type": "stream",
     "text": [
      "0.0 5e-324\n"
     ]
    }
   ],
   "source": [
    "#underflow\n",
    "a=1.\n",
    "b=2.\n",
    "while a/2.!=b/2.:\n",
    "    a=a/2.\n",
    "    b=b/2.\n",
    "    \n",
    "print(a,b)"
   ]
  },
  {
   "cell_type": "markdown",
   "metadata": {},
   "source": [
    "4\\. Write a program to determine the machine precision\n",
    "\n",
    "**Tips**: define a new variable by adding a smaller and smaller value (proceeding similarly to prob. 2) to an original variable and check the point where the two are the same "
   ]
  },
  {
   "cell_type": "code",
   "execution_count": 5,
   "metadata": {},
   "outputs": [
    {
     "name": "stdout",
     "output_type": "stream",
     "text": [
      "1.1111111111111112 1.1111111111111112\n"
     ]
    }
   ],
   "source": [
    "var1=1\n",
    "var2=1.1\n",
    "i=1\n",
    "while var2!=var1:\n",
    "    var1=var1+10**(-i)\n",
    "    var2=var2+10**(-i-1)\n",
    "    i+=1\n",
    "print(var1,var2)"
   ]
  },
  {
   "cell_type": "markdown",
   "metadata": {},
   "source": [
    "5\\. Write a function that takes in input three parameters $a$, $b$ and $c$ and prints out the two solutions to the quadratic equation $ax^2+bx+c=0$ using the standard formula:\n",
    "$$\n",
    "x=\\frac{-b\\pm\\sqrt{b^2-4ac}}{2a}\n",
    "$$\n",
    "\n",
    "(a) use the program to compute the solution for $a=0.001$, $b=1000$ and $c=0.001$\n",
    "\n",
    "(b) re-express the standard solution formula by multiplying top and bottom by $-b\\mp\\sqrt{b^2-4ac}$ and again find the solution for $a=0.001$, $b=1000$ and $c=0.001$. How does it compare with what previously obtained? Why?\n",
    "\n",
    "(c) write a function that compute the roots of a quadratic equation accurately in all cases"
   ]
  },
  {
   "cell_type": "code",
   "execution_count": 6,
   "metadata": {},
   "outputs": [],
   "source": [
    "import math as m\n",
    "a=0.001\n",
    "b=1000\n",
    "c=0.001"
   ]
  },
  {
   "cell_type": "code",
   "execution_count": 7,
   "metadata": {},
   "outputs": [
    {
     "name": "stdout",
     "output_type": "stream",
     "text": [
      "x1= -9.999894245993346e-07 x2= -999999.999999\n",
      "Due to the round of error x1 is wrong\n"
     ]
    }
   ],
   "source": [
    "#a\n",
    "\n",
    "def quadratic_a(a,b,c):\n",
    "    r_delta=m.sqrt(b**2 - 4*a*c)\n",
    "    return ((-b + r_delta)/(2*a), (-b -r_delta)/(2*a))\n",
    "\n",
    "x1,x2=quadratic_a(a,b,c)\n",
    "print('x1=',x1,'x2=',x2)\n",
    "print('Due to the round of error x1 is wrong')"
   ]
  },
  {
   "cell_type": "code",
   "execution_count": 8,
   "metadata": {},
   "outputs": [
    {
     "name": "stdout",
     "output_type": "stream",
     "text": [
      "x1= -1.000000000001e-06 x2= -1000010.5755125057\n",
      "By multiplying the quadratic formula by the factor we resolve the problem for the first solution but now the second one is wrong .\n"
     ]
    }
   ],
   "source": [
    "#b\n",
    "\n",
    "#factor=−b∓sqrt(b2−4ac)\n",
    "def quadratic_b(a,b,c):\n",
    "    r_delta=m.sqrt(b**2 - 4*a*c)\n",
    "    return (2*c/(-b - r_delta),2*c/(-b+r_delta))\n",
    "\n",
    "x1,x2=quadratic_b(a,b,c)\n",
    "print('x1=',x1,'x2=',x2)\n",
    "print('By multiplying the quadratic formula by the factor we resolve the problem for the first solution but now the second one is wrong .')"
   ]
  },
  {
   "cell_type": "code",
   "execution_count": 9,
   "metadata": {},
   "outputs": [
    {
     "name": "stdout",
     "output_type": "stream",
     "text": [
      "In order to compute exactly x1 and x2 we do have to calculate x1 using the second formula and x2 using the standard  formula.\n",
      "x1= -1.000000000001e-06 x2= -999999.999999\n"
     ]
    }
   ],
   "source": [
    "#c\n",
    "\n",
    "def quadratic_b(a,b,c):\n",
    "    r_delta=m.sqrt(b**2 - 4*a*c)\n",
    "    return (2*c/(-b - r_delta),(-b -r_delta)/(2*a))\n",
    "\n",
    "x1,x2=quadratic_b(a,b,c)\n",
    "print('In order to compute exactly x1 and x2 we do have to calculate x1 using the second formula and x2 using the standard  formula.')\n",
    "print('x1=',x1,'x2=',x2)"
   ]
  },
  {
   "cell_type": "markdown",
   "metadata": {},
   "source": [
    "6\\. Write a program that implements the function $f(x)=x(x−1)$\n",
    "\n",
    "(a) Calculate the derivative of the function at the point $x = 1$ using the derivative definition:\n",
    "\n",
    "$$\n",
    "\\frac{{\\rm d}f}{{\\rm d}x} = \\lim_{\\delta\\to0} \\frac{f(x+\\delta)-f(x)}{\\delta}\n",
    "$$\n",
    "\n",
    "with $\\delta = 10^{−2}$. Calculate the true value of the same derivative analytically and compare with the answer your program gives. The two will not agree perfectly. Why not?\n",
    "\n",
    "(b) Repeat the calculation for $\\delta = 10^{−4}, 10^{−6}, 10^{−8}, 10^{−10}, 10^{−12}$ and $10^{−14}$. How does the accuracy scales with $\\delta$?"
   ]
  },
  {
   "cell_type": "code",
   "execution_count": 10,
   "metadata": {},
   "outputs": [
    {
     "name": "stdout",
     "output_type": "stream",
     "text": [
      "derivative: 1.010000000000001 accurancy: 0.010000000000000897\n",
      "derivative: 1.0000999999998899 accurancy: 9.999999988985486e-05\n",
      "derivative: 1.0000009999177333 accurancy: 9.99917733279787e-07\n",
      "derivative: 1.0000000039225287 accurancy: 3.922528746258536e-09\n",
      "derivative: 1.000000082840371 accurancy: 8.284037100736441e-08\n",
      "derivative: 1.0000889005833413 accurancy: 8.890058334132256e-05\n"
     ]
    }
   ],
   "source": [
    "f=0\n",
    "d=0\n",
    "der=[]\n",
    "for i in range (1,7):\n",
    "    d=((1+m.pow(10,-2*i))*(1+m.pow(10,-2*i)-1))/m.pow(10,-2*i)\n",
    "    der.append(d-1)\n",
    "    print('derivative:',d,'accurancy:',der[i-1])"
   ]
  },
  {
   "cell_type": "markdown",
   "metadata": {},
   "source": [
    "7\\. Consider the integral of the semicircle of radius 1:\n",
    "$$\n",
    "I=\\int_{-1}^{1} \\sqrt(1-x^2) {\\rm d}x\n",
    "$$\n",
    "which it's known to be $I=\\frac{\\pi}{2}=1.57079632679...$.\n",
    "Alternatively we can use the Riemann definition of the integral:\n",
    "$$\n",
    "I=\\lim_{N\\to\\infty} \\sum_{k=1}^{N} h y_k \n",
    "$$\n",
    "\n",
    "with $h=2/N$ the width of each of the $N$ slices the domain is divided into and where\n",
    "$y_k$ is the value of the function at the $k-$th slice.\n",
    "\n",
    "(a) Write a programe to compute the integral with $N=100$. How does the result compares to the true value?\n",
    "\n",
    "(b) How much can $N$ be increased if the computation needs to be run in less than a second? What is the gain in running it for 1 minute? \n"
   ]
  },
  {
   "cell_type": "code",
   "execution_count": 11,
   "metadata": {},
   "outputs": [
    {
     "name": "stdout",
     "output_type": "stream",
     "text": [
      "n: 1\n",
      "value: 2.0 time: 1.1862000000029127e-05 s\n",
      "n: 10\n",
      "value: 1.5859939118065425 time: 2.3042999999667302e-05 s\n",
      "n: 100\n",
      "value: 1.5712827762297958 time: 0.0001467130000003536 s\n",
      "n: 1000\n",
      "value: 1.5708117284099565 time: 0.001492650999999512 s\n",
      "n: 10000\n",
      "value: 1.5707968138960278 time: 0.010871124999999537 s\n",
      "n: 100000\n",
      "value: 1.5707963421985764 time: 0.08924531400000024 s\n",
      "n: 1000000\n",
      "value: 1.5707963272820444 time: 0.9468609700000012 s\n",
      "n: 10000000\n",
      "value: 1.5707963268100595 time: 8.364057519000001 s\n",
      "n: 100000000\n",
      "value: 1.5707963267955445 time: 87.72194168499999 s\n"
     ]
    }
   ],
   "source": [
    "import math as m\n",
    "from timeit import default_timer as timer\n",
    "n=[10**i for i in range(0,9)]\n",
    "for j in range (0,9):#n=100000000\n",
    "    x=[-1+i*2/n[j] for i in range (0,n[j])]\n",
    "    sum=0\n",
    "    print('n:',n[j])\n",
    "    start=timer()\n",
    "    for k in x:\n",
    "        sum=sum+m.sqrt(1-m.pow(k+(1/n[j]),2))*2/n[j]\n",
    "    end=timer()\n",
    "    print('value:',sum,'time:', end-start,'s')"
   ]
  },
  {
   "cell_type": "code",
   "execution_count": 12,
   "metadata": {},
   "outputs": [
    {
     "name": "stdout",
     "output_type": "stream",
     "text": [
      "The result obtained using N=100 does not compare well with the true value.\n",
      "Running the program for one minute don't result in a great gain with respect to the value obtanined runnin the program for 0.95 s.\n"
     ]
    }
   ],
   "source": [
    "print('The result obtained using N=100 does not compare well with the true value.')\n",
    "print('Running the program for one minute don\\'t result in a great gain with respect to the value obtanined runnin the program for 0.95 s.')"
   ]
  },
  {
   "cell_type": "code",
   "execution_count": null,
   "metadata": {},
   "outputs": [],
   "source": []
  }
 ],
 "metadata": {
  "kernelspec": {
   "display_name": "Python 3",
   "language": "python",
   "name": "python3"
  },
  "language_info": {
   "codemirror_mode": {
    "name": "ipython",
    "version": 3
   },
   "file_extension": ".py",
   "mimetype": "text/x-python",
   "name": "python",
   "nbconvert_exporter": "python",
   "pygments_lexer": "ipython3",
   "version": "3.7.4"
  }
 },
 "nbformat": 4,
 "nbformat_minor": 2
}
