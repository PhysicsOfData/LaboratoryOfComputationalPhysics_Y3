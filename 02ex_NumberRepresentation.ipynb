{
 "cells": [
  {
   "cell_type": "markdown",
   "metadata": {},
   "source": [
    "1\\. Write a function that converts number representation (bin<->dec<->hex)"
   ]
  },
  {
   "cell_type": "code",
   "execution_count": 15,
   "metadata": {},
   "outputs": [
    {
     "name": "stdout",
     "output_type": "stream",
     "text": [
      "0x37\n",
      "0b110111\n",
      "55\n"
     ]
    }
   ],
   "source": [
    "def changeType(num, newType):\n",
    "    if newType == 'hex': return hex(num)\n",
    "    elif newType == 'bin': return bin(num)\n",
    "    elif newType == 'dec':  return int(bin(num),2)\n",
    "    \n",
    "print(changeType(55, 'hex'))\n",
    "print(changeType(55, 'bin'))\n",
    "print(changeType(55, 'dec'))"
   ]
  },
  {
   "cell_type": "markdown",
   "metadata": {},
   "source": [
    "2\\. Write a function that converts a 32 bit word into a single precision floating point (i.e. interprets the various bits as sign, mantissa and exponent)"
   ]
  },
  {
   "cell_type": "code",
   "execution_count": 2,
   "metadata": {},
   "outputs": [
    {
     "name": "stdout",
     "output_type": "stream",
     "text": [
      "0b111100\n",
      "6\n",
      "0111100\n"
     ]
    }
   ],
   "source": [
    "def toFloating(num):\n",
    "    bNum = bin(num)\n",
    "    print(bNum)\n",
    "    length = len(bNum) - 2\n",
    "    print(length)\n",
    "    sign = bNum[2]\n",
    "    result = '0'\n",
    "    if num < 0: result = '1' #sign\n",
    "    if length <= 8: result += bNum[2:] # if less than 8 bits then no need to cast\n",
    "    else: result += bin(num & (255 << (length - 8)))[2:10] # cast it to 8 bits only\n",
    "    return result\n",
    "    \n",
    "print(toFloating(60))"
   ]
  },
  {
   "cell_type": "markdown",
   "metadata": {},
   "source": [
    "3\\. Write a program to determine the underflow and overflow limits (within a factor of 2) for python on your computer. \n",
    "\n",
    "**Tips**: define two variables inizialized to 1 and halve/double them enough time to exceed the under/over-flow limits  "
   ]
  },
  {
   "cell_type": "code",
   "execution_count": 5,
   "metadata": {},
   "outputs": [
    {
     "ename": "KeyboardInterrupt",
     "evalue": "",
     "output_type": "error",
     "traceback": [
      "\u001b[1;31m---------------------------------------------------------------------------\u001b[0m",
      "\u001b[1;31mKeyboardInterrupt\u001b[0m                         Traceback (most recent call last)",
      "\u001b[1;32m<ipython-input-5-77f4633b4075>\u001b[0m in \u001b[0;36m<module>\u001b[1;34m\u001b[0m\n\u001b[0;32m      5\u001b[0m     \u001b[0munderF\u001b[0m \u001b[1;33m=\u001b[0m \u001b[0mtemp\u001b[0m\u001b[1;33m\u001b[0m\u001b[1;33m\u001b[0m\u001b[0m\n\u001b[0;32m      6\u001b[0m     \u001b[0mtemp\u001b[0m \u001b[1;33m/=\u001b[0m \u001b[1;36m2\u001b[0m\u001b[1;33m\u001b[0m\u001b[1;33m\u001b[0m\u001b[0m\n\u001b[1;32m----> 7\u001b[1;33m     \u001b[0mtemp\u001b[0m \u001b[1;33m=\u001b[0m \u001b[0moverF\u001b[0m\u001b[1;33m\u001b[0m\u001b[1;33m\u001b[0m\u001b[0m\n\u001b[0m\u001b[0;32m      8\u001b[0m     \u001b[1;32mwhile\u001b[0m\u001b[1;33m(\u001b[0m\u001b[0mabs\u001b[0m\u001b[1;33m(\u001b[0m\u001b[0mtemp\u001b[0m\u001b[1;33m)\u001b[0m \u001b[1;33m!=\u001b[0m \u001b[0mfloat\u001b[0m\u001b[1;33m(\u001b[0m\u001b[1;34m'inf'\u001b[0m\u001b[1;33m)\u001b[0m\u001b[1;33m)\u001b[0m\u001b[1;33m:\u001b[0m\u001b[1;33m\u001b[0m\u001b[1;33m\u001b[0m\u001b[0m\n\u001b[0;32m      9\u001b[0m         \u001b[0moverF\u001b[0m \u001b[1;33m=\u001b[0m \u001b[0mtemp\u001b[0m\u001b[1;33m\u001b[0m\u001b[1;33m\u001b[0m\u001b[0m\n",
      "\u001b[1;31mKeyboardInterrupt\u001b[0m: "
     ]
    }
   ],
   "source": [
    "over = 1.0\n",
    "under = 1.0\n",
    "temp = under\n",
    "while(abs(temp) != 0):\n",
    "    under = temp\n",
    "    temp /= 2\n",
    "    temp = over\n",
    "    while(abs(temp) != float('inf')):\n",
    "        over = temp\n",
    "        temp *= 2\n",
    "        \n",
    "print(\"overflow value: {}\".format(over))\n",
    "print(\"Underflow value: {}\".format(under))\n",
    "\n"
   ]
  },
  {
   "cell_type": "markdown",
   "metadata": {},
   "source": [
    "4\\. Write a program to determine the machine precision\n",
    "\n",
    "**Tips**: define a new variable by adding a smaller and smaller value (proceeding similarly to prob. 2) to an original variable and check the point where the two are the same "
   ]
  },
  {
   "cell_type": "code",
   "execution_count": 6,
   "metadata": {},
   "outputs": [
    {
     "name": "stdout",
     "output_type": "stream",
     "text": [
      "1.1102230246251565e-16\n"
     ]
    }
   ],
   "source": [
    "num = 1\n",
    "while(1+num != 1):\n",
    "     num /= 2\n",
    "print(num)"
   ]
  },
  {
   "cell_type": "markdown",
   "metadata": {},
   "source": [
    "5\\. Write a function that takes in input three parameters $a$, $b$ and $c$ and prints out the two solutions to the quadratic equation $ax^2+bx+c=0$ using the standard formula:\n",
    "$$\n",
    "x=\\frac{-b\\pm\\sqrt{b^2-4ac}}{2a}\n",
    "$$\n",
    "\n",
    "(a) use the program to compute the solution for $a=0.001$, $b=1000$ and $c=0.001$\n",
    "\n",
    "(b) re-express the standard solution formula by multiplying top and bottom by $-b\\mp\\sqrt{b^2-4ac}$ and again find the solution for $a=0.001$, $b=1000$ and $c=0.001$. How does it compare with what previously obtained? Why?\n",
    "\n",
    "(c) write a function that compute the roots of a quadratic equation accurately in all cases"
   ]
  },
  {
   "cell_type": "code",
   "execution_count": 25,
   "metadata": {},
   "outputs": [
    {
     "name": "stdout",
     "output_type": "stream",
     "text": [
      "(-9.999894245993346e-07, -999999.999999)\n",
      "(-9.999894245993346e-07, -999999.9999989999)\n"
     ]
    }
   ],
   "source": [
    "import numpy \n",
    "def solution(a,b,c):\n",
    "    s1 = (-b + (numpy.sqrt(b**2-4*a*c)))/(2*a)\n",
    "    s2 = (-b - (numpy.sqrt(b**2-4*a*c)))/(2*a)\n",
    "    return s1,s2\n",
    "\n",
    "print(solution(0.001,1000,0.001))\n",
    "\n",
    "def solution2(a, b, c):\n",
    "    res1 = ((-b+numpy.sqrt(b**2 - 4*a*c))/(2*a)*(-b-numpy.sqrt(b**2 - 4*a*c)))/(-b-numpy.sqrt(b**2 - 4*a*c))\n",
    "    res2 = ((-b-numpy.sqrt(b**2 - 4*a*c))/(2*a)*(-b+numpy.sqrt(b**2 - 4*a*c)))/(-b+numpy.sqrt(b**2 - 4*a*c))\n",
    "    return res1, res2\n",
    "\n",
    "print(solution2(0.001, 1000, 0.001))"
   ]
  },
  {
   "cell_type": "markdown",
   "metadata": {},
   "source": [
    "6\\. Write a program that implements the function $f(x)=x(x−1)$\n",
    "\n",
    "(a) Calculate the derivative of the function at the point $x = 1$ using the derivative definition:\n",
    "\n",
    "$$\n",
    "\\frac{{\\rm d}f}{{\\rm d}x} = \\lim_{\\delta\\to0} \\frac{f(x+\\delta)-f(x)}{\\delta}\n",
    "$$\n",
    "\n",
    "with $\\delta = 10^{−2}$. Calculate the true value of the same derivative analytically and compare with the answer your program gives. The two will not agree perfectly. Why not?\n",
    "\n",
    "(b) Repeat the calculation for $\\delta = 10^{−4}, 10^{−6}, 10^{−8}, 10^{−10}, 10^{−12}$ and $10^{−14}$. How does the accuracy scales with $\\delta$?"
   ]
  },
  {
   "cell_type": "code",
   "execution_count": 44,
   "metadata": {},
   "outputs": [
    {
     "name": "stdout",
     "output_type": "stream",
     "text": [
      "delta=0.01, ans=1.010000000000001, abs(diff)=0.010000000000000897\n",
      "delta=0.0001, ans=1.000099999999890, abs(diff)=9.999999988985486e-05\n",
      "delta=1e-06, ans=1.000000999917733, abs(diff)=9.99917733279787e-07\n",
      "delta=1e-08, ans=1.000000003922529, abs(diff)=3.922528746258536e-09\n",
      "delta=1e-10, ans=1.000000082840371, abs(diff)=8.284037100736441e-08\n",
      "delta=1e-12, ans=1.000088900583341, abs(diff)=8.890058334132256e-05\n",
      "delta=1e-14, ans=0.999200722162651, abs(diff)=0.0007992778373491216\n"
     ]
    }
   ],
   "source": [
    "def f(x):  return x*(x-1)\n",
    "\n",
    "def der(point, delta): return (f(point+delta) - f(point)) / delta\n",
    "\n",
    "r = der(1.0, 10**(-2))\n",
    "print(\"delta={:2}, ans={:.15f}, abs(diff)={}\".format(10**(-2), r, abs(r-1)))\n",
    "#two result are not the same because computer store numbers in binary format, 1/100 in binary format does\n",
    "#not correspond exactly to the true value of 1/100\n",
    "\n",
    "for d in range(4,16,2):\n",
    "       res = der(1.0, 10**(-d))\n",
    "       print(\"delta={:2}, ans={:.15f}, abs(diff)={}\".format(10**(-d), res, abs(res-1)))"
   ]
  },
  {
   "cell_type": "markdown",
   "metadata": {},
   "source": [
    "7\\. Consider the integral of the semicircle of radius 1:\n",
    "$$\n",
    "I=\\int_{-1}^{1} \\sqrt(1-x^2) {\\rm d}x\n",
    "$$\n",
    "which it's known to be $I=\\frac{\\pi}{2}=1.57079632679...$.\n",
    "Alternatively we can use the Riemann definition of the integral:\n",
    "$$\n",
    "I=\\lim_{N\\to\\infty} \\sum_{k=1}^{N} h y_k \n",
    "$$\n",
    "\n",
    "with $h=2/N$ the width of each of the $N$ slices the domain is divided into and where\n",
    "$y_k$ is the value of the function at the $k-$th slice.\n",
    "\n",
    "(a) Write a programe to compute the integral with $N=100$. How does the result compares to the true value?\n",
    "\n",
    "(b) How much can $N$ be increased if the computation needs to be run in less than a second? What is the gain in running it for 1 minute? \n"
   ]
  },
  {
   "cell_type": "code",
   "execution_count": 42,
   "metadata": {},
   "outputs": [
    {
     "name": "stdout",
     "output_type": "stream",
     "text": [
      "1.5691342555492493\n",
      "error:  0.0016620712407506844\n"
     ]
    }
   ],
   "source": [
    "import numpy as np\n",
    "N = 100\n",
    "def f(x): return np.sqrt(1-x**2)\n",
    "\n",
    "def I(N):\n",
    "    k = -1\n",
    "    y = 0\n",
    "    h = 2/N\n",
    "    while(k <= 1):\n",
    "        y += h*f(k)\n",
    "        k += h\n",
    "    return y\n",
    "\n",
    "\n",
    "y = I(N)\n",
    "print(y)\n",
    "print(\"error: \", abs(1.57079632679 - y))"
   ]
  },
  {
   "cell_type": "code",
   "execution_count": 43,
   "metadata": {},
   "outputs": [
    {
     "name": "stdout",
     "output_type": "stream",
     "text": [
      "925 ms ± 17.7 ms per loop (mean ± std. dev. of 7 runs, 1 loop each)\n"
     ]
    }
   ],
   "source": [
    "N = 560000\n",
    "%timeit y = I(N)\n",
    "# less than 200 microseconds using N = 100 =>  N = 560000 is the maximum number for wich the computetion is run\n",
    "#with less then 1 second"
   ]
  },
  {
   "cell_type": "code",
   "execution_count": null,
   "metadata": {},
   "outputs": [],
   "source": []
  }
 ],
 "metadata": {
  "kernelspec": {
   "display_name": "Python 3",
   "language": "python",
   "name": "python3"
  },
  "language_info": {
   "codemirror_mode": {
    "name": "ipython",
    "version": 3
   },
   "file_extension": ".py",
   "mimetype": "text/x-python",
   "name": "python",
   "nbconvert_exporter": "python",
   "pygments_lexer": "ipython3",
   "version": "3.7.3"
  }
 },
 "nbformat": 4,
 "nbformat_minor": 2
}
