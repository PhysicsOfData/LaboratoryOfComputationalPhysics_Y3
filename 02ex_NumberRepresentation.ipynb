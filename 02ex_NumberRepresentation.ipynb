{
 "cells": [
  {
   "cell_type": "markdown",
   "metadata": {},
   "source": [
    "1\\. Write a function that converts number representation (bin<->dec<->hex)"
   ]
  },
  {
   "cell_type": "code",
   "execution_count": 31,
   "metadata": {},
   "outputs": [
    {
     "name": "stdout",
     "output_type": "stream",
     "text": [
      "17\n",
      "00000011\n"
     ]
    }
   ],
   "source": [
    "def convert(x, type):\n",
    "\n",
    "    conv = 0\n",
    "    if type == \"bin_toint\": \n",
    "        conv = int(x, 2)\n",
    "    if type == \"int_tobin\": \n",
    "        conv = f'{x:08b}' #more intuitive binary rep.\n",
    "        #conv = bin(x)\n",
    "    if type == \"int_tohex\": \n",
    "        conv = f'{x:08x}' #more intuitive (look at the last digits)\n",
    "        #conv = hex(x)\n",
    "    if type == \"hex_toint\": \n",
    "        conv = int(x, 16)\n",
    "    return conv\n",
    "x = 17\n",
    "print(x)\n",
    "print(convert(x, \"int_tohex\"))\n",
    "\n"
   ]
  },
  {
   "cell_type": "code",
   "execution_count": null,
   "metadata": {},
   "outputs": [],
   "source": [
    "\n",
    "\n",
    "\n",
    "\n"
   ]
  },
  {
   "cell_type": "markdown",
   "metadata": {},
   "source": [
    "2\\. Write a function that converts a 32 bit word into a single precision floating point (i.e. interprets the various bits as sign, mantissa and exponent)"
   ]
  },
  {
   "cell_type": "code",
   "execution_count": 80,
   "metadata": {},
   "outputs": [
    {
     "name": "stdout",
     "output_type": "stream",
     "text": [
      "1     1\n",
      "0     2\n",
      "0     3\n",
      "0     4\n",
      "0     5\n",
      "1     6\n",
      "0     7\n",
      "1     8\n",
      "0.96875\n",
      "126.0\n",
      "133\n"
     ]
    }
   ],
   "source": [
    "def func_tofloat(x):\n",
    "    echo = []\n",
    "    iter, exp, mant  = 0 , 0, 0\n",
    "    for j in x[1:9]:\n",
    "        iter+=1\n",
    "        print(j, \"   \", iter)\n",
    "        exp += int(j)*2**(-iter+8)\n",
    "    #print((-1)**int(x[0]))\n",
    "    for k in x[9:32]:\n",
    "        iter+=1\n",
    "        mant+=int(k)*2**(-iter+8)\n",
    "        #print(int(k)*2**(-iter+8) , \"\" , iter)\n",
    "    print(mant)\n",
    "    return float(((-1)**int(x[0]))*2**(exp-127)*(1+mant))\n",
    "\n",
    "x = \"01000010111111000000000000000000\" #==126   10000101\n",
    "print( func_tofloat(x) )\n",
    "\n"
   ]
  },
  {
   "cell_type": "markdown",
   "metadata": {},
   "source": [
    "3\\. Write a program to determine the underflow and overflow limits (within a factor of 2) for python on your computer. \n",
    "\n",
    "**Tips**: define two variables inizialized to 1 and halve/double them enough time to exceed the under/over-flow limits  "
   ]
  },
  {
   "cell_type": "code",
   "execution_count": 6,
   "metadata": {
    "tags": []
   },
   "outputs": [
    {
     "name": "stdout",
     "output_type": "stream",
     "text": [
      "5e-324\n",
      "8.98846567431158e+307\n"
     ]
    }
   ],
   "source": [
    "j = 1\n",
    "\n",
    "def find_min(j):\n",
    "    ier = 0\n",
    "    while j!=0:\n",
    "        ier = j\n",
    "        j/=2  \n",
    "    return ier\n",
    "def find_max(h):\n",
    "    ai = 0\n",
    "    while h!=float(\"inf\"): \n",
    "        ai = h\n",
    "        h*=2.\n",
    "    return ai\n",
    "\n",
    "print(find_min(j))\n",
    "print(find_max(j))\n"
   ]
  },
  {
   "cell_type": "markdown",
   "metadata": {},
   "source": [
    "4\\. Write a program to determine the machine precision\n",
    "\n",
    "**Tips**: define a new variable by adding a smaller and smaller value (proceeding similarly to prob. 2) to an original variable and check the point where the two are the same "
   ]
  },
  {
   "cell_type": "code",
   "execution_count": 11,
   "metadata": {},
   "outputs": [
    {
     "name": "stdout",
     "output_type": "stream",
     "text": [
      "5.551115123125783e-17\n"
     ]
    }
   ],
   "source": [
    "j = 1\n",
    "\n",
    "def add(j): \n",
    "    ai, prev = 0, 0\n",
    "    while j!=prev:\n",
    "        ai-=1\n",
    "        prev = j\n",
    "        j+=2**(ai)\n",
    "        #print( prev, \"  \" , j)\n",
    "    return 2**(ai)\n",
    "\n",
    "print(add(j))"
   ]
  },
  {
   "cell_type": "markdown",
   "metadata": {},
   "source": [
    "5\\. Write a function that takes in input three parameters $a$, $b$ and $c$ and prints out the two solutions to the quadratic equation $ax^2+bx+c=0$ using the standard formula:\n",
    "$$\n",
    "x=\\frac{-b\\pm\\sqrt{b^2-4ac}}{2a}\n",
    "$$\n",
    "\n",
    "(a) use the program to compute the solution for $a=0.001$, $b=1000$ and $c=0.001$\n",
    "\n",
    "(b) re-express the standard solution formula by multiplying top and bottom by $-b\\mp\\sqrt{b^2-4ac}$ and again find the solution for $a=0.001$, $b=1000$ and $c=0.001$. How does it compare with what previously obtained? Why?\n",
    "\n",
    "(c) write a function that compute the roots of a quadratic equation accurately in all cases"
   ]
  },
  {
   "cell_type": "code",
   "execution_count": 23,
   "metadata": {},
   "outputs": [
    {
     "name": "stdout",
     "output_type": "stream",
     "text": [
      "(-9.999894245993346e-07, -999999.999999)\n",
      "(-1.000000000001e-06, -1000010.5755125057)\n",
      "[-1.e+06 -1.e-06]\n"
     ]
    }
   ],
   "source": [
    "from math import sqrt\n",
    "import numpy as np\n",
    "def fake_sol ( a,b,c): \n",
    "    return (-b+sqrt(b*b-4*c*a) )/(2*a), (-b-sqrt(b*b-4*c*a) )/(2*a)\n",
    "\n",
    "def fake_sol_mult ( a,b,c): \n",
    "    return ( 2*c ) /(-b-sqrt(b*b-4*c*a) ), ( 2*c ) /(-b+sqrt(b*b-4*c*a) )\n",
    "\n",
    "def sol(a,b,c):\n",
    "    coeff = [a,b,c]\n",
    "    return np.roots(coeff)\n",
    "\n",
    "print(fake_sol(0.001, 1000, 0.001)) \n",
    "print(fake_sol_mult(0.001, 1000, 0.001)) \n",
    "print(sol(0.001, 1000, 0.001)) #maybe not right yet using numpy...\n",
    "\n",
    " "
   ]
  },
  {
   "cell_type": "markdown",
   "metadata": {},
   "source": [
    "6\\. Write a program that implements the function $f(x)=x(x−1)$\n",
    "\n",
    "(a) Calculate the derivative of the function at the point $x = 1$ using the derivative definition:\n",
    "\n",
    "$$\n",
    "\\frac{{\\rm d}f}{{\\rm d}x} = \\lim_{\\delta\\to0} \\frac{f(x+\\delta)-f(x)}{\\delta}\n",
    "$$\n",
    "\n",
    "with $\\delta = 10^{−2}$. Calculate the true value of the same derivative analytically and compare with the answer your program gives. The two will not agree perfectly. Why not?\n",
    "\n",
    "(b) Repeat the calculation for $\\delta = 10^{−4}, 10^{−6}, 10^{−8}, 10^{−10}, 10^{−12}$ and $10^{−14}$. How does the accuracy scales with $\\delta$?"
   ]
  },
  {
   "cell_type": "markdown",
   "metadata": {},
   "source": [
    "def func(x): return(x*(x-1))\n",
    "\n",
    "def calc():\n",
    "    for j in range(1,8):\n",
    "        der = (func(1+10**(-2*j))-func(1) )/10**(-2*j)\n",
    "        print( \"While true value = $\\delta = {} , the algorithm holds: {} \".format(10**(-2*j) , der) )\n",
    "        #print( der, \"\", j, \" \", 10**(-2*j))\n",
    "        #print(j)\n",
    "    return \n",
    "\n",
    "calc()\n",
    "\n",
    "print(\"The accuacy literally increases lineary up to 10^-8 (near 10^-17.. so the maximum precision) and then decreases (again linearly). \")\n"
   ]
  },
  {
   "cell_type": "code",
   "execution_count": 45,
   "metadata": {},
   "outputs": [
    {
     "name": "stdout",
     "output_type": "stream",
     "text": [
      "While true value = $\\delta = 0.01 , the algorithm holds: 1.010000000000001 \n",
      "While true value = $\\delta = 0.0001 , the algorithm holds: 1.0000999999998899 \n",
      "While true value = $\\delta = 1e-06 , the algorithm holds: 1.0000009999177333 \n",
      "While true value = $\\delta = 1e-08 , the algorithm holds: 1.0000000039225287 \n",
      "While true value = $\\delta = 1e-10 , the algorithm holds: 1.000000082840371 \n",
      "While true value = $\\delta = 1e-12 , the algorithm holds: 1.0000889005833413 \n",
      "While true value = $\\delta = 1e-14 , the algorithm holds: 0.9992007221626509 \n",
      "The accuacy literally increases lineary up to 10^-8 (near 10^-17.. so the maximum precision) \n",
      "and then decreases (linearly)\n"
     ]
    }
   ],
   "source": [
    "def func(x): return(x*(x-1))\n",
    "\n",
    "def calc(): \n",
    "    for j in range(1,8): \n",
    "        der = (func(1+10**(-2*j))-func(1) )/10**(-2*j) \n",
    "        print(\"While true value = $\\delta = {} , the algorithm holds: {} \".format(10**(-2*j) , der) ) \n",
    "        #print( der, \"\", j, \" \", 10*(-2j)) \n",
    "        #print(j) \n",
    "    return\n",
    "\n",
    "calc()\n",
    "print(\"The accuacy literally increases lineary up to 10^-8 (near 10^-17.. so the maximum precision) \") \n",
    "print( \"and then decreases (linearly)\")"
   ]
  },
  {
   "cell_type": "markdown",
   "metadata": {},
   "source": [
    "7\\. Consider the integral of the semicircle of radius 1:\n",
    "$$\n",
    "I=\\int_{-1}^{1} \\sqrt(1-x^2) {\\rm d}x\n",
    "$$\n",
    "which it's known to be $I=\\frac{\\pi}{2}=1.57079632679...$.\n",
    "Alternatively we can use the Riemann definition of the integral:\n",
    "$$\n",
    "I=\\lim_{N\\to\\infty} \\sum_{k=1}^{N} h y_k \n",
    "$$\n",
    "\n",
    "with $h=2/N$ the width of each of the $N$ slices the domain is divided into and where\n",
    "$y_k$ is the value of the function at the $k-$th slice.\n",
    "\n",
    "(a) Write a programe to compute the integral with $N=100$. How does the result compares to the true value?\n",
    "\n",
    "(b) How much can $N$ be increased if the computation needs to be run in less than a second? What is the gain in running it for 1 minute? \n"
   ]
  },
  {
   "cell_type": "code",
   "execution_count": 17,
   "metadata": {
    "tags": []
   },
   "outputs": [
    {
     "output_type": "stream",
     "name": "stdout",
     "text": [
      "0.0\n",
      "1.570743738501071\n",
      "0.0018294620003871387\n",
      "1.5691342555492498\n",
      " con n = 2000, impiega 0.002385301000686013s.   1000\n",
      " con n = 4000, impiega 0.004496968998864759s.   2000\n",
      " con n = 8000, impiega 0.00791518799996993s.   4000\n",
      " con n = 16000, impiega 0.013991411000461085s.   8000\n",
      " con n = 32000, impiega 0.028283575000386918s.   16000\n",
      " con n = 64000, impiega 0.057716870000149356s.   32000\n",
      " con n = 128000, impiega 0.11310389699974621s.   64000\n",
      " con n = 256000, impiega 0.2418702150007448s.   128000\n",
      " con n = 512000, impiega 0.5051493350001692s.   256000\n",
      " con n = 1024000, impiega 0.9177889180009515s.   512000\n",
      " con n = 2048000, impiega 1.8921045130009588s.   1024000\n",
      " con n = 1024000, impiega 0.8934393899999122s. Estremi: 0 ; 2048000\n",
      " con n = 1536000, impiega 1.3547106299993175s. Estremi: 1024000 ; 2048000\n",
      " con n = 1280000, impiega 1.0949098559995036s. Estremi: 1024000 ; 1536000\n",
      " con n = 1152000, impiega 1.0300717909995s. Estremi: 1024000 ; 1280000\n",
      " con n = 1088000, impiega 1.0004831379992538s. Estremi: 1024000 ; 1152000\n",
      " con n = 1056000, impiega 0.9223687230005453s. Estremi: 1024000 ; 1088000\n",
      " con n = 1072000, impiega 0.9265276829992217s. Estremi: 1056000 ; 1088000\n",
      " con n = 1080000, impiega 0.9273575850002089s. Estremi: 1072000 ; 1088000\n",
      " con n = 1084000, impiega 0.952877260000605s. Estremi: 1080000 ; 1088000\n",
      " con n = 1086000, impiega 0.9449729770003614s. Estremi: 1084000 ; 1088000\n",
      " con n = 1087000, impiega 0.9584148810008628s. Estremi: 1086000 ; 1088000\n",
      " con n = 1087500, impiega 0.9494087440016301s. Estremi: 1087000 ; 1088000\n",
      " con n = 1087750, impiega 0.9621304949996556s. Estremi: 1087500 ; 1088000\n",
      " con n = 1087875, impiega 0.9665347970003495s. Estremi: 1087750 ; 1088000\n",
      " con n = 1087937, impiega 0.9624869379986194s. Estremi: 1087875 ; 1088000\n",
      " con n = 1087968, impiega 0.9530885919994034s. Estremi: 1087937 ; 1088000\n",
      " con n = 1087984, impiega 0.9536328850008431s. Estremi: 1087968 ; 1088000\n",
      " con n = 1087992, impiega 0.9533115350004664s. Estremi: 1087984 ; 1088000\n",
      " con n = 1087996, impiega 0.9700272819991369s. Estremi: 1087992 ; 1088000\n",
      " con n = 1087998, impiega 0.9683405680007127s. Estremi: 1087996 ; 1088000\n",
      " con n = 1087999, impiega 1.0718834569997853s. Estremi: 1087998 ; 1088000\n",
      " con n = 1087998, impiega 1.0373940660010703s. Estremi: 1087998 ; 1087999\n",
      " con n = 1087998, impiega 1.103801241999463s. Estremi: 1087998 ; 1087998\n",
      " con n = 1087998, impiega 1.013967525001135s. Estremi: 1087998 ; 1087998\n",
      " con n = 1087998, impiega 1.1144419339998421s. Estremi: 1087998 ; 1087998\n",
      " con n = 1087998, impiega 1.139114879000772s. Estremi: 1087998 ; 1087998\n",
      " con n = 1087998, impiega 1.145738088998769s. Estremi: 1087998 ; 1087998\n",
      " con n = 1087998, impiega 1.2714837180010363s. Estremi: 1087998 ; 1087998\n",
      " con n = 1087998, impiega 1.0493294049992983s. Estremi: 1087998 ; 1087998\n",
      " con n = 1087998, impiega 1.007904147998488s. Estremi: 1087998 ; 1087998\n",
      " con n = 1087998, impiega 1.0299807259998488s. Estremi: 1087998 ; 1087998\n",
      " con n = 1087998, impiega 1.101141559000098s. Estremi: 1087998 ; 1087998\n",
      " con n = 1087998, impiega 1.3728083789992525s. Estremi: 1087998 ; 1087998\n",
      " con n = 1087998, impiega 1.0739453899986984s. Estremi: 1087998 ; 1087998\n",
      " con n = 1087998, impiega 1.0009306729989476s. Estremi: 1087998 ; 1087998\n",
      " con n = 1087998, impiega 1.0071579890009161s. Estremi: 1087998 ; 1087998\n",
      " con n = 1087998, impiega 1.0272846019997814s. Estremi: 1087998 ; 1087998\n",
      " con n = 1087998, impiega 1.2453570260004199s. Estremi: 1087998 ; 1087998\n",
      " con n = 1087998, impiega 1.1336008890011726s. Estremi: 1087998 ; 1087998\n",
      " con n = 1087998, impiega 1.0080697820012574s. Estremi: 1087998 ; 1087998\n",
      " con n = 1087998, impiega 1.0046106489990052s. Estremi: 1087998 ; 1087998\n",
      " con n = 1087998, impiega 0.9871565119992738s. Estremi: 1087998 ; 1087998\n",
      " con n = 1087998, impiega 0.9851118539991148s. Estremi: 1087998 ; 1087998\n",
      " con n = 1087998, impiega 0.9886214300004212s. Estremi: 1087998 ; 1087998\n",
      " con n = 1087998, impiega 0.9799655610004265s. Estremi: 1087998 ; 1087998\n",
      " con n = 1087998, impiega 0.9631147359996248s. Estremi: 1087998 ; 1087998\n",
      " con n = 1087998, impiega 1.0170504289999371s. Estremi: 1087998 ; 1087998\n",
      " con n = 1087998, impiega 1.0476687240006868s. Estremi: 1087998 ; 1087998\n",
      " con n = 1087998, impiega 1.0334994980003103s. Estremi: 1087998 ; 1087998\n",
      " con n = 1087998, impiega 1.0690864030002558s. Estremi: 1087998 ; 1087998\n",
      "1.8921045130009588\n"
     ]
    }
   ],
   "source": [
    "import numpy as np\n",
    "from timeit import default_timer as timer\n",
    "def func(x): return np.sqrt(1-x*x)\n",
    "\n",
    "def integral(n):\n",
    "    step, result, result_2 =  2/n, 0, 0 #noting also 2/n != 0.2... (n=100 ofc)\n",
    "    for i in range(n):\n",
    "        result+=func(-1+step*i)\n",
    "    #for i in np.arange(-1,1,step):\n",
    "       #result_2+=func(i)*step\n",
    "    #return result, result_2\n",
    "    return result*step\n",
    "\n",
    "\n",
    "    \n",
    "print(func(1))\n",
    "start = timer()\n",
    "print(integral(1000))\n",
    "end = timer()\n",
    "print(end-start)\n",
    "print(integral(100))\n",
    "conto = 0\n",
    "n = 1000\n",
    "lastn = n\n",
    "\n",
    "while conto < 1:\n",
    "    lastn = n\n",
    "    n*=2\n",
    "    start = timer()\n",
    "    conto = integral(n)\n",
    "    end = timer()\n",
    "    conto = end-start\n",
    "    print( \" con n = {}, impiega {}s. \".format(n, conto), \"\", lastn)\n",
    "\n",
    "a, b = 0, 2048000\n",
    "for i in range(20):\n",
    "    middle = int ( (b+a)/2 ) \n",
    "   # print( b, \"\", a, \"\", middle, \"\", (b+a)/2)\n",
    "    #print( \"middle:\", middle)\n",
    "    start = timer()\n",
    "    calc = integral(middle)\n",
    "    end = timer()\n",
    "    print( \" con n = {}, impiega {}s. Estremi: {} ; {}\".format(middle, end-start, a, b))\n",
    "    if (end - start)<1:\n",
    "        a = middle \n",
    "    else: b = middle\n",
    "    \n",
    "print(conto)"
   ]
  }
 ],
 "metadata": {
  "kernelspec": {
   "display_name": "Python 3",
   "language": "python",
   "name": "python3"
  },
  "language_info": {
   "codemirror_mode": {
    "name": "ipython",
    "version": 3
   },
   "file_extension": ".py",
   "mimetype": "text/x-python",
   "name": "python",
   "nbconvert_exporter": "python",
   "pygments_lexer": "ipython3",
   "version": "3.8.5-final"
  }
 },
 "nbformat": 4,
 "nbformat_minor": 2
}