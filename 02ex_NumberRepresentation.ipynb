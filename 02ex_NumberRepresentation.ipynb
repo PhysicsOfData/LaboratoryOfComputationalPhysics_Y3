{
 "cells": [
  {
   "cell_type": "markdown",
   "metadata": {},
   "source": [
    "1\\. Write a function that converts number representation (bin<->dec<->hex)"
   ]
  },
  {
   "cell_type": "code",
   "execution_count": 10,
   "metadata": {},
   "outputs": [
    {
     "name": "stdout",
     "output_type": "stream",
     "text": [
      "decimal input: 23\n",
      "binary equivalent: 0b10111\n",
      "hexadecimal equivalent: 0x17\n"
     ]
    }
   ],
   "source": [
    "def func_bin_dec_hex():\n",
    " dec_str = 23\n",
    " print('decimal input:', dec_str)\n",
    "    \n",
    " s_bin = bin(dec_str)  \n",
    " print('binary equivalent:',s_bin)\n",
    " \n",
    " s_hex = hex(dec_str)\n",
    " print('hexadecimal equivalent:',s_hex)\n",
    "\n",
    "func_bin_dec_hex()"
   ]
  },
  {
   "cell_type": "markdown",
   "metadata": {},
   "source": [
    "2\\. Write a function that converts a 32 bit word into a single precision floating point (i.e. interprets the various bits as sign, mantissa and exponent)"
   ]
  },
  {
   "cell_type": "code",
   "execution_count": 29,
   "metadata": {},
   "outputs": [
    {
     "name": "stdout",
     "output_type": "stream",
     "text": [
      "word length: 32\n",
      "floatiing bits: ['1', '1', '0', '0', '0', '0', '0', '0', '0', '0', '0', '0', '0', '0', '0', '0', '0', '0', '0', '0', '0', '0', '0']\n",
      "23\n",
      "mantissa: 0.75\n",
      "['0', '0', '0', '0', '0', '1', '1', '1']\n",
      "8\n",
      "exponential: 7\n",
      "sign bit: 0\n",
      "sign: 1\n",
      "single precision floating point value: -1.316553672920962e-36\n"
     ]
    }
   ],
   "source": [
    "import math\n",
    "\n",
    "def func():\n",
    "#    word ='11000000101100000000000000000000'\n",
    "    word= '00000011111000000000000000000000'\n",
    "    \n",
    "    word_len = len(word)\n",
    "    print('word length:',word_len)\n",
    "   # print(int(word))\n",
    "   \n",
    "    #for mantissa\n",
    "    floating_in_bits = []\n",
    "    \n",
    "    for i in range(len(word) - 9):\n",
    "        floating_in_bits.append(word[31-i])\n",
    "        \n",
    "    floating_in_bits2 = list(reversed(floating_in_bits))\n",
    "    print(\"floatiing bits:\",floating_in_bits2)\n",
    "    print(len(floating_in_bits2))\n",
    "    \n",
    "    manti = 0\n",
    "    for i in range(len(floating_in_bits2)):\n",
    "         manti = (int(floating_in_bits2[i]) * pow(2,-i-1)) + manti\n",
    "    print(\"mantissa:\",manti)\n",
    "    \n",
    "    # exponential\n",
    "    \n",
    "    exp_in_bits = []\n",
    "    for j in range(23,31):\n",
    "        exp_in_bits.append(word[31-j])\n",
    "    exp_in_bits2 = list(reversed(exp_in_bits))\n",
    "    print(exp_in_bits2)\n",
    "    \n",
    "    exp = 0\n",
    "    for i in range(8):\n",
    "        exp = (int(exp_in_bits2[i])) * pow(2,7-i)+ exp\n",
    "       # print(exp_in_bits2[i])\n",
    "    print(len(exp_in_bits2))\n",
    "    print(\"exponential:\",exp) \n",
    "    \n",
    "    #sign\n",
    "    \n",
    "    print(\"sign bit:\",word[0])\n",
    "    if(word[0] == '0'):\n",
    "        sign = +1\n",
    "    if(word[0] == '1'):\n",
    "        sign = -1\n",
    "    print(\"sign:\", int(sign))\n",
    "    \n",
    "    # putting together\n",
    "    x_float = pow(-1,sign) * (1 + manti) * pow(2, exp - 127)\n",
    "    print(\"single precision floating point value:\",x_float)\n",
    "    \n",
    "func()"
   ]
  },
  {
   "cell_type": "markdown",
   "metadata": {},
   "source": [
    "3\\. Write a program to determine the underflow and overflow limits (within a factor of 2) for python on your computer. \n",
    "\n",
    "**Tips**: define two variables inizialized to 1 and halve/double them enough time to exceed the under/over-flow limits  "
   ]
  },
  {
   "cell_type": "code",
   "execution_count": 82,
   "metadata": {},
   "outputs": [
    {
     "ename": "KeyboardInterrupt",
     "evalue": "",
     "output_type": "error",
     "traceback": [
      "\u001b[0;31m---------------------------------------------------------------------------\u001b[0m",
      "\u001b[0;31mKeyboardInterrupt\u001b[0m                         Traceback (most recent call last)",
      "\u001b[0;32m<ipython-input-82-7015bcf82422>\u001b[0m in \u001b[0;36m<module>\u001b[0;34m\u001b[0m\n\u001b[1;32m      6\u001b[0m         \u001b[0mvar1\u001b[0m \u001b[0;34m=\u001b[0m \u001b[0mvar1\u001b[0m \u001b[0;34m*\u001b[0m \u001b[0;36m2\u001b[0m\u001b[0;34m\u001b[0m\u001b[0;34m\u001b[0m\u001b[0m\n\u001b[1;32m      7\u001b[0m     \u001b[0;32mreturn\u001b[0m \u001b[0mvar_temp\u001b[0m\u001b[0;34m\u001b[0m\u001b[0;34m\u001b[0m\u001b[0m\n\u001b[0;32m----> 8\u001b[0;31m \u001b[0mprint\u001b[0m\u001b[0;34m(\u001b[0m\u001b[0mfunc_overflow\u001b[0m\u001b[0;34m(\u001b[0m\u001b[0;34m)\u001b[0m\u001b[0;34m)\u001b[0m\u001b[0;34m\u001b[0m\u001b[0;34m\u001b[0m\u001b[0m\n\u001b[0m\u001b[1;32m      9\u001b[0m \u001b[0;34m\u001b[0m\u001b[0m\n\u001b[1;32m     10\u001b[0m \u001b[0;32mdef\u001b[0m \u001b[0mfunc_underflow\u001b[0m\u001b[0;34m(\u001b[0m\u001b[0;34m)\u001b[0m\u001b[0;34m:\u001b[0m\u001b[0;34m\u001b[0m\u001b[0;34m\u001b[0m\u001b[0m\n",
      "\u001b[0;32m<ipython-input-82-7015bcf82422>\u001b[0m in \u001b[0;36mfunc_overflow\u001b[0;34m()\u001b[0m\n\u001b[1;32m      4\u001b[0m     \u001b[0;32mwhile\u001b[0m \u001b[0;34m(\u001b[0m\u001b[0mvar1\u001b[0m \u001b[0;34m!=\u001b[0m \u001b[0mfloat\u001b[0m\u001b[0;34m(\u001b[0m\u001b[0;34m\"inf\"\u001b[0m\u001b[0;34m)\u001b[0m\u001b[0;34m)\u001b[0m\u001b[0;34m:\u001b[0m\u001b[0;34m\u001b[0m\u001b[0;34m\u001b[0m\u001b[0m\n\u001b[1;32m      5\u001b[0m         \u001b[0mvar_temp\u001b[0m \u001b[0;34m=\u001b[0m \u001b[0mvar1\u001b[0m\u001b[0;34m\u001b[0m\u001b[0;34m\u001b[0m\u001b[0m\n\u001b[0;32m----> 6\u001b[0;31m         \u001b[0mvar1\u001b[0m \u001b[0;34m=\u001b[0m \u001b[0mvar1\u001b[0m \u001b[0;34m*\u001b[0m \u001b[0;36m2\u001b[0m\u001b[0;34m\u001b[0m\u001b[0;34m\u001b[0m\u001b[0m\n\u001b[0m\u001b[1;32m      7\u001b[0m     \u001b[0;32mreturn\u001b[0m \u001b[0mvar_temp\u001b[0m\u001b[0;34m\u001b[0m\u001b[0;34m\u001b[0m\u001b[0m\n\u001b[1;32m      8\u001b[0m \u001b[0mprint\u001b[0m\u001b[0;34m(\u001b[0m\u001b[0mfunc_overflow\u001b[0m\u001b[0;34m(\u001b[0m\u001b[0;34m)\u001b[0m\u001b[0;34m)\u001b[0m\u001b[0;34m\u001b[0m\u001b[0;34m\u001b[0m\u001b[0m\n",
      "\u001b[0;31mKeyboardInterrupt\u001b[0m: "
     ]
    }
   ],
   "source": [
    "\n",
    "def func_overflow():\n",
    "    var1 = 1\n",
    "    var_temp = 1\n",
    "    while (var1 != float(\"inf\")):\n",
    "        var_temp = var1\n",
    "        var1 = var1 * 2\n",
    "    return var_temp\n",
    "print(func_overflow())\n",
    "\n",
    "def func_underflow():\n",
    "    var2 = 1\n",
    "    var_temp = 1\n",
    "    while(var2 != 0):\n",
    "        var_temp = var2\n",
    "        var2 = var2 / 2\n",
    "    return var_temp\n",
    "print(func_underflow())"
   ]
  },
  {
   "cell_type": "markdown",
   "metadata": {},
   "source": [
    "4\\. Write a program to determine the machine precision\n",
    "\n",
    "**Tips**: define a new variable by adding a smaller and smaller value (proceeding similarly to prob. 2) to an original variable and check the point where the two are the same "
   ]
  },
  {
   "cell_type": "code",
   "execution_count": null,
   "metadata": {},
   "outputs": [],
   "source": []
  },
  {
   "cell_type": "markdown",
   "metadata": {},
   "source": [
    "5\\. Write a function that takes in input three parameters $a$, $b$ and $c$ and prints out the two solutions to the quadratic equation $ax^2+bx+c=0$ using the standard formula:\n",
    "$$\n",
    "x=\\frac{-b\\pm\\sqrt{b^2-4ac}}{2a}\n",
    "$$\n",
    "\n",
    "(a) use the program to compute the solution for $a=0.001$, $b=1000$ and $c=0.001$\n",
    "\n",
    "(b) re-express the standard solution formula by multiplying top and bottom by $-b\\mp\\sqrt{b^2-4ac}$ and again find the solution for $a=0.001$, $b=1000$ and $c=0.001$. How does it compare with what previously obtained? Why?\n",
    "\n",
    "(c) write a function that compute the roots of a quadratic equation accurately in all cases"
   ]
  },
  {
   "cell_type": "code",
   "execution_count": 31,
   "metadata": {},
   "outputs": [
    {
     "name": "stdout",
     "output_type": "stream",
     "text": [
      "(-9.999894245993346e-07, -999999.999999)\n",
      "(-1000010.5755125057, -1.000000000001e-06)\n",
      "None\n"
     ]
    }
   ],
   "source": [
    "import math\n",
    "\n",
    "# part a\n",
    "def quad_form(a,b,c):\n",
    "    x1 = (-b + math.sqrt((b**2) - 4 * a * c))/ (2 * a)\n",
    "    x2 = (-b - math.sqrt((b**2) - 4 * a * c))/ (2 * a)\n",
    "    return x1,x2\n",
    "x = 0.001\n",
    "y = 1000\n",
    "z = 0.001\n",
    "print(quad_form(x,y,z))\n",
    "\n",
    "# part b\n",
    "def func2(a,b,c):\n",
    "    x1 = (2*c)/(-b + math.sqrt(b**2 - 4 * a * c))\n",
    "    x2 = (2*c)/(-b - math.sqrt(b**2 - 4 * a * c))\n",
    "    return x1, x2\n",
    "\n",
    "a = 0.001\n",
    "b = 1000\n",
    "c = 0.001\n",
    "print(func2(a,b,c))\n",
    "\n",
    "#explanation in partb (why? part)\n",
    "#adding subtracting '-b' and the 'sqrt() term with different orders of magnitude\n",
    "#can cause loss of accuracy. In fact partb is called Citardauq formula\n",
    "\n",
    "#partc\n",
    "def func3(a,b,c):\n",
    "    epsilon = 10e-4\n",
    "    if( (b - (math.sqrt(b**2 - 4 * a * c))) <= epsilon ):\n",
    "        quad_form(a,b,c)\n",
    "    else:\n",
    "        func2(a,b,c)\n",
    "print(func3(1,100,1))\n",
    "        "
   ]
  },
  {
   "cell_type": "markdown",
   "metadata": {},
   "source": [
    "6\\. Write a program that implements the function $f(x)=x(x−1)$\n",
    "\n",
    "(a) Calculate the derivative of the function at the point $x = 1$ using the derivative definition:\n",
    "\n",
    "$$\n",
    "\\frac{{\\rm d}f}{{\\rm d}x} = \\lim_{\\delta\\to0} \\frac{f(x+\\delta)-f(x)}{\\delta}\n",
    "$$\n",
    "\n",
    "with $\\delta = 10^{−2}$. Calculate the true value of the same derivative analytically and compare with the answer your program gives. The two will not agree perfectly. Why not?\n",
    "\n",
    "(b) Repeat the calculation for $\\delta = 10^{−4}, 10^{−6}, 10^{−8}, 10^{−10}, 10^{−12}$ and $10^{−14}$. How does the accuracy scales with $\\delta$?"
   ]
  },
  {
   "cell_type": "code",
   "execution_count": 28,
   "metadata": {},
   "outputs": [
    {
     "name": "stdout",
     "output_type": "stream",
     "text": [
      "0.009999999999998899\n",
      "9.999999994736442e-05\n",
      "1.0000056338554941e-06\n",
      "1.1102230246251565e-08\n",
      "0.0\n",
      "0.0\n",
      "0.0\n"
     ]
    }
   ],
   "source": [
    "def func(x):\n",
    "    return x * (x-1)\n",
    "\n",
    "#part a,b mixed\n",
    "def deri_func(x):\n",
    "    i = 2\n",
    "    while(i <= 14) :\n",
    "        delta = pow(10,-i)\n",
    "        deriv = (func(x+delta) - (func(x)))/delta\n",
    "        print(deriv)\n",
    "        i = i + 2     \n",
    "deri_func(0.5)"
   ]
  },
  {
   "cell_type": "markdown",
   "metadata": {},
   "source": [
    "7\\. Consider the integral of the semicircle of radius 1:\n",
    "$$\n",
    "I=\\int_{-1}^{1} \\sqrt(1-x^2) {\\rm d}x\n",
    "$$\n",
    "which it's known to be $I=\\frac{\\pi}{2}=1.57079632679...$.\n",
    "Alternatively we can use the Riemann definition of the integral:\n",
    "$$\n",
    "I=\\lim_{N\\to\\infty} \\sum_{k=1}^{N} h y_k \n",
    "$$\n",
    "\n",
    "with $h=2/N$ the width of each of the $N$ slices the domain is divided into and where\n",
    "$y_k$ is the value of the function at the $k-$th slice.\n",
    "\n",
    "(a) Write a programe to compute the integral with $N=100$. How does the result compares to the true value?\n",
    "\n",
    "(b) How much can $N$ be increased if the computation needs to be run in less than a second? What is the gain in running it for 1 minute? \n"
   ]
  },
  {
   "cell_type": "code",
   "execution_count": 81,
   "metadata": {},
   "outputs": [
    {
     "name": "stdout",
     "output_type": "stream",
     "text": [
      "calculated value: 1.5707963233580307\n",
      "true value: 1.5707963267948966\n",
      "accuracy error: 2.18797678881542e-07 %\n",
      "time taken for N = 100 is: 1.0322527885437012\n"
     ]
    }
   ],
   "source": [
    "#part a and part b combined\n",
    "import math\n",
    "import time \n",
    "\n",
    "N = 1400000\n",
    "I = 0\n",
    "h = 2/N\n",
    "a = -1\n",
    "b = 1\n",
    "x = -1\n",
    "\n",
    "time1 = time.time()\n",
    "for i in range (1,N):\n",
    "    I = I + h * (math.sqrt(1 - x*x))\n",
    "    x = x + h\n",
    "time2 = time.time()\n",
    "t2  = time2 - time1\n",
    "print(\"calculated value:\",I)\n",
    "\n",
    "true_value = (math.pi)/2\n",
    "print(\"true value:\",true_value)\n",
    "\n",
    "accuracy = abs(I - true_value)\n",
    "print(\"accuracy error:\",(accuracy/true_value)*100,\"%\")\n",
    "\n",
    "t = time2 -time1\n",
    "print(\"time taken for N = 100 is:\",t)"
   ]
  },
  {
   "cell_type": "code",
   "execution_count": null,
   "metadata": {},
   "outputs": [],
   "source": []
  },
  {
   "cell_type": "code",
   "execution_count": null,
   "metadata": {},
   "outputs": [],
   "source": []
  }
 ],
 "metadata": {
  "kernelspec": {
   "display_name": "Python 3",
   "language": "python",
   "name": "python3"
  },
  "language_info": {
   "codemirror_mode": {
    "name": "ipython",
    "version": 3
   },
   "file_extension": ".py",
   "mimetype": "text/x-python",
   "name": "python",
   "nbconvert_exporter": "python",
   "pygments_lexer": "ipython3",
   "version": "3.8.3"
  }
 },
 "nbformat": 4,
 "nbformat_minor": 2
}
