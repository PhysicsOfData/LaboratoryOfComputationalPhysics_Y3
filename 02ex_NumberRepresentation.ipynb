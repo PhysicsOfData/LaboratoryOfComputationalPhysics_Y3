{
 "cells": [
  {
   "cell_type": "markdown",
   "metadata": {},
   "source": [
    "1\\. Write a function that converts number representation (bin<->dec<->hex)"
   ]
  },
  {
   "cell_type": "code",
   "execution_count": 15,
   "metadata": {},
   "outputs": [
    {
     "name": "stdout",
     "output_type": "stream",
     "text": [
      "0b1100\n",
      "0xc\n",
      "24\n",
      "4\n",
      "0b11000\n"
     ]
    }
   ],
   "source": [
    "def converter(n, to):\n",
    "    if to == \"bin\": # convert to binary\n",
    "        return bin(n)\n",
    "    elif to == \"dec\": # convert to decimal \n",
    "        return int(n)\n",
    "    elif to == \"hex\": # convert to hexadecimal\n",
    "        return hex(n)\n",
    "    \n",
    "print(converter(12, \"bin\"))\n",
    "print(converter(12, \"hex\"))\n",
    "print(converter(0x18, \"dec\"))\n",
    "print(converter(0b0100, \"dec\"))\n",
    "print(converter(0x18, \"bin\"))"
   ]
  },
  {
   "cell_type": "markdown",
   "metadata": {},
   "source": [
    "2. Write a function that converts a 32 bit word into a single precision floating point (i.e. interprets the various bits as sign, mantissa and exponent)"
   ]
  },
  {
   "cell_type": "code",
   "execution_count": 8,
   "metadata": {},
   "outputs": [
    {
     "name": "stdout",
     "output_type": "stream",
     "text": [
      "00000011111000000000000000000000\n",
      "1.316553672920962e-36\n"
     ]
    }
   ],
   "source": [
    "# check input of 32 \n",
    "def is32long(value):      \n",
    "    if len(value) == 32:\n",
    "            return True\n",
    "    return False\n",
    "    \n",
    "def binaryToInt(value):\n",
    "    bias = 127\n",
    "    sign_bit = int(value[0])\n",
    "    exponent = int(value[1:9], 2) - bias\n",
    "    mantissa = value[9:]\n",
    "    mantissa_int = 0\n",
    "    exp_2 = -1\n",
    "    for i in mantissa:\n",
    "        mantissa_int += (int(i) * (2**exp_2))\n",
    "        exp_2 -= 1\n",
    "\n",
    "    return ((-1)**sign_bit)*(mantissa_int+1)*(2**exponent) # calculating the conversion\n",
    "    \n",
    "# input of a 32 bit word\n",
    "bit32 = input()\n",
    "if is32long(bit32) is True:\n",
    "    print(binaryToInt(bit32)) # calling the function for conversion\n",
    "else:\n",
    "    print(\"Wrong length\")\n",
    "        "
   ]
  },
  {
   "cell_type": "markdown",
   "metadata": {},
   "source": [
    "3\\. Write a program to determine the underflow and overflow limits (within a factor of 2) for python on your computer. \n",
    "\n",
    "**Tips**: define two variables inizialized to 1 and halve/double them enough time to exceed the under/over-flow limits  "
   ]
  },
  {
   "cell_type": "code",
   "execution_count": 75,
   "metadata": {},
   "outputs": [
    {
     "name": "stdout",
     "output_type": "stream",
     "text": [
      "Underflow occurs in 1074 iterations with value 5e-324\n",
      "\n",
      "Integers in python3 are represented with arbitrary precision and I can not have an overflow, at least in an acceptable time.\n",
      "The overflow definition can be applied to the architecture, in this case, with unsigned word = 18446744073709551615\n"
     ]
    }
   ],
   "source": [
    "import sys\n",
    "\n",
    "underflow = 1\n",
    "overflow = 1\n",
    "\n",
    "j = 0\n",
    "for i in range (1074) :\n",
    "    underflow = underflow / 2\n",
    "    j += 1\n",
    "    \n",
    "print(\"Underflow occurs in \" + str(j) + \" iterations with value \" + str(underflow) + \"\\n\")\n",
    "\n",
    "print(\"Integers in python3 are represented with arbitrary precision and I can not have an overflow, at least in an acceptable time.\")\n",
    "print(\"The overflow definition can be applied to the architecture, in this case, with unsigned word = \" + str(sys.maxsize*2 + 1))\n"
   ]
  },
  {
   "cell_type": "markdown",
   "metadata": {},
   "source": [
    "4\\. Write a program to determine the machine precision\n",
    "\n",
    "**Tips**: define a new variable by adding a smaller and smaller value (proceeding similarly to prob. 2) to an original variable and check the point where the two are the same "
   ]
  },
  {
   "cell_type": "code",
   "execution_count": 6,
   "metadata": {},
   "outputs": [
    {
     "name": "stdout",
     "output_type": "stream",
     "text": [
      "The maximum precision is: 1e-323\n"
     ]
    }
   ],
   "source": [
    "var = 2\n",
    "tmp = var\n",
    "\n",
    "exp = -1\n",
    "added = 10\n",
    "count = 0\n",
    "while count != 324:\n",
    "    if (added**exp) == 0.0:\n",
    "        break\n",
    "    tmp = tmp + added**exp\n",
    "    exp -= 1\n",
    "    count += 1\n",
    "print(\"The maximum precision is: \" + str(added**(exp+1)))\n"
   ]
  },
  {
   "cell_type": "markdown",
   "metadata": {},
   "source": [
    "5\\. Write a function that takes in input three parameters $a$, $b$ and $c$ and prints out the two solutions to the quadratic equation $ax^2+bx+c=0$ using the standard formula:\n",
    "$$\n",
    "x=\\frac{-b\\pm\\sqrt{b^2-4ac}}{2a}\n",
    "$$\n",
    "\n",
    "(a) use the program to compute the solution for $a=0.001$, $b=1000$ and $c=0.001$\n",
    "\n",
    "(b) re-express the standard solution formula by multiplying top and bottom by $-b\\mp\\sqrt{b^2-4ac}$ and again find the solution for $a=0.001$, $b=1000$ and $c=0.001$. How does it compare with what previously obtained? Why?\n",
    "\n",
    "(c) write a function that compute the roots of a quadratic equation accurately in all cases"
   ]
  },
  {
   "cell_type": "code",
   "execution_count": 67,
   "metadata": {},
   "outputs": [
    {
     "name": "stdout",
     "output_type": "stream",
     "text": [
      "[-9.999894245993346e-07, -999999.999999]\n",
      "[-9.999894245993346e-07, -999999.9999990001]\n",
      "[-1.000000000001e-06, -999999.999999]\n"
     ]
    }
   ],
   "source": [
    "import math\n",
    "\n",
    "# a\n",
    "def quad_equation(a, b, c):\n",
    "    sol = [(-b + ((b**2-4*a*c)**(1/2))) / (2*a), (-b - ((b**2-4*a*c)**(1/2)))/ (2*a)]\n",
    "    return sol\n",
    "\n",
    "print(quad_equation(0.001, 1000, 0.001))\n",
    "\n",
    "# b\n",
    "def quad_equation_re(a, b, c):\n",
    "    sol = [((-b + math.sqrt(b**2-4*a*c))*(-b - math.sqrt(b**2-4*a*c))) / ((2*a)*(-b - math.sqrt(b**2-4*a*c))), \n",
    "           ((-b - math.sqrt(b**2-4*a*c))*(-b + math.sqrt(b**2-4*a*c))) / ((2*a)*(-b + math.sqrt(b**2-4*a*c)))]\n",
    "    return sol\n",
    "\n",
    "print(quad_equation_re(0.001, 1000, 0.001))\n",
    "\n",
    "# c\n",
    "def roots(a, b, c):\n",
    "    sol = [(2*c)/(-b - ((b**2 -4*a*c)**(1/2))), (-b-(b**2 -4*a*c)**(1/2))/(2*a)]\n",
    "    return sol\n",
    "print(roots(0.001, 1000, 0.001))"
   ]
  },
  {
   "cell_type": "markdown",
   "metadata": {},
   "source": [
    "6\\. Write a program that implements the function $f(x)=x(x−1)$\n",
    "\n",
    "(a) Calculate the derivative of the function at the point $x = 1$ using the derivative definition:\n",
    "\n",
    "$$\n",
    "\\frac{{\\rm d}f}{{\\rm d}x} = \\lim_{\\delta\\to0} \\frac{f(x+\\delta)-f(x)}{\\delta}\n",
    "$$\n",
    "\n",
    "with $\\delta = 10^{−2}$. Calculate the true value of the same derivative analytically and compare with the answer your program gives. The two will not agree perfectly. Why not?\n",
    "\n",
    "(b) Repeat the calculation for $\\delta = 10^{−4}, 10^{−6}, 10^{−8}, 10^{−10}, 10^{−12}$ and $10^{−14}$. How does the accuracy scales with $\\delta$?"
   ]
  },
  {
   "cell_type": "code",
   "execution_count": 72,
   "metadata": {},
   "outputs": [
    {
     "name": "stdout",
     "output_type": "stream",
     "text": [
      "The restul of the derivative is = 1.010000000000001\n",
      "The results are not perfectly matched due to the mathematical representation with infinitesimal calculation caused by the computational limits\n",
      "\n",
      "1.0000999999998899\n",
      "1.0000009999177333\n",
      "1.0000000039225287\n",
      "1.000000082840371\n",
      "1.0000889005833413\n",
      "0.9992007221626509\n",
      "\n",
      "For the first three values there is linear decrease, while after it has a increase\n",
      "With the last value we have a different result approximate down\n"
     ]
    }
   ],
   "source": [
    "# function  𝑓(𝑥)=𝑥(𝑥−1)\n",
    "def func(x):\n",
    "    return x*(x-1)\n",
    "\n",
    "def derivative(x, delta):\n",
    "    f = func(x)\n",
    "    f_delta = func(x+delta)\n",
    "    return (f_delta-f)/delta\n",
    "    \n",
    "\n",
    "# a\n",
    "x = 1\n",
    "delta = 10**(-2)\n",
    "\n",
    "res = derivative(x, delta)\n",
    "print(\"The restul of the derivative is = \" + str(res))\n",
    "print(\"The results are not perfectly matched due to the mathematical representation with infinitesimal calculation caused by the computational limits\\n\")\n",
    "\n",
    "# b\n",
    "delta_list = [1e-4, 1e-6, 1e-8, 1e-10, 1e-12, 1e-14]\n",
    "for d in delta_list:\n",
    "    print(derivative(x, d))\n",
    "print(\"\\nFor the first three values there is linear decrease, while after it has a increase\")\n",
    "print(\"With the last value we have a different result approximate down\")"
   ]
  },
  {
   "cell_type": "markdown",
   "metadata": {},
   "source": [
    "7\\. Consider the integral of the semicircle of radius 1:\n",
    "$$\n",
    "I=\\int_{-1}^{1} \\sqrt(1-x^2) {\\rm d}x\n",
    "$$\n",
    "which it's known to be $I=\\frac{\\pi}{2}=1.57079632679...$.\n",
    "Alternatively we can use the Riemann definition of the integral:\n",
    "$$\n",
    "I=\\lim_{N\\to\\infty} \\sum_{k=1}^{N} h y_k \n",
    "$$\n",
    "\n",
    "with $h=2/N$ the width of each of the $N$ slices the domain is divided into and where\n",
    "$y_k$ is the value of the function at the $k-$th slice.\n",
    "\n",
    "(a) Write a programe to compute the integral with $N=100$. How does the result compares to the true value?\n",
    "\n",
    "(b) How much can $N$ be increased if the computation needs to be run in less than a second? What is the gain in running it for 1 minute? \n"
   ]
  },
  {
   "cell_type": "code",
   "execution_count": 68,
   "metadata": {},
   "outputs": [
    {
     "name": "stdout",
     "output_type": "stream",
     "text": [
      "The riemann definition with N = 100 : 1.5691342555492498\n",
      "Compared to the true value it is lower then it about by a 0.001: 0.001662071245646768\n",
      "Accuracy: 0.9989418925819377\n",
      "\n",
      "Time elapsed = 0.9453005790710449\n",
      "Value found in this time = 1.5707963266207092\n",
      "Compared to the true value it is lower then it about by a 0.001: 1.741873312255393e-10\n",
      "Accuracy: 0.9999999998891089\n",
      "\n",
      "Time elapsed = 84.08630084991455\n",
      "Value found in this time = 1.5707963267954925\n",
      "Compared to the true value it is lower then it about by a 0.001: -5.95967719618784e-13\n",
      "Accuracy: 1.0000000000003795\n",
      "We can have more accuracy with more \"slices\"\n"
     ]
    }
   ],
   "source": [
    "from math import sqrt, pi\n",
    "import time\n",
    "\n",
    "# a Riemann definition of integral\n",
    "def riemann_integral(N):\n",
    "    h = 2/N\n",
    "    summing = 0\n",
    "    for k in range(N):\n",
    "        summing += math.sqrt(1 - (-1+(h*k))**2)\n",
    "        \n",
    "    return h*summing\n",
    "\n",
    "N = 100\n",
    "found = riemann_integral(N)\n",
    "true_value = pi/2\n",
    "print(\"The riemann definition with N = 100 : \" + str(found))\n",
    "print(\"Compared to the true value it is lower then it about by a 0.001: \" + str(true_value-found))\n",
    "print(\"Accuracy: \" + str(found/true_value))\n",
    "\n",
    "\n",
    "# b find max N for max 1 second of computation\n",
    "starting = time.time()\n",
    "value = riemann_integral(4500000)\n",
    "diff = time.time() - starting\n",
    "print(\"\\nTime elapsed = \" + str(diff))\n",
    "print(\"Value found in this time = \" + str(value))\n",
    "print(\"Compared to the true value it is lower then it about by a 0.001: \" + str(true_value-value))\n",
    "print(\"Accuracy: \" + str(value/true_value))\n",
    "\n",
    "# with 1 minute\n",
    "starting = time.time()\n",
    "value = riemann_integral(400000000)\n",
    "diff = time.time() - starting\n",
    "print(\"\\nTime elapsed = \" + str(diff))\n",
    "print(\"Value found in this time = \" + str(value))\n",
    "print(\"Compared to the true value it is lower then it about by a 0.001: \" + str(true_value-value))\n",
    "print(\"Accuracy: \" + str(value/true_value))\n",
    "print(\"We can have more accuracy with more \\\"slices\\\"\")\n",
    "\n",
    "\n",
    "   "
   ]
  },
  {
   "cell_type": "code",
   "execution_count": null,
   "metadata": {},
   "outputs": [],
   "source": []
  }
 ],
 "metadata": {
  "kernelspec": {
   "display_name": "Python 3",
   "language": "python",
   "name": "python3"
  },
  "language_info": {
   "codemirror_mode": {
    "name": "ipython",
    "version": 3
   },
   "file_extension": ".py",
   "mimetype": "text/x-python",
   "name": "python",
   "nbconvert_exporter": "python",
   "pygments_lexer": "ipython3",
   "version": "3.7.6"
  }
 },
 "nbformat": 4,
 "nbformat_minor": 2
}
