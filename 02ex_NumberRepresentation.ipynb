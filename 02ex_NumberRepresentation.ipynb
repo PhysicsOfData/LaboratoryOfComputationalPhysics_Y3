{
 "cells": [
  {
   "cell_type": "markdown",
   "metadata": {},
   "source": [
    "1\\. Write a function that converts number representation (bin<->dec<->hex)"
   ]
  },
  {
   "cell_type": "code",
   "execution_count": 2,
   "metadata": {},
   "outputs": [
    {
     "name": "stdout",
     "output_type": "stream",
     "text": [
      "Give me a number : 0b0101\n",
      "What is the base? 2\n",
      "Convert to what base? 10\n",
      "In base2 :: 5\n"
     ]
    },
    {
     "data": {
      "text/plain": [
       "5"
      ]
     },
     "execution_count": 2,
     "metadata": {},
     "output_type": "execute_result"
    }
   ],
   "source": [
    "def converts_number():\n",
    "    a = input('Give me a number : ')\n",
    "    b = int(input('What is the base? '))\n",
    "    c = int(input('Convert to what base? '))\n",
    "    if not b in [2,10,16]:\n",
    "        print('Input base ({0}) is not supported' .format(b))\n",
    "        return None\n",
    "    res = int(a,b)  #convert input number from input base to base 10\n",
    "    if c==2:\n",
    "        print('In base2 :: {0}' .format(bin(res)))\n",
    "        return bin(res)\n",
    "    elif c==10:\n",
    "        print('In base2 :: {0}' .format(res))\n",
    "        return res\n",
    "    elif c==16:\n",
    "        print('In base2 :: {0}' .format(hex(res)))\n",
    "        return hex(res)\n",
    "    else:\n",
    "        print('Not supported base({0})' . format(c))\n",
    "        return None\n",
    "    \n",
    "converts_number()    \n",
    "    "
   ]
  },
  {
   "cell_type": "markdown",
   "metadata": {},
   "source": [
    "2\\. Write a function that converts a 32 bit word into a single precision floating point (i.e. interprets the various bits as sign, mantissa and exponent)"
   ]
  },
  {
   "cell_type": "code",
   "execution_count": 16,
   "metadata": {},
   "outputs": [
    {
     "name": "stdout",
     "output_type": "stream",
     "text": [
      "1.316553672920962e-36\n",
      "input string must have 32 characters!\n",
      "None\n"
     ]
    }
   ],
   "source": [
    "def Word2Float(word):\n",
    "    if len(word) != 32:\n",
    "        print('input string must have 32 characters!')\n",
    "        return None\n",
    "    for i in word:\n",
    "        if not i in ['0','1']:\n",
    "            print('Given string include something other than 0 , 1!')\n",
    "            return None\n",
    "\n",
    "    mantissa = int(word[9:] , 2) / 2**23 + 1.0\n",
    "    expon = 2 ** (int(word[1:9], 2) - 127 )\n",
    "    sign = (-1) ** int(word[0], 2)\n",
    "    res = sign * mantissa * expon\n",
    "    return res\n",
    "    \n",
    "w='00000011111000000000000000000000' \n",
    "print(Word2Float(w))\n",
    "w='11111000000000000000000000'\n",
    "print(Word2Float(w))"
   ]
  },
  {
   "cell_type": "markdown",
   "metadata": {},
   "source": [
    "3\\. Write a program to determine the underflow and overflow limits (within a factor of 2) for python on your computer. \n",
    "\n",
    "**Tips**: define two variables inizialized to 1 and halve/double them enough time to exceed the under/over-flow limits  "
   ]
  },
  {
   "cell_type": "code",
   "execution_count": 5,
   "metadata": {},
   "outputs": [
    {
     "name": "stdout",
     "output_type": "stream",
     "text": [
      "number of times :: 1074, w became 0.0\n"
     ]
    }
   ],
   "source": [
    "# underflow\n",
    "w = 1.0\n",
    "for i in range(10000):\n",
    "    w /= 2\n",
    "    if (w <= 0.0):\n",
    "        print('number of times :: {0}, w became {1}'.format(i,w))\n",
    "        break\n",
    " \n"
   ]
  },
  {
   "cell_type": "code",
   "execution_count": 8,
   "metadata": {},
   "outputs": [
    {
     "name": "stdout",
     "output_type": "stream",
     "text": [
      "number of times :: 1023, v became inf\n"
     ]
    }
   ],
   "source": [
    "# overflow\n",
    "import math\n",
    "v=1.0\n",
    "for i in range(10000):\n",
    "    v *= 2\n",
    "    if (v == math.inf):\n",
    "        print('number of times :: {0}, v became {1}'.format(i,v))\n",
    "        break"
   ]
  },
  {
   "cell_type": "markdown",
   "metadata": {},
   "source": [
    "4\\. Write a program to determine the machine precision\n",
    "\n",
    "**Tips**: define a new variable by adding a smaller and smaller value (proceeding similarly to prob. 2) to an original variable and check the point where the two are the same "
   ]
  },
  {
   "cell_type": "code",
   "execution_count": 9,
   "metadata": {},
   "outputs": [
    {
     "name": "stdout",
     "output_type": "stream",
     "text": [
      "Number of significant digits :: 16\n"
     ]
    }
   ],
   "source": [
    "i = 0\n",
    "while True:\n",
    "    if (10**(-i) + 1.0 - 1.0 ==0 ):\n",
    "        print('Number of significant digits :: {}' .format(i))\n",
    "        break\n",
    "    i += 1    "
   ]
  },
  {
   "cell_type": "markdown",
   "metadata": {},
   "source": [
    "5\\. Write a function that takes in input three parameters $a$, $b$ and $c$ and prints out the two solutions to the quadratic equation $ax^2+bx+c=0$ using the standard formula:\n",
    "$$\n",
    "x=\\frac{-b\\pm\\sqrt{b^2-4ac}}{2a}\n",
    "$$\n",
    "\n",
    "(a) use the program to compute the solution for $a=0.001$, $b=1000$ and $c=0.001$\n",
    "\n",
    "(b) re-express the standard solution formula by multiplying top and bottom by $-b\\mp\\sqrt{b^2-4ac}$ and again find the solution for $a=0.001$, $b=1000$ and $c=0.001$. How does it compare with what previously obtained? Why?\n",
    "\n",
    "(c) write a function that compute the roots of a quadratic equation accurately in all cases"
   ]
  },
  {
   "cell_type": "code",
   "execution_count": 8,
   "metadata": {},
   "outputs": [
    {
     "name": "stdout",
     "output_type": "stream",
     "text": [
      "a :: 0.001\n",
      "b :: 1000\n",
      "c :: 0.001\n",
      "The first solution for the quadratic equation is -9.999894245993345e-13 and the second solution is -0.999999999999\n",
      "a :: 0.001\n",
      "b :: 1000\n",
      "c :: 0.001\n",
      "The first solution for the quadratic equation is -9.999894245993346e-07 and the second solution is -999999.999999\n"
     ]
    }
   ],
   "source": [
    "import math\n",
    "def solution ():\n",
    "    a = float(input('a :: '))\n",
    "    b = float(input('b :: '))\n",
    "    c = float(input('c :: '))\n",
    "    x1 = (-b + math.sqrt(b**2 - 4*a*c)) / 2*a\n",
    "    x2 = (-b - math.sqrt(b**2 - 4*a*c)) / 2*a\n",
    "    print('The first solution for the quadratic equation is {0} and the second solution is {1}'.format(x1,x2))\n",
    "    return\n",
    "solution ()\n",
    "\n",
    "import math\n",
    "def solution ():\n",
    "    a = float(input('a :: '))\n",
    "    b = float(input('b :: '))\n",
    "    c = float(input('c :: '))\n",
    "    d1 = (-b + math.sqrt(b**2 - 4*a*c))\n",
    "    d2 = (-b - math.sqrt(b**2 - 4*a*c))\n",
    "    x1 = ((-b + math.sqrt(b**2 - 4*a*c)) * d1 ) / ((2 * a) * d1 )\n",
    "    x2 = ((-b - math.sqrt(b**2 - 4*a*c)) * d2 ) / ((2 * a) * d2 )\n",
    "    print('The first solution for the quadratic equation is {0} and the second solution is {1}'.format(x1,x2))\n",
    "    return\n",
    "solution ()"
   ]
  },
  {
   "cell_type": "markdown",
   "metadata": {},
   "source": [
    "6\\. Write a program that implements the function $f(x)=x(x−1)$\n",
    "\n",
    "(a) Calculate the derivative of the function at the point $x = 1$ using the derivative definition:\n",
    "\n",
    "$$\n",
    "\\frac{{\\rm d}f}{{\\rm d}x} = \\lim_{\\delta\\to0} \\frac{f(x+\\delta)-f(x)}{\\delta}\n",
    "$$\n",
    "\n",
    "with $\\delta = 10^{−2}$. Calculate the true value of the same derivative analytically and compare with the answer your program gives. The two will not agree perfectly. Why not?\n",
    "\n",
    "(b) Repeat the calculation for $\\delta = 10^{−4}, 10^{−6}, 10^{−8}, 10^{−10}, 10^{−12}$ and $10^{−14}$. How does the accuracy scales with $\\delta$?"
   ]
  },
  {
   "cell_type": "code",
   "execution_count": 11,
   "metadata": {},
   "outputs": [
    {
     "name": "stdout",
     "output_type": "stream",
     "text": [
      "1.010000000000001\n",
      "[1.010000000000001, 1.0000999999998899, 1.0000009999177333, 1.0000000039225287, 1.000000082840371, 1.0000889005833413, 0.9992007221626509]\n"
     ]
    }
   ],
   "source": [
    "def f(x):\n",
    "    y = x * (x - 1)\n",
    "    return y\n",
    "\n",
    "x=1\n",
    "Delta = 10 ** (-2)\n",
    "derivative_F = (f(x + Delta) - f(x)) / Delta\n",
    "print(derivative_F)\n",
    "\n",
    "\n",
    "derivative_F = []\n",
    "for i in [2,4,6,8,10,12,14]:\n",
    "    Delta = 10 **(-i)\n",
    "    derivative_F.append((f(x + Delta) - f(x)) / Delta) \n",
    "\n",
    "print(derivative_F)"
   ]
  },
  {
   "cell_type": "markdown",
   "metadata": {},
   "source": [
    "7\\. Consider the integral of the semicircle of radius 1:\n",
    "$$\n",
    "I=\\int_{-1}^{1} \\sqrt(1-x^2) {\\rm d}x\n",
    "$$\n",
    "which it's known to be $I=\\frac{\\pi}{2}=1.57079632679...$.\n",
    "Alternatively we can use the Riemann definition of the integral:\n",
    "$$\n",
    "I=\\lim_{N\\to\\infty} \\sum_{k=1}^{N} h y_k \n",
    "$$\n",
    "\n",
    "with $h=2/N$ the width of each of the $N$ slices the domain is divided into and where\n",
    "$y_k$ is the value of the function at the $k-$th slice.\n",
    "\n",
    "(a) Write a programe to compute the integral with $N=100$. How does the result compares to the true value?\n",
    "\n",
    "(b) How much can $N$ be increased if the computation needs to be run in less than a second? What is the gain in running it for 1 minute? \n"
   ]
  },
  {
   "cell_type": "code",
   "execution_count": 33,
   "metadata": {},
   "outputs": [
    {
     "name": "stdout",
     "output_type": "stream",
     "text": [
      "1.5534179294048955\n",
      "135 ns ± 10.7 ns per loop (mean ± std. dev. of 7 runs, 10000000 loops each)\n"
     ]
    }
   ],
   "source": [
    "import numpy as np\n",
    "import math\n",
    "x = np.linspace(-1,1,100)\n",
    "y=np.sqrt(1-x**2)\n",
    "res = (2/100) * y\n",
    "Integral = np.sum(res)\n",
    "print (Integral)\n",
    "\n",
    "%timeit Integral\n",
    "\n"
   ]
  },
  {
   "cell_type": "code",
   "execution_count": null,
   "metadata": {},
   "outputs": [],
   "source": []
  }
 ],
 "metadata": {
  "kernelspec": {
   "display_name": "Python 3",
   "language": "python",
   "name": "python3"
  },
  "language_info": {
   "codemirror_mode": {
    "name": "ipython",
    "version": 3
   },
   "file_extension": ".py",
   "mimetype": "text/x-python",
   "name": "python",
   "nbconvert_exporter": "python",
   "pygments_lexer": "ipython3",
   "version": "3.8.3"
  }
 },
 "nbformat": 4,
 "nbformat_minor": 2
}
