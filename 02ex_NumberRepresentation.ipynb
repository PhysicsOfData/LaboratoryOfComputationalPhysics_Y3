{
 "cells": [
  {
   "cell_type": "code",
   "execution_count": 1,
   "metadata": {},
   "outputs": [],
   "source": [
    "import sys\n",
    "import math as np\n"
   ]
  },
  {
   "cell_type": "markdown",
   "metadata": {},
   "source": [
    "1\\. Write a function that converts number representation (bin<->dec<->hex)"
   ]
  },
  {
   "cell_type": "code",
   "execution_count": 2,
   "metadata": {},
   "outputs": [
    {
     "name": "stdout",
     "output_type": "stream",
     "text": [
      "[1, 8]\n"
     ]
    }
   ],
   "source": [
    "def convert(x,input_base,output_base):\n",
    "    n=int(str(x),input_base)\n",
    "    conv_num=[]\n",
    "    i=0\n",
    "    while not n==0:\n",
    "        R = n%output_base\n",
    "        if(R>=input_base): R = chr(ord('A') + R-input_base)\n",
    "        conv_num.insert(0,R)\n",
    "        n = n//output_base\n",
    "        i+=1\n",
    "    return conv_num\n",
    "print(convert(24,10,16))"
   ]
  },
  {
   "cell_type": "markdown",
   "metadata": {},
   "source": [
    "2\\. Write a function that converts a 32 bit word into a single precision floating point (i.e. interprets the various bits as sign, mantissa and exponent)"
   ]
  },
  {
   "cell_type": "code",
   "execution_count": 3,
   "metadata": {},
   "outputs": [
    {
     "name": "stdout",
     "output_type": "stream",
     "text": [
      "1.100000023841858\n"
     ]
    }
   ],
   "source": [
    "def spfp(bits):\n",
    "    bits = list(bits)\n",
    "    bits.reverse()\n",
    "    f_bit = bits[0:23]  #first 22 bits\n",
    "    f_bit = [int(i) for i in f_bit] #convert to numbers \n",
    "    e_bit = bits[23:31]\n",
    "    e_bit = [int(i) for i in e_bit] #convert to numbers \n",
    "    s_bit = int(bits[31]) #sign bit\n",
    "    \n",
    "    exponent=sum([e_bit[i]*(2**i) for i in range(len(e_bit))])\n",
    "\n",
    "    mantissa=1\n",
    "    for i in range(len(f_bit)):\n",
    "        mantissa+=f_bit[len(f_bit)-(i+1)]*(2**(-i-1))\n",
    "    num = ((-1)**s_bit)*mantissa*(2**(exponent - 127))\n",
    "    \n",
    "    return num\n",
    "\n",
    "print(spfp(\"00111111100011001100110011001101\"))"
   ]
  },
  {
   "cell_type": "markdown",
   "metadata": {},
   "source": [
    "3\\. Write a program to determine the underflow and overflow limits (within a factor of 2) for python on your computer. \n",
    "\n",
    "**Tips**: define two variables inizialized to 1 and halve/double them enough time to exceed the under/over-flow limits  "
   ]
  },
  {
   "cell_type": "code",
   "execution_count": 4,
   "metadata": {},
   "outputs": [
    {
     "name": "stdout",
     "output_type": "stream",
     "text": [
      "min value available =5e-324 with 1074 iterations\n",
      "max value available =8.98846567431158e+307 with 1023 iterations\n"
     ]
    }
   ],
   "source": [
    "\n",
    "x=1.\n",
    "i=0\n",
    "while x/2>0:\n",
    "    x=x/2\n",
    "    i+=1\n",
    "print('min value available ='+str(x)+' with '+str(i)+' iterations')\n",
    "\n",
    "x=1.\n",
    "i=0\n",
    "#while x*2<sys.maxsize:\n",
    "while x*2<np.inf:\n",
    "    x=x*2\n",
    "    i+=1\n",
    "print('max value available ='+str(x)+' with '+str(i)+' iterations')\n"
   ]
  },
  {
   "cell_type": "markdown",
   "metadata": {},
   "source": [
    "4\\. Write a program to determine the machine precision\n",
    "\n",
    "**Tips**: define a new variable by adding a smaller and smaller value (proceeding similarly to prob. 2) to an original variable and check the point where the two are the same "
   ]
  },
  {
   "cell_type": "code",
   "execution_count": 5,
   "metadata": {},
   "outputs": [
    {
     "name": "stdout",
     "output_type": "stream",
     "text": [
      "-17\n",
      "2.0\n"
     ]
    }
   ],
   "source": [
    "var1=2\n",
    "var2=3\n",
    "i=-1\n",
    "while(var2!=var1):\n",
    "    var2=var1+10**i\n",
    "    i=i-1\n",
    "    \n",
    "print(i)\n",
    "print(var2)"
   ]
  },
  {
   "cell_type": "markdown",
   "metadata": {},
   "source": [
    "5\\. Write a function that takes in input three parameters $a$, $b$ and $c$ and prints out the two solutions to the quadratic equation $ax^2+bx+c=0$ using the standard formula:\n",
    "$$\n",
    "x=\\frac{-b\\pm\\sqrt{b^2-4ac}}{2a}\n",
    "$$\n",
    "\n",
    "(a) use the program to compute the solution for $a=0.001$, $b=1000$ and $c=0.001$\n",
    "\n",
    "(b) re-express the standard solution formula by multiplying top and bottom by $-b\\mp\\sqrt{b^2-4ac}$ and again find the solution for $a=0.001$, $b=1000$ and $c=0.001$. How does it compare with what previously obtained? Why?\n",
    "\n",
    "(c) write a function that compute the roots of a quadratic equation accurately in all cases"
   ]
  },
  {
   "cell_type": "code",
   "execution_count": 6,
   "metadata": {},
   "outputs": [
    {
     "name": "stdout",
     "output_type": "stream",
     "text": [
      "(-9.999894245993346e-07, -999999.999999)\n",
      "(-9.999894245993344e-07, -999999.999999)\n",
      "The two solutions are slightly different just in the first solution's least significative digits\n",
      "(-1.00000761449337e-06, -999999.999999)\n"
     ]
    }
   ],
   "source": [
    "#def realOrComplex(function):\n",
    "#    def wrapper(arg):\n",
    "#        func = finction(arg)\n",
    "#        if len(func)==2:\n",
    "#            print('Solutions are real')\n",
    "#        else:\n",
    "#            print('Solution are complex')\n",
    "#        return func\n",
    "#    return wrapper\n",
    "\n",
    "\n",
    "def zerosParabola(a,b,c): #a,b,c coefficient of equation ax^2+bx+c=0\n",
    "    delta=b**2-4*a*c\n",
    "    #x1=(-b+mp.sqrt(delta))/2/a\n",
    "    #x2=(-b-mp.sqrt(delta))/2/a\n",
    "    x1=(-b+delta**(1/2))/2/a\n",
    "    x2=(-b-delta**(1/2))/2/a\n",
    "    return x1, x2\n",
    "    \n",
    "def zerosAlt(a,b,c):\n",
    "    delta=b**2-4*a*c\n",
    "    x1=(-b+delta**(1/2))*(-b-delta**1/2)/2/a/(-b-delta**1/2)\n",
    "    x2=(-b-delta**(1/2))*(-b+delta**1/2)/2/a/(-b+delta**1/2)\n",
    "    return x1, x2\n",
    "\n",
    "a=0.001\n",
    "b=1000\n",
    "c=0.001\n",
    "#@realOrComplex\n",
    "print(zerosParabola(a,b,c))\n",
    "print(zerosAlt(a,b,c))\n",
    "print('The two solutions are slightly different just in the first solution\\'s least significative digits')\n",
    "\n",
    "def zerosParCorrect(a,b,c):\n",
    "    delta=b**2-4*a*c\n",
    "    x1=-b/(2*a)+np.sqrt(delta)/(2*a)\n",
    "    x2=-b/(2*a)-np.sqrt(delta)/(2*a)\n",
    "    return x1, x2\n",
    "\n",
    "print(zerosParCorrect(a,b,c))\n"
   ]
  },
  {
   "cell_type": "markdown",
   "metadata": {},
   "source": [
    "6\\. Write a program that implements the function $f(x)=x(x−1)$\n",
    "\n",
    "(a) Calculate the derivative of the function at the point $x = 1$ using the derivative definition:\n",
    "\n",
    "$$\n",
    "\\frac{{\\rm d}f}{{\\rm d}x} = \\lim_{\\delta\\to0} \\frac{f(x+\\delta)-f(x)}{\\delta}\n",
    "$$\n",
    "\n",
    "with $\\delta = 10^{−2}$. Calculate the true value of the same derivative analytically and compare with the answer your program gives. The two will not agree perfectly. Why not?\n",
    "\n",
    "(b) Repeat the calculation for $\\delta = 10^{−4}, 10^{−6}, 10^{−8}, 10^{−10}, 10^{−12}$ and $10^{−14}$. How does the accuracy scales with $\\delta$?"
   ]
  },
  {
   "cell_type": "code",
   "execution_count": 7,
   "metadata": {},
   "outputs": [
    {
     "name": "stdout",
     "output_type": "stream",
     "text": [
      "1.010000000000001\n",
      "Now lets try with different values of delta\n",
      "1.010000000000001\n",
      "1.0000999999998899\n",
      "1.0000009999177333\n",
      "1.0000000039225287\n",
      "1.000000082840371\n",
      "1.0000889005833413\n",
      "0.9992007221626509\n",
      "It can be observed that the accuracy increases as delta decreases until the valuse delta= 1e-10 after that the accuracy decreases\n"
     ]
    }
   ],
   "source": [
    "def f(x):\n",
    "    return x*(x-1)\n",
    "\n",
    "def derivate(function,x,delta):\n",
    "    deriv=(function(x+delta)-function(x))/delta\n",
    "    return deriv\n",
    "\n",
    "delta=10**-2\n",
    "print(derivate(f,1,delta))\n",
    "\n",
    "print('Now lets try with different values of delta')\n",
    "\n",
    "for i in range(1,8):\n",
    "    delta=10**(-2*i)\n",
    "    print(derivate(f,1,delta))\n",
    "    \n",
    "print('It can be observed that the accuracy increases as delta decreases until the valuse delta= '+str(10**-10)+' after that the accuracy decreases')"
   ]
  },
  {
   "cell_type": "markdown",
   "metadata": {},
   "source": [
    "7\\. Consider the integral of the semicircle of radius 1:\n",
    "$$\n",
    "I=\\int_{-1}^{1} \\sqrt(1-x^2) {\\rm d}x\n",
    "$$\n",
    "which it's known to be $I=\\frac{\\pi}{2}=1.57079632679...$.\n",
    "Alternatively we can use the Riemann definition of the integral:\n",
    "$$\n",
    "I=\\lim_{N\\to\\infty} \\sum_{k=1}^{N} h y_k \n",
    "$$\n",
    "\n",
    "with $h=2/N$ the width of each of the $N$ slices the domain is divided into and where\n",
    "$y_k$ is the value of the function at the $k-$th slice.\n",
    "\n",
    "(a) Write a programe to compute the integral with $N=100$. How does the result compares to the true value?\n",
    "\n",
    "(b) How much can $N$ be increased if the computation needs to be run in less than a second? What is the gain in running it for 1 minute? \n"
   ]
  },
  {
   "cell_type": "code",
   "execution_count": 31,
   "metadata": {},
   "outputs": [
    {
     "name": "stdout",
     "output_type": "stream",
     "text": [
      "N= 100:\n",
      "1.5534179294048955\n",
      "The result just obtained is just approximately correct but not strictly equal to the real value since the number of iterations is too small\n",
      "Max Num of iteration in 1.0701367855072021 seconds: about 1440000\n",
      "Then max number of iterations in 1 miunte is: 86400000\n",
      "N= 1440000:\n",
      "1.5707952350016519\n",
      "The result after 59.52363038063049 seconds of iterations is 1.570796308612953\n"
     ]
    }
   ],
   "source": [
    "def RiemannInt(N,y):\n",
    "    h=2/N\n",
    "    return sum(h*y[k] for k in range(N))\n",
    "\n",
    "\n",
    "def f(N):\n",
    "    x=[-1+2/(N-1)*i for i in range(N)]\n",
    "    return [np.sqrt(1-x[i]**2) for i in range(N)]\n",
    "\n",
    "N=100\n",
    "\n",
    "\n",
    "y_k=f(N)\n",
    "print('N= '+str(len(y_k))+':')\n",
    "print(RiemannInt(N,f(N)))\n",
    "print('The result just obtained is just approximately correct but not strictly equal to the real value since the number of iterations is too small')\n",
    "\n",
    "import time\n",
    "\n",
    "N = 100000\n",
    "stop = 0\n",
    "while stop==0:\n",
    "    t1 = time.time() \n",
    "    RiemannInt(N,f(N))\n",
    "    t2 = time.time() - t1\n",
    "    if(t2>1):\n",
    "        stop = 1\n",
    "    N += 10000\n",
    "Nmax = N-10000\n",
    "print(\"Max Num of iteration in \" + str(t2) +\" seconds: about \" + str(Nmax))\n",
    "print('Then max number of iterations in 1 miunte is: '+str(Nmax*60))\n",
    "\n",
    "temp=RiemannInt(Nmax,f(Nmax))\n",
    "print('N= '+str(Nmax)+':')\n",
    "print(str(temp))\n",
    "#running code for 1 minute\n",
    "\n",
    "#Nmax_minute = Nmax*60\n",
    "\n",
    "t1 = time.time()\n",
    "res = RiemannInt(Nmax*60,f(Nmax*60))   \n",
    "t2 = time.time() - t1\n",
    "print(\"The result after \" +str(t2)+ \" seconds of iterations is \" + str(res))\n"
   ]
  },
  {
   "cell_type": "code",
   "execution_count": null,
   "metadata": {},
   "outputs": [],
   "source": []
  }
 ],
 "metadata": {
  "kernelspec": {
   "display_name": "Python 3",
   "language": "python",
   "name": "python3"
  },
  "language_info": {
   "codemirror_mode": {
    "name": "ipython",
    "version": 3
   },
   "file_extension": ".py",
   "mimetype": "text/x-python",
   "name": "python",
   "nbconvert_exporter": "python",
   "pygments_lexer": "ipython3",
   "version": "3.7.3"
  }
 },
 "nbformat": 4,
 "nbformat_minor": 2
}
