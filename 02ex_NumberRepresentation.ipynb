{
 "cells": [
  {
   "cell_type": "markdown",
   "metadata": {},
   "source": [
    "1\\. Write a function that converts number representation (bin<->dec<->hex)"
   ]
  },
  {
   "cell_type": "code",
   "execution_count": 36,
   "metadata": {},
   "outputs": [
    {
     "name": "stdout",
     "output_type": "stream",
     "text": [
      "0b1011100\n",
      "92\n"
     ]
    }
   ],
   "source": [
    "def base_converter(number, targetbase = 2):\n",
    "    characters = list(\"0123456789abcdef\") ## to be extended if you want to convert with sourcebase>16\n",
    "    try:\n",
    "        number[1]\n",
    "    except:\n",
    "        val10 = number\n",
    "    else:\n",
    "        if( number[1] == 'b' ): sourcebase = 2\n",
    "        elif( number[1] == 'x' ): sourcebase = 16\n",
    "        ## 'elif' to add other sourcebases, if needed.\n",
    "        number = number[:1:-1]\n",
    "        val10 = 0\n",
    "        for i,j in enumerate(number):\n",
    "            val10 += characters.index(j) * sourcebase**i\n",
    "    \n",
    "    if( targetbase == 10 ): return val10\n",
    "    \n",
    "    val = \"\"\n",
    "    while( val10 > 0 ):\n",
    "        rem = val10 % targetbase\n",
    "        val = characters[rem] + val\n",
    "        val10 = val10 // targetbase\n",
    "    return val\n",
    "\n",
    "test = bin(92)\n",
    "print(test)\n",
    "print(base_converter(test, 10))"
   ]
  },
  {
   "cell_type": "markdown",
   "metadata": {},
   "source": [
    "2\\. Write a function that converts a 32 bit word into a single precision floating point (i.e. interprets the various bits as sign, mantissa and exponent)"
   ]
  },
  {
   "cell_type": "code",
   "execution_count": 76,
   "metadata": {},
   "outputs": [
    {
     "data": {
      "text/plain": [
       "1.316553672920962e-36"
      ]
     },
     "execution_count": 76,
     "metadata": {},
     "output_type": "execute_result"
    }
   ],
   "source": [
    "def bin_to_f(string):\n",
    "    if( len(string) != 32 ): raise Exception(\"String requested is not 32bits long\")\n",
    "    bias = 127\n",
    "    sign = (-1)**int(string[0])\n",
    "    mantissa = 1\n",
    "    for i,j in enumerate(string[9:]):\n",
    "        mantissa += int(j) * 2**(int(-1-i))\n",
    "    exponent = int(\"0b\"+string[1:9], 2)\n",
    "    return sign * mantissa * 2**(exponent-bias)\n",
    "\n",
    "test = \"00000011111000000000000000000000\"\n",
    "bin_to_f(test)"
   ]
  },
  {
   "cell_type": "markdown",
   "metadata": {},
   "source": [
    "3\\. Write a program to determine the underflow and overflow limits (within a factor of 2) for python on your computer. \n",
    "\n",
    "**Tips**: define two variables inizialized to 1 and halve/double them enough time to exceed the under/over-flow limits  "
   ]
  },
  {
   "cell_type": "code",
   "execution_count": 93,
   "metadata": {},
   "outputs": [
    {
     "name": "stdout",
     "output_type": "stream",
     "text": [
      "The minimum float that can be represented is 5e-324\n",
      "The maximum float that can be represented is 8.98846567431158e+307\n"
     ]
    }
   ],
   "source": [
    "underflow, overflow = 0, 0\n",
    "var = 1\n",
    "while( var != 0 ):\n",
    "    var = var / 2\n",
    "    underflow += 1\n",
    "print(\"The minimum float that can be represented is\", 1/2**(underflow-1))\n",
    "var = 1.\n",
    "while( var < float(\"inf\") ):\n",
    "    var = var * 2\n",
    "    overflow += 1.\n",
    "print(\"The maximum float that can be represented is\", 2**(overflow-1))"
   ]
  },
  {
   "cell_type": "markdown",
   "metadata": {},
   "source": [
    "4\\. Write a program to determine the machine precision\n",
    "\n",
    "**Tips**: define a new variable by adding a smaller and smaller value (proceeding similarly to prob. 2) to an original variable and check the point where the two are the same "
   ]
  },
  {
   "cell_type": "code",
   "execution_count": 101,
   "metadata": {},
   "outputs": [
    {
     "name": "stdout",
     "output_type": "stream",
     "text": [
      "The precision is 5.551115123125783e-17\n"
     ]
    }
   ],
   "source": [
    "var = -5.420380183e15\n",
    "underflow = 0\n",
    "while( var != var + var / 2**underflow ):\n",
    "    underflow += 1\n",
    "print(\"The precision is\", 1/2**underflow)"
   ]
  },
  {
   "cell_type": "markdown",
   "metadata": {},
   "source": [
    "5\\. Write a function that takes in input three parameters $a$, $b$ and $c$ and prints out the two solutions to the quadratic equation $ax^2+bx+c=0$ using the standard formula:\n",
    "$$\n",
    "x=\\frac{-b\\pm\\sqrt{b^2-4ac}}{2a}\n",
    "$$\n",
    "\n",
    "(a) use the program to compute the solution for $a=0.001$, $b=1000$ and $c=0.001$\n",
    "\n",
    "(b) re-express the standard solution formula by multiplying top and bottom by $-b\\mp\\sqrt{b^2-4ac}$ and again find the solution for $a=0.001$, $b=1000$ and $c=0.001$. How does it compare with what previously obtained? Why?\n",
    "\n",
    "(c) write a function that compute the roots of a quadratic equation accurately in all cases"
   ]
  },
  {
   "cell_type": "code",
   "execution_count": 116,
   "metadata": {},
   "outputs": [
    {
     "name": "stdout",
     "output_type": "stream",
     "text": [
      "Case a): (-9.999894245993346e-07, -999999.999999)\n",
      "Case b): (-1.000000000001e-06, -1000010.5755125057)\n",
      "Case c): (-1.000000000001e-06, -999999.999999)\n",
      "3937.007874007874\n"
     ]
    }
   ],
   "source": [
    "def quadratic_a(a, b, c):\n",
    "    x1 = ( -b + (b**2 - 4*a*c)**0.5 ) / 2 / a\n",
    "    x2 = ( -b - (b**2 - 4*a*c)**0.5 ) / 2 / a\n",
    "    return x1,x2\n",
    "\n",
    "def quadratic_b(a, b, c):\n",
    "    x1 = 2 * c / ( -b - (b**2 - 4*a*c)**0.5)\n",
    "    x2 = 2 * c / ( -b + (b**2 - 4*a*c)**0.5)\n",
    "    return x1,x2\n",
    "\n",
    "def quadratic_c(a, b, c):\n",
    "    x1 = 2 * c / ( -b - (b**2 - 4*a*c)**0.5)\n",
    "    x2 = ( -b - (b**2 - 4*a*c)**0.5 ) / 2 / a\n",
    "    return x1,x2\n",
    "\n",
    "### A)\n",
    "print(\"Case a):\", quadratic_a(0.001, 1000, 0.001))\n",
    "\n",
    "### B)\n",
    "print(\"Case b):\", quadratic_b(0.001, 1000, 0.001))\n",
    "\n",
    "### C)\n",
    "print(\"Case c):\", quadratic_c(0.001, 1000, 0.001))\n",
    "\n",
    "print((15500031)**0.5)"
   ]
  },
  {
   "cell_type": "markdown",
   "metadata": {},
   "source": [
    "The correct solutions should be $x_1=-10^{-6}$ and $x_2=-(10^6-10^{-6})$\n",
    "\n",
    "In the case _a)_ we have a very accurate solution for $x_2$, but $x_1$ has a wrong value at the fifth significant digit. In the case _b)_ we have the opposite situation: a very precise value for $x_1$ and a wrong fifth significant digit for $x_2$\n",
    "\n",
    "We can explain these results considering underflow problems. Since the term $4ac$ is very small (order $10^-6$) compared to $b^2$ (order $10^6$), the square root $\\sqrt{b^2-4ac}\\simeq b$. In particular we have no difference between the square root and $b$ up to the 12th digit, so when we subtract the values, we lost the majority of the mantissa, so we lose the majority of the precision in the computation. In fact, in the cases when we add up the square root and $b$, we still have information in the whole mantissa.\n",
    "\n",
    "For this reason is a good idea to avoid subtracting the square root and the $b$ term, and in order to do this we can merge the formulas from case _a)_ and case _b)_ and have a precise solution with, at least, 12 valid digits."
   ]
  },
  {
   "cell_type": "markdown",
   "metadata": {},
   "source": [
    "6\\. Write a program that implements the function $f(x)=x(x−1)$\n",
    "\n",
    "(a) Calculate the derivative of the function at the point $x = 1$ using the derivative definition:\n",
    "\n",
    "$$\n",
    "\\frac{{\\rm d}f}{{\\rm d}x} = \\lim_{\\delta\\to0} \\frac{f(x+\\delta)-f(x)}{\\delta}\n",
    "$$\n",
    "\n",
    "with $\\delta = 10^{−2}$. Calculate the true value of the same derivative analytically and compare with the answer your program gives. The two will not agree perfectly. Why not?\n",
    "\n",
    "(b) Repeat the calculation for $\\delta = 10^{−4}, 10^{−6}, 10^{−8}, 10^{−10}, 10^{−12}$ and $10^{−14}$. How does the accuracy scales with $\\delta$?"
   ]
  },
  {
   "cell_type": "markdown",
   "metadata": {},
   "source": [
    "7\\. Consider the integral of the semicircle of radius 1:\n",
    "$$\n",
    "I=\\int_{-1}^{1} \\sqrt(1-x^2) {\\rm d}x\n",
    "$$\n",
    "which it's known to be $I=\\frac{\\pi}{2}=1.57079632679...$.\n",
    "Alternatively we can use the Riemann definition of the integral:\n",
    "$$\n",
    "I=\\lim_{N\\to\\infty} \\sum_{k=1}^{N} h y_k \n",
    "$$\n",
    "\n",
    "with $h=2/N$ the width of each of the $N$ slices the domain is divided into and where\n",
    "$y_k$ is the value of the function at the $k-$th slice.\n",
    "\n",
    "(a) Write a programe to compute the integral with $N=100$. How does the result compares to the true value?\n",
    "\n",
    "(b) How much can $N$ be increased if the computation needs to be run in less than a second? What is the gain in running it for 1 minute? \n"
   ]
  },
  {
   "cell_type": "code",
   "execution_count": null,
   "metadata": {},
   "outputs": [],
   "source": []
  }
 ],
 "metadata": {
  "kernelspec": {
   "display_name": "Python 3",
   "language": "python",
   "name": "python3"
  },
  "language_info": {
   "codemirror_mode": {
    "name": "ipython",
    "version": 3
   },
   "file_extension": ".py",
   "mimetype": "text/x-python",
   "name": "python",
   "nbconvert_exporter": "python",
   "pygments_lexer": "ipython3",
   "version": "3.8.5"
  }
 },
 "nbformat": 4,
 "nbformat_minor": 2
}
