{
 "cells": [
  {
   "cell_type": "markdown",
   "metadata": {},
   "source": [
    "1\\. Write a function that converts number representation (bin<->dec<->hex)"
   ]
  },
  {
   "cell_type": "code",
   "execution_count": 14,
   "metadata": {},
   "outputs": [
    {
     "name": "stdout",
     "output_type": "stream",
     "text": [
      "0xc\n",
      "0b1100\n",
      "0xf\n"
     ]
    }
   ],
   "source": [
    "def conversion(number, base_1, base_2):\n",
    "    if base_1 == 10:\n",
    "        if base_2 == 2:\n",
    "            return bin(number)\n",
    "        if base_2 == 16:\n",
    "            return hex(number)\n",
    "    else:\n",
    "        s_n = str(number)\n",
    "        if base_2 == 10:\n",
    "                return int(s_n,base_1)\n",
    "        else:\n",
    "            if base_1==2:\n",
    "                if base_2 == 16:\n",
    "                    return hex(int(s_n,base_1))\n",
    "            if base_1==16:\n",
    "                if base_2 == 2:\n",
    "                    return bin(int(s_n,base_1))\n",
    "    \n",
    "print(conversion(1100, 2, 16))\n",
    "print(conversion(\"c\", 16, 2))\n",
    "print(conversion(15, 10, 16))"
   ]
  },
  {
   "cell_type": "markdown",
   "metadata": {},
   "source": [
    "2\\. Write a function that converts a 32 bit word into a single precision floating point (i.e. interprets the various bits as sign, mantissa and exponent)"
   ]
  },
  {
   "cell_type": "code",
   "execution_count": 20,
   "metadata": {},
   "outputs": [
    {
     "name": "stdout",
     "output_type": "stream",
     "text": [
      "11000000101100000000000000000000\n",
      "32\n"
     ]
    },
    {
     "data": {
      "text/plain": [
       "'-2.703637006891261e-38'"
      ]
     },
     "execution_count": 20,
     "metadata": {},
     "output_type": "execute_result"
    }
   ],
   "source": [
    "def spfp_conversion(word):\n",
    "    print(word)\n",
    "    word=word[::-1]\n",
    "    print(len(word))\n",
    "    segno=word[31]\n",
    "    e=int(word[24:31],2)\n",
    "    bias=127\n",
    "    esp=e-bias\n",
    "    mantissa=int(word[0:24],2)\n",
    "    number = (1+ mantissa*0.1)*2**esp\n",
    "    if segno=='0':\n",
    "        return '+'+str(number)\n",
    "    else:\n",
    "        return '-'+str(number)\n",
    "\n",
    "spfp_conversion('11000000101100000000000000000000')"
   ]
  },
  {
   "cell_type": "markdown",
   "metadata": {},
   "source": [
    "3\\. Write a program to determine the underflow and overflow limits (within a factor of 2) for python on your computer. \n",
    "\n",
    "**Tips**: define two variables inizialized to 1 and halve/double them enough time to exceed the under/over-flow limits  "
   ]
  },
  {
   "cell_type": "code",
   "execution_count": 16,
   "metadata": {},
   "outputs": [
    {
     "name": "stdout",
     "output_type": "stream",
     "text": [
      "0.0\n",
      "1075\n",
      "inf\n",
      "1024\n",
      "179769313486231590772930519078902473361797697894230657273430081157732675805500963132708477322407536021120113879871393357658789768814416622492847430639474124377767893424865485276302219601246094119453082952085005768838150682342462881473913110540827237163350510684586298239947245938479716304835356329624224137216\n"
     ]
    }
   ],
   "source": [
    "detect_under=float(1)\n",
    "detect_over=float(1)\n",
    "i=0\n",
    "m=0\n",
    "while detect_under>0:\n",
    "    i +=1\n",
    "    detect_under=detect_under/2\n",
    "print(detect_under)\n",
    "print(i)\n",
    "\n",
    "while detect_over<float('Inf'):\n",
    "    m+=1\n",
    "    detect_over=detect_over*2\n",
    "    \n",
    "print(detect_over)\n",
    "print(m)\n",
    "print(2**m)"
   ]
  },
  {
   "cell_type": "markdown",
   "metadata": {},
   "source": [
    "4\\. Write a program to determine the machine precision\n",
    "\n",
    "**Tips**: define a new variable by adding a smaller and smaller value (proceeding similarly to prob. 2) to an original variable and check the point where the two are the same "
   ]
  },
  {
   "cell_type": "code",
   "execution_count": 36,
   "metadata": {},
   "outputs": [
    {
     "name": "stdout",
     "output_type": "stream",
     "text": [
      "1.1102230246251565e-16\n",
      "53\n",
      "1.0\n"
     ]
    }
   ],
   "source": [
    "var=float(1)\n",
    "eps=float(1)\n",
    "it=0\n",
    "while (var + eps) > var:\n",
    "    eps=eps/2\n",
    "    it +=1\n",
    "print(eps)\n",
    "print(it)\n",
    "print(var+eps)"
   ]
  },
  {
   "cell_type": "markdown",
   "metadata": {},
   "source": [
    "5\\. Write a function that takes in input three parameters $a$, $b$ and $c$ and prints out the two solutions to the quadratic equation $ax^2+bx+c=0$ using the standard formula:\n",
    "$$\n",
    "x=\\frac{-b\\pm\\sqrt{b^2-4ac}}{2a}\n",
    "$$\n",
    "\n",
    "(a) use the program to compute the solution for $a=0.001$, $b=1000$ and $c=0.001$\n",
    "\n",
    "(b) re-express the standard solution formula by multiplying top and bottom by $-b\\mp\\sqrt{b^2-4ac}$ and again find the solution for $a=0.001$, $b=1000$ and $c=0.001$. How does it compare with what previously obtained? Why?\n",
    "\n",
    "(c) write a function that compute the roots of a quadratic equation accurately in all cases"
   ]
  },
  {
   "cell_type": "code",
   "execution_count": 67,
   "metadata": {},
   "outputs": [
    {
     "name": "stdout",
     "output_type": "stream",
     "text": [
      "(-9.999894245993346e-07, -999999.999999)\n"
     ]
    }
   ],
   "source": [
    "import math\n",
    "def sol_eq(a,b,c):\n",
    "    d=math.sqrt(b**2-4*a*c)\n",
    "    x1=(-b+d)/(2*a)\n",
    "    x2=(-b-d)/(2*a)\n",
    "    return x1, x2\n",
    "\n",
    "print(sol_eq(0.001,1000,0.001))"
   ]
  },
  {
   "cell_type": "code",
   "execution_count": 68,
   "metadata": {},
   "outputs": [
    {
     "name": "stdout",
     "output_type": "stream",
     "text": [
      "(-1.0000000000009999e-06, -1000010.5755125057)\n"
     ]
    }
   ],
   "source": [
    "def sol_eq_2(a,b,c):\n",
    "    d=math.sqrt(b**2-4*a*c)\n",
    "    x1=4*a*c/((2*a)*(-b-d))\n",
    "    x2=4*a*c/((2*a)*(-b+d))\n",
    "    return x1, x2\n",
    "\n",
    "print(sol_eq_2(0.001,1000,0.001))"
   ]
  },
  {
   "cell_type": "code",
   "execution_count": 69,
   "metadata": {},
   "outputs": [
    {
     "name": "stdout",
     "output_type": "stream",
     "text": [
      "1.0575401665279555e-11\n",
      "10.575513505726121\n"
     ]
    }
   ],
   "source": [
    "for i in range(2):\n",
    "    print(sol_eq(0.001,1000,0.001)[i]-sol_eq_2(0.001,1000,0.001)[i])"
   ]
  },
  {
   "cell_type": "markdown",
   "metadata": {},
   "source": [
    "There are problems when we subtract numbers very close in value\n",
    "To obtain the rigth solution we have to compute the first solution with the standard formula and the second one with the formula used in the second case presented."
   ]
  },
  {
   "cell_type": "code",
   "execution_count": 28,
   "metadata": {},
   "outputs": [
    {
     "name": "stdout",
     "output_type": "stream",
     "text": [
      "(-1.0000000000009999e-06, -999999.999999)\n"
     ]
    }
   ],
   "source": [
    "def sol_eq_3(a,b,c):\n",
    "    d=math.sqrt(b**2-4*a*c)\n",
    "    x1=4*a*c/((2*a)*(-b-d))\n",
    "    x2=(-b-d)/(2*a)\n",
    "    \n",
    "    return x1,x2\n",
    "    \n",
    "print(sol_eq_3(0.001,1000,0.001))"
   ]
  },
  {
   "cell_type": "markdown",
   "metadata": {},
   "source": [
    "6\\. Write a program that implements the function $f(x)=x(x−1)$\n",
    "\n",
    "(a) Calculate the derivative of the function at the point $x = 1$ using the derivative definition:\n",
    "\n",
    "$$\n",
    "\\frac{{\\rm d}f}{{\\rm d}x} = \\lim_{\\delta\\to0} \\frac{f(x+\\delta)-f(x)}{\\delta}\n",
    "$$\n",
    "\n",
    "with $\\delta = 10^{−2}$. Calculate the true value of the same derivative analytically and compare with the answer your program gives. The two will not agree perfectly. Why not?\n",
    "\n",
    "(b) Repeat the calculation for $\\delta = 10^{−4}, 10^{−6}, 10^{−8}, 10^{−10}, 10^{−12}$ and $10^{−14}$. How does the accuracy scales with $\\delta$?"
   ]
  },
  {
   "cell_type": "code",
   "execution_count": 70,
   "metadata": {},
   "outputs": [],
   "source": [
    "def f(x):\n",
    "    return x*(x-1)"
   ]
  },
  {
   "cell_type": "code",
   "execution_count": 71,
   "metadata": {},
   "outputs": [
    {
     "name": "stdout",
     "output_type": "stream",
     "text": [
      "derivative, delta=10^-2: 1\n",
      "derivative with definition, delta=10^- 2 : 1.010000000000001\n",
      "derivative with definition, delta=10^- 4 : 1.0000999999998899\n",
      "derivative with definition, delta=10^- 6 : 1.0000009999177333\n",
      "derivative with definition, delta=10^- 8 : 1.0000000039225287\n",
      "derivative with definition, delta=10^- 10 : 1.000000082840371\n",
      "derivative with definition, delta=10^- 12 : 1.0000889005833413\n",
      "derivative with definition, delta=10^- 14 : 0.9992007221626509\n"
     ]
    }
   ],
   "source": [
    "def der(x,d):\n",
    "    delta=d\n",
    "    return (f(x+delta)-f(x))/delta\n",
    "\n",
    "def der2(x):\n",
    "    return 2*x-1\n",
    "\n",
    "print('derivative, delta=10^-2:',der2(1))\n",
    "\n",
    "for i in range(1,8):\n",
    "    print('derivative with definition, delta=10^-',2*i,':',der(1, 10**(-(2*i))))"
   ]
  },
  {
   "cell_type": "markdown",
   "metadata": {},
   "source": [
    "7\\. Consider the integral of the semicircle of radius 1:\n",
    "$$\n",
    "I=\\int_{-1}^{1} \\sqrt(1-x^2) {\\rm d}x\n",
    "$$\n",
    "which it's known to be $I=\\frac{\\pi}{2}=1.57079632679...$.\n",
    "Alternatively we can use the Riemann definition of the integral:\n",
    "$$\n",
    "I=\\lim_{N\\to\\infty} \\sum_{k=1}^{N} h y_k \n",
    "$$\n",
    "\n",
    "with $h=2/N$ the width of each of the $N$ slices the domain is divided into and where\n",
    "$y_k$ is the value of the function at the $k-$th slice.\n",
    "\n",
    "(a) Write a programe to compute the integral with $N=100$. How does the result compares to the true value?\n",
    "\n",
    "(b) How much can $N$ be increased if the computation needs to be run in less than a second? What is the gain in running it for 1 minute? \n"
   ]
  },
  {
   "cell_type": "code",
   "execution_count": 57,
   "metadata": {},
   "outputs": [
    {
     "name": "stdout",
     "output_type": "stream",
     "text": [
      "integral computation:  1.5691342555492493\n",
      "inegral compared:  0.0016620712407506844\n"
     ]
    }
   ],
   "source": [
    "import math\n",
    "def semicircle(x):\n",
    "    return math.sqrt(1-x**2)\n",
    "\n",
    "def integral(n):\n",
    "    N = n\n",
    "    h = 2/N\n",
    "    I=0\n",
    "    true_I=1.57079632679\n",
    "    value=-1\n",
    "    for i in range(1,N+1):\n",
    "        I+=h*semicircle(value)\n",
    "        value+=h\n",
    "    return (I,true_I-I)\n",
    "\n",
    "N=100\n",
    "\n",
    "I, I_comparison = integral(N)\n",
    "print(\"integral computation: \",I)\n",
    "print(\"inegral compared: \",true_I-I)\n",
    "\n",
    "\n"
   ]
  },
  {
   "cell_type": "code",
   "execution_count": 62,
   "metadata": {},
   "outputs": [
    {
     "name": "stdout",
     "output_type": "stream",
     "text": [
      "N: 100 result: (1.5691342555492493, 0.0016620712407506844)\n",
      "50.4 µs ± 2.79 µs per loop (mean ± std. dev. of 7 runs, 10000 loops each)\n",
      "\n",
      "N: 1000 result: (1.5707437385010703, 5.258828892973355e-05)\n",
      "510 µs ± 22.3 µs per loop (mean ± std. dev. of 7 runs, 1000 loops each)\n",
      "\n",
      "N: 10000 result: (1.5707946637153898, 1.6630746102475058e-06)\n",
      "5.19 ms ± 206 µs per loop (mean ± std. dev. of 7 runs, 100 loops each)\n",
      "\n",
      "N: 100000 result: (1.57079627420242, 5.258758006831954e-08)\n",
      "52.4 ms ± 3.9 ms per loop (mean ± std. dev. of 7 runs, 10 loops each)\n",
      "\n",
      "N: 1000000 result: (1.570796325147268, 1.642731950468601e-09)\n",
      "496 ms ± 11 ms per loop (mean ± std. dev. of 7 runs, 1 loop each)\n",
      "\n",
      "N: 10000000 result: (1.5707963267012999, 8.870015832940226e-11)\n",
      "5.11 s ± 146 ms per loop (mean ± std. dev. of 7 runs, 1 loop each)\n",
      "\n",
      "N: 100000000 result: (1.570796327457729, -6.677289832168753e-10)\n",
      "54.3 s ± 3.12 s per loop (mean ± std. dev. of 7 runs, 1 loop each)\n",
      "\n"
     ]
    }
   ],
   "source": [
    "N=100\n",
    "for i in range(7):\n",
    "    print('N:',N,'result:',integral(N))\n",
    "    %timeit integral(N)\n",
    "    N = N*10\n",
    "    print()"
   ]
  }
 ],
 "metadata": {
  "kernelspec": {
   "display_name": "Python 3",
   "language": "python",
   "name": "python3"
  },
  "language_info": {
   "codemirror_mode": {
    "name": "ipython",
    "version": 3
   },
   "file_extension": ".py",
   "mimetype": "text/x-python",
   "name": "python",
   "nbconvert_exporter": "python",
   "pygments_lexer": "ipython3",
   "version": "3.7.9"
  }
 },
 "nbformat": 4,
 "nbformat_minor": 2
}
