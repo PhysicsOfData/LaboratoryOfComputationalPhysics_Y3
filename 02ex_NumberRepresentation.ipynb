{
 "cells": [
  {
   "cell_type": "markdown",
   "metadata": {},
   "source": [
    "1\\. Write a function that converts number representation (bin<->dec<->hex)"
   ]
  },
  {
   "cell_type": "code",
   "execution_count": 7,
   "metadata": {},
   "outputs": [
    {
     "name": "stdout",
     "output_type": "stream",
     "text": [
      "57\n",
      "0x39\n"
     ]
    }
   ],
   "source": [
    "def conversion(x, type_of_x='dec'):\n",
    "    \n",
    "    x_str = str(x)\n",
    "    \n",
    "    # x is a decimal number for sure\n",
    "    if (len(x_str) < 3):\n",
    "        if (type_of_x == 'bin'):\n",
    "            return bin(x)\n",
    "        if (type_of_x == 'hex'):\n",
    "            return hex(x)\n",
    "        # if type is not valid (or the same as input one) then return x\n",
    "        return x\n",
    "            \n",
    "        \n",
    "    # x is a binary number for sure    \n",
    "    elif (x_str[:2] == '0b'):\n",
    "        if (type_of_x == 'dec'):\n",
    "            return int(x, 2)\n",
    "        if (type_of_x == 'hex'):\n",
    "            temp = int(x, 2)\n",
    "            return hex(temp)\n",
    "        # if type is not valid (or the same as input one) then return x\n",
    "        return x\n",
    "    \n",
    "    # x is a hexadecimal number for sure \n",
    "    elif (x_str[:2] == '0x'):\n",
    "        if (type_of_x == 'dec'):\n",
    "            return int(x, 16)\n",
    "        if (type_of_x == 'bin'):\n",
    "            temp = int(x, 16)\n",
    "            return bin(temp)\n",
    "        # if type is not valid (or the same as input one) then return x\n",
    "        return x\n",
    "    \n",
    "    # x is a decimal number\n",
    "    else:\n",
    "        if (type_of_x == 'bin'):\n",
    "            return bin(x)\n",
    "        if (type_of_x == 'hex'):\n",
    "            return hex(x)\n",
    "        # if type is not valid (or the same as input one) then return x\n",
    "        return x        \n",
    "\n",
    "    \n",
    "# example\n",
    "n = 0b111001\n",
    "t = 'hex'\n",
    "\n",
    "# default conversion is in decimal\n",
    "print(conversion(n))\n",
    "print(conversion(n, t))"
   ]
  },
  {
   "cell_type": "markdown",
   "metadata": {},
   "source": [
    "2\\. Write a function that converts a 32 bit word into a single precision floating point (i.e. interprets the various bits as sign, mantissa and exponent)"
   ]
  },
  {
   "cell_type": "code",
   "execution_count": 33,
   "metadata": {},
   "outputs": [
    {
     "name": "stdout",
     "output_type": "stream",
     "text": [
      "-20.299999237060547\n"
     ]
    }
   ],
   "source": [
    "def conv_to_single_prec(word):\n",
    "    # set the masks\n",
    "    sign = 0b10000000000000000000000000000000 # pos number 31\n",
    "    exp =  0b1111111100000000000000000000000  # pos between 23 and 30\n",
    "    mant = 0b11111111111111111111111          # pos between 0 and 22\n",
    "    add_sign = 0b100000000000000000000000\n",
    "\n",
    "    # discover the three exceptions\n",
    "    if (((word & exp) >> 23) == 255):\n",
    "        if ((word & mant) == 0):\n",
    "            if (((word & sign) >> 31) == 0):\n",
    "                return '+INF'\n",
    "            elif (((word & sign) >> 31) == 1):\n",
    "                return '-INF'\n",
    "        elif ((word & mant) > 0):\n",
    "            return 'NaN'\n",
    "    else:\n",
    "        # xfloat = (-1)^sign * mant * 2 ^ (exp-127)\n",
    "        # I rewrite it in 3 terms\n",
    "        first_term = (-1)**((word & sign) >> 31)\n",
    "        second_term = ((word & mant) | add_sign) / (2**23)\n",
    "        third_term = 2**(((word & exp) >> 23) - 127)\n",
    "        return first_term*second_term*third_term\n",
    "\n",
    "bit32_word = 0b11000001101000100110011001100110\n",
    "print(conv_to_single_prec(bit32_word))"
   ]
  },
  {
   "cell_type": "markdown",
   "metadata": {},
   "source": [
    "3\\. Write a program to determine the underflow and overflow limits (within a factor of 2) for python on your computer. \n",
    "\n",
    "**Tips**: define two variables inizialized to 1 and halve/double them enough time to exceed the under/over-flow limits  "
   ]
  },
  {
   "cell_type": "code",
   "execution_count": 10,
   "metadata": {},
   "outputs": [
    {
     "name": "stdout",
     "output_type": "stream",
     "text": [
      "5e-324\n",
      "8.98846567431158e+307\n"
     ]
    }
   ],
   "source": [
    "underflow = save_under = 1\n",
    "overflow = float(1)\n",
    "exponent = 0\n",
    "\n",
    "while(True):\n",
    "    if (underflow != 0):\n",
    "        save_under = underflow\n",
    "        underflow /= 2\n",
    "    else:\n",
    "        break\n",
    "        \n",
    "while (overflow < overflow*2):\n",
    "    overflow *= 2\n",
    "    exponent += 1\n",
    "    \n",
    "print(save_under)\n",
    "print(float(2**(exponent-1)))"
   ]
  },
  {
   "cell_type": "markdown",
   "metadata": {},
   "source": [
    "4\\. Write a program to determine the machine precision\n",
    "\n",
    "**Tips**: define a new variable by adding a smaller and smaller value (proceeding similarly to prob. 2) to an original variable and check the point where the two are the same "
   ]
  },
  {
   "cell_type": "code",
   "execution_count": 3,
   "metadata": {},
   "outputs": [
    {
     "name": "stdout",
     "output_type": "stream",
     "text": [
      "The machine precision is around 1.1102230246251566e-17\n"
     ]
    }
   ],
   "source": [
    "var = 0\n",
    "adds = 0.1\n",
    "new_var = var + adds\n",
    "\n",
    "while (var != new_var):\n",
    "    var = new_var\n",
    "    adds /= 2\n",
    "    new_var = var + adds\n",
    "    \n",
    "print('The machine precision is around',adds)"
   ]
  },
  {
   "cell_type": "markdown",
   "metadata": {},
   "source": [
    "5\\. Write a function that takes in input three parameters $a$, $b$ and $c$ and prints out the two solutions to the quadratic equation $ax^2+bx+c=0$ using the standard formula:\n",
    "$$\n",
    "x=\\frac{-b\\pm\\sqrt{b^2-4ac}}{2a}\n",
    "$$\n",
    "\n",
    "(a) use the program to compute the solution for $a=0.001$, $b=1000$ and $c=0.001$\n",
    "\n",
    "(b) re-express the standard solution formula by multiplying top and bottom by $-b\\mp\\sqrt{b^2-4ac}$ and again find the solution for $a=0.001$, $b=1000$ and $c=0.001$. How does it compare with what previously obtained? Why?\n",
    "\n",
    "(c) write a function that compute the roots of a quadratic equation accurately in all cases"
   ]
  },
  {
   "cell_type": "code",
   "execution_count": 12,
   "metadata": {},
   "outputs": [
    {
     "name": "stdout",
     "output_type": "stream",
     "text": [
      "Solution of a\n",
      "(x1, x2) = (-9.999894245993346e-07, -999999.999999)\n",
      "Solution of b\n",
      "(x1, x2) = (-1.000000000001e-06, -1000010.5755125057)\n",
      "Solution of c\n",
      "(x1, x2) = (-1.000000000001e-06, -999999.999999)\n"
     ]
    }
   ],
   "source": [
    "a = 0.001\n",
    "b = 1000\n",
    "c = 0.001\n",
    "\n",
    "# solution of a)\n",
    "def solution(a, b, c):\n",
    "    \n",
    "    delta = (b**2 - 4*a*c)**(1/2)\n",
    "    x1 = (-b + delta)/(2*a)\n",
    "    x2 = (-b - delta)/(2*a)\n",
    "    \n",
    "    return (x1, x2)\n",
    "\n",
    "y = (x1, x2)= solution(a, b, c)\n",
    "print('Solution of a')\n",
    "print('(x1, x2) =',y)\n",
    "\n",
    "\n",
    "# solution of b)\n",
    "def solution_mod(a, b, c):\n",
    "    \n",
    "    delta = (b**2 - 4*a*c)**(1/2)\n",
    "    x1 = (2*c)/(-b - delta)\n",
    "    x2 = (2*c)/(-b + delta)\n",
    "    \n",
    "    return (x1, x2)\n",
    "\n",
    "y = (x1, x2) = solution_mod(a, b, c)\n",
    "print('Solution of b')\n",
    "print('(x1, x2) =',y)\n",
    "\n",
    "\n",
    "# solution of c)\n",
    "def solution_exact(ax, bx, cx):\n",
    "    \n",
    "    delta = (b**2 - 4*a*c)**(1/2)\n",
    "    # since the first formula gives the right result for the higher root (in absolute value)\n",
    "    # but not for the second and the second formula gives the right result for the smaller one\n",
    "    # but not for the first, we can simply combine them\n",
    "    x1 = (2*c)/(-b - delta)\n",
    "    x2 = (-b - delta)/(2*a)\n",
    "    \n",
    "    return (x1, x2)\n",
    "\n",
    "y = (x1, x2) = solution_exact(a, b, c)\n",
    "print('Solution of c')\n",
    "print('(x1, x2) =',y)"
   ]
  },
  {
   "cell_type": "markdown",
   "metadata": {},
   "source": [
    "6\\. Write a program that implements the function $f(x)=x(x−1)$\n",
    "\n",
    "(a) Calculate the derivative of the function at the point $x = 1$ using the derivative definition:\n",
    "\n",
    "$$\n",
    "\\frac{{\\rm d}f}{{\\rm d}x} = \\lim_{\\delta\\to0} \\frac{f(x+\\delta)-f(x)}{\\delta}\n",
    "$$\n",
    "\n",
    "with $\\delta = 10^{−2}$. Calculate the true value of the same derivative analytically and compare with the answer your program gives. The two will not agree perfectly. Why not?\n",
    "\n",
    "(b) Repeat the calculation for $\\delta = 10^{−4}, 10^{−6}, 10^{−8}, 10^{−10}, 10^{−12}$ and $10^{−14}$. How does the accuracy scales with $\\delta$?"
   ]
  },
  {
   "cell_type": "code",
   "execution_count": 18,
   "metadata": {},
   "outputs": [
    {
     "name": "stdout",
     "output_type": "stream",
     "text": [
      "1.010000000000001\n",
      "1\n",
      "The two results differs because, applying the definition, the function \n",
      "has to treat small numbers and the machine precision is not infinite\n",
      "\n",
      "result with exp equal to -4\n",
      "1.0000999999998899\n",
      "result with exp equal to -6\n",
      "1.0000009999177333\n",
      "result with exp equal to -8\n",
      "1.0000000039225287\n",
      "result with exp equal to -10\n",
      "1.000000082840371\n",
      "result with exp equal to -12\n",
      "1.0000889005833413\n",
      "result with exp equal to -14\n",
      "0.9992007221626509\n"
     ]
    }
   ],
   "source": [
    "x = 1\n",
    "d = 1e-2\n",
    "\n",
    "\n",
    "def f_of_x(point):\n",
    "    return point*(point-1)\n",
    "\n",
    "def derivate_def(function, point, delta):\n",
    "    limit = (function(point+delta) - function(point))/delta\n",
    "    return limit\n",
    "\n",
    "def f_prime(point):\n",
    "    return 2*point -1\n",
    "\n",
    "\n",
    "# part a)\n",
    "print(derivate_def(f_of_x, x, d))\n",
    "print(f_prime(x))\n",
    "print('The two results differs because, applying the definition, the function',\n",
    "      '\\nhas to treat small numbers and the machine precision is not infinite\\n')\n",
    "\n",
    "\n",
    "# part b)\n",
    "i = 4\n",
    "while (i < 15):\n",
    "    d = float(str('1e-')+str(i))\n",
    "    print('result with exp equal to -'+str(i))\n",
    "    print(derivate_def(f_of_x, x, d))\n",
    "    i += 2"
   ]
  },
  {
   "cell_type": "markdown",
   "metadata": {},
   "source": [
    "7\\. Consider the integral of the semicircle of radius 1:\n",
    "$$\n",
    "I=\\int_{-1}^{1} \\sqrt(1-x^2) {\\rm d}x\n",
    "$$\n",
    "which it's known to be $I=\\frac{\\pi}{2}=1.57079632679...$.\n",
    "Alternatively we can use the Riemann definition of the integral:\n",
    "$$\n",
    "I=\\lim_{N\\to\\infty} \\sum_{k=1}^{N} h y_k \n",
    "$$\n",
    "\n",
    "with $h=2/N$ the width of each of the $N$ slices the domain is divided into and where\n",
    "$y_k$ is the value of the function at the $k-$th slice.\n",
    "\n",
    "(a) Write a programe to compute the integral with $N=100$. How does the result compares to the true value?\n",
    "\n",
    "(b) How much can $N$ be increased if the computation needs to be run in less than a second? What is the gain in running it for 1 minute? \n"
   ]
  },
  {
   "cell_type": "code",
   "execution_count": 91,
   "metadata": {},
   "outputs": [
    {
     "name": "stdout",
     "output_type": "stream",
     "text": [
      "The integral equals to 1.5691342555492505\n",
      "It takes about 0.0 seconds\n",
      "The true integral is 1.5707963267948966\n"
     ]
    }
   ],
   "source": [
    "N = 100\n",
    "\n",
    "def function(x):\n",
    "    return (1-x**2)**(1/2)\n",
    "\n",
    "\n",
    "def integral_value(steps):\n",
    "    integral = 0\n",
    "    for i in range(1,steps):\n",
    "        yk = function(-1+(2/steps)*i)\n",
    "        integral += yk*(2/steps)\n",
    "    return integral\n",
    "\n",
    "\n",
    "\n",
    "import time\n",
    "import math\n",
    "\n",
    "start = time.time()\n",
    "I = integral_value(N)\n",
    "end = time.time()\n",
    "t = (end-start)\n",
    "\n",
    "print('The integral equals to', I)\n",
    "print('It takes about', t, 'seconds')\n",
    "print('The true integral is', math.pi/2)"
   ]
  },
  {
   "cell_type": "code",
   "execution_count": 92,
   "metadata": {},
   "outputs": [
    {
     "name": "stdout",
     "output_type": "stream",
     "text": [
      "10000000\n",
      "1075000\n",
      "1074970\n",
      "We need an N value of about 1074970 to reach 1 seconds\n",
      "It takes about 1.0064444541931152 seconds\n",
      "And the integral equals to 1.5707963253027475\n"
     ]
    }
   ],
   "source": [
    "cycle = 0\n",
    "while (cycle < 3):\n",
    "    \n",
    "    start = time.time()\n",
    "    I = integral_value(N)\n",
    "    end = time.time()\n",
    "    t = (end-start)\n",
    "    \n",
    "    if (t < 1 and cycle < 1):\n",
    "        N *= 10\n",
    "    elif (t < 1 and cycle < 2):\n",
    "        N += 1000\n",
    "    elif (t < 1):\n",
    "        N += 10\n",
    "    else:\n",
    "        if (cycle < 1):\n",
    "            N = int(N/10)\n",
    "        elif (cycle < 2):\n",
    "            N -= 100\n",
    "        cycle += 1\n",
    "\n",
    "        \n",
    "print('We need an N value of about', N, 'to reach 1 seconds')\n",
    "print('It takes about', t, 'seconds')\n",
    "print('And the integral equals to', I)"
   ]
  },
  {
   "cell_type": "code",
   "execution_count": 94,
   "metadata": {},
   "outputs": [
    {
     "name": "stdout",
     "output_type": "stream",
     "text": [
      "The integral equals to 1.570796326793284\n",
      "It takes about 92.12122631072998 seconds\n",
      "The true integral is 1.5707963267948966\n"
     ]
    }
   ],
   "source": [
    "N = 8*10**(7)\n",
    "\n",
    "start = time.time()\n",
    "I = integral_value(N)\n",
    "end = time.time()\n",
    "t = (end-start)\n",
    "\n",
    "print('The integral equals to', I)\n",
    "print('It takes about', t, 'seconds')\n",
    "print('The true integral is', math.pi/2)"
   ]
  },
  {
   "cell_type": "code",
   "execution_count": null,
   "metadata": {},
   "outputs": [],
   "source": []
  }
 ],
 "metadata": {
  "kernelspec": {
   "display_name": "Python 3",
   "language": "python",
   "name": "python3"
  },
  "language_info": {
   "codemirror_mode": {
    "name": "ipython",
    "version": 3
   },
   "file_extension": ".py",
   "mimetype": "text/x-python",
   "name": "python",
   "nbconvert_exporter": "python",
   "pygments_lexer": "ipython3",
   "version": "3.8.3"
  }
 },
 "nbformat": 4,
 "nbformat_minor": 2
}
