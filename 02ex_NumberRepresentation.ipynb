{
 "cells": [
  {
   "cell_type": "markdown",
   "metadata": {},
   "source": [
    "1\\. Write a function that converts number representation (bin<->dec<->hex)"
   ]
  },
  {
   "cell_type": "code",
   "execution_count": 27,
   "metadata": {},
   "outputs": [
    {
     "name": "stdout",
     "output_type": "stream",
     "text": [
      "1000\n",
      " 8\n",
      "10\n"
     ]
    }
   ],
   "source": [
    "def DecimalToBinary(num): \n",
    "      \n",
    "    if num > 1: \n",
    "        DecimalToBinary(num // 2) \n",
    "    print(num % 2, end = '') \n",
    "\n",
    "DecimalToBinary(8)\n",
    "\n",
    "def binaryToDecimal(binary): \n",
    "      \n",
    "    binary1 = binary \n",
    "    decimal, i, n = 0, 0, 0\n",
    "    while(binary != 0): \n",
    "        dec = binary % 10\n",
    "        decimal = decimal + dec * pow(2, i) \n",
    "        binary = binary//10\n",
    "        i += 1\n",
    "    print(\"\\n\", decimal) \n",
    " \n",
    "\n",
    "binaryToDecimal(1000)\n",
    "\n",
    "def decToHex(result):\n",
    "    hexadecimal = \"\"\n",
    "    while result != 0:\n",
    "        remainder = changeDigit(result % 16)\n",
    "        hexadecimal = str(remainder) + hexadecimal\n",
    "        result = int(result / 16)\n",
    "    print(hexadecimal)\n",
    "\n",
    "def changeDigit(digit):\n",
    "    decimal =     [10 , 11 , 12 , 13 , 14 , 15 ]\n",
    "    hexadecimal = [\"A\", \"B\", \"C\", \"D\", \"E\", \"F\"]\n",
    "    for counter in range(7):\n",
    "        if digit == decimal[counter - 1]:\n",
    "            digit = hexadecimal[counter - 1]\n",
    "    return digit\n",
    "\n",
    "decToHex(16)\n",
    "\n",
    "# def hexToDec(hexadecimal):\n",
    "#     decimal, i = 0, 0\n",
    "#     while(hexadecimal !=0):\n",
    "#         dec = hexadecimal %10\n",
    "#         decimal = decimal + dec *pow(16,i)\n",
    "#         hexdecimal = hexadecimal // 10\n",
    "#         i +=1\n",
    "#     print(decimal)\n",
    "    \n",
    "# hexToDec(1F)"
   ]
  },
  {
   "cell_type": "markdown",
   "metadata": {},
   "source": [
    "2\\. Write a function that converts a 32 bit word into a single precision floating point (i.e. interprets the various bits as sign, mantissa and exponent)"
   ]
  },
  {
   "cell_type": "code",
   "execution_count": 43,
   "metadata": {},
   "outputs": [
    {
     "name": "stdout",
     "output_type": "stream",
     "text": [
      "Binary equivalent of 19.5: 01000001100111000000000000000000\n",
      "Decimal equivalent of      01000001100111000000000000000000: 19.5\n",
      "\n",
      "Sign     ( 1 bit ) = 0\n",
      "Exponent ( 8 bits) = 10000011\n",
      "Mantissa (23 bits) = 00111000000000000000000\n",
      "01000001100111000000000000000000\n"
     ]
    },
    {
     "data": {
      "text/plain": [
       "str"
      ]
     },
     "execution_count": 43,
     "metadata": {},
     "output_type": "execute_result"
    }
   ],
   "source": [
    "\n",
    "import struct\n",
    "\n",
    "def floatToBinary32(value):\n",
    "    return ''.join(f'{c:0>8b}' for c in struct.pack('!f', value))\n",
    "\n",
    "def binaryToFloat(value):\n",
    "    hx = hex(int(value, 2))   \n",
    "    return struct.unpack(\"f\", struct.pack(\"l\", int(hx, 16)))[0]\n",
    "\n",
    "# float to binary\n",
    "fl0 = 19.5\n",
    "binstr = floatToBinary32(fl0)\n",
    "print(f'Binary equivalent of {fl0}: {binstr}')\n",
    "\n",
    "# binary to float\n",
    "fl1 = binaryToFloat(binstr)\n",
    "print(f'Decimal equivalent of      {binstr}: {fl1}')\n",
    "\n",
    "print(f'\\nSign     ( 1 bit ) = {binstr[0]}\\nExponent ( 8 bits) = {binstr[1:9]}\\nMantissa (23 bits) = {binstr[9:]}')\n",
    "\n",
    "assert fl0 == fl1\n",
    "\n",
    "def binaryToFloat(bin):\n",
    "    flo = -1^bin[0] * (1+1/bin[9:])*pow(2,bin[1:9])\n",
    "    return flo\n",
    "\n",
    "print(binstr)\n",
    "type(binstr)\n",
    "# binaryToFloat(binstr)\n"
   ]
  },
  {
   "cell_type": "markdown",
   "metadata": {},
   "source": [
    "3\\. Write a program to determine the underflow and overflow limits (within a factor of 2) for python on your computer. \n",
    "\n",
    "**Tips**: define two variables inizialized to 1 and halve/double them enough time to exceed the under/over-flow limits  "
   ]
  },
  {
   "cell_type": "markdown",
   "metadata": {},
   "source": [
    "4\\. Write a program to determine the machine precision\n",
    "\n",
    "**Tips**: define a new variable by adding a smaller and smaller value (proceeding similarly to prob. 2) to an original variable and check the point where the two are the same "
   ]
  },
  {
   "cell_type": "markdown",
   "metadata": {},
   "source": [
    "5\\. Write a function that takes in input three parameters $a$, $b$ and $c$ and prints out the two solutions to the quadratic equation $ax^2+bx+c=0$ using the standard formula:\n",
    "$$\n",
    "x=\\frac{-b\\pm\\sqrt{b^2-4ac}}{2a}\n",
    "$$\n",
    "\n",
    "(a) use the program to compute the solution for $a=0.001$, $b=1000$ and $c=0.001$\n",
    "\n",
    "(b) re-express the standard solution formula by multiplying top and bottom by $-b\\mp\\sqrt{b^2-4ac}$ and again find the solution for $a=0.001$, $b=1000$ and $c=0.001$. How does it compare with what previously obtained? Why?\n",
    "\n",
    "(c) write a function that compute the roots of a quadratic equation accurately in all cases"
   ]
  },
  {
   "cell_type": "markdown",
   "metadata": {},
   "source": [
    "6\\. Write a program that implements the function $f(x)=x(x−1)$\n",
    "\n",
    "(a) Calculate the derivative of the function at the point $x = 1$ using the derivative definition:\n",
    "\n",
    "$$\n",
    "\\frac{{\\rm d}f}{{\\rm d}x} = \\lim_{\\delta\\to0} \\frac{f(x+\\delta)-f(x)}{\\delta}\n",
    "$$\n",
    "\n",
    "with $\\delta = 10^{−2}$. Calculate the true value of the same derivative analytically and compare with the answer your program gives. The two will not agree perfectly. Why not?\n",
    "\n",
    "(b) Repeat the calculation for $\\delta = 10^{−4}, 10^{−6}, 10^{−8}, 10^{−10}, 10^{−12}$ and $10^{−14}$. How does the accuracy scales with $\\delta$?"
   ]
  },
  {
   "cell_type": "markdown",
   "metadata": {},
   "source": [
    "7\\. Consider the integral of the semicircle of radius 1:\n",
    "$$\n",
    "I=\\int_{-1}^{1} \\sqrt(1-x^2) {\\rm d}x\n",
    "$$\n",
    "which it's known to be $I=\\frac{\\pi}{2}=1.57079632679...$.\n",
    "Alternatively we can use the Riemann definition of the integral:\n",
    "$$\n",
    "I=\\lim_{N\\to\\infty} \\sum_{k=1}^{N} h y_k \n",
    "$$\n",
    "\n",
    "with $h=2/N$ the width of each of the $N$ slices the domain is divided into and where\n",
    "$y_k$ is the value of the function at the $k-$th slice.\n",
    "\n",
    "(a) Write a programe to compute the integral with $N=100$. How does the result compares to the true value?\n",
    "\n",
    "(b) How much can $N$ be increased if the computation needs to be run in less than a second? What is the gain in running it for 1 minute? \n"
   ]
  },
  {
   "cell_type": "code",
   "execution_count": null,
   "metadata": {},
   "outputs": [],
   "source": []
  }
 ],
 "metadata": {
  "kernelspec": {
   "display_name": "Python 3",
   "language": "python",
   "name": "python3"
  },
  "language_info": {
   "codemirror_mode": {
    "name": "ipython",
    "version": 3
   },
   "file_extension": ".py",
   "mimetype": "text/x-python",
   "name": "python",
   "nbconvert_exporter": "python",
   "pygments_lexer": "ipython3",
   "version": "3.8.3"
  }
 },
 "nbformat": 4,
 "nbformat_minor": 2
}
