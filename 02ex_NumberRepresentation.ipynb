{
 "cells": [
  {
   "cell_type": "markdown",
   "metadata": {},
   "source": [
    "1\\. Write a function that converts number representation (bin<->dec<->hex)"
   ]
  },
  {
   "cell_type": "code",
   "execution_count": 6,
   "metadata": {},
   "outputs": [
    {
     "name": "stdout",
     "output_type": "stream",
     "text": [
      "0b10010001\n",
      "0x91\n",
      "325\n",
      "0b101000101\n",
      "170\n",
      "0xaa\n"
     ]
    }
   ],
   "source": [
    "def converter(n, repres):\n",
    "    if repres == \"dec\":\n",
    "        return int(n)\n",
    "    elif repres == \"bin\":\n",
    "        return bin(n)\n",
    "    elif repres == \"hex\":\n",
    "        return hex(n)\n",
    "    \n",
    "x = 145\n",
    "y = 0x145\n",
    "z = 0b10101010\n",
    "print(converter(x,\"bin\"))\n",
    "print(converter(x,\"hex\"))\n",
    "print(converter(y,\"dec\"))\n",
    "print(converter(y,\"bin\"))\n",
    "print(converter(z,\"dec\"))\n",
    "print(converter(z,\"hex\"))"
   ]
  },
  {
   "cell_type": "markdown",
   "metadata": {},
   "source": [
    "2\\. Write a function that converts a 32 bit word into a single precision floating point (i.e. interprets the various bits as sign, mantissa and exponent)"
   ]
  },
  {
   "cell_type": "code",
   "execution_count": 53,
   "metadata": {},
   "outputs": [
    {
     "name": "stdout",
     "output_type": "stream",
     "text": [
      "0b11111000000000000000000000\n",
      "0b11000000101100000000000000000000\n",
      "1.316553672920962e-36\n",
      "-5.5\n"
     ]
    }
   ],
   "source": [
    "import numpy as np\n",
    "\n",
    "def singleprec(w):\n",
    "    masksign = 0b10000000000000000000000000000000\n",
    "    maskexp =  0b01111111100000000000000000000000\n",
    "    maskmant = 0b00000000011111111111111111111111\n",
    "    sign = (w & masksign) >> 31\n",
    "    exp = (w & maskexp) >> 23\n",
    "    m = (w & maskmant)\n",
    "    mant = 1\n",
    "    n = 23\n",
    "    for i in range(1,24):\n",
    "        mant = mant + (((m & (2**(n-i))) >> (n-i))*(2**(-i))) #calculate mantissa\n",
    "    result = ((-1)**sign)*mant*(np.float_power(2,exp-127))\n",
    "    return result\n",
    "\n",
    "n1 = np.uint32(65011712)\n",
    "n2 = np.uint32(3232759808)\n",
    "print(bin(n1))\n",
    "print(bin(n2))\n",
    "r1 = singleprec(n1)\n",
    "print(r1)\n",
    "r2 = singleprec(n2)\n",
    "print(r2)"
   ]
  },
  {
   "cell_type": "markdown",
   "metadata": {},
   "source": [
    "3\\. Write a program to determine the underflow and overflow limits (within a factor of 2) for python on your computer. \n",
    "\n",
    "**Tips**: define two variables inizialized to 1 and halve/double them enough time to exceed the under/over-flow limits  "
   ]
  },
  {
   "cell_type": "code",
   "execution_count": 2,
   "metadata": {},
   "outputs": [
    {
     "name": "stdout",
     "output_type": "stream",
     "text": [
      "Underflow limits is: 5e-324\n",
      "Can't find an overflow number in feasible time. Python3 represent integers with arbitrary precision\n"
     ]
    }
   ],
   "source": [
    "x = 1\n",
    "y = 1\n",
    "xx = 1\n",
    "yy = 1\n",
    "i = 0\n",
    "\n",
    "while x != 0:\n",
    "    xx = x\n",
    "    x = x/2\n",
    "print(\"Underflow limits is:\",xx)\n",
    "\n",
    "print(\"Can't find an overflow number in feasible time. Python3 represent integers with arbitrary precision\")\n",
    "\n"
   ]
  },
  {
   "cell_type": "markdown",
   "metadata": {},
   "source": [
    "4\\. Write a program to determine the machine precision\n",
    "\n",
    "**Tips**: define a new variable by adding a smaller and smaller value (proceeding similarly to prob. 2) to an original variable and check the point where the two are the same "
   ]
  },
  {
   "cell_type": "code",
   "execution_count": 34,
   "metadata": {},
   "outputs": [
    {
     "name": "stdout",
     "output_type": "stream",
     "text": [
      "17\n"
     ]
    }
   ],
   "source": [
    "i = 1\n",
    "n,nn = 1,1\n",
    "while i<1000:\n",
    "    n = nn + (10**(-i))\n",
    "    i += 1\n",
    "    if nn == n:\n",
    "        break\n",
    "    \n",
    "print(i)"
   ]
  },
  {
   "cell_type": "markdown",
   "metadata": {},
   "source": [
    "5\\. Write a function that takes in input three parameters $a$, $b$ and $c$ and prints out the two solutions to the quadratic equation $ax^2+bx+c=0$ using the standard formula:\n",
    "$$\n",
    "x=\\frac{-b\\pm\\sqrt{b^2-4ac}}{2a}\n",
    "$$\n",
    "\n",
    "(a) use the program to compute the solution for $a=0.001$, $b=1000$ and $c=0.001$\n",
    "\n",
    "(b) re-express the standard solution formula by multiplying top and bottom by $-b\\mp\\sqrt{b^2-4ac}$ and again find the solution for $a=0.001$, $b=1000$ and $c=0.001$. How does it compare with what previously obtained? Why?\n",
    "\n",
    "(c) write a function that compute the roots of a quadratic equation accurately in all cases"
   ]
  },
  {
   "cell_type": "code",
   "execution_count": 25,
   "metadata": {},
   "outputs": [
    {
     "name": "stdout",
     "output_type": "stream",
     "text": [
      "-9.999894245993346e-07 -999999.999999\n",
      "1.0575401665491313e-08\n",
      "7.247924804689582e-08\n",
      "-9.999894245993346e-07 -999999.9999990001\n",
      "-9.999894245993346e-07 -999999.999999\n",
      "1.0575401665491313e-11 0.0\n",
      "-1.000000000001e-06 -999999.999999\n",
      "0.0\n",
      "7.247924804689582e-08\n"
     ]
    }
   ],
   "source": [
    "import math\n",
    "a,b,c = 0.001,1000,0.001\n",
    "\n",
    "P = math.sqrt((b**2)-(4*a*c))\n",
    "\n",
    "# Point A\n",
    "x1 = ((-b)+P)/(2*a)\n",
    "x2 = ((-b)-P)/(2*a)\n",
    "\n",
    "print(x1,x2)\n",
    "\n",
    "print(a*(x1**2)+b*x1+c)\n",
    "print(a*(x2**2)+b*x2+c)\n",
    "\n",
    "# Point B\n",
    "x11 = (((-b)+P)*((-b)+P))/((2*a)*((-b)+(P)))\n",
    "x12 = (((-b)-P)*((-b)+P))/((2*a)*((-b)+(P)))\n",
    "x21 = (((-b)+P)*((-b)-P))/((2*a)*((-b)-(P)))\n",
    "x22 = (((-b)-P)*((-b)-P))/((2*a)*((-b)-(P)))\n",
    "\n",
    "print(x11,x12)\n",
    "print(x21,x22)\n",
    "\n",
    "# Point C\n",
    "def quadeq(a,b,c):\n",
    "    x1 = (2*c)/((-b)-P)\n",
    "    x2 = ((-b)-P)/(2*a)\n",
    "    return x1,x2\n",
    "x3 = x1\n",
    "x4 = x2\n",
    "x1,x2 = quadeq(a,b,c)\n",
    "\n",
    "print(x3-x1, x4-x2)\n",
    "print(x1,x2)\n",
    "print(a*(x1**2)+b*x1+c)\n",
    "print(a*(x2**2)+b*x2+c)"
   ]
  },
  {
   "cell_type": "markdown",
   "metadata": {},
   "source": [
    "6\\. Write a program that implements the function $f(x)=x(x−1)$\n",
    "\n",
    "(a) Calculate the derivative of the function at the point $x = 1$ using the derivative definition:\n",
    "\n",
    "$$\n",
    "\\frac{{\\rm d}f}{{\\rm d}x} = \\lim_{\\delta\\to0} \\frac{f(x+\\delta)-f(x)}{\\delta}\n",
    "$$\n",
    "\n",
    "with $\\delta = 10^{−2}$. Calculate the true value of the same derivative analytically and compare with the answer your program gives. The two will not agree perfectly. Why not?\n",
    "\n",
    "(b) Repeat the calculation for $\\delta = 10^{−4}, 10^{−6}, 10^{−8}, 10^{−10}, 10^{−12}$ and $10^{−14}$. How does the accuracy scales with $\\delta$?"
   ]
  },
  {
   "cell_type": "code",
   "execution_count": 14,
   "metadata": {},
   "outputs": [
    {
     "name": "stdout",
     "output_type": "stream",
     "text": [
      "[-0.010000000000000897, -9.999999988985486e-05, -9.99917733279787e-07, -3.922528746258536e-09, -8.284037100736441e-08, -8.890058334132256e-05, 0.0007992778373491216]\n"
     ]
    }
   ],
   "source": [
    "def f(x):\n",
    "    return x*(x-1)\n",
    "\n",
    "x = 1\n",
    "delta = [10**(-i) for i in range(1,15) if i%2 == 0]\n",
    "\n",
    "realderiv = 2*x-1\n",
    "diff = []\n",
    "\n",
    "for j in delta:\n",
    "    deriv = (f(x+j)-f(x))/j\n",
    "    diff.append(realderiv-deriv)\n",
    "\n",
    "print(diff)"
   ]
  },
  {
   "cell_type": "markdown",
   "metadata": {},
   "source": [
    "7\\. Consider the integral of the semicircle of radius 1:\n",
    "$$\n",
    "I=\\int_{-1}^{1} \\sqrt(1-x^2) {\\rm d}x\n",
    "$$\n",
    "which it's known to be $I=\\frac{\\pi}{2}=1.57079632679...$.\n",
    "Alternatively we can use the Riemann definition of the integral:\n",
    "$$\n",
    "I=\\lim_{N\\to\\infty} \\sum_{k=1}^{N} h y_k \n",
    "$$\n",
    "\n",
    "with $h=2/N$ the width of each of the $N$ slices the domain is divided into and where\n",
    "$y_k$ is the value of the function at the $k-$th slice.\n",
    "\n",
    "(a) Write a programe to compute the integral with $N=100$. How does the result compares to the true value?\n",
    "\n",
    "(b) How much can $N$ be increased if the computation needs to be run in less than a second? What is the gain in running it for 1 minute? \n"
   ]
  },
  {
   "cell_type": "code",
   "execution_count": 64,
   "metadata": {},
   "outputs": [
    {
     "name": "stdout",
     "output_type": "stream",
     "text": [
      "N = 100\n",
      "Time to compute 0.0004317760467529297\n",
      "Value: 1.5691342555492498\n",
      "Difference with the true value 0.001662071245646768\n",
      "\n",
      "N = 4150000\n",
      "Time to compute 0.9938905239105225\n",
      "1.5707963265981584\n",
      "Difference with the true value 1.967381813017255e-10\n",
      "\n",
      "N = 250000000\n",
      "Time to compute 56.716684341430664\n",
      "Value: 1.5707963267945662\n",
      "Difference with the true value 3.304023721284466e-13\n"
     ]
    }
   ],
   "source": [
    "import math\n",
    "import time\n",
    "\n",
    "def riemann(N):\n",
    "    h = 2/N\n",
    "    I2 = 0\n",
    "    for i in range(N):\n",
    "        I2 += (1-(-1+(h*i))**2)**(0.5)\n",
    "    return h*I2\n",
    "\n",
    "pi = math.pi\n",
    "I = pi/2\n",
    "\n",
    "N = 100\n",
    "st = time.time()\n",
    "I2 = riemann(N)\n",
    "end = time.time()-st\n",
    "\n",
    "print(\"N =\",N)\n",
    "print(\"Time to compute\",end)\n",
    "print(\"Value:\",I2)\n",
    "print(\"Difference with the true value\",I-I2)\n",
    "\n",
    "# less than a second\n",
    "N = 4150000\n",
    "st = time.time()\n",
    "I2 = riemann(N)\n",
    "end = time.time()-st\n",
    "\n",
    "print(\"\\nN = 4150000\")\n",
    "print(\"Time to compute\",end)\n",
    "print(I2)\n",
    "print(\"Difference with the true value\",I-I2)\n",
    "\n",
    "# less than a minute\n",
    "N = 250000000\n",
    "st = time.time()\n",
    "I2 = riemann(N)\n",
    "end = time.time()-st\n",
    "\n",
    "print(\"\\nN =\",N)\n",
    "print(\"Time to compute\",end)\n",
    "print(\"Value:\",I2)\n",
    "print(\"Difference with the true value\",I-I2)\n"
   ]
  },
  {
   "cell_type": "code",
   "execution_count": null,
   "metadata": {},
   "outputs": [],
   "source": []
  }
 ],
 "metadata": {
  "kernelspec": {
   "display_name": "Python 3",
   "language": "python",
   "name": "python3"
  },
  "language_info": {
   "codemirror_mode": {
    "name": "ipython",
    "version": 3
   },
   "file_extension": ".py",
   "mimetype": "text/x-python",
   "name": "python",
   "nbconvert_exporter": "python",
   "pygments_lexer": "ipython3",
   "version": "3.8.5"
  }
 },
 "nbformat": 4,
 "nbformat_minor": 2
}
