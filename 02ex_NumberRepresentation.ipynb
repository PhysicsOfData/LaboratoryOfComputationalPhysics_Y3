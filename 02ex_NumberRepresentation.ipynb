{
 "cells": [
  {
   "cell_type": "markdown",
   "metadata": {},
   "source": [
    "1\\. Write a function that converts number representation (bin<->dec<->hex)"
   ]
  },
  {
   "cell_type": "code",
   "execution_count": 1,
   "metadata": {},
   "outputs": [
    {
     "name": "stdout",
     "output_type": "stream",
     "text": [
      "[22, '0b10110', '0x16']\n",
      "The number 22 in binary representations is: 0b10110 in hexadecimal representations is: 0x16\n"
     ]
    }
   ],
   "source": [
    "def conv(A):\n",
    "    \n",
    "    c = [A]\n",
    "    a_bin = bin(A)\n",
    "    c.append(a_bin)\n",
    "    a_hex = hex(A)\n",
    "    c.append(a_hex)\n",
    "    return c\n",
    "print (conv(22))\n",
    "\n",
    "def conv2(A):\n",
    "\n",
    "    print('The number',A,'in binary representations is:',bin(A),'in hexadecimal representations is:',hex(A))\n",
    "    return\n",
    "conv2(22)"
   ]
  },
  {
   "cell_type": "markdown",
   "metadata": {},
   "source": [
    "2\\. Write a function that converts a 32 bit word into a single precision floating point (i.e. interprets the various bits as sign, mantissa and exponent)"
   ]
  },
  {
   "cell_type": "code",
   "execution_count": 2,
   "metadata": {},
   "outputs": [
    {
     "name": "stdout",
     "output_type": "stream",
     "text": [
      "32\n",
      "exp = 127\n",
      "Mantissa = 1.0\n",
      "Il numero float è: 1.0\n"
     ]
    }
   ],
   "source": [
    "\n",
    "def convert_to_float(x):\n",
    "    \n",
    "    print(len(x))\n",
    "    \n",
    "    exp = 0\n",
    "    mantissa = 1\n",
    "    bias = 127\n",
    "    s = x[0]\n",
    "    \n",
    "    for i in range(1,9):\n",
    "        exp += int(x[i])*2**(8-i)\n",
    "    print('exp =',exp)\n",
    "        \n",
    "    f = x[9:32]\n",
    "    for i in range(len(f)):\n",
    "        mantissa += int(f[i])*2**(-i-1)\n",
    "    print('Mantissa =',mantissa)\n",
    "    \n",
    "    n = mantissa*2**(exp-bias)\n",
    "    \n",
    "    if int(s)==0:\n",
    "        print('Il numero float è:',n)\n",
    "    if int(s)==1:\n",
    "        print('Il numero float è:',n)\n",
    "    \n",
    "    return\n",
    "\n",
    "convert_to_float(\"00111111100000000000000000000000\")"
   ]
  },
  {
   "cell_type": "markdown",
   "metadata": {},
   "source": [
    "3\\. Write a program to determine the underflow and overflow limits (within a factor of 2) for python on your computer. \n",
    "\n",
    "**Tips**: define two variables inizialized to 1 and halve/double them enough time to exceed the under/over-flow limits  "
   ]
  },
  {
   "cell_type": "code",
   "execution_count": 11,
   "metadata": {},
   "outputs": [
    {
     "name": "stdout",
     "output_type": "stream",
     "text": [
      "sys.float_info(max=1.7976931348623157e+308, max_exp=1024, max_10_exp=308, min=2.2250738585072014e-308, min_exp=-1021, min_10_exp=-307, dig=15, mant_dig=53, epsilon=2.220446049250313e-16, radix=2, rounds=1)\n",
      "Overflow: 8.98846567431158e+307\n",
      "Underflow: 5e-324\n"
     ]
    }
   ],
   "source": [
    "over = 1.\n",
    "under = 1.\n",
    "\n",
    "while under/2 > 0.:\n",
    "    under = under/2\n",
    "    if under/2 == 0.:\n",
    "        print('Underflow occurred after', under)\n",
    "\n",
    "while over*2 < float(\"inf\"):\n",
    "    over = over*2\n",
    "    if over*2 == float(\"inf\"):\n",
    "        print('Overflow occurred after ', over)"
   ]
  },
  {
   "cell_type": "markdown",
   "metadata": {},
   "source": [
    "4\\. Write a program to determine the machine precision\n",
    "\n",
    "**Tips**: define a new variable by adding a smaller and smaller value (proceeding similarly to prob. 2) to an original variable and check the point where the two are the same "
   ]
  },
  {
   "cell_type": "code",
   "execution_count": 4,
   "metadata": {},
   "outputs": [
    {
     "name": "stdout",
     "output_type": "stream",
     "text": [
      "5.551115123125783e-17\n"
     ]
    }
   ],
   "source": [
    "x = 1\n",
    "y = 2\n",
    "eps = 1\n",
    "\n",
    "while (x!=y):\n",
    "    \n",
    "    eps2 = eps\n",
    "    y = x + eps\n",
    "    eps /= 2\n",
    "print(eps)"
   ]
  },
  {
   "cell_type": "code",
   "execution_count": 5,
   "metadata": {},
   "outputs": [
    {
     "name": "stdout",
     "output_type": "stream",
     "text": [
      "2.7755575615628914e-17\n"
     ]
    }
   ],
   "source": [
    "original = 5\n",
    "ma = 1\n",
    "ori = 0\n",
    "while (original != ori):\n",
    "    ori = original\n",
    "    original = original + eps/2\n",
    "    eps = eps/2\n",
    "print(eps)"
   ]
  },
  {
   "cell_type": "markdown",
   "metadata": {},
   "source": [
    "5\\. Write a function that takes in input three parameters $a$, $b$ and $c$ and prints out the two solutions to the quadratic equation $ax^2+bx+c=0$ using the standard formula:\n",
    "$$\n",
    "x=\\frac{-b\\pm\\sqrt{b^2-4ac}}{2a}\n",
    "$$\n",
    "\n",
    "(a) use the program to compute the solution for $a=0.001$, $b=1000$ and $c=0.001$\n",
    "\n",
    "(b) re-express the standard solution formula by multiplying top and bottom by $-b\\mp\\sqrt{b^2-4ac}$ and again find the solution for $a=0.001$, $b=1000$ and $c=0.001$. How does it compare with what previously obtained? Why?\n",
    "\n",
    "(c) write a function that compute the roots of a quadratic equation accurately in all cases"
   ]
  },
  {
   "cell_type": "code",
   "execution_count": 13,
   "metadata": {},
   "outputs": [
    {
     "name": "stdout",
     "output_type": "stream",
     "text": [
      "solution with the first method: (-9.999894245993346e-07, -999999.999999)\n",
      "solution with the second method: (-9.999894245993346e-07, -999999.9999990001)\n",
      "solutions: (-9.999894245993346e-07, -999999.999999)\n"
     ]
    }
   ],
   "source": [
    "import math as m\n",
    "import cmath \n",
    "\n",
    "a = 0.001\n",
    "b = 1000\n",
    "c = 0.001\n",
    "delta = b**2 - 4*a*c \n",
    "\n",
    "\n",
    "\n",
    "\n",
    "def solutionA(a,b,c):\n",
    "    x_piu =  (-b + m.sqrt(delta))/(2*a)\n",
    "    x_meno = (-b - m.sqrt(delta))/(2*a)\n",
    "    return x_piu, x_meno\n",
    "\n",
    "\n",
    "\n",
    "\n",
    "def solutionB(a,b,c):\n",
    "    x_piu =  ((-b + m.sqrt(delta))*(-b - m.sqrt(delta)))/((2*a)*(-b - m.sqrt(delta)))\n",
    "    x_meno = ((-b - m.sqrt(delta))*(-b + m.sqrt(delta)))/((2*a)*(-b + m.sqrt(delta)))\n",
    "    return x_piu, x_meno\n",
    "\n",
    "print(\"solution with the first method:\", solutionA(a,b,c))\n",
    "print(\"solution with the second method:\", solutionB(a,b,c))\n",
    "\n",
    "\n",
    "\n",
    "\n",
    "def solutionC(a,b,c):\n",
    "    x_piu =  (-b + cmath.sqrt(delta))/(2*a)\n",
    "    x_meno = (-b - cmath.sqrt(delta))/(2*a)\n",
    "    return x_piu, x_meno\n",
    "\n",
    "\n",
    "\n",
    "\n",
    "if delta == 0:\n",
    "    print(\"coincident solutions:\", -b/(2*a))\n",
    "elif delta > 0:\n",
    "    print(\"solutions:\", solutionA(a,b,c))\n",
    "else:\n",
    "    print(\"complex solutions:\", solutionC(a,b,c))"
   ]
  },
  {
   "cell_type": "markdown",
   "metadata": {},
   "source": [
    "6\\. Write a program that implements the function $f(x)=x(x−1)$\n",
    "\n",
    "(a) Calculate the derivative of the function at the point $x = 1$ using the derivative definition:\n",
    "\n",
    "$$\n",
    "\\frac{{\\rm d}f}{{\\rm d}x} = \\lim_{\\delta\\to0} \\frac{f(x+\\delta)-f(x)}{\\delta}\n",
    "$$\n",
    "\n",
    "with $\\delta = 10^{−2}$. Calculate the true value of the same derivative analytically and compare with the answer your program gives. The two will not agree perfectly. Why not?\n",
    "\n",
    "(b) Repeat the calculation for $\\delta = 10^{−4}, 10^{−6}, 10^{−8}, 10^{−10}, 10^{−12}$ and $10^{−14}$. How does the accuracy scales with $\\delta$?"
   ]
  },
  {
   "cell_type": "code",
   "execution_count": 10,
   "metadata": {},
   "outputs": [
    {
     "name": "stdout",
     "output_type": "stream",
     "text": [
      "a)\n",
      "1.010000000000001\n",
      "b)\n",
      "1.010000000000001\n",
      "1.0000999999998899\n",
      "1.0000009999177333\n",
      "1.0000000039225287\n",
      "1.000000082840371\n",
      "1.0000889005833413\n"
     ]
    }
   ],
   "source": [
    "import math\n",
    "delta = 0.01\n",
    "x = 1\n",
    "\n",
    "def function(x):\n",
    "    f = x*(x-1)\n",
    "    return f\n",
    "def derivative(x,delta):\n",
    "    d = (function(x+delta)-function(x))/delta\n",
    "    return d\n",
    "print('a)')\n",
    "print(derivative(x,delta))\n",
    "d = [pow(10,-2),pow(10,-4),pow(10,-6),pow(10,-8),pow(10,-10),pow(10,-12)]\n",
    "print('b)')\n",
    "for delta in d:\n",
    "    print(derivative(x,delta))"
   ]
  },
  {
   "cell_type": "markdown",
   "metadata": {},
   "source": [
    "7\\. Consider the integral of the semicircle of radius 1:\n",
    "$$\n",
    "I=\\int_{-1}^{1} \\sqrt(1-x^2) {\\rm d}x\n",
    "$$\n",
    "which it's known to be $I=\\frac{\\pi}{2}=1.57079632679...$.\n",
    "Alternatively we can use the Riemann definition of the integral:\n",
    "$$\n",
    "I=\\lim_{N\\to\\infty} \\sum_{k=1}^{N} h y_k \n",
    "$$\n",
    "\n",
    "with $h=2/N$ the width of each of the $N$ slices the domain is divided into and where\n",
    "$y_k$ is the value of the function at the $k-$th slice.\n",
    "\n",
    "(a) Write a programe to compute the integral with $N=100$. How does the result compares to the true value?\n",
    "\n",
    "(b) How much can $N$ be increased if the computation needs to be run in less than a second? What is the gain in running it for 1 minute? \n"
   ]
  },
  {
   "cell_type": "code",
   "execution_count": 9,
   "metadata": {},
   "outputs": [
    {
     "name": "stdout",
     "output_type": "stream",
     "text": [
      "1.5691342555492493\n",
      "1.5707963232100857\n",
      "Elapsed time = 0.5441763401031494\n",
      "1.5707963273185672\n",
      "Elapsed time = 51.11042594909668\n",
      "The gain is 4.108481554965238e-09\n"
     ]
    }
   ],
   "source": [
    "import time\n",
    "\n",
    "def compute_integral(N):\n",
    "    h = 2/N\n",
    "    x = []\n",
    "    tmp = -1\n",
    "    while(tmp < 1):\n",
    "        x.append(tmp)\n",
    "        tmp += h\n",
    "    i = 0\n",
    "    for k in x:\n",
    "        i+= (1-k**2)**0.5\n",
    "    return h*i\n",
    "\n",
    "print(compute_integral(100)) \n",
    "\n",
    "\n",
    "start = time.time()\n",
    "a = compute_integral(600000)\n",
    "print(a)\n",
    "stop = time.time()\n",
    "print(\"Elapsed time = \" + str(stop-start))\n",
    "\n",
    "start = time.time()\n",
    "b = compute_integral(55000000)\n",
    "print(b)\n",
    "stop = time.time()\n",
    "print(\"Elapsed time = \" + str(stop-start))\n",
    "\n",
    "print(\"The gain is \" + str(b-a))"
   ]
  }
 ],
 "metadata": {
  "kernelspec": {
   "display_name": "Python 3",
   "language": "python",
   "name": "python3"
  },
  "language_info": {
   "codemirror_mode": {
    "name": "ipython",
    "version": 3
   },
   "file_extension": ".py",
   "mimetype": "text/x-python",
   "name": "python",
   "nbconvert_exporter": "python",
   "pygments_lexer": "ipython3",
   "version": "3.7.4"
  }
 },
 "nbformat": 4,
 "nbformat_minor": 2
}
