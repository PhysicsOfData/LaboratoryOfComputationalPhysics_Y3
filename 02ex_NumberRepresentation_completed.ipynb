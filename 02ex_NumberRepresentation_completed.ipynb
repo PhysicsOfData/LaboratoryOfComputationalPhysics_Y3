{
 "cells": [
  {
   "cell_type": "markdown",
   "metadata": {},
   "source": [
    "1\\. Write a function that converts number representation (bin<->dec<->hex)"
   ]
  },
  {
   "cell_type": "code",
   "execution_count": 8,
   "metadata": {},
   "outputs": [
    {
     "name": "stdout",
     "output_type": "stream",
     "text": [
      "Type your number: 354\n",
      "Type the base of your number [\"bin\", \"dec\" or \"hex\"]: dec\n",
      "Type the base in which your number should be converted [\"bin\", \"dec\" or \"hex\"]: hex\n",
      "0x162\n"
     ]
    }
   ],
   "source": [
    "def converter(number, type1, type2) : #type1 is the one of input, type2 is of the desired output\n",
    "    if type1 == type2 : #no conversion needed\n",
    "        output = number\n",
    "    c = 2\n",
    "    if type1 == 'hex' : #properly set ausiliary variable\n",
    "        c = 16\n",
    "    if type2 == 'dec' : \n",
    "        output = int(number, c)\n",
    "    if type1 == 'dec' : #for decimal input\n",
    "        if type2 == 'bin' :\n",
    "            output = bin(int(number))\n",
    "        if type2 == 'hex' :\n",
    "            output = hex(int(number))\n",
    "    if type1 != 'dec' : #two steps...the whole chain\n",
    "        passaggio = int(number, c)\n",
    "        if type2 == 'bin' :\n",
    "            output = bin(passaggio)\n",
    "        if type2 == 'hex' :\n",
    "            output = hex(passaggio)\n",
    "    return output\n",
    "\n",
    "my_number = input('Type your number: ')\n",
    "b1 = input('Type the base of your number [\"bin\", \"dec\" or \"hex\"]: ')\n",
    "b2 = input('Type the base in which your number should be converted [\"bin\", \"dec\" or \"hex\"]: ')\n",
    "converted_number = converter(my_number, b1, b2)\n",
    "print(converted_number)"
   ]
  },
  {
   "cell_type": "markdown",
   "metadata": {},
   "source": [
    "2\\. Write a function that converts a 32 bit word into a single precision floating point (i.e. interprets the various bits as sign, mantissa and exponent)"
   ]
  },
  {
   "cell_type": "code",
   "execution_count": 2,
   "metadata": {
    "scrolled": true
   },
   "outputs": [
    {
     "name": "stdout",
     "output_type": "stream",
     "text": [
      "3.1415927410125732\n"
     ]
    }
   ],
   "source": [
    "fp = '01000000010010010000111111011011' #pi from wikipedia -> https://en.wikipedia.org/wiki/Single-precision_floating-point_format#Single-precision_examples\n",
    "sign = (-1)**int(fp[0])\n",
    "expb = 0\n",
    "man = 1.0\n",
    "for i in range(1,9,1) :\n",
    "    expb = expb + int(fp[i])*10**(8-i)\n",
    "exp = int('0b'+str(expb),2) - 127\n",
    "for i in range(9,32,1) :\n",
    "    man = man + float(fp[i])*2**(8-i)\n",
    "print(sign*man*2**exp)"
   ]
  },
  {
   "cell_type": "markdown",
   "metadata": {},
   "source": [
    "3\\. Write a program to determine the underflow and overflow limits (within a factor of 2) for python on your computer. \n",
    "\n",
    "**Tips**: define two variables inizialized to 1 and halve/double them enough time to exceed the under/over-flow limits  "
   ]
  },
  {
   "cell_type": "code",
   "execution_count": 3,
   "metadata": {},
   "outputs": [
    {
     "name": "stdout",
     "output_type": "stream",
     "text": [
      "The overflow limit is approx: 2^1024\n",
      "The underflow limit is approx: 2^-1075\n"
     ]
    }
   ],
   "source": [
    "over, under = 1.0, 1.0\n",
    "over2, under2, io, iu = 0.0, 0.0, 0, 0\n",
    "while over != over2 : #overflow\n",
    "    over2 = over\n",
    "    over = over2*2.0\n",
    "    io += 1\n",
    "while under != under2 : #underflow\n",
    "    under2 = under\n",
    "    under = under/2.0\n",
    "    iu += 1\n",
    "print('The overflow limit is approx: 2^' + str(io-1))\n",
    "print('The underflow limit is approx: 2^-' + str(iu-1))"
   ]
  },
  {
   "cell_type": "markdown",
   "metadata": {},
   "source": [
    "4\\. Write a program to determine the machine precision\n",
    "\n",
    "**Tips**: define a new variable by adding a smaller and smaller value (proceeding similarly to prob. 2) to an original variable and check the point where the two are the same "
   ]
  },
  {
   "cell_type": "code",
   "execution_count": 4,
   "metadata": {
    "scrolled": true
   },
   "outputs": [
    {
     "name": "stdout",
     "output_type": "stream",
     "text": [
      "1.1\n",
      "1.01\n",
      "1.001\n",
      "1.0001\n",
      "1.00001\n",
      "1.000001\n",
      "1.0000001\n",
      "1.00000001\n",
      "1.000000001\n",
      "1.0000000001\n",
      "1.00000000001\n",
      "1.000000000001\n",
      "1.0000000000001\n",
      "1.00000000000001\n",
      "1.000000000000001\n",
      "1.0\n",
      "Machine precision is approx 1e-15\n"
     ]
    }
   ],
   "source": [
    "start, incremented, index = 1.0, 1.1, 1\n",
    "while start != incremented :\n",
    "    incremented = start + 10**(-index) #cycle of trials with each time a smaller increment\n",
    "    print(incremented)\n",
    "    index+=1\n",
    "print('Machine precision is approx '  + str(10**(-index+2)))"
   ]
  },
  {
   "cell_type": "markdown",
   "metadata": {},
   "source": [
    "5\\. Write a function that takes in input three parameters $a$, $b$ and $c$ and prints out the two solutions to the quadratic equation $ax^2+bx+c=0$ using the standard formula:\n",
    "$$\n",
    "x=\\frac{-b\\pm\\sqrt{b^2-4ac}}{2a}\n",
    "$$\n",
    "\n",
    "(a) use the program to compute the solution for $a=0.001$, $b=1000$ and $c=0.001$\n",
    "\n",
    "(b) re-express the standard solution formula by multiplying top and bottom by $-b\\mp\\sqrt{b^2-4ac}$ and again find the solution for $a=0.001$, $b=1000$ and $c=0.001$. How does it compare with what previously obtained? Why?\n",
    "\n",
    "(c) write a function that compute the roots of a quadratic equation accurately in all cases"
   ]
  },
  {
   "cell_type": "code",
   "execution_count": 5,
   "metadata": {},
   "outputs": [
    {
     "name": "stdout",
     "output_type": "stream",
     "text": [
      "Method 1) The two solutions are -9.999894245993346e-07 and -999999.999999\n",
      "Method 2) The two solutions are -1.0000000000009999e-06 and -1000010.5755125057\n",
      "Method 3) The two solutions are -1.0000000000009999e-06 and -999999.999999\n",
      "The second method works poorly for the second solution because at the denominator there is a difference between two almost identical numbers, while the first method has the same problem of inaccuracy but with the first solution, in which the problematic difference is at the numerator\n"
     ]
    }
   ],
   "source": [
    "import math #for sqrt\n",
    "\n",
    "def radici(a, b, c) :\n",
    "    x1 = (-b+math.sqrt(b**2-4*a*c))/(2*a)\n",
    "    x2 = (-b-math.sqrt(b**2-4*a*c))/(2*a)\n",
    "    print('Method 1) The two solutions are ' + str(x1) + ' and ' + str(x2))\n",
    "def radici2(a,b,c) :\n",
    "    x1 = (4*a*c)/(2*a*(-b-math.sqrt(b**2-4*a*c)))\n",
    "    x2 = (4*a*c)/(2*a*(-b+math.sqrt(b**2-4*a*c)))\n",
    "    print('Method 2) The two solutions are ' + str(x1) + ' and ' + str(x2))\n",
    "def radici3(a,b,c) :\n",
    "    x1 = (b**2-b**2+4*a*c)/(2*a*(-b-math.sqrt(b**2-4*a*c)))\n",
    "    x2 = (-b-math.sqrt(b**2-4*a*c))/(2*a)\n",
    "    print('Method 3) The two solutions are ' + str(x1) + ' and ' + str(x2))\n",
    "radici(0.001, 1000, 0.001)\n",
    "radici2(0.001, 1000, 0.001)\n",
    "radici3(0.001, 1000, 0.001)\n",
    "print(\"The second method works poorly for the second solution because at the denominator there is a difference between two almost identical numbers, while the first method has the same problem of inaccuracy but with the first solution, in which the problematic difference is at the numerator\")"
   ]
  },
  {
   "cell_type": "markdown",
   "metadata": {},
   "source": [
    "6\\. Write a program that implements the function $f(x)=x(x−1)$\n",
    "\n",
    "(a) Calculate the derivative of the function at the point $x = 1$ using the derivative definition:\n",
    "\n",
    "$$\n",
    "\\frac{{\\rm d}f}{{\\rm d}x} = \\lim_{\\delta\\to0} \\frac{f(x+\\delta)-f(x)}{\\delta}\n",
    "$$\n",
    "\n",
    "with $\\delta = 10^{−2}$. Calculate the true value of the same derivative analytically and compare with the answer your program gives. The two will not agree perfectly. Why not?\n",
    "\n",
    "(b) Repeat the calculation for $\\delta = 10^{−4}, 10^{−6}, 10^{−8}, 10^{−10}, 10^{−12}$ and $10^{−14}$. How does the accuracy scales with $\\delta$?"
   ]
  },
  {
   "cell_type": "code",
   "execution_count": 6,
   "metadata": {},
   "outputs": [
    {
     "name": "stdout",
     "output_type": "stream",
     "text": [
      "Delta = 0.01 , derivative = 1.010000000000001\n",
      "Delta = 0.0001 , derivative = 1.0000999999998899\n",
      "Delta = 1e-06 , derivative = 1.0000009999177333\n",
      "Delta = 1e-08 , derivative = 1.0000000039225287\n",
      "Delta = 1e-10 , derivative = 1.000000082840371\n",
      "Delta = 1e-12 , derivative = 1.0000889005833413\n",
      "Delta = 1e-14 , derivative = 0.9992007221626509\n",
      "The true analytic value is 1.0, there is a disagreement with the ones computed with the code because of limited precision of the derivative definition implemented.\n",
      "There is a sensible improvement in accuracy up to an increment of 10^(-8): with smaller deltas, the limited machine precision in performing additions of numbers with great difference in orders of magnitude shows.\n"
     ]
    }
   ],
   "source": [
    "def f(x):\n",
    "    return x*(x-1.0)\n",
    "\n",
    "def derivative(f, x, delta) :\n",
    "    return (f(x+delta)-f(x))/delta\n",
    "\n",
    "deltas = [10**(-2), 10**-4, 10**-6, 10**-8, 10**-10, 10**-12, 10**-14] #list of increments to be tested\n",
    "for d in deltas :\n",
    "    print('Delta =', d, ', derivative =', derivative(f, 1.0, d))\n",
    "print('The true analytic value is 1.0, there is a disagreement with the ones computed with the code because of limited precision of the derivative definition implemented.')\n",
    "print('There is a sensible improvement in accuracy up to an increment of 10^(-8): with smaller deltas, the limited machine precision in performing additions of numbers with great difference in orders of magnitude shows.')"
   ]
  },
  {
   "cell_type": "markdown",
   "metadata": {},
   "source": [
    "7\\. Consider the integral of the semicircle of radius 1:\n",
    "$$\n",
    "I=\\int_{-1}^{1} \\sqrt(1-x^2) {\\rm d}x\n",
    "$$\n",
    "which it's known to be $I=\\frac{\\pi}{2}=1.57079632679...$.\n",
    "Alternatively we can use the Riemann definition of the integral:\n",
    "$$\n",
    "I=\\lim_{N\\to\\infty} \\sum_{k=1}^{N} h y_k \n",
    "$$\n",
    "\n",
    "with $h=2/N$ the width of each of the $N$ slices the domain is divided into and where\n",
    "$y_k$ is the value of the function at the $k-$th slice.\n",
    "\n",
    "(a) Write a programe to compute the integral with $N=100$. How does the result compares to the true value?\n",
    "\n",
    "(b) How much can $N$ be increased if the computation needs to be run in less than a second? What is the gain in running it for 1 minute? \n"
   ]
  },
  {
   "cell_type": "code",
   "execution_count": 7,
   "metadata": {},
   "outputs": [
    {
     "name": "stdout",
     "output_type": "stream",
     "text": [
      "a) N=100 leads to I= 1.5691342555492505 , the true value is approx 1.57079632679..., so there is an error of approx 0.16620712456461018 %\n",
      "b) For a less than a second computation, N can be increased up to be approx N=820000, with a result for the integral: \n",
      " I= 1.5707963245552163 , with an error of approx 2.239680219062734e-07 %\n",
      "b) For up to a minute computation, N can be increased up to be approx N=5*10^7, with: \n",
      " I= 1.5707963267898326 , with an error of approx 5.063949259920264e-10 %\n"
     ]
    }
   ],
   "source": [
    "import math\n",
    "\n",
    "def f(x) :\n",
    "    return math.sqrt(1.0-x**2)\n",
    "\n",
    "def riemann(N, f) :\n",
    "    h = 2.0/N\n",
    "    integral = 0.0\n",
    "    for k in range (0, N, 1) :\n",
    "        integral = integral+h*f(-1.0+k*h)\n",
    "    return integral\n",
    "\n",
    "true = math.pi/2.0\n",
    "result1 = riemann(100, f) #N = 100\n",
    "print('a) N=100 leads to I=', result1, ', the true value is approx 1.57079632679..., so there is an error of approx', (true-result1)*100, '%')\n",
    "# Some trials to evaluate N\n",
    "#for N in range (800000,900000,10000):\n",
    "#    print('N=' + str(N) + ' time: ')\n",
    "#    %timeit riemann(N,f)\n",
    "result2 = riemann(820000,f) #<1s\n",
    "print('b) For a less than a second computation, N can be increased up to be approx N=820000, with a result for the integral: \\n I=', result2, ', with an error of approx', (true-result2)*100, '%')\n",
    "# Some other trials to evaluate N in this situation\n",
    "#for N in range (48000000,53000000,2000000) :\n",
    "#    print('N=' + str(N) + ', time: ')\n",
    "#    %timeit riemann(N,f)\n",
    "result3 = riemann(50000000, f) #<1min\n",
    "print('b) For up to a minute computation, N can be increased up to be approx N=5*10^7, with: \\n I=', result3, ', with an error of approx', (true-result3)*100, '%')"
   ]
  },
  {
   "cell_type": "code",
   "execution_count": null,
   "metadata": {},
   "outputs": [],
   "source": []
  }
 ],
 "metadata": {
  "kernelspec": {
   "display_name": "Python 3",
   "language": "python",
   "name": "python3"
  },
  "language_info": {
   "codemirror_mode": {
    "name": "ipython",
    "version": 3
   },
   "file_extension": ".py",
   "mimetype": "text/x-python",
   "name": "python",
   "nbconvert_exporter": "python",
   "pygments_lexer": "ipython3",
   "version": "3.7.4"
  }
 },
 "nbformat": 4,
 "nbformat_minor": 2
}
