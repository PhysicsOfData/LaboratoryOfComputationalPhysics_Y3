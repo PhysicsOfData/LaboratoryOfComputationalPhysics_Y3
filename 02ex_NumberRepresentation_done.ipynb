{
 "cells": [
  {
   "cell_type": "markdown",
   "metadata": {},
   "source": [
    "1\\. Write a function that converts number representation (bin<->dec<->hex)"
   ]
  },
  {
   "cell_type": "code",
   "execution_count": 1,
   "metadata": {},
   "outputs": [
    {
     "name": "stdout",
     "output_type": "stream",
     "text": [
      "5  in decimal :  5\n",
      "5  in Binary :  0b101\n",
      "5  in Hex :  0x5\n"
     ]
    }
   ],
   "source": [
    "def Convert(input):\n",
    "    decimal = int(input)\n",
    "    print(input, \" in decimal : \", decimal) \n",
    "\n",
    "    binary = bin(decimal)\n",
    "    print(input, \" in Binary : \", binary) \n",
    "    \n",
    "    hexadecimal = hex(decimal)\n",
    "    print(input, \" in Hex : \",hexadecimal)\n",
    "\n",
    "Convert(0b101)"
   ]
  },
  {
   "cell_type": "markdown",
   "metadata": {},
   "source": [
    "2\\. Write a function that converts a 32 bit word into a single precision floating point (i.e. interprets the various bits as sign, mantissa and exponent)"
   ]
  },
  {
   "cell_type": "code",
   "execution_count": 13,
   "metadata": {},
   "outputs": [
    {
     "name": "stdout",
     "output_type": "stream",
     "text": [
      "sign bit is: 1\n",
      "exponent is: 10000011\n",
      "converted of exponent is: 131\n",
      "mantissa is: 00001100000000000000000\n",
      "converted of mantissa is: 1.046875\n",
      "The float value of the given 32 bit word is: -16.75\n"
     ]
    }
   ],
   "source": [
    "def convertToInt(mantissa_str): \n",
    "    power = -1\n",
    "    intmantissa = 0\n",
    "\n",
    "    for i in mantissa_str: \n",
    "\n",
    "        intmantissa += (int(i) * pow(2, power)) \n",
    "        power -= 1\n",
    "\n",
    "    return (intmantissa + 1)\n",
    "\n",
    "inputword = \"11000001100001100000000000000000\"\n",
    "\n",
    "#first bit = sign bit\n",
    "sign_bit = int(inputword[0])\n",
    "print('sign bit is:',sign_bit)\n",
    "\n",
    "#Exponent Bits in Biased \n",
    "exponent = int(inputword[1 : 9], 2) \n",
    "print('exponent is:', inputword[1 : 9])\n",
    "print('converted of exponent is:', exponent)\n",
    "\n",
    "# unbiased exponent\n",
    "exponent_unbias = exponent - 127\n",
    " \n",
    "# Mantissa \n",
    "mantissastr = inputword[9 : ] \n",
    "print('mantissa is:',mantissastr)\n",
    "mantissa_int = convertToInt(mantissastr)  \n",
    "print('converted of mantissa is:',mantissa_int)\n",
    "realnumber = pow(-1, sign_bit) * mantissa_int * pow(2, exponent_unbias)\n",
    "\n",
    "print(\"The float value of the given 32 bit word is:\",realnumber) \n"
   ]
  },
  {
   "cell_type": "markdown",
   "metadata": {},
   "source": [
    "3\\. Write a program to determine the underflow and overflow limits (within a factor of 2) for python on your computer. \n",
    "\n",
    "**Tips**: define two variables inizialized to 1 and halve/double them enough time to exceed the under/over-flow limits  "
   ]
  },
  {
   "cell_type": "code",
   "execution_count": 17,
   "metadata": {},
   "outputs": [
    {
     "name": "stdout",
     "output_type": "stream",
     "text": [
      "Overflow is: 8.98846567431158e+307\n",
      "Underflow is: 5e-324\n"
     ]
    }
   ],
   "source": [
    "#overflow\n",
    "z = 1\n",
    "while z/z == 1.:\n",
    "    maximum = z\n",
    "    z *= 2.\n",
    "    \n",
    "#underflow\n",
    "x = 1.\n",
    "while x != 0. :\n",
    "    minimum = x\n",
    "    x /= 2.\n",
    "\n",
    "print(\"Overflow is:\", maximum)\n",
    "print(\"Underflow is:\", minimum)"
   ]
  },
  {
   "cell_type": "markdown",
   "metadata": {},
   "source": [
    "4\\. Write a program to determine the machine precision\n",
    "\n",
    "**Tips**: define a new variable by adding a smaller and smaller value (proceeding similarly to prob. 2) to an original variable and check the point where the two are the same "
   ]
  },
  {
   "cell_type": "code",
   "execution_count": 19,
   "metadata": {},
   "outputs": [
    {
     "name": "stdout",
     "output_type": "stream",
     "text": [
      "The machine precision is: 1.000000000000001\n"
     ]
    }
   ],
   "source": [
    "k = 1\n",
    "x = 1\n",
    "y = x + 0.1\n",
    "prec = 0.\n",
    "while ( y - x ) > 0.:\n",
    "    k = k + 1\n",
    "    prec = y\n",
    "    y = x\n",
    "    y = y + (10**(-k))\n",
    "    \n",
    "print(\"The machine precision is:\",prec)"
   ]
  },
  {
   "cell_type": "markdown",
   "metadata": {},
   "source": [
    "5\\. Write a function that takes in input three parameters $a$, $b$ and $c$ and prints out the two solutions to the quadratic equation $ax^2+bx+c=0$ using the standard formula:\n",
    "$$\n",
    "x=\\frac{-b\\pm\\sqrt{b^2-4ac}}{2a}\n",
    "$$\n",
    "\n",
    "(a) use the program to compute the solution for $a=0.001$, $b=1000$ and $c=0.001$\n",
    "\n",
    "(b) re-express the standard solution formula by multiplying top and bottom by $-b\\mp\\sqrt{b^2-4ac}$ and again find the solution for $a=0.001$, $b=1000$ and $c=0.001$. How does it compare with what previously obtained? Why?\n",
    "\n",
    "(c) write a function that compute the roots of a quadratic equation accurately in all cases"
   ]
  },
  {
   "cell_type": "code",
   "execution_count": 3,
   "metadata": {},
   "outputs": [
    {
     "name": "stdout",
     "output_type": "stream",
     "text": [
      "please enter a value:0.001\n",
      "please enter b value:1000\n",
      "please enter c value:0.001\n",
      "The fist answer for part a is: -9.999894245993346e-07\n",
      "the second answer for part a is: -999999.999999\n",
      "The fist answer for part b is: -9.999894245993346e-07\n",
      "the second answer for part b is: -999999.9999990001\n",
      "\n",
      "The difference is because of high number of decimal places.\n",
      "The final answers to compute the roots of a quadratic equation accurately in all cases are:\n",
      " real and different roots \n",
      "-9.999894245993346e-07\n",
      "-999999.999999\n"
     ]
    }
   ],
   "source": [
    "import math\n",
    "from math import sqrt\n",
    "a = input(\"please enter a value:\")\n",
    "b = input(\"please enter b value:\")\n",
    "c = input(\"please enter c value:\")\n",
    "\n",
    "a = float(a)\n",
    "b = float(b)\n",
    "c = float(c)\n",
    "#part a\n",
    "x1 = (-b + sqrt((b**2)-(4*a*c)))/(2*a)\n",
    "x2 = (-b - sqrt((b**2)-(4*a*c)))/(2*a)\n",
    "\n",
    "print(\"The fist answer for part a is:\",x1)\n",
    "print(\"the second answer for part a is:\",x2)\n",
    "\n",
    "#part b\n",
    "x1_1 = ((-b + sqrt((b**2)-(4*a*c)))*(-b - sqrt((b**2)-(4*a*c))))/((2*a)*(-b - sqrt((b**2)-(4*a*c))))\n",
    "x2_2 = ((-b - sqrt((b**2)-(4*a*c)))*(-b + sqrt((b**2)-(4*a*c))))/((2*a)*(-b + sqrt((b**2)-(4*a*c))))\n",
    "\n",
    "print(\"The fist answer for part b is:\",x1_1)\n",
    "print(\"the second answer for part b is:\",x2_2)\n",
    "\n",
    "print(\"\\nThe difference is because of high number of decimal places.\")\n",
    "\n",
    "\n",
    "print(\"The final answers to compute the roots of a quadratic equation accurately in all cases are:\")\n",
    "def roots(a,b,c):  \n",
    "  \n",
    "    dis = b * b - 4 * a * c  \n",
    "    sqrt_val = math.sqrt(abs(dis))  \n",
    "       \n",
    "    if dis > 0:  \n",
    "        print(\" real and different roots \")  \n",
    "        print((-b + sqrt_val)/(2 * a))  \n",
    "        print((-b - sqrt_val)/(2 * a))  \n",
    "      \n",
    "    elif dis == 0:  \n",
    "        print(\" real and same roots\")  \n",
    "        print(-b / (2 * a))  \n",
    "      \n",
    "    else: \n",
    "        print(\"Complex Roots\")  \n",
    "        print(- b / (2 * a), \" + i\", sqrt_val)  \n",
    "        print(- b / (2 * a), \" - i\", sqrt_val)  \n",
    "  \n",
    "if a == 0:  \n",
    "        print(\"Input correct quadratic equation\")  \n",
    "  \n",
    "else: \n",
    "    roots(a, b, c) \n",
    "    \n"
   ]
  },
  {
   "cell_type": "markdown",
   "metadata": {},
   "source": [
    "6\\. Write a program that implements the function $f(x)=x(x−1)$\n",
    "\n",
    "(a) Calculate the derivative of the function at the point $x = 1$ using the derivative definition:\n",
    "\n",
    "$$\n",
    "\\frac{{\\rm d}f}{{\\rm d}x} = \\lim_{\\delta\\to0} \\frac{f(x+\\delta)-f(x)}{\\delta}\n",
    "$$\n",
    "\n",
    "with $\\delta = 10^{−2}$. Calculate the true value of the same derivative analytically and compare with the answer your program gives. The two will not agree perfectly. Why not?\n",
    "\n",
    "(b) Repeat the calculation for $\\delta = 10^{−4}, 10^{−6}, 10^{−8}, 10^{−10}, 10^{−12}$ and $10^{−14}$. How does the accuracy scales with $\\delta$?"
   ]
  },
  {
   "cell_type": "code",
   "execution_count": 10,
   "metadata": {},
   "outputs": [
    {
     "name": "stdout",
     "output_type": "stream",
     "text": [
      "The derivative of the function at point x=1 using the definition with delta=0.001 is: 1.010000000000001\n",
      "The derivative of the function at point x=1 using the analytic calculation is: 1\n",
      "The difference is because the limit operation cannot be performed properly on a machine.\n",
      "PART B\n",
      "The derivative of the function at point x=1 using the definition with delta=1e-4 is: 1.0000999999998899\n",
      "The derivative of the function at point x=1 using the analytic calculation is: 1\n",
      "The derivative of the function at point x=1 using the definition with delta=1e-6 is: 1.0000009999177333\n",
      "The derivative of the function at point x=1 using the analytic calculation is: 1\n",
      "The derivative of the function at point x=1 using the definition with delta=1e-8 is: 1.0000000039225287\n",
      "The derivative of the function at point x=1 using the analytic calculation is: 1\n",
      "The derivative of the function at point x=1 using the definition with delta=1e-10 is: 1.000000082840371\n",
      "The derivative of the function at point x=1 using the analytic calculation is: 1\n",
      "The derivative of the function at point x=1 using the definition with delta=1e-12 is: 1.0000889005833413\n",
      "The derivative of the function at point x=1 using the analytic calculation is: 1\n",
      "The difference between the answers is because of impossibility of the machine to identify properly the difference between numbers which are too close to each other.\n"
     ]
    }
   ],
   "source": [
    "def f(x):\n",
    "    return x*(x-1)\n",
    "\n",
    "#part a\n",
    "def derf(x,delta):\n",
    "    return (f(x+delta)-f(x))/delta\n",
    "\n",
    "def anaf(x):\n",
    "    return 2*x-1\n",
    "\n",
    "print(\"The derivative of the function at point x=1 using the definition with delta=0.001 is:\", derf(1,0.01))\n",
    "print(\"The derivative of the function at point x=1 using the analytic calculation is:\", anaf(1))\n",
    "print(\"The difference is because the limit operation cannot be performed properly on a machine.\")\n",
    "\n",
    "#part b\n",
    "print(\"PART B\")\n",
    "print(\"The derivative of the function at point x=1 using the definition with delta=1e-4 is:\", derf(1,1e-4))\n",
    "print(\"The derivative of the function at point x=1 using the analytic calculation is:\", anaf(1))\n",
    "\n",
    "print(\"The derivative of the function at point x=1 using the definition with delta=1e-6 is:\", derf(1,1e-6))\n",
    "print(\"The derivative of the function at point x=1 using the analytic calculation is:\", anaf(1))\n",
    "\n",
    "print(\"The derivative of the function at point x=1 using the definition with delta=1e-8 is:\", derf(1,1e-8))\n",
    "print(\"The derivative of the function at point x=1 using the analytic calculation is:\", anaf(1))\n",
    "\n",
    "print(\"The derivative of the function at point x=1 using the definition with delta=1e-10 is:\", derf(1,1e-10))\n",
    "print(\"The derivative of the function at point x=1 using the analytic calculation is:\", anaf(1))\n",
    "\n",
    "print(\"The derivative of the function at point x=1 using the definition with delta=1e-12 is:\", derf(1,1e-12))\n",
    "print(\"The derivative of the function at point x=1 using the analytic calculation is:\", anaf(1))\n",
    "\n",
    "print(\"The difference between the answers is because of impossibility of the machine to identify properly the difference between numbers which are too close to each other.\")"
   ]
  },
  {
   "cell_type": "markdown",
   "metadata": {},
   "source": [
    "7\\. Consider the integral of the semicircle of radius 1:\n",
    "$$\n",
    "I=\\int_{-1}^{1} \\sqrt(1-x^2) {\\rm d}x\n",
    "$$\n",
    "which it's known to be $I=\\frac{\\pi}{2}=1.57079632679...$.\n",
    "Alternatively we can use the Riemann definition of the integral:\n",
    "$$\n",
    "I=\\lim_{N\\to\\infty} \\sum_{k=1}^{N} h y_k \n",
    "$$\n",
    "\n",
    "with $h=2/N$ the width of each of the $N$ slices the domain is divided into and where\n",
    "$y_k$ is the value of the function at the $k-$th slice.\n",
    "\n",
    "(a) Write a programe to compute the integral with $N=100$. How does the result compares to the true value?\n",
    "\n",
    "(b) How much can $N$ be increased if the computation needs to be run in less than a second? What is the gain in running it for 1 minute? \n"
   ]
  },
  {
   "cell_type": "code",
   "execution_count": 36,
   "metadata": {},
   "outputs": [
    {
     "name": "stdout",
     "output_type": "stream",
     "text": [
      "The result is: 1.5691342555492505\n",
      "error = 0.0016620712456461018\n",
      "1.12 s ± 100 ms per loop (mean ± std. dev. of 7 runs, 1 loop each)\n",
      "The result is for N = 1529900: 1.5707963259159756\n",
      "error = 8.789209360315908e-10\n",
      "1min 3s ± 1.43 s per loop (mean ± std. dev. of 7 runs, 1 loop each)\n",
      "The result is for N = 60*1529900: 1.5707963267926033\n",
      "error = 2.2932766796657233e-12\n"
     ]
    }
   ],
   "source": [
    "import math\n",
    "\n",
    "def f(x):\n",
    "    return sqrt(1-x**2)\n",
    "\n",
    "def integral(f,a,b,N):\n",
    "    integral=0\n",
    "    h=(b-a)/N\n",
    "    for i in range(1,N+1):\n",
    "        integral += h*f(a+i*h)\n",
    "    return integral\n",
    "\n",
    "result = integral(f,-1,1,100)\n",
    "print(\"The result is:\",result)\n",
    "print('error =', math.pi/2 - result )\n",
    "\n",
    "# %timeit integral(f,-1,1,100)\n",
    "\n",
    "#part b\n",
    "%timeit integral(f,-1,1,1529900)\n",
    "result1 = integral(f,-1,1,1529900)\n",
    "print(\"The result is for N = 1529900:\",result1)\n",
    "print('error =', math.pi/2 - result1 )\n",
    "\n",
    "%timeit integral(f,-1,1,60*1529900)\n",
    "result2 = integral(f,-1,1,60*1529900)\n",
    "print(\"The result is for N = 60*1529900:\",result2)\n",
    "print('error =', math.pi/2 - result2 )"
   ]
  }
 ],
 "metadata": {
  "kernelspec": {
   "display_name": "Python 3",
   "language": "python",
   "name": "python3"
  },
  "language_info": {
   "codemirror_mode": {
    "name": "ipython",
    "version": 3
   },
   "file_extension": ".py",
   "mimetype": "text/x-python",
   "name": "python",
   "nbconvert_exporter": "python",
   "pygments_lexer": "ipython3",
   "version": "3.7.3"
  }
 },
 "nbformat": 4,
 "nbformat_minor": 2
}
