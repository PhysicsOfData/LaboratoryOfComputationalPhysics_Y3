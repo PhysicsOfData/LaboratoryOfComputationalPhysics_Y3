{
 "cells": [
  {
   "cell_type": "markdown",
   "metadata": {},
   "source": [
    "1\\. Write a function that converts number representation (bin<->dec<->hex)"
   ]
  },
  {
   "cell_type": "code",
   "execution_count": 4,
   "metadata": {},
   "outputs": [
    {
     "name": "stdout",
     "output_type": "stream",
     "text": [
      "number inserted: 50\n",
      "Binary format: 0b110010\n",
      "Hexadecimal format: 0x32\n"
     ]
    }
   ],
   "source": [
    "def convert(n):\n",
    "    print(\"number inserted:\", n)\n",
    "    print(\"Binary format:\", bin(n))\n",
    "    print(\"Hexadecimal format:\", hex(n))\n",
    "    return\n",
    "\n",
    "n=50\n",
    "convert(n)"
   ]
  },
  {
   "cell_type": "markdown",
   "metadata": {},
   "source": [
    "2\\. Write a function that converts a 32 bit word into a single precision floating point (i.e. interprets the various bits as sign, mantissa and exponent)"
   ]
  },
  {
   "cell_type": "code",
   "execution_count": 20,
   "metadata": {},
   "outputs": [
    {
     "name": "stdout",
     "output_type": "stream",
     "text": [
      "-404604333.9554816\n"
     ]
    }
   ],
   "source": [
    "word = \"11001101110011010110011100101110\"\n",
    "def interpreter(w):\n",
    "    s = int(w[0],2)\n",
    "    e = int(w[1:9],2)\n",
    "    m = float(\"1.\" + str(int(w[9:33],2)))\n",
    "    return (-1)**s * m * 2**(e-127)\n",
    "\n",
    "print(interpreter(word))"
   ]
  },
  {
   "cell_type": "markdown",
   "metadata": {},
   "source": [
    "3\\. Write a program to determine the underflow and overflow limits (within a factor of 2) for python on your computer. \n",
    "\n",
    "**Tips**: define two variables inizialized to 1 and halve/double them enough time to exceed the under/over-flow limits  "
   ]
  },
  {
   "cell_type": "code",
   "execution_count": 50,
   "metadata": {},
   "outputs": [
    {
     "name": "stdout",
     "output_type": "stream",
     "text": [
      "Overflow limit: 8.98846567431158e+307\n",
      "Underflow limit: 5e-324\n"
     ]
    }
   ],
   "source": [
    "import math as m\n",
    "up, down = 1.,1.\n",
    "i,j = 1,1\n",
    "while up < m.inf:\n",
    "    up *= 2.\n",
    "    i+=1\n",
    "while down > 0.:\n",
    "    down /= 2.\n",
    "    j+=1\n",
    "print(\"Overflow limit:\", 2.**(i-2))\n",
    "print(\"Underflow limit:\", 2**(-j+2))"
   ]
  },
  {
   "cell_type": "markdown",
   "metadata": {},
   "source": [
    "4\\. Write a program to determine the machine precision\n",
    "\n",
    "**Tips**: define a new variable by adding a smaller and smaller value (proceeding similarly to prob. 2) to an original variable and check the point where the two are the same "
   ]
  },
  {
   "cell_type": "code",
   "execution_count": 54,
   "metadata": {},
   "outputs": [
    {
     "name": "stdout",
     "output_type": "stream",
     "text": [
      "Precision: 2.7755575615628914e-17\n"
     ]
    }
   ],
   "source": [
    "i,n = 0., 1.\n",
    "while i != j:\n",
    "    j = i\n",
    "    i += n\n",
    "    n /= 2\n",
    "print(\"Precision:\", n)"
   ]
  },
  {
   "cell_type": "markdown",
   "metadata": {},
   "source": [
    "5\\. Write a function that takes in input three parameters $a$, $b$ and $c$ and prints out the two solutions to the quadratic equation $ax^2+bx+c=0$ using the standard formula:\n",
    "$$\n",
    "x=\\frac{-b\\pm\\sqrt{b^2-4ac}}{2a}\n",
    "$$\n",
    "\n",
    "(a) use the program to compute the solution for $a=0.001$, $b=1000$ and $c=0.001$\n",
    "\n",
    "(b) re-express the standard solution formula by multiplying top and bottom by $-b\\mp\\sqrt{b^2-4ac}$ and again find the solution for $a=0.001$, $b=1000$ and $c=0.001$. How does it compare with what previously obtained? Why?\n",
    "\n",
    "(c) write a function that compute the roots of a quadratic equation accurately in all cases"
   ]
  },
  {
   "cell_type": "code",
   "execution_count": 9,
   "metadata": {},
   "outputs": [
    {
     "name": "stdout",
     "output_type": "stream",
     "text": [
      "(-999999.999999, -9.999894245993346e-07)\n",
      "(-1000010.5755125057, -1.000000000001e-06)\n",
      "(-999999.999999, -1.00000761449337e-06)\n"
     ]
    }
   ],
   "source": [
    "import math as m\n",
    "a,b,c = 0.001, 1000, 0.001\n",
    "def quad1(a,b,c):\n",
    "    return ((-b - m.sqrt(b**2-4*a*c))/(2*a), (-b + m.sqrt(b**2-4*a*c))/(2*a))\n",
    "print(quad1(a,b,c))\n",
    "\n",
    "def quad2(a,b,c):\n",
    "    return (2*c/(-b+m.sqrt(b**2-4*a*c)), 2*c/(-b-m.sqrt(b**2-4*a*c)))\n",
    "print(quad2(a,b,c))\n",
    "\n",
    "# in the square root there is the difference between a very large number and a very small number -> roundoff error\n",
    "\n",
    "def quad3(a,b,c):\n",
    "    return((-b**2 - m.sqrt(b**4-4*a*c*b**2))/(2*a*b), (-b**2 + m.sqrt(b**4-4*a*c*b**2))/(2*a*b))\n",
    "print(quad3(a,b,c))\n",
    "\n",
    "# by taking the broduct above and below with 'b' the root argument should move to an appropriate range"
   ]
  },
  {
   "cell_type": "markdown",
   "metadata": {},
   "source": [
    "6\\. Write a program that implements the function $f(x)=x(x−1)$\n",
    "\n",
    "(a) Calculate the derivative of the function at the point $x = 1$ using the derivative definition:\n",
    "\n",
    "$$\n",
    "\\frac{{\\rm d}f}{{\\rm d}x} = \\lim_{\\delta\\to0} \\frac{f(x+\\delta)-f(x)}{\\delta}\n",
    "$$\n",
    "\n",
    "with $\\delta = 10^{−2}$. Calculate the true value of the same derivative analytically and compare with the answer your program gives. The two will not agree perfectly. Why not?\n",
    "\n",
    "(b) Repeat the calculation for $\\delta = 10^{−4}, 10^{−6}, 10^{−8}, 10^{−10}, 10^{−12}$ and $10^{−14}$. How does the accuracy scales with $\\delta$?"
   ]
  },
  {
   "cell_type": "code",
   "execution_count": 21,
   "metadata": {},
   "outputs": [
    {
     "name": "stdout",
     "output_type": "stream",
     "text": [
      "[1.010000000000001, 1.0000999999998899, 1.0000009999177333, 1.0000000039225287, 1.000000082840371, 1.0000889005833413, 0.9992007221626509]\n"
     ]
    },
    {
     "data": {
      "image/png": "[encoded data removed]",
      "text/plain": [
       "<Figure size 432x288 with 1 Axes>"
      ]
     },
     "metadata": {
      "needs_background": "light"
     },
     "output_type": "display_data"
    }
   ],
   "source": [
    "def f(x):\n",
    "    return x*(x-1)\n",
    "delta = [1e-2, 1e-4, 1e-6, 1e-8, 1e-10, 1e-12, 1e-14]\n",
    "def der1(delta):\n",
    "    a = 1\n",
    "    return [(f(a+d) - f(a))/d for d in delta]\n",
    "print(der1(delta))\n",
    "\n",
    "# it should be exactly 1, but since the increment is finite the result is just an approximation.\n",
    "import numpy as np\n",
    "import matplotlib.pyplot as plt\n",
    "plt.plot(delta, der1(delta))\n",
    "plt.xscale('log')\n",
    "# the accurancy tends to become stationary as delta becomes smaller and smaller"
   ]
  },
  {
   "cell_type": "markdown",
   "metadata": {},
   "source": [
    "7\\. Consider the integral of the semicircle of radius 1:\n",
    "$$\n",
    "I=\\int_{-1}^{1} \\sqrt(1-x^2) {\\rm d}x\n",
    "$$\n",
    "which it's known to be $I=\\frac{\\pi}{2}=1.57079632679...$.\n",
    "Alternatively we can use the Riemann definition of the integral:\n",
    "$$\n",
    "I=\\lim_{N\\to\\infty} \\sum_{k=1}^{N} h y_k \n",
    "$$\n",
    "\n",
    "with $h=2/N$ the width of each of the $N$ slices the domain is divided into and where\n",
    "$y_k$ is the value of the function at the $k-$th slice.\n",
    "\n",
    "(a) Write a programe to compute the integral with $N=100$. How does the result compares to the true value?\n",
    "\n",
    "(b) How much can $N$ be increased if the computation needs to be run in less than a second? What is the gain in running it for 1 minute? \n"
   ]
  },
  {
   "cell_type": "code",
   "execution_count": 9,
   "metadata": {},
   "outputs": [
    {
     "name": "stdout",
     "output_type": "stream",
     "text": [
      "N = 100: 1.5602085158895234\n",
      "error:  0.6740409765353464 %\n",
      "20.3 µs ± 149 ns per loop (mean ± std. dev. of 7 runs, 10000 loops each)\n"
     ]
    }
   ],
   "source": [
    "import math as m\n",
    "realI = 1.57079632679\n",
    "def hca(N):\n",
    "    h = 1/N\n",
    "    I = 0\n",
    "    for k in range(1,N+1):\n",
    "        I += h*m.sqrt(1-(h*k)**2)\n",
    "    return 2*I\n",
    "\n",
    "print('N = 100:', hca(100))\n",
    "print('error: ', m.fabs(100*(hca(100)-realI)/realI), '%')\n",
    "%timeit hca(100)"
   ]
  },
  {
   "cell_type": "code",
   "execution_count": 18,
   "metadata": {},
   "outputs": [
    {
     "name": "stdout",
     "output_type": "stream",
     "text": [
      "N = 5000000: 1.570796126742411\n",
      "error:  1.2735425053313736e-05 %\n",
      "1.03 s ± 4.43 ms per loop (mean ± std. dev. of 7 runs, 1 loop each)\n"
     ]
    }
   ],
   "source": [
    "# 1 second running\n",
    "print('N = 5000000:', hca(5000000))\n",
    "print('error: ', m.fabs(100*(hca(5000000)-realI)/realI), '%')\n",
    "%timeit hca(5000000)"
   ]
  },
  {
   "cell_type": "code",
   "execution_count": 17,
   "metadata": {},
   "outputs": [
    {
     "name": "stdout",
     "output_type": "stream",
     "text": [
      "N = 100000: 1.5707963234621307\n",
      "error:  2.1185874048054564e-07 %\n"
     ]
    }
   ],
   "source": [
    "# 1 minute running\n",
    "I = hca(5000000*60)\n",
    "print('N = 100000:', I)\n",
    "print('error: ', m.fabs(100*(I-realI)/realI), '%')"
   ]
  },
  {
   "cell_type": "code",
   "execution_count": null,
   "metadata": {},
   "outputs": [],
   "source": []
  }
 ],
 "metadata": {
  "kernelspec": {
   "display_name": "Python 3",
   "language": "python",
   "name": "python3"
  },
  "language_info": {
   "codemirror_mode": {
    "name": "ipython",
    "version": 3
   },
   "file_extension": ".py",
   "mimetype": "text/x-python",
   "name": "python",
   "nbconvert_exporter": "python",
   "pygments_lexer": "ipython3",
   "version": "3.8.5"
  }
 },
 "nbformat": 4,
 "nbformat_minor": 2
}
