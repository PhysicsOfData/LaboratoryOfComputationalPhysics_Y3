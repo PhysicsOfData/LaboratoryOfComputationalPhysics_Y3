{
 "cells": [
  {
   "cell_type": "markdown",
   "metadata": {},
   "source": [
    "1\\. Write a function that converts number representation (bin<->dec<->hex)"
   ]
  },
  {
   "cell_type": "code",
   "execution_count": 10,
   "metadata": {},
   "outputs": [
    {
     "name": "stdout",
     "output_type": "stream",
     "text": [
      "enter the number10\n",
      "the binary form of the number from decimal form is:  0b1010\n",
      "the hexadecimal form of the number from decimal form is 0xa\n"
     ]
    }
   ],
   "source": [
    "def dec_to_bin(x_bin):\n",
    "    print(\"the binary form of the number from decimal form is: \", x_bin)\n",
    "\n",
    "def dec_to_hex(x_hex):\n",
    "    print(\"the hexadecimal form of the number from decimal form is: \", x_hex)\n",
    "\n",
    "def bin_to_dec(x_dec):\n",
    "    print(\"the decimal form of the number from binary form is: \", x_dec)\n",
    "\n",
    "def bin_to_hex(x_hex):\n",
    "    print(\"the hexadecimal form of the number from binary form is: \", x_hex)\n",
    "\n",
    "def hex_to_dec(x_dec):\n",
    "    print(\"the decimal form of the number from hexadecimal form is: \", x_dec)\n",
    "\n",
    "def hex_to_bin(x_bin):\n",
    "    print(\"the binary form of the number from hexadecimal form is: \", x_bin)\n",
    "    \n",
    "    \n",
    "x = input(\"enter the number\")\n",
    "x_dec = int(x)\n",
    "x_bin = bin(x_dec)\n",
    "x_hex = hex(x_dec)    \n",
    "\n",
    "if x == str(int(x)):\n",
    "    dec_to_bin(x_bin)\n",
    "    dec_to_hex(x_hex)\n",
    "elif x == str(bin(x_dec)):\n",
    "    bin_to_dec(x_dec)\n",
    "    bin_to_hex(x_hex)\n",
    "elif x == str(hex(x_dec)):\n",
    "    hex_to_dec(x_dec)\n",
    "    hex_to_bin(x_bin)"
   ]
  },
  {
   "cell_type": "markdown",
   "metadata": {},
   "source": [
    "2\\. Write a function that converts a 32 bit word into a single precision floating point (i.e. interprets the various bits as sign, mantissa and exponent)"
   ]
  },
  {
   "cell_type": "code",
   "execution_count": null,
   "metadata": {},
   "outputs": [],
   "source": [
    "x= list(input(\"enter the bits\"))\n",
    "\n",
    "def bit_to_float(x):\n",
    "    sign,f,e = 0,0,0\n",
    "    sign=x[31]\n",
    "    e= sum(for i in range (23): x[i]*pow(2,i))\n",
    "    f= sum(for j in range(23,31): x[j]*pow(2,j))\n",
    "    if sign == 0:\n",
    "        print((1+f*pow(10,-8))*pow(2,e-127))\n",
    "    else:\n",
    "        print((-1)*(1+f*pow(10,-8))*pow(2,e-127))\n",
    "        \n",
    "bit_to_float(x)        "
   ]
  },
  {
   "cell_type": "markdown",
   "metadata": {},
   "source": [
    "3\\. Write a program to determine the underflow and overflow limits (within a factor of 2) for python on your computer. \n",
    "\n",
    "**Tips**: define two variables inizialized to 1 and halve/double them enough time to exceed the under/over-flow limits  "
   ]
  },
  {
   "cell_type": "code",
   "execution_count": 22,
   "metadata": {},
   "outputs": [
    {
     "name": "stdout",
     "output_type": "stream",
     "text": [
      "5e-324 1075\n",
      "179769313486231590772930519078902473361797697894230657273430081157732675805500963132708477322407536021120113879871393357658789768814416622492847430639474124377767893424865485276302219601246094119453082952085005768838150682342462881473913110540827237163350510684586298239947245938479716304835356329624224137216 1024\n"
     ]
    }
   ],
   "source": [
    "def lower_limit(x):\n",
    "    i=0\n",
    "    while x[i] != 0 :\n",
    "        x[i] /= 2\n",
    "        x.append(x[i])\n",
    "        i += 1\n",
    "    print(x[i-2],i)    \n",
    "\n",
    "def upper_limit(x):\n",
    "    j=0\n",
    "    while x[j] <= 1.7976931348623157e+308:\n",
    "        x[j] *= 2\n",
    "        x.append(x[j])\n",
    "        j += 1\n",
    "    print(x[j],j)\n",
    "    \n",
    "    \n",
    "overflow = [1]\n",
    "underflow = [1]\n",
    "lower_limit(underflow)\n",
    "upper_limit(overflow)"
   ]
  },
  {
   "cell_type": "markdown",
   "metadata": {},
   "source": [
    "4\\. Write a program to determine the machine precision\n",
    "\n",
    "**Tips**: define a new variable by adding a smaller and smaller value (proceeding similarly to prob. 2) to an original variable and check the point where the two are the same "
   ]
  },
  {
   "cell_type": "code",
   "execution_count": 36,
   "metadata": {},
   "outputs": [
    {
     "name": "stdout",
     "output_type": "stream",
     "text": [
      "1075 7.0\n"
     ]
    }
   ],
   "source": [
    "x = 7\n",
    "epsilon = 1\n",
    "y = x+epsilon\n",
    "i = 0\n",
    "while epsilon != 0:\n",
    "    epsilon /= 2\n",
    "    y += epsilon\n",
    "    i += 1\n",
    "print(i,x+epsilon)    "
   ]
  },
  {
   "cell_type": "markdown",
   "metadata": {},
   "source": [
    "5\\. Write a function that takes in input three parameters $a$, $b$ and $c$ and prints out the two solutions to the quadratic equation $ax^2+bx+c=0$ using the standard formula:\n",
    "$$\n",
    "x=\\frac{-b\\pm\\sqrt{b^2-4ac}}{2a}\n",
    "$$\n",
    "\n",
    "(a) use the program to compute the solution for $a=0.001$, $b=1000$ and $c=0.001$\n",
    "\n",
    "(b) re-express the standard solution formula by multiplying top and bottom by $-b\\mp\\sqrt{b^2-4ac}$ and again find the solution for $a=0.001$, $b=1000$ and $c=0.001$. How does it compare with what previously obtained? Why?\n",
    "\n",
    "(c) write a function that compute the roots of a quadratic equation accurately in all cases"
   ]
  },
  {
   "cell_type": "code",
   "execution_count": 8,
   "metadata": {},
   "outputs": [
    {
     "name": "stdout",
     "output_type": "stream",
     "text": [
      "enter a: 0.001\n",
      "enter b: 1000\n",
      "enter c: 0.001\n"
     ]
    },
    {
     "data": {
      "text/plain": [
       "(-9.999894245993345e-13, -0.999999999999)"
      ]
     },
     "execution_count": 8,
     "metadata": {},
     "output_type": "execute_result"
    }
   ],
   "source": [
    "# a\n",
    "\n",
    "import cmath\n",
    "\n",
    "def equationroots(a,b,c):\n",
    "    x1,x2 = 0,0\n",
    "    x1 = ((-b) + cmath.sqrt( b*b - 4*a*c ))/2*a\n",
    "    x2 = ((-b) - cmath.sqrt( b*b - 4*a*c ))/2*a\n",
    "    return (x1,x2)\n",
    "\n",
    "a = float(input(\"enter a: \"))\n",
    "b = float(input(\"enter b: \"))\n",
    "c = float(input(\"enter c: \"))\n",
    "equationroots(a,b,c)"
   ]
  },
  {
   "cell_type": "code",
   "execution_count": 7,
   "metadata": {},
   "outputs": [
    {
     "name": "stdout",
     "output_type": "stream",
     "text": [
      "enter a: 0.001\n",
      "enter b: 1000\n",
      "enter c: 0.001\n"
     ]
    },
    {
     "data": {
      "text/plain": [
       "(-1.000000000001e-06, -1000010.5755125057)"
      ]
     },
     "execution_count": 7,
     "metadata": {},
     "output_type": "execute_result"
    }
   ],
   "source": [
    "# b\n",
    "\n",
    "import cmath\n",
    "\n",
    "def equationroots(a,b,c):\n",
    "    x1,x2 = 0,0\n",
    "    x1 = 2*c / (( -b ) - cmath.sqrt( b*b - 4*a*c ))\n",
    "    x2 = 2*c / (( -b ) + cmath.sqrt( b*b - 4*a*c ))\n",
    "    return (x1,x2)\n",
    "\n",
    "a = float(input(\"enter a: \"))\n",
    "b = float(input(\"enter b: \"))\n",
    "c = float(input(\"enter c: \"))\n",
    "equationroots(a,b,c)"
   ]
  },
  {
   "cell_type": "code",
   "execution_count": 9,
   "metadata": {},
   "outputs": [
    {
     "name": "stdout",
     "output_type": "stream",
     "text": [
      "enter a: 0.001\n",
      "enter b: 1000\n",
      "enter c: .001\n"
     ]
    },
    {
     "data": {
      "text/plain": [
       "(-9.999778782798785e-13, -0.999999999999)"
      ]
     },
     "execution_count": 9,
     "metadata": {},
     "output_type": "execute_result"
    }
   ],
   "source": [
    "# c\n",
    "\n",
    "import cmath\n",
    "\n",
    "def equationroots(a,b,c):\n",
    "    x1,x2 = 0,0\n",
    "    x1 = (cmath.sqrt( b*b - 4*a*c ) / 2*a) - ( b / 2*a )\n",
    "    x2 = -(cmath.sqrt( b*b - 4*a*c ) / 2*a) - ( b / 2*a )\n",
    "    return (x1,x2)\n",
    "\n",
    "a = float(input(\"enter a: \"))\n",
    "b = float(input(\"enter b: \"))\n",
    "c = float(input(\"enter c: \"))\n",
    "equationroots(a,b,c)"
   ]
  },
  {
   "cell_type": "markdown",
   "metadata": {},
   "source": [
    "6\\. Write a program that implements the function $f(x)=x(x−1)$\n",
    "\n",
    "(a) Calculate the derivative of the function at the point $x = 1$ using the derivative definition:\n",
    "\n",
    "$$\n",
    "\\frac{{\\rm d}f}{{\\rm d}x} = \\lim_{\\delta\\to0} \\frac{f(x+\\delta)-f(x)}{\\delta}\n",
    "$$\n",
    "\n",
    "with $\\delta = 10^{−2}$. Calculate the true value of the same derivative analytically and compare with the answer your program gives. The two will not agree perfectly. Why not?\n",
    "\n",
    "(b) Repeat the calculation for $\\delta = 10^{−4}, 10^{−6}, 10^{−8}, 10^{−10}, 10^{−12}$ and $10^{−14}$. How does the accuracy scales with $\\delta$?"
   ]
  },
  {
   "cell_type": "code",
   "execution_count": 24,
   "metadata": {},
   "outputs": [
    {
     "name": "stdout",
     "output_type": "stream",
     "text": [
      "the desire point is: 1\n",
      "the desire delta is: 0.01\n"
     ]
    },
    {
     "data": {
      "text/plain": [
       "1.010000000000001"
      ]
     },
     "execution_count": 24,
     "metadata": {},
     "output_type": "execute_result"
    }
   ],
   "source": [
    "def f(x):\n",
    "    return x*(x-1)\n",
    "\n",
    "def derivative(f,a,delta):\n",
    "    derivation = (f(a+delta) - f(a)) / delta\n",
    "    return derivation\n",
    "\n",
    "a = float(input(\"the desire point is: \"))\n",
    "delta = float(input(\"the desire delta is: \"))\n",
    "derivative(f,a,delta)"
   ]
  },
  {
   "cell_type": "markdown",
   "metadata": {},
   "source": [
    "7\\. Consider the integral of the semicircle of radius 1:\n",
    "$$\n",
    "I=\\int_{-1}^{1} \\sqrt(1-x^2) {\\rm d}x\n",
    "$$\n",
    "which it's known to be $I=\\frac{\\pi}{2}=1.57079632679...$.\n",
    "Alternatively we can use the Riemann definition of the integral:\n",
    "$$\n",
    "I=\\lim_{N\\to\\infty} \\sum_{k=1}^{N} h y_k \n",
    "$$\n",
    "\n",
    "with $h=2/N$ the width of each of the $N$ slices the domain is divided into and where\n",
    "$y_k$ is the value of the function at the $k-$th slice.\n",
    "\n",
    "(a) Write a programe to compute the integral with $N=100$. How does the result compares to the true value?\n",
    "\n",
    "(b) How much can $N$ be increased if the computation needs to be run in less than a second? What is the gain in running it for 1 minute? \n"
   ]
  },
  {
   "cell_type": "code",
   "execution_count": 12,
   "metadata": {},
   "outputs": [
    {
     "name": "stdout",
     "output_type": "stream",
     "text": [
      "enter N: 10000000\n"
     ]
    },
    {
     "data": {
      "text/plain": [
       "1.5707963267423612"
      ]
     },
     "execution_count": 12,
     "metadata": {},
     "output_type": "execute_result"
    }
   ],
   "source": [
    "# a\n",
    "\n",
    "import math\n",
    "def func(x):\n",
    "    return math.sqrt(1-x*x)\n",
    "\n",
    "def riemann(n,f,h):\n",
    "    return sum(list( h*f(h*i-1) for i in range(1,n+1)))\n",
    "\n",
    "n = int(input(\"enter N: \"))\n",
    "h = 2/n\n",
    "riemann(n,func,h)"
   ]
  },
  {
   "cell_type": "code",
   "execution_count": null,
   "metadata": {},
   "outputs": [
    {
     "name": "stdout",
     "output_type": "stream",
     "text": [
      "enter N: 100000000\n"
     ]
    }
   ],
   "source": [
    "# b\n",
    "\n",
    "import math\n",
    "def func(x):\n",
    "    return math.sqrt(1-x*x)\n",
    "\n",
    "def riemann(n,f,h):\n",
    "    return sum(list( h*f(h*i-1) for i in range(1,n+1)))\n",
    "\n",
    "n = int(input(\"enter N: \"))\n",
    "h = 2/n\n",
    "riemann(n,func,h)\n",
    "\n",
    "%timeit riemann(n,func,h)"
   ]
  },
  {
   "cell_type": "code",
   "execution_count": null,
   "metadata": {},
   "outputs": [],
   "source": []
  }
 ],
 "metadata": {
  "kernelspec": {
   "display_name": "Python 3",
   "language": "python",
   "name": "python3"
  },
  "language_info": {
   "codemirror_mode": {
    "name": "ipython",
    "version": 3
   },
   "file_extension": ".py",
   "mimetype": "text/x-python",
   "name": "python",
   "nbconvert_exporter": "python",
   "pygments_lexer": "ipython3",
   "version": "3.8.3"
  }
 },
 "nbformat": 4,
 "nbformat_minor": 2
}
