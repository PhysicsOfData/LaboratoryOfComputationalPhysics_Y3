{
 "cells": [
  {
   "cell_type": "markdown",
   "metadata": {},
   "source": [
    "1\\. Write a function that converts number representation (bin<->dec<->hex)"
   ]
  },
  {
   "cell_type": "code",
   "execution_count": null,
   "metadata": {},
   "outputs": [],
   "source": [
    "numb=int(input('insert a number: '))\n",
    "\n",
    "print('In which rappresentation:\\nInsert:\\n 1 ---> Decimal \\n 2 ---> Hexadecimal \\n 3 ---> Binary')\n",
    "z=int(input('Choose a number:'))\n",
    "\n",
    "def conv (a,b):\n",
    "    if b==1: \n",
    "        c=int(a)\n",
    "        print('In decimal rappresentation the number is :', c)\n",
    "      \n",
    "    elif b==2: \n",
    "        c=hex(a)\n",
    "        print('In hexadecimal rappresentation the number is :', c)\n",
    "        \n",
    "    elif b==3:\n",
    "        c=bin(a)\n",
    "        print('In binary rappresentation the number is :', c)\n",
    "\n",
    "conv(numb,z)\n"
   ]
  },
  {
   "cell_type": "markdown",
   "metadata": {},
   "source": [
    "2\\. Write a function that converts a 32 bit word into a single precision floating point (i.e. interprets the various bits as sign, mantissa and exponent)"
   ]
  },
  {
   "cell_type": "code",
   "execution_count": null,
   "metadata": {},
   "outputs": [],
   "source": [
    "import bitarray \n",
    "\n",
    "ba=bitarray.bitarray()\n",
    "\n",
    "parola=str(input('Insert a word of 4 letter (8bits for each letter = 32bit) that will be expressed in binary \\nand after converted in a float number: '))\n",
    "\n",
    "ba.frombytes(parola.encode('utf-8'))\n",
    "l=[]\n",
    "for i in ba: l.append(int(i))\n",
    "\n",
    "if len(l)>32:\n",
    "    while len(l)>32:\n",
    "        l.pop()\n",
    "    parolanew=''    \n",
    "    for i in range(4):\n",
    "        parolanew+=parola[i]\n",
    "    print(\"\\nNOOOO...the word is too long, so it's automatically reduce to 4 letter: --->\", parolanew)\n",
    "\n",
    "print('\\nThe word converted in binary code is: --->', l)\n",
    "\n",
    "def word_to_float(word):\n",
    "    sgn=word[0]\n",
    "    exp=word[1:9]\n",
    "    mantissa=word[9:]\n",
    "    \n",
    "    mantissa.reverse()\n",
    "    exp.reverse()\n",
    "    \n",
    "    def sign (n,s):\n",
    "        if s==0:\n",
    "            return (n)\n",
    "        else:\n",
    "            return (n*(-1))\n",
    "        \n",
    "    def mant(mantis):\n",
    "        m,j= 0,0\n",
    "        for k in mantis:\n",
    "            m+=k*2**(j)\n",
    "            j-=1\n",
    "        return m\n",
    "    \n",
    "    def exponent(ex):\n",
    "        x,j= 0,0\n",
    "        for e in ex:\n",
    "            x+=e*2**(j)\n",
    "            j+=1\n",
    "        return x-127\n",
    "    print('The sign of the number is:',['-' if sgn==1 else '+'])\n",
    "    print('The exponent converted is: ---> 2^{%i}'%exponent(exp))\n",
    "    print('The mantissa of the number is: --->', mant(mantissa))\n",
    "\n",
    "    return sign( mant(mantissa)*(2**(exponent(exp))) ,sgn)\n",
    "\n",
    "print('\\nThe word converted in float number corrispond to', word_to_float(l), '(in decimal rappresentation)')"
   ]
  },
  {
   "cell_type": "code",
   "execution_count": null,
   "metadata": {},
   "outputs": [],
   "source": []
  },
  {
   "cell_type": "markdown",
   "metadata": {},
   "source": [
    "0\n",
    "13\\. Write a program to determine the underflow and overflow limits (within a factor of 2) for python on your computer. \n",
    "\n",
    "**Tips**: define two variables inizialized to 1 and halve/double them enough time to exceed the under/over-flow limits  "
   ]
  },
  {
   "cell_type": "code",
   "execution_count": null,
   "metadata": {},
   "outputs": [],
   "source": [
    "import sys\n",
    "\n",
    "mx = 1.0\n",
    "mn = 1.0\n",
    "while mx < sys.float_info.max : \n",
    "    mx *= 2\n",
    "print('The overflow limit of float number is: lim_max=', sys.float_info.max, '\\nbut our calculated value is: MAX =',mx,'\\nso MAX = lim_max ? ---> ' , mx == sys.float_info.max,'\\n\\n')\n",
    "\n",
    "while mn > sys.float_info.min : \n",
    "    mn /= 2\n",
    "print('The underflow limit of float number is: lim_min=', sys.float_info.min, '\\nbut our calculated value is: MIN =',mn,'\\nso MIN = lim_min ? ---> ' , mn == sys.float_info.min)\n"
   ]
  },
  {
   "cell_type": "markdown",
   "metadata": {},
   "source": [
    "4\\. Write a program to determine the machine precision\n",
    "\n",
    "**Tips**: define a new variable by adding a smaller and smaller value (proceeding similarly to prob. 2) to an original variable and check the point where the two are the same "
   ]
  },
  {
   "cell_type": "code",
   "execution_count": null,
   "metadata": {},
   "outputs": [],
   "source": [
    "#definiamo due variabili x e y e confrontiamo continuamente x+y con x ad esempio\n",
    "a,b =1.0,1.0\n",
    "count = 0\n",
    "while a+b != a :\n",
    "    b /= 2\n",
    "    count += 1\n",
    "\n",
    "print(\"The machine precision is at order 10^(-%i)\"%count)"
   ]
  },
  {
   "cell_type": "markdown",
   "metadata": {},
   "source": [
    "5\\. Write a function that takes in input three parameters $a$, $b$ and $c$ and prints out the two solutions to the quadratic equation $ax^2+bx+c=0$ using the standard formula:\n",
    "$$\n",
    "x_{\\pm}=\\frac{-b\\pm\\sqrt{b^2-4ac}}{2a}\n",
    "$$\n",
    "\n",
    "(a) use the program to compute the solution for $a=0.001$, $b=1000$ and $c=0.001$\n",
    "\n",
    "(b) re-express the standard solution formula by multiplying top and bottom by $-b\\mp\\sqrt{b^2-4ac}$ and again find the solution for $a=0.001$, $b=1000$ and $c=0.001$.(It result $ x_{\\pm}=\\frac{2c}{-b\\mp\\sqrt{b^2-4ac}}$)\n",
    "\n",
    "How does it compare with what previously obtained? Why?\n",
    "\n",
    "\n",
    "(c) write a function that compute the roots of a quadratic equation accurately in all cases"
   ]
  },
  {
   "cell_type": "code",
   "execution_count": null,
   "metadata": {},
   "outputs": [],
   "source": [
    "import math \n",
    "\n",
    "a = 0.001\n",
    "b = 1000\n",
    "c = 0.001\n",
    "\n",
    "def roots1(a,b,c) :\n",
    "    x_pl = (-b + math.sqrt(b**2 - 4*a*c))/(2*a)\n",
    "    x_min =(-b - math.sqrt(b**2 - 4*a*c))/(2*a)\n",
    "    return x_pl,x_min\n",
    "\n",
    "\n",
    "print('Case A:', roots1(a,b,c))\n",
    "\n",
    "def roots2(a,b,c) :\n",
    "    x1_pl = 2*c/(-b - math.sqrt(b**2 - 4*a*c))\n",
    "    x1_min = 2*c/(-b + math.sqrt(b**2 - 4*a*c))\n",
    "    return  x1_pl,x1_min\n",
    "\n",
    "print('Case B:', roots2(a,b,c))\n",
    "\n",
    "# You can recognize that there is a different accuracy between the 2 cases. It could be correct using the sign of (b-parameter) as discriminator of the cases, like that:\n",
    "def root_correct(a,b,c) : \n",
    "    if b < 0 : \n",
    "        return roots1(a,b,c)[0], roots2(a,b,c)[1]\n",
    "    else : \n",
    "        return roots2(a,b,c)[0], roots1(a,b,c)[1]\n",
    "print('\\nWith the correct formula:\\nx{+} =' ,root_correct(a,b,c)[0],'; x{-} = ', root_correct(a,b,c)[1] )\n"
   ]
  },
  {
   "cell_type": "markdown",
   "metadata": {},
   "source": [
    "6\\. Write a program that implements the function $f(x)=x(x−1)$\n",
    "\n",
    "(a) Calculate the derivative of the function at the point $x = 1$ using the derivative definition:\n",
    "\n",
    "$$\n",
    "\\frac{{\\rm d}f}{{\\rm d}x} = \\lim_{\\delta\\to0} \\frac{f(x+\\delta)-f(x)}{\\delta}\n",
    "$$\n",
    "\n",
    "with $\\delta = 10^{−2}$. Calculate the true value of the same derivative analytically and compare with the answer your program gives. The two will not agree perfectly. Why not?\n",
    "\n",
    "(b) Repeat the calculation for $\\delta = 10^{−4}, 10^{−6}, 10^{−8}, 10^{−10}, 10^{−12}$ and $10^{−14}$. How does the accuracy scales with $\\delta$?"
   ]
  },
  {
   "cell_type": "code",
   "execution_count": null,
   "metadata": {},
   "outputs": [],
   "source": [
    "import math \n",
    "\n",
    "def f(x) :\n",
    "    return x*(x-1)\n",
    "\n",
    "values_delta = [10**-x for x in range(2,15,2)]\n",
    "\n",
    "def derivative_correct(x) :\n",
    "    return 2*x-1\n",
    "\n",
    "def derivative_approx(x,delta) :\n",
    "    return [(f(x+delta)-f(x))/delta]\n",
    "print('Case A: The derivative correct is    df(x)/dx = 2x -1 {in x=1} -->',derivative_correct(1),'\\nwhile the approximated one gives:',derivative_approx(1,values_delta[0]),'\\n')\n",
    "\n",
    "print('Case B: The derivatives correct is   df(x)/dx = 2x -1 {in x=1} -->',derivative_correct(1), '\\nwhile the approximated one gives:')\n",
    "for d in values_delta:print(derivative_approx(1,d), 'with delta=',d)\n",
    "    \n",
    "# The precision increase since delta>10^(-8) but after that value there are some error due to the limited precision "
   ]
  },
  {
   "cell_type": "markdown",
   "metadata": {},
   "source": [
    "7\\. Consider the integral of the semicircle of radius 1:\n",
    "$$\n",
    "I=\\int_{-1}^{1} \\sqrt(1-x^2) {\\rm d}x\n",
    "$$\n",
    "which it's known to be $I=\\frac{\\pi}{2}=1.57079632679...$.\n",
    "Alternatively we can use the Riemann definition of the integral:\n",
    "$$\n",
    "I=\\lim_{N\\to\\infty} \\sum_{k=1}^{N} h y_k \n",
    "$$\n",
    "\n",
    "with $h=2/N$ the width of each of the $N$ slices the domain is divided into and where\n",
    "$y_k$ is the value of the function at the $k-$th slice.\n",
    "\n",
    "(a) Write a programe to compute the integral with $N=100$. How does the result compares to the true value?\n",
    "\n",
    "(b) How much can $N$ be increased if the computation needs to be run in less than a second? What is the gain in running it for 1 minute? \n"
   ]
  },
  {
   "cell_type": "code",
   "execution_count": null,
   "metadata": {},
   "outputs": [],
   "source": [
    "#to compute the integral of a function we can recall the definition of the riemann technique. It allows us to divide the x interval in small ranges and multiply each range by the function calculated on the k-th slice.\n",
    "import math \n",
    "import timeit\n",
    "\n",
    "def f(x) : \n",
    "    return math.sqrt(1-x**2)\n",
    "# given the interval of integration [-1,1] we have to increment -1 of h until we reach 1\n",
    "\n",
    "def integral_approx(N) :\n",
    "    h = 2/N\n",
    "    k=sum([h*f(x) for x in [i*h for i in range(-int(1/h),int(1/h+1),1)]])\n",
    "    return N,k\n",
    "print(\"Case A: The exact result is\", math.pi/2,\"\\nwhile the approximated integral is\", integral_approx(100)[1])\n",
    "\n",
    "#ncrease N until the computation's time is greater than a second\n",
    "\n",
    "\n",
    "def timelong() :\n",
    "    return integral_approx(N)\n",
    "\n",
    "\n",
    "N = 100\n",
    "print('\\n\\nCase B:\\nN=%i --->Time to compute integral is'%N, timeit.timeit(timelong, number=1),'seconds\\n')\n",
    "\n",
    "tcalc=timeit.timeit(timelong, number = 1)\n",
    "\n",
    "N=5e5\n",
    "\n",
    "while tcalc < 1 :\n",
    "    N += 5e5\n",
    "    tcalc=timeit.timeit(timelong, number = 1)\n",
    "    print('N=%i ---> time:'%N, tcalc)\n",
    "\n",
    "\n",
    "print(\"\\nWith N= %i, the computation of the integral took approximately: \"%N, tcalc,\"seconds of execution\")\n",
    "\n",
    "\n",
    "#CALCULATION OF A MINUTE (it tooks a lot of time and maybe it could have some problem to the memory)\n",
    "#N = 1e8\n",
    "#while tcalc < 60 :\n",
    "#    N += 1e8\n",
    "#    tcalc=timeit.timeit(timelong, number = 1)\n",
    "\n",
    "\n",
    "#print(\"\\nWith N= %i, the computation of the integral took approximately: \"%N, tcalc/60 ,\"minutes of execution\")# this part of the script gives memory error"
   ]
  },
  {
   "cell_type": "code",
   "execution_count": null,
   "metadata": {},
   "outputs": [],
   "source": []
  }
 ],
 "metadata": {
  "kernelspec": {
   "display_name": "Python 3",
   "language": "python",
   "name": "python3"
  },
  "language_info": {
   "codemirror_mode": {
    "name": "ipython",
    "version": 3
   },
   "file_extension": ".py",
   "mimetype": "text/x-python",
   "name": "python",
   "nbconvert_exporter": "python",
   "pygments_lexer": "ipython3",
   "version": "3.8.3"
  }
 },
 "nbformat": 4,
 "nbformat_minor": 2
}
