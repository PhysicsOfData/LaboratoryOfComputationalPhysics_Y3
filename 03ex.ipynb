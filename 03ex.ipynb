{
 "cells": [
  {
   "cell_type": "markdown",
   "metadata": {},
   "source": [
    "1. Find the row, column and overall means for the following matrix:\n",
    "\n",
    "m = np.arange(12).reshape((3,4))"
   ]
  },
  {
   "cell_type": "code",
   "execution_count": null,
   "metadata": {},
   "outputs": [],
   "source": [
    "import numpy as np\n",
    "m = np.arange(12).reshape((3,4))\n",
    "print(m.shape)"
   ]
  },
  {
   "cell_type": "markdown",
   "metadata": {},
   "source": [
    "2. Find the outer product of the following two vecotrs\n",
    "\n",
    "u = np.array([1,3,5,7])\n",
    "v = np.array([2,4,6,8])\n",
    "\n",
    "Do this in the following ways:\n",
    "\n",
    "    Using the function outer in numpy\n",
    "    Using a nested for loop or list comprehension\n",
    "    Using numpy broadcasting operatoins"
   ]
  },
  {
   "cell_type": "code",
   "execution_count": null,
   "metadata": {},
   "outputs": [],
   "source": [
    "import numpy as np\n",
    "u = np.array([1,3,5,7])\n",
    "v = np.array([2,4,6,8])\n",
    "def function(u,v):\n",
    "    outer=np.outer(u,v)\n",
    "    return outer\n",
    "print(function(u,v))"
   ]
  },
  {
   "cell_type": "markdown",
   "metadata": {},
   "source": [
    "3. Create a 10 by 6 matrix of random uniform numbers. Set all rows with any entry less than 0.1 to be zero\n",
    "\n",
    "Hint: Use the following numpy functions - np.random.random, np.any as well as Boolean indexing and the axis argument."
   ]
  },
  {
   "cell_type": "code",
   "execution_count": null,
   "metadata": {},
   "outputs": [],
   "source": [
    "import numpy as np\n",
    "matrix = []\n",
    "for i in range(10):# A for loop for row entries\n",
    "    a=[]\n",
    "    for j in range(6):      # A for loop for column entries\n",
    "         value=np.random.random(1)\n",
    "         if value<0.1:\n",
    "             value=0\n",
    "         a.append(value)\n",
    "    matrix.append(a)\n",
    "for i in range(10):\n",
    "    for j in range(6):\n",
    "        print(matrix[i][j], end =\" \")\n",
    "    print()"
   ]
  },
  {
   "cell_type": "markdown",
   "metadata": {},
   "source": [
    "4. Use np.linspace to create an array of 100 numbers between 0 and 2π (includsive).\n",
    "\n",
    "    Extract every 10th element using slice notation\n",
    "    Reverse the array using slice notation\n",
    "    Extract elements where the absolute difference between the sine and cosine functions evaluated at that element is less than 0.1\n",
    "    Make a plot showing the sin and cos functions and indicate where they are close"
   ]
  },
  {
   "cell_type": "code",
   "execution_count": null,
   "metadata": {},
   "outputs": [],
   "source": [
    "import numpy as np\n",
    "import math\n",
    "array=np.linspace(0,2*math.pi,100)\n",
    "#every 10 element\n",
    "data1=array[1::10]\n",
    "print(data1)\n",
    "#reverse\n",
    "data2=array[::-1]\n",
    "print(data2)"
   ]
  },
  {
   "cell_type": "markdown",
   "metadata": {},
   "source": [
    "5. Create a matrix that shows the 10 by 10 multiplication table.\n",
    "\n",
    "    Find the trace of the matrix\n",
    "    Extract the anto-diagonal (this should be array([10, 18, 24, 28, 30, 30, 28, 24, 18, 10]))\n",
    "    Extract the diagnoal offset by 1 upwards (this should be array([ 2,  6, 12, 20, 30, 42, 56, 72, 90]))"
   ]
  },
  {
   "cell_type": "code",
   "execution_count": null,
   "metadata": {},
   "outputs": [],
   "source": [
    "import numpy as np\n",
    "def trace_of_matrix():\n",
    "    matrix=np.random.randint(0,10,size=(10,10))\n",
    "    print(matrix.diagonal())\n",
    "    #trace of matrix\n",
    "    print(matrix.diagonal().sum())\n",
    "print(trace_of_matrix())"
   ]
  }
 ],
 "metadata": {
  "kernelspec": {
   "display_name": "Python 3",
   "language": "python",
   "name": "python3"
  },
  "language_info": {
   "codemirror_mode": {
    "name": "ipython",
    "version": 3
   },
   "file_extension": ".py",
   "mimetype": "text/x-python",
   "name": "python",
   "nbconvert_exporter": "python",
   "pygments_lexer": "ipython3",
   "version": "3.8.5"
  }
 },
 "nbformat": 4,
 "nbformat_minor": 4
}
