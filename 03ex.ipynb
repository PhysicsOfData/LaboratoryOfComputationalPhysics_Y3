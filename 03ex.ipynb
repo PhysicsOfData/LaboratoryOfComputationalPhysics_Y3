{
 "cells": [
  {
   "cell_type": "code",
   "execution_count": 202,
   "metadata": {},
   "outputs": [
    {
     "name": "stdout",
     "output_type": "stream",
     "text": [
      "[[ 0  1  2  3]\n",
      " [ 4  5  6  7]\n",
      " [ 8  9 10 11]]\n",
      "shape of array: (3, 4)\n",
      "row: 3\n",
      "column: 4\n",
      "Mean: 5.5\n"
     ]
    }
   ],
   "source": [
    "import numpy as np\n",
    "m =np.arange(12).reshape((3,4))\n",
    "print(m)\n",
    "print('shape of array:',m.shape)\n",
    "print('row:',m.shape[0])\n",
    "print('column:',m.shape[1])\n",
    "print('Mean:',np.mean(m))\n"
   ]
  },
  {
   "cell_type": "code",
   "execution_count": 203,
   "metadata": {},
   "outputs": [
    {
     "name": "stdout",
     "output_type": "stream",
     "text": [
      "[[ 2  4  6  8]\n",
      " [ 6 12 18 24]\n",
      " [10 20 30 40]\n",
      " [14 28 42 56]]\n"
     ]
    }
   ],
   "source": [
    "u = np.array([1,3,5,7])\n",
    "v = np.array([2,4,6,8])\n",
    "result=np.outer(u,v)\n",
    "print(result)\n"
   ]
  },
  {
   "cell_type": "code",
   "execution_count": 204,
   "metadata": {},
   "outputs": [
    {
     "name": "stdout",
     "output_type": "stream",
     "text": [
      "[[ 2  4  6  8]\n",
      " [ 6 12 18 24]\n",
      " [10 20 30 40]\n",
      " [14 28 42 56]]\n"
     ]
    }
   ],
   "source": [
    "outer_result=[]\n",
    "for i in u:\n",
    "    for j in v:\n",
    "        outer_result.append(i*j)\n",
    "mm=np.array(outer_result)        \n",
    "print(mm.reshape(len(u),len(v)))  "
   ]
  },
  {
   "cell_type": "code",
   "execution_count": 39,
   "metadata": {},
   "outputs": [
    {
     "name": "stdout",
     "output_type": "stream",
     "text": [
      "[[0.90775112 0.74326733 0.53708892 0.67543004 0.         0.38510789]\n",
      " [0.5745215  0.98540247 0.4810996  0.97088989 0.64458264 0.77447884]\n",
      " [0.47194263 0.32489091 0.91569899 0.58736463 0.93944837 0.99062453]\n",
      " [0.13397962 0.51648922 0.4530544  0.13724193 0.12487348 0.47189371]\n",
      " [0.2399374  0.91675494 0.68952584 0.6291151  0.15343759 0.56050844]\n",
      " [0.34441319 0.66771851 0.4812021  0.39407389 0.81107538 0.99049429]\n",
      " [0.56051404 0.12973084 0.2527217  0.36480561 0.21253508 0.73924596]\n",
      " [0.47030833 0.52716309 0.89756823 0.7810766  0.23658453 0.768852  ]\n",
      " [0.19193756 0.87564895 0.32018076 0.82795044 0.93898814 0.94083348]\n",
      " [0.87279924 0.70991506 0.19761112 0.5736807  0.22548963 0.87321126]]\n"
     ]
    }
   ],
   "source": [
    "import numpy.random as npr\n",
    "random_matrix = [[npr.random() for e in range(6)] for e in range(10)]\n",
    "rm=np.array(random_matrix)\n",
    "low_values_flags=rm<0.1\n",
    "rm[low_values_flags]=0\n",
    "print(rm)\n",
    "#print(rm.shape)"
   ]
  },
  {
   "cell_type": "code",
   "execution_count": 136,
   "metadata": {},
   "outputs": [
    {
     "name": "stdout",
     "output_type": "stream",
     "text": [
      "[0.         0.63466518 1.26933037 1.90399555 2.53866073 3.17332591\n",
      " 3.8079911  4.44265628 5.07732146 5.71198664]\n",
      "[6.28318531 6.21971879 6.15625227 6.09278575 6.02931923 5.96585272\n",
      " 5.9023862  5.83891968 5.77545316 5.71198664 5.64852012 5.58505361\n",
      " 5.52158709 5.45812057 5.39465405 5.33118753 5.26772102 5.2042545\n",
      " 5.14078798 5.07732146 5.01385494 4.95038842 4.88692191 4.82345539\n",
      " 4.75998887 4.69652235 4.63305583 4.56958931 4.5061228  4.44265628\n",
      " 4.37918976 4.31572324 4.25225672 4.1887902  4.12532369 4.06185717\n",
      " 3.99839065 3.93492413 3.87145761 3.8079911  3.74452458 3.68105806\n",
      " 3.61759154 3.55412502 3.4906585  3.42719199 3.36372547 3.30025895\n",
      " 3.23679243 3.17332591 3.10985939 3.04639288 2.98292636 2.91945984\n",
      " 2.85599332 2.7925268  2.72906028 2.66559377 2.60212725 2.53866073\n",
      " 2.47519421 2.41172769 2.34826118 2.28479466 2.22132814 2.15786162\n",
      " 2.0943951  2.03092858 1.96746207 1.90399555 1.84052903 1.77706251\n",
      " 1.71359599 1.65012947 1.58666296 1.52319644 1.45972992 1.3962634\n",
      " 1.33279688 1.26933037 1.20586385 1.14239733 1.07893081 1.01546429\n",
      " 0.95199777 0.88853126 0.82506474 0.76159822 0.6981317  0.63466518\n",
      " 0.57119866 0.50773215 0.44426563 0.38079911 0.31733259 0.25386607\n",
      " 0.19039955 0.12693304 0.06346652 0.        ]\n",
      "[0.76159822 0.82506474 3.87145761 3.93492413]\n"
     ]
    },
    {
     "data": {
      "image/png": "[encoded data removed]",
      "text/plain": [
       "<Figure size 432x288 with 1 Axes>"
      ]
     },
     "metadata": {
      "needs_background": "light"
     },
     "output_type": "display_data"
    }
   ],
   "source": [
    "import matplotlib.pyplot as plt\n",
    "import math\n",
    "from math import pi\n",
    "ls=np.linspace(0,2*pi,100)\n",
    "#print(ls)\n",
    "print(ls[0::10])\n",
    "print(ls[::-1])\n",
    "ml=np.array([abs(np.sin(ls)-np.cos(ls))<0.1])\n",
    "points=ls[ml[0]]\n",
    "print(points)\n",
    "\n",
    "    \n",
    "#print(ml)  \n",
    "\n",
    "y=np.sin(ls)\n",
    "z=np.cos(ls)\n",
    "sin_plot=plt.plot(ls, y,color=\"blue\")\n",
    "\n",
    "cos_plot=plt.plot(ls,z,color=\"red\")\n",
    "plt.plot(points,np.cos(points),'bo')\n",
    "plt.show()\n"
   ]
  },
  {
   "cell_type": "code",
   "execution_count": 121,
   "metadata": {},
   "outputs": [
    {
     "name": "stdout",
     "output_type": "stream",
     "text": [
      "[[385]]\n",
      "[[10 18 24 28 30 30 28 24 18 10]]\n",
      "[ 2  6 12 20 30 42 56 72 90]\n"
     ]
    }
   ],
   "source": [
    "x_1 = range(1,11) # default step value is 1, no need to specify\n",
    "n = range(1,11)\n",
    "\n",
    "mult_table = [[i*j for j in x_1] for i in n]\n",
    "#print(mult_table)\n",
    "gfg = np.matrix(mult_table) \n",
    "              \n",
    "# applying matrix.trace() method \n",
    "geek = gfg.trace() \n",
    "    \n",
    "print(geek) \n",
    "anti_diagonal=np.fliplr(gfg).diagonal()\n",
    "print(anti_diagonal)\n",
    "diagonal_offset=np.diagonal(gfg,offset=1)\n",
    "print(diagonal_offset)\n"
   ]
  },
  {
   "cell_type": "code",
   "execution_count": 156,
   "metadata": {},
   "outputs": [
    {
     "name": "stdout",
     "output_type": "stream",
     "text": [
      "Distances among each city along Route 66 in mile are :\n",
      "\n",
      " [[   0  198  303  736  871 1175 1475 1544 1913 2448]\n",
      " [ 198    0  105  538  673  977 1277 1346 1715 2250]\n",
      " [ 303  105    0  433  568  872 1172 1241 1610 2145]\n",
      " [ 736  538  433    0  135  439  739  808 1177 1712]\n",
      " [ 871  673  568  135    0  304  604  673 1042 1577]\n",
      " [1175  977  872  439  304    0  300  369  738 1273]\n",
      " [1475 1277 1172  739  604  300    0   69  438  973]\n",
      " [1544 1346 1241  808  673  369   69    0  369  904]\n",
      " [1913 1715 1610 1177 1042  738  438  369    0  535]\n",
      " [2448 2250 2145 1712 1577 1273  973  904  535    0]]\n",
      "\n",
      "\n",
      "Distances among each city along Route 66 in km are :\n",
      "\n",
      " [[   0.       318.64932  487.63002 1184.47424 1401.73514 1890.9745\n",
      "  2373.7765  2484.82096 3078.66742 3939.66432]\n",
      " [ 318.64932    0.       168.9807   865.82492 1083.08582 1572.32518\n",
      "  2055.12718 2166.17164 2760.0181  3621.015  ]\n",
      " [ 487.63002  168.9807     0.       696.84422  914.10512 1403.34448\n",
      "  1886.14648 1997.19094 2591.0374  3452.0343 ]\n",
      " [1184.47424  865.82492  696.84422    0.       217.2609   706.50026\n",
      "  1189.30226 1300.34672 1894.19318 2755.19008]\n",
      " [1401.73514 1083.08582  914.10512  217.2609     0.       489.23936\n",
      "   972.04136 1083.08582 1676.93228 2537.92918]\n",
      " [1890.9745  1572.32518 1403.34448  706.50026  489.23936    0.\n",
      "   482.802    593.84646 1187.69292 2048.68982]\n",
      " [2373.7765  2055.12718 1886.14648 1189.30226  972.04136  482.802\n",
      "     0.       111.04446  704.89092 1565.88782]\n",
      " [2484.82096 2166.17164 1997.19094 1300.34672 1083.08582  593.84646\n",
      "   111.04446    0.       593.84646 1454.84336]\n",
      " [3078.66742 2760.0181  2591.0374  1894.19318 1676.93228 1187.69292\n",
      "   704.89092  593.84646    0.       860.9969 ]\n",
      " [3939.66432 3621.015   3452.0343  2755.19008 2537.92918 2048.68982\n",
      "  1565.88782 1454.84336  860.9969     0.     ]]\n"
     ]
    }
   ],
   "source": [
    "a=np.array([0, 198, 303, 736, 871, 1175, 1475, 1544, 1913, 2448])\n",
    "b=np.array([0, 198, 303, 736, 871, 1175, 1475, 1544, 1913, 2448])\n",
    "\n",
    "distance=np.array([abs(i-j)for i in a for j in b])      \n",
    "\n",
    "d_m=distance.reshape(len(a),len(b))\n",
    "print('Distances among each city along Route 66 in mile are :\\n\\n',d_m)\n",
    "print('\\n')\n",
    "print('Distances among each city along Route 66 in km are :\\n\\n',1.60934*d_m)"
   ]
  },
  {
   "cell_type": "code",
   "execution_count": 227,
   "metadata": {},
   "outputs": [
    {
     "name": "stdout",
     "output_type": "stream",
     "text": [
      "Following are the prime numbers smaller\n",
      "than or equal to 99\n",
      "2 3 5 7 11 13 17 19 23 29 31 37 41 43 47 53 59 61 67 71 73 79 83 89 97 "
     ]
    }
   ],
   "source": [
    "def SieveOfEratosthenes(n): \n",
    "      \n",
    "    prime = np.array([True for i in range(n+1)])\n",
    "    \n",
    "    p = 2\n",
    "    while (p * p <= n): \n",
    "        \n",
    "        if (prime[p] == True):      \n",
    "          \n",
    "            for i in range(p * p, n+1, p): \n",
    "                prime[i] = False\n",
    "        p += 1  \n",
    "    for p in range(2, n+1): \n",
    "        if prime[p]: \n",
    "            print (p,end=' ' )\n",
    "            \n",
    "if __name__=='__main__': \n",
    "    n = 99\n",
    "    print (\"Following are the prime numbers smaller\")\n",
    "    print (\"than or equal to\", n )\n",
    "    SieveOfEratosthenes(n) \n"
   ]
  },
  {
   "cell_type": "code",
   "execution_count": 235,
   "metadata": {},
   "outputs": [
    {
     "name": "stdout",
     "output_type": "stream",
     "text": [
      "[[ -1.   0.   1. ... -24. -23. -22.]\n",
      " [ -1.  -2.  -3. ...  -6.  -7.  -8.]\n",
      " [ -1.   0.   1. ...   4.   5.   4.]\n",
      " ...\n",
      " [  1.   0.   1. ... -20. -21. -20.]\n",
      " [  1.   2.   1. ...   0.  -1.   0.]\n",
      " [ -1.   0.  -1. ...  18.  17.  16.]]\n",
      "[  1.      1.96    2.984   4.036   5.08    5.972   7.128   8.168   8.784\n",
      "   9.676  10.56   11.524  12.504  13.476  14.448  15.508  16.208  17.42\n",
      "  18.128  19.344  21.176  22.192  23.336  24.636  25.168  26.148  26.92\n",
      "  28.492  29.672  30.524  32.016  33.348  33.928  34.496  35.72   36.152\n",
      "  36.688  37.728  38.672  40.028  41.144  41.984  42.944  44.136  44.864\n",
      "  46.228  46.544  47.708  47.768  49.04   50.288  52.036  52.608  54.\n",
      "  54.552  56.232  57.344  58.7    59.92   60.504  61.904  62.996  62.992\n",
      "  63.224  64.36   66.568  67.152  67.836  68.88   69.828  70.504  71.42\n",
      "  72.568  74.128  74.784  75.712  76.392  76.792  77.496  77.648  78.872\n",
      "  80.464  80.992  82.704  82.64   82.564  82.808  83.488  83.672  85.14\n",
      "  86.064  85.928  86.912  87.82   87.424  88.2    87.896  89.204  89.944\n",
      "  90.696  91.696  92.44   93.856  94.864  95.584  96.272  97.816  98.236\n",
      "  99.28  101.16  102.648 103.94  104.768 105.928 106.352 106.572 107.528\n",
      " 107.96  108.856 109.408 110.312 110.716 110.952 112.592 114.72  115.808\n",
      " 117.704 117.616 119.216 120.372 121.224 122.316 123.704 123.872 124.984\n",
      " 126.748 127.608 128.672 129.28  129.544 130.984 131.024 132.712 133.412\n",
      " 134.216 134.296 136.896 137.    137.152 137.66  139.696 139.648 142.04\n",
      " 143.368 145.672 147.592 147.648 148.468 148.704 149.448 149.936 151.7\n",
      " 153.888 155.564 155.84  155.44  156.752 158.248 159.008 159.96  162.08\n",
      " 162.672 164.64  165.548 167.512 170.992 173.688 175.016 176.368 176.772\n",
      " 178.52  180.092 180.84  184.04  186.136 186.676 188.752 189.284 190.272\n",
      " 191.364 193.368 196.616 197.312 198.736 199.704 201.264 201.888 203.38\n",
      " 205.16  205.664]\n"
     ]
    },
    {
     "data": {
      "image/png": "[encoded data removed]",
      "text/plain": [
       "<Figure size 432x288 with 1 Axes>"
      ]
     },
     "metadata": {
      "needs_background": "light"
     },
     "output_type": "display_data"
    }
   ],
   "source": [
    "import matplotlib.pyplot as plt\n",
    "np.random.seed(2678)\n",
    "walkers = np.zeros((1000,200))\n",
    "for i in range(walkers.shape[0]):\n",
    "    matrix = np.random.randint(-1,1,size=walkers.shape[1])\n",
    "    matrix[matrix==0]=1\n",
    "    walkers[i] = matrix\n",
    "sum_1 = np.cumsum(walkers, axis=1)\n",
    "print(sum_1)\n",
    "squared_sum= sum_1**2\n",
    "mean_ = np.mean(squared_sum, axis=0)\n",
    "print(mean_)\n",
    "plt.plot(np.sqrt(mean_))\n",
    "plt.show()"
   ]
  },
  {
   "cell_type": "code",
   "execution_count": 266,
   "metadata": {},
   "outputs": [
    {
     "name": "stdout",
     "output_type": "stream",
     "text": [
      "[[ 1900. 30000.  4000. 48300.]\n",
      " [ 1901. 47200.  6100. 48200.]\n",
      " [ 1902. 70200.  9800. 41500.]\n",
      " [ 1903. 77400. 35200. 38200.]\n",
      " [ 1904. 36300. 59400. 40600.]\n",
      " [ 1905. 20600. 41700. 39800.]\n",
      " [ 1906. 18100. 19000. 38600.]\n",
      " [ 1907. 21400. 13000. 42300.]\n",
      " [ 1908. 22000.  8300. 44500.]\n",
      " [ 1909. 25400.  9100. 42100.]\n",
      " [ 1910. 27100.  7400. 46000.]\n",
      " [ 1911. 40300.  8000. 46800.]\n",
      " [ 1912. 57000. 12300. 43800.]\n",
      " [ 1913. 76600. 19500. 40900.]\n",
      " [ 1914. 52300. 45700. 39400.]\n",
      " [ 1915. 19500. 51100. 39000.]\n",
      " [ 1916. 11200. 29700. 36700.]\n",
      " [ 1917.  7600. 15800. 41800.]\n",
      " [ 1918. 14600.  9700. 43300.]\n",
      " [ 1919. 16200. 10100. 41300.]\n",
      " [ 1920. 24700.  8600. 47300.]]\n"
     ]
    },
    {
     "data": {
      "image/png": "[encoded data removed]",
      "text/plain": [
       "<Figure size 432x288 with 1 Axes>"
      ]
     },
     "metadata": {
      "needs_background": "light"
     },
     "output_type": "display_data"
    }
   ],
   "source": [
    "Data = np.loadtxt('C:\\\\Users\\pc\\Downloads\\populations.txt')\n",
    "print(Data)\n",
    "year = Data[:,0]\n",
    "hares = Data[:,1]\n",
    "lynxes = Data[:,2]\n",
    "carrots = Data[:,3]\n",
    "plt.figure()\n",
    "plt.plot(year,hares,color='red',label='hares')\n",
    "plt.plot(year,lynxes,color='green',label='lynxes')\n",
    "plt.plot(year,carrots,color='blue',label='carrots')\n",
    "plt.xlabel('years')\n",
    "plt.ylabel('hares,lynxes and carrots population over the years')\n",
    "plt.legend()\n",
    "plt.show()"
   ]
  },
  {
   "cell_type": "code",
   "execution_count": null,
   "metadata": {},
   "outputs": [],
   "source": []
  }
 ],
 "metadata": {
  "kernelspec": {
   "display_name": "Python 3",
   "language": "python",
   "name": "python3"
  },
  "language_info": {
   "codemirror_mode": {
    "name": "ipython",
    "version": 3
   },
   "file_extension": ".py",
   "mimetype": "text/x-python",
   "name": "python",
   "nbconvert_exporter": "python",
   "pygments_lexer": "ipython3",
   "version": "3.8.3"
  }
 },
 "nbformat": 4,
 "nbformat_minor": 4
}
