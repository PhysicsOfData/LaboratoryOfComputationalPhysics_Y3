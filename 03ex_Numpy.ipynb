{
 "cells": [
  {
   "cell_type": "markdown",
   "metadata": {},
   "source": [
    "### Numpy basics"
   ]
  },
  {
   "cell_type": "markdown",
   "metadata": {},
   "source": [
    "1\\. Find the row, column and overall means for the following matrix:\n",
    "\n",
    "```python\n",
    "m = np.arange(12).reshape((3,4))\n",
    "```"
   ]
  },
  {
   "cell_type": "code",
   "execution_count": 1,
   "metadata": {},
   "outputs": [
    {
     "name": "stdout",
     "output_type": "stream",
     "text": [
      "matrix \n",
      " [[ 0  1  2  3]\n",
      " [ 4  5  6  7]\n",
      " [ 8  9 10 11]]\n",
      "average along the rows  [4. 5. 6. 7.]\n",
      "average along the columns  [1.5 5.5 9.5]\n",
      "overall average 5.5\n"
     ]
    }
   ],
   "source": [
    "import numpy as np\n",
    "m = np.arange(12).reshape((3,4))\n",
    "print(\"matrix \\n\", m)\n",
    "print (\"average along the rows \", np.mean(m, axis=0) )\n",
    "#print (m.mean(0))\n",
    "print (\"average along the columns \", np.mean (m, axis=1) )\n",
    "print (\"overall average\", np.mean(m) )\n",
    "\n"
   ]
  },
  {
   "cell_type": "markdown",
   "metadata": {},
   "source": [
    "2\\. Find the outer product of the following two vecotrs\n",
    "\n",
    "```python\n",
    "u = np.array([1,3,5,7])\n",
    "v = np.array([2,4,6,8])\n",
    "```\n",
    "\n",
    "Do this in the following ways:\n",
    "\n",
    "   * Using the function outer in numpy\n",
    "   * Using a nested for loop or list comprehension\n",
    "   * Using numpy broadcasting operatoins\n"
   ]
  },
  {
   "cell_type": "code",
   "execution_count": 2,
   "metadata": {},
   "outputs": [
    {
     "name": "stdout",
     "output_type": "stream",
     "text": [
      "[[ 2  4  6  8]\n",
      " [ 6 12 18 24]\n",
      " [10 20 30 40]\n",
      " [14 28 42 56]]\n",
      "[[ 2  4  6  8]\n",
      " [ 6 12 18 24]\n",
      " [10 20 30 40]\n",
      " [14 28 42 56]]\n",
      "[[ 2  4  6  8]\n",
      " [ 6 12 18 24]\n",
      " [10 20 30 40]\n",
      " [14 28 42 56]]\n"
     ]
    }
   ],
   "source": [
    "u = np.array([1,3,5,7])\n",
    "v = np.array([2,4,6,8])\n",
    "\n",
    "c = np.outer(u, v)\n",
    "print(c)\n",
    "\n",
    "outer = np.array([i*j for i in u for j in v ] )\n",
    "print (outer.reshape(4,4))\n",
    "\n",
    "outer_broadcasting = u.reshape(4,1) * v\n",
    "print (outer_broadcasting)\n"
   ]
  },
  {
   "cell_type": "markdown",
   "metadata": {},
   "source": [
    "3\\. Create a 10 by 6 matrix of random uniform numbers. Set all rows with any entry less than 0.1 to be zero\n",
    "\n",
    "Hint: Use the following numpy functions - np.random.random, np.any as well as Boolean indexing and the axis argument."
   ]
  },
  {
   "cell_type": "code",
   "execution_count": 3,
   "metadata": {},
   "outputs": [
    {
     "name": "stdout",
     "output_type": "stream",
     "text": [
      "[[0.13518456 0.58373222 0.78406114 0.17846313 0.56732087 0.55353782]\n",
      " [0.61974296 0.60254994 0.0440253  0.68112217 0.25297441 0.72934156]\n",
      " [0.70690585 0.77318708 0.37453541 0.81741227 0.94524003 0.16651228]\n",
      " [0.71634127 0.21807783 0.73907683 0.77259177 0.30404682 0.15738571]\n",
      " [0.21022722 0.41405666 0.83466907 0.02238314 0.20586968 0.4019145 ]\n",
      " [0.29708789 0.52346602 0.61762785 0.15568106 0.37724959 0.36177085]\n",
      " [0.79136796 0.51822431 0.45017974 0.62693988 0.34762555 0.03194178]\n",
      " [0.36695561 0.43569075 0.4663005  0.61617871 0.96172622 0.02878554]\n",
      " [0.75531912 0.29299144 0.47474937 0.6633455  0.53526893 0.82864578]\n",
      " [0.43615604 0.81286259 0.58489086 0.98883069 0.87894914 0.9850683 ]]\n",
      "[[0.13518456 0.58373222 0.78406114 0.17846313 0.56732087 0.55353782]\n",
      " [0.         0.         0.         0.         0.         0.        ]\n",
      " [0.70690585 0.77318708 0.37453541 0.81741227 0.94524003 0.16651228]\n",
      " [0.71634127 0.21807783 0.73907683 0.77259177 0.30404682 0.15738571]\n",
      " [0.         0.         0.         0.         0.         0.        ]\n",
      " [0.29708789 0.52346602 0.61762785 0.15568106 0.37724959 0.36177085]\n",
      " [0.         0.         0.         0.         0.         0.        ]\n",
      " [0.         0.         0.         0.         0.         0.        ]\n",
      " [0.75531912 0.29299144 0.47474937 0.6633455  0.53526893 0.82864578]\n",
      " [0.43615604 0.81286259 0.58489086 0.98883069 0.87894914 0.9850683 ]]\n"
     ]
    }
   ],
   "source": [
    "uniform=np.random.random_sample((10, 6))\n",
    "print(uniform)\n",
    "uniform[np.any(uniform<0.1, axis=1)]=0   \n",
    "print(uniform)"
   ]
  },
  {
   "cell_type": "markdown",
   "metadata": {},
   "source": [
    "4\\. Use np.linspace to create an array of 100 numbers between 0 and 2π (includsive).\n",
    "\n",
    "  * Extract every 10th element using slice notation\n",
    "  * Reverse the array using slice notation\n",
    "  * Extract elements where the absolute difference between the sine and cosine functions evaluated at that element is less than 0.1\n",
    "  * Make a plot showing the sin and cos functions and indicate where they are close"
   ]
  },
  {
   "cell_type": "code",
   "execution_count": 4,
   "metadata": {},
   "outputs": [
    {
     "data": {
      "text/plain": [
       "[<matplotlib.lines.Line2D at 0x7f633b1b7f98>]"
      ]
     },
     "execution_count": 4,
     "metadata": {},
     "output_type": "execute_result"
    },
    {
     "data": {
      "image/png": "[encoded data removed]",
      "text/plain": [
       "<Figure size 432x288 with 1 Axes>"
      ]
     },
     "metadata": {
      "needs_background": "light"
     },
     "output_type": "display_data"
    }
   ],
   "source": [
    "import numpy as np\n",
    "import math as m\n",
    "import matplotlib.pyplot as plt\n",
    "\n",
    "\n",
    "n = np.linspace(0, 2*m.pi, num=100)\n",
    "#print (n)\n",
    "\n",
    "tenth = n[::10]\n",
    "#print (tenth)\n",
    "\n",
    "reverse = n[::-1]\n",
    "#print(reverse)\n",
    "\n",
    "mask = np.abs(np.sin(n)-np.cos(n))<0.1\n",
    "m=n[mask]\n",
    "#print(type(m))\n",
    "#print(m)\n",
    "\n",
    "\n",
    "plt.plot(n, np.sin(n))\n",
    "plt.plot(n, np.cos(n))\n",
    "plt.plot(m, np.cos(m), \"o\")"
   ]
  },
  {
   "cell_type": "markdown",
   "metadata": {},
   "source": [
    "5\\. Create a matrix that shows the 10 by 10 multiplication table.\n",
    "\n",
    " * Find the trace of the matrix\n",
    " * Extract the anto-diagonal (this should be ```array([10, 18, 24, 28, 30, 30, 28, 24, 18, 10])```)\n",
    " * Extract the diagnoal offset by 1 upwards (this should be ```array([ 2,  6, 12, 20, 30, 42, 56, 72, 90])```)"
   ]
  },
  {
   "cell_type": "code",
   "execution_count": 5,
   "metadata": {},
   "outputs": [
    {
     "name": "stdout",
     "output_type": "stream",
     "text": [
      "matrix \n",
      " [[  1   2   3   4   5   6   7   8   9  10]\n",
      " [  2   4   6   8  10  12  14  16  18  20]\n",
      " [  3   6   9  12  15  18  21  24  27  30]\n",
      " [  4   8  12  16  20  24  28  32  36  40]\n",
      " [  5  10  15  20  25  30  35  40  45  50]\n",
      " [  6  12  18  24  30  36  42  48  54  60]\n",
      " [  7  14  21  28  35  42  49  56  63  70]\n",
      " [  8  16  24  32  40  48  56  64  72  80]\n",
      " [  9  18  27  36  45  54  63  72  81  90]\n",
      " [ 10  20  30  40  50  60  70  80  90 100]]\n",
      "trace \n",
      " 385\n",
      "antidiagonal \n",
      " [10 18 24 28 30 30 28 24 18 10]\n",
      "diagonal offset by 1 upwards \n",
      " [ 2  6 12 20 30 42 56 72 90]\n"
     ]
    }
   ],
   "source": [
    "table = np.array([[i*j for i in range(1, 11)] for j in range(1, 11)])\n",
    "print (\"matrix \\n\",table)\n",
    "\n",
    "\n",
    "trace = np.trace(table)\n",
    "print (\"trace \\n\", trace)\n",
    "\n",
    "print(\"antidiagonal \\n\", np.diag(np.fliplr(table)))\n",
    "print(\"diagonal offset by 1 upwards \\n\", np.diag(table, 1))\n"
   ]
  },
  {
   "cell_type": "markdown",
   "metadata": {},
   "source": [
    "6\\. Use broadcasting to create a grid of distances\n",
    "\n",
    "Route 66 crosses the following cities in the US: Chicago, Springfield, Saint-Louis, Tulsa, Oklahoma City, Amarillo, Santa Fe, Albuquerque, Flagstaff, Los Angeles\n",
    "The corresponding positions in miles are: 0, 198, 303, 736, 871, 1175, 1475, 1544, 1913, 2448\n",
    "\n",
    "  * Construct a 2D grid of distances among each city along Route 66\n",
    "  * Convert that in km (those savages...)"
   ]
  },
  {
   "cell_type": "code",
   "execution_count": 10,
   "metadata": {},
   "outputs": [
    {
     "name": "stdout",
     "output_type": "stream",
     "text": [
      "indexes of cities \n",
      " Chicago: 0 \n",
      " Springfield: 1 \n",
      " Saint-Luis:2  \n",
      " Tulsa: 3 \n",
      " Oklahoma City: 4 \n",
      " Amarillo: 5 \n",
      " Santa Fe: 6 \n",
      " Albuquerque: 7 \n",
      " Flagstaff: 8 \n",
      " Los Angeles: 9\n",
      "first city index 1\n",
      "second city index 2\n",
      "the distance between the two selected cities is  105\n"
     ]
    }
   ],
   "source": [
    "dict = {'Chicago': 0, \n",
    "        'Springfield': 198, \n",
    "        'Saint-Louis': 303,\n",
    "        'Tulsa':736, \n",
    "        'Oklahoma City':871, \n",
    "        'Amarillo':1175, \n",
    "        'Santa Fe':1475, \n",
    "        'Albuquerque':1544, \n",
    "        'Flagstaff':1913, \n",
    "        'Los Angeles':2448 }\n",
    "\n",
    "cities = np.array([key for key,value in dict.items()])\n",
    "km = np.array([value for key,value in dict.items()])\n",
    "n = len(km)\n",
    "grid = np.abs (km.reshape(n,1) - km)\n",
    "\n",
    "\n",
    "def return_distance (grid, city1, city2):\n",
    "    dist = grid[int(city1)][int(city2)]\n",
    "    print (\"the distance between the two selected cities is \", dist )\n",
    "\n",
    "print (\n",
    "        \"indexes of cities \\n Chicago: 0 \\n Springfield: 1 \\n Saint-Luis:2 \"\n",
    "       \" \\n Tulsa: 3 \\n Oklahoma City: 4 \\n Amarillo: 5 \\n Santa Fe: 6 \\n \"\n",
    "       \"Albuquerque: 7 \\n Flagstaff: 8 \\n Los Angeles: 9\"\n",
    "       \n",
    "      )\n",
    "city1 = input(\"first city index \")\n",
    "city2 = input(\"second city index \")\n",
    "\n",
    "return_distance( grid,city1, city2 ) "
   ]
  },
  {
   "cell_type": "markdown",
   "metadata": {},
   "source": [
    "## 7\\. Prime numbers sieve: compute the prime numbers in the 0-N (N=99 to start with) range with a sieve (mask).\n",
    "  * Constract a shape (100,) boolean array, the mask\n",
    "  * Identify the multiples of each number starting from 2 and set accordingly the corresponding mask element\n",
    "  * Apply the mask to obtain an array of ordered prime numbers\n",
    "  * Check the performances (timeit); how does it scale with N?\n",
    "  * Implement the optimization suggested in the [sieve of Eratosthenes](https://en.wikipedia.org/wiki/Sieve_of_Eratosthenes)"
   ]
  },
  {
   "cell_type": "code",
   "execution_count": 50,
   "metadata": {},
   "outputs": [
    {
     "name": "stdout",
     "output_type": "stream",
     "text": [
      "[ 2  3  5  7 11 13 17 19 23 29 31 37 41 43 47 53 59 61 67 71 73 79 83 89\n",
      " 97]\n",
      "31.8 µs ± 398 ns per loop (mean ± std. dev. of 7 runs, 10000 loops each)\n",
      "1.97 ms ± 67.5 µs per loop (mean ± std. dev. of 7 runs, 100 loops each)\n",
      "184 ms ± 11 ms per loop (mean ± std. dev. of 7 runs, 10 loops each)\n",
      "19.3 s ± 1.59 s per loop (mean ± std. dev. of 7 runs, 1 loop each)\n"
     ]
    }
   ],
   "source": [
    "import math as m\n",
    "N=99\n",
    "a = np.arange(N)\n",
    "\n",
    "def is_prime( n ):\n",
    "    count = 0\n",
    "    for i in range (2, int(n/2)+1):\n",
    "        if n % i == 0:\n",
    "            count += 1\n",
    "    if count == 0 and n != 0 and n!= 1:\n",
    "        return True\n",
    "    else:\n",
    "        return False\n",
    "    \n",
    "mask = [is_prime(i) for i in a]\n",
    "a_prime = a[mask]\n",
    "print(a_prime)\n",
    "\n",
    "for i in range(1, 5):\n",
    "    N=m.pow(10, i)\n",
    "    a = np.arange( N )\n",
    "    mask = [is_prime(i) for i in a]\n",
    "   \n",
    "    a_prime = a[mask]\n",
    "    #print(a_prime) \n",
    "    %timeit [is_prime(i) for i in a]\n",
    "    \n",
    "    "
   ]
  },
  {
   "cell_type": "code",
   "execution_count": 77,
   "metadata": {},
   "outputs": [
    {
     "name": "stdout",
     "output_type": "stream",
     "text": [
      "2\n",
      "3\n",
      "5\n",
      "7\n",
      "11\n",
      "13\n",
      "17\n",
      "19\n",
      "23\n",
      "29\n",
      "31\n",
      "37\n",
      "41\n",
      "43\n",
      "47\n",
      "53\n",
      "59\n",
      "61\n",
      "67\n",
      "71\n",
      "73\n",
      "79\n",
      "83\n",
      "89\n",
      "97\n"
     ]
    }
   ],
   "source": [
    "n = 100\n",
    "      \n",
    "prime = [True for i in range(n + 1)] \n",
    "p = 2\n",
    "while (p * p <= n): \n",
    "          \n",
    "       \n",
    "    if (prime[p] == True): \n",
    "              \n",
    "             \n",
    "        for i in range(p * 2, n + 1, p): \n",
    "            prime[i] = False\n",
    "    p += 1\n",
    "prime[0]= False\n",
    "prime[1]= False\n",
    "    \n",
    "for p in range(n + 1): \n",
    "    if prime[p]: \n",
    "        print (p)"
   ]
  },
  {
   "cell_type": "markdown",
   "metadata": {},
   "source": [
    "8\\. Diffusion using random walk\n",
    "\n",
    "Consider a simple random walk process: at each step in time, a walker jumps right or left (+1 or -1) with equal probability. The goal is to find the typical distance from the origin of a random walker after a given amount of time. \n",
    "To do that, let's simulate many walkers and create a 2D array with each walker as a raw and the actual time evolution as columns\n",
    "\n",
    "  * Take 1000 walkers and let them walk for 200 steps\n",
    "  * Use randint to create a 2D array of size walkers x steps with values -1 or 1\n",
    "  * Build the actual walking distances for each walker (i.e. another 2D array \"summing on each raw\")\n",
    "  * Take the square of that 2D array (elementwise)\n",
    "  * Compute the mean of the squared distances at each step (i.e. the mean along the columns)\n",
    "  * Plot the average distances (sqrt(distance\\*\\*2)) as a function of time (step)\n",
    "  \n",
    "Did you get what you expected?"
   ]
  },
  {
   "cell_type": "markdown",
   "metadata": {},
   "source": [
    "9\\. Analyze a data file \n",
    "  * Download the population of hares, lynxes and carrots at the beginning of the last century.\n",
    "    ```python\n",
    "    ! wget https://www.dropbox.com/s/3vigxoqayo389uc/populations.txt\n",
    "    ```\n",
    "\n",
    "  * Check the content by looking within the file\n",
    "  * Load the data (use an appropriate numpy method) into a 2D array\n",
    "  * Create arrays out of the columns, the arrays being (in order): *year*, *hares*, *lynxes*, *carrots* \n",
    "  * Plot the 3 populations over the years\n",
    "  * Compute the main statistical properties of the dataset (mean, std, correlations, etc.)\n",
    "  * Which species has the highest population each year?\n",
    "\n",
    "Do you feel there is some evident correlation here? [Studies](https://www.enr.gov.nt.ca/en/services/lynx/lynx-snowshoe-hare-cycle) tend to believe so."
   ]
  },
  {
   "cell_type": "code",
   "execution_count": null,
   "metadata": {},
   "outputs": [],
   "source": []
  }
 ],
 "metadata": {
  "kernelspec": {
   "display_name": "Python 3",
   "language": "python",
   "name": "python3"
  },
  "language_info": {
   "codemirror_mode": {
    "name": "ipython",
    "version": 3
   },
   "file_extension": ".py",
   "mimetype": "text/x-python",
   "name": "python",
   "nbconvert_exporter": "python",
   "pygments_lexer": "ipython3",
   "version": "3.6.9"
  }
 },
 "nbformat": 4,
 "nbformat_minor": 2
}
