{
 "cells": [
  {
   "cell_type": "markdown",
   "metadata": {},
   "source": [
    "### Numpy basics"
   ]
  },
  {
   "cell_type": "code",
   "execution_count": 1,
   "metadata": {},
   "outputs": [],
   "source": [
    "import numpy as np"
   ]
  },
  {
   "cell_type": "markdown",
   "metadata": {},
   "source": [
    "1\\. Find the row, column and overall means for the following matrix:\n",
    "\n",
    "```python\n",
    "m = np.arange(12).reshape((3,4))\n",
    "```"
   ]
  },
  {
   "cell_type": "code",
   "execution_count": 2,
   "metadata": {},
   "outputs": [
    {
     "name": "stdout",
     "output_type": "stream",
     "text": [
      "The 0-th row is [0 1 2 3]\n",
      " its mean is 1.5\n",
      "The 1-th row is [4 5 6 7]\n",
      " its mean is 5.5\n",
      "The 2-th row is [ 8  9 10 11]\n",
      " its mean is 9.5\n",
      "\n",
      "The 0-th col is [0 4 8]\n",
      " its mean is 4.0\n",
      "The 1-th col is [1 5 9]\n",
      " its mean is 5.0\n",
      "The 2-th col is [ 2  6 10]\n",
      " its mean is 6.0\n",
      "The 3-th col is [ 3  7 11]\n",
      " its mean is 7.0\n"
     ]
    }
   ],
   "source": [
    "m = np.arange(12).reshape((3,4))\n",
    "\n",
    "for i, row in enumerate(m):\n",
    "    print(f'The {i}-th row is {row}\\n its mean is {row.mean()}')\n",
    "print()\n",
    "for i, col in enumerate(m.transpose()):\n",
    "    print(f'The {i}-th col is {col}\\n its mean is {col.mean()}')"
   ]
  },
  {
   "cell_type": "markdown",
   "metadata": {},
   "source": [
    "2\\. Find the outer product of the following two vecotrs\n",
    "\n",
    "```python\n",
    "u = np.array([1,3,5,7])\n",
    "v = np.array([2,4,6,8])\n",
    "```\n",
    "\n",
    "Do this in the following ways:\n",
    "\n",
    "   * Using the function outer in numpy\n",
    "   * Using a nested for loop or list comprehension\n",
    "   * Using numpy broadcasting operatoins\n"
   ]
  },
  {
   "cell_type": "code",
   "execution_count": 3,
   "metadata": {},
   "outputs": [
    {
     "name": "stdout",
     "output_type": "stream",
     "text": [
      "Using numpy's outer product:\n",
      "[[ 2  4  6  8]\n",
      " [ 6 12 18 24]\n",
      " [10 20 30 40]\n",
      " [14 28 42 56]]\n",
      "\n",
      "Using a list comprehension:\n",
      "[[ 2  4  6  8]\n",
      " [ 6 12 18 24]\n",
      " [10 20 30 40]\n",
      " [14 28 42 56]]\n",
      "\n",
      "Using broadcasting operations:\n",
      "[[ 2  4  6  8]\n",
      " [ 6 12 18 24]\n",
      " [10 20 30 40]\n",
      " [14 28 42 56]]\n"
     ]
    }
   ],
   "source": [
    "u = np.array([1,3,5,7])\n",
    "v = np.array([2,4,6,8])\n",
    "\n",
    "print(\"Using numpy's outer product:\")\n",
    "op = np.outer(u,v)\n",
    "print(f'{op}')\n",
    "print()\n",
    "print(\"Using a list comprehension:\")\n",
    "op = np.array([h*v for h in u])\n",
    "print(op)\n",
    "print()\n",
    "print(\"Using broadcasting operations:\")\n",
    "op = u.reshape(4,1)*v\n",
    "print(op)"
   ]
  },
  {
   "cell_type": "markdown",
   "metadata": {},
   "source": [
    "3\\. Create a 10 by 6 matrix of random uniform numbers. Set all rows with any entry less than 0.1 to be zero\n",
    "\n",
    "Hint: Use the following numpy functions - np.random.random, np.any as well as Boolean indexing and the axis argument."
   ]
  },
  {
   "cell_type": "code",
   "execution_count": 4,
   "metadata": {},
   "outputs": [
    {
     "name": "stdout",
     "output_type": "stream",
     "text": [
      "The original matrix is:\n",
      "[[0.50942333 0.90703608 0.57915886 0.07593224 0.29533043 0.04593752]\n",
      " [0.05414637 0.27290292 0.27428553 0.50387922 0.45481412 0.14915021]\n",
      " [0.96436152 0.1226784  0.77658051 0.97335716 0.49148912 0.10476588]\n",
      " [0.0762071  0.14210955 0.62529678 0.65534434 0.7462891  0.23552447]\n",
      " [0.89753966 0.85205351 0.75673602 0.90849583 0.43174024 0.01463382]\n",
      " [0.38269587 0.35694441 0.86090394 0.20180854 0.73305994 0.63527554]\n",
      " [0.26741082 0.18877449 0.86181937 0.42206446 0.71003829 0.75872525]\n",
      " [0.39721784 0.45550735 0.32398443 0.96864483 0.66202205 0.44338027]\n",
      " [0.913064   0.79983671 0.90712771 0.60083108 0.52998652 0.92701984]\n",
      " [0.98946291 0.50265179 0.60540283 0.0553173  0.70825192 0.97947052]]\n",
      "\n",
      "Thus, the resulting matrix is:\n",
      "[[0.         0.         0.         0.         0.         0.        ]\n",
      " [0.         0.         0.         0.         0.         0.        ]\n",
      " [0.96436152 0.1226784  0.77658051 0.97335716 0.49148912 0.10476588]\n",
      " [0.         0.         0.         0.         0.         0.        ]\n",
      " [0.         0.         0.         0.         0.         0.        ]\n",
      " [0.38269587 0.35694441 0.86090394 0.20180854 0.73305994 0.63527554]\n",
      " [0.26741082 0.18877449 0.86181937 0.42206446 0.71003829 0.75872525]\n",
      " [0.39721784 0.45550735 0.32398443 0.96864483 0.66202205 0.44338027]\n",
      " [0.913064   0.79983671 0.90712771 0.60083108 0.52998652 0.92701984]\n",
      " [0.         0.         0.         0.         0.         0.        ]]\n"
     ]
    }
   ],
   "source": [
    "import numpy.random as npr\n",
    "m = npr.random([10,6])\n",
    "print(f'The original matrix is:\\n{m}\\n')\n",
    "# we review if theres any lower than zero each row (axis 1)\n",
    "g = np.any(m<0.1,axis = 1)\n",
    "# Then overwrite any such term\n",
    "m[g>0]=np.zeros(6)\n",
    "print(f'Thus, the resulting matrix is:\\n{m}')"
   ]
  },
  {
   "cell_type": "markdown",
   "metadata": {},
   "source": [
    "4\\. Use np.linspace to create an array of 100 numbers between 0 and 2π (includsive).\n",
    "\n",
    "  * Extract every 10th element using slice notation\n",
    "  * Reverse the array using slice notation\n",
    "  * Extract elements where the absolute difference between the sine and cosine functions evaluated at that element is less than 0.1\n",
    "  * Make a plot showing the sin and cos functions and indicate where they are close"
   ]
  },
  {
   "cell_type": "code",
   "execution_count": 9,
   "metadata": {},
   "outputs": [
    {
     "name": "stdout",
     "output_type": "stream",
     "text": [
      "The original array is:\n",
      "[0.         0.06346652 0.12693304 0.19039955 0.25386607 0.31733259\n",
      " 0.38079911 0.44426563 0.50773215 0.57119866 0.63466518 0.6981317\n",
      " 0.76159822 0.82506474 0.88853126 0.95199777 1.01546429 1.07893081\n",
      " 1.14239733 1.20586385 1.26933037 1.33279688 1.3962634  1.45972992\n",
      " 1.52319644 1.58666296 1.65012947 1.71359599 1.77706251 1.84052903\n",
      " 1.90399555 1.96746207 2.03092858 2.0943951  2.15786162 2.22132814\n",
      " 2.28479466 2.34826118 2.41172769 2.47519421 2.53866073 2.60212725\n",
      " 2.66559377 2.72906028 2.7925268  2.85599332 2.91945984 2.98292636\n",
      " 3.04639288 3.10985939 3.17332591 3.23679243 3.30025895 3.36372547\n",
      " 3.42719199 3.4906585  3.55412502 3.61759154 3.68105806 3.74452458\n",
      " 3.8079911  3.87145761 3.93492413 3.99839065 4.06185717 4.12532369\n",
      " 4.1887902  4.25225672 4.31572324 4.37918976 4.44265628 4.5061228\n",
      " 4.56958931 4.63305583 4.69652235 4.75998887 4.82345539 4.88692191\n",
      " 4.95038842 5.01385494 5.07732146 5.14078798 5.2042545  5.26772102\n",
      " 5.33118753 5.39465405 5.45812057 5.52158709 5.58505361 5.64852012\n",
      " 5.71198664 5.77545316 5.83891968 5.9023862  5.96585272 6.02931923\n",
      " 6.09278575 6.15625227 6.21971879 6.28318531]\n",
      "\n",
      "This is the array of every tenth element:\n",
      "[0.57119866 1.20586385 1.84052903 2.47519421 3.10985939 3.74452458\n",
      " 4.37918976 5.01385494 5.64852012 6.28318531]\n",
      "\n",
      "The reversed array is:\n",
      "[6.28318531 6.21971879 6.15625227 6.09278575 6.02931923 5.96585272\n",
      " 5.9023862  5.83891968 5.77545316 5.71198664 5.64852012 5.58505361\n",
      " 5.52158709 5.45812057 5.39465405 5.33118753 5.26772102 5.2042545\n",
      " 5.14078798 5.07732146 5.01385494 4.95038842 4.88692191 4.82345539\n",
      " 4.75998887 4.69652235 4.63305583 4.56958931 4.5061228  4.44265628\n",
      " 4.37918976 4.31572324 4.25225672 4.1887902  4.12532369 4.06185717\n",
      " 3.99839065 3.93492413 3.87145761 3.8079911  3.74452458 3.68105806\n",
      " 3.61759154 3.55412502 3.4906585  3.42719199 3.36372547 3.30025895\n",
      " 3.23679243 3.17332591 3.10985939 3.04639288 2.98292636 2.91945984\n",
      " 2.85599332 2.7925268  2.72906028 2.66559377 2.60212725 2.53866073\n",
      " 2.47519421 2.41172769 2.34826118 2.28479466 2.22132814 2.15786162\n",
      " 2.0943951  2.03092858 1.96746207 1.90399555 1.84052903 1.77706251\n",
      " 1.71359599 1.65012947 1.58666296 1.52319644 1.45972992 1.3962634\n",
      " 1.33279688 1.26933037 1.20586385 1.14239733 1.07893081 1.01546429\n",
      " 0.95199777 0.88853126 0.82506474 0.76159822 0.6981317  0.63466518\n",
      " 0.57119866 0.50773215 0.44426563 0.38079911 0.31733259 0.25386607\n",
      " 0.19039955 0.12693304 0.06346652 0.        ]\n",
      "\n",
      "Every x_i in the range such that sin(x) and cos(x) are near:\n",
      "[0.76159822 0.82506474 3.87145761 3.93492413]\n",
      "\n"
     ]
    },
    {
     "data": {
      "text/plain": [
       "[<matplotlib.lines.Line2D at 0x7fdcc3b156a0>,\n",
       " <matplotlib.lines.Line2D at 0x7fdcc3b157b8>]"
      ]
     },
     "execution_count": 9,
     "metadata": {},
     "output_type": "execute_result"
    },
    {
     "data": {
      "image/png": "[encoded data removed]",
      "text/plain": [
       "<Figure size 432x288 with 1 Axes>"
      ]
     },
     "metadata": {
      "needs_background": "light"
     },
     "output_type": "display_data"
    }
   ],
   "source": [
    "import matplotlib.pyplot as plt\n",
    "%matplotlib inline\n",
    "x = np.linspace(0,2*np.pi,100)\n",
    "y_1 = np.sin(x)\n",
    "y_2 = np.cos(x)\n",
    "print(f'The original array is:\\n{x}\\n')\n",
    "\n",
    "every_tenth = [i for i in range(9,100,10)] \n",
    "print(f'This is the array of every tenth element:\\n{x[every_tenth]}\\n')\n",
    "\n",
    "reversed_x = x[::-1]\n",
    "print(f'The reversed array is:\\n{reversed_x}\\n')\n",
    "\n",
    "close_at = x[abs(np.cos(x)-np.sin(x))<0.1]\n",
    "print(f'Every x_i in the range such that sin(x) and cos(x) are near:\\n{close_at}\\n')\n",
    "\n",
    "plt.plot(x,y_1,x,y_2, '-gD', markevery = np.where(abs(y_1-y_2)<0.1)[0].tolist())"
   ]
  },
  {
   "cell_type": "markdown",
   "metadata": {},
   "source": [
    "5\\. Create a matrix that shows the 10 by 10 multiplication table.\n",
    "\n",
    " * Find the trace of the matrix\n",
    " * Extract the anto-diagonal (this should be ```array([10, 18, 24, 28, 30, 30, 28, 24, 18, 10])```)\n",
    " * Extract the diagnoal offset by 1 upwards (this should be ```array([ 2,  6, 12, 20, 30, 42, 56, 72, 90])```)"
   ]
  },
  {
   "cell_type": "code",
   "execution_count": 6,
   "metadata": {},
   "outputs": [
    {
     "name": "stdout",
     "output_type": "stream",
     "text": [
      "The multiplication table is:\n",
      "[[  1   2   3   4   5   6   7   8   9  10]\n",
      " [  2   4   6   8  10  12  14  16  18  20]\n",
      " [  3   6   9  12  15  18  21  24  27  30]\n",
      " [  4   8  12  16  20  24  28  32  36  40]\n",
      " [  5  10  15  20  25  30  35  40  45  50]\n",
      " [  6  12  18  24  30  36  42  48  54  60]\n",
      " [  7  14  21  28  35  42  49  56  63  70]\n",
      " [  8  16  24  32  40  48  56  64  72  80]\n",
      " [  9  18  27  36  45  54  63  72  81  90]\n",
      " [ 10  20  30  40  50  60  70  80  90 100]]\n",
      "\n",
      "Its trace is: 385\n",
      "\n",
      "Its antidiagonal is\n",
      "[10 18 24 28 30 30 28 24 18 10]\n",
      "\n",
      "The 1 upwards offset diagonal is\n",
      "[ 2  6 12 20 30 42 56 72 90]\n"
     ]
    }
   ],
   "source": [
    "# We obtain the 10 by 10 multiplication table \n",
    "# by means of the outer product of an array\n",
    "# with the first 10 numbers with itselt.\n",
    "a = np.arange(1,11)\n",
    "mult = np.outer(a,a)\n",
    "print(f'The multiplication table is:\\n{mult}\\n')\n",
    "\n",
    "trace = np.trace(mult)\n",
    "print(f'Its trace is: {trace}\\n')\n",
    "\n",
    "#antdiagonl = np.array([mult[i,10-i-1] for i in range(10)])\n",
    "antdiagonal = np.fliplr(mult).diagonal()\n",
    "print(f'Its antidiagonal is\\n{antdiagonal}\\n')\n",
    "\n",
    "# We obtain the offset diagonal by extracting a submatrix\n",
    "offset = 1\n",
    "off_diag = mult[:-offset,offset:].diagonal()\n",
    "print(f'The 1 upwards offset diagonal is\\n{off_diag}')"
   ]
  },
  {
   "cell_type": "markdown",
   "metadata": {},
   "source": [
    "6\\. Use broadcasting to create a grid of distances\n",
    "\n",
    "Route 66 crosses the following cities in the US: Chicago, Springfield, Saint-Louis, Tulsa, Oklahoma City, Amarillo, Santa Fe, Albuquerque, Flagstaff, Los Angeles\n",
    "The corresponding positions in miles are: 0, 198, 303, 736, 871, 1175, 1475, 1544, 1913, 2448\n",
    "\n",
    "  * Construct a 2D grid of distances among each city along Route 66\n",
    "  * Convert that in km (those savages...)"
   ]
  },
  {
   "cell_type": "code",
   "execution_count": 7,
   "metadata": {},
   "outputs": [
    {
     "name": "stdout",
     "output_type": "stream",
     "text": [
      "The distances between cities is given by:\n",
      "[[   0  198  303  736  871 1175 1475 1544 1913 2448]\n",
      " [ 198    0  105  538  673  977 1277 1346 1715 2250]\n",
      " [ 303  105    0  433  568  872 1172 1241 1610 2145]\n",
      " [ 736  538  433    0  135  439  739  808 1177 1712]\n",
      " [ 871  673  568  135    0  304  604  673 1042 1577]\n",
      " [1175  977  872  439  304    0  300  369  738 1273]\n",
      " [1475 1277 1172  739  604  300    0   69  438  973]\n",
      " [1544 1346 1241  808  673  369   69    0  369  904]\n",
      " [1913 1715 1610 1177 1042  738  438  369    0  535]\n",
      " [2448 2250 2145 1712 1577 1273  973  904  535    0]]\n",
      "\n",
      "In readable units (km):\n",
      "[[   0.     318.582  487.527 1184.224 1401.439 1890.575 2373.275 2484.296\n",
      "  3078.017 3938.832]\n",
      " [ 318.582    0.     168.945  865.642 1082.857 1571.993 2054.693 2165.714\n",
      "  2759.435 3620.25 ]\n",
      " [ 487.527  168.945    0.     696.697  913.912 1403.048 1885.748 1996.769\n",
      "  2590.49  3451.305]\n",
      " [1184.224  865.642  696.697    0.     217.215  706.351 1189.051 1300.072\n",
      "  1893.793 2754.608]\n",
      " [1401.439 1082.857  913.912  217.215    0.     489.136  971.836 1082.857\n",
      "  1676.578 2537.393]\n",
      " [1890.575 1571.993 1403.048  706.351  489.136    0.     482.7    593.721\n",
      "  1187.442 2048.257]\n",
      " [2373.275 2054.693 1885.748 1189.051  971.836  482.7      0.     111.021\n",
      "   704.742 1565.557]\n",
      " [2484.296 2165.714 1996.769 1300.072 1082.857  593.721  111.021    0.\n",
      "   593.721 1454.536]\n",
      " [3078.017 2759.435 2590.49  1893.793 1676.578 1187.442  704.742  593.721\n",
      "     0.     860.815]\n",
      " [3938.832 3620.25  3451.305 2754.608 2537.393 2048.257 1565.557 1454.536\n",
      "   860.815    0.   ]]\n"
     ]
    }
   ],
   "source": [
    "a = np.array([0, 198, 303, 736, 871, 1175, 1475, 1544, 1913, 2448])\n",
    "b= np.tile(a,len(a)).reshape([a.size,a.size])\n",
    "grid = abs(b - b.T)\n",
    "print(f'The distances between cities is given by:\\n{grid}\\n')\n",
    "print(f'In readable units (km):\\n{1.609*grid}')"
   ]
  },
  {
   "cell_type": "markdown",
   "metadata": {},
   "source": [
    "7\\. Prime numbers sieve: compute the prime numbers in the 0-N (N=99 to start with) range with a sieve (mask).\n",
    "  * Constract a shape (100,) boolean array, the mask\n",
    "  * Identify the multiples of each number starting from 2 and set accordingly the corresponding mask element\n",
    "  * Apply the mask to obtain an array of ordered prime numbers\n",
    "  * Check the performances (timeit); how does it scale with N?\n",
    "  * Implement the optimization suggested in the [sieve of Eratosthenes](https://en.wikipedia.org/wiki/Sieve_of_Eratosthenes)"
   ]
  },
  {
   "cell_type": "code",
   "execution_count": 62,
   "metadata": {},
   "outputs": [
    {
     "name": "stdout",
     "output_type": "stream",
     "text": [
      "Prime numbers from 2 to 99:\n",
      "[ 2  3  5  7 11 13 17 19 23 29 31 37 41 43 47 53 59 61 67 71 73 79 83 89\n",
      " 97]\n",
      "\n",
      "The first implementation takes 0.08795868199922552 seconds to calculate the primes between 2 and 99.\n",
      "\n",
      "The computation time of the algorithm above follows a linear trend w.r.t. N\n",
      "\n",
      "Prime numbers from 2 to 99:\n",
      "[ 0  1  2  3  5  7 11 13 17 19 23 29 31 37 41 43 47 53 59 61 67 71 73 79\n",
      " 83 89 97]\n",
      "\n",
      "The optimized implementation takes 0.03676920599900768 seconds to calculate the primes between 2 and 99\n",
      ".\n"
     ]
    },
    {
     "data": {
      "image/png": "[encoded data removed]",
      "text/plain": [
       "<Figure size 432x288 with 1 Axes>"
      ]
     },
     "metadata": {
      "needs_background": "light"
     },
     "output_type": "display_data"
    }
   ],
   "source": [
    "import timeit\n",
    "from scipy.linalg import lstsq\n",
    "\n",
    "\n",
    "N = 99\n",
    "\n",
    "def get_primes(N):\n",
    "    numbers = np.arange(2,N+1)\n",
    "    mask = np.ones(N+1-2,'bool')# Assuming every number to be prime.\n",
    "    for i in range(2,N+1):\n",
    "        j = i\n",
    "        \n",
    "        while i*j < N+1:\n",
    "            mask[i*j-2] = False\n",
    "            j+=1\n",
    "    return numbers[mask]\n",
    "\n",
    "prime = lambda: get_primes(N)\n",
    "\n",
    "print(f'Prime numbers from 2 to 99:\\n{get_primes(99)}\\n')\n",
    "print(f'The first implementation takes {timeit.timeit(prime, number =1000)} seconds to calculate the primes between 2 and 99.\\n')\n",
    "\n",
    "t = []\n",
    "n = np.arange(99,200)\n",
    "for i in n:\n",
    "    prime = lambda: get_primes(i)\n",
    "    t.append(timeit.timeit(prime,number = 1000)/1000)\n",
    "t = np.array(t)\n",
    "plt.plot(n,t, label='Experimental')\n",
    "n = n.reshape((t.size,1))\n",
    "n_d = np.hstack((np.ones((n.size,1)),n))\n",
    "p,res,rnk,s = lstsq(n_d,t)\n",
    "h = n_d@p\n",
    "plt.plot(n,h, label='Fitted')\n",
    "plt.legend('Prime mask performance')\n",
    "plt.xlabel('N')\n",
    "plt.ylabel('T (seconds)')\n",
    "print(f'The computation time of the algorithm above follows a linear trend w.r.t. N\\n')\n",
    "\n",
    "\n",
    "def sie_of_era(N):\n",
    "    mask = np.ones(N+1,'bool')\n",
    "    numbers = np.arange(N+1)\n",
    "    i = 2\n",
    "    while i<N+1:\n",
    "        # Mark all those at n*i-th steps which haven't been set to false, to be false\n",
    "        non_primes = [j for j in range(2*i,N+1,i) if mask[j]]\n",
    "        mask[non_primes] = False\n",
    "        # Find the next number that has not been set to one\n",
    "        #print(i)\n",
    "        #print(numbers)\n",
    "        new = np.where((mask == True)*(numbers>i)==True)\n",
    "        #print(new)\n",
    "        new = new[0]\n",
    "        if not new.any():\n",
    "            break\n",
    "        i = new[0]\n",
    "    return numbers[mask]\n",
    "\n",
    "\n",
    "def opt_sie_of_era(N):\n",
    "    numbers = np.arange(N+1)\n",
    "    mask = np.ones(N+1,'bool')\n",
    "    for i in range(2,int(np.sqrt(N))):\n",
    "        if not mask[i]: continue\n",
    "        for j in range(i**2,N+1,i):\n",
    "            mask[j] = False\n",
    "    return numbers[mask]\n",
    "\n",
    "prime_opt = lambda: opt_sie_of_era(N)\n",
    "print(f'Prime numbers from 2 to 99:\\n{opt_sie_of_era(99)}\\n')\n",
    "print(f'The optimized implementation takes {timeit.timeit(prime_opt, number =1000)} seconds to calculate the primes between 2 and 99\\n.')"
   ]
  },
  {
   "cell_type": "markdown",
   "metadata": {},
   "source": [
    "8\\. Diffusion using random walk\n",
    "\n",
    "Consider a simple random walk process: at each step in time, a walker jumps right or left (+1 or -1) with equal probability. The goal is to find the typical distance from the origin of a random walker after a given amount of time. \n",
    "To do that, let's simulate many walkers and create a 2D array with each walker as a raw and the actual time evolution as columns\n",
    "\n",
    "  * Take 1000 walkers and let them walk for 200 steps\n",
    "  * Use randint to create a 2D array of size walkers x steps with values -1 or 1\n",
    "  * Build the actual walking distances for each walker (i.e. another 2D array \"summing on each raw\")\n",
    "  * Take the square of that 2D array (elementwise)\n",
    "  * Compute the mean of the squared distances at each step (i.e. the mean along the columns)\n",
    "  * Plot the average distances (sqrt(distance\\*\\*2)) as a function of time (step)\n",
    "  \n",
    "Did you get what you expected?"
   ]
  },
  {
   "cell_type": "code",
   "execution_count": null,
   "metadata": {
    "scrolled": true
   },
   "outputs": [],
   "source": [
    "n_walkers = 1000\n",
    "n_steps = 200\n",
    "import numpy as np\n",
    "walks = 2*np.random.randint(2,size = (n_walkers,n_steps))-1\n",
    "print(walks)\n",
    "walk_dists = walks.cumsum(axis = 0)\n",
    "print(walk_dists)\n",
    "x = np.sqrt(np.mean(walk_dists**2, axis = 0))\n",
    "t = np.arange(n_steps)\n",
    "plt.plot(t,x)"
   ]
  },
  {
   "cell_type": "markdown",
   "metadata": {},
   "source": [
    "9\\. Analyze a data file \n",
    "  * Download the population of hares, lynxes and carrots at the beginning of the last century.\n",
    "    ```python\n",
    "    ! wget https://www.dropbox.com/s/3vigxoqayo389uc/populations.txt\n",
    "    ```\n",
    "\n",
    "  * Check the content by looking within the file\n",
    "  * Load the data (use an appropriate numpy method) into a 2D array\n",
    "  * Create arrays out of the columns, the arrays being (in order): *year*, *hares*, *lynxes*, *carrots* \n",
    "  * Plot the 3 populations over the years\n",
    "  * Compute the main statistical properties of the dataset (mean, std, correlations, etc.)\n",
    "  * Which species has the highest population each year?\n",
    "\n",
    "Do you feel there is some evident correlation here? [Studies](https://www.enr.gov.nt.ca/en/services/lynx/lynx-snowshoe-hare-cycle) tend to believe so."
   ]
  },
  {
   "cell_type": "code",
   "execution_count": null,
   "metadata": {},
   "outputs": [],
   "source": [
    "#! wget https://www.dropbox.com/s/3vigxoqayo389uc/populations.txt\n",
    "tags = ['year', 'hares', 'lynxes', 'carrots']\n",
    "\n",
    "h = np.array([np.fromstring(i, sep = ' ') for i in open(\"populations.txt\") if np.fromstring(i, sep = ' ').any()])\n",
    "\n",
    "data = {}\n",
    "for i, v in enumerate(h.T):\n",
    "    data[tags[i]]=v\n",
    "\n",
    "for tag in tags[1:]:\n",
    "    plt.plot(data['year'][1:] ,data[tag][1:])"
   ]
  },
  {
   "cell_type": "code",
   "execution_count": null,
   "metadata": {},
   "outputs": [],
   "source": []
  }
 ],
 "metadata": {
  "kernelspec": {
   "display_name": "Python 3",
   "language": "python",
   "name": "python3"
  },
  "language_info": {
   "codemirror_mode": {
    "name": "ipython",
    "version": 3
   },
   "file_extension": ".py",
   "mimetype": "text/x-python",
   "name": "python",
   "nbconvert_exporter": "python",
   "pygments_lexer": "ipython3",
   "version": "3.7.3"
  }
 },
 "nbformat": 4,
 "nbformat_minor": 2
}
