{
 "cells": [
  {
   "cell_type": "markdown",
   "metadata": {},
   "source": [
    "### Numpy basics"
   ]
  },
  {
   "cell_type": "markdown",
   "metadata": {},
   "source": [
    "1\\. Find the row, column and overall means for the following matrix:\n",
    "\n",
    "```python\n",
    "m = np.arange(12).reshape((3,4))\n",
    "```"
   ]
  },
  {
   "cell_type": "code",
   "execution_count": 1,
   "metadata": {},
   "outputs": [
    {
     "name": "stdout",
     "output_type": "stream",
     "text": [
      "[[ 0  1  2  3]\n",
      " [ 4  5  6  7]\n",
      " [ 8  9 10 11]] \n",
      "\n",
      "Column-wise mean:  [4. 5. 6. 7.]\n",
      "Row-wise mean:  [1.5 5.5 9.5]\n",
      "Overall mean:  5.5\n"
     ]
    }
   ],
   "source": [
    "import numpy as np\n",
    "\n",
    "m = np.arange(12).reshape((3,4))\n",
    "\n",
    "c = np.mean(m, axis = 0)\n",
    "r = np.mean(m, axis = 1)\n",
    "o = np.mean(m)\n",
    "\n",
    "print (m, '\\n')\n",
    "print(\"Column-wise mean: \", c)\n",
    "print(\"Row-wise mean: \", r)\n",
    "print(\"Overall mean: \", o)"
   ]
  },
  {
   "cell_type": "markdown",
   "metadata": {},
   "source": [
    "2\\. Find the outer product of the following two vecotrs\n",
    "\n",
    "```python\n",
    "u = np.array([1,3,5,7])\n",
    "v = np.array([2,4,6,8])\n",
    "```\n",
    "\n",
    "Do this in the following ways:\n",
    "\n",
    "   * Using the function outer in numpy\n",
    "   * Using a nested for loop or list comprehension\n",
    "   * Using numpy broadcasting operations\n"
   ]
  },
  {
   "cell_type": "code",
   "execution_count": 2,
   "metadata": {},
   "outputs": [
    {
     "name": "stdout",
     "output_type": "stream",
     "text": [
      "Vector u:  [1 3 5 7] \n",
      "\n",
      "Vector v:  [2 4 6 8] \n",
      "\n",
      "Using numpy outer function: \n",
      " [[ 2  4  6  8]\n",
      " [ 6 12 18 24]\n",
      " [10 20 30 40]\n",
      " [14 28 42 56]] \n",
      "\n",
      "Using list comprehension: \n",
      " [[ 2  4  6  8]\n",
      " [ 6 12 18 24]\n",
      " [10 20 30 40]\n",
      " [14 28 42 56]] \n",
      "\n",
      "Using broadcasting: \n",
      " [[ 2  4  6  8]\n",
      " [ 6 12 18 24]\n",
      " [10 20 30 40]\n",
      " [14 28 42 56]] \n",
      "\n"
     ]
    }
   ],
   "source": [
    "u = np.array([1,3,5,7])\n",
    "v = np.array([2,4,6,8])\n",
    "print(\"Vector u: \", u, '\\n')\n",
    "print(\"Vector v: \", v, '\\n')\n",
    "\n",
    "#using np.outer\n",
    "out = np.outer(u,v)\n",
    "\n",
    "#using list comprehension\n",
    "lc = np.array([[u[i]*v[j] for j in range(len(v))] for i in range(len(u))])\n",
    "\n",
    "#using broadcasting\n",
    "bro = u.reshape(4,1)*v \n",
    "\n",
    "print(\"Using numpy outer function: \\n\", out,'\\n')\n",
    "print(\"Using list comprehension: \\n\", lc, '\\n')\n",
    "print(\"Using broadcasting: \\n\", bro,'\\n')"
   ]
  },
  {
   "cell_type": "markdown",
   "metadata": {},
   "source": [
    "3\\. Create a 10 by 6 matrix of random uniform numbers. Set all rows with any entry less than 0.1 to be zero\n",
    "\n",
    "Hint: Use the following numpy functions - np.random.random, np.any as well as Boolean indexing and the axis argument."
   ]
  },
  {
   "cell_type": "code",
   "execution_count": 3,
   "metadata": {},
   "outputs": [
    {
     "name": "stdout",
     "output_type": "stream",
     "text": [
      "10x6 matrix of random uniform numbers: \n",
      " [[0.91228424 0.80903353 0.10408792 0.98946482 0.4038182  0.85985956]\n",
      " [0.34788537 0.82244627 0.76019913 0.26641768 0.89820187 0.18155357]\n",
      " [0.91772055 0.77924752 0.79714987 0.30130921 0.42232207 0.96067424]\n",
      " [0.50947065 0.47734333 0.20906289 0.08962527 0.82306774 0.19313815]\n",
      " [0.9662472  0.80522441 0.16061291 0.43557299 0.92705276 0.45779393]\n",
      " [0.41012698 0.29204534 0.35506903 0.81553868 0.18196399 0.38691574]\n",
      " [0.84652415 0.18173234 0.59007019 0.57385107 0.7298583  0.72363695]\n",
      " [0.60708011 0.76521695 0.55609074 0.75736993 0.68977834 0.82861888]\n",
      " [0.09731193 0.84424859 0.97991024 0.06778743 0.80164669 0.66123873]\n",
      " [0.10749672 0.28047207 0.28436632 0.7440586  0.08619619 0.40548987]] \n",
      "\n",
      "Modified matrix: \n",
      " [[0.91228424 0.80903353 0.10408792 0.98946482 0.4038182  0.85985956]\n",
      " [0.34788537 0.82244627 0.76019913 0.26641768 0.89820187 0.18155357]\n",
      " [0.91772055 0.77924752 0.79714987 0.30130921 0.42232207 0.96067424]\n",
      " [0.         0.         0.         0.         0.         0.        ]\n",
      " [0.9662472  0.80522441 0.16061291 0.43557299 0.92705276 0.45779393]\n",
      " [0.41012698 0.29204534 0.35506903 0.81553868 0.18196399 0.38691574]\n",
      " [0.84652415 0.18173234 0.59007019 0.57385107 0.7298583  0.72363695]\n",
      " [0.60708011 0.76521695 0.55609074 0.75736993 0.68977834 0.82861888]\n",
      " [0.         0.         0.         0.         0.         0.        ]\n",
      " [0.         0.         0.         0.         0.         0.        ]] \n",
      "\n"
     ]
    }
   ],
   "source": [
    "import numpy.random as npr \n",
    "\n",
    "unif = npr.rand(10,6)\n",
    "print(\"10x6 matrix of random uniform numbers:\",'\\n', unif,'\\n')\n",
    "\n",
    "mask = (np.any(unif < 0.1, axis = 1))\n",
    "\n",
    "unif[mask] = 0\n",
    "print(\"Modified matrix:\",'\\n', unif,'\\n')"
   ]
  },
  {
   "cell_type": "markdown",
   "metadata": {},
   "source": [
    "4\\. Use np.linspace to create an array of 100 numbers between 0 and 2π (inclusive).\n",
    "\n",
    "  * Extract every 10th element using slice notation\n",
    "  * Reverse the array using slice notation\n",
    "  * Extract elements where the absolute difference between the sine and cosine functions evaluated at that element is less than 0.1\n",
    "  * Make a plot showing the sin and cos functions and indicate where they are close"
   ]
  },
  {
   "cell_type": "code",
   "execution_count": 4,
   "metadata": {},
   "outputs": [
    {
     "name": "stdout",
     "output_type": "stream",
     "text": [
      "Original array: \n",
      " [0.         0.06346652 0.12693304 0.19039955 0.25386607 0.31733259\n",
      " 0.38079911 0.44426563 0.50773215 0.57119866 0.63466518 0.6981317\n",
      " 0.76159822 0.82506474 0.88853126 0.95199777 1.01546429 1.07893081\n",
      " 1.14239733 1.20586385 1.26933037 1.33279688 1.3962634  1.45972992\n",
      " 1.52319644 1.58666296 1.65012947 1.71359599 1.77706251 1.84052903\n",
      " 1.90399555 1.96746207 2.03092858 2.0943951  2.15786162 2.22132814\n",
      " 2.28479466 2.34826118 2.41172769 2.47519421 2.53866073 2.60212725\n",
      " 2.66559377 2.72906028 2.7925268  2.85599332 2.91945984 2.98292636\n",
      " 3.04639288 3.10985939 3.17332591 3.23679243 3.30025895 3.36372547\n",
      " 3.42719199 3.4906585  3.55412502 3.61759154 3.68105806 3.74452458\n",
      " 3.8079911  3.87145761 3.93492413 3.99839065 4.06185717 4.12532369\n",
      " 4.1887902  4.25225672 4.31572324 4.37918976 4.44265628 4.5061228\n",
      " 4.56958931 4.63305583 4.69652235 4.75998887 4.82345539 4.88692191\n",
      " 4.95038842 5.01385494 5.07732146 5.14078798 5.2042545  5.26772102\n",
      " 5.33118753 5.39465405 5.45812057 5.52158709 5.58505361 5.64852012\n",
      " 5.71198664 5.77545316 5.83891968 5.9023862  5.96585272 6.02931923\n",
      " 6.09278575 6.15625227 6.21971879 6.28318531] \n",
      "\n",
      "Extracting every 10 element: \n",
      " [0.         0.63466518 1.26933037 1.90399555 2.53866073 3.17332591\n",
      " 3.8079911  4.44265628 5.07732146 5.71198664] \n",
      "\n",
      "Reversing the sequence: \n",
      " [6.28318531 6.21971879 6.15625227 6.09278575 6.02931923 5.96585272\n",
      " 5.9023862  5.83891968 5.77545316 5.71198664 5.64852012 5.58505361\n",
      " 5.52158709 5.45812057 5.39465405 5.33118753 5.26772102 5.2042545\n",
      " 5.14078798 5.07732146 5.01385494 4.95038842 4.88692191 4.82345539\n",
      " 4.75998887 4.69652235 4.63305583 4.56958931 4.5061228  4.44265628\n",
      " 4.37918976 4.31572324 4.25225672 4.1887902  4.12532369 4.06185717\n",
      " 3.99839065 3.93492413 3.87145761 3.8079911  3.74452458 3.68105806\n",
      " 3.61759154 3.55412502 3.4906585  3.42719199 3.36372547 3.30025895\n",
      " 3.23679243 3.17332591 3.10985939 3.04639288 2.98292636 2.91945984\n",
      " 2.85599332 2.7925268  2.72906028 2.66559377 2.60212725 2.53866073\n",
      " 2.47519421 2.41172769 2.34826118 2.28479466 2.22132814 2.15786162\n",
      " 2.0943951  2.03092858 1.96746207 1.90399555 1.84052903 1.77706251\n",
      " 1.71359599 1.65012947 1.58666296 1.52319644 1.45972992 1.3962634\n",
      " 1.33279688 1.26933037 1.20586385 1.14239733 1.07893081 1.01546429\n",
      " 0.95199777 0.88853126 0.82506474 0.76159822 0.6981317  0.63466518\n",
      " 0.57119866 0.50773215 0.44426563 0.38079911 0.31733259 0.25386607\n",
      " 0.19039955 0.12693304 0.06346652 0.        ] \n",
      "\n",
      "Extracting only elements where |sin(i)-cos(i)|<0.1: \n",
      " [0.76159822 0.82506474 3.87145761 3.93492413] \n",
      "\n"
     ]
    },
    {
     "data": {
      "text/plain": [
       "[<matplotlib.lines.Line2D at 0x25f065587c0>]"
      ]
     },
     "execution_count": 4,
     "metadata": {},
     "output_type": "execute_result"
    },
    {
     "data": {
      "image/png": "[encoded data removed]",
      "text/plain": [
       "<Figure size 432x288 with 1 Axes>"
      ]
     },
     "metadata": {
      "needs_background": "light"
     },
     "output_type": "display_data"
    }
   ],
   "source": [
    "from math import pi\n",
    " \n",
    "#Array of 100 elements \n",
    "orig = np.linspace(0, 2*pi, 100)\n",
    "print(\"Original array:\",'\\n', orig,'\\n')\n",
    "\n",
    "#Extract every 10\n",
    "every10 = orig[::10]\n",
    "print(\"Extracting every 10 element:\",'\\n', every10,'\\n')\n",
    "\n",
    "#Reverse\n",
    "rev = orig[::-1]\n",
    "print(\"Reversing the sequence:\",'\\n', rev,'\\n')\n",
    "\n",
    "#Extract only when sin-cos<0.1\n",
    "mask =  (abs(np.sin(orig)-np.cos(orig))<0.1)\n",
    "filt = orig[mask]\n",
    "print(\"Extracting only elements where |sin(i)-cos(i)|<0.1:\",'\\n', filt,'\\n')\n",
    "\n",
    "import matplotlib.pyplot as plt\n",
    "x = orig\n",
    "y1 = np.sin(x) \n",
    "y2 = np.cos(x)\n",
    "plt.plot(x, y1)\n",
    "plt.plot(x, y2)\n",
    "\n",
    "cl = filt\n",
    "plt.plot(filt, np.sin(cl), color='r', marker='o', fillstyle='none', linestyle='None', markersize=8)\n",
    "plt.plot(filt, np.cos(cl), color='b', marker='o', fillstyle='none', linestyle='None', markersize=8)"
   ]
  },
  {
   "cell_type": "markdown",
   "metadata": {},
   "source": [
    "5\\. Create a matrix that shows the 10 by 10 multiplication table.\n",
    "\n",
    " * Find the trace of the matrix\n",
    " * Extract the anto-diagonal (this should be ```array([10, 18, 24, 28, 30, 30, 28, 24, 18, 10])```)\n",
    " * Extract the diagnoal offset by 1 upwards (this should be ```array([ 2,  6, 12, 20, 30, 42, 56, 72, 90])```)"
   ]
  },
  {
   "cell_type": "code",
   "execution_count": 5,
   "metadata": {},
   "outputs": [
    {
     "name": "stdout",
     "output_type": "stream",
     "text": [
      "10x10 multiplication table: \n",
      " [[  1.   2.   3.   4.   5.   6.   7.   8.   9.  10.]\n",
      " [  2.   4.   6.   8.  10.  12.  14.  16.  18.  20.]\n",
      " [  3.   6.   9.  12.  15.  18.  21.  24.  27.  30.]\n",
      " [  4.   8.  12.  16.  20.  24.  28.  32.  36.  40.]\n",
      " [  5.  10.  15.  20.  25.  30.  35.  40.  45.  50.]\n",
      " [  6.  12.  18.  24.  30.  36.  42.  48.  54.  60.]\n",
      " [  7.  14.  21.  28.  35.  42.  49.  56.  63.  70.]\n",
      " [  8.  16.  24.  32.  40.  48.  56.  64.  72.  80.]\n",
      " [  9.  18.  27.  36.  45.  54.  63.  72.  81.  90.]\n",
      " [ 10.  20.  30.  40.  50.  60.  70.  80.  90. 100.]] \n",
      "\n",
      "Trace of matrix: 385.0 \n",
      "\n",
      "Anti-diagonal of matrix: \n",
      " [10. 18. 24. 28. 30. 30. 28. 24. 18. 10.] \n",
      "\n",
      "Diagonal with 1 up offset \n",
      " [ 2.  6. 12. 20. 30. 42. 56. 72. 90.] \n",
      "\n"
     ]
    }
   ],
   "source": [
    "m = np.fromfunction(lambda i,j: ((i+1)*(j+1)), (10,10) )\n",
    "print (\"10x10 multiplication table:\",'\\n', m,'\\n')\n",
    "\n",
    "tr = np.trace(m)\n",
    "print (\"Trace of matrix:\", tr,'\\n')\n",
    "\n",
    "antid = np.diag(np.fliplr(m))\n",
    "print(\"Anti-diagonal of matrix:\",'\\n', antid,'\\n')\n",
    "\n",
    "offsd = np.diag(m,1)\n",
    "print(\"Diagonal with 1 up offset\",'\\n', offsd,'\\n')"
   ]
  },
  {
   "cell_type": "markdown",
   "metadata": {},
   "source": [
    "6\\. Use broadcasting to create a grid of distances\n",
    "\n",
    "Route 66 crosses the following cities in the US: Chicago, Springfield, Saint-Louis, Tulsa, Oklahoma City, Amarillo, Santa Fe, Albuquerque, Flagstaff, Los Angeles.\n",
    "\n",
    "The corresponding positions in miles are: 0, 198, 303, 736, 871, 1175, 1475, 1544, 1913, 2448\n",
    "\n",
    "  * Construct a 2D grid of distances among each city along Route 66\n",
    "  * Convert that in km (those savages...)"
   ]
  },
  {
   "cell_type": "code",
   "execution_count": 6,
   "metadata": {},
   "outputs": [
    {
     "name": "stdout",
     "output_type": "stream",
     "text": [
      "Route 66 cities distances grid in miles: \n",
      " [[    0   198   303   736   871  1175  1475  1544  1913  2448]\n",
      " [ -198     0   105   538   673   977  1277  1346  1715  2250]\n",
      " [ -303  -105     0   433   568   872  1172  1241  1610  2145]\n",
      " [ -736  -538  -433     0   135   439   739   808  1177  1712]\n",
      " [ -871  -673  -568  -135     0   304   604   673  1042  1577]\n",
      " [-1175  -977  -872  -439  -304     0   300   369   738  1273]\n",
      " [-1475 -1277 -1172  -739  -604  -300     0    69   438   973]\n",
      " [-1544 -1346 -1241  -808  -673  -369   -69     0   369   904]\n",
      " [-1913 -1715 -1610 -1177 -1042  -738  -438  -369     0   535]\n",
      " [-2448 -2250 -2145 -1712 -1577 -1273  -973  -904  -535     0]] \n",
      "\n",
      "Route 66 cities distances grid in km: \n",
      " [[    0.        318.64932   487.63002  1184.47424  1401.73514  1890.9745\n",
      "   2373.7765   2484.82096  3078.66742  3939.66432]\n",
      " [ -318.64932     0.        168.9807    865.82492  1083.08582  1572.32518\n",
      "   2055.12718  2166.17164  2760.0181   3621.015  ]\n",
      " [ -487.63002  -168.9807      0.        696.84422   914.10512  1403.34448\n",
      "   1886.14648  1997.19094  2591.0374   3452.0343 ]\n",
      " [-1184.47424  -865.82492  -696.84422     0.        217.2609    706.50026\n",
      "   1189.30226  1300.34672  1894.19318  2755.19008]\n",
      " [-1401.73514 -1083.08582  -914.10512  -217.2609      0.        489.23936\n",
      "    972.04136  1083.08582  1676.93228  2537.92918]\n",
      " [-1890.9745  -1572.32518 -1403.34448  -706.50026  -489.23936     0.\n",
      "    482.802     593.84646  1187.69292  2048.68982]\n",
      " [-2373.7765  -2055.12718 -1886.14648 -1189.30226  -972.04136  -482.802\n",
      "      0.        111.04446   704.89092  1565.88782]\n",
      " [-2484.82096 -2166.17164 -1997.19094 -1300.34672 -1083.08582  -593.84646\n",
      "   -111.04446     0.        593.84646  1454.84336]\n",
      " [-3078.66742 -2760.0181  -2591.0374  -1894.19318 -1676.93228 -1187.69292\n",
      "   -704.89092  -593.84646     0.        860.9969 ]\n",
      " [-3939.66432 -3621.015   -3452.0343  -2755.19008 -2537.92918 -2048.68982\n",
      "  -1565.88782 -1454.84336  -860.9969      0.     ]] \n",
      "\n"
     ]
    }
   ],
   "source": [
    "cities = np.array(['Chicago','Springfield','Saint-Louis','Tulsa','Oklahoma City','Amarillo','Santa Fe','Albuquerque','Flagstaff','Los Angeles'])\n",
    "miles = np.array([0, 198, 303, 736, 871, 1175, 1475, 1544, 1913, 2448])\n",
    "\n",
    "R66dist = np.array([[miles[i]-miles[j] for i in range(len(miles))] for j in range(len(miles))])\n",
    "print(\"Route 66 cities distances grid in miles:\",'\\n',R66dist,'\\n')\n",
    "\n",
    "km = R66dist*1.60934\n",
    "print(\"Route 66 cities distances grid in km:\",'\\n',km,'\\n')"
   ]
  },
  {
   "cell_type": "markdown",
   "metadata": {},
   "source": [
    "7\\. Prime numbers sieve: compute the prime numbers in the 0-N (N=99 to start with) range with a sieve (mask).\n",
    "  * Constract a shape (100) boolean array, the mask\n",
    "  * Identify the multiples of each number starting from 2 and set accordingly the corresponding mask element\n",
    "  * Apply the mask to obtain an array of ordered prime numbers\n",
    "  * Check the performances (timeit); how does it scale with N?\n",
    "  * Implement the optimization suggested in the [sieve of Eratosthenes](https://en.wikipedia.org/wiki/Sieve_of_Eratosthenes)"
   ]
  },
  {
   "cell_type": "code",
   "execution_count": 7,
   "metadata": {},
   "outputs": [
    {
     "name": "stdout",
     "output_type": "stream",
     "text": [
      "Prime numbers smaller than 100: \n",
      " [ 2  3  5  7 11 13 17 19 23 29 31 37 41 43 47 53 59 61 67 71 73 79 83 89\n",
      " 97]\n",
      "Time to perform the sieve for the first 100 numbers:\n",
      "36.9 µs ± 1.85 µs per loop (mean ± std. dev. of 7 runs, 10000 loops each)\n",
      "\n",
      " Time to perform the sieve for the first 200 numbers:\n",
      "67.9 µs ± 3.63 µs per loop (mean ± std. dev. of 7 runs, 10000 loops each)\n",
      "\n",
      " Time to perform the sieve for the first 400 numbers:\n",
      "132 µs ± 4.79 µs per loop (mean ± std. dev. of 7 runs, 10000 loops each)\n",
      "\n",
      " Time to perform the sieve for the first 800 numbers:\n",
      "252 µs ± 16.3 µs per loop (mean ± std. dev. of 7 runs, 1000 loops each)\n",
      "\n",
      " Time to perform the sieve for the first 1600 numbers:\n",
      "486 µs ± 23.4 µs per loop (mean ± std. dev. of 7 runs, 1000 loops each)\n",
      "\n",
      " Time to perform the sieve for the first 3200 numbers:\n",
      "953 µs ± 37.2 µs per loop (mean ± std. dev. of 7 runs, 1000 loops each)\n",
      "\n",
      " Time to perform the sieve for the first 6400 numbers:\n",
      "2.09 ms ± 130 µs per loop (mean ± std. dev. of 7 runs, 100 loops each)\n",
      "\n",
      " Time to perform the sieve for the first 12800 numbers:\n",
      "4.04 ms ± 68.5 µs per loop (mean ± std. dev. of 7 runs, 100 loops each)\n"
     ]
    }
   ],
   "source": [
    "def PrimeNumberSieve(n):  \n",
    "    allnum = np.arange(n+1)\n",
    "    mask = np.array([True for i in range(n + 1)])\n",
    "    p = 2\n",
    "    while (p*p <= n):  \n",
    "        if (mask[p] == True): \n",
    "            for i in range(p * 2, n + 1, p): \n",
    "                mask[i] = False\n",
    "        p += 1\n",
    "    mask[0]= False\n",
    "    mask[1]= False\n",
    "    \n",
    "    prime = allnum[mask]\n",
    "    return(prime)\n",
    "  \n",
    "print(\"Prime numbers smaller than 100:\", '\\n', PrimeNumberSieve(100))\n",
    "print(\"Time to perform the sieve for the first 100 numbers:\")\n",
    "%timeit PrimeNumberSieve(100)\n",
    "\n",
    "print('\\n', \"Time to perform the sieve for the first 200 numbers:\")\n",
    "%timeit PrimeNumberSieve(200)\n",
    "print('\\n',\"Time to perform the sieve for the first 400 numbers:\")\n",
    "%timeit PrimeNumberSieve(400)\n",
    "print('\\n',\"Time to perform the sieve for the first 800 numbers:\")\n",
    "%timeit PrimeNumberSieve(800)\n",
    "print('\\n',\"Time to perform the sieve for the first 1600 numbers:\")\n",
    "%timeit PrimeNumberSieve(1600)\n",
    "print('\\n',\"Time to perform the sieve for the first 3200 numbers:\")\n",
    "%timeit PrimeNumberSieve(3200)\n",
    "print('\\n',\"Time to perform the sieve for the first 6400 numbers:\")\n",
    "%timeit PrimeNumberSieve(6400)\n",
    "print('\\n',\"Time to perform the sieve for the first 12800 numbers:\")\n",
    "%timeit PrimeNumberSieve(12800)"
   ]
  },
  {
   "cell_type": "markdown",
   "metadata": {},
   "source": [
    "We can see that doubling the upper limit for the implementation of the algorithmn also doubles the computation time (which scales linearly with N)"
   ]
  },
  {
   "cell_type": "markdown",
   "metadata": {},
   "source": [
    "8\\. Diffusion using random walk\n",
    "\n",
    "Consider a simple random walk process: at each step in time, a walker jumps right or left (+1 or -1) with equal probability. The goal is to find the typical distance from the origin of a random walker after a given amount of time. \n",
    "To do that, let's simulate many walkers and create a 2D array with each walker as a raw and the actual time evolution as columns\n",
    "\n",
    "  * Take 1000 walkers and let them walk for 200 steps\n",
    "  * Use randint to create a 2D array of size walkers x steps with values -1 or 1\n",
    "  * Build the actual walking distances for each walker (i.e. another 2D array \"summing on each row\")\n",
    "  * Take the square of that 2D array (elementwise)\n",
    "  * Compute the mean of the squared distances at each step (i.e. the mean along the columns)\n",
    "  * Plot the average distances (sqrt(distance\\*\\*2)) as a function of time (step)\n",
    "  \n",
    "Did you get what you expected?"
   ]
  },
  {
   "cell_type": "code",
   "execution_count": 16,
   "metadata": {},
   "outputs": [
    {
     "name": "stdout",
     "output_type": "stream",
     "text": [
      "The mean distance travelled in 200 steps is:  14.24710496908056\n"
     ]
    },
    {
     "data": {
      "text/plain": [
       "[<matplotlib.lines.Line2D at 0x216ad317c10>]"
      ]
     },
     "execution_count": 16,
     "metadata": {},
     "output_type": "execute_result"
    },
    {
     "data": {
      "image/png": "[encoded data removed]",
      "text/plain": [
       "<Figure size 432x288 with 1 Axes>"
      ]
     },
     "metadata": {
      "needs_background": "light"
     },
     "output_type": "display_data"
    }
   ],
   "source": [
    "from math import sqrt\n",
    "\n",
    "walkevol = np.array([np.random.randint(2, size=200) for w in range(1000)]) #2D array extracting 0 or 1 randomly\n",
    "walkevol[walkevol == 0] = -1 #2D array of walkers\n",
    "\n",
    "walkdist = np.sum(walkevol, axis = 1) #array of distances walked by each walker\n",
    "sqdist = np.square(walkdist) #squared distances\n",
    "msd = np.mean(sqdist, axis = 0)\n",
    "print(\"The mean distance travelled in 200 steps is: \", sqrt(msd)) #mean squared distance travelled by walkers\n",
    "\n",
    "#plot average distances at each step\n",
    "wd2 = np.cumsum(walkevol, axis = 1) #array of distances updated at each step\n",
    "sqd2 = np.square(wd2) #squared distances\n",
    "stepavg = np.sqrt(np.mean(sqd2, axis = 0))\n",
    "\n",
    "stepnum = np.arange(0, 200)\n",
    "plt.plot(stepnum, stepavg)"
   ]
  },
  {
   "cell_type": "markdown",
   "metadata": {},
   "source": [
    "The trend of the simulated data reflects the fact that, as expected, the distance travelled in a random walk increases as the square root of the numer of steps."
   ]
  },
  {
   "cell_type": "markdown",
   "metadata": {},
   "source": [
    "9\\. Analyze a data file \n",
    "  * Download the population of hares, lynxes and carrots at the beginning of the last century.\n",
    "    ```python\n",
    "    ! wget https://www.dropbox.com/s/3vigxoqayo389uc/populations.txt\n",
    "    ```\n",
    "\n",
    "  * Check the content by looking within the file\n",
    "  * Load the data (use an appropriate numpy method) into a 2D array\n",
    "  * Create arrays out of the columns, the arrays being (in order): *year*, *hares*, *lynxes*, *carrots* \n",
    "  * Plot the 3 populations over the years\n",
    "  * Compute the main statistical properties of the dataset (mean, std, correlations, etc.)\n",
    "  * Which species has the highest population each year?\n",
    "\n",
    "Do you feel there is some evident correlation here? [Studies](https://www.enr.gov.nt.ca/en/services/lynx/lynx-snowshoe-hare-cycle) tend to believe so."
   ]
  },
  {
   "cell_type": "code",
   "execution_count": 28,
   "metadata": {},
   "outputs": [
    {
     "name": "stdout",
     "output_type": "stream",
     "text": [
      " Year | Hares | Lynxes | Carrots \n",
      " [[ 1900. 30000.  4000. 48300.]\n",
      " [ 1901. 47200.  6100. 48200.]\n",
      " [ 1902. 70200.  9800. 41500.]\n",
      " [ 1903. 77400. 35200. 38200.]\n",
      " [ 1904. 36300. 59400. 40600.]\n",
      " [ 1905. 20600. 41700. 39800.]\n",
      " [ 1906. 18100. 19000. 38600.]\n",
      " [ 1907. 21400. 13000. 42300.]\n",
      " [ 1908. 22000.  8300. 44500.]\n",
      " [ 1909. 25400.  9100. 42100.]\n",
      " [ 1910. 27100.  7400. 46000.]\n",
      " [ 1911. 40300.  8000. 46800.]\n",
      " [ 1912. 57000. 12300. 43800.]\n",
      " [ 1913. 76600. 19500. 40900.]\n",
      " [ 1914. 52300. 45700. 39400.]\n",
      " [ 1915. 19500. 51100. 39000.]\n",
      " [ 1916. 11200. 29700. 36700.]\n",
      " [ 1917.  7600. 15800. 41800.]\n",
      " [ 1918. 14600.  9700. 43300.]\n",
      " [ 1919. 16200. 10100. 41300.]\n",
      " [ 1920. 24700.  8600. 47300.]]\n",
      "\n",
      " Hares: \n",
      "\n",
      "Mean population:  34080.95238095238\n",
      "Standard deviation:  20897.906458089667\n",
      "Correlation with years: [1.3659528e+09]\n",
      "Correlation with lynxes: [1.494612e+10]\n",
      "Correlation with carrots: [3.032147e+10]\n",
      "\n",
      " Lynxes: \n",
      "\n",
      "Mean population:  20166.666666666668\n",
      "Standard deviation:  16254.591536908763\n",
      "Correlation with years: [8.088324e+08]\n",
      "Correlation with hares: [1.494612e+10]\n",
      "Correlation with carrots: [1.718454e+10]\n",
      "\n",
      " Carrots: \n",
      "\n",
      "Mean population:  42400.0\n",
      "Standard deviation:  3322.5062255844787\n",
      "Correlation with years: [1.7006064e+09]\n",
      "Correlation with hares: [3.032147e+10]\n",
      "Correlation with lynxes: [1.718454e+10] \n",
      "\n",
      "In 1900 the maximum popolation was that of carrots\n",
      "In 1901 the maximum popolation was that of carrots\n",
      "In 1902 the maximum popolation was that of hares\n",
      "In 1903 the maximum popolation was that of hares\n",
      "In 1904 the maximum popolation was that of lynxes\n",
      "In 1905 the maximum popolation was that of lynxes\n",
      "In 1906 the maximum popolation was that of carrots\n",
      "In 1907 the maximum popolation was that of carrots\n",
      "In 1908 the maximum popolation was that of carrots\n",
      "In 1909 the maximum popolation was that of carrots\n",
      "In 1910 the maximum popolation was that of carrots\n",
      "In 1911 the maximum popolation was that of carrots\n",
      "In 1912 the maximum popolation was that of hares\n",
      "In 1913 the maximum popolation was that of hares\n",
      "In 1914 the maximum popolation was that of hares\n",
      "In 1915 the maximum popolation was that of lynxes\n",
      "In 1916 the maximum popolation was that of carrots\n",
      "In 1917 the maximum popolation was that of carrots\n",
      "In 1918 the maximum popolation was that of carrots\n",
      "In 1919 the maximum popolation was that of carrots\n"
     ]
    },
    {
     "data": {
      "image/png": "[encoded data removed]",
      "text/plain": [
       "<Figure size 432x288 with 1 Axes>"
      ]
     },
     "metadata": {
      "needs_background": "light"
     },
     "output_type": "display_data"
    }
   ],
   "source": [
    "#Load the data into a 2D array\n",
    "file = np.loadtxt(\"populations.txt\")\n",
    "print(\" Year | Hares | Lynxes | Carrots \\n\",file)\n",
    "\n",
    "#Create arrays out of the columns\n",
    "year = np.array(file[:,0])\n",
    "hares = np.array(file[:,1])\n",
    "lynxes = np.array(file[:,2])\n",
    "carrots = np.array(file[:,3])\n",
    "\n",
    "#Plot the 3 populations over the years\n",
    "plt.plot(year, hares, 'b')\n",
    "plt.plot(year, lynxes, 'r')\n",
    "plt.plot(year, carrots, 'g')\n",
    "\n",
    "#Compute main statistical properties\n",
    "print(\"\\n Hares: \\n\")\n",
    "print(\"Mean population: \", np.mean(hares))\n",
    "print(\"Standard deviation: \", np.std(hares))\n",
    "print(\"Correlation with years:\", np.correlate(year, hares))\n",
    "print(\"Correlation with lynxes:\", np.correlate(lynxes, hares))\n",
    "print(\"Correlation with carrots:\", np.correlate(carrots, hares))\n",
    "\n",
    "print(\"\\n Lynxes: \\n\")\n",
    "print(\"Mean population: \", np.mean(lynxes))\n",
    "print(\"Standard deviation: \", np.std(lynxes))\n",
    "print(\"Correlation with years:\", np.correlate(year, lynxes))\n",
    "print(\"Correlation with hares:\", np.correlate(hares, lynxes))\n",
    "print(\"Correlation with carrots:\", np.correlate(carrots, lynxes))\n",
    "\n",
    "print(\"\\n Carrots: \\n\")\n",
    "print(\"Mean population: \", np.mean(carrots))\n",
    "print(\"Standard deviation: \", np.std(carrots))\n",
    "print(\"Correlation with years:\", np.correlate(year, carrots))\n",
    "print(\"Correlation with hares:\", np.correlate(hares, carrots))\n",
    "print(\"Correlation with lynxes:\", np.correlate(lynxes, carrots), '\\n')\n",
    "\n",
    "#Max population over the years\n",
    "pop = np.delete(file, 0, 1) #remove year column\n",
    "maxindex = np.argmax(pop, axis = 1)\n",
    "\n",
    "maxindex = maxindex.tolist()\n",
    "year = year.tolist()\n",
    "maxname = []\n",
    "i = 0 \n",
    "\n",
    "for i in range(20):\n",
    "    if maxindex[i] == 0:\n",
    "        maxname.append(\"hares\")\n",
    "    elif maxindex[i] == 1:\n",
    "        maxname.append(\"lynxes\")\n",
    "    else:\n",
    "        maxname.append(\"carrots\")\n",
    "    print(\"In\", int(year[i]), \"the maximum popolation was that of\", maxname[i])\n",
    "        \n",
    "\n"
   ]
  },
  {
   "cell_type": "markdown",
   "metadata": {},
   "source": [
    "We can see that the sequence of maximum population throughout the years is always carrots $\\rightarrow$ hares $\\rightarrow$ lynxes. This indicates that the increase of one population's source of food allows that population to grow as well, leading then to overpopulation of that species and a consequent decrease."
   ]
  },
  {
   "cell_type": "code",
   "execution_count": null,
   "metadata": {},
   "outputs": [],
   "source": []
  }
 ],
 "metadata": {
  "kernelspec": {
   "display_name": "Python 3",
   "language": "python",
   "name": "python3"
  },
  "language_info": {
   "codemirror_mode": {
    "name": "ipython",
    "version": 3
   },
   "file_extension": ".py",
   "mimetype": "text/x-python",
   "name": "python",
   "nbconvert_exporter": "python",
   "pygments_lexer": "ipython3",
   "version": "3.8.3"
  }
 },
 "nbformat": 4,
 "nbformat_minor": 2
}
