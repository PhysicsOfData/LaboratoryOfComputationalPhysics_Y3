{
 "cells": [
  {
   "cell_type": "markdown",
   "metadata": {},
   "source": [
    "### Numpy basics"
   ]
  },
  {
   "cell_type": "markdown",
   "metadata": {},
   "source": [
    "1\\. Find the row, column and overall means for the following matrix:\n",
    "\n",
    "```python\n",
    "m = np.arange(12).reshape((3,4))\n",
    "```"
   ]
  },
  {
   "cell_type": "code",
   "execution_count": 4,
   "metadata": {},
   "outputs": [
    {
     "name": "stdout",
     "output_type": "stream",
     "text": [
      "[[ 0  1  2  3]\n",
      " [ 4  5  6  7]\n",
      " [ 8  9 10 11]]\n",
      "The mean along rows is: [4. 5. 6. 7.]\n",
      "The mean along columns is: [1.5 5.5 9.5]\n",
      "The overall mean is: 5.5\n"
     ]
    }
   ],
   "source": [
    "import numpy as np\n",
    "m = np.arange(12).reshape((3,4))\n",
    "print(m)\n",
    "print(f\"The mean along rows is: {m.mean(axis=0)}\")\n",
    "print(f\"The mean along columns is: {m.mean(axis=1)}\")\n",
    "print(f\"The overall mean is: {m.mean()}\")"
   ]
  },
  {
   "cell_type": "markdown",
   "metadata": {},
   "source": [
    "2\\. Find the outer product of the following two vecotrs\n",
    "\n",
    "```python\n",
    "u = np.array([1,3,5,7])\n",
    "v = np.array([2,4,6,8])\n",
    "```\n",
    "\n",
    "Do this in the following ways:\n",
    "\n",
    "   * Using the function outer in numpy\n",
    "   * Using a nested for loop or list comprehension\n",
    "   * Using numpy broadcasting operatoins\n"
   ]
  },
  {
   "cell_type": "code",
   "execution_count": 151,
   "metadata": {},
   "outputs": [
    {
     "name": "stdout",
     "output_type": "stream",
     "text": [
      "First method:\n",
      "[[ 2  4  6  8]\n",
      " [ 6 12 18 24]\n",
      " [10 20 30 40]\n",
      " [14 28 42 56]]\n",
      "Second method:\n",
      "[[ 2  4  6  8]\n",
      " [ 6 12 18 24]\n",
      " [10 20 30 40]\n",
      " [14 28 42 56]]\n",
      "Third method:\n",
      "[[ 2  4  6  8]\n",
      " [ 6 12 18 24]\n",
      " [10 20 30 40]\n",
      " [14 28 42 56]]\n"
     ]
    }
   ],
   "source": [
    "import numpy as np\n",
    "u = np.array([1,3,5,7])\n",
    "v = np.array([2,4,6,8])\n",
    "o1 = np.outer(u,v)\n",
    "o2 = np.array([u[i]*v[j] for i in range(u.size) for j in range(v.size)]).reshape(4,4)\n",
    "o3 = np.tile(u,(v.size,1)).T * np.tile(v,(u.size,1))\n",
    "print(\"First method:\")\n",
    "print(o1)\n",
    "print(\"Second method:\")\n",
    "print(o2)\n",
    "print(\"Third method:\")\n",
    "print(o3)\n",
    "assert(np.array_equal(o1,o2) and np.array_equal(o2,o3))"
   ]
  },
  {
   "cell_type": "markdown",
   "metadata": {},
   "source": [
    "3\\. Create a 10 by 6 matrix of random uniform numbers. Set all rows with any entry less than 0.1 to be zero\n",
    "\n",
    "Hint: Use the following numpy functions - np.random.random, np.any as well as Boolean indexing and the axis argument."
   ]
  },
  {
   "cell_type": "code",
   "execution_count": 148,
   "metadata": {},
   "outputs": [
    {
     "name": "stdout",
     "output_type": "stream",
     "text": [
      "[[0.87584341 0.74450708 0.59818155 0.62512804 0.37052146 0.90059948]\n",
      " [0.05240334 0.51075239 0.47066237 0.84445565 0.79482514 0.22636148]\n",
      " [0.13893431 0.91423601 0.62210973 0.68618801 0.71630071 0.17232523]\n",
      " [0.95185223 0.13634878 0.20519844 0.97629133 0.96162284 0.03592272]\n",
      " [0.80419272 0.88669642 0.997248   0.08145354 0.27958211 0.65948555]\n",
      " [0.47027102 0.74727581 0.17203948 0.35551347 0.74105132 0.99190752]\n",
      " [0.73520133 0.02774624 0.25604889 0.44461792 0.72897021 0.37151251]\n",
      " [0.00439163 0.68389839 0.50306926 0.29776695 0.127631   0.38425251]\n",
      " [0.07194359 0.39942553 0.36797444 0.51284572 0.53205358 0.76540138]\n",
      " [0.90115519 0.25562305 0.73967359 0.71963604 0.90175458 0.97347691]]\n",
      "After operation:\n",
      "[[0.87584341 0.74450708 0.59818155 0.62512804 0.37052146 0.90059948]\n",
      " [0.         0.         0.         0.         0.         0.        ]\n",
      " [0.13893431 0.91423601 0.62210973 0.68618801 0.71630071 0.17232523]\n",
      " [0.         0.         0.         0.         0.         0.        ]\n",
      " [0.         0.         0.         0.         0.         0.        ]\n",
      " [0.47027102 0.74727581 0.17203948 0.35551347 0.74105132 0.99190752]\n",
      " [0.         0.         0.         0.         0.         0.        ]\n",
      " [0.         0.         0.         0.         0.         0.        ]\n",
      " [0.         0.         0.         0.         0.         0.        ]\n",
      " [0.90115519 0.25562305 0.73967359 0.71963604 0.90175458 0.97347691]]\n"
     ]
    }
   ],
   "source": [
    "import numpy.random as npr\n",
    "M = npr.random((10,6))\n",
    "print(M)\n",
    "print(\"After operation:\")\n",
    "filt = np.any(M<0.1, axis=1)\n",
    "M[filt,:] = 0\n",
    "print(M)"
   ]
  },
  {
   "cell_type": "markdown",
   "metadata": {},
   "source": [
    "4\\. Use np.linspace to create an array of 100 numbers between 0 and 2π (includsive).\n",
    "\n",
    "  * Extract every 10th element using slice notation\n",
    "  * Reverse the array using slice notation\n",
    "  * Extract elements where the absolute difference between the sine and cosine functions evaluated at that element is less than 0.1\n",
    "<!--   * Make a plot showing the sin and cos functions and indicate where they are close -->"
   ]
  },
  {
   "cell_type": "code",
   "execution_count": 45,
   "metadata": {},
   "outputs": [
    {
     "name": "stdout",
     "output_type": "stream",
     "text": [
      "Array: [0.         0.06346652 0.12693304 0.19039955 0.25386607 0.31733259\n",
      " 0.38079911 0.44426563 0.50773215 0.57119866 0.63466518 0.6981317\n",
      " 0.76159822 0.82506474 0.88853126 0.95199777 1.01546429 1.07893081\n",
      " 1.14239733 1.20586385 1.26933037 1.33279688 1.3962634  1.45972992\n",
      " 1.52319644 1.58666296 1.65012947 1.71359599 1.77706251 1.84052903\n",
      " 1.90399555 1.96746207 2.03092858 2.0943951  2.15786162 2.22132814\n",
      " 2.28479466 2.34826118 2.41172769 2.47519421 2.53866073 2.60212725\n",
      " 2.66559377 2.72906028 2.7925268  2.85599332 2.91945984 2.98292636\n",
      " 3.04639288 3.10985939 3.17332591 3.23679243 3.30025895 3.36372547\n",
      " 3.42719199 3.4906585  3.55412502 3.61759154 3.68105806 3.74452458\n",
      " 3.8079911  3.87145761 3.93492413 3.99839065 4.06185717 4.12532369\n",
      " 4.1887902  4.25225672 4.31572324 4.37918976 4.44265628 4.5061228\n",
      " 4.56958931 4.63305583 4.69652235 4.75998887 4.82345539 4.88692191\n",
      " 4.95038842 5.01385494 5.07732146 5.14078798 5.2042545  5.26772102\n",
      " 5.33118753 5.39465405 5.45812057 5.52158709 5.58505361 5.64852012\n",
      " 5.71198664 5.77545316 5.83891968 5.9023862  5.96585272 6.02931923\n",
      " 6.09278575 6.15625227 6.21971879 6.28318531]\n",
      "\n",
      "Reversed: [6.28318531 6.21971879 6.15625227 6.09278575 6.02931923 5.96585272\n",
      " 5.9023862  5.83891968 5.77545316 5.71198664 5.64852012 5.58505361\n",
      " 5.52158709 5.45812057 5.39465405 5.33118753 5.26772102 5.2042545\n",
      " 5.14078798 5.07732146 5.01385494 4.95038842 4.88692191 4.82345539\n",
      " 4.75998887 4.69652235 4.63305583 4.56958931 4.5061228  4.44265628\n",
      " 4.37918976 4.31572324 4.25225672 4.1887902  4.12532369 4.06185717\n",
      " 3.99839065 3.93492413 3.87145761 3.8079911  3.74452458 3.68105806\n",
      " 3.61759154 3.55412502 3.4906585  3.42719199 3.36372547 3.30025895\n",
      " 3.23679243 3.17332591 3.10985939 3.04639288 2.98292636 2.91945984\n",
      " 2.85599332 2.7925268  2.72906028 2.66559377 2.60212725 2.53866073\n",
      " 2.47519421 2.41172769 2.34826118 2.28479466 2.22132814 2.15786162\n",
      " 2.0943951  2.03092858 1.96746207 1.90399555 1.84052903 1.77706251\n",
      " 1.71359599 1.65012947 1.58666296 1.52319644 1.45972992 1.3962634\n",
      " 1.33279688 1.26933037 1.20586385 1.14239733 1.07893081 1.01546429\n",
      " 0.95199777 0.88853126 0.82506474 0.76159822 0.6981317  0.63466518\n",
      " 0.57119866 0.50773215 0.44426563 0.38079911 0.31733259 0.25386607\n",
      " 0.19039955 0.12693304 0.06346652 0.        ]\n",
      "\n",
      "Filtered: [0.76159822 0.82506474 3.87145761 3.93492413]\n",
      "We print filtering function applied to filtered array to verify:\n",
      "[0.03365503 0.0560823  0.07849545 0.01121928]\n"
     ]
    }
   ],
   "source": [
    "import numpy as np\n",
    "import math\n",
    "l = np.linspace(0, 2*math.pi, 100)\n",
    "print(\"Array:\", l)\n",
    "l_reversed = l[::-1]\n",
    "print(\"\\nReversed:\", l_reversed)\n",
    "l_filtered = l[np.abs(np.cos(l)-np.sin(l)) < 0.1]\n",
    "print(\"\\nFiltered:\", l_filtered)\n",
    "print(\"We print filtering function applied to filtered array to verify:\")\n",
    "print(np.abs(np.cos(l_filtered)-np.sin(l_filtered)))"
   ]
  },
  {
   "cell_type": "markdown",
   "metadata": {},
   "source": [
    "5\\. Create a matrix that shows the 10 by 10 multiplication table.\n",
    "\n",
    " * Find the trace of the matrix\n",
    " * Extract the anto-diagonal (this should be ```array([10, 18, 24, 28, 30, 30, 28, 24, 18, 10])```)\n",
    " * Extract the diagnoal offset by 1 upwards (this should be ```array([ 2,  6, 12, 20, 30, 42, 56, 72, 90])```)"
   ]
  },
  {
   "cell_type": "code",
   "execution_count": 58,
   "metadata": {},
   "outputs": [
    {
     "name": "stdout",
     "output_type": "stream",
     "text": [
      "Multiplication table:\n",
      "[[  1   2   3   4   5   6   7   8   9  10]\n",
      " [  2   4   6   8  10  12  14  16  18  20]\n",
      " [  3   6   9  12  15  18  21  24  27  30]\n",
      " [  4   8  12  16  20  24  28  32  36  40]\n",
      " [  5  10  15  20  25  30  35  40  45  50]\n",
      " [  6  12  18  24  30  36  42  48  54  60]\n",
      " [  7  14  21  28  35  42  49  56  63  70]\n",
      " [  8  16  24  32  40  48  56  64  72  80]\n",
      " [  9  18  27  36  45  54  63  72  81  90]\n",
      " [ 10  20  30  40  50  60  70  80  90 100]]\n",
      "Anti-diagonal:\n",
      "[10 18 24 28 30 30 28 24 18 10]\n",
      "Diagonal offset by 1:\n",
      "[ 2  6 12 20 30 42 56 72 90]\n"
     ]
    }
   ],
   "source": [
    "import numpy as np\n",
    "mult = np.outer(np.arange(1,11), np.arange(1,11))\n",
    "print(\"Multiplication table:\")\n",
    "print(mult)\n",
    "antidiag = np.fliplr(mult).diagonal()\n",
    "print(\"Anti-diagonal:\")\n",
    "print(antidiag)\n",
    "diag_shifted = mult.diagonal(offset=1)\n",
    "print(\"Diagonal offset by 1:\")\n",
    "print(diag_shifted)"
   ]
  },
  {
   "cell_type": "markdown",
   "metadata": {},
   "source": [
    "6\\. Use broadcasting to create a grid of distances\n",
    "\n",
    "Route 66 crosses the following cities in the US: Chicago, Springfield, Saint-Louis, Tulsa, Oklahoma City, Amarillo, Santa Fe, Albuquerque, Flagstaff, Los Angeles\n",
    "The corresponding positions in miles are: 0, 198, 303, 736, 871, 1175, 1475, 1544, 1913, 2448\n",
    "\n",
    "  * Construct a 2D grid of distances among each city along Route 66\n",
    "  * Convert that in km (those savages...)"
   ]
  },
  {
   "cell_type": "code",
   "execution_count": 13,
   "metadata": {},
   "outputs": [
    {
     "name": "stdout",
     "output_type": "stream",
     "text": [
      "[[   0  198  303  736  871 1175 1475 1544 1913 2448]\n",
      " [ 198    0  105  538  673  977 1277 1346 1715 2250]\n",
      " [ 303  105    0  433  568  872 1172 1241 1610 2145]\n",
      " [ 736  538  433    0  135  439  739  808 1177 1712]\n",
      " [ 871  673  568  135    0  304  604  673 1042 1577]\n",
      " [1175  977  872  439  304    0  300  369  738 1273]\n",
      " [1475 1277 1172  739  604  300    0   69  438  973]\n",
      " [1544 1346 1241  808  673  369   69    0  369  904]\n",
      " [1913 1715 1610 1177 1042  738  438  369    0  535]\n",
      " [2448 2250 2145 1712 1577 1273  973  904  535    0]]\n",
      "In km:\n",
      "[[   0  318  487 1184 1401 1890 2373 2484 3078 3939]\n",
      " [ 318    0  168  865 1083 1572 2055 2166 2760 3621]\n",
      " [ 487  168    0  696  914 1403 1886 1997 2591 3452]\n",
      " [1184  865  696    0  217  706 1189 1300 1894 2755]\n",
      " [1401 1083  914  217    0  489  972 1083 1676 2537]\n",
      " [1890 1572 1403  706  489    0  482  593 1187 2048]\n",
      " [2373 2055 1886 1189  972  482    0  111  704 1565]\n",
      " [2484 2166 1997 1300 1083  593  111    0  593 1454]\n",
      " [3078 2760 2591 1894 1676 1187  704  593    0  860]\n",
      " [3939 3621 3452 2755 2537 2048 1565 1454  860    0]]\n"
     ]
    }
   ],
   "source": [
    "import numpy as np\n",
    "d = np.array([0, 198, 303, 736, 871, 1175, 1475, 1544, 1913, 2448])\n",
    "M = np.abs(d.reshape((d.size,1)) - d)\n",
    "print(M)\n",
    "M_km = (M * 1.609344).astype(np.int)\n",
    "print(\"In km:\")\n",
    "print(M_km)"
   ]
  },
  {
   "cell_type": "markdown",
   "metadata": {},
   "source": [
    "7\\. Prime numbers sieve: compute the prime numbers in the 0-N (N=99 to start with) range with a sieve (mask).\n",
    "  * Constract a shape (100,) boolean array, the mask\n",
    "  * Identify the multiples of each number starting from 2 and set accordingly the corresponding mask element\n",
    "  * Apply the mask to obtain an array of ordered prime numbers\n",
    "  * Check the performances (timeit); how does it scale with N?\n",
    "  * Implement the optimization suggested in the [sieve of Eratosthenes](https://en.wikipedia.org/wiki/Sieve_of_Eratosthenes)"
   ]
  },
  {
   "cell_type": "code",
   "execution_count": 1,
   "metadata": {},
   "outputs": [
    {
     "name": "stdout",
     "output_type": "stream",
     "text": [
      "Numbers to analyze:\n",
      "[ 1  2  3  4  5  6  7  8  9 10 11 12 13 14 15 16 17 18 19 20 21 22 23 24\n",
      " 25 26 27 28 29 30 31 32 33 34 35 36 37 38 39 40 41 42 43 44 45 46 47 48\n",
      " 49 50 51 52 53 54 55 56 57 58 59 60 61 62 63 64 65 66 67 68 69 70 71 72\n",
      " 73 74 75 76 77 78 79 80 81 82 83 84 85 86 87 88 89 90 91 92 93 94 95 96\n",
      " 97 98 99]\n",
      "We needed 1.17e-04 seconds to calculate if first 99 values are primes.\n",
      "Mask:\n",
      "[False  True  True False  True False  True False False False  True False\n",
      "  True False False False  True False  True False False False  True False\n",
      " False False False False  True False  True False False False False False\n",
      "  True False False False  True False  True False False False  True False\n",
      " False False False False  True False False False False False  True False\n",
      "  True False False False False False  True False False False  True False\n",
      "  True False False False False False  True False False False  True False\n",
      " False False False False  True False False False False False False False\n",
      "  True False False]\n",
      "Ordered prime numbers:\n",
      "[ 2  3  5  7 11 13 17 19 23 29 31 37 41 43 47 53 59 61 67 71 73 79 83 89\n",
      " 97]\n",
      "Number of values chosen to test if prime and time needed to test them have a linear relation.First values (of N = #n values) don't act excactly linearly,this probably has to do with how Numpy's vectorization works.\n",
      "We now try with Sieve of Eratosthenes\n",
      "First 99 ordered prime numbers according to the sieve of Eratosthenes:\n",
      "[ True  True  True  True  True  True  True  True  True  True  True  True\n",
      "  True  True  True  True  True  True  True  True  True  True  True  True\n",
      "  True]\n",
      "That took 7.77e-05 seconds. That's a gain of 151.22265122324558% compared to previous algorithm.\n"
     ]
    },
    {
     "data": {
      "image/png": "[encoded data removed]",
      "text/plain": [
       "<Figure size 432x288 with 1 Axes>"
      ]
     },
     "metadata": {
      "needs_background": "light"
     },
     "output_type": "display_data"
    }
   ],
   "source": [
    "import time\n",
    "import timeit\n",
    "import numpy as np\n",
    "import matplotlib.pyplot as plt\n",
    "\n",
    "def extract_primes(N:int):\n",
    "    if type(N) != int:\n",
    "        print(f\"Error: {N} is not an integer\")\n",
    "        return\n",
    "    if N <= 1:\n",
    "        print(f\"Error: {N} must be greater than 1\")\n",
    "        return\n",
    "    numbers = np.arange(N)+1\n",
    "    mask = np.ones(numbers.shape, dtype=np.bool)\n",
    "    # We don't need to check division for all numbers, just until sqrt(N)\n",
    "    for i in range(2, int(numbers.size**0.5+0.5)):\n",
    "        # We avoid considering division by itself (ex: 3%3 = 0 but it's set on True in the mask\n",
    "        # because it's divided by itself)\n",
    "        mask_partial = np.logical_or(numbers % i != 0, numbers == i)\n",
    "        # We're setting to False all numbers divisible by i that are not equal to i\n",
    "        mask = np.logical_and(mask, mask_partial)\n",
    "        # We don't want \"1\" to be prime\n",
    "        # A more generalizable way is: mask = np.logical_and(mask, numbers != 1)\n",
    "        mask[0] = False\n",
    "    ordered_primes = numbers[mask]\n",
    "    return (mask, ordered_primes)\n",
    "\n",
    "N = 99\n",
    "numbers = np.arange(N)+1\n",
    "print(\"Numbers to analyze:\")\n",
    "print(numbers)\n",
    "tic = time.perf_counter()\n",
    "results = extract_primes(N)\n",
    "toc = time.perf_counter()\n",
    "time_N99_standard = toc-tic\n",
    "print(f\"We needed {time_N99_standard:.2e} seconds to calculate if first {N} values are primes.\")\n",
    "print(\"Mask:\")\n",
    "print(results[0])\n",
    "print(\"Ordered prime numbers:\")\n",
    "print(results[1])\n",
    "\n",
    "# Plotting part\n",
    "time_results = []\n",
    "N_min = 100\n",
    "N_max = 1E5\n",
    "# We'll spread X values exponentially, but still slowly\n",
    "base = 3\n",
    "X = tuple(N_min + int(base**i) for i in range( 1, int(np.log(N_max-N_min)/np.log(base)) ) )\n",
    "for i in X:\n",
    "    # timeit is inconvenient if we want to store timing\n",
    "    tic = time.perf_counter()\n",
    "    extract_primes(i)\n",
    "    toc = time.perf_counter()\n",
    "    time_results.append(toc-tic)\n",
    "%matplotlib inline\n",
    "plt.plot(X, time_results)\n",
    "print(\"Number of values chosen to test if prime and time needed to test them have a linear relation.\\\n",
    "First values (of N = #n values) don't act excactly linearly,\\\n",
    "this probably has to do with how Numpy's vectorization works.\")\n",
    "\n",
    "### Sieve of Eratosthenes\n",
    "print(\"We now try with Sieve of Eratosthenes\")\n",
    "\n",
    "def sieve_ER(n):\n",
    "    if type(n) != int:\n",
    "        print(f\"Error: {n} is not an integer\")\n",
    "        return\n",
    "    if N <= 1:\n",
    "        print(f\"Error: {n} must be greater than 1\")\n",
    "        return\n",
    "    # From Wikipedia, integers should be from 2 to n\n",
    "    # arrays must start from index 0, so we have to translate indices\n",
    "    A = np.ones(n-2, dtype=np.bool)\n",
    "    # i = 2, 3, 4, ..., not exceeding sqrt(n)\n",
    "    for i in range(2, int(n**0.5+0.5)):\n",
    "        if A[i-2] == True:\n",
    "            # j = i2, i2+i, i2+2i, i2+3i, ..., not exceeding n\n",
    "            for j in range(i**2, n, i):\n",
    "                A[j-2] = False\n",
    "    return A[A == True]\n",
    "\n",
    "tic = time.perf_counter()\n",
    "results_ER = sieve_ER(N)\n",
    "toc = time.perf_counter()\n",
    "time_N99_ER = toc-tic\n",
    "print(f\"First {N} ordered prime numbers according to the sieve of Eratosthenes:\")\n",
    "print(results_ER)\n",
    "print(f\"That took {time_N99_ER:.2e} seconds. That's a gain of \\\n",
    "{time_N99_standard/time_N99_ER*100}% compared to previous algorithm.\")"
   ]
  },
  {
   "cell_type": "markdown",
   "metadata": {},
   "source": [
    "8\\. Diffusion using random walk\n",
    "\n",
    "Consider a simple random walk process: at each step in time, a walker jumps right or left (+1 or -1) with equal probability. The goal is to find the typical distance from the origin of a random walker after a given amount of time. \n",
    "To do that, let's simulate many walkers and create a 2D array with each walker as a raw and the actual time evolution as columns\n",
    "\n",
    "  * Take 1000 walkers and let them walk for 200 steps\n",
    "  * Use randint to create a 2D array of size walkers x steps with values -1 or 1\n",
    "  * Build the actual walking distances for each walker (i.e. another 2D array \"summing on each raw\")\n",
    "  * Take the square of that 2D array (elementwise)\n",
    "  * Compute the mean of the squared distances at each step (i.e. the mean along the columns)\n",
    "  * Plot the average distances (sqrt(distance\\*\\*2)) as a function of time (step)\n",
    "  \n",
    "Did you get what you expected?"
   ]
  },
  {
   "cell_type": "code",
   "execution_count": 39,
   "metadata": {},
   "outputs": [
    {
     "name": "stdout",
     "output_type": "stream",
     "text": [
      "Walkers:\n",
      "[[-1  1  1 ... -1  1  1]\n",
      " [ 1 -1 -1 ... -1 -1  1]\n",
      " [ 1  1 -1 ... -1  1 -1]\n",
      " ...\n",
      " [ 1 -1  1 ... -1 -1  1]\n",
      " [-1  1  1 ...  1 -1  1]\n",
      " [-1 -1  1 ...  1 -1  1]]\n",
      "Actual walking distances:\n",
      "[[ -1   0   1 ...  -4  -3  -2]\n",
      " [  1   0  -1 ... -34 -35 -34]\n",
      " [  1   2   1 ...   6   7   6]\n",
      " ...\n",
      " [  1   0   1 ...   0  -1   0]\n",
      " [ -1   0   1 ...   8   7   8]\n",
      " [ -1  -2  -1 ...  16  15  16]]\n",
      "Mean along the columns:\n",
      "[  1.      2.004   3.      4.032   5.264   6.352   7.72    8.752   9.72\n",
      "  10.524  11.424  12.32   13.248  13.924  14.936  15.752  16.88   17.888\n",
      "  18.728  19.908  21.16   22.756  23.84   24.832  25.736  26.656  28.224\n",
      "  29.208  30.     31.24   32.36   32.568  33.128  34.412  35.312  35.912\n",
      "  36.36   36.424  37.848  39.536  39.904  41.408  42.168  43.136  43.712\n",
      "  44.296  45.368  46.092  46.736  47.376  48.392  49.244  49.712  50.328\n",
      "  51.256  50.816  51.616  52.168  52.968  53.88   54.848  55.552  56.488\n",
      "  57.78   59.04   59.364  60.184  60.236  62.16   63.336  63.952  65.732\n",
      "  67.016  68.212  69.632  70.368  72.048  72.82   73.728  74.116  75.232\n",
      "  75.116  76.088  76.984  77.864  77.672  78.816  80.568  81.536  83.448\n",
      "  84.76   84.388  85.4    85.876  86.736  87.34   87.288  88.072  88.928\n",
      "  89.64   91.664  92.752  93.744  95.48   96.344  97.22   99.008  99.34\n",
      " 100.888 101.556 102.296 102.332 104.776 105.468 105.568 106.488 107.04\n",
      " 108.064 109.104 110.224 110.984 112.944 114.456 114.804 115.184 116.22\n",
      " 117.136 118.26  118.504 119.172 119.896 121.568 121.992 122.844 124.288\n",
      " 124.924 126.504 126.708 128.256 129.58  129.488 130.892 130.92  130.232\n",
      " 130.432 131.904 133.184 133.452 134.112 135.736 136.88  136.764 137.776\n",
      " 139.52  140.704 141.932 142.592 143.684 145.6   147.056 147.16  148.388\n",
      " 150.28  151.908 152.744 153.34  153.48  155.204 156.424 155.96  158.184\n",
      " 160.276 159.784 161.928 161.84  162.656 163.536 166.116 168.92  171.108\n",
      " 172.608 172.94  171.936 172.36  172.64  174.504 176.568 175.452 175.608\n",
      " 177.948 179.456 181.668 183.672 185.12  185.136 186.084 186.784 188.676\n",
      " 190.104 190.136]\n",
      "Best parameters found for sqrt() fit:\n",
      "[0.97840732 0.97840164]\n",
      "With standard deviations:\n",
      "[118973.24452329 237945.10864145]\n",
      "R^2 score:\n",
      "-3.674800977720711\n",
      "(This is negative because, according to how sklearn.metrics.r2_score() works, the model can be arbitrarily worse.)\n",
      "Best parameters found for log() fit:\n",
      "[5.05871009 0.06165258]\n",
      "With standard deviations:\n",
      "[ 66317.94967928 143887.60408986]\n",
      "R^2 score:\n",
      "-4.499242667126631\n",
      "While from R^2 scores we can see that sqrt() is a better model than log() for the data, from the residuals we can see that there's a trend for log() that makes think log() model could be even worse with more data. sqrt()'s residuals, instead, appear to be stable around y=0 axis.\n"
     ]
    },
    {
     "data": {
      "image/png": "[encoded data removed]",
      "text/plain": [
       "<Figure size 432x288 with 2 Axes>"
      ]
     },
     "metadata": {
      "needs_background": "light"
     },
     "output_type": "display_data"
    },
    {
     "data": {
      "image/png": "[encoded data removed]",
      "text/plain": [
       "<Figure size 432x288 with 2 Axes>"
      ]
     },
     "metadata": {
      "needs_background": "light"
     },
     "output_type": "display_data"
    }
   ],
   "source": [
    "import numpy as np\n",
    "import numpy.random as npr\n",
    "import matplotlib.pyplot as plt\n",
    "walkers = 1000\n",
    "steps = 200\n",
    "# This is deprecated apparently\n",
    "# M = npr.randint(2, size=(walkers,steps))\n",
    "# This is recommended\n",
    "rng = npr.default_rng()\n",
    "M = rng.integers(2, size=(walkers,steps))\n",
    "# Rescaling\n",
    "M = M*2 - 1\n",
    "print(\"Walkers:\")\n",
    "print(M)\n",
    "distances = M.copy()\n",
    "for i in range(1,distances.shape[1]):\n",
    "    distances[:,i] += distances[:,i-1]\n",
    "print(\"Actual walking distances:\")\n",
    "print(distances)\n",
    "distances_squared = distances**2\n",
    "mean = np.mean(distances_squared, axis=0)\n",
    "print(\"Mean along the columns:\")\n",
    "print(mean)\n",
    "mean_sqrt = np.sqrt(mean)\n",
    "X = np.arange(mean_sqrt.size)\n",
    "# Maybe one expected linear relation, sqrt() instead\n",
    "plt.figure(0)\n",
    "plt.subplot(211)\n",
    "plt.plot(X, mean_sqrt)\n",
    "\n",
    "# Let's do some basic fit to see if that's actually a sqrt() or a log()\n",
    "from scipy.optimize import curve_fit\n",
    "from sklearn.metrics import r2_score\n",
    "Y = mean_sqrt\n",
    "def f(x, a, b):\n",
    "    return a*np.sqrt(b*x)\n",
    "\n",
    "def g(x, a, b):\n",
    "    return a*np.log(b*x+1)\n",
    "\n",
    "pars_f, cov_f = curve_fit(f, X, Y, p0=[1,1], bounds=(0,np.inf))\n",
    "print(\"Best parameters found for sqrt() fit:\")\n",
    "print(pars_f)\n",
    "pars_f_std = np.sqrt(np.diag(cov_f))\n",
    "print(\"With standard deviations:\")\n",
    "print(pars_f_std)\n",
    "coeff_f = r2_score(Y, f(Y, *pars_f))\n",
    "print(\"R^2 score:\")\n",
    "print(coeff_f)\n",
    "if coeff_f < 0:\n",
    "    print(\"(This is negative because, according to how sklearn.metrics.r2_score() works, \\\n",
    "the model can be arbitrarily worse.)\")\n",
    "res_f = Y - f(X, *pars_f)\n",
    "plt.plot(X, f(X, *pars_f), 'r-')\n",
    "plt.subplot(212)\n",
    "plt.axhline(y=0, color='r', linewidth=1)\n",
    "plt.plot(X, res_f, 'b--')\n",
    "\n",
    "pars_g, cov_g = curve_fit(g, X, Y, p0=[1,1], bounds=(0,np.inf))\n",
    "print(\"Best parameters found for log() fit:\")\n",
    "print(pars_g)\n",
    "pars_g_std = np.sqrt(np.diag(cov_g))\n",
    "print(\"With standard deviations:\")\n",
    "print(pars_std)\n",
    "coeff_g = r2_score(Y, g(Y, *pars_g))\n",
    "print(\"R^2 score:\")\n",
    "print(coeff_g)\n",
    "plt.figure(1)\n",
    "plt.subplot(211)\n",
    "plt.plot(X, mean_sqrt)\n",
    "res_g = Y - g(X, *pars_g)\n",
    "plt.plot(X, g(X, *pars_g), 'r-')\n",
    "plt.subplot(212)\n",
    "plt.axhline(y=0, color='r', linewidth=1)\n",
    "plt.plot(X, res_g, 'b--')\n",
    "\n",
    "print(\"While from R^2 scores we can see that sqrt() is a better model than log() \\\n",
    "for the data, from the residuals we can see that there's a trend for log() that makes think \\\n",
    "log() model could be even worse with more data. sqrt()'s residuals, instead, \\\n",
    "appear to be stable around y=0 axis.\")"
   ]
  },
  {
   "cell_type": "markdown",
   "metadata": {},
   "source": [
    "9\\. Analyze a data file \n",
    "  * Download the population of hares, lynxes and carrots at the beginning of the last century.\n",
    "    ```python\n",
    "    ! wget https://www.dropbox.com/s/3vigxoqayo389uc/populations.txt\n",
    "    ```\n",
    "\n",
    "  * Check the content by looking within the file\n",
    "  * Load the data (use an appropriate numpy method) into a 2D array\n",
    "  * Create arrays out of the columns, the arrays being (in order): *year*, *hares*, *lynxes*, *carrots* \n",
    "  * Plot the 3 populations over the years\n",
    "  * Compute the main statistical properties of the dataset (mean, std, correlations, etc.)\n",
    "  * Which species has the highest population each year?\n",
    "\n",
    "Do you feel there is some evident correlation here? [Studies](https://www.enr.gov.nt.ca/en/services/lynx/lynx-snowshoe-hare-cycle) tend to believe so."
   ]
  },
  {
   "cell_type": "code",
   "execution_count": 152,
   "metadata": {},
   "outputs": [
    {
     "name": "stdout",
     "output_type": "stream",
     "text": [
      "File contents:\n",
      "   year|hares|lynxes|carrots\n",
      "[[ 1900 30000  4000 48300]\n",
      " [ 1901 47200  6100 48200]\n",
      " [ 1902 70200  9800 41500]\n",
      " [ 1903 77400 35200 38200]\n",
      " [ 1904 36300 59400 40600]\n",
      " [ 1905 20600 41700 39800]\n",
      " [ 1906 18100 19000 38600]\n",
      " [ 1907 21400 13000 42300]\n",
      " [ 1908 22000  8300 44500]\n",
      " [ 1909 25400  9100 42100]\n",
      " [ 1910 27100  7400 46000]\n",
      " [ 1911 40300  8000 46800]\n",
      " [ 1912 57000 12300 43800]\n",
      " [ 1913 76600 19500 40900]\n",
      " [ 1914 52300 45700 39400]\n",
      " [ 1915 19500 51100 39000]\n",
      " [ 1916 11200 29700 36700]\n",
      " [ 1917  7600 15800 41800]\n",
      " [ 1918 14600  9700 43300]\n",
      " [ 1919 16200 10100 41300]\n",
      " [ 1920 24700  8600 47300]]\n",
      "Computing now main statistical properties...\n",
      "Hares:\n",
      "\tMean = 34080.95, Std = 20897.91, Median = 25400.00\n",
      "Lynxes:\n",
      "\tMean = 20166.67, Std = 16254.59, Median = 12300.00\n",
      "Carrots:\n",
      "\tMean = 42400.00, Std = 3322.51, Median = 41800.00\n",
      "Covariance matrix:\n",
      "[[ 4.58558619e+08  2.56418333e+07 -1.21050000e+06]\n",
      " [ 2.56418333e+07  2.77422333e+08 -3.85930000e+07]\n",
      " [-1.21050000e+06 -3.85930000e+07  1.15910000e+07]]\n",
      "While Pearson product-moment correlation matrix is:\n",
      "[[ 1.          0.07189206 -0.01660378]\n",
      " [ 0.07189206  1.         -0.68057717]\n",
      " [-0.01660378 -0.68057717  1.        ]]\n",
      "According to correlation matrix, we have some inverse correlation between lynxes and carrots. That still doesn't implicate causality.\n",
      "We can see how hares are often more that lynxes.\n",
      "Also, hares' and lynxes' trend reminds a lot of Lotka-Volterra's equations, some (not part of requests) fit would help.\n"
     ]
    },
    {
     "data": {
      "image/png": "[encoded data removed]",
      "text/plain": [
       "<Figure size 576x576 with 2 Axes>"
      ]
     },
     "metadata": {
      "needs_background": "light"
     },
     "output_type": "display_data"
    }
   ],
   "source": [
    "import numpy as np\n",
    "import matplotlib.pyplot as plt\n",
    "# To have integer values on axes\n",
    "from matplotlib.ticker import MaxNLocator\n",
    "\n",
    "#--- Parsing table into a numpy matrix from file\n",
    "filename = \"populations.txt\"\n",
    "try:\n",
    "    M = np.loadtxt(filename, skiprows=1).astype(np.int)\n",
    "except IOError:\n",
    "    print(f\"Error: can't open file {filename}\")\n",
    "    exit(1)\n",
    "print(\"File contents:\")\n",
    "# This could easily be read from file, we're just avoiding loading multiple times\n",
    "print(\"   year|hares|lynxes|carrots\")\n",
    "print(M)\n",
    "\n",
    "#--- Plotting\n",
    "%matplotlib inline\n",
    "# This is to manipulate axes to represent integer values\n",
    "# ax1 = populations, ax2 = max populations\n",
    "fig, axes = plt.subplots(nrows=2, figsize=(8,8))\n",
    "# To resolve overlapping issue with subplots\n",
    "fig.tight_layout(h_pad = 2)\n",
    "plt.xlabel(\"Year\")\n",
    "plt.setp(axes[0], ylabel=\"Population\")\n",
    "plt.setp(axes[1], ylabel=\"Max population\")\n",
    "axes[0].set_title(\"Hares, lynxes and carrots population at the beginning of the last century\")\n",
    "axes[0].xaxis.set_major_locator(MaxNLocator(integer=True))\n",
    "axes[0].yaxis.set_major_locator(MaxNLocator(integer=True))\n",
    "axes[0].grid(True, linestyle='-.')\n",
    "axes[0].plot(M[:,0], M[:,1], 'bo-', label='hares')\n",
    "axes[0].plot(M[:,0], M[:,2], 'ro-', label='lynxes')\n",
    "axes[0].plot(M[:,0], M[:,3], 'o-', color='orange', label='carrots')\n",
    "axes[0].legend()\n",
    "\n",
    "#--- Statistical properties\n",
    "print(\"Computing now main statistical properties...\")\n",
    "for i,a in enumerate((\"Hares\", \"Lynxes\", \"Carrots\")):\n",
    "    print(f\"{a}:\")\n",
    "    cc = M[:,i+1]\n",
    "    print(f\"\\tMean = {np.mean(cc):.2f}, Std = {np.std(cc):.2f}, \\\n",
    "Median = {np.median(cc):.2f}\")\n",
    "cov_mat = np.cov(M[:,1:], rowvar=False)\n",
    "print(\"Covariance matrix:\")\n",
    "print(cov_mat)\n",
    "corrcoef_mat = np.corrcoef(M[:,1:], rowvar=False)\n",
    "print(\"While Pearson product-moment correlation matrix is:\")\n",
    "print(corrcoef_mat)\n",
    "print(\"According to correlation matrix, we have some inverse correlation between \\\n",
    "lynxes and carrots. That still doesn't implicate causality.\")\n",
    "# For last part we try to create a scatter plot in which\n",
    "# different color = different animal has max population in that year\n",
    "# We're creating a filter for checking wherever hares > lynxes\n",
    "filt = M[:,1] > M[:,2]\n",
    "hares_pop = M[filt,1]\n",
    "X_hares = M[filt,0]\n",
    "lynxes_pop = M[~filt, 2]\n",
    "X_lynxes = M[~filt, 0]\n",
    "axes[1].set_title(\"Max population between hares and lynxes\")\n",
    "axes[1].xaxis.set_major_locator(MaxNLocator(integer=True))\n",
    "axes[1].yaxis.set_major_locator(MaxNLocator(integer=True))\n",
    "axes[1].grid(True, linestyle='-.')\n",
    "axes[1].scatter(X_hares, hares_pop, c='b', label='hares')\n",
    "axes[1].scatter(X_lynxes, lynxes_pop, c='r', label='lynxes')\n",
    "axes[1].legend()\n",
    "print(\"We can see how hares are often more that lynxes.\")\n",
    "print(\"Also, hares' and lynxes' trend reminds a lot of Lotka-Volterra's equations, \\\n",
    "some (not part of requests) fit would help.\")\n"
   ]
  }
 ],
 "metadata": {
  "kernelspec": {
   "display_name": "Python 3",
   "language": "python",
   "name": "python3"
  },
  "language_info": {
   "codemirror_mode": {
    "name": "ipython",
    "version": 3
   },
   "file_extension": ".py",
   "mimetype": "text/x-python",
   "name": "python",
   "nbconvert_exporter": "python",
   "pygments_lexer": "ipython3",
   "version": "3.8.5"
  }
 },
 "nbformat": 4,
 "nbformat_minor": 2
}
