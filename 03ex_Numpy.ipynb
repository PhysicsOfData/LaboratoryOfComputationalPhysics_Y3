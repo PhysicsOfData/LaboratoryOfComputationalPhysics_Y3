{
 "cells": [
  {
   "cell_type": "markdown",
   "metadata": {},
   "source": [
    "### Numpy basics"
   ]
  },
  {
   "cell_type": "markdown",
   "metadata": {},
   "source": [
    "1\\. Find the row, column and overall means for the following matrix:\n",
    "\n",
    "```python\n",
    "m = np.arange(12).reshape((3,4))\n",
    "```"
   ]
  },
  {
   "cell_type": "code",
   "execution_count": 22,
   "metadata": {},
   "outputs": [
    {
     "name": "stdout",
     "output_type": "stream",
     "text": [
      "[[ 0  1  2  3]\n",
      " [ 4  5  6  7]\n",
      " [ 8  9 10 11]] \n",
      "\n",
      "The 0 row is: [0 1 2 3]\n",
      "The 1 row is: [4 5 6 7]\n",
      "The 2 row is: [ 8  9 10 11]\n",
      "\n",
      "\n",
      "The 0 column is: [0 4 8]\n",
      "The 1 column is: [1 5 9]\n",
      "The 2 column is: [ 2  6 10]\n",
      "The 3 column is: [ 3  7 11]\n",
      "\n",
      "\n",
      "The overall means is: 5.5\n"
     ]
    }
   ],
   "source": [
    "#code ex1\n",
    "\n",
    "import numpy as np\n",
    "\n",
    "m = np.arange(12).reshape((3,4))\n",
    "print(m, '\\n')\n",
    "\n",
    "\n",
    "#row\n",
    "for i in range(0,3):\n",
    "    row = m[i]\n",
    "    print(\"The\", i, \"row is:\", row)\n",
    "    \n",
    "print(\"\\n\")\n",
    "    \n",
    "#column\n",
    "for i in range(0,4):\n",
    "    colmn=m[:,i]\n",
    "    print(\"The\", i, \"column is:\", colmn)\n",
    "    \n",
    "print(\"\\n\")\n",
    "\n",
    "\n",
    "#overall means \n",
    "print(\"The overall means is:\", np.mean(m))\n",
    "\n",
    "\n"
   ]
  },
  {
   "cell_type": "markdown",
   "metadata": {},
   "source": [
    "2\\. Find the outer product of the following two vecotrs\n",
    "\n",
    "```python\n",
    "u = np.array([1,3,5,7])\n",
    "v = np.array([2,4,6,8])\n",
    "```\n",
    "\n",
    "Do this in the following ways:\n",
    "\n",
    "   * Using the function outer in numpy\n",
    "   * Using a nested for loop or list comprehension\n",
    "   * Using numpy broadcasting operatoins\n"
   ]
  },
  {
   "cell_type": "code",
   "execution_count": 55,
   "metadata": {},
   "outputs": [
    {
     "name": "stdout",
     "output_type": "stream",
     "text": [
      "[1 3 5 7]\n",
      "[2 4 6 8]\n",
      "\n",
      "\n",
      "Using the function outer in numpy:\n",
      "[[ 2  4  6  8]\n",
      " [ 6 12 18 24]\n",
      " [10 20 30 40]\n",
      " [14 28 42 56]]\n",
      "\n",
      "\n",
      "Using a nested for loop or list comprehension \n",
      "[2 4 6 8]\n",
      "[ 6 12 18 24]\n",
      "[10 20 30 40]\n",
      "[14 28 42 56]\n",
      "\n",
      "\n",
      "Using numpy broadcasting operations\n"
     ]
    }
   ],
   "source": [
    "#code ex2\n",
    "\n",
    "u = np.array([1,3,5,7])\n",
    "v = np.array([2,4,6,8])\n",
    "\n",
    "print(u)\n",
    "print(v)\n",
    "\n",
    "print(\"\\n\")\n",
    "\n",
    "# Using the function outer in numpy\n",
    "product = np.outer(u,v)\n",
    "print(\"Using the function outer in numpy:\")\n",
    "print(product)\n",
    "\n",
    "print(\"\\n\")\n",
    "\n",
    "\n",
    "# Using a nested for loop or list comprehension CORRECT-------------\n",
    "\n",
    "print(\"Using a nested for loop or list comprehension \")\n",
    "for i in range(4):\n",
    "    result = np.array([(u[i]*v[j]) for j in range(4)])\n",
    "    print(result)\n",
    "    \n",
    "print(\"\\n\")\n",
    "\n",
    "\n",
    "# Using numpy broadcasting operations -----------------------------------------\n",
    "print(\"Using numpy broadcasting operations\")"
   ]
  },
  {
   "cell_type": "markdown",
   "metadata": {},
   "source": [
    "3\\. Create a 10 by 6 matrix of random uniform numbers. Set all rows with any entry less than 0.1 to be zero\n",
    "\n",
    "Hint: Use the following numpy functions - np.random.random, np.any as well as Boolean indexing and the axis argument."
   ]
  },
  {
   "cell_type": "code",
   "execution_count": 97,
   "metadata": {},
   "outputs": [
    {
     "name": "stdout",
     "output_type": "stream",
     "text": [
      "[[0.0994919  0.24972978 0.52958141 0.24813693 0.21201371 0.92631059]\n",
      " [0.81010749 0.63523605 0.67386281 0.4443289  0.50524863 0.7250354 ]\n",
      " [0.17120153 0.56947306 0.33061393 0.8130902  0.52337588 0.1303463 ]\n",
      " [0.67163274 0.6040267  0.96211793 0.17565712 0.80890538 0.90423932]\n",
      " [0.91701336 0.02539898 0.7156386  0.85815634 0.03717317 0.01761958]\n",
      " [0.38128118 0.09219906 0.38818177 0.38615968 0.09474022 0.40205221]\n",
      " [0.37258027 0.85163884 0.18476542 0.81137996 0.35324564 0.55743419]\n",
      " [0.17535054 0.26531609 0.95206421 0.88533321 0.86122889 0.78306716]\n",
      " [0.15637074 0.523298   0.04583674 0.17443403 0.72694733 0.92581603]\n",
      " [0.5742999  0.40421393 0.5574196  0.9667977  0.38518428 0.72628237]]\n",
      "\n",
      "\n",
      "[[0.         0.         0.         0.         0.         0.        ]\n",
      " [0.81010749 0.63523605 0.67386281 0.4443289  0.50524863 0.7250354 ]\n",
      " [0.17120153 0.56947306 0.33061393 0.8130902  0.52337588 0.1303463 ]\n",
      " [0.67163274 0.6040267  0.96211793 0.17565712 0.80890538 0.90423932]\n",
      " [0.         0.         0.         0.         0.         0.        ]\n",
      " [0.         0.         0.         0.         0.         0.        ]\n",
      " [0.37258027 0.85163884 0.18476542 0.81137996 0.35324564 0.55743419]\n",
      " [0.17535054 0.26531609 0.95206421 0.88533321 0.86122889 0.78306716]\n",
      " [0.         0.         0.         0.         0.         0.        ]\n",
      " [0.5742999  0.40421393 0.5574196  0.9667977  0.38518428 0.72628237]]\n"
     ]
    }
   ],
   "source": [
    "#code ex3\n",
    "\n",
    "import numpy as np\n",
    "\n",
    "a = np.random.rand(10,6)  #UNIFORM \n",
    "\n",
    "print(a)\n",
    "\n",
    "for i in range(10):\n",
    "    for j in range(6):\n",
    "        if  a[i,j] < 0.1: \n",
    "            a[i] = 0 \n",
    "\n",
    "print(\"\\n\")\n",
    "print(a)\n",
    "\n",
    "            \n",
    "    "
   ]
  },
  {
   "cell_type": "markdown",
   "metadata": {},
   "source": [
    "4\\. Use np.linspace to create an array of 100 numbers between 0 and 2π (includsive).\n",
    "\n",
    "  * Extract every 10th element using slice notation\n",
    "  * Reverse the array using slice notation\n",
    "  * Extract elements where the absolute difference between the sine and cosine functions evaluated at that element is less than 0.1\n",
    "  * Make a plot showing the sin and cos functions and indicate where they are close"
   ]
  },
  {
   "cell_type": "code",
   "execution_count": null,
   "metadata": {
    "collapsed": true
   },
   "outputs": [],
   "source": [
    "#code ex4\n",
    "\n",
    "\n"
   ]
  },
  {
   "cell_type": "markdown",
   "metadata": {},
   "source": [
    "5\\. Create a matrix that shows the 10 by 10 multiplication table.\n",
    "\n",
    " * Find the trace of the matrix\n",
    " * Extract the anto-diagonal (this should be ```array([10, 18, 24, 28, 30, 30, 28, 24, 18, 10])```)\n",
    " * Extract the diagnoal offset by 1 upwards (this should be ```array([ 2,  6, 12, 20, 30, 42, 56, 72, 90])```)"
   ]
  },
  {
   "cell_type": "code",
   "execution_count": null,
   "metadata": {},
   "outputs": [],
   "source": [
    "#code ex5"
   ]
  },
  {
   "cell_type": "markdown",
   "metadata": {},
   "source": [
    "6\\. Use broadcasting to create a grid of distances\n",
    "\n",
    "Route 66 crosses the following cities in the US: Chicago, Springfield, Saint-Louis, Tulsa, Oklahoma City, Amarillo, Santa Fe, Albuquerque, Flagstaff, Los Angeles\n",
    "The corresponding positions in miles are: 0, 198, 303, 736, 871, 1175, 1475, 1544, 1913, 2448\n",
    "\n",
    "  * Construct a 2D grid of distances among each city along Route 66\n",
    "  * Convert that in km (those savages...)"
   ]
  },
  {
   "cell_type": "code",
   "execution_count": null,
   "metadata": {},
   "outputs": [],
   "source": [
    "#code ex6"
   ]
  },
  {
   "cell_type": "markdown",
   "metadata": {},
   "source": [
    "7\\. Prime numbers sieve: compute the prime numbers in the 0-N (N=99 to start with) range with a sieve (mask).\n",
    "  * Constract a shape (100,) boolean array, the mask\n",
    "  * Identify the multiples of each number starting from 2 and set accordingly the corresponding mask element\n",
    "  * Apply the mask to obtain an array of ordered prime numbers\n",
    "  * Check the performances (timeit); how does it scale with N?\n",
    "  * Implement the optimization suggested in the [sieve of Eratosthenes](https://en.wikipedia.org/wiki/Sieve_of_Eratosthenes)"
   ]
  },
  {
   "cell_type": "code",
   "execution_count": null,
   "metadata": {
    "collapsed": true
   },
   "outputs": [],
   "source": [
    "#code ex7"
   ]
  },
  {
   "cell_type": "markdown",
   "metadata": {},
   "source": [
    "8\\. Diffusion using random walk\n",
    "\n",
    "Consider a simple random walk process: at each step in time, a walker jumps right or left (+1 or -1) with equal probability. The goal is to find the typical distance from the origin of a random walker after a given amount of time. \n",
    "To do that, let's simulate many walkers and create a 2D array with each walker as a raw and the actual time evolution as columns\n",
    "\n",
    "  * Take 1000 walkers and let them walk for 200 steps\n",
    "  * Use randint to create a 2D array of size walkers x steps with values -1 or 1\n",
    "  * Build the actual walking distances for each walker (i.e. another 2D array \"summing on each raw\")\n",
    "  * Take the square of that 2D array (elementwise)\n",
    "  * Compute the mean of the squared distances at each step (i.e. the mean along the columns)\n",
    "  * Plot the average distances (sqrt(distance\\*\\*2)) as a function of time (step)\n",
    "  \n",
    "Did you get what you expected?"
   ]
  },
  {
   "cell_type": "code",
   "execution_count": null,
   "metadata": {},
   "outputs": [],
   "source": [
    "#code ex8"
   ]
  },
  {
   "cell_type": "markdown",
   "metadata": {},
   "source": [
    "9\\. Analyze a data file \n",
    "  * Download the population of hares, lynxes and carrots at the beginning of the last century.\n",
    "    ```python\n",
    "    ! wget https://www.dropbox.com/s/3vigxoqayo389uc/populations.txt\n",
    "    ```\n",
    "\n",
    "  * Check the content by looking within the file\n",
    "  * Load the data (use an appropriate numpy method) into a 2D array\n",
    "  * Create arrays out of the columns, the arrays being (in order): *year*, *hares*, *lynxes*, *carrots* \n",
    "  * Plot the 3 populations over the years\n",
    "  * Compute the main statistical properties of the dataset (mean, std, correlations, etc.)\n",
    "  * Which species has the highest population each year?\n",
    "\n",
    "Do you feel there is some evident correlation here? [Studies](https://www.enr.gov.nt.ca/en/services/lynx/lynx-snowshoe-hare-cycle) tend to believe so."
   ]
  },
  {
   "cell_type": "code",
   "execution_count": null,
   "metadata": {},
   "outputs": [],
   "source": [
    "#code ex9"
   ]
  }
 ],
 "metadata": {
  "kernelspec": {
   "display_name": "Python 3",
   "language": "python",
   "name": "python3"
  },
  "language_info": {
   "codemirror_mode": {
    "name": "ipython",
    "version": 3
   },
   "file_extension": ".py",
   "mimetype": "text/x-python",
   "name": "python",
   "nbconvert_exporter": "python",
   "pygments_lexer": "ipython3",
   "version": "3.8.3"
  }
 },
 "nbformat": 4,
 "nbformat_minor": 2
}
