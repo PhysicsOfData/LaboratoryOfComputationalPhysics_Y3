{
 "cells": [
  {
   "cell_type": "markdown",
   "metadata": {},
   "source": [
    "### Numpy basics"
   ]
  },
  {
   "cell_type": "code",
   "execution_count": 325,
   "metadata": {},
   "outputs": [],
   "source": [
    "import numpy as np\n",
    "import numpy.random as npr\n",
    "import matplotlib.pyplot as plt "
   ]
  },
  {
   "cell_type": "markdown",
   "metadata": {},
   "source": [
    "1\\. Find the row, column and overall means for the following matrix:\n",
    "\n",
    "```python\n",
    "m = np.arange(12).reshape((3,4))\n",
    "```"
   ]
  },
  {
   "cell_type": "code",
   "execution_count": 21,
   "metadata": {},
   "outputs": [
    {
     "name": "stdout",
     "output_type": "stream",
     "text": [
      "[1.5 5.5 9.5]\n",
      "[4. 5. 6. 7.]\n",
      "5.5\n"
     ]
    }
   ],
   "source": [
    "m = np.arange(12).reshape((3,4))\n",
    "\n",
    "# row means\n",
    "rows = np.mean(m, axis = 1) \n",
    "print(rows)\n",
    "\n",
    "# column means\n",
    "cols = np.mean(m, axis = 0) \n",
    "print(cols)\n",
    "\n",
    "# overall means\n",
    "overall = np.mean(m)\n",
    "print(overall)"
   ]
  },
  {
   "cell_type": "markdown",
   "metadata": {},
   "source": [
    "2\\. Find the outer product of the following two vecotrs\n",
    "\n",
    "```python\n",
    "u = np.array([1,3,5,7])\n",
    "v = np.array([2,4,6,8])\n",
    "```\n",
    "\n",
    "Do this in the following ways:\n",
    "\n",
    "   * Using the function outer in numpy\n",
    "   * Using a nested for loop or list comprehension\n",
    "   * Using numpy broadcasting operations\n"
   ]
  },
  {
   "cell_type": "code",
   "execution_count": 49,
   "metadata": {},
   "outputs": [
    {
     "name": "stdout",
     "output_type": "stream",
     "text": [
      "outer product using the function outer in numpy:\n",
      "[[ 2  4  6  8]\n",
      " [ 6 12 18 24]\n",
      " [10 20 30 40]\n",
      " [14 28 42 56]]\n",
      "\n",
      "outer product using a nested for loop or list comprehension:\n",
      "[[2, 4, 6, 8], [6, 12, 18, 24], [10, 20, 30, 40], [14, 28, 42, 56]]\n",
      "\n",
      "outer product using numpy broadcasting operations:\n",
      "[[ 2  4  6  8]\n",
      " [ 6 12 18 24]\n",
      " [10 20 30 40]\n",
      " [14 28 42 56]]\n"
     ]
    }
   ],
   "source": [
    "u = np.array([1,3,5,7])\n",
    "v = np.array([2,4,6,8])\n",
    "\n",
    "# outer product using the function outer in numpy\n",
    "print(\"outer product using the function outer in numpy:\")\n",
    "op = np.outer(u, v)\n",
    "print(op)\n",
    "\n",
    "# outer product using a nested for loop or list comprehension\n",
    "print(\"\\nouter product using a nested for loop or list comprehension:\")\n",
    "op1 = [[i*j for i in v] for j in u]\n",
    "print(op1)\n",
    "\n",
    "# outer product using numpy broadcasting operatoins\n",
    "print(\"\\nouter product using numpy broadcasting operations:\")\n",
    "op2 = u[..., None] * v\n",
    "print(op2)"
   ]
  },
  {
   "cell_type": "markdown",
   "metadata": {},
   "source": [
    "3\\. Create a 10 by 6 matrix of random uniform numbers. Set all rows with any entry less than 0.1 to be zero\n",
    "\n",
    "Hint: Use the following numpy functions - np.random.random, np.any as well as Boolean indexing and the axis argument."
   ]
  },
  {
   "cell_type": "code",
   "execution_count": 97,
   "metadata": {},
   "outputs": [
    {
     "name": "stdout",
     "output_type": "stream",
     "text": [
      "[[0.         0.         0.         0.         0.         0.        ]\n",
      " [0.         0.         0.         0.         0.         0.        ]\n",
      " [0.91946258 0.26720015 0.4377399  0.69169024 0.90145167 0.8593974 ]\n",
      " [0.15570998 0.59641645 0.7950386  0.21753758 0.56058491 0.90414649]\n",
      " [0.         0.         0.         0.         0.         0.        ]\n",
      " [0.10478965 0.14159131 0.85902027 0.7448761  0.67452353 0.84796581]\n",
      " [0.         0.         0.         0.         0.         0.        ]\n",
      " [0.77144437 0.30813634 0.40038997 0.19773274 0.93343369 0.38738292]\n",
      " [0.81667629 0.88419968 0.3367328  0.6959051  0.93339583 0.66640644]\n",
      " [0.46375813 0.49126959 0.75003518 0.25535885 0.86422975 0.62195121]]\n"
     ]
    }
   ],
   "source": [
    "mtx = np.random.rand(10,6)\n",
    "mask = (mtx < 0.1) # find all the elements less than 0.1\n",
    "\n",
    "find = np.any(mask, axis=1) # mask of the rows with a value less than 0.1\n",
    "\n",
    "for i in range (len(find)):\n",
    "    if find[i] == True:\n",
    "        mtx[i] = 0 # set to 0 the row with a True value for the condition\n",
    "\n",
    "print(mtx)"
   ]
  },
  {
   "cell_type": "markdown",
   "metadata": {},
   "source": [
    "4\\. Use np.linspace to create an array of 100 numbers between 0 and 2π (inclusive).\n",
    "\n",
    "  * Extract every 10th element using slice notation\n",
    "  * Reverse the array using slice notation\n",
    "  * Extract elements where the absolute difference between the sine and cosine functions evaluated at that element is less than 0.1\n",
    "  * Make a plot showing the sin and cos functions and indicate where they are close"
   ]
  },
  {
   "cell_type": "code",
   "execution_count": 128,
   "metadata": {},
   "outputs": [
    {
     "name": "stdout",
     "output_type": "stream",
     "text": [
      "\n",
      "\n",
      "[0.7615982190520711, 0.8250647373064104, 3.8714576135146945, 3.934924131769034]\n"
     ]
    },
    {
     "data": {
      "image/png": "[encoded data removed]",
      "text/plain": [
       "<Figure size 432x288 with 1 Axes>"
      ]
     },
     "metadata": {
      "needs_background": "light"
     },
     "output_type": "display_data"
    }
   ],
   "source": [
    "mtx = np.linspace(0, 2*np.pi, 100)\n",
    "\n",
    "# Extract every 10th element using slice notation\n",
    "mtx_sliced = mtx[10::10]\n",
    "#print(mtx_sliced)\n",
    "print()\n",
    "\n",
    "# Reverse the array using slice notation\n",
    "mtx_reverse = mtx[::-1]\n",
    "#print(mtx_reverse)\n",
    "print()\n",
    "\n",
    "# Extract elements where the absolute difference between the sine and cosine functions evaluated at that element is less than 0.1\n",
    "mtx_ext = [i for i in mtx if np.absolute((np.sin(i) - np.cos(i))) < 0.1 ]\n",
    "mtx_abs = [np.absolute((np.sin(i) - np.cos(i))) for i in mtx if np.absolute((np.sin(i) - np.cos(i))) < 0.1 ]\n",
    "\n",
    "# Make a plot showing the sin and cos functions and indicate where they are close\n",
    "%matplotlib inline \n",
    "sin = np.sin(mtx) \n",
    "cos = np.cos(mtx)\n",
    "plt.plot(mtx, cos, mtx, sin);\n",
    "plt.scatter(mtx_ext, np.cos(mtx_ext)); # points that are close\n",
    "plt.scatter(mtx_ext, np.sin(mtx_ext)); # points that are close"
   ]
  },
  {
   "cell_type": "markdown",
   "metadata": {},
   "source": [
    "5\\. Create a matrix that shows the 10 by 10 multiplication table.\n",
    "\n",
    " * Find the trace of the matrix\n",
    " * Extract the anto-diagonal (this should be ```array([10, 18, 24, 28, 30, 30, 28, 24, 18, 10])```)\n",
    " * Extract the diagnoal offset by 1 upwards (this should be ```array([ 2,  6, 12, 20, 30, 42, 56, 72, 90])```)"
   ]
  },
  {
   "cell_type": "code",
   "execution_count": 145,
   "metadata": {},
   "outputs": [
    {
     "name": "stdout",
     "output_type": "stream",
     "text": [
      "trace =  385\n",
      "anti-diagonal =  [10 18 24 28 30 30 28 24 18 10]\n",
      "Diagonal offset by 1 =  [ 2  6 12 20 30 42 56 72 90]\n"
     ]
    }
   ],
   "source": [
    "m1 = np.arange(1, 11)\n",
    "m2 = np.arange(1, 11)\n",
    "\n",
    "# matrix of 10by10 multiplication table\n",
    "mlt= np.array([[i*j for i in m1] for j in m2])\n",
    "\n",
    "# Find the trace of the matrix\n",
    "print(\"trace = \", mlt.trace())\n",
    "\n",
    "# Extract the anto-diagonal \n",
    "print(\"anti-diagonal = \", np.fliplr(mlt).diagonal()) # flip the matrix and take the diagonal\n",
    "\n",
    "# Extract the diagnoal offset by 1 upwards\n",
    "print(\"Diagonal offset by 1 = \", np.diagonal(mlt, 1))"
   ]
  },
  {
   "cell_type": "markdown",
   "metadata": {},
   "source": [
    "6\\. Use broadcasting to create a grid of distances\n",
    "\n",
    "Route 66 crosses the following cities in the US: Chicago, Springfield, Saint-Louis, Tulsa, Oklahoma City, Amarillo, Santa Fe, Albuquerque, Flagstaff, Los Angeles\n",
    "The corresponding positions in miles are: 0, 198, 303, 736, 871, 1175, 1475, 1544, 1913, 2448\n",
    "\n",
    "  * Construct a 2D grid of distances among each city along Route 66\n",
    "  * Convert that in km (those savages...)"
   ]
  },
  {
   "cell_type": "code",
   "execution_count": 184,
   "metadata": {},
   "outputs": [
    {
     "name": "stdout",
     "output_type": "stream",
     "text": [
      "[[   0  198  303  736  871 1175 1475 1544 1913 2448]\n",
      " [ 198    0  105  538  673  977 1277 1346 1715 2250]\n",
      " [ 303  105    0  433  568  872 1172 1241 1610 2145]\n",
      " [ 736  538  433    0  135  439  739  808 1177 1712]\n",
      " [ 871  673  568  135    0  304  604  673 1042 1577]\n",
      " [1175  977  872  439  304    0  300  369  738 1273]\n",
      " [1475 1277 1172  739  604  300    0   69  438  973]\n",
      " [1544 1346 1241  808  673  369   69    0  369  904]\n",
      " [1913 1715 1610 1177 1042  738  438  369    0  535]\n",
      " [2448 2250 2145 1712 1577 1273  973  904  535    0]]\n",
      "\n"
     ]
    }
   ],
   "source": [
    "a = np.array([0, 198, 303, 736, 871, 1175, 1475, 1544, 1913, 2448])\n",
    "b = np.tile(a, (10, 1))\n",
    "pos = np.array([np.absolute(b[:,i]-a) for i in range(len(a))]) # distance matrix generation\n",
    "print(pos)\n",
    "\n",
    "print()\n",
    "\n",
    "# convertion from miles to km\n",
    "converted = pos * 1.609344\n",
    "#print(converted)"
   ]
  },
  {
   "cell_type": "markdown",
   "metadata": {},
   "source": [
    "7\\. Prime numbers sieve: compute the prime numbers in the 0-N (N=99 to start with) range with a sieve (mask).\n",
    "  * Constract a shape (100,) boolean array, the mask\n",
    "  * Identify the multiples of each number starting from 2 and set accordingly the corresponding mask element\n",
    "  * Apply the mask to obtain an array of ordered prime numbers\n",
    "  * Check the performances (timeit); how does it scale with N?\n",
    "  * Implement the optimization suggested in the [sieve of Eratosthenes](https://en.wikipedia.org/wiki/Sieve_of_Eratosthenes)"
   ]
  },
  {
   "cell_type": "code",
   "execution_count": 229,
   "metadata": {},
   "outputs": [
    {
     "name": "stdout",
     "output_type": "stream",
     "text": [
      "Performance for n = 10\n",
      "with method primes:\n",
      "8.17 µs ± 94.4 ns per loop (mean ± std. dev. of 7 runs, 100000 loops each)\n",
      "with method optimization of eratosthenes:\n",
      "7.98 µs ± 38.9 ns per loop (mean ± std. dev. of 7 runs, 100000 loops each)\n",
      "\n",
      "Performance for n = 100\n",
      "with method primes:\n",
      "368 µs ± 3.81 µs per loop (mean ± std. dev. of 7 runs, 1000 loops each)\n",
      "with method optimization of eratosthenes:\n",
      "26.8 µs ± 308 ns per loop (mean ± std. dev. of 7 runs, 10000 loops each)\n",
      "\n",
      "Performance for n = 1000\n",
      "with method primes:\n",
      "41 ms ± 601 µs per loop (mean ± std. dev. of 7 runs, 10 loops each)\n",
      "with method optimization of eratosthenes:\n",
      "185 µs ± 3.32 µs per loop (mean ± std. dev. of 7 runs, 10000 loops each)\n",
      "\n",
      "Performance for n = 10000\n",
      "with method primes:\n",
      "4.57 s ± 82.9 ms per loop (mean ± std. dev. of 7 runs, 1 loop each)\n",
      "with method optimization of eratosthenes:\n",
      "1.68 ms ± 2.69 µs per loop (mean ± std. dev. of 7 runs, 1000 loops each)\n",
      "\n"
     ]
    }
   ],
   "source": [
    "# define function for compute primes\n",
    "def primes(n):\n",
    "    a = np.arange(n)\n",
    "    mask = np.array([True for i in range(n)])\n",
    "    for i in range(2, n):\n",
    "        for j in range(2, n):\n",
    "            if (j%i == 0) and j != i:\n",
    "                mask[j] = False\n",
    "    # set to false the first two elements     \n",
    "    mask[0]= False\n",
    "    mask[1]= False\n",
    "    # apply mask to array \n",
    "    primes = a[mask]\n",
    "    return  primes # array of primes\n",
    "\n",
    "\n",
    "# define function for compute primes with sieve of eratosthenes\n",
    "def sieve_eratosthenes(n):\n",
    "    a = np.arange(n+1)\n",
    "    mask = np.array([True for i in range(n+1)])\n",
    "    p = 2\n",
    "    while (p*p <= n): \n",
    "        if (mask[p] == True): \n",
    "            for i in range(p*2, n+1, p):\n",
    "                mask[i] = False\n",
    "        p += 1\n",
    "    # set to false the first two elements\n",
    "    mask[0]= False\n",
    "    mask[1]= False\n",
    "\n",
    "    # apply mask to array \n",
    "    primes = a[mask]\n",
    "    return  primes # array of primes\n",
    "\n",
    "# manually calculated \n",
    "n = np.array([10, 100, 1000, 10000])\n",
    "for i in n:\n",
    "    print(\"Performance for n = \" + str(i))\n",
    "    print(\"with method primes:\")\n",
    "    %timeit primes(i)\n",
    "    print(\"with method optimization of eratosthenes:\")\n",
    "    %timeit sieve_eratosthenes(i) # much better in performance\n",
    "    print()"
   ]
  },
  {
   "cell_type": "markdown",
   "metadata": {},
   "source": [
    "---> The method created seems to scale exponentially while the optimization is much faster and the performance follows a linear increment."
   ]
  },
  {
   "cell_type": "markdown",
   "metadata": {},
   "source": [
    "8\\. Diffusion using random walk\n",
    "\n",
    "Consider a simple random walk process: at each step in time, a walker jumps right or left (+1 or -1) with equal probability. The goal is to find the typical distance from the origin of a random walker after a given amount of time. \n",
    "To do that, let's simulate many walkers and create a 2D array with each walker as a raw and the actual time evolution as columns\n",
    "\n",
    "  * Take 1000 walkers and let them walk for 200 steps\n",
    "  * Use randint to create a 2D array of size walkers x steps with values -1 or 1\n",
    "  * Build the actual walking distances for each walker (i.e. another 2D array \"summing on each raw\")\n",
    "  * Take the square of that 2D array (elementwise)\n",
    "  * Compute the mean of the squared distances at each step (i.e. the mean along the columns)\n",
    "  * Plot the average distances (sqrt(distance\\*\\*2)) as a function of time (step)\n",
    "  \n",
    "Did you get what you expected?"
   ]
  },
  {
   "cell_type": "code",
   "execution_count": 319,
   "metadata": {},
   "outputs": [
    {
     "data": {
      "image/png": "[encoded data removed]",
      "text/plain": [
       "<Figure size 432x288 with 1 Axes>"
      ]
     },
     "metadata": {
      "needs_background": "light"
     },
     "output_type": "display_data"
    }
   ],
   "source": [
    "# creation of walkers\n",
    "walkers = 1000\n",
    "steps = 200\n",
    "\n",
    "# creation of the steps for each walker\n",
    "walks = npr.randint(0,2,size=(steps,walkers)) # in order to have 0s and 1s \n",
    "walks[walks == 0] = -1 # substitute 0s with -1\n",
    "\n",
    "# calculating the distance of each walker\n",
    "distance = np.zeros((200, 1000))\n",
    "for i in range(walkers):\n",
    "    summation = 0\n",
    "    for j in range(steps):\n",
    "        summation = summation + walks[j, i]\n",
    "        distance[j, i] = summation\n",
    "    \n",
    "# square of distance\n",
    "distance_square = np.square(distance)\n",
    "\n",
    "# mean over the columns\n",
    "mean_square_dist = np.mean(distance_square, axis = 1)\n",
    "\n",
    "# plotting the result\n",
    "%matplotlib inline \n",
    "plt.plot(np.sqrt(mean_square_dist));"
   ]
  },
  {
   "cell_type": "markdown",
   "metadata": {},
   "source": [
    "I would expect a mean near 0, due to the fact that the steps are random and there is 0.5 probability. Instead the distance increase a little at each time step, probably diverging."
   ]
  },
  {
   "cell_type": "markdown",
   "metadata": {},
   "source": [
    "9\\. Analyze a data file \n",
    "  * Download the population of hares, lynxes and carrots at the beginning of the last century.\n",
    "    ```python\n",
    "    ! wget https://www.dropbox.com/s/3vigxoqayo389uc/populations.txt\n",
    "    ```\n",
    "\n",
    "  * Check the content by looking within the file\n",
    "  * Load the data (use an appropriate numpy method) into a 2D array\n",
    "  * Create arrays out of the columns, the arrays being (in order): *year*, *hares*, *lynxes*, *carrots* \n",
    "  * Plot the 3 populations over the years\n",
    "  * Compute the main statistical properties of the dataset (mean, std, correlations, etc.)\n",
    "  * Which species has the highest population each year?\n",
    "\n",
    "Do you feel there is some evident correlation here? [Studies](https://www.enr.gov.nt.ca/en/services/lynx/lynx-snowshoe-hare-cycle) tend to believe so."
   ]
  },
  {
   "cell_type": "code",
   "execution_count": 230,
   "metadata": {},
   "outputs": [
    {
     "name": "stdout",
     "output_type": "stream",
     "text": [
      "--2020-10-27 17:32:01--  https://www.dropbox.com/s/3vigxoqayo389uc/populations.txt\n",
      "Resolving www.dropbox.com (www.dropbox.com)... 162.125.69.1, 2620:100:6025:1::a27d:4501\n",
      "Connecting to www.dropbox.com (www.dropbox.com)|162.125.69.1|:443... connected.\n",
      "HTTP request sent, awaiting response... 301 Moved Permanently\n",
      "Location: /s/raw/3vigxoqayo389uc/populations.txt [following]\n",
      "--2020-10-27 17:32:01--  https://www.dropbox.com/s/raw/3vigxoqayo389uc/populations.txt\n",
      "Reusing existing connection to www.dropbox.com:443.\n",
      "HTTP request sent, awaiting response... 302 Found\n",
      "Location: https://uce991e3398bef3542fd97694598.dl.dropboxusercontent.com/cd/0/inline/BCGVRb0WOBkzxBWXAEM2gYaGDgJjIVsGvBXANO0tVA13K9HHeYJGMXIePCvg52u5F1GnfbAnq63xjkw_3QqMc5N8rWXAoLHnfGi0RAbkdQilTA/file# [following]\n",
      "--2020-10-27 17:32:01--  https://uce991e3398bef3542fd97694598.dl.dropboxusercontent.com/cd/0/inline/BCGVRb0WOBkzxBWXAEM2gYaGDgJjIVsGvBXANO0tVA13K9HHeYJGMXIePCvg52u5F1GnfbAnq63xjkw_3QqMc5N8rWXAoLHnfGi0RAbkdQilTA/file\n",
      "Resolving uce991e3398bef3542fd97694598.dl.dropboxusercontent.com (uce991e3398bef3542fd97694598.dl.dropboxusercontent.com)... 162.125.69.15, 2620:100:6025:15::a27d:450f\n",
      "Connecting to uce991e3398bef3542fd97694598.dl.dropboxusercontent.com (uce991e3398bef3542fd97694598.dl.dropboxusercontent.com)|162.125.69.15|:443... connected.\n",
      "HTTP request sent, awaiting response... 200 OK\n",
      "Length: 525 [text/plain]\n",
      "Saving to: ‘populations.txt’\n",
      "\n",
      "populations.txt     100%[===================>]     525  --.-KB/s    in 0s      \n",
      "\n",
      "2020-10-27 17:32:02 (28,7 MB/s) - ‘populations.txt’ saved [525/525]\n",
      "\n"
     ]
    }
   ],
   "source": [
    "#! wget https://www.dropbox.com/s/3vigxoqayo389uc/populations.txt"
   ]
  },
  {
   "cell_type": "code",
   "execution_count": 368,
   "metadata": {},
   "outputs": [
    {
     "data": {
      "image/png": "[encoded data removed]",
      "text/plain": [
       "<Figure size 432x288 with 1 Axes>"
      ]
     },
     "metadata": {
      "needs_background": "light"
     },
     "output_type": "display_data"
    },
    {
     "name": "stdout",
     "output_type": "stream",
     "text": [
      "\n",
      "Statistical values for hares:\n",
      "sum 715700.0\n",
      "min 7600.0\n",
      "argmin 17\n",
      "mean 34080.95238095238\n",
      "median 25400.0\n",
      "std 20897.906458089667\n",
      "\n",
      "Statistical values for lynxes:\n",
      "sum 423500.0\n",
      "min 4000.0\n",
      "argmin 0\n",
      "mean 20166.666666666668\n",
      "median 12300.0\n",
      "std 16254.591536908763\n",
      "\n",
      "Statistical values for carrots:\n",
      "sum 890400.0\n",
      "min 36700.0\n",
      "argmin 16\n",
      "mean 42400.0\n",
      "median 41800.0\n",
      "std 3322.5062255844787\n",
      "\n",
      "Species with highest population for each year:\n",
      "['Carrot', 'Carrot', 'Hares', 'Hares', 'Lynxes', 'Lynxes', 'Carrot', 'Carrot', 'Carrot', 'Carrot', 'Carrot', 'Carrot', 'Hares', 'Hares', 'Hares', 'Lynxes', 'Carrot', 'Carrot', 'Carrot', 'Carrot', 'Carrot']\n"
     ]
    }
   ],
   "source": [
    "# watching manually into the file\n",
    "#! cat populations.txt\n",
    "\n",
    "# import txt file data\n",
    "filename = \"populations.txt\"\n",
    "db = np.loadtxt(filename)\n",
    "\n",
    "# devide the columns\n",
    "year = np.array([i for i in db[:, 0]])\n",
    "hares = np.array([i for i in db[:, 1]])\n",
    "lynxes = np.array([i for i in db[:, 2]])\n",
    "carrots = np.array([i for i in db[:, 3]])\n",
    "\n",
    "all_a = np.array([hares, lynxes, carrots])\n",
    "names = [\"hares\", \"lynxes\", \"carrots\"]\n",
    "\n",
    "# plotting the population\n",
    "%matplotlib inline \n",
    "plt.plot(year, hares, label=\"Hares\") \n",
    "plt.plot(year, lynxes, label=\"Lynxes\")\n",
    "plt.plot(year, carrots, label=\"Carrots\")\n",
    "plt.legend()\n",
    "plt.show()\n",
    "\n",
    "# Compute the main statistical properties of the dataset (mean, std, correlations, etc.)\n",
    "for m in range(len(all_a)):\n",
    "    print(\"\\nStatistical values for \"  + names[m] + \":\")\n",
    "    for function in ['sum','min','argmin','mean','median','std']:\n",
    "        print (function, getattr(np, function)(all_a[m]))\n",
    "\n",
    "# Which species has the highest population each year?\n",
    "# find it old school\n",
    "max_pop = [i for i in range(len(year))]\n",
    "for i in range(len(year)):\n",
    "    max_val = max(hares[i], lynxes[i], carrots[i])\n",
    "    if max_val == hares[i]:\n",
    "        max_pop[i] = \"Hares\"\n",
    "    elif max_val == lynxes[i]:\n",
    "        max_pop[i] = \"Lynxes\"\n",
    "    elif max_val == carrots[i]:\n",
    "        max_pop[i] = \"Carrot\"\n",
    "\n",
    "print(\"\\nSpecies with highest population for each year:\")\n",
    "print(max_pop)"
   ]
  },
  {
   "cell_type": "markdown",
   "metadata": {},
   "source": [
    "The results agree with the study. In fact the population of hares increases every 8-11 years while right after there is decreases caused by the increment of the population of lynxes, that eat the hares. After the decrease of the hare population, lynx population follows the same path, due to the starvation caused by the decrement of hares (eaten by them). This behaviout is cyclic and follows the food chain.\n",
    "In all of this, carrots have nearly the same population."
   ]
  },
  {
   "cell_type": "code",
   "execution_count": null,
   "metadata": {},
   "outputs": [],
   "source": []
  }
 ],
 "metadata": {
  "kernelspec": {
   "display_name": "Python 3",
   "language": "python",
   "name": "python3"
  },
  "language_info": {
   "codemirror_mode": {
    "name": "ipython",
    "version": 3
   },
   "file_extension": ".py",
   "mimetype": "text/x-python",
   "name": "python",
   "nbconvert_exporter": "python",
   "pygments_lexer": "ipython3",
   "version": "3.7.6"
  }
 },
 "nbformat": 4,
 "nbformat_minor": 2
}
