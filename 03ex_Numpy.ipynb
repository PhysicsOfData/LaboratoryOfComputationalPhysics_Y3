{
 "cells": [
  {
   "cell_type": "markdown",
   "metadata": {},
   "source": [
    "### Numpy basics"
   ]
  },
  {
   "cell_type": "markdown",
   "metadata": {},
   "source": [
    "1\\. Find the row, column and overall means for the following matrix:\n",
    "\n",
    "```python\n",
    "m = np.arange(12).reshape((3,4))\n",
    "```"
   ]
  },
  {
   "cell_type": "code",
   "execution_count": 49,
   "metadata": {},
   "outputs": [
    {
     "name": "stdout",
     "output_type": "stream",
     "text": [
      "[[ 0  1  2  3]\n",
      " [ 4  5  6  7]\n",
      " [ 8  9 10 11]] \n",
      "\n",
      "[4. 5. 6. 7.]\n",
      "[1.5 5.5 9.5]\n",
      "5.5\n"
     ]
    }
   ],
   "source": [
    "import numpy as np\n",
    "m = np.arange(12).reshape((3,4))\n",
    "print(m,\"\\n\")\n",
    "a=m.sum(axis=0)\n",
    "b=m.sum(axis=1)\n",
    "a=a/3\n",
    "b=b/4\n",
    "mean=m.mean()\n",
    "\n",
    "print(a)\n",
    "print(b)\n",
    "print(mean)        \n",
    "\n",
    "\n",
    "\n"
   ]
  },
  {
   "cell_type": "markdown",
   "metadata": {},
   "source": [
    "2\\. Find the outer product of the following two vecotrs\n",
    "\n",
    "```python\n",
    "u = np.array([1,3,5,7])\n",
    "v = np.array([2,4,6,8])\n",
    "```\n",
    "\n",
    "Do this in the following ways:\n",
    "\n",
    "   * Using the function outer in numpy\n",
    "   * Using a nested for loop or list comprehension\n",
    "   * Using numpy broadcasting operatoins\n"
   ]
  },
  {
   "cell_type": "code",
   "execution_count": 71,
   "metadata": {},
   "outputs": [
    {
     "name": "stdout",
     "output_type": "stream",
     "text": [
      "[[ 2  4  6  8]\n",
      " [ 6 12 18 24]\n",
      " [10 20 30 40]\n",
      " [14 28 42 56]] \n",
      "\n",
      "[[ 2.  4.  6.  8.]\n",
      " [ 6. 12. 18. 24.]\n",
      " [10. 20. 30. 40.]\n",
      " [14. 28. 42. 56.]] \n",
      "\n",
      "[[ 2  4  6  8]\n",
      " [ 6 12 18 24]\n",
      " [10 20 30 40]\n",
      " [14 28 42 56]]\n"
     ]
    }
   ],
   "source": [
    "u = np.array([1,3,5,7])\n",
    "v = np.array([2,4,6,8])\n",
    "\n",
    "c = np.outer(u,v)\n",
    "print(c, \"\\n\")\n",
    "\n",
    "d=np.zeros((4,4))\n",
    "\n",
    "for i in range(0,4):\n",
    "    for j in range(0,4):\n",
    "        d[i,j]=u[i]*v[j]\n",
    "        \n",
    "print(d, \"\\n\")\n",
    "\n",
    "u=u[:,np.newaxis]\n",
    "v=v[np.newaxis,:]\n",
    "d=u*v\n",
    "print(d)\n",
    "        \n"
   ]
  },
  {
   "cell_type": "markdown",
   "metadata": {},
   "source": [
    "3\\. Create a 10 by 6 matrix of random uniform numbers. Set all rows with any entry less than 0.1 to be zero\n",
    "\n",
    "Hint: Use the following numpy functions - np.random.random, np.any as well as Boolean indexing and the axis argument."
   ]
  },
  {
   "cell_type": "code",
   "execution_count": 73,
   "metadata": {},
   "outputs": [
    {
     "name": "stdout",
     "output_type": "stream",
     "text": [
      "[[0.83080051 0.92835607 0.75626249 0.46878958 0.53774747 0.59225062]\n",
      " [0.51111532 0.16817614 0.68832993 0.33694916 0.15954723 0.59625492]\n",
      " [0.36359515 0.27804709 0.50514427 0.65251597 0.25928867 0.86992658]\n",
      " [0.04313978 0.89152703 0.0166548  0.20238782 0.33321369 0.19943129]\n",
      " [0.56685992 0.92027054 0.00801938 0.7190795  0.40826129 0.8318983 ]\n",
      " [0.82577189 0.68659576 0.92831863 0.69291623 0.57846088 0.13856938]\n",
      " [0.22185122 0.04365088 0.76932498 0.09539119 0.42455547 0.44145254]\n",
      " [0.84965634 0.28589185 0.06843028 0.41383981 0.80102427 0.63699567]\n",
      " [0.05312306 0.97314427 0.08071642 0.6349148  0.55610434 0.41494801]\n",
      " [0.55566517 0.64571214 0.03946386 0.25993638 0.06027443 0.83578175]] \n",
      "\n",
      "[[0.83080051 0.92835607 0.75626249 0.46878958 0.53774747 0.59225062]\n",
      " [0.51111532 0.16817614 0.68832993 0.33694916 0.15954723 0.59625492]\n",
      " [0.36359515 0.27804709 0.50514427 0.65251597 0.25928867 0.86992658]\n",
      " [0.         0.89152703 0.         0.20238782 0.33321369 0.19943129]\n",
      " [0.56685992 0.92027054 0.         0.7190795  0.40826129 0.8318983 ]\n",
      " [0.82577189 0.68659576 0.92831863 0.69291623 0.57846088 0.13856938]\n",
      " [0.22185122 0.         0.76932498 0.         0.42455547 0.44145254]\n",
      " [0.84965634 0.28589185 0.         0.41383981 0.80102427 0.63699567]\n",
      " [0.         0.97314427 0.         0.6349148  0.55610434 0.41494801]\n",
      " [0.55566517 0.64571214 0.         0.25993638 0.         0.83578175]]\n"
     ]
    }
   ],
   "source": [
    "import numpy.random as npr\n",
    "\n",
    "m=npr.rand(10,6)\n",
    "print(m, \"\\n\")\n",
    "m[m<0.1]=0\n",
    "print(m)"
   ]
  },
  {
   "cell_type": "markdown",
   "metadata": {},
   "source": [
    "4\\. Use np.linspace to create an array of 100 numbers between 0 and 2π (includsive).\n",
    "\n",
    "  * Extract every 10th element using slice notation\n",
    "  * Reverse the array using slice notation\n",
    "  * Extract elements where the absolute difference between the sine and cosine functions evaluated at that element is less than 0.1\n",
    "  * Make a plot showing the sin and cos functions and indicate where they are close"
   ]
  },
  {
   "cell_type": "code",
   "execution_count": 92,
   "metadata": {},
   "outputs": [
    {
     "name": "stdout",
     "output_type": "stream",
     "text": [
      "[0.         0.06346652 0.12693304 0.19039955 0.25386607 0.31733259\n",
      " 0.38079911 0.44426563 0.50773215 0.57119866 0.63466518 0.6981317\n",
      " 0.76159822 0.82506474 0.88853126 0.95199777 1.01546429 1.07893081\n",
      " 1.14239733 1.20586385 1.26933037 1.33279688 1.3962634  1.45972992\n",
      " 1.52319644 1.58666296 1.65012947 1.71359599 1.77706251 1.84052903\n",
      " 1.90399555 1.96746207 2.03092858 2.0943951  2.15786162 2.22132814\n",
      " 2.28479466 2.34826118 2.41172769 2.47519421 2.53866073 2.60212725\n",
      " 2.66559377 2.72906028 2.7925268  2.85599332 2.91945984 2.98292636\n",
      " 3.04639288 3.10985939 3.17332591 3.23679243 3.30025895 3.36372547\n",
      " 3.42719199 3.4906585  3.55412502 3.61759154 3.68105806 3.74452458\n",
      " 3.8079911  3.87145761 3.93492413 3.99839065 4.06185717 4.12532369\n",
      " 4.1887902  4.25225672 4.31572324 4.37918976 4.44265628 4.5061228\n",
      " 4.56958931 4.63305583 4.69652235 4.75998887 4.82345539 4.88692191\n",
      " 4.95038842 5.01385494 5.07732146 5.14078798 5.2042545  5.26772102\n",
      " 5.33118753 5.39465405 5.45812057 5.52158709 5.58505361 5.64852012\n",
      " 5.71198664 5.77545316 5.83891968 5.9023862  5.96585272 6.02931923\n",
      " 6.09278575 6.15625227 6.21971879 6.28318531] \n",
      "\n",
      "[0.57119866 1.20586385 1.84052903 2.47519421 3.10985939 3.74452458\n",
      " 4.37918976 5.01385494 5.64852012 6.28318531] \n",
      "\n",
      "[6.28318531 6.21971879 6.15625227 6.09278575 6.02931923 5.96585272\n",
      " 5.9023862  5.83891968 5.77545316 5.71198664 5.64852012 5.58505361\n",
      " 5.52158709 5.45812057 5.39465405 5.33118753 5.26772102 5.2042545\n",
      " 5.14078798 5.07732146 5.01385494 4.95038842 4.88692191 4.82345539\n",
      " 4.75998887 4.69652235 4.63305583 4.56958931 4.5061228  4.44265628\n",
      " 4.37918976 4.31572324 4.25225672 4.1887902  4.12532369 4.06185717\n",
      " 3.99839065 3.93492413 3.87145761 3.8079911  3.74452458 3.68105806\n",
      " 3.61759154 3.55412502 3.4906585  3.42719199 3.36372547 3.30025895\n",
      " 3.23679243 3.17332591 3.10985939 3.04639288 2.98292636 2.91945984\n",
      " 2.85599332 2.7925268  2.72906028 2.66559377 2.60212725 2.53866073\n",
      " 2.47519421 2.41172769 2.34826118 2.28479466 2.22132814 2.15786162\n",
      " 2.0943951  2.03092858 1.96746207 1.90399555 1.84052903 1.77706251\n",
      " 1.71359599 1.65012947 1.58666296 1.52319644 1.45972992 1.3962634\n",
      " 1.33279688 1.26933037 1.20586385 1.14239733 1.07893081 1.01546429\n",
      " 0.95199777 0.88853126 0.82506474 0.76159822 0.6981317  0.63466518\n",
      " 0.57119866 0.50773215 0.44426563 0.38079911 0.31733259 0.25386607\n",
      " 0.19039955 0.12693304 0.06346652 0.        ] \n",
      "\n",
      "[0.7615982190520711, 0.8250647373064104, 3.8714576135146945, 3.934924131769034] \n",
      "\n"
     ]
    },
    {
     "data": {
      "image/png": "[encoded data removed]",
      "text/plain": [
       "<Figure size 432x288 with 1 Axes>"
      ]
     },
     "metadata": {},
     "output_type": "display_data"
    }
   ],
   "source": [
    "import math as m\n",
    "import matplotlib.pyplot as plt\n",
    "\n",
    "x=np.linspace(0, 2*np.pi,100)\n",
    "print(x,\"\\n\")\n",
    "\n",
    "print(x[9::10], \"\\n\")\n",
    "\n",
    "print(x[::-1], \"\\n\")\n",
    "\n",
    "s=np.sin(x)\n",
    "c=np.cos(x)\n",
    "l=[]\n",
    "\n",
    "for i in range(0,100):\n",
    "    if m.fabs(s[i]-c[i])<0.1:\n",
    "        l.append(x[i])\n",
    "\n",
    "print(l, \"\\n\")\n",
    "\n",
    "plt.plot(x,s);\n",
    "plt.plot(x,c);\n",
    "\n",
    "for xc in l:\n",
    "    plt.axvline(x=xc)\n",
    "\n",
    "\n",
    "\n",
    "\n",
    "\n",
    "\n",
    "\n"
   ]
  },
  {
   "cell_type": "markdown",
   "metadata": {},
   "source": [
    "5\\. Create a matrix that shows the 10 by 10 multiplication table.\n",
    "\n",
    " * Find the trace of the matrix\n",
    " * Extract the anto-diagonal (this should be ```array([10, 18, 24, 28, 30, 30, 28, 24, 18, 10])```)\n",
    " * Extract the diagnoal offset by 1 upwards (this should be ```array([ 2,  6, 12, 20, 30, 42, 56, 72, 90])```)"
   ]
  },
  {
   "cell_type": "code",
   "execution_count": 122,
   "metadata": {},
   "outputs": [
    {
     "name": "stdout",
     "output_type": "stream",
     "text": [
      "[[  1   2   3   4   5   6   7   8   9  10]\n",
      " [  2   4   6   8  10  12  14  16  18  20]\n",
      " [  3   6   9  12  15  18  21  24  27  30]\n",
      " [  4   8  12  16  20  24  28  32  36  40]\n",
      " [  5  10  15  20  25  30  35  40  45  50]\n",
      " [  6  12  18  24  30  36  42  48  54  60]\n",
      " [  7  14  21  28  35  42  49  56  63  70]\n",
      " [  8  16  24  32  40  48  56  64  72  80]\n",
      " [  9  18  27  36  45  54  63  72  81  90]\n",
      " [ 10  20  30  40  50  60  70  80  90 100]]\n",
      "trace: 385 \t 385\n",
      "[10, 18, 24, 28, 30, 30, 28, 24, 18, 10]\n",
      "[2, 6, 12, 20, 30, 42, 56, 72, 90]\n"
     ]
    }
   ],
   "source": [
    "x=np.arange(1,11)\n",
    "y=np.arange(1,11)\n",
    "\n",
    "x=x[:,np.newaxis]\n",
    "y=y[np.newaxis,:]\n",
    "\n",
    "t=x*y\n",
    "print(t)\n",
    "\n",
    "a=np.trace(t)\n",
    "\n",
    "s=0\n",
    "l1=[]\n",
    "l2=[]\n",
    "\n",
    "for i in range(0,10):\n",
    "    s+=t[i,i]\n",
    "    l1.append(t[i,9-i])\n",
    "\n",
    "for i in range(0,9):\n",
    "    l2.append(t[i, i+1])\n",
    "    \n",
    "    \n",
    "print(\"trace:\",a,\"\\t\", s)\n",
    "print(l1)\n",
    "print(l2)\n",
    "\n"
   ]
  },
  {
   "cell_type": "markdown",
   "metadata": {},
   "source": [
    "6\\. Use broadcasting to create a grid of distances\n",
    "\n",
    "Route 66 crosses the following cities in the US: Chicago, Springfield, Saint-Louis, Tulsa, Oklahoma City, Amarillo, Santa Fe, Albuquerque, Flagstaff, Los Angeles\n",
    "The corresponding positions in miles are: 0, 198, 303, 736, 871, 1175, 1475, 1544, 1913, 2448\n",
    "\n",
    "  * Construct a 2D grid of distances among each city along Route 66\n",
    "  * Convert that in km (those savages...)"
   ]
  },
  {
   "cell_type": "code",
   "execution_count": 135,
   "metadata": {},
   "outputs": [
    {
     "name": "stdout",
     "output_type": "stream",
     "text": [
      "[[   0.   316.8  484.8 1177.6 1880.  2360.  2470.4 3060.8 3916.8]\n",
      " [ 316.8    0.   168.   860.8 1563.2 2043.2 2153.6 2744.  3600. ]\n",
      " [ 484.8  168.     0.   692.8 1395.2 1875.2 1985.6 2576.  3432. ]\n",
      " [1177.6  860.8  692.8    0.   702.4 1182.4 1292.8 1883.2 2739.2]\n",
      " [1880.  1563.2 1395.2  702.4    0.   480.   590.4 1180.8 2036.8]\n",
      " [2360.  2043.2 1875.2 1182.4  480.     0.   110.4  700.8 1556.8]\n",
      " [2470.4 2153.6 1985.6 1292.8  590.4  110.4    0.   590.4 1446.4]\n",
      " [3060.8 2744.  2576.  1883.2 1180.8  700.8  590.4    0.   856. ]\n",
      " [3916.8 3600.  3432.  2739.2 2036.8 1556.8 1446.4  856.     0. ]]\n"
     ]
    }
   ],
   "source": [
    "import math \n",
    "a=np.array([0,198,303,736,1175,1475,1544,1913,2448])\n",
    "x=a[:,np.newaxis]\n",
    "y=a[np.newaxis,:]\n",
    "m=abs(x-y)\n",
    "m=m*1.6\n",
    "print(m)"
   ]
  },
  {
   "cell_type": "markdown",
   "metadata": {},
   "source": [
    "7\\. Prime numbers sieve: compute the prime numbers in the 0-N (N=99 to start with) range with a sieve (mask).\n",
    "  * Constract a shape (100,) boolean array, the mask\n",
    "  * Identify the multiples of each number starting from 2 and set accordingly the corresponding mask element\n",
    "  * Apply the mask to obtain an array of ordered prime numbers\n",
    "  * Check the performances (timeit); how does it scale with N?\n",
    "  * Implement the optimization suggested in the [sieve of Eratosthenes](https://en.wikipedia.org/wiki/Sieve_of_Eratosthenes)"
   ]
  },
  {
   "cell_type": "code",
   "execution_count": 5,
   "metadata": {},
   "outputs": [
    {
     "name": "stdout",
     "output_type": "stream",
     "text": [
      "[ 0  1  2  3  5  7 11 13 17 19 23 29 31 37 41 43 47 53 59 61 67 71 73 79\n",
      " 83 89 97]\n",
      "2.14 ms ± 129 µs per loop (mean ± std. dev. of 7 runs, 100 loops each)\n",
      "[ 0  1  2  3  5  7 11 13 17 19 23 29 31 37 41 43 47 53 59 61 67 71 73 79\n",
      " 83 89 97]\n",
      "111 µs ± 1.66 µs per loop (mean ± std. dev. of 7 runs, 10000 loops each)\n"
     ]
    }
   ],
   "source": [
    "import timeit as t\n",
    "import numpy as np\n",
    "\n",
    "\n",
    "def primi(l):\n",
    "    for i in range(2,100):\n",
    "        for j in range(i+1,100):\n",
    "            if a[j]%i==0 and i!=j:\n",
    "                l[j]=False\n",
    "    return\n",
    "\n",
    "\n",
    "a=np.arange(0,100)\n",
    "l=[]\n",
    "for i in range(0,100):\n",
    "    l.append(True)\n",
    "    \n",
    "mask2=np.array(l)\n",
    "\n",
    "primi(l)\n",
    "\n",
    "\n",
    "mask=np.array(l)\n",
    "\n",
    "    \n",
    "print(a[mask])\n",
    "%timeit primi(l)\n",
    "\n",
    "def primi2(l):\n",
    "    for i in range(2,100):  \n",
    "        if l[i]==True:\n",
    "            q=2\n",
    "            while i*q<100:\n",
    "                l[i*q]=False\n",
    "                q+=1\n",
    "    return\n",
    "\n",
    "primi2(mask2)\n",
    "    \n",
    "    \n",
    "print(a[mask2])\n",
    "\n",
    "%timeit primi2(mask2)\n",
    "\n",
    "\n",
    "\n",
    "\n",
    "\n",
    "\n",
    "\n"
   ]
  },
  {
   "cell_type": "markdown",
   "metadata": {},
   "source": [
    "8\\. Diffusion using random walk\n",
    "\n",
    "Consider a simple random walk process: at each step in time, a walker jumps right or left (+1 or -1) with equal probability. The goal is to find the typical distance from the origin of a random walker after a given amount of time. \n",
    "To do that, let's simulate many walkers and create a 2D array with each walker as a raw and the actual time evolution as columns\n",
    "\n",
    "  * Take 1000 walkers and let them walk for 200 steps\n",
    "  * Use randint to create a 2D array of size walkers x steps with values -1 or 1\n",
    "  * Build the actual walking distances for each walker (i.e. another 2D array \"summing on each raw\")\n",
    "  * Take the square of that 2D array (elementwise)\n",
    "  * Compute the mean of the squared distances at each step (i.e. the mean along the columns)\n",
    "  * Plot the average distances (sqrt(distance\\*\\*2)) as a function of time (step)\n",
    "  \n",
    "Did you get what you expected?"
   ]
  },
  {
   "cell_type": "code",
   "execution_count": 213,
   "metadata": {},
   "outputs": [
    {
     "name": "stdout",
     "output_type": "stream",
     "text": [
      "[[ -1.   0.   1. ...  16.  17.  16.]\n",
      " [  1.   2.   3. ...   8.   7.   6.]\n",
      " [ -1.   0.  -1. ... -10. -11. -12.]\n",
      " ...\n",
      " [ -1.  -2.  -3. ...  12.  11.  10.]\n",
      " [  1.   0.  -1. ...  -8.  -7.  -8.]\n",
      " [ -1.  -2.  -3. ...  -8.  -9.  -8.]]\n"
     ]
    },
    {
     "data": {
      "text/plain": [
       "[<matplotlib.lines.Line2D at 0x2024d55e198>]"
      ]
     },
     "execution_count": 213,
     "metadata": {},
     "output_type": "execute_result"
    },
    {
     "data": {
      "image/png": "[encoded data removed]",
      "text/plain": [
       "<Figure size 432x288 with 1 Axes>"
      ]
     },
     "metadata": {},
     "output_type": "display_data"
    }
   ],
   "source": [
    "import numpy.random as npr\n",
    "import math\n",
    "\n",
    "a=npr.randint(0,2,200*1000).reshape(1000,200)\n",
    "a[a==0]=-1\n",
    "\n",
    "b=np.zeros((1000,200))\n",
    "\n",
    "for i in range(1000):\n",
    "    for j in range(200):\n",
    "        q=0\n",
    "        s=0\n",
    "        for k in range(j+1):\n",
    "            s+=a[i,k]\n",
    "        b[i,j]=s\n",
    "\n",
    "print(b)\n",
    "b=b**2\n",
    "m=b.sum(axis=0)/1000\n",
    "\n",
    "plt.plot(range(200), m)\n"
   ]
  },
  {
   "cell_type": "markdown",
   "metadata": {},
   "source": [
    "9\\. Analyze a data file \n",
    "  * Download the population of hares, lynxes and carrots at the beginning of the last century.\n",
    "    ```python\n",
    "    ! wget https://www.dropbox.com/s/3vigxoqayo389uc/populations.txt\n",
    "    ```\n",
    "\n",
    "  * Check the content by looking within the file\n",
    "  * Load the data (use an appropriate numpy method) into a 2D array\n",
    "  * Create arrays out of the columns, the arrays being (in order): *year*, *hares*, *lynxes*, *carrots* \n",
    "  * Plot the 3 populations over the years\n",
    "  * Compute the main statistical properties of the dataset (mean, std, correlations, etc.)\n",
    "  * Which species has the highest population each year?\n",
    "\n",
    "Do you feel there is some evident correlation here? [Studies](https://www.enr.gov.nt.ca/en/services/lynx/lynx-snowshoe-hare-cycle) tend to believe so."
   ]
  },
  {
   "cell_type": "code",
   "execution_count": 220,
   "metadata": {},
   "outputs": [
    {
     "name": "stdout",
     "output_type": "stream",
     "text": [
      "[[ 1900. 30000.  4000. 48300.]\n",
      " [ 1901. 47200.  6100. 48200.]\n",
      " [ 1902. 70200.  9800. 41500.]\n",
      " [ 1903. 77400. 35200. 38200.]\n",
      " [ 1904. 36300. 59400. 40600.]\n",
      " [ 1905. 20600. 41700. 39800.]\n",
      " [ 1906. 18100. 19000. 38600.]\n",
      " [ 1907. 21400. 13000. 42300.]\n",
      " [ 1908. 22000.  8300. 44500.]\n",
      " [ 1909. 25400.  9100. 42100.]\n",
      " [ 1910. 27100.  7400. 46000.]\n",
      " [ 1911. 40300.  8000. 46800.]\n",
      " [ 1912. 57000. 12300. 43800.]\n",
      " [ 1913. 76600. 19500. 40900.]\n",
      " [ 1914. 52300. 45700. 39400.]\n",
      " [ 1915. 19500. 51100. 39000.]\n",
      " [ 1916. 11200. 29700. 36700.]\n",
      " [ 1917.  7600. 15800. 41800.]\n",
      " [ 1918. 14600.  9700. 43300.]\n",
      " [ 1919. 16200. 10100. 41300.]\n",
      " [ 1920. 24700.  8600. 47300.]]\n",
      "\n",
      "hare:  34080.95238095238  +-  995.1384027661746\n",
      "linx:  20166.666666666668  +-  774.0281684242268\n",
      "carrots:  42400.0  +-  158.21458217068945\n",
      "\n",
      "correlation hare-linx:  [1.494612e+10]\n",
      "correlation hare-carrots:  [3.032147e+10]\n",
      "correlation carrots-linx:  [1.718454e+10] \n",
      "\n",
      "1900.0 : carrots\n",
      "1901.0 : carrots\n",
      "1902.0 : hare\n",
      "1903.0 : hare\n",
      "1904.0 : linx\n",
      "1905.0 : linx\n",
      "1906.0 : carrots\n",
      "1907.0 : carrots\n",
      "1908.0 : carrots\n",
      "1909.0 : carrots\n",
      "1910.0 : carrots\n",
      "1911.0 : carrots\n",
      "1912.0 : hare\n",
      "1913.0 : hare\n",
      "1914.0 : hare\n",
      "1915.0 : linx\n",
      "1916.0 : carrots\n",
      "1917.0 : carrots\n",
      "1918.0 : carrots\n",
      "1919.0 : carrots\n",
      "1920.0 : carrots\n"
     ]
    },
    {
     "data": {
      "image/png": "[encoded data removed]",
      "text/plain": [
       "<Figure size 432x288 with 1 Axes>"
      ]
     },
     "metadata": {},
     "output_type": "display_data"
    }
   ],
   "source": [
    "a=np.loadtxt('populations.txt')\n",
    "print(a)\n",
    "y=a[:,0]\n",
    "h=a[:,1]\n",
    "l=a[:,2]\n",
    "c=a[:,3]\n",
    "\n",
    "plt.plot(y,h);\n",
    "plt.plot(y,l);\n",
    "plt.plot(y,c);\n",
    "\n",
    "ml=l.mean()\n",
    "sl=l.std()/len(l)\n",
    "mh=h.mean()\n",
    "sh=h.std()/len(h)\n",
    "mc=c.mean()\n",
    "sc=c.std()/len(c)\n",
    "\n",
    "clh=np.correlate(l,h)\n",
    "clc=np.correlate(l,c)\n",
    "chc=np.correlate(h,c)\n",
    "\n",
    "print(\"\\nhare: \", mh, \" +- \", sh)\n",
    "print(\"linx: \", ml, \" +- \", sl)\n",
    "print(\"carrots: \", mc, \" +- \", sc)\n",
    "\n",
    "print(\"\\ncorrelation hare-linx: \", clh)\n",
    "print(\"correlation hare-carrots: \", chc)\n",
    "print(\"correlation carrots-linx: \", clc, \"\\n\")\n",
    "\n",
    "l=[]\n",
    "\n",
    "\n",
    "for i in range(0,len(y)):\n",
    "    l.append(np.argmax(a[i,1:4]))\n",
    "\n",
    "for i in range(0,len(l)):\n",
    "    if l[i]==0:\n",
    "        print(y[i], \": hare\")\n",
    "    if l[i]==1:\n",
    "        print(y[i], \": linx\") \n",
    "    if l[i]==2:\n",
    "        print(y[i], \": carrots\")"
   ]
  },
  {
   "cell_type": "code",
   "execution_count": null,
   "metadata": {},
   "outputs": [],
   "source": []
  },
  {
   "cell_type": "code",
   "execution_count": null,
   "metadata": {},
   "outputs": [],
   "source": []
  }
 ],
 "metadata": {
  "kernelspec": {
   "display_name": "Python 3",
   "language": "python",
   "name": "python3"
  },
  "language_info": {
   "codemirror_mode": {
    "name": "ipython",
    "version": 3
   },
   "file_extension": ".py",
   "mimetype": "text/x-python",
   "name": "python",
   "nbconvert_exporter": "python",
   "pygments_lexer": "ipython3",
   "version": "3.6.5"
  }
 },
 "nbformat": 4,
 "nbformat_minor": 2
}
