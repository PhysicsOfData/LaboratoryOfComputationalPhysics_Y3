{
 "cells": [
  {
   "cell_type": "markdown",
   "metadata": {},
   "source": [
    "### Numpy basics"
   ]
  },
  {
   "cell_type": "markdown",
   "metadata": {},
   "source": [
    "1\\. Find the row, column and overall means for the following matrix:\n",
    "\n",
    "```python\n",
    "m = np.arange(12).reshape((3,4))\n",
    "```"
   ]
  },
  {
   "cell_type": "code",
   "execution_count": 4,
   "metadata": {},
   "outputs": [
    {
     "name": "stdout",
     "output_type": "stream",
     "text": [
      "Overall dimension (3, 4) with 3 rows and with 4 columns.\n"
     ]
    }
   ],
   "source": [
    "import numpy as np\n",
    "m = np.arange(12).reshape((3,4))\n",
    "print(\"Overall dimension\",m.shape,\"with {} rows\".format(m.shape[0]), \"and with {} columns.\".format(m.shape[1]))"
   ]
  },
  {
   "cell_type": "markdown",
   "metadata": {},
   "source": [
    "2\\. Find the outer product of the following two vecotrs\n",
    "\n",
    "```python\n",
    "u = np.array([1,3,5,7])\n",
    "v = np.array([2,4,6,8])\n",
    "```\n",
    "\n",
    "Do this in the following ways:\n",
    "\n",
    "   * Using the function outer in numpy\n",
    "   * Using a nested for loop or list comprehension\n",
    "   * Using numpy broadcasting operatoins\n"
   ]
  },
  {
   "cell_type": "code",
   "execution_count": 2,
   "metadata": {},
   "outputs": [
    {
     "name": "stdout",
     "output_type": "stream",
     "text": [
      "[[ 2  4  6  8]\n",
      " [ 6 12 18 24]\n",
      " [10 20 30 40]\n",
      " [14 28 42 56]]\n",
      "[[ 2  4  6  8]\n",
      " [ 6 12 18 24]\n",
      " [10 20 30 40]\n",
      " [14 28 42 56]]\n",
      "[[ 2  4  6  8]\n",
      " [ 6 12 18 24]\n",
      " [10 20 30 40]\n",
      " [14 28 42 56]]\n"
     ]
    }
   ],
   "source": [
    "import numpy as np\n",
    "u = np.array([1,3,5,7])\n",
    "v = np.array([2,4,6,8])\n",
    "#a)\n",
    "print(np.outer(u,v))\n",
    "#b)\n",
    "t=np.array([(i*j) for i in u for j in v]).reshape(len(u),len(v))\n",
    "print(t)\n",
    "#c)\n",
    "print(u.reshape(4,1)*v)\n"
   ]
  },
  {
   "cell_type": "markdown",
   "metadata": {},
   "source": [
    "3\\. Create a 10 by 6 matrix of random uniform numbers. Set all rows with any entry less than 0.1 to be zero\n",
    "\n",
    "Hint: Use the following numpy functions - np.random.random, np.any as well as Boolean indexing and the axis argument."
   ]
  },
  {
   "cell_type": "code",
   "execution_count": 26,
   "metadata": {},
   "outputs": [
    {
     "name": "stdout",
     "output_type": "stream",
     "text": [
      "[[0.99419111 0.97848299 0.         0.23772731 0.         0.        ]\n",
      " [0.63788039 0.         0.2887605  0.67165072 0.5622445  0.98528196]\n",
      " [0.52489701 0.1946141  0.15121846 0.21731996 0.60974325 0.6232687 ]\n",
      " [0.42688571 0.         0.30368347 0.         0.31281645 0.21007431]\n",
      " [0.89539396 0.17028794 0.3199478  0.63550342 0.78396444 0.27729806]\n",
      " [0.75747946 0.         0.54232089 0.10558025 0.13049798 0.94807678]\n",
      " [0.5502631  0.60648649 0.69115228 0.21665491 0.82833389 0.44607444]\n",
      " [0.34492516 0.32988791 0.57385324 0.21326511 0.80395678 0.67446403]\n",
      " [0.52690429 0.34665669 0.4025543  0.98858413 0.         0.16234151]\n",
      " [0.45778432 0.54545581 0.72915652 0.39828707 0.         0.64299553]]\n"
     ]
    }
   ],
   "source": [
    "import numpy as np\n",
    "import numpy.random as npr\n",
    "\n",
    "a=npr.rand(10,6)\n",
    "mask=(a<0.1)\n",
    "a[mask]=0\n",
    "print(a)"
   ]
  },
  {
   "cell_type": "markdown",
   "metadata": {},
   "source": [
    "4\\. Use np.linspace to create an array of 100 numbers between 0 and 2π (includsive).\n",
    "\n",
    "  * Extract every 10th element using slice notation\n",
    "  * Reverse the array using slice notation\n",
    "  * Extract elements where the absolute difference between the sine and cosine functions evaluated at that element is less than 0.1\n",
    "  * Make a plot showing the sin and cos functions and indicate where they are close"
   ]
  },
  {
   "cell_type": "code",
   "execution_count": 4,
   "metadata": {},
   "outputs": [
    {
     "name": "stdout",
     "output_type": "stream",
     "text": [
      "The points where sine and cosine are near are: [0.75398224 0.81681409 3.83274304 3.89557489]\n"
     ]
    },
    {
     "data": {
      "text/plain": [
       "[<matplotlib.lines.Line2D at 0x7f598de1d510>,\n",
       " <matplotlib.lines.Line2D at 0x7f598dded9d0>]"
      ]
     },
     "execution_count": 4,
     "metadata": {},
     "output_type": "execute_result"
    },
    {
     "data": {
      "image/png": "[encoded data removed]",
      "text/plain": [
       "<Figure size 432x288 with 1 Axes>"
      ]
     },
     "metadata": {
      "needs_background": "light"
     },
     "output_type": "display_data"
    }
   ],
   "source": [
    "import numpy as np\n",
    "import matplotlib.pyplot as plt\n",
    "\n",
    "xs = np.linspace(0, 2*np.pi, 100)\n",
    "#reverse(changing order of element in the array)\n",
    "a=xs[::-1]\n",
    "#print(a)\n",
    "#looking for x such as sine(x) is close to cosine(x) \n",
    "l=[]\n",
    "Sin = np.sin(xs)\n",
    "Cos = np.cos(xs)\n",
    "for i,j in enumerate(Sin):\n",
    "    if (Sin[i]-Cos[i]<0.1 and Sin[i]-Cos[i]>-0.1):\n",
    "        l.append(i)\n",
    "Near=np.array(l)\n",
    "print(\"The points where sine and cosine are near are:\",Near/100*2*np.pi)\n",
    "plt.plot(xs,Sin,xs,Cos,)"
   ]
  },
  {
   "cell_type": "markdown",
   "metadata": {},
   "source": [
    "5\\. Create a matrix that shows the 10 by 10 multiplication table.\n",
    "\n",
    " * Find the trace of the matrix\n",
    " * Extract the anto-diagonal (this should be ```array([10, 18, 24, 28, 30, 30, 28, 24, 18, 10])```)\n",
    " * Extract the diagnoal offset by 1 upwards (this should be ```array([ 2,  6, 12, 20, 30, 42, 56, 72, 90])```)"
   ]
  },
  {
   "cell_type": "code",
   "execution_count": 5,
   "metadata": {},
   "outputs": [
    {
     "name": "stdout",
     "output_type": "stream",
     "text": [
      "385\n",
      "(10, 18, 24, 28, 30, 30, 28, 24, 18, 10)\n",
      "(2, 6, 12, 20, 30, 42, 56, 72, 90)\n"
     ]
    }
   ],
   "source": [
    "import numpy as np\n",
    "\n",
    "#array definition\n",
    "a=np.array([(i*j) for i in range(1,11) for j in range(1,11)])\n",
    "b=a.reshape(10,10) \n",
    "#print(b)\n",
    "#computation of requested quantities\n",
    "trace=0\n",
    "antodiagonal=()\n",
    "offset=()\n",
    "for i in range(0,10):\n",
    "    trace+=b[i][i]\n",
    "    antodiagonal+=(b[9-i][i],)\n",
    "    if i>0:\n",
    "        offset+=(b[i][i-1],)\n",
    "print(trace)\n",
    "print(antodiagonal)\n",
    "print(offset)\n",
    "\n"
   ]
  },
  {
   "cell_type": "markdown",
   "metadata": {},
   "source": [
    "6\\. Use broadcasting to create a grid of distances\n",
    "\n",
    "Route 66 crosses the following cities in the US: Chicago, Springfield, Saint-Louis, Tulsa, Oklahoma City, Amarillo, Santa Fe, Albuquerque, Flagstaff, Los Angeles\n",
    "The corresponding positions in miles are: 0, 198, 303, 736, 871, 1175, 1475, 1544, 1913, 2448\n",
    "\n",
    "  * Construct a 2D grid of distances among each city along Route 66\n",
    "  * Convert that in km (those savages...)"
   ]
  },
  {
   "cell_type": "code",
   "execution_count": 6,
   "metadata": {},
   "outputs": [
    {
     "name": "stdout",
     "output_type": "stream",
     "text": [
      "[[   0.  198.  303.  736.  871. 1175. 1475. 1544. 1913. 2448.]\n",
      " [ 198.    0.  105.  538.  673.  977. 1277. 1346. 1715. 2250.]\n",
      " [ 303.  105.    0.  433.  568.  872. 1172. 1241. 1610. 2145.]\n",
      " [ 736.  538.  433.    0.  135.  439.  739.  808. 1177. 1712.]\n",
      " [ 871.  673.  568.  135.    0.  304.  604.  673. 1042. 1577.]\n",
      " [1175.  977.  872.  439.  304.    0.  300.  369.  738. 1273.]\n",
      " [1475. 1277. 1172.  739.  604.  300.    0.   69.  438.  973.]\n",
      " [1544. 1346. 1241.  808.  673.  369.   69.    0.  369.  904.]\n",
      " [1913. 1715. 1610. 1177. 1042.  738.  438.  369.    0.  535.]\n",
      " [2448. 2250. 2145. 1712. 1577. 1273.  973.  904.  535.    0.]]\n"
     ]
    }
   ],
   "source": [
    "import numpy as np\n",
    "import math as m\n",
    "Miles=np.array([0, 198, 303, 736, 871, 1175, 1475, 1544, 1913, 2448])\n",
    "#building the distance table\n",
    "TabMiles=np.array([(m.fabs(i-j))for i in Miles for j in Miles])\n",
    "#converting in a reasonable unit of measure\n",
    "TabKM=TabMiles*1.60934\n",
    "print(TabMiles.reshape(len(Miles),len(Miles)))\n",
    "#print(TabKM.reshape(len(Miles),len(Miles)))\n"
   ]
  },
  {
   "cell_type": "markdown",
   "metadata": {},
   "source": [
    "7\\. Prime numbers sieve: compute the prime numbers in the 0-N (N=99 to start with) range with a sieve (mask).\n",
    "  * Constract a shape (100,) boolean array, the mask\n",
    "  * Identify the multiples of each number starting from 2 and set accordingly the corresponding mask element\n",
    "  * Apply the mask to obtain an array of ordered prime numbers\n",
    "  * Check the performances (timeit); how does it scale with N?\n",
    "  * Implement the optimization suggested in the [sieve of Eratosthenes](https://en.wikipedia.org/wiki/Sieve_of_Eratosthenes)"
   ]
  },
  {
   "cell_type": "code",
   "execution_count": 9,
   "metadata": {},
   "outputs": [
    {
     "name": "stdout",
     "output_type": "stream",
     "text": [
      "[ 1  2  3  5  7 11 13 17 19 23 29 31 37 41 43 47 53 59 61 67 71 73 79 83\n",
      " 89 97]\n",
      "[ 1  2  3  5  7 11 13 17 19 23 29 31 37 41 43 47 53 59 61 67 71 73 79 83\n",
      " 89 97]\n"
     ]
    }
   ],
   "source": [
    "import numpy as np\n",
    "import math as m\n",
    "\n",
    "\n",
    "def Primes(N):\n",
    "    candidates=np.arange(1,N)\n",
    "    for i in candidates:\n",
    "        if(i==1):\n",
    "            continue\n",
    "        for j in range(2,N):#not 1, it would check if N==N*1, always true\n",
    "            if i*j>N:\n",
    "                break\n",
    "            mask=(candidates==(i*j))\n",
    "            candidates[candidates==(i*j)]=N+1#push not primes out of range\n",
    "    chosen=candidates<N #keeping only the one in the range\n",
    "    return candidates[chosen]\n",
    "\n",
    "print(Primes(99))\n",
    "#%timeit Primes(99)\n",
    "#%timeit Primes(500)\n",
    "#%timeit Primes(999)\n",
    "#%timeit Primes(5000)\n",
    "#%timeit Primes(9999)\n",
    "#performances seem to scale parabolically (t goes like N^2), since the number of element to check go like N\n",
    "#as well as the multiples to compute\n",
    "\n",
    "def Eratosthenes(N):\n",
    "    candidates=np.full(N,True)#creates array of  True, works only for NumPy>1.8  \n",
    "    for i in range(2,N):\n",
    "        if(i>m.sqrt(N)):\n",
    "            break\n",
    "        if(candidates[i]==True):\n",
    "            for j in range(i**2,N,i):\n",
    "                candidates[j]=False\n",
    "    chosen=np.array([i for i in range(2,N) if candidates[i]==True])\n",
    "    return np.concatenate((np.array([1]),chosen))\n",
    "print(Eratosthenes(99))\n",
    "#%timeit Eratosthenes(99)"
   ]
  },
  {
   "cell_type": "markdown",
   "metadata": {},
   "source": [
    "8\\. Diffusion using random walk\n",
    "\n",
    "Consider a simple random walk process: at each step in time, a walker jumps right or left (+1 or -1) with equal probability. The goal is to find the typical distance from the origin of a random walker after a given amount of time. \n",
    "To do that, let's simulate many walkers and create a 2D array with each walker as a raw and the actual time evolution as columns\n",
    "\n",
    "  * Take 1000 walkers and let them walk for 200 steps\n",
    "  * Use randint to create a 2D array of size walkers x steps with values -1 or 1\n",
    "  * Build the actual walking distances for each walker (i.e. another 2D array \"summing on each raw\")\n",
    "  * Take the square of that 2D array (elementwise)\n",
    "  * Compute the mean of the squared distances at each step (i.e. the mean along the columns)\n",
    "  * Plot the average distances (sqrt(distance\\*\\*2)) as a function of time (step)\n",
    "  \n",
    "Did you get what you expected?"
   ]
  },
  {
   "cell_type": "code",
   "execution_count": 10,
   "metadata": {},
   "outputs": [
    {
     "data": {
      "text/plain": [
       "[<matplotlib.lines.Line2D at 0x7f598ce7ee50>]"
      ]
     },
     "execution_count": 10,
     "metadata": {},
     "output_type": "execute_result"
    },
    {
     "data": {
      "image/png": "[encoded data removed]",
      "text/plain": [
       "<Figure size 432x288 with 1 Axes>"
      ]
     },
     "metadata": {
      "needs_background": "light"
     },
     "output_type": "display_data"
    }
   ],
   "source": [
    "import numpy as np\n",
    "import numpy.random as npr\n",
    "import matplotlib.pyplot as plt\n",
    "\n",
    "Walk=np.zeros((1000,200))\n",
    "Paths=npr.randint(-1,1,size=(1000,200))\n",
    "#time evolution, every i is a \"path-time\"\n",
    "for i in range(0,200):\n",
    "    if i==0:\n",
    "        for j in range(0,1000):\n",
    "            Walk[j][0]=Paths[j][0]#start from 0 and add first path\n",
    "    for j in range(0,1000):\n",
    "            Walk[j][i]=Walk[j][i-1]+Paths[j][i]#start from previuos position and add path\n",
    "#computation of average distances and plots\n",
    "Walk=Walk*Walk\n",
    "Means=np.array(Walk.mean(axis=0))\n",
    "Distances=np.sqrt(Means)\n",
    "time=np.arange(200)\n",
    "plt.plot(time,Distances)\n",
    "#the quadratic mean distance of a brownian regime is supposed to be directly proportional to the time\n",
    "#so the result are in agreement with the theory\n",
    "#while the line seem perfect, printing the distances show it is not so, so indeed we have just good statistics\n",
    "#and the data are \"not\" rigged"
   ]
  },
  {
   "cell_type": "markdown",
   "metadata": {},
   "source": [
    "9\\. Analyze a data file \n",
    "  * Download the population of hares, lynxes and carrots at the beginning of the last century.\n",
    "    ```python\n",
    "    ! wget https://www.dropbox.com/s/3vigxoqayo389uc/populations.txt\n",
    "    ```\n",
    "\n",
    "  * Check the content by looking within the file\n",
    "  * Load the data (use an appropriate numpy method) into a 2D array\n",
    "  * Create arrays out of the columns, the arrays being (in order): *year*, *hares*, *lynxes*, *carrots* \n",
    "  * Plot the 3 populations over the years\n",
    "  * Compute the main statistical properties of the dataset (mean, std, correlations, etc.)\n",
    "  * Which species has the highest population each year?\n",
    "\n",
    "Do you feel there is some evident correlation here? [Studies](https://www.enr.gov.nt.ca/en/services/lynx/lynx-snowshoe-hare-cycle) tend to believe so."
   ]
  },
  {
   "cell_type": "code",
   "execution_count": 19,
   "metadata": {},
   "outputs": [
    {
     "name": "stdout",
     "output_type": "stream",
     "text": [
      "Hares: Mean 34080.95238095238 ,standard deviation 20897.906458089667\n",
      "max population: 77400.0 min population: 7600.0 \n",
      "\n",
      "Lynxes: Mean 20166.666666666668 ,standard deviation 16254.591536908763\n",
      "max population: 59400.0 min population: 4000.0 \n",
      "\n",
      "Carrots: Mean 42400.0 ,standard deviation 3322.5062255844787\n",
      "max population: 48300.0 min population: 36700.0 \n",
      "\n",
      "In year 1900 the population with biggest population was the carrots' one\n",
      "In year 1901 the population with biggest population was the carrots' one\n",
      "In year 1902 the population with biggest population was the hares' one\n",
      "In year 1903 the population with biggest population was the hares' one\n",
      "In year 1904 the population with biggest population was the lynxes' one\n",
      "In year 1905 the population with biggest population was the lynxes' one\n",
      "In year 1906 the population with biggest population was the carrots' one\n",
      "In year 1907 the population with biggest population was the carrots' one\n",
      "In year 1908 the population with biggest population was the carrots' one\n",
      "In year 1909 the population with biggest population was the carrots' one\n",
      "In year 1910 the population with biggest population was the carrots' one\n",
      "In year 1911 the population with biggest population was the carrots' one\n",
      "In year 1912 the population with biggest population was the hares' one\n",
      "In year 1913 the population with biggest population was the hares' one\n",
      "In year 1914 the population with biggest population was the hares' one\n",
      "In year 1915 the population with biggest population was the lynxes' one\n",
      "In year 1916 the population with biggest population was the carrots' one\n",
      "In year 1917 the population with biggest population was the carrots' one\n",
      "In year 1918 the population with biggest population was the carrots' one\n",
      "In year 1919 the population with biggest population was the carrots' one\n",
      "In year 1920 the population with biggest population was the carrots' one\n"
     ]
    },
    {
     "data": {
      "image/png": "[encoded data removed]",
      "text/plain": [
       "<Figure size 432x288 with 1 Axes>"
      ]
     },
     "metadata": {
      "needs_background": "light"
     },
     "output_type": "display_data"
    }
   ],
   "source": [
    "import numpy as np\n",
    "import matplotlib.pyplot as plt\n",
    "#! wget https://www.dropbox.com/s/3vigxoqayo389uc/populations.txt\n",
    "%matplotlib inline\n",
    "\n",
    "#getting the data\n",
    "Data=np.loadtxt(\"populations.txt\",skiprows=1)\n",
    "Years=Data[:,0]\n",
    "Hares=Data[:,1]\n",
    "Lynxes=Data[:,2]\n",
    "Carrots=Data[:,3]\n",
    "\n",
    "#plots\n",
    "plt.plot(Years,Hares,color=\"green\",label=\"Hares\")\n",
    "plt.plot(Years,Lynxes,color=\"brown\",label=\"Lynxes\")\n",
    "plt.plot(Years,Carrots,color=\"orange\",label=\"Carrots\")\n",
    "plt.xticks([1900+5*k for k in range(0,5)])#I didn't like xlabels like 1902.5 appearing by default\n",
    "plt.legend(loc=\"upper left\")\n",
    "\n",
    "#really basic statistical analysis\n",
    "print(\"Hares: Mean\",Hares.mean(),\",standard deviation\",Hares.std())\n",
    "print(\"max population:\",Hares.max(),\"min population:\",Hares.min(),'\\n')\n",
    "print(\"Lynxes: Mean\",Lynxes.mean(),\",standard deviation\",Lynxes.std())\n",
    "print(\"max population:\",Lynxes.max(),\"min population:\",Lynxes.min(),'\\n')\n",
    "print(\"Carrots: Mean\",Carrots.mean(),\",standard deviation\",Carrots.std())\n",
    "print(\"max population:\",Carrots.max(),\"min population:\",Carrots.min(),'\\n')\n",
    "\n",
    "#max population for each year\n",
    "for i in range(0,len(Years)):\n",
    "    if Hares[i]>Lynxes[i] and Hares[i]>Carrots[i]:\n",
    "        print(\"In year\", int(Years[i]),\"the population with biggest population was the hares' one\")\n",
    "    if Lynxes[i]>Hares[i] and Lynxes[i]>Carrots[i]:\n",
    "        print(\"In year\", int(Years[i]),\"the population with biggest population was the lynxes' one\")\n",
    "    if Carrots[i]>Lynxes[i] and Carrots[i]>Hares[i]:\n",
    "        print(\"In year\", int(Years[i]),\"the population with biggest population was the carrots' one\")\n",
    "#as pointed out by the article, the populations are linked by the prey-predator relation"
   ]
  },
  {
   "cell_type": "code",
   "execution_count": null,
   "metadata": {},
   "outputs": [],
   "source": []
  }
 ],
 "metadata": {
  "kernelspec": {
   "display_name": "Python 3",
   "language": "python",
   "name": "python3"
  },
  "language_info": {
   "codemirror_mode": {
    "name": "ipython",
    "version": 3
   },
   "file_extension": ".py",
   "mimetype": "text/x-python",
   "name": "python",
   "nbconvert_exporter": "python",
   "pygments_lexer": "ipython3",
   "version": "3.7.6"
  }
 },
 "nbformat": 4,
 "nbformat_minor": 2
}
