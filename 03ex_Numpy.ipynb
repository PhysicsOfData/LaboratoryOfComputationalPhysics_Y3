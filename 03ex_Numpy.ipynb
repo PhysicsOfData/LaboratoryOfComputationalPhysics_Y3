{
 "cells": [
  {
   "cell_type": "markdown",
   "metadata": {},
   "source": [
    "### Numpy basics"
   ]
  },
  {
   "cell_type": "markdown",
   "metadata": {},
   "source": [
    "1\\. Find the row, column and overall means for the following matrix:\n",
    "\n",
    "```python\n",
    "m = np.arange(12).reshape((3,4))\n",
    "```"
   ]
  },
  {
   "cell_type": "code",
   "execution_count": 14,
   "metadata": {},
   "outputs": [
    {
     "name": "stdout",
     "output_type": "stream",
     "text": [
      "[[ 0  1  2  3]\n",
      " [ 4  5  6  7]\n",
      " [ 8  9 10 11]]\n",
      "\n",
      "\n",
      "1.5\n",
      "5.5\n",
      "9.5\n",
      "\n",
      "\n",
      "4.0\n",
      "5.0\n",
      "6.0\n",
      "7.0\n",
      "\n",
      "\n",
      "5.5\n"
     ]
    }
   ],
   "source": [
    "import numpy as np\n",
    "\n",
    "m = np.arange(12).reshape((3,4))\n",
    "print(m)\n",
    "\n",
    "print(\"\\n\")\n",
    "\n",
    "for i in range(3):\n",
    "    print(np.mean(m[i,::]))\n",
    "    \n",
    "print(\"\\n\")\n",
    "\n",
    "for j in range(4):\n",
    "    print(np.mean(m[::,j]))\n",
    "    \n",
    "print(\"\\n\")\n",
    "\n",
    "print(np.mean(m))\n"
   ]
  },
  {
   "cell_type": "markdown",
   "metadata": {},
   "source": [
    "2\\. Find the outer product of the following two vecotrs\n",
    "\n",
    "```python\n",
    "u = np.array([1,3,5,7])\n",
    "v = np.array([2,4,6,8])\n",
    "```\n",
    "\n",
    "Do this in the following ways:\n",
    "\n",
    "   * Using the function outer in numpy\n",
    "   * Using a nested for loop or list comprehension\n",
    "   * Using numpy broadcasting operatoins\n"
   ]
  },
  {
   "cell_type": "code",
   "execution_count": 30,
   "metadata": {},
   "outputs": [
    {
     "name": "stdout",
     "output_type": "stream",
     "text": [
      "[1 3 5 7] [2 4 6 8]\n",
      "\n",
      "\n",
      "1) \n",
      "[[ 2  4  6  8]\n",
      " [ 6 12 18 24]\n",
      " [10 20 30 40]\n",
      " [14 28 42 56]]\n",
      "\n",
      "\n",
      "2) \n",
      "[[ 2  4  6  8]\n",
      " [ 6 12 18 24]\n",
      " [10 20 30 40]\n",
      " [14 28 42 56]]\n",
      "\n",
      "\n",
      "3) \n",
      "[[ 2  4  6  8]\n",
      " [ 6 12 18 24]\n",
      " [10 20 30 40]\n",
      " [14 28 42 56]]\n"
     ]
    }
   ],
   "source": [
    "import numpy as np\n",
    "\n",
    "u = np.array([1,3,5,7])\n",
    "v = np.array([2,4,6,8])\n",
    "\n",
    "print(u,v)\n",
    "print(\"\\n\")\n",
    "print(\"1) \")\n",
    "\n",
    "m = np.zeros((4,4))\n",
    "print(np.outer(u,v))\n",
    "\n",
    "print(\"\\n\")\n",
    "\n",
    "print(\"2) \")\n",
    "print(np.array([v*j for j in u]))\n",
    "\n",
    "print(\"\\n\")\n",
    "print(\"3) \")\n",
    "a = np.array(u[:,np.newaxis])\n",
    "b = print(a*v)"
   ]
  },
  {
   "cell_type": "markdown",
   "metadata": {},
   "source": [
    "3\\. Create a 10 by 6 matrix of random uniform numbers. Set all rows with any entry less than 0.1 to be zero\n",
    "\n",
    "Hint: Use the following numpy functions - np.random.random, np.any as well as Boolean indexing and the axis argument."
   ]
  },
  {
   "cell_type": "code",
   "execution_count": 35,
   "metadata": {},
   "outputs": [
    {
     "name": "stdout",
     "output_type": "stream",
     "text": [
      "[[0.         0.26781036 0.24471219 0.         0.21855044 0.13567705]\n",
      " [0.35806958 0.41538101 0.61743067 0.         0.75460328 0.64628067]\n",
      " [0.43463747 0.88675998 0.10863015 0.77653976 0.         0.48820371]\n",
      " [0.95083343 0.88894031 0.11900746 0.51392683 0.         0.92218791]\n",
      " [0.61830057 0.22376726 0.40624435 0.12492139 0.18455332 0.82966939]\n",
      " [0.24383001 0.55538976 0.55583029 0.67954646 0.25267392 0.81462642]\n",
      " [0.         0.93222718 0.         0.25496189 0.47899823 0.17511197]\n",
      " [0.         0.69168632 0.3056937  0.42447496 0.12141397 0.38495118]\n",
      " [0.         0.32269852 0.1788564  0.         0.74735027 0.72076952]\n",
      " [0.64231215 0.         0.56055181 0.14004881 0.26810565 0.87793562]]\n"
     ]
    }
   ],
   "source": [
    "import numpy as np\n",
    "\n",
    "m = np.random.random((10,6))\n",
    "m[m <= 0.1] = 0\n",
    "print(m)"
   ]
  },
  {
   "cell_type": "markdown",
   "metadata": {},
   "source": [
    "4\\. Use np.linspace to create an array of 100 numbers between 0 and 2π (includsive).\n",
    "\n",
    "  * Extract every 10th element using slice notation\n",
    "  * Reverse the array using slice notation\n",
    "  * Extract elements where the absolute difference between the sine and cosine functions evaluated at that element is less than 0.1\n",
    "  * Make a plot showing the sin and cos functions and indicate where they are close"
   ]
  },
  {
   "cell_type": "code",
   "execution_count": 57,
   "metadata": {},
   "outputs": [
    {
     "name": "stdout",
     "output_type": "stream",
     "text": [
      "Array from 0 to 2pi\n",
      "[0.         0.06346652 0.12693304 0.19039955 0.25386607 0.31733259\n",
      " 0.38079911 0.44426563 0.50773215 0.57119866 0.63466518 0.6981317\n",
      " 0.76159822 0.82506474 0.88853126 0.95199777 1.01546429 1.07893081\n",
      " 1.14239733 1.20586385 1.26933037 1.33279688 1.3962634  1.45972992\n",
      " 1.52319644 1.58666296 1.65012947 1.71359599 1.77706251 1.84052903\n",
      " 1.90399555 1.96746207 2.03092858 2.0943951  2.15786162 2.22132814\n",
      " 2.28479466 2.34826118 2.41172769 2.47519421 2.53866073 2.60212725\n",
      " 2.66559377 2.72906028 2.7925268  2.85599332 2.91945984 2.98292636\n",
      " 3.04639288 3.10985939 3.17332591 3.23679243 3.30025895 3.36372547\n",
      " 3.42719199 3.4906585  3.55412502 3.61759154 3.68105806 3.74452458\n",
      " 3.8079911  3.87145761 3.93492413 3.99839065 4.06185717 4.12532369\n",
      " 4.1887902  4.25225672 4.31572324 4.37918976 4.44265628 4.5061228\n",
      " 4.56958931 4.63305583 4.69652235 4.75998887 4.82345539 4.88692191\n",
      " 4.95038842 5.01385494 5.07732146 5.14078798 5.2042545  5.26772102\n",
      " 5.33118753 5.39465405 5.45812057 5.52158709 5.58505361 5.64852012\n",
      " 5.71198664 5.77545316 5.83891968 5.9023862  5.96585272 6.02931923\n",
      " 6.09278575 6.15625227 6.21971879 6.28318531]\n",
      "\n",
      "Array every 10 elements\n",
      "[0.         0.63466518 1.26933037 1.90399555 2.53866073 3.17332591\n",
      " 3.8079911  4.44265628 5.07732146 5.71198664]\n",
      "\n",
      "Reversed array\n",
      "[6.28318531 6.21971879 6.15625227 6.09278575 6.02931923 5.96585272\n",
      " 5.9023862  5.83891968 5.77545316 5.71198664 5.64852012 5.58505361\n",
      " 5.52158709 5.45812057 5.39465405 5.33118753 5.26772102 5.2042545\n",
      " 5.14078798 5.07732146 5.01385494 4.95038842 4.88692191 4.82345539\n",
      " 4.75998887 4.69652235 4.63305583 4.56958931 4.5061228  4.44265628\n",
      " 4.37918976 4.31572324 4.25225672 4.1887902  4.12532369 4.06185717\n",
      " 3.99839065 3.93492413 3.87145761 3.8079911  3.74452458 3.68105806\n",
      " 3.61759154 3.55412502 3.4906585  3.42719199 3.36372547 3.30025895\n",
      " 3.23679243 3.17332591 3.10985939 3.04639288 2.98292636 2.91945984\n",
      " 2.85599332 2.7925268  2.72906028 2.66559377 2.60212725 2.53866073\n",
      " 2.47519421 2.41172769 2.34826118 2.28479466 2.22132814 2.15786162\n",
      " 2.0943951  2.03092858 1.96746207 1.90399555 1.84052903 1.77706251\n",
      " 1.71359599 1.65012947 1.58666296 1.52319644 1.45972992 1.3962634\n",
      " 1.33279688 1.26933037 1.20586385 1.14239733 1.07893081 1.01546429\n",
      " 0.95199777 0.88853126 0.82506474 0.76159822 0.6981317  0.63466518\n",
      " 0.57119866 0.50773215 0.44426563 0.38079911 0.31733259 0.25386607\n",
      " 0.19039955 0.12693304 0.06346652 0.        ]\n",
      "\n",
      "Array of close sin-cos points\n",
      "[0.7615982190520711, 0.8250647373064104, 3.8714576135146945, 3.934924131769034]\n",
      "\n",
      "Graph\n"
     ]
    },
    {
     "data": {
      "image/png": "[encoded data removed]",
      "text/plain": [
       "<Figure size 432x288 with 1 Axes>"
      ]
     },
     "metadata": {
      "needs_background": "light"
     },
     "output_type": "display_data"
    }
   ],
   "source": [
    "import numpy as np\n",
    "import matplotlib.pyplot as plt\n",
    "\n",
    "a = np.linspace(0, 2*np.pi, 100)\n",
    "print(\"Array from 0 to 2pi\")\n",
    "print(a)\n",
    "\n",
    "print(\"\\nArray every 10 elements\")\n",
    "b = print(a[::10])\n",
    "\n",
    "print(\"\\nReversed array\")\n",
    "print(a[::-1])\n",
    "\n",
    "print(\"\\nArray of close sin-cos points\")\n",
    "c = [a[i] for i in range(len(a)) if abs(np.sin(a[i])-np.cos(a[i]))<0.1]\n",
    "print(c)\n",
    "\n",
    "print(\"\\nGraph\")\n",
    "plt.plot(a,np.sin(a))\n",
    "plt.plot(a,np.cos(a))\n",
    "for j in c:\n",
    "    plt.axvline(j)\n",
    "plt.show()\n"
   ]
  },
  {
   "cell_type": "markdown",
   "metadata": {},
   "source": [
    "5\\. Create a matrix that shows the 10 by 10 multiplication table.\n",
    "\n",
    " * Find the trace of the matrix\n",
    " * Extract the anto-diagonal (this should be ```array([10, 18, 24, 28, 30, 30, 28, 24, 18, 10])```)\n",
    " * Extract the diagnoal offset by 1 upwards (this should be ```array([ 2,  6, 12, 20, 30, 42, 56, 72, 90])```)"
   ]
  },
  {
   "cell_type": "code",
   "execution_count": 81,
   "metadata": {},
   "outputs": [
    {
     "name": "stdout",
     "output_type": "stream",
     "text": [
      "1)\n",
      " [[  1   2   3   4   5   6   7   8   9  10]\n",
      " [  2   4   6   8  10  12  14  16  18  20]\n",
      " [  3   6   9  12  15  18  21  24  27  30]\n",
      " [  4   8  12  16  20  24  28  32  36  40]\n",
      " [  5  10  15  20  25  30  35  40  45  50]\n",
      " [  6  12  18  24  30  36  42  48  54  60]\n",
      " [  7  14  21  28  35  42  49  56  63  70]\n",
      " [  8  16  24  32  40  48  56  64  72  80]\n",
      " [  9  18  27  36  45  54  63  72  81  90]\n",
      " [ 10  20  30  40  50  60  70  80  90 100]]\n",
      "2)\n",
      " [10 18 24 28 30 30 28 24 18 10]\n",
      "3)\n",
      " [ 2  6 12 20 30 42 56 72 90]\n"
     ]
    }
   ],
   "source": [
    "import numpy as np\n",
    "\n",
    "m = np.arange(1,11)\n",
    "a = m[:,np.newaxis]*m\n",
    "print(\"1)\\n\", a)\n",
    "print(\"2)\\n\", np.diag(a[::-1]))\n",
    "print(\"3)\\n\", np.diag(a,1))"
   ]
  },
  {
   "cell_type": "markdown",
   "metadata": {},
   "source": [
    "6\\. Use broadcasting to create a grid of distances\n",
    "\n",
    "Route 66 crosses the following cities in the US: Chicago, Springfield, Saint-Louis, Tulsa, Oklahoma City, Amarillo, Santa Fe, Albuquerque, Flagstaff, Los Angeles\n",
    "The corresponding positions in miles are: 0, 198, 303, 736, 871, 1175, 1475, 1544, 1913, 2448\n",
    "\n",
    "  * Construct a 2D grid of distances among each city along Route 66\n",
    "  * Convert that in km (those savages...)"
   ]
  },
  {
   "cell_type": "code",
   "execution_count": 95,
   "metadata": {},
   "outputs": [
    {
     "name": "stdout",
     "output_type": "stream",
     "text": [
      "1)\n",
      " [[   0  198  303  736  871 1175 1475 1544 1913 2448]\n",
      " [ 198    0  105  538  673  977 1277 1346 1715 2250]\n",
      " [ 303  105    0  433  568  872 1172 1241 1610 2145]\n",
      " [ 736  538  433    0  135  439  739  808 1177 1712]\n",
      " [ 871  673  568  135    0  304  604  673 1042 1577]\n",
      " [1175  977  872  439  304    0  300  369  738 1273]\n",
      " [1475 1277 1172  739  604  300    0   69  438  973]\n",
      " [1544 1346 1241  808  673  369   69    0  369  904]\n",
      " [1913 1715 1610 1177 1042  738  438  369    0  535]\n",
      " [2448 2250 2145 1712 1577 1273  973  904  535    0]]\n",
      "2)\n",
      " [[   0.    318.78  487.83 1184.96 1402.31 1891.75 2374.75 2485.84 3079.93\n",
      "  3941.28]\n",
      " [ 318.78    0.    169.05  866.18 1083.53 1572.97 2055.97 2167.06 2761.15\n",
      "  3622.5 ]\n",
      " [ 487.83  169.05    0.    697.13  914.48 1403.92 1886.92 1998.01 2592.1\n",
      "  3453.45]\n",
      " [1184.96  866.18  697.13    0.    217.35  706.79 1189.79 1300.88 1894.97\n",
      "  2756.32]\n",
      " [1402.31 1083.53  914.48  217.35    0.    489.44  972.44 1083.53 1677.62\n",
      "  2538.97]\n",
      " [1891.75 1572.97 1403.92  706.79  489.44    0.    483.    594.09 1188.18\n",
      "  2049.53]\n",
      " [2374.75 2055.97 1886.92 1189.79  972.44  483.      0.    111.09  705.18\n",
      "  1566.53]\n",
      " [2485.84 2167.06 1998.01 1300.88 1083.53  594.09  111.09    0.    594.09\n",
      "  1455.44]\n",
      " [3079.93 2761.15 2592.1  1894.97 1677.62 1188.18  705.18  594.09    0.\n",
      "   861.35]\n",
      " [3941.28 3622.5  3453.45 2756.32 2538.97 2049.53 1566.53 1455.44  861.35\n",
      "     0.  ]]\n"
     ]
    }
   ],
   "source": [
    "import numpy as np\n",
    "\n",
    "a = np.array([0, 198, 303, 736, 871, 1175, 1475, 1544, 1913, 2448]) \n",
    "b = np.abs(a[::,np.newaxis]-a)\n",
    "print(\"1)\\n\", b)\n",
    "print(\"2)\\n\", b*1.61)"
   ]
  },
  {
   "cell_type": "markdown",
   "metadata": {},
   "source": [
    "7\\. Prime numbers sieve: compute the prime numbers in the 0-N (N=99 to start with) range with a sieve (mask).\n",
    "  * Constract a shape (100,) boolean array, the mask\n",
    "  * Identify the multiples of each number starting from 2 and set accordingly the corresponding mask element\n",
    "  * Apply the mask to obtain an array of ordered prime numbers\n",
    "  * Check the performances (timeit); how does it scale with N?\n",
    "  * Implement the optimization suggested in the [sieve of Eratosthenes](https://en.wikipedia.org/wiki/Sieve_of_Eratosthenes)"
   ]
  },
  {
   "cell_type": "code",
   "execution_count": 30,
   "metadata": {
    "scrolled": true
   },
   "outputs": [
    {
     "name": "stdout",
     "output_type": "stream",
     "text": [
      "Enter a number:\n",
      "10000\n",
      "prime numbers first method:\n",
      " [   2    3    5 ... 9949 9967 9973]\n",
      "\n",
      "\n",
      "prime numbers sieve of Eratosthenes:\n",
      " [   1    2    3 ... 9949 9967 9973] \n",
      "\n"
     ]
    }
   ],
   "source": [
    "import numpy as np\n",
    "\n",
    "N = int(input(\"Enter a number:\\n\"))\n",
    "\n",
    "#first method\n",
    "num = np.arange(N)\n",
    "mask = np.array([i for i in range(N)], bool)\n",
    "mask[1] = False\n",
    "for i in range(2,N):\n",
    "    if mask[i] == True:\n",
    "        for j in range(2,N):\n",
    "            if j*i < N:\n",
    "                mask[i*j] = False\n",
    "print(\"prime numbers first method:\\n\", num[mask])\n",
    "\n",
    "print(\"\\n\")\n",
    " \n",
    "#sieve of Eratosthenes\n",
    "num1 = np.arange(N)\n",
    "mask1 = np.array([i for i in range(N)], bool)\n",
    "for i in range(2, int(np.sqrt(N))):\n",
    "    if mask1[i] == True:\n",
    "        j = 0\n",
    "        while i**2+j*i < N:\n",
    "            mask1[i**2+j*i] = False\n",
    "            j += 1\n",
    "print(\"prime numbers sieve of Eratosthenes:\\n\", num1[mask1], \"\\n\")\n",
    "\n",
    "#%timeit num[mask]\n",
    "#%timeit num1[mask1]"
   ]
  },
  {
   "cell_type": "markdown",
   "metadata": {},
   "source": [
    "### 8\\. Diffusion using random walk\n",
    "\n",
    "Consider a simple random walk process: at each step in time, a walker jumps right or left (+1 or -1) with equal probability. The goal is to find the typical distance from the origin of a random walker after a given amount of time. \n",
    "To do that, let's simulate many walkers and create a 2D array with each walker as a raw and the actual time evolution as columns\n",
    "\n",
    "  * Take 1000 walkers and let them walk for 200 steps\n",
    "  * Use randint to create a 2D array of size walkers x steps with values -1 or 1\n",
    "  * Build the actual walking distances for each walker (i.e. another 2D array \"summing on each raw\")\n",
    "  * Take the square of that 2D array (elementwise)\n",
    "  * Compute the mean of the squared distances at each step (i.e. the mean along the columns)\n",
    "  * Plot the average distances (sqrt(distance\\*\\*2)) as a function of time (step)\n",
    "  \n",
    "Did you get what you expected?"
   ]
  },
  {
   "cell_type": "code",
   "execution_count": 42,
   "metadata": {},
   "outputs": [
    {
     "name": "stdout",
     "output_type": "stream",
     "text": [
      "[  1.      2.012   2.96    3.9     4.976   5.84    6.976   7.612   8.6\n",
      "   9.484  10.736  11.728  12.768  13.936  14.984  16.144  16.896  17.904\n",
      "  18.96   19.688  20.728  21.828  22.64   24.268  25.296  25.812  26.464\n",
      "  28.032  29.296  29.664  31.504  32.9    33.648  34.096  35.792  36.792\n",
      "  37.416  38.512  39.752  40.94   42.168  42.712  43.912  45.076  45.904\n",
      "  47.296  47.648  47.716  48.2    48.816  50.     50.8    52.504  53.996\n",
      "  54.864  55.904  57.296  58.524  59.56   61.02   63.08   64.9    66.32\n",
      "  66.9    67.976  69.592  70.88   72.392  73.6    74.408  75.264  76.22\n",
      "  77.336  78.196  79.44   80.32   81.528  82.304  83.464  85.032  86.272\n",
      "  87.196  88.448  89.212  90.04   90.98   92.344  93.02   93.256  94.156\n",
      "  95.352  95.712  96.136  96.548  97.728  98.412  99.168 100.692 101.68\n",
      " 102.22  104.88  105.4   106.096 106.876 107.76  108.412 109.92  110.652\n",
      " 111.464 113.212 112.904 114.348 115.112 115.796 115.568 117.128 118.328\n",
      " 118.672 118.968 120.016 120.872 121.632 121.976 121.616 121.936 124.104\n",
      " 124.888 126.708 126.624 128.22  128.984 128.632 129.68  131.196 132.368\n",
      " 132.364 133.    132.664 133.648 133.908 135.176 135.164 137.44  137.72\n",
      " 137.984 138.14  139.728 139.532 141.    142.456 143.056 144.968 146.544\n",
      " 147.328 147.8   148.464 149.92  150.696 151.568 151.496 150.832 152.52\n",
      " 152.768 153.736 155.152 156.368 156.856 155.84  156.792 156.328 157.352\n",
      " 158.852 160.856 162.32  162.536 164.404 165.992 167.32  168.408 168.64\n",
      " 168.264 170.328 172.096 174.14  175.608 175.332 177.184 178.016 178.416\n",
      " 178.916 180.24  182.508 184.472 186.896 186.656 188.188 187.464 188.716\n",
      " 190.048 190.348]\n"
     ]
    },
    {
     "data": {
      "text/plain": [
       "[<matplotlib.lines.Line2D at 0x2f7e44140a0>]"
      ]
     },
     "execution_count": 42,
     "metadata": {},
     "output_type": "execute_result"
    },
    {
     "data": {
      "image/png": "[encoded data removed]",
      "text/plain": [
       "<Figure size 432x288 with 1 Axes>"
      ]
     },
     "metadata": {
      "needs_background": "light"
     },
     "output_type": "display_data"
    }
   ],
   "source": [
    "import numpy as np\n",
    "import numpy.random as npr\n",
    "import random\n",
    "import matplotlib.pyplot as plt\n",
    "\n",
    "random.seed(400)\n",
    "npr.seed(100)\n",
    "walk = npr.randint(-1,2,size=(1000,200))\n",
    "\n",
    "for j in range(len(walk)):\n",
    "    for k in range(len(walk[0]):\n",
    "        if walk[j][k] == 0: \n",
    "            walk[j][k] = random.randrange(-1,2,2)\n",
    "            \n",
    "elwise = walk.cumsum(axis=1)\n",
    "sq_elwise = elwise**2\n",
    "\n",
    "distance = sq_elwise.mean(axis=0)\n",
    "print(distance)\n",
    "\n",
    "plt.plot([t for t in range(200)], (distance)**(1/2))\n"
   ]
  },
  {
   "cell_type": "markdown",
   "metadata": {},
   "source": [
    "9\\. Analyze a data file \n",
    "  * Download the population of hares, lynxes and carrots at the beginning of the last century.\n",
    "    ```python\n",
    "    ! wget https://www.dropbox.com/s/3vigxoqayo389uc/populations.txt\n",
    "    ```\n",
    "\n",
    "  * Check the content by looking within the file\n",
    "  * Load the data (use an appropriate numpy method) into a 2D array\n",
    "  * Create arrays out of the columns, the arrays being (in order): *year*, *hares*, *lynxes*, *carrots* \n",
    "  * Plot the 3 populations over the years\n",
    "  * Compute the main statistical properties of the dataset (mean, std, correlations, etc.)\n",
    "  * Which species has the highest population each year?\n",
    "\n",
    "Do you feel there is some evident correlation here? [Studies](https://www.enr.gov.nt.ca/en/services/lynx/lynx-snowshoe-hare-cycle) tend to believe so."
   ]
  },
  {
   "cell_type": "code",
   "execution_count": 42,
   "metadata": {},
   "outputs": [
    {
     "name": "stdout",
     "output_type": "stream",
     "text": [
      "[[ 1900. 30000.  4000. 48300.]\n",
      " [ 1901. 47200.  6100. 48200.]\n",
      " [ 1902. 70200.  9800. 41500.]\n",
      " [ 1903. 77400. 35200. 38200.]\n",
      " [ 1904. 36300. 59400. 40600.]\n",
      " [ 1905. 20600. 41700. 39800.]\n",
      " [ 1906. 18100. 19000. 38600.]\n",
      " [ 1907. 21400. 13000. 42300.]\n",
      " [ 1908. 22000.  8300. 44500.]\n",
      " [ 1909. 25400.  9100. 42100.]\n",
      " [ 1910. 27100.  7400. 46000.]\n",
      " [ 1911. 40300.  8000. 46800.]\n",
      " [ 1912. 57000. 12300. 43800.]\n",
      " [ 1913. 76600. 19500. 40900.]\n",
      " [ 1914. 52300. 45700. 39400.]\n",
      " [ 1915. 19500. 51100. 39000.]\n",
      " [ 1916. 11200. 29700. 36700.]\n",
      " [ 1917.  7600. 15800. 41800.]\n",
      " [ 1918. 14600.  9700. 43300.]\n",
      " [ 1919. 16200. 10100. 41300.]\n",
      " [ 1920. 24700.  8600. 47300.]]\n",
      "\n",
      "years:\n",
      " [1900. 1901. 1902. 1903. 1904. 1905. 1906. 1907. 1908. 1909. 1910. 1911.\n",
      " 1912. 1913. 1914. 1915. 1916. 1917. 1918. 1919. 1920.] \n",
      "\n",
      "hares:\n",
      " [30000. 47200. 70200. 77400. 36300. 20600. 18100. 21400. 22000. 25400.\n",
      " 27100. 40300. 57000. 76600. 52300. 19500. 11200.  7600. 14600. 16200.\n",
      " 24700.] \n",
      "\n",
      "lynxes:\n",
      " [ 4000.  6100.  9800. 35200. 59400. 41700. 19000. 13000.  8300.  9100.\n",
      "  7400.  8000. 12300. 19500. 45700. 51100. 29700. 15800.  9700. 10100.\n",
      "  8600.] \n",
      "\n",
      "carrots:\n",
      " [48300. 48200. 41500. 38200. 40600. 39800. 38600. 42300. 44500. 42100.\n",
      " 46000. 46800. 43800. 40900. 39400. 39000. 36700. 41800. 43300. 41300.\n",
      " 47300.]\n"
     ]
    },
    {
     "data": {
      "image/png": "[encoded data removed]",
      "text/plain": [
       "<Figure size 432x288 with 1 Axes>"
      ]
     },
     "metadata": {
      "needs_background": "light"
     },
     "output_type": "display_data"
    },
    {
     "name": "stdout",
     "output_type": "stream",
     "text": [
      "\n",
      "Statistics for hares:\n",
      "\n",
      "sum 715700.0\n",
      "min 7600.0\n",
      "argmin 17\n",
      "mean 34080.95238095238\n",
      "median 25400.0\n",
      "std 20897.906458089667\n",
      "\n",
      "Statistics for lynxes:\n",
      "\n",
      "sum 423500.0\n",
      "min 4000.0\n",
      "argmin 0\n",
      "mean 20166.666666666668\n",
      "median 12300.0\n",
      "std 16254.591536908763\n",
      "\n",
      "Statistics for carrots:\n",
      "\n",
      "sum 890400.0\n",
      "min 36700.0\n",
      "argmin 16\n",
      "mean 42400.0\n",
      "median 41800.0\n",
      "std 3322.5062255844787\n",
      "\n",
      "Population of carrots is characterized by the highest mean value.\n",
      "\n",
      "\n",
      "correlation coefficient for hares/lynxes:\n",
      " 0.07\n",
      "\n",
      "correlation coefficient for hares/carrots:\n",
      " -0.02\n",
      "\n",
      "correlation coefficient for carrots/lynxes:\n",
      " -0.68\n",
      "\n",
      "\n",
      "1900 carrots\n",
      "1901 carrots\n",
      "1902 hares\n",
      "1903 hares\n",
      "1904 lynxes\n",
      "1905 lynxes\n",
      "1906 carrots\n",
      "1907 carrots\n",
      "1908 carrots\n",
      "1909 carrots\n",
      "1910 carrots\n",
      "1911 carrots\n",
      "1912 hares\n",
      "1913 hares\n",
      "1914 hares\n",
      "1915 lynxes\n",
      "1916 carrots\n",
      "1917 carrots\n",
      "1918 carrots\n",
      "1919 carrots\n",
      "1920 carrots\n"
     ]
    }
   ],
   "source": [
    "import numpy as np\n",
    "import numpy.random as npr\n",
    "import random\n",
    "import matplotlib.pyplot as plt\n",
    "\n",
    "file = np.loadtxt(\"populations.txt\")\n",
    "print(file)\n",
    "\n",
    "year = file[:,0]\n",
    "hare = file[:,1]\n",
    "lynx = file[:,2]\n",
    "carrot = file[:,3]\n",
    "\n",
    "print(\"\\nyears:\\n\", year, \"\\n\\nhares:\\n\", hare, \"\\n\\nlynxes:\\n\", lynx, \"\\n\\ncarrots:\\n\", carrot)\n",
    "\n",
    "plt.plot(year, hare, label =  \"hares\")\n",
    "plt.plot(year, lynx, label =  \"lynxes\")\n",
    "plt.plot(year, carrot, label =  \"carrots\")\n",
    "plt.legend()\n",
    "plt.show()\n",
    "\n",
    "print(\"\\nStatistics for hares:\\n\")\n",
    "for i in ['sum','min','argmin','mean','median','std']:\n",
    "    print (i, getattr(np, i)(hare))    \n",
    "    \n",
    "print(\"\\nStatistics for lynxes:\\n\")\n",
    "for i in ['sum','min','argmin','mean','median','std']:\n",
    "    print (i, getattr(np, i)(lynx))\n",
    "    \n",
    "print(\"\\nStatistics for carrots:\\n\")\n",
    "for i in ['sum','min','argmin','mean','median','std']:\n",
    "    print (i, getattr(np, i)(carrot))\n",
    "    \n",
    "print(\"\\nPopulation of carrots is characterized by the highest mean value.\\n\")\n",
    "\n",
    "print(\"\\ncorrelation coefficient for hares/lynxes:\\n\", np.round(np.corrcoef(hare,lynx)[0,1],2))\n",
    "print(\"\\ncorrelation coefficient for hares/carrots:\\n\", np.round(np.corrcoef(hare,carrot)[0,1],2))\n",
    "print(\"\\ncorrelation coefficient for carrots/lynxes:\\n\", np.round(np.corrcoef(carrot,lynx)[0,1],2))\n",
    "\n",
    "mask = np.argmax(file[:, 1:], axis = 1)\n",
    "species = [\"hares\",\"lynxes\",\"carrots\"]\n",
    "highest_pop = [species[i] for i in mask]\n",
    "\n",
    "print(\"\\n\")\n",
    "\n",
    "for i in range(len(year)):\n",
    "    print(int(year[i]), highest_pop[i])\n",
    "\n"
   ]
  },
  {
   "cell_type": "code",
   "execution_count": null,
   "metadata": {},
   "outputs": [],
   "source": []
  }
 ],
 "metadata": {
  "kernelspec": {
   "display_name": "Python 3",
   "language": "python",
   "name": "python3"
  },
  "language_info": {
   "codemirror_mode": {
    "name": "ipython",
    "version": 3
   },
   "file_extension": ".py",
   "mimetype": "text/x-python",
   "name": "python",
   "nbconvert_exporter": "python",
   "pygments_lexer": "ipython3",
   "version": "3.8.3"
  }
 },
 "nbformat": 4,
 "nbformat_minor": 2
}
