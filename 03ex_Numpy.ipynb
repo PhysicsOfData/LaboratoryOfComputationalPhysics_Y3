{
 "cells": [
  {
   "cell_type": "markdown",
   "metadata": {},
   "source": [
    "### Numpy basics"
   ]
  },
  {
   "cell_type": "markdown",
   "metadata": {},
   "source": [
    "1\\. Find the row, column and overall means for the following matrix:\n",
    "\n",
    "```python\n",
    "m = np.arange(12).reshape((3,4))\n",
    "```"
   ]
  },
  {
   "cell_type": "code",
   "execution_count": 27,
   "metadata": {},
   "outputs": [],
   "source": [
    "import numpy as np\n",
    "import numpy.random as npr\n",
    "import matplotlib.pyplot as plt\n",
    "import math"
   ]
  },
  {
   "cell_type": "code",
   "execution_count": 38,
   "metadata": {},
   "outputs": [
    {
     "name": "stdout",
     "output_type": "stream",
     "text": [
      "[[ 0  1  2  3]\n",
      " [ 4  5  6  7]\n",
      " [ 8  9 10 11]]\n",
      "row means:\n",
      " [[1.5]\n",
      " [5.5]\n",
      " [9.5]] \n",
      "columns means:\n",
      " [4. 5. 6. 7.]\n"
     ]
    }
   ],
   "source": [
    "m = np.arange(12).reshape((3,4))\n",
    "\n",
    "#means of the rows\n",
    "row_m = np.mean(m, axis=1)\n",
    "\n",
    "#means of the columns\n",
    "col_m = np.mean(m, axis=0)\n",
    "print(m)\n",
    "print(\"row means:\\n\", row_m.reshape(3,1), \"\\ncolumns means:\\n\", col_m)"
   ]
  },
  {
   "cell_type": "markdown",
   "metadata": {},
   "source": [
    "2\\. Find the outer product of the following two vecotrs\n",
    "\n",
    "```python\n",
    "u = np.array([1,3,5,7])\n",
    "v = np.array([2,4,6,8])\n",
    "```\n",
    "\n",
    "Do this in the following ways:\n",
    "\n",
    "   * Using the function outer in numpy\n",
    "   * Using a nested for loop or list comprehension\n",
    "   * Using numpy broadcasting operations\n"
   ]
  },
  {
   "cell_type": "code",
   "execution_count": 139,
   "metadata": {},
   "outputs": [
    {
     "name": "stdout",
     "output_type": "stream",
     "text": [
      "[[ 2  4  6  8]\n",
      " [ 6 12 18 24]\n",
      " [10 20 30 40]\n",
      " [14 28 42 56]]\n",
      "[[ 2  4  6  8]\n",
      " [ 6 12 18 24]\n",
      " [10 20 30 40]\n",
      " [14 28 42 56]]\n",
      "[[ 2  4  6  8]\n",
      " [ 6 12 18 24]\n",
      " [10 20 30 40]\n",
      " [14 28 42 56]]\n"
     ]
    }
   ],
   "source": [
    "u = np.array([1,3,5,7])\n",
    "v = np.array([2,4,6,8])\n",
    "\n",
    "#using outer function\n",
    "pr = np.outer(u,v)\n",
    "print(pr)\n",
    "\n",
    "#using nested loop or list comprehension\n",
    "pr1 = np.array([[i*j for j in v] for i in u])\n",
    "print(pr1)\n",
    "\n",
    "#using numpy broadcasting operations\n",
    "pr2 = np.tile(np.arange(2, 18, 4), (4, 1)).T\n",
    "b = np.arange(1,5)\n",
    "print(pr2*b)"
   ]
  },
  {
   "cell_type": "markdown",
   "metadata": {},
   "source": [
    "3\\. Create a 10 by 6 matrix of random uniform numbers. Set all rows with any entry less than 0.1 to be zero\n",
    "\n",
    "Hint: Use the following numpy functions - np.random.random, np.any as well as Boolean indexing and the axis argument."
   ]
  },
  {
   "cell_type": "code",
   "execution_count": 4,
   "metadata": {},
   "outputs": [
    {
     "name": "stdout",
     "output_type": "stream",
     "text": [
      "[[0.63823744 0.29263224 0.52866119 0.38704635 0.22975603 0.38803712]\n",
      " [0.36585655 0.40880765 0.61161339 0.1337476  0.7735358  0.39950655]\n",
      " [0.50848359 0.52930255 0.41878027 0.01532829 0.05970388 0.14116441]\n",
      " [0.11625596 0.29783039 0.93549728 0.78807752 0.38072418 0.27376944]\n",
      " [0.14781378 0.89328525 0.17726891 0.07767826 0.83333354 0.63540286]\n",
      " [0.48635785 0.85500608 0.05517536 0.47534138 0.5636148  0.22442691]\n",
      " [0.07570514 0.38731378 0.96463939 0.69843594 0.29673432 0.61577202]\n",
      " [0.21827839 0.87954638 0.41277237 0.82265564 0.27232134 0.99318357]\n",
      " [0.81152344 0.03894235 0.94902293 0.26471864 0.91390623 0.78242179]\n",
      " [0.93266491 0.46511332 0.76883962 0.46244454 0.01729914 0.683246  ]] \n",
      "\n",
      "\n",
      "[[0.63823744 0.29263224 0.52866119 0.38704635 0.22975603 0.38803712]\n",
      " [0.36585655 0.40880765 0.61161339 0.1337476  0.7735358  0.39950655]\n",
      " [0.         0.         0.         0.         0.         0.        ]\n",
      " [0.11625596 0.29783039 0.93549728 0.78807752 0.38072418 0.27376944]\n",
      " [0.         0.         0.         0.         0.         0.        ]\n",
      " [0.         0.         0.         0.         0.         0.        ]\n",
      " [0.         0.         0.         0.         0.         0.        ]\n",
      " [0.21827839 0.87954638 0.41277237 0.82265564 0.27232134 0.99318357]\n",
      " [0.         0.         0.         0.         0.         0.        ]\n",
      " [0.         0.         0.         0.         0.         0.        ]]\n"
     ]
    }
   ],
   "source": [
    "#create a 10x6 matrix of random uniform numbers\n",
    "m = np.random.random((10,6))\n",
    "print(m, \"\\n\\n\")\n",
    "\n",
    "#set all rows with any entry less than 0.1 to be 0\n",
    "m[(m<0.1).any(axis=1)]=0\n",
    "print(m)"
   ]
  },
  {
   "cell_type": "markdown",
   "metadata": {},
   "source": [
    "4\\. Use np.linspace to create an array of 100 numbers between 0 and 2π (includsive).\n",
    "\n",
    "  * Extract every 10th element using slice notation\n",
    "  * Reverse the array using slice notation\n",
    "  * Extract elements where the absolute difference between the sine and cosine functions evaluated at that element is less than 0.1\n",
    "  * Make a plot showing the sin and cos functions and indicate where they are close"
   ]
  },
  {
   "cell_type": "code",
   "execution_count": 22,
   "metadata": {
    "scrolled": true
   },
   "outputs": [
    {
     "name": "stdout",
     "output_type": "stream",
     "text": [
      "[0.         0.06346652 0.12693304 0.19039955 0.25386607 0.31733259\n",
      " 0.38079911 0.44426563 0.50773215 0.57119866 0.63466518 0.6981317\n",
      " 0.76159822 0.82506474 0.88853126 0.95199777 1.01546429 1.07893081\n",
      " 1.14239733 1.20586385 1.26933037 1.33279688 1.3962634  1.45972992\n",
      " 1.52319644 1.58666296 1.65012947 1.71359599 1.77706251 1.84052903\n",
      " 1.90399555 1.96746207 2.03092858 2.0943951  2.15786162 2.22132814\n",
      " 2.28479466 2.34826118 2.41172769 2.47519421 2.53866073 2.60212725\n",
      " 2.66559377 2.72906028 2.7925268  2.85599332 2.91945984 2.98292636\n",
      " 3.04639288 3.10985939 3.17332591 3.23679243 3.30025895 3.36372547\n",
      " 3.42719199 3.4906585  3.55412502 3.61759154 3.68105806 3.74452458\n",
      " 3.8079911  3.87145761 3.93492413 3.99839065 4.06185717 4.12532369\n",
      " 4.1887902  4.25225672 4.31572324 4.37918976 4.44265628 4.5061228\n",
      " 4.56958931 4.63305583 4.69652235 4.75998887 4.82345539 4.88692191\n",
      " 4.95038842 5.01385494 5.07732146 5.14078798 5.2042545  5.26772102\n",
      " 5.33118753 5.39465405 5.45812057 5.52158709 5.58505361 5.64852012\n",
      " 5.71198664 5.77545316 5.83891968 5.9023862  5.96585272 6.02931923\n",
      " 6.09278575 6.15625227 6.21971879 6.28318531] \n",
      "\n",
      "\n",
      "[0.57119866 1.20586385 1.84052903 2.47519421 3.10985939 3.74452458\n",
      " 4.37918976 5.01385494 5.64852012 6.28318531] \n",
      "\n",
      "\n",
      "[6.28318531 6.21971879 6.15625227 6.09278575 6.02931923 5.96585272\n",
      " 5.9023862  5.83891968 5.77545316 5.71198664 5.64852012 5.58505361\n",
      " 5.52158709 5.45812057 5.39465405 5.33118753 5.26772102 5.2042545\n",
      " 5.14078798 5.07732146 5.01385494 4.95038842 4.88692191 4.82345539\n",
      " 4.75998887 4.69652235 4.63305583 4.56958931 4.5061228  4.44265628\n",
      " 4.37918976 4.31572324 4.25225672 4.1887902  4.12532369 4.06185717\n",
      " 3.99839065 3.93492413 3.87145761 3.8079911  3.74452458 3.68105806\n",
      " 3.61759154 3.55412502 3.4906585  3.42719199 3.36372547 3.30025895\n",
      " 3.23679243 3.17332591 3.10985939 3.04639288 2.98292636 2.91945984\n",
      " 2.85599332 2.7925268  2.72906028 2.66559377 2.60212725 2.53866073\n",
      " 2.47519421 2.41172769 2.34826118 2.28479466 2.22132814 2.15786162\n",
      " 2.0943951  2.03092858 1.96746207 1.90399555 1.84052903 1.77706251\n",
      " 1.71359599 1.65012947 1.58666296 1.52319644 1.45972992 1.3962634\n",
      " 1.33279688 1.26933037 1.20586385 1.14239733 1.07893081 1.01546429\n",
      " 0.95199777 0.88853126 0.82506474 0.76159822 0.6981317  0.63466518\n",
      " 0.57119866 0.50773215 0.44426563 0.38079911 0.31733259 0.25386607\n",
      " 0.19039955 0.12693304 0.06346652 0.        ] \n",
      "\n",
      "\n",
      "[0.76159822 0.82506474 3.87145761 3.93492413]\n"
     ]
    },
    {
     "data": {
      "text/plain": [
       "<matplotlib.legend.Legend at 0x7fb699fbfd60>"
      ]
     },
     "execution_count": 22,
     "metadata": {},
     "output_type": "execute_result"
    },
    {
     "data": {
      "image/png": "[encoded data removed]",
      "text/plain": [
       "<Figure size 432x288 with 1 Axes>"
      ]
     },
     "metadata": {
      "needs_background": "light"
     },
     "output_type": "display_data"
    }
   ],
   "source": [
    "#create an array of 100 numbers between 0 and 2π (includsive)\n",
    "x = np.linspace(0, 2*math.pi, 100)\n",
    "print(x, \"\\n\\n\")\n",
    "\n",
    "#extract every 10th element using slice notation\n",
    "print(x[9::10], \"\\n\\n\")\n",
    "\n",
    "#Reverse the array using slice notation\n",
    "print(x[::-1], \"\\n\\n\")\n",
    "\n",
    "#Extract elements where the absolute difference between the sine and cosine functions evaluated at that element is less than 0.1\n",
    "abs_value = np.abs(np.sin(x)-np.cos(x))<0.1\n",
    "print(x[abs_value])\n",
    "\n",
    "#Make a plot showing the sin and cos functions and indicate where they are close\n",
    "plt.scatter(x[abs_value], np.sin(x[abs_value]))\n",
    "plt.plot(x, np.sin(x), label = \"sin\")\n",
    "plt.plot(x, np.cos(x), label = \"cos\")\n",
    "plt.legend()"
   ]
  },
  {
   "cell_type": "markdown",
   "metadata": {},
   "source": [
    "5\\. Create a matrix that shows the 10 by 10 multiplication table.\n",
    "\n",
    " * Find the trace of the matrix\n",
    " * Extract the anto-diagonal (this should be ```array([10, 18, 24, 28, 30, 30, 28, 24, 18, 10])```)\n",
    " * Extract the diagnoal offset by 1 upwards (this should be ```array([ 2,  6, 12, 20, 30, 42, 56, 72, 90])```)"
   ]
  },
  {
   "cell_type": "code",
   "execution_count": 141,
   "metadata": {},
   "outputs": [
    {
     "name": "stdout",
     "output_type": "stream",
     "text": [
      "[[  1   2   3   4   5   6   7   8   9  10]\n",
      " [  2   4   6   8  10  12  14  16  18  20]\n",
      " [  3   6   9  12  15  18  21  24  27  30]\n",
      " [  4   8  12  16  20  24  28  32  36  40]\n",
      " [  5  10  15  20  25  30  35  40  45  50]\n",
      " [  6  12  18  24  30  36  42  48  54  60]\n",
      " [  7  14  21  28  35  42  49  56  63  70]\n",
      " [  8  16  24  32  40  48  56  64  72  80]\n",
      " [  9  18  27  36  45  54  63  72  81  90]\n",
      " [ 10  20  30  40  50  60  70  80  90 100]]\n",
      "385\n",
      "[10 18 24 28 30 30 28 24 18 10]\n",
      "[ 2  6 12 20 30 42 56 72 90]\n"
     ]
    }
   ],
   "source": [
    "#Create a matrix that shows the 10 by 10 multiplication table\n",
    "a = np.array(np.arange(1, 11))\n",
    "m = np.outer(a,a)\n",
    "\n",
    "#Find the trace of the matrix\n",
    "print(m)\n",
    "print(m.trace())\n",
    "\n",
    "#Extract the anto-diagonal\n",
    "ant_m= m[:,::-1]\n",
    "print(ant_m.diagonal()) \n",
    "\n",
    "#Extract the diagnoal offset by 1 upwards\n",
    "print(m.diagonal(1)) "
   ]
  },
  {
   "cell_type": "markdown",
   "metadata": {},
   "source": [
    "6\\. Use broadcasting to create a grid of distances\n",
    "\n",
    "Route 66 crosses the following cities in the US: Chicago, Springfield, Saint-Louis, Tulsa, Oklahoma City, Amarillo, Santa Fe, Albuquerque, Flagstaff, Los Angeles\n",
    "The corresponding positions in miles are: 0, 198, 303, 736, 871, 1175, 1475, 1544, 1913, 2448\n",
    "\n",
    "  * Construct a 2D grid of distances among each city along Route 66\n",
    "  * Convert that in km (those savages...)"
   ]
  },
  {
   "cell_type": "code",
   "execution_count": 141,
   "metadata": {},
   "outputs": [
    {
     "name": "stdout",
     "output_type": "stream",
     "text": [
      "['Ch' 'Sp' 'SL' 'Tul' 'Okl' 'Am' 'S Fe' 'Alb' 'Fl' 'LA']\n",
      "[[   0  198  303  736  871 1175 1475 1544 1913 2448]\n",
      " [ 198    0  105  538  673  977 1277 1346 1715 2250]\n",
      " [ 303  105    0  433  568  872 1172 1241 1610 2145]\n",
      " [ 736  538  433    0  135  439  739  808 1177 1712]\n",
      " [ 871  673  568  135    0  304  604  673 1042 1577]\n",
      " [1175  977  872  439  304    0  300  369  738 1273]\n",
      " [1475 1277 1172  739  604  300    0   69  438  973]\n",
      " [1544 1346 1241  808  673  369   69    0  369  904]\n",
      " [1913 1715 1610 1177 1042  738  438  369    0  535]\n",
      " [2448 2250 2145 1712 1577 1273  973  904  535    0]] \n",
      "\n",
      "\n",
      "[[   0.   316.8  484.8 1177.6 1393.6 1880.  2360.  2470.4 3060.8 3916.8]\n",
      " [ 316.8    0.   168.   860.8 1076.8 1563.2 2043.2 2153.6 2744.  3600. ]\n",
      " [ 484.8  168.     0.   692.8  908.8 1395.2 1875.2 1985.6 2576.  3432. ]\n",
      " [1177.6  860.8  692.8    0.   216.   702.4 1182.4 1292.8 1883.2 2739.2]\n",
      " [1393.6 1076.8  908.8  216.     0.   486.4  966.4 1076.8 1667.2 2523.2]\n",
      " [1880.  1563.2 1395.2  702.4  486.4    0.   480.   590.4 1180.8 2036.8]\n",
      " [2360.  2043.2 1875.2 1182.4  966.4  480.     0.   110.4  700.8 1556.8]\n",
      " [2470.4 2153.6 1985.6 1292.8 1076.8  590.4  110.4    0.   590.4 1446.4]\n",
      " [3060.8 2744.  2576.  1883.2 1667.2 1180.8  700.8  590.4    0.   856. ]\n",
      " [3916.8 3600.  3432.  2739.2 2523.2 2036.8 1556.8 1446.4  856.     0. ]]\n"
     ]
    }
   ],
   "source": [
    "cities = np.array([\"Ch\", \"Sp\", \"SL\", \"Tul\", \"Okl\", \"Am\", \"S Fe\", \"Alb\", \"Fl\", \"LA\" ])\n",
    "miles = np.array([0, 198, 303, 736, 871, 1175, 1475, 1544, 1913, 2448])\n",
    "\n",
    "#construct a 2D grid of distances among each city along Route 66\n",
    "dist_miles = np.abs(miles - miles[:, np.newaxis])\n",
    "print(cities)\n",
    "print(dist_miles, \"\\n\\n\")\n",
    "\n",
    "#convert that in km\n",
    "print(dist_miles*1.6)"
   ]
  },
  {
   "cell_type": "markdown",
   "metadata": {},
   "source": [
    "7\\. Prime numbers sieve: compute the prime numbers in the 0-N (N=99 to start with) range with a sieve (mask).\n",
    "  * Constract a shape (100,) boolean array, the mask\n",
    "  * Identify the multiples of each number starting from 2 and set accordingly the corresponding mask element\n",
    "  * Apply the mask to obtain an array of ordered prime numbers\n",
    "  * Check the performances (timeit); how does it scale with N?\n",
    "  * Implement the optimization suggested in the [sieve of Eratosthenes](https://en.wikipedia.org/wiki/Sieve_of_Eratosthenes)"
   ]
  },
  {
   "cell_type": "code",
   "execution_count": 20,
   "metadata": {},
   "outputs": [
    {
     "name": "stdout",
     "output_type": "stream",
     "text": [
      "[ 0  1  2  3  5  7 11 13 17 19 23 29 31 37 41 43 47 53 59 61 67 71 73 79\n",
      " 83 89 97]\n",
      "154 µs ± 19.3 µs per loop (mean ± std. dev. of 7 runs, 10000 loops each)\n"
     ]
    }
   ],
   "source": [
    "def prime(N):\n",
    "#range of numbers\n",
    "   num = np.array(range(0,N))\n",
    "\n",
    "#constract a shape (100,) boolean array, the mask\n",
    "   mask = np.full((N,), True, dtype=bool)\n",
    "\n",
    "#identify the multiples of each number starting from 2 and set accordingly the corresponding mask element\n",
    "   for i in range(2, int(math.sqrt(len(mask)))):\n",
    "        if mask[i] == True:\n",
    "            mask[i+i::i]= False\n",
    "        \n",
    "#apply the mask to obtain an array of ordered prime numbers   \n",
    "   return num[mask]\n",
    "\n",
    "print(prime(100))\n",
    "#check the performances (timeit); how does it scale with N?\n",
    "\n",
    "#%timeit prime(400) the time scales linearly with time"
   ]
  },
  {
   "cell_type": "markdown",
   "metadata": {},
   "source": [
    "8\\. Diffusion using random walk\n",
    "\n",
    "Consider a simple random walk process: at each step in time, a walker jumps right or left (+1 or -1) with equal probability. The goal is to find the typical distance from the origin of a random walker after a given amount of time. \n",
    "To do that, let's simulate many walkers and create a 2D array with each walker as a raw and the actual time evolution as columns\n",
    "\n",
    "  * Take 1000 walkers and let them walk for 200 steps\n",
    "  * Use randint to create a 2D array of size walkers x steps with values -1 or 1\n",
    "  * Build the actual walking distances for each walker (i.e. another 2D array \"summing on each raw\")\n",
    "  * Take the square of that 2D array (elementwise)\n",
    "  * Compute the mean of the squared distances at each step (i.e. the mean along the columns)\n",
    "  * Plot the average distances (sqrt(distance\\*\\*2)) as a function of time (step)\n",
    "  \n",
    "Did you get what you expected?"
   ]
  },
  {
   "cell_type": "code",
   "execution_count": 31,
   "metadata": {},
   "outputs": [
    {
     "name": "stdout",
     "output_type": "stream",
     "text": [
      "[[-1 -1  0 ... -1 -1  0]\n",
      " [ 0 -1  0 ...  0 -1  0]\n",
      " [-1 -1 -1 ... -1  0 -1]\n",
      " ...\n",
      " [-1 -1  0 ... -1 -1 -1]\n",
      " [-1  0  0 ...  0  0  0]\n",
      " [ 0  0  0 ...  0  0 -1]]\n",
      "[[-1 -1  1 ... -1 -1  1]\n",
      " [ 1 -1  1 ...  1 -1  1]\n",
      " [-1 -1 -1 ... -1  1 -1]\n",
      " ...\n",
      " [-1 -1  1 ... -1 -1 -1]\n",
      " [-1  1  1 ...  1  1  1]\n",
      " [ 1  1  1 ...  1  1 -1]]\n",
      "[[ -1  -2  -1 ...   4   3   4]\n",
      " [  1   0   1 ...  -2  -3  -2]\n",
      " [ -1  -2  -3 ...   8   9   8]\n",
      " ...\n",
      " [ -1  -2  -1 ... -24 -25 -26]\n",
      " [ -1   0   1 ...   0   1   2]\n",
      " [  1   2   3 ...  -6  -5  -6]]\n",
      "[[  1   4   1 ...  16   9  16]\n",
      " [  1   0   1 ...   4   9   4]\n",
      " [  1   4   9 ...  64  81  64]\n",
      " ...\n",
      " [  1   4   1 ... 576 625 676]\n",
      " [  1   0   1 ...   0   1   4]\n",
      " [  1   4   9 ...  36  25  36]]\n",
      "[  1.      2.088   3.112   4.112   5.176   6.284   7.368   8.268   9.496\n",
      "  10.248  11.128  12.32   13.888  15.16   16.112  16.9    17.496  18.508\n",
      "  19.64   20.536  21.472  22.188  23.112  23.536  24.56   25.356  26.28\n",
      "  26.62   28.104  29.056  30.256  31.736  32.768  33.536  34.616  35.52\n",
      "  35.984  36.924  37.464  38.668  39.432  40.568  41.608  42.604  43.992\n",
      "  44.86   45.048  46.3    48.256  49.316  50.192  51.004  51.88   52.256\n",
      "  53.968  54.796  54.744  55.752  56.536  58.332  58.992  59.232  61.408\n",
      "  62.276  64.04   65.48   66.616  67.816  68.424  68.668  69.256  70.28\n",
      "  70.944  72.184  72.856  73.092  74.344  75.52   75.664  76.352  76.904\n",
      "  77.524  78.824  80.124  81.512  81.952  82.16   82.98   84.408  84.812\n",
      "  85.776  86.152  87.096  89.184  90.096  88.9    89.832  90.928  92.496\n",
      "  94.264  95.376  96.028  97.688  99.192 100.152 100.812 101.928 103.228\n",
      " 104.584 104.516 104.2   104.776 106.296 106.564 107.76  109.148 109.792\n",
      " 111.228 112.32  112.104 111.856 113.24  114.12  115.312 116.656 117.572\n",
      " 117.936 118.668 120.152 120.26  123.144 124.58  126.176 127.524 128.496\n",
      " 129.344 131.416 131.872 133.584 134.62  135.496 135.2   136.416 137.512\n",
      " 138.    139.396 139.256 140.536 141.424 142.204 142.472 143.548 143.672\n",
      " 143.64  144.608 144.612 145.416 148.088 147.448 148.084 149.376 150.944\n",
      " 151.696 151.652 152.704 153.264 154.856 156.664 156.216 157.192 158.952\n",
      " 160.228 162.152 163.892 164.248 164.872 166.568 168.04  168.216 169.244\n",
      " 169.752 169.62  169.648 170.756 171.    171.156 171.44  172.732 173.392\n",
      " 173.732 174.224 174.508 175.736 176.476 176.528 177.724 178.864 179.008\n",
      " 181.08  182.452]\n"
     ]
    },
    {
     "data": {
      "text/plain": [
       "[<matplotlib.lines.Line2D at 0x7fb69ac281c0>]"
      ]
     },
     "execution_count": 31,
     "metadata": {},
     "output_type": "execute_result"
    },
    {
     "data": {
      "image/png": "[encoded data removed]",
      "text/plain": [
       "<Figure size 432x288 with 1 Axes>"
      ]
     },
     "metadata": {
      "needs_background": "light"
     },
     "output_type": "display_data"
    }
   ],
   "source": [
    "#use randint to create a 2D array of size walkers x steps with values -1 or 1\n",
    "walkers = npr.randint(-1,1, size=(1000,200))\n",
    "print(walkers)\n",
    "\n",
    "#set the values equal to 0 to be 1\n",
    "walkers[walkers==0]=1\n",
    "print(walkers)\n",
    "\n",
    "#build the actual walking distances for each walker\n",
    "row_sum = np.cumsum(walkers, axis = 1)\n",
    "print(row_sum)\n",
    "\n",
    "#take the square of that 2D array (elementwise)\n",
    "sq = row_sum**2\n",
    "print(sq)\n",
    "\n",
    "#compute the mean of the squared distances at each step\n",
    "col_mean = np.mean(sq, axis = 0)\n",
    "print(col_mean)\n",
    "\n",
    "sq_d = col_mean**(1/2)\n",
    "\n",
    "#plot the average distances (sqrt(distance**2)) as a function of time (step)\n",
    "steps = np.arange(0,200)\n",
    "plt.plot(steps, sq_d)\n",
    "\n",
    "#did you get what you expected? Yes, i did"
   ]
  },
  {
   "cell_type": "markdown",
   "metadata": {},
   "source": [
    "9\\. Analyze a data file \n",
    "  * Download the population of hares, lynxes and carrots at the beginning of the last century.\n",
    "    ```python\n",
    "    ! wget https://www.dropbox.com/s/3vigxoqayo389uc/populations.txt\n",
    "    ```\n",
    "\n",
    "  * Check the content by looking within the file\n",
    "  * Load the data (use an appropriate numpy method) into a 2D array\n",
    "  * Create arrays out of the columns, the arrays being (in order): *year*, *hares*, *lynxes*, *carrots* \n",
    "  * Plot the 3 populations over the years\n",
    "  * Compute the main statistical properties of the dataset (mean, std, correlations, etc.)\n",
    "  * Which species has the highest population each year?\n",
    "\n",
    "Do you feel there is some evident correlation here? [Studies](https://www.enr.gov.nt.ca/en/services/lynx/lynx-snowshoe-hare-cycle) tend to believe so."
   ]
  },
  {
   "cell_type": "code",
   "execution_count": 19,
   "metadata": {},
   "outputs": [
    {
     "name": "stdout",
     "output_type": "stream",
     "text": [
      "--2020-10-31 15:43:13--  https://www.dropbox.com/s/3vigxoqayo389uc/populations.txt\n",
      "Risoluzione di www.dropbox.com (www.dropbox.com)... 162.125.69.1\n",
      "Connessione a www.dropbox.com (www.dropbox.com)|162.125.69.1|:443... connesso.\n",
      "Richiesta HTTP inviata, in attesa di risposta... 301 Moved Permanently\n",
      "Posizione: /s/raw/3vigxoqayo389uc/populations.txt [segue]\n",
      "--2020-10-31 15:43:13--  https://www.dropbox.com/s/raw/3vigxoqayo389uc/populations.txt\n",
      "Riutilizzo della connessione esistente a www.dropbox.com:443.\n",
      "Richiesta HTTP inviata, in attesa di risposta... 302 Found\n",
      "Posizione: https://uc48c8147758adecaaa818217e59.dl.dropboxusercontent.com/cd/0/inline/BCWJMGyU00ST3o_vQaWbgi3Y5vrTRxMbSGCSC2p_xFoDT80McMLDS93e4KIG_QLuxXwmkapaJ6wP6lHFx0XHolPas1roh50RYgo0FFux4Wg4_g/file# [segue]\n",
      "--2020-10-31 15:43:13--  https://uc48c8147758adecaaa818217e59.dl.dropboxusercontent.com/cd/0/inline/BCWJMGyU00ST3o_vQaWbgi3Y5vrTRxMbSGCSC2p_xFoDT80McMLDS93e4KIG_QLuxXwmkapaJ6wP6lHFx0XHolPas1roh50RYgo0FFux4Wg4_g/file\n",
      "Risoluzione di uc48c8147758adecaaa818217e59.dl.dropboxusercontent.com (uc48c8147758adecaaa818217e59.dl.dropboxusercontent.com)... 162.125.69.15\n",
      "Connessione a uc48c8147758adecaaa818217e59.dl.dropboxusercontent.com (uc48c8147758adecaaa818217e59.dl.dropboxusercontent.com)|162.125.69.15|:443... connesso.\n",
      "Richiesta HTTP inviata, in attesa di risposta... 200 OK\n",
      "Lunghezza: 525 [text/plain]\n",
      "Salvataggio in: \"populations.txt\"\n",
      "\n",
      "populations.txt     100%[===================>]     525  --.-KB/s    in 0s      \n",
      "\n",
      "2020-10-31 15:43:14 (17,9 MB/s) - \"populations.txt\" salvato [525/525]\n",
      "\n"
     ]
    }
   ],
   "source": [
    "! wget https://www.dropbox.com/s/3vigxoqayo389uc/populations.txt"
   ]
  },
  {
   "cell_type": "code",
   "execution_count": 24,
   "metadata": {},
   "outputs": [],
   "source": [
    "data = np.loadtxt(\"populations.txt\")\n",
    "data_1 = data[:,1:] #a matrix without the years column"
   ]
  },
  {
   "cell_type": "code",
   "execution_count": 26,
   "metadata": {},
   "outputs": [
    {
     "name": "stdout",
     "output_type": "stream",
     "text": [
      "[34080.95238095 20166.66666667 42400.        ]\n",
      "[20897.90645809 16254.59153691  3322.50622558]\n",
      "1900 : carrots ---> 48300\n",
      "1901 : carrots ---> 48200\n",
      "1902 : hares ---> 70200\n",
      "1903 : hares ---> 77400\n",
      "1904 : lynxes ---> 59400\n",
      "1905 : lynxes ---> 41700\n",
      "1906 : carrots ---> 38600\n",
      "1907 : carrots ---> 42300\n",
      "1908 : carrots ---> 44500\n",
      "1909 : carrots ---> 42100\n",
      "1910 : carrots ---> 46000\n",
      "1911 : carrots ---> 46800\n",
      "1912 : hares ---> 57000\n",
      "1913 : hares ---> 76600\n",
      "1914 : hares ---> 52300\n",
      "1915 : lynxes ---> 51100\n",
      "1916 : carrots ---> 36700\n",
      "1917 : carrots ---> 41800\n",
      "1918 : carrots ---> 43300\n",
      "1919 : carrots ---> 41300\n",
      "1920 : carrots ---> 47300\n"
     ]
    },
    {
     "data": {
      "image/png": "[encoded data removed]",
      "text/plain": [
       "<Figure size 432x288 with 1 Axes>"
      ]
     },
     "metadata": {
      "needs_background": "light"
     },
     "output_type": "display_data"
    }
   ],
   "source": [
    "years_arr = data[:,0]\n",
    "hares_arr = data[:,1]\n",
    "lynxes_arr = data[:,2]\n",
    "carrots_arr = data[:,3]\n",
    "\n",
    "#plots\n",
    "plt.plot(years_arr,hares_arr, label = \"hares\")\n",
    "plt.plot(years_arr, lynxes_arr, label = \"lynxes\")\n",
    "plt.plot(years_arr, carrots_arr, label = \"carrots\")\n",
    "plt.legend()\n",
    "\n",
    "#statistical properties\n",
    "means = np.mean(data_1, axis=0)\n",
    "print(means)\n",
    "stds = np.std(data_1, axis=0)\n",
    "print(stds)\n",
    "\n",
    "#highest population each year\n",
    "highest = data_1.max(axis=1)\n",
    "for i in range(0,len(highest)):\n",
    "    #get the year and the int value of highest[i]\n",
    "    year = int(data[i,0])\n",
    "    h_value = int(highest[i])\n",
    "    #check in which column the highest[i] is\n",
    "    if h_value == data[i,1]:\n",
    "            print(year, \": hares --->\", h_value)\n",
    "    elif h_value == data[i,2]:\n",
    "            print(year, \": lynxes --->\", h_value)\n",
    "    elif h_value == data[i,3]:\n",
    "            print(year, \": carrots --->\", h_value)\n",
    "        "
   ]
  },
  {
   "cell_type": "code",
   "execution_count": null,
   "metadata": {},
   "outputs": [],
   "source": []
  }
 ],
 "metadata": {
  "kernelspec": {
   "display_name": "Python 3",
   "language": "python",
   "name": "python3"
  },
  "language_info": {
   "codemirror_mode": {
    "name": "ipython",
    "version": 3
   },
   "file_extension": ".py",
   "mimetype": "text/x-python",
   "name": "python",
   "nbconvert_exporter": "python",
   "pygments_lexer": "ipython3",
   "version": "3.8.3"
  }
 },
 "nbformat": 4,
 "nbformat_minor": 2
}
