{
 "cells": [
  {
   "cell_type": "code",
   "execution_count": 4,
   "metadata": {},
   "outputs": [],
   "source": [
    "import numpy as np"
   ]
  },
  {
   "cell_type": "markdown",
   "metadata": {},
   "source": [
    "### Numpy basics"
   ]
  },
  {
   "cell_type": "markdown",
   "metadata": {},
   "source": [
    "1\\. Find the row, column and overall means for the following matrix:\n",
    "\n",
    "```python\n",
    "m = np.arange(12).reshape((3,4))\n",
    "```"
   ]
  },
  {
   "cell_type": "code",
   "execution_count": 3,
   "metadata": {},
   "outputs": [
    {
     "name": "stdout",
     "output_type": "stream",
     "text": [
      "[[ 0  1  2  3]\n",
      " [ 4  5  6  7]\n",
      " [ 8  9 10 11]]\n"
     ]
    }
   ],
   "source": [
    "m = np.arange(12).reshape((3,4))\n",
    "print(m)\n",
    "\n",
    "m_row=[]\n",
    "for i in range(3):\n",
    "    r = np.mean(m[i,:])\n",
    "    m_row.append(r)\n",
    "    \n",
    "m_col=[]\n",
    "for i in range(4):\n",
    "    c = np.mean(m[:,i])\n",
    "    m_col.append(c)\n",
    "    \n",
    "m_over = np.mean(m)"
   ]
  },
  {
   "cell_type": "markdown",
   "metadata": {},
   "source": [
    "2\\. Find the outer product of the following two vecotrs\n",
    "\n",
    "```python\n",
    "u = np.array([1,3,5,7])\n",
    "v = np.array([2,4,6,8])\n",
    "```\n",
    "\n",
    "Do this in the following ways:\n",
    "\n",
    "   * Using the function outer in numpy\n",
    "   * Using a nested for loop or list comprehension\n",
    "   * Using numpy broadcasting operatoins\n"
   ]
  },
  {
   "cell_type": "code",
   "execution_count": 4,
   "metadata": {},
   "outputs": [
    {
     "name": "stdout",
     "output_type": "stream",
     "text": [
      "[[ 2  4  6  8]\n",
      " [ 6 12 18 24]\n",
      " [10 20 30 40]\n",
      " [14 28 42 56]]\n",
      "[[ 2  4  6  8]\n",
      " [ 6 12 18 24]\n",
      " [10 20 30 40]\n",
      " [14 28 42 56]]\n"
     ]
    }
   ],
   "source": [
    "u = np.array([1,3,5,7])\n",
    "v = np.array([2,4,6,8])\n",
    "\n",
    "o1 = np.outer(u, v)\n",
    "\n",
    "o2 = np.zeros(16).reshape(4,4)\n",
    "for i in range(4):\n",
    "    for j in range(4):\n",
    "        o2[i, j] = u[i]*v[j]\n",
    "        \n",
    "print(o1)\n",
    "        \n",
    "o3 = u[:, None] * v[None, :]"
   ]
  },
  {
   "cell_type": "markdown",
   "metadata": {},
   "source": [
    "3\\. Create a 10 by 6 matrix of random uniform numbers. Set all rows with any entry less than 0.1 to be zero\n",
    "\n",
    "Hint: Use the following numpy functions - np.random.random, np.any as well as Boolean indexing and the axis argument."
   ]
  },
  {
   "cell_type": "code",
   "execution_count": 8,
   "metadata": {},
   "outputs": [
    {
     "name": "stdout",
     "output_type": "stream",
     "text": [
      "[[0.45151697 0.0738206  0.31776386 0.95482986 0.37507329 0.91977284]\n",
      " [0.96231261 0.74721524 0.70408896 0.52624627 0.04122062 0.68962124]\n",
      " [0.99201707 0.12566343 0.81768044 0.78646887 0.03216648 0.18811242]\n",
      " [0.6404828  0.2369724  0.64302864 0.08187218 0.38670247 0.90258122]\n",
      " [0.68534461 0.94579707 0.98092919 0.26752846 0.66642188 0.68637195]\n",
      " [0.00968407 0.99892213 0.5911055  0.32030549 0.39753189 0.30886265]\n",
      " [0.01371643 0.81905874 0.27456069 0.21612868 0.37322442 0.8732176 ]\n",
      " [0.55408173 0.66551046 0.50822203 0.5645365  0.75114326 0.89507478]\n",
      " [0.56757482 0.29413525 0.24619372 0.20661227 0.30337274 0.33982767]\n",
      " [0.6518249  0.09519436 0.9672803  0.11809337 0.83235828 0.3444026 ]]\n"
     ]
    },
    {
     "data": {
      "text/plain": [
       "array([[0.        , 0.        , 0.        , 0.        , 0.        ,\n",
       "        0.        ],\n",
       "       [0.        , 0.        , 0.        , 0.        , 0.        ,\n",
       "        0.        ],\n",
       "       [0.        , 0.        , 0.        , 0.        , 0.        ,\n",
       "        0.        ],\n",
       "       [0.        , 0.        , 0.        , 0.        , 0.        ,\n",
       "        0.        ],\n",
       "       [0.68534461, 0.94579707, 0.98092919, 0.26752846, 0.66642188,\n",
       "        0.68637195],\n",
       "       [0.        , 0.        , 0.        , 0.        , 0.        ,\n",
       "        0.        ],\n",
       "       [0.        , 0.        , 0.        , 0.        , 0.        ,\n",
       "        0.        ],\n",
       "       [0.55408173, 0.66551046, 0.50822203, 0.5645365 , 0.75114326,\n",
       "        0.89507478],\n",
       "       [0.56757482, 0.29413525, 0.24619372, 0.20661227, 0.30337274,\n",
       "        0.33982767],\n",
       "       [0.        , 0.        , 0.        , 0.        , 0.        ,\n",
       "        0.        ]])"
      ]
     },
     "execution_count": 8,
     "metadata": {},
     "output_type": "execute_result"
    }
   ],
   "source": [
    "ran = np.random.random(60).reshape(10, 6)\n",
    "print(ran)\n",
    "ran[np.any(ran<0.1, axis=1)]=0\n",
    "ran"
   ]
  },
  {
   "cell_type": "markdown",
   "metadata": {},
   "source": [
    "4\\. Use np.linspace to create an array of 100 numbers between 0 and 2π (includsive).\n",
    "\n",
    "  * Extract every 10th element using slice notation\n",
    "  * Reverse the array using slice notation\n",
    "  * Extract elements where the absolute difference between the sine and cosine functions evaluated at that element is less than 0.1\n",
    "  * Make a plot showing the sin and cos functions and indicate where they are close"
   ]
  },
  {
   "cell_type": "code",
   "execution_count": 13,
   "metadata": {},
   "outputs": [
    {
     "name": "stdout",
     "output_type": "stream",
     "text": [
      "[0.         0.63466518 1.26933037 1.90399555 2.53866073 3.17332591\n",
      " 3.8079911  4.44265628 5.07732146 5.71198664]\n"
     ]
    },
    {
     "data": {
      "text/plain": [
       "<matplotlib.legend.Legend at 0x7f183a81fe80>"
      ]
     },
     "execution_count": 13,
     "metadata": {},
     "output_type": "execute_result"
    },
    {
     "data": {
      "image/png": "[encoded data removed]",
      "text/plain": [
       "<Figure size 432x288 with 1 Axes>"
      ]
     },
     "metadata": {},
     "output_type": "display_data"
    }
   ],
   "source": [
    "x = np.linspace(0, 2*np.pi, 100)\n",
    "print(x[::10])\n",
    "x[::-1]\n",
    "x[np.fabs(np.sin(x)-np.cos(x)) < 0.1]\n",
    "\n",
    "import matplotlib.pyplot as plt\n",
    "%matplotlib inline\n",
    "\n",
    "plt.plot(x, np.sin(x), label='sin')\n",
    "plt.plot(x, np.cos(x), label='cos')\n",
    "plt.legend()"
   ]
  },
  {
   "cell_type": "markdown",
   "metadata": {},
   "source": [
    "5\\. Create a matrix that shows the 10 by 10 multiplication table.\n",
    "\n",
    " * Find the trace of the matrix\n",
    " * Extract the anto-diagonal (this should be ```array([10, 18, 24, 28, 30, 30, 28, 24, 18, 10])```)\n",
    " * Extract the diagnoal offset by 1 upwards (this should be ```array([ 2,  6, 12, 20, 30, 42, 56, 72, 90])```)"
   ]
  },
  {
   "cell_type": "code",
   "execution_count": 5,
   "metadata": {},
   "outputs": [
    {
     "data": {
      "text/plain": [
       "385"
      ]
     },
     "execution_count": 5,
     "metadata": {},
     "output_type": "execute_result"
    }
   ],
   "source": [
    "a = range(1, 11)\n",
    "matrix = np.outer(a,a)\n",
    "diag = np.diag(matrix)\n",
    "trace = sum(diag)\n",
    "anti_diag = np.fliplr(matrix).diagonal()\n",
    "diag_1 = np.diag(matrix[1:])\n",
    "diag_1"
   ]
  },
  {
   "cell_type": "markdown",
   "metadata": {},
   "source": [
    "6\\. Use broadcasting to create a grid of distances\n",
    "\n",
    "Route 66 crosses the following cities in the US: Chicago, Springfield, Saint-Louis, Tulsa, Oklahoma City, Amarillo, Santa Fe, Albuquerque, Flagstaff, Los Angeles\n",
    "The corresponding positions in miles are: 0, 198, 303, 736, 871, 1175, 1475, 1544, 1913, 2448\n",
    "\n",
    "  * Construct a 2D grid of distances among each city along Route 66\n",
    "  * Convert that in km (those savages...)"
   ]
  },
  {
   "cell_type": "code",
   "execution_count": 14,
   "metadata": {},
   "outputs": [
    {
     "name": "stdout",
     "output_type": "stream",
     "text": [
      "[[    0.    316.8   484.8  1177.6  1393.6  1880.   2360.   2470.4  3060.8\n",
      "   3916.8]\n",
      " [ -316.8     0.    168.    860.8  1076.8  1563.2  2043.2  2153.6  2744.\n",
      "   3600. ]\n",
      " [ -484.8  -168.      0.    692.8   908.8  1395.2  1875.2  1985.6  2576.\n",
      "   3432. ]\n",
      " [-1177.6  -860.8  -692.8     0.    216.    702.4  1182.4  1292.8  1883.2\n",
      "   2739.2]\n",
      " [-1393.6 -1076.8  -908.8  -216.      0.    486.4   966.4  1076.8  1667.2\n",
      "   2523.2]\n",
      " [-1880.  -1563.2 -1395.2  -702.4  -486.4     0.    480.    590.4  1180.8\n",
      "   2036.8]\n",
      " [-2360.  -2043.2 -1875.2 -1182.4  -966.4  -480.      0.    110.4   700.8\n",
      "   1556.8]\n",
      " [-2470.4 -2153.6 -1985.6 -1292.8 -1076.8  -590.4  -110.4     0.    590.4\n",
      "   1446.4]\n",
      " [-3060.8 -2744.  -2576.  -1883.2 -1667.2 -1180.8  -700.8  -590.4     0.\n",
      "    856. ]\n",
      " [-3916.8 -3600.  -3432.  -2739.2 -2523.2 -2036.8 -1556.8 -1446.4  -856.\n",
      "      0. ]]\n"
     ]
    }
   ],
   "source": [
    "x = np.array([0, 198, 303, 736, 871, 1175, 1475, 1544, 1913, 2448])\n",
    "grid = x - x[:, None] \n",
    "grid_km = grid * 1.6\n",
    "print(grid_km)"
   ]
  },
  {
   "cell_type": "markdown",
   "metadata": {},
   "source": [
    "7\\. Prime numbers sieve: compute the prime numbers in the 0-N (N=99 to start with) range with a sieve (mask).\n",
    "  * Constract a shape (100,) boolean array, the mask\n",
    "  * Identify the multiples of each number starting from 2 and set accordingly the corresponding mask element\n",
    "  * Apply the mask to obtain an array of ordered prime numbers\n",
    "  * Check the performances (timeit); how does it scale with N?\n",
    "  * Implement the optimization suggested in the [sieve of Eratosthenes](https://en.wikipedia.org/wiki/Sieve_of_Eratosthenes)"
   ]
  },
  {
   "cell_type": "code",
   "execution_count": 8,
   "metadata": {},
   "outputs": [
    {
     "data": {
      "text/plain": [
       "array([ 0,  1,  2,  3,  5,  7, 11, 13, 17, 19, 23, 29, 31, 37, 41, 43, 47,\n",
       "       53, 59, 61, 67, 71, 73, 79, 83, 89, 97])"
      ]
     },
     "execution_count": 8,
     "metadata": {},
     "output_type": "execute_result"
    }
   ],
   "source": [
    "import math\n",
    "\n",
    "x = np.arange(100)\n",
    "\n",
    "def is_prime(n):\n",
    "    if n % 2 == 0 and n > 2: \n",
    "        return False\n",
    "    return all(n % i for i in range(3, int(math.sqrt(n)) + 1, 2))\n",
    "\n",
    "foo = np.vectorize(is_prime)\n",
    "foo(x)\n",
    "x[foo(x)]\n",
    "\n",
    "%timeit x[foo(x)]\n"
   ]
  },
  {
   "cell_type": "markdown",
   "metadata": {},
   "source": [
    "8\\. Diffusion using random walk\n",
    "\n",
    "Consider a simple random walk process: at each step in time, a walker jumps right or left (+1 or -1) with equal probability. The goal is to find the typical distance from the origin of a random walker after a given amount of time. \n",
    "To do that, let's simulate many walkers and create a 2D array with each walker as a raw and the actual time evolution as columns\n",
    "\n",
    "  * Take 1000 walkers and let them walk for 200 steps\n",
    "  * Use randint to create a 2D array of size walkers x steps with values -1 or 1\n",
    "  * Build the actual walking distances for each walker (i.e. another 2D array \"summing on each raw\")\n",
    "  * Take the square of that 2D array (elementwise)\n",
    "  * Compute the mean of the squared distances at each step (i.e. the mean along the columns)\n",
    "  * Plot the average distances (sqrt(distance\\*\\*2)) as a function of time (step)\n",
    "  \n",
    "Did you get what you expected?"
   ]
  },
  {
   "cell_type": "code",
   "execution_count": 13,
   "metadata": {},
   "outputs": [
    {
     "data": {
      "text/plain": [
       "-2.57"
      ]
     },
     "execution_count": 13,
     "metadata": {},
     "output_type": "execute_result"
    },
    {
     "data": {
      "image/png": "[encoded data removed]",
      "text/plain": [
       "<Figure size 432x288 with 1 Axes>"
      ]
     },
     "metadata": {},
     "output_type": "display_data"
    }
   ],
   "source": [
    "import numpy.random as npr\n",
    "npr.seed(123)\n",
    "\n",
    "x = npr.randint(-1,1,size=(1000,200))\n",
    "x[x==0] = 1\n",
    "dist = x.sum(axis=1)\n",
    "square = dist**2\n",
    "np.mean(square)\n",
    "\n",
    "step = x.sum(axis=0)\n",
    "m = np.mean(step)\n",
    "\n",
    "import matplotlib.pyplot as plt\n",
    "%matplotlib inline\n",
    "\n",
    "y = np.arange(200)\n",
    "plt.plot(y, step)\n",
    "plt.plot(y, 0*y+m, 'r')"
   ]
  },
  {
   "cell_type": "markdown",
   "metadata": {},
   "source": [
    "9\\. Analyze a data file \n",
    "  * Download the population of hares, lynxes and carrots at the beginning of the last century.\n",
    "    ```python\n",
    "    ! wget https://www.dropbox.com/s/3vigxoqayo389uc/populations.txt\n",
    "    ```\n",
    "\n",
    "  * Check the content by looking within the file\n",
    "  * Load the data (use an appropriate numpy method) into a 2D array\n",
    "  * Create arrays out of the columns, the arrays being (in order): *year*, *hares*, *lynxes*, *carrots* \n",
    "  * Plot the 3 populations over the years\n",
    "  * Compute the main statistical properties of the dataset (mean, std, correlations, etc.)\n",
    "  * Which species has the highest population each year?\n",
    "\n",
    "Do you feel there is some evident correlation here? [Studies](https://www.enr.gov.nt.ca/en/services/lynx/lynx-snowshoe-hare-cycle) tend to believe so."
   ]
  },
  {
   "cell_type": "code",
   "execution_count": 138,
   "metadata": {},
   "outputs": [
    {
     "name": "stdout",
     "output_type": "stream",
     "text": [
      "--2020-10-27 16:08:34--  https://www.dropbox.com/s/3vigxoqayo389uc/populations.txt\n",
      "Risoluzione di www.dropbox.com (www.dropbox.com)... 162.125.69.1, 2620:100:6025:1::a27d:4501\n",
      "Connessione a www.dropbox.com (www.dropbox.com)|162.125.69.1|:443... connesso.\n",
      "Richiesta HTTP inviata, in attesa di risposta... 301 Moved Permanently\n",
      "Posizione: /s/raw/3vigxoqayo389uc/populations.txt [segue]\n",
      "--2020-10-27 16:08:34--  https://www.dropbox.com/s/raw/3vigxoqayo389uc/populations.txt\n",
      "Riutilizzo della connessione esistente a www.dropbox.com:443.\n",
      "Richiesta HTTP inviata, in attesa di risposta... 302 Found\n",
      "Posizione: https://uc64852668aa1f2eec1209bdea9c.dl.dropboxusercontent.com/cd/0/inline/BCHs-oyhCQZPK3aqnSght4cBuWFayLsEkC8aHiGrldN_vtI_0ulGsE8Vg9fbPqM_4iL8jZWBcaQ2JC-Jk6ijwweMeqFFkb4rPXZ1_C3vq85alg/file# [segue]\n",
      "--2020-10-27 16:08:35--  https://uc64852668aa1f2eec1209bdea9c.dl.dropboxusercontent.com/cd/0/inline/BCHs-oyhCQZPK3aqnSght4cBuWFayLsEkC8aHiGrldN_vtI_0ulGsE8Vg9fbPqM_4iL8jZWBcaQ2JC-Jk6ijwweMeqFFkb4rPXZ1_C3vq85alg/file\n",
      "Risoluzione di uc64852668aa1f2eec1209bdea9c.dl.dropboxusercontent.com (uc64852668aa1f2eec1209bdea9c.dl.dropboxusercontent.com)... 162.125.69.15, 2620:100:6025:15::a27d:450f\n",
      "Connessione a uc64852668aa1f2eec1209bdea9c.dl.dropboxusercontent.com (uc64852668aa1f2eec1209bdea9c.dl.dropboxusercontent.com)|162.125.69.15|:443... connesso.\n",
      "Richiesta HTTP inviata, in attesa di risposta... 200 OK\n",
      "Lunghezza: 525 [text/plain]\n",
      "Salvataggio in: \"populations.txt\"\n",
      "\n",
      "populations.txt     100%[===================>]     525  --.-KB/s    in 0s      \n",
      "\n",
      "2020-10-27 16:08:36 (22,5 MB/s) - \"populations.txt\" salvato [525/525]\n",
      "\n"
     ]
    }
   ],
   "source": [
    "! wget https://www.dropbox.com/s/3vigxoqayo389uc/populations.txt"
   ]
  },
  {
   "cell_type": "code",
   "execution_count": 140,
   "metadata": {},
   "outputs": [
    {
     "name": "stdout",
     "output_type": "stream",
     "text": [
      "# year\thare\tlynx\tcarrot\r\n",
      "1900\t30e3\t4e3\t48300\r\n",
      "1901\t47.2e3\t6.1e3\t48200\r\n",
      "1902\t70.2e3\t9.8e3\t41500\r\n",
      "1903\t77.4e3\t35.2e3\t38200\r\n",
      "1904\t36.3e3\t59.4e3\t40600\r\n",
      "1905\t20.6e3\t41.7e3\t39800\r\n",
      "1906\t18.1e3\t19e3\t38600\r\n",
      "1907\t21.4e3\t13e3\t42300\r\n",
      "1908\t22e3\t8.3e3\t44500\r\n",
      "1909\t25.4e3\t9.1e3\t42100\r\n",
      "1910\t27.1e3\t7.4e3\t46000\r\n",
      "1911\t40.3e3\t8e3\t46800\r\n",
      "1912\t57e3\t12.3e3\t43800\r\n",
      "1913\t76.6e3\t19.5e3\t40900\r\n",
      "1914\t52.3e3\t45.7e3\t39400\r\n",
      "1915\t19.5e3\t51.1e3\t39000\r\n",
      "1916\t11.2e3\t29.7e3\t36700\r\n",
      "1917\t7.6e3\t15.8e3\t41800\r\n",
      "1918\t14.6e3\t9.7e3\t43300\r\n",
      "1919\t16.2e3\t10.1e3\t41300\r\n",
      "1920\t24.7e3\t8.6e3\t47300\r\n"
     ]
    }
   ],
   "source": [
    "! cat populations.txt"
   ]
  },
  {
   "cell_type": "code",
   "execution_count": 158,
   "metadata": {},
   "outputs": [
    {
     "data": {
      "text/plain": [
       "array([[1.        , 0.07189206],\n",
       "       [0.07189206, 1.        ]])"
      ]
     },
     "execution_count": 158,
     "metadata": {},
     "output_type": "execute_result"
    },
    {
     "data": {
      "image/png": "[encoded data removed]",
      "text/plain": [
       "<Figure size 432x288 with 1 Axes>"
      ]
     },
     "metadata": {},
     "output_type": "display_data"
    }
   ],
   "source": [
    "data = np.loadtxt('populations.txt',skiprows=1)\n",
    "year = data[:,0]\n",
    "hares = data[:,1]\n",
    "lynxes = data[:,2]\n",
    "carrots = data[:,3]\n",
    "\n",
    "plt.plot(year, hares, label='hares')\n",
    "plt.plot(year, lynxes, label='lynxes')\n",
    "plt.plot(year, carrots, label='carrots')\n",
    "plt.legend()\n",
    "\n",
    "m_hares = np.mean(hares)\n",
    "m_lynx = np.mean(lynxes)\n",
    "m_carr = np.mean(carrots)\n",
    "\n",
    "s_hares = np.std(hares)\n",
    "s_lynx = np.std(lynxes)\n",
    "s_carr = np.std(carrots)\n",
    "\n",
    "corr_har_lyn = np.corrcoef(hares, lynxes)\n",
    "corr_har_lyn"
   ]
  },
  {
   "cell_type": "code",
   "execution_count": 175,
   "metadata": {},
   "outputs": [
    {
     "data": {
      "text/plain": [
       "array([['1900.0', 'carrots'],\n",
       "       ['1901.0', 'carrots'],\n",
       "       ['1902.0', 'hares'],\n",
       "       ['1903.0', 'hares'],\n",
       "       ['1904.0', 'lynxes'],\n",
       "       ['1905.0', 'lynxes'],\n",
       "       ['1906.0', 'carrots'],\n",
       "       ['1907.0', 'carrots'],\n",
       "       ['1908.0', 'carrots'],\n",
       "       ['1909.0', 'carrots'],\n",
       "       ['1910.0', 'carrots'],\n",
       "       ['1911.0', 'carrots'],\n",
       "       ['1912.0', 'hares'],\n",
       "       ['1913.0', 'hares'],\n",
       "       ['1914.0', 'hares'],\n",
       "       ['1915.0', 'lynxes'],\n",
       "       ['1916.0', 'carrots'],\n",
       "       ['1917.0', 'carrots'],\n",
       "       ['1918.0', 'carrots'],\n",
       "       ['1919.0', 'carrots'],\n",
       "       ['1920.0', 'carrots']], dtype='<U32')"
      ]
     },
     "execution_count": 175,
     "metadata": {},
     "output_type": "execute_result"
    }
   ],
   "source": [
    "label = np.array(['year', 'hares', 'lynxes', 'carrots'])\n",
    "big_species = label[np.argmax(data, axis=1)]\n",
    "highpop = np.column_stack((year, big_species))\n",
    "highpop"
   ]
  },
  {
   "cell_type": "code",
   "execution_count": null,
   "metadata": {},
   "outputs": [],
   "source": []
  }
 ],
 "metadata": {
  "kernelspec": {
   "display_name": "Python 3",
   "language": "python",
   "name": "python3"
  },
  "language_info": {
   "codemirror_mode": {
    "name": "ipython",
    "version": 3
   },
   "file_extension": ".py",
   "mimetype": "text/x-python",
   "name": "python",
   "nbconvert_exporter": "python",
   "pygments_lexer": "ipython3",
   "version": "3.6.9"
  }
 },
 "nbformat": 4,
 "nbformat_minor": 2
}
