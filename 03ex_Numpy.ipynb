{
 "cells": [
  {
   "cell_type": "markdown",
   "metadata": {},
   "source": [
    "### Numpy basics"
   ]
  },
  {
   "cell_type": "code",
   "execution_count": 1,
   "metadata": {},
   "outputs": [],
   "source": [
    "import numpy as np"
   ]
  },
  {
   "cell_type": "markdown",
   "metadata": {},
   "source": [
    "1\\. Find the row, column and overall means for the following matrix:\n",
    "\n",
    "```python\n",
    "m = np.arange(12).reshape((3,4))\n",
    "```"
   ]
  },
  {
   "cell_type": "code",
   "execution_count": 2,
   "metadata": {},
   "outputs": [
    {
     "name": "stdout",
     "output_type": "stream",
     "text": [
      "[[ 0  1  2  3]\n",
      " [ 4  5  6  7]\n",
      " [ 8  9 10 11]]\n",
      "Row means are in order: [1.5, 5.5, 9.5]\n",
      "Columns means are in order: [4.0, 5.0, 6.0, 7.0]\n",
      "The mean of all elements of the matrix is : [5.5]\n"
     ]
    }
   ],
   "source": [
    "m = np.arange(12).reshape((3,4))\n",
    "print(m)\n",
    "#m.shape[1]= number of columns\n",
    "# m.shape[0] = number of rows\n",
    "\n",
    "row_means=[sum(m[i,:])/m.shape[1] for i in range(m.shape[0])]\n",
    "col_means=[sum(m[:,i])/m.shape[0] for i in range(m.shape[1])]\n",
    "tot_mean= [sum(m.flatten())/len(m.flatten())]\n",
    "print('Row means are in order: '+str(row_means))\n",
    "print('Columns means are in order: '+str(col_means))\n",
    "print('The mean of all elements of the matrix is : '+str(tot_mean))"
   ]
  },
  {
   "cell_type": "markdown",
   "metadata": {},
   "source": [
    "2\\. Find the outer product of the following two vecotrs\n",
    "\n",
    "```python\n",
    "u = np.array([1,3,5,7])\n",
    "v = np.array([2,4,6,8])\n",
    "```\n",
    "\n",
    "Do this in the following ways:\n",
    "\n",
    "   * Using the function outer in numpy\n",
    "   * Using a nested for loop or list comprehension\n",
    "   * Using numpy broadcasting operatoins\n"
   ]
  },
  {
   "cell_type": "code",
   "execution_count": 3,
   "metadata": {},
   "outputs": [
    {
     "name": "stdout",
     "output_type": "stream",
     "text": [
      "Function outer in numpy:\n",
      "[[ 2  4  6  8]\n",
      " [ 6 12 18 24]\n",
      " [10 20 30 40]\n",
      " [14 28 42 56]]\n",
      "List comprehension:\n",
      "[[ 2  4  6  8]\n",
      " [ 6 12 18 24]\n",
      " [10 20 30 40]\n",
      " [14 28 42 56]]\n",
      "Numpy broadcasting operators: \n",
      "[[ 2  4  6  8]\n",
      " [ 6 12 18 24]\n",
      " [10 20 30 40]\n",
      " [14 28 42 56]]\n"
     ]
    }
   ],
   "source": [
    "u = np.array([1,3,5,7])\n",
    "v = np.array([2,4,6,8])\n",
    "prod1=np.outer(u,v)\n",
    "print('Function outer in numpy:')\n",
    "print(prod1)\n",
    "print('List comprehension:')\n",
    "prod2=[[ u[i]*v[j] for j in range(len(v))] for i in range(len(u))]\n",
    "print(np.array(prod2))\n",
    "print('Numpy broadcasting operators: ')\n",
    "prod3=np.tile(u,(4,1)).T * v\n",
    "print(prod3)"
   ]
  },
  {
   "cell_type": "markdown",
   "metadata": {},
   "source": [
    "3\\. Create a 10 by 6 matrix of random uniform numbers. Set all rows with any entry less than 0.1 to be zero\n",
    "\n",
    "Hint: Use the following numpy functions - np.random.random, np.any as well as Boolean indexing and the axis argument."
   ]
  },
  {
   "cell_type": "code",
   "execution_count": 4,
   "metadata": {},
   "outputs": [
    {
     "name": "stdout",
     "output_type": "stream",
     "text": [
      "[[0.31597493 0.34669696 0.47450893 0.56270175 0.57769189 0.03627489]\n",
      " [0.45277761 0.07879331 0.3676926  0.37053091 0.42861197 0.94949491]\n",
      " [0.35810229 0.80482007 0.29293995 0.11483355 0.52344943 0.85300049]\n",
      " [0.21694192 0.94596264 0.16374195 0.18466546 0.26633568 0.13522523]\n",
      " [0.80059864 0.28475615 0.85345274 0.56730093 0.43367294 0.8283448 ]\n",
      " [0.62504686 0.57327818 0.89787918 0.58411168 0.56409363 0.23085202]\n",
      " [0.67217827 0.24916984 0.35553151 0.11473273 0.85635842 0.59052141]\n",
      " [0.1815547  0.56213045 0.37464747 0.3304354  0.5688427  0.88909294]\n",
      " [0.86329277 0.94002163 0.93277971 0.61856827 0.25934072 0.89244047]\n",
      " [0.06463773 0.45219131 0.28478734 0.54316055 0.61143032 0.36086004]]\n",
      "Setting 0.1s to 0s :\n",
      "[[0.31597493 0.34669696 0.47450893 0.56270175 0.57769189 0.        ]\n",
      " [0.45277761 0.         0.3676926  0.37053091 0.42861197 0.94949491]\n",
      " [0.35810229 0.80482007 0.29293995 0.11483355 0.52344943 0.85300049]\n",
      " [0.21694192 0.94596264 0.16374195 0.18466546 0.26633568 0.13522523]\n",
      " [0.80059864 0.28475615 0.85345274 0.56730093 0.43367294 0.8283448 ]\n",
      " [0.62504686 0.57327818 0.89787918 0.58411168 0.56409363 0.23085202]\n",
      " [0.67217827 0.24916984 0.35553151 0.11473273 0.85635842 0.59052141]\n",
      " [0.1815547  0.56213045 0.37464747 0.3304354  0.5688427  0.88909294]\n",
      " [0.86329277 0.94002163 0.93277971 0.61856827 0.25934072 0.89244047]\n",
      " [0.         0.45219131 0.28478734 0.54316055 0.61143032 0.36086004]]\n"
     ]
    }
   ],
   "source": [
    "m=np.random.random(10*6)\n",
    "print(m.reshape(10,6))\n",
    "###Setting to zero all values lower than 0.1\n",
    "print('Setting 0.1s to 0s :')\n",
    "for i in range(len(m)):\n",
    "    if m[i]<0.1:\n",
    "        m[i]=0\n",
    "print(m.reshape(10,6))"
   ]
  },
  {
   "cell_type": "markdown",
   "metadata": {},
   "source": [
    "4\\. Use np.linspace to create an array of 100 numbers between 0 and 2π (includsive).\n",
    "\n",
    "  * Extract every 10th element using slice notation\n",
    "  * Reverse the array using slice notation\n",
    "  * Extract elements where the absolute difference between the sine and cosine functions evaluated at that element is less than 0.1\n",
    "  * Make a plot showing the sin and cos functions and indicate where they are close"
   ]
  },
  {
   "cell_type": "code",
   "execution_count": 6,
   "metadata": {},
   "outputs": [
    {
     "name": "stdout",
     "output_type": "stream",
     "text": [
      "[0.         0.06346652 0.12693304 0.19039955 0.25386607 0.31733259\n",
      " 0.38079911 0.44426563 0.50773215 0.57119866 0.63466518 0.6981317\n",
      " 0.76159822 0.82506474 0.88853126 0.95199777 1.01546429 1.07893081\n",
      " 1.14239733 1.20586385 1.26933037 1.33279688 1.3962634  1.45972992\n",
      " 1.52319644 1.58666296 1.65012947 1.71359599 1.77706251 1.84052903\n",
      " 1.90399555 1.96746207 2.03092858 2.0943951  2.15786162 2.22132814\n",
      " 2.28479466 2.34826118 2.41172769 2.47519421 2.53866073 2.60212725\n",
      " 2.66559377 2.72906028 2.7925268  2.85599332 2.91945984 2.98292636\n",
      " 3.04639288 3.10985939 3.17332591 3.23679243 3.30025895 3.36372547\n",
      " 3.42719199 3.4906585  3.55412502 3.61759154 3.68105806 3.74452458\n",
      " 3.8079911  3.87145761 3.93492413 3.99839065 4.06185717 4.12532369\n",
      " 4.1887902  4.25225672 4.31572324 4.37918976 4.44265628 4.5061228\n",
      " 4.56958931 4.63305583 4.69652235 4.75998887 4.82345539 4.88692191\n",
      " 4.95038842 5.01385494 5.07732146 5.14078798 5.2042545  5.26772102\n",
      " 5.33118753 5.39465405 5.45812057 5.52158709 5.58505361 5.64852012\n",
      " 5.71198664 5.77545316 5.83891968 5.9023862  5.96585272 6.02931923\n",
      " 6.09278575 6.15625227 6.21971879 6.28318531]\n",
      "Extraction of 10ths elements of previous array: \n",
      "[0.57119866 1.20586385 1.84052903 2.47519421 3.10985939 3.74452458\n",
      " 4.37918976 5.01385494 5.64852012 6.28318531]\n",
      "Reverse array: \n",
      "[6.28318531 6.21971879 6.15625227 6.09278575 6.02931923 5.96585272\n",
      " 5.9023862  5.83891968 5.77545316 5.71198664 5.64852012 5.58505361\n",
      " 5.52158709 5.45812057 5.39465405 5.33118753 5.26772102 5.2042545\n",
      " 5.14078798 5.07732146 5.01385494 4.95038842 4.88692191 4.82345539\n",
      " 4.75998887 4.69652235 4.63305583 4.56958931 4.5061228  4.44265628\n",
      " 4.37918976 4.31572324 4.25225672 4.1887902  4.12532369 4.06185717\n",
      " 3.99839065 3.93492413 3.87145761 3.8079911  3.74452458 3.68105806\n",
      " 3.61759154 3.55412502 3.4906585  3.42719199 3.36372547 3.30025895\n",
      " 3.23679243 3.17332591 3.10985939 3.04639288 2.98292636 2.91945984\n",
      " 2.85599332 2.7925268  2.72906028 2.66559377 2.60212725 2.53866073\n",
      " 2.47519421 2.41172769 2.34826118 2.28479466 2.22132814 2.15786162\n",
      " 2.0943951  2.03092858 1.96746207 1.90399555 1.84052903 1.77706251\n",
      " 1.71359599 1.65012947 1.58666296 1.52319644 1.45972992 1.3962634\n",
      " 1.33279688 1.26933037 1.20586385 1.14239733 1.07893081 1.01546429\n",
      " 0.95199777 0.88853126 0.82506474 0.76159822 0.6981317  0.63466518\n",
      " 0.57119866 0.50773215 0.44426563 0.38079911 0.31733259 0.25386607\n",
      " 0.19039955 0.12693304 0.06346652 0.        ]\n",
      "sine and cosine abs <1 extraction: \n",
      "[0.76159822 0.82506474 3.87145761 3.93492413]\n"
     ]
    },
    {
     "data": {
      "text/plain": [
       "[<matplotlib.lines.Line2D at 0x159aa0c0ef0>]"
      ]
     },
     "execution_count": 6,
     "metadata": {},
     "output_type": "execute_result"
    },
    {
     "data": {
      "image/png": "[encoded data removed]",
      "text/plain": [
       "<Figure size 432x288 with 1 Axes>"
      ]
     },
     "metadata": {
      "needs_background": "light"
     },
     "output_type": "display_data"
    }
   ],
   "source": [
    "import math\n",
    "import matplotlib.pyplot as plt\n",
    "a = np.linspace(0,2*math.pi,100)\n",
    "print(a)\n",
    "a10th_elem=a[10-1::10]\n",
    "print('Extraction of 10ths elements of previous array: ')\n",
    "print(a10th_elem)\n",
    "a_rev=a[::-1]\n",
    "print('Reverse array: ')\n",
    "print(a_rev)\n",
    "print('sine and cosine abs <1 extraction: ')\n",
    "extr=np.abs(np.sin(a)-np.cos(a))<0.1\n",
    "print(a[extr])\n",
    "\n",
    "plt.plot(a,np.sin(a))\n",
    "plt.plot(a,np.cos(a))\n",
    "plt.plot(a[extr],np.cos(a[extr]),'o')"
   ]
  },
  {
   "cell_type": "markdown",
   "metadata": {},
   "source": [
    "5\\. Create a matrix that shows the 10 by 10 multiplication table.\n",
    "\n",
    " * Find the trace of the matrix\n",
    " * Extract the anto-diagonal (this should be ```array([10, 18, 24, 28, 30, 30, 28, 24, 18, 10])```)\n",
    " * Extract the diagnoal offset by 1 upwards (this should be ```array([ 2,  6, 12, 20, 30, 42, 56, 72, 90])```)"
   ]
  },
  {
   "cell_type": "code",
   "execution_count": 8,
   "metadata": {},
   "outputs": [
    {
     "name": "stdout",
     "output_type": "stream",
     "text": [
      "[[  1.   2.   3.   4.   5.   6.   7.   8.   9.  10.]\n",
      " [  2.   4.   6.   8.  10.  12.  14.  16.  18.  20.]\n",
      " [  3.   6.   9.  12.  15.  18.  21.  24.  27.  30.]\n",
      " [  4.   8.  12.  16.  20.  24.  28.  32.  36.  40.]\n",
      " [  5.  10.  15.  20.  25.  30.  35.  40.  45.  50.]\n",
      " [  6.  12.  18.  24.  30.  36.  42.  48.  54.  60.]\n",
      " [  7.  14.  21.  28.  35.  42.  49.  56.  63.  70.]\n",
      " [  8.  16.  24.  32.  40.  48.  56.  64.  72.  80.]\n",
      " [  9.  18.  27.  36.  45.  54.  63.  72.  81.  90.]\n",
      " [ 10.  20.  30.  40.  50.  60.  70.  80.  90. 100.]]\n",
      "385.0\n",
      "[10. 18. 24. 28. 30. 30. 28. 24. 18. 10.]\n",
      "[ 2.  6. 12. 20. 30. 42. 56. 72. 90.]\n"
     ]
    }
   ],
   "source": [
    "a = np.fromfunction(lambda i,j: (i+1)*(j+1)  ,(10,10))\n",
    "trace = np.sum(a[np.eye(10, dtype=bool)])\n",
    "print(a)\n",
    "print(trace)\n",
    "\n",
    "anto_diag = np.fromfunction(lambda i,j: j+i==9 , (10,10))\n",
    "print(a[anto_diag])\n",
    "\n",
    "diag_UPoff = a[ np.eye(10, k=1, dtype = bool)]\n",
    "print(diag_UPoff)"
   ]
  },
  {
   "cell_type": "markdown",
   "metadata": {},
   "source": [
    "6\\. Use broadcasting to create a grid of distances\n",
    "\n",
    "Route 66 crosses the following cities in the US: Chicago, Springfield, Saint-Louis, Tulsa, Oklahoma City, Amarillo, Santa Fe, Albuquerque, Flagstaff, Los Angeles\n",
    "The corresponding positions in miles are: 0, 198, 303, 736, 871, 1175, 1475, 1544, 1913, 2448\n",
    "\n",
    "  * Construct a 2D grid of distances among each city along Route 66\n",
    "  * Convert that in km (those savages...)"
   ]
  },
  {
   "cell_type": "code",
   "execution_count": 35,
   "metadata": {},
   "outputs": [
    {
     "name": "stdout",
     "output_type": "stream",
     "text": [
      "Grid of distances in miles: \n",
      "[[   0.  198.  303.  736.  871. 1175. 1475. 1544. 1913. 2448.]\n",
      " [ 198.    0.  105.  538.  673.  977. 1277. 1346. 1715. 2250.]\n",
      " [ 303.  105.    0.  433.  568.  872. 1172. 1241. 1610. 2145.]\n",
      " [ 736.  538.  433.    0.  135.  439.  739.  808. 1177. 1712.]\n",
      " [ 871.  673.  568.  135.    0.  304.  604.  673. 1042. 1577.]\n",
      " [1175.  977.  872.  439.  304.    0.  300.  369.  738. 1273.]\n",
      " [1475. 1277. 1172.  739.  604.  300.    0.   69.  438.  973.]\n",
      " [1544. 1346. 1241.  808.  673.  369.   69.    0.  369.  904.]\n",
      " [1913. 1715. 1610. 1177. 1042.  738.  438.  369.    0.  535.]\n",
      " [2448. 2250. 2145. 1712. 1577. 1273.  973.  904.  535.    0.]]\n",
      "Grid of ditances expressed in km: \n",
      "[[   0.       318.64932  487.63002 1184.47424 1401.73514 1890.9745\n",
      "  2373.7765  2484.82096 3078.66742 3939.66432]\n",
      " [ 318.64932    0.       168.9807   865.82492 1083.08582 1572.32518\n",
      "  2055.12718 2166.17164 2760.0181  3621.015  ]\n",
      " [ 487.63002  168.9807     0.       696.84422  914.10512 1403.34448\n",
      "  1886.14648 1997.19094 2591.0374  3452.0343 ]\n",
      " [1184.47424  865.82492  696.84422    0.       217.2609   706.50026\n",
      "  1189.30226 1300.34672 1894.19318 2755.19008]\n",
      " [1401.73514 1083.08582  914.10512  217.2609     0.       489.23936\n",
      "   972.04136 1083.08582 1676.93228 2537.92918]\n",
      " [1890.9745  1572.32518 1403.34448  706.50026  489.23936    0.\n",
      "   482.802    593.84646 1187.69292 2048.68982]\n",
      " [2373.7765  2055.12718 1886.14648 1189.30226  972.04136  482.802\n",
      "     0.       111.04446  704.89092 1565.88782]\n",
      " [2484.82096 2166.17164 1997.19094 1300.34672 1083.08582  593.84646\n",
      "   111.04446    0.       593.84646 1454.84336]\n",
      " [3078.66742 2760.0181  2591.0374  1894.19318 1676.93228 1187.69292\n",
      "   704.89092  593.84646    0.       860.9969 ]\n",
      " [3939.66432 3621.015   3452.0343  2755.19008 2537.92918 2048.68982\n",
      "  1565.88782 1454.84336  860.9969     0.     ]]\n"
     ]
    }
   ],
   "source": [
    "cities=np.array(['Chi','Spr','St.L','Tul','OKC','Ama','S.Fe','Alb','Flg','L.A.'])\n",
    "dist_m=np.array([0,198,303,736,871,1175,1475,1544,1913,2448])\n",
    "Grid=np.zeros((len(cities),len(dist_m)))\n",
    "print('Grid of distances in miles: ')\n",
    "\n",
    "for i in range(len(cities)):\n",
    "    Grid[i,:]=[np.abs(dist_m[i]-dist_m[j]) for j in range(len(cities))]\n",
    "print(Grid)\n",
    "print('Grid of ditances expressed in km: ')\n",
    "m2km=1.60934\n",
    "print(m2km*Grid)"
   ]
  },
  {
   "cell_type": "markdown",
   "metadata": {},
   "source": [
    "7\\. Prime numbers sieve: compute the prime numbers in the 0-N (N=99 to start with) range with a sieve (mask).\n",
    "  * Constract a shape (100,) boolean array, the mask\n",
    "  * Identify the multiples of each number starting from 2 and set accordingly the corresponding mask element\n",
    "  * Apply the mask to obtain an array of ordered prime numbers\n",
    "  * Check the performances (timeit); how does it scale with N?\n",
    "  * Implement the optimization suggested in the [sieve of Eratosthenes](https://en.wikipedia.org/wiki/Sieve_of_Eratosthenes)"
   ]
  },
  {
   "cell_type": "code",
   "execution_count": 11,
   "metadata": {},
   "outputs": [
    {
     "name": "stdout",
     "output_type": "stream",
     "text": [
      "Prime numbers from 0 to 100: \n",
      "[ 0  1  2  3  5  7 11 13 17 19 23 29 31 37 41 43 47 53 59 61 67 71 73 79\n",
      " 83 89 97]\n",
      "Time for N = 100: 0.002162694931030\n",
      "[ 0  1  2  3  5  7 11 13 17 19 23 29 31 37 41 43 47 53 59 61 67 71 73 79\n",
      " 83 89 97]\n",
      "Time for N = 100: 0.001000165939331\n"
     ]
    }
   ],
   "source": [
    "import time\n",
    "start = time.time()\n",
    "N=100\n",
    "a=np.arange(N)\n",
    "mask = np.ones((N),dtype = bool)\n",
    "#print(a)\n",
    "\n",
    "\n",
    "for i in range(2,N):\n",
    "    for j in range (2,i):\n",
    "        if a[i]%j==0:\n",
    "            mask[i]=False\n",
    "print('Prime numbers from 0 to '+str(N)+': ')\n",
    "print(a[mask])\n",
    "end = time.time()-start\n",
    "print(\"Time for N = %i: %.15f\" %(N,end))\n",
    "\n",
    "###############################################\n",
    "\n",
    "a2 = np.arange(N)\n",
    "mask2 = np.ones((N),dtype = bool)\n",
    "start2 = time.time()\n",
    "for i in range(2,N):\n",
    "    j=i\n",
    "    j+=i \n",
    "    while(j<N):\n",
    "        mask2[j] = False\n",
    "        j += i\n",
    "        \n",
    "primes2 = a2[mask2]\n",
    "print(primes2)\n",
    "\n",
    "end2 = time.time()-start2\n",
    "print(\"Time for N = %i: %.15f\" %(N,end2))"
   ]
  },
  {
   "cell_type": "markdown",
   "metadata": {},
   "source": [
    "8\\. Diffusion using random walk\n",
    "\n",
    "Consider a simple random walk process: at each step in time, a walker jumps right or left (+1 or -1) with equal probability. The goal is to find the typical distance from the origin of a random walker after a given amount of time. \n",
    "To do that, let's simulate many walkers and create a 2D array with each walker as a raw and the actual time evolution as columns\n",
    "\n",
    "  * Take 1000 walkers and let them walk for 200 steps\n",
    "  * Use randint to create a 2D array of size walkers x steps with values -1 or 1\n",
    "  * Build the actual walking distances for each walker (i.e. another 2D array \"summing on each raw\")\n",
    "  * Take the square of that 2D array (elementwise)\n",
    "  * Compute the mean of the squared distances at each step (i.e. the mean along the columns)\n",
    "  * Plot the average distances (sqrt(distance\\*\\*2)) as a function of time (step)\n",
    "  \n",
    "Did you get what you expected?"
   ]
  },
  {
   "cell_type": "code",
   "execution_count": 10,
   "metadata": {},
   "outputs": [
    {
     "name": "stdout",
     "output_type": "stream",
     "text": [
      "I expected a smaller maximum distance.\n"
     ]
    },
    {
     "data": {
      "image/png": "[encoded data removed]",
      "text/plain": [
       "<Figure size 432x288 with 1 Axes>"
      ]
     },
     "metadata": {
      "needs_background": "light"
     },
     "output_type": "display_data"
    }
   ],
   "source": [
    "from matplotlib import pyplot as plt\n",
    "steps = np.random.choice([-1,1], size = (1000,200))\n",
    "distances = np.cumsum(steps, axis = 1)\n",
    "distances = np.power(distances,2)\n",
    "mean_squared = np.average(distances, axis = 0)\n",
    "av_distances = np.power(mean_squared, 1/2)\n",
    "plt.plot(range(200),av_distances)\n",
    "\n",
    "print(\"I expected a smaller maximum distance.\")"
   ]
  },
  {
   "cell_type": "markdown",
   "metadata": {},
   "source": [
    "9\\. Analyze a data file \n",
    "  * Download the population of hares, lynxes and carrots at the beginning of the last century.\n",
    "    ```python\n",
    "    ! wget https://www.dropbox.com/s/3vigxoqayo389uc/populations.txt\n",
    "    ```\n",
    "\n",
    "  * Check the content by looking within the file\n",
    "  * Load the data (use an appropriate numpy method) into a 2D array\n",
    "  * Create arrays out of the columns, the arrays being (in order): *year*, *hares*, *lynxes*, *carrots* \n",
    "  * Plot the 3 populations over the years\n",
    "  * Compute the main statistical properties of the dataset (mean, std, correlations, etc.)\n",
    "  * Which species has the highest population each year?\n",
    "\n",
    "Do you feel there is some evident correlation here? [Studies](https://www.enr.gov.nt.ca/en/services/lynx/lynx-snowshoe-hare-cycle) tend to believe so."
   ]
  },
  {
   "cell_type": "code",
   "execution_count": 65,
   "metadata": {},
   "outputs": [
    {
     "name": "stdout",
     "output_type": "stream",
     "text": [
      "means: [34080.95238095238, 20166.666666666668, 42400.0]\n",
      "standard deviations: [20897.906458089667, 16254.591536908763, 3322.5062255844787]\n",
      "Correlation between hares and carrots is: [3.032147e+10]\n",
      "Correlation between carrots and lynxes is: [1.718454e+10]\n",
      "Correlation between hares and lynxes is: [1.494612e+10]\n",
      "Max population in 1900: Carrots\n",
      "Max population in 1901: Carrots\n",
      "Max population in 1902: Hares\n",
      "Max population in 1903: Hares\n",
      "Max population in 1904: Lynxes\n",
      "Max population in 1905: Lynxes\n",
      "Max population in 1906: Carrots\n",
      "Max population in 1907: Carrots\n",
      "Max population in 1908: Carrots\n",
      "Max population in 1909: Carrots\n",
      "Max population in 1910: Carrots\n",
      "Max population in 1911: Carrots\n",
      "Max population in 1912: Hares\n",
      "Max population in 1913: Hares\n",
      "Max population in 1914: Hares\n",
      "Max population in 1915: Lynxes\n",
      "Max population in 1916: Carrots\n",
      "Max population in 1917: Carrots\n",
      "Max population in 1918: Carrots\n",
      "Max population in 1919: Carrots\n",
      "Max population in 1920: Carrots\n",
      "In conclusion I can ovserve that some correlation exists, in particular the increase of lynxes cause a decrease of hares. While carrots are more indipendent even though small variations occurs, depending on the hares population.\n"
     ]
    },
    {
     "data": {
      "image/png": "[encoded data removed]",
      "text/plain": [
       "<Figure size 432x288 with 1 Axes>"
      ]
     },
     "metadata": {
      "needs_background": "light"
     },
     "output_type": "display_data"
    }
   ],
   "source": [
    "data = np.loadtxt('populations.txt', dtype='float', skiprows=1)\n",
    "years = data[:,0]\n",
    "hares = data[:,1]\n",
    "lynxes = data[:,2]\n",
    "carrots = data[:,3]\n",
    "\n",
    "plt.plot(years,hares)\n",
    "plt.plot(years,lynxes)\n",
    "plt.plot(years,carrots)\n",
    "plt.legend([\"Hares\",\"Lynxes\",\"Carrots\"])\n",
    "\n",
    "#means and standard deviations\n",
    "means = list(map((np.average), [hares, lynxes, carrots]))\n",
    "stdv =  list(map(np.std, [hares, lynxes, carrots]))\n",
    "print('means: '+str(means))\n",
    "print('standard deviations: '+str(stdv))\n",
    "\n",
    "# correlations\n",
    "corrHC = np.correlate(hares, carrots)\n",
    "corrCL = np.correlate(carrots, lynxes)\n",
    "corrHL = np.correlate(hares, lynxes)\n",
    "\n",
    "print('Correlation between hares and carrots is: ' + str(corrHC))\n",
    "print('Correlation between carrots and lynxes is: ' + str(corrCL))\n",
    "print('Correlation between hares and lynxes is: ' + str(corrHL))\n",
    "\n",
    "index = np.argmax(data[:, 1:], axis = 1)\n",
    "spec = ['Hares','Lynxes','Carrots']\n",
    "for i in range(len(years)):\n",
    "    print('Max population in %i: %s' %( years[i], spec[index[i]] ))\n",
    "    \n",
    "print('In conclusion I can ovserve that some correlation exists, in particular the increase of lynxes cause a decrease of hares. While carrots are more indipendent even though small variations occurs, depending on the hares population.')"
   ]
  },
  {
   "cell_type": "markdown",
   "metadata": {},
   "source": [
    "##### "
   ]
  }
 ],
 "metadata": {
  "kernelspec": {
   "display_name": "Python 3",
   "language": "python",
   "name": "python3"
  },
  "language_info": {
   "codemirror_mode": {
    "name": "ipython",
    "version": 3
   },
   "file_extension": ".py",
   "mimetype": "text/x-python",
   "name": "python",
   "nbconvert_exporter": "python",
   "pygments_lexer": "ipython3",
   "version": "3.7.3"
  }
 },
 "nbformat": 4,
 "nbformat_minor": 2
}
