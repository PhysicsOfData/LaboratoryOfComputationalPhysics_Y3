{
 "cells": [
  {
   "cell_type": "markdown",
   "metadata": {},
   "source": [
    "1. Find the row, column and overall means for the following matrix:"
   ]
  },
  {
   "cell_type": "code",
   "execution_count": 5,
   "metadata": {},
   "outputs": [
    {
     "name": "stdout",
     "output_type": "stream",
     "text": [
      "[[ 0  1  2  3]\n",
      " [ 4  5  6  7]\n",
      " [ 8  9 10 11]]\n",
      "Dimension count= 2\n",
      "shape of the array: (3, 4)\n",
      "size of the first dimension (axis): 3\n",
      "int32\n"
     ]
    }
   ],
   "source": [
    "import numpy as np\n",
    "m = np.arange(12).reshape((3,4))\n",
    "print(m)\n",
    "print(\"Dimension=\", m.ndim)\n",
    "print (\"Shape of the array:\", m.shape)\n",
    "print (\"Size of the first dimension (axis):\", len(m))\n",
    "print(m.dtype)"
   ]
  },
  {
   "cell_type": "markdown",
   "metadata": {},
   "source": [
    "2. Find the outer product of the following two vecotrs\n",
    "\n",
    "    u = np.array([1,3,5,7])\n",
    "    v = np.array([2,4,6,8])\n",
    "\n",
    "    Do this in the following ways:\n",
    "\n",
    "    Using the function outer in numpy\n",
    "    Using a nested for loop or list comprehension\n",
    "    Using numpy broadcasting operatoins\n",
    "\n"
   ]
  },
  {
   "cell_type": "code",
   "execution_count": 8,
   "metadata": {},
   "outputs": [
    {
     "name": "stdout",
     "output_type": "stream",
     "text": [
      "[1 3 5 7]\n",
      "[2 4 6 8]\n",
      "with outer function : \n",
      " [[ 2  4  6  8]\n",
      " [ 6 12 18 24]\n",
      " [10 20 30 40]\n",
      " [14 28 42 56]]\n",
      "with loop: \n",
      " [[ 2.  4.  6.  8.]\n",
      " [ 6. 12. 18. 24.]\n",
      " [10. 20. 30. 40.]\n",
      " [14. 28. 42. 56.]]\n",
      "[[ 2  6 10 14]\n",
      " [ 4 12 20 28]\n",
      " [ 6 18 30 42]\n",
      " [ 8 24 40 56]]\n"
     ]
    }
   ],
   "source": [
    "u = np.array([1,3,5,7])\n",
    "v = np.array([2,4,6,8])\n",
    "print(u)\n",
    "print(v)\n",
    "\n",
    "#a\n",
    "u_v_outer=np.outer(u,v)\n",
    "print(\"Outer:\",\"\\n\",u_v_outer)\n",
    "\n",
    "#b\n",
    "l=np.zeros((4,4))\n",
    "i=0\n",
    "j=0\n",
    "for i in range(len(u)):\n",
    "     for j in range(len(v)):\n",
    "         l[i,j]=u[i]*v[j]\n",
    "print(\"Loop:\" , \"\\n\" ,l)\n",
    "\n",
    "#c\n",
    "u_v =u * v.reshape((4, 1))\n",
    "print(u_v)"
   ]
  },
  {
   "cell_type": "markdown",
   "metadata": {},
   "source": [
    "3. Create a 10 by 6 matrix of random uniform numbers. Set all rows with any entry less than 0.1 to be zero"
   ]
  },
  {
   "cell_type": "code",
   "execution_count": 9,
   "metadata": {},
   "outputs": [
    {
     "name": "stdout",
     "output_type": "stream",
     "text": [
      "(10,6) matrix: \n",
      " [[0.48799925 0.29355476 0.39722047 0.88067531 0.64278104 0.54483547]\n",
      " [0.30497721 0.89449421 0.52497406 0.10159829 0.05577484 0.25327645]\n",
      " [0.53738149 0.07227272 0.05049351 0.2845375  0.10554233 0.75162674]\n",
      " [0.67040435 0.0269838  0.84280317 0.03049504 0.34337024 0.30932202]\n",
      " [0.25406054 0.87849662 0.61538861 0.7088767  0.75600994 0.33108713]\n",
      " [0.06377317 0.2630489  0.20027365 0.87287273 0.46524256 0.84920729]\n",
      " [0.34776037 0.64500661 0.4034553  0.11654924 0.94713473 0.02025636]\n",
      " [0.86088703 0.49407739 0.52245856 0.59083368 0.6347546  0.0168405 ]\n",
      " [0.95077337 0.00788231 0.00807572 0.59847243 0.89221109 0.64657306]\n",
      " [0.5724685  0.40185126 0.00250767 0.05051433 0.03903195 0.53945467]]\n",
      "New matrix: \n",
      " [[0.48799925 0.29355476 0.39722047 0.88067531 0.64278104 0.54483547]\n",
      " [0.         0.         0.         0.         0.         0.        ]\n",
      " [0.         0.         0.         0.         0.         0.        ]\n",
      " [0.         0.         0.         0.         0.         0.        ]\n",
      " [0.25406054 0.87849662 0.61538861 0.7088767  0.75600994 0.33108713]\n",
      " [0.         0.         0.         0.         0.         0.        ]\n",
      " [0.         0.         0.         0.         0.         0.        ]\n",
      " [0.         0.         0.         0.         0.         0.        ]\n",
      " [0.         0.         0.         0.         0.         0.        ]\n",
      " [0.         0.         0.         0.         0.         0.        ]]\n"
     ]
    }
   ],
   "source": [
    "rand_r = np.random.random((10,6))\n",
    "print(\"(10,6) matrix:\" , \"\\n\",rand_r)\n",
    "\n",
    "rand_r[(rand_r < 0.1).any(axis=1), :] = 0\n",
    "print(\"New matrix:\" , \"\\n\",rand_r)"
   ]
  },
  {
   "cell_type": "markdown",
   "metadata": {},
   "source": [
    "4. Use np.linspace to create an array of 100 numbers between 0 and 2π (includsive).\n",
    "\n",
    "    Extract every 10th element using slice notation\n",
    "    Reverse the array using slice notation\n",
    "    Extract elements where the absolute difference between the sine and cosine functions evaluated at that element is less than 0.1\n",
    "    Make a plot showing the sin and cos functions and indicate where they are close\n",
    "\n"
   ]
  },
  {
   "cell_type": "code",
   "execution_count": null,
   "metadata": {},
   "outputs": [],
   "source": [
    "from numpy import pi\n",
    "import matplotlib.pyplot as plt\n",
    "\n",
    "x=np.linspace(0,2*pi,100)\n",
    "print(\"main matrix:\",\"\\n\",x)\n",
    "\n",
    "#a) Extract every 10th element using slice notation\n",
    "ex_x=x[::10]\n",
    "print(\"Every 10th element is extracted:\", \"\\n\", ex_x)\n",
    "\n",
    "#b)Reverse the array using slice notation\n",
    "re_x=x[::-1]\n",
    "print(\"reverse matrix:\",\"\\n\",re_x)\n",
    "re_ex_x=ex_x[::-1]\n",
    "print(\"reverse extracted matrix:\",\"\\n\",re_ex_x)\n",
    "\n",
    "#c)Extract elements where the absolute difference between the sine and cosine functions evaluated at that element is less than 0.1\n",
    "x_x = np.abs(np.sin(x)-np.cos(x)) < 0.1\n",
    "print(\"nex matrix:\",\"\\n\",x[x_x])\n",
    "\n",
    "#d)Make a plot showing the sin and cos functions and indicate where they are close\n",
    "plt.scatter(x[x_x], np.sin(x[x_x]))\n",
    "plt.plot(x, np.sin(x), x, np.cos(x));"
   ]
  },
  {
   "cell_type": "markdown",
   "metadata": {},
   "source": [
    "5. Create a matrix that shows the 10 by 10 multiplication table.\n",
    "\n",
    "    Find the trace of the matrix\n",
    "    Extract the anto-diagonal (this should be array([10, 18, 24, 28, 30, 30, 28, 24, 18, 10]))\n",
    "    Extract the diagnoal offset by 1 upwards (this should be array([ 2,  6, 12, 20, 30, 42, 56, 72, 90]))\n",
    "\n"
   ]
  },
  {
   "cell_type": "code",
   "execution_count": null,
   "metadata": {},
   "outputs": [],
   "source": [
    "x=np.arange(1, 11)\n",
    "m=x[:, None] * x[None, :]\n",
    "print(\"multiplication table:\",\"\\n\",m)\n",
    "\n",
    "#a)Find the trace of the matrix\n",
    "t_x=m.trace()\n",
    "print(\"trace of matrix:\",t_x)\n",
    "\n",
    "#b)Extract the anto-diagonal\n",
    "a_d=np.flipud(m).diagonal()\n",
    "print(\"anto diagonal:\", a_d)\n",
    "\n",
    "#c)Extract the diagnoal offset by 1 upwards\n",
    "o=m.diagonal(offset=1)\n",
    "print(\"extracted:\",o)"
   ]
  },
  {
   "cell_type": "markdown",
   "metadata": {},
   "source": [
    "6. Use broadcasting to create a grid of distances\n",
    "\n",
    "    Route 66 crosses the following cities in the US: Chicago, Springfield, Saint-Louis, Tulsa, Oklahoma City, Amarillo, Santa Fe, Albuquerque, Flagstaff, Los Angeles The corresponding positions in miles are: 0, 198, 303, 736, 871, 1175, 1475, 1544, 1913, 2448\n",
    "\n",
    "    Construct a 2D grid of distances among each city along Route 66\n",
    "    Convert that in km (those savages...)\n",
    "\n"
   ]
  },
  {
   "cell_type": "code",
   "execution_count": null,
   "metadata": {},
   "outputs": [],
   "source": [
    "m=np.array([0, 198, 303, 736, 871, 1175, 1475, 1544, 1913, 2448])\n",
    "print(\"miles array:\",m)\n",
    "\n",
    "d= np.abs(m-m[:, np.newaxis])\n",
    "print(\"distance array:\",\"\\n\",d)\n",
    "d_km = d/1.6\n",
    "print(\"distance array in km:\",\"\\n\" ,d_km)"
   ]
  },
  {
   "cell_type": "markdown",
   "metadata": {},
   "source": [
    "7. Prime numbers sieve: compute the prime numbers in the 0-N (N=99 to start with) range with a sieve (mask).\n",
    "\n",
    "    Constract a shape (100,) boolean array, the mask\n",
    "    Identify the multiples of each number starting from 2 and set accordingly the corresponding mask element\n",
    "    Apply the mask to obtain an array of ordered prime numbers\n",
    "    Check the performances (timeit); how does it scale with N?\n",
    "    Implement the optimization suggested in the sieve of Eratosthenes\n",
    "\n"
   ]
  },
  {
   "cell_type": "code",
   "execution_count": null,
   "metadata": {},
   "outputs": [],
   "source": [
    "p = np.ones((100,), dtype=bool)\n",
    "print(p)"
   ]
  },
  {
   "cell_type": "markdown",
   "metadata": {},
   "source": [
    "\n",
    "\n",
    "8. Diffusion using random walk\n",
    "\n",
    "   Consider a simple random walk process: at each step in time, a walker jumps right or left (+1 or -1) with equal probability. The goal is to find the typical distance from the origin of a random walker after a given amount of time. To do that, let's simulate many walkers and create a 2D array with each walker as a raw and the actual time evolution as columns\n",
    "\n",
    "    Take 1000 walkers and let them walk for 200 steps\n",
    "    Use randint to create a 2D array of size walkers x steps with values -1 or 1\n",
    "    Build the actual walking distances for each walker (i.e. another 2D array \"summing on each raw\")\n",
    "    Take the square of that 2D array (elementwise)\n",
    "    Compute the mean of the squared distances at each step (i.e. the mean along the columns)\n",
    "    Plot the average distances (sqrt(distance**2)) as a function of time (step)\n",
    "\n",
    "   Did you get what you expected?\n"
   ]
  },
  {
   "cell_type": "code",
   "execution_count": null,
   "metadata": {},
   "outputs": [],
   "source": [
    "from pylab import *\n",
    "import matplotlib.pyplot as plt\n",
    "# Take 1000 walkers and let them walk for 200 steps\n",
    "\n",
    "walker=1000\n",
    "step= 200\n",
    "step_m=np.arange(200).reshape(1,200)\n",
    "print(step_m)\n",
    "\n",
    "# Use randint to create a 2D array of size walkers x steps with values -1 or 1\n",
    "u = 2*randint(0,2,size=(walker,step))-1\n",
    "print(\"10000 walkers walk 200 steps:\",\"\\n\",u)\n",
    "#Build the actual walking distances for each walker\n",
    "distt=np.sum(u,axis=1).tolist() #sum of steps\n",
    "b=np.array(distt)\n",
    "\n",
    "shape=(1000,1)\n",
    "dist=b.reshape(shape)\n",
    "print(\"distance matrix:\",\"\\n\", dist)\n",
    "#Take the square of that 2D array\n",
    "square_dist=np.square(dist)\n",
    "print(\"square of distances matrix:\",\"\\n\",square_dist)\n",
    "#Compute the mean of the squared distances at each step\n",
    "mean=square_dist.mean(axis=1)\n",
    "print(\"mean of each step matrix:\",\"\\n\",mean)\n",
    "#Plot the average distances (sqrt(distance**2)) as a function of time (step)\n",
    "\n",
    "average_dist=np.sqrt(square_dist)\n",
    "print(average_dist)\n",
    "# plt.plot(step_m,average_dist)"
   ]
  },
  {
   "cell_type": "markdown",
   "metadata": {},
   "source": [
    "9. Analyze a data file\n",
    "\n",
    "    Download the population of hares, lynxes and carrots at the beginning of the last century.\n",
    "\n",
    "    ! wget https://www.dropbox.com/s/3vigxoqayo389uc/populations.txt\n",
    "\n",
    "    Check the content by looking within the file\n",
    "    Load the data (use an appropriate numpy method) into a 2D array\n",
    "    Create arrays out of the columns, the arrays being (in order): year, hares, lynxes, carrots\n",
    "    Plot the 3 populations over the years\n",
    "    Compute the main statistical properties of the dataset (mean, std, correlations, etc.)\n",
    "    Which species has the highest population each year?\n"
   ]
  },
  {
   "cell_type": "code",
   "execution_count": null,
   "metadata": {},
   "outputs": [],
   "source": [
    "import matplotlib.pyplot as plt\n",
    "\n",
    "#Load the into a 2D array\n",
    "filename = '/Users/Selen/Desktop/populations.txt' #please download the file and change the address.\n",
    "data = np.loadtxt(filename)\n",
    "print(data)\n",
    "\n",
    "#Create arrays out of the columns\n",
    "year=np.array(data[:,:1])\n",
    "print(\"*year*:\",\"\\n\",year)\n",
    "hares=np.array(data[:,1:2])\n",
    "print(\"*hares*:\",\"\\n\",hares)\n",
    "lynxes=np.array(data[:,2:3])\n",
    "print(\"*lynxes*:\",\"\\n\",lynxes)\n",
    "carrots=np.array(data[:,3:4])\n",
    "print(\"*carrots*:\",\"\\n\",carrots)\n"
   ]
  }
 ],
 "metadata": {
  "kernelspec": {
   "display_name": "Python 3",
   "language": "python",
   "name": "python3"
  },
  "language_info": {
   "codemirror_mode": {
    "name": "ipython",
    "version": 3
   },
   "file_extension": ".py",
   "mimetype": "text/x-python",
   "name": "python",
   "nbconvert_exporter": "python",
   "pygments_lexer": "ipython3",
   "version": "3.8.3"
  }
 },
 "nbformat": 4,
 "nbformat_minor": 4
}
