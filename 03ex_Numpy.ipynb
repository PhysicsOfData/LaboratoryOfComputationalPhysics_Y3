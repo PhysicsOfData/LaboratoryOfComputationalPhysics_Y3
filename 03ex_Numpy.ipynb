{
 "cells": [
  {
   "cell_type": "markdown",
   "metadata": {},
   "source": [
    "### Numpy basics"
   ]
  },
  {
   "cell_type": "markdown",
   "metadata": {},
   "source": [
    "1\\. Find the row, column and overall means for the following matrix:\n",
    "\n",
    "```python\n",
    "m = np.arange(12).reshape((3,4))\n",
    "```"
   ]
  },
  {
   "cell_type": "code",
   "execution_count": null,
   "metadata": {},
   "outputs": [],
   "source": [
    "import numpy as np\n",
    "m = np.arange(12).reshape((3,4))\n",
    "print(m)\n",
    "print(\"Dimension count=\", m.ndim)\n",
    "print (\"shape of the array:\", m.shape)\n",
    "print (\"size of the first dimension (axis):\", len(m))\n",
    "print(m.dtype)\n"
   ]
  },
  {
   "cell_type": "markdown",
   "metadata": {},
   "source": [
    "2\\. Find the outer product of the following two vecotrs\n",
    "\n",
    "```python\n",
    "u = np.array([1,3,5,7])\n",
    "v = np.array([2,4,6,8])\n",
    "```\n",
    "\n",
    "Do this in the following ways:\n",
    "\n",
    "   * Using the function outer in numpy\n",
    "   * Using a nested for loop or list comprehension\n",
    "   * Using numpy broadcasting operatoins\n"
   ]
  },
  {
   "cell_type": "code",
   "execution_count": null,
   "metadata": {},
   "outputs": [],
   "source": [
    "import numpy as np\n",
    "u = np.array([1,3,5,7])\n",
    "v = np.array([2,4,6,8])\n",
    "print(u)\n",
    "print(v)\n",
    "\n",
    "#a\n",
    "u_v_outer=np.outer(u,v)\n",
    "print(\"with outer function :\",\"\\n\",u_v_outer)\n",
    "\n",
    "#b\n",
    "l=np.zeros((4,4))\n",
    "i=0\n",
    "j=0\n",
    "for i in range(len(u)):\n",
    "    for j in range(len(v)):\n",
    "        l[i,j]=u[i]*v[j]\n",
    "print(\"with loop:\" , \"\\n\" ,l)\n",
    "\n",
    "#c\n",
    "u_v =u * v.reshape((4, 1))\n",
    "print(u_v)"
   ]
  },
  {
   "cell_type": "markdown",
   "metadata": {},
   "source": [
    "3\\. Create a 10 by 6 matrix of random uniform numbers. Set all rows with any entry less than 0.1 to be zero\n",
    "\n",
    "Hint: Use the following numpy functions - np.random.random, np.any as well as Boolean indexing and the axis argument."
   ]
  },
  {
   "cell_type": "code",
   "execution_count": null,
   "metadata": {},
   "outputs": [],
   "source": [
    "import numpy as np\n",
    "rand_r = np.random.random((10,6))\n",
    "print(\"(10,6) matrix:\" , \"\\n\",rand_r)\n",
    "\n",
    "rand_r[(rand_r < 0.1).any(axis=1), :] = 0\n",
    "print(\"New matrix:\" , \"\\n\",rand_r)\n"
   ]
  },
  {
   "cell_type": "markdown",
   "metadata": {},
   "source": [
    "4\\. Use np.linspace to create an array of 100 numbers between 0 and 2π (includsive).\n",
    "\n",
    "  * Extract every 10th element using slice notation\n",
    "  * Reverse the array using slice notation\n",
    "  * Extract elements where the absolute difference between the sine and cosine functions evaluated at that element is less than 0.1\n",
    "  * Make a plot showing the sin and cos functions and indicate where they are close"
   ]
  },
  {
   "cell_type": "code",
   "execution_count": null,
   "metadata": {},
   "outputs": [],
   "source": [
    "import numpy as np\n",
    "from numpy import pi\n",
    "import matplotlib.pyplot as plt\n",
    "\n",
    "x=np.linspace(0,2*pi,100)\n",
    "print(\"main matrix:\",\"\\n\",x)\n",
    "#a) Extract every 10th element using slice notation\n",
    "ex_x=x[::10]\n",
    "print(\"Every 10th element is extracted:\", \"\\n\", ex_x)\n",
    "#b)Reverse the array using slice notation\n",
    "re_x=x[::-1]\n",
    "print(\"reverse matrix:\",\"\\n\",re_x)\n",
    "re_ex_x=ex_x[::-1]\n",
    "print(\"reverse extracted matrix:\",\"\\n\",re_ex_x)\n",
    "#c)Extract elements where the absolute difference between the sine and cosine functions evaluated at that element is less than 0.1\n",
    "x_x = np.abs(np.sin(x)-np.cos(x)) < 0.1\n",
    "print(\"nex matrix:\",\"\\n\",x[x_x])\n",
    "#d)Make a plot showing the sin and cos functions and indicate where they are close\n",
    "plt.scatter(x[x_x], np.sin(x[x_x]))\n",
    "plt.plot(x, np.sin(x), x, np.cos(x));"
   ]
  },
  {
   "cell_type": "markdown",
   "metadata": {},
   "source": [
    "5\\. Create a matrix that shows the 10 by 10 multiplication table.\n",
    "\n",
    " * Find the trace of the matrix\n",
    " * Extract the anto-diagonal (this should be ```array([10, 18, 24, 28, 30, 30, 28, 24, 18, 10])```)\n",
    " * Extract the diagnoal offset by 1 upwards (this should be ```array([ 2,  6, 12, 20, 30, 42, 56, 72, 90])```)"
   ]
  },
  {
   "cell_type": "code",
   "execution_count": null,
   "metadata": {},
   "outputs": [],
   "source": [
    "import numpy as np\n",
    "x=np.arange(1, 11)\n",
    "m=x[:, None] * x[None, :]\n",
    "print(\"multiplication table:\",\"\\n\",m)\n",
    "#a)Find the trace of the matrix\n",
    "t_x=m.trace()\n",
    "print(\"trace of matrix:\",t_x)\n",
    "#b)Extract the anto-diagonal\n",
    "a_d=np.flipud(m).diagonal()\n",
    "print(\"anto diagonal:\", a_d)\n",
    "#c)Extract the diagnoal offset by 1 upwards\n",
    "o=m.diagonal(offset=1)\n",
    "print(\"extracted:\",o)"
   ]
  },
  {
   "cell_type": "markdown",
   "metadata": {},
   "source": [
    "6\\. Use broadcasting to create a grid of distances\n",
    "\n",
    "Route 66 crosses the following cities in the US: Chicago, Springfield, Saint-Louis, Tulsa, Oklahoma City, Amarillo, Santa Fe, Albuquerque, Flagstaff, Los Angeles\n",
    "The corresponding positions in miles are: 0, 198, 303, 736, 871, 1175, 1475, 1544, 1913, 2448\n",
    "\n",
    "  * Construct a 2D grid of distances among each city along Route 66\n",
    "  * Convert that in km (those savages...)"
   ]
  },
  {
   "cell_type": "code",
   "execution_count": 1,
   "metadata": {},
   "outputs": [
    {
     "name": "stdout",
     "output_type": "stream",
     "text": [
      "miles array: [   0  198  303  736  871 1175 1475 1544 1913 2448]\n",
      "distance array: \n",
      " [[   0  198  303  736  871 1175 1475 1544 1913 2448]\n",
      " [ 198    0  105  538  673  977 1277 1346 1715 2250]\n",
      " [ 303  105    0  433  568  872 1172 1241 1610 2145]\n",
      " [ 736  538  433    0  135  439  739  808 1177 1712]\n",
      " [ 871  673  568  135    0  304  604  673 1042 1577]\n",
      " [1175  977  872  439  304    0  300  369  738 1273]\n",
      " [1475 1277 1172  739  604  300    0   69  438  973]\n",
      " [1544 1346 1241  808  673  369   69    0  369  904]\n",
      " [1913 1715 1610 1177 1042  738  438  369    0  535]\n",
      " [2448 2250 2145 1712 1577 1273  973  904  535    0]]\n",
      "distance array in km: \n",
      " [[   0.     123.75   189.375  460.     544.375  734.375  921.875  965.\n",
      "  1195.625 1530.   ]\n",
      " [ 123.75     0.      65.625  336.25   420.625  610.625  798.125  841.25\n",
      "  1071.875 1406.25 ]\n",
      " [ 189.375   65.625    0.     270.625  355.     545.     732.5    775.625\n",
      "  1006.25  1340.625]\n",
      " [ 460.     336.25   270.625    0.      84.375  274.375  461.875  505.\n",
      "   735.625 1070.   ]\n",
      " [ 544.375  420.625  355.      84.375    0.     190.     377.5    420.625\n",
      "   651.25   985.625]\n",
      " [ 734.375  610.625  545.     274.375  190.       0.     187.5    230.625\n",
      "   461.25   795.625]\n",
      " [ 921.875  798.125  732.5    461.875  377.5    187.5      0.      43.125\n",
      "   273.75   608.125]\n",
      " [ 965.     841.25   775.625  505.     420.625  230.625   43.125    0.\n",
      "   230.625  565.   ]\n",
      " [1195.625 1071.875 1006.25   735.625  651.25   461.25   273.75   230.625\n",
      "     0.     334.375]\n",
      " [1530.    1406.25  1340.625 1070.     985.625  795.625  608.125  565.\n",
      "   334.375    0.   ]]\n"
     ]
    }
   ],
   "source": [
    "import numpy as np\n",
    "m=np.array([0, 198, 303, 736, 871, 1175, 1475, 1544, 1913, 2448])\n",
    "print(\"miles array:\",m)\n",
    "d= np.abs(m-m[:, np.newaxis])\n",
    "print(\"distance array:\",\"\\n\",d)\n",
    "d_km = d/1.6\n",
    "print(\"distance array in km:\",\"\\n\" ,d_km)"
   ]
  },
  {
   "cell_type": "markdown",
   "metadata": {},
   "source": [
    "7\\. Prime numbers sieve: compute the prime numbers in the 0-N (N=99 to start with) range with a sieve (mask).\n",
    "  * Constract a shape (100,) boolean array, the mask\n",
    "  * Identify the multiples of each number starting from 2 and set accordingly the corresponding mask element\n",
    "  * Apply the mask to obtain an array of ordered prime numbers\n",
    "  * Check the performances (timeit); how does it scale with N?\n",
    "  * Implement the optimization suggested in the [sieve of Eratosthenes](https://en.wikipedia.org/wiki/Sieve_of_Eratosthenes)"
   ]
  },
  {
   "cell_type": "markdown",
   "metadata": {},
   "source": [
    "8\\. Diffusion using random walk\n",
    "\n",
    "Consider a simple random walk process: at each step in time, a walker jumps right or left (+1 or -1) with equal probability. The goal is to find the typical distance from the origin of a random walker after a given amount of time. \n",
    "To do that, let's simulate many walkers and create a 2D array with each walker as a raw and the actual time evolution as columns\n",
    "\n",
    "  * Take 1000 walkers and let them walk for 200 steps\n",
    "  * Use randint to create a 2D array of size walkers x steps with values -1 or 1\n",
    "  * Build the actual walking distances for each walker (i.e. another 2D array \"summing on each raw\")\n",
    "  * Take the square of that 2D array (elementwise)\n",
    "  * Compute the mean of the squared distances at each step (i.e. the mean along the columns)\n",
    "  * Plot the average distances (sqrt(distance\\*\\*2)) as a function of time (step)\n",
    "  \n",
    "Did you get what you expected?"
   ]
  },
  {
   "cell_type": "code",
   "execution_count": null,
   "metadata": {},
   "outputs": [],
   "source": [
    "import numpy as np\n",
    "from pylab import *\n",
    "import matplotlib.pyplot as plt\n",
    "\n",
    "# Take 1000 walkers and let them walk for 200 steps\n",
    "walker=1000\n",
    "step= 200\n",
    "\n",
    "# Use randint to create a 2D array of size walkers x steps with values -1 or 1\n",
    "u = 2*randint(0,2,size=(walker,step))-1\n",
    "print(\"10000 walkers walk 200 steps:\",\"\\n\",u)\n",
    "\n",
    "#Build the actual walking distances for each walker\n",
    "distt=np.sum(u,axis=1).tolist() #sum of steps\n",
    "b=np.array(distt)\n",
    "shape=(1000,1)\n",
    "dist=b.reshape(shape)\n",
    "print(\"distance matrix:\",\"\\n\", dist)\n",
    "\n",
    "#Take the square of that 2D array\n",
    "square_dist=np.square(dist)\n",
    "print(\"square of distances matrix:\",\"\\n\",square_dist)\n",
    "\n",
    "#Compute the mean of the squared distances at each step\n",
    "mean=square_dist.mean(axis=1)\n",
    "print(\"mean of each step matrix:\",\"\\n\",mean)\n",
    "\n",
    "#Plot the average distances (sqrt(distance**2)) as a function of time (step)\n",
    "average_dist=np.sqrt(square_dist)\n",
    "print(average_dist)\n",
    "# plt.plot(step,average_dist)\n"
   ]
  },
  {
   "cell_type": "markdown",
   "metadata": {},
   "source": [
    "9\\. Analyze a data file \n",
    "  * Download the population of hares, lynxes and carrots at the beginning of the last century.\n",
    "    ```python\n",
    "    ! wget https://www.dropbox.com/s/3vigxoqayo389uc/populations.txt\n",
    "    ```\n",
    "\n",
    "  * Check the content by looking within the file\n",
    "  * Load the data (use an appropriate numpy method) into a 2D array\n",
    "  * Create arrays out of the columns, the arrays being (in order): *year*, *hares*, *lynxes*, *carrots* \n",
    "  * Plot the 3 populations over the years\n",
    "  * Compute the main statistical properties of the dataset (mean, std, correlations, etc.)\n",
    "  * Which species has the highest population each year?\n",
    "\n",
    "Do you feel there is some evident correlation here? [Studies](https://www.enr.gov.nt.ca/en/services/lynx/lynx-snowshoe-hare-cycle) tend to believe so."
   ]
  },
  {
   "cell_type": "code",
   "execution_count": null,
   "metadata": {},
   "outputs": [],
   "source": [
    "import numpy as np\n",
    "import matplotlib.pyplot as plt\n",
    "\n",
    "#Load the into a 2D array\n",
    "filename = '/Users/Selen/Desktop/populations.txt' #please download the file and change the address.\n",
    "data = np.loadtxt(filename)\n",
    "print(data)\n",
    "\n",
    "#Create arrays out of the columns\n",
    "#1st\n",
    "year=np.array(data[:,:1])\n",
    "print(\"*year*:\",\"\\n\",year)\n",
    "hares=np.array(data[:,1:2])\n",
    "print(\"*hares*:\",\"\\n\",hares)\n",
    "lynxes=np.array(data[:,2:3])\n",
    "print(\"*lynxes*:\",\"\\n\",lynxes)\n",
    "carrots=np.array(data[:,3:4])\n",
    "print(\"*carrots*:\",\"\\n\",carrots)\n",
    "#2nd\n",
    "year, hare, lynx, carrot = data.T\n",
    "\n",
    "#Plot the 3 populations over the years\n",
    "populations=data[:, 1:]\n",
    "print(populations)\n",
    "plt.plot(year,lynx, year, hare,year,carrot)\n",
    "plt.legend(['lynx', 'hare','carrot'])\n",
    "\n",
    "#Compute the main statistical properties of the dataset\n",
    "mean=populations.mean(axis=0)\n",
    "std=populations.std(axis=0)\n",
    "print(\"Mean : [hare, lynx, carrot]:\", mean)\n",
    "print(\"Std : [hare, lynx, carrot]:\", std)\n",
    "largest_pop=year[np.argmax(populations, axis=0)]\n",
    "print( \"The largest populations according to years : [hare, lynx, carrot]\" , largest_pop)\n",
    "lowest_pop=year[np.argmin(populations, axis=0)]\n",
    "print( \"The lowest populations according to years : [hare, lynx, carrot]\" , lowest_pop)\n",
    "#Which species has the highest population each year?\n"
   ]
  }
 ],
 "metadata": {
  "kernelspec": {
   "display_name": "Python 3",
   "language": "python",
   "name": "python3"
  },
  "language_info": {
   "codemirror_mode": {
    "name": "ipython",
    "version": 3
   },
   "file_extension": ".py",
   "mimetype": "text/x-python",
   "name": "python",
   "nbconvert_exporter": "python",
   "pygments_lexer": "ipython3",
   "version": "3.8.3"
  }
 },
 "nbformat": 4,
 "nbformat_minor": 2
}
