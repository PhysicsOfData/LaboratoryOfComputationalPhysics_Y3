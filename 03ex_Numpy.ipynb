{
 "cells": [
  {
   "cell_type": "markdown",
   "metadata": {},
   "source": [
    "### Numpy basics"
   ]
  },
  {
   "cell_type": "markdown",
   "metadata": {},
   "source": [
    "1\\. Find the row, column and overall means for the following matrix:\n",
    "\n",
    "```python\n",
    "m = np.arange(12).reshape((3,4))\n",
    "```"
   ]
  },
  {
   "cell_type": "code",
   "execution_count": 1,
   "metadata": {},
   "outputs": [
    {
     "name": "stdout",
     "output_type": "stream",
     "text": [
      "[[ 0  1  2  3]\n",
      " [ 4  5  6  7]\n",
      " [ 8  9 10 11]]\n",
      "overall mean:  5.5\n",
      "0 -th column mean:  4.0\n",
      "1 -th column mean:  5.0\n",
      "2 -th column mean:  6.0\n",
      "3 -th column mean:  7.0\n",
      "0 -th row mean:  1.5\n",
      "1 -th row mean:  5.5\n",
      "2 -th row mean:  9.5\n"
     ]
    }
   ],
   "source": [
    "import numpy as np\n",
    "m = np.arange(12).reshape((3,4))\n",
    "print(m)\n",
    "\n",
    "print(\"overall mean: \",np.mean(m))\n",
    "for i in range(m.shape[1]):\n",
    "    print(i,\"-th column mean: \",np.mean(m[:,i]))\n",
    "for i in range(m.shape[0]):\n",
    "    print(i,\"-th row mean: \",np.mean(m[i,:]))"
   ]
  },
  {
   "cell_type": "markdown",
   "metadata": {},
   "source": [
    "2\\. Find the outer product of the following two vecotrs\n",
    "\n",
    "```python\n",
    "u = np.array([1,3,5,7])\n",
    "v = np.array([2,4,6,8])\n",
    "```\n",
    "\n",
    "Do this in the following ways:\n",
    "\n",
    "   * Using the function outer in numpy\n",
    "   * Using a nested for loop or list comprehension\n",
    "   * Using numpy broadcasting operatoins\n"
   ]
  },
  {
   "cell_type": "code",
   "execution_count": 2,
   "metadata": {},
   "outputs": [
    {
     "name": "stdout",
     "output_type": "stream",
     "text": [
      "[[ 2  4  6  8]\n",
      " [ 6 12 18 24]\n",
      " [10 20 30 40]\n",
      " [14 28 42 56]]\n",
      "[[ 2.  4.  6.  8.]\n",
      " [ 6. 12. 18. 24.]\n",
      " [10. 20. 30. 40.]\n",
      " [14. 28. 42. 56.]]\n",
      "[[ 2  4  6  8]\n",
      " [ 6 12 18 24]\n",
      " [10 20 30 40]\n",
      " [14 28 42 56]]\n"
     ]
    }
   ],
   "source": [
    "u = np.array([1,3,5,7])\n",
    "v = np.array([2,4,6,8])\n",
    "\n",
    "print(np.outer(u,v))\n",
    "\n",
    "#loop\n",
    "p = np.ones((len(u),len(v)))\n",
    "for i in range(0,len(u)):\n",
    "    for j in range(0,len(v)):\n",
    "        p[i,j] = u[i]*v[j]            \n",
    "print(p)\n",
    "\n",
    "#broadcasting operation\n",
    "u1 = np.tile(u, (4, 1)).T\n",
    "#print(u1)\n",
    "print(u1*v)"
   ]
  },
  {
   "cell_type": "markdown",
   "metadata": {},
   "source": [
    "3\\. Create a 10 by 6 matrix of random uniform numbers. Set all rows with any entry less than 0.1 to be zero\n",
    "\n",
    "Hint: Use the following numpy functions - np.random.random, np.any as well as Boolean indexing and the axis argument."
   ]
  },
  {
   "cell_type": "code",
   "execution_count": 16,
   "metadata": {},
   "outputs": [
    {
     "name": "stdout",
     "output_type": "stream",
     "text": [
      "[[0.69646919 0.28613933 0.22685145 0.55131477 0.71946897 0.42310646]\n",
      " [0.9807642  0.68482974 0.4809319  0.39211752 0.34317802 0.72904971]\n",
      " [0.43857224 0.0596779  0.39804426 0.73799541 0.18249173 0.17545176]\n",
      " [0.53155137 0.53182759 0.63440096 0.84943179 0.72445532 0.61102351]\n",
      " [0.72244338 0.32295891 0.36178866 0.22826323 0.29371405 0.63097612]\n",
      " [0.09210494 0.43370117 0.43086276 0.4936851  0.42583029 0.31226122]\n",
      " [0.42635131 0.89338916 0.94416002 0.50183668 0.62395295 0.1156184 ]\n",
      " [0.31728548 0.41482621 0.86630916 0.25045537 0.48303426 0.98555979]\n",
      " [0.51948512 0.61289453 0.12062867 0.8263408  0.60306013 0.54506801]\n",
      " [0.34276383 0.30412079 0.41702221 0.68130077 0.87545684 0.51042234]] \n",
      "\n",
      "[[0.69646919 0.28613933 0.22685145 0.55131477 0.71946897 0.42310646]\n",
      " [0.9807642  0.68482974 0.4809319  0.39211752 0.34317802 0.72904971]\n",
      " [0.43857224 0.         0.39804426 0.73799541 0.18249173 0.17545176]\n",
      " [0.53155137 0.53182759 0.63440096 0.84943179 0.72445532 0.61102351]\n",
      " [0.72244338 0.32295891 0.36178866 0.22826323 0.29371405 0.63097612]\n",
      " [0.         0.43370117 0.43086276 0.4936851  0.42583029 0.31226122]\n",
      " [0.42635131 0.89338916 0.94416002 0.50183668 0.62395295 0.1156184 ]\n",
      " [0.31728548 0.41482621 0.86630916 0.25045537 0.48303426 0.98555979]\n",
      " [0.51948512 0.61289453 0.12062867 0.8263408  0.60306013 0.54506801]\n",
      " [0.34276383 0.30412079 0.41702221 0.68130077 0.87545684 0.51042234]]\n"
     ]
    }
   ],
   "source": [
    "import numpy.random as npr\n",
    "npr.seed(123) # fix seed \n",
    "m=npr.rand(10,6)\n",
    "print(m,'\\n')\n",
    "m[m<0.1]=0\n",
    "print(m)"
   ]
  },
  {
   "cell_type": "markdown",
   "metadata": {},
   "source": [
    "4\\. Use np.linspace to create an array of 100 numbers between 0 and 2π (includsive).\n",
    "\n",
    "  * Extract every 10th element using slice notation\n",
    "  * Reverse the array using slice notation\n",
    "  * Extract elements where the absolute difference between the sine and cosine functions evaluated at that element is less than 0.1\n",
    "  * Make a plot showing the sin and cos functions and indicate where they are close"
   ]
  },
  {
   "cell_type": "code",
   "execution_count": 4,
   "metadata": {},
   "outputs": [
    {
     "name": "stdout",
     "output_type": "stream",
     "text": [
      "[0.         0.06346652 0.12693304 0.19039955 0.25386607 0.31733259\n",
      " 0.38079911 0.44426563 0.50773215 0.57119866 0.63466518 0.6981317\n",
      " 0.76159822 0.82506474 0.88853126 0.95199777 1.01546429 1.07893081\n",
      " 1.14239733 1.20586385 1.26933037 1.33279688 1.3962634  1.45972992\n",
      " 1.52319644 1.58666296 1.65012947 1.71359599 1.77706251 1.84052903\n",
      " 1.90399555 1.96746207 2.03092858 2.0943951  2.15786162 2.22132814\n",
      " 2.28479466 2.34826118 2.41172769 2.47519421 2.53866073 2.60212725\n",
      " 2.66559377 2.72906028 2.7925268  2.85599332 2.91945984 2.98292636\n",
      " 3.04639288 3.10985939 3.17332591 3.23679243 3.30025895 3.36372547\n",
      " 3.42719199 3.4906585  3.55412502 3.61759154 3.68105806 3.74452458\n",
      " 3.8079911  3.87145761 3.93492413 3.99839065 4.06185717 4.12532369\n",
      " 4.1887902  4.25225672 4.31572324 4.37918976 4.44265628 4.5061228\n",
      " 4.56958931 4.63305583 4.69652235 4.75998887 4.82345539 4.88692191\n",
      " 4.95038842 5.01385494 5.07732146 5.14078798 5.2042545  5.26772102\n",
      " 5.33118753 5.39465405 5.45812057 5.52158709 5.58505361 5.64852012\n",
      " 5.71198664 5.77545316 5.83891968 5.9023862  5.96585272 6.02931923\n",
      " 6.09278575 6.15625227 6.21971879 6.28318531] \n",
      "\n",
      "[0.         0.63466518 1.26933037 1.90399555 2.53866073 3.17332591\n",
      " 3.8079911  4.44265628 5.07732146 5.71198664] \n",
      "\n",
      "[6.28318531 6.21971879 6.15625227 6.09278575 6.02931923 5.96585272\n",
      " 5.9023862  5.83891968 5.77545316 5.71198664 5.64852012 5.58505361\n",
      " 5.52158709 5.45812057 5.39465405 5.33118753 5.26772102 5.2042545\n",
      " 5.14078798 5.07732146 5.01385494 4.95038842 4.88692191 4.82345539\n",
      " 4.75998887 4.69652235 4.63305583 4.56958931 4.5061228  4.44265628\n",
      " 4.37918976 4.31572324 4.25225672 4.1887902  4.12532369 4.06185717\n",
      " 3.99839065 3.93492413 3.87145761 3.8079911  3.74452458 3.68105806\n",
      " 3.61759154 3.55412502 3.4906585  3.42719199 3.36372547 3.30025895\n",
      " 3.23679243 3.17332591 3.10985939 3.04639288 2.98292636 2.91945984\n",
      " 2.85599332 2.7925268  2.72906028 2.66559377 2.60212725 2.53866073\n",
      " 2.47519421 2.41172769 2.34826118 2.28479466 2.22132814 2.15786162\n",
      " 2.0943951  2.03092858 1.96746207 1.90399555 1.84052903 1.77706251\n",
      " 1.71359599 1.65012947 1.58666296 1.52319644 1.45972992 1.3962634\n",
      " 1.33279688 1.26933037 1.20586385 1.14239733 1.07893081 1.01546429\n",
      " 0.95199777 0.88853126 0.82506474 0.76159822 0.6981317  0.63466518\n",
      " 0.57119866 0.50773215 0.44426563 0.38079911 0.31733259 0.25386607\n",
      " 0.19039955 0.12693304 0.06346652 0.        ] \n",
      "\n",
      "[3.93492413 3.87145761 0.82506474 0.76159822] \n",
      "\n"
     ]
    }
   ],
   "source": [
    "a = np.linspace(0, 2*np.pi, 100)\n",
    "print (a,'\\n')\n",
    "#extract every 10 elements\n",
    "b=a[::10]\n",
    "print(b,'\\n')\n",
    "#reverse array\n",
    "a = a[::-1]\n",
    "print(a,'\\n')\n",
    "#3rd point\n",
    "mask = (abs(np.sin(a)-np.cos(a))<0.1)\n",
    "c=a[mask]\n",
    "print(c,'\\n')\n"
   ]
  },
  {
   "cell_type": "code",
   "execution_count": 15,
   "metadata": {},
   "outputs": [
    {
     "data": {
      "image/png": "[encoded data removed]",
      "text/plain": [
       "<Figure size 432x288 with 1 Axes>"
      ]
     },
     "metadata": {
      "needs_background": "light"
     },
     "output_type": "display_data"
    }
   ],
   "source": [
    "#plot\n",
    "import matplotlib.pyplot as plt \n",
    "\n",
    "x = np.linspace(0, 2*np.pi, 100)\n",
    "y1 = np.sin(x) \n",
    "y2 = np.cos(x)\n",
    "plt.plot(x, y1);\n",
    "plt.plot(x, y2);\n",
    "\n",
    "#Function sine and cosine are close near 0.8 and 3.9, which agrees with the values found in the previous point"
   ]
  },
  {
   "cell_type": "markdown",
   "metadata": {},
   "source": [
    "5\\. Create a matrix that shows the 10 by 10 multiplication table.\n",
    "\n",
    " * Find the trace of the matrix\n",
    " * Extract the anto-diagonal (this should be ```array([10, 18, 24, 28, 30, 30, 28, 24, 18, 10])```)\n",
    " * Extract the diagnoal offset by 1 upwards (this should be ```array([ 2,  6, 12, 20, 30, 42, 56, 72, 90])```)"
   ]
  },
  {
   "cell_type": "code",
   "execution_count": 6,
   "metadata": {},
   "outputs": [
    {
     "name": "stdout",
     "output_type": "stream",
     "text": [
      "[[  1   2   3   4   5   6   7   8   9  10]\n",
      " [  2   4   6   8  10  12  14  16  18  20]\n",
      " [  3   6   9  12  15  18  21  24  27  30]\n",
      " [  4   8  12  16  20  24  28  32  36  40]\n",
      " [  5  10  15  20  25  30  35  40  45  50]\n",
      " [  6  12  18  24  30  36  42  48  54  60]\n",
      " [  7  14  21  28  35  42  49  56  63  70]\n",
      " [  8  16  24  32  40  48  56  64  72  80]\n",
      " [  9  18  27  36  45  54  63  72  81  90]\n",
      " [ 10  20  30  40  50  60  70  80  90 100]] \n",
      "\n",
      "The trace is:  385 \n",
      "\n",
      "[10 18 24 28 30 30 28 24 18 10] \n",
      "\n",
      "[[ 0  2  0  0  0  0  0  0  0  0]\n",
      " [ 0  0  6  0  0  0  0  0  0  0]\n",
      " [ 0  0  0 12  0  0  0  0  0  0]\n",
      " [ 0  0  0  0 20  0  0  0  0  0]\n",
      " [ 0  0  0  0  0 30  0  0  0  0]\n",
      " [ 0  0  0  0  0  0 42  0  0  0]\n",
      " [ 0  0  0  0  0  0  0 56  0  0]\n",
      " [ 0  0  0  0  0  0  0  0 72  0]\n",
      " [ 0  0  0  0  0  0  0  0  0 90]\n",
      " [ 0  0  0  0  0  0  0  0  0  0]] \n",
      "\n",
      "[ 2  6 12 20 30 42 56 72 90]\n"
     ]
    }
   ],
   "source": [
    "mat1 = np.array([i*j for i in range(1,11) for j in range(1,11)])\n",
    "mat = mat1.reshape(10,10)\n",
    "print(mat,'\\n')\n",
    "\n",
    "#trace\n",
    "trace = np.trace(mat)\n",
    "print('The trace is: ',trace,'\\n')\n",
    "\n",
    "#anti-diagonal\n",
    "mat2 = np.fliplr(mat)\n",
    "anti_diag = mat2.diagonal()\n",
    "print(anti_diag,'\\n')\n",
    "\n",
    "#offset diagonal\n",
    "mat3 = np.tril(mat,+1)\n",
    "mat4 = np.triu(mat3,+1)\n",
    "print(mat4,'\\n')     #In this matrix only remain the terms belonging to the diagonal I'm interested in\n",
    "mask=(mat4!=0)\n",
    "mat5 = mat4[mask]\n",
    "print(mat5)"
   ]
  },
  {
   "cell_type": "markdown",
   "metadata": {},
   "source": [
    "6\\. Use broadcasting to create a grid of distances\n",
    "\n",
    "Route 66 crosses the following cities in the US: Chicago, Springfield, Saint-Louis, Tulsa, Oklahoma City, Amarillo, Santa Fe, Albuquerque, Flagstaff, Los Angeles\n",
    "The corresponding positions in miles are: 0, 198, 303, 736, 871, 1175, 1475, 1544, 1913, 2448\n",
    "\n",
    "  * Construct a 2D grid of distances among each city along Route 66\n",
    "  * Convert that in km (those savages...)"
   ]
  },
  {
   "cell_type": "code",
   "execution_count": 7,
   "metadata": {},
   "outputs": [
    {
     "name": "stdout",
     "output_type": "stream",
     "text": [
      "[[   0  198  303  736  871 1175 1475 1544 1913 2448]\n",
      " [ 198    0  105  538  673  977 1277 1346 1715 2250]\n",
      " [ 303  105    0  433  568  872 1172 1241 1610 2145]\n",
      " [ 736  538  433    0  135  439  739  808 1177 1712]\n",
      " [ 871  673  568  135    0  304  604  673 1042 1577]\n",
      " [1175  977  872  439  304    0  300  369  738 1273]\n",
      " [1475 1277 1172  739  604  300    0   69  438  973]\n",
      " [1544 1346 1241  808  673  369   69    0  369  904]\n",
      " [1913 1715 1610 1177 1042  738  438  369    0  535]\n",
      " [2448 2250 2145 1712 1577 1273  973  904  535    0]] \n",
      "\n",
      "[[   0.       318.64932  487.63002 1184.47424 1401.73514 1890.9745\n",
      "  2373.7765  2484.82096 3078.66742 3939.66432]\n",
      " [ 318.64932    0.       168.9807   865.82492 1083.08582 1572.32518\n",
      "  2055.12718 2166.17164 2760.0181  3621.015  ]\n",
      " [ 487.63002  168.9807     0.       696.84422  914.10512 1403.34448\n",
      "  1886.14648 1997.19094 2591.0374  3452.0343 ]\n",
      " [1184.47424  865.82492  696.84422    0.       217.2609   706.50026\n",
      "  1189.30226 1300.34672 1894.19318 2755.19008]\n",
      " [1401.73514 1083.08582  914.10512  217.2609     0.       489.23936\n",
      "   972.04136 1083.08582 1676.93228 2537.92918]\n",
      " [1890.9745  1572.32518 1403.34448  706.50026  489.23936    0.\n",
      "   482.802    593.84646 1187.69292 2048.68982]\n",
      " [2373.7765  2055.12718 1886.14648 1189.30226  972.04136  482.802\n",
      "     0.       111.04446  704.89092 1565.88782]\n",
      " [2484.82096 2166.17164 1997.19094 1300.34672 1083.08582  593.84646\n",
      "   111.04446    0.       593.84646 1454.84336]\n",
      " [3078.66742 2760.0181  2591.0374  1894.19318 1676.93228 1187.69292\n",
      "   704.89092  593.84646    0.       860.9969 ]\n",
      " [3939.66432 3621.015   3452.0343  2755.19008 2537.92918 2048.68982\n",
      "  1565.88782 1454.84336  860.9969     0.     ]]\n"
     ]
    }
   ],
   "source": [
    "pos = np.array([0, 198, 303, 736, 871, 1175, 1475, 1544, 1913, 2448])\n",
    "\n",
    "pos1 = np.tile(pos, (len(pos), 1)).T\n",
    "#print(pos1,'\\n')\n",
    "dist = abs(pos1-pos)\n",
    "print(dist, '\\n')\n",
    "#convert in km\n",
    "conv_factor=1.60934\n",
    "dist_km = np.multiply(dist,conv_factor)\n",
    "\n",
    "                          \n",
    "print(dist_km)"
   ]
  },
  {
   "cell_type": "markdown",
   "metadata": {},
   "source": [
    "7\\. Prime numbers sieve: compute the prime numbers in the 0-N (N=99 to start with) range with a sieve (mask).\n",
    "  * Constract a shape (100,) boolean array, the mask\n",
    "  * Identify the multiples of each number starting from 2 and set accordingly the corresponding mask element\n",
    "  * Apply the mask to obtain an array of ordered prime numbers\n",
    "  * Check the performances (timeit); how does it scale with N?\n",
    "  * Implement the optimization suggested in the [sieve of Eratosthenes](https://en.wikipedia.org/wiki/Sieve_of_Eratosthenes)"
   ]
  },
  {
   "cell_type": "code",
   "execution_count": 8,
   "metadata": {},
   "outputs": [],
   "source": [
    "N = 999\n",
    "mask = np.ones(N+1, dtype=bool)\n",
    "#print(mask)"
   ]
  },
  {
   "cell_type": "code",
   "execution_count": 9,
   "metadata": {},
   "outputs": [
    {
     "name": "stdout",
     "output_type": "stream",
     "text": [
      "[  0   1   2   3   5   7  11  13  17  19  23  29  31  37  41  43  47  53\n",
      "  59  61  67  71  73  79  83  89  97 101 103 107 109 113 127 131 137 139\n",
      " 149 151 157 163 167 173 179 181 191 193 197 199 211 223 227 229 233 239\n",
      " 241 251 257 263 269 271 277 281 283 293 307 311 313 317 331 337 347 349\n",
      " 353 359 367 373 379 383 389 397 401 409 419 421 431 433 439 443 449 457\n",
      " 461 463 467 479 487 491 499 503 509 521 523 541 547 557 563 569 571 577\n",
      " 587 593 599 601 607 613 617 619 631 641 643 647 653 659 661 673 677 683\n",
      " 691 701 709 719 727 733 739 743 751 757 761 769 773 787 797 809 811 821\n",
      " 823 827 829 839 853 857 859 863 877 881 883 887 907 911 919 929 937 941\n",
      " 947 953 967 971 977 983 991 997] \n",
      "\n",
      "Time:  0.07329509999999972\n"
     ]
    }
   ],
   "source": [
    "#check performances\n",
    "import timeit\n",
    "start = timeit.default_timer()\n",
    "\n",
    "multiples = np.array([j*i for i in range(2,int((N+1)/2)) for j in range(2,int((N+1)/2))])\n",
    "multiples = multiples[multiples<N+1]\n",
    "#print(multiples)\n",
    "mask[multiples]=False\n",
    "#print(mask)\n",
    "#apply the mask\n",
    "numbers = np.array([i for i in range(N+1)])  \n",
    "prime_numbers = numbers[mask]\n",
    "print(prime_numbers,'\\n')\n",
    "\n",
    "stop = timeit.default_timer()\n",
    "\n",
    "print('Time: ', stop - start)\n",
    "\n",
    "#Time for N = 99:  0.0019066999999495238\n",
    "#Time for N = 999: 0.05444010000007893\n",
    "#Time for N = 1999: 0.26767229999995834\n",
    "#Time for N = 9999: 5.894696300000078\n",
    "#Time for N = 19999: 24.66521160000002\n",
    "#Time seems to scale with N**2"
   ]
  },
  {
   "cell_type": "code",
   "execution_count": 10,
   "metadata": {},
   "outputs": [
    {
     "name": "stdout",
     "output_type": "stream",
     "text": [
      "[  0   1   2   3   5   7  11  13  17  19  23  29  31  37  41  43  47  53\n",
      "  59  61  67  71  73  79  83  89  97 101 103 107 109 113 127 131 137 139\n",
      " 149 151 157 163 167 173 179 181 191 193 197 199 211 223 227 229 233 239\n",
      " 241 251 257 263 269 271 277 281 283 293 307 311 313 317 331 337 347 349\n",
      " 353 359 367 373 379 383 389 397 401 409 419 421 431 433 439 443 449 457\n",
      " 461 463 467 479 487 491 499 503 509 521 523 541 547 557 563 569 571 577\n",
      " 587 593 599 601 607 613 617 619 631 641 643 647 653 659 661 673 677 683\n",
      " 691 701 709 719 727 733 739 743 751 757 761 769 773 787 797 809 811 821\n",
      " 823 827 829 839 853 857 859 863 877 881 883 887 907 911 919 929 937 941\n",
      " 947 953 967 971 977 983 991 997] \n",
      "\n",
      "Time:  0.0030749000000001026\n"
     ]
    }
   ],
   "source": [
    "#Sieve of Eratosthenes\n",
    "start = timeit.default_timer()\n",
    "\n",
    "j=0\n",
    "for i in range(2,int(np.ceil(np.sqrt(N+1)))):\n",
    "    if mask[i]==True:\n",
    "        while (i**2 + j*i)<N:\n",
    "            mask[i**2 + j* i]= False\n",
    "            j=j+1\n",
    "               \n",
    "numbers = np.array([i for i in range(N+1)])  \n",
    "prime_numbers = numbers[mask]\n",
    "print(prime_numbers,'\\n')\n",
    "\n",
    "stop = timeit.default_timer()\n",
    "\n",
    "print('Time: ', stop - start)  \n",
    "\n",
    "#Time for N = 99:  0.0013481000000865606\n",
    "#Time for N = 999: 0.0028901000000587374\n",
    "#Time for N = 1999:  0.00354509999988295\n",
    "#Time for N = 9999: 0.012960699999894132\n",
    "#Time for N = 19999: 0.02122929999995904\n",
    "#Time for N = 99999: 0.08308970000007321\n",
    "#Time for N = 999999: 0.8491711000001487\n",
    "#Time seems to scale with N"
   ]
  },
  {
   "cell_type": "markdown",
   "metadata": {},
   "source": [
    "8\\. Diffusion using random walk\n",
    "\n",
    "Consider a simple random walk process: at each step in time, a walker jumps right or left (+1 or -1) with equal probability. The goal is to find the typical distance from the origin of a random walker after a given amount of time. \n",
    "To do that, let's simulate many walkers and create a 2D array with each walker as a raw and the actual time evolution as columns\n",
    "\n",
    "  * Take 1000 walkers and let them walk for 200 steps\n",
    "  * Use randint to create a 2D array of size walkers x steps with values -1 or 1\n",
    "  * Build the actual walking distances for each walker (i.e. another 2D array \"summing on each raw\")\n",
    "  * Take the square of that 2D array (elementwise)\n",
    "  * Compute the mean of the squared distances at each step (i.e. the mean along the columns)\n",
    "  * Plot the average distances (sqrt(distance\\*\\*2)) as a function of time (step)\n",
    "  \n",
    "Did you get what you expected?"
   ]
  },
  {
   "cell_type": "code",
   "execution_count": 11,
   "metadata": {},
   "outputs": [
    {
     "name": "stdout",
     "output_type": "stream",
     "text": [
      "[[ 1 -1  1 ...  1 -1  1]\n",
      " [ 1  1  1 ...  1 -1  1]\n",
      " [-1  1 -1 ...  1 -1  1]\n",
      " ...\n",
      " [-1 -1  1 ...  1 -1 -1]\n",
      " [ 1 -1 -1 ... -1  1  1]\n",
      " [ 1  1  1 ... -1  1 -1]] \n",
      "\n",
      "[[ 0.  1.  0. ... 13. 14. 13.]\n",
      " [ 0.  1.  2. ...  7.  8.  7.]\n",
      " [ 0. -1.  0. ... 11. 12. 11.]\n",
      " ...\n",
      " [ 0. -1. -2. ...  1.  2.  1.]\n",
      " [ 0.  1.  0. ...  7.  6.  7.]\n",
      " [ 0.  1.  2. ...  1.  0.  1.]]\n",
      "[[  0.   1.   0. ... 169. 196. 169.]\n",
      " [  0.   1.   4. ...  49.  64.  49.]\n",
      " [  0.   1.   0. ... 121. 144. 121.]\n",
      " ...\n",
      " [  0.   1.   4. ...   1.   4.   1.]\n",
      " [  0.   1.   0. ...  49.  36.  49.]\n",
      " [  0.   1.   4. ...   1.   0.   1.]]\n",
      "[  0.      1.      2.036   3.096   4.056   5.176   6.22    7.224   8.208\n",
      "   9.152  10.164  10.936  11.448  12.272  13.088  14.216  15.456  16.648\n",
      "  17.5    18.656  19.796  20.712  21.716  22.704  23.612  23.8    24.72\n",
      "  25.232  26.716  28.184  30.016  31.48   33.02   34.376  35.28   36.368\n",
      "  37.304  38.544  40.     40.304  41.424  42.656  42.86   43.256  43.78\n",
      "  44.096  44.804  45.888  47.088  48.784  51.068  52.056  53.356  53.608\n",
      "  54.76   55.536  56.508  56.728  57.748  58.928  60.808  62.344  63.408\n",
      "  64.2    65.732  67.312  67.588  68.456  68.728  69.688  70.716  71.488\n",
      "  72.66   74.008  74.624  76.344  77.544  78.256  79.976  80.712  82.064\n",
      "  83.104  83.828  84.496  85.664  86.872  87.956  88.944  89.588  90.504\n",
      "  91.628  91.688  93.46   94.84   97.072  99.552 100.716 101.216 102.584\n",
      " 103.896 104.644 104.856 105.184 106.984 107.86  109.68  110.672 111.528\n",
      " 112.752 114.432 115.128 117.264 118.256 120.456 121.284 122.736 122.56\n",
      " 124.576 125.816 126.24  126.368 126.864 128.572 129.264 130.636 132.44\n",
      " 133.352 134.544 136.188 137.616 137.32  138.632 138.556 137.816 137.756\n",
      " 139.072 141.032 142.696 144.364 146.496 148.54  151.112 152.356 152.664\n",
      " 153.644 153.664 154.964 155.544 156.352 156.824 157.82  158.616 159.716\n",
      " 161.392 162.068 162.472 164.016 164.584 165.128 163.928 164.608 165.248\n",
      " 166.368 167.744 170.112 171.296 171.756 174.352 176.156 176.832 177.708\n",
      " 178.048 178.712 178.64  178.82  179.128 178.644 180.256 182.536 181.024\n",
      " 183.584 185.808 188.576 189.032 189.54  190.816 191.664 192.96  193.304\n",
      " 194.992 195.508 197.312 197.088 196.208 196.356 197.784 198.12  199.816\n",
      " 199.552 200.648]\n"
     ]
    },
    {
     "data": {
      "image/png": "[encoded data removed]",
      "text/plain": [
       "<Figure size 432x288 with 1 Axes>"
      ]
     },
     "metadata": {
      "needs_background": "light"
     },
     "output_type": "display_data"
    }
   ],
   "source": [
    "a = 1000  #walkers\n",
    "b = 200   #steps\n",
    "step = npr.randint(-1,+1,size=(a,b))\n",
    "#print(step,'\\n')\n",
    "step[step==0]=1\n",
    "print(step,'\\n')\n",
    "\n",
    "#distances\n",
    "dist = np.zeros((a,b))\n",
    "for i in range(b):\n",
    "    for j in range(a):\n",
    "        dist[j,i] = sum(step[j,:i])\n",
    "print(dist)\n",
    "\n",
    "#square distances\n",
    "sq_dist= dist**2\n",
    "print(sq_dist)\n",
    "mean_sq_dist = np.mean(sq_dist, axis = 0)\n",
    "print(mean_sq_dist)\n",
    "\n",
    "#plot\n",
    "plt.plot([x for x in range(0,b)], mean_sq_dist);\n",
    "#the mean of square distance is linear as a function of time, as I expected\n"
   ]
  },
  {
   "cell_type": "markdown",
   "metadata": {},
   "source": [
    "9\\. Analyze a data file \n",
    "  * Download the population of hares, lynxes and carrots at the beginning of the last century.\n",
    "    ```python\n",
    "    ! wget https://www.dropbox.com/s/3vigxoqayo389uc/populations.txt\n",
    "    ```\n",
    "\n",
    "  * Check the content by looking within the file\n",
    "  * Load the data (use an appropriate numpy method) into a 2D array\n",
    "  * Create arrays out of the columns, the arrays being (in order): *year*, *hares*, *lynxes*, *carrots* \n",
    "  * Plot the 3 populations over the years\n",
    "  * Compute the main statistical properties of the dataset (mean, std, correlations, etc.)\n",
    "  * Which species has the highest population each year?\n",
    "\n",
    "Do you feel there is some evident correlation here? [Studies](https://www.enr.gov.nt.ca/en/services/lynx/lynx-snowshoe-hare-cycle) tend to believe so."
   ]
  },
  {
   "cell_type": "code",
   "execution_count": 12,
   "metadata": {},
   "outputs": [
    {
     "ename": "OSError",
     "evalue": "populations.txt not found.",
     "output_type": "error",
     "traceback": [
      "\u001b[1;31m---------------------------------------------------------------------------\u001b[0m",
      "\u001b[1;31mOSError\u001b[0m                                   Traceback (most recent call last)",
      "\u001b[1;32m<ipython-input-12-647a171ad46b>\u001b[0m in \u001b[0;36m<module>\u001b[1;34m\u001b[0m\n\u001b[1;32m----> 1\u001b[1;33m \u001b[0mpop\u001b[0m \u001b[1;33m=\u001b[0m \u001b[0mnp\u001b[0m\u001b[1;33m.\u001b[0m\u001b[0mloadtxt\u001b[0m\u001b[1;33m(\u001b[0m\u001b[1;34m\"populations.txt\"\u001b[0m\u001b[1;33m)\u001b[0m\u001b[1;33m\u001b[0m\u001b[1;33m\u001b[0m\u001b[0m\n\u001b[0m\u001b[0;32m      2\u001b[0m \u001b[0mprint\u001b[0m\u001b[1;33m(\u001b[0m\u001b[0mpop\u001b[0m\u001b[1;33m)\u001b[0m\u001b[1;33m\u001b[0m\u001b[1;33m\u001b[0m\u001b[0m\n\u001b[0;32m      3\u001b[0m \u001b[1;31m#create array out of columns\u001b[0m\u001b[1;33m\u001b[0m\u001b[1;33m\u001b[0m\u001b[1;33m\u001b[0m\u001b[0m\n\u001b[0;32m      4\u001b[0m \u001b[0myear\u001b[0m\u001b[1;33m=\u001b[0m\u001b[0mpop\u001b[0m\u001b[1;33m[\u001b[0m\u001b[1;33m:\u001b[0m\u001b[1;33m,\u001b[0m\u001b[1;36m0\u001b[0m\u001b[1;33m]\u001b[0m\u001b[1;33m\u001b[0m\u001b[1;33m\u001b[0m\u001b[0m\n\u001b[0;32m      5\u001b[0m \u001b[0mprint\u001b[0m\u001b[1;33m(\u001b[0m\u001b[0myear\u001b[0m\u001b[1;33m)\u001b[0m\u001b[1;33m\u001b[0m\u001b[1;33m\u001b[0m\u001b[0m\n",
      "\u001b[1;32m~\\anaconda3\\lib\\site-packages\\numpy\\lib\\npyio.py\u001b[0m in \u001b[0;36mloadtxt\u001b[1;34m(fname, dtype, comments, delimiter, converters, skiprows, usecols, unpack, ndmin, encoding, max_rows)\u001b[0m\n\u001b[0;32m    979\u001b[0m             \u001b[0mfname\u001b[0m \u001b[1;33m=\u001b[0m \u001b[0mos_fspath\u001b[0m\u001b[1;33m(\u001b[0m\u001b[0mfname\u001b[0m\u001b[1;33m)\u001b[0m\u001b[1;33m\u001b[0m\u001b[1;33m\u001b[0m\u001b[0m\n\u001b[0;32m    980\u001b[0m         \u001b[1;32mif\u001b[0m \u001b[0m_is_string_like\u001b[0m\u001b[1;33m(\u001b[0m\u001b[0mfname\u001b[0m\u001b[1;33m)\u001b[0m\u001b[1;33m:\u001b[0m\u001b[1;33m\u001b[0m\u001b[1;33m\u001b[0m\u001b[0m\n\u001b[1;32m--> 981\u001b[1;33m             \u001b[0mfh\u001b[0m \u001b[1;33m=\u001b[0m \u001b[0mnp\u001b[0m\u001b[1;33m.\u001b[0m\u001b[0mlib\u001b[0m\u001b[1;33m.\u001b[0m\u001b[0m_datasource\u001b[0m\u001b[1;33m.\u001b[0m\u001b[0mopen\u001b[0m\u001b[1;33m(\u001b[0m\u001b[0mfname\u001b[0m\u001b[1;33m,\u001b[0m \u001b[1;34m'rt'\u001b[0m\u001b[1;33m,\u001b[0m \u001b[0mencoding\u001b[0m\u001b[1;33m=\u001b[0m\u001b[0mencoding\u001b[0m\u001b[1;33m)\u001b[0m\u001b[1;33m\u001b[0m\u001b[1;33m\u001b[0m\u001b[0m\n\u001b[0m\u001b[0;32m    982\u001b[0m             \u001b[0mfencoding\u001b[0m \u001b[1;33m=\u001b[0m \u001b[0mgetattr\u001b[0m\u001b[1;33m(\u001b[0m\u001b[0mfh\u001b[0m\u001b[1;33m,\u001b[0m \u001b[1;34m'encoding'\u001b[0m\u001b[1;33m,\u001b[0m \u001b[1;34m'latin1'\u001b[0m\u001b[1;33m)\u001b[0m\u001b[1;33m\u001b[0m\u001b[1;33m\u001b[0m\u001b[0m\n\u001b[0;32m    983\u001b[0m             \u001b[0mfh\u001b[0m \u001b[1;33m=\u001b[0m \u001b[0miter\u001b[0m\u001b[1;33m(\u001b[0m\u001b[0mfh\u001b[0m\u001b[1;33m)\u001b[0m\u001b[1;33m\u001b[0m\u001b[1;33m\u001b[0m\u001b[0m\n",
      "\u001b[1;32m~\\anaconda3\\lib\\site-packages\\numpy\\lib\\_datasource.py\u001b[0m in \u001b[0;36mopen\u001b[1;34m(path, mode, destpath, encoding, newline)\u001b[0m\n\u001b[0;32m    267\u001b[0m \u001b[1;33m\u001b[0m\u001b[0m\n\u001b[0;32m    268\u001b[0m     \u001b[0mds\u001b[0m \u001b[1;33m=\u001b[0m \u001b[0mDataSource\u001b[0m\u001b[1;33m(\u001b[0m\u001b[0mdestpath\u001b[0m\u001b[1;33m)\u001b[0m\u001b[1;33m\u001b[0m\u001b[1;33m\u001b[0m\u001b[0m\n\u001b[1;32m--> 269\u001b[1;33m     \u001b[1;32mreturn\u001b[0m \u001b[0mds\u001b[0m\u001b[1;33m.\u001b[0m\u001b[0mopen\u001b[0m\u001b[1;33m(\u001b[0m\u001b[0mpath\u001b[0m\u001b[1;33m,\u001b[0m \u001b[0mmode\u001b[0m\u001b[1;33m,\u001b[0m \u001b[0mencoding\u001b[0m\u001b[1;33m=\u001b[0m\u001b[0mencoding\u001b[0m\u001b[1;33m,\u001b[0m \u001b[0mnewline\u001b[0m\u001b[1;33m=\u001b[0m\u001b[0mnewline\u001b[0m\u001b[1;33m)\u001b[0m\u001b[1;33m\u001b[0m\u001b[1;33m\u001b[0m\u001b[0m\n\u001b[0m\u001b[0;32m    270\u001b[0m \u001b[1;33m\u001b[0m\u001b[0m\n\u001b[0;32m    271\u001b[0m \u001b[1;33m\u001b[0m\u001b[0m\n",
      "\u001b[1;32m~\\anaconda3\\lib\\site-packages\\numpy\\lib\\_datasource.py\u001b[0m in \u001b[0;36mopen\u001b[1;34m(self, path, mode, encoding, newline)\u001b[0m\n\u001b[0;32m    621\u001b[0m                                       encoding=encoding, newline=newline)\n\u001b[0;32m    622\u001b[0m         \u001b[1;32melse\u001b[0m\u001b[1;33m:\u001b[0m\u001b[1;33m\u001b[0m\u001b[1;33m\u001b[0m\u001b[0m\n\u001b[1;32m--> 623\u001b[1;33m             \u001b[1;32mraise\u001b[0m \u001b[0mIOError\u001b[0m\u001b[1;33m(\u001b[0m\u001b[1;34m\"%s not found.\"\u001b[0m \u001b[1;33m%\u001b[0m \u001b[0mpath\u001b[0m\u001b[1;33m)\u001b[0m\u001b[1;33m\u001b[0m\u001b[1;33m\u001b[0m\u001b[0m\n\u001b[0m\u001b[0;32m    624\u001b[0m \u001b[1;33m\u001b[0m\u001b[0m\n\u001b[0;32m    625\u001b[0m \u001b[1;33m\u001b[0m\u001b[0m\n",
      "\u001b[1;31mOSError\u001b[0m: populations.txt not found."
     ]
    }
   ],
   "source": [
    "pop = np.loadtxt(\"populations.txt\")\n",
    "print(pop)\n",
    "#create array out of columns\n",
    "year=pop[:,0]\n",
    "print(year)\n",
    "hares=pop[:,1]\n",
    "lynxes=pop[:,2] \n",
    "carrots=pop[:,3]\n",
    "#plot\n",
    "h = plt.plot(year,hares,label='hares')\n",
    "l=plt.plot(year,lynxes,label='lynxes')\n",
    "c=plt.plot(year,carrots,label='carrots')\n",
    "plt.legend()\n",
    "plt.show()\n",
    "#statistical properties\n",
    "h_mean=np.mean(hares)\n",
    "l_mean=np.mean(lynxes)\n",
    "c_mean=np.mean(carrots)\n",
    "\n",
    "h_std=np.std(hares)\n",
    "l_std=np.std(lynxes)\n",
    "c_std=np.std(carrots)\n",
    "\n",
    "h_l_covariance = 0\n",
    "for i in range(len(hares)):\n",
    "    h_l_covariance = h_l_covariance + (hares[i]-h_mean)*(lynxes[i]-l_mean)/len(hares)\n",
    "\n",
    "print('Mean values',h_mean, h_std, l_mean, '\\n')\n",
    "print('Standard deviation values',l_std, c_mean, c_std,  '\\n')\n",
    "\n"
   ]
  },
  {
   "cell_type": "code",
   "execution_count": null,
   "metadata": {},
   "outputs": [],
   "source": [
    "#species with highest population each year\n",
    "max_species=np.zeros((len(hares),1))\n",
    "for i in range(len(hares)):\n",
    "    max_species[i] = np.argmax(pop[i,1:])\n",
    "#print(max_species)\n",
    "\n",
    "max_sp =[]\n",
    "for i in range(len(hares)):\n",
    "    if max_species[i]==0:\n",
    "        max_sp.append('hares')\n",
    "    elif max_species[i]==1:\n",
    "         max_sp.append('lynxes')\n",
    "    else :\n",
    "        max_sp.append('carrots')\n",
    "    print(int(year[i]),' species with max population: ', max_sp[i])    \n"
   ]
  },
  {
   "cell_type": "markdown",
   "metadata": {},
   "source": [
    "It looks like there is a correlation between the increase of hares and the increase of lynxes, and between the decrease of both species, that follows the previous increase.\n"
   ]
  },
  {
   "cell_type": "code",
   "execution_count": null,
   "metadata": {},
   "outputs": [],
   "source": []
  }
 ],
 "metadata": {
  "kernelspec": {
   "display_name": "Python 3",
   "language": "python",
   "name": "python3"
  },
  "language_info": {
   "codemirror_mode": {
    "name": "ipython",
    "version": 3
   },
   "file_extension": ".py",
   "mimetype": "text/x-python",
   "name": "python",
   "nbconvert_exporter": "python",
   "pygments_lexer": "ipython3",
   "version": "3.8.3"
  }
 },
 "nbformat": 4,
 "nbformat_minor": 2
}
