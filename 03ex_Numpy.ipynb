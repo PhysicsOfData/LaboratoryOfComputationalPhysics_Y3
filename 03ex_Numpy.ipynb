{
 "cells": [
  {
   "cell_type": "markdown",
   "metadata": {},
   "source": [
    "### Numpy basics"
   ]
  },
  {
   "cell_type": "markdown",
   "metadata": {},
   "source": [
    "1\\. Find the row, column and overall means for the following matrix:\n",
    "\n",
    "```python\n",
    "m = np.arange(12).reshape((3,4))\n",
    "```"
   ]
  },
  {
   "cell_type": "code",
   "execution_count": 1,
   "metadata": {},
   "outputs": [
    {
     "name": "stdout",
     "output_type": "stream",
     "text": [
      "[[ 0  1  2  3]\n",
      " [ 4  5  6  7]\n",
      " [ 8  9 10 11]]\n",
      "row and column of the matrix are: (3, 4)\n",
      "row means of the matrix is: [4. 5. 6. 7.]\n",
      "column means of the matrix is: [1.5 5.5 9.5]\n",
      "overall means of the matrix is: 5.5\n"
     ]
    }
   ],
   "source": [
    "import numpy as np\n",
    "m = np.arange(12).reshape((3,4))\n",
    "print(m)\n",
    "\n",
    "print (\"row and column of the matrix are:\", m.shape)\n",
    "print (\"row means of the matrix is:\", m.mean(axis=0))\n",
    "print (\"column means of the matrix is:\", m.mean(axis=1))\n",
    "print (\"overall means of the matrix is:\", m.mean())\n"
   ]
  },
  {
   "cell_type": "markdown",
   "metadata": {},
   "source": [
    "2\\. Find the outer product of the following two vecotrs\n",
    "\n",
    "```python\n",
    "u = np.array([1,3,5,7])\n",
    "v = np.array([2,4,6,8])\n",
    "```\n",
    "\n",
    "Do this in the following ways:\n",
    "\n",
    "   * Using the function outer in numpy\n",
    "   * Using a nested for loop or list comprehension\n",
    "   * Using numpy broadcasting operatoins\n"
   ]
  },
  {
   "cell_type": "code",
   "execution_count": 2,
   "metadata": {},
   "outputs": [
    {
     "name": "stdout",
     "output_type": "stream",
     "text": [
      "[[ 2  4  6  8]\n",
      " [ 6 12 18 24]\n",
      " [10 20 30 40]\n",
      " [14 28 42 56]]\n",
      "[[ 2  4  6  8]\n",
      " [ 6 12 18 24]\n",
      " [10 20 30 40]\n",
      " [14 28 42 56]]\n",
      "[[ 2  4  6  8]\n",
      " [ 6 12 18 24]\n",
      " [10 20 30 40]\n",
      " [14 28 42 56]]\n"
     ]
    }
   ],
   "source": [
    "# a) Using the function outer in numpy\n",
    "import numpy as np\n",
    "u = [1,3,5,7]\n",
    "v = [2,4,6,8]\n",
    "outer_product = np.outer(u,v)\n",
    "print(outer_product)\n",
    "\n",
    "# b) Using a nested for loop or list comprehension\n",
    "w = [ i*j for i in u for j in v ]\n",
    "outer_product = np.array(w).reshape((4,4))  \n",
    "print(outer_product)\n",
    "        \n",
    "# c) Using numpy broadcasting operatoins\n",
    "a = np.tile(np.array(u), (4, 1)).T\n",
    "b = np.array(v)\n",
    "outer_product = a * b\n",
    "print(outer_product)\n",
    "\n",
    "        \n",
    "        \n",
    "\n"
   ]
  },
  {
   "cell_type": "markdown",
   "metadata": {},
   "source": [
    "3\\. Create a 10 by 6 matrix of random uniform numbers. Set all rows with any entry less than 0.1 to be zero\n",
    "\n",
    "Hint: Use the following numpy functions - np.random.random, np.any as well as Boolean indexing and the axis argument."
   ]
  },
  {
   "cell_type": "code",
   "execution_count": 3,
   "metadata": {},
   "outputs": [
    {
     "name": "stdout",
     "output_type": "stream",
     "text": [
      "uniform: \n",
      " [[0.29335003 0.59302399 0.73089281 0.96814903 0.99244894 0.45465134]\n",
      " [0.34522585 0.27147067 0.35510261 0.04204921 0.23296469 0.01333233]\n",
      " [0.18033918 0.11478339 0.07314156 0.86232467 0.65384358 0.20534475]\n",
      " [0.0965648  0.59986725 0.69738574 0.77335402 0.54102579 0.28299721]\n",
      " [0.26728851 0.3540365  0.23065634 0.93665745 0.39956645 0.50649627]\n",
      " [0.31531598 0.05585465 0.02893803 0.96360598 0.64805107 0.58161847]\n",
      " [0.43422472 0.22572875 0.88202763 0.63121877 0.62875207 0.2576125 ]\n",
      " [0.29787406 0.47940835 0.36672147 0.56603265 0.29508226 0.35291073]\n",
      " [0.44097811 0.32955858 0.88766564 0.15094079 0.80864118 0.51586674]\n",
      " [0.54063948 0.50040691 0.22236016 0.05528907 0.13061928 0.51373492]] \n",
      "\n",
      "After ::  \n",
      " [[0.29335003 0.59302399 0.73089281 0.96814903 0.99244894 0.45465134]\n",
      " [0.34522585 0.27147067 0.35510261 0.         0.23296469 0.        ]\n",
      " [0.18033918 0.11478339 0.         0.86232467 0.65384358 0.20534475]\n",
      " [0.         0.59986725 0.69738574 0.77335402 0.54102579 0.28299721]\n",
      " [0.26728851 0.3540365  0.23065634 0.93665745 0.39956645 0.50649627]\n",
      " [0.31531598 0.         0.         0.96360598 0.64805107 0.58161847]\n",
      " [0.43422472 0.22572875 0.88202763 0.63121877 0.62875207 0.2576125 ]\n",
      " [0.29787406 0.47940835 0.36672147 0.56603265 0.29508226 0.35291073]\n",
      " [0.44097811 0.32955858 0.88766564 0.15094079 0.80864118 0.51586674]\n",
      " [0.54063948 0.50040691 0.22236016 0.         0.13061928 0.51373492]] \n",
      "\n"
     ]
    }
   ],
   "source": [
    "import numpy.random as npr\n",
    "mat = npr.rand(10,6)\n",
    "print (\"uniform:\",'\\n', mat,'\\n') # shape=(10,6)\n",
    "inds = np.where(mat < 0.1)\n",
    "# print(mat(inds[0],inds[1]))\n",
    "mat[inds[0].tolist(),inds[1].tolist()] = 0.0\n",
    "print (\"After :: \",'\\n', mat,'\\n')"
   ]
  },
  {
   "cell_type": "markdown",
   "metadata": {},
   "source": [
    "4\\. Use np.linspace to create an array of 100 numbers between 0 and 2π (includsive).\n",
    "\n",
    "  * Extract every 10th element using slice notation\n",
    "  * Reverse the array using slice notation\n",
    "  * Extract elements where the absolute difference between the sine and cosine functions evaluated at that element is less than 0.1\n",
    "  * Make a plot showing the sin and cos functions and indicate where they are close"
   ]
  },
  {
   "cell_type": "code",
   "execution_count": 4,
   "metadata": {},
   "outputs": [
    {
     "name": "stdout",
     "output_type": "stream",
     "text": [
      "Every 10 element :: \n",
      " [0.         0.63466518 1.26933037 1.90399555 2.53866073 3.17332591\n",
      " 3.8079911  4.44265628 5.07732146 5.71198664]\n",
      "Invers :: \n",
      " [6.28318531 6.21971879 6.15625227 6.09278575 6.02931923 5.96585272\n",
      " 5.9023862  5.83891968 5.77545316 5.71198664 5.64852012 5.58505361\n",
      " 5.52158709 5.45812057 5.39465405 5.33118753 5.26772102 5.2042545\n",
      " 5.14078798 5.07732146 5.01385494 4.95038842 4.88692191 4.82345539\n",
      " 4.75998887 4.69652235 4.63305583 4.56958931 4.5061228  4.44265628\n",
      " 4.37918976 4.31572324 4.25225672 4.1887902  4.12532369 4.06185717\n",
      " 3.99839065 3.93492413 3.87145761 3.8079911  3.74452458 3.68105806\n",
      " 3.61759154 3.55412502 3.4906585  3.42719199 3.36372547 3.30025895\n",
      " 3.23679243 3.17332591 3.10985939 3.04639288 2.98292636 2.91945984\n",
      " 2.85599332 2.7925268  2.72906028 2.66559377 2.60212725 2.53866073\n",
      " 2.47519421 2.41172769 2.34826118 2.28479466 2.22132814 2.15786162\n",
      " 2.0943951  2.03092858 1.96746207 1.90399555 1.84052903 1.77706251\n",
      " 1.71359599 1.65012947 1.58666296 1.52319644 1.45972992 1.3962634\n",
      " 1.33279688 1.26933037 1.20586385 1.14239733 1.07893081 1.01546429\n",
      " 0.95199777 0.88853126 0.82506474 0.76159822 0.6981317  0.63466518\n",
      " 0.57119866 0.50773215 0.44426563 0.38079911 0.31733259 0.25386607\n",
      " 0.19039955 0.12693304 0.06346652 0.        ]\n",
      "[0.76159822 0.82506474 3.87145761 3.93492413]\n",
      "[0.76159822 0.82506474 3.87145761 3.93492413]\n"
     ]
    },
    {
     "data": {
      "text/plain": [
       "<matplotlib.legend.Legend at 0x2872f7e1f0>"
      ]
     },
     "execution_count": 4,
     "metadata": {},
     "output_type": "execute_result"
    },
    {
     "data": {
      "image/png": "[encoded data removed]",
      "text/plain": [
       "<Figure size 432x288 with 1 Axes>"
      ]
     },
     "metadata": {
      "needs_background": "light"
     },
     "output_type": "display_data"
    }
   ],
   "source": [
    "a = np.linspace(0,np.pi*2,num=100)\n",
    "\n",
    "# a)\n",
    "print(\"Every 10 element :: \\n\", a[::10])\n",
    "\n",
    "# b)\n",
    "print(\"Invers :: \\n\", a[::-1])\n",
    "\n",
    "# c)\n",
    "mask = (abs(np.sin(a) - np.cos(a)) < 0.1)\n",
    "aMasked = a[mask]\n",
    "print(aMasked)\n",
    "\n",
    "# c) second method\n",
    "ClosseInds = np.where(abs(np.sin(a) - np.cos(a)) < 0.1) # Stored to use in the next step (plot)\n",
    "CloseList = ClosseInds[0].tolist()\n",
    "print(a[CloseList])\n",
    "\n",
    "# d)\n",
    "import matplotlib.pyplot as plt \n",
    "\n",
    "%matplotlib inline \n",
    "plt.plot(a, np.sin(a), label=\"Sin\");\n",
    "plt.plot(a, np.cos(a), label=\"Cos\");\n",
    "plt.plot(a[CloseList], np.abs(np.sin(CloseList) - np.cos(CloseList)), label=\"Diff\", ls=\"none\", marker='*');\n",
    "plt.legend()"
   ]
  },
  {
   "cell_type": "markdown",
   "metadata": {},
   "source": [
    "5\\. Create a matrix that shows the 10 by 10 multiplication table.\n",
    "\n",
    " * Find the trace of the matrix\n",
    " * Extract the anto-diagonal (this should be ```array([10, 18, 24, 28, 30, 30, 28, 24, 18, 10])```)\n",
    " * Extract the diagnoal offset by 1 upwards (this should be ```array([ 2,  6, 12, 20, 30, 42, 56, 72, 90])```)"
   ]
  },
  {
   "cell_type": "code",
   "execution_count": 5,
   "metadata": {},
   "outputs": [
    {
     "name": "stdout",
     "output_type": "stream",
     "text": [
      "[[  1   2   3   4   5   6   7   8   9  10]\n",
      " [  2   4   6   8  10  12  14  16  18  20]\n",
      " [  3   6   9  12  15  18  21  24  27  30]\n",
      " [  4   8  12  16  20  24  28  32  36  40]\n",
      " [  5  10  15  20  25  30  35  40  45  50]\n",
      " [  6  12  18  24  30  36  42  48  54  60]\n",
      " [  7  14  21  28  35  42  49  56  63  70]\n",
      " [  8  16  24  32  40  48  56  64  72  80]\n",
      " [  9  18  27  36  45  54  63  72  81  90]\n",
      " [ 10  20  30  40  50  60  70  80  90 100]]\n",
      "385\n",
      "[10 18 24 28 30 30 28 24 18 10]\n",
      "[ 2  6 12 20 30 42 56 72 90]\n"
     ]
    }
   ],
   "source": [
    "import numpy as np\n",
    "m = np.array([i*j for i in range(1,11) for j in range(1,11)])\n",
    "Matrix = m.reshape(10,10)\n",
    "print (Matrix)\n",
    "\n",
    "Matrix.trace()\n",
    "print(Matrix.trace())\n",
    "\n",
    "Anti_diagonal = Matrix.ravel()[9:-1:9]\n",
    "print(Anti_diagonal)\n",
    "\n",
    "Diagonal_offset1 = Matrix.ravel()[1:-1:11]\n",
    "print(Diagonal_offset1)\n",
    "\n"
   ]
  },
  {
   "cell_type": "markdown",
   "metadata": {},
   "source": [
    "6\\. Use broadcasting to create a grid of distances\n",
    "\n",
    "Route 66 crosses the following cities in the US: Chicago, Springfield, Saint-Louis, Tulsa, Oklahoma City, Amarillo, Santa Fe, Albuquerque, Flagstaff, Los Angeles\n",
    "The corresponding positions in miles are: 0, 198, 303, 736, 871, 1175, 1475, 1544, 1913, 2448\n",
    "\n",
    "  * Construct a 2D grid of distances among each city along Route 66\n",
    "  * Convert that in km (those savages...)"
   ]
  },
  {
   "cell_type": "code",
   "execution_count": 6,
   "metadata": {},
   "outputs": [
    {
     "name": "stdout",
     "output_type": "stream",
     "text": [
      "                    Chicago       Springfield   Saint-Louis   Tulsa         Oklahoma City Amarillo      Santa Fe      Albuquerque   Flagstaff     Los Angeles   \n",
      "Chicago                   0           198           303           736           871          1175          1475          1544          1913          2448 \n",
      "Springfield             198             0           105           538           673           977          1277          1346          1715          2250 \n",
      "Saint-Louis             303           105             0           433           568           872          1172          1241          1610          2145 \n",
      "Tulsa                   736           538           433             0           135           439           739           808          1177          1712 \n",
      "Oklahoma City           871           673           568           135             0           304           604           673          1042          1577 \n",
      "Amarillo               1175           977           872           439           304             0           300           369           738          1273 \n",
      "Santa Fe               1475          1277          1172           739           604           300             0            69           438           973 \n",
      "Albuquerque            1544          1346          1241           808           673           369            69             0           369           904 \n",
      "Flagstaff              1913          1715          1610          1177          1042           738           438           369             0           535 \n",
      "Los Angeles            2448          2250          2145          1712          1577          1273           973           904           535             0 \n",
      "\n",
      "in km unit :: \n",
      "                    Chicago       Springfield   Saint-Louis   Tulsa         Oklahoma City Amarillo      Santa Fe      Albuquerque   Flagstaff     Los Angeles   \n",
      "Chicago                   0           317           485          1178          1394          1880          2360          2470          3061          3917 \n",
      "Springfield             317             0           168           861          1077          1563          2043          2154          2744          3600 \n",
      "Saint-Louis             485           168             0           693           909          1395          1875          1986          2576          3432 \n",
      "Tulsa                  1178           861           693             0           216           702          1182          1293          1883          2739 \n",
      "Oklahoma City          1394          1077           909           216             0           486           966          1077          1667          2523 \n",
      "Amarillo               1880          1563          1395           702           486             0           480           590          1181          2037 \n",
      "Santa Fe               2360          2043          1875          1182           966           480             0           110           701          1557 \n",
      "Albuquerque            2470          2154          1986          1293          1077           590           110             0           590          1446 \n",
      "Flagstaff              3061          2744          2576          1883          1667          1181           701           590             0           856 \n",
      "Los Angeles            3917          3600          3432          2739          2523          2037          1557          1446           856             0 \n"
     ]
    }
   ],
   "source": [
    "CityNames = [\"Chicago\", \"Springfield\", \"Saint-Louis\", \"Tulsa\", \"Oklahoma City\", \"Amarillo\", \"Santa Fe\", \"Albuquerque\", \"Flagstaff\", \"Los Angeles\"]\n",
    "Route = np.array([0, 198, 303, 736, 871, 1175, 1475, 1544, 1913, 2448])\n",
    "CityByCity = np.zeros((Route.size, Route.size))\n",
    "FORMAT1 = \"{0:13s} \"\n",
    "FORMAT2 = 20*\" \"\n",
    "for i in range(Route.size):\n",
    "    FORMAT1 += \"{\" + str(i+1) +\":13.0f} \"\n",
    "    FORMAT2 += \"{\" + str(i) +\":13s} \"\n",
    "    for j in range(Route.size):\n",
    "        CityByCity[i, j] = np.abs(Route[i] - Route[j])\n",
    "\n",
    "print(FORMAT2.format(*CityNames))\n",
    "for i in range(CityByCity.shape[0]):\n",
    "    print(FORMAT1.format(CityNames[i], *CityByCity[i,:]), sep='\\t')\n",
    "    \n",
    "print(\"\\nin km unit :: \")\n",
    "CityByCity *= 1.6\n",
    "print(FORMAT2.format(*CityNames))\n",
    "for i in range(CityByCity.shape[0]):\n",
    "    print(FORMAT1.format(CityNames[i], *CityByCity[i,:]), sep='\\t')"
   ]
  },
  {
   "cell_type": "markdown",
   "metadata": {},
   "source": [
    "7\\. Prime numbers sieve: compute the prime numbers in the 0-N (N=99 to start with) range with a sieve (mask).\n",
    "  * Constract a shape (100,) boolean array, the mask\n",
    "  * Identify the multiples of each number starting from 2 and set accordingly the corresponding mask element\n",
    "  * Apply the mask to obtain an array of ordered prime numbers\n",
    "  * Check the performances (timeit); how does it scale with N?\n",
    "  * Implement the optimization suggested in the [sieve of Eratosthenes](https://en.wikipedia.org/wiki/Sieve_of_Eratosthenes)"
   ]
  },
  {
   "cell_type": "code",
   "execution_count": 46,
   "metadata": {},
   "outputs": [
    {
     "name": "stdout",
     "output_type": "stream",
     "text": [
      "[ 1  2  3  5  7 11 13 17 19 23 29 31 37 41 43 47 53 59 61 67 71 73 79 83\n",
      " 89 97]\n",
      "[ 1  2  3  5  7 11 13 17 19 23 29 31 37 41 43 47 53 59 61 67 71 73 79 83\n",
      " 89 97]\n",
      "1000 loops, best of 5: 367 µs per loop\n",
      "10000 loops, best of 5: 110 µs per loop\n",
      "more than 3 times faster after Sieve optimazation for N=100\n",
      "100 loops, best of 5: 11.5 ms per loop\n",
      "100 loops, best of 5: 2.08 ms per loop\n",
      "and  5.5 times faster for N=1000 ;-)\n"
     ]
    }
   ],
   "source": [
    "import numpy as np\n",
    "def FindPrimeNumbers(N):\n",
    "    a = np.arange(0,N)\n",
    "    # print(*a, sep='\\t')\n",
    "    FinalMask = np.empty_like(a, dtype=np.bool)\n",
    "    FinalMask[:] = True\n",
    "    for i in range(2,N):\n",
    "        FinalMask = np.logical_and(FinalMask[:], np.logical_xor( a%i == 0 , a != i, a >1)) # a > 1 is used just to keep 0 and 1 in the final answer\n",
    "\n",
    "    return a[FinalMask].copy()\n",
    "print(FindPrimeNumbers(100))\n",
    "\n",
    "\n",
    "\n",
    "def FindPrimeNumbersOPTIMIZED(N):\n",
    "    a = np.arange(0,N)\n",
    "    # print(*a, sep='\\t')\n",
    "    FinalMask = np.empty_like(a, dtype=np.bool)\n",
    "    FinalMask[:] = True\n",
    "    for i in range(2,N):\n",
    "        if FinalMask[i]: # Check if previousely it was flaged as \"False\" (non-prime number), in that case it skipes the calculation\n",
    "            FinalMask = np.logical_and(FinalMask[:], np.logical_xor( a%i == 0 , a != i, a >1)) # a > 1 is used just to keep 0 and 1 in the final answer\n",
    "            if FinalMask[i]: # if it turns out that 'i' is not a prime number, Sieve optimazation step\n",
    "                FinalMask[(i+i)::i] = False\n",
    "\n",
    "    return a[FinalMask].copy()\n",
    "print(FindPrimeNumbersOPTIMIZED(100))\n",
    "\n",
    "%timeit FindPrimeNumbers(100)\n",
    "%timeit FindPrimeNumbersOPTIMIZED(100)\n",
    "print(\"more than 3 times faster after Sieve optimazation for N=100\")\n",
    "%timeit FindPrimeNumbers(1000)\n",
    "%timeit FindPrimeNumbersOPTIMIZED(1000)\n",
    "print(\"and  5.5 times faster for N=1000 ;-)\")"
   ]
  },
  {
   "cell_type": "markdown",
   "metadata": {},
   "source": [
    "8\\. Diffusion using random walk\n",
    "\n",
    "Consider a simple random walk process: at each step in time, a walker jumps right or left (+1 or -1) with equal probability. The goal is to find the typical distance from the origin of a random walker after a given amount of time. \n",
    "To do that, let's simulate many walkers and create a 2D array with each walker as a raw and the actual time evolution as columns\n",
    "\n",
    "  * Take 1000 walkers and let them walk for 200 steps\n",
    "  * Use randint to create a 2D array of size walkers x steps with values -1 or 1\n",
    "  * Build the actual walking distances for each walker (i.e. another 2D array \"summing on each raw\")\n",
    "  * Take the square of that 2D array (elementwise)\n",
    "  * Compute the mean of the squared distances at each step (i.e. the mean along the columns)\n",
    "  * Plot the average distances (sqrt(distance\\*\\*2)) as a function of time (step)\n",
    "  \n",
    "Did you get what you expected?"
   ]
  },
  {
   "cell_type": "code",
   "execution_count": 141,
   "metadata": {},
   "outputs": [
    {
     "data": {
      "text/plain": [
       "array([[ 1, -1, -1, ...,  1,  1, -1],\n",
       "       [-1, -1, -1, ..., -1, -1, -1],\n",
       "       [ 1, -1, -1, ..., -1,  1, -1],\n",
       "       ...,\n",
       "       [ 1,  1, -1, ..., -1,  1,  1],\n",
       "       [-1, -1, -1, ...,  1, -1,  1],\n",
       "       [ 1, -1,  1, ..., -1,  1,  1]])"
      ]
     },
     "execution_count": 141,
     "metadata": {},
     "output_type": "execute_result"
    }
   ],
   "source": [
    "a = 2 * np.random.randint(low=0, high=2, size=(1000, 200)) - 1\n",
    "a"
   ]
  },
  {
   "cell_type": "markdown",
   "metadata": {},
   "source": [
    "9\\. Analyze a data file \n",
    "  * Download the population of hares, lynxes and carrots at the beginning of the last century.\n",
    "    ```python\n",
    "    ! wget https://www.dropbox.com/s/3vigxoqayo389uc/populations.txt\n",
    "    ```\n",
    "\n",
    "  * Check the content by looking within the file\n",
    "  * Load the data (use an appropriate numpy method) into a 2D array\n",
    "  * Create arrays out of the columns, the arrays being (in order): *year*, *hares*, *lynxes*, *carrots* \n",
    "  * Plot the 3 populations over the years\n",
    "  * Compute the main statistical properties of the dataset (mean, std, correlations, etc.)\n",
    "  * Which species has the highest population each year?\n",
    "\n",
    "Do you feel there is some evident correlation here? [Studies](https://www.enr.gov.nt.ca/en/services/lynx/lynx-snowshoe-hare-cycle) tend to believe so."
   ]
  },
  {
   "cell_type": "code",
   "execution_count": 7,
   "metadata": {},
   "outputs": [
    {
     "name": "stderr",
     "output_type": "stream",
     "text": [
      "'wget' is not recognized as an internal or external command,\n",
      "operable program or batch file.\n"
     ]
    }
   ],
   "source": [
    "# Downloading data using \"wget\" application in Linux OS \n",
    "!wget https://www.dropbox.com/s/3vigxoqayo389uc/populations.txt"
   ]
  },
  {
   "cell_type": "code",
   "execution_count": 10,
   "metadata": {},
   "outputs": [
    {
     "data": {
      "text/plain": [
       "[<matplotlib.lines.Line2D at 0x287444b250>]"
      ]
     },
     "execution_count": 10,
     "metadata": {},
     "output_type": "execute_result"
    },
    {
     "data": {
      "image/png": "[encoded data removed]",
      "text/plain": [
       "<Figure size 432x288 with 1 Axes>"
      ]
     },
     "metadata": {
      "needs_background": "light"
     },
     "output_type": "display_data"
    }
   ],
   "source": [
    "open(\"populations.txt\",'r')\n",
    "import numpy as np\n",
    "import matplotlib.pyplot as plt\n",
    "# ==============================================================\n",
    "data = np.loadtxt(\"populations.txt\")\n",
    "\n",
    "# ==============================================================\n",
    "year = data[:,0].copy()\n",
    "hare = data[:,1].copy()\n",
    "lynx = data[:,2].copy()\n",
    "carrot = data[:,3].copy()\n",
    "\n",
    "# ==============================================================\n",
    "plt.plot(year, hare, label=\"hare\", color=\"red\")\n",
    "plt.plot(year, lynx, label=\"lynx\",color=\"blue\")\n",
    "plt.plot(year, carrot, label=\"carrot\",color=\"green\")\n",
    "plt.legend()\n",
    "\n",
    "# ============================================================== \n",
    "# Check when hare population is higher than lynx\n",
    "MaskHare = hare > lynx\n",
    "# Check when hare population is higher than carrot while it was higher than lynx\n",
    "MaskHare = np.logical_and(hare > carrot, MaskHare)\n",
    "\n",
    "# Check when lynx population is higher than hare\n",
    "MaskLynx = lynx > hare\n",
    "# Check when lynx population is higher than carrot while it was higher than hare\n",
    "MaskLynx = np.logical_and(lynx > carrot, MaskLynx)\n",
    "\n",
    "# if both lynx and hare were not the highest (in that case both are false), then carrot is the highest\n",
    "MaskCarrot = MaskHare == MaskLynx\n",
    "\n",
    "plt.plot(year[MaskHare], hare[MaskHare], color=\"red\", linestyle='none', marker='*', markersize=8)\n",
    "plt.plot(year[MaskLynx], lynx[MaskLynx], label=\"lynx\",color=\"blue\", linestyle='none', marker='+', markersize=8)\n",
    "plt.plot(year[MaskCarrot], carrot[MaskCarrot], label=\"carrot\",color=\"green\", linestyle='none', marker='o', markersize=8)\n"
   ]
  },
  {
   "cell_type": "code",
   "execution_count": null,
   "metadata": {},
   "outputs": [],
   "source": []
  }
 ],
 "metadata": {
  "kernelspec": {
   "display_name": "Python 3",
   "language": "python",
   "name": "python3"
  },
  "language_info": {
   "codemirror_mode": {
    "name": "ipython",
    "version": 3
   },
   "file_extension": ".py",
   "mimetype": "text/x-python",
   "name": "python",
   "nbconvert_exporter": "python",
   "pygments_lexer": "ipython3",
   "version": "3.8.3"
  }
 },
 "nbformat": 4,
 "nbformat_minor": 4
}
