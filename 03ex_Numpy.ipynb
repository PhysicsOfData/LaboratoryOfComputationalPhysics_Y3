{
 "cells": [
  {
   "cell_type": "markdown",
   "metadata": {},
   "source": [
    "### Numpy basics"
   ]
  },
  {
   "cell_type": "markdown",
   "metadata": {},
   "source": [
    "1\\. Find the row, column and overall means for the following matrix:\n",
    "\n",
    "```python\n",
    "m = np.arange(12).reshape((3,4))\n",
    "```"
   ]
  },
  {
   "cell_type": "code",
   "execution_count": 32,
   "metadata": {},
   "outputs": [
    {
     "output_type": "stream",
     "name": "stdout",
     "text": [
      "means of rows, coloumns and overall elements are [4. 5. 6. 7.] [1.5 5.5 9.5] 5.5\n"
     ]
    }
   ],
   "source": [
    "import numpy as np\n",
    "import math \n",
    "\n",
    "m = np.arange(12).reshape((3,4))\n",
    "# le parentesi quadre individuano diverse righe quando definisco un array. Quando racchiudo in due parentesi quadre sto poi aggiungendo una dimensione agli array \n",
    "# in questo modo l'array diventa una matrice tre righe e quattro colonne \n",
    "# per trovare la media posso sfruttare la funzione sum() e il metodo .shape per restituire il numero di righe e colonne\n",
    "row_mean = m.sum(axis = 0)/m.shape[0] # specificando l'asse inteso come dimensione su cui eseguire la somma\n",
    "coloumn_mean = m.sum(axis = 1)/m.shape[1]\n",
    "# per sommare tutti gli elementi dell'array utilizzo la funzione sum della classe numpy e per contare tutte le componenti di un array posso moltiplicare le dimensioni che provengono dall'output di .shape\n",
    "number = 1\n",
    "for dim in m.shape : number *= dim\n",
    "overall_mean = np.sum(m)/number\n",
    "print(\"means of rows, coloumns and overall elements are\",row_mean,coloumn_mean,overall_mean)\n",
    "\n",
    "\n"
   ]
  },
  {
   "cell_type": "markdown",
   "metadata": {},
   "source": [
    "2\\. Find the outer product of the following two vecotrs\n",
    "\n",
    "```python\n",
    "u = np.array([1,3,5,7])\n",
    "v = np.array([2,4,6,8])\n",
    "```\n",
    "\n",
    "Do this in the following ways:\n",
    "\n",
    "   * Using the function outer in numpy\n",
    "   * Using a nested for loop or list comprehension\n",
    "   * Using numpy broadcasting operatoins\n"
   ]
  },
  {
   "cell_type": "code",
   "execution_count": 44,
   "metadata": {},
   "outputs": [
    {
     "output_type": "stream",
     "name": "stdout",
     "text": [
      "[[ 2  4  6  8]\n [ 6 12 18 24]\n [10 20 30 40]\n [14 28 42 56]] \n [[ 2  4  6  8]\n [ 6 12 18 24]\n [10 20 30 40]\n [14 28 42 56]] \n [[ 2  4  6  8]\n [ 6 12 18 24]\n [10 20 30 40]\n [14 28 42 56]]\n"
     ]
    }
   ],
   "source": [
    "# per prodotto esterno dei due vettori u e v si indica il prodotto che restituisce a partire da un vettore colonna e un vettore riga una matrice n righe per m colonne \n",
    "u = np.array([1,3,5,7])\n",
    "v = np.array([2,4,6,8])\n",
    "outerp_1 = np.outer(u,v)\n",
    "outerp_2 = np.array([i*j for i in u for j in v]).reshape(len(u),len(v))\n",
    "# l'ultimo metodo per calcolare il prodotto esterno è il broadcasting. Si potrebbero completare i due array rendendoli due matrici ed eseguire il prodotto riga colonna tramite il metodo dot. Il primo array dovrebbe avere tante colonne quanto ne ha il secondo non modificato. Così il secondo modificato dovrebbe avere tante righe quante quelle del primo non modificato.\n",
    "# Oppure si può aggiungere una dimensione a ciascuno dei due vettori in modo che \n",
    "outerp_3 = u[:,np.newaxis]*v[np.newaxis,:]\n",
    "print(outerp_1,\"\\n\",outerp_2,\"\\n\",outerp_3)"
   ]
  },
  {
   "cell_type": "markdown",
   "metadata": {},
   "source": [
    "3\\. Create a 10 by 6 matrix of random uniform numbers. Set all rows with any entry less than 0.1 to be zero\n",
    "\n",
    "Hint: Use the following numpy functions - np.random.random, np.any as well as Boolean indexing and the axis argument."
   ]
  },
  {
   "cell_type": "code",
   "execution_count": 62,
   "metadata": {},
   "outputs": [
    {
     "output_type": "stream",
     "name": "stdout",
     "text": [
      "[[0.69646919 0.28613933 0.22685145 0.55131477 0.71946897 0.42310646]\n [0.9807642  0.68482974 0.4809319  0.39211752 0.34317802 0.72904971]\n [0.         0.         0.         0.         0.         0.        ]\n [0.53155137 0.53182759 0.63440096 0.84943179 0.72445532 0.61102351]\n [0.72244338 0.32295891 0.36178866 0.22826323 0.29371405 0.63097612]\n [0.         0.         0.         0.         0.         0.        ]\n [0.42635131 0.89338916 0.94416002 0.50183668 0.62395295 0.1156184 ]\n [0.31728548 0.41482621 0.86630916 0.25045537 0.48303426 0.98555979]\n [0.51948512 0.61289453 0.12062867 0.8263408  0.60306013 0.54506801]\n [0.34276383 0.30412079 0.41702221 0.68130077 0.87545684 0.51042234]]\n"
     ]
    }
   ],
   "source": [
    "import numpy.random as npr\n",
    "npr.seed(123) # è necessario fissare il seed da cui sono creati i numeri casuali per poter avere risultati riproducibili\n",
    "# Innanzitutto creo una matrice di random uniform numbers. Poi userò una mask per settare quelle righe che hanno elementi minori di 0.1 uguali a zero\n",
    "rand = npr.rand(10,6)\n",
    "#rand[rand < 0.1] = 0\n",
    "# in questo modo filtro elementwise ma qui si chiede di settare eventualmente tutta una riga a zero se anche uno dei suoi elementi dovesse essere minore di 0.1, si può utilizzare allora np.any con la dimensione axis = 0 per applicare la maschera interamente ad una colonna restituendo o solo true o solo false infatti\n",
    "# any e all sono come gli operatori and e or applicati a tutta la riga. Se mi serve capire se tutti gli elementi soddisfino una condizione allora utilizzo all, se invece anche se solo uno non la soddisfa posso avere false uso any\n",
    "mask = rand < 0.1\n",
    "rand[mask.any(axis = 1)] = 0\n",
    "print(rand)"
   ]
  },
  {
   "cell_type": "markdown",
   "metadata": {},
   "source": [
    "4\\. Use np.linspace to create an array of 100 numbers between 0 and 2π (includsive).\n",
    "\n",
    "  * Extract every 10th element using slice notation\n",
    "  * Reverse the array using slice notation\n",
    "  * Extract elements where the absolute difference between the sine and cosine functions evaluated at that element is less than 0.1\n",
    "  * Make a plot showing the sin and cos functions and indicate where they are close"
   ]
  },
  {
   "cell_type": "code",
   "execution_count": 79,
   "metadata": {},
   "outputs": [
    {
     "output_type": "stream",
     "name": "stdout",
     "text": [
      "[0.         0.06346652 0.12693304 0.19039955 0.25386607 0.31733259\n 0.38079911 0.44426563 0.50773215 0.57119866 0.63466518 0.6981317\n 0.76159822 0.82506474 0.88853126 0.95199777 1.01546429 1.07893081\n 1.14239733 1.20586385 1.26933037 1.33279688 1.3962634  1.45972992\n 1.52319644 1.58666296 1.65012947 1.71359599 1.77706251 1.84052903\n 1.90399555 1.96746207 2.03092858 2.0943951  2.15786162 2.22132814\n 2.28479466 2.34826118 2.41172769 2.47519421 2.53866073 2.60212725\n 2.66559377 2.72906028 2.7925268  2.85599332 2.91945984 2.98292636\n 3.04639288 3.10985939 3.17332591 3.23679243 3.30025895 3.36372547\n 3.42719199 3.4906585  3.55412502 3.61759154 3.68105806 3.74452458\n 3.8079911  3.87145761 3.93492413 3.99839065 4.06185717 4.12532369\n 4.1887902  4.25225672 4.31572324 4.37918976 4.44265628 4.5061228\n 4.56958931 4.63305583 4.69652235 4.75998887 4.82345539 4.88692191\n 4.95038842 5.01385494 5.07732146 5.14078798 5.2042545  5.26772102\n 5.33118753 5.39465405 5.45812057 5.52158709 5.58505361 5.64852012\n 5.71198664 5.77545316 5.83891968 5.9023862  5.96585272 6.02931923\n 6.09278575 6.15625227 6.21971879 6.28318531]\n[0.         0.63466518 1.26933037 1.90399555 2.53866073 3.17332591\n 3.8079911  4.44265628 5.07732146 5.71198664]\n[6.28318531 6.21971879 6.15625227 6.09278575 6.02931923 5.96585272\n 5.9023862  5.83891968 5.77545316 5.71198664 5.64852012 5.58505361\n 5.52158709 5.45812057 5.39465405 5.33118753 5.26772102 5.2042545\n 5.14078798 5.07732146 5.01385494 4.95038842 4.88692191 4.82345539\n 4.75998887 4.69652235 4.63305583 4.56958931 4.5061228  4.44265628\n 4.37918976 4.31572324 4.25225672 4.1887902  4.12532369 4.06185717\n 3.99839065 3.93492413 3.87145761 3.8079911  3.74452458 3.68105806\n 3.61759154 3.55412502 3.4906585  3.42719199 3.36372547 3.30025895\n 3.23679243 3.17332591 3.10985939 3.04639288 2.98292636 2.91945984\n 2.85599332 2.7925268  2.72906028 2.66559377 2.60212725 2.53866073\n 2.47519421 2.41172769 2.34826118 2.28479466 2.22132814 2.15786162\n 2.0943951  2.03092858 1.96746207 1.90399555 1.84052903 1.77706251\n 1.71359599 1.65012947 1.58666296 1.52319644 1.45972992 1.3962634\n 1.33279688 1.26933037 1.20586385 1.14239733 1.07893081 1.01546429\n 0.95199777 0.88853126 0.82506474 0.76159822 0.6981317  0.63466518\n 0.57119866 0.50773215 0.44426563 0.38079911 0.31733259 0.25386607\n 0.19039955 0.12693304 0.06346652 0.        ]\n[0.76159822 0.82506474 3.87145761 3.93492413]\n"
     ]
    },
    {
     "output_type": "execute_result",
     "data": {
      "text/plain": [
       "<matplotlib.collections.PathCollection at 0x1061ea30>"
      ]
     },
     "metadata": {},
     "execution_count": 79
    },
    {
     "output_type": "display_data",
     "data": {
      "text/plain": "<Figure size 432x288 with 1 Axes>",
      "image/svg+xml": "<?xml version=\"1.0\" encoding=\"utf-8\" standalone=\"no\"?>\r\n<!DOCTYPE svg PUBLIC \"-//W3C//DTD SVG 1.1//EN\"\r\n  \"http://www.w3.org/Graphics/SVG/1.1/DTD/svg11.dtd\">\r\n<!-- Created with matplotlib (https://matplotlib.org/) -->\r\n<svg height=\"248.518125pt\" version=\"1.1\" viewBox=\"0 0 386.845312 248.518125\" width=\"386.845312pt\" xmlns=\"http://www.w3.org/2000/svg\" xmlns:xlink=\"http://www.w3.org/1999/xlink\">\r\n <metadata>\r\n  <rdf:RDF xmlns:cc=\"http://creativecommons.org/ns#\" xmlns:dc=\"http://purl.org/dc/elements/1.1/\" xmlns:rdf=\"http://www.w3.org/1999/02/22-rdf-syntax-ns#\">\r\n   <cc:Work>\r\n    <dc:type rdf:resource=\"http://purl.org/dc/dcmitype/StillImage\"/>\r\n    <dc:date>2020-10-28T11:25:12.785751</dc:date>\r\n    <dc:format>image/svg+xml</dc:format>\r\n    <dc:creator>\r\n     <cc:Agent>\r\n      <dc:title>Matplotlib v3.3.2, https://matplotlib.org/</dc:title>\r\n     </cc:Agent>\r\n    </dc:creator>\r\n   </cc:Work>\r\n  </rdf:RDF>\r\n </metadata>\r\n <defs>\r\n  <style type=\"text/css\">*{stroke-linecap:butt;stroke-linejoin:round;}</style>\r\n </defs>\r\n <g id=\"figure_1\">\r\n  <g id=\"patch_1\">\r\n   <path d=\"M 0 248.518125 \r\nL 386.845312 248.518125 \r\nL 386.845312 0 \r\nL 0 0 \r\nz\r\n\" style=\"fill:none;\"/>\r\n  </g>\r\n  <g id=\"axes_1\">\r\n   <g id=\"patch_2\">\r\n    <path d=\"M 44.845313 224.64 \r\nL 379.645313 224.64 \r\nL 379.645313 7.2 \r\nL 44.845313 7.2 \r\nz\r\n\" style=\"fill:#ffffff;\"/>\r\n   </g>\r\n   <g id=\"PathCollection_1\">\r\n    <defs>\r\n     <path d=\"M 0 3 \r\nC 0.795609 3 1.55874 2.683901 2.12132 2.12132 \r\nC 2.683901 1.55874 3 0.795609 3 0 \r\nC 3 -0.795609 2.683901 -1.55874 2.12132 -2.12132 \r\nC 1.55874 -2.683901 0.795609 -3 0 -3 \r\nC -0.795609 -3 -1.55874 -2.683901 -2.12132 -2.12132 \r\nC -2.683901 -1.55874 -3 -0.795609 -3 0 \r\nC -3 0.795609 -2.683901 1.55874 -2.12132 2.12132 \r\nC -1.55874 2.683901 -0.795609 3 0 3 \r\nz\r\n\" id=\"m5060306d95\" style=\"stroke:#ff0000;\"/>\r\n    </defs>\r\n    <g clip-path=\"url(#p039d6f6b2e)\">\r\n     <use style=\"fill:#ff0000;stroke:#ff0000;\" x=\"96.956056\" xlink:href=\"#m5060306d95\" y=\"47.717028\"/>\r\n     <use style=\"fill:#ff0000;stroke:#ff0000;\" x=\"100.030436\" xlink:href=\"#m5060306d95\" y=\"43.317278\"/>\r\n     <use style=\"fill:#ff0000;stroke:#ff0000;\" x=\"247.600684\" xlink:href=\"#m5060306d95\" y=\"181.831392\"/>\r\n     <use style=\"fill:#ff0000;stroke:#ff0000;\" x=\"250.675065\" xlink:href=\"#m5060306d95\" y=\"186.370755\"/>\r\n    </g>\r\n   </g>\r\n   <g id=\"matplotlib.axis_1\">\r\n    <g id=\"xtick_1\">\r\n     <g id=\"line2d_1\">\r\n      <defs>\r\n       <path d=\"M 0 0 \r\nL 0 3.5 \r\n\" id=\"me33f3e997a\" style=\"stroke:#000000;stroke-width:0.8;\"/>\r\n      </defs>\r\n      <g>\r\n       <use style=\"stroke:#000000;stroke-width:0.8;\" x=\"60.063494\" xlink:href=\"#me33f3e997a\" y=\"224.64\"/>\r\n      </g>\r\n     </g>\r\n     <g id=\"text_1\">\r\n      <!-- 0 -->\r\n      <g transform=\"translate(56.882244 239.238437)scale(0.1 -0.1)\">\r\n       <defs>\r\n        <path d=\"M 31.78125 66.40625 \r\nQ 24.171875 66.40625 20.328125 58.90625 \r\nQ 16.5 51.421875 16.5 36.375 \r\nQ 16.5 21.390625 20.328125 13.890625 \r\nQ 24.171875 6.390625 31.78125 6.390625 \r\nQ 39.453125 6.390625 43.28125 13.890625 \r\nQ 47.125 21.390625 47.125 36.375 \r\nQ 47.125 51.421875 43.28125 58.90625 \r\nQ 39.453125 66.40625 31.78125 66.40625 \r\nz\r\nM 31.78125 74.21875 \r\nQ 44.046875 74.21875 50.515625 64.515625 \r\nQ 56.984375 54.828125 56.984375 36.375 \r\nQ 56.984375 17.96875 50.515625 8.265625 \r\nQ 44.046875 -1.421875 31.78125 -1.421875 \r\nQ 19.53125 -1.421875 13.0625 8.265625 \r\nQ 6.59375 17.96875 6.59375 36.375 \r\nQ 6.59375 54.828125 13.0625 64.515625 \r\nQ 19.53125 74.21875 31.78125 74.21875 \r\nz\r\n\" id=\"DejaVuSans-48\"/>\r\n       </defs>\r\n       <use xlink:href=\"#DejaVuSans-48\"/>\r\n      </g>\r\n     </g>\r\n    </g>\r\n    <g id=\"xtick_2\">\r\n     <g id=\"line2d_2\">\r\n      <g>\r\n       <use style=\"stroke:#000000;stroke-width:0.8;\" x=\"108.504472\" xlink:href=\"#me33f3e997a\" y=\"224.64\"/>\r\n      </g>\r\n     </g>\r\n     <g id=\"text_2\">\r\n      <!-- 1 -->\r\n      <g transform=\"translate(105.323222 239.238437)scale(0.1 -0.1)\">\r\n       <defs>\r\n        <path d=\"M 12.40625 8.296875 \r\nL 28.515625 8.296875 \r\nL 28.515625 63.921875 \r\nL 10.984375 60.40625 \r\nL 10.984375 69.390625 \r\nL 28.421875 72.90625 \r\nL 38.28125 72.90625 \r\nL 38.28125 8.296875 \r\nL 54.390625 8.296875 \r\nL 54.390625 0 \r\nL 12.40625 0 \r\nz\r\n\" id=\"DejaVuSans-49\"/>\r\n       </defs>\r\n       <use xlink:href=\"#DejaVuSans-49\"/>\r\n      </g>\r\n     </g>\r\n    </g>\r\n    <g id=\"xtick_3\">\r\n     <g id=\"line2d_3\">\r\n      <g>\r\n       <use style=\"stroke:#000000;stroke-width:0.8;\" x=\"156.945449\" xlink:href=\"#me33f3e997a\" y=\"224.64\"/>\r\n      </g>\r\n     </g>\r\n     <g id=\"text_3\">\r\n      <!-- 2 -->\r\n      <g transform=\"translate(153.764199 239.238437)scale(0.1 -0.1)\">\r\n       <defs>\r\n        <path d=\"M 19.1875 8.296875 \r\nL 53.609375 8.296875 \r\nL 53.609375 0 \r\nL 7.328125 0 \r\nL 7.328125 8.296875 \r\nQ 12.9375 14.109375 22.625 23.890625 \r\nQ 32.328125 33.6875 34.8125 36.53125 \r\nQ 39.546875 41.84375 41.421875 45.53125 \r\nQ 43.3125 49.21875 43.3125 52.78125 \r\nQ 43.3125 58.59375 39.234375 62.25 \r\nQ 35.15625 65.921875 28.609375 65.921875 \r\nQ 23.96875 65.921875 18.8125 64.3125 \r\nQ 13.671875 62.703125 7.8125 59.421875 \r\nL 7.8125 69.390625 \r\nQ 13.765625 71.78125 18.9375 73 \r\nQ 24.125 74.21875 28.421875 74.21875 \r\nQ 39.75 74.21875 46.484375 68.546875 \r\nQ 53.21875 62.890625 53.21875 53.421875 \r\nQ 53.21875 48.921875 51.53125 44.890625 \r\nQ 49.859375 40.875 45.40625 35.40625 \r\nQ 44.1875 33.984375 37.640625 27.21875 \r\nQ 31.109375 20.453125 19.1875 8.296875 \r\nz\r\n\" id=\"DejaVuSans-50\"/>\r\n       </defs>\r\n       <use xlink:href=\"#DejaVuSans-50\"/>\r\n      </g>\r\n     </g>\r\n    </g>\r\n    <g id=\"xtick_4\">\r\n     <g id=\"line2d_4\">\r\n      <g>\r\n       <use style=\"stroke:#000000;stroke-width:0.8;\" x=\"205.386426\" xlink:href=\"#me33f3e997a\" y=\"224.64\"/>\r\n      </g>\r\n     </g>\r\n     <g id=\"text_4\">\r\n      <!-- 3 -->\r\n      <g transform=\"translate(202.205176 239.238437)scale(0.1 -0.1)\">\r\n       <defs>\r\n        <path d=\"M 40.578125 39.3125 \r\nQ 47.65625 37.796875 51.625 33 \r\nQ 55.609375 28.21875 55.609375 21.1875 \r\nQ 55.609375 10.40625 48.1875 4.484375 \r\nQ 40.765625 -1.421875 27.09375 -1.421875 \r\nQ 22.515625 -1.421875 17.65625 -0.515625 \r\nQ 12.796875 0.390625 7.625 2.203125 \r\nL 7.625 11.71875 \r\nQ 11.71875 9.328125 16.59375 8.109375 \r\nQ 21.484375 6.890625 26.8125 6.890625 \r\nQ 36.078125 6.890625 40.9375 10.546875 \r\nQ 45.796875 14.203125 45.796875 21.1875 \r\nQ 45.796875 27.640625 41.28125 31.265625 \r\nQ 36.765625 34.90625 28.71875 34.90625 \r\nL 20.21875 34.90625 \r\nL 20.21875 43.015625 \r\nL 29.109375 43.015625 \r\nQ 36.375 43.015625 40.234375 45.921875 \r\nQ 44.09375 48.828125 44.09375 54.296875 \r\nQ 44.09375 59.90625 40.109375 62.90625 \r\nQ 36.140625 65.921875 28.71875 65.921875 \r\nQ 24.65625 65.921875 20.015625 65.03125 \r\nQ 15.375 64.15625 9.8125 62.3125 \r\nL 9.8125 71.09375 \r\nQ 15.4375 72.65625 20.34375 73.4375 \r\nQ 25.25 74.21875 29.59375 74.21875 \r\nQ 40.828125 74.21875 47.359375 69.109375 \r\nQ 53.90625 64.015625 53.90625 55.328125 \r\nQ 53.90625 49.265625 50.4375 45.09375 \r\nQ 46.96875 40.921875 40.578125 39.3125 \r\nz\r\n\" id=\"DejaVuSans-51\"/>\r\n       </defs>\r\n       <use xlink:href=\"#DejaVuSans-51\"/>\r\n      </g>\r\n     </g>\r\n    </g>\r\n    <g id=\"xtick_5\">\r\n     <g id=\"line2d_5\">\r\n      <g>\r\n       <use style=\"stroke:#000000;stroke-width:0.8;\" x=\"253.827403\" xlink:href=\"#me33f3e997a\" y=\"224.64\"/>\r\n      </g>\r\n     </g>\r\n     <g id=\"text_5\">\r\n      <!-- 4 -->\r\n      <g transform=\"translate(250.646153 239.238437)scale(0.1 -0.1)\">\r\n       <defs>\r\n        <path d=\"M 37.796875 64.3125 \r\nL 12.890625 25.390625 \r\nL 37.796875 25.390625 \r\nz\r\nM 35.203125 72.90625 \r\nL 47.609375 72.90625 \r\nL 47.609375 25.390625 \r\nL 58.015625 25.390625 \r\nL 58.015625 17.1875 \r\nL 47.609375 17.1875 \r\nL 47.609375 0 \r\nL 37.796875 0 \r\nL 37.796875 17.1875 \r\nL 4.890625 17.1875 \r\nL 4.890625 26.703125 \r\nz\r\n\" id=\"DejaVuSans-52\"/>\r\n       </defs>\r\n       <use xlink:href=\"#DejaVuSans-52\"/>\r\n      </g>\r\n     </g>\r\n    </g>\r\n    <g id=\"xtick_6\">\r\n     <g id=\"line2d_6\">\r\n      <g>\r\n       <use style=\"stroke:#000000;stroke-width:0.8;\" x=\"302.26838\" xlink:href=\"#me33f3e997a\" y=\"224.64\"/>\r\n      </g>\r\n     </g>\r\n     <g id=\"text_6\">\r\n      <!-- 5 -->\r\n      <g transform=\"translate(299.08713 239.238437)scale(0.1 -0.1)\">\r\n       <defs>\r\n        <path d=\"M 10.796875 72.90625 \r\nL 49.515625 72.90625 \r\nL 49.515625 64.59375 \r\nL 19.828125 64.59375 \r\nL 19.828125 46.734375 \r\nQ 21.96875 47.46875 24.109375 47.828125 \r\nQ 26.265625 48.1875 28.421875 48.1875 \r\nQ 40.625 48.1875 47.75 41.5 \r\nQ 54.890625 34.8125 54.890625 23.390625 \r\nQ 54.890625 11.625 47.5625 5.09375 \r\nQ 40.234375 -1.421875 26.90625 -1.421875 \r\nQ 22.3125 -1.421875 17.546875 -0.640625 \r\nQ 12.796875 0.140625 7.71875 1.703125 \r\nL 7.71875 11.625 \r\nQ 12.109375 9.234375 16.796875 8.0625 \r\nQ 21.484375 6.890625 26.703125 6.890625 \r\nQ 35.15625 6.890625 40.078125 11.328125 \r\nQ 45.015625 15.765625 45.015625 23.390625 \r\nQ 45.015625 31 40.078125 35.4375 \r\nQ 35.15625 39.890625 26.703125 39.890625 \r\nQ 22.75 39.890625 18.8125 39.015625 \r\nQ 14.890625 38.140625 10.796875 36.28125 \r\nz\r\n\" id=\"DejaVuSans-53\"/>\r\n       </defs>\r\n       <use xlink:href=\"#DejaVuSans-53\"/>\r\n      </g>\r\n     </g>\r\n    </g>\r\n    <g id=\"xtick_7\">\r\n     <g id=\"line2d_7\">\r\n      <g>\r\n       <use style=\"stroke:#000000;stroke-width:0.8;\" x=\"350.709358\" xlink:href=\"#me33f3e997a\" y=\"224.64\"/>\r\n      </g>\r\n     </g>\r\n     <g id=\"text_7\">\r\n      <!-- 6 -->\r\n      <g transform=\"translate(347.528108 239.238437)scale(0.1 -0.1)\">\r\n       <defs>\r\n        <path d=\"M 33.015625 40.375 \r\nQ 26.375 40.375 22.484375 35.828125 \r\nQ 18.609375 31.296875 18.609375 23.390625 \r\nQ 18.609375 15.53125 22.484375 10.953125 \r\nQ 26.375 6.390625 33.015625 6.390625 \r\nQ 39.65625 6.390625 43.53125 10.953125 \r\nQ 47.40625 15.53125 47.40625 23.390625 \r\nQ 47.40625 31.296875 43.53125 35.828125 \r\nQ 39.65625 40.375 33.015625 40.375 \r\nz\r\nM 52.59375 71.296875 \r\nL 52.59375 62.3125 \r\nQ 48.875 64.0625 45.09375 64.984375 \r\nQ 41.3125 65.921875 37.59375 65.921875 \r\nQ 27.828125 65.921875 22.671875 59.328125 \r\nQ 17.53125 52.734375 16.796875 39.40625 \r\nQ 19.671875 43.65625 24.015625 45.921875 \r\nQ 28.375 48.1875 33.59375 48.1875 \r\nQ 44.578125 48.1875 50.953125 41.515625 \r\nQ 57.328125 34.859375 57.328125 23.390625 \r\nQ 57.328125 12.15625 50.6875 5.359375 \r\nQ 44.046875 -1.421875 33.015625 -1.421875 \r\nQ 20.359375 -1.421875 13.671875 8.265625 \r\nQ 6.984375 17.96875 6.984375 36.375 \r\nQ 6.984375 53.65625 15.1875 63.9375 \r\nQ 23.390625 74.21875 37.203125 74.21875 \r\nQ 40.921875 74.21875 44.703125 73.484375 \r\nQ 48.484375 72.75 52.59375 71.296875 \r\nz\r\n\" id=\"DejaVuSans-54\"/>\r\n       </defs>\r\n       <use xlink:href=\"#DejaVuSans-54\"/>\r\n      </g>\r\n     </g>\r\n    </g>\r\n   </g>\r\n   <g id=\"matplotlib.axis_2\">\r\n    <g id=\"ytick_1\">\r\n     <g id=\"line2d_8\">\r\n      <defs>\r\n       <path d=\"M 0 0 \r\nL -3.5 0 \r\n\" id=\"mbcad02cd6b\" style=\"stroke:#000000;stroke-width:0.8;\"/>\r\n      </defs>\r\n      <g>\r\n       <use style=\"stroke:#000000;stroke-width:0.8;\" x=\"44.845313\" xlink:href=\"#mbcad02cd6b\" y=\"214.768805\"/>\r\n      </g>\r\n     </g>\r\n     <g id=\"text_8\">\r\n      <!-- −1.00 -->\r\n      <g transform=\"translate(7.2 218.568024)scale(0.1 -0.1)\">\r\n       <defs>\r\n        <path d=\"M 10.59375 35.5 \r\nL 73.1875 35.5 \r\nL 73.1875 27.203125 \r\nL 10.59375 27.203125 \r\nz\r\n\" id=\"DejaVuSans-8722\"/>\r\n        <path d=\"M 10.6875 12.40625 \r\nL 21 12.40625 \r\nL 21 0 \r\nL 10.6875 0 \r\nz\r\n\" id=\"DejaVuSans-46\"/>\r\n       </defs>\r\n       <use xlink:href=\"#DejaVuSans-8722\"/>\r\n       <use x=\"83.789062\" xlink:href=\"#DejaVuSans-49\"/>\r\n       <use x=\"147.412109\" xlink:href=\"#DejaVuSans-46\"/>\r\n       <use x=\"179.199219\" xlink:href=\"#DejaVuSans-48\"/>\r\n       <use x=\"242.822266\" xlink:href=\"#DejaVuSans-48\"/>\r\n      </g>\r\n     </g>\r\n    </g>\r\n    <g id=\"ytick_2\">\r\n     <g id=\"line2d_9\">\r\n      <g>\r\n       <use style=\"stroke:#000000;stroke-width:0.8;\" x=\"44.845313\" xlink:href=\"#mbcad02cd6b\" y=\"190.058159\"/>\r\n      </g>\r\n     </g>\r\n     <g id=\"text_9\">\r\n      <!-- −0.75 -->\r\n      <g transform=\"translate(7.2 193.857378)scale(0.1 -0.1)\">\r\n       <defs>\r\n        <path d=\"M 8.203125 72.90625 \r\nL 55.078125 72.90625 \r\nL 55.078125 68.703125 \r\nL 28.609375 0 \r\nL 18.3125 0 \r\nL 43.21875 64.59375 \r\nL 8.203125 64.59375 \r\nz\r\n\" id=\"DejaVuSans-55\"/>\r\n       </defs>\r\n       <use xlink:href=\"#DejaVuSans-8722\"/>\r\n       <use x=\"83.789062\" xlink:href=\"#DejaVuSans-48\"/>\r\n       <use x=\"147.412109\" xlink:href=\"#DejaVuSans-46\"/>\r\n       <use x=\"179.199219\" xlink:href=\"#DejaVuSans-55\"/>\r\n       <use x=\"242.822266\" xlink:href=\"#DejaVuSans-53\"/>\r\n      </g>\r\n     </g>\r\n    </g>\r\n    <g id=\"ytick_3\">\r\n     <g id=\"line2d_10\">\r\n      <g>\r\n       <use style=\"stroke:#000000;stroke-width:0.8;\" x=\"44.845313\" xlink:href=\"#mbcad02cd6b\" y=\"165.347513\"/>\r\n      </g>\r\n     </g>\r\n     <g id=\"text_10\">\r\n      <!-- −0.50 -->\r\n      <g transform=\"translate(7.2 169.146732)scale(0.1 -0.1)\">\r\n       <use xlink:href=\"#DejaVuSans-8722\"/>\r\n       <use x=\"83.789062\" xlink:href=\"#DejaVuSans-48\"/>\r\n       <use x=\"147.412109\" xlink:href=\"#DejaVuSans-46\"/>\r\n       <use x=\"179.199219\" xlink:href=\"#DejaVuSans-53\"/>\r\n       <use x=\"242.822266\" xlink:href=\"#DejaVuSans-48\"/>\r\n      </g>\r\n     </g>\r\n    </g>\r\n    <g id=\"ytick_4\">\r\n     <g id=\"line2d_11\">\r\n      <g>\r\n       <use style=\"stroke:#000000;stroke-width:0.8;\" x=\"44.845313\" xlink:href=\"#mbcad02cd6b\" y=\"140.636867\"/>\r\n      </g>\r\n     </g>\r\n     <g id=\"text_11\">\r\n      <!-- −0.25 -->\r\n      <g transform=\"translate(7.2 144.436086)scale(0.1 -0.1)\">\r\n       <use xlink:href=\"#DejaVuSans-8722\"/>\r\n       <use x=\"83.789062\" xlink:href=\"#DejaVuSans-48\"/>\r\n       <use x=\"147.412109\" xlink:href=\"#DejaVuSans-46\"/>\r\n       <use x=\"179.199219\" xlink:href=\"#DejaVuSans-50\"/>\r\n       <use x=\"242.822266\" xlink:href=\"#DejaVuSans-53\"/>\r\n      </g>\r\n     </g>\r\n    </g>\r\n    <g id=\"ytick_5\">\r\n     <g id=\"line2d_12\">\r\n      <g>\r\n       <use style=\"stroke:#000000;stroke-width:0.8;\" x=\"44.845313\" xlink:href=\"#mbcad02cd6b\" y=\"115.926221\"/>\r\n      </g>\r\n     </g>\r\n     <g id=\"text_12\">\r\n      <!-- 0.00 -->\r\n      <g transform=\"translate(15.579688 119.72544)scale(0.1 -0.1)\">\r\n       <use xlink:href=\"#DejaVuSans-48\"/>\r\n       <use x=\"63.623047\" xlink:href=\"#DejaVuSans-46\"/>\r\n       <use x=\"95.410156\" xlink:href=\"#DejaVuSans-48\"/>\r\n       <use x=\"159.033203\" xlink:href=\"#DejaVuSans-48\"/>\r\n      </g>\r\n     </g>\r\n    </g>\r\n    <g id=\"ytick_6\">\r\n     <g id=\"line2d_13\">\r\n      <g>\r\n       <use style=\"stroke:#000000;stroke-width:0.8;\" x=\"44.845313\" xlink:href=\"#mbcad02cd6b\" y=\"91.215575\"/>\r\n      </g>\r\n     </g>\r\n     <g id=\"text_13\">\r\n      <!-- 0.25 -->\r\n      <g transform=\"translate(15.579688 95.014793)scale(0.1 -0.1)\">\r\n       <use xlink:href=\"#DejaVuSans-48\"/>\r\n       <use x=\"63.623047\" xlink:href=\"#DejaVuSans-46\"/>\r\n       <use x=\"95.410156\" xlink:href=\"#DejaVuSans-50\"/>\r\n       <use x=\"159.033203\" xlink:href=\"#DejaVuSans-53\"/>\r\n      </g>\r\n     </g>\r\n    </g>\r\n    <g id=\"ytick_7\">\r\n     <g id=\"line2d_14\">\r\n      <g>\r\n       <use style=\"stroke:#000000;stroke-width:0.8;\" x=\"44.845313\" xlink:href=\"#mbcad02cd6b\" y=\"66.504929\"/>\r\n      </g>\r\n     </g>\r\n     <g id=\"text_14\">\r\n      <!-- 0.50 -->\r\n      <g transform=\"translate(15.579688 70.304147)scale(0.1 -0.1)\">\r\n       <use xlink:href=\"#DejaVuSans-48\"/>\r\n       <use x=\"63.623047\" xlink:href=\"#DejaVuSans-46\"/>\r\n       <use x=\"95.410156\" xlink:href=\"#DejaVuSans-53\"/>\r\n       <use x=\"159.033203\" xlink:href=\"#DejaVuSans-48\"/>\r\n      </g>\r\n     </g>\r\n    </g>\r\n    <g id=\"ytick_8\">\r\n     <g id=\"line2d_15\">\r\n      <g>\r\n       <use style=\"stroke:#000000;stroke-width:0.8;\" x=\"44.845313\" xlink:href=\"#mbcad02cd6b\" y=\"41.794282\"/>\r\n      </g>\r\n     </g>\r\n     <g id=\"text_15\">\r\n      <!-- 0.75 -->\r\n      <g transform=\"translate(15.579688 45.593501)scale(0.1 -0.1)\">\r\n       <use xlink:href=\"#DejaVuSans-48\"/>\r\n       <use x=\"63.623047\" xlink:href=\"#DejaVuSans-46\"/>\r\n       <use x=\"95.410156\" xlink:href=\"#DejaVuSans-55\"/>\r\n       <use x=\"159.033203\" xlink:href=\"#DejaVuSans-53\"/>\r\n      </g>\r\n     </g>\r\n    </g>\r\n    <g id=\"ytick_9\">\r\n     <g id=\"line2d_16\">\r\n      <g>\r\n       <use style=\"stroke:#000000;stroke-width:0.8;\" x=\"44.845313\" xlink:href=\"#mbcad02cd6b\" y=\"17.083636\"/>\r\n      </g>\r\n     </g>\r\n     <g id=\"text_16\">\r\n      <!-- 1.00 -->\r\n      <g transform=\"translate(15.579688 20.882855)scale(0.1 -0.1)\">\r\n       <use xlink:href=\"#DejaVuSans-49\"/>\r\n       <use x=\"63.623047\" xlink:href=\"#DejaVuSans-46\"/>\r\n       <use x=\"95.410156\" xlink:href=\"#DejaVuSans-48\"/>\r\n       <use x=\"159.033203\" xlink:href=\"#DejaVuSans-48\"/>\r\n      </g>\r\n     </g>\r\n    </g>\r\n   </g>\r\n   <g id=\"line2d_17\">\r\n    <path clip-path=\"url(#p039d6f6b2e)\" d=\"M 60.063494 115.926221 \r\nL 63.137874 109.657237 \r\nL 66.212255 103.413495 \r\nL 69.286635 97.220139 \r\nL 72.361015 91.102105 \r\nL 75.435395 85.084029 \r\nL 78.509775 79.190143 \r\nL 81.584155 73.444181 \r\nL 84.658536 67.869279 \r\nL 87.732916 62.487885 \r\nL 90.807296 57.321669 \r\nL 93.881676 52.391432 \r\nL 96.956056 47.717028 \r\nL 100.030436 43.317278 \r\nL 103.104817 39.209898 \r\nL 106.179197 35.411428 \r\nL 109.253577 31.937163 \r\nL 112.327957 28.801092 \r\nL 115.402337 26.015843 \r\nL 118.476717 23.592632 \r\nL 121.551098 21.541215 \r\nL 124.625478 19.869854 \r\nL 127.699858 18.585277 \r\nL 130.774238 17.692658 \r\nL 133.848618 17.195591 \r\nL 136.922998 17.096078 \r\nL 139.997379 17.394518 \r\nL 143.071759 18.089711 \r\nL 146.146139 19.178857 \r\nL 149.220519 20.657571 \r\nL 152.294899 22.519898 \r\nL 155.369279 24.758339 \r\nL 158.44366 27.363881 \r\nL 161.51804 30.326032 \r\nL 164.59242 33.632865 \r\nL 167.6668 37.271064 \r\nL 170.74118 41.22598 \r\nL 173.81556 45.481687 \r\nL 176.889941 50.02105 \r\nL 179.964321 54.825789 \r\nL 183.038701 59.876558 \r\nL 186.113081 65.15302 \r\nL 189.187461 70.633927 \r\nL 192.261841 76.29721 \r\nL 195.336222 82.120066 \r\nL 198.410602 88.079047 \r\nL 201.484982 94.150158 \r\nL 204.559362 100.308954 \r\nL 207.633742 106.530636 \r\nL 210.708122 112.79015 \r\nL 213.782503 119.062292 \r\nL 216.856883 125.321806 \r\nL 219.931263 131.543487 \r\nL 223.005643 137.702283 \r\nL 226.080023 143.773395 \r\nL 229.154403 149.732376 \r\nL 232.228784 155.555231 \r\nL 235.303164 161.218514 \r\nL 238.377544 166.699422 \r\nL 241.451924 171.975883 \r\nL 244.526304 177.026653 \r\nL 247.600684 181.831392 \r\nL 250.675065 186.370755 \r\nL 253.749445 190.626462 \r\nL 256.823825 194.581378 \r\nL 259.898205 198.219577 \r\nL 262.972585 201.52641 \r\nL 266.046965 204.488561 \r\nL 269.121346 207.094103 \r\nL 272.195726 209.332544 \r\nL 275.270106 211.194871 \r\nL 278.344486 212.673584 \r\nL 281.418866 213.76273 \r\nL 284.493246 214.457923 \r\nL 287.567627 214.756364 \r\nL 290.642007 214.65685 \r\nL 293.716387 214.159783 \r\nL 296.790767 213.267164 \r\nL 299.865147 211.982588 \r\nL 302.939527 210.311226 \r\nL 306.013908 208.25981 \r\nL 309.088288 205.836598 \r\nL 312.162668 203.051349 \r\nL 315.237048 199.915278 \r\nL 318.311428 196.441013 \r\nL 321.385808 192.642543 \r\nL 324.460189 188.535164 \r\nL 327.534569 184.135414 \r\nL 330.608949 179.461009 \r\nL 333.683329 174.530773 \r\nL 336.757709 169.364556 \r\nL 339.832089 163.983163 \r\nL 342.90647 158.408261 \r\nL 345.98085 152.662298 \r\nL 349.05523 146.768413 \r\nL 352.12961 140.750337 \r\nL 355.20399 134.632303 \r\nL 358.27837 128.438946 \r\nL 361.352751 122.195205 \r\nL 364.427131 115.926221 \r\n\" style=\"fill:none;stroke:#1f77b4;stroke-linecap:square;stroke-width:1.5;\"/>\r\n   </g>\r\n   <g id=\"line2d_18\">\r\n    <path clip-path=\"url(#p039d6f6b2e)\" d=\"M 60.063494 17.083636 \r\nL 63.137874 17.282638 \r\nL 66.212255 17.878843 \r\nL 69.286635 18.869851 \r\nL 72.361015 20.25167 \r\nL 75.435395 22.018736 \r\nL 78.509775 24.163935 \r\nL 81.584155 26.678628 \r\nL 84.658536 29.55269 \r\nL 87.732916 32.774547 \r\nL 90.807296 36.331227 \r\nL 93.881676 40.208408 \r\nL 96.956056 44.390478 \r\nL 100.030436 48.860597 \r\nL 103.104817 53.600766 \r\nL 106.179197 58.591897 \r\nL 109.253577 63.813893 \r\nL 112.327957 69.245727 \r\nL 115.402337 74.865527 \r\nL 118.476717 80.650664 \r\nL 121.551098 86.577844 \r\nL 124.625478 92.623198 \r\nL 127.699858 98.762386 \r\nL 130.774238 104.970687 \r\nL 133.848618 111.223101 \r\nL 136.922998 117.494454 \r\nL 139.997379 123.759491 \r\nL 143.071759 129.992987 \r\nL 146.146139 136.169841 \r\nL 149.220519 142.265181 \r\nL 152.294899 148.254464 \r\nL 155.369279 154.113571 \r\nL 158.44366 159.818912 \r\nL 161.51804 165.347513 \r\nL 164.59242 170.677111 \r\nL 167.6668 175.786247 \r\nL 170.74118 180.654348 \r\nL 173.81556 185.261812 \r\nL 176.889941 189.590085 \r\nL 179.964321 193.62174 \r\nL 183.038701 197.340543 \r\nL 186.113081 200.731519 \r\nL 189.187461 203.781014 \r\nL 192.261841 206.476748 \r\nL 195.336222 208.807868 \r\nL 198.410602 210.764986 \r\nL 201.484982 212.340222 \r\nL 204.559362 213.527232 \r\nL 207.633742 214.321238 \r\nL 210.708122 214.719042 \r\nL 213.782503 214.719042 \r\nL 216.856883 214.321238 \r\nL 219.931263 213.527232 \r\nL 223.005643 212.340222 \r\nL 226.080023 210.764986 \r\nL 229.154403 208.807868 \r\nL 232.228784 206.476748 \r\nL 235.303164 203.781014 \r\nL 238.377544 200.731519 \r\nL 241.451924 197.340543 \r\nL 244.526304 193.62174 \r\nL 247.600684 189.590085 \r\nL 250.675065 185.261812 \r\nL 253.749445 180.654348 \r\nL 256.823825 175.786247 \r\nL 259.898205 170.677111 \r\nL 262.972585 165.347513 \r\nL 266.046965 159.818912 \r\nL 269.121346 154.113571 \r\nL 272.195726 148.254464 \r\nL 275.270106 142.265181 \r\nL 278.344486 136.169841 \r\nL 281.418866 129.992987 \r\nL 284.493246 123.759491 \r\nL 287.567627 117.494454 \r\nL 290.642007 111.223101 \r\nL 293.716387 104.970687 \r\nL 296.790767 98.762386 \r\nL 299.865147 92.623198 \r\nL 302.939527 86.577844 \r\nL 306.013908 80.650664 \r\nL 309.088288 74.865527 \r\nL 312.162668 69.245727 \r\nL 315.237048 63.813893 \r\nL 318.311428 58.591897 \r\nL 321.385808 53.600766 \r\nL 324.460189 48.860597 \r\nL 327.534569 44.390478 \r\nL 330.608949 40.208408 \r\nL 333.683329 36.331227 \r\nL 336.757709 32.774547 \r\nL 339.832089 29.55269 \r\nL 342.90647 26.678628 \r\nL 345.98085 24.163935 \r\nL 349.05523 22.018736 \r\nL 352.12961 20.25167 \r\nL 355.20399 18.869851 \r\nL 358.27837 17.878843 \r\nL 361.352751 17.282638 \r\nL 364.427131 17.083636 \r\n\" style=\"fill:none;stroke:#ff7f0e;stroke-linecap:square;stroke-width:1.5;\"/>\r\n   </g>\r\n   <g id=\"patch_3\">\r\n    <path d=\"M 44.845313 224.64 \r\nL 44.845313 7.2 \r\n\" style=\"fill:none;stroke:#000000;stroke-linecap:square;stroke-linejoin:miter;stroke-width:0.8;\"/>\r\n   </g>\r\n   <g id=\"patch_4\">\r\n    <path d=\"M 379.645313 224.64 \r\nL 379.645313 7.2 \r\n\" style=\"fill:none;stroke:#000000;stroke-linecap:square;stroke-linejoin:miter;stroke-width:0.8;\"/>\r\n   </g>\r\n   <g id=\"patch_5\">\r\n    <path d=\"M 44.845313 224.64 \r\nL 379.645313 224.64 \r\n\" style=\"fill:none;stroke:#000000;stroke-linecap:square;stroke-linejoin:miter;stroke-width:0.8;\"/>\r\n   </g>\r\n   <g id=\"patch_6\">\r\n    <path d=\"M 44.845313 7.2 \r\nL 379.645313 7.2 \r\n\" style=\"fill:none;stroke:#000000;stroke-linecap:square;stroke-linejoin:miter;stroke-width:0.8;\"/>\r\n   </g>\r\n  </g>\r\n </g>\r\n <defs>\r\n  <clipPath id=\"p039d6f6b2e\">\r\n   <rect height=\"217.44\" width=\"334.8\" x=\"44.845313\" y=\"7.2\"/>\r\n  </clipPath>\r\n </defs>\r\n</svg>\r\n",
      "image/png": "[encoded data removed]"
     },
     "metadata": {
      "needs_background": "light"
     }
    }
   ],
   "source": [
    "import matplotlib.pyplot as plt\n",
    "%matplotlib inline \n",
    "\n",
    "# creo un array di 100 numeri tra o e 2pi+1 \n",
    "x = np.linspace(0,2*np.pi,100)\n",
    "print(x) # questo è l'array completa senza alcuna modifica\n",
    "print(x[::10]) # questo selezione ogni dieci elementi dall'array a \n",
    "print(x[::-1]) # tramite lo step -1 torno indietro\n",
    "print(x[np.abs(np.sin(x)-np.cos(x)) < 0.1]) # tramite una mask estraggo solo gli elementi la cui differenza in abs tra sin(a) e cos(a) sia minore di 0.1\n",
    "plt.plot(x,np.sin(x),x,np.cos(x))\n",
    "# mi si chiede anche di mostrare quando le due funzioni sono vicine, posso sfruttare l'array x ricavato dalla terza condizione e rappresentare questi punti singolarmente nel grafico. La soglia epsilon quindi è settata a 0.1\n",
    "xclose = x[np.abs(np.sin(x)-np.cos(x)) < 0.1]\n",
    "plt.scatter(xclose,np.sin(xclose), c = \"red\")"
   ]
  },
  {
   "cell_type": "markdown",
   "metadata": {},
   "source": [
    "5\\. Create a matrix that shows the 10 by 10 multiplication table.\n",
    "\n",
    " * Find the trace of the matrix\n",
    " * Extract the anti-diagonal (this should be ```array([10, 18, 24, 28, 30, 30, 28, 24, 18, 10])```)\n",
    " * Extract the diagnoal offset by 1 upwards (this should be ```array([ 2,  6, 12, 20, 30, 42, 56, 72, 90])```)"
   ]
  },
  {
   "cell_type": "code",
   "execution_count": 134,
   "metadata": {},
   "outputs": [
    {
     "output_type": "stream",
     "name": "stdout",
     "text": [
      "the trace: 385\n[10 18 24 28 30 30 28 24 18 10]\n[ 2  6 12 20 30 42 56 72 90]\n"
     ]
    }
   ],
   "source": [
    "mult = np.array([i*j for i in range(1,11) for j in range(1,11)]).reshape(10,10)\n",
    "print(\"the trace:\",np.trace(mult))\n",
    "# adesso mult è una griglia 10 per 10 \n",
    "#print(mult)\n",
    "print(np.diag(mult[:,::-1])) # in questo modo ho riscritto la matrice con lo stesso ordine delle righe ma le colonne scambiate (avrei potuto fare anche stesse colonne ma righe scambiate tanto è simmetrica)\n",
    "# per selezionare gli elementi diagonali ma di una riga e colonna successive vorrei usare un filtro che rappresenti una delta di kronecker deltai,j+1 \n",
    "print(np.diag(mult,1)) # praticamente selezione la diagonale superiore rispetto a quella canonica dell'array mult\n"
   ]
  },
  {
   "cell_type": "markdown",
   "metadata": {},
   "source": [
    "6\\. Use broadcasting to create a grid of distances\n",
    "\n",
    "Route 66 crosses the following cities in the US: Chicago, Springfield, Saint-Louis, Tulsa, Oklahoma City, Amarillo, Santa Fe, Albuquerque, Flagstaff, Los Angeles\n",
    "The corresponding positions in miles are: 0, 198, 303, 736, 871, 1175, 1475, 1544, 1913, 2448\n",
    "\n",
    "  * Construct a 2D grid of distances among each city along Route 66\n",
    "  * Convert that in km (those savages...)"
   ]
  },
  {
   "cell_type": "code",
   "execution_count": null,
   "metadata": {},
   "outputs": [],
   "source": []
  },
  {
   "cell_type": "markdown",
   "metadata": {},
   "source": [
    "7\\. Prime numbers sieve: compute the prime numbers in the 0-N (N=99 to start with) range with a sieve (mask).\n",
    "  * Constract a shape (100,) boolean array, the mask\n",
    "  * Identify the multiples of each number starting from 2 and set accordingly the corresponding mask element\n",
    "  * Apply the mask to obtain an array of ordered prime numbers\n",
    "  * Check the performances (timeit); how does it scale with N?\n",
    "  * Implement the optimization suggested in the [sieve of Eratosthenes](https://en.wikipedia.org/wiki/Sieve_of_Eratosthenes)"
   ]
  },
  {
   "cell_type": "markdown",
   "metadata": {},
   "source": [
    "8\\. Diffusion using random walk\n",
    "\n",
    "Consider a simple random walk process: at each step in time, a walker jumps right or left (+1 or -1) with equal probability. The goal is to find the typical distance from the origin of a random walker after a given amount of time. \n",
    "To do that, let's simulate many walkers and create a 2D array with each walker as a raw and the actual time evolution as columns\n",
    "\n",
    "  * Take 1000 walkers and let them walk for 200 steps\n",
    "  * Use randint to create a 2D array of size walkers x steps with values -1 or 1\n",
    "  * Build the actual walking distances for each walker (i.e. another 2D array \"summing on each raw\")\n",
    "  * Take the square of that 2D array (elementwise)\n",
    "  * Compute the mean of the squared distances at each step (i.e. the mean along the columns)\n",
    "  * Plot the average distances (sqrt(distance\\*\\*2)) as a function of time (step)\n",
    "  \n",
    "Did you get what you expected?"
   ]
  },
  {
   "cell_type": "markdown",
   "metadata": {},
   "source": [
    "9\\. Analyze a data file \n",
    "  * Download the population of hares, lynxes and carrots at the beginning of the last century.\n",
    "    ```python\n",
    "    ! wget https://www.dropbox.com/s/3vigxoqayo389uc/populations.txt\n",
    "    ```\n",
    "\n",
    "  * Check the content by looking within the file\n",
    "  * Load the data (use an appropriate numpy method) into a 2D array\n",
    "  * Create arrays out of the columns, the arrays being (in order): *year*, *hares*, *lynxes*, *carrots* \n",
    "  * Plot the 3 populations over the years\n",
    "  * Compute the main statistical properties of the dataset (mean, std, correlations, etc.)\n",
    "  * Which species has the highest population each year?\n",
    "\n",
    "Do you feel there is some evident correlation here? [Studies](https://www.enr.gov.nt.ca/en/services/lynx/lynx-snowshoe-hare-cycle) tend to believe so."
   ]
  },
  {
   "cell_type": "code",
   "execution_count": null,
   "metadata": {},
   "outputs": [],
   "source": []
  }
 ],
 "metadata": {
  "kernelspec": {
   "display_name": "Python 3",
   "language": "python",
   "name": "python3"
  },
  "language_info": {
   "codemirror_mode": {
    "name": "ipython",
    "version": 3
   },
   "file_extension": ".py",
   "mimetype": "text/x-python",
   "name": "python",
   "nbconvert_exporter": "python",
   "pygments_lexer": "ipython3",
   "version": "3.8.5-final"
  }
 },
 "nbformat": 4,
 "nbformat_minor": 2
}