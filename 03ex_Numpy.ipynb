{
 "cells": [
  {
   "cell_type": "markdown",
   "metadata": {},
   "source": [
    "### Numpy basics"
   ]
  },
  {
   "cell_type": "markdown",
   "metadata": {},
   "source": [
    "1\\. Find the row, column and overall means for the following matrix:\n",
    "\n",
    "```python\n",
    "m = np.arange(12).reshape((3,4))\n",
    "```"
   ]
  },
  {
   "cell_type": "code",
   "execution_count": 15,
   "metadata": {},
   "outputs": [
    {
     "name": "stdout",
     "output_type": "stream",
     "text": [
      "[[ 0  1  2  3]\n",
      " [ 4  5  6  7]\n",
      " [ 8  9 10 11]]\n",
      "Row mean: [1.5 5.5 9.5]\n",
      "Column mean: [4. 5. 6. 7.]\n",
      "Overall mean: 5.5\n"
     ]
    }
   ],
   "source": [
    "import numpy as np\n",
    "\n",
    "m = np.arange(12).reshape((3,4))\n",
    "print(m)\n",
    "\n",
    "row_mean = np.sum(m, axis = 1)/m.shape[1]\n",
    "print(\"Row mean: {}\".format(row_mean))\n",
    "\n",
    "column_mean = np.sum(m, axis = 0)/m.shape[0]\n",
    "print(\"Column mean: {}\".format(column_mean))\n",
    "\n",
    "overall_mean = sum(m.flatten())/len(m.flatten())\n",
    "print(\"Overall mean: {}\".format(overall_mean))"
   ]
  },
  {
   "cell_type": "markdown",
   "metadata": {},
   "source": [
    "2\\. Find the outer product of the following two vecotrs\n",
    "\n",
    "```python\n",
    "u = np.array([1,3,5,7])\n",
    "v = np.array([2,4,6,8])\n",
    "```\n",
    "\n",
    "Do this in the following ways:\n",
    "\n",
    "   * Using the function outer in numpy\n",
    "   * Using a nested for loop or list comprehension\n",
    "   * Using numpy broadcasting operatoins\n"
   ]
  },
  {
   "cell_type": "code",
   "execution_count": 16,
   "metadata": {},
   "outputs": [
    {
     "name": "stdout",
     "output_type": "stream",
     "text": [
      "[[ 2  4  6  8]\n",
      " [ 6 12 18 24]\n",
      " [10 20 30 40]\n",
      " [14 28 42 56]]\n",
      "[[ 2  4  6  8]\n",
      " [ 6 12 18 24]\n",
      " [10 20 30 40]\n",
      " [14 28 42 56]]\n",
      "[[ 2  4  6  8]\n",
      " [ 6 12 18 24]\n",
      " [10 20 30 40]\n",
      " [14 28 42 56]]\n"
     ]
    }
   ],
   "source": [
    "u = np.array([1,3,5,7])\n",
    "v = np.array([2,4,6,8])\n",
    "\n",
    "outp0 = np.outer(u,v)\n",
    "print(outp0)\n",
    "\n",
    "outp1 = np.array([[ u[i]*v[j] for j in range(len(v))] for i in range(len(u))])\n",
    "print(outp1)\n",
    "\n",
    "outp2 = np.tile(u,(4,1)).T * v\n",
    "print(outp2)"
   ]
  },
  {
   "cell_type": "markdown",
   "metadata": {},
   "source": [
    "3\\. Create a 10 by 6 matrix of random uniform numbers. Set all rows with any entry less than 0.1 to be zero\n",
    "\n",
    "Hint: Use the following numpy functions - np.random.random, np.any as well as Boolean indexing and the axis argument."
   ]
  },
  {
   "cell_type": "code",
   "execution_count": 17,
   "metadata": {},
   "outputs": [
    {
     "name": "stdout",
     "output_type": "stream",
     "text": [
      "[[0.47861792 0.202755   0.67443078 0.89159348 0.         0.        ]\n",
      " [0.88506881 0.88421882 0.18868167 0.83471517 0.73015522 0.12477571]\n",
      " [0.         0.         0.41232632 0.17360683 0.52553333 0.60480958]\n",
      " [0.10031034 0.59586939 0.81613061 0.43273403 0.6974715  0.91665704]\n",
      " [0.1533624  0.         0.43312133 0.26808732 0.96038111 0.21303069]\n",
      " [0.72023435 0.47691296 0.35248689 0.68947442 0.64828646 0.21591933]\n",
      " [0.9723732  0.         0.17570842 0.33847048 0.44490274 0.        ]\n",
      " [0.14812245 0.33673482 0.         0.77025152 0.47342227 0.85834516]\n",
      " [0.75095103 0.24576028 0.58384656 0.32988877 0.82035871 0.22047514]\n",
      " [0.         0.82134746 0.60540959 0.58278562 0.         0.8867837 ]]\n"
     ]
    }
   ],
   "source": [
    "size = (10,6)\n",
    "matrix = np.random.random(size)\n",
    "matrix[matrix<0.1] = 0\n",
    "print(matrix)"
   ]
  },
  {
   "cell_type": "markdown",
   "metadata": {},
   "source": [
    "4\\. Use np.linspace to create an array of 100 numbers between 0 and 2π (includsive).\n",
    "\n",
    "  * Extract every 10th element using slice notation\n",
    "  * Reverse the array using slice notation\n",
    "  * Extract elements where the absolute difference between the sine and cosine functions evaluated at that element is less than 0.1\n",
    "  * Make a plot showing the sin and cos functions and indicate where they are close"
   ]
  },
  {
   "cell_type": "code",
   "execution_count": 18,
   "metadata": {},
   "outputs": [
    {
     "data": {
      "text/plain": [
       "[<matplotlib.lines.Line2D at 0x7fdadd19f340>]"
      ]
     },
     "execution_count": 18,
     "metadata": {},
     "output_type": "execute_result"
    },
    {
     "data": {
      "image/png": "[encoded data removed]",
      "text/plain": [
       "<Figure size 432x288 with 1 Axes>"
      ]
     },
     "metadata": {
      "needs_background": "light"
     },
     "output_type": "display_data"
    }
   ],
   "source": [
    "import matplotlib.pyplot as plt\n",
    "\n",
    "x = np.linspace(0, 2*np.pi, 100)\n",
    "# print(x)\n",
    "\n",
    "everyten = x[::10]\n",
    "# print(everyten)\n",
    "\n",
    "reverse = x[::-1]\n",
    "# print(reverse)\n",
    "\n",
    "absdiff = x[abs(np.sin(x)-np.cos(x)) < 0.1]\n",
    "# print(absdiff)\n",
    "\n",
    "plt.plot(x, np.sin(x))\n",
    "plt.plot(x, np.cos(x))\n",
    "plt.plot(absdiff, np.sin(absdiff), '*')"
   ]
  },
  {
   "cell_type": "markdown",
   "metadata": {},
   "source": [
    "5\\. Create a matrix that shows the 10 by 10 multiplication table.\n",
    "\n",
    " * Find the trace of the matrix\n",
    " * Extract the anto-diagonal (this should be ```array([10, 18, 24, 28, 30, 30, 28, 24, 18, 10])```)\n",
    " * Extract the diagnoal offset by 1 upwards (this should be ```array([ 2,  6, 12, 20, 30, 42, 56, 72, 90])```)"
   ]
  },
  {
   "cell_type": "code",
   "execution_count": 19,
   "metadata": {},
   "outputs": [
    {
     "name": "stdout",
     "output_type": "stream",
     "text": [
      "[[  1   2   3   4   5   6   7   8   9  10]\n",
      " [  2   4   6   8  10  12  14  16  18  20]\n",
      " [  3   6   9  12  15  18  21  24  27  30]\n",
      " [  4   8  12  16  20  24  28  32  36  40]\n",
      " [  5  10  15  20  25  30  35  40  45  50]\n",
      " [  6  12  18  24  30  36  42  48  54  60]\n",
      " [  7  14  21  28  35  42  49  56  63  70]\n",
      " [  8  16  24  32  40  48  56  64  72  80]\n",
      " [  9  18  27  36  45  54  63  72  81  90]\n",
      " [ 10  20  30  40  50  60  70  80  90 100]]\n",
      "[10 18 24 28 30 30 28 24 18 10]\n",
      "[ 2  6 12 20 30 42 56 72 90]\n"
     ]
    }
   ],
   "source": [
    "N = 10\n",
    "\n",
    "nbyn = np.array([x*y for x in range(1,N+1) for y in range(1,N+1)]).reshape(N,N)\n",
    "print(nbyn)\n",
    "\n",
    "mask = np.fromfunction(lambda i,j: i+j==N-1 , (N,N))\n",
    "antidiag = nbyn[mask]\n",
    "print(antidiag)\n",
    "\n",
    "mask = np.fromfunction(lambda i,j: i==j-1 , (N,N))\n",
    "offsetdiag = nbyn[mask]\n",
    "print(offsetdiag)"
   ]
  },
  {
   "cell_type": "markdown",
   "metadata": {},
   "source": [
    "6\\. Use broadcasting to create a grid of distances\n",
    "\n",
    "Route 66 crosses the following cities in the US: Chicago, Springfield, Saint-Louis, Tulsa, Oklahoma City, Amarillo, Santa Fe, Albuquerque, Flagstaff, Los Angeles\n",
    "The corresponding positions in miles are: 0, 198, 303, 736, 871, 1175, 1475, 1544, 1913, 2448\n",
    "\n",
    "  * Construct a 2D grid of distances among each city along Route 66\n",
    "  * Convert that in km (those savages...)"
   ]
  },
  {
   "cell_type": "code",
   "execution_count": 20,
   "metadata": {},
   "outputs": [
    {
     "name": "stdout",
     "output_type": "stream",
     "text": [
      "[[   0.        318.650112  487.631232 1184.477184 1401.738624 1890.9792\n",
      "  2373.7824   2484.827136 3078.675072 3939.674112]\n",
      " [ 318.650112  637.300224  806.281344 1503.127296 1720.388736 2209.629312\n",
      "  2692.432512 2803.477248 3397.325184 4258.324224]\n",
      " [ 487.631232  806.281344  975.262464 1672.108416 1889.369856 2378.610432\n",
      "  2861.413632 2972.458368 3566.306304 4427.305344]\n",
      " [1184.477184 1503.127296 1672.108416 2368.954368 2586.215808 3075.456384\n",
      "  3558.259584 3669.30432  4263.152256 5124.151296]\n",
      " [1401.738624 1720.388736 1889.369856 2586.215808 2803.477248 3292.717824\n",
      "  3775.521024 3886.56576  4480.413696 5341.412736]\n",
      " [1890.9792   2209.629312 2378.610432 3075.456384 3292.717824 3781.9584\n",
      "  4264.7616   4375.806336 4969.654272 5830.653312]\n",
      " [2373.7824   2692.432512 2861.413632 3558.259584 3775.521024 4264.7616\n",
      "  4747.5648   4858.609536 5452.457472 6313.456512]\n",
      " [2484.827136 2803.477248 2972.458368 3669.30432  3886.56576  4375.806336\n",
      "  4858.609536 4969.654272 5563.502208 6424.501248]\n",
      " [3078.675072 3397.325184 3566.306304 4263.152256 4480.413696 4969.654272\n",
      "  5452.457472 5563.502208 6157.350144 7018.349184]\n",
      " [3939.674112 4258.324224 4427.305344 5124.151296 5341.412736 5830.653312\n",
      "  6313.456512 6424.501248 7018.349184 7879.348224]]\n"
     ]
    }
   ],
   "source": [
    "positions = np.array([0, 198, 303, 736, 871, 1175, 1475, 1544, 1913, 2448])\n",
    "\n",
    "grid = np.tile(positions, (10,1)).T +positions\n",
    "\n",
    "grid = (grid * 1.609344)\n",
    "\n",
    "print(grid)"
   ]
  },
  {
   "cell_type": "markdown",
   "metadata": {},
   "source": [
    "7\\. Prime numbers sieve: compute the prime numbers in the 0-N (N=99 to start with) range with a sieve (mask).\n",
    "  * Constract a shape (100,) boolean array, the mask\n",
    "  * Identify the multiples of each number starting from 2 and set accordingly the corresponding mask element\n",
    "  * Apply the mask to obtain an array of ordered prime numbers\n",
    "  * Check the performances (timeit); how does it scale with N?\n",
    "  * Implement the optimization suggested in the [sieve of Eratosthenes](https://en.wikipedia.org/wiki/Sieve_of_Eratosthenes)"
   ]
  },
  {
   "cell_type": "code",
   "execution_count": 21,
   "metadata": {},
   "outputs": [
    {
     "name": "stdout",
     "output_type": "stream",
     "text": [
      "[ 2  3  5  7 11 13 17 19 23 29 31 37 41 43 47 53 59 61 67 71 73 79 83 89\n",
      " 97]\n",
      "465 µs ± 10.9 µs per loop (mean ± std. dev. of 7 runs, 1000 loops each)\n",
      "48 µs ± 410 ns per loop (mean ± std. dev. of 7 runs, 10000 loops each)\n"
     ]
    }
   ],
   "source": [
    "N = 100\n",
    "\n",
    "def primes(N):\n",
    "    numbers = np.arange(N)\n",
    "    mask = np.ones(N, dtype = bool)\n",
    "    mask[:2] = 0\n",
    "\n",
    "    for i in range(2, N):\n",
    "        mask[i+1:] = np.logical_and(mask[i+1:], [numbers[i+1:] % i != 0])\n",
    "    return numbers[mask]\n",
    "\n",
    "def primes_sieve(N):\n",
    "    numbers = np.arange(N)\n",
    "    mask = np.ones(N, dtype = bool)\n",
    "    mask[:2] = 0\n",
    "\n",
    "    for i in range(2, int(np.sqrt(N))):\n",
    "        mask[i+1:] = np.logical_and(mask[i+1:], [numbers[i+1:] % i != 0])\n",
    "    return numbers[mask]\n",
    "\n",
    "\n",
    "print(primes(N))\n",
    "\n",
    "%timeit (primes(N))\n",
    "%timeit (primes_sieve(N))"
   ]
  },
  {
   "cell_type": "markdown",
   "metadata": {},
   "source": [
    "8\\. Diffusion using random walk\n",
    "\n",
    "Consider a simple random walk process: at each step in time, a walker jumps right or left (+1 or -1) with equal probability. The goal is to find the typical distance from the origin of a random walker after a given amount of time. \n",
    "To do that, let's simulate many walkers and create a 2D array with each walker as a raw and the actual time evolution as columns\n",
    "\n",
    "  * Take 1000 walkers and let them walk for 200 steps\n",
    "  * Use randint to create a 2D array of size walkers x steps with values -1 or 1\n",
    "  * Build the actual walking distances for each walker (i.e. another 2D array \"summing on each raw\")\n",
    "  * Take the square of that 2D array (elementwise)\n",
    "  * Compute the mean of the squared distances at each step (i.e. the mean along the columns)\n",
    "  * Plot the average distances (sqrt(distance\\*\\*2)) as a function of time (step)\n",
    "  \n",
    "Did you get what you expected?"
   ]
  },
  {
   "cell_type": "code",
   "execution_count": 23,
   "metadata": {},
   "outputs": [
    {
     "name": "stdout",
     "output_type": "stream",
     "text": [
      "[[-1  1 -1 ...  1  1 -1]\n",
      " [-1  1 -1 ...  1  1  1]\n",
      " [ 1  1 -1 ...  1 -1  1]\n",
      " ...\n",
      " [ 1 -1  1 ... -1 -1  1]\n",
      " [-1  1  1 ...  1  1  1]\n",
      " [ 1  1 -1 ...  1 -1  1]]\n",
      "The result is not what I expected but it is reasonable\n"
     ]
    },
    {
     "data": {
      "image/png": "[encoded data removed]",
      "text/plain": [
       "<Figure size 432x288 with 1 Axes>"
      ]
     },
     "metadata": {
      "needs_background": "light"
     },
     "output_type": "display_data"
    }
   ],
   "source": [
    "n_walkers = 1000\n",
    "steps = 200\n",
    "\n",
    "walkers = (np.round(np.random.random((n_walkers,steps))).astype(int))*2-1\n",
    "print(walkers)\n",
    "\n",
    "d = np.cumsum(walkers, axis = 1)\n",
    "\n",
    "dsquared = np.power(d, 2)\n",
    "\n",
    "mean_steps = np.average(dsquared, axis = 0)\n",
    "\n",
    "avg_d = np.sqrt(mean_steps)\n",
    "\n",
    "plt.plot(np.arange(200), avg_d)\n",
    "\n",
    "print(\"The result is not what I expected but it is reasonable\")"
   ]
  },
  {
   "cell_type": "markdown",
   "metadata": {},
   "source": [
    "9\\. Analyze a data file \n",
    "  * Download the population of hares, lynxes and carrots at the beginning of the last century.\n",
    "    ```python\n",
    "    ! wget https://www.dropbox.com/s/3vigxoqayo389uc/populations.txt\n",
    "    ```\n",
    "\n",
    "  * Check the content by looking within the file\n",
    "  * Load the data (use an appropriate numpy method) into a 2D array\n",
    "  * Create arrays out of the columns, the arrays being (in order): *year*, *hares*, *lynxes*, *carrots* \n",
    "  * Plot the 3 populations over the years\n",
    "  * Compute the main statistical properties of the dataset (mean, std, correlations, etc.)\n",
    "  * Which species has the highest population each year?\n",
    "\n",
    "Do you feel there is some evident correlation here? [Studies](https://www.enr.gov.nt.ca/en/services/lynx/lynx-snowshoe-hare-cycle) tend to believe so."
   ]
  },
  {
   "cell_type": "code",
   "execution_count": 24,
   "metadata": {},
   "outputs": [
    {
     "name": "stdout",
     "output_type": "stream",
     "text": [
      "--2020-11-01 13:35:34--  https://www.dropbox.com/s/3vigxoqayo389uc/populations.txt\n",
      "Loaded CA certificate '/etc/ssl/certs/ca-certificates.crt'\n",
      "Resolving www.dropbox.com (www.dropbox.com)... 162.125.69.1, 2620:100:6025:1::a27d:4501\n",
      "Connecting to www.dropbox.com (www.dropbox.com)|162.125.69.1|:443... connected.\n",
      "HTTP request sent, awaiting response... 301 Moved Permanently\n",
      "Location: /s/raw/3vigxoqayo389uc/populations.txt [following]\n",
      "--2020-11-01 13:35:34--  https://www.dropbox.com/s/raw/3vigxoqayo389uc/populations.txt\n",
      "Reusing existing connection to www.dropbox.com:443.\n",
      "HTTP request sent, awaiting response... 302 Found\n",
      "Location: https://uc26d1df9c2a6260d98cd140ea25.dl.dropboxusercontent.com/cd/0/inline/BCXiu82QeSAtDiK6CmuuDVCGZPUMDfKb1Un2fE6GzHhmtaBmyDy4BuF4-B8PZzgMSooewol7rUP74X_9MVcizTgMVLGGMWXEYkEugYOQnh-5Mg/file# [following]\n",
      "--2020-11-01 13:35:34--  https://uc26d1df9c2a6260d98cd140ea25.dl.dropboxusercontent.com/cd/0/inline/BCXiu82QeSAtDiK6CmuuDVCGZPUMDfKb1Un2fE6GzHhmtaBmyDy4BuF4-B8PZzgMSooewol7rUP74X_9MVcizTgMVLGGMWXEYkEugYOQnh-5Mg/file\n",
      "Resolving uc26d1df9c2a6260d98cd140ea25.dl.dropboxusercontent.com (uc26d1df9c2a6260d98cd140ea25.dl.dropboxusercontent.com)... 162.125.69.15, 2620:100:6025:15::a27d:450f\n",
      "Connecting to uc26d1df9c2a6260d98cd140ea25.dl.dropboxusercontent.com (uc26d1df9c2a6260d98cd140ea25.dl.dropboxusercontent.com)|162.125.69.15|:443... connected.\n",
      "HTTP request sent, awaiting response... 200 OK\n",
      "Length: 525 [text/plain]\n",
      "Saving to: ‘populations.txt.9’\n",
      "\n",
      "populations.txt.9   100%[===================>]     525  --.-KB/s    in 0s      \n",
      "\n",
      "2020-11-01 13:35:35 (6,57 MB/s) - ‘populations.txt.9’ saved [525/525]\n",
      "\n"
     ]
    }
   ],
   "source": [
    "! wget https://www.dropbox.com/s/3vigxoqayo389uc/populations.txt"
   ]
  },
  {
   "cell_type": "code",
   "execution_count": 25,
   "metadata": {},
   "outputs": [
    {
     "name": "stdout",
     "output_type": "stream",
     "text": [
      "Means hares, lynxes, carrots: [34080.95238095238, 20166.666666666668, 42400.0]\n",
      "Stds hares, lynxes, carrots: [34080.95238095238, 20166.666666666668, 42400.0]\n",
      "Correlation hares-lynxes: [1.494612e+10]\n",
      "Correlation carrots-lynxes: [1.718454e+10]\n",
      "Correlation hares-carrots: [3.032147e+10]\n",
      "['carrots', 'carrots', 'hares', 'hares', 'lynxes', 'lynxes', 'carrots', 'carrots', 'carrots', 'carrots', 'carrots', 'carrots', 'hares', 'hares', 'hares', 'lynxes', 'carrots', 'carrots', 'carrots', 'carrots', 'carrots']\n"
     ]
    },
    {
     "data": {
      "image/png": "[encoded data removed]",
      "text/plain": [
       "<Figure size 432x288 with 1 Axes>"
      ]
     },
     "metadata": {
      "needs_background": "light"
     },
     "output_type": "display_data"
    }
   ],
   "source": [
    "data = np.loadtxt(\"populations.txt\")\n",
    "\n",
    "years = data[:,0]\n",
    "hares = data[:,1]\n",
    "lynxes = data[:,2]\n",
    "carrots = data[:,3]\n",
    "\n",
    "plt.plot(years, hares)\n",
    "plt.plot(years, lynxes)\n",
    "plt.plot(years, carrots)\n",
    "plt.legend([\"Hares\",\"Lynxes\",\"Carrots\"])\n",
    "plt.xlabel(\"Years\")\n",
    "\n",
    "means = list(map((np.mean), [hares, lynxes, carrots]))\n",
    "stds = list(map((np.std), [hares, lynxes, carrots]))\n",
    "print(\"Means hares, lynxes, carrots: {}\".format(means))\n",
    "print(\"Stds hares, lynxes, carrots: {}\".format(means))\n",
    "\n",
    "corr0 = np.correlate(hares, lynxes)\n",
    "corr1 = np.correlate(carrots, lynxes)\n",
    "corr2 = np.correlate(hares, carrots)\n",
    "print(\"Correlation hares-lynxes: \" + str(corr0))\n",
    "print(\"Correlation carrots-lynxes: \" + str(corr1))\n",
    "print(\"Correlation hares-carrots: \" + str(corr2))\n",
    "\n",
    "mask = np.argmax(data[:, 1:], axis = 1)\n",
    "species = [\"hares\",\"lynxes\",\"carrots\"]\n",
    "highest_population_year = [species[i] for i in mask]\n",
    "print(highest_population_year)"
   ]
  }
 ],
 "metadata": {
  "kernelspec": {
   "display_name": "Python 3",
   "language": "python",
   "name": "python3"
  },
  "language_info": {
   "codemirror_mode": {
    "name": "ipython",
    "version": 3
   },
   "file_extension": ".py",
   "mimetype": "text/x-python",
   "name": "python",
   "nbconvert_exporter": "python",
   "pygments_lexer": "ipython3",
   "version": "3.8.5"
  }
 },
 "nbformat": 4,
 "nbformat_minor": 4
}
