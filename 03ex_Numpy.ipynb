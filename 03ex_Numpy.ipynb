{
 "cells": [
  {
   "cell_type": "markdown",
   "metadata": {},
   "source": [
    "### Numpy basics"
   ]
  },
  {
   "cell_type": "markdown",
   "metadata": {},
   "source": [
    "1\\. Find the row, column and overall means for the following matrix:\n",
    "\n",
    "```python\n",
    "m = np.arange(12).reshape((3,4))\n",
    "```"
   ]
  },
  {
   "cell_type": "code",
   "execution_count": 2,
   "metadata": {},
   "outputs": [
    {
     "name": "stdout",
     "output_type": "stream",
     "text": [
      "[[ 0  1  2  3]\n",
      " [ 4  5  6  7]\n",
      " [ 8  9 10 11]]\n",
      "[1.5 5.5 9.5]\n",
      "[4. 5. 6. 7.]\n",
      "5.5\n"
     ]
    }
   ],
   "source": [
    "import numpy as np\n",
    "\n",
    "m = np.arange(12).reshape((3,4))\n",
    "\n",
    "meanr = m.mean(axis=1)\n",
    "meanc = m.mean(axis=0)\n",
    "meant = m.mean()\n",
    "\n",
    "print(m)\n",
    "print(meanr)\n",
    "print(meanc)\n",
    "print(meant)"
   ]
  },
  {
   "cell_type": "markdown",
   "metadata": {},
   "source": [
    "2\\. Find the outer product of the following two vecotrs\n",
    "\n",
    "```python\n",
    "u = np.array([1,3,5,7])\n",
    "v = np.array([2,4,6,8])\n",
    "```\n",
    "\n",
    "Do this in the following ways:\n",
    "\n",
    "   * Using the function outer in numpy\n",
    "   * Using a nested for loop or list comprehension\n",
    "   * Using numpy broadcasting operatoins\n"
   ]
  },
  {
   "cell_type": "code",
   "execution_count": 17,
   "metadata": {},
   "outputs": [
    {
     "name": "stdout",
     "output_type": "stream",
     "text": [
      "[[ 2  4  6  8]\n",
      " [ 6 12 18 24]\n",
      " [10 20 30 40]\n",
      " [14 28 42 56]]\n",
      "[[ 2  4  6  8]\n",
      " [ 6 12 18 24]\n",
      " [10 20 30 40]\n",
      " [14 28 42 56]]\n",
      "[[ 2  4  6  8]\n",
      " [ 6 12 18 24]\n",
      " [10 20 30 40]\n",
      " [14 28 42 56]]\n",
      "[[1 3 5 7]] [2 4 6 8]\n"
     ]
    }
   ],
   "source": [
    "u = np.array([1,3,5,7])\n",
    "v = np.array([2,4,6,8])\n",
    "\n",
    "# numpy outer\n",
    "out1 = np.outer(u,v)\n",
    "\n",
    "# outer list comprehension\n",
    "out2 = np.array([i*j for i in u for j in v])\n",
    "out2 = out2.reshape(4,4)\n",
    "\n",
    "# outer broadcasting\n",
    "u = u[np.newaxis]\n",
    "out3 = (u.T)*v\n",
    "\n",
    "print(out1)\n",
    "print(out2)\n",
    "print(out3)\n",
    "print(u,v)"
   ]
  },
  {
   "cell_type": "markdown",
   "metadata": {},
   "source": [
    "3\\. Create a 10 by 6 matrix of random uniform numbers. Set all rows with any entry less than 0.1 to be zero\n",
    "\n",
    "Hint: Use the following numpy functions - np.random.random, np.any as well as Boolean indexing and the axis argument."
   ]
  },
  {
   "cell_type": "code",
   "execution_count": 3,
   "metadata": {},
   "outputs": [
    {
     "name": "stdout",
     "output_type": "stream",
     "text": [
      "[[0.27039945 0.85832182 0.7729676  0.47965588 0.31454685 0.15043298]\n",
      " [0.         0.         0.         0.         0.         0.        ]\n",
      " [0.51517409 0.21679153 0.10179076 0.33483574 0.20204713 0.56075692]\n",
      " [0.         0.         0.         0.         0.         0.        ]\n",
      " [0.34731297 0.16320775 0.90374477 0.71836367 0.80863938 0.63532947]\n",
      " [0.65897512 0.2237987  0.70038963 0.17629627 0.92854781 0.8916637 ]\n",
      " [0.         0.         0.         0.         0.         0.        ]\n",
      " [0.         0.         0.         0.         0.         0.        ]\n",
      " [0.35819293 0.52904351 0.48871835 0.25506997 0.21301372 0.49132716]\n",
      " [0.         0.         0.         0.         0.         0.        ]]\n"
     ]
    }
   ],
   "source": [
    "import numpy.random as npr\n",
    "\n",
    "m = npr.rand(10,6)\n",
    "\n",
    "less = np.any(m<0.1, axis=1)\n",
    "\n",
    "for i in range(len(less)):\n",
    "    if less[i]:\n",
    "        m[i,:] = 0\n",
    "\n",
    "print(m)"
   ]
  },
  {
   "cell_type": "markdown",
   "metadata": {},
   "source": [
    "4\\. Use np.linspace to create an array of 100 numbers between 0 and 2π (includsive).\n",
    "\n",
    "  * Extract every 10th element using slice notation\n",
    "  * Reverse the array using slice notation\n",
    "  * Extract elements where the absolute difference between the sine and cosine functions evaluated at that element is less than 0.1\n",
    "  * Make a plot showing the sin and cos functions and indicate where they are close"
   ]
  },
  {
   "cell_type": "code",
   "execution_count": 4,
   "metadata": {},
   "outputs": [
    {
     "name": "stdout",
     "output_type": "stream",
     "text": [
      "Extract every 10th element\n",
      "[0.         0.63466518 1.26933037 1.90399555 2.53866073 3.17332591\n",
      " 3.8079911  4.44265628 5.07732146 5.71198664]\n",
      "\n",
      "Reverse the array\n",
      "[6.28318531 6.21971879 6.15625227 6.09278575 6.02931923 5.96585272\n",
      " 5.9023862  5.83891968 5.77545316 5.71198664 5.64852012 5.58505361\n",
      " 5.52158709 5.45812057 5.39465405 5.33118753 5.26772102 5.2042545\n",
      " 5.14078798 5.07732146 5.01385494 4.95038842 4.88692191 4.82345539\n",
      " 4.75998887 4.69652235 4.63305583 4.56958931 4.5061228  4.44265628\n",
      " 4.37918976 4.31572324 4.25225672 4.1887902  4.12532369 4.06185717\n",
      " 3.99839065 3.93492413 3.87145761 3.8079911  3.74452458 3.68105806\n",
      " 3.61759154 3.55412502 3.4906585  3.42719199 3.36372547 3.30025895\n",
      " 3.23679243 3.17332591 3.10985939 3.04639288 2.98292636 2.91945984\n",
      " 2.85599332 2.7925268  2.72906028 2.66559377 2.60212725 2.53866073\n",
      " 2.47519421 2.41172769 2.34826118 2.28479466 2.22132814 2.15786162\n",
      " 2.0943951  2.03092858 1.96746207 1.90399555 1.84052903 1.77706251\n",
      " 1.71359599 1.65012947 1.58666296 1.52319644 1.45972992 1.3962634\n",
      " 1.33279688 1.26933037 1.20586385 1.14239733 1.07893081 1.01546429\n",
      " 0.95199777 0.88853126 0.82506474 0.76159822 0.6981317  0.63466518\n",
      " 0.57119866 0.50773215 0.44426563 0.38079911 0.31733259 0.25386607\n",
      " 0.19039955 0.12693304 0.06346652 0.        ]\n",
      "\n",
      "sine - cosine less than 0.1\n",
      "[0.         0.06346652 0.12693304 0.19039955 0.25386607 0.31733259\n",
      " 0.38079911 0.44426563 0.50773215 0.57119866 0.63466518 0.6981317\n",
      " 0.76159822 0.82506474 3.87145761 3.93492413 3.99839065 4.06185717\n",
      " 4.12532369 4.1887902  4.25225672 4.31572324 4.37918976 4.44265628\n",
      " 4.5061228  4.56958931 4.63305583 4.69652235 4.75998887 4.82345539\n",
      " 4.88692191 4.95038842 5.01385494 5.07732146 5.14078798 5.2042545\n",
      " 5.26772102 5.33118753 5.39465405 5.45812057 5.52158709 5.58505361\n",
      " 5.64852012 5.71198664 5.77545316 5.83891968 5.9023862  5.96585272\n",
      " 6.02931923 6.09278575 6.15625227 6.21971879 6.28318531]\n",
      "\n",
      "Plot of sin and cosine\n"
     ]
    },
    {
     "data": {
      "image/png": "[encoded data removed]",
      "text/plain": [
       "<Figure size 432x288 with 1 Axes>"
      ]
     },
     "metadata": {
      "needs_background": "light"
     },
     "output_type": "display_data"
    }
   ],
   "source": [
    "import math\n",
    "import matplotlib.pyplot as plt\n",
    "\n",
    "pi = math.pi\n",
    "\n",
    "m = np.linspace(0,2*pi,100)\n",
    "\n",
    "# 4.a\n",
    "print(\"Extract every 10th element\")\n",
    "print(m[0::10])\n",
    "\n",
    "# 4.b\n",
    "m2 = m[::-1]\n",
    "print(\"\\nReverse the array\")\n",
    "print(m2)\n",
    "\n",
    "# 4.c\n",
    "print(\"\\nsine - cosine less than 0.1\")\n",
    "m3 = np.array([x for x in m if math.sin(x)-math.cos(x) <= 0.1])\n",
    "print(m3)\n",
    "\n",
    "#4.d\n",
    "print(\"\\nPlot of sin and cosine\")\n",
    "s = np.array([math.sin(x) for x in m])\n",
    "c = np.array([math.cos(x) for x in m])\n",
    "plt.plot(s)\n",
    "plt.plot(c)\n",
    "idx = np.argwhere(np.isclose(s, c, atol=0.05)).reshape(-1)  #find point where is close\n",
    "plt.plot(idx,s[idx],'o')\n",
    "plt.show()"
   ]
  },
  {
   "cell_type": "markdown",
   "metadata": {},
   "source": [
    "5\\. Create a matrix that shows the 10 by 10 multiplication table.\n",
    "\n",
    " * Find the trace of the matrix\n",
    " * Extract the anto-diagonal (this should be ```array([10, 18, 24, 28, 30, 30, 28, 24, 18, 10])```)\n",
    " * Extract the diagnoal offset by 1 upwards (this should be ```array([ 2,  6, 12, 20, 30, 42, 56, 72, 90])```)"
   ]
  },
  {
   "cell_type": "code",
   "execution_count": 13,
   "metadata": {},
   "outputs": [
    {
     "name": "stdout",
     "output_type": "stream",
     "text": [
      "[[  1   2   3   4   5   6   7   8   9  10]\n",
      " [  2   4   6   8  10  12  14  16  18  20]\n",
      " [  3   6   9  12  15  18  21  24  27  30]\n",
      " [  4   8  12  16  20  24  28  32  36  40]\n",
      " [  5  10  15  20  25  30  35  40  45  50]\n",
      " [  6  12  18  24  30  36  42  48  54  60]\n",
      " [  7  14  21  28  35  42  49  56  63  70]\n",
      " [  8  16  24  32  40  48  56  64  72  80]\n",
      " [  9  18  27  36  45  54  63  72  81  90]\n",
      " [ 10  20  30  40  50  60  70  80  90 100]]\n",
      "\n",
      "Trace is: 385\n",
      "\n",
      "Anti-diagonal is\n",
      "[10 18 24 28 30 30 28 24 18 10]\n",
      "\n",
      "Diagonal with offset 1 is\n",
      "[ 2  6 12 20 30 42 56 72 90]\n"
     ]
    }
   ],
   "source": [
    "m = np.array([x*y for x in range(1,11) for y in range(1,11)])\n",
    "m = m.reshape(10,10)\n",
    "print(m)\n",
    "\n",
    "# trace\n",
    "trace = 0\n",
    "for i in range(10):\n",
    "    trace += m[i,i]\n",
    "print(\"\\nTrace is:\",trace)\n",
    "\n",
    "# anti-diagonal\n",
    "antidiag = np.array([m[x,9-x] for x in range(10)])\n",
    "print(\"\\nAnti-diagonal is\")\n",
    "print(antidiag)\n",
    "\n",
    "# offset 1 diagonal\n",
    "diag1 = np.array([m[x,x+1] for x in range(9)])\n",
    "print(\"\\nDiagonal with offset 1 is\")\n",
    "print(diag1)"
   ]
  },
  {
   "cell_type": "markdown",
   "metadata": {},
   "source": [
    "6\\. Use broadcasting to create a grid of distances\n",
    "\n",
    "Route 66 crosses the following cities in the US: Chicago, Springfield, Saint-Louis, Tulsa, Oklahoma City, Amarillo, Santa Fe, Albuquerque, Flagstaff, Los Angeles\n",
    "The corresponding positions in miles are: 0, 198, 303, 736, 871, 1175, 1475, 1544, 1913, 2448\n",
    "\n",
    "  * Construct a 2D grid of distances among each city along Route 66\n",
    "  * Convert that in km (those savages...)"
   ]
  },
  {
   "cell_type": "code",
   "execution_count": 21,
   "metadata": {},
   "outputs": [
    {
     "name": "stdout",
     "output_type": "stream",
     "text": [
      "[[   0.       318.64932  487.63002 1184.47424 1401.73514 1890.9745\n",
      "  2373.7765  2484.82096 3078.66742 3939.66432]\n",
      " [ 318.64932    0.       168.9807   865.82492 1083.08582 1572.32518\n",
      "  2055.12718 2166.17164 2760.0181  3621.015  ]\n",
      " [ 487.63002  168.9807     0.       696.84422  914.10512 1403.34448\n",
      "  1886.14648 1997.19094 2591.0374  3452.0343 ]\n",
      " [1184.47424  865.82492  696.84422    0.       217.2609   706.50026\n",
      "  1189.30226 1300.34672 1894.19318 2755.19008]\n",
      " [1401.73514 1083.08582  914.10512  217.2609     0.       489.23936\n",
      "   972.04136 1083.08582 1676.93228 2537.92918]\n",
      " [1890.9745  1572.32518 1403.34448  706.50026  489.23936    0.\n",
      "   482.802    593.84646 1187.69292 2048.68982]\n",
      " [2373.7765  2055.12718 1886.14648 1189.30226  972.04136  482.802\n",
      "     0.       111.04446  704.89092 1565.88782]\n",
      " [2484.82096 2166.17164 1997.19094 1300.34672 1083.08582  593.84646\n",
      "   111.04446    0.       593.84646 1454.84336]\n",
      " [3078.66742 2760.0181  2591.0374  1894.19318 1676.93228 1187.69292\n",
      "   704.89092  593.84646    0.       860.9969 ]\n",
      " [3939.66432 3621.015   3452.0343  2755.19008 2537.92918 2048.68982\n",
      "  1565.88782 1454.84336  860.9969     0.     ]]\n"
     ]
    }
   ],
   "source": [
    "a = np.array([0, 198, 303, 736, 871, 1175, 1475, 1544, 1913, 2448])\n",
    "\n",
    "# grid of distances\n",
    "a = a[np.newaxis]\n",
    "m = np.absolute(a.T-a)\n",
    "\n",
    "# convertion in km\n",
    "m = m*1.60934\n",
    "\n",
    "print(m)"
   ]
  },
  {
   "cell_type": "markdown",
   "metadata": {},
   "source": [
    "7\\. Prime numbers sieve: compute the prime numbers in the 0-N (N=99 to start with) range with a sieve (mask).\n",
    "  * Constract a shape (100,) boolean array, the mask\n",
    "  * Identify the multiples of each number starting from 2 and set accordingly the corresponding mask element\n",
    "  * Apply the mask to obtain an array of ordered prime numbers\n",
    "  * Check the performances (timeit); how does it scale with N?\n",
    "  * Implement the optimization suggested in the [sieve of Eratosthenes](https://en.wikipedia.org/wiki/Sieve_of_Eratosthenes)"
   ]
  },
  {
   "cell_type": "code",
   "execution_count": 23,
   "metadata": {},
   "outputs": [
    {
     "name": "stdout",
     "output_type": "stream",
     "text": [
      "How time grows with N\n"
     ]
    },
    {
     "data": {
      "image/png": "[encoded data removed]",
      "text/plain": [
       "<Figure size 432x288 with 1 Axes>"
      ]
     },
     "metadata": {
      "needs_background": "light"
     },
     "output_type": "display_data"
    }
   ],
   "source": [
    "import time\n",
    "\n",
    "N = [100,300,600,1000,4000,7000,10000]\n",
    "tp = []\n",
    "ts = []\n",
    "\n",
    "for n in N:\n",
    "    mask = np.ones((n),bool)\n",
    "    m = np.arange(n)\n",
    "    \n",
    "    # function to compute primes\n",
    "    st = time.time()\n",
    "    k = 0\n",
    "    for i in range(2,n):\n",
    "        for j in range(2,n):\n",
    "            if j%i == 0 and j != i:\n",
    "                mask[j] = False\n",
    "    mask[0] = False\n",
    "    mask[1] = False\n",
    "    prinum = m[mask]\n",
    "    end = time.time() - st\n",
    "    tp.append(end)\n",
    "    \n",
    "    # sieve primes\n",
    "    st = time.time()\n",
    "    m = np.arange(n+1)\n",
    "    mask = np.ones((n+1),bool)\n",
    "    k = 2\n",
    "    while (k*k <= n):\n",
    "        if (mask[k] == True):\n",
    "            for i in range(k*2, n+1, k):\n",
    "                mask[i] = False\n",
    "        k += 1\n",
    "    mask[0] = False\n",
    "    mask[1] = False\n",
    "    prinum = m[mask]\n",
    "    end = time.time() - st\n",
    "    ts.append(end)\n",
    "N = np.array(N)\n",
    "tp = np.array(tp)\n",
    "ts = np.array(ts)\n",
    "print(\"How time grows with N\")\n",
    "plt.plot(N,tp)\n",
    "plt.plot(N,ts)\n",
    "plt.show()"
   ]
  },
  {
   "cell_type": "markdown",
   "metadata": {},
   "source": [
    "8\\. Diffusion using random walk\n",
    "\n",
    "Consider a simple random walk process: at each step in time, a walker jumps right or left (+1 or -1) with equal probability. The goal is to find the typical distance from the origin of a random walker after a given amount of time. \n",
    "To do that, let's simulate many walkers and create a 2D array with each walker as a raw and the actual time evolution as columns\n",
    "\n",
    "  * Take 1000 walkers and let them walk for 200 steps\n",
    "  * Use randint to create a 2D array of size walkers x steps with values -1 or 1\n",
    "  * Build the actual walking distances for each walker (i.e. another 2D array \"summing on each raw\")\n",
    "  * Take the square of that 2D array (elementwise)\n",
    "  * Compute the mean of the squared distances at each step (i.e. the mean along the columns)\n",
    "  * Plot the average distances (sqrt(distance\\*\\*2)) as a function of time (step)\n",
    "  \n",
    "Did you get what you expected?"
   ]
  },
  {
   "cell_type": "code",
   "execution_count": 134,
   "metadata": {},
   "outputs": [
    {
     "name": "stdout",
     "output_type": "stream",
     "text": [
      "Average distance for each step\n"
     ]
    },
    {
     "data": {
      "image/png": "[encoded data removed]",
      "text/plain": [
       "<Figure size 432x288 with 1 Axes>"
      ]
     },
     "metadata": {
      "needs_background": "light"
     },
     "output_type": "display_data"
    }
   ],
   "source": [
    "w = np.arange(1000)\n",
    "steps = 200\n",
    "\n",
    "# random choice for walkers\n",
    "rw = npr.choice([-1,1], size=(1000,200))\n",
    "# walking distance at each step\n",
    "dist = [np.sum(rw[:,0:i], axis=1) for i in range(steps)]\n",
    "absdist = np.absolute(dist)\n",
    "avgdist = np.sum(absdist, axis=1)/1000\n",
    "# square distances\n",
    "dist = np.array(dist)**(2)\n",
    "# mean\n",
    "mn = np.mean(dist, axis=0)\n",
    "\n",
    "# plot average distance\n",
    "print(\"Average distance for each step\")\n",
    "plt.plot(avgdist)\n",
    "plt.show()"
   ]
  },
  {
   "cell_type": "markdown",
   "metadata": {},
   "source": [
    "9\\. Analyze a data file \n",
    "  * Download the population of hares, lynxes and carrots at the beginning of the last century.\n",
    "    ```python\n",
    "    ! wget https://www.dropbox.com/s/3vigxoqayo389uc/populations.txt\n",
    "    ```\n",
    "\n",
    "  * Check the content by looking within the file\n",
    "  * Load the data (use an appropriate numpy method) into a 2D array\n",
    "  * Create arrays out of the columns, the arrays being (in order): *year*, *hares*, *lynxes*, *carrots* \n",
    "  * Plot the 3 populations over the years\n",
    "  * Compute the main statistical properties of the dataset (mean, std, correlations, etc.)\n",
    "  * Which species has the highest population each year?\n",
    "\n",
    "Do you feel there is some evident correlation here? [Studies](https://www.enr.gov.nt.ca/en/services/lynx/lynx-snowshoe-hare-cycle) tend to believe so."
   ]
  },
  {
   "cell_type": "code",
   "execution_count": 135,
   "metadata": {},
   "outputs": [
    {
     "name": "stdout",
     "output_type": "stream",
     "text": [
      "--2020-11-02 19:14:31--  https://www.dropbox.com/s/3vigxoqayo389uc/populations.txt\n",
      "Resolving www.dropbox.com (www.dropbox.com)... 162.125.69.1, 2620:100:6025:1::a27d:4501\n",
      "Connecting to www.dropbox.com (www.dropbox.com)|162.125.69.1|:443... connected.\n",
      "HTTP request sent, awaiting response... 301 Moved Permanently\n",
      "Location: /s/raw/3vigxoqayo389uc/populations.txt [following]\n",
      "--2020-11-02 19:14:31--  https://www.dropbox.com/s/raw/3vigxoqayo389uc/populations.txt\n",
      "Reusing existing connection to www.dropbox.com:443.\n",
      "HTTP request sent, awaiting response... 302 Found\n",
      "Location: https://uc4e9157e128daf450603bdba8df.dl.dropboxusercontent.com/cd/0/inline/BCceBWvBhCdG_vNJoEE3hzyyIAqdNvBRVbuQ-bsG49wfPJXm2Orbt7BoLYL0YC64Eo8_78W6IVdvR8rMK1ZpZT7NGImtR3mC4GxtulwKCUi2Zw/file# [following]\n",
      "--2020-11-02 19:14:32--  https://uc4e9157e128daf450603bdba8df.dl.dropboxusercontent.com/cd/0/inline/BCceBWvBhCdG_vNJoEE3hzyyIAqdNvBRVbuQ-bsG49wfPJXm2Orbt7BoLYL0YC64Eo8_78W6IVdvR8rMK1ZpZT7NGImtR3mC4GxtulwKCUi2Zw/file\n",
      "Resolving uc4e9157e128daf450603bdba8df.dl.dropboxusercontent.com (uc4e9157e128daf450603bdba8df.dl.dropboxusercontent.com)... 162.125.69.15, 2620:100:6025:15::a27d:450f\n",
      "Connecting to uc4e9157e128daf450603bdba8df.dl.dropboxusercontent.com (uc4e9157e128daf450603bdba8df.dl.dropboxusercontent.com)|162.125.69.15|:443... connected.\n",
      "HTTP request sent, awaiting response... 200 OK\n",
      "Length: 525 [text/plain]\n",
      "Saving to: ‘populations.txt.1’\n",
      "\n",
      "populations.txt.1   100%[===================>]     525  --.-KB/s    in 0s      \n",
      "\n",
      "2020-11-02 19:14:34 (22,8 MB/s) - ‘populations.txt.1’ saved [525/525]\n",
      "\n"
     ]
    }
   ],
   "source": [
    "! wget https://www.dropbox.com/s/3vigxoqayo389uc/populations.txt"
   ]
  },
  {
   "cell_type": "code",
   "execution_count": 152,
   "metadata": {},
   "outputs": [
    {
     "data": {
      "image/png": "[encoded data removed]",
      "text/plain": [
       "<Figure size 432x288 with 1 Axes>"
      ]
     },
     "metadata": {
      "needs_background": "light"
     },
     "output_type": "display_data"
    },
    {
     "data": {
      "image/png": "[encoded data removed]",
      "text/plain": [
       "<Figure size 432x288 with 1 Axes>"
      ]
     },
     "metadata": {
      "needs_background": "light"
     },
     "output_type": "display_data"
    },
    {
     "data": {
      "image/png": "[encoded data removed]",
      "text/plain": [
       "<Figure size 432x288 with 1 Axes>"
      ]
     },
     "metadata": {
      "needs_background": "light"
     },
     "output_type": "display_data"
    },
    {
     "name": "stdout",
     "output_type": "stream",
     "text": [
      "[34080.95238095238, 20166.666666666668, 42400.0]\n",
      "[20897.906458089667, 16254.591536908763, 3322.5062255844787]\n",
      "[[1.         0.07189206]\n",
      " [0.07189206 1.        ]] [[ 1.         -0.68057717]\n",
      " [-0.68057717  1.        ]] [[ 1.         -0.01660378]\n",
      " [-0.01660378  1.        ]]\n",
      "Year 1900.0 highest population:\n",
      "Carrots\n",
      "Year 1901.0 highest population:\n",
      "Carrots\n",
      "Year 1902.0 highest population:\n",
      "Hares\n",
      "Year 1903.0 highest population:\n",
      "Hares\n",
      "Year 1904.0 highest population:\n",
      "Lynxes\n",
      "Year 1905.0 highest population:\n",
      "Lynxes\n",
      "Year 1906.0 highest population:\n",
      "Carrots\n",
      "Year 1907.0 highest population:\n",
      "Carrots\n",
      "Year 1908.0 highest population:\n",
      "Carrots\n",
      "Year 1909.0 highest population:\n",
      "Carrots\n",
      "Year 1910.0 highest population:\n",
      "Carrots\n",
      "Year 1911.0 highest population:\n",
      "Carrots\n",
      "Year 1912.0 highest population:\n",
      "Hares\n",
      "Year 1913.0 highest population:\n",
      "Hares\n",
      "Year 1914.0 highest population:\n",
      "Hares\n",
      "Year 1915.0 highest population:\n",
      "Lynxes\n",
      "Year 1916.0 highest population:\n",
      "Carrots\n",
      "Year 1917.0 highest population:\n",
      "Carrots\n",
      "Year 1918.0 highest population:\n",
      "Carrots\n",
      "Year 1919.0 highest population:\n",
      "Carrots\n",
      "Year 1920.0 highest population:\n",
      "Carrots\n"
     ]
    }
   ],
   "source": [
    "l = np.loadtxt('populations.txt.1')\n",
    "year = l[:,0]\n",
    "hares = l[:,1]\n",
    "lynxes = l[:,2]\n",
    "carrots = l[:,3]\n",
    "\n",
    "# plot 3 populations\n",
    "plt.plot(year,hares)\n",
    "plt.show()\n",
    "\n",
    "plt.plot(year,lynxes)\n",
    "plt.show()\n",
    "\n",
    "plt.plot(year,carrots)\n",
    "plt.show()\n",
    "\n",
    "# compute main statistical properties\n",
    "m = [np.mean(hares),np.mean(lynxes),np.mean(carrots)]\n",
    "std = [np.std(hares),np.std(lynxes),np.std(carrots)]\n",
    "HL = np.corrcoef(hares,lynxes)\n",
    "LC = np.corrcoef(lynxes,carrots)\n",
    "HC = np.corrcoef(hares,carrots)\n",
    "print(m)\n",
    "print(std)\n",
    "print(HL,LC,HC)\n",
    "\n",
    "for i in range(len(hares)):\n",
    "    print(\"Year\",year[i],\"highest population:\")\n",
    "    if hares[i] >= lynxes[i] and hares[i] >= carrots[i]:\n",
    "        print(\"Hares\")\n",
    "    elif lynxes[i] > carrots[i] and lynxes[i] > hares[i]:\n",
    "        print(\"Lynxes\")\n",
    "    else:\n",
    "        print(\"Carrots\")"
   ]
  }
 ],
 "metadata": {
  "kernelspec": {
   "display_name": "Python 3",
   "language": "python",
   "name": "python3"
  },
  "language_info": {
   "codemirror_mode": {
    "name": "ipython",
    "version": 3
   },
   "file_extension": ".py",
   "mimetype": "text/x-python",
   "name": "python",
   "nbconvert_exporter": "python",
   "pygments_lexer": "ipython3",
   "version": "3.8.5"
  }
 },
 "nbformat": 4,
 "nbformat_minor": 2
}
