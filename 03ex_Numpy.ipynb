{
 "cells": [
  {
   "cell_type": "markdown",
   "metadata": {},
   "source": [
    "### Numpy basics"
   ]
  },
  {
   "cell_type": "markdown",
   "metadata": {},
   "source": [
    "1\\. Find the row, column and overall means for the following matrix:\n",
    "\n",
    "```python\n",
    "m = np.arange(12).reshape((3,4))\n",
    "```"
   ]
  },
  {
   "cell_type": "code",
   "execution_count": 1,
   "metadata": {},
   "outputs": [
    {
     "name": "stdout",
     "output_type": "stream",
     "text": [
      "matrice: \n",
      " [[ 0  1  2  3]\n",
      " [ 4  5  6  7]\n",
      " [ 8  9 10 11]] \n",
      "\n",
      "media di tutti gli elementi:  5.5  check:  5.5\n",
      "media della riga  0 =  1.5\n",
      "media della riga  1 =  5.5\n",
      "media della riga  2 =  9.5\n",
      "media della colonna 0 =  4.0\n",
      "media della colonna 1 =  5.0\n",
      "media della colonna 2 =  6.0\n",
      "media della colonna 3 =  7.0\n",
      "medie lungo le righe:  [1.5, 5.5, 9.5]\n",
      "medie lungo le colonne:  [4.0, 5.0, 6.0, 7.0]\n"
     ]
    }
   ],
   "source": [
    "import numpy as np\n",
    "\n",
    "m = np.arange(12).reshape((3,4))\n",
    "\n",
    "print('matrice: \\n',m, '\\n')\n",
    "print('media di tutti gli elementi: ', np.mean(m),' check: ',(0+1+2+3+4+5+6+7+8+9+10+11)/12)\n",
    "\n",
    "for i in range(m.shape[0]):\n",
    "    print('media della riga ',i,'= ', np.mean(m[i]))\n",
    "    \n",
    "for c in range(m.shape[1]):\n",
    "    print('media della colonna', c, '= ', np.mean(m[:,c]))\n",
    "    \n",
    "print('medie lungo le righe: ', list(m.mean(axis=1)))\n",
    "print('medie lungo le colonne: ', list(m.mean(axis=0)))\n"
   ]
  },
  {
   "cell_type": "markdown",
   "metadata": {},
   "source": [
    "2\\. Find the outer product of the following two vecotrs\n",
    "\n",
    "```python\n",
    "u = np.array([1,3,5,7])\n",
    "v = np.array([2,4,6,8])\n",
    "```\n",
    "\n",
    "Do this in the following ways:\n",
    "\n",
    "   * Using the function outer in numpy\n",
    "   * Using a nested for loop or list comprehension\n",
    "   * Using numpy broadcasting operatoins\n"
   ]
  },
  {
   "cell_type": "code",
   "execution_count": 2,
   "metadata": {},
   "outputs": [
    {
     "name": "stdout",
     "output_type": "stream",
     "text": [
      "Metodo 1:\n",
      "[[ 2  4  6  8]\n",
      " [ 6 12 18 24]\n",
      " [10 20 30 40]\n",
      " [14 28 42 56]]\n",
      "\n",
      "\n",
      "Metodo 2:\n",
      "[[ 2  4  6  8]\n",
      " [ 6 12 18 24]\n",
      " [10 20 30 40]\n",
      " [14 28 42 56]]\n",
      "\n",
      "\n",
      "Metodo 3:\n",
      "[[ 2  4  6  8]\n",
      " [ 6 12 18 24]\n",
      " [10 20 30 40]\n",
      " [14 28 42 56]]\n"
     ]
    }
   ],
   "source": [
    "u = np.array([1,3,5,7])\n",
    "v = np.array([2,4,6,8])\n",
    "\n",
    "#1\n",
    "print('Metodo 1:')\n",
    "print(np.outer(u,v))\n",
    "print('\\n')\n",
    "\n",
    "#2\n",
    "print('Metodo 2:')\n",
    "print(np.array([u[i]*v[j] for i in range(4) for j in range(4)]).reshape(4,4))\n",
    "print('\\n')\n",
    "#3\n",
    "print('Metodo 3:')\n",
    "ut=u.reshape(4,1)\n",
    "u3=np.tile(ut,(1,4))\n",
    "print(v*u3)"
   ]
  },
  {
   "cell_type": "markdown",
   "metadata": {},
   "source": [
    "3\\. Create a 10 by 6 matrix of random uniform numbers. Set all rows with any entry less than 0.1 to be zero\n",
    "\n",
    "Hint: Use the following numpy functions - np.random.random, np.any as well as Boolean indexing and the axis argument."
   ]
  },
  {
   "cell_type": "code",
   "execution_count": 3,
   "metadata": {},
   "outputs": [
    {
     "name": "stdout",
     "output_type": "stream",
     "text": [
      "array originale: \n",
      "[[0.21461447 0.23470633 0.577701   0.13522871 0.39462253 0.91424378]\n",
      " [0.42853828 0.79681126 0.77355146 0.05157549 0.56847087 0.97754986]\n",
      " [0.24042179 0.40396407 0.65107879 0.62165589 0.98016548 0.87115114]\n",
      " [0.32524752 0.91230221 0.01373478 0.54172581 0.46645326 0.98774226]\n",
      " [0.85689069 0.04988661 0.36927507 0.61027396 0.70093841 0.32823268]\n",
      " [0.38635542 0.28367798 0.2371838  0.11322059 0.69902818 0.34947748]\n",
      " [0.67886041 0.43303349 0.59106291 0.52664745 0.35702974 0.03377333]\n",
      " [0.09041584 0.81182657 0.63975155 0.70661179 0.25373296 0.82744052]\n",
      " [0.31668171 0.80294711 0.33171117 0.26399143 0.36950696 0.62437548]\n",
      " [0.72014206 0.17282378 0.32144664 0.27203251 0.02681907 0.92509663]] \n",
      "\n",
      "primo modo: \n",
      "[[0.21461447 0.23470633 0.577701   0.13522871 0.39462253 0.91424378]\n",
      " [0.42853828 0.79681126 0.77355146 0.         0.56847087 0.97754986]\n",
      " [0.24042179 0.40396407 0.65107879 0.62165589 0.98016548 0.87115114]\n",
      " [0.32524752 0.91230221 0.         0.54172581 0.46645326 0.98774226]\n",
      " [0.85689069 0.         0.36927507 0.61027396 0.70093841 0.32823268]\n",
      " [0.38635542 0.28367798 0.2371838  0.11322059 0.69902818 0.34947748]\n",
      " [0.67886041 0.43303349 0.59106291 0.52664745 0.35702974 0.        ]\n",
      " [0.         0.81182657 0.63975155 0.70661179 0.25373296 0.82744052]\n",
      " [0.31668171 0.80294711 0.33171117 0.26399143 0.36950696 0.62437548]\n",
      " [0.72014206 0.17282378 0.32144664 0.27203251 0.         0.92509663]]\n",
      "10\n",
      "secondo modo: \n"
     ]
    }
   ],
   "source": [
    "a=np.random.random(60).reshape(10,6)\n",
    "\n",
    "print('array originale: ')\n",
    "print(a,'\\n')\n",
    "\n",
    "print('primo modo: ')\n",
    "mask=(a<0.1)\n",
    "a[mask]=0\n",
    "print(a)\n",
    "\n",
    "a=np.random.random(60).reshape(10,6)\n",
    "print(a.shape[0])\n",
    "\n",
    "\n",
    "print('secondo modo: ')\n",
    "#for i in range(a.shape[1]):\n",
    "#    mask=np.any(a<0.1,axis=i)\n",
    "#    print(mask)"
   ]
  },
  {
   "cell_type": "markdown",
   "metadata": {},
   "source": [
    "4\\. Use np.linspace to create an array of 100 numbers between 0 and 2π (includsive).\n",
    "\n",
    "  * Extract every 10th element using slice notation\n",
    "  * Reverse the array using slice notation\n",
    "  * Extract elements where the absolute difference between the sine and cosine functions evaluated at that element is less than 0.1\n",
    "  * Make a plot showing the sin and cos functions and indicate where they are close"
   ]
  },
  {
   "cell_type": "code",
   "execution_count": 4,
   "metadata": {},
   "outputs": [
    {
     "name": "stdout",
     "output_type": "stream",
     "text": [
      "[0.         0.06346652 0.12693304 0.19039955 0.25386607 0.31733259\n",
      " 0.38079911 0.44426563 0.50773215 0.57119866 0.63466518 0.6981317\n",
      " 0.76159822 0.82506474 0.88853126 0.95199777 1.01546429 1.07893081\n",
      " 1.14239733 1.20586385 1.26933037 1.33279688 1.3962634  1.45972992\n",
      " 1.52319644 1.58666296 1.65012947 1.71359599 1.77706251 1.84052903\n",
      " 1.90399555 1.96746207 2.03092858 2.0943951  2.15786162 2.22132814\n",
      " 2.28479466 2.34826118 2.41172769 2.47519421 2.53866073 2.60212725\n",
      " 2.66559377 2.72906028 2.7925268  2.85599332 2.91945984 2.98292636\n",
      " 3.04639288 3.10985939 3.17332591 3.23679243 3.30025895 3.36372547\n",
      " 3.42719199 3.4906585  3.55412502 3.61759154 3.68105806 3.74452458\n",
      " 3.8079911  3.87145761 3.93492413 3.99839065 4.06185717 4.12532369\n",
      " 4.1887902  4.25225672 4.31572324 4.37918976 4.44265628 4.5061228\n",
      " 4.56958931 4.63305583 4.69652235 4.75998887 4.82345539 4.88692191\n",
      " 4.95038842 5.01385494 5.07732146 5.14078798 5.2042545  5.26772102\n",
      " 5.33118753 5.39465405 5.45812057 5.52158709 5.58505361 5.64852012\n",
      " 5.71198664 5.77545316 5.83891968 5.9023862  5.96585272 6.02931923\n",
      " 6.09278575 6.15625227 6.21971879 6.28318531]\n",
      "\n",
      " [0.         0.63466518 1.26933037 1.90399555 2.53866073 3.17332591\n",
      " 3.8079911  4.44265628 5.07732146 5.71198664]\n",
      "\n",
      " [6.28318531 6.21971879 6.15625227 6.09278575 6.02931923 5.96585272\n",
      " 5.9023862  5.83891968 5.77545316 5.71198664 5.64852012 5.58505361\n",
      " 5.52158709 5.45812057 5.39465405 5.33118753 5.26772102 5.2042545\n",
      " 5.14078798 5.07732146 5.01385494 4.95038842 4.88692191 4.82345539\n",
      " 4.75998887 4.69652235 4.63305583 4.56958931 4.5061228  4.44265628\n",
      " 4.37918976 4.31572324 4.25225672 4.1887902  4.12532369 4.06185717\n",
      " 3.99839065 3.93492413 3.87145761 3.8079911  3.74452458 3.68105806\n",
      " 3.61759154 3.55412502 3.4906585  3.42719199 3.36372547 3.30025895\n",
      " 3.23679243 3.17332591 3.10985939 3.04639288 2.98292636 2.91945984\n",
      " 2.85599332 2.7925268  2.72906028 2.66559377 2.60212725 2.53866073\n",
      " 2.47519421 2.41172769 2.34826118 2.28479466 2.22132814 2.15786162\n",
      " 2.0943951  2.03092858 1.96746207 1.90399555 1.84052903 1.77706251\n",
      " 1.71359599 1.65012947 1.58666296 1.52319644 1.45972992 1.3962634\n",
      " 1.33279688 1.26933037 1.20586385 1.14239733 1.07893081 1.01546429\n",
      " 0.95199777 0.88853126 0.82506474 0.76159822 0.6981317  0.63466518\n",
      " 0.57119866 0.50773215 0.44426563 0.38079911 0.31733259 0.25386607\n",
      " 0.19039955 0.12693304 0.06346652 0.        ]\n",
      "[0.         0.06346652 0.12693304 0.19039955 0.25386607 0.31733259\n",
      " 0.38079911 0.44426563 0.50773215 0.57119866 0.63466518 0.6981317\n",
      " 0.         0.         0.88853126 0.95199777 1.01546429 1.07893081\n",
      " 1.14239733 1.20586385 1.26933037 1.33279688 1.3962634  1.45972992\n",
      " 1.52319644 1.58666296 1.65012947 1.71359599 1.77706251 1.84052903\n",
      " 1.90399555 1.96746207 2.03092858 2.0943951  2.15786162 2.22132814\n",
      " 2.28479466 2.34826118 2.41172769 2.47519421 2.53866073 2.60212725\n",
      " 2.66559377 2.72906028 2.7925268  2.85599332 2.91945984 2.98292636\n",
      " 3.04639288 3.10985939 3.17332591 3.23679243 3.30025895 3.36372547\n",
      " 3.42719199 3.4906585  3.55412502 3.61759154 3.68105806 3.74452458\n",
      " 3.8079911  0.         0.         3.99839065 4.06185717 4.12532369\n",
      " 4.1887902  4.25225672 4.31572324 4.37918976 4.44265628 4.5061228\n",
      " 4.56958931 4.63305583 4.69652235 4.75998887 4.82345539 4.88692191\n",
      " 4.95038842 5.01385494 5.07732146 5.14078798 5.2042545  5.26772102\n",
      " 5.33118753 5.39465405 5.45812057 5.52158709 5.58505361 5.64852012\n",
      " 5.71198664 5.77545316 5.83891968 5.9023862  5.96585272 6.02931923\n",
      " 6.09278575 6.15625227 6.21971879 6.28318531]\n"
     ]
    },
    {
     "data": {
      "text/plain": [
       "[<matplotlib.lines.Line2D at 0x7f5eb6a74820>,\n",
       " <matplotlib.lines.Line2D at 0x7f5eb6a746a0>,\n",
       " <matplotlib.lines.Line2D at 0x7f5eb6a749a0>]"
      ]
     },
     "execution_count": 4,
     "metadata": {},
     "output_type": "execute_result"
    },
    {
     "data": {
      "image/png": "[encoded data removed]",
      "text/plain": [
       "<Figure size 432x288 with 1 Axes>"
      ]
     },
     "metadata": {
      "needs_background": "light"
     },
     "output_type": "display_data"
    }
   ],
   "source": [
    "import math\n",
    "import matplotlib.pyplot as plt\n",
    "\n",
    "b=np.linspace(0,2*math.pi,100)\n",
    "print(b)\n",
    "b1=b[::10]\n",
    "print('\\n',b1)\n",
    "b2=b[::-1]\n",
    "print('\\n',b2)\n",
    "\n",
    "\n",
    "mask=(abs(np.sin(b)-np.cos(b)))<0.1\n",
    "b3=b.copy()\n",
    "b3[mask]=0\n",
    "print(b3)\n",
    "\n",
    "plt.plot(b,np.sin(b),b,np.cos(b),b-b3,np.sin(b-b3),'^')"
   ]
  },
  {
   "cell_type": "markdown",
   "metadata": {},
   "source": [
    "5\\. Create a matrix that shows the 10 by 10 multiplication table.\n",
    "\n",
    " * Find the trace of the matrix\n",
    " * Extract the anto-diagonal (this should be ```array([10, 18, 24, 28, 30, 30, 28, 24, 18, 10])```)\n",
    " * Extract the diagnoal offset by 1 upwards (this should be ```array([ 2,  6, 12, 20, 30, 42, 56, 72, 90])```)"
   ]
  },
  {
   "cell_type": "code",
   "execution_count": 5,
   "metadata": {},
   "outputs": [
    {
     "name": "stdout",
     "output_type": "stream",
     "text": [
      "matrice originale:\n",
      " [[  1   2   3   4   5   6   7   8   9  10]\n",
      " [  2   4   6   8  10  12  14  16  18  20]\n",
      " [  3   6   9  12  15  18  21  24  27  30]\n",
      " [  4   8  12  16  20  24  28  32  36  40]\n",
      " [  5  10  15  20  25  30  35  40  45  50]\n",
      " [  6  12  18  24  30  36  42  48  54  60]\n",
      " [  7  14  21  28  35  42  49  56  63  70]\n",
      " [  8  16  24  32  40  48  56  64  72  80]\n",
      " [  9  18  27  36  45  54  63  72  81  90]\n",
      " [ 10  20  30  40  50  60  70  80  90 100]] \n",
      "\n",
      "trace:  385\n",
      "antidiagonal:  [10 18 24 28 30 30 28 24 18 10]\n",
      "diagonal with offset:  [ 2  6 12 20 30 42 56 72 90]\n"
     ]
    }
   ],
   "source": [
    "c1=np.arange(1,11)\n",
    "c2=np.arange(1,11)\n",
    "#costruisco la matrice\n",
    "c=np.outer(c1,c2)\n",
    "print('matrice originale:\\n',c,'\\n')\n",
    "#trovo la matrice con i soli termini diagonali\n",
    "cc=np.tril(np.triu(c,0),0)\n",
    "#calcolo la traccia\n",
    "print('trace: ' , np.sum(cc))\n",
    "\n",
    "cr=c[::,::-1]\n",
    "crc=np.tril(np.triu(cr,0),0)\n",
    "print('antidiagonal: ', cr.diagonal())\n",
    "\n",
    "print('diagonal with offset: ', c.diagonal(1))"
   ]
  },
  {
   "cell_type": "markdown",
   "metadata": {},
   "source": [
    "6\\. Use broadcasting to create a grid of distances\n",
    "\n",
    "Route 66 crosses the following cities in the US: Chicago, Springfield, Saint-Louis, Tulsa, Oklahoma City, Amarillo, Santa Fe, Albuquerque, Flagstaff, Los Angeles\n",
    "The corresponding positions in miles are: 0, 198, 303, 736, 871, 1175, 1475, 1544, 1913, 2448\n",
    "\n",
    "  * Construct a 2D grid of distances among each city along Route 66\n",
    "  * Convert that in km (those savages...)"
   ]
  },
  {
   "cell_type": "code",
   "execution_count": 6,
   "metadata": {},
   "outputs": [
    {
     "name": "stdout",
     "output_type": "stream",
     "text": [
      "[[   0  198  303  736  871 1175 1475 1544 1913 2448]\n",
      " [ 198    0  105  538  673  977 1277 1346 1715 2250]\n",
      " [ 303  105    0  433  568  872 1172 1241 1610 2145]\n",
      " [ 736  538  433    0  135  439  739  808 1177 1712]\n",
      " [ 871  673  568  135    0  304  604  673 1042 1577]\n",
      " [1175  977  872  439  304    0  300  369  738 1273]\n",
      " [1475 1277 1172  739  604  300    0   69  438  973]\n",
      " [1544 1346 1241  808  673  369   69    0  369  904]\n",
      " [1913 1715 1610 1177 1042  738  438  369    0  535]\n",
      " [2448 2250 2145 1712 1577 1273  973  904  535    0]]\n",
      "[[   0.      216.4932  331.3002  804.7424  952.3514 1284.745  1612.765\n",
      "  1688.2096 2091.6742 2676.6432]\n",
      " [ 216.4932    0.      114.807   588.2492  735.8582 1068.2518 1396.2718\n",
      "  1471.7164 1875.181  2460.15  ]\n",
      " [ 331.3002  114.807     0.      473.4422  621.0512  953.4448 1281.4648\n",
      "  1356.9094 1760.374  2345.343 ]\n",
      " [ 804.7424  588.2492  473.4422    0.      147.609   480.0026  808.0226\n",
      "   883.4672 1286.9318 1871.9008]\n",
      " [ 952.3514  735.8582  621.0512  147.609     0.      332.3936  660.4136\n",
      "   735.8582 1139.3228 1724.2918]\n",
      " [1284.745  1068.2518  953.4448  480.0026  332.3936    0.      328.02\n",
      "   403.4646  806.9292 1391.8982]\n",
      " [1612.765  1396.2718 1281.4648  808.0226  660.4136  328.02      0.\n",
      "    75.4446  478.9092 1063.8782]\n",
      " [1688.2096 1471.7164 1356.9094  883.4672  735.8582  403.4646   75.4446\n",
      "     0.      403.4646  988.4336]\n",
      " [2091.6742 1875.181  1760.374  1286.9318 1139.3228  806.9292  478.9092\n",
      "   403.4646    0.      584.969 ]\n",
      " [2676.6432 2460.15   2345.343  1871.9008 1724.2918 1391.8982 1063.8782\n",
      "   988.4336  584.969     0.    ]]\n"
     ]
    }
   ],
   "source": [
    "dis=np.array([0, 198, 303, 736, 871, 1175, 1475, 1544, 1913, 2448])\n",
    "dist=np.reshape(dis,(len(dis),1))\n",
    "mdist=np.tile(dist,(1,len(dis)))\n",
    "\n",
    "tab=abs(dis-mdist)\n",
    "print(tab)\n",
    "\n",
    "print(tab*1.0934)"
   ]
  },
  {
   "cell_type": "markdown",
   "metadata": {},
   "source": [
    "7\\. Prime numbers sieve: compute the prime numbers in the 0-N (N=99 to start with) range with a sieve (mask).\n",
    "  * Constract a shape (100,) boolean array, the mask\n",
    "  * Identify the multiples of each number starting from 2 and set accordingly the corresponding mask element\n",
    "  * Apply the mask to obtain an array of ordered prime numbers\n",
    "  * Check the performances (timeit); how does it scale with N?\n",
    "  * Implement the optimization suggested in the [sieve of Eratosthenes](https://en.wikipedia.org/wiki/Sieve_of_Eratosthenes)"
   ]
  },
  {
   "cell_type": "code",
   "execution_count": 7,
   "metadata": {},
   "outputs": [
    {
     "name": "stdout",
     "output_type": "stream",
     "text": [
      "Funzione:  [ 1  2  3  5  7 11 13 17 19 23 29 31 37 41 43 47 53 59 61 67 71 73 79 83\n",
      " 89 97]\n",
      "382 µs ± 13.7 µs per loop (mean ± std. dev. of 7 runs, 1000 loops each)\n",
      "Mask:  [ 1  2  3  5  7 11 13 17 19 23 29 31 37 41 43 47 53 59 61 67 71 73 79 83\n",
      " 89 97]\n",
      "41.4 µs ± 4.27 µs per loop (mean ± std. dev. of 7 runs, 10000 loops each)\n",
      "Eratostene:  [ 1  2  3  5  7 11 13 17 19 23 29 31 37 41 43 47 53 59 61 67 71 73 79 83\n",
      " 89 97]\n",
      "42.9 µs ± 504 ns per loop (mean ± std. dev. of 7 runs, 10000 loops each)\n"
     ]
    }
   ],
   "source": [
    "a=np.arange(1,100)\n",
    "\n",
    "def prime(x):\n",
    "    if x==1: return True\n",
    "    for i in range(1,x):\n",
    "        t=x-i\n",
    "        if t==1:\n",
    "            return True\n",
    "        elif x%t==0:\n",
    "            return False\n",
    "\n",
    "            \n",
    "foo = np.vectorize(prime)\n",
    "mask=(foo(a))\n",
    "f_a=a[mask]\n",
    "\n",
    "print('Funzione: ',f_a)\n",
    "%timeit a[foo(a)]\n",
    "loop=a.copy()\n",
    "def maschera(loopa):\n",
    "    for n in range(2,int(pow(len(loopa),1/2))):\n",
    "        mask_n=(np.logical_or(loopa%n!=0,loopa==n))\n",
    "        loopa=loopa[mask_n]\n",
    "    return loopa\n",
    "    \n",
    "print('Mask: ',maschera(loop))\n",
    "%timeit maschera(loop)\n",
    "def eratostene(ea):\n",
    "    i=1\n",
    "    while ea[i]<pow(len(a),1/2):\n",
    "        masker=(np.logical_or(ea%ea[i]!=0,ea==ea[i]))\n",
    "        ea=ea[masker]\n",
    "        i+=1\n",
    "    return(ea)\n",
    "\n",
    "print('Eratostene: ',eratostene(a))    \n",
    "%timeit eratostene(a)"
   ]
  },
  {
   "cell_type": "markdown",
   "metadata": {},
   "source": [
    "8\\. Diffusion using random walk\n",
    "\n",
    "Consider a simple random walk process: at each step in time, a walker jumps right or left (+1 or -1) with equal probability. The goal is to find the typical distance from the origin of a random walker after a given amount of time. \n",
    "To do that, let's simulate many walkers and create a 2D array with each walker as a raw and the actual time evolution as columns\n",
    "\n",
    "  * Take 1000 walkers and let them walk for 200 steps\n",
    "  * Use randint to create a 2D array of size walkers x steps with values -1 or 1\n",
    "  * Build the actual walking distances for each walker (i.e. another 2D array \"summing on each raw\")\n",
    "  * Take the square of that 2D array (elementwise)\n",
    "  * Compute the mean of the squared distances at each step (i.e. the mean along the columns)\n",
    "  * Plot the average distances (sqrt(distance\\*\\*2)) as a function of time (step)\n",
    "  \n",
    "Did you get what you expected?"
   ]
  },
  {
   "cell_type": "code",
   "execution_count": 8,
   "metadata": {
    "scrolled": true
   },
   "outputs": [
    {
     "name": "stdout",
     "output_type": "stream",
     "text": [
      "[[ 1  1 -1 ... -1  1  1]\n",
      " [-1 -1  1 ...  1  1  1]\n",
      " [-1  1  1 ...  1 -1  1]\n",
      " ...\n",
      " [ 1  1 -1 ... -1  1  1]\n",
      " [ 1  1  1 ...  1 -1 -1]\n",
      " [-1 -1 -1 ... -1  1 -1]]\n",
      "[  1.      1.984   2.88    3.92    4.912   6.208   7.448   8.364   9.288\n",
      "  10.472  11.744  12.804  13.384  14.556  16.064  17.14   18.648  19.68\n",
      "  20.824  21.74   23.008  24.096  24.904  25.852  26.864  27.784  28.88\n",
      "  30.26   31.392  32.26   32.912  33.928  35.76   37.08   37.704  37.928\n",
      "  39.424  40.888  42.256  43.208  44.456  45.364  45.664  46.456  47.648\n",
      "  47.648  48.312  49.876  50.56   51.504  52.936  53.992  55.048  55.392\n",
      "  56.152  57.74   59.104  59.652  60.152  61.748  63.16   63.544  63.904\n",
      "  65.576  66.04   66.992  68.296  69.376  70.08   72.12   73.512  74.376\n",
      "  75.48   76.268  78.424  79.76   80.424  81.068  83.904  85.144  86.336\n",
      "  86.356  87.712  88.024  88.984  91.316  91.48   92.46   94.056  95.228\n",
      "  96.24   97.38  100.84  101.144 102.52  102.536 104.256 105.344 106.4\n",
      " 107.644 108.264 109.656 110.912 111.34  111.424 113.128 114.8   115.448\n",
      " 116.312 117.828 119.24  119.272 120.616 121.024 120.976 122.448 123.008\n",
      " 124.688 126.928 127.496 126.704 128.004 129.976 130.152 129.96  131.444\n",
      " 133.392 132.38  133.36  134.256 134.952 136.752 137.384 138.764 139.048\n",
      " 139.748 141.52  142.6   143.2   144.536 145.208 145.32  145.304 147.088\n",
      " 148.8   149.78  150.96  152.04  153.176 152.764 153.128 155.456 156.184\n",
      " 158.216 158.512 159.484 160.768 161.988 162.304 163.18  164.008 164.892\n",
      " 167.416 167.444 168.408 168.14  169.04  169.028 169.736 170.672 170.504\n",
      " 171.328 172.728 175.356 176.208 177.272 178.328 179.056 179.704 181.28\n",
      " 182.144 184.024 185.056 186.596 189.048 189.972 192.352 192.216 192.984\n",
      " 193.78  194.296 194.428 193.656 194.56  196.632 198.948 200.336 201.256\n",
      " 201.472 203.388]\n"
     ]
    },
    {
     "data": {
      "text/plain": [
       "[<matplotlib.lines.Line2D at 0x7f5eb61e3df0>]"
      ]
     },
     "execution_count": 8,
     "metadata": {},
     "output_type": "execute_result"
    },
    {
     "data": {
      "image/png": "[encoded data removed]",
      "text/plain": [
       "<Figure size 432x288 with 1 Axes>"
      ]
     },
     "metadata": {
      "needs_background": "light"
     },
     "output_type": "display_data"
    }
   ],
   "source": [
    "\n",
    "a=np.random.randint(0,2,200*1000).reshape(1000,200)\n",
    "a[a==0]=-1\n",
    "print(a)\n",
    "\n",
    "#print(dist)\n",
    "\n",
    "\n",
    "\n",
    "bist=a.copy()\n",
    "sumpa=0\n",
    "for i in range(bist.shape[0]):\n",
    "    for f in range(bist.shape[1]):\n",
    "        for n in range(f+1):\n",
    "            sumpa+=(a[i][n])\n",
    "            bist[i][f]=sumpa\n",
    "        sumpa=0\n",
    "\n",
    "\n",
    "dist=bist**2\n",
    "\n",
    "\n",
    "#MEAN\n",
    "\n",
    "m=np.array([np.mean(dist[:,i]) for i in range(a.shape[1])])\n",
    "print(m)\n",
    "\n",
    "time=np.arange(1,201)\n",
    "\n",
    "plt.plot(time,m)\n",
    "\n",
    "#NO, I THOUGHT THE DISTANCE WOULD DECREASE AND BECOME CLOSER TO ZERO WITH THE GROWTH OF TIME"
   ]
  },
  {
   "cell_type": "markdown",
   "metadata": {},
   "source": [
    "9\\. Analyze a data file \n",
    "  * Download the population of hares, lynxes and carrots at the beginning of the last century.\n",
    "    ```python\n",
    "    ! wget https://www.dropbox.com/s/3vigxoqayo389uc/populations.txt\n",
    "    ```\n",
    "\n",
    "  * Check the content by looking within the file\n",
    "  * Load the data (use an appropriate numpy method) into a 2D array\n",
    "  * Create arrays out of the columns, the arrays being (in order): *year*, *hares*, *lynxes*, *carrots* \n",
    "  * Plot the 3 populations over the years\n",
    "  * Compute the main statistical properties of the dataset (mean, std, correlations, etc.)\n",
    "  * Which species has the highest population each year?\n",
    "\n",
    "Do you feel there is some evident correlation here? [Studies](https://www.enr.gov.nt.ca/en/services/lynx/lynx-snowshoe-hare-cycle) tend to believe so."
   ]
  },
  {
   "cell_type": "code",
   "execution_count": 9,
   "metadata": {},
   "outputs": [
    {
     "name": "stdout",
     "output_type": "stream",
     "text": [
      "[[ 1900.  1901.  1902.  1903.  1904.  1905.  1906.  1907.  1908.  1909.\n",
      "   1910.  1911.  1912.  1913.  1914.  1915.  1916.  1917.  1918.  1919.\n",
      "   1920.]\n",
      " [30000. 47200. 70200. 77400. 36300. 20600. 18100. 21400. 22000. 25400.\n",
      "  27100. 40300. 57000. 76600. 52300. 19500. 11200.  7600. 14600. 16200.\n",
      "  24700.]\n",
      " [ 4000.  6100.  9800. 35200. 59400. 41700. 19000. 13000.  8300.  9100.\n",
      "   7400.  8000. 12300. 19500. 45700. 51100. 29700. 15800.  9700. 10100.\n",
      "   8600.]\n",
      " [48300. 48200. 41500. 38200. 40600. 39800. 38600. 42300. 44500. 42100.\n",
      "  46000. 46800. 43800. 40900. 39400. 39000. 36700. 41800. 43300. 41300.\n",
      "  47300.]]\n"
     ]
    },
    {
     "data": {
      "text/plain": [
       "[<matplotlib.lines.Line2D at 0x7f5eb6187f70>,\n",
       " <matplotlib.lines.Line2D at 0x7f5eb6187fa0>,\n",
       " <matplotlib.lines.Line2D at 0x7f5eb61940a0>]"
      ]
     },
     "execution_count": 9,
     "metadata": {},
     "output_type": "execute_result"
    },
    {
     "data": {
      "image/png": "[encoded data removed]",
      "text/plain": [
       "<Figure size 432x288 with 1 Axes>"
      ]
     },
     "metadata": {
      "needs_background": "light"
     },
     "output_type": "display_data"
    }
   ],
   "source": [
    "a=np.loadtxt('populations.txt')\n",
    "a=a.flatten()\n",
    "b=np.array([a[0::4],a[1::4],a[2::4],a[3::4]])\n",
    "print(b)\n",
    "\n",
    "\n",
    "plt.plot(b[0],b[1],b[0],b[2],b[0],b[3])"
   ]
  }
 ],
 "metadata": {
  "kernelspec": {
   "display_name": "Python 3",
   "language": "python",
   "name": "python3"
  },
  "language_info": {
   "codemirror_mode": {
    "name": "ipython",
    "version": 3
   },
   "file_extension": ".py",
   "mimetype": "text/x-python",
   "name": "python",
   "nbconvert_exporter": "python",
   "pygments_lexer": "ipython3",
   "version": "3.8.5"
  }
 },
 "nbformat": 4,
 "nbformat_minor": 2
}
