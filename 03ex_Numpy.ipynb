{
 "cells": [
  {
   "cell_type": "markdown",
   "metadata": {},
   "source": [
    "### Numpy basics"
   ]
  },
  {
   "cell_type": "markdown",
   "metadata": {},
   "source": [
    "1\\. Find the row, column and overall means for the following matrix:\n",
    "\n",
    "```python\n",
    "m = np.arange(12).reshape((3,4))\n",
    "```"
   ]
  },
  {
   "cell_type": "code",
   "execution_count": 1,
   "metadata": {},
   "outputs": [
    {
     "name": "stdout",
     "output_type": "stream",
     "text": [
      "[[ 0  1  2  3]\n",
      " [ 4  5  6  7]\n",
      " [ 8  9 10 11]]\n",
      "Mean Row  0  =  1.5\n",
      "Mean Row  1  =  5.5\n",
      "Mean Row  2  =  9.5\n",
      "Mean Column  0  =  4.0\n",
      "Mean Column  1  =  5.0\n",
      "Mean Column  2  =  6.0\n",
      "Mean Column  3  =  7.0\n",
      "Overall Mean =  5.5\n"
     ]
    }
   ],
   "source": [
    "import numpy as np\n",
    "\n",
    "m = np.arange(12).reshape((3,4))\n",
    "\n",
    "print(m)\n",
    "\n",
    "for i in range(m.shape[0]):\n",
    "    print(\"Mean Row \", i, \" = \", np.mean(m[i,:]))\n",
    "    \n",
    "for i in range(m.shape[1]):\n",
    "    print(\"Mean Column \", i, \" = \", np.mean(m[:, i]))\n",
    "    \n",
    "print(\"Overall Mean = \", np.mean(m))"
   ]
  },
  {
   "cell_type": "markdown",
   "metadata": {},
   "source": [
    "2\\. Find the outer product of the following two vecotrs\n",
    "\n",
    "```python\n",
    "u = np.array([1,3,5,7])\n",
    "v = np.array([2,4,6,8])\n",
    "```\n",
    "\n",
    "Do this in the following ways:\n",
    "\n",
    "   * Using the function outer in numpy\n",
    "   * Using a nested for loop or list comprehension\n",
    "   * Using numpy broadcasting operatoins\n"
   ]
  },
  {
   "cell_type": "code",
   "execution_count": 2,
   "metadata": {},
   "outputs": [
    {
     "name": "stdout",
     "output_type": "stream",
     "text": [
      "[[ 2  4  6  8]\n",
      " [ 6 12 18 24]\n",
      " [10 20 30 40]\n",
      " [14 28 42 56]] \n",
      "\n",
      "[[ 2  4  6  8]\n",
      " [ 6 12 18 24]\n",
      " [10 20 30 40]\n",
      " [14 28 42 56]] \n",
      "\n",
      "[[ 2  4  6  8]\n",
      " [ 6 12 18 24]\n",
      " [10 20 30 40]\n",
      " [14 28 42 56]]\n"
     ]
    }
   ],
   "source": [
    "u = np.array([1,3,5,7])\n",
    "v = np.array([2,4,6,8])\n",
    "\n",
    "out = np.outer(u, v)\n",
    "\n",
    "print(out, \"\\n\")\n",
    "\n",
    "out1 = np.zeros((len(u), len(v)), 'uint16')\n",
    "\n",
    "for i in range(len(u)):\n",
    "    for j in range(len(v)):\n",
    "        out1[i,j] = u[i]*v[j]\n",
    "        \n",
    "print(out1, \"\\n\")\n",
    "\n",
    "u = np.transpose(np.tile(u, (4, 1)))\n",
    "out2 = u*v\n",
    "print(out2)\n",
    "\n",
    "\n"
   ]
  },
  {
   "cell_type": "markdown",
   "metadata": {},
   "source": [
    "3\\. Create a 10 by 6 matrix of random uniform numbers. Set all rows with any entry less than 0.1 to be zero\n",
    "\n",
    "Hint: Use the following numpy functions - np.random.random, np.any as well as Boolean indexing and the axis argument."
   ]
  },
  {
   "cell_type": "code",
   "execution_count": 3,
   "metadata": {},
   "outputs": [
    {
     "name": "stdout",
     "output_type": "stream",
     "text": [
      "[[2.67420928e-01 6.37285733e-02 8.60593161e-01 3.55043505e-01\n",
      "  3.40814516e-01 3.60581385e-01]\n",
      " [7.07773999e-02 5.55630826e-01 1.18601007e-01 8.35860791e-01\n",
      "  1.22611843e-01 4.86431591e-01]\n",
      " [9.99048880e-01 8.51003698e-01 2.10592609e-01 6.64889806e-02\n",
      "  1.59761709e-01 3.88974626e-01]\n",
      " [9.21413996e-03 8.52503082e-01 9.51806592e-01 8.02872758e-01\n",
      "  4.51075380e-01 9.20276739e-01]\n",
      " [4.42056766e-01 6.05494258e-01 4.10549988e-01 6.50392626e-01\n",
      "  7.93485067e-01 6.54841886e-01]\n",
      " [8.31263603e-01 9.50299041e-01 2.30144663e-01 4.24391095e-03\n",
      "  2.36039644e-01 1.59927645e-01]\n",
      " [8.83892326e-01 9.93951071e-01 3.55404508e-01 3.27184393e-02\n",
      "  7.38698379e-04 8.00209806e-01]\n",
      " [3.40516888e-01 2.90077735e-01 8.97902548e-01 9.60782257e-01\n",
      "  1.23702917e-01 5.76281954e-01]\n",
      " [8.39499452e-01 8.94894728e-01 2.84586524e-01 3.22265011e-01\n",
      "  1.32410485e-02 1.87990794e-01]\n",
      " [7.25178441e-01 6.42428835e-01 7.72285138e-01 4.62540369e-01\n",
      "  7.76763781e-01 2.15999199e-01]] \n",
      "\n",
      "[[0.         0.         0.         0.         0.         0.        ]\n",
      " [0.         0.         0.         0.         0.         0.        ]\n",
      " [0.         0.         0.         0.         0.         0.        ]\n",
      " [0.         0.         0.         0.         0.         0.        ]\n",
      " [0.44205677 0.60549426 0.41054999 0.65039263 0.79348507 0.65484189]\n",
      " [0.         0.         0.         0.         0.         0.        ]\n",
      " [0.         0.         0.         0.         0.         0.        ]\n",
      " [0.34051689 0.29007774 0.89790255 0.96078226 0.12370292 0.57628195]\n",
      " [0.         0.         0.         0.         0.         0.        ]\n",
      " [0.72517844 0.64242883 0.77228514 0.46254037 0.77676378 0.2159992 ]]\n"
     ]
    }
   ],
   "source": [
    "rndM = np.random.random(size = (10,6))\n",
    "\n",
    "print(rndM, \"\\n\")\n",
    "\n",
    "rndM[np.any(rndM < 0.1, 1)] = 0\n",
    "\n",
    "print(rndM)"
   ]
  },
  {
   "cell_type": "markdown",
   "metadata": {},
   "source": [
    "4\\. Use np.linspace to create an array of 100 numbers between 0 and 2π (includsive).\n",
    "\n",
    "  * Extract every 10th element using slice notation\n",
    "  * Reverse the array using slice notation\n",
    "  * Extract elements where the absolute difference between the sine and cosine functions evaluated at that element is less than 0.1\n",
    "  * Make a plot showing the sin and cos functions and indicate where they are close"
   ]
  },
  {
   "cell_type": "code",
   "execution_count": 4,
   "metadata": {},
   "outputs": [
    {
     "name": "stdout",
     "output_type": "stream",
     "text": [
      "[0.7615982190520711, 0.8250647373064104, 3.8714576135146945, 3.934924131769034]\n"
     ]
    },
    {
     "data": {
      "image/png": "[encoded data removed]",
      "text/plain": [
       "<Figure size 432x288 with 1 Axes>"
      ]
     },
     "metadata": {
      "needs_background": "light"
     },
     "output_type": "display_data"
    }
   ],
   "source": [
    "import matplotlib.pyplot as plt # everybody imports it that way\n",
    "\n",
    "%matplotlib inline \n",
    "# tell jupyter to plot inline\n",
    "\n",
    "\n",
    "\n",
    "from math import pi\n",
    "arr = np.linspace(0, 2*pi, 100)\n",
    "#print(arr)\n",
    "arr1 = arr[0:len(arr):10]\n",
    "#print(arr1)\n",
    "arr2 = arr[len(arr)::-1]\n",
    "#print(arr2)\n",
    "\n",
    "arr_fileterd = []\n",
    "for i in range(0, len(arr)):\n",
    "    if (abs(np.cos(arr[i]) - np.sin(arr[i])) < 0.1): arr_fileterd.append(arr[i])\n",
    "    \n",
    "        \n",
    "print(arr_fileterd)\n",
    "\n",
    "ycos = np.cos(arr)\n",
    "ysin = np.sin(arr)\n",
    "\n",
    "plt.plot(arr, ycos);\n",
    "plt.plot(arr, ysin);\n",
    "for i in range(len(arr_fileterd)): plt.axvline(x=arr_fileterd[i])"
   ]
  },
  {
   "cell_type": "markdown",
   "metadata": {},
   "source": [
    "5\\. Create a matrix that shows the 10 by 10 multiplication table.\n",
    "\n",
    " * Find the trace of the matrix\n",
    " * Extract the anto-diagonal (this should be ```array([10, 18, 24, 28, 30, 30, 28, 24, 18, 10])```)\n",
    " * Extract the diagnoal offset by 1 upwards (this should be ```array([ 2,  6, 12, 20, 30, 42, 56, 72, 90])```)"
   ]
  },
  {
   "cell_type": "code",
   "execution_count": 5,
   "metadata": {},
   "outputs": [
    {
     "name": "stdout",
     "output_type": "stream",
     "text": [
      "[[  1   2   3   4   5   6   7   8   9  10]\n",
      " [  2   4   6   8  10  12  14  16  18  20]\n",
      " [  3   6   9  12  15  18  21  24  27  30]\n",
      " [  4   8  12  16  20  24  28  32  36  40]\n",
      " [  5  10  15  20  25  30  35  40  45  50]\n",
      " [  6  12  18  24  30  36  42  48  54  60]\n",
      " [  7  14  21  28  35  42  49  56  63  70]\n",
      " [  8  16  24  32  40  48  56  64  72  80]\n",
      " [  9  18  27  36  45  54  63  72  81  90]\n",
      " [ 10  20  30  40  50  60  70  80  90 100]]\n",
      "[10 18 24 28 30 30 28 24 18 10]\n",
      "[2.0, 6.0, 12.0, 20.0, 30.0, 42.0, 56.0, 72.0, 90.0]\n"
     ]
    }
   ],
   "source": [
    "a = np.array(np.fromfunction(lambda i,j: (i+1)*(j+1), (10,10)),'int')\n",
    "\n",
    "print(a)\n",
    "\n",
    "a_1 = a.reshape(100)\n",
    "\n",
    "b = a_1[9:99:9]\n",
    "\n",
    "print(b)\n",
    "\n",
    "mask = np.ones((10,10))\n",
    "mask = np.tril(mask, 1)\n",
    "mask = np.triu(mask, 1)\n",
    "\n",
    "c = a*mask\n",
    "c = [i for i in c.reshape(100) if (i!=0)]\n",
    "print(c)\n"
   ]
  },
  {
   "cell_type": "markdown",
   "metadata": {},
   "source": [
    "6\\. Use broadcasting to create a grid of distances\n",
    "\n",
    "Route 66 crosses the following cities in the US: Chicago, Springfield, Saint-Louis, Tulsa, Oklahoma City, Amarillo, Santa Fe, Albuquerque, Flagstaff, Los Angeles\n",
    "The corresponding positions in miles are: 0, 198, 303, 736, 871, 1175, 1475, 1544, 1913, 2448\n",
    "\n",
    "  * Construct a 2D grid of distances among each city along Route 66\n",
    "  * Convert that in km (those savages...)"
   ]
  },
  {
   "cell_type": "code",
   "execution_count": 6,
   "metadata": {},
   "outputs": [
    {
     "name": "stdout",
     "output_type": "stream",
     "text": [
      "[[   0.   318.7  487.7 1184.5 1401.8 1891.  2373.8 2484.9 3078.7 3939.7]\n",
      " [ 318.7    0.   169.   865.9 1083.1 1572.4 2055.2 2166.2 2760.1 3621.1]\n",
      " [ 487.7  169.     0.   696.9  914.2 1403.4 1886.2 1997.2 2591.1 3452.1]\n",
      " [1184.5  865.9  696.9    0.   217.3  706.6 1189.4 1300.4 1894.2 2755.2]\n",
      " [1401.8 1083.1  914.2  217.3    0.   489.3  972.1 1083.1 1677.  2538. ]\n",
      " [1891.  1572.4 1403.4  706.6  489.3    0.   482.9  593.9 1187.7 2048.7]\n",
      " [2373.8 2055.2 1886.2 1189.4  972.1  482.9    0.   111.1  704.9 1565.9]\n",
      " [2484.9 2166.2 1997.2 1300.4 1083.1  593.9  111.1    0.   593.9 1454.9]\n",
      " [3078.7 2760.1 2591.1 1894.2 1677.  1187.7  704.9  593.9    0.   861. ]\n",
      " [3939.7 3621.1 3452.1 2755.2 2538.  2048.7 1565.9 1454.9  861.     0. ]]\n"
     ]
    }
   ],
   "source": [
    "positions = np.array([0, 198, 303, 736, 871, 1175, 1475, 1544, 1913, 2448])\n",
    "\n",
    "distances = np.transpose(np.array(np.tile(positions, (len(positions), 1))))\n",
    "\n",
    "distances = abs(positions - distances)\n",
    "\n",
    "k = 1.60934 #mile to km factor\n",
    "\n",
    "distances = k*distances\n",
    "\n",
    "distances = np.ceil(distances*10)/10 #limit to 1 decimal digit in order to improve visualization\n",
    "\n",
    "print(distances)"
   ]
  },
  {
   "cell_type": "markdown",
   "metadata": {},
   "source": [
    "7\\. Prime numbers sieve: compute the prime numbers in the 0-N (N=99 to start with) range with a sieve (mask).\n",
    "  * Constract a shape (100,) boolean array, the mask\n",
    "  * Identify the multiples of each number starting from 2 and set accordingly the corresponding mask element\n",
    "  * Apply the mask to obtain an array of ordered prime numbers\n",
    "  * Check the performances (timeit); how does it scale with N?\n",
    "  * Implement the optimization suggested in the [sieve of Eratosthenes](https://en.wikipedia.org/wiki/Sieve_of_Eratosthenes)"
   ]
  },
  {
   "cell_type": "code",
   "execution_count": 7,
   "metadata": {},
   "outputs": [
    {
     "name": "stdout",
     "output_type": "stream",
     "text": [
      "[ 0  1  2  3  5  7 11 13 17 19 23 29 31 37 41 43 47 53 59 61 67 71 73 79\n",
      " 83 89 97]\n",
      "[ 0  1  2  3  5  7 11 13 17 19 23 29 31 37 41 43 47 53 59 61 67 71 73 79\n",
      " 83 89 97]\n"
     ]
    }
   ],
   "source": [
    "N = 100\n",
    "\n",
    "\n",
    "#this funciton scales with N as O(N^2)\n",
    "def get_prime_numbers(n):\n",
    "        \n",
    "    mask = np.ones(n+1, 'bool')\n",
    "    numbers = np.arange(0,n+1)\n",
    "    \n",
    "    for i in np.arange(2,int(n/2)):\n",
    "        for j in np.arange(1,n+1):\n",
    "            if(numbers[j]%i==0 and numbers[j]!= i): mask[j] = 0\n",
    "    \n",
    "    numbers = numbers[mask]\n",
    "    return numbers\n",
    "\n",
    "def sieve_of_Eratosthenes(n):\n",
    "    mask = np.ones(n+1, 'bool')\n",
    "    numbers = np.arange(0, n+1)\n",
    "\n",
    "    for i in np.arange(2, int(n**(0.5))):\n",
    "        mask[i*2::i] = 0    \n",
    "    \n",
    "    numbers = numbers[mask]\n",
    "    return numbers\n",
    "\n",
    "#%timeit get_prime_numbers(N)                #2.42ms\n",
    "#%timeit get_prime_numbers(N*10)             #234ms\n",
    "#%timeit get_prime_numbers(N*100)            #24.2s\n",
    "\n",
    "#%timeit sieve_of_Eratosthenes(N)             #11.1μs\n",
    "#%timeit sieve_of_Eratosthenes(N*10)          #30.8μs\n",
    "#%timeit sieve_of_Eratosthenes(N*100)         #120μs\n",
    "\n",
    "print(get_prime_numbers(N))\n",
    "print(sieve_of_Eratosthenes(N))"
   ]
  },
  {
   "cell_type": "markdown",
   "metadata": {},
   "source": [
    "8\\. Diffusion using random walk\n",
    "\n",
    "Consider a simple random walk process: at each step in time, a walker jumps right or left (+1 or -1) with equal probability. The goal is to find the typical distance from the origin of a random walker after a given amount of time. \n",
    "To do that, let's simulate many walkers and create a 2D array with each walker as a raw and the actual time evolution as columns\n",
    "\n",
    "  * Take 1000 walkers and let them walk for 200 steps\n",
    "  * Use randint to create a 2D array of size walkers x steps with values -1 or 1\n",
    "  * Build the actual walking distances for each walker (i.e. another 2D array \"summing on each raw\")\n",
    "  * Take the square of that 2D array (elementwise)\n",
    "  * Compute the mean of the squared distances at each step (i.e. the mean along the columns)\n",
    "  * Plot the average distances (sqrt(distance\\*\\*2)) as a function of time (step)\n",
    "  \n",
    "Did you get what you expected?"
   ]
  },
  {
   "cell_type": "code",
   "execution_count": 8,
   "metadata": {},
   "outputs": [
    {
     "data": {
      "image/png": "[encoded data removed]",
      "text/plain": [
       "<Figure size 432x288 with 1 Axes>"
      ]
     },
     "metadata": {
      "needs_background": "light"
     },
     "output_type": "display_data"
    }
   ],
   "source": [
    "import matplotlib.pyplot as plt # everybody imports it that way\n",
    "\n",
    "%matplotlib inline \n",
    "\n",
    "\n",
    "many_walkers = np.random.randint(-1,1,[200,1000])\n",
    "many_walkers[many_walkers==0] = 1\n",
    "\n",
    "walked_distance = np.zeros((200,1000), 'int')\n",
    "\n",
    "\n",
    "for i in range(1000):\n",
    "    for j in range(200):\n",
    "        walked_distance[j,i] = np.sum(many_walkers[0:j,i])\n",
    "\n",
    "\n",
    "walked_distance = walked_distance*walked_distance\n",
    "\n",
    "mean_walked_squared = walked_distance.mean(axis = 1)\n",
    "\n",
    "mean_walked = mean_walked_squared**0.5\n",
    "\n",
    "\n",
    "plt.plot(range(200), mean_walked);\n",
    "\n",
    "#I would have expected to get an average walked distance near to zero, not an incresing one"
   ]
  },
  {
   "cell_type": "markdown",
   "metadata": {},
   "source": [
    "9\\. Analyze a data file \n",
    "  * Download the population of hares, lynxes and carrots at the beginning of the last century.\n",
    "    ```python\n",
    "    ! wget https://www.dropbox.com/s/3vigxoqayo389uc/populations.txt\n",
    "    ```\n",
    "\n",
    "  * Check the content by looking within the file\n",
    "  * Load the data (use an appropriate numpy method) into a 2D array\n",
    "  * Create arrays out of the columns, the arrays being (in order): *year*, *hares*, *lynxes*, *carrots* \n",
    "  * Plot the 3 populations over the years\n",
    "  * Compute the main statistical properties of the dataset (mean, std, correlations, etc.)\n",
    "  * Which species has the highest population each year?\n",
    "\n",
    "Do you feel there is some evident correlation here? [Studies](https://www.enr.gov.nt.ca/en/services/lynx/lynx-snowshoe-hare-cycle) tend to believe so."
   ]
  },
  {
   "cell_type": "code",
   "execution_count": 9,
   "metadata": {},
   "outputs": [
    {
     "name": "stdout",
     "output_type": "stream",
     "text": [
      "Hare   mean  =  34080\n",
      "Lynxes   mean  =  20166\n",
      "Carrot   mean  =  42400\n",
      "Hare   median  =  25400\n",
      "Lynxes   median  =  12300\n",
      "Carrot   median  =  41800\n",
      "Hare   std  =  20897\n",
      "Lynxes   std  =  16254\n",
      "Carrot   std  =  3322\n",
      "Correlation factor Hare-Lynxes =  0.07189206073535573\n",
      "Correlation factor Hare-Carrot =  -0.016603777709879402\n",
      "Correlation factor Lynxes-Carrot =  -0.6805771698401617\n"
     ]
    },
    {
     "data": {
      "image/png": "[encoded data removed]",
      "text/plain": [
       "<Figure size 432x288 with 1 Axes>"
      ]
     },
     "metadata": {
      "needs_background": "light"
     },
     "output_type": "display_data"
    }
   ],
   "source": [
    "a = np.array(np.loadtxt(\"populations.txt\", usecols=range(0,4)), 'int')\n",
    "\n",
    "\n",
    "plt.plot(a[:,0], a[:,1]);\n",
    "plt.plot(a[:,0], a[:,2]);\n",
    "plt.plot(a[:,0], a[:,3]);\n",
    "\n",
    "hare_mean = int(a[:,1].mean())\n",
    "lynxes_mean = int(a[:,2].mean())\n",
    "carrot_mean = int(a[:,3].mean())\n",
    "\n",
    "\n",
    "types = [\"Hare\", \"Lynxes\", \"Carrot\"]\n",
    "\n",
    "for function in ['mean','median','std']:\n",
    "    for i in range(1,4):\n",
    "        print (types[i-1], \" \",function, \" = \", int(getattr(np, function)(a[:,i])))\n",
    "\n",
    "print(\"Correlation factor Hare-Lynxes = \", np.corrcoef(a[:,1], a[:,2])[1,0])\n",
    "print(\"Correlation factor Hare-Carrot = \", np.corrcoef(a[:,1], a[:,3])[1,0])\n",
    "print(\"Correlation factor Lynxes-Carrot = \", np.corrcoef(a[:,2], a[:,3])[1,0])"
   ]
  }
 ],
 "metadata": {
  "kernelspec": {
   "display_name": "Python 3",
   "language": "python",
   "name": "python3"
  },
  "language_info": {
   "codemirror_mode": {
    "name": "ipython",
    "version": 3
   },
   "file_extension": ".py",
   "mimetype": "text/x-python",
   "name": "python",
   "nbconvert_exporter": "python",
   "pygments_lexer": "ipython3",
   "version": "3.8.5"
  }
 },
 "nbformat": 4,
 "nbformat_minor": 2
}
