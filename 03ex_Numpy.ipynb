{
 "cells": [
  {
   "cell_type": "markdown",
   "metadata": {},
   "source": [
    "### Numpy basics"
   ]
  },
  {
   "cell_type": "code",
   "execution_count": null,
   "metadata": {},
   "outputs": [],
   "source": [
    "import numpy as np"
   ]
  },
  {
   "cell_type": "markdown",
   "metadata": {},
   "source": [
    "1\\. Find the row, column and overall means for the following matrix:\n",
    "\n",
    "```python\n",
    "m = np.arange(12).reshape((3,4))\n",
    "```"
   ]
  },
  {
   "cell_type": "code",
   "execution_count": null,
   "metadata": {},
   "outputs": [],
   "source": [
    "m = np.arange(12).reshape((3,4))\n",
    "print('Matrix m:\\n', m)\n",
    "\n",
    "print('\\nRow means:\\t', np.mean(m, 1))\n",
    "print('Column means:\\t', np.mean(m, 0))\n",
    "print('Overall mean:\\t', np.mean(m))"
   ]
  },
  {
   "cell_type": "markdown",
   "metadata": {},
   "source": [
    "2\\. Find the outer product of the following two vecotrs\n",
    "\n",
    "```python\n",
    "u = np.array([1,3,5,7])\n",
    "v = np.array([2,4,6,8])\n",
    "```\n",
    "\n",
    "Do this in the following ways:\n",
    "\n",
    "   * Using the function outer in numpy\n",
    "   * Using a nested for loop or list comprehension\n",
    "   * Using numpy broadcasting operatoins\n"
   ]
  },
  {
   "cell_type": "code",
   "execution_count": null,
   "metadata": {},
   "outputs": [],
   "source": [
    "u = np.array([1,3,5,7])\n",
    "v = np.array([2,4,6,8])\n",
    "\n",
    "out_p = np.outer(u, v)\n",
    "print('Using the function outer in numpy:\\n', out_p)\n",
    "\n",
    "out_p = np.array([i*j for i in u for j in v])\n",
    "out_p = out_p.reshape(4,4)\n",
    "print('Using a nested for loop or list comprehension:\\n', out_p)\n",
    "\n",
    "out_p = np.tile(u,(4,1)).T\n",
    "out_p = out_p * v\n",
    "print('Using numpy broadcasting operatoins:\\n', out_p)"
   ]
  },
  {
   "cell_type": "markdown",
   "metadata": {},
   "source": [
    "3\\. Create a 10 by 6 matrix of random uniform numbers. Set all rows with any entry less than 0.1 to be zero\n",
    "\n",
    "Hint: Use the following numpy functions - np.random.random, np.any as well as Boolean indexing and the axis argument."
   ]
  },
  {
   "cell_type": "code",
   "execution_count": null,
   "metadata": {},
   "outputs": [],
   "source": [
    "import numpy.random as npr\n",
    "npr.seed(1234357)\n",
    "\n",
    "m = npr.rand(10,6)\n",
    "m[m < 0.1] = 0\n",
    "print(m)"
   ]
  },
  {
   "cell_type": "markdown",
   "metadata": {},
   "source": [
    "4\\. Use np.linspace to create an array of 100 numbers between 0 and 2π (includsive).\n",
    "\n",
    "  * Extract every 10th element using slice notation\n",
    "  * Reverse the array using slice notation\n",
    "  * Extract elements where the absolute difference between the sine and cosine functions evaluated at that element is less than 0.1\n",
    "  * Make a plot showing the sin and cos functions and indicate where they are close"
   ]
  },
  {
   "cell_type": "code",
   "execution_count": null,
   "metadata": {},
   "outputs": [],
   "source": [
    "import math \n",
    "import matplotlib.pyplot as plt\n",
    "\n",
    "x = np.linspace(0, 2*math.pi, 100)\n",
    "print('Array x:\\n', x)\n",
    "x_down = x[::10]\n",
    "print('\\nDownsampled array:\\n', x_down)\n",
    "x_rev = x[::-1]\n",
    "print('\\nReversed array:\\n', x_rev)\n",
    "\n",
    "x_ext = x[np.where(abs(np.cos(x) - np.sin(x))<0.1)]\n",
    "print('\\nElements where the absolute difference between the sine and cosine functions evaluated at that element is less than 0.1:\\n',x_ext)\n",
    "\n",
    "print('\\nFigure:')\n",
    "y_sin = np.sin(x) \n",
    "y_cos = np.cos(x) \n",
    "plt.plot(x, y_sin, ':') \n",
    "plt.plot(x, y_cos, ':')\n",
    "\n",
    "indexes = np.where(abs(y_sin-y_cos)<0.1)\n",
    "plt.scatter(x[indexes], y_sin[indexes])\n",
    "plt.scatter(x[indexes], y_cos[indexes])\n",
    "plt.show()"
   ]
  },
  {
   "cell_type": "markdown",
   "metadata": {},
   "source": [
    "5\\. Create a matrix that shows the 10 by 10 multiplication table.\n",
    "\n",
    " * Find the trace of the matrix\n",
    " * Extract the anto-diagonal (this should be ```array([10, 18, 24, 28, 30, 30, 28, 24, 18, 10])```)\n",
    " * Extract the diagnoal offset by 1 upwards (this should be ```array([ 2,  6, 12, 20, 30, 42, 56, 72, 90])```)"
   ]
  },
  {
   "cell_type": "code",
   "execution_count": null,
   "metadata": {},
   "outputs": [],
   "source": [
    "m = np.array([i*j for i in range(1,11) for j in range(1,11)])\n",
    "m = m.reshape(10, 10)\n",
    "\n",
    "trace = m.trace()\n",
    "print(\"Trace:\", trace)\n",
    "\n",
    "anti_diag = np.diag(m[:,::-1])\n",
    "print(\"\\nAnti diagonal:\", anti_diag)\n",
    "\n",
    "diag_offset = np.diag(np.roll(m, -1, axis=0))\n",
    "print(\"\\nDiagonal with offset:\", diag_offset)"
   ]
  },
  {
   "cell_type": "markdown",
   "metadata": {},
   "source": [
    "6\\. Use broadcasting to create a grid of distances\n",
    "\n",
    "Route 66 crosses the following cities in the US: Chicago, Springfield, Saint-Louis, Tulsa, Oklahoma City, Amarillo, Santa Fe, Albuquerque, Flagstaff, Los Angeles\n",
    "The corresponding positions in miles are: 0, 198, 303, 736, 871, 1175, 1475, 1544, 1913, 2448\n",
    "\n",
    "  * Construct a 2D grid of distances among each city along Route 66\n",
    "  * Convert that in km (those savages...)"
   ]
  },
  {
   "cell_type": "code",
   "execution_count": null,
   "metadata": {},
   "outputs": [],
   "source": [
    "miles = np.array([0, 198, 303, 736, 871, 1175, 1475, 1544, 1913, 2448])\n",
    "grid = abs(miles - miles.reshape(10, 1))\n",
    "km_for_mile = 1.60934\n",
    "print(\"Distance in miles:\\n\", grid)\n",
    "print(\"\\nDistance in kilometers:\\n\", grid*km_for_mile)"
   ]
  },
  {
   "cell_type": "markdown",
   "metadata": {},
   "source": [
    "7\\. Prime numbers sieve: compute the prime numbers in the 0-N (N=99 to start with) range with a sieve (mask).\n",
    "  * Constract a shape (100,) boolean array, the mask\n",
    "  * Identify the multiples of each number starting from 2 and set accordingly the corresponding mask element\n",
    "  * Apply the mask to obtain an array of ordered prime numbers\n",
    "  * Check the performances (timeit); how does it scale with N?\n",
    "  * Implement the optimization suggested in the [sieve of Eratosthenes](https://en.wikipedia.org/wiki/Sieve_of_Eratosthenes)"
   ]
  },
  {
   "cell_type": "code",
   "execution_count": null,
   "metadata": {},
   "outputs": [],
   "source": [
    "import math\n",
    "\n",
    "def find_prime(N):\n",
    "    numbers = np.arange(1, N+1)\n",
    "    mask = np.ones(N, dtype=bool)\n",
    "    for i in range(2, N):\n",
    "        if mask[i-1]: \n",
    "            # still not evaluated\n",
    "            # if there're multiples greater than this number they will be put to false\n",
    "            mask[(numbers>i) & (numbers%i==0)] = False\n",
    "    return mask\n",
    "\n",
    "def find_prime_sieve(N):\n",
    "    numbers = np.arange(0, N+1)\n",
    "    mask = np.ones(N, dtype=bool)\n",
    "    for i in range(2, math.ceil(math.sqrt(N))):\n",
    "        if(mask[i-1]):\n",
    "            for j in range(i**2,N+1,i):\n",
    "                mask[j-1] = False\n",
    "    return mask\n",
    "\n",
    "N = 100\n",
    "\n",
    "print('Intuitive way to find prime numbers:\\n', list(enumerate(find_prime(N),1)))\n",
    "print('\\nSieve of Eratosthenes optimization to find prime numbers:\\n', list(enumerate(find_prime_sieve(N),1 )))\n",
    "\n",
    "print('\\n*** EVALUATE PERFORMANCE ***\\n')\n",
    "\n",
    "\n",
    "print('\\nIntuitive way:', N)\n",
    "%timeit -n 10 find_prime(N)\n",
    "\n",
    "print('\\nSieve of Eratosthenes optimization:', N)\n",
    "%timeit -n 10 find_prime_sieve(N)\n",
    "\n",
    "print('\\nIntuitive way:', N**2)\n",
    "%timeit -n 10 find_prime(N**2)\n",
    "\n",
    "print('\\nSieve of Eratosthenes optimization:', N**2)\n",
    "%timeit -n 10 find_prime_sieve(N**2)"
   ]
  },
  {
   "cell_type": "markdown",
   "metadata": {},
   "source": [
    "8\\. Diffusion using random walk\n",
    "\n",
    "Consider a simple random walk process: at each step in time, a walker jumps right or left (+1 or -1) with equal probability. The goal is to find the typical distance from the origin of a random walker after a given amount of time. \n",
    "To do that, let's simulate many walkers and create a 2D array with each walker as a raw and the actual time evolution as columns\n",
    "\n",
    "  * Take 1000 walkers and let them walk for 200 steps\n",
    "  * Use randint to create a 2D array of size walkers x steps with values -1 or 1\n",
    "  * Build the actual walking distances for each walker (i.e. another 2D array \"summing on each raw\")\n",
    "  * Take the square of that 2D array (elementwise)\n",
    "  * Compute the mean of the squared distances at each step (i.e. the mean along the columns)\n",
    "  * Plot the average distances (sqrt(distance\\*\\*2)) as a function of time (step)\n",
    "  \n",
    "Did you get what you expected?"
   ]
  },
  {
   "cell_type": "code",
   "execution_count": null,
   "metadata": {},
   "outputs": [],
   "source": [
    "import numpy.random as npr\n",
    "\n",
    "n_walkers = 1000\n",
    "n_steps = 200\n",
    "\n",
    "walkers = npr.randint(0,2, (n_walkers, n_steps))\n",
    "# zeros must be turn to -1\n",
    "walkers[walkers==0] = -1\n",
    "\n",
    "dist = np.cumsum(walkers, 1)\n",
    "sqrd_dist = dist**2\n",
    "#print('\\nSquared distances:\\n', sqrd_dist)\n",
    "\n",
    "mean = np.mean(sqrd_dist, 0)\n",
    "#print('\\nMean of the squared distances:\\n', mean)\n",
    "\n",
    "steps = np.linspace(0,200,n_steps)\n",
    "plt.plot(steps, np.sqrt(mean))\n",
    "plt.xlabel('Step number')\n",
    "plt.ylabel('Average distance')\n",
    "plt.show()"
   ]
  },
  {
   "cell_type": "markdown",
   "metadata": {},
   "source": [
    "9\\. Analyze a data file \n",
    "  * Download the population of hares, lynxes and carrots at the beginning of the last century.\n",
    "    ```python\n",
    "    ! wget https://www.dropbox.com/s/3vigxoqayo389uc/populations.txt\n",
    "    ```\n",
    "\n",
    "  * Check the content by looking within the file\n",
    "  * Load the data (use an appropriate numpy method) into a 2D array\n",
    "  * Create arrays out of the columns, the arrays being (in order): *year*, *hares*, *lynxes*, *carrots* \n",
    "  * Plot the 3 populations over the years\n",
    "  * Compute the main statistical properties of the dataset (mean, std, correlations, etc.)\n",
    "  * Which species has the highest population each year?\n",
    "\n",
    "Do you feel there is some evident correlation here? [Studies](https://www.enr.gov.nt.ca/en/services/lynx/lynx-snowshoe-hare-cycle) tend to believe so."
   ]
  },
  {
   "cell_type": "code",
   "execution_count": null,
   "metadata": {},
   "outputs": [],
   "source": [
    "! wget https://www.dropbox.com/s/3vigxoqayo389uc/populations.txt"
   ]
  },
  {
   "cell_type": "code",
   "execution_count": null,
   "metadata": {},
   "outputs": [],
   "source": [
    "import numpy as np\n",
    "import matplotlib.pyplot as plt\n",
    "\n",
    "file = np.loadtxt('populations.txt')\n",
    "#print(\"shape of data:\", file.shape)\n",
    "#print(\"datatype of data:\", file.dtype)\n",
    "years = file[:,0]\n",
    "hares = file[:,1]\n",
    "lynxes = file[:,2]\n",
    "carrots = file[:,3]\n",
    "\n",
    "plt.plot(years, hares, years, lynxes, years, carrots)\n",
    "plt.xlabel('Years')\n",
    "labels = ['Hares', 'Lynxes', 'Carrots']\n",
    "plt.legend(labels)\n",
    "plt.xticks(np.linspace(np.min(years),np.max(years), 6))\n",
    "plt.show()\n",
    "\n",
    "means = np.array([np.mean(hares), np.mean(lynxes), np.mean(carrots)])\n",
    "for i in range(0,3):\n",
    "    print('Mean', labels[i], means[i])\n",
    "    \n",
    "stds = np.array([np.std(hares), np.std(lynxes), np.std(carrots)])\n",
    "for i in range(0,3):\n",
    "    print('\\nSTD', labels[i], means[i], '\\n')   \n",
    "\n",
    "corr = np.array([[np.corrcoef(hares, hares), np.corrcoef(hares, lynxes), np.corrcoef(hares, carrots)],\n",
    "                [np.corrcoef(lynxes, hares), np.corrcoef(lynxes, lynxes), np.corrcoef(lynxes, carrots)],\n",
    "                [np.corrcoef(carrots, hares), np.corrcoef(carrots, lynxes), np.corrcoef(carrots, carrots)]])\n",
    "for i in range(0,3):\n",
    "    for j in range(0,3):\n",
    "        print('Cross Correlation', labels[i], '-', labels[j], '\\n', corr[i,j], '\\n')\n",
    "        \n",
    "highest_pop_year = {}\n",
    "# calculate max along rows for each year\n",
    "max_n = np.max(file[:, 1:], axis=1)\n",
    "for i, y in enumerate(years):\n",
    "    if max_n[i] == hares[i]:\n",
    "        highest_pop_year[str(int(y))] = 'Hares'\n",
    "    elif max_n[i] == lynxes[i]:\n",
    "        highest_pop_year[str(int(y))] = 'Lynxes'\n",
    "    else:\n",
    "        highest_pop_year[str(int(y))] = 'Carrots'\n",
    "\n",
    "print('Highest population per year:\\n', highest_pop_year)"
   ]
  },
  {
   "cell_type": "code",
   "execution_count": null,
   "metadata": {},
   "outputs": [],
   "source": []
  }
 ],
 "metadata": {
  "kernelspec": {
   "display_name": "Python 3",
   "language": "python",
   "name": "python3"
  },
  "language_info": {
   "codemirror_mode": {
    "name": "ipython",
    "version": 3
   },
   "file_extension": ".py",
   "mimetype": "text/x-python",
   "name": "python",
   "nbconvert_exporter": "python",
   "pygments_lexer": "ipython3",
   "version": "3.8.3"
  }
 },
 "nbformat": 4,
 "nbformat_minor": 2
}
