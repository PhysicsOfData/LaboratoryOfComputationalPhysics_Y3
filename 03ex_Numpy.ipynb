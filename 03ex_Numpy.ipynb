{
 "cells": [
  {
   "cell_type": "markdown",
   "metadata": {},
   "source": [
    "### Numpy basics"
   ]
  },
  {
   "cell_type": "markdown",
   "metadata": {},
   "source": [
    "1\\. Find the row, column and overall means for the following matrix:\n",
    "\n",
    "```python\n",
    "m = np.arange(12).reshape((3,4))\n",
    "```"
   ]
  },
  {
   "cell_type": "code",
   "execution_count": 7,
   "metadata": {},
   "outputs": [
    {
     "name": "stdout",
     "output_type": "stream",
     "text": [
      "[[ 0  1  2  3]\n",
      " [ 4  5  6  7]\n",
      " [ 8  9 10 11]]\n",
      "Rank of the array: 2\n",
      "Shape of the array (rows, columns): (3, 4)\n",
      "Size of the first dimension (rows): 3\n"
     ]
    }
   ],
   "source": [
    "import numpy as np\n",
    "\n",
    "m = np.arange(12).reshape((3,4))\n",
    "\n",
    "print(m)\n",
    "print(\"Rank of the array:\", m.ndim)\n",
    "print(\"Shape of the array (rows, columns):\", m.shape)\n",
    "print(\"Size of the first dimension (rows):\", len(m))"
   ]
  },
  {
   "cell_type": "markdown",
   "metadata": {},
   "source": [
    "2\\. Find the outer product of the following two vecotrs\n",
    "\n",
    "```python\n",
    "u = np.array([1,3,5,7])\n",
    "v = np.array([2,4,6,8])\n",
    "```\n",
    "\n",
    "Do this in the following ways:\n",
    "\n",
    "   * Using the function outer in numpy\n",
    "   * Using a nested for loop or list comprehension\n",
    "   * Using numpy broadcasting operatoins\n"
   ]
  },
  {
   "cell_type": "code",
   "execution_count": 45,
   "metadata": {},
   "outputs": [
    {
     "name": "stdout",
     "output_type": "stream",
     "text": [
      "u =  [1 3 5 7]\n",
      "v =  [2 4 6 8]\n",
      "Outer product between u and v, 1st method:\n",
      "[[ 2  4  6  8]\n",
      " [ 6 12 18 24]\n",
      " [10 20 30 40]\n",
      " [14 28 42 56]]\n",
      "Outer product between u and v, 2nd method:\n",
      "[[ 2  4  6  8]\n",
      " [ 6 12 18 24]\n",
      " [10 20 30 40]\n",
      " [14 28 42 56]]\n",
      "Outer product between u and v, 3rd method:\n",
      "[[ 2  4  6  8]\n",
      " [ 6 12 18 24]\n",
      " [10 20 30 40]\n",
      " [14 28 42 56]]\n"
     ]
    }
   ],
   "source": [
    "import numpy as np\n",
    "\n",
    "u = np.array([1,3,5,7])\n",
    "print(\"u = \", u)\n",
    "v = np.array([2,4,6,8])\n",
    "print(\"v = \", v)\n",
    "\n",
    "#1st method\n",
    "print(\"Outer product between u and v, 1st method:\")\n",
    "w1 = np.outer(u, v)\n",
    "print(w1)\n",
    "#2nd method\n",
    "print(\"Outer product between u and v, 2nd method:\")\n",
    "w2 = np.array([u[i]*v for i in range(0, len(u))])\n",
    "print(w2)\n",
    "#3rd method\n",
    "print(\"Outer product between u and v, 3rd method:\")\n",
    "p = np.tile(v, (4, 1))\n",
    "t = u.copy()\n",
    "t.shape = (4, 1)\n",
    "w3 = p*t\n",
    "print(w3)\n",
    "        \n",
    "        "
   ]
  },
  {
   "cell_type": "markdown",
   "metadata": {},
   "source": [
    "3\\. Create a 10 by 6 matrix of random uniform numbers. Set all rows with any entry less than 0.1 to be zero\n",
    "\n",
    "Hint: Use the following numpy functions - np.random.random, np.any as well as Boolean indexing and the axis argument."
   ]
  },
  {
   "cell_type": "code",
   "execution_count": 44,
   "metadata": {},
   "outputs": [
    {
     "name": "stdout",
     "output_type": "stream",
     "text": [
      "10x6 matrix of uniform random numbers:\n",
      "a = [[0.3177155  0.60355677 0.28052848 0.41740287 0.87886807 0.86755181]\n",
      " [0.10735213 0.94894977 0.54327181 0.7069175  0.8003522  0.08980991]\n",
      " [0.67191169 0.35588602 0.90881064 0.85979763 0.44418955 0.77000815]\n",
      " [0.51717615 0.04816837 0.12247634 0.97534924 0.53257229 0.0773956 ]\n",
      " [0.8068968  0.7070252  0.24174951 0.09575175 0.83277972 0.29821402]\n",
      " [0.72073326 0.97581714 0.71445391 0.43569205 0.90276841 0.2010518 ]\n",
      " [0.03248014 0.2441213  0.79121757 0.42829887 0.20074399 0.68221423]\n",
      " [0.64360424 0.55890417 0.30304326 0.29332259 0.63257694 0.98998628]\n",
      " [0.18459398 0.40435112 0.80216358 0.08929485 0.10607559 0.23799005]\n",
      " [0.05194541 0.47061905 0.49857635 0.20531685 0.75008729 0.98122572]]\n",
      "\n",
      "\n",
      "Modified matrix:\n",
      " [[0.3177155  0.60355677 0.28052848 0.41740287 0.87886807 0.86755181]\n",
      " [0.         0.         0.         0.         0.         0.        ]\n",
      " [0.67191169 0.35588602 0.90881064 0.85979763 0.44418955 0.77000815]\n",
      " [0.         0.         0.         0.         0.         0.        ]\n",
      " [0.         0.         0.         0.         0.         0.        ]\n",
      " [0.72073326 0.97581714 0.71445391 0.43569205 0.90276841 0.2010518 ]\n",
      " [0.         0.         0.         0.         0.         0.        ]\n",
      " [0.64360424 0.55890417 0.30304326 0.29332259 0.63257694 0.98998628]\n",
      " [0.         0.         0.         0.         0.         0.        ]\n",
      " [0.         0.         0.         0.         0.         0.        ]]\n"
     ]
    }
   ],
   "source": [
    "import numpy as np\n",
    "\n",
    "a = np.random.rand(10, 6)\n",
    "print (\"10x6 matrix of uniform random numbers:\\na =\", a)\n",
    "print('\\n')\n",
    "\n",
    "for i in range(0, len(a)):\n",
    "    if np.any(a[i] < 0.1) == True:\n",
    "        a[i] = np.zeros((1, 6))\n",
    "    else:\n",
    "        a[i] = a[i]\n",
    "\n",
    "print (\"Modified matrix:\\n\", a)"
   ]
  },
  {
   "cell_type": "markdown",
   "metadata": {},
   "source": [
    "4\\. Use np.linspace to create an array of 100 numbers between 0 and 2π (includsive).\n",
    "\n",
    "  * Extract every 10th element using slice notation\n",
    "  * Reverse the array using slice notation\n",
    "  * Extract elements where the absolute difference between the sine and cosine functions evaluated at that element is less than 0.1\n",
    "  * Make a plot showing the sin and cos functions and indicate where they are close"
   ]
  },
  {
   "cell_type": "code",
   "execution_count": 90,
   "metadata": {},
   "outputs": [
    {
     "name": "stdout",
     "output_type": "stream",
     "text": [
      "Array of 100 numbers between 0 and 2*pi:\n",
      "a = [0.         0.06346652 0.12693304 0.19039955 0.25386607 0.31733259\n",
      " 0.38079911 0.44426563 0.50773215 0.57119866 0.63466518 0.6981317\n",
      " 0.76159822 0.82506474 0.88853126 0.95199777 1.01546429 1.07893081\n",
      " 1.14239733 1.20586385 1.26933037 1.33279688 1.3962634  1.45972992\n",
      " 1.52319644 1.58666296 1.65012947 1.71359599 1.77706251 1.84052903\n",
      " 1.90399555 1.96746207 2.03092858 2.0943951  2.15786162 2.22132814\n",
      " 2.28479466 2.34826118 2.41172769 2.47519421 2.53866073 2.60212725\n",
      " 2.66559377 2.72906028 2.7925268  2.85599332 2.91945984 2.98292636\n",
      " 3.04639288 3.10985939 3.17332591 3.23679243 3.30025895 3.36372547\n",
      " 3.42719199 3.4906585  3.55412502 3.61759154 3.68105806 3.74452458\n",
      " 3.8079911  3.87145761 3.93492413 3.99839065 4.06185717 4.12532369\n",
      " 4.1887902  4.25225672 4.31572324 4.37918976 4.44265628 4.5061228\n",
      " 4.56958931 4.63305583 4.69652235 4.75998887 4.82345539 4.88692191\n",
      " 4.95038842 5.01385494 5.07732146 5.14078798 5.2042545  5.26772102\n",
      " 5.33118753 5.39465405 5.45812057 5.52158709 5.58505361 5.64852012\n",
      " 5.71198664 5.77545316 5.83891968 5.9023862  5.96585272 6.02931923\n",
      " 6.09278575 6.15625227 6.21971879 6.28318531] \n",
      "\n",
      "Array of ever 10th element of a:\n",
      " [0.         0.63466518 1.26933037 1.90399555 2.53866073 3.17332591\n",
      " 3.8079911  4.44265628 5.07732146 5.71198664] \n",
      "\n",
      "Reversed a array:\n",
      " [6.28318531 6.21971879 6.15625227 6.09278575 6.02931923 5.96585272\n",
      " 5.9023862  5.83891968 5.77545316 5.71198664 5.64852012 5.58505361\n",
      " 5.52158709 5.45812057 5.39465405 5.33118753 5.26772102 5.2042545\n",
      " 5.14078798 5.07732146 5.01385494 4.95038842 4.88692191 4.82345539\n",
      " 4.75998887 4.69652235 4.63305583 4.56958931 4.5061228  4.44265628\n",
      " 4.37918976 4.31572324 4.25225672 4.1887902  4.12532369 4.06185717\n",
      " 3.99839065 3.93492413 3.87145761 3.8079911  3.74452458 3.68105806\n",
      " 3.61759154 3.55412502 3.4906585  3.42719199 3.36372547 3.30025895\n",
      " 3.23679243 3.17332591 3.10985939 3.04639288 2.98292636 2.91945984\n",
      " 2.85599332 2.7925268  2.72906028 2.66559377 2.60212725 2.53866073\n",
      " 2.47519421 2.41172769 2.34826118 2.28479466 2.22132814 2.15786162\n",
      " 2.0943951  2.03092858 1.96746207 1.90399555 1.84052903 1.77706251\n",
      " 1.71359599 1.65012947 1.58666296 1.52319644 1.45972992 1.3962634\n",
      " 1.33279688 1.26933037 1.20586385 1.14239733 1.07893081 1.01546429\n",
      " 0.95199777 0.88853126 0.82506474 0.76159822 0.6981317  0.63466518\n",
      " 0.57119866 0.50773215 0.44426563 0.38079911 0.31733259 0.25386607\n",
      " 0.19039955 0.12693304 0.06346652 0.        ] \n",
      "\n",
      "Elements of vector a for which the absolute difference between the sine and cosine functions evaluated at that element is less than 0.1:  [0.76159822 0.82506474 3.87145761 3.93492413] \n",
      "\n",
      "The graph below shows sin and cos functions and the two peaks indicates where the two functions are close\n"
     ]
    },
    {
     "data": {
      "image/png": "[encoded data removed]",
      "text/plain": [
       "<Figure size 432x288 with 1 Axes>"
      ]
     },
     "metadata": {
      "needs_background": "light"
     },
     "output_type": "display_data"
    }
   ],
   "source": [
    "import numpy as np\n",
    "import matplotlib.pyplot as plt\n",
    "\n",
    "a = np.linspace(0, 2*np.pi, 100)\n",
    "print(\"Array of 100 numbers between 0 and 2*pi:\\na =\", a, '\\n')\n",
    "\n",
    "print(\"Array of ever 10th element of a:\\n\", a[::10], '\\n')\n",
    "\n",
    "print(\"Reversed a array:\\n\", a[::-1], '\\n')\n",
    "\n",
    "mask = (abs(np.sin(a) - np.cos(a)) < 0.1)\n",
    "#print(mask)\n",
    "filtered_a = a[mask]\n",
    "print(\"Elements of vector a for which the absolute difference between the sine and cosine functions evaluated at that element is less than 0.1: \", filtered_a, '\\n')\n",
    "\n",
    "s = np.sin(a)\n",
    "c = np.cos(a)\n",
    "for i in range(0, len(filtered_a)):\n",
    "    itemindex = np.where(a == filtered_a[i])\n",
    "    s[itemindex] = 2\n",
    "    c[itemindex] = 2\n",
    "print(\"The graph below shows sin and cos functions and the two peaks indicates where the two functions are close\")\n",
    "%matplotlib inline\n",
    "plt.plot(a, s, 'r')\n",
    "plt.plot(a, c, 'b')\n",
    "plt.show()"
   ]
  },
  {
   "cell_type": "markdown",
   "metadata": {},
   "source": [
    "5\\. Create a matrix that shows the 10 by 10 multiplication table.\n",
    "\n",
    " * Find the trace of the matrix\n",
    " * Extract the anto-diagonal (this should be ```array([10, 18, 24, 28, 30, 30, 28, 24, 18, 10])```)\n",
    " * Extract the diagnoal offset by 1 upwards (this should be ```array([ 2,  6, 12, 20, 30, 42, 56, 72, 90])```)"
   ]
  },
  {
   "cell_type": "code",
   "execution_count": 28,
   "metadata": {},
   "outputs": [
    {
     "name": "stdout",
     "output_type": "stream",
     "text": [
      "10 by 10 multiplication table (matrix): \n",
      " [[  1   2   3   4   5   6   7   8   9  10]\n",
      " [  2   4   6   8  10  12  14  16  18  20]\n",
      " [  3   6   9  12  15  18  21  24  27  30]\n",
      " [  4   8  12  16  20  24  28  32  36  40]\n",
      " [  5  10  15  20  25  30  35  40  45  50]\n",
      " [  6  12  18  24  30  36  42  48  54  60]\n",
      " [  7  14  21  28  35  42  49  56  63  70]\n",
      " [  8  16  24  32  40  48  56  64  72  80]\n",
      " [  9  18  27  36  45  54  63  72  81  90]\n",
      " [ 10  20  30  40  50  60  70  80  90 100]] \n",
      "\n",
      "Anti-diagonal of the matrix: \n",
      " [10 18 24 28 30 30 28 24 18 10] \n",
      "\n",
      "Diagonal offset by 1 upwards of the matrix: \n",
      " [ 2  6 12 20 30 42 56 72 90]\n"
     ]
    }
   ],
   "source": [
    "import numpy as np\n",
    "\n",
    "a = np.arange(1, 11)\n",
    "mt = a * (a[:,np.newaxis])\n",
    "print(\"10 by 10 multiplication table (matrix): \\n\", mt, '\\n')\n",
    "\n",
    "flipped_mt = np.fliplr(mt)\n",
    "print(\"Anti-diagonal of the matrix: \\n\", flipped_mt.diagonal(), '\\n')\n",
    "\n",
    "ud = np.array([],'uint32')\n",
    "for i in range(0, len(mt)-1):\n",
    "    ud = np.append(ud, mt[i][i+1])\n",
    "print(\"Diagonal offset by 1 upwards of the matrix: \\n\", ud)"
   ]
  },
  {
   "cell_type": "markdown",
   "metadata": {},
   "source": [
    "6\\. Use broadcasting to create a grid of distances\n",
    "\n",
    "Route 66 crosses the following cities in the US: Chicago, Springfield, Saint-Louis, Tulsa, Oklahoma City, Amarillo, Santa Fe, Albuquerque, Flagstaff, Los Angeles\n",
    "The corresponding positions in miles are: 0, 198, 303, 736, 871, 1175, 1475, 1544, 1913, 2448\n",
    "\n",
    "  * Construct a 2D grid of distances among each city along Route 66\n",
    "  * Convert that in km (those savages...)"
   ]
  },
  {
   "cell_type": "code",
   "execution_count": 4,
   "metadata": {},
   "outputs": [
    {
     "name": "stdout",
     "output_type": "stream",
     "text": [
      "2D array of distances (in miles) between every city along Route 66: \n",
      " [[   0  198  303  736  871 1175 1475 1544 1913 2448]\n",
      " [ 198    0  105  538  673  977 1277 1346 1715 2250]\n",
      " [ 303  105    0  433  568  872 1172 1241 1610 2145]\n",
      " [ 736  538  433    0  135  439  739  808 1177 1712]\n",
      " [ 871  673  568  135    0  304  604  673 1042 1577]\n",
      " [1175  977  872  439  304    0  300  369  738 1273]\n",
      " [1475 1277 1172  739  604  300    0   69  438  973]\n",
      " [1544 1346 1241  808  673  369   69    0  369  904]\n",
      " [1913 1715 1610 1177 1042  738  438  369    0  535]\n",
      " [2448 2250 2145 1712 1577 1273  973  904  535    0]] \n",
      "\n",
      "2D array of distances (in km) between every city along Route 66: \n",
      " [[   0.       318.64932  487.63002 1184.47424 1401.73514 1890.9745\n",
      "  2373.7765  2484.82096 3078.66742 3939.66432]\n",
      " [ 318.64932    0.       168.9807   865.82492 1083.08582 1572.32518\n",
      "  2055.12718 2166.17164 2760.0181  3621.015  ]\n",
      " [ 487.63002  168.9807     0.       696.84422  914.10512 1403.34448\n",
      "  1886.14648 1997.19094 2591.0374  3452.0343 ]\n",
      " [1184.47424  865.82492  696.84422    0.       217.2609   706.50026\n",
      "  1189.30226 1300.34672 1894.19318 2755.19008]\n",
      " [1401.73514 1083.08582  914.10512  217.2609     0.       489.23936\n",
      "   972.04136 1083.08582 1676.93228 2537.92918]\n",
      " [1890.9745  1572.32518 1403.34448  706.50026  489.23936    0.\n",
      "   482.802    593.84646 1187.69292 2048.68982]\n",
      " [2373.7765  2055.12718 1886.14648 1189.30226  972.04136  482.802\n",
      "     0.       111.04446  704.89092 1565.88782]\n",
      " [2484.82096 2166.17164 1997.19094 1300.34672 1083.08582  593.84646\n",
      "   111.04446    0.       593.84646 1454.84336]\n",
      " [3078.66742 2760.0181  2591.0374  1894.19318 1676.93228 1187.69292\n",
      "   704.89092  593.84646    0.       860.9969 ]\n",
      " [3939.66432 3621.015   3452.0343  2755.19008 2537.92918 2048.68982\n",
      "  1565.88782 1454.84336  860.9969     0.     ]]\n"
     ]
    }
   ],
   "source": [
    "import numpy as np\n",
    "\n",
    "#cities = np.array([\"Chicago\", \"Springfield\", \"Saint-Louis\", \"Tulsa\", \"Oklahoma City\", \"Amarillo\", \"Santa Fe\", \"Albuquerque\", \"Flagstaff\", \"Los Angeles\"])\n",
    "positions = np.array([0, 198, 303, 736, 871, 1175, 1475, 1544, 1913, 2448])\n",
    "distances = np.abs(positions - positions[:, np.newaxis])\n",
    "print(\"2D array of distances (in miles) between every city along Route 66: \\n\", distances, '\\n')\n",
    "Distances = distances * 1.60934\n",
    "print(\"2D array of distances (in km) between every city along Route 66: \\n\", Distances)"
   ]
  },
  {
   "cell_type": "markdown",
   "metadata": {},
   "source": [
    "7\\. Prime numbers sieve: compute the prime numbers in the 0-N (N=99 to start with) range with a sieve (mask).\n",
    "  * Constract a shape (100,) boolean array, the mask\n",
    "  * Identify the multiples of each number starting from 2 and set accordingly the corresponding mask element\n",
    "  * Apply the mask to obtain an array of ordered prime numbers\n",
    "  * Check the performances (timeit); how does it scale with N?\n",
    "  * Implement the optimization suggested in the [sieve of Eratosthenes](https://en.wikipedia.org/wiki/Sieve_of_Eratosthenes)"
   ]
  },
  {
   "cell_type": "code",
   "execution_count": 13,
   "metadata": {},
   "outputs": [
    {
     "name": "stdout",
     "output_type": "stream",
     "text": [
      "Insert N: 100\n",
      "Prime numbers between 0 and N: \n",
      " [ 2  3  5  7 11 13 17 19 23 29 31 37 41 43 47 53 59 61 67 71 73 79 83 89\n",
      " 97]\n",
      "Prime numbers between 0 and N using sieve of Eratosthenes optimization: \n",
      " [ 2  3  5  7 11 13 17 19 23 29 31 37 41 43 47 53 59 61 67 71 73 79 83 89\n",
      " 97]\n"
     ]
    },
    {
     "data": {
      "image/png": "[encoded data removed]",
      "text/plain": [
       "<Figure size 432x288 with 1 Axes>"
      ]
     },
     "metadata": {
      "needs_background": "light"
     },
     "output_type": "display_data"
    }
   ],
   "source": [
    "import numpy as np\n",
    "import math as m\n",
    "from matplotlib import pyplot as plt\n",
    "\n",
    "def prime_calc(N):\n",
    "    a = np.arange(0, N)\n",
    "    for i in range(2, int(m.sqrt(N))):\n",
    "        filtered_a = a[(a % i == 0)*(a / i != 1)]\n",
    "        #print(\"filtered_a \", filtered_a)\n",
    "        for n in range(0, len(filtered_a)):\n",
    "            itemindex = np.where(a == filtered_a[n])\n",
    "            a = np.delete(a, itemindex)\n",
    "    a = np.delete(a, 0)   #for convention 1 is not prime\n",
    "    print(\"Prime numbers between 0 and N: \\n\", a)\n",
    "\n",
    "def Eratosthenes(N):\n",
    "    a = np.arange(3, N, 2)\n",
    "    a = np.insert(a, 0, 2)\n",
    "    for i in range(1, np.max(np.where(a <= int(m.sqrt(N))))):\n",
    "        filtered_a = a[(a % a[i] == 0)*(a / a[i] != 1)]\n",
    "        #print(\"filtered_a \", filtered_a)\n",
    "        for n in range(0, len(filtered_a)):\n",
    "            itemindex = np.where(a == filtered_a[n])\n",
    "            a = np.delete(a, itemindex)\n",
    "    print(\"Prime numbers between 0 and N using sieve of Eratosthenes optimization: \\n\", a)\n",
    "    \n",
    "n = input(\"Insert N: \")\n",
    "n = int(n)\n",
    "prime_calc(n)\n",
    "Eratosthenes(n)\n",
    "\n",
    "#%timeit prime_calc(n)\n",
    "#n = 100 => 2.53 ms +- 150 us per loop\n",
    "#n = 1000 => 23.4 ms +- 332 us per loop\n",
    "#n = 10000 => 352 ms +- 10.5 ms per loop\n",
    "#n = 20000 => 908 ms +- 19.4 ms per loop\n",
    "#n = 30000 => 1.65 s +- 2.32 ms per loop\n",
    "#n = 40000 => 2.61 s +- 9.2 ms per loop\n",
    "#n = 50000 => 3.74 s +- 53.8 ms per loop\n",
    "\n",
    "#%timeit Eratosthenes(n)\n",
    "#n = 100 => 1.21 ms +- 30.5 us per loop\n",
    "#n = 1000 => 9.82 ms +- 390 us per loop\n",
    "#n = 10000 => 132 ms +- 3.5 ms per loop\n",
    "#n = 20000 => 310 ms +- 3.24 ms per loop\n",
    "#n = 30000 => 535 ms +- 4.54 ms per loop\n",
    "#n = 40000 => 816 ms +- 5.83 ms per loop\n",
    "#n = 50000 => 1.15 s +- 7.93 ms per loop\n",
    "\n",
    "X = np.array([100, 1000, 10000, 20000, 30000, 40000, 50000])\n",
    "X = np.log10(X)\n",
    "Y1 = np.array([0.00253, 0.0234, 0.352, 0.908, 1.65, 2.61, 3.74])\n",
    "Y1 = np.log10(Y1)\n",
    "Y2 = np.array([0.00121, 0.00982, 0.132, 0.310, 0.535, 0.816, 1.15])\n",
    "Y2 = np.log10(Y2)\n",
    "plt.xlabel('log10(N)')\n",
    "plt.ylabel('log10(t)')\n",
    "plt.title('Time per loop vs N')\n",
    "plt.plot(X, Y1, color=\"red\", marker=\"o\", linestyle=\"\", label='Non optimized')\n",
    "plt.plot(X, Y2, color=\"blue\", marker=\"x\", linestyle=\"\", label='Optimized with sieve of Eratosthenes')\n",
    "plt.legend(loc=\"upper left\")\n",
    "plt.show()"
   ]
  },
  {
   "cell_type": "markdown",
   "metadata": {},
   "source": [
    "8\\. Diffusion using random walk\n",
    "\n",
    "Consider a simple random walk process: at each step in time, a walker jumps right or left (+1 or -1) with equal probability. The goal is to find the typical distance from the origin of a random walker after a given amount of time. \n",
    "To do that, let's simulate many walkers and create a 2D array with each walker as a raw and the actual time evolution as columns\n",
    "\n",
    "  * Take 1000 walkers and let them walk for 200 steps\n",
    "  * Use randint to create a 2D array of size walkers x steps with values -1 or 1\n",
    "  * Build the actual walking distances for each walker (i.e. another 2D array \"summing on each raw\")\n",
    "  * Take the square of that 2D array (elementwise)\n",
    "  * Compute the mean of the squared distances at each step (i.e. the mean along the columns)\n",
    "  * Plot the average distances (sqrt(distance\\*\\*2)) as a function of time (step)\n",
    "  \n",
    "Did you get what you expected?"
   ]
  },
  {
   "cell_type": "code",
   "execution_count": 35,
   "metadata": {},
   "outputs": [
    {
     "data": {
      "image/png": "[encoded data removed]",
      "text/plain": [
       "<Figure size 432x288 with 1 Axes>"
      ]
     },
     "metadata": {
      "needs_background": "light"
     },
     "output_type": "display_data"
    }
   ],
   "source": [
    "import numpy as np\n",
    "from matplotlib import pyplot as plt\n",
    "\n",
    "w = np.random.randint(-1, 1, (1000, 200))\n",
    "w[w == 0] = 1\n",
    "s = w.sum(axis = 1)\n",
    "s = s.reshape(1000, 1)\n",
    "sq = s**2\n",
    "\n",
    "#print(\"2D array of 1000 walkers x 200 time steps: \\n\", w)\n",
    "#print(\"Walking distances for each walker: \\n\", s)\n",
    "#print(\"Squares of the walking distances for each walker: \\n\", sq)\n",
    "\n",
    "X = np.arange(0, 200)\n",
    "m = np.array([])\n",
    "for i in range(0, 200):\n",
    "    ps = np.sum(w[:, :i+1], axis = 1)\n",
    "    ps = ps.reshape(1000, 1)\n",
    "    ps = ps**2\n",
    "    m = np.append(m, ps.mean())\n",
    "#print(\"Mean of the squared distances at each time step: \\n\", m)\n",
    "Y = np.sqrt(m)\n",
    "\n",
    "plt.xlabel('Time steps')\n",
    "plt.ylabel('Average distances')\n",
    "plt.title('Average distances in function of time steps')\n",
    "plt.plot(X, Y, color=\"blue\", marker=\"o\", linestyle=\"\")\n",
    "plt.show()"
   ]
  },
  {
   "cell_type": "markdown",
   "metadata": {},
   "source": [
    "9\\. Analyze a data file \n",
    "  * Download the population of hares, lynxes and carrots at the beginning of the last century.\n",
    "    ```python\n",
    "    ! wget https://www.dropbox.com/s/3vigxoqayo389uc/populations.txt\n",
    "    ```\n",
    "\n",
    "  * Check the content by looking within the file\n",
    "  * Load the data (use an appropriate numpy method) into a 2D array\n",
    "  * Create arrays out of the columns, the arrays being (in order): *year*, *hares*, *lynxes*, *carrots* \n",
    "  * Plot the 3 populations over the years\n",
    "  * Compute the main statistical properties of the dataset (mean, std, correlations, etc.)\n",
    "  * Which species has the highest population each year?\n",
    "\n",
    "Do you feel there is some evident correlation here? [Studies](https://www.enr.gov.nt.ca/en/services/lynx/lynx-snowshoe-hare-cycle) tend to believe so."
   ]
  },
  {
   "cell_type": "code",
   "execution_count": 31,
   "metadata": {},
   "outputs": [
    {
     "data": {
      "image/png": "[encoded data removed]",
      "text/plain": [
       "<Figure size 432x288 with 1 Axes>"
      ]
     },
     "metadata": {
      "needs_background": "light"
     },
     "output_type": "display_data"
    },
    {
     "name": "stdout",
     "output_type": "stream",
     "text": [
      "Main statistical properties: \n",
      "\n",
      "Hares\n",
      "max 77400.0\n",
      "min 7600.0\n",
      "mean 34080.95238095238\n",
      "median 25400.0\n",
      "std 20897.906458089667\n",
      "\n",
      "\n",
      "Lynxes\n",
      "max 59400.0\n",
      "min 4000.0\n",
      "mean 20166.666666666668\n",
      "median 12300.0\n",
      "std 16254.591536908763\n",
      "\n",
      "\n",
      "Carrots\n",
      "max 48300.0\n",
      "min 36700.0\n",
      "mean 42400.0\n",
      "median 41800.0\n",
      "std 3322.5062255844787\n",
      "\n",
      "\n",
      "In 1900.0 the highest population was reached by Carrots with a value of 48300.0\n",
      "In 1901.0 the highest population was reached by Carrots with a value of 48200.0\n",
      "In 1902.0 the highest population was reached by Hares with a value of 70200.0\n",
      "In 1903.0 the highest population was reached by Hares with a value of 77400.0\n",
      "In 1904.0 the highest population was reached by Lynxes with a value of 59400.0\n",
      "In 1905.0 the highest population was reached by Lynxes with a value of 41700.0\n",
      "In 1906.0 the highest population was reached by Carrots with a value of 38600.0\n",
      "In 1907.0 the highest population was reached by Carrots with a value of 42300.0\n",
      "In 1908.0 the highest population was reached by Carrots with a value of 44500.0\n",
      "In 1909.0 the highest population was reached by Carrots with a value of 42100.0\n",
      "In 1910.0 the highest population was reached by Carrots with a value of 46000.0\n",
      "In 1911.0 the highest population was reached by Carrots with a value of 46800.0\n",
      "In 1912.0 the highest population was reached by Hares with a value of 57000.0\n",
      "In 1913.0 the highest population was reached by Hares with a value of 76600.0\n",
      "In 1914.0 the highest population was reached by Hares with a value of 52300.0\n",
      "In 1915.0 the highest population was reached by Lynxes with a value of 51100.0\n",
      "In 1916.0 the highest population was reached by Carrots with a value of 36700.0\n",
      "In 1917.0 the highest population was reached by Carrots with a value of 41800.0\n",
      "In 1918.0 the highest population was reached by Carrots with a value of 43300.0\n",
      "In 1919.0 the highest population was reached by Carrots with a value of 41300.0\n",
      "In 1920.0 the highest population was reached by Carrots with a value of 47300.0\n"
     ]
    }
   ],
   "source": [
    "import numpy as np\n",
    "from matplotlib import pyplot as plt\n",
    "\n",
    "file_name = \"/Users/Sebastiano/data/populations.txt\"\n",
    "data = np.loadtxt(file_name, ndmin=2)\n",
    "#print(\"Data from datafile into 2D array: \\n\", data)\n",
    "year = data[:, 0]\n",
    "#print(\"Year array from datafile: \\n\", year)\n",
    "hares = data[:, 1]\n",
    "#print(\"Hares array from datafile: \\n\", hares)\n",
    "lynxes = data[:, 2]\n",
    "#print(\"Lynxes array from datafile: \\n\", lynxes)\n",
    "carrots = data[:, 3]\n",
    "#print(\"Carrots array from datafile: \\n\", carrots)\n",
    "\n",
    "plt.xlabel('Years')\n",
    "plt.ylabel('Number of hares, lynxes and carrots')\n",
    "plt.title('Number of hares, lynxes and carrots in function of the years')\n",
    "plt.plot(year, hares, color=\"blue\", marker=\"o\", linestyle=\"-\", label='Hares')\n",
    "plt.plot(year, lynxes, color=\"red\", marker=\"x\", linestyle=\"-\", label='Lynxes')\n",
    "plt.plot(year, carrots, color=\"green\", marker=\"*\", linestyle=\"-\", label='Carrots')\n",
    "plt.legend(loc=\"upper right\")\n",
    "plt.show()\n",
    "\n",
    "print(\"Main statistical properties: \\n\")\n",
    "for i in range(1, 4):\n",
    "    if i == 1:\n",
    "        name = \"Hares\"\n",
    "    elif i == 2:\n",
    "        name = \"Lynxes\"\n",
    "    elif i == 3:\n",
    "        name = \"Carrots\"\n",
    "    print(name)\n",
    "    for function in ['max','min','mean','median','std']:\n",
    "        print(function, getattr(np, function)(data[:, i]))\n",
    "    print('\\n')\n",
    "    \n",
    "for j in range(0, len(data)):\n",
    "    M = np.max(data[j, 1:])\n",
    "    index = np.argmax(data[j, 1:])\n",
    "    if index == 0:\n",
    "        name = \"Hares\"\n",
    "    elif index == 1:\n",
    "        name = \"Lynxes\"\n",
    "    elif index == 2:\n",
    "        name = \"Carrots\"\n",
    "    print(\"In\", data[j, 0], \"the highest population was reached by\", name, \"with a value of\", M)\n",
    "\n",
    "#Assuming a good quality of the measurements, apparently there is correlation between data because the number of prey is related to the number of predators in a reasonable way. However the correlation of the data with the number of carrots is not so evident."
   ]
  }
 ],
 "metadata": {
  "kernelspec": {
   "display_name": "Python 3",
   "language": "python",
   "name": "python3"
  },
  "language_info": {
   "codemirror_mode": {
    "name": "ipython",
    "version": 3
   },
   "file_extension": ".py",
   "mimetype": "text/x-python",
   "name": "python",
   "nbconvert_exporter": "python",
   "pygments_lexer": "ipython3",
   "version": "3.8.3"
  }
 },
 "nbformat": 4,
 "nbformat_minor": 2
}
