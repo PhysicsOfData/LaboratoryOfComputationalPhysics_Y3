{
 "cells": [
  {
   "cell_type": "markdown",
   "metadata": {},
   "source": [
    "### Numpy basics"
   ]
  },
  {
   "cell_type": "markdown",
   "metadata": {},
   "source": [
    "1\\. Find the row, column and overall means for the following matrix:\n",
    "\n",
    "```python\n",
    "m = np.arange(12).reshape((3,4))\n",
    "```"
   ]
  },
  {
   "cell_type": "code",
   "execution_count": 57,
   "metadata": {},
   "outputs": [],
   "source": [
    "import numpy as np\n",
    "import matplotlib.pyplot as plt"
   ]
  },
  {
   "cell_type": "code",
   "execution_count": 20,
   "metadata": {},
   "outputs": [
    {
     "name": "stdout",
     "output_type": "stream",
     "text": [
      "[[ 0  1  2  3]\n",
      " [ 4  5  6  7]\n",
      " [ 8  9 10 11]]\n",
      "overall mean: 5.5\n",
      "row-whise mean: [1.5, 5.5, 9.5]\n",
      "column-whise mean: [4.0, 5.0, 6.0, 7.0]\n"
     ]
    }
   ],
   "source": [
    "m = np.arange(12).reshape((3,4))\n",
    "print(m)\n",
    "\n",
    "print(\"overall mean: \"+str(np.mean(m)))\n",
    "print(\"row-whise mean: \"+str([np.mean(m[r,:]) for r in range(m.shape[0])]))\n",
    "print(\"column-whise mean: \"+str([np.mean(m[:,c]) for c in range(m.shape[1])]))"
   ]
  },
  {
   "cell_type": "markdown",
   "metadata": {},
   "source": [
    "2\\. Find the outer product of the following two vecotrs\n",
    "\n",
    "```python\n",
    "u = np.array([1,3,5,7])\n",
    "v = np.array([2,4,6,8])\n",
    "```\n",
    "\n",
    "Do this in the following ways:\n",
    "\n",
    "   * Using the function outer in numpy\n",
    "   * Using a nested for loop or list comprehension\n",
    "   * Using numpy broadcasting operations\n"
   ]
  },
  {
   "cell_type": "code",
   "execution_count": 31,
   "metadata": {},
   "outputs": [
    {
     "name": "stdout",
     "output_type": "stream",
     "text": [
      "[[ 2  4  6  8]\n",
      " [ 6 12 18 24]\n",
      " [10 20 30 40]\n",
      " [14 28 42 56]]\n",
      "[[ 2  6 10 14]\n",
      " [ 4 12 20 28]\n",
      " [ 6 18 30 42]\n",
      " [ 8 24 40 56]]\n",
      "[[ 2  4  6  8]\n",
      " [ 6 12 18 24]\n",
      " [10 20 30 40]\n",
      " [14 28 42 56]]\n"
     ]
    }
   ],
   "source": [
    "u = np.array([1,3,5,7])\n",
    "v = np.array([2,4,6,8])\n",
    "\n",
    "print(np.outer(u,v))\n",
    "\n",
    "print(np.array([[a*b for a in u] for b in v]))\n",
    "\n",
    "print(u.reshape(-1,1) * v.reshape(1,-1)) #turning them into 2D arrays so we can transpose them"
   ]
  },
  {
   "cell_type": "markdown",
   "metadata": {},
   "source": [
    "3\\. Create a 10 by 6 matrix of random uniform numbers. Set all rows with any entry less than 0.1 to be zero\n",
    "\n",
    "Hint: Use the following numpy functions - np.random.random, np.any as well as Boolean indexing and the axis argument."
   ]
  },
  {
   "cell_type": "code",
   "execution_count": 44,
   "metadata": {},
   "outputs": [
    {
     "name": "stdout",
     "output_type": "stream",
     "text": [
      "[[0.59063646 0.81643703 0.42431961 0.30419069 0.63925876 0.16384975]\n",
      " [0.69001466 0.58161071 0.10706718 0.27707081 0.21097038 0.69406193]\n",
      " [0.48094291 0.83726595 0.15773951 0.96284889 0.9101735  0.77889124]\n",
      " [0.         0.         0.         0.         0.         0.        ]\n",
      " [0.53248411 0.43271818 0.78730519 0.14482602 0.4921617  0.95668023]\n",
      " [0.56755992 0.83543191 0.50343836 0.6569254  0.42526565 0.70602531]\n",
      " [0.87070194 0.41319529 0.70079387 0.39349803 0.53321905 0.8665634 ]\n",
      " [0.         0.         0.         0.         0.         0.        ]\n",
      " [0.         0.         0.         0.         0.         0.        ]\n",
      " [0.87343162 0.34644908 0.12028122 0.98144047 0.688781   0.48651747]]\n"
     ]
    }
   ],
   "source": [
    "m = np.random.rand(10,6)\n",
    "#print(m)\n",
    "mask = np.any(m < 0.1 ,1)\n",
    "m[mask,:] = 0\n",
    "print(m)"
   ]
  },
  {
   "cell_type": "markdown",
   "metadata": {},
   "source": [
    "4\\. Use np.linspace to create an array of 100 numbers between 0 and 2π (includsive).\n",
    "\n",
    "  * Extract every 10th element using slice notation\n",
    "  * Reverse the array using slice notation\n",
    "  * Extract elements where the absolute difference between the sine and cosine functions evaluated at that element is less than 0.1\n",
    "  * Make a plot showing the sin and cos functions and indicate where they are close"
   ]
  },
  {
   "cell_type": "code",
   "execution_count": 67,
   "metadata": {},
   "outputs": [
    {
     "name": "stdout",
     "output_type": "stream",
     "text": [
      "[0.         0.63466518 1.26933037 1.90399555 2.53866073 3.17332591\n",
      " 3.8079911  4.44265628 5.07732146 5.71198664]\n",
      "[6.28318531 6.21971879 6.15625227 6.09278575 6.02931923 5.96585272\n",
      " 5.9023862  5.83891968 5.77545316 5.71198664 5.64852012 5.58505361\n",
      " 5.52158709 5.45812057 5.39465405 5.33118753 5.26772102 5.2042545\n",
      " 5.14078798 5.07732146 5.01385494 4.95038842 4.88692191 4.82345539\n",
      " 4.75998887 4.69652235 4.63305583 4.56958931 4.5061228  4.44265628\n",
      " 4.37918976 4.31572324 4.25225672 4.1887902  4.12532369 4.06185717\n",
      " 3.99839065 3.93492413 3.87145761 3.8079911  3.74452458 3.68105806\n",
      " 3.61759154 3.55412502 3.4906585  3.42719199 3.36372547 3.30025895\n",
      " 3.23679243 3.17332591 3.10985939 3.04639288 2.98292636 2.91945984\n",
      " 2.85599332 2.7925268  2.72906028 2.66559377 2.60212725 2.53866073\n",
      " 2.47519421 2.41172769 2.34826118 2.28479466 2.22132814 2.15786162\n",
      " 2.0943951  2.03092858 1.96746207 1.90399555 1.84052903 1.77706251\n",
      " 1.71359599 1.65012947 1.58666296 1.52319644 1.45972992 1.3962634\n",
      " 1.33279688 1.26933037 1.20586385 1.14239733 1.07893081 1.01546429\n",
      " 0.95199777 0.88853126 0.82506474 0.76159822 0.6981317  0.63466518\n",
      " 0.57119866 0.50773215 0.44426563 0.38079911 0.31733259 0.25386607\n",
      " 0.19039955 0.12693304 0.06346652 0.        ]\n",
      "[0.76159822 0.82506474 3.87145761 3.93492413]\n"
     ]
    },
    {
     "data": {
      "image/png": "[encoded data removed]",
      "text/plain": [
       "<Figure size 432x288 with 1 Axes>"
      ]
     },
     "metadata": {
      "needs_background": "light"
     },
     "output_type": "display_data"
    }
   ],
   "source": [
    "a = np.linspace(0, 2*np.pi, 100)\n",
    "print(a[::10])\n",
    "print(a[::-1])\n",
    "\n",
    "ind = [i for i,v in enumerate(a) if abs(np.cos(v)-np.sin(v)) < 0.1] \n",
    "close = a[ind]\n",
    "print(close)\n",
    "\n",
    "plt.plot(np.sin(a))\n",
    "plt.plot(np.cos(a))\n",
    "plt.scatter(ind,np.sin(close))\n",
    "plt.scatter(ind,np.cos(close))\n",
    "plt.show()"
   ]
  },
  {
   "cell_type": "markdown",
   "metadata": {},
   "source": [
    "5\\. Create a matrix that shows the 10 by 10 multiplication table.\n",
    "\n",
    " * Find the trace of the matrix\n",
    " * Extract the anto-diagonal (this should be ```array([10, 18, 24, 28, 30, 30, 28, 24, 18, 10])```)\n",
    " * Extract the diagnoal offset by 1 upwards (this should be ```array([ 2,  6, 12, 20, 30, 42, 56, 72, 90])```)"
   ]
  },
  {
   "cell_type": "code",
   "execution_count": 95,
   "metadata": {},
   "outputs": [
    {
     "name": "stdout",
     "output_type": "stream",
     "text": [
      "[[  1   2   3   4   5   6   7   8   9  10]\n",
      " [  2   4   6   8  10  12  14  16  18  20]\n",
      " [  3   6   9  12  15  18  21  24  27  30]\n",
      " [  4   8  12  16  20  24  28  32  36  40]\n",
      " [  5  10  15  20  25  30  35  40  45  50]\n",
      " [  6  12  18  24  30  36  42  48  54  60]\n",
      " [  7  14  21  28  35  42  49  56  63  70]\n",
      " [  8  16  24  32  40  48  56  64  72  80]\n",
      " [  9  18  27  36  45  54  63  72  81  90]\n",
      " [ 10  20  30  40  50  60  70  80  90 100]]\n",
      "[10 18 24 28 30 30 28 24 18 10]\n",
      "[ 2  6 12 20 30 42 56 72 90]\n"
     ]
    }
   ],
   "source": [
    "x = np.arange(1,11,1)\n",
    "m = np.outer(x,x)\n",
    "print(m)\n",
    "\n",
    "dx=[r for r in range(0,10)]\n",
    "dy = 9*np.ones(10,np.int8)-dx\n",
    "print(m[dx,dy])\n",
    "\n",
    "print(np.diag(m,1))"
   ]
  },
  {
   "cell_type": "markdown",
   "metadata": {},
   "source": [
    "6\\. Use broadcasting to create a grid of distances\n",
    "\n",
    "Route 66 crosses the following cities in the US: Chicago, Springfield, Saint-Louis, Tulsa, Oklahoma City, Amarillo, Santa Fe, Albuquerque, Flagstaff, Los Angeles\n",
    "The corresponding positions in miles are: 0, 198, 303, 736, 871, 1175, 1475, 1544, 1913, 2448\n",
    "\n",
    "  * Construct a 2D grid of distances among each city along Route 66\n",
    "  * Convert that in km (those savages...)"
   ]
  },
  {
   "cell_type": "code",
   "execution_count": 102,
   "metadata": {},
   "outputs": [
    {
     "name": "stdout",
     "output_type": "stream",
     "text": [
      "[[   0.   318.8  487.8 1185.  1402.3 1891.8 2374.8 2485.8 3079.9 3941.3]\n",
      " [ 318.8    0.   169.   866.2 1083.5 1573.  2056.  2167.1 2761.2 3622.5]\n",
      " [ 487.8  169.     0.   697.1  914.5 1403.9 1886.9 1998.  2592.1 3453.4]\n",
      " [1185.   866.2  697.1    0.   217.4  706.8 1189.8 1300.9 1895.  2756.3]\n",
      " [1402.3 1083.5  914.5  217.4    0.   489.4  972.4 1083.5 1677.6 2539. ]\n",
      " [1891.8 1573.  1403.9  706.8  489.4    0.   483.   594.1 1188.2 2049.5]\n",
      " [2374.8 2056.  1886.9 1189.8  972.4  483.     0.   111.1  705.2 1566.5]\n",
      " [2485.8 2167.1 1998.  1300.9 1083.5  594.1  111.1    0.   594.1 1455.4]\n",
      " [3079.9 2761.2 2592.1 1895.  1677.6 1188.2  705.2  594.1    0.   861.4]\n",
      " [3941.3 3622.5 3453.4 2756.3 2539.  2049.5 1566.5 1455.4  861.4    0. ]]\n"
     ]
    }
   ],
   "source": [
    "miles = np.array([0, 198, 303, 736, 871, 1175, 1475, 1544, 1913, 2448])\n",
    "\n",
    "dist_ml = abs(miles.reshape(-1,1) - miles.reshape(1,-1))\n",
    "dist_km = np.around(dist_ml*1.61,1)\n",
    "print(dist_km)"
   ]
  },
  {
   "cell_type": "markdown",
   "metadata": {},
   "source": [
    "7\\. Prime numbers sieve: compute the prime numbers in the 0-N (N=99 to start with) range with a sieve (mask).\n",
    "  * Constract a shape (100,) boolean array, the mask\n",
    "  * Identify the multiples of each number starting from 2 and set accordingly the corresponding mask element\n",
    "  * Apply the mask to obtain an array of ordered prime numbers\n",
    "  * Check the performances (timeit); how does it scale with N?\n",
    "  * Implement the optimization suggested in the [sieve of Eratosthenes](https://en.wikipedia.org/wiki/Sieve_of_Eratosthenes)"
   ]
  },
  {
   "cell_type": "code",
   "execution_count": 148,
   "metadata": {},
   "outputs": [],
   "source": [
    "def primes(n):\n",
    "    mask = np.ones(n,dtype=bool)\n",
    "    mask[0] = False\n",
    "    mask[1] = False\n",
    "\n",
    "    p = 2\n",
    "    while p**2 < n:\n",
    "        if mask[p]:\n",
    "            mask[p**2:n:p] = False\n",
    "        p += 1\n",
    "        \n",
    "    return np.array(range(n))[mask]"
   ]
  },
  {
   "cell_type": "code",
   "execution_count": 149,
   "metadata": {},
   "outputs": [
    {
     "name": "stdout",
     "output_type": "stream",
     "text": [
      "[ 2  3  5  7 11 13 17 19 23 29 31 37 41 43 47 53 59 61 67 71 73 79 83 89\n",
      " 97]\n"
     ]
    }
   ],
   "source": [
    "print(primes(99))"
   ]
  },
  {
   "cell_type": "code",
   "execution_count": 152,
   "metadata": {},
   "outputs": [
    {
     "name": "stdout",
     "output_type": "stream",
     "text": [
      "19 µs ± 964 ns per loop (mean ± std. dev. of 7 runs, 100000 loops each)\n",
      "27.5 µs ± 293 ns per loop (mean ± std. dev. of 7 runs, 10000 loops each)\n",
      "123 µs ± 5.42 µs per loop (mean ± std. dev. of 7 runs, 10000 loops each)\n"
     ]
    }
   ],
   "source": [
    "%timeit primes(100)\n",
    "%timeit primes(200)\n",
    "%timeit primes(1000) #it does scale less than linearly with N"
   ]
  },
  {
   "cell_type": "markdown",
   "metadata": {},
   "source": [
    "8\\. Diffusion using random walk\n",
    "\n",
    "Consider a simple random walk process: at each step in time, a walker jumps right or left (+1 or -1) with equal probability. The goal is to find the typical distance from the origin of a random walker after a given amount of time. \n",
    "To do that, let's simulate many walkers and create a 2D array with each walker as a raw and the actual time evolution as columns\n",
    "\n",
    "  * Take 1000 walkers and let them walk for 200 steps\n",
    "  * Use randint to create a 2D array of size walkers x steps with values -1 or 1\n",
    "  * Build the actual walking distances for each walker (i.e. another 2D array \"summing on each raw\")\n",
    "  * Take the square of that 2D array (elementwise)\n",
    "  * Compute the mean of the squared distances at each step (i.e. the mean along the columns)\n",
    "  * Plot the average distances (sqrt(distance\\*\\*2)) as a function of time (step)\n",
    "  \n",
    "Did you get what you expected?"
   ]
  },
  {
   "cell_type": "code",
   "execution_count": 190,
   "metadata": {},
   "outputs": [
    {
     "data": {
      "text/plain": [
       "[<matplotlib.lines.Line2D at 0x247b5c3abe0>]"
      ]
     },
     "execution_count": 190,
     "metadata": {},
     "output_type": "execute_result"
    },
    {
     "data": {
      "image/png": "[encoded data removed]",
      "text/plain": [
       "<Figure size 432x288 with 1 Axes>"
      ]
     },
     "metadata": {
      "needs_background": "light"
     },
     "output_type": "display_data"
    }
   ],
   "source": [
    "steps = np.random.randint(0,2,size=(1000,200))\n",
    "steps = (-1)**steps\n",
    "\n",
    "w = np.zeros((1000,200), np.int32)\n",
    "\n",
    "for i in range(200):\n",
    "    w[:,i] = np.sum(steps[:,:i], axis=1)\n",
    "\n",
    "w2 = w*w\n",
    "wm2 = np.mean(w2, axis=0)\n",
    "\n",
    "plt.plot(np.sqrt(wm2))"
   ]
  },
  {
   "cell_type": "code",
   "execution_count": 194,
   "metadata": {},
   "outputs": [
    {
     "data": {
      "image/png": "[encoded data removed]",
      "text/plain": [
       "<Figure size 432x288 with 2 Axes>"
      ]
     },
     "metadata": {
      "needs_background": "light"
     },
     "output_type": "display_data"
    },
    {
     "data": {
      "image/png": "[encoded data removed]",
      "text/plain": [
       "<Figure size 432x288 with 1 Axes>"
      ]
     },
     "metadata": {
      "needs_background": "light"
     },
     "output_type": "display_data"
    }
   ],
   "source": [
    "plt.imshow(w[:10,::5], cmap=plt.cm.hot)    \n",
    "plt.colorbar() \n",
    "plt.show()\n",
    "\n",
    "plt.hist(w[:,199])\n",
    "plt.show()"
   ]
  },
  {
   "cell_type": "markdown",
   "metadata": {},
   "source": [
    "The walkers are progressively getting further away from the starting location, as is to be expected. But as we see from the histogram the distibution of distances is still zero means, since the direction of the step is uniform."
   ]
  },
  {
   "cell_type": "markdown",
   "metadata": {},
   "source": [
    "9\\. Analyze a data file \n",
    "  * Download the population of hares, lynxes and carrots at the beginning of the last century.\n",
    "    ```python\n",
    "    ! wget https://www.dropbox.com/s/3vigxoqayo389uc/populations.txt\n",
    "    ```\n",
    "\n",
    "  * Check the content by looking within the file\n",
    "  * Load the data (use an appropriate numpy method) into a 2D array\n",
    "  * Create arrays out of the columns, the arrays being (in order): *year*, *hares*, *lynxes*, *carrots* \n",
    "  * Plot the 3 populations over the years\n",
    "  * Compute the main statistical properties of the dataset (mean, std, correlations, etc.)\n",
    "  * Which species has the highest population each year?\n",
    "\n",
    "Do you feel there is some evident correlation here? [Studies](https://www.enr.gov.nt.ca/en/services/lynx/lynx-snowshoe-hare-cycle) tend to believe so."
   ]
  },
  {
   "cell_type": "code",
   "execution_count": 204,
   "metadata": {},
   "outputs": [
    {
     "data": {
      "image/png": "[encoded data removed]",
      "text/plain": [
       "<Figure size 432x288 with 1 Axes>"
      ]
     },
     "metadata": {
      "needs_background": "light"
     },
     "output_type": "display_data"
    }
   ],
   "source": [
    "#wget doesn't work on windows so load file from local\n",
    "l = np.loadtxt('populations.txt', np.int32)\n",
    "year = l[:,0]\n",
    "hares = l[:,1]\n",
    "lynxes = l[:,2]\n",
    "carrots = l[:,3]\n",
    "\n",
    "plt.figure()\n",
    "plt.plot(year, hares, label='hares')\n",
    "plt.plot(year, lynxes, label='lynxes')\n",
    "plt.plot(year, carrots, label='carrots')\n",
    "plt.legend()\n",
    "plt.show()"
   ]
  },
  {
   "cell_type": "code",
   "execution_count": 212,
   "metadata": {},
   "outputs": [
    {
     "name": "stdout",
     "output_type": "stream",
     "text": [
      "Hares statistics\n",
      "mean:  34080.95238095238\n",
      "std:  20897.906458089667\n",
      "var:  436722494.3310658\n",
      "min:  7600\n",
      "max:  77400\n",
      "\n",
      "Lynxes statistics\n",
      "mean:  20166.666666666668\n",
      "std:  16254.591536908763\n",
      "var:  264211746.031746\n",
      "min:  4000\n",
      "max:  59400\n",
      "\n",
      "Carrots statistics\n",
      "mean:  42400.0\n",
      "std:  3322.5062255844787\n",
      "var:  11039047.61904762\n",
      "min:  36700\n",
      "max:  48300\n"
     ]
    }
   ],
   "source": [
    "print(\"Hares statistics\")\n",
    "print(\"mean: \",np.mean(hares))\n",
    "print(\"std: \",np.std(hares))\n",
    "print(\"var: \",np.var(hares))\n",
    "print(\"min: \",np.amin(hares))\n",
    "print(\"max: \",np.amax(hares))\n",
    "\n",
    "print(\"\\nLynxes statistics\")\n",
    "print(\"mean: \",np.mean(lynxes))\n",
    "print(\"std: \",np.std(lynxes))\n",
    "print(\"var: \",np.var(lynxes))\n",
    "print(\"min: \",np.amin(lynxes))\n",
    "print(\"max: \",np.amax(lynxes))\n",
    "\n",
    "print(\"\\nCarrots statistics\")\n",
    "print(\"mean: \",np.mean(carrots))\n",
    "print(\"std: \",np.std(carrots))\n",
    "print(\"var: \",np.var(carrots))\n",
    "print(\"min: \",np.amin(carrots))\n",
    "print(\"max: \",np.amax(carrots))\n"
   ]
  },
  {
   "cell_type": "code",
   "execution_count": 221,
   "metadata": {},
   "outputs": [
    {
     "name": "stdout",
     "output_type": "stream",
     "text": [
      "(21, 3)\n"
     ]
    },
    {
     "data": {
      "image/png": "[encoded data removed]",
      "text/plain": [
       "<Figure size 432x288 with 1 Axes>"
      ]
     },
     "metadata": {
      "needs_background": "light"
     },
     "output_type": "display_data"
    }
   ],
   "source": [
    "t = np.vstack((hares,lynxes,carrots)).T\n",
    "print(t.shape)\n",
    "\n",
    "yvalues = ['Hares','Lynxes','Carrots']\n",
    "plt.yticks(np.array([0,1,2]), yvalues)\n",
    "plt.plot(np.argmax(t,1),'o')\n",
    "plt.title(\"Highest population each year\")\n",
    "plt.show()"
   ]
  },
  {
   "cell_type": "code",
   "execution_count": null,
   "metadata": {},
   "outputs": [],
   "source": []
  }
 ],
 "metadata": {
  "kernelspec": {
   "display_name": "Python 3",
   "language": "python",
   "name": "python3"
  },
  "language_info": {
   "codemirror_mode": {
    "name": "ipython",
    "version": 3
   },
   "file_extension": ".py",
   "mimetype": "text/x-python",
   "name": "python",
   "nbconvert_exporter": "python",
   "pygments_lexer": "ipython3",
   "version": "3.7.3"
  }
 },
 "nbformat": 4,
 "nbformat_minor": 2
}
