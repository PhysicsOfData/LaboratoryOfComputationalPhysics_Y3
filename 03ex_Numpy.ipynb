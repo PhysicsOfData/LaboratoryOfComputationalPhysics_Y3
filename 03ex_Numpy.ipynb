{
 "cells": [
  {
   "cell_type": "markdown",
   "metadata": {},
   "source": [
    "### Numpy basics"
   ]
  },
  {
   "cell_type": "markdown",
   "metadata": {},
   "source": [
    "1\\. Find the row, column and overall means for the following matrix:\n",
    "\n",
    "```python\n",
    "m = np.arange(12).reshape((3,4))\n",
    "```"
   ]
  },
  {
   "cell_type": "code",
   "execution_count": 1,
   "metadata": {},
   "outputs": [
    {
     "name": "stdout",
     "output_type": "stream",
     "text": [
      "Number of rows: 3\n",
      "Number of columns: 4\n",
      "[[ 0  1  2  3]\n",
      " [ 4  5  6  7]\n",
      " [ 8  9 10 11]]\n",
      "Mean of the rows: [4.0, 5.0, 6.0, 7.0]\n",
      "Mean of the columns: [1.5, 5.5, 9.5]\n",
      "Total mean: 5.5\n"
     ]
    }
   ],
   "source": [
    "import numpy as np\n",
    "m = np.arange(12).reshape((3,4))\n",
    "print(\"Number of rows:\", m.shape[0])\n",
    "print(\"Number of columns:\", m.shape[1])\n",
    "print(m)\n",
    "rm = list(map(lambda i: np.mean(m[:, i]), range(m.shape[1])))\n",
    "print(\"Mean of the rows:\", rm)\n",
    "cm = list(map(lambda i: np.mean(m[i, :]), range(m.shape[0])))\n",
    "print(\"Mean of the columns:\", cm)\n",
    "print(\"Total mean:\", m.mean())"
   ]
  },
  {
   "cell_type": "markdown",
   "metadata": {},
   "source": [
    "2\\. Find the outer product of the following two vecotrs\n",
    "\n",
    "```python\n",
    "u = np.array([1,3,5,7])\n",
    "v = np.array([2,4,6,8])\n",
    "```\n",
    "\n",
    "Do this in the following ways:\n",
    "\n",
    "   * Using the function outer in numpy\n",
    "   * Using a nested for loop or list comprehension\n",
    "   * Using numpy broadcasting operatoins\n"
   ]
  },
  {
   "cell_type": "code",
   "execution_count": 2,
   "metadata": {},
   "outputs": [
    {
     "name": "stdout",
     "output_type": "stream",
     "text": [
      "[[ 2  4  6  8]\n",
      " [ 6 12 18 24]\n",
      " [10 20 30 40]\n",
      " [14 28 42 56]] \n",
      "\n",
      "[[ 2  4  6  8]\n",
      " [ 6 12 18 24]\n",
      " [10 20 30 40]\n",
      " [14 28 42 56]]\n",
      "\n",
      "\n",
      "[[ 2  4  6  8]\n",
      " [ 6 12 18 24]\n",
      " [10 20 30 40]\n",
      " [14 28 42 56]]\n"
     ]
    }
   ],
   "source": [
    "u = np.array([1,3,5,7])\n",
    "v = np.array([2,4,6,8])\n",
    "\n",
    "o = np.outer(u, v)\n",
    "print(o, \"\\n\")\n",
    "\n",
    "l = np.array([[i*j for j in v] for i in u])\n",
    "print(l)\n",
    "print(\"\\n\")\n",
    " \n",
    "b = np.array([v*u[0], v*u[1], v*u[2], v*u[3]])\n",
    "print(b)"
   ]
  },
  {
   "cell_type": "markdown",
   "metadata": {},
   "source": [
    "3\\. Create a 10 by 6 matrix of random uniform numbers. Set all rows with any entry less than 0.1 to be zero\n",
    "\n",
    "Hint: Use the following numpy functions - np.random.random, np.any as well as Boolean indexing and the axis argument."
   ]
  },
  {
   "cell_type": "code",
   "execution_count": 3,
   "metadata": {
    "scrolled": true
   },
   "outputs": [
    {
     "name": "stdout",
     "output_type": "stream",
     "text": [
      "[[0.         0.         0.         0.         0.         0.        ]\n",
      " [0.98127233 0.65913677 0.19549951 0.63072201 0.75998987 0.52856939]\n",
      " [0.         0.         0.         0.         0.         0.        ]\n",
      " [0.         0.         0.         0.         0.         0.        ]\n",
      " [0.46068701 0.1924379  0.14678746 0.86262667 0.59747912 0.53639377]\n",
      " [0.         0.         0.         0.         0.         0.        ]\n",
      " [0.         0.         0.         0.         0.         0.        ]\n",
      " [0.         0.         0.         0.         0.         0.        ]\n",
      " [0.44607122 0.25570288 0.60887409 0.62086086 0.18734129 0.61588638]\n",
      " [0.         0.         0.         0.         0.         0.        ]]\n"
     ]
    }
   ],
   "source": [
    "rand = np.random.random(60).reshape(10,6)\n",
    "\n",
    "rand[rand < 0.1] = 0\n",
    "for i in range(10):\n",
    "    for j in range(6):\n",
    "        if np.any([rand[i,j]])==False:\n",
    "            rand[i] = 0\n",
    "print(rand)"
   ]
  },
  {
   "cell_type": "markdown",
   "metadata": {},
   "source": [
    "4\\. Use np.linspace to create an array of 100 numbers between 0 and 2π (includsive).\n",
    "\n",
    "  * Extract every 10th element using slice notation\n",
    "  * Reverse the array using slice notation\n",
    "  * Extract elements where the absolute difference between the sine and cosine functions evaluated at that element is less than 0.1\n",
    "  * Make a plot showing the sin and cos functions and indicate where they are close"
   ]
  },
  {
   "cell_type": "code",
   "execution_count": 13,
   "metadata": {
    "scrolled": true
   },
   "outputs": [
    {
     "name": "stdout",
     "output_type": "stream",
     "text": [
      "[0.57119866 1.20586385 1.84052903 2.47519421 3.10985939 3.74452458\n",
      " 4.37918976 5.01385494 5.64852012 6.28318531]\n",
      "\n",
      "\n",
      "[6.28318531 6.21971879 6.15625227 6.09278575 6.02931923 5.96585272\n",
      " 5.9023862  5.83891968 5.77545316 5.71198664 5.64852012 5.58505361\n",
      " 5.52158709 5.45812057 5.39465405 5.33118753 5.26772102 5.2042545\n",
      " 5.14078798 5.07732146 5.01385494 4.95038842 4.88692191 4.82345539\n",
      " 4.75998887 4.69652235 4.63305583 4.56958931 4.5061228  4.44265628\n",
      " 4.37918976 4.31572324 4.25225672 4.1887902  4.12532369 4.06185717\n",
      " 3.99839065 3.93492413 3.87145761 3.8079911  3.74452458 3.68105806\n",
      " 3.61759154 3.55412502 3.4906585  3.42719199 3.36372547 3.30025895\n",
      " 3.23679243 3.17332591 3.10985939 3.04639288 2.98292636 2.91945984\n",
      " 2.85599332 2.7925268  2.72906028 2.66559377 2.60212725 2.53866073\n",
      " 2.47519421 2.41172769 2.34826118 2.28479466 2.22132814 2.15786162\n",
      " 2.0943951  2.03092858 1.96746207 1.90399555 1.84052903 1.77706251\n",
      " 1.71359599 1.65012947 1.58666296 1.52319644 1.45972992 1.3962634\n",
      " 1.33279688 1.26933037 1.20586385 1.14239733 1.07893081 1.01546429\n",
      " 0.95199777 0.88853126 0.82506474 0.76159822 0.6981317  0.63466518\n",
      " 0.57119866 0.50773215 0.44426563 0.38079911 0.31733259 0.25386607\n",
      " 0.19039955 0.12693304 0.06346652 0.        ]\n",
      "\n",
      "\n",
      "the filtered array: [0.76159822 0.82506474 3.87145761 3.93492413] \n",
      "\n"
     ]
    },
    {
     "data": {
      "text/plain": [
       "[<matplotlib.lines.Line2D at 0x7faedc7f6220>,\n",
       " <matplotlib.lines.Line2D at 0x7faedc7f6250>]"
      ]
     },
     "execution_count": 13,
     "metadata": {},
     "output_type": "execute_result"
    },
    {
     "data": {
      "image/png": "[encoded data removed]",
      "text/plain": [
       "<Figure size 432x288 with 1 Axes>"
      ]
     },
     "metadata": {
      "needs_background": "light"
     },
     "output_type": "display_data"
    }
   ],
   "source": [
    "x = (np.linspace(0, 2*np.pi, 100)) \n",
    "\n",
    "print(x[9::10])\n",
    "print(\"\\n\")\n",
    "print(x[::-1])\n",
    "print(\"\\n\")\n",
    "\n",
    "mask = (abs(np.sin(x)-np.cos(x)) < 0.1)\n",
    "filtered_x = x[mask]\n",
    "print (\"the filtered array:\", filtered_x,'\\n')\n",
    "\n",
    "import matplotlib.pyplot as plt\n",
    "\n",
    "x = np.arange(0,2*np.pi,0.1)\n",
    "y = np.sin(x)\n",
    "z = np.cos(x)\n",
    "fy = np.sin(filtered_x)\n",
    "fz = np.cos(filtered_x)\n",
    "plt.plot(x, y, x, z)\n",
    "plt.plot(filtered_x, fy, filtered_x, fz, ls='', marker='o')"
   ]
  },
  {
   "cell_type": "markdown",
   "metadata": {},
   "source": [
    "5\\. Create a matrix that shows the 10 by 10 multiplication table.\n",
    "\n",
    " * Find the trace of the matrix\n",
    " * Extract the anto-diagonal (this should be ```array([10, 18, 24, 28, 30, 30, 28, 24, 18, 10])```)\n",
    " * Extract the diagnoal offset by 1 upwards (this should be ```array([ 2,  6, 12, 20, 30, 42, 56, 72, 90])```)"
   ]
  },
  {
   "cell_type": "code",
   "execution_count": 5,
   "metadata": {},
   "outputs": [
    {
     "name": "stdout",
     "output_type": "stream",
     "text": [
      "[[  1   2   3   4   5   6   7   8   9  10]\n",
      " [  2   4   6   8  10  12  14  16  18  20]\n",
      " [  3   6   9  12  15  18  21  24  27  30]\n",
      " [  4   8  12  16  20  24  28  32  36  40]\n",
      " [  5  10  15  20  25  30  35  40  45  50]\n",
      " [  6  12  18  24  30  36  42  48  54  60]\n",
      " [  7  14  21  28  35  42  49  56  63  70]\n",
      " [  8  16  24  32  40  48  56  64  72  80]\n",
      " [  9  18  27  36  45  54  63  72  81  90]\n",
      " [ 10  20  30  40  50  60  70  80  90 100]]\n",
      "385\n",
      "[10 18 24 28 30 30 28 24 18 10]\n",
      "[ 2  6 12 20 30 42 56 72 90]\n"
     ]
    }
   ],
   "source": [
    "x = range(1,11)\n",
    "n = range(1,11)\n",
    "\n",
    "mult_table = np.array([[i*j for j in x] for i in n])\n",
    "print(mult_table)\n",
    "trace = mult_table.trace()\n",
    "print(trace)\n",
    "antidiagonal = np.fliplr(mult_table).diagonal()\n",
    "print(antidiagonal)\n",
    "onediagonal = np.diag(mult_table, 1)\n",
    "print(onediagonal)"
   ]
  },
  {
   "cell_type": "markdown",
   "metadata": {},
   "source": [
    "6\\. Use broadcasting to create a grid of distances\n",
    "\n",
    "Route 66 crosses the following cities in the US: Chicago, Springfield, Saint-Louis, Tulsa, Oklahoma City, Amarillo, Santa Fe, Albuquerque, Flagstaff, Los Angeles\n",
    "The corresponding positions in miles are: 0, 198, 303, 736, 871, 1175, 1475, 1544, 1913, 2448\n",
    "\n",
    "  * Construct a 2D grid of distances among each city along Route 66\n",
    "  * Convert that in km (those savages...)"
   ]
  },
  {
   "cell_type": "code",
   "execution_count": 6,
   "metadata": {},
   "outputs": [
    {
     "name": "stdout",
     "output_type": "stream",
     "text": [
      "[[    0.   198.   303.   736.   871.  1175.  1475.  1544.  1913.  2448.]\n",
      " [ -198.     0.   105.   538.   673.   977.  1277.  1346.  1715.  2250.]\n",
      " [ -303.  -105.     0.   433.   568.   872.  1172.  1241.  1610.  2145.]\n",
      " [ -736.  -538.  -433.     0.   135.   439.   739.   808.  1177.  1712.]\n",
      " [ -871.  -673.  -568.  -135.     0.   304.   604.   673.  1042.  1577.]\n",
      " [-1175.  -977.  -872.  -439.  -304.     0.   300.   369.   738.  1273.]\n",
      " [-1475. -1277. -1172.  -739.  -604.  -300.     0.    69.   438.   973.]\n",
      " [-1544. -1346. -1241.  -808.  -673.  -369.   -69.     0.   369.   904.]\n",
      " [-1913. -1715. -1610. -1177. -1042.  -738.  -438.  -369.     0.   535.]\n",
      " [-2448. -2250. -2145. -1712. -1577. -1273.  -973.  -904.  -535.     0.]] \n",
      "\n",
      "[[    0.        318.64932   487.63002  1184.47424  1401.73514  1890.9745\n",
      "   2373.7765   2484.82096  3078.66742  3939.66432]\n",
      " [ -318.64932     0.        168.9807    865.82492  1083.08582  1572.32518\n",
      "   2055.12718  2166.17164  2760.0181   3621.015  ]\n",
      " [ -487.63002  -168.9807      0.        696.84422   914.10512  1403.34448\n",
      "   1886.14648  1997.19094  2591.0374   3452.0343 ]\n",
      " [-1184.47424  -865.82492  -696.84422     0.        217.2609    706.50026\n",
      "   1189.30226  1300.34672  1894.19318  2755.19008]\n",
      " [-1401.73514 -1083.08582  -914.10512  -217.2609      0.        489.23936\n",
      "    972.04136  1083.08582  1676.93228  2537.92918]\n",
      " [-1890.9745  -1572.32518 -1403.34448  -706.50026  -489.23936     0.\n",
      "    482.802     593.84646  1187.69292  2048.68982]\n",
      " [-2373.7765  -2055.12718 -1886.14648 -1189.30226  -972.04136  -482.802\n",
      "      0.        111.04446   704.89092  1565.88782]\n",
      " [-2484.82096 -2166.17164 -1997.19094 -1300.34672 -1083.08582  -593.84646\n",
      "   -111.04446     0.        593.84646  1454.84336]\n",
      " [-3078.66742 -2760.0181  -2591.0374  -1894.19318 -1676.93228 -1187.69292\n",
      "   -704.89092  -593.84646     0.        860.9969 ]\n",
      " [-3939.66432 -3621.015   -3452.0343  -2755.19008 -2537.92918 -2048.68982\n",
      "  -1565.88782 -1454.84336  -860.9969      0.     ]]\n"
     ]
    }
   ],
   "source": [
    "d = np.array([0, 198, 303, 736, 871, 1175, 1475, 1544, 1913, 2448])\n",
    "z = np.zeros((10,10))\n",
    "m = d+z\n",
    "distances = (m-m.T)\n",
    "print(distances, \"\\n\")\n",
    "km = distances*1.60934\n",
    "print(km)"
   ]
  },
  {
   "cell_type": "markdown",
   "metadata": {},
   "source": [
    "7\\. Prime numbers sieve: compute the prime numbers in the 0-N (N=99 to start with) range with a sieve (mask).\n",
    "  * Constract a shape (100,) boolean array, the mask\n",
    "  * Identify the multiples of each number starting from 2 and set accordingly the corresponding mask element\n",
    "  * Apply the mask to obtain an array of ordered prime numbers\n",
    "  * Check the performances (timeit); how does it scale with N?\n",
    "  * Implement the optimization suggested in the [sieve of Eratosthenes](https://en.wikipedia.org/wiki/Sieve_of_Eratosthenes)"
   ]
  },
  {
   "cell_type": "code",
   "execution_count": 14,
   "metadata": {},
   "outputs": [
    {
     "data": {
      "image/png": "[encoded data removed]",
      "text/plain": [
       "<Figure size 432x288 with 1 Axes>"
      ]
     },
     "metadata": {
      "needs_background": "light"
     },
     "output_type": "display_data"
    }
   ],
   "source": [
    "import time\n",
    "def prime_num(N):\n",
    "    Num = np.arange(N+1)\n",
    "    bool = np.array([True for i in range(N+1)])\n",
    "    for i in range (2,int(np.sqrt(N))):\n",
    "        if bool[i] == True:\n",
    "            for j in range(i+1,len(bool)):\n",
    "                if j%i==0:\n",
    "                    bool[j]=False\n",
    "    primes = Num[bool]\n",
    "    #print([i for i in primes if i > 1])\n",
    "    return\n",
    "\n",
    "x = []\n",
    "y = []\n",
    "\n",
    "for i in range(0,10000,30):\n",
    "    start = time.time()\n",
    "    prime_num(i)\n",
    "    y.append(time.time()-start)\n",
    "    x.append(i)\n",
    "\n",
    "\n",
    "plt.plot(x,y, '.')\n",
    "plt.show()"
   ]
  },
  {
   "cell_type": "markdown",
   "metadata": {},
   "source": [
    "8\\. Diffusion using random walk\n",
    "\n",
    "Consider a simple random walk process: at each step in time, a walker jumps right or left (+1 or -1) with equal probability. The goal is to find the typical distance from the origin of a random walker after a given amount of time. \n",
    "To do that, let's simulate many walkers and create a 2D array with each walker as a raw and the actual time evolution as columns\n",
    "\n",
    "  * Take 1000 walkers and let them walk for 200 steps\n",
    "  * Use randint to create a 2D array of size walkers x steps with values -1 or 1\n",
    "  * Build the actual walking distances for each walker (i.e. another 2D array \"summing on each raw\")\n",
    "  * Take the square of that 2D array (elementwise)\n",
    "  * Compute the mean of the squared distances at each step (i.e. the mean along the columns)\n",
    "  * Plot the average distances (sqrt(distance\\*\\*2)) as a function of time (step)\n",
    "  \n",
    "Did you get what you expected?"
   ]
  },
  {
   "cell_type": "code",
   "execution_count": 8,
   "metadata": {},
   "outputs": [
    {
     "data": {
      "image/png": "[encoded data removed]",
      "text/plain": [
       "<Figure size 432x288 with 1 Axes>"
      ]
     },
     "metadata": {
      "needs_background": "light"
     },
     "output_type": "display_data"
    }
   ],
   "source": [
    "walkers = 1000\n",
    "steps = 200\n",
    "\n",
    "def random_walk(t):\n",
    "    x = 0\n",
    "    for i in range (t):\n",
    "        if np.random.rand() < 0.5:\n",
    "            x-=1\n",
    "        else:\n",
    "            x+=1\n",
    "    return x\n",
    "\n",
    "for i in range(1000):\n",
    "    random_walk(200)\n",
    "\n",
    "wxs = np.random.randint(0,2,size=(walkers,steps))\n",
    "wxs[wxs == 0] = -1\n",
    "\n",
    "rw = np.zeros((walkers,steps))\n",
    "for i in range(walkers):\n",
    "    for j in range(1,steps):\n",
    "        if np.random.rand() < 0.5:\n",
    "            rw[i,j]=rw[i,j-1]-1\n",
    "        else:\n",
    "            rw[i,j]=rw[i,j-1]+1\n",
    "\n",
    "rw2 = np.power(rw,2)\n",
    "m = []\n",
    "for i in range(steps):\n",
    "    m.append(np.mean(rw2[:,i]))\n",
    "    \n",
    "plt.plot(np.sqrt(m),'.')\n",
    "plt.show()"
   ]
  },
  {
   "cell_type": "markdown",
   "metadata": {},
   "source": [
    "9\\. Analyze a data file \n",
    "  * Download the population of hares, lynxes and carrots at the beginning of the last century.\n",
    "    ```python\n",
    "    ! wget https://www.dropbox.com/s/3vigxoqayo389uc/populations.txt\n",
    "    ```\n",
    "\n",
    "  * Check the content by looking within the file\n",
    "  * Load the data (use an appropriate numpy method) into a 2D array\n",
    "  * Create arrays out of the columns, the arrays being (in order): *year*, *hares*, *lynxes*, *carrots* \n",
    "  * Plot the 3 populations over the years\n",
    "  * Compute the main statistical properties of the dataset (mean, std, correlations, etc.)\n",
    "  * Which species has the highest population each year?\n",
    "\n",
    "Do you feel there is some evident correlation here? [Studies](https://www.enr.gov.nt.ca/en/services/lynx/lynx-snowshoe-hare-cycle) tend to believe so."
   ]
  },
  {
   "cell_type": "code",
   "execution_count": 65,
   "metadata": {},
   "outputs": [
    {
     "data": {
      "image/png": "[encoded data removed]",
      "text/plain": [
       "<Figure size 432x288 with 1 Axes>"
      ]
     },
     "metadata": {
      "needs_background": "light"
     },
     "output_type": "display_data"
    },
    {
     "name": "stdout",
     "output_type": "stream",
     "text": [
      "The mean of hares is 34080.95238095238, their std is 20897.906458089667\n",
      "The mean of lynxes is 20166.666666666668, their std is 16254.591536908763\n",
      "The mean of carrots is 42400.0, their std is 3322.5062255844787\n",
      "\n",
      "The correlations between hares, lynxes and carrots are:\n",
      " [[ 1.          0.07189206 -0.01660378]\n",
      " [ 0.07189206  1.         -0.68057717]\n",
      " [-0.01660378 -0.68057717  1.        ]] \n",
      "\n",
      "Carrots have the highest population in 1900.0\n",
      "Carrots have the highest population in 1901.0\n",
      "Hares have the highest population in 1902.0\n",
      "Hares have the highest population in 1903.0\n",
      "Lynxes have the highest population in 1904.0\n",
      "Lynxes have the highest population in 1905.0\n",
      "Carrots have the highest population in 1906.0\n",
      "Carrots have the highest population in 1907.0\n",
      "Carrots have the highest population in 1908.0\n",
      "Carrots have the highest population in 1909.0\n",
      "Carrots have the highest population in 1910.0\n",
      "Carrots have the highest population in 1911.0\n",
      "Hares have the highest population in 1912.0\n",
      "Hares have the highest population in 1913.0\n",
      "Hares have the highest population in 1914.0\n",
      "Lynxes have the highest population in 1915.0\n",
      "Carrots have the highest population in 1916.0\n",
      "Carrots have the highest population in 1917.0\n",
      "Carrots have the highest population in 1918.0\n",
      "Carrots have the highest population in 1919.0\n",
      "Carrots have the highest population in 1920.0\n"
     ]
    }
   ],
   "source": [
    "import matplotlib.pyplot as plt\n",
    "p = np.loadtxt('/Users/michelecrudele/Downloads/populations.txt')\n",
    "\n",
    "year = np.array(p[:,0])\n",
    "hares = np.array(p[:,1])\n",
    "lynxes = np.array(p[:,2])\n",
    "carrots = np.array(p[:,3])\n",
    "plt.plot(year, hares, 'g')\n",
    "plt.plot(year,lynxes,'b')\n",
    "plt.plot(year, carrots,'orange')\n",
    "plt.show()\n",
    "\n",
    "hares_mean = np.mean(hares)\n",
    "hares_std = np.std(hares)\n",
    "print(\"The mean of hares is {}, their std is {}\".format(hares_mean,hares_std))\n",
    "lynxes_mean = np.mean(lynxes)\n",
    "lynxes_std = np.std(lynxes)\n",
    "print(\"The mean of lynxes is {}, their std is {}\".format(lynxes_mean,lynxes_std))\n",
    "carrots_mean = np.mean(carrots)\n",
    "carrots_std = np.std(carrots)\n",
    "print(\"The mean of carrots is {}, their std is {}\".format(carrots_mean,carrots_std))\n",
    "print(\"\\nThe correlations between hares, lynxes and carrots are:\\n\",np.corrcoef([hares, lynxes, carrots]),'\\n')\n",
    "\n",
    "for y in range(len(year)):\n",
    "    if (max(hares[y], lynxes[y], carrots[y])) == hares[y]:\n",
    "        print(\"Hares have the highest population in\", year[y])\n",
    "    if (max(hares[y], lynxes[y], carrots[y])) == lynxes[y]:\n",
    "        print(\"Lynxes have the highest population in\", year[y])\n",
    "    if (max(hares[y], lynxes[y], carrots[y])) == carrots[y]:\n",
    "        print(\"Carrots have the highest population in\", year[y])    "
   ]
  }
 ],
 "metadata": {
  "kernelspec": {
   "display_name": "Python 3",
   "language": "python",
   "name": "python3"
  },
  "language_info": {
   "codemirror_mode": {
    "name": "ipython",
    "version": 3
   },
   "file_extension": ".py",
   "mimetype": "text/x-python",
   "name": "python",
   "nbconvert_exporter": "python",
   "pygments_lexer": "ipython3",
   "version": "3.8.3"
  }
 },
 "nbformat": 4,
 "nbformat_minor": 2
}
