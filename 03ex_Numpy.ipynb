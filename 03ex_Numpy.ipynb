{
 "cells": [
  {
   "cell_type": "markdown",
   "metadata": {},
   "source": [
    "### Numpy basics"
   ]
  },
  {
   "cell_type": "code",
   "execution_count": 1,
   "metadata": {},
   "outputs": [],
   "source": [
    "import numpy\n",
    "import numpy.random as rnd\n",
    "import matplotlib.pyplot as plt\n",
    "\n",
    "seed = 2012265\n",
    "rnd.seed(seed)"
   ]
  },
  {
   "cell_type": "markdown",
   "metadata": {},
   "source": [
    "1\\. Find the row, column and overall means for the following matrix:\n",
    "\n",
    "```python\n",
    "m = np.arange(12).reshape((3,4))\n",
    "```"
   ]
  },
  {
   "cell_type": "code",
   "execution_count": 2,
   "metadata": {},
   "outputs": [
    {
     "name": "stdout",
     "output_type": "stream",
     "text": [
      "Overall mean = 5.5\n",
      "Means for each row, expressed as (row,mean): [(0, 1.5), (1, 5.5), (2, 9.5)]\n",
      "Means for each col, expressed as (col,mean): [(0, 4.0), (1, 5.0), (2, 6.0), (3, 7.0)]\n"
     ]
    }
   ],
   "source": [
    "m = numpy.arange(12).reshape((3,4))\n",
    "\n",
    "print(f\"Overall mean = {m.mean()}\")\n",
    "print(f\"Means for each row, expressed as (row,mean): { [(i,m[i,:].mean()) for i in numpy.arange(m.shape[0])] }\")\n",
    "print(f\"Means for each col, expressed as (col,mean): { [(i,m[:,i].mean()) for i in numpy.arange(m.shape[1])] }\")"
   ]
  },
  {
   "cell_type": "markdown",
   "metadata": {},
   "source": [
    "2\\. Find the outer product of the following two vecotrs\n",
    "\n",
    "```python\n",
    "u = np.array([1,3,5,7])\n",
    "v = np.array([2,4,6,8])\n",
    "```\n",
    "\n",
    "Do this in the following ways:\n",
    "\n",
    "   * Using the function outer in numpy\n",
    "   * Using a nested for loop or list comprehension\n",
    "   * Using numpy broadcasting operatoins\n"
   ]
  },
  {
   "cell_type": "code",
   "execution_count": 3,
   "metadata": {},
   "outputs": [
    {
     "name": "stdout",
     "output_type": "stream",
     "text": [
      "With the numpy function we get:\n",
      "[[ 2  4  6  8]\n",
      " [ 6 12 18 24]\n",
      " [10 20 30 40]\n",
      " [14 28 42 56]]\n",
      "\n",
      "With the list comprehension we get:\n",
      "[[2, 4, 6, 8], [6, 12, 18, 24], [10, 20, 30, 40], [14, 28, 42, 56]]\n",
      "\n",
      "With the broadcasting operations we get:\n",
      "[[ 2  4  6  8]\n",
      " [ 6 12 18 24]\n",
      " [10 20 30 40]\n",
      " [14 28 42 56]]\n"
     ]
    }
   ],
   "source": [
    "u = numpy.array([1,3,5,7])\n",
    "v = numpy.array([2,4,6,8])\n",
    "\n",
    "print(f\"With the numpy function we get:\\n{numpy.outer(u,v)}\\n\")\n",
    "print(f\"With the list comprehension we get:\\n{[[i*k for k in v] for i in u]}\\n\")\n",
    "print(f\"With the broadcasting operations we get:\\n{ numpy.tile(u, (4,1)).T * numpy.tile(v, (4,1)) }\")"
   ]
  },
  {
   "cell_type": "markdown",
   "metadata": {},
   "source": [
    "3\\. Create a 10 by 6 matrix of random uniform numbers. Set all rows with any entry less than 0.1 to be zero\n",
    "\n",
    "Hint: Use the following numpy functions - np.random.random, np.any as well as Boolean indexing and the axis argument."
   ]
  },
  {
   "cell_type": "code",
   "execution_count": 4,
   "metadata": {},
   "outputs": [
    {
     "name": "stdout",
     "output_type": "stream",
     "text": [
      "Matrix at the beginning:\n",
      "[[0.61808287 0.50775186 0.43846674 0.47315193 0.4114958  0.16944462]\n",
      " [0.01017822 0.53499575 0.73364404 0.59914021 0.93502712 0.62992304]\n",
      " [0.33445021 0.09452045 0.36189042 0.68211629 0.86963433 0.33442268]\n",
      " [0.14437688 0.09531014 0.39802859 0.94647301 0.16117609 0.83494538]\n",
      " [0.80238131 0.2196163  0.20156755 0.32948912 0.14267562 0.71850389]\n",
      " [0.09401198 0.32735888 0.57937634 0.23143591 0.91873725 0.72261955]\n",
      " [0.5737593  0.14408306 0.42658476 0.41838076 0.41576827 0.94984137]\n",
      " [0.04560095 0.18288653 0.1682453  0.78256287 0.54966832 0.24894096]\n",
      " [0.89374029 0.35353471 0.64940987 0.60184063 0.68565386 0.65657299]\n",
      " [0.66450439 0.5928919  0.21300841 0.31176461 0.67112206 0.95764848]]\n",
      "\n",
      "Matrix at the end:\n",
      "[[0.61808287 0.50775186 0.43846674 0.47315193 0.4114958  0.16944462]\n",
      " [0.         0.         0.         0.         0.         0.        ]\n",
      " [0.         0.         0.         0.         0.         0.        ]\n",
      " [0.         0.         0.         0.         0.         0.        ]\n",
      " [0.80238131 0.2196163  0.20156755 0.32948912 0.14267562 0.71850389]\n",
      " [0.         0.         0.         0.         0.         0.        ]\n",
      " [0.5737593  0.14408306 0.42658476 0.41838076 0.41576827 0.94984137]\n",
      " [0.         0.         0.         0.         0.         0.        ]\n",
      " [0.89374029 0.35353471 0.64940987 0.60184063 0.68565386 0.65657299]\n",
      " [0.66450439 0.5928919  0.21300841 0.31176461 0.67112206 0.95764848]]\n"
     ]
    }
   ],
   "source": [
    "matrix = rnd.random((10,6))\n",
    "print(f\"Matrix at the beginning:\\n{matrix}\\n\")\n",
    "\n",
    "matrix[numpy.any(matrix<0.1, axis=1)] = 0\n",
    "print(f\"Matrix at the end:\\n{matrix}\")"
   ]
  },
  {
   "cell_type": "markdown",
   "metadata": {},
   "source": [
    "4\\. Use np.linspace to create an array of 100 numbers between 0 and 2π (includsive).\n",
    "\n",
    "  * Extract every 10th element using slice notation\n",
    "  * Reverse the array using slice notation\n",
    "  * Extract elements where the absolute difference between the sine and cosine functions evaluated at that element is less than 0.1\n",
    "  * Make a plot showing the sin and cos functions and indicate where they are close"
   ]
  },
  {
   "cell_type": "code",
   "execution_count": 5,
   "metadata": {},
   "outputs": [
    {
     "name": "stdout",
     "output_type": "stream",
     "text": [
      "The original array is:\n",
      "[0.         0.06346652 0.12693304 0.19039955 0.25386607 0.31733259\n",
      " 0.38079911 0.44426563 0.50773215 0.57119866 0.63466518 0.6981317\n",
      " 0.76159822 0.82506474 0.88853126 0.95199777 1.01546429 1.07893081\n",
      " 1.14239733 1.20586385 1.26933037 1.33279688 1.3962634  1.45972992\n",
      " 1.52319644 1.58666296 1.65012947 1.71359599 1.77706251 1.84052903\n",
      " 1.90399555 1.96746207 2.03092858 2.0943951  2.15786162 2.22132814\n",
      " 2.28479466 2.34826118 2.41172769 2.47519421 2.53866073 2.60212725\n",
      " 2.66559377 2.72906028 2.7925268  2.85599332 2.91945984 2.98292636\n",
      " 3.04639288 3.10985939 3.17332591 3.23679243 3.30025895 3.36372547\n",
      " 3.42719199 3.4906585  3.55412502 3.61759154 3.68105806 3.74452458\n",
      " 3.8079911  3.87145761 3.93492413 3.99839065 4.06185717 4.12532369\n",
      " 4.1887902  4.25225672 4.31572324 4.37918976 4.44265628 4.5061228\n",
      " 4.56958931 4.63305583 4.69652235 4.75998887 4.82345539 4.88692191\n",
      " 4.95038842 5.01385494 5.07732146 5.14078798 5.2042545  5.26772102\n",
      " 5.33118753 5.39465405 5.45812057 5.52158709 5.58505361 5.64852012\n",
      " 5.71198664 5.77545316 5.83891968 5.9023862  5.96585272 6.02931923\n",
      " 6.09278575 6.15625227 6.21971879 6.28318531]\n",
      "\n",
      "The extracted array from the 10th to the 100th element is:\n",
      "[0.57119866 1.20586385 1.84052903 2.47519421 3.10985939 3.74452458\n",
      " 4.37918976 5.01385494 5.64852012 6.28318531]\n",
      "\n",
      "The reversed array is:\n",
      "[6.28318531 6.21971879 6.15625227 6.09278575 6.02931923 5.96585272\n",
      " 5.9023862  5.83891968 5.77545316 5.71198664 5.64852012 5.58505361\n",
      " 5.52158709 5.45812057 5.39465405 5.33118753 5.26772102 5.2042545\n",
      " 5.14078798 5.07732146 5.01385494 4.95038842 4.88692191 4.82345539\n",
      " 4.75998887 4.69652235 4.63305583 4.56958931 4.5061228  4.44265628\n",
      " 4.37918976 4.31572324 4.25225672 4.1887902  4.12532369 4.06185717\n",
      " 3.99839065 3.93492413 3.87145761 3.8079911  3.74452458 3.68105806\n",
      " 3.61759154 3.55412502 3.4906585  3.42719199 3.36372547 3.30025895\n",
      " 3.23679243 3.17332591 3.10985939 3.04639288 2.98292636 2.91945984\n",
      " 2.85599332 2.7925268  2.72906028 2.66559377 2.60212725 2.53866073\n",
      " 2.47519421 2.41172769 2.34826118 2.28479466 2.22132814 2.15786162\n",
      " 2.0943951  2.03092858 1.96746207 1.90399555 1.84052903 1.77706251\n",
      " 1.71359599 1.65012947 1.58666296 1.52319644 1.45972992 1.3962634\n",
      " 1.33279688 1.26933037 1.20586385 1.14239733 1.07893081 1.01546429\n",
      " 0.95199777 0.88853126 0.82506474 0.76159822 0.6981317  0.63466518\n",
      " 0.57119866 0.50773215 0.44426563 0.38079911 0.31733259 0.25386607\n",
      " 0.19039955 0.12693304 0.06346652 0.        ]\n",
      "\n",
      "The elements where we have sin(x) and cos(x) close are:\n",
      "[0.76159822 0.82506474 3.87145761 3.93492413]\n",
      "\n",
      "Let's plot\n"
     ]
    },
    {
     "data": {
      "image/png": "[encoded data removed]",
      "text/plain": [
       "<Figure size 432x288 with 1 Axes>"
      ]
     },
     "metadata": {
      "needs_background": "light"
     },
     "output_type": "display_data"
    }
   ],
   "source": [
    "arr = numpy.linspace(0, 2*numpy.pi, num=100)\n",
    "print(f\"The original array is:\\n{arr}\\n\")\n",
    "\n",
    "extr_1 = arr[9::10]\n",
    "print(f\"The extracted array from the 10th to the 100th element is:\\n{extr_1}\\n\")\n",
    "\n",
    "rev_arr = arr[::-1]\n",
    "print(f\"The reversed array is:\\n{rev_arr}\\n\")\n",
    "\n",
    "extr_2 = arr[ numpy.absolute( numpy.sin(arr) - numpy.cos(arr) ) < 0.1 ]\n",
    "print(f\"The elements where we have sin(x) and cos(x) close are:\\n{extr_2}\\n\")\n",
    "\n",
    "print(\"Let's plot\")\n",
    "%matplotlib inline\n",
    "plt.plot(arr, numpy.sin(arr))\n",
    "plt.plot(arr, numpy.cos(arr))\n",
    "plt.scatter(extr_2, numpy.sin(extr_2))\n",
    "plt.scatter(extr_2, numpy.cos(extr_2));"
   ]
  },
  {
   "cell_type": "markdown",
   "metadata": {},
   "source": [
    "5\\. Create a matrix that shows the 10 by 10 multiplication table.\n",
    "\n",
    " * Find the trace of the matrix\n",
    " * Extract the anto-diagonal (this should be ```array([10, 18, 24, 28, 30, 30, 28, 24, 18, 10])```)\n",
    " * Extract the diagnoal offset by 1 upwards (this should be ```array([ 2,  6, 12, 20, 30, 42, 56, 72, 90])```)"
   ]
  },
  {
   "cell_type": "code",
   "execution_count": 6,
   "metadata": {},
   "outputs": [
    {
     "name": "stdout",
     "output_type": "stream",
     "text": [
      "[[  1   2   3   4   5   6   7   8   9  10]\n",
      " [  2   4   6   8  10  12  14  16  18  20]\n",
      " [  3   6   9  12  15  18  21  24  27  30]\n",
      " [  4   8  12  16  20  24  28  32  36  40]\n",
      " [  5  10  15  20  25  30  35  40  45  50]\n",
      " [  6  12  18  24  30  36  42  48  54  60]\n",
      " [  7  14  21  28  35  42  49  56  63  70]\n",
      " [  8  16  24  32  40  48  56  64  72  80]\n",
      " [  9  18  27  36  45  54  63  72  81  90]\n",
      " [ 10  20  30  40  50  60  70  80  90 100]] \n",
      "\n",
      "The trace of the matrix is: 385\n",
      "The anti-diagonal is: [10 18 24 28 30 30 28 24 18 10]\n",
      "The offset diagonal is: [ 2  6 12 20 30 42 56 72 90]\n"
     ]
    }
   ],
   "source": [
    "matrix = numpy.outer(numpy.arange(1,11), numpy.arange(1,11))\n",
    "\n",
    "print(matrix,\"\\n\")\n",
    "print(f\"The trace of the matrix is: {numpy.trace(matrix)}\")\n",
    "print(f\"The anti-diagonal is: {numpy.diagonal(matrix[:,::-1])}\")\n",
    "print(f\"The offset diagonal is: {numpy.diagonal(matrix, offset=1)}\")"
   ]
  },
  {
   "cell_type": "markdown",
   "metadata": {},
   "source": [
    "6\\. Use broadcasting to create a grid of distances\n",
    "\n",
    "Route 66 crosses the following cities in the US: Chicago, Springfield, Saint-Louis, Tulsa, Oklahoma City, Amarillo, Santa Fe, Albuquerque, Flagstaff, Los Angeles\n",
    "The corresponding positions in miles are: 0, 198, 303, 736, 871, 1175, 1475, 1544, 1913, 2448\n",
    "\n",
    "  * Construct a 2D grid of distances among each city along Route 66\n",
    "  * Convert that in km (those savages...)"
   ]
  },
  {
   "cell_type": "code",
   "execution_count": 7,
   "metadata": {},
   "outputs": [
    {
     "name": "stdout",
     "output_type": "stream",
     "text": [
      "The grid of the relative distances is:\n",
      "[[   0  198  303  736  871 1175 1475 1544 1913 2448]\n",
      " [ 198    0  105  538  673  977 1277 1346 1715 2250]\n",
      " [ 303  105    0  433  568  872 1172 1241 1610 2145]\n",
      " [ 736  538  433    0  135  439  739  808 1177 1712]\n",
      " [ 871  673  568  135    0  304  604  673 1042 1577]\n",
      " [1175  977  872  439  304    0  300  369  738 1273]\n",
      " [1475 1277 1172  739  604  300    0   69  438  973]\n",
      " [1544 1346 1241  808  673  369   69    0  369  904]\n",
      " [1913 1715 1610 1177 1042  738  438  369    0  535]\n",
      " [2448 2250 2145 1712 1577 1273  973  904  535    0]]\n",
      "\n",
      "The grid in km is:\n",
      "[[   0.  319.  488. 1184. 1402. 1891. 2374. 2485. 3079. 3940.]\n",
      " [ 319.    0.  169.  866. 1083. 1572. 2055. 2166. 2760. 3621.]\n",
      " [ 488.  169.    0.  697.  914. 1403. 1886. 1997. 2591. 3452.]\n",
      " [1184.  866.  697.    0.  217.  707. 1189. 1300. 1894. 2755.]\n",
      " [1402. 1083.  914.  217.    0.  489.  972. 1083. 1677. 2538.]\n",
      " [1891. 1572. 1403.  707.  489.    0.  483.  594. 1188. 2049.]\n",
      " [2374. 2055. 1886. 1189.  972.  483.    0.  111.  705. 1566.]\n",
      " [2485. 2166. 1997. 1300. 1083.  594.  111.    0.  594. 1455.]\n",
      " [3079. 2760. 2591. 1894. 1677. 1188.  705.  594.    0.  861.]\n",
      " [3940. 3621. 3452. 2755. 2538. 2049. 1566. 1455.  861.    0.]]\n"
     ]
    }
   ],
   "source": [
    "route_66 = numpy.array([0, 198, 303, 736, 871, 1175, 1475, 1544, 1913, 2448])\n",
    "\n",
    "matrix = numpy.absolute( numpy.tile(route_66, (10,1)) - numpy.tile(route_66, (10,1)).T )\n",
    "print(f\"The grid of the relative distances is:\\n{matrix}\\n\")\n",
    "\n",
    "km_per_mile = 1.60934\n",
    "print(f\"The grid in km is:\\n{numpy.around(matrix*km_per_mile)}\")"
   ]
  },
  {
   "cell_type": "markdown",
   "metadata": {},
   "source": [
    "7\\. Prime numbers sieve: compute the prime numbers in the 0-N (N=99 to start with) range with a sieve (mask).\n",
    "  * Constract a shape (100,) boolean array, the mask\n",
    "  * Identify the multiples of each number starting from 2 and set accordingly the corresponding mask element\n",
    "  * Apply the mask to obtain an array of ordered prime numbers\n",
    "  * Check the performances (timeit); how does it scale with N?\n",
    "  * Implement the optimization suggested in the [sieve of Eratosthenes](https://en.wikipedia.org/wiki/Sieve_of_Eratosthenes)"
   ]
  },
  {
   "cell_type": "code",
   "execution_count": 8,
   "metadata": {
    "scrolled": true
   },
   "outputs": [
    {
     "name": "stdout",
     "output_type": "stream",
     "text": [
      "The primes in the interval [0, 100] are:\n",
      "[ 2  3  5  7 11 13 17 19 23 29 31 37 41 43 47 53 59 61 67 71 73 79 83 89\n",
      " 97]\n",
      "\n",
      "108 µs ± 2.85 µs per loop (mean ± std. dev. of 7 runs, 10000 loops each)\n",
      "737 µs ± 18.1 µs per loop (mean ± std. dev. of 7 runs, 1000 loops each)\n",
      "5.73 ms ± 70.8 µs per loop (mean ± std. dev. of 7 runs, 100 loops each)\n",
      "\n",
      "With the optimization we have, for N=10000:\n",
      "184 µs ± 466 ns per loop (mean ± std. dev. of 7 runs, 10000 loops each)\n"
     ]
    }
   ],
   "source": [
    "def primes(end):\n",
    "    numbers = numpy.arange(2, end+1)\n",
    "    booleans = numpy.full(numbers.size, True)\n",
    "    for i,j in enumerate(numbers):\n",
    "        if booleans[i]:\n",
    "            indices_no_primes = j * numpy.arange(2, end // j + 1)\n",
    "            booleans[indices_no_primes-2] = False\n",
    "    return numbers[booleans]\n",
    "\n",
    "def primes_optimised(end):\n",
    "    booleans = numpy.full(end-2, True)\n",
    "    for i in numpy.arange(2, numpy.sqrt(end)):\n",
    "        if booleans[int(i-2)]:\n",
    "            indices_no_primes = numpy.arange(i*i, end, i).astype(int)\n",
    "            booleans[indices_no_primes-2] = False\n",
    "    return numpy.arange(2, end)[booleans]\n",
    "\n",
    "print(f\"The primes in the interval [0, 100] are:\\n{primes(100)}\\n\")\n",
    "\n",
    "%timeit primes(100)\n",
    "%timeit primes(1000)\n",
    "%timeit primes(10000)\n",
    "\n",
    "print(\"\\nWith the optimization we have, for N=10000:\")\n",
    "%timeit primes_optimised(10000)"
   ]
  },
  {
   "cell_type": "markdown",
   "metadata": {},
   "source": [
    "8\\. Diffusion using random walk\n",
    "\n",
    "Consider a simple random walk process: at each step in time, a walker jumps right or left (+1 or -1) with equal probability. The goal is to find the typical distance from the origin of a random walker after a given amount of time. \n",
    "To do that, let's simulate many walkers and create a 2D array with each walker as a raw and the actual time evolution as columns\n",
    "\n",
    "  * Take 1000 walkers and let them walk for 200 steps\n",
    "  * Use randint to create a 2D array of size walkers x steps with values -1 or 1\n",
    "  * Build the actual walking distances for each walker (i.e. another 2D array \"summing on each row\")\n",
    "  * Take the square of that 2D array (elementwise)\n",
    "  * Compute the mean of the squared distances at each step (i.e. the mean along the columns)\n",
    "  * Plot the average distances (sqrt(distance\\*\\*2)) as a function of time (step)\n",
    "  \n",
    "Did you get what you expected?"
   ]
  },
  {
   "cell_type": "code",
   "execution_count": 9,
   "metadata": {},
   "outputs": [
    {
     "name": "stdout",
     "output_type": "stream",
     "text": [
      "\n",
      "We now plot the mean distances over the time-step:\n"
     ]
    },
    {
     "data": {
      "image/png": "[encoded data removed]",
      "text/plain": [
       "<Figure size 432x288 with 1 Axes>"
      ]
     },
     "metadata": {
      "needs_background": "light"
     },
     "output_type": "display_data"
    }
   ],
   "source": [
    "random_steps = rnd.randint(2, size=(1000, 200)) * 2 - 1\n",
    "positions = numpy.cumsum(random_steps, axis=1)\n",
    "positions = numpy.square(positions)\n",
    "mean_distances = numpy.sqrt(numpy.mean(positions, axis=0))\n",
    "\n",
    "print(\"\\nWe now plot the mean distances over the time-step:\")\n",
    "%matplotlib inline\n",
    "plt.plot(numpy.arange(mean_distances.size)+1, mean_distances);"
   ]
  },
  {
   "cell_type": "markdown",
   "metadata": {},
   "source": [
    "We obtain that the distance as a function of the time-step behaves as a $\\sqrt n$, as expected from the analytical study of the monodimentional random-walk."
   ]
  },
  {
   "cell_type": "markdown",
   "metadata": {},
   "source": [
    "9\\. Analyze a data file \n",
    "  * Download the population of hares, lynxes and carrots at the beginning of the last century.\n",
    "    ```python\n",
    "    ! wget https://www.dropbox.com/s/3vigxoqayo389uc/populations.txt\n",
    "    ```\n",
    "\n",
    "  * Check the content by looking within the file\n",
    "  * Load the data (use an appropriate numpy method) into a 2D array\n",
    "  * Create arrays out of the columns, the arrays being (in order): *year*, *hares*, *lynxes*, *carrots* \n",
    "  * Plot the 3 populations over the years\n",
    "  * Compute the main statistical properties of the dataset (mean, std, correlations, etc.)\n",
    "  * Which species has the highest population each year?\n",
    "\n",
    "Do you feel there is some evident correlation here? [Studies](https://www.enr.gov.nt.ca/en/services/lynx/lynx-snowshoe-hare-cycle) tend to believe so."
   ]
  },
  {
   "cell_type": "code",
   "execution_count": 10,
   "metadata": {},
   "outputs": [
    {
     "name": "stdout",
     "output_type": "stream",
     "text": [
      "# year\thare\tlynx\tcarrot\n",
      "1900\t30e3\t4e3\t48300\n",
      "1901\t47.2e3\t6.1e3\t48200\n",
      "1902\t70.2e3\t9.8e3\t41500\n",
      "1903\t77.4e3\t35.2e3\t38200\n",
      "1904\t36.3e3\t59.4e3\t40600\n",
      "1905\t20.6e3\t41.7e3\t39800\n",
      "1906\t18.1e3\t19e3\t38600\n",
      "1907\t21.4e3\t13e3\t42300\n",
      "1908\t22e3\t8.3e3\t44500\n",
      "1909\t25.4e3\t9.1e3\t42100\n",
      "1910\t27.1e3\t7.4e3\t46000\n",
      "1911\t40.3e3\t8e3\t46800\n",
      "1912\t57e3\t12.3e3\t43800\n",
      "1913\t76.6e3\t19.5e3\t40900\n",
      "1914\t52.3e3\t45.7e3\t39400\n",
      "1915\t19.5e3\t51.1e3\t39000\n",
      "1916\t11.2e3\t29.7e3\t36700\n",
      "1917\t7.6e3\t15.8e3\t41800\n",
      "1918\t14.6e3\t9.7e3\t43300\n",
      "1919\t16.2e3\t10.1e3\t41300\n",
      "1920\t24.7e3\t8.6e3\t47300\n",
      "\n",
      "Here we have means:\n",
      "[34080.95238095 20166.66666667 42400.        ]\n",
      "Here the stds:\n",
      "[20897.90645809 16254.59153691  3322.50622558]\n",
      "Here the correlations:\n",
      "[[ 1.          0.07189206 -0.01660378]\n",
      " [ 0.07189206  1.         -0.68057717]\n",
      " [-0.01660378 -0.68057717  1.        ]]\n",
      "\n",
      "The species with highest population is:\n",
      "[['1900' 'carrots']\n",
      " ['1901' 'carrots']\n",
      " ['1902' 'hares']\n",
      " ['1903' 'hares']\n",
      " ['1904' 'lynxes']\n",
      " ['1905' 'lynxes']\n",
      " ['1906' 'carrots']\n",
      " ['1907' 'carrots']\n",
      " ['1908' 'carrots']\n",
      " ['1909' 'carrots']\n",
      " ['1910' 'carrots']\n",
      " ['1911' 'carrots']\n",
      " ['1912' 'hares']\n",
      " ['1913' 'hares']\n",
      " ['1914' 'hares']\n",
      " ['1915' 'lynxes']\n",
      " ['1916' 'carrots']\n",
      " ['1917' 'carrots']\n",
      " ['1918' 'carrots']\n",
      " ['1919' 'carrots']\n",
      " ['1920' 'carrots']]\n",
      "\n",
      "Plot!\n"
     ]
    },
    {
     "data": {
      "image/png": "[encoded data removed]",
      "text/plain": [
       "<Figure size 432x288 with 1 Axes>"
      ]
     },
     "metadata": {
      "needs_background": "light"
     },
     "output_type": "display_data"
    }
   ],
   "source": [
    "!cat populations.txt\n",
    "\n",
    "year, hares, lynxes, carrots = numpy.loadtxt(\"populations.txt\", skiprows=1, unpack=True)\n",
    "year = year.astype(int)\n",
    "\n",
    "%matplotlib inline\n",
    "plt.plot(year, hares, label=\"Hares\")\n",
    "plt.plot(year, lynxes, label=\"Lynxes\")\n",
    "plt.plot(year, carrots, label=\"Carrots\")\n",
    "plt.legend();\n",
    "\n",
    "means = numpy.array([numpy.mean(hares), numpy.mean(lynxes), numpy.mean(carrots)])\n",
    "stds = numpy.array([numpy.std(hares), numpy.std(lynxes), numpy.std(carrots)])\n",
    "correlations = numpy.corrcoef(numpy.array([hares,lynxes,carrots]))\n",
    "\n",
    "print(f\"\\nHere we have means:\\n{means}\\nHere the stds:\\n{stds}\\nHere the correlations:\\n{correlations}\\n\")\n",
    "\n",
    "data = numpy.column_stack((hares, lynxes, carrots))\n",
    "maxs = numpy.argmax(data, axis=1)\n",
    "labels = numpy.array([\"year\", \"hares\", \"lynxes\", \"carrots\"])\n",
    "\n",
    "print(f\"The species with highest population is:\\n{numpy.column_stack((year, labels[maxs+1]))}\\n\")\n",
    "\n",
    "print(\"Plot!\")"
   ]
  },
  {
   "cell_type": "markdown",
   "metadata": {},
   "source": [
    "Looking at the main statistical properties of this dataset we cannot evince anything: the standard deviations are very close to the means, and it means that the variations during the years are big compared to the population; besides, the correlation coefficients are very low, and this induce us to neglet any possible correlation among the different species.\n",
    "\n",
    "On the contrary, looking at the plot we can easily see a pattern: everytime a species population grows, the population of its predators grows as well (with some delay), and when the predators population grows the population former species decreases. And this goes on in a 10-years long loop.\n",
    "\n",
    "This implies that it's not possible to study properly a complex phenomenon using only the main statistical properties, and we need to take account of more sophisticated tools."
   ]
  },
  {
   "cell_type": "code",
   "execution_count": null,
   "metadata": {},
   "outputs": [],
   "source": []
  }
 ],
 "metadata": {
  "kernelspec": {
   "display_name": "Python 3",
   "language": "python",
   "name": "python3"
  },
  "language_info": {
   "codemirror_mode": {
    "name": "ipython",
    "version": 3
   },
   "file_extension": ".py",
   "mimetype": "text/x-python",
   "name": "python",
   "nbconvert_exporter": "python",
   "pygments_lexer": "ipython3",
   "version": "3.8.5"
  }
 },
 "nbformat": 4,
 "nbformat_minor": 2
}
