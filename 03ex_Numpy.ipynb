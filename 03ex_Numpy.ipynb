{
 "cells": [
  {
   "cell_type": "markdown",
   "metadata": {},
   "source": [
    "### Numpy basics"
   ]
  },
  {
   "cell_type": "code",
   "execution_count": 1,
   "metadata": {},
   "outputs": [],
   "source": [
    "import numpy as np"
   ]
  },
  {
   "cell_type": "markdown",
   "metadata": {},
   "source": [
    "1\\. Find the row, column and overall means for the following matrix:\n",
    "\n",
    "```python\n",
    "m = np.arange(12).reshape((3,4))\n",
    "```"
   ]
  },
  {
   "cell_type": "code",
   "execution_count": null,
   "metadata": {},
   "outputs": [],
   "source": [
    "#Exercise 1)\n",
    "\n",
    "m = np.arange(12).reshape((3,4))\n",
    "print(m)"
   ]
  },
  {
   "cell_type": "code",
   "execution_count": null,
   "metadata": {},
   "outputs": [],
   "source": [
    "#Exercise 2)\n",
    "u = np.array([1,3,5,7])\n",
    "v = np.array([2,4,6,8])\n",
    "\n",
    "\n",
    "#a)\n",
    "x=np.outer(u,v)\n",
    "print(x)\n",
    "\n",
    "#b)\n",
    "y=np.zeros([4,4])\n",
    "for i in range(0,4):\n",
    "    for j in range(0,4):\n",
    "        y[i,j]=u[i]*v[j]\n",
    "    \n",
    "print(y)\n",
    "\n",
    "#c)\n",
    "z=np.zeros((4,4))\n",
    "uu=np.reshape(u,(4,1))\n",
    "z=uu*v\n",
    "print(z)"
   ]
  },
  {
   "cell_type": "markdown",
   "metadata": {},
   "source": [
    "3\\. Create a 10 by 6 matrix of random uniform numbers. Set all rows with any entry less than 0.1 to be zero\n",
    "\n",
    "Hint: Use the following numpy functions - np.random.random, np.any as well as Boolean indexing and the axis argument."
   ]
  },
  {
   "cell_type": "code",
   "execution_count": null,
   "metadata": {},
   "outputs": [],
   "source": [
    "#Exercise 3)\n",
    "\n",
    "A = np.random.random((10,6))\n",
    "#print(A)\n",
    "\n",
    "\n",
    "for i in range(0,10):\n",
    "    for j in range(0,6):\n",
    "        if A[i,j]<0.1:\n",
    "            A[i,:]=0\n",
    "print(A)"
   ]
  },
  {
   "cell_type": "markdown",
   "metadata": {},
   "source": [
    "4\\. Use np.linspace to create an array of 100 numbers between 0 and 2π (includsive).\n",
    "\n",
    "  * Extract every 10th element using slice notation\n",
    "  * Reverse the array using slice notation\n",
    "  * Extract elements where the absolute difference between the sine and cosine functions evaluated at that element is less than 0.1\n",
    "  * Make a plot showing the sin and cos functions and indicate where they are close"
   ]
  },
  {
   "cell_type": "code",
   "execution_count": null,
   "metadata": {},
   "outputs": [],
   "source": [
    "#Exercise 4)\n",
    "from math import pi\n",
    "A=np.linspace(0,2*pi,100)\n",
    "print(\"A\",A)\n",
    "\n",
    "\n",
    "\n",
    "B=A[::10]\n",
    "print(\"B\",B)\n",
    "\n",
    "\n",
    "\n",
    "C=A[::-1]\n",
    "print(\"C\",C)\n",
    "\n",
    "\n",
    "\n",
    "import math\n",
    "D=[]\n",
    "for i in range(100):\n",
    "    if abs(math.sin(A[i])-math.cos(A[i]))<0.1:\n",
    "        D.append(A[i])\n",
    "print(\"D=\", D)\n",
    "\n",
    "\n",
    "\n",
    "import matplotlib.pyplot as plt\n",
    "\n",
    "cosine = np.cos(A)\n",
    "sine = np.sin(A)\n",
    "\n",
    "plt.plot(A,cosine)\n",
    "plt.plot(A, sine)\n",
    "plt.plot(D,np.sin(D), color=\"green\", marker=\"o\",linestyle=\"\")\n",
    "plt.plot(D,np.cos(D), color=\"red\", marker=\"o\",linestyle=\"\")\n",
    "\n",
    "plt.show()"
   ]
  },
  {
   "cell_type": "markdown",
   "metadata": {},
   "source": [
    "5\\. Create a matrix that shows the 10 by 10 multiplication table.\n",
    "\n",
    " * Find the trace of the matrix\n",
    " * Extract the anto-diagonal (this should be ```array([10, 18, 24, 28, 30, 30, 28, 24, 18, 10])```)\n",
    " * Extract the diagnoal offset by 1 upwards (this should be ```array([ 2,  6, 12, 20, 30, 42, 56, 72, 90])```)"
   ]
  },
  {
   "cell_type": "code",
   "execution_count": null,
   "metadata": {},
   "outputs": [],
   "source": [
    "#Execise 5)\n",
    "\n",
    "A=np.zeros([10,10])\n",
    "for i in range(0,10):\n",
    "    for j in range(0,10):\n",
    "        A[i,j]=(i+1)*(j+1)\n",
    "        \n",
    "print(A)\n",
    "\n",
    "trace=0\n",
    "for i in range(10):\n",
    "    trace=trace+A[i,i]\n",
    "print(trace)\n",
    "\n",
    "\n",
    "B=np.zeros(10)\n",
    "for i in range(10):\n",
    "    B[i]=A[i,9-i]\n",
    "print(B)\n",
    "\n",
    "C=np.zeros(9)\n",
    "for i in range(9):\n",
    "    C[i]=A[i,i+1]\n",
    "print(C)"
   ]
  },
  {
   "cell_type": "markdown",
   "metadata": {},
   "source": [
    "6\\. Use broadcasting to create a grid of distances\n",
    "\n",
    "Route 66 crosses the following cities in the US: Chicago, Springfield, Saint-Louis, Tulsa, Oklahoma City, Amarillo, Santa Fe, Albuquerque, Flagstaff, Los Angeles\n",
    "The corresponding positions in miles are: 0, 198, 303, 736, 871, 1175, 1475, 1544, 1913, 2448\n",
    "\n",
    "  * Construct a 2D grid of distances among each city along Route 66\n",
    "  * Convert that in km (those savages...)"
   ]
  },
  {
   "cell_type": "code",
   "execution_count": null,
   "metadata": {},
   "outputs": [],
   "source": [
    "#Execise 6)\n",
    "dis={\"Chicago\":0, \"Springfield\":198, \"Saint-Louis\":303, \"Tulsa\":736, \"Oklaoma City\":871, \"Amarillo\":1175, \"Santa Fe\":1475, \"Albuquerque\":1544, \"Flagstaff\":1913, \"Los Angeles\":2448}\n",
    "\n",
    "\n",
    "distance=[0, 198, 303, 736, 871, 1175, 1475, 1544, 1913, 2448]\n",
    "\n",
    "tab=np.zeros([10,10])\n",
    "for i in range(0,10):\n",
    "    for j in range(0,10):\n",
    "        tab[i,j]=abs(distance[i]-distance[j])\n",
    "print(tab)\n",
    "\n",
    "tab=tab*1.60934\n",
    "print(tab)"
   ]
  },
  {
   "cell_type": "markdown",
   "metadata": {},
   "source": [
    "7\\. Prime numbers sieve: compute the prime numbers in the 0-N (N=99 to start with) range with a sieve (mask).\n",
    "  * Constract a shape (100,) boolean array, the mask\n",
    "  * Identify the multiples of each number starting from 2 and set accordingly the corresponding mask element\n",
    "  * Apply the mask to obtain an array of ordered prime numbers\n",
    "  * Check the performances (timeit); how does it scale with N?\n",
    "  * Implement the optimization suggested in the [sieve of Eratosthenes](https://en.wikipedia.org/wiki/Sieve_of_Eratosthenes)"
   ]
  },
  {
   "cell_type": "code",
   "execution_count": null,
   "metadata": {},
   "outputs": [],
   "source": [
    "import time\n",
    "\n",
    "start = time.time()\n",
    "N=100\n",
    "num=[]\n",
    "prime = [True for i in range(N)] \n",
    "for i in range(2,N):\n",
    "    for j in range(i+1,N):\n",
    "        if j%i==0:\n",
    "            prime[j]=False\n",
    "for i in range(2,N):\n",
    "    if prime[i]==True:\n",
    "        num.append(i)\n",
    "#averageprint(num)\n",
    "end = time.time()\n",
    "print(N,end - start)\n",
    "\n",
    "\n",
    "\n",
    "start = time.time()\n",
    "N=1000\n",
    "num=[]\n",
    "prime = [True for i in range(N)] \n",
    "for i in range(2,N):\n",
    "    for j in range(i+1,N):\n",
    "        if j%i==0:\n",
    "            prime[j]=False\n",
    "for i in range(2,N):\n",
    "    if prime[i]==True:\n",
    "        num.append(i)\n",
    "#averageprint(num)\n",
    "end = time.time()\n",
    "print(N,end - start)\n",
    "\n",
    "\n",
    "start = time.time()\n",
    "N=10000\n",
    "num=[]\n",
    "prime = [True for i in range(N)] \n",
    "for i in range(2,N):\n",
    "    for j in range(i+1,N):\n",
    "        if j%i==0:\n",
    "            prime[j]=False\n",
    "for i in range(2,N):\n",
    "    if prime[i]==True:\n",
    "        num.append(i)\n",
    "#averageprint(num)\n",
    "end = time.time()\n",
    "print(N,end - start)\n",
    "\n",
    "\n",
    "#With this method time scales with N^2\n",
    "\n",
    "\n",
    "def prime_eratosthenes(n):\n",
    "    prime_list = []\n",
    "    prime=[]\n",
    "    for i in range(2, n+1):\n",
    "        if i not in prime_list:\n",
    "            prime.append(i)\n",
    "            for j in range(i*i, n+1, i):\n",
    "                prime_list.append(j)\n",
    "    \n",
    "start = time.time()\n",
    "prime_eratosthenes(N)\n",
    "end = time.time()\n",
    "print(end - start)"
   ]
  },
  {
   "cell_type": "markdown",
   "metadata": {},
   "source": [
    "8\\. Diffusion using random walk\n",
    "\n",
    "Consider a simple random walk process: at each step in time, a walker jumps right or left (+1 or -1) with equal probability. The goal is to find the typical distance from the origin of a random walker after a given amount of time. \n",
    "To do that, let's simulate many walkers and create a 2D array with each walker as a raw and the actual time evolution as columns\n",
    "\n",
    "  * Take 1000 walkers and let them walk for 200 steps\n",
    "  * Use randint to create a 2D array of size walkers x steps with values -1 or 1\n",
    "  * Build the actual walking distances for each walker (i.e. another 2D array \"summing on each raw\")\n",
    "  * Take the square of that 2D array (elementwise)\n",
    "  * Compute the mean of the squared distances at each step (i.e. the mean along the columns)\n",
    "  * Plot the average distances (sqrt(distance\\*\\*2)) as a function of time (step)\n",
    "  \n",
    "Did you get what you expected?"
   ]
  },
  {
   "cell_type": "code",
   "execution_count": null,
   "metadata": {},
   "outputs": [],
   "source": [
    "import matplotlib.pyplot as plt\n",
    "l = 200\n",
    "walker=1000\n",
    "matrix= np.zeros([walker,l])\n",
    "for j in range(walker):\n",
    "    for i in range(l):\n",
    "        matrix[j,i]=(np.random.choice([-1, 0])+0.5)*2\n",
    "\n",
    "#print(matrix)\n",
    "position=np.zeros([walker,l])\n",
    "for j in range(walker):\n",
    "    position[0,i]=matrix[0,i]\n",
    "    for i in range(1,l):\n",
    "        position[j,i]=position[j,i-1]+matrix[j,i]\n",
    "\n",
    "\n",
    "\n",
    "square=position**2\n",
    "mean=np.zeros(l)\n",
    "for i in range(l):\n",
    "    for j in range(walker):\n",
    "        mean[i]+=square[j,i]/walker\n",
    "#print(mean)\n",
    "average=mean**0.5\n",
    "plt.plot(average) \n",
    "\n",
    "\n",
    "#yes, i get what expected. The average distances is a function of the square root of time"
   ]
  },
  {
   "cell_type": "markdown",
   "metadata": {},
   "source": [
    "9\\. Analyze a data file \n",
    "  * Download the population of hares, lynxes and carrots at the beginning of the last century.\n",
    "    ```python\n",
    "    ! wget https://www.dropbox.com/s/3vigxoqayo389uc/populations.txt\n",
    "    ```\n",
    "\n",
    "  * Check the content by looking within the file\n",
    "  * Load the data (use an appropriate numpy method) into a 2D array\n",
    "  * Create arrays out of the columns, the arrays being (in order): *year*, *hares*, *lynxes*, *carrots* \n",
    "  * Plot the 3 populations over the years\n",
    "  * Compute the main statistical properties of the dataset (mean, std, correlations, etc.)\n",
    "  * Which species has the highest population each year?\n",
    "\n",
    "Do you feel there is some evident correlation here? [Studies](https://www.enr.gov.nt.ca/en/services/lynx/lynx-snowshoe-hare-cycle) tend to believe so."
   ]
  },
  {
   "cell_type": "code",
   "execution_count": 3,
   "metadata": {},
   "outputs": [
    {
     "name": "stdout",
     "output_type": "stream",
     "text": [
      "--2020-11-02 22:25:27--  https://www.dropbox.com/s/3vigxoqayo389uc/populations.txt\n",
      "Resolving www.dropbox.com (www.dropbox.com)... 162.125.64.1\n",
      "Connecting to www.dropbox.com (www.dropbox.com)|162.125.64.1|:443... connected.\n",
      "HTTP request sent, awaiting response... 301 Moved Permanently\n",
      "Location: /s/raw/3vigxoqayo389uc/populations.txt [following]\n",
      "--2020-11-02 22:25:28--  https://www.dropbox.com/s/raw/3vigxoqayo389uc/populations.txt\n",
      "Reusing existing connection to www.dropbox.com:443.\n",
      "HTTP request sent, awaiting response... 302 Found\n",
      "Location: https://uc971807287189052f3a5bbebccf.dl.dropboxusercontent.com/cd/0/inline/BCdFCl24EZw2At_NeB-5txOpKfNaVbHiOiGgfY4TtdZWGBHkl3zaSTl12v-4yxyHQhVJ0OVHeWADsrdweZUlfqXhQ66v65_Y8MfXwRh7Z7uVPQ/file# [following]\n",
      "--2020-11-02 22:25:28--  https://uc971807287189052f3a5bbebccf.dl.dropboxusercontent.com/cd/0/inline/BCdFCl24EZw2At_NeB-5txOpKfNaVbHiOiGgfY4TtdZWGBHkl3zaSTl12v-4yxyHQhVJ0OVHeWADsrdweZUlfqXhQ66v65_Y8MfXwRh7Z7uVPQ/file\n",
      "Resolving uc971807287189052f3a5bbebccf.dl.dropboxusercontent.com (uc971807287189052f3a5bbebccf.dl.dropboxusercontent.com)... 162.125.64.15\n",
      "Connecting to uc971807287189052f3a5bbebccf.dl.dropboxusercontent.com (uc971807287189052f3a5bbebccf.dl.dropboxusercontent.com)|162.125.64.15|:443... connected.\n",
      "HTTP request sent, awaiting response... 200 OK\n",
      "Length: 525 [text/plain]\n",
      "Saving to: ‘populations.txt’\n",
      "\n",
      "populations.txt     100%[===================>]     525  --.-KB/s    in 0s      \n",
      "\n",
      "2020-11-02 22:25:29 (17.3 MB/s) - ‘populations.txt’ saved [525/525]\n",
      "\n"
     ]
    }
   ],
   "source": [
    "! wget https://www.dropbox.com/s/3vigxoqayo389uc/populations.txt"
   ]
  },
  {
   "cell_type": "code",
   "execution_count": 4,
   "metadata": {},
   "outputs": [],
   "source": [
    "c=np.loadtxt(\"populations.txt\")\n"
   ]
  },
  {
   "cell_type": "code",
   "execution_count": 5,
   "metadata": {},
   "outputs": [
    {
     "name": "stdout",
     "output_type": "stream",
     "text": [
      "Carrots had the highest population in  1900 \n",
      "Carrots had the highest population in  1901 \n",
      "Hares had the highest population in  1902 \n",
      "Hares had the highest population in  1903 \n",
      "Lynxes had the highest population in  1904 \n",
      "Lynxes had the highest population in  1905 \n",
      "Carrots had the highest population in  1906 \n",
      "Carrots had the highest population in  1907 \n",
      "Carrots had the highest population in  1908 \n",
      "Carrots had the highest population in  1909 \n",
      "Carrots had the highest population in  1910 \n",
      "Carrots had the highest population in  1911 \n",
      "Hares had the highest population in  1912 \n",
      "Hares had the highest population in  1913 \n",
      "Hares had the highest population in  1914 \n",
      "Lynxes had the highest population in  1915 \n",
      "Carrots had the highest population in  1916 \n",
      "Carrots had the highest population in  1917 \n",
      "Carrots had the highest population in  1918 \n",
      "Carrots had the highest population in  1919 \n",
      "Carrots had the highest population in  1920 \n"
     ]
    },
    {
     "data": {
      "image/png": "[encoded data removed]",
      "text/plain": [
       "<Figure size 432x288 with 1 Axes>"
      ]
     },
     "metadata": {
      "needs_background": "light"
     },
     "output_type": "display_data"
    }
   ],
   "source": [
    "year=np.zeros(21)\n",
    "hare=np.zeros(21)\n",
    "lynx=np.zeros(21)\n",
    "carrot=np.zeros(21)\n",
    "\n",
    "for i in range(21):\n",
    "    year[i]=c[i,0]\n",
    "    hare[i]=c[i,1]\n",
    "    lynx[i]=c[i,2]\n",
    "    carrot[i]=c[i,3]\n",
    "\n",
    "    \n",
    "from matplotlib import pyplot as plt\n",
    "plt.plot(year,hare)\n",
    "plt.plot(year,lynx)\n",
    "plt.plot(year,carrot)\n",
    "\n",
    "m_hare=np.mean(hare)\n",
    "m_lynx=np.mean(lynx)\n",
    "m_carrot=np.mean(carrot)\n",
    "\n",
    "\n",
    "m_hare=np.std(hare)\n",
    "m_lynx=np.std(lynx)\n",
    "m_carrot=np.std(carrot)\n",
    "\n",
    "\n",
    "corr12= np.corrcoef(hare, lynx)\n",
    "corr23=np.corrcoef(lynx, carrot)\n",
    "corr31=np.corrcoef(carrot, hare)\n",
    " \n",
    "for i in range(21):\n",
    "    result = np.where(c == np.amax(c[i,:]))\n",
    "    if result[1]==[1]:\n",
    "        print(\"Hares had the highest population in \", int(c[i,0]), \"\")\n",
    "    elif result[1]==[2]:\n",
    "        print(\"Lynxes had the highest population in \", int(c[i,0]), \"\")\n",
    "    else:\n",
    "        print(\"Carrots had the highest population in \", int(c[i,0]), \"\")\n",
    "        \n",
    "#Yes, from the results i can feel a strong correlation, \n",
    "#despite the low correlation between hares and lynxes and between hares and carrots"
   ]
  },
  {
   "cell_type": "code",
   "execution_count": null,
   "metadata": {},
   "outputs": [],
   "source": []
  }
 ],
 "metadata": {
  "kernelspec": {
   "display_name": "Python 3",
   "language": "python",
   "name": "python3"
  },
  "language_info": {
   "codemirror_mode": {
    "name": "ipython",
    "version": 3
   },
   "file_extension": ".py",
   "mimetype": "text/x-python",
   "name": "python",
   "nbconvert_exporter": "python",
   "pygments_lexer": "ipython3",
   "version": "3.7.6"
  }
 },
 "nbformat": 4,
 "nbformat_minor": 2
}
