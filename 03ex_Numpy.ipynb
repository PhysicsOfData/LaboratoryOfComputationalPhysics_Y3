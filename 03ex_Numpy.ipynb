{
 "cells": [
  {
   "cell_type": "markdown",
   "metadata": {},
   "source": [
    "### Numpy basics"
   ]
  },
  {
   "cell_type": "markdown",
   "metadata": {},
   "source": [
    "1\\. Find the row, column and overall means for the following matrix:\n",
    "\n",
    "```python\n",
    "m = np.arange(12).reshape((3,4))\n",
    "```"
   ]
  },
  {
   "cell_type": "code",
   "execution_count": 1,
   "metadata": {},
   "outputs": [
    {
     "name": "stdout",
     "output_type": "stream",
     "text": [
      "[[ 0  1  2  3]\n",
      " [ 4  5  6  7]\n",
      " [ 8  9 10 11]] \n",
      "\n",
      "overall means =  5.5 \n",
      "\n",
      "Mean of row  0  =  1.5 \n",
      "\n",
      "Mean of row  1  =  5.5 \n",
      "\n",
      "Mean of row  2  =  9.5 \n",
      "\n",
      "Mean of column  0  =  4.0 \n",
      "\n",
      "Mean of column  1  =  5.0 \n",
      "\n",
      "Mean of column  2  =  6.0 \n",
      "\n",
      "Mean of column  3  =  7.0 \n",
      "\n"
     ]
    }
   ],
   "source": [
    "import numpy as np\n",
    "m = np.arange(12).reshape((3,4))\n",
    "print(m,'\\n')\n",
    "print('overall means = ',np.mean(m),'\\n')\n",
    "n_r,n_c=m.shape\n",
    "\n",
    "for r in range(n_r):\n",
    "    print('Mean of row ',r,' = ',np.mean(m[r,:]),'\\n')\n",
    "    \n",
    "for c in range(n_c):\n",
    "    print('Mean of column ',c,' = ',np.mean(m[:,c]),'\\n')"
   ]
  },
  {
   "cell_type": "markdown",
   "metadata": {},
   "source": [
    "2\\. Find the outer product of the following two vecotrs\n",
    "\n",
    "```python\n",
    "u = np.array([1,3,5,7])\n",
    "v = np.array([2,4,6,8])\n",
    "```\n",
    "\n",
    "Do this in the following ways:\n",
    "\n",
    "   * Using the function outer in numpy\n",
    "   * Using a nested for loop or list comprehension\n",
    "   * Using numpy broadcasting operatoins\n"
   ]
  },
  {
   "cell_type": "code",
   "execution_count": 2,
   "metadata": {},
   "outputs": [],
   "source": [
    "u = np.array([1,3,5,7])\n",
    "v = np.array([2,4,6])\n",
    "\n",
    "def out1(a,b):\n",
    "    m=np.zeros((len(a),len(b)))\n",
    "    for i in range(len(a)):\n",
    "        for j in range(len(b)):\n",
    "            m[i,j]=a[i]*b[j] \n",
    "    return m\n",
    "def out2(a,b):\n",
    "    m=np.zeros((len(a),len(b)))\n",
    "    for i in range(len(a)):\n",
    "        m[i,:]=a[i]*b\n",
    "    return m"
   ]
  },
  {
   "cell_type": "code",
   "execution_count": 3,
   "metadata": {},
   "outputs": [
    {
     "name": "stdout",
     "output_type": "stream",
     "text": [
      "[1 3 5 7] \n",
      " [2 4 6] \n",
      "\n",
      "[[ 2  4  6]\n",
      " [ 6 12 18]\n",
      " [10 20 30]\n",
      " [14 28 42]] \n",
      "\n",
      "[[ 2.  4.  6.]\n",
      " [ 6. 12. 18.]\n",
      " [10. 20. 30.]\n",
      " [14. 28. 42.]] \n",
      "\n",
      "[[ 2.  4.  6.]\n",
      " [ 6. 12. 18.]\n",
      " [10. 20. 30.]\n",
      " [14. 28. 42.]] \n",
      "\n"
     ]
    }
   ],
   "source": [
    "print(u,'\\n',v,'\\n')\n",
    "print(np.outer(u,v),'\\n')\n",
    "print(out1(u,v),'\\n')\n",
    "print(out2(u,v),'\\n')\n"
   ]
  },
  {
   "cell_type": "markdown",
   "metadata": {},
   "source": [
    "3\\. Create a 10 by 6 matrix of random uniform numbers. Set all rows with any entry less than 0.1 to be zero\n",
    "\n",
    "Hint: Use the following numpy functions - np.random.random, np.any as well as Boolean indexing and the axis argument."
   ]
  },
  {
   "cell_type": "code",
   "execution_count": 4,
   "metadata": {},
   "outputs": [
    {
     "name": "stdout",
     "output_type": "stream",
     "text": [
      "Before  [[0.29049564 0.58822145 0.94689558 0.24068452 0.57092424 0.78046498]\n",
      " [0.66833511 0.38162448 0.88667367 0.91413579 0.40663924 0.57536663]\n",
      " [0.96991968 0.657847   0.29102356 0.58812207 0.05564467 0.67143523]\n",
      " [0.28788265 0.72235744 0.52113669 0.80796004 0.2777777  0.8768002 ]\n",
      " [0.79592609 0.29134874 0.96872168 0.09100338 0.43925416 0.47985282]\n",
      " [0.66306104 0.24012867 0.06026566 0.20994176 0.57645875 0.63426384]\n",
      " [0.02962283 0.66867906 0.50739574 0.26366378 0.9849984  0.89718761]\n",
      " [0.40338379 0.36979113 0.79007868 0.26538881 0.33609615 0.06901046]\n",
      " [0.40385236 0.0660834  0.3069695  0.87478352 0.86991359 0.52095624]\n",
      " [0.80271676 0.76719671 0.24376108 0.08879397 0.84227982 0.73494253]]\n",
      "After  [[0.29049564 0.58822145 0.94689558 0.24068452 0.57092424 0.78046498]\n",
      " [0.66833511 0.38162448 0.88667367 0.91413579 0.40663924 0.57536663]\n",
      " [0.96991968 0.657847   0.29102356 0.58812207 0.         0.67143523]\n",
      " [0.28788265 0.72235744 0.52113669 0.80796004 0.2777777  0.8768002 ]\n",
      " [0.79592609 0.29134874 0.96872168 0.         0.43925416 0.47985282]\n",
      " [0.66306104 0.24012867 0.         0.20994176 0.57645875 0.63426384]\n",
      " [0.         0.66867906 0.50739574 0.26366378 0.9849984  0.89718761]\n",
      " [0.40338379 0.36979113 0.79007868 0.26538881 0.33609615 0.        ]\n",
      " [0.40385236 0.         0.3069695  0.87478352 0.86991359 0.52095624]\n",
      " [0.80271676 0.76719671 0.24376108 0.         0.84227982 0.73494253]]\n"
     ]
    }
   ],
   "source": [
    "m=np.random.random((10,6))\n",
    "print('Before ',m)\n",
    "m[m<0.1]=0\n",
    "print('After ',m)"
   ]
  },
  {
   "cell_type": "markdown",
   "metadata": {},
   "source": [
    "4\\. Use np.linspace to create an array of 100 numbers between 0 and 2π (includsive).\n",
    "\n",
    "  * Extract every 10th element using slice notation\n",
    "  * Reverse the array using slice notation\n",
    "  * Extract elements where the absolute difference between the sine and cosine functions evaluated at that element is less than 0.1\n",
    "  * Make a plot showing the sin and cos functions and indicate where they are close"
   ]
  },
  {
   "cell_type": "code",
   "execution_count": 5,
   "metadata": {},
   "outputs": [
    {
     "name": "stdout",
     "output_type": "stream",
     "text": [
      "[0.         0.06346652 0.12693304 0.19039955 0.25386607 0.31733259\n",
      " 0.38079911 0.44426563 0.50773215 0.57119866 0.63466518 0.6981317\n",
      " 0.76159822 0.82506474 0.88853126 0.95199777 1.01546429 1.07893081\n",
      " 1.14239733 1.20586385 1.26933037 1.33279688 1.3962634  1.45972992\n",
      " 1.52319644 1.58666296 1.65012947 1.71359599 1.77706251 1.84052903\n",
      " 1.90399555 1.96746207 2.03092858 2.0943951  2.15786162 2.22132814\n",
      " 2.28479466 2.34826118 2.41172769 2.47519421 2.53866073 2.60212725\n",
      " 2.66559377 2.72906028 2.7925268  2.85599332 2.91945984 2.98292636\n",
      " 3.04639288 3.10985939 3.17332591 3.23679243 3.30025895 3.36372547\n",
      " 3.42719199 3.4906585  3.55412502 3.61759154 3.68105806 3.74452458\n",
      " 3.8079911  3.87145761 3.93492413 3.99839065 4.06185717 4.12532369\n",
      " 4.1887902  4.25225672 4.31572324 4.37918976 4.44265628 4.5061228\n",
      " 4.56958931 4.63305583 4.69652235 4.75998887 4.82345539 4.88692191\n",
      " 4.95038842 5.01385494 5.07732146 5.14078798 5.2042545  5.26772102\n",
      " 5.33118753 5.39465405 5.45812057 5.52158709 5.58505361 5.64852012\n",
      " 5.71198664 5.77545316 5.83891968 5.9023862  5.96585272 6.02931923\n",
      " 6.09278575 6.15625227 6.21971879 6.28318531] \n",
      "\n",
      "[0.         0.63466518 1.26933037 1.90399555 2.53866073 3.17332591\n",
      " 3.8079911  4.44265628 5.07732146 5.71198664] \n",
      "\n",
      "[6.28318531 6.21971879 6.15625227 6.09278575 6.02931923 5.96585272\n",
      " 5.9023862  5.83891968 5.77545316 5.71198664 5.64852012 5.58505361\n",
      " 5.52158709 5.45812057 5.39465405 5.33118753 5.26772102 5.2042545\n",
      " 5.14078798 5.07732146 5.01385494 4.95038842 4.88692191 4.82345539\n",
      " 4.75998887 4.69652235 4.63305583 4.56958931 4.5061228  4.44265628\n",
      " 4.37918976 4.31572324 4.25225672 4.1887902  4.12532369 4.06185717\n",
      " 3.99839065 3.93492413 3.87145761 3.8079911  3.74452458 3.68105806\n",
      " 3.61759154 3.55412502 3.4906585  3.42719199 3.36372547 3.30025895\n",
      " 3.23679243 3.17332591 3.10985939 3.04639288 2.98292636 2.91945984\n",
      " 2.85599332 2.7925268  2.72906028 2.66559377 2.60212725 2.53866073\n",
      " 2.47519421 2.41172769 2.34826118 2.28479466 2.22132814 2.15786162\n",
      " 2.0943951  2.03092858 1.96746207 1.90399555 1.84052903 1.77706251\n",
      " 1.71359599 1.65012947 1.58666296 1.52319644 1.45972992 1.3962634\n",
      " 1.33279688 1.26933037 1.20586385 1.14239733 1.07893081 1.01546429\n",
      " 0.95199777 0.88853126 0.82506474 0.76159822 0.6981317  0.63466518\n",
      " 0.57119866 0.50773215 0.44426563 0.38079911 0.31733259 0.25386607\n",
      " 0.19039955 0.12693304 0.06346652 0.        ] \n",
      "\n",
      "[0.76159822 0.82506474 3.87145761 3.93492413] \n",
      "\n"
     ]
    },
    {
     "data": {
      "text/plain": [
       "<matplotlib.legend.Legend at 0x7f32485c58e0>"
      ]
     },
     "execution_count": 5,
     "metadata": {},
     "output_type": "execute_result"
    },
    {
     "data": {
      "image/png": "[encoded data removed]",
      "text/plain": [
       "<Figure size 432x288 with 1 Axes>"
      ]
     },
     "metadata": {
      "needs_background": "light"
     },
     "output_type": "display_data"
    }
   ],
   "source": [
    "from math import pi\n",
    "import matplotlib.pyplot as plt # everybody imports it that way\n",
    "\n",
    "#0\n",
    "a=np.linspace(0,2*pi,100)\n",
    "print(a,'\\n')\n",
    "#1\n",
    "print(a[::10],'\\n')\n",
    "#2\n",
    "print(a[::-1],'\\n')\n",
    "#3\n",
    "print(a[abs(np.cos(a)-np.sin(a))<0.1],'\\n')\n",
    "#4\n",
    "plt.plot(a,np.sin(a),label='sin')\n",
    "plt.plot(a,np.cos(a),label='cos')\n",
    "\n",
    "b=a[abs(np.cos(a)-np.sin(a))<0.3]\n",
    "plt.plot(b,np.cos(b),'.r',label='close points')\n",
    "plt.plot(b,np.sin(b),'.r',label='close points')\n",
    "\n",
    "plt.legend()"
   ]
  },
  {
   "cell_type": "markdown",
   "metadata": {},
   "source": [
    "5\\. Create a matrix that shows the 10 by 10 multiplication table.\n",
    "\n",
    " * Find the trace of the matrix\n",
    " * Extract the anto-diagonal (this should be ```array([10, 18, 24, 28, 30, 30, 28, 24, 18, 10])```)\n",
    " * Extract the diagnoal offset by 1 upwards (this should be ```array([ 2,  6, 12, 20, 30, 42, 56, 72, 90])```)"
   ]
  },
  {
   "cell_type": "code",
   "execution_count": 6,
   "metadata": {},
   "outputs": [
    {
     "name": "stdout",
     "output_type": "stream",
     "text": [
      "[[  1   2   3   4   5   6   7   8   9  10]\n",
      " [  2   4   6   8  10  12  14  16  18  20]\n",
      " [  3   6   9  12  15  18  21  24  27  30]\n",
      " [  4   8  12  16  20  24  28  32  36  40]\n",
      " [  5  10  15  20  25  30  35  40  45  50]\n",
      " [  6  12  18  24  30  36  42  48  54  60]\n",
      " [  7  14  21  28  35  42  49  56  63  70]\n",
      " [  8  16  24  32  40  48  56  64  72  80]\n",
      " [  9  18  27  36  45  54  63  72  81  90]\n",
      " [ 10  20  30  40  50  60  70  80  90 100]] \n",
      "\n",
      "385 \n",
      "\n",
      "[10 18 24 28 30 30 28 24 18 10] \n",
      "\n",
      "[ 2  6 12 20 30 42 56 72 90] \n",
      "\n"
     ]
    }
   ],
   "source": [
    "m=np.transpose([i*j for i in range(1,11) for j in range(1,11)])\n",
    "m=m.reshape((10,10))\n",
    "print(m,'\\n')\n",
    "#trace\n",
    "print(np.trace(m),'\\n')\n",
    "#anto-diagonal\n",
    "print(np.fliplr(m).diagonal(),'\\n')\n",
    "#digonal offset\n",
    "print(np.diagonal(m[:,1:]),'\\n')\n",
    "\n",
    "\n"
   ]
  },
  {
   "cell_type": "markdown",
   "metadata": {},
   "source": [
    "6\\. Use broadcasting to create a grid of distances\n",
    "\n",
    "Route 66 crosses the following cities in the US: Chicago, Springfield, Saint-Louis, Tulsa, Oklahoma City, Amarillo, Santa Fe, Albuquerque, Flagstaff, Los Angeles\n",
    "The corresponding positions in miles are: 0, 198, 303, 736, 871, 1175, 1475, 1544, 1913, 2448\n",
    "\n",
    "  * Construct a 2D grid of distances among each city along Route 66\n",
    "  * Convert that in km (those savages...)"
   ]
  },
  {
   "cell_type": "code",
   "execution_count": 7,
   "metadata": {
    "scrolled": true
   },
   "outputs": [
    {
     "name": "stdout",
     "output_type": "stream",
     "text": [
      "[0, 198, 303, 736, 871, 1175, 1475, 1544, 1913, 2448]\n",
      "GRID MILES: \n",
      " [[   0.  198.  303.  736.  871. 1175. 1475. 1544. 1913. 2448.]\n",
      " [ 198.    0.  105.  538.  673.  977. 1277. 1346. 1715. 2250.]\n",
      " [ 303.  105.    0.  433.  568.  872. 1172. 1241. 1610. 2145.]\n",
      " [ 736.  538.  433.    0.  135.  439.  739.  808. 1177. 1712.]\n",
      " [ 871.  673.  568.  135.    0.  304.  604.  673. 1042. 1577.]\n",
      " [1175.  977.  872.  439.  304.    0.  300.  369.  738. 1273.]\n",
      " [1475. 1277. 1172.  739.  604.  300.    0.   69.  438.  973.]\n",
      " [1544. 1346. 1241.  808.  673.  369.   69.    0.  369.  904.]\n",
      " [1913. 1715. 1610. 1177. 1042.  738.  438.  369.    0.  535.]\n",
      " [2448. 2250. 2145. 1712. 1577. 1273.  973.  904.  535.    0.]]\n",
      "GRID KM: \n",
      " [[   0.    318.78  487.83 1184.96 1402.31 1891.75 2374.75 2485.84 3079.93\n",
      "  3941.28]\n",
      " [ 318.78    0.    169.05  866.18 1083.53 1572.97 2055.97 2167.06 2761.15\n",
      "  3622.5 ]\n",
      " [ 487.83  169.05    0.    697.13  914.48 1403.92 1886.92 1998.01 2592.1\n",
      "  3453.45]\n",
      " [1184.96  866.18  697.13    0.    217.35  706.79 1189.79 1300.88 1894.97\n",
      "  2756.32]\n",
      " [1402.31 1083.53  914.48  217.35    0.    489.44  972.44 1083.53 1677.62\n",
      "  2538.97]\n",
      " [1891.75 1572.97 1403.92  706.79  489.44    0.    483.    594.09 1188.18\n",
      "  2049.53]\n",
      " [2374.75 2055.97 1886.92 1189.79  972.44  483.      0.    111.09  705.18\n",
      "  1566.53]\n",
      " [2485.84 2167.06 1998.01 1300.88 1083.53  594.09  111.09    0.    594.09\n",
      "  1455.44]\n",
      " [3079.93 2761.15 2592.1  1894.97 1677.62 1188.18  705.18  594.09    0.\n",
      "   861.35]\n",
      " [3941.28 3622.5  3453.45 2756.32 2538.97 2049.53 1566.53 1455.44  861.35\n",
      "     0.  ]]\n"
     ]
    }
   ],
   "source": [
    "dist=[0, 198, 303, 736, 871, 1175, 1475, 1544, 1913, 2448]\n",
    "print(dist)\n",
    "grid=np.zeros((len(dist),len(dist)))\n",
    "for i in range(len(dist)):\n",
    "    grid[i,:]+=dist-np.full(len(dist),dist[i])\n",
    "\n",
    "grid=abs(grid)\n",
    "print('GRID MILES: \\n',grid)\n",
    "print('GRID KM: \\n',grid*1.61)"
   ]
  },
  {
   "cell_type": "markdown",
   "metadata": {},
   "source": [
    "7\\. Prime numbers sieve: compute the prime numbers in the 0-N (N=99 to start with) range with a sieve (mask).\n",
    "  * Constract a shape (100,) boolean array, the mask\n",
    "  * Identify the multiples of each number starting from 2 and set accordingly the corresponding mask element\n",
    "  * Apply the mask to obtain an array of ordered prime numbers\n",
    "  * Check the performances (timeit); how does it scale with N?\n",
    "  * Implement the optimization suggested in the [sieve of Eratosthenes](https://en.wikipedia.org/wiki/Sieve_of_Eratosthenes)"
   ]
  },
  {
   "cell_type": "code",
   "execution_count": 8,
   "metadata": {},
   "outputs": [
    {
     "name": "stdout",
     "output_type": "stream",
     "text": [
      "140 µs ± 7.63 µs per loop (mean ± std. dev. of 7 runs, 10000 loops each)\n",
      "225 µs ± 11.1 µs per loop (mean ± std. dev. of 7 runs, 1000 loops each)\n",
      "315 µs ± 16.2 µs per loop (mean ± std. dev. of 7 runs, 1000 loops each)\n",
      "1.11 ms ± 76.4 µs per loop (mean ± std. dev. of 7 runs, 1000 loops each)\n"
     ]
    }
   ],
   "source": [
    "def prime(N=100):\n",
    "    prime=[]\n",
    "    v=np.array(range(N))\n",
    "    v=v[v!=1]\n",
    "    v=v[v!=0]\n",
    "    while len(v):\n",
    "        n=v[0]\n",
    "        prime.append(n)\n",
    "        v=v[v%n!=0]\n",
    "\n",
    "    return np.transpose(prime)\n",
    "\n",
    "%timeit prime(100)\n",
    "%timeit prime(200)\n",
    "%timeit prime(300)\n",
    "%timeit prime(1000)"
   ]
  },
  {
   "cell_type": "markdown",
   "metadata": {},
   "source": [
    "8\\. Diffusion using random walk\n",
    "\n",
    "Consider a simple random walk process: at each step in time, a walker jumps right or left (+1 or -1) with equal probability. The goal is to find the typical distance from the origin of a random walker after a given amount of time. \n",
    "To do that, let's simulate many walkers and create a 2D array with each walker as a raw and the actual time evolution as columns\n",
    "\n",
    "  * Take 1000 walkers and let them walk for 200 steps\n",
    "  * Use randint to create a 2D array of size walkers x steps with values -1 or 1\n",
    "  * Build the actual walking distances for each walker (i.e. another 2D array \"summing on each raw\")\n",
    "  * Take the square of that 2D array (elementwise)\n",
    "  * Compute the mean of the squared distances at each step (i.e. the mean along the columns)\n",
    "  * Plot the average distances (sqrt(distance\\*\\*2)) as a function of time (step)\n",
    "  \n",
    "Did you get what you expected?"
   ]
  },
  {
   "cell_type": "code",
   "execution_count": 9,
   "metadata": {},
   "outputs": [
    {
     "name": "stdout",
     "output_type": "stream",
     "text": [
      "[[-1 -1 -1 ...  1  1 -1]\n",
      " [ 1  1 -1 ...  1  1 -1]\n",
      " [-1 -1 -1 ...  1  1 -1]\n",
      " ...\n",
      " [ 1 -1 -1 ... -1 -1  1]\n",
      " [-1 -1 -1 ... -1 -1 -1]\n",
      " [ 1 -1 -1 ... -1 -1 -1]] \n",
      "\n"
     ]
    },
    {
     "data": {
      "text/plain": [
       "[<matplotlib.lines.Line2D at 0x7f3247862b80>]"
      ]
     },
     "execution_count": 9,
     "metadata": {},
     "output_type": "execute_result"
    },
    {
     "data": {
      "image/png": "[encoded data removed]",
      "text/plain": [
       "<Figure size 432x288 with 1 Axes>"
      ]
     },
     "metadata": {
      "needs_background": "light"
     },
     "output_type": "display_data"
    }
   ],
   "source": [
    "steps=200\n",
    "walkers=1000\n",
    "w=np.random.randint(2, size=(steps,walkers))\n",
    "#w=np.random.randint(2, size=(5,2))\n",
    "w[w==0]=-1\n",
    "print(w,'\\n')\n",
    "\n",
    "r,c=np.shape(w)\n",
    "for i in range(r):\n",
    "    for j in range(i+1,r):\n",
    "        w[r-i-1]+=w[r-j-1]\n",
    "        \n",
    "w=w**2\n",
    "d=np.array([np.mean(r) for r in w])\n",
    "\n",
    "plt.plot(d**0.5)"
   ]
  },
  {
   "cell_type": "markdown",
   "metadata": {},
   "source": [
    "9\\. Analyze a data file \n",
    "  * Download the population of hares, lynxes and carrots at the beginning of the last century.\n",
    "    ```python\n",
    "    ! wget https://www.dropbox.com/s/3vigxoqayo389uc/populations.txt\n",
    "    ```\n",
    "\n",
    "  * Check the content by looking within the file\n",
    "  * Load the data (use an appropriate numpy method) into a 2D array\n",
    "  * Create arrays out of the columns, the arrays being (in order): *year*, *hares*, *lynxes*, *carrots* \n",
    "  * Plot the 3 populations over the years\n",
    "  * Compute the main statistical properties of the dataset (mean, std, correlations, etc.)\n",
    "  * Which species has the highest population each year?\n",
    "\n",
    "Do you feel there is some evident correlation here? [Studies](https://www.enr.gov.nt.ca/en/services/lynx/lynx-snowshoe-hare-cycle) tend to believe so."
   ]
  },
  {
   "cell_type": "code",
   "execution_count": 10,
   "metadata": {},
   "outputs": [
    {
     "name": "stdout",
     "output_type": "stream",
     "text": [
      "# year\thare\tlynx\tcarrot\r\n",
      "1900\t30e3\t4e3\t48300\r\n",
      "1901\t47.2e3\t6.1e3\t48200\r\n",
      "1902\t70.2e3\t9.8e3\t41500\r\n",
      "1903\t77.4e3\t35.2e3\t38200\r\n",
      "1904\t36.3e3\t59.4e3\t40600\r\n",
      "1905\t20.6e3\t41.7e3\t39800\r\n",
      "1906\t18.1e3\t19e3\t38600\r\n",
      "1907\t21.4e3\t13e3\t42300\r\n",
      "1908\t22e3\t8.3e3\t44500\r\n",
      "1909\t25.4e3\t9.1e3\t42100\r\n",
      "1910\t27.1e3\t7.4e3\t46000\r\n",
      "1911\t40.3e3\t8e3\t46800\r\n",
      "1912\t57e3\t12.3e3\t43800\r\n",
      "1913\t76.6e3\t19.5e3\t40900\r\n",
      "1914\t52.3e3\t45.7e3\t39400\r\n",
      "1915\t19.5e3\t51.1e3\t39000\r\n",
      "1916\t11.2e3\t29.7e3\t36700\r\n",
      "1917\t7.6e3\t15.8e3\t41800\r\n",
      "1918\t14.6e3\t9.7e3\t43300\r\n",
      "1919\t16.2e3\t10.1e3\t41300\r\n",
      "1920\t24.7e3\t8.6e3\t47300\r\n"
     ]
    }
   ],
   "source": [
    "!cat popu*"
   ]
  },
  {
   "cell_type": "code",
   "execution_count": 11,
   "metadata": {},
   "outputs": [],
   "source": [
    "data=np.loadtxt('populations.txt')"
   ]
  },
  {
   "cell_type": "code",
   "execution_count": 23,
   "metadata": {},
   "outputs": [
    {
     "data": {
      "text/plain": [
       "<matplotlib.legend.Legend at 0x7f324789b700>"
      ]
     },
     "execution_count": 23,
     "metadata": {},
     "output_type": "execute_result"
    },
    {
     "data": {
      "image/png": "[encoded data removed]",
      "text/plain": [
       "<Figure size 432x288 with 1 Axes>"
      ]
     },
     "metadata": {
      "needs_background": "light"
     },
     "output_type": "display_data"
    }
   ],
   "source": [
    "y=data[:,0]\n",
    "hare=data[:,1]\n",
    "lynx=data[:,2]\n",
    "carrot=data[:,3]\n",
    "plt.plot(y,hare,label='hare')\n",
    "plt.plot(y,lynx,label='lynx')\n",
    "plt.plot(y,carrot,label='carrot')\n",
    "plt.legend()"
   ]
  },
  {
   "cell_type": "code",
   "execution_count": 26,
   "metadata": {},
   "outputs": [
    {
     "name": "stdout",
     "output_type": "stream",
     "text": [
      "lynx and hare\n",
      "Mean of lynx 20166.666666666668\n",
      "St.Dev. of lynx 16254.591536908763\n",
      "Mean of hare 34080.95238095238\n",
      "St.Dev. of hare 20897.906458089667\n",
      "Correlation 0.44195846696877467\n"
     ]
    }
   ],
   "source": [
    "#lynx and hare\n",
    "print('lynx and hare')\n",
    "\n",
    "m_l=np.mean(lynx)\n",
    "m_h=np.mean(hare)\n",
    "\n",
    "print('Mean of lynx',m_l)\n",
    "print('St.Dev. of lynx',np.std(lynx))\n",
    "print('Mean of hare',m_h)\n",
    "print('St.Dev. of hare',np.std(hare))\n",
    "\n",
    "corr=sum((hare-m_h)*(lynx-m_l))\n",
    "corr/=(sum((hare-m_h)**2*(lynx-m_l)**2))**0.5\n",
    "\n",
    "print('Correlation',corr)\n"
   ]
  },
  {
   "cell_type": "code",
   "execution_count": 31,
   "metadata": {},
   "outputs": [
    {
     "name": "stdout",
     "output_type": "stream",
     "text": [
      "Max of year 1900 is carrot\n",
      "Max of year 1901 is carrot\n",
      "Max of year 1902 is hare\n",
      "Max of year 1903 is hare\n",
      "Max of year 1904 is lynx\n",
      "Max of year 1905 is lynx\n",
      "Max of year 1906 is carrot\n",
      "Max of year 1907 is carrot\n",
      "Max of year 1908 is carrot\n",
      "Max of year 1909 is carrot\n",
      "Max of year 1910 is carrot\n",
      "Max of year 1911 is carrot\n",
      "Max of year 1912 is hare\n",
      "Max of year 1913 is hare\n",
      "Max of year 1914 is hare\n",
      "Max of year 1915 is lynx\n",
      "Max of year 1916 is carrot\n",
      "Max of year 1917 is carrot\n",
      "Max of year 1918 is carrot\n",
      "Max of year 1919 is carrot\n",
      "Max of year 1920 is carrot\n"
     ]
    }
   ],
   "source": [
    "for d in range(len(y)):\n",
    "    dic={}\n",
    "    l=lynx[d]\n",
    "    c=carrot[d]\n",
    "    h=hare[d]\n",
    "    \n",
    "    dic[l]='lynx'\n",
    "    dic[c]='carrot'\n",
    "    dic[h]='hare'\n",
    "    \n",
    "    print('Max of year',int(y[d]),'is',dic[max(l,c,h)])"
   ]
  },
  {
   "cell_type": "code",
   "execution_count": null,
   "metadata": {},
   "outputs": [],
   "source": []
  }
 ],
 "metadata": {
  "kernelspec": {
   "display_name": "Python 3",
   "language": "python",
   "name": "python3"
  },
  "language_info": {
   "codemirror_mode": {
    "name": "ipython",
    "version": 3
   },
   "file_extension": ".py",
   "mimetype": "text/x-python",
   "name": "python",
   "nbconvert_exporter": "python",
   "pygments_lexer": "ipython3",
   "version": "3.8.1"
  }
 },
 "nbformat": 4,
 "nbformat_minor": 2
}
