{
 "cells": [
  {
   "cell_type": "markdown",
   "metadata": {},
   "source": [
    "### Numpy basics"
   ]
  },
  {
   "cell_type": "markdown",
   "metadata": {},
   "source": [
    "1\\. Find the row, column and overall means for the following matrix:\n",
    "\n",
    "```python\n",
    "m = np.arange(12).reshape((3,4))\n",
    "```"
   ]
  },
  {
   "cell_type": "code",
   "execution_count": 11,
   "metadata": {},
   "outputs": [
    {
     "name": "stdout",
     "output_type": "stream",
     "text": [
      "row mean:  [1.5 5.5 9.5]\n",
      "column mean:  [4. 5. 6. 7.]\n",
      "overall mean:  5.5\n"
     ]
    }
   ],
   "source": [
    "import numpy as np\n",
    "m = np.arange(12).reshape((3,4))\n",
    "print(\"row mean: \", np.mean(m, axis = 1))\n",
    "print(\"column mean: \", np.mean(m, axis = 0))\n",
    "print(\"overall mean: \", np.mean(m))   "
   ]
  },
  {
   "cell_type": "markdown",
   "metadata": {},
   "source": [
    "2\\. Find the outer product of the following two vecotrs\n",
    "\n",
    "```python\n",
    "u = np.array([1,3,5,7])\n",
    "v = np.array([2,4,6,8])\n",
    "```\n",
    "\n",
    "Do this in the following ways:\n",
    "\n",
    "   * Using the function outer in numpy\n",
    "   * Using a nested for loop or list comprehension\n",
    "   * Using numpy broadcasting operatoins\n"
   ]
  },
  {
   "cell_type": "code",
   "execution_count": 19,
   "metadata": {},
   "outputs": [
    {
     "name": "stdout",
     "output_type": "stream",
     "text": [
      "[[ 2  4  6  8]\n",
      " [ 6 12 18 24]\n",
      " [10 20 30 40]\n",
      " [14 28 42 56]]\n",
      "[[ 2  4  6  8]\n",
      " [ 6 12 18 24]\n",
      " [10 20 30 40]\n",
      " [14 28 42 56]]\n",
      "[[ 2  4  6  8]\n",
      " [ 6 12 18 24]\n",
      " [10 20 30 40]\n",
      " [14 28 42 56]]\n"
     ]
    }
   ],
   "source": [
    "import numpy as np\n",
    "u = np.array([1,3,5,7])\n",
    "v = np.array([2,4,6,8])\n",
    "print(np.outer(u,v))\n",
    "print(np.array([ x*y for x in u for y in v ]).reshape(4,4))\n",
    "w=u.reshape(4,1)\n",
    "print(w*v)"
   ]
  },
  {
   "cell_type": "markdown",
   "metadata": {},
   "source": [
    "3\\. Create a 10 by 6 matrix of random uniform numbers. Set all rows with any entry less than 0.1 to be zero\n",
    "\n",
    "Hint: Use the following numpy functions - np.random.random, np.any as well as Boolean indexing and the axis argument."
   ]
  },
  {
   "cell_type": "code",
   "execution_count": 17,
   "metadata": {},
   "outputs": [
    {
     "name": "stdout",
     "output_type": "stream",
     "text": [
      "[[0.         0.         0.         0.         0.         0.        ]\n",
      " [0.         0.         0.         0.         0.         0.        ]\n",
      " [0.12599386 0.17390584 0.45754192 0.91118475 0.62001876 0.548885  ]\n",
      " [0.42354948 0.83140271 0.61328017 0.48946626 0.20512155 0.14725215]\n",
      " [0.         0.         0.         0.         0.         0.        ]\n",
      " [0.         0.         0.         0.         0.         0.        ]\n",
      " [0.45658603 0.36947065 0.55274539 0.66554867 0.46594343 0.44781535]\n",
      " [0.79315012 0.56754021 0.37667801 0.4413686  0.30257645 0.15205516]\n",
      " [0.73549107 0.72002735 0.4434449  0.54354922 0.61725773 0.72851781]\n",
      " [0.         0.         0.         0.         0.         0.        ]]\n"
     ]
    }
   ],
   "source": [
    "import numpy as np\n",
    "u = np.random.rand(10, 6)\n",
    "u[np.any((u < 0.1), axis=1),:] = 0.\n",
    "print(u)"
   ]
  },
  {
   "cell_type": "markdown",
   "metadata": {},
   "source": [
    "4\\. Use np.linspace to create an array of 100 numbers between 0 and 2π (includsive).\n",
    "\n",
    "  * Extract every 10th element using slice notation\n",
    "  * Reverse the array using slice notation\n",
    "  * Extract elements where the absolute difference between the sine and cosine functions evaluated at that element is less than 0.1\n",
    "  * Make a plot showing the sin and cos functions and indicate where they are close"
   ]
  },
  {
   "cell_type": "code",
   "execution_count": null,
   "metadata": {},
   "outputs": [],
   "source": [
    "import numpy as np\n",
    "import matplotlib.pyplot as plt \n",
    "\n",
    "a = np.linspace(0, 2*np.pi, 100)\n",
    "print(\"every 10th：\\n\",a[::10])\n",
    "print(\"after reversing：\\n\",a[::-1])\n",
    "mask=(np.abs(np.sin(a)-np.cos(a))<0.1)\n",
    "b=a[mask]\n",
    "print(\"The Extract elements:\\n\",b)\n",
    "\n",
    "plt.plot(a, np.sin(a))\n",
    "plt.plot(a, np.cos(a))"
   ]
  },
  {
   "cell_type": "markdown",
   "metadata": {},
   "source": [
    "5\\. Create a matrix that shows the 10 by 10 multiplication table.\n",
    "\n",
    " * Find the trace of the matrix\n",
    " * Extract the anto-diagonal (this should be ```array([10, 18, 24, 28, 30, 30, 28, 24, 18, 10])```)\n",
    " * Extract the diagnoal offset by 1 upwards (this should be ```array([ 2,  6, 12, 20, 30, 42, 56, 72, 90])```)"
   ]
  },
  {
   "cell_type": "code",
   "execution_count": 65,
   "metadata": {},
   "outputs": [
    {
     "name": "stdout",
     "output_type": "stream",
     "text": [
      "matrix is\n",
      " [[  1   2   3   4   5   6   7   8   9  10]\n",
      " [  2   4   6   8  10  12  14  16  18  20]\n",
      " [  3   6   9  12  15  18  21  24  27  30]\n",
      " [  4   8  12  16  20  24  28  32  36  40]\n",
      " [  5  10  15  20  25  30  35  40  45  50]\n",
      " [  6  12  18  24  30  36  42  48  54  60]\n",
      " [  7  14  21  28  35  42  49  56  63  70]\n",
      " [  8  16  24  32  40  48  56  64  72  80]\n",
      " [  9  18  27  36  45  54  63  72  81  90]\n",
      " [ 10  20  30  40  50  60  70  80  90 100]]\n",
      "trace is 385\n",
      "anti-diagonal is [10 18 24 28 30 30 28 24 18 10]\n",
      "after 1 upwards is [ 2  6 12 20 30 42 56 72 90]\n"
     ]
    }
   ],
   "source": [
    "import numpy as np\n",
    "matrix = np.array([x*y for x in range(1,11) for y in range(1,11)]).reshape(10,10)\n",
    "print(\"matrix is\\n\",matrix)\n",
    "print(\"trace is\",np.trace(matrix))\n",
    "print(\"anti-diagonal is\",np.fliplr(matrix).diagonal())\n",
    "print('after 1 upwards is', np.diagonal(matrix,1))"
   ]
  },
  {
   "cell_type": "markdown",
   "metadata": {},
   "source": [
    "6\\. Use broadcasting to create a grid of distances\n",
    "\n",
    "Route 66 crosses the following cities in the US: Chicago, Springfield, Saint-Louis, Tulsa, Oklahoma City, Amarillo, Santa Fe, Albuquerque, Flagstaff, Los Angeles\n",
    "The corresponding positions in miles are: 0, 198, 303, 736, 871, 1175, 1475, 1544, 1913, 2448\n",
    "\n",
    "  * Construct a 2D grid of distances among each city along Route 66\n",
    "  * Convert that in km (those savages...)"
   ]
  },
  {
   "cell_type": "code",
   "execution_count": 64,
   "metadata": {},
   "outputs": [
    {
     "name": "stdout",
     "output_type": "stream",
     "text": [
      "[[   0  198  303  736  871 1175 1475 1544 1913 2448]\n",
      " [ 198    0  105  538  673  977 1277 1346 1715 2250]\n",
      " [ 303  105    0  433  568  872 1172 1241 1610 2145]\n",
      " [ 736  538  433    0  135  439  739  808 1177 1712]\n",
      " [ 871  673  568  135    0  304  604  673 1042 1577]\n",
      " [1175  977  872  439  304    0  300  369  738 1273]\n",
      " [1475 1277 1172  739  604  300    0   69  438  973]\n",
      " [1544 1346 1241  808  673  369   69    0  369  904]\n",
      " [1913 1715 1610 1177 1042  738  438  369    0  535]\n",
      " [2448 2250 2145 1712 1577 1273  973  904  535    0]]\n",
      "[[   0.      318.6414  487.6179 1184.4448 1401.7003 1890.9275 2373.7175\n",
      "  2484.7592 3078.5909 3939.5664]\n",
      " [ 318.6414    0.      168.9765  865.8034 1083.0589 1572.2861 2055.0761\n",
      "  2166.1178 2759.9495 3620.925 ]\n",
      " [ 487.6179  168.9765    0.      696.8269  914.0824 1403.3096 1886.0996\n",
      "  1997.1413 2590.973  3451.9485]\n",
      " [1184.4448  865.8034  696.8269    0.      217.2555  706.4827 1189.2727\n",
      "  1300.3144 1894.1461 2755.1216]\n",
      " [1401.7003 1083.0589  914.0824  217.2555    0.      489.2272  972.0172\n",
      "  1083.0589 1676.8906 2537.8661]\n",
      " [1890.9275 1572.2861 1403.3096  706.4827  489.2272    0.      482.79\n",
      "   593.8317 1187.6634 2048.6389]\n",
      " [2373.7175 2055.0761 1886.0996 1189.2727  972.0172  482.79      0.\n",
      "   111.0417  704.8734 1565.8489]\n",
      " [2484.7592 2166.1178 1997.1413 1300.3144 1083.0589  593.8317  111.0417\n",
      "     0.      593.8317 1454.8072]\n",
      " [3078.5909 2759.9495 2590.973  1894.1461 1676.8906 1187.6634  704.8734\n",
      "   593.8317    0.      860.9755]\n",
      " [3939.5664 3620.925  3451.9485 2755.1216 2537.8661 2048.6389 1565.8489\n",
      "  1454.8072  860.9755    0.    ]]\n"
     ]
    }
   ],
   "source": [
    "a=np.array([0, 198, 303, 736, 871, 1175, 1475, 1544, 1913, 2448])\n",
    "b=np.abs(a[:, np.newaxis] - a[np.newaxis, :])\n",
    "print(b)\n",
    "print(b*1.6093)"
   ]
  },
  {
   "cell_type": "markdown",
   "metadata": {},
   "source": [
    "7\\. Prime numbers sieve: compute the prime numbers in the 0-N (N=99 to start with) range with a sieve (mask).\n",
    "  * Constract a shape (100,) boolean array, the mask\n",
    "  * Identify the multiples of each number starting from 2 and set accordingly the corresponding mask element\n",
    "  * Apply the mask to obtain an array of ordered prime numbers\n",
    "  * Check the performances (timeit); how does it scale with N?\n",
    "  * Implement the optimization suggested in the [sieve of Eratosthenes](https://en.wikipedia.org/wiki/Sieve_of_Eratosthenes)"
   ]
  },
  {
   "cell_type": "code",
   "execution_count": 80,
   "metadata": {},
   "outputs": [
    {
     "name": "stdout",
     "output_type": "stream",
     "text": [
      "[2, 3, 5, 7, 11, 13, 17, 19, 23, 29, 31, 37, 41, 43, 47, 53, 59, 61, 67, 71, 73, 79, 83, 89, 97]\n",
      "13 µs ± 217 ns per loop (mean ± std. dev. of 7 runs, 100000 loops each)\n",
      "58.8 µs ± 2.75 µs per loop (mean ± std. dev. of 7 runs, 10000 loops each)\n"
     ]
    }
   ],
   "source": [
    "from math import sqrt\n",
    "\n",
    "def prime_up_to(n):\n",
    "    L=  [True]*(n+1)\n",
    "    for i in range(2,round(sqrt(n))+1):\n",
    "        if L[i]:    \n",
    "            e=i*i\n",
    "            while e<=n:\n",
    "                L[e]=False  \n",
    "                e+=i\n",
    "    return [i for i in range(2,n+1) if L[i]]\n",
    "\n",
    "n=100\n",
    "print(prime_up_to(n))\n",
    "\n",
    "def primes_sieve(n):\n",
    "    numbers = np.arange(n)\n",
    "    mask = np.ones(n, dtype = bool)\n",
    "    mask[:2] = 0\n",
    "\n",
    "    for i in range(2, int(np.sqrt(n))):\n",
    "        mask[i+1:] = np.logical_and(mask[i+1:], [numbers[i+1:] % i != 0])\n",
    "    return numbers[mask]\n",
    "\n",
    "%timeit (prime_up_to(n))\n",
    "%timeit (primes_sieve(n))"
   ]
  },
  {
   "cell_type": "markdown",
   "metadata": {},
   "source": [
    "8\\. Diffusion using random walk\n",
    "\n",
    "Consider a simple random walk process: at each step in time, a walker jumps right or left (+1 or -1) with equal probability. The goal is to find the typical distance from the origin of a random walker after a given amount of time. \n",
    "To do that, let's simulate many walkers and create a 2D array with each walker as a raw and the actual time evolution as columns\n",
    "\n",
    "  * Take 1000 walkers and let them walk for 200 steps\n",
    "  * Use randint to create a 2D array of size walkers x steps with values -1 or 1\n",
    "  * Build the actual walking distances for each walker (i.e. another 2D array \"summing on each raw\")\n",
    "  * Take the square of that 2D array (elementwise)\n",
    "  * Compute the mean of the squared distances at each step (i.e. the mean along the columns)\n",
    "  * Plot the average distances (sqrt(distance\\*\\*2)) as a function of time (step)\n",
    "  \n",
    "Did you get what you expected?"
   ]
  },
  {
   "cell_type": "code",
   "execution_count": 79,
   "metadata": {},
   "outputs": [
    {
     "data": {
      "image/png": "[encoded data removed]",
      "text/plain": [
       "<Figure size 432x288 with 1 Axes>"
      ]
     },
     "metadata": {
      "needs_background": "light"
     },
     "output_type": "display_data"
    }
   ],
   "source": [
    "import numpy as np\n",
    "\n",
    "steps, n_walkers = 200, 1000\n",
    "walkers = (np.round(np.random.random((n_walkers,steps))).astype(int))*2-1\n",
    "path= np.cumsum(walkers, axis = 1)\n",
    "mean_steps = np.average(np.power(path, 2), axis = 0)\n",
    "\n",
    "import matplotlib.pyplot as plt\n",
    "\n",
    "plt.plot(np.arange(200), np.sqrt(mean_steps))\n",
    "plt.show()"
   ]
  },
  {
   "cell_type": "markdown",
   "metadata": {},
   "source": [
    "9\\. Analyze a data file \n",
    "  * Download the population of hares, lynxes and carrots at the beginning of the last century.\n",
    "    ```python\n",
    "    ! wget https://www.dropbox.com/s/3vigxoqayo389uc/populations.txt\n",
    "    ```\n",
    "\n",
    "  * Check the content by looking within the file\n",
    "  * Load the data (use an appropriate numpy method) into a 2D array\n",
    "  * Create arrays out of the columns, the arrays being (in order): *year*, *hares*, *lynxes*, *carrots* \n",
    "  * Plot the 3 populations over the years\n",
    "  * Compute the main statistical properties of the dataset (mean, std, correlations, etc.)\n",
    "  * Which species has the highest population each year?\n",
    "\n",
    "Do you feel there is some evident correlation here? [Studies](https://www.enr.gov.nt.ca/en/services/lynx/lynx-snowshoe-hare-cycle) tend to believe so."
   ]
  },
  {
   "cell_type": "code",
   "execution_count": 110,
   "metadata": {},
   "outputs": [
    {
     "data": {
      "image/png": "[encoded data removed]",
      "text/plain": [
       "<Figure size 432x288 with 1 Axes>"
      ]
     },
     "metadata": {
      "needs_background": "light"
     },
     "output_type": "display_data"
    },
    {
     "name": "stdout",
     "output_type": "stream",
     "text": [
      "Respectively for hares,lynxes and carrots：\n",
      "mean: 34080.95238095238 standard deviation: 20897.906458089667\n",
      "mean: 20166.666666666668 standard deviation: 16254.591536908763\n",
      "mean: 42400.0 standard deviation: 3322.5062255844787\n",
      "Correlation between hares and lynxes:  [[1.         0.07189206]\n",
      " [0.07189206 1.        ]]\n",
      "Correlation between carrots and lynxes:  [[ 1.         -0.68057717]\n",
      " [-0.68057717  1.        ]]\n",
      "Correlation between hares and carrots:  [[ 1.         -0.01660378]\n",
      " [-0.01660378  1.        ]]\n",
      "Highest population each year: \n",
      "1900.0 : carrot\n",
      "1901.0 : carrot\n",
      "1902.0 : hare\n",
      "1903.0 : hare\n",
      "1904.0 : lynx\n",
      "1905.0 : lynx\n",
      "1906.0 : carrot\n",
      "1907.0 : carrot\n",
      "1908.0 : carrot\n",
      "1909.0 : carrot\n",
      "1910.0 : carrot\n",
      "1911.0 : carrot\n",
      "1912.0 : hare\n",
      "1913.0 : hare\n",
      "1914.0 : hare\n",
      "1915.0 : lynx\n",
      "1916.0 : carrot\n",
      "1917.0 : carrot\n",
      "1918.0 : carrot\n",
      "1919.0 : carrot\n",
      "1920.0 : carrot\n"
     ]
    }
   ],
   "source": [
    "#I can not open dropdox on computer even with vpn. So I saved the txt locally.\n",
    "data = np.loadtxt(\"populations.txt\")\n",
    "years = data[:,0]\n",
    "hares = data[:,1]\n",
    "lynxes = data[:,2]\n",
    "carrots = data[:,3]\n",
    "\n",
    "import matplotlib.pyplot as plt\n",
    "plt.plot(years, hares, 'g', label='hares')\n",
    "plt.plot(years, lynxes, 'b', label='lynxes')\n",
    "plt.plot(years, carrots, 'r', label='carrots')\n",
    "plt.legend()\n",
    "plt.show()\n",
    "\n",
    "print(\"Respectively for hares,lynxes and carrots：\")\n",
    "for i in [hares,lynxes,carrots]:\n",
    "    print(\"mean:\",np.mean(i),\"standard deviation:\", np.std(i))\n",
    "\n",
    "a = np.corrcoef(hares, lynxes)\n",
    "b = np.corrcoef(carrots, lynxes)\n",
    "c = np.corrcoef(hares, carrots)\n",
    "print(\"Correlation between hares and lynxes: \" ,a)\n",
    "print(\"Correlation between carrots and lynxes: \" ,b)\n",
    "print(\"Correlation between hares and carrots: \" ,c)\n",
    "\n",
    "print(\"Highest population each year: \")\n",
    "for y,c,h,l in zip(list(years),list(carrots), list(hares), list(lynxes)):\n",
    "    if (c>h and c>l):print (y, \": carrot\") \n",
    "    if (h>c and h>l):print (y, \": hare\")\n",
    "    if (l>c and l>h):print (y, \": lynx\")"
   ]
  },
  {
   "cell_type": "code",
   "execution_count": null,
   "metadata": {},
   "outputs": [],
   "source": []
  }
 ],
 "metadata": {
  "kernelspec": {
   "display_name": "Python 3",
   "language": "python",
   "name": "python3"
  }
 },
 "nbformat": 4,
 "nbformat_minor": 2
}
