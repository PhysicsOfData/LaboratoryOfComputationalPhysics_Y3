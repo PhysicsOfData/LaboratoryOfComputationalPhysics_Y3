{
 "cells": [
  {
   "cell_type": "markdown",
   "metadata": {},
   "source": [
    "### Numpy basics"
   ]
  },
  {
   "cell_type": "markdown",
   "metadata": {},
   "source": [
    "1\\. Find the row, column and overall means for the following matrix:\n",
    "\n",
    "```python\n",
    "m = np.arange(12).reshape((3,4))\n",
    "```"
   ]
  },
  {
   "cell_type": "code",
   "execution_count": 1,
   "metadata": {},
   "outputs": [
    {
     "name": "stdout",
     "output_type": "stream",
     "text": [
      "matrix \n",
      " [[ 0  1  2  3]\n",
      " [ 4  5  6  7]\n",
      " [ 8  9 10 11]]\n",
      "average along the rows  [4. 5. 6. 7.]\n",
      "average along the columns  [1.5 5.5 9.5]\n",
      "overall average 5.5\n"
     ]
    }
   ],
   "source": [
    "import numpy as np\n",
    "m = np.arange(12).reshape((3,4))\n",
    "print(\"matrix \\n\", m)\n",
    "print (\"average along the rows \", np.mean(m, axis=0) )\n",
    "#print (m.mean(0))\n",
    "print (\"average along the columns \", np.mean (m, axis=1) )\n",
    "print (\"overall average\", np.mean(m) )\n",
    "\n"
   ]
  },
  {
   "cell_type": "markdown",
   "metadata": {},
   "source": [
    "2\\. Find the outer product of the following two vecotrs\n",
    "\n",
    "```python\n",
    "u = np.array([1,3,5,7])\n",
    "v = np.array([2,4,6,8])\n",
    "```\n",
    "\n",
    "Do this in the following ways:\n",
    "\n",
    "   * Using the function outer in numpy\n",
    "   * Using a nested for loop or list comprehension\n",
    "   * Using numpy broadcasting operatoins\n"
   ]
  },
  {
   "cell_type": "code",
   "execution_count": 2,
   "metadata": {},
   "outputs": [
    {
     "name": "stdout",
     "output_type": "stream",
     "text": [
      "[[ 2  4  6  8]\n",
      " [ 6 12 18 24]\n",
      " [10 20 30 40]\n",
      " [14 28 42 56]]\n",
      "[[ 2  4  6  8]\n",
      " [ 6 12 18 24]\n",
      " [10 20 30 40]\n",
      " [14 28 42 56]]\n",
      "[[ 2  4  6  8]\n",
      " [ 6 12 18 24]\n",
      " [10 20 30 40]\n",
      " [14 28 42 56]]\n"
     ]
    }
   ],
   "source": [
    "u = np.array([1,3,5,7])\n",
    "v = np.array([2,4,6,8])\n",
    "\n",
    "c = np.outer(u, v)\n",
    "print(c)\n",
    "\n",
    "outer = np.array([i*j for i in u for j in v ] )\n",
    "print (outer.reshape(4,4))\n",
    "\n",
    "outer_broadcasting = u.reshape(4,1) * v\n",
    "print (outer_broadcasting)\n"
   ]
  },
  {
   "cell_type": "markdown",
   "metadata": {},
   "source": [
    "3\\. Create a 10 by 6 matrix of random uniform numbers. Set all rows with any entry less than 0.1 to be zero\n",
    "\n",
    "Hint: Use the following numpy functions - np.random.random, np.any as well as Boolean indexing and the axis argument."
   ]
  },
  {
   "cell_type": "code",
   "execution_count": 3,
   "metadata": {},
   "outputs": [
    {
     "name": "stdout",
     "output_type": "stream",
     "text": [
      "[[0.45489699 0.07164212 0.31520175 0.36734775 0.16657004 0.24539197]\n",
      " [0.3531779  0.16079171 0.06354002 0.6233258  0.59675917 0.92158076]\n",
      " [0.86629913 0.57933137 0.65339481 0.13737349 0.22237846 0.12831154]\n",
      " [0.57021203 0.45740964 0.33181389 0.08217086 0.98953445 0.76674618]\n",
      " [0.04098894 0.38217983 0.58010036 0.86340963 0.80798811 0.59874705]\n",
      " [0.34160013 0.18886412 0.91883879 0.01740223 0.17616173 0.0104968 ]\n",
      " [0.30949721 0.42865119 0.34479127 0.22352506 0.83242237 0.24839555]\n",
      " [0.35939138 0.23368742 0.31017533 0.80363984 0.8012207  0.08110313]\n",
      " [0.49597029 0.21894424 0.11007629 0.52092733 0.87447806 0.05560537]\n",
      " [0.40752814 0.31453575 0.18083247 0.64150344 0.59378526 0.88529053]]\n",
      "[[0.         0.         0.         0.         0.         0.        ]\n",
      " [0.         0.         0.         0.         0.         0.        ]\n",
      " [0.86629913 0.57933137 0.65339481 0.13737349 0.22237846 0.12831154]\n",
      " [0.         0.         0.         0.         0.         0.        ]\n",
      " [0.         0.         0.         0.         0.         0.        ]\n",
      " [0.         0.         0.         0.         0.         0.        ]\n",
      " [0.30949721 0.42865119 0.34479127 0.22352506 0.83242237 0.24839555]\n",
      " [0.         0.         0.         0.         0.         0.        ]\n",
      " [0.         0.         0.         0.         0.         0.        ]\n",
      " [0.40752814 0.31453575 0.18083247 0.64150344 0.59378526 0.88529053]]\n"
     ]
    }
   ],
   "source": [
    "uniform=np.random.random_sample((10, 6))\n",
    "print(uniform)\n",
    "uniform[np.any(uniform<0.1, axis=1)]=0   \n",
    "print(uniform)"
   ]
  },
  {
   "cell_type": "markdown",
   "metadata": {},
   "source": [
    "4\\. Use np.linspace to create an array of 100 numbers between 0 and 2π (includsive).\n",
    "\n",
    "  * Extract every 10th element using slice notation\n",
    "  * Reverse the array using slice notation\n",
    "  * Extract elements where the absolute difference between the sine and cosine functions evaluated at that element is less than 0.1\n",
    "  * Make a plot showing the sin and cos functions and indicate where they are close"
   ]
  },
  {
   "cell_type": "code",
   "execution_count": 4,
   "metadata": {},
   "outputs": [
    {
     "data": {
      "text/plain": [
       "[<matplotlib.lines.Line2D at 0x7f666c98b710>]"
      ]
     },
     "execution_count": 4,
     "metadata": {},
     "output_type": "execute_result"
    },
    {
     "data": {
      "image/png": "[encoded data removed]",
      "text/plain": [
       "<Figure size 432x288 with 1 Axes>"
      ]
     },
     "metadata": {
      "needs_background": "light"
     },
     "output_type": "display_data"
    }
   ],
   "source": [
    "import numpy as np\n",
    "import math as m\n",
    "import matplotlib.pyplot as plt\n",
    "\n",
    "\n",
    "n = np.linspace(0, 2*m.pi, num=100)\n",
    "#print (n)\n",
    "\n",
    "tenth = n[::10]\n",
    "#print (tenth)\n",
    "\n",
    "reverse = n[::-1]\n",
    "#print(reverse)\n",
    "\n",
    "mask = np.abs(np.sin(n)-np.cos(n))<0.1\n",
    "m=n[mask]\n",
    "#print(type(m))\n",
    "#print(m)\n",
    "\n",
    "\n",
    "plt.plot(n, np.sin(n))\n",
    "plt.plot(n, np.cos(n))\n",
    "plt.plot(m, np.cos(m), \"o\")"
   ]
  },
  {
   "cell_type": "markdown",
   "metadata": {},
   "source": [
    "5\\. Create a matrix that shows the 10 by 10 multiplication table.\n",
    "\n",
    " * Find the trace of the matrix\n",
    " * Extract the anto-diagonal (this should be ```array([10, 18, 24, 28, 30, 30, 28, 24, 18, 10])```)\n",
    " * Extract the diagnoal offset by 1 upwards (this should be ```array([ 2,  6, 12, 20, 30, 42, 56, 72, 90])```)"
   ]
  },
  {
   "cell_type": "code",
   "execution_count": 5,
   "metadata": {},
   "outputs": [
    {
     "name": "stdout",
     "output_type": "stream",
     "text": [
      "matrix \n",
      " [[  1   2   3   4   5   6   7   8   9  10]\n",
      " [  2   4   6   8  10  12  14  16  18  20]\n",
      " [  3   6   9  12  15  18  21  24  27  30]\n",
      " [  4   8  12  16  20  24  28  32  36  40]\n",
      " [  5  10  15  20  25  30  35  40  45  50]\n",
      " [  6  12  18  24  30  36  42  48  54  60]\n",
      " [  7  14  21  28  35  42  49  56  63  70]\n",
      " [  8  16  24  32  40  48  56  64  72  80]\n",
      " [  9  18  27  36  45  54  63  72  81  90]\n",
      " [ 10  20  30  40  50  60  70  80  90 100]]\n",
      "trace \n",
      " 385\n",
      "antidiagonal \n",
      " [10 18 24 28 30 30 28 24 18 10]\n",
      "diagonal offset by 1 upwards \n",
      " [ 2  6 12 20 30 42 56 72 90]\n"
     ]
    }
   ],
   "source": [
    "table = np.array([[i*j for i in range(1, 11)] for j in range(1, 11)])\n",
    "print (\"matrix \\n\",table)\n",
    "\n",
    "\n",
    "trace = np.trace(table)\n",
    "print (\"trace \\n\", trace)\n",
    "\n",
    "print(\"antidiagonal \\n\", np.diag(np.fliplr(table)))\n",
    "print(\"diagonal offset by 1 upwards \\n\", np.diag(table, 1))\n"
   ]
  },
  {
   "cell_type": "markdown",
   "metadata": {},
   "source": [
    "6\\. Use broadcasting to create a grid of distances\n",
    "\n",
    "Route 66 crosses the following cities in the US: Chicago, Springfield, Saint-Louis, Tulsa, Oklahoma City, Amarillo, Santa Fe, Albuquerque, Flagstaff, Los Angeles\n",
    "The corresponding positions in miles are: 0, 198, 303, 736, 871, 1175, 1475, 1544, 1913, 2448\n",
    "\n",
    "  * Construct a 2D grid of distances among each city along Route 66\n",
    "  * Convert that in km (those savages...)"
   ]
  },
  {
   "cell_type": "code",
   "execution_count": 6,
   "metadata": {},
   "outputs": [
    {
     "name": "stdout",
     "output_type": "stream",
     "text": [
      "indexes of cities \n",
      " Chicago: 0 \n",
      " Springfield: 1 \n",
      " Saint-Luis:2  \n",
      " Tulsa: 3 \n",
      " Oklahoma City: 4 \n",
      " Amarillo: 5 \n",
      " Santa Fe: 6 \n",
      " Albuquerque: 7 \n",
      " Flagstaff: 8 \n",
      " Los Angeles: 9\n",
      "first city index 1\n",
      "second city index 2\n",
      "the distance between the two selected cities is  105\n"
     ]
    }
   ],
   "source": [
    "dict = {'Chicago': 0, \n",
    "        'Springfield': 198, \n",
    "        'Saint-Louis': 303,\n",
    "        'Tulsa':736, \n",
    "        'Oklahoma City':871, \n",
    "        'Amarillo':1175, \n",
    "        'Santa Fe':1475, \n",
    "        'Albuquerque':1544, \n",
    "        'Flagstaff':1913, \n",
    "        'Los Angeles':2448 }\n",
    "\n",
    "cities = np.array([key for key,value in dict.items()])\n",
    "km = np.array([value for key,value in dict.items()])\n",
    "n = len(km)\n",
    "grid = np.abs (km.reshape(n,1) - km)\n",
    "\n",
    "\n",
    "def return_distance (grid, city1, city2):\n",
    "    dist = grid[int(city1)][int(city2)]\n",
    "    print (\"the distance between the two selected cities is \", dist )\n",
    "\n",
    "print (\n",
    "        \"indexes of cities \\n Chicago: 0 \\n Springfield: 1 \\n Saint-Luis:2 \"\n",
    "       \" \\n Tulsa: 3 \\n Oklahoma City: 4 \\n Amarillo: 5 \\n Santa Fe: 6 \\n \"\n",
    "       \"Albuquerque: 7 \\n Flagstaff: 8 \\n Los Angeles: 9\"\n",
    "       \n",
    "      )\n",
    "city1 = input(\"first city index \")\n",
    "city2 = input(\"second city index \")\n",
    "\n",
    "return_distance( grid,city1, city2 ) "
   ]
  },
  {
   "cell_type": "markdown",
   "metadata": {},
   "source": [
    "## 7\\. Prime numbers sieve: compute the prime numbers in the 0-N (N=99 to start with) range with a sieve (mask).\n",
    "  * Constract a shape (100,) boolean array, the mask\n",
    "  * Identify the multiples of each number starting from 2 and set accordingly the corresponding mask element\n",
    "  * Apply the mask to obtain an array of ordered prime numbers\n",
    "  * Check the performances (timeit); how does it scale with N?\n",
    "  * Implement the optimization suggested in the [sieve of Eratosthenes](https://en.wikipedia.org/wiki/Sieve_of_Eratosthenes)"
   ]
  },
  {
   "cell_type": "code",
   "execution_count": 7,
   "metadata": {},
   "outputs": [
    {
     "name": "stdout",
     "output_type": "stream",
     "text": [
      "[ 2  3  5  7 11 13 17 19 23 29 31 37 41 43 47 53 59 61 67 71 73 79 83 89\n",
      " 97]\n",
      "36 µs ± 2.26 µs per loop (mean ± std. dev. of 7 runs, 10000 loops each)\n",
      "2.09 ms ± 89 µs per loop (mean ± std. dev. of 7 runs, 100 loops each)\n",
      "196 ms ± 6 ms per loop (mean ± std. dev. of 7 runs, 1 loop each)\n"
     ]
    }
   ],
   "source": [
    "import math as m\n",
    "N=99\n",
    "a = np.arange(N)\n",
    "\n",
    "def is_prime( n ):\n",
    "    count = 0\n",
    "    for i in range (2, int(n/2)+1):\n",
    "        if n % i == 0:\n",
    "            count += 1\n",
    "    if count == 0 and n != 0 and n!= 1:\n",
    "        return True\n",
    "    else:\n",
    "        return False\n",
    "    \n",
    "mask = [is_prime(i) for i in a]\n",
    "a_prime = a[mask]\n",
    "print(a_prime)\n",
    "\n",
    "for i in range(1, 4):\n",
    "    N=m.pow(10, i)\n",
    "    a = np.arange( N )\n",
    "    mask = [is_prime(i) for i in a]\n",
    "   \n",
    "    a_prime = a[mask]\n",
    "    #print(a_prime) \n",
    "    %timeit [is_prime(i) for i in a]\n",
    "    \n",
    "    "
   ]
  },
  {
   "cell_type": "code",
   "execution_count": 8,
   "metadata": {},
   "outputs": [
    {
     "name": "stdout",
     "output_type": "stream",
     "text": [
      "check prime number till: 100\n",
      "2\n",
      "3\n",
      "5\n",
      "7\n",
      "11\n",
      "13\n",
      "17\n",
      "19\n",
      "23\n",
      "29\n",
      "31\n",
      "37\n",
      "41\n",
      "43\n",
      "47\n",
      "53\n",
      "59\n",
      "61\n",
      "67\n",
      "71\n",
      "73\n",
      "79\n",
      "83\n",
      "89\n",
      "97\n"
     ]
    }
   ],
   "source": [
    "n = int (input(\"check prime number till: \"))\n",
    "      \n",
    "prime = [True for i in range(n + 1)] \n",
    "p = 2\n",
    "while (p * p <= n): \n",
    "          \n",
    "       \n",
    "    if (prime[p] == True): \n",
    "              \n",
    "             \n",
    "        for i in range(p * 2, n + 1, p): \n",
    "            prime[i] = False\n",
    "    p += 1\n",
    "prime[0]= False\n",
    "prime[1]= False\n",
    "    \n",
    "for p in range(n + 1): \n",
    "    if prime[p]: \n",
    "        print (p)"
   ]
  },
  {
   "cell_type": "markdown",
   "metadata": {},
   "source": [
    "8\\. Diffusion using random walk\n",
    "\n",
    "Consider a simple random walk process: at each step in time, a walker jumps right or left (+1 or -1) with equal probability. The goal is to find the typical distance from the origin of a random walker after a given amount of time. \n",
    "To do that, let's simulate many walkers and create a 2D array with each walker as a raw and the actual time evolution as columns\n",
    "\n",
    "  * Take 1000 walkers and let them walk for 200 steps\n",
    "  * Use randint to create a 2D array of size walkers x steps with values -1 or 1\n",
    "  * Build the actual walking distances for each walker (i.e. another 2D array \"summing on each raw\")\n",
    "  * Take the square of that 2D array (elementwise)\n",
    "  * Compute the mean of the squared distances at each step (i.e. the mean along the columns)\n",
    "  * Plot the average distances (sqrt(distance\\*\\*2)) as a function of time (step)\n",
    "  \n",
    "Did you get what you expected?"
   ]
  },
  {
   "cell_type": "code",
   "execution_count": 9,
   "metadata": {},
   "outputs": [
    {
     "data": {
      "text/plain": [
       "[<matplotlib.lines.Line2D at 0x7f666a8a4780>]"
      ]
     },
     "execution_count": 9,
     "metadata": {},
     "output_type": "execute_result"
    },
    {
     "data": {
      "image/png": "[encoded data removed]",
      "text/plain": [
       "<Figure size 432x288 with 1 Axes>"
      ]
     },
     "metadata": {
      "needs_background": "light"
     },
     "output_type": "display_data"
    }
   ],
   "source": [
    "walkers = np.random.randint(-1, 1, (1000, 200) )\n",
    "walkers[walkers == 0] =1\n",
    "#print(walkers)\n",
    "distance = np.sum(walkers, axis=1)\n",
    "sq_dist = distance**2\n",
    "sq_dist_step = (np.sum(walkers, axis=0))**2\n",
    "step = np.array([i for i in range(1, 201)])\n",
    "plt.plot(step, sq_dist_step)"
   ]
  },
  {
   "cell_type": "markdown",
   "metadata": {},
   "source": [
    "9\\. Analyze a data file \n",
    "  * Download the population of hares, lynxes and carrots at the beginning of the last century.\n",
    "    ```python\n",
    "    ! wget https://www.dropbox.com/s/3vigxoqayo389uc/populations.txt\n",
    "    ```\n",
    "\n",
    "  * Check the content by looking within the file\n",
    "  * Load the data (use an appropriate numpy method) into a 2D array\n",
    "  * Create arrays out of the columns, the arrays being (in order): *year*, *hares*, *lynxes*, *carrots* \n",
    "  * Plot the 3 populations over the years\n",
    "  * Compute the main statistical properties of the dataset (mean, std, correlations, etc.)\n",
    "  * Which species has the highest population each year?\n",
    "\n",
    "Do you feel there is some evident correlation here? [Studies](https://www.enr.gov.nt.ca/en/services/lynx/lynx-snowshoe-hare-cycle) tend to believe so."
   ]
  },
  {
   "cell_type": "code",
   "execution_count": 10,
   "metadata": {},
   "outputs": [
    {
     "name": "stdout",
     "output_type": "stream",
     "text": [
      "--2020-11-02 23:26:49--  https://www.dropbox.com/s/3vigxoqayo389uc/populations.txt\n",
      "Risoluzione di www.dropbox.com (www.dropbox.com)... 162.125.69.1, 2620:100:6025:1::a27d:4501\n",
      "Connessione a www.dropbox.com (www.dropbox.com)|162.125.69.1|:443... connesso.\n",
      "Richiesta HTTP inviata, in attesa di risposta... 301 Moved Permanently\n",
      "Posizione: /s/raw/3vigxoqayo389uc/populations.txt [segue]\n",
      "--2020-11-02 23:26:50--  https://www.dropbox.com/s/raw/3vigxoqayo389uc/populations.txt\n",
      "Riutilizzo della connessione esistente a www.dropbox.com:443.\n",
      "Richiesta HTTP inviata, in attesa di risposta... 302 Found\n",
      "Posizione: https://uc822b0d5c6580369b68f653c6a1.dl.dropboxusercontent.com/cd/0/inline/BCcD6sdcU7SCT781UBrikjSxFXZWOhkg3XrqtaKaINpVsABotJBH_JDF5SpSFEg5QvtTWwqFKxCpblBowMOi_9KRak4y6A-fukBsAnlvF2cLZw/file# [segue]\n",
      "--2020-11-02 23:26:50--  https://uc822b0d5c6580369b68f653c6a1.dl.dropboxusercontent.com/cd/0/inline/BCcD6sdcU7SCT781UBrikjSxFXZWOhkg3XrqtaKaINpVsABotJBH_JDF5SpSFEg5QvtTWwqFKxCpblBowMOi_9KRak4y6A-fukBsAnlvF2cLZw/file\n",
      "Risoluzione di uc822b0d5c6580369b68f653c6a1.dl.dropboxusercontent.com (uc822b0d5c6580369b68f653c6a1.dl.dropboxusercontent.com)... 162.125.69.15, 2620:100:6025:15::a27d:450f\n",
      "Connessione a uc822b0d5c6580369b68f653c6a1.dl.dropboxusercontent.com (uc822b0d5c6580369b68f653c6a1.dl.dropboxusercontent.com)|162.125.69.15|:443... connesso.\n",
      "Richiesta HTTP inviata, in attesa di risposta... 200 OK\n",
      "Lunghezza: 525 [text/plain]\n",
      "Salvataggio in: \"/home/giulia/Scrivania/LaboratoryOfComputationalPhysics_Y3/data/populations.txt.3\"\n",
      "\n",
      "populations.txt.3   100%[===================>]     525  --.-KB/s    in 0s      \n",
      "\n",
      "2020-11-02 23:26:51 (55,6 MB/s) - \"/home/giulia/Scrivania/LaboratoryOfComputationalPhysics_Y3/data/populations.txt.3\" salvato [525/525]\n",
      "\n",
      "# year\thare\tlynx\tcarrot\n",
      "1900\t30e3\t4e3\t48300\n",
      "1901\t47.2e3\t6.1e3\t48200\n",
      "1902\t70.2e3\t9.8e3\t41500\n",
      "1903\t77.4e3\t35.2e3\t38200\n",
      "1904\t36.3e3\t59.4e3\t40600\n",
      "1905\t20.6e3\t41.7e3\t39800\n",
      "1906\t18.1e3\t19e3\t38600\n",
      "1907\t21.4e3\t13e3\t42300\n",
      "1908\t22e3\t8.3e3\t44500\n",
      "1909\t25.4e3\t9.1e3\t42100\n",
      "1910\t27.1e3\t7.4e3\t46000\n",
      "1911\t40.3e3\t8e3\t46800\n",
      "1912\t57e3\t12.3e3\t43800\n",
      "1913\t76.6e3\t19.5e3\t40900\n",
      "1914\t52.3e3\t45.7e3\t39400\n",
      "1915\t19.5e3\t51.1e3\t39000\n",
      "1916\t11.2e3\t29.7e3\t36700\n",
      "1917\t7.6e3\t15.8e3\t41800\n",
      "1918\t14.6e3\t9.7e3\t43300\n",
      "1919\t16.2e3\t10.1e3\t41300\n",
      "1920\t24.7e3\t8.6e3\t47300\n"
     ]
    }
   ],
   "source": [
    "! wget https://www.dropbox.com/s/3vigxoqayo389uc/populations.txt -P /home/giulia/Scrivania/LaboratoryOfComputationalPhysics_Y3/data/\n",
    "! cat /home/giulia/Scrivania/LaboratoryOfComputationalPhysics_Y3/data/populations.txt\n"
   ]
  },
  {
   "cell_type": "code",
   "execution_count": 11,
   "metadata": {},
   "outputs": [
    {
     "name": "stdout",
     "output_type": "stream",
     "text": [
      "year\n",
      "hares - year correlation matrix \n",
      "  [[ 1.         -0.38917662]\n",
      " [-0.38917662  1.        ]]\n",
      "lynxes - year correlation matrix \n",
      "  [[ 1.         -0.02544806]\n",
      " [-0.02544806  1.        ]]\n",
      "carrots - year correlation matrix \n",
      "  [[ 1.         -0.13633321]\n",
      " [-0.13633321  1.        ]]\n",
      "mean 1910.0\n",
      "median 1910.0\n",
      "std 6.0553007081949835\n",
      "hares\n",
      "year - hares correlation matrix \n",
      "  [[ 1.         -0.38917662]\n",
      " [-0.38917662  1.        ]]\n",
      "lynxes - hares correlation matrix \n",
      "  [[1.         0.07189206]\n",
      " [0.07189206 1.        ]]\n",
      "carrots - hares correlation matrix \n",
      "  [[ 1.         -0.01660378]\n",
      " [-0.01660378  1.        ]]\n",
      "mean 34080.95238095238\n",
      "median 25400.0\n",
      "std 20897.906458089667\n",
      "lynxes\n",
      "year - lynxes correlation matrix \n",
      "  [[ 1.         -0.02544806]\n",
      " [-0.02544806  1.        ]]\n",
      "hares - lynxes correlation matrix \n",
      "  [[1.         0.07189206]\n",
      " [0.07189206 1.        ]]\n",
      "carrots - lynxes correlation matrix \n",
      "  [[ 1.         -0.68057717]\n",
      " [-0.68057717  1.        ]]\n",
      "mean 20166.666666666668\n",
      "median 12300.0\n",
      "std 16254.591536908763\n",
      "carrots\n",
      "year - carrots correlation matrix \n",
      "  [[ 1.         -0.13633321]\n",
      " [-0.13633321  1.        ]]\n",
      "hares - carrots correlation matrix \n",
      "  [[ 1.         -0.01660378]\n",
      " [-0.01660378  1.        ]]\n",
      "lynxes - carrots correlation matrix \n",
      "  [[ 1.         -0.68057717]\n",
      " [-0.68057717  1.        ]]\n",
      "mean 42400.0\n",
      "median 41800.0\n",
      "std 3322.5062255844787\n"
     ]
    },
    {
     "data": {
      "image/png": "[encoded data removed]",
      "text/plain": [
       "<Figure size 432x288 with 1 Axes>"
      ]
     },
     "metadata": {
      "needs_background": "light"
     },
     "output_type": "display_data"
    }
   ],
   "source": [
    "import os\n",
    "import numpy as np\n",
    "import earthpy as et\n",
    "\n",
    "\n",
    "\n",
    "os.chdir(os.path.join(et.io.HOME, 'Scrivania'))\n",
    "fname = os.path.join(\"LaboratoryOfComputationalPhysics_Y3\", \"data\",\"populations.txt\")\n",
    "data = np.loadtxt(fname)\n",
    "\n",
    "year, hares, lynxes, carrots = data.T\n",
    "dict = {\"year\": year, \n",
    "        \"hares\": hares,\n",
    "        \"lynxes\": lynxes,\n",
    "         \"carrots\": carrots}\n",
    "\n",
    "from matplotlib import pyplot as plt\n",
    "%matplotlib inline\n",
    "\n",
    "\n",
    "plt.axes([0.2, 0.1, 0.5, 0.8]) \n",
    "plt.plot(year, hares, year, lynxes, year, carrots) \n",
    "plt.legend(('Hare', 'Lynx', 'Carrot'), loc=(1.05, 0.5)) \n",
    "\n",
    "for key,value in dict.items():\n",
    "    print(key)\n",
    "    for key1, value1 in dict.items():\n",
    "            if key1 != key:\n",
    "                print(key1, \"-\", key, \"correlation matrix \\n \", np.corrcoef(value, value1))\n",
    "    \n",
    "    for function in ['mean','median','std']:\n",
    "        print (function, getattr(np, function)(value))\n",
    "        "
   ]
  },
  {
   "cell_type": "code",
   "execution_count": null,
   "metadata": {},
   "outputs": [],
   "source": []
  }
 ],
 "metadata": {
  "kernelspec": {
   "display_name": "Python 3",
   "language": "python",
   "name": "python3"
  },
  "language_info": {
   "codemirror_mode": {
    "name": "ipython",
    "version": 3
   },
   "file_extension": ".py",
   "mimetype": "text/x-python",
   "name": "python",
   "nbconvert_exporter": "python",
   "pygments_lexer": "ipython3",
   "version": "3.6.9"
  }
 },
 "nbformat": 4,
 "nbformat_minor": 2
}
