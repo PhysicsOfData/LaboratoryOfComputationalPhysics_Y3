{
 "cells": [
  {
   "cell_type": "markdown",
   "metadata": {},
   "source": [
    "### Numpy basics"
   ]
  },
  {
   "cell_type": "markdown",
   "metadata": {},
   "source": [
    "1\\. Find the row, column and overall means for the following matrix:\n",
    "\n",
    "```python\n",
    "m = np.arange(12).reshape((3,4))\n",
    "```"
   ]
  },
  {
   "cell_type": "code",
   "execution_count": 10,
   "metadata": {},
   "outputs": [
    {
     "name": "stdout",
     "output_type": "stream",
     "text": [
      "Means of every row: [1.5 5.5 9.5]\n",
      "Means of every column: [4. 5. 6. 7.]\n",
      "Total mean: 5.5\n"
     ]
    }
   ],
   "source": [
    "import numpy as np\n",
    "\n",
    "m = np.arange(12).reshape((3,4)) \n",
    "\n",
    "#Row means\n",
    "row=np.array([np.mean(m[i,:])for i in range(3)])\n",
    "print(\"Means of every row:\",row)\n",
    "\n",
    "#Column means\n",
    "column=np.array([np.mean(m[:,i]) for i in range(4)])\n",
    "print(\"Means of every column:\",column)\n",
    "\n",
    "#Overall mean\n",
    "mean=np.mean(m.flatten())\n",
    "print(\"Total mean:\",mean)"
   ]
  },
  {
   "cell_type": "markdown",
   "metadata": {},
   "source": [
    "2\\. Find the outer product of the following two vecotrs\n",
    "\n",
    "```python\n",
    "u = np.array([1,3,5,7])\n",
    "v = np.array([2,4,6,8])\n",
    "```\n",
    "\n",
    "Do this in the following ways:\n",
    "\n",
    "   * Using the function outer in numpy\n",
    "   * Using a nested for loop or list comprehension\n",
    "   * Using numpy broadcasting operatoins\n"
   ]
  },
  {
   "cell_type": "code",
   "execution_count": 20,
   "metadata": {},
   "outputs": [
    {
     "name": "stdout",
     "output_type": "stream",
     "text": [
      "[[ 2  4  6  8]\n",
      " [ 6 12 18 24]\n",
      " [10 20 30 40]\n",
      " [14 28 42 56]]\n",
      "[[ 2.  4.  6.  8.]\n",
      " [ 6. 12. 18. 24.]\n",
      " [10. 20. 30. 40.]\n",
      " [14. 28. 42. 56.]]\n",
      "[[ 2  4  6  8]\n",
      " [ 6 12 18 24]\n",
      " [10 20 30 40]\n",
      " [14 28 42 56]]\n"
     ]
    }
   ],
   "source": [
    "import numpy as np\n",
    "\n",
    "u = np.array([1,3,5,7])\n",
    "v = np.array([2,4,6,8])\n",
    "\n",
    "#built-in function\n",
    "outer1=np.outer(u,v)\n",
    "print(outer1)\n",
    "\n",
    "#nested for loop\n",
    "outer2=np.zeros((4,4))\n",
    "for i in range(len(u)):\n",
    "    for j in range(len(v)):outer2[i,j]=u[i]*v[j]\n",
    "print(outer2)\n",
    "\n",
    "#Broadcasting operation\n",
    "u=np.tile(u,(4,1))\n",
    "u=np.transpose(u)\n",
    "outer3=u*v\n",
    "print(outer3)"
   ]
  },
  {
   "cell_type": "markdown",
   "metadata": {},
   "source": [
    "3\\. Create a 10 by 6 matrix of random uniform numbers. Set all rows with any entry less than 0.1 to be zero\n",
    "\n",
    "Hint: Use the following numpy functions - np.random.random, np.any as well as Boolean indexing and the axis argument."
   ]
  },
  {
   "cell_type": "code",
   "execution_count": 34,
   "metadata": {},
   "outputs": [
    {
     "name": "stdout",
     "output_type": "stream",
     "text": [
      "[[0.28850746 0.22082726 0.31277518 0.34075895 0.71269493 0.73765262]\n",
      " [0.43895998 0.92052033 0.7665829  0.30209971 0.55440357 0.97051785]\n",
      " [0.82704978 0.10731207 0.37704263 0.36862763 0.08362942 0.77819903]\n",
      " [0.09672177 0.41911071 0.84101436 0.33226426 0.98033618 0.88108127]\n",
      " [0.21078216 0.88038577 0.11088964 0.33666479 0.62227067 0.58388256]\n",
      " [0.01883268 0.88129857 0.08809491 0.96213425 0.85179897 0.14599233]\n",
      " [0.39389952 0.46410003 0.75080036 0.71725987 0.84645671 0.90458654]\n",
      " [0.38164853 0.59091851 0.55791786 0.6218096  0.66369339 0.61056361]\n",
      " [0.72612991 0.05419465 0.93285564 0.21288448 0.97318768 0.50222316]\n",
      " [0.59407226 0.19540171 0.69890476 0.80313555 0.39341589 0.73077415]]\n",
      "[[0.28850746 0.22082726 0.31277518 0.34075895 0.71269493 0.73765262]\n",
      " [0.43895998 0.92052033 0.7665829  0.30209971 0.55440357 0.97051785]\n",
      " [0.         0.         0.         0.         0.         0.        ]\n",
      " [0.         0.         0.         0.         0.         0.        ]\n",
      " [0.21078216 0.88038577 0.11088964 0.33666479 0.62227067 0.58388256]\n",
      " [0.         0.         0.         0.         0.         0.        ]\n",
      " [0.39389952 0.46410003 0.75080036 0.71725987 0.84645671 0.90458654]\n",
      " [0.38164853 0.59091851 0.55791786 0.6218096  0.66369339 0.61056361]\n",
      " [0.         0.         0.         0.         0.         0.        ]\n",
      " [0.59407226 0.19540171 0.69890476 0.80313555 0.39341589 0.73077415]]\n"
     ]
    }
   ],
   "source": [
    "#create a 10x6 matrix of random numbers from 0 to 1\n",
    "rand=np.random.random((10,6))\n",
    "print(rand)\n",
    "\n",
    "#boolean array with <0.1 condition\n",
    "boolean=np.array([[rand[i,j]<0.1 for j in range(6)] for i in range(10)])\n",
    "\n",
    "#setting rows to zero\n",
    "for i in range(10):\n",
    "    if np.any(boolean[i,:])==True: rand[i,:]=0\n",
    "print(rand)"
   ]
  },
  {
   "cell_type": "markdown",
   "metadata": {},
   "source": [
    "4\\. Use np.linspace to create an array of 100 numbers between 0 and 2π (includsive).\n",
    "\n",
    "  * Extract every 10th element using slice notation\n",
    "  * Reverse the array using slice notation\n",
    "  * Extract elements where the absolute difference between the sine and cosine functions evaluated at that element is less than 0.1\n",
    "  * Make a plot showing the sin and cos functions and indicate where they are close"
   ]
  },
  {
   "cell_type": "code",
   "execution_count": 39,
   "metadata": {},
   "outputs": [
    {
     "name": "stdout",
     "output_type": "stream",
     "text": [
      "Points where sine and cosine are near: [0.7615982190520711, 0.8250647373064104, 3.8714576135146945, 3.934924131769034]\n"
     ]
    },
    {
     "data": {
      "text/plain": [
       "[<matplotlib.lines.Line2D at 0x7f9f241c7fd0>]"
      ]
     },
     "execution_count": 39,
     "metadata": {},
     "output_type": "execute_result"
    },
    {
     "data": {
      "image/png": "[encoded data removed]",
      "text/plain": [
       "<Figure size 432x288 with 1 Axes>"
      ]
     },
     "metadata": {
      "needs_background": "light"
     },
     "output_type": "display_data"
    }
   ],
   "source": [
    "from math import pi\n",
    "x=np.linspace(0,2*pi,100)\n",
    "#print(\"Linspace vector:\",x)\n",
    "\n",
    "#extract every tenth element\n",
    "tenth=x[::10]\n",
    "#print(\"Every tenth element: \",tenth)\n",
    "\n",
    "#reverse the array with slice notation\n",
    "reverse=x[::-1]\n",
    "#print(\"Reversed array:\",reverse)\n",
    "\n",
    "#difference between sine and cosine\n",
    "difference=[x[i] for i in range(100) if np.abs(np.sin(x[i])-np.cos(x[i]))<0.1]\n",
    "print(\"Points where sine and cosine are near:\",difference)\n",
    "\n",
    "#plot\n",
    "import matplotlib.pyplot as plt\n",
    "y=np.sin(x)\n",
    "z=np.cos(x)\n",
    "plt.plot(x,y,color='green')\n",
    "plt.plot(x,z,color='red')"
   ]
  },
  {
   "cell_type": "markdown",
   "metadata": {},
   "source": [
    "COMMENTS:\n",
    "\n",
    "The plot agrees with the values for which the sine and the cosine are near. In particular the first two values of the array *difference* correspond to the area of the plot where sine and cosine meet around $x=0.8$, and the second two values correspond to the area around $x=4$."
   ]
  },
  {
   "cell_type": "markdown",
   "metadata": {},
   "source": [
    "5\\. Create a matrix that shows the 10 by 10 multiplication table.\n",
    "\n",
    " * Find the trace of the matrix\n",
    " * Extract the anto-diagonal (this should be ```array([10, 18, 24, 28, 30, 30, 28, 24, 18, 10])```)\n",
    " * Extract the diagnoal offset by 1 upwards (this should be ```array([ 2,  6, 12, 20, 30, 42, 56, 72, 90])```)"
   ]
  },
  {
   "cell_type": "code",
   "execution_count": 46,
   "metadata": {},
   "outputs": [
    {
     "name": "stdout",
     "output_type": "stream",
     "text": [
      "[[  1   2   3   4   5   6   7   8   9  10]\n",
      " [  2   4   6   8  10  12  14  16  18  20]\n",
      " [  3   6   9  12  15  18  21  24  27  30]\n",
      " [  4   8  12  16  20  24  28  32  36  40]\n",
      " [  5  10  15  20  25  30  35  40  45  50]\n",
      " [  6  12  18  24  30  36  42  48  54  60]\n",
      " [  7  14  21  28  35  42  49  56  63  70]\n",
      " [  8  16  24  32  40  48  56  64  72  80]\n",
      " [  9  18  27  36  45  54  63  72  81  90]\n",
      " [ 10  20  30  40  50  60  70  80  90 100]]\n",
      "Trace: 385\n",
      "[10, 18, 24, 28, 30, 30, 28, 24, 18, 10]\n",
      "[2, 6, 12, 20, 30, 42, 56, 72, 90]\n"
     ]
    }
   ],
   "source": [
    "#create 10 by 10 multiplication table\n",
    "table=np.array([[i*j for i in range(1,11)] for j in range(1,11)])\n",
    "print(table)\n",
    "\n",
    "#find the trace of the matrix\n",
    "diagonal=[table[i,j] for i in range(10) for j in range(10) if i==j]\n",
    "trace=np.sum(diagonal)\n",
    "print(\"Trace:\",trace)\n",
    "\n",
    "#anti-diagonal\n",
    "anti_diagonal=[table[i,j] for i in range(10) for j in range(10) if i+j==9]\n",
    "print(anti_diagonal)\n",
    "\n",
    "#diagonal+1 up\n",
    "diagonal_up=[table[i-1,j] for i in range(1,10) for j in range(1,10) if i==j]\n",
    "print(diagonal_up)"
   ]
  },
  {
   "cell_type": "markdown",
   "metadata": {},
   "source": [
    "6\\. Use broadcasting to create a grid of distances\n",
    "\n",
    "Route 66 crosses the following cities in the US: Chicago, Springfield, Saint-Louis, Tulsa, Oklahoma City, Amarillo, Santa Fe, Albuquerque, Flagstaff, Los Angeles\n",
    "The corresponding positions in miles are: 0, 198, 303, 736, 871, 1175, 1475, 1544, 1913, 2448\n",
    "\n",
    "  * Construct a 2D grid of distances among each city along Route 66\n",
    "  * Convert that in km (those savages...)"
   ]
  },
  {
   "cell_type": "code",
   "execution_count": 50,
   "metadata": {},
   "outputs": [
    {
     "name": "stdout",
     "output_type": "stream",
     "text": [
      "Table of distances in miles:\n",
      " [[    0  -198  -303  -736  -871 -1175 -1475 -1544 -1913 -2448]\n",
      " [  198     0  -105  -538  -673  -977 -1277 -1346 -1715 -2250]\n",
      " [  303   105     0  -433  -568  -872 -1172 -1241 -1610 -2145]\n",
      " [  736   538   433     0  -135  -439  -739  -808 -1177 -1712]\n",
      " [  871   673   568   135     0  -304  -604  -673 -1042 -1577]\n",
      " [ 1175   977   872   439   304     0  -300  -369  -738 -1273]\n",
      " [ 1475  1277  1172   739   604   300     0   -69  -438  -973]\n",
      " [ 1544  1346  1241   808   673   369    69     0  -369  -904]\n",
      " [ 1913  1715  1610  1177  1042   738   438   369     0  -535]\n",
      " [ 2448  2250  2145  1712  1577  1273   973   904   535     0]]\n",
      "Distances in km:\n",
      " [[    0.   -316.8  -484.8 -1177.6 -1393.6 -1880.  -2360.  -2470.4 -3060.8\n",
      "  -3916.8]\n",
      " [  316.8     0.   -168.   -860.8 -1076.8 -1563.2 -2043.2 -2153.6 -2744.\n",
      "  -3600. ]\n",
      " [  484.8   168.      0.   -692.8  -908.8 -1395.2 -1875.2 -1985.6 -2576.\n",
      "  -3432. ]\n",
      " [ 1177.6   860.8   692.8     0.   -216.   -702.4 -1182.4 -1292.8 -1883.2\n",
      "  -2739.2]\n",
      " [ 1393.6  1076.8   908.8   216.      0.   -486.4  -966.4 -1076.8 -1667.2\n",
      "  -2523.2]\n",
      " [ 1880.   1563.2  1395.2   702.4   486.4     0.   -480.   -590.4 -1180.8\n",
      "  -2036.8]\n",
      " [ 2360.   2043.2  1875.2  1182.4   966.4   480.      0.   -110.4  -700.8\n",
      "  -1556.8]\n",
      " [ 2470.4  2153.6  1985.6  1292.8  1076.8   590.4   110.4     0.   -590.4\n",
      "  -1446.4]\n",
      " [ 3060.8  2744.   2576.   1883.2  1667.2  1180.8   700.8   590.4     0.\n",
      "   -856. ]\n",
      " [ 3916.8  3600.   3432.   2739.2  2523.2  2036.8  1556.8  1446.4   856.\n",
      "      0. ]]\n"
     ]
    }
   ],
   "source": [
    "#array of miles along the Route 66\n",
    "miles=np.array([0,198,303,736,871,1175,1475,1544,1913,2448])\n",
    "\n",
    "#shaping the matrix\n",
    "mat=np.tile(miles,(10,1))\n",
    "matT=np.transpose(mat)\n",
    "\n",
    "#calculating distances\n",
    "distances=matT-miles #broadcasting\n",
    "print(\"Table of distances in miles:\\n\",distances)\n",
    "\n",
    "#CONVERT IN KM\n",
    "Distances=distances*1.6 #element wise\n",
    "print(\"Distances in km:\\n\",Distances)"
   ]
  },
  {
   "cell_type": "markdown",
   "metadata": {},
   "source": [
    "7\\. Prime numbers sieve: compute the prime numbers in the 0-N (N=99 to start with) range with a sieve (mask).\n",
    "  * Constract a shape (100,) boolean array, the mask\n",
    "  * Identify the multiples of each number starting from 2 and set accordingly the corresponding mask element\n",
    "  * Apply the mask to obtain an array of ordered prime numbers\n",
    "  * Check the performances (timeit); how does it scale with N?\n",
    "  * Implement the optimization suggested in the [sieve of Eratosthenes](https://en.wikipedia.org/wiki/Sieve_of_Eratosthenes)"
   ]
  },
  {
   "cell_type": "code",
   "execution_count": 152,
   "metadata": {},
   "outputs": [
    {
     "name": "stdout",
     "output_type": "stream",
     "text": [
      "Prime numbers <100: [ 0  1  2  3  5  7 11 13 17 19 23 29 31 37 41 43 47 53 59 61 67 71 73 79\n",
      " 83 89 97]\n",
      "Prime numbers <100 with sieve of Erathostenes: [ 0  1  2  3  5  7 11 13 17 19 23 29 31 37 41 43 47 53 59 61 67 71 73 79\n",
      " 83 89 97]\n",
      "The results are the same: True\n"
     ]
    }
   ],
   "source": [
    "#boolean array,all True\n",
    "mask=np.ones((100,),dtype=bool)\n",
    "\n",
    "#identify the multiples of each number\n",
    "N=100\n",
    "basis=[2,3,5,7]\n",
    "multiples=[i for i in range(1,N) for j in basis if i%j==0 and i!=j]#identify the multiples of the basis\n",
    "for i in multiples: mask[i]=False #set corrisponding mask element\n",
    "\n",
    "#apply the mask to obtain an array of ordered prime numbers\n",
    "numbers=np.arange(100)\n",
    "prime=numbers[mask]\n",
    "print(\"Prime numbers <100:\",prime)\n",
    "\n",
    "#sieve of Eratosthenes\n",
    "n=np.arange(100)\n",
    "mult=np.ones((100,),dtype=bool)\n",
    "\n",
    "for i in range(2,N):#select multiples\n",
    "    j=i\n",
    "    while j<100:\n",
    "        if j!=i:mult[j]=False\n",
    "        j+=i\n",
    "        \n",
    "prim=n[mult] #apply the mask\n",
    "\n",
    "print(\"Prime numbers <100 with sieve of Erathostenes:\",prim)\n",
    "print(\"The results are the same:\",np.all(prim==prime))"
   ]
  },
  {
   "cell_type": "markdown",
   "metadata": {},
   "source": [
    "8\\. Diffusion using random walk\n",
    "\n",
    "Consider a simple random walk process: at each step in time, a walker jumps right or left (+1 or -1) with equal probability. The goal is to find the typical distance from the origin of a random walker after a given amount of time. \n",
    "To do that, let's simulate many walkers and create a 2D array with each walker as a raw and the actual time evolution as columns\n",
    "\n",
    "  * Take 1000 walkers and let them walk for 200 steps\n",
    "  * Use randint to create a 2D array of size walkers x steps with values -1 or 1\n",
    "  * Build the actual walking distances for each walker (i.e. another 2D array \"summing on each raw\")\n",
    "  * Take the square of that 2D array (elementwise)\n",
    "  * Compute the mean of the squared distances at each step (i.e. the mean along the columns)\n",
    "  * Plot the average distances (sqrt(distance\\*\\*2)) as a function of time (step)\n",
    "  \n",
    "Did you get what you expected?"
   ]
  },
  {
   "cell_type": "code",
   "execution_count": 62,
   "metadata": {},
   "outputs": [
    {
     "data": {
      "image/png": "[encoded data removed]",
      "text/plain": [
       "<Figure size 432x288 with 1 Axes>"
      ]
     },
     "metadata": {
      "needs_background": "light"
     },
     "output_type": "display_data"
    }
   ],
   "source": [
    "#number of walkers and steps: matrices of sizez walkers x steps\n",
    "walkers=1000\n",
    "steps=200\n",
    "\n",
    "#define moves matrix\n",
    "import numpy.random as npr\n",
    "\n",
    "moves=npr.choice([-1,1],size=(walkers,steps))\n",
    "#print(moves)\n",
    "\n",
    "#calculate the actual distances: summing over rows\n",
    "distance=np.zeros((walkers,steps))\n",
    "\n",
    "for i in range(walkers):\n",
    "    for j in range(1,steps):distance[i,j]=distance[i,j-1]+moves[i,j] \n",
    "#print(distance)\n",
    "\n",
    "#square of distance,element wise\n",
    "square=distance**2\n",
    "#print(square)\n",
    "\n",
    "#compute the mean at each step:mean of the columns\n",
    "means=np.array([np.mean(square[:,i]) for i in range(steps)])\n",
    "#print(means)\n",
    "    \n",
    "#plot the average distances vs time\n",
    "import matplotlib.pyplot as plt\n",
    "\n",
    "y=np.sqrt(means)\n",
    "x=np.arange(steps)\n",
    "\n",
    "plt.plot(x,y)\n",
    "plt.show()"
   ]
  },
  {
   "cell_type": "markdown",
   "metadata": {},
   "source": [
    "9\\. Analyze a data file \n",
    "  * Download the population of hares, lynxes and carrots at the beginning of the last century.\n",
    "    ```python\n",
    "    ! wget https://www.dropbox.com/s/3vigxoqayo389uc/populations.txt\n",
    "    ```\n",
    "\n",
    "  * Check the content by looking within the file\n",
    "  * Load the data (use an appropriate numpy method) into a 2D array\n",
    "  * Create arrays out of the columns, the arrays being (in order): *year*, *hares*, *lynxes*, *carrots* \n",
    "  * Plot the 3 populations over the years\n",
    "  * Compute the main statistical properties of the dataset (mean, std, correlations, etc.)\n",
    "  * Which species has the highest population each year?\n",
    "\n",
    "Do you feel there is some evident correlation here? [Studies](https://www.enr.gov.nt.ca/en/services/lynx/lynx-snowshoe-hare-cycle) tend to believe so."
   ]
  },
  {
   "cell_type": "code",
   "execution_count": 64,
   "metadata": {},
   "outputs": [
    {
     "data": {
      "image/png": "[encoded data removed]",
      "text/plain": [
       "<Figure size 432x288 with 1 Axes>"
      ]
     },
     "metadata": {
      "needs_background": "light"
     },
     "output_type": "display_data"
    },
    {
     "name": "stdout",
     "output_type": "stream",
     "text": [
      "Hares: 34080.95238095238 +- 4560.2970576334465\n",
      "\n",
      "Lynxes: 20166.666666666668 +- 3547.0426718320473\n",
      "\n",
      "Carrots: 42400.0 +- 725.0302988429952\n"
     ]
    }
   ],
   "source": [
    "data=np.loadtxt(\"populations.txt\")\n",
    "#print(data)\n",
    "\n",
    "#create arrays out of columns\n",
    "years=data[:,0]\n",
    "hares=data[:,1]\n",
    "lynxes=data[:,2]\n",
    "carrots=data[:,3]\n",
    "\n",
    "\n",
    "#plot populations over the years\n",
    "import matplotlib.pyplot as plt\n",
    "plt.plot(years,hares,color='blue')\n",
    "plt.plot(years,lynxes,color='red')\n",
    "plt.plot(years,carrots,color='green')\n",
    "plt.show()\n",
    "\n",
    "#compute mean and std\n",
    "\n",
    "def std(x,m):\n",
    "    dev=0\n",
    "    for i in range(len(x)):dev+=(x[i] - m)**2\n",
    "    return ((dev)**(1/2))/len(x)\n",
    "\n",
    "print(\"Hares:\",np.mean(hares),\"+-\",std(hares,np.mean(hares)))\n",
    "print(\"\\nLynxes:\",np.mean(lynxes),\"+-\",std(lynxes,np.mean(lynxes)))\n",
    "print(\"\\nCarrots:\",np.mean(carrots),\"+-\",std(carrots,np.mean(carrots)))"
   ]
  },
  {
   "cell_type": "markdown",
   "metadata": {},
   "source": [
    "COMMENTS:\n",
    "\n",
    "There are clearly correlations between the datasets. \n",
    "\n",
    "The population of the Carrots (*green*) seems to be almost constant throught the years, with little fluctuations when the number of Hares is high (*Carrots slightly decreased*) and when it's low (*Carrots slightly increases*).\n",
    "That is of course explained by Hares eating Carrots.\n",
    "\n",
    "The populations of the Lynxes (*red*) and of the Hares (*blue*) are strictly connected. When the number of Lynxes increases, the number of Hares decreases. When the value of Hares decreases too much, the number of Lynxes decreases too. They both restart growing up after a certain amount of time.\n",
    "That is obviously explained by the fact that Lynxes eat Hares; when there is a huge amount of food the population grows, when there isn't enough the population decreases. The populations seem to have a periodic behaviour, with a period of around 10 years."
   ]
  }
 ],
 "metadata": {
  "kernelspec": {
   "display_name": "Python 3",
   "language": "python",
   "name": "python3"
  },
  "language_info": {
   "codemirror_mode": {
    "name": "ipython",
    "version": 3
   },
   "file_extension": ".py",
   "mimetype": "text/x-python",
   "name": "python",
   "nbconvert_exporter": "python",
   "pygments_lexer": "ipython3",
   "version": "3.7.6"
  }
 },
 "nbformat": 4,
 "nbformat_minor": 2
}
