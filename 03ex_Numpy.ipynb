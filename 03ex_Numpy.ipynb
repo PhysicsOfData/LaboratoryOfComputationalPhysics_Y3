{
 "cells": [
  {
   "cell_type": "markdown",
   "metadata": {},
   "source": [
    "### Numpy basics"
   ]
  },
  {
   "cell_type": "markdown",
   "metadata": {},
   "source": [
    "1\\. Find the row, column and overall means for the following matrix:\n",
    "\n",
    "```python\n",
    "m = np.arange(12).reshape((3,4))\n",
    "```"
   ]
  },
  {
   "cell_type": "code",
   "execution_count": 1,
   "metadata": {},
   "outputs": [
    {
     "name": "stdout",
     "output_type": "stream",
     "text": [
      "The overall mean is  5.5\n",
      "\n",
      "\n",
      "The mean of row 1 is 1.5\n",
      "The mean of row 2 is 5.5\n",
      "The mean of row 3 is 9.5\n",
      "\n",
      "\n",
      "The mean of column 1 is 4.0\n",
      "The mean of column 2 is 5.0\n",
      "The mean of column 3 is 6.0\n",
      "The mean of column 4 is 7.0\n"
     ]
    }
   ],
   "source": [
    "import numpy as np\n",
    "m = np.arange(12).reshape((3,4))\n",
    "\n",
    "# overall mean\n",
    "print(\"The overall mean is \",np.mean(m))\n",
    "print(\"\\n\")\n",
    "\n",
    "# mean of each row\n",
    "row_mean = np.zeros(m.shape[0])\n",
    "for i in range(m.shape[0]):\n",
    "    row_mean[i] = np.mean(m[i])\n",
    "    print(\"The mean of row {} is {}\".format(i+1, row_mean[i]))\n",
    "print(\"\\n\")\n",
    "\n",
    "# mean of each column\n",
    "column_mean = np.zeros(m.shape[1]) \n",
    "for i in range(m.shape[1]):\n",
    "    column_mean[i] = np.mean(m[:,i])\n",
    "    print(\"The mean of column {} is {}\".format(i+1, column_mean[i]))\n"
   ]
  },
  {
   "cell_type": "markdown",
   "metadata": {},
   "source": [
    "2\\. Find the outer product of the following two vecotrs\n",
    "\n",
    "```python\n",
    "u = np.array([1,3,5,7])\n",
    "v = np.array([2,4,6,8])\n",
    "```\n",
    "\n",
    "Do this in the following ways:\n",
    "\n",
    "   * Using the function outer in numpy\n",
    "   * Using a nested for loop or list comprehension\n",
    "   * Using numpy broadcasting operatoins\n"
   ]
  },
  {
   "cell_type": "code",
   "execution_count": 2,
   "metadata": {},
   "outputs": [
    {
     "name": "stdout",
     "output_type": "stream",
     "text": [
      "Using np.outer()\n",
      " [[ 2  4  6  8]\n",
      " [ 6 12 18 24]\n",
      " [10 20 30 40]\n",
      " [14 28 42 56]] \n",
      "\n",
      "Using a list comprehension \n",
      " [[ 2  4  6  8]\n",
      " [ 6 12 18 24]\n",
      " [10 20 30 40]\n",
      " [14 28 42 56]] \n",
      "\n",
      "Using broadcasting \n",
      " [[ 2  4  6  8]\n",
      " [ 6 12 18 24]\n",
      " [10 20 30 40]\n",
      " [14 28 42 56]]\n"
     ]
    }
   ],
   "source": [
    "u = np.array([1,3,5,7])\n",
    "v = np.array([2,4,6,8])\n",
    "\n",
    "# with np.outer()\n",
    "uv_outer1 = np.outer(u,v)\n",
    "print(\"Using np.outer()\\n\",uv_outer1,\"\\n\")\n",
    "\n",
    "# with a list comprehension\n",
    "\n",
    "uv_outer2 = np.reshape(np.array([i*j for i in u for j in v]),(len(u),len(v)))\n",
    "print(\"Using a list comprehension \\n\",uv_outer2,\"\\n\")\n",
    "\n",
    "# with broadcasting\n",
    "\n",
    "uv_outer3 = np.tile(u,(4,1)).T*v\n",
    "print(\"Using broadcasting \\n\",uv_outer3)"
   ]
  },
  {
   "cell_type": "markdown",
   "metadata": {},
   "source": [
    "3\\. Create a 10 by 6 matrix of random uniform numbers. Set all rows with any entry less than 0.1 to be zero\n",
    "\n",
    "Hint: Use the following numpy functions - np.random.random, np.any as well as Boolean indexing and the axis argument."
   ]
  },
  {
   "cell_type": "code",
   "execution_count": 3,
   "metadata": {},
   "outputs": [
    {
     "name": "stdout",
     "output_type": "stream",
     "text": [
      "[[0.473 0.134 0.859 0.973 0.279 0.721]\n",
      " [0.828 0.966 0.097 0.249 0.931 0.369]\n",
      " [0.163 0.307 0.477 0.995 0.748 0.974]\n",
      " [0.702 0.203 0.828 0.32  0.938 0.915]\n",
      " [0.761 0.116 0.017 0.498 0.611 0.662]\n",
      " [0.171 0.491 0.833 0.231 0.771 0.956]\n",
      " [0.476 0.654 0.66  0.095 0.295 0.32 ]\n",
      " [0.838 0.255 0.788 0.254 0.303 0.9  ]\n",
      " [0.265 0.07  0.473 0.812 0.771 0.67 ]\n",
      " [0.805 0.316 0.923 0.614 0.925 0.76 ]]\n",
      "\n",
      "\n",
      "[[0.473 0.134 0.859 0.973 0.279 0.721]\n",
      " [0.    0.    0.    0.    0.    0.   ]\n",
      " [0.163 0.307 0.477 0.995 0.748 0.974]\n",
      " [0.702 0.203 0.828 0.32  0.938 0.915]\n",
      " [0.    0.    0.    0.    0.    0.   ]\n",
      " [0.171 0.491 0.833 0.231 0.771 0.956]\n",
      " [0.    0.    0.    0.    0.    0.   ]\n",
      " [0.838 0.255 0.788 0.254 0.303 0.9  ]\n",
      " [0.    0.    0.    0.    0.    0.   ]\n",
      " [0.805 0.316 0.923 0.614 0.925 0.76 ]]\n"
     ]
    }
   ],
   "source": [
    "#np.random.seed(12)\n",
    "random_set = np.round(np.random.random(60), 3) # using np.round for readibility of the output, but it won't affect creating the matrix at all, since the floats are more precise than 0.1\n",
    "\n",
    "random_matrix = np.reshape(random_set,(10,6))  #reshape the set into the 10x6 matrix.\n",
    "matrix_mask = random_matrix >= 0.1             #create the boolean mask\n",
    "\n",
    "\n",
    "matrix = np.array([random_matrix[i] if np.all(matrix_mask[i]) == True else np.zeros(len(random_matrix[i])) for i in range(random_matrix.shape[0])])                #the sauce of the problem: a row of matrix is only the same as a row of random_matrix if all the entries of that row are >= 0.1. If not, then the corresponding row is filled up with zeros.\n",
    "\n",
    "\n",
    "print(random_matrix)  # printing the initial matrix just for comparison\n",
    "print(\"\\n\")\n",
    "print(matrix)"
   ]
  },
  {
   "cell_type": "markdown",
   "metadata": {},
   "source": [
    "4\\. Use np.linspace to create an array of 100 numbers between 0 and 2π (includsive).\n",
    "\n",
    "  * Extract every 10th element using slice notation\n",
    "  * Reverse the array using slice notation\n",
    "  * Extract elements where the absolute difference between the sine and cosine functions evaluated at that element is less than 0.1\n",
    "  * Make a plot showing the sin and cos functions and indicate where they are close"
   ]
  },
  {
   "cell_type": "code",
   "execution_count": 4,
   "metadata": {},
   "outputs": [
    {
     "data": {
      "image/png": "[encoded data removed]",
      "text/plain": [
       "<Figure size 432x288 with 1 Axes>"
      ]
     },
     "metadata": {
      "needs_background": "light"
     },
     "output_type": "display_data"
    }
   ],
   "source": [
    "import matplotlib.pyplot as plt\n",
    "%matplotlib inline \n",
    "\n",
    "pie_array = np.linspace(0, 2*np.pi, 100, endpoint = True)\n",
    "pie_array_10s = pie_array[0:100:10]\n",
    "\n",
    "flipped_pie = pie_array[::-1]\n",
    "\n",
    "small_difference_mask = abs(np.sin(pie_array)-np.cos(pie_array)) < 0.1\n",
    "small_difference = pie_array[small_difference_mask]\n",
    "\n",
    "plt.plot(pie_array, np.sin(pie_array), \"b-\", label = \"sine\")\n",
    "plt.plot(pie_array, np.cos(pie_array), \"r-\", label = \"cosine\")\n",
    "plt.plot(small_difference, np.sin(small_difference), \"go\", label = \"close points\")\n",
    "plt.legend()\n",
    "plt.show()"
   ]
  },
  {
   "cell_type": "markdown",
   "metadata": {},
   "source": [
    "5\\. Create a matrix that shows the 10 by 10 multiplication table.\n",
    "\n",
    " * Find the trace of the matrix\n",
    " * Extract the anto-diagonal (this should be ```array([10, 18, 24, 28, 30, 30, 28, 24, 18, 10])```)\n",
    " * Extract the diagnoal offset by 1 upwards (this should be ```array([ 2,  6, 12, 20, 30, 42, 56, 72, 90])```)"
   ]
  },
  {
   "cell_type": "code",
   "execution_count": 5,
   "metadata": {},
   "outputs": [
    {
     "name": "stdout",
     "output_type": "stream",
     "text": [
      "[[  1   2   3   4   5   6   7   8   9  10]\n",
      " [  2   4   6   8  10  12  14  16  18  20]\n",
      " [  3   6   9  12  15  18  21  24  27  30]\n",
      " [  4   8  12  16  20  24  28  32  36  40]\n",
      " [  5  10  15  20  25  30  35  40  45  50]\n",
      " [  6  12  18  24  30  36  42  48  54  60]\n",
      " [  7  14  21  28  35  42  49  56  63  70]\n",
      " [  8  16  24  32  40  48  56  64  72  80]\n",
      " [  9  18  27  36  45  54  63  72  81  90]\n",
      " [ 10  20  30  40  50  60  70  80  90 100]]\n",
      "The trace is  385\n",
      "anto-diagonal [10 18 24 28 30 30 28 24 18 10]\n",
      "diagonal offset by 1 upwards: [ 2  6 12 20 30 42 56 72 90]\n"
     ]
    }
   ],
   "source": [
    "u = np.arange(1, 11)\n",
    "mult10 = np.outer(u, u)\n",
    "\n",
    "print(mult10)\n",
    "print(\"The trace is \",np.trace(mult10))\n",
    "print(\"anto-diagonal\", np.diag(mult10[::-1]))  # mult10[::-1] flips the matrix vertically, so the main diagonal becomes the anto-diagonal.\n",
    "print(\"diagonal offset by 1 upwards:\", np.diag(mult10, 1))  # feeding np.diag() a second argument k extracts the diagonal k units above the main diagonal (or below, if k <0)"
   ]
  },
  {
   "cell_type": "code",
   "execution_count": 6,
   "metadata": {},
   "outputs": [
    {
     "data": {
      "text/plain": [
       "array([[  0.,   0.,   0.,   0.,   0.,   0.,   0.,   0.,   0.,   0.,   0.],\n",
       "       [  0.,   1.,   2.,   3.,   4.,   5.,   6.,   7.,   8.,   9.,  10.],\n",
       "       [  0.,   2.,   4.,   6.,   8.,  10.,  12.,  14.,  16.,  18.,  20.],\n",
       "       [  0.,   3.,   6.,   9.,  12.,  15.,  18.,  21.,  24.,  27.,  30.],\n",
       "       [  0.,   4.,   8.,  12.,  16.,  20.,  24.,  28.,  32.,  36.,  40.],\n",
       "       [  0.,   5.,  10.,  15.,  20.,  25.,  30.,  35.,  40.,  45.,  50.],\n",
       "       [  0.,   6.,  12.,  18.,  24.,  30.,  36.,  42.,  48.,  54.,  60.],\n",
       "       [  0.,   7.,  14.,  21.,  28.,  35.,  42.,  49.,  56.,  63.,  70.],\n",
       "       [  0.,   8.,  16.,  24.,  32.,  40.,  48.,  56.,  64.,  72.,  80.],\n",
       "       [  0.,   9.,  18.,  27.,  36.,  45.,  54.,  63.,  72.,  81.,  90.],\n",
       "       [  0.,  10.,  20.,  30.,  40.,  50.,  60.,  70.,  80.,  90., 100.]])"
      ]
     },
     "execution_count": 6,
     "metadata": {},
     "output_type": "execute_result"
    }
   ],
   "source": [
    "matrix_gen = np.fromfunction(lambda i,j: i*j, (11,11))\n",
    "matrix = matrix_gen[1:4,3:6]\n",
    "matrix_gen"
   ]
  },
  {
   "cell_type": "markdown",
   "metadata": {},
   "source": [
    "6\\. Use broadcasting to create a grid of distances\n",
    "\n",
    "Route 66 crosses the following cities in the US: Chicago, Springfield, Saint-Louis, Tulsa, Oklahoma City, Amarillo, Santa Fe, Albuquerque, Flagstaff, Los Angeles\n",
    "The corresponding positions in miles are: 0, 198, 303, 736, 871, 1175, 1475, 1544, 1913, 2448\n",
    "\n",
    "  * Construct a 2D grid of distances among each city along Route 66\n",
    "  * Convert that in km (those savages...)"
   ]
  },
  {
   "cell_type": "code",
   "execution_count": 7,
   "metadata": {},
   "outputs": [
    {
     "name": "stdout",
     "output_type": "stream",
     "text": [
      "[[    0.   -316.8  -484.8 -1177.6 -1393.6 -1880.  -2360.  -2470.4 -3060.8\n",
      "  -3916.8]\n",
      " [  316.8     0.   -168.   -860.8 -1076.8 -1563.2 -2043.2 -2153.6 -2744.\n",
      "  -3600. ]\n",
      " [  484.8   168.      0.   -692.8  -908.8 -1395.2 -1875.2 -1985.6 -2576.\n",
      "  -3432. ]\n",
      " [ 1177.6   860.8   692.8     0.   -216.   -702.4 -1182.4 -1292.8 -1883.2\n",
      "  -2739.2]\n",
      " [ 1393.6  1076.8   908.8   216.      0.   -486.4  -966.4 -1076.8 -1667.2\n",
      "  -2523.2]\n",
      " [ 1880.   1563.2  1395.2   702.4   486.4     0.   -480.   -590.4 -1180.8\n",
      "  -2036.8]\n",
      " [ 2360.   2043.2  1875.2  1182.4   966.4   480.      0.   -110.4  -700.8\n",
      "  -1556.8]\n",
      " [ 2470.4  2153.6  1985.6  1292.8  1076.8   590.4   110.4     0.   -590.4\n",
      "  -1446.4]\n",
      " [ 3060.8  2744.   2576.   1883.2  1667.2  1180.8   700.8   590.4     0.\n",
      "   -856. ]\n",
      " [ 3916.8  3600.   3432.   2739.2  2523.2  2036.8  1556.8  1446.4   856.\n",
      "      0. ]]\n"
     ]
    }
   ],
   "source": [
    "dumb_distances = np.array([0, 198, 303, 736, 871, 1175, 1475, 1544, 1913, 2448])\n",
    "distances = dumb_distances*8/5 # it's about that much in km\n",
    "\n",
    "# I was doing all the stuff in km's, but the output looks nicer with integers so I left it in miles\n",
    "\n",
    "#Anyway, Each row indicates where you're going, each column indicates where you are.\n",
    "\n",
    "# For example, if you're in column 1, you are in Chicago, and if you're in Column 1 row 3, you're in chicago and you're 303 miles away Saint-Louis.\n",
    "# On the other hand, if you're in column 4 row 2, you are in Tulsa, and Springfield is 538 miles behind you (hence the negative sign)\n",
    "\n",
    "dist_grid = np.tile(distances,(len(distances),1))\n",
    "dist_grid = dist_grid.T-distances\n",
    "print(dist_grid)\n",
    "\n",
    "#We could do abs() to eliminate the negative, but then we'd only have a symmetric matrix, and the sign gives us some information anyway.\n",
    "\n",
    "# I'm looking forward to doing this with pandas, and actually be able to put headers and line titles."
   ]
  },
  {
   "cell_type": "markdown",
   "metadata": {},
   "source": [
    "7\\. Prime numbers sieve: compute the prime numbers in the 0-N (N=99 to start with) range with a sieve (mask).\n",
    "  * Constract a shape (100,) boolean array, the mask\n",
    "  * Identify the multiples of each number starting from 2 and set accordingly the corresponding mask element\n",
    "  * Apply the mask to obtain an array of ordered prime numbers\n",
    "  * Check the performances (timeit); how does it scale with N?\n",
    "  * Implement the optimization suggested in the [sieve of Eratosthenes](https://en.wikipedia.org/wiki/Sieve_of_Eratosthenes)"
   ]
  },
  {
   "cell_type": "code",
   "execution_count": 8,
   "metadata": {},
   "outputs": [
    {
     "name": "stdout",
     "output_type": "stream",
     "text": [
      "189 ms ± 5.53 ms per loop (mean ± std. dev. of 7 runs, 10 loops each)\n"
     ]
    },
    {
     "data": {
      "text/plain": [
       "array([  2,   3,   5,   7,  11,  13,  17,  19,  23,  29,  31,  37,  41,\n",
       "        43,  47,  53,  59,  61,  67,  71,  73,  79,  83,  89,  97, 101,\n",
       "       103, 107, 109, 113, 127, 131, 137, 139, 149, 151, 157, 163, 167,\n",
       "       173, 179, 181, 191, 193, 197, 199, 211, 223, 227, 229, 233, 239,\n",
       "       241, 251, 257, 263, 269, 271, 277, 281, 283, 293, 307, 311, 313,\n",
       "       317, 331, 337, 347, 349, 353, 359, 367, 373, 379, 383, 389, 397,\n",
       "       401, 409, 419, 421, 431, 433, 439, 443, 449, 457, 461, 463, 467,\n",
       "       479, 487, 491, 499, 503, 509, 521, 523, 541, 547, 557, 563, 569,\n",
       "       571, 577, 587, 593, 599, 601, 607, 613, 617, 619, 631, 641, 643,\n",
       "       647, 653, 659, 661, 673, 677, 683, 691, 701, 709, 719, 727, 733,\n",
       "       739, 743, 751, 757, 761, 769, 773, 787, 797, 809, 811, 821, 823,\n",
       "       827, 829, 839, 853, 857, 859, 863, 877, 881, 883, 887, 907, 911,\n",
       "       919, 929, 937, 941, 947, 953, 967, 971, 977, 983, 991, 997])"
      ]
     },
     "execution_count": 8,
     "metadata": {},
     "output_type": "execute_result"
    }
   ],
   "source": [
    "def sieve(N):\n",
    "    sample = np.arange(N+1)\n",
    "    sample_mask = np.array(sample, dtype = bool) # we create a mask right away off the sample\n",
    "    for i in sample:\n",
    "        if i == 0 or i == 1:  # set the numbers 0 and 1 because we all know they're not prime.\n",
    "            sample_mask[i] = False\n",
    "        else:\n",
    "            for j in range(2,i):\n",
    "                if i % j == 0: # if i is divisible by j for any j value up to i, then sample[i] isn't prime, so we set the corresponding mask element to False. \n",
    "                    sample_mask[i] = False \n",
    "    primes = sample[sample_mask]\n",
    "    return primes\n",
    "\n",
    "# %timeit sieve(10)\n",
    "# print(sieve(10))\n",
    "# %timeit sieve(100)\n",
    "# print(sieve(100))\n",
    "%timeit sieve(1000)\n",
    "sieve(1000)"
   ]
  },
  {
   "cell_type": "markdown",
   "metadata": {},
   "source": [
    "The time taken increases by about 10N for an increase of 1 in N. Not a great algorithm. I'm coding the Erathostones sieve on the next cell and timing it."
   ]
  },
  {
   "cell_type": "code",
   "execution_count": 9,
   "metadata": {},
   "outputs": [
    {
     "data": {
      "text/plain": [
       "array([   2,    3,    5,    7,   11,   13,   17,   19,   23,   29,   31,\n",
       "         37,   41,   43,   47,   53,   59,   61,   67,   71,   73,   79,\n",
       "         83,   89,   97,  101,  103,  107,  109,  113,  127,  131,  137,\n",
       "        139,  149,  151,  157,  163,  167,  173,  179,  181,  191,  193,\n",
       "        197,  199,  211,  223,  227,  229,  233,  239,  241,  251,  257,\n",
       "        263,  269,  271,  277,  281,  283,  293,  307,  311,  313,  317,\n",
       "        331,  337,  347,  349,  353,  359,  367,  373,  379,  383,  389,\n",
       "        397,  401,  409,  419,  421,  431,  433,  439,  443,  449,  457,\n",
       "        461,  463,  467,  479,  487,  491,  499,  503,  509,  521,  523,\n",
       "        541,  547,  557,  563,  569,  571,  577,  587,  593,  599,  601,\n",
       "        607,  613,  617,  619,  631,  641,  643,  647,  653,  659,  661,\n",
       "        673,  677,  683,  691,  701,  709,  719,  727,  733,  739,  743,\n",
       "        751,  757,  761,  769,  773,  787,  797,  809,  811,  821,  823,\n",
       "        827,  829,  839,  853,  857,  859,  863,  877,  881,  883,  887,\n",
       "        907,  911,  919,  929,  937,  941,  947,  953,  961,  967,  971,\n",
       "        977,  983,  989,  991,  997, 1001, 1003, 1004, 1005])"
      ]
     },
     "execution_count": 9,
     "metadata": {},
     "output_type": "execute_result"
    }
   ],
   "source": [
    "def Eratoast(N):\n",
    "    sample = np.arange(N+1)\n",
    "    sample_mask = np.array(sample, dtype = bool)\n",
    "    \n",
    "    for i in range(int(np.sqrt(N))):\n",
    "        if i == 0 or i == 1:  # set the numbers 0 and 1 because we all know they're not prime.\n",
    "            sample_mask[i] = False\n",
    "        else:\n",
    "            for j in range(0,int(N/i)-i):\n",
    "                sample_mask[i**2+j*i] = False\n",
    "                \n",
    "    primes = sample[sample_mask]\n",
    "    return primes\n",
    "Eratoast(1005)\n",
    "# I don't exactly understand why the last numbers aren't taken care of. However, this sieve is muuuuuuch faster."
   ]
  },
  {
   "cell_type": "code",
   "execution_count": 10,
   "metadata": {},
   "outputs": [
    {
     "name": "stdout",
     "output_type": "stream",
     "text": [
      "range(0, 10)\n"
     ]
    }
   ],
   "source": [
    "#sample_mask = np.logical_and(sample % (4) == 0, sample[4] == 5)\n",
    "#sample_mask\n",
    "\n",
    "print(range(10))"
   ]
  },
  {
   "cell_type": "markdown",
   "metadata": {},
   "source": [
    "8\\. Diffusion using random walk\n",
    "\n",
    "Consider a simple random walk process: at each step in time, a walker jumps right or left (+1 or -1) with equal probability. The goal is to find the typical distance from the origin of a random walker after a given amount of time. \n",
    "To do that, let's simulate many wal\n",
    "kers and create a 2D array with each walker as a raw and the actual time evolution as columns\n",
    "\n",
    "  * Take 1000 walkers and let them walk for 200 steps\n",
    "  * Use randint to create a 2D array of size walkers x steps with values -1 or 1\n",
    "  * Build the actual walking distances for each walker (i.e. another 2D array \"summing on each raw\")\n",
    "  * Take the square of that 2D array (elementwise)\n",
    "  * Compute the mean of the squared distances at each step (i.e. the mean along the columns)\n",
    "  * Plot the average distances (sqrt(distance\\*\\*2)) as a function of time (step)\n",
    "  \n",
    "Did you get what you expected?"
   ]
  },
  {
   "cell_type": "code",
   "execution_count": 11,
   "metadata": {
    "scrolled": true
   },
   "outputs": [
    {
     "data": {
      "image/png": "[encoded data removed]",
      "text/plain": [
       "<Figure size 432x288 with 1 Axes>"
      ]
     },
     "metadata": {
      "needs_background": "light"
     },
     "output_type": "display_data"
    }
   ],
   "source": [
    "import matplotlib.pyplot as plt\n",
    "\n",
    "#generate the arrays\n",
    "walkers = np.zeros((1000,2000))\n",
    "randomizer = np.random.choice([-1,1],np.shape(walkers))\n",
    "#randomizer = np.random.randint(-1,2,np.shape(walkers)) #I am using choice instead of randint because it returns either -1 or 1.\n",
    "\n",
    "#generate the distance of each walker\n",
    "for i in range(np.shape(walkers)[0]):\n",
    "    walkers[i] = walkers[i]+[np.sum(randomizer[i,0:j+1]) for j in range(np.shape(randomizer)[1])]\n",
    "    \n",
    "distance_sq = walkers**2\n",
    "\n",
    "#create an array of zeros with length equal to the number of steps.\n",
    "sq_mean_distance = np.zeros(np.shape(distance_sq)[1])\n",
    "\n",
    "#populate the array with the average distances of the walkers for each step\n",
    "for i in range(np.shape(distance_sq)[1]):\n",
    "    sq_mean_distance[i] = np.mean(distance_sq[:,i])\n",
    "\n",
    "#set the variables we want to plot\n",
    "mean_distance = np.sqrt(sq_mean_distance)\n",
    "time = np.arange(len(mean_distance))\n",
    "\n",
    "#plot the average walk\n",
    "plt.plot(time, mean_distance, 'b+')\n",
    "plt.xlabel(\"time (steps)\")\n",
    "plt.ylabel(\"distance\")\n",
    "plt.show()"
   ]
  },
  {
   "cell_type": "markdown",
   "metadata": {},
   "source": [
    "I never actually encountered the random walk before, but according to the [wikipedia page](https://en.wikipedia.org/wiki/Random_walk#One-dimensional_random_walk), it seems right that $\\text{distance}^2 \\propto \\text{steps}$, since the expected value of the total translation of $n$ steps is of the order of $\\sqrt{n}$"
   ]
  },
  {
   "cell_type": "markdown",
   "metadata": {},
   "source": [
    "9\\. Analyze a data file \n",
    "  * Download the population of hares, lynxes and carrots at the beginning of the last century.\n",
    "    ```python\n",
    "    ! wget https://www.dropbox.com/s/3vigxoqayo389uc/populations.txt\n",
    "    ```\n",
    "\n",
    "  * Check the content by looking within the file\n",
    "  * Load the data (use an appropriate numpy method) into a 2D array\n",
    "  * Create arrays out of the columns, the arrays being (in order): *year*, *hares*, *lynxes*, *carrots* \n",
    "  * Plot the 3 populations over the years\n",
    "  * Compute the main statistical properties of the dataset (mean, std, correlations, etc.)\n",
    "  * Which species has the highest population each year?\n",
    "\n",
    "Do you feel there is some evident correlation here? [Studies](https://www.enr.gov.nt.ca/en/services/lynx/lynx-snowshoe-hare-cycle) tend to believe so."
   ]
  },
  {
   "cell_type": "code",
   "execution_count": 12,
   "metadata": {},
   "outputs": [
    {
     "data": {
      "image/png": "[encoded data removed]",
      "text/plain": [
       "<Figure size 432x288 with 1 Axes>"
      ]
     },
     "metadata": {
      "needs_background": "light"
     },
     "output_type": "display_data"
    }
   ],
   "source": [
    "year, hare, lynx, carrot = np.loadtxt('populations.txt', unpack = True)\n",
    "\n",
    "plt.plot(year, hare, \"b-.\", label = \"Hares\")\n",
    "plt.plot(year, lynx, \"r--\", label = \"Lynxes\")\n",
    "plt.plot(year, carrot, \"g:\", label = \"Carrots\")\n",
    "plt.legend()\n",
    "plt.show()"
   ]
  },
  {
   "cell_type": "markdown",
   "metadata": {},
   "source": [
    "Since the hare population is controlled by both the environment's capacity (carrots) and the prevalence of the predator (lynx). So an increase in the hare population leads to a decrease in the amount of carrots available, and that same increase leads to the increase in lynx population. When the lynx population is high enough, and the carrot population is low enough, the hare population starts to drop, which leads to the amount of carrots available to slowly increase. The lynx population then encounters a lower amount of resources to thrive and starts dropping as well. Eventually the lynx population is low enough that it does not pose a threat to the hare population anymore, allowing it to increase again.\n",
    "\n",
    "The hare population grows with a logistic model limited by the number of carrots in the environment. And in turn, the lynx population follows a predator-prey model with the hare population."
   ]
  },
  {
   "cell_type": "code",
   "execution_count": null,
   "metadata": {},
   "outputs": [],
   "source": []
  }
 ],
 "metadata": {
  "kernelspec": {
   "display_name": "Python 3",
   "language": "python",
   "name": "python3"
  },
  "language_info": {
   "codemirror_mode": {
    "name": "ipython",
    "version": 3
   },
   "file_extension": ".py",
   "mimetype": "text/x-python",
   "name": "python",
   "nbconvert_exporter": "python",
   "pygments_lexer": "ipython3",
   "version": "3.8.5"
  }
 },
 "nbformat": 4,
 "nbformat_minor": 4
}
