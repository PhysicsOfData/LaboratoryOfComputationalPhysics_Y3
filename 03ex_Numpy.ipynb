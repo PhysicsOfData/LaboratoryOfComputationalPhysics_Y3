{
 "cells": [
  {
   "cell_type": "markdown",
   "metadata": {},
   "source": [
    "### Numpy basics"
   ]
  },
  {
   "cell_type": "markdown",
   "metadata": {},
   "source": [
    "1\\. Find the row, column and overall means for the following matrix:\n",
    "\n",
    "```python\n",
    "m = np.arange(12).reshape((3,4))\n",
    "```"
   ]
  },
  {
   "cell_type": "code",
   "execution_count": 1,
   "metadata": {},
   "outputs": [
    {
     "name": "stdout",
     "output_type": "stream",
     "text": [
      "[[ 0  1  2  3]\n",
      " [ 4  5  6  7]\n",
      " [ 8  9 10 11]]\n",
      "Rows are:  [0 1 2 3]  and  [4 5 6 7]  and  [ 8  9 10 11]\n",
      "Columns are:  [0 4 8]  and  [1 5 9]  and  [ 2  6 10]  and  [ 3  7 11]\n",
      "overall mean:  5.5  column mean:  [4. 5. 6. 7.]  row mean:  [1.5 5.5 9.5]\n"
     ]
    }
   ],
   "source": [
    "import numpy as np\n",
    "\n",
    "m = np.arange(12).reshape((3,4))\n",
    "print(m)\n",
    "\n",
    "print(\"Rows are: \", m[0], \" and \", m[1], \" and \", m[2])\n",
    "print(\"Columns are: \", m[:,0], \" and \", m[:,1], \" and \", m[:,2], \" and \", m[:,3])\n",
    "\n",
    "#Returns the average of the matrix elements along the given axis (0 or 1 in 2D)\n",
    "print(\"overall mean: \", m.mean(), \" column mean: \", m.mean(0), \" row mean: \", m.mean(1))"
   ]
  },
  {
   "cell_type": "markdown",
   "metadata": {},
   "source": [
    "2\\. Find the outer product of the following two vecotrs\n",
    "\n",
    "```python\n",
    "u = np.array([1,3,5,7])\n",
    "v = np.array([2,4,6,8])\n",
    "```\n",
    "\n",
    "Do this in the following ways:\n",
    "\n",
    "   * Using the function outer in numpy\n",
    "   * Using a nested for loop or list comprehension\n",
    "   * Using numpy broadcasting operatoins\n"
   ]
  },
  {
   "cell_type": "code",
   "execution_count": 2,
   "metadata": {},
   "outputs": [
    {
     "name": "stdout",
     "output_type": "stream",
     "text": [
      "[[ 2  4  6  8]\n",
      " [ 6 12 18 24]\n",
      " [10 20 30 40]\n",
      " [14 28 42 56]]\n",
      "[[ 2  4  6  8]\n",
      " [ 6 12 18 24]\n",
      " [10 20 30 40]\n",
      " [14 28 42 56]]\n"
     ]
    }
   ],
   "source": [
    "u = np.array([1,3,5,7])\n",
    "v = np.array([2,4,6,8])\n",
    "\n",
    "#Using the function outer in numpy\n",
    "np.outer(u,v)\n",
    "\n",
    "#Using a nested for loop or list comprehension\n",
    "a=[] #empty list\n",
    "\n",
    "for i in range(0, len(u)):\n",
    "    for j in range(0, len(v)):\n",
    "        a.append(u[i]*v[j])\n",
    "\n",
    "a=np.array(a)\n",
    "out_prod=a.reshape(len(v), len(u))\n",
    "print(out_prod)\n",
    "\n",
    "\n",
    "#Using numpy broadcasting operations\n",
    "#np.tile construct an array by repeating A the number of times given by reps. .T transposes\n",
    "\n",
    "new_v= np.tile(v, (4, 1))\n",
    "new_u= np.tile(u, (4, 1)).T\n",
    "print(new_u*new_v)\n",
    "\n"
   ]
  },
  {
   "cell_type": "markdown",
   "metadata": {},
   "source": [
    "3\\. Create a 10 by 6 matrix of random uniform numbers. Set all rows with any entry less than 0.1 to be zero\n",
    "\n",
    "Hint: Use the following numpy functions - np.random.random, np.any as well as Boolean indexing and the axis argument."
   ]
  },
  {
   "cell_type": "code",
   "execution_count": 41,
   "metadata": {},
   "outputs": [
    {
     "name": "stdout",
     "output_type": "stream",
     "text": [
      "[[0.54688916 0.79789902 0.82040188 0.12204987 0.60200201 0.52551458]\n",
      " [0.46390841 0.47144574 0.63271284 0.92566388 0.81550292 0.94444175]\n",
      " [0.91958514 0.4148308  0.82581196 0.94626012 0.62804605 0.25226979]\n",
      " [0.5923509  0.86040381 0.         0.85479855 0.72021402 0.29597344]\n",
      " [0.48540647 0.8442755  0.60249114 0.15714582 0.52610225 0.18759724]\n",
      " [0.670447   0.54874917 0.1564259  0.93249624 0.54295325 0.65255723]\n",
      " [0.67134753 0.81894522 0.         0.84784478 0.43507188 0.47745696]\n",
      " [0.71526398 0.84019135 0.11325299 0.6123622  0.22135737 0.        ]\n",
      " [0.28065689 0.29365293 0.13349054 0.72296127 0.20339775 0.79085149]\n",
      " [0.72289686 0.34664717 0.21922709 0.2347296  0.10934288 0.93987847]]\n",
      "[ True  True  True False  True  True False False  True  True]\n",
      "[[0.54688916 0.79789902 0.82040188 0.12204987 0.60200201 0.52551458]\n",
      " [0.46390841 0.47144574 0.63271284 0.92566388 0.81550292 0.94444175]\n",
      " [0.91958514 0.4148308  0.82581196 0.94626012 0.62804605 0.25226979]\n",
      " [0.48540647 0.8442755  0.60249114 0.15714582 0.52610225 0.18759724]\n",
      " [0.670447   0.54874917 0.1564259  0.93249624 0.54295325 0.65255723]\n",
      " [0.28065689 0.29365293 0.13349054 0.72296127 0.20339775 0.79085149]\n",
      " [0.72289686 0.34664717 0.21922709 0.2347296  0.10934288 0.93987847]]\n"
     ]
    }
   ],
   "source": [
    "import numpy.random as npr\n",
    "npr.seed(39)\n",
    "\n",
    "#random uniform numbers= random from a uniform distribution\n",
    "matrix=npr.random((10,6))\n",
    "\n",
    "\n",
    "matrix[matrix < 0.1]=0 \n",
    "#print(bool(0.)) #is Flase\n",
    "\n",
    "print(matrix)\n",
    "\n",
    "#np.any(matrix, axis=1)\n",
    "#but I want to know if the entries are all more than 0.1! I'd better use np.all\n",
    "\n",
    "a=np.all(matrix, axis=1)\n",
    "\n",
    "print(a)\n",
    "print(matrix[a]) #applico la maschera definita con a!\n",
    "\n",
    "        \n"
   ]
  },
  {
   "cell_type": "markdown",
   "metadata": {},
   "source": [
    "4\\. Use np.linspace to create an array of 100 numbers between 0 and 2π (includsive).\n",
    "\n",
    "  * Extract every 10th element using slice notation\n",
    "  * Reverse the array using slice notation\n",
    "  * Extract elements where the absolute difference between the sine and cosine functions evaluated at that element is less than 0.1\n",
    "  * Make a plot showing the sin and cos functions and indicate where they are close"
   ]
  },
  {
   "cell_type": "code",
   "execution_count": 4,
   "metadata": {},
   "outputs": [
    {
     "name": "stdout",
     "output_type": "stream",
     "text": [
      "[0.         0.06346652 0.12693304 0.19039955 0.25386607 0.31733259\n",
      " 0.38079911 0.44426563 0.50773215 0.57119866 0.63466518 0.6981317\n",
      " 0.76159822 0.82506474 0.88853126 0.95199777 1.01546429 1.07893081\n",
      " 1.14239733 1.20586385 1.26933037 1.33279688 1.3962634  1.45972992\n",
      " 1.52319644 1.58666296 1.65012947 1.71359599 1.77706251 1.84052903\n",
      " 1.90399555 1.96746207 2.03092858 2.0943951  2.15786162 2.22132814\n",
      " 2.28479466 2.34826118 2.41172769 2.47519421 2.53866073 2.60212725\n",
      " 2.66559377 2.72906028 2.7925268  2.85599332 2.91945984 2.98292636\n",
      " 3.04639288 3.10985939 3.17332591 3.23679243 3.30025895 3.36372547\n",
      " 3.42719199 3.4906585  3.55412502 3.61759154 3.68105806 3.74452458\n",
      " 3.8079911  3.87145761 3.93492413 3.99839065 4.06185717 4.12532369\n",
      " 4.1887902  4.25225672 4.31572324 4.37918976 4.44265628 4.5061228\n",
      " 4.56958931 4.63305583 4.69652235 4.75998887 4.82345539 4.88692191\n",
      " 4.95038842 5.01385494 5.07732146 5.14078798 5.2042545  5.26772102\n",
      " 5.33118753 5.39465405 5.45812057 5.52158709 5.58505361 5.64852012\n",
      " 5.71198664 5.77545316 5.83891968 5.9023862  5.96585272 6.02931923\n",
      " 6.09278575 6.15625227 6.21971879 6.28318531]\n",
      "[0.         0.63466518 1.26933037 1.90399555 2.53866073 3.17332591\n",
      " 3.8079911  4.44265628 5.07732146 5.71198664]\n",
      "[6.28318531 6.21971879 6.15625227 6.09278575 6.02931923 5.96585272\n",
      " 5.9023862  5.83891968 5.77545316 5.71198664 5.64852012 5.58505361\n",
      " 5.52158709 5.45812057 5.39465405 5.33118753 5.26772102 5.2042545\n",
      " 5.14078798 5.07732146 5.01385494 4.95038842 4.88692191 4.82345539\n",
      " 4.75998887 4.69652235 4.63305583 4.56958931 4.5061228  4.44265628\n",
      " 4.37918976 4.31572324 4.25225672 4.1887902  4.12532369 4.06185717\n",
      " 3.99839065 3.93492413 3.87145761 3.8079911  3.74452458 3.68105806\n",
      " 3.61759154 3.55412502 3.4906585  3.42719199 3.36372547 3.30025895\n",
      " 3.23679243 3.17332591 3.10985939 3.04639288 2.98292636 2.91945984\n",
      " 2.85599332 2.7925268  2.72906028 2.66559377 2.60212725 2.53866073\n",
      " 2.47519421 2.41172769 2.34826118 2.28479466 2.22132814 2.15786162\n",
      " 2.0943951  2.03092858 1.96746207 1.90399555 1.84052903 1.77706251\n",
      " 1.71359599 1.65012947 1.58666296 1.52319644 1.45972992 1.3962634\n",
      " 1.33279688 1.26933037 1.20586385 1.14239733 1.07893081 1.01546429\n",
      " 0.95199777 0.88853126 0.82506474 0.76159822 0.6981317  0.63466518\n",
      " 0.57119866 0.50773215 0.44426563 0.38079911 0.31733259 0.25386607\n",
      " 0.19039955 0.12693304 0.06346652 0.        ]\n"
     ]
    },
    {
     "data": {
      "text/plain": [
       "<matplotlib.collections.PathCollection at 0x173eb1f44f0>"
      ]
     },
     "execution_count": 4,
     "metadata": {},
     "output_type": "execute_result"
    },
    {
     "data": {
      "image/png": "[encoded data removed]",
      "text/plain": [
       "<Figure size 432x288 with 1 Axes>"
      ]
     },
     "metadata": {
      "needs_background": "light"
     },
     "output_type": "display_data"
    }
   ],
   "source": [
    "import math as m\n",
    "import matplotlib.pyplot as plt\n",
    "\n",
    "N=100\n",
    "a=np.linspace(0, 2*m.pi, N, endpoint=True)\n",
    "print(a)\n",
    "\n",
    "print(a[::10])\n",
    "\n",
    "print(a[::-1])#reverse\n",
    "\n",
    "b=[]\n",
    "for i in range(0,len(a)):\n",
    "    if np.absolute(np.sin(a[i])-np.cos(a[i]))<0.1: b.append(a[i])\n",
    "\n",
    "\n",
    "\n",
    "y = np.sin(a)\n",
    "z = np.cos(a)\n",
    "\n",
    "y2 = np.sin(b)\n",
    "z2 = np.cos(b)\n",
    "\n",
    "plt.plot(a,y)\n",
    "plt.plot(a,z)\n",
    "plt.scatter(b,y2)\n",
    "plt.scatter(b,z2)\n"
   ]
  },
  {
   "cell_type": "markdown",
   "metadata": {},
   "source": [
    "5\\. Create a matrix that shows the 10 by 10 multiplication table.\n",
    "\n",
    " * Find the trace of the matrix\n",
    " * Extract the anto-diagonal (this should be ```array([10, 18, 24, 28, 30, 30, 28, 24, 18, 10])```)\n",
    " * Extract the diagnoal offset by 1 upwards (this should be ```array([ 2,  6, 12, 20, 30, 42, 56, 72, 90])```)"
   ]
  },
  {
   "cell_type": "code",
   "execution_count": 5,
   "metadata": {},
   "outputs": [
    {
     "name": "stdout",
     "output_type": "stream",
     "text": [
      "[ 1  2  3  4  5  6  7  8  9 10]\n",
      "[[  1   2   3   4   5   6   7   8   9  10]\n",
      " [  2   4   6   8  10  12  14  16  18  20]\n",
      " [  3   6   9  12  15  18  21  24  27  30]\n",
      " [  4   8  12  16  20  24  28  32  36  40]\n",
      " [  5  10  15  20  25  30  35  40  45  50]\n",
      " [  6  12  18  24  30  36  42  48  54  60]\n",
      " [  7  14  21  28  35  42  49  56  63  70]\n",
      " [  8  16  24  32  40  48  56  64  72  80]\n",
      " [  9  18  27  36  45  54  63  72  81  90]\n",
      " [ 10  20  30  40  50  60  70  80  90 100]]\n"
     ]
    },
    {
     "data": {
      "text/plain": [
       "array([ 2,  6, 12, 20, 30, 42, 56, 72, 90])"
      ]
     },
     "execution_count": 5,
     "metadata": {},
     "output_type": "execute_result"
    }
   ],
   "source": [
    "a=np.arange(1,11)\n",
    "print(a)\n",
    "\n",
    "\n",
    "transp=a.reshape(10,1) #column vector\n",
    "\n",
    "mult=transp*np.tile(a, (10, 1))\n",
    "print(mult)\n",
    "\n",
    "np.trace(mult) #trace\n",
    "np.fliplr(mult).diagonal() #anti-diagonal\n",
    "mult.diagonal(1) #1 is the offset\n",
    "\n"
   ]
  },
  {
   "cell_type": "markdown",
   "metadata": {},
   "source": [
    "6\\. Use broadcasting to create a grid of distances\n",
    "\n",
    "Route 66 crosses the following cities in the US: Chicago, Springfield, Saint-Louis, Tulsa, Oklahoma City, Amarillo, Santa Fe, Albuquerque, Flagstaff, Los Angeles\n",
    "The corresponding positions in miles are: 0, 198, 303, 736, 871, 1175, 1475, 1544, 1913, 2448\n",
    "\n",
    "  * Construct a 2D grid of distances among each city along Route 66\n",
    "  * Convert that in km (those savages...)"
   ]
  },
  {
   "cell_type": "code",
   "execution_count": 6,
   "metadata": {},
   "outputs": [
    {
     "name": "stdout",
     "output_type": "stream",
     "text": [
      "[[   0  198  303  736  871 1175 1475 1544 1913 2448]\n",
      " [ 198    0  105  538  673  977 1277 1346 1715 2250]\n",
      " [ 303  105    0  433  568  872 1172 1241 1610 2145]\n",
      " [ 736  538  433    0  135  439  739  808 1177 1712]\n",
      " [ 871  673  568  135    0  304  604  673 1042 1577]\n",
      " [1175  977  872  439  304    0  300  369  738 1273]\n",
      " [1475 1277 1172  739  604  300    0   69  438  973]\n",
      " [1544 1346 1241  808  673  369   69    0  369  904]\n",
      " [1913 1715 1610 1177 1042  738  438  369    0  535]\n",
      " [2448 2250 2145 1712 1577 1273  973  904  535    0]]\n",
      "[[   0.       318.64932  487.63002 1184.47424 1401.73514 1890.9745\n",
      "  2373.7765  2484.82096 3078.66742 3939.66432]\n",
      " [ 318.64932    0.       168.9807   865.82492 1083.08582 1572.32518\n",
      "  2055.12718 2166.17164 2760.0181  3621.015  ]\n",
      " [ 487.63002  168.9807     0.       696.84422  914.10512 1403.34448\n",
      "  1886.14648 1997.19094 2591.0374  3452.0343 ]\n",
      " [1184.47424  865.82492  696.84422    0.       217.2609   706.50026\n",
      "  1189.30226 1300.34672 1894.19318 2755.19008]\n",
      " [1401.73514 1083.08582  914.10512  217.2609     0.       489.23936\n",
      "   972.04136 1083.08582 1676.93228 2537.92918]\n",
      " [1890.9745  1572.32518 1403.34448  706.50026  489.23936    0.\n",
      "   482.802    593.84646 1187.69292 2048.68982]\n",
      " [2373.7765  2055.12718 1886.14648 1189.30226  972.04136  482.802\n",
      "     0.       111.04446  704.89092 1565.88782]\n",
      " [2484.82096 2166.17164 1997.19094 1300.34672 1083.08582  593.84646\n",
      "   111.04446    0.       593.84646 1454.84336]\n",
      " [3078.66742 2760.0181  2591.0374  1894.19318 1676.93228 1187.69292\n",
      "   704.89092  593.84646    0.       860.9969 ]\n",
      " [3939.66432 3621.015   3452.0343  2755.19008 2537.92918 2048.68982\n",
      "  1565.88782 1454.84336  860.9969     0.     ]]\n"
     ]
    }
   ],
   "source": [
    "pos=np.array([0, 198, 303, 736, 871, 1175, 1475, 1544, 1913, 2448])\n",
    "\n",
    "#grid of distances\n",
    "#dist=pos-(np.tile(10,1)).T\n",
    "z=np.tile(pos,(10,1)).T\n",
    "\n",
    "grid = np.absolute(pos-z) \n",
    "print(grid)\n",
    "\n",
    "#converting\n",
    "grid_km=grid*1.60934\n",
    "print(grid_km)"
   ]
  },
  {
   "cell_type": "markdown",
   "metadata": {},
   "source": [
    "7\\. Prime numbers sieve: compute the prime numbers in the 0-N (N=99 to start with) range with a sieve (mask).\n",
    "  * Constract a shape (100,) boolean array, the mask\n",
    "  * Identify the multiples of each number starting from 2 and set accordingly the corresponding mask element\n",
    "  * Apply the mask to obtain an array of ordered prime numbers\n",
    "  * Check the performances (timeit); how does it scale with N?\n",
    "  * Implement the optimization suggested in the [sieve of Eratosthenes](https://en.wikipedia.org/wiki/Sieve_of_Eratosthenes)"
   ]
  },
  {
   "cell_type": "code",
   "execution_count": 7,
   "metadata": {
    "scrolled": true
   },
   "outputs": [
    {
     "data": {
      "text/plain": [
       "Text(0, 0.5, 'time [s]')"
      ]
     },
     "execution_count": 7,
     "metadata": {},
     "output_type": "execute_result"
    },
    {
     "data": {
      "image/png": "[encoded data removed]",
      "text/plain": [
       "<Figure size 432x288 with 1 Axes>"
      ]
     },
     "metadata": {
      "needs_background": "light"
     },
     "output_type": "display_data"
    }
   ],
   "source": [
    "import time\n",
    "\n",
    "def numeriprimi(N):\n",
    "    a=np.ones((N, ), dtype=bool)\n",
    "    elementi=np.arange(N)\n",
    "    for i in elementi:\n",
    "        if i!=0 and i!=1:\n",
    "            for j in elementi:\n",
    "                if j%i==0 and j//i!=0 and j//i!=1:\n",
    "                    a[j] = False\n",
    "        else: a[i]= False #tolgo anche 0 e 1, che non sono numeri primi\n",
    "                \n",
    "    return(elementi[a]) # array of ordered prime numbers\n",
    "\n",
    "numeriprimi(99)\n",
    "\n",
    "\n",
    "#%timeit numeriprimi(99)\n",
    "\n",
    "n = []\n",
    "t = []\n",
    "\n",
    "for i in range(1,40):\n",
    "    start = time.time()\n",
    "    numeriprimi(i)\n",
    "    t.append(time.time()-start)\n",
    "    n.append(i)\n",
    "    \n",
    "plt.scatter(n,t)\n",
    "plt.xlabel('N')\n",
    "plt.ylabel('time [s]')\n"
   ]
  },
  {
   "cell_type": "code",
   "execution_count": 40,
   "metadata": {},
   "outputs": [
    {
     "data": {
      "text/plain": [
       "array([ 2,  3,  5,  7, 11, 13, 17, 19])"
      ]
     },
     "execution_count": 40,
     "metadata": {},
     "output_type": "execute_result"
    }
   ],
   "source": [
    "def eratostene(N):\n",
    "    a=np.ones((N+1, ), dtype=bool)\n",
    "    a[0:2] = False\n",
    "    #print(a)\n",
    "    elementi=np.arange(0,N+1) #sono in totale N-1\n",
    "    #print (elementi[a])\n",
    "    \n",
    "    for i in range(0,N): #in range(0,N):\n",
    "        if a[i]==True:\n",
    "            for j in range(i,N):\n",
    "                if i*j<=N: a[j*i] = False\n",
    "    return(elementi[a])\n",
    "\n",
    "eratostene(20)\n",
    "        \n",
    "    "
   ]
  },
  {
   "cell_type": "markdown",
   "metadata": {},
   "source": [
    "8\\. Diffusion using random walk\n",
    "\n",
    "Consider a simple random walk process: at each step in time, a walker jumps right or left (+1 or -1) with equal probability. The goal is to find the typical distance from the origin of a random walker after a given amount of time. \n",
    "To do that, let's simulate many walkers and create a 2D array with each walker as a raw and the actual time evolution as columns\n",
    "\n",
    "  * Take 1000 walkers and let them walk for 200 steps\n",
    "  * Use randint to create a 2D array of size walkers x steps with values -1 or 1\n",
    "  * Build the actual walking distances for each walker (i.e. another 2D array \"summing on each raw\")\n",
    "  * Take the square of that 2D array (elementwise)\n",
    "  * Compute the mean of the squared distances at each step (i.e. the mean along the columns)\n",
    "  * Plot the average distances (sqrt(distance\\*\\*2)) as a function of time (step)\n",
    "  \n",
    "Did you get what you expected?"
   ]
  },
  {
   "cell_type": "code",
   "execution_count": 95,
   "metadata": {},
   "outputs": [
    {
     "data": {
      "text/plain": [
       "Text(0.5, 0, 'time')"
      ]
     },
     "execution_count": 95,
     "metadata": {},
     "output_type": "execute_result"
    },
    {
     "data": {
      "image/png": "[encoded data removed]",
      "text/plain": [
       "<Figure size 432x288 with 1 Axes>"
      ]
     },
     "metadata": {
      "needs_background": "light"
     },
     "output_type": "display_data"
    }
   ],
   "source": [
    "npr.seed(4890)\n",
    "\n",
    "walkers = 1000\n",
    "steps = 200\n",
    "\n",
    "a=npr.randint(0,2, size=(walkers,steps))\n",
    "a[a==0]=-1\n",
    "\n",
    "#actual walking distances\n",
    "d=np.zeros((walkers,steps))\n",
    "\n",
    "\n",
    "#calcolo la distanza percorsa fino a quel momento (-1==1 come distanza!)\n",
    "for i in range(0,walkers):\n",
    "    for j in range(0,steps):\n",
    "        if j==0:\n",
    "            d[i:,j]=a[i:,j]\n",
    "        else:\n",
    "            d[i:,j]=d[i:,j-1]+a[i:,j]\n",
    "    \n",
    "#new_d=np.absolute(d) #inutile perchè poi si fa il quadrato\n",
    "\n",
    "#squared distances\n",
    "d_sq=np.square(d)\n",
    "\n",
    "\n",
    "#mean of the squared distances at each step\n",
    "d_sq.mean(0)\n",
    "\n",
    "\n",
    "tempo=np.linspace(1,steps,num=steps, endpoint=True)\n",
    "\n",
    "plt.scatter(tempo, np.sqrt(d_sq.mean(0)))\n",
    "\n",
    "plt.ylabel('mean distances')\n",
    "plt.xlabel('time')\n"
   ]
  },
  {
   "cell_type": "markdown",
   "metadata": {},
   "source": [
    "9\\. Analyze a data file \n",
    "  * Download the population of hares, lynxes and carrots at the beginning of the last century.\n",
    "    ```python\n",
    "    ! wget https://www.dropbox.com/s/3vigxoqayo389uc/populations.txt\n",
    "    ```\n",
    "\n",
    "  * Check the content by looking within the file\n",
    "  * Load the data (use an appropriate numpy method) into a 2D array\n",
    "  * Create arrays out of the columns, the arrays being (in order): *year*, *hares*, *lynxes*, *carrots* \n",
    "  * Plot the 3 populations over the years\n",
    "  * Compute the main statistical properties of the dataset (mean, std, correlations, etc.)\n",
    "  * Which species has the highest population each year?\n",
    "\n",
    "Do you feel there is some evident correlation here? [Studies](https://www.enr.gov.nt.ca/en/services/lynx/lynx-snowshoe-hare-cycle) tend to believe so."
   ]
  },
  {
   "cell_type": "code",
   "execution_count": 129,
   "metadata": {},
   "outputs": [
    {
     "name": "stdout",
     "output_type": "stream",
     "text": [
      "(21, 4)\n",
      "34080.95238095238 20897.906458089667\n",
      "20166.666666666668 16254.591536908763\n",
      "42400.0 3322.5062255844787\n"
     ]
    },
    {
     "data": {
      "text/plain": [
       "array([[ 1.        ,  0.07189206, -0.01660378],\n",
       "       [ 0.07189206,  1.        , -0.68057717],\n",
       "       [-0.01660378, -0.68057717,  1.        ]])"
      ]
     },
     "execution_count": 129,
     "metadata": {},
     "output_type": "execute_result"
    },
    {
     "data": {
      "image/png": "[encoded data removed]",
      "text/plain": [
       "<Figure size 432x288 with 1 Axes>"
      ]
     },
     "metadata": {
      "needs_background": "light"
     },
     "output_type": "display_data"
    }
   ],
   "source": [
    "a = np.loadtxt('populations.txt', skiprows=0) # la prima riga di testo, con #, non è comunque letta\n",
    "#print(a)\n",
    "print(a.shape)\n",
    "\n",
    "\n",
    "#year hares lynxes carrots: columns\n",
    "year=np.ones(a.shape[0])\n",
    "hares=np.ones(a.shape[0])\n",
    "lynxes=np.ones(a.shape[0])\n",
    "carrots=np.ones(a.shape[0])\n",
    "\n",
    "for i in range(0, a.shape[0]):\n",
    "    year[i]=a[i,0]\n",
    "    hares[i]=a[i,1]\n",
    "    lynxes[i]=a[i,2]\n",
    "    carrots[i]=a[i,3]\n",
    "    \n",
    "plt.plot(year, hares)\n",
    "plt.plot(year, lynxes)\n",
    "plt.plot(year, carrots)\n",
    "\n",
    "\n",
    "m_hares = np.mean(hares)\n",
    "std_hares = np.std(hares)\n",
    "print(m_hares,std_hares)\n",
    "\n",
    "m_lynxes = np.mean(lynxes)\n",
    "std_lynxes = np.std(lynxes)\n",
    "print(m_lynxes,std_lynxes)\n",
    "\n",
    "m_carrots = np.mean(carrots)\n",
    "std_carrots = np.std(carrots)\n",
    "print(m_carrots,std_carrots)\n",
    "\n",
    "np.corrcoef([hares, lynxes, carrots])\n",
    "#1=strongly agree, -1=strongly disagree\n"
   ]
  },
  {
   "cell_type": "code",
   "execution_count": null,
   "metadata": {},
   "outputs": [],
   "source": []
  }
 ],
 "metadata": {
  "kernelspec": {
   "display_name": "Python 3",
   "language": "python",
   "name": "python3"
  },
  "language_info": {
   "codemirror_mode": {
    "name": "ipython",
    "version": 3
   },
   "file_extension": ".py",
   "mimetype": "text/x-python",
   "name": "python",
   "nbconvert_exporter": "python",
   "pygments_lexer": "ipython3",
   "version": "3.8.3"
  }
 },
 "nbformat": 4,
 "nbformat_minor": 2
}
