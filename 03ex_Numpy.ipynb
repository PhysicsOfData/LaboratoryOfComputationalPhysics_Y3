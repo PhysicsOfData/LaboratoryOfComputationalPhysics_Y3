{
 "cells": [
  {
   "cell_type": "markdown",
   "metadata": {},
   "source": [
    "### Numpy basics"
   ]
  },
  {
   "cell_type": "markdown",
   "metadata": {},
   "source": [
    "1\\. Find the row, column and overall means for the following matrix:\n",
    "\n",
    "```python\n",
    "m = np.arange(12).reshape((3,4))\n",
    "```"
   ]
  },
  {
   "cell_type": "code",
   "execution_count": 1,
   "metadata": {},
   "outputs": [
    {
     "name": "stdout",
     "output_type": "stream",
     "text": [
      "[[ 0  1  2  3]\n",
      " [ 4  5  6  7]\n",
      " [ 8  9 10 11]]\n",
      "Mean = 5.5\n",
      "Colss Mean = [4. 5. 6. 7.]\n",
      "Rows Mean = [1.5 5.5 9.5]\n"
     ]
    }
   ],
   "source": [
    "import  numpy as np\n",
    "\n",
    "m = np.arange(12).reshape((3,4))\n",
    "\n",
    "print(m)\n",
    "print(\"Mean = \" + str(np.mean(m)))\n",
    "print(\"Colss Mean = \" + str(np.mean(m, 0)))\n",
    "print(\"Rows Mean = \" + str(np.mean(m,1)))"
   ]
  },
  {
   "cell_type": "markdown",
   "metadata": {},
   "source": [
    "2\\. Find the outer product of the following two vecotrs\n",
    "\n",
    "```python\n",
    "u = np.array([1,3,5,7])\n",
    "v = np.array([2,4,6,8])\n",
    "```\n",
    "\n",
    "Do this in the following ways:\n",
    "\n",
    "   * Using the function outer in numpy\n",
    "   * Using a nested for loop or list comprehension\n",
    "   * Using numpy broadcasting operatoins\n"
   ]
  },
  {
   "cell_type": "code",
   "execution_count": 2,
   "metadata": {},
   "outputs": [
    {
     "name": "stdout",
     "output_type": "stream",
     "text": [
      "[[ 2  4  6  8]\n",
      " [ 6 12 18 24]\n",
      " [10 20 30 40]\n",
      " [14 28 42 56]]\n",
      "[[ 2.  4.  6.  8.]\n",
      " [ 6. 12. 18. 24.]\n",
      " [10. 20. 30. 40.]\n",
      " [14. 28. 42. 56.]]\n",
      "[[ 2  4  6  8]\n",
      " [ 6 12 18 24]\n",
      " [10 20 30 40]\n",
      " [14 28 42 56]]\n"
     ]
    }
   ],
   "source": [
    "import numpy as np\n",
    "\n",
    "u = np.array([1,3,5,7])\n",
    "v = np.array([2,4,6,8])\n",
    "\n",
    "outer_1 = np.outer(u,v)\n",
    "print(outer_1)\n",
    "\n",
    "outer_2 = np.zeros((len(u), len(v)))\n",
    "for i in range(len(u)):\n",
    "    for j in range(len(v)):\n",
    "        outer_2[i,j] = u[i] * v[j]\n",
    "\n",
    "print(outer_2)\n",
    "\n",
    "outer_3 = u[:, np.newaxis] * v\n",
    "print(outer_3)"
   ]
  },
  {
   "cell_type": "markdown",
   "metadata": {},
   "source": [
    "3\\. Create a 10 by 6 matrix of random uniform numbers. Set all rows with any entry less than 0.1 to be zero\n",
    "\n",
    "Hint: Use the following numpy functions - np.random.random, np.any as well as Boolean indexing and the axis argument."
   ]
  },
  {
   "cell_type": "code",
   "execution_count": 3,
   "metadata": {},
   "outputs": [
    {
     "name": "stdout",
     "output_type": "stream",
     "text": [
      "[[0.26503178 0.31785589 0.61445391 0.35713315 0.8028246  0.79409071]\n",
      " [0.12571372 0.16164747 0.80770449 0.34545275 0.24739365 0.00124134]\n",
      " [0.56878036 0.37879595 0.74837345 0.8976246  0.18227244 0.20240188]\n",
      " [0.80958245 0.34963137 0.59085007 0.05328839 0.98737578 0.40086451]\n",
      " [0.75996927 0.54652367 0.17726237 0.64964293 0.59583091 0.78212902]\n",
      " [0.2840741  0.9183451  0.94256772 0.14679628 0.13593207 0.51399066]\n",
      " [0.48366184 0.62629528 0.03129145 0.32740562 0.9959307  0.61594162]\n",
      " [0.23352273 0.71382756 0.54535502 0.75211452 0.23245877 0.93208568]\n",
      " [0.31643743 0.25180899 0.21832434 0.53535773 0.75940593 0.99386539]\n",
      " [0.54084621 0.14329962 0.2731859  0.92829707 0.9629348  0.24499444]]\n",
      "[[0.26503178 0.31785589 0.61445391 0.35713315 0.8028246  0.79409071]\n",
      " [0.         0.         0.         0.         0.         0.        ]\n",
      " [0.56878036 0.37879595 0.74837345 0.8976246  0.18227244 0.20240188]\n",
      " [0.         0.         0.         0.         0.         0.        ]\n",
      " [0.75996927 0.54652367 0.17726237 0.64964293 0.59583091 0.78212902]\n",
      " [0.2840741  0.9183451  0.94256772 0.14679628 0.13593207 0.51399066]\n",
      " [0.         0.         0.         0.         0.         0.        ]\n",
      " [0.23352273 0.71382756 0.54535502 0.75211452 0.23245877 0.93208568]\n",
      " [0.31643743 0.25180899 0.21832434 0.53535773 0.75940593 0.99386539]\n",
      " [0.54084621 0.14329962 0.2731859  0.92829707 0.9629348  0.24499444]]\n"
     ]
    }
   ],
   "source": [
    "import numpy as np\n",
    "\n",
    "a = np.random.random((10,6))\n",
    "\n",
    "print(a)\n",
    "\n",
    "a[np.any(a < 0.1, 1), :] = 0\n",
    "print(a)\n"
   ]
  },
  {
   "cell_type": "markdown",
   "metadata": {},
   "source": [
    "4\\. Use np.linspace to create an array of 100 numbers between 0 and 2π (includsive).\n",
    "\n",
    "  * Extract every 10th element using slice notation\n",
    "  * Reverse the array using slice notation\n",
    "  * Extract elements where the absolute difference between the sine and cosine functions evaluated at that element is less than 0.1\n",
    "  * Make a plot showing the sin and cos functions and indicate where they are close"
   ]
  },
  {
   "cell_type": "code",
   "execution_count": 6,
   "metadata": {},
   "outputs": [
    {
     "name": "stdout",
     "output_type": "stream",
     "text": [
      "[0.         0.06346652 0.12693304 0.19039955 0.25386607 0.31733259\n",
      " 0.38079911 0.44426563 0.50773215 0.57119866 0.63466518 0.6981317\n",
      " 0.76159822 0.82506474 0.88853126 0.95199777 1.01546429 1.07893081\n",
      " 1.14239733 1.20586385 1.26933037 1.33279688 1.3962634  1.45972992\n",
      " 1.52319644 1.58666296 1.65012947 1.71359599 1.77706251 1.84052903\n",
      " 1.90399555 1.96746207 2.03092858 2.0943951  2.15786162 2.22132814\n",
      " 2.28479466 2.34826118 2.41172769 2.47519421 2.53866073 2.60212725\n",
      " 2.66559377 2.72906028 2.7925268  2.85599332 2.91945984 2.98292636\n",
      " 3.04639288 3.10985939 3.17332591 3.23679243 3.30025895 3.36372547\n",
      " 3.42719199 3.4906585  3.55412502 3.61759154 3.68105806 3.74452458\n",
      " 3.8079911  3.87145761 3.93492413 3.99839065 4.06185717 4.12532369\n",
      " 4.1887902  4.25225672 4.31572324 4.37918976 4.44265628 4.5061228\n",
      " 4.56958931 4.63305583 4.69652235 4.75998887 4.82345539 4.88692191\n",
      " 4.95038842 5.01385494 5.07732146 5.14078798 5.2042545  5.26772102\n",
      " 5.33118753 5.39465405 5.45812057 5.52158709 5.58505361 5.64852012\n",
      " 5.71198664 5.77545316 5.83891968 5.9023862  5.96585272 6.02931923\n",
      " 6.09278575 6.15625227 6.21971879 6.28318531]\n",
      "[0.         0.63466518 1.26933037 1.90399555 2.53866073 3.17332591\n",
      " 3.8079911  4.44265628 5.07732146 5.71198664]\n",
      "[6.28318531 6.21971879 6.15625227 6.09278575 6.02931923 5.96585272\n",
      " 5.9023862  5.83891968 5.77545316 5.71198664 5.64852012 5.58505361\n",
      " 5.52158709 5.45812057 5.39465405 5.33118753 5.26772102 5.2042545\n",
      " 5.14078798 5.07732146 5.01385494 4.95038842 4.88692191 4.82345539\n",
      " 4.75998887 4.69652235 4.63305583 4.56958931 4.5061228  4.44265628\n",
      " 4.37918976 4.31572324 4.25225672 4.1887902  4.12532369 4.06185717\n",
      " 3.99839065 3.93492413 3.87145761 3.8079911  3.74452458 3.68105806\n",
      " 3.61759154 3.55412502 3.4906585  3.42719199 3.36372547 3.30025895\n",
      " 3.23679243 3.17332591 3.10985939 3.04639288 2.98292636 2.91945984\n",
      " 2.85599332 2.7925268  2.72906028 2.66559377 2.60212725 2.53866073\n",
      " 2.47519421 2.41172769 2.34826118 2.28479466 2.22132814 2.15786162\n",
      " 2.0943951  2.03092858 1.96746207 1.90399555 1.84052903 1.77706251\n",
      " 1.71359599 1.65012947 1.58666296 1.52319644 1.45972992 1.3962634\n",
      " 1.33279688 1.26933037 1.20586385 1.14239733 1.07893081 1.01546429\n",
      " 0.95199777 0.88853126 0.82506474 0.76159822 0.6981317  0.63466518\n",
      " 0.57119866 0.50773215 0.44426563 0.38079911 0.31733259 0.25386607\n",
      " 0.19039955 0.12693304 0.06346652]\n",
      "[0.76159822 0.82506474 3.87145761 3.93492413]\n"
     ]
    },
    {
     "data": {
      "image/png": "[encoded data removed]",
      "text/plain": [
       "<Figure size 432x288 with 1 Axes>"
      ]
     },
     "metadata": {
      "needs_background": "light"
     },
     "output_type": "display_data"
    }
   ],
   "source": [
    "#some parts adapted from google-search\n",
    "\n",
    "import numpy as np\n",
    "import matplotlib.pyplot as plt\n",
    "\n",
    "a = np.linspace(0, 2 * np.pi, 100, endpoint=True)\n",
    "print(a)\n",
    "\n",
    "print(a[0:100:10])\n",
    "\n",
    "print(a[100:0:-1])\n",
    "\n",
    "print(a[np.abs(np.sin(a) - np.cos(a)) < 0.1])\n",
    "\n",
    "sin_a = np.sin(a)\n",
    "cos_a = np.cos(a)\n",
    "\n",
    "\n",
    "plt.plot(a, sin_a, color='b')\n",
    "plt.plot(a, cos_a, color='r')\n",
    "for close in a[np.abs(np.sin(a) - np.cos(a)) < 0.1]:\n",
    "    plt.axvline(x=close, color='k', linestyle='--')\n",
    "\n",
    "plt.show()"
   ]
  },
  {
   "cell_type": "markdown",
   "metadata": {},
   "source": [
    "5\\. Create a matrix that shows the 10 by 10 multiplication table.\n",
    "\n",
    " * Find the trace of the matrix\n",
    " * Extract the anto-diagonal (this should be ```array([10, 18, 24, 28, 30, 30, 28, 24, 18, 10])```)\n",
    " * Extract the diagnoal offset by 1 upwards (this should be ```array([ 2,  6, 12, 20, 30, 42, 56, 72, 90])```)"
   ]
  },
  {
   "cell_type": "code",
   "execution_count": 7,
   "metadata": {},
   "outputs": [
    {
     "name": "stdout",
     "output_type": "stream",
     "text": [
      "[[  1   2   3   4   5   6   7   8   9  10]\n",
      " [  2   4   6   8  10  12  14  16  18  20]\n",
      " [  3   6   9  12  15  18  21  24  27  30]\n",
      " [  4   8  12  16  20  24  28  32  36  40]\n",
      " [  5  10  15  20  25  30  35  40  45  50]\n",
      " [  6  12  18  24  30  36  42  48  54  60]\n",
      " [  7  14  21  28  35  42  49  56  63  70]\n",
      " [  8  16  24  32  40  48  56  64  72  80]\n",
      " [  9  18  27  36  45  54  63  72  81  90]\n",
      " [ 10  20  30  40  50  60  70  80  90 100]]\n",
      "385\n",
      "[10 18 24 28 30 30 28 24 18 10]\n",
      "[ 2  6 12 20 30 42 56 72 90]\n"
     ]
    }
   ],
   "source": [
    "import numpy as np\n",
    "\n",
    "a = np.arange(1,11)\n",
    "\n",
    "mat = np.outer(a,a)\n",
    "\n",
    "print(mat)\n",
    "\n",
    "print(np.trace(mat))\n",
    "\n",
    "print(np.diag(np.fliplr(mat)))\n",
    "\n",
    "print(np.diag(mat,1))"
   ]
  },
  {
   "cell_type": "markdown",
   "metadata": {},
   "source": [
    "6\\. Use broadcasting to create a grid of distances\n",
    "\n",
    "Route 66 crosses the following cities in the US: Chicago, Springfield, Saint-Louis, Tulsa, Oklahoma City, Amarillo, Santa Fe, Albuquerque, Flagstaff, Los Angeles\n",
    "The corresponding positions in miles are: 0, 198, 303, 736, 871, 1175, 1475, 1544, 1913, 2448\n",
    "\n",
    "  * Construct a 2D grid of distances among each city along Route 66\n",
    "  * Convert that in km (those savages...)"
   ]
  },
  {
   "cell_type": "code",
   "execution_count": 8,
   "metadata": {},
   "outputs": [
    {
     "name": "stdout",
     "output_type": "stream",
     "text": [
      "[[   0  198  303  736  871 1175 1475 1544 1913 2448]\n",
      " [ 198    0  105  538  673  977 1277 1346 1715 2250]\n",
      " [ 303  105    0  433  568  872 1172 1241 1610 2145]\n",
      " [ 736  538  433    0  135  439  739  808 1177 1712]\n",
      " [ 871  673  568  135    0  304  604  673 1042 1577]\n",
      " [1175  977  872  439  304    0  300  369  738 1273]\n",
      " [1475 1277 1172  739  604  300    0   69  438  973]\n",
      " [1544 1346 1241  808  673  369   69    0  369  904]\n",
      " [1913 1715 1610 1177 1042  738  438  369    0  535]\n",
      " [2448 2250 2145 1712 1577 1273  973  904  535    0]]\n",
      "[[   0.       318.64932  487.63002 1184.47424 1401.73514 1890.9745\n",
      "  2373.7765  2484.82096 3078.66742 3939.66432]\n",
      " [ 318.64932    0.       168.9807   865.82492 1083.08582 1572.32518\n",
      "  2055.12718 2166.17164 2760.0181  3621.015  ]\n",
      " [ 487.63002  168.9807     0.       696.84422  914.10512 1403.34448\n",
      "  1886.14648 1997.19094 2591.0374  3452.0343 ]\n",
      " [1184.47424  865.82492  696.84422    0.       217.2609   706.50026\n",
      "  1189.30226 1300.34672 1894.19318 2755.19008]\n",
      " [1401.73514 1083.08582  914.10512  217.2609     0.       489.23936\n",
      "   972.04136 1083.08582 1676.93228 2537.92918]\n",
      " [1890.9745  1572.32518 1403.34448  706.50026  489.23936    0.\n",
      "   482.802    593.84646 1187.69292 2048.68982]\n",
      " [2373.7765  2055.12718 1886.14648 1189.30226  972.04136  482.802\n",
      "     0.       111.04446  704.89092 1565.88782]\n",
      " [2484.82096 2166.17164 1997.19094 1300.34672 1083.08582  593.84646\n",
      "   111.04446    0.       593.84646 1454.84336]\n",
      " [3078.66742 2760.0181  2591.0374  1894.19318 1676.93228 1187.69292\n",
      "   704.89092  593.84646    0.       860.9969 ]\n",
      " [3939.66432 3621.015   3452.0343  2755.19008 2537.92918 2048.68982\n",
      "  1565.88782 1454.84336  860.9969     0.     ]]\n"
     ]
    }
   ],
   "source": [
    "import numpy as np\n",
    "\n",
    "dist = np.array([0,198,303,736,871,1175,1475,1544,1913,2448])\n",
    "\n",
    "grid = np.abs(dist[:,np.newaxis] - dist)\n",
    "\n",
    "print(grid)\n",
    "\n",
    "print(grid*1.60934)"
   ]
  },
  {
   "cell_type": "markdown",
   "metadata": {},
   "source": [
    "7\\. Prime numbers sieve: compute the prime numbers in the 0-N (N=99 to start with) range with a sieve (mask).\n",
    "  * Constract a shape (100,) boolean array, the mask\n",
    "  * Identify the multiples of each number starting from 2 and set accordingly the corresponding mask element\n",
    "  * Apply the mask to obtain an array of ordered prime numbers\n",
    "  * Check the performances (timeit); how does it scale with N?\n",
    "  * Implement the optimization suggested in the [sieve of Eratosthenes](https://en.wikipedia.org/wiki/Sieve_of_Eratosthenes)"
   ]
  },
  {
   "cell_type": "code",
   "execution_count": 9,
   "metadata": {},
   "outputs": [
    {
     "name": "stdout",
     "output_type": "stream",
     "text": [
      "[False False  True  True False  True False  True False False False  True\n",
      " False  True False False False  True False  True False False False  True\n",
      " False False False False False  True False  True False False False False\n",
      " False  True False False False  True False  True False False False  True\n",
      " False False False False False  True False False False False False  True\n",
      " False  True False False False False False  True False False False  True\n",
      " False  True False False False False False  True False False False  True\n",
      " False False False False False  True False False False False False False\n",
      " False  True False False]\n",
      "0.10591971199028194\n",
      "0.0915044349967502\n",
      "[False False  True  True False  True False  True False False False  True\n",
      " False  True False False False  True False  True False False False  True\n",
      " False False False False False  True False  True False False False False\n",
      " False  True False False False  True False  True False False False  True\n",
      " False False False False False  True False False False False False  True\n",
      " False  True False False False False False  True False False False  True\n",
      " False  True False False False False False  True False False False  True\n",
      " False False False False False  True False False False False False False\n",
      " False  True False False]\n"
     ]
    }
   ],
   "source": [
    "import numpy as np\n",
    "import timeit\n",
    "\n",
    "\n",
    "def findPrime(N):\n",
    "    mask = np.array([True]*N)\n",
    " \n",
    "    mask[0] = False\n",
    "    mask[1] = False\n",
    "    \n",
    "    for i in range(2,N):\n",
    "        index = 2 * i\n",
    "        while(index < N):\n",
    "            mask[index] = False\n",
    "            index += i\n",
    "\n",
    "    print(mask)    \n",
    "\n",
    "\n",
    "def findPrimeEratosthenes(N):\n",
    "    mask = np.array([True]*N)\n",
    "\n",
    "    mask[0] = False\n",
    "    mask[1] = False\n",
    "    for i in np.arange(2, int(N/2)):\n",
    "        mask[2*i::i] = False\n",
    "\n",
    "    print(mask)\n",
    "\n",
    "\n",
    "findPrime(100)\n",
    "\n",
    "\n",
    "mysetup = \"import numpy as np\"\n",
    "mycode = '''\n",
    "def findPrime():\n",
    "    N = 1000\n",
    "    mask = np.array([True]*N)\n",
    " \n",
    "    mask[0] = False\n",
    "    mask[1] = False\n",
    "    \n",
    "    for i in range(2,N):\n",
    "        index = 2 * i\n",
    "        while(index < N):\n",
    "            mask[index] = False\n",
    "            index += i\n",
    "\n",
    "    print(mask)    \n",
    "'''\n",
    "\n",
    "print(timeit.timeit(setup = mysetup, \n",
    "                    stmt = mycode, \n",
    "                    number = 1000000))\n",
    "\n",
    "mysetup = \"import numpy as np\"\n",
    "mycode = '''\n",
    "def findPrime():\n",
    "    N=100000\n",
    "    mask = np.array([True]*N)\n",
    " \n",
    "    mask[0] = False\n",
    "    mask[1] = False\n",
    "    \n",
    "    for i in range(2,N):\n",
    "        index = 2 * i\n",
    "        while(index < N):\n",
    "            mask[index] = False\n",
    "            index += i\n",
    "\n",
    "    print(mask)    \n",
    "'''\n",
    "\n",
    "\n",
    "print(timeit.timeit(setup = mysetup, \n",
    "                    stmt = mycode, \n",
    "                    number = 1000000))\n",
    "\n",
    "\n",
    "\n",
    "\n",
    "findPrimeEratosthenes(100)"
   ]
  },
  {
   "cell_type": "markdown",
   "metadata": {},
   "source": [
    "8\\. Diffusion using random walk\n",
    "\n",
    "Consider a simple random walk process: at each step in time, a walker jumps right or left (+1 or -1) with equal probability. The goal is to find the typical distance from the origin of a random walker after a given amount of time. \n",
    "To do that, let's simulate many walkers and create a 2D array with each walker as a raw and the actual time evolution as columns\n",
    "\n",
    "  * Take 1000 walkers and let them walk for 200 steps\n",
    "  * Use randint to create a 2D array of size walkers x steps with values -1 or 1\n",
    "  * Build the actual walking distances for each walker (i.e. another 2D array \"summing on each raw\")\n",
    "  * Take the square of that 2D array (elementwise)\n",
    "  * Compute the mean of the squared distances at each step (i.e. the mean along the columns)\n",
    "  * Plot the average distances (sqrt(distance\\*\\*2)) as a function of time (step)\n",
    "  \n",
    "Did you get what you expected?"
   ]
  },
  {
   "cell_type": "code",
   "execution_count": 10,
   "metadata": {},
   "outputs": [
    {
     "name": "stdout",
     "output_type": "stream",
     "text": [
      "[[  1.   2.   3. ...  -6.  -7.  -8.]\n",
      " [ -1.   0.   1. ...  18.  17.  16.]\n",
      " [  1.   0.   1. ... -10.  -9. -10.]\n",
      " ...\n",
      " [ -1.   0.  -1. ...  10.  11.  10.]\n",
      " [  1.   0.  -1. ... -12. -11. -12.]\n",
      " [  1.   2.   1. ...  -6.  -5.  -6.]]\n"
     ]
    },
    {
     "data": {
      "image/png": "[encoded data removed]",
      "text/plain": [
       "<Figure size 432x288 with 1 Axes>"
      ]
     },
     "metadata": {
      "needs_background": "light"
     },
     "output_type": "display_data"
    }
   ],
   "source": [
    "import numpy as np\n",
    "import matplotlib.pyplot as plt\n",
    "\n",
    "dist = np.zeros([1000, 200])\n",
    "\n",
    "steps = np.random.randint(2,size=(1000, 200))\n",
    "steps[steps == 0] = -1\n",
    "\n",
    "\n",
    "dist[:,0] = steps[:,0]\n",
    "for i in np.arange(1,200):\n",
    "    dist[:,i] = dist[:,i-1] + steps[:,i]\n",
    "\n",
    "rms_dist = np.mean(dist ** 2, 0) ** 0.5\n",
    "\n",
    "print(dist)\n",
    "\n",
    "plt.plot(rms_dist, np.arange(1,201))\n",
    "plt.show()"
   ]
  },
  {
   "cell_type": "markdown",
   "metadata": {},
   "source": [
    "9\\. Analyze a data file \n",
    "  * Download the population of hares, lynxes and carrots at the beginning of the last century.\n",
    "    ```python\n",
    "    ! wget https://www.dropbox.com/s/3vigxoqayo389uc/populations.txt\n",
    "    ```\n",
    "\n",
    "  * Check the content by looking within the file\n",
    "  * Load the data (use an appropriate numpy method) into a 2D array\n",
    "  * Create arrays out of the columns, the arrays being (in order): *year*, *hares*, *lynxes*, *carrots* \n",
    "  * Plot the 3 populations over the years\n",
    "  * Compute the main statistical properties of the dataset (mean, std, correlations, etc.)\n",
    "  * Which species has the highest population each year?\n",
    "\n",
    "Do you feel there is some evident correlation here? [Studies](https://www.enr.gov.nt.ca/en/services/lynx/lynx-snowshoe-hare-cycle) tend to believe so."
   ]
  },
  {
   "cell_type": "code",
   "execution_count": null,
   "metadata": {},
   "outputs": [],
   "source": [
    "# year\thare\tlynx\tcarrot\n",
    "1900\t30e3\t4e3\t48300\n",
    "1901\t47.2e3\t6.1e3\t48200\n",
    "1902\t70.2e3\t9.8e3\t41500\n",
    "1903\t77.4e3\t35.2e3\t38200\n",
    "1904\t36.3e3\t59.4e3\t40600\n",
    "1905\t20.6e3\t41.7e3\t39800\n",
    "1906\t18.1e3\t19e3\t38600\n",
    "1907\t21.4e3\t13e3\t42300\n",
    "1908\t22e3\t8.3e3\t44500\n",
    "1909\t25.4e3\t9.1e3\t42100\n",
    "1910\t27.1e3\t7.4e3\t46000\n",
    "1911\t40.3e3\t8e3\t46800\n",
    "1912\t57e3\t12.3e3\t43800\n",
    "1913\t76.6e3\t19.5e3\t40900\n",
    "1914\t52.3e3\t45.7e3\t39400\n",
    "1915\t19.5e3\t51.1e3\t39000\n",
    "1916\t11.2e3\t29.7e3\t36700\n",
    "1917\t7.6e3\t15.8e3\t41800\n",
    "1918\t14.6e3\t9.7e3\t43300\n",
    "1919\t16.2e3\t10.1e3\t41300\n",
    "1920\t24.7e3\t8.6e3\t47300"
   ]
  },
  {
   "cell_type": "code",
   "execution_count": 11,
   "metadata": {},
   "outputs": [
    {
     "name": "stdout",
     "output_type": "stream",
     "text": [
      "hares: mean = 34080.95238095238 , std = 20897.906458089667\n",
      "lynxes: mean = 20166.666666666668 , std = 16254.591536908763\n",
      "carrots: mean = 42400.0 , std = 3322.5062255844787\n",
      "Covariance = [[ 1.          0.07189206 -0.01660378]\n",
      " [ 0.07189206  1.         -0.68057717]\n",
      " [-0.01660378 -0.68057717  1.        ]]\n",
      "Max population per year = ['carrots' 'carrots' 'hares' 'hares' 'lynxes' 'lynxes' 'carrots' 'carrots'\n",
      " 'carrots' 'carrots' 'carrots' 'carrots' 'hares' 'hares' 'hares' 'lynxes'\n",
      " 'carrots' 'carrots' 'carrots' 'carrots' 'carrots']\n"
     ]
    },
    {
     "data": {
      "image/png": "[encoded data removed]",
      "text/plain": [
       "<Figure size 432x288 with 1 Axes>"
      ]
     },
     "metadata": {
      "needs_background": "light"
     },
     "output_type": "display_data"
    }
   ],
   "source": [
    "import numpy as np\n",
    "import matplotlib.pyplot as plt\n",
    "\n",
    "data = np.loadtxt(\"populations.txt\")\n",
    "\n",
    "years = data[:,0]\n",
    "hares = data[:,1]\n",
    "lynxes = data[:,2]\n",
    "carrots = data[:,3]\n",
    "\n",
    "print(\"hares: mean = \" + str(np.mean(hares)) + \" , std = \" + str(np.std(hares)))\n",
    "print(\"lynxes: mean = \" + str(np.mean(lynxes)) + \" , std = \" + str(np.std(lynxes)))\n",
    "print(\"carrots: mean = \" + str(np.mean(carrots)) + \" , std = \" + str(np.std(carrots)))\n",
    "print(\"Covariance = \" + str(np.corrcoef(data[:,1:].T)))\n",
    "\n",
    "names=np.array([\"hares\", \"lynxes\", \"carrots\"])\n",
    "print(\"Max population per year = \" + str(names[np.argmax(data[:,1:], 1)]))\n",
    "\n",
    "plt.plot(years, hares, 'b')\n",
    "plt.plot(years, lynxes, 'r')\n",
    "plt.plot(years, carrots, 'g')\n",
    "plt.show()"
   ]
  }
 ],
 "metadata": {
  "kernelspec": {
   "display_name": "Python 3",
   "language": "python",
   "name": "python3"
  },
  "language_info": {
   "codemirror_mode": {
    "name": "ipython",
    "version": 3
   },
   "file_extension": ".py",
   "mimetype": "text/x-python",
   "name": "python",
   "nbconvert_exporter": "python",
   "pygments_lexer": "ipython3",
   "version": "3.7.4"
  }
 },
 "nbformat": 4,
 "nbformat_minor": 2
}
