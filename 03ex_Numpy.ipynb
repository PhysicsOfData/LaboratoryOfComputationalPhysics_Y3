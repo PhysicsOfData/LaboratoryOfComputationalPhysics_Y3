{
 "cells": [
  {
   "cell_type": "markdown",
   "metadata": {},
   "source": [
    "### Numpy basics"
   ]
  },
  {
   "cell_type": "markdown",
   "metadata": {},
   "source": [
    "1\\. Find the row, column and overall means for the following matrix:\n",
    "\n",
    "```python\n",
    "m = np.arange(12).reshape((3,4))\n",
    "```"
   ]
  },
  {
   "cell_type": "code",
   "execution_count": 2,
   "metadata": {},
   "outputs": [
    {
     "name": "stdout",
     "output_type": "stream",
     "text": [
      "[[ 0  1  2  3]\n",
      " [ 4  5  6  7]\n",
      " [ 8  9 10 11]]\n",
      "The dimension of the matrix is: 2\n",
      "The number of rows and columns are: (3, 4)\n",
      "The number of the elements are: 3\n",
      "Each element contains 4 numbers\n",
      "Mean is:  5.5\n"
     ]
    }
   ],
   "source": [
    "import numpy as np\n",
    "m = np.arange(12).reshape((3,4))\n",
    "print(m)\n",
    "print(\"The dimension of the matrix is:\",m.ndim)\n",
    "print(\"The number of rows and columns are:\",m.shape)\n",
    "print(\"The number of the elements are:\",len(m))\n",
    "print(\"Each element contains\",len(m[1]),\"numbers\")\n",
    "print(\"Mean is: \",np.mean(m))\n",
    "\n"
   ]
  },
  {
   "cell_type": "markdown",
   "metadata": {},
   "source": [
    "2\\. Find the outer product of the following two vecotrs\n",
    "\n",
    "```python\n",
    "u = np.array([1,3,5,7])\n",
    "v = np.array([2,4,6,8])\n",
    "```\n",
    "\n",
    "Do this in the following ways:\n",
    "\n",
    "   * Using the function outer in numpy\n",
    "   * Using a nested for loop or list comprehension\n",
    "   * Using numpy broadcasting operatoins\n"
   ]
  },
  {
   "cell_type": "code",
   "execution_count": 13,
   "metadata": {},
   "outputs": [
    {
     "name": "stdout",
     "output_type": "stream",
     "text": [
      "[[ 2  4  6  8]\n",
      " [ 6 12 18 24]\n",
      " [10 20 30 40]\n",
      " [14 28 42 56]]\n"
     ]
    }
   ],
   "source": [
    "u = np.array([1,3,5,7])\n",
    "v = np.array([2,4,6,8])\n",
    "result=np.outer(u,v)\n",
    "print(result)"
   ]
  },
  {
   "cell_type": "code",
   "execution_count": 17,
   "metadata": {},
   "outputs": [
    {
     "name": "stdout",
     "output_type": "stream",
     "text": [
      "[[ 2  4  6  8]\n",
      " [ 6 12 18 24]\n",
      " [10 20 30 40]\n",
      " [14 28 42 56]]\n"
     ]
    }
   ],
   "source": [
    "u = np.array([1,3,5,7])\n",
    "v = np.array([2,4,6,8])\n",
    "print(np.array([u[j]*v[i] for j in range(4) for i in range(4)]).reshape(4,4))\n"
   ]
  },
  {
   "cell_type": "code",
   "execution_count": 27,
   "metadata": {},
   "outputs": [
    {
     "name": "stdout",
     "output_type": "stream",
     "text": [
      "[[ 2  4  6  8]\n",
      " [ 6 12 18 24]\n",
      " [10 20 30 40]\n",
      " [14 28 42 56]]\n"
     ]
    }
   ],
   "source": [
    "x=np.tile(u,(1))\n",
    "y=np.tile(v,(1))\n",
    "x_y=np.outer(x,y)\n",
    "print(x_y)"
   ]
  },
  {
   "cell_type": "markdown",
   "metadata": {},
   "source": [
    "3\\. Create a 10 by 6 matrix of random uniform numbers. Set all rows with any entry less than 0.1 to be zero\n",
    "\n",
    "Hint: Use the following numpy functions - np.random.random, np.any as well as Boolean indexing and the axis argument."
   ]
  },
  {
   "cell_type": "code",
   "execution_count": 20,
   "metadata": {},
   "outputs": [
    {
     "name": "stdout",
     "output_type": "stream",
     "text": [
      "[[0.04936841 0.08952024 0.00753036 0.0981351  0.09666698 0.04141893]\n",
      " [0.03701348 0.03256665 0.04786073 0.04050965 0.01743215 0.08565065]\n",
      " [0.01795518 0.03246107 0.02311969 0.02086484 0.02305238 0.06940972]\n",
      " [0.06733677 0.03770327 0.02809749 0.08107032 0.05091324 0.02019198]\n",
      " [0.01148729 0.07666973 0.05498609 0.00250145 0.01045703 0.07119335]\n",
      " [0.07557476 0.00357466 0.0865266  0.0866291  0.03870265 0.05531075]\n",
      " [0.00755281 0.00763805 0.01169255 0.0984926  0.05743184 0.04313892]\n",
      " [0.0857216  0.05757152 0.05312213 0.04067074 0.03019818 0.06805477]\n",
      " [0.0296601  0.09693444 0.01502804 0.02811482 0.05426207 0.05377601]\n",
      " [0.09109824 0.02105651 0.0959742  0.0305522  0.08983574 0.09329191]]\n",
      "10\n"
     ]
    }
   ],
   "source": [
    "import numpy as np\n",
    "m=0.1*np.random.random_sample((10,6))\n",
    "print(m)\n",
    "print(len(m))"
   ]
  },
  {
   "cell_type": "markdown",
   "metadata": {},
   "source": [
    "4\\. Use np.linspace to create an array of 100 numbers between 0 and 2π (includsive).\n",
    "\n",
    "  * Extract every 10th element using slice notation\n",
    "  * Reverse the array using slice notation\n",
    "  * Extract elements where the absolute difference between the sine and cosine functions evaluated at that element is less than 0.1\n",
    "  * Make a plot showing the sin and cos functions and indicate where they are close"
   ]
  },
  {
   "cell_type": "code",
   "execution_count": 21,
   "metadata": {},
   "outputs": [
    {
     "name": "stdout",
     "output_type": "stream",
     "text": [
      "[0.         0.06346652 0.12693304 0.19039955 0.25386607 0.31733259\n",
      " 0.38079911 0.44426563 0.50773215 0.57119866 0.63466518 0.6981317\n",
      " 0.76159822 0.82506474 0.88853126 0.95199777 1.01546429 1.07893081\n",
      " 1.14239733 1.20586385 1.26933037 1.33279688 1.3962634  1.45972992\n",
      " 1.52319644 1.58666296 1.65012947 1.71359599 1.77706251 1.84052903\n",
      " 1.90399555 1.96746207 2.03092858 2.0943951  2.15786162 2.22132814\n",
      " 2.28479466 2.34826118 2.41172769 2.47519421 2.53866073 2.60212725\n",
      " 2.66559377 2.72906028 2.7925268  2.85599332 2.91945984 2.98292636\n",
      " 3.04639288 3.10985939 3.17332591 3.23679243 3.30025895 3.36372547\n",
      " 3.42719199 3.4906585  3.55412502 3.61759154 3.68105806 3.74452458\n",
      " 3.8079911  3.87145761 3.93492413 3.99839065 4.06185717 4.12532369\n",
      " 4.1887902  4.25225672 4.31572324 4.37918976 4.44265628 4.5061228\n",
      " 4.56958931 4.63305583 4.69652235 4.75998887 4.82345539 4.88692191\n",
      " 4.95038842 5.01385494 5.07732146 5.14078798 5.2042545  5.26772102\n",
      " 5.33118753 5.39465405 5.45812057 5.52158709 5.58505361 5.64852012\n",
      " 5.71198664 5.77545316 5.83891968 5.9023862  5.96585272 6.02931923\n",
      " 6.09278575 6.15625227 6.21971879 6.28318531]\n"
     ]
    }
   ],
   "source": [
    "from math import pi\n",
    "a=np.linspace(0,2*pi,100)\n",
    "print(a)"
   ]
  },
  {
   "cell_type": "code",
   "execution_count": 29,
   "metadata": {},
   "outputs": [
    {
     "name": "stdout",
     "output_type": "stream",
     "text": [
      "0.5711986642890533\n",
      "1.2058638468324459\n",
      "1.8405290293758385\n",
      "2.475194211919231\n",
      "3.1098593944626236\n",
      "3.744524577006016\n",
      "4.3791897595494085\n",
      "5.013854942092801\n",
      "5.648520124636194\n"
     ]
    }
   ],
   "source": [
    "#each 10 argument\n",
    "a=np.linspace(0,2*pi,100)\n",
    "for i in range(1,10):\n",
    "    print(a[10*i-1])"
   ]
  },
  {
   "cell_type": "code",
   "execution_count": 31,
   "metadata": {},
   "outputs": [
    {
     "name": "stdout",
     "output_type": "stream",
     "text": [
      "[6.28318531 6.21971879 6.15625227 6.09278575 6.02931923 5.96585272\n",
      " 5.9023862  5.83891968 5.77545316 5.71198664 5.64852012 5.58505361\n",
      " 5.52158709 5.45812057 5.39465405 5.33118753 5.26772102 5.2042545\n",
      " 5.14078798 5.07732146 5.01385494 4.95038842 4.88692191 4.82345539\n",
      " 4.75998887 4.69652235 4.63305583 4.56958931 4.5061228  4.44265628\n",
      " 4.37918976 4.31572324 4.25225672 4.1887902  4.12532369 4.06185717\n",
      " 3.99839065 3.93492413 3.87145761 3.8079911  3.74452458 3.68105806\n",
      " 3.61759154 3.55412502 3.4906585  3.42719199 3.36372547 3.30025895\n",
      " 3.23679243 3.17332591 3.10985939 3.04639288 2.98292636 2.91945984\n",
      " 2.85599332 2.7925268  2.72906028 2.66559377 2.60212725 2.53866073\n",
      " 2.47519421 2.41172769 2.34826118 2.28479466 2.22132814 2.15786162\n",
      " 2.0943951  2.03092858 1.96746207 1.90399555 1.84052903 1.77706251\n",
      " 1.71359599 1.65012947 1.58666296 1.52319644 1.45972992 1.3962634\n",
      " 1.33279688 1.26933037 1.20586385 1.14239733 1.07893081 1.01546429\n",
      " 0.95199777 0.88853126 0.82506474 0.76159822 0.6981317  0.63466518\n",
      " 0.57119866 0.50773215 0.44426563 0.38079911 0.31733259 0.25386607\n",
      " 0.19039955 0.12693304 0.06346652 0.        ]\n"
     ]
    }
   ],
   "source": [
    "#reversing\n",
    "print(a[::-1])"
   ]
  },
  {
   "cell_type": "code",
   "execution_count": 36,
   "metadata": {},
   "outputs": [
    {
     "name": "stdout",
     "output_type": "stream",
     "text": [
      "0.7615982190520711\n",
      "0.8250647373064104\n",
      "3.8714576135146945\n",
      "3.934924131769034\n"
     ]
    }
   ],
   "source": [
    "# sin and cos difference\n",
    "for i in a:\n",
    "    if abs(np.sin(i)-np.cos(i))<0.1 :\n",
    "        print(i)\n",
    "        "
   ]
  },
  {
   "cell_type": "code",
   "execution_count": 25,
   "metadata": {},
   "outputs": [
    {
     "data": {
      "image/png": "[encoded data removed]",
      "text/plain": [
       "<Figure size 432x288 with 1 Axes>"
      ]
     },
     "metadata": {
      "needs_background": "light"
     },
     "output_type": "display_data"
    }
   ],
   "source": [
    "#plot\n",
    "import matplotlib.pyplot as plt\n",
    "%matplotlib inline\n",
    "xs=np.linspace(0,2*pi,100)\n",
    "ys=np.sin(xs)\n",
    "zs=np.cos(xs)\n",
    "plt.plot(xs,ys);\n",
    "plt.plot(xs,zs);\n"
   ]
  },
  {
   "cell_type": "markdown",
   "metadata": {},
   "source": [
    "5\\. Create a matrix that shows the 10 by 10 multiplication table.\n",
    "\n",
    " * Find the trace of the matrix\n",
    " * Extract the anto-diagonal (this should be ```array([10, 18, 24, 28, 30, 30, 28, 24, 18, 10])```)\n",
    " * Extract the diagnoal offset by 1 upwards (this should be ```array([ 2,  6, 12, 20, 30, 42, 56, 72, 90])```)"
   ]
  },
  {
   "cell_type": "code",
   "execution_count": 11,
   "metadata": {},
   "outputs": [
    {
     "name": "stdout",
     "output_type": "stream",
     "text": [
      "[[  1   2   3   4   5   6   7   8   9  10]\n",
      " [  2   4   6   8  10  12  14  16  18  20]\n",
      " [  3   6   9  12  15  18  21  24  27  30]\n",
      " [  4   8  12  16  20  24  28  32  36  40]\n",
      " [  5  10  15  20  25  30  35  40  45  50]\n",
      " [  6  12  18  24  30  36  42  48  54  60]\n",
      " [  7  14  21  28  35  42  49  56  63  70]\n",
      " [  8  16  24  32  40  48  56  64  72  80]\n",
      " [  9  18  27  36  45  54  63  72  81  90]\n",
      " [ 10  20  30  40  50  60  70  80  90 100]]\n"
     ]
    }
   ],
   "source": [
    "a1=np.arange(1,11)\n",
    "a2=np.arange(1,11)\n",
    "b=np.outer(a1,a2)\n",
    "print(b)\n"
   ]
  },
  {
   "cell_type": "code",
   "execution_count": 8,
   "metadata": {},
   "outputs": [
    {
     "name": "stdout",
     "output_type": "stream",
     "text": [
      "The trace of our matrix is:  385\n"
     ]
    }
   ],
   "source": [
    "#trace\n",
    "matrix_trace=sum(np.diag(np.outer(a1,a2)))\n",
    "print(\"The trace of our matrix is: \",matrix_trace)"
   ]
  },
  {
   "cell_type": "code",
   "execution_count": 17,
   "metadata": {},
   "outputs": [
    {
     "name": "stdout",
     "output_type": "stream",
     "text": [
      "[10 18 24 28 30 30 28 24 18 10]\n"
     ]
    }
   ],
   "source": [
    "#anto-diagonal\n",
    "arr=np.array(b)\n",
    "print(np.fliplr(arr).diagonal())"
   ]
  },
  {
   "cell_type": "code",
   "execution_count": 19,
   "metadata": {},
   "outputs": [
    {
     "data": {
      "text/plain": [
       "array([ 2,  6, 12, 20, 30, 42, 56, 72, 90])"
      ]
     },
     "execution_count": 19,
     "metadata": {},
     "output_type": "execute_result"
    }
   ],
   "source": [
    "#diagonal offset by 1 upwards\n",
    "np.diag(b,k=1)\n"
   ]
  },
  {
   "cell_type": "markdown",
   "metadata": {},
   "source": [
    "6\\. Use broadcasting to create a grid of distances\n",
    "\n",
    "Route 66 crosses the following cities in the US: Chicago, Springfield, Saint-Louis, Tulsa, Oklahoma City, Amarillo, Santa Fe, Albuquerque, Flagstaff, Los Angeles\n",
    "The corresponding positions in miles are: 0, 198, 303, 736, 871, 1175, 1475, 1544, 1913, 2448\n",
    "\n",
    "  * Construct a 2D grid of distances among each city along Route 66\n",
    "  * Convert that in km (those savages...)"
   ]
  },
  {
   "cell_type": "code",
   "execution_count": 22,
   "metadata": {},
   "outputs": [
    {
     "data": {
      "text/plain": [
       "[<matplotlib.lines.Line2D at 0x15bb8cbae50>]"
      ]
     },
     "execution_count": 22,
     "metadata": {},
     "output_type": "execute_result"
    },
    {
     "data": {
      "image/png": "[encoded data removed]",
      "text/plain": [
       "<Figure size 432x288 with 1 Axes>"
      ]
     },
     "metadata": {
      "needs_background": "light"
     },
     "output_type": "display_data"
    }
   ],
   "source": [
    "import matplotlib.pyplot as plt\n",
    "%matplotlib inline\n",
    "\n",
    "xs=np.array([0,198,303,736,871,1175,1475,1544,1913,2448])\n",
    "ys=np.array(['Chicago','Springfield','Saint-Louis','Tulsa','Oklahoma City','Amarillo','Santa Fe','Albuquerque','Flagstaff','Los Angeles'])\n",
    "plt.plot(xs,ys)"
   ]
  },
  {
   "cell_type": "code",
   "execution_count": 23,
   "metadata": {},
   "outputs": [
    {
     "data": {
      "text/plain": [
       "[<matplotlib.lines.Line2D at 0x15bb8d1b9d0>]"
      ]
     },
     "execution_count": 23,
     "metadata": {},
     "output_type": "execute_result"
    },
    {
     "data": {
      "image/png": "[encoded data removed]",
      "text/plain": [
       "<Figure size 432x288 with 1 Axes>"
      ]
     },
     "metadata": {
      "needs_background": "light"
     },
     "output_type": "display_data"
    }
   ],
   "source": [
    "#in km\n",
    "xs=(10**-3)*np.array([0,198,303,736,871,1175,1475,1544,1913,2448])\n",
    "ys=np.array(['Chicago','Springfield','Saint-Louis','Tulsa','Oklahoma City','Amarillo','Santa Fe','Albuquerque','Flagstaff','Los Angeles'])\n",
    "plt.plot(xs,ys)"
   ]
  },
  {
   "cell_type": "markdown",
   "metadata": {},
   "source": [
    "7\\. Prime numbers sieve: compute the prime numbers in the 0-N (N=99 to start with) range with a sieve (mask).\n",
    "  * Constract a shape (100,) boolean array, the mask\n",
    "  * Identify the multiples of each number starting from 2 and set accordingly the corresponding mask element\n",
    "  * Apply the mask to obtain an array of ordered prime numbers\n",
    "  * Check the performances (timeit); how does it scale with N?\n",
    "  * Implement the optimization suggested in the [sieve of Eratosthenes](https://en.wikipedia.org/wiki/Sieve_of_Eratosthenes)"
   ]
  },
  {
   "cell_type": "code",
   "execution_count": 5,
   "metadata": {},
   "outputs": [
    {
     "name": "stdout",
     "output_type": "stream",
     "text": [
      "2\n",
      "3\n",
      "5\n",
      "7\n",
      "11\n",
      "13\n",
      "17\n",
      "19\n",
      "23\n",
      "29\n",
      "31\n",
      "37\n",
      "41\n",
      "43\n",
      "47\n",
      "53\n",
      "59\n",
      "61\n",
      "67\n",
      "71\n",
      "73\n",
      "79\n",
      "83\n",
      "89\n",
      "97\n",
      "The prime numbers smaller or equal to 99\n",
      "2\n",
      "3\n",
      "5\n",
      "7\n",
      "11\n",
      "13\n",
      "17\n",
      "19\n",
      "23\n",
      "29\n",
      "31\n",
      "37\n",
      "41\n",
      "43\n",
      "47\n",
      "53\n",
      "59\n",
      "61\n",
      "67\n",
      "71\n",
      "73\n",
      "79\n",
      "83\n",
      "89\n",
      "97\n",
      "The prime numbers smaller or equal to 99\n",
      "False\n"
     ]
    }
   ],
   "source": [
    "def SieveOfEratosthenes(n): \n",
    "    prime = [True for i in range(n + 1)] \n",
    "    p = 2\n",
    "    while (p * p <= n): \n",
    "        if (prime[p] == True): \n",
    "            for i in range(p * 2, n + 1, p): \n",
    "                prime[i] = False\n",
    "        p += 1\n",
    "    prime[0]= False\n",
    "    prime[1]= False\n",
    "    for p in range(n + 1): \n",
    "        if prime[p]: \n",
    "            print(p), \n",
    "  \n",
    "\n",
    "    if __name__=='__main__': \n",
    "        n = 99\n",
    "        print(\"The prime numbers smaller or equal to\",n)   \n",
    "SieveOfEratosthenes(99) \n",
    "print(np.array(SieveOfEratosthenes(99),dtype=bool))\n"
   ]
  },
  {
   "cell_type": "code",
   "execution_count": null,
   "metadata": {},
   "outputs": [],
   "source": [
    "\n",
    "        \n",
    "    \n",
    "    "
   ]
  },
  {
   "cell_type": "markdown",
   "metadata": {},
   "source": [
    "8\\. Diffusion using random walk\n",
    "\n",
    "Consider a simple random walk process: at each step in time, a walker jumps right or left (+1 or -1) with equal probability. The goal is to find the typical distance from the origin of a random walker after a given amount of time. \n",
    "To do that, let's simulate many walkers and create a 2D array with each walker as a raw and the actual time evolution as columns\n",
    "\n",
    "  * Take 1000 walkers and let them walk for 200 steps\n",
    "  * Use randint to create a 2D array of size walkers x steps with values -1 or 1\n",
    "  * Build the actual walking distances for each walker (i.e. another 2D array \"summing on each raw\")\n",
    "  * Take the square of that 2D array (elementwise)\n",
    "  * Compute the mean of the squared distances at each step (i.e. the mean along the columns)\n",
    "  * Plot the average distances (sqrt(distance\\*\\*2)) as a function of time (step)\n",
    "  \n",
    "Did you get what you expected?"
   ]
  },
  {
   "cell_type": "code",
   "execution_count": 19,
   "metadata": {},
   "outputs": [
    {
     "data": {
      "text/plain": [
       "array([[-1, -1,  0,  0, -1,  0, -1,  0, -1,  0],\n",
       "       [ 0,  0,  0, -1, -1, -1,  0, -1,  0, -1],\n",
       "       [-1, -1, -1, -1,  0,  0,  0, -1, -1, -1],\n",
       "       [-1,  0, -1, -1,  0,  0, -1, -1, -1,  0],\n",
       "       [-1, -1,  0,  0,  0,  0, -1,  0,  0,  0],\n",
       "       [-1, -1,  0,  0, -1,  0, -1, -1, -1, -1],\n",
       "       [ 0,  0,  0, -1,  0,  0,  0, -1,  0, -1],\n",
       "       [-1, -1, -1,  0,  0,  0,  0, -1,  0,  0],\n",
       "       [ 0, -1, -1,  0, -1, -1, -1,  0, -1, -1],\n",
       "       [-1, -1, -1, -1,  0,  0,  0,  0,  0, -1],\n",
       "       [-1, -1,  0, -1,  0, -1,  0,  0, -1,  0],\n",
       "       [ 0, -1, -1, -1, -1,  0, -1,  0, -1, -1],\n",
       "       [ 0, -1, -1,  0, -1, -1, -1,  0, -1, -1],\n",
       "       [ 0, -1, -1,  0, -1,  0,  0,  0, -1,  0],\n",
       "       [-1, -1, -1, -1,  0,  0, -1, -1,  0, -1],\n",
       "       [-1, -1, -1,  0,  0,  0,  0,  0,  0,  0],\n",
       "       [ 0, -1,  0,  0,  0,  0, -1, -1,  0,  0],\n",
       "       [ 0,  0,  0,  0,  0,  0, -1,  0,  0, -1],\n",
       "       [-1,  0,  0,  0, -1,  0, -1,  0,  0,  0],\n",
       "       [ 0, -1, -1, -1, -1,  0, -1,  0,  0, -1],\n",
       "       [ 0,  0,  0, -1, -1, -1,  0, -1, -1, -1],\n",
       "       [-1,  0,  0, -1, -1, -1, -1,  0,  0,  0],\n",
       "       [ 0,  0,  0,  0, -1,  0, -1, -1,  0,  0],\n",
       "       [-1, -1,  0,  0,  0,  0, -1,  0,  0,  0],\n",
       "       [-1,  0, -1, -1, -1, -1, -1, -1,  0,  0],\n",
       "       [ 0, -1, -1, -1, -1, -1, -1,  0, -1,  0],\n",
       "       [-1, -1, -1,  0,  0, -1,  0, -1,  0,  0],\n",
       "       [ 0,  0, -1,  0,  0,  0,  0,  0, -1, -1],\n",
       "       [-1, -1,  0,  0, -1, -1, -1,  0,  0, -1],\n",
       "       [ 0, -1,  0,  0, -1, -1, -1,  0, -1,  0],\n",
       "       [ 0,  0, -1, -1, -1, -1,  0,  0, -1, -1],\n",
       "       [-1,  0,  0, -1, -1, -1, -1, -1,  0,  0],\n",
       "       [-1,  0,  0,  0,  0,  0, -1,  0,  0,  0],\n",
       "       [ 0, -1,  0,  0,  0, -1,  0,  0,  0,  0],\n",
       "       [ 0,  0,  0,  0, -1,  0, -1, -1,  0,  0],\n",
       "       [-1, -1, -1,  0, -1,  0,  0,  0, -1,  0],\n",
       "       [ 0,  0,  0, -1,  0,  0,  0, -1,  0, -1],\n",
       "       [ 0, -1,  0,  0, -1, -1, -1,  0, -1, -1],\n",
       "       [ 0,  0,  0, -1,  0, -1,  0,  0,  0,  0],\n",
       "       [-1,  0,  0, -1,  0,  0, -1, -1, -1, -1],\n",
       "       [ 0, -1, -1, -1, -1, -1, -1, -1, -1, -1],\n",
       "       [ 0,  0,  0, -1, -1,  0, -1, -1, -1, -1],\n",
       "       [ 0,  0,  0,  0,  0,  0, -1, -1,  0, -1],\n",
       "       [-1, -1,  0, -1,  0,  0, -1,  0, -1,  0],\n",
       "       [ 0,  0, -1, -1, -1,  0,  0,  0, -1, -1],\n",
       "       [ 0, -1,  0, -1, -1, -1, -1,  0,  0,  0],\n",
       "       [ 0,  0,  0,  0, -1,  0, -1,  0, -1,  0],\n",
       "       [ 0,  0, -1,  0, -1, -1,  0, -1, -1, -1],\n",
       "       [ 0, -1, -1, -1,  0,  0,  0, -1, -1,  0],\n",
       "       [-1, -1, -1, -1,  0,  0,  0, -1,  0,  0],\n",
       "       [ 0,  0, -1,  0, -1, -1,  0, -1,  0,  0],\n",
       "       [ 0, -1, -1, -1,  0, -1, -1, -1, -1,  0],\n",
       "       [ 0, -1,  0,  0,  0,  0,  0, -1,  0, -1],\n",
       "       [-1,  0, -1, -1, -1, -1, -1, -1,  0,  0],\n",
       "       [ 0,  0, -1, -1, -1,  0,  0, -1, -1,  0],\n",
       "       [-1,  0,  0,  0,  0,  0,  0,  0, -1, -1],\n",
       "       [ 0,  0, -1, -1, -1,  0,  0,  0,  0, -1],\n",
       "       [-1,  0,  0,  0, -1, -1,  0,  0, -1,  0],\n",
       "       [-1,  0,  0, -1, -1, -1,  0,  0,  0,  0],\n",
       "       [ 0, -1, -1, -1, -1,  0, -1, -1, -1, -1],\n",
       "       [-1, -1, -1,  0,  0,  0, -1,  0, -1, -1],\n",
       "       [ 0,  0, -1, -1, -1, -1, -1, -1, -1,  0],\n",
       "       [-1,  0, -1,  0, -1,  0,  0,  0, -1, -1],\n",
       "       [-1,  0, -1, -1, -1,  0,  0, -1, -1, -1],\n",
       "       [ 0,  0,  0,  0,  0, -1,  0, -1,  0, -1],\n",
       "       [ 0,  0, -1,  0, -1,  0, -1, -1,  0,  0],\n",
       "       [ 0, -1,  0, -1,  0, -1, -1,  0, -1, -1],\n",
       "       [-1, -1, -1,  0,  0, -1, -1, -1, -1,  0],\n",
       "       [ 0, -1,  0, -1, -1, -1, -1,  0,  0,  0],\n",
       "       [-1, -1, -1,  0, -1,  0,  0,  0, -1, -1],\n",
       "       [-1, -1, -1,  0,  0, -1, -1, -1, -1,  0],\n",
       "       [ 0,  0, -1, -1, -1,  0, -1, -1,  0,  0],\n",
       "       [ 0,  0,  0, -1,  0, -1, -1, -1,  0,  0],\n",
       "       [ 0, -1,  0,  0, -1, -1,  0, -1, -1,  0],\n",
       "       [-1, -1, -1, -1, -1,  0, -1, -1, -1, -1],\n",
       "       [-1,  0, -1,  0, -1, -1,  0, -1,  0,  0],\n",
       "       [-1, -1,  0, -1,  0,  0,  0, -1,  0, -1],\n",
       "       [-1,  0, -1,  0, -1,  0,  0,  0, -1,  0],\n",
       "       [ 0,  0, -1, -1,  0,  0,  0,  0,  0, -1],\n",
       "       [-1,  0, -1,  0, -1,  0, -1, -1, -1, -1],\n",
       "       [-1,  0,  0,  0, -1, -1, -1,  0, -1, -1],\n",
       "       [ 0, -1, -1,  0, -1, -1, -1,  0, -1,  0],\n",
       "       [ 0, -1, -1, -1, -1, -1,  0, -1,  0, -1],\n",
       "       [ 0, -1, -1, -1,  0, -1,  0,  0, -1,  0],\n",
       "       [ 0,  0,  0, -1,  0,  0,  0,  0,  0, -1],\n",
       "       [ 0,  0,  0, -1,  0,  0,  0,  0,  0, -1],\n",
       "       [-1, -1, -1,  0, -1,  0, -1, -1,  0, -1],\n",
       "       [ 0,  0,  0, -1,  0, -1,  0, -1,  0,  0],\n",
       "       [ 0,  0,  0,  0,  0, -1, -1,  0,  0, -1],\n",
       "       [-1,  0, -1,  0, -1, -1, -1, -1,  0, -1],\n",
       "       [ 0, -1,  0, -1, -1,  0,  0, -1, -1,  0],\n",
       "       [-1,  0, -1, -1,  0, -1, -1,  0,  0, -1],\n",
       "       [-1, -1,  0, -1, -1, -1, -1, -1, -1,  0],\n",
       "       [-1, -1,  0, -1,  0, -1, -1,  0, -1, -1],\n",
       "       [ 0,  0, -1, -1,  0,  0,  0, -1, -1, -1],\n",
       "       [-1, -1, -1, -1,  0, -1,  0,  0, -1, -1],\n",
       "       [ 0, -1, -1, -1,  0, -1, -1,  0, -1,  0],\n",
       "       [-1, -1,  0, -1,  0, -1, -1,  0, -1,  0],\n",
       "       [-1,  0,  0, -1, -1,  0,  0,  0,  0, -1],\n",
       "       [-1,  0, -1, -1, -1,  0,  0,  0,  0,  0]])"
      ]
     },
     "execution_count": 19,
     "metadata": {},
     "output_type": "execute_result"
    }
   ],
   "source": [
    "walkers=1000\n",
    "steps=200\n",
    "from numpy import random\n",
    "np.random.randint(-1,1,size=(100,10))"
   ]
  },
  {
   "cell_type": "markdown",
   "metadata": {},
   "source": [
    "9\\. Analyze a data file \n",
    "  * Download the population of hares, lynxes and carrots at the beginning of the last century.\n",
    "    ```python\n",
    "    ! wget https://www.dropbox.com/s/3vigxoqayo389uc/populations.txt\n",
    "    ```\n",
    "\n",
    "  * Check the content by looking within the file\n",
    "  * Load the data (use an appropriate numpy method) into a 2D array\n",
    "  * Create arrays out of the columns, the arrays being (in order): *year*, *hares*, *lynxes*, *carrots* \n",
    "  * Plot the 3 populations over the years\n",
    "  * Compute the main statistical properties of the dataset (mean, std, correlations, etc.)\n",
    "  * Which species has the highest population each year?\n",
    "\n",
    "Do you feel there is some evident correlation here? [Studies](https://www.enr.gov.nt.ca/en/services/lynx/lynx-snowshoe-hare-cycle) tend to believe so."
   ]
  },
  {
   "cell_type": "code",
   "execution_count": 33,
   "metadata": {},
   "outputs": [
    {
     "name": "stdout",
     "output_type": "stream",
     "text": [
      "[[ 1900. 30000.  4000. 48300.]\n",
      " [ 1901. 47200.  6100. 48200.]\n",
      " [ 1902. 70200.  9800. 41500.]\n",
      " [ 1903. 77400. 35200. 38200.]\n",
      " [ 1904. 36300. 59400. 40600.]\n",
      " [ 1905. 20600. 41700. 39800.]\n",
      " [ 1906. 18100. 19000. 38600.]\n",
      " [ 1907. 21400. 13000. 42300.]\n",
      " [ 1908. 22000.  8300. 44500.]\n",
      " [ 1909. 25400.  9100. 42100.]\n",
      " [ 1910. 27100.  7400. 46000.]\n",
      " [ 1911. 40300.  8000. 46800.]\n",
      " [ 1912. 57000. 12300. 43800.]\n",
      " [ 1913. 76600. 19500. 40900.]\n",
      " [ 1914. 52300. 45700. 39400.]\n",
      " [ 1915. 19500. 51100. 39000.]\n",
      " [ 1916. 11200. 29700. 36700.]\n",
      " [ 1917.  7600. 15800. 41800.]\n",
      " [ 1918. 14600.  9700. 43300.]\n",
      " [ 1919. 16200. 10100. 41300.]\n",
      " [ 1920. 24700.  8600. 47300.]]\n"
     ]
    },
    {
     "data": {
      "image/png": "[encoded data removed]",
      "text/plain": [
       "<Figure size 432x288 with 1 Axes>"
      ]
     },
     "metadata": {
      "needs_background": "light"
     },
     "output_type": "display_data"
    }
   ],
   "source": [
    "import numpy as np\n",
    "import matplotlib.pyplot as plt\n",
    "population=np.loadtxt('C:\\\\Users\\\\pccom\\\\populations.txt')\n",
    "years=population[:,0]\n",
    "hare=population[:,1]\n",
    "lynx=population[:,2]\n",
    "carrots=population[:,3]\n",
    "plt.plot(years,hare,label='hare')\n",
    "plt.plot(years,lynx,label='lynx')\n",
    "plt.plot(years,carrots,label='carrots')\n",
    "print(population)\n"
   ]
  },
  {
   "cell_type": "code",
   "execution_count": 38,
   "metadata": {},
   "outputs": [
    {
     "name": "stdout",
     "output_type": "stream",
     "text": [
      "Mean of the hare is:  34080.95238095238\n",
      "Mean of the lynx is:  20166.666666666668\n",
      "Mean of the carrots is:  42400.0\n",
      "std of hare:  20897.906458089667\n",
      "std of lynx:  16254.591536908763\n",
      "std of carrots:  3322.5062255844787\n",
      "[[1.         0.94670427 0.7453805  0.53293502 0.23921421 0.41895709\n",
      "  0.85283015 0.95425832 0.98051108 0.99070716 0.99590369 0.97244531\n",
      "  0.84380146 0.66804435 0.48273748 0.22820667 0.51948972 0.76705229\n",
      "  0.92150249 0.93778113 0.98615283]\n",
      " [0.94670427 1.         0.92035994 0.75318636 0.25497852 0.32466216\n",
      "  0.7268982  0.84872675 0.87731729 0.92518284 0.92808384 0.99390766\n",
      "  0.96975686 0.86859965 0.61251621 0.14170298 0.34950737 0.55218411\n",
      "  0.76071409 0.79411842 0.89353024]\n",
      " [0.7453805  0.92035994 1.         0.91513143 0.24657749 0.17178696\n",
      "  0.47353001 0.60050099 0.62656117 0.71336987 0.71256608 0.8769956\n",
      "  0.98343945 0.9878796  0.68863405 0.02532081 0.0997558  0.21500902\n",
      "  0.45744126 0.50695133 0.65319893]\n",
      " [0.53293502 0.75318636 0.91513143 1.         0.53083474 0.3557259\n",
      "  0.42049082 0.46280139 0.44086265 0.5425812  0.52243784 0.71149286\n",
      "  0.88706676 0.96607034 0.8831206  0.27116487 0.18923759 0.11175332\n",
      "  0.2840865  0.34096689 0.46753733]\n",
      " [0.23921421 0.25497852 0.24657749 0.53083474 1.         0.93142037\n",
      "  0.62525744 0.45123468 0.33327597 0.35933892 0.30958432 0.30186417\n",
      "  0.32619885 0.34765818 0.86472039 0.94873461 0.7923864  0.47042811\n",
      "  0.35896015 0.38198024 0.33094888]\n",
      " [0.41895709 0.32466216 0.17178696 0.3557259  0.93142037 1.\n",
      "  0.81667325 0.65433305 0.54872348 0.53843268 0.49609707 0.40126621\n",
      "  0.3053805  0.22797988 0.7374379  0.97961693 0.96005787 0.74673932\n",
      "  0.61755234 0.62479893 0.53747987]\n",
      " [0.85283015 0.7268982  0.47353001 0.42049082 0.62525744 0.81667325\n",
      "  1.         0.96908913 0.92917618 0.91445267 0.89652925 0.79576389\n",
      "  0.6237241  0.44484468 0.6261047  0.68599675 0.88879405 0.94787443\n",
      "  0.95275742 0.95940783 0.92239385]\n",
      " [0.95425832 0.84872675 0.60050099 0.46280139 0.45123468 0.65433305\n",
      "  0.96908913 1.         0.99119638 0.98412925 0.9773116  0.90184091\n",
      "  0.73482714 0.54433489 0.55854935 0.48974801 0.75073609 0.90886369\n",
      "  0.98127499 0.99093686 0.98915446]\n",
      " [0.98051108 0.87731729 0.62656117 0.44086265 0.33327597 0.54872348\n",
      "  0.92917618 0.99119638 1.         0.99281878 0.99282332 0.92343155\n",
      "  0.75276887 0.55390579 0.48216415 0.37052425 0.66449323 0.87788292\n",
      "  0.97877271 0.98761002 0.99939071]\n",
      " [0.99070716 0.92518284 0.71336987 0.5425812  0.35933892 0.53843268\n",
      "  0.91445267 0.98412925 0.99281878 1.         0.99860609 0.96102931\n",
      "  0.82541276 0.6494234  0.55427723 0.35830642 0.62730658 0.82632027\n",
      "  0.94941156 0.96524103 0.99617774]\n",
      " [0.99590369 0.92808384 0.71256608 0.52243784 0.30958432 0.49609707\n",
      "  0.89652925 0.9773116  0.99282332 0.99860609 1.         0.96200766\n",
      "  0.82229746 0.64166669 0.5156421  0.31159452 0.59461772 0.81563032\n",
      "  0.94724325 0.96204213 0.99635965]\n",
      " [0.97244531 0.99390766 0.8769956  0.71149286 0.30186417 0.40126621\n",
      "  0.79576389 0.90184091 0.92343155 0.96102931 0.96200766 1.\n",
      "  0.9453563  0.82291589 0.61638842 0.2174341  0.44179865 0.64059198\n",
      "  0.82610943 0.85539467 0.93624773]\n",
      " [0.84380146 0.96975686 0.98343945 0.88706676 0.32619885 0.3053805\n",
      "  0.6237241  0.73482714 0.75276887 0.82541276 0.82229746 0.9453563\n",
      "  1.         0.96293655 0.7219962  0.14577561 0.26244764 0.38830496\n",
      "  0.60758624 0.65213912 0.77488891]\n",
      " [0.66804435 0.86859965 0.9878796  0.96607034 0.34765818 0.22797988\n",
      "  0.44484468 0.54433489 0.55390579 0.6494234  0.64166669 0.82291589\n",
      "  0.96293655 1.         0.76936528 0.10350766 0.11615093 0.1604147\n",
      "  0.38365859 0.43735482 0.581545  ]\n",
      " [0.48273748 0.61251621 0.68863405 0.8831206  0.86472039 0.7374379\n",
      "  0.6261047  0.55854935 0.48216415 0.55427723 0.5156421  0.61638842\n",
      "  0.7219962  0.76936528 1.         0.68985426 0.57192507 0.36246837\n",
      "  0.40532919 0.45087276 0.4961467 ]\n",
      " [0.22820667 0.14170298 0.02532081 0.27116487 0.94873461 0.97961693\n",
      "  0.68599675 0.48974801 0.37052425 0.35830642 0.31159452 0.2174341\n",
      "  0.14577561 0.10350766 0.68985426 1.         0.91232949 0.62717739\n",
      "  0.45584218 0.46053637 0.35750227]\n",
      " [0.51948972 0.34950737 0.0997558  0.18923759 0.7923864  0.96005787\n",
      "  0.88879405 0.75073609 0.66449323 0.62730658 0.59461772 0.44179865\n",
      "  0.26244764 0.11615093 0.57192507 0.91232949 1.         0.89032248\n",
      "  0.75987696 0.75438259 0.64747183]\n",
      " [0.76705229 0.55218411 0.21500902 0.11175332 0.47042811 0.74673932\n",
      "  0.94787443 0.90886369 0.87788292 0.82632027 0.81563032 0.64059198\n",
      "  0.38830496 0.1604147  0.36246837 0.62717739 0.89032248 1.\n",
      "  0.95470585 0.94209568 0.86159236]\n",
      " [0.92150249 0.76071409 0.45744126 0.2840865  0.35896015 0.61755234\n",
      "  0.95275742 0.98127499 0.97877271 0.94941156 0.94724325 0.82610943\n",
      "  0.60758624 0.38365859 0.40532919 0.45584218 0.75987696 0.95470585\n",
      "  1.         0.99819969 0.97106303]\n",
      " [0.93778113 0.79411842 0.50695133 0.34096689 0.38198024 0.62479893\n",
      "  0.95940783 0.99093686 0.98761002 0.96524103 0.96204213 0.85539467\n",
      "  0.65213912 0.43735482 0.45087276 0.46053637 0.75438259 0.94209568\n",
      "  0.99819969 1.         0.98177657]\n",
      " [0.98615283 0.89353024 0.65319893 0.46753733 0.33094888 0.53747987\n",
      "  0.92239385 0.98915446 0.99939071 0.99617774 0.99635965 0.93624773\n",
      "  0.77488891 0.581545   0.4961467  0.35750227 0.64747183 0.86159236\n",
      "  0.97106303 0.98177657 1.        ]]\n"
     ]
    }
   ],
   "source": [
    "#statistical properties\n",
    "#mean\n",
    "print(\"Mean of the hare is: \",np.mean(hare))\n",
    "print(\"Mean of the lynx is: \",np.mean(lynx))\n",
    "print(\"Mean of the carrots is: \",np.mean(carrots))\n",
    "#std\n",
    "print(\"std of hare: \",np.std(hare))\n",
    "print(\"std of lynx: \",np.std(lynx))\n",
    "print(\"std of carrots: \",np.std(carrots))\n",
    "#correlation\n",
    "print(np.corrcoef(population))\n"
   ]
  },
  {
   "cell_type": "code",
   "execution_count": null,
   "metadata": {},
   "outputs": [],
   "source": []
  }
 ],
 "metadata": {
  "kernelspec": {
   "display_name": "Python 3",
   "language": "python",
   "name": "python3"
  },
  "language_info": {
   "codemirror_mode": {
    "name": "ipython",
    "version": 3
   },
   "file_extension": ".py",
   "mimetype": "text/x-python",
   "name": "python",
   "nbconvert_exporter": "python",
   "pygments_lexer": "ipython3",
   "version": "3.8.3"
  }
 },
 "nbformat": 4,
 "nbformat_minor": 2
}
