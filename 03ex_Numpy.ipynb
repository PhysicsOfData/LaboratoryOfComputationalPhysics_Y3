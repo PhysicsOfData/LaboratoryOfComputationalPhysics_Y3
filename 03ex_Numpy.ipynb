{
 "cells": [
  {
   "cell_type": "markdown",
   "metadata": {},
   "source": [
    "### Numpy basics"
   ]
  },
  {
   "cell_type": "markdown",
   "metadata": {},
   "source": [
    "1\\. Find the row, column and overall means for the following matrix:\n",
    "\n",
    "```python\n",
    "m = np.arange(12).reshape((3,4))\n",
    "```"
   ]
  },
  {
   "cell_type": "code",
   "execution_count": 49,
   "metadata": {},
   "outputs": [
    {
     "name": "stdout",
     "output_type": "stream",
     "text": [
      "[[ 0  1  2  3]\n",
      " [ 4  5  6  7]\n",
      " [ 8  9 10 11]] \n",
      "\n",
      "Row mean:  [1.5 5.5 9.5]\n",
      "column mean:  [4. 5. 6. 7.]\n",
      "Overall mean:  5.5\n"
     ]
    }
   ],
   "source": [
    "import numpy as np\n",
    "m = np.arange(12).reshape((3,4))\n",
    "print(m,\"\\n\")\n",
    "row = np.mean(m,1)\n",
    "print(\"Row mean: \", row)\n",
    "col = np.mean(m,0)\n",
    "print(\"column mean: \", col)\n",
    "mean = np.mean(m)\n",
    "print(\"Overall mean: \", mean)"
   ]
  },
  {
   "cell_type": "markdown",
   "metadata": {},
   "source": [
    "2\\. Find the outer product of the following two vecotrs\n",
    "\n",
    "```python\n",
    "u = np.array([1,3,5,7])\n",
    "v = np.array([2,4,6,8])\n",
    "```\n",
    "\n",
    "Do this in the following ways:\n",
    "\n",
    "   * Using the function outer in numpy\n",
    "   * Using a nested for loop or list comprehension\n",
    "   * Using numpy broadcasting operatoins\n"
   ]
  },
  {
   "cell_type": "code",
   "execution_count": 15,
   "metadata": {},
   "outputs": [
    {
     "name": "stdout",
     "output_type": "stream",
     "text": [
      "Solution with outer function:\n",
      " [[ 2  4  6  8]\n",
      " [ 6 12 18 24]\n",
      " [10 20 30 40]\n",
      " [14 28 42 56]] \n",
      "\n",
      "Solution with for loop:\n",
      " [[ 2.  4.  6.  8.]\n",
      " [ 6. 12. 18. 24.]\n",
      " [10. 20. 30. 40.]\n",
      " [14. 28. 42. 56.]] \n",
      "\n",
      "Solution with broadcasting:\n",
      " [[ 2  4  6  8]\n",
      " [ 6 12 18 24]\n",
      " [10 20 30 40]\n",
      " [14 28 42 56]] \n",
      "\n"
     ]
    }
   ],
   "source": [
    "u = np.array([1,3,5,7])\n",
    "v = np.array([2,4,6,8])\n",
    "\n",
    "#sol with outer function\n",
    "sol_1 = np.outer(u, v)\n",
    "print(\"Solution with outer function:\\n\",sol_1, \"\\n\")\n",
    "\n",
    "#sol with for loop\n",
    "sol_2 = np.eye(4)\n",
    "for i in range(len(u)):\n",
    "    for j in range(len(v)):\n",
    "        sol_2[i,j] = u[i]*v[j]\n",
    "print(\"Solution with for loop:\\n\",sol_2, \"\\n\")\n",
    "\n",
    "#sol with broadcasting\n",
    "sol_3 = u[:, np.newaxis]*v\n",
    "print(\"Solution with broadcasting:\\n\",sol_3, \"\\n\")"
   ]
  },
  {
   "cell_type": "markdown",
   "metadata": {},
   "source": [
    "3\\. Create a 10 by 6 matrix of random uniform numbers. Set all rows with any entry less than 0.1 to be zero\n",
    "\n",
    "Hint: Use the following numpy functions - np.random.random, np.any as well as Boolean indexing and the axis argument."
   ]
  },
  {
   "cell_type": "code",
   "execution_count": 16,
   "metadata": {},
   "outputs": [
    {
     "data": {
      "text/plain": [
       "array([[6.24457297e-01, 1.96617854e-01, 2.72028936e-01, 3.62139836e-01,\n",
       "        2.03845609e-01, 4.43487623e-01],\n",
       "       [6.35437526e-01, 1.84253671e-01, 3.18725597e-01, 9.63606136e-01,\n",
       "        2.36611890e-01, 7.13600488e-01],\n",
       "       [8.00163425e-04, 1.21361599e-02, 8.58136630e-01, 9.13790659e-01,\n",
       "        6.64980789e-01, 8.91965871e-01],\n",
       "       [2.53440782e-01, 4.11021553e-01, 7.19867521e-01, 1.37640426e-01,\n",
       "        9.83602966e-02, 8.14843516e-01],\n",
       "       [1.91177815e-01, 6.16009957e-02, 2.20720566e-01, 8.41107364e-01,\n",
       "        9.31060887e-02, 1.20939573e-01],\n",
       "       [7.00132967e-01, 5.22091788e-01, 1.36033234e-01, 9.57647913e-01,\n",
       "        4.63235691e-01, 1.55348965e-01],\n",
       "       [4.73311483e-01, 2.47798051e-01, 9.63657893e-01, 9.84078545e-01,\n",
       "        1.42648048e-01, 8.10611419e-01],\n",
       "       [8.16511531e-01, 4.07100735e-01, 6.17105088e-01, 5.30352918e-01,\n",
       "        2.34695941e-03, 9.97050660e-01],\n",
       "       [6.04532250e-01, 8.25850371e-01, 5.40856588e-01, 4.67814322e-01,\n",
       "        9.80265478e-01, 8.80578659e-02],\n",
       "       [2.78568130e-01, 1.36506650e-01, 4.04911718e-01, 4.76643459e-01,\n",
       "        4.03993613e-01, 8.61198367e-02]])"
      ]
     },
     "execution_count": 16,
     "metadata": {},
     "output_type": "execute_result"
    }
   ],
   "source": [
    "A = np.random.rand(10,6) \n",
    "A\n"
   ]
  },
  {
   "cell_type": "code",
   "execution_count": 17,
   "metadata": {},
   "outputs": [
    {
     "data": {
      "text/plain": [
       "array([[0.6244573 , 0.19661785, 0.27202894, 0.36213984, 0.20384561,\n",
       "        0.44348762],\n",
       "       [0.63543753, 0.18425367, 0.3187256 , 0.96360614, 0.23661189,\n",
       "        0.71360049],\n",
       "       [0.        , 0.        , 0.85813663, 0.91379066, 0.66498079,\n",
       "        0.89196587],\n",
       "       [0.25344078, 0.41102155, 0.71986752, 0.13764043, 0.        ,\n",
       "        0.81484352],\n",
       "       [0.19117781, 0.        , 0.22072057, 0.84110736, 0.        ,\n",
       "        0.12093957],\n",
       "       [0.70013297, 0.52209179, 0.13603323, 0.95764791, 0.46323569,\n",
       "        0.15534897],\n",
       "       [0.47331148, 0.24779805, 0.96365789, 0.98407854, 0.14264805,\n",
       "        0.81061142],\n",
       "       [0.81651153, 0.40710074, 0.61710509, 0.53035292, 0.        ,\n",
       "        0.99705066],\n",
       "       [0.60453225, 0.82585037, 0.54085659, 0.46781432, 0.98026548,\n",
       "        0.        ],\n",
       "       [0.27856813, 0.13650665, 0.40491172, 0.47664346, 0.40399361,\n",
       "        0.        ]])"
      ]
     },
     "execution_count": 17,
     "metadata": {},
     "output_type": "execute_result"
    }
   ],
   "source": [
    "A[A < 0.1] = 0.0\n",
    "A"
   ]
  },
  {
   "cell_type": "markdown",
   "metadata": {},
   "source": [
    "4\\. Use np.linspace to create an array of 100 numbers between 0 and 2π (includsive).\n",
    "\n",
    "  * Extract every 10th element using slice notation\n",
    "  * Reverse the array using slice notation\n",
    "  * Extract elements where the absolute difference between the sine and cosine functions evaluated at that element is less than 0.1\n",
    "  * Make a plot showing the sin and cos functions and indicate where they are close"
   ]
  },
  {
   "cell_type": "code",
   "execution_count": 18,
   "metadata": {},
   "outputs": [
    {
     "data": {
      "text/plain": [
       "<matplotlib.collections.PathCollection at 0x7fa785655990>"
      ]
     },
     "execution_count": 18,
     "metadata": {},
     "output_type": "execute_result"
    },
    {
     "data": {
      "image/png": "[encoded data removed]",
      "text/plain": [
       "<Figure size 432x288 with 1 Axes>"
      ]
     },
     "metadata": {
      "needs_background": "light"
     },
     "output_type": "display_data"
    }
   ],
   "source": [
    "import matplotlib.pyplot as plt \n",
    "%matplotlib inline \n",
    "\n",
    "x = np.linspace(0, 2 * np.pi, 100)\n",
    "\n",
    "#a\n",
    "ten = x[::10]\n",
    "\n",
    "#b\n",
    "rev_x = x[::-1]\n",
    "\n",
    "#c\n",
    "sinx =  np.sin(x)\n",
    "cosx =  np.cos(x)\n",
    "close = x[np.abs(sinx-cosx) < 0.1]\n",
    "\n",
    "#d\n",
    "plt.plot(x, cosx);\n",
    "plt.plot(x, sinx);\n",
    "plt.scatter(close, np.sin(close), color='red')"
   ]
  },
  {
   "cell_type": "markdown",
   "metadata": {},
   "source": [
    "5\\. Create a matrix that shows the 10 by 10 multiplication table.\n",
    "\n",
    " * Find the trace of the matrix\n",
    " * Extract the anto-diagonal (this should be ```array([10, 18, 24, 28, 30, 30, 28, 24, 18, 10])```)\n",
    " * Extract the diagnoal offset by 1 upwards (this should be ```array([ 2,  6, 12, 20, 30, 42, 56, 72, 90])```)"
   ]
  },
  {
   "cell_type": "code",
   "execution_count": 19,
   "metadata": {},
   "outputs": [
    {
     "name": "stdout",
     "output_type": "stream",
     "text": [
      "[[  1   2   3   4   5   6   7   8   9  10]\n",
      " [  2   4   6   8  10  12  14  16  18  20]\n",
      " [  3   6   9  12  15  18  21  24  27  30]\n",
      " [  4   8  12  16  20  24  28  32  36  40]\n",
      " [  5  10  15  20  25  30  35  40  45  50]\n",
      " [  6  12  18  24  30  36  42  48  54  60]\n",
      " [  7  14  21  28  35  42  49  56  63  70]\n",
      " [  8  16  24  32  40  48  56  64  72  80]\n",
      " [  9  18  27  36  45  54  63  72  81  90]\n",
      " [ 10  20  30  40  50  60  70  80  90 100]]\n",
      "Trace:  385\n",
      "Anti-diagonal:  [10 18 24 28 30 30 28 24 18 10]\n",
      "Diagnoal offset by 1 upwards:  [ 2  6 12 20 30 42 56 72 90]\n"
     ]
    }
   ],
   "source": [
    "def mult_table(n):\n",
    "    rng = np.arange(1, n+1)\n",
    "    return rng * rng[:, None]\n",
    "M = mult_table(10)\n",
    "print(M)\n",
    "\n",
    "\n",
    "tr = np.trace(M)\n",
    "print(\"Trace: \",tr)\n",
    "\n",
    "def anti_diagonal(arr):\n",
    "    return np.fliplr(arr).diagonal()\n",
    "\n",
    "print(\"Anti-diagonal: \",anti_diagonal(M))\n",
    "print(\"Diagnoal offset by 1 upwards: \", np.diag(M, 1))"
   ]
  },
  {
   "cell_type": "markdown",
   "metadata": {},
   "source": [
    "6\\. Use broadcasting to create a grid of distances\n",
    "\n",
    "Route 66 crosses the following cities in the US: Chicago, Springfield, Saint-Louis, Tulsa, Oklahoma City, Amarillo, Santa Fe, Albuquerque, Flagstaff, Los Angeles\n",
    "The corresponding positions in miles are: 0, 198, 303, 736, 871, 1175, 1475, 1544, 1913, 2448\n",
    "\n",
    "  * Construct a 2D grid of distances among each city along Route 66\n",
    "  * Convert that in km (those savages...)"
   ]
  },
  {
   "cell_type": "code",
   "execution_count": 20,
   "metadata": {},
   "outputs": [
    {
     "name": "stdout",
     "output_type": "stream",
     "text": [
      "Grid of distances (MILES): \n",
      " [[   0  198  303  736  871 1175 1475 1544 1913 2448]\n",
      " [ 198    0  105  538  673  977 1277 1346 1715 2250]\n",
      " [ 303  105    0  433  568  872 1172 1241 1610 2145]\n",
      " [ 736  538  433    0  135  439  739  808 1177 1712]\n",
      " [ 871  673  568  135    0  304  604  673 1042 1577]\n",
      " [1175  977  872  439  304    0  300  369  738 1273]\n",
      " [1475 1277 1172  739  604  300    0   69  438  973]\n",
      " [1544 1346 1241  808  673  369   69    0  369  904]\n",
      " [1913 1715 1610 1177 1042  738  438  369    0  535]\n",
      " [2448 2250 2145 1712 1577 1273  973  904  535    0]]\n",
      "\n",
      "\n",
      "Grid of distances (KM): \n",
      " [[   0.       318.64932  487.63002 1184.47424 1401.73514 1890.9745\n",
      "  2373.7765  2484.82096 3078.66742 3939.66432]\n",
      " [ 318.64932    0.       168.9807   865.82492 1083.08582 1572.32518\n",
      "  2055.12718 2166.17164 2760.0181  3621.015  ]\n",
      " [ 487.63002  168.9807     0.       696.84422  914.10512 1403.34448\n",
      "  1886.14648 1997.19094 2591.0374  3452.0343 ]\n",
      " [1184.47424  865.82492  696.84422    0.       217.2609   706.50026\n",
      "  1189.30226 1300.34672 1894.19318 2755.19008]\n",
      " [1401.73514 1083.08582  914.10512  217.2609     0.       489.23936\n",
      "   972.04136 1083.08582 1676.93228 2537.92918]\n",
      " [1890.9745  1572.32518 1403.34448  706.50026  489.23936    0.\n",
      "   482.802    593.84646 1187.69292 2048.68982]\n",
      " [2373.7765  2055.12718 1886.14648 1189.30226  972.04136  482.802\n",
      "     0.       111.04446  704.89092 1565.88782]\n",
      " [2484.82096 2166.17164 1997.19094 1300.34672 1083.08582  593.84646\n",
      "   111.04446    0.       593.84646 1454.84336]\n",
      " [3078.66742 2760.0181  2591.0374  1894.19318 1676.93228 1187.69292\n",
      "   704.89092  593.84646    0.       860.9969 ]\n",
      " [3939.66432 3621.015   3452.0343  2755.19008 2537.92918 2048.68982\n",
      "  1565.88782 1454.84336  860.9969     0.     ]]\n"
     ]
    }
   ],
   "source": [
    "positions = np.array([0, 198, 303, 736, 871, 1175, 1475, 1544, 1913, 2448])\n",
    "distances = abs(positions [:, np.newaxis] - positions)\n",
    "print(\"Grid of distances (MILES): \\n\",distances)\n",
    "print(\"\\n\")\n",
    "distances = distances*1.60934\n",
    "print(\"Grid of distances (KM): \\n\", distances)"
   ]
  },
  {
   "cell_type": "markdown",
   "metadata": {},
   "source": [
    "7\\. Prime numbers sieve: compute the prime numbers in the 0-N (N=99 to start with) range with a sieve (mask).\n",
    "  * Constract a shape (100,) boolean array, the mask\n",
    "  * Identify the multiples of each number starting from 2 and set accordingly the corresponding mask element\n",
    "  * Apply the mask to obtain an array of ordered prime numbers\n",
    "  * Check the performances (timeit); how does it scale with N?\n",
    "  * Implement the optimization suggested in the [sieve of Eratosthenes](https://en.wikipedia.org/wiki/Sieve_of_Eratosthenes)"
   ]
  },
  {
   "cell_type": "code",
   "execution_count": 47,
   "metadata": {},
   "outputs": [
    {
     "name": "stdout",
     "output_type": "stream",
     "text": [
      "[ 2  3  5  7 11 13 17 19 23 29 31 37 41 43 47 53 59 61 67 71 73 79 83 89\n",
      " 97]\n",
      "[ 2  3  5  7 11 13 17 19 23 29 31 37 41 43 47 53 59 61 67 71 73 79 83 89\n",
      " 97]\n",
      "2.65 µs ± 60.7 ns per loop (mean ± std. dev. of 7 runs, 100000 loops each)\n",
      "23.8 µs ± 205 ns per loop (mean ± std. dev. of 7 runs, 10000 loops each)\n"
     ]
    }
   ],
   "source": [
    "def sieve(N):\n",
    "    num = np.arange(0,N+1)\n",
    "    mask = np.full(N+1, False, dtype=bool)\n",
    "\n",
    "    def is_prime(num):\n",
    "        if num == 2:\n",
    "            return True   \n",
    "        for n in range(2, num-1):\n",
    "            if num % n == 0:\n",
    "                return False\n",
    "        return True\n",
    "prime = [i for i in range(len(num)) if is_prime(i) == True]\n",
    "\n",
    "\n",
    "for j in range(2,len(index)):\n",
    "    for i in range(2,100):\n",
    "        if index[j] == num[i]:\n",
    "            mask[i]=True\n",
    "\n",
    "print(num[mask])\n",
    "\n",
    "def Eratosthenes_sieve(n):\n",
    "    A = np.ones(n, dtype=bool)\n",
    "    A[0] = A[1] = False\n",
    "    for i in range(2, n):\n",
    "        if A[i]:\n",
    "            A[i*i::i] = False\n",
    "    return np.flatnonzero(A)\n",
    "print(Eratosthenes_sieve(99))        \n",
    "\n",
    "%timeit sieve(99)\n",
    "%timeit Eratosthenes_sieve(99)"
   ]
  },
  {
   "cell_type": "code",
   "execution_count": null,
   "metadata": {},
   "outputs": [],
   "source": []
  },
  {
   "cell_type": "code",
   "execution_count": null,
   "metadata": {},
   "outputs": [],
   "source": []
  },
  {
   "cell_type": "markdown",
   "metadata": {},
   "source": [
    "8\\. Diffusion using random walk\n",
    "\n",
    "Consider a simple random walk process: at each step in time, a walker jumps right or left (+1 or -1) with equal probability. The goal is to find the typical distance from the origin of a random walker after a given amount of time. \n",
    "To do that, let's simulate many walkers and create a 2D array with each walker as a raw and the actual time evolution as columns\n",
    "\n",
    "  * Take 1000 walkers and let them walk for 200 steps\n",
    "  * Use randint to create a 2D array of size walkers x steps with values -1 or 1\n",
    "  * Build the actual walking distances for each walker (i.e. another 2D array \"summing on each raw\")\n",
    "  * Take the square of that 2D array (elementwise)\n",
    "  * Compute the mean of the squared distances at each step (i.e. the mean along the columns)\n",
    "  * Plot the average distances (sqrt(distance\\*\\*2)) as a function of time (step)\n",
    "  \n",
    "Did you get what you expected?"
   ]
  },
  {
   "cell_type": "code",
   "execution_count": 22,
   "metadata": {},
   "outputs": [
    {
     "name": "stdout",
     "output_type": "stream",
     "text": [
      "[[ 1 -1 -1 ...  1  1 -1]\n",
      " [-1 -1  1 ... -1  1  1]\n",
      " [ 1 -1  1 ... -1 -1 -1]\n",
      " ...\n",
      " [ 1  1 -1 ...  1  1  1]\n",
      " [-1  1 -1 ...  1  1 -1]\n",
      " [-1 -1 -1 ... -1 -1  1]]\n",
      "\n"
     ]
    },
    {
     "data": {
      "image/png": "[encoded data removed]",
      "text/plain": [
       "<Figure size 432x288 with 1 Axes>"
      ]
     },
     "metadata": {
      "needs_background": "light"
     },
     "output_type": "display_data"
    }
   ],
   "source": [
    "from math import sqrt\n",
    "\n",
    "n_w = 1000\n",
    "steps = 200\n",
    "\n",
    "M = np.random.randint(-1, 1, size = (n_w, steps))\n",
    "M[M == 0] = 1\n",
    "print(M)\n",
    "\n",
    "w_dist = np.cumsum(M, axis = 1)\n",
    "dist = w_dist**2\n",
    "mean_dist = np.mean(dist, axis = 0)\n",
    "\n",
    "plt.plot(np.arange(steps),np.sqrt(mean_dist))\n",
    "print('')"
   ]
  },
  {
   "cell_type": "markdown",
   "metadata": {},
   "source": [
    "9\\. Analyze a data file \n",
    "  * Download the population of hares, lynxes and carrots at the beginning of the last century.\n",
    "    ```python\n",
    "    ! wget https://www.dropbox.com/s/3vigxoqayo389uc/populations.txt\n",
    "    ```\n",
    "\n",
    "  * Check the content by looking within the file\n",
    "  * Load the data (use an appropriate numpy method) into a 2D array\n",
    "  * Create arrays out of the columns, the arrays being (in order): *year*, *hares*, *lynxes*, *carrots* \n",
    "  * Plot the 3 populations over the years\n",
    "  * Compute the main statistical properties of the dataset (mean, std, correlations, etc.)\n",
    "  * Which species has the highest population each year?\n",
    "\n",
    "Do you feel there is some evident correlation here? [Studies](https://www.enr.gov.nt.ca/en/services/lynx/lynx-snowshoe-hare-cycle) tend to believe so."
   ]
  },
  {
   "cell_type": "code",
   "execution_count": 23,
   "metadata": {},
   "outputs": [
    {
     "name": "stdout",
     "output_type": "stream",
     "text": [
      "HARE\n",
      " Mean:  34080.95238095238 \n",
      " Std:  20897.906458089667 \n",
      "\n",
      "LYNX\n",
      " Mean:  20166.666666666668 \n",
      " Std:  16254.591536908763 \n",
      "\n",
      "CARROT\n",
      " Mean:  42400.0 \n",
      " Std:  3322.5062255844787 \n",
      "\n",
      "CORRELATION FACTOR \n",
      "\n",
      "Hare/Lynx:\n",
      "  0.07189206073535571 \n",
      "\n",
      "Hare/Carrot:\n",
      "  -0.016603777709879402 \n",
      "\n",
      "Lynx/Carrot:\n",
      "  -0.6805771698401617 \n",
      "\n"
     ]
    },
    {
     "data": {
      "image/png": "[encoded data removed]",
      "text/plain": [
       "<Figure size 432x288 with 1 Axes>"
      ]
     },
     "metadata": {
      "needs_background": "light"
     },
     "output_type": "display_data"
    }
   ],
   "source": [
    "data = np.genfromtxt(\"populations.txt\")\n",
    "\n",
    "year = np.zeros(len(data))\n",
    "hare = np.zeros(len(data))\n",
    "lynx = np.zeros(len(data))\n",
    "carrot = np.zeros(len(data))\n",
    "\n",
    "for i in range(0,len(data),1):\n",
    "    year[i] = data[i][0]\n",
    "    hare[i] = data[i][1]\n",
    "    lynx[i] = data[i][2]\n",
    "    carrot[i] = data[i][3]\n",
    "\n",
    "plt.plot(year, hare, label='hare');\n",
    "plt.plot(year, lynx, label='linx');\n",
    "plt.plot(year, carrot, label='carrot');\n",
    "plt.legend()\n",
    "\n",
    "names=[\"hare\", \"lynx\", \"carrot\"]\n",
    "\n",
    "def mean(vec):\n",
    "    m = np.mean(vec, dtype=np.float64)\n",
    "    return m\n",
    "def std(vec):\n",
    "    std = np.std(vec, dtype=np.float64)\n",
    "    return std\n",
    "def correlation(a,b):\n",
    "    cor = np.corrcoef(a,b)[0,1]\n",
    "    return cor\n",
    "\n",
    "print(\"HARE\\n\",\"Mean: \",mean(hare),\"\\n\", \"Std: \", std(hare),\"\\n\")\n",
    "print(\"LYNX\\n\",\"Mean: \",mean(lynx),\"\\n\", \"Std: \", std(lynx),\"\\n\")\n",
    "print(\"CARROT\\n\",\"Mean: \",mean(carrot),\"\\n\", \"Std: \", std(carrot),\"\\n\")\n",
    "print(\"CORRELATION FACTOR \\n\")\n",
    "print(\"Hare/Lynx:\\n \", correlation(hare, lynx),\"\\n\")\n",
    "print(\"Hare/Carrot:\\n \", correlation(hare, carrot),\"\\n\")\n",
    "print(\"Lynx/Carrot:\\n \", correlation(lynx, carrot),\"\\n\")\n",
    "\n"
   ]
  },
  {
   "cell_type": "code",
   "execution_count": null,
   "metadata": {},
   "outputs": [],
   "source": []
  }
 ],
 "metadata": {
  "kernelspec": {
   "display_name": "Python 3",
   "language": "python",
   "name": "python3"
  },
  "language_info": {
   "codemirror_mode": {
    "name": "ipython",
    "version": 3
   },
   "file_extension": ".py",
   "mimetype": "text/x-python",
   "name": "python",
   "nbconvert_exporter": "python",
   "pygments_lexer": "ipython3",
   "version": "3.7.4"
  }
 },
 "nbformat": 4,
 "nbformat_minor": 2
}
