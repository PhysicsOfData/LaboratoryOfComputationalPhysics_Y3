{
 "cells": [
  {
   "cell_type": "markdown",
   "metadata": {},
   "source": [
    "### Numpy basics"
   ]
  },
  {
   "cell_type": "code",
   "execution_count": 1,
   "metadata": {},
   "outputs": [],
   "source": [
    "import numpy as np"
   ]
  },
  {
   "cell_type": "markdown",
   "metadata": {},
   "source": [
    "1\\. Find the row, column and overall means for the following matrix:\n",
    "\n",
    "```python\n",
    "m = np.arange(12).reshape((3,4))\n",
    "```"
   ]
  },
  {
   "cell_type": "code",
   "execution_count": 2,
   "metadata": {},
   "outputs": [
    {
     "name": "stdout",
     "output_type": "stream",
     "text": [
      "[[ 0  1  2  3]\n",
      " [ 4  5  6  7]\n",
      " [ 8  9 10 11]]\n",
      "The means over the columns are [4. 5. 6. 7.]\n",
      "The means over the rows are [1.5 5.5 9.5]\n",
      "The overall mean is 5.5\n"
     ]
    }
   ],
   "source": [
    "m = np.arange(12).reshape((3,4))\n",
    "\n",
    "print(m)\n",
    "\n",
    "print('The means over the columns are', m.mean(0))\n",
    "print('The means over the rows are', m.mean(1))\n",
    "print('The overall mean is', m.mean())"
   ]
  },
  {
   "cell_type": "markdown",
   "metadata": {},
   "source": [
    "2\\. Find the outer product of the following two vecotrs\n",
    "\n",
    "```python\n",
    "u = np.array([1,3,5,7])\n",
    "v = np.array([2,4,6,8])\n",
    "```\n",
    "\n",
    "Do this in the following ways:\n",
    "\n",
    "   * Using the function outer in numpy\n",
    "   * Using a nested for loop or list comprehension\n",
    "   * Using numpy broadcasting operatoins\n"
   ]
  },
  {
   "cell_type": "code",
   "execution_count": 3,
   "metadata": {},
   "outputs": [
    {
     "name": "stdout",
     "output_type": "stream",
     "text": [
      "The outer product using numpy is\n",
      "[[ 2  4  6  8]\n",
      " [ 6 12 18 24]\n",
      " [10 20 30 40]\n",
      " [14 28 42 56]]\n",
      "\n",
      "The outer product using list comprehension is\n",
      "[[ 2  4  6  8]\n",
      " [ 6 12 18 24]\n",
      " [10 20 30 40]\n",
      " [14 28 42 56]]\n",
      "\n",
      "The outer product using numpy broadcasting is\n",
      "[[ 2  4  6  8]\n",
      " [ 6 12 18 24]\n",
      " [10 20 30 40]\n",
      " [14 28 42 56]]\n"
     ]
    }
   ],
   "source": [
    "u = np.array([1,3,5,7])\n",
    "v = np.array([2,4,6,8])\n",
    "\n",
    "print('The outer product using numpy is')\n",
    "print(np.outer(u,v))\n",
    "\n",
    "print('\\nThe outer product using list comprehension is')\n",
    "m = np.array([x*y for x in u for y in v]).reshape(4,-1)\n",
    "print(m)\n",
    "\n",
    "print('\\nThe outer product using numpy broadcasting is')\n",
    "t = (np.tile(u, (4,1)).T)*v\n",
    "print(t)"
   ]
  },
  {
   "cell_type": "markdown",
   "metadata": {},
   "source": [
    "3\\. Create a 10 by 6 matrix of random uniform numbers. Set all rows with any entry less than 0.1 to be zero\n",
    "\n",
    "Hint: Use the following numpy functions - np.random.random, np.any as well as Boolean indexing and the axis argument."
   ]
  },
  {
   "cell_type": "code",
   "execution_count": 4,
   "metadata": {},
   "outputs": [
    {
     "name": "stdout",
     "output_type": "stream",
     "text": [
      "The original matrix is\n",
      "[[0.98272029 0.02476105 0.24181869 0.83936923 0.71711685 0.53995278]\n",
      " [0.70732282 0.35384014 0.79049274 0.73869019 0.14431088 0.34465462]\n",
      " [0.62630077 0.54437268 0.14451978 0.02365656 0.73622783 0.03762721]\n",
      " [0.8985057  0.73355381 0.14479024 0.92022582 0.52295857 0.43612857]\n",
      " [0.73646812 0.81718799 0.27522095 0.29983693 0.2506528  0.37687058]\n",
      " [0.42452824 0.18998108 0.46231385 0.78673116 0.62220035 0.89450441]\n",
      " [0.72430644 0.35960251 0.95216496 0.81114557 0.19523334 0.84233919]\n",
      " [0.95511737 0.71748069 0.02930158 0.25487292 0.50261888 0.3394186 ]\n",
      " [0.88093997 0.03621996 0.79272649 0.89090072 0.59266379 0.89189909]\n",
      " [0.46396759 0.27242925 0.75943004 0.81311927 0.94110686 0.21152084]]\n",
      "\n",
      "The modified matrix is\n",
      "[[0.         0.         0.         0.         0.         0.        ]\n",
      " [0.70732282 0.35384014 0.79049274 0.73869019 0.14431088 0.34465462]\n",
      " [0.         0.         0.         0.         0.         0.        ]\n",
      " [0.8985057  0.73355381 0.14479024 0.92022582 0.52295857 0.43612857]\n",
      " [0.73646812 0.81718799 0.27522095 0.29983693 0.2506528  0.37687058]\n",
      " [0.42452824 0.18998108 0.46231385 0.78673116 0.62220035 0.89450441]\n",
      " [0.72430644 0.35960251 0.95216496 0.81114557 0.19523334 0.84233919]\n",
      " [0.         0.         0.         0.         0.         0.        ]\n",
      " [0.         0.         0.         0.         0.         0.        ]\n",
      " [0.46396759 0.27242925 0.75943004 0.81311927 0.94110686 0.21152084]]\n"
     ]
    }
   ],
   "source": [
    "m = np.random.random((10, 6))\n",
    "print('The original matrix is')\n",
    "print(m)\n",
    "\n",
    "mask = np.any(m<0.1,axis=1)\n",
    "m[mask] = 0\n",
    "print('\\nThe modified matrix is')\n",
    "print(m)"
   ]
  },
  {
   "cell_type": "markdown",
   "metadata": {},
   "source": [
    "4\\. Use np.linspace to create an array of 100 numbers between 0 and 2π (includsive).\n",
    "\n",
    "  * Extract every 10th element using slice notation\n",
    "  * Reverse the array using slice notation\n",
    "  * Extract elements where the absolute difference between the sine and cosine functions evaluated at that element is less than 0.1\n",
    "  * Make a plot showing the sin and cos functions and indicate where they are close"
   ]
  },
  {
   "cell_type": "code",
   "execution_count": 5,
   "metadata": {},
   "outputs": [
    {
     "name": "stdout",
     "output_type": "stream",
     "text": [
      "The linear space is\n",
      "[0.      0.06347 0.12693 0.1904  0.25387 0.31733 0.3808  0.44427 0.50773\n",
      " 0.5712  0.63467 0.69813 0.7616  0.82506 0.88853 0.952   1.01546 1.07893\n",
      " 1.1424  1.20586 1.26933 1.3328  1.39626 1.45973 1.5232  1.58666 1.65013\n",
      " 1.7136  1.77706 1.84053 1.904   1.96746 2.03093 2.0944  2.15786 2.22133\n",
      " 2.28479 2.34826 2.41173 2.47519 2.53866 2.60213 2.66559 2.72906 2.79253\n",
      " 2.85599 2.91946 2.98293 3.04639 3.10986 3.17333 3.23679 3.30026 3.36373\n",
      " 3.42719 3.49066 3.55413 3.61759 3.68106 3.74452 3.80799 3.87146 3.93492\n",
      " 3.99839 4.06186 4.12532 4.18879 4.25226 4.31572 4.37919 4.44266 4.50612\n",
      " 4.56959 4.63306 4.69652 4.75999 4.82346 4.88692 4.95039 5.01385 5.07732\n",
      " 5.14079 5.20425 5.26772 5.33119 5.39465 5.45812 5.52159 5.58505 5.64852\n",
      " 5.71199 5.77545 5.83892 5.90239 5.96585 6.02932 6.09279 6.15625 6.21972\n",
      " 6.28319]\n",
      "\n",
      "The extracted 10th elements\n",
      "[0.63467 1.26933 1.904   2.53866 3.17333 3.80799 4.44266 5.07732 5.71199]\n",
      "\n",
      "The reverse array is\n",
      "[6.28319 6.21972 6.15625 6.09279 6.02932 5.96585 5.90239 5.83892 5.77545\n",
      " 5.71199 5.64852 5.58505 5.52159 5.45812 5.39465 5.33119 5.26772 5.20425\n",
      " 5.14079 5.07732 5.01385 4.95039 4.88692 4.82346 4.75999 4.69652 4.63306\n",
      " 4.56959 4.50612 4.44266 4.37919 4.31572 4.25226 4.18879 4.12532 4.06186\n",
      " 3.99839 3.93492 3.87146 3.80799 3.74452 3.68106 3.61759 3.55413 3.49066\n",
      " 3.42719 3.36373 3.30026 3.23679 3.17333 3.10986 3.04639 2.98293 2.91946\n",
      " 2.85599 2.79253 2.72906 2.66559 2.60213 2.53866 2.47519 2.41173 2.34826\n",
      " 2.28479 2.22133 2.15786 2.0944  2.03093 1.96746 1.904   1.84053 1.77706\n",
      " 1.7136  1.65013 1.58666 1.5232  1.45973 1.39626 1.3328  1.26933 1.20586\n",
      " 1.1424  1.07893 1.01546 0.952   0.88853 0.82506 0.7616  0.69813 0.63467\n",
      " 0.5712  0.50773 0.44427 0.3808  0.31733 0.25387 0.1904  0.12693 0.06347\n",
      " 0.     ]\n",
      "\n",
      "The extracted elements following the formula are\n",
      "[0.7616  0.82506 3.87146 3.93492]\n"
     ]
    }
   ],
   "source": [
    "N = 100\n",
    "spc = np.linspace(0, 2*np.pi, N)\n",
    "\n",
    "np.set_printoptions(precision=5)\n",
    "\n",
    "print('The linear space is')\n",
    "print(spc)\n",
    "print('\\nThe extracted 10th elements')\n",
    "print(spc[np.arange(10, N, 10)])\n",
    "print('\\nThe reverse array is')\n",
    "print(spc[::-1])\n",
    "\n",
    "def diff_sin_cos(x):\n",
    "    evaluate = np.abs(np.sin(x)-np.cos(x))\n",
    "    return evaluate < 0.1\n",
    "\n",
    "print('\\nThe extracted elements following the formula are')\n",
    "bool_vet = list(map(diff_sin_cos, spc))\n",
    "indexes = np.argwhere(bool_vet)\n",
    "print(spc[bool_vet])"
   ]
  },
  {
   "cell_type": "code",
   "execution_count": 6,
   "metadata": {},
   "outputs": [
    {
     "data": {
      "image/png": "[encoded data removed]",
      "text/plain": [
       "<Figure size 432x288 with 1 Axes>"
      ]
     },
     "metadata": {
      "needs_background": "light"
     },
     "output_type": "display_data"
    }
   ],
   "source": [
    "import matplotlib.pyplot as plt\n",
    "\n",
    "s = np.sin(spc)\n",
    "c = np.cos(spc)\n",
    "plt.plot(spc, s)\n",
    "plt.plot(spc, c)\n",
    "plt.plot(spc[indexes], s[indexes], 'o')\n",
    "plt.plot(spc[indexes], c[indexes], 'x')\n",
    "plt.legend(['Sin','Cos','Sin extracted points','Cos extracted points'])\n",
    "plt.show()"
   ]
  },
  {
   "cell_type": "markdown",
   "metadata": {},
   "source": [
    "5\\. Create a matrix that shows the 10 by 10 multiplication table.\n",
    "\n",
    " * Find the trace of the matrix\n",
    " * Extract the anto-diagonal (this should be ```array([10, 18, 24, 28, 30, 30, 28, 24, 18, 10])```)\n",
    " * Extract the diagnoal offset by 1 upwards (this should be ```array([ 2,  6, 12, 20, 30, 42, 56, 72, 90])```)"
   ]
  },
  {
   "cell_type": "code",
   "execution_count": 7,
   "metadata": {},
   "outputs": [
    {
     "name": "stdout",
     "output_type": "stream",
     "text": [
      "[[  1   2   3   4   5   6   7   8   9  10]\n",
      " [  2   4   6   8  10  12  14  16  18  20]\n",
      " [  3   6   9  12  15  18  21  24  27  30]\n",
      " [  4   8  12  16  20  24  28  32  36  40]\n",
      " [  5  10  15  20  25  30  35  40  45  50]\n",
      " [  6  12  18  24  30  36  42  48  54  60]\n",
      " [  7  14  21  28  35  42  49  56  63  70]\n",
      " [  8  16  24  32  40  48  56  64  72  80]\n",
      " [  9  18  27  36  45  54  63  72  81  90]\n",
      " [ 10  20  30  40  50  60  70  80  90 100]]\n",
      "\n",
      "The anto-diagonal is\n",
      "[10 18 24 28 30 30 28 24 18 10]\n",
      "\n",
      "The diagnoal offset by 1 upwards is\n",
      "[ 2  6 12 20 30 42 56 72 90]\n"
     ]
    }
   ],
   "source": [
    "m = np.arange(1,11)\n",
    "matrix = np.outer(m, m)\n",
    "print(matrix)\n",
    "\n",
    "antodiag = np.fliplr(matrix).diagonal()\n",
    "print('\\nThe anto-diagonal is')\n",
    "print(antodiag)\n",
    "\n",
    "mod_mat = matrix[:-1, 1:]\n",
    "print('\\nThe diagnoal offset by 1 upwards is')\n",
    "print(mod_mat.diagonal())"
   ]
  },
  {
   "cell_type": "markdown",
   "metadata": {},
   "source": [
    "6\\. Use broadcasting to create a grid of distances\n",
    "\n",
    "Route 66 crosses the following cities in the US: Chicago, Springfield, Saint-Louis, Tulsa, Oklahoma City, Amarillo, Santa Fe, Albuquerque, Flagstaff, Los Angeles\n",
    "The corresponding positions in miles are: 0, 198, 303, 736, 871, 1175, 1475, 1544, 1913, 2448\n",
    "\n",
    "  * Construct a 2D grid of distances among each city along Route 66\n",
    "  * Convert that in km (those savages...)"
   ]
  },
  {
   "cell_type": "code",
   "execution_count": 8,
   "metadata": {},
   "outputs": [
    {
     "name": "stdout",
     "output_type": "stream",
     "text": [
      "[[   0  198  303  736  871 1175 1475 1544 1913 2448]\n",
      " [ 198    0  105  538  673  977 1277 1346 1715 2250]\n",
      " [ 303  105    0  433  568  872 1172 1241 1610 2145]\n",
      " [ 736  538  433    0  135  439  739  808 1177 1712]\n",
      " [ 871  673  568  135    0  304  604  673 1042 1577]\n",
      " [1175  977  872  439  304    0  300  369  738 1273]\n",
      " [1475 1277 1172  739  604  300    0   69  438  973]\n",
      " [1544 1346 1241  808  673  369   69    0  369  904]\n",
      " [1913 1715 1610 1177 1042  738  438  369    0  535]\n",
      " [2448 2250 2145 1712 1577 1273  973  904  535    0]]\n",
      "\n",
      "The conversion grid is [in km]\n",
      "[[   0.    318.65  487.63 1184.48 1401.74 1890.98 2373.78 2484.83 3078.68\n",
      "  3939.67]\n",
      " [ 318.65    0.    168.98  865.83 1083.09 1572.33 2055.13 2166.18 2760.02\n",
      "  3621.02]\n",
      " [ 487.63  168.98    0.    696.85  914.11 1403.35 1886.15 1997.2  2591.04\n",
      "  3452.04]\n",
      " [1184.48  865.83  696.85    0.    217.26  706.5  1189.31 1300.35 1894.2\n",
      "  2755.2 ]\n",
      " [1401.74 1083.09  914.11  217.26    0.    489.24  972.04 1083.09 1676.94\n",
      "  2537.94]\n",
      " [1890.98 1572.33 1403.35  706.5   489.24    0.    482.8   593.85 1187.7\n",
      "  2048.69]\n",
      " [2373.78 2055.13 1886.15 1189.31  972.04  482.8     0.    111.04  704.89\n",
      "  1565.89]\n",
      " [2484.83 2166.18 1997.2  1300.35 1083.09  593.85  111.04    0.    593.85\n",
      "  1454.85]\n",
      " [3078.68 2760.02 2591.04 1894.2  1676.94 1187.7   704.89  593.85    0.\n",
      "   861.  ]\n",
      " [3939.67 3621.02 3452.04 2755.2  2537.94 2048.69 1565.89 1454.85  861.\n",
      "     0.  ]]\n"
     ]
    }
   ],
   "source": [
    "route66 = np.array([0, 198, 303, 736, 871, 1175, 1475, 1544, 1913, 2448])\n",
    "miles = np.abs((np.tile(route66, (len(route66),1)).T)-route66)\n",
    "print(miles)\n",
    "\n",
    "conversion_factor = 0.62137119\n",
    "km = miles / conversion_factor\n",
    "print('\\nThe conversion grid is [in km]')\n",
    "np.set_printoptions(precision=2)\n",
    "print(km)"
   ]
  },
  {
   "cell_type": "markdown",
   "metadata": {},
   "source": [
    "7\\. Prime numbers sieve: compute the prime numbers in the 0-N (N=99 to start with) range with a sieve (mask).\n",
    "  * Constract a shape (100,) boolean array, the mask\n",
    "  * Identify the multiples of each number starting from 2 and set accordingly the corresponding mask element\n",
    "  * Apply the mask to obtain an array of ordered prime numbers\n",
    "  * Check the performances (timeit); how does it scale with N?\n",
    "  * Implement the optimization suggested in the [sieve of Eratosthenes](https://en.wikipedia.org/wiki/Sieve_of_Eratosthenes)"
   ]
  },
  {
   "cell_type": "code",
   "execution_count": 9,
   "metadata": {},
   "outputs": [
    {
     "name": "stdout",
     "output_type": "stream",
     "text": [
      "[ 2  3  5  7 11 13 17 19 23 29 31 37 41 43 47 53 59 61 67 71 73 79 83 89\n",
      " 97]\n",
      "[ 2  3  5  7 11 13 17 19 23 29 31 37 41 43 47 53 59 61 67 71 73 79 83 89\n",
      " 97]\n",
      "367 µs ± 11.4 µs per loop (mean ± std. dev. of 7 runs, 10 loops each)\n",
      "288 µs ± 12.8 µs per loop (mean ± std. dev. of 7 runs, 10 loops each)\n",
      "7.79 ms ± 215 µs per loop (mean ± std. dev. of 7 runs, 10 loops each)\n",
      "1.67 ms ± 59.9 µs per loop (mean ± std. dev. of 7 runs, 10 loops each)\n",
      "350 ms ± 3.79 ms per loop (mean ± std. dev. of 7 runs, 10 loops each)\n",
      "13.5 ms ± 195 µs per loop (mean ± std. dev. of 7 runs, 10 loops each)\n"
     ]
    }
   ],
   "source": [
    "import math\n",
    "N = 100\n",
    "            \n",
    "    \n",
    "def prime_num_mask(N):\n",
    "    mat = np.ones((N-1,), dtype=bool)\n",
    "    r = np.arange(1,N)\n",
    "    for i in range(2,math.ceil(N/2)):\n",
    "        mat[(r % i == 0) & (r > i)] = False\n",
    "    return r[mat][1:]\n",
    "\n",
    "\n",
    "def prime_num_mask_eratosthenes(N):\n",
    "    mat = np.ones((N-2,), dtype=bool)\n",
    "    r = np.arange(2,N)\n",
    "    for i in r[:round(N/2)-1]:\n",
    "        if(mat[i-2]):\n",
    "            idx = np.array([x for x in range(2*i, N, i)])\n",
    "            mat[idx-2] = False\n",
    "    return r[mat]\n",
    "\n",
    "\n",
    "print(prime_num_mask(N))\n",
    "print(prime_num_mask_eratosthenes(N))\n",
    "\n",
    "\n",
    "%timeit -n 10 prime_num_mask(N)\n",
    "%timeit -n 10 prime_num_mask_eratosthenes(N)\n",
    "%timeit -n 10 prime_num_mask(N*10)\n",
    "%timeit -n 10 prime_num_mask_eratosthenes(N*10)\n",
    "%timeit -n 10 prime_num_mask(N*100)\n",
    "%timeit -n 10 prime_num_mask_eratosthenes(N*100)"
   ]
  },
  {
   "cell_type": "markdown",
   "metadata": {},
   "source": [
    "8\\. Diffusion using random walk\n",
    "\n",
    "Consider a simple random walk process: at each step in time, a walker jumps right or left (+1 or -1) with equal probability. The goal is to find the typical distance from the origin of a random walker after a given amount of time. \n",
    "To do that, let's simulate many walkers and create a 2D array with each walker as a raw and the actual time evolution as columns\n",
    "\n",
    "  * Take 1000 walkers and let them walk for 200 steps\n",
    "  * Use randint to create a 2D array of size walkers x steps with values -1 or 1\n",
    "  * Build the actual walking distances for each walker (i.e. another 2D array \"summing on each raw\")\n",
    "  * Take the square of that 2D array (elementwise)\n",
    "  * Compute the mean of the squared distances at each step (i.e. the mean along the columns)\n",
    "  * Plot the average distances (sqrt(distance\\*\\*2)) as a function of time (step)\n",
    "  \n",
    "Did you get what you expected?\n",
    "\n",
    "Yes, as we can see from the plot, and according to the theory, the progress follow the progress of the square root"
   ]
  },
  {
   "cell_type": "code",
   "execution_count": 10,
   "metadata": {},
   "outputs": [
    {
     "data": {
      "text/plain": [
       "[<matplotlib.lines.Line2D at 0x170fb2d05b0>]"
      ]
     },
     "execution_count": 10,
     "metadata": {},
     "output_type": "execute_result"
    },
    {
     "data": {
      "image/png": "[encoded data removed]",
      "text/plain": [
       "<Figure size 432x288 with 1 Axes>"
      ]
     },
     "metadata": {
      "needs_background": "light"
     },
     "output_type": "display_data"
    }
   ],
   "source": [
    "import matplotlib.pyplot as plt\n",
    "\n",
    "steps = 200\n",
    "walkers = 1000\n",
    "def walker():\n",
    "    return np.random.randint(2, size=steps)*2-1\n",
    "\n",
    "wgrid = walker()\n",
    "\n",
    "for i in range(1, walkers):\n",
    "    wgrid = np.concatenate((wgrid,walker()))\n",
    "    \n",
    "wgrid = wgrid.reshape(walkers,-1)\n",
    "\n",
    "walking_dist = np.sum(wgrid, axis=1)\n",
    "sum_each_step = np.cumsum(wgrid, axis=1)\n",
    "mean_sq_dist = np.mean(sum_each_step**2, axis=0)\n",
    "\n",
    "plt.plot(mean_sq_dist**0.5)"
   ]
  },
  {
   "cell_type": "markdown",
   "metadata": {},
   "source": [
    "9\\. Analyze a data file \n",
    "  * Download the population of hares, lynxes and carrots at the beginning of the last century.\n",
    "    ```python\n",
    "    ! wget https://www.dropbox.com/s/3vigxoqayo389uc/populations.txt\n",
    "    ```\n",
    "\n",
    "  * Check the content by looking within the file\n",
    "  * Load the data (use an appropriate numpy method) into a 2D array\n",
    "  * Create arrays out of the columns, the arrays being (in order): *year*, *hares*, *lynxes*, *carrots* \n",
    "  * Plot the 3 populations over the years\n",
    "  * Compute the main statistical properties of the dataset (mean, std, correlations, etc.)\n",
    "  * Which species has the highest population each year?\n",
    "\n",
    "Do you feel there is some evident correlation here? [Studies](https://www.enr.gov.nt.ca/en/services/lynx/lynx-snowshoe-hare-cycle) tend to believe so.\n",
    "\n",
    "Yes, there is an evident correlation between lynxes and carrots."
   ]
  },
  {
   "cell_type": "code",
   "execution_count": 11,
   "metadata": {},
   "outputs": [],
   "source": [
    "import urllib.request\n",
    "\n",
    "url = \"https://www.dropbox.com/s/3vigxoqayo389uc/populations.txt?dl=1\"\n",
    "u = urllib.request.urlopen(url)\n",
    "data = u.read()\n",
    "u.close()\n",
    "\n",
    "file = data.decode(\"utf-8\")\n",
    "file = file[file.index(\"carrot\")+7:] # removing headers"
   ]
  },
  {
   "cell_type": "code",
   "execution_count": 12,
   "metadata": {},
   "outputs": [
    {
     "data": {
      "image/png": "[encoded data removed]",
      "text/plain": [
       "<Figure size 432x288 with 1 Axes>"
      ]
     },
     "metadata": {
      "needs_background": "light"
     },
     "output_type": "display_data"
    },
    {
     "name": "stdout",
     "output_type": "stream",
     "text": [
      "Hares mean: 34080.95238095238 std: 20897.906458089667\n",
      "Lynxes mean: 20166.666666666668 std: 16254.591536908763\n",
      "Carrots mean: 42400.0 std: 3322.5062255844787 \n",
      "\n",
      "\n",
      "The correlation matrix between hares and lynxes is\n",
      "[[1.   0.07]\n",
      " [0.07 1.  ]]\n",
      "\n",
      "The correlation matrix between hares and carrots is\n",
      "[[ 1.   -0.02]\n",
      " [-0.02  1.  ]]\n",
      "\n",
      "The correlation matrix between lynxes and carrots is\n",
      "[[ 1.   -0.68]\n",
      " [-0.68  1.  ]] \n",
      "\n",
      "\n",
      "The highest pop at year 1900 is the Carrots with 48300\n",
      "The highest pop at year 1901 is the Carrots with 48200\n",
      "The highest pop at year 1902 is the Hares with 70200\n",
      "The highest pop at year 1903 is the Hares with 77400\n",
      "The highest pop at year 1904 is the Lynxes with 59400\n",
      "The highest pop at year 1905 is the Lynxes with 41700\n",
      "The highest pop at year 1906 is the Carrots with 38600\n",
      "The highest pop at year 1907 is the Carrots with 42300\n",
      "The highest pop at year 1908 is the Carrots with 44500\n",
      "The highest pop at year 1909 is the Carrots with 42100\n",
      "The highest pop at year 1910 is the Carrots with 46000\n",
      "The highest pop at year 1911 is the Carrots with 46800\n",
      "The highest pop at year 1912 is the Hares with 57000\n",
      "The highest pop at year 1913 is the Hares with 76600\n",
      "The highest pop at year 1914 is the Hares with 52300\n",
      "The highest pop at year 1915 is the Lynxes with 51100\n",
      "The highest pop at year 1916 is the Carrots with 36700\n",
      "The highest pop at year 1917 is the Carrots with 41800\n",
      "The highest pop at year 1918 is the Carrots with 43300\n",
      "The highest pop at year 1919 is the Carrots with 41300\n",
      "The highest pop at year 1920 is the Carrots with 47300\n"
     ]
    }
   ],
   "source": [
    "mat = np.fromstring(file, sep=' ').reshape(-1,4).astype(int)\n",
    "\n",
    "labels = ['Hares', 'Lynxes', 'Carrots']\n",
    "\n",
    "years = mat[:,0]\n",
    "hares = mat[:,1]\n",
    "lynxes = mat[:,2]\n",
    "carrots = mat[:,3]\n",
    "\n",
    "plt.plot(years, hares, label=labels[0])\n",
    "plt.plot(years, lynxes, label=labels[1])    \n",
    "plt.plot(years, carrots, label=labels[2])\n",
    "plt.legend()\n",
    "plt.show()\n",
    "\n",
    "print(\"Hares mean:\", np.mean(hares), \"std:\", np.std(hares))\n",
    "print(\"Lynxes mean:\", np.mean(lynxes), \"std:\", np.std(lynxes))\n",
    "print(\"Carrots mean:\", np.mean(carrots), \"std:\", np.std(carrots), '\\n')\n",
    "\n",
    "print('\\nThe correlation matrix between hares and lynxes is')\n",
    "print(np.corrcoef(hares, lynxes))\n",
    "print('\\nThe correlation matrix between hares and carrots is')\n",
    "print(np.corrcoef(hares, carrots))\n",
    "print('\\nThe correlation matrix between lynxes and carrots is')\n",
    "print(np.corrcoef(lynxes, carrots),'\\n\\n')\n",
    "\n",
    "sub_mat = mat[:,1:4]\n",
    "max_indexes = np.argmax(sub_mat, axis=1)\n",
    "max_values = sub_mat[np.arange(mat.shape[0]), max_indexes]\n",
    "\n",
    "for i, (idx, max_val) in enumerate(zip(max_indexes, max_values)):\n",
    "    print('The highest pop at year', years[i], 'is the', labels[idx], 'with', max_val)"
   ]
  },
  {
   "cell_type": "code",
   "execution_count": null,
   "metadata": {},
   "outputs": [],
   "source": []
  }
 ],
 "metadata": {
  "kernelspec": {
   "display_name": "Python 3",
   "language": "python",
   "name": "python3"
  },
  "language_info": {
   "codemirror_mode": {
    "name": "ipython",
    "version": 3
   },
   "file_extension": ".py",
   "mimetype": "text/x-python",
   "name": "python",
   "nbconvert_exporter": "python",
   "pygments_lexer": "ipython3",
   "version": "3.8.3"
  }
 },
 "nbformat": 4,
 "nbformat_minor": 2
}
