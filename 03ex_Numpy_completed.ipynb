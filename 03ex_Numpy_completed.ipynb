{
 "cells": [
  {
   "cell_type": "markdown",
   "metadata": {},
   "source": [
    "### Numpy basics"
   ]
  },
  {
   "cell_type": "markdown",
   "metadata": {},
   "source": [
    "1\\. Find the row, column and overall means for the following matrix:\n",
    "\n",
    "```python\n",
    "m = np.arange(12).reshape((3,4))\n",
    "```"
   ]
  },
  {
   "cell_type": "code",
   "execution_count": 1,
   "metadata": {},
   "outputs": [
    {
     "name": "stdout",
     "output_type": "stream",
     "text": [
      "Columns means:  [4. 5. 6. 7.]\n",
      "Rows means:  [1.5 5.5 9.5]\n",
      "Overall mean:  5.5\n"
     ]
    }
   ],
   "source": [
    "import numpy as np\n",
    "\n",
    "m = np.arange(12).reshape((3,4))\n",
    "print(\"Columns means: \", m.sum(axis=0)/m.shape[0])\n",
    "print(\"Rows means: \", m.sum(axis=1)/m.shape[1])\n",
    "print('Overall mean: ', m.mean())"
   ]
  },
  {
   "cell_type": "markdown",
   "metadata": {},
   "source": [
    "2\\. Find the outer product of the following two vecotrs\n",
    "\n",
    "```python\n",
    "u = np.array([1,3,5,7])\n",
    "v = np.array([2,4,6,8])\n",
    "```\n",
    "\n",
    "Do this in the following ways:\n",
    "\n",
    "   * Using the function outer in numpy\n",
    "   * Using a nested for loop or list comprehension\n",
    "   * Using numpy broadcasting operatoins\n"
   ]
  },
  {
   "cell_type": "code",
   "execution_count": 2,
   "metadata": {},
   "outputs": [
    {
     "name": "stdout",
     "output_type": "stream",
     "text": [
      "Method 1: \n",
      " [[ 2  4  6  8]\n",
      " [ 6 12 18 24]\n",
      " [10 20 30 40]\n",
      " [14 28 42 56]]\n",
      "Method 2: \n",
      " [[ 2.  4.  6.  8.]\n",
      " [ 6. 12. 18. 24.]\n",
      " [10. 20. 30. 40.]\n",
      " [14. 28. 42. 56.]]\n",
      "Method 3: \n",
      " [[ 2  4  6  8]\n",
      " [ 6 12 18 24]\n",
      " [10 20 30 40]\n",
      " [14 28 42 56]]\n"
     ]
    }
   ],
   "source": [
    "import numpy as np\n",
    "\n",
    "u = np.array([1,3,5,7])\n",
    "v = np.array([2,4,6,8])\n",
    "print('Method 1: \\n', np.outer(u, v))\n",
    "outer2 = np.zeros((4, 4))\n",
    "for i in range(0,len(u)):\n",
    "    for j in range(0,len(v)):\n",
    "        outer2[i,j] = u[i]*v[j]\n",
    "print('Method 2: \\n', outer2)\n",
    "w = u[:,np.newaxis]\n",
    "print('Method 3: \\n', w*v)"
   ]
  },
  {
   "cell_type": "markdown",
   "metadata": {},
   "source": [
    "3\\. Create a 10 by 6 matrix of random uniform numbers. Set all rows with any entry less than 0.1 to be zero\n",
    "\n",
    "Hint: Use the following numpy functions - np.random.random, np.any as well as Boolean indexing and the axis argument."
   ]
  },
  {
   "cell_type": "code",
   "execution_count": 3,
   "metadata": {},
   "outputs": [
    {
     "name": "stdout",
     "output_type": "stream",
     "text": [
      "[[0.87821916 0.50149893 0.76535299 0.24532268 0.58342135 0.93364372]\n",
      " [0.         0.         0.         0.         0.         0.        ]\n",
      " [0.         0.         0.         0.         0.         0.        ]\n",
      " [0.         0.         0.         0.         0.         0.        ]\n",
      " [0.         0.         0.         0.         0.         0.        ]\n",
      " [0.59408465 0.54161995 0.45077315 0.35719303 0.76149183 0.69903829]\n",
      " [0.         0.         0.         0.         0.         0.        ]\n",
      " [0.         0.         0.         0.         0.         0.        ]\n",
      " [0.         0.         0.         0.         0.         0.        ]\n",
      " [0.         0.         0.         0.         0.         0.        ]]\n"
     ]
    }
   ],
   "source": [
    "import numpy as np\n",
    "\n",
    "m = np.random.rand(10, 6) #matrix of uniform numbers\n",
    "mask = (m < 0.1) #mask for finding elements smaller than 0.1\n",
    "for i in range(0,10):\n",
    "    if (np.any(mask[i]) == True):\n",
    "        m[i]=[0,0,0,0,0,0]\n",
    "print(m)"
   ]
  },
  {
   "cell_type": "markdown",
   "metadata": {},
   "source": [
    "4\\. Use np.linspace to create an array of 100 numbers between 0 and 2π (includsive).\n",
    "\n",
    "  * Extract every 10th element using slice notation\n",
    "  * Reverse the array using slice notation\n",
    "  * Extract elements where the absolute difference between the sine and cosine functions evaluated at that element is less than 0.1\n",
    "  * Make a plot showing the sin and cos functions and indicate where they are close"
   ]
  },
  {
   "cell_type": "code",
   "execution_count": 4,
   "metadata": {
    "scrolled": true
   },
   "outputs": [
    {
     "name": "stdout",
     "output_type": "stream",
     "text": [
      "10th elements: \n",
      " [0.         0.31733259 0.63466518 0.95199777 1.26933037 1.58666296\n",
      " 1.90399555 2.22132814 2.53866073 2.85599332] \n",
      "\n",
      "Elements extracted: \n",
      " [0.72986496 0.76159822 0.79333148 0.82506474] \n",
      "\n"
     ]
    },
    {
     "data": {
      "image/png": "[encoded data removed]",
      "text/plain": [
       "<Figure size 432x288 with 1 Axes>"
      ]
     },
     "metadata": {
      "needs_background": "light"
     },
     "output_type": "display_data"
    },
    {
     "name": "stdout",
     "output_type": "stream",
     "text": [
      "The light blue horizontal line indicates the range of acceptable values, around 0.7-0.8\n"
     ]
    }
   ],
   "source": [
    "import numpy as np\n",
    "import math as m\n",
    "import matplotlib.pyplot as plt\n",
    "\n",
    "%matplotlib inline \n",
    "\n",
    "a = np.linspace(0, m.pi, num=100) #array of 100 numbers\n",
    "#print('Original array: \\n', a, '\\n')\n",
    "tenth = a[::10]\n",
    "print('10th elements: \\n', tenth, '\\n')\n",
    "reverse = a[::-1]\n",
    "#print('Reversed array: \\n', reverse, '\\n')\n",
    "mask = (np.abs(np.sin(a)-np.cos(a)) < 0.1) #mask to exctract \n",
    "filt_a = a[mask]\n",
    "print('Elements extracted: \\n', filt_a, '\\n')\n",
    "y1 = np.sin(a)\n",
    "y2 = np.cos(a)\n",
    "y3 = np.abs(y1-y2)\n",
    "plt.xlabel('values of a')\n",
    "plt.plot(a, y1, 'r', label = 'sin(a)')\n",
    "plt.plot(a, y2, 'g', label = 'cos(a)')\n",
    "plt.plot(a, y3, label = 'Abs(sin(a)-cos(a))')\n",
    "plt.axhline(y=.1)\n",
    "plt.legend(loc='lower left')\n",
    "plt.show()\n",
    "print('The interception otìf the two light blue lines indicates the range of acceptable values, around 0.7-0.8')"
   ]
  },
  {
   "cell_type": "markdown",
   "metadata": {},
   "source": [
    "5\\. Create a matrix that shows the 10 by 10 multiplication table.\n",
    "\n",
    " * Find the trace of the matrix\n",
    " * Extract the anto-diagonal (this should be ```array([10, 18, 24, 28, 30, 30, 28, 24, 18, 10])```)\n",
    " * Extract the diagnoal offset by 1 upwards (this should be ```array([ 2,  6, 12, 20, 30, 42, 56, 72, 90])```)"
   ]
  },
  {
   "cell_type": "code",
   "execution_count": 5,
   "metadata": {},
   "outputs": [
    {
     "name": "stdout",
     "output_type": "stream",
     "text": [
      "Matrix of the 10 by 10 multiplication table: \n",
      " [[  1   2   3   4   5   6   7   8   9  10]\n",
      " [  2   4   6   8  10  12  14  16  18  20]\n",
      " [  3   6   9  12  15  18  21  24  27  30]\n",
      " [  4   8  12  16  20  24  28  32  36  40]\n",
      " [  5  10  15  20  25  30  35  40  45  50]\n",
      " [  6  12  18  24  30  36  42  48  54  60]\n",
      " [  7  14  21  28  35  42  49  56  63  70]\n",
      " [  8  16  24  32  40  48  56  64  72  80]\n",
      " [  9  18  27  36  45  54  63  72  81  90]\n",
      " [ 10  20  30  40  50  60  70  80  90 100]]\n",
      "Trace of the matrix:  385\n",
      "The anti-diagonal is:  [10 18 24 28 30 30 28 24 18 10]\n",
      "The diagonal offset by 1 upwards:  [ 2  6 12 20 30 42 56 72 90]\n"
     ]
    }
   ],
   "source": [
    "import numpy as np\n",
    "\n",
    "m = np.array([[1, 2, 3, 4, 5, 6, 7, 8, 9, 10] for i in range(0,10)])\n",
    "mult = np.array([m[1]*m[0,j] for j in range(0,10)])\n",
    "print('Matrix of the 10 by 10 multiplication table: \\n', mult)\n",
    "print('Trace of the matrix: ', np.trace(mult))\n",
    "mult_flipped = np.fliplr(mult)\n",
    "print('The anti-diagonal is: ', np.diagonal(mult_flipped))\n",
    "print('The diagonal offset by 1 upwards: ', np.diagonal(mult,1))"
   ]
  },
  {
   "cell_type": "markdown",
   "metadata": {},
   "source": [
    "6\\. Use broadcasting to create a grid of distances\n",
    "\n",
    "Route 66 crosses the following cities in the US: Chicago, Springfield, Saint-Louis, Tulsa, Oklahoma City, Amarillo, Santa Fe, Albuquerque, Flagstaff, Los Angeles\n",
    "The corresponding positions in miles are: 0, 198, 303, 736, 871, 1175, 1475, 1544, 1913, 2448\n",
    "\n",
    "  * Construct a 2D grid of distances among each city along Route 66\n",
    "  * Convert that in km (those savages...)"
   ]
  },
  {
   "cell_type": "code",
   "execution_count": 6,
   "metadata": {},
   "outputs": [
    {
     "name": "stdout",
     "output_type": "stream",
     "text": [
      "Grid of distances: \n",
      " [[   0  198  303  736  871 1175 1475 1544 1913 2448]\n",
      " [ 198    0  105  538  673  977 1277 1346 1715 2250]\n",
      " [ 303  105    0  433  568  872 1172 1241 1610 2145]\n",
      " [ 736  538  433    0  135  439  739  808 1177 1712]\n",
      " [ 871  673  568  135    0  304  604  673 1042 1577]\n",
      " [1175  977  872  439  304    0  300  369  738 1273]\n",
      " [1475 1277 1172  739  604  300    0   69  438  973]\n",
      " [1544 1346 1241  808  673  369   69    0  369  904]\n",
      " [1913 1715 1610 1177 1042  738  438  369    0  535]\n",
      " [2448 2250 2145 1712 1577 1273  973  904  535    0]]\n",
      "Converted in km: \n",
      " [[   0.    318.65  487.63 1184.48 1401.74 1890.98 2373.79 2484.83 3078.68\n",
      "  3939.68]\n",
      " [ 318.65    0.    168.98  865.83 1083.09 1572.33 2055.14 2166.18 2760.03\n",
      "  3621.03]\n",
      " [ 487.63  168.98    0.    696.85  914.11 1403.35 1886.15 1997.2  2591.05\n",
      "  3452.05]\n",
      " [1184.48  865.83  696.85    0.    217.26  706.5  1189.31 1300.35 1894.2\n",
      "  2755.2 ]\n",
      " [1401.74 1083.09  914.11  217.26    0.    489.24  972.05 1083.09 1676.94\n",
      "  2537.94]\n",
      " [1890.98 1572.33 1403.35  706.5   489.24    0.    482.8   593.85 1187.7\n",
      "  2048.7 ]\n",
      " [2373.79 2055.14 1886.15 1189.31  972.05  482.8     0.    111.04  704.89\n",
      "  1565.89]\n",
      " [2484.83 2166.18 1997.2  1300.35 1083.09  593.85  111.04    0.    593.85\n",
      "  1454.85]\n",
      " [3078.68 2760.03 2591.05 1894.2  1676.94 1187.7   704.89  593.85    0.\n",
      "   861.  ]\n",
      " [3939.68 3621.03 3452.05 2755.2  2537.94 2048.7  1565.89 1454.85  861.\n",
      "     0.  ]]\n"
     ]
    }
   ],
   "source": [
    "dist = np.array([0, 198, 303, 736, 871, 1175, 1475, 1544, 1913, 2448])\n",
    "vdist = dist[:,np.newaxis] #preparing for broadcasting\n",
    "griddist = np.abs(vdist-dist)\n",
    "print('Grid of distances: \\n', griddist)\n",
    "np.set_printoptions(precision=2) #to keep the printed matrix a decent size\n",
    "print('Converted in km: \\n', griddist/0.62137)"
   ]
  },
  {
   "cell_type": "markdown",
   "metadata": {},
   "source": [
    "7\\. Prime numbers sieve: compute the prime numbers in the 0-N (N=99 to start with) range with a sieve (mask).\n",
    "  * Constract a shape (100,) boolean array, the mask\n",
    "  * Identify the multiples of each number starting from 2 and set accordingly the corresponding mask element\n",
    "  * Apply the mask to obtain an array of ordered prime numbers\n",
    "  * Check the performances (timeit); how does it scale with N?\n",
    "  * Implement the optimization suggested in the [sieve of Eratosthenes](https://en.wikipedia.org/wiki/Sieve_of_Eratosthenes)"
   ]
  },
  {
   "cell_type": "code",
   "execution_count": 7,
   "metadata": {},
   "outputs": [
    {
     "name": "stdout",
     "output_type": "stream",
     "text": [
      "List of prime numbers < 100  with my method:  [ 0  1  2  3  5  7 11 13 17 19 23 29 31 37 41 43 47 53 59 61 67 71 73 79\n",
      " 83 89 97]\n",
      "List of prime numbers < 100  with the sieve of Eratosthenes:  [ 0  1  2  3  5  7 11 13 17 19 23 29 31 37 41 43 47 53 59 61 67 71 73 79\n",
      " 83 89 97]\n",
      "The time per loop scales like an exponential with N. \n",
      " There is an approx *N/100 gain in efficiency with the sieve of Eratosthenes\n"
     ]
    },
    {
     "data": {
      "image/png": "[encoded data removed]",
      "text/plain": [
       "<Figure size 432x288 with 1 Axes>"
      ]
     },
     "metadata": {
      "needs_background": "light"
     },
     "output_type": "display_data"
    }
   ],
   "source": [
    "import numpy as np\n",
    "import matplotlib.pyplot as plt\n",
    "\n",
    "%matplotlib inline \n",
    "\n",
    "def prime_numbers(N) : #my method\n",
    "    numbers = np.arange(0,N,1)\n",
    "    mask = np.array([True for i in range(0,N,1)])\n",
    "    for i in range (2,N,1):\n",
    "        for j in range (i,N,1): #starting from the number I'm testing (no smaller integer multiples)\n",
    "            if numbers[j]%i==0 and numbers[j]>i:\n",
    "                mask[j]=False\n",
    "    return numbers[mask]\n",
    "\n",
    "def SoEratosthenes(N) : #sieve of Eratosthenes\n",
    "    numbers = np.arange(0,N,1)\n",
    "    mask = np.array([True for i in range(0,N,1)])\n",
    "    for i in range (2,N,1):\n",
    "        if mask[i] == True:\n",
    "            for j in range (2,N,1):\n",
    "                if i*j < N:\n",
    "                    mask[i*j]=False\n",
    "    return numbers[mask]\n",
    "\n",
    "N=100\n",
    "print('List of prime numbers <', N, ' with my method: ', prime_numbers(N))\n",
    "#for N in range (100,1000,100):\n",
    "#    %timeit prime_numbers(N)\n",
    "print('List of prime numbers <', N, ' with the sieve of Eratosthenes: ', SoEratosthenes(N))\n",
    "#for N in range (100,1000,100):\n",
    "#    %timeit SoEratosthenes(N)\n",
    "x = np.arange(100,1000,100) #here I show the results of a precedent cycle with timeit\n",
    "y = [0.0125,0.0469,0.111,0.195,0.296,0.414,0.559,0.720,0.904]\n",
    "y1 = [0.0013,0.0033,0.00568,0.00876,0.0132,0.0255,0.0282,0.0351,0.04]\n",
    "plt.xlabel('N')\n",
    "plt.ylabel('time [s]')\n",
    "plt.plot(x, y, 'r', label = 'My method')\n",
    "plt.plot(x, y1, 'g', label = 'Sieve of Eratosthenes')\n",
    "plt.legend(loc='upper left')\n",
    "\n",
    "print('The time per loop scales like an exponential with N. \\n There is an approx *N/100 gain in efficiency with the sieve of Eratosthenes')\n"
   ]
  },
  {
   "cell_type": "markdown",
   "metadata": {},
   "source": [
    "8\\. Diffusion using random walk\n",
    "\n",
    "Consider a simple random walk process: at each step in time, a walker jumps right or left (+1 or -1) with equal probability. The goal is to find the typical distance from the origin of a random walker after a given amount of time. \n",
    "To do that, let's simulate many walkers and create a 2D array with each walker as a raw and the actual time evolution as columns\n",
    "\n",
    "  * Take 1000 walkers and let them walk for 200 steps\n",
    "  * Use randint to create a 2D array of size walkers x steps with values -1 or 1\n",
    "  * Build the actual walking distances for each walker (i.e. another 2D array \"summing on each raw\")\n",
    "  * Take the square of that 2D array (elementwise)\n",
    "  * Compute the mean of the squared distances at each step (i.e. the mean along the columns)\n",
    "  * Plot the average distances (sqrt(distance\\*\\*2)) as a function of time (step)\n",
    "  \n",
    "Did you get what you expected?"
   ]
  },
  {
   "cell_type": "code",
   "execution_count": 8,
   "metadata": {
    "scrolled": false
   },
   "outputs": [
    {
     "data": {
      "text/plain": [
       "[<matplotlib.lines.Line2D at 0x7f7a305b74d0>]"
      ]
     },
     "execution_count": 8,
     "metadata": {},
     "output_type": "execute_result"
    },
    {
     "data": {
      "image/png": "[encoded data removed]",
      "text/plain": [
       "<Figure size 432x288 with 1 Axes>"
      ]
     },
     "metadata": {
      "needs_background": "light"
     },
     "output_type": "display_data"
    }
   ],
   "source": [
    "import numpy as np\n",
    "import matplotlib.pyplot as plt\n",
    "\n",
    "%matplotlib inline \n",
    "\n",
    "moves = np.random.randint(-1,1, size = (1000, 200)) #initialize to -1 or 0\n",
    "moves[moves == 0] = 1 #reassign 0 as 1 -> I have a matrix of 1 and -1\n",
    "distances = np.zeros((1000,200))\n",
    "for w in range(0,1000,1) :\n",
    "    distances[w,0] = moves[w,0] #initialize first column (t=0) of the matrix\n",
    "    for t in range(1,200,1):\n",
    "        distances[w,t] = distances[w,t-1] + moves[w,t] #find the progressive distance walked\n",
    "square_dist = distances**2\n",
    "sd_means = square_dist.mean(axis=0)\n",
    "ts = np.arange(0,200,1)\n",
    "y = np.sqrt(sd_means)\n",
    "plt.xlabel('time step')\n",
    "plt.ylabel('distance')\n",
    "plt.plot(ts, y, 'r')"
   ]
  },
  {
   "cell_type": "markdown",
   "metadata": {},
   "source": [
    "9\\. Analyze a data file \n",
    "  * Download the population of hares, lynxes and carrots at the beginning of the last century.\n",
    "    ```python\n",
    "    ! wget https://www.dropbox.com/s/3vigxoqayo389uc/populations.txt\n",
    "    ```\n",
    "\n",
    "  * Check the content by looking within the file\n",
    "  * Load the data (use an appropriate numpy method) into a 2D array\n",
    "  * Create arrays out of the columns, the arrays being (in order): *year*, *hares*, *lynxes*, *carrots* \n",
    "  * Plot the 3 populations over the years\n",
    "  * Compute the main statistical properties of the dataset (mean, std, correlations, etc.)\n",
    "  * Which species has the highest population each year?\n",
    "\n",
    "Do you feel there is some evident correlation here? [Studies](https://www.enr.gov.nt.ca/en/services/lynx/lynx-snowshoe-hare-cycle) tend to believe so."
   ]
  },
  {
   "cell_type": "code",
   "execution_count": 9,
   "metadata": {},
   "outputs": [
    {
     "name": "stdout",
     "output_type": "stream",
     "text": [
      "--2020-11-01 19:08:00--  https://www.dropbox.com/s/3vigxoqayo389uc/populations.txt\n",
      "Resolving www.dropbox.com (www.dropbox.com)... 162.125.69.1, 2620:100:6025:1::a27d:4501\n",
      "Connecting to www.dropbox.com (www.dropbox.com)|162.125.69.1|:443... connected.\n",
      "HTTP request sent, awaiting response... 301 Moved Permanently\n",
      "Location: /s/raw/3vigxoqayo389uc/populations.txt [following]\n",
      "--2020-11-01 19:08:01--  https://www.dropbox.com/s/raw/3vigxoqayo389uc/populations.txt\n",
      "Reusing existing connection to www.dropbox.com:443.\n",
      "HTTP request sent, awaiting response... 302 Found\n",
      "Location: https://uc9dbaf3e0ebd43a27db90fbc3cc.dl.dropboxusercontent.com/cd/0/inline/BCZZTt5wFenSuNZ7T2FAWJxnEtx7ZmmV_V_Y2U1UJwZOy_Vqhr_dUQo41CtGkPMvO64UO2Jy3HYxXWGrlGQXC30HoHvrC5NUsxVF2POPSA1tuQ/file# [following]\n",
      "--2020-11-01 19:08:02--  https://uc9dbaf3e0ebd43a27db90fbc3cc.dl.dropboxusercontent.com/cd/0/inline/BCZZTt5wFenSuNZ7T2FAWJxnEtx7ZmmV_V_Y2U1UJwZOy_Vqhr_dUQo41CtGkPMvO64UO2Jy3HYxXWGrlGQXC30HoHvrC5NUsxVF2POPSA1tuQ/file\n",
      "Resolving uc9dbaf3e0ebd43a27db90fbc3cc.dl.dropboxusercontent.com (uc9dbaf3e0ebd43a27db90fbc3cc.dl.dropboxusercontent.com)... 162.125.69.15, 2620:100:6025:15::a27d:450f\n",
      "Connecting to uc9dbaf3e0ebd43a27db90fbc3cc.dl.dropboxusercontent.com (uc9dbaf3e0ebd43a27db90fbc3cc.dl.dropboxusercontent.com)|162.125.69.15|:443... connected.\n",
      "HTTP request sent, awaiting response... 200 OK\n",
      "Length: 525 [text/plain]\n",
      "Saving to: ‘populations.txt.1’\n",
      "\n",
      "populations.txt.1   100%[===================>]     525  --.-KB/s    in 0s      \n",
      "\n",
      "2020-11-01 19:08:02 (15,8 MB/s) - ‘populations.txt.1’ saved [525/525]\n",
      "\n"
     ]
    }
   ],
   "source": [
    "! wget https://www.dropbox.com/s/3vigxoqayo389uc/populations.txt"
   ]
  },
  {
   "cell_type": "code",
   "execution_count": 10,
   "metadata": {},
   "outputs": [
    {
     "name": "stdout",
     "output_type": "stream",
     "text": [
      "# year\thare\tlynx\tcarrot\r\n",
      "1900\t30e3\t4e3\t48300\r\n",
      "1901\t47.2e3\t6.1e3\t48200\r\n",
      "1902\t70.2e3\t9.8e3\t41500\r\n",
      "1903\t77.4e3\t35.2e3\t38200\r\n",
      "1904\t36.3e3\t59.4e3\t40600\r\n",
      "1905\t20.6e3\t41.7e3\t39800\r\n",
      "1906\t18.1e3\t19e3\t38600\r\n",
      "1907\t21.4e3\t13e3\t42300\r\n",
      "1908\t22e3\t8.3e3\t44500\r\n",
      "1909\t25.4e3\t9.1e3\t42100\r\n",
      "1910\t27.1e3\t7.4e3\t46000\r\n",
      "1911\t40.3e3\t8e3\t46800\r\n",
      "1912\t57e3\t12.3e3\t43800\r\n",
      "1913\t76.6e3\t19.5e3\t40900\r\n",
      "1914\t52.3e3\t45.7e3\t39400\r\n",
      "1915\t19.5e3\t51.1e3\t39000\r\n",
      "1916\t11.2e3\t29.7e3\t36700\r\n",
      "1917\t7.6e3\t15.8e3\t41800\r\n",
      "1918\t14.6e3\t9.7e3\t43300\r\n",
      "1919\t16.2e3\t10.1e3\t41300\r\n",
      "1920\t24.7e3\t8.6e3\t47300\r\n"
     ]
    }
   ],
   "source": [
    "! cat 'populations.txt'"
   ]
  },
  {
   "cell_type": "code",
   "execution_count": 12,
   "metadata": {
    "scrolled": true
   },
   "outputs": [
    {
     "name": "stdout",
     "output_type": "stream",
     "text": [
      "\n",
      " ['hares']\n",
      "mean 34080.95238095238\n",
      "std 20897.906458089667\n",
      "sum 715700.0\n",
      "min 7600.0\n",
      "\n",
      " ['lynxes']\n",
      "mean 20166.666666666668\n",
      "std 16254.591536908763\n",
      "sum 423500.0\n",
      "min 4000.0\n",
      "\n",
      " ['carrots']\n",
      "mean 42400.0\n",
      "std 3322.5062255844787\n",
      "sum 890400.0\n",
      "min 36700.0\n",
      "\n",
      " Correlations: \n",
      " - hares, lynxes =  0.07189206073535571 \n",
      " - hares, carrots =  -0.016603777709879395 \n",
      " - lynxes, carrots =  -0.6805771698401621\n",
      " - hares, lynxes, shifted 2 years:  0.9273333019188928 <- relevant!\n"
     ]
    },
    {
     "data": {
      "text/plain": [
       "[<matplotlib.lines.Line2D at 0x7f7a1f044250>]"
      ]
     },
     "execution_count": 12,
     "metadata": {},
     "output_type": "execute_result"
    },
    {
     "data": {
      "image/png": "[encoded data removed]",
      "text/plain": [
       "<Figure size 432x288 with 2 Axes>"
      ]
     },
     "metadata": {
      "needs_background": "light"
     },
     "output_type": "display_data"
    }
   ],
   "source": [
    "import numpy as np\n",
    "from scipy.stats.stats import pearsonr\n",
    "import matplotlib.pyplot as plt\n",
    "\n",
    "%matplotlib inline\n",
    "\n",
    "def namestr(obj, namespace) : #useful for printing variable name in a function\n",
    "    return [name for name in namespace if namespace[name] is obj]\n",
    "\n",
    "def statistics(species) :\n",
    "    print('\\n', namestr(species, globals()))\n",
    "    for function in ['mean','std','sum','min']:\n",
    "        print (function, getattr(np, function)(species))\n",
    "\n",
    "data = np.loadtxt(\"./populations.txt\", skiprows=1) #acquire data skipping the header\n",
    "year = data[:,0] #differentiate columns\n",
    "hares = data[:,1]\n",
    "lynxes = data[:,2]\n",
    "carrots = data[:,3]\n",
    "statistics(hares)\n",
    "statistics(lynxes)\n",
    "statistics(carrots)\n",
    "r_hl, p_hl = pearsonr(hares, lynxes)\n",
    "r_hc, p_hc = pearsonr(hares, carrots)\n",
    "r_lc, p_lc = pearsonr(lynxes, carrots)\n",
    "r_hl2, p_hl2 = pearsonr(hares[:(len(hares)-2)], lynxes[2:])\n",
    "print('\\n Correlations: \\n - hares, lynxes = ', r_hl, '\\n - hares, carrots = ', r_hc,'\\n - lynxes, carrots = ', r_lc)\n",
    "print(' - hares, lynxes, shifted 2 years: ', r_hl2, '<- relevant!')\n",
    "yh, yl, yc, recap = 0, 0, 0, np.array(['hares' for i in range (0,len(year),1)]) #to find and register highest populations\n",
    "for i in range(0,len(year),1):\n",
    "    maximum=np.max([hares[i],lynxes[i],carrots[i]]) #find max out of all populations\n",
    "    if maximum==hares[i]:\n",
    "        yh+=1\n",
    "    if maximum==lynxes[i]:\n",
    "        recap[i]='lynxes' #properly modify register\n",
    "        yl+=1\n",
    "    if maximum==carrots[i]:\n",
    "        recap[i]='carrots'\n",
    "        yc+=1\n",
    "fig, (ax1, ax2) = plt.subplots(2, 1)\n",
    "ax1.plot(year, hares, label = 'hares')\n",
    "ax1.plot(year, lynxes, label = 'lynxes')\n",
    "ax1.plot(year, carrots, label = 'carrots') #display populations variation in time\n",
    "ax1.legend(loc='upper right')\n",
    "ax2.plot(year, recap) #display highest populated species in time"
   ]
  },
  {
   "cell_type": "code",
   "execution_count": null,
   "metadata": {},
   "outputs": [],
   "source": []
  }
 ],
 "metadata": {
  "kernelspec": {
   "display_name": "Python 3",
   "language": "python",
   "name": "python3"
  },
  "language_info": {
   "codemirror_mode": {
    "name": "ipython",
    "version": 3
   },
   "file_extension": ".py",
   "mimetype": "text/x-python",
   "name": "python",
   "nbconvert_exporter": "python",
   "pygments_lexer": "ipython3",
   "version": "3.7.4"
  }
 },
 "nbformat": 4,
 "nbformat_minor": 2
}
