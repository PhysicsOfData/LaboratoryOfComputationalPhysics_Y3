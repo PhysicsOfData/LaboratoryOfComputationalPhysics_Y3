{
 "cells": [
  {
   "cell_type": "markdown",
   "metadata": {},
   "source": [
    "### Numpy basics"
   ]
  },
  {
   "cell_type": "code",
   "execution_count": 2,
   "metadata": {},
   "outputs": [],
   "source": [
    "import numpy as np"
   ]
  },
  {
   "cell_type": "markdown",
   "metadata": {},
   "source": [
    "1\\. Find the row, column and overall means for the following matrix:\n",
    "\n",
    "```python\n",
    "m = np.arange(12).reshape((3,4))\n",
    "```"
   ]
  },
  {
   "cell_type": "code",
   "execution_count": null,
   "metadata": {},
   "outputs": [],
   "source": [
    "from numpy import mean\n",
    "m = np.arange(12).reshape((3,4))\n",
    "ov_mean = mean(m)\n",
    "raw_mean = m.mean(axis = 1)\n",
    "col_mean = m.mean(axis = 0)\n",
    "print(m)\n",
    "print(\"overal mean is:\", ov_mean)\n",
    "print(\"raw mean is:\", raw_mean)\n",
    "print(\"column mean is:\", col_mean)"
   ]
  },
  {
   "cell_type": "markdown",
   "metadata": {},
   "source": [
    "2\\. Find the outer product of the following two vecotrs\n",
    "\n",
    "```python\n",
    "u = np.array([1,3,5,7])\n",
    "v = np.array([2,4,6,8])\n",
    "```\n",
    "\n",
    "Do this in the following ways:\n",
    "\n",
    "   * Using the function outer in numpy\n",
    "   * Using a nested for loop or list comprehension\n",
    "   * Using numpy broadcasting operatoins\n"
   ]
  },
  {
   "cell_type": "code",
   "execution_count": null,
   "metadata": {},
   "outputs": [],
   "source": [
    "u = np.array([1,3,5,7])\n",
    "v = np.array([2,4,6,8])\n",
    "#Using the function outer in numpy\n",
    "outer1 = np.outer(u,v)\n",
    "print(\"The outer product value using numpy is:\\n\", outer1)\n",
    "#Using a nested for loop or list comprehension\n",
    "outer2 = [ i*v for i in u ]\n",
    "print(\"The outer product value using list comprehension is:\\n\", outer2)\n",
    "#Using numpy broadcasting operatoins\n",
    "outer3 = u[:, np.newaxis] * v\n",
    "print(\"The outer product value using numpy broadcasting operations is:\\n\", outer3)"
   ]
  },
  {
   "cell_type": "markdown",
   "metadata": {},
   "source": [
    "3\\. Create a 10 by 6 matrix of random uniform numbers. Set all rows with any entry less than 0.1 to be zero\n",
    "\n",
    "Hint: Use the following numpy functions - np.random.random, np.any as well as Boolean indexing and the axis argument."
   ]
  },
  {
   "cell_type": "code",
   "execution_count": null,
   "metadata": {},
   "outputs": [],
   "source": [
    "uniform = np.random.rand(10,6)\n",
    "print(uniform)\n",
    "\n",
    "a = np.where(uniform < 0.1)\n",
    "\n",
    "uniform[a[0]] = 0\n",
    "print (\"the modified array\\n:\", uniform,'\\n')"
   ]
  },
  {
   "cell_type": "markdown",
   "metadata": {},
   "source": [
    "4\\. Use np.linspace to create an array of 100 numbers between 0 and 2π (includsive).\n",
    "\n",
    "  * Extract every 10th element using slice notation\n",
    "  * Reverse the array using slice notation\n",
    "  * Extract elements where the absolute difference between the sine and cosine functions evaluated at that element is less than 0.1\n",
    "  * Make a plot showing the sin and cos functions and indicate where they are close"
   ]
  },
  {
   "cell_type": "code",
   "execution_count": null,
   "metadata": {},
   "outputs": [],
   "source": [
    "from math import pi\n",
    "import matplotlib as plot\n",
    "b = np.linspace(0,2*pi,100)\n",
    "print('original array:\\n',b)\n",
    "tenth = b[::10]\n",
    "print('10th elements of the array:\\n',tenth)\n",
    "reverse = b[::-1]\n",
    "print('reversed array is:\\n', reverse)\n",
    "\n",
    "mask = np.array([abs(np.sin(b) - np.cos(b)) < 0.1])\n",
    "points = b[mask[0]]\n",
    "print('The values of the array where |sin(b) - cos(b)|<0.1 is:',points)\n",
    "\n",
    "plt.plot(b,np.sin(b))\n",
    "plt.plot(b,np.cos(b))\n",
    "plt.plot(points,np.sin(points), 'ro')\n",
    "plt.plot(points,np.cos(points), 'bo')"
   ]
  },
  {
   "cell_type": "markdown",
   "metadata": {},
   "source": [
    "5\\. Create a matrix that shows the 10 by 10 multiplication table.\n",
    "\n",
    " * Find the trace of the matrix\n",
    " * Extract the anto-diagonal (this should be ```array([10, 18, 24, 28, 30, 30, 28, 24, 18, 10])```)\n",
    " * Extract the diagnoal offset by 1 upwards (this should be ```array([ 2,  6, 12, 20, 30, 42, 56, 72, 90])```)"
   ]
  },
  {
   "cell_type": "code",
   "execution_count": null,
   "metadata": {},
   "outputs": [],
   "source": [
    "def mult_table(n):\n",
    "    rng = np.arange(1, n+1)\n",
    "    return rng * rng[:, None]\n",
    "\n",
    "print(mult_table(10))\n",
    "#trace\n",
    "trace = np.trace(mult_table(10))\n",
    "print('trace:',trace)\n",
    "\n",
    "#anti_diagonal\n",
    "anti_diagonal = np.fliplr(mult_table(10)).diagonal()\n",
    "print('anti-diagonal:', anti_diagonal)\n",
    "\n",
    "#offset\n",
    "offset = np.diagonal(mult_table(10), offset=1)\n",
    "print('with offset:', offset)"
   ]
  },
  {
   "cell_type": "markdown",
   "metadata": {},
   "source": [
    "6\\. Use broadcasting to create a grid of distances\n",
    "\n",
    "Route 66 crosses the following cities in the US: Chicago, Springfield, Saint-Louis, Tulsa, Oklahoma City, Amarillo, Santa Fe, Albuquerque, Flagstaff, Los Angeles\n",
    "The corresponding positions in miles are: 0, 198, 303, 736, 871, 1175, 1475, 1544, 1913, 2448\n",
    "\n",
    "  * Construct a 2D grid of distances among each city along Route 66\n",
    "  * Convert that in km (those savages...)"
   ]
  },
  {
   "cell_type": "code",
   "execution_count": null,
   "metadata": {},
   "outputs": [],
   "source": [
    "dist = np.array([0, 198, 303, 736, 871, 1175, 1475, 1544, 1913, 2448])\n",
    "grid = np.array(abs(dist-np.array([dist]).T))\n",
    "\n",
    "print(\"The 2D grid of distances among each city along Route 66 in miles:\\n\", grid)\n",
    "\n",
    "grid_km = (grid * 1.60934)\n",
    "print(\"The 2D grid of distances among each city along Route 66 in km:\\n\", grid_km)"
   ]
  },
  {
   "cell_type": "markdown",
   "metadata": {},
   "source": [
    "7\\. Prime numbers sieve: compute the prime numbers in the 0-N (N=99 to start with) range with a sieve (mask).\n",
    "  * Constract a shape (100,) boolean array, the mask\n",
    "  * Identify the multiples of each number starting from 2 and set accordingly the corresponding mask element\n",
    "  * Apply the mask to obtain an array of ordered prime numbers\n",
    "  * Check the performances (timeit); how does it scale with N?\n",
    "  * Implement the optimization suggested in the [sieve of Eratosthenes](https://en.wikipedia.org/wiki/Sieve_of_Eratosthenes)"
   ]
  },
  {
   "cell_type": "code",
   "execution_count": 12,
   "metadata": {},
   "outputs": [
    {
     "name": "stdout",
     "output_type": "stream",
     "text": [
      "[ 0  1  2  3  5  7 11 13 17 19 23 29 31 37 41 43 47 53 59 61 67 71 73 79\n",
      " 83 89 97]\n",
      "157 ms ± 4.71 ms per loop (mean ± std. dev. of 7 runs, 10 loops each)\n",
      "With sieve of Eratosthenes: [ 0  1  2  3  5  7 11 13 17 19 23 29 31 37 41 43 47 53 59 61 67 71 73 79\n",
      " 83 89 97]\n",
      "19.8 ms ± 1.61 ms per loop (mean ± std. dev. of 7 runs, 10 loops each)\n"
     ]
    }
   ],
   "source": [
    "def prime_num(N):\n",
    "    #Mask initialization\n",
    "    mask = np.ones(N, dtype=bool) \n",
    "    for i in range(2,N):\n",
    "        k=2\n",
    "        while i*k<N:\n",
    "            mask[i*k]=False\n",
    "            k+=1 \n",
    "\n",
    "    #Prime numbers calculation\n",
    "    prime_num = np.arange(N)\n",
    "    prime_num = prime_num[mask == True]\n",
    "    return prime_num\n",
    "\n",
    "print(prime_num(100))\n",
    "%timeit prime_num(60000)\n",
    "\n",
    "#sieve of Eratosthenes\n",
    "def prime_num_Era(N):\n",
    "    #Mask initialization\n",
    "    mask=np.ones(N, dtype=bool)\n",
    "    for i in range(2,int(np.sqrt(N))):\n",
    "        if mask[i] == True:\n",
    "            k=i**2   \n",
    "        while k<N:\n",
    "            mask[k] = False\n",
    "            k+=i \n",
    "\n",
    "    #Prime numbers calculation\n",
    "    prime_num_Era = np.arange(N)\n",
    "    prime_num_Era = prime_num_Era[mask == True]\n",
    "    return prime_num_Era\n",
    "\n",
    "print(\"With sieve of Eratosthenes:\",prime_num(100))\n",
    "%timeit prime_num_Era(60000)\n"
   ]
  },
  {
   "cell_type": "markdown",
   "metadata": {},
   "source": [
    "8\\. Diffusion using random walk\n",
    "\n",
    "Consider a simple random walk process: at each step in time, a walker jumps right or left (+1 or -1) with equal probability. The goal is to find the typical distance from the origin of a random walker after a given amount of time. \n",
    "To do that, let's simulate many walkers and create a 2D array with each walker as a raw and the actual time evolution as columns\n",
    "\n",
    "  * Take 1000 walkers and let them walk for 200 steps\n",
    "  * Use randint to create a 2D array of size walkers x steps with values -1 or 1\n",
    "  * Build the actual walking distances for each walker (i.e. another 2D array \"summing on each raw\")\n",
    "  * Take the square of that 2D array (elementwise)\n",
    "  * Compute the mean of the squared distances at each step (i.e. the mean along the columns)\n",
    "  * Plot the average distances (sqrt(distance\\*\\*2)) as a function of time (step)\n",
    "  \n",
    "Did you get what you expected?"
   ]
  },
  {
   "cell_type": "code",
   "execution_count": 19,
   "metadata": {},
   "outputs": [
    {
     "name": "stdout",
     "output_type": "stream",
     "text": [
      "the mean of the squared distances at each step is: [   1    1    2 ... 1965 1972 1972]\n",
      "walk ditance is: [[  1   2   1 ...  -4  -5  -4]\n",
      " [ -1   0   1 ... -18 -17 -18]\n",
      " [  1   0   1 ...  -4  -5  -4]\n",
      " ...\n",
      " [  1   2   3 ... -62 -61 -62]\n",
      " [ -1   0  -1 ... -20 -21 -22]\n",
      " [  1   0  -1 ... -26 -27 -26]]\n"
     ]
    },
    {
     "data": {
      "image/png": "[encoded data removed]",
      "text/plain": [
       "<Figure size 432x288 with 1 Axes>"
      ]
     },
     "metadata": {
      "needs_background": "light"
     },
     "output_type": "display_data"
    },
    {
     "data": {
      "image/png": "[encoded data removed]",
      "text/plain": [
       "<Figure size 432x288 with 1 Axes>"
      ]
     },
     "metadata": {
      "needs_background": "light"
     },
     "output_type": "display_data"
    }
   ],
   "source": [
    "import numpy as np\n",
    "import matplotlib.pyplot as plt\n",
    "\n",
    "def rand_walk(walk, steps):\n",
    "    \n",
    "    a_steps=np.array(np.random.randint(2,size = (walk,steps)))\n",
    "    a_steps[a_steps==0] = -1\n",
    "    \n",
    "    #Walking distances\n",
    "    walk_dis = np.cumsum(a_steps,axis=1)\n",
    "    \n",
    "    #Square of distances\n",
    "    sq_walk = walk_dis**2\n",
    "    \n",
    "    #Means \n",
    "    mean_wsq = np.mean(sq_walk,axis=0,dtype=int)\n",
    "    \n",
    "    return walk_dis, mean_wsq\n",
    "\n",
    "walker = 1000\n",
    "steps = 2000\n",
    "walk_dis, mean_wsq = rand_wlk(walker,steps)\n",
    "s = np.arange(steps)\n",
    "\n",
    "print(\"the mean of the squared distances at each step is:\",mean_wsq)\n",
    "print(\"walk ditance is:\",walk_dis)\n",
    "\n",
    "plt.xlabel('time(steps)')\n",
    "plt.ylabel('Root mean square distance traveled')\n",
    "plt.plot(s, np.sqrt(mean_wsq),'r')\n",
    "plt.show()\n",
    " \n",
    "plt.xlabel('time(steps)')\n",
    "plt.ylabel('Mean square distance traveled')\n",
    "plt.plot(s,mean_wsq)\n",
    "plt.show()\n",
    "\n"
   ]
  },
  {
   "cell_type": "markdown",
   "metadata": {},
   "source": [
    "9\\. Analyze a data file \n",
    "  * Download the population of hares, lynxes and carrots at the beginning of the last century.\n",
    "    ```python\n",
    "    ! wget https://www.dropbox.com/s/3vigxoqayo389uc/populations.txt\n",
    "    ```\n",
    "\n",
    "  * Check the content by looking within the file\n",
    "  * Load the data (use an appropriate numpy method) into a 2D array\n",
    "  * Create arrays out of the columns, the arrays being (in order): *year*, *hares*, *lynxes*, *carrots* \n",
    "  * Plot the 3 populations over the years\n",
    "  * Compute the main statistical properties of the dataset (mean, std, correlations, etc.)\n",
    "  * Which species has the highest population each year?\n",
    "\n",
    "Do you feel there is some evident correlation here? [Studies](https://www.enr.gov.nt.ca/en/services/lynx/lynx-snowshoe-hare-cycle) tend to believe so."
   ]
  },
  {
   "cell_type": "code",
   "execution_count": 24,
   "metadata": {},
   "outputs": [
    {
     "name": "stderr",
     "output_type": "stream",
     "text": [
      "--2020-11-02 18:03:58--  https://www.dropbox.com/s/3vigxoqayo389uc/populations.txt\n",
      "Resolving www.dropbox.com (www.dropbox.com)... 162.125.72.1\n",
      "Connecting to www.dropbox.com (www.dropbox.com)|162.125.72.1|:443... connected.\n",
      "HTTP request sent, awaiting response... 301 Moved Permanently\n",
      "Location: /s/raw/3vigxoqayo389uc/populations.txt [following]\n",
      "--2020-11-02 18:03:59--  https://www.dropbox.com/s/raw/3vigxoqayo389uc/populations.txt\n",
      "Reusing existing connection to www.dropbox.com:443.\n",
      "HTTP request sent, awaiting response... 302 Found\n",
      "Location: https://ucc8e2006773e42a0332ff1d3eaa.dl.dropboxusercontent.com/cd/0/inline/BCcHDaMfKqS5EPEvy74RajdmmMQ9E-RcsNCSCnSlo34HtXLc0kyuhQyx1JISy4vITwqZcN1gNIyopo-gPU3ZKw4h0qiVyN875rHzqWsbPyD8Lw/file# [following]\n",
      "--2020-11-02 18:03:59--  https://ucc8e2006773e42a0332ff1d3eaa.dl.dropboxusercontent.com/cd/0/inline/BCcHDaMfKqS5EPEvy74RajdmmMQ9E-RcsNCSCnSlo34HtXLc0kyuhQyx1JISy4vITwqZcN1gNIyopo-gPU3ZKw4h0qiVyN875rHzqWsbPyD8Lw/file\n",
      "Resolving ucc8e2006773e42a0332ff1d3eaa.dl.dropboxusercontent.com (ucc8e2006773e42a0332ff1d3eaa.dl.dropboxusercontent.com)... 162.125.72.15\n",
      "Connecting to ucc8e2006773e42a0332ff1d3eaa.dl.dropboxusercontent.com (ucc8e2006773e42a0332ff1d3eaa.dl.dropboxusercontent.com)|162.125.72.15|:443... connected.\n",
      "HTTP request sent, awaiting response... 200 OK\n",
      "Length: 525 [text/plain]\n",
      "Saving to: 'populations.txt.1'\n",
      "\n",
      "     0K                                                       100%  601K=0.001s\n",
      "\n",
      "2020-11-02 18:04:02 (601 KB/s) - 'populations.txt.1' saved [525/525]\n",
      "\n"
     ]
    }
   ],
   "source": [
    "! wget https://www.dropbox.com/s/3vigxoqayo389uc/populations.txt"
   ]
  },
  {
   "cell_type": "code",
   "execution_count": 31,
   "metadata": {},
   "outputs": [
    {
     "data": {
      "image/png": "[encoded data removed]",
      "text/plain": [
       "<Figure size 432x288 with 1 Axes>"
      ]
     },
     "metadata": {
      "needs_background": "light"
     },
     "output_type": "display_data"
    },
    {
     "name": "stdout",
     "output_type": "stream",
     "text": [
      "\n",
      " Correlation coefficients:\n",
      "[[ 1.          0.07189206 -0.01660378]\n",
      " [ 0.07189206  1.         -0.68057717]\n",
      " [-0.01660378 -0.68057717  1.        ]]\n",
      "\n",
      " hares\n",
      "mean 34080.95238095238\n",
      "std 20897.906458089667\n",
      "min 7600.0\n",
      "max 77400.0\n",
      "\n",
      " lynxes\n",
      "mean 20166.666666666668\n",
      "std 16254.591536908763\n",
      "min 4000.0\n",
      "max 59400.0\n",
      "\n",
      " carrots\n",
      "mean 42400.0\n",
      "std 3322.5062255844787\n",
      "min 36700.0\n",
      "max 48300.0\n",
      "Highier population per year\n",
      "\n",
      "years,  hares,  lynxes,  carrots\n",
      " [[ 1900.     0.     0. 48300.]\n",
      " [ 1901.     0.     0. 48200.]\n",
      " [ 1902. 70200.     0.     0.]\n",
      " [ 1903. 77400.     0.     0.]\n",
      " [ 1904.     0. 59400.     0.]\n",
      " [ 1905.     0. 41700.     0.]\n",
      " [ 1906.     0.     0. 38600.]\n",
      " [ 1907.     0.     0. 42300.]\n",
      " [ 1908.     0.     0. 44500.]\n",
      " [ 1909.     0.     0. 42100.]\n",
      " [ 1910.     0.     0. 46000.]\n",
      " [ 1911.     0.     0. 46800.]\n",
      " [ 1912. 57000.     0.     0.]\n",
      " [ 1913. 76600.     0.     0.]\n",
      " [ 1914. 52300.     0.     0.]\n",
      " [ 1915.     0. 51100.     0.]\n",
      " [ 1916.     0.     0. 36700.]\n",
      " [ 1917.     0.     0. 41800.]\n",
      " [ 1918.     0.     0. 43300.]\n",
      " [ 1919.     0.     0. 41300.]\n",
      " [ 1920.     0.     0. 47300.]]\n"
     ]
    }
   ],
   "source": [
    "from matplotlib.ticker import MaxNLocator\n",
    "\n",
    "file_name = \"populations.txt\"\n",
    "data = np.array(np.loadtxt(file_name))\n",
    "\n",
    "years = data[:,0]\n",
    "hares = data[:,1]\n",
    "lynxes = data[:,2]\n",
    "carrots = data[:,3]\n",
    "\n",
    "#showing the plot better\n",
    "ax = plt.figure().gca()\n",
    "ax.xaxis.set_major_locator(MaxNLocator(integer=True))\n",
    "plt.plot(years, hares, 'r', label='hares')\n",
    "plt.plot(years, lynxes, 'g', label='lynxes')\n",
    "plt.plot(years, carrots, 'c', label='carrot')\n",
    "plt.xlabel('Year')\n",
    "plt.ylabel('Popoluation')\n",
    "plt.legend()\n",
    "plt.show()\n",
    "\n",
    "\n",
    "\n",
    "names=['hares','lynxes','carrots']\n",
    "\n",
    "print('\\n Correlation coefficients:')\n",
    "print(np.corrcoef((hares,lynxes,carrots)))\n",
    "\n",
    "k=0\n",
    "for i in [hares,lynxes,carrots]:\n",
    "    print('\\n',names[k])\n",
    "    for function in ['mean', 'std', 'min', 'max']:\n",
    "        print(function, getattr(np, function)(i))\n",
    "    k+=1\n",
    "    \n",
    "\n",
    "\n",
    "#Highest population\n",
    "for i in np.arange(data.shape[0]):\n",
    "    data[i,1:][data[i,1:] != np.max(data[i,1:])] = 0\n",
    "    \n",
    "print('Highier population per year')\n",
    "print('\\nyears,  hares,  lynxes,  carrots\\n',data)\n"
   ]
  },
  {
   "cell_type": "code",
   "execution_count": null,
   "metadata": {},
   "outputs": [],
   "source": []
  }
 ],
 "metadata": {
  "kernelspec": {
   "display_name": "Python 3",
   "language": "python",
   "name": "python3"
  },
  "language_info": {
   "codemirror_mode": {
    "name": "ipython",
    "version": 3
   },
   "file_extension": ".py",
   "mimetype": "text/x-python",
   "name": "python",
   "nbconvert_exporter": "python",
   "pygments_lexer": "ipython3",
   "version": "3.7.3"
  }
 },
 "nbformat": 4,
 "nbformat_minor": 2
}
