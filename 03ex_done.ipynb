{
 "cells": [
  {
   "cell_type": "markdown",
   "metadata": {},
   "source": [
    "### Numpy basics"
   ]
  },
  {
   "cell_type": "markdown",
   "metadata": {},
   "source": [
    "1\\. Find the row, column and overall means for the following matrix:\n",
    "\n",
    "```python\n",
    "m = np.arange(12).reshape((3,4))\n",
    "```"
   ]
  },
  {
   "cell_type": "code",
   "execution_count": null,
   "metadata": {},
   "outputs": [],
   "source": [
    "import numpy as np\n",
    "m = np.arange(12).reshape((3,4))\n",
    "print(m, '\\n')\n",
    "for i in range(len(m[:,0])):print('The mean of ' + str(i+1) +'st row is',  m[i,:].mean())\n",
    "    \n",
    "for i in range(len(m[0,:])):print('The mean of ' + str(i+1) +'st coloumn is',  m[:,i].mean())\n",
    "\n",
    "print('\\n\\nThe mean of all value on matrix is',  m.mean())\n"
   ]
  },
  {
   "cell_type": "markdown",
   "metadata": {},
   "source": [
    "2\\. Find the outer product of the following two vecotrs\n",
    "\n",
    "```python\n",
    "u = np.array([1,3,5,7])\n",
    "v = np.array([2,4,6,8])\n",
    "```\n",
    "\n",
    "Do this in the following ways:\n",
    "\n",
    "   * Using the function outer in numpy\n",
    "   * Using a nested for loop or list comprehension\n",
    "   * Using numpy broadcasting operatoins\n"
   ]
  },
  {
   "cell_type": "code",
   "execution_count": null,
   "metadata": {},
   "outputs": [],
   "source": [
    "u = np.array([1,3,5,7])\n",
    "v = np.array([2,4,6,8])\n",
    "\n",
    "print('using a function:\\n')\n",
    "def prodout (x,y):\n",
    "    c=[]\n",
    "    for i in range(len(x)):\n",
    "        for j in range(len(y)):\n",
    "                c.append(x[i]*y[j])\n",
    "    return c\n",
    "\n",
    "print(np.array(prodout(u,v)).reshape(4,4), '\\n')\n",
    "\n",
    "print('using a list comprehension:\\n')\n",
    "a=np.array( [ [u[i]*v[j] for j in range (len(v))] for i  in range(len(u)) ] )\n",
    "print(a, '\\n\\n')\n",
    "\n",
    "\n",
    "print('using a brodcasting operators: \\n')\n",
    "print(np.tile(u,(4,1)).T * np.tile(v,(4,1)) )"
   ]
  },
  {
   "cell_type": "markdown",
   "metadata": {},
   "source": [
    "3\\. Create a 10 by 6 matrix of random uniform numbers. Set all rows with any entry less than 0.1 to be zero\n",
    "\n",
    "Hint: Use the following numpy functions - np.random.random, np.any as well as Boolean indexing and the axis argument."
   ]
  },
  {
   "cell_type": "code",
   "execution_count": null,
   "metadata": {},
   "outputs": [],
   "source": [
    "import numpy.random as npr\n",
    "import numpy as np\n",
    "npr.seed(1234)\n",
    "\n",
    "x = npr.rand(10,6)\n",
    "mask = x < 0.1\n",
    "x[mask.any(axis = 1)] = 0\n",
    "print(x)\n"
   ]
  },
  {
   "cell_type": "markdown",
   "metadata": {},
   "source": [
    "4\\. Use np.linspace to create an array of 100 numbers between 0 and 2π (includsive).\n",
    "\n",
    "  * Extract every 10th element using slice notation\n",
    "  * Reverse the array using slice notation\n",
    "  * Extract elements where the absolute difference between the sine and cosine functions evaluated at that element is less than 0.1\n",
    "  * Make a plot showing the sin and cos functions and indicate where they are close"
   ]
  },
  {
   "cell_type": "code",
   "execution_count": null,
   "metadata": {},
   "outputs": [],
   "source": [
    "import matplotlib.pyplot as plt\n",
    "%matplotlib inline \n",
    "\n",
    "\n",
    "x = np.linspace(0,2*np.pi,100)\n",
    "print(x) \n",
    "\n",
    "print(x[::10]) \n",
    "\n",
    "print(x[::-1])\n",
    "\n",
    "print(x[np.abs(np.sin(x)-np.cos(x)) < 0.1]) \n",
    "plt.plot(x,np.sin(x),x,np.cos(x))\n",
    "\n",
    "\n",
    "xclose = x[np.abs(np.sin(x)-np.cos(x)) < 0.1]\n",
    "plt.scatter(xclose,np.sin(xclose), c = \"red\")"
   ]
  },
  {
   "cell_type": "markdown",
   "metadata": {},
   "source": [
    "5\\. Create a matrix that shows the 10 by 10 multiplication table.\n",
    "\n",
    " * Find the trace of the matrix\n",
    " * Extract the anto-diagonal (this should be ```array([10, 18, 24, 28, 30, 30, 28, 24, 18, 10])```)\n",
    " * Extract the diagnoal offset by 1 upwards (this should be ```array([ 2,  6, 12, 20, 30, 42, 56, 72, 90])```)"
   ]
  },
  {
   "cell_type": "code",
   "execution_count": null,
   "metadata": {},
   "outputs": [],
   "source": [
    "multipl = np.array([i*j for i in range(1,11) for j in range(1,11)]).reshape(10,10)\n",
    "print('The matrix is:\\n',multipl, '\\n and its trace is:', np.trace(multipl))\n",
    "\n",
    "\n",
    "\n",
    "print('\\nThe anti-diagonal is:', np.diag(multipl[::-1,:]))\n",
    "\n",
    "mask = [(i-1,i) for i in range (1,10)] \n",
    "\n",
    "print('The diagnoal offset by 1 upwards is:', np.diag(multipl,1)) "
   ]
  },
  {
   "cell_type": "markdown",
   "metadata": {},
   "source": [
    "6\\. Use broadcasting to create a grid of distances\n",
    "\n",
    "Route 66 crosses the following cities in the US: Chicago, Springfield, Saint-Louis, Tulsa, Oklahoma City, Amarillo, Santa Fe, Albuquerque, Flagstaff, Los Angeles\n",
    "The corresponding positions in miles are: 0, 198, 303, 736, 871, 1175, 1475, 1544, 1913, 2448\n",
    "\n",
    "  * Construct a 2D grid of distances among each city along Route 66\n",
    "  * Convert that in km (those savages...)"
   ]
  },
  {
   "cell_type": "code",
   "execution_count": null,
   "metadata": {},
   "outputs": [],
   "source": [
    "city =np.array(['Chicago', 'Springfield', 'St.Louis', 'Tulsa', 'Oklahoma City', 'Amarillo', 'Santa Fe', 'Albuquerque', 'Flagstaff', 'Los Angeles'])\n",
    "distgrid = np.array([0,198,303,736,871,1175,1475,1544,1913,2448])\n",
    "distgrid = distgrid[:,np.newaxis]\n",
    "\n",
    "recipr_dist=abs(dist-dist.T)\n",
    "for i in range(distgrid.shape[0]):\n",
    "    print('The %i coloumn rappresents -->'%i, city[i], \"<--  compared with the other cities' distances (in miles)\\n\")\n",
    "print(recipr_dist, '\\n\\n')\n",
    "\n",
    "\n",
    "\n",
    "print('In km the previous matrix became:\\n\\n',np.abs(dist-dist.T)*1.61)"
   ]
  },
  {
   "cell_type": "markdown",
   "metadata": {},
   "source": [
    "7\\. Prime numbers sieve: compute the prime numbers in the 0-N (N=99 to start with) range with a sieve (mask).\n",
    "  * Constract a shape (100,) boolean array, the mask\n",
    "  * Identify the multiples of each number starting from 2 and set accordingly the corresponding mask element\n",
    "  * Apply the mask to obtain an array of ordered prime numbers\n",
    "  * Check the performances (timeit); how does it scale with N?\n",
    "  * Implement the optimization suggested in the [sieve of Eratosthenes](https://en.wikipedia.org/wiki/Sieve_of_Eratosthenes)"
   ]
  },
  {
   "cell_type": "code",
   "execution_count": null,
   "metadata": {},
   "outputs": [],
   "source": [
    "N = 100\n",
    "mask = np.ones((N,),bool)\n",
    "\n",
    "mask[0] = mask[1] = False # in questo modo la mask selezionerà i numeri che non resituiscono true\n",
    "\n",
    "a = np.arange(0,N)\n",
    "# bisogna adattare la maschera in modo che partendo da due (a[1]) tutti i suoi multipli vengono \"segnati\", poi si incrementa il punto \n",
    "def prime(num,m,n) :\n",
    "    for i in range(2,n) :\n",
    "        m[2*i::i] = False \n",
    "    return num[m]\n",
    "def prime_1(num,m,n) :\n",
    "    for i in range(2,int(n/2)) :\n",
    "        m[2*i::i] = False\n",
    "    return num[m]\n",
    "\n",
    "%timeit prime(a,mask,N)\n",
    "%timeit prime_1(a,mask,N)\n",
    "print(\"prime numbers from 0 to\",N,\"are\\n\",prime(a,mask,N),\"\\n\",prime_1(a,mask,N))\n",
    "# per capire come cambiano le performance al variare di N incrementiamo di un ordine di grandezza\n",
    "for n in [k*N for k in range(1,3)] :\n",
    "    %timeit prime(a,mask,n)\n",
    "    %timeit prime_1(a,mask,n)"
   ]
  },
  {
   "cell_type": "markdown",
   "metadata": {},
   "source": [
    "8\\. Diffusion using random walk\n",
    "\n",
    "Consider a simple random walk process: at each step in time, a walker jumps right or left (+1 or -1) with equal probability. The goal is to find the typical distance from the origin of a random walker after a given amount of time. \n",
    "To do that, let's simulate many walkers and create a 2D array with each walker as a raw and the actual time evolution as columns\n",
    "\n",
    "  * Take 1000 walkers and let them walk for 200 steps\n",
    "  * Use randint to create a 2D array of size walkers x steps with values -1 or 1\n",
    "  * Build the actual walking distances for each walker (i.e. another 2D array \"summing on each raw\")\n",
    "  * Take the square of that 2D array (elementwise)\n",
    "  * Compute the mean of the squared distances at each step (i.e. the mean along the columns)\n",
    "  * Plot the average distances (sqrt(distance\\*\\*2)) as a function of time (step)\n",
    "  \n",
    "Did you get what you expected?"
   ]
  },
  {
   "cell_type": "code",
   "execution_count": null,
   "metadata": {},
   "outputs": [],
   "source": [
    "# bisogna simulare tanti walkers e considerare ciascuno di loro in una riga di un array insieme alla propria evoluzione temporale. Siano 1000 ognuno che si muove in 200 steps\n",
    "import numpy.random as npr\n",
    "import matplotlib.pyplot as plt\n",
    "npr.seed(1234) \n",
    "walkers = np.array([npr.choice([-1,1]) for i in range(0,200000)]).reshape(1000,200)\n",
    "\n",
    "\n",
    "walksum = np.array([npr.choice([-1,1]) for i in range(0,200000)]).reshape(1000,200)\n",
    "for i in range(1,200) : \n",
    "    walksum[:,i] += walksum[:,i-1] \n",
    "\n",
    "    \n",
    "means = np.mean(walksum**2, axis = 0)\n",
    "%matplotlib inline\n",
    "t = np.linspace(0,200,200)\n",
    "\n",
    "plt.plot(t,np.sqrt(means))"
   ]
  },
  {
   "cell_type": "markdown",
   "metadata": {},
   "source": [
    "9\\. Analyze a data file \n",
    "  * Download the population of hares, lynxes and carrots at the beginning of the last century.\n",
    "    ```python\n",
    "    ! wget https://www.dropbox.com/s/3vigxoqayo389uc/populations.txt\n",
    "    ```\n",
    "\n",
    "  * Check the content by looking within the file\n",
    "  * Load the data (use an appropriate numpy method) into a 2D array\n",
    "  * Create arrays out of the columns, the arrays being (in order): *year*, *hares*, *lynxes*, *carrots* \n",
    "  * Plot the 3 populations over the years\n",
    "  * Compute the main statistical properties of the dataset (mean, std, correlations, etc.)\n",
    "  * Which species has the highest population each year?\n",
    "\n",
    "Do you feel there is some evident correlation here? [Studies](https://www.enr.gov.nt.ca/en/services/lynx/lynx-snowshoe-hare-cycle) tend to believe so."
   ]
  },
  {
   "cell_type": "code",
   "execution_count": 1,
   "metadata": {},
   "outputs": [
    {
     "name": "stdout",
     "output_type": "stream",
     "text": [
      "The main statistical properties for hares are:\n",
      "sum 715700.0\n",
      "min 7600.0\n",
      "argmin 17\n",
      "mean 34080.95238095238\n",
      "median 25400.0\n",
      "std 20897.906458089667\n",
      "The main statistical properties for lynxes are:\n",
      "sum 423500.0\n",
      "min 4000.0\n",
      "argmin 0\n",
      "mean 20166.666666666668\n",
      "median 12300.0\n",
      "std 16254.591536908763\n",
      "The main statistical properties for carrots are:\n",
      "sum 890400.0\n",
      "min 36700.0\n",
      "argmin 16\n",
      "mean 42400.0\n",
      "median 41800.0\n",
      "std 3322.5062255844787\n",
      "Max populations over years\n",
      "Carrots  ---> 1900\n",
      "Carrots  ---> 1901\n",
      "Hares  ---> 1902\n",
      "Hares  ---> 1903\n",
      "Lynxes  ---> 1904\n",
      "Lynxes  ---> 1905\n",
      "Carrots  ---> 1906\n",
      "Carrots  ---> 1907\n",
      "Carrots  ---> 1908\n",
      "Carrots  ---> 1909\n",
      "Carrots  ---> 1910\n",
      "Carrots  ---> 1911\n",
      "Hares  ---> 1912\n",
      "Hares  ---> 1913\n",
      "Hares  ---> 1914\n",
      "Lynxes  ---> 1915\n",
      "Carrots  ---> 1916\n",
      "Carrots  ---> 1917\n",
      "Carrots  ---> 1918\n",
      "Carrots  ---> 1919\n",
      "Carrots  ---> 1920\n"
     ]
    },
    {
     "data": {
      "image/png": "[encoded data removed]",
      "text/plain": [
       "<Figure size 432x288 with 1 Axes>"
      ]
     },
     "metadata": {
      "needs_background": "light"
     },
     "output_type": "display_data"
    },
    {
     "data": {
      "image/png": "[encoded data removed]",
      "text/plain": [
       "<Figure size 432x288 with 1 Axes>"
      ]
     },
     "metadata": {
      "needs_background": "light"
     },
     "output_type": "display_data"
    },
    {
     "data": {
      "image/png": "[encoded data removed]",
      "text/plain": [
       "<Figure size 432x288 with 1 Axes>"
      ]
     },
     "metadata": {
      "needs_background": "light"
     },
     "output_type": "display_data"
    }
   ],
   "source": [
    "import numpy as np\n",
    "import matplotlib.pyplot as plt\n",
    "\n",
    "\n",
    "population = np.loadtxt(\"populations.txt\", skiprows=1)\n",
    "\n",
    "year = population[:,0]\n",
    "hares = population[:,1]\n",
    "lynxes = population[:,2]\n",
    "carrots = population[:,3]\n",
    "\n",
    "\n",
    "plt.figure()\n",
    "plt.plot(year,hares, 'r')\n",
    "plt.xlabel('years')\n",
    "plt.ylabel('hares')\n",
    "\n",
    "plt.figure()\n",
    "plt.plot(year,lynxes, 'b')\n",
    "plt.xlabel('years')\n",
    "plt.ylabel('lynx')\n",
    "\n",
    "plt.figure()\n",
    "plt.plot(year,carrots, 'g')\n",
    "plt.xlabel('years')\n",
    "plt.ylabel('carrot')\n",
    "\n",
    "print(\"The main statistical properties for hares are:\")\n",
    "for function in ['sum','min','argmin','mean','median','std']:\n",
    "    print (function, getattr(np, function)(hares)) # \n",
    "print(\"The main statistical properties for lynxes are:\")\n",
    "for function in ['sum','min','argmin','mean','median','std']:\n",
    "    print (function, getattr(np, function)(lynxes)) \n",
    "print(\"The main statistical properties for carrots are:\")\n",
    "for function in ['sum','min','argmin','mean','median','std']:\n",
    "    print (function, getattr(np, function)(carrots))\n",
    "    \n",
    "titles=['Hares','Lynxes','Carrots']   \n",
    "print(\"Max populations over years\")\n",
    "for i in population :\n",
    "    print(titles[np.argmax(i[1:])],\" --->\",int(i[0]),)"
   ]
  },
  {
   "cell_type": "code",
   "execution_count": null,
   "metadata": {},
   "outputs": [],
   "source": []
  }
 ],
 "metadata": {
  "kernelspec": {
   "display_name": "Python 3",
   "language": "python",
   "name": "python3"
  },
  "language_info": {
   "codemirror_mode": {
    "name": "ipython",
    "version": 3
   },
   "file_extension": ".py",
   "mimetype": "text/x-python",
   "name": "python",
   "nbconvert_exporter": "python",
   "pygments_lexer": "ipython3",
   "version": "3.8.3"
  }
 },
 "nbformat": 4,
 "nbformat_minor": 2
}
