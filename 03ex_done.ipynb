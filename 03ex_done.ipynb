{
 "cells": [
  {
   "cell_type": "markdown",
   "metadata": {},
   "source": [
    "### Numpy basics"
   ]
  },
  {
   "cell_type": "markdown",
   "metadata": {},
   "source": [
    "1\\. Find the row, column and overall means for the following matrix:\n",
    "\n",
    "```python\n",
    "m = np.arange(12).reshape((3,4))\n",
    "```"
   ]
  },
  {
   "cell_type": "code",
   "execution_count": 1,
   "metadata": {},
   "outputs": [
    {
     "name": "stdout",
     "output_type": "stream",
     "text": [
      "[[ 0  1  2  3]\n",
      " [ 4  5  6  7]\n",
      " [ 8  9 10 11]] \n",
      "\n",
      "The mean of 1st row is 1.5\n",
      "The mean of 2st row is 5.5\n",
      "The mean of 3st row is 9.5\n",
      "The mean of 1st coloumn is 4.0\n",
      "The mean of 2st coloumn is 5.0\n",
      "The mean of 3st coloumn is 6.0\n",
      "The mean of 4st coloumn is 7.0\n",
      "\n",
      "\n",
      "The mean of all value on matrix is 5.5\n"
     ]
    }
   ],
   "source": [
    "import numpy as np\n",
    "m = np.arange(12).reshape((3,4))\n",
    "print(m, '\\n')\n",
    "for i in range(len(m[:,0])):print('The mean of ' + str(i+1) +'st row is',  m[i,:].mean())\n",
    "    \n",
    "for i in range(len(m[0,:])):print('The mean of ' + str(i+1) +'st coloumn is',  m[:,i].mean())\n",
    "\n",
    "print('\\n\\nThe mean of all value on matrix is',  m.mean())\n"
   ]
  },
  {
   "cell_type": "markdown",
   "metadata": {},
   "source": [
    "2\\. Find the outer product of the following two vecotrs\n",
    "\n",
    "```python\n",
    "u = np.array([1,3,5,7])\n",
    "v = np.array([2,4,6,8])\n",
    "```\n",
    "\n",
    "Do this in the following ways:\n",
    "\n",
    "   * Using the function outer in numpy\n",
    "   * Using a nested for loop or list comprehension\n",
    "   * Using numpy broadcasting operatoins\n"
   ]
  },
  {
   "cell_type": "code",
   "execution_count": 2,
   "metadata": {},
   "outputs": [
    {
     "name": "stdout",
     "output_type": "stream",
     "text": [
      "using a function:\n",
      "\n",
      "[[ 2  4  6  8]\n",
      " [ 6 12 18 24]\n",
      " [10 20 30 40]\n",
      " [14 28 42 56]] \n",
      "\n",
      "using a list comprehension:\n",
      "\n",
      "[[ 2  4  6  8]\n",
      " [ 6 12 18 24]\n",
      " [10 20 30 40]\n",
      " [14 28 42 56]] \n",
      "\n",
      "\n",
      "using a brodcasting operators: \n",
      "\n",
      "[[ 2  4  6  8]\n",
      " [ 6 12 18 24]\n",
      " [10 20 30 40]\n",
      " [14 28 42 56]]\n"
     ]
    }
   ],
   "source": [
    "u = np.array([1,3,5,7])\n",
    "v = np.array([2,4,6,8])\n",
    "\n",
    "print('using a function:\\n')\n",
    "def prodout (x,y):\n",
    "    c=[]\n",
    "    for i in range(len(x)):\n",
    "        for j in range(len(y)):\n",
    "                c.append(x[i]*y[j])\n",
    "    return c\n",
    "\n",
    "print(np.array(prodout(u,v)).reshape(4,4), '\\n')\n",
    "\n",
    "print('using a list comprehension:\\n')\n",
    "a=np.array( [ [u[i]*v[j] for j in range (len(v))] for i  in range(len(u)) ] )\n",
    "print(a, '\\n\\n')\n",
    "\n",
    "\n",
    "print('using a brodcasting operators: \\n')\n",
    "print(np.tile(u,(4,1)).T * np.tile(v,(4,1)) )"
   ]
  },
  {
   "cell_type": "markdown",
   "metadata": {},
   "source": [
    "3\\. Create a 10 by 6 matrix of random uniform numbers. Set all rows with any entry less than 0.1 to be zero\n",
    "\n",
    "Hint: Use the following numpy functions - np.random.random, np.any as well as Boolean indexing and the axis argument."
   ]
  },
  {
   "cell_type": "code",
   "execution_count": 3,
   "metadata": {},
   "outputs": [
    {
     "name": "stdout",
     "output_type": "stream",
     "text": [
      "[[0.19151945 0.62210877 0.43772774 0.78535858 0.77997581 0.27259261]\n",
      " [0.27646426 0.80187218 0.95813935 0.87593263 0.35781727 0.50099513]\n",
      " [0.         0.         0.         0.         0.         0.        ]\n",
      " [0.         0.         0.         0.         0.         0.        ]\n",
      " [0.9331401  0.65137814 0.39720258 0.78873014 0.31683612 0.56809865]\n",
      " [0.86912739 0.43617342 0.80214764 0.14376682 0.70426097 0.70458131]\n",
      " [0.         0.         0.         0.         0.         0.        ]\n",
      " [0.         0.         0.         0.         0.         0.        ]\n",
      " [0.         0.         0.         0.         0.         0.        ]\n",
      " [0.61744171 0.91212289 0.79052413 0.99208147 0.95880176 0.79196414]]\n"
     ]
    }
   ],
   "source": [
    "import numpy.random as npr\n",
    "import numpy as np\n",
    "npr.seed(1234)\n",
    "\n",
    "x = npr.rand(10,6)\n",
    "mask = x < 0.1\n",
    "x[mask.any(axis = 1)] = 0\n",
    "print(x)\n"
   ]
  },
  {
   "cell_type": "markdown",
   "metadata": {},
   "source": [
    "4\\. Use np.linspace to create an array of 100 numbers between 0 and 2π (includsive).\n",
    "\n",
    "  * Extract every 10th element using slice notation\n",
    "  * Reverse the array using slice notation\n",
    "  * Extract elements where the absolute difference between the sine and cosine functions evaluated at that element is less than 0.1\n",
    "  * Make a plot showing the sin and cos functions and indicate where they are close"
   ]
  },
  {
   "cell_type": "code",
   "execution_count": 4,
   "metadata": {},
   "outputs": [
    {
     "name": "stdout",
     "output_type": "stream",
     "text": [
      "[0.         0.06346652 0.12693304 0.19039955 0.25386607 0.31733259\n",
      " 0.38079911 0.44426563 0.50773215 0.57119866 0.63466518 0.6981317\n",
      " 0.76159822 0.82506474 0.88853126 0.95199777 1.01546429 1.07893081\n",
      " 1.14239733 1.20586385 1.26933037 1.33279688 1.3962634  1.45972992\n",
      " 1.52319644 1.58666296 1.65012947 1.71359599 1.77706251 1.84052903\n",
      " 1.90399555 1.96746207 2.03092858 2.0943951  2.15786162 2.22132814\n",
      " 2.28479466 2.34826118 2.41172769 2.47519421 2.53866073 2.60212725\n",
      " 2.66559377 2.72906028 2.7925268  2.85599332 2.91945984 2.98292636\n",
      " 3.04639288 3.10985939 3.17332591 3.23679243 3.30025895 3.36372547\n",
      " 3.42719199 3.4906585  3.55412502 3.61759154 3.68105806 3.74452458\n",
      " 3.8079911  3.87145761 3.93492413 3.99839065 4.06185717 4.12532369\n",
      " 4.1887902  4.25225672 4.31572324 4.37918976 4.44265628 4.5061228\n",
      " 4.56958931 4.63305583 4.69652235 4.75998887 4.82345539 4.88692191\n",
      " 4.95038842 5.01385494 5.07732146 5.14078798 5.2042545  5.26772102\n",
      " 5.33118753 5.39465405 5.45812057 5.52158709 5.58505361 5.64852012\n",
      " 5.71198664 5.77545316 5.83891968 5.9023862  5.96585272 6.02931923\n",
      " 6.09278575 6.15625227 6.21971879 6.28318531]\n",
      "[0.         0.63466518 1.26933037 1.90399555 2.53866073 3.17332591\n",
      " 3.8079911  4.44265628 5.07732146 5.71198664]\n",
      "[6.28318531 6.21971879 6.15625227 6.09278575 6.02931923 5.96585272\n",
      " 5.9023862  5.83891968 5.77545316 5.71198664 5.64852012 5.58505361\n",
      " 5.52158709 5.45812057 5.39465405 5.33118753 5.26772102 5.2042545\n",
      " 5.14078798 5.07732146 5.01385494 4.95038842 4.88692191 4.82345539\n",
      " 4.75998887 4.69652235 4.63305583 4.56958931 4.5061228  4.44265628\n",
      " 4.37918976 4.31572324 4.25225672 4.1887902  4.12532369 4.06185717\n",
      " 3.99839065 3.93492413 3.87145761 3.8079911  3.74452458 3.68105806\n",
      " 3.61759154 3.55412502 3.4906585  3.42719199 3.36372547 3.30025895\n",
      " 3.23679243 3.17332591 3.10985939 3.04639288 2.98292636 2.91945984\n",
      " 2.85599332 2.7925268  2.72906028 2.66559377 2.60212725 2.53866073\n",
      " 2.47519421 2.41172769 2.34826118 2.28479466 2.22132814 2.15786162\n",
      " 2.0943951  2.03092858 1.96746207 1.90399555 1.84052903 1.77706251\n",
      " 1.71359599 1.65012947 1.58666296 1.52319644 1.45972992 1.3962634\n",
      " 1.33279688 1.26933037 1.20586385 1.14239733 1.07893081 1.01546429\n",
      " 0.95199777 0.88853126 0.82506474 0.76159822 0.6981317  0.63466518\n",
      " 0.57119866 0.50773215 0.44426563 0.38079911 0.31733259 0.25386607\n",
      " 0.19039955 0.12693304 0.06346652 0.        ]\n",
      "[0.76159822 0.82506474 3.87145761 3.93492413]\n"
     ]
    },
    {
     "data": {
      "text/plain": [
       "<matplotlib.collections.PathCollection at 0x215baa9fd90>"
      ]
     },
     "execution_count": 4,
     "metadata": {},
     "output_type": "execute_result"
    },
    {
     "data": {
      "image/png": "[encoded data removed]",
      "text/plain": [
       "<Figure size 432x288 with 1 Axes>"
      ]
     },
     "metadata": {
      "needs_background": "light"
     },
     "output_type": "display_data"
    }
   ],
   "source": [
    "import matplotlib.pyplot as plt\n",
    "%matplotlib inline \n",
    "\n",
    "\n",
    "x = np.linspace(0,2*np.pi,100)\n",
    "print(x) \n",
    "\n",
    "print(x[::10]) \n",
    "\n",
    "print(x[::-1])\n",
    "\n",
    "print(x[np.abs(np.sin(x)-np.cos(x)) < 0.1]) \n",
    "plt.plot(x,np.sin(x),x,np.cos(x))\n",
    "\n",
    "\n",
    "xclose = x[np.abs(np.sin(x)-np.cos(x)) < 0.1]\n",
    "plt.scatter(xclose,np.sin(xclose), c = \"red\")"
   ]
  },
  {
   "cell_type": "markdown",
   "metadata": {},
   "source": [
    "5\\. Create a matrix that shows the 10 by 10 multiplication table.\n",
    "\n",
    " * Find the trace of the matrix\n",
    " * Extract the anto-diagonal (this should be ```array([10, 18, 24, 28, 30, 30, 28, 24, 18, 10])```)\n",
    " * Extract the diagnoal offset by 1 upwards (this should be ```array([ 2,  6, 12, 20, 30, 42, 56, 72, 90])```)"
   ]
  },
  {
   "cell_type": "code",
   "execution_count": 5,
   "metadata": {},
   "outputs": [
    {
     "name": "stdout",
     "output_type": "stream",
     "text": [
      "The matrix is:\n",
      " [[  1   2   3   4   5   6   7   8   9  10]\n",
      " [  2   4   6   8  10  12  14  16  18  20]\n",
      " [  3   6   9  12  15  18  21  24  27  30]\n",
      " [  4   8  12  16  20  24  28  32  36  40]\n",
      " [  5  10  15  20  25  30  35  40  45  50]\n",
      " [  6  12  18  24  30  36  42  48  54  60]\n",
      " [  7  14  21  28  35  42  49  56  63  70]\n",
      " [  8  16  24  32  40  48  56  64  72  80]\n",
      " [  9  18  27  36  45  54  63  72  81  90]\n",
      " [ 10  20  30  40  50  60  70  80  90 100]] \n",
      " and its trace is: 385\n",
      "\n",
      "The anti-diagonal is: [10 18 24 28 30 30 28 24 18 10]\n",
      "The diagnoal offset by 1 upwards is: [ 2  6 12 20 30 42 56 72 90]\n"
     ]
    }
   ],
   "source": [
    "multipl = np.array([i*j for i in range(1,11) for j in range(1,11)]).reshape(10,10)\n",
    "print('The matrix is:\\n',multipl, '\\n and its trace is:', np.trace(multipl))\n",
    "\n",
    "\n",
    "\n",
    "print('\\nThe anti-diagonal is:', np.diag(multipl[::-1,:]))\n",
    "\n",
    "mask = [(i-1,i) for i in range (1,10)] \n",
    "\n",
    "print('The diagnoal offset by 1 upwards is:', np.diag(multipl,1)) "
   ]
  },
  {
   "cell_type": "markdown",
   "metadata": {},
   "source": [
    "6\\. Use broadcasting to create a grid of distances\n",
    "\n",
    "Route 66 crosses the following cities in the US: Chicago, Springfield, Saint-Louis, Tulsa, Oklahoma City, Amarillo, Santa Fe, Albuquerque, Flagstaff, Los Angeles\n",
    "The corresponding positions in miles are: 0, 198, 303, 736, 871, 1175, 1475, 1544, 1913, 2448\n",
    "\n",
    "  * Construct a 2D grid of distances among each city along Route 66\n",
    "  * Convert that in km (those savages...)"
   ]
  },
  {
   "cell_type": "code",
   "execution_count": 6,
   "metadata": {},
   "outputs": [
    {
     "name": "stdout",
     "output_type": "stream",
     "text": [
      "The 0 coloumn rappresents --> Chicago <--  compared with the other cities' distances (in miles)\n",
      "\n",
      "The 1 coloumn rappresents --> Springfield <--  compared with the other cities' distances (in miles)\n",
      "\n",
      "The 2 coloumn rappresents --> St.Louis <--  compared with the other cities' distances (in miles)\n",
      "\n",
      "The 3 coloumn rappresents --> Tulsa <--  compared with the other cities' distances (in miles)\n",
      "\n",
      "The 4 coloumn rappresents --> Oklahoma City <--  compared with the other cities' distances (in miles)\n",
      "\n",
      "The 5 coloumn rappresents --> Amarillo <--  compared with the other cities' distances (in miles)\n",
      "\n",
      "The 6 coloumn rappresents --> Santa Fe <--  compared with the other cities' distances (in miles)\n",
      "\n",
      "The 7 coloumn rappresents --> Albuquerque <--  compared with the other cities' distances (in miles)\n",
      "\n",
      "The 8 coloumn rappresents --> Flagstaff <--  compared with the other cities' distances (in miles)\n",
      "\n",
      "The 9 coloumn rappresents --> Los Angeles <--  compared with the other cities' distances (in miles)\n",
      "\n",
      "[[   0  198  303  736  871 1175 1475 1544 1913 2448]\n",
      " [ 198    0  105  538  673  977 1277 1346 1715 2250]\n",
      " [ 303  105    0  433  568  872 1172 1241 1610 2145]\n",
      " [ 736  538  433    0  135  439  739  808 1177 1712]\n",
      " [ 871  673  568  135    0  304  604  673 1042 1577]\n",
      " [1175  977  872  439  304    0  300  369  738 1273]\n",
      " [1475 1277 1172  739  604  300    0   69  438  973]\n",
      " [1544 1346 1241  808  673  369   69    0  369  904]\n",
      " [1913 1715 1610 1177 1042  738  438  369    0  535]\n",
      " [2448 2250 2145 1712 1577 1273  973  904  535    0]] \n",
      "\n",
      "\n",
      "In km the previous matrix became:\n",
      "\n",
      " [[   0.    318.78  487.83 1184.96 1402.31 1891.75 2374.75 2485.84 3079.93\n",
      "  3941.28]\n",
      " [ 318.78    0.    169.05  866.18 1083.53 1572.97 2055.97 2167.06 2761.15\n",
      "  3622.5 ]\n",
      " [ 487.83  169.05    0.    697.13  914.48 1403.92 1886.92 1998.01 2592.1\n",
      "  3453.45]\n",
      " [1184.96  866.18  697.13    0.    217.35  706.79 1189.79 1300.88 1894.97\n",
      "  2756.32]\n",
      " [1402.31 1083.53  914.48  217.35    0.    489.44  972.44 1083.53 1677.62\n",
      "  2538.97]\n",
      " [1891.75 1572.97 1403.92  706.79  489.44    0.    483.    594.09 1188.18\n",
      "  2049.53]\n",
      " [2374.75 2055.97 1886.92 1189.79  972.44  483.      0.    111.09  705.18\n",
      "  1566.53]\n",
      " [2485.84 2167.06 1998.01 1300.88 1083.53  594.09  111.09    0.    594.09\n",
      "  1455.44]\n",
      " [3079.93 2761.15 2592.1  1894.97 1677.62 1188.18  705.18  594.09    0.\n",
      "   861.35]\n",
      " [3941.28 3622.5  3453.45 2756.32 2538.97 2049.53 1566.53 1455.44  861.35\n",
      "     0.  ]]\n"
     ]
    }
   ],
   "source": [
    "city =np.array(['Chicago', 'Springfield', 'St.Louis', 'Tulsa', 'Oklahoma City', 'Amarillo', 'Santa Fe', 'Albuquerque', 'Flagstaff', 'Los Angeles'])\n",
    "distgrid = np.array([0,198,303,736,871,1175,1475,1544,1913,2448])\n",
    "distgrid = distgrid[:,np.newaxis]\n",
    "\n",
    "recipr_dist=abs(distgrid-distgrid.T)\n",
    "for i in range(distgrid.shape[0]):\n",
    "    print('The %i coloumn rappresents -->'%i, city[i], \"<--  compared with the other cities' distances (in miles)\\n\")\n",
    "print(recipr_dist, '\\n\\n')\n",
    "\n",
    "\n",
    "\n",
    "print('In km the previous matrix became:\\n\\n',np.abs(distgrid-distgrid.T)*1.61)"
   ]
  },
  {
   "cell_type": "markdown",
   "metadata": {},
   "source": [
    "7\\. Prime numbers sieve: compute the prime numbers in the 0-N (N=99 to start with) range with a sieve (mask).\n",
    "  * Constract a shape (100,) boolean array, the mask\n",
    "  * Identify the multiples of each number starting from 2 and set accordingly the corresponding mask element\n",
    "  * Apply the mask to obtain an array of ordered prime numbers\n",
    "  * Check the performances (timeit); how does it scale with N?\n",
    "  * Implement the optimization suggested in the [sieve of Eratosthenes](https://en.wikipedia.org/wiki/Sieve_of_Eratosthenes)"
   ]
  },
  {
   "cell_type": "code",
   "execution_count": 7,
   "metadata": {},
   "outputs": [
    {
     "name": "stdout",
     "output_type": "stream",
     "text": [
      "56.4 µs ± 2.36 µs per loop (mean ± std. dev. of 7 runs, 10000 loops each)\n",
      "30 µs ± 3.07 µs per loop (mean ± std. dev. of 7 runs, 10000 loops each)\n",
      "prime numbers from 0 to 100 are\n",
      " [ 2  3  5  7 11 13 17 19 23 29 31 37 41 43 47 53 59 61 67 71 73 79 83 89\n",
      " 97] \n",
      " [ 2  3  5  7 11 13 17 19 23 29 31 37 41 43 47 53 59 61 67 71 73 79 83 89\n",
      " 97]\n",
      "54 µs ± 1.46 µs per loop (mean ± std. dev. of 7 runs, 10000 loops each)\n",
      "27.5 µs ± 2.2 µs per loop (mean ± std. dev. of 7 runs, 10000 loops each)\n",
      "126 µs ± 17.8 µs per loop (mean ± std. dev. of 7 runs, 10000 loops each)\n",
      "59.7 µs ± 3.73 µs per loop (mean ± std. dev. of 7 runs, 10000 loops each)\n"
     ]
    }
   ],
   "source": [
    "N = 100\n",
    "mask = np.ones((N,),bool)\n",
    "\n",
    "mask[0] = mask[1] = False \n",
    "\n",
    "a = np.arange(0,N)\n",
    "\n",
    "def prime(num,m,n) :\n",
    "    for i in range(2,n) :\n",
    "        m[2*i::i] = False \n",
    "    return num[m]\n",
    "def prime_1(num,m,n) :\n",
    "    for i in range(2,int(n/2)) :\n",
    "        m[2*i::i] = False\n",
    "    return num[m]\n",
    "\n",
    "%timeit prime(a,mask,N)\n",
    "%timeit prime_1(a,mask,N)\n",
    "print(\"prime numbers from 0 to\",N,\"are\\n\",prime(a,mask,N),\"\\n\",prime_1(a,mask,N))\n",
    "# Vary N to understand the performances\n",
    "for n in [k*N for k in range(1,3)] :\n",
    "    %timeit prime(a,mask,n)\n",
    "    %timeit prime_1(a,mask,n)"
   ]
  },
  {
   "cell_type": "markdown",
   "metadata": {},
   "source": [
    "8\\. Diffusion using random walk\n",
    "\n",
    "Consider a simple random walk process: at each step in time, a walker jumps right or left (+1 or -1) with equal probability. The goal is to find the typical distance from the origin of a random walker after a given amount of time. \n",
    "To do that, let's simulate many walkers and create a 2D array with each walker as a raw and the actual time evolution as columns\n",
    "\n",
    "  * Take 1000 walkers and let them walk for 200 steps\n",
    "  * Use randint to create a 2D array of size walkers x steps with values -1 or 1\n",
    "  * Build the actual walking distances for each walker (i.e. another 2D array \"summing on each raw\")\n",
    "  * Take the square of that 2D array (elementwise)\n",
    "  * Compute the mean of the squared distances at each step (i.e. the mean along the columns)\n",
    "  * Plot the average distances (sqrt(distance\\*\\*2)) as a function of time (step)\n",
    "  \n",
    "Did you get what you expected?"
   ]
  },
  {
   "cell_type": "code",
   "execution_count": 8,
   "metadata": {},
   "outputs": [
    {
     "data": {
      "text/plain": [
       "[<matplotlib.lines.Line2D at 0x215bab615e0>]"
      ]
     },
     "execution_count": 8,
     "metadata": {},
     "output_type": "execute_result"
    },
    {
     "data": {
      "image/png": "[encoded data removed]",
      "text/plain": [
       "<Figure size 432x288 with 1 Axes>"
      ]
     },
     "metadata": {
      "needs_background": "light"
     },
     "output_type": "display_data"
    }
   ],
   "source": [
    "import numpy.random as npr\n",
    "import matplotlib.pyplot as plt\n",
    "npr.seed(1234) \n",
    "walkers = np.array([npr.choice([-1,1]) for i in range(0,200000)]).reshape(1000,200)\n",
    "\n",
    "\n",
    "walksum = np.array([npr.choice([-1,1]) for i in range(0,200000)]).reshape(1000,200)\n",
    "for i in range(1,200) : \n",
    "    walksum[:,i] += walksum[:,i-1] \n",
    "\n",
    "    \n",
    "means = np.mean(walksum**2, axis = 0)\n",
    "%matplotlib inline\n",
    "t = np.linspace(0,200,200)\n",
    "\n",
    "plt.plot(t,np.sqrt(means))"
   ]
  },
  {
   "cell_type": "markdown",
   "metadata": {},
   "source": [
    "9\\. Analyze a data file \n",
    "  * Download the population of hares, lynxes and carrots at the beginning of the last century.\n",
    "    ```python\n",
    "    ! wget https://www.dropbox.com/s/3vigxoqayo389uc/populations.txt\n",
    "    ```\n",
    "\n",
    "  * Check the content by looking within the file\n",
    "  * Load the data (use an appropriate numpy method) into a 2D array\n",
    "  * Create arrays out of the columns, the arrays being (in order): *year*, *hares*, *lynxes*, *carrots* \n",
    "  * Plot the 3 populations over the years\n",
    "  * Compute the main statistical properties of the dataset (mean, std, correlations, etc.)\n",
    "  * Which species has the highest population each year?\n",
    "\n",
    "Do you feel there is some evident correlation here? [Studies](https://www.enr.gov.nt.ca/en/services/lynx/lynx-snowshoe-hare-cycle) tend to believe so."
   ]
  },
  {
   "cell_type": "code",
   "execution_count": 9,
   "metadata": {},
   "outputs": [
    {
     "name": "stdout",
     "output_type": "stream",
     "text": [
      "The main statistical properties for hares are:\n",
      "sum 715700.0\n",
      "min 7600.0\n",
      "argmin 17\n",
      "mean 34080.95238095238\n",
      "median 25400.0\n",
      "std 20897.906458089667\n",
      "The main statistical properties for lynxes are:\n",
      "sum 423500.0\n",
      "min 4000.0\n",
      "argmin 0\n",
      "mean 20166.666666666668\n",
      "median 12300.0\n",
      "std 16254.591536908763\n",
      "The main statistical properties for carrots are:\n",
      "sum 890400.0\n",
      "min 36700.0\n",
      "argmin 16\n",
      "mean 42400.0\n",
      "median 41800.0\n",
      "std 3322.5062255844787\n",
      "Max populations over years\n",
      "Carrots  ---> 1900\n",
      "Carrots  ---> 1901\n",
      "Hares  ---> 1902\n",
      "Hares  ---> 1903\n",
      "Lynxes  ---> 1904\n",
      "Lynxes  ---> 1905\n",
      "Carrots  ---> 1906\n",
      "Carrots  ---> 1907\n",
      "Carrots  ---> 1908\n",
      "Carrots  ---> 1909\n",
      "Carrots  ---> 1910\n",
      "Carrots  ---> 1911\n",
      "Hares  ---> 1912\n",
      "Hares  ---> 1913\n",
      "Hares  ---> 1914\n",
      "Lynxes  ---> 1915\n",
      "Carrots  ---> 1916\n",
      "Carrots  ---> 1917\n",
      "Carrots  ---> 1918\n",
      "Carrots  ---> 1919\n",
      "Carrots  ---> 1920\n"
     ]
    },
    {
     "data": {
      "image/png": "[encoded data removed]",
      "text/plain": [
       "<Figure size 432x288 with 1 Axes>"
      ]
     },
     "metadata": {
      "needs_background": "light"
     },
     "output_type": "display_data"
    },
    {
     "data": {
      "image/png": "[encoded data removed]",
      "text/plain": [
       "<Figure size 432x288 with 1 Axes>"
      ]
     },
     "metadata": {
      "needs_background": "light"
     },
     "output_type": "display_data"
    },
    {
     "data": {
      "image/png": "[encoded data removed]",
      "text/plain": [
       "<Figure size 432x288 with 1 Axes>"
      ]
     },
     "metadata": {
      "needs_background": "light"
     },
     "output_type": "display_data"
    }
   ],
   "source": [
    "import numpy as np\n",
    "import matplotlib.pyplot as plt\n",
    "\n",
    "\n",
    "population = np.loadtxt(\"populations.txt\", skiprows=1)\n",
    "\n",
    "year = population[:,0]\n",
    "hares = population[:,1]\n",
    "lynxes = population[:,2]\n",
    "carrots = population[:,3]\n",
    "\n",
    "\n",
    "plt.figure()\n",
    "plt.plot(year,hares, 'y')\n",
    "plt.xlabel('years')\n",
    "plt.ylabel('hares')\n",
    "\n",
    "plt.figure()\n",
    "plt.plot(year,lynxes, 'r')\n",
    "plt.xlabel('years')\n",
    "plt.ylabel('lynx')\n",
    "\n",
    "plt.figure()\n",
    "plt.plot(year,carrots, 'b')\n",
    "plt.xlabel('years')\n",
    "plt.ylabel('carrot')\n",
    "\n",
    "print(\"The main statistical properties for hares are:\")\n",
    "for function in ['sum','min','argmin','mean','median','std']:\n",
    "    print (function, getattr(np, function)(hares)) # \n",
    "print(\"The main statistical properties for lynxes are:\")\n",
    "for function in ['sum','min','argmin','mean','median','std']:\n",
    "    print (function, getattr(np, function)(lynxes)) \n",
    "print(\"The main statistical properties for carrots are:\")\n",
    "for function in ['sum','min','argmin','mean','median','std']:\n",
    "    print (function, getattr(np, function)(carrots))\n",
    "    \n",
    "titles=['Hares','Lynxes','Carrots']   \n",
    "print(\"Max populations over years\")\n",
    "for i in population :\n",
    "    print(titles[np.argmax(i[1:])],\" --->\",int(i[0]),)"
   ]
  }
 ],
 "metadata": {
  "kernelspec": {
   "display_name": "Python 3",
   "language": "python",
   "name": "python3"
  },
  "language_info": {
   "codemirror_mode": {
    "name": "ipython",
    "version": 3
   },
   "file_extension": ".py",
   "mimetype": "text/x-python",
   "name": "python",
   "nbconvert_exporter": "python",
   "pygments_lexer": "ipython3",
   "version": "3.8.3"
  }
 },
 "nbformat": 4,
 "nbformat_minor": 2
}
