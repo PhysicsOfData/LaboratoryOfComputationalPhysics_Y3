{
 "cells": [
  {
   "cell_type": "code",
   "execution_count": null,
   "metadata": {},
   "outputs": [],
   "source": [
    "import numpy as np\n",
    "import matplotlib.pyplot as plt\n",
    "from scipy import linalg as la\n",
    "import pandas as pd\n",
    "from sklearn.decomposition import PCA\n",
    "import scipy as sc"
   ]
  },
  {
   "cell_type": "markdown",
   "metadata": {},
   "source": [
    "1. Create a random list of number and then save it to a text file named \"simple_data.txt\""
   ]
  },
  {
   "cell_type": "code",
   "execution_count": null,
   "metadata": {},
   "outputs": [],
   "source": [
    "def main():\n",
    "    import random\n",
    "    outfile = open('simple_data.txt', 'w')\n",
    "    for count in range(15):\n",
    "         num = random.randint(1, 100)   \n",
    "         outfile.write(str(num) + ' ')  \n",
    "    outfile.write(str(num))\n",
    "    outfile.close()\n",
    "    print('Data written to simple_data.txt')\n",
    "main()\n",
    "simple_data = open(\"simple_data.txt\", \"r\")\n",
    "print(simple_data.read())"
   ]
  },
  {
   "cell_type": "markdown",
   "metadata": {},
   "source": [
    "2. Create a random matrix of 5x5 and then save it to a text file named \"data.txt\""
   ]
  },
  {
   "cell_type": "code",
   "execution_count": null,
   "metadata": {},
   "outputs": [],
   "source": [
    "a=np.random.rand(5,5)\n",
    "print(a)\n",
    "for i in range(5):\n",
    "    for j in range(5):\n",
    "        file=open(\"data.txt\",\"a\")\n",
    "        data=str(a[i][j])\n",
    "        file.write(data)\n",
    "        file.close()"
   ]
  },
  {
   "cell_type": "markdown",
   "metadata": {},
   "source": [
    "3. Load the saved txt file of point 2 and convert it to a csv file"
   ]
  },
  {
   "cell_type": "code",
   "execution_count": null,
   "metadata": {},
   "outputs": [],
   "source": [
    "import pandas as pd\n",
    "read_file = pd.read_csv (r'C:\\Users\\simple_data.txt')\n",
    "read_file.to_csv (r'C:\\Users\\new.csv', index=None)\n",
    "\n",
    "# ----------------\n",
    "\n",
    "import csv\n",
    "with open('simple_data.txt', 'r') as in_file:\n",
    "    stripped = (line.strip() for line in in_file)\n",
    "    lines = (line.split(\",\") for line in stripped if line)\n",
    "    with open('log.csv', 'w') as out_file:\n",
    "        writer = csv.writer(out_file)\n",
    "        writer.writerow(('title', 'intro'))\n",
    "        writer.writerow(lines)"
   ]
  },
  {
   "cell_type": "markdown",
   "metadata": {},
   "source": [
    "4. load the binary file named credit_card.dat and convert the data into the real credit-card number. Each line correspond to a credit card number. Each character is composed by 6 bit (even the space) and the last 4 bit are just a padding"
   ]
  },
  {
   "cell_type": "code",
   "execution_count": null,
   "metadata": {},
   "outputs": [],
   "source": [
    "file=open(\"credit_card.dat\",\"r\")\n",
    "content=file.read()\n",
    "file.close()\n",
    "for i in content.splitlines():\n",
    "    number=i\n",
    "    if number==\"100000\":  #ASCII code for Space\n",
    "        print(\" \",end=\"\")\n",
    "    else:\n",
    "        print(int(number, 2),end=\"\")"
   ]
  },
  {
   "cell_type": "markdown",
   "metadata": {},
   "source": [
    "5. Load the file \"user_data.json\", filter the data by the \"CreditCardType\" field equals to \"American Express\". Than save the data a to CSV."
   ]
  },
  {
   "cell_type": "code",
   "execution_count": null,
   "metadata": {},
   "outputs": [],
   "source": [
    "import pandas as pd\n",
    "df = pd.read_json (r'C:\\Users\\csvtojson.json')\n",
    "df.to_csv (r'C:\\Users\\jsontocsv.csv', index = None)"
   ]
  },
  {
   "cell_type": "markdown",
   "metadata": {},
   "source": [
    "6. Load the file from this url: https://www.dropbox.com/s/7u3lm737ogbqsg8/mushrooms_categorized.csv?dl=1 with Pandas."
   ]
  },
  {
   "cell_type": "code",
   "execution_count": null,
   "metadata": {},
   "outputs": [],
   "source": [
    "data = pd.read_csv('mushrooms_categorized.csv')\n",
    "print(data.info())\n",
    "print(data.head())\n",
    "plt.hist(data['class'])\n",
    "plt.show()"
   ]
  },
  {
   "cell_type": "markdown",
   "metadata": {},
   "source": [
    "7. Load the remote file https://www.dropbox.com/s/vkl89yce7xjdq4n/regression_generated.csv?dl=1 with Pandas and plot a scatter plot all possible combination of the following fields:"
   ]
  },
  {
   "cell_type": "code",
   "execution_count": null,
   "metadata": {},
   "outputs": [],
   "source": [
    "\n",
    "\n",
    "plt.style.use('seaborn')\n",
    "\n",
    "df = pd.read_csv('regression_generated.csv')\n",
    "plt.figure()\n",
    "\n",
    "plt.scatter(df['features_1'],df['features_2'])\n",
    "plt.figure()\n",
    "\n",
    "plt.scatter(df['features_2'],df['features_1'])\n",
    "plt.figure()\n",
    "\n",
    "plt.scatter(df['features_1'],df['features_3'])\n",
    "plt.figure()\n",
    "\n",
    "plt.scatter(df['features_3'],df['features_1'])\n",
    "plt.figure()\n",
    "\n",
    "plt.scatter(df['features_2'],df['features_3'])\n",
    "plt.figure()\n",
    "\n",
    "plt.scatter(df['features_3'],df['features_2'])\n",
    "plt.figure()"
   ]
  },
  {
   "cell_type": "markdown",
   "metadata": {},
   "source": [
    "8. Load the same file of point 6, and convert the file to json with Pandas."
   ]
  },
  {
   "cell_type": "code",
   "execution_count": null,
   "metadata": {},
   "outputs": [],
   "source": [
    "import pandas as pd\n",
    "df = pd.read_csv (r'C:\\Users\\mushrooms_categorized.csv')\n",
    "df.to_json (r'C:\\Users\\csvtojson.json')"
   ]
  }
 ],
 "metadata": {
  "kernelspec": {
   "display_name": "Python 3",
   "language": "python",
   "name": "python3"
  },
  "language_info": {
   "codemirror_mode": {
    "name": "ipython",
    "version": 3
   },
   "file_extension": ".py",
   "mimetype": "text/x-python",
   "name": "python",
   "nbconvert_exporter": "python",
   "pygments_lexer": "ipython3",
   "version": "3.8.3"
  }
 },
 "nbformat": 4,
 "nbformat_minor": 4
}
