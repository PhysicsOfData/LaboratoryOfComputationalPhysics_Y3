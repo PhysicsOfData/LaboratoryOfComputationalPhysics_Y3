{
 "cells": [
  {
   "cell_type": "markdown",
   "metadata": {},
   "source": [
    "# Data science is OSEMN\n",
    "\n",
    "According to a popular model, the elements of data science are\n",
    "\n",
    "* Obtaining data\n",
    "* Scrubbing data\n",
    "* Exploring data\n",
    "* Modeling data\n",
    "* iNterpreting data\n",
    "\n",
    "and hence the acronym OSEMN, pronounced as “Awesome”.\n",
    "\n",
    "We will start with the **O**, moving towards the rest later, but first let's have a quick look at what it all boils down to:"
   ]
  },
  {
   "cell_type": "code",
<<<<<<< HEAD
   "execution_count": 1,
   "metadata": {},
   "outputs": [
    {
     "data": {
      "text/plain": [
       "<matplotlib.legend.Legend at 0x1c918c60280>"
      ]
     },
     "execution_count": 1,
     "metadata": {},
     "output_type": "execute_result"
    },
    {
     "data": {
      "image/png": "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\n",
      "text/plain": [
       "<Figure size 432x288 with 1 Axes>"
      ]
     },
     "metadata": {
      "needs_background": "light"
     },
     "output_type": "display_data"
    }
   ],
=======
   "execution_count": null,
   "metadata": {},
   "outputs": [],
>>>>>>> master
   "source": [
    "import numpy as np\n",
    "data = np.loadtxt('populations.txt')\n",
    "year, hares, lynxes, carrots = data.T # trick: columns to variables\n",
    "\n",
    "\n",
    "from matplotlib import pyplot as plt\n",
    "%matplotlib inline\n",
    "\n",
    "plt.axes([0.2, 0.1, 0.5, 0.8]) \n",
    "plt.plot(year, hares, year, lynxes, year, carrots) \n",
    "plt.legend(('Hare', 'Lynx', 'Carrot'), loc=(1.05, 0.5)) "
   ]
  },
  {
   "cell_type": "markdown",
   "metadata": {},
   "source": [
    "By plotting the data a clear (and reasonable) correlations between pray and predator becomes evident. How can it be quantified? Is that statistical significant? What about the correlation between carrots and hares? Is that evident? Is that significant?\n",
    "\n",
    "Finding correlations in data is the main goal of data science, though that is not the end of the story: as this precious [site](http://tylervigen.com/spurious-correlations) demonstrates, **correlations is not causation**. \n",
    "\n",
    "(I've been invited to a school of Philosophy of Science to talk about the role of ML in Physics and they even asked me to write a summary of that. You find it [here](https://www.dropbox.com/s/lcjpgsrsoi0iyq3/Fisica_ML.docx), in Italian.. (humanists like that better than English))\n"
   ]
  },
  {
   "cell_type": "markdown",
   "metadata": {},
   "source": [
    "*Exercise*: write an algorithm that determins and quantifies a correlation between two time series. Use as an example the hare-lynx-carrot dataset."
   ]
  },
  {
   "cell_type": "markdown",
   "metadata": {},
   "source": [
    "# Obtaining and processing (remote) data\n",
    "\n",
    "Accessing data is a really serious business. Data can sit on public or on remote machines. In the case of the former, things may be straightforward, whereas in the latter case you need to worry about a few things.\n",
    "\n",
    "In both cases, depending on the size of the dataset, the managment of the dataset can become extremely complicated. We won't deal here with large datasets, which require a whole course per se.., but still care should be put. In particular, it is not wise to keep (and even worse commit) data into a git repository!\n",
    "\n",
    "The suggestion is then to create a directory somewhere and copy the example datasets there. From a terminal:\n",
    "\n",
    "```bash\n",
    "\n",
    "# create a data directory in your home directory\n",
    "mkdir ~/data/\n",
    "\n",
    "# check the content (it's empty now of course)\n",
    "ls -ltr ~/data/\n",
    "\n",
    "# in the case you need to move there:\n",
    "cd ~/data/\n",
    "```"
   ]
  },
  {
   "cell_type": "markdown",
   "metadata": {},
   "source": [
    "### Download data from a server\n",
    "\n",
    "A nice set of interesting datasets can be found on this [server](https://archive.ics.uci.edu/ml/datasets.php) that collects training/test data for machine learning developments. Several of those pertein physical sciences, it is worth browsing through those.\n",
    "\n",
    "You can download any of those, in the following we will consider a dataset from the MAGIC experiment. For that we will the `wget` command"
   ]
  },
  {
   "cell_type": "code",
   "execution_count": null,
   "metadata": {},
   "outputs": [],
   "source": [
    "# get the dataset and its description on the proper data directory\n",
    "!wget https://archive.ics.uci.edu/ml/machine-learning-databases/magic/magic04.data -P ~/data/\n",
    "!wget https://archive.ics.uci.edu/ml/machine-learning-databases/magic/magic04.names -P ~/data/    "
   ]
  },
  {
   "cell_type": "code",
   "execution_count": null,
   "metadata": {},
   "outputs": [],
   "source": [
    "# print the description. This can (and better) be done from a terminal\n",
    "!cat ~/data/magic04.names"
   ]
  },
  {
   "cell_type": "markdown",
   "metadata": {},
   "source": [
    "It is possible to download and load remote files via their url's directly from within python (and thus on a jupyter session). This is a rather powerful tool as it allows http communications, IO streaming and so on.\n",
    "\n",
    "Care should be put as the dataset is stored in memory."
   ]
  },
  {
   "cell_type": "code",
<<<<<<< HEAD
   "execution_count": 2,
   "metadata": {},
   "outputs": [
    {
     "name": "stdout",
     "output_type": "stream",
     "text": [
      "b'1. Title of Database: MAGIC gamma telescope data 2004\\n'\n",
      "b'\\n'\n",
      "b'2. Sources:\\n'\n",
      "b'\\n'\n",
      "b'   (a) Original owner of the database:\\n'\n",
      "b'\\n'\n",
      "b'       R. K. Bock\\n'\n",
      "b'       Major Atmospheric Gamma Imaging Cherenkov Telescope project (MAGIC)\\n'\n",
      "b'       http://wwwmagic.mppmu.mpg.de\\n'\n",
      "b'       rkb@mail.cern.ch\\n'\n",
      "b'\\n'\n",
      "b'   (b) Donor:\\n'\n",
      "b'\\n'\n",
      "b'       P. Savicky\\n'\n",
      "b'       Institute of Computer Science, AS of CR\\n'\n",
      "b'       Czech Republic\\n'\n",
      "b'       savicky@cs.cas.cz\\n'\n",
      "b'\\n'\n",
      "b'   (c) Date received: May 2007\\n'\n",
      "b'\\n'\n",
      "b'3. Past Usage:\\n'\n",
      "b'\\n'\n",
      "b'   (a) Bock, R.K., Chilingarian, A., Gaug, M., Hakl, F., Hengstebeck, T.,\\n'\n",
      "b'       Jirina, M., Klaschka, J., Kotrc, E., Savicky, P., Towers, S.,\\n'\n",
      "b'       Vaicilius, A., Wittek W. (2004).\\n'\n",
      "b'       Methods for multidimensional event classification: a case study\\n'\n",
      "b'       using images from a Cherenkov gamma-ray telescope.\\n'\n",
      "b'       Nucl.Instr.Meth. A, 516, pp. 511-528.\\n'\n",
      "b'\\n'\n",
      "b'   (b) P. Savicky, E. Kotrc.\\n'\n",
      "b'       Experimental Study of Leaf Confidences for Random Forest.\\n'\n",
      "b'       Proceedings of COMPSTAT 2004, In: Computational Statistics.\\n'\n",
      "b'       (Ed.: Antoch J.) - Heidelberg, Physica Verlag 2004, pp. 1767-1774.\\n'\n",
      "b'\\n'\n",
      "b'   (c) J. Dvorak, P. Savicky.\\n'\n",
      "b'       Softening Splits in Decision Trees Using Simulated Annealing.\\n'\n",
      "b'       Proceedings of ICANNGA 2007, Warsaw, (Ed.: Beliczynski et. al),\\n'\n",
      "b'       Part I, LNCS 4431, pp. 721-729.\\n'\n",
      "b'\\n'\n",
      "b'4. Relevant Information:\\n'\n",
      "b'\\n'\n",
      "b'   The data are MC generated (see below) to simulate registration of high energy\\n'\n",
      "b'   gamma particles in a ground-based atmospheric Cherenkov gamma telescope using the\\n'\n",
      "b'   imaging technique. Cherenkov gamma telescope observes high energy gamma rays,\\n'\n",
      "b'   taking advantage of the radiation emitted by charged particles produced\\n'\n",
      "b'   inside the electromagnetic showers initiated by the gammas, and developing in the\\n'\n",
      "b'   atmosphere. This Cherenkov radiation (of visible to UV wavelengths) leaks\\n'\n",
      "b'   through the atmosphere and gets recorded in the detector, allowing reconstruction\\n'\n",
      "b'   of the shower parameters. The available information consists of pulses left by\\n'\n",
      "b'   the incoming Cherenkov photons on the photomultiplier tubes, arranged in a\\n'\n",
      "b'   plane, the camera. Depending on the energy of the primary gamma, a total of\\n'\n",
      "b'   few hundreds to some 10000 Cherenkov photons get collected, in patterns\\n'\n",
      "b'   (called the shower image), allowing to discriminate statistically those\\n'\n",
      "b'   caused by primary gammas (signal) from the images of hadronic showers\\n'\n",
      "b'   initiated by cosmic rays in the upper atmosphere (background).\\n'\n",
      "b'\\n'\n",
      "b'   Typically, the image of a shower after some pre-processing is an elongated\\n'\n",
      "b'   cluster. Its long axis is oriented towards the camera center if the shower axis\\n'\n",
      "b\"   is parallel to the telescope's optical axis, i.e. if the telescope axis is\\n\"\n",
      "b'   directed towards a point source. A principal component analysis is performed\\n'\n",
      "b'   in the camera plane, which results in a correlation axis and defines an ellipse.\\n'\n",
      "b'   If the depositions were distributed as a bivariate Gaussian, this would be\\n'\n",
      "b'   an equidensity ellipse. The characteristic parameters of this ellipse\\n'\n",
      "b'   (often called Hillas parameters) are among the image parameters that can be\\n'\n",
      "b'   used for discrimination. The energy depositions are typically asymmetric\\n'\n",
      "b'   along the major axis, and this asymmetry can also be used in discrimination.\\n'\n",
      "b'   There are, in addition, further discriminating characteristics, like the\\n'\n",
      "b'   extent of the cluster in the image plane, or the total sum of depositions.\\n'\n",
      "b'\\n'\n",
      "b'   The data set was generated by a Monte Carlo program, Corsika, described in \\n'\n",
      "b'      D. Heck et al., CORSIKA, A Monte Carlo code to simulate extensive air showers,\\n'\n",
      "b'      Forschungszentrum Karlsruhe FZKA 6019 (1998).\\n'\n",
      "b'   The program was run with parameters allowing to observe events with energies down\\n'\n",
      "b'   to below 50 GeV.\\n'\n",
      "b'\\n'\n",
      "b'5. Number of Instances: 19020\\n'\n",
      "b'\\n'\n",
      "b'6. Number of Attributes: 11 (including the class)\\n'\n",
      "b'\\n'\n",
      "b'7. Attribute information:\\n'\n",
      "b'\\n'\n",
      "b'    1.  fLength:  continuous  # major axis of ellipse [mm]\\n'\n",
      "b'    2.  fWidth:   continuous  # minor axis of ellipse [mm] \\n'\n",
      "b'    3.  fSize:    continuous  # 10-log of sum of content of all pixels [in #phot]\\n'\n",
      "b'    4.  fConc:    continuous  # ratio of sum of two highest pixels over fSize  [ratio]\\n'\n",
      "b'    5.  fConc1:   continuous  # ratio of highest pixel over fSize  [ratio]\\n'\n",
      "b'    6.  fAsym:    continuous  # distance from highest pixel to center, projected onto major axis [mm]\\n'\n",
      "b'    7.  fM3Long:  continuous  # 3rd root of third moment along major axis  [mm] \\n'\n",
      "b'    8.  fM3Trans: continuous  # 3rd root of third moment along minor axis  [mm]\\n'\n",
      "b'    9.  fAlpha:   continuous  # angle of major axis with vector to origin [deg]\\n'\n",
      "b'   10.  fDist:    continuous  # distance from origin to center of ellipse [mm]\\n'\n",
      "b'   11.  class:    g,h         # gamma (signal), hadron (background)\\n'\n",
      "b'\\n'\n",
      "b'8. Missing Attribute Values: None\\n'\n",
      "b'\\n'\n",
      "b'9. Class Distribution:\\n'\n",
      "b'\\n'\n",
      "b'   g = gamma (signal):     12332\\n'\n",
      "b'   h = hadron (background): 6688\\n'\n",
      "b'\\n'\n",
      "b'   For technical reasons, the number of h events is underestimated.\\n'\n",
      "b'   In the real data, the h class represents the majority of the events.\\n'\n",
      "b'\\n'\n",
      "b'   The simple classification accuracy is not meaningful for this data, since\\n'\n",
      "b'   classifying a background event as signal is worse than classifying a signal\\n'\n",
      "b'   event as background. For comparison of different classifiers an ROC curve\\n'\n",
      "b'   has to be used. The relevant points on this curve are those, where the\\n'\n",
      "b'   probability of accepting a background event as signal is below one of the\\n'\n",
      "b'   following thresholds: 0.01, 0.02, 0.05, 0.1, 0.2 depending on the required\\n'\n",
      "b'   quality of the sample of the accepted events for different experiments.\\n'\n",
      "b'\\n'\n"
     ]
    }
   ],
=======
   "execution_count": null,
   "metadata": {},
   "outputs": [],
>>>>>>> master
   "source": [
    "import urllib.request\n",
    "url ='https://archive.ics.uci.edu/ml/machine-learning-databases/magic/magic04.names'\n",
    "with urllib.request.urlopen(url) as data_file:\n",
    "    #print (data_file.read(300))\n",
    "    for line in data_file:\n",
    "        print (line)"
   ]
  },
  {
   "cell_type": "markdown",
   "metadata": {},
   "source": [
    "###  Copy data from a remote machine\n",
    "\n",
    "Often datasets are not available on websites but rather they are sitting on some remote machine. Several tools are there that can allow you to get hold off remote data, even from within python (e.g. [paramiko](https://www.paramiko.org/)), but best in this case is to get a local copy. E.g. from a terminal:\n",
    "\n",
    "```bash\n",
    "scp guest104@gatep.fisica.unipd.it:~/data/data_000637.* ~/data/\n",
    "```\n",
    "\n",
    "by issuing that command you are immediately exposed to the most relevant problem in obtaining the data: permissions/authorization.\n",
    "\n",
    "Indeed that will not work (as you don't have an account on that machine and I'd be put into jail if I gave you the password), still you'll need that file later, so \"wget\" it:\n"
   ]
  },
  {
   "cell_type": "code",
   "execution_count": null,
   "metadata": {},
   "outputs": [],
   "source": [
    "!wget https://www.dropbox.com/s/69xe1d5f19nvtw3/data_000637.dat -P ~/data/\n",
    "\n",
    "# copy the interpreted version as well\n",
    "!wget https://www.dropbox.com/s/xvjzaxzz3ysphme/data_000637.txt -P ~/data/"
   ]
  },
  {
   "cell_type": "markdown",
   "metadata": {},
   "source": [
    "Secondily (essentially a further consequence of the same issue), the remote machine itself may have accessibility restrictions, e.g. being behind a firewall. In that case you may need to use a tunnel:\n",
    "\n",
    "``` bash\n",
    "ssh -L 1234:<address of R known to G>:22 <user at G>@<address of G> \n",
    "\n",
    "scp -P 1234 <user at R>@127.0.0.1:/path/to/file file-name-to-be-copied\n",
    "```\n",
    "\n",
    "In summary, just getting the data is a complicated business."
   ]
  },
  {
   "cell_type": "markdown",
   "metadata": {},
   "source": [
    "## Data Formats\n",
    "\n",
    "datasets can be stored in a gazillion different ways, often they have formats which are application dependent, even though more and more standards are being established. Python have \"readers\" for most of the formats, another reason for being the optimal programming language for data analysis."
   ]
  },
  {
   "cell_type": "markdown",
   "metadata": {},
   "source": [
    "### Text files \n",
    "\n",
    "Plain text files are commonly used for \"readibility\", at the price of a very poor storing efficiency due to their low entropy. [UTF-8](https://en.wikipedia.org/wiki/UTF-8) is the most common encoding.\n",
    "\n",
    "Reading (and writing) text files in python is straightforward:"
   ]
  },
  {
   "cell_type": "code",
   "execution_count": null,
   "metadata": {},
   "outputs": [],
   "source": [
    "file_name = \"/Users/mzanetti/data/magic04.data\"\n",
    "\n",
    "# mode can be specified for writing, reading or both\n",
    "with open(file_name, mode='r') as f:\n",
    "    # print-out the whole file\n",
    "    # print (f.read()) \n",
    "    for line in f:\n",
    "        ## print line by line\n",
    "        print (line)\n",
    "        ## each line is a string, you need to split it yourself\n",
    "        # for c in line.split(): print(c) # check the functionalities of the split() method "
   ]
  },
  {
   "cell_type": "markdown",
   "metadata": {},
   "source": [
    "### CSV files\n",
    "\n",
    "If you are lucky text files are already framed into a defined structured, in a \"table-like\" manner. These files are colled \"comma separated values\" (csv), even though the separator may well not be the \",\" symbol.\n",
    "Python have package to deal with that:"
   ]
  },
  {
   "cell_type": "code",
   "execution_count": null,
   "metadata": {},
   "outputs": [],
   "source": [
    "import csv\n",
    "\n",
    "with open('/Users/mzanetti/data/magic04.data') as data_file:\n",
    "    for line in csv.reader(data_file, delimiter=','): # the delimiter is often guessed by the reader\n",
    "        # again note that elements of each line are treated as strings\n",
    "        # if you need to convert them into numbers, you need to to that yourself\n",
    "        fLength,fWidth,fSize,\\\n",
    "        fConc,fConc1,fAsym,\\\n",
    "        fM3Long,fM3Trans,fAlpha,fDist = map(float,line[:-1])\n",
    "        category = line[-1]\n",
    "        print (fLength,fWidth,fSize,fConc,fConc1,fAsym,fM3Long,fM3Trans,fAlpha,fDist)\n",
    "        print (category)\n",
    "        break"
   ]
  },
  {
   "cell_type": "markdown",
   "metadata": {},
   "source": [
    "More often than not, csv files have comments (e.g. starting with '#'), which cannot be interpreted by the reader. Tricks like:\n",
    "\n",
    "```python\n",
    "csv.reader(row for row in f if not row.startswith('#'))\n",
    "```\n",
    "\n",
    "may be useful"
   ]
  },
  {
   "cell_type": "markdown",
   "metadata": {},
   "source": [
    "## Binary (hexadecimal) files\n",
    "\n",
    "The output of sensors often is stored as hexadecimal files. Information is packed in a well defined format (similarly to how floating point numbers are formatted).\n",
    "To read and process hexadecimal files in python you need to use the \"b\" option of `open` and progress along the file at step of defined lenght (depending on the size of the words information is packed into)\n",
    "\n",
    "There are several tool to display and edit hex/bin files, e.g. this [one](https://hexed.it/)\n",
    "\n",
    "The following is an example from data collected from an FPGA implementing a TDC. Relevant infomation are the coordinates of the TDC channels and their time measurements."
   ]
  },
  {
   "cell_type": "code",
   "execution_count": null,
   "metadata": {},
   "outputs": [],
   "source": [
    "import struct, time\n",
    "\n",
    "with  open('/Users/mzanetti/data/data_000637.dat','rb') as file:\n",
    "    file_content=file.read()\n",
    "    word_counter=0\n",
    "    word_size = 8 # size of the word in bytes\n",
    "    for i in range(0, len(file_content), word_size):\n",
    "        word_counter+=1\n",
    "        if word_counter>100: break\n",
    "        time.sleep(0.1)\n",
    "        thisInt = struct.unpack('<q', file_content[i:i+word_size])[0]\n",
    "        head = (thisInt >> 62) & 0x3\n",
    "        if head == 1:\n",
    "            fpga     = (thisInt >> 58) & 0xF\n",
    "            tdc_chan = (thisInt >> 49) & 0x1FF\n",
    "            orb_cnt  = (thisInt >> 17) & 0xFFFFFFFF\n",
    "            bx       = (thisInt >> 5 ) & 0xFFF\n",
    "            tdc_meas = (thisInt >> 0 ) & 0x1F\n",
    "            if i==0 : print ('{0},{1},{2},{3},{4},{5}'.format('HEAD', 'FPGA', 'TDC_CHANNEL', 'ORB_CNT', 'BX', 'TDC_MEAS'))\n",
    "            print ('{0},{1},{2},{3},{4},{5}'.format(head, fpga, tdc_chan, orb_cnt, bx, tdc_meas))\n",
    "        else:\n",
    "            print ('ERROR! head =', head)\n",
    "\n"
   ]
  },
  {
   "cell_type": "markdown",
   "metadata": {},
   "source": [
    "### JSON files\n",
    "\n",
    "JSON is JavaScript Object Notation - a format used widely for web-based resource sharing. It is very similar in structure to a Python nested dictionary. Here is an example from http://json.org/example"
   ]
  },
  {
   "cell_type": "code",
   "execution_count": null,
   "metadata": {},
   "outputs": [],
   "source": [
    "%%file example.json\n",
    "{\n",
    "    \"glossary\": {\n",
    "        \"title\": \"example glossary\",\n",
    "            \"GlossDiv\": {\n",
    "            \"title\": \"S\",\n",
    "                    \"GlossList\": {\n",
    "                \"GlossEntry\": {\n",
    "                    \"ID\": \"SGML\",\n",
    "                                    \"SortAs\": \"SGML\",\n",
    "                                    \"GlossTerm\": \"Standard Generalized Markup Language\",\n",
    "                                    \"Acronym\": \"SGML\",\n",
    "                                    \"Abbrev\": \"ISO 8879:1986\",\n",
    "                                    \"GlossDef\": {\n",
    "                        \"para\": \"A meta-markup language, used to create markup languages such as DocBook.\",\n",
    "                                            \"GlossSeeAlso\": [\"GML\", \"XML\"]\n",
    "                    },\n",
    "                                    \"GlossSee\": \"markup\"\n",
    "                }\n",
    "            }\n",
    "        }\n",
    "    }\n",
    "}"
   ]
  },
  {
   "cell_type": "code",
   "execution_count": null,
   "metadata": {},
   "outputs": [],
   "source": [
    "!cat example.json"
   ]
  },
  {
   "cell_type": "code",
   "execution_count": null,
   "metadata": {},
   "outputs": [],
   "source": [
    "import json\n",
    "data = json.load(open('example.json'))\n",
    "print (data)"
   ]
  },
  {
   "cell_type": "code",
   "execution_count": null,
   "metadata": {},
   "outputs": [],
   "source": [
    "# and can be parsed using standard key lookups\n",
    "data['glossary']['GlossDiv']['GlossList']"
   ]
  },
  {
   "cell_type": "markdown",
   "metadata": {},
   "source": [
    "### HDF5\n",
    "\n",
    "HDF5 is a hierarchical format often used to store complex scientific data. For instance, Matlab now saves its data to HDF5. It is particularly useful to store complex hierarchical data sets with associated metadata, for example, the results of a computer simulation experiment.\n",
    "\n",
    "The main concepts associated with HDF5 are\n",
    "\n",
    "* file: container for hierachical data - serves as ‘root’ for tree\n",
    "* group: a node for a tree\n",
    "* dataset: array for numeric data - can be huge\n",
    "* attribute: small pieces of metadata that provide additional context\n",
    "\n",
    "Now let's create a dummy dataset"
   ]
  },
  {
   "cell_type": "code",
   "execution_count": null,
   "metadata": {},
   "outputs": [],
   "source": [
    "import numpy as np\n",
    "import h5py\n",
    "\n",
    "#Now mock up some simple dummy data to save to our file.\n",
    "d1 = np.random.random(size = (1000,20))\n",
    "d2 = np.random.random(size = (1000,200))\n",
    "\n",
    "print (d1.shape, d2.shape)\n",
    "\n",
    "\n",
    "hf = h5py.File('data.h5', 'w')\n",
    "hf.create_dataset('dataset_1', data=d1)\n",
    "hf.create_dataset('dataset_2', data=d2)\n",
    "hf.close()"
   ]
  },
  {
   "cell_type": "markdown",
   "metadata": {},
   "source": [
    "and read it"
   ]
  },
  {
   "cell_type": "code",
   "execution_count": null,
   "metadata": {},
   "outputs": [],
   "source": [
    "hf = h5py.File('data.h5', 'r')\n",
    "\n",
    "print (hf.keys())\n",
    "\n",
    "n1 = hf.get('dataset_1')\n",
    "print (n1)\n",
    "\n",
    "n1 = np.array(n1)\n",
    "print (n1.shape)"
   ]
  },
  {
   "cell_type": "markdown",
   "metadata": {},
   "source": [
    "here is another example"
   ]
  },
  {
   "cell_type": "code",
   "execution_count": null,
   "metadata": {},
   "outputs": [],
   "source": [
    "import h5py\n",
    "import numpy as np\n",
    "import os\n",
    "\n",
    "# creating a HDF5 file\n",
    "import datetime\n",
    "\n",
    "if not os.path.exists('example.hdf5'):\n",
    "\n",
    "    with h5py.File('example.hdf5') as f:\n",
    "        project = f.create_group('project')\n",
    "        expt1 = project.create_group('expt1')\n",
    "        expt2 = project.create_group('expt2')\n",
    "        expt1.create_dataset('counts', (100,), dtype='i')\n",
    "        expt2.create_dataset('values', (1000,), dtype='f')\n",
    "\n",
    "        expt1['counts'][:] = range(100)\n",
    "        expt2['values'][:] = np.random.random(1000)"
   ]
  },
  {
   "cell_type": "code",
   "execution_count": null,
   "metadata": {},
   "outputs": [],
   "source": [
    "with h5py.File('example.hdf5') as f:\n",
    "    project = f['project']\n",
    "    print (project['expt1']['counts'][:10])\n",
    "    print (project['expt2']['values'][:10])"
   ]
  },
  {
   "cell_type": "markdown",
   "metadata": {},
   "source": [
    "### Pandas\n",
    "\n",
    "the most convenient tool to read and process formatted dataset is however Pandas. In the following a couple of examples. Pandas will be the main subject of one of the next classes\n"
   ]
  },
  {
   "cell_type": "code",
   "execution_count": null,
   "metadata": {},
   "outputs": [],
   "source": [
    "import pandas as pd\n",
    "file_name=\"/Users/mzanetti/data/data_000637.txt\"\n",
    "data=pd.read_csv(file_name,nrows=10,skiprows=range(1,1))\n",
    "data"
   ]
  },
  {
   "cell_type": "code",
   "execution_count": null,
   "metadata": {},
   "outputs": [],
   "source": [
    "!cat /Users/mzanetti/data/data_000637.txt"
   ]
  },
  {
   "cell_type": "code",
<<<<<<< HEAD
   "execution_count": 3,
   "metadata": {},
   "outputs": [
    {
     "ename": "FileNotFoundError",
     "evalue": "[Errno 2] File /Users/mzanetti/data/magic04.data does not exist: '/Users/mzanetti/data/magic04.data'",
     "output_type": "error",
     "traceback": [
      "\u001b[1;31m---------------------------------------------------------------------------\u001b[0m",
      "\u001b[1;31mFileNotFoundError\u001b[0m                         Traceback (most recent call last)",
      "\u001b[1;32m<ipython-input-3-92c0bbd9e000>\u001b[0m in \u001b[0;36m<module>\u001b[1;34m\u001b[0m\n\u001b[0;32m      1\u001b[0m \u001b[1;32mimport\u001b[0m \u001b[0mpandas\u001b[0m \u001b[1;32mas\u001b[0m \u001b[0mpd\u001b[0m\u001b[1;33m\u001b[0m\u001b[1;33m\u001b[0m\u001b[0m\n\u001b[0;32m      2\u001b[0m \u001b[0mfile_name\u001b[0m\u001b[1;33m=\u001b[0m\u001b[1;34m\"/Users/mzanetti/data/magic04.data\"\u001b[0m\u001b[1;33m\u001b[0m\u001b[1;33m\u001b[0m\u001b[0m\n\u001b[1;32m----> 3\u001b[1;33m \u001b[0mdata\u001b[0m\u001b[1;33m=\u001b[0m\u001b[0mpd\u001b[0m\u001b[1;33m.\u001b[0m\u001b[0mread_csv\u001b[0m\u001b[1;33m(\u001b[0m\u001b[0mfile_name\u001b[0m\u001b[1;33m,\u001b[0m\u001b[0mnrows\u001b[0m\u001b[1;33m=\u001b[0m\u001b[1;36m1000\u001b[0m\u001b[1;33m)\u001b[0m\u001b[1;33m\u001b[0m\u001b[1;33m\u001b[0m\u001b[0m\n\u001b[0m\u001b[0;32m      4\u001b[0m data.columns=['fLength','fWidth','fSize',\n\u001b[0;32m      5\u001b[0m         \u001b[1;34m'fConc'\u001b[0m\u001b[1;33m,\u001b[0m\u001b[1;34m'fConc1'\u001b[0m\u001b[1;33m,\u001b[0m\u001b[1;34m'fAsym'\u001b[0m\u001b[1;33m,\u001b[0m\u001b[1;33m\u001b[0m\u001b[1;33m\u001b[0m\u001b[0m\n",
      "\u001b[1;32m~\\anaconda3\\lib\\site-packages\\pandas\\io\\parsers.py\u001b[0m in \u001b[0;36mparser_f\u001b[1;34m(filepath_or_buffer, sep, delimiter, header, names, index_col, usecols, squeeze, prefix, mangle_dupe_cols, dtype, engine, converters, true_values, false_values, skipinitialspace, skiprows, skipfooter, nrows, na_values, keep_default_na, na_filter, verbose, skip_blank_lines, parse_dates, infer_datetime_format, keep_date_col, date_parser, dayfirst, cache_dates, iterator, chunksize, compression, thousands, decimal, lineterminator, quotechar, quoting, doublequote, escapechar, comment, encoding, dialect, error_bad_lines, warn_bad_lines, delim_whitespace, low_memory, memory_map, float_precision)\u001b[0m\n\u001b[0;32m    674\u001b[0m         )\n\u001b[0;32m    675\u001b[0m \u001b[1;33m\u001b[0m\u001b[0m\n\u001b[1;32m--> 676\u001b[1;33m         \u001b[1;32mreturn\u001b[0m \u001b[0m_read\u001b[0m\u001b[1;33m(\u001b[0m\u001b[0mfilepath_or_buffer\u001b[0m\u001b[1;33m,\u001b[0m \u001b[0mkwds\u001b[0m\u001b[1;33m)\u001b[0m\u001b[1;33m\u001b[0m\u001b[1;33m\u001b[0m\u001b[0m\n\u001b[0m\u001b[0;32m    677\u001b[0m \u001b[1;33m\u001b[0m\u001b[0m\n\u001b[0;32m    678\u001b[0m     \u001b[0mparser_f\u001b[0m\u001b[1;33m.\u001b[0m\u001b[0m__name__\u001b[0m \u001b[1;33m=\u001b[0m \u001b[0mname\u001b[0m\u001b[1;33m\u001b[0m\u001b[1;33m\u001b[0m\u001b[0m\n",
      "\u001b[1;32m~\\anaconda3\\lib\\site-packages\\pandas\\io\\parsers.py\u001b[0m in \u001b[0;36m_read\u001b[1;34m(filepath_or_buffer, kwds)\u001b[0m\n\u001b[0;32m    446\u001b[0m \u001b[1;33m\u001b[0m\u001b[0m\n\u001b[0;32m    447\u001b[0m     \u001b[1;31m# Create the parser.\u001b[0m\u001b[1;33m\u001b[0m\u001b[1;33m\u001b[0m\u001b[1;33m\u001b[0m\u001b[0m\n\u001b[1;32m--> 448\u001b[1;33m     \u001b[0mparser\u001b[0m \u001b[1;33m=\u001b[0m \u001b[0mTextFileReader\u001b[0m\u001b[1;33m(\u001b[0m\u001b[0mfp_or_buf\u001b[0m\u001b[1;33m,\u001b[0m \u001b[1;33m**\u001b[0m\u001b[0mkwds\u001b[0m\u001b[1;33m)\u001b[0m\u001b[1;33m\u001b[0m\u001b[1;33m\u001b[0m\u001b[0m\n\u001b[0m\u001b[0;32m    449\u001b[0m \u001b[1;33m\u001b[0m\u001b[0m\n\u001b[0;32m    450\u001b[0m     \u001b[1;32mif\u001b[0m \u001b[0mchunksize\u001b[0m \u001b[1;32mor\u001b[0m \u001b[0miterator\u001b[0m\u001b[1;33m:\u001b[0m\u001b[1;33m\u001b[0m\u001b[1;33m\u001b[0m\u001b[0m\n",
      "\u001b[1;32m~\\anaconda3\\lib\\site-packages\\pandas\\io\\parsers.py\u001b[0m in \u001b[0;36m__init__\u001b[1;34m(self, f, engine, **kwds)\u001b[0m\n\u001b[0;32m    878\u001b[0m             \u001b[0mself\u001b[0m\u001b[1;33m.\u001b[0m\u001b[0moptions\u001b[0m\u001b[1;33m[\u001b[0m\u001b[1;34m\"has_index_names\"\u001b[0m\u001b[1;33m]\u001b[0m \u001b[1;33m=\u001b[0m \u001b[0mkwds\u001b[0m\u001b[1;33m[\u001b[0m\u001b[1;34m\"has_index_names\"\u001b[0m\u001b[1;33m]\u001b[0m\u001b[1;33m\u001b[0m\u001b[1;33m\u001b[0m\u001b[0m\n\u001b[0;32m    879\u001b[0m \u001b[1;33m\u001b[0m\u001b[0m\n\u001b[1;32m--> 880\u001b[1;33m         \u001b[0mself\u001b[0m\u001b[1;33m.\u001b[0m\u001b[0m_make_engine\u001b[0m\u001b[1;33m(\u001b[0m\u001b[0mself\u001b[0m\u001b[1;33m.\u001b[0m\u001b[0mengine\u001b[0m\u001b[1;33m)\u001b[0m\u001b[1;33m\u001b[0m\u001b[1;33m\u001b[0m\u001b[0m\n\u001b[0m\u001b[0;32m    881\u001b[0m \u001b[1;33m\u001b[0m\u001b[0m\n\u001b[0;32m    882\u001b[0m     \u001b[1;32mdef\u001b[0m \u001b[0mclose\u001b[0m\u001b[1;33m(\u001b[0m\u001b[0mself\u001b[0m\u001b[1;33m)\u001b[0m\u001b[1;33m:\u001b[0m\u001b[1;33m\u001b[0m\u001b[1;33m\u001b[0m\u001b[0m\n",
      "\u001b[1;32m~\\anaconda3\\lib\\site-packages\\pandas\\io\\parsers.py\u001b[0m in \u001b[0;36m_make_engine\u001b[1;34m(self, engine)\u001b[0m\n\u001b[0;32m   1112\u001b[0m     \u001b[1;32mdef\u001b[0m \u001b[0m_make_engine\u001b[0m\u001b[1;33m(\u001b[0m\u001b[0mself\u001b[0m\u001b[1;33m,\u001b[0m \u001b[0mengine\u001b[0m\u001b[1;33m=\u001b[0m\u001b[1;34m\"c\"\u001b[0m\u001b[1;33m)\u001b[0m\u001b[1;33m:\u001b[0m\u001b[1;33m\u001b[0m\u001b[1;33m\u001b[0m\u001b[0m\n\u001b[0;32m   1113\u001b[0m         \u001b[1;32mif\u001b[0m \u001b[0mengine\u001b[0m \u001b[1;33m==\u001b[0m \u001b[1;34m\"c\"\u001b[0m\u001b[1;33m:\u001b[0m\u001b[1;33m\u001b[0m\u001b[1;33m\u001b[0m\u001b[0m\n\u001b[1;32m-> 1114\u001b[1;33m             \u001b[0mself\u001b[0m\u001b[1;33m.\u001b[0m\u001b[0m_engine\u001b[0m \u001b[1;33m=\u001b[0m \u001b[0mCParserWrapper\u001b[0m\u001b[1;33m(\u001b[0m\u001b[0mself\u001b[0m\u001b[1;33m.\u001b[0m\u001b[0mf\u001b[0m\u001b[1;33m,\u001b[0m \u001b[1;33m**\u001b[0m\u001b[0mself\u001b[0m\u001b[1;33m.\u001b[0m\u001b[0moptions\u001b[0m\u001b[1;33m)\u001b[0m\u001b[1;33m\u001b[0m\u001b[1;33m\u001b[0m\u001b[0m\n\u001b[0m\u001b[0;32m   1115\u001b[0m         \u001b[1;32melse\u001b[0m\u001b[1;33m:\u001b[0m\u001b[1;33m\u001b[0m\u001b[1;33m\u001b[0m\u001b[0m\n\u001b[0;32m   1116\u001b[0m             \u001b[1;32mif\u001b[0m \u001b[0mengine\u001b[0m \u001b[1;33m==\u001b[0m \u001b[1;34m\"python\"\u001b[0m\u001b[1;33m:\u001b[0m\u001b[1;33m\u001b[0m\u001b[1;33m\u001b[0m\u001b[0m\n",
      "\u001b[1;32m~\\anaconda3\\lib\\site-packages\\pandas\\io\\parsers.py\u001b[0m in \u001b[0;36m__init__\u001b[1;34m(self, src, **kwds)\u001b[0m\n\u001b[0;32m   1889\u001b[0m         \u001b[0mkwds\u001b[0m\u001b[1;33m[\u001b[0m\u001b[1;34m\"usecols\"\u001b[0m\u001b[1;33m]\u001b[0m \u001b[1;33m=\u001b[0m \u001b[0mself\u001b[0m\u001b[1;33m.\u001b[0m\u001b[0musecols\u001b[0m\u001b[1;33m\u001b[0m\u001b[1;33m\u001b[0m\u001b[0m\n\u001b[0;32m   1890\u001b[0m \u001b[1;33m\u001b[0m\u001b[0m\n\u001b[1;32m-> 1891\u001b[1;33m         \u001b[0mself\u001b[0m\u001b[1;33m.\u001b[0m\u001b[0m_reader\u001b[0m \u001b[1;33m=\u001b[0m \u001b[0mparsers\u001b[0m\u001b[1;33m.\u001b[0m\u001b[0mTextReader\u001b[0m\u001b[1;33m(\u001b[0m\u001b[0msrc\u001b[0m\u001b[1;33m,\u001b[0m \u001b[1;33m**\u001b[0m\u001b[0mkwds\u001b[0m\u001b[1;33m)\u001b[0m\u001b[1;33m\u001b[0m\u001b[1;33m\u001b[0m\u001b[0m\n\u001b[0m\u001b[0;32m   1892\u001b[0m         \u001b[0mself\u001b[0m\u001b[1;33m.\u001b[0m\u001b[0munnamed_cols\u001b[0m \u001b[1;33m=\u001b[0m \u001b[0mself\u001b[0m\u001b[1;33m.\u001b[0m\u001b[0m_reader\u001b[0m\u001b[1;33m.\u001b[0m\u001b[0munnamed_cols\u001b[0m\u001b[1;33m\u001b[0m\u001b[1;33m\u001b[0m\u001b[0m\n\u001b[0;32m   1893\u001b[0m \u001b[1;33m\u001b[0m\u001b[0m\n",
      "\u001b[1;32mpandas\\_libs\\parsers.pyx\u001b[0m in \u001b[0;36mpandas._libs.parsers.TextReader.__cinit__\u001b[1;34m()\u001b[0m\n",
      "\u001b[1;32mpandas\\_libs\\parsers.pyx\u001b[0m in \u001b[0;36mpandas._libs.parsers.TextReader._setup_parser_source\u001b[1;34m()\u001b[0m\n",
      "\u001b[1;31mFileNotFoundError\u001b[0m: [Errno 2] File /Users/mzanetti/data/magic04.data does not exist: '/Users/mzanetti/data/magic04.data'"
     ]
    }
   ],
=======
   "execution_count": null,
   "metadata": {},
   "outputs": [],
>>>>>>> master
   "source": [
    "import pandas as pd\n",
    "file_name=\"/Users/mzanetti/data/magic04.data\"\n",
    "data=pd.read_csv(file_name,nrows=1000)\n",
    "data.columns=['fLength','fWidth','fSize',\n",
    "        'fConc','fConc1','fAsym',\n",
    "        'fM3Long','fM3Trans','fAlpha','fDist','category']\n",
    "data"
   ]
  },
  {
   "cell_type": "code",
   "execution_count": null,
   "metadata": {},
   "outputs": [],
   "source": [
    "%matplotlib inline\n",
    "\n",
    "data.plot.scatter(\"fLength\",\"fWidth\",)\n"
   ]
  },
  {
   "cell_type": "code",
   "execution_count": null,
   "metadata": {},
   "outputs": [],
   "source": [
    "data.hist(\"fAlpha\")"
   ]
  },
  {
   "cell_type": "markdown",
   "metadata": {},
   "source": [
    "### ROOT\n",
    "\n",
    "[ROOT](https://root.cern.ch/) needs a special mention. It is still nowadays, and by far, the most convenient tool to store and manage complex datasets pertaining physics experiments where \"events\" are recorded, in particular High Energy, Nuclear, Astro physics. It allows a nested structure, with complex data objects (classes) and references between them.\n",
    "\n",
    "ROOT per se is obnoxious as it has been developed in the years as way-too-many-purposes package, but it's I/O is formidable.\n",
    "\n",
    "Installing ROOT is a pain. \n",
    "\n",
    "(bare) ROOT files can be opened with non-ROOT library, [uproot](https://github.com/scikit-hep/uproot)"
   ]
  },
  {
   "cell_type": "code",
   "execution_count": null,
   "metadata": {},
   "outputs": [],
   "source": [
    "import uproot\n",
    "events = uproot.open(\"https://scikit-hep.org/uproot/examples/Zmumu.root\")[\"events\"]\n",
    "events"
   ]
  },
  {
   "cell_type": "code",
   "execution_count": null,
   "metadata": {},
   "outputs": [],
   "source": [
    "events.show()"
   ]
  },
  {
   "cell_type": "code",
   "execution_count": null,
   "metadata": {},
   "outputs": [],
   "source": [
    "events.array(\"E1\")"
   ]
  },
  {
   "cell_type": "code",
   "execution_count": null,
   "metadata": {},
   "outputs": [],
   "source": []
  }
 ],
 "metadata": {
  "kernelspec": {
   "display_name": "Python 3",
   "language": "python",
   "name": "python3"
  },
  "language_info": {
   "codemirror_mode": {
    "name": "ipython",
    "version": 3
   },
   "file_extension": ".py",
   "mimetype": "text/x-python",
   "name": "python",
   "nbconvert_exporter": "python",
   "pygments_lexer": "ipython3",
   "version": "3.8.3"
  }
 },
 "nbformat": 4,
 "nbformat_minor": 2
}
