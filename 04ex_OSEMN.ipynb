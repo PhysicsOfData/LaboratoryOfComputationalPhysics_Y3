{
 "cells": [
  {
   "cell_type": "markdown",
   "metadata": {},
   "source": [
    "# OSEMN Exercises"
   ]
  },
  {
   "cell_type": "code",
   "execution_count": null,
   "metadata": {},
   "outputs": [],
   "source": [
    "%matplotlib inline\n",
    "import pandas as pd\n",
    "import numpy as np"
   ]
  },
  {
   "cell_type": "markdown",
   "metadata": {},
   "source": [
    "1\\. Create a random list of number and then save it to a text file named \"simple_data.txt\""
   ]
  },
  {
   "cell_type": "code",
   "execution_count": null,
   "metadata": {},
   "outputs": [],
   "source": [
    "num_list = np.random.random(100)\n",
    "with open(\"simple_data.txt\", mode=\"w\") as f:\n",
    "    for num in num_list:\n",
    "        f.write(str(num)+\"\\n\")\n",
    "    f.close()\n"
   ]
  },
  {
   "cell_type": "markdown",
   "metadata": {},
   "source": [
    "2\\. Create a random matrix of 5x5 and then save it to a text file named \"data.txt\""
   ]
  },
  {
   "cell_type": "code",
   "execution_count": null,
   "metadata": {},
   "outputs": [],
   "source": [
    "mat = np.random.random((5,5))\n",
    "print(mat)\n",
    "with open(\"data.txt\", mode=\"w\") as f:\n",
    "    for row in mat:\n",
    "        for el in row:\n",
    "            f.write(str(el)+\" \")\n",
    "        f.write('\\n')\n",
    "    f.close()"
   ]
  },
  {
   "cell_type": "markdown",
   "metadata": {},
   "source": [
    "3\\. Load the saved txt file of point 2 and convert it to a csv file (by hand)"
   ]
  },
  {
   "cell_type": "code",
   "execution_count": null,
   "metadata": {},
   "outputs": [],
   "source": [
    "with open(\"data_csv.txt\", mode=\"w\") as f:\n",
    "    with open(\"data.txt\", mode=\"r\") as i:\n",
    "        for line in i:\n",
    "            f.write(line.rstrip().replace(\" \", \",\"))\n",
    "            f.write(\"\\n\")\n",
    "        i.close()\n",
    "    f.close()\n",
    "\n",
    "    "
   ]
  },
  {
   "cell_type": "markdown",
   "metadata": {},
   "source": [
    "4\\. load the binary file named *credit_card.dat* and convert the data into the real credit-card number.\n",
    "Each line correspond to a credit card number.\n",
    "Each character is composed by 6 bit (even the space) and the last 4 bit are just a padding\n",
    "\n",
    "**hint**: use the `chr()` function to convert a number to a char"
   ]
  },
  {
   "cell_type": "code",
   "execution_count": null,
   "metadata": {},
   "outputs": [],
   "source": [
    "with open(\"credit_card.txt\", mode=\"w\") as file:\n",
    "    with open(\"credit_card.dat\", mode=\"rb\") as f:\n",
    "        for line in f:\n",
    "            for i in range(0, len(line)-4, 6):\n",
    "                num = int(line[i:i+6],2)\n",
    "                file.write(chr(num))            \n"
   ]
  },
  {
   "cell_type": "markdown",
   "metadata": {},
   "source": [
    "5\\. Load the file \"user_data.json\", filter the data by the \"CreditCardType\" field equals to \"American Express\". Than save the data a to CSV."
   ]
  },
  {
   "cell_type": "code",
   "execution_count": null,
   "metadata": {},
   "outputs": [],
   "source": [
    "import json\n",
    "data = json.load(open('user_data.json'))\n",
    "with open(\"user_data.csv\",mode='w') as file:\n",
    "    file.write('#ID,JobTitle,EmailAddress,FirstNameLastName,CreditCard,CreditCardType\\n')\n",
    "    for user in data:\n",
    "        if user['CreditCardType']=='American Express':\n",
    "            line=list()\n",
    "            for el in user.values():\n",
    "                line.append(el)\n",
    "                line.append(',')\n",
    "            line.pop()\n",
    "            line.append('\\n')\n",
    "            file.write(''.join(map(str,line)))\n",
    "            \n",
    "              "
   ]
  },
  {
   "cell_type": "markdown",
   "metadata": {},
   "source": [
    "6\\. Load the file from this url: [https://www.dropbox.com/s/7u3lm737ogbqsg8/mushrooms_categorized.csv?dl=1](https://www.dropbox.com/s/7u3lm737ogbqsg8/mushrooms_categorized.csv?dl=1) with Pandas. \n",
    "+ Explore the data (see the info of the data)\n",
    "+ Draw the istogram of the 'class' field. Decribe wath yuou see\n"
   ]
  },
  {
   "cell_type": "code",
   "execution_count": null,
   "metadata": {},
   "outputs": [],
   "source": [
    "try:\n",
    "    data = pd.read_csv(\"mushrooms_categorized.csv\")\n",
    "except:\n",
    "    !wget \"https://www.dropbox.com/s/7u3lm737ogbqsg8/mushrooms_categorized.csv\"\n",
    "    data = pd.read_csv(\"mushrooms_categorized.csv\")\n",
    "\n",
    "data.info()\n",
    "data.hist(\"class\")\n",
    "\n"
   ]
  },
  {
   "cell_type": "markdown",
   "metadata": {},
   "source": [
    "\"Class\" is a binary field: it could be a property like edible/not edible or poisonus/not poisonus"
   ]
  },
  {
   "cell_type": "markdown",
   "metadata": {},
   "source": [
    "7\\. Load the remote file [https://www.dropbox.com/s/vkl89yce7xjdq4n/regression_generated.csv?dl=1](https://www.dropbox.com/s/vkl89yce7xjdq4n/regression_generated.csv?dl=1) with Pandas and plot a scatter plot all possible combination of the following fields:\n",
    "    \n",
    "  + features_1\n",
    "  + features_2\n",
    "  + features_3"
   ]
  },
  {
   "cell_type": "code",
   "execution_count": null,
   "metadata": {},
   "outputs": [],
   "source": [
    "try:\n",
    "    data = pd.read_csv(\"regression_generated.csv\")\n",
    "except:\n",
    "    !wget \"https://www.dropbox.com/s/vkl89yce7xjdq4n/regression_generated.csv\"\n",
    "    data = pd.read_csv(\"regression_generated.csv\")\n",
    "    \n",
    "data.info()\n",
    "data.plot.scatter(\"features_1\",\"features_2\")\n",
    "data.plot.scatter(\"features_1\",\"features_3\")\n",
    "data.plot.scatter(\"features_2\",\"features_3\")"
   ]
  },
  {
   "cell_type": "markdown",
   "metadata": {},
   "source": [
    "8\\. Load the same file of point 6, and convert the file to json with Pandas."
   ]
  },
  {
   "cell_type": "code",
   "execution_count": null,
   "metadata": {},
   "outputs": [],
   "source": [
    "try:\n",
    "    data = pd.read_csv(\"mushrooms_categorized.csv\")\n",
    "except:\n",
    "    !wget \"https://www.dropbox.com/s/7u3lm737ogbqsg8/mushrooms_categorized.csv\"\n",
    "    data = pd.read_csv(\"mushrooms_categorized.csv\")\n",
    "\n",
    "data.info()\n",
    "data.to_json(\"mushrooms_categorized.json\",orient='records')\n",
    "data_json = pd.read_json(\"mushrooms_categorized.json\")\n",
    "data_json.info()\n"
   ]
  }
 ],
 "metadata": {
  "kernelspec": {
   "display_name": "Python 3",
   "language": "python",
   "name": "python3"
  },
  "language_info": {
   "codemirror_mode": {
    "name": "ipython",
    "version": 3
   },
   "file_extension": ".py",
   "mimetype": "text/x-python",
   "name": "python",
   "nbconvert_exporter": "python",
   "pygments_lexer": "ipython3",
   "version": "3.7.3"
  }
 },
 "nbformat": 4,
 "nbformat_minor": 2
}
