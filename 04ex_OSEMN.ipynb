{
 "cells": [
  {
   "cell_type": "markdown",
   "metadata": {},
   "source": [
    "# OSEMN Exercises"
   ]
  },
  {
   "cell_type": "code",
   "execution_count": 1,
   "metadata": {},
   "outputs": [],
   "source": [
    "import pandas as pd\n",
    "import numpy as np\n",
    "import numpy.random as npr\n",
    "import json\n",
    "from matplotlib import pyplot as plt"
   ]
  },
  {
   "cell_type": "markdown",
   "metadata": {},
   "source": [
    "1\\. Create a random list of number and then save it to a text file named \"simple_data.txt\""
   ]
  },
  {
   "cell_type": "code",
   "execution_count": 2,
   "metadata": {},
   "outputs": [
    {
     "name": "stdout",
     "output_type": "stream",
     "text": [
      "List of random numbers: [4, 7, 0, 3, 1, 8, 0, 7, 6, 4]\n",
      "4 7 0 3 1 8 0 7 6 4 \n"
     ]
    }
   ],
   "source": [
    "#create a random list of numbers\n",
    "npr.seed(564738)\n",
    "numbers=list(npr.randint(0,10,size=(10,)))\n",
    "print(\"List of random numbers:\",numbers)\n",
    "\n",
    "#write on file\n",
    "with open(\"Data/simple_data.txt\",mode='w') as f:\n",
    "    for item in numbers:f.write(\"%d \" %item)\n",
    "\n",
    "#check if written correctly\n",
    "f=open(\"Data/simple_data.txt\",mode='r')\n",
    "print(f.read())\n",
    "f.close()"
   ]
  },
  {
   "cell_type": "markdown",
   "metadata": {},
   "source": [
    "2\\. Create a random matrix of 5x5 and then save it to a text file named \"data.txt\""
   ]
  },
  {
   "cell_type": "code",
   "execution_count": 3,
   "metadata": {},
   "outputs": [
    {
     "name": "stdout",
     "output_type": "stream",
     "text": [
      "[[31 20  9 33 47]\n",
      " [16 43  2 44 47]\n",
      " [18 42  3 35 20]\n",
      " [40 11 27 12 35]\n",
      " [32 48 45  7 24]]\n",
      "31 20 9 33 47 \n",
      "16 43 2 44 47 \n",
      "18 42 3 35 20 \n",
      "40 11 27 12 35 \n",
      "32 48 45 7 24 \n",
      "\n"
     ]
    }
   ],
   "source": [
    "#create a random matrix\n",
    "matrix=npr.randint(0,50,size=(5,5))\n",
    "print(matrix)\n",
    "\n",
    "#write on file\n",
    "with open(\"Data/data.txt\",\"w\") as f:\n",
    "    for line in matrix:\n",
    "        for item in line:\n",
    "            f.write(\"%d \" %item)\n",
    "        f.write(\"\\n\")\n",
    "            \n",
    "#check if written correctly\n",
    "f=open(\"Data/data.txt\",\"r\")\n",
    "print(f.read())\n",
    "f.close()"
   ]
  },
  {
   "cell_type": "markdown",
   "metadata": {},
   "source": [
    "3\\. Load the saved txt file of point 2 and convert it to a csv file (by hand)"
   ]
  },
  {
   "cell_type": "code",
   "execution_count": 4,
   "metadata": {},
   "outputs": [
    {
     "name": "stdout",
     "output_type": "stream",
     "text": [
      "[[31. 20.  9. 33. 47.]\n",
      " [16. 43.  2. 44. 47.]\n",
      " [18. 42.  3. 35. 20.]\n",
      " [40. 11. 27. 12. 35.]\n",
      " [32. 48. 45.  7. 24.]]\n",
      "31,20,9,33,47\n",
      "16,43,2,44,47\n",
      "18,42,3,35,20\n",
      "40,11,27,12,35\n",
      "32,48,45,7,24\n",
      "\n"
     ]
    }
   ],
   "source": [
    "#load the previous txt file\n",
    "data=np.loadtxt(\"Data/data.txt\")\n",
    "print(data)\n",
    "\n",
    "#write on .csv file\n",
    "with open(\"Data/data.csv\",\"w\") as f:\n",
    "    for line in data:\n",
    "        for item in line:\n",
    "            f.write(\"%d\" % item)\n",
    "            if item!=line[4]:f.write(\",\")\n",
    "        f.write(\"\\n\")\n",
    "\n",
    "#check if written correctly\n",
    "f=open(\"Data/data.csv\",\"r\")\n",
    "print(f.read())\n",
    "f.close()"
   ]
  },
  {
   "cell_type": "markdown",
   "metadata": {},
   "source": [
    "4\\. load the binary file named *credit_card.dat* and convert the data into the real credit-card number.\n",
    "Each line correspond to a credit card number.\n",
    "Each character is composed by 6 bit (even the space) and the last 4 bit are just a padding\n",
    "\n",
    "**hint**: use the `chr()` function to convert a number to a char"
   ]
  },
  {
   "cell_type": "code",
   "execution_count": 5,
   "metadata": {},
   "outputs": [
    {
     "name": "stdout",
     "output_type": "stream",
     "text": [
      "7648 5673 3775 2271\n",
      "\n",
      "3257 8247 3354 2266\n",
      "\n",
      "2722 0001 4011 6652\n",
      "\n",
      "0661 3063 3742 3150\n",
      "\n",
      "0432 1608 1462 4742\n",
      "\n",
      "5827 2027 8785 7303\n",
      "\n",
      "5774 8528 2087 1117\n",
      "\n",
      "8140 1210 6352 2845\n",
      "\n",
      "5764 1133 7301 7100\n",
      "\n",
      "6456 1737 4126 6726\n",
      "\n",
      "1228 8631 7382 0000\n",
      "\n",
      "7051 0160 5374 3166\n",
      "\n",
      "0618 3587 1630 6376\n",
      "\n",
      "1545 5454 7444 5636\n",
      "\n",
      "6735 3116 3202 6834\n",
      "\n",
      "7287 5011 1547 8413\n",
      "\n",
      "7033 2607 3328 4200\n",
      "\n",
      "2568 5244 1874 5024\n",
      "\n",
      "1684 2253 7570 7118\n",
      "\n",
      "0672 2576 0575 6631\n",
      "\n",
      "6332 8353 8787 1340\n",
      "\n",
      "1813 3361 1175 4211\n",
      "\n",
      "2477 6450 8840 2368\n",
      "\n",
      "5512 3505 2563 1326\n",
      "\n",
      "3083 7882 0621 0025\n",
      "\n",
      "4521 5148 8045 0334\n",
      "\n",
      "7563 3654 8713 5787\n",
      "\n",
      "8324 2664 0476 5561\n",
      "\n",
      "0565 2504 7168 3510\n",
      "\n",
      "5107 5507 1767 0738\n",
      "\n",
      "2462 1821 2448 1443\n",
      "\n",
      "2788 0638 6861 6554\n",
      "\n",
      "5851 5873 5474 0547\n",
      "\n",
      "0670 1004 4013 2655\n",
      "\n",
      "5874 5506 3048 0806\n",
      "\n",
      "2805 5401 8462 1260\n",
      "\n",
      "5083 8406 6310 1862\n",
      "\n",
      "1076 1445 3013 2266\n",
      "\n",
      "8440 4804 4844 5277\n",
      "\n",
      "4758 6141 0686 1387\n",
      "\n",
      "7586 0675 0315 2568\n",
      "\n",
      "2544 1258 7432 5165\n",
      "\n",
      "3474 5023 4434 5626\n",
      "\n",
      "1410 0270 0434 5086\n",
      "\n",
      "7315 4446 1104 4215\n",
      "\n",
      "0224 7742 8300 0266\n",
      "\n",
      "0170 2700 3145 0640\n",
      "\n",
      "2006 2437 8054 1600\n",
      "\n",
      "8142 4055 1776 0026\n",
      "\n",
      "3026 7380 1241 1084\n",
      "\n",
      "\n",
      "\n"
     ]
    }
   ],
   "source": [
    "#read the file\n",
    "with open(\"Data/credit_card.dat\",\"r\") as f:\n",
    "    for line in f: #each line is a credit card number\n",
    "        i=0\n",
    "        numbers=[]\n",
    "        \n",
    "        while i<len(line): #convert into real credit-card numbers \n",
    "            binary=line[i:i+6]\n",
    "            integer=int(binary,2)\n",
    "            character=chr(integer)\n",
    "            numbers.append(character)\n",
    "            i+=6\n",
    "        print(''.join(map(str,numbers))) #print the credit card numbers"
   ]
  },
  {
   "cell_type": "markdown",
   "metadata": {},
   "source": [
    "5\\. Load the file \"user_data.json\", filter the data by the \"CreditCardType\" field equals to \"American Express\". Than save the data a to CSV."
   ]
  },
  {
   "cell_type": "code",
   "execution_count": 6,
   "metadata": {},
   "outputs": [
    {
     "name": "stdout",
     "output_type": "stream",
     "text": [
      "Filtered Data: 20 Total Data: 200\n",
      "ID,JobTitle,EmailAddress,FirstNameLastName,CreditCard,CreditCardType\n",
      "2,Investment  Advisor,Clint_Thorpe5003@bulaffy.com,Clint Thorpe,7083-8766-0251-2345,American Express\n",
      "12,Retail Trainee,Phillip_Carpenter9505@famism.biz,Phillip Carpenter,3657-0088-0820-5247,American Express\n",
      "28,Project Manager,Russel_Graves1378@extex.org,Russel Graves,6718-4818-8011-6024,American Express\n",
      "39,Stockbroker,Leanne_Newton1268@typill.biz,Leanne Newton,5438-0816-4166-4847,American Express\n",
      "57,Budget Analyst,Tony_Giles1960@iatim.tech,Tony Giles,8130-3425-7573-7745,American Express\n",
      "62,CNC Operator,Owen_Allcott5125@bauros.biz,Owen Allcott,4156-0107-7210-2630,American Express\n",
      "68,Project Manager,Liam_Lynn3280@kideod.biz,Liam Lynn,7152-3247-6053-2233,American Express\n",
      "74,Dentist,Regina_Woodcock5820@yahoo.com,Regina Woodcock,0208-1753-3870-8002,American Express\n",
      "81,HR Specialist,Carter_Wallace9614@atink.com,Carter Wallace,4256-7201-6717-4322,American Express\n",
      "92,Staffing Consultant,Maia_Stark2797@jiman.org,Maia Stark,3851-1403-1734-6321,American Express\n",
      "97,Stockbroker,Ciara_Lomax982@bauros.biz,Ciara Lomax,3702-3440-2472-5424,American Express\n",
      "116,Staffing Consultant,Isabel_Ellwood1475@fuliss.net,Isabel Ellwood,3738-0882-0066-6683,American Express\n",
      "148,CNC Operator,Abdul_Townend2202@infotech44.tech,Abdul Townend,4224-1226-3557-3448,American Express\n",
      "150,Fabricator,Caleb_Poulton1735@atink.com,Caleb Poulton,8203-6875-5225-0341,American Express\n",
      "151,Restaurant Manager,Ronald_Lewis6777@deavo.com,Ronald Lewis,7212-0155-5014-8471,American Express\n",
      "154,Bellman,Faith_Seymour3829@twace.org,Faith Seymour,4170-5186-6887-6558,American Express\n",
      "169,Assistant Buyer,Anthony_Hancock9083@qater.org,Anthony Hancock,0832-3357-6010-6550,American Express\n",
      "176,Healthcare Specialist,Isabella_Willson5478@nanoff.biz,Isabella Willson,5177-4868-4623-0384,American Express\n",
      "182,Pharmacist,Stephanie_Darcy3298@bauros.biz,Stephanie Darcy,0264-4020-5106-5576,American Express\n",
      "199,Investment  Advisor,Ryan_Kennedy5565@corti.com,Ryan Kennedy,3166-6287-6242-7207,American Express\n",
      "\n"
     ]
    }
   ],
   "source": [
    "#load the file\n",
    "data=json.load(open(\"Data/user_data.json\"))\n",
    "\n",
    "#filter the data\n",
    "filtered_data=[]\n",
    "for dictionary in data:\n",
    "    if dictionary.get(\"CreditCardType\")==\"American Express\": filtered_data.append(dictionary)\n",
    "    \n",
    "#check if filtered properly\n",
    "print(\"Filtered Data:\",len(filtered_data),\"Total Data:\",len(data))\n",
    "#print(filtered_data)\n",
    "\n",
    "#create name of categories\n",
    "categories=list(filtered_data[0].keys())\n",
    "\n",
    "#save it to a CSV file\n",
    "with open(\"Data/filtered_data.csv\",\"w\") as f:\n",
    "    \n",
    "    #write first line\n",
    "    for item in categories:\n",
    "        f.write(\"%s\" %item)\n",
    "        if item!=categories[-1]: f.write(\",\")\n",
    "    f.write(\"\\n\")\n",
    "        \n",
    "    #write main data\n",
    "    for user in filtered_data:\n",
    "        for key in categories:\n",
    "            f.write(user.get(key))\n",
    "            if key!=categories[-1]:f.write(\",\")\n",
    "        f.write(\"\\n\")\n",
    "                \n",
    "#check if written correctly\n",
    "f=open(\"Data/filtered_data.csv\",\"r\")\n",
    "print(f.read())\n",
    "f.close()"
   ]
  },
  {
   "cell_type": "markdown",
   "metadata": {},
   "source": [
    "6\\. Load the file from this url: [https://www.dropbox.com/s/7u3lm737ogbqsg8/mushrooms_categorized.csv?dl=1](https://www.dropbox.com/s/7u3lm737ogbqsg8/mushrooms_categorized.csv?dl=1) with Pandas. \n",
    "+ Explore the data (see the info of the data)\n",
    "+ Draw the istogram of the 'class' field. Decribe wath yuou see\n"
   ]
  },
  {
   "cell_type": "code",
   "execution_count": 7,
   "metadata": {},
   "outputs": [
    {
     "name": "stdout",
     "output_type": "stream",
     "text": [
      "(8124, 23)\n"
     ]
    },
    {
     "data": {
      "image/png": "[encoded data removed]",
      "text/plain": [
       "<Figure size 432x288 with 1 Axes>"
      ]
     },
     "metadata": {
      "needs_background": "light"
     },
     "output_type": "display_data"
    }
   ],
   "source": [
    "#load the file\n",
    "data=pd.read_csv(\"Data/mushrooms_categorized.csv\")\n",
    "print(data.shape)\n",
    "\n",
    "#select \"class\" values\n",
    "classification=data[\"class\"]\n",
    "#print(classification)\n",
    "\n",
    "#plot histogram\n",
    "plt.figure(1)\n",
    "plt.hist(classification)\n",
    "plt.show()"
   ]
  },
  {
   "cell_type": "markdown",
   "metadata": {},
   "source": [
    "COMMENTS:\n",
    "\n",
    "The data are probably taken from a training set for a Machine Learning Classification problem. The dataset is made of 8124 different samples (mushrooms), each with 22 different features. Every sample is also classified with values either 1 or 0, presumably corresponding to poisonous/not poisonous."
   ]
  },
  {
   "cell_type": "markdown",
   "metadata": {},
   "source": [
    "7\\. Load the remote file [https://www.dropbox.com/s/vkl89yce7xjdq4n/regression_generated.csv?dl=1](https://www.dropbox.com/s/vkl89yce7xjdq4n/regression_generated.csv?dl=1) with Pandas and plot a scatter plot all possible combination of the following fields:\n",
    "    \n",
    "  + features_1\n",
    "  + features_2\n",
    "  + features_3"
   ]
  },
  {
   "cell_type": "code",
   "execution_count": 8,
   "metadata": {},
   "outputs": [
    {
     "data": {
      "image/png": "[encoded data removed]",
      "text/plain": [
       "<Figure size 1080x288 with 3 Axes>"
      ]
     },
     "metadata": {
      "needs_background": "light"
     },
     "output_type": "display_data"
    }
   ],
   "source": [
    "#load the data\n",
    "data=pd.read_csv(\"Data/regression_generated.csv\")\n",
    "\n",
    "#plot all possibile combinations of the three features\n",
    "fig,(ax1,ax2,ax3)=plt.subplots(nrows=1,ncols=3,figsize=(15,4))\n",
    "ax1.scatter(data[\"features_1\"],data[\"features_2\"])\n",
    "ax2.scatter(data[\"features_1\"],data[\"features_3\"])\n",
    "ax3.scatter(data[\"features_2\"],data[\"features_3\"])\n",
    "plt.show()"
   ]
  },
  {
   "cell_type": "markdown",
   "metadata": {},
   "source": [
    "8\\. Load the same file of point 6, and convert the file to json with Pandas."
   ]
  },
  {
   "cell_type": "code",
   "execution_count": 9,
   "metadata": {},
   "outputs": [
    {
     "name": "stdout",
     "output_type": "stream",
     "text": [
      "Sample 0 {'class': 1, 'cap-shape': 5, 'cap-surface': 2, 'cap-color': 4, 'bruises': 1, 'odor': 6, 'gill-attachment': 1, 'gill-spacing': 0, 'gill-size': 1, 'gill-color': 4, 'stalk-shape': 0, 'stalk-root': 3, 'stalk-surface-above-ring': 2, 'stalk-surface-below-ring': 2, 'stalk-color-above-ring': 7, 'stalk-color-below-ring': 7, 'veil-type': 0, 'veil-color': 2, 'ring-number': 1, 'ring-type': 4, 'spore-print-color': 2, 'population': 3, 'habitat': 5}\n",
      "Sample 1 {'class': 0, 'cap-shape': 5, 'cap-surface': 2, 'cap-color': 9, 'bruises': 1, 'odor': 0, 'gill-attachment': 1, 'gill-spacing': 0, 'gill-size': 0, 'gill-color': 4, 'stalk-shape': 0, 'stalk-root': 2, 'stalk-surface-above-ring': 2, 'stalk-surface-below-ring': 2, 'stalk-color-above-ring': 7, 'stalk-color-below-ring': 7, 'veil-type': 0, 'veil-color': 2, 'ring-number': 1, 'ring-type': 4, 'spore-print-color': 3, 'population': 2, 'habitat': 1}\n",
      "Sample 2 {'class': 0, 'cap-shape': 0, 'cap-surface': 2, 'cap-color': 8, 'bruises': 1, 'odor': 3, 'gill-attachment': 1, 'gill-spacing': 0, 'gill-size': 0, 'gill-color': 5, 'stalk-shape': 0, 'stalk-root': 2, 'stalk-surface-above-ring': 2, 'stalk-surface-below-ring': 2, 'stalk-color-above-ring': 7, 'stalk-color-below-ring': 7, 'veil-type': 0, 'veil-color': 2, 'ring-number': 1, 'ring-type': 4, 'spore-print-color': 3, 'population': 2, 'habitat': 3}\n",
      "Sample 3 {'class': 1, 'cap-shape': 5, 'cap-surface': 3, 'cap-color': 8, 'bruises': 1, 'odor': 6, 'gill-attachment': 1, 'gill-spacing': 0, 'gill-size': 1, 'gill-color': 5, 'stalk-shape': 0, 'stalk-root': 3, 'stalk-surface-above-ring': 2, 'stalk-surface-below-ring': 2, 'stalk-color-above-ring': 7, 'stalk-color-below-ring': 7, 'veil-type': 0, 'veil-color': 2, 'ring-number': 1, 'ring-type': 4, 'spore-print-color': 2, 'population': 3, 'habitat': 5}\n",
      "Sample 4 {'class': 0, 'cap-shape': 5, 'cap-surface': 2, 'cap-color': 3, 'bruises': 0, 'odor': 5, 'gill-attachment': 1, 'gill-spacing': 1, 'gill-size': 0, 'gill-color': 4, 'stalk-shape': 1, 'stalk-root': 3, 'stalk-surface-above-ring': 2, 'stalk-surface-below-ring': 2, 'stalk-color-above-ring': 7, 'stalk-color-below-ring': 7, 'veil-type': 0, 'veil-color': 2, 'ring-number': 1, 'ring-type': 0, 'spore-print-color': 3, 'population': 0, 'habitat': 1}\n"
     ]
    }
   ],
   "source": [
    "#load the data\n",
    "data=pd.read_csv(\"Data/mushrooms_categorized.csv\")\n",
    "#print(data)\n",
    "\n",
    "#convert the file to json\n",
    "data.T.to_json(\"Data/mushrooms_categorized.json\")\n",
    "\n",
    "#check if done properly\n",
    "data=json.load(open(\"Data/mushrooms_categorized.json\"))\n",
    "for i in range(5):print(\"Sample %d\" %i,data[\"%d\" %i])"
   ]
  },
  {
   "cell_type": "code",
   "execution_count": null,
   "metadata": {},
   "outputs": [],
   "source": []
  }
 ],
 "metadata": {
  "kernelspec": {
   "display_name": "Python 3",
   "language": "python",
   "name": "python3"
  },
  "language_info": {
   "codemirror_mode": {
    "name": "ipython",
    "version": 3
   },
   "file_extension": ".py",
   "mimetype": "text/x-python",
   "name": "python",
   "nbconvert_exporter": "python",
   "pygments_lexer": "ipython3",
   "version": "3.7.6"
  }
 },
 "nbformat": 4,
 "nbformat_minor": 2
}
