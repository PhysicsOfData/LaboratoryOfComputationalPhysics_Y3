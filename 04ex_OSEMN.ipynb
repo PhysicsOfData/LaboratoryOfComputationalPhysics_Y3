{
 "cells": [
  {
   "cell_type": "markdown",
   "metadata": {},
   "source": [
    "# OSEMN Exercises"
   ]
  },
  {
   "cell_type": "code",
   "execution_count": 1,
   "metadata": {},
   "outputs": [],
   "source": [
    "%matplotlib inline\n",
    "import pandas as pd\n",
    "import numpy as np"
   ]
  },
  {
   "cell_type": "markdown",
   "metadata": {},
   "source": [
    "1\\. Create a random list of number and then save it to a text file named \"simple_data.txt\""
   ]
  },
  {
   "cell_type": "code",
   "execution_count": 14,
   "metadata": {},
   "outputs": [
    {
     "name": "stdout",
     "output_type": "stream",
     "text": [
      "[[ 1.55133911  0.07918602  0.17397653 -0.07233657 -2.0043294   0.14467781\n",
      "  -1.50116862  0.21110945 -0.55820506  1.08452906 -0.18628912  0.01466137\n",
      "  -1.07556947  0.64225207 -0.18033671  0.62030025  0.81097433  0.77793587\n",
      "  -0.23748968 -1.89191235 -1.17212179  0.83620697  1.0092734   1.29309936\n",
      "  -0.54933117 -0.98171286  0.91467276  0.87307038  0.02211114 -0.00414358\n",
      "  -1.34912615 -0.20821785  1.32654029 -0.91626058 -0.47001315 -0.14944252\n",
      "  -0.32526012 -1.80572346 -0.50037019 -0.56478065 -0.31442857 -0.39667724\n",
      "   0.00593311 -0.99713825  1.69109758 -0.31644087  1.46513442  1.46360133\n",
      "   0.12891133 -1.17824286 -2.16650921 -1.52181288 -0.29288776  0.16048827\n",
      "  -0.78285103 -0.51740221  2.69656891  0.27520385 -1.2115925   0.58724273\n",
      "  -0.98183648 -2.43854975  0.13611748 -0.80758817  0.02008111  1.75986028\n",
      "   0.05289752 -0.89981032  1.58844975 -2.17616164 -1.21721545  1.35446929\n",
      "   1.47722741 -0.3262205  -0.78386877  0.25093104  0.23357219  0.07555501\n",
      "  -0.56786791 -1.39244738 -0.81624908 -0.51137639 -0.50980786 -0.77346088\n",
      "  -0.2485163  -1.90069201  0.79982019  1.27597389 -0.70099424 -1.47115075\n",
      "   0.26118566  0.45850855 -0.20951675  0.93200405 -0.58697323 -1.1331135\n",
      "   1.48476884 -0.51066281 -0.44821889 -2.32991332]]\n"
     ]
    }
   ],
   "source": [
    "import numpy.random as npr\n",
    "\n",
    "npr.seed(14)\n",
    "\n",
    "n = npr.randn(1,100)\n",
    "#print(n)\n",
    "\n",
    "with open('simple_data.txt', 'w') as f:\n",
    "    for item in n:\n",
    "        f.write(\"%s\\n\" % item)\n"
   ]
  },
  {
   "cell_type": "markdown",
   "metadata": {},
   "source": [
    "2\\. Create a random matrix of 5x5 and then save it to a text file named \"data.txt\""
   ]
  },
  {
   "cell_type": "code",
   "execution_count": 16,
   "metadata": {},
   "outputs": [
    {
     "name": "stdout",
     "output_type": "stream",
     "text": [
      "[[-1.1935242  -0.59204713  1.11498899 -0.64099218  1.69026197]\n",
      " [-1.38982916 -1.16299335 -0.5268758  -1.31220448 -0.99975563]\n",
      " [-0.95341953 -0.4819436  -0.81267818 -1.57392681  0.14498341]\n",
      " [-1.21450942  1.01162958 -0.51555204  0.0816738  -0.19212592]\n",
      " [ 0.08019961  0.30638117  1.76059895  0.86638016 -1.48605341]]\n"
     ]
    }
   ],
   "source": [
    "\n",
    "npr.seed(176)\n",
    "\n",
    "n = npr.randn(5,5)\n",
    "#print(n)\n",
    "\n",
    "with open('data.txt', 'w') as f:\n",
    "    for item in n:\n",
    "        f.write(\"%s\\n\" % item)"
   ]
  },
  {
   "cell_type": "markdown",
   "metadata": {},
   "source": [
    "3\\. Load the saved txt file of point 2 and convert it to a csv file (by hand)"
   ]
  },
  {
   "cell_type": "code",
   "execution_count": 22,
   "metadata": {},
   "outputs": [
    {
     "name": "stdout",
     "output_type": "stream",
     "text": [
      "['[-1.1935242  -0.59204713  1.11498899 -0.64099218  1.69026197]', '[-1.38982916 -1.16299335 -0.5268758  -1.31220448 -0.99975563]', '[-0.95341953 -0.4819436  -0.81267818 -1.57392681  0.14498341]', '[-1.21450942  1.01162958 -0.51555204  0.0816738  -0.19212592]', '[ 0.08019961  0.30638117  1.76059895  0.86638016 -1.48605341]']\n"
     ]
    }
   ],
   "source": [
    "#conversion: comma separated\n",
    "\n",
    "vec=[]\n",
    "\n",
    "with open(\"data.txt\") as f:\n",
    "    content = f.readlines()\n",
    "# you may also want to remove whitespace characters like `\\n` at the end of each line\n",
    "    content = [x.strip() for x in content]  \n",
    "\n",
    "\n",
    "\n",
    "        \n",
    "print(content)"
   ]
  },
  {
   "cell_type": "markdown",
   "metadata": {},
   "source": [
    "4\\. load the binary file named *credit_card.dat* and convert the data into the real credit-card number.\n",
    "Each line correspond to a credit card number.\n",
    "Each character is composed by 6 bit (even the space) and the last 4 bit are just a padding\n",
    "\n",
    "**hint**: use the `chr()` function to convert a number to a char"
   ]
  },
  {
   "cell_type": "markdown",
   "metadata": {},
   "source": [
    "5\\. Load the file \"user_data.json\", filter the data by the \"CreditCardType\" field equals to \"American Express\". Than save the data a to CSV."
   ]
  },
  {
   "cell_type": "markdown",
   "metadata": {},
   "source": [
    "6\\. Load the file from this url: [https://www.dropbox.com/s/7u3lm737ogbqsg8/mushrooms_categorized.csv?dl=1](https://www.dropbox.com/s/7u3lm737ogbqsg8/mushrooms_categorized.csv?dl=1) with Pandas. \n",
    "+ Explore the data (see the info of the data)\n",
    "+ Draw the istogram of the 'class' field. Decribe wath yuou see\n"
   ]
  },
  {
   "cell_type": "markdown",
   "metadata": {},
   "source": [
    "7\\. Load the remote file [https://www.dropbox.com/s/vkl89yce7xjdq4n/regression_generated.csv?dl=1](https://www.dropbox.com/s/vkl89yce7xjdq4n/regression_generated.csv?dl=1) with Pandas and plot a scatter plot all possible combination of the following fields:\n",
    "    \n",
    "  + features_1\n",
    "  + features_2\n",
    "  + features_3"
   ]
  },
  {
   "cell_type": "markdown",
   "metadata": {},
   "source": [
    "8\\. Load the same file of point 6, and convert the file to json with Pandas."
   ]
  }
 ],
 "metadata": {
  "kernelspec": {
   "display_name": "Python 3",
   "language": "python",
   "name": "python3"
  },
  "language_info": {
   "codemirror_mode": {
    "name": "ipython",
    "version": 3
   },
   "file_extension": ".py",
   "mimetype": "text/x-python",
   "name": "python",
   "nbconvert_exporter": "python",
   "pygments_lexer": "ipython3",
   "version": "3.8.3"
  }
 },
 "nbformat": 4,
 "nbformat_minor": 2
}
