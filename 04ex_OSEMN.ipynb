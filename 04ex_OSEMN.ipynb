{
 "cells": [
  {
   "cell_type": "markdown",
   "metadata": {},
   "source": [
    "# OSEMN Exercises"
   ]
  },
  {
   "cell_type": "code",
   "execution_count": 2,
   "metadata": {},
   "outputs": [],
   "source": [
    "%matplotlib inline\n",
    "import pandas as pd\n",
    "import numpy as np"
   ]
  },
  {
   "cell_type": "markdown",
   "metadata": {},
   "source": [
    "1\\. Create a random list of number and then save it to a text file named \"simple_data.txt\""
   ]
  },
  {
   "cell_type": "code",
   "execution_count": 3,
   "metadata": {},
   "outputs": [
    {
     "name": "stdout",
     "output_type": "stream",
     "text": [
      "1.1901629815214845\n",
      "-1.090110230570335\n",
      "0.571992350048187\n",
      "-0.07707531468000157\n",
      "0.11844490096852735\n",
      "0.02817241584258494\n",
      "0.377925145726799\n",
      "-0.5476244746595736\n",
      "1.5356801030613902\n",
      "-1.3176670572892337\n"
     ]
    }
   ],
   "source": [
    "list_new = []\n",
    "file1 = open(\"simple_data.txt\",mode = 'w')\n",
    "for i in range(0,10):\n",
    "    var = np.random.randn()\n",
    "    list_new.append(var)\n",
    "    print(var)\n",
    "    \n",
    "for var1 in list_new:\n",
    "    file1.write(str(var1))\n",
    "    file1.write(\"\\n\")"
   ]
  },
  {
   "cell_type": "markdown",
   "metadata": {},
   "source": [
    "2\\. Create a random matrix of 5x5 and then save it to a text file named \"data.txt\""
   ]
  },
  {
   "cell_type": "code",
   "execution_count": 16,
   "metadata": {},
   "outputs": [
    {
     "name": "stdout",
     "output_type": "stream",
     "text": [
      "1.3560690048086075\n",
      "0.005067171668919484\n",
      "0.5004397169614974\n",
      "-1.6169231564163833\n",
      "1.0401012978359783\n",
      "0.9636712966723295\n",
      "0.7790058523035407\n",
      "-0.03458150716065494\n",
      "0.1365158381706401\n",
      "-1.9169850279569844\n",
      "0.7927332454114695\n",
      "-0.3080079327036908\n",
      "-0.4472200797861804\n",
      "-1.8539150564656355\n",
      "1.4955095276902428\n",
      "0.8544763754865694\n",
      "-0.3421011172757212\n",
      "0.26637777511006194\n",
      "1.1738482525066156\n",
      "-0.22314890307901294\n",
      "-0.6786830087362509\n",
      "0.12416396304330539\n",
      "1.12842604757857\n",
      "1.2504202239345812\n",
      "-0.4759882050318822\n"
     ]
    }
   ],
   "source": [
    "file1 = open(\"data.txt\", mode ='w')\n",
    "list_new = []\n",
    "for i in range(0,5):\n",
    "    for j in range(0,5):\n",
    "        var_1 = np.random.randn()\n",
    "        m[i][j] = var_1\n",
    "        list_new.append(var_1)\n",
    "        print(var_1)\n",
    "        \n",
    "for var_new in list_new:        \n",
    "        file1.write(str(var_new))\n",
    "        file1.write(\"\\n\")"
   ]
  },
  {
   "cell_type": "markdown",
   "metadata": {},
   "source": [
    "3\\. Load the saved txt file of point 2 and convert it to a csv file (by hand)"
   ]
  },
  {
   "cell_type": "code",
   "execution_count": 23,
   "metadata": {},
   "outputs": [],
   "source": [
    "file2 = open(\"data.txt\", 'r')\n",
    "file_csv = open(\"data.csv\",'w')\n",
    "\n",
    "file_csv."
   ]
  },
  {
   "cell_type": "markdown",
   "metadata": {},
   "source": [
    "4\\. load the binary file named *credit_card.dat* and convert the data into the real credit-card number.\n",
    "Each line correspond to a credit card number.\n",
    "Each character is composed by 6 bit (even the space) and the last 4 bit are just a padding\n",
    "\n",
    "**hint**: use the `chr()` function to convert a number to a char"
   ]
  },
  {
   "cell_type": "code",
   "execution_count": 22,
   "metadata": {},
   "outputs": [
    {
     "ename": "SyntaxError",
     "evalue": "unexpected EOF while parsing (<ipython-input-22-d8766733445e>, line 4)",
     "output_type": "error",
     "traceback": [
      "\u001b[0;36m  File \u001b[0;32m\"<ipython-input-22-d8766733445e>\"\u001b[0;36m, line \u001b[0;32m4\u001b[0m\n\u001b[0;31m    # print(x)\u001b[0m\n\u001b[0m              ^\u001b[0m\n\u001b[0;31mSyntaxError\u001b[0m\u001b[0;31m:\u001b[0m unexpected EOF while parsing\n"
     ]
    }
   ],
   "source": [
    "file1 = open(\"credit_card.dat\",'r')\n",
    "       "
   ]
  },
  {
   "cell_type": "markdown",
   "metadata": {},
   "source": [
    "5\\. Load the file \"user_data.json\", filter the data by the \"CreditCardType\" field equals to \"American Express\". Than save the data a to CSV."
   ]
  },
  {
   "cell_type": "markdown",
   "metadata": {},
   "source": [
    "6\\. Load the file from this url: [https://www.dropbox.com/s/7u3lm737ogbqsg8/mushrooms_categorized.csv?dl=1](https://www.dropbox.com/s/7u3lm737ogbqsg8/mushrooms_categorized.csv?dl=1) with Pandas. \n",
    "+ Explore the data (see the info of the data)\n",
    "+ Draw the istogram of the 'class' field. Decribe wath yuou see\n"
   ]
  },
  {
   "cell_type": "markdown",
   "metadata": {},
   "source": [
    "7\\. Load the remote file [https://www.dropbox.com/s/vkl89yce7xjdq4n/regression_generated.csv?dl=1](https://www.dropbox.com/s/vkl89yce7xjdq4n/regression_generated.csv?dl=1) with Pandas and plot a scatter plot all possible combination of the following fields:\n",
    "    \n",
    "  + features_1\n",
    "  + features_2\n",
    "  + features_3"
   ]
  },
  {
   "cell_type": "markdown",
   "metadata": {},
   "source": [
    "8\\. Load the same file of point 6, and convert the file to json with Pandas."
   ]
  }
 ],
 "metadata": {
  "kernelspec": {
   "display_name": "Python 3",
   "language": "python",
   "name": "python3"
  },
  "language_info": {
   "codemirror_mode": {
    "name": "ipython",
    "version": 3
   },
   "file_extension": ".py",
   "mimetype": "text/x-python",
   "name": "python",
   "nbconvert_exporter": "python",
   "pygments_lexer": "ipython3",
   "version": "3.8.3"
  }
 },
 "nbformat": 4,
 "nbformat_minor": 2
}
