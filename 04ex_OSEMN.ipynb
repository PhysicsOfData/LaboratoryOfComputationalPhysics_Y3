{
 "cells": [
  {
   "cell_type": "markdown",
   "metadata": {},
   "source": [
    "# OSEMN Exercises"
   ]
  },
  {
   "cell_type": "code",
   "execution_count": null,
   "metadata": {},
   "outputs": [],
   "source": [
    "%matplotlib inline\n",
    "import pandas as pd\n",
    "import numpy as np"
   ]
  },
  {
   "cell_type": "markdown",
   "metadata": {},
   "source": [
    "1\\. Create a random list of number and then save it to a text file named \"simple_data.txt\""
   ]
  },
  {
   "cell_type": "code",
   "execution_count": null,
   "metadata": {},
   "outputs": [],
   "source": [
    "import numpy as np\n",
    "r_numlist=np.random.uniform(size=10)\n",
    "print(\"Random List=\",r_numlist)\n",
    "\n",
    "f1=open('simple_data.txt','w')\n",
    "f1.write(str(r_numlist))\n",
    "f1.close()\n"
   ]
  },
  {
   "cell_type": "markdown",
   "metadata": {},
   "source": [
    "2\\. Create a random matrix of 5x5 and then save it to a text file named \"data.txt\""
   ]
  },
  {
   "cell_type": "code",
   "execution_count": null,
   "metadata": {},
   "outputs": [],
   "source": [
    "import numpy as np\n",
    "r_matlist= np.random.uniform(size=25).reshape((5,5))\n",
    "print(\"Random Matrix=\", \"\\n\",r_matlist)\n",
    "f2=open('data.txt','w')\n",
    "f2.write(str(r_matlist))\n",
    "f2.close()"
   ]
  },
  {
   "cell_type": "markdown",
   "metadata": {},
   "source": [
    "3\\. Load the saved txt file of point 2 and convert it to a csv file (by hand)"
   ]
  },
  {
   "cell_type": "code",
   "execution_count": null,
   "metadata": {},
   "outputs": [],
   "source": [
    "#please write your path file\n",
    "file_name = \"/Users/Selen/desktop/PYTHON/data.txt\"\n",
    "with open(file_name, mode='r') as f:\n",
    "      print (f.read()) \n",
    "read_file = pd.read_csv ('/Users/Selen/desktop/PYTHON/data.txt')\n",
    "read_file.to_csv ('/Users/Selen/desktop/PYTHON/datacvs.csv', index=None)"
   ]
  },
  {
   "cell_type": "markdown",
   "metadata": {},
   "source": [
    "4\\. load the binary file named *credit_card.dat* and convert the data into the real credit-card number.\n",
    "Each line correspond to a credit card number.\n",
    "Each character is composed by 6 bit (even the space) and the last 4 bit are just a padding\n",
    "\n",
    "**hint**: use the `chr()` function to convert a number to a char"
   ]
  },
  {
   "cell_type": "code",
   "execution_count": null,
   "metadata": {},
   "outputs": [],
   "source": [
    "#please write your path file\n",
    "data = open( \"credit_card.dat\" )\n",
    "i=data.read()\n",
    "data.close()\n",
    "for i in data.splitlines():\n",
    "    number=i\n",
    "    if number==\"100000\":\n",
    "        print(\" \",end=\" \")\n",
    "    else:\n",
    "        print(int(number,2),end=\"\")\n",
    "        \n"
   ]
  },
  {
   "cell_type": "markdown",
   "metadata": {},
   "source": [
    "5\\. Load the file \"user_data.json\", filter the data by the \"CreditCardType\" field equals to \"American Express\". Than save the data a to CSV."
   ]
  },
  {
   "cell_type": "code",
   "execution_count": null,
   "metadata": {},
   "outputs": [],
   "source": [
    "#please write your path file\n",
    "with open(\"/Users/Selen/desktop/LaboratoryOfComputationalPhysics_Y3/user_data.json\") as user_data:\n",
    "    data=json.load(user_data)\n",
    "\n",
    "data_file = open('data_file.csv', 'w') \n",
    "csv_writer = csv.writer(data_file) \n",
    "\n",
    "for x in range (200):\n",
    "    if ((data[x]['CreditCardType']) == \"American Express\"):\n",
    "                header = data[x].keys() \n",
    "                csv_writer.writerow(header) \n",
    "                csv_writer.writerow(data[x].values()) \n",
    "data_file.close() \n"
   ]
  },
  {
   "cell_type": "markdown",
   "metadata": {},
   "source": [
    "6\\. Load the file from this url: [https://www.dropbox.com/s/7u3lm737ogbqsg8/mushrooms_categorized.csv?dl=1](https://www.dropbox.com/s/7u3lm737ogbqsg8/mushrooms_categorized.csv?dl=1) with Pandas. \n",
    "+ Explore the data (see the info of the data)\n",
    "+ Draw the istogram of the 'class' field. Decribe wath yuou see\n"
   ]
  },
  {
   "cell_type": "code",
   "execution_count": null,
   "metadata": {},
   "outputs": [],
   "source": [
    "url =\"https://www.dropbox.com/s/7u3lm737ogbqsg8/mushrooms_categorized.csv?dl=1\"\n",
    "df = pd.read_csv(url)\n",
    "#Explore the data (see the info of the data)\n",
    "print(df.head())\n",
    "print(df.info())\n",
    "\n",
    "#Draw the istogram of the 'class' field. Decribe wath yuou see\n",
    "plt.hist(df['class'] ,bins='auto')\n",
    "plt.show()\n"
   ]
  },
  {
   "cell_type": "markdown",
   "metadata": {},
   "source": [
    "7\\. Load the remote file [https://www.dropbox.com/s/vkl89yce7xjdq4n/regression_generated.csv?dl=1](https://www.dropbox.com/s/vkl89yce7xjdq4n/regression_generated.csv?dl=1) with Pandas and plot a scatter plot all possible combination of the following fields:\n",
    "    \n",
    "  + features_1\n",
    "  + features_2\n",
    "  + features_3"
   ]
  },
  {
   "cell_type": "code",
   "execution_count": null,
   "metadata": {},
   "outputs": [],
   "source": [
    "url=\"https://www.dropbox.com/s/vkl89yce7xjdq4n/regression_generated.csv?dl=1 \"\n",
    "df=pd.read_csv(url)\n",
    "print(df)\n",
    "#features_1 and features_2 \n",
    "f1_2=df.loc[:,[\"features_1\",\"features_2\"]]\n",
    "print(f1_2)\n",
    "f1_2.plot(style=['o','rx'])\n",
    "#features_1 and features_3 \n",
    "f1_3=df.loc[:,[\"features_1\",\"features_3\"]]\n",
    "print(f1_3)\n",
    "f1_3.plot(style=['o','rx'])\n",
    "#features_2 and features_3\n",
    "f2_3=df.loc[:,[\"features_2\",\"features_3\"]]\n",
    "print(f2_3)\n",
    "f2_3.plot(style=['o','rx']) \n"
   ]
  },
  {
   "cell_type": "markdown",
   "metadata": {},
   "source": [
    "8\\. Load the same file of point 6, and convert the file to json with Pandas."
   ]
  },
  {
   "cell_type": "code",
   "execution_count": 1,
   "metadata": {},
   "outputs": [],
   "source": [
    "url =\"https://www.dropbox.com/s/7u3lm737ogbqsg8/mushrooms_categorized.csv?dl=1\"\n",
    "df = pd.read_csv(url)\n",
    "#Please enter your file path\n",
    "df.to_json ('/Users/Selen/desktop/LaboratoryOfComputationalPhysics_Y3/mushroom_categorized_js.json.')"
   ]
  }
 ],
 "metadata": {
  "kernelspec": {
   "display_name": "Python 3",
   "language": "python",
   "name": "python3"
  },
  "language_info": {
   "codemirror_mode": {
    "name": "ipython",
    "version": 3
   },
   "file_extension": ".py",
   "mimetype": "text/x-python",
   "name": "python",
   "nbconvert_exporter": "python",
   "pygments_lexer": "ipython3",
   "version": "3.8.3"
  }
 },
 "nbformat": 4,
 "nbformat_minor": 2
}
