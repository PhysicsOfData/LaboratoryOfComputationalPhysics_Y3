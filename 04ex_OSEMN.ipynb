{
 "cells": [
  {
   "cell_type": "markdown",
   "metadata": {},
   "source": [
    "# OSEMN Exercises"
   ]
  },
  {
   "cell_type": "code",
   "execution_count": 2,
   "metadata": {},
   "outputs": [],
   "source": [
    "%matplotlib inline\n",
    "import pandas as pd\n",
    "import numpy as np"
   ]
  },
  {
   "cell_type": "markdown",
   "metadata": {},
   "source": [
    "1\\. Create a random list of number and then save it to a text file named \"simple_data.txt\""
   ]
  },
  {
   "cell_type": "code",
   "execution_count": 8,
   "metadata": {},
   "outputs": [
    {
     "name": "stdout",
     "output_type": "stream",
     "text": [
      "3.828804726381406232e-01\r\n",
      "8.110402543644360529e-01\r\n",
      "1.119412495436390431e-01\r\n",
      "9.215432482541611181e-01\r\n",
      "3.899700041772724557e-01\r\n",
      "6.078821285682134423e-01\r\n",
      "2.925812176644089213e-01\r\n",
      "8.979731746489367783e-01\r\n",
      "1.135421946282685335e-01\r\n",
      "6.323451273042590692e-01\r\n"
     ]
    }
   ],
   "source": [
    "l=np.random.random(10)\n",
    "#print(l)\n",
    "np.savetxt('simple_data.txt', l, delimiter=',')\n",
    "! cat simple*"
   ]
  },
  {
   "cell_type": "markdown",
   "metadata": {},
   "source": [
    "2\\. Create a random matrix of 5x5 and then save it to a text file named \"data.txt\""
   ]
  },
  {
   "cell_type": "code",
   "execution_count": 16,
   "metadata": {},
   "outputs": [
    {
     "name": "stdout",
     "output_type": "stream",
     "text": [
      "5.178399271393638870e-01,1.574691257204630102e-02,4.151231864962923179e-01,5.946578157696202904e-01,2.344472347712723836e-01\r\n",
      "8.308594608128824222e-01,1.302957658621632930e-01,2.186414174835902280e-01,1.315858704055167250e-01,9.869629543255465931e-01\r\n",
      "9.042014430190989938e-01,9.810311406366063469e-01,8.643057534459938074e-01,2.265381855403985067e-01,3.352951318089310018e-01\r\n",
      "6.347023140765438720e-01,9.160263204327061537e-01,9.483899739291214992e-01,9.459051817294105158e-01,5.405030963843044933e-01\r\n",
      "7.591169540401909721e-02,8.473754637886998786e-01,8.286228714406217444e-01,7.072934831548500778e-01,9.256414382311199951e-01\r\n"
     ]
    }
   ],
   "source": [
    "l=np.random.rand(5,5)\n",
    "#print(l)\n",
    "np.savetxt('data.txt', l, delimiter=',')\n",
    "! cat data.txt"
   ]
  },
  {
   "cell_type": "markdown",
   "metadata": {},
   "source": [
    "3\\. Load the saved txt file of point 2 and convert it to a csv file (by hand)"
   ]
  },
  {
   "cell_type": "code",
   "execution_count": 17,
   "metadata": {},
   "outputs": [
    {
     "name": "stdout",
     "output_type": "stream",
     "text": [
      "[[0.51783993 0.01574691 0.41512319 0.59465782 0.23444723]\n",
      " [0.83085946 0.13029577 0.21864142 0.13158587 0.98696295]\n",
      " [0.90420144 0.98103114 0.86430575 0.22653819 0.33529513]\n",
      " [0.63470231 0.91602632 0.94838997 0.94590518 0.5405031 ]\n",
      " [0.0759117  0.84737546 0.82862287 0.70729348 0.92564144]]\n",
      "5.178399271393638870e-01,1.574691257204630102e-02,4.151231864962923179e-01,5.946578157696202904e-01,2.344472347712723836e-01\r\n",
      "8.308594608128824222e-01,1.302957658621632930e-01,2.186414174835902280e-01,1.315858704055167250e-01,9.869629543255465931e-01\r\n",
      "9.042014430190989938e-01,9.810311406366063469e-01,8.643057534459938074e-01,2.265381855403985067e-01,3.352951318089310018e-01\r\n",
      "6.347023140765438720e-01,9.160263204327061537e-01,9.483899739291214992e-01,9.459051817294105158e-01,5.405030963843044933e-01\r\n",
      "7.591169540401909721e-02,8.473754637886998786e-01,8.286228714406217444e-01,7.072934831548500778e-01,9.256414382311199951e-01\r\n"
     ]
    }
   ],
   "source": [
    "l=np.loadtxt('data.txt',delimiter=',')\n",
    "print(l)\n",
    "np.savetxt('data.csv', l, delimiter=',')\n",
    "! cat data.csv"
   ]
  },
  {
   "cell_type": "markdown",
   "metadata": {},
   "source": [
    "4\\. load the binary file named *credit_card.dat* and convert the data into the real credit-card number.\n",
    "Each line correspond to a credit card number.\n",
    "Each character is composed by 6 bit (even the space) and the last 4 bit are just a padding\n",
    "\n",
    "**hint**: use the `chr()` function to convert a number to a char"
   ]
  },
  {
   "cell_type": "code",
   "execution_count": 35,
   "metadata": {
    "scrolled": true
   },
   "outputs": [
    {
     "name": "stdout",
     "output_type": "stream",
     "text": [
      "['7648 5673 3775 2271', '3257 8247 3354 2266', '2722 0001 4011 6652', '0661 3063 3742 3150', '0432 1608 1462 4742', '5827 2027 8785 7303', '5774 8528 2087 1117', '8140 1210 6352 2845', '5764 1133 7301 7100', '6456 1737 4126 6726', '1228 8631 7382 0000', '7051 0160 5374 3166', '0618 3587 1630 6376', '1545 5454 7444 5636', '6735 3116 3202 6834', '7287 5011 1547 8413', '7033 2607 3328 4200', '2568 5244 1874 5024', '1684 2253 7570 7118', '0672 2576 0575 6631', '6332 8353 8787 1340', '1813 3361 1175 4211', '2477 6450 8840 2368', '5512 3505 2563 1326', '3083 7882 0621 0025', '4521 5148 8045 0334', '7563 3654 8713 5787', '8324 2664 0476 5561', '0565 2504 7168 3510', '5107 5507 1767 0738', '2462 1821 2448 1443', '2788 0638 6861 6554', '5851 5873 5474 0547', '0670 1004 4013 2655', '5874 5506 3048 0806', '2805 5401 8462 1260', '5083 8406 6310 1862', '1076 1445 3013 2266', '8440 4804 4844 5277', '4758 6141 0686 1387', '7586 0675 0315 2568', '2544 1258 7432 5165', '3474 5023 4434 5626', '1410 0270 0434 5086', '7315 4446 1104 4215', '0224 7742 8300 0266', '0170 2700 3145 0640', '2006 2437 8054 1600', '8142 4055 1776 0026', '3026 7380 1241 1084', '']\n"
     ]
    }
   ],
   "source": [
    "f = open(\"credit_card.dat\", \"r\")\n",
    "credit_card_numbers=[]\n",
    "for r in f:\n",
    "    n=6\n",
    "    c_n=''\n",
    "    while n<len(r):\n",
    "        b=int(r[n-6:n],2)\n",
    "        c_n+=chr(b)\n",
    "        n+=6\n",
    "    credit_card_numbers.append(c_n)\n",
    "    \n",
    "print(credit_card_numbers)"
   ]
  },
  {
   "cell_type": "markdown",
   "metadata": {},
   "source": [
    "5\\. Load the file \"user_data.json\", filter the data by the \"CreditCardType\" field equals to \"American Express\". Than save the data a to CSV."
   ]
  },
  {
   "cell_type": "markdown",
   "metadata": {},
   "source": [
    "6\\. Load the file from this url: [https://www.dropbox.com/s/7u3lm737ogbqsg8/mushrooms_categorized.csv?dl=1](https://www.dropbox.com/s/7u3lm737ogbqsg8/mushrooms_categorized.csv?dl=1) with Pandas. \n",
    "+ Explore the data (see the info of the data)\n",
    "+ Draw the istogram of the 'class' field. Decribe wath yuou see\n"
   ]
  },
  {
   "cell_type": "markdown",
   "metadata": {},
   "source": [
    "7\\. Load the remote file [https://www.dropbox.com/s/vkl89yce7xjdq4n/regression_generated.csv?dl=1](https://www.dropbox.com/s/vkl89yce7xjdq4n/regression_generated.csv?dl=1) with Pandas and plot a scatter plot all possible combination of the following fields:\n",
    "    \n",
    "  + features_1\n",
    "  + features_2\n",
    "  + features_3"
   ]
  },
  {
   "cell_type": "markdown",
   "metadata": {},
   "source": [
    "8\\. Load the same file of point 6, and convert the file to json with Pandas."
   ]
  }
 ],
 "metadata": {
  "kernelspec": {
   "display_name": "Python 3",
   "language": "python",
   "name": "python3"
  },
  "language_info": {
   "codemirror_mode": {
    "name": "ipython",
    "version": 3
   },
   "file_extension": ".py",
   "mimetype": "text/x-python",
   "name": "python",
   "nbconvert_exporter": "python",
   "pygments_lexer": "ipython3",
   "version": "3.8.1"
  }
 },
 "nbformat": 4,
 "nbformat_minor": 2
}
