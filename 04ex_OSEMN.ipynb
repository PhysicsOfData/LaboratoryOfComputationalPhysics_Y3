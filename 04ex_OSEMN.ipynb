{
 "cells": [
  {
   "cell_type": "markdown",
   "metadata": {},
   "source": [
    "# OSEMN Exercises"
   ]
  },
  {
   "cell_type": "code",
   "execution_count": 15,
   "metadata": {},
   "outputs": [],
   "source": [
    "%matplotlib inline\n",
    "import pandas as pd\n",
    "import numpy as np\n",
    "import numpy.random as npr\n",
    "import random"
   ]
  },
  {
   "cell_type": "markdown",
   "metadata": {},
   "source": [
    "1\\. Create a random list of number and then save it to a text file named \"simple_data.txt\""
   ]
  },
  {
   "cell_type": "code",
   "execution_count": 22,
   "metadata": {},
   "outputs": [],
   "source": [
    "# we can for example create a list of random numbers in the range(1,101) and putting them into a txt file \n",
    "datafile = open(\"simple_data.txt\",\"w+\")\n",
    "# Here, we used \"w\" letter in our argument, which indicates write and will create a file if it does not exist in library.Plus sign indicates both read and write\n",
    "for i in range(100) :\n",
    "    datafile.write(str(random.randint(0,100))) \n",
    "datafile.close()"
   ]
  },
  {
   "cell_type": "markdown",
   "metadata": {},
   "source": [
    "2\\. Create a random matrix of 5x5 and then save it to a text file named \"data.txt\""
   ]
  },
  {
   "cell_type": "code",
   "execution_count": 67,
   "metadata": {},
   "outputs": [
    {
     "output_type": "execute_result",
     "data": {
      "text/plain": [
       "_io.TextIOWrapper"
      ]
     },
     "metadata": {},
     "execution_count": 67
    }
   ],
   "source": [
    "npr.seed(145)\n",
    "rmatrix = npr.randint(100,size = (5,5)) # a matrix of random integers from 0 to 100 5x5 of shape\n",
    "with open(\"data.txt\",\"w+\") as datafile :\n",
    "    np.savetxt(\"data.txt\", rmatrix, fmt='%i',delimiter=' ')\n",
    "    datafile.close()\n",
    "# without iterating on rows the numpy method savetxt saves the entire matrix into the txt file with the format we choose in fmt and with the delimiter of coloumns in delimiter=''"
   ]
  },
  {
   "cell_type": "markdown",
   "metadata": {},
   "source": [
    "3\\. Load the saved txt file of point 2 and convert it to a csv file (by hand)"
   ]
  },
  {
   "cell_type": "code",
   "execution_count": 172,
   "metadata": {},
   "outputs": [],
   "source": [
    "import csv \n",
    "with open(\"data.txt\",\"r\") as dataload, open(\"data.csv\",\"w\") as dataout : \n",
    "    for row in dataload :\n",
    "        dataout.write(row.replace(' ',',')) # anche senza castare a lista quando si da in pasto al comando writerow ciò che viene preso dal file di testo questo scrive nel file csv ogni carattere separatamente\n",
    "# si potrebbe usare anche la libreria csv per scrivere all'interno di un file csv con gli opportuni metodi. In modo che in effetti quelli che si vedono dentro il file siano dei dati separati da una virgola. Bisogna definire un oggetto writer che poi verrà usato per scrivere direttamente nel file \n",
    "with open(\"data.txt\",\"r\") as dataload, open(\"data.csv\",\"w\") as dataout :\n",
    "# writer.writerow(row)\n",
    "# senza castare a lista quando si da in pasto al comando writerow il writer questo scrive nel file csv ogni carattere separatamente\n",
    "# rowlist = list(row) # castando come lista la stringa del file di testo otteniamo una lista con tutti i caratteri presenti nella stringa cioè gli spazi e ciascun numero è preso singolarmente. si trova alla fine anche il carattere che segna la fine della riga e l'andata a capo. Quindi abbiamo bisogno di eliminare gli spazi, renderli delle virgole.\n",
    "    writer = csv.writer(dataout)\n",
    "    # lista = [] # definisco questa lista più grande poter poi scrivere sul file csv direttamente writerows separate da una virgola ognuna \n",
    "    for row in dataload :\n",
    "        lines = row.strip('\\n') # il metodo strip funziona con le stringhe ed elimina i caratteri iniziali e finali, specificati eventualmente dal secondo argomento\n",
    "        lines = lines.split() # con .split(',') ogni \"lines\" è una lista contenente numeri e spazi perchè la virgola indica di passare da una colonna all'altra dunque si divide ogni riga, visto che sto iterando nelle righe di dataload, in un'unica stringa perchè la virgola separatoria delle colonne è alla fine della riga essendo questa solo una\n",
    "        # print(lines), in questo modo verifico di ottenere ciascun iterazione una lista di numeri (stringhe) poichè con .split() senza separator viene usato di default lo spazio\n",
    "        # ad ogni iterazione vorrei aggiungere ad una lista più grande\n",
    "        # lista.append(lines)\n",
    "        writer.writerow(lines)\n",
    "    # writer.writerows(lista) # oppure direttamente nel ciclo utilizzo writerow con argomento lines\n",
    "    \n",
    "# alla fine mi rimane un problema che è quello per cui ogni riga è separata dalla successiva da una riga vuota "
   ]
  },
  {
   "cell_type": "markdown",
   "metadata": {},
   "source": [
    "4\\. load the binary file named *credit_card.dat* and convert the data into the real credit-card number.\n",
    "Each line correspond to a credit card number.\n",
    "Each character is composed by 6 bit (even the space) and the last 4 bit are just a padding\n",
    "\n",
    "**hint**: use the `chr()` function to convert a number to a char"
   ]
  },
  {
   "cell_type": "code",
   "execution_count": 258,
   "metadata": {
    "tags": []
   },
   "outputs": [
    {
     "output_type": "stream",
     "name": "stdout",
     "text": [
      "19\n38\n57\n76\n95\n114\n133\n152\n171\n190\n209\n228\n247\n266\n285\n304\n323\n342\n361\n380\n399\n418\n437\n456\n475\n494\n513\n532\n551\n570\n589\n608\n627\n646\n665\n684\n703\n722\n741\n760\n779\n798\n817\n836\n855\n874\n893\n912\n931\n950\n950\n"
     ]
    }
   ],
   "source": [
    "with open(\"credit_card.dat\",\"r\") as creditfile : # dovrei leggere qualsiasi riga come un numero dalla quartultima posizione perchè è indicato esplicitamente che gli ultimi quattro bit sono per riempimento\n",
    "    card = np.empty(51,114) # per ora lascio così in hard coding\n",
    "    for row in creditfile : # le row sono tutte stringhe come ci aspettiamo dalla lettura del file \n",
    "        number = row[:-5] # in questo modo ho eliminato da ciascuna riga gli ultimi quattro numeri riempimento.\n",
    "        # ogni carattere è costituito da 6 bit compresi gli spazi. Una carta di credito è costituita da:\n",
    "        # quattro numeri, spazio, quattro numeri, spazio, quattro numeri, spazio, quattro numeri. Ciascuno di questi è impacchettato in 6 bit quindi è necessario leggere la stringa a quattro a quattro (sei per quattro) e tradurla piano piano in interi. Potrei tradurli e solo dopo i multipli di \"4\" nella lista che ottengo li trasformo in spazi con replace\n",
    "        # i deve andare in una lista di multipli di sei e dentro il ciclo for appendo alla lista card ogni intero tradotto \n",
    "        for i in [6*j for j in range(len(number)) if 6*j < len(number)] : # sono 114 caratteri in totale nella stringa number, quindi la lista su cui itera i sarà costituita dai multipli di sei (lunghezza ciascun carattere in bit) fino all'ultimo minore della len(number) cosicchè l'ultima iterazione permetterà di selezionare gli ultimi sei caratteri della stringa. card.append(int(number[i:i+6],2)) # dovrei però, cambiando riga, anche cambiare riga nella lista, potrei usare un array di numpy, anzichè appendere tutto in card metto direttamente per ogni iterazione di row una riga diversa nell'array\n",
    "            card[]"
   ]
  },
  {
   "cell_type": "code",
   "execution_count": 228,
   "metadata": {},
   "outputs": [
    {
     "output_type": "stream",
     "name": "stdout",
     "text": [
      "[255, 15]\nTrue\n65295\n"
     ]
    }
   ],
   "source": [
    "# esempi con il tipo di dato \"bytes\"\n",
    "mutable_bytes = bytearray(b'\\x00\\x0F')\n",
    "mutable_bytes[0] = 255\n",
    "print([mutable_bytes[i] for i in range(len(mutable_bytes))]) # a list of the numbers that were into the bytearray mutable object made of bytes\n",
    "immutable_bytes = bytes(mutable_bytes)\n",
    "print(immutable_bytes == mutable_bytes)\n",
    "print(int.from_bytes(mutable_bytes, byteorder='big')) # in questo modo l'array che prima era costituito da due differenti bytes adesso se lo leggo come int.from_bytes è interpretato come un solo numero"
   ]
  },
  {
   "cell_type": "code",
   "execution_count": 299,
   "metadata": {
    "tags": []
   },
   "outputs": [
    {
     "output_type": "stream",
     "name": "stdout",
     "text": [
      "(51,)\n['110111110110110100111000100000110101110110110111110011100000110011110111110111110101100000110010110010110111110001', '110011110010110101110111100000111000110010110100110111100000110011110011110101110100100000110010110010110110110110', '110010110111110010110010100000110000110000110000110001100000110100110000110001110001100000110110110110110101110010', '110000110110110110110001100000110011110000110110110011100000110011110111110100110010100000110011110001110101110000', '110000110100110011110010100000110001110110110000111000100000110001110100110110110010100000110100110111110100110010', '110101111000110010110111100000110010110000110010110111100000111000110111111000110101100000110111110011110000110011', '110101110111110111110100100000111000110101110010111000100000110010110000111000110111100000110001110001110001110111', '111000110001110100110000100000110001110010110001110000100000110110110011110101110010100000110010111000110100110101', '110101110111110110110100100000110001110001110011110011100000110111110011110000110001100000110111110001110000110000', '110110110100110101110110100000110001110111110011110111100000110100110001110010110110100000110110110111110010110110', '110001110010110010111000100000111000110110110011110001100000110111110011111000110010100000110000110000110000110000', '110111110000110101110001100000110000110001110110110000100000110101110011110111110100100000110011110001110110110110', '110000110110110001111000100000110011110101111000110111100000110001110110110011110000100000110110110011110111110110', '110001110101110100110101100000110101110100110101110100100000110111110100110100110100100000110101110110110011110110', '110110110111110011110101100000110011110001110001110110100000110011110010110000110010100000110110111000110011110100', '110111110010111000110111100000110101110000110001110001100000110001110101110100110111100000111000110100110001110011', '110111110000110011110011100000110010110110110000110111100000110011110011110010111000100000110100110010110000110000', '110010110101110110111000100000110101110010110100110100100000110001111000110111110100100000110101110000110010110100', '110001110110111000110100100000110010110010110101110011100000110111110101110111110000100000110111110001110001111000', '110000110110110111110010100000110010110101110111110110100000110000110101110111110101100000110110110110110011110001', '110110110011110011110010100000111000110011110101110011100000111000110111111000110111100000110001110011110100110000', '110001111000110001110011100000110011110011110110110001100000110001110001110111110101100000110100110010110001110001', '110010110100110111110111100000110110110100110101110000100000111000111000110100110000100000110010110011110110111000', '110101110101110001110010100000110011110101110000110101100000110010110101110110110011100000110001110011110010110110', '110011110000111000110011100000110111111000111000110010100000110000110110110010110001100000110000110000110010110101', '110100110101110010110001100000110101110001110100111000100000111000110000110100110101100000110000110011110011110100', '110111110101110110110011100000110011110110110101110100100000111000110111110001110011100000110101110111111000110111', '111000110011110010110100100000110010110110110110110100100000110000110100110111110110100000110101110101110110110001', '110000110101110110110101100000110010110101110000110100100000110111110001110110111000100000110011110101110001110000', '110101110001110000110111100000110101110101110000110111100000110001110111110110110111100000110000110111110011111000', '110010110100110110110010100000110001111000110010110001100000110010110100110100111000100000110001110100110100110011', '110010110111111000111000100000110000110110110011111000100000110110111000110110110001100000110110110101110101110100', '110101111000110101110001100000110101111000110111110011100000110101110100110111110100100000110000110101110100110111', '110000110110110111110000100000110001110000110000110100100000110100110000110001110011100000110010110110110101110101', '110101111000110111110100100000110101110101110000110110100000110011110000110100111000100000110000111000110000110110', '110010111000110000110101100000110101110100110000110001100000111000110100110110110010100000110001110010110110110000', '110101110000111000110011100000111000110100110000110110100000110110110011110001110000100000110001111000110110110010', '110001110000110111110110100000110001110100110100110101100000110011110000110001110011100000110010110010110110110110', '111000110100110100110000100000110100111000110000110100100000110100111000110100110100100000110101110010110111110111', '110100110111110101111000100000110110110001110100110001100000110000110110111000110110100000110001110011111000110111', '110111110101111000110110100000110000110110110111110101100000110000110011110001110101100000110010110101110110111000', '110010110101110100110100100000110001110010110101111000100000110111110100110011110010100000110101110001110110110101', '110011110100110111110100100000110101110000110010110011100000110100110100110011110100100000110101110110110010110110', '110001110100110001110000100000110000110010110111110000100000110000110100110011110100100000110101110000111000110110', '110111110011110001110101100000110100110100110100110110100000110001110001110000110100100000110100110010110001110101', '110000110010110010110100100000110111110111110100110010100000111000110011110000110000100000110000110010110110110110', '110000110001110111110000100000110010110111110000110000100000110011110001110100110101100000110000110110110100110000', '110010110000110000110110100000110010110100110011110111100000111000110000110101110100100000110001110110110000110000', '111000110001110100110010100000110100110000110101110101100000110001110111110111110110100000110000110000110010110110', '110011110000110010110110100000110111110011111000110000100000110001110010110100110001100000110001110000111000110100', '']\n"
     ]
    }
   ],
   "source": [
    "with open(\"credit_card.dat\",\"r\") as creditfile :\n",
    "    lines = creditfile.readlines()\n",
    "    i = 0\n",
    "    for numbers in lines :\n",
    "        numbers.strip('\\n') # elimino l'andata a capo per ogni riga\n",
    "        numbers = numbers[:-5] \n",
    "        lines[i] = numbers \n",
    "        i+=1\n",
    "    print(np.shape(lines)) # naturalmente lines risulta un vettore colonna \n",
    "    # dovrei adesso poter usare lo slicing per separare i caratteri ogni sei bit per ciascun elemento della lista "
   ]
  },
  {
   "cell_type": "markdown",
   "metadata": {},
   "source": [
    "5\\. Load the file \"user_data.json\", filter the data by the \"CreditCardType\" field equals to \"American Express\". Than save the data a to CSV."
   ]
  },
  {
   "cell_type": "markdown",
   "metadata": {},
   "source": [
    "6\\. Load the file from this url: [https://www.dropbox.com/s/7u3lm737ogbqsg8/mushrooms_categorized.csv?dl=1](https://www.dropbox.com/s/7u3lm737ogbqsg8/mushrooms_categorized.csv?dl=1) with Pandas. \n",
    "+ Explore the data (see the info of the data)\n",
    "+ Draw the istogram of the 'class' field. Decribe wath yuou see\n"
   ]
  },
  {
   "cell_type": "markdown",
   "metadata": {},
   "source": [
    "7\\. Load the remote file [https://www.dropbox.com/s/vkl89yce7xjdq4n/regression_generated.csv?dl=1](https://www.dropbox.com/s/vkl89yce7xjdq4n/regression_generated.csv?dl=1) with Pandas and plot a scatter plot all possible combination of the following fields:\n",
    "    \n",
    "  + features_1\n",
    "  + features_2\n",
    "  + features_3"
   ]
  },
  {
   "cell_type": "markdown",
   "metadata": {},
   "source": [
    "8\\. Load the same file of point 6, and convert the file to json with Pandas."
   ]
  }
 ],
 "metadata": {
  "kernelspec": {
   "display_name": "Python 3",
   "language": "python",
   "name": "python3"
  },
  "language_info": {
   "codemirror_mode": {
    "name": "ipython",
    "version": 3
   },
   "file_extension": ".py",
   "mimetype": "text/x-python",
   "name": "python",
   "nbconvert_exporter": "python",
   "pygments_lexer": "ipython3",
   "version": "3.8.5-final"
  }
 },
 "nbformat": 4,
 "nbformat_minor": 2
}