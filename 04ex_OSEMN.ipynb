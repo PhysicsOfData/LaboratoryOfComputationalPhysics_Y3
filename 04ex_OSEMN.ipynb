{
 "cells": [
  {
   "cell_type": "markdown",
   "metadata": {},
   "source": [
    "# OSEMN Exercises"
   ]
  },
  {
   "cell_type": "code",
   "execution_count": 1,
   "metadata": {},
   "outputs": [],
   "source": [
    "%matplotlib inline\n",
    "import pandas as pd\n",
    "import numpy as np"
   ]
  },
  {
   "cell_type": "markdown",
   "metadata": {},
   "source": [
    "1\\. Create a random list of number and then save it to a text file named \"simple_data.txt\""
   ]
  },
  {
   "cell_type": "code",
   "execution_count": 2,
   "metadata": {},
   "outputs": [
    {
     "name": "stdout",
     "output_type": "stream",
     "text": [
      "[0, 1, 2, 3, 4, 5, 6, 7, 8, 9]\n"
     ]
    }
   ],
   "source": [
    "my_list = [i for i in range(10)]\n",
    "print(my_list)\n",
    "\n",
    "\n",
    "with open('simple_data.txt', 'w') as f:\n",
    "    for item in my_list:\n",
    "        f.write(\"%s\\n\" % item)\n"
   ]
  },
  {
   "cell_type": "markdown",
   "metadata": {},
   "source": [
    "2\\. Create a random matrix of 5x5 and then save it to a text file named \"data.txt\""
   ]
  },
  {
   "cell_type": "code",
   "execution_count": 3,
   "metadata": {},
   "outputs": [
    {
     "name": "stdout",
     "output_type": "stream",
     "text": [
      "[[ 0  1  2  3  4]\n",
      " [ 5  6  7  8  9]\n",
      " [10 11 12 13 14]\n",
      " [15 16 17 18 19]\n",
      " [20 21 22 23 24]]\n"
     ]
    }
   ],
   "source": [
    "matrix = np.arange(0,25)\n",
    "my_matrix = matrix.reshape(5,5)\n",
    "print(my_matrix)\n",
    "\n",
    "with open('data.txt', 'w') as d:\n",
    "    for i in range(5):\n",
    "        for item in my_matrix[i]:\n",
    "            d.write(\"%s \" % item)\n",
    "        d.write(\"\\n\")\n",
    "\n"
   ]
  },
  {
   "cell_type": "markdown",
   "metadata": {},
   "source": [
    "3\\. Load the saved txt file of point 2 and convert it to a csv file (by hand)"
   ]
  },
  {
   "cell_type": "code",
   "execution_count": 4,
   "metadata": {},
   "outputs": [
    {
     "name": "stdout",
     "output_type": "stream",
     "text": [
      "[[ 0.  1.  2.  3.  4.]\n",
      " [ 5.  6.  7.  8.  9.]\n",
      " [10. 11. 12. 13. 14.]\n",
      " [15. 16. 17. 18. 19.]\n",
      " [20. 21. 22. 23. 24.]]\n",
      "        0 1 2 3 4 \n",
      "0       5 6 7 8 9 \n",
      "1  10 11 12 13 14 \n",
      "2  15 16 17 18 19 \n",
      "3  20 21 22 23 24 \n"
     ]
    }
   ],
   "source": [
    "data = np.loadtxt(\"data.txt\")\n",
    "print(data)\n",
    "\n",
    "df = pd.read_csv(\"data.txt\")\n",
    "df.to_csv('data1.csv', index = None)\n",
    "print(df)\n",
    "\n"
   ]
  },
  {
   "cell_type": "markdown",
   "metadata": {},
   "source": [
    "4\\. load the binary file named *credit_card.dat* and convert the data into the real credit-card number.\n",
    "Each line correspond to a credit card number.\n",
    "Each character is composed by 6 bit (even the space) and the last 4 bit are just a padding\n",
    "\n",
    "**hint**: use the `chr()` function to convert a number to a char"
   ]
  },
  {
   "cell_type": "code",
   "execution_count": 5,
   "metadata": {},
   "outputs": [
    {
     "name": "stdout",
     "output_type": "stream",
     "text": [
      "1 number:  7648 5673 3775 2271\n",
      "2 number:  3257 8247 3354 2266\n",
      "3 number:  2722 0001 4011 6652\n",
      "4 number:  0661 3063 3742 3150\n",
      "5 number:  0432 1608 1462 4742\n",
      "6 number:  5827 2027 8785 7303\n",
      "7 number:  5774 8528 2087 1117\n",
      "8 number:  8140 1210 6352 2845\n",
      "9 number:  5764 1133 7301 7100\n",
      "10 number:  6456 1737 4126 6726\n",
      "11 number:  1228 8631 7382 0000\n",
      "12 number:  7051 0160 5374 3166\n",
      "13 number:  0618 3587 1630 6376\n",
      "14 number:  1545 5454 7444 5636\n",
      "15 number:  6735 3116 3202 6834\n",
      "16 number:  7287 5011 1547 8413\n",
      "17 number:  7033 2607 3328 4200\n",
      "18 number:  2568 5244 1874 5024\n",
      "19 number:  1684 2253 7570 7118\n",
      "20 number:  0672 2576 0575 6631\n",
      "21 number:  6332 8353 8787 1340\n",
      "22 number:  1813 3361 1175 4211\n",
      "23 number:  2477 6450 8840 2368\n",
      "24 number:  5512 3505 2563 1326\n",
      "25 number:  3083 7882 0621 0025\n",
      "26 number:  4521 5148 8045 0334\n",
      "27 number:  7563 3654 8713 5787\n",
      "28 number:  8324 2664 0476 5561\n",
      "29 number:  0565 2504 7168 3510\n",
      "30 number:  5107 5507 1767 0738\n",
      "31 number:  2462 1821 2448 1443\n",
      "32 number:  2788 0638 6861 6554\n",
      "33 number:  5851 5873 5474 0547\n",
      "34 number:  0670 1004 4013 2655\n",
      "35 number:  5874 5506 3048 0806\n",
      "36 number:  2805 5401 8462 1260\n",
      "37 number:  5083 8406 6310 1862\n",
      "38 number:  1076 1445 3013 2266\n",
      "39 number:  8440 4804 4844 5277\n",
      "40 number:  4758 6141 0686 1387\n",
      "41 number:  7586 0675 0315 2568\n",
      "42 number:  2544 1258 7432 5165\n",
      "43 number:  3474 5023 4434 5626\n",
      "44 number:  1410 0270 0434 5086\n",
      "45 number:  7315 4446 1104 4215\n",
      "46 number:  0224 7742 8300 0266\n",
      "47 number:  0170 2700 3145 0640\n",
      "48 number:  2006 2437 8054 1600\n",
      "49 number:  8142 4055 1776 0026\n",
      "50 number:  3026 7380 1241 1084\n"
     ]
    }
   ],
   "source": [
    "with  open('credit_card.dat','r') as file:\n",
    "    file_content=file.read()\n",
    "    file_lines = file_content.splitlines()\n",
    "    row_counter=0\n",
    "    #word_counter =0\n",
    "    word_size = 6 \n",
    "    for line in file_lines:\n",
    "        row_counter+=1\n",
    "        credit_number = ''\n",
    "        for i in range(0, len(line)-4, word_size):\n",
    "            #word_counter+=1\n",
    "            credit_number= credit_number + chr(int(str(line[i:i+word_size]),2))\n",
    "        if credit_number == '': break  #avoid last line of the dat file\n",
    "        print(row_counter,'number: ',credit_number)\n",
    "        \n",
    "    \n",
    "        \n"
   ]
  },
  {
   "cell_type": "markdown",
   "metadata": {},
   "source": [
    "5\\. Load the file \"user_data.json\", filter the data by the \"CreditCardType\" field equals to \"American Express\". Than save the data a to CSV."
   ]
  },
  {
   "cell_type": "code",
   "execution_count": 6,
   "metadata": {},
   "outputs": [],
   "source": [
    "import json\n",
    "data = json.load(open('user_data.json'))\n",
    "#print (data)\n",
    "\n",
    "import csv\n",
    "with open('american_express.csv', 'w') as file:\n",
    "    writer = csv.writer(file, delimiter=\" \")\n",
    "    \n",
    "    for d in data:\n",
    "        if d['CreditCardType']=='American Express':\n",
    "            #print(list(d.items()))\n",
    "            writer.writerow(list(d.items()))\n",
    "\n",
    "            "
   ]
  },
  {
   "cell_type": "markdown",
   "metadata": {},
   "source": [
    "6\\. Load the file from this url: [https://www.dropbox.com/s/7u3lm737ogbqsg8/mushrooms_categorized.csv?dl=1](https://www.dropbox.com/s/7u3lm737ogbqsg8/mushrooms_categorized.csv?dl=1) with Pandas. \n",
    "+ Explore the data (see the info of the data)\n",
    "+ Draw the istogram of the 'class' field. Decribe wath yuou see\n"
   ]
  },
  {
   "cell_type": "code",
   "execution_count": 7,
   "metadata": {},
   "outputs": [
    {
     "name": "stdout",
     "output_type": "stream",
     "text": [
      "fields contained in this file: \n",
      "\n",
      "class\n",
      "cap-shape\n",
      "cap-surface\n",
      "cap-color\n",
      "bruises\n",
      "odor\n",
      "gill-attachment\n",
      "gill-spacing\n",
      "gill-size\n",
      "gill-color\n",
      "stalk-shape\n",
      "stalk-root\n",
      "stalk-surface-above-ring\n",
      "stalk-surface-below-ring\n",
      "stalk-color-above-ring\n",
      "stalk-color-below-ring\n",
      "veil-type\n",
      "veil-color\n",
      "ring-number\n",
      "ring-type\n",
      "spore-print-color\n",
      "population\n",
      "habitat\n"
     ]
    },
    {
     "data": {
      "image/png": "[encoded data removed]",
      "text/plain": [
       "<Figure size 1080x504 with 2 Axes>"
      ]
     },
     "metadata": {
      "needs_background": "light"
     },
     "output_type": "display_data"
    }
   ],
   "source": [
    "import urllib.request\n",
    "url ='https://www.dropbox.com/s/7u3lm737ogbqsg8/mushrooms_categorized.csv?dl=1'\n",
    "\n",
    "with urllib.request.urlopen(url) as data_file:\n",
    "    \n",
    "    data=pd.read_csv(data_file)\n",
    "    print(\"fields contained in this file: \\n\")\n",
    "    for col in data.columns: \n",
    "        print(col) \n",
    "    \n",
    "#!type mushrooms_categorized.csv\n",
    "\n",
    "import matplotlib.pyplot as plt\n",
    "\n",
    "%matplotlib inline \n",
    "\n",
    "fig, ax = plt.subplots(nrows=2, ncols=1,figsize=(15,7))\n",
    "ax[0].scatter(np.arange(len(data['class'])),data['class'], marker='+', s=2);\n",
    "ax[0].set_title('Class plot')\n",
    "ax[1].hist(data['class'], bins=50)\n",
    "ax[1].set_title('Class histogram')\n",
    "plt.show()"
   ]
  },
  {
   "cell_type": "markdown",
   "metadata": {},
   "source": [
    "From the histogram I see that the class field contains only two values: zero and one."
   ]
  },
  {
   "cell_type": "markdown",
   "metadata": {},
   "source": [
    "7\\. Load the remote file [https://www.dropbox.com/s/vkl89yce7xjdq4n/regression_generated.csv?dl=1](https://www.dropbox.com/s/vkl89yce7xjdq4n/regression_generated.csv?dl=1) with Pandas and plot a scatter plot all possible combination of the following fields:\n",
    "    \n",
    "  + features_1\n",
    "  + features_2\n",
    "  + features_3"
   ]
  },
  {
   "cell_type": "code",
   "execution_count": 8,
   "metadata": {},
   "outputs": [],
   "source": [
    "url1 ='https://www.dropbox.com/s/vkl89yce7xjdq4n/regression_generated.csv?dl=1'\n",
    "\n",
    "with urllib.request.urlopen(url1) as data_file:\n",
    "    \n",
    "    data=pd.read_csv(data_file)\n",
    "    #print(data)"
   ]
  },
  {
   "cell_type": "code",
   "execution_count": 9,
   "metadata": {},
   "outputs": [
    {
     "data": {
      "text/plain": [
       "Text(0.5, 0, 'features_2')"
      ]
     },
     "execution_count": 9,
     "metadata": {},
     "output_type": "execute_result"
    },
    {
     "data": {
      "image/png": "[encoded data removed]",
      "text/plain": [
       "<Figure size 1080x360 with 3 Axes>"
      ]
     },
     "metadata": {
      "needs_background": "light"
     },
     "output_type": "display_data"
    }
   ],
   "source": [
    "fig, ax = plt.subplots(ncols=3,nrows=1, figsize=(15,5))\n",
    "ax[0].scatter(data['features_1'],data['features_2'])\n",
    "ax[1].scatter(data['features_1'],data['features_3'])\n",
    "ax[2].scatter(data['features_2'],data['features_3'])\n",
    "ax[0].set_ylabel('features_2')\n",
    "ax[0].set_xlabel('features_1')\n",
    "ax[1].set_ylabel('features_3')\n",
    "ax[1].set_xlabel('features_1')\n",
    "ax[2].set_ylabel('features_3')\n",
    "ax[2].set_xlabel('features_2')"
   ]
  },
  {
   "cell_type": "markdown",
   "metadata": {},
   "source": [
    "8\\. Load the same file of point 6, and convert the file to json with Pandas."
   ]
  },
  {
   "cell_type": "code",
   "execution_count": 10,
   "metadata": {},
   "outputs": [],
   "source": [
    "with urllib.request.urlopen(url) as data_file:\n",
    "    df = pd.DataFrame(pd.read_csv(data_file, sep = \",\", header = 0, index_col = False))\n",
    "    df.to_json('filejson.json', orient = \"records\", date_format = \"epoch\", double_precision = 10, force_ascii = True, date_unit = \"ms\", default_handler = None)    \n",
    "    \n",
    "data = json.load(open('filejson.json'))\n",
    "#print (data)\n"
   ]
  },
  {
   "cell_type": "code",
   "execution_count": 11,
   "metadata": {},
   "outputs": [
    {
     "name": "stdout",
     "output_type": "stream",
     "text": [
      "{'class': 1, 'cap-shape': 5, 'cap-surface': 2, 'cap-color': 4, 'bruises': 1, 'odor': 6, 'gill-attachment': 1, 'gill-spacing': 0, 'gill-size': 1, 'gill-color': 4, 'stalk-shape': 0, 'stalk-root': 3, 'stalk-surface-above-ring': 2, 'stalk-surface-below-ring': 2, 'stalk-color-above-ring': 7, 'stalk-color-below-ring': 7, 'veil-type': 0, 'veil-color': 2, 'ring-number': 1, 'ring-type': 4, 'spore-print-color': 2, 'population': 3, 'habitat': 5}\n"
     ]
    }
   ],
   "source": [
    "print(data[0])"
   ]
  },
  {
   "cell_type": "code",
   "execution_count": null,
   "metadata": {},
   "outputs": [],
   "source": []
  }
 ],
 "metadata": {
  "kernelspec": {
   "display_name": "Python 3",
   "language": "python",
   "name": "python3"
  },
  "language_info": {
   "codemirror_mode": {
    "name": "ipython",
    "version": 3
   },
   "file_extension": ".py",
   "mimetype": "text/x-python",
   "name": "python",
   "nbconvert_exporter": "python",
   "pygments_lexer": "ipython3",
   "version": "3.8.3"
  }
 },
 "nbformat": 4,
 "nbformat_minor": 2
}
