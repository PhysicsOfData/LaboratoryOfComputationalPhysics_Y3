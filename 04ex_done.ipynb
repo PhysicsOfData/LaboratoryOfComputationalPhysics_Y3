{
 "cells": [
  {
   "cell_type": "markdown",
   "metadata": {},
   "source": [
    "# OSEMN Exercises"
   ]
  },
  {
   "cell_type": "code",
   "execution_count": null,
   "metadata": {},
   "outputs": [],
   "source": [
    "%matplotlib inline\n",
    "import pandas as pd\n",
    "import numpy as np"
   ]
  },
  {
   "cell_type": "markdown",
   "metadata": {},
   "source": [
    "1\\. Create a random list of number and then save it to a text file named \"simple_data.txt\""
   ]
  },
  {
   "cell_type": "code",
   "execution_count": null,
   "metadata": {},
   "outputs": [],
   "source": [
    "np.random.seed(123)\n",
    "#with open(\"/Users/data_lab_LM/simple_data.txt\", 'w') as file:   #WINDOWS\n",
    "with open(\"/home/francescofontana/data/simple_data.txt\", 'w') as file: #LINUX\n",
    "\n",
    "        file.write(str(np.random.rand(10)))"
   ]
  },
  {
   "cell_type": "markdown",
   "metadata": {},
   "source": [
    "2\\. Create a random matrix of 5x5 and then save it to a text file named \"data.txt\""
   ]
  },
  {
   "cell_type": "code",
   "execution_count": null,
   "metadata": {},
   "outputs": [],
   "source": [
    "#with open (\"/Users/data_lab_LM/data.txt\" , 'w') as dt:  #WINDOWS\n",
    "with open (\"/home/francescofontana/data/data.txt\" , 'w') as dt:   #LINUX\n",
    "    \n",
    "    np.random.seed(123)\n",
    "    x=np.random.rand(25)\n",
    "    x=x.reshape(5,5)\n",
    "    \n",
    "    z=str(x).replace('[','').replace(']','') # To remove the parentesis that cause problem on reading after\n",
    "    print(z)\n",
    "    dt.write(z)\n"
   ]
  },
  {
   "cell_type": "markdown",
   "metadata": {},
   "source": [
    "3\\. Load the saved txt file of point 2 and convert it to a csv file (by hand)"
   ]
  },
  {
   "cell_type": "code",
   "execution_count": null,
   "metadata": {},
   "outputs": [],
   "source": [
    "#with open (\"/Users/data_lab_LM/data.txt\" , 'r') as dtr:  #WINDOWS\n",
    "with open (\"/home/francescofontana/data/data.txt\" , 'r') as dtr:   #LINUX\n",
    "\n",
    "    data=np.loadtxt(dtr)\n",
    "    tmp=data.tolist()\n",
    "    \n",
    "    #with open (\"/Users/data_lab_LM/data.csv\",'w') as csvv:  #WINDOWS\n",
    "    with open (\"/home/francescofontana/data/data.csv\",'w') as csvv:  #LINUX\n",
    "        for i in tmp:\n",
    "            csvv.write(str(i).replace('[','').replace(']','') +'\\n')\n"
   ]
  },
  {
   "cell_type": "markdown",
   "metadata": {},
   "source": [
    "4\\. load the binary file named *credit_card.dat* and convert the data into the real credit-card number.\n",
    "Each line correspond to a credit card number.\n",
    "Each character is composed by 6 bit (even the space) and the last 4 bit are just a padding\n",
    "\n",
    "**hint**: use the `chr()` function to convert a number to a char"
   ]
  },
  {
   "cell_type": "code",
   "execution_count": null,
   "metadata": {},
   "outputs": [],
   "source": [
    "with open (\"credit_card.dat\" , 'r') as cc:\n",
    "    #(6 bit) every number [x4], (6 bit) every space [x3], last 4 bit padding\n",
    "    \n",
    "    ccard=np.empty((0,16),int)\n",
    "    for line in cc:\n",
    "        word_counter=0\n",
    "        word_size = 6\n",
    "        cc_linel=[]\n",
    "        if len(line)>118: # to be sure to not compute line without at least 118bit\n",
    "            for i in range(0, len(line),word_size):\n",
    "                word_counter+=1\n",
    "            \n",
    "                if word_counter%5 != 0:\n",
    "                    numb=chr(int('0b'+ str(line[i:word_size*word_counter]),2))\n",
    "                \n",
    "                    cc_linel.append(int(numb))\n",
    "            \n",
    "            linecc=np.array(cc_linel).reshape(1,16)\n",
    "\n",
    "            ccard=np.append(ccard, linecc,axis=0)\n",
    "    \n",
    "    for i in range (ccard.shape[0]):\n",
    "        print('%i Credit card: --->'%(i+1),ccard[i,:])"
   ]
  },
  {
   "cell_type": "markdown",
   "metadata": {},
   "source": [
    "5\\. Load the file \"user_data.json\", filter the data by the \"CreditCardType\" field equals to \"American Express\". Than save the data a to CSV."
   ]
  },
  {
   "cell_type": "code",
   "execution_count": null,
   "metadata": {},
   "outputs": [],
   "source": [
    "import json\n",
    "import csv\n",
    "\n",
    "#with open('/Users/data_lab_LM/user_data.csv', 'w') as filecsv:  #WINDOWS\n",
    "with open('/home/francescofontana/data/user_data.csv', 'w') as filecsv:  #LINUX\n",
    "    \n",
    "    lis=[\"ID\",\"JobTitle\", \"EmailAddress\", \"CreditCard\",\"CreditCardType\"]\n",
    "    \n",
    "    filecsv.write(str(lis)+'\\n')\n",
    "\n",
    "    data = json.load(open('user_data.json'))\n",
    "\n",
    "    filt_cc = 'American Express'\n",
    "    counter=0\n",
    "    \n",
    "    for i in range(len(data)):\n",
    "        IDs=data[i][lis[0]]\n",
    "        JT=data[i][lis[1]]\n",
    "        EA=data[i][lis[2]]\n",
    "        CC=data[i][lis[3]]\n",
    "        CCT=data[i][lis[4]]\n",
    "    \n",
    "        if CCT==filt_cc:\n",
    "            counter+=1\n",
    "            lis_filtered=[IDs,JT,EA,CC,CCT]\n",
    "            filecsv.write(str(lis_filtered).replace('[','').replace(']','\\n').replace(\"'\",''))\n",
    "            \n",
    "    print(\"There are %i people that have [credit card = 'American Express'] and their full contact informations\\nare available also on 'user_data.csv':\"%counter)\n",
    "\n",
    "#with open('/Users/data_lab_LM/user_data.csv', 'r') as filecsv:    #WINDOWS\n",
    "with open('/home/francescofontana/data/user_data.csv', 'r') as filecsv:  #LINUX\n",
    "    print('\\n',filecsv.read())\n",
    "\n",
    "        \n",
    "        "
   ]
  },
  {
   "cell_type": "markdown",
   "metadata": {},
   "source": [
    "6\\. Load the file from this url: [https://www.dropbox.com/s/7u3lm737ogbqsg8/mushrooms_categorized.csv?dl=1](https://www.dropbox.com/s/7u3lm737ogbqsg8/mushrooms_categorized.csv?dl=1) with Pandas. \n",
    "+ Explore the data (see the info of the data)\n",
    "+ Draw the istogram of the 'class' field. Decribe what you see\n"
   ]
  },
  {
   "cell_type": "code",
   "execution_count": null,
   "metadata": {},
   "outputs": [],
   "source": [
    "#!wget https://www.dropbox.com/s/7u3lm737ogbqsg8/mushrooms_categorized.csv?dl=1 -P ~/data/  #LINUX\n",
    "\n",
    "import pandas as pd\n",
    "import matplotlib.pyplot as plt\n",
    "\n",
    "#file_name=\"/Users/data_lab_LM/mushrooms_categorized.csv\"    #WINDOWS\n",
    "file_name=\"/home/francescofontana/data/mushrooms_categorized.csv?dl=1\"  #LINUX\n",
    "data=pd.read_csv(file_name,nrows=8125,skiprows=range(1,1))\n",
    "\n",
    "\n",
    "data.info()\n",
    "\n",
    "data \n",
    "\n",
    "data['class'].plot(kind='hist')\n",
    "plt.xlabel(\"class \")\n",
    "plt.ylabel(\"Frequency\")\n",
    "plt.title(\"Distribution of class \")"
   ]
  },
  {
   "cell_type": "markdown",
   "metadata": {},
   "source": [
    "7\\. Load the remote file [https://www.dropbox.com/s/vkl89yce7xjdq4n/regression_generated.csv?dl=1](https://www.dropbox.com/s/vkl89yce7xjdq4n/regression_generated.csv?dl=1) with Pandas and plot a scatter plot all possible combination of the following fields:\n",
    "    \n",
    "  + features_1\n",
    "  + features_2\n",
    "  + features_3"
   ]
  },
  {
   "cell_type": "code",
   "execution_count": null,
   "metadata": {},
   "outputs": [],
   "source": [
    "#!wget https://www.dropbox.com/s/vkl89yce7xjdq4n/regression_generated.csv?dl=1 -P ~/data/  #LINUX\n",
    "    \n",
    "import pandas as pd\n",
    "import matplotlib.pyplot as plt\n",
    "\n",
    "#file_name=\"/Users/data_lab_LM/regression_generated.csv\"   #WINDOWS\n",
    "file_name=\"/home/francescofontana/data/regression_generated.csv?dl=1\"   #LINUX\n",
    "\n",
    "data = pd.read_csv(file_name)\n",
    "\n",
    "data.info()\n",
    "\n",
    "data\n",
    "\n",
    "data.plot(kind='scatter',x = 'features_1', y = 'features_2', color='green')\n",
    "data.plot(kind='scatter',x = 'features_1', y = 'features_3',color='red')\n",
    "data.plot(kind='scatter',x = 'features_2', y = 'features_3',color='blue')    "
   ]
  },
  {
   "cell_type": "markdown",
   "metadata": {},
   "source": [
    "8\\. Load the same file of point 6, and convert the file to json with Pandas."
   ]
  },
  {
   "cell_type": "code",
   "execution_count": null,
   "metadata": {},
   "outputs": [],
   "source": [
    "import pandas as pd\n",
    "\n",
    "#file_name=\"/Users/data_lab_LM/mushrooms_categorized.csv\"  #WINDOWS\n",
    "file_name=\"/home/francescofontana/data/mushrooms_categorized.csv?dl=1\"  #LINUX\n",
    "\n",
    "data = pd.read_csv(file_name)\n",
    "\n",
    "#data.to_json('/Users/data_lab_LM/mushrooms_categorized.json')   #WINDOWS\n",
    "data.to_json('/home/francescofontana/data/mushrooms_categorized.json')  #LINUX\n",
    "\n",
    "#pd.read_json('/Users/data_lab_LM/mushrooms_categorized.json')   #WINDOWS\n",
    "pd.read_json('/home/francescofontana/data/mushrooms_categorized.json')  #LINUX"
   ]
  }
 ],
 "metadata": {
  "kernelspec": {
   "display_name": "Python 3",
   "language": "python",
   "name": "python3"
  },
  "language_info": {
   "codemirror_mode": {
    "name": "ipython",
    "version": 3
   },
   "file_extension": ".py",
   "mimetype": "text/x-python",
   "name": "python",
   "nbconvert_exporter": "python",
   "pygments_lexer": "ipython3",
   "version": "3.8.3"
  }
 },
 "nbformat": 4,
 "nbformat_minor": 2
}
