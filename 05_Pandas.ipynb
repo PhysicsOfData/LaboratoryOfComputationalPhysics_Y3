{
 "cells": [
  {
   "cell_type": "markdown",
   "metadata": {},
   "source": [
    "# Pandas\n",
    "\n",
    "The `numpy` module is excellent for numerical computations, but to handle missing data or arrays with mixed types takes more work. The `pandas` module is currently the most widely used tool for data manipulation, providing high-performance, easy-to-use data structures and advanced data analysis tools.\n",
    "\n",
    "In particular `pandas` features:\n",
    "\n",
    "* A fast and efficient \"DataFrame\" object for data manipulation with integrated indexing;\n",
    "* Tools for reading and writing data between in-memory data structures and different formats (CSV, Excel, SQL, HDF5);\n",
    "* Intelligent data alignment and integrated handling of missing data;\n",
    "* Intelligent label-based slicing, fancy indexing, and subsetting of large data sets;\n",
    "* Aggregating or transforming data with a powerful \"group-by\" engine; \n",
    "* High performance merging and joining of data sets;\n",
    "* Hierarchical axis indexing provides an intuitive way of working with high-dimensional data in a lower-dimensional data structure;\n",
    "* Time series-functionalities;\n",
    "* Highly optimized for performance, with critical code paths written in Cython or C.\n"
   ]
  },
  {
   "cell_type": "code",
   "execution_count": 1,
   "metadata": {},
   "outputs": [],
   "source": [
    "import pandas as pd\n",
    "import numpy as np"
   ]
  },
  {
   "cell_type": "markdown",
   "metadata": {},
   "source": [
    "## Series\n",
    "\n",
    "Series are completely equivalent to 1D array but with axis labels and the possibility to store heterogeneous elements. Of paramount importance are the time-series, used to define time evolutions of a phenomenon. \n"
   ]
  },
  {
   "cell_type": "code",
   "execution_count": 66,
   "metadata": {},
   "outputs": [
    {
     "output_type": "stream",
     "name": "stdout",
     "text": [
      "xs: \n a    0.0\nb    0.5\nc    1.0\nd    1.5\ne    2.0\nf    2.5\ng    3.0\nh    3.5\ni    4.0\nj    4.5\ndtype: float64 \n\nxs indexes: Index(['a', 'b', 'c', 'd', 'e', 'f', 'g', 'h', 'i', 'j'], dtype='object') \n\nxs values: [0.  0.5 1.  1.5 2.  2.5 3.  3.5 4.  4.5] <class 'numpy.ndarray'> \n\n2.5 2.5 3.5 \n\nd    1.5\nf    2.5\nh    3.5\ndtype: float64 \n\n<class 'pandas.core.series.Series'> \n\n"
     ]
    }
   ],
   "source": [
    "from string import ascii_lowercase as letters\n",
    "\n",
    "# Creating a series, accessing indexes, values and values by their index \n",
    "xs = pd.Series(np.arange(10)*0.5, index=tuple(letters[:10]))\n",
    "print (\"xs:\",'\\n',xs,'\\n')\n",
    "print (\"xs indexes:\",xs.index,'\\n')\n",
    "# Values of the Series are actually a numpy array\n",
    "print (\"xs values:\", xs.values, type(xs.values),'\\n')\n",
    "print (xs['f'], xs.f, xs.h, '\\n') #calling as a method: dangerous\n",
    "print (xs[['d', 'f', 'h']], '\\n')\n",
    "print (type(xs[['d', 'f', 'h']]), '\\n')"
   ]
  },
  {
   "cell_type": "code",
   "execution_count": 68,
   "metadata": {},
   "outputs": [
    {
     "output_type": "stream",
     "name": "stdout",
     "text": [
      "a    0.0\nb    0.5\nc    1.0\ndtype: float64 \n up to three\nh    3.5\ni    4.0\nj    4.5\ndtype: float64 \n from seventh\na    0.0\nd    1.5\ng    3.0\nj    4.5\ndtype: float64 \n step of three\nh    3.5\ni    4.0\nj    4.5\ndtype: float64 \n grater than three\na     1.000000\nb     1.648721\nc     2.718282\nd     4.481689\ne     7.389056\nf    12.182494\ng    20.085537\nh    33.115452\ni    54.598150\nj    90.017131\ndtype: float64 \n exp\n2.25 1.4361406616345072 \n mean and devstd\n"
     ]
    }
   ],
   "source": [
    "# Extracting elements and operations: same as numpy array\n",
    "print (xs[:3],'\\n up to three')\n",
    "print (xs[7:], '\\n from seventh')\n",
    "print (xs[::3], '\\n step of three')\n",
    "print (xs[xs>3], '\\n grater than three')\n",
    "print (np.exp(xs), '\\n exp')\n",
    "print (np.mean(xs), np.std(xs), '\\n mean and devstd')"
   ]
  },
  {
   "cell_type": "code",
   "execution_count": 69,
   "metadata": {},
   "outputs": [
    {
     "output_type": "execute_result",
     "data": {
      "text/plain": [
       "b         1\n",
       "a       cat\n",
       "c    [2, 3]\n",
       "dtype: object"
      ]
     },
     "metadata": {},
     "execution_count": 69
    }
   ],
   "source": [
    "# Series can be created from python dictionary too.\n",
    "# Not that the elements can be whatever!\n",
    "d = {'b' : 1, 'a' : 'cat', 'c' : [2,3]}\n",
    "pd.Series(d) #ok.. series == dictionary in pracice..."
   ]
  },
  {
   "cell_type": "markdown",
   "metadata": {},
   "source": [
    "A key difference between Series and ndarray is that operations between Series automatically align the data based on label. Thus, you can write computations without considering whether the Series involved have the same labels."
   ]
  },
  {
   "cell_type": "code",
   "execution_count": 5,
   "metadata": {},
   "outputs": [
    {
     "output_type": "stream",
     "name": "stdout",
     "text": [
      "a    0.584689\nb   -2.169868\nc   -0.673682\nd    0.026733\ne   -0.011853\ndtype: float64\na         NaN\nb   -4.339736\nc   -1.347364\nd    0.053466\ne         NaN\ndtype: float64\n"
     ]
    }
   ],
   "source": [
    "s = pd.Series(np.random.randn(5), index=tuple(letters[:5]))\n",
    "print(s)\n",
    "s = s[1:] + s[:-1]\n",
    "print(s) #we get NaN!! ocho.."
   ]
  },
  {
   "cell_type": "markdown",
   "metadata": {},
   "source": [
    "### Time series\n",
    "\n",
    "Time series are very often used to profile the behaviour of a quantity as a function of time. Pandas as a special index for that, `DatetimeIndex`, that can be created e.g. with the function `pd.data_range()`"
   ]
  },
  {
   "cell_type": "code",
   "execution_count": 6,
   "metadata": {},
   "outputs": [
    {
     "output_type": "stream",
     "name": "stdout",
     "text": [
      "2020-11-09\n2020-11-09 14:45:10.000015\n9/11/2020 14:45:00\nDatetimeIndex(['2020-09-11 14:45:00', '2020-09-12 14:45:00',\n               '2020-09-13 14:45:00', '2020-09-14 14:45:00',\n               '2020-09-15 14:45:00', '2020-09-16 14:45:00',\n               '2020-09-17 14:45:00'],\n              dtype='datetime64[ns]', freq='D')\nDatetimeIndex(['2020-09-11 14:45:00', '2020-09-11 14:45:01',\n               '2020-09-11 14:45:02', '2020-09-11 14:45:03',\n               '2020-09-11 14:45:04', '2020-09-11 14:45:05',\n               '2020-09-11 14:45:06', '2020-09-11 14:45:07',\n               '2020-09-11 14:45:08', '2020-09-11 14:45:09',\n               ...\n               '2020-09-11 15:44:50', '2020-09-11 15:44:51',\n               '2020-09-11 15:44:52', '2020-09-11 15:44:53',\n               '2020-09-11 15:44:54', '2020-09-11 15:44:55',\n               '2020-09-11 15:44:56', '2020-09-11 15:44:57',\n               '2020-09-11 15:44:58', '2020-09-11 15:44:59'],\n              dtype='datetime64[ns]', length=3600, freq='S')\n"
     ]
    }
   ],
   "source": [
    "# to define a date, the datetime module is very useful\n",
    "import datetime as dt\n",
    "date = dt.date.today()\n",
    "print(date)\n",
    "\n",
    "date = dt.datetime(2020,11,9,14,45,10,15)\n",
    "print (date)\n",
    "\n",
    "# otherwise, several notations are interpreted too\n",
    "date = 'Nov 9 2020'\n",
    "# or alternatively\n",
    "date = '9/11/2020 14:45:00'\n",
    "print (date)\n",
    "\n",
    "days = pd.date_range(date, periods=7, freq='D')\n",
    "print (days)\n",
    "\n",
    "seconds = pd.date_range(date, periods=3600, freq='s')\n",
    "print (seconds)\n"
   ]
  },
  {
   "cell_type": "markdown",
   "metadata": {},
   "source": [
    "To learn more about the frequency strings, please see this [link](http://pandas.pydata.org/pandas-docs/stable/timeseries.html#offset-aliases)\n",
    "\n",
    "\n",
    "Timestamped data is the most basic type of time series data that associates values with points in time. For pandas objects it means using the points in time.\n",
    "\n",
    "functions like `pd.to_datetime` can be used, for instance, when reading information as string from a dataset"
   ]
  },
  {
   "cell_type": "code",
   "execution_count": 73,
   "metadata": {},
   "outputs": [
    {
     "output_type": "stream",
     "name": "stdout",
     "text": [
      "1604880000000000000\n<class 'pandas._libs.tslibs.timestamps.Timestamp'>\n2010-11-12 00:00:00\n1289520000000000000\n2010-11-12 00:00:00\n1289520000000000000\n"
     ]
    }
   ],
   "source": [
    "tstamp = pd.Timestamp(dt.datetime(2020, 11, 9))\n",
    "\n",
    "# internally it counts the nanoseconds from January 1st 19\n",
    "#tstamp = pd.Timestamp(dt.datetime(1970, 1, 1, 0, 0, 0, 1))\n",
    "print(tstamp.value)\n",
    "\n",
    "# when creating a timestamp the format can be explicitly passed\n",
    "ts = pd.to_datetime('2010/11/12', format='%Y/%m/%d')\n",
    "print (type(ts))\n",
    "print (ts)\n",
    "print(ts.value) #actual timestamp\n",
    "ts = pd.to_datetime('12-11-2010 00:00', format='%d-%m-%Y %H:%M')\n",
    "print (ts)\n",
    "print (ts.value)\n",
    "\n"
   ]
  },
  {
   "cell_type": "markdown",
   "metadata": {},
   "source": [
    "A standard series can be created and (range of) elements can be used as indexes"
   ]
  },
  {
   "cell_type": "code",
   "execution_count": 76,
   "metadata": {
    "scrolled": true
   },
   "outputs": [
    {
     "output_type": "stream",
     "name": "stdout",
     "text": [
      "2020-09-11 14:45:00    10.301826\n2020-09-12 14:45:00    11.514436\n2020-09-13 14:45:00     9.443940\n2020-09-14 14:45:00    10.327565\nFreq: D, dtype: float64 \n\n2020-09-11 14:45:00    10.301826\n2020-09-12 14:45:00    11.514436\n2020-09-13 14:45:00     9.443940\nFreq: D, dtype: float64 \n\n"
     ]
    }
   ],
   "source": [
    "tseries = pd.Series(np.random.normal(10, 1, len(days)), index=days)\n",
    "# Extracting elements\n",
    "print (tseries[0:4], '\\n')\n",
    "print (tseries['2020-09-11':'2020-09-13'], '\\n') # Note - includes end time\n"
   ]
  },
  {
   "cell_type": "markdown",
   "metadata": {},
   "source": [
    "`pd.to_datetime` can also be used to create a `DatetimeIndex`:"
   ]
  },
  {
   "cell_type": "code",
   "execution_count": 9,
   "metadata": {},
   "outputs": [
    {
     "output_type": "execute_result",
     "data": {
      "text/plain": [
       "DatetimeIndex(['1980-02-04', '1980-02-05', '1980-02-06', '1980-02-07'], dtype='datetime64[ns]', freq=None)"
      ]
     },
     "metadata": {},
     "execution_count": 9
    }
   ],
   "source": [
    "pd.to_datetime([1, 2, 3, 4], unit='D', origin=pd.Timestamp('1980-02-03'))"
   ]
  },
  {
   "cell_type": "markdown",
   "metadata": {},
   "source": [
    "## DataFrame\n",
    "\n",
    "A pandas DataFrame is like a simple tabular spreadsheet. For future reference (or for people already familiar with R), a pandas DataFrame is very similar to the R DataFrame.\n",
    "\n",
    "Each column in a DataFrame is a Series object.\n",
    "\n",
    "The element can be whatever, missing data are dealt with too (as NaN)"
   ]
  },
  {
   "cell_type": "markdown",
   "metadata": {},
   "source": [
    "### DataFrame creation\n",
    "\n",
    "A DataFrame can be created implicitly, with, e.g., a DatatimeIndex object as index:"
   ]
  },
  {
   "cell_type": "code",
   "execution_count": 83,
   "metadata": {},
   "outputs": [
    {
     "output_type": "execute_result",
     "data": {
      "text/plain": [
       "                            A         B         C         D\n",
       "2020-11-09 14:45:00  1.134209 -0.631773 -0.831884 -1.595457\n",
       "2020-11-09 15:45:00 -0.760208 -0.254055  2.597034  0.388139\n",
       "2020-11-09 16:45:00  0.508648  1.056878 -0.669158  1.888361\n",
       "2020-11-09 17:45:00  1.830660 -2.689074  1.911188 -0.830915\n",
       "2020-11-09 18:45:00 -1.734418 -0.864573 -0.460388 -1.419375\n",
       "2020-11-09 19:45:00  1.305891 -1.157905  0.610049 -2.176608\n",
       "2020-11-09 20:45:00  0.061454  0.212296 -0.160654  0.401392\n",
       "2020-11-09 21:45:00  0.296402 -0.014575 -0.281596  0.978372\n",
       "2020-11-09 22:45:00  1.907973  1.743573 -0.520402 -0.862621\n",
       "2020-11-09 23:45:00 -0.456774  1.706971 -0.902770 -0.380967"
      ],
      "text/html": "<div>\n<style scoped>\n    .dataframe tbody tr th:only-of-type {\n        vertical-align: middle;\n    }\n\n    .dataframe tbody tr th {\n        vertical-align: top;\n    }\n\n    .dataframe thead th {\n        text-align: right;\n    }\n</style>\n<table border=\"1\" class=\"dataframe\">\n  <thead>\n    <tr style=\"text-align: right;\">\n      <th></th>\n      <th>A</th>\n      <th>B</th>\n      <th>C</th>\n      <th>D</th>\n    </tr>\n  </thead>\n  <tbody>\n    <tr>\n      <th>2020-11-09 14:45:00</th>\n      <td>1.134209</td>\n      <td>-0.631773</td>\n      <td>-0.831884</td>\n      <td>-1.595457</td>\n    </tr>\n    <tr>\n      <th>2020-11-09 15:45:00</th>\n      <td>-0.760208</td>\n      <td>-0.254055</td>\n      <td>2.597034</td>\n      <td>0.388139</td>\n    </tr>\n    <tr>\n      <th>2020-11-09 16:45:00</th>\n      <td>0.508648</td>\n      <td>1.056878</td>\n      <td>-0.669158</td>\n      <td>1.888361</td>\n    </tr>\n    <tr>\n      <th>2020-11-09 17:45:00</th>\n      <td>1.830660</td>\n      <td>-2.689074</td>\n      <td>1.911188</td>\n      <td>-0.830915</td>\n    </tr>\n    <tr>\n      <th>2020-11-09 18:45:00</th>\n      <td>-1.734418</td>\n      <td>-0.864573</td>\n      <td>-0.460388</td>\n      <td>-1.419375</td>\n    </tr>\n    <tr>\n      <th>2020-11-09 19:45:00</th>\n      <td>1.305891</td>\n      <td>-1.157905</td>\n      <td>0.610049</td>\n      <td>-2.176608</td>\n    </tr>\n    <tr>\n      <th>2020-11-09 20:45:00</th>\n      <td>0.061454</td>\n      <td>0.212296</td>\n      <td>-0.160654</td>\n      <td>0.401392</td>\n    </tr>\n    <tr>\n      <th>2020-11-09 21:45:00</th>\n      <td>0.296402</td>\n      <td>-0.014575</td>\n      <td>-0.281596</td>\n      <td>0.978372</td>\n    </tr>\n    <tr>\n      <th>2020-11-09 22:45:00</th>\n      <td>1.907973</td>\n      <td>1.743573</td>\n      <td>-0.520402</td>\n      <td>-0.862621</td>\n    </tr>\n    <tr>\n      <th>2020-11-09 23:45:00</th>\n      <td>-0.456774</td>\n      <td>1.706971</td>\n      <td>-0.902770</td>\n      <td>-0.380967</td>\n    </tr>\n  </tbody>\n</table>\n</div>"
     },
     "metadata": {},
     "execution_count": 83
    }
   ],
   "source": [
    "entries=10\n",
    "dates=pd.date_range('11/9/2020 14:45:00',freq='h', periods=entries)\n",
    "df = pd.DataFrame(np.random.randn(entries,4), index=dates, columns=['A','B','C','D'])\n",
    "df"
   ]
  },
  {
   "cell_type": "markdown",
   "metadata": {},
   "source": [
    "or by means of a dictionary:\n"
   ]
  },
  {
   "cell_type": "code",
   "execution_count": 85,
   "metadata": {},
   "outputs": [
    {
     "output_type": "execute_result",
     "data": {
      "text/plain": [
       "     A          B    C   D      E\n",
       "0  1.0 2013-01-02  1.0   7   test\n",
       "1  1.0 2013-01-02  1.0   8  train\n",
       "2  1.0 2013-01-02  1.0   9   test\n",
       "3  1.0 2013-01-02  1.0  10  train"
      ],
      "text/html": "<div>\n<style scoped>\n    .dataframe tbody tr th:only-of-type {\n        vertical-align: middle;\n    }\n\n    .dataframe tbody tr th {\n        vertical-align: top;\n    }\n\n    .dataframe thead th {\n        text-align: right;\n    }\n</style>\n<table border=\"1\" class=\"dataframe\">\n  <thead>\n    <tr style=\"text-align: right;\">\n      <th></th>\n      <th>A</th>\n      <th>B</th>\n      <th>C</th>\n      <th>D</th>\n      <th>E</th>\n    </tr>\n  </thead>\n  <tbody>\n    <tr>\n      <th>0</th>\n      <td>1.0</td>\n      <td>2013-01-02</td>\n      <td>1.0</td>\n      <td>7</td>\n      <td>test</td>\n    </tr>\n    <tr>\n      <th>1</th>\n      <td>1.0</td>\n      <td>2013-01-02</td>\n      <td>1.0</td>\n      <td>8</td>\n      <td>train</td>\n    </tr>\n    <tr>\n      <th>2</th>\n      <td>1.0</td>\n      <td>2013-01-02</td>\n      <td>1.0</td>\n      <td>9</td>\n      <td>test</td>\n    </tr>\n    <tr>\n      <th>3</th>\n      <td>1.0</td>\n      <td>2013-01-02</td>\n      <td>1.0</td>\n      <td>10</td>\n      <td>train</td>\n    </tr>\n  </tbody>\n</table>\n</div>"
     },
     "metadata": {},
     "execution_count": 85
    }
   ],
   "source": [
    "df2 = pd.DataFrame(\n",
    "    { 'A' : 1., #if just one element, it's going to be repeated over and over..\n",
    "      'B' : pd.Timestamp('20130102'),\n",
    "      'C' : pd.Series(1,index=range(4),dtype='float32'),\n",
    "      'D' : np.arange(7,11), #pay attention to array lenghts and indexes!\n",
    "      'E' : pd.Categorical([\"test\",\"train\",\"test\",\"train\"]),\n",
    "    }\n",
    "    )\n",
    "df2"
   ]
  },
  {
   "cell_type": "markdown",
   "metadata": {},
   "source": [
    "### Viewing Data"
   ]
  },
  {
   "cell_type": "code",
   "execution_count": 12,
   "metadata": {},
   "outputs": [
    {
     "output_type": "execute_result",
     "data": {
      "text/plain": [
       "                            A         B         C         D\n",
       "2020-11-09 14:45:00 -0.762218  0.115785  2.991449  0.345207\n",
       "2020-11-09 15:45:00 -0.461811  0.712724  0.101122 -0.695622\n",
       "2020-11-09 16:45:00  1.662150 -0.732070 -0.113994 -0.413618\n",
       "2020-11-09 17:45:00  0.368244 -0.421824  0.600260 -0.040204\n",
       "2020-11-09 18:45:00  1.697139 -0.782511 -2.008517 -0.008988"
      ],
      "text/html": "<div>\n<style scoped>\n    .dataframe tbody tr th:only-of-type {\n        vertical-align: middle;\n    }\n\n    .dataframe tbody tr th {\n        vertical-align: top;\n    }\n\n    .dataframe thead th {\n        text-align: right;\n    }\n</style>\n<table border=\"1\" class=\"dataframe\">\n  <thead>\n    <tr style=\"text-align: right;\">\n      <th></th>\n      <th>A</th>\n      <th>B</th>\n      <th>C</th>\n      <th>D</th>\n    </tr>\n  </thead>\n  <tbody>\n    <tr>\n      <th>2020-11-09 14:45:00</th>\n      <td>-0.762218</td>\n      <td>0.115785</td>\n      <td>2.991449</td>\n      <td>0.345207</td>\n    </tr>\n    <tr>\n      <th>2020-11-09 15:45:00</th>\n      <td>-0.461811</td>\n      <td>0.712724</td>\n      <td>0.101122</td>\n      <td>-0.695622</td>\n    </tr>\n    <tr>\n      <th>2020-11-09 16:45:00</th>\n      <td>1.662150</td>\n      <td>-0.732070</td>\n      <td>-0.113994</td>\n      <td>-0.413618</td>\n    </tr>\n    <tr>\n      <th>2020-11-09 17:45:00</th>\n      <td>0.368244</td>\n      <td>-0.421824</td>\n      <td>0.600260</td>\n      <td>-0.040204</td>\n    </tr>\n    <tr>\n      <th>2020-11-09 18:45:00</th>\n      <td>1.697139</td>\n      <td>-0.782511</td>\n      <td>-2.008517</td>\n      <td>-0.008988</td>\n    </tr>\n  </tbody>\n</table>\n</div>"
     },
     "metadata": {},
     "execution_count": 12
    }
   ],
   "source": [
    "df.head() #just first records"
   ]
  },
  {
   "cell_type": "code",
   "execution_count": 13,
   "metadata": {},
   "outputs": [
    {
     "output_type": "execute_result",
     "data": {
      "text/plain": [
       "                            A         B         C         D\n",
       "2020-11-09 20:45:00 -0.853281 -1.042549 -1.980586  0.168377\n",
       "2020-11-09 21:45:00 -0.459920  0.433525  0.240113 -2.288564\n",
       "2020-11-09 22:45:00 -0.303171 -0.182041  0.525951 -1.155489\n",
       "2020-11-09 23:45:00 -0.282004 -0.087551 -1.493189  0.362743"
      ],
      "text/html": "<div>\n<style scoped>\n    .dataframe tbody tr th:only-of-type {\n        vertical-align: middle;\n    }\n\n    .dataframe tbody tr th {\n        vertical-align: top;\n    }\n\n    .dataframe thead th {\n        text-align: right;\n    }\n</style>\n<table border=\"1\" class=\"dataframe\">\n  <thead>\n    <tr style=\"text-align: right;\">\n      <th></th>\n      <th>A</th>\n      <th>B</th>\n      <th>C</th>\n      <th>D</th>\n    </tr>\n  </thead>\n  <tbody>\n    <tr>\n      <th>2020-11-09 20:45:00</th>\n      <td>-0.853281</td>\n      <td>-1.042549</td>\n      <td>-1.980586</td>\n      <td>0.168377</td>\n    </tr>\n    <tr>\n      <th>2020-11-09 21:45:00</th>\n      <td>-0.459920</td>\n      <td>0.433525</td>\n      <td>0.240113</td>\n      <td>-2.288564</td>\n    </tr>\n    <tr>\n      <th>2020-11-09 22:45:00</th>\n      <td>-0.303171</td>\n      <td>-0.182041</td>\n      <td>0.525951</td>\n      <td>-1.155489</td>\n    </tr>\n    <tr>\n      <th>2020-11-09 23:45:00</th>\n      <td>-0.282004</td>\n      <td>-0.087551</td>\n      <td>-1.493189</td>\n      <td>0.362743</td>\n    </tr>\n  </tbody>\n</table>\n</div>"
     },
     "metadata": {},
     "execution_count": 13
    }
   ],
   "source": [
    "df.tail(4) #last records"
   ]
  },
  {
   "cell_type": "code",
   "execution_count": 14,
   "metadata": {},
   "outputs": [
    {
     "output_type": "execute_result",
     "data": {
      "text/plain": [
       "DatetimeIndex(['2020-11-09 14:45:00', '2020-11-09 15:45:00',\n",
       "               '2020-11-09 16:45:00', '2020-11-09 17:45:00',\n",
       "               '2020-11-09 18:45:00', '2020-11-09 19:45:00',\n",
       "               '2020-11-09 20:45:00', '2020-11-09 21:45:00',\n",
       "               '2020-11-09 22:45:00', '2020-11-09 23:45:00'],\n",
       "              dtype='datetime64[ns]', freq='H')"
      ]
     },
     "metadata": {},
     "execution_count": 14
    }
   ],
   "source": [
    "df.index  "
   ]
  },
  {
   "cell_type": "code",
   "execution_count": 15,
   "metadata": {},
   "outputs": [
    {
     "output_type": "execute_result",
     "data": {
      "text/plain": [
       "Index(['A', 'B', 'C', 'D'], dtype='object')"
      ]
     },
     "metadata": {},
     "execution_count": 15
    }
   ],
   "source": [
    "df.columns"
   ]
  },
  {
   "cell_type": "code",
   "execution_count": 16,
   "metadata": {},
   "outputs": [
    {
     "output_type": "execute_result",
     "data": {
      "text/plain": [
       "array([[-0.76221798,  0.11578486,  2.99144898,  0.3452072 ],\n",
       "       [-0.46181122,  0.71272363,  0.1011219 , -0.69562169],\n",
       "       [ 1.66215036, -0.73206968, -0.11399397, -0.41361805],\n",
       "       [ 0.36824351, -0.42182362,  0.60026005, -0.04020435],\n",
       "       [ 1.69713917, -0.78251106, -2.00851689, -0.00898783],\n",
       "       [-0.81608016, -0.89897824,  1.1902264 ,  1.73612021],\n",
       "       [-0.85328142, -1.04254915, -1.98058581,  0.16837651],\n",
       "       [-0.45992022,  0.43352504,  0.2401128 , -2.28856364],\n",
       "       [-0.30317128, -0.18204095,  0.52595107, -1.15548925],\n",
       "       [-0.28200372, -0.08755082, -1.49318944,  0.36274336]])"
      ]
     },
     "metadata": {},
     "execution_count": 16
    }
   ],
   "source": [
    "df.values #it's a numpy array!!!"
   ]
  },
  {
   "cell_type": "code",
   "execution_count": 87,
   "metadata": {},
   "outputs": [
    {
     "output_type": "execute_result",
     "data": {
      "text/plain": [
       "               A          B          C          D\n",
       "count  10.000000  10.000000  10.000000  10.000000\n",
       "mean    0.409384  -0.089224   0.129142  -0.360968\n",
       "std     1.176276   1.367052   1.208548   1.265320\n",
       "min    -1.734418  -2.689074  -0.902770  -2.176608\n",
       "25%    -0.327217  -0.806373  -0.631969  -1.280187\n",
       "50%     0.402525  -0.134315  -0.370992  -0.605941\n",
       "75%     1.262970   0.845733   0.417373   0.398079\n",
       "max     1.907973   1.743573   2.597034   1.888361"
      ],
      "text/html": "<div>\n<style scoped>\n    .dataframe tbody tr th:only-of-type {\n        vertical-align: middle;\n    }\n\n    .dataframe tbody tr th {\n        vertical-align: top;\n    }\n\n    .dataframe thead th {\n        text-align: right;\n    }\n</style>\n<table border=\"1\" class=\"dataframe\">\n  <thead>\n    <tr style=\"text-align: right;\">\n      <th></th>\n      <th>A</th>\n      <th>B</th>\n      <th>C</th>\n      <th>D</th>\n    </tr>\n  </thead>\n  <tbody>\n    <tr>\n      <th>count</th>\n      <td>10.000000</td>\n      <td>10.000000</td>\n      <td>10.000000</td>\n      <td>10.000000</td>\n    </tr>\n    <tr>\n      <th>mean</th>\n      <td>0.409384</td>\n      <td>-0.089224</td>\n      <td>0.129142</td>\n      <td>-0.360968</td>\n    </tr>\n    <tr>\n      <th>std</th>\n      <td>1.176276</td>\n      <td>1.367052</td>\n      <td>1.208548</td>\n      <td>1.265320</td>\n    </tr>\n    <tr>\n      <th>min</th>\n      <td>-1.734418</td>\n      <td>-2.689074</td>\n      <td>-0.902770</td>\n      <td>-2.176608</td>\n    </tr>\n    <tr>\n      <th>25%</th>\n      <td>-0.327217</td>\n      <td>-0.806373</td>\n      <td>-0.631969</td>\n      <td>-1.280187</td>\n    </tr>\n    <tr>\n      <th>50%</th>\n      <td>0.402525</td>\n      <td>-0.134315</td>\n      <td>-0.370992</td>\n      <td>-0.605941</td>\n    </tr>\n    <tr>\n      <th>75%</th>\n      <td>1.262970</td>\n      <td>0.845733</td>\n      <td>0.417373</td>\n      <td>0.398079</td>\n    </tr>\n    <tr>\n      <th>max</th>\n      <td>1.907973</td>\n      <td>1.743573</td>\n      <td>2.597034</td>\n      <td>1.888361</td>\n    </tr>\n  </tbody>\n</table>\n</div>"
     },
     "metadata": {},
     "execution_count": 87
    }
   ],
   "source": [
    "df.describe() #nice!"
   ]
  },
  {
   "cell_type": "code",
   "execution_count": 18,
   "metadata": {},
   "outputs": [
    {
     "output_type": "execute_result",
     "data": {
      "text/plain": [
       "   2020-11-09 14:45:00  2020-11-09 15:45:00  2020-11-09 16:45:00  \\\n",
       "A            -0.762218            -0.461811             1.662150   \n",
       "B             0.115785             0.712724            -0.732070   \n",
       "C             2.991449             0.101122            -0.113994   \n",
       "D             0.345207            -0.695622            -0.413618   \n",
       "\n",
       "   2020-11-09 17:45:00  2020-11-09 18:45:00  2020-11-09 19:45:00  \\\n",
       "A             0.368244             1.697139            -0.816080   \n",
       "B            -0.421824            -0.782511            -0.898978   \n",
       "C             0.600260            -2.008517             1.190226   \n",
       "D            -0.040204            -0.008988             1.736120   \n",
       "\n",
       "   2020-11-09 20:45:00  2020-11-09 21:45:00  2020-11-09 22:45:00  \\\n",
       "A            -0.853281            -0.459920            -0.303171   \n",
       "B            -1.042549             0.433525            -0.182041   \n",
       "C            -1.980586             0.240113             0.525951   \n",
       "D             0.168377            -2.288564            -1.155489   \n",
       "\n",
       "   2020-11-09 23:45:00  \n",
       "A            -0.282004  \n",
       "B            -0.087551  \n",
       "C            -1.493189  \n",
       "D             0.362743  "
      ],
      "text/html": "<div>\n<style scoped>\n    .dataframe tbody tr th:only-of-type {\n        vertical-align: middle;\n    }\n\n    .dataframe tbody tr th {\n        vertical-align: top;\n    }\n\n    .dataframe thead th {\n        text-align: right;\n    }\n</style>\n<table border=\"1\" class=\"dataframe\">\n  <thead>\n    <tr style=\"text-align: right;\">\n      <th></th>\n      <th>2020-11-09 14:45:00</th>\n      <th>2020-11-09 15:45:00</th>\n      <th>2020-11-09 16:45:00</th>\n      <th>2020-11-09 17:45:00</th>\n      <th>2020-11-09 18:45:00</th>\n      <th>2020-11-09 19:45:00</th>\n      <th>2020-11-09 20:45:00</th>\n      <th>2020-11-09 21:45:00</th>\n      <th>2020-11-09 22:45:00</th>\n      <th>2020-11-09 23:45:00</th>\n    </tr>\n  </thead>\n  <tbody>\n    <tr>\n      <th>A</th>\n      <td>-0.762218</td>\n      <td>-0.461811</td>\n      <td>1.662150</td>\n      <td>0.368244</td>\n      <td>1.697139</td>\n      <td>-0.816080</td>\n      <td>-0.853281</td>\n      <td>-0.459920</td>\n      <td>-0.303171</td>\n      <td>-0.282004</td>\n    </tr>\n    <tr>\n      <th>B</th>\n      <td>0.115785</td>\n      <td>0.712724</td>\n      <td>-0.732070</td>\n      <td>-0.421824</td>\n      <td>-0.782511</td>\n      <td>-0.898978</td>\n      <td>-1.042549</td>\n      <td>0.433525</td>\n      <td>-0.182041</td>\n      <td>-0.087551</td>\n    </tr>\n    <tr>\n      <th>C</th>\n      <td>2.991449</td>\n      <td>0.101122</td>\n      <td>-0.113994</td>\n      <td>0.600260</td>\n      <td>-2.008517</td>\n      <td>1.190226</td>\n      <td>-1.980586</td>\n      <td>0.240113</td>\n      <td>0.525951</td>\n      <td>-1.493189</td>\n    </tr>\n    <tr>\n      <th>D</th>\n      <td>0.345207</td>\n      <td>-0.695622</td>\n      <td>-0.413618</td>\n      <td>-0.040204</td>\n      <td>-0.008988</td>\n      <td>1.736120</td>\n      <td>0.168377</td>\n      <td>-2.288564</td>\n      <td>-1.155489</td>\n      <td>0.362743</td>\n    </tr>\n  </tbody>\n</table>\n</div>"
     },
     "metadata": {},
     "execution_count": 18
    }
   ],
   "source": [
    "df.T"
   ]
  },
  {
   "cell_type": "code",
   "execution_count": 19,
   "metadata": {},
   "outputs": [
    {
     "output_type": "execute_result",
     "data": {
      "text/plain": [
       "                            D         C         B         A\n",
       "2020-11-09 14:45:00  0.345207  2.991449  0.115785 -0.762218\n",
       "2020-11-09 15:45:00 -0.695622  0.101122  0.712724 -0.461811\n",
       "2020-11-09 16:45:00 -0.413618 -0.113994 -0.732070  1.662150\n",
       "2020-11-09 17:45:00 -0.040204  0.600260 -0.421824  0.368244\n",
       "2020-11-09 18:45:00 -0.008988 -2.008517 -0.782511  1.697139\n",
       "2020-11-09 19:45:00  1.736120  1.190226 -0.898978 -0.816080\n",
       "2020-11-09 20:45:00  0.168377 -1.980586 -1.042549 -0.853281\n",
       "2020-11-09 21:45:00 -2.288564  0.240113  0.433525 -0.459920\n",
       "2020-11-09 22:45:00 -1.155489  0.525951 -0.182041 -0.303171\n",
       "2020-11-09 23:45:00  0.362743 -1.493189 -0.087551 -0.282004"
      ],
      "text/html": "<div>\n<style scoped>\n    .dataframe tbody tr th:only-of-type {\n        vertical-align: middle;\n    }\n\n    .dataframe tbody tr th {\n        vertical-align: top;\n    }\n\n    .dataframe thead th {\n        text-align: right;\n    }\n</style>\n<table border=\"1\" class=\"dataframe\">\n  <thead>\n    <tr style=\"text-align: right;\">\n      <th></th>\n      <th>D</th>\n      <th>C</th>\n      <th>B</th>\n      <th>A</th>\n    </tr>\n  </thead>\n  <tbody>\n    <tr>\n      <th>2020-11-09 14:45:00</th>\n      <td>0.345207</td>\n      <td>2.991449</td>\n      <td>0.115785</td>\n      <td>-0.762218</td>\n    </tr>\n    <tr>\n      <th>2020-11-09 15:45:00</th>\n      <td>-0.695622</td>\n      <td>0.101122</td>\n      <td>0.712724</td>\n      <td>-0.461811</td>\n    </tr>\n    <tr>\n      <th>2020-11-09 16:45:00</th>\n      <td>-0.413618</td>\n      <td>-0.113994</td>\n      <td>-0.732070</td>\n      <td>1.662150</td>\n    </tr>\n    <tr>\n      <th>2020-11-09 17:45:00</th>\n      <td>-0.040204</td>\n      <td>0.600260</td>\n      <td>-0.421824</td>\n      <td>0.368244</td>\n    </tr>\n    <tr>\n      <th>2020-11-09 18:45:00</th>\n      <td>-0.008988</td>\n      <td>-2.008517</td>\n      <td>-0.782511</td>\n      <td>1.697139</td>\n    </tr>\n    <tr>\n      <th>2020-11-09 19:45:00</th>\n      <td>1.736120</td>\n      <td>1.190226</td>\n      <td>-0.898978</td>\n      <td>-0.816080</td>\n    </tr>\n    <tr>\n      <th>2020-11-09 20:45:00</th>\n      <td>0.168377</td>\n      <td>-1.980586</td>\n      <td>-1.042549</td>\n      <td>-0.853281</td>\n    </tr>\n    <tr>\n      <th>2020-11-09 21:45:00</th>\n      <td>-2.288564</td>\n      <td>0.240113</td>\n      <td>0.433525</td>\n      <td>-0.459920</td>\n    </tr>\n    <tr>\n      <th>2020-11-09 22:45:00</th>\n      <td>-1.155489</td>\n      <td>0.525951</td>\n      <td>-0.182041</td>\n      <td>-0.303171</td>\n    </tr>\n    <tr>\n      <th>2020-11-09 23:45:00</th>\n      <td>0.362743</td>\n      <td>-1.493189</td>\n      <td>-0.087551</td>\n      <td>-0.282004</td>\n    </tr>\n  </tbody>\n</table>\n</div>"
     },
     "metadata": {},
     "execution_count": 19
    }
   ],
   "source": [
    "df.sort_index(axis=1,ascending=False)"
   ]
  },
  {
   "cell_type": "code",
   "execution_count": 20,
   "metadata": {},
   "outputs": [
    {
     "output_type": "execute_result",
     "data": {
      "text/plain": [
       "                            A         B         C         D\n",
       "2020-11-09 18:45:00  1.697139 -0.782511 -2.008517 -0.008988\n",
       "2020-11-09 20:45:00 -0.853281 -1.042549 -1.980586  0.168377\n",
       "2020-11-09 23:45:00 -0.282004 -0.087551 -1.493189  0.362743\n",
       "2020-11-09 16:45:00  1.662150 -0.732070 -0.113994 -0.413618\n",
       "2020-11-09 15:45:00 -0.461811  0.712724  0.101122 -0.695622\n",
       "2020-11-09 21:45:00 -0.459920  0.433525  0.240113 -2.288564\n",
       "2020-11-09 22:45:00 -0.303171 -0.182041  0.525951 -1.155489\n",
       "2020-11-09 17:45:00  0.368244 -0.421824  0.600260 -0.040204\n",
       "2020-11-09 19:45:00 -0.816080 -0.898978  1.190226  1.736120\n",
       "2020-11-09 14:45:00 -0.762218  0.115785  2.991449  0.345207"
      ],
      "text/html": "<div>\n<style scoped>\n    .dataframe tbody tr th:only-of-type {\n        vertical-align: middle;\n    }\n\n    .dataframe tbody tr th {\n        vertical-align: top;\n    }\n\n    .dataframe thead th {\n        text-align: right;\n    }\n</style>\n<table border=\"1\" class=\"dataframe\">\n  <thead>\n    <tr style=\"text-align: right;\">\n      <th></th>\n      <th>A</th>\n      <th>B</th>\n      <th>C</th>\n      <th>D</th>\n    </tr>\n  </thead>\n  <tbody>\n    <tr>\n      <th>2020-11-09 18:45:00</th>\n      <td>1.697139</td>\n      <td>-0.782511</td>\n      <td>-2.008517</td>\n      <td>-0.008988</td>\n    </tr>\n    <tr>\n      <th>2020-11-09 20:45:00</th>\n      <td>-0.853281</td>\n      <td>-1.042549</td>\n      <td>-1.980586</td>\n      <td>0.168377</td>\n    </tr>\n    <tr>\n      <th>2020-11-09 23:45:00</th>\n      <td>-0.282004</td>\n      <td>-0.087551</td>\n      <td>-1.493189</td>\n      <td>0.362743</td>\n    </tr>\n    <tr>\n      <th>2020-11-09 16:45:00</th>\n      <td>1.662150</td>\n      <td>-0.732070</td>\n      <td>-0.113994</td>\n      <td>-0.413618</td>\n    </tr>\n    <tr>\n      <th>2020-11-09 15:45:00</th>\n      <td>-0.461811</td>\n      <td>0.712724</td>\n      <td>0.101122</td>\n      <td>-0.695622</td>\n    </tr>\n    <tr>\n      <th>2020-11-09 21:45:00</th>\n      <td>-0.459920</td>\n      <td>0.433525</td>\n      <td>0.240113</td>\n      <td>-2.288564</td>\n    </tr>\n    <tr>\n      <th>2020-11-09 22:45:00</th>\n      <td>-0.303171</td>\n      <td>-0.182041</td>\n      <td>0.525951</td>\n      <td>-1.155489</td>\n    </tr>\n    <tr>\n      <th>2020-11-09 17:45:00</th>\n      <td>0.368244</td>\n      <td>-0.421824</td>\n      <td>0.600260</td>\n      <td>-0.040204</td>\n    </tr>\n    <tr>\n      <th>2020-11-09 19:45:00</th>\n      <td>-0.816080</td>\n      <td>-0.898978</td>\n      <td>1.190226</td>\n      <td>1.736120</td>\n    </tr>\n    <tr>\n      <th>2020-11-09 14:45:00</th>\n      <td>-0.762218</td>\n      <td>0.115785</td>\n      <td>2.991449</td>\n      <td>0.345207</td>\n    </tr>\n  </tbody>\n</table>\n</div>"
     },
     "metadata": {},
     "execution_count": 20
    }
   ],
   "source": [
    "df.sort_values(by=\"C\")"
   ]
  },
  {
   "cell_type": "markdown",
   "metadata": {},
   "source": [
    "## Selection\n",
    "\n",
    "### Getting slices\n",
    "\n",
    "The following show how to get part of the DataFrame (i.e. not just the elements)"
   ]
  },
  {
   "cell_type": "code",
   "execution_count": 89,
   "metadata": {},
   "outputs": [
    {
     "output_type": "stream",
     "name": "stdout",
     "text": [
      "2020-11-09 14:45:00    1.134209\n2020-11-09 15:45:00   -0.760208\n2020-11-09 16:45:00    0.508648\n2020-11-09 17:45:00    1.830660\n2020-11-09 18:45:00   -1.734418\n2020-11-09 19:45:00    1.305891\n2020-11-09 20:45:00    0.061454\n2020-11-09 21:45:00    0.296402\n2020-11-09 22:45:00    1.907973\n2020-11-09 23:45:00   -0.456774\nFreq: H, Name: A, dtype: float64 \n\n2020-11-09 14:45:00    1.134209\n2020-11-09 15:45:00   -0.760208\n2020-11-09 16:45:00    0.508648\n2020-11-09 17:45:00    1.830660\n2020-11-09 18:45:00   -1.734418\n2020-11-09 19:45:00    1.305891\n2020-11-09 20:45:00    0.061454\n2020-11-09 21:45:00    0.296402\n2020-11-09 22:45:00    1.907973\n2020-11-09 23:45:00   -0.456774\nFreq: H, Name: A, dtype: float64\n"
     ]
    }
   ],
   "source": [
    "## standard and safe\n",
    "print (df['A'],'\\n')\n",
    "\n",
    "## equivalent but dangerous (imagine blank spaces in the name of the column..)\n",
    "print (df.A)\n"
   ]
  },
  {
   "cell_type": "code",
   "execution_count": 90,
   "metadata": {},
   "outputs": [
    {
     "output_type": "stream",
     "name": "stdout",
     "text": [
      "                            A         B         C         D\n2020-11-09 14:45:00  1.134209 -0.631773 -0.831884 -1.595457\n2020-11-09 15:45:00 -0.760208 -0.254055  2.597034  0.388139\n2020-11-09 16:45:00  0.508648  1.056878 -0.669158  1.888361 \n\n                            A         B         C         D\n2020-11-09 14:45:00  1.134209 -0.631773 -0.831884 -1.595457\n2020-11-09 15:45:00 -0.760208 -0.254055  2.597034  0.388139\n2020-11-09 16:45:00  0.508648  1.056878 -0.669158  1.888361\n"
     ]
    }
   ],
   "source": [
    "# selecting rows by counting\n",
    "print (df[0:3], '\\n')\n",
    "\n",
    "# or by index\n",
    "print (df[\"2020-11-09 14:45:00\":\"2020-11-09 16:45:00\"])"
   ]
  },
  {
   "cell_type": "markdown",
   "metadata": {},
   "source": [
    "### Selection by label"
   ]
  },
  {
   "cell_type": "code",
   "execution_count": 23,
   "metadata": {},
   "outputs": [
    {
     "output_type": "execute_result",
     "data": {
      "text/plain": [
       "A   -0.762218\n",
       "B    0.115785\n",
       "C    2.991449\n",
       "D    0.345207\n",
       "Name: 2020-11-09 14:45:00, dtype: float64"
      ]
     },
     "metadata": {},
     "execution_count": 23
    }
   ],
   "source": [
    "# getting a cross section (part of the DataFrame) using a label\n",
    "df.loc[dates[0]]"
   ]
  },
  {
   "cell_type": "code",
   "execution_count": 24,
   "metadata": {},
   "outputs": [
    {
     "output_type": "execute_result",
     "data": {
      "text/plain": [
       "                            A         B\n",
       "2020-11-09 14:45:00 -0.762218  0.115785\n",
       "2020-11-09 15:45:00 -0.461811  0.712724\n",
       "2020-11-09 16:45:00  1.662150 -0.732070\n",
       "2020-11-09 17:45:00  0.368244 -0.421824\n",
       "2020-11-09 18:45:00  1.697139 -0.782511\n",
       "2020-11-09 19:45:00 -0.816080 -0.898978\n",
       "2020-11-09 20:45:00 -0.853281 -1.042549\n",
       "2020-11-09 21:45:00 -0.459920  0.433525\n",
       "2020-11-09 22:45:00 -0.303171 -0.182041\n",
       "2020-11-09 23:45:00 -0.282004 -0.087551"
      ],
      "text/html": "<div>\n<style scoped>\n    .dataframe tbody tr th:only-of-type {\n        vertical-align: middle;\n    }\n\n    .dataframe tbody tr th {\n        vertical-align: top;\n    }\n\n    .dataframe thead th {\n        text-align: right;\n    }\n</style>\n<table border=\"1\" class=\"dataframe\">\n  <thead>\n    <tr style=\"text-align: right;\">\n      <th></th>\n      <th>A</th>\n      <th>B</th>\n    </tr>\n  </thead>\n  <tbody>\n    <tr>\n      <th>2020-11-09 14:45:00</th>\n      <td>-0.762218</td>\n      <td>0.115785</td>\n    </tr>\n    <tr>\n      <th>2020-11-09 15:45:00</th>\n      <td>-0.461811</td>\n      <td>0.712724</td>\n    </tr>\n    <tr>\n      <th>2020-11-09 16:45:00</th>\n      <td>1.662150</td>\n      <td>-0.732070</td>\n    </tr>\n    <tr>\n      <th>2020-11-09 17:45:00</th>\n      <td>0.368244</td>\n      <td>-0.421824</td>\n    </tr>\n    <tr>\n      <th>2020-11-09 18:45:00</th>\n      <td>1.697139</td>\n      <td>-0.782511</td>\n    </tr>\n    <tr>\n      <th>2020-11-09 19:45:00</th>\n      <td>-0.816080</td>\n      <td>-0.898978</td>\n    </tr>\n    <tr>\n      <th>2020-11-09 20:45:00</th>\n      <td>-0.853281</td>\n      <td>-1.042549</td>\n    </tr>\n    <tr>\n      <th>2020-11-09 21:45:00</th>\n      <td>-0.459920</td>\n      <td>0.433525</td>\n    </tr>\n    <tr>\n      <th>2020-11-09 22:45:00</th>\n      <td>-0.303171</td>\n      <td>-0.182041</td>\n    </tr>\n    <tr>\n      <th>2020-11-09 23:45:00</th>\n      <td>-0.282004</td>\n      <td>-0.087551</td>\n    </tr>\n  </tbody>\n</table>\n</div>"
     },
     "metadata": {},
     "execution_count": 24
    }
   ],
   "source": [
    "# selecting on a multi-axis by label:\n",
    "df.loc[:,['A','B']]\n",
    "# a=df.loc[:,['A', 'B']] it returns a COPY! If you change a, then \n",
    "# df, the original database, is NOT changed!"
   ]
  },
  {
   "cell_type": "code",
   "execution_count": 25,
   "metadata": {},
   "outputs": [
    {
     "output_type": "execute_result",
     "data": {
      "text/plain": [
       "                            A         B\n",
       "2020-11-09 18:45:00  1.697139 -0.782511\n",
       "2020-11-09 19:45:00 -0.816080 -0.898978\n",
       "2020-11-09 20:45:00 -0.853281 -1.042549"
      ],
      "text/html": "<div>\n<style scoped>\n    .dataframe tbody tr th:only-of-type {\n        vertical-align: middle;\n    }\n\n    .dataframe tbody tr th {\n        vertical-align: top;\n    }\n\n    .dataframe thead th {\n        text-align: right;\n    }\n</style>\n<table border=\"1\" class=\"dataframe\">\n  <thead>\n    <tr style=\"text-align: right;\">\n      <th></th>\n      <th>A</th>\n      <th>B</th>\n    </tr>\n  </thead>\n  <tbody>\n    <tr>\n      <th>2020-11-09 18:45:00</th>\n      <td>1.697139</td>\n      <td>-0.782511</td>\n    </tr>\n    <tr>\n      <th>2020-11-09 19:45:00</th>\n      <td>-0.816080</td>\n      <td>-0.898978</td>\n    </tr>\n    <tr>\n      <th>2020-11-09 20:45:00</th>\n      <td>-0.853281</td>\n      <td>-1.042549</td>\n    </tr>\n  </tbody>\n</table>\n</div>"
     },
     "metadata": {},
     "execution_count": 25
    }
   ],
   "source": [
    "# showing label slicing, both endpoints are included:\n",
    "df.loc['2020-11-09 18:45:00':'2020-11-09 20:45:00',['A','B']]"
   ]
  },
  {
   "cell_type": "code",
   "execution_count": 26,
   "metadata": {},
   "outputs": [
    {
     "output_type": "stream",
     "name": "stdout",
     "text": [
      "-0.4618112167251489\n-0.4618112167251489\n"
     ]
    }
   ],
   "source": [
    "# getting an individual element\n",
    "print (df.loc[dates[1],'A'])\n",
    "\n",
    "# equivalently\n",
    "print (df.at[dates[1],'A'])"
   ]
  },
  {
   "cell_type": "markdown",
   "metadata": {},
   "source": [
    "### Selecting by position\n",
    "\n",
    "**ILOC RETURNS VIEWS** , different from LOC:\n",
    "\n",
    "**LOC RETURNS COPIES**"
   ]
  },
  {
   "cell_type": "code",
   "execution_count": 27,
   "metadata": {},
   "outputs": [
    {
     "output_type": "stream",
     "name": "stdout",
     "text": [
      "A    0.368244\nB   -0.421824\nC    0.600260\nD   -0.040204\nName: 2020-11-09 17:45:00, dtype: float64 \n\n                            A         B\n2020-11-09 17:45:00  0.368244 -0.421824\n2020-11-09 18:45:00  1.697139 -0.782511\n"
     ]
    }
   ],
   "source": [
    "# select via the position of the passed integers:\n",
    "print (df.iloc[3],'\\n')\n",
    "\n",
    "# notation similar to numpy/python\n",
    "print (df.iloc[3:5,0:2])"
   ]
  },
  {
   "cell_type": "code",
   "execution_count": 28,
   "metadata": {},
   "outputs": [
    {
     "output_type": "execute_result",
     "data": {
      "text/plain": [
       "                            A         C\n",
       "2020-11-09 15:45:00 -0.461811  0.101122\n",
       "2020-11-09 16:45:00  1.662150 -0.113994\n",
       "2020-11-09 18:45:00  1.697139 -2.008517"
      ],
      "text/html": "<div>\n<style scoped>\n    .dataframe tbody tr th:only-of-type {\n        vertical-align: middle;\n    }\n\n    .dataframe tbody tr th {\n        vertical-align: top;\n    }\n\n    .dataframe thead th {\n        text-align: right;\n    }\n</style>\n<table border=\"1\" class=\"dataframe\">\n  <thead>\n    <tr style=\"text-align: right;\">\n      <th></th>\n      <th>A</th>\n      <th>C</th>\n    </tr>\n  </thead>\n  <tbody>\n    <tr>\n      <th>2020-11-09 15:45:00</th>\n      <td>-0.461811</td>\n      <td>0.101122</td>\n    </tr>\n    <tr>\n      <th>2020-11-09 16:45:00</th>\n      <td>1.662150</td>\n      <td>-0.113994</td>\n    </tr>\n    <tr>\n      <th>2020-11-09 18:45:00</th>\n      <td>1.697139</td>\n      <td>-2.008517</td>\n    </tr>\n  </tbody>\n</table>\n</div>"
     },
     "metadata": {},
     "execution_count": 28
    }
   ],
   "source": [
    "# selecting raws 1,2 and 4 for columns 0 and 2\n",
    "df.iloc[[1,2,4],[0,2]] #just counting across rows"
   ]
  },
  {
   "cell_type": "code",
   "execution_count": 29,
   "metadata": {},
   "outputs": [
    {
     "output_type": "stream",
     "name": "stdout",
     "text": [
      "                            A         B         C         D\n2020-11-09 15:45:00 -0.461811  0.712724  0.101122 -0.695622\n2020-11-09 16:45:00  1.662150 -0.732070 -0.113994 -0.413618 \n\n                            B         C\n2020-11-09 14:45:00  0.115785  2.991449\n2020-11-09 15:45:00  0.712724  0.101122\n2020-11-09 16:45:00 -0.732070 -0.113994\n2020-11-09 17:45:00 -0.421824  0.600260\n2020-11-09 18:45:00 -0.782511 -2.008517\n2020-11-09 19:45:00 -0.898978  1.190226\n2020-11-09 20:45:00 -1.042549 -1.980586\n2020-11-09 21:45:00  0.433525  0.240113\n2020-11-09 22:45:00 -0.182041  0.525951\n2020-11-09 23:45:00 -0.087551 -1.493189\n"
     ]
    }
   ],
   "source": [
    "# slicing rows explicitly\n",
    "print (df.iloc[1:3,:],'\\n')\n",
    "\n",
    "# slicing columns explicitly\n",
    "print (df.iloc[:,1:3])\n"
   ]
  },
  {
   "cell_type": "code",
   "execution_count": 30,
   "metadata": {},
   "outputs": [
    {
     "output_type": "execute_result",
     "data": {
      "text/plain": [
       "0.7127236326245455"
      ]
     },
     "metadata": {},
     "execution_count": 30
    }
   ],
   "source": [
    "# selecting an individual element by position\n",
    "df.iloc[1,1]\n",
    "df.iat[1,1]\n"
   ]
  },
  {
   "cell_type": "markdown",
   "metadata": {},
   "source": [
    "### Boolean index\n",
    "\n",
    "Very powerful way of filtering out data with certain features. Notation is very similar to numpy arrays."
   ]
  },
  {
   "cell_type": "code",
   "execution_count": 31,
   "metadata": {},
   "outputs": [
    {
     "output_type": "execute_result",
     "data": {
      "text/plain": [
       "                            A         B         C         D\n",
       "2020-11-09 14:45:00 -0.762218  0.115785  2.991449  0.345207\n",
       "2020-11-09 15:45:00 -0.461811  0.712724  0.101122 -0.695622\n",
       "2020-11-09 21:45:00 -0.459920  0.433525  0.240113 -2.288564"
      ],
      "text/html": "<div>\n<style scoped>\n    .dataframe tbody tr th:only-of-type {\n        vertical-align: middle;\n    }\n\n    .dataframe tbody tr th {\n        vertical-align: top;\n    }\n\n    .dataframe thead th {\n        text-align: right;\n    }\n</style>\n<table border=\"1\" class=\"dataframe\">\n  <thead>\n    <tr style=\"text-align: right;\">\n      <th></th>\n      <th>A</th>\n      <th>B</th>\n      <th>C</th>\n      <th>D</th>\n    </tr>\n  </thead>\n  <tbody>\n    <tr>\n      <th>2020-11-09 14:45:00</th>\n      <td>-0.762218</td>\n      <td>0.115785</td>\n      <td>2.991449</td>\n      <td>0.345207</td>\n    </tr>\n    <tr>\n      <th>2020-11-09 15:45:00</th>\n      <td>-0.461811</td>\n      <td>0.712724</td>\n      <td>0.101122</td>\n      <td>-0.695622</td>\n    </tr>\n    <tr>\n      <th>2020-11-09 21:45:00</th>\n      <td>-0.459920</td>\n      <td>0.433525</td>\n      <td>0.240113</td>\n      <td>-2.288564</td>\n    </tr>\n  </tbody>\n</table>\n</div>"
     },
     "metadata": {},
     "execution_count": 31
    }
   ],
   "source": [
    "# Filter by a boolean condition on the values of a single column\n",
    "df[df['B'] > 0]"
   ]
  },
  {
   "cell_type": "code",
   "execution_count": 32,
   "metadata": {},
   "outputs": [
    {
     "output_type": "execute_result",
     "data": {
      "text/plain": [
       "                            A         B         C         D\n",
       "2020-11-09 14:45:00       NaN  0.115785  2.991449  0.345207\n",
       "2020-11-09 15:45:00       NaN  0.712724  0.101122       NaN\n",
       "2020-11-09 16:45:00  1.662150       NaN       NaN       NaN\n",
       "2020-11-09 17:45:00  0.368244       NaN  0.600260       NaN\n",
       "2020-11-09 18:45:00  1.697139       NaN       NaN       NaN\n",
       "2020-11-09 19:45:00       NaN       NaN  1.190226  1.736120\n",
       "2020-11-09 20:45:00       NaN       NaN       NaN  0.168377\n",
       "2020-11-09 21:45:00       NaN  0.433525  0.240113       NaN\n",
       "2020-11-09 22:45:00       NaN       NaN  0.525951       NaN\n",
       "2020-11-09 23:45:00       NaN       NaN       NaN  0.362743"
      ],
      "text/html": "<div>\n<style scoped>\n    .dataframe tbody tr th:only-of-type {\n        vertical-align: middle;\n    }\n\n    .dataframe tbody tr th {\n        vertical-align: top;\n    }\n\n    .dataframe thead th {\n        text-align: right;\n    }\n</style>\n<table border=\"1\" class=\"dataframe\">\n  <thead>\n    <tr style=\"text-align: right;\">\n      <th></th>\n      <th>A</th>\n      <th>B</th>\n      <th>C</th>\n      <th>D</th>\n    </tr>\n  </thead>\n  <tbody>\n    <tr>\n      <th>2020-11-09 14:45:00</th>\n      <td>NaN</td>\n      <td>0.115785</td>\n      <td>2.991449</td>\n      <td>0.345207</td>\n    </tr>\n    <tr>\n      <th>2020-11-09 15:45:00</th>\n      <td>NaN</td>\n      <td>0.712724</td>\n      <td>0.101122</td>\n      <td>NaN</td>\n    </tr>\n    <tr>\n      <th>2020-11-09 16:45:00</th>\n      <td>1.662150</td>\n      <td>NaN</td>\n      <td>NaN</td>\n      <td>NaN</td>\n    </tr>\n    <tr>\n      <th>2020-11-09 17:45:00</th>\n      <td>0.368244</td>\n      <td>NaN</td>\n      <td>0.600260</td>\n      <td>NaN</td>\n    </tr>\n    <tr>\n      <th>2020-11-09 18:45:00</th>\n      <td>1.697139</td>\n      <td>NaN</td>\n      <td>NaN</td>\n      <td>NaN</td>\n    </tr>\n    <tr>\n      <th>2020-11-09 19:45:00</th>\n      <td>NaN</td>\n      <td>NaN</td>\n      <td>1.190226</td>\n      <td>1.736120</td>\n    </tr>\n    <tr>\n      <th>2020-11-09 20:45:00</th>\n      <td>NaN</td>\n      <td>NaN</td>\n      <td>NaN</td>\n      <td>0.168377</td>\n    </tr>\n    <tr>\n      <th>2020-11-09 21:45:00</th>\n      <td>NaN</td>\n      <td>0.433525</td>\n      <td>0.240113</td>\n      <td>NaN</td>\n    </tr>\n    <tr>\n      <th>2020-11-09 22:45:00</th>\n      <td>NaN</td>\n      <td>NaN</td>\n      <td>0.525951</td>\n      <td>NaN</td>\n    </tr>\n    <tr>\n      <th>2020-11-09 23:45:00</th>\n      <td>NaN</td>\n      <td>NaN</td>\n      <td>NaN</td>\n      <td>0.362743</td>\n    </tr>\n  </tbody>\n</table>\n</div>"
     },
     "metadata": {},
     "execution_count": 32
    }
   ],
   "source": [
    "# Selecting on the basis of boolean conditions applied to the whole DataFrame\n",
    "df[df>0]\n",
    "\n",
    "# a DataFrame with the same shape is returned, with NaN's where condition is not met"
   ]
  },
  {
   "cell_type": "markdown",
   "metadata": {},
   "source": [
    "### Setting\n",
    "\n",
    "Combination of selection and setting of values"
   ]
  },
  {
   "cell_type": "code",
   "execution_count": 33,
   "metadata": {},
   "outputs": [],
   "source": [
    "# setting values by label (same as by position)\n",
    "df.at[dates[0],'A'] = 0\n",
    "\n",
    "# setting and assigning a numpy array\n",
    "df.loc[:,'D'] = np.array([5] * len(df))\n",
    "\n",
    "# defining a brend new column\n",
    "df['E'] = np.arange(len(df))*0.5\n",
    "\n",
    "# defining a brend new column by means of a pd.Series: indexes must be the same!\n",
    "df['E prime'] = pd.Series(np.arange(len(df))*2, index=df.index)\n"
   ]
  },
  {
   "cell_type": "code",
   "execution_count": 34,
   "metadata": {},
   "outputs": [
    {
     "output_type": "execute_result",
     "data": {
      "text/plain": [
       "                            A         B         C  D    E  E prime    cosine\n",
       "2020-11-09 14:45:00  0.000000  0.115785  2.991449  5  0.0        0  1.000000\n",
       "2020-11-09 15:45:00 -0.461811  0.712724  0.101122  5  0.5        2  0.999962\n",
       "2020-11-09 16:45:00  1.662150 -0.732070 -0.113994  5  1.0        4  0.999848\n",
       "2020-11-09 17:45:00  0.368244 -0.421824  0.600260  5  1.5        6  0.999657\n",
       "2020-11-09 18:45:00  1.697139 -0.782511 -2.008517  5  2.0        8  0.999391\n",
       "2020-11-09 19:45:00 -0.816080 -0.898978  1.190226  5  2.5       10  0.999048\n",
       "2020-11-09 20:45:00 -0.853281 -1.042549 -1.980586  5  3.0       12  0.998630\n",
       "2020-11-09 21:45:00 -0.459920  0.433525  0.240113  5  3.5       14  0.998135\n",
       "2020-11-09 22:45:00 -0.303171 -0.182041  0.525951  5  4.0       16  0.997564\n",
       "2020-11-09 23:45:00 -0.282004 -0.087551 -1.493189  5  4.5       18  0.996917"
      ],
      "text/html": "<div>\n<style scoped>\n    .dataframe tbody tr th:only-of-type {\n        vertical-align: middle;\n    }\n\n    .dataframe tbody tr th {\n        vertical-align: top;\n    }\n\n    .dataframe thead th {\n        text-align: right;\n    }\n</style>\n<table border=\"1\" class=\"dataframe\">\n  <thead>\n    <tr style=\"text-align: right;\">\n      <th></th>\n      <th>A</th>\n      <th>B</th>\n      <th>C</th>\n      <th>D</th>\n      <th>E</th>\n      <th>E prime</th>\n      <th>cosine</th>\n    </tr>\n  </thead>\n  <tbody>\n    <tr>\n      <th>2020-11-09 14:45:00</th>\n      <td>0.000000</td>\n      <td>0.115785</td>\n      <td>2.991449</td>\n      <td>5</td>\n      <td>0.0</td>\n      <td>0</td>\n      <td>1.000000</td>\n    </tr>\n    <tr>\n      <th>2020-11-09 15:45:00</th>\n      <td>-0.461811</td>\n      <td>0.712724</td>\n      <td>0.101122</td>\n      <td>5</td>\n      <td>0.5</td>\n      <td>2</td>\n      <td>0.999962</td>\n    </tr>\n    <tr>\n      <th>2020-11-09 16:45:00</th>\n      <td>1.662150</td>\n      <td>-0.732070</td>\n      <td>-0.113994</td>\n      <td>5</td>\n      <td>1.0</td>\n      <td>4</td>\n      <td>0.999848</td>\n    </tr>\n    <tr>\n      <th>2020-11-09 17:45:00</th>\n      <td>0.368244</td>\n      <td>-0.421824</td>\n      <td>0.600260</td>\n      <td>5</td>\n      <td>1.5</td>\n      <td>6</td>\n      <td>0.999657</td>\n    </tr>\n    <tr>\n      <th>2020-11-09 18:45:00</th>\n      <td>1.697139</td>\n      <td>-0.782511</td>\n      <td>-2.008517</td>\n      <td>5</td>\n      <td>2.0</td>\n      <td>8</td>\n      <td>0.999391</td>\n    </tr>\n    <tr>\n      <th>2020-11-09 19:45:00</th>\n      <td>-0.816080</td>\n      <td>-0.898978</td>\n      <td>1.190226</td>\n      <td>5</td>\n      <td>2.5</td>\n      <td>10</td>\n      <td>0.999048</td>\n    </tr>\n    <tr>\n      <th>2020-11-09 20:45:00</th>\n      <td>-0.853281</td>\n      <td>-1.042549</td>\n      <td>-1.980586</td>\n      <td>5</td>\n      <td>3.0</td>\n      <td>12</td>\n      <td>0.998630</td>\n    </tr>\n    <tr>\n      <th>2020-11-09 21:45:00</th>\n      <td>-0.459920</td>\n      <td>0.433525</td>\n      <td>0.240113</td>\n      <td>5</td>\n      <td>3.5</td>\n      <td>14</td>\n      <td>0.998135</td>\n    </tr>\n    <tr>\n      <th>2020-11-09 22:45:00</th>\n      <td>-0.303171</td>\n      <td>-0.182041</td>\n      <td>0.525951</td>\n      <td>5</td>\n      <td>4.0</td>\n      <td>16</td>\n      <td>0.997564</td>\n    </tr>\n    <tr>\n      <th>2020-11-09 23:45:00</th>\n      <td>-0.282004</td>\n      <td>-0.087551</td>\n      <td>-1.493189</td>\n      <td>5</td>\n      <td>4.5</td>\n      <td>18</td>\n      <td>0.996917</td>\n    </tr>\n  </tbody>\n</table>\n</div>"
     },
     "metadata": {},
     "execution_count": 34
    }
   ],
   "source": [
    "def dcos(theta):\n",
    "    theta = theta*(np.pi/180)\n",
    "    return np.cos(theta)\n",
    " \n",
    "df['cosine'] = pd.Series(df[\"E\"].apply(dcos), index=df.index)\n",
    "df"
   ]
  },
  {
   "cell_type": "code",
   "execution_count": 94,
   "metadata": {},
   "outputs": [
    {
     "output_type": "execute_result",
     "data": {
      "text/plain": [
       "                            A         B         C         D\n",
       "2020-11-09 14:45:00 -1.134209 -0.631773 -0.831884 -1.595457\n",
       "2020-11-09 15:45:00 -0.760208 -0.254055 -2.597034 -0.388139\n",
       "2020-11-09 16:45:00 -0.508648 -1.056878 -0.669158 -1.888361\n",
       "2020-11-09 17:45:00 -1.830660 -2.689074 -1.911188 -0.830915\n",
       "2020-11-09 18:45:00 -1.734418 -0.864573 -0.460388 -1.419375\n",
       "2020-11-09 19:45:00 -1.305891 -1.157905 -0.610049 -2.176608\n",
       "2020-11-09 20:45:00 -0.061454 -0.212296 -0.160654 -0.401392\n",
       "2020-11-09 21:45:00 -0.296402 -0.014575 -0.281596 -0.978372\n",
       "2020-11-09 22:45:00 -1.907973 -1.743573 -0.520402 -0.862621\n",
       "2020-11-09 23:45:00 -0.456774 -1.706971 -0.902770 -0.380967"
      ],
      "text/html": "<div>\n<style scoped>\n    .dataframe tbody tr th:only-of-type {\n        vertical-align: middle;\n    }\n\n    .dataframe tbody tr th {\n        vertical-align: top;\n    }\n\n    .dataframe thead th {\n        text-align: right;\n    }\n</style>\n<table border=\"1\" class=\"dataframe\">\n  <thead>\n    <tr style=\"text-align: right;\">\n      <th></th>\n      <th>A</th>\n      <th>B</th>\n      <th>C</th>\n      <th>D</th>\n    </tr>\n  </thead>\n  <tbody>\n    <tr>\n      <th>2020-11-09 14:45:00</th>\n      <td>-1.134209</td>\n      <td>-0.631773</td>\n      <td>-0.831884</td>\n      <td>-1.595457</td>\n    </tr>\n    <tr>\n      <th>2020-11-09 15:45:00</th>\n      <td>-0.760208</td>\n      <td>-0.254055</td>\n      <td>-2.597034</td>\n      <td>-0.388139</td>\n    </tr>\n    <tr>\n      <th>2020-11-09 16:45:00</th>\n      <td>-0.508648</td>\n      <td>-1.056878</td>\n      <td>-0.669158</td>\n      <td>-1.888361</td>\n    </tr>\n    <tr>\n      <th>2020-11-09 17:45:00</th>\n      <td>-1.830660</td>\n      <td>-2.689074</td>\n      <td>-1.911188</td>\n      <td>-0.830915</td>\n    </tr>\n    <tr>\n      <th>2020-11-09 18:45:00</th>\n      <td>-1.734418</td>\n      <td>-0.864573</td>\n      <td>-0.460388</td>\n      <td>-1.419375</td>\n    </tr>\n    <tr>\n      <th>2020-11-09 19:45:00</th>\n      <td>-1.305891</td>\n      <td>-1.157905</td>\n      <td>-0.610049</td>\n      <td>-2.176608</td>\n    </tr>\n    <tr>\n      <th>2020-11-09 20:45:00</th>\n      <td>-0.061454</td>\n      <td>-0.212296</td>\n      <td>-0.160654</td>\n      <td>-0.401392</td>\n    </tr>\n    <tr>\n      <th>2020-11-09 21:45:00</th>\n      <td>-0.296402</td>\n      <td>-0.014575</td>\n      <td>-0.281596</td>\n      <td>-0.978372</td>\n    </tr>\n    <tr>\n      <th>2020-11-09 22:45:00</th>\n      <td>-1.907973</td>\n      <td>-1.743573</td>\n      <td>-0.520402</td>\n      <td>-0.862621</td>\n    </tr>\n    <tr>\n      <th>2020-11-09 23:45:00</th>\n      <td>-0.456774</td>\n      <td>-1.706971</td>\n      <td>-0.902770</td>\n      <td>-0.380967</td>\n    </tr>\n  </tbody>\n</table>\n</div>"
     },
     "metadata": {},
     "execution_count": 94
    }
   ],
   "source": [
    "# another example of global setting\n",
    "df2=df.copy()\n",
    "df2[df2>0] = -df2\n",
    "df2"
   ]
  },
  {
   "cell_type": "markdown",
   "metadata": {},
   "source": [
    "### Dropping\n",
    "\n",
    "N.B.: dropping doesn't act permanently on the DataFrame, i.e. to get that do :\n",
    "```python\n",
    "df = df.drop(....)\n",
    "```"
   ]
  },
  {
   "cell_type": "code",
   "execution_count": 36,
   "metadata": {},
   "outputs": [
    {
     "output_type": "execute_result",
     "data": {
      "text/plain": [
       "                            A         B         C  D    E    cosine\n",
       "2020-11-09 14:45:00  0.000000  0.115785  2.991449  5  0.0  1.000000\n",
       "2020-11-09 15:45:00 -0.461811  0.712724  0.101122  5  0.5  0.999962\n",
       "2020-11-09 16:45:00  1.662150 -0.732070 -0.113994  5  1.0  0.999848\n",
       "2020-11-09 17:45:00  0.368244 -0.421824  0.600260  5  1.5  0.999657\n",
       "2020-11-09 18:45:00  1.697139 -0.782511 -2.008517  5  2.0  0.999391\n",
       "2020-11-09 19:45:00 -0.816080 -0.898978  1.190226  5  2.5  0.999048\n",
       "2020-11-09 20:45:00 -0.853281 -1.042549 -1.980586  5  3.0  0.998630\n",
       "2020-11-09 21:45:00 -0.459920  0.433525  0.240113  5  3.5  0.998135\n",
       "2020-11-09 22:45:00 -0.303171 -0.182041  0.525951  5  4.0  0.997564\n",
       "2020-11-09 23:45:00 -0.282004 -0.087551 -1.493189  5  4.5  0.996917"
      ],
      "text/html": "<div>\n<style scoped>\n    .dataframe tbody tr th:only-of-type {\n        vertical-align: middle;\n    }\n\n    .dataframe tbody tr th {\n        vertical-align: top;\n    }\n\n    .dataframe thead th {\n        text-align: right;\n    }\n</style>\n<table border=\"1\" class=\"dataframe\">\n  <thead>\n    <tr style=\"text-align: right;\">\n      <th></th>\n      <th>A</th>\n      <th>B</th>\n      <th>C</th>\n      <th>D</th>\n      <th>E</th>\n      <th>cosine</th>\n    </tr>\n  </thead>\n  <tbody>\n    <tr>\n      <th>2020-11-09 14:45:00</th>\n      <td>0.000000</td>\n      <td>0.115785</td>\n      <td>2.991449</td>\n      <td>5</td>\n      <td>0.0</td>\n      <td>1.000000</td>\n    </tr>\n    <tr>\n      <th>2020-11-09 15:45:00</th>\n      <td>-0.461811</td>\n      <td>0.712724</td>\n      <td>0.101122</td>\n      <td>5</td>\n      <td>0.5</td>\n      <td>0.999962</td>\n    </tr>\n    <tr>\n      <th>2020-11-09 16:45:00</th>\n      <td>1.662150</td>\n      <td>-0.732070</td>\n      <td>-0.113994</td>\n      <td>5</td>\n      <td>1.0</td>\n      <td>0.999848</td>\n    </tr>\n    <tr>\n      <th>2020-11-09 17:45:00</th>\n      <td>0.368244</td>\n      <td>-0.421824</td>\n      <td>0.600260</td>\n      <td>5</td>\n      <td>1.5</td>\n      <td>0.999657</td>\n    </tr>\n    <tr>\n      <th>2020-11-09 18:45:00</th>\n      <td>1.697139</td>\n      <td>-0.782511</td>\n      <td>-2.008517</td>\n      <td>5</td>\n      <td>2.0</td>\n      <td>0.999391</td>\n    </tr>\n    <tr>\n      <th>2020-11-09 19:45:00</th>\n      <td>-0.816080</td>\n      <td>-0.898978</td>\n      <td>1.190226</td>\n      <td>5</td>\n      <td>2.5</td>\n      <td>0.999048</td>\n    </tr>\n    <tr>\n      <th>2020-11-09 20:45:00</th>\n      <td>-0.853281</td>\n      <td>-1.042549</td>\n      <td>-1.980586</td>\n      <td>5</td>\n      <td>3.0</td>\n      <td>0.998630</td>\n    </tr>\n    <tr>\n      <th>2020-11-09 21:45:00</th>\n      <td>-0.459920</td>\n      <td>0.433525</td>\n      <td>0.240113</td>\n      <td>5</td>\n      <td>3.5</td>\n      <td>0.998135</td>\n    </tr>\n    <tr>\n      <th>2020-11-09 22:45:00</th>\n      <td>-0.303171</td>\n      <td>-0.182041</td>\n      <td>0.525951</td>\n      <td>5</td>\n      <td>4.0</td>\n      <td>0.997564</td>\n    </tr>\n    <tr>\n      <th>2020-11-09 23:45:00</th>\n      <td>-0.282004</td>\n      <td>-0.087551</td>\n      <td>-1.493189</td>\n      <td>5</td>\n      <td>4.5</td>\n      <td>0.996917</td>\n    </tr>\n  </tbody>\n</table>\n</div>"
     },
     "metadata": {},
     "execution_count": 36
    }
   ],
   "source": [
    "# Dropping by column\n",
    "df.drop(['E prime'], axis=1)\n",
    "\n",
    "#which is equivalent to\n",
    "df.drop(columns=['E prime']) #in a sense.. it is a copy!... ok"
   ]
  },
  {
   "cell_type": "code",
   "execution_count": 37,
   "metadata": {},
   "outputs": [
    {
     "output_type": "execute_result",
     "data": {
      "text/plain": [
       "                            A         B         C  D    E  E prime    cosine\n",
       "2020-11-09 14:45:00  0.000000  0.115785  2.991449  5  0.0        0  1.000000\n",
       "2020-11-09 19:45:00 -0.816080 -0.898978  1.190226  5  2.5       10  0.999048\n",
       "2020-11-09 20:45:00 -0.853281 -1.042549 -1.980586  5  3.0       12  0.998630\n",
       "2020-11-09 21:45:00 -0.459920  0.433525  0.240113  5  3.5       14  0.998135\n",
       "2020-11-09 22:45:00 -0.303171 -0.182041  0.525951  5  4.0       16  0.997564\n",
       "2020-11-09 23:45:00 -0.282004 -0.087551 -1.493189  5  4.5       18  0.996917"
      ],
      "text/html": "<div>\n<style scoped>\n    .dataframe tbody tr th:only-of-type {\n        vertical-align: middle;\n    }\n\n    .dataframe tbody tr th {\n        vertical-align: top;\n    }\n\n    .dataframe thead th {\n        text-align: right;\n    }\n</style>\n<table border=\"1\" class=\"dataframe\">\n  <thead>\n    <tr style=\"text-align: right;\">\n      <th></th>\n      <th>A</th>\n      <th>B</th>\n      <th>C</th>\n      <th>D</th>\n      <th>E</th>\n      <th>E prime</th>\n      <th>cosine</th>\n    </tr>\n  </thead>\n  <tbody>\n    <tr>\n      <th>2020-11-09 14:45:00</th>\n      <td>0.000000</td>\n      <td>0.115785</td>\n      <td>2.991449</td>\n      <td>5</td>\n      <td>0.0</td>\n      <td>0</td>\n      <td>1.000000</td>\n    </tr>\n    <tr>\n      <th>2020-11-09 19:45:00</th>\n      <td>-0.816080</td>\n      <td>-0.898978</td>\n      <td>1.190226</td>\n      <td>5</td>\n      <td>2.5</td>\n      <td>10</td>\n      <td>0.999048</td>\n    </tr>\n    <tr>\n      <th>2020-11-09 20:45:00</th>\n      <td>-0.853281</td>\n      <td>-1.042549</td>\n      <td>-1.980586</td>\n      <td>5</td>\n      <td>3.0</td>\n      <td>12</td>\n      <td>0.998630</td>\n    </tr>\n    <tr>\n      <th>2020-11-09 21:45:00</th>\n      <td>-0.459920</td>\n      <td>0.433525</td>\n      <td>0.240113</td>\n      <td>5</td>\n      <td>3.5</td>\n      <td>14</td>\n      <td>0.998135</td>\n    </tr>\n    <tr>\n      <th>2020-11-09 22:45:00</th>\n      <td>-0.303171</td>\n      <td>-0.182041</td>\n      <td>0.525951</td>\n      <td>5</td>\n      <td>4.0</td>\n      <td>16</td>\n      <td>0.997564</td>\n    </tr>\n    <tr>\n      <th>2020-11-09 23:45:00</th>\n      <td>-0.282004</td>\n      <td>-0.087551</td>\n      <td>-1.493189</td>\n      <td>5</td>\n      <td>4.5</td>\n      <td>18</td>\n      <td>0.996917</td>\n    </tr>\n  </tbody>\n</table>\n</div>"
     },
     "metadata": {},
     "execution_count": 37
    }
   ],
   "source": [
    "# Dropping by raws\n",
    "# safe and always working\n",
    "df.drop(df.index[[1,2,3,4]])"
   ]
  },
  {
   "cell_type": "code",
   "execution_count": 38,
   "metadata": {},
   "outputs": [
    {
     "output_type": "execute_result",
     "data": {
      "text/plain": [
       "                            A         B         C  D    E  E prime    cosine\n",
       "2020-11-09 14:45:00  0.000000  0.115785  2.991449  5  0.0        0  1.000000\n",
       "2020-11-09 15:45:00 -0.461811  0.712724  0.101122  5  0.5        2  0.999962\n",
       "2020-11-09 16:45:00  1.662150 -0.732070 -0.113994  5  1.0        4  0.999848\n",
       "2020-11-09 17:45:00  0.368244 -0.421824  0.600260  5  1.5        6  0.999657\n",
       "2020-11-09 18:45:00  1.697139 -0.782511 -2.008517  5  2.0        8  0.999391\n",
       "2020-11-09 19:45:00 -0.816080 -0.898978  1.190226  5  2.5       10  0.999048\n",
       "2020-11-09 20:45:00 -0.853281 -1.042549 -1.980586  5  3.0       12  0.998630\n",
       "2020-11-09 21:45:00 -0.459920  0.433525  0.240113  5  3.5       14  0.998135\n",
       "2020-11-09 23:45:00 -0.282004 -0.087551 -1.493189  5  4.5       18  0.996917"
      ],
      "text/html": "<div>\n<style scoped>\n    .dataframe tbody tr th:only-of-type {\n        vertical-align: middle;\n    }\n\n    .dataframe tbody tr th {\n        vertical-align: top;\n    }\n\n    .dataframe thead th {\n        text-align: right;\n    }\n</style>\n<table border=\"1\" class=\"dataframe\">\n  <thead>\n    <tr style=\"text-align: right;\">\n      <th></th>\n      <th>A</th>\n      <th>B</th>\n      <th>C</th>\n      <th>D</th>\n      <th>E</th>\n      <th>E prime</th>\n      <th>cosine</th>\n    </tr>\n  </thead>\n  <tbody>\n    <tr>\n      <th>2020-11-09 14:45:00</th>\n      <td>0.000000</td>\n      <td>0.115785</td>\n      <td>2.991449</td>\n      <td>5</td>\n      <td>0.0</td>\n      <td>0</td>\n      <td>1.000000</td>\n    </tr>\n    <tr>\n      <th>2020-11-09 15:45:00</th>\n      <td>-0.461811</td>\n      <td>0.712724</td>\n      <td>0.101122</td>\n      <td>5</td>\n      <td>0.5</td>\n      <td>2</td>\n      <td>0.999962</td>\n    </tr>\n    <tr>\n      <th>2020-11-09 16:45:00</th>\n      <td>1.662150</td>\n      <td>-0.732070</td>\n      <td>-0.113994</td>\n      <td>5</td>\n      <td>1.0</td>\n      <td>4</td>\n      <td>0.999848</td>\n    </tr>\n    <tr>\n      <th>2020-11-09 17:45:00</th>\n      <td>0.368244</td>\n      <td>-0.421824</td>\n      <td>0.600260</td>\n      <td>5</td>\n      <td>1.5</td>\n      <td>6</td>\n      <td>0.999657</td>\n    </tr>\n    <tr>\n      <th>2020-11-09 18:45:00</th>\n      <td>1.697139</td>\n      <td>-0.782511</td>\n      <td>-2.008517</td>\n      <td>5</td>\n      <td>2.0</td>\n      <td>8</td>\n      <td>0.999391</td>\n    </tr>\n    <tr>\n      <th>2020-11-09 19:45:00</th>\n      <td>-0.816080</td>\n      <td>-0.898978</td>\n      <td>1.190226</td>\n      <td>5</td>\n      <td>2.5</td>\n      <td>10</td>\n      <td>0.999048</td>\n    </tr>\n    <tr>\n      <th>2020-11-09 20:45:00</th>\n      <td>-0.853281</td>\n      <td>-1.042549</td>\n      <td>-1.980586</td>\n      <td>5</td>\n      <td>3.0</td>\n      <td>12</td>\n      <td>0.998630</td>\n    </tr>\n    <tr>\n      <th>2020-11-09 21:45:00</th>\n      <td>-0.459920</td>\n      <td>0.433525</td>\n      <td>0.240113</td>\n      <td>5</td>\n      <td>3.5</td>\n      <td>14</td>\n      <td>0.998135</td>\n    </tr>\n    <tr>\n      <th>2020-11-09 23:45:00</th>\n      <td>-0.282004</td>\n      <td>-0.087551</td>\n      <td>-1.493189</td>\n      <td>5</td>\n      <td>4.5</td>\n      <td>18</td>\n      <td>0.996917</td>\n    </tr>\n  </tbody>\n</table>\n</div>"
     },
     "metadata": {},
     "execution_count": 38
    }
   ],
   "source": [
    "# something like df.drop('index_name') \n",
    "# would work but the type of index must be specificed, \n",
    "# in particular with DatetimeIndex\n",
    "df.drop(pd.to_datetime(\"2020-11-09 22:45:00\"))"
   ]
  },
  {
   "cell_type": "markdown",
   "metadata": {},
   "source": [
    "## Missing data\n",
    "\n",
    "pandas primarily uses the value np.nan to represent missing data. It is by default not included in computations."
   ]
  },
  {
   "cell_type": "code",
   "execution_count": 39,
   "metadata": {},
   "outputs": [
    {
     "output_type": "execute_result",
     "data": {
      "text/plain": [
       "                            A         B         C  D    E  E prime    cosine\n",
       "2020-11-09 14:45:00       NaN  0.115785  2.991449  5  NaN      NaN  1.000000\n",
       "2020-11-09 15:45:00       NaN  0.712724  0.101122  5  0.5      2.0  0.999962\n",
       "2020-11-09 16:45:00  1.662150       NaN       NaN  5  1.0      4.0  0.999848\n",
       "2020-11-09 17:45:00  0.368244       NaN  0.600260  5  1.5      6.0  0.999657\n",
       "2020-11-09 18:45:00  1.697139       NaN       NaN  5  2.0      8.0  0.999391\n",
       "2020-11-09 19:45:00       NaN       NaN  1.190226  5  2.5     10.0  0.999048\n",
       "2020-11-09 20:45:00       NaN       NaN       NaN  5  3.0     12.0  0.998630\n",
       "2020-11-09 21:45:00       NaN  0.433525  0.240113  5  3.5     14.0  0.998135\n",
       "2020-11-09 22:45:00       NaN       NaN  0.525951  5  4.0     16.0  0.997564\n",
       "2020-11-09 23:45:00       NaN       NaN       NaN  5  4.5     18.0  0.996917"
      ],
      "text/html": "<div>\n<style scoped>\n    .dataframe tbody tr th:only-of-type {\n        vertical-align: middle;\n    }\n\n    .dataframe tbody tr th {\n        vertical-align: top;\n    }\n\n    .dataframe thead th {\n        text-align: right;\n    }\n</style>\n<table border=\"1\" class=\"dataframe\">\n  <thead>\n    <tr style=\"text-align: right;\">\n      <th></th>\n      <th>A</th>\n      <th>B</th>\n      <th>C</th>\n      <th>D</th>\n      <th>E</th>\n      <th>E prime</th>\n      <th>cosine</th>\n    </tr>\n  </thead>\n  <tbody>\n    <tr>\n      <th>2020-11-09 14:45:00</th>\n      <td>NaN</td>\n      <td>0.115785</td>\n      <td>2.991449</td>\n      <td>5</td>\n      <td>NaN</td>\n      <td>NaN</td>\n      <td>1.000000</td>\n    </tr>\n    <tr>\n      <th>2020-11-09 15:45:00</th>\n      <td>NaN</td>\n      <td>0.712724</td>\n      <td>0.101122</td>\n      <td>5</td>\n      <td>0.5</td>\n      <td>2.0</td>\n      <td>0.999962</td>\n    </tr>\n    <tr>\n      <th>2020-11-09 16:45:00</th>\n      <td>1.662150</td>\n      <td>NaN</td>\n      <td>NaN</td>\n      <td>5</td>\n      <td>1.0</td>\n      <td>4.0</td>\n      <td>0.999848</td>\n    </tr>\n    <tr>\n      <th>2020-11-09 17:45:00</th>\n      <td>0.368244</td>\n      <td>NaN</td>\n      <td>0.600260</td>\n      <td>5</td>\n      <td>1.5</td>\n      <td>6.0</td>\n      <td>0.999657</td>\n    </tr>\n    <tr>\n      <th>2020-11-09 18:45:00</th>\n      <td>1.697139</td>\n      <td>NaN</td>\n      <td>NaN</td>\n      <td>5</td>\n      <td>2.0</td>\n      <td>8.0</td>\n      <td>0.999391</td>\n    </tr>\n    <tr>\n      <th>2020-11-09 19:45:00</th>\n      <td>NaN</td>\n      <td>NaN</td>\n      <td>1.190226</td>\n      <td>5</td>\n      <td>2.5</td>\n      <td>10.0</td>\n      <td>0.999048</td>\n    </tr>\n    <tr>\n      <th>2020-11-09 20:45:00</th>\n      <td>NaN</td>\n      <td>NaN</td>\n      <td>NaN</td>\n      <td>5</td>\n      <td>3.0</td>\n      <td>12.0</td>\n      <td>0.998630</td>\n    </tr>\n    <tr>\n      <th>2020-11-09 21:45:00</th>\n      <td>NaN</td>\n      <td>0.433525</td>\n      <td>0.240113</td>\n      <td>5</td>\n      <td>3.5</td>\n      <td>14.0</td>\n      <td>0.998135</td>\n    </tr>\n    <tr>\n      <th>2020-11-09 22:45:00</th>\n      <td>NaN</td>\n      <td>NaN</td>\n      <td>0.525951</td>\n      <td>5</td>\n      <td>4.0</td>\n      <td>16.0</td>\n      <td>0.997564</td>\n    </tr>\n    <tr>\n      <th>2020-11-09 23:45:00</th>\n      <td>NaN</td>\n      <td>NaN</td>\n      <td>NaN</td>\n      <td>5</td>\n      <td>4.5</td>\n      <td>18.0</td>\n      <td>0.996917</td>\n    </tr>\n  </tbody>\n</table>\n</div>"
     },
     "metadata": {},
     "execution_count": 39
    }
   ],
   "source": [
    "df_wNan = df[df>0]\n",
    "df_wNan"
   ]
  },
  {
   "cell_type": "code",
   "execution_count": 40,
   "metadata": {},
   "outputs": [
    {
     "output_type": "execute_result",
     "data": {
      "text/plain": [
       "Empty DataFrame\n",
       "Columns: [A, B, C, D, E, E prime, cosine]\n",
       "Index: []"
      ],
      "text/html": "<div>\n<style scoped>\n    .dataframe tbody tr th:only-of-type {\n        vertical-align: middle;\n    }\n\n    .dataframe tbody tr th {\n        vertical-align: top;\n    }\n\n    .dataframe thead th {\n        text-align: right;\n    }\n</style>\n<table border=\"1\" class=\"dataframe\">\n  <thead>\n    <tr style=\"text-align: right;\">\n      <th></th>\n      <th>A</th>\n      <th>B</th>\n      <th>C</th>\n      <th>D</th>\n      <th>E</th>\n      <th>E prime</th>\n      <th>cosine</th>\n    </tr>\n  </thead>\n  <tbody>\n  </tbody>\n</table>\n</div>"
     },
     "metadata": {},
     "execution_count": 40
    }
   ],
   "source": [
    "# dropping raws with at least a Nan\n",
    "df_wNan.dropna(how='any')"
   ]
  },
  {
   "cell_type": "code",
   "execution_count": 41,
   "metadata": {},
   "outputs": [
    {
     "output_type": "execute_result",
     "data": {
      "text/plain": [
       "                         A      B      C      D      E  E prime  cosine\n",
       "2020-11-09 14:45:00   True  False  False  False   True     True   False\n",
       "2020-11-09 15:45:00   True  False  False  False  False    False   False\n",
       "2020-11-09 16:45:00  False   True   True  False  False    False   False\n",
       "2020-11-09 17:45:00  False   True  False  False  False    False   False\n",
       "2020-11-09 18:45:00  False   True   True  False  False    False   False\n",
       "2020-11-09 19:45:00   True   True  False  False  False    False   False\n",
       "2020-11-09 20:45:00   True   True   True  False  False    False   False\n",
       "2020-11-09 21:45:00   True  False  False  False  False    False   False\n",
       "2020-11-09 22:45:00   True   True  False  False  False    False   False\n",
       "2020-11-09 23:45:00   True   True   True  False  False    False   False"
      ],
      "text/html": "<div>\n<style scoped>\n    .dataframe tbody tr th:only-of-type {\n        vertical-align: middle;\n    }\n\n    .dataframe tbody tr th {\n        vertical-align: top;\n    }\n\n    .dataframe thead th {\n        text-align: right;\n    }\n</style>\n<table border=\"1\" class=\"dataframe\">\n  <thead>\n    <tr style=\"text-align: right;\">\n      <th></th>\n      <th>A</th>\n      <th>B</th>\n      <th>C</th>\n      <th>D</th>\n      <th>E</th>\n      <th>E prime</th>\n      <th>cosine</th>\n    </tr>\n  </thead>\n  <tbody>\n    <tr>\n      <th>2020-11-09 14:45:00</th>\n      <td>True</td>\n      <td>False</td>\n      <td>False</td>\n      <td>False</td>\n      <td>True</td>\n      <td>True</td>\n      <td>False</td>\n    </tr>\n    <tr>\n      <th>2020-11-09 15:45:00</th>\n      <td>True</td>\n      <td>False</td>\n      <td>False</td>\n      <td>False</td>\n      <td>False</td>\n      <td>False</td>\n      <td>False</td>\n    </tr>\n    <tr>\n      <th>2020-11-09 16:45:00</th>\n      <td>False</td>\n      <td>True</td>\n      <td>True</td>\n      <td>False</td>\n      <td>False</td>\n      <td>False</td>\n      <td>False</td>\n    </tr>\n    <tr>\n      <th>2020-11-09 17:45:00</th>\n      <td>False</td>\n      <td>True</td>\n      <td>False</td>\n      <td>False</td>\n      <td>False</td>\n      <td>False</td>\n      <td>False</td>\n    </tr>\n    <tr>\n      <th>2020-11-09 18:45:00</th>\n      <td>False</td>\n      <td>True</td>\n      <td>True</td>\n      <td>False</td>\n      <td>False</td>\n      <td>False</td>\n      <td>False</td>\n    </tr>\n    <tr>\n      <th>2020-11-09 19:45:00</th>\n      <td>True</td>\n      <td>True</td>\n      <td>False</td>\n      <td>False</td>\n      <td>False</td>\n      <td>False</td>\n      <td>False</td>\n    </tr>\n    <tr>\n      <th>2020-11-09 20:45:00</th>\n      <td>True</td>\n      <td>True</td>\n      <td>True</td>\n      <td>False</td>\n      <td>False</td>\n      <td>False</td>\n      <td>False</td>\n    </tr>\n    <tr>\n      <th>2020-11-09 21:45:00</th>\n      <td>True</td>\n      <td>False</td>\n      <td>False</td>\n      <td>False</td>\n      <td>False</td>\n      <td>False</td>\n      <td>False</td>\n    </tr>\n    <tr>\n      <th>2020-11-09 22:45:00</th>\n      <td>True</td>\n      <td>True</td>\n      <td>False</td>\n      <td>False</td>\n      <td>False</td>\n      <td>False</td>\n      <td>False</td>\n    </tr>\n    <tr>\n      <th>2020-11-09 23:45:00</th>\n      <td>True</td>\n      <td>True</td>\n      <td>True</td>\n      <td>False</td>\n      <td>False</td>\n      <td>False</td>\n      <td>False</td>\n    </tr>\n  </tbody>\n</table>\n</div>"
     },
     "metadata": {},
     "execution_count": 41
    }
   ],
   "source": [
    "# getting a mask\n",
    "df_wNan.isna()\n",
    "#df_wNan.notna()"
   ]
  },
  {
   "cell_type": "code",
   "execution_count": 96,
   "metadata": {},
   "outputs": [
    {
     "output_type": "execute_result",
     "data": {
      "text/plain": [
       "                            A         B         C  D    E  E prime    cosine\n",
       "2020-11-09 14:45:00  0.000000  0.115785  2.991449  5  0.0      0.0  1.000000\n",
       "2020-11-09 15:45:00  0.000000  0.712724  0.101122  5  0.5      2.0  0.999962\n",
       "2020-11-09 16:45:00  1.662150  0.000000  0.000000  5  1.0      4.0  0.999848\n",
       "2020-11-09 17:45:00  0.368244  0.000000  0.600260  5  1.5      6.0  0.999657\n",
       "2020-11-09 18:45:00  1.697139  0.000000  0.000000  5  2.0      8.0  0.999391\n",
       "2020-11-09 19:45:00  0.000000  0.000000  1.190226  5  2.5     10.0  0.999048\n",
       "2020-11-09 20:45:00  0.000000  0.000000  0.000000  5  3.0     12.0  0.998630\n",
       "2020-11-09 21:45:00  0.000000  0.433525  0.240113  5  3.5     14.0  0.998135\n",
       "2020-11-09 22:45:00  0.000000  0.000000  0.525951  5  4.0     16.0  0.997564\n",
       "2020-11-09 23:45:00  0.000000  0.000000  0.000000  5  4.5     18.0  0.996917"
      ],
      "text/html": "<div>\n<style scoped>\n    .dataframe tbody tr th:only-of-type {\n        vertical-align: middle;\n    }\n\n    .dataframe tbody tr th {\n        vertical-align: top;\n    }\n\n    .dataframe thead th {\n        text-align: right;\n    }\n</style>\n<table border=\"1\" class=\"dataframe\">\n  <thead>\n    <tr style=\"text-align: right;\">\n      <th></th>\n      <th>A</th>\n      <th>B</th>\n      <th>C</th>\n      <th>D</th>\n      <th>E</th>\n      <th>E prime</th>\n      <th>cosine</th>\n    </tr>\n  </thead>\n  <tbody>\n    <tr>\n      <th>2020-11-09 14:45:00</th>\n      <td>0.000000</td>\n      <td>0.115785</td>\n      <td>2.991449</td>\n      <td>5</td>\n      <td>0.0</td>\n      <td>0.0</td>\n      <td>1.000000</td>\n    </tr>\n    <tr>\n      <th>2020-11-09 15:45:00</th>\n      <td>0.000000</td>\n      <td>0.712724</td>\n      <td>0.101122</td>\n      <td>5</td>\n      <td>0.5</td>\n      <td>2.0</td>\n      <td>0.999962</td>\n    </tr>\n    <tr>\n      <th>2020-11-09 16:45:00</th>\n      <td>1.662150</td>\n      <td>0.000000</td>\n      <td>0.000000</td>\n      <td>5</td>\n      <td>1.0</td>\n      <td>4.0</td>\n      <td>0.999848</td>\n    </tr>\n    <tr>\n      <th>2020-11-09 17:45:00</th>\n      <td>0.368244</td>\n      <td>0.000000</td>\n      <td>0.600260</td>\n      <td>5</td>\n      <td>1.5</td>\n      <td>6.0</td>\n      <td>0.999657</td>\n    </tr>\n    <tr>\n      <th>2020-11-09 18:45:00</th>\n      <td>1.697139</td>\n      <td>0.000000</td>\n      <td>0.000000</td>\n      <td>5</td>\n      <td>2.0</td>\n      <td>8.0</td>\n      <td>0.999391</td>\n    </tr>\n    <tr>\n      <th>2020-11-09 19:45:00</th>\n      <td>0.000000</td>\n      <td>0.000000</td>\n      <td>1.190226</td>\n      <td>5</td>\n      <td>2.5</td>\n      <td>10.0</td>\n      <td>0.999048</td>\n    </tr>\n    <tr>\n      <th>2020-11-09 20:45:00</th>\n      <td>0.000000</td>\n      <td>0.000000</td>\n      <td>0.000000</td>\n      <td>5</td>\n      <td>3.0</td>\n      <td>12.0</td>\n      <td>0.998630</td>\n    </tr>\n    <tr>\n      <th>2020-11-09 21:45:00</th>\n      <td>0.000000</td>\n      <td>0.433525</td>\n      <td>0.240113</td>\n      <td>5</td>\n      <td>3.5</td>\n      <td>14.0</td>\n      <td>0.998135</td>\n    </tr>\n    <tr>\n      <th>2020-11-09 22:45:00</th>\n      <td>0.000000</td>\n      <td>0.000000</td>\n      <td>0.525951</td>\n      <td>5</td>\n      <td>4.0</td>\n      <td>16.0</td>\n      <td>0.997564</td>\n    </tr>\n    <tr>\n      <th>2020-11-09 23:45:00</th>\n      <td>0.000000</td>\n      <td>0.000000</td>\n      <td>0.000000</td>\n      <td>5</td>\n      <td>4.5</td>\n      <td>18.0</td>\n      <td>0.996917</td>\n    </tr>\n  </tbody>\n</table>\n</div>"
     },
     "metadata": {},
     "execution_count": 96
    }
   ],
   "source": [
    "# filling missing data\n",
    "df_wNan.fillna(value=0)"
   ]
  },
  {
   "cell_type": "markdown",
   "metadata": {},
   "source": [
    "Fill gaps forward or backward by propagating non-NA values forward or backward:"
   ]
  },
  {
   "cell_type": "code",
   "execution_count": 43,
   "metadata": {},
   "outputs": [
    {
     "output_type": "execute_result",
     "data": {
      "text/plain": [
       "                            A         B         C  D    E  E prime    cosine\n",
       "2020-11-09 14:45:00       NaN  0.115785  2.991449  5  NaN      NaN  1.000000\n",
       "2020-11-09 15:45:00       NaN  0.712724  0.101122  5  0.5      2.0  0.999962\n",
       "2020-11-09 16:45:00  1.662150  0.712724  0.101122  5  1.0      4.0  0.999848\n",
       "2020-11-09 17:45:00  0.368244  0.712724  0.600260  5  1.5      6.0  0.999657\n",
       "2020-11-09 18:45:00  1.697139  0.712724  0.600260  5  2.0      8.0  0.999391\n",
       "2020-11-09 19:45:00  1.697139  0.712724  1.190226  5  2.5     10.0  0.999048\n",
       "2020-11-09 20:45:00  1.697139  0.712724  1.190226  5  3.0     12.0  0.998630\n",
       "2020-11-09 21:45:00  1.697139  0.433525  0.240113  5  3.5     14.0  0.998135\n",
       "2020-11-09 22:45:00  1.697139  0.433525  0.525951  5  4.0     16.0  0.997564\n",
       "2020-11-09 23:45:00  1.697139  0.433525  0.525951  5  4.5     18.0  0.996917"
      ],
      "text/html": "<div>\n<style scoped>\n    .dataframe tbody tr th:only-of-type {\n        vertical-align: middle;\n    }\n\n    .dataframe tbody tr th {\n        vertical-align: top;\n    }\n\n    .dataframe thead th {\n        text-align: right;\n    }\n</style>\n<table border=\"1\" class=\"dataframe\">\n  <thead>\n    <tr style=\"text-align: right;\">\n      <th></th>\n      <th>A</th>\n      <th>B</th>\n      <th>C</th>\n      <th>D</th>\n      <th>E</th>\n      <th>E prime</th>\n      <th>cosine</th>\n    </tr>\n  </thead>\n  <tbody>\n    <tr>\n      <th>2020-11-09 14:45:00</th>\n      <td>NaN</td>\n      <td>0.115785</td>\n      <td>2.991449</td>\n      <td>5</td>\n      <td>NaN</td>\n      <td>NaN</td>\n      <td>1.000000</td>\n    </tr>\n    <tr>\n      <th>2020-11-09 15:45:00</th>\n      <td>NaN</td>\n      <td>0.712724</td>\n      <td>0.101122</td>\n      <td>5</td>\n      <td>0.5</td>\n      <td>2.0</td>\n      <td>0.999962</td>\n    </tr>\n    <tr>\n      <th>2020-11-09 16:45:00</th>\n      <td>1.662150</td>\n      <td>0.712724</td>\n      <td>0.101122</td>\n      <td>5</td>\n      <td>1.0</td>\n      <td>4.0</td>\n      <td>0.999848</td>\n    </tr>\n    <tr>\n      <th>2020-11-09 17:45:00</th>\n      <td>0.368244</td>\n      <td>0.712724</td>\n      <td>0.600260</td>\n      <td>5</td>\n      <td>1.5</td>\n      <td>6.0</td>\n      <td>0.999657</td>\n    </tr>\n    <tr>\n      <th>2020-11-09 18:45:00</th>\n      <td>1.697139</td>\n      <td>0.712724</td>\n      <td>0.600260</td>\n      <td>5</td>\n      <td>2.0</td>\n      <td>8.0</td>\n      <td>0.999391</td>\n    </tr>\n    <tr>\n      <th>2020-11-09 19:45:00</th>\n      <td>1.697139</td>\n      <td>0.712724</td>\n      <td>1.190226</td>\n      <td>5</td>\n      <td>2.5</td>\n      <td>10.0</td>\n      <td>0.999048</td>\n    </tr>\n    <tr>\n      <th>2020-11-09 20:45:00</th>\n      <td>1.697139</td>\n      <td>0.712724</td>\n      <td>1.190226</td>\n      <td>5</td>\n      <td>3.0</td>\n      <td>12.0</td>\n      <td>0.998630</td>\n    </tr>\n    <tr>\n      <th>2020-11-09 21:45:00</th>\n      <td>1.697139</td>\n      <td>0.433525</td>\n      <td>0.240113</td>\n      <td>5</td>\n      <td>3.5</td>\n      <td>14.0</td>\n      <td>0.998135</td>\n    </tr>\n    <tr>\n      <th>2020-11-09 22:45:00</th>\n      <td>1.697139</td>\n      <td>0.433525</td>\n      <td>0.525951</td>\n      <td>5</td>\n      <td>4.0</td>\n      <td>16.0</td>\n      <td>0.997564</td>\n    </tr>\n    <tr>\n      <th>2020-11-09 23:45:00</th>\n      <td>1.697139</td>\n      <td>0.433525</td>\n      <td>0.525951</td>\n      <td>5</td>\n      <td>4.5</td>\n      <td>18.0</td>\n      <td>0.996917</td>\n    </tr>\n  </tbody>\n</table>\n</div>"
     },
     "metadata": {},
     "execution_count": 43
    }
   ],
   "source": [
    "df_wNan.fillna(method='pad') #VERY dangerous..."
   ]
  },
  {
   "cell_type": "markdown",
   "metadata": {},
   "source": [
    "## Operations\n",
    "\n",
    "Here comes the most relevant advantage of DataFrame. Operations on columns are extremly fast, almost as fast as the actual operation between elements in a raw"
   ]
  },
  {
   "cell_type": "code",
   "execution_count": 100,
   "metadata": {},
   "outputs": [
    {
     "output_type": "stream",
     "name": "stdout",
     "text": [
      "A   -0.999664\nB   -1.033167\nC   -0.894512\nD   -1.092221\ndtype: float64 \n\n2020-11-09 14:45:00   -1.048331\n2020-11-09 15:45:00   -0.999859\n2020-11-09 16:45:00   -1.030761\n2020-11-09 17:45:00   -1.815459\n2020-11-09 18:45:00   -1.119689\n2020-11-09 19:45:00   -1.312613\n2020-11-09 20:45:00   -0.208949\n2020-11-09 21:45:00   -0.392737\n2020-11-09 22:45:00   -1.258642\n2020-11-09 23:45:00   -0.861870\nFreq: H, dtype: float64 \n\n"
     ]
    }
   ],
   "source": [
    "# Some statistics (mean() just as an example)\n",
    "# raws\n",
    "print (df.mean(axis=0),'\\n')\n",
    "# columns\n",
    "print (df.mean(axis=1),'\\n')"
   ]
  },
  {
   "cell_type": "code",
   "execution_count": 45,
   "metadata": {},
   "outputs": [
    {
     "output_type": "execute_result",
     "data": {
      "text/plain": [
       "                            A         B         C   D     E  E prime    cosine\n",
       "2020-11-09 14:45:00  0.000000  0.115785  2.991449   5   0.0        0  1.000000\n",
       "2020-11-09 15:45:00 -0.461811  0.828508  3.092571  10   0.5        2  1.999962\n",
       "2020-11-09 16:45:00  1.200339  0.096439  2.978577  15   1.5        6  2.999810\n",
       "2020-11-09 17:45:00  1.568583 -0.325385  3.578837  20   3.0       12  3.999467\n",
       "2020-11-09 18:45:00  3.265722 -1.107896  1.570320  25   5.0       20  4.998858\n",
       "2020-11-09 19:45:00  2.449642 -2.006874  2.760546  30   7.5       30  5.997906\n",
       "2020-11-09 20:45:00  1.596360 -3.049423  0.779961  35  10.5       42  6.996536\n",
       "2020-11-09 21:45:00  1.136440 -2.615898  1.020073  40  14.0       56  7.994670\n",
       "2020-11-09 22:45:00  0.833269 -2.797939  1.546025  45  18.0       72  8.992234\n",
       "2020-11-09 23:45:00  0.551265 -2.885490  0.052835  50  22.5       90  9.989152"
      ],
      "text/html": "<div>\n<style scoped>\n    .dataframe tbody tr th:only-of-type {\n        vertical-align: middle;\n    }\n\n    .dataframe tbody tr th {\n        vertical-align: top;\n    }\n\n    .dataframe thead th {\n        text-align: right;\n    }\n</style>\n<table border=\"1\" class=\"dataframe\">\n  <thead>\n    <tr style=\"text-align: right;\">\n      <th></th>\n      <th>A</th>\n      <th>B</th>\n      <th>C</th>\n      <th>D</th>\n      <th>E</th>\n      <th>E prime</th>\n      <th>cosine</th>\n    </tr>\n  </thead>\n  <tbody>\n    <tr>\n      <th>2020-11-09 14:45:00</th>\n      <td>0.000000</td>\n      <td>0.115785</td>\n      <td>2.991449</td>\n      <td>5</td>\n      <td>0.0</td>\n      <td>0</td>\n      <td>1.000000</td>\n    </tr>\n    <tr>\n      <th>2020-11-09 15:45:00</th>\n      <td>-0.461811</td>\n      <td>0.828508</td>\n      <td>3.092571</td>\n      <td>10</td>\n      <td>0.5</td>\n      <td>2</td>\n      <td>1.999962</td>\n    </tr>\n    <tr>\n      <th>2020-11-09 16:45:00</th>\n      <td>1.200339</td>\n      <td>0.096439</td>\n      <td>2.978577</td>\n      <td>15</td>\n      <td>1.5</td>\n      <td>6</td>\n      <td>2.999810</td>\n    </tr>\n    <tr>\n      <th>2020-11-09 17:45:00</th>\n      <td>1.568583</td>\n      <td>-0.325385</td>\n      <td>3.578837</td>\n      <td>20</td>\n      <td>3.0</td>\n      <td>12</td>\n      <td>3.999467</td>\n    </tr>\n    <tr>\n      <th>2020-11-09 18:45:00</th>\n      <td>3.265722</td>\n      <td>-1.107896</td>\n      <td>1.570320</td>\n      <td>25</td>\n      <td>5.0</td>\n      <td>20</td>\n      <td>4.998858</td>\n    </tr>\n    <tr>\n      <th>2020-11-09 19:45:00</th>\n      <td>2.449642</td>\n      <td>-2.006874</td>\n      <td>2.760546</td>\n      <td>30</td>\n      <td>7.5</td>\n      <td>30</td>\n      <td>5.997906</td>\n    </tr>\n    <tr>\n      <th>2020-11-09 20:45:00</th>\n      <td>1.596360</td>\n      <td>-3.049423</td>\n      <td>0.779961</td>\n      <td>35</td>\n      <td>10.5</td>\n      <td>42</td>\n      <td>6.996536</td>\n    </tr>\n    <tr>\n      <th>2020-11-09 21:45:00</th>\n      <td>1.136440</td>\n      <td>-2.615898</td>\n      <td>1.020073</td>\n      <td>40</td>\n      <td>14.0</td>\n      <td>56</td>\n      <td>7.994670</td>\n    </tr>\n    <tr>\n      <th>2020-11-09 22:45:00</th>\n      <td>0.833269</td>\n      <td>-2.797939</td>\n      <td>1.546025</td>\n      <td>45</td>\n      <td>18.0</td>\n      <td>72</td>\n      <td>8.992234</td>\n    </tr>\n    <tr>\n      <th>2020-11-09 23:45:00</th>\n      <td>0.551265</td>\n      <td>-2.885490</td>\n      <td>0.052835</td>\n      <td>50</td>\n      <td>22.5</td>\n      <td>90</td>\n      <td>9.989152</td>\n    </tr>\n  </tbody>\n</table>\n</div>"
     },
     "metadata": {},
     "execution_count": 45
    }
   ],
   "source": [
    "# global operations on columns\n",
    "df.apply(np.cumsum) #just a view!"
   ]
  },
  {
   "cell_type": "code",
   "execution_count": 46,
   "metadata": {},
   "outputs": [
    {
     "output_type": "execute_result",
     "data": {
      "text/plain": [
       "                            A         B         C  D    E  E prime    cosine\n",
       "2020-11-09 14:45:00  0.000000  0.115785  2.991449  5  0.0        0  1.000000\n",
       "2020-11-09 15:45:00 -0.461811  0.712724  0.101122  5  0.5        2  0.999962\n",
       "2020-11-09 16:45:00  1.662150 -0.732070 -0.113994  5  1.0        4  0.999848\n",
       "2020-11-09 17:45:00  0.368244 -0.421824  0.600260  5  1.5        6  0.999657\n",
       "2020-11-09 18:45:00  1.697139 -0.782511 -2.008517  5  2.0        8  0.999391\n",
       "2020-11-09 19:45:00 -0.816080 -0.898978  1.190226  5  2.5       10  0.999048\n",
       "2020-11-09 20:45:00 -0.853281 -1.042549 -1.980586  5  3.0       12  0.998630\n",
       "2020-11-09 21:45:00 -0.459920  0.433525  0.240113  5  3.5       14  0.998135\n",
       "2020-11-09 22:45:00 -0.303171 -0.182041  0.525951  5  4.0       16  0.997564\n",
       "2020-11-09 23:45:00 -0.282004 -0.087551 -1.493189  5  4.5       18  0.996917"
      ],
      "text/html": "<div>\n<style scoped>\n    .dataframe tbody tr th:only-of-type {\n        vertical-align: middle;\n    }\n\n    .dataframe tbody tr th {\n        vertical-align: top;\n    }\n\n    .dataframe thead th {\n        text-align: right;\n    }\n</style>\n<table border=\"1\" class=\"dataframe\">\n  <thead>\n    <tr style=\"text-align: right;\">\n      <th></th>\n      <th>A</th>\n      <th>B</th>\n      <th>C</th>\n      <th>D</th>\n      <th>E</th>\n      <th>E prime</th>\n      <th>cosine</th>\n    </tr>\n  </thead>\n  <tbody>\n    <tr>\n      <th>2020-11-09 14:45:00</th>\n      <td>0.000000</td>\n      <td>0.115785</td>\n      <td>2.991449</td>\n      <td>5</td>\n      <td>0.0</td>\n      <td>0</td>\n      <td>1.000000</td>\n    </tr>\n    <tr>\n      <th>2020-11-09 15:45:00</th>\n      <td>-0.461811</td>\n      <td>0.712724</td>\n      <td>0.101122</td>\n      <td>5</td>\n      <td>0.5</td>\n      <td>2</td>\n      <td>0.999962</td>\n    </tr>\n    <tr>\n      <th>2020-11-09 16:45:00</th>\n      <td>1.662150</td>\n      <td>-0.732070</td>\n      <td>-0.113994</td>\n      <td>5</td>\n      <td>1.0</td>\n      <td>4</td>\n      <td>0.999848</td>\n    </tr>\n    <tr>\n      <th>2020-11-09 17:45:00</th>\n      <td>0.368244</td>\n      <td>-0.421824</td>\n      <td>0.600260</td>\n      <td>5</td>\n      <td>1.5</td>\n      <td>6</td>\n      <td>0.999657</td>\n    </tr>\n    <tr>\n      <th>2020-11-09 18:45:00</th>\n      <td>1.697139</td>\n      <td>-0.782511</td>\n      <td>-2.008517</td>\n      <td>5</td>\n      <td>2.0</td>\n      <td>8</td>\n      <td>0.999391</td>\n    </tr>\n    <tr>\n      <th>2020-11-09 19:45:00</th>\n      <td>-0.816080</td>\n      <td>-0.898978</td>\n      <td>1.190226</td>\n      <td>5</td>\n      <td>2.5</td>\n      <td>10</td>\n      <td>0.999048</td>\n    </tr>\n    <tr>\n      <th>2020-11-09 20:45:00</th>\n      <td>-0.853281</td>\n      <td>-1.042549</td>\n      <td>-1.980586</td>\n      <td>5</td>\n      <td>3.0</td>\n      <td>12</td>\n      <td>0.998630</td>\n    </tr>\n    <tr>\n      <th>2020-11-09 21:45:00</th>\n      <td>-0.459920</td>\n      <td>0.433525</td>\n      <td>0.240113</td>\n      <td>5</td>\n      <td>3.5</td>\n      <td>14</td>\n      <td>0.998135</td>\n    </tr>\n    <tr>\n      <th>2020-11-09 22:45:00</th>\n      <td>-0.303171</td>\n      <td>-0.182041</td>\n      <td>0.525951</td>\n      <td>5</td>\n      <td>4.0</td>\n      <td>16</td>\n      <td>0.997564</td>\n    </tr>\n    <tr>\n      <th>2020-11-09 23:45:00</th>\n      <td>-0.282004</td>\n      <td>-0.087551</td>\n      <td>-1.493189</td>\n      <td>5</td>\n      <td>4.5</td>\n      <td>18</td>\n      <td>0.996917</td>\n    </tr>\n  </tbody>\n</table>\n</div>"
     },
     "metadata": {},
     "execution_count": 46
    }
   ],
   "source": [
    "df"
   ]
  },
  {
   "cell_type": "code",
   "execution_count": 47,
   "metadata": {},
   "outputs": [
    {
     "output_type": "execute_result",
     "data": {
      "text/plain": [
       "A           2.550421\n",
       "B           1.755273\n",
       "C           4.999966\n",
       "D           0.000000\n",
       "E           4.500000\n",
       "E prime    18.000000\n",
       "cosine      0.003083\n",
       "dtype: float64"
      ]
     },
     "metadata": {},
     "execution_count": 47
    }
   ],
   "source": [
    "df.apply(lambda x: x.max() - x.min())"
   ]
  },
  {
   "cell_type": "code",
   "execution_count": 48,
   "metadata": {},
   "outputs": [
    {
     "output_type": "execute_result",
     "data": {
      "text/plain": [
       "2020-11-09 14:45:00    0.115785\n",
       "2020-11-09 15:45:00    0.250912\n",
       "2020-11-09 16:45:00    0.930081\n",
       "2020-11-09 17:45:00   -0.053580\n",
       "2020-11-09 18:45:00    0.914628\n",
       "2020-11-09 19:45:00   -1.715058\n",
       "2020-11-09 20:45:00   -1.895831\n",
       "2020-11-09 21:45:00   -0.026395\n",
       "2020-11-09 22:45:00   -0.485212\n",
       "2020-11-09 23:45:00   -0.369555\n",
       "Freq: H, dtype: float64"
      ]
     },
     "metadata": {},
     "execution_count": 48
    }
   ],
   "source": [
    "# syntax is as usual similar to that of numpy arrays\n",
    "df['A']+df['B']"
   ]
  },
  {
   "cell_type": "markdown",
   "metadata": {},
   "source": [
    "Let's play it hard and load (in memory) a (relatively) large dataset"
   ]
  },
  {
   "cell_type": "code",
   "execution_count": 49,
   "metadata": {},
   "outputs": [
    {
     "output_type": "execute_result",
     "data": {
      "text/plain": [
       "         HEAD  FPGA  TDC_CHANNEL   ORBIT_CNT  BX_COUNTER  TDC_MEAS\n",
       "0           1     0          123  3869200167        2374        26\n",
       "1           1     0          124  3869200167        2374        27\n",
       "2           1     0           63  3869200167        2553        28\n",
       "3           1     0           64  3869200167        2558        19\n",
       "4           1     0           64  3869200167        2760        25\n",
       "...       ...   ...          ...         ...         ...       ...\n",
       "1310715     1     0           62  3869211171         762        14\n",
       "1310716     1     1            4  3869211171         763        11\n",
       "1310717     1     0           64  3869211171         764         0\n",
       "1310718     1     0          139  3869211171         769         0\n",
       "1310719     1     0           61  3869211171         762        18\n",
       "\n",
       "[1310720 rows x 6 columns]"
      ],
      "text/html": "<div>\n<style scoped>\n    .dataframe tbody tr th:only-of-type {\n        vertical-align: middle;\n    }\n\n    .dataframe tbody tr th {\n        vertical-align: top;\n    }\n\n    .dataframe thead th {\n        text-align: right;\n    }\n</style>\n<table border=\"1\" class=\"dataframe\">\n  <thead>\n    <tr style=\"text-align: right;\">\n      <th></th>\n      <th>HEAD</th>\n      <th>FPGA</th>\n      <th>TDC_CHANNEL</th>\n      <th>ORBIT_CNT</th>\n      <th>BX_COUNTER</th>\n      <th>TDC_MEAS</th>\n    </tr>\n  </thead>\n  <tbody>\n    <tr>\n      <th>0</th>\n      <td>1</td>\n      <td>0</td>\n      <td>123</td>\n      <td>3869200167</td>\n      <td>2374</td>\n      <td>26</td>\n    </tr>\n    <tr>\n      <th>1</th>\n      <td>1</td>\n      <td>0</td>\n      <td>124</td>\n      <td>3869200167</td>\n      <td>2374</td>\n      <td>27</td>\n    </tr>\n    <tr>\n      <th>2</th>\n      <td>1</td>\n      <td>0</td>\n      <td>63</td>\n      <td>3869200167</td>\n      <td>2553</td>\n      <td>28</td>\n    </tr>\n    <tr>\n      <th>3</th>\n      <td>1</td>\n      <td>0</td>\n      <td>64</td>\n      <td>3869200167</td>\n      <td>2558</td>\n      <td>19</td>\n    </tr>\n    <tr>\n      <th>4</th>\n      <td>1</td>\n      <td>0</td>\n      <td>64</td>\n      <td>3869200167</td>\n      <td>2760</td>\n      <td>25</td>\n    </tr>\n    <tr>\n      <th>...</th>\n      <td>...</td>\n      <td>...</td>\n      <td>...</td>\n      <td>...</td>\n      <td>...</td>\n      <td>...</td>\n    </tr>\n    <tr>\n      <th>1310715</th>\n      <td>1</td>\n      <td>0</td>\n      <td>62</td>\n      <td>3869211171</td>\n      <td>762</td>\n      <td>14</td>\n    </tr>\n    <tr>\n      <th>1310716</th>\n      <td>1</td>\n      <td>1</td>\n      <td>4</td>\n      <td>3869211171</td>\n      <td>763</td>\n      <td>11</td>\n    </tr>\n    <tr>\n      <th>1310717</th>\n      <td>1</td>\n      <td>0</td>\n      <td>64</td>\n      <td>3869211171</td>\n      <td>764</td>\n      <td>0</td>\n    </tr>\n    <tr>\n      <th>1310718</th>\n      <td>1</td>\n      <td>0</td>\n      <td>139</td>\n      <td>3869211171</td>\n      <td>769</td>\n      <td>0</td>\n    </tr>\n    <tr>\n      <th>1310719</th>\n      <td>1</td>\n      <td>0</td>\n      <td>61</td>\n      <td>3869211171</td>\n      <td>762</td>\n      <td>18</td>\n    </tr>\n  </tbody>\n</table>\n<p>1310720 rows × 6 columns</p>\n</div>"
     },
     "metadata": {},
     "execution_count": 49
    }
   ],
   "source": [
    "# WARNING! link in past notebook was wrong!, (if needed) get the right file from:\n",
    "#!wget https://www.dropbox.com/s/xvjzaxzz3ysphme/data_000637.txt -P ~/data/\n",
    "\n",
    "file_name=\"~/data/data_000637.txt\"\n",
    "data=pd.read_csv(file_name)\n",
    "data"
   ]
  },
  {
   "cell_type": "markdown",
   "metadata": {},
   "source": [
    "Let's now do some operations among (elements of) columns"
   ]
  },
  {
   "cell_type": "code",
   "execution_count": 101,
   "metadata": {},
   "outputs": [],
   "source": [
    "# the one-liner killing it all\n",
    "data['timens']=data['TDC_MEAS']*25/30+data['BX_COUNTER']*25"
   ]
  },
  {
   "cell_type": "code",
   "execution_count": 51,
   "metadata": {},
   "outputs": [],
   "source": [
    "# the old slooow way\n",
    "def conversion(data):\n",
    "    result=[]\n",
    "    for i in range(len(data)): \n",
    "        result.append(data.loc[data.index[i],'TDC_MEAS']*25/30.+data.loc[data.index[i],'BX_COUNTER']*25)\n",
    "    return result\n",
    "\n",
    "data['timens']=conversion(data)"
   ]
  },
  {
   "cell_type": "markdown",
   "metadata": {},
   "source": [
    "## Merge\n",
    "\n",
    "pandas provides various facilities for easily combining together Series, DataFrame, and Panel objects with various kinds of set logic for the indexes and relational algebra functionality in the case of join / merge-type operations.\n",
    "\n",
    "### Concat\n",
    "\n",
    "concatenation (adding rows) is straightforward\n"
   ]
  },
  {
   "cell_type": "code",
   "execution_count": 53,
   "metadata": {},
   "outputs": [
    {
     "output_type": "execute_result",
     "data": {
      "text/plain": [
       "          0         1         2         3\n",
       "0  1.247213  2.150067  0.058175  1.763234\n",
       "1 -1.074069 -0.175689 -0.530353 -0.457137\n",
       "2  1.037749 -0.388706 -2.403688  2.012791\n",
       "3 -0.463445  0.634223 -0.011369  0.964286\n",
       "4 -1.609015  0.652130  0.654054  0.708681\n",
       "5 -0.604077 -0.868114 -0.883418 -0.797693\n",
       "6 -0.091227  1.279966 -0.080981  0.278819\n",
       "7  0.520575  0.460816  0.521300 -0.552115\n",
       "8 -2.532106  0.203333 -0.028162 -0.074362\n",
       "9  1.293489 -1.105297  1.292664  1.079318"
      ],
      "text/html": "<div>\n<style scoped>\n    .dataframe tbody tr th:only-of-type {\n        vertical-align: middle;\n    }\n\n    .dataframe tbody tr th {\n        vertical-align: top;\n    }\n\n    .dataframe thead th {\n        text-align: right;\n    }\n</style>\n<table border=\"1\" class=\"dataframe\">\n  <thead>\n    <tr style=\"text-align: right;\">\n      <th></th>\n      <th>0</th>\n      <th>1</th>\n      <th>2</th>\n      <th>3</th>\n    </tr>\n  </thead>\n  <tbody>\n    <tr>\n      <th>0</th>\n      <td>1.247213</td>\n      <td>2.150067</td>\n      <td>0.058175</td>\n      <td>1.763234</td>\n    </tr>\n    <tr>\n      <th>1</th>\n      <td>-1.074069</td>\n      <td>-0.175689</td>\n      <td>-0.530353</td>\n      <td>-0.457137</td>\n    </tr>\n    <tr>\n      <th>2</th>\n      <td>1.037749</td>\n      <td>-0.388706</td>\n      <td>-2.403688</td>\n      <td>2.012791</td>\n    </tr>\n    <tr>\n      <th>3</th>\n      <td>-0.463445</td>\n      <td>0.634223</td>\n      <td>-0.011369</td>\n      <td>0.964286</td>\n    </tr>\n    <tr>\n      <th>4</th>\n      <td>-1.609015</td>\n      <td>0.652130</td>\n      <td>0.654054</td>\n      <td>0.708681</td>\n    </tr>\n    <tr>\n      <th>5</th>\n      <td>-0.604077</td>\n      <td>-0.868114</td>\n      <td>-0.883418</td>\n      <td>-0.797693</td>\n    </tr>\n    <tr>\n      <th>6</th>\n      <td>-0.091227</td>\n      <td>1.279966</td>\n      <td>-0.080981</td>\n      <td>0.278819</td>\n    </tr>\n    <tr>\n      <th>7</th>\n      <td>0.520575</td>\n      <td>0.460816</td>\n      <td>0.521300</td>\n      <td>-0.552115</td>\n    </tr>\n    <tr>\n      <th>8</th>\n      <td>-2.532106</td>\n      <td>0.203333</td>\n      <td>-0.028162</td>\n      <td>-0.074362</td>\n    </tr>\n    <tr>\n      <th>9</th>\n      <td>1.293489</td>\n      <td>-1.105297</td>\n      <td>1.292664</td>\n      <td>1.079318</td>\n    </tr>\n  </tbody>\n</table>\n</div>"
     },
     "metadata": {},
     "execution_count": 53
    }
   ],
   "source": [
    "rdf = pd.DataFrame(np.random.randn(10, 4))\n",
    "rdf"
   ]
  },
  {
   "cell_type": "code",
   "execution_count": 54,
   "metadata": {},
   "outputs": [
    {
     "output_type": "execute_result",
     "data": {
      "text/plain": [
       "[          0         1         2         3\n",
       " 0  1.247213  2.150067  0.058175  1.763234\n",
       " 1 -1.074069 -0.175689 -0.530353 -0.457137\n",
       " 2  1.037749 -0.388706 -2.403688  2.012791,\n",
       "           0         1         2         3\n",
       " 3 -0.463445  0.634223 -0.011369  0.964286\n",
       " 4 -1.609015  0.652130  0.654054  0.708681\n",
       " 5 -0.604077 -0.868114 -0.883418 -0.797693\n",
       " 6 -0.091227  1.279966 -0.080981  0.278819,\n",
       "           0         1         2         3\n",
       " 7  0.520575  0.460816  0.521300 -0.552115\n",
       " 8 -2.532106  0.203333 -0.028162 -0.074362\n",
       " 9  1.293489 -1.105297  1.292664  1.079318]"
      ]
     },
     "metadata": {},
     "execution_count": 54
    }
   ],
   "source": [
    "# divide it into pieaces raw-wise\n",
    "pieces = [rdf[:3], rdf[3:7], rdf[7:]]\n",
    "pieces"
   ]
  },
  {
   "cell_type": "code",
   "execution_count": 55,
   "metadata": {},
   "outputs": [
    {
     "output_type": "execute_result",
     "data": {
      "text/plain": [
       "          0         1         2         3\n",
       "0  1.247213  2.150067  0.058175  1.763234\n",
       "1 -1.074069 -0.175689 -0.530353 -0.457137\n",
       "2  1.037749 -0.388706 -2.403688  2.012791\n",
       "3 -0.463445  0.634223 -0.011369  0.964286\n",
       "4 -1.609015  0.652130  0.654054  0.708681\n",
       "5 -0.604077 -0.868114 -0.883418 -0.797693\n",
       "6 -0.091227  1.279966 -0.080981  0.278819\n",
       "7  0.520575  0.460816  0.521300 -0.552115\n",
       "8 -2.532106  0.203333 -0.028162 -0.074362\n",
       "9  1.293489 -1.105297  1.292664  1.079318"
      ],
      "text/html": "<div>\n<style scoped>\n    .dataframe tbody tr th:only-of-type {\n        vertical-align: middle;\n    }\n\n    .dataframe tbody tr th {\n        vertical-align: top;\n    }\n\n    .dataframe thead th {\n        text-align: right;\n    }\n</style>\n<table border=\"1\" class=\"dataframe\">\n  <thead>\n    <tr style=\"text-align: right;\">\n      <th></th>\n      <th>0</th>\n      <th>1</th>\n      <th>2</th>\n      <th>3</th>\n    </tr>\n  </thead>\n  <tbody>\n    <tr>\n      <th>0</th>\n      <td>1.247213</td>\n      <td>2.150067</td>\n      <td>0.058175</td>\n      <td>1.763234</td>\n    </tr>\n    <tr>\n      <th>1</th>\n      <td>-1.074069</td>\n      <td>-0.175689</td>\n      <td>-0.530353</td>\n      <td>-0.457137</td>\n    </tr>\n    <tr>\n      <th>2</th>\n      <td>1.037749</td>\n      <td>-0.388706</td>\n      <td>-2.403688</td>\n      <td>2.012791</td>\n    </tr>\n    <tr>\n      <th>3</th>\n      <td>-0.463445</td>\n      <td>0.634223</td>\n      <td>-0.011369</td>\n      <td>0.964286</td>\n    </tr>\n    <tr>\n      <th>4</th>\n      <td>-1.609015</td>\n      <td>0.652130</td>\n      <td>0.654054</td>\n      <td>0.708681</td>\n    </tr>\n    <tr>\n      <th>5</th>\n      <td>-0.604077</td>\n      <td>-0.868114</td>\n      <td>-0.883418</td>\n      <td>-0.797693</td>\n    </tr>\n    <tr>\n      <th>6</th>\n      <td>-0.091227</td>\n      <td>1.279966</td>\n      <td>-0.080981</td>\n      <td>0.278819</td>\n    </tr>\n    <tr>\n      <th>7</th>\n      <td>0.520575</td>\n      <td>0.460816</td>\n      <td>0.521300</td>\n      <td>-0.552115</td>\n    </tr>\n    <tr>\n      <th>8</th>\n      <td>-2.532106</td>\n      <td>0.203333</td>\n      <td>-0.028162</td>\n      <td>-0.074362</td>\n    </tr>\n    <tr>\n      <th>9</th>\n      <td>1.293489</td>\n      <td>-1.105297</td>\n      <td>1.292664</td>\n      <td>1.079318</td>\n    </tr>\n  </tbody>\n</table>\n</div>"
     },
     "metadata": {},
     "execution_count": 55
    }
   ],
   "source": [
    "# put it back together\n",
    "#pd.concat(pieces)\n",
    "\n",
    "# indexes can be ignored\n",
    "pd.concat(pieces, ignore_index=True)\n",
    "\n",
    "# in case of dimension mismatch, Nan are added where needed"
   ]
  },
  {
   "cell_type": "code",
   "execution_count": 56,
   "metadata": {},
   "outputs": [
    {
     "output_type": "execute_result",
     "data": {
      "text/plain": [
       "          0         1         2         3\n",
       "0  1.247213  2.150067  0.058175  1.763234\n",
       "1 -1.074069 -0.175689 -0.530353 -0.457137\n",
       "2  1.037749 -0.388706 -2.403688  2.012791\n",
       "3 -0.463445  0.634223 -0.011369  0.964286\n",
       "4 -1.609015  0.652130  0.654054  0.708681\n",
       "5 -0.604077 -0.868114 -0.883418 -0.797693\n",
       "6 -0.091227  1.279966 -0.080981  0.278819\n",
       "7  0.520575  0.460816  0.521300 -0.552115\n",
       "8 -2.532106  0.203333 -0.028162 -0.074362\n",
       "9  1.293489 -1.105297  1.292664  1.079318"
      ],
      "text/html": "<div>\n<style scoped>\n    .dataframe tbody tr th:only-of-type {\n        vertical-align: middle;\n    }\n\n    .dataframe tbody tr th {\n        vertical-align: top;\n    }\n\n    .dataframe thead th {\n        text-align: right;\n    }\n</style>\n<table border=\"1\" class=\"dataframe\">\n  <thead>\n    <tr style=\"text-align: right;\">\n      <th></th>\n      <th>0</th>\n      <th>1</th>\n      <th>2</th>\n      <th>3</th>\n    </tr>\n  </thead>\n  <tbody>\n    <tr>\n      <th>0</th>\n      <td>1.247213</td>\n      <td>2.150067</td>\n      <td>0.058175</td>\n      <td>1.763234</td>\n    </tr>\n    <tr>\n      <th>1</th>\n      <td>-1.074069</td>\n      <td>-0.175689</td>\n      <td>-0.530353</td>\n      <td>-0.457137</td>\n    </tr>\n    <tr>\n      <th>2</th>\n      <td>1.037749</td>\n      <td>-0.388706</td>\n      <td>-2.403688</td>\n      <td>2.012791</td>\n    </tr>\n    <tr>\n      <th>3</th>\n      <td>-0.463445</td>\n      <td>0.634223</td>\n      <td>-0.011369</td>\n      <td>0.964286</td>\n    </tr>\n    <tr>\n      <th>4</th>\n      <td>-1.609015</td>\n      <td>0.652130</td>\n      <td>0.654054</td>\n      <td>0.708681</td>\n    </tr>\n    <tr>\n      <th>5</th>\n      <td>-0.604077</td>\n      <td>-0.868114</td>\n      <td>-0.883418</td>\n      <td>-0.797693</td>\n    </tr>\n    <tr>\n      <th>6</th>\n      <td>-0.091227</td>\n      <td>1.279966</td>\n      <td>-0.080981</td>\n      <td>0.278819</td>\n    </tr>\n    <tr>\n      <th>7</th>\n      <td>0.520575</td>\n      <td>0.460816</td>\n      <td>0.521300</td>\n      <td>-0.552115</td>\n    </tr>\n    <tr>\n      <th>8</th>\n      <td>-2.532106</td>\n      <td>0.203333</td>\n      <td>-0.028162</td>\n      <td>-0.074362</td>\n    </tr>\n    <tr>\n      <th>9</th>\n      <td>1.293489</td>\n      <td>-1.105297</td>\n      <td>1.292664</td>\n      <td>1.079318</td>\n    </tr>\n  </tbody>\n</table>\n</div>"
     },
     "metadata": {},
     "execution_count": 56
    }
   ],
   "source": [
    "# appending a single row (as a Series)\n",
    "s = rdf.iloc[3]\n",
    "rdf.append(s, ignore_index=True)\n",
    "rdf"
   ]
  },
  {
   "cell_type": "markdown",
   "metadata": {},
   "source": [
    "### Merge/Join\n",
    "\n",
    "SQL like operations on table can be performed on DataFrames. This is all rather sophisticated, refer to the [doc](https://pandas.pydata.org/pandas-docs/stable/merging.html#merging) for more info/examples"
   ]
  },
  {
   "cell_type": "code",
   "execution_count": 57,
   "metadata": {},
   "outputs": [
    {
     "output_type": "execute_result",
     "data": {
      "text/plain": [
       "   key  lval  rval\n",
       "0  foo     1     4\n",
       "1  bar     2     5"
      ],
      "text/html": "<div>\n<style scoped>\n    .dataframe tbody tr th:only-of-type {\n        vertical-align: middle;\n    }\n\n    .dataframe tbody tr th {\n        vertical-align: top;\n    }\n\n    .dataframe thead th {\n        text-align: right;\n    }\n</style>\n<table border=\"1\" class=\"dataframe\">\n  <thead>\n    <tr style=\"text-align: right;\">\n      <th></th>\n      <th>key</th>\n      <th>lval</th>\n      <th>rval</th>\n    </tr>\n  </thead>\n  <tbody>\n    <tr>\n      <th>0</th>\n      <td>foo</td>\n      <td>1</td>\n      <td>4</td>\n    </tr>\n    <tr>\n      <th>1</th>\n      <td>bar</td>\n      <td>2</td>\n      <td>5</td>\n    </tr>\n  </tbody>\n</table>\n</div>"
     },
     "metadata": {},
     "execution_count": 57
    }
   ],
   "source": [
    "left = pd.DataFrame({'key': ['foo', 'bar'], 'lval': [1, 2]})\n",
    "right = pd.DataFrame({'key': ['foo', 'bar'], 'rval': [4, 5]})\n",
    "\n",
    "pd.merge(left,right,on=\"key\")"
   ]
  },
  {
   "cell_type": "markdown",
   "metadata": {},
   "source": [
    "## Grouping\n",
    "\n",
    "By “group by” we are referring to a process involving one or more of the following steps:\n",
    "\n",
    "* Splitting the data into groups based on some criteria\n",
    "* Applying a function to each group independently\n",
    "* Combining the results into a data structure\n"
   ]
  },
  {
   "cell_type": "code",
   "execution_count": 58,
   "metadata": {},
   "outputs": [
    {
     "output_type": "execute_result",
     "data": {
      "text/plain": [
       "     A      B         C         D\n",
       "0  foo    one  0.064799 -0.374995\n",
       "1  bar    one  0.220888 -1.885587\n",
       "2  foo    two  1.331339 -1.267154\n",
       "3  bar  three  0.234232  0.905074\n",
       "4  foo    two  1.510816  2.473616\n",
       "5  bar    two  0.001982  1.523419\n",
       "6  foo    one  0.292120  0.313033\n",
       "7  foo  three  0.643729  0.107224"
      ],
      "text/html": "<div>\n<style scoped>\n    .dataframe tbody tr th:only-of-type {\n        vertical-align: middle;\n    }\n\n    .dataframe tbody tr th {\n        vertical-align: top;\n    }\n\n    .dataframe thead th {\n        text-align: right;\n    }\n</style>\n<table border=\"1\" class=\"dataframe\">\n  <thead>\n    <tr style=\"text-align: right;\">\n      <th></th>\n      <th>A</th>\n      <th>B</th>\n      <th>C</th>\n      <th>D</th>\n    </tr>\n  </thead>\n  <tbody>\n    <tr>\n      <th>0</th>\n      <td>foo</td>\n      <td>one</td>\n      <td>0.064799</td>\n      <td>-0.374995</td>\n    </tr>\n    <tr>\n      <th>1</th>\n      <td>bar</td>\n      <td>one</td>\n      <td>0.220888</td>\n      <td>-1.885587</td>\n    </tr>\n    <tr>\n      <th>2</th>\n      <td>foo</td>\n      <td>two</td>\n      <td>1.331339</td>\n      <td>-1.267154</td>\n    </tr>\n    <tr>\n      <th>3</th>\n      <td>bar</td>\n      <td>three</td>\n      <td>0.234232</td>\n      <td>0.905074</td>\n    </tr>\n    <tr>\n      <th>4</th>\n      <td>foo</td>\n      <td>two</td>\n      <td>1.510816</td>\n      <td>2.473616</td>\n    </tr>\n    <tr>\n      <th>5</th>\n      <td>bar</td>\n      <td>two</td>\n      <td>0.001982</td>\n      <td>1.523419</td>\n    </tr>\n    <tr>\n      <th>6</th>\n      <td>foo</td>\n      <td>one</td>\n      <td>0.292120</td>\n      <td>0.313033</td>\n    </tr>\n    <tr>\n      <th>7</th>\n      <td>foo</td>\n      <td>three</td>\n      <td>0.643729</td>\n      <td>0.107224</td>\n    </tr>\n  </tbody>\n</table>\n</div>"
     },
     "metadata": {},
     "execution_count": 58
    }
   ],
   "source": [
    "gdf = pd.DataFrame({'A' : ['foo', 'bar', 'foo', 'bar',\n",
    "                          'foo', 'bar', 'foo', 'foo'],\n",
    "                    'B' : ['one', 'one', 'two', 'three',\n",
    "                           'two', 'two', 'one', 'three'],\n",
    "                    'C' : np.random.randn(8),\n",
    "                    'D' : np.random.randn(8)})\n",
    "gdf"
   ]
  },
  {
   "cell_type": "code",
   "execution_count": 59,
   "metadata": {},
   "outputs": [
    {
     "output_type": "execute_result",
     "data": {
      "text/plain": [
       "            C         D\n",
       "A                      \n",
       "bar  0.457101  0.542906\n",
       "foo  3.842803  1.251724"
      ],
      "text/html": "<div>\n<style scoped>\n    .dataframe tbody tr th:only-of-type {\n        vertical-align: middle;\n    }\n\n    .dataframe tbody tr th {\n        vertical-align: top;\n    }\n\n    .dataframe thead th {\n        text-align: right;\n    }\n</style>\n<table border=\"1\" class=\"dataframe\">\n  <thead>\n    <tr style=\"text-align: right;\">\n      <th></th>\n      <th>C</th>\n      <th>D</th>\n    </tr>\n    <tr>\n      <th>A</th>\n      <th></th>\n      <th></th>\n    </tr>\n  </thead>\n  <tbody>\n    <tr>\n      <th>bar</th>\n      <td>0.457101</td>\n      <td>0.542906</td>\n    </tr>\n    <tr>\n      <th>foo</th>\n      <td>3.842803</td>\n      <td>1.251724</td>\n    </tr>\n  </tbody>\n</table>\n</div>"
     },
     "metadata": {},
     "execution_count": 59
    }
   ],
   "source": [
    "# Grouping and then applying the sum() \n",
    "# function to the resulting groups (effective only where number are there).\n",
    "gdf.groupby('A').sum()"
   ]
  },
  {
   "cell_type": "markdown",
   "metadata": {},
   "source": [
    "## Multi-indexing\n",
    "\n",
    "\n",
    "Hierarchical / Multi-level indexing allows sophisticated data analysis on higher dimensional data. In essence, it enables you to store and manipulate data with an arbitrary number of dimensions in lower dimensional data structures like Series (1d) and DataFrame (2d)."
   ]
  },
  {
   "cell_type": "code",
   "execution_count": 60,
   "metadata": {},
   "outputs": [
    {
     "output_type": "stream",
     "name": "stdout",
     "text": [
      "MultiIndex([('bar', 'one'),\n            ('bar', 'two'),\n            ('baz', 'one'),\n            ('baz', 'two'),\n            ('foo', 'one'),\n            ('foo', 'two'),\n            ('qux', 'one'),\n            ('qux', 'two')],\n           names=['first', 'second']) \n\nfirst  second\nbar    one       0.860144\n       two       0.115711\nbaz    one       0.151155\n       two      -0.774698\nfoo    one       0.099786\n       two      -2.727147\nqux    one      -0.336113\n       two       0.090733\ndtype: float64\n"
     ]
    }
   ],
   "source": [
    "tuples = list(zip(['bar', 'bar', 'baz', 'baz', 'foo', 'foo', 'qux', 'qux'],\n",
    "          ['one', 'two', 'one', 'two', 'one', 'two', 'one', 'two']))\n",
    "multi_index = pd.MultiIndex.from_tuples(tuples, names=['first', 'second'])\n",
    "print (multi_index,'\\n')\n",
    "\n",
    "s = pd.Series(np.random.randn(8), index=multi_index)\n",
    "print (s)\n"
   ]
  },
  {
   "cell_type": "code",
   "execution_count": 61,
   "metadata": {},
   "outputs": [
    {
     "output_type": "execute_result",
     "data": {
      "text/plain": [
       "                  C         D\n",
       "A   B                        \n",
       "bar one    0.220888 -1.885587\n",
       "    three  0.234232  0.905074\n",
       "    two    0.001982  1.523419\n",
       "foo one    0.356919 -0.061962\n",
       "    three  0.643729  0.107224\n",
       "    two    2.842155  1.206462"
      ],
      "text/html": "<div>\n<style scoped>\n    .dataframe tbody tr th:only-of-type {\n        vertical-align: middle;\n    }\n\n    .dataframe tbody tr th {\n        vertical-align: top;\n    }\n\n    .dataframe thead th {\n        text-align: right;\n    }\n</style>\n<table border=\"1\" class=\"dataframe\">\n  <thead>\n    <tr style=\"text-align: right;\">\n      <th></th>\n      <th></th>\n      <th>C</th>\n      <th>D</th>\n    </tr>\n    <tr>\n      <th>A</th>\n      <th>B</th>\n      <th></th>\n      <th></th>\n    </tr>\n  </thead>\n  <tbody>\n    <tr>\n      <th rowspan=\"3\" valign=\"top\">bar</th>\n      <th>one</th>\n      <td>0.220888</td>\n      <td>-1.885587</td>\n    </tr>\n    <tr>\n      <th>three</th>\n      <td>0.234232</td>\n      <td>0.905074</td>\n    </tr>\n    <tr>\n      <th>two</th>\n      <td>0.001982</td>\n      <td>1.523419</td>\n    </tr>\n    <tr>\n      <th rowspan=\"3\" valign=\"top\">foo</th>\n      <th>one</th>\n      <td>0.356919</td>\n      <td>-0.061962</td>\n    </tr>\n    <tr>\n      <th>three</th>\n      <td>0.643729</td>\n      <td>0.107224</td>\n    </tr>\n    <tr>\n      <th>two</th>\n      <td>2.842155</td>\n      <td>1.206462</td>\n    </tr>\n  </tbody>\n</table>\n</div>"
     },
     "metadata": {},
     "execution_count": 61
    }
   ],
   "source": [
    "# it enables further features of the groupby method,\n",
    "# e.g. when group-by by multiple columns\n",
    "gdf.groupby(['A','B']).sum()"
   ]
  },
  {
   "cell_type": "code",
   "execution_count": 62,
   "metadata": {},
   "outputs": [
    {
     "output_type": "execute_result",
     "data": {
      "text/plain": [
       "A    B       \n",
       "bar  one    C    0.220888\n",
       "            D   -1.885587\n",
       "     three  C    0.234232\n",
       "            D    0.905074\n",
       "     two    C    0.001982\n",
       "            D    1.523419\n",
       "foo  one    C    0.356919\n",
       "            D   -0.061962\n",
       "     three  C    0.643729\n",
       "            D    0.107224\n",
       "     two    C    2.842155\n",
       "            D    1.206462\n",
       "dtype: float64"
      ]
     },
     "metadata": {},
     "execution_count": 62
    }
   ],
   "source": [
    "# stack() method “compresses” a level in the DataFrame’s columns\n",
    "gdf.groupby(['A','B']).sum().stack()"
   ]
  },
  {
   "cell_type": "markdown",
   "metadata": {},
   "source": [
    "## Plotting\n",
    "\n",
    "Just a preview, more on the next lab class!"
   ]
  },
  {
   "cell_type": "code",
   "execution_count": 63,
   "metadata": {},
   "outputs": [
    {
     "output_type": "execute_result",
     "data": {
      "text/plain": [
       "<AxesSubplot:>"
      ]
     },
     "metadata": {},
     "execution_count": 63
    },
    {
     "output_type": "display_data",
     "data": {
      "text/plain": "<Figure size 432x288 with 1 Axes>",
      "image/svg+xml": "<?xml version=\"1.0\" encoding=\"utf-8\" standalone=\"no\"?>\n<!DOCTYPE svg PUBLIC \"-//W3C//DTD SVG 1.1//EN\"\n  \"http://www.w3.org/Graphics/SVG/1.1/DTD/svg11.dtd\">\n<!-- Created with matplotlib (https://matplotlib.org/) -->\n<svg height=\"259.715938pt\" version=\"1.1\" viewBox=\"0 0 377.304688 259.715938\" width=\"377.304688pt\" xmlns=\"http://www.w3.org/2000/svg\" xmlns:xlink=\"http://www.w3.org/1999/xlink\">\n <metadata>\n  <rdf:RDF xmlns:cc=\"http://creativecommons.org/ns#\" xmlns:dc=\"http://purl.org/dc/elements/1.1/\" xmlns:rdf=\"http://www.w3.org/1999/02/22-rdf-syntax-ns#\">\n   <cc:Work>\n    <dc:type rdf:resource=\"http://purl.org/dc/dcmitype/StillImage\"/>\n    <dc:date>2020-11-09T14:51:52.304900</dc:date>\n    <dc:format>image/svg+xml</dc:format>\n    <dc:creator>\n     <cc:Agent>\n      <dc:title>Matplotlib v3.3.2, https://matplotlib.org/</dc:title>\n     </cc:Agent>\n    </dc:creator>\n   </cc:Work>\n  </rdf:RDF>\n </metadata>\n <defs>\n  <style type=\"text/css\">*{stroke-linecap:butt;stroke-linejoin:round;}</style>\n </defs>\n <g id=\"figure_1\">\n  <g id=\"patch_1\">\n   <path d=\"M 0 259.715938 \nL 377.304688 259.715938 \nL 377.304688 0 \nL 0 0 \nz\n\" style=\"fill:none;\"/>\n  </g>\n  <g id=\"axes_1\">\n   <g id=\"patch_2\">\n    <path d=\"M 35.304688 224.64 \nL 370.104688 224.64 \nL 370.104688 7.2 \nL 35.304688 7.2 \nz\n\" style=\"fill:#ffffff;\"/>\n   </g>\n   <g id=\"matplotlib.axis_1\">\n    <g id=\"xtick_1\">\n     <g id=\"line2d_1\">\n      <defs>\n       <path d=\"M 0 0 \nL 0 3.5 \n\" id=\"m1fb3bd3385\" style=\"stroke:#000000;stroke-width:0.8;\"/>\n      </defs>\n      <g>\n       <use style=\"stroke:#000000;stroke-width:0.8;\" x=\"35.304688\" xlink:href=\"#m1fb3bd3385\" y=\"224.64\"/>\n      </g>\n     </g>\n     <g id=\"text_1\">\n      <!-- Jan -->\n      <g transform=\"translate(27.596875 239.238438)scale(0.1 -0.1)\">\n       <defs>\n        <path d=\"M 9.8125 72.90625 \nL 19.671875 72.90625 \nL 19.671875 5.078125 \nQ 19.671875 -8.109375 14.671875 -14.0625 \nQ 9.671875 -20.015625 -1.421875 -20.015625 \nL -5.171875 -20.015625 \nL -5.171875 -11.71875 \nL -2.09375 -11.71875 \nQ 4.4375 -11.71875 7.125 -8.046875 \nQ 9.8125 -4.390625 9.8125 5.078125 \nz\n\" id=\"DejaVuSans-74\"/>\n        <path d=\"M 34.28125 27.484375 \nQ 23.390625 27.484375 19.1875 25 \nQ 14.984375 22.515625 14.984375 16.5 \nQ 14.984375 11.71875 18.140625 8.90625 \nQ 21.296875 6.109375 26.703125 6.109375 \nQ 34.1875 6.109375 38.703125 11.40625 \nQ 43.21875 16.703125 43.21875 25.484375 \nL 43.21875 27.484375 \nz\nM 52.203125 31.203125 \nL 52.203125 0 \nL 43.21875 0 \nL 43.21875 8.296875 \nQ 40.140625 3.328125 35.546875 0.953125 \nQ 30.953125 -1.421875 24.3125 -1.421875 \nQ 15.921875 -1.421875 10.953125 3.296875 \nQ 6 8.015625 6 15.921875 \nQ 6 25.140625 12.171875 29.828125 \nQ 18.359375 34.515625 30.609375 34.515625 \nL 43.21875 34.515625 \nL 43.21875 35.40625 \nQ 43.21875 41.609375 39.140625 45 \nQ 35.0625 48.390625 27.6875 48.390625 \nQ 23 48.390625 18.546875 47.265625 \nQ 14.109375 46.140625 10.015625 43.890625 \nL 10.015625 52.203125 \nQ 14.9375 54.109375 19.578125 55.046875 \nQ 24.21875 56 28.609375 56 \nQ 40.484375 56 46.34375 49.84375 \nQ 52.203125 43.703125 52.203125 31.203125 \nz\n\" id=\"DejaVuSans-97\"/>\n        <path d=\"M 54.890625 33.015625 \nL 54.890625 0 \nL 45.90625 0 \nL 45.90625 32.71875 \nQ 45.90625 40.484375 42.875 44.328125 \nQ 39.84375 48.1875 33.796875 48.1875 \nQ 26.515625 48.1875 22.3125 43.546875 \nQ 18.109375 38.921875 18.109375 30.90625 \nL 18.109375 0 \nL 9.078125 0 \nL 9.078125 54.6875 \nL 18.109375 54.6875 \nL 18.109375 46.1875 \nQ 21.34375 51.125 25.703125 53.5625 \nQ 30.078125 56 35.796875 56 \nQ 45.21875 56 50.046875 50.171875 \nQ 54.890625 44.34375 54.890625 33.015625 \nz\n\" id=\"DejaVuSans-110\"/>\n       </defs>\n       <use xlink:href=\"#DejaVuSans-74\"/>\n       <use x=\"29.492188\" xlink:href=\"#DejaVuSans-97\"/>\n       <use x=\"90.771484\" xlink:href=\"#DejaVuSans-110\"/>\n      </g>\n      <!-- 2000 -->\n      <g transform=\"translate(22.579687 250.43625)scale(0.1 -0.1)\">\n       <defs>\n        <path d=\"M 19.1875 8.296875 \nL 53.609375 8.296875 \nL 53.609375 0 \nL 7.328125 0 \nL 7.328125 8.296875 \nQ 12.9375 14.109375 22.625 23.890625 \nQ 32.328125 33.6875 34.8125 36.53125 \nQ 39.546875 41.84375 41.421875 45.53125 \nQ 43.3125 49.21875 43.3125 52.78125 \nQ 43.3125 58.59375 39.234375 62.25 \nQ 35.15625 65.921875 28.609375 65.921875 \nQ 23.96875 65.921875 18.8125 64.3125 \nQ 13.671875 62.703125 7.8125 59.421875 \nL 7.8125 69.390625 \nQ 13.765625 71.78125 18.9375 73 \nQ 24.125 74.21875 28.421875 74.21875 \nQ 39.75 74.21875 46.484375 68.546875 \nQ 53.21875 62.890625 53.21875 53.421875 \nQ 53.21875 48.921875 51.53125 44.890625 \nQ 49.859375 40.875 45.40625 35.40625 \nQ 44.1875 33.984375 37.640625 27.21875 \nQ 31.109375 20.453125 19.1875 8.296875 \nz\n\" id=\"DejaVuSans-50\"/>\n        <path d=\"M 31.78125 66.40625 \nQ 24.171875 66.40625 20.328125 58.90625 \nQ 16.5 51.421875 16.5 36.375 \nQ 16.5 21.390625 20.328125 13.890625 \nQ 24.171875 6.390625 31.78125 6.390625 \nQ 39.453125 6.390625 43.28125 13.890625 \nQ 47.125 21.390625 47.125 36.375 \nQ 47.125 51.421875 43.28125 58.90625 \nQ 39.453125 66.40625 31.78125 66.40625 \nz\nM 31.78125 74.21875 \nQ 44.046875 74.21875 50.515625 64.515625 \nQ 56.984375 54.828125 56.984375 36.375 \nQ 56.984375 17.96875 50.515625 8.265625 \nQ 44.046875 -1.421875 31.78125 -1.421875 \nQ 19.53125 -1.421875 13.0625 8.265625 \nQ 6.59375 17.96875 6.59375 36.375 \nQ 6.59375 54.828125 13.0625 64.515625 \nQ 19.53125 74.21875 31.78125 74.21875 \nz\n\" id=\"DejaVuSans-48\"/>\n       </defs>\n       <use xlink:href=\"#DejaVuSans-50\"/>\n       <use x=\"63.623047\" xlink:href=\"#DejaVuSans-48\"/>\n       <use x=\"127.246094\" xlink:href=\"#DejaVuSans-48\"/>\n       <use x=\"190.869141\" xlink:href=\"#DejaVuSans-48\"/>\n      </g>\n     </g>\n    </g>\n    <g id=\"xtick_2\">\n     <g id=\"line2d_2\">\n      <g>\n       <use style=\"stroke:#000000;stroke-width:0.8;\" x=\"157.964147\" xlink:href=\"#m1fb3bd3385\" y=\"224.64\"/>\n      </g>\n     </g>\n     <g id=\"text_2\">\n      <!-- Jan -->\n      <g transform=\"translate(150.256334 239.238438)scale(0.1 -0.1)\">\n       <use xlink:href=\"#DejaVuSans-74\"/>\n       <use x=\"29.492188\" xlink:href=\"#DejaVuSans-97\"/>\n       <use x=\"90.771484\" xlink:href=\"#DejaVuSans-110\"/>\n      </g>\n      <!-- 2001 -->\n      <g transform=\"translate(145.239147 250.43625)scale(0.1 -0.1)\">\n       <defs>\n        <path d=\"M 12.40625 8.296875 \nL 28.515625 8.296875 \nL 28.515625 63.921875 \nL 10.984375 60.40625 \nL 10.984375 69.390625 \nL 28.421875 72.90625 \nL 38.28125 72.90625 \nL 38.28125 8.296875 \nL 54.390625 8.296875 \nL 54.390625 0 \nL 12.40625 0 \nz\n\" id=\"DejaVuSans-49\"/>\n       </defs>\n       <use xlink:href=\"#DejaVuSans-50\"/>\n       <use x=\"63.623047\" xlink:href=\"#DejaVuSans-48\"/>\n       <use x=\"127.246094\" xlink:href=\"#DejaVuSans-48\"/>\n       <use x=\"190.869141\" xlink:href=\"#DejaVuSans-49\"/>\n      </g>\n     </g>\n    </g>\n    <g id=\"xtick_3\">\n     <g id=\"line2d_3\">\n      <g>\n       <use style=\"stroke:#000000;stroke-width:0.8;\" x=\"280.288471\" xlink:href=\"#m1fb3bd3385\" y=\"224.64\"/>\n      </g>\n     </g>\n     <g id=\"text_3\">\n      <!-- Jan -->\n      <g transform=\"translate(272.580659 239.238438)scale(0.1 -0.1)\">\n       <use xlink:href=\"#DejaVuSans-74\"/>\n       <use x=\"29.492188\" xlink:href=\"#DejaVuSans-97\"/>\n       <use x=\"90.771484\" xlink:href=\"#DejaVuSans-110\"/>\n      </g>\n      <!-- 2002 -->\n      <g transform=\"translate(267.563471 250.43625)scale(0.1 -0.1)\">\n       <use xlink:href=\"#DejaVuSans-50\"/>\n       <use x=\"63.623047\" xlink:href=\"#DejaVuSans-48\"/>\n       <use x=\"127.246094\" xlink:href=\"#DejaVuSans-48\"/>\n       <use x=\"190.869141\" xlink:href=\"#DejaVuSans-50\"/>\n      </g>\n     </g>\n    </g>\n    <g id=\"xtick_4\">\n     <g id=\"line2d_4\">\n      <g>\n       <use style=\"stroke:#000000;stroke-width:0.8;\" x=\"370.104688\" xlink:href=\"#m1fb3bd3385\" y=\"224.64\"/>\n      </g>\n     </g>\n    </g>\n    <g id=\"xtick_5\">\n     <g id=\"line2d_5\">\n      <defs>\n       <path d=\"M 0 0 \nL 0 2 \n\" id=\"ma601dbb7ea\" style=\"stroke:#000000;stroke-width:0.6;\"/>\n      </defs>\n      <g>\n       <use style=\"stroke:#000000;stroke-width:0.6;\" x=\"45.693877\" xlink:href=\"#ma601dbb7ea\" y=\"224.64\"/>\n      </g>\n     </g>\n    </g>\n    <g id=\"xtick_6\">\n     <g id=\"line2d_6\">\n      <g>\n       <use style=\"stroke:#000000;stroke-width:0.6;\" x=\"55.412796\" xlink:href=\"#ma601dbb7ea\" y=\"224.64\"/>\n      </g>\n     </g>\n    </g>\n    <g id=\"xtick_7\">\n     <g id=\"line2d_7\">\n      <g>\n       <use style=\"stroke:#000000;stroke-width:0.6;\" x=\"65.801985\" xlink:href=\"#ma601dbb7ea\" y=\"224.64\"/>\n      </g>\n     </g>\n    </g>\n    <g id=\"xtick_8\">\n     <g id=\"line2d_8\">\n      <g>\n       <use style=\"stroke:#000000;stroke-width:0.6;\" x=\"75.856039\" xlink:href=\"#ma601dbb7ea\" y=\"224.64\"/>\n      </g>\n     </g>\n    </g>\n    <g id=\"xtick_9\">\n     <g id=\"line2d_9\">\n      <g>\n       <use style=\"stroke:#000000;stroke-width:0.6;\" x=\"86.245228\" xlink:href=\"#ma601dbb7ea\" y=\"224.64\"/>\n      </g>\n     </g>\n    </g>\n    <g id=\"xtick_10\">\n     <g id=\"line2d_10\">\n      <g>\n       <use style=\"stroke:#000000;stroke-width:0.6;\" x=\"96.299282\" xlink:href=\"#ma601dbb7ea\" y=\"224.64\"/>\n      </g>\n     </g>\n     <g id=\"text_4\">\n      <!-- Jul -->\n      <g transform=\"translate(90.26647 237.638438)scale(0.1 -0.1)\">\n       <defs>\n        <path d=\"M 8.5 21.578125 \nL 8.5 54.6875 \nL 17.484375 54.6875 \nL 17.484375 21.921875 \nQ 17.484375 14.15625 20.5 10.265625 \nQ 23.53125 6.390625 29.59375 6.390625 \nQ 36.859375 6.390625 41.078125 11.03125 \nQ 45.3125 15.671875 45.3125 23.6875 \nL 45.3125 54.6875 \nL 54.296875 54.6875 \nL 54.296875 0 \nL 45.3125 0 \nL 45.3125 8.40625 \nQ 42.046875 3.421875 37.71875 1 \nQ 33.40625 -1.421875 27.6875 -1.421875 \nQ 18.265625 -1.421875 13.375 4.4375 \nQ 8.5 10.296875 8.5 21.578125 \nz\nM 31.109375 56 \nz\n\" id=\"DejaVuSans-117\"/>\n        <path d=\"M 9.421875 75.984375 \nL 18.40625 75.984375 \nL 18.40625 0 \nL 9.421875 0 \nz\n\" id=\"DejaVuSans-108\"/>\n       </defs>\n       <use xlink:href=\"#DejaVuSans-74\"/>\n       <use x=\"29.492188\" xlink:href=\"#DejaVuSans-117\"/>\n       <use x=\"92.871094\" xlink:href=\"#DejaVuSans-108\"/>\n      </g>\n     </g>\n    </g>\n    <g id=\"xtick_11\">\n     <g id=\"line2d_11\">\n      <g>\n       <use style=\"stroke:#000000;stroke-width:0.6;\" x=\"106.688471\" xlink:href=\"#ma601dbb7ea\" y=\"224.64\"/>\n      </g>\n     </g>\n    </g>\n    <g id=\"xtick_12\">\n     <g id=\"line2d_12\">\n      <g>\n       <use style=\"stroke:#000000;stroke-width:0.6;\" x=\"117.07766\" xlink:href=\"#ma601dbb7ea\" y=\"224.64\"/>\n      </g>\n     </g>\n    </g>\n    <g id=\"xtick_13\">\n     <g id=\"line2d_13\">\n      <g>\n       <use style=\"stroke:#000000;stroke-width:0.6;\" x=\"127.131715\" xlink:href=\"#ma601dbb7ea\" y=\"224.64\"/>\n      </g>\n     </g>\n    </g>\n    <g id=\"xtick_14\">\n     <g id=\"line2d_14\">\n      <g>\n       <use style=\"stroke:#000000;stroke-width:0.6;\" x=\"137.520904\" xlink:href=\"#ma601dbb7ea\" y=\"224.64\"/>\n      </g>\n     </g>\n    </g>\n    <g id=\"xtick_15\">\n     <g id=\"line2d_15\">\n      <g>\n       <use style=\"stroke:#000000;stroke-width:0.6;\" x=\"147.574958\" xlink:href=\"#ma601dbb7ea\" y=\"224.64\"/>\n      </g>\n     </g>\n    </g>\n    <g id=\"xtick_16\">\n     <g id=\"line2d_16\">\n      <g>\n       <use style=\"stroke:#000000;stroke-width:0.6;\" x=\"168.353336\" xlink:href=\"#ma601dbb7ea\" y=\"224.64\"/>\n      </g>\n     </g>\n    </g>\n    <g id=\"xtick_17\">\n     <g id=\"line2d_17\">\n      <g>\n       <use style=\"stroke:#000000;stroke-width:0.6;\" x=\"177.73712\" xlink:href=\"#ma601dbb7ea\" y=\"224.64\"/>\n      </g>\n     </g>\n    </g>\n    <g id=\"xtick_18\">\n     <g id=\"line2d_18\">\n      <g>\n       <use style=\"stroke:#000000;stroke-width:0.6;\" x=\"188.126309\" xlink:href=\"#ma601dbb7ea\" y=\"224.64\"/>\n      </g>\n     </g>\n    </g>\n    <g id=\"xtick_19\">\n     <g id=\"line2d_19\">\n      <g>\n       <use style=\"stroke:#000000;stroke-width:0.6;\" x=\"198.180363\" xlink:href=\"#ma601dbb7ea\" y=\"224.64\"/>\n      </g>\n     </g>\n    </g>\n    <g id=\"xtick_20\">\n     <g id=\"line2d_20\">\n      <g>\n       <use style=\"stroke:#000000;stroke-width:0.6;\" x=\"208.569552\" xlink:href=\"#ma601dbb7ea\" y=\"224.64\"/>\n      </g>\n     </g>\n    </g>\n    <g id=\"xtick_21\">\n     <g id=\"line2d_21\">\n      <g>\n       <use style=\"stroke:#000000;stroke-width:0.6;\" x=\"218.623606\" xlink:href=\"#ma601dbb7ea\" y=\"224.64\"/>\n      </g>\n     </g>\n     <g id=\"text_5\">\n      <!-- Jul -->\n      <g transform=\"translate(212.590794 237.638438)scale(0.1 -0.1)\">\n       <use xlink:href=\"#DejaVuSans-74\"/>\n       <use x=\"29.492188\" xlink:href=\"#DejaVuSans-117\"/>\n       <use x=\"92.871094\" xlink:href=\"#DejaVuSans-108\"/>\n      </g>\n     </g>\n    </g>\n    <g id=\"xtick_22\">\n     <g id=\"line2d_22\">\n      <g>\n       <use style=\"stroke:#000000;stroke-width:0.6;\" x=\"229.012796\" xlink:href=\"#ma601dbb7ea\" y=\"224.64\"/>\n      </g>\n     </g>\n    </g>\n    <g id=\"xtick_23\">\n     <g id=\"line2d_23\">\n      <g>\n       <use style=\"stroke:#000000;stroke-width:0.6;\" x=\"239.401985\" xlink:href=\"#ma601dbb7ea\" y=\"224.64\"/>\n      </g>\n     </g>\n    </g>\n    <g id=\"xtick_24\">\n     <g id=\"line2d_24\">\n      <g>\n       <use style=\"stroke:#000000;stroke-width:0.6;\" x=\"249.456039\" xlink:href=\"#ma601dbb7ea\" y=\"224.64\"/>\n      </g>\n     </g>\n    </g>\n    <g id=\"xtick_25\">\n     <g id=\"line2d_25\">\n      <g>\n       <use style=\"stroke:#000000;stroke-width:0.6;\" x=\"259.845228\" xlink:href=\"#ma601dbb7ea\" y=\"224.64\"/>\n      </g>\n     </g>\n    </g>\n    <g id=\"xtick_26\">\n     <g id=\"line2d_26\">\n      <g>\n       <use style=\"stroke:#000000;stroke-width:0.6;\" x=\"269.899282\" xlink:href=\"#ma601dbb7ea\" y=\"224.64\"/>\n      </g>\n     </g>\n    </g>\n    <g id=\"xtick_27\">\n     <g id=\"line2d_27\">\n      <g>\n       <use style=\"stroke:#000000;stroke-width:0.6;\" x=\"290.67766\" xlink:href=\"#ma601dbb7ea\" y=\"224.64\"/>\n      </g>\n     </g>\n    </g>\n    <g id=\"xtick_28\">\n     <g id=\"line2d_28\">\n      <g>\n       <use style=\"stroke:#000000;stroke-width:0.6;\" x=\"300.061444\" xlink:href=\"#ma601dbb7ea\" y=\"224.64\"/>\n      </g>\n     </g>\n    </g>\n    <g id=\"xtick_29\">\n     <g id=\"line2d_29\">\n      <g>\n       <use style=\"stroke:#000000;stroke-width:0.6;\" x=\"310.450633\" xlink:href=\"#ma601dbb7ea\" y=\"224.64\"/>\n      </g>\n     </g>\n    </g>\n    <g id=\"xtick_30\">\n     <g id=\"line2d_30\">\n      <g>\n       <use style=\"stroke:#000000;stroke-width:0.6;\" x=\"320.504687\" xlink:href=\"#ma601dbb7ea\" y=\"224.64\"/>\n      </g>\n     </g>\n    </g>\n    <g id=\"xtick_31\">\n     <g id=\"line2d_31\">\n      <g>\n       <use style=\"stroke:#000000;stroke-width:0.6;\" x=\"330.893877\" xlink:href=\"#ma601dbb7ea\" y=\"224.64\"/>\n      </g>\n     </g>\n    </g>\n    <g id=\"xtick_32\">\n     <g id=\"line2d_32\">\n      <g>\n       <use style=\"stroke:#000000;stroke-width:0.6;\" x=\"340.947931\" xlink:href=\"#ma601dbb7ea\" y=\"224.64\"/>\n      </g>\n     </g>\n     <g id=\"text_6\">\n      <!-- Jul -->\n      <g transform=\"translate(334.915118 237.638438)scale(0.1 -0.1)\">\n       <use xlink:href=\"#DejaVuSans-74\"/>\n       <use x=\"29.492188\" xlink:href=\"#DejaVuSans-117\"/>\n       <use x=\"92.871094\" xlink:href=\"#DejaVuSans-108\"/>\n      </g>\n     </g>\n    </g>\n    <g id=\"xtick_33\">\n     <g id=\"line2d_33\">\n      <g>\n       <use style=\"stroke:#000000;stroke-width:0.6;\" x=\"351.33712\" xlink:href=\"#ma601dbb7ea\" y=\"224.64\"/>\n      </g>\n     </g>\n    </g>\n    <g id=\"xtick_34\">\n     <g id=\"line2d_34\">\n      <g>\n       <use style=\"stroke:#000000;stroke-width:0.6;\" x=\"361.726309\" xlink:href=\"#ma601dbb7ea\" y=\"224.64\"/>\n      </g>\n     </g>\n    </g>\n   </g>\n   <g id=\"matplotlib.axis_2\">\n    <g id=\"ytick_1\">\n     <g id=\"line2d_35\">\n      <defs>\n       <path d=\"M 0 0 \nL -3.5 0 \n\" id=\"mca3701ebe4\" style=\"stroke:#000000;stroke-width:0.8;\"/>\n      </defs>\n      <g>\n       <use style=\"stroke:#000000;stroke-width:0.8;\" x=\"35.304688\" xlink:href=\"#mca3701ebe4\" y=\"206.456402\"/>\n      </g>\n     </g>\n     <g id=\"text_7\">\n      <!-- −30 -->\n      <g transform=\"translate(7.2 210.255621)scale(0.1 -0.1)\">\n       <defs>\n        <path d=\"M 10.59375 35.5 \nL 73.1875 35.5 \nL 73.1875 27.203125 \nL 10.59375 27.203125 \nz\n\" id=\"DejaVuSans-8722\"/>\n        <path d=\"M 40.578125 39.3125 \nQ 47.65625 37.796875 51.625 33 \nQ 55.609375 28.21875 55.609375 21.1875 \nQ 55.609375 10.40625 48.1875 4.484375 \nQ 40.765625 -1.421875 27.09375 -1.421875 \nQ 22.515625 -1.421875 17.65625 -0.515625 \nQ 12.796875 0.390625 7.625 2.203125 \nL 7.625 11.71875 \nQ 11.71875 9.328125 16.59375 8.109375 \nQ 21.484375 6.890625 26.8125 6.890625 \nQ 36.078125 6.890625 40.9375 10.546875 \nQ 45.796875 14.203125 45.796875 21.1875 \nQ 45.796875 27.640625 41.28125 31.265625 \nQ 36.765625 34.90625 28.71875 34.90625 \nL 20.21875 34.90625 \nL 20.21875 43.015625 \nL 29.109375 43.015625 \nQ 36.375 43.015625 40.234375 45.921875 \nQ 44.09375 48.828125 44.09375 54.296875 \nQ 44.09375 59.90625 40.109375 62.90625 \nQ 36.140625 65.921875 28.71875 65.921875 \nQ 24.65625 65.921875 20.015625 65.03125 \nQ 15.375 64.15625 9.8125 62.3125 \nL 9.8125 71.09375 \nQ 15.4375 72.65625 20.34375 73.4375 \nQ 25.25 74.21875 29.59375 74.21875 \nQ 40.828125 74.21875 47.359375 69.109375 \nQ 53.90625 64.015625 53.90625 55.328125 \nQ 53.90625 49.265625 50.4375 45.09375 \nQ 46.96875 40.921875 40.578125 39.3125 \nz\n\" id=\"DejaVuSans-51\"/>\n       </defs>\n       <use xlink:href=\"#DejaVuSans-8722\"/>\n       <use x=\"83.789062\" xlink:href=\"#DejaVuSans-51\"/>\n       <use x=\"147.412109\" xlink:href=\"#DejaVuSans-48\"/>\n      </g>\n     </g>\n    </g>\n    <g id=\"ytick_2\">\n     <g id=\"line2d_36\">\n      <g>\n       <use style=\"stroke:#000000;stroke-width:0.8;\" x=\"35.304688\" xlink:href=\"#mca3701ebe4\" y=\"179.538503\"/>\n      </g>\n     </g>\n     <g id=\"text_8\">\n      <!-- −20 -->\n      <g transform=\"translate(7.2 183.337722)scale(0.1 -0.1)\">\n       <use xlink:href=\"#DejaVuSans-8722\"/>\n       <use x=\"83.789062\" xlink:href=\"#DejaVuSans-50\"/>\n       <use x=\"147.412109\" xlink:href=\"#DejaVuSans-48\"/>\n      </g>\n     </g>\n    </g>\n    <g id=\"ytick_3\">\n     <g id=\"line2d_37\">\n      <g>\n       <use style=\"stroke:#000000;stroke-width:0.8;\" x=\"35.304688\" xlink:href=\"#mca3701ebe4\" y=\"152.620604\"/>\n      </g>\n     </g>\n     <g id=\"text_9\">\n      <!-- −10 -->\n      <g transform=\"translate(7.2 156.419823)scale(0.1 -0.1)\">\n       <use xlink:href=\"#DejaVuSans-8722\"/>\n       <use x=\"83.789062\" xlink:href=\"#DejaVuSans-49\"/>\n       <use x=\"147.412109\" xlink:href=\"#DejaVuSans-48\"/>\n      </g>\n     </g>\n    </g>\n    <g id=\"ytick_4\">\n     <g id=\"line2d_38\">\n      <g>\n       <use style=\"stroke:#000000;stroke-width:0.8;\" x=\"35.304688\" xlink:href=\"#mca3701ebe4\" y=\"125.702705\"/>\n      </g>\n     </g>\n     <g id=\"text_10\">\n      <!-- 0 -->\n      <g transform=\"translate(21.942188 129.501924)scale(0.1 -0.1)\">\n       <use xlink:href=\"#DejaVuSans-48\"/>\n      </g>\n     </g>\n    </g>\n    <g id=\"ytick_5\">\n     <g id=\"line2d_39\">\n      <g>\n       <use style=\"stroke:#000000;stroke-width:0.8;\" x=\"35.304688\" xlink:href=\"#mca3701ebe4\" y=\"98.784807\"/>\n      </g>\n     </g>\n     <g id=\"text_11\">\n      <!-- 10 -->\n      <g transform=\"translate(15.579688 102.584025)scale(0.1 -0.1)\">\n       <use xlink:href=\"#DejaVuSans-49\"/>\n       <use x=\"63.623047\" xlink:href=\"#DejaVuSans-48\"/>\n      </g>\n     </g>\n    </g>\n    <g id=\"ytick_6\">\n     <g id=\"line2d_40\">\n      <g>\n       <use style=\"stroke:#000000;stroke-width:0.8;\" x=\"35.304688\" xlink:href=\"#mca3701ebe4\" y=\"71.866908\"/>\n      </g>\n     </g>\n     <g id=\"text_12\">\n      <!-- 20 -->\n      <g transform=\"translate(15.579688 75.666127)scale(0.1 -0.1)\">\n       <use xlink:href=\"#DejaVuSans-50\"/>\n       <use x=\"63.623047\" xlink:href=\"#DejaVuSans-48\"/>\n      </g>\n     </g>\n    </g>\n    <g id=\"ytick_7\">\n     <g id=\"line2d_41\">\n      <g>\n       <use style=\"stroke:#000000;stroke-width:0.8;\" x=\"35.304688\" xlink:href=\"#mca3701ebe4\" y=\"44.949009\"/>\n      </g>\n     </g>\n     <g id=\"text_13\">\n      <!-- 30 -->\n      <g transform=\"translate(15.579688 48.748228)scale(0.1 -0.1)\">\n       <use xlink:href=\"#DejaVuSans-51\"/>\n       <use x=\"63.623047\" xlink:href=\"#DejaVuSans-48\"/>\n      </g>\n     </g>\n    </g>\n    <g id=\"ytick_8\">\n     <g id=\"line2d_42\">\n      <g>\n       <use style=\"stroke:#000000;stroke-width:0.8;\" x=\"35.304688\" xlink:href=\"#mca3701ebe4\" y=\"18.03111\"/>\n      </g>\n     </g>\n     <g id=\"text_14\">\n      <!-- 40 -->\n      <g transform=\"translate(15.579688 21.830329)scale(0.1 -0.1)\">\n       <defs>\n        <path d=\"M 37.796875 64.3125 \nL 12.890625 25.390625 \nL 37.796875 25.390625 \nz\nM 35.203125 72.90625 \nL 47.609375 72.90625 \nL 47.609375 25.390625 \nL 58.015625 25.390625 \nL 58.015625 17.1875 \nL 47.609375 17.1875 \nL 47.609375 0 \nL 37.796875 0 \nL 37.796875 17.1875 \nL 4.890625 17.1875 \nL 4.890625 26.703125 \nz\n\" id=\"DejaVuSans-52\"/>\n       </defs>\n       <use xlink:href=\"#DejaVuSans-52\"/>\n       <use x=\"63.623047\" xlink:href=\"#DejaVuSans-48\"/>\n      </g>\n     </g>\n    </g>\n   </g>\n   <g id=\"line2d_43\">\n    <path clip-path=\"url(#p972cdbb24c)\" d=\"M 35.304688 121.022672 \nL 35.639823 122.588055 \nL 35.974958 126.045257 \nL 36.310093 125.665133 \nL 36.645228 127.22155 \nL 36.980363 126.212204 \nL 37.315498 127.376982 \nL 37.650633 122.262951 \nL 37.985769 120.865465 \nL 38.320904 116.469829 \nL 38.656039 121.126305 \nL 39.326309 119.866333 \nL 39.661444 119.471702 \nL 39.996579 115.299638 \nL 40.331715 117.498949 \nL 41.001985 115.608577 \nL 41.33712 113.961155 \nL 41.672255 114.845963 \nL 42.00739 112.677479 \nL 42.67766 116.578665 \nL 43.012796 117.378497 \nL 43.347931 119.866183 \nL 43.683066 119.58442 \nL 44.018201 121.0212 \nL 44.353336 119.292724 \nL 45.023606 126.06374 \nL 45.358742 124.329252 \nL 45.693877 126.972012 \nL 46.029012 123.724732 \nL 46.364147 123.243134 \nL 46.699282 121.09797 \nL 47.034417 120.076454 \nL 47.369552 121.419982 \nL 48.039823 129.051018 \nL 48.374958 130.013773 \nL 48.710093 124.591025 \nL 49.045228 121.64 \nL 49.380363 122.574534 \nL 49.715498 124.892095 \nL 50.050633 122.058183 \nL 50.385769 121.302814 \nL 50.720904 116.183796 \nL 51.056039 116.771731 \nL 51.391174 116.839322 \nL 51.726309 114.341033 \nL 52.061444 117.665624 \nL 52.396579 117.874513 \nL 52.731715 119.541013 \nL 53.06685 120.48988 \nL 53.401985 120.468267 \nL 53.73712 125.657826 \nL 54.072255 125.985053 \nL 54.40739 126.552635 \nL 54.742525 125.37919 \nL 55.07766 131.560398 \nL 55.412796 131.688553 \nL 55.747931 129.323477 \nL 56.083066 130.895183 \nL 56.418201 126.378048 \nL 56.753336 125.716031 \nL 57.088471 126.515763 \nL 57.423606 126.034746 \nL 57.758742 121.920448 \nL 58.093877 122.505351 \nL 58.429012 124.897533 \nL 58.764147 124.697876 \nL 59.099282 122.357102 \nL 59.434417 121.532122 \nL 59.769552 121.313812 \nL 60.104687 124.43835 \nL 60.439823 123.287635 \nL 60.774958 127.498668 \nL 61.110093 127.926084 \nL 62.115498 125.069566 \nL 62.450633 128.117204 \nL 62.785769 126.517776 \nL 63.120904 128.138312 \nL 63.456039 130.873536 \nL 63.791174 127.305032 \nL 64.126309 133.59369 \nL 64.461444 133.675815 \nL 65.131715 130.910854 \nL 65.46685 128.772711 \nL 66.13712 121.216391 \nL 66.472255 120.479195 \nL 66.80739 115.721906 \nL 67.142525 115.506796 \nL 67.812796 107.425952 \nL 68.147931 111.337801 \nL 68.483066 112.402242 \nL 68.818201 111.922008 \nL 69.153336 111.086736 \nL 69.488471 113.246709 \nL 69.823606 111.991194 \nL 70.158742 109.677854 \nL 70.493877 110.938057 \nL 70.829012 113.034813 \nL 71.164147 105.832693 \nL 71.834417 110.359725 \nL 72.169552 116.007774 \nL 72.504687 115.208156 \nL 72.839823 118.408223 \nL 73.174958 114.25089 \nL 73.510093 113.58814 \nL 73.845228 115.322342 \nL 74.180363 117.928326 \nL 74.515498 119.659405 \nL 74.850633 120.236478 \nL 75.185769 121.300762 \nL 75.520904 120.939865 \nL 75.856039 121.924867 \nL 76.191174 121.050029 \nL 76.526309 124.929489 \nL 76.861444 126.037193 \nL 77.196579 129.022763 \nL 77.531715 134.991788 \nL 77.86685 132.047699 \nL 78.201985 136.94002 \nL 78.53712 134.575295 \nL 79.542525 136.541763 \nL 79.87766 133.67052 \nL 80.212796 136.888782 \nL 81.553336 130.921049 \nL 81.888471 132.9239 \nL 82.558742 129.179846 \nL 82.893877 128.685573 \nL 83.229012 127.244216 \nL 83.564147 130.647625 \nL 83.899282 129.848369 \nL 84.234417 121.107703 \nL 84.904687 127.393417 \nL 85.239823 128.08356 \nL 85.574958 128.228993 \nL 85.910093 127.436903 \nL 86.245228 126.349198 \nL 86.915498 129.371799 \nL 87.250633 130.990943 \nL 87.585769 128.196303 \nL 87.920904 132.437765 \nL 88.256039 133.203201 \nL 88.591174 131.675917 \nL 88.926309 131.278673 \nL 89.261444 131.084717 \nL 89.596579 134.339434 \nL 89.931715 135.950046 \nL 90.26685 134.535343 \nL 91.272255 142.845919 \nL 91.60739 137.568171 \nL 91.942525 139.288449 \nL 92.27766 137.457968 \nL 92.947931 143.851487 \nL 93.283066 145.469814 \nL 93.618201 140.152649 \nL 93.953336 132.787185 \nL 94.288471 128.317008 \nL 94.623606 126.662388 \nL 94.958742 128.314668 \nL 95.293877 131.119152 \nL 95.629012 129.240176 \nL 95.964147 122.454503 \nL 96.299282 120.713132 \nL 96.634417 125.031301 \nL 96.969552 123.0182 \nL 97.304688 125.660791 \nL 97.639823 124.496599 \nL 98.310093 128.651516 \nL 98.980363 135.570856 \nL 99.315498 135.099708 \nL 99.985769 128.938155 \nL 100.320904 133.529195 \nL 100.656039 134.581547 \nL 100.991174 133.979313 \nL 101.326309 135.413541 \nL 101.661444 139.861467 \nL 102.331715 132.144874 \nL 103.33712 130.896551 \nL 103.672255 135.719525 \nL 104.00739 135.290664 \nL 104.342525 138.25879 \nL 105.012796 133.992176 \nL 105.347931 132.715534 \nL 105.683066 133.47252 \nL 106.018201 134.684078 \nL 106.353336 133.300973 \nL 106.688471 130.842909 \nL 107.023606 129.732392 \nL 107.358742 125.754565 \nL 107.693877 127.00332 \nL 108.029012 119.879415 \nL 108.364147 116.926134 \nL 108.699282 118.916097 \nL 109.034417 114.437286 \nL 109.704688 123.28366 \nL 110.039823 123.376964 \nL 110.374958 128.079664 \nL 110.710093 129.546077 \nL 111.045228 128.56802 \nL 111.380363 130.910666 \nL 111.715498 128.535668 \nL 112.385769 130.255122 \nL 112.720904 128.829039 \nL 113.056039 128.525258 \nL 113.391174 125.131927 \nL 113.726309 125.474714 \nL 114.061444 124.8893 \nL 114.396579 127.482507 \nL 114.731715 124.78799 \nL 115.06685 127.4915 \nL 116.072255 128.744567 \nL 116.40739 127.143636 \nL 117.07766 122.21414 \nL 117.412796 120.380777 \nL 118.083066 124.219203 \nL 118.418201 125.758932 \nL 118.753336 119.230958 \nL 119.088471 122.086246 \nL 119.423606 121.345763 \nL 119.758742 119.165686 \nL 120.093877 119.199435 \nL 120.429012 123.137611 \nL 120.764147 119.996664 \nL 121.099282 118.391218 \nL 121.434417 114.340917 \nL 122.104687 111.118936 \nL 122.439823 109.020192 \nL 122.774958 107.715124 \nL 123.110093 107.929424 \nL 123.445228 108.80944 \nL 123.780363 106.827418 \nL 124.115498 106.862584 \nL 124.450633 109.204954 \nL 124.785769 109.172003 \nL 125.120904 111.509461 \nL 125.791174 102.144432 \nL 126.126309 101.779395 \nL 126.461444 104.523759 \nL 126.796579 101.831507 \nL 127.131715 102.757869 \nL 127.46685 104.251118 \nL 127.801985 99.834576 \nL 128.13712 101.844941 \nL 128.472255 105.84305 \nL 128.80739 103.062263 \nL 129.142525 105.072825 \nL 129.47766 102.931791 \nL 129.812796 101.736369 \nL 130.147931 96.573207 \nL 130.483066 95.079925 \nL 130.818201 92.252712 \nL 131.153336 94.852849 \nL 131.488471 93.622952 \nL 131.823606 96.057519 \nL 132.158742 93.817159 \nL 132.493877 93.998851 \nL 132.829012 93.988398 \nL 133.164147 93.643713 \nL 133.834417 93.385994 \nL 134.169552 97.720754 \nL 134.504687 96.953274 \nL 134.839823 91.865385 \nL 135.174958 95.69183 \nL 135.845228 90.639496 \nL 136.180363 92.487827 \nL 136.515498 87.245623 \nL 136.850633 87.250202 \nL 137.185769 92.141793 \nL 137.520904 93.833738 \nL 138.191174 95.673713 \nL 138.526309 98.673065 \nL 138.861444 98.713596 \nL 139.196579 101.062422 \nL 139.531715 101.841568 \nL 139.86685 97.672138 \nL 140.201985 96.937964 \nL 140.53712 93.41332 \nL 140.872255 99.252198 \nL 141.20739 99.299754 \nL 141.542525 101.473929 \nL 141.87766 99.732631 \nL 142.212796 102.665339 \nL 142.547931 97.976083 \nL 142.883066 99.404936 \nL 143.218201 100.135096 \nL 143.553336 104.086906 \nL 143.888471 101.510917 \nL 144.223606 101.195992 \nL 144.558742 97.142168 \nL 145.229012 94.42019 \nL 145.564147 95.824896 \nL 145.899282 92.450124 \nL 146.234417 94.934657 \nL 146.569552 94.45582 \nL 146.904687 95.040123 \nL 147.239823 93.496856 \nL 147.574958 92.575085 \nL 147.910093 92.272416 \nL 148.580363 86.316879 \nL 148.915498 89.254611 \nL 149.250633 89.011196 \nL 149.585769 90.612488 \nL 149.920904 94.719802 \nL 150.256039 93.286546 \nL 150.591174 88.262685 \nL 150.926309 85.371744 \nL 151.261444 89.060313 \nL 151.596579 90.998954 \nL 151.931715 91.577949 \nL 152.601985 86.393782 \nL 152.93712 90.885901 \nL 153.272255 86.300662 \nL 153.60739 88.558157 \nL 153.942525 85.995668 \nL 154.27766 84.562112 \nL 154.612796 86.834236 \nL 154.947931 93.475922 \nL 155.283066 96.36823 \nL 155.618201 96.867036 \nL 155.953336 90.39179 \nL 156.288471 92.061328 \nL 156.623606 92.029538 \nL 157.293877 94.486914 \nL 157.964147 89.912765 \nL 158.299282 92.671475 \nL 158.634417 89.841681 \nL 158.969552 92.605998 \nL 159.304688 92.588817 \nL 159.639823 89.091437 \nL 159.974958 93.920816 \nL 160.645228 84.690721 \nL 160.980363 86.153923 \nL 161.315498 83.446732 \nL 161.650633 82.207616 \nL 161.985769 77.421235 \nL 162.320904 75.951581 \nL 162.991174 80.373365 \nL 163.661444 79.551275 \nL 163.996579 82.539637 \nL 164.331715 80.610625 \nL 164.66685 76.806647 \nL 165.001985 78.871204 \nL 165.33712 77.685139 \nL 165.672255 77.97851 \nL 166.00739 71.21033 \nL 166.342525 71.405292 \nL 166.67766 70.780494 \nL 167.012796 70.726754 \nL 167.347931 72.759619 \nL 167.683066 76.065031 \nL 168.018201 72.489974 \nL 168.353336 72.607415 \nL 168.688471 70.317474 \nL 169.023606 72.158538 \nL 169.358742 70.247705 \nL 169.693877 69.160603 \nL 170.029012 63.714139 \nL 170.364147 65.852879 \nL 170.699282 64.676919 \nL 171.034417 62.229369 \nL 171.369552 63.68159 \nL 171.704688 66.632883 \nL 172.039823 65.954332 \nL 172.374958 70.421253 \nL 172.710093 68.664041 \nL 173.045228 70.288507 \nL 173.715498 62.628666 \nL 174.050633 62.855315 \nL 174.720904 67.710285 \nL 175.056039 67.129511 \nL 175.391174 69.229485 \nL 175.726309 67.351563 \nL 176.061444 64.021153 \nL 176.396579 63.799273 \nL 176.731715 61.67224 \nL 177.06685 63.826393 \nL 177.401985 64.136324 \nL 177.73712 63.033038 \nL 178.072255 58.560511 \nL 178.40739 55.978094 \nL 178.742525 55.119715 \nL 179.07766 48.410206 \nL 179.412796 50.703893 \nL 179.747931 54.923159 \nL 180.083066 55.201029 \nL 180.418201 54.532688 \nL 180.753336 52.692075 \nL 181.088471 50.03177 \nL 181.423606 45.543946 \nL 181.758742 47.384407 \nL 182.093877 50.060816 \nL 182.429012 48.413283 \nL 182.764147 44.520153 \nL 183.099282 42.292264 \nL 183.434417 43.293321 \nL 183.769552 38.94106 \nL 184.104687 40.04816 \nL 184.439823 38.776029 \nL 184.774958 38.982611 \nL 185.110093 39.658101 \nL 186.115498 32.498953 \nL 186.450633 30.897827 \nL 187.120904 36.000882 \nL 187.456039 32.549373 \nL 187.791174 36.414501 \nL 188.126309 34.552166 \nL 188.461444 36.673521 \nL 188.796579 40.221802 \nL 189.131715 40.642998 \nL 189.46685 39.347058 \nL 189.801985 39.075801 \nL 190.472255 35.743993 \nL 190.80739 37.941209 \nL 191.142525 35.096716 \nL 191.47766 34.567686 \nL 191.812796 35.603674 \nL 192.147931 32.860934 \nL 192.483066 34.464119 \nL 192.818201 32.47634 \nL 193.153336 33.159099 \nL 193.488471 25.931763 \nL 194.158742 19.950771 \nL 194.493877 24.562822 \nL 194.829012 23.854968 \nL 195.164147 25.519487 \nL 196.169552 21.499908 \nL 196.504687 19.561434 \nL 196.839823 19.124429 \nL 197.510093 22.343912 \nL 197.845228 21.202801 \nL 198.180363 19.630117 \nL 198.515498 17.083636 \nL 198.850633 17.098863 \nL 199.185769 23.523224 \nL 199.520904 24.818008 \nL 199.856039 30.244283 \nL 200.191174 25.401703 \nL 200.526309 26.632918 \nL 200.861444 22.845981 \nL 201.196579 24.406521 \nL 201.531715 28.611248 \nL 201.86685 26.903374 \nL 202.201985 23.624266 \nL 202.53712 26.568904 \nL 202.872255 31.601052 \nL 203.20739 31.450367 \nL 203.87766 29.383411 \nL 204.212796 30.908321 \nL 205.218201 37.551809 \nL 205.553336 38.453532 \nL 205.888471 36.627156 \nL 206.223606 36.7325 \nL 206.558742 34.317653 \nL 206.893877 32.762768 \nL 207.229012 34.159658 \nL 207.564147 34.71342 \nL 207.899282 30.2229 \nL 208.234417 31.705092 \nL 208.569552 34.065355 \nL 208.904687 32.068759 \nL 209.239823 34.840961 \nL 209.574958 31.07867 \nL 210.245228 32.278151 \nL 210.580363 30.712121 \nL 210.915498 31.186343 \nL 211.250633 31.011518 \nL 211.585769 34.38265 \nL 211.920904 32.131593 \nL 212.256039 34.665148 \nL 212.591174 39.398925 \nL 212.926309 40.993523 \nL 213.261444 43.814396 \nL 213.596579 41.226196 \nL 213.931715 41.519368 \nL 214.26685 48.477147 \nL 214.601985 49.236762 \nL 215.272255 52.81131 \nL 215.60739 52.606193 \nL 215.942525 50.725447 \nL 216.27766 52.889187 \nL 216.612796 49.797265 \nL 216.947931 50.110475 \nL 217.283066 43.535724 \nL 217.618201 43.916316 \nL 217.953336 43.576062 \nL 218.288471 37.842364 \nL 218.958742 40.644218 \nL 219.293877 41.013844 \nL 219.629012 39.171457 \nL 219.964147 43.036674 \nL 220.299282 36.609667 \nL 220.634417 38.241735 \nL 220.969552 40.49363 \nL 221.639823 49.240229 \nL 221.974958 47.783781 \nL 222.310093 45.168655 \nL 222.645228 45.595836 \nL 222.980363 45.005296 \nL 223.315498 49.164967 \nL 223.650633 47.680478 \nL 223.985769 48.496941 \nL 224.320904 47.395547 \nL 224.656039 49.696556 \nL 224.991174 53.831859 \nL 225.326309 55.469034 \nL 225.661444 56.254341 \nL 225.996579 49.596416 \nL 226.331715 50.283064 \nL 226.66685 51.495419 \nL 227.001985 56.167192 \nL 227.33712 53.285912 \nL 227.672255 54.551622 \nL 228.00739 51.494358 \nL 228.342525 52.683518 \nL 228.67766 52.387449 \nL 229.012796 53.012104 \nL 229.347931 54.855422 \nL 229.683066 62.92382 \nL 230.018201 63.648359 \nL 230.353336 64.049191 \nL 230.688471 62.051343 \nL 231.023606 57.975279 \nL 231.358742 57.535904 \nL 232.029012 63.929952 \nL 232.699282 67.366685 \nL 233.034417 64.698718 \nL 233.369552 67.185048 \nL 233.704688 67.149313 \nL 234.039823 70.187293 \nL 234.374958 68.470729 \nL 234.710093 71.307039 \nL 235.045228 72.385436 \nL 235.380363 73.854096 \nL 235.715498 70.682926 \nL 236.050633 70.79324 \nL 236.385769 67.009529 \nL 236.720904 69.919973 \nL 237.056039 69.913065 \nL 237.391174 66.407533 \nL 237.726309 68.069111 \nL 238.061444 66.929124 \nL 238.396579 62.433942 \nL 238.731715 64.023146 \nL 239.06685 63.017058 \nL 239.401985 63.171197 \nL 239.73712 68.233377 \nL 240.072255 68.650189 \nL 240.40739 68.531651 \nL 241.07766 76.054634 \nL 241.412796 77.197124 \nL 242.083066 80.287447 \nL 242.418201 79.99896 \nL 242.753336 75.950439 \nL 243.088471 74.770771 \nL 243.423606 77.852373 \nL 243.758742 78.035769 \nL 244.093877 78.687657 \nL 244.764147 81.952394 \nL 245.099282 81.602698 \nL 245.434417 80.752522 \nL 245.769552 78.211439 \nL 246.104687 83.811499 \nL 246.439823 80.79274 \nL 246.774958 82.38415 \nL 247.110093 83.420203 \nL 247.445228 82.868309 \nL 247.780363 88.225994 \nL 248.115498 89.44234 \nL 248.450633 86.586447 \nL 248.785769 89.034717 \nL 249.120904 87.346985 \nL 249.791174 86.421229 \nL 250.126309 84.39082 \nL 250.461444 84.967247 \nL 251.131715 89.897238 \nL 251.46685 94.009591 \nL 251.801985 91.312253 \nL 252.13712 91.591042 \nL 252.472255 89.935077 \nL 252.80739 93.194062 \nL 253.142525 94.188304 \nL 253.812796 89.112185 \nL 254.147931 88.540637 \nL 254.483066 87.211479 \nL 254.818201 90.958687 \nL 255.153336 92.601193 \nL 255.823606 90.816447 \nL 256.158742 85.02493 \nL 256.493877 84.378218 \nL 256.829012 82.379544 \nL 257.499282 90.126275 \nL 257.834417 92.489782 \nL 258.504687 89.701691 \nL 258.839823 93.578955 \nL 259.174958 93.961295 \nL 259.510093 94.102367 \nL 259.845228 93.558013 \nL 260.180363 95.698159 \nL 260.515498 93.091355 \nL 260.850633 92.346354 \nL 261.185769 89.808964 \nL 261.520904 90.550152 \nL 261.856039 87.135414 \nL 262.191174 88.426575 \nL 262.861444 85.995621 \nL 263.196579 83.435435 \nL 263.531715 84.770162 \nL 263.86685 83.596159 \nL 264.201985 83.95037 \nL 264.872255 86.993535 \nL 265.20739 84.492432 \nL 265.542525 90.165709 \nL 266.212796 93.369007 \nL 266.547931 99.290715 \nL 266.883066 99.631945 \nL 267.218201 101.331837 \nL 267.553336 101.233828 \nL 267.888471 102.187795 \nL 268.223606 106.204544 \nL 268.558742 105.002015 \nL 268.893877 104.767791 \nL 269.229012 105.297644 \nL 270.234417 116.110619 \nL 270.569552 117.411215 \nL 270.904687 116.435194 \nL 271.239823 118.643837 \nL 271.910093 107.243884 \nL 272.245228 107.894609 \nL 272.580363 111.322785 \nL 272.915498 111.68135 \nL 273.250633 110.150054 \nL 273.585769 114.144059 \nL 273.920904 113.593017 \nL 274.256039 113.613717 \nL 274.591174 110.352553 \nL 274.926309 111.347991 \nL 275.261444 109.935465 \nL 275.596579 109.557816 \nL 276.26685 108.231681 \nL 276.601985 109.946447 \nL 276.93712 109.197202 \nL 277.60739 115.119847 \nL 277.942525 115.034375 \nL 278.27766 121.130701 \nL 278.612796 123.746437 \nL 278.947931 128.13068 \nL 279.283066 124.552215 \nL 279.953336 131.987478 \nL 280.288471 125.980211 \nL 280.623606 126.726453 \nL 281.293877 130.520968 \nL 281.629012 130.206049 \nL 281.964147 132.865829 \nL 282.299282 136.630739 \nL 282.634417 134.868499 \nL 282.969552 129.605643 \nL 283.304688 132.590911 \nL 283.639823 138.818233 \nL 284.310093 143.319063 \nL 284.645228 143.759344 \nL 285.650633 146.832629 \nL 285.985769 142.383314 \nL 286.320904 146.090381 \nL 286.656039 145.366374 \nL 286.991174 146.146935 \nL 287.661444 152.160441 \nL 287.996579 150.958989 \nL 288.331715 150.211021 \nL 288.66685 149.766055 \nL 289.001985 151.425086 \nL 289.33712 151.116739 \nL 289.672255 152.274045 \nL 290.00739 148.886082 \nL 290.342525 143.573455 \nL 290.67766 143.543478 \nL 291.012796 140.321195 \nL 291.347931 147.960113 \nL 291.683066 145.633486 \nL 292.018201 148.233326 \nL 292.353336 146.596168 \nL 292.688471 143.925182 \nL 293.023606 142.156373 \nL 293.358742 144.441522 \nL 293.693877 141.502241 \nL 294.029012 141.725721 \nL 294.364147 140.215267 \nL 294.699282 143.674488 \nL 295.034417 138.218362 \nL 295.369552 135.97329 \nL 295.704688 135.309343 \nL 296.039823 138.872376 \nL 296.710093 141.923222 \nL 297.045228 140.949985 \nL 297.380363 140.947784 \nL 297.715498 146.91466 \nL 298.050633 148.459802 \nL 299.056039 145.897772 \nL 299.391174 142.942298 \nL 300.061444 141.235935 \nL 300.396579 141.777395 \nL 300.731715 143.908311 \nL 301.06685 139.998086 \nL 301.401985 139.114552 \nL 301.73712 135.386311 \nL 302.072255 136.410875 \nL 302.40739 138.181643 \nL 302.742525 133.228849 \nL 303.412796 136.14927 \nL 303.747931 136.747067 \nL 304.083066 139.503876 \nL 304.418201 134.371837 \nL 304.753336 136.041048 \nL 305.088471 139.173812 \nL 305.423606 140.077848 \nL 305.758742 139.068884 \nL 306.093877 140.635038 \nL 306.429012 144.187112 \nL 306.764147 144.118457 \nL 307.099282 144.27775 \nL 307.434417 147.571909 \nL 307.769552 145.45382 \nL 308.104688 147.28066 \nL 308.439823 151.33158 \nL 308.774958 148.155618 \nL 309.110093 150.879709 \nL 309.445228 149.237374 \nL 309.780363 146.843536 \nL 310.115498 148.490426 \nL 310.450633 146.559526 \nL 310.785769 142.747224 \nL 311.120904 141.844821 \nL 311.456039 140.610828 \nL 312.126309 144.701175 \nL 312.461444 140.685687 \nL 312.796579 141.001605 \nL 313.131715 143.163328 \nL 313.46685 141.043725 \nL 313.801985 142.111828 \nL 314.13712 142.585837 \nL 314.472255 143.768947 \nL 314.80739 144.47204 \nL 315.142525 146.786963 \nL 315.47766 146.712605 \nL 315.812796 147.12546 \nL 316.147931 147.7263 \nL 316.483066 146.792896 \nL 317.153336 151.274978 \nL 317.488471 143.935924 \nL 317.823606 148.843624 \nL 318.158742 150.363131 \nL 318.493877 146.267292 \nL 318.829012 149.607416 \nL 319.164147 144.078444 \nL 319.499282 146.804647 \nL 319.834417 145.135221 \nL 320.169552 145.65681 \nL 320.504687 145.32335 \nL 320.839823 147.778051 \nL 321.174958 153.797825 \nL 321.510093 153.254366 \nL 321.845228 149.798686 \nL 322.180363 149.743935 \nL 322.515498 153.500546 \nL 322.850633 151.518821 \nL 323.185769 157.757312 \nL 323.520904 156.236143 \nL 323.856039 156.915468 \nL 324.191174 157.949391 \nL 324.526309 162.139373 \nL 324.861444 163.100151 \nL 325.196579 163.072961 \nL 325.531715 163.341703 \nL 325.86685 165.299977 \nL 326.53712 163.075517 \nL 326.872255 158.736126 \nL 327.20739 159.149086 \nL 327.542525 157.825858 \nL 327.87766 159.32719 \nL 328.212796 163.277501 \nL 328.547931 160.792993 \nL 328.883066 166.692328 \nL 329.218201 170.545104 \nL 329.888471 172.669636 \nL 330.223606 170.767562 \nL 330.558742 170.969811 \nL 330.893877 171.914938 \nL 331.229012 178.422179 \nL 331.564147 172.842351 \nL 331.899282 173.308432 \nL 332.234417 174.487303 \nL 332.569552 177.911409 \nL 332.904687 176.950385 \nL 333.239823 178.133479 \nL 333.574958 174.39604 \nL 333.910093 180.692669 \nL 334.580363 171.673162 \nL 334.915498 167.738288 \nL 335.250633 174.428985 \nL 335.585769 171.891527 \nL 336.256039 175.041881 \nL 336.591174 174.448758 \nL 336.926309 171.737454 \nL 337.261444 174.184353 \nL 337.596579 173.378291 \nL 337.931715 174.647852 \nL 338.26685 171.846701 \nL 338.601985 172.558388 \nL 338.93712 168.957351 \nL 339.272255 174.501158 \nL 339.60739 175.215043 \nL 340.27766 183.697066 \nL 340.612796 188.99704 \nL 340.947931 189.263856 \nL 341.283066 192.343627 \nL 341.953336 194.304633 \nL 342.623606 194.949842 \nL 342.958742 196.975507 \nL 343.629012 195.717639 \nL 343.964147 194.335868 \nL 344.299282 197.372371 \nL 344.634417 196.917974 \nL 344.969552 197.432586 \nL 345.304688 199.486811 \nL 345.639823 198.895171 \nL 345.974958 197.2837 \nL 346.310093 194.447465 \nL 346.645228 195.904887 \nL 346.980363 191.909612 \nL 347.315498 195.01264 \nL 347.650633 195.662729 \nL 347.985769 202.005351 \nL 348.320904 193.074291 \nL 348.656039 194.61184 \nL 349.326309 189.123525 \nL 349.661444 191.205346 \nL 349.996579 187.340319 \nL 350.331715 186.439751 \nL 350.66685 184.280545 \nL 351.001985 183.660358 \nL 351.33712 184.870543 \nL 351.672255 183.079542 \nL 352.00739 184.391381 \nL 352.342525 180.880319 \nL 352.67766 181.272638 \nL 353.012796 183.150848 \nL 353.347931 187.665663 \nL 353.683066 187.543931 \nL 354.018201 186.552756 \nL 354.353336 186.159247 \nL 354.688471 183.472854 \nL 355.023606 183.525036 \nL 355.358742 185.909249 \nL 355.693877 190.17915 \nL 356.029012 192.099108 \nL 356.364147 190.272222 \nL 356.699282 190.649334 \nL 357.034417 189.702036 \nL 357.369552 192.083083 \nL 357.704688 190.395777 \nL 358.039823 193.807553 \nL 358.374958 192.205574 \nL 358.710093 189.908967 \nL 359.045228 193.761224 \nL 359.380363 194.20323 \nL 359.715498 190.558055 \nL 360.050633 189.316957 \nL 360.385769 189.071912 \nL 361.056039 196.472171 \nL 361.391174 194.266298 \nL 361.726309 194.143688 \nL 362.061444 194.505492 \nL 362.396579 194.172644 \nL 362.731715 193.432 \nL 363.06685 194.878353 \nL 363.73712 203.181084 \nL 364.072255 200.772069 \nL 364.40739 201.819731 \nL 365.07766 199.196338 \nL 365.412796 201.153122 \nL 365.747931 199.088998 \nL 366.418201 202.684978 \nL 366.753336 200.301379 \nL 367.088471 199.100514 \nL 367.758742 203.682328 \nL 368.429012 213.845574 \nL 368.764147 213.91514 \nL 369.099282 214.756364 \nL 369.434417 211.519633 \nL 370.104688 209.749241 \nL 370.104688 209.749241 \n\" style=\"fill:none;stroke:#1f77b4;stroke-linecap:square;stroke-width:1.5;\"/>\n   </g>\n   <g id=\"patch_3\">\n    <path d=\"M 35.304688 224.64 \nL 35.304688 7.2 \n\" style=\"fill:none;stroke:#000000;stroke-linecap:square;stroke-linejoin:miter;stroke-width:0.8;\"/>\n   </g>\n   <g id=\"patch_4\">\n    <path d=\"M 370.104688 224.64 \nL 370.104688 7.2 \n\" style=\"fill:none;stroke:#000000;stroke-linecap:square;stroke-linejoin:miter;stroke-width:0.8;\"/>\n   </g>\n   <g id=\"patch_5\">\n    <path d=\"M 35.304688 224.64 \nL 370.104688 224.64 \n\" style=\"fill:none;stroke:#000000;stroke-linecap:square;stroke-linejoin:miter;stroke-width:0.8;\"/>\n   </g>\n   <g id=\"patch_6\">\n    <path d=\"M 35.304688 7.2 \nL 370.104688 7.2 \n\" style=\"fill:none;stroke:#000000;stroke-linecap:square;stroke-linejoin:miter;stroke-width:0.8;\"/>\n   </g>\n  </g>\n </g>\n <defs>\n  <clipPath id=\"p972cdbb24c\">\n   <rect height=\"217.44\" width=\"334.8\" x=\"35.304688\" y=\"7.2\"/>\n  </clipPath>\n </defs>\n</svg>\n",
      "image/png": "[encoded data removed]"
     },
     "metadata": {
      "needs_background": "light"
     }
    }
   ],
   "source": [
    "ts = pd.Series(np.random.randn(1000), index=pd.date_range('1/1/2000', periods=1000))\n",
    "ts.cumsum().plot()"
   ]
  },
  {
   "cell_type": "code",
   "execution_count": 64,
   "metadata": {},
   "outputs": [
    {
     "output_type": "execute_result",
     "data": {
      "text/plain": [
       "<matplotlib.legend.Legend at 0x7f2f72512520>"
      ]
     },
     "metadata": {},
     "execution_count": 64
    },
    {
     "output_type": "display_data",
     "data": {
      "text/plain": "<Figure size 432x288 with 0 Axes>"
     },
     "metadata": {}
    },
    {
     "output_type": "display_data",
     "data": {
      "text/plain": "<Figure size 432x288 with 1 Axes>",
      "image/svg+xml": "<?xml version=\"1.0\" encoding=\"utf-8\" standalone=\"no\"?>\n<!DOCTYPE svg PUBLIC \"-//W3C//DTD SVG 1.1//EN\"\n  \"http://www.w3.org/Graphics/SVG/1.1/DTD/svg11.dtd\">\n<!-- Created with matplotlib (https://matplotlib.org/) -->\n<svg height=\"248.101971pt\" version=\"1.1\" viewBox=\"0 0 369.303649 248.101971\" width=\"369.303649pt\" xmlns=\"http://www.w3.org/2000/svg\" xmlns:xlink=\"http://www.w3.org/1999/xlink\">\n <metadata>\n  <rdf:RDF xmlns:cc=\"http://creativecommons.org/ns#\" xmlns:dc=\"http://purl.org/dc/elements/1.1/\" xmlns:rdf=\"http://www.w3.org/1999/02/22-rdf-syntax-ns#\">\n   <cc:Work>\n    <dc:type rdf:resource=\"http://purl.org/dc/dcmitype/StillImage\"/>\n    <dc:date>2020-11-09T14:51:52.793310</dc:date>\n    <dc:format>image/svg+xml</dc:format>\n    <dc:creator>\n     <cc:Agent>\n      <dc:title>Matplotlib v3.3.2, https://matplotlib.org/</dc:title>\n     </cc:Agent>\n    </dc:creator>\n   </cc:Work>\n  </rdf:RDF>\n </metadata>\n <defs>\n  <style type=\"text/css\">*{stroke-linecap:butt;stroke-linejoin:round;}</style>\n </defs>\n <g id=\"figure_1\">\n  <g id=\"patch_1\">\n   <path d=\"M 0 248.101971 \nL 369.303649 248.101971 \nL 369.303649 0 \nL 0 0 \nz\n\" style=\"fill:none;\"/>\n  </g>\n  <g id=\"axes_1\">\n   <g id=\"patch_2\">\n    <path d=\"M 27.303649 203.04 \nL 362.103649 203.04 \nL 362.103649 7.2 \nL 27.303649 7.2 \nz\n\" style=\"fill:#ffffff;\"/>\n   </g>\n   <g id=\"matplotlib.axis_1\">\n    <g id=\"xtick_1\">\n     <g id=\"line2d_1\">\n      <defs>\n       <path d=\"M 0 0 \nL 0 3.5 \n\" id=\"m4fda3f7d1a\" style=\"stroke:#000000;stroke-width:0.8;\"/>\n      </defs>\n      <g>\n       <use style=\"stroke:#000000;stroke-width:0.8;\" x=\"50.976377\" xlink:href=\"#m4fda3f7d1a\" y=\"203.04\"/>\n      </g>\n     </g>\n     <g id=\"text_1\">\n      <!-- 11-09 15 -->\n      <g transform=\"translate(10.999219 239.100909)rotate(-30)scale(0.1 -0.1)\">\n       <defs>\n        <path d=\"M 12.40625 8.296875 \nL 28.515625 8.296875 \nL 28.515625 63.921875 \nL 10.984375 60.40625 \nL 10.984375 69.390625 \nL 28.421875 72.90625 \nL 38.28125 72.90625 \nL 38.28125 8.296875 \nL 54.390625 8.296875 \nL 54.390625 0 \nL 12.40625 0 \nz\n\" id=\"DejaVuSans-49\"/>\n        <path d=\"M 4.890625 31.390625 \nL 31.203125 31.390625 \nL 31.203125 23.390625 \nL 4.890625 23.390625 \nz\n\" id=\"DejaVuSans-45\"/>\n        <path d=\"M 31.78125 66.40625 \nQ 24.171875 66.40625 20.328125 58.90625 \nQ 16.5 51.421875 16.5 36.375 \nQ 16.5 21.390625 20.328125 13.890625 \nQ 24.171875 6.390625 31.78125 6.390625 \nQ 39.453125 6.390625 43.28125 13.890625 \nQ 47.125 21.390625 47.125 36.375 \nQ 47.125 51.421875 43.28125 58.90625 \nQ 39.453125 66.40625 31.78125 66.40625 \nz\nM 31.78125 74.21875 \nQ 44.046875 74.21875 50.515625 64.515625 \nQ 56.984375 54.828125 56.984375 36.375 \nQ 56.984375 17.96875 50.515625 8.265625 \nQ 44.046875 -1.421875 31.78125 -1.421875 \nQ 19.53125 -1.421875 13.0625 8.265625 \nQ 6.59375 17.96875 6.59375 36.375 \nQ 6.59375 54.828125 13.0625 64.515625 \nQ 19.53125 74.21875 31.78125 74.21875 \nz\n\" id=\"DejaVuSans-48\"/>\n        <path d=\"M 10.984375 1.515625 \nL 10.984375 10.5 \nQ 14.703125 8.734375 18.5 7.8125 \nQ 22.3125 6.890625 25.984375 6.890625 \nQ 35.75 6.890625 40.890625 13.453125 \nQ 46.046875 20.015625 46.78125 33.40625 \nQ 43.953125 29.203125 39.59375 26.953125 \nQ 35.25 24.703125 29.984375 24.703125 \nQ 19.046875 24.703125 12.671875 31.3125 \nQ 6.296875 37.9375 6.296875 49.421875 \nQ 6.296875 60.640625 12.9375 67.421875 \nQ 19.578125 74.21875 30.609375 74.21875 \nQ 43.265625 74.21875 49.921875 64.515625 \nQ 56.59375 54.828125 56.59375 36.375 \nQ 56.59375 19.140625 48.40625 8.859375 \nQ 40.234375 -1.421875 26.421875 -1.421875 \nQ 22.703125 -1.421875 18.890625 -0.6875 \nQ 15.09375 0.046875 10.984375 1.515625 \nz\nM 30.609375 32.421875 \nQ 37.25 32.421875 41.125 36.953125 \nQ 45.015625 41.5 45.015625 49.421875 \nQ 45.015625 57.28125 41.125 61.84375 \nQ 37.25 66.40625 30.609375 66.40625 \nQ 23.96875 66.40625 20.09375 61.84375 \nQ 16.21875 57.28125 16.21875 49.421875 \nQ 16.21875 41.5 20.09375 36.953125 \nQ 23.96875 32.421875 30.609375 32.421875 \nz\n\" id=\"DejaVuSans-57\"/>\n        <path id=\"DejaVuSans-32\"/>\n        <path d=\"M 10.796875 72.90625 \nL 49.515625 72.90625 \nL 49.515625 64.59375 \nL 19.828125 64.59375 \nL 19.828125 46.734375 \nQ 21.96875 47.46875 24.109375 47.828125 \nQ 26.265625 48.1875 28.421875 48.1875 \nQ 40.625 48.1875 47.75 41.5 \nQ 54.890625 34.8125 54.890625 23.390625 \nQ 54.890625 11.625 47.5625 5.09375 \nQ 40.234375 -1.421875 26.90625 -1.421875 \nQ 22.3125 -1.421875 17.546875 -0.640625 \nQ 12.796875 0.140625 7.71875 1.703125 \nL 7.71875 11.625 \nQ 12.109375 9.234375 16.796875 8.0625 \nQ 21.484375 6.890625 26.703125 6.890625 \nQ 35.15625 6.890625 40.078125 11.328125 \nQ 45.015625 15.765625 45.015625 23.390625 \nQ 45.015625 31 40.078125 35.4375 \nQ 35.15625 39.890625 26.703125 39.890625 \nQ 22.75 39.890625 18.8125 39.015625 \nQ 14.890625 38.140625 10.796875 36.28125 \nz\n\" id=\"DejaVuSans-53\"/>\n       </defs>\n       <use xlink:href=\"#DejaVuSans-49\"/>\n       <use x=\"63.623047\" xlink:href=\"#DejaVuSans-49\"/>\n       <use x=\"127.246094\" xlink:href=\"#DejaVuSans-45\"/>\n       <use x=\"163.330078\" xlink:href=\"#DejaVuSans-48\"/>\n       <use x=\"226.953125\" xlink:href=\"#DejaVuSans-57\"/>\n       <use x=\"290.576172\" xlink:href=\"#DejaVuSans-32\"/>\n       <use x=\"322.363281\" xlink:href=\"#DejaVuSans-49\"/>\n       <use x=\"385.986328\" xlink:href=\"#DejaVuSans-53\"/>\n      </g>\n     </g>\n    </g>\n    <g id=\"xtick_2\">\n     <g id=\"line2d_2\">\n      <g>\n       <use style=\"stroke:#000000;stroke-width:0.8;\" x=\"84.794558\" xlink:href=\"#m4fda3f7d1a\" y=\"203.04\"/>\n      </g>\n     </g>\n     <g id=\"text_2\">\n      <!-- 11-09 16 -->\n      <g transform=\"translate(44.817401 239.100909)rotate(-30)scale(0.1 -0.1)\">\n       <defs>\n        <path d=\"M 33.015625 40.375 \nQ 26.375 40.375 22.484375 35.828125 \nQ 18.609375 31.296875 18.609375 23.390625 \nQ 18.609375 15.53125 22.484375 10.953125 \nQ 26.375 6.390625 33.015625 6.390625 \nQ 39.65625 6.390625 43.53125 10.953125 \nQ 47.40625 15.53125 47.40625 23.390625 \nQ 47.40625 31.296875 43.53125 35.828125 \nQ 39.65625 40.375 33.015625 40.375 \nz\nM 52.59375 71.296875 \nL 52.59375 62.3125 \nQ 48.875 64.0625 45.09375 64.984375 \nQ 41.3125 65.921875 37.59375 65.921875 \nQ 27.828125 65.921875 22.671875 59.328125 \nQ 17.53125 52.734375 16.796875 39.40625 \nQ 19.671875 43.65625 24.015625 45.921875 \nQ 28.375 48.1875 33.59375 48.1875 \nQ 44.578125 48.1875 50.953125 41.515625 \nQ 57.328125 34.859375 57.328125 23.390625 \nQ 57.328125 12.15625 50.6875 5.359375 \nQ 44.046875 -1.421875 33.015625 -1.421875 \nQ 20.359375 -1.421875 13.671875 8.265625 \nQ 6.984375 17.96875 6.984375 36.375 \nQ 6.984375 53.65625 15.1875 63.9375 \nQ 23.390625 74.21875 37.203125 74.21875 \nQ 40.921875 74.21875 44.703125 73.484375 \nQ 48.484375 72.75 52.59375 71.296875 \nz\n\" id=\"DejaVuSans-54\"/>\n       </defs>\n       <use xlink:href=\"#DejaVuSans-49\"/>\n       <use x=\"63.623047\" xlink:href=\"#DejaVuSans-49\"/>\n       <use x=\"127.246094\" xlink:href=\"#DejaVuSans-45\"/>\n       <use x=\"163.330078\" xlink:href=\"#DejaVuSans-48\"/>\n       <use x=\"226.953125\" xlink:href=\"#DejaVuSans-57\"/>\n       <use x=\"290.576172\" xlink:href=\"#DejaVuSans-32\"/>\n       <use x=\"322.363281\" xlink:href=\"#DejaVuSans-49\"/>\n       <use x=\"385.986328\" xlink:href=\"#DejaVuSans-54\"/>\n      </g>\n     </g>\n    </g>\n    <g id=\"xtick_3\">\n     <g id=\"line2d_3\">\n      <g>\n       <use style=\"stroke:#000000;stroke-width:0.8;\" x=\"118.61274\" xlink:href=\"#m4fda3f7d1a\" y=\"203.04\"/>\n      </g>\n     </g>\n     <g id=\"text_3\">\n      <!-- 11-09 17 -->\n      <g transform=\"translate(78.635582 239.100909)rotate(-30)scale(0.1 -0.1)\">\n       <defs>\n        <path d=\"M 8.203125 72.90625 \nL 55.078125 72.90625 \nL 55.078125 68.703125 \nL 28.609375 0 \nL 18.3125 0 \nL 43.21875 64.59375 \nL 8.203125 64.59375 \nz\n\" id=\"DejaVuSans-55\"/>\n       </defs>\n       <use xlink:href=\"#DejaVuSans-49\"/>\n       <use x=\"63.623047\" xlink:href=\"#DejaVuSans-49\"/>\n       <use x=\"127.246094\" xlink:href=\"#DejaVuSans-45\"/>\n       <use x=\"163.330078\" xlink:href=\"#DejaVuSans-48\"/>\n       <use x=\"226.953125\" xlink:href=\"#DejaVuSans-57\"/>\n       <use x=\"290.576172\" xlink:href=\"#DejaVuSans-32\"/>\n       <use x=\"322.363281\" xlink:href=\"#DejaVuSans-49\"/>\n       <use x=\"385.986328\" xlink:href=\"#DejaVuSans-55\"/>\n      </g>\n     </g>\n    </g>\n    <g id=\"xtick_4\">\n     <g id=\"line2d_4\">\n      <g>\n       <use style=\"stroke:#000000;stroke-width:0.8;\" x=\"152.430922\" xlink:href=\"#m4fda3f7d1a\" y=\"203.04\"/>\n      </g>\n     </g>\n     <g id=\"text_4\">\n      <!-- 11-09 18 -->\n      <g transform=\"translate(112.453764 239.100909)rotate(-30)scale(0.1 -0.1)\">\n       <defs>\n        <path d=\"M 31.78125 34.625 \nQ 24.75 34.625 20.71875 30.859375 \nQ 16.703125 27.09375 16.703125 20.515625 \nQ 16.703125 13.921875 20.71875 10.15625 \nQ 24.75 6.390625 31.78125 6.390625 \nQ 38.8125 6.390625 42.859375 10.171875 \nQ 46.921875 13.96875 46.921875 20.515625 \nQ 46.921875 27.09375 42.890625 30.859375 \nQ 38.875 34.625 31.78125 34.625 \nz\nM 21.921875 38.8125 \nQ 15.578125 40.375 12.03125 44.71875 \nQ 8.5 49.078125 8.5 55.328125 \nQ 8.5 64.0625 14.71875 69.140625 \nQ 20.953125 74.21875 31.78125 74.21875 \nQ 42.671875 74.21875 48.875 69.140625 \nQ 55.078125 64.0625 55.078125 55.328125 \nQ 55.078125 49.078125 51.53125 44.71875 \nQ 48 40.375 41.703125 38.8125 \nQ 48.828125 37.15625 52.796875 32.3125 \nQ 56.78125 27.484375 56.78125 20.515625 \nQ 56.78125 9.90625 50.3125 4.234375 \nQ 43.84375 -1.421875 31.78125 -1.421875 \nQ 19.734375 -1.421875 13.25 4.234375 \nQ 6.78125 9.90625 6.78125 20.515625 \nQ 6.78125 27.484375 10.78125 32.3125 \nQ 14.796875 37.15625 21.921875 38.8125 \nz\nM 18.3125 54.390625 \nQ 18.3125 48.734375 21.84375 45.5625 \nQ 25.390625 42.390625 31.78125 42.390625 \nQ 38.140625 42.390625 41.71875 45.5625 \nQ 45.3125 48.734375 45.3125 54.390625 \nQ 45.3125 60.0625 41.71875 63.234375 \nQ 38.140625 66.40625 31.78125 66.40625 \nQ 25.390625 66.40625 21.84375 63.234375 \nQ 18.3125 60.0625 18.3125 54.390625 \nz\n\" id=\"DejaVuSans-56\"/>\n       </defs>\n       <use xlink:href=\"#DejaVuSans-49\"/>\n       <use x=\"63.623047\" xlink:href=\"#DejaVuSans-49\"/>\n       <use x=\"127.246094\" xlink:href=\"#DejaVuSans-45\"/>\n       <use x=\"163.330078\" xlink:href=\"#DejaVuSans-48\"/>\n       <use x=\"226.953125\" xlink:href=\"#DejaVuSans-57\"/>\n       <use x=\"290.576172\" xlink:href=\"#DejaVuSans-32\"/>\n       <use x=\"322.363281\" xlink:href=\"#DejaVuSans-49\"/>\n       <use x=\"385.986328\" xlink:href=\"#DejaVuSans-56\"/>\n      </g>\n     </g>\n    </g>\n    <g id=\"xtick_5\">\n     <g id=\"line2d_5\">\n      <g>\n       <use style=\"stroke:#000000;stroke-width:0.8;\" x=\"186.249104\" xlink:href=\"#m4fda3f7d1a\" y=\"203.04\"/>\n      </g>\n     </g>\n     <g id=\"text_5\">\n      <!-- 11-09 19 -->\n      <g transform=\"translate(146.271946 239.100909)rotate(-30)scale(0.1 -0.1)\">\n       <use xlink:href=\"#DejaVuSans-49\"/>\n       <use x=\"63.623047\" xlink:href=\"#DejaVuSans-49\"/>\n       <use x=\"127.246094\" xlink:href=\"#DejaVuSans-45\"/>\n       <use x=\"163.330078\" xlink:href=\"#DejaVuSans-48\"/>\n       <use x=\"226.953125\" xlink:href=\"#DejaVuSans-57\"/>\n       <use x=\"290.576172\" xlink:href=\"#DejaVuSans-32\"/>\n       <use x=\"322.363281\" xlink:href=\"#DejaVuSans-49\"/>\n       <use x=\"385.986328\" xlink:href=\"#DejaVuSans-57\"/>\n      </g>\n     </g>\n    </g>\n    <g id=\"xtick_6\">\n     <g id=\"line2d_6\">\n      <g>\n       <use style=\"stroke:#000000;stroke-width:0.8;\" x=\"220.067286\" xlink:href=\"#m4fda3f7d1a\" y=\"203.04\"/>\n      </g>\n     </g>\n     <g id=\"text_6\">\n      <!-- 11-09 20 -->\n      <g transform=\"translate(180.090128 239.100909)rotate(-30)scale(0.1 -0.1)\">\n       <defs>\n        <path d=\"M 19.1875 8.296875 \nL 53.609375 8.296875 \nL 53.609375 0 \nL 7.328125 0 \nL 7.328125 8.296875 \nQ 12.9375 14.109375 22.625 23.890625 \nQ 32.328125 33.6875 34.8125 36.53125 \nQ 39.546875 41.84375 41.421875 45.53125 \nQ 43.3125 49.21875 43.3125 52.78125 \nQ 43.3125 58.59375 39.234375 62.25 \nQ 35.15625 65.921875 28.609375 65.921875 \nQ 23.96875 65.921875 18.8125 64.3125 \nQ 13.671875 62.703125 7.8125 59.421875 \nL 7.8125 69.390625 \nQ 13.765625 71.78125 18.9375 73 \nQ 24.125 74.21875 28.421875 74.21875 \nQ 39.75 74.21875 46.484375 68.546875 \nQ 53.21875 62.890625 53.21875 53.421875 \nQ 53.21875 48.921875 51.53125 44.890625 \nQ 49.859375 40.875 45.40625 35.40625 \nQ 44.1875 33.984375 37.640625 27.21875 \nQ 31.109375 20.453125 19.1875 8.296875 \nz\n\" id=\"DejaVuSans-50\"/>\n       </defs>\n       <use xlink:href=\"#DejaVuSans-49\"/>\n       <use x=\"63.623047\" xlink:href=\"#DejaVuSans-49\"/>\n       <use x=\"127.246094\" xlink:href=\"#DejaVuSans-45\"/>\n       <use x=\"163.330078\" xlink:href=\"#DejaVuSans-48\"/>\n       <use x=\"226.953125\" xlink:href=\"#DejaVuSans-57\"/>\n       <use x=\"290.576172\" xlink:href=\"#DejaVuSans-32\"/>\n       <use x=\"322.363281\" xlink:href=\"#DejaVuSans-50\"/>\n       <use x=\"385.986328\" xlink:href=\"#DejaVuSans-48\"/>\n      </g>\n     </g>\n    </g>\n    <g id=\"xtick_7\">\n     <g id=\"line2d_7\">\n      <g>\n       <use style=\"stroke:#000000;stroke-width:0.8;\" x=\"253.885467\" xlink:href=\"#m4fda3f7d1a\" y=\"203.04\"/>\n      </g>\n     </g>\n     <g id=\"text_7\">\n      <!-- 11-09 21 -->\n      <g transform=\"translate(213.90831 239.100909)rotate(-30)scale(0.1 -0.1)\">\n       <use xlink:href=\"#DejaVuSans-49\"/>\n       <use x=\"63.623047\" xlink:href=\"#DejaVuSans-49\"/>\n       <use x=\"127.246094\" xlink:href=\"#DejaVuSans-45\"/>\n       <use x=\"163.330078\" xlink:href=\"#DejaVuSans-48\"/>\n       <use x=\"226.953125\" xlink:href=\"#DejaVuSans-57\"/>\n       <use x=\"290.576172\" xlink:href=\"#DejaVuSans-32\"/>\n       <use x=\"322.363281\" xlink:href=\"#DejaVuSans-50\"/>\n       <use x=\"385.986328\" xlink:href=\"#DejaVuSans-49\"/>\n      </g>\n     </g>\n    </g>\n    <g id=\"xtick_8\">\n     <g id=\"line2d_8\">\n      <g>\n       <use style=\"stroke:#000000;stroke-width:0.8;\" x=\"287.703649\" xlink:href=\"#m4fda3f7d1a\" y=\"203.04\"/>\n      </g>\n     </g>\n     <g id=\"text_8\">\n      <!-- 11-09 22 -->\n      <g transform=\"translate(247.726491 239.100909)rotate(-30)scale(0.1 -0.1)\">\n       <use xlink:href=\"#DejaVuSans-49\"/>\n       <use x=\"63.623047\" xlink:href=\"#DejaVuSans-49\"/>\n       <use x=\"127.246094\" xlink:href=\"#DejaVuSans-45\"/>\n       <use x=\"163.330078\" xlink:href=\"#DejaVuSans-48\"/>\n       <use x=\"226.953125\" xlink:href=\"#DejaVuSans-57\"/>\n       <use x=\"290.576172\" xlink:href=\"#DejaVuSans-32\"/>\n       <use x=\"322.363281\" xlink:href=\"#DejaVuSans-50\"/>\n       <use x=\"385.986328\" xlink:href=\"#DejaVuSans-50\"/>\n      </g>\n     </g>\n    </g>\n    <g id=\"xtick_9\">\n     <g id=\"line2d_9\">\n      <g>\n       <use style=\"stroke:#000000;stroke-width:0.8;\" x=\"321.521831\" xlink:href=\"#m4fda3f7d1a\" y=\"203.04\"/>\n      </g>\n     </g>\n     <g id=\"text_9\">\n      <!-- 11-09 23 -->\n      <g transform=\"translate(281.544673 239.100909)rotate(-30)scale(0.1 -0.1)\">\n       <defs>\n        <path d=\"M 40.578125 39.3125 \nQ 47.65625 37.796875 51.625 33 \nQ 55.609375 28.21875 55.609375 21.1875 \nQ 55.609375 10.40625 48.1875 4.484375 \nQ 40.765625 -1.421875 27.09375 -1.421875 \nQ 22.515625 -1.421875 17.65625 -0.515625 \nQ 12.796875 0.390625 7.625 2.203125 \nL 7.625 11.71875 \nQ 11.71875 9.328125 16.59375 8.109375 \nQ 21.484375 6.890625 26.8125 6.890625 \nQ 36.078125 6.890625 40.9375 10.546875 \nQ 45.796875 14.203125 45.796875 21.1875 \nQ 45.796875 27.640625 41.28125 31.265625 \nQ 36.765625 34.90625 28.71875 34.90625 \nL 20.21875 34.90625 \nL 20.21875 43.015625 \nL 29.109375 43.015625 \nQ 36.375 43.015625 40.234375 45.921875 \nQ 44.09375 48.828125 44.09375 54.296875 \nQ 44.09375 59.90625 40.109375 62.90625 \nQ 36.140625 65.921875 28.71875 65.921875 \nQ 24.65625 65.921875 20.015625 65.03125 \nQ 15.375 64.15625 9.8125 62.3125 \nL 9.8125 71.09375 \nQ 15.4375 72.65625 20.34375 73.4375 \nQ 25.25 74.21875 29.59375 74.21875 \nQ 40.828125 74.21875 47.359375 69.109375 \nQ 53.90625 64.015625 53.90625 55.328125 \nQ 53.90625 49.265625 50.4375 45.09375 \nQ 46.96875 40.921875 40.578125 39.3125 \nz\n\" id=\"DejaVuSans-51\"/>\n       </defs>\n       <use xlink:href=\"#DejaVuSans-49\"/>\n       <use x=\"63.623047\" xlink:href=\"#DejaVuSans-49\"/>\n       <use x=\"127.246094\" xlink:href=\"#DejaVuSans-45\"/>\n       <use x=\"163.330078\" xlink:href=\"#DejaVuSans-48\"/>\n       <use x=\"226.953125\" xlink:href=\"#DejaVuSans-57\"/>\n       <use x=\"290.576172\" xlink:href=\"#DejaVuSans-32\"/>\n       <use x=\"322.363281\" xlink:href=\"#DejaVuSans-50\"/>\n       <use x=\"385.986328\" xlink:href=\"#DejaVuSans-51\"/>\n      </g>\n     </g>\n    </g>\n    <g id=\"xtick_10\">\n     <g id=\"line2d_10\">\n      <g>\n       <use style=\"stroke:#000000;stroke-width:0.8;\" x=\"355.340013\" xlink:href=\"#m4fda3f7d1a\" y=\"203.04\"/>\n      </g>\n     </g>\n     <g id=\"text_10\">\n      <!-- 11-10 00 -->\n      <g transform=\"translate(315.362855 239.100909)rotate(-30)scale(0.1 -0.1)\">\n       <use xlink:href=\"#DejaVuSans-49\"/>\n       <use x=\"63.623047\" xlink:href=\"#DejaVuSans-49\"/>\n       <use x=\"127.246094\" xlink:href=\"#DejaVuSans-45\"/>\n       <use x=\"163.330078\" xlink:href=\"#DejaVuSans-49\"/>\n       <use x=\"226.953125\" xlink:href=\"#DejaVuSans-48\"/>\n       <use x=\"290.576172\" xlink:href=\"#DejaVuSans-32\"/>\n       <use x=\"322.363281\" xlink:href=\"#DejaVuSans-48\"/>\n       <use x=\"385.986328\" xlink:href=\"#DejaVuSans-48\"/>\n      </g>\n     </g>\n    </g>\n   </g>\n   <g id=\"matplotlib.axis_2\">\n    <g id=\"ytick_1\">\n     <g id=\"line2d_11\">\n      <defs>\n       <path d=\"M 0 0 \nL -3.5 0 \n\" id=\"m3300095112\" style=\"stroke:#000000;stroke-width:0.8;\"/>\n      </defs>\n      <g>\n       <use style=\"stroke:#000000;stroke-width:0.8;\" x=\"27.303649\" xlink:href=\"#m3300095112\" y=\"188.30356\"/>\n      </g>\n     </g>\n     <g id=\"text_11\">\n      <!-- 0 -->\n      <g transform=\"translate(13.941149 192.102778)scale(0.1 -0.1)\">\n       <use xlink:href=\"#DejaVuSans-48\"/>\n      </g>\n     </g>\n    </g>\n    <g id=\"ytick_2\">\n     <g id=\"line2d_12\">\n      <g>\n       <use style=\"stroke:#000000;stroke-width:0.8;\" x=\"27.303649\" xlink:href=\"#m3300095112\" y=\"150.036506\"/>\n      </g>\n     </g>\n     <g id=\"text_12\">\n      <!-- 20 -->\n      <g transform=\"translate(7.578649 153.835725)scale(0.1 -0.1)\">\n       <use xlink:href=\"#DejaVuSans-50\"/>\n       <use x=\"63.623047\" xlink:href=\"#DejaVuSans-48\"/>\n      </g>\n     </g>\n    </g>\n    <g id=\"ytick_3\">\n     <g id=\"line2d_13\">\n      <g>\n       <use style=\"stroke:#000000;stroke-width:0.8;\" x=\"27.303649\" xlink:href=\"#m3300095112\" y=\"111.769452\"/>\n      </g>\n     </g>\n     <g id=\"text_13\">\n      <!-- 40 -->\n      <g transform=\"translate(7.578649 115.568671)scale(0.1 -0.1)\">\n       <defs>\n        <path d=\"M 37.796875 64.3125 \nL 12.890625 25.390625 \nL 37.796875 25.390625 \nz\nM 35.203125 72.90625 \nL 47.609375 72.90625 \nL 47.609375 25.390625 \nL 58.015625 25.390625 \nL 58.015625 17.1875 \nL 47.609375 17.1875 \nL 47.609375 0 \nL 37.796875 0 \nL 37.796875 17.1875 \nL 4.890625 17.1875 \nL 4.890625 26.703125 \nz\n\" id=\"DejaVuSans-52\"/>\n       </defs>\n       <use xlink:href=\"#DejaVuSans-52\"/>\n       <use x=\"63.623047\" xlink:href=\"#DejaVuSans-48\"/>\n      </g>\n     </g>\n    </g>\n    <g id=\"ytick_4\">\n     <g id=\"line2d_14\">\n      <g>\n       <use style=\"stroke:#000000;stroke-width:0.8;\" x=\"27.303649\" xlink:href=\"#m3300095112\" y=\"73.502399\"/>\n      </g>\n     </g>\n     <g id=\"text_14\">\n      <!-- 60 -->\n      <g transform=\"translate(7.578649 77.301617)scale(0.1 -0.1)\">\n       <use xlink:href=\"#DejaVuSans-54\"/>\n       <use x=\"63.623047\" xlink:href=\"#DejaVuSans-48\"/>\n      </g>\n     </g>\n    </g>\n    <g id=\"ytick_5\">\n     <g id=\"line2d_15\">\n      <g>\n       <use style=\"stroke:#000000;stroke-width:0.8;\" x=\"27.303649\" xlink:href=\"#m3300095112\" y=\"35.235345\"/>\n      </g>\n     </g>\n     <g id=\"text_15\">\n      <!-- 80 -->\n      <g transform=\"translate(7.578649 39.034564)scale(0.1 -0.1)\">\n       <use xlink:href=\"#DejaVuSans-56\"/>\n       <use x=\"63.623047\" xlink:href=\"#DejaVuSans-48\"/>\n      </g>\n     </g>\n    </g>\n   </g>\n   <g id=\"line2d_16\">\n    <path clip-path=\"url(#p70b2cb41b2)\" d=\"M 42.521831 188.30356 \nL 76.340013 189.187167 \nL 110.158195 186.006888 \nL 143.976377 185.302308 \nL 177.794558 182.055082 \nL 211.61274 183.616531 \nL 245.430922 185.24916 \nL 279.249104 186.129149 \nL 313.067286 186.709223 \nL 346.885467 187.248795 \n\" style=\"fill:none;stroke:#1f77b4;stroke-linecap:square;stroke-width:1.5;\"/>\n   </g>\n   <g id=\"line2d_17\">\n    <path clip-path=\"url(#p70b2cb41b2)\" d=\"M 42.521831 188.082022 \nL 76.340013 186.718331 \nL 110.158195 188.119038 \nL 143.976377 188.926136 \nL 177.794558 190.423355 \nL 211.61274 192.143418 \nL 245.430922 194.138182 \nL 279.249104 193.308696 \nL 313.067286 193.657004 \nL 346.885467 193.82452 \n\" style=\"fill:none;stroke:#ff7f0e;stroke-linecap:square;stroke-width:1.5;\"/>\n   </g>\n   <g id=\"line2d_18\">\n    <path clip-path=\"url(#p70b2cb41b2)\" d=\"M 42.521831 182.579863 \nL 76.340013 182.386381 \nL 110.158195 182.604492 \nL 143.976377 181.455982 \nL 177.794558 185.298984 \nL 211.61274 183.021661 \nL 245.430922 186.81122 \nL 279.249104 186.351799 \nL 313.067286 185.345469 \nL 346.885467 188.202467 \n\" style=\"fill:none;stroke:#2ca02c;stroke-linecap:square;stroke-width:1.5;\"/>\n   </g>\n   <g id=\"line2d_19\">\n    <path clip-path=\"url(#p70b2cb41b2)\" d=\"M 42.521831 178.736796 \nL 76.340013 169.170033 \nL 110.158195 159.603269 \nL 143.976377 150.036506 \nL 177.794558 140.469743 \nL 211.61274 130.902979 \nL 245.430922 121.336216 \nL 279.249104 111.769452 \nL 313.067286 102.202689 \nL 346.885467 92.635925 \n\" style=\"fill:none;stroke:#d62728;stroke-linecap:square;stroke-width:1.5;\"/>\n   </g>\n   <g id=\"line2d_20\">\n    <path clip-path=\"url(#p70b2cb41b2)\" d=\"M 42.521831 188.30356 \nL 76.340013 187.346883 \nL 110.158195 185.433531 \nL 143.976377 182.563502 \nL 177.794558 178.736796 \nL 211.61274 173.953415 \nL 245.430922 168.213356 \nL 279.249104 161.516622 \nL 313.067286 153.863211 \nL 346.885467 145.253124 \n\" style=\"fill:none;stroke:#9467bd;stroke-linecap:square;stroke-width:1.5;\"/>\n   </g>\n   <g id=\"line2d_21\">\n    <path clip-path=\"url(#p70b2cb41b2)\" d=\"M 42.521831 188.30356 \nL 76.340013 184.476854 \nL 110.158195 176.823444 \nL 143.976377 165.343327 \nL 177.794558 150.036506 \nL 211.61274 130.902979 \nL 245.430922 107.942747 \nL 279.249104 81.155809 \nL 313.067286 50.542166 \nL 346.885467 16.101818 \n\" style=\"fill:none;stroke:#8c564b;stroke-linecap:square;stroke-width:1.5;\"/>\n   </g>\n   <g id=\"line2d_22\">\n    <path clip-path=\"url(#p70b2cb41b2)\" d=\"M 42.521831 186.390207 \nL 76.340013 184.476927 \nL 110.158195 182.563866 \nL 143.976377 180.651169 \nL 177.794558 178.738982 \nL 211.61274 176.82745 \nL 245.430922 174.91672 \nL 279.249104 173.006936 \nL 313.067286 171.098244 \nL 346.885467 169.190789 \n\" style=\"fill:none;stroke:#e377c2;stroke-linecap:square;stroke-width:1.5;\"/>\n   </g>\n   <g id=\"patch_3\">\n    <path d=\"M 27.303649 203.04 \nL 27.303649 7.2 \n\" style=\"fill:none;stroke:#000000;stroke-linecap:square;stroke-linejoin:miter;stroke-width:0.8;\"/>\n   </g>\n   <g id=\"patch_4\">\n    <path d=\"M 362.103649 203.04 \nL 362.103649 7.2 \n\" style=\"fill:none;stroke:#000000;stroke-linecap:square;stroke-linejoin:miter;stroke-width:0.8;\"/>\n   </g>\n   <g id=\"patch_5\">\n    <path d=\"M 27.303649 203.04 \nL 362.103649 203.04 \n\" style=\"fill:none;stroke:#000000;stroke-linecap:square;stroke-linejoin:miter;stroke-width:0.8;\"/>\n   </g>\n   <g id=\"patch_6\">\n    <path d=\"M 27.303649 7.2 \nL 362.103649 7.2 \n\" style=\"fill:none;stroke:#000000;stroke-linecap:square;stroke-linejoin:miter;stroke-width:0.8;\"/>\n   </g>\n   <g id=\"legend_1\">\n    <g id=\"patch_7\">\n     <path d=\"M 34.303649 117.946875 \nL 104.931774 117.946875 \nQ 106.931774 117.946875 106.931774 115.946875 \nL 106.931774 14.2 \nQ 106.931774 12.2 104.931774 12.2 \nL 34.303649 12.2 \nQ 32.303649 12.2 32.303649 14.2 \nL 32.303649 115.946875 \nQ 32.303649 117.946875 34.303649 117.946875 \nz\n\" style=\"fill:#ffffff;opacity:0.8;stroke:#cccccc;stroke-linejoin:miter;\"/>\n    </g>\n    <g id=\"line2d_23\">\n     <path d=\"M 36.303649 20.298437 \nL 56.303649 20.298437 \n\" style=\"fill:none;stroke:#1f77b4;stroke-linecap:square;stroke-width:1.5;\"/>\n    </g>\n    <g id=\"line2d_24\"/>\n    <g id=\"text_16\">\n     <!-- A -->\n     <g transform=\"translate(64.303649 23.798437)scale(0.1 -0.1)\">\n      <defs>\n       <path d=\"M 34.1875 63.1875 \nL 20.796875 26.90625 \nL 47.609375 26.90625 \nz\nM 28.609375 72.90625 \nL 39.796875 72.90625 \nL 67.578125 0 \nL 57.328125 0 \nL 50.6875 18.703125 \nL 17.828125 18.703125 \nL 11.1875 0 \nL 0.78125 0 \nz\n\" id=\"DejaVuSans-65\"/>\n      </defs>\n      <use xlink:href=\"#DejaVuSans-65\"/>\n     </g>\n    </g>\n    <g id=\"line2d_25\">\n     <path d=\"M 36.303649 34.976562 \nL 56.303649 34.976562 \n\" style=\"fill:none;stroke:#ff7f0e;stroke-linecap:square;stroke-width:1.5;\"/>\n    </g>\n    <g id=\"line2d_26\"/>\n    <g id=\"text_17\">\n     <!-- B -->\n     <g transform=\"translate(64.303649 38.476562)scale(0.1 -0.1)\">\n      <defs>\n       <path d=\"M 19.671875 34.8125 \nL 19.671875 8.109375 \nL 35.5 8.109375 \nQ 43.453125 8.109375 47.28125 11.40625 \nQ 51.125 14.703125 51.125 21.484375 \nQ 51.125 28.328125 47.28125 31.5625 \nQ 43.453125 34.8125 35.5 34.8125 \nz\nM 19.671875 64.796875 \nL 19.671875 42.828125 \nL 34.28125 42.828125 \nQ 41.5 42.828125 45.03125 45.53125 \nQ 48.578125 48.25 48.578125 53.8125 \nQ 48.578125 59.328125 45.03125 62.0625 \nQ 41.5 64.796875 34.28125 64.796875 \nz\nM 9.8125 72.90625 \nL 35.015625 72.90625 \nQ 46.296875 72.90625 52.390625 68.21875 \nQ 58.5 63.53125 58.5 54.890625 \nQ 58.5 48.1875 55.375 44.234375 \nQ 52.25 40.28125 46.1875 39.3125 \nQ 53.46875 37.75 57.5 32.78125 \nQ 61.53125 27.828125 61.53125 20.40625 \nQ 61.53125 10.640625 54.890625 5.3125 \nQ 48.25 0 35.984375 0 \nL 9.8125 0 \nz\n\" id=\"DejaVuSans-66\"/>\n      </defs>\n      <use xlink:href=\"#DejaVuSans-66\"/>\n     </g>\n    </g>\n    <g id=\"line2d_27\">\n     <path d=\"M 36.303649 49.654687 \nL 56.303649 49.654687 \n\" style=\"fill:none;stroke:#2ca02c;stroke-linecap:square;stroke-width:1.5;\"/>\n    </g>\n    <g id=\"line2d_28\"/>\n    <g id=\"text_18\">\n     <!-- C -->\n     <g transform=\"translate(64.303649 53.154687)scale(0.1 -0.1)\">\n      <defs>\n       <path d=\"M 64.40625 67.28125 \nL 64.40625 56.890625 \nQ 59.421875 61.53125 53.78125 63.8125 \nQ 48.140625 66.109375 41.796875 66.109375 \nQ 29.296875 66.109375 22.65625 58.46875 \nQ 16.015625 50.828125 16.015625 36.375 \nQ 16.015625 21.96875 22.65625 14.328125 \nQ 29.296875 6.6875 41.796875 6.6875 \nQ 48.140625 6.6875 53.78125 8.984375 \nQ 59.421875 11.28125 64.40625 15.921875 \nL 64.40625 5.609375 \nQ 59.234375 2.09375 53.4375 0.328125 \nQ 47.65625 -1.421875 41.21875 -1.421875 \nQ 24.65625 -1.421875 15.125 8.703125 \nQ 5.609375 18.84375 5.609375 36.375 \nQ 5.609375 53.953125 15.125 64.078125 \nQ 24.65625 74.21875 41.21875 74.21875 \nQ 47.75 74.21875 53.53125 72.484375 \nQ 59.328125 70.75 64.40625 67.28125 \nz\n\" id=\"DejaVuSans-67\"/>\n      </defs>\n      <use xlink:href=\"#DejaVuSans-67\"/>\n     </g>\n    </g>\n    <g id=\"line2d_29\">\n     <path d=\"M 36.303649 64.332812 \nL 56.303649 64.332812 \n\" style=\"fill:none;stroke:#d62728;stroke-linecap:square;stroke-width:1.5;\"/>\n    </g>\n    <g id=\"line2d_30\"/>\n    <g id=\"text_19\">\n     <!-- D -->\n     <g transform=\"translate(64.303649 67.832812)scale(0.1 -0.1)\">\n      <defs>\n       <path d=\"M 19.671875 64.796875 \nL 19.671875 8.109375 \nL 31.59375 8.109375 \nQ 46.6875 8.109375 53.6875 14.9375 \nQ 60.6875 21.78125 60.6875 36.53125 \nQ 60.6875 51.171875 53.6875 57.984375 \nQ 46.6875 64.796875 31.59375 64.796875 \nz\nM 9.8125 72.90625 \nL 30.078125 72.90625 \nQ 51.265625 72.90625 61.171875 64.09375 \nQ 71.09375 55.28125 71.09375 36.53125 \nQ 71.09375 17.671875 61.125 8.828125 \nQ 51.171875 0 30.078125 0 \nL 9.8125 0 \nz\n\" id=\"DejaVuSans-68\"/>\n      </defs>\n      <use xlink:href=\"#DejaVuSans-68\"/>\n     </g>\n    </g>\n    <g id=\"line2d_31\">\n     <path d=\"M 36.303649 79.010937 \nL 56.303649 79.010937 \n\" style=\"fill:none;stroke:#9467bd;stroke-linecap:square;stroke-width:1.5;\"/>\n    </g>\n    <g id=\"line2d_32\"/>\n    <g id=\"text_20\">\n     <!-- E -->\n     <g transform=\"translate(64.303649 82.510937)scale(0.1 -0.1)\">\n      <defs>\n       <path d=\"M 9.8125 72.90625 \nL 55.90625 72.90625 \nL 55.90625 64.59375 \nL 19.671875 64.59375 \nL 19.671875 43.015625 \nL 54.390625 43.015625 \nL 54.390625 34.71875 \nL 19.671875 34.71875 \nL 19.671875 8.296875 \nL 56.78125 8.296875 \nL 56.78125 0 \nL 9.8125 0 \nz\n\" id=\"DejaVuSans-69\"/>\n      </defs>\n      <use xlink:href=\"#DejaVuSans-69\"/>\n     </g>\n    </g>\n    <g id=\"line2d_33\">\n     <path d=\"M 36.303649 93.689062 \nL 56.303649 93.689062 \n\" style=\"fill:none;stroke:#8c564b;stroke-linecap:square;stroke-width:1.5;\"/>\n    </g>\n    <g id=\"line2d_34\"/>\n    <g id=\"text_21\">\n     <!-- E prime -->\n     <g transform=\"translate(64.303649 97.189062)scale(0.1 -0.1)\">\n      <defs>\n       <path d=\"M 18.109375 8.203125 \nL 18.109375 -20.796875 \nL 9.078125 -20.796875 \nL 9.078125 54.6875 \nL 18.109375 54.6875 \nL 18.109375 46.390625 \nQ 20.953125 51.265625 25.265625 53.625 \nQ 29.59375 56 35.59375 56 \nQ 45.5625 56 51.78125 48.09375 \nQ 58.015625 40.1875 58.015625 27.296875 \nQ 58.015625 14.40625 51.78125 6.484375 \nQ 45.5625 -1.421875 35.59375 -1.421875 \nQ 29.59375 -1.421875 25.265625 0.953125 \nQ 20.953125 3.328125 18.109375 8.203125 \nz\nM 48.6875 27.296875 \nQ 48.6875 37.203125 44.609375 42.84375 \nQ 40.53125 48.484375 33.40625 48.484375 \nQ 26.265625 48.484375 22.1875 42.84375 \nQ 18.109375 37.203125 18.109375 27.296875 \nQ 18.109375 17.390625 22.1875 11.75 \nQ 26.265625 6.109375 33.40625 6.109375 \nQ 40.53125 6.109375 44.609375 11.75 \nQ 48.6875 17.390625 48.6875 27.296875 \nz\n\" id=\"DejaVuSans-112\"/>\n       <path d=\"M 41.109375 46.296875 \nQ 39.59375 47.171875 37.8125 47.578125 \nQ 36.03125 48 33.890625 48 \nQ 26.265625 48 22.1875 43.046875 \nQ 18.109375 38.09375 18.109375 28.8125 \nL 18.109375 0 \nL 9.078125 0 \nL 9.078125 54.6875 \nL 18.109375 54.6875 \nL 18.109375 46.1875 \nQ 20.953125 51.171875 25.484375 53.578125 \nQ 30.03125 56 36.53125 56 \nQ 37.453125 56 38.578125 55.875 \nQ 39.703125 55.765625 41.0625 55.515625 \nz\n\" id=\"DejaVuSans-114\"/>\n       <path d=\"M 9.421875 54.6875 \nL 18.40625 54.6875 \nL 18.40625 0 \nL 9.421875 0 \nz\nM 9.421875 75.984375 \nL 18.40625 75.984375 \nL 18.40625 64.59375 \nL 9.421875 64.59375 \nz\n\" id=\"DejaVuSans-105\"/>\n       <path d=\"M 52 44.1875 \nQ 55.375 50.25 60.0625 53.125 \nQ 64.75 56 71.09375 56 \nQ 79.640625 56 84.28125 50.015625 \nQ 88.921875 44.046875 88.921875 33.015625 \nL 88.921875 0 \nL 79.890625 0 \nL 79.890625 32.71875 \nQ 79.890625 40.578125 77.09375 44.375 \nQ 74.3125 48.1875 68.609375 48.1875 \nQ 61.625 48.1875 57.5625 43.546875 \nQ 53.515625 38.921875 53.515625 30.90625 \nL 53.515625 0 \nL 44.484375 0 \nL 44.484375 32.71875 \nQ 44.484375 40.625 41.703125 44.40625 \nQ 38.921875 48.1875 33.109375 48.1875 \nQ 26.21875 48.1875 22.15625 43.53125 \nQ 18.109375 38.875 18.109375 30.90625 \nL 18.109375 0 \nL 9.078125 0 \nL 9.078125 54.6875 \nL 18.109375 54.6875 \nL 18.109375 46.1875 \nQ 21.1875 51.21875 25.484375 53.609375 \nQ 29.78125 56 35.6875 56 \nQ 41.65625 56 45.828125 52.96875 \nQ 50 49.953125 52 44.1875 \nz\n\" id=\"DejaVuSans-109\"/>\n       <path d=\"M 56.203125 29.59375 \nL 56.203125 25.203125 \nL 14.890625 25.203125 \nQ 15.484375 15.921875 20.484375 11.0625 \nQ 25.484375 6.203125 34.421875 6.203125 \nQ 39.59375 6.203125 44.453125 7.46875 \nQ 49.3125 8.734375 54.109375 11.28125 \nL 54.109375 2.78125 \nQ 49.265625 0.734375 44.1875 -0.34375 \nQ 39.109375 -1.421875 33.890625 -1.421875 \nQ 20.796875 -1.421875 13.15625 6.1875 \nQ 5.515625 13.8125 5.515625 26.8125 \nQ 5.515625 40.234375 12.765625 48.109375 \nQ 20.015625 56 32.328125 56 \nQ 43.359375 56 49.78125 48.890625 \nQ 56.203125 41.796875 56.203125 29.59375 \nz\nM 47.21875 32.234375 \nQ 47.125 39.59375 43.09375 43.984375 \nQ 39.0625 48.390625 32.421875 48.390625 \nQ 24.90625 48.390625 20.390625 44.140625 \nQ 15.875 39.890625 15.1875 32.171875 \nz\n\" id=\"DejaVuSans-101\"/>\n      </defs>\n      <use xlink:href=\"#DejaVuSans-69\"/>\n      <use x=\"63.183594\" xlink:href=\"#DejaVuSans-32\"/>\n      <use x=\"94.970703\" xlink:href=\"#DejaVuSans-112\"/>\n      <use x=\"158.447266\" xlink:href=\"#DejaVuSans-114\"/>\n      <use x=\"199.560547\" xlink:href=\"#DejaVuSans-105\"/>\n      <use x=\"227.34375\" xlink:href=\"#DejaVuSans-109\"/>\n      <use x=\"324.755859\" xlink:href=\"#DejaVuSans-101\"/>\n     </g>\n    </g>\n    <g id=\"line2d_35\">\n     <path d=\"M 36.303649 108.367187 \nL 56.303649 108.367187 \n\" style=\"fill:none;stroke:#e377c2;stroke-linecap:square;stroke-width:1.5;\"/>\n    </g>\n    <g id=\"line2d_36\"/>\n    <g id=\"text_22\">\n     <!-- cosine -->\n     <g transform=\"translate(64.303649 111.867187)scale(0.1 -0.1)\">\n      <defs>\n       <path d=\"M 48.78125 52.59375 \nL 48.78125 44.1875 \nQ 44.96875 46.296875 41.140625 47.34375 \nQ 37.3125 48.390625 33.40625 48.390625 \nQ 24.65625 48.390625 19.8125 42.84375 \nQ 14.984375 37.3125 14.984375 27.296875 \nQ 14.984375 17.28125 19.8125 11.734375 \nQ 24.65625 6.203125 33.40625 6.203125 \nQ 37.3125 6.203125 41.140625 7.25 \nQ 44.96875 8.296875 48.78125 10.40625 \nL 48.78125 2.09375 \nQ 45.015625 0.34375 40.984375 -0.53125 \nQ 36.96875 -1.421875 32.421875 -1.421875 \nQ 20.0625 -1.421875 12.78125 6.34375 \nQ 5.515625 14.109375 5.515625 27.296875 \nQ 5.515625 40.671875 12.859375 48.328125 \nQ 20.21875 56 33.015625 56 \nQ 37.15625 56 41.109375 55.140625 \nQ 45.0625 54.296875 48.78125 52.59375 \nz\n\" id=\"DejaVuSans-99\"/>\n       <path d=\"M 30.609375 48.390625 \nQ 23.390625 48.390625 19.1875 42.75 \nQ 14.984375 37.109375 14.984375 27.296875 \nQ 14.984375 17.484375 19.15625 11.84375 \nQ 23.34375 6.203125 30.609375 6.203125 \nQ 37.796875 6.203125 41.984375 11.859375 \nQ 46.1875 17.53125 46.1875 27.296875 \nQ 46.1875 37.015625 41.984375 42.703125 \nQ 37.796875 48.390625 30.609375 48.390625 \nz\nM 30.609375 56 \nQ 42.328125 56 49.015625 48.375 \nQ 55.71875 40.765625 55.71875 27.296875 \nQ 55.71875 13.875 49.015625 6.21875 \nQ 42.328125 -1.421875 30.609375 -1.421875 \nQ 18.84375 -1.421875 12.171875 6.21875 \nQ 5.515625 13.875 5.515625 27.296875 \nQ 5.515625 40.765625 12.171875 48.375 \nQ 18.84375 56 30.609375 56 \nz\n\" id=\"DejaVuSans-111\"/>\n       <path d=\"M 44.28125 53.078125 \nL 44.28125 44.578125 \nQ 40.484375 46.53125 36.375 47.5 \nQ 32.28125 48.484375 27.875 48.484375 \nQ 21.1875 48.484375 17.84375 46.4375 \nQ 14.5 44.390625 14.5 40.28125 \nQ 14.5 37.15625 16.890625 35.375 \nQ 19.28125 33.59375 26.515625 31.984375 \nL 29.59375 31.296875 \nQ 39.15625 29.25 43.1875 25.515625 \nQ 47.21875 21.78125 47.21875 15.09375 \nQ 47.21875 7.46875 41.1875 3.015625 \nQ 35.15625 -1.421875 24.609375 -1.421875 \nQ 20.21875 -1.421875 15.453125 -0.5625 \nQ 10.6875 0.296875 5.421875 2 \nL 5.421875 11.28125 \nQ 10.40625 8.6875 15.234375 7.390625 \nQ 20.0625 6.109375 24.8125 6.109375 \nQ 31.15625 6.109375 34.5625 8.28125 \nQ 37.984375 10.453125 37.984375 14.40625 \nQ 37.984375 18.0625 35.515625 20.015625 \nQ 33.0625 21.96875 24.703125 23.78125 \nL 21.578125 24.515625 \nQ 13.234375 26.265625 9.515625 29.90625 \nQ 5.8125 33.546875 5.8125 39.890625 \nQ 5.8125 47.609375 11.28125 51.796875 \nQ 16.75 56 26.8125 56 \nQ 31.78125 56 36.171875 55.265625 \nQ 40.578125 54.546875 44.28125 53.078125 \nz\n\" id=\"DejaVuSans-115\"/>\n       <path d=\"M 54.890625 33.015625 \nL 54.890625 0 \nL 45.90625 0 \nL 45.90625 32.71875 \nQ 45.90625 40.484375 42.875 44.328125 \nQ 39.84375 48.1875 33.796875 48.1875 \nQ 26.515625 48.1875 22.3125 43.546875 \nQ 18.109375 38.921875 18.109375 30.90625 \nL 18.109375 0 \nL 9.078125 0 \nL 9.078125 54.6875 \nL 18.109375 54.6875 \nL 18.109375 46.1875 \nQ 21.34375 51.125 25.703125 53.5625 \nQ 30.078125 56 35.796875 56 \nQ 45.21875 56 50.046875 50.171875 \nQ 54.890625 44.34375 54.890625 33.015625 \nz\n\" id=\"DejaVuSans-110\"/>\n      </defs>\n      <use xlink:href=\"#DejaVuSans-99\"/>\n      <use x=\"54.980469\" xlink:href=\"#DejaVuSans-111\"/>\n      <use x=\"116.162109\" xlink:href=\"#DejaVuSans-115\"/>\n      <use x=\"168.261719\" xlink:href=\"#DejaVuSans-105\"/>\n      <use x=\"196.044922\" xlink:href=\"#DejaVuSans-110\"/>\n      <use x=\"259.423828\" xlink:href=\"#DejaVuSans-101\"/>\n     </g>\n    </g>\n   </g>\n  </g>\n </g>\n <defs>\n  <clipPath id=\"p70b2cb41b2\">\n   <rect height=\"195.84\" width=\"334.8\" x=\"27.303649\" y=\"7.2\"/>\n  </clipPath>\n </defs>\n</svg>\n",
      "image/png": "[encoded data removed]"
     },
     "metadata": {
      "needs_background": "light"
     }
    }
   ],
   "source": [
    "import matplotlib.pyplot as plt\n",
    "\n",
    "pdf=pd.DataFrame(np.random.randn(1000, 4), index=ts.index,columns=['A', 'B', 'C', 'D'])\n",
    "df = df.cumsum()\n",
    "plt.figure(); df.plot(); plt.legend(loc='best')"
   ]
  },
  {
   "cell_type": "code",
   "execution_count": null,
   "metadata": {},
   "outputs": [],
   "source": []
  }
 ],
 "metadata": {
  "kernelspec": {
   "display_name": "Python 3",
   "language": "python",
   "name": "python3"
  },
  "language_info": {
   "codemirror_mode": {
    "name": "ipython",
    "version": 3
   },
   "file_extension": ".py",
   "mimetype": "text/x-python",
   "name": "python",
   "nbconvert_exporter": "python",
   "pygments_lexer": "ipython3",
   "version": "3.8.5-final"
  }
 },
 "nbformat": 4,
 "nbformat_minor": 2
}