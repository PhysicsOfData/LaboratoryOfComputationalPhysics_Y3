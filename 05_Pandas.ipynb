{
 "cells": [
  {
   "cell_type": "markdown",
   "metadata": {},
   "source": [
    "# Pandas\n",
    "\n",
    "The `numpy` module is excellent for numerical computations, but to handle missing data or arrays with mixed types takes more work. The `pandas` module is currently the most widely used tool for data manipulation, providing high-performance, easy-to-use data structures and advanced data analysis tools.\n",
    "\n",
    "In particular `pandas` features:\n",
    "\n",
    "* A fast and efficient \"DataFrame\" object for data manipulation with integrated indexing;\n",
    "* Tools for reading and writing data between in-memory data structures and different formats (CSV, Excel, SQL, HDF5);\n",
    "* Intelligent data alignment and integrated handling of missing data;\n",
    "* Intelligent label-based slicing, fancy indexing, and subsetting of large data sets;\n",
    "* Aggregating or transforming data with a powerful \"group-by\" engine; \n",
    "* High performance merging and joining of data sets;\n",
    "* Hierarchical axis indexing provides an intuitive way of working with high-dimensional data in a lower-dimensional data structure;\n",
    "* Time series-functionalities;\n",
    "* Highly optimized for performance, with critical code paths written in Cython or C.\n"
   ]
  },
  {
   "cell_type": "code",
   "execution_count": 9,
   "metadata": {},
   "outputs": [],
   "source": [
    "import pandas as pd\n",
    "import numpy as np"
   ]
  },
  {
   "cell_type": "markdown",
   "metadata": {},
   "source": [
    "## Series\n",
    "\n",
    "Series are completely equivalent to 1D array but with axis labels and the possibility to store heterogeneous elements. Of paramount importance are the time-series, used to define time evolutions of a phenomenon. \n"
   ]
  },
  {
   "cell_type": "code",
   "execution_count": 10,
   "metadata": {},
   "outputs": [
    {
     "output_type": "stream",
     "name": "stdout",
     "text": [
      "xs: a    0.0\nb    0.5\nc    1.0\nd    1.5\ne    2.0\nf    2.5\ng    3.0\nh    3.5\ni    4.0\nj    4.5\ndtype: float64 \n\nxs indexes: Index(['a', 'b', 'c', 'd', 'e', 'f', 'g', 'h', 'i', 'j'], dtype='object') \n\nxs values: [0.  0.5 1.  1.5 2.  2.5 3.  3.5 4.  4.5] <class 'numpy.ndarray'> \n\n2.5 2.5 3.5 \n\nd    1.5\nf    2.5\nh    3.5\ndtype: float64 \n\n<class 'pandas.core.series.Series'> \n\n"
     ]
    }
   ],
   "source": [
    "from string import ascii_lowercase as letters\n",
    "\n",
    "# Creating a series, accessing indexes, values and values by their index \n",
    "xs = pd.Series(np.arange(10)*0.5, index=tuple(letters[:10]))\n",
    "print (\"xs:\", xs,'\\n')\n",
    "print (\"xs indexes:\",xs.index,'\\n')\n",
    "# Values of the Series are actually a numpy array\n",
    "print (\"xs values:\", xs.values, type(xs.values),'\\n')\n",
    "print (xs['f'], xs.f, xs.h, '\\n')\n",
    "print (xs[['d', 'f', 'h']], '\\n')\n",
    "print (type(xs[['d', 'f', 'h']]), '\\n')"
   ]
  },
  {
   "cell_type": "code",
   "execution_count": 11,
   "metadata": {},
   "outputs": [
    {
     "output_type": "stream",
     "name": "stdout",
     "text": [
      "a    0.0\nb    0.5\nc    1.0\ndtype: float64 \n\nh    3.5\ni    4.0\nj    4.5\ndtype: float64 \n\na    0.0\nd    1.5\ng    3.0\nj    4.5\ndtype: float64 \n\nh    3.5\ni    4.0\nj    4.5\ndtype: float64 \n\na     1.000000\nb     1.648721\nc     2.718282\nd     4.481689\ne     7.389056\nf    12.182494\ng    20.085537\nh    33.115452\ni    54.598150\nj    90.017131\ndtype: float64 \n\n2.25 1.4361406616345072 \n\n"
     ]
    }
   ],
   "source": [
    "# Extracting elements and operations: same as numpy array\n",
    "print (xs[:3],'\\n')\n",
    "print (xs[7:], '\\n')\n",
    "print (xs[::3], '\\n')\n",
    "print (xs[xs>3], '\\n')\n",
    "print (np.exp(xs), '\\n')\n",
    "print (np.mean(xs), np.std(xs), '\\n')"
   ]
  },
  {
   "cell_type": "code",
   "execution_count": 12,
   "metadata": {},
   "outputs": [
    {
     "output_type": "execute_result",
     "data": {
      "text/plain": [
       "b         1\n",
       "a       cat\n",
       "c    [2, 3]\n",
       "dtype: object"
      ]
     },
     "metadata": {},
     "execution_count": 12
    }
   ],
   "source": [
    "# Series can be created from python dictionary too.\n",
    "# Not that the elements can be whatever!\n",
    "d = {'b' : 1, 'a' : 'cat', 'c' : [2,3]}\n",
    "pd.Series(d)\n",
    "\n"
   ]
  },
  {
   "cell_type": "markdown",
   "metadata": {},
   "source": [
    "A key difference between Series and ndarray is that operations between Series automatically align the data based on label. Thus, you can write computations without considering whether the Series involved have the same labels."
   ]
  },
  {
   "cell_type": "code",
   "execution_count": 13,
   "metadata": {},
   "outputs": [
    {
     "output_type": "stream",
     "name": "stdout",
     "text": [
      "a    1.217971\nb    0.810291\nc    0.654230\nd   -1.853778\ne   -0.285197\ndtype: float64\na         NaN\nb    1.620581\nc    1.308460\nd   -3.707556\ne         NaN\ndtype: float64\n"
     ]
    }
   ],
   "source": [
    "s = pd.Series(np.random.randn(5), index=tuple(letters[:5]))\n",
    "print(s)\n",
    "s = s[1:] + s[:-1]\n",
    "print(s)"
   ]
  },
  {
   "cell_type": "markdown",
   "metadata": {},
   "source": [
    "### Time series\n",
    "\n",
    "Time series are very often used to profile the behaviour of a quantity as a function of time. Pandas as a special index for that, `DatetimeIndex`, that can be created e.g. with the function `pd.data_range()`"
   ]
  },
  {
   "cell_type": "code",
   "execution_count": 14,
   "metadata": {},
   "outputs": [
    {
     "output_type": "stream",
     "name": "stdout",
     "text": [
      "2020-11-10\n2020-11-09 14:45:10.000015\n9/11/2020 14:45:00\nDatetimeIndex(['2020-09-11 14:45:00', '2020-09-12 14:45:00',\n               '2020-09-13 14:45:00', '2020-09-14 14:45:00',\n               '2020-09-15 14:45:00', '2020-09-16 14:45:00',\n               '2020-09-17 14:45:00'],\n              dtype='datetime64[ns]', freq='D')\nDatetimeIndex(['2020-09-11 14:45:00', '2020-09-11 14:45:01',\n               '2020-09-11 14:45:02', '2020-09-11 14:45:03',\n               '2020-09-11 14:45:04', '2020-09-11 14:45:05',\n               '2020-09-11 14:45:06', '2020-09-11 14:45:07',\n               '2020-09-11 14:45:08', '2020-09-11 14:45:09',\n               ...\n               '2020-09-11 15:44:50', '2020-09-11 15:44:51',\n               '2020-09-11 15:44:52', '2020-09-11 15:44:53',\n               '2020-09-11 15:44:54', '2020-09-11 15:44:55',\n               '2020-09-11 15:44:56', '2020-09-11 15:44:57',\n               '2020-09-11 15:44:58', '2020-09-11 15:44:59'],\n              dtype='datetime64[ns]', length=3600, freq='S')\n"
     ]
    }
   ],
   "source": [
    "# to define a date, the datetime module is very useful\n",
    "import datetime as dt\n",
    "date = dt.date.today()\n",
    "print(date)\n",
    "\n",
    "date = dt.datetime(2020,11,9,14,45,10,15)\n",
    "print (date)\n",
    "\n",
    "# otherwise, several notations are interpreted too\n",
    "date = 'Nov 9 2020'\n",
    "# or alternatively\n",
    "date = '9/11/2020 14:45:00'\n",
    "print (date)\n",
    "\n",
    "days = pd.date_range(date, periods=7, freq='D')\n",
    "print (days)\n",
    "\n",
    "seconds = pd.date_range(date, periods=3600, freq='s')\n",
    "print (seconds)\n"
   ]
  },
  {
   "cell_type": "markdown",
   "metadata": {},
   "source": [
    "To learn more about the frequency strings, please see this [link](http://pandas.pydata.org/pandas-docs/stable/timeseries.html#offset-aliases)\n",
    "\n",
    "\n",
    "Timestamped data is the most basic type of time series data that associates values with points in time. For pandas objects it means using the points in time.\n",
    "\n",
    "functions like `pd.to_datetime` can be used, for instance, when reading information as string from a dataset"
   ]
  },
  {
   "cell_type": "code",
   "execution_count": 15,
   "metadata": {},
   "outputs": [
    {
     "output_type": "stream",
     "name": "stdout",
     "text": [
      "1604880000000000000\n<class 'pandas._libs.tslibs.timestamps.Timestamp'>\n2010-11-12 00:00:00\n2010-11-12 00:00:00\n1289520000000000000\n"
     ]
    }
   ],
   "source": [
    "tstamp = pd.Timestamp(dt.datetime(2020, 11, 9))\n",
    "\n",
    "# internally it counts the nanoseconds from January 1st 19\n",
    "#tstamp = pd.Timestamp(dt.datetime(1970, 1, 1, 0, 0, 0, 1))\n",
    "print(tstamp.value)\n",
    "\n",
    "# when creating a timestamp the format can be explicitly passed\n",
    "ts = pd.to_datetime('2010/11/12', format='%Y/%m/%d')\n",
    "print (type(ts))\n",
    "print (ts)\n",
    "ts = pd.to_datetime('12-11-2010 00:00', format='%d-%m-%Y %H:%M')\n",
    "print (ts)\n",
    "print (ts.value)\n",
    "\n"
   ]
  },
  {
   "cell_type": "markdown",
   "metadata": {},
   "source": [
    "A standard series can be created and (range of) elements can be used as indexes"
   ]
  },
  {
   "cell_type": "code",
   "execution_count": 16,
   "metadata": {
    "scrolled": true
   },
   "outputs": [
    {
     "output_type": "stream",
     "name": "stdout",
     "text": [
      "2020-09-11 14:45:00    10.521526\n2020-09-12 14:45:00    10.629055\n2020-09-13 14:45:00    10.065683\n2020-09-14 14:45:00    10.332129\nFreq: D, dtype: float64 \n\nSeries([], Freq: D, dtype: float64) \n\n"
     ]
    }
   ],
   "source": [
    "tseries = pd.Series(np.random.normal(10, 1, len(days)), index=days)\n",
    "# Extracting elements\n",
    "print (tseries[0:4], '\\n')\n",
    "print (tseries['2020-11-9':'2020-11-11'], '\\n') # Note - includes end time\n"
   ]
  },
  {
   "cell_type": "markdown",
   "metadata": {},
   "source": [
    "`pd.to_datetime` can also be used to create a `DatetimeIndex`:"
   ]
  },
  {
   "cell_type": "code",
   "execution_count": 17,
   "metadata": {},
   "outputs": [
    {
     "output_type": "execute_result",
     "data": {
      "text/plain": [
       "DatetimeIndex(['1980-02-04', '1980-02-05', '1980-02-06', '1980-02-07'], dtype='datetime64[ns]', freq=None)"
      ]
     },
     "metadata": {},
     "execution_count": 17
    }
   ],
   "source": [
    "pd.to_datetime([1, 2, 3, 4], unit='D', origin=pd.Timestamp('1980-02-03'))"
   ]
  },
  {
   "cell_type": "markdown",
   "metadata": {},
   "source": [
    "## DataFrame\n",
    "\n",
    "A pandas DataFrame is like a simple tabular spreadsheet. For future reference (or for people already familiar with R), a pandas DataFrame is very similar to the R DataFrame.\n",
    "\n",
    "Each column in a DataFrame is a Series object.\n",
    "\n",
    "The element can be whatever, missing data are dealt with too (as NaN)"
   ]
  },
  {
   "cell_type": "markdown",
   "metadata": {},
   "source": [
    "### DataFrame creation\n",
    "\n",
    "A DataFrame can be created implicitly, with, e.g., a DatatimeIndex object as index:"
   ]
  },
  {
   "cell_type": "code",
   "execution_count": 18,
   "metadata": {},
   "outputs": [
    {
     "output_type": "execute_result",
     "data": {
      "text/plain": [
       "                            A         B         C         D\n",
       "2020-11-09 14:45:00 -1.188857 -1.725575 -0.555104  0.700103\n",
       "2020-11-09 15:45:00  1.520583  0.557920  0.815599  1.472590\n",
       "2020-11-09 16:45:00  1.069117  0.372222 -0.578085  2.339969\n",
       "2020-11-09 17:45:00  0.790946 -0.595704 -1.189357  0.809138\n",
       "2020-11-09 18:45:00  1.751363  2.790302 -0.767250  2.375252\n",
       "2020-11-09 19:45:00 -1.593051 -0.469726  0.060661  0.495177\n",
       "2020-11-09 20:45:00  1.134519 -1.079502  1.338322 -0.695744\n",
       "2020-11-09 21:45:00  0.905063  0.111188 -0.319909 -1.411884\n",
       "2020-11-09 22:45:00 -1.131880  0.561689 -0.914100 -2.666007\n",
       "2020-11-09 23:45:00 -1.044950 -0.066742 -0.915086 -0.307919"
      ],
      "text/html": "<div>\n<style scoped>\n    .dataframe tbody tr th:only-of-type {\n        vertical-align: middle;\n    }\n\n    .dataframe tbody tr th {\n        vertical-align: top;\n    }\n\n    .dataframe thead th {\n        text-align: right;\n    }\n</style>\n<table border=\"1\" class=\"dataframe\">\n  <thead>\n    <tr style=\"text-align: right;\">\n      <th></th>\n      <th>A</th>\n      <th>B</th>\n      <th>C</th>\n      <th>D</th>\n    </tr>\n  </thead>\n  <tbody>\n    <tr>\n      <th>2020-11-09 14:45:00</th>\n      <td>-1.188857</td>\n      <td>-1.725575</td>\n      <td>-0.555104</td>\n      <td>0.700103</td>\n    </tr>\n    <tr>\n      <th>2020-11-09 15:45:00</th>\n      <td>1.520583</td>\n      <td>0.557920</td>\n      <td>0.815599</td>\n      <td>1.472590</td>\n    </tr>\n    <tr>\n      <th>2020-11-09 16:45:00</th>\n      <td>1.069117</td>\n      <td>0.372222</td>\n      <td>-0.578085</td>\n      <td>2.339969</td>\n    </tr>\n    <tr>\n      <th>2020-11-09 17:45:00</th>\n      <td>0.790946</td>\n      <td>-0.595704</td>\n      <td>-1.189357</td>\n      <td>0.809138</td>\n    </tr>\n    <tr>\n      <th>2020-11-09 18:45:00</th>\n      <td>1.751363</td>\n      <td>2.790302</td>\n      <td>-0.767250</td>\n      <td>2.375252</td>\n    </tr>\n    <tr>\n      <th>2020-11-09 19:45:00</th>\n      <td>-1.593051</td>\n      <td>-0.469726</td>\n      <td>0.060661</td>\n      <td>0.495177</td>\n    </tr>\n    <tr>\n      <th>2020-11-09 20:45:00</th>\n      <td>1.134519</td>\n      <td>-1.079502</td>\n      <td>1.338322</td>\n      <td>-0.695744</td>\n    </tr>\n    <tr>\n      <th>2020-11-09 21:45:00</th>\n      <td>0.905063</td>\n      <td>0.111188</td>\n      <td>-0.319909</td>\n      <td>-1.411884</td>\n    </tr>\n    <tr>\n      <th>2020-11-09 22:45:00</th>\n      <td>-1.131880</td>\n      <td>0.561689</td>\n      <td>-0.914100</td>\n      <td>-2.666007</td>\n    </tr>\n    <tr>\n      <th>2020-11-09 23:45:00</th>\n      <td>-1.044950</td>\n      <td>-0.066742</td>\n      <td>-0.915086</td>\n      <td>-0.307919</td>\n    </tr>\n  </tbody>\n</table>\n</div>"
     },
     "metadata": {},
     "execution_count": 18
    }
   ],
   "source": [
    "entries=10\n",
    "dates=pd.date_range('11/9/2020 14:45:00',freq='h', periods=entries)\n",
    "df = pd.DataFrame(np.random.randn(entries,4), index=dates, columns=['A','B','C','D'])\n",
    "df\n"
   ]
  },
  {
   "cell_type": "markdown",
   "metadata": {},
   "source": [
    "or by means of a dictionary:\n"
   ]
  },
  {
   "cell_type": "code",
   "execution_count": 19,
   "metadata": {},
   "outputs": [
    {
     "output_type": "execute_result",
     "data": {
      "text/plain": [
       "     A          B    C   D      E\n",
       "0  1.0 2013-01-02  1.0   7   test\n",
       "1  1.0 2013-01-02  1.0   8  train\n",
       "2  1.0 2013-01-02  1.0   9   test\n",
       "3  1.0 2013-01-02  1.0  10  train"
      ],
      "text/html": "<div>\n<style scoped>\n    .dataframe tbody tr th:only-of-type {\n        vertical-align: middle;\n    }\n\n    .dataframe tbody tr th {\n        vertical-align: top;\n    }\n\n    .dataframe thead th {\n        text-align: right;\n    }\n</style>\n<table border=\"1\" class=\"dataframe\">\n  <thead>\n    <tr style=\"text-align: right;\">\n      <th></th>\n      <th>A</th>\n      <th>B</th>\n      <th>C</th>\n      <th>D</th>\n      <th>E</th>\n    </tr>\n  </thead>\n  <tbody>\n    <tr>\n      <th>0</th>\n      <td>1.0</td>\n      <td>2013-01-02</td>\n      <td>1.0</td>\n      <td>7</td>\n      <td>test</td>\n    </tr>\n    <tr>\n      <th>1</th>\n      <td>1.0</td>\n      <td>2013-01-02</td>\n      <td>1.0</td>\n      <td>8</td>\n      <td>train</td>\n    </tr>\n    <tr>\n      <th>2</th>\n      <td>1.0</td>\n      <td>2013-01-02</td>\n      <td>1.0</td>\n      <td>9</td>\n      <td>test</td>\n    </tr>\n    <tr>\n      <th>3</th>\n      <td>1.0</td>\n      <td>2013-01-02</td>\n      <td>1.0</td>\n      <td>10</td>\n      <td>train</td>\n    </tr>\n  </tbody>\n</table>\n</div>"
     },
     "metadata": {},
     "execution_count": 19
    }
   ],
   "source": [
    "df2 = pd.DataFrame(\n",
    "    { 'A' : 1.,\n",
    "      'B' : pd.Timestamp('20130102'),\n",
    "      'C' : pd.Series(1,index=range(4),dtype='float32'),\n",
    "      'D' : np.arange(7,11),\n",
    "      'E' : pd.Categorical([\"test\",\"train\",\"test\",\"train\"]),\n",
    "    }\n",
    "    )\n",
    "df2"
   ]
  },
  {
   "cell_type": "markdown",
   "metadata": {},
   "source": [
    "### Viewing Data"
   ]
  },
  {
   "cell_type": "code",
   "execution_count": 20,
   "metadata": {},
   "outputs": [
    {
     "output_type": "execute_result",
     "data": {
      "text/plain": [
       "                            A         B         C         D\n",
       "2020-11-09 14:45:00 -1.188857 -1.725575 -0.555104  0.700103\n",
       "2020-11-09 15:45:00  1.520583  0.557920  0.815599  1.472590\n",
       "2020-11-09 16:45:00  1.069117  0.372222 -0.578085  2.339969\n",
       "2020-11-09 17:45:00  0.790946 -0.595704 -1.189357  0.809138\n",
       "2020-11-09 18:45:00  1.751363  2.790302 -0.767250  2.375252"
      ],
      "text/html": "<div>\n<style scoped>\n    .dataframe tbody tr th:only-of-type {\n        vertical-align: middle;\n    }\n\n    .dataframe tbody tr th {\n        vertical-align: top;\n    }\n\n    .dataframe thead th {\n        text-align: right;\n    }\n</style>\n<table border=\"1\" class=\"dataframe\">\n  <thead>\n    <tr style=\"text-align: right;\">\n      <th></th>\n      <th>A</th>\n      <th>B</th>\n      <th>C</th>\n      <th>D</th>\n    </tr>\n  </thead>\n  <tbody>\n    <tr>\n      <th>2020-11-09 14:45:00</th>\n      <td>-1.188857</td>\n      <td>-1.725575</td>\n      <td>-0.555104</td>\n      <td>0.700103</td>\n    </tr>\n    <tr>\n      <th>2020-11-09 15:45:00</th>\n      <td>1.520583</td>\n      <td>0.557920</td>\n      <td>0.815599</td>\n      <td>1.472590</td>\n    </tr>\n    <tr>\n      <th>2020-11-09 16:45:00</th>\n      <td>1.069117</td>\n      <td>0.372222</td>\n      <td>-0.578085</td>\n      <td>2.339969</td>\n    </tr>\n    <tr>\n      <th>2020-11-09 17:45:00</th>\n      <td>0.790946</td>\n      <td>-0.595704</td>\n      <td>-1.189357</td>\n      <td>0.809138</td>\n    </tr>\n    <tr>\n      <th>2020-11-09 18:45:00</th>\n      <td>1.751363</td>\n      <td>2.790302</td>\n      <td>-0.767250</td>\n      <td>2.375252</td>\n    </tr>\n  </tbody>\n</table>\n</div>"
     },
     "metadata": {},
     "execution_count": 20
    }
   ],
   "source": [
    "df.head()"
   ]
  },
  {
   "cell_type": "code",
   "execution_count": 21,
   "metadata": {},
   "outputs": [
    {
     "output_type": "execute_result",
     "data": {
      "text/plain": [
       "                            A         B         C         D\n",
       "2020-11-09 20:45:00  1.134519 -1.079502  1.338322 -0.695744\n",
       "2020-11-09 21:45:00  0.905063  0.111188 -0.319909 -1.411884\n",
       "2020-11-09 22:45:00 -1.131880  0.561689 -0.914100 -2.666007\n",
       "2020-11-09 23:45:00 -1.044950 -0.066742 -0.915086 -0.307919"
      ],
      "text/html": "<div>\n<style scoped>\n    .dataframe tbody tr th:only-of-type {\n        vertical-align: middle;\n    }\n\n    .dataframe tbody tr th {\n        vertical-align: top;\n    }\n\n    .dataframe thead th {\n        text-align: right;\n    }\n</style>\n<table border=\"1\" class=\"dataframe\">\n  <thead>\n    <tr style=\"text-align: right;\">\n      <th></th>\n      <th>A</th>\n      <th>B</th>\n      <th>C</th>\n      <th>D</th>\n    </tr>\n  </thead>\n  <tbody>\n    <tr>\n      <th>2020-11-09 20:45:00</th>\n      <td>1.134519</td>\n      <td>-1.079502</td>\n      <td>1.338322</td>\n      <td>-0.695744</td>\n    </tr>\n    <tr>\n      <th>2020-11-09 21:45:00</th>\n      <td>0.905063</td>\n      <td>0.111188</td>\n      <td>-0.319909</td>\n      <td>-1.411884</td>\n    </tr>\n    <tr>\n      <th>2020-11-09 22:45:00</th>\n      <td>-1.131880</td>\n      <td>0.561689</td>\n      <td>-0.914100</td>\n      <td>-2.666007</td>\n    </tr>\n    <tr>\n      <th>2020-11-09 23:45:00</th>\n      <td>-1.044950</td>\n      <td>-0.066742</td>\n      <td>-0.915086</td>\n      <td>-0.307919</td>\n    </tr>\n  </tbody>\n</table>\n</div>"
     },
     "metadata": {},
     "execution_count": 21
    }
   ],
   "source": [
    "df.tail(4)"
   ]
  },
  {
   "cell_type": "code",
   "execution_count": 22,
   "metadata": {},
   "outputs": [
    {
     "output_type": "execute_result",
     "data": {
      "text/plain": [
       "DatetimeIndex(['2020-11-09 14:45:00', '2020-11-09 15:45:00',\n",
       "               '2020-11-09 16:45:00', '2020-11-09 17:45:00',\n",
       "               '2020-11-09 18:45:00', '2020-11-09 19:45:00',\n",
       "               '2020-11-09 20:45:00', '2020-11-09 21:45:00',\n",
       "               '2020-11-09 22:45:00', '2020-11-09 23:45:00'],\n",
       "              dtype='datetime64[ns]', freq='H')"
      ]
     },
     "metadata": {},
     "execution_count": 22
    }
   ],
   "source": [
    "df.index"
   ]
  },
  {
   "cell_type": "code",
   "execution_count": 23,
   "metadata": {},
   "outputs": [
    {
     "output_type": "execute_result",
     "data": {
      "text/plain": [
       "Index(['A', 'B', 'C', 'D'], dtype='object')"
      ]
     },
     "metadata": {},
     "execution_count": 23
    }
   ],
   "source": [
    "df.columns"
   ]
  },
  {
   "cell_type": "code",
   "execution_count": 24,
   "metadata": {},
   "outputs": [
    {
     "output_type": "execute_result",
     "data": {
      "text/plain": [
       "array([[-1.18885701, -1.72557481, -0.55510394,  0.70010253],\n",
       "       [ 1.52058259,  0.55792049,  0.81559937,  1.47259016],\n",
       "       [ 1.06911668,  0.37222222, -0.57808497,  2.33996878],\n",
       "       [ 0.79094564, -0.59570396, -1.18935677,  0.80913849],\n",
       "       [ 1.75136294,  2.79030223, -0.76725049,  2.37525231],\n",
       "       [-1.59305099, -0.46972589,  0.06066087,  0.49517708],\n",
       "       [ 1.13451947, -1.07950246,  1.33832173, -0.69574373],\n",
       "       [ 0.90506294,  0.11118769, -0.31990892, -1.41188364],\n",
       "       [-1.13188021,  0.56168944, -0.91410046, -2.66600746],\n",
       "       [-1.04495006, -0.06674215, -0.91508574, -0.30791851]])"
      ]
     },
     "metadata": {},
     "execution_count": 24
    }
   ],
   "source": [
    "df.values"
   ]
  },
  {
   "cell_type": "code",
   "execution_count": 25,
   "metadata": {},
   "outputs": [
    {
     "output_type": "execute_result",
     "data": {
      "text/plain": [
       "               A          B          C          D\n",
       "count  10.000000  10.000000  10.000000  10.000000\n",
       "mean    0.221285   0.045607  -0.302431   0.311068\n",
       "std     1.294815   1.214064   0.814194   1.612042\n",
       "min    -1.593051  -1.725575  -1.189357  -2.666007\n",
       "25%    -1.110148  -0.564209  -0.877388  -0.598787\n",
       "50%     0.848004   0.022223  -0.566594   0.597640\n",
       "75%     1.118169   0.511496  -0.034482   1.306727\n",
       "max     1.751363   2.790302   1.338322   2.375252"
      ],
      "text/html": "<div>\n<style scoped>\n    .dataframe tbody tr th:only-of-type {\n        vertical-align: middle;\n    }\n\n    .dataframe tbody tr th {\n        vertical-align: top;\n    }\n\n    .dataframe thead th {\n        text-align: right;\n    }\n</style>\n<table border=\"1\" class=\"dataframe\">\n  <thead>\n    <tr style=\"text-align: right;\">\n      <th></th>\n      <th>A</th>\n      <th>B</th>\n      <th>C</th>\n      <th>D</th>\n    </tr>\n  </thead>\n  <tbody>\n    <tr>\n      <th>count</th>\n      <td>10.000000</td>\n      <td>10.000000</td>\n      <td>10.000000</td>\n      <td>10.000000</td>\n    </tr>\n    <tr>\n      <th>mean</th>\n      <td>0.221285</td>\n      <td>0.045607</td>\n      <td>-0.302431</td>\n      <td>0.311068</td>\n    </tr>\n    <tr>\n      <th>std</th>\n      <td>1.294815</td>\n      <td>1.214064</td>\n      <td>0.814194</td>\n      <td>1.612042</td>\n    </tr>\n    <tr>\n      <th>min</th>\n      <td>-1.593051</td>\n      <td>-1.725575</td>\n      <td>-1.189357</td>\n      <td>-2.666007</td>\n    </tr>\n    <tr>\n      <th>25%</th>\n      <td>-1.110148</td>\n      <td>-0.564209</td>\n      <td>-0.877388</td>\n      <td>-0.598787</td>\n    </tr>\n    <tr>\n      <th>50%</th>\n      <td>0.848004</td>\n      <td>0.022223</td>\n      <td>-0.566594</td>\n      <td>0.597640</td>\n    </tr>\n    <tr>\n      <th>75%</th>\n      <td>1.118169</td>\n      <td>0.511496</td>\n      <td>-0.034482</td>\n      <td>1.306727</td>\n    </tr>\n    <tr>\n      <th>max</th>\n      <td>1.751363</td>\n      <td>2.790302</td>\n      <td>1.338322</td>\n      <td>2.375252</td>\n    </tr>\n  </tbody>\n</table>\n</div>"
     },
     "metadata": {},
     "execution_count": 25
    }
   ],
   "source": [
    "df.describe()"
   ]
  },
  {
   "cell_type": "code",
   "execution_count": 26,
   "metadata": {},
   "outputs": [
    {
     "output_type": "execute_result",
     "data": {
      "text/plain": [
       "   2020-11-09 14:45:00  2020-11-09 15:45:00  2020-11-09 16:45:00  \\\n",
       "A            -1.188857             1.520583             1.069117   \n",
       "B            -1.725575             0.557920             0.372222   \n",
       "C            -0.555104             0.815599            -0.578085   \n",
       "D             0.700103             1.472590             2.339969   \n",
       "\n",
       "   2020-11-09 17:45:00  2020-11-09 18:45:00  2020-11-09 19:45:00  \\\n",
       "A             0.790946             1.751363            -1.593051   \n",
       "B            -0.595704             2.790302            -0.469726   \n",
       "C            -1.189357            -0.767250             0.060661   \n",
       "D             0.809138             2.375252             0.495177   \n",
       "\n",
       "   2020-11-09 20:45:00  2020-11-09 21:45:00  2020-11-09 22:45:00  \\\n",
       "A             1.134519             0.905063            -1.131880   \n",
       "B            -1.079502             0.111188             0.561689   \n",
       "C             1.338322            -0.319909            -0.914100   \n",
       "D            -0.695744            -1.411884            -2.666007   \n",
       "\n",
       "   2020-11-09 23:45:00  \n",
       "A            -1.044950  \n",
       "B            -0.066742  \n",
       "C            -0.915086  \n",
       "D            -0.307919  "
      ],
      "text/html": "<div>\n<style scoped>\n    .dataframe tbody tr th:only-of-type {\n        vertical-align: middle;\n    }\n\n    .dataframe tbody tr th {\n        vertical-align: top;\n    }\n\n    .dataframe thead th {\n        text-align: right;\n    }\n</style>\n<table border=\"1\" class=\"dataframe\">\n  <thead>\n    <tr style=\"text-align: right;\">\n      <th></th>\n      <th>2020-11-09 14:45:00</th>\n      <th>2020-11-09 15:45:00</th>\n      <th>2020-11-09 16:45:00</th>\n      <th>2020-11-09 17:45:00</th>\n      <th>2020-11-09 18:45:00</th>\n      <th>2020-11-09 19:45:00</th>\n      <th>2020-11-09 20:45:00</th>\n      <th>2020-11-09 21:45:00</th>\n      <th>2020-11-09 22:45:00</th>\n      <th>2020-11-09 23:45:00</th>\n    </tr>\n  </thead>\n  <tbody>\n    <tr>\n      <th>A</th>\n      <td>-1.188857</td>\n      <td>1.520583</td>\n      <td>1.069117</td>\n      <td>0.790946</td>\n      <td>1.751363</td>\n      <td>-1.593051</td>\n      <td>1.134519</td>\n      <td>0.905063</td>\n      <td>-1.131880</td>\n      <td>-1.044950</td>\n    </tr>\n    <tr>\n      <th>B</th>\n      <td>-1.725575</td>\n      <td>0.557920</td>\n      <td>0.372222</td>\n      <td>-0.595704</td>\n      <td>2.790302</td>\n      <td>-0.469726</td>\n      <td>-1.079502</td>\n      <td>0.111188</td>\n      <td>0.561689</td>\n      <td>-0.066742</td>\n    </tr>\n    <tr>\n      <th>C</th>\n      <td>-0.555104</td>\n      <td>0.815599</td>\n      <td>-0.578085</td>\n      <td>-1.189357</td>\n      <td>-0.767250</td>\n      <td>0.060661</td>\n      <td>1.338322</td>\n      <td>-0.319909</td>\n      <td>-0.914100</td>\n      <td>-0.915086</td>\n    </tr>\n    <tr>\n      <th>D</th>\n      <td>0.700103</td>\n      <td>1.472590</td>\n      <td>2.339969</td>\n      <td>0.809138</td>\n      <td>2.375252</td>\n      <td>0.495177</td>\n      <td>-0.695744</td>\n      <td>-1.411884</td>\n      <td>-2.666007</td>\n      <td>-0.307919</td>\n    </tr>\n  </tbody>\n</table>\n</div>"
     },
     "metadata": {},
     "execution_count": 26
    }
   ],
   "source": [
    "df.T"
   ]
  },
  {
   "cell_type": "code",
   "execution_count": 27,
   "metadata": {},
   "outputs": [
    {
     "output_type": "execute_result",
     "data": {
      "text/plain": [
       "                            D         C         B         A\n",
       "2020-11-09 14:45:00  0.700103 -0.555104 -1.725575 -1.188857\n",
       "2020-11-09 15:45:00  1.472590  0.815599  0.557920  1.520583\n",
       "2020-11-09 16:45:00  2.339969 -0.578085  0.372222  1.069117\n",
       "2020-11-09 17:45:00  0.809138 -1.189357 -0.595704  0.790946\n",
       "2020-11-09 18:45:00  2.375252 -0.767250  2.790302  1.751363\n",
       "2020-11-09 19:45:00  0.495177  0.060661 -0.469726 -1.593051\n",
       "2020-11-09 20:45:00 -0.695744  1.338322 -1.079502  1.134519\n",
       "2020-11-09 21:45:00 -1.411884 -0.319909  0.111188  0.905063\n",
       "2020-11-09 22:45:00 -2.666007 -0.914100  0.561689 -1.131880\n",
       "2020-11-09 23:45:00 -0.307919 -0.915086 -0.066742 -1.044950"
      ],
      "text/html": "<div>\n<style scoped>\n    .dataframe tbody tr th:only-of-type {\n        vertical-align: middle;\n    }\n\n    .dataframe tbody tr th {\n        vertical-align: top;\n    }\n\n    .dataframe thead th {\n        text-align: right;\n    }\n</style>\n<table border=\"1\" class=\"dataframe\">\n  <thead>\n    <tr style=\"text-align: right;\">\n      <th></th>\n      <th>D</th>\n      <th>C</th>\n      <th>B</th>\n      <th>A</th>\n    </tr>\n  </thead>\n  <tbody>\n    <tr>\n      <th>2020-11-09 14:45:00</th>\n      <td>0.700103</td>\n      <td>-0.555104</td>\n      <td>-1.725575</td>\n      <td>-1.188857</td>\n    </tr>\n    <tr>\n      <th>2020-11-09 15:45:00</th>\n      <td>1.472590</td>\n      <td>0.815599</td>\n      <td>0.557920</td>\n      <td>1.520583</td>\n    </tr>\n    <tr>\n      <th>2020-11-09 16:45:00</th>\n      <td>2.339969</td>\n      <td>-0.578085</td>\n      <td>0.372222</td>\n      <td>1.069117</td>\n    </tr>\n    <tr>\n      <th>2020-11-09 17:45:00</th>\n      <td>0.809138</td>\n      <td>-1.189357</td>\n      <td>-0.595704</td>\n      <td>0.790946</td>\n    </tr>\n    <tr>\n      <th>2020-11-09 18:45:00</th>\n      <td>2.375252</td>\n      <td>-0.767250</td>\n      <td>2.790302</td>\n      <td>1.751363</td>\n    </tr>\n    <tr>\n      <th>2020-11-09 19:45:00</th>\n      <td>0.495177</td>\n      <td>0.060661</td>\n      <td>-0.469726</td>\n      <td>-1.593051</td>\n    </tr>\n    <tr>\n      <th>2020-11-09 20:45:00</th>\n      <td>-0.695744</td>\n      <td>1.338322</td>\n      <td>-1.079502</td>\n      <td>1.134519</td>\n    </tr>\n    <tr>\n      <th>2020-11-09 21:45:00</th>\n      <td>-1.411884</td>\n      <td>-0.319909</td>\n      <td>0.111188</td>\n      <td>0.905063</td>\n    </tr>\n    <tr>\n      <th>2020-11-09 22:45:00</th>\n      <td>-2.666007</td>\n      <td>-0.914100</td>\n      <td>0.561689</td>\n      <td>-1.131880</td>\n    </tr>\n    <tr>\n      <th>2020-11-09 23:45:00</th>\n      <td>-0.307919</td>\n      <td>-0.915086</td>\n      <td>-0.066742</td>\n      <td>-1.044950</td>\n    </tr>\n  </tbody>\n</table>\n</div>"
     },
     "metadata": {},
     "execution_count": 27
    }
   ],
   "source": [
    "df.sort_index(axis=1,ascending=False)"
   ]
  },
  {
   "cell_type": "code",
   "execution_count": 28,
   "metadata": {},
   "outputs": [
    {
     "output_type": "execute_result",
     "data": {
      "text/plain": [
       "                            A         B         C         D\n",
       "2020-11-09 17:45:00  0.790946 -0.595704 -1.189357  0.809138\n",
       "2020-11-09 23:45:00 -1.044950 -0.066742 -0.915086 -0.307919\n",
       "2020-11-09 22:45:00 -1.131880  0.561689 -0.914100 -2.666007\n",
       "2020-11-09 18:45:00  1.751363  2.790302 -0.767250  2.375252\n",
       "2020-11-09 16:45:00  1.069117  0.372222 -0.578085  2.339969\n",
       "2020-11-09 14:45:00 -1.188857 -1.725575 -0.555104  0.700103\n",
       "2020-11-09 21:45:00  0.905063  0.111188 -0.319909 -1.411884\n",
       "2020-11-09 19:45:00 -1.593051 -0.469726  0.060661  0.495177\n",
       "2020-11-09 15:45:00  1.520583  0.557920  0.815599  1.472590\n",
       "2020-11-09 20:45:00  1.134519 -1.079502  1.338322 -0.695744"
      ],
      "text/html": "<div>\n<style scoped>\n    .dataframe tbody tr th:only-of-type {\n        vertical-align: middle;\n    }\n\n    .dataframe tbody tr th {\n        vertical-align: top;\n    }\n\n    .dataframe thead th {\n        text-align: right;\n    }\n</style>\n<table border=\"1\" class=\"dataframe\">\n  <thead>\n    <tr style=\"text-align: right;\">\n      <th></th>\n      <th>A</th>\n      <th>B</th>\n      <th>C</th>\n      <th>D</th>\n    </tr>\n  </thead>\n  <tbody>\n    <tr>\n      <th>2020-11-09 17:45:00</th>\n      <td>0.790946</td>\n      <td>-0.595704</td>\n      <td>-1.189357</td>\n      <td>0.809138</td>\n    </tr>\n    <tr>\n      <th>2020-11-09 23:45:00</th>\n      <td>-1.044950</td>\n      <td>-0.066742</td>\n      <td>-0.915086</td>\n      <td>-0.307919</td>\n    </tr>\n    <tr>\n      <th>2020-11-09 22:45:00</th>\n      <td>-1.131880</td>\n      <td>0.561689</td>\n      <td>-0.914100</td>\n      <td>-2.666007</td>\n    </tr>\n    <tr>\n      <th>2020-11-09 18:45:00</th>\n      <td>1.751363</td>\n      <td>2.790302</td>\n      <td>-0.767250</td>\n      <td>2.375252</td>\n    </tr>\n    <tr>\n      <th>2020-11-09 16:45:00</th>\n      <td>1.069117</td>\n      <td>0.372222</td>\n      <td>-0.578085</td>\n      <td>2.339969</td>\n    </tr>\n    <tr>\n      <th>2020-11-09 14:45:00</th>\n      <td>-1.188857</td>\n      <td>-1.725575</td>\n      <td>-0.555104</td>\n      <td>0.700103</td>\n    </tr>\n    <tr>\n      <th>2020-11-09 21:45:00</th>\n      <td>0.905063</td>\n      <td>0.111188</td>\n      <td>-0.319909</td>\n      <td>-1.411884</td>\n    </tr>\n    <tr>\n      <th>2020-11-09 19:45:00</th>\n      <td>-1.593051</td>\n      <td>-0.469726</td>\n      <td>0.060661</td>\n      <td>0.495177</td>\n    </tr>\n    <tr>\n      <th>2020-11-09 15:45:00</th>\n      <td>1.520583</td>\n      <td>0.557920</td>\n      <td>0.815599</td>\n      <td>1.472590</td>\n    </tr>\n    <tr>\n      <th>2020-11-09 20:45:00</th>\n      <td>1.134519</td>\n      <td>-1.079502</td>\n      <td>1.338322</td>\n      <td>-0.695744</td>\n    </tr>\n  </tbody>\n</table>\n</div>"
     },
     "metadata": {},
     "execution_count": 28
    }
   ],
   "source": [
    "df.sort_values(by=\"C\")"
   ]
  },
  {
   "cell_type": "markdown",
   "metadata": {},
   "source": [
    "## Selection\n",
    "\n",
    "### Getting slices\n",
    "\n",
    "The following show how to get part of the DataFrame (i.e. not just the elements)"
   ]
  },
  {
   "cell_type": "code",
   "execution_count": 29,
   "metadata": {},
   "outputs": [
    {
     "output_type": "stream",
     "name": "stdout",
     "text": [
      "2020-11-09 14:45:00   -1.188857\n2020-11-09 15:45:00    1.520583\n2020-11-09 16:45:00    1.069117\n2020-11-09 17:45:00    0.790946\n2020-11-09 18:45:00    1.751363\n2020-11-09 19:45:00   -1.593051\n2020-11-09 20:45:00    1.134519\n2020-11-09 21:45:00    0.905063\n2020-11-09 22:45:00   -1.131880\n2020-11-09 23:45:00   -1.044950\nFreq: H, Name: A, dtype: float64 \n\n2020-11-09 14:45:00   -1.188857\n2020-11-09 15:45:00    1.520583\n2020-11-09 16:45:00    1.069117\n2020-11-09 17:45:00    0.790946\n2020-11-09 18:45:00    1.751363\n2020-11-09 19:45:00   -1.593051\n2020-11-09 20:45:00    1.134519\n2020-11-09 21:45:00    0.905063\n2020-11-09 22:45:00   -1.131880\n2020-11-09 23:45:00   -1.044950\nFreq: H, Name: A, dtype: float64\n"
     ]
    }
   ],
   "source": [
    "## standard and safe\n",
    "print (df['A'],'\\n')\n",
    "\n",
    "## equivalent but dangerous (imagine blank spaces in the name of the column..)\n",
    "print (df.A)"
   ]
  },
  {
   "cell_type": "code",
   "execution_count": 30,
   "metadata": {},
   "outputs": [
    {
     "output_type": "stream",
     "name": "stdout",
     "text": [
      "                            A         B         C         D\n2020-11-09 14:45:00 -1.188857 -1.725575 -0.555104  0.700103\n2020-11-09 15:45:00  1.520583  0.557920  0.815599  1.472590\n2020-11-09 16:45:00  1.069117  0.372222 -0.578085  2.339969\n                            A         B         C         D\n2020-11-09 14:45:00 -1.188857 -1.725575 -0.555104  0.700103\n2020-11-09 15:45:00  1.520583  0.557920  0.815599  1.472590\n2020-11-09 16:45:00  1.069117  0.372222 -0.578085  2.339969\n"
     ]
    }
   ],
   "source": [
    "# selecting rows by counting\n",
    "print (df[0:3])\n",
    "\n",
    "# or by index\n",
    "print (df[\"2020-11-09 14:45:00\":\"2020-11-09 16:45:00\"])"
   ]
  },
  {
   "cell_type": "markdown",
   "metadata": {},
   "source": [
    "### Selection by label"
   ]
  },
  {
   "cell_type": "code",
   "execution_count": 31,
   "metadata": {},
   "outputs": [
    {
     "output_type": "execute_result",
     "data": {
      "text/plain": [
       "A   -1.188857\n",
       "B   -1.725575\n",
       "C   -0.555104\n",
       "D    0.700103\n",
       "Name: 2020-11-09 14:45:00, dtype: float64"
      ]
     },
     "metadata": {},
     "execution_count": 31
    }
   ],
   "source": [
    "# getting a cross section (part of the DataFrame) using a label\n",
    "df.loc[dates[0]]"
   ]
  },
  {
   "cell_type": "code",
   "execution_count": 32,
   "metadata": {},
   "outputs": [
    {
     "output_type": "execute_result",
     "data": {
      "text/plain": [
       "                            A         B\n",
       "2020-11-09 14:45:00 -1.188857 -1.725575\n",
       "2020-11-09 15:45:00  1.520583  0.557920\n",
       "2020-11-09 16:45:00  1.069117  0.372222\n",
       "2020-11-09 17:45:00  0.790946 -0.595704\n",
       "2020-11-09 18:45:00  1.751363  2.790302\n",
       "2020-11-09 19:45:00 -1.593051 -0.469726\n",
       "2020-11-09 20:45:00  1.134519 -1.079502\n",
       "2020-11-09 21:45:00  0.905063  0.111188\n",
       "2020-11-09 22:45:00 -1.131880  0.561689\n",
       "2020-11-09 23:45:00 -1.044950 -0.066742"
      ],
      "text/html": "<div>\n<style scoped>\n    .dataframe tbody tr th:only-of-type {\n        vertical-align: middle;\n    }\n\n    .dataframe tbody tr th {\n        vertical-align: top;\n    }\n\n    .dataframe thead th {\n        text-align: right;\n    }\n</style>\n<table border=\"1\" class=\"dataframe\">\n  <thead>\n    <tr style=\"text-align: right;\">\n      <th></th>\n      <th>A</th>\n      <th>B</th>\n    </tr>\n  </thead>\n  <tbody>\n    <tr>\n      <th>2020-11-09 14:45:00</th>\n      <td>-1.188857</td>\n      <td>-1.725575</td>\n    </tr>\n    <tr>\n      <th>2020-11-09 15:45:00</th>\n      <td>1.520583</td>\n      <td>0.557920</td>\n    </tr>\n    <tr>\n      <th>2020-11-09 16:45:00</th>\n      <td>1.069117</td>\n      <td>0.372222</td>\n    </tr>\n    <tr>\n      <th>2020-11-09 17:45:00</th>\n      <td>0.790946</td>\n      <td>-0.595704</td>\n    </tr>\n    <tr>\n      <th>2020-11-09 18:45:00</th>\n      <td>1.751363</td>\n      <td>2.790302</td>\n    </tr>\n    <tr>\n      <th>2020-11-09 19:45:00</th>\n      <td>-1.593051</td>\n      <td>-0.469726</td>\n    </tr>\n    <tr>\n      <th>2020-11-09 20:45:00</th>\n      <td>1.134519</td>\n      <td>-1.079502</td>\n    </tr>\n    <tr>\n      <th>2020-11-09 21:45:00</th>\n      <td>0.905063</td>\n      <td>0.111188</td>\n    </tr>\n    <tr>\n      <th>2020-11-09 22:45:00</th>\n      <td>-1.131880</td>\n      <td>0.561689</td>\n    </tr>\n    <tr>\n      <th>2020-11-09 23:45:00</th>\n      <td>-1.044950</td>\n      <td>-0.066742</td>\n    </tr>\n  </tbody>\n</table>\n</div>"
     },
     "metadata": {},
     "execution_count": 32
    }
   ],
   "source": [
    "# selecting on a multi-axis by label:\n",
    "df.loc[:,['A','B']]"
   ]
  },
  {
   "cell_type": "code",
   "execution_count": 33,
   "metadata": {},
   "outputs": [
    {
     "output_type": "execute_result",
     "data": {
      "text/plain": [
       "                            A         B\n",
       "2020-11-09 18:45:00  1.751363  2.790302\n",
       "2020-11-09 19:45:00 -1.593051 -0.469726\n",
       "2020-11-09 20:45:00  1.134519 -1.079502"
      ],
      "text/html": "<div>\n<style scoped>\n    .dataframe tbody tr th:only-of-type {\n        vertical-align: middle;\n    }\n\n    .dataframe tbody tr th {\n        vertical-align: top;\n    }\n\n    .dataframe thead th {\n        text-align: right;\n    }\n</style>\n<table border=\"1\" class=\"dataframe\">\n  <thead>\n    <tr style=\"text-align: right;\">\n      <th></th>\n      <th>A</th>\n      <th>B</th>\n    </tr>\n  </thead>\n  <tbody>\n    <tr>\n      <th>2020-11-09 18:45:00</th>\n      <td>1.751363</td>\n      <td>2.790302</td>\n    </tr>\n    <tr>\n      <th>2020-11-09 19:45:00</th>\n      <td>-1.593051</td>\n      <td>-0.469726</td>\n    </tr>\n    <tr>\n      <th>2020-11-09 20:45:00</th>\n      <td>1.134519</td>\n      <td>-1.079502</td>\n    </tr>\n  </tbody>\n</table>\n</div>"
     },
     "metadata": {},
     "execution_count": 33
    }
   ],
   "source": [
    "# showing label slicing, both endpoints are included:\n",
    "df.loc['2020-11-09 18:45:00':'2020-11-09 20:45:00',['A','B']]"
   ]
  },
  {
   "cell_type": "code",
   "execution_count": 34,
   "metadata": {},
   "outputs": [
    {
     "output_type": "stream",
     "name": "stdout",
     "text": [
      "1.5205825926846483\n1.5205825926846483\n"
     ]
    }
   ],
   "source": [
    "# getting an individual element\n",
    "print (df.loc[dates[1],'A'])\n",
    "\n",
    "# equivalently\n",
    "print (df.at[dates[1],'A'])"
   ]
  },
  {
   "cell_type": "markdown",
   "metadata": {},
   "source": [
    "### Selecting by position"
   ]
  },
  {
   "cell_type": "code",
   "execution_count": 35,
   "metadata": {},
   "outputs": [
    {
     "output_type": "stream",
     "name": "stdout",
     "text": [
      "A    0.790946\nB   -0.595704\nC   -1.189357\nD    0.809138\nName: 2020-11-09 17:45:00, dtype: float64 \n\n                            A         B\n2020-11-09 17:45:00  0.790946 -0.595704\n2020-11-09 18:45:00  1.751363  2.790302\n"
     ]
    }
   ],
   "source": [
    "# select via the position of the passed integers:\n",
    "print (df.iloc[3],'\\n')\n",
    "\n",
    "# notation similar to numpy/python\n",
    "print (df.iloc[3:5,0:2])"
   ]
  },
  {
   "cell_type": "code",
   "execution_count": 36,
   "metadata": {},
   "outputs": [
    {
     "output_type": "execute_result",
     "data": {
      "text/plain": [
       "                            A         C\n",
       "2020-11-09 15:45:00  1.520583  0.815599\n",
       "2020-11-09 16:45:00  1.069117 -0.578085\n",
       "2020-11-09 18:45:00  1.751363 -0.767250"
      ],
      "text/html": "<div>\n<style scoped>\n    .dataframe tbody tr th:only-of-type {\n        vertical-align: middle;\n    }\n\n    .dataframe tbody tr th {\n        vertical-align: top;\n    }\n\n    .dataframe thead th {\n        text-align: right;\n    }\n</style>\n<table border=\"1\" class=\"dataframe\">\n  <thead>\n    <tr style=\"text-align: right;\">\n      <th></th>\n      <th>A</th>\n      <th>C</th>\n    </tr>\n  </thead>\n  <tbody>\n    <tr>\n      <th>2020-11-09 15:45:00</th>\n      <td>1.520583</td>\n      <td>0.815599</td>\n    </tr>\n    <tr>\n      <th>2020-11-09 16:45:00</th>\n      <td>1.069117</td>\n      <td>-0.578085</td>\n    </tr>\n    <tr>\n      <th>2020-11-09 18:45:00</th>\n      <td>1.751363</td>\n      <td>-0.767250</td>\n    </tr>\n  </tbody>\n</table>\n</div>"
     },
     "metadata": {},
     "execution_count": 36
    }
   ],
   "source": [
    "# selecting rows 1,2 and 4 for columns 0 and 2\n",
    "df.iloc[[1,2,4],[0,2]]"
   ]
  },
  {
   "cell_type": "code",
   "execution_count": 37,
   "metadata": {},
   "outputs": [
    {
     "output_type": "stream",
     "name": "stdout",
     "text": [
      "                            A         B         C         D\n2020-11-09 15:45:00  1.520583  0.557920  0.815599  1.472590\n2020-11-09 16:45:00  1.069117  0.372222 -0.578085  2.339969 \n\n                            B         C\n2020-11-09 14:45:00 -1.725575 -0.555104\n2020-11-09 15:45:00  0.557920  0.815599\n2020-11-09 16:45:00  0.372222 -0.578085\n2020-11-09 17:45:00 -0.595704 -1.189357\n2020-11-09 18:45:00  2.790302 -0.767250\n2020-11-09 19:45:00 -0.469726  0.060661\n2020-11-09 20:45:00 -1.079502  1.338322\n2020-11-09 21:45:00  0.111188 -0.319909\n2020-11-09 22:45:00  0.561689 -0.914100\n2020-11-09 23:45:00 -0.066742 -0.915086\n"
     ]
    }
   ],
   "source": [
    "# slicing rows explicitly\n",
    "print (df.iloc[1:3,:],'\\n')\n",
    "\n",
    "# slicing columns explicitly\n",
    "print (df.iloc[:,1:3])\n"
   ]
  },
  {
   "cell_type": "code",
   "execution_count": 38,
   "metadata": {},
   "outputs": [
    {
     "output_type": "execute_result",
     "data": {
      "text/plain": [
       "0.5579204902187127"
      ]
     },
     "metadata": {},
     "execution_count": 38
    }
   ],
   "source": [
    "# selecting an individual element by position\n",
    "df.iloc[1,1]\n",
    "df.iat[1,1]\n"
   ]
  },
  {
   "cell_type": "markdown",
   "metadata": {},
   "source": [
    "### Boolean index\n",
    "\n",
    "Very powerful way of filtering out data with certain features. Notation is very similar to numpy arrays."
   ]
  },
  {
   "cell_type": "code",
   "execution_count": 39,
   "metadata": {},
   "outputs": [
    {
     "output_type": "execute_result",
     "data": {
      "text/plain": [
       "                            A         B         C         D\n",
       "2020-11-09 15:45:00  1.520583  0.557920  0.815599  1.472590\n",
       "2020-11-09 16:45:00  1.069117  0.372222 -0.578085  2.339969\n",
       "2020-11-09 18:45:00  1.751363  2.790302 -0.767250  2.375252\n",
       "2020-11-09 21:45:00  0.905063  0.111188 -0.319909 -1.411884\n",
       "2020-11-09 22:45:00 -1.131880  0.561689 -0.914100 -2.666007"
      ],
      "text/html": "<div>\n<style scoped>\n    .dataframe tbody tr th:only-of-type {\n        vertical-align: middle;\n    }\n\n    .dataframe tbody tr th {\n        vertical-align: top;\n    }\n\n    .dataframe thead th {\n        text-align: right;\n    }\n</style>\n<table border=\"1\" class=\"dataframe\">\n  <thead>\n    <tr style=\"text-align: right;\">\n      <th></th>\n      <th>A</th>\n      <th>B</th>\n      <th>C</th>\n      <th>D</th>\n    </tr>\n  </thead>\n  <tbody>\n    <tr>\n      <th>2020-11-09 15:45:00</th>\n      <td>1.520583</td>\n      <td>0.557920</td>\n      <td>0.815599</td>\n      <td>1.472590</td>\n    </tr>\n    <tr>\n      <th>2020-11-09 16:45:00</th>\n      <td>1.069117</td>\n      <td>0.372222</td>\n      <td>-0.578085</td>\n      <td>2.339969</td>\n    </tr>\n    <tr>\n      <th>2020-11-09 18:45:00</th>\n      <td>1.751363</td>\n      <td>2.790302</td>\n      <td>-0.767250</td>\n      <td>2.375252</td>\n    </tr>\n    <tr>\n      <th>2020-11-09 21:45:00</th>\n      <td>0.905063</td>\n      <td>0.111188</td>\n      <td>-0.319909</td>\n      <td>-1.411884</td>\n    </tr>\n    <tr>\n      <th>2020-11-09 22:45:00</th>\n      <td>-1.131880</td>\n      <td>0.561689</td>\n      <td>-0.914100</td>\n      <td>-2.666007</td>\n    </tr>\n  </tbody>\n</table>\n</div>"
     },
     "metadata": {},
     "execution_count": 39
    }
   ],
   "source": [
    "# Filter by a boolean condition on the values of a single column\n",
    "df[df['B'] > 0]"
   ]
  },
  {
   "cell_type": "code",
   "execution_count": 40,
   "metadata": {},
   "outputs": [
    {
     "output_type": "execute_result",
     "data": {
      "text/plain": [
       "                            A         B         C         D\n",
       "2020-11-09 14:45:00       NaN       NaN       NaN  0.700103\n",
       "2020-11-09 15:45:00  1.520583  0.557920  0.815599  1.472590\n",
       "2020-11-09 16:45:00  1.069117  0.372222       NaN  2.339969\n",
       "2020-11-09 17:45:00  0.790946       NaN       NaN  0.809138\n",
       "2020-11-09 18:45:00  1.751363  2.790302       NaN  2.375252\n",
       "2020-11-09 19:45:00       NaN       NaN  0.060661  0.495177\n",
       "2020-11-09 20:45:00  1.134519       NaN  1.338322       NaN\n",
       "2020-11-09 21:45:00  0.905063  0.111188       NaN       NaN\n",
       "2020-11-09 22:45:00       NaN  0.561689       NaN       NaN\n",
       "2020-11-09 23:45:00       NaN       NaN       NaN       NaN"
      ],
      "text/html": "<div>\n<style scoped>\n    .dataframe tbody tr th:only-of-type {\n        vertical-align: middle;\n    }\n\n    .dataframe tbody tr th {\n        vertical-align: top;\n    }\n\n    .dataframe thead th {\n        text-align: right;\n    }\n</style>\n<table border=\"1\" class=\"dataframe\">\n  <thead>\n    <tr style=\"text-align: right;\">\n      <th></th>\n      <th>A</th>\n      <th>B</th>\n      <th>C</th>\n      <th>D</th>\n    </tr>\n  </thead>\n  <tbody>\n    <tr>\n      <th>2020-11-09 14:45:00</th>\n      <td>NaN</td>\n      <td>NaN</td>\n      <td>NaN</td>\n      <td>0.700103</td>\n    </tr>\n    <tr>\n      <th>2020-11-09 15:45:00</th>\n      <td>1.520583</td>\n      <td>0.557920</td>\n      <td>0.815599</td>\n      <td>1.472590</td>\n    </tr>\n    <tr>\n      <th>2020-11-09 16:45:00</th>\n      <td>1.069117</td>\n      <td>0.372222</td>\n      <td>NaN</td>\n      <td>2.339969</td>\n    </tr>\n    <tr>\n      <th>2020-11-09 17:45:00</th>\n      <td>0.790946</td>\n      <td>NaN</td>\n      <td>NaN</td>\n      <td>0.809138</td>\n    </tr>\n    <tr>\n      <th>2020-11-09 18:45:00</th>\n      <td>1.751363</td>\n      <td>2.790302</td>\n      <td>NaN</td>\n      <td>2.375252</td>\n    </tr>\n    <tr>\n      <th>2020-11-09 19:45:00</th>\n      <td>NaN</td>\n      <td>NaN</td>\n      <td>0.060661</td>\n      <td>0.495177</td>\n    </tr>\n    <tr>\n      <th>2020-11-09 20:45:00</th>\n      <td>1.134519</td>\n      <td>NaN</td>\n      <td>1.338322</td>\n      <td>NaN</td>\n    </tr>\n    <tr>\n      <th>2020-11-09 21:45:00</th>\n      <td>0.905063</td>\n      <td>0.111188</td>\n      <td>NaN</td>\n      <td>NaN</td>\n    </tr>\n    <tr>\n      <th>2020-11-09 22:45:00</th>\n      <td>NaN</td>\n      <td>0.561689</td>\n      <td>NaN</td>\n      <td>NaN</td>\n    </tr>\n    <tr>\n      <th>2020-11-09 23:45:00</th>\n      <td>NaN</td>\n      <td>NaN</td>\n      <td>NaN</td>\n      <td>NaN</td>\n    </tr>\n  </tbody>\n</table>\n</div>"
     },
     "metadata": {},
     "execution_count": 40
    }
   ],
   "source": [
    "# Selecting on the basis of boolean conditions applied to the whole DataFrame\n",
    "df[df>0]\n",
    "\n",
    "# a DataFrame with the same shape is returned, with NaN's where condition is not met"
   ]
  },
  {
   "cell_type": "markdown",
   "metadata": {},
   "source": [
    "### Setting\n",
    "\n",
    "Combination of selection and setting of values"
   ]
  },
  {
   "cell_type": "code",
   "execution_count": 41,
   "metadata": {},
   "outputs": [],
   "source": [
    "# setting values by label (same as by position)\n",
    "df.at[dates[0],'A'] = 0\n",
    "\n",
    "# setting and assigning a numpy array\n",
    "df.loc[:,'D'] = np.array([5] * len(df))\n",
    "\n",
    "# defining a brend new column\n",
    "df['E'] = np.arange(len(df))*0.5\n",
    "\n",
    "# defining a brend new column by means of a pd.Series: indexes must be the same!\n",
    "df['E prime'] = pd.Series(np.arange(len(df))*2, index=df.index)\n"
   ]
  },
  {
   "cell_type": "code",
   "execution_count": 42,
   "metadata": {},
   "outputs": [
    {
     "output_type": "execute_result",
     "data": {
      "text/plain": [
       "                            A         B         C  D    E  E prime    cosine\n",
       "2020-11-09 14:45:00  0.000000 -1.725575 -0.555104  5  0.0        0  1.000000\n",
       "2020-11-09 15:45:00  1.520583  0.557920  0.815599  5  0.5        2  0.999962\n",
       "2020-11-09 16:45:00  1.069117  0.372222 -0.578085  5  1.0        4  0.999848\n",
       "2020-11-09 17:45:00  0.790946 -0.595704 -1.189357  5  1.5        6  0.999657\n",
       "2020-11-09 18:45:00  1.751363  2.790302 -0.767250  5  2.0        8  0.999391\n",
       "2020-11-09 19:45:00 -1.593051 -0.469726  0.060661  5  2.5       10  0.999048\n",
       "2020-11-09 20:45:00  1.134519 -1.079502  1.338322  5  3.0       12  0.998630\n",
       "2020-11-09 21:45:00  0.905063  0.111188 -0.319909  5  3.5       14  0.998135\n",
       "2020-11-09 22:45:00 -1.131880  0.561689 -0.914100  5  4.0       16  0.997564\n",
       "2020-11-09 23:45:00 -1.044950 -0.066742 -0.915086  5  4.5       18  0.996917"
      ],
      "text/html": "<div>\n<style scoped>\n    .dataframe tbody tr th:only-of-type {\n        vertical-align: middle;\n    }\n\n    .dataframe tbody tr th {\n        vertical-align: top;\n    }\n\n    .dataframe thead th {\n        text-align: right;\n    }\n</style>\n<table border=\"1\" class=\"dataframe\">\n  <thead>\n    <tr style=\"text-align: right;\">\n      <th></th>\n      <th>A</th>\n      <th>B</th>\n      <th>C</th>\n      <th>D</th>\n      <th>E</th>\n      <th>E prime</th>\n      <th>cosine</th>\n    </tr>\n  </thead>\n  <tbody>\n    <tr>\n      <th>2020-11-09 14:45:00</th>\n      <td>0.000000</td>\n      <td>-1.725575</td>\n      <td>-0.555104</td>\n      <td>5</td>\n      <td>0.0</td>\n      <td>0</td>\n      <td>1.000000</td>\n    </tr>\n    <tr>\n      <th>2020-11-09 15:45:00</th>\n      <td>1.520583</td>\n      <td>0.557920</td>\n      <td>0.815599</td>\n      <td>5</td>\n      <td>0.5</td>\n      <td>2</td>\n      <td>0.999962</td>\n    </tr>\n    <tr>\n      <th>2020-11-09 16:45:00</th>\n      <td>1.069117</td>\n      <td>0.372222</td>\n      <td>-0.578085</td>\n      <td>5</td>\n      <td>1.0</td>\n      <td>4</td>\n      <td>0.999848</td>\n    </tr>\n    <tr>\n      <th>2020-11-09 17:45:00</th>\n      <td>0.790946</td>\n      <td>-0.595704</td>\n      <td>-1.189357</td>\n      <td>5</td>\n      <td>1.5</td>\n      <td>6</td>\n      <td>0.999657</td>\n    </tr>\n    <tr>\n      <th>2020-11-09 18:45:00</th>\n      <td>1.751363</td>\n      <td>2.790302</td>\n      <td>-0.767250</td>\n      <td>5</td>\n      <td>2.0</td>\n      <td>8</td>\n      <td>0.999391</td>\n    </tr>\n    <tr>\n      <th>2020-11-09 19:45:00</th>\n      <td>-1.593051</td>\n      <td>-0.469726</td>\n      <td>0.060661</td>\n      <td>5</td>\n      <td>2.5</td>\n      <td>10</td>\n      <td>0.999048</td>\n    </tr>\n    <tr>\n      <th>2020-11-09 20:45:00</th>\n      <td>1.134519</td>\n      <td>-1.079502</td>\n      <td>1.338322</td>\n      <td>5</td>\n      <td>3.0</td>\n      <td>12</td>\n      <td>0.998630</td>\n    </tr>\n    <tr>\n      <th>2020-11-09 21:45:00</th>\n      <td>0.905063</td>\n      <td>0.111188</td>\n      <td>-0.319909</td>\n      <td>5</td>\n      <td>3.5</td>\n      <td>14</td>\n      <td>0.998135</td>\n    </tr>\n    <tr>\n      <th>2020-11-09 22:45:00</th>\n      <td>-1.131880</td>\n      <td>0.561689</td>\n      <td>-0.914100</td>\n      <td>5</td>\n      <td>4.0</td>\n      <td>16</td>\n      <td>0.997564</td>\n    </tr>\n    <tr>\n      <th>2020-11-09 23:45:00</th>\n      <td>-1.044950</td>\n      <td>-0.066742</td>\n      <td>-0.915086</td>\n      <td>5</td>\n      <td>4.5</td>\n      <td>18</td>\n      <td>0.996917</td>\n    </tr>\n  </tbody>\n</table>\n</div>"
     },
     "metadata": {},
     "execution_count": 42
    }
   ],
   "source": [
    "def dcos(theta):\n",
    "    theta = theta*(np.pi/180)\n",
    "    return np.cos(theta)\n",
    " \n",
    "df['cosine'] = pd.Series(df[\"E\"].apply(dcos), index=df.index)\n",
    "df"
   ]
  },
  {
   "cell_type": "code",
   "execution_count": 43,
   "metadata": {},
   "outputs": [
    {
     "output_type": "execute_result",
     "data": {
      "text/plain": [
       "                            A         B         C  D    E  E prime    cosine\n",
       "2020-11-09 14:45:00  0.000000 -1.725575 -0.555104 -5  0.0        0 -1.000000\n",
       "2020-11-09 15:45:00 -1.520583 -0.557920 -0.815599 -5 -0.5       -2 -0.999962\n",
       "2020-11-09 16:45:00 -1.069117 -0.372222 -0.578085 -5 -1.0       -4 -0.999848\n",
       "2020-11-09 17:45:00 -0.790946 -0.595704 -1.189357 -5 -1.5       -6 -0.999657\n",
       "2020-11-09 18:45:00 -1.751363 -2.790302 -0.767250 -5 -2.0       -8 -0.999391\n",
       "2020-11-09 19:45:00 -1.593051 -0.469726 -0.060661 -5 -2.5      -10 -0.999048\n",
       "2020-11-09 20:45:00 -1.134519 -1.079502 -1.338322 -5 -3.0      -12 -0.998630\n",
       "2020-11-09 21:45:00 -0.905063 -0.111188 -0.319909 -5 -3.5      -14 -0.998135\n",
       "2020-11-09 22:45:00 -1.131880 -0.561689 -0.914100 -5 -4.0      -16 -0.997564\n",
       "2020-11-09 23:45:00 -1.044950 -0.066742 -0.915086 -5 -4.5      -18 -0.996917"
      ],
      "text/html": "<div>\n<style scoped>\n    .dataframe tbody tr th:only-of-type {\n        vertical-align: middle;\n    }\n\n    .dataframe tbody tr th {\n        vertical-align: top;\n    }\n\n    .dataframe thead th {\n        text-align: right;\n    }\n</style>\n<table border=\"1\" class=\"dataframe\">\n  <thead>\n    <tr style=\"text-align: right;\">\n      <th></th>\n      <th>A</th>\n      <th>B</th>\n      <th>C</th>\n      <th>D</th>\n      <th>E</th>\n      <th>E prime</th>\n      <th>cosine</th>\n    </tr>\n  </thead>\n  <tbody>\n    <tr>\n      <th>2020-11-09 14:45:00</th>\n      <td>0.000000</td>\n      <td>-1.725575</td>\n      <td>-0.555104</td>\n      <td>-5</td>\n      <td>0.0</td>\n      <td>0</td>\n      <td>-1.000000</td>\n    </tr>\n    <tr>\n      <th>2020-11-09 15:45:00</th>\n      <td>-1.520583</td>\n      <td>-0.557920</td>\n      <td>-0.815599</td>\n      <td>-5</td>\n      <td>-0.5</td>\n      <td>-2</td>\n      <td>-0.999962</td>\n    </tr>\n    <tr>\n      <th>2020-11-09 16:45:00</th>\n      <td>-1.069117</td>\n      <td>-0.372222</td>\n      <td>-0.578085</td>\n      <td>-5</td>\n      <td>-1.0</td>\n      <td>-4</td>\n      <td>-0.999848</td>\n    </tr>\n    <tr>\n      <th>2020-11-09 17:45:00</th>\n      <td>-0.790946</td>\n      <td>-0.595704</td>\n      <td>-1.189357</td>\n      <td>-5</td>\n      <td>-1.5</td>\n      <td>-6</td>\n      <td>-0.999657</td>\n    </tr>\n    <tr>\n      <th>2020-11-09 18:45:00</th>\n      <td>-1.751363</td>\n      <td>-2.790302</td>\n      <td>-0.767250</td>\n      <td>-5</td>\n      <td>-2.0</td>\n      <td>-8</td>\n      <td>-0.999391</td>\n    </tr>\n    <tr>\n      <th>2020-11-09 19:45:00</th>\n      <td>-1.593051</td>\n      <td>-0.469726</td>\n      <td>-0.060661</td>\n      <td>-5</td>\n      <td>-2.5</td>\n      <td>-10</td>\n      <td>-0.999048</td>\n    </tr>\n    <tr>\n      <th>2020-11-09 20:45:00</th>\n      <td>-1.134519</td>\n      <td>-1.079502</td>\n      <td>-1.338322</td>\n      <td>-5</td>\n      <td>-3.0</td>\n      <td>-12</td>\n      <td>-0.998630</td>\n    </tr>\n    <tr>\n      <th>2020-11-09 21:45:00</th>\n      <td>-0.905063</td>\n      <td>-0.111188</td>\n      <td>-0.319909</td>\n      <td>-5</td>\n      <td>-3.5</td>\n      <td>-14</td>\n      <td>-0.998135</td>\n    </tr>\n    <tr>\n      <th>2020-11-09 22:45:00</th>\n      <td>-1.131880</td>\n      <td>-0.561689</td>\n      <td>-0.914100</td>\n      <td>-5</td>\n      <td>-4.0</td>\n      <td>-16</td>\n      <td>-0.997564</td>\n    </tr>\n    <tr>\n      <th>2020-11-09 23:45:00</th>\n      <td>-1.044950</td>\n      <td>-0.066742</td>\n      <td>-0.915086</td>\n      <td>-5</td>\n      <td>-4.5</td>\n      <td>-18</td>\n      <td>-0.996917</td>\n    </tr>\n  </tbody>\n</table>\n</div>"
     },
     "metadata": {},
     "execution_count": 43
    }
   ],
   "source": [
    "# another example of global setting\n",
    "df2=df.copy()\n",
    "df2[df2>0] = -df2\n",
    "df2"
   ]
  },
  {
   "cell_type": "markdown",
   "metadata": {},
   "source": [
    "### Dropping\n",
    "\n",
    "N.B.: dropping doesn't act permanently on the DataFrame, i.e. to get that do :\n",
    "```python\n",
    "df = df.drop(....)\n",
    "```"
   ]
  },
  {
   "cell_type": "code",
   "execution_count": 44,
   "metadata": {},
   "outputs": [
    {
     "output_type": "execute_result",
     "data": {
      "text/plain": [
       "                            A         B         C  D    E    cosine\n",
       "2020-11-09 14:45:00  0.000000 -1.725575 -0.555104  5  0.0  1.000000\n",
       "2020-11-09 15:45:00  1.520583  0.557920  0.815599  5  0.5  0.999962\n",
       "2020-11-09 16:45:00  1.069117  0.372222 -0.578085  5  1.0  0.999848\n",
       "2020-11-09 17:45:00  0.790946 -0.595704 -1.189357  5  1.5  0.999657\n",
       "2020-11-09 18:45:00  1.751363  2.790302 -0.767250  5  2.0  0.999391\n",
       "2020-11-09 19:45:00 -1.593051 -0.469726  0.060661  5  2.5  0.999048\n",
       "2020-11-09 20:45:00  1.134519 -1.079502  1.338322  5  3.0  0.998630\n",
       "2020-11-09 21:45:00  0.905063  0.111188 -0.319909  5  3.5  0.998135\n",
       "2020-11-09 22:45:00 -1.131880  0.561689 -0.914100  5  4.0  0.997564\n",
       "2020-11-09 23:45:00 -1.044950 -0.066742 -0.915086  5  4.5  0.996917"
      ],
      "text/html": "<div>\n<style scoped>\n    .dataframe tbody tr th:only-of-type {\n        vertical-align: middle;\n    }\n\n    .dataframe tbody tr th {\n        vertical-align: top;\n    }\n\n    .dataframe thead th {\n        text-align: right;\n    }\n</style>\n<table border=\"1\" class=\"dataframe\">\n  <thead>\n    <tr style=\"text-align: right;\">\n      <th></th>\n      <th>A</th>\n      <th>B</th>\n      <th>C</th>\n      <th>D</th>\n      <th>E</th>\n      <th>cosine</th>\n    </tr>\n  </thead>\n  <tbody>\n    <tr>\n      <th>2020-11-09 14:45:00</th>\n      <td>0.000000</td>\n      <td>-1.725575</td>\n      <td>-0.555104</td>\n      <td>5</td>\n      <td>0.0</td>\n      <td>1.000000</td>\n    </tr>\n    <tr>\n      <th>2020-11-09 15:45:00</th>\n      <td>1.520583</td>\n      <td>0.557920</td>\n      <td>0.815599</td>\n      <td>5</td>\n      <td>0.5</td>\n      <td>0.999962</td>\n    </tr>\n    <tr>\n      <th>2020-11-09 16:45:00</th>\n      <td>1.069117</td>\n      <td>0.372222</td>\n      <td>-0.578085</td>\n      <td>5</td>\n      <td>1.0</td>\n      <td>0.999848</td>\n    </tr>\n    <tr>\n      <th>2020-11-09 17:45:00</th>\n      <td>0.790946</td>\n      <td>-0.595704</td>\n      <td>-1.189357</td>\n      <td>5</td>\n      <td>1.5</td>\n      <td>0.999657</td>\n    </tr>\n    <tr>\n      <th>2020-11-09 18:45:00</th>\n      <td>1.751363</td>\n      <td>2.790302</td>\n      <td>-0.767250</td>\n      <td>5</td>\n      <td>2.0</td>\n      <td>0.999391</td>\n    </tr>\n    <tr>\n      <th>2020-11-09 19:45:00</th>\n      <td>-1.593051</td>\n      <td>-0.469726</td>\n      <td>0.060661</td>\n      <td>5</td>\n      <td>2.5</td>\n      <td>0.999048</td>\n    </tr>\n    <tr>\n      <th>2020-11-09 20:45:00</th>\n      <td>1.134519</td>\n      <td>-1.079502</td>\n      <td>1.338322</td>\n      <td>5</td>\n      <td>3.0</td>\n      <td>0.998630</td>\n    </tr>\n    <tr>\n      <th>2020-11-09 21:45:00</th>\n      <td>0.905063</td>\n      <td>0.111188</td>\n      <td>-0.319909</td>\n      <td>5</td>\n      <td>3.5</td>\n      <td>0.998135</td>\n    </tr>\n    <tr>\n      <th>2020-11-09 22:45:00</th>\n      <td>-1.131880</td>\n      <td>0.561689</td>\n      <td>-0.914100</td>\n      <td>5</td>\n      <td>4.0</td>\n      <td>0.997564</td>\n    </tr>\n    <tr>\n      <th>2020-11-09 23:45:00</th>\n      <td>-1.044950</td>\n      <td>-0.066742</td>\n      <td>-0.915086</td>\n      <td>5</td>\n      <td>4.5</td>\n      <td>0.996917</td>\n    </tr>\n  </tbody>\n</table>\n</div>"
     },
     "metadata": {},
     "execution_count": 44
    }
   ],
   "source": [
    "# Dropping by column\n",
    "df.drop(['E prime'], axis=1)\n",
    "\n",
    "#which is equivalent to\n",
    "df.drop(columns=['E prime'])"
   ]
  },
  {
   "cell_type": "code",
   "execution_count": 45,
   "metadata": {},
   "outputs": [
    {
     "output_type": "execute_result",
     "data": {
      "text/plain": [
       "                            A         B         C  D    E  E prime    cosine\n",
       "2020-11-09 14:45:00  0.000000 -1.725575 -0.555104  5  0.0        0  1.000000\n",
       "2020-11-09 19:45:00 -1.593051 -0.469726  0.060661  5  2.5       10  0.999048\n",
       "2020-11-09 20:45:00  1.134519 -1.079502  1.338322  5  3.0       12  0.998630\n",
       "2020-11-09 21:45:00  0.905063  0.111188 -0.319909  5  3.5       14  0.998135\n",
       "2020-11-09 22:45:00 -1.131880  0.561689 -0.914100  5  4.0       16  0.997564\n",
       "2020-11-09 23:45:00 -1.044950 -0.066742 -0.915086  5  4.5       18  0.996917"
      ],
      "text/html": "<div>\n<style scoped>\n    .dataframe tbody tr th:only-of-type {\n        vertical-align: middle;\n    }\n\n    .dataframe tbody tr th {\n        vertical-align: top;\n    }\n\n    .dataframe thead th {\n        text-align: right;\n    }\n</style>\n<table border=\"1\" class=\"dataframe\">\n  <thead>\n    <tr style=\"text-align: right;\">\n      <th></th>\n      <th>A</th>\n      <th>B</th>\n      <th>C</th>\n      <th>D</th>\n      <th>E</th>\n      <th>E prime</th>\n      <th>cosine</th>\n    </tr>\n  </thead>\n  <tbody>\n    <tr>\n      <th>2020-11-09 14:45:00</th>\n      <td>0.000000</td>\n      <td>-1.725575</td>\n      <td>-0.555104</td>\n      <td>5</td>\n      <td>0.0</td>\n      <td>0</td>\n      <td>1.000000</td>\n    </tr>\n    <tr>\n      <th>2020-11-09 19:45:00</th>\n      <td>-1.593051</td>\n      <td>-0.469726</td>\n      <td>0.060661</td>\n      <td>5</td>\n      <td>2.5</td>\n      <td>10</td>\n      <td>0.999048</td>\n    </tr>\n    <tr>\n      <th>2020-11-09 20:45:00</th>\n      <td>1.134519</td>\n      <td>-1.079502</td>\n      <td>1.338322</td>\n      <td>5</td>\n      <td>3.0</td>\n      <td>12</td>\n      <td>0.998630</td>\n    </tr>\n    <tr>\n      <th>2020-11-09 21:45:00</th>\n      <td>0.905063</td>\n      <td>0.111188</td>\n      <td>-0.319909</td>\n      <td>5</td>\n      <td>3.5</td>\n      <td>14</td>\n      <td>0.998135</td>\n    </tr>\n    <tr>\n      <th>2020-11-09 22:45:00</th>\n      <td>-1.131880</td>\n      <td>0.561689</td>\n      <td>-0.914100</td>\n      <td>5</td>\n      <td>4.0</td>\n      <td>16</td>\n      <td>0.997564</td>\n    </tr>\n    <tr>\n      <th>2020-11-09 23:45:00</th>\n      <td>-1.044950</td>\n      <td>-0.066742</td>\n      <td>-0.915086</td>\n      <td>5</td>\n      <td>4.5</td>\n      <td>18</td>\n      <td>0.996917</td>\n    </tr>\n  </tbody>\n</table>\n</div>"
     },
     "metadata": {},
     "execution_count": 45
    }
   ],
   "source": [
    "# Dropping by raws\n",
    "# safe and always working\n",
    "df.drop(df.index[[1,2,3,4]])"
   ]
  },
  {
   "cell_type": "code",
   "execution_count": 46,
   "metadata": {},
   "outputs": [
    {
     "output_type": "execute_result",
     "data": {
      "text/plain": [
       "                            A         B         C  D    E  E prime    cosine\n",
       "2020-11-09 14:45:00  0.000000 -1.725575 -0.555104  5  0.0        0  1.000000\n",
       "2020-11-09 15:45:00  1.520583  0.557920  0.815599  5  0.5        2  0.999962\n",
       "2020-11-09 16:45:00  1.069117  0.372222 -0.578085  5  1.0        4  0.999848\n",
       "2020-11-09 17:45:00  0.790946 -0.595704 -1.189357  5  1.5        6  0.999657\n",
       "2020-11-09 18:45:00  1.751363  2.790302 -0.767250  5  2.0        8  0.999391\n",
       "2020-11-09 19:45:00 -1.593051 -0.469726  0.060661  5  2.5       10  0.999048\n",
       "2020-11-09 20:45:00  1.134519 -1.079502  1.338322  5  3.0       12  0.998630\n",
       "2020-11-09 21:45:00  0.905063  0.111188 -0.319909  5  3.5       14  0.998135\n",
       "2020-11-09 23:45:00 -1.044950 -0.066742 -0.915086  5  4.5       18  0.996917"
      ],
      "text/html": "<div>\n<style scoped>\n    .dataframe tbody tr th:only-of-type {\n        vertical-align: middle;\n    }\n\n    .dataframe tbody tr th {\n        vertical-align: top;\n    }\n\n    .dataframe thead th {\n        text-align: right;\n    }\n</style>\n<table border=\"1\" class=\"dataframe\">\n  <thead>\n    <tr style=\"text-align: right;\">\n      <th></th>\n      <th>A</th>\n      <th>B</th>\n      <th>C</th>\n      <th>D</th>\n      <th>E</th>\n      <th>E prime</th>\n      <th>cosine</th>\n    </tr>\n  </thead>\n  <tbody>\n    <tr>\n      <th>2020-11-09 14:45:00</th>\n      <td>0.000000</td>\n      <td>-1.725575</td>\n      <td>-0.555104</td>\n      <td>5</td>\n      <td>0.0</td>\n      <td>0</td>\n      <td>1.000000</td>\n    </tr>\n    <tr>\n      <th>2020-11-09 15:45:00</th>\n      <td>1.520583</td>\n      <td>0.557920</td>\n      <td>0.815599</td>\n      <td>5</td>\n      <td>0.5</td>\n      <td>2</td>\n      <td>0.999962</td>\n    </tr>\n    <tr>\n      <th>2020-11-09 16:45:00</th>\n      <td>1.069117</td>\n      <td>0.372222</td>\n      <td>-0.578085</td>\n      <td>5</td>\n      <td>1.0</td>\n      <td>4</td>\n      <td>0.999848</td>\n    </tr>\n    <tr>\n      <th>2020-11-09 17:45:00</th>\n      <td>0.790946</td>\n      <td>-0.595704</td>\n      <td>-1.189357</td>\n      <td>5</td>\n      <td>1.5</td>\n      <td>6</td>\n      <td>0.999657</td>\n    </tr>\n    <tr>\n      <th>2020-11-09 18:45:00</th>\n      <td>1.751363</td>\n      <td>2.790302</td>\n      <td>-0.767250</td>\n      <td>5</td>\n      <td>2.0</td>\n      <td>8</td>\n      <td>0.999391</td>\n    </tr>\n    <tr>\n      <th>2020-11-09 19:45:00</th>\n      <td>-1.593051</td>\n      <td>-0.469726</td>\n      <td>0.060661</td>\n      <td>5</td>\n      <td>2.5</td>\n      <td>10</td>\n      <td>0.999048</td>\n    </tr>\n    <tr>\n      <th>2020-11-09 20:45:00</th>\n      <td>1.134519</td>\n      <td>-1.079502</td>\n      <td>1.338322</td>\n      <td>5</td>\n      <td>3.0</td>\n      <td>12</td>\n      <td>0.998630</td>\n    </tr>\n    <tr>\n      <th>2020-11-09 21:45:00</th>\n      <td>0.905063</td>\n      <td>0.111188</td>\n      <td>-0.319909</td>\n      <td>5</td>\n      <td>3.5</td>\n      <td>14</td>\n      <td>0.998135</td>\n    </tr>\n    <tr>\n      <th>2020-11-09 23:45:00</th>\n      <td>-1.044950</td>\n      <td>-0.066742</td>\n      <td>-0.915086</td>\n      <td>5</td>\n      <td>4.5</td>\n      <td>18</td>\n      <td>0.996917</td>\n    </tr>\n  </tbody>\n</table>\n</div>"
     },
     "metadata": {},
     "execution_count": 46
    }
   ],
   "source": [
    "# something like df.drop('index_name') \n",
    "# would work but the type of index must be specified, \n",
    "# in particular with DatetimeIndex\n",
    "df.drop(pd.to_datetime(\"2020-11-09 22:45:00\"))"
   ]
  },
  {
   "cell_type": "markdown",
   "metadata": {},
   "source": [
    "## Missing data\n",
    "\n",
    "pandas primarily uses the value np.nan to represent missing data. It is by default not included in computations."
   ]
  },
  {
   "cell_type": "code",
   "execution_count": 47,
   "metadata": {},
   "outputs": [
    {
     "output_type": "execute_result",
     "data": {
      "text/plain": [
       "                            A         B         C  D    E  E prime    cosine\n",
       "2020-11-09 14:45:00       NaN       NaN       NaN  5  NaN      NaN  1.000000\n",
       "2020-11-09 15:45:00  1.520583  0.557920  0.815599  5  0.5      2.0  0.999962\n",
       "2020-11-09 16:45:00  1.069117  0.372222       NaN  5  1.0      4.0  0.999848\n",
       "2020-11-09 17:45:00  0.790946       NaN       NaN  5  1.5      6.0  0.999657\n",
       "2020-11-09 18:45:00  1.751363  2.790302       NaN  5  2.0      8.0  0.999391\n",
       "2020-11-09 19:45:00       NaN       NaN  0.060661  5  2.5     10.0  0.999048\n",
       "2020-11-09 20:45:00  1.134519       NaN  1.338322  5  3.0     12.0  0.998630\n",
       "2020-11-09 21:45:00  0.905063  0.111188       NaN  5  3.5     14.0  0.998135\n",
       "2020-11-09 22:45:00       NaN  0.561689       NaN  5  4.0     16.0  0.997564\n",
       "2020-11-09 23:45:00       NaN       NaN       NaN  5  4.5     18.0  0.996917"
      ],
      "text/html": "<div>\n<style scoped>\n    .dataframe tbody tr th:only-of-type {\n        vertical-align: middle;\n    }\n\n    .dataframe tbody tr th {\n        vertical-align: top;\n    }\n\n    .dataframe thead th {\n        text-align: right;\n    }\n</style>\n<table border=\"1\" class=\"dataframe\">\n  <thead>\n    <tr style=\"text-align: right;\">\n      <th></th>\n      <th>A</th>\n      <th>B</th>\n      <th>C</th>\n      <th>D</th>\n      <th>E</th>\n      <th>E prime</th>\n      <th>cosine</th>\n    </tr>\n  </thead>\n  <tbody>\n    <tr>\n      <th>2020-11-09 14:45:00</th>\n      <td>NaN</td>\n      <td>NaN</td>\n      <td>NaN</td>\n      <td>5</td>\n      <td>NaN</td>\n      <td>NaN</td>\n      <td>1.000000</td>\n    </tr>\n    <tr>\n      <th>2020-11-09 15:45:00</th>\n      <td>1.520583</td>\n      <td>0.557920</td>\n      <td>0.815599</td>\n      <td>5</td>\n      <td>0.5</td>\n      <td>2.0</td>\n      <td>0.999962</td>\n    </tr>\n    <tr>\n      <th>2020-11-09 16:45:00</th>\n      <td>1.069117</td>\n      <td>0.372222</td>\n      <td>NaN</td>\n      <td>5</td>\n      <td>1.0</td>\n      <td>4.0</td>\n      <td>0.999848</td>\n    </tr>\n    <tr>\n      <th>2020-11-09 17:45:00</th>\n      <td>0.790946</td>\n      <td>NaN</td>\n      <td>NaN</td>\n      <td>5</td>\n      <td>1.5</td>\n      <td>6.0</td>\n      <td>0.999657</td>\n    </tr>\n    <tr>\n      <th>2020-11-09 18:45:00</th>\n      <td>1.751363</td>\n      <td>2.790302</td>\n      <td>NaN</td>\n      <td>5</td>\n      <td>2.0</td>\n      <td>8.0</td>\n      <td>0.999391</td>\n    </tr>\n    <tr>\n      <th>2020-11-09 19:45:00</th>\n      <td>NaN</td>\n      <td>NaN</td>\n      <td>0.060661</td>\n      <td>5</td>\n      <td>2.5</td>\n      <td>10.0</td>\n      <td>0.999048</td>\n    </tr>\n    <tr>\n      <th>2020-11-09 20:45:00</th>\n      <td>1.134519</td>\n      <td>NaN</td>\n      <td>1.338322</td>\n      <td>5</td>\n      <td>3.0</td>\n      <td>12.0</td>\n      <td>0.998630</td>\n    </tr>\n    <tr>\n      <th>2020-11-09 21:45:00</th>\n      <td>0.905063</td>\n      <td>0.111188</td>\n      <td>NaN</td>\n      <td>5</td>\n      <td>3.5</td>\n      <td>14.0</td>\n      <td>0.998135</td>\n    </tr>\n    <tr>\n      <th>2020-11-09 22:45:00</th>\n      <td>NaN</td>\n      <td>0.561689</td>\n      <td>NaN</td>\n      <td>5</td>\n      <td>4.0</td>\n      <td>16.0</td>\n      <td>0.997564</td>\n    </tr>\n    <tr>\n      <th>2020-11-09 23:45:00</th>\n      <td>NaN</td>\n      <td>NaN</td>\n      <td>NaN</td>\n      <td>5</td>\n      <td>4.5</td>\n      <td>18.0</td>\n      <td>0.996917</td>\n    </tr>\n  </tbody>\n</table>\n</div>"
     },
     "metadata": {},
     "execution_count": 47
    }
   ],
   "source": [
    "df_wNan = df[df>0]\n",
    "df_wNan"
   ]
  },
  {
   "cell_type": "code",
   "execution_count": 48,
   "metadata": {},
   "outputs": [
    {
     "output_type": "execute_result",
     "data": {
      "text/plain": [
       "                            A        B         C  D    E  E prime    cosine\n",
       "2020-11-09 15:45:00  1.520583  0.55792  0.815599  5  0.5      2.0  0.999962"
      ],
      "text/html": "<div>\n<style scoped>\n    .dataframe tbody tr th:only-of-type {\n        vertical-align: middle;\n    }\n\n    .dataframe tbody tr th {\n        vertical-align: top;\n    }\n\n    .dataframe thead th {\n        text-align: right;\n    }\n</style>\n<table border=\"1\" class=\"dataframe\">\n  <thead>\n    <tr style=\"text-align: right;\">\n      <th></th>\n      <th>A</th>\n      <th>B</th>\n      <th>C</th>\n      <th>D</th>\n      <th>E</th>\n      <th>E prime</th>\n      <th>cosine</th>\n    </tr>\n  </thead>\n  <tbody>\n    <tr>\n      <th>2020-11-09 15:45:00</th>\n      <td>1.520583</td>\n      <td>0.55792</td>\n      <td>0.815599</td>\n      <td>5</td>\n      <td>0.5</td>\n      <td>2.0</td>\n      <td>0.999962</td>\n    </tr>\n  </tbody>\n</table>\n</div>"
     },
     "metadata": {},
     "execution_count": 48
    }
   ],
   "source": [
    "# dropping rows with at least a Nan\n",
    "df_wNan.dropna(how='any')"
   ]
  },
  {
   "cell_type": "code",
   "execution_count": 49,
   "metadata": {},
   "outputs": [
    {
     "output_type": "execute_result",
     "data": {
      "text/plain": [
       "                         A      B      C      D      E  E prime  cosine\n",
       "2020-11-09 14:45:00   True   True   True  False   True     True   False\n",
       "2020-11-09 15:45:00  False  False  False  False  False    False   False\n",
       "2020-11-09 16:45:00  False  False   True  False  False    False   False\n",
       "2020-11-09 17:45:00  False   True   True  False  False    False   False\n",
       "2020-11-09 18:45:00  False  False   True  False  False    False   False\n",
       "2020-11-09 19:45:00   True   True  False  False  False    False   False\n",
       "2020-11-09 20:45:00  False   True  False  False  False    False   False\n",
       "2020-11-09 21:45:00  False  False   True  False  False    False   False\n",
       "2020-11-09 22:45:00   True  False   True  False  False    False   False\n",
       "2020-11-09 23:45:00   True   True   True  False  False    False   False"
      ],
      "text/html": "<div>\n<style scoped>\n    .dataframe tbody tr th:only-of-type {\n        vertical-align: middle;\n    }\n\n    .dataframe tbody tr th {\n        vertical-align: top;\n    }\n\n    .dataframe thead th {\n        text-align: right;\n    }\n</style>\n<table border=\"1\" class=\"dataframe\">\n  <thead>\n    <tr style=\"text-align: right;\">\n      <th></th>\n      <th>A</th>\n      <th>B</th>\n      <th>C</th>\n      <th>D</th>\n      <th>E</th>\n      <th>E prime</th>\n      <th>cosine</th>\n    </tr>\n  </thead>\n  <tbody>\n    <tr>\n      <th>2020-11-09 14:45:00</th>\n      <td>True</td>\n      <td>True</td>\n      <td>True</td>\n      <td>False</td>\n      <td>True</td>\n      <td>True</td>\n      <td>False</td>\n    </tr>\n    <tr>\n      <th>2020-11-09 15:45:00</th>\n      <td>False</td>\n      <td>False</td>\n      <td>False</td>\n      <td>False</td>\n      <td>False</td>\n      <td>False</td>\n      <td>False</td>\n    </tr>\n    <tr>\n      <th>2020-11-09 16:45:00</th>\n      <td>False</td>\n      <td>False</td>\n      <td>True</td>\n      <td>False</td>\n      <td>False</td>\n      <td>False</td>\n      <td>False</td>\n    </tr>\n    <tr>\n      <th>2020-11-09 17:45:00</th>\n      <td>False</td>\n      <td>True</td>\n      <td>True</td>\n      <td>False</td>\n      <td>False</td>\n      <td>False</td>\n      <td>False</td>\n    </tr>\n    <tr>\n      <th>2020-11-09 18:45:00</th>\n      <td>False</td>\n      <td>False</td>\n      <td>True</td>\n      <td>False</td>\n      <td>False</td>\n      <td>False</td>\n      <td>False</td>\n    </tr>\n    <tr>\n      <th>2020-11-09 19:45:00</th>\n      <td>True</td>\n      <td>True</td>\n      <td>False</td>\n      <td>False</td>\n      <td>False</td>\n      <td>False</td>\n      <td>False</td>\n    </tr>\n    <tr>\n      <th>2020-11-09 20:45:00</th>\n      <td>False</td>\n      <td>True</td>\n      <td>False</td>\n      <td>False</td>\n      <td>False</td>\n      <td>False</td>\n      <td>False</td>\n    </tr>\n    <tr>\n      <th>2020-11-09 21:45:00</th>\n      <td>False</td>\n      <td>False</td>\n      <td>True</td>\n      <td>False</td>\n      <td>False</td>\n      <td>False</td>\n      <td>False</td>\n    </tr>\n    <tr>\n      <th>2020-11-09 22:45:00</th>\n      <td>True</td>\n      <td>False</td>\n      <td>True</td>\n      <td>False</td>\n      <td>False</td>\n      <td>False</td>\n      <td>False</td>\n    </tr>\n    <tr>\n      <th>2020-11-09 23:45:00</th>\n      <td>True</td>\n      <td>True</td>\n      <td>True</td>\n      <td>False</td>\n      <td>False</td>\n      <td>False</td>\n      <td>False</td>\n    </tr>\n  </tbody>\n</table>\n</div>"
     },
     "metadata": {},
     "execution_count": 49
    }
   ],
   "source": [
    "# getting a mask\n",
    "df_wNan.isna()\n",
    "#df_wNan.notna()"
   ]
  },
  {
   "cell_type": "code",
   "execution_count": 50,
   "metadata": {},
   "outputs": [
    {
     "output_type": "execute_result",
     "data": {
      "text/plain": [
       "                            A         B         C  D    E  E prime    cosine\n",
       "2020-11-09 14:45:00  0.000000  0.000000  0.000000  5  0.0      0.0  1.000000\n",
       "2020-11-09 15:45:00  1.520583  0.557920  0.815599  5  0.5      2.0  0.999962\n",
       "2020-11-09 16:45:00  1.069117  0.372222  0.000000  5  1.0      4.0  0.999848\n",
       "2020-11-09 17:45:00  0.790946  0.000000  0.000000  5  1.5      6.0  0.999657\n",
       "2020-11-09 18:45:00  1.751363  2.790302  0.000000  5  2.0      8.0  0.999391\n",
       "2020-11-09 19:45:00  0.000000  0.000000  0.060661  5  2.5     10.0  0.999048\n",
       "2020-11-09 20:45:00  1.134519  0.000000  1.338322  5  3.0     12.0  0.998630\n",
       "2020-11-09 21:45:00  0.905063  0.111188  0.000000  5  3.5     14.0  0.998135\n",
       "2020-11-09 22:45:00  0.000000  0.561689  0.000000  5  4.0     16.0  0.997564\n",
       "2020-11-09 23:45:00  0.000000  0.000000  0.000000  5  4.5     18.0  0.996917"
      ],
      "text/html": "<div>\n<style scoped>\n    .dataframe tbody tr th:only-of-type {\n        vertical-align: middle;\n    }\n\n    .dataframe tbody tr th {\n        vertical-align: top;\n    }\n\n    .dataframe thead th {\n        text-align: right;\n    }\n</style>\n<table border=\"1\" class=\"dataframe\">\n  <thead>\n    <tr style=\"text-align: right;\">\n      <th></th>\n      <th>A</th>\n      <th>B</th>\n      <th>C</th>\n      <th>D</th>\n      <th>E</th>\n      <th>E prime</th>\n      <th>cosine</th>\n    </tr>\n  </thead>\n  <tbody>\n    <tr>\n      <th>2020-11-09 14:45:00</th>\n      <td>0.000000</td>\n      <td>0.000000</td>\n      <td>0.000000</td>\n      <td>5</td>\n      <td>0.0</td>\n      <td>0.0</td>\n      <td>1.000000</td>\n    </tr>\n    <tr>\n      <th>2020-11-09 15:45:00</th>\n      <td>1.520583</td>\n      <td>0.557920</td>\n      <td>0.815599</td>\n      <td>5</td>\n      <td>0.5</td>\n      <td>2.0</td>\n      <td>0.999962</td>\n    </tr>\n    <tr>\n      <th>2020-11-09 16:45:00</th>\n      <td>1.069117</td>\n      <td>0.372222</td>\n      <td>0.000000</td>\n      <td>5</td>\n      <td>1.0</td>\n      <td>4.0</td>\n      <td>0.999848</td>\n    </tr>\n    <tr>\n      <th>2020-11-09 17:45:00</th>\n      <td>0.790946</td>\n      <td>0.000000</td>\n      <td>0.000000</td>\n      <td>5</td>\n      <td>1.5</td>\n      <td>6.0</td>\n      <td>0.999657</td>\n    </tr>\n    <tr>\n      <th>2020-11-09 18:45:00</th>\n      <td>1.751363</td>\n      <td>2.790302</td>\n      <td>0.000000</td>\n      <td>5</td>\n      <td>2.0</td>\n      <td>8.0</td>\n      <td>0.999391</td>\n    </tr>\n    <tr>\n      <th>2020-11-09 19:45:00</th>\n      <td>0.000000</td>\n      <td>0.000000</td>\n      <td>0.060661</td>\n      <td>5</td>\n      <td>2.5</td>\n      <td>10.0</td>\n      <td>0.999048</td>\n    </tr>\n    <tr>\n      <th>2020-11-09 20:45:00</th>\n      <td>1.134519</td>\n      <td>0.000000</td>\n      <td>1.338322</td>\n      <td>5</td>\n      <td>3.0</td>\n      <td>12.0</td>\n      <td>0.998630</td>\n    </tr>\n    <tr>\n      <th>2020-11-09 21:45:00</th>\n      <td>0.905063</td>\n      <td>0.111188</td>\n      <td>0.000000</td>\n      <td>5</td>\n      <td>3.5</td>\n      <td>14.0</td>\n      <td>0.998135</td>\n    </tr>\n    <tr>\n      <th>2020-11-09 22:45:00</th>\n      <td>0.000000</td>\n      <td>0.561689</td>\n      <td>0.000000</td>\n      <td>5</td>\n      <td>4.0</td>\n      <td>16.0</td>\n      <td>0.997564</td>\n    </tr>\n    <tr>\n      <th>2020-11-09 23:45:00</th>\n      <td>0.000000</td>\n      <td>0.000000</td>\n      <td>0.000000</td>\n      <td>5</td>\n      <td>4.5</td>\n      <td>18.0</td>\n      <td>0.996917</td>\n    </tr>\n  </tbody>\n</table>\n</div>"
     },
     "metadata": {},
     "execution_count": 50
    }
   ],
   "source": [
    "# filling missing data\n",
    "df_wNan.fillna(value=0)"
   ]
  },
  {
   "cell_type": "markdown",
   "metadata": {},
   "source": [
    "Fill gaps forward or backward by propagating non-NA values forward or backward:"
   ]
  },
  {
   "cell_type": "code",
   "execution_count": 51,
   "metadata": {},
   "outputs": [
    {
     "output_type": "execute_result",
     "data": {
      "text/plain": [
       "                            A         B         C  D    E  E prime    cosine\n",
       "2020-11-09 14:45:00       NaN       NaN       NaN  5  NaN      NaN  1.000000\n",
       "2020-11-09 15:45:00  1.520583  0.557920  0.815599  5  0.5      2.0  0.999962\n",
       "2020-11-09 16:45:00  1.069117  0.372222  0.815599  5  1.0      4.0  0.999848\n",
       "2020-11-09 17:45:00  0.790946  0.372222  0.815599  5  1.5      6.0  0.999657\n",
       "2020-11-09 18:45:00  1.751363  2.790302  0.815599  5  2.0      8.0  0.999391\n",
       "2020-11-09 19:45:00  1.751363  2.790302  0.060661  5  2.5     10.0  0.999048\n",
       "2020-11-09 20:45:00  1.134519  2.790302  1.338322  5  3.0     12.0  0.998630\n",
       "2020-11-09 21:45:00  0.905063  0.111188  1.338322  5  3.5     14.0  0.998135\n",
       "2020-11-09 22:45:00  0.905063  0.561689  1.338322  5  4.0     16.0  0.997564\n",
       "2020-11-09 23:45:00  0.905063  0.561689  1.338322  5  4.5     18.0  0.996917"
      ],
      "text/html": "<div>\n<style scoped>\n    .dataframe tbody tr th:only-of-type {\n        vertical-align: middle;\n    }\n\n    .dataframe tbody tr th {\n        vertical-align: top;\n    }\n\n    .dataframe thead th {\n        text-align: right;\n    }\n</style>\n<table border=\"1\" class=\"dataframe\">\n  <thead>\n    <tr style=\"text-align: right;\">\n      <th></th>\n      <th>A</th>\n      <th>B</th>\n      <th>C</th>\n      <th>D</th>\n      <th>E</th>\n      <th>E prime</th>\n      <th>cosine</th>\n    </tr>\n  </thead>\n  <tbody>\n    <tr>\n      <th>2020-11-09 14:45:00</th>\n      <td>NaN</td>\n      <td>NaN</td>\n      <td>NaN</td>\n      <td>5</td>\n      <td>NaN</td>\n      <td>NaN</td>\n      <td>1.000000</td>\n    </tr>\n    <tr>\n      <th>2020-11-09 15:45:00</th>\n      <td>1.520583</td>\n      <td>0.557920</td>\n      <td>0.815599</td>\n      <td>5</td>\n      <td>0.5</td>\n      <td>2.0</td>\n      <td>0.999962</td>\n    </tr>\n    <tr>\n      <th>2020-11-09 16:45:00</th>\n      <td>1.069117</td>\n      <td>0.372222</td>\n      <td>0.815599</td>\n      <td>5</td>\n      <td>1.0</td>\n      <td>4.0</td>\n      <td>0.999848</td>\n    </tr>\n    <tr>\n      <th>2020-11-09 17:45:00</th>\n      <td>0.790946</td>\n      <td>0.372222</td>\n      <td>0.815599</td>\n      <td>5</td>\n      <td>1.5</td>\n      <td>6.0</td>\n      <td>0.999657</td>\n    </tr>\n    <tr>\n      <th>2020-11-09 18:45:00</th>\n      <td>1.751363</td>\n      <td>2.790302</td>\n      <td>0.815599</td>\n      <td>5</td>\n      <td>2.0</td>\n      <td>8.0</td>\n      <td>0.999391</td>\n    </tr>\n    <tr>\n      <th>2020-11-09 19:45:00</th>\n      <td>1.751363</td>\n      <td>2.790302</td>\n      <td>0.060661</td>\n      <td>5</td>\n      <td>2.5</td>\n      <td>10.0</td>\n      <td>0.999048</td>\n    </tr>\n    <tr>\n      <th>2020-11-09 20:45:00</th>\n      <td>1.134519</td>\n      <td>2.790302</td>\n      <td>1.338322</td>\n      <td>5</td>\n      <td>3.0</td>\n      <td>12.0</td>\n      <td>0.998630</td>\n    </tr>\n    <tr>\n      <th>2020-11-09 21:45:00</th>\n      <td>0.905063</td>\n      <td>0.111188</td>\n      <td>1.338322</td>\n      <td>5</td>\n      <td>3.5</td>\n      <td>14.0</td>\n      <td>0.998135</td>\n    </tr>\n    <tr>\n      <th>2020-11-09 22:45:00</th>\n      <td>0.905063</td>\n      <td>0.561689</td>\n      <td>1.338322</td>\n      <td>5</td>\n      <td>4.0</td>\n      <td>16.0</td>\n      <td>0.997564</td>\n    </tr>\n    <tr>\n      <th>2020-11-09 23:45:00</th>\n      <td>0.905063</td>\n      <td>0.561689</td>\n      <td>1.338322</td>\n      <td>5</td>\n      <td>4.5</td>\n      <td>18.0</td>\n      <td>0.996917</td>\n    </tr>\n  </tbody>\n</table>\n</div>"
     },
     "metadata": {},
     "execution_count": 51
    }
   ],
   "source": [
    "df_wNan.fillna(method='pad')"
   ]
  },
  {
   "cell_type": "markdown",
   "metadata": {},
   "source": [
    "## Operations\n",
    "\n",
    "Here comes the most relevant advantage of DataFrame. Operations on columns are extremly fast, almost as fast as the actual operation between elements in a raw"
   ]
  },
  {
   "cell_type": "code",
   "execution_count": 52,
   "metadata": {},
   "outputs": [
    {
     "output_type": "stream",
     "name": "stdout",
     "text": [
      "A          0.340171\nB          0.045607\nC         -0.302431\nD          5.000000\nE          2.250000\nE prime    9.000000\ncosine     0.998915\ndtype: float64 \n\n2020-11-09 14:45:00    0.531332\n2020-11-09 15:45:00    1.627723\n2020-11-09 16:45:00    1.694729\n2020-11-09 17:45:00    1.786506\n2020-11-09 18:45:00    2.824829\n2020-11-09 19:45:00    2.356705\n2020-11-09 20:45:00    3.198853\n2020-11-09 21:45:00    3.456354\n2020-11-09 22:45:00    3.501896\n2020-11-09 23:45:00    3.781448\nFreq: H, dtype: float64 \n\n"
     ]
    }
   ],
   "source": [
    "# Some statistics (mean() just as an example)\n",
    "# raws\n",
    "print (df.mean(axis=0),'\\n')\n",
    "# columns\n",
    "print (df.mean(axis=1),'\\n')"
   ]
  },
  {
   "cell_type": "code",
   "execution_count": 53,
   "metadata": {},
   "outputs": [
    {
     "output_type": "execute_result",
     "data": {
      "text/plain": [
       "                            A         B         C   D     E  E prime    cosine\n",
       "2020-11-09 14:45:00  0.000000 -1.725575 -0.555104   5   0.0        0  1.000000\n",
       "2020-11-09 15:45:00  1.520583 -1.167654  0.260495  10   0.5        2  1.999962\n",
       "2020-11-09 16:45:00  2.589699 -0.795432 -0.317590  15   1.5        6  2.999810\n",
       "2020-11-09 17:45:00  3.380645 -1.391136 -1.506946  20   3.0       12  3.999467\n",
       "2020-11-09 18:45:00  5.132008  1.399166 -2.274197  25   5.0       20  4.998858\n",
       "2020-11-09 19:45:00  3.538957  0.929440 -2.213536  30   7.5       30  5.997906\n",
       "2020-11-09 20:45:00  4.673476 -0.150062 -0.875214  35  10.5       42  6.996536\n",
       "2020-11-09 21:45:00  5.578539 -0.038874 -1.195123  40  14.0       56  7.994670\n",
       "2020-11-09 22:45:00  4.446659  0.522815 -2.109224  45  18.0       72  8.992234\n",
       "2020-11-09 23:45:00  3.401709  0.456073 -3.024309  50  22.5       90  9.989152"
      ],
      "text/html": "<div>\n<style scoped>\n    .dataframe tbody tr th:only-of-type {\n        vertical-align: middle;\n    }\n\n    .dataframe tbody tr th {\n        vertical-align: top;\n    }\n\n    .dataframe thead th {\n        text-align: right;\n    }\n</style>\n<table border=\"1\" class=\"dataframe\">\n  <thead>\n    <tr style=\"text-align: right;\">\n      <th></th>\n      <th>A</th>\n      <th>B</th>\n      <th>C</th>\n      <th>D</th>\n      <th>E</th>\n      <th>E prime</th>\n      <th>cosine</th>\n    </tr>\n  </thead>\n  <tbody>\n    <tr>\n      <th>2020-11-09 14:45:00</th>\n      <td>0.000000</td>\n      <td>-1.725575</td>\n      <td>-0.555104</td>\n      <td>5</td>\n      <td>0.0</td>\n      <td>0</td>\n      <td>1.000000</td>\n    </tr>\n    <tr>\n      <th>2020-11-09 15:45:00</th>\n      <td>1.520583</td>\n      <td>-1.167654</td>\n      <td>0.260495</td>\n      <td>10</td>\n      <td>0.5</td>\n      <td>2</td>\n      <td>1.999962</td>\n    </tr>\n    <tr>\n      <th>2020-11-09 16:45:00</th>\n      <td>2.589699</td>\n      <td>-0.795432</td>\n      <td>-0.317590</td>\n      <td>15</td>\n      <td>1.5</td>\n      <td>6</td>\n      <td>2.999810</td>\n    </tr>\n    <tr>\n      <th>2020-11-09 17:45:00</th>\n      <td>3.380645</td>\n      <td>-1.391136</td>\n      <td>-1.506946</td>\n      <td>20</td>\n      <td>3.0</td>\n      <td>12</td>\n      <td>3.999467</td>\n    </tr>\n    <tr>\n      <th>2020-11-09 18:45:00</th>\n      <td>5.132008</td>\n      <td>1.399166</td>\n      <td>-2.274197</td>\n      <td>25</td>\n      <td>5.0</td>\n      <td>20</td>\n      <td>4.998858</td>\n    </tr>\n    <tr>\n      <th>2020-11-09 19:45:00</th>\n      <td>3.538957</td>\n      <td>0.929440</td>\n      <td>-2.213536</td>\n      <td>30</td>\n      <td>7.5</td>\n      <td>30</td>\n      <td>5.997906</td>\n    </tr>\n    <tr>\n      <th>2020-11-09 20:45:00</th>\n      <td>4.673476</td>\n      <td>-0.150062</td>\n      <td>-0.875214</td>\n      <td>35</td>\n      <td>10.5</td>\n      <td>42</td>\n      <td>6.996536</td>\n    </tr>\n    <tr>\n      <th>2020-11-09 21:45:00</th>\n      <td>5.578539</td>\n      <td>-0.038874</td>\n      <td>-1.195123</td>\n      <td>40</td>\n      <td>14.0</td>\n      <td>56</td>\n      <td>7.994670</td>\n    </tr>\n    <tr>\n      <th>2020-11-09 22:45:00</th>\n      <td>4.446659</td>\n      <td>0.522815</td>\n      <td>-2.109224</td>\n      <td>45</td>\n      <td>18.0</td>\n      <td>72</td>\n      <td>8.992234</td>\n    </tr>\n    <tr>\n      <th>2020-11-09 23:45:00</th>\n      <td>3.401709</td>\n      <td>0.456073</td>\n      <td>-3.024309</td>\n      <td>50</td>\n      <td>22.5</td>\n      <td>90</td>\n      <td>9.989152</td>\n    </tr>\n  </tbody>\n</table>\n</div>"
     },
     "metadata": {},
     "execution_count": 53
    }
   ],
   "source": [
    "# global operations on columns\n",
    "df.apply(np.cumsum)"
   ]
  },
  {
   "cell_type": "code",
   "execution_count": 54,
   "metadata": {},
   "outputs": [
    {
     "output_type": "execute_result",
     "data": {
      "text/plain": [
       "                            A         B         C  D    E  E prime    cosine\n",
       "2020-11-09 14:45:00  0.000000 -1.725575 -0.555104  5  0.0        0  1.000000\n",
       "2020-11-09 15:45:00  1.520583  0.557920  0.815599  5  0.5        2  0.999962\n",
       "2020-11-09 16:45:00  1.069117  0.372222 -0.578085  5  1.0        4  0.999848\n",
       "2020-11-09 17:45:00  0.790946 -0.595704 -1.189357  5  1.5        6  0.999657\n",
       "2020-11-09 18:45:00  1.751363  2.790302 -0.767250  5  2.0        8  0.999391\n",
       "2020-11-09 19:45:00 -1.593051 -0.469726  0.060661  5  2.5       10  0.999048\n",
       "2020-11-09 20:45:00  1.134519 -1.079502  1.338322  5  3.0       12  0.998630\n",
       "2020-11-09 21:45:00  0.905063  0.111188 -0.319909  5  3.5       14  0.998135\n",
       "2020-11-09 22:45:00 -1.131880  0.561689 -0.914100  5  4.0       16  0.997564\n",
       "2020-11-09 23:45:00 -1.044950 -0.066742 -0.915086  5  4.5       18  0.996917"
      ],
      "text/html": "<div>\n<style scoped>\n    .dataframe tbody tr th:only-of-type {\n        vertical-align: middle;\n    }\n\n    .dataframe tbody tr th {\n        vertical-align: top;\n    }\n\n    .dataframe thead th {\n        text-align: right;\n    }\n</style>\n<table border=\"1\" class=\"dataframe\">\n  <thead>\n    <tr style=\"text-align: right;\">\n      <th></th>\n      <th>A</th>\n      <th>B</th>\n      <th>C</th>\n      <th>D</th>\n      <th>E</th>\n      <th>E prime</th>\n      <th>cosine</th>\n    </tr>\n  </thead>\n  <tbody>\n    <tr>\n      <th>2020-11-09 14:45:00</th>\n      <td>0.000000</td>\n      <td>-1.725575</td>\n      <td>-0.555104</td>\n      <td>5</td>\n      <td>0.0</td>\n      <td>0</td>\n      <td>1.000000</td>\n    </tr>\n    <tr>\n      <th>2020-11-09 15:45:00</th>\n      <td>1.520583</td>\n      <td>0.557920</td>\n      <td>0.815599</td>\n      <td>5</td>\n      <td>0.5</td>\n      <td>2</td>\n      <td>0.999962</td>\n    </tr>\n    <tr>\n      <th>2020-11-09 16:45:00</th>\n      <td>1.069117</td>\n      <td>0.372222</td>\n      <td>-0.578085</td>\n      <td>5</td>\n      <td>1.0</td>\n      <td>4</td>\n      <td>0.999848</td>\n    </tr>\n    <tr>\n      <th>2020-11-09 17:45:00</th>\n      <td>0.790946</td>\n      <td>-0.595704</td>\n      <td>-1.189357</td>\n      <td>5</td>\n      <td>1.5</td>\n      <td>6</td>\n      <td>0.999657</td>\n    </tr>\n    <tr>\n      <th>2020-11-09 18:45:00</th>\n      <td>1.751363</td>\n      <td>2.790302</td>\n      <td>-0.767250</td>\n      <td>5</td>\n      <td>2.0</td>\n      <td>8</td>\n      <td>0.999391</td>\n    </tr>\n    <tr>\n      <th>2020-11-09 19:45:00</th>\n      <td>-1.593051</td>\n      <td>-0.469726</td>\n      <td>0.060661</td>\n      <td>5</td>\n      <td>2.5</td>\n      <td>10</td>\n      <td>0.999048</td>\n    </tr>\n    <tr>\n      <th>2020-11-09 20:45:00</th>\n      <td>1.134519</td>\n      <td>-1.079502</td>\n      <td>1.338322</td>\n      <td>5</td>\n      <td>3.0</td>\n      <td>12</td>\n      <td>0.998630</td>\n    </tr>\n    <tr>\n      <th>2020-11-09 21:45:00</th>\n      <td>0.905063</td>\n      <td>0.111188</td>\n      <td>-0.319909</td>\n      <td>5</td>\n      <td>3.5</td>\n      <td>14</td>\n      <td>0.998135</td>\n    </tr>\n    <tr>\n      <th>2020-11-09 22:45:00</th>\n      <td>-1.131880</td>\n      <td>0.561689</td>\n      <td>-0.914100</td>\n      <td>5</td>\n      <td>4.0</td>\n      <td>16</td>\n      <td>0.997564</td>\n    </tr>\n    <tr>\n      <th>2020-11-09 23:45:00</th>\n      <td>-1.044950</td>\n      <td>-0.066742</td>\n      <td>-0.915086</td>\n      <td>5</td>\n      <td>4.5</td>\n      <td>18</td>\n      <td>0.996917</td>\n    </tr>\n  </tbody>\n</table>\n</div>"
     },
     "metadata": {},
     "execution_count": 54
    }
   ],
   "source": [
    "df"
   ]
  },
  {
   "cell_type": "code",
   "execution_count": 55,
   "metadata": {},
   "outputs": [
    {
     "output_type": "execute_result",
     "data": {
      "text/plain": [
       "A           3.344414\n",
       "B           4.515877\n",
       "C           2.527679\n",
       "D           0.000000\n",
       "E           4.500000\n",
       "E prime    18.000000\n",
       "cosine      0.003083\n",
       "dtype: float64"
      ]
     },
     "metadata": {},
     "execution_count": 55
    }
   ],
   "source": [
    "df.apply(lambda x: x.max() - x.min())"
   ]
  },
  {
   "cell_type": "code",
   "execution_count": 56,
   "metadata": {},
   "outputs": [
    {
     "output_type": "execute_result",
     "data": {
      "text/plain": [
       "2020-11-09 14:45:00   -1.725575\n",
       "2020-11-09 15:45:00    2.078503\n",
       "2020-11-09 16:45:00    1.441339\n",
       "2020-11-09 17:45:00    0.195242\n",
       "2020-11-09 18:45:00    4.541665\n",
       "2020-11-09 19:45:00   -2.062777\n",
       "2020-11-09 20:45:00    0.055017\n",
       "2020-11-09 21:45:00    1.016251\n",
       "2020-11-09 22:45:00   -0.570191\n",
       "2020-11-09 23:45:00   -1.111692\n",
       "Freq: H, dtype: float64"
      ]
     },
     "metadata": {},
     "execution_count": 56
    }
   ],
   "source": [
    "# syntax is as usual similar to that of numpy arrays\n",
    "df['A']+df['B']"
   ]
  },
  {
   "cell_type": "markdown",
   "metadata": {},
   "source": [
    "Let's play it hard and load (in memory) a (relatively) large dataset"
   ]
  },
  {
   "cell_type": "code",
   "execution_count": 57,
   "metadata": {},
   "outputs": [
    {
     "output_type": "error",
     "ename": "FileNotFoundError",
     "evalue": "[Errno 2] No such file or directory: 'C:\\\\Users\\\\ma_gi/data/data_000637.txt'",
     "traceback": [
      "\u001b[1;31m---------------------------------------------------------------------------\u001b[0m",
      "\u001b[1;31mFileNotFoundError\u001b[0m                         Traceback (most recent call last)",
      "\u001b[1;32m<ipython-input-57-46e7609bac93>\u001b[0m in \u001b[0;36m<module>\u001b[1;34m\u001b[0m\n\u001b[0;32m      3\u001b[0m \u001b[1;33m\u001b[0m\u001b[0m\n\u001b[0;32m      4\u001b[0m \u001b[0mfile_name\u001b[0m\u001b[1;33m=\u001b[0m\u001b[1;34m\"~/data/data_000637.txt\"\u001b[0m\u001b[1;33m\u001b[0m\u001b[1;33m\u001b[0m\u001b[0m\n\u001b[1;32m----> 5\u001b[1;33m \u001b[0mdata\u001b[0m\u001b[1;33m=\u001b[0m\u001b[0mpd\u001b[0m\u001b[1;33m.\u001b[0m\u001b[0mread_csv\u001b[0m\u001b[1;33m(\u001b[0m\u001b[0mfile_name\u001b[0m\u001b[1;33m)\u001b[0m\u001b[1;33m\u001b[0m\u001b[1;33m\u001b[0m\u001b[0m\n\u001b[0m\u001b[0;32m      6\u001b[0m \u001b[0mdata\u001b[0m\u001b[1;33m\u001b[0m\u001b[1;33m\u001b[0m\u001b[0m\n",
      "\u001b[1;32m~\\AppData\\Local\\Programs\\Python\\Python38-32\\lib\\site-packages\\pandas\\io\\parsers.py\u001b[0m in \u001b[0;36mread_csv\u001b[1;34m(filepath_or_buffer, sep, delimiter, header, names, index_col, usecols, squeeze, prefix, mangle_dupe_cols, dtype, engine, converters, true_values, false_values, skipinitialspace, skiprows, skipfooter, nrows, na_values, keep_default_na, na_filter, verbose, skip_blank_lines, parse_dates, infer_datetime_format, keep_date_col, date_parser, dayfirst, cache_dates, iterator, chunksize, compression, thousands, decimal, lineterminator, quotechar, quoting, doublequote, escapechar, comment, encoding, dialect, error_bad_lines, warn_bad_lines, delim_whitespace, low_memory, memory_map, float_precision)\u001b[0m\n\u001b[0;32m    686\u001b[0m     )\n\u001b[0;32m    687\u001b[0m \u001b[1;33m\u001b[0m\u001b[0m\n\u001b[1;32m--> 688\u001b[1;33m     \u001b[1;32mreturn\u001b[0m \u001b[0m_read\u001b[0m\u001b[1;33m(\u001b[0m\u001b[0mfilepath_or_buffer\u001b[0m\u001b[1;33m,\u001b[0m \u001b[0mkwds\u001b[0m\u001b[1;33m)\u001b[0m\u001b[1;33m\u001b[0m\u001b[1;33m\u001b[0m\u001b[0m\n\u001b[0m\u001b[0;32m    689\u001b[0m \u001b[1;33m\u001b[0m\u001b[0m\n\u001b[0;32m    690\u001b[0m \u001b[1;33m\u001b[0m\u001b[0m\n",
      "\u001b[1;32m~\\AppData\\Local\\Programs\\Python\\Python38-32\\lib\\site-packages\\pandas\\io\\parsers.py\u001b[0m in \u001b[0;36m_read\u001b[1;34m(filepath_or_buffer, kwds)\u001b[0m\n\u001b[0;32m    452\u001b[0m \u001b[1;33m\u001b[0m\u001b[0m\n\u001b[0;32m    453\u001b[0m     \u001b[1;31m# Create the parser.\u001b[0m\u001b[1;33m\u001b[0m\u001b[1;33m\u001b[0m\u001b[1;33m\u001b[0m\u001b[0m\n\u001b[1;32m--> 454\u001b[1;33m     \u001b[0mparser\u001b[0m \u001b[1;33m=\u001b[0m \u001b[0mTextFileReader\u001b[0m\u001b[1;33m(\u001b[0m\u001b[0mfp_or_buf\u001b[0m\u001b[1;33m,\u001b[0m \u001b[1;33m**\u001b[0m\u001b[0mkwds\u001b[0m\u001b[1;33m)\u001b[0m\u001b[1;33m\u001b[0m\u001b[1;33m\u001b[0m\u001b[0m\n\u001b[0m\u001b[0;32m    455\u001b[0m \u001b[1;33m\u001b[0m\u001b[0m\n\u001b[0;32m    456\u001b[0m     \u001b[1;32mif\u001b[0m \u001b[0mchunksize\u001b[0m \u001b[1;32mor\u001b[0m \u001b[0miterator\u001b[0m\u001b[1;33m:\u001b[0m\u001b[1;33m\u001b[0m\u001b[1;33m\u001b[0m\u001b[0m\n",
      "\u001b[1;32m~\\AppData\\Local\\Programs\\Python\\Python38-32\\lib\\site-packages\\pandas\\io\\parsers.py\u001b[0m in \u001b[0;36m__init__\u001b[1;34m(self, f, engine, **kwds)\u001b[0m\n\u001b[0;32m    946\u001b[0m             \u001b[0mself\u001b[0m\u001b[1;33m.\u001b[0m\u001b[0moptions\u001b[0m\u001b[1;33m[\u001b[0m\u001b[1;34m\"has_index_names\"\u001b[0m\u001b[1;33m]\u001b[0m \u001b[1;33m=\u001b[0m \u001b[0mkwds\u001b[0m\u001b[1;33m[\u001b[0m\u001b[1;34m\"has_index_names\"\u001b[0m\u001b[1;33m]\u001b[0m\u001b[1;33m\u001b[0m\u001b[1;33m\u001b[0m\u001b[0m\n\u001b[0;32m    947\u001b[0m \u001b[1;33m\u001b[0m\u001b[0m\n\u001b[1;32m--> 948\u001b[1;33m         \u001b[0mself\u001b[0m\u001b[1;33m.\u001b[0m\u001b[0m_make_engine\u001b[0m\u001b[1;33m(\u001b[0m\u001b[0mself\u001b[0m\u001b[1;33m.\u001b[0m\u001b[0mengine\u001b[0m\u001b[1;33m)\u001b[0m\u001b[1;33m\u001b[0m\u001b[1;33m\u001b[0m\u001b[0m\n\u001b[0m\u001b[0;32m    949\u001b[0m \u001b[1;33m\u001b[0m\u001b[0m\n\u001b[0;32m    950\u001b[0m     \u001b[1;32mdef\u001b[0m \u001b[0mclose\u001b[0m\u001b[1;33m(\u001b[0m\u001b[0mself\u001b[0m\u001b[1;33m)\u001b[0m\u001b[1;33m:\u001b[0m\u001b[1;33m\u001b[0m\u001b[1;33m\u001b[0m\u001b[0m\n",
      "\u001b[1;32m~\\AppData\\Local\\Programs\\Python\\Python38-32\\lib\\site-packages\\pandas\\io\\parsers.py\u001b[0m in \u001b[0;36m_make_engine\u001b[1;34m(self, engine)\u001b[0m\n\u001b[0;32m   1178\u001b[0m     \u001b[1;32mdef\u001b[0m \u001b[0m_make_engine\u001b[0m\u001b[1;33m(\u001b[0m\u001b[0mself\u001b[0m\u001b[1;33m,\u001b[0m \u001b[0mengine\u001b[0m\u001b[1;33m=\u001b[0m\u001b[1;34m\"c\"\u001b[0m\u001b[1;33m)\u001b[0m\u001b[1;33m:\u001b[0m\u001b[1;33m\u001b[0m\u001b[1;33m\u001b[0m\u001b[0m\n\u001b[0;32m   1179\u001b[0m         \u001b[1;32mif\u001b[0m \u001b[0mengine\u001b[0m \u001b[1;33m==\u001b[0m \u001b[1;34m\"c\"\u001b[0m\u001b[1;33m:\u001b[0m\u001b[1;33m\u001b[0m\u001b[1;33m\u001b[0m\u001b[0m\n\u001b[1;32m-> 1180\u001b[1;33m             \u001b[0mself\u001b[0m\u001b[1;33m.\u001b[0m\u001b[0m_engine\u001b[0m \u001b[1;33m=\u001b[0m \u001b[0mCParserWrapper\u001b[0m\u001b[1;33m(\u001b[0m\u001b[0mself\u001b[0m\u001b[1;33m.\u001b[0m\u001b[0mf\u001b[0m\u001b[1;33m,\u001b[0m \u001b[1;33m**\u001b[0m\u001b[0mself\u001b[0m\u001b[1;33m.\u001b[0m\u001b[0moptions\u001b[0m\u001b[1;33m)\u001b[0m\u001b[1;33m\u001b[0m\u001b[1;33m\u001b[0m\u001b[0m\n\u001b[0m\u001b[0;32m   1181\u001b[0m         \u001b[1;32melse\u001b[0m\u001b[1;33m:\u001b[0m\u001b[1;33m\u001b[0m\u001b[1;33m\u001b[0m\u001b[0m\n\u001b[0;32m   1182\u001b[0m             \u001b[1;32mif\u001b[0m \u001b[0mengine\u001b[0m \u001b[1;33m==\u001b[0m \u001b[1;34m\"python\"\u001b[0m\u001b[1;33m:\u001b[0m\u001b[1;33m\u001b[0m\u001b[1;33m\u001b[0m\u001b[0m\n",
      "\u001b[1;32m~\\AppData\\Local\\Programs\\Python\\Python38-32\\lib\\site-packages\\pandas\\io\\parsers.py\u001b[0m in \u001b[0;36m__init__\u001b[1;34m(self, src, **kwds)\u001b[0m\n\u001b[0;32m   2008\u001b[0m         \u001b[0mkwds\u001b[0m\u001b[1;33m[\u001b[0m\u001b[1;34m\"usecols\"\u001b[0m\u001b[1;33m]\u001b[0m \u001b[1;33m=\u001b[0m \u001b[0mself\u001b[0m\u001b[1;33m.\u001b[0m\u001b[0musecols\u001b[0m\u001b[1;33m\u001b[0m\u001b[1;33m\u001b[0m\u001b[0m\n\u001b[0;32m   2009\u001b[0m \u001b[1;33m\u001b[0m\u001b[0m\n\u001b[1;32m-> 2010\u001b[1;33m         \u001b[0mself\u001b[0m\u001b[1;33m.\u001b[0m\u001b[0m_reader\u001b[0m \u001b[1;33m=\u001b[0m \u001b[0mparsers\u001b[0m\u001b[1;33m.\u001b[0m\u001b[0mTextReader\u001b[0m\u001b[1;33m(\u001b[0m\u001b[0msrc\u001b[0m\u001b[1;33m,\u001b[0m \u001b[1;33m**\u001b[0m\u001b[0mkwds\u001b[0m\u001b[1;33m)\u001b[0m\u001b[1;33m\u001b[0m\u001b[1;33m\u001b[0m\u001b[0m\n\u001b[0m\u001b[0;32m   2011\u001b[0m         \u001b[0mself\u001b[0m\u001b[1;33m.\u001b[0m\u001b[0munnamed_cols\u001b[0m \u001b[1;33m=\u001b[0m \u001b[0mself\u001b[0m\u001b[1;33m.\u001b[0m\u001b[0m_reader\u001b[0m\u001b[1;33m.\u001b[0m\u001b[0munnamed_cols\u001b[0m\u001b[1;33m\u001b[0m\u001b[1;33m\u001b[0m\u001b[0m\n\u001b[0;32m   2012\u001b[0m \u001b[1;33m\u001b[0m\u001b[0m\n",
      "\u001b[1;32mpandas\\_libs\\parsers.pyx\u001b[0m in \u001b[0;36mpandas._libs.parsers.TextReader.__cinit__\u001b[1;34m()\u001b[0m\n",
      "\u001b[1;32mpandas\\_libs\\parsers.pyx\u001b[0m in \u001b[0;36mpandas._libs.parsers.TextReader._setup_parser_source\u001b[1;34m()\u001b[0m\n",
      "\u001b[1;31mFileNotFoundError\u001b[0m: [Errno 2] No such file or directory: 'C:\\\\Users\\\\ma_gi/data/data_000637.txt'"
     ]
    }
   ],
   "source": [
    "# WARNING! link in past notebook was wrong!, (if needed) get the right file from:\n",
    "#!wget https://www.dropbox.com/s/xvjzaxzz3ysphme/data_000637.txt -P ~/data/\n",
    "\n",
    "file_name=\"~/data/data_000637.txt\"\n",
    "data=pd.read_csv(file_name)\n",
    "data"
   ]
  },
  {
   "cell_type": "markdown",
   "metadata": {},
   "source": [
    "Let's now do some operations among (elements of) columns"
   ]
  },
  {
   "cell_type": "code",
   "execution_count": null,
   "metadata": {},
   "outputs": [],
   "source": [
    "# the one-liner killing it all\n",
    "data['timens']=data['TDC_MEAS']*25/30+data['BX_COUNTER']*25"
   ]
  },
  {
   "cell_type": "code",
   "execution_count": null,
   "metadata": {},
   "outputs": [],
   "source": [
    "# the old slooow way\n",
    "def conversion(data):\n",
    "    result=[]\n",
    "    for i in range(len(data)): \n",
    "        result.append(data.loc[data.index[i],'TDC_MEAS']*25/30.+data.loc[data.index[i],'BX_COUNTER']*25)\n",
    "    return result\n",
    "\n",
    "data['timens']=conversion(data)"
   ]
  },
  {
   "cell_type": "markdown",
   "metadata": {},
   "source": [
    "## Merge\n",
    "\n",
    "pandas provides various facilities for easily combining together Series, DataFrame, and Panel objects with various kinds of set logic for the indexes and relational algebra functionality in the case of join / merge-type operations.\n",
    "\n",
    "### Concat\n",
    "\n",
    "concatenation (adding rows) is straightforward\n"
   ]
  },
  {
   "cell_type": "code",
   "execution_count": null,
   "metadata": {},
   "outputs": [],
   "source": [
    "rdf = pd.DataFrame(np.random.randn(10, 4))\n",
    "rdf"
   ]
  },
  {
   "cell_type": "code",
   "execution_count": null,
   "metadata": {},
   "outputs": [],
   "source": [
    "# divide it into pieaces raw-wise\n",
    "pieces = [rdf[:3], rdf[3:7], rdf[7:]]\n",
    "pieces"
   ]
  },
  {
   "cell_type": "code",
   "execution_count": null,
   "metadata": {},
   "outputs": [],
   "source": [
    "# put it back together\n",
    "#pd.concat(pieces)\n",
    "\n",
    "# indexes can be ignored\n",
    "pd.concat(pieces, ignore_index=True)\n",
    "\n",
    "# in case of dimension mismatch, Nan are added where needed"
   ]
  },
  {
   "cell_type": "code",
   "execution_count": null,
   "metadata": {},
   "outputs": [],
   "source": [
    "# appending a single row (as a Series)\n",
    "s = rdf.iloc[3]\n",
    "rdf.append(s, ignore_index=True)\n",
    "rdf"
   ]
  },
  {
   "cell_type": "markdown",
   "metadata": {},
   "source": [
    "### Merge/Join\n",
    "\n",
    "SQL like operations on table can be performed on DataFrames. This is all rather sophisticated, refer to the [doc](https://pandas.pydata.org/pandas-docs/stable/merging.html#merging) for more info/examples"
   ]
  },
  {
   "cell_type": "code",
   "execution_count": null,
   "metadata": {},
   "outputs": [],
   "source": [
    "left = pd.DataFrame({'key': ['foo', 'bar'], 'lval': [1, 2]})\n",
    "right = pd.DataFrame({'key': ['foo', 'bar'], 'rval': [4, 5]})\n",
    "\n",
    "pd.merge(left,right,on=\"key\")"
   ]
  },
  {
   "cell_type": "markdown",
   "metadata": {},
   "source": [
    "## Grouping\n",
    "\n",
    "By “group by” we are referring to a process involving one or more of the following steps:\n",
    "\n",
    "* Splitting the data into groups based on some criteria\n",
    "* Applying a function to each group independently\n",
    "* Combining the results into a data structure\n"
   ]
  },
  {
   "cell_type": "code",
   "execution_count": null,
   "metadata": {},
   "outputs": [],
   "source": [
    "gdf = pd.DataFrame({'A' : ['foo', 'bar', 'foo', 'bar',\n",
    "                          'foo', 'bar', 'foo', 'foo'],\n",
    "                    'B' : ['one', 'one', 'two', 'three',\n",
    "                           'two', 'two', 'one', 'three'],\n",
    "                    'C' : np.random.randn(8),\n",
    "                    'D' : np.random.randn(8)})\n",
    "gdf"
   ]
  },
  {
   "cell_type": "code",
   "execution_count": null,
   "metadata": {},
   "outputs": [],
   "source": [
    "# Grouping and then applying the sum() \n",
    "# function to the resulting groups (effective only where number are there).\n",
    "gdf.groupby('A').sum()"
   ]
  },
  {
   "cell_type": "markdown",
   "metadata": {},
   "source": [
    "## Multi-indexing\n",
    "\n",
    "\n",
    "Hierarchical / Multi-level indexing allows sophisticated data analysis on higher dimensional data. In essence, it enables you to store and manipulate data with an arbitrary number of dimensions in lower dimensional data structures like Series (1d) and DataFrame (2d)."
   ]
  },
  {
   "cell_type": "code",
   "execution_count": null,
   "metadata": {},
   "outputs": [],
   "source": [
    "tuples = list(zip(['bar', 'bar', 'baz', 'baz', 'foo', 'foo', 'qux', 'qux'],\n",
    "          ['one', 'two', 'one', 'two', 'one', 'two', 'one', 'two']))\n",
    "multi_index = pd.MultiIndex.from_tuples(tuples, names=['first', 'second'])\n",
    "print (multi_index,'\\n')\n",
    "\n",
    "s = pd.Series(np.random.randn(8), index=multi_index)\n",
    "print (s)\n"
   ]
  },
  {
   "cell_type": "code",
   "execution_count": null,
   "metadata": {},
   "outputs": [],
   "source": [
    "# it enables further features of the groupby method,\n",
    "# e.g. when group-by by multiple columns\n",
    "gdf.groupby(['A','B']).sum()"
   ]
  },
  {
   "cell_type": "code",
   "execution_count": null,
   "metadata": {},
   "outputs": [],
   "source": [
    "# stack() method “compresses” a level in the DataFrame’s columns\n",
    "gdf.groupby(['A','B']).sum().stack()"
   ]
  },
  {
   "cell_type": "markdown",
   "metadata": {},
   "source": [
    "## Plotting\n",
    "\n",
    "Just a preview, more on the next lab class!"
   ]
  },
  {
   "cell_type": "code",
   "execution_count": null,
   "metadata": {},
   "outputs": [],
   "source": [
    "ts = pd.Series(np.random.randn(1000), index=pd.date_range('1/1/2000', periods=1000))\n",
    "ts.cumsum().plot()"
   ]
  },
  {
   "cell_type": "code",
   "execution_count": null,
   "metadata": {},
   "outputs": [],
   "source": [
    "import matplotlib.pyplot as plt\n",
    "\n",
    "pdf=pd.DataFrame(np.random.randn(1000, 4), index=ts.index,columns=['A', 'B', 'C', 'D'])\n",
    "df = df.cumsum()\n",
    "plt.figure(); df.plot(); plt.legend(loc='best')"
   ]
  },
  {
   "cell_type": "code",
   "execution_count": null,
   "metadata": {},
   "outputs": [],
   "source": []
  }
 ],
 "metadata": {
  "kernelspec": {
   "display_name": "Python 3",
   "language": "python",
   "name": "python3"
  },
  "language_info": {
   "codemirror_mode": {
    "name": "ipython",
    "version": 3
   },
   "file_extension": ".py",
   "mimetype": "text/x-python",
   "name": "python",
   "nbconvert_exporter": "python",
   "pygments_lexer": "ipython3",
   "version": "3.8.3-final"
  }
 },
 "nbformat": 4,
 "nbformat_minor": 2
}