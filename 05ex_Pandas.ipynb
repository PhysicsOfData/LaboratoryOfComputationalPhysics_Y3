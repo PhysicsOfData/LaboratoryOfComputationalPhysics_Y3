{
 "cells": [
  {
   "cell_type": "markdown",
   "metadata": {},
   "source": [
    "## Pandas analysis\n",
    "\n",
    "This exercise consists in analyzing a dataset containg timing information from a series of Time-to-Digital-Converters (TDC) implemented in a couple of FPGAs. Each measurement (i.e. each row of the input file) consists of a flag that specifies the type of message ('HEAD', which in this case is always 1), two addresses of the TDC providing the signal ('FPGA' and 'TDC_CHANNEL'), and the timing information ('ORBIT_CNT', 'BX_COUNTER', and 'TDC_MEAS'). Each TDC count corresponds to 25/30 ns, whereas a unit of BX_COUNTER corresponds to 25 ns, and the ORBIT_CNT is increased every 'x' BX_COUNTER. This allows to store the time in a similar way to hours, minutes and seconds."
   ]
  },
  {
   "cell_type": "code",
   "execution_count": 1,
   "metadata": {},
   "outputs": [],
   "source": [
    "# If you didn't download it yet, please get the relevant file now!\n",
    "# !wget https://www.dropbox.com/s/xvjzaxzz3ysphme/data_000637.txt -P ~/data/"
   ]
  },
  {
   "cell_type": "code",
   "execution_count": 2,
   "metadata": {},
   "outputs": [],
   "source": [
    "import csv\n",
    "import numpy as np\n",
    "import matplotlib.pyplot as plt\n",
    "import pandas as pd\n",
    "from random import randrange\n",
    "\n",
    "TDC_unit = 25/30 #ns\n",
    "BX_unit = 25 #ns"
   ]
  },
  {
   "cell_type": "markdown",
   "metadata": {},
   "source": [
    "1\\. Create a Pandas DataFrame reading N rows of the 'data_000637.txt' dataset. Choose N to be smaller than or equal to the maximum number of rows and larger that 10k."
   ]
  },
  {
   "cell_type": "code",
   "execution_count": 32,
   "metadata": {},
   "outputs": [
    {
     "name": "stdout",
     "output_type": "stream",
     "text": [
      "1310720\n",
      "749788\n"
     ]
    }
   ],
   "source": [
    "N  = randrange(10000, len(pd.read_csv('data_000637.txt')))\n",
    "data = pd.read_csv('data_000637.txt',nrows=N)\n",
    "print(len(pd.read_csv('data_000637.txt')))\n",
    "print(len(data))"
   ]
  },
  {
   "cell_type": "markdown",
   "metadata": {},
   "source": [
    "2\\. Find out the number of BX in a ORBIT (the value 'x')."
   ]
  },
  {
   "cell_type": "code",
   "execution_count": 33,
   "metadata": {},
   "outputs": [
    {
     "name": "stdout",
     "output_type": "stream",
     "text": [
      "The max count of BX_COUNTER [#] :  3564 #\n",
      "\n"
     ]
    }
   ],
   "source": [
    "x=data[\"BX_COUNTER\"].max()+1\n",
    "print(\"The max count of BX_COUNTER [#] : \",x,\"#\"'\\n')\n",
    "orbit = x*BX_unit"
   ]
  },
  {
   "cell_type": "markdown",
   "metadata": {},
   "source": [
    "3\\. Find out how much the data taking lasted. You can either make an estimate based on the fraction of the measurements (rows) you read, or perform this check precisely by reading out the whole dataset."
   ]
  },
  {
   "cell_type": "code",
   "execution_count": 34,
   "metadata": {},
   "outputs": [
    {
     "name": "stdout",
     "output_type": "stream",
     "text": [
      "time lasted:  0.6399162 s\n"
     ]
    }
   ],
   "source": [
    "time_lasted = (data[\"ORBIT_CNT\"].max()-data[\"ORBIT_CNT\"].min())*orbit\n",
    "print(\"time lasted: \",time_lasted*10**-9, \"s\")"
   ]
  },
  {
   "cell_type": "markdown",
   "metadata": {},
   "source": [
    "4\\. Create a new column with the absolute time in ns (as a combination of the other three columns with timing information)."
   ]
  },
  {
   "cell_type": "code",
   "execution_count": 35,
   "metadata": {},
   "outputs": [],
   "source": [
    "data[\"ABS_NS\"] = data[\"ORBIT_CNT\"]*orbit + data[\"BX_COUNTER\"]*BX_unit + data[\"TDC_MEAS\"]*TDC_unit"
   ]
  },
  {
   "cell_type": "markdown",
   "metadata": {},
   "source": [
    "5\\. Replace the values (all 1) of the HEAD column randomly with 0 or 1."
   ]
  },
  {
   "cell_type": "code",
   "execution_count": 36,
   "metadata": {},
   "outputs": [
    {
     "data": {
      "text/html": [
       "<div>\n",
       "<style scoped>\n",
       "    .dataframe tbody tr th:only-of-type {\n",
       "        vertical-align: middle;\n",
       "    }\n",
       "\n",
       "    .dataframe tbody tr th {\n",
       "        vertical-align: top;\n",
       "    }\n",
       "\n",
       "    .dataframe thead th {\n",
       "        text-align: right;\n",
       "    }\n",
       "</style>\n",
       "<table border=\"1\" class=\"dataframe\">\n",
       "  <thead>\n",
       "    <tr style=\"text-align: right;\">\n",
       "      <th></th>\n",
       "      <th>HEAD</th>\n",
       "      <th>FPGA</th>\n",
       "      <th>TDC_CHANNEL</th>\n",
       "      <th>ORBIT_CNT</th>\n",
       "      <th>BX_COUNTER</th>\n",
       "      <th>TDC_MEAS</th>\n",
       "      <th>ABS_NS</th>\n",
       "    </tr>\n",
       "  </thead>\n",
       "  <tbody>\n",
       "    <tr>\n",
       "      <th>0</th>\n",
       "      <td>1</td>\n",
       "      <td>0</td>\n",
       "      <td>123</td>\n",
       "      <td>3869200167</td>\n",
       "      <td>2374</td>\n",
       "      <td>26</td>\n",
       "      <td>3.447457e+14</td>\n",
       "    </tr>\n",
       "    <tr>\n",
       "      <th>1</th>\n",
       "      <td>1</td>\n",
       "      <td>0</td>\n",
       "      <td>124</td>\n",
       "      <td>3869200167</td>\n",
       "      <td>2374</td>\n",
       "      <td>27</td>\n",
       "      <td>3.447457e+14</td>\n",
       "    </tr>\n",
       "    <tr>\n",
       "      <th>2</th>\n",
       "      <td>1</td>\n",
       "      <td>0</td>\n",
       "      <td>63</td>\n",
       "      <td>3869200167</td>\n",
       "      <td>2553</td>\n",
       "      <td>28</td>\n",
       "      <td>3.447457e+14</td>\n",
       "    </tr>\n",
       "    <tr>\n",
       "      <th>3</th>\n",
       "      <td>0</td>\n",
       "      <td>0</td>\n",
       "      <td>64</td>\n",
       "      <td>3869200167</td>\n",
       "      <td>2558</td>\n",
       "      <td>19</td>\n",
       "      <td>3.447457e+14</td>\n",
       "    </tr>\n",
       "    <tr>\n",
       "      <th>4</th>\n",
       "      <td>0</td>\n",
       "      <td>0</td>\n",
       "      <td>64</td>\n",
       "      <td>3869200167</td>\n",
       "      <td>2760</td>\n",
       "      <td>25</td>\n",
       "      <td>3.447457e+14</td>\n",
       "    </tr>\n",
       "    <tr>\n",
       "      <th>...</th>\n",
       "      <td>...</td>\n",
       "      <td>...</td>\n",
       "      <td>...</td>\n",
       "      <td>...</td>\n",
       "      <td>...</td>\n",
       "      <td>...</td>\n",
       "      <td>...</td>\n",
       "    </tr>\n",
       "    <tr>\n",
       "      <th>749783</th>\n",
       "      <td>1</td>\n",
       "      <td>0</td>\n",
       "      <td>63</td>\n",
       "      <td>3869207349</td>\n",
       "      <td>1534</td>\n",
       "      <td>1</td>\n",
       "      <td>3.447464e+14</td>\n",
       "    </tr>\n",
       "    <tr>\n",
       "      <th>749784</th>\n",
       "      <td>1</td>\n",
       "      <td>0</td>\n",
       "      <td>60</td>\n",
       "      <td>3869207349</td>\n",
       "      <td>1541</td>\n",
       "      <td>12</td>\n",
       "      <td>3.447464e+14</td>\n",
       "    </tr>\n",
       "    <tr>\n",
       "      <th>749785</th>\n",
       "      <td>0</td>\n",
       "      <td>0</td>\n",
       "      <td>61</td>\n",
       "      <td>3869207349</td>\n",
       "      <td>1539</td>\n",
       "      <td>13</td>\n",
       "      <td>3.447464e+14</td>\n",
       "    </tr>\n",
       "    <tr>\n",
       "      <th>749786</th>\n",
       "      <td>1</td>\n",
       "      <td>0</td>\n",
       "      <td>62</td>\n",
       "      <td>3869207349</td>\n",
       "      <td>1540</td>\n",
       "      <td>20</td>\n",
       "      <td>3.447464e+14</td>\n",
       "    </tr>\n",
       "    <tr>\n",
       "      <th>749787</th>\n",
       "      <td>0</td>\n",
       "      <td>0</td>\n",
       "      <td>72</td>\n",
       "      <td>3869207349</td>\n",
       "      <td>1604</td>\n",
       "      <td>5</td>\n",
       "      <td>3.447464e+14</td>\n",
       "    </tr>\n",
       "  </tbody>\n",
       "</table>\n",
       "<p>749788 rows × 7 columns</p>\n",
       "</div>"
      ],
      "text/plain": [
       "        HEAD  FPGA  TDC_CHANNEL   ORBIT_CNT  BX_COUNTER  TDC_MEAS  \\\n",
       "0          1     0          123  3869200167        2374        26   \n",
       "1          1     0          124  3869200167        2374        27   \n",
       "2          1     0           63  3869200167        2553        28   \n",
       "3          0     0           64  3869200167        2558        19   \n",
       "4          0     0           64  3869200167        2760        25   \n",
       "...      ...   ...          ...         ...         ...       ...   \n",
       "749783     1     0           63  3869207349        1534         1   \n",
       "749784     1     0           60  3869207349        1541        12   \n",
       "749785     0     0           61  3869207349        1539        13   \n",
       "749786     1     0           62  3869207349        1540        20   \n",
       "749787     0     0           72  3869207349        1604         5   \n",
       "\n",
       "              ABS_NS  \n",
       "0       3.447457e+14  \n",
       "1       3.447457e+14  \n",
       "2       3.447457e+14  \n",
       "3       3.447457e+14  \n",
       "4       3.447457e+14  \n",
       "...              ...  \n",
       "749783  3.447464e+14  \n",
       "749784  3.447464e+14  \n",
       "749785  3.447464e+14  \n",
       "749786  3.447464e+14  \n",
       "749787  3.447464e+14  \n",
       "\n",
       "[749788 rows x 7 columns]"
      ]
     },
     "execution_count": 36,
     "metadata": {},
     "output_type": "execute_result"
    }
   ],
   "source": [
    "data_r = data.copy()\n",
    "data_r[\"HEAD\"] = np.random.randint(2, size=len(data))\n",
    "data_r"
   ]
  },
  {
   "cell_type": "markdown",
   "metadata": {},
   "source": [
    "6\\. Create a new DataFrame that contains only the rows with HEAD=1."
   ]
  },
  {
   "cell_type": "code",
   "execution_count": 37,
   "metadata": {},
   "outputs": [
    {
     "data": {
      "text/html": [
       "<div>\n",
       "<style scoped>\n",
       "    .dataframe tbody tr th:only-of-type {\n",
       "        vertical-align: middle;\n",
       "    }\n",
       "\n",
       "    .dataframe tbody tr th {\n",
       "        vertical-align: top;\n",
       "    }\n",
       "\n",
       "    .dataframe thead th {\n",
       "        text-align: right;\n",
       "    }\n",
       "</style>\n",
       "<table border=\"1\" class=\"dataframe\">\n",
       "  <thead>\n",
       "    <tr style=\"text-align: right;\">\n",
       "      <th></th>\n",
       "      <th>HEAD</th>\n",
       "      <th>FPGA</th>\n",
       "      <th>TDC_CHANNEL</th>\n",
       "      <th>ORBIT_CNT</th>\n",
       "      <th>BX_COUNTER</th>\n",
       "      <th>TDC_MEAS</th>\n",
       "      <th>ABS_NS</th>\n",
       "    </tr>\n",
       "  </thead>\n",
       "  <tbody>\n",
       "    <tr>\n",
       "      <th>0</th>\n",
       "      <td>1</td>\n",
       "      <td>0</td>\n",
       "      <td>123</td>\n",
       "      <td>3869200167</td>\n",
       "      <td>2374</td>\n",
       "      <td>26</td>\n",
       "      <td>3.447457e+14</td>\n",
       "    </tr>\n",
       "    <tr>\n",
       "      <th>1</th>\n",
       "      <td>1</td>\n",
       "      <td>0</td>\n",
       "      <td>124</td>\n",
       "      <td>3869200167</td>\n",
       "      <td>2374</td>\n",
       "      <td>27</td>\n",
       "      <td>3.447457e+14</td>\n",
       "    </tr>\n",
       "    <tr>\n",
       "      <th>2</th>\n",
       "      <td>1</td>\n",
       "      <td>0</td>\n",
       "      <td>63</td>\n",
       "      <td>3869200167</td>\n",
       "      <td>2553</td>\n",
       "      <td>28</td>\n",
       "      <td>3.447457e+14</td>\n",
       "    </tr>\n",
       "    <tr>\n",
       "      <th>3</th>\n",
       "      <td>1</td>\n",
       "      <td>0</td>\n",
       "      <td>64</td>\n",
       "      <td>3869200167</td>\n",
       "      <td>2558</td>\n",
       "      <td>19</td>\n",
       "      <td>3.447457e+14</td>\n",
       "    </tr>\n",
       "    <tr>\n",
       "      <th>4</th>\n",
       "      <td>1</td>\n",
       "      <td>0</td>\n",
       "      <td>64</td>\n",
       "      <td>3869200167</td>\n",
       "      <td>2760</td>\n",
       "      <td>25</td>\n",
       "      <td>3.447457e+14</td>\n",
       "    </tr>\n",
       "    <tr>\n",
       "      <th>...</th>\n",
       "      <td>...</td>\n",
       "      <td>...</td>\n",
       "      <td>...</td>\n",
       "      <td>...</td>\n",
       "      <td>...</td>\n",
       "      <td>...</td>\n",
       "      <td>...</td>\n",
       "    </tr>\n",
       "    <tr>\n",
       "      <th>749783</th>\n",
       "      <td>1</td>\n",
       "      <td>0</td>\n",
       "      <td>63</td>\n",
       "      <td>3869207349</td>\n",
       "      <td>1534</td>\n",
       "      <td>1</td>\n",
       "      <td>3.447464e+14</td>\n",
       "    </tr>\n",
       "    <tr>\n",
       "      <th>749784</th>\n",
       "      <td>1</td>\n",
       "      <td>0</td>\n",
       "      <td>60</td>\n",
       "      <td>3869207349</td>\n",
       "      <td>1541</td>\n",
       "      <td>12</td>\n",
       "      <td>3.447464e+14</td>\n",
       "    </tr>\n",
       "    <tr>\n",
       "      <th>749785</th>\n",
       "      <td>1</td>\n",
       "      <td>0</td>\n",
       "      <td>61</td>\n",
       "      <td>3869207349</td>\n",
       "      <td>1539</td>\n",
       "      <td>13</td>\n",
       "      <td>3.447464e+14</td>\n",
       "    </tr>\n",
       "    <tr>\n",
       "      <th>749786</th>\n",
       "      <td>1</td>\n",
       "      <td>0</td>\n",
       "      <td>62</td>\n",
       "      <td>3869207349</td>\n",
       "      <td>1540</td>\n",
       "      <td>20</td>\n",
       "      <td>3.447464e+14</td>\n",
       "    </tr>\n",
       "    <tr>\n",
       "      <th>749787</th>\n",
       "      <td>1</td>\n",
       "      <td>0</td>\n",
       "      <td>72</td>\n",
       "      <td>3869207349</td>\n",
       "      <td>1604</td>\n",
       "      <td>5</td>\n",
       "      <td>3.447464e+14</td>\n",
       "    </tr>\n",
       "  </tbody>\n",
       "</table>\n",
       "<p>749788 rows × 7 columns</p>\n",
       "</div>"
      ],
      "text/plain": [
       "        HEAD  FPGA  TDC_CHANNEL   ORBIT_CNT  BX_COUNTER  TDC_MEAS  \\\n",
       "0          1     0          123  3869200167        2374        26   \n",
       "1          1     0          124  3869200167        2374        27   \n",
       "2          1     0           63  3869200167        2553        28   \n",
       "3          1     0           64  3869200167        2558        19   \n",
       "4          1     0           64  3869200167        2760        25   \n",
       "...      ...   ...          ...         ...         ...       ...   \n",
       "749783     1     0           63  3869207349        1534         1   \n",
       "749784     1     0           60  3869207349        1541        12   \n",
       "749785     1     0           61  3869207349        1539        13   \n",
       "749786     1     0           62  3869207349        1540        20   \n",
       "749787     1     0           72  3869207349        1604         5   \n",
       "\n",
       "              ABS_NS  \n",
       "0       3.447457e+14  \n",
       "1       3.447457e+14  \n",
       "2       3.447457e+14  \n",
       "3       3.447457e+14  \n",
       "4       3.447457e+14  \n",
       "...              ...  \n",
       "749783  3.447464e+14  \n",
       "749784  3.447464e+14  \n",
       "749785  3.447464e+14  \n",
       "749786  3.447464e+14  \n",
       "749787  3.447464e+14  \n",
       "\n",
       "[749788 rows x 7 columns]"
      ]
     },
     "execution_count": 37,
     "metadata": {},
     "output_type": "execute_result"
    }
   ],
   "source": [
    "data_1=data[data[\"HEAD\"]==1]\n",
    "data_1"
   ]
  },
  {
   "cell_type": "markdown",
   "metadata": {},
   "source": [
    "7\\. Make two occupancy plots (one for each FPGA), i.e. plot the number of counts per TDC channel"
   ]
  },
  {
   "cell_type": "code",
   "execution_count": 38,
   "metadata": {},
   "outputs": [
    {
     "data": {
      "image/png": "[encoded data removed]",
      "text/plain": [
       "<Figure size 864x576 with 2 Axes>"
      ]
     },
     "metadata": {
      "needs_background": "light"
     },
     "output_type": "display_data"
    }
   ],
   "source": [
    "set0 = data[data['FPGA'] == 0]['TDC_CHANNEL']\n",
    "set1 = data[data['FPGA'] == 1]['TDC_CHANNEL']\n",
    "fig, (ax1, ax2) = plt.subplots(1,2,sharex=True, figsize=(12,8))\n",
    "ax1.hist(set0, color='brown', bins=set0.max(), label=\"FPGA 0\")\n",
    "ax1.legend()\n",
    "ax1.set_xlabel(\"TDC_CHANNEL\")\n",
    "ax1.set_ylabel(\"Counts\")\n",
    "ax2.hist(set1, color='green', bins=set1.max(), label=\"FPGA 1\")\n",
    "ax2.legend()\n",
    "ax2.set_xlabel(\"TDC_CHANNEL\")\n",
    "ax2.set_ylabel(\"Counts\")\n",
    "plt.show()"
   ]
  },
  {
   "cell_type": "markdown",
   "metadata": {},
   "source": [
    "8\\. Use the groupby method to find out the noisy channels, i.e. the TDC channels with most counts (say the top 3)"
   ]
  },
  {
   "cell_type": "code",
   "execution_count": 39,
   "metadata": {},
   "outputs": [
    {
     "name": "stdout",
     "output_type": "stream",
     "text": [
      "FPGA = 0 : \n",
      "  TDC_CHANNEL\n",
      "139    43532\n",
      "64     36740\n",
      "63     36380\n",
      "Name: FPGA, dtype: int64\n",
      "FPGA = 1 : \n",
      "  TDC_CHANNEL\n",
      "2      18595\n",
      "139    18591\n",
      "1      16190\n",
      "Name: FPGA, dtype: int64\n",
      "Noisy Channels (FPGA, TDC_CHANNEL): [(0, 139), (0, 64), (0, 63)]\n"
     ]
    }
   ],
   "source": [
    "print(\"FPGA = 0 : \\n \", data[data['FPGA'] == 0].groupby(['TDC_CHANNEL']).FPGA.count().nlargest(3))\n",
    "print(\"FPGA = 1 : \\n \",data[data['FPGA'] == 1].groupby(['TDC_CHANNEL']).FPGA.count().nlargest(3))\n",
    "\n",
    "noisy = data.groupby([\"FPGA\",\"TDC_CHANNEL\"]).sum()\n",
    "\n",
    "noisy = [pd.DataFrame([noisy['HEAD'].nlargest(3).index]).T.unstack().iloc[i] for i in range(3)]\n",
    "\n",
    "print(\"Noisy Channels (FPGA, TDC_CHANNEL):\", noisy)\n"
   ]
  },
  {
   "cell_type": "markdown",
   "metadata": {},
   "source": [
    "9\\. Count the number of unique orbits. Count the number of unique orbits with at least one measurement from TDC_CHANNEL=139"
   ]
  },
  {
   "cell_type": "code",
   "execution_count": 40,
   "metadata": {},
   "outputs": [
    {
     "name": "stdout",
     "output_type": "stream",
     "text": [
      "Numbers of unique orbits :  7179\n",
      "Number of unique orbits with at least one measurement from TDC_CHANNEL=139 :  7154\n"
     ]
    }
   ],
   "source": [
    "print(\"Numbers of unique orbits : \" , len(data.ORBIT_CNT.unique()))\n",
    "print(\"Number of unique orbits with at least one measurement from TDC_CHANNEL=139 : \", len(data[data['TDC_CHANNEL']==139].ORBIT_CNT.unique()))"
   ]
  }
 ],
 "metadata": {
  "kernelspec": {
   "display_name": "Python 3",
   "language": "python",
   "name": "python3"
  },
  "language_info": {
   "codemirror_mode": {
    "name": "ipython",
    "version": 3
   },
   "file_extension": ".py",
   "mimetype": "text/x-python",
   "name": "python",
   "nbconvert_exporter": "python",
   "pygments_lexer": "ipython3",
   "version": "3.7.9"
  }
 },
 "nbformat": 4,
 "nbformat_minor": 2
}
