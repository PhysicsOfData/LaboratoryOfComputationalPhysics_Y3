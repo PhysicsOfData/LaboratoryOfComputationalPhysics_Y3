{
 "cells": [
  {
   "cell_type": "markdown",
   "metadata": {},
   "source": [
    "## Pandas analysis\n",
    "\n",
    "This exercise consists in analyzing a dataset containg timing information from a series of Time-to-Digital-Converters (TDC) implemented in a couple of FPGAs. Each measurement (i.e. each row of the input file) consists of a flag that specifies the type of message ('HEAD', which in this case is always 1), two addresses of the TDC providing the signal ('FPGA' and 'TDC_CHANNEL'), and the timing information ('ORBIT_CNT', 'BX_COUNTER', and 'TDC_MEAS'). Each TDC count corresponds to 25/30 ns, whereas a unit of BX_COUNTER corresponds to 25 ns, and the ORBIT_CNT is increased every 'x' BX_COUNTER. This allows to store the time in a similar way to hours, minutes and seconds."
   ]
  },
  {
   "cell_type": "code",
   "execution_count": 1,
   "metadata": {
    "ExecuteTime": {
     "end_time": "2020-11-30T17:39:55.425246Z",
     "start_time": "2020-11-30T17:39:55.414408Z"
    }
   },
   "outputs": [],
   "source": [
    "# If you didn't download it yet, please get the relevant file now!\n",
    "#!wget https://www.dropbox.com/s/xvjzaxzz3ysphme/data_000637.txt -P ~/data/"
   ]
  },
  {
   "cell_type": "markdown",
   "metadata": {},
   "source": [
    "1\\. Create a Pandas DataFrame reading N rows of the 'data_000637.txt' dataset. Choose N to be smaller than or equal to the maximum number of rows and larger that 10k.\n",
    "\n",
    "2\\. Find out the number of BX in a ORBIT (the value 'x').\n",
    "\n",
    "3\\. Find out how much the data taking lasted. You can either make an estimate based on the fraction of the measurements (rows) you read, or perform this check precisely by reading out the whole dataset.\n",
    "\n",
    "4\\. Create a new column with the absolute time in ns (as a combination of the other three columns with timing information).\n",
    "\n",
    "5\\. Replace the values (all 1) of the HEAD column randomly with 0 or 1.\n",
    "\n",
    "6\\. Create a new DataFrame that contains only the rows with HEAD=1.\n",
    "\n",
    "7\\. Make two occupancy plots (one for each FPGA), i.e. plot the number of counts per TDC channel\n",
    "\n",
    "8\\. Use the groupby method to find out the noisy channels, i.e. the TDC channels with most counts (say the top 3)\n",
    "\n",
    "9\\. Count the number of unique orbits. Count the number of unique orbits with at least one measurement from TDC_CHANNEL=139"
   ]
  },
  {
   "cell_type": "markdown",
   "metadata": {},
   "source": [
    "### Exercise 1."
   ]
  },
  {
   "cell_type": "code",
   "execution_count": 2,
   "metadata": {
    "ExecuteTime": {
     "end_time": "2020-11-30T17:39:59.272315Z",
     "start_time": "2020-11-30T17:39:58.772959Z"
    }
   },
   "outputs": [
    {
     "data": {
      "text/html": [
       "<div>\n",
       "<style scoped>\n",
       "    .dataframe tbody tr th:only-of-type {\n",
       "        vertical-align: middle;\n",
       "    }\n",
       "\n",
       "    .dataframe tbody tr th {\n",
       "        vertical-align: top;\n",
       "    }\n",
       "\n",
       "    .dataframe thead th {\n",
       "        text-align: right;\n",
       "    }\n",
       "</style>\n",
       "<table border=\"1\" class=\"dataframe\">\n",
       "  <thead>\n",
       "    <tr style=\"text-align: right;\">\n",
       "      <th></th>\n",
       "      <th>HEAD</th>\n",
       "      <th>FPGA</th>\n",
       "      <th>TDC_CHANNEL</th>\n",
       "      <th>ORBIT_CNT</th>\n",
       "      <th>BX_COUNTER</th>\n",
       "      <th>TDC_MEAS</th>\n",
       "    </tr>\n",
       "  </thead>\n",
       "  <tbody>\n",
       "    <tr>\n",
       "      <td>0</td>\n",
       "      <td>1</td>\n",
       "      <td>0</td>\n",
       "      <td>123</td>\n",
       "      <td>3869200167</td>\n",
       "      <td>2374</td>\n",
       "      <td>26</td>\n",
       "    </tr>\n",
       "    <tr>\n",
       "      <td>1</td>\n",
       "      <td>1</td>\n",
       "      <td>0</td>\n",
       "      <td>124</td>\n",
       "      <td>3869200167</td>\n",
       "      <td>2374</td>\n",
       "      <td>27</td>\n",
       "    </tr>\n",
       "    <tr>\n",
       "      <td>2</td>\n",
       "      <td>1</td>\n",
       "      <td>0</td>\n",
       "      <td>63</td>\n",
       "      <td>3869200167</td>\n",
       "      <td>2553</td>\n",
       "      <td>28</td>\n",
       "    </tr>\n",
       "    <tr>\n",
       "      <td>3</td>\n",
       "      <td>1</td>\n",
       "      <td>0</td>\n",
       "      <td>64</td>\n",
       "      <td>3869200167</td>\n",
       "      <td>2558</td>\n",
       "      <td>19</td>\n",
       "    </tr>\n",
       "    <tr>\n",
       "      <td>4</td>\n",
       "      <td>1</td>\n",
       "      <td>0</td>\n",
       "      <td>64</td>\n",
       "      <td>3869200167</td>\n",
       "      <td>2760</td>\n",
       "      <td>25</td>\n",
       "    </tr>\n",
       "    <tr>\n",
       "      <td>...</td>\n",
       "      <td>...</td>\n",
       "      <td>...</td>\n",
       "      <td>...</td>\n",
       "      <td>...</td>\n",
       "      <td>...</td>\n",
       "      <td>...</td>\n",
       "    </tr>\n",
       "    <tr>\n",
       "      <td>49995</td>\n",
       "      <td>1</td>\n",
       "      <td>1</td>\n",
       "      <td>2</td>\n",
       "      <td>3869200664</td>\n",
       "      <td>1103</td>\n",
       "      <td>4</td>\n",
       "    </tr>\n",
       "    <tr>\n",
       "      <td>49996</td>\n",
       "      <td>1</td>\n",
       "      <td>1</td>\n",
       "      <td>4</td>\n",
       "      <td>3869200664</td>\n",
       "      <td>1105</td>\n",
       "      <td>14</td>\n",
       "    </tr>\n",
       "    <tr>\n",
       "      <td>49997</td>\n",
       "      <td>1</td>\n",
       "      <td>0</td>\n",
       "      <td>59</td>\n",
       "      <td>3869200664</td>\n",
       "      <td>1191</td>\n",
       "      <td>17</td>\n",
       "    </tr>\n",
       "    <tr>\n",
       "      <td>49998</td>\n",
       "      <td>1</td>\n",
       "      <td>0</td>\n",
       "      <td>32</td>\n",
       "      <td>3869200664</td>\n",
       "      <td>1191</td>\n",
       "      <td>1</td>\n",
       "    </tr>\n",
       "    <tr>\n",
       "      <td>49999</td>\n",
       "      <td>1</td>\n",
       "      <td>0</td>\n",
       "      <td>60</td>\n",
       "      <td>3869200664</td>\n",
       "      <td>1190</td>\n",
       "      <td>6</td>\n",
       "    </tr>\n",
       "  </tbody>\n",
       "</table>\n",
       "<p>50000 rows × 6 columns</p>\n",
       "</div>"
      ],
      "text/plain": [
       "       HEAD  FPGA  TDC_CHANNEL   ORBIT_CNT  BX_COUNTER  TDC_MEAS\n",
       "0         1     0          123  3869200167        2374        26\n",
       "1         1     0          124  3869200167        2374        27\n",
       "2         1     0           63  3869200167        2553        28\n",
       "3         1     0           64  3869200167        2558        19\n",
       "4         1     0           64  3869200167        2760        25\n",
       "...     ...   ...          ...         ...         ...       ...\n",
       "49995     1     1            2  3869200664        1103         4\n",
       "49996     1     1            4  3869200664        1105        14\n",
       "49997     1     0           59  3869200664        1191        17\n",
       "49998     1     0           32  3869200664        1191         1\n",
       "49999     1     0           60  3869200664        1190         6\n",
       "\n",
       "[50000 rows x 6 columns]"
      ]
     },
     "execution_count": 2,
     "metadata": {},
     "output_type": "execute_result"
    }
   ],
   "source": [
    "import pandas as pd\n",
    "import numpy as np\n",
    "df=pd.read_csv('data_000637.txt',nrows=50000)\n",
    "df"
   ]
  },
  {
   "cell_type": "markdown",
   "metadata": {},
   "source": [
    "### Exercise 2."
   ]
  },
  {
   "cell_type": "code",
   "execution_count": 9,
   "metadata": {
    "ExecuteTime": {
     "end_time": "2020-11-30T17:41:33.743464Z",
     "start_time": "2020-11-30T17:41:33.498311Z"
    }
   },
   "outputs": [
    {
     "name": "stdout",
     "output_type": "stream",
     "text": [
      "[3869200167       3187]\n",
      "[3869200168       3538]\n",
      "[3869200664       1191]\n"
     ]
    }
   ],
   "source": [
    "\n",
    "df2=pd.read_csv('data_000637.txt',nrows=50000)\n",
    "Unique_keys=np.unique(df2['ORBIT_CNT'])\n",
    "bx_max=[df2['BX_COUNTER'][df2['ORBIT_CNT']==key].max() for key in Unique_keys] \n",
    "bx_orbit=np.array([Unique_keys,bx_max])\n",
    "print(bx_orbit[:,0])\n",
    "print(bx_orbit[:,1])\n",
    "print(bx_orbit[:,-1])"
   ]
  },
  {
   "cell_type": "markdown",
   "metadata": {},
   "source": [
    "### Exercise 3"
   ]
  },
  {
   "cell_type": "code",
   "execution_count": 11,
   "metadata": {
    "ExecuteTime": {
     "end_time": "2020-11-30T17:44:10.089631Z",
     "start_time": "2020-11-30T17:44:09.763851Z"
    }
   },
   "outputs": [],
   "source": [
    "df3=pd.read_csv('data_000637.txt',index_col=3,nrows=50000)\n",
    "Unique_keys=np.unique(df3['BX_COUNTER'].keys())\n",
    "bx=0\n",
    "n=1310720\n",
    "#df3['BX_COUNTER'][key]\n",
    "for key in Unique_keys:\n",
    "    lista=np.array(df3['BX_COUNTER'][key])\n",
    "    bx+=max(lista)*25*10**(-9)+np.array(df3['TDC_MEAS'][key])[np.argmax(lista)]*5/6*10**(-9)\n"
   ]
  },
  {
   "cell_type": "code",
   "execution_count": 12,
   "metadata": {
    "ExecuteTime": {
     "end_time": "2020-11-30T17:44:11.263692Z",
     "start_time": "2020-11-30T17:44:11.250724Z"
    }
   },
   "outputs": [
    {
     "name": "stdout",
     "output_type": "stream",
     "text": [
      "The data acquisition took 1.0579647747413325 s\n"
     ]
    }
   ],
   "source": [
    "print('The data acquisition took',n*bx/50000,'s')\n"
   ]
  },
  {
   "cell_type": "code",
   "execution_count": null,
   "metadata": {},
   "outputs": [],
   "source": []
  },
  {
   "cell_type": "markdown",
   "metadata": {},
   "source": [
    "### Exercise 4"
   ]
  },
  {
   "cell_type": "code",
   "execution_count": 13,
   "metadata": {
    "ExecuteTime": {
     "end_time": "2020-11-30T17:44:17.953812Z",
     "start_time": "2020-11-30T17:44:16.419914Z"
    }
   },
   "outputs": [
    {
     "data": {
      "text/html": [
       "<div>\n",
       "<style scoped>\n",
       "    .dataframe tbody tr th:only-of-type {\n",
       "        vertical-align: middle;\n",
       "    }\n",
       "\n",
       "    .dataframe tbody tr th {\n",
       "        vertical-align: top;\n",
       "    }\n",
       "\n",
       "    .dataframe thead th {\n",
       "        text-align: right;\n",
       "    }\n",
       "</style>\n",
       "<table border=\"1\" class=\"dataframe\">\n",
       "  <thead>\n",
       "    <tr style=\"text-align: right;\">\n",
       "      <th></th>\n",
       "      <th>HEAD</th>\n",
       "      <th>FPGA</th>\n",
       "      <th>TDC_CHANNEL</th>\n",
       "      <th>BX_COUNTER</th>\n",
       "      <th>TDC_MEAS</th>\n",
       "      <th>TIME_ABS</th>\n",
       "    </tr>\n",
       "    <tr>\n",
       "      <th>ORBIT_CNT</th>\n",
       "      <th></th>\n",
       "      <th></th>\n",
       "      <th></th>\n",
       "      <th></th>\n",
       "      <th></th>\n",
       "      <th></th>\n",
       "    </tr>\n",
       "  </thead>\n",
       "  <tbody>\n",
       "    <tr>\n",
       "      <td>3869200167</td>\n",
       "      <td>1</td>\n",
       "      <td>0</td>\n",
       "      <td>123</td>\n",
       "      <td>2374</td>\n",
       "      <td>26</td>\n",
       "      <td>0.000059</td>\n",
       "    </tr>\n",
       "    <tr>\n",
       "      <td>3869200167</td>\n",
       "      <td>1</td>\n",
       "      <td>0</td>\n",
       "      <td>124</td>\n",
       "      <td>2374</td>\n",
       "      <td>27</td>\n",
       "      <td>0.000059</td>\n",
       "    </tr>\n",
       "    <tr>\n",
       "      <td>3869200167</td>\n",
       "      <td>1</td>\n",
       "      <td>0</td>\n",
       "      <td>63</td>\n",
       "      <td>2553</td>\n",
       "      <td>28</td>\n",
       "      <td>0.000064</td>\n",
       "    </tr>\n",
       "    <tr>\n",
       "      <td>3869200167</td>\n",
       "      <td>1</td>\n",
       "      <td>0</td>\n",
       "      <td>64</td>\n",
       "      <td>2558</td>\n",
       "      <td>19</td>\n",
       "      <td>0.000064</td>\n",
       "    </tr>\n",
       "    <tr>\n",
       "      <td>3869200167</td>\n",
       "      <td>1</td>\n",
       "      <td>0</td>\n",
       "      <td>64</td>\n",
       "      <td>2760</td>\n",
       "      <td>25</td>\n",
       "      <td>0.000069</td>\n",
       "    </tr>\n",
       "    <tr>\n",
       "      <td>...</td>\n",
       "      <td>...</td>\n",
       "      <td>...</td>\n",
       "      <td>...</td>\n",
       "      <td>...</td>\n",
       "      <td>...</td>\n",
       "      <td>...</td>\n",
       "    </tr>\n",
       "    <tr>\n",
       "      <td>3869200664</td>\n",
       "      <td>1</td>\n",
       "      <td>1</td>\n",
       "      <td>2</td>\n",
       "      <td>1103</td>\n",
       "      <td>4</td>\n",
       "      <td>0.040356</td>\n",
       "    </tr>\n",
       "    <tr>\n",
       "      <td>3869200664</td>\n",
       "      <td>1</td>\n",
       "      <td>1</td>\n",
       "      <td>4</td>\n",
       "      <td>1105</td>\n",
       "      <td>14</td>\n",
       "      <td>0.040356</td>\n",
       "    </tr>\n",
       "    <tr>\n",
       "      <td>3869200664</td>\n",
       "      <td>1</td>\n",
       "      <td>0</td>\n",
       "      <td>59</td>\n",
       "      <td>1191</td>\n",
       "      <td>17</td>\n",
       "      <td>0.040359</td>\n",
       "    </tr>\n",
       "    <tr>\n",
       "      <td>3869200664</td>\n",
       "      <td>1</td>\n",
       "      <td>0</td>\n",
       "      <td>32</td>\n",
       "      <td>1191</td>\n",
       "      <td>1</td>\n",
       "      <td>0.040359</td>\n",
       "    </tr>\n",
       "    <tr>\n",
       "      <td>3869200664</td>\n",
       "      <td>1</td>\n",
       "      <td>0</td>\n",
       "      <td>60</td>\n",
       "      <td>1190</td>\n",
       "      <td>6</td>\n",
       "      <td>0.040359</td>\n",
       "    </tr>\n",
       "  </tbody>\n",
       "</table>\n",
       "<p>50000 rows × 6 columns</p>\n",
       "</div>"
      ],
      "text/plain": [
       "            HEAD  FPGA  TDC_CHANNEL  BX_COUNTER  TDC_MEAS  TIME_ABS\n",
       "ORBIT_CNT                                                          \n",
       "3869200167     1     0          123        2374        26  0.000059\n",
       "3869200167     1     0          124        2374        27  0.000059\n",
       "3869200167     1     0           63        2553        28  0.000064\n",
       "3869200167     1     0           64        2558        19  0.000064\n",
       "3869200167     1     0           64        2760        25  0.000069\n",
       "...          ...   ...          ...         ...       ...       ...\n",
       "3869200664     1     1            2        1103         4  0.040356\n",
       "3869200664     1     1            4        1105        14  0.040356\n",
       "3869200664     1     0           59        1191        17  0.040359\n",
       "3869200664     1     0           32        1191         1  0.040359\n",
       "3869200664     1     0           60        1190         6  0.040359\n",
       "\n",
       "[50000 rows x 6 columns]"
      ]
     },
     "execution_count": 13,
     "metadata": {},
     "output_type": "execute_result"
    }
   ],
   "source": [
    "df3=pd.read_csv('data_000637.txt',index_col=3,nrows=50000)\n",
    "\n",
    "Time_abs=np.zeros(50000)\n",
    "i_tot=0\n",
    "prev_time=0\n",
    "for key in Unique_keys:\n",
    "    bx=np.array(df3['BX_COUNTER'][key])*25\n",
    "    tdc=np.array(df3['TDC_MEAS'][key])*(5/6)\n",
    "    for i in range(len(df3['BX_COUNTER'][key])):\n",
    "        i_now=i_tot+i\n",
    "        Time_abs[i_now]=bx[i]+tdc[i]+prev_time\n",
    "    prev_time=max(Time_abs[i_tot:])\n",
    "    i_tot+=i+1\n",
    "Time_abs*=10**(-9)\n",
    "df3['TIME_ABS']=Time_abs\n",
    "df3"
   ]
  },
  {
   "cell_type": "markdown",
   "metadata": {
    "run_control": {
     "marked": false
    }
   },
   "source": [
    "### Exercise 5"
   ]
  },
  {
   "cell_type": "code",
   "execution_count": 212,
   "metadata": {
    "ExecuteTime": {
     "end_time": "2020-11-14T10:30:53.785836Z",
     "start_time": "2020-11-14T10:30:53.750058Z"
    }
   },
   "outputs": [
    {
     "data": {
      "text/html": [
       "<div>\n",
       "<style scoped>\n",
       "    .dataframe tbody tr th:only-of-type {\n",
       "        vertical-align: middle;\n",
       "    }\n",
       "\n",
       "    .dataframe tbody tr th {\n",
       "        vertical-align: top;\n",
       "    }\n",
       "\n",
       "    .dataframe thead th {\n",
       "        text-align: right;\n",
       "    }\n",
       "</style>\n",
       "<table border=\"1\" class=\"dataframe\">\n",
       "  <thead>\n",
       "    <tr style=\"text-align: right;\">\n",
       "      <th></th>\n",
       "      <th>HEAD</th>\n",
       "      <th>FPGA</th>\n",
       "      <th>TDC_CHANNEL</th>\n",
       "      <th>BX_COUNTER</th>\n",
       "      <th>TDC_MEAS</th>\n",
       "      <th>TIME_ABS</th>\n",
       "    </tr>\n",
       "    <tr>\n",
       "      <th>ORBIT_CNT</th>\n",
       "      <th></th>\n",
       "      <th></th>\n",
       "      <th></th>\n",
       "      <th></th>\n",
       "      <th></th>\n",
       "      <th></th>\n",
       "    </tr>\n",
       "  </thead>\n",
       "  <tbody>\n",
       "    <tr>\n",
       "      <td>3869200167</td>\n",
       "      <td>1</td>\n",
       "      <td>0</td>\n",
       "      <td>123</td>\n",
       "      <td>2374</td>\n",
       "      <td>26</td>\n",
       "      <td>0.000059</td>\n",
       "    </tr>\n",
       "    <tr>\n",
       "      <td>3869200167</td>\n",
       "      <td>1</td>\n",
       "      <td>0</td>\n",
       "      <td>124</td>\n",
       "      <td>2374</td>\n",
       "      <td>27</td>\n",
       "      <td>0.000059</td>\n",
       "    </tr>\n",
       "    <tr>\n",
       "      <td>3869200167</td>\n",
       "      <td>0</td>\n",
       "      <td>0</td>\n",
       "      <td>63</td>\n",
       "      <td>2553</td>\n",
       "      <td>28</td>\n",
       "      <td>0.000064</td>\n",
       "    </tr>\n",
       "    <tr>\n",
       "      <td>3869200167</td>\n",
       "      <td>1</td>\n",
       "      <td>0</td>\n",
       "      <td>64</td>\n",
       "      <td>2558</td>\n",
       "      <td>19</td>\n",
       "      <td>0.000064</td>\n",
       "    </tr>\n",
       "    <tr>\n",
       "      <td>3869200167</td>\n",
       "      <td>0</td>\n",
       "      <td>0</td>\n",
       "      <td>64</td>\n",
       "      <td>2760</td>\n",
       "      <td>25</td>\n",
       "      <td>0.000069</td>\n",
       "    </tr>\n",
       "    <tr>\n",
       "      <td>...</td>\n",
       "      <td>...</td>\n",
       "      <td>...</td>\n",
       "      <td>...</td>\n",
       "      <td>...</td>\n",
       "      <td>...</td>\n",
       "      <td>...</td>\n",
       "    </tr>\n",
       "    <tr>\n",
       "      <td>3869200664</td>\n",
       "      <td>0</td>\n",
       "      <td>1</td>\n",
       "      <td>2</td>\n",
       "      <td>1103</td>\n",
       "      <td>4</td>\n",
       "      <td>0.040356</td>\n",
       "    </tr>\n",
       "    <tr>\n",
       "      <td>3869200664</td>\n",
       "      <td>1</td>\n",
       "      <td>1</td>\n",
       "      <td>4</td>\n",
       "      <td>1105</td>\n",
       "      <td>14</td>\n",
       "      <td>0.040356</td>\n",
       "    </tr>\n",
       "    <tr>\n",
       "      <td>3869200664</td>\n",
       "      <td>1</td>\n",
       "      <td>0</td>\n",
       "      <td>59</td>\n",
       "      <td>1191</td>\n",
       "      <td>17</td>\n",
       "      <td>0.040359</td>\n",
       "    </tr>\n",
       "    <tr>\n",
       "      <td>3869200664</td>\n",
       "      <td>0</td>\n",
       "      <td>0</td>\n",
       "      <td>32</td>\n",
       "      <td>1191</td>\n",
       "      <td>1</td>\n",
       "      <td>0.040359</td>\n",
       "    </tr>\n",
       "    <tr>\n",
       "      <td>3869200664</td>\n",
       "      <td>0</td>\n",
       "      <td>0</td>\n",
       "      <td>60</td>\n",
       "      <td>1190</td>\n",
       "      <td>6</td>\n",
       "      <td>0.040359</td>\n",
       "    </tr>\n",
       "  </tbody>\n",
       "</table>\n",
       "<p>50000 rows × 6 columns</p>\n",
       "</div>"
      ],
      "text/plain": [
       "            HEAD  FPGA  TDC_CHANNEL  BX_COUNTER  TDC_MEAS  TIME_ABS\n",
       "ORBIT_CNT                                                          \n",
       "3869200167     1     0          123        2374        26  0.000059\n",
       "3869200167     1     0          124        2374        27  0.000059\n",
       "3869200167     0     0           63        2553        28  0.000064\n",
       "3869200167     1     0           64        2558        19  0.000064\n",
       "3869200167     0     0           64        2760        25  0.000069\n",
       "...          ...   ...          ...         ...       ...       ...\n",
       "3869200664     0     1            2        1103         4  0.040356\n",
       "3869200664     1     1            4        1105        14  0.040356\n",
       "3869200664     1     0           59        1191        17  0.040359\n",
       "3869200664     0     0           32        1191         1  0.040359\n",
       "3869200664     0     0           60        1190         6  0.040359\n",
       "\n",
       "[50000 rows x 6 columns]"
      ]
     },
     "execution_count": 212,
     "metadata": {},
     "output_type": "execute_result"
    }
   ],
   "source": [
    "df3['HEAD']=np.random.randint(0,2,50000)\n",
    "df3"
   ]
  },
  {
   "cell_type": "markdown",
   "metadata": {},
   "source": [
    "### Exercise 6"
   ]
  },
  {
   "cell_type": "code",
   "execution_count": 213,
   "metadata": {
    "ExecuteTime": {
     "end_time": "2020-11-14T10:30:56.262030Z",
     "start_time": "2020-11-14T10:30:56.244583Z"
    }
   },
   "outputs": [],
   "source": [
    "df4=df3[df3['HEAD']==1]"
   ]
  },
  {
   "cell_type": "code",
   "execution_count": 214,
   "metadata": {
    "ExecuteTime": {
     "end_time": "2020-11-14T10:30:59.621283Z",
     "start_time": "2020-11-14T10:30:59.589697Z"
    }
   },
   "outputs": [
    {
     "data": {
      "text/html": [
       "<div>\n",
       "<style scoped>\n",
       "    .dataframe tbody tr th:only-of-type {\n",
       "        vertical-align: middle;\n",
       "    }\n",
       "\n",
       "    .dataframe tbody tr th {\n",
       "        vertical-align: top;\n",
       "    }\n",
       "\n",
       "    .dataframe thead th {\n",
       "        text-align: right;\n",
       "    }\n",
       "</style>\n",
       "<table border=\"1\" class=\"dataframe\">\n",
       "  <thead>\n",
       "    <tr style=\"text-align: right;\">\n",
       "      <th></th>\n",
       "      <th>HEAD</th>\n",
       "      <th>FPGA</th>\n",
       "      <th>TDC_CHANNEL</th>\n",
       "      <th>BX_COUNTER</th>\n",
       "      <th>TDC_MEAS</th>\n",
       "      <th>TIME_ABS</th>\n",
       "    </tr>\n",
       "    <tr>\n",
       "      <th>ORBIT_CNT</th>\n",
       "      <th></th>\n",
       "      <th></th>\n",
       "      <th></th>\n",
       "      <th></th>\n",
       "      <th></th>\n",
       "      <th></th>\n",
       "    </tr>\n",
       "  </thead>\n",
       "  <tbody>\n",
       "    <tr>\n",
       "      <td>3869200167</td>\n",
       "      <td>1</td>\n",
       "      <td>0</td>\n",
       "      <td>123</td>\n",
       "      <td>2374</td>\n",
       "      <td>26</td>\n",
       "      <td>0.000059</td>\n",
       "    </tr>\n",
       "    <tr>\n",
       "      <td>3869200167</td>\n",
       "      <td>1</td>\n",
       "      <td>0</td>\n",
       "      <td>124</td>\n",
       "      <td>2374</td>\n",
       "      <td>27</td>\n",
       "      <td>0.000059</td>\n",
       "    </tr>\n",
       "    <tr>\n",
       "      <td>3869200167</td>\n",
       "      <td>1</td>\n",
       "      <td>0</td>\n",
       "      <td>64</td>\n",
       "      <td>2558</td>\n",
       "      <td>19</td>\n",
       "      <td>0.000064</td>\n",
       "    </tr>\n",
       "    <tr>\n",
       "      <td>3869200167</td>\n",
       "      <td>1</td>\n",
       "      <td>0</td>\n",
       "      <td>61</td>\n",
       "      <td>2772</td>\n",
       "      <td>14</td>\n",
       "      <td>0.000069</td>\n",
       "    </tr>\n",
       "    <tr>\n",
       "      <td>3869200167</td>\n",
       "      <td>1</td>\n",
       "      <td>0</td>\n",
       "      <td>139</td>\n",
       "      <td>2776</td>\n",
       "      <td>0</td>\n",
       "      <td>0.000069</td>\n",
       "    </tr>\n",
       "    <tr>\n",
       "      <td>...</td>\n",
       "      <td>...</td>\n",
       "      <td>...</td>\n",
       "      <td>...</td>\n",
       "      <td>...</td>\n",
       "      <td>...</td>\n",
       "      <td>...</td>\n",
       "    </tr>\n",
       "    <tr>\n",
       "      <td>3869200664</td>\n",
       "      <td>1</td>\n",
       "      <td>0</td>\n",
       "      <td>50</td>\n",
       "      <td>1029</td>\n",
       "      <td>4</td>\n",
       "      <td>0.040355</td>\n",
       "    </tr>\n",
       "    <tr>\n",
       "      <td>3869200664</td>\n",
       "      <td>1</td>\n",
       "      <td>0</td>\n",
       "      <td>49</td>\n",
       "      <td>1036</td>\n",
       "      <td>8</td>\n",
       "      <td>0.040355</td>\n",
       "    </tr>\n",
       "    <tr>\n",
       "      <td>3869200664</td>\n",
       "      <td>1</td>\n",
       "      <td>0</td>\n",
       "      <td>47</td>\n",
       "      <td>1040</td>\n",
       "      <td>5</td>\n",
       "      <td>0.040355</td>\n",
       "    </tr>\n",
       "    <tr>\n",
       "      <td>3869200664</td>\n",
       "      <td>1</td>\n",
       "      <td>1</td>\n",
       "      <td>4</td>\n",
       "      <td>1105</td>\n",
       "      <td>14</td>\n",
       "      <td>0.040356</td>\n",
       "    </tr>\n",
       "    <tr>\n",
       "      <td>3869200664</td>\n",
       "      <td>1</td>\n",
       "      <td>0</td>\n",
       "      <td>59</td>\n",
       "      <td>1191</td>\n",
       "      <td>17</td>\n",
       "      <td>0.040359</td>\n",
       "    </tr>\n",
       "  </tbody>\n",
       "</table>\n",
       "<p>25040 rows × 6 columns</p>\n",
       "</div>"
      ],
      "text/plain": [
       "            HEAD  FPGA  TDC_CHANNEL  BX_COUNTER  TDC_MEAS  TIME_ABS\n",
       "ORBIT_CNT                                                          \n",
       "3869200167     1     0          123        2374        26  0.000059\n",
       "3869200167     1     0          124        2374        27  0.000059\n",
       "3869200167     1     0           64        2558        19  0.000064\n",
       "3869200167     1     0           61        2772        14  0.000069\n",
       "3869200167     1     0          139        2776         0  0.000069\n",
       "...          ...   ...          ...         ...       ...       ...\n",
       "3869200664     1     0           50        1029         4  0.040355\n",
       "3869200664     1     0           49        1036         8  0.040355\n",
       "3869200664     1     0           47        1040         5  0.040355\n",
       "3869200664     1     1            4        1105        14  0.040356\n",
       "3869200664     1     0           59        1191        17  0.040359\n",
       "\n",
       "[25040 rows x 6 columns]"
      ]
     },
     "execution_count": 214,
     "metadata": {},
     "output_type": "execute_result"
    }
   ],
   "source": [
    "df4"
   ]
  },
  {
   "cell_type": "markdown",
   "metadata": {},
   "source": [
    "### Exercise 7"
   ]
  },
  {
   "cell_type": "code",
   "execution_count": 15,
   "metadata": {
    "ExecuteTime": {
     "end_time": "2020-11-30T17:45:13.183496Z",
     "start_time": "2020-11-30T17:45:12.202204Z"
    },
    "scrolled": true
   },
   "outputs": [
    {
     "name": "stdout",
     "output_type": "stream",
     "text": [
      "139\n"
     ]
    },
    {
     "data": {
      "image/png": "[encoded data removed]",
      "text/plain": [
       "<Figure size 432x288 with 1 Axes>"
      ]
     },
     "metadata": {
      "needs_background": "light"
     },
     "output_type": "display_data"
    },
    {
     "data": {
      "image/png": "[encoded data removed]",
      "text/plain": [
       "<Figure size 432x288 with 1 Axes>"
      ]
     },
     "metadata": {
      "needs_background": "light"
     },
     "output_type": "display_data"
    }
   ],
   "source": [
    "import matplotlib.pyplot as plt\n",
    "df3=pd.read_csv('data_000637.txt',index_col=3)\n",
    "tdc0=df3['TDC_CHANNEL'][df3['FPGA']==0]\n",
    "print(max(tdc0))\n",
    "tdc1=df3['TDC_CHANNEL'][df3['FPGA']==1]\n",
    "hist0,edge0=np.histogram(tdc0,bins=(max(tdc0)-1))\n",
    "hist1,edge1=np.histogram(tdc1,bins=max(tdc1))\n",
    "\n",
    "\n",
    "plt.bar(edge0[:-1],hist0)\n",
    "plt.xlabel('TDC CHANNEL')\n",
    "plt.ylabel('TDC Count')\n",
    "plt.title('FPGA 0')\n",
    "plt.show()\n",
    "plt.bar(edge1[:-1],hist1,color='r')\n",
    "plt.xlabel('TDC CHANNEL')\n",
    "plt.ylabel('TDC Count')\n",
    "plt.title('FPGA 1')\n",
    "plt.show()"
   ]
  },
  {
   "cell_type": "markdown",
   "metadata": {},
   "source": [
    "### Exercise 8"
   ]
  },
  {
   "cell_type": "code",
   "execution_count": 16,
   "metadata": {
    "ExecuteTime": {
     "end_time": "2020-11-30T17:45:16.870657Z",
     "start_time": "2020-11-30T17:45:16.743574Z"
    }
   },
   "outputs": [],
   "source": [
    "\n",
    "df30=df3[df3['FPGA']==0]\n",
    "tdc0=df30.groupby('TDC_CHANNEL').sum()\n",
    "df31=df3[df3['FPGA']==1]\n",
    "tdc1=df31.groupby('TDC_CHANNEL').sum()"
   ]
  },
  {
   "cell_type": "code",
   "execution_count": 17,
   "metadata": {
    "ExecuteTime": {
     "end_time": "2020-11-30T17:45:17.423934Z",
     "start_time": "2020-11-30T17:45:17.400995Z"
    }
   },
   "outputs": [
    {
     "name": "stdout",
     "output_type": "stream",
     "text": [
      "The noisiest channels on FPGA0 are \n",
      " \n",
      "               HEAD  FPGA  BX_COUNTER  TDC_MEAS\n",
      "TDC_CHANNEL                                   \n",
      "139          75617     0   134482540         0\n",
      "64           64581     0   115180305    941085\n",
      "63           63724     0   113828187    924689 \n",
      " \n",
      " \n",
      "\n",
      "The noisiest channels on FPGA1 are \n",
      " \n",
      "               HEAD   FPGA  BX_COUNTER  TDC_MEAS\n",
      "TDC_CHANNEL                                    \n",
      "2            32669  32669    58194220    475221\n",
      "139          32442  32442    57995164         0\n",
      "1            28438  28438    50854862    413328 \n",
      " \n",
      " \n",
      "\n"
     ]
    }
   ],
   "source": [
    "sorted0=tdc0.sort_values('HEAD')[::-1]\n",
    "print('The noisiest channels on FPGA0 are \\n \\n',sorted0[:3],'\\n \\n \\n')\n",
    "sorted1=tdc1.sort_values('HEAD')[::-1]\n",
    "print('The noisiest channels on FPGA1 are \\n \\n',sorted1[:3],'\\n \\n \\n')"
   ]
  },
  {
   "cell_type": "markdown",
   "metadata": {},
   "source": [
    "### Exercise 9 "
   ]
  },
  {
   "cell_type": "code",
   "execution_count": 18,
   "metadata": {
    "ExecuteTime": {
     "end_time": "2020-11-30T17:45:19.207827Z",
     "start_time": "2020-11-30T17:45:19.176911Z"
    }
   },
   "outputs": [
    {
     "name": "stdout",
     "output_type": "stream",
     "text": [
      "There are 11001 Unique orbits\n"
     ]
    }
   ],
   "source": [
    "print('There are',len(np.unique(df3['BX_COUNTER'].keys())), 'Unique orbits')"
   ]
  },
  {
   "cell_type": "code",
   "execution_count": 19,
   "metadata": {
    "ExecuteTime": {
     "end_time": "2020-11-30T17:45:19.604296Z",
     "start_time": "2020-11-30T17:45:19.577372Z"
    }
   },
   "outputs": [
    {
     "name": "stdout",
     "output_type": "stream",
     "text": [
      "There are 10976 Unique orbits with at least one measurement from TDC Channel 139\n"
     ]
    }
   ],
   "source": [
    "df6=df3[df3['TDC_CHANNEL']==139]\n",
    "print('There are',len(np.unique(df6['BX_COUNTER'].keys())), 'Unique orbits with at least one measurement from TDC Channel 139')"
   ]
  },
  {
   "cell_type": "code",
   "execution_count": null,
   "metadata": {},
   "outputs": [],
   "source": []
  }
 ],
 "metadata": {
  "kernelspec": {
   "display_name": "Python 3",
   "language": "python",
   "name": "python3"
  },
  "language_info": {
   "codemirror_mode": {
    "name": "ipython",
    "version": 3
   },
   "file_extension": ".py",
   "mimetype": "text/x-python",
   "name": "python",
   "nbconvert_exporter": "python",
   "pygments_lexer": "ipython3",
   "version": "3.7.4"
  },
  "toc": {
   "base_numbering": 1,
   "nav_menu": {},
   "number_sections": true,
   "sideBar": true,
   "skip_h1_title": false,
   "title_cell": "Table of Contents",
   "title_sidebar": "Contents",
   "toc_cell": false,
   "toc_position": {},
   "toc_section_display": true,
   "toc_window_display": true
  },
  "varInspector": {
   "cols": {
    "lenName": 16,
    "lenType": 16,
    "lenVar": 40
   },
   "kernels_config": {
    "python": {
     "delete_cmd_postfix": "",
     "delete_cmd_prefix": "del ",
     "library": "var_list.py",
     "varRefreshCmd": "print(var_dic_list())"
    },
    "r": {
     "delete_cmd_postfix": ") ",
     "delete_cmd_prefix": "rm(",
     "library": "var_list.r",
     "varRefreshCmd": "cat(var_dic_list()) "
    }
   },
   "oldHeight": 307.181,
   "position": {
    "height": "40px",
    "left": "1193.61px",
    "right": "20px",
    "top": "106.958px",
    "width": "495.5px"
   },
   "types_to_exclude": [
    "module",
    "function",
    "builtin_function_or_method",
    "instance",
    "_Feature"
   ],
   "varInspector_section_display": "none",
   "window_display": true
  }
 },
 "nbformat": 4,
 "nbformat_minor": 2
}
