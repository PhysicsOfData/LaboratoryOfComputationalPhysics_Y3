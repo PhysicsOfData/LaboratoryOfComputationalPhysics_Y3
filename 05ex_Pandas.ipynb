{
 "cells": [
  {
   "cell_type": "markdown",
   "metadata": {},
   "source": [
    "## Pandas analysis\n",
    "\n",
    "This exercise consists in analyzing a dataset containg timing information from a series of Time-to-Digital-Converters (TDC) implemented in a couple of FPGAs. Each measurement (i.e. each row of the input file) consists of a flag that specifies the type of message ('HEAD', which in this case is always 1), two addresses of the TDC providing the signal ('FPGA' and 'TDC_CHANNEL'), and the timing information ('ORBIT_CNT', 'BX_COUNTER', and 'TDC_MEAS'). Each TDC count corresponds to 25/30 ns, whereas a unit of BX_COUNTER corresponds to 25 ns, and the ORBIT_CNT is increased every 'x' BX_COUNTER. This allows to store the time in a similar way to hours, minutes and seconds."
   ]
  },
  {
   "cell_type": "code",
   "execution_count": 1,
<<<<<<< HEAD
   "metadata": {},
   "outputs": [],
   "source": [
    "import pandas as pd\n",
    "import numpy as np\n",
    "import matplotlib.pyplot as plt"
   ]
  },
  {
   "cell_type": "code",
   "execution_count": 2,
=======
>>>>>>> master
   "metadata": {},
   "outputs": [],
   "source": [
    "# If you didn't download it yet, please get the relevant file now!\n",
    "#!wget https://www.dropbox.com/s/xvjzaxzz3ysphme/data_000637.txt -P ~/data/"
<<<<<<< HEAD
=======
   ]
  },
  {
   "cell_type": "code",
   "execution_count": 2,
   "metadata": {},
   "outputs": [],
   "source": [
    "import pandas as pd\n",
    "import numpy as np"
>>>>>>> master
   ]
  },
  {
   "cell_type": "markdown",
   "metadata": {},
   "source": [
    "1\\. Create a Pandas DataFrame reading N rows of the 'data_000637.txt' dataset. Choose N to be smaller than or equal to the maximum number of rows and larger that 10k.\n",
    "\n",
    "2\\. Find out the number of BX in a ORBIT (the value 'x').\n",
    "\n",
    "3\\. Find out how much the data taking lasted. You can either make an estimate based on the fraction of the measurements (rows) you read, or perform this check precisely by reading out the whole dataset.\n",
    "\n",
    "4\\. Create a new column with the absolute time in ns (as a combination of the other three columns with timing information).\n",
    "\n",
    "5\\. Replace the values (all 1) of the HEAD column randomly with 0 or 1.\n",
    "\n",
    "6\\. Create a new DataFrame that contains only the rows with HEAD=1.\n",
    "\n",
    "7\\. Make two occupancy plots (one for each FPGA), i.e. plot the number of counts per TDC channel\n",
    "\n",
    "8\\. Use the groupby method to find out the noisy channels, i.e. the TDC channels with most counts (say the top 3)\n",
    "\n",
    "9\\. Count the number of unique orbits. Count the number of unique orbits with at least one measurement from TDC_CHANNEL=139"
   ]
  },
  {
   "cell_type": "code",
   "execution_count": 3,
<<<<<<< HEAD
   "metadata": {},
=======
   "metadata": {
    "scrolled": true
   },
>>>>>>> master
   "outputs": [
    {
     "data": {
      "text/html": [
       "<div>\n",
       "<style scoped>\n",
       "    .dataframe tbody tr th:only-of-type {\n",
       "        vertical-align: middle;\n",
       "    }\n",
       "\n",
       "    .dataframe tbody tr th {\n",
       "        vertical-align: top;\n",
       "    }\n",
       "\n",
       "    .dataframe thead th {\n",
       "        text-align: right;\n",
       "    }\n",
       "</style>\n",
       "<table border=\"1\" class=\"dataframe\">\n",
       "  <thead>\n",
       "    <tr style=\"text-align: right;\">\n",
       "      <th></th>\n",
       "      <th>HEAD</th>\n",
       "      <th>FPGA</th>\n",
       "      <th>TDC_CHANNEL</th>\n",
       "      <th>ORBIT_CNT</th>\n",
       "      <th>BX_COUNTER</th>\n",
       "      <th>TDC_MEAS</th>\n",
       "    </tr>\n",
       "  </thead>\n",
       "  <tbody>\n",
       "    <tr>\n",
       "      <th>0</th>\n",
       "      <td>1</td>\n",
       "      <td>0</td>\n",
       "      <td>123</td>\n",
       "      <td>3869200167</td>\n",
       "      <td>2374</td>\n",
       "      <td>26</td>\n",
       "    </tr>\n",
       "    <tr>\n",
       "      <th>1</th>\n",
       "      <td>1</td>\n",
       "      <td>0</td>\n",
       "      <td>124</td>\n",
       "      <td>3869200167</td>\n",
       "      <td>2374</td>\n",
       "      <td>27</td>\n",
       "    </tr>\n",
       "    <tr>\n",
       "      <th>2</th>\n",
       "      <td>1</td>\n",
       "      <td>0</td>\n",
       "      <td>63</td>\n",
       "      <td>3869200167</td>\n",
       "      <td>2553</td>\n",
       "      <td>28</td>\n",
       "    </tr>\n",
       "    <tr>\n",
       "      <th>3</th>\n",
       "      <td>1</td>\n",
       "      <td>0</td>\n",
       "      <td>64</td>\n",
       "      <td>3869200167</td>\n",
       "      <td>2558</td>\n",
       "      <td>19</td>\n",
       "    </tr>\n",
       "    <tr>\n",
       "      <th>4</th>\n",
       "      <td>1</td>\n",
       "      <td>0</td>\n",
       "      <td>64</td>\n",
       "      <td>3869200167</td>\n",
       "      <td>2760</td>\n",
       "      <td>25</td>\n",
       "    </tr>\n",
       "    <tr>\n",
       "      <th>...</th>\n",
       "      <td>...</td>\n",
       "      <td>...</td>\n",
       "      <td>...</td>\n",
       "      <td>...</td>\n",
       "      <td>...</td>\n",
       "      <td>...</td>\n",
       "    </tr>\n",
       "    <tr>\n",
<<<<<<< HEAD
       "      <th>1060801</th>\n",
       "      <td>1</td>\n",
       "      <td>0</td>\n",
       "      <td>63</td>\n",
       "      <td>3869209450</td>\n",
       "      <td>765</td>\n",
       "      <td>9</td>\n",
       "    </tr>\n",
       "    <tr>\n",
       "      <th>1060802</th>\n",
       "      <td>1</td>\n",
       "      <td>1</td>\n",
       "      <td>2</td>\n",
       "      <td>3869209450</td>\n",
       "      <td>773</td>\n",
       "      <td>15</td>\n",
       "    </tr>\n",
       "    <tr>\n",
       "      <th>1060803</th>\n",
       "      <td>1</td>\n",
       "      <td>0</td>\n",
       "      <td>60</td>\n",
       "      <td>3869209450</td>\n",
       "      <td>897</td>\n",
       "      <td>15</td>\n",
       "    </tr>\n",
       "    <tr>\n",
       "      <th>1060804</th>\n",
       "      <td>1</td>\n",
       "      <td>0</td>\n",
       "      <td>32</td>\n",
       "      <td>3869209450</td>\n",
       "      <td>897</td>\n",
       "      <td>16</td>\n",
       "    </tr>\n",
       "    <tr>\n",
       "      <th>1060805</th>\n",
       "      <td>1</td>\n",
       "      <td>0</td>\n",
       "      <td>60</td>\n",
       "      <td>3869209450</td>\n",
       "      <td>906</td>\n",
       "      <td>19</td>\n",
       "    </tr>\n",
       "  </tbody>\n",
       "</table>\n",
       "<p>1060806 rows × 6 columns</p>\n",
       "</div>"
      ],
      "text/plain": [
       "         HEAD  FPGA  TDC_CHANNEL   ORBIT_CNT  BX_COUNTER  TDC_MEAS\n",
       "0           1     0          123  3869200167        2374        26\n",
       "1           1     0          124  3869200167        2374        27\n",
       "2           1     0           63  3869200167        2553        28\n",
       "3           1     0           64  3869200167        2558        19\n",
       "4           1     0           64  3869200167        2760        25\n",
       "...       ...   ...          ...         ...         ...       ...\n",
       "1060801     1     0           63  3869209450         765         9\n",
       "1060802     1     1            2  3869209450         773        15\n",
       "1060803     1     0           60  3869209450         897        15\n",
       "1060804     1     0           32  3869209450         897        16\n",
       "1060805     1     0           60  3869209450         906        19\n",
       "\n",
       "[1060806 rows x 6 columns]"
=======
       "      <th>218982</th>\n",
       "      <td>1</td>\n",
       "      <td>1</td>\n",
       "      <td>7</td>\n",
       "      <td>3869202346</td>\n",
       "      <td>1615</td>\n",
       "      <td>5</td>\n",
       "    </tr>\n",
       "    <tr>\n",
       "      <th>218983</th>\n",
       "      <td>1</td>\n",
       "      <td>0</td>\n",
       "      <td>62</td>\n",
       "      <td>3869202346</td>\n",
       "      <td>1615</td>\n",
       "      <td>23</td>\n",
       "    </tr>\n",
       "    <tr>\n",
       "      <th>218984</th>\n",
       "      <td>1</td>\n",
       "      <td>1</td>\n",
       "      <td>1</td>\n",
       "      <td>3869202346</td>\n",
       "      <td>1613</td>\n",
       "      <td>27</td>\n",
       "    </tr>\n",
       "    <tr>\n",
       "      <th>218985</th>\n",
       "      <td>1</td>\n",
       "      <td>0</td>\n",
       "      <td>58</td>\n",
       "      <td>3869202346</td>\n",
       "      <td>1616</td>\n",
       "      <td>25</td>\n",
       "    </tr>\n",
       "    <tr>\n",
       "      <th>218986</th>\n",
       "      <td>1</td>\n",
       "      <td>1</td>\n",
       "      <td>7</td>\n",
       "      <td>3869202346</td>\n",
       "      <td>1623</td>\n",
       "      <td>27</td>\n",
       "    </tr>\n",
       "  </tbody>\n",
       "</table>\n",
       "<p>218987 rows × 6 columns</p>\n",
       "</div>"
      ],
      "text/plain": [
       "        HEAD  FPGA  TDC_CHANNEL   ORBIT_CNT  BX_COUNTER  TDC_MEAS\n",
       "0          1     0          123  3869200167        2374        26\n",
       "1          1     0          124  3869200167        2374        27\n",
       "2          1     0           63  3869200167        2553        28\n",
       "3          1     0           64  3869200167        2558        19\n",
       "4          1     0           64  3869200167        2760        25\n",
       "...      ...   ...          ...         ...         ...       ...\n",
       "218982     1     1            7  3869202346        1615         5\n",
       "218983     1     0           62  3869202346        1615        23\n",
       "218984     1     1            1  3869202346        1613        27\n",
       "218985     1     0           58  3869202346        1616        25\n",
       "218986     1     1            7  3869202346        1623        27\n",
       "\n",
       "[218987 rows x 6 columns]"
>>>>>>> master
      ]
     },
     "execution_count": 3,
     "metadata": {},
     "output_type": "execute_result"
    }
   ],
   "source": [
    "file_name=\"/home/francesco/data/data_000637.txt.1\"\n",
    "N_rows=np.random.randint(10000,1310720)\n",
    "df=pd.read_csv(file_name, nrows=N_rows)\n",
    "df"
   ]
  },
  {
   "cell_type": "markdown",
   "metadata": {},
   "source": [
    "2. Find out the number of BX in a ORBIT (the value 'x')."
   ]
  },
  {
   "cell_type": "code",
<<<<<<< HEAD
   "execution_count": 4,
   "metadata": {
    "scrolled": true
   },
=======
   "execution_count": 33,
   "metadata": {},
>>>>>>> master
   "outputs": [
    {
     "data": {
      "text/plain": [
       "array([[<AxesSubplot:title={'center':'BX_COUNTER'}>]], dtype=object)"
      ]
     },
<<<<<<< HEAD
     "execution_count": 4,
=======
     "execution_count": 33,
>>>>>>> master
     "metadata": {},
     "output_type": "execute_result"
    },
    {
     "data": {
<<<<<<< HEAD
      "image/png": "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\n",
=======
      "image/png": "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\n",
>>>>>>> master
      "text/plain": [
       "<Figure size 432x288 with 1 Axes>"
      ]
     },
     "metadata": {
      "needs_background": "light"
     },
     "output_type": "display_data"
    }
   ],
   "source": [
<<<<<<< HEAD
    "df.groupby('ORBIT_CNT').max().hist('BX_COUNTER',bins=200)"
   ]
  },
  {
   "cell_type": "code",
   "execution_count": 5,
   "metadata": {},
   "outputs": [
    {
     "data": {
      "text/html": [
       "<div>\n",
       "<style scoped>\n",
       "    .dataframe tbody tr th:only-of-type {\n",
       "        vertical-align: middle;\n",
       "    }\n",
       "\n",
       "    .dataframe tbody tr th {\n",
       "        vertical-align: top;\n",
       "    }\n",
       "\n",
       "    .dataframe thead th {\n",
       "        text-align: right;\n",
       "    }\n",
       "</style>\n",
       "<table border=\"1\" class=\"dataframe\">\n",
       "  <thead>\n",
       "    <tr style=\"text-align: right;\">\n",
       "      <th></th>\n",
       "      <th>HEAD</th>\n",
       "      <th>FPGA</th>\n",
       "      <th>TDC_CHANNEL</th>\n",
       "      <th>BX_COUNTER</th>\n",
       "      <th>TDC_MEAS</th>\n",
       "    </tr>\n",
       "    <tr>\n",
       "      <th>ORBIT_CNT</th>\n",
       "      <th></th>\n",
       "      <th></th>\n",
       "      <th></th>\n",
       "      <th></th>\n",
       "      <th></th>\n",
       "    </tr>\n",
       "  </thead>\n",
       "  <tbody>\n",
       "    <tr>\n",
       "      <th>3869200167</th>\n",
       "      <td>1</td>\n",
       "      <td>1</td>\n",
       "      <td>139</td>\n",
       "      <td>3187</td>\n",
       "      <td>28</td>\n",
       "    </tr>\n",
       "    <tr>\n",
       "      <th>3869200168</th>\n",
       "      <td>1</td>\n",
       "      <td>1</td>\n",
       "      <td>139</td>\n",
       "      <td>3538</td>\n",
       "      <td>29</td>\n",
       "    </tr>\n",
       "    <tr>\n",
       "      <th>3869200169</th>\n",
       "      <td>1</td>\n",
       "      <td>1</td>\n",
       "      <td>139</td>\n",
       "      <td>2766</td>\n",
       "      <td>29</td>\n",
       "    </tr>\n",
       "    <tr>\n",
       "      <th>3869200170</th>\n",
       "      <td>1</td>\n",
       "      <td>1</td>\n",
       "      <td>139</td>\n",
       "      <td>3377</td>\n",
       "      <td>29</td>\n",
       "    </tr>\n",
       "    <tr>\n",
       "      <th>3869200171</th>\n",
       "      <td>1</td>\n",
       "      <td>1</td>\n",
       "      <td>139</td>\n",
       "      <td>3542</td>\n",
       "      <td>29</td>\n",
       "    </tr>\n",
       "    <tr>\n",
       "      <th>...</th>\n",
       "      <td>...</td>\n",
       "      <td>...</td>\n",
       "      <td>...</td>\n",
       "      <td>...</td>\n",
       "      <td>...</td>\n",
       "    </tr>\n",
       "    <tr>\n",
       "      <th>3869209446</th>\n",
       "      <td>1</td>\n",
       "      <td>1</td>\n",
       "      <td>139</td>\n",
       "      <td>3555</td>\n",
       "      <td>29</td>\n",
       "    </tr>\n",
       "    <tr>\n",
       "      <th>3869209447</th>\n",
       "      <td>1</td>\n",
       "      <td>1</td>\n",
       "      <td>139</td>\n",
       "      <td>3537</td>\n",
       "      <td>29</td>\n",
       "    </tr>\n",
       "    <tr>\n",
       "      <th>3869209448</th>\n",
       "      <td>1</td>\n",
       "      <td>1</td>\n",
       "      <td>139</td>\n",
       "      <td>3481</td>\n",
       "      <td>29</td>\n",
       "    </tr>\n",
       "    <tr>\n",
       "      <th>3869209449</th>\n",
       "      <td>1</td>\n",
       "      <td>1</td>\n",
       "      <td>139</td>\n",
       "      <td>3477</td>\n",
       "      <td>29</td>\n",
       "    </tr>\n",
       "    <tr>\n",
       "      <th>3869209450</th>\n",
       "      <td>1</td>\n",
       "      <td>1</td>\n",
       "      <td>139</td>\n",
       "      <td>906</td>\n",
       "      <td>29</td>\n",
       "    </tr>\n",
       "  </tbody>\n",
       "</table>\n",
       "<p>9280 rows × 5 columns</p>\n",
       "</div>"
      ],
      "text/plain": [
       "            HEAD  FPGA  TDC_CHANNEL  BX_COUNTER  TDC_MEAS\n",
       "ORBIT_CNT                                                \n",
       "3869200167     1     1          139        3187        28\n",
       "3869200168     1     1          139        3538        29\n",
       "3869200169     1     1          139        2766        29\n",
       "3869200170     1     1          139        3377        29\n",
       "3869200171     1     1          139        3542        29\n",
       "...          ...   ...          ...         ...       ...\n",
       "3869209446     1     1          139        3555        29\n",
       "3869209447     1     1          139        3537        29\n",
       "3869209448     1     1          139        3481        29\n",
       "3869209449     1     1          139        3477        29\n",
       "3869209450     1     1          139         906        29\n",
       "\n",
       "[9280 rows x 5 columns]"
      ]
     },
     "execution_count": 5,
     "metadata": {},
     "output_type": "execute_result"
    }
   ],
   "source": [
    "df.groupby('ORBIT_CNT').max()"
   ]
  },
  {
   "cell_type": "code",
   "execution_count": 6,
   "metadata": {
    "scrolled": true
   },
   "outputs": [],
   "source": [
    "num_orb=df[df['BX_COUNTER']==3563].shape[0]\n",
    "orb_size=df.groupby('ORBIT_CNT').max().loc[:,\"BX_COUNTER\"].max()"
   ]
  },
  {
   "cell_type": "markdown",
   "metadata": {},
   "source": [
    "3. Find out how much the data taking lasted. You can either make an estimate based on the fraction of the measurements (rows) you read, or perform this check precisely by reading out the whole dataset."
   ]
  },
  {
   "cell_type": "code",
   "execution_count": 7,
   "metadata": {},
   "outputs": [
    {
     "name": "stdout",
     "output_type": "stream",
     "text": [
      "Total time:  826816790.8333334\n"
     ]
    },
    {
     "name": "stderr",
     "output_type": "stream",
     "text": [
      "<ipython-input-7-bc65ee782ab1>:9: UserWarning: Boolean Series key will be reindexed to match DataFrame index.\n",
      "  tm_lorb=df[df[\"ORBIT_CNT\"]==max_orb][df[\"BX_COUNTER\"]==bx_lorb].loc[:,\"TDC_MEAS\"].max()\n"
     ]
    }
   ],
   "source": [
    "max_orb=df[\"ORBIT_CNT\"].max()\n",
    "min_orb=df[\"ORBIT_CNT\"].min()\n",
    "n_orb=max_orb-min_orb\n",
    "n_orb\n",
    "#every orbit lasts 3563 BX_COUNTERs, except for the last one\n",
    "#calculate time in ns\n",
    "\n",
    "bx_lorb=df[df[\"ORBIT_CNT\"]==max_orb].loc[:,\"BX_COUNTER\"].max()\n",
    "tm_lorb=df[df[\"ORBIT_CNT\"]==max_orb][df[\"BX_COUNTER\"]==bx_lorb].loc[:,\"TDC_MEAS\"].max()\n",
    "tot_time=(n_orb-1)*orb_size*25+(bx_lorb-1)*25+tm_lorb*(25/30)\n",
    "print(\"Total time: \", tot_time)"
   ]
  },
  {
   "cell_type": "markdown",
   "metadata": {},
   "source": [
    "4. Create a new column with the absolute time in ns (as a combination of the other three columns with timing information)."
   ]
  },
  {
   "cell_type": "code",
   "execution_count": 8,
   "metadata": {},
   "outputs": [
    {
     "data": {
      "text/html": [
       "<div>\n",
       "<style scoped>\n",
       "    .dataframe tbody tr th:only-of-type {\n",
       "        vertical-align: middle;\n",
       "    }\n",
       "\n",
       "    .dataframe tbody tr th {\n",
       "        vertical-align: top;\n",
       "    }\n",
       "\n",
       "    .dataframe thead th {\n",
       "        text-align: right;\n",
       "    }\n",
       "</style>\n",
       "<table border=\"1\" class=\"dataframe\">\n",
       "  <thead>\n",
       "    <tr style=\"text-align: right;\">\n",
       "      <th></th>\n",
       "      <th>HEAD</th>\n",
       "      <th>FPGA</th>\n",
       "      <th>TDC_CHANNEL</th>\n",
       "      <th>ORBIT_CNT</th>\n",
       "      <th>BX_COUNTER</th>\n",
       "      <th>TDC_MEAS</th>\n",
       "      <th>ABS_TIME</th>\n",
       "    </tr>\n",
       "  </thead>\n",
       "  <tbody>\n",
       "    <tr>\n",
       "      <th>0</th>\n",
       "      <td>1</td>\n",
       "      <td>0</td>\n",
       "      <td>123</td>\n",
       "      <td>3869200167</td>\n",
       "      <td>2374</td>\n",
       "      <td>26</td>\n",
       "      <td>5.937167e+04</td>\n",
       "    </tr>\n",
       "    <tr>\n",
       "      <th>1</th>\n",
       "      <td>1</td>\n",
       "      <td>0</td>\n",
       "      <td>124</td>\n",
       "      <td>3869200167</td>\n",
       "      <td>2374</td>\n",
       "      <td>27</td>\n",
       "      <td>5.937250e+04</td>\n",
       "    </tr>\n",
       "    <tr>\n",
       "      <th>2</th>\n",
       "      <td>1</td>\n",
       "      <td>0</td>\n",
       "      <td>63</td>\n",
       "      <td>3869200167</td>\n",
       "      <td>2553</td>\n",
       "      <td>28</td>\n",
       "      <td>6.384833e+04</td>\n",
       "    </tr>\n",
       "    <tr>\n",
       "      <th>3</th>\n",
       "      <td>1</td>\n",
       "      <td>0</td>\n",
       "      <td>64</td>\n",
       "      <td>3869200167</td>\n",
       "      <td>2558</td>\n",
       "      <td>19</td>\n",
       "      <td>6.396583e+04</td>\n",
       "    </tr>\n",
       "    <tr>\n",
       "      <th>4</th>\n",
       "      <td>1</td>\n",
       "      <td>0</td>\n",
       "      <td>64</td>\n",
       "      <td>3869200167</td>\n",
       "      <td>2760</td>\n",
       "      <td>25</td>\n",
       "      <td>6.902083e+04</td>\n",
       "    </tr>\n",
       "    <tr>\n",
       "      <th>...</th>\n",
       "      <td>...</td>\n",
       "      <td>...</td>\n",
       "      <td>...</td>\n",
       "      <td>...</td>\n",
       "      <td>...</td>\n",
       "      <td>...</td>\n",
       "      <td>...</td>\n",
       "    </tr>\n",
       "    <tr>\n",
       "      <th>1060801</th>\n",
       "      <td>1</td>\n",
       "      <td>0</td>\n",
       "      <td>63</td>\n",
       "      <td>3869209450</td>\n",
       "      <td>765</td>\n",
       "      <td>9</td>\n",
       "      <td>8.269024e+08</td>\n",
       "    </tr>\n",
       "    <tr>\n",
       "      <th>1060802</th>\n",
       "      <td>1</td>\n",
       "      <td>1</td>\n",
       "      <td>2</td>\n",
       "      <td>3869209450</td>\n",
       "      <td>773</td>\n",
       "      <td>15</td>\n",
       "      <td>8.269026e+08</td>\n",
       "    </tr>\n",
       "    <tr>\n",
       "      <th>1060803</th>\n",
       "      <td>1</td>\n",
       "      <td>0</td>\n",
       "      <td>60</td>\n",
       "      <td>3869209450</td>\n",
       "      <td>897</td>\n",
       "      <td>15</td>\n",
       "      <td>8.269057e+08</td>\n",
       "    </tr>\n",
       "    <tr>\n",
       "      <th>1060804</th>\n",
       "      <td>1</td>\n",
       "      <td>0</td>\n",
       "      <td>32</td>\n",
       "      <td>3869209450</td>\n",
       "      <td>897</td>\n",
       "      <td>16</td>\n",
       "      <td>8.269057e+08</td>\n",
       "    </tr>\n",
       "    <tr>\n",
       "      <th>1060805</th>\n",
       "      <td>1</td>\n",
       "      <td>0</td>\n",
       "      <td>60</td>\n",
       "      <td>3869209450</td>\n",
       "      <td>906</td>\n",
       "      <td>19</td>\n",
       "      <td>8.269059e+08</td>\n",
       "    </tr>\n",
       "  </tbody>\n",
       "</table>\n",
       "<p>1060806 rows × 7 columns</p>\n",
       "</div>"
      ],
      "text/plain": [
       "         HEAD  FPGA  TDC_CHANNEL   ORBIT_CNT  BX_COUNTER  TDC_MEAS  \\\n",
       "0           1     0          123  3869200167        2374        26   \n",
       "1           1     0          124  3869200167        2374        27   \n",
       "2           1     0           63  3869200167        2553        28   \n",
       "3           1     0           64  3869200167        2558        19   \n",
       "4           1     0           64  3869200167        2760        25   \n",
       "...       ...   ...          ...         ...         ...       ...   \n",
       "1060801     1     0           63  3869209450         765         9   \n",
       "1060802     1     1            2  3869209450         773        15   \n",
       "1060803     1     0           60  3869209450         897        15   \n",
       "1060804     1     0           32  3869209450         897        16   \n",
       "1060805     1     0           60  3869209450         906        19   \n",
       "\n",
       "             ABS_TIME  \n",
       "0        5.937167e+04  \n",
       "1        5.937250e+04  \n",
       "2        6.384833e+04  \n",
       "3        6.396583e+04  \n",
       "4        6.902083e+04  \n",
       "...               ...  \n",
       "1060801  8.269024e+08  \n",
       "1060802  8.269026e+08  \n",
       "1060803  8.269057e+08  \n",
       "1060804  8.269057e+08  \n",
       "1060805  8.269059e+08  \n",
       "\n",
       "[1060806 rows x 7 columns]"
      ]
     },
     "execution_count": 8,
     "metadata": {},
     "output_type": "execute_result"
    }
   ],
   "source": [
    "df['ABS_TIME']=pd.Series((df['ORBIT_CNT']-min_orb)*orb_size*25+df['BX_COUNTER']*25+df['TDC_MEAS']*(25/30))\n",
    "df"
   ]
  },
  {
   "cell_type": "markdown",
   "metadata": {},
   "source": [
    "5. Replace the values (all 1) of the HEAD column randomly with 0 or 1."
   ]
  },
  {
   "cell_type": "code",
   "execution_count": 9,
   "metadata": {},
   "outputs": [
    {
     "data": {
      "text/html": [
       "<div>\n",
       "<style scoped>\n",
       "    .dataframe tbody tr th:only-of-type {\n",
       "        vertical-align: middle;\n",
       "    }\n",
       "\n",
       "    .dataframe tbody tr th {\n",
       "        vertical-align: top;\n",
       "    }\n",
       "\n",
       "    .dataframe thead th {\n",
       "        text-align: right;\n",
       "    }\n",
       "</style>\n",
       "<table border=\"1\" class=\"dataframe\">\n",
       "  <thead>\n",
       "    <tr style=\"text-align: right;\">\n",
       "      <th></th>\n",
       "      <th>HEAD</th>\n",
       "      <th>FPGA</th>\n",
       "      <th>TDC_CHANNEL</th>\n",
       "      <th>ORBIT_CNT</th>\n",
       "      <th>BX_COUNTER</th>\n",
       "      <th>TDC_MEAS</th>\n",
       "      <th>ABS_TIME</th>\n",
       "    </tr>\n",
       "  </thead>\n",
       "  <tbody>\n",
       "    <tr>\n",
       "      <th>0</th>\n",
       "      <td>0</td>\n",
       "      <td>0</td>\n",
       "      <td>123</td>\n",
       "      <td>3869200167</td>\n",
       "      <td>2374</td>\n",
       "      <td>26</td>\n",
       "      <td>5.937167e+04</td>\n",
       "    </tr>\n",
       "    <tr>\n",
       "      <th>1</th>\n",
       "      <td>0</td>\n",
       "      <td>0</td>\n",
       "      <td>124</td>\n",
       "      <td>3869200167</td>\n",
       "      <td>2374</td>\n",
       "      <td>27</td>\n",
       "      <td>5.937250e+04</td>\n",
       "    </tr>\n",
       "    <tr>\n",
       "      <th>2</th>\n",
       "      <td>1</td>\n",
       "      <td>0</td>\n",
       "      <td>63</td>\n",
       "      <td>3869200167</td>\n",
       "      <td>2553</td>\n",
       "      <td>28</td>\n",
       "      <td>6.384833e+04</td>\n",
       "    </tr>\n",
       "    <tr>\n",
       "      <th>3</th>\n",
       "      <td>1</td>\n",
       "      <td>0</td>\n",
       "      <td>64</td>\n",
       "      <td>3869200167</td>\n",
       "      <td>2558</td>\n",
       "      <td>19</td>\n",
       "      <td>6.396583e+04</td>\n",
       "    </tr>\n",
       "    <tr>\n",
       "      <th>4</th>\n",
       "      <td>1</td>\n",
       "      <td>0</td>\n",
       "      <td>64</td>\n",
       "      <td>3869200167</td>\n",
       "      <td>2760</td>\n",
       "      <td>25</td>\n",
       "      <td>6.902083e+04</td>\n",
       "    </tr>\n",
       "    <tr>\n",
       "      <th>...</th>\n",
       "      <td>...</td>\n",
       "      <td>...</td>\n",
       "      <td>...</td>\n",
       "      <td>...</td>\n",
       "      <td>...</td>\n",
       "      <td>...</td>\n",
       "      <td>...</td>\n",
       "    </tr>\n",
       "    <tr>\n",
       "      <th>1060801</th>\n",
       "      <td>1</td>\n",
       "      <td>0</td>\n",
       "      <td>63</td>\n",
       "      <td>3869209450</td>\n",
       "      <td>765</td>\n",
       "      <td>9</td>\n",
       "      <td>8.269024e+08</td>\n",
       "    </tr>\n",
       "    <tr>\n",
       "      <th>1060802</th>\n",
       "      <td>0</td>\n",
       "      <td>1</td>\n",
       "      <td>2</td>\n",
       "      <td>3869209450</td>\n",
       "      <td>773</td>\n",
       "      <td>15</td>\n",
       "      <td>8.269026e+08</td>\n",
       "    </tr>\n",
       "    <tr>\n",
       "      <th>1060803</th>\n",
       "      <td>1</td>\n",
       "      <td>0</td>\n",
       "      <td>60</td>\n",
       "      <td>3869209450</td>\n",
       "      <td>897</td>\n",
       "      <td>15</td>\n",
       "      <td>8.269057e+08</td>\n",
       "    </tr>\n",
       "    <tr>\n",
       "      <th>1060804</th>\n",
       "      <td>1</td>\n",
       "      <td>0</td>\n",
       "      <td>32</td>\n",
       "      <td>3869209450</td>\n",
       "      <td>897</td>\n",
       "      <td>16</td>\n",
       "      <td>8.269057e+08</td>\n",
       "    </tr>\n",
       "    <tr>\n",
       "      <th>1060805</th>\n",
       "      <td>0</td>\n",
       "      <td>0</td>\n",
       "      <td>60</td>\n",
       "      <td>3869209450</td>\n",
       "      <td>906</td>\n",
       "      <td>19</td>\n",
       "      <td>8.269059e+08</td>\n",
       "    </tr>\n",
       "  </tbody>\n",
       "</table>\n",
       "<p>1060806 rows × 7 columns</p>\n",
       "</div>"
      ],
      "text/plain": [
       "         HEAD  FPGA  TDC_CHANNEL   ORBIT_CNT  BX_COUNTER  TDC_MEAS  \\\n",
       "0           0     0          123  3869200167        2374        26   \n",
       "1           0     0          124  3869200167        2374        27   \n",
       "2           1     0           63  3869200167        2553        28   \n",
       "3           1     0           64  3869200167        2558        19   \n",
       "4           1     0           64  3869200167        2760        25   \n",
       "...       ...   ...          ...         ...         ...       ...   \n",
       "1060801     1     0           63  3869209450         765         9   \n",
       "1060802     0     1            2  3869209450         773        15   \n",
       "1060803     1     0           60  3869209450         897        15   \n",
       "1060804     1     0           32  3869209450         897        16   \n",
       "1060805     0     0           60  3869209450         906        19   \n",
       "\n",
       "             ABS_TIME  \n",
       "0        5.937167e+04  \n",
       "1        5.937250e+04  \n",
       "2        6.384833e+04  \n",
       "3        6.396583e+04  \n",
       "4        6.902083e+04  \n",
       "...               ...  \n",
       "1060801  8.269024e+08  \n",
       "1060802  8.269026e+08  \n",
       "1060803  8.269057e+08  \n",
       "1060804  8.269057e+08  \n",
       "1060805  8.269059e+08  \n",
       "\n",
       "[1060806 rows x 7 columns]"
      ]
     },
     "execution_count": 9,
     "metadata": {},
     "output_type": "execute_result"
    }
   ],
   "source": [
    "df['HEAD']=pd.Series(np.random.randint(0,2,df.shape[0]))\n",
    "df"
   ]
  },
  {
   "cell_type": "markdown",
   "metadata": {},
   "source": [
    "6. Create a new DataFrame that contains only the rows with HEAD=1."
   ]
  },
  {
   "cell_type": "code",
   "execution_count": 10,
   "metadata": {
    "scrolled": true
   },
   "outputs": [
    {
     "data": {
      "text/html": [
       "<div>\n",
       "<style scoped>\n",
       "    .dataframe tbody tr th:only-of-type {\n",
       "        vertical-align: middle;\n",
       "    }\n",
       "\n",
       "    .dataframe tbody tr th {\n",
       "        vertical-align: top;\n",
       "    }\n",
       "\n",
       "    .dataframe thead th {\n",
       "        text-align: right;\n",
       "    }\n",
       "</style>\n",
       "<table border=\"1\" class=\"dataframe\">\n",
       "  <thead>\n",
       "    <tr style=\"text-align: right;\">\n",
       "      <th></th>\n",
       "      <th>HEAD</th>\n",
       "      <th>FPGA</th>\n",
       "      <th>TDC_CHANNEL</th>\n",
       "      <th>ORBIT_CNT</th>\n",
       "      <th>BX_COUNTER</th>\n",
       "      <th>TDC_MEAS</th>\n",
       "      <th>ABS_TIME</th>\n",
       "    </tr>\n",
       "  </thead>\n",
       "  <tbody>\n",
       "    <tr>\n",
       "      <th>2</th>\n",
       "      <td>1</td>\n",
       "      <td>0</td>\n",
       "      <td>63</td>\n",
       "      <td>3869200167</td>\n",
       "      <td>2553</td>\n",
       "      <td>28</td>\n",
       "      <td>6.384833e+04</td>\n",
       "    </tr>\n",
       "    <tr>\n",
       "      <th>3</th>\n",
       "      <td>1</td>\n",
       "      <td>0</td>\n",
       "      <td>64</td>\n",
       "      <td>3869200167</td>\n",
       "      <td>2558</td>\n",
       "      <td>19</td>\n",
       "      <td>6.396583e+04</td>\n",
       "    </tr>\n",
       "    <tr>\n",
       "      <th>4</th>\n",
       "      <td>1</td>\n",
       "      <td>0</td>\n",
       "      <td>64</td>\n",
       "      <td>3869200167</td>\n",
       "      <td>2760</td>\n",
       "      <td>25</td>\n",
       "      <td>6.902083e+04</td>\n",
       "    </tr>\n",
       "    <tr>\n",
       "      <th>6</th>\n",
       "      <td>1</td>\n",
       "      <td>0</td>\n",
       "      <td>61</td>\n",
       "      <td>3869200167</td>\n",
       "      <td>2772</td>\n",
       "      <td>14</td>\n",
       "      <td>6.931167e+04</td>\n",
       "    </tr>\n",
       "    <tr>\n",
       "      <th>7</th>\n",
       "      <td>1</td>\n",
       "      <td>0</td>\n",
       "      <td>139</td>\n",
       "      <td>3869200167</td>\n",
       "      <td>2776</td>\n",
       "      <td>0</td>\n",
       "      <td>6.940000e+04</td>\n",
       "    </tr>\n",
       "    <tr>\n",
       "      <th>...</th>\n",
       "      <td>...</td>\n",
       "      <td>...</td>\n",
       "      <td>...</td>\n",
       "      <td>...</td>\n",
       "      <td>...</td>\n",
       "      <td>...</td>\n",
       "      <td>...</td>\n",
       "    </tr>\n",
       "    <tr>\n",
       "      <th>1060796</th>\n",
       "      <td>1</td>\n",
       "      <td>0</td>\n",
       "      <td>50</td>\n",
       "      <td>3869209450</td>\n",
       "      <td>751</td>\n",
       "      <td>29</td>\n",
       "      <td>8.269020e+08</td>\n",
       "    </tr>\n",
       "    <tr>\n",
       "      <th>1060800</th>\n",
       "      <td>1</td>\n",
       "      <td>0</td>\n",
       "      <td>47</td>\n",
       "      <td>3869209450</td>\n",
       "      <td>765</td>\n",
       "      <td>1</td>\n",
       "      <td>8.269024e+08</td>\n",
       "    </tr>\n",
       "    <tr>\n",
       "      <th>1060801</th>\n",
       "      <td>1</td>\n",
       "      <td>0</td>\n",
       "      <td>63</td>\n",
       "      <td>3869209450</td>\n",
       "      <td>765</td>\n",
       "      <td>9</td>\n",
       "      <td>8.269024e+08</td>\n",
       "    </tr>\n",
       "    <tr>\n",
       "      <th>1060803</th>\n",
       "      <td>1</td>\n",
       "      <td>0</td>\n",
       "      <td>60</td>\n",
       "      <td>3869209450</td>\n",
       "      <td>897</td>\n",
       "      <td>15</td>\n",
       "      <td>8.269057e+08</td>\n",
       "    </tr>\n",
       "    <tr>\n",
       "      <th>1060804</th>\n",
       "      <td>1</td>\n",
       "      <td>0</td>\n",
       "      <td>32</td>\n",
       "      <td>3869209450</td>\n",
       "      <td>897</td>\n",
       "      <td>16</td>\n",
       "      <td>8.269057e+08</td>\n",
       "    </tr>\n",
       "  </tbody>\n",
       "</table>\n",
       "<p>530440 rows × 7 columns</p>\n",
       "</div>"
      ],
      "text/plain": [
       "         HEAD  FPGA  TDC_CHANNEL   ORBIT_CNT  BX_COUNTER  TDC_MEAS  \\\n",
       "2           1     0           63  3869200167        2553        28   \n",
       "3           1     0           64  3869200167        2558        19   \n",
       "4           1     0           64  3869200167        2760        25   \n",
       "6           1     0           61  3869200167        2772        14   \n",
       "7           1     0          139  3869200167        2776         0   \n",
       "...       ...   ...          ...         ...         ...       ...   \n",
       "1060796     1     0           50  3869209450         751        29   \n",
       "1060800     1     0           47  3869209450         765         1   \n",
       "1060801     1     0           63  3869209450         765         9   \n",
       "1060803     1     0           60  3869209450         897        15   \n",
       "1060804     1     0           32  3869209450         897        16   \n",
       "\n",
       "             ABS_TIME  \n",
       "2        6.384833e+04  \n",
       "3        6.396583e+04  \n",
       "4        6.902083e+04  \n",
       "6        6.931167e+04  \n",
       "7        6.940000e+04  \n",
       "...               ...  \n",
       "1060796  8.269020e+08  \n",
       "1060800  8.269024e+08  \n",
       "1060801  8.269024e+08  \n",
       "1060803  8.269057e+08  \n",
       "1060804  8.269057e+08  \n",
       "\n",
       "[530440 rows x 7 columns]"
      ]
     },
     "execution_count": 10,
     "metadata": {},
     "output_type": "execute_result"
    }
   ],
   "source": [
    "df_new=df[df['HEAD']==1]\n",
    "df_new"
   ]
  },
  {
   "cell_type": "markdown",
   "metadata": {},
   "source": [
    "7. Make two occupancy plots (one for each FPGA), i.e. plot the number of counts per TDC channel"
   ]
  },
  {
   "cell_type": "code",
   "execution_count": 11,
   "metadata": {},
   "outputs": [
    {
     "data": {
      "text/plain": [
       "(array([ 17662.,  38654.,  57675., 158099., 308214.,  19884.,  20855.,\n",
       "          7795.,  56375.,  61449.]),\n",
       " array([  1. ,  14.8,  28.6,  42.4,  56.2,  70. ,  83.8,  97.6, 111.4,\n",
       "        125.2, 139. ]),\n",
       " <BarContainer object of 10 artists>)"
      ]
     },
     "execution_count": 11,
     "metadata": {},
     "output_type": "execute_result"
    },
    {
     "data": {
      "image/png": "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\n",
      "text/plain": [
       "<Figure size 432x288 with 1 Axes>"
      ]
     },
     "metadata": {
      "needs_background": "light"
     },
     "output_type": "display_data"
    }
   ],
   "source": [
    "plt.hist(df[df['FPGA']==0]['TDC_CHANNEL'])"
   ]
  },
  {
   "cell_type": "markdown",
   "metadata": {},
   "source": [
    "8. Use the groupby method to find out the noisy channels, i.e. the TDC channels with most counts (say the top 3)"
   ]
  },
  {
   "cell_type": "code",
   "execution_count": 12,
   "metadata": {
    "scrolled": true
   },
   "outputs": [
    {
     "data": {
      "text/plain": [
       "TDC_CHANNEL\n",
       "139    87672\n",
       "64     53235\n",
       "63     52264\n",
       "dtype: int64"
      ]
     },
     "execution_count": 12,
     "metadata": {},
     "output_type": "execute_result"
    }
   ],
   "source": [
    "df.groupby('TDC_CHANNEL').size().sort_values(ascending=False).head(3)"
   ]
  },
  {
   "cell_type": "markdown",
   "metadata": {},
   "source": [
    "9. Count the number of unique orbits. Count the number of unique orbits with at least one measurement from TDC_CHANNEL=139"
=======
    "df.groupby('ORBIT_CNT').max().hist('BX_COUNTER')"
>>>>>>> master
   ]
  },
  {
   "cell_type": "code",
<<<<<<< HEAD
   "execution_count": 13,
=======
   "execution_count": 28,
>>>>>>> master
   "metadata": {},
   "outputs": [
    {
     "data": {
      "text/plain": [
<<<<<<< HEAD
       "ORBIT_CNT\n",
       "3869206180      1\n",
       "3869204142      1\n",
       "3869205800      2\n",
       "3869203571      2\n",
       "3869204462      3\n",
       "             ... \n",
       "3869208221    304\n",
       "3869206506    305\n",
       "3869206967    322\n",
       "3869207118    337\n",
       "3869208772    351\n",
       "Length: 9280, dtype: int64"
      ]
     },
     "execution_count": 13,
=======
       "65"
      ]
     },
     "execution_count": 28,
>>>>>>> master
     "metadata": {},
     "output_type": "execute_result"
    }
   ],
   "source": [
<<<<<<< HEAD
    "df.groupby('ORBIT_CNT').size().sort_values(ascending=True)"
=======
    "df[df['BX_COUNTER']==3563].shape[0]"
>>>>>>> master
   ]
  }
 ],
 "metadata": {
  "kernelspec": {
   "display_name": "Python 3",
   "language": "python",
   "name": "python3"
  },
  "language_info": {
   "codemirror_mode": {
    "name": "ipython",
    "version": 3
   },
   "file_extension": ".py",
   "mimetype": "text/x-python",
   "name": "python",
   "nbconvert_exporter": "python",
   "pygments_lexer": "ipython3",
   "version": "3.8.5"
  }
 },
 "nbformat": 4,
 "nbformat_minor": 2
}
