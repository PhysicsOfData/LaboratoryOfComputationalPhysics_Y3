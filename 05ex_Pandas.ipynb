{
 "cells": [
  {
   "cell_type": "markdown",
   "metadata": {},
   "source": [
    "## Pandas analysis\n",
    "\n",
    "This exercise consists in analyzing a dataset containg timing information from a series of Time-to-Digital-Converters (TDC) implemented in a couple of FPGAs. Each measurement (i.e. each row of the input file) consists of a flag that specifies the type of message ('HEAD', which in this case is always 1), two addresses of the TDC providing the signal ('FPGA' and 'TDC_CHANNEL'), and the timing information ('ORBIT_CNT', 'BX_COUNTER', and 'TDC_MEAS'). Each TDC count corresponds to 25/30 ns, whereas a unit of BX_COUNTER corresponds to 25 ns, and the ORBIT_CNT is increased every 'x' BX_COUNTER. This allows to store the time in a similar way to hours, minutes and seconds."
   ]
  },
  {
   "cell_type": "code",
   "execution_count": null,
   "metadata": {},
   "outputs": [],
   "source": [
    "# If you didn't download it yet, please get the relevant file now!\n",
    "# !wget https://www.dropbox.com/s/xvjzaxzz3ysphme/data_000637.txt -P ~/data/"
   ]
  },
  {
   "cell_type": "markdown",
   "metadata": {},
   "source": [
    "1\\. Create a Pandas DataFrame reading N rows of the 'data_000637.txt' dataset. Choose N to be smaller than or equal to the maximum number of rows and larger that 10k.\n",
    "\n",
    "2\\. Find out the number of BX in a ORBIT (the value 'x').\n",
    "\n",
    "3\\. Find out how much the data taking lasted. You can either make an estimate based on the fraction of the measurements (rows) you read, or perform this check precisely by reading out the whole dataset.\n",
    "\n",
    "4\\. Create a new column with the absolute time in ns (as a combination of the other three columns with timing information).\n",
    "\n",
    "5\\. Replace the values (all 1) of the HEAD column randomly with 0 or 1.\n",
    "\n",
    "6\\. Create a new DataFrame that contains only the rows with HEAD=1.\n",
    "\n",
    "7\\. Make two occupancy plots (one for each FPGA), i.e. plot the number of counts per TDC channel\n",
    "\n",
    "8\\. Use the groupby method to find out the noisy channels, i.e. the TDC channels with most counts (say the top 3)\n",
    "\n",
    "9\\. Count the number of unique orbits. Count the number of unique orbits with at least one measurement from TDC_CHANNEL=139"
   ]
  },
  {
   "cell_type": "code",
   "execution_count": 90,
   "metadata": {},
   "outputs": [
    {
     "name": "stdout",
     "output_type": "stream",
     "text": [
      "ORBIT_CNT is going to be increased each  3564 BX_COUNTER units\n",
      "Data takeing lasted:  980416093.3125  ns\n"
     ]
    },
    {
     "data": {
      "text/plain": [
       "HEAD                2\n",
       "FPGA                2\n",
       "TDC_CHANNEL         1\n",
       "ORBIT_CNT       10976\n",
       "BX_COUNTER       3564\n",
       "TDC_MEAS            1\n",
       "timens         107009\n",
       "dtype: int64"
      ]
     },
     "execution_count": 90,
     "metadata": {},
     "output_type": "execute_result"
    }
   ],
   "source": [
    "import pandas as pd\n",
    "import numpy as np\n",
    "\n",
    "file_name=\"C:/Users/Xabier Galar/data/data_000637.txt\"\n",
    "data=pd.read_csv(file_name, nrows=20000)\n",
    "data\n",
    "\n",
    "# 2. Maximun value of \"BX_COUNTER\"\n",
    "BX_top = data[\"BX_COUNTER\"].max() + 1\n",
    "print('ORBIT_CNT is going to be increased each ', BX_top, 'BX_COUNTER units')\n",
    "\n",
    "# 3,4  \n",
    "file_name=\"C:/Users/Xabier Galar/data/data_000637.txt\"\n",
    "data=pd.read_csv(file_name)\n",
    "data\n",
    "data['timens']=data['TDC_MEAS']*25/30+data['BX_COUNTER']*25 + data['ORBIT_CNT'] * BX_top * 25\n",
    "data\n",
    "dataTakingLast = data.loc[len(data)-1,'timens'] - data.loc[0,'timens']\n",
    "print('Data takeing lasted: ', dataTakingLast, ' ns')\n",
    "\n",
    "# 5\n",
    "data.loc[(data.HEAD == 1),'HEAD']= np.random.randint(0, high=2, size= len(data))\n",
    "data\n",
    "# data.iloc[200]\n",
    "\n",
    "# 6\n",
    "data2 = data.loc[(data.HEAD == 1)]\n",
    "data2\n",
    "# data[data['HEAD'] == 1]\n",
    "\n",
    "# 7\n",
    "import matplotlib.pyplot as plt\n",
    "fpga1 = data[data['FPGA'] == 1]\n",
    "fpga0 = data[data['FPGA'] == 0]\n",
    "\n",
    "# fpga0[['TDC_CHANNEL']].hist(bins= 139, figsize= (20, 9))\n",
    "# fpga1[['TDC_CHANNEL']].hist(bins= 139, figsize= (20, 9))\n",
    "\n",
    "# 8\n",
    "\n",
    "\n",
    "mostNosyChannelsFPGA0 = fpga0.groupby(['TDC_CHANNEL']).size().reset_index(name='counts').sort_values(by=\"counts\").tail(3)\n",
    "mostNosyChannelsFPGA1 = fpga1.groupby(['TDC_CHANNEL']).size().reset_index(name='counts').sort_values(by=\"counts\").tail(3)\n",
    "\n",
    "# 9 \n",
    "\n",
    "channel139 = data[data['TDC_CHANNEL'] == 139]\n",
    "channel139.nunique()\n",
    "\n",
    "\n"
   ]
  },
  {
   "cell_type": "code",
   "execution_count": 40,
   "metadata": {},
   "outputs": [
    {
     "data": {
      "text/plain": [
       "344745734939071.7"
      ]
     },
     "execution_count": 40,
     "metadata": {},
     "output_type": "execute_result"
    }
   ],
   "source": [
    "344745734939071.7"
   ]
  },
  {
   "cell_type": "code",
   "execution_count": null,
   "metadata": {},
   "outputs": [],
   "source": []
  },
  {
   "cell_type": "code",
   "execution_count": null,
   "metadata": {},
   "outputs": [],
   "source": []
  }
 ],
 "metadata": {
  "kernelspec": {
   "display_name": "Python 3",
   "language": "python",
   "name": "python3"
  },
  "language_info": {
   "codemirror_mode": {
    "name": "ipython",
    "version": 3
   },
   "file_extension": ".py",
   "mimetype": "text/x-python",
   "name": "python",
   "nbconvert_exporter": "python",
   "pygments_lexer": "ipython3",
   "version": "3.8.3"
  }
 },
 "nbformat": 4,
 "nbformat_minor": 2
}
