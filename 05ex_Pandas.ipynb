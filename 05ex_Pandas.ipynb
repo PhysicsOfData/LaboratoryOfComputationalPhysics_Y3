{
 "cells": [
  {
   "cell_type": "markdown",
   "metadata": {},
   "source": [
    "## Pandas analysis\n",
    "\n",
    "This exercise consists in analyzing a dataset containg timing information from a series of Time-to-Digital-Converters (TDC) implemented in a couple of FPGAs. Each measurement (i.e. each row of the input file) consists of a flag that specifies the type of message ('HEAD', which in this case is always 1), two addresses of the TDC providing the signal ('FPGA' and 'TDC_CHANNEL'), and the timing information ('ORBIT_CNT', 'BX_COUNTER', and 'TDC_MEAS'). Each TDC count corresponds to 25/30 ns, whereas a unit of BX_COUNTER corresponds to 25 ns, and the ORBIT_CNT is increased every 'x' BX_COUNTER. This allows to store the time in a similar way to hours, minutes and seconds."
   ]
  },
  {
   "cell_type": "code",
   "execution_count": 1,
   "metadata": {},
   "outputs": [
    {
     "output_type": "stream",
     "name": "stderr",
     "text": [
      "\"wget\" non � riconosciuto come comando interno o esterno,\n un programma eseguibile o un file batch.\n"
     ]
    }
   ],
   "source": [
    "# If you didn't download it yet, please get the relevant file now!\n",
    "#!wget https://www.dropbox.com/s/xvjzaxzz3ysphme/data_000637.txt -P ~/data/"
   ]
  },
  {
   "cell_type": "markdown",
   "metadata": {},
   "source": [
    "1\\. Create a Pandas DataFrame reading N rows of the 'data_000637.txt' dataset. Choose N to be smaller than or equal to the maximum number of rows and larger that 10k.\n",
    "\n",
    "2\\. Find out the number of BX in a ORBIT (the value 'x').\n",
    "\n",
    "3\\. Find out how much the data taking lasted. You can either make an estimate based on the fraction of the measurements (rows) you read, or perform this check precisely by reading out the whole dataset.\n",
    "\n",
    "4\\. Create a new column with the absolute time in ns (as a combination of the other three columns with timing information).\n",
    "\n",
    "5\\. Replace the values (all 1) of the HEAD column randomly with 0 or 1.\n",
    "\n",
    "6\\. Create a new DataFrame that contains only the rows with HEAD=1.\n",
    "\n",
    "7\\. Make two occupancy plots (one for each FPGA), i.e. plot the number of counts per TDC channel\n",
    "\n",
    "8\\. Use the groupby method to find out the noisy channels, i.e. the TDC channels with most counts (say the top 3)\n",
    "\n",
    "9\\. Count the number of unique orbits. Count the number of unique orbits with at least one measurement from TDC_CHANNEL=139"
   ]
  },
  {
   "cell_type": "code",
   "execution_count": 2,
   "metadata": {},
   "outputs": [],
   "source": [
    "import numpy as np\n",
    "import pandas as pd\n",
    "import matplotlib.pyplot as plt\n",
    "from IPython.display import display"
   ]
  },
  {
   "cell_type": "code",
   "execution_count": 3,
   "metadata": {},
   "outputs": [
    {
     "output_type": "stream",
     "name": "stdout",
     "text": [
      "Retrieving data from https://www.dropbox.com/s/xvjzaxzz3ysphme/data_000637.txt?dl=1\n",
      "data.shape: (1310720, 6)\n",
      "Displaying retrieved data\n"
     ]
    },
    {
     "output_type": "display_data",
     "data": {
      "text/plain": "         HEAD  FPGA  TDC_CHANNEL   ORBIT_CNT  BX_COUNTER  TDC_MEAS\n0           1     0          123  3869200167        2374        26\n1           1     0          124  3869200167        2374        27\n2           1     0           63  3869200167        2553        28\n3           1     0           64  3869200167        2558        19\n4           1     0           64  3869200167        2760        25\n...       ...   ...          ...         ...         ...       ...\n1310715     1     0           62  3869211171         762        14\n1310716     1     1            4  3869211171         763        11\n1310717     1     0           64  3869211171         764         0\n1310718     1     0          139  3869211171         769         0\n1310719     1     0           61  3869211171         762        18\n\n[1310720 rows x 6 columns]",
      "text/html": "<div>\n<style scoped>\n    .dataframe tbody tr th:only-of-type {\n        vertical-align: middle;\n    }\n\n    .dataframe tbody tr th {\n        vertical-align: top;\n    }\n\n    .dataframe thead th {\n        text-align: right;\n    }\n</style>\n<table border=\"1\" class=\"dataframe\">\n  <thead>\n    <tr style=\"text-align: right;\">\n      <th></th>\n      <th>HEAD</th>\n      <th>FPGA</th>\n      <th>TDC_CHANNEL</th>\n      <th>ORBIT_CNT</th>\n      <th>BX_COUNTER</th>\n      <th>TDC_MEAS</th>\n    </tr>\n  </thead>\n  <tbody>\n    <tr>\n      <th>0</th>\n      <td>1</td>\n      <td>0</td>\n      <td>123</td>\n      <td>3869200167</td>\n      <td>2374</td>\n      <td>26</td>\n    </tr>\n    <tr>\n      <th>1</th>\n      <td>1</td>\n      <td>0</td>\n      <td>124</td>\n      <td>3869200167</td>\n      <td>2374</td>\n      <td>27</td>\n    </tr>\n    <tr>\n      <th>2</th>\n      <td>1</td>\n      <td>0</td>\n      <td>63</td>\n      <td>3869200167</td>\n      <td>2553</td>\n      <td>28</td>\n    </tr>\n    <tr>\n      <th>3</th>\n      <td>1</td>\n      <td>0</td>\n      <td>64</td>\n      <td>3869200167</td>\n      <td>2558</td>\n      <td>19</td>\n    </tr>\n    <tr>\n      <th>4</th>\n      <td>1</td>\n      <td>0</td>\n      <td>64</td>\n      <td>3869200167</td>\n      <td>2760</td>\n      <td>25</td>\n    </tr>\n    <tr>\n      <th>...</th>\n      <td>...</td>\n      <td>...</td>\n      <td>...</td>\n      <td>...</td>\n      <td>...</td>\n      <td>...</td>\n    </tr>\n    <tr>\n      <th>1310715</th>\n      <td>1</td>\n      <td>0</td>\n      <td>62</td>\n      <td>3869211171</td>\n      <td>762</td>\n      <td>14</td>\n    </tr>\n    <tr>\n      <th>1310716</th>\n      <td>1</td>\n      <td>1</td>\n      <td>4</td>\n      <td>3869211171</td>\n      <td>763</td>\n      <td>11</td>\n    </tr>\n    <tr>\n      <th>1310717</th>\n      <td>1</td>\n      <td>0</td>\n      <td>64</td>\n      <td>3869211171</td>\n      <td>764</td>\n      <td>0</td>\n    </tr>\n    <tr>\n      <th>1310718</th>\n      <td>1</td>\n      <td>0</td>\n      <td>139</td>\n      <td>3869211171</td>\n      <td>769</td>\n      <td>0</td>\n    </tr>\n    <tr>\n      <th>1310719</th>\n      <td>1</td>\n      <td>0</td>\n      <td>61</td>\n      <td>3869211171</td>\n      <td>762</td>\n      <td>18</td>\n    </tr>\n  </tbody>\n</table>\n<p>1310720 rows × 6 columns</p>\n</div>"
     },
     "metadata": {}
    }
   ],
   "source": [
    "#1\n",
    "url = \"https://www.dropbox.com/s/xvjzaxzz3ysphme/data_000637.txt?dl=1\"\n",
    "\n",
    "print(\"Retrieving data from\",url)\n",
    "data=pd.read_csv(url,delimiter=\",\") #così carico tutto il file e basta, ovviamente N sarà minore o uguale del massimo possibile e maggiore di 10000\n",
    "print(\"data.shape:\",data.shape)\n",
    "print(\"Displaying retrieved data\")\n",
    "display(data)"
   ]
  },
  {
   "cell_type": "code",
   "execution_count": 7,
   "metadata": {},
   "outputs": [
    {
     "output_type": "stream",
     "name": "stdout",
     "text": [
      "3564\n"
     ]
    }
   ],
   "source": [
    "#2\n",
    "\n",
    "#dopo averci pensato a lungo non penso che esista un modo \"deterministico\" per trovare x, ma solo \"probabilistico\". In particolare avendo moltissimi dati è molto probabile che almeno una volta ci sia stato un evento l'istante prima dello \"scattare dell'ora\", e che quindi il massimo BX presente nei dati sia x-1 analogamente a come in un orologio normale non si può mai osservare per i minuti un valore maggiore di 59. Chiaramente così si può a rigore solo stimare un limite inferiore per x (se ad esempio gli eventi fossero dotati di una periodicità \"brutta\" magari avverrebbero tutti subito dopo lo scattare dell'orbit rendendoci impossibile trovare x), ma su tanti dati relativi a eventi casuali otteniamo in realtà x stesso.\n",
    "\n",
    "x = data[\"BX_COUNTER\"].values.max()+1\n",
    "print(x)"
   ]
  },
  {
   "cell_type": "code",
   "execution_count": 21,
   "metadata": {},
   "outputs": [
    {
     "output_type": "stream",
     "name": "stdout",
     "text": [
      "total acquisition time in seconds: 0.9805348366666667\n"
     ]
    }
   ],
   "source": [
    "#3\n",
    "\n",
    "#tempo di acquisizione = istante finale - istante iniziale\n",
    "Y = 25 #ns in 1 bx\n",
    "Z = 25/30 #ns in 1 tdc\n",
    "X = x*Y\n",
    "t = data.shape[0]-1\n",
    "T = data[\"ORBIT_CNT\"].values[t]*X+data[\"BX_COUNTER\"].values[t]*Y+data[\"TDC_MEAS\"].values[t]*Z-data[\"ORBIT_CNT\"].values[0]*X+data[\"BX_COUNTER\"].values[0]*Y+data[\"TDC_MEAS\"].values[0]*Z\n",
    "T *= 1e-9\n",
    "print(\"total acquisition time in seconds:\",T)"
   ]
  }
 ],
 "metadata": {
  "kernelspec": {
   "display_name": "Python 3",
   "language": "python",
   "name": "python3"
  },
  "language_info": {
   "codemirror_mode": {
    "name": "ipython",
    "version": 3
   },
   "file_extension": ".py",
   "mimetype": "text/x-python",
   "name": "python",
   "nbconvert_exporter": "python",
   "pygments_lexer": "ipython3",
   "version": "3.8.3-final"
  }
 },
 "nbformat": 4,
 "nbformat_minor": 2
}