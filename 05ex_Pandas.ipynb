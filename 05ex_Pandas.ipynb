{
 "cells": [
  {
   "cell_type": "markdown",
   "metadata": {},
   "source": [
    "## Pandas analysis\n",
    "\n",
    "This exercise consists in analyzing a dataset containg timing information from a series of Time-to-Digital-Converters (TDC) implemented in a couple of FPGAs. Each measurement (i.e. each row of the input file) consists of a flag that specifies the type of message ('HEAD', which in this case is always 1), two addresses of the TDC providing the signal ('FPGA' and 'TDC_CHANNEL'), and the timing information ('ORBIT_CNT', 'BX_COUNTER', and 'TDC_MEAS'). Each TDC count corresponds to 25/30 ns, whereas a unit of BX_COUNTER corresponds to 25 ns, and the ORBIT_CNT is increased every 'x' BX_COUNTER. This allows to store the time in a similar way to hours, minutes and seconds."
   ]
  },
  {
   "cell_type": "code",
   "execution_count": null,
   "metadata": {},
   "outputs": [],
   "source": [
    "# If you didn't download it yet, please get the relevant file now!\n",
    "!wget https:"
   ]
  },
  {
   "cell_type": "code",
   "execution_count": null,
   "metadata": {},
   "outputs": [],
   "source": [
    "//www.dropbox.com/s/xvjzaxzz3ysphme/data_000637.txt -P ~/data/"
   ]
  },
  {
   "cell_type": "markdown",
   "metadata": {},
   "source": [
    "1\\. Create a Pandas DataFrame reading N rows of the 'data_000637.txt' dataset. Choose N to be smaller than or equal to the maximum number of rows and larger that 10k.\n",
    "\n",
    "2\\. Find out the number of BX in a ORBIT (the value 'x').\n",
    "\n",
    "3\\. Find out how much the data taking lasted. You can either make an estimate based on the fraction of the measurements (rows) you read, or perform this check precisely by reading out the whole dataset.\n",
    "\n",
    "4\\. Create a new column with the absolute time in ns (as a combination of the other three columns with timing information).\n",
    "\n",
    "5\\. Replace the values (all 1) of the HEAD column randomly with 0 or 1.\n",
    "\n",
    "6\\. Create a new DataFrame that contains only the rows with HEAD=1.\n",
    "\n",
    "7\\. Make two occupancy plots (one for each FPGA), i.e. plot the number of counts per TDC channel\n",
    "\n",
    "8\\. Use the groupby method to find out the noisy channels, i.e. the TDC channels with most counts (say the top 3)\n",
    "\n",
    "9\\. Count the number of unique orbits. Count the number of unique orbits with at least one measurement from TDC_CHANNEL=139"
   ]
  },
  {
   "cell_type": "code",
   "execution_count": null,
   "metadata": {},
   "outputs": [],
   "source": [
    "import pandas as pd\n",
    "import numpy as np\n",
    "import matplotlib.pyplot as plt\n",
    "import json\n",
    "import csv \n",
    "\n",
    "##### 1 #####\n",
    "file_name = \"/Users/Selen/data/data_000637.txt\"\n",
    "with open(file_name, mode='r') as f:\n",
    "      f=f.read \n",
    "\n",
    "df=pd.read_csv('/Users/Selen/data/data_000637.txt', sep=\",\" )\n",
    "print(df.info()) # maximum number of rows = 1310719 \n",
    "N=50000 #Assume N=50.000\n",
    "df=df[:N]\n",
    "print(df.info()) # new data frame's number of rows = 500000\n",
    "\n",
    "##### 2 #####\n",
    "\n",
    "##### 3 #####\n",
    "\n",
    "##### 4 #####\n",
    "x=0;\n",
    "for x in range (N):\n",
    "    \n",
    "    absolute_time=[df.loc[x,'ORBIT_CNT']+ df.loc[x,'BX_COUNTER']+ df.loc[x,'TDC_MEAS']]\n",
    "    df.loc[x,'ABS_TIME'] = absolute_time\n",
    "print(df.head())\n",
    "\n",
    "##### 5 #####\n",
    "print(df.isnull().sum()) #checking the null data\n",
    "\n",
    "for index in df.index:\n",
    "    df.loc[index,'HEAD'] = np.random.randint(2)\n",
    "print(df.HEAD)\n",
    "print(df.info())\n",
    "\n",
    "##### 6 #####\n",
    "DataFrame=df[df['HEAD']==1]\n",
    "#DataFrame=DataFrame['HEAD']\n",
    "print(DataFrame)\n",
    "\n",
    "##### 7 #####\n",
    "# FPGA=0\n",
    "FPGA_0=df[df['FPGA']==0]\n",
    "print(FPGA_0)\n",
    "TDC_COUNT_0=FPGA_0.groupby('TDC_CHANNEL').TDC_CHANNEL.count()\n",
    "print(TDC_COUNT_0)\n",
    "TDC_COUNT_0.plot()\n",
    "plt.xlabel(\"TDC CHANNEL\")\n",
    "plt.ylabel(\"COUNT\")\n",
    "\n",
    "# FPGA=1\n",
    "FPGA_1=df[df['FPGA']==1]\n",
    "print(FPGA_1)\n",
    "TDC_COUNT_1 = FPGA_1.pivot_table(index=['TDC_CHANNEL'], aggfunc='size')\n",
    "print(TDC_COUNT_1)\n",
    "TDC_COUNT_1.plot()\n",
    "plt.xlabel(\"TDC CHANNEL\")\n",
    "plt.ylabel(\"COUNT\")\n",
    "\n",
    "##### 8 #####\n",
    "TDC_COUNT=df.groupby('TDC_CHANNEL').TDC_CHANNEL.count().nlargest(3)\n",
    "print(\"The most 3 TDC Channels:\",\"\\n\",TDC_COUNT)\n",
    "\n",
    "##### 9 #####\n",
    "DF=df[df['TDC_CHANNEL']==139]\n",
    "print(DF)\n",
    "DF=DF.ORBIT_CNT.nunique()\n",
    "print(DF)\n"
   ]
  }
 ],
 "metadata": {
  "kernelspec": {
   "display_name": "Python 3",
   "language": "python",
   "name": "python3"
  },
  "language_info": {
   "codemirror_mode": {
    "name": "ipython",
    "version": 3
   },
   "file_extension": ".py",
   "mimetype": "text/x-python",
   "name": "python",
   "nbconvert_exporter": "python",
   "pygments_lexer": "ipython3",
   "version": "3.8.3"
  }
 },
 "nbformat": 4,
 "nbformat_minor": 2
}
