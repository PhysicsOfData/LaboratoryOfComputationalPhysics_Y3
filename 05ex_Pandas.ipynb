{
 "cells": [
  {
   "cell_type": "markdown",
   "metadata": {},
   "source": [
    "## Pandas analysis\n",
    "\n",
    "This exercise consists in analyzing a dataset containg timing information from a series of Time-to-Digital-Converters (TDC) implemented in a couple of FPGAs. Each measurement (i.e. each row of the input file) consists of a flag that specifies the type of message ('HEAD', which in this case is always 1), two addresses of the TDC providing the signal ('FPGA' and 'TDC_CHANNEL'), and the timing information ('ORBIT_CNT', 'BX_COUNTER', and 'TDC_MEAS'). Each TDC count corresponds to 25/30 ns, whereas a unit of BX_COUNTER corresponds to 25 ns, and the ORBIT_CNT is increased every 'x' BX_COUNTER. This allows to store the time in a similar way to hours, minutes and seconds."
   ]
  },
  {
   "cell_type": "code",
   "execution_count": 1,
   "metadata": {},
   "outputs": [
    {
     "name": "stderr",
     "output_type": "stream",
     "text": [
      "\"wget\" non Š riconosciuto come comando interno o esterno,\n",
      " un programma eseguibile o un file batch.\n"
     ]
    }
   ],
   "source": [
    "# If you didn't download it yet, please get the relevant file now!\n",
    "!wget https://www.dropbox.com/s/xvjzaxzz3ysphme/data_000637.txt -P ~/data/"
   ]
  },
  {
   "cell_type": "markdown",
   "metadata": {},
   "source": [
    "1\\. Create a Pandas DataFrame reading N rows of the 'data_000637.txt' dataset. Choose N to be smaller than or equal to the maximum number of rows and larger that 10k.\n",
    "\n",
    "2\\. Find out the number of BX in a ORBIT (the value 'x').\n",
    "\n",
    "3\\. Find out how much the data taking lasted. You can either make an estimate based on the fraction of the measurements (rows) you read, or perform this check precisely by reading out the whole dataset.\n",
    "\n",
    "4\\. Create a new column with the absolute time in ns (as a combination of the other three columns with timing information).\n",
    "\n",
    "5\\. Replace the values (all 1) of the HEAD column randomly with 0 or 1.\n",
    "\n",
    "6\\. Create a new DataFrame that contains only the rows with HEAD=1.\n",
    "\n",
    "7\\. Make two occupancy plots (one for each FPGA), i.e. plot the number of counts per TDC channel\n",
    "\n",
    "8\\. Use the groupby method to find out the noisy channels, i.e. the TDC channels with most counts (say the top 3)\n",
    "\n",
    "9\\. Count the number of unique orbits. Count the number of unique orbits with at least one measurement from TDC_CHANNEL=139"
   ]
  },
  {
   "cell_type": "code",
   "execution_count": 8,
   "metadata": {},
   "outputs": [
    {
     "name": "stdout",
     "output_type": "stream",
     "text": [
      "Total rows in file: 1310720\n",
      "We chose 660360 rows\n",
      "        HEAD  FPGA  TDC_CHANNEL   ORBIT_CNT  BX_COUNTER  TDC_MEAS\n",
      "0          1     0          123  3869200167        2374        26\n",
      "1          1     0          124  3869200167        2374        27\n",
      "2          1     0           63  3869200167        2553        28\n",
      "3          1     0           64  3869200167        2558        19\n",
      "4          1     0           64  3869200167        2760        25\n",
      "...      ...   ...          ...         ...         ...       ...\n",
      "660355     1     0           60  3869206700        1943         3\n",
      "660356     1     0           37  3869206700        1944        17\n",
      "660357     1     0           58  3869206700        1953        22\n",
      "660358     1     0           61  3869206700        2089        22\n",
      "660359     1     0           59  3869206700        2094        13\n",
      "\n",
      "[660360 rows x 6 columns]\n",
      "BX in a ORBIT = 3564\n",
      "Data talking lasted 0.9804564 seconds\n",
      "Absolute time (ns) =\n",
      "0         3.447457e+14\n",
      "1         3.447457e+14\n",
      "2         3.447457e+14\n",
      "3         3.447457e+14\n",
      "4         3.447457e+14\n",
      "              ...     \n",
      "660355    3.447463e+14\n",
      "660356    3.447463e+14\n",
      "660357    3.447463e+14\n",
      "660358    3.447463e+14\n",
      "660359    3.447463e+14\n",
      "Length: 660360, dtype: float64\n",
      "        HEAD  FPGA  TDC_CHANNEL   ORBIT_CNT  BX_COUNTER  TDC_MEAS\n",
      "0          1     0          123  3869200167        2374        26\n",
      "1          1     0          124  3869200167        2374        27\n",
      "3          1     0           64  3869200167        2558        19\n",
      "4          1     0           64  3869200167        2760        25\n",
      "5          1     0           63  3869200167        2762         4\n",
      "...      ...   ...          ...         ...         ...       ...\n",
      "660346     1     0           63  3869206700        1147        10\n",
      "660348     1     0           64  3869206700        1148        19\n",
      "660352     1     0           59  3869206700        1946        11\n",
      "660356     1     0           37  3869206700        1944        17\n",
      "660359     1     0           59  3869206700        2094        13\n",
      "\n",
      "[233018 rows x 6 columns]\n",
      "        HEAD  FPGA  TDC_CHANNEL   ORBIT_CNT  BX_COUNTER  TDC_MEAS\n",
      "18         1     1            5  3869200167        2795         4\n",
      "20         1     1           10  3869200167        2789        14\n",
      "45         1     1            1  3869200168          13        18\n",
      "47         1     1            2  3869200168          17        26\n",
      "54         1     1           61  3869200168         260        16\n",
      "...      ...   ...          ...         ...         ...       ...\n",
      "660324     1     1            4  3869206700         237        12\n",
      "660326     1     1          139  3869206700         247         0\n",
      "660327     1     1            3  3869206700         240         9\n",
      "660328     1     1            5  3869206700         242         1\n",
      "660351     1     1          123  3869206700        1370        28\n",
      "\n",
      "[98036 rows x 6 columns]\n"
     ]
    }
   ],
   "source": [
    "import pandas as pd\n",
    "\n",
    "filename = 'data_000637.txt'\n",
    "# 1\n",
    "try:\n",
    "    with open(filename) as f:\n",
    "        N_max = len(f.readlines()) - 1\n",
    "except:\n",
    "    print(f\"Error: can't open {filename}\")\n",
    "print(f\"Total rows in file: {N_max}\")\n",
    "assert(N_max > 10000)\n",
    "N = int((N_max + 10000) / 2)\n",
    "print(f\"We chose {N} rows\")\n",
    "df = pd.read_csv(filename, sep=',', nrows=N)\n",
    "print(df)\n",
    "# 2\n",
    "x = df[\"BX_COUNTER\"].max() + 1\n",
    "print(f\"BX in a ORBIT = {x}\")\n",
    "# 3\n",
    "df_all = pd.read_csv(filename, sep=',')\n",
    "assert(df_all[\"TDC_MEAS\"].max() <= 30)\n",
    "data_talking = \\\n",
    "(df_all[\"ORBIT_CNT\"].max() - df_all[\"ORBIT_CNT\"].min()) * x * 25e-9\n",
    "+ df_all[\"BX_COUNTER\"].sum() * 25e-9\n",
    "+ df_all[\"TDC_MEAS\"] * 25/30*1e-9\n",
    "print(f\"Data talking lasted {data_talking} seconds\")\n",
    "# 4\n",
    "# (Assuming we're considering first N rows)\n",
    "time = df[\"ORBIT_CNT\"] * x * 25 + df[\"BX_COUNTER\"] * 25 + df[\"TDC_MEAS\"] * 25/30\n",
    "print(\"Absolute time (ns) =\")\n",
    "print(time)\n",
    "# 5\n",
    "import numpy as np\n",
    "import numpy.random as npr\n",
    "rng = npr.default_rng()\n",
    "df[\"HEAD\"] = rng.integers(0, 2, df[\"HEAD\"].shape[0], dtype=np.int)\n",
    "# 6\n",
    "df2 = df[df[\"HEAD\"] == 1]\n",
    "assert(df2[\"HEAD\"].shape[0] == np.sum(df[\"HEAD\"]))\n",
    "# Assuming we're using new DataFrame from now on\n",
    "df = df2\n",
    "# 7\n",
    "fpga0 = df[df[\"FPGA\"] == 0]\n",
    "fpga1 = df[df[\"FPGA\"] == 1]\n",
    "print(fpga0)\n",
    "print(fpga1)\n"
   ]
  }
 ],
 "metadata": {
  "kernelspec": {
   "display_name": "Python 3",
   "language": "python",
   "name": "python3"
  },
  "language_info": {
   "codemirror_mode": {
    "name": "ipython",
    "version": 3
   },
   "file_extension": ".py",
   "mimetype": "text/x-python",
   "name": "python",
   "nbconvert_exporter": "python",
   "pygments_lexer": "ipython3",
   "version": "3.8.5"
  }
 },
 "nbformat": 4,
 "nbformat_minor": 2
}
