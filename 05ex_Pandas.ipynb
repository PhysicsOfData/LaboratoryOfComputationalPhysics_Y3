{
 "cells": [
  {
   "cell_type": "markdown",
   "metadata": {},
   "source": [
    "## Pandas analysis\n",
    "\n",
    "This exercise consists in analyzing a dataset containg timing information from a series of Time-to-Digital-Converters (TDC) implemented in a couple of FPGAs. Each measurement (i.e. each row of the input file) consists of a flag that specifies the type of message ('HEAD', which in this case is always 1), two addresses of the TDC providing the signal ('FPGA' and 'TDC_CHANNEL'), and the timing information ('ORBIT_CNT', 'BX_COUNTER', and 'TDC_MEAS'). Each TDC count corresponds to 25/30 ns, whereas a unit of BX_COUNTER corresponds to 25 ns, and the ORBIT_CNT is increased every 'x' BX_COUNTER. This allows to store the time in a similar way to hours, minutes and seconds."
   ]
  },
  {
   "cell_type": "code",
   "execution_count": 1,
   "metadata": {},
   "outputs": [],
   "source": [
    "import pandas as pd\n",
    "import numpy as np"
   ]
  },
  {
   "cell_type": "code",
   "execution_count": 2,
   "metadata": {},
   "outputs": [],
   "source": [
    "# If you didn't download it yet, please get the relevant file now!\n",
    "#!wget https://www.dropbox.com/s/xvjzaxzz3ysphme/data_000637.txt -P ~/data/"
   ]
  },
  {
   "cell_type": "markdown",
   "metadata": {},
   "source": [
    "1\\. Create a Pandas DataFrame reading N rows of the 'data_000637.txt' dataset. Choose N to be smaller than or equal to the maximum number of rows and larger that 10k."
   ]
  },
  {
   "cell_type": "code",
   "execution_count": 3,
   "metadata": {},
   "outputs": [
    {
     "name": "stdout",
     "output_type": "stream",
     "text": [
      "       HEAD  FPGA  TDC_CHANNEL   ORBIT_CNT  BX_COUNTER  TDC_MEAS\n",
      "0         1     0          123  3869200167        2374        26\n",
      "1         1     0          124  3869200167        2374        27\n",
      "2         1     0           63  3869200167        2553        28\n",
      "3         1     0           64  3869200167        2558        19\n",
      "4         1     0           64  3869200167        2760        25\n",
      "...     ...   ...          ...         ...         ...       ...\n",
      "49995     1     1            2  3869200664        1103         4\n",
      "49996     1     1            4  3869200664        1105        14\n",
      "49997     1     0           59  3869200664        1191        17\n",
      "49998     1     0           32  3869200664        1191         1\n",
      "49999     1     0           60  3869200664        1190         6\n",
      "\n",
      "[50000 rows x 6 columns]\n",
      "         HEAD  FPGA  TDC_CHANNEL   ORBIT_CNT  BX_COUNTER  TDC_MEAS\n",
      "0           1     0          123  3869200167        2374        26\n",
      "1           1     0          124  3869200167        2374        27\n",
      "2           1     0           63  3869200167        2553        28\n",
      "3           1     0           64  3869200167        2558        19\n",
      "4           1     0           64  3869200167        2760        25\n",
      "...       ...   ...          ...         ...         ...       ...\n",
      "1310715     1     0           62  3869211171         762        14\n",
      "1310716     1     1            4  3869211171         763        11\n",
      "1310717     1     0           64  3869211171         764         0\n",
      "1310718     1     0          139  3869211171         769         0\n",
      "1310719     1     0           61  3869211171         762        18\n",
      "\n",
      "[1310720 rows x 6 columns]\n"
     ]
    }
   ],
   "source": [
    "dat =pd.read_csv(\"/Users/ghidoni/data/data_000637.txt\")\n",
    "N=50000\n",
    "head=dat.head(N)\n",
    "print(head)\n",
    "print(dat)"
   ]
  },
  {
   "cell_type": "markdown",
   "metadata": {},
   "source": [
    "2\\. Find out the number of BX in a ORBIT (the value 'x').\n",
    "\n"
   ]
  },
  {
   "cell_type": "code",
   "execution_count": 4,
   "metadata": {},
   "outputs": [
    {
     "name": "stdout",
     "output_type": "stream",
     "text": [
      "ORBIT_CNT\n",
      "3869200167    3188\n",
      "3869200168    3539\n",
      "3869200169    2767\n",
      "3869200170    3378\n",
      "3869200171    3543\n",
      "              ... \n",
      "3869211167    3554\n",
      "3869211168    3557\n",
      "3869211169    3499\n",
      "3869211170    3528\n",
      "3869211171     770\n",
      "Name: BX_COUNTER, Length: 11001, dtype: int64\n",
      "3564\n"
     ]
    }
   ],
   "source": [
    "maxim=dat.groupby(['ORBIT_CNT']).max()\n",
    "print(maxim[\"BX_COUNTER\"]+1)\n",
    "print(maxim[\"BX_COUNTER\"].max()+1)"
   ]
  },
  {
   "cell_type": "code",
   "execution_count": 5,
   "metadata": {},
   "outputs": [
    {
     "name": "stdout",
     "output_type": "stream",
     "text": [
      "            HEAD  FPGA  TDC_CHANNEL  BX_COUNTER  TDC_MEAS\n",
      "ORBIT_CNT                                                \n",
      "3869200167    43     6         2683      124133       619\n",
      "3869200168    85    36         4376       97201      1134\n",
      "3869200169   127    37         6727      144343      1688\n",
      "3869200170    98    32         5183      217462      1308\n",
      "3869200171   109    30         6562      228822      1482\n",
      "...          ...   ...          ...         ...       ...\n",
      "3869211167   208    80        10909      361697      2780\n",
      "3869211168   109    24         6825      205302      1551\n",
      "3869211169   191    49        10815      311322      2628\n",
      "3869211170   137    47         8588      277743      1830\n",
      "3869211171    22     5         1235        7573       285\n",
      "\n",
      "[11001 rows x 5 columns]\n"
     ]
    }
   ],
   "source": [
    "maxsum=dat.groupby(['ORBIT_CNT']).sum()\n",
    "print(maxsum)"
   ]
  },
  {
   "cell_type": "markdown",
   "metadata": {},
   "source": [
    "3\\. Find out how much the data taking lasted. You can either make an estimate based on the fraction of the measurements (rows) you read, or perform this check precisely by reading out the whole dataset.\n",
    "\n"
   ]
  },
  {
   "cell_type": "code",
   "execution_count": 6,
   "metadata": {},
   "outputs": [
    {
     "name": "stdout",
     "output_type": "stream",
     "text": [
      "0          21.666667\n",
      "1          22.500000\n",
      "2          23.333333\n",
      "3          15.833333\n",
      "4          20.833333\n",
      "             ...    \n",
      "1310715    11.666667\n",
      "1310716     9.166667\n",
      "1310717     0.000000\n",
      "1310718     0.000000\n",
      "1310719    15.000000\n",
      "Name: TDC_MEAS, Length: 1310720, dtype: float64\n",
      "0          59350\n",
      "1          59350\n",
      "2          63825\n",
      "3          63950\n",
      "4          69000\n",
      "           ...  \n",
      "1310715    19050\n",
      "1310716    19075\n",
      "1310717    19100\n",
      "1310718    19225\n",
      "1310719    19050\n",
      "Name: BX_COUNTER, Length: 1310720, dtype: int64\n",
      "1310720\n",
      "1310720\n",
      "0          59371.666667\n",
      "1          59372.500000\n",
      "2          63848.333333\n",
      "3          63965.833333\n",
      "4          69020.833333\n",
      "               ...     \n",
      "1310715    19061.666667\n",
      "1310716    19084.166667\n",
      "1310717    19100.000000\n",
      "1310718    19225.000000\n",
      "1310719    19065.000000\n",
      "Length: 1310720, dtype: float64\n",
      "58.377528181500026\n"
     ]
    }
   ],
   "source": [
    "a=dat[\"TDC_MEAS\"]*25/30\n",
    "b=dat[\"BX_COUNTER\"]*25\n",
    "#c= dat.pivot_table(index=['ORBIT_CNT'], aggfunc='size')\n",
    "time=a+b\n",
    "\n",
    "print(a)\n",
    "print(b)\n",
    "\n",
    "\n",
    "\n",
    "print(len(a))\n",
    "print(len(b))\n",
    "\n",
    "\n",
    "print(time)\n",
    "print((time.sum()+dat[\"ORBIT_CNT\"].max()-dat[\"ORBIT_CNT\"].min())/10**9)\n",
    "\n",
    "\n",
    "\n",
    "\n",
    "\n",
    "\n",
    "#c= dat.pivot_table(index=['ORBIT_CNT'], aggfunc='size')\n"
   ]
  },
  {
   "cell_type": "markdown",
   "metadata": {},
   "source": [
    "4\\. Create a new column with the absolute time in ns (as a combination of the other three columns with timing information).\n",
    "\n"
   ]
  },
  {
   "cell_type": "code",
   "execution_count": 7,
   "metadata": {},
   "outputs": [
    {
     "name": "stdout",
     "output_type": "stream",
     "text": [
      "         HEAD  FPGA  TDC_CHANNEL   ORBIT_CNT  BX_COUNTER  TDC_MEAS  \\\n",
      "0           1     0          123  3869200167        2374        26   \n",
      "1           1     0          124  3869200167        2374        27   \n",
      "2           1     0           63  3869200167        2553        28   \n",
      "3           1     0           64  3869200167        2558        19   \n",
      "4           1     0           64  3869200167        2760        25   \n",
      "...       ...   ...          ...         ...         ...       ...   \n",
      "1310715     1     0           62  3869211171         762        14   \n",
      "1310716     1     1            4  3869211171         763        11   \n",
      "1310717     1     0           64  3869211171         764         0   \n",
      "1310718     1     0          139  3869211171         769         0   \n",
      "1310719     1     0           61  3869211171         762        18   \n",
      "\n",
      "             ABS_TIME  \n",
      "0        59371.666667  \n",
      "1        59372.500000  \n",
      "2        63848.333333  \n",
      "3        63965.833333  \n",
      "4        69020.833333  \n",
      "...               ...  \n",
      "1310715  19061.666667  \n",
      "1310716  19084.166667  \n",
      "1310717  19100.000000  \n",
      "1310718  19225.000000  \n",
      "1310719  19065.000000  \n",
      "\n",
      "[1310720 rows x 7 columns]\n"
     ]
    }
   ],
   "source": [
    "dat[\"ABS_TIME\"]=time\n",
    "print(dat)"
   ]
  },
  {
   "cell_type": "markdown",
   "metadata": {},
   "source": [
    "5\\. Replace the values (all 1) of the HEAD column randomly with 0 or 1.\n",
    "\n"
   ]
  },
  {
   "cell_type": "code",
   "execution_count": 8,
   "metadata": {},
   "outputs": [],
   "source": [
    "dat[\"HEAD\"]=np.random.randint(0,2,len(dat))"
   ]
  },
  {
   "cell_type": "markdown",
   "metadata": {},
   "source": [
    "6\\. Create a new DataFrame that contains only the rows with HEAD=1.\n",
    "\n"
   ]
  },
  {
   "cell_type": "code",
   "execution_count": 9,
   "metadata": {},
   "outputs": [
    {
     "data": {
      "text/html": [
       "<div>\n",
       "<style scoped>\n",
       "    .dataframe tbody tr th:only-of-type {\n",
       "        vertical-align: middle;\n",
       "    }\n",
       "\n",
       "    .dataframe tbody tr th {\n",
       "        vertical-align: top;\n",
       "    }\n",
       "\n",
       "    .dataframe thead th {\n",
       "        text-align: right;\n",
       "    }\n",
       "</style>\n",
       "<table border=\"1\" class=\"dataframe\">\n",
       "  <thead>\n",
       "    <tr style=\"text-align: right;\">\n",
       "      <th></th>\n",
       "      <th>HEAD</th>\n",
       "      <th>FPGA</th>\n",
       "      <th>TDC_CHANNEL</th>\n",
       "      <th>ORBIT_CNT</th>\n",
       "      <th>BX_COUNTER</th>\n",
       "      <th>TDC_MEAS</th>\n",
       "      <th>ABS_TIME</th>\n",
       "    </tr>\n",
       "  </thead>\n",
       "  <tbody>\n",
       "    <tr>\n",
       "      <th>1</th>\n",
       "      <td>1</td>\n",
       "      <td>0</td>\n",
       "      <td>124</td>\n",
       "      <td>3869200167</td>\n",
       "      <td>2374</td>\n",
       "      <td>27</td>\n",
       "      <td>59372.500000</td>\n",
       "    </tr>\n",
       "    <tr>\n",
       "      <th>2</th>\n",
       "      <td>1</td>\n",
       "      <td>0</td>\n",
       "      <td>63</td>\n",
       "      <td>3869200167</td>\n",
       "      <td>2553</td>\n",
       "      <td>28</td>\n",
       "      <td>63848.333333</td>\n",
       "    </tr>\n",
       "    <tr>\n",
       "      <th>5</th>\n",
       "      <td>1</td>\n",
       "      <td>0</td>\n",
       "      <td>63</td>\n",
       "      <td>3869200167</td>\n",
       "      <td>2762</td>\n",
       "      <td>4</td>\n",
       "      <td>69053.333333</td>\n",
       "    </tr>\n",
       "    <tr>\n",
       "      <th>7</th>\n",
       "      <td>1</td>\n",
       "      <td>0</td>\n",
       "      <td>139</td>\n",
       "      <td>3869200167</td>\n",
       "      <td>2776</td>\n",
       "      <td>0</td>\n",
       "      <td>69400.000000</td>\n",
       "    </tr>\n",
       "    <tr>\n",
       "      <th>11</th>\n",
       "      <td>1</td>\n",
       "      <td>0</td>\n",
       "      <td>64</td>\n",
       "      <td>3869200167</td>\n",
       "      <td>2786</td>\n",
       "      <td>19</td>\n",
       "      <td>69665.833333</td>\n",
       "    </tr>\n",
       "    <tr>\n",
       "      <th>...</th>\n",
       "      <td>...</td>\n",
       "      <td>...</td>\n",
       "      <td>...</td>\n",
       "      <td>...</td>\n",
       "      <td>...</td>\n",
       "      <td>...</td>\n",
       "      <td>...</td>\n",
       "    </tr>\n",
       "    <tr>\n",
       "      <th>1310712</th>\n",
       "      <td>1</td>\n",
       "      <td>1</td>\n",
       "      <td>35</td>\n",
       "      <td>3869211171</td>\n",
       "      <td>429</td>\n",
       "      <td>4</td>\n",
       "      <td>10728.333333</td>\n",
       "    </tr>\n",
       "    <tr>\n",
       "      <th>1310716</th>\n",
       "      <td>1</td>\n",
       "      <td>1</td>\n",
       "      <td>4</td>\n",
       "      <td>3869211171</td>\n",
       "      <td>763</td>\n",
       "      <td>11</td>\n",
       "      <td>19084.166667</td>\n",
       "    </tr>\n",
       "    <tr>\n",
       "      <th>1310717</th>\n",
       "      <td>1</td>\n",
       "      <td>0</td>\n",
       "      <td>64</td>\n",
       "      <td>3869211171</td>\n",
       "      <td>764</td>\n",
       "      <td>0</td>\n",
       "      <td>19100.000000</td>\n",
       "    </tr>\n",
       "    <tr>\n",
       "      <th>1310718</th>\n",
       "      <td>1</td>\n",
       "      <td>0</td>\n",
       "      <td>139</td>\n",
       "      <td>3869211171</td>\n",
       "      <td>769</td>\n",
       "      <td>0</td>\n",
       "      <td>19225.000000</td>\n",
       "    </tr>\n",
       "    <tr>\n",
       "      <th>1310719</th>\n",
       "      <td>1</td>\n",
       "      <td>0</td>\n",
       "      <td>61</td>\n",
       "      <td>3869211171</td>\n",
       "      <td>762</td>\n",
       "      <td>18</td>\n",
       "      <td>19065.000000</td>\n",
       "    </tr>\n",
       "  </tbody>\n",
       "</table>\n",
       "<p>654995 rows × 7 columns</p>\n",
       "</div>"
      ],
      "text/plain": [
       "         HEAD  FPGA  TDC_CHANNEL   ORBIT_CNT  BX_COUNTER  TDC_MEAS  \\\n",
       "1           1     0          124  3869200167        2374        27   \n",
       "2           1     0           63  3869200167        2553        28   \n",
       "5           1     0           63  3869200167        2762         4   \n",
       "7           1     0          139  3869200167        2776         0   \n",
       "11          1     0           64  3869200167        2786        19   \n",
       "...       ...   ...          ...         ...         ...       ...   \n",
       "1310712     1     1           35  3869211171         429         4   \n",
       "1310716     1     1            4  3869211171         763        11   \n",
       "1310717     1     0           64  3869211171         764         0   \n",
       "1310718     1     0          139  3869211171         769         0   \n",
       "1310719     1     0           61  3869211171         762        18   \n",
       "\n",
       "             ABS_TIME  \n",
       "1        59372.500000  \n",
       "2        63848.333333  \n",
       "5        69053.333333  \n",
       "7        69400.000000  \n",
       "11       69665.833333  \n",
       "...               ...  \n",
       "1310712  10728.333333  \n",
       "1310716  19084.166667  \n",
       "1310717  19100.000000  \n",
       "1310718  19225.000000  \n",
       "1310719  19065.000000  \n",
       "\n",
       "[654995 rows x 7 columns]"
      ]
     },
     "execution_count": 9,
     "metadata": {},
     "output_type": "execute_result"
    }
   ],
   "source": [
    "new = dat[(dat[\"HEAD\"] == 1)]\n",
    "new"
   ]
  },
  {
   "cell_type": "markdown",
   "metadata": {},
   "source": [
    "7\\. Make two occupancy plots (one for each FPGA), i.e. plot the number of counts per TDC channel\n",
    "\n"
   ]
  },
  {
   "cell_type": "code",
   "execution_count": 10,
   "metadata": {
    "scrolled": true
   },
   "outputs": [
    {
     "data": {
      "image/png": "[encoded data removed]",
      "text/plain": [
       "<Figure size 432x288 with 1 Axes>"
      ]
     },
     "metadata": {
      "needs_background": "light"
     },
     "output_type": "display_data"
    },
    {
     "data": {
      "image/png": "[encoded data removed]",
      "text/plain": [
       "<Figure size 432x288 with 1 Axes>"
      ]
     },
     "metadata": {
      "needs_background": "light"
     },
     "output_type": "display_data"
    }
   ],
   "source": [
    "import matplotlib.pyplot as plt\n",
    "FPGA1 = dat[(dat[\"FPGA\"] == 1)]\n",
    "FPGA0 = dat[(dat[\"FPGA\"] == 0)]\n",
    "plt.hist(FPGA1[\"TDC_CHANNEL\"],FPGA1[\"TDC_CHANNEL\"].max())\n",
    "plt.show()\n",
    "plt.hist(FPGA0[\"TDC_CHANNEL\"],FPGA0[\"TDC_CHANNEL\"].max())\n",
    "plt.show()"
   ]
  },
  {
   "cell_type": "markdown",
   "metadata": {},
   "source": [
    "8\\. Use the groupby method to find out the noisy channels, i.e. the TDC channels with most counts (say the top 3)\n",
    "\n"
   ]
  },
  {
   "cell_type": "code",
   "execution_count": 11,
   "metadata": {},
   "outputs": [
    {
     "name": "stdout",
     "output_type": "stream",
     "text": [
      "              HEAD   FPGA        ORBIT_CNT  BX_COUNTER  TDC_MEAS      ABS_TIME\n",
      "TDC_CHANNEL                                                                   \n",
      "2            16308  32669  126403097729581    58194220    475221  1.455252e+09\n",
      "139          16190  32442  125524786978260    57995164         0  1.449879e+09\n",
      "1            14253  28438  110032486229838    50854862    413328  1.271716e+09\n",
      "              HEAD  FPGA        ORBIT_CNT  BX_COUNTER  TDC_MEAS      ABS_TIME\n",
      "TDC_CHANNEL                                                                  \n",
      "139          37845     0  292577762508697   134482540         0  3.362064e+09\n",
      "64           32117     0  249877206705822   115180305    941085  2.880292e+09\n",
      "63           31634     0  246561296495498   113828187    924689  2.846475e+09\n"
     ]
    }
   ],
   "source": [
    "a=FPGA1.groupby([\"TDC_CHANNEL\"]).sum()\n",
    "print(a.sort_values([\"HEAD\"],ascending=False).head(3))\n",
    "\n",
    "\n",
    "l=FPGA0.groupby([\"TDC_CHANNEL\"]).sum()\n",
    "print(l.sort_values([\"HEAD\"],ascending=False).head(3))"
   ]
  },
  {
   "cell_type": "markdown",
   "metadata": {},
   "source": [
    "9\\. Count the number of unique orbits. Count the number of unique orbits with at least one measurement from TDC_CHANNEL=139"
   ]
  },
  {
   "cell_type": "code",
   "execution_count": 12,
   "metadata": {},
   "outputs": [
    {
     "name": "stdout",
     "output_type": "stream",
     "text": [
      "number of unique orbits:  11001\n",
      "number of unique orbits with at least one measurement from TDC_CHANNEL=139: 10976\n"
     ]
    }
   ],
   "source": [
    "unorb=dat[\"ORBIT_CNT\"].unique()\n",
    "print(\"number of unique orbits: \",len(unorb))\n",
    "#print(len(unorb))\n",
    "\n",
    "\n",
    "prova = dat[(dat[\"TDC_CHANNEL\"] == 139)]\n",
    "unorb139 = prova[\"ORBIT_CNT\"].unique()\n",
    "print(\"number of unique orbits with at least one measurement from TDC_CHANNEL=139:\", len(unorb139))\n",
    "#print(len(unorb139))"
   ]
  },
  {
   "cell_type": "code",
   "execution_count": null,
   "metadata": {},
   "outputs": [],
   "source": []
  }
 ],
 "metadata": {
  "kernelspec": {
   "display_name": "Python 3",
   "language": "python",
   "name": "python3"
  },
  "language_info": {
   "codemirror_mode": {
    "name": "ipython",
    "version": 3
   },
   "file_extension": ".py",
   "mimetype": "text/x-python",
   "name": "python",
   "nbconvert_exporter": "python",
   "pygments_lexer": "ipython3",
   "version": "3.8.5"
  }
 },
 "nbformat": 4,
 "nbformat_minor": 2
}
