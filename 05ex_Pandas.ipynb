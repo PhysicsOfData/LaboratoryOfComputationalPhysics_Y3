{
 "cells": [
  {
   "cell_type": "markdown",
   "metadata": {},
   "source": [
    "## Pandas analysis\n",
    "\n",
    "This exercise consists in analyzing a dataset containg timing information from a series of Time-to-Digital-Converters (TDC) implemented in a couple of FPGAs. Each measurement (i.e. each row of the input file) consists of a flag that specifies the type of message ('HEAD', which in this case is always 1), two addresses of the TDC providing the signal ('FPGA' and 'TDC_CHANNEL'), and the timing information ('ORBIT_CNT', 'BX_COUNTER', and 'TDC_MEAS'). Each TDC count corresponds to 25/30 ns, whereas a unit of BX_COUNTER corresponds to 25 ns, and the ORBIT_CNT is increased every 'x' BX_COUNTER. This allows to store the time in a similar way to hours, minutes and seconds."
   ]
  },
  {
   "cell_type": "code",
   "execution_count": null,
   "metadata": {},
   "outputs": [],
   "source": [
    "# If you didn't download it yet, please get the relevant file now!\n",
    "!wget https://www.dropbox.com/s/xvjzaxzz3ysphme/data_000637.txt -P ~/data/"
   ]
  },
  {
   "cell_type": "markdown",
   "metadata": {},
   "source": [
    "1\\. Create a Pandas DataFrame reading N rows of the 'data_000637.txt' dataset. Choose N to be smaller than or equal to the maximum number of rows and larger that 10k.\n",
    "\n",
    "2\\. Find out the number of BX in a ORBIT (the value 'x').\n",
    "\n",
    "3\\. Find out how much the data taking lasted. You can either make an estimate based on the fraction of the measurements (rows) you read, or perform this check precisely by reading out the whole dataset.\n",
    "\n",
    "4\\. Create a new column with the absolute time in ns (as a combination of the other three columns with timing information).\n",
    "\n",
    "5\\. Replace the values (all 1) of the HEAD column randomly with 0 or 1.\n",
    "\n",
    "6\\. Create a new DataFrame that contains only the rows with HEAD=1.\n",
    "\n",
    "7\\. Make two occupancy plots (one for each FPGA), i.e. plot the number of counts per TDC channel\n",
    "\n",
    "8\\. Use the groupby method to find out the noisy channels, i.e. the TDC channels with most counts (say the top 3)\n",
    "\n",
    "9\\. Count the number of unique orbits. Count the number of unique orbits with at least one measurement from TDC_CHANNEL=139"
   ]
  },
  {
   "cell_type": "code",
   "execution_count": null,
   "metadata": {},
   "outputs": [],
   "source": [
    "#esercizio 1\n",
    "\n",
    "file_name=\"data_000637.txt\"\n",
    "data_tot=pd.read_csv(file_name)\n",
    "data = pd.DataFrame(data_tot[0:10000], index=np.arange(10000), columns=[\"HEAD\",\"FPGA\",\"TDC_CHANNEL\",\"ORBIT_CNT\",\"BX_COUNTER\",\"TDC_MEAS\"])\n",
    "MAX = data.groupby(\"ORBIT_CNT\").max()\n",
    "MIN = data.groupby(\"ORBIT_CNT\").min()\n",
    "delta = MAX -MIN\n",
    "x = pd.Series.mean(delta[\"BX_COUNTER\"])\n"
   ]
  },
  {
   "cell_type": "code",
   "execution_count": null,
   "metadata": {},
   "outputs": [],
   "source": [
    "#esercizio 2\n",
    "\n",
    "time = data[\"TDC_MEAS\"].sum()*25\n",
    "\n",
    "\n",
    "\n"
   ]
  },
  {
   "cell_type": "markdown",
   "metadata": {},
   "source": [
    " "
   ]
  },
  {
   "cell_type": "code",
   "execution_count": null,
   "metadata": {},
   "outputs": [],
   "source": [
    "#esercizio 3\n",
    "\n",
    "absolute = data[\"ORBIT_CNT\"].tail(1)*25*x + data[\"BX_COUNTER\"].tail(1)*25\n",
    "print(absolute) #in nanosecondi\n"
   ]
  },
  {
   "cell_type": "code",
   "execution_count": null,
   "metadata": {},
   "outputs": [],
   "source": [
    "#esercizo 5\n",
    "\n",
    "data[\"HEAD\"] = pd.Series(np.random.randint(0,2,len(data[\"HEAD\"])), index=data.index)\n"
   ]
  },
  {
   "cell_type": "code",
   "execution_count": null,
   "metadata": {},
   "outputs": [],
   "source": [
    "#esercizio 6\n",
    "\n",
    "lista_drop = [data.index[i] for i in range(0,10000) if data[\"HEAD\"][i] == 0]"
   ]
  },
  {
   "cell_type": "code",
   "execution_count": null,
   "metadata": {},
   "outputs": [],
   "source": [
    "#esercizio 7\n",
    "\n",
    "\n",
    "lista_drop1 = [data.index[i] for i in range(0,10000) if data[\"FPGA\"][i] == 0]\n",
    "lista_drop2 = [data.index[i] for i in range(0,10000) if data[\"FPGA\"][i] == 1]\n",
    "\n",
    "fpga1 = data.drop(lista_drop1)\n",
    "fpga2 = data.drop(lista_drop2)\n",
    "\n",
    "\n",
    "primoisto = fpga1[\"TDC_CHANNEL\"].plot.hist(  bins=140)\n"
   ]
  },
  {
   "cell_type": "code",
   "execution_count": null,
   "metadata": {},
   "outputs": [],
   "source": [
    "secondoisto = fpga2[\"TDC_CHANNEL\"].plot.hist(  bins=140)"
   ]
  },
  {
   "cell_type": "code",
   "execution_count": null,
   "metadata": {},
   "outputs": [],
   "source": [
    "#esercizio 8\n",
    "\n",
    "noisy1 = fpga1.groupby(\"TDC_CHANNEL\").sum()\n",
    "noisy1\n",
    "\n",
    "noisy2 = fpga2.groupby(\"TDC_CHANNEL\").sum()\n",
    "noisy2\n"
   ]
  },
  {
   "cell_type": "code",
   "execution_count": null,
   "metadata": {},
   "outputs": [],
   "source": [
    "#esercizio 9\n",
    "\n",
    "conta_orbite1 = fpga1.groupby(\"ORBIT_CNT\").sum()\n",
    "\n",
    "\n",
    "conta_orbite2 = fpga2.groupby(\"ORBIT_CNT\").sum()\n",
    "conta_orbite2\n",
    "\n",
    "#ho messo la funzone sum a caso, ciò che mi interessa è il numero di righe\n"
   ]
  }
 ],
 "metadata": {
  "kernelspec": {
   "display_name": "Python 3",
   "language": "python",
   "name": "python3"
  },
  "language_info": {
   "codemirror_mode": {
    "name": "ipython",
    "version": 3
   },
   "file_extension": ".py",
   "mimetype": "text/x-python",
   "name": "python",
   "nbconvert_exporter": "python",
   "pygments_lexer": "ipython3",
   "version": "3.8.3"
  }
 },
 "nbformat": 4,
 "nbformat_minor": 2
}
