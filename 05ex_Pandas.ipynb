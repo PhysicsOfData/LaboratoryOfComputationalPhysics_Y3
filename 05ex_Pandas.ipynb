{
 "cells": [
  {
   "cell_type": "markdown",
   "metadata": {},
   "source": [
    "## Pandas analysis\n",
    "\n",
    "This exercise consists in analyzing a dataset containg timing information from a series of Time-to-Digital-Converters (TDC) implemented in a couple of FPGAs. Each measurement (i.e. each row of the input file) consists of a flag that specifies the type of message ('HEAD', which in this case is always 1), two addresses of the TDC providing the signal ('FPGA' and 'TDC_CHANNEL'), and the timing information ('ORBIT_CNT', 'BX_COUNTER', and 'TDC_MEAS'). Each TDC count corresponds to 25/30 ns, whereas a unit of BX_COUNTER corresponds to 25 ns, and the ORBIT_CNT is increased every 'x' BX_COUNTER. This allows to store the time in a similar way to hours, minutes and seconds."
   ]
  },
  {
   "cell_type": "code",
   "execution_count": 1,
   "metadata": {},
   "outputs": [
    {
     "name": "stderr",
     "output_type": "stream",
     "text": [
      "'wget' is not recognized as an internal or external command,\n",
      "operable program or batch file.\n"
     ]
    }
   ],
   "source": [
    "# If you didn't download it yet, please get the relevant file now!\n",
    "!wget https://www.dropbox.com/s/xvjzaxzz3ysphme/data_000637.txt -P ~/data/"
   ]
  },
  {
   "cell_type": "markdown",
   "metadata": {},
   "source": [
    "1\\. Create a Pandas DataFrame reading N rows of the 'data_000637.txt' dataset. Choose N to be smaller than or equal to the maximum number of rows and larger that 10k.\n",
    "\n",
    "2\\. Find out the number of BX in a ORBIT (the value 'x').\n",
    "\n",
    "3\\. Find out how much the data taking lasted. You can either make an estimate based on the fraction of the measurements (rows) you read, or perform this check precisely by reading out the whole dataset.\n",
    "\n",
    "4\\. Create a new column with the absolute time in ns (as a combination of the other three columns with timing information).\n",
    "\n",
    "5\\. Replace the values (all 1) of the HEAD column randomly with 0 or 1.\n",
    "\n",
    "6\\. Create a new DataFrame that contains only the rows with HEAD=1.\n",
    "\n",
    "7\\. Make two occupancy plots (one for each FPGA), i.e. plot the number of counts per TDC channel\n",
    "\n",
    "8\\. Use the groupby method to find out the noisy channels, i.e. the TDC channels with most counts (say the top 3)\n",
    "\n",
    "9\\. Count the number of unique orbits. Count the number of unique orbits with at least one measurement from TDC_CHANNEL=139"
   ]
  },
  {
   "cell_type": "code",
   "execution_count": 94,
   "metadata": {},
   "outputs": [
    {
     "name": "stdout",
     "output_type": "stream",
     "text": [
      "x = 3564\n",
      "10692000 ns\n",
      "0.010692 s\n"
     ]
    },
    {
     "data": {
      "image/png": "[encoded data removed]",
      "text/plain": [
       "<Figure size 432x288 with 1 Axes>"
      ]
     },
     "metadata": {
      "needs_background": "light"
     },
     "output_type": "display_data"
    }
   ],
   "source": [
    "import pandas as pd\n",
    "import random\n",
    "import matplotlib.pyplot as plt\n",
    "\n",
    "#1\n",
    "N = 12000 #max = 1310721\n",
    "file_name = \"data_000637.txt\"\n",
    "data=pd.read_csv(file_name,nrows=N,skiprows=range(1,1))\n",
    "#data\n",
    "\n",
    "#2\n",
    "x = data[\"BX_COUNTER\"].max() + 1\n",
    "print(\"x = \"+str(x))\n",
    "\"\"\"\n",
    "max of BX_COUNTER will give the x we are searching for\n",
    "because everytime ORBIT_CNT is incremented BX_COUNTER is reset to 0 \n",
    "SO at MAX_BX_COUNTER + 1 (never really set as a BX_COUNTER because = 0)\n",
    "\"\"\"\n",
    "\n",
    "#3 \n",
    "\"\"\"\n",
    "1 unit of BX_COUNTER is 25 ns\n",
    "each ORBIT_CNT takes BX_COUNTER_MAX+1 (3563) BX_COUNTER \n",
    "so 1 ORBIT_CNT takes BX_COUNTER_MAX * 25ns\n",
    "So we have to find how many ORBIT_CNT was done during data taking \n",
    "then multiply it by x * 25ns\n",
    "\"\"\"\n",
    "maxOrbitNB = data[\"ORBIT_CNT\"].max()\n",
    "minOrbitNB = data[\"ORBIT_CNT\"].min()\n",
    "timeNS = (1 + maxOrbitNB - minOrbitNB) * x * 25\n",
    "print(str(timeNS)+\" ns\")\n",
    "print(str(timeNS*(10**(-9)))+\" s\")\n",
    "\n",
    "#4\n",
    "\"\"\"\n",
    "1 TDC_MEAS = 25/30 ns\n",
    "1 BX_COUNTER = 25 ns\n",
    "1 ORBIT_CNT = x*25\n",
    "so ABSTIME = TDC_MEAS*(25/30)+BX_COUNTER*25+x*25*ORBIT_CNT\n",
    "            = 25 * (TDC_MEAS/30 + BX_COUNTER + x * ORBIT_CNT) \n",
    "\"\"\"\n",
    "data['ABS_TIME']= data.apply(lambda row: 25*((row.TDC_MEAS/30) + row.BX_COUNTER + (x * row.ORBIT_CNT)),axis=1)\n",
    "\n",
    "#5\n",
    "for i in range(0,len(data)):\n",
    "    data.at[data.index[i],'HEAD'] = random.randint(0,1)\n",
    "\n",
    "#6\n",
    "newData = data[data['HEAD']==1].copy()\n",
    "\n",
    "#7\n",
    "\"\"\"\n",
    "FPGA is 1 or 0 \n",
    "nb of counts for each TDC : nb of TDC is in TDC_CHANNEL\n",
    "\"\"\"\n",
    "\n",
    "nbOcc1 = data[data['FPGA']==1]['TDC_CHANNEL'].value_counts()\n",
    "nbOcc0 = data[data['FPGA']==0]['TDC_CHANNEL'].value_counts()\n",
    "Y1 = [0 for i in range(0,141)]\n",
    "Y0 = [0 for i in range(0,141)]\n",
    "for i in nbOcc1.index:\n",
    "    Y1[i]=nbOcc1[i]\n",
    "for i in nbOcc0.index:\n",
    "    Y0[i]=nbOcc0[i]\n",
    "\n",
    "X = [i for i in range(0,141)]\n",
    "fig, ax = plt.subplots()\n",
    "ax.plot(X,Y0,label='Occupancy FPGA 0')\n",
    "ax.plot(X,Y1,label='Occupancy FPGA 1')\n",
    "legend = ax.legend(loc='upper center', shadow=True, fontsize='x-large')\n",
    "plt.show()\n",
    "\n",
    "#8\n"
   ]
  },
  {
   "cell_type": "code",
   "execution_count": null,
   "metadata": {},
   "outputs": [],
   "source": []
  }
 ],
 "metadata": {
  "kernelspec": {
   "display_name": "Python 3",
   "language": "python",
   "name": "python3"
  },
  "language_info": {
   "codemirror_mode": {
    "name": "ipython",
    "version": 3
   },
   "file_extension": ".py",
   "mimetype": "text/x-python",
   "name": "python",
   "nbconvert_exporter": "python",
   "pygments_lexer": "ipython3",
   "version": "3.7.4"
  }
 },
 "nbformat": 4,
 "nbformat_minor": 2
}
