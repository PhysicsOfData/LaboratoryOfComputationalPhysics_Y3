{
 "cells": [
  {
   "cell_type": "markdown",
   "metadata": {},
   "source": [
    "## Pandas analysis\n",
    "\n",
    "This exercise consists in analyzing a dataset containg timing information from a series of Time-to-Digital-Converters (TDC) implemented in a couple of FPGAs. Each measurement (i.e. each row of the input file) consists of a flag that specifies the type of message ('HEAD', which in this case is always 1), two addresses of the TDC providing the signal ('FPGA' and 'TDC_CHANNEL'), and the timing information ('ORBIT_CNT', 'BX_COUNTER', and 'TDC_MEAS'). Each TDC count corresponds to 25/30 ns, whereas a unit of BX_COUNTER corresponds to 25 ns, and the ORBIT_CNT is increased every 'x' BX_COUNTER. This allows to store the time in a similar way to hours, minutes and seconds."
   ]
  },
  {
   "cell_type": "code",
   "execution_count": 39,
   "metadata": {},
   "outputs": [],
   "source": [
    "import pandas as pd\n",
    "import numpy as np\n",
    "import matplotlib.pyplot as plt\n",
    "\n",
    "%matplotlib inline\n",
    "plt.style.use('seaborn')"
   ]
  },
  {
   "cell_type": "code",
   "execution_count": 7,
   "metadata": {},
   "outputs": [],
   "source": [
    "# If you didn't download it yet, please get the relevant file now!\n",
    "#!wget https://www.dropbox.com/s/xvjzaxzz3ysphme/data_000637.txt -P ~/data/\n",
    "\n",
    "file = \"data/data_000637.txt\"\n",
    "df = pd.read_csv(file)"
   ]
  },
  {
   "cell_type": "markdown",
   "metadata": {},
   "source": [
    "1\\. Create a Pandas DataFrame reading N rows of the 'data_000637.txt' dataset. Choose N to be smaller than or equal to the maximum number of rows and larger that 10k.\n",
    "\n",
    "2\\. Find out the number of BX in a ORBIT (the value 'x').\n",
    "\n",
    "3\\. Find out how much the data taking lasted. You can either make an estimate based on the fraction of the measurements (rows) you read, or perform this check precisely by reading out the whole dataset.\n",
    "\n",
    "4\\. Create a new column with the absolute time in ns (as a combination of the other three columns with timing information).\n",
    "\n",
    "5\\. Replace the values (all 1) of the HEAD column randomly with 0 or 1.\n",
    "\n",
    "6\\. Create a new DataFrame that contains only the rows with HEAD=1.\n",
    "\n",
    "7\\. Make two occupancy plots (one for each FPGA), i.e. plot the number of counts per TDC channel\n",
    "\n",
    "8\\. Use the groupby method to find out the noisy channels, i.e. the TDC channels with most counts (say the top 3)\n",
    "\n",
    "9\\. Count the number of unique orbits. Count the number of unique orbits with at least one measurement from TDC_CHANNEL=139"
   ]
  },
  {
   "cell_type": "code",
   "execution_count": 9,
   "metadata": {},
   "outputs": [
    {
     "name": "stdout",
     "output_type": "stream",
     "text": [
      "Data from 0 to 12000: \n",
      "       HEAD  FPGA  TDC_CHANNEL   ORBIT_CNT  BX_COUNTER  TDC_MEAS\n",
      "0         1     0          123  3869200167        2374        26\n",
      "1         1     0          124  3869200167        2374        27\n",
      "2         1     0           63  3869200167        2553        28\n",
      "3         1     0           64  3869200167        2558        19\n",
      "4         1     0           64  3869200167        2760        25\n",
      "...     ...   ...          ...         ...         ...       ...\n",
      "11995     1     0          139  3869200286        3251         0\n",
      "11996     1     0           62  3869200286        3246         4\n",
      "11997     1     0           58  3869200286        3246        11\n",
      "11998     1     0           61  3869200286        3251        17\n",
      "11999     1     0           59  3869200286        3248        16\n",
      "\n",
      "[12000 rows x 6 columns]\n"
     ]
    }
   ],
   "source": [
    "#1\n",
    "\n",
    "N = 12000\n",
    "print(\"Data from 0 to {}: \\n{}\".format(N, df[0:N]))"
   ]
  },
  {
   "cell_type": "code",
   "execution_count": 10,
   "metadata": {},
   "outputs": [
    {
     "name": "stdout",
     "output_type": "stream",
     "text": [
      "The value of BX in an orbit: 3563\n"
     ]
    }
   ],
   "source": [
    "#2\n",
    "x = np.max(df['BX_COUNTER'])\n",
    "print(\"The value of BX in an orbit:\", x)"
   ]
  },
  {
   "cell_type": "code",
   "execution_count": 24,
   "metadata": {},
   "outputs": [
    {
     "name": "stdout",
     "output_type": "stream",
     "text": [
      "out how much the data taking lasted: 980141175 ns\n"
     ]
    }
   ],
   "source": [
    "#3 & 4\n",
    "df['time_ns'] = (df['ORBIT_CNT']*x+df['BX_COUNTER'])*25\n",
    "data_ac = df['time_ns'].max() - df['time_ns'].min()\n",
    "print('out how much the data taking lasted:',data_ac,'ns')"
   ]
  },
  {
   "cell_type": "code",
   "execution_count": 15,
   "metadata": {},
   "outputs": [],
   "source": [
    "#5\n",
    "rhead = np.random.randint(0,2, (df.shape[0], 1))\n",
    "df['HEAD'] = rhead"
   ]
  },
  {
   "cell_type": "code",
   "execution_count": 17,
   "metadata": {},
   "outputs": [
    {
     "name": "stdout",
     "output_type": "stream",
     "text": [
      "    HEAD  FPGA  TDC_CHANNEL   ORBIT_CNT  BX_COUNTER  TDC_MEAS\n",
      "0      1     0          123  3869200167        2374        26\n",
      "6      1     0           61  3869200167        2772        14\n",
      "8      1     0           62  3869200167        2774        21\n",
      "12     1     1            6  3869200167        2792        18\n",
      "14     1     0           56  3869200167        2789         3\n"
     ]
    }
   ],
   "source": [
    "#6\n",
    "d1 = pd.DataFrame(df.loc[df['HEAD'] == 1])\n",
    "print(d1.head())"
   ]
  },
  {
   "cell_type": "code",
   "execution_count": 40,
   "metadata": {},
   "outputs": [
    {
     "name": "stdout",
     "output_type": "stream",
     "text": [
      "TDC channel with FPGA=0:\n"
     ]
    },
    {
     "data": {
      "image/png": "[encoded data removed]",
      "text/plain": [
       "<Figure size 576x396 with 1 Axes>"
      ]
     },
     "metadata": {},
     "output_type": "display_data"
    },
    {
     "name": "stdout",
     "output_type": "stream",
     "text": [
      "TDC channel with FPGA=1:\n"
     ]
    },
    {
     "data": {
      "image/png": "[encoded data removed]",
      "text/plain": [
       "<Figure size 576x396 with 1 Axes>"
      ]
     },
     "metadata": {},
     "output_type": "display_data"
    }
   ],
   "source": [
    "#7 \n",
    "fpga0 = pd.DataFrame(d1.loc[df['FPGA']==0])\n",
    "fpga1 = pd.DataFrame(d1.loc[df['FPGA']==1])\n",
    "\n",
    "#fpga0\n",
    "\n",
    "count0 = fpga0['TDC_CHANNEL'].value_counts()\n",
    "v0 = count0.values\n",
    "k0 = count0.keys()\n",
    "\n",
    "#fpga1\n",
    "count1 = fpga1['TDC_CHANNEL'].value_counts()\n",
    "v1 = count1.values\n",
    "k1 = count1.keys()\n",
    "\n",
    "print(\"TDC channel with FPGA=0:\")\n",
    "plt.scatter(v0,k0, marker = '*')\n",
    "plt.xlabel('TDC_CHANNEL')\n",
    "plt.ylabel('Number of counts')\n",
    "plt.show()\n",
    "\n",
    "print(\"TDC channel with FPGA=1:\")\n",
    "plt.scatter(v1,k1, marker = '^')\n",
    "plt.xlabel('TDC_CHANNEL')\n",
    "plt.ylabel('Number of counts')\n",
    "plt.show()\n"
   ]
  },
  {
   "cell_type": "code",
   "execution_count": 30,
   "metadata": {},
   "outputs": [
    {
     "name": "stdout",
     "output_type": "stream",
     "text": [
      "The most 3 TDC noisy channels: \n",
      " 139    108059\n",
      "64      66020\n",
      "63      64642\n",
      "Name: TDC_CHANNEL, dtype: int64\n"
     ]
    }
   ],
   "source": [
    "#8\n",
    "tdc3 = (df['TDC_CHANNEL'].value_counts()).groupby((df['TDC_CHANNEL'].value_counts())).nlargest(3)\n",
    "print(\"The most 3 TDC noisy channels: \\n\", tdc3[:3])"
   ]
  },
  {
   "cell_type": "code",
   "execution_count": 42,
   "metadata": {},
   "outputs": [
    {
     "name": "stdout",
     "output_type": "stream",
     "text": [
      "Number of unique orbits:  11001\n",
      "Number of unique orbits with TDC_CHANNEL = 139:  10976\n"
     ]
    }
   ],
   "source": [
    "#9\n",
    "print(\"Number of unique orbits: \", df['ORBIT_CNT'].nunique())\n",
    "\n",
    "tdc139 = df.loc[df['TDC_CHANNEL'] == 139, 'ORBIT_CNT']\n",
    "print(\"Number of unique orbits with TDC_CHANNEL = 139: \",tdc139.nunique())"
   ]
  }
 ],
 "metadata": {
  "kernelspec": {
   "display_name": "Python 3",
   "language": "python",
   "name": "python3"
  },
  "language_info": {
   "codemirror_mode": {
    "name": "ipython",
    "version": 3
   },
   "file_extension": ".py",
   "mimetype": "text/x-python",
   "name": "python",
   "nbconvert_exporter": "python",
   "pygments_lexer": "ipython3",
   "version": "3.8.3"
  }
 },
 "nbformat": 4,
 "nbformat_minor": 2
}
