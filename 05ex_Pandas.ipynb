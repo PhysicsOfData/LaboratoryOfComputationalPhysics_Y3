{
 "cells": [
  {
   "cell_type": "markdown",
   "metadata": {},
   "source": [
    "## Pandas analysis\n",
    "\n",
    "This exercise consists in analyzing a dataset containg timing information from a series of Time-to-Digital-Converters (TDC) implemented in a couple of FPGAs. Each measurement (i.e. each row of the input file) consists of a flag that specifies the type of message ('HEAD', which in this case is always 1), two addresses of the TDC providing the signal ('FPGA' and 'TDC_CHANNEL'), and the timing information ('ORBIT_CNT', 'BX_COUNTER', and 'TDC_MEAS'). Each TDC count corresponds to 25/30 ns, whereas a unit of BX_COUNTER corresponds to 25 ns, and the ORBIT_CNT is increased every 'x' BX_COUNTER. This allows to store the time in a similar way to hours, minutes and seconds."
   ]
  },
  {
   "cell_type": "code",
   "execution_count": null,
   "metadata": {},
   "outputs": [],
   "source": [
    "# If you didn't download it yet, please get the relevant file now!\n",
    "!wget https://www.dropbox.com/s/xvjzaxzz3ysphme/data_000637.txt -P ~/data/"
   ]
  },
  {
   "cell_type": "code",
   "execution_count": 1,
   "metadata": {},
   "outputs": [],
   "source": [
    "import pandas as pd\n",
    "import numpy as np\n",
    "import datetime as dt\n",
    "import matplotlib.pyplot as plt"
   ]
  },
  {
   "cell_type": "markdown",
   "metadata": {},
   "source": [
    "1\\. Create a Pandas DataFrame reading N rows of the 'data_000637.txt' dataset. Choose N to be smaller than or equal to the maximum number of rows and larger that 10k."
   ]
  },
  {
   "cell_type": "code",
   "execution_count": 2,
   "metadata": {},
   "outputs": [
    {
     "name": "stdout",
     "output_type": "stream",
     "text": [
      "rows:  761198\n",
      "        HEAD  FPGA  TDC_CHANNEL   ORBIT_CNT  BX_COUNTER  TDC_MEAS\n",
      "0          1     0          123  3869200167        2374        26\n",
      "1          1     0          124  3869200167        2374        27\n",
      "2          1     0           63  3869200167        2553        28\n",
      "3          1     0           64  3869200167        2558        19\n",
      "4          1     0           64  3869200167        2760        25\n",
      "...      ...   ...          ...         ...         ...       ...\n",
      "761193     1     0           61  3869207426        2840        11\n",
      "761194     1     0          123  3869207426        2863        27\n",
      "761195     1     0           61  3869207426        2867         7\n",
      "761196     1     1            2  3869207426        2872        27\n",
      "761197     1     0          124  3869207426        2863        12\n",
      "\n",
      "[761198 rows x 6 columns]\n"
     ]
    }
   ],
   "source": [
    "filename = \"~/data/data_000637.txt\"\n",
    "n_rows = np.random.randint(low=10000, high=1310719)\n",
    "print(\"rows: \", n_rows)\n",
    "data = pd.read_csv(filename, nrows=n_rows)\n",
    "\n",
    "# create dataframe\n",
    "df = pd.DataFrame(data)\n",
    "print(df)"
   ]
  },
  {
   "cell_type": "markdown",
   "metadata": {},
   "source": [
    "2\\. Find out the number of BX in a ORBIT (the value 'x')."
   ]
  },
  {
   "cell_type": "code",
   "execution_count": 3,
   "metadata": {},
   "outputs": [
    {
     "name": "stdout",
     "output_type": "stream",
     "text": [
      "x value:  3564\n"
     ]
    }
   ],
   "source": [
    "x_BX = np.max(data['BX_COUNTER'])+1\n",
    "# the min value is 0 so the difference is equal to the max value\n",
    "print(\"x value: \", x_BX)"
   ]
  },
  {
   "cell_type": "markdown",
   "metadata": {},
   "source": [
    "3\\. Find out how much the data taking lasted. You can either make an estimate based on the fraction of the measurements (rows) you read, or perform this check precisely by reading out the whole dataset."
   ]
  },
  {
   "cell_type": "code",
   "execution_count": 4,
   "metadata": {},
   "outputs": [
    {
     "name": "stdout",
     "output_type": "stream",
     "text": [
      "Estiamted total time in ns:  980416093.3125\n",
      "Estiamted total time in s:  0.9804160933125\n"
     ]
    }
   ],
   "source": [
    "# use the whole dataset\n",
    "data = pd.read_csv(filename)\n",
    "last_index = len(data)-1\n",
    "\n",
    "time_ns = np.array((data['ORBIT_CNT']*(x_BX)*25 + data['BX_COUNTER']*25 + data['TDC_MEAS']*25/30))\n",
    "\n",
    "estimated_time = time_ns[last_index] - time_ns[0]\n",
    "print(\"Estiamted total time in ns: \", estimated_time)\n",
    "print(\"Estiamted total time in s: \", estimated_time*(10**(-9)))"
   ]
  },
  {
   "cell_type": "markdown",
   "metadata": {},
   "source": [
    "4\\. Create a new column with the absolute time in ns (as a combination of the other three columns with timing information)."
   ]
  },
  {
   "cell_type": "code",
   "execution_count": 5,
   "metadata": {},
   "outputs": [
    {
     "data": {
      "text/html": [
       "<div>\n",
       "<style scoped>\n",
       "    .dataframe tbody tr th:only-of-type {\n",
       "        vertical-align: middle;\n",
       "    }\n",
       "\n",
       "    .dataframe tbody tr th {\n",
       "        vertical-align: top;\n",
       "    }\n",
       "\n",
       "    .dataframe thead th {\n",
       "        text-align: right;\n",
       "    }\n",
       "</style>\n",
       "<table border=\"1\" class=\"dataframe\">\n",
       "  <thead>\n",
       "    <tr style=\"text-align: right;\">\n",
       "      <th></th>\n",
       "      <th>HEAD</th>\n",
       "      <th>FPGA</th>\n",
       "      <th>TDC_CHANNEL</th>\n",
       "      <th>ORBIT_CNT</th>\n",
       "      <th>BX_COUNTER</th>\n",
       "      <th>TDC_MEAS</th>\n",
       "      <th>TIME_NS</th>\n",
       "    </tr>\n",
       "  </thead>\n",
       "  <tbody>\n",
       "    <tr>\n",
       "      <th>0</th>\n",
       "      <td>1</td>\n",
       "      <td>0</td>\n",
       "      <td>123</td>\n",
       "      <td>3869200167</td>\n",
       "      <td>2374</td>\n",
       "      <td>26</td>\n",
       "      <td>3.447457e+14</td>\n",
       "    </tr>\n",
       "    <tr>\n",
       "      <th>1</th>\n",
       "      <td>1</td>\n",
       "      <td>0</td>\n",
       "      <td>124</td>\n",
       "      <td>3869200167</td>\n",
       "      <td>2374</td>\n",
       "      <td>27</td>\n",
       "      <td>3.447457e+14</td>\n",
       "    </tr>\n",
       "    <tr>\n",
       "      <th>2</th>\n",
       "      <td>1</td>\n",
       "      <td>0</td>\n",
       "      <td>63</td>\n",
       "      <td>3869200167</td>\n",
       "      <td>2553</td>\n",
       "      <td>28</td>\n",
       "      <td>3.447457e+14</td>\n",
       "    </tr>\n",
       "    <tr>\n",
       "      <th>3</th>\n",
       "      <td>1</td>\n",
       "      <td>0</td>\n",
       "      <td>64</td>\n",
       "      <td>3869200167</td>\n",
       "      <td>2558</td>\n",
       "      <td>19</td>\n",
       "      <td>3.447457e+14</td>\n",
       "    </tr>\n",
       "    <tr>\n",
       "      <th>4</th>\n",
       "      <td>1</td>\n",
       "      <td>0</td>\n",
       "      <td>64</td>\n",
       "      <td>3869200167</td>\n",
       "      <td>2760</td>\n",
       "      <td>25</td>\n",
       "      <td>3.447457e+14</td>\n",
       "    </tr>\n",
       "    <tr>\n",
       "      <th>...</th>\n",
       "      <td>...</td>\n",
       "      <td>...</td>\n",
       "      <td>...</td>\n",
       "      <td>...</td>\n",
       "      <td>...</td>\n",
       "      <td>...</td>\n",
       "      <td>...</td>\n",
       "    </tr>\n",
       "    <tr>\n",
       "      <th>761193</th>\n",
       "      <td>1</td>\n",
       "      <td>0</td>\n",
       "      <td>61</td>\n",
       "      <td>3869207426</td>\n",
       "      <td>2840</td>\n",
       "      <td>11</td>\n",
       "      <td>3.447464e+14</td>\n",
       "    </tr>\n",
       "    <tr>\n",
       "      <th>761194</th>\n",
       "      <td>1</td>\n",
       "      <td>0</td>\n",
       "      <td>123</td>\n",
       "      <td>3869207426</td>\n",
       "      <td>2863</td>\n",
       "      <td>27</td>\n",
       "      <td>3.447464e+14</td>\n",
       "    </tr>\n",
       "    <tr>\n",
       "      <th>761195</th>\n",
       "      <td>1</td>\n",
       "      <td>0</td>\n",
       "      <td>61</td>\n",
       "      <td>3869207426</td>\n",
       "      <td>2867</td>\n",
       "      <td>7</td>\n",
       "      <td>3.447464e+14</td>\n",
       "    </tr>\n",
       "    <tr>\n",
       "      <th>761196</th>\n",
       "      <td>1</td>\n",
       "      <td>1</td>\n",
       "      <td>2</td>\n",
       "      <td>3869207426</td>\n",
       "      <td>2872</td>\n",
       "      <td>27</td>\n",
       "      <td>3.447464e+14</td>\n",
       "    </tr>\n",
       "    <tr>\n",
       "      <th>761197</th>\n",
       "      <td>1</td>\n",
       "      <td>0</td>\n",
       "      <td>124</td>\n",
       "      <td>3869207426</td>\n",
       "      <td>2863</td>\n",
       "      <td>12</td>\n",
       "      <td>3.447464e+14</td>\n",
       "    </tr>\n",
       "  </tbody>\n",
       "</table>\n",
       "<p>761198 rows × 7 columns</p>\n",
       "</div>"
      ],
      "text/plain": [
       "        HEAD  FPGA  TDC_CHANNEL   ORBIT_CNT  BX_COUNTER  TDC_MEAS  \\\n",
       "0          1     0          123  3869200167        2374        26   \n",
       "1          1     0          124  3869200167        2374        27   \n",
       "2          1     0           63  3869200167        2553        28   \n",
       "3          1     0           64  3869200167        2558        19   \n",
       "4          1     0           64  3869200167        2760        25   \n",
       "...      ...   ...          ...         ...         ...       ...   \n",
       "761193     1     0           61  3869207426        2840        11   \n",
       "761194     1     0          123  3869207426        2863        27   \n",
       "761195     1     0           61  3869207426        2867         7   \n",
       "761196     1     1            2  3869207426        2872        27   \n",
       "761197     1     0          124  3869207426        2863        12   \n",
       "\n",
       "             TIME_NS  \n",
       "0       3.447457e+14  \n",
       "1       3.447457e+14  \n",
       "2       3.447457e+14  \n",
       "3       3.447457e+14  \n",
       "4       3.447457e+14  \n",
       "...              ...  \n",
       "761193  3.447464e+14  \n",
       "761194  3.447464e+14  \n",
       "761195  3.447464e+14  \n",
       "761196  3.447464e+14  \n",
       "761197  3.447464e+14  \n",
       "\n",
       "[761198 rows x 7 columns]"
      ]
     },
     "execution_count": 5,
     "metadata": {},
     "output_type": "execute_result"
    }
   ],
   "source": [
    "# now I do the same thing but for the dataframe with less entries\n",
    "time_ns_df = np.array((df['ORBIT_CNT']*(x_BX)*25 + df['BX_COUNTER']*25 + df['TDC_MEAS']*25/30))\n",
    "\n",
    "df['TIME_NS'] = time_ns_df\n",
    "df"
   ]
  },
  {
   "cell_type": "markdown",
   "metadata": {},
   "source": [
    "5\\. Replace the values (all 1) of the HEAD column randomly with 0 or 1."
   ]
  },
  {
   "cell_type": "code",
   "execution_count": 6,
   "metadata": {
    "scrolled": true
   },
   "outputs": [
    {
     "data": {
      "text/html": [
       "<div>\n",
       "<style scoped>\n",
       "    .dataframe tbody tr th:only-of-type {\n",
       "        vertical-align: middle;\n",
       "    }\n",
       "\n",
       "    .dataframe tbody tr th {\n",
       "        vertical-align: top;\n",
       "    }\n",
       "\n",
       "    .dataframe thead th {\n",
       "        text-align: right;\n",
       "    }\n",
       "</style>\n",
       "<table border=\"1\" class=\"dataframe\">\n",
       "  <thead>\n",
       "    <tr style=\"text-align: right;\">\n",
       "      <th></th>\n",
       "      <th>HEAD</th>\n",
       "      <th>FPGA</th>\n",
       "      <th>TDC_CHANNEL</th>\n",
       "      <th>ORBIT_CNT</th>\n",
       "      <th>BX_COUNTER</th>\n",
       "      <th>TDC_MEAS</th>\n",
       "      <th>TIME_NS</th>\n",
       "    </tr>\n",
       "  </thead>\n",
       "  <tbody>\n",
       "    <tr>\n",
       "      <th>0</th>\n",
       "      <td>0</td>\n",
       "      <td>0</td>\n",
       "      <td>123</td>\n",
       "      <td>3869200167</td>\n",
       "      <td>2374</td>\n",
       "      <td>26</td>\n",
       "      <td>3.447457e+14</td>\n",
       "    </tr>\n",
       "    <tr>\n",
       "      <th>1</th>\n",
       "      <td>0</td>\n",
       "      <td>0</td>\n",
       "      <td>124</td>\n",
       "      <td>3869200167</td>\n",
       "      <td>2374</td>\n",
       "      <td>27</td>\n",
       "      <td>3.447457e+14</td>\n",
       "    </tr>\n",
       "    <tr>\n",
       "      <th>2</th>\n",
       "      <td>0</td>\n",
       "      <td>0</td>\n",
       "      <td>63</td>\n",
       "      <td>3869200167</td>\n",
       "      <td>2553</td>\n",
       "      <td>28</td>\n",
       "      <td>3.447457e+14</td>\n",
       "    </tr>\n",
       "    <tr>\n",
       "      <th>3</th>\n",
       "      <td>0</td>\n",
       "      <td>0</td>\n",
       "      <td>64</td>\n",
       "      <td>3869200167</td>\n",
       "      <td>2558</td>\n",
       "      <td>19</td>\n",
       "      <td>3.447457e+14</td>\n",
       "    </tr>\n",
       "    <tr>\n",
       "      <th>4</th>\n",
       "      <td>1</td>\n",
       "      <td>0</td>\n",
       "      <td>64</td>\n",
       "      <td>3869200167</td>\n",
       "      <td>2760</td>\n",
       "      <td>25</td>\n",
       "      <td>3.447457e+14</td>\n",
       "    </tr>\n",
       "    <tr>\n",
       "      <th>...</th>\n",
       "      <td>...</td>\n",
       "      <td>...</td>\n",
       "      <td>...</td>\n",
       "      <td>...</td>\n",
       "      <td>...</td>\n",
       "      <td>...</td>\n",
       "      <td>...</td>\n",
       "    </tr>\n",
       "    <tr>\n",
       "      <th>761193</th>\n",
       "      <td>0</td>\n",
       "      <td>0</td>\n",
       "      <td>61</td>\n",
       "      <td>3869207426</td>\n",
       "      <td>2840</td>\n",
       "      <td>11</td>\n",
       "      <td>3.447464e+14</td>\n",
       "    </tr>\n",
       "    <tr>\n",
       "      <th>761194</th>\n",
       "      <td>1</td>\n",
       "      <td>0</td>\n",
       "      <td>123</td>\n",
       "      <td>3869207426</td>\n",
       "      <td>2863</td>\n",
       "      <td>27</td>\n",
       "      <td>3.447464e+14</td>\n",
       "    </tr>\n",
       "    <tr>\n",
       "      <th>761195</th>\n",
       "      <td>1</td>\n",
       "      <td>0</td>\n",
       "      <td>61</td>\n",
       "      <td>3869207426</td>\n",
       "      <td>2867</td>\n",
       "      <td>7</td>\n",
       "      <td>3.447464e+14</td>\n",
       "    </tr>\n",
       "    <tr>\n",
       "      <th>761196</th>\n",
       "      <td>1</td>\n",
       "      <td>1</td>\n",
       "      <td>2</td>\n",
       "      <td>3869207426</td>\n",
       "      <td>2872</td>\n",
       "      <td>27</td>\n",
       "      <td>3.447464e+14</td>\n",
       "    </tr>\n",
       "    <tr>\n",
       "      <th>761197</th>\n",
       "      <td>1</td>\n",
       "      <td>0</td>\n",
       "      <td>124</td>\n",
       "      <td>3869207426</td>\n",
       "      <td>2863</td>\n",
       "      <td>12</td>\n",
       "      <td>3.447464e+14</td>\n",
       "    </tr>\n",
       "  </tbody>\n",
       "</table>\n",
       "<p>761198 rows × 7 columns</p>\n",
       "</div>"
      ],
      "text/plain": [
       "        HEAD  FPGA  TDC_CHANNEL   ORBIT_CNT  BX_COUNTER  TDC_MEAS  \\\n",
       "0          0     0          123  3869200167        2374        26   \n",
       "1          0     0          124  3869200167        2374        27   \n",
       "2          0     0           63  3869200167        2553        28   \n",
       "3          0     0           64  3869200167        2558        19   \n",
       "4          1     0           64  3869200167        2760        25   \n",
       "...      ...   ...          ...         ...         ...       ...   \n",
       "761193     0     0           61  3869207426        2840        11   \n",
       "761194     1     0          123  3869207426        2863        27   \n",
       "761195     1     0           61  3869207426        2867         7   \n",
       "761196     1     1            2  3869207426        2872        27   \n",
       "761197     1     0          124  3869207426        2863        12   \n",
       "\n",
       "             TIME_NS  \n",
       "0       3.447457e+14  \n",
       "1       3.447457e+14  \n",
       "2       3.447457e+14  \n",
       "3       3.447457e+14  \n",
       "4       3.447457e+14  \n",
       "...              ...  \n",
       "761193  3.447464e+14  \n",
       "761194  3.447464e+14  \n",
       "761195  3.447464e+14  \n",
       "761196  3.447464e+14  \n",
       "761197  3.447464e+14  \n",
       "\n",
       "[761198 rows x 7 columns]"
      ]
     },
     "execution_count": 6,
     "metadata": {},
     "output_type": "execute_result"
    }
   ],
   "source": [
    "df['HEAD'] = np.random.randint(0, 2, df.shape[0])\n",
    "df"
   ]
  },
  {
   "cell_type": "code",
   "execution_count": 7,
   "metadata": {},
   "outputs": [
    {
     "data": {
      "text/plain": [
       "0    381226\n",
       "1    379972\n",
       "Name: HEAD, dtype: int64"
      ]
     },
     "execution_count": 7,
     "metadata": {},
     "output_type": "execute_result"
    }
   ],
   "source": [
    "df['HEAD'].value_counts()"
   ]
  },
  {
   "cell_type": "markdown",
   "metadata": {},
   "source": [
    "6\\. Create a new DataFrame that contains only the rows with HEAD=1."
   ]
  },
  {
   "cell_type": "code",
   "execution_count": 8,
   "metadata": {},
   "outputs": [
    {
     "data": {
      "text/html": [
       "<div>\n",
       "<style scoped>\n",
       "    .dataframe tbody tr th:only-of-type {\n",
       "        vertical-align: middle;\n",
       "    }\n",
       "\n",
       "    .dataframe tbody tr th {\n",
       "        vertical-align: top;\n",
       "    }\n",
       "\n",
       "    .dataframe thead th {\n",
       "        text-align: right;\n",
       "    }\n",
       "</style>\n",
       "<table border=\"1\" class=\"dataframe\">\n",
       "  <thead>\n",
       "    <tr style=\"text-align: right;\">\n",
       "      <th></th>\n",
       "      <th>HEAD</th>\n",
       "      <th>FPGA</th>\n",
       "      <th>TDC_CHANNEL</th>\n",
       "      <th>ORBIT_CNT</th>\n",
       "      <th>BX_COUNTER</th>\n",
       "      <th>TDC_MEAS</th>\n",
       "      <th>TIME_NS</th>\n",
       "    </tr>\n",
       "  </thead>\n",
       "  <tbody>\n",
       "    <tr>\n",
       "      <th>4</th>\n",
       "      <td>1</td>\n",
       "      <td>0</td>\n",
       "      <td>64</td>\n",
       "      <td>3869200167</td>\n",
       "      <td>2760</td>\n",
       "      <td>25</td>\n",
       "      <td>3.447457e+14</td>\n",
       "    </tr>\n",
       "    <tr>\n",
       "      <th>5</th>\n",
       "      <td>1</td>\n",
       "      <td>0</td>\n",
       "      <td>63</td>\n",
       "      <td>3869200167</td>\n",
       "      <td>2762</td>\n",
       "      <td>4</td>\n",
       "      <td>3.447457e+14</td>\n",
       "    </tr>\n",
       "    <tr>\n",
       "      <th>6</th>\n",
       "      <td>1</td>\n",
       "      <td>0</td>\n",
       "      <td>61</td>\n",
       "      <td>3869200167</td>\n",
       "      <td>2772</td>\n",
       "      <td>14</td>\n",
       "      <td>3.447457e+14</td>\n",
       "    </tr>\n",
       "    <tr>\n",
       "      <th>10</th>\n",
       "      <td>1</td>\n",
       "      <td>1</td>\n",
       "      <td>7</td>\n",
       "      <td>3869200167</td>\n",
       "      <td>2785</td>\n",
       "      <td>4</td>\n",
       "      <td>3.447457e+14</td>\n",
       "    </tr>\n",
       "    <tr>\n",
       "      <th>11</th>\n",
       "      <td>1</td>\n",
       "      <td>0</td>\n",
       "      <td>64</td>\n",
       "      <td>3869200167</td>\n",
       "      <td>2786</td>\n",
       "      <td>19</td>\n",
       "      <td>3.447457e+14</td>\n",
       "    </tr>\n",
       "    <tr>\n",
       "      <th>...</th>\n",
       "      <td>...</td>\n",
       "      <td>...</td>\n",
       "      <td>...</td>\n",
       "      <td>...</td>\n",
       "      <td>...</td>\n",
       "      <td>...</td>\n",
       "      <td>...</td>\n",
       "    </tr>\n",
       "    <tr>\n",
       "      <th>761192</th>\n",
       "      <td>1</td>\n",
       "      <td>0</td>\n",
       "      <td>62</td>\n",
       "      <td>3869207426</td>\n",
       "      <td>2836</td>\n",
       "      <td>22</td>\n",
       "      <td>3.447464e+14</td>\n",
       "    </tr>\n",
       "    <tr>\n",
       "      <th>761194</th>\n",
       "      <td>1</td>\n",
       "      <td>0</td>\n",
       "      <td>123</td>\n",
       "      <td>3869207426</td>\n",
       "      <td>2863</td>\n",
       "      <td>27</td>\n",
       "      <td>3.447464e+14</td>\n",
       "    </tr>\n",
       "    <tr>\n",
       "      <th>761195</th>\n",
       "      <td>1</td>\n",
       "      <td>0</td>\n",
       "      <td>61</td>\n",
       "      <td>3869207426</td>\n",
       "      <td>2867</td>\n",
       "      <td>7</td>\n",
       "      <td>3.447464e+14</td>\n",
       "    </tr>\n",
       "    <tr>\n",
       "      <th>761196</th>\n",
       "      <td>1</td>\n",
       "      <td>1</td>\n",
       "      <td>2</td>\n",
       "      <td>3869207426</td>\n",
       "      <td>2872</td>\n",
       "      <td>27</td>\n",
       "      <td>3.447464e+14</td>\n",
       "    </tr>\n",
       "    <tr>\n",
       "      <th>761197</th>\n",
       "      <td>1</td>\n",
       "      <td>0</td>\n",
       "      <td>124</td>\n",
       "      <td>3869207426</td>\n",
       "      <td>2863</td>\n",
       "      <td>12</td>\n",
       "      <td>3.447464e+14</td>\n",
       "    </tr>\n",
       "  </tbody>\n",
       "</table>\n",
       "<p>379972 rows × 7 columns</p>\n",
       "</div>"
      ],
      "text/plain": [
       "        HEAD  FPGA  TDC_CHANNEL   ORBIT_CNT  BX_COUNTER  TDC_MEAS  \\\n",
       "4          1     0           64  3869200167        2760        25   \n",
       "5          1     0           63  3869200167        2762         4   \n",
       "6          1     0           61  3869200167        2772        14   \n",
       "10         1     1            7  3869200167        2785         4   \n",
       "11         1     0           64  3869200167        2786        19   \n",
       "...      ...   ...          ...         ...         ...       ...   \n",
       "761192     1     0           62  3869207426        2836        22   \n",
       "761194     1     0          123  3869207426        2863        27   \n",
       "761195     1     0           61  3869207426        2867         7   \n",
       "761196     1     1            2  3869207426        2872        27   \n",
       "761197     1     0          124  3869207426        2863        12   \n",
       "\n",
       "             TIME_NS  \n",
       "4       3.447457e+14  \n",
       "5       3.447457e+14  \n",
       "6       3.447457e+14  \n",
       "10      3.447457e+14  \n",
       "11      3.447457e+14  \n",
       "...              ...  \n",
       "761192  3.447464e+14  \n",
       "761194  3.447464e+14  \n",
       "761195  3.447464e+14  \n",
       "761196  3.447464e+14  \n",
       "761197  3.447464e+14  \n",
       "\n",
       "[379972 rows x 7 columns]"
      ]
     },
     "execution_count": 8,
     "metadata": {},
     "output_type": "execute_result"
    }
   ],
   "source": [
    "df1 = df.copy()\n",
    "df1 = df1[df1['HEAD'] > 0]\n",
    "df1"
   ]
  },
  {
   "cell_type": "code",
   "execution_count": 9,
   "metadata": {},
   "outputs": [
    {
     "name": "stdout",
     "output_type": "stream",
     "text": [
      "Should be the total number of rows less the ones with a 0 on HEAD\n",
      "Correct value:  True\n"
     ]
    }
   ],
   "source": [
    "print(\"Should be the total number of rows less the ones with a 0 on HEAD\")\n",
    "print(\"Correct value: \", len(df)-len(df1)== df['HEAD'].value_counts()[0])"
   ]
  },
  {
   "cell_type": "markdown",
   "metadata": {},
   "source": [
    "7\\. Make two occupancy plots (one for each FPGA), i.e. plot the number of counts per TDC channel"
   ]
  },
  {
   "cell_type": "code",
   "execution_count": 10,
   "metadata": {},
   "outputs": [
    {
     "data": {
      "text/plain": [
       "(array([3.5300e+04, 1.2738e+04, 1.5252e+04, 8.6090e+03, 1.1044e+04,\n",
       "        8.0030e+03, 1.0436e+04, 5.4000e+01, 7.5200e+03, 5.3130e+03,\n",
       "        7.4310e+03, 3.5970e+03, 4.8500e+03, 3.1990e+03, 4.7920e+03,\n",
       "        2.0540e+03, 3.0600e+03, 2.0180e+03, 3.3310e+03, 1.3530e+03,\n",
       "        2.0950e+03, 1.4520e+03, 2.5740e+03, 1.0400e+03, 1.6290e+03,\n",
       "        1.0510e+03, 2.7020e+03, 1.2350e+03, 8.5900e+02, 1.6810e+03,\n",
       "        6.7700e+02, 1.0810e+03, 7.8500e+02, 1.4720e+03, 5.4600e+02,\n",
       "        9.0200e+02, 6.0800e+02, 1.2230e+03, 4.7500e+02, 7.9200e+02,\n",
       "        5.4200e+02, 1.0430e+03, 3.9200e+02, 6.8700e+02, 5.1500e+02,\n",
       "        9.7600e+02, 4.1600e+02, 6.2500e+02, 4.7300e+02, 8.8400e+02,\n",
       "        4.6200e+02, 6.2200e+02, 4.8100e+02, 1.2430e+03, 6.0300e+02,\n",
       "        5.0500e+02, 8.7100e+02, 4.5500e+02, 6.3600e+02, 5.5300e+02,\n",
       "        8.4900e+02, 4.3100e+02, 3.3900e+02, 2.8100e+02, 3.2600e+02,\n",
       "        2.5300e+02, 1.9200e+02, 1.8000e+02, 1.9000e+02, 1.7600e+02,\n",
       "        1.3900e+02, 1.0300e+02, 1.1200e+02, 1.3000e+02, 8.8000e+01,\n",
       "        8.4000e+01, 9.3000e+01, 1.5500e+02, 7.2000e+01, 1.6700e+02,\n",
       "        1.3000e+02, 8.7000e+01, 8.8000e+01, 9.5000e+01, 1.1700e+02,\n",
       "        9.5000e+01, 9.5000e+01, 9.2000e+01, 1.5900e+02, 1.1300e+02,\n",
       "        1.4400e+02, 1.4300e+02, 2.0800e+02, 1.9900e+02, 2.5900e+02,\n",
       "        3.2600e+02, 3.2600e+02, 3.4500e+02, 3.8100e+02, 3.9900e+02,\n",
       "        4.4700e+02, 4.0900e+02, 4.1900e+02, 4.7600e+02, 4.4200e+02,\n",
       "        4.6900e+02, 8.9500e+02, 4.2100e+02, 4.2500e+02, 4.1400e+02,\n",
       "        4.4300e+02, 3.8800e+02, 3.9300e+02, 3.7100e+02, 4.0100e+02,\n",
       "        3.6100e+02, 3.6700e+02, 3.2900e+02, 0.0000e+00, 3.6000e+02,\n",
       "        3.5100e+02, 7.2800e+02, 7.9800e+02, 2.0000e+01, 2.3000e+01,\n",
       "        0.0000e+00, 0.0000e+00, 0.0000e+00, 0.0000e+00, 0.0000e+00,\n",
       "        0.0000e+00, 2.1000e+01, 1.8890e+04]),\n",
       " array([  1.        ,   2.03759398,   3.07518797,   4.11278195,\n",
       "          5.15037594,   6.18796992,   7.22556391,   8.26315789,\n",
       "          9.30075188,  10.33834586,  11.37593985,  12.41353383,\n",
       "         13.45112782,  14.4887218 ,  15.52631579,  16.56390977,\n",
       "         17.60150376,  18.63909774,  19.67669173,  20.71428571,\n",
       "         21.7518797 ,  22.78947368,  23.82706767,  24.86466165,\n",
       "         25.90225564,  26.93984962,  27.97744361,  29.01503759,\n",
       "         30.05263158,  31.09022556,  32.12781955,  33.16541353,\n",
       "         34.20300752,  35.2406015 ,  36.27819549,  37.31578947,\n",
       "         38.35338346,  39.39097744,  40.42857143,  41.46616541,\n",
       "         42.5037594 ,  43.54135338,  44.57894737,  45.61654135,\n",
       "         46.65413534,  47.69172932,  48.72932331,  49.76691729,\n",
       "         50.80451128,  51.84210526,  52.87969925,  53.91729323,\n",
       "         54.95488722,  55.9924812 ,  57.03007519,  58.06766917,\n",
       "         59.10526316,  60.14285714,  61.18045113,  62.21804511,\n",
       "         63.2556391 ,  64.29323308,  65.33082707,  66.36842105,\n",
       "         67.40601504,  68.44360902,  69.48120301,  70.51879699,\n",
       "         71.55639098,  72.59398496,  73.63157895,  74.66917293,\n",
       "         75.70676692,  76.7443609 ,  77.78195489,  78.81954887,\n",
       "         79.85714286,  80.89473684,  81.93233083,  82.96992481,\n",
       "         84.0075188 ,  85.04511278,  86.08270677,  87.12030075,\n",
       "         88.15789474,  89.19548872,  90.23308271,  91.27067669,\n",
       "         92.30827068,  93.34586466,  94.38345865,  95.42105263,\n",
       "         96.45864662,  97.4962406 ,  98.53383459,  99.57142857,\n",
       "        100.60902256, 101.64661654, 102.68421053, 103.72180451,\n",
       "        104.7593985 , 105.79699248, 106.83458647, 107.87218045,\n",
       "        108.90977444, 109.94736842, 110.98496241, 112.02255639,\n",
       "        113.06015038, 114.09774436, 115.13533835, 116.17293233,\n",
       "        117.21052632, 118.2481203 , 119.28571429, 120.32330827,\n",
       "        121.36090226, 122.39849624, 123.43609023, 124.47368421,\n",
       "        125.5112782 , 126.54887218, 127.58646617, 128.62406015,\n",
       "        129.66165414, 130.69924812, 131.73684211, 132.77443609,\n",
       "        133.81203008, 134.84962406, 135.88721805, 136.92481203,\n",
       "        137.96240602, 139.        ]),\n",
       " <a list of 133 Patch objects>)"
      ]
     },
     "execution_count": 10,
     "metadata": {},
     "output_type": "execute_result"
    },
    {
     "data": {
      "image/png": "[encoded data removed]",
      "text/plain": [
       "<Figure size 432x288 with 1 Axes>"
      ]
     },
     "metadata": {
      "needs_background": "light"
     },
     "output_type": "display_data"
    },
    {
     "data": {
      "image/png": "[encoded data removed]",
      "text/plain": [
       "<Figure size 432x288 with 1 Axes>"
      ]
     },
     "metadata": {
      "needs_background": "light"
     },
     "output_type": "display_data"
    }
   ],
   "source": [
    "# take the entries with fpga = 0 and the ones = 1\n",
    "fpga_0 = df[df['FPGA']==0]\n",
    "fpga_1 = df[df['FPGA']==1]\n",
    "\n",
    "n_channels = len(np.unique(data['TDC_CHANNEL'])) # total number of channel in order to divide the histograms\n",
    "\n",
    "# plot the data for fpga = 0\n",
    "plt.figure(1)\n",
    "plt.hist(fpga_0['TDC_CHANNEL'], bins=n_channels)\n",
    "\n",
    "# plot the data for fpga = 1\n",
    "plt.figure(2)\n",
    "plt.hist(fpga_1['TDC_CHANNEL'], bins=n_channels)"
   ]
  },
  {
   "cell_type": "markdown",
   "metadata": {},
   "source": [
    "8\\. Use the groupby method to find out the noisy channels, i.e. the TDC channels with most counts (say the top 3)"
   ]
  },
  {
   "cell_type": "code",
   "execution_count": 11,
   "metadata": {},
   "outputs": [
    {
     "data": {
      "text/plain": [
       "TDC_CHANNEL\n",
       "139    63081\n",
       "64     38206\n",
       "63     37503\n",
       "Name: FPGA, dtype: int64"
      ]
     },
     "execution_count": 11,
     "metadata": {},
     "output_type": "execute_result"
    }
   ],
   "source": [
    "tmp = df.groupby('TDC_CHANNEL').count()['FPGA']  # count on fpga\n",
    "tmp.nlargest(3)  # take the top three largest values"
   ]
  },
  {
   "cell_type": "markdown",
   "metadata": {},
   "source": [
    "9\\. Count the number of unique orbits. Count the number of unique orbits with at least one measurement from TDC_CHANNEL=139"
   ]
  },
  {
   "cell_type": "code",
   "execution_count": 12,
   "metadata": {},
   "outputs": [
    {
     "name": "stdout",
     "output_type": "stream",
     "text": [
      "Number of unique orbit values: 7256\n",
      "Number of unique orbit values for channel 139: 7231\n"
     ]
    }
   ],
   "source": [
    "unique_orbits = np.unique(df['ORBIT_CNT'])\n",
    "print(\"Number of unique orbit values:\", len(unique_orbits))\n",
    "\n",
    "unique_orbits_139 = np.unique(df[df['TDC_CHANNEL']==139]['ORBIT_CNT'])\n",
    "#tmp = df[df['TDC_CHANNEL']==139]\n",
    "#tmp\n",
    "print(\"Number of unique orbit values for channel 139:\",len(unique_orbits_139))"
   ]
  }
 ],
 "metadata": {
  "kernelspec": {
   "display_name": "HLP",
   "language": "python",
   "name": "hlp"
  },
  "language_info": {
   "codemirror_mode": {
    "name": "ipython",
    "version": 3
   },
   "file_extension": ".py",
   "mimetype": "text/x-python",
   "name": "python",
   "nbconvert_exporter": "python",
   "pygments_lexer": "ipython3",
   "version": "3.7.6"
  }
 },
 "nbformat": 4,
 "nbformat_minor": 4
}
