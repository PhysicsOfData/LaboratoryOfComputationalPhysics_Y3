{
 "cells": [
  {
   "cell_type": "markdown",
   "metadata": {},
   "source": [
    "## Pandas analysis\n",
    "\n",
    "This exercise consists in analyzing a dataset containg timing information from a series of Time-to-Digital-Converters (TDC) implemented in a couple of FPGAs. Each measurement (i.e. each row of the input file) consists of a flag that specifies the type of message ('HEAD', which in this case is always 1), two addresses of the TDC providing the signal ('FPGA' and 'TDC_CHANNEL'), and the timing information ('ORBIT_CNT', 'BX_COUNTER', and 'TDC_MEAS'). Each TDC count corresponds to 25/30 ns, whereas a unit of BX_COUNTER corresponds to 25 ns, and the ORBIT_CNT is increased every 'x' BX_COUNTER. This allows to store the time in a similar way to hours, minutes and seconds."
   ]
  },
  {
   "cell_type": "code",
   "execution_count": 1,
   "metadata": {},
   "outputs": [],
   "source": [
    "import pandas\n",
    "import numpy\n",
    "import matplotlib.pyplot as plt\n",
    "numpy.random.seed(2012265)"
   ]
  },
  {
   "cell_type": "code",
   "execution_count": 2,
   "metadata": {},
   "outputs": [
    {
     "name": "stdout",
     "output_type": "stream",
     "text": [
      "--2020-11-17 15:59:26--  https://www.dropbox.com/s/xvjzaxzz3ysphme/data_000637.txt\n",
      "Risoluzione di www.dropbox.com (www.dropbox.com)... 162.125.69.1, 2620:100:6025:1::a27d:4501\n",
      "Connessione a www.dropbox.com (www.dropbox.com)|162.125.69.1|:443... connesso.\n",
      "Richiesta HTTP inviata, in attesa di risposta... 301 Moved Permanently\n",
      "Posizione: /s/raw/xvjzaxzz3ysphme/data_000637.txt [segue]\n",
      "--2020-11-17 15:59:26--  https://www.dropbox.com/s/raw/xvjzaxzz3ysphme/data_000637.txt\n",
      "Riutilizzo della connessione esistente a www.dropbox.com:443.\n",
      "Richiesta HTTP inviata, in attesa di risposta... 302 Found\n",
      "Posizione: https://uc9a0ad3e23f784a8221b88da912.dl.dropboxusercontent.com/cd/0/inline/BDUCxkdvzurgy90k_AvxE2mS-cJArkh9k835JAhyagy2iT41E8mKoIu2d06byJz1uUBwH21hTZbDsgV4SMfIWtPvAg5aK2AmElpbtPe9zM0rJNiQBTqCU9xkcAugj1jHEbE/file# [segue]\n",
      "--2020-11-17 15:59:27--  https://uc9a0ad3e23f784a8221b88da912.dl.dropboxusercontent.com/cd/0/inline/BDUCxkdvzurgy90k_AvxE2mS-cJArkh9k835JAhyagy2iT41E8mKoIu2d06byJz1uUBwH21hTZbDsgV4SMfIWtPvAg5aK2AmElpbtPe9zM0rJNiQBTqCU9xkcAugj1jHEbE/file\n",
      "Risoluzione di uc9a0ad3e23f784a8221b88da912.dl.dropboxusercontent.com (uc9a0ad3e23f784a8221b88da912.dl.dropboxusercontent.com)... 162.125.69.15, 2620:100:6025:15::a27d:450f\n",
      "Connessione a uc9a0ad3e23f784a8221b88da912.dl.dropboxusercontent.com (uc9a0ad3e23f784a8221b88da912.dl.dropboxusercontent.com)|162.125.69.15|:443... connesso.\n",
      "Richiesta HTTP inviata, in attesa di risposta... 200 OK\n",
      "Lunghezza: 33179236 (32M) [text/plain]\n",
      "Salvataggio in: \"./data/data_000637.txt\"\n",
      "\n",
      "data_000637.txt     100%[===================>]  31,64M  7,07MB/s    in 4,5s    \n",
      "\n",
      "2020-11-17 15:59:32 (6,96 MB/s) - \"./data/data_000637.txt\" salvato [33179236/33179236]\n",
      "\n"
     ]
    }
   ],
   "source": [
    "# If you didn't download it yet, please get the relevant file now!\n",
    "!wget https://www.dropbox.com/s/xvjzaxzz3ysphme/data_000637.txt -P ./data/"
   ]
  },
  {
   "cell_type": "markdown",
   "metadata": {},
   "source": [
    "1\\. Create a Pandas DataFrame reading N rows of the 'data_000637.txt' dataset. Choose N to be smaller than or equal to the maximum number of rows and larger that 10k."
   ]
  },
  {
   "cell_type": "code",
   "execution_count": 3,
   "metadata": {},
   "outputs": [
    {
     "data": {
      "text/html": [
       "<div>\n",
       "<style scoped>\n",
       "    .dataframe tbody tr th:only-of-type {\n",
       "        vertical-align: middle;\n",
       "    }\n",
       "\n",
       "    .dataframe tbody tr th {\n",
       "        vertical-align: top;\n",
       "    }\n",
       "\n",
       "    .dataframe thead th {\n",
       "        text-align: right;\n",
       "    }\n",
       "</style>\n",
       "<table border=\"1\" class=\"dataframe\">\n",
       "  <thead>\n",
       "    <tr style=\"text-align: right;\">\n",
       "      <th></th>\n",
       "      <th></th>\n",
       "      <th>HEAD</th>\n",
       "      <th>ORBIT_CNT</th>\n",
       "      <th>BX_COUNTER</th>\n",
       "      <th>TDC_MEAS</th>\n",
       "    </tr>\n",
       "    <tr>\n",
       "      <th>FPGA</th>\n",
       "      <th>TDC_CHANNEL</th>\n",
       "      <th></th>\n",
       "      <th></th>\n",
       "      <th></th>\n",
       "      <th></th>\n",
       "    </tr>\n",
       "  </thead>\n",
       "  <tbody>\n",
       "    <tr>\n",
       "      <th rowspan=\"5\" valign=\"top\">0</th>\n",
       "      <th>1</th>\n",
       "      <td>1</td>\n",
       "      <td>3869209693</td>\n",
       "      <td>179</td>\n",
       "      <td>0</td>\n",
       "    </tr>\n",
       "    <tr>\n",
       "      <th>1</th>\n",
       "      <td>1</td>\n",
       "      <td>3869200678</td>\n",
       "      <td>227</td>\n",
       "      <td>0</td>\n",
       "    </tr>\n",
       "    <tr>\n",
       "      <th>1</th>\n",
       "      <td>1</td>\n",
       "      <td>3869203991</td>\n",
       "      <td>239</td>\n",
       "      <td>0</td>\n",
       "    </tr>\n",
       "    <tr>\n",
       "      <th>1</th>\n",
       "      <td>1</td>\n",
       "      <td>3869204538</td>\n",
       "      <td>259</td>\n",
       "      <td>0</td>\n",
       "    </tr>\n",
       "    <tr>\n",
       "      <th>1</th>\n",
       "      <td>1</td>\n",
       "      <td>3869207842</td>\n",
       "      <td>278</td>\n",
       "      <td>0</td>\n",
       "    </tr>\n",
       "    <tr>\n",
       "      <th>...</th>\n",
       "      <th>...</th>\n",
       "      <td>...</td>\n",
       "      <td>...</td>\n",
       "      <td>...</td>\n",
       "      <td>...</td>\n",
       "    </tr>\n",
       "    <tr>\n",
       "      <th rowspan=\"5\" valign=\"top\">1</th>\n",
       "      <th>139</th>\n",
       "      <td>1</td>\n",
       "      <td>3869203943</td>\n",
       "      <td>3563</td>\n",
       "      <td>0</td>\n",
       "    </tr>\n",
       "    <tr>\n",
       "      <th>139</th>\n",
       "      <td>1</td>\n",
       "      <td>3869205490</td>\n",
       "      <td>3563</td>\n",
       "      <td>0</td>\n",
       "    </tr>\n",
       "    <tr>\n",
       "      <th>139</th>\n",
       "      <td>1</td>\n",
       "      <td>3869208783</td>\n",
       "      <td>3563</td>\n",
       "      <td>0</td>\n",
       "    </tr>\n",
       "    <tr>\n",
       "      <th>139</th>\n",
       "      <td>1</td>\n",
       "      <td>3869210274</td>\n",
       "      <td>3563</td>\n",
       "      <td>0</td>\n",
       "    </tr>\n",
       "    <tr>\n",
       "      <th>139</th>\n",
       "      <td>1</td>\n",
       "      <td>3869210760</td>\n",
       "      <td>3563</td>\n",
       "      <td>0</td>\n",
       "    </tr>\n",
       "  </tbody>\n",
       "</table>\n",
       "<p>1310720 rows × 4 columns</p>\n",
       "</div>"
      ],
      "text/plain": [
       "                  HEAD   ORBIT_CNT  BX_COUNTER  TDC_MEAS\n",
       "FPGA TDC_CHANNEL                                        \n",
       "0    1               1  3869209693         179         0\n",
       "     1               1  3869200678         227         0\n",
       "     1               1  3869203991         239         0\n",
       "     1               1  3869204538         259         0\n",
       "     1               1  3869207842         278         0\n",
       "...                ...         ...         ...       ...\n",
       "1    139             1  3869203943        3563         0\n",
       "     139             1  3869205490        3563         0\n",
       "     139             1  3869208783        3563         0\n",
       "     139             1  3869210274        3563         0\n",
       "     139             1  3869210760        3563         0\n",
       "\n",
       "[1310720 rows x 4 columns]"
      ]
     },
     "execution_count": 3,
     "metadata": {},
     "output_type": "execute_result"
    }
   ],
   "source": [
    "source_file = \"./data/data_000637.txt\"\n",
    "lines = open(source_file)\n",
    "N = min(len(list(lines)), 100000)\n",
    "lines.close()\n",
    "\n",
    "data = pandas.read_csv(source_file, header=0)#alternatively:#, nrows=N)\n",
    "\n",
    "data.set_index(['FPGA', 'TDC_CHANNEL'], inplace=True)\n",
    "data.sort_values(['TDC_MEAS','BX_COUNTER','ORBIT_CNT'], inplace=True)\n",
    "data.sort_index(inplace=True)\n",
    "\n",
    "data"
   ]
  },
  {
   "cell_type": "markdown",
   "metadata": {},
   "source": [
    "2\\. Find out the number of BX in a ORBIT (the value 'x')."
   ]
  },
  {
   "cell_type": "code",
   "execution_count": 4,
   "metadata": {},
   "outputs": [
    {
     "name": "stdout",
     "output_type": "stream",
     "text": [
      "As far as we know, the number of BX_COUNTERS in one TDC_MEAS is at least: 3564\n",
      "The number could be higher than this, but we have no evidence of BX_COUNTER >= 3564\n"
     ]
    }
   ],
   "source": [
    "X = data['BX_COUNTER'].max() + 1\n",
    "print(f\"As far as we know, the number of BX_COUNTERS in one TDC_MEAS is at least: {X}\")\n",
    "print(\"The number could be higher than this, but we have no evidence of BX_COUNTER >= 3564\")"
   ]
  },
  {
   "cell_type": "markdown",
   "metadata": {},
   "source": [
    "3\\. Find out how much the data taking lasted. You can either make an estimate based on the fraction of the measurements (rows) you read, or perform this check precisely by reading out the whole dataset."
   ]
  },
  {
   "cell_type": "code",
   "execution_count": 5,
   "metadata": {},
   "outputs": [
    {
     "name": "stdout",
     "output_type": "stream",
     "text": [
      "We estimate that these data have been collected for 2.6817808333330153ms\n",
      "We will check more precisely in the next answer, by reading the whole dataset\n"
     ]
    }
   ],
   "source": [
    "time = data.loc[slice(None),'ORBIT_CNT':'TDC_MEAS']\n",
    "time_max_TDC = time[time['TDC_MEAS'] == time['TDC_MEAS'].max()]\n",
    "time_max_BX = time_max_TDC[time_max_TDC['BX_COUNTER'] == time_max_TDC['BX_COUNTER'].max()]\n",
    "time_max_ORBIT = time_max_BX[time_max_BX['ORBIT_CNT'] == time_max_BX['ORBIT_CNT'].max()]\n",
    "time_min_TDC = time[time['TDC_MEAS'] == time['TDC_MEAS'].min()]\n",
    "time_min_BX = time_min_TDC[time_min_TDC['BX_COUNTER'] == time_min_TDC['BX_COUNTER'].min()]\n",
    "time_min_ORBIT = time_min_BX[time_min_BX['ORBIT_CNT'] == time_min_BX['ORBIT_CNT'].min()]\n",
    "\n",
    "time_weight = numpy.array([25/30, 25, 25*X])\n",
    "\n",
    "print(f\"We estimate that these data have been collected for {(numpy.dot(time_weight,numpy.array(time_max_ORBIT)[0].T) - numpy.dot(time_weight,numpy.array(time_min_ORBIT)[0].T)) / 1e06}ms\")\n",
    "print(\"We will check more precisely in the next answer, by reading the whole dataset\")"
   ]
  },
  {
   "cell_type": "markdown",
   "metadata": {},
   "source": [
    "4\\. Create a new column with the absolute time in ns (as a combination of the other three columns with timing information)."
   ]
  },
  {
   "cell_type": "code",
   "execution_count": 6,
   "metadata": {},
   "outputs": [
    {
     "name": "stdout",
     "output_type": "stream",
     "text": [
      "We can now state that the data collecting took 2.6819491666669846ms\n"
     ]
    }
   ],
   "source": [
    "data['TIME_NS'] = numpy.dot(time,time_weight)\n",
    "print(f\"We can now state that the data collecting took {(data['TIME_NS'].max() - data['TIME_NS'].min()) / 1e06}ms\")"
   ]
  },
  {
   "cell_type": "markdown",
   "metadata": {},
   "source": [
    "5\\. Replace the values (all 1) of the HEAD column randomly with 0 or 1."
   ]
  },
  {
   "cell_type": "code",
   "execution_count": 7,
   "metadata": {},
   "outputs": [
    {
     "data": {
      "text/html": [
       "<div>\n",
       "<style scoped>\n",
       "    .dataframe tbody tr th:only-of-type {\n",
       "        vertical-align: middle;\n",
       "    }\n",
       "\n",
       "    .dataframe tbody tr th {\n",
       "        vertical-align: top;\n",
       "    }\n",
       "\n",
       "    .dataframe thead th {\n",
       "        text-align: right;\n",
       "    }\n",
       "</style>\n",
       "<table border=\"1\" class=\"dataframe\">\n",
       "  <thead>\n",
       "    <tr style=\"text-align: right;\">\n",
       "      <th></th>\n",
       "      <th></th>\n",
       "      <th>HEAD</th>\n",
       "      <th>ORBIT_CNT</th>\n",
       "      <th>BX_COUNTER</th>\n",
       "      <th>TDC_MEAS</th>\n",
       "      <th>TIME_NS</th>\n",
       "    </tr>\n",
       "    <tr>\n",
       "      <th>FPGA</th>\n",
       "      <th>TDC_CHANNEL</th>\n",
       "      <th></th>\n",
       "      <th></th>\n",
       "      <th></th>\n",
       "      <th></th>\n",
       "      <th></th>\n",
       "    </tr>\n",
       "  </thead>\n",
       "  <tbody>\n",
       "    <tr>\n",
       "      <th rowspan=\"5\" valign=\"top\">0</th>\n",
       "      <th>1</th>\n",
       "      <td>1</td>\n",
       "      <td>3869209693</td>\n",
       "      <td>179</td>\n",
       "      <td>0</td>\n",
       "      <td>3.224346e+09</td>\n",
       "    </tr>\n",
       "    <tr>\n",
       "      <th>1</th>\n",
       "      <td>1</td>\n",
       "      <td>3869200678</td>\n",
       "      <td>227</td>\n",
       "      <td>0</td>\n",
       "      <td>3.224340e+09</td>\n",
       "    </tr>\n",
       "    <tr>\n",
       "      <th>1</th>\n",
       "      <td>0</td>\n",
       "      <td>3869203991</td>\n",
       "      <td>239</td>\n",
       "      <td>0</td>\n",
       "      <td>3.224343e+09</td>\n",
       "    </tr>\n",
       "    <tr>\n",
       "      <th>1</th>\n",
       "      <td>0</td>\n",
       "      <td>3869204538</td>\n",
       "      <td>259</td>\n",
       "      <td>0</td>\n",
       "      <td>3.224344e+09</td>\n",
       "    </tr>\n",
       "    <tr>\n",
       "      <th>1</th>\n",
       "      <td>0</td>\n",
       "      <td>3869207842</td>\n",
       "      <td>278</td>\n",
       "      <td>0</td>\n",
       "      <td>3.224347e+09</td>\n",
       "    </tr>\n",
       "    <tr>\n",
       "      <th>...</th>\n",
       "      <th>...</th>\n",
       "      <td>...</td>\n",
       "      <td>...</td>\n",
       "      <td>...</td>\n",
       "      <td>...</td>\n",
       "      <td>...</td>\n",
       "    </tr>\n",
       "    <tr>\n",
       "      <th rowspan=\"5\" valign=\"top\">1</th>\n",
       "      <th>139</th>\n",
       "      <td>0</td>\n",
       "      <td>3869203943</td>\n",
       "      <td>3563</td>\n",
       "      <td>0</td>\n",
       "      <td>3.224426e+09</td>\n",
       "    </tr>\n",
       "    <tr>\n",
       "      <th>139</th>\n",
       "      <td>1</td>\n",
       "      <td>3869205490</td>\n",
       "      <td>3563</td>\n",
       "      <td>0</td>\n",
       "      <td>3.224427e+09</td>\n",
       "    </tr>\n",
       "    <tr>\n",
       "      <th>139</th>\n",
       "      <td>1</td>\n",
       "      <td>3869208783</td>\n",
       "      <td>3563</td>\n",
       "      <td>0</td>\n",
       "      <td>3.224430e+09</td>\n",
       "    </tr>\n",
       "    <tr>\n",
       "      <th>139</th>\n",
       "      <td>0</td>\n",
       "      <td>3869210274</td>\n",
       "      <td>3563</td>\n",
       "      <td>0</td>\n",
       "      <td>3.224431e+09</td>\n",
       "    </tr>\n",
       "    <tr>\n",
       "      <th>139</th>\n",
       "      <td>0</td>\n",
       "      <td>3869210760</td>\n",
       "      <td>3563</td>\n",
       "      <td>0</td>\n",
       "      <td>3.224431e+09</td>\n",
       "    </tr>\n",
       "  </tbody>\n",
       "</table>\n",
       "<p>1310720 rows × 5 columns</p>\n",
       "</div>"
      ],
      "text/plain": [
       "                  HEAD   ORBIT_CNT  BX_COUNTER  TDC_MEAS       TIME_NS\n",
       "FPGA TDC_CHANNEL                                                      \n",
       "0    1               1  3869209693         179         0  3.224346e+09\n",
       "     1               1  3869200678         227         0  3.224340e+09\n",
       "     1               0  3869203991         239         0  3.224343e+09\n",
       "     1               0  3869204538         259         0  3.224344e+09\n",
       "     1               0  3869207842         278         0  3.224347e+09\n",
       "...                ...         ...         ...       ...           ...\n",
       "1    139             0  3869203943        3563         0  3.224426e+09\n",
       "     139             1  3869205490        3563         0  3.224427e+09\n",
       "     139             1  3869208783        3563         0  3.224430e+09\n",
       "     139             0  3869210274        3563         0  3.224431e+09\n",
       "     139             0  3869210760        3563         0  3.224431e+09\n",
       "\n",
       "[1310720 rows x 5 columns]"
      ]
     },
     "execution_count": 7,
     "metadata": {},
     "output_type": "execute_result"
    }
   ],
   "source": [
    "data['HEAD'] = numpy.random.binomial(1, 0.5, size=data.shape[0])\n",
    "data"
   ]
  },
  {
   "cell_type": "markdown",
   "metadata": {},
   "source": [
    "6\\. Create a new DataFrame that contains only the rows with HEAD=1."
   ]
  },
  {
   "cell_type": "code",
   "execution_count": 8,
   "metadata": {},
   "outputs": [
    {
     "data": {
      "text/html": [
       "<div>\n",
       "<style scoped>\n",
       "    .dataframe tbody tr th:only-of-type {\n",
       "        vertical-align: middle;\n",
       "    }\n",
       "\n",
       "    .dataframe tbody tr th {\n",
       "        vertical-align: top;\n",
       "    }\n",
       "\n",
       "    .dataframe thead th {\n",
       "        text-align: right;\n",
       "    }\n",
       "</style>\n",
       "<table border=\"1\" class=\"dataframe\">\n",
       "  <thead>\n",
       "    <tr style=\"text-align: right;\">\n",
       "      <th></th>\n",
       "      <th></th>\n",
       "      <th>HEAD</th>\n",
       "      <th>ORBIT_CNT</th>\n",
       "      <th>BX_COUNTER</th>\n",
       "      <th>TDC_MEAS</th>\n",
       "      <th>TIME_NS</th>\n",
       "    </tr>\n",
       "    <tr>\n",
       "      <th>FPGA</th>\n",
       "      <th>TDC_CHANNEL</th>\n",
       "      <th></th>\n",
       "      <th></th>\n",
       "      <th></th>\n",
       "      <th></th>\n",
       "      <th></th>\n",
       "    </tr>\n",
       "  </thead>\n",
       "  <tbody>\n",
       "    <tr>\n",
       "      <th rowspan=\"5\" valign=\"top\">0</th>\n",
       "      <th>1</th>\n",
       "      <td>1</td>\n",
       "      <td>3869209693</td>\n",
       "      <td>179</td>\n",
       "      <td>0</td>\n",
       "      <td>3.224346e+09</td>\n",
       "    </tr>\n",
       "    <tr>\n",
       "      <th>1</th>\n",
       "      <td>1</td>\n",
       "      <td>3869200678</td>\n",
       "      <td>227</td>\n",
       "      <td>0</td>\n",
       "      <td>3.224340e+09</td>\n",
       "    </tr>\n",
       "    <tr>\n",
       "      <th>1</th>\n",
       "      <td>1</td>\n",
       "      <td>3869205318</td>\n",
       "      <td>397</td>\n",
       "      <td>0</td>\n",
       "      <td>3.224348e+09</td>\n",
       "    </tr>\n",
       "    <tr>\n",
       "      <th>1</th>\n",
       "      <td>1</td>\n",
       "      <td>3869208486</td>\n",
       "      <td>416</td>\n",
       "      <td>0</td>\n",
       "      <td>3.224351e+09</td>\n",
       "    </tr>\n",
       "    <tr>\n",
       "      <th>1</th>\n",
       "      <td>1</td>\n",
       "      <td>3869206612</td>\n",
       "      <td>549</td>\n",
       "      <td>0</td>\n",
       "      <td>3.224353e+09</td>\n",
       "    </tr>\n",
       "    <tr>\n",
       "      <th>...</th>\n",
       "      <th>...</th>\n",
       "      <td>...</td>\n",
       "      <td>...</td>\n",
       "      <td>...</td>\n",
       "      <td>...</td>\n",
       "      <td>...</td>\n",
       "    </tr>\n",
       "    <tr>\n",
       "      <th rowspan=\"5\" valign=\"top\">1</th>\n",
       "      <th>139</th>\n",
       "      <td>1</td>\n",
       "      <td>3869204765</td>\n",
       "      <td>3561</td>\n",
       "      <td>0</td>\n",
       "      <td>3.224426e+09</td>\n",
       "    </tr>\n",
       "    <tr>\n",
       "      <th>139</th>\n",
       "      <td>1</td>\n",
       "      <td>3869204793</td>\n",
       "      <td>3561</td>\n",
       "      <td>0</td>\n",
       "      <td>3.224426e+09</td>\n",
       "    </tr>\n",
       "    <tr>\n",
       "      <th>139</th>\n",
       "      <td>1</td>\n",
       "      <td>3869201773</td>\n",
       "      <td>3563</td>\n",
       "      <td>0</td>\n",
       "      <td>3.224424e+09</td>\n",
       "    </tr>\n",
       "    <tr>\n",
       "      <th>139</th>\n",
       "      <td>1</td>\n",
       "      <td>3869205490</td>\n",
       "      <td>3563</td>\n",
       "      <td>0</td>\n",
       "      <td>3.224427e+09</td>\n",
       "    </tr>\n",
       "    <tr>\n",
       "      <th>139</th>\n",
       "      <td>1</td>\n",
       "      <td>3869208783</td>\n",
       "      <td>3563</td>\n",
       "      <td>0</td>\n",
       "      <td>3.224430e+09</td>\n",
       "    </tr>\n",
       "  </tbody>\n",
       "</table>\n",
       "<p>655394 rows × 5 columns</p>\n",
       "</div>"
      ],
      "text/plain": [
       "                  HEAD   ORBIT_CNT  BX_COUNTER  TDC_MEAS       TIME_NS\n",
       "FPGA TDC_CHANNEL                                                      \n",
       "0    1               1  3869209693         179         0  3.224346e+09\n",
       "     1               1  3869200678         227         0  3.224340e+09\n",
       "     1               1  3869205318         397         0  3.224348e+09\n",
       "     1               1  3869208486         416         0  3.224351e+09\n",
       "     1               1  3869206612         549         0  3.224353e+09\n",
       "...                ...         ...         ...       ...           ...\n",
       "1    139             1  3869204765        3561         0  3.224426e+09\n",
       "     139             1  3869204793        3561         0  3.224426e+09\n",
       "     139             1  3869201773        3563         0  3.224424e+09\n",
       "     139             1  3869205490        3563         0  3.224427e+09\n",
       "     139             1  3869208783        3563         0  3.224430e+09\n",
       "\n",
       "[655394 rows x 5 columns]"
      ]
     },
     "execution_count": 8,
     "metadata": {},
     "output_type": "execute_result"
    }
   ],
   "source": [
    "new_data = data[data['HEAD'] == 1]\n",
    "new_data"
   ]
  },
  {
   "cell_type": "markdown",
   "metadata": {},
   "source": [
    "7\\. Make two occupancy plots (one for each FPGA), i.e. plot the number of counts per TDC channel"
   ]
  },
  {
   "cell_type": "code",
   "execution_count": 9,
   "metadata": {
    "scrolled": true
   },
   "outputs": [
    {
     "data": {
      "image/png": "[encoded data removed]",
      "text/plain": [
       "<Figure size 864x345.6 with 2 Axes>"
      ]
     },
     "metadata": {
      "needs_background": "light"
     },
     "output_type": "display_data"
    }
   ],
   "source": [
    "new_data.reset_index(level=1, inplace=True)\n",
    "\n",
    "fig, axs = plt.subplots(1, 2, figsize=(12,4.8))\n",
    "\n",
    "for i in [0,1]:\n",
    "    new_data.loc[i, 'TDC_CHANNEL'].hist(ax=axs[i], bins=139)\n",
    "    axs[i].set_ylabel(\"Counts per channel\")\n",
    "    axs[i].set_xlabel(\"Channel\")\n",
    "    axs[i].set_title(\"FPGA n°\"+str(i))\n",
    "axs[1].yaxis.tick_right()\n",
    "axs[1].yaxis.set_label_position(\"right\")\n",
    "fig.tight_layout()"
   ]
  },
  {
   "cell_type": "markdown",
   "metadata": {},
   "source": [
    "8\\. Use the groupby method to find out the noisy channels, i.e. the TDC channels with most counts (say the top 3)"
   ]
  },
  {
   "cell_type": "code",
   "execution_count": 10,
   "metadata": {},
   "outputs": [
    {
     "name": "stdout",
     "output_type": "stream",
     "text": [
      "The top noisy channels are:\n"
     ]
    },
    {
     "data": {
      "text/html": [
       "<div>\n",
       "<style scoped>\n",
       "    .dataframe tbody tr th:only-of-type {\n",
       "        vertical-align: middle;\n",
       "    }\n",
       "\n",
       "    .dataframe tbody tr th {\n",
       "        vertical-align: top;\n",
       "    }\n",
       "\n",
       "    .dataframe thead th {\n",
       "        text-align: right;\n",
       "    }\n",
       "</style>\n",
       "<table border=\"1\" class=\"dataframe\">\n",
       "  <thead>\n",
       "    <tr style=\"text-align: right;\">\n",
       "      <th></th>\n",
       "      <th>HEAD</th>\n",
       "      <th>ORBIT_CNT</th>\n",
       "      <th>BX_COUNTER</th>\n",
       "      <th>TDC_MEAS</th>\n",
       "      <th>TIME_NS</th>\n",
       "    </tr>\n",
       "    <tr>\n",
       "      <th>TDC_CHANNEL</th>\n",
       "      <th></th>\n",
       "      <th></th>\n",
       "      <th></th>\n",
       "      <th></th>\n",
       "      <th></th>\n",
       "    </tr>\n",
       "  </thead>\n",
       "  <tbody>\n",
       "    <tr>\n",
       "      <th>139</th>\n",
       "      <td>108059</td>\n",
       "      <td>108059</td>\n",
       "      <td>108059</td>\n",
       "      <td>108059</td>\n",
       "      <td>108059</td>\n",
       "    </tr>\n",
       "    <tr>\n",
       "      <th>64</th>\n",
       "      <td>66020</td>\n",
       "      <td>66020</td>\n",
       "      <td>66020</td>\n",
       "      <td>66020</td>\n",
       "      <td>66020</td>\n",
       "    </tr>\n",
       "    <tr>\n",
       "      <th>63</th>\n",
       "      <td>64642</td>\n",
       "      <td>64642</td>\n",
       "      <td>64642</td>\n",
       "      <td>64642</td>\n",
       "      <td>64642</td>\n",
       "    </tr>\n",
       "    <tr>\n",
       "      <th>61</th>\n",
       "      <td>49479</td>\n",
       "      <td>49479</td>\n",
       "      <td>49479</td>\n",
       "      <td>49479</td>\n",
       "      <td>49479</td>\n",
       "    </tr>\n",
       "    <tr>\n",
       "      <th>62</th>\n",
       "      <td>49349</td>\n",
       "      <td>49349</td>\n",
       "      <td>49349</td>\n",
       "      <td>49349</td>\n",
       "      <td>49349</td>\n",
       "    </tr>\n",
       "  </tbody>\n",
       "</table>\n",
       "</div>"
      ],
      "text/plain": [
       "               HEAD  ORBIT_CNT  BX_COUNTER  TDC_MEAS  TIME_NS\n",
       "TDC_CHANNEL                                                  \n",
       "139          108059     108059      108059    108059   108059\n",
       "64            66020      66020       66020     66020    66020\n",
       "63            64642      64642       64642     64642    64642\n",
       "61            49479      49479       49479     49479    49479\n",
       "62            49349      49349       49349     49349    49349"
      ]
     },
     "execution_count": 10,
     "metadata": {},
     "output_type": "execute_result"
    }
   ],
   "source": [
    "print(\"The top noisy channels are:\")\n",
    "data.groupby(level=1).count().sort_values('HEAD', ascending=False).head()"
   ]
  },
  {
   "cell_type": "markdown",
   "metadata": {},
   "source": [
    "9\\. Count the number of unique orbits. Count the number of unique orbits with at least one measurement from TDC_CHANNEL=139"
   ]
  },
  {
   "cell_type": "code",
   "execution_count": 11,
   "metadata": {},
   "outputs": [
    {
     "name": "stdout",
     "output_type": "stream",
     "text": [
      "The number of unique orbits is: 11001\n",
      "If we want at least one measurement from TDC_CHANNEL 139, then the number is: 10976\n"
     ]
    }
   ],
   "source": [
    "orbits = data['ORBIT_CNT'].unique()\n",
    "print(f\"The number of unique orbits is: {orbits.size}\")\n",
    "orbits139 = data.loc[(slice(None), 139), 'ORBIT_CNT'].unique()\n",
    "print(f\"If we want at least one measurement from TDC_CHANNEL 139, then the number is: {orbits139.size}\")"
   ]
  },
  {
   "cell_type": "code",
   "execution_count": 12,
   "metadata": {},
   "outputs": [],
   "source": [
    "!rm -r ./data"
   ]
  },
  {
   "cell_type": "code",
   "execution_count": null,
   "metadata": {},
   "outputs": [],
   "source": []
  }
 ],
 "metadata": {
  "kernelspec": {
   "display_name": "Python 3",
   "language": "python",
   "name": "python3"
  },
  "language_info": {
   "codemirror_mode": {
    "name": "ipython",
    "version": 3
   },
   "file_extension": ".py",
   "mimetype": "text/x-python",
   "name": "python",
   "nbconvert_exporter": "python",
   "pygments_lexer": "ipython3",
   "version": "3.8.5"
  }
 },
 "nbformat": 4,
 "nbformat_minor": 2
}
