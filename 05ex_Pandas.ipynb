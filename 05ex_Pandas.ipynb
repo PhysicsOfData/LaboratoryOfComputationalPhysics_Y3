{
 "cells": [
  {
   "cell_type": "markdown",
   "metadata": {},
   "source": [
    "## Pandas analysis\n",
    "\n",
    "This exercise consists in analyzing a dataset containg timing information from a series of Time-to-Digital-Converters (TDC) implemented in a couple of FPGAs. Each measurement (i.e. each row of the input file) consists of a flag that specifies the type of message ('HEAD', which in this case is always 1), two addresses of the TDC providing the signal ('FPGA' and 'TDC_CHANNEL'), and the timing information ('ORBIT_CNT', 'BX_COUNTER', and 'TDC_MEAS'). Each TDC count corresponds to $\\frac{25}{30}$ ns, whereas a unit of BX_COUNTER corresponds to 25 ns, and the ORBIT_CNT is increased every 'x' BX_COUNTER. This allows to store the time in a similar way to hours, minutes and seconds."
   ]
  },
  {
   "cell_type": "code",
   "execution_count": 1,
   "metadata": {},
   "outputs": [],
   "source": [
    "#!wget -q https://www.dropbox.com/s/xvjzaxzz3ysphme/data_000637.txt -P ~/data/\n",
    "# I will use urllib.request to load the file"
   ]
  },
  {
   "cell_type": "markdown",
   "metadata": {},
   "source": [
    "1\\. Create a Pandas DataFrame reading N rows of the 'data_000637.txt' dataset. Choose N to be smaller than or equal to the maximum number of rows and larger that 10k.\n",
    "\n",
    "2\\. Find out the number of BX in a ORBIT (the value 'x').\n",
    "\n",
    "3\\. Find out how much the data taking lasted. You can either make an estimate based on the fraction of the measurements (rows) you read, or perform this check precisely by reading out the whole dataset.\n",
    "\n",
    "4\\. Create a new column with the absolute time in ns (as a combination of the other three columns with timing information).\n",
    "\n",
    "5\\. Replace the values (all 1) of the HEAD column randomly with 0 or 1.\n",
    "\n",
    "6\\. Create a new DataFrame that contains only the rows with HEAD=1.\n",
    "\n",
    "7\\. Make two occupancy plots (one for each FPGA), i.e. plot the number of counts per TDC channel\n",
    "\n",
    "8\\. Use the groupby method to find out the noisy channels, i.e. the TDC channels with most counts (say the top 3)\n",
    "\n",
    "9\\. Count the number of unique orbits. Count the number of unique orbits with at least one measurement from TDC_CHANNEL=139"
   ]
  },
  {
   "cell_type": "markdown",
   "metadata": {},
   "source": [
    "## 1."
   ]
  },
  {
   "cell_type": "code",
   "execution_count": 15,
   "metadata": {},
   "outputs": [],
   "source": [
    "import urllib.request\n",
    "import pandas as pd\n",
    "\n",
    "url = 'https://www.dropbox.com/s/xvjzaxzz3ysphme/data_000637.txt?dl=1'\n",
    "\n",
    "#I am just loading the whole file into the dataframe.\n",
    "with urllib.request.urlopen(url) as data_file:\n",
    "    df = pd.read_csv(data_file, sep = \",\")"
   ]
  },
  {
   "cell_type": "markdown",
   "metadata": {},
   "source": [
    "## 2."
   ]
  },
  {
   "cell_type": "code",
   "execution_count": 3,
   "metadata": {},
   "outputs": [
    {
     "name": "stdout",
     "output_type": "stream",
     "text": [
      "3564\n",
      "30\n"
     ]
    }
   ],
   "source": [
    "# Since it seems that it isn't quite clear when ORBIT_CNT changes based on just looking at the dataframe, I'm taking the number of BX that increase ORBIT_CNT to just be the maximum value in BX_COUNTER+1 (like 1 hour is 60 minutes but the clock only shows up to 59)\n",
    "\n",
    "BX_est = df[\"BX_COUNTER\"].max()+1\n",
    "print(BX_est)\n",
    "\n",
    "# We'll also go ahead and define the max TDC_MEAS, which I am guessing is 30.\n",
    "TDC_max = df[\"TDC_MEAS\"].max()+1\n",
    "print(TDC_max)"
   ]
  },
  {
   "cell_type": "markdown",
   "metadata": {},
   "source": [
    "## 3."
   ]
  },
  {
   "cell_type": "code",
   "execution_count": 4,
   "metadata": {},
   "outputs": [
    {
     "name": "stdout",
     "output_type": "stream",
     "text": [
      "Data collection lasted about 0.9804163000 seconds\n"
     ]
    }
   ],
   "source": [
    "# I saw that some of the points of the dataset weren't in order, so I'm trying to use maximum and minimum values of the dataset to obtain the time taken. It makes it look quite convoluted but I can't find a workaround.\n",
    "\n",
    "time_taken = ((df[\"ORBIT_CNT\"].max() - df[\"ORBIT_CNT\"].min()) * (BX_est) + df[\"BX_COUNTER\"][df[\"ORBIT_CNT\"] == df[\"ORBIT_CNT\"].max()].max() - df[\"BX_COUNTER\"][df[\"ORBIT_CNT\"] == df[\"ORBIT_CNT\"].min()].min()) * 25 + (TDC_max - (df[\"TDC_MEAS\"][df[\"BX_COUNTER\"][df[\"ORBIT_CNT\"] == df[\"ORBIT_CNT\"].min()].min()].min()))*(25/30)\n",
    "\n",
    "#We find by how much ORBIT_CNT increased from the first reading to the last, multiply that by the estimate BX counts between each ORBIT_CNT, then we add the last BX_COUNTER, and finally we multiply this whole number by 25 to convert to nanoseconds, and finally we add TDC_MEAS converted to nanoseconds as well.\n",
    "\n",
    "\n",
    "print(\"Data collection lasted about {:.10f} seconds\".format(time_taken*10**-9))"
   ]
  },
  {
   "cell_type": "markdown",
   "metadata": {},
   "source": [
    "## 4."
   ]
  },
  {
   "cell_type": "code",
   "execution_count": 5,
   "metadata": {},
   "outputs": [],
   "source": [
    "# Instead of going through the pain of writing something like last cell, I'll just define a couple of quantities first\n",
    "TDC_min = (df[\"TDC_MEAS\"][df[\"BX_COUNTER\"][df[\"ORBIT_CNT\"] == df[\"ORBIT_CNT\"].min()].min()].min())\n",
    "BX_min = df[\"BX_COUNTER\"][df[\"ORBIT_CNT\"] == df[\"ORBIT_CNT\"].min()].min()\n",
    "\n",
    "df[\"time\"] = ((df[\"ORBIT_CNT\"] - df[\"ORBIT_CNT\"].min())*BX_est+df[\"BX_COUNTER\"]-BX_min)*25-TDC_min*(25/30)+df[\"TDC_MEAS\"]*(25/30)"
   ]
  },
  {
   "cell_type": "code",
   "execution_count": 6,
   "metadata": {},
   "outputs": [
    {
     "data": {
      "text/html": [
       "<div>\n",
       "<style scoped>\n",
       "    .dataframe tbody tr th:only-of-type {\n",
       "        vertical-align: middle;\n",
       "    }\n",
       "\n",
       "    .dataframe tbody tr th {\n",
       "        vertical-align: top;\n",
       "    }\n",
       "\n",
       "    .dataframe thead th {\n",
       "        text-align: right;\n",
       "    }\n",
       "</style>\n",
       "<table border=\"1\" class=\"dataframe\">\n",
       "  <thead>\n",
       "    <tr style=\"text-align: right;\">\n",
       "      <th></th>\n",
       "      <th>HEAD</th>\n",
       "      <th>FPGA</th>\n",
       "      <th>TDC_CHANNEL</th>\n",
       "      <th>ORBIT_CNT</th>\n",
       "      <th>BX_COUNTER</th>\n",
       "      <th>TDC_MEAS</th>\n",
       "      <th>time</th>\n",
       "    </tr>\n",
       "  </thead>\n",
       "  <tbody>\n",
       "    <tr>\n",
       "      <th>0</th>\n",
       "      <td>1</td>\n",
       "      <td>0</td>\n",
       "      <td>123</td>\n",
       "      <td>3869200167</td>\n",
       "      <td>2374</td>\n",
       "      <td>26</td>\n",
       "      <td>2.166667e+01</td>\n",
       "    </tr>\n",
       "    <tr>\n",
       "      <th>1</th>\n",
       "      <td>1</td>\n",
       "      <td>0</td>\n",
       "      <td>124</td>\n",
       "      <td>3869200167</td>\n",
       "      <td>2374</td>\n",
       "      <td>27</td>\n",
       "      <td>2.250000e+01</td>\n",
       "    </tr>\n",
       "    <tr>\n",
       "      <th>2</th>\n",
       "      <td>1</td>\n",
       "      <td>0</td>\n",
       "      <td>63</td>\n",
       "      <td>3869200167</td>\n",
       "      <td>2553</td>\n",
       "      <td>28</td>\n",
       "      <td>4.498333e+03</td>\n",
       "    </tr>\n",
       "    <tr>\n",
       "      <th>3</th>\n",
       "      <td>1</td>\n",
       "      <td>0</td>\n",
       "      <td>64</td>\n",
       "      <td>3869200167</td>\n",
       "      <td>2558</td>\n",
       "      <td>19</td>\n",
       "      <td>4.615833e+03</td>\n",
       "    </tr>\n",
       "    <tr>\n",
       "      <th>4</th>\n",
       "      <td>1</td>\n",
       "      <td>0</td>\n",
       "      <td>64</td>\n",
       "      <td>3869200167</td>\n",
       "      <td>2760</td>\n",
       "      <td>25</td>\n",
       "      <td>9.670833e+03</td>\n",
       "    </tr>\n",
       "    <tr>\n",
       "      <th>...</th>\n",
       "      <td>...</td>\n",
       "      <td>...</td>\n",
       "      <td>...</td>\n",
       "      <td>...</td>\n",
       "      <td>...</td>\n",
       "      <td>...</td>\n",
       "      <td>...</td>\n",
       "    </tr>\n",
       "    <tr>\n",
       "      <th>1310715</th>\n",
       "      <td>1</td>\n",
       "      <td>0</td>\n",
       "      <td>62</td>\n",
       "      <td>3869211171</td>\n",
       "      <td>762</td>\n",
       "      <td>14</td>\n",
       "      <td>9.804161e+08</td>\n",
       "    </tr>\n",
       "    <tr>\n",
       "      <th>1310716</th>\n",
       "      <td>1</td>\n",
       "      <td>0</td>\n",
       "      <td>61</td>\n",
       "      <td>3869211171</td>\n",
       "      <td>762</td>\n",
       "      <td>18</td>\n",
       "      <td>9.804161e+08</td>\n",
       "    </tr>\n",
       "    <tr>\n",
       "      <th>1310717</th>\n",
       "      <td>1</td>\n",
       "      <td>1</td>\n",
       "      <td>4</td>\n",
       "      <td>3869211171</td>\n",
       "      <td>763</td>\n",
       "      <td>11</td>\n",
       "      <td>9.804161e+08</td>\n",
       "    </tr>\n",
       "    <tr>\n",
       "      <th>1310718</th>\n",
       "      <td>1</td>\n",
       "      <td>0</td>\n",
       "      <td>64</td>\n",
       "      <td>3869211171</td>\n",
       "      <td>764</td>\n",
       "      <td>0</td>\n",
       "      <td>9.804162e+08</td>\n",
       "    </tr>\n",
       "    <tr>\n",
       "      <th>1310719</th>\n",
       "      <td>1</td>\n",
       "      <td>0</td>\n",
       "      <td>139</td>\n",
       "      <td>3869211171</td>\n",
       "      <td>769</td>\n",
       "      <td>0</td>\n",
       "      <td>9.804163e+08</td>\n",
       "    </tr>\n",
       "  </tbody>\n",
       "</table>\n",
       "<p>1310720 rows × 7 columns</p>\n",
       "</div>"
      ],
      "text/plain": [
       "         HEAD  FPGA  TDC_CHANNEL   ORBIT_CNT  BX_COUNTER  TDC_MEAS  \\\n",
       "0           1     0          123  3869200167        2374        26   \n",
       "1           1     0          124  3869200167        2374        27   \n",
       "2           1     0           63  3869200167        2553        28   \n",
       "3           1     0           64  3869200167        2558        19   \n",
       "4           1     0           64  3869200167        2760        25   \n",
       "...       ...   ...          ...         ...         ...       ...   \n",
       "1310715     1     0           62  3869211171         762        14   \n",
       "1310716     1     0           61  3869211171         762        18   \n",
       "1310717     1     1            4  3869211171         763        11   \n",
       "1310718     1     0           64  3869211171         764         0   \n",
       "1310719     1     0          139  3869211171         769         0   \n",
       "\n",
       "                 time  \n",
       "0        2.166667e+01  \n",
       "1        2.250000e+01  \n",
       "2        4.498333e+03  \n",
       "3        4.615833e+03  \n",
       "4        9.670833e+03  \n",
       "...               ...  \n",
       "1310715  9.804161e+08  \n",
       "1310716  9.804161e+08  \n",
       "1310717  9.804161e+08  \n",
       "1310718  9.804162e+08  \n",
       "1310719  9.804163e+08  \n",
       "\n",
       "[1310720 rows x 7 columns]"
      ]
     },
     "execution_count": 6,
     "metadata": {},
     "output_type": "execute_result"
    }
   ],
   "source": [
    "# I noticed that some values were not sorted by ascending time, so this cell works to just reorder them.\n",
    "df = df.sort_values(\"time\", ascending = True)\n",
    "df = df.reset_index(drop=True)\n",
    "df"
   ]
  },
  {
   "cell_type": "markdown",
   "metadata": {},
   "source": [
    "## 5."
   ]
  },
  {
   "cell_type": "code",
   "execution_count": 7,
   "metadata": {},
   "outputs": [],
   "source": [
    "import numpy as np\n",
    "df[\"HEAD\"] = np.random.choice([0,1],len(df))"
   ]
  },
  {
   "cell_type": "markdown",
   "metadata": {},
   "source": [
    "## 6."
   ]
  },
  {
   "cell_type": "code",
   "execution_count": 8,
   "metadata": {},
   "outputs": [
    {
     "data": {
      "text/html": [
       "<div>\n",
       "<style scoped>\n",
       "    .dataframe tbody tr th:only-of-type {\n",
       "        vertical-align: middle;\n",
       "    }\n",
       "\n",
       "    .dataframe tbody tr th {\n",
       "        vertical-align: top;\n",
       "    }\n",
       "\n",
       "    .dataframe thead th {\n",
       "        text-align: right;\n",
       "    }\n",
       "</style>\n",
       "<table border=\"1\" class=\"dataframe\">\n",
       "  <thead>\n",
       "    <tr style=\"text-align: right;\">\n",
       "      <th></th>\n",
       "      <th>HEAD</th>\n",
       "      <th>FPGA</th>\n",
       "      <th>TDC_CHANNEL</th>\n",
       "      <th>ORBIT_CNT</th>\n",
       "      <th>BX_COUNTER</th>\n",
       "      <th>TDC_MEAS</th>\n",
       "      <th>time</th>\n",
       "    </tr>\n",
       "  </thead>\n",
       "  <tbody>\n",
       "    <tr>\n",
       "      <th>1</th>\n",
       "      <td>1</td>\n",
       "      <td>0</td>\n",
       "      <td>124</td>\n",
       "      <td>3869200167</td>\n",
       "      <td>2374</td>\n",
       "      <td>27</td>\n",
       "      <td>2.250000e+01</td>\n",
       "    </tr>\n",
       "    <tr>\n",
       "      <th>4</th>\n",
       "      <td>1</td>\n",
       "      <td>0</td>\n",
       "      <td>64</td>\n",
       "      <td>3869200167</td>\n",
       "      <td>2760</td>\n",
       "      <td>25</td>\n",
       "      <td>9.670833e+03</td>\n",
       "    </tr>\n",
       "    <tr>\n",
       "      <th>5</th>\n",
       "      <td>1</td>\n",
       "      <td>0</td>\n",
       "      <td>63</td>\n",
       "      <td>3869200167</td>\n",
       "      <td>2762</td>\n",
       "      <td>4</td>\n",
       "      <td>9.703333e+03</td>\n",
       "    </tr>\n",
       "    <tr>\n",
       "      <th>9</th>\n",
       "      <td>1</td>\n",
       "      <td>1</td>\n",
       "      <td>7</td>\n",
       "      <td>3869200167</td>\n",
       "      <td>2785</td>\n",
       "      <td>4</td>\n",
       "      <td>1.027833e+04</td>\n",
       "    </tr>\n",
       "    <tr>\n",
       "      <th>13</th>\n",
       "      <td>1</td>\n",
       "      <td>0</td>\n",
       "      <td>56</td>\n",
       "      <td>3869200167</td>\n",
       "      <td>2789</td>\n",
       "      <td>3</td>\n",
       "      <td>1.037750e+04</td>\n",
       "    </tr>\n",
       "    <tr>\n",
       "      <th>...</th>\n",
       "      <td>...</td>\n",
       "      <td>...</td>\n",
       "      <td>...</td>\n",
       "      <td>...</td>\n",
       "      <td>...</td>\n",
       "      <td>...</td>\n",
       "      <td>...</td>\n",
       "    </tr>\n",
       "    <tr>\n",
       "      <th>1310713</th>\n",
       "      <td>1</td>\n",
       "      <td>0</td>\n",
       "      <td>64</td>\n",
       "      <td>3869211171</td>\n",
       "      <td>758</td>\n",
       "      <td>18</td>\n",
       "      <td>9.804160e+08</td>\n",
       "    </tr>\n",
       "    <tr>\n",
       "      <th>1310714</th>\n",
       "      <td>1</td>\n",
       "      <td>0</td>\n",
       "      <td>60</td>\n",
       "      <td>3869211171</td>\n",
       "      <td>762</td>\n",
       "      <td>2</td>\n",
       "      <td>9.804161e+08</td>\n",
       "    </tr>\n",
       "    <tr>\n",
       "      <th>1310715</th>\n",
       "      <td>1</td>\n",
       "      <td>0</td>\n",
       "      <td>62</td>\n",
       "      <td>3869211171</td>\n",
       "      <td>762</td>\n",
       "      <td>14</td>\n",
       "      <td>9.804161e+08</td>\n",
       "    </tr>\n",
       "    <tr>\n",
       "      <th>1310716</th>\n",
       "      <td>1</td>\n",
       "      <td>0</td>\n",
       "      <td>61</td>\n",
       "      <td>3869211171</td>\n",
       "      <td>762</td>\n",
       "      <td>18</td>\n",
       "      <td>9.804161e+08</td>\n",
       "    </tr>\n",
       "    <tr>\n",
       "      <th>1310719</th>\n",
       "      <td>1</td>\n",
       "      <td>0</td>\n",
       "      <td>139</td>\n",
       "      <td>3869211171</td>\n",
       "      <td>769</td>\n",
       "      <td>0</td>\n",
       "      <td>9.804163e+08</td>\n",
       "    </tr>\n",
       "  </tbody>\n",
       "</table>\n",
       "<p>655294 rows × 7 columns</p>\n",
       "</div>"
      ],
      "text/plain": [
       "         HEAD  FPGA  TDC_CHANNEL   ORBIT_CNT  BX_COUNTER  TDC_MEAS  \\\n",
       "1           1     0          124  3869200167        2374        27   \n",
       "4           1     0           64  3869200167        2760        25   \n",
       "5           1     0           63  3869200167        2762         4   \n",
       "9           1     1            7  3869200167        2785         4   \n",
       "13          1     0           56  3869200167        2789         3   \n",
       "...       ...   ...          ...         ...         ...       ...   \n",
       "1310713     1     0           64  3869211171         758        18   \n",
       "1310714     1     0           60  3869211171         762         2   \n",
       "1310715     1     0           62  3869211171         762        14   \n",
       "1310716     1     0           61  3869211171         762        18   \n",
       "1310719     1     0          139  3869211171         769         0   \n",
       "\n",
       "                 time  \n",
       "1        2.250000e+01  \n",
       "4        9.670833e+03  \n",
       "5        9.703333e+03  \n",
       "9        1.027833e+04  \n",
       "13       1.037750e+04  \n",
       "...               ...  \n",
       "1310713  9.804160e+08  \n",
       "1310714  9.804161e+08  \n",
       "1310715  9.804161e+08  \n",
       "1310716  9.804161e+08  \n",
       "1310719  9.804163e+08  \n",
       "\n",
       "[655294 rows x 7 columns]"
      ]
     },
     "execution_count": 8,
     "metadata": {},
     "output_type": "execute_result"
    }
   ],
   "source": [
    "new_df = df[df[\"HEAD\"] == 1]\n",
    "new_df"
   ]
  },
  {
   "cell_type": "markdown",
   "metadata": {},
   "source": [
    "## 7."
   ]
  },
  {
   "cell_type": "code",
   "execution_count": 9,
   "metadata": {},
   "outputs": [
    {
     "data": {
      "image/png": "[encoded data removed]",
      "text/plain": [
       "<Figure size 432x288 with 2 Axes>"
      ]
     },
     "metadata": {
      "needs_background": "light"
     },
     "output_type": "display_data"
    }
   ],
   "source": [
    "import matplotlib.pyplot as plt\n",
    "\n",
    "# divide the dataframe into the two channels FPGA = 0 and FPGA = 1\n",
    "\n",
    "df1 = new_df[new_df[\"FPGA\"] == 0]\n",
    "df2 = new_df[new_df[\"FPGA\"] == 1]\n",
    "fig, ax = plt.subplots(1,2, sharey = True)\n",
    "fig.tight_layout()\n",
    "\n",
    "x1 = np.arange(1, df1[\"TDC_CHANNEL\"].max()+1)\n",
    "y1 = np.array([len(df1[df1[\"TDC_CHANNEL\"] == i]) for i in x1])\n",
    "x2 = np.arange(1, df2[\"TDC_CHANNEL\"].max()+1)\n",
    "y2 = np.array([len(df2[df2[\"TDC_CHANNEL\"] == i]) for i in x2])\n",
    "\n",
    "ax[0].plot(x1, y1, 'r.')\n",
    "ax[0].set_title(\"FPGA CH0\")\n",
    "ax[0].set_xlabel(\"Channels\")\n",
    "ax[0].set_ylabel(\"Counts\")\n",
    "\n",
    "ax[1].plot(x2, y2, 'r.')\n",
    "ax[1].set_title(\"FPGA CH1\")\n",
    "ax[1].set_xlabel(\"Channels\")\n",
    "ax[1].set_ylabel(\"Counts\")\n",
    "\n",
    "plt.show()"
   ]
  },
  {
   "cell_type": "markdown",
   "metadata": {},
   "source": [
    "## 8."
   ]
  },
  {
   "cell_type": "code",
   "execution_count": 10,
   "metadata": {},
   "outputs": [
    {
     "data": {
      "text/plain": [
       "TDC_CHANNEL\n",
       "139    108059\n",
       "64      66020\n",
       "63      64642\n",
       "Name: TDC_CHANNEL, dtype: int64"
      ]
     },
     "execution_count": 10,
     "metadata": {},
     "output_type": "execute_result"
    }
   ],
   "source": [
    "df.groupby(\"TDC_CHANNEL\").TDC_CHANNEL.count().nlargest(3)\n",
    "\n",
    "#groupby() groups the TDC_CHANNEL column by the counts using the count() method. nlargest(3) ensures we only get the three largest channels."
   ]
  },
  {
   "cell_type": "markdown",
   "metadata": {},
   "source": [
    "## 9."
   ]
  },
  {
   "cell_type": "code",
   "execution_count": 11,
   "metadata": {},
   "outputs": [
    {
     "name": "stdout",
     "output_type": "stream",
     "text": [
      "[3869200167 3869200168 3869200169 ... 3869211169 3869211170 3869211171]\n",
      "[3869200167 3869200168 3869200169 ... 3869211169 3869211170 3869211171]\n",
      "11001\n",
      "10976\n"
     ]
    }
   ],
   "source": [
    "#Number of unique orbits:\n",
    "unique_orbits = df[\"ORBIT_CNT\"].unique()\n",
    "print(unique_orbits)\n",
    "\n",
    "#Number of unique orbits in TDC_CHANNEL = 139\n",
    "uniques_CH139 = df[\"ORBIT_CNT\"][df[\"TDC_CHANNEL\"] == 139].unique()\n",
    "print(uniques_CH139)\n",
    "\n",
    "#they look similar but let's look at the length of each\n",
    "print(len(unique_orbits))\n",
    "print(len(uniques_CH139))"
   ]
  },
  {
   "cell_type": "code",
   "execution_count": null,
   "metadata": {},
   "outputs": [],
   "source": []
  }
 ],
 "metadata": {
  "kernelspec": {
   "display_name": "Python 3",
   "language": "python",
   "name": "python3"
  },
  "language_info": {
   "codemirror_mode": {
    "name": "ipython",
    "version": 3
   },
   "file_extension": ".py",
   "mimetype": "text/x-python",
   "name": "python",
   "nbconvert_exporter": "python",
   "pygments_lexer": "ipython3",
   "version": "3.8.5"
  }
 },
 "nbformat": 4,
 "nbformat_minor": 4
}
