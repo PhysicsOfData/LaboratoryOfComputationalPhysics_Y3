{
 "cells": [
  {
   "cell_type": "markdown",
   "metadata": {},
   "source": [
    "## Pandas analysis\n",
    "\n",
    "This exercise consists in analyzing a dataset containg timing information from a series of Time-to-Digital-Converters (TDC) implemented in a couple of FPGAs. Each measurement (i.e. each row of the input file) consists of a flag that specifies the type of message ('HEAD', which in this case is always 1), two addresses of the TDC providing the signal ('FPGA' and 'TDC_CHANNEL'), and the timing information ('ORBIT_CNT', 'BX_COUNTER', and 'TDC_MEAS'). Each TDC count corresponds to 25/30 ns, whereas a unit of BX_COUNTER corresponds to 25 ns, and the ORBIT_CNT is increased every 'x' BX_COUNTER. This allows to store the time in a similar way to hours, minutes and seconds."
   ]
  },
  {
   "cell_type": "code",
   "execution_count": 1,
   "metadata": {},
   "outputs": [],
   "source": [
    "from jupyterthemes import jtplot\n",
    "jtplot.style('monokai')"
   ]
  },
  {
   "cell_type": "code",
   "execution_count": 2,
   "metadata": {},
   "outputs": [],
   "source": [
    "# If you didn't download it yet, please get the relevant file now!\n",
    "#!wget https://www.dropbox.com/s/xvjzaxzz3ysphme/data_000637.txt -P ~/data/"
   ]
  },
  {
   "cell_type": "markdown",
   "metadata": {},
   "source": [
    "1\\. Create a Pandas DataFrame reading N rows of the 'data_000637.txt' dataset. Choose N to be smaller than or equal to the maximum number of rows and larger that 10k.\n",
    "\n",
    "2\\. Find out the number of BX in a ORBIT (the value 'x').\n",
    "\n",
    "3\\. Find out how much the data taking lasted. You can either make an estimate based on the fraction of the measurements (rows) you read, or perform this check precisely by reading out the whole dataset.\n",
    "\n",
    "4\\. Create a new column with the absolute time in ns (as a combination of the other three columns with timing information).\n",
    "\n",
    "5\\. Replace the values (all 1) of the HEAD column randomly with 0 or 1.\n",
    "\n",
    "6\\. Create a new DataFrame that contains only the rows with HEAD=1.\n",
    "\n",
    "7\\. Make two occupancy plots (one for each FPGA), i.e. plot the number of counts per TDC channel\n",
    "\n",
    "8\\. Use the groupby method to find out the noisy channels, i.e. the TDC channels with most counts (say the top 3)\n",
    "\n",
    "9\\. Count the number of unique orbits. Count the number of unique orbits with at least one measurement from TDC_CHANNEL=139"
   ]
  },
  {
   "cell_type": "markdown",
   "metadata": {},
   "source": [
    "1. Create a Pandas DataFrame reading N rows of the 'data_000637.txt' dataset. Choose N to be smaller than or equal to the maximum number of rows and larger that 10k."
   ]
  },
  {
   "cell_type": "code",
   "execution_count": 3,
   "metadata": {},
   "outputs": [
    {
     "name": "stdout",
     "output_type": "stream",
     "text": [
      "<class '_io.TextIOWrapper'>\n",
      "<class 'str'>\n",
      "        HEAD  FPGA  TDC_CHANNEL   ORBIT_CNT  BX_COUNTER  TDC_MEAS\n",
      "0          1     0          123  3869200167        2374        26\n",
      "1          1     0          124  3869200167        2374        27\n",
      "2          1     0           63  3869200167        2553        28\n",
      "3          1     0           64  3869200167        2558        19\n",
      "4          1     0           64  3869200167        2760        25\n",
      "...      ...   ...          ...         ...         ...       ...\n",
      "662980     1     1           10  3869206718        2851        26\n",
      "662981     1     1            8  3869206718        2863        23\n",
      "662982     1     1          139  3869206718        2867         0\n",
      "662983     1     1           11  3869206718        2865        19\n",
      "662984     1     0           32  3869206718        3239        14\n",
      "\n",
      "[662985 rows x 6 columns]\n"
     ]
    }
   ],
   "source": [
    "#I made a number N that varies in time since it was asked to define it in the \n",
    "#range between 10000 and the maximum number of rows\n",
    "\n",
    "import pandas as pd\n",
    "import numpy as np\n",
    "from matplotlib import pyplot as plt\n",
    "\n",
    "file = open('/Users/tommasofaorlin/data/data_000637.txt', 'r')\n",
    "rows_number = 0\n",
    "for line in file:\n",
    "    rows_number+=1\n",
    "    \n",
    "file_ = '/Users/tommasofaorlin/data/data_000637.txt'\n",
    "total_ = pd.read_csv(file_)\n",
    "df = pd.read_csv(file_).head(np.random.randint(10000, rows_number))\n",
    "\n",
    "print(type(file))\n",
    "print(type(file_))\n",
    "\n",
    "print(df)"
   ]
  },
  {
   "cell_type": "markdown",
   "metadata": {},
   "source": [
    "2. Find out the number of BX in a ORBIT (the value 'x')."
   ]
  },
  {
   "cell_type": "code",
   "execution_count": 4,
   "metadata": {},
   "outputs": [
    {
     "name": "stdout",
     "output_type": "stream",
     "text": [
      "x is:  3564\n"
     ]
    }
   ],
   "source": [
    "max_ = df['BX_COUNTER'].max()\n",
    "min_ = df['BX_COUNTER'].min()\n",
    "x = (max_ - min_) + 1\n",
    "print('x is: ', x)"
   ]
  },
  {
   "cell_type": "markdown",
   "metadata": {},
   "source": [
    "3. Find out how much the data taking lasted. You can either make an estimate based on the fraction of the measurements (rows) you read, or perform this check precisely by reading out the whole dataset."
   ]
  },
  {
   "cell_type": "code",
   "execution_count": 5,
   "metadata": {},
   "outputs": [
    {
     "name": "stdout",
     "output_type": "stream",
     "text": [
      "The data taking lasted (on the total database:  0.9804564\n",
      "The data taking lasted:  0.5836941\n"
     ]
    }
   ],
   "source": [
    "print(\"The data taking lasted (on the total database: \",\n",
    "      (total_['ORBIT_CNT'].max() - total_['ORBIT_CNT'].min()) * 3564 * 25e-9, )\n",
    "\n",
    "#this must vary since it is defined on a random number of rows between 10000 and rows_number\n",
    "print(\"The data taking lasted: \",\n",
    "      (df['ORBIT_CNT'].max()-df['ORBIT_CNT'].min()) * 3564 * 25e-9, )"
   ]
  },
  {
   "cell_type": "markdown",
   "metadata": {},
   "source": [
    "4. Create a new column with the absolute time in ns (as a combination of the other three columns with timing information)."
   ]
  },
  {
   "cell_type": "code",
   "execution_count": 6,
   "metadata": {},
   "outputs": [
    {
     "data": {
      "text/html": [
       "<div>\n",
       "<style scoped>\n",
       "    .dataframe tbody tr th:only-of-type {\n",
       "        vertical-align: middle;\n",
       "    }\n",
       "\n",
       "    .dataframe tbody tr th {\n",
       "        vertical-align: top;\n",
       "    }\n",
       "\n",
       "    .dataframe thead th {\n",
       "        text-align: right;\n",
       "    }\n",
       "</style>\n",
       "<table border=\"1\" class=\"dataframe\">\n",
       "  <thead>\n",
       "    <tr style=\"text-align: right;\">\n",
       "      <th></th>\n",
       "      <th>HEAD</th>\n",
       "      <th>FPGA</th>\n",
       "      <th>TDC_CHANNEL</th>\n",
       "      <th>ORBIT_CNT</th>\n",
       "      <th>BX_COUNTER</th>\n",
       "      <th>TDC_MEAS</th>\n",
       "      <th>ABS_TIME</th>\n",
       "    </tr>\n",
       "  </thead>\n",
       "  <tbody>\n",
       "    <tr>\n",
       "      <th>0</th>\n",
       "      <td>1</td>\n",
       "      <td>0</td>\n",
       "      <td>123</td>\n",
       "      <td>3869200167</td>\n",
       "      <td>2374</td>\n",
       "      <td>26</td>\n",
       "      <td>0.000059</td>\n",
       "    </tr>\n",
       "    <tr>\n",
       "      <th>1</th>\n",
       "      <td>1</td>\n",
       "      <td>0</td>\n",
       "      <td>124</td>\n",
       "      <td>3869200167</td>\n",
       "      <td>2374</td>\n",
       "      <td>27</td>\n",
       "      <td>0.000059</td>\n",
       "    </tr>\n",
       "    <tr>\n",
       "      <th>2</th>\n",
       "      <td>1</td>\n",
       "      <td>0</td>\n",
       "      <td>63</td>\n",
       "      <td>3869200167</td>\n",
       "      <td>2553</td>\n",
       "      <td>28</td>\n",
       "      <td>0.000064</td>\n",
       "    </tr>\n",
       "    <tr>\n",
       "      <th>3</th>\n",
       "      <td>1</td>\n",
       "      <td>0</td>\n",
       "      <td>64</td>\n",
       "      <td>3869200167</td>\n",
       "      <td>2558</td>\n",
       "      <td>19</td>\n",
       "      <td>0.000064</td>\n",
       "    </tr>\n",
       "    <tr>\n",
       "      <th>4</th>\n",
       "      <td>1</td>\n",
       "      <td>0</td>\n",
       "      <td>64</td>\n",
       "      <td>3869200167</td>\n",
       "      <td>2760</td>\n",
       "      <td>25</td>\n",
       "      <td>0.000069</td>\n",
       "    </tr>\n",
       "    <tr>\n",
       "      <th>...</th>\n",
       "      <td>...</td>\n",
       "      <td>...</td>\n",
       "      <td>...</td>\n",
       "      <td>...</td>\n",
       "      <td>...</td>\n",
       "      <td>...</td>\n",
       "      <td>...</td>\n",
       "    </tr>\n",
       "    <tr>\n",
       "      <th>662980</th>\n",
       "      <td>1</td>\n",
       "      <td>1</td>\n",
       "      <td>10</td>\n",
       "      <td>3869206718</td>\n",
       "      <td>2851</td>\n",
       "      <td>26</td>\n",
       "      <td>0.583765</td>\n",
       "    </tr>\n",
       "    <tr>\n",
       "      <th>662981</th>\n",
       "      <td>1</td>\n",
       "      <td>1</td>\n",
       "      <td>8</td>\n",
       "      <td>3869206718</td>\n",
       "      <td>2863</td>\n",
       "      <td>23</td>\n",
       "      <td>0.583766</td>\n",
       "    </tr>\n",
       "    <tr>\n",
       "      <th>662982</th>\n",
       "      <td>1</td>\n",
       "      <td>1</td>\n",
       "      <td>139</td>\n",
       "      <td>3869206718</td>\n",
       "      <td>2867</td>\n",
       "      <td>0</td>\n",
       "      <td>0.583766</td>\n",
       "    </tr>\n",
       "    <tr>\n",
       "      <th>662983</th>\n",
       "      <td>1</td>\n",
       "      <td>1</td>\n",
       "      <td>11</td>\n",
       "      <td>3869206718</td>\n",
       "      <td>2865</td>\n",
       "      <td>19</td>\n",
       "      <td>0.583766</td>\n",
       "    </tr>\n",
       "    <tr>\n",
       "      <th>662984</th>\n",
       "      <td>1</td>\n",
       "      <td>0</td>\n",
       "      <td>32</td>\n",
       "      <td>3869206718</td>\n",
       "      <td>3239</td>\n",
       "      <td>14</td>\n",
       "      <td>0.583775</td>\n",
       "    </tr>\n",
       "  </tbody>\n",
       "</table>\n",
       "<p>662985 rows × 7 columns</p>\n",
       "</div>"
      ],
      "text/plain": [
       "        HEAD  FPGA  TDC_CHANNEL   ORBIT_CNT  BX_COUNTER  TDC_MEAS  ABS_TIME\n",
       "0          1     0          123  3869200167        2374        26  0.000059\n",
       "1          1     0          124  3869200167        2374        27  0.000059\n",
       "2          1     0           63  3869200167        2553        28  0.000064\n",
       "3          1     0           64  3869200167        2558        19  0.000064\n",
       "4          1     0           64  3869200167        2760        25  0.000069\n",
       "...      ...   ...          ...         ...         ...       ...       ...\n",
       "662980     1     1           10  3869206718        2851        26  0.583765\n",
       "662981     1     1            8  3869206718        2863        23  0.583766\n",
       "662982     1     1          139  3869206718        2867         0  0.583766\n",
       "662983     1     1           11  3869206718        2865        19  0.583766\n",
       "662984     1     0           32  3869206718        3239        14  0.583775\n",
       "\n",
       "[662985 rows x 7 columns]"
      ]
     },
     "execution_count": 6,
     "metadata": {},
     "output_type": "execute_result"
    }
   ],
   "source": [
    "df['ABS_TIME'] = ((df['ORBIT_CNT'] - df['ORBIT_CNT'].min()) * 3564 * 25 +\n",
    "                            df['BX_COUNTER'] * 25 + \n",
    "                            df['TDC_MEAS'] * (5 / 6) )*10**-9\n",
    "df"
   ]
  },
  {
   "cell_type": "markdown",
   "metadata": {},
   "source": [
    "5. Replace the values (all 1) of the HEAD column randomly with 0 or 1"
   ]
  },
  {
   "cell_type": "code",
   "execution_count": 7,
   "metadata": {},
   "outputs": [
    {
     "data": {
      "text/html": [
       "<div>\n",
       "<style scoped>\n",
       "    .dataframe tbody tr th:only-of-type {\n",
       "        vertical-align: middle;\n",
       "    }\n",
       "\n",
       "    .dataframe tbody tr th {\n",
       "        vertical-align: top;\n",
       "    }\n",
       "\n",
       "    .dataframe thead th {\n",
       "        text-align: right;\n",
       "    }\n",
       "</style>\n",
       "<table border=\"1\" class=\"dataframe\">\n",
       "  <thead>\n",
       "    <tr style=\"text-align: right;\">\n",
       "      <th></th>\n",
       "      <th>HEAD</th>\n",
       "      <th>FPGA</th>\n",
       "      <th>TDC_CHANNEL</th>\n",
       "      <th>ORBIT_CNT</th>\n",
       "      <th>BX_COUNTER</th>\n",
       "      <th>TDC_MEAS</th>\n",
       "      <th>ABS_TIME</th>\n",
       "    </tr>\n",
       "  </thead>\n",
       "  <tbody>\n",
       "    <tr>\n",
       "      <th>0</th>\n",
       "      <td>1</td>\n",
       "      <td>0</td>\n",
       "      <td>123</td>\n",
       "      <td>3869200167</td>\n",
       "      <td>2374</td>\n",
       "      <td>26</td>\n",
       "      <td>0.000059</td>\n",
       "    </tr>\n",
       "    <tr>\n",
       "      <th>1</th>\n",
       "      <td>1</td>\n",
       "      <td>0</td>\n",
       "      <td>124</td>\n",
       "      <td>3869200167</td>\n",
       "      <td>2374</td>\n",
       "      <td>27</td>\n",
       "      <td>0.000059</td>\n",
       "    </tr>\n",
       "    <tr>\n",
       "      <th>2</th>\n",
       "      <td>1</td>\n",
       "      <td>0</td>\n",
       "      <td>63</td>\n",
       "      <td>3869200167</td>\n",
       "      <td>2553</td>\n",
       "      <td>28</td>\n",
       "      <td>0.000064</td>\n",
       "    </tr>\n",
       "    <tr>\n",
       "      <th>3</th>\n",
       "      <td>0</td>\n",
       "      <td>0</td>\n",
       "      <td>64</td>\n",
       "      <td>3869200167</td>\n",
       "      <td>2558</td>\n",
       "      <td>19</td>\n",
       "      <td>0.000064</td>\n",
       "    </tr>\n",
       "    <tr>\n",
       "      <th>4</th>\n",
       "      <td>1</td>\n",
       "      <td>0</td>\n",
       "      <td>64</td>\n",
       "      <td>3869200167</td>\n",
       "      <td>2760</td>\n",
       "      <td>25</td>\n",
       "      <td>0.000069</td>\n",
       "    </tr>\n",
       "    <tr>\n",
       "      <th>...</th>\n",
       "      <td>...</td>\n",
       "      <td>...</td>\n",
       "      <td>...</td>\n",
       "      <td>...</td>\n",
       "      <td>...</td>\n",
       "      <td>...</td>\n",
       "      <td>...</td>\n",
       "    </tr>\n",
       "    <tr>\n",
       "      <th>662980</th>\n",
       "      <td>1</td>\n",
       "      <td>1</td>\n",
       "      <td>10</td>\n",
       "      <td>3869206718</td>\n",
       "      <td>2851</td>\n",
       "      <td>26</td>\n",
       "      <td>0.583765</td>\n",
       "    </tr>\n",
       "    <tr>\n",
       "      <th>662981</th>\n",
       "      <td>1</td>\n",
       "      <td>1</td>\n",
       "      <td>8</td>\n",
       "      <td>3869206718</td>\n",
       "      <td>2863</td>\n",
       "      <td>23</td>\n",
       "      <td>0.583766</td>\n",
       "    </tr>\n",
       "    <tr>\n",
       "      <th>662982</th>\n",
       "      <td>1</td>\n",
       "      <td>1</td>\n",
       "      <td>139</td>\n",
       "      <td>3869206718</td>\n",
       "      <td>2867</td>\n",
       "      <td>0</td>\n",
       "      <td>0.583766</td>\n",
       "    </tr>\n",
       "    <tr>\n",
       "      <th>662983</th>\n",
       "      <td>0</td>\n",
       "      <td>1</td>\n",
       "      <td>11</td>\n",
       "      <td>3869206718</td>\n",
       "      <td>2865</td>\n",
       "      <td>19</td>\n",
       "      <td>0.583766</td>\n",
       "    </tr>\n",
       "    <tr>\n",
       "      <th>662984</th>\n",
       "      <td>0</td>\n",
       "      <td>0</td>\n",
       "      <td>32</td>\n",
       "      <td>3869206718</td>\n",
       "      <td>3239</td>\n",
       "      <td>14</td>\n",
       "      <td>0.583775</td>\n",
       "    </tr>\n",
       "  </tbody>\n",
       "</table>\n",
       "<p>662985 rows × 7 columns</p>\n",
       "</div>"
      ],
      "text/plain": [
       "        HEAD  FPGA  TDC_CHANNEL   ORBIT_CNT  BX_COUNTER  TDC_MEAS  ABS_TIME\n",
       "0          1     0          123  3869200167        2374        26  0.000059\n",
       "1          1     0          124  3869200167        2374        27  0.000059\n",
       "2          1     0           63  3869200167        2553        28  0.000064\n",
       "3          0     0           64  3869200167        2558        19  0.000064\n",
       "4          1     0           64  3869200167        2760        25  0.000069\n",
       "...      ...   ...          ...         ...         ...       ...       ...\n",
       "662980     1     1           10  3869206718        2851        26  0.583765\n",
       "662981     1     1            8  3869206718        2863        23  0.583766\n",
       "662982     1     1          139  3869206718        2867         0  0.583766\n",
       "662983     0     1           11  3869206718        2865        19  0.583766\n",
       "662984     0     0           32  3869206718        3239        14  0.583775\n",
       "\n",
       "[662985 rows x 7 columns]"
      ]
     },
     "execution_count": 7,
     "metadata": {},
     "output_type": "execute_result"
    }
   ],
   "source": [
    "df['HEAD'] = np.random.randint(0, 2, len(df))\n",
    "df"
   ]
  },
  {
   "cell_type": "markdown",
   "metadata": {},
   "source": [
    "6. Create a new DataFrame that contains only the rows with HEAD=1."
   ]
  },
  {
   "cell_type": "code",
   "execution_count": 8,
   "metadata": {},
   "outputs": [
    {
     "data": {
      "text/html": [
       "<div>\n",
       "<style scoped>\n",
       "    .dataframe tbody tr th:only-of-type {\n",
       "        vertical-align: middle;\n",
       "    }\n",
       "\n",
       "    .dataframe tbody tr th {\n",
       "        vertical-align: top;\n",
       "    }\n",
       "\n",
       "    .dataframe thead th {\n",
       "        text-align: right;\n",
       "    }\n",
       "</style>\n",
       "<table border=\"1\" class=\"dataframe\">\n",
       "  <thead>\n",
       "    <tr style=\"text-align: right;\">\n",
       "      <th></th>\n",
       "      <th>HEAD</th>\n",
       "      <th>FPGA</th>\n",
       "      <th>TDC_CHANNEL</th>\n",
       "      <th>ORBIT_CNT</th>\n",
       "      <th>BX_COUNTER</th>\n",
       "      <th>TDC_MEAS</th>\n",
       "      <th>ABS_TIME</th>\n",
       "    </tr>\n",
       "  </thead>\n",
       "  <tbody>\n",
       "    <tr>\n",
       "      <th>0</th>\n",
       "      <td>1</td>\n",
       "      <td>0</td>\n",
       "      <td>123</td>\n",
       "      <td>3869200167</td>\n",
       "      <td>2374</td>\n",
       "      <td>26</td>\n",
       "      <td>0.000059</td>\n",
       "    </tr>\n",
       "    <tr>\n",
       "      <th>1</th>\n",
       "      <td>1</td>\n",
       "      <td>0</td>\n",
       "      <td>124</td>\n",
       "      <td>3869200167</td>\n",
       "      <td>2374</td>\n",
       "      <td>27</td>\n",
       "      <td>0.000059</td>\n",
       "    </tr>\n",
       "    <tr>\n",
       "      <th>2</th>\n",
       "      <td>1</td>\n",
       "      <td>0</td>\n",
       "      <td>63</td>\n",
       "      <td>3869200167</td>\n",
       "      <td>2553</td>\n",
       "      <td>28</td>\n",
       "      <td>0.000064</td>\n",
       "    </tr>\n",
       "    <tr>\n",
       "      <th>4</th>\n",
       "      <td>1</td>\n",
       "      <td>0</td>\n",
       "      <td>64</td>\n",
       "      <td>3869200167</td>\n",
       "      <td>2760</td>\n",
       "      <td>25</td>\n",
       "      <td>0.000069</td>\n",
       "    </tr>\n",
       "    <tr>\n",
       "      <th>6</th>\n",
       "      <td>1</td>\n",
       "      <td>0</td>\n",
       "      <td>61</td>\n",
       "      <td>3869200167</td>\n",
       "      <td>2772</td>\n",
       "      <td>14</td>\n",
       "      <td>0.000069</td>\n",
       "    </tr>\n",
       "    <tr>\n",
       "      <th>...</th>\n",
       "      <td>...</td>\n",
       "      <td>...</td>\n",
       "      <td>...</td>\n",
       "      <td>...</td>\n",
       "      <td>...</td>\n",
       "      <td>...</td>\n",
       "      <td>...</td>\n",
       "    </tr>\n",
       "    <tr>\n",
       "      <th>662976</th>\n",
       "      <td>1</td>\n",
       "      <td>0</td>\n",
       "      <td>63</td>\n",
       "      <td>3869206718</td>\n",
       "      <td>2747</td>\n",
       "      <td>11</td>\n",
       "      <td>0.583763</td>\n",
       "    </tr>\n",
       "    <tr>\n",
       "      <th>662979</th>\n",
       "      <td>1</td>\n",
       "      <td>0</td>\n",
       "      <td>78</td>\n",
       "      <td>3869206718</td>\n",
       "      <td>2852</td>\n",
       "      <td>16</td>\n",
       "      <td>0.583765</td>\n",
       "    </tr>\n",
       "    <tr>\n",
       "      <th>662980</th>\n",
       "      <td>1</td>\n",
       "      <td>1</td>\n",
       "      <td>10</td>\n",
       "      <td>3869206718</td>\n",
       "      <td>2851</td>\n",
       "      <td>26</td>\n",
       "      <td>0.583765</td>\n",
       "    </tr>\n",
       "    <tr>\n",
       "      <th>662981</th>\n",
       "      <td>1</td>\n",
       "      <td>1</td>\n",
       "      <td>8</td>\n",
       "      <td>3869206718</td>\n",
       "      <td>2863</td>\n",
       "      <td>23</td>\n",
       "      <td>0.583766</td>\n",
       "    </tr>\n",
       "    <tr>\n",
       "      <th>662982</th>\n",
       "      <td>1</td>\n",
       "      <td>1</td>\n",
       "      <td>139</td>\n",
       "      <td>3869206718</td>\n",
       "      <td>2867</td>\n",
       "      <td>0</td>\n",
       "      <td>0.583766</td>\n",
       "    </tr>\n",
       "  </tbody>\n",
       "</table>\n",
       "<p>332059 rows × 7 columns</p>\n",
       "</div>"
      ],
      "text/plain": [
       "        HEAD  FPGA  TDC_CHANNEL   ORBIT_CNT  BX_COUNTER  TDC_MEAS  ABS_TIME\n",
       "0          1     0          123  3869200167        2374        26  0.000059\n",
       "1          1     0          124  3869200167        2374        27  0.000059\n",
       "2          1     0           63  3869200167        2553        28  0.000064\n",
       "4          1     0           64  3869200167        2760        25  0.000069\n",
       "6          1     0           61  3869200167        2772        14  0.000069\n",
       "...      ...   ...          ...         ...         ...       ...       ...\n",
       "662976     1     0           63  3869206718        2747        11  0.583763\n",
       "662979     1     0           78  3869206718        2852        16  0.583765\n",
       "662980     1     1           10  3869206718        2851        26  0.583765\n",
       "662981     1     1            8  3869206718        2863        23  0.583766\n",
       "662982     1     1          139  3869206718        2867         0  0.583766\n",
       "\n",
       "[332059 rows x 7 columns]"
      ]
     },
     "execution_count": 8,
     "metadata": {},
     "output_type": "execute_result"
    }
   ],
   "source": [
    "df_ = df[df['HEAD'] == 1]\n",
    "df_"
   ]
  },
  {
   "cell_type": "markdown",
   "metadata": {},
   "source": [
    "7. Make two occupancy plots (one for each FPGA), i.e. plot the number of counts per TDC channel"
   ]
  },
  {
   "cell_type": "code",
   "execution_count": 9,
   "metadata": {},
   "outputs": [
    {
     "data": {
      "image/png": "[encoded data removed]",
      "text/plain": [
       "<Figure size 432x288 with 1 Axes>"
      ]
     },
     "metadata": {
      "needs_background": "dark"
     },
     "output_type": "display_data"
    }
   ],
   "source": [
    "df[df[\"FPGA\"] == 0].groupby('TDC_CHANNEL').count()['HEAD'].plot(label = \"FPGA 1\")\n",
    "df[df[\"FPGA\"] == 1].groupby('TDC_CHANNEL').count()['HEAD'].plot(label = \"FPGA 2\")\n",
    "plt.legend()\n",
    "plt.show()"
   ]
  },
  {
   "cell_type": "markdown",
   "metadata": {},
   "source": [
    "8. Use the groupby method to find out the noisy channels, i.e. the TDC channels with most counts (say the top 3)"
   ]
  },
  {
   "cell_type": "code",
   "execution_count": 10,
   "metadata": {},
   "outputs": [
    {
     "data": {
      "text/plain": [
       "TDC_CHANNEL\n",
       "139    55041\n",
       "64     33203\n",
       "63     32576\n",
       "Name: HEAD, dtype: int64"
      ]
     },
     "execution_count": 10,
     "metadata": {},
     "output_type": "execute_result"
    }
   ],
   "source": [
    "df.groupby('TDC_CHANNEL').count().sort_values(by = 'HEAD', ascending = False)[\"HEAD\"].head(3)\n",
    "#indeed, the first tree are 139, 64, 63"
   ]
  },
  {
   "cell_type": "markdown",
   "metadata": {},
   "source": [
    "9. Count the number of unique orbits. Count the number of unique orbits with at least one measurement from TDC_CHANNEL=139"
   ]
  },
  {
   "cell_type": "code",
   "execution_count": 11,
   "metadata": {},
   "outputs": [
    {
     "name": "stdout",
     "output_type": "stream",
     "text": [
      "The number of unique orbit is:  6548\n",
      "The number of unique orbits with at least one measurement from TDC_CHANNEL = 139:  6523\n",
      "The number of unique orbit is:  11001\n",
      "The number of unique orbits with at least one measurement from TDC_CHANNEL = 139:  10976\n"
     ]
    }
   ],
   "source": [
    "print('The number of unique orbit is: ',\n",
    "      df['ORBIT_CNT'].nunique())\n",
    "print('The number of unique orbits with at least one measurement from TDC_CHANNEL = 139: ',\n",
    "      df[df['TDC_CHANNEL'] == 139]['ORBIT_CNT'].nunique())\n",
    "\n",
    "print('The number of unique orbit is: ',\n",
    "      total_['ORBIT_CNT'].nunique())\n",
    "print('The number of unique orbits with at least one measurement from TDC_CHANNEL = 139: ',\n",
    "      total_[total_['TDC_CHANNEL'] == 139]['ORBIT_CNT'].nunique())"
   ]
  },
  {
   "cell_type": "code",
   "execution_count": 12,
   "metadata": {},
   "outputs": [
    {
     "name": "stdout",
     "output_type": "stream",
     "text": [
      "The number of unique orbit is:  11001\n"
     ]
    }
   ],
   "source": [
    "import pandas as pd\n",
    "file_ = '/Users/tommasofaorlin/data/data_000637.txt'\n",
    "total_ = pd.read_csv(file_)\n",
    "\n",
    "print('The number of unique orbit is: ',\n",
    "      total_['ORBIT_CNT'].nunique())"
   ]
  }
 ],
 "metadata": {
  "kernelspec": {
   "display_name": "Python 3",
   "language": "python",
   "name": "python3"
  },
  "language_info": {
   "codemirror_mode": {
    "name": "ipython",
    "version": 3
   },
   "file_extension": ".py",
   "mimetype": "text/x-python",
   "name": "python",
   "nbconvert_exporter": "python",
   "pygments_lexer": "ipython3",
   "version": "3.7.4"
  }
 },
 "nbformat": 4,
 "nbformat_minor": 2
}
