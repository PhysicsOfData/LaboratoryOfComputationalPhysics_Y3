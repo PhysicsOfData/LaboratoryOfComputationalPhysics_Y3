{
 "cells": [
  {
   "cell_type": "markdown",
   "metadata": {},
   "source": [
    "## Pandas analysis\n",
    "\n",
    "This exercise consists in analyzing a dataset containg timing information from a series of Time-to-Digital-Converters (TDC) implemented in a couple of FPGAs. Each measurement (i.e. each row of the input file) consists of a flag that specifies the type of message ('HEAD', which in this case is always 1), two addresses of the TDC providing the signal ('FPGA' and 'TDC_CHANNEL'), and the timing information ('ORBIT_CNT', 'BX_COUNTER', and 'TDC_MEAS'). Each TDC count corresponds to 25/30 ns, whereas a unit of BX_COUNTER corresponds to 25 ns, and the ORBIT_CNT is increased every 'x' BX_COUNTER. This allows to store the time in a similar way to hours, minutes and seconds."
   ]
  },
  {
   "cell_type": "code",
   "execution_count": null,
   "metadata": {},
   "outputs": [],
   "source": [
    "# If you didn't download it yet, please get the relevant file now!\n",
    "!wget https://www.dropbox.com/s/xvjzaxzz3ysphme/data_000637.txt -P ~/data/"
   ]
  },
  {
   "cell_type": "markdown",
   "metadata": {},
   "source": [
    "1\\. Create a Pandas DataFrame reading N rows of the 'data_000637.txt' dataset. Choose N to be smaller than or equal to the maximum number of rows and larger that 10k.\n",
    "\n",
    "2\\. Find out the number of BX in a ORBIT (the value 'x').\n",
    "\n",
    "3\\. Find out how much the data taking lasted. You can either make an estimate based on the fraction of the measurements (rows) you read, or perform this check precisely by reading out the whole dataset.\n",
    "\n",
    "4\\. Create a new column with the absolute time in ns (as a combination of the other three columns with timing information).\n",
    "\n",
    "5\\. Replace the values (all 1) of the HEAD column randomly with 0 or 1.\n",
    "\n",
    "6\\. Create a new DataFrame that contains only the rows with HEAD=1.\n",
    "\n",
    "7\\. Make two occupancy plots (one for each FPGA), i.e. plot the number of counts per TDC channel\n",
    "\n",
    "8\\. Use the groupby method to find out the noisy channels, i.e. the TDC channels with most counts (say the top 3)\n",
    "\n",
    "9\\. Count the number of unique orbits. Count the number of unique orbits with at least one measurement from TDC_CHANNEL=139"
   ]
  },
  {
   "cell_type": "code",
   "execution_count": 22,
   "metadata": {},
   "outputs": [
    {
     "name": "stdout",
     "output_type": "stream",
     "text": [
      "1 ORBIT_CNT = 3564 BX_COUNTER\n",
      "\n",
      "The measurement lasted 17743914.166666668 ns\n"
     ]
    },
    {
     "data": {
      "image/png": "[encoded data removed]",
      "text/plain": [
       "<Figure size 432x288 with 1 Axes>"
      ]
     },
     "metadata": {
      "needs_background": "light"
     },
     "output_type": "display_data"
    },
    {
     "data": {
      "image/png": "[encoded data removed]",
      "text/plain": [
       "<Figure size 432x288 with 1 Axes>"
      ]
     },
     "metadata": {
      "needs_background": "light"
     },
     "output_type": "display_data"
    },
    {
     "name": "stdout",
     "output_type": "stream",
     "text": [
      "The 3 TDC channels with most counts are: (139, 64, 63)\n",
      "The number of unique orbits is 200\n",
      "The number of unique orbits having at least one measurement from TDC_CHANNEL 139 are 200\n"
     ]
    }
   ],
   "source": [
    "import pandas as pd\n",
    "import numpy as np\n",
    "import matplotlib.pyplot as plt\n",
    "np.random.seed(2005798)\n",
    "\n",
    "# Point 1\n",
    "N = 20057 # Number of taken rows\n",
    "\n",
    "df = pd.read_csv('/Users/Giacomo/Data/data_000637.txt')[0:N]\n",
    "\n",
    "# ----------------------------------\n",
    "# Point 2\n",
    "x = max(df['BX_COUNTER']) + 1\n",
    "print(\"1 ORBIT_CNT =\",x,\"BX_COUNTER\" + \"\\n\")\n",
    "\n",
    "# ----------------------------------\n",
    "# Point 3\n",
    "duration_df = abs(df.loc[0] - df.tail(1))\n",
    "duration = 25*x*duration_df['ORBIT_CNT'] + duration_df['BX_COUNTER'] * 25 + 25/30 * duration_df['TDC_MEAS']\n",
    "print(\"The measurement lasted\", duration[N-1],\"ns\")\n",
    "# duration_df\n",
    "\n",
    "# ----------------------------------\n",
    "# Point 4\n",
    "df['TIME'] = 25*x*df['ORBIT_CNT'] + 25 * df['BX_COUNTER'] + 25/30 * df['TDC_MEAS']\n",
    "# df\n",
    "\n",
    "# ----------------------------------\n",
    "# Point 5\n",
    "df['HEAD'] = np.random.randint(0,2,(N,1))\n",
    "# df\n",
    "\n",
    "\n",
    "# ----------------------------------\n",
    "# Point 6\n",
    "new_df = df[df['HEAD']==1]\n",
    "# new_df\n",
    "\n",
    "# ----------------------------------\n",
    "# Point 7\n",
    "FPGA0_df = df[df['FPGA']==0]\n",
    "FPGA1_df = df[df['FPGA']==1]\n",
    "FPGA0_df.hist('TDC_CHANNEL')\n",
    "plt.title('FPGA=0')\n",
    "FPGA1_df.hist('TDC_CHANNEL')\n",
    "plt.title('FPGA=1')\n",
    "plt.show()\n",
    "\n",
    "# ----------------------------------\n",
    "# Point 8\n",
    "temp_df = df.copy()\n",
    "temp_df['counter'] = 1\n",
    "grouped = temp_df.groupby('TDC_CHANNEL').sum()\n",
    "max1 = grouped[grouped['counter']==max(grouped['counter'])]\n",
    "max1 = max1.index[0]\n",
    "grouped = grouped.drop(max1)\n",
    "max2 = grouped[grouped['counter']==max(grouped['counter'])]\n",
    "max2 = max2.index[0]\n",
    "grouped = grouped.drop(max2)\n",
    "max3 = grouped[grouped['counter']==max(grouped['counter'])]\n",
    "max3 = max3.index[0]\n",
    "print(\"The 3 TDC channels with most counts are:\", (max1,max2,max3))\n",
    "\n",
    "# ----------------------------------\n",
    "# Point 9\n",
    "unique_orbits = pd.unique(df['ORBIT_CNT'])\n",
    "TDC_CN = 139                                                 #select the channel, in our case it is 139\n",
    "print(\"The number of unique orbits is\",len(unique_orbits))\n",
    "count = 0\n",
    "for element in unique_orbits:\n",
    "    temp_df = df[df['ORBIT_CNT']==element]\n",
    "    if (temp_df['TDC_CHANNEL']==TDC_CN).any():\n",
    "        count+=1\n",
    "\n",
    "print(\"The number of unique orbits having at least one measurement from TDC_CHANNEL\", TDC_CN, \"are\",count)"
   ]
  }
 ],
 "metadata": {
  "kernelspec": {
   "display_name": "Python 3",
   "language": "python",
   "name": "python3"
  },
  "language_info": {
   "codemirror_mode": {
    "name": "ipython",
    "version": 3
   },
   "file_extension": ".py",
   "mimetype": "text/x-python",
   "name": "python",
   "nbconvert_exporter": "python",
   "pygments_lexer": "ipython3",
   "version": "3.8.6"
  }
 },
 "nbformat": 4,
 "nbformat_minor": 2
}
