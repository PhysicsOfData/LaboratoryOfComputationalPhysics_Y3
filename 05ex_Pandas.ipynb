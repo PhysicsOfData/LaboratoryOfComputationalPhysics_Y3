{
 "cells": [
  {
   "cell_type": "markdown",
   "metadata": {},
   "source": [
    "## Pandas analysis\n",
    "\n",
    "This exercise consists in analyzing a dataset containg timing information from a series of Time-to-Digital-Converters (TDC) implemented in a couple of FPGAs. Each measurement (i.e. each row of the input file) consists of a flag that specifies the type of message ('HEAD', which in this case is always 1), two addresses of the TDC providing the signal ('FPGA' and 'TDC_CHANNEL'), and the timing information ('ORBIT_CNT', 'BX_COUNTER', and 'TDC_MEAS'). Each TDC count corresponds to 25/30 ns, whereas a unit of BX_COUNTER corresponds to 25 ns, and the ORBIT_CNT is increased every 'x' BX_COUNTER. This allows to store the time in a similar way to hours, minutes and seconds."
   ]
  },
  {
   "cell_type": "code",
   "execution_count": 1,
   "metadata": {},
   "outputs": [],
   "source": [
    "# If you didn't download it yet, please get the relevant file now!\n",
    "#!wget https://www.dropbox.com/s/xvjzaxzz3ysphme/data_000637.txt -P ~/data/"
   ]
  },
  {
   "cell_type": "markdown",
   "metadata": {},
   "source": [
    "1\\. Create a Pandas DataFrame reading N rows of the 'data_000637.txt' dataset. Choose N to be smaller than or equal to the maximum number of rows and larger that 10k.\n",
    "\n",
    "2\\. Find out the number of BX in a ORBIT (the value 'x').\n",
    "\n",
    "3\\. Find out how much the data taking lasted. You can either make an estimate based on the fraction of the measurements (rows) you read, or perform this check precisely by reading out the whole dataset.\n",
    "\n",
    "4\\. Create a new column with the absolute time in ns (as a combination of the other three columns with timing information).\n",
    "\n",
    "5\\. Replace the values (all 1) of the HEAD column randomly with 0 or 1.\n",
    "\n",
    "6\\. Create a new DataFrame that contains only the rows with HEAD=1.\n",
    "\n",
    "7\\. Make two occupancy plots (one for each FPGA), i.e. plot the number of counts per TDC channel\n",
    "\n",
    "8\\. Use the groupby method to find out the noisy channels, i.e. the TDC channels with most counts (say the top 3)\n",
    "\n",
    "9\\. Count the number of unique orbits. Count the number of unique orbits with at least one measurement from TDC_CHANNEL=139"
   ]
  },
  {
   "cell_type": "code",
   "execution_count": 2,
   "metadata": {},
   "outputs": [
    {
     "name": "stdout",
     "output_type": "stream",
     "text": [
      "x:  3564\n",
      "time lasted:  974130300 ns\n",
      "Noisy Channels (FPGA, TDC_CHANNEL): [(0, 139), (0, 64), (0, 63)]\n",
      "Unique Orbits:  2\n",
      "Number of unique orbits with at least one measurement from TDC_CHANNEL=139:  51\n"
     ]
    },
    {
     "data": {
      "image/png": "[encoded data removed]",
      "text/plain": [
       "<Figure size 432x288 with 2 Axes>"
      ]
     },
     "metadata": {
      "needs_background": "light"
     },
     "output_type": "display_data"
    }
   ],
   "source": [
    "#TDC_MEAS = 25/30ns (0:29)\n",
    "#BX_COUNTER = 25ns (0:3563)\n",
    "#ORBIT_CNT = 106920ns\n",
    "\n",
    "import pandas as pd\n",
    "import numpy as np\n",
    "\n",
    "TDC_unit = 25/30 #ns\n",
    "BX_unit = 25 #ns\n",
    "\n",
    "#1\n",
    "N =  13*10**5\n",
    "file_name=\"~/data/data_000637.txt\"\n",
    "data=pd.read_csv(file_name, nrows=N)\n",
    "#print(data)\n",
    "\n",
    "#2\n",
    "\n",
    "x = max(data[\"BX_COUNTER\"])+1\n",
    "print(\"x: \",x)\n",
    "ORBIT_unit = x*BX_unit\n",
    "\n",
    "#3\n",
    "\n",
    "time_lasted = (max(data[\"ORBIT_CNT\"])-min(data[\"ORBIT_CNT\"]))*ORBIT_unit\n",
    "print(\"time lasted: \",time_lasted, \"ns\")\n",
    "\n",
    "#4\n",
    "\n",
    "data[\"ABS_NS\"] = data[\"ORBIT_CNT\"]*ORBIT_unit + data[\"BX_COUNTER\"]*BX_unit + data[\"TDC_MEAS\"]*TDC_unit\n",
    "\n",
    "#5\n",
    "data_rnd = data.copy()\n",
    "data_rnd[\"HEAD\"] = np.random.randint(2, size=len(data))\n",
    "\n",
    "#6\n",
    "\n",
    "new_data = data_rnd[data_rnd[\"HEAD\"]==1]\n",
    "\n",
    "#7\n",
    "\n",
    "import matplotlib.pyplot as plt\n",
    "\n",
    "chn_occupancy = data.groupby([\"FPGA\",\"TDC_CHANNEL\"]).sum()\n",
    "\n",
    "chn_occupancy = chn_occupancy.unstack('FPGA')['HEAD'].fillna(0)\n",
    "\n",
    "chn_occupancy.plot(subplots = True)\n",
    "\n",
    "#8\n",
    "\n",
    "noisy = data.groupby([\"FPGA\",\"TDC_CHANNEL\"]).sum()\n",
    "\n",
    "noisy = [pd.DataFrame([noisy['HEAD'].nlargest(3).index]).T.unstack().iloc[i] for i in range(3)]\n",
    "\n",
    "print(\"Noisy Channels (FPGA, TDC_CHANNEL):\", noisy)\n",
    "\n",
    "\n",
    "#9\n",
    "orbit = data.groupby(\"ORBIT_CNT\").sum()[\"HEAD\"]\n",
    "unique_orbit = orbit[orbit==1]\n",
    "print(\"Unique Orbits: \", unique_orbit.size)\n",
    "\n",
    "ch139 = data[data[\"TDC_CHANNEL\"] == 139]\n",
    "orbit = ch139.groupby(\"ORBIT_CNT\").sum()[\"HEAD\"]\n",
    "unique_orbit = orbit[orbit==1]\n",
    "print(\"Number of unique orbits with at least one measurement from TDC_CHANNEL=139: \", unique_orbit.size)\n"
   ]
  }
 ],
 "metadata": {
  "kernelspec": {
   "display_name": "Python 3",
   "language": "python",
   "name": "python3"
  },
  "language_info": {
   "codemirror_mode": {
    "name": "ipython",
    "version": 3
   },
   "file_extension": ".py",
   "mimetype": "text/x-python",
   "name": "python",
   "nbconvert_exporter": "python",
   "pygments_lexer": "ipython3",
   "version": "3.8.5"
  }
 },
 "nbformat": 4,
 "nbformat_minor": 2
}
