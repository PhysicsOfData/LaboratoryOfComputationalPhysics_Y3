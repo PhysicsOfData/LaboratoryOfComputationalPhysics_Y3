{
 "cells": [
  {
   "cell_type": "markdown",
   "metadata": {},
   "source": [
    "## Pandas analysis\n",
    "\n",
    "This exercise consists in analyzing a dataset containg timing information from a series of Time-to-Digital-Converters (TDC) implemented in a couple of FPGAs. Each measurement (i.e. each row of the input file) consists of a flag that specifies the type of message ('HEAD', which in this case is always 1), two addresses of the TDC providing the signal ('FPGA' and 'TDC_CHANNEL'), and the timing information ('ORBIT_CNT', 'BX_COUNTER', and 'TDC_MEAS'). Each TDC count corresponds to 25/30 ns, whereas a unit of BX_COUNTER corresponds to 25 ns, and the ORBIT_CNT is increased every 'x' BX_COUNTER. This allows to store the time in a similar way to hours, minutes and seconds."
   ]
  },
  {
   "cell_type": "code",
   "execution_count": null,
   "metadata": {},
   "outputs": [],
   "source": [
    "# If you didn't download it yet, please get the relevant file now!\n",
    "!wget https://www.dropbox.com/s/xvjzaxzz3ysphme/data_000637.txt -P ~/LaboratoryOfComputationalPhysics_Y3/data/"
   ]
  },
  {
   "cell_type": "markdown",
   "metadata": {},
   "source": [
    "1\\. Create a Pandas DataFrame reading N rows of the 'data_000637.txt' dataset. Choose N to be smaller than or equal to the maximum number of rows and larger that 10k.\n",
    "\n",
    "2\\. Find out the number of BX in a ORBIT (the value 'x').\n",
    "\n",
    "3\\. Find out how much the data taking lasted. You can either make an estimate based on the fraction of the measurements (rows) you read, or perform this check precisely by reading out the whole dataset.\n",
    "\n",
    "4\\. Create a new column with the absolute time in ns (as a combination of the other three columns with timing information).\n",
    "\n",
    "5\\. Replace the values (all 1) of the HEAD column randomly with 0 or 1.\n",
    "\n",
    "6\\. Create a new DataFrame that contains only the rows with HEAD=1.\n",
    "\n",
    "7\\. Make two occupancy plots (one for each FPGA), i.e. plot the number of counts per TDC channel\n",
    "\n",
    "8\\. Use the groupby method to find out the noisy channels, i.e. the TDC channels with most counts (say the top 3)\n",
    "\n",
    "9\\. Count the number of unique orbits. Count the number of unique orbits with at least one measurement from TDC_CHANNEL=139"
   ]
  },
  {
   "cell_type": "code",
   "execution_count": null,
   "metadata": {},
   "outputs": [],
   "source": [
    "import pandas as pd\n",
    "import numpy as np\n",
    "import matplotlib.pyplot as plt\n",
    "\n",
    "# 1.\n",
    "file_name = 'data/data_000637.txt'\n",
    "data = pd.read_csv(file_name, nrows=20000)\n",
    "data"
   ]
  },
  {
   "cell_type": "code",
   "execution_count": null,
   "metadata": {},
   "outputs": [],
   "source": [
    "# 2.\n",
    "x = np.max(data['BX_COUNTER'])\n",
    "print('Number of BX in a ORBIT:', x)"
   ]
  },
  {
   "cell_type": "code",
   "execution_count": null,
   "metadata": {},
   "outputs": [],
   "source": [
    "# 3 and 4.\n",
    "data['TIMENS'] = data['TDC_MEAS']*25/30 + data['BX_COUNTER']*25 + (x*25)*data['ORBIT_CNT']\n",
    "min_t = np.min(data['TIMENS'])\n",
    "max_t = np.max(data['TIMENS'])\n",
    "time_t = max_t - min_t\n",
    "print('Time in milliseconds:', time_t*1e-6)"
   ]
  },
  {
   "cell_type": "code",
   "execution_count": null,
   "metadata": {},
   "outputs": [],
   "source": [
    "# 5.\n",
    "data['HEAD'] = np.random.randint( 0, 2, len(data['HEAD']))"
   ]
  },
  {
   "cell_type": "code",
   "execution_count": null,
   "metadata": {},
   "outputs": [],
   "source": [
    "# 6.\n",
    "filtered_data = data[data['HEAD'] == 1]"
   ]
  },
  {
   "cell_type": "code",
   "execution_count": null,
   "metadata": {},
   "outputs": [],
   "source": [
    "# 7.\n",
    "fpga_0 = data[data['FPGA']==0]\n",
    "fpga_1 = data[data['FPGA']==1]\n",
    "occ_0 = fpga_0['TDC_CHANNEL'].value_counts()\n",
    "occ_1 = fpga_1['TDC_CHANNEL'].value_counts()\n",
    "\n",
    "%matplotlib inline\n",
    "\n",
    "plt.scatter(np.array(occ_0.index), np.array(occ_0), s=5, label='FPGA 0')\n",
    "plt.scatter(np.array(occ_1.index), np.array(occ_1), s=5, label='FPGA 1')\n",
    "plt.xlabel('TDC_CHANNEL')\n",
    "plt.ylabel('Number of counts')\n",
    "plt.legend()"
   ]
  },
  {
   "cell_type": "code",
   "execution_count": null,
   "metadata": {},
   "outputs": [],
   "source": [
    "# 8.\n",
    "occ = data.groupby('TDC_CHANNEL').count()\n",
    "n_channels = 3\n",
    "noisest_channels = np.zeros(n_channels)\n",
    "for i in range(0, n_channels):\n",
    "    noisest_channels[i] = occ['HEAD'].idxmax()\n",
    "    occ = occ.drop(occ['HEAD'].idxmax())\n",
    "print(noisest_channels)"
   ]
  },
  {
   "cell_type": "code",
   "execution_count": null,
   "metadata": {},
   "outputs": [],
   "source": [
    "# 9.\n",
    "n_unique_orbits = data['ORBIT_CNT'].nunique()\n",
    "print('Number of unique orbits: ', n_unique_orbits)\n",
    "\n",
    "n_unique_orbits_tdc139 = data[data['TDC_CHANNEL']==139]['ORBIT_CNT'].nunique()\n",
    "print('Number of unique orbits with TDC_CHANNEL = 139:' , n_unique_orbits_tdc139)"
   ]
  },
  {
   "cell_type": "code",
   "execution_count": null,
   "metadata": {},
   "outputs": [],
   "source": []
  }
 ],
 "metadata": {
  "kernelspec": {
   "display_name": "Python 3",
   "language": "python",
   "name": "python3"
  },
  "language_info": {
   "codemirror_mode": {
    "name": "ipython",
    "version": 3
   },
   "file_extension": ".py",
   "mimetype": "text/x-python",
   "name": "python",
   "nbconvert_exporter": "python",
   "pygments_lexer": "ipython3",
   "version": "3.8.3"
  }
 },
 "nbformat": 4,
 "nbformat_minor": 2
}
