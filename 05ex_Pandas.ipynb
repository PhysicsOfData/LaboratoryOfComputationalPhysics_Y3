{
 "cells": [
  {
   "cell_type": "markdown",
   "metadata": {},
   "source": [
    "## Pandas analysis\n",
    "\n",
    "This exercise consists in analyzing a dataset containg timing information from a series of Time-to-Digital-Converters (TDC) implemented in a couple of FPGAs. Each measurement (i.e. each row of the input file) consists of a flag that specifies the type of message ('HEAD', which in this case is always 1), two addresses of the TDC providing the signal ('FPGA' and 'TDC_CHANNEL'), and the timing information ('ORBIT_CNT', 'BX_COUNTER', and 'TDC_MEAS'). Each TDC count corresponds to 25/30 ns, whereas a unit of BX_COUNTER corresponds to 25 ns, and the ORBIT_CNT is increased every 'x' BX_COUNTER. This allows to store the time in a similar way to hours, minutes and seconds."
   ]
  },
  {
   "cell_type": "code",
   "execution_count": 1,
   "metadata": {},
   "outputs": [
    {
     "name": "stderr",
     "output_type": "stream",
     "text": [
      "\"wget\" non Š riconosciuto come comando interno o esterno,\n",
      " un programma eseguibile o un file batch.\n"
     ]
    }
   ],
   "source": [
    "# If you didn't download it yet, please get the relevant file now!\n",
    "!wget https://www.dropbox.com/s/xvjzaxzz3ysphme/data_000637.txt -P ~/data/"
   ]
  },
  {
   "cell_type": "markdown",
   "metadata": {},
   "source": [
    "1\\. Create a Pandas DataFrame reading N rows of the 'data_000637.txt' dataset. Choose N to be smaller than or equal to the maximum number of rows and larger that 10k.\n",
    "\n",
    "2\\. Find out the number of BX in a ORBIT (the value 'x').\n",
    "\n",
    "3\\. Find out how much the data taking lasted. You can either make an estimate based on the fraction of the measurements (rows) you read, or perform this check precisely by reading out the whole dataset.\n",
    "\n",
    "4\\. Create a new column with the absolute time in ns (as a combination of the other three columns with timing information).\n",
    "\n",
    "5\\. Replace the values (all 1) of the HEAD column randomly with 0 or 1.\n",
    "\n",
    "6\\. Create a new DataFrame that contains only the rows with HEAD=1.\n",
    "\n",
    "7\\. Make two occupancy plots (one for each FPGA), i.e. plot the number of counts per TDC channel\n",
    "\n",
    "8\\. Use the groupby method to find out the noisy channels, i.e. the TDC channels with most counts (say the top 3)\n",
    "\n",
    "9\\. Count the number of unique orbits. Count the number of unique orbits with at least one measurement from TDC_CHANNEL=139"
   ]
  },
  {
   "cell_type": "code",
   "execution_count": 12,
   "metadata": {},
   "outputs": [
    {
     "name": "stdout",
     "output_type": "stream",
     "text": [
      "Total rows in file: 1310720\n",
      "We chose 660360 rows\n",
      "        HEAD  FPGA  TDC_CHANNEL   ORBIT_CNT  BX_COUNTER  TDC_MEAS\n",
      "0          1     0          123  3869200167        2374        26\n",
      "1          1     0          124  3869200167        2374        27\n",
      "2          1     0           63  3869200167        2553        28\n",
      "3          1     0           64  3869200167        2558        19\n",
      "4          1     0           64  3869200167        2760        25\n",
      "...      ...   ...          ...         ...         ...       ...\n",
      "660355     1     0           60  3869206700        1943         3\n",
      "660356     1     0           37  3869206700        1944        17\n",
      "660357     1     0           58  3869206700        1953        22\n",
      "660358     1     0           61  3869206700        2089        22\n",
      "660359     1     0           59  3869206700        2094        13\n",
      "\n",
      "[660360 rows x 6 columns]\n",
      "BX in a ORBIT = 3564\n",
      "Data talking lasted 0.9804564 seconds\n",
      "Absolute time (ns) =\n",
      "0         3.447457e+14\n",
      "1         3.447457e+14\n",
      "2         3.447457e+14\n",
      "3         3.447457e+14\n",
      "4         3.447457e+14\n",
      "              ...     \n",
      "660355    3.447463e+14\n",
      "660356    3.447463e+14\n",
      "660357    3.447463e+14\n",
      "660358    3.447463e+14\n",
      "660359    3.447463e+14\n",
      "Length: 660360, dtype: float64\n",
      "Max value in TDC_CHANNEL: 139\n",
      "Min value in TDC_CHANNEL: 1\n",
      "Dataframe reordered by most noisy TDC channels\n",
      "              HEAD  FPGA        ORBIT_CNT  BX_COUNTER  TDC_MEAS\n",
      "TDC_CHANNEL                                                    \n",
      "139          27399  8258  106012306299026    48921996         0\n",
      "64           16695   371   64596352350533    29949191    244065\n",
      "63           16404   230   63470414220798    29401636    239275\n",
      "62           12420   269   48055507632480    22214372    180934\n",
      "61           12360   186   47823355326243    22289700    179954\n",
      "...            ...   ...              ...         ...       ...\n",
      "125            149   149     576511310682      277599      2004\n",
      "138             18     9      69645667118       25102       112\n",
      "130             14     8      54168843402       25873       217\n",
      "137             11     7      42561229409       14244       127\n",
      "129              7     6      27084421689        9463       122\n",
      "\n",
      "[133 rows x 5 columns]\n",
      "The first three noisy channels are:\n",
      "[139  64  63]\n",
      "Unique orbits (6528 total):\n",
      "[3869200167 3869200168 3869200169 ... 3869206698 3869206699 3869206700]\n",
      "Unique orbits from TDC_CHANNEL=139 (6385 total):\n",
      "[3869200167 3869200168 3869200169 ... 3869206698 3869206699 3869206700]\n"
     ]
    },
    {
     "data": {
      "image/png": "[encoded data removed]",
      "text/plain": [
       "<Figure size 1080x360 with 1 Axes>"
      ]
     },
     "metadata": {
      "needs_background": "light"
     },
     "output_type": "display_data"
    }
   ],
   "source": [
    "import numpy as np\n",
    "import numpy.random as npr\n",
    "import matplotlib.pyplot as plt\n",
    "import pandas as pd\n",
    "\n",
    "filename = 'data_000637.txt'\n",
    "# 1\n",
    "try:\n",
    "    with open(filename) as f:\n",
    "        N_max = len(f.readlines()) - 1\n",
    "except:\n",
    "    print(f\"Error: can't open {filename}\")\n",
    "print(f\"Total rows in file: {N_max}\")\n",
    "assert(N_max > 10000)\n",
    "N = int((N_max + 10000) / 2)\n",
    "print(f\"We chose {N} rows\")\n",
    "df = pd.read_csv(filename, sep=',', nrows=N)\n",
    "print(df)\n",
    "# 2\n",
    "x = df[\"BX_COUNTER\"].max() + 1\n",
    "print(f\"BX in a ORBIT = {x}\")\n",
    "# 3\n",
    "df_all = pd.read_csv(filename, sep=',')\n",
    "assert(df_all[\"TDC_MEAS\"].max() <= 30)\n",
    "data_talking = \\\n",
    "(df_all[\"ORBIT_CNT\"].max() - df_all[\"ORBIT_CNT\"].min()) * x * 25e-9\n",
    "+ df_all[\"BX_COUNTER\"].sum() * 25e-9\n",
    "+ df_all[\"TDC_MEAS\"] * 25/30*1e-9\n",
    "print(f\"Data talking lasted {data_talking} seconds\")\n",
    "# 4\n",
    "# (Assuming we're considering first N rows)\n",
    "time = df[\"ORBIT_CNT\"] * x * 25 + df[\"BX_COUNTER\"] * 25 + df[\"TDC_MEAS\"] * 25/30\n",
    "print(\"Absolute time (ns) =\")\n",
    "print(time)\n",
    "# 5\n",
    "rng = npr.default_rng()\n",
    "df[\"HEAD\"] = rng.integers(0, 2, df[\"HEAD\"].shape[0], dtype=np.int)\n",
    "# 6\n",
    "df2 = df[df[\"HEAD\"] == 1]\n",
    "assert(df2[\"HEAD\"].shape[0] == np.sum(df[\"HEAD\"]))\n",
    "# Assuming we're using new DataFrame from now on\n",
    "df = df2\n",
    "# 7\n",
    "fpga0 = df[df[\"FPGA\"] == 0]\n",
    "fpga1 = df[df[\"FPGA\"] == 1]\n",
    "#print(fpga0); print(fpga1)\n",
    "max_TDC = np.max(df[\"TDC_CHANNEL\"])\n",
    "print(f\"Max value in TDC_CHANNEL: {max_TDC}\")\n",
    "min_TDC = np.min(df[\"TDC_CHANNEL\"])\n",
    "print(f\"Min value in TDC_CHANNEL: {min_TDC}\")\n",
    "# We plot all values\n",
    "plt.figure(figsize=(15,5))\n",
    "alpha_value = 0.7\n",
    "fpga0[\"TDC_CHANNEL\"].hist(bins=np.max(fpga0[\"TDC_CHANNEL\"]), alpha=alpha_value, label=\"FPGA0\")\n",
    "fpga1[\"TDC_CHANNEL\"].hist(bins=np.max(fpga1[\"TDC_CHANNEL\"]), alpha=alpha_value, label=\"FPGA1\")\n",
    "plt.legend()\n",
    "plt.title(\"Occupancy plots of FPGAs\")\n",
    "plt.xlabel(\"TDC_CHANNEL\")\n",
    "plt.ylabel(\"Counts\")\n",
    "# 8\n",
    "# We use \"HEAD\" columns to keep track of counting\n",
    "noisy = (df.groupby([\"TDC_CHANNEL\"]).sum()).sort_values(by=\"HEAD\", ascending=False)\n",
    "print(\"Dataframe reordered by most noisy TDC channels\")\n",
    "print(noisy)\n",
    "print(\"The first three noisy channels are:\")\n",
    "print(np.array(noisy.index[:3]))\n",
    "# 9\n",
    "unique = df[\"ORBIT_CNT\"].unique()\n",
    "print(f\"Unique orbits ({unique.size} total):\")\n",
    "print(unique)\n",
    "unique139 = df[df[\"TDC_CHANNEL\"] == 139][\"ORBIT_CNT\"].unique()\n",
    "print(f\"Unique orbits from TDC_CHANNEL=139 ({unique139.size} total):\")\n",
    "print(unique139)"
   ]
  }
 ],
 "metadata": {
  "kernelspec": {
   "display_name": "Python 3",
   "language": "python",
   "name": "python3"
  },
  "language_info": {
   "codemirror_mode": {
    "name": "ipython",
    "version": 3
   },
   "file_extension": ".py",
   "mimetype": "text/x-python",
   "name": "python",
   "nbconvert_exporter": "python",
   "pygments_lexer": "ipython3",
   "version": "3.8.5"
  }
 },
 "nbformat": 4,
 "nbformat_minor": 2
}
