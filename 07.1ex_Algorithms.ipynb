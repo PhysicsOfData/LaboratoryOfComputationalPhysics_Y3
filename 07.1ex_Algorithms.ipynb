{
 "cells": [
  {
   "cell_type": "markdown",
   "metadata": {},
   "source": [
    "1\\. **PCA on 3D dataset**\n",
    "\n",
    "* Generate a dataset with 3 features each with N entries (N being ${\\cal O}(1000)$). With $N(\\mu,\\sigma)$ the normali distribution with mean $\\mu$ and $\\sigma$  standard deviation, generate the 3 variables $x_{1,2,3}$ such that:\n",
    "    * $x_1$ is distributed as $N(0,1)$\n",
    "    * $x_2$ is distributed as $x_1+N(0,3)$\n",
    "    * $x_3$ is given by $2x_1+x_2$\n",
    "* Find the eigenvectors and eigenvalues of the covariance matrix of the dataset\n",
    "* Find the eigenvectors and eigenvalues using SVD. Check that the two procedures yield to same result\n",
    "* What percent of the total dataset's variability is explained by the principal components? Given how the dataset was constructed, do these make sense? Reduce the dimensionality of the system so that at least 99% of the total variability is retained.\n",
    "* Redefine the data in the basis yielded by the PCA procedure\n",
    "* Plot the data points in the original and the new coordiantes as a set of scatter plots. Your final figure should have 2 rows of 3 plots each, where the columns show the (0,1), (0,2) and (1,2) proejctions.\n"
   ]
  },
  {
   "cell_type": "code",
   "execution_count": 71,
   "metadata": {},
   "outputs": [
    {
     "name": "stdout",
     "output_type": "stream",
     "text": [
      "[2.49405099e+01 2.03924693e+00 1.33654461e-31]\n",
      "\n",
      "[ 2.49405099e+01 -2.91468937e-16  2.03924693e+00]\n",
      "\n",
      "Variability: 92.44\n",
      "Variability: 7.55\n",
      "Variability: 0.0\n"
     ]
    },
    {
     "data": {
      "text/plain": [
       "array([[-2.67642883e+01, -1.27681653e+02],\n",
       "       [ 3.60589533e+01, -4.54320603e+01],\n",
       "       [ 1.37806433e-14, -7.50510765e-14],\n",
       "       ...,\n",
       "       [-1.55431223e-15,  1.77635684e-15],\n",
       "       [ 6.66133815e-16, -4.44089210e-16],\n",
       "       [ 3.33066907e-16,  8.88178420e-16]])"
      ]
     },
     "execution_count": 71,
     "metadata": {},
     "output_type": "execute_result"
    }
   ],
   "source": [
    "import numpy as np\n",
    "import pandas as pd\n",
    "\n",
    "x_1 = np.random.normal(0,1,size = [2000])\n",
    "x_1 = x_1 - np.average(x_1)\n",
    "x_2 = x_1 + np.random.normal(0,3,[2000])\n",
    "x_2 = x_2 - np.average(x_2)\n",
    "x_3 = 2*x_1+x_2\n",
    "x_3 = x_3 - np.average(x_3)\n",
    "df = np.vstack([x_1,x_2,x_3])\n",
    "df = df.T\n",
    "\n",
    "l_cov, V_cov = np.linalg.eig(np.cov(df.T))\n",
    "U, spectrum, Vt = np.linalg.svd(df)\n",
    "\n",
    "l_svd = spectrum**2/(len(df)-1)\n",
    "V_svd = U\n",
    "\n",
    "print(l_svd)\n",
    "print()\n",
    "print(l_cov)\n",
    "print()\n",
    "\n",
    "cumu_var = 0 # We start at 0 variability\n",
    "mask = np.zeros(len(l_svd), dtype='bool')\n",
    "for i, l in enumerate(l_svd):\n",
    "    var = l/np.sum(l_svd)        \n",
    "    print(f'Variability: {var*10000//1/100}')\n",
    "    if cumu_var < 0.99:\n",
    "        mask[i] = True\n",
    "        cumu_var += var\n",
    "new_df = V_svd.T@df\n",
    "new_df[:,mask]"
   ]
  },
  {
   "cell_type": "markdown",
   "metadata": {},
   "source": [
    "2\\. **PCA on a nD dataset**\n",
    "\n",
    "Start from the dataset you have genereted in the previous exercise and add uncorrelated random noise. Such noise should be represented by other 10 uncorrelated variables normal distributed, with standar deviation much smaller (say, a factor 50) than those used to generate the $x_1$ and $x_2$.\n",
    "\n",
    "Repeat the PCA procedure and compare the results with what you obtained before"
   ]
  },
  {
   "cell_type": "code",
   "execution_count": null,
   "metadata": {},
   "outputs": [],
   "source": []
  },
  {
   "cell_type": "markdown",
   "metadata": {},
   "source": [
    "3 \\. **Looking at an oscillating spring** (optional)\n",
    "\n",
    "Imagine you have $n$ cameras looking at a spring oscillating along the $x$ axis. Each  camera record the motion of the spring looking at it along a given direction defined by the pair $(\\theta_i, \\phi_i)$, the angles in spherical coordinates. \n",
    "\n",
    "Start from the simulation of the records (say ${\\cal O}(1000)$) of the spring's motion along the x axis, assuming a little random noise affects the measurements along the $y$. Rotate such dataset to emulate the records of each camera.\n",
    "\n",
    "Perform a Principal Component Analysis on the thus obtained dataset, aiming at finding the only one coordinate that really matters.\n"
   ]
  },
  {
   "cell_type": "markdown",
   "metadata": {},
   "source": [
    "4\\. **PCA on the MAGIC dataset** (optional)\n",
    "\n",
    "Perform a PCA on the magic04.data dataset"
   ]
  },
  {
   "cell_type": "code",
   "execution_count": null,
   "metadata": {},
   "outputs": [],
   "source": [
    "# get the dataset and its description on the proper data directory\n",
    "!wget https://archive.ics.uci.edu/ml/machine-learning-databases/magic/magic04.data -P ~/data/\n",
    "!wget https://archive.ics.uci.edu/ml/machine-learning-databases/magic/magic04.names -P ~/data/ "
   ]
  }
 ],
 "metadata": {
  "kernelspec": {
   "display_name": "Python 3",
   "language": "python",
   "name": "python3"
  },
  "language_info": {
   "codemirror_mode": {
    "name": "ipython",
    "version": 3
   },
   "file_extension": ".py",
   "mimetype": "text/x-python",
   "name": "python",
   "nbconvert_exporter": "python",
   "pygments_lexer": "ipython3",
   "version": "3.7.3"
  }
 },
 "nbformat": 4,
 "nbformat_minor": 2
}
