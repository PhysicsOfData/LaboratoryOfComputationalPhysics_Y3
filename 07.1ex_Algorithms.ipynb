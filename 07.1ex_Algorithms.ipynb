{
 "cells": [
  {
   "cell_type": "markdown",
   "metadata": {},
   "source": [
    "1\\. **PCA on 3D dataset**\n",
    "\n",
    "* Generate a dataset with 3 features each with N entries (N being ${\\cal O}(1000)$). With $N(\\mu,\\sigma)$ the normali distribution with mean $\\mu$ and $\\sigma$  standard deviation, generate the 3 variables $x_{1,2,3}$ such that:\n",
    "    * $x_1$ is distributed as $N(0,1)$\n",
    "    * $x_2$ is distributed as $x_1+N(0,3)$\n",
    "    * $x_3$ is given by $2x_1+x_2$\n",
    "* Find the eigenvectors and eigenvalues of the covariance matrix of the dataset\n",
    "* Find the eigenvectors and eigenvalues using SVD. Check that the two procedures yield to same result\n",
    "* What percent of the total dataset's variability is explained by the principal components? Given how the dataset was constructed, do these make sense? Reduce the dimensionality of the system so that at least 99% of the total variability is retained.\n",
    "* Redefine the data in the basis yielded by the PCA procedure\n",
    "* Plot the data points in the original and the new coordiantes as a set of scatter plots. Your final figure should have 2 rows of 3 plots each, where the columns show the (0,1), (0,2) and (1,2) proejctions.\n"
   ]
  },
  {
   "cell_type": "code",
   "execution_count": 1,
   "metadata": {},
   "outputs": [
    {
     "name": "stdout",
     "output_type": "stream",
     "text": [
      "Eigenvaues: [2.01764831e+01+0.j 2.01491916e-15+0.j 2.64357159e+00+0.j]\n",
      "[[-0.08904902 -0.81649658  0.57044159]\n",
      " [-0.60959639 -0.40824829 -0.67950392]\n",
      " [-0.78769443  0.40824829  0.46137926]]\n",
      "Eigenvalues : \n",
      " [2.01764838e+01 2.64467175e+00 3.04297028e-31]\n"
     ]
    }
   ],
   "source": [
    "import numpy as np\n",
    "import matplotlib as plt\n",
    "from scipy import linalg as la\n",
    "from matplotlib import pyplot \n",
    "import pandas as pd\n",
    "\n",
    "##\n",
    "mean = 0\n",
    "std_1 = 1\n",
    "std_2 = 3\n",
    "N = 1000\n",
    "\n",
    "x1 = np.random.normal(mean,std_1,N)\n",
    "x2 = np.random.normal(mean,std_2,N)\n",
    "x3 = 2*x1 + x2\n",
    "\n",
    "m = pd.DataFrame({'x1':x1,'x2':x2,'x3':x3})\n",
    "m\n",
    "\n",
    "##\n",
    "\n",
    "cov_m = np.cov(m,rowvar = False)\n",
    "l,V = la.eig(cov_m)\n",
    "print('Eigenvaues:',l)\n",
    "print(V)\n",
    "\n",
    "##\n",
    "u,l_svd,vt = la.svd(m)\n",
    "l_svd = l_svd**2/(N-1)\n",
    "V_svd = vt\n",
    "print(\"Eigenvalues : \\n\", l_svd)"
   ]
  },
  {
   "cell_type": "markdown",
   "metadata": {},
   "source": [
    "2\\. **PCA on a nD dataset**\n",
    "\n",
    "Start from the dataset you have genereted in the previous exercise and add uncorrelated random noise. Such noise should be represented by other 10 uncorrelated variables normal distributed, with standar deviation much smaller (say, a factor 50) than those used to generate the $x_1$ and $x_2$.\n",
    "\n",
    "Repeat the PCA procedure and compare the results with what you obtained before"
   ]
  },
  {
   "cell_type": "code",
   "execution_count": 15,
   "metadata": {},
   "outputs": [
    {
     "name": "stdout",
     "output_type": "stream",
     "text": [
      "(13000,)\n",
      "(10, 1000)\n"
     ]
    }
   ],
   "source": [
    "N = 1000\n",
    "x_1 = np.random.normal(0,1,N)\n",
    "x_2 = x_1 + np.random.normal(0,3,N)\n",
    "\n",
    "x_3 = 2*x_1 + x_2\n",
    "\n",
    "y = np.array([np.random.normal(0,1/50,N) for i in range(10)])\n",
    "\n",
    "x = np.array([x_1,x_2,x_3])\n",
    "x = np.append(x,y)\n",
    "print(np.shape(x))\n",
    "print(np.shape(y))\n",
    "\n",
    "####\n",
    "\n",
    "cov_m = np.cov(x)\n",
    "#l, V = la.eig(cov_m)\n",
    "#lam = np.diag(1)\n",
    "#lam = lam/lam.trace()"
   ]
  },
  {
   "cell_type": "markdown",
   "metadata": {},
   "source": [
    "3 \\. **Looking at an oscillating spring** (optional)\n",
    "\n",
    "Imagine you have $n$ cameras looking at a spring oscillating along the $x$ axis. Each  camera record the motion of the spring looking at it along a given direction defined by the pair $(\\theta_i, \\phi_i)$, the angles in spherical coordinates. \n",
    "\n",
    "Start from the simulation of the records (say ${\\cal O}(1000)$) of the spring's motion along the x axis, assuming a little random noise affects the measurements along the $y$. Rotate such dataset to emulate the records of each camera.\n",
    "\n",
    "Perform a Principal Component Analysis on the thus obtained dataset, aiming at finding the only one coordinate that really matters.\n"
   ]
  },
  {
   "cell_type": "code",
   "execution_count": null,
   "metadata": {},
   "outputs": [],
   "source": []
  },
  {
   "cell_type": "markdown",
   "metadata": {},
   "source": [
    "4\\. **PCA on the MAGIC dataset** (optional)\n",
    "\n",
    "Perform a PCA on the magic04.data dataset"
   ]
  },
  {
   "cell_type": "code",
   "execution_count": 30,
   "metadata": {},
   "outputs": [
    {
     "name": "stdout",
     "output_type": "stream",
     "text": [
      "--2020-11-24 15:33:34--  https://archive.ics.uci.edu/ml/machine-learning-databases/magic/magic04.data\n",
      "Resolving archive.ics.uci.edu (archive.ics.uci.edu)... 128.195.10.252\n",
      "Connecting to archive.ics.uci.edu (archive.ics.uci.edu)|128.195.10.252|:443... connected.\n",
      "HTTP request sent, awaiting response... 200 OK\n",
      "Length: 1477391 (1.4M) [application/x-httpd-php]\n",
      "Saving to: ‘/home/neo/data/magic04.data.1’\n",
      "\n",
      "magic04.data.1      100%[===================>]   1.41M   333KB/s    in 4.3s    \n",
      "\n",
      "2020-11-24 15:33:39 (333 KB/s) - ‘/home/neo/data/magic04.data.1’ saved [1477391/1477391]\n",
      "\n",
      "--2020-11-24 15:33:40--  https://archive.ics.uci.edu/ml/machine-learning-databases/magic/magic04.names\n",
      "Resolving archive.ics.uci.edu (archive.ics.uci.edu)... 128.195.10.252\n",
      "Connecting to archive.ics.uci.edu (archive.ics.uci.edu)|128.195.10.252|:443... connected.\n",
      "HTTP request sent, awaiting response... 200 OK\n",
      "Length: 5400 (5.3K) [application/x-httpd-php]\n",
      "Saving to: ‘/home/neo/data/magic04.names.1’\n",
      "\n",
      "magic04.names.1     100%[===================>]   5.27K  --.-KB/s    in 0.002s  \n",
      "\n",
      "2020-11-24 15:33:40 (3.22 MB/s) - ‘/home/neo/data/magic04.names.1’ saved [5400/5400]\n",
      "\n"
     ]
    }
   ],
   "source": [
    "# get the dataset and its description on the proper data directory\n",
    "!wget https://archive.ics.uci.edu/ml/machine-learning-databases/magic/magic04.data -P ~/data/\n",
    "!wget https://archive.ics.uci.edu/ml/machine-learning-databases/magic/magic04.names -P ~/data/ "
   ]
  },
  {
   "cell_type": "code",
   "execution_count": null,
   "metadata": {},
   "outputs": [],
   "source": []
  }
 ],
 "metadata": {
  "kernelspec": {
   "display_name": "Python 3",
   "language": "python",
   "name": "python3"
  },
  "language_info": {
   "codemirror_mode": {
    "name": "ipython",
    "version": 3
   },
   "file_extension": ".py",
   "mimetype": "text/x-python",
   "name": "python",
   "nbconvert_exporter": "python",
   "pygments_lexer": "ipython3",
   "version": "3.8.3"
  }
 },
 "nbformat": 4,
 "nbformat_minor": 2
}
