{
 "cells": [
  {
   "cell_type": "markdown",
   "metadata": {},
   "source": [
    "1\\. **PCA on 3D dataset**\n",
    "\n",
    "* Generate a dataset with 3 features each with N entries (N being ${\\cal O}(1000)$). With $N(\\mu,\\sigma)$ the normali distribution with mean $\\mu$ and $\\sigma$  standard deviation, generate the 3 variables $x_{1,2,3}$ such that:\n",
    "    * $x_1$ is distributed as $N(0,1)$\n",
    "    * $x_2$ is distributed as $x_1+N(0,3)$\n",
    "    * $x_3$ is given by $2x_1+x_2$\n",
    "* Find the eigenvectors and eigenvalues of the covariance matrix of the dataset\n",
    "* Find the eigenvectors and eigenvalues using SVD. Check that the two procedures yield to same result\n",
    "* What percent of the total dataset's variability is explained by the principal components? Given how the dataset was constructed, do these make sense? Reduce the dimensionality of the system so that at least 99% of the total variability is retained.\n",
    "* Redefine the data in the basis yielded by the PCA procedure\n",
    "* Plot the data points in the original and the new coordiantes as a set of scatter plots. Your final figure should have 2 rows of 3 plots each, where the columns show the (0,1), (0,2) and (1,2) proejctions.\n"
   ]
  },
  {
   "cell_type": "code",
   "execution_count": null,
   "metadata": {},
   "outputs": [],
   "source": [
    "from scipy import linalg as la\n",
    "import numpy as np\n",
    "from matplotlib import pyplot as plt"
   ]
  },
  {
   "cell_type": "code",
   "execution_count": null,
   "metadata": {},
   "outputs": [],
   "source": [
    "#Number of entries\n",
    "N = 1000\n",
    "\n",
    "x1 = np.random.normal(0, 1, N)\n",
    "x2 = x1 + np.random.normal(0, 3, N)\n",
    "x3 = 2*x1 + x2\n",
    "\n",
    "dataset = np.array([x1, x2, x3])\n",
    "\n",
    "# Covariance Matrix\n",
    "covariance_m = np.cov(dataset)\n",
    "\n",
    "# Eigenvalues & Eigenvectors\n",
    "if la.det(covariance_m) != 0:\n",
    "    l, V = la.eig(covariance_m)\n",
    "Lambda=np.diag(np.real_if_close(l))\n",
    "\n",
    "# Singular Value Decomposition\n",
    "U, spectrum, Vt = la.svd(dataset)\n",
    "l_svd = spectrum**2/(N-1)\n",
    "\n",
    "print('Eigenvalues of covariance matrix:\\n', np.real_if_close(l))\n",
    "print('\\nEigenvalues computed using SVD:\\n', l_svd )\n",
    "\n",
    "# Percentage\n",
    "print('\\nPercentage explained by the principal component: ', Lambda[0,0]/Lambda.trace())\n",
    "\n",
    "# Redefine data \n",
    "dataset_p = np.dot(V.T, dataset)\n",
    "\n",
    "# Plots \n",
    "fig, axs = plt.subplots(nrows=2, ncols=3, figsize=(15,10))\n",
    "axs[0,0].scatter(dataset[0,:], dataset[1,:])\n",
    "axs[0,1].scatter(dataset[0,:], dataset[2,:])\n",
    "axs[0,2].scatter(dataset[1,:], dataset[2,:])\n",
    "\n",
    "axs[1,0].scatter(dataset_p[0,:], dataset_p[1,:])\n",
    "axs[1,1].scatter(dataset_p[0,:], dataset_p[2,:])\n",
    "axs[1,2].scatter(dataset_p[1,:], dataset_p[2,:])"
   ]
  },
  {
   "cell_type": "markdown",
   "metadata": {},
   "source": [
    "2\\. **PCA on a nD dataset**\n",
    "\n",
    "Start from the dataset you have genereted in the previous exercise and add uncorrelated random noise. Such noise should be represented by other 10 uncorrelated variables normal distributed, with standar deviation much smaller (say, a factor 50) than those used to generate the $x_1$ and $x_2$.\n",
    "\n",
    "Repeat the PCA procedure and compare the results with what you obtained before"
   ]
  },
  {
   "cell_type": "code",
   "execution_count": null,
   "metadata": {},
   "outputs": [],
   "source": [
    "#Vectors containing noise\n",
    "noise_1 = np.zeros((10, N))\n",
    "noise_2 = np.zeros((10, N))\n",
    "noise_3 = np.zeros((10, N))\n",
    "\n",
    "for i in range(10):\n",
    "    noise_1[i] = np.random.normal(0, 1/50, N)\n",
    "    noise_2[i] = np.random.normal(0, 3/50, N)\n",
    "    noise_3[i] = np.random.normal(0, np.std(x3)/50, N)\n",
    "    \n",
    "x1_n = x1 + noise_1.sum(axis = 0)\n",
    "x2_n = x2 + noise_2.sum(axis = 0)\n",
    "x3_n = x3 + noise_3.sum(axis = 0)\n",
    "\n",
    "dataset_n = np.array([x1_n, x2_n, x3_n])\n",
    "\n",
    "#Repeat the PCA procedure\n",
    "\n",
    "# Covariance Matrix\n",
    "covariance_m = np.cov(dataset_n)\n",
    "\n",
    "# Eigenvalues & Eigenvectors\n",
    "if la.det(covariance_m) != 0:\n",
    "    l, V = la.eig(covariance_m)\n",
    "Lambda=np.diag(np.real_if_close(l))\n",
    "    \n",
    "# Singular Value Decomposition\n",
    "U, spectrum, Vt = la.svd(dataset_n)\n",
    "l_svd = spectrum**2/(N-1)\n",
    "\n",
    "print('Eigenvalues of covariance matrix:\\n', np.real_if_close(l))\n",
    "print('\\nEigenvalue computed using SVD:\\n', l_svd )\n",
    "\n",
    "# Percentage\n",
    "print('\\nPercentage explained by the principal component: ', Lambda[0,0]/Lambda.trace())\n",
    "\n",
    "# Plots \n",
    "fig, axs = plt.subplots(nrows=2, ncols=3, figsize=(15,10))\n",
    "axs[0,0].scatter(dataset_n[0,:], dataset_n[1,:])\n",
    "axs[0,1].scatter(dataset_n[0,:], dataset_n[2,:])\n",
    "axs[0,2].scatter(dataset_n[1,:], dataset_n[2,:])\n",
    "\n",
    "axs[1,0].scatter(dataset_p[0,:], dataset_p[1,:])\n",
    "axs[1,1].scatter(dataset_p[0,:], dataset_p[2,:])\n",
    "axs[1,2].scatter(dataset_p[1,:], dataset_p[2,:])"
   ]
  },
  {
   "cell_type": "markdown",
   "metadata": {},
   "source": [
    "3 \\. **Looking at an oscillating spring** (optional)\n",
    "\n",
    "Imagine you have $n$ cameras looking at a spring oscillating along the $x$ axis. Each  camera record the motion of the spring looking at it along a given direction defined by the pair $(\\theta_i, \\phi_i)$, the angles in spherical coordinates. \n",
    "\n",
    "Start from the simulation of the records (say ${\\cal O}(1000)$) of the spring's motion along the x axis, assuming a little random noise affects the measurements along the $y$. Rotate such dataset to emulate the records of each camera.\n",
    "\n",
    "Perform a Principal Component Analysis on the thus obtained dataset, aiming at finding the only one coordinate that really matters.\n"
   ]
  },
  {
   "cell_type": "markdown",
   "metadata": {},
   "source": [
    "4\\. **PCA on the MAGIC dataset** (optional)\n",
    "\n",
    "Perform a PCA on the magic04.data dataset"
   ]
  },
  {
   "cell_type": "code",
   "execution_count": null,
   "metadata": {},
   "outputs": [],
   "source": [
    "# get the dataset and its description on the proper data directory\n",
    "!wget https://archive.ics.uci.edu/ml/machine-learning-databases/magic/magic04.data -P ~/data/\n",
    "!wget https://archive.ics.uci.edu/ml/machine-learning-databases/magic/magic04.names -P ~/data/ "
   ]
  }
 ],
 "metadata": {
  "kernelspec": {
   "display_name": "Python 3",
   "language": "python",
   "name": "python3"
  },
  "language_info": {
   "codemirror_mode": {
    "name": "ipython",
    "version": 3
   },
   "file_extension": ".py",
   "mimetype": "text/x-python",
   "name": "python",
   "nbconvert_exporter": "python",
   "pygments_lexer": "ipython3",
   "version": "3.8.3"
  }
 },
 "nbformat": 4,
 "nbformat_minor": 2
}
