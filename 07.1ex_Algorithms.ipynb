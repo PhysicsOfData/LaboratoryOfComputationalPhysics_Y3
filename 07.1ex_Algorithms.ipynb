{
 "cells": [
  {
   "cell_type": "markdown",
   "metadata": {},
   "source": [
    "1\\. **PCA on 3D dataset**\n",
    "\n",
    "* Generate a dataset with 3 features each with N entries (N being ${\\cal O}(1000)$). With $N(\\mu,\\sigma)$ the normali distribution with mean $\\mu$ and $\\sigma$  standard deviation, generate the 3 variables $x_{1,2,3}$ such that:\n",
    "    * $x_1$ is distributed as $N(0,1)$\n",
    "    * $x_2$ is distributed as $x_1+N(0,3)$\n",
    "    * $x_3$ is given by $2x_1+x_2$\n",
    "* Find the eigenvectors and eigenvalues of the covariance matrix of the dataset\n",
    "* Find the eigenvectors and eigenvalues using SVD. Check that the two procedures yield to same result\n",
    "* What percent of the total dataset's variability is explained by the principal components? Given how the dataset was constructed, do these make sense? Reduce the dimensionality of the system so that at least 99% of the total variability is retained.\n",
    "* Redefine the data in the basis yielded by the PCA procedure\n",
    "* Plot the data points in the original and the new coordiantes as a set of scatter plots. Your final figure should have 2 rows of 3 plots each, where the columns show the (0,1), (0,2) and (1,2) proejctions.\n"
   ]
  },
  {
   "cell_type": "code",
   "execution_count": null,
   "metadata": {},
   "outputs": [],
   "source": [
    "import numpy as np\n",
    "import matplotlib.pyplot as plt\n",
    "from scipy import linalg as la\n",
    "import pandas as pd\n",
    "\n",
    "N = 1000\n",
    "\n",
    "x1 = np.random.normal(0, 1, N)\n",
    "x2 = x1+np.random.normal(0, 3, N)\n",
    "x3 = 2*x1+x2\n",
    "\n",
    "x = pd.DataFrame({'x1' : x1, 'x2' : x2, 'x3' : x3})\n",
    "\n",
    "cov = np.cov(x, rowvar=False)\n",
    "print(\"covariance: \\n\",cov)\n",
    "l, V = la.eig(cov)\n",
    "print(\"eigenvalue: \\n\",l)\n",
    "print(\"eigenvector: \\n\",V)"
   ]
  },
  {
   "cell_type": "code",
   "execution_count": null,
   "metadata": {},
   "outputs": [],
   "source": [
    "U, spectrum, Vt = la.svd(x.T,full_matrices=False)\n",
    "svd_l = spectrum**2/(N-1)\n",
    "print(\"Eigenvalues:\\n\", svd_l)\n",
    "print(\"Eigenvectors:\\n\", U)"
   ]
  },
  {
   "cell_type": "code",
   "execution_count": null,
   "metadata": {},
   "outputs": [],
   "source": [
    "Lambda = np.diag(svd_l)\n",
    "print (\"Covariance.trace():\\n\", cov.trace())\n",
    "print (\"Lambda.trace():\\n\", Lambda.trace())\n",
    "\n",
    "thresold=0.99\n",
    "i=0\n",
    "variability=0\n",
    "while variability<thresold:\n",
    "    variability += spectrum[i]/spectrum.sum()\n",
    "    i +=1\n",
    "\n",
    "print(\"To reach the required treshold we need \",i,\" eigenvalues\")\n",
    "print(\"Weigths first + second eigenvalues: \",variability)"
   ]
  },
  {
   "cell_type": "code",
   "execution_count": null,
   "metadata": {},
   "outputs": [],
   "source": [
    "x_rotated=np.dot(x,U)\n",
    "x_rotated=pd.DataFrame(x_rotated)\n",
    "\n",
    "fig, ax = plt.subplots(nrows=2, ncols=3, figsize=(18,10))\n",
    "grid = plt.GridSpec(2, 3, wspace=0.2, hspace=0.2)\n",
    "\n",
    "ax[0,0].scatter(x.iloc[:,0],x.iloc[:,1])\n",
    "ax[0,1].scatter(x.iloc[:,0],x.iloc[:,2])\n",
    "ax[0,2].scatter(x.iloc[:,1],x.iloc[:,2])\n",
    "ax[1,0].scatter(x_rotated.iloc[:,0],x_rotated.iloc[:,1])\n",
    "ax[1,1].scatter(x_rotated.iloc[:,0],x_rotated.iloc[:,2])\n",
    "ax[1,2].scatter(x_rotated.iloc[:,1],x_rotated.iloc[:,2])\n",
    "\n",
    "for i in range(2):\n",
    "    for j in range(3):\n",
    "        ax[i,j].axis([-15,15,-15,15])"
   ]
  },
  {
   "cell_type": "markdown",
   "metadata": {},
   "source": [
    "2\\. **PCA on a nD dataset**\n",
    "\n",
    "Start from the dataset you have genereted in the previous exercise and add uncorrelated random noise. Such noise should be represented by other 10 uncorrelated variables normal distributed, with standar deviation much smaller (say, a factor 50) than those used to generate the $x_1$ and $x_2$.\n",
    "\n",
    "Repeat the PCA procedure and compare the results with what you obtained before"
   ]
  },
  {
   "cell_type": "code",
   "execution_count": null,
   "metadata": {},
   "outputs": [],
   "source": [
    "noise_1=np.zeros((1000))\n",
    "noise_2=np.zeros((1000))\n",
    "\n",
    "for i in range(10):\n",
    "    std=1/50\n",
    "    noise_1 = noise_1 + np.random.normal(0,std,1000)\n",
    "    noise_2 = noise_2 + np.random.normal(0,std,1000)\n",
    "    \n",
    "x1 = np.random.normal(0,1,1000) + noise_1\n",
    "x2 = x1 + np.random.normal(0,3,1000) + noise_2\n",
    "x3 = 2*x1+x2\n",
    "\n",
    "x2 = pd.DataFrame({'x1' : x1, 'x2' : x2, 'x3' : x3})\n",
    "\n",
    "cov2 = np.cov(x2, rowvar=False)\n",
    "print(\"covariance: \\n\",cov2)\n",
    "l2, V2 = la.eig(cov2)\n",
    "print(\"eigenvalue: \\n\",l2)\n",
    "print(\"eigenvector: \\n\",V2)\n",
    "\n",
    "U2, spectrum2, Vt2 = la.svd(x2.T,full_matrices=False)\n",
    "svd_l_2 = spectrum2**2/(N-1)\n",
    "print(\"SVD Eigenvalues:\\n\", svd_l_2)\n",
    "print(\"SVD Eigenvectors:\\n\", U2)\n",
    "\n",
    "x2_rotated=np.dot(x2,U2)\n",
    "#print(df_rotated)\n",
    "x2_rotated=pd.DataFrame(x2_rotated)\n",
    "x2_rotated\n",
    "\n",
    "\n",
    "\n",
    "\n",
    "Lambda = np.diag(svd_l_2)\n",
    "print (\"Covariance.trace():\\n\", cov.trace())\n",
    "print (\"Lambda.trace():\\n\", Lambda.trace())\n",
    "\n",
    "thresold2=0.99\n",
    "i=0\n",
    "variability2=0\n",
    "while variability2<thresold2:\n",
    "    variability2 += spectrum2[i]/spectrum2.sum()\n",
    "    i +=1\n",
    "\n",
    "print(\"To reach the required treshold we need \",i,\" eigenvalues\")\n",
    "print(\"Weigths first + second eigenvalues: \",variability)\n",
    "\n",
    "fig, ax = plt.subplots(nrows=2, ncols=3, figsize=(18,10))\n",
    "grid = plt.GridSpec(2, 3, wspace=0.2, hspace=0.2)\n",
    "\n",
    "ax[0,0].scatter(x2.iloc[:,0],x2.iloc[:,1])\n",
    "ax[0,1].scatter(x2.iloc[:,0],x2.iloc[:,2])\n",
    "ax[0,2].scatter(x2.iloc[:,1],x2.iloc[:,2])\n",
    "ax[1,0].scatter(x2_rotated.iloc[:,0],x2_rotated.iloc[:,1])\n",
    "ax[1,1].scatter(x2_rotated.iloc[:,0],x2_rotated.iloc[:,2])\n",
    "ax[1,2].scatter(x2_rotated.iloc[:,1],x2_rotated.iloc[:,2])\n",
    "\n",
    "for i in range(2):\n",
    "    for j in range(3):\n",
    "        ax[i,j].axis([-15,15,-15,15])"
   ]
  },
  {
   "cell_type": "markdown",
   "metadata": {},
   "source": [
    "3 \\. **Looking at an oscillating spring** (optional)\n",
    "\n",
    "Imagine you have $n$ cameras looking at a spring oscillating along the $x$ axis. Each  camera record the motion of the spring looking at it along a given direction defined by the pair $(\\theta_i, \\phi_i)$, the angles in spherical coordinates. \n",
    "\n",
    "Start from the simulation of the records (say ${\\cal O}(1000)$) of the spring's motion along the x axis, assuming a little random noise affects the measurements along the $y$. Rotate such dataset to emulate the records of each camera.\n",
    "\n",
    "Perform a Principal Component Analysis on the thus obtained dataset, aiming at finding the only one coordinate that really matters.\n"
   ]
  },
  {
   "cell_type": "code",
   "execution_count": null,
   "metadata": {},
   "outputs": [],
   "source": []
  },
  {
   "cell_type": "markdown",
   "metadata": {},
   "source": [
    "4\\. **PCA on the MAGIC dataset** (optional)\n",
    "\n",
    "Perform a PCA on the magic04.data dataset"
   ]
  },
  {
   "cell_type": "code",
   "execution_count": null,
   "metadata": {},
   "outputs": [],
   "source": [
    "# get the dataset and its description on the proper data directory\n",
    "!wget https://archive.ics.uci.edu/ml/machine-learning-databases/magic/magic04.data -P ~/data/\n",
    "!wget https://archive.ics.uci.edu/ml/machine-learning-databases/magic/magic04.names -P ~/data/ "
   ]
  },
  {
   "cell_type": "code",
   "execution_count": null,
   "metadata": {},
   "outputs": [],
   "source": []
  }
 ],
 "metadata": {
  "kernelspec": {
   "display_name": "Python 3",
   "language": "python",
   "name": "python3"
  },
  "language_info": {
   "codemirror_mode": {
    "name": "ipython",
    "version": 3
   },
   "file_extension": ".py",
   "mimetype": "text/x-python",
   "name": "python",
   "nbconvert_exporter": "python",
   "pygments_lexer": "ipython3",
   "version": "3.7.9"
  }
 },
 "nbformat": 4,
 "nbformat_minor": 2
}
