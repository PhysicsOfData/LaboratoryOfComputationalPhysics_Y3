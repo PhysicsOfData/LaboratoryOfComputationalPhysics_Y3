{
 "cells": [
  {
   "cell_type": "markdown",
   "metadata": {},
   "source": [
    "1\\. **PCA on 3D dataset**\n",
    "\n",
    "* Generate a dataset with 3 features each with N entries (N being ${\\cal O}(1000)$). With $N(\\mu,\\sigma)$ the normali distribution with mean $\\mu$ and $\\sigma$  standard deviation, generate the 3 variables $x_{1,2,3}$ such that:\n",
    "    * $x_1$ is distributed as $N(0,1)$\n",
    "    * $x_2$ is distributed as $x_1+N(0,3)$\n",
    "    * $x_3$ is given by $2x_1+x_2$\n",
    "* Find the eigenvectors and eigenvalues of the covariance matrix of the dataset\n",
    "* Find the eigenvectors and eigenvalues using SVD. Check that the two procedures yield to same result\n",
    "* What percent of the total dataset's variability is explained by the principal components? Given how the dataset was constructed, do these make sense? Reduce the dimensionality of the system so that at least 99% of the total variability is retained.\n",
    "* Redefine the data in the basis yielded by the PCA procedure\n",
    "* Plot the data points in the original and the new coordiantes as a set of scatter plots. Your final figure should have 2 rows of 3 plots each, where the columns show the (0,1), (0,2) and (1,2) proejctions.\n"
   ]
  },
  {
   "cell_type": "code",
   "execution_count": 88,
   "metadata": {},
   "outputs": [],
   "source": [
    "import numpy as np\n",
    "\n",
    "def centered_pca(df, m_variability):\n",
    "    cumu_var = 0 # We start at 0 variability\n",
    "    U, spectrum, Vt = np.linalg.svd(df)\n",
    "    l_svd = spectrum**2/(len(df)-1)\n",
    "    V_svd = U\n",
    "    mask = np.zeros(len(l_svd), dtype='bool')\n",
    "    for i, l in enumerate(l_svd):\n",
    "        var = l/np.sum(l_svd)        \n",
    "        if cumu_var < m_variability:\n",
    "            mask[i] = True\n",
    "            cumu_var += var\n",
    "    new_df = V_svd.T@df\n",
    "    return new_df[:,mask]"
   ]
  },
  {
   "cell_type": "code",
   "execution_count": 89,
   "metadata": {},
   "outputs": [
    {
     "name": "stdout",
     "output_type": "stream",
     "text": [
      "[2.71550254e+01 2.03476905e+00 1.79266333e-30]\n",
      "\n",
      "[2.71550254e+01 3.94896691e-16 2.03476905e+00]\n",
      "\n",
      "Variability: 93.02\n",
      "Variability: 6.97\n",
      "Variability: 0.0\n"
     ]
    },
    {
     "data": {
      "text/plain": [
       "array([[ 2.57279582e+01,  1.35977194e+02],\n",
       "       [-3.61418752e+01,  4.47673579e+01],\n",
       "       [ 5.18474152e-14, -5.21249710e-14],\n",
       "       ...,\n",
       "       [ 4.44089210e-16,  8.88178420e-16],\n",
       "       [ 2.22044605e-16,  1.88737914e-15],\n",
       "       [ 4.44089210e-16,  8.88178420e-16]])"
      ]
     },
     "execution_count": 89,
     "metadata": {},
     "output_type": "execute_result"
    }
   ],
   "source": [
    "x_1 = np.random.normal(0,1,size = [2000])\n",
    "x_1 = x_1 - np.average(x_1)\n",
    "x_2 = x_1 + np.random.normal(0,3,[2000])\n",
    "x_2 = x_2 - np.average(x_2)\n",
    "x_3 = 2*x_1+x_2\n",
    "x_3 = x_3 - np.average(x_3)\n",
    "df = np.vstack([x_1,x_2,x_3])\n",
    "df = df.T\n",
    "\n",
    "l_cov, V_cov = np.linalg.eig(np.cov(df.T))\n",
    "U, spectrum, Vt = np.linalg.svd(df)\n",
    "\n",
    "l_svd = spectrum**2/(len(df)-1)\n",
    "V_svd = U\n",
    "\n",
    "print(l_svd)\n",
    "print()\n",
    "print(l_cov)\n",
    "print()\n",
    "\n",
    "for i, l in enumerate(l_svd):\n",
    "    var = l/np.sum(l_svd)        \n",
    "    print(f'Variability: {var*10000//1/100}')\n",
    "\n",
    "centered_pca(df,0.99)"
   ]
  },
  {
   "cell_type": "markdown",
   "metadata": {},
   "source": [
    "2\\. **PCA on a nD dataset**\n",
    "\n",
    "Start from the dataset you have genereted in the previous exercise and add uncorrelated random noise. Such noise should be represented by other 10 uncorrelated variables normal distributed, with standar deviation much smaller (say, a factor 50) than those used to generate the $x_1$ and $x_2$.\n",
    "\n",
    "Repeat the PCA procedure and compare the results with what you obtained before"
   ]
  },
  {
   "cell_type": "code",
   "execution_count": 97,
   "metadata": {},
   "outputs": [
    {
     "data": {
      "text/plain": [
       "(2000, 2)"
      ]
     },
     "execution_count": 97,
     "metadata": {},
     "output_type": "execute_result"
    }
   ],
   "source": [
    "many_var_df = df.copy()\n",
    "for i in range(10):\n",
    "    var = 2/50*np.random.random()+1/50 # At least 1/50, at most 3/50\n",
    "    new_v = np.random.normal(0,var,[2000,1])\n",
    "    new_v = new_v - np.average(new_v)\n",
    "    many_var_df = np.hstack([many_var_df,new_v])\n",
    "\n",
    "centered_pca(many_var_df,0.99).shape"
   ]
  },
  {
   "cell_type": "markdown",
   "metadata": {},
   "source": [
    "3 \\. **Looking at an oscillating spring** (optional)\n",
    "\n",
    "Imagine you have $n$ cameras looking at a spring oscillating along the $x$ axis. Each  camera record the motion of the spring looking at it along a given direction defined by the pair $(\\theta_i, \\phi_i)$, the angles in spherical coordinates. \n",
    "\n",
    "Start from the simulation of the records (say ${\\cal O}(1000)$) of the spring's motion along the x axis, assuming a little random noise affects the measurements along the $y$. Rotate such dataset to emulate the records of each camera.\n",
    "\n",
    "Perform a Principal Component Analysis on the thus obtained dataset, aiming at finding the only one coordinate that really matters.\n"
   ]
  },
  {
   "cell_type": "code",
   "execution_count": 147,
   "metadata": {},
   "outputs": [],
   "source": [
    "A = 10#Amplitude of the oscillation\n",
    "cicles = 100\n",
    "n = 1000\n",
    "t = np.linspace(0,2*cicles*np.pi, n)\n",
    "x = A*np.cos(t)\n",
    "y = np.random.normal(0,A/10,n)\n",
    "z = np.zeros(len(x))\n",
    "df = np.hstack([x.T,y.T,z.T])\n",
    "def rotations(measurements, n_cameras):\n",
    "    pass"
   ]
  },
  {
   "cell_type": "markdown",
   "metadata": {},
   "source": [
    "4\\. **PCA on the MAGIC dataset** (optional)\n",
    "\n",
    "Perform a PCA on the magic04.data dataset"
   ]
  },
  {
   "cell_type": "code",
   "execution_count": null,
   "metadata": {},
   "outputs": [],
   "source": [
    "# get the dataset and its description on the proper data directory\n",
    "!wget https://archive.ics.uci.edu/ml/machine-learning-databases/magic/magic04.data -P ~/data/\n",
    "!wget https://archive.ics.uci.edu/ml/machine-learning-databases/magic/magic04.names -P ~/data/ "
   ]
  }
 ],
 "metadata": {
  "kernelspec": {
   "display_name": "Python 3",
   "language": "python",
   "name": "python3"
  },
  "language_info": {
   "codemirror_mode": {
    "name": "ipython",
    "version": 3
   },
   "file_extension": ".py",
   "mimetype": "text/x-python",
   "name": "python",
   "nbconvert_exporter": "python",
   "pygments_lexer": "ipython3",
   "version": "3.7.3"
  }
 },
 "nbformat": 4,
 "nbformat_minor": 2
}
