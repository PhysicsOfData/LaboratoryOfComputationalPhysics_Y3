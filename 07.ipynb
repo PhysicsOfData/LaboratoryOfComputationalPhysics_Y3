{
 "cells": [
  {
   "cell_type": "markdown",
   "metadata": {},
   "source": [
    "1.PCA on 3D dataset"
   ]
  },
  {
   "cell_type": "code",
   "execution_count": 1,
   "metadata": {},
   "outputs": [],
   "source": [
    "import numpy as np\n",
    "import matplotlib.pyplot as plt\n",
    "from scipy import linalg as la\n",
    "import pandas as pd\n",
    "from sklearn.decomposition import PCA\n",
    "import scipy as sc"
   ]
  },
  {
   "cell_type": "code",
   "execution_count": null,
   "metadata": {},
   "outputs": [],
   "source": [
    "N = 10000\n",
    "\n",
    "x1 = np.random.normal(0, 1, (N))\n",
    "x2 = x1 + np.random.normal(0, 3, (N))\n",
    "x3 = 2*x1 + x2\n",
    "\n",
    "X = np.array([x1, x2, x3])"
   ]
  },
  {
   "cell_type": "code",
   "execution_count": null,
   "metadata": {},
   "outputs": [],
   "source": [
    "# Covariance\n",
    "l, V = np.linalg.eig(np.cov(X))\n",
    "print(\"covariance matrix:\", np.cov(X))\n",
    "print(\"\\neigenvalues:\", l)\n",
    "print(\"\\neigenvectors:\", V)"
   ]
  },
  {
   "cell_type": "code",
   "execution_count": null,
   "metadata": {},
   "outputs": [],
   "source": [
    "# Svd\n",
    "U, spectrum, Vt = la.svd(X)\n",
    "l_svd = spectrum ** 2 / 9999\n",
    "V_svd = U\n",
    "print(\"eigenvalues:\", spectrum)\n",
    "print(\"\\neigenvectors:\", V_svd)"
   ]
  },
  {
   "cell_type": "code",
   "execution_count": null,
   "metadata": {},
   "outputs": [],
   "source": [
    "# Check the two procedures\n",
    "Xp = np.dot(V_svd.T, X)\n",
    "Xreducted = Xp[:2]\n",
    "Vreducted = V_svd[:,:2]\n",
    "Xpp = np.dot(Vreducted, Xreducted)\n",
    "np.allclose(X,Xpp)"
   ]
  },
  {
   "cell_type": "code",
   "execution_count": null,
   "metadata": {},
   "outputs": [],
   "source": [
    "lamb = 0\n",
    "for i in range(len(l_svd)):\n",
    "    lamb += l_svd[i]\n",
    "    print(\"\\nthe percent of the total variablity with {} eigenvalues is: {}\".format(i+1,lamb/l_svd.sum()))"
   ]
  },
  {
   "cell_type": "code",
   "execution_count": null,
   "metadata": {},
   "outputs": [],
   "source": [
    "# In the first row there are the plots of the original points\n",
    "# In the second there are the plots of the points in the new cordinates but in the originale space\n",
    "# In the third there are the plots of the original points in the rotated space \n",
    "fig, axes = plt.subplots(nrows=3, ncols=3,figsize=(24, 18))\n",
    "axes[0,0].scatter(X[0],X[1],marker='.')\n",
    "axes[0,0].set_ylabel(\"1\",fontweight='bold').set_rotation(\"0\")\n",
    "axes[0,0].set_xlabel(\"0\",fontweight='bold')\n",
    "axes[0,1].scatter(X[0],X[2],marker='.')\n",
    "axes[0,1].set_xlabel(\"0\",fontweight='bold')\n",
    "axes[0,1].set_ylabel(\"2\",fontweight='bold').set_rotation(\"0\")\n",
    "axes[0,2].scatter(X[1],X[2],marker='.')\n",
    "axes[0,2].set_xlabel(\"1\",fontweight='bold')\n",
    "axes[0,2].set_ylabel(\"2\",fontweight='bold').set_rotation(\"0\")\n",
    "axes[1,0].scatter(Xpp[0],Xpp[1],marker='.')\n",
    "axes[1,0].set_xlabel(\"0\",fontweight='bold')\n",
    "axes[1,0].set_ylabel(\"1\",fontweight='bold').set_rotation(\"0\")\n",
    "axes[1,1].scatter(Xpp[0],Xpp[2],marker='.')\n",
    "axes[1,1].set_xlabel(\"0\",fontweight='bold')\n",
    "axes[1,1].set_ylabel(\"2\",fontweight='bold').set_rotation(\"0\")\n",
    "axes[1,2].scatter(Xpp[1],Xpp[2],marker='.')\n",
    "axes[1,2].set_xlabel(\"1\",fontweight='bold')\n",
    "axes[1,2].set_ylabel(\"2\",fontweight='bold').set_rotation(\"0\")\n",
    "axes[2,0].scatter(Xp[0],Xp[1],marker='.')\n",
    "axes[2,0].set_xlabel(\"0\",fontweight='bold')\n",
    "axes[2,0].set_ylabel(\"1\",fontweight='bold').set_rotation(\"0\")\n",
    "axes[2,1].scatter(Xp[0],Xp[2],marker='.')\n",
    "axes[2,1].set_xlabel(\"0\",fontweight='bold')\n",
    "axes[2,1].set_ylabel(\"2\",fontweight='bold').set_rotation(\"0\")\n",
    "axes[2,2].scatter(Xp[1],Xp[2],marker='.')\n",
    "axes[2,2].set_xlabel(\"1\",fontweight='bold')\n",
    "axes[2,2].set_ylabel(\"2\",fontweight='bold').set_rotation(\"0\")"
   ]
  },
  {
   "cell_type": "markdown",
   "metadata": {},
   "source": [
    "2.PCA on a nD dataset"
   ]
  },
  {
   "cell_type": "code",
   "execution_count": null,
   "metadata": {},
   "outputs": [],
   "source": [
    "# Add random noise\n",
    "eps = np.random.normal(0, 1/50, (N, 10))\n",
    "\n",
    "Y = X + np.sum(eps, axis=1)"
   ]
  },
  {
   "cell_type": "code",
   "execution_count": null,
   "metadata": {},
   "outputs": [],
   "source": [
    "# Covariance\n",
    "l, V = np.linalg.eig(np.cov(Y))\n",
    "print(\"covariance matrix:\", np.cov(Y))\n",
    "print(\"\\neigenvalues:\", l)\n",
    "print(\"\\neigenvectors:\", V)\n",
    "\n",
    "# Svd\n",
    "U, spectrum, Vt = la.svd(Y)\n",
    "l_svd = spectrum ** 2 / 9999\n",
    "V_svd = U\n",
    "print(\"eigenvalues:\", spectrum)\n",
    "print(\"\\neigenvectors:\", V_svd)\n"
   ]
  },
  {
   "cell_type": "code",
   "execution_count": null,
   "metadata": {},
   "outputs": [],
   "source": [
    "# In the first row there are the plots of the original points\n",
    "# In the second there are the plots of the points in the new cordinates but in the originale space\n",
    "# In the third there are the plots of the original points in the rotated space \n",
    "X = Y\n",
    "\n",
    "fig, axes = plt.subplots(nrows=3, ncols=3,figsize=(24, 18))\n",
    "axes[0,0].scatter(X[0],X[1],marker='.')\n",
    "axes[0,0].set_ylabel(\"1\",fontweight='bold').set_rotation(\"0\")\n",
    "axes[0,0].set_xlabel(\"0\",fontweight='bold')\n",
    "axes[0,1].scatter(X[0],X[2],marker='.')\n",
    "axes[0,1].set_xlabel(\"0\",fontweight='bold')\n",
    "axes[0,1].set_ylabel(\"2\",fontweight='bold').set_rotation(\"0\")\n",
    "axes[0,2].scatter(X[1],X[2],marker='.')\n",
    "axes[0,2].set_xlabel(\"1\",fontweight='bold')\n",
    "axes[0,2].set_ylabel(\"2\",fontweight='bold').set_rotation(\"0\")\n",
    "axes[1,0].scatter(Xpp[0],Xpp[1],marker='.')\n",
    "axes[1,0].set_xlabel(\"0\",fontweight='bold')\n",
    "axes[1,0].set_ylabel(\"1\",fontweight='bold').set_rotation(\"0\")\n",
    "axes[1,1].scatter(Xpp[0],Xpp[2],marker='.')\n",
    "axes[1,1].set_xlabel(\"0\",fontweight='bold')\n",
    "axes[1,1].set_ylabel(\"2\",fontweight='bold').set_rotation(\"0\")\n",
    "axes[1,2].scatter(Xpp[1],Xpp[2],marker='.')\n",
    "axes[1,2].set_xlabel(\"1\",fontweight='bold')\n",
    "axes[1,2].set_ylabel(\"2\",fontweight='bold').set_rotation(\"0\")\n",
    "axes[2,0].scatter(Xp[0],Xp[1],marker='.')\n",
    "axes[2,0].set_xlabel(\"0\",fontweight='bold')\n",
    "axes[2,0].set_ylabel(\"1\",fontweight='bold').set_rotation(\"0\")\n",
    "axes[2,1].scatter(Xp[0],Xp[2],marker='.')\n",
    "axes[2,1].set_xlabel(\"0\",fontweight='bold')\n",
    "axes[2,1].set_ylabel(\"2\",fontweight='bold').set_rotation(\"0\")\n",
    "axes[2,2].scatter(Xp[1],Xp[2],marker='.')\n",
    "axes[2,2].set_xlabel(\"1\",fontweight='bold')\n",
    "axes[2,2].set_ylabel(\"2\",fontweight='bold').set_rotation(\"0\")"
   ]
  }
 ],
 "metadata": {
  "kernelspec": {
   "display_name": "Python 3",
   "language": "python",
   "name": "python3"
  },
  "language_info": {
   "codemirror_mode": {
    "name": "ipython",
    "version": 3
   },
   "file_extension": ".py",
   "mimetype": "text/x-python",
   "name": "python",
   "nbconvert_exporter": "python",
   "pygments_lexer": "ipython3",
   "version": "3.8.3"
  }
 },
 "nbformat": 4,
 "nbformat_minor": 4
}
