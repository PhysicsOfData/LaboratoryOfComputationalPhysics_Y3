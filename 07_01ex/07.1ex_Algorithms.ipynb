{
 "cells": [
  {
   "cell_type": "markdown",
   "metadata": {},
   "source": [
    "1\\. **PCA on 3D dataset**\n",
    "\n",
    "* Generate a dataset with 3 features each with N entries (N being ${\\cal O}(1000)$). With $N(\\mu,\\sigma)$ the normali distribution with mean $\\mu$ and $\\sigma$  standard deviation, generate the 3 variables $x_{1,2,3}$ such that:\n",
    "    * $x_1$ is distributed as $N(0,1)$\n",
    "    * $x_2$ is distributed as $x_1+N(0,3)$\n",
    "    * $x_3$ is given by $2x_1+x_2$\n",
    "* Find the eigenvectors and eigenvalues of the covariance matrix of the dataset\n",
    "* Find the eigenvectors and eigenvalues using SVD. Check that the two procedures yield to same result\n",
    "* What percent of the total dataset's variability is explained by the principal components? Given how the dataset was constructed, do these make sense? Reduce the dimensionality of the system so that at least 99% of the total variability is retained.\n",
    "* Redefine the data in the basis yielded by the PCA procedure\n",
    "* Plot the data points in the original and the new coordiantes as a set of scatter plots. Your final figure should have 2 rows of 3 plots each, where the columns show the (0,1), (0,2) and (1,2) proejctions.\n"
   ]
  },
  {
   "cell_type": "code",
   "execution_count": 1,
   "metadata": {},
   "outputs": [],
   "source": [
    "import numpy as np\n",
    "import pandas as pd\n",
    "import scipy.linalg as la\n",
    "import matplotlib.pyplot as plt"
   ]
  },
  {
   "cell_type": "code",
   "execution_count": 14,
   "metadata": {},
   "outputs": [
    {
     "name": "stdout",
     "output_type": "stream",
     "text": [
      "eigenvalues using SVD: [2.49918001e+01 2.03478855e+00 4.30700847e-30] \n",
      "\n",
      "eigenvalues: [2.49917209e+01+0.j 2.03258353e+00+0.j 1.95528643e-16+0.j] \n",
      "\n",
      "eigenvectors: [[-0.11120764  0.56653878 -0.81649658]\n",
      " [-0.58265783 -0.70273977 -0.40824829]\n",
      " [-0.80507311  0.4303378   0.40824829]] \n",
      "\n",
      "eigenvectors using SVD: [[-0.11121795  0.56653676 -0.81649658]\n",
      " [-0.58264504 -0.70275037 -0.40824829]\n",
      " [-0.80508094  0.43032315  0.40824829]] \n",
      "\n"
     ]
    }
   ],
   "source": [
    "N = 1000\n",
    "x_1 = np.random.normal(0, 1, N)\n",
    "x_2 = np.random.normal(0, 3, N) + x_1\n",
    "x_3 = 2 * x_1 + x_2\n",
    "\n",
    "X = np.array([x_1, x_2, x_3])\n",
    "#print(X)\n",
    "cov = np.cov(X)\n",
    "ei_val, ei_vec = la.eig(cov)\n",
    "i = ei_val.argsort()[::-1]\n",
    "ei_val = ei_val[i]\n",
    "ei_vec = ei_vec[:, i]\n",
    "\n",
    "\n",
    "U, spectrum, Vt = np.linalg.svd(X)\n",
    "ei_val_svd = spectrum**2 / (N-1)\n",
    "ei_vec_svd = U\n",
    "i = ei_val_svd.argsort()[::-1]\n",
    "ei_val_svd = ei_val_svd[i]\n",
    "ei_vec_svd = ei_vec_svd[:, i]\n",
    "\n",
    "print(\"eigenvalues using SVD:\", ei_val_svd, '\\n')\n",
    "print(\"eigenvalues:\", ei_val, '\\n')\n",
    "print(\"eigenvectors:\", ei_vec, '\\n')\n",
    "print(\"eigenvectors using SVD:\", ei_vec_svd, '\\n')"
   ]
  },
  {
   "cell_type": "code",
   "execution_count": null,
   "metadata": {},
   "outputs": [],
   "source": []
  },
  {
   "cell_type": "markdown",
   "metadata": {},
   "source": [
    "2\\. **PCA on a nD dataset**\n",
    "\n",
    "Start from the dataset you have genereted in the previous exercise and add uncorrelated random noise. Such noise should be represented by other 10 uncorrelated variables normal distributed, with standar deviation much smaller (say, a factor 50) than those used to generate the $x_1$ and $x_2$.\n",
    "\n",
    "Repeat the PCA procedure and compare the results with what you obtained before"
   ]
  },
  {
   "cell_type": "markdown",
   "metadata": {},
   "source": [
    "3 \\. **Looking at an oscillating spring** (optional)\n",
    "\n",
    "Imagine you have $n$ cameras looking at a spring oscillating along the $x$ axis. Each  camera record the motion of the spring looking at it along a given direction defined by the pair $(\\theta_i, \\phi_i)$, the angles in spherical coordinates. \n",
    "\n",
    "Start from the simulation of the records (say ${\\cal O}(1000)$) of the spring's motion along the x axis, assuming a little random noise affects the measurements along the $y$. Rotate such dataset to emulate the records of each camera.\n",
    "\n",
    "Perform a Principal Component Analysis on the thus obtained dataset, aiming at finding the only one coordinate that really matters.\n"
   ]
  },
  {
   "cell_type": "markdown",
   "metadata": {},
   "source": [
    "4\\. **PCA on the MAGIC dataset** (optional)\n",
    "\n",
    "Perform a PCA on the magic04.data dataset"
   ]
  },
  {
   "cell_type": "code",
   "execution_count": null,
   "metadata": {},
   "outputs": [],
   "source": [
    "# get the dataset and its description on the proper data directory\n",
    "!wget https://archive.ics.uci.edu/ml/machine-learning-databases/magic/magic04.data -P ~/data/\n",
    "!wget https://archive.ics.uci.edu/ml/machine-learning-databases/magic/magic04.names -P ~/data/ "
   ]
  }
 ],
 "metadata": {
  "kernelspec": {
   "display_name": "Python 3",
   "language": "python",
   "name": "python3"
  },
  "language_info": {
   "codemirror_mode": {
    "name": "ipython",
    "version": 3
   },
   "file_extension": ".py",
   "mimetype": "text/x-python",
   "name": "python",
   "nbconvert_exporter": "python",
   "pygments_lexer": "ipython3",
   "version": "3.8.6"
  }
 },
 "nbformat": 4,
 "nbformat_minor": 2
}
