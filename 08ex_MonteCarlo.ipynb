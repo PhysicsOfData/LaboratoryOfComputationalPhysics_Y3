{
 "cells": [
  {
   "cell_type": "markdown",
   "metadata": {},
   "source": [
    "1\\. **Radioactive decay chain**\n",
    "\n",
    "${\\rm Tl}^{208}$ decays to ${\\rm Pb}^{208}$ with a half-lieve of 3.052 minutes. Suppose to start with a sample of 1000 Thallium atoms and 0 of Lead atoms.\n",
    "\n",
    "* Take steps in time of 1 second and at each time-step decide whether each Tl atom has decayed or not, accordingly to the probability $p(t)=1-2^{-t/\\tau}$. Subtract the total number of Tl atoms that decayed at each step from the Tl sample and add them to the Lead one. Plot the evolution of the two sets as a function of time  \n",
    "* Repeat the exercise by means of the inverse transform method: draw 1000 random numbers from the non-uniform probability distribution $p(t)=2^{-t/\\tau}\\frac{\\ln 2}{\\tau}$ to represent the times of decay of the 1000 Tl atoms. Make a plot showing the number of atoms that have not decayed as a function of time"
   ]
  },
  {
   "cell_type": "code",
   "execution_count": 1,
   "metadata": {},
   "outputs": [],
   "source": [
    "import numpy as np\n",
    "import matplotlib.pyplot as plt\n",
    "import scipy as sp\n",
    "import pandas as pd"
   ]
  },
  {
   "cell_type": "code",
   "execution_count": 2,
   "metadata": {},
   "outputs": [
    {
     "data": {
      "text/plain": [
       "<matplotlib.legend.Legend at 0x7fb56daba550>"
      ]
     },
     "execution_count": 2,
     "metadata": {},
     "output_type": "execute_result"
    },
    {
     "data": {
      "image/png": "[encoded data removed]",
      "text/plain": [
       "<Figure size 576x360 with 1 Axes>"
      ]
     },
     "metadata": {
      "needs_background": "light"
     },
     "output_type": "display_data"
    }
   ],
   "source": [
    "tau=3.052*60\n",
    "\n",
    "def p(t, tau):\n",
    "    return 1-2**(-t/tau)\n",
    "\n",
    "x = np.arange(10000)\n",
    "prob_disp = p(x,tau)\n",
    "\n",
    "\n",
    "record_decayed = []\n",
    "tallium = pd.DataFrame(np.random.uniform(size=(1000,1)))\n",
    "for t in range(10000):\n",
    "    prob = p(t, tau)\n",
    "    tallium_len = len(tallium)\n",
    "    tallium[tallium.iloc[:,0]<prob] = -1\n",
    "    tallium = tallium.drop(tallium[tallium[0] == -1].index)\n",
    "    decayed = tallium_len - len(tallium)\n",
    "    record_decayed.append(decayed)\n",
    "\n",
    "record_lead = np.cumsum(record_decayed)\n",
    "record_tallium = 1000-record_lead\n",
    "\n",
    "fig, ax = plt.subplots(figsize=(8,5))\n",
    "ax.plot(record_lead, label='lead')\n",
    "ax.plot(record_tallium, label='tallium')\n",
    "ax.legend()"
   ]
  },
  {
   "cell_type": "code",
   "execution_count": 3,
   "metadata": {},
   "outputs": [
    {
     "data": {
      "text/plain": [
       "[<matplotlib.lines.Line2D at 0x7fb56de181d0>]"
      ]
     },
     "execution_count": 3,
     "metadata": {},
     "output_type": "execute_result"
    },
    {
     "data": {
      "image/png": "[encoded data removed]",
      "text/plain": [
       "<Figure size 432x288 with 1 Axes>"
      ]
     },
     "metadata": {
      "needs_background": "light"
     },
     "output_type": "display_data"
    }
   ],
   "source": [
    "def inverse(t, tau):\n",
    "    return -tau*np.log2(1 - t) \n",
    "\n",
    "u = np.random.random(2000)\n",
    "v = inverse(u, 3052*60)\n",
    "\n",
    "plt.plot(np.sort(inverse(u, 3052*60)), (1-(np.sort(u)))*1000)\n"
   ]
  },
  {
   "cell_type": "markdown",
   "metadata": {},
   "source": [
    "2\\. **Rutherford Scattering**\n",
    "\n",
    "The scattering angle $\\theta$ of $\\alpha$ particles hitting a positively charged nucleus of a Gold atom ($Z=79$) follows the rule:\n",
    "\n",
    "$$\n",
    "\\tan{\\frac{1}{2} \\theta} = \\frac{Z e^2} {2\\pi \\epsilon_0 E b}\n",
    "$$\n",
    "\n",
    "where $E=7.7$ MeV and $b$ beam is the impact parameter. The beam is represented by a 2D gaussian distribution with $\\sigma=a_0/100$ for both coordinates ($a_0$ being the Bohr radius). Assume 1 million $\\alpha$ particles are shot on the gold atom.\n",
    "\n",
    "Computing the fraction of particles that \"bounce back\",i.e. those particle whose scattering angle is greater than $\\pi/2$ (which set a condition on the impact parameter $b$)"
   ]
  },
  {
   "cell_type": "code",
   "execution_count": 4,
   "metadata": {},
   "outputs": [
    {
     "name": "stdout",
     "output_type": "stream",
     "text": [
      "0.001561\n"
     ]
    }
   ],
   "source": [
    "E = 7.7 * 1.60218e-13\n",
    "a = 5.29e-11 \n",
    "eps_0 = 8.85e-12 \n",
    "sigma = a/100\n",
    "n = int(1e6) \n",
    "Z = 79 \n",
    "e = -1.6e-19\n",
    "\n",
    "z = np.random.random(n)\n",
    "the = 2*np.pi*np.random.random(n)\n",
    "r = np.sqrt(-2*np.log(z))\n",
    "x = r*np.cos(the)*sigma\n",
    "y = r*np.sin(the)*sigma\n",
    "\n",
    "b = np.array(np.linalg.norm(np.array(list(zip(x, y))), axis=1)) \n",
    "\n",
    "theta = 2*np.arctan((Z*e**2)/(2*np.pi*eps_0*E*b)) \n",
    "\n",
    "bounce_back = np.sum(theta > np.pi/2)/n \n",
    "\n",
    "print(bounce_back)"
   ]
  },
  {
   "cell_type": "markdown",
   "metadata": {},
   "source": [
    "3\\. **Monte Carlo integration: hit/miss vs mean value method**\n",
    "\n",
    "Consider the function \n",
    "\n",
    "$$f(x) =\\sin^2{\\frac{1}{x(2-x)}}$$\n",
    "\n",
    "* Compute the integral of $f(x)$ between 0 and 2 with the hit/miss method. Evaluate the error of your estimate\n",
    "* Repeat the integral with the mean value method. Evaluate the error and compare it with the previous one"
   ]
  },
  {
   "cell_type": "markdown",
   "metadata": {},
   "source": [
    "4\\. **Monte Carlo integration in high dimension**\n",
    "\n",
    "* Start of by computing the area of a circle of unit radius, by integrating the function \n",
    "\n",
    "$$\n",
    "f(x,y)=\n",
    "\\left\\{\n",
    "\\begin{array}{ll}\n",
    "      1 & x^2+y^2\\le 1 \\\\\n",
    "      0 & {\\rm elsewhere}\n",
    "\\end{array} \n",
    "\\right.\n",
    "$$\n",
    "\n",
    "* Generalize the result for a 10D sphere\n",
    "\n"
   ]
  },
  {
   "cell_type": "markdown",
   "metadata": {},
   "source": [
    "5\\. **Monte Carlo integration with importance sampling** \n",
    "\n",
    "Calculate the value of the integral:\n",
    "\n",
    "$$\n",
    "I=\\int_0^1 \\frac{x^{-1/2}}{e^x+1} dx\n",
    "$$\n",
    "\n",
    "using the importance sampling method with $w(x)=1/\\sqrt{x}$. You should get a result about 0.84"
   ]
  },
  {
   "cell_type": "code",
   "execution_count": 5,
   "metadata": {},
   "outputs": [
    {
     "name": "stdout",
     "output_type": "stream",
     "text": [
      "0.8389735249725782\n"
     ]
    }
   ],
   "source": [
    "N = int(1e7)\n",
    "\n",
    "def f(x):\n",
    "    return x**(-1/2)/(np.exp(x) + 1) \n",
    "\n",
    "def w(x):\n",
    "    if (x > 0):\n",
    "        return 1/np.sqrt(x)\n",
    "\n",
    "def inv(x):\n",
    "    return x*x/4.\n",
    "    \n",
    "y = np.random.uniform(0,2,N)\n",
    "wb = inv(y)\n",
    "\n",
    "numerator = np.array([f(i) for i in wb ])\n",
    "denominator = np.array([w(i) for i in wb ])\n",
    "\n",
    "I = 2/N * np.sum( numerator/denominator )\n",
    "print(I)"
   ]
  },
  {
   "cell_type": "code",
   "execution_count": null,
   "metadata": {},
   "outputs": [],
   "source": []
  }
 ],
 "metadata": {
  "kernelspec": {
   "display_name": "Python 3",
   "language": "python",
   "name": "python3"
  },
  "language_info": {
   "codemirror_mode": {
    "name": "ipython",
    "version": 3
   },
   "file_extension": ".py",
   "mimetype": "text/x-python",
   "name": "python",
   "nbconvert_exporter": "python",
   "pygments_lexer": "ipython3",
   "version": "3.7.4"
  }
 },
 "nbformat": 4,
 "nbformat_minor": 2
}
