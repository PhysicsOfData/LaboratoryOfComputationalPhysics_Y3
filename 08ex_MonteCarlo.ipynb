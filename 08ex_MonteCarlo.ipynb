{
 "cells": [
  {
   "cell_type": "markdown",
   "metadata": {},
   "source": [
    "1\\. **Radioactive decay chain**\n",
    "\n",
    "${\\rm Tl}^{208}$ decays to ${\\rm Pb}^{208}$ with a half-lieve of 3.052 minutes. Suppose to start with a sample of 1000 Thallium atoms and 0 of Lead atoms.\n",
    "\n",
    "* Take steps in time of 1 second and at each time-step decide whether each Tl atom has decayed or not, accordingly to the probability $p(t)=1-2^{-t/\\tau}$. Subtract the total number of Tl atoms that decayed at each step from the Tl sample and add them to the Lead one. Plot the evolution of the two sets as a function of time  \n",
    "* Repeat the exercise by means of the inverse transform method: draw 1000 random numbers from the non-uniform probability distribution $p(t)=2^{-t/\\tau}\\frac{\\ln 2}{\\tau}$ to represent the times of decay of the 1000 Tl atoms. Make a plot showing the number of atoms that have not decayed as a function of time"
   ]
  },
  {
   "cell_type": "code",
   "execution_count": 1,
   "metadata": {},
   "outputs": [],
   "source": [
    "import numpy as np\n",
    "import matplotlib.pyplot as plt\n",
    "from scipy import integrate"
   ]
  },
  {
   "cell_type": "code",
   "execution_count": 7,
   "metadata": {
    "scrolled": false
   },
   "outputs": [
    {
     "data": {
      "image/png": "[encoded data removed]",
      "text/plain": [
       "<Figure size 432x288 with 1 Axes>"
      ]
     },
     "metadata": {
      "needs_background": "light"
     },
     "output_type": "display_data"
    },
    {
     "data": {
      "image/png": "[encoded data removed]",
      "text/plain": [
       "<Figure size 432x288 with 1 Axes>"
      ]
     },
     "metadata": {
      "needs_background": "light"
     },
     "output_type": "display_data"
    }
   ],
   "source": [
    "#Answer \n",
    "Tl = 1000\n",
    "Pb = 0\n",
    "\n",
    "def prob(t):\n",
    "    tau = 3.052 * 60\n",
    "    return 1-2**(-1/tau)\n",
    "\n",
    "Tl_t = [Tl]\n",
    "Pb_t = [Pb]\n",
    "time = 1.\n",
    "\n",
    "while Tl_t[-1] > 0:\n",
    "    pr = prob(time)\n",
    "    for i in range(Tl_t[-1]):\n",
    "        rn = np.random.uniform(0,1)\n",
    "        if rn < pr :\n",
    "            Tl -= 1\n",
    "            Pb += 1\n",
    "    Tl_t.append(Tl)\n",
    "    Pb_t.append(Pb)\n",
    "    time += 1.\n",
    "\n",
    "time = np.arange(0,time)\n",
    "\n",
    "plt.figure(figsize=(6, 4))\n",
    "plt.plot(time,Pb_t, label= 'Pb') \n",
    "plt.plot(time,Tl_t, label= 'Tl')\n",
    "plt.xlabel('Time [s]')\n",
    "plt.ylabel('Population')\n",
    "plt.legend()\n",
    "plt.show()\n",
    "\n",
    "#With the inverse transform method.\n",
    "N = 10000\n",
    "def pdf(x):\n",
    "    tau = 3.052 * 60\n",
    "    return 2**(-x/tau)*np.log(2.)/tau\n",
    "\n",
    "def icdf(p):\n",
    "    tau = 3.052 * 60\n",
    "    return - tau * np.log2(1-p)\n",
    "\n",
    "x = np.random.random(10000)\n",
    "y = icdf(x)\n",
    "\n",
    "plt.scatter(y,1000-x*10000)\n",
    "plt.xlabel('Time [s]')\n",
    "plt.ylabel('N')\n",
    "plt.title('Number ot Thalium atoms that have not decayed')\n",
    "plt.show()\n"
   ]
  },
  {
   "cell_type": "markdown",
   "metadata": {},
   "source": [
    "2\\. **Rutherford Scattering**\n",
    "\n",
    "The scattering angle $\\theta$ of $\\alpha$ particles hitting a positively charged nucleus of a Gold atom ($Z=79$) follows the rule:\n",
    "\n",
    "$$\n",
    "\\tan{\\frac{1}{2} \\theta} = \\frac{Z e^2} {2\\pi \\epsilon_0 E b}\n",
    "$$\n",
    "\n",
    "where $E=7.7$ MeV and $b$ beam is the impact parameter. The beam is represented by a 2D gaussian distribution with $\\sigma=a_0/100$ for both coordinates ($a_0$ being the Bohr radius). Assume 1 million $\\alpha$ particles are shot on the gold atom.\n",
    "\n",
    "Computing the fraction of particles that \"bounce back\",i.e. those particle whose scattering angle is greater than $\\pi/2$ (which set a condition on the impact parameter $b$)"
   ]
  },
  {
   "cell_type": "code",
   "execution_count": 3,
   "metadata": {},
   "outputs": [
    {
     "name": "stdout",
     "output_type": "stream",
     "text": [
      "The number of particles that \"bounce back\" is 1586 around 0.16 percent.\n"
     ]
    }
   ],
   "source": [
    "#Answer\n",
    "def R_scattering(b, Z=79, E=7.7e6):\n",
    "    e  = 1.60217662e-19 #[C]\n",
    "    e0 = 8.854e-12      #[F/m]\n",
    "    return 2 * np.arctan((Z * e) / (2 * np.pi * e0 * E * b))\n",
    "\n",
    "\n",
    "a0    = 5.29e-11 #[m]\n",
    "sigma = a0/100\n",
    "cov   = [[sigma,0],[0,sigma]]\n",
    "mean  = [0,0]\n",
    "\n",
    "N = 1000000\n",
    "x = np.random.normal(0,sigma,N)\n",
    "y = np.random.normal(0,sigma,N)\n",
    "\n",
    "theta = R_scattering(np.sqrt(x**2 +y**2))\n",
    "\n",
    "N_back = len(theta[theta>np.pi/2])\n",
    "print('The number of particles that \"bounce back\" is', N_back, 'around',round(N_back/N *100,2),'percent.')"
   ]
  },
  {
   "cell_type": "markdown",
   "metadata": {},
   "source": [
    "3\\. **Monte Carlo integration: hit/miss vs mean value method**\n",
    "\n",
    "Consider the function \n",
    "\n",
    "$$f(x) =\\sin^2{\\frac{1}{x(2-x)}}$$\n",
    "\n",
    "* Compute the integral of $f(x)$ between 0 and 2 with the hit/miss method. Evaluate the error of your estimate\n",
    "* Repeat the integral with the mean value method. Evaluate the error and compare it with the previous one"
   ]
  },
  {
   "cell_type": "code",
   "execution_count": 4,
   "metadata": {},
   "outputs": [
    {
     "name": "stderr",
     "output_type": "stream",
     "text": [
      "<ipython-input-4-bbdf6903765a>:3: RuntimeWarning: divide by zero encountered in reciprocal\n",
      "  return (np.sin((x*(2-x))**-1))**2\n",
      "<ipython-input-4-bbdf6903765a>:3: RuntimeWarning: invalid value encountered in sin\n",
      "  return (np.sin((x*(2-x))**-1))**2\n"
     ]
    },
    {
     "data": {
      "image/png": "[encoded data removed]",
      "text/plain": [
       "<Figure size 432x288 with 1 Axes>"
      ]
     },
     "metadata": {
      "needs_background": "light"
     },
     "output_type": "display_data"
    },
    {
     "name": "stdout",
     "output_type": "stream",
     "text": [
      "The exact value is 1.4514\n",
      "\n",
      "The computed value with the hit/miss method is 1.454\n",
      "The relative error is 0.179 %\n",
      "\n",
      "The computed value with the mean value method is 1.451547982927488\n",
      "The relative error is 0.0102 %\n",
      "\n"
     ]
    }
   ],
   "source": [
    "#Answer\n",
    "def f(x):\n",
    "    return (np.sin((x*(2-x))**-1))**2\n",
    "\n",
    "x = np.linspace(0.0001, 2, 1000)\n",
    "plt.plot(x,f(x))\n",
    "plt.show()\n",
    "\n",
    "N=100000\n",
    "count=0\n",
    "for i in range(N):\n",
    "    x=2*np.random.random()\n",
    "    y=np.random.random()\n",
    "    if y < f(x): count+=1\n",
    "I=2*count/N\n",
    "print('The exact value is', 1.4514)\n",
    "print('')\n",
    "print('The computed value with the hit/miss method is',I)\n",
    "print('The relative error is',round(abs(1.4514-I)/1.4514 *100,3),'%')\n",
    "print('')\n",
    "\n",
    "a = 2/N\n",
    "I = 0\n",
    "\n",
    "x = np.linspace(0.0001, 1.9999, N)\n",
    "\n",
    "for i in x:\n",
    "    I += a*f(i)\n",
    "    \n",
    "print('The computed value with the mean value method is',I)\n",
    "print('The relative error is',round(abs(1.4514-I)/1.4514 *100,4),'%')\n",
    "print('')"
   ]
  },
  {
   "cell_type": "markdown",
   "metadata": {},
   "source": [
    "4\\. **Monte Carlo integration in high dimension**\n",
    "\n",
    "* Start of by computing the area of a circle of unit radius, by integrating the function \n",
    "\n",
    "$$\n",
    "f(x,y)=\n",
    "\\left\\{\n",
    "\\begin{array}{ll}\n",
    "      1 & x^2+y^2\\le 1 \\\\\n",
    "      0 & {\\rm elsewhere}\n",
    "\\end{array} \n",
    "\\right.\n",
    "$$\n",
    "\n",
    "* Generalize the result for a 10D sphere\n",
    "\n"
   ]
  },
  {
   "cell_type": "code",
   "execution_count": 5,
   "metadata": {},
   "outputs": [
    {
     "name": "stdout",
     "output_type": "stream",
     "text": [
      "The area of a circle of unit radius is 3.14408\n",
      "The volume of a 10 dimensional sphere of unit radius is 2.72384\n"
     ]
    }
   ],
   "source": [
    "#Answer\n",
    "def f(x,y):\n",
    "    return (x**2+y**2)\n",
    "\n",
    "\n",
    "# Monte Carlo integration\n",
    "N=100000\n",
    "count=0\n",
    "for i in range(N):\n",
    "    x=1.- 2*np.random.random()\n",
    "    y=1.- 2*np.random.random()\n",
    "    if f(x,y) <= 1.: count+=1\n",
    "I=4*count/N\n",
    "print('The area of a circle of unit radius is',I)\n",
    "\n",
    "\n",
    "def f(x):\n",
    "    return np.sum(x**2)\n",
    "\n",
    "N=100000\n",
    "dimension = 10\n",
    "radio =1.\n",
    "count=0\n",
    "for i in range(N):\n",
    "    x=1.- 2*np.random.rand(dimension)\n",
    "    if f(x) <= radio: count+=1\n",
    "area = 2**dimension\n",
    "I=area*count/N\n",
    "print('The volume of a 10 dimensional sphere of unit radius is',I)\n",
    "\n"
   ]
  },
  {
   "cell_type": "markdown",
   "metadata": {},
   "source": [
    "5\\. **Monte Carlo integration with importance sampling** \n",
    "\n",
    "Calculate the value of the integral:\n",
    "\n",
    "$$\n",
    "I=\\int_0^1 \\frac{x^{-1/2}}{e^x+1} dx\n",
    "$$\n",
    "\n",
    "using the importance sampling method with $w(x)=1/\\sqrt{x}$. You should get a result about 0.84"
   ]
  },
  {
   "cell_type": "code",
   "execution_count": 6,
   "metadata": {},
   "outputs": [
    {
     "data": {
      "image/png": "[encoded data removed]",
      "text/plain": [
       "<Figure size 432x288 with 1 Axes>"
      ]
     },
     "metadata": {
      "needs_background": "light"
     },
     "output_type": "display_data"
    },
    {
     "name": "stdout",
     "output_type": "stream",
     "text": [
      "The integral value is 0.8417046561870314\n"
     ]
    }
   ],
   "source": [
    "#Answer\n",
    "def f(x):\n",
    "    return 1/(np.sqrt(x)*(np.exp(x)+1))\n",
    "\n",
    "x = np.linspace(0.0001, 1, 1000)\n",
    "plt.plot(x,f(x))\n",
    "plt.show()\n",
    "\n",
    "def w(x):\n",
    "    return 1/np.sqrt(x)\n",
    "\n",
    "N = 10000\n",
    "#x has to be generated acording to the w distribution (I use the inverse method)\n",
    "def icdf(p):\n",
    "    return p**2/4\n",
    "u = np.random.random(N)\n",
    "x = icdf(u)\n",
    "x = x/x.max()\n",
    "\n",
    "Iw = integrate.quad(w, 0, 1)[0]\n",
    "I  = 1/N * np.sum(1/(np.exp(x)+1))*Iw\n",
    "print('The integral value is',I)"
   ]
  },
  {
   "cell_type": "code",
   "execution_count": null,
   "metadata": {},
   "outputs": [],
   "source": []
  }
 ],
 "metadata": {
  "kernelspec": {
   "display_name": "Python 3",
   "language": "python",
   "name": "python3"
  },
  "language_info": {
   "codemirror_mode": {
    "name": "ipython",
    "version": 3
   },
   "file_extension": ".py",
   "mimetype": "text/x-python",
   "name": "python",
   "nbconvert_exporter": "python",
   "pygments_lexer": "ipython3",
   "version": "3.8.5"
  }
 },
 "nbformat": 4,
 "nbformat_minor": 2
}
