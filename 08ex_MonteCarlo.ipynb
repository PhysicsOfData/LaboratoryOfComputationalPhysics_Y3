{
 "cells": [
  {
   "cell_type": "markdown",
   "metadata": {},
   "source": [
    "1\\. **Radioactive decay chain**\n",
    "\n",
    "${\\rm Tl}^{208}$ decays to ${\\rm Pb}^{208}$ with a half-lieve of 3.052 minutes. Suppose to start with a sample of 1000 Thallium atoms and 0 of Lead atoms.\n",
    "\n",
    "* Take steps in time of 1 second and at each time-step decide whether each Tl atom has decayed or not, accordingly to the probability $p(t)=1-2^{-t/\\tau}$. Subtract the total number of Tl atoms that decayed at each step from the Tl sample and add them to the Lead one. Plot the evolution of the two sets as a function of time  \n",
    "* Repeat the exercise by means of the inverse transform method: draw 1000 random numbers from the non-uniform probability distribution $p(t)=2^{-t/\\tau}\\frac{\\ln 2}{\\tau}$ to represent the times of decay of the 1000 Tl atoms. Make a plot showing the number of atoms that have not decayed as a function of time"
   ]
  },
  {
   "cell_type": "code",
   "execution_count": null,
   "metadata": {},
   "outputs": [],
   "source": [
    "import numpy as np\n",
    "import matplotlib.pyplot as plt\n",
    "import numpy.random as rnd"
   ]
  },
  {
   "cell_type": "code",
   "execution_count": null,
   "metadata": {},
   "outputs": [],
   "source": [
    "samples = 1000\n",
    "Tl_atoms = 1000\n",
    "Pb_atoms = 0\n",
    "time_int = 2000\n",
    "\n",
    "tau = 3.052*60\n",
    "prob = 1 - 2**(-1/tau)\n",
    "\n",
    "Tl_evolution = []\n",
    "Pb_evolution = []\n",
    "\n",
    "for t in range (time_int):\n",
    "    Tl_evolution.append(Tl_atoms)\n",
    "    Pb_evolution.append(Pb_atoms)\n",
    "    Tl = np.random.uniform(0,1,size=Tl_atoms)\n",
    "    Tl_atoms = len(Tl[Tl > prob])\n",
    "    Pb_atoms += len(Tl[Tl <= prob])\n",
    "        \n",
    "plt.plot(np.linspace(0,time_int,time_int), Tl_evolution, label='Thallium Evolution')\n",
    "plt.plot(np.linspace(0,time_int,time_int), Pb_evolution, label='Lead Evolution')\n",
    "plt.legend()\n",
    "plt.xlabel('Time [s]')\n",
    "plt.ylabel('Number of atoms')\n",
    "plt.show()\n",
    "\n",
    "# MISS 2 POINT"
   ]
  },
  {
   "cell_type": "markdown",
   "metadata": {},
   "source": [
    "2\\. **Rutherford Scattering**\n",
    "\n",
    "The scattering angle $\\theta$ of $\\alpha$ particles hitting a positively charged nucleus of a Gold atom ($Z=79$) follows the rule:\n",
    "\n",
    "$$\n",
    "\\tan{\\frac{1}{2} \\theta} = \\frac{Z e^2} {2\\pi \\epsilon_0 E b}\n",
    "$$\n",
    "\n",
    "where $E=7.7$ MeV and $b$ beam is the impact parameter. The beam is represented by a 2D gaussian distribution with $\\sigma=a_0/100$ for both coordinates ($a_0$ being the Bohr radius). Assume 1 million $\\alpha$ particles are shot on the gold atom.\n",
    "\n",
    "Computing the fraction of particles that \"bounce back\",i.e. those particle whose scattering angle is greater than $\\pi/2$ (which set a condition on the impact parameter $b$)"
   ]
  },
  {
   "cell_type": "code",
   "execution_count": null,
   "metadata": {},
   "outputs": [],
   "source": [
    "n = 10**6\n",
    "Z = 79\n",
    "e = 1.60217*(10**-19)\n",
    "E = 7.7*(10**6)*e\n",
    "epsilon_0 = 8.85419*10**(-12)\n",
    "bohr_radius = 5.29*10**(-11)\n",
    "\n",
    "b = np.random.normal(scale=bohr_radius/100, size=n)\n",
    "theta = 2*np.arctan(Z*e**2 / (2*np.pi*epsilon_0*E*b))\n",
    "\n",
    "bounce_back = theta[theta > np.pi/2]\n",
    "print(\"TFraction of particles that bounces back:\", len(bounce_back)/n)"
   ]
  },
  {
   "cell_type": "markdown",
   "metadata": {},
   "source": [
    "3\\. **Monte Carlo integration: hit/miss vs mean value method**\n",
    "\n",
    "Consider the function \n",
    "\n",
    "$$f(x) =\\sin^2{\\frac{1}{x(2-x)}}$$\n",
    "\n",
    "* Compute the integral of $f(x)$ between 0 and 2 with the hit/miss method. Evaluate the error of your estimate\n",
    "* Repeat the integral with the mean value method. Evaluate the error and compare it with the previous one"
   ]
  },
  {
   "cell_type": "code",
   "execution_count": null,
   "metadata": {},
   "outputs": [],
   "source": [
    "from scipy import integrate\n",
    "\n",
    "def f(x):\n",
    "    return (np.sin(1/(x*(2-x))))**2\n",
    "\n",
    "N = 10**5\n",
    "hit=0\n",
    "x = np.linspace(0,2,N)\n",
    "\n",
    "real_value = integrate.quad(f, 0, 2, limit=10000)[0]\n",
    "print(\"Real value: \", real_value)\n",
    "\n",
    "for i in range(N):\n",
    "    x = 2*np.random.random()\n",
    "     # y < f(x)\n",
    "    if np.random.random() < f(x):\n",
    "        hit += 1\n",
    "        \n",
    "value_hm = 2*hit/N\n",
    "print('Value with hit/miss: ', value_hm )\n",
    "print('Error: ', abs(real_value-value_hm))\n",
    "\n",
    "mean_value = 2 * f(2*np.random.random(N)).sum() / N\n",
    "print('Mean value: ', mean_value )\n",
    "print('Error: ', abs(real_value-mean_value))"
   ]
  },
  {
   "cell_type": "markdown",
   "metadata": {},
   "source": [
    "4\\. **Monte Carlo integration in high dimension**\n",
    "\n",
    "* Start of by computing the area of a circle of unit radius, by integrating the function \n",
    "\n",
    "$$\n",
    "f(x,y)=\n",
    "\\left\\{\n",
    "\\begin{array}{ll}\n",
    "      1 & x^2+y^2\\le 1 \\\\\n",
    "      0 & {\\rm elsewhere}\n",
    "\\end{array} \n",
    "\\right.\n",
    "$$\n",
    "\n",
    "* Generalize the result for a 10D sphere\n",
    "\n"
   ]
  },
  {
   "cell_type": "code",
   "execution_count": null,
   "metadata": {},
   "outputs": [],
   "source": [
    "def area(x, y):\n",
    "    if x**2+y**2<1:\n",
    "        return 1\n",
    "    else:\n",
    "        return 0\n",
    "    \n",
    "N = 10**5\n",
    "points = 2*np.random.random(size=(N, 2))-1\n",
    "c = 0\n",
    "\n",
    "for x,y in points:\n",
    "    c+=area(x,y)\n",
    "\n",
    "area = 4 * c / N\n",
    "print(\"Estimated area of a circle: \", area)\n",
    "\n",
    "# General case\n",
    "def sphere_volume(p):\n",
    "    squares = p**2\n",
    "    if squares.sum()<1:\n",
    "        return 1\n",
    "    else:\n",
    "        return 0\n",
    "    \n",
    "points = 2*np.random.random(size=(N, 10))-1\n",
    "c = 0\n",
    "\n",
    "for p in points:\n",
    "    c+=sphere_volume(p)\n",
    "    \n",
    "area_md = 2**10*c/N\n",
    "print(\"Estimated area of a 10D sphere: \", area_md)"
   ]
  },
  {
   "cell_type": "markdown",
   "metadata": {},
   "source": [
    "5\\. **Monte Carlo integration with importance sampling** \n",
    "\n",
    "Calculate the value of the integral:\n",
    "\n",
    "$$\n",
    "I=\\int_0^1 \\frac{x^{-1/2}}{e^x+1} dx\n",
    "$$\n",
    "\n",
    "using the importance sampling method with $w(x)=1/\\sqrt{x}$. You should get a result about 0.84"
   ]
  },
  {
   "cell_type": "code",
   "execution_count": null,
   "metadata": {},
   "outputs": [],
   "source": [
    "def f(x):\n",
    "    return (x**(-1/2))/(np.exp(x)+1)\n",
    "\n",
    "def w(x):\n",
    "    return 1/(2*np.sqrt(x))\n",
    "\n",
    "N = 10**5\n",
    "\n",
    "x = np.random.random(size=N)\n",
    "I = 1.0 / N * np.sum(f(x) / w(x))\n",
    "print(\"Estimated Integral: \",I)"
   ]
  },
  {
   "cell_type": "code",
   "execution_count": null,
   "metadata": {},
   "outputs": [],
   "source": []
  }
 ],
 "metadata": {
  "kernelspec": {
   "display_name": "Python 3",
   "language": "python",
   "name": "python3"
  },
  "language_info": {
   "codemirror_mode": {
    "name": "ipython",
    "version": 3
   },
   "file_extension": ".py",
   "mimetype": "text/x-python",
   "name": "python",
   "nbconvert_exporter": "python",
   "pygments_lexer": "ipython3",
   "version": "3.8.3"
  }
 },
 "nbformat": 4,
 "nbformat_minor": 2
}
