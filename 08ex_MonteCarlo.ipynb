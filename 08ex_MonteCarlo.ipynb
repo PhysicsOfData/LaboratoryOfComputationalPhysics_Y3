{
 "cells": [
  {
   "cell_type": "code",
   "execution_count": 1,
   "metadata": {},
   "outputs": [
    {
     "data": {
      "text/plain": [
       "'%.4f'"
      ]
     },
     "execution_count": 1,
     "metadata": {},
     "output_type": "execute_result"
    }
   ],
   "source": [
    "import numpy as np\n",
    "import pandas as pd\n",
    "from scipy import stats\n",
    "\n",
    "import matplotlib.pyplot as plt\n",
    "import seaborn as sns\n",
    "%matplotlib inline\n",
    "%precision 4"
   ]
  },
  {
   "cell_type": "markdown",
   "metadata": {},
   "source": [
    "1\\. **Radioactive decay chain**\n",
    "\n",
    "${\\rm Tl}^{208}$ decays to ${\\rm Pb}^{208}$ with a half-lieve of 3.052 minutes. Suppose to start with a sample of 1000 Thallium atoms and 0 of Lead atoms.\n",
    "\n",
    "* Take steps in time of 1 second and at each time-step decide whether each Tl atom has decayed or not, accordingly to the probability $p(t)=1-2^{-t/\\tau}$. Subtract the total number of Tl atoms that decayed at each step from the Tl sample and add them to the Lead one. Plot the evolution of the two sets as a function of time  \n",
    "* Repeat the exercise by means of the inverse transform method: draw 1000 random numbers from the non-uniform probability distribution $p(t)=2^{-t/\\tau}\\frac{\\ln 2}{\\tau}$ to represent the times of decay of the 1000 Tl atoms. Make a plot showing the number of atoms that have not decayed as a function of time"
   ]
  },
  {
   "cell_type": "code",
   "execution_count": 2,
   "metadata": {},
   "outputs": [
    {
     "data": {
      "text/plain": [
       "<matplotlib.legend.Legend at 0x2c46f7c2190>"
      ]
     },
     "execution_count": 2,
     "metadata": {},
     "output_type": "execute_result"
    },
    {
     "data": {
      "image/png": "[encoded data removed]",
      "text/plain": [
       "<Figure size 864x288 with 2 Axes>"
      ]
     },
     "metadata": {
      "needs_background": "light"
     },
     "output_type": "display_data"
    }
   ],
   "source": [
    "ntl=1000\n",
    "npb=0\n",
    "tau=3.052*60 #in seconds\n",
    "def decay(t,tau):\n",
    "    return (1-2**(-t/tau))\n",
    "time=np.arange(0,1000,1)\n",
    "ltl=[]\n",
    "lpb=[]\n",
    "for t in time:\n",
    "    for i in range(0,ntl,1):\n",
    "        if np.random.uniform(0,t)<decay(t,tau):\n",
    "            ntl=ntl-1     \n",
    "            npb=npb+1\n",
    "    ltl.append(ntl)        \n",
    "    lpb.append(npb)\n",
    "plt.figure(figsize=(12,4))\n",
    "plt.subplot(121)\n",
    "plt.title('Decay rate of Thallium verus time')\n",
    "plt.ylabel('# of atoms')\n",
    "plt.xlabel('time[s]')\n",
    "plt.plot(time,ltl,color='springgreen', label='Thallium decay rate')\n",
    "plt.plot(time,lpb,color='navy', label='Lead increase rate')\n",
    "plt.legend()\n",
    "\n",
    "\n",
    "def inverse(z,tau):\n",
    "    return (-tau/np.log(2)*np.log(1-z))\n",
    "tim=inverse(np.random.uniform(0,1,1000),tau)\n",
    "tim=sorted(tim, reverse=True)\n",
    "plt.subplot(122)\n",
    "plt.title('Decay rate of Thallium verus time')\n",
    "plt.ylabel('# of atoms')\n",
    "plt.xlabel('time[s]')\n",
    "plt.plot(tim,np.arange(0,1000),color='springgreen', label='Thallium decay rate')\n",
    "plt.legend()"
   ]
  },
  {
   "cell_type": "markdown",
   "metadata": {},
   "source": [
    "2\\. **Rutherford Scattering**\n",
    "\n",
    "The scattering angle $\\theta$ of $\\alpha$ particles hitting a positively charged nucleus of a Gold atom ($Z=79$) follows the rule:\n",
    "\n",
    "$$\n",
    "\\tan{\\frac{1}{2} \\theta} = \\frac{Z e^2} {2\\pi \\epsilon_0 E b}\n",
    "$$\n",
    "\n",
    "where $E=7.7$ MeV and $b$ beam is the impact parameter. The beam is represented by a 2D gaussian distribution with $\\sigma=a_0/100$ for both coordinates ($a_0$ being the Bohr radius). Assume 1 million $\\alpha$ particles are shot on the gold atom.\n",
    "\n",
    "Computing the fraction of particles that \"bounce back\",i.e. those particle whose scattering angle is greater than $\\pi/2$ (which set a condition on the impact parameter $b$)"
   ]
  },
  {
   "cell_type": "code",
   "execution_count": 3,
   "metadata": {},
   "outputs": [
    {
     "data": {
      "text/plain": [
       "(780,)"
      ]
     },
     "execution_count": 3,
     "metadata": {},
     "output_type": "execute_result"
    }
   ],
   "source": [
    "Z=79\n",
    "E=7.7\n",
    "e=1.44\n",
    "a0= 52917.77 \n",
    "sig=a0/100\n",
    "\n",
    "#impact parameter\n",
    "n=1000000\n",
    "y=np.random.normal(0,sig,n)\n",
    "x=np.random.normal(0,sig,n)\n",
    "b=(x**2+y**2)**(1/2)\n",
    "\n",
    "theta=2*np.arctan(Z*e**2/(E*b))\n",
    "theta=theta[(theta>(np.pi/2))]\n",
    "theta.shape"
   ]
  },
  {
   "cell_type": "markdown",
   "metadata": {},
   "source": [
    "3\\. **Monte Carlo integration: hit/miss vs mean value method**\n",
    "\n",
    "Consider the function \n",
    "\n",
    "$$f(x) =\\sin^2{\\frac{1}{x(2-x)}}$$\n",
    "\n",
    "* Compute the integral of $f(x)$ between 0 and 2 with the hit/miss method. Evaluate the error of your estimate\n",
    "* Repeat the integral with the mean value method. Evaluate the error and compare it with the previous one"
   ]
  },
  {
   "cell_type": "code",
   "execution_count": 4,
   "metadata": {},
   "outputs": [
    {
     "name": "stdout",
     "output_type": "stream",
     "text": [
      "1.44838\n",
      "1.4528968396588233 pm 0.0016596952383711961\n"
     ]
    }
   ],
   "source": [
    "def f(x):\n",
    "    return (np.sin(1/(x*(2-x))))**2\n",
    "\n",
    "# hit/miss integration\n",
    "N=100000\n",
    "count=0\n",
    "for i in range(N):\n",
    "    x=2*np.random.random()\n",
    "    y=np.random.random()\n",
    "    if y<f(x): count+=1\n",
    "I=2*count/N\n",
    "print(I)\n",
    "\n",
    "#mean value integration\n",
    "summation=0\n",
    "var=0\n",
    "for i in range(N):\n",
    "    summation=summation+f(np.random.random())\n",
    "integral=2/N*summation\n",
    "for i in range(N):\n",
    "    var=var+(integral/2-f(np.random.random()))**2\n",
    "var=var/(N-1)\n",
    "error=2/(N**(1/2))*(var**(1/2))\n",
    "print(integral, \"pm\", error)"
   ]
  },
  {
   "cell_type": "markdown",
   "metadata": {},
   "source": [
    "4\\. **Monte Carlo integration in high dimension**\n",
    "\n",
    "* Start of by computing the area of a circle of unit radius, by integrating the function \n",
    "\n",
    "$$\n",
    "f(x,y)=\n",
    "\\left\\{\n",
    "\\begin{array}{ll}\n",
    "      1 & x^2+y^2\\le 1 \\\\\n",
    "      0 & {\\rm elsewhere}\n",
    "\\end{array} \n",
    "\\right.\n",
    "$$\n",
    "\n",
    "* Generalize the result for a 10D sphere\n",
    "\n"
   ]
  },
  {
   "cell_type": "code",
   "execution_count": 4,
   "metadata": {},
   "outputs": [
    {
     "name": "stdout",
     "output_type": "stream",
     "text": [
      "0.7876\n",
      "201.63584000000003\n"
     ]
    }
   ],
   "source": [
    "def f(x,y):\n",
    "    if (x**2+y**2<=1):\n",
    "        return (1)\n",
    "    else:\n",
    "        return(0)\n",
    "N=100000\n",
    "count=0\n",
    "for i in range(N):\n",
    "    x=2*np.random.random()\n",
    "    y=2*np.random.random()\n",
    "    z=np.random.random()\n",
    "    if z<f(x,y): count+=1\n",
    "I=4*count/N\n",
    "print(I)\n",
    "\n",
    "def ff(coord):\n",
    "    coord=np.power(coord,2)\n",
    "    som=coord.sum()\n",
    "    if (som<=1):\n",
    "        return (1)\n",
    "    else:\n",
    "        return(0)\n",
    "N=100000\n",
    "for i in range(N):\n",
    "    x = 2*np.random.random(size=10) \n",
    "    z=np.random.random()\n",
    "    if z<ff(x): count+=1 \n",
    "\n",
    "I = np.power(2,10)/N *count\n",
    "print(I)\n"
   ]
  },
  {
   "cell_type": "markdown",
   "metadata": {},
   "source": [
    "5\\. **Monte Carlo integration with importance sampling** \n",
    "\n",
    "Calculate the value of the integral:\n",
    "\n",
    "$$\n",
    "I=\\int_0^1 \\frac{x^{-1/2}}{e^x+1} dx\n",
    "$$\n",
    "\n",
    "using the importance sampling method with $w(x)=1/\\sqrt{x}$. You should get a result about 0.84"
   ]
  },
  {
   "cell_type": "code",
   "execution_count": 9,
   "metadata": {},
   "outputs": [
    {
     "name": "stdout",
     "output_type": "stream",
     "text": [
      "0.8389105467613285\n"
     ]
    }
   ],
   "source": [
    "N = 100000\n",
    "def f(x):\n",
    "    return np.power(x,-1/2)/(np.exp(x) + 1) \n",
    "def w(x):\n",
    "    if (x > 0):\n",
    "        return x**(-1/2)\n",
    "def inv(x):\n",
    "    return x**2/4 \n",
    "y=np.random.uniform(0,2,N)\n",
    "wi=inv(y)\n",
    "num=np.array([f(i) for i in wi])\n",
    "den=np.array([w(i) for i in wi])\n",
    "I = 2/N*np.sum(num/den)\n",
    "print(I)"
   ]
  }
 ],
 "metadata": {
  "kernelspec": {
   "display_name": "Python 3",
   "language": "python",
   "name": "python3"
  },
  "language_info": {
   "codemirror_mode": {
    "name": "ipython",
    "version": 3
   },
   "file_extension": ".py",
   "mimetype": "text/x-python",
   "name": "python",
   "nbconvert_exporter": "python",
   "pygments_lexer": "ipython3",
   "version": "3.8.3"
  }
 },
 "nbformat": 4,
 "nbformat_minor": 2
}
