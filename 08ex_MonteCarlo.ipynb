{
 "cells": [
  {
   "cell_type": "markdown",
   "metadata": {},
   "source": [
    "1\\. **Radioactive decay chain**\n",
    "\n",
    "${\\rm Tl}^{208}$ decays to ${\\rm Pb}^{208}$ with a half-lieve of 3.052 minutes. Suppose to start with a sample of 1000 Thallium atoms and 0 of Lead atoms.\n",
    "\n",
    "* Take steps in time of 1 second and at each time-step decide whether each Tl atom has decayed or not, accordingly to the probability $p(t)=1-2^{-t/\\tau}$. Subtract the total number of Tl atoms that decayed at each step from the Tl sample and add them to the Lead one. Plot the evolution of the two sets as a function of time  \n",
    "* Repeat the exercise by means of the inverse transform method: draw 1000 random numbers from the non-uniform probability distribution $p(t)=2^{-t/\\tau}\\frac{\\ln 2}{\\tau}$ to represent the times of decay of the 1000 Tl atoms. Make a plot showing the number of atoms that have not decayed as a function of time"
   ]
  },
  {
   "cell_type": "code",
   "execution_count": 3,
   "metadata": {},
   "outputs": [],
   "source": [
    "import numpy as np\n",
    "import pandas as pd\n",
    "from scipy import stats\n",
    "import matplotlib.pyplot as plt\n",
    "import seaborn as sns\n"
   ]
  },
  {
   "cell_type": "code",
   "execution_count": 7,
   "metadata": {},
   "outputs": [
    {
     "data": {
      "text/plain": [
       "[<matplotlib.lines.Line2D at 0x7f1c47f43820>]"
      ]
     },
     "execution_count": 7,
     "metadata": {},
     "output_type": "execute_result"
    },
    {
     "data": {
      "image/png": "[encoded data removed]",
      "text/plain": [
       "<Figure size 432x288 with 1 Axes>"
      ]
     },
     "metadata": {
      "needs_background": "light"
     },
     "output_type": "display_data"
    }
   ],
   "source": [
    "Tau = 3.052 * 60\n",
    "t1 = 1000\n",
    "pb = 0\n",
    "\n",
    "t1_ar = []\n",
    "pb_ar = []\n",
    "time = np.arange(0,1000)\n",
    "\n",
    "def prob(t,Tau):\n",
    "    p = 1 - pow(2, -t/Tau)\n",
    "    return p\n",
    "\n",
    "for t in time:\n",
    "    for count in range(0, t1):\n",
    "        if (np.random.uniform(0,1) < prob(1, Tau)):\n",
    "            t1 = t1 - 1\n",
    "            pb = pb + 1\n",
    "    t1_ar.append(t1)\n",
    "    pb_ar.append(pb)\n",
    "\n",
    "plt.plot(time, t1_ar)\n",
    "plt.plot(time, pb_ar)"
   ]
  },
  {
   "cell_type": "code",
   "execution_count": 10,
   "metadata": {},
   "outputs": [
    {
     "data": {
      "text/plain": [
       "[<matplotlib.lines.Line2D at 0x7f1c47e61670>]"
      ]
     },
     "execution_count": 10,
     "metadata": {},
     "output_type": "execute_result"
    },
    {
     "data": {
      "image/png": "[encoded data removed]",
      "text/plain": [
       "<Figure size 432x288 with 1 Axes>"
      ]
     },
     "metadata": {
      "needs_background": "light"
     },
     "output_type": "display_data"
    }
   ],
   "source": [
    "def time(x, Tau):\n",
    "    t = (-Tau * np.log(1-x))/np.log(2)\n",
    "    return t\n",
    "\n",
    "Tau = 3.052 * 60\n",
    "t1 = 1000\n",
    "pb = 0\n",
    "\n",
    "t_ar = []\n",
    "t1_ar = []\n",
    "\n",
    "for count in range(0,t1):\n",
    "    t = time(np.random.uniform(0,1), Tau)\n",
    "    t_ar.append(t)\n",
    "    t1 = t1 - 1\n",
    "    t1_ar.append(t1)\n",
    "    \n",
    "plt.plot(np.sort(t_ar), t1_ar)"
   ]
  },
  {
   "cell_type": "markdown",
   "metadata": {},
   "source": [
    "2\\. **Rutherford Scattering**\n",
    "\n",
    "The scattering angle $\\theta$ of $\\alpha$ particles hitting a positively charged nucleus of a Gold atom ($Z=79$) follows the rule:\n",
    "\n",
    "$$\n",
    "\\tan{\\frac{1}{2} \\theta} = \\frac{Z e^2} {2\\pi \\epsilon_0 E b}\n",
    "$$\n",
    "\n",
    "where $E=7.7$ MeV and $b$ beam is the impact parameter. The beam is represented by a 2D gaussian distribution with $\\sigma=a_0/100$ for both coordinates ($a_0$ being the Bohr radius). Assume 1 million $\\alpha$ particles are shot on the gold atom.\n",
    "\n",
    "Computing the fraction of particles that \"bounce back\",i.e. those particle whose scattering angle is greater than $\\pi/2$ (which set a condition on the impact parameter $b$)"
   ]
  },
  {
   "cell_type": "code",
   "execution_count": 24,
   "metadata": {},
   "outputs": [
    {
     "name": "stdout",
     "output_type": "stream",
     "text": [
      "1537\n"
     ]
    }
   ],
   "source": [
    "from scipy.constants import epsilon_0, pi, e, physical_constants\n",
    "\n",
    "Rad = physical_constants['Bohr radius'][0]\n",
    "\n",
    "def tan(Z,E,b):\n",
    "    return (Z*e**2)/(2*pi*epsilon_0*E*b)\n",
    "\n",
    "def theta(x):\n",
    "    return 2 * np.arctan(x)\n",
    "\n",
    "Z = 79\n",
    "E = 7.7 * 10**6*e\n",
    "sigma = Rad/100\n",
    "alp = pow(10,6)\n",
    "\n",
    "x = np.random.normal(0,sigma, alp)\n",
    "y = np.random.normal(0, sigma, alp)\n",
    "b = np.sqrt(x**2 + y**2)\n",
    "\n",
    "theta = theta(tan(Z,E,b))\n",
    "angle = theta[(theta >(pi/2))]\n",
    "print(len(angle))"
   ]
  },
  {
   "cell_type": "markdown",
   "metadata": {},
   "source": [
    "3\\. **Monte Carlo integration: hit/miss vs mean value method**\n",
    "\n",
    "Consider the function \n",
    "\n",
    "$$f(x) =\\sin^2{\\frac{1}{x(2-x)}}$$\n",
    "\n",
    "* Compute the integral of $f(x)$ between 0 and 2 with the hit/miss method. Evaluate the error of your estimate\n",
    "* Repeat the integral with the mean value method. Evaluate the error and compare it with the previous one"
   ]
  },
  {
   "cell_type": "code",
   "execution_count": 35,
   "metadata": {},
   "outputs": [
    {
     "name": "stdout",
     "output_type": "stream",
     "text": [
      "0.76\n",
      "0.01987730087310649\n"
     ]
    },
    {
     "data": {
      "image/png": "[encoded data removed]",
      "text/plain": [
       "<Figure size 432x288 with 1 Axes>"
      ]
     },
     "metadata": {
      "needs_background": "light"
     },
     "output_type": "display_data"
    }
   ],
   "source": [
    "def f(x):\n",
    "    return pow(np.sin(1/x*(2-x)), 2)\n",
    "\n",
    "x = np.linspace(0.001, 1.999, 1000)\n",
    "plt.plot(x, f(x), 'b')\n",
    "\n",
    "N = 1000\n",
    "count = 0\n",
    "\n",
    "for i in range(0,N):\n",
    "    x = 2 * np.random.random()\n",
    "    y = np.random.random()\n",
    "    if y < f(x):\n",
    "        count = count + 1\n",
    "\n",
    "I = 2 * count / N\n",
    "print(I)\n",
    "error = 0.6475 * np.sqrt(I * (2-I)/N)\n",
    "print(error)\n"
   ]
  },
  {
   "cell_type": "markdown",
   "metadata": {},
   "source": [
    "4\\. **Monte Carlo integration in high dimension**\n",
    "\n",
    "* Start of by computing the area of a circle of unit radius, by integrating the function \n",
    "\n",
    "$$\n",
    "f(x,y)=\n",
    "\\left\\{\n",
    "\\begin{array}{ll}\n",
    "      1 & x^2+y^2\\le 1 \\\\\n",
    "      0 & {\\rm elsewhere}\n",
    "\\end{array} \n",
    "\\right.\n",
    "$$\n",
    "\n",
    "* Generalize the result for a 10D sphere\n",
    "\n"
   ]
  },
  {
   "cell_type": "code",
   "execution_count": 38,
   "metadata": {},
   "outputs": [
    {
     "name": "stdout",
     "output_type": "stream",
     "text": [
      "3.1448\n"
     ]
    }
   ],
   "source": [
    "def f(x,y):\n",
    "    if(x**2 + y**2 <= 1):\n",
    "        return 1\n",
    "    else:\n",
    "        return 0\n",
    "    \n",
    "N = 10000\n",
    "count = 0\n",
    "\n",
    "for i in range(0,N):\n",
    "    x = 2 * np.random.random() - 1\n",
    "    y = 2 * np.random.random() - 1\n",
    "    if f(x,y) == 1 :\n",
    "        count = count + 1\n",
    "\n",
    "I = 4 * count/N\n",
    "print(I)\n",
    "\n"
   ]
  },
  {
   "cell_type": "code",
   "execution_count": 41,
   "metadata": {},
   "outputs": [
    {
     "name": "stdout",
     "output_type": "stream",
     "text": [
      "2.6624\n"
     ]
    }
   ],
   "source": [
    "def dist(x):\n",
    "    return dist + x ** 2\n",
    "\n",
    "N = 10000\n",
    "count = 0\n",
    "\n",
    "for i in range(0,N):\n",
    "    x = []\n",
    "    d = 0\n",
    "    for j in range(0,10):\n",
    "        x.append(2 * np.random.random() - 1)\n",
    "        d = d + x[j] ** 2\n",
    "        \n",
    "    if d <= 1:\n",
    "        count = count + 1\n",
    "        \n",
    "I = 2 ** 10 * count/N\n",
    "print(I)"
   ]
  },
  {
   "cell_type": "markdown",
   "metadata": {},
   "source": [
    "5\\. **Monte Carlo integration with importance sampling** \n",
    "\n",
    "Calculate the value of the integral:\n",
    "\n",
    "$$\n",
    "I=\\int_0^1 \\frac{x^{-1/2}}{e^x+1} dx\n",
    "$$\n",
    "\n",
    "using the importance sampling method with $w(x)=1/\\sqrt{x}$. You should get a result about 0.84"
   ]
  },
  {
   "cell_type": "code",
   "execution_count": null,
   "metadata": {},
   "outputs": [],
   "source": [
    "def func(x):\n",
    "    return pow(x, -1/2)/(np.exp(x) + 1)\n",
    "\n",
    "def g1(x):\n",
    "    if ( x >= 0):\n",
    "        return 1/np.sqrt(x)\n",
    "    \n",
    "def g2(x):\n",
    "    return x**2/4\n",
    "\n",
    "N = 10000\n",
    "x = np.linspace(0,2,N)\n",
    "y = g2(x)\n",
    "t = 0\n",
    "\n",
    "for i in range(0,N):\n",
    "    t+ = 1/(1 + np.exp())"
   ]
  }
 ],
 "metadata": {
  "kernelspec": {
   "display_name": "Python 3",
   "language": "python",
   "name": "python3"
  },
  "language_info": {
   "codemirror_mode": {
    "name": "ipython",
    "version": 3
   },
   "file_extension": ".py",
   "mimetype": "text/x-python",
   "name": "python",
   "nbconvert_exporter": "python",
   "pygments_lexer": "ipython3",
   "version": "3.8.3"
  }
 },
 "nbformat": 4,
 "nbformat_minor": 2
}
