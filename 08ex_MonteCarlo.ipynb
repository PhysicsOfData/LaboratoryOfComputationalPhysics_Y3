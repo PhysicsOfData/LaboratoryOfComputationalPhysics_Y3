{
 "cells": [
  {
   "cell_type": "code",
   "execution_count": 2,
   "metadata": {},
   "outputs": [
    {
     "data": {
      "text/plain": [
       "'%.4f'"
      ]
     },
     "execution_count": 2,
     "metadata": {},
     "output_type": "execute_result"
    }
   ],
   "source": [
    "import numpy as np\n",
    "import pandas as pd\n",
    "import math\n",
    "from scipy import stats\n",
    "\n",
    "import matplotlib.pyplot as plt\n",
    "import seaborn as sns\n",
    "%matplotlib inline\n",
    "%precision 4"
   ]
  },
  {
   "cell_type": "markdown",
   "metadata": {},
   "source": [
    "1\\. **Radioactive decay chain**\n",
    "\n",
    "${\\rm Tl}^{208}$ decays to ${\\rm Pb}^{208}$ with a half-lieve of 3.052 minutes. Suppose to start with a sample of 1000 Thallium atoms and 0 of Lead atoms.\n",
    "\n",
    "* Take steps in time of 1 second and at each time-step decide whether each Tl atom has decayed or not, accordingly to the probability $p(t)=1-2^{-t/\\tau}$. Subtract the total number of Tl atoms that decayed at each step from the Tl sample and add them to the Lead one. Plot the evolution of the two sets as a function of time  \n",
    "* Repeat the exercise by means of the inverse transform method: draw 1000 random numbers from the non-uniform probability distribution $p(t)=2^{-t/\\tau}\\frac{\\ln 2}{\\tau}$ to represent the times of decay of the 1000 Tl atoms. Make a plot showing the number of atoms that have not decayed as a function of time"
   ]
  },
  {
   "cell_type": "code",
   "execution_count": null,
   "metadata": {},
   "outputs": [],
   "source": [
    "#code ex1\n",
    "    \n",
    "#Radioactive decay chain\n",
    "tau_tl=3.052*60 #sec\n",
    "tl0=1000\n",
    "\n",
    "def prob(t,tau):\n",
    "    return 1-2**(-t/tau)\n",
    "\n",
    "pb=[]\n",
    "tl=[]\n",
    "\n",
    "for i in range(0,int(tau_tl*2)) :\n",
    "    tl.append(tl0*np.abs((prob(i,tau_tl)-1)))\n",
    "    \n",
    "for i in range(0,int(tau_tl)*2) :\n",
    "    pb.append(tl0*prob(i,tau_tl))\n",
    "    \n",
    "#Plot the evolution of the two sets as a function of time \n",
    "f, ax1 = plt.subplots(1,1, figsize=(7,5))\n",
    "\n",
    "time=np.arange(int(tau_tl)*2)\n",
    "ax1.plot(time,tl, label=\"Tl\")\n",
    "ax1.plot(time,pb, label=\"Pb \")\n",
    "ax1.set_title(\"Evolution of the two sets as a function of time\" ,fontsize=14)\n",
    "ax1.set_ylabel(\"Number of atoms\",fontsize=12)\n",
    "ax1.set_xlabel(\"Time\",fontsize=12)\n",
    "ax1.legend()\n",
    "\n",
    "\n",
    "#Repeat the exercise by means of the inverse transform method: draw 1000 random numbers \n",
    "#from the non-uniform probability distribution 𝑝(𝑡)=2−𝑡/𝜏ln2𝜏 \n",
    "#to represent the times of decay of the 1000 Tl atoms. \n",
    "\n",
    "tau=3.052*60 #sec\n",
    "tl0=1000\n",
    "r=[]\n",
    "\n",
    "for i in range(tl0):\n",
    "    z=np.random.random(tl0)\n",
    "    r.append((-tau/np.log(2))*np.log(1-z))\n",
    "\n",
    "f, ax3 = plt.subplots(1,1, figsize=(7,5))\n",
    "ax3.hist(r, 20)\n",
    "ax3.set_xlabel(\"Time\",fontsize=12)\n",
    "\n"
   ]
  },
  {
   "cell_type": "markdown",
   "metadata": {},
   "source": [
    "2\\. **Rutherford Scattering**\n",
    "\n",
    "The scattering angle $\\theta$ of $\\alpha$ particles hitting a positively charged nucleus of a Gold atom ($Z=79$) follows the rule:\n",
    "\n",
    "$$\n",
    "\\tan{\\frac{1}{2} \\theta} = \\frac{Z e^2} {2\\pi \\epsilon_0 E b}\n",
    "$$\n",
    "\n",
    "where $E=7.7$ MeV and $b$ beam is the impact parameter. The beam is represented by a 2D gaussian distribution with $\\sigma=a_0/100$ for both coordinates ($a_0$ being the Bohr radius). Assume 1 million $\\alpha$ particles are shot on the gold atom.\n",
    "\n",
    "Computing the fraction of particles that \"bounce back\",i.e. those particle whose scattering angle is greater than $\\pi/2$ (which set a condition on the impact parameter $b$)"
   ]
  },
  {
   "cell_type": "code",
   "execution_count": 7,
   "metadata": {},
   "outputs": [
    {
     "name": "stdout",
     "output_type": "stream",
     "text": [
      "Fraction of particles that bounce back:  0.001626\n"
     ]
    }
   ],
   "source": [
    "#code ex2\n",
    "Z = 79\n",
    "e = 1.6e-19\n",
    "eps0 = 8.854e-12\n",
    "E = (7.7e6)*(1.6e-19)\n",
    "a0 = 5.29e-11 \n",
    "N = 1000000 #assume 1 million alpha particle are shot on the gold atom \n",
    "sigma = a0/100\n",
    "\n",
    "#beam 2D gaussian gistribution \n",
    "x=np.random.normal(0,sigma, N)\n",
    "y=np.random.normal(0,sigma, N)\n",
    "\n",
    "#b parameter\n",
    "b=np.sqrt(x**2+y**2)\n",
    "\n",
    "#scattering angle\n",
    "angle=2*np.arctan((Z*e**2)/(2*math.pi*eps0*E*b))\n",
    "\n",
    "#Fraction of particles that \"bounce back\", particle whose scattering angle is greater than 𝜋/2 \n",
    "particle_back= angle[angle>math.pi/2]\n",
    "print(\"Fraction of particles that bounce back: \", len(particle_back)/N)\n",
    "\n"
   ]
  },
  {
   "cell_type": "markdown",
   "metadata": {},
   "source": [
    "3\\. **Monte Carlo integration: hit/miss vs mean value method**\n",
    "\n",
    "Consider the function \n",
    "\n",
    "$$f(x) =\\sin^2{\\frac{1}{x(2-x)}}$$\n",
    "\n",
    "* Compute the integral of $f(x)$ between 0 and 2 with the hit/miss method. Evaluate the error of your estimate\n",
    "* Repeat the integral with the mean value method. Evaluate the error and compare it with the previous one"
   ]
  },
  {
   "cell_type": "code",
   "execution_count": 24,
   "metadata": {},
   "outputs": [
    {
     "name": "stdout",
     "output_type": "stream",
     "text": [
      "Integral with the hit/miss method:1.45312\n",
      "Integral with the mean value method:1.45225\n",
      "Error: 0.00166\n"
     ]
    }
   ],
   "source": [
    "#code ex3\n",
    "\n",
    "def f(x):\n",
    "    return (np.sin(1/(x*(2-x))))**2\n",
    "\n",
    "\n",
    "##Compute the integral of 𝑓(𝑥) between 0 and 2 with the hit/miss method \n",
    "\n",
    "# Monte Carlo integration\n",
    "N=100000\n",
    "count=0\n",
    "for i in range(N):\n",
    "    x=2*np.random.random()  #random number btw (0,1)*2=(0,2)\n",
    "    y=np.random.random() \n",
    "    if y<f(x): count+=1\n",
    "I=2*count/N\n",
    "print(\"Integral with the hit/miss method:{:0.5f}\".format(I))\n",
    "\n",
    "#Evaluate the error of your estimate\n",
    "#------------------------------------------------------------------------------------\n",
    "\n",
    "\n",
    "##Repeat the integral with the mean value method\n",
    "X=2*np.random.uniform(size=N) #sizeN to solve errore of type float\n",
    "a=0\n",
    "b=2\n",
    "integ = ((b-a)/N)*sum(f(X))\n",
    "print(\"Integral with the mean value method:{:0.5f}\".format(integ))\n",
    "\n",
    "#Evaluate the error and compare it with the previous one\n",
    "var=np.var(f(X))\n",
    "err=2*np.sqrt(var)/np.sqrt(N)   \n",
    "print(\"Error: {:0.5f}\".format(err))\n",
    "\n"
   ]
  },
  {
   "cell_type": "markdown",
   "metadata": {},
   "source": [
    "4\\. **Monte Carlo integration in high dimension**\n",
    "\n",
    "* Start of by computing the area of a circle of unit radius, by integrating the function \n",
    "\n",
    "$$\n",
    "f(x,y)=\n",
    "\\left\\{\n",
    "\\begin{array}{ll}\n",
    "      1 & x^2+y^2\\le 1 \\\\\n",
    "      0 & {\\rm elsewhere}\n",
    "\\end{array} \n",
    "\\right.\n",
    "$$\n",
    "\n",
    "* Generalize the result for a 10D sphere\n",
    "\n"
   ]
  },
  {
   "cell_type": "code",
   "execution_count": 19,
   "metadata": {},
   "outputs": [
    {
     "name": "stdout",
     "output_type": "stream",
     "text": [
      "Area of the circle of unit radius:3.138\n",
      "Area for a 10D sphere:2.693\n"
     ]
    }
   ],
   "source": [
    "#code ex4\n",
    "\n",
    "#Compute the area of a circle of unit radius, by integrating the function\n",
    "\n",
    "def f(x,y):\n",
    "    func=x**2+y**2\n",
    "    return func[:] < 1\n",
    "    \n",
    "N=100000\n",
    "x=np.random.uniform(-1,1,size=N)\n",
    "y=np.random.uniform(-1,1,size=N)\n",
    "a,b= 0,1\n",
    "\n",
    "#area of a circle of unit radius\n",
    "area=4*((b-a)/N)*sum(np.sqrt(f(x,y)))\n",
    "print(\"Area of the circle of unit radius:{:0.3f}\".format(area))\n",
    "\n",
    "\n",
    "#Generalize the result for a 10D sphere\n",
    "def f_dim(dim):\n",
    "    func = 0\n",
    "    for i in range(dim):\n",
    "        x = np.random.uniform(-1,1,size=N)\n",
    "        func  = func + x**2\n",
    "    return func[:] < 1\n",
    "dim = 10\n",
    "area_10 = (2**dim)*((b-a)/N)*sum(np.sqrt(f_dim(dim)))\n",
    "\n",
    "print(\"Area for a 10D sphere:{:0.3f}\".format(area_10))\n",
    "\n"
   ]
  },
  {
   "cell_type": "markdown",
   "metadata": {},
   "source": [
    "5\\. **Monte Carlo integration with importance sampling** \n",
    "\n",
    "Calculate the value of the integral:\n",
    "\n",
    "$$\n",
    "I=\\int_0^1 \\frac{x^{-1/2}}{e^x+1} dx\n",
    "$$\n",
    "\n",
    "using the importance sampling method with $w(x)=1/\\sqrt{x}$. You should get a result about 0.84"
   ]
  },
  {
   "cell_type": "code",
   "execution_count": 25,
   "metadata": {},
   "outputs": [
    {
     "name": "stdout",
     "output_type": "stream",
     "text": [
      "Value of the integral using the importance sampling method: 0.839\n"
     ]
    }
   ],
   "source": [
    "#code ex5\n",
    "\n",
    "def w(x):\n",
    "    return 1/np.sqrt(x)\n",
    "\n",
    "def f(x):\n",
    "    return pow(x,-0.5)/(np.exp(x)+1)\n",
    "    \n",
    "#integral\n",
    "N=100000\n",
    "x=np.random.uniform(0,2,size=N) #inverse tranform: extremes are 0-2\n",
    "x_inv=np.square(x)/4   #inverse trasform of the integral of w(x)\n",
    "integral=(1/N)*sum(f(x_inv)/w(x_inv))*2 #2 is the integral value of w(x)\n",
    "print(\"Value of the integral using the importance sampling method: {:0.3f}\".format(integral))\n"
   ]
  }
 ],
 "metadata": {
  "kernelspec": {
   "display_name": "Python 3",
   "language": "python",
   "name": "python3"
  },
  "language_info": {
   "codemirror_mode": {
    "name": "ipython",
    "version": 3
   },
   "file_extension": ".py",
   "mimetype": "text/x-python",
   "name": "python",
   "nbconvert_exporter": "python",
   "pygments_lexer": "ipython3",
   "version": "3.8.3"
  }
 },
 "nbformat": 4,
 "nbformat_minor": 2
}
