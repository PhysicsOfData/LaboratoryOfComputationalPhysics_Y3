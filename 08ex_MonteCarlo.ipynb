{
 "cells": [
  {
   "cell_type": "markdown",
   "metadata": {},
   "source": [
    "1\\. **Radioactive decay chain**\n",
    "\n",
    "${\\rm Tl}^{208}$ decays to ${\\rm Pb}^{208}$ with a half-lieve of 3.052 minutes. Suppose to start with a sample of 1000 Thallium atoms and 0 of Lead atoms.\n",
    "\n",
    "* Take steps in time of 1 second and at each time-step decide whether each Tl atom has decayed or not, accordingly to the probability $p(t)=1-2^{-t/\\tau}$. Subtract the total number of Tl atoms that decayed at each step from the Tl sample and add them to the Lead one. Plot the evolution of the two sets as a function of time  \n",
    "* Repeat the exercise by means of the inverse transform method: draw 1000 random numbers from the non-uniform probability distribution $p(t)=2^{-t/\\tau}\\frac{\\ln 2}{\\tau}$ to represent the times of decay of the 1000 Tl atoms. Make a plot showing the number of atoms that have not decayed as a function of time"
   ]
  },
  {
   "cell_type": "code",
   "execution_count": 50,
   "metadata": {},
   "outputs": [
    {
     "data": {
      "text/plain": [
       "Text(0.5, 1.0, 'Tl atoms in time (inverse transform method)')"
      ]
     },
     "execution_count": 50,
     "metadata": {},
     "output_type": "execute_result"
    },
    {
     "data": {
      "image/png": "[encoded data removed]",
      "text/plain": [
       "<Figure size 1080x288 with 3 Axes>"
      ]
     },
     "metadata": {
      "needs_background": "light"
     },
     "output_type": "display_data"
    }
   ],
   "source": [
    "import numpy as np\n",
    "import matplotlib.pyplot as plt\n",
    "\n",
    "tau = 2*np.pi\n",
    "time = np.arange(0, 50, 1)\n",
    "\n",
    "Tl = 1000*(2**((-1)*(time)/tau))\n",
    "Pb = 1000-Tl\n",
    "\n",
    "fig, (ax1, ax2, ax3) = plt.subplots(1, 3,figsize=(15,4))\n",
    "\n",
    "ax1.plot(time, Tl)\n",
    "ax1.set_title(\"Tl atoms in time\")\n",
    "ax2.plot(time, Pb)\n",
    "ax2.set_title(\"Pb atoms in time\")\n",
    "\n",
    "ln2 = np.log(2)\n",
    "randnumbers = 10*np.random.random(1000)\n",
    "pfunc = (2**((-1)*randnumbers)/tau)*ln2/tau\n",
    "pfunc.sort()\n",
    "\n",
    "ax3.plot(pfunc, 1000-np.arange(0, 1000, 1))\n",
    "ax2.set_title(\"Tl atoms in time (inverse transform method)\")"
   ]
  },
  {
   "cell_type": "markdown",
   "metadata": {},
   "source": [
    "2\\. **Rutherford Scattering**\n",
    "\n",
    "The scattering angle $\\theta$ of $\\alpha$ particles hitting a positively charged nucleus of a Gold atom ($Z=79$) follows the rule:\n",
    "\n",
    "$$\n",
    "\\tan{\\frac{1}{2} \\theta} = \\frac{Z e^2} {2\\pi \\epsilon_0 E b}\n",
    "$$\n",
    "\n",
    "where $E=7.7$ MeV and $b$ beam is the impact parameter. The beam is represented by a 2D gaussian distribution with $\\sigma=a_0/100$ for both coordinates ($a_0$ being the Bohr radius). Assume 1 million $\\alpha$ particles are shot on the gold atom.\n",
    "\n",
    "Computing the fraction of particles that \"bounce back\",i.e. those particle whose scattering angle is greater than $\\pi/2$ (which set a condition on the impact parameter $b$)"
   ]
  },
  {
   "cell_type": "code",
   "execution_count": 199,
   "metadata": {},
   "outputs": [
    {
     "name": "stdout",
     "output_type": "stream",
     "text": [
      "12527\n"
     ]
    }
   ],
   "source": [
    "import math as m\n",
    "Z = 79\n",
    "E = 7.7e6\n",
    "N = 1000000\n",
    "e = 8.85e-12\n",
    "\n",
    "\n",
    "z = np.random.random(N)\n",
    "theta = 2*np.pi*np.random.random(N)\n",
    "r_squared = -2*np.log(z)\n",
    "r = np.sqrt(r_squared)\n",
    "x = r*np.cos(theta)\n",
    "y = r*np.sin(theta)\n",
    "\n",
    "b = x**2 + y**2\n",
    "rule = (Z*(m.e)**2)/2*m.pi*e*E*b\n",
    "count = 0\n",
    "for x in rule:\n",
    "    if 2*m.atan(x)>1 : count+=1\n",
    "\n",
    "print(count)"
   ]
  },
  {
   "cell_type": "markdown",
   "metadata": {},
   "source": [
    "3\\. **Monte Carlo integration: hit/miss vs mean value method**\n",
    "\n",
    "Consider the function \n",
    "\n",
    "$$f(x) =\\sin^2{\\frac{1}{x(2-x)}}$$\n",
    "\n",
    "* Compute the integral of $f(x)$ between 0 and 2 with the hit/miss method. Evaluate the error of your estimate\n",
    "* Repeat the integral with the mean value method. Evaluate the error and compare it with the previous one"
   ]
  },
  {
   "cell_type": "code",
   "execution_count": 63,
   "metadata": {},
   "outputs": [
    {
     "name": "stdout",
     "output_type": "stream",
     "text": [
      "Hit or Miss error: 0.0030945008772690413\n",
      "Mean Value error:  0.000598082265663428\n"
     ]
    },
    {
     "name": "stderr",
     "output_type": "stream",
     "text": [
      "<ipython-input-63-f9e07b189300>:6: IntegrationWarning: The maximum number of subdivisions (50) has been achieved.\n",
      "  If increasing the limit yields no improvement it is advised to analyze \n",
      "  the integrand in order to determine the difficulties.  If the position of a \n",
      "  local difficulty can be determined (singularity, discontinuity) one will \n",
      "  probably gain from splitting up the interval and calling the integrator \n",
      "  on the subranges.  Perhaps a special-purpose integrator should be used.\n",
      "  I, e = integrate.quad(f, 0, 2)\n"
     ]
    }
   ],
   "source": [
    "from scipy import integrate\n",
    "\n",
    "def f(x):\n",
    "    return (np.sin(1/(x*(2-x))))**2\n",
    "\n",
    "I, e = integrate.quad(f, 0, 2)\n",
    "\n",
    "N=100000\n",
    "count=0\n",
    "for i in range(N):\n",
    "    x=2*np.random.random()\n",
    "    y=np.random.random()\n",
    "    if y<f(x): count+=1\n",
    "HMI=2*count/N\n",
    "HMerror = abs(HMI-I)/I\n",
    "\n",
    "probes = 2*np.random.random(N)\n",
    "values = f(probes)\n",
    "MVI = 2*values.sum()/N\n",
    "MVerror = abs(MVI-I)/I\n",
    "\n",
    "print(\"Hit or Miss error:\", HMerror)\n",
    "print(\"Mean Value error: \", MVerror)"
   ]
  },
  {
   "cell_type": "markdown",
   "metadata": {},
   "source": [
    "4\\. **Monte Carlo integration in high dimension**\n",
    "\n",
    "* Start of by computing the area of a circle of unit radius, by integrating the function \n",
    "\n",
    "$$\n",
    "f(x,y)=\n",
    "\\left\\{\n",
    "\\begin{array}{ll}\n",
    "      1 & x^2+y^2\\le 1 \\\\\n",
    "      0 & {\\rm elsewhere}\n",
    "\\end{array} \n",
    "\\right.\n",
    "$$\n",
    "\n",
    "* Generalize the result for a 10D sphere\n",
    "\n"
   ]
  },
  {
   "cell_type": "code",
   "execution_count": 147,
   "metadata": {},
   "outputs": [
    {
     "name": "stdout",
     "output_type": "stream",
     "text": [
      "2.65216\n"
     ]
    }
   ],
   "source": [
    "def sphere(x):\n",
    "    return (x*x).sum() < 1\n",
    "\n",
    "n=10\n",
    "N = 100000\n",
    "count = 0\n",
    "for i in range(N):\n",
    "    p = 2*np.random.random(n)-1\n",
    "    if sphere(p):\n",
    "        count += 1\n",
    "\n",
    "I = (2**n)*count/N\n",
    "print(I)"
   ]
  },
  {
   "cell_type": "markdown",
   "metadata": {},
   "source": [
    "5\\. **Monte Carlo integration with importance sampling** \n",
    "\n",
    "Calculate the value of the integral:\n",
    "\n",
    "$$\n",
    "I=\\int_0^1 \\frac{x^{-1/2}}{e^x+1} dx\n",
    "$$\n",
    "\n",
    "using the importance sampling method with $w(x)=1/\\sqrt{x}$. You should get a result about 0.84"
   ]
  },
  {
   "cell_type": "code",
   "execution_count": 184,
   "metadata": {},
   "outputs": [
    {
     "name": "stdout",
     "output_type": "stream",
     "text": [
      "1.6953248088254904\n"
     ]
    }
   ],
   "source": [
    "import math as m\n",
    "N = 100000\n",
    "\n",
    "\n",
    "def f(x):\n",
    "    return 1/(x*((m.e**x)+1))\n",
    "\n",
    "def w(x):\n",
    "    return x**(-1/2)\n",
    "\n",
    "\n",
    "Iw = 2\n",
    "rand = np.random.random(N)\n",
    "samples = f(rand)/w(rand)\n",
    "I = Iw*samples.sum()/N\n",
    "print(I)"
   ]
  },
  {
   "cell_type": "code",
   "execution_count": null,
   "metadata": {},
   "outputs": [],
   "source": []
  }
 ],
 "metadata": {
  "kernelspec": {
   "display_name": "Python 3",
   "language": "python",
   "name": "python3"
  },
  "language_info": {
   "codemirror_mode": {
    "name": "ipython",
    "version": 3
   },
   "file_extension": ".py",
   "mimetype": "text/x-python",
   "name": "python",
   "nbconvert_exporter": "python",
   "pygments_lexer": "ipython3",
   "version": "3.9.1"
  }
 },
 "nbformat": 4,
 "nbformat_minor": 2
}
