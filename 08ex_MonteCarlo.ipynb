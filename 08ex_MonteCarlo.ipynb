{
 "cells": [
  {
   "cell_type": "markdown",
   "metadata": {},
   "source": [
    "1\\. **Radioactive decay chain**\n",
    "\n",
    "${\\rm Tl}^{208}$ decays to ${\\rm Pb}^{208}$ with a half-lieve of 3.052 minutes. Suppose to start with a sample of 1000 Thallium atoms and 0 of Lead atoms.\n",
    "\n",
    "* Take steps in time of 1 second and at each time-step decide whether each Tl atom has decayed or not, accordingly to the probability $p(t)=1-2^{-t/\\tau}$. Subtract the total number of Tl atoms that decayed at each step from the Tl sample and add them to the Lead one. Plot the evolution of the two sets as a function of time  \n",
    "* Repeat the exercise by means of the inverse transform method: draw 1000 random numbers from the non-uniform probability distribution $p(t)=2^{-t/\\tau}\\frac{\\ln 2}{\\tau}$ to represent the times of decay of the 1000 Tl atoms. Make a plot showing the number of atoms that have not decayed as a function of time"
   ]
  },
  {
   "cell_type": "code",
   "execution_count": 37,
   "metadata": {},
   "outputs": [
    {
     "name": "stderr",
     "output_type": "stream",
     "text": [
      "<ipython-input-37-4b7717aa6191>:28: RuntimeWarning: divide by zero encountered in log2\n",
      "  return -np.log2(1-p)/mu\n"
     ]
    },
    {
     "data": {
      "text/plain": [
       "[<matplotlib.lines.Line2D at 0x2af31fd2f10>]"
      ]
     },
     "execution_count": 37,
     "metadata": {},
     "output_type": "execute_result"
    },
    {
     "data": {
      "image/png": "[encoded data removed]",
      "text/plain": [
       "<Figure size 864x288 with 2 Axes>"
      ]
     },
     "metadata": {
      "needs_background": "light"
     },
     "output_type": "display_data"
    }
   ],
   "source": [
    "import numpy as np\n",
    "import matplotlib.pyplot as plt\n",
    "def expon_cdf(x, mu=0.1):   #In the statement doesent say how much is mu\n",
    "    \"\"\"CDF of exponetial distribution.\"\"\"\n",
    "    return 1 - 2.**(-mu*x)\n",
    "\n",
    "time = np.arange(0,30)\n",
    "tl = 1000\n",
    "\n",
    "tlCount = []\n",
    "pbCount =[]\n",
    "for t in time:\n",
    "    tl = tl - int(tl*expon_cdf(t))\n",
    "    tlCount.append(tl)\n",
    "    pbCount.append(1000-tl)\n",
    "    \n",
    "plt.figure(figsize=(12,4))\n",
    "plt.subplot(121)\n",
    "plt.plot(time, tlCount, label = 'Tl')\n",
    "plt.plot(time, pbCount, label = 'Pb')\n",
    "plt.legend()\n",
    "plt.title('Tl decay into Pb')\n",
    "plt.ylabel('Number of atoms')\n",
    "plt.xlabel('Time (s)')\n",
    "\n",
    "def expon_icdf(p, mu=0.1):\n",
    "    \"\"\"Inverse CDF of exponential distribution - i.e. quantile function.\"\"\"\n",
    "    return -np.log2(1-p)/mu\n",
    "plt.subplot(122)\n",
    "x = np.linspace(0,1,1000)\n",
    "\n",
    "plt.plot(x, expon_icdf(x))\n"
   ]
  },
  {
   "cell_type": "markdown",
   "metadata": {},
   "source": [
    "2\\. **Rutherford Scattering**\n",
    "\n",
    "The scattering angle $\\theta$ of $\\alpha$ particles hitting a positively charged nucleus of a Gold atom ($Z=79$) follows the rule:\n",
    "\n",
    "$$\n",
    "\\tan{\\frac{1}{2} \\theta} = \\frac{Z e^2} {2\\pi \\epsilon_0 E b}\n",
    "$$\n",
    "\n",
    "where $E=7.7$ MeV and $b$ beam is the impact parameter. The beam is represented by a 2D gaussian distribution with $\\sigma=a_0/100$ for both coordinates ($a_0$ being the Bohr radius). Assume 1 million $\\alpha$ particles are shot on the gold atom.\n",
    "\n",
    "Computing the fraction of particles that \"bounce back\",i.e. those particle whose scattering angle is greater than $\\pi/2$ (which set a condition on the impact parameter $b$)"
   ]
  },
  {
   "cell_type": "code",
   "execution_count": 46,
   "metadata": {},
   "outputs": [
    {
     "name": "stdout",
     "output_type": "stream",
     "text": [
      "The amount particles that bounce back are:  506\n"
     ]
    }
   ],
   "source": [
    "a0= 174*10**-12\n",
    "b = np.random.normal(0, a0/100, 1000)\n",
    "E0= 8.8541878176* 10**-12\n",
    "E = 7.7*10**6\n",
    "Z = 79\n",
    "tita = 2* np.arctan((Z*np.exp(2))/(2*np.pi * E0*E*b))\n",
    "\n",
    "count = (tita > (np.pi/2)).sum()\n",
    "print('The amount particles that bounce back are: ', count)\n",
    "\n"
   ]
  },
  {
   "cell_type": "markdown",
   "metadata": {},
   "source": [
    "3\\. **Monte Carlo integration: hit/miss vs mean value method**\n",
    "\n",
    "Consider the function \n",
    "\n",
    "$$f(x) =\\sin^2{\\frac{1}{x(2-x)}}$$\n",
    "\n",
    "* Compute the integral of $f(x)$ between 0 and 2 with the hit/miss method. Evaluate the error of your estimate\n",
    "* Repeat the integral with the mean value method. Evaluate the error and compare it with the previous one"
   ]
  },
  {
   "cell_type": "code",
   "execution_count": 98,
   "metadata": {},
   "outputs": [
    {
     "name": "stderr",
     "output_type": "stream",
     "text": [
      "<ipython-input-98-f2ed7029b915>:13: IntegrationWarning: The maximum number of subdivisions (50) has been achieved.\n",
      "  If increasing the limit yields no improvement it is advised to analyze \n",
      "  the integrand in order to determine the difficulties.  If the position of a \n",
      "  local difficulty can be determined (singularity, discontinuity) one will \n",
      "  probably gain from splitting up the interval and calling the integrator \n",
      "  on the subranges.  Perhaps a special-purpose integrator should be used.\n",
      "  result, __ = integrate.quad(f, 0.001, 1.999)\n"
     ]
    },
    {
     "name": "stdout",
     "output_type": "stream",
     "text": [
      "Monte carlo integration:  1.4511\n",
      "Real value:  1.4503140803330734\n",
      "Error with Monte carlo:  0.05418961848223646 %\n",
      "Mean value integration:  1.4489502379373291\n",
      "Error with mean value:  -0.09403772701641702 %\n"
     ]
    }
   ],
   "source": [
    "import scipy.integrate as integrate\n",
    "def f(x):\n",
    "    return (np.sin(1/(x*(2-x))))**2\n",
    "\n",
    "# Monte Carlo integration\n",
    "N=100000\n",
    "count=0\n",
    "for i in range(N):\n",
    "    x=2*np.random.random()\n",
    "    y=np.random.random()\n",
    "    if y<f(x): count+=1\n",
    "I=2*count/N\n",
    "result, __ = integrate.quad(f, 0.001, 1.999)\n",
    "print('Monte carlo integration: ',I)\n",
    "print('Real value: ', result)\n",
    "error = (I-result)/result * 100\n",
    "print('Error with Monte carlo: ', error, '%')\n",
    "\n",
    "# mean value method\n",
    "fsum= 0\n",
    "\n",
    "x = np.random.uniform(0, 2, N)\n",
    "for i in range(len(x)):\n",
    "    fsum += f(x[i])\n",
    "Imean = (1.999-0.001)/N *fsum\n",
    "print('Mean value integration: ',Imean)\n",
    "meanError = (Imean-result)/result *100\n",
    "print('Error with mean value: ', meanError, '%')"
   ]
  },
  {
   "cell_type": "markdown",
   "metadata": {},
   "source": [
    "4\\. **Monte Carlo integration in high dimension**\n",
    "\n",
    "* Start of by computing the area of a circle of unit radius, by integrating the function \n",
    "\n",
    "$$\n",
    "f(x,y)=\n",
    "\\left\\{\n",
    "\\begin{array}{ll}\n",
    "      1 & x^2+y^2\\le 1 \\\\\n",
    "      0 & {\\rm elsewhere}\n",
    "\\end{array} \n",
    "\\right.\n",
    "$$\n",
    "\n",
    "* Generalize the result for a 10D sphere\n",
    "\n"
   ]
  },
  {
   "cell_type": "code",
   "execution_count": 96,
   "metadata": {},
   "outputs": [
    {
     "name": "stdout",
     "output_type": "stream",
     "text": [
      "Two dimensions iteration:  0.785784\n",
      "Two dimensions integration verification:  (0.7893255354070009, 1.481797173255934e-08)\n",
      "Ten dimensions integration:  0.788316\n"
     ]
    }
   ],
   "source": [
    "def f(x,y):\n",
    "    if x**2 + y**2 <= 1:\n",
    "        return 1\n",
    "    else: \n",
    "        return 0\n",
    "# Monte Carlo integration\n",
    "N=1000000\n",
    "count=0\n",
    "for i in range(N):\n",
    "    x=np.random.random()\n",
    "    y=np.random.random()\n",
    "    z = np.random.random()\n",
    "    if z<f(x,y): count+=1\n",
    "I=count/N\n",
    "print('Two dimensions iteration: ',I)\n",
    "print('Two dimensions integration verification: ', integrate.dblquad(f, 0, 1, lambda x: 0, lambda x: 1))\n",
    "\n",
    "def f(x):\n",
    "    f =0\n",
    "    for i in range(len(x)):\n",
    "        f += x[i]**2\n",
    "    if f>=1: return 0\n",
    "    else: return 1\n",
    "x=np.ones((10,1))\n",
    "for i in range(N):\n",
    "    for j in range(10):\n",
    "        x[j]= np.random.random()\n",
    "    y = np.random.random()\n",
    "    if y<f(x):count +=1\n",
    "I = count /N\n",
    "print('Ten dimensions integration: ',I)\n",
    "    \n",
    "    "
   ]
  },
  {
   "cell_type": "markdown",
   "metadata": {},
   "source": [
    "5\\. **Monte Carlo integration with importance sampling** \n",
    "\n",
    "Calculate the value of the integral:\n",
    "\n",
    "$$\n",
    "I=\\int_0^1 \\frac{x^{-1/2}}{e^x+1} dx\n",
    "$$\n",
    "\n",
    "using the importance sampling method with $w(x)=1/\\sqrt{x}$. You should get a result about 0.84"
   ]
  },
  {
   "cell_type": "code",
   "execution_count": 110,
   "metadata": {},
   "outputs": [
    {
     "name": "stdout",
     "output_type": "stream",
     "text": [
      "0.759913546254013\n"
     ]
    }
   ],
   "source": [
    "N = 1000000\n",
    "def f(x):\n",
    "    return (x**-0.5)/(np.exp(x)+1)\n",
    "def w(x):\n",
    "    return 1/x**0.5\n",
    " \n",
    "x = np.random.uniform(0,1, N)\n",
    "\n",
    "s= 0\n",
    "for i in range(N):\n",
    "    s += f(x[i])/w(x[i])\n",
    "    \n",
    "I = s /N * integrate.quad(w, 0, 1)[0]\n",
    "print(I)"
   ]
  },
  {
   "cell_type": "code",
   "execution_count": null,
   "metadata": {},
   "outputs": [],
   "source": []
  }
 ],
 "metadata": {
  "kernelspec": {
   "display_name": "Python 3",
   "language": "python",
   "name": "python3"
  },
  "language_info": {
   "codemirror_mode": {
    "name": "ipython",
    "version": 3
   },
   "file_extension": ".py",
   "mimetype": "text/x-python",
   "name": "python",
   "nbconvert_exporter": "python",
   "pygments_lexer": "ipython3",
   "version": "3.8.3"
  }
 },
 "nbformat": 4,
 "nbformat_minor": 2
}
