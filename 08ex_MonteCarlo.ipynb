{
 "cells": [
  {
   "cell_type": "code",
   "execution_count": 1,
   "metadata": {},
   "outputs": [
    {
     "data": {
      "text/plain": [
       "'%.4f'"
      ]
     },
     "execution_count": 1,
     "metadata": {},
     "output_type": "execute_result"
    }
   ],
   "source": [
    "import numpy as np\n",
    "import pandas as pd\n",
    "from scipy import stats\n",
    "\n",
    "import matplotlib.pyplot as plt\n",
    "import seaborn as sns\n",
    "%matplotlib inline\n",
    "%precision 4"
   ]
  },
  {
   "cell_type": "markdown",
   "metadata": {},
   "source": [
    "1\\. **Radioactive decay chain**\n",
    "\n",
    "${\\rm Tl}^{208}$ decays to ${\\rm Pb}^{208}$ with a half-lieve of 3.052 minutes. Suppose to start with a sample of 1000 Thallium atoms and 0 of Lead atoms.\n",
    "\n",
    "* Take steps in time of 1 second and at each time-step decide whether each Tl atom has decayed or not, accordingly to the probability $p(t)=1-2^{-t/\\tau}$. Subtract the total number of Tl atoms that decayed at each step from the Tl sample and add them to the Lead one. Plot the evolution of the two sets as a function of time  \n",
    "* Repeat the exercise by means of the inverse transform method: draw 1000 random numbers from the non-uniform probability distribution $p(t)=2^{-t/\\tau}\\frac{\\ln 2}{\\tau}$ to represent the times of decay of the 1000 Tl atoms. Make a plot showing the number of atoms that have not decayed as a function of time"
   ]
  },
  {
   "cell_type": "code",
   "execution_count": 62,
   "metadata": {},
   "outputs": [
    {
     "data": {
      "image/png": "[encoded data removed]",
      "text/plain": [
       "<Figure size 432x288 with 1 Axes>"
      ]
     },
     "metadata": {
      "needs_background": "light"
     },
     "output_type": "display_data"
    }
   ],
   "source": [
    "tau_Tl   = 3.052*60 \n",
    "tau_Pb   = 3.052*60\n",
    "N0           = 1000\n",
    "t1           = 100\n",
    "n_timepoints = 50\n",
    "\n",
    "def simulate_monte_carlo1(N0, t1, n_timepoints):\n",
    "    '''Monte carlo simulation'''\n",
    "    dt             = 1  \n",
    "    count_Tl   = np.zeros((n_timepoints)) \n",
    "    count_Pb = np.zeros((n_timepoints))\n",
    "    atoms          = np.ones((N0)) \n",
    "    p_decay_Tl    = 1 - 2 * np.exp(-dt / tau_Tl) \n",
    "    p_decay_Pb    = 1 - 2 * np.exp(-dt / tau_Pb)\n",
    "    \n",
    "    for idx_time in range(n_timepoints):\n",
    "        \n",
    "        count_Tl[idx_time]   = (atoms == 1).sum() \n",
    "        count_Pb[idx_time] = (atoms == 2).sum()\n",
    "        \n",
    "        for idx_atom in range(N0):\n",
    "            \n",
    "            if atoms[idx_atom] == 1: \n",
    "                if np.random.random() <= p_decay_Tl:\n",
    "                    atoms[idx_atom] = 2\n",
    "                else:\n",
    "                    atoms[idx_atom] = 1\n",
    "            elif atoms[idx_atom] == 2:\n",
    "                if np.random.random() <= p_decay_Pb:\n",
    "                    atoms[idx_atom] = 3\n",
    "                else:\n",
    "                    atoms[idx_atom] = 2\n",
    "                \n",
    "    return count_Tl, count_Pb\n",
    "\n",
    "timebase = np.arange(0, t1, t1/n_timepoints) \n",
    "n_Tl, n_Pb = simulate_monte_carlo1(N0, t1, n_timepoints)    \n",
    "\n",
    "plt.figure() \n",
    "plt.plot(timebase, n_Tl, label = 'Thallium', color = 'blue')\n",
    "plt.plot(timebase, n_Pb, label = 'Plumbum', color = 'red')\n",
    "plt.title('Graph of the Decay of $^{208}$Tl and $^{208}$Pb')\n",
    "plt.ylabel('Number of atoms')\n",
    "plt.xlabel('time')\n",
    "plt.legend(loc='right') \n",
    "plt.show()"
   ]
  },
  {
   "cell_type": "code",
   "execution_count": 66,
   "metadata": {},
   "outputs": [
    {
     "data": {
      "image/png": "[encoded data removed]",
      "text/plain": [
       "<Figure size 432x288 with 1 Axes>"
      ]
     },
     "metadata": {
      "needs_background": "light"
     },
     "output_type": "display_data"
    }
   ],
   "source": [
    "def simulate_monte_carlo2(N0, t1, n_timepoints):\n",
    "    dt             = 1 #t1 / n_timepoints \n",
    "    count_Tl   = np.zeros((n_timepoints)) \n",
    "    count_Pb = np.zeros((n_timepoints))\n",
    "    noncount_Tl   = np.zeros((n_timepoints)) \n",
    "    noncount_Pb = np.zeros((n_timepoints))\n",
    "    atoms          = np.ones((N0)) \n",
    "    p_decay_Tl    = 2 * np.exp(-dt / t_half_Tl) * (np.log(2) / t_half_Tl) \n",
    "    p_decay_Pb    = 2 * np.exp(-dt / t_half_Pb) * (np.log(2) / t_half_Pb)\n",
    "    for idx_time in range(n_timepoints):\n",
    "        \n",
    "        count_Tl[idx_time]   = (atoms == 1).sum() \n",
    "        count_Pb[idx_time] = (atoms == 2).sum()\n",
    "        \n",
    "        for idx_atom in range(N0):\n",
    "            \n",
    "            if atoms[idx_atom] == 1: \n",
    "                if np.random.random() <= p_decay_Tl:\n",
    "                    atoms[idx_atom] = 2\n",
    "                else:\n",
    "                    atoms[idx_atom] = 1\n",
    "            elif atoms[idx_atom] == 2:\n",
    "                if np.random.random() <= p_decay_Pb:\n",
    "                    atoms[idx_atom] = 3\n",
    "                else:\n",
    "                    atoms[idx_atom] = 2\n",
    "                \n",
    "    return count_Tl, count_Pb\n",
    "\n",
    "timebase = np.arange(0, t1, t1/n_timepoints) \n",
    "n_Tl, n_Pb = simulate_monte_carlo2(N0, t1, n_timepoints)    \n",
    "\n",
    "plt.figure() \n",
    "plt.plot(timebase, n_Tl, label = 'Decay Thallium', color = 'blue')\n",
    "plt.plot(timebase, n_Pb, label = 'Decay Plumbum', color = 'red')\n",
    "plt.title('Graph of the Decay of $^{208}$Tl and $^{208}$Pb')\n",
    "plt.ylabel('Number of atoms')\n",
    "plt.xlabel('time')\n",
    "plt.legend(loc='upper right') \n",
    "plt.show()\n"
   ]
  },
  {
   "cell_type": "markdown",
   "metadata": {},
   "source": [
    "2\\. **Rutherford Scattering**\n",
    "\n",
    "The scattering angle $\\theta$ of $\\alpha$ particles hitting a positively charged nucleus of a Gold atom ($Z=79$) follows the rule:\n",
    "\n",
    "$$\n",
    "\\tan{\\frac{1}{2} \\theta} = \\frac{Z e^2} {2\\pi \\epsilon_0 E b}\n",
    "$$\n",
    "\n",
    "where $E=7.7$ MeV and $b$ beam is the impact parameter. The beam is represented by a 2D gaussian distribution with $\\sigma=a_0/100$ for both coordinates ($a_0$ being the Bohr radius). Assume 1 million $\\alpha$ particles are shot on the gold atom.\n",
    "\n",
    "Computing the fraction of particles that \"bounce back\",i.e. those particle whose scattering angle is greater than $\\pi/2$ (which set a condition on the impact parameter $b$)"
   ]
  },
  {
   "cell_type": "code",
   "execution_count": null,
   "metadata": {},
   "outputs": [],
   "source": []
  },
  {
   "cell_type": "markdown",
   "metadata": {},
   "source": [
    "3\\. **Monte Carlo integration: hit/miss vs mean value method**\n",
    "\n",
    "Consider the function \n",
    "\n",
    "$$f(x) =\\sin^2{\\frac{1}{x(2-x)}}$$\n",
    "\n",
    "* Compute the integral of $f(x)$ between 0 and 2 with the hit/miss method. Evaluate the error of your estimate\n",
    "* Repeat the integral with the mean value method. Evaluate the error and compare it with the previous one"
   ]
  },
  {
   "cell_type": "code",
   "execution_count": 81,
   "metadata": {},
   "outputs": [
    {
     "name": "stdout",
     "output_type": "stream",
     "text": [
      "Hit/ Miss method: 1.476\n",
      "Mean Value Method: 1.4689745101706981\n",
      "Relative Error: 0.004782581168467972\n"
     ]
    }
   ],
   "source": [
    "def f(x):\n",
    "    return (np.sin(1/(x*(2-x))))**2\n",
    "\n",
    "x=np.linspace(0.001,1.999,1000)\n",
    "#plt.plot(x,f(x),'r-')\n",
    "\n",
    "# Monte Carlo integration\n",
    "N=1000\n",
    "count=0\n",
    "for i in range(N):\n",
    "    x=2*np.random.random()\n",
    "    y=np.random.random()\n",
    "    if y<f(x): count+=1\n",
    "I1=2*count/N\n",
    "print(\"Hit and Miss method:\", I1)\n",
    "\n",
    "\n",
    "Ν = 1000\n",
    "a = 0.001\n",
    "b = 1.999\n",
    "x = np.random.uniform(a,b,Ν)\n",
    "\n",
    "f_x = (np.sin(1/(x*(2-x))))**2\n",
    "I2 = np.mean(f_x)*(b-a)\n",
    "print(\"Mean Value Method:\", I2)\n",
    "\n",
    "print(\"Relative Error:\", np.abs((I1-I2) / I2))"
   ]
  },
  {
   "cell_type": "markdown",
   "metadata": {},
   "source": [
    "4\\. **Monte Carlo integration in high dimension**\n",
    "\n",
    "* Start of by computing the area of a circle of unit radius, by integrating the function \n",
    "\n",
    "$$\n",
    "f(x,y)=\n",
    "\\left\\{\n",
    "\\begin{array}{ll}\n",
    "      1 & x^2+y^2\\le 1 \\\\\n",
    "      0 & {\\rm elsewhere}\n",
    "\\end{array} \n",
    "\\right.\n",
    "$$\n",
    "\n",
    "* Generalize the result for a 10D sphere\n",
    "\n"
   ]
  },
  {
   "cell_type": "code",
   "execution_count": 45,
   "metadata": {},
   "outputs": [
    {
     "name": "stdout",
     "output_type": "stream",
     "text": [
      "Area of circle of unit radius is 3.142328\n"
     ]
    }
   ],
   "source": [
    "'''\n",
    "def in_circle(x, y, Cx, Cy, R):\n",
    "    return (x - Cx)**2 + (y - Cy)**2 <= R**2\n",
    "\n",
    "def approximateCircleArea(R, N):\n",
    "    squareSide = R*2\n",
    "    Cx = R\n",
    "    Cy = R\n",
    "    \n",
    "    c = 0\n",
    "    for i in range(N):\n",
    "        x = np.random.random()*squareSide\n",
    "        y = np.random.random()*squareSide\n",
    "        if in_circle(x,y, Cx, Cy, R):\n",
    "            c = c + 1\n",
    "    return c / N * squareSide**2\n",
    "\n",
    "N = 10**3 # number of trials (ie, number of points to sample)\n",
    "R = 1 # circle radius\n",
    "approximateCircleArea(R,N)\n",
    "'''\n",
    "dim = 2\n",
    "N = 10**6\n",
    "y = np.random.uniform(low=-0, high=1,size=(N,dim))\n",
    "p = np.sum(np.sqrt(y[:,0]**2 + y[:,1]**2) < 1)/N\n",
    "print(\"Area of circle of unit radius is\",4*p)"
   ]
  },
  {
   "cell_type": "code",
   "execution_count": 47,
   "metadata": {},
   "outputs": [
    {
     "name": "stdout",
     "output_type": "stream",
     "text": [
      "Generalized result of 10D sphere is 2.644992\n"
     ]
    }
   ],
   "source": [
    "dim = 10\n",
    "N = 10**6\n",
    "\n",
    "def nSphereVolume(dim, N):\n",
    "    c = 0\n",
    "    for i in range(N):\n",
    "        p = np.random.uniform(-1, 1, dim)\n",
    "        dist = np.linalg.norm(p)\n",
    "        if dist < 1:\n",
    "            c += 1\n",
    "    return np.power(2.0, dim) * (c / N)\n",
    "\n",
    "print(\"Generalized result of 10D sphere is\",nSphereVolume(dim, N))"
   ]
  },
  {
   "cell_type": "markdown",
   "metadata": {},
   "source": [
    "5\\. **Monte Carlo integration with importance sampling** \n",
    "\n",
    "Calculate the value of the integral:\n",
    "\n",
    "$$\n",
    "I=\\int_0^1 \\frac{x^{-1/2}}{e^x+1} dx\n",
    "$$\n",
    "\n",
    "using the importance sampling method with $w(x)=1/\\sqrt{x}$. You should get a result about 0.84"
   ]
  },
  {
   "cell_type": "code",
   "execution_count": 57,
   "metadata": {},
   "outputs": [
    {
     "data": {
      "text/latex": [
       "$\\displaystyle 0.8389329600133814$"
      ],
      "text/plain": [
       "0.8389329600133814"
      ]
     },
     "execution_count": 57,
     "metadata": {},
     "output_type": "execute_result"
    }
   ],
   "source": [
    "from math import e\n",
    "from sympy import symbols, integrate\n",
    "x = symbols('x')\n",
    "sol = integrate(x**(-1/2) / (e**(x) + 1), (x, 0,1)).evalf(16)\n",
    "sol"
   ]
  },
  {
   "cell_type": "code",
   "execution_count": null,
   "metadata": {},
   "outputs": [],
   "source": []
  }
 ],
 "metadata": {
  "kernelspec": {
   "display_name": "Python 3",
   "language": "python",
   "name": "python3"
  },
  "language_info": {
   "codemirror_mode": {
    "name": "ipython",
    "version": 3
   },
   "file_extension": ".py",
   "mimetype": "text/x-python",
   "name": "python",
   "nbconvert_exporter": "python",
   "pygments_lexer": "ipython3",
   "version": "3.8.3"
  }
 },
 "nbformat": 4,
 "nbformat_minor": 2
}
