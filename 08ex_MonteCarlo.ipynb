{
 "cells": [
  {
   "cell_type": "code",
   "execution_count": 1,
   "metadata": {},
   "outputs": [],
   "source": [
    "import numpy as np\n",
    "import matplotlib.pyplot as plt"
   ]
  },
  {
   "cell_type": "markdown",
   "metadata": {},
   "source": [
    "1\\. **Radioactive decay chain**\n",
    "\n",
    "${\\rm Tl}^{208}$ decays to ${\\rm Pb}^{208}$ with a half-lieve of 3.052 minutes. Suppose to start with a sample of 1000 Thallium atoms and 0 of Lead atoms.\n",
    "\n",
    "* Take steps in time of 1 second and at each time-step decide whether each Tl atom has decayed or not, accordingly to the probability $p(t)=1-2^{-t/\\tau}$. Subtract the total number of Tl atoms that decayed at each step from the Tl sample and add them to the Lead one. Plot the evolution of the two sets as a function of time  \n",
    "* Repeat the exercise by means of the inverse transform method: draw 1000 random numbers from the non-uniform probability distribution $p(t)=2^{-t/\\tau}\\frac{\\ln 2}{\\tau}$ to represent the times of decay of the 1000 Tl atoms. Make a plot showing the number of atoms that have not decayed as a function of time"
   ]
  },
  {
   "cell_type": "code",
   "execution_count": 2,
   "metadata": {},
   "outputs": [
    {
     "data": {
      "image/png": "[encoded data removed]",
      "text/plain": [
       "<Figure size 432x288 with 1 Axes>"
      ]
     },
     "metadata": {
      "needs_background": "light"
     },
     "output_type": "display_data"
    }
   ],
   "source": [
    "# First request\n",
    "\n",
    "def decay_prob(num):\n",
    "    tau = 3.052*60\n",
    "    prob = 1 - 2**(-1/tau)\n",
    "    ndec = 0\n",
    "    for i in range(num):\n",
    "        if (np.random.rand() < prob):\n",
    "            ndec += 1\n",
    "    return ndec\n",
    "\n",
    "N = 1000\n",
    "thallium_atoms = [N]\n",
    "lead_atoms = [0]\n",
    "\n",
    "\n",
    "t = 0\n",
    "while(thallium_atoms[-1] > 0):\n",
    "    decayed = decay_prob(thallium_atoms[-1])\n",
    "    thallium_atoms.append(thallium_atoms[-1] - decayed)\n",
    "    lead_atoms.append(lead_atoms[-1] + decayed)\n",
    "    t += 1\n",
    "\n",
    "    \n",
    "plt.plot(thallium_atoms, label=\"Thallium\")\n",
    "plt.plot(lead_atoms, label=\"Lead\")\n",
    "plt.legend()\n",
    "plt.title(\"Number of atoms over the time [s]\")\n",
    "plt.show()"
   ]
  },
  {
   "cell_type": "code",
   "execution_count": 3,
   "metadata": {},
   "outputs": [
    {
     "data": {
      "image/png": "[encoded data removed]",
      "text/plain": [
       "<Figure size 432x288 with 1 Axes>"
      ]
     },
     "metadata": {
      "needs_background": "light"
     },
     "output_type": "display_data"
    }
   ],
   "source": [
    "# Second point\n",
    "\n",
    "def inv_transform(prob):\n",
    "    tau = 3.052*60\n",
    "    return -tau * np.log2(1 - prob)\n",
    "\n",
    "\n",
    "t = inv_transform(np.random.rand(N))\n",
    "\n",
    "\n",
    "decayed = np.arange(0, N)\n",
    "plt.plot(np.sort(t), N - decayed)\n",
    "plt.title(\"Number of atoms over the time [s]\")\n",
    "plt.show()"
   ]
  },
  {
   "cell_type": "markdown",
   "metadata": {},
   "source": [
    "2\\. **Rutherford Scattering**\n",
    "\n",
    "The scattering angle $\\theta$ of $\\alpha$ particles hitting a positively charged nucleus of a Gold atom ($Z=79$) follows the rule:\n",
    "\n",
    "$$\n",
    "\\tan{\\frac{1}{2} \\theta} = \\frac{Z e^2} {2\\pi \\epsilon_0 E b}\n",
    "$$\n",
    "\n",
    "where $E=7.7$ MeV and $b$ beam is the impact parameter. The beam is represented by a 2D gaussian distribution with $\\sigma=a_0/100$ for both coordinates ($a_0$ being the Bohr radius). Assume 1 million $\\alpha$ particles are shot on the gold atom.\n",
    "\n",
    "Computing the fraction of particles that \"bounce back\",i.e. those particle whose scattering angle is greater than $\\pi/2$ (which set a condition on the impact parameter $b$)"
   ]
  },
  {
   "cell_type": "code",
   "execution_count": 4,
   "metadata": {},
   "outputs": [
    {
     "name": "stdout",
     "output_type": "stream",
     "text": [
      "Fraction of particles that bounce back: 0.001548\n"
     ]
    }
   ],
   "source": [
    "Z = 79\n",
    "e = 1.6e-19\n",
    "E = 7.7e6 * e\n",
    "variance = (5.292e-13)**2 # sigma squared\n",
    "N = int(1e6) # 1 million\n",
    "eps0 = 8.854e-12\n",
    "\n",
    "\n",
    "mean = (0,0)\n",
    "cov = [[variance, 0], [0, variance]]\n",
    "beam = np.random.multivariate_normal(mean, cov, size=N)\n",
    "\n",
    "b = np.linalg.norm(beam, axis=1)\n",
    "theta = 2 * np.arctan(Z * e**2 / (2 * np.pi * eps0 * E * b))\n",
    "\n",
    "bounced = np.sum(theta > np.pi/2)\n",
    "print(\"Fraction of particles that bounce back:\", str(bounced / N))"
   ]
  },
  {
   "cell_type": "markdown",
   "metadata": {},
   "source": [
    "3\\. **Monte Carlo integration: hit/miss vs mean value method**\n",
    "\n",
    "Consider the function \n",
    "\n",
    "$$f(x) =\\sin^2{\\frac{1}{x(2-x)}}$$\n",
    "\n",
    "* Compute the integral of $f(x)$ between 0 and 2 with the hit/miss method. Evaluate the error of your estimate\n",
    "* Repeat the integral with the mean value method. Evaluate the error and compare it with the previous one"
   ]
  },
  {
   "cell_type": "code",
   "execution_count": 5,
   "metadata": {},
   "outputs": [
    {
     "name": "stdout",
     "output_type": "stream",
     "text": [
      "Hit/miss method\n",
      "I = 1.44982\n",
      "Error =  0.28243 %\n",
      "\n",
      "Mean value method\n",
      "I = 1.45178\n",
      "Error = 0.16651 %\n",
      "\n",
      "As we can see and expected the error with mean value method is lower\n"
     ]
    }
   ],
   "source": [
    "def f(x):\n",
    "    return (np.sin(1 / (x * (2-x))))**2\n",
    "\n",
    "\n",
    "N = 100000\n",
    "hit = 0\n",
    "for i in range(N):\n",
    "    x = 2 * np.random.random()\n",
    "    y = np.random.random()\n",
    "    if y < f(x):\n",
    "        hit += 1\n",
    "\n",
    "I = 2 * hit / N\n",
    "err = 2 / N * np.sqrt(hit - hit**2 / N) * 100\n",
    "print(\"Hit/miss method\")\n",
    "print(\"I =\", format(I, '.5f'))\n",
    "print(\"Error = \", format(err, '.5f'), \"%\\n\")\n",
    "\n",
    "\n",
    "s = 0\n",
    "for i in range(N):\n",
    "    x = 2 * np.random.random()\n",
    "    y = f(x)\n",
    "    s = s + y\n",
    "    \n",
    "I = 2 * s / N\n",
    "x = np.linspace(1e-3, 2-1e-3, N)\n",
    "err = 2 * np.std(f(x)) / np.sqrt(N) * 100\n",
    "\n",
    "print(\"Mean value method\")\n",
    "print(\"I =\", format(I, '.5f'))\n",
    "print(\"Error =\", format(err, '.5f'), \"%\\n\")\n",
    "print(\"As we can see and expected the error with mean value method is lower\")"
   ]
  },
  {
   "cell_type": "markdown",
   "metadata": {},
   "source": [
    "4\\. **Monte Carlo integration in high dimension**\n",
    "\n",
    "* Start of by computing the area of a circle of unit radius, by integrating the function \n",
    "\n",
    "$$\n",
    "f(x,y)=\n",
    "\\left\\{\n",
    "\\begin{array}{ll}\n",
    "      1 & x^2+y^2\\le 1 \\\\\n",
    "      0 & {\\rm elsewhere}\n",
    "\\end{array} \n",
    "\\right.\n",
    "$$\n",
    "\n",
    "* Generalize the result for a 10D sphere\n",
    "\n"
   ]
  },
  {
   "cell_type": "code",
   "execution_count": 6,
   "metadata": {},
   "outputs": [
    {
     "name": "stdout",
     "output_type": "stream",
     "text": [
      "Resulting area for a circle: 3.13628\n",
      "Resulting area for 10D sphere: 2.62144\n"
     ]
    }
   ],
   "source": [
    "N = 100000\n",
    "n_dim = 2\n",
    "hit = 0\n",
    "for i in range(N):\n",
    "    x= 2 * np.random.random() - 1\n",
    "    y= 2 * np.random.random() - 1\n",
    "    if x**2 + y**2 <= 1: \n",
    "        hit += 1\n",
    "\n",
    "I = 2 * n_dim * hit / N\n",
    "\n",
    "print(\"Resulting area for a circle:\", str(I))\n",
    "\n",
    "\n",
    "n_dim = 10\n",
    "hit = 0\n",
    "for i in range(N):\n",
    "    x = np.random.uniform(-1, 1, n_dim)\n",
    "    if np.sum(x**2) <= 1:\n",
    "        hit += 1\n",
    "        \n",
    "I= (2**n_dim) * hit / N\n",
    "\n",
    "print(\"Resulting area for 10D sphere:\", str(I))"
   ]
  },
  {
   "cell_type": "markdown",
   "metadata": {},
   "source": [
    "5\\. **Monte Carlo integration with importance sampling** \n",
    "\n",
    "Calculate the value of the integral:\n",
    "\n",
    "$$\n",
    "I=\\int_0^1 \\frac{x^{-1/2}}{e^x+1} dx\n",
    "$$\n",
    "\n",
    "using the importance sampling method with $w(x)=1/\\sqrt{x}$. You should get a result about 0.84"
   ]
  },
  {
   "cell_type": "code",
   "execution_count": 7,
   "metadata": {},
   "outputs": [
    {
     "name": "stdout",
     "output_type": "stream",
     "text": [
      "I = 0.83878\n"
     ]
    }
   ],
   "source": [
    "def f(x):\n",
    "    return x**(-1/2) / (np.exp(x) + 1)\n",
    "\n",
    "def w(x):\n",
    "    return 1 / x**(1/2)\n",
    "\n",
    "def integral_w(a,b):\n",
    "    return 2 * (np.sqrt(b) - np.sqrt(a))\n",
    "\n",
    "N = 1000000\n",
    "x = np.random.rand(N)**2\n",
    "I = 1 / N * np.sum(f(x) / w(x)) * integral_w(0,1)\n",
    "print(\"I =\", format(I, '.5f'))"
   ]
  },
  {
   "cell_type": "code",
   "execution_count": null,
   "metadata": {},
   "outputs": [],
   "source": []
  }
 ],
 "metadata": {
  "kernelspec": {
   "display_name": "Python 3",
   "language": "python",
   "name": "python3"
  },
  "language_info": {
   "codemirror_mode": {
    "name": "ipython",
    "version": 3
   },
   "file_extension": ".py",
   "mimetype": "text/x-python",
   "name": "python",
   "nbconvert_exporter": "python",
   "pygments_lexer": "ipython3",
   "version": "3.8.3"
  }
 },
 "nbformat": 4,
 "nbformat_minor": 2
}
