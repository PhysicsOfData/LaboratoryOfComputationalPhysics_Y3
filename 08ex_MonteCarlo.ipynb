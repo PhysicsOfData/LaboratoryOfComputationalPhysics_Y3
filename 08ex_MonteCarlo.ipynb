{
 "cells": [
  {
   "cell_type": "markdown",
   "metadata": {},
   "source": [
    "1\\. **Radioactive decay chain**\n",
    "\n",
    "${\\rm Tl}^{208}$ decays to ${\\rm Pb}^{208}$ with a half-lieve of 3.052 minutes. Suppose to start with a sample of 1000 Thallium atoms and 0 of Lead atoms.\n",
    "\n",
    "* Take steps in time of 1 second and at each time-step decide whether each Tl atom has decayed or not, accordingly to the probability $p(t)=1-2^{-t/\\tau}$. Subtract the total number of Tl atoms that decayed at each step from the Tl sample and add them to the Lead one. Plot the evolution of the two sets as a function of time  \n",
    "* Repeat the exercise by means of the inverse transform method: draw 1000 random numbers from the non-uniform probability distribution $p(t)=2^{-t/\\tau}\\frac{\\ln 2}{\\tau}$ to represent the times of decay of the 1000 Tl atoms. Make a plot showing the number of atoms that have not decayed as a function of time"
   ]
  },
  {
   "cell_type": "code",
   "execution_count": null,
   "metadata": {},
   "outputs": [],
   "source": [
    "#1)\n",
    "import numpy as np\n",
    "import matplotlib.pyplot as plt\n",
    "T=3.052*60\n",
    "Tha_sample=1000\n",
    "Lead_atoms=0\n",
    "s_Tl=[]\n",
    "s_Pb=[]\n",
    "i=0\n",
    "t=0\n",
    "while(t<T):\n",
    "    pt=1-2**(-t/T)\n",
    "    Tl=Tha_sample*pt \n",
    "    s_Tl.append(1000-Tl)\n",
    "    s_Pb.append(Tl)\n",
    "    t+=1\n",
    "    i=i+1   \n",
    "t = np.arange(0,i,1)\n",
    "fig, ax1 = plt.subplots()\n",
    "ax1.set(xlabel='time', ylabel='Tl atoms',title='Thallium')\n",
    "ax1.plot(t,s_Tl)\n",
    "fig, ax2 = plt.subplots()\n",
    "ax1.set(xlabel='time', ylabel='Pb atoms',\n",
    "       title='Lead (Pb)')\n",
    "ax2.plot(t,s_Pb)\n",
    "plt.show()"
   ]
  },
  {
   "cell_type": "code",
   "execution_count": null,
   "metadata": {},
   "outputs": [],
   "source": [
    "#2)"
   ]
  },
  {
   "cell_type": "markdown",
   "metadata": {},
   "source": [
    "2\\. **Rutherford Scattering**\n",
    "\n",
    "The scattering angle $\\theta$ of $\\alpha$ particles hitting a positively charged nucleus of a Gold atom ($Z=79$) follows the rule:\n",
    "\n",
    "$$\n",
    "\\tan{\\frac{1}{2} \\theta} = \\frac{Z e^2} {2\\pi \\epsilon_0 E b}\n",
    "$$\n",
    "\n",
    "where $E=7.7$ MeV and $b$ beam is the impact parameter. The beam is represented by a 2D gaussian distribution with $\\sigma=a_0/100$ for both coordinates ($a_0$ being the Bohr radius). Assume 1 million $\\alpha$ particles are shot on the gold atom.\n",
    "\n",
    "Computing the fraction of particles that \"bounce back\",i.e. those particle whose scattering angle is greater than $\\pi/2$ (which set a condition on the impact parameter $b$)"
   ]
  },
  {
   "cell_type": "code",
   "execution_count": null,
   "metadata": {},
   "outputs": [],
   "source": [
    "import numpy as np\n",
    "import math\n",
    "Z =79\n",
    "e=1.602*(10**(-19))\n",
    "E=7.7*1e6*e\n",
    "\n",
    "m=9.109*(10**(-31))\n",
    "h=1.055*(10**(-34))\n",
    "k=8.988*(10**(9))\n",
    "a0=(h**2)/(m*k*(e**2))\n",
    "\n",
    "e0= 8.8541878128*(10**(-12))\n",
    "\n",
    "N=10**6\n",
    "x = np.random.normal(0,a0/100,N)\n",
    "y = np.random.normal(0,a0/100,N)\n",
    "\n",
    "c = np.sqrt(np.power(x,2)+np.power(y,2))\n",
    "theta=2*np.arctan((Z*e**2)/(2*math.pi*e0*E)/c)\n",
    "print (\"%\",(len(theta[theta>np.pi/2])/N)*100)"
   ]
  },
  {
   "cell_type": "markdown",
   "metadata": {},
   "source": [
    "3\\. **Monte Carlo integration: hit/miss vs mean value method**\n",
    "\n",
    "Consider the function \n",
    "\n",
    "$$f(x) =\\sin^2{\\frac{1}{x(2-x)}}$$\n",
    "\n",
    "* Compute the integral of $f(x)$ between 0 and 2 with the hit/miss method. Evaluate the error of your estimate\n",
    "* Repeat the integral with the mean value method. Evaluate the error and compare it with the previous one"
   ]
  },
  {
   "cell_type": "code",
   "execution_count": null,
   "metadata": {},
   "outputs": [],
   "source": [
    "#1)\n",
    "import numpy as np\n",
    "import math\n",
    "def f(x):\n",
    "    b=x*(2-x)\n",
    "    return math.sin(1/b)**2\n",
    "N=100\n",
    "c=0\n",
    "for i in range(N):\n",
    "    x=2*np.random.random()\n",
    "    y=np.random.random()\n",
    "    if y<f(x): \n",
    "        c+=1\n",
    "result=2*c/N\n",
    "print(result)\n"
   ]
  },
  {
   "cell_type": "markdown",
   "metadata": {},
   "source": [
    "4\\. **Monte Carlo integration in high dimension**\n",
    "\n",
    "* Start of by computing the area of a circle of unit radius, by integrating the function \n",
    "\n",
    "$$\n",
    "f(x,y)=\n",
    "\\left\\{\n",
    "\\begin{array}{ll}\n",
    "      1 & x^2+y^2\\le 1 \\\\\n",
    "      0 & {\\rm elsewhere}\n",
    "\\end{array} \n",
    "\\right.\n",
    "$$\n",
    "\n",
    "* Generalize the result for a 10D sphere\n",
    "\n"
   ]
  },
  {
   "cell_type": "code",
   "execution_count": null,
   "metadata": {},
   "outputs": [],
   "source": [
    "import math\n",
    "def f(x):\n",
    "    return math.sqrt(1-(x**2))\n",
    "def integral(s,e,N):\n",
    "    w=(float(e)-float(s))/N\n",
    "    Sum=0\n",
    "    for i in range(N):\n",
    "        h=f(s+i*w)\n",
    "        area=h*w\n",
    "        Sum+=area\n",
    "    return 2*Sum\n",
    "result=integral(-1,1,10000)\n",
    "error = 0.6745*math.sqrt(result*(4-result)/N)\n",
    "print(\"Result\",result,\"Error :\",error)\n"
   ]
  },
  {
   "cell_type": "markdown",
   "metadata": {},
   "source": [
    "5\\. **Monte Carlo integration with importance sampling** \n",
    "\n",
    "Calculate the value of the integral:\n",
    "\n",
    "$$\n",
    "I=\\int_0^1 \\frac{x^{-1/2}}{e^x+1} dx\n",
    "$$\n",
    "\n",
    "using the importance sampling method with $w(x)=1/\\sqrt{x}$. You should get a result about 0.84"
   ]
  },
  {
   "cell_type": "code",
   "execution_count": 1,
   "metadata": {},
   "outputs": [
    {
     "ename": "NameError",
     "evalue": "name 'x' is not defined",
     "output_type": "error",
     "traceback": [
      "\u001b[0;31m---------------------------------------------------------------------------\u001b[0m",
      "\u001b[0;31mNameError\u001b[0m                                 Traceback (most recent call last)",
      "\u001b[0;32m<ipython-input-1-4b641789b9c3>\u001b[0m in \u001b[0;36m<module>\u001b[0;34m\u001b[0m\n\u001b[1;32m      1\u001b[0m \u001b[0;32mimport\u001b[0m \u001b[0mnumpy\u001b[0m \u001b[0;32mas\u001b[0m \u001b[0mnp\u001b[0m\u001b[0;34m\u001b[0m\u001b[0;34m\u001b[0m\u001b[0m\n\u001b[1;32m      2\u001b[0m \u001b[0mN\u001b[0m \u001b[0;34m=\u001b[0m \u001b[0;36m10000\u001b[0m\u001b[0;34m\u001b[0m\u001b[0;34m\u001b[0m\u001b[0m\n\u001b[0;32m----> 3\u001b[0;31m \u001b[0mfx\u001b[0m \u001b[0;34m=\u001b[0m \u001b[0mx\u001b[0m\u001b[0;34m**\u001b[0m\u001b[0;34m(\u001b[0m\u001b[0;34m-\u001b[0m\u001b[0;36m1\u001b[0m\u001b[0;34m/\u001b[0m\u001b[0;36m2\u001b[0m\u001b[0;34m)\u001b[0m\u001b[0;34m/\u001b[0m\u001b[0;34m(\u001b[0m\u001b[0mnp\u001b[0m\u001b[0;34m.\u001b[0m\u001b[0mexp\u001b[0m\u001b[0;34m(\u001b[0m\u001b[0mx\u001b[0m\u001b[0;34m)\u001b[0m \u001b[0;34m+\u001b[0m \u001b[0;36m1\u001b[0m\u001b[0;34m)\u001b[0m\u001b[0;34m\u001b[0m\u001b[0;34m\u001b[0m\u001b[0m\n\u001b[0m\u001b[1;32m      4\u001b[0m \u001b[0mwx\u001b[0m \u001b[0;34m=\u001b[0m \u001b[0;36m1\u001b[0m\u001b[0;34m/\u001b[0m\u001b[0mnp\u001b[0m\u001b[0;34m.\u001b[0m\u001b[0msqrt\u001b[0m\u001b[0;34m(\u001b[0m\u001b[0mx\u001b[0m\u001b[0;34m)\u001b[0m\u001b[0;34m\u001b[0m\u001b[0;34m\u001b[0m\u001b[0m\n\u001b[1;32m      5\u001b[0m \u001b[0;32mdef\u001b[0m \u001b[0mfunction\u001b[0m\u001b[0;34m(\u001b[0m\u001b[0mx\u001b[0m\u001b[0;34m)\u001b[0m\u001b[0;34m:\u001b[0m\u001b[0;34m\u001b[0m\u001b[0;34m\u001b[0m\u001b[0m\n",
      "\u001b[0;31mNameError\u001b[0m: name 'x' is not defined"
     ]
    }
   ],
   "source": [
    "import numpy as np\n",
    "N = 100\n",
    "\n",
    "def function(x):\n",
    "    fx = x**(-1/2)/(np.exp(x) + 1)\n",
    "    return fx \n",
    "def stp(x):\n",
    "    return x*x/5\n",
    "def w_function(x):\n",
    "    wx = 1/np.sqrt(x)\n",
    "    if (x > 0):\n",
    "        return wx\n",
    "\n",
    "r=np.random.uniform(0,2,N)\n",
    "t = np.array([function(i) for i in stp(r)])\n",
    "b = np.array([w_function(i) for i in stp(r)])\n",
    "result = 2/N * np.sum(t/b)\n",
    "print(result)"
   ]
  },
  {
   "cell_type": "code",
   "execution_count": null,
   "metadata": {},
   "outputs": [],
   "source": []
  },
  {
   "cell_type": "code",
   "execution_count": null,
   "metadata": {},
   "outputs": [],
   "source": []
  },
  {
   "cell_type": "code",
   "execution_count": null,
   "metadata": {},
   "outputs": [],
   "source": []
  }
 ],
 "metadata": {
  "kernelspec": {
   "display_name": "Python 3",
   "language": "python",
   "name": "python3"
  },
  "language_info": {
   "codemirror_mode": {
    "name": "ipython",
    "version": 3
   },
   "file_extension": ".py",
   "mimetype": "text/x-python",
   "name": "python",
   "nbconvert_exporter": "python",
   "pygments_lexer": "ipython3",
   "version": "3.8.3"
  }
 },
 "nbformat": 4,
 "nbformat_minor": 2
}
