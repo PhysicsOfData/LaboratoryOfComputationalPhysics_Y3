{
 "cells": [
  {
   "cell_type": "code",
   "execution_count": 4,
   "metadata": {},
   "outputs": [],
   "source": [
    "import numpy as np\n",
    "import pandas as pd\n",
    "from scipy import stats\n",
    "import matplotlib.pyplot as plt\n",
    "import seaborn as sns"
   ]
  },
  {
   "attachments": {},
   "cell_type": "markdown",
   "metadata": {},
   "source": [
    "### 1. Radioactive decay chain"
   ]
  },
  {
   "cell_type": "code",
   "execution_count": 7,
   "metadata": {},
   "outputs": [
    {
     "data": {
      "text/plain": [
       "[<matplotlib.lines.Line2D at 0x2241074eec8>]"
      ]
     },
     "execution_count": 7,
     "metadata": {},
     "output_type": "execute_result"
    },
    {
     "data": {
      "image/png": "[encoded data removed]",
      "text/plain": [
       "<Figure size 432x288 with 1 Axes>"
      ]
     },
     "metadata": {
      "needs_background": "light"
     },
     "output_type": "display_data"
    }
   ],
   "source": [
    "tau=3052*60\n",
    "thallium=[1000]\n",
    "lead=[0]\n",
    "t=1\n",
    "\n",
    "while(thallium[-1]>0):\n",
    "  p=1-2**(-t/tau)\n",
    "  count=0\n",
    "  for i in range(thallium[-1]):\n",
    "    count+=np.random.choice([1,0],p=[p,1-p])\n",
    "  thallium.append(thallium[-1]-count)\n",
    "  lead.append(lead[-1]+count)\n",
    "  t = t + 1\n",
    "plt.plot(np.arange(t),thallium)\n",
    "plt.plot(np.arange(t),lead)"
   ]
  },
  {
   "attachments": {},
   "cell_type": "markdown",
   "metadata": {},
   "source": [
    "### 2. Rutherford Scattering"
   ]
  },
  {
   "cell_type": "code",
   "execution_count": 10,
   "metadata": {},
   "outputs": [
    {
     "name": "stdout",
     "output_type": "stream",
     "text": [
      "Percent of particles whose scattering angle is greater than θ > π/2 :  0.157 %\n"
     ]
    }
   ],
   "source": [
    "import numpy as np\n",
    "import math\n",
    "# number of electrons of Gold\n",
    "Z =79\n",
    "# plank constant\n",
    "h=1.055*(10**(-34))\n",
    "# mass of electron\n",
    "m=9.109*(10**(-31))\n",
    "# cloumb constant\n",
    "k=8.988*(10**(9))\n",
    "# load of electron\n",
    "e=1.602*(10**(-19))\n",
    "E=7.7*1e6*e\n",
    "# vacuum permittivity\n",
    "e0= 8.8541878128*(10**(-12))\n",
    "# bhor radious\n",
    "a0=(h**2)/(m*k*(e**2))\n",
    "N=1000000\n",
    "x = np.random.normal(0,a0/100,N)\n",
    "y = np.random.normal(0,a0/100,N)\n",
    "# cordinat\n",
    "c = np.sqrt(np.power(x,2)+np.power(y,2))\n",
    "theta=2*np.arctan((Z*e**2)/(2*math.pi*E*e0)/c)\n",
    "print (\"Percent of particles whose scattering angle is greater than θ > π/2 : \",(float(len(theta[theta>np.pi/2]))/N)*100,\"%\")\n",
    "\n",
    "# V2 > define a function >>\n",
    "def R_scatter(b, Z=79, E=7.7e6):\n",
    "    e_  = 1.60217662e-19 #[C]\n",
    "    e0_ = 8.854e-12      #[F/m]\n",
    "    return 2 * np.arctan((Z * e_) / (2 * np.pi * e0_ * E * b))\n",
    "\n",
    "a0_    = 5.29e-11 #[m]\n",
    "sigma_ = a0/100\n",
    "cov_   = [[sigma_,0],[0,sigma_]]\n",
    "mean_  = [0,0]\n",
    "\n",
    "N = 1000000\n",
    "x = np.random.normal(0,sigma_,N)\n",
    "y = np.random.normal(0,sigma_,N)\n",
    "\n",
    "theta = R_scatter(np.sqrt(x**2 +y**2))\n",
    "\n",
    "N_back = len(theta[theta>np.pi/2])"
   ]
  },
  {
   "attachments": {},
   "cell_type": "markdown",
   "metadata": {},
   "source": [
    "### 3. Monte Carlo integration: hit/miss vs mean value method"
   ]
  },
  {
   "cell_type": "code",
   "execution_count": 12,
   "metadata": {},
   "outputs": [
    {
     "name": "stdout",
     "output_type": "stream",
     "text": [
      "Result of Integral : 1.4526 Error : 0.006014608593468989\n"
     ]
    }
   ],
   "source": [
    "import math\n",
    "def f(x):\n",
    "    return (math.sin(1/(x*(2-x))))**2\n",
    "N=10000\n",
    "count=0\n",
    "for i in range(N):\n",
    "    x=2*np.random.random()\n",
    "    y=np.random.random()\n",
    "    if y<f(x): count+=1\n",
    "result=2*count/N\n",
    "error = 0.6745*math.sqrt(result*(2-result)/N)\n",
    "print(\"Result of Integral :\",result,\"Error :\",error)"
   ]
  },
  {
   "cell_type": "markdown",
   "metadata": {},
   "source": [
    "Repeat the integral with the mean value method. Evaluate the error and compare it with the previous one"
   ]
  },
  {
   "cell_type": "code",
   "execution_count": 14,
   "metadata": {},
   "outputs": [
    {
     "name": "stdout",
     "output_type": "stream",
     "text": [
      "Result of Integral : 1.4510508516883263 Error : 0.006019900707352529\n"
     ]
    }
   ],
   "source": [
    "import math\n",
    "def f(x):\n",
    "    return (math.sin(1/(x*(2-x))))**2\n",
    "def integral(starting,ending,N):\n",
    "    width=(float(ending)-float(starting))/N\n",
    "    Sum=0\n",
    "    for i in range(N):\n",
    "        height=f(starting+i*width)\n",
    "        area=height*width\n",
    "        Sum+=area\n",
    "    return Sum\n",
    "result=integral(0.0001,2,10000)\n",
    "error = 0.6745*math.sqrt(result*(2-result)/N)\n",
    "print(\"Result of Integral :\",result,\"Error :\",error)"
   ]
  },
  {
   "attachments": {
    "image.png": {
     "image/png": "[encoded data removed]"
    }
   },
   "cell_type": "markdown",
   "metadata": {},
   "source": [
    "### 4. Monte Carlo integration in high dimension\n",
    "![image.png](attachment:image.png)"
   ]
  },
  {
   "cell_type": "code",
   "execution_count": 15,
   "metadata": {},
   "outputs": [
    {
     "name": "stdout",
     "output_type": "stream",
     "text": [
      "Result of Integral : 3.141589327430582 Error : 0.011076542411393666\n"
     ]
    }
   ],
   "source": [
    "import math\n",
    "def f(x):\n",
    "    return math.sqrt(1-(x**2))\n",
    "\n",
    "def integral(starting,ending,N):\n",
    "    width=(float(ending)-float(starting))/N\n",
    "    Sum=0\n",
    "    for i in range(N):\n",
    "        height=f(starting+i*width)\n",
    "        area=height*width\n",
    "        Sum+=area\n",
    "    return 2*Sum\n",
    "\n",
    "result=integral(-1,1,10000)\n",
    "error = 0.6745*math.sqrt(result*(4-result)/N)\n",
    "print(\"Result of Integral :\",result,\"Error :\",error)"
   ]
  },
  {
   "cell_type": "markdown",
   "metadata": {},
   "source": [
    "Generalize the result for a 10D sphere"
   ]
  },
  {
   "cell_type": "code",
   "execution_count": null,
   "metadata": {},
   "outputs": [],
   "source": [
    "def f(z):\n",
    "    y=sum(x**2 for x in z)\n",
    "    if y <=1: return 1\n",
    "    else: return 0\n",
    "N = 1000000\n",
    "count=0\n",
    "D=10\n",
    "for i in range(N):\n",
    "    x1=np.random.uniform(-1,1,D)\n",
    "    if f(x1)==1: count+=1\n",
    "volume=2**D\n",
    "result=volume*(float(count)/float(N))\n",
    "error = 0.6745*np.sqrt(result*(volume-result)/N)\n",
    "print(\"Result of Integral :\",result,\"Error :\",error)"
   ]
  },
  {
   "attachments": {},
   "cell_type": "markdown",
   "metadata": {},
   "source": [
    "### 5. Monte Carlo integration with importance sampling"
   ]
  },
  {
   "cell_type": "code",
   "execution_count": 17,
   "metadata": {},
   "outputs": [
    {
     "name": "stdout",
     "output_type": "stream",
     "text": [
      "0.8693270906450764\n"
     ]
    }
   ],
   "source": [
    "import numpy as np\n",
    "N = 10000\n",
    "def function(x):\n",
    "    return x**(-1/2)/(np.exp(x) + 1) \n",
    "def stp(x):\n",
    "    return x*x/5\n",
    "def w_function(x):\n",
    "    if (x > 0):\n",
    "        return 1/np.sqrt(x)\n",
    "random=np.random.uniform(0,2,N)\n",
    "dividing = np.array([function(i) for i in stp(random)])\n",
    "divider = np.array([w_function(i) for i in stp(random)])\n",
    "result = 2/N * np.sum(dividing/divider)\n",
    "print(result)"
   ]
  },
  {
   "cell_type": "code",
   "execution_count": 18,
   "metadata": {},
   "outputs": [
    {
     "name": "stdout",
     "output_type": "stream",
     "text": [
      "0.8364273942114346\n"
     ]
    }
   ],
   "source": [
    "def f(x):\n",
    "  return   x**(-0.5)/(np.e**x +1)\n",
    "def w(x):\n",
    "  return  x**(-0.5)\n",
    "int_w=2\n",
    "n=10000\n",
    "samples=np.random.random(n)\n",
    "f_sum=np.sum([f(x) for x in samples])/n\n",
    "w_sum=np.sum([w(x) for x in samples])/n\n",
    "I=int_w/w_sum*f_sum\n",
    "print(I)"
   ]
  }
 ],
 "metadata": {
  "kernelspec": {
   "display_name": "Python 3",
   "language": "python",
   "name": "python3"
  },
  "language_info": {
   "codemirror_mode": {
    "name": "ipython",
    "version": 3
   },
   "file_extension": ".py",
   "mimetype": "text/x-python",
   "name": "python",
   "nbconvert_exporter": "python",
   "pygments_lexer": "ipython3",
   "version": "3.7.4"
  }
 },
 "nbformat": 4,
 "nbformat_minor": 4
}
