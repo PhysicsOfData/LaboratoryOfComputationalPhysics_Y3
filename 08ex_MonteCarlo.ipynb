{
 "cells": [
  {
   "cell_type": "code",
   "execution_count": 2,
   "metadata": {},
   "outputs": [
    {
     "data": {
      "text/plain": [
       "'%.4f'"
      ]
     },
     "execution_count": 2,
     "metadata": {},
     "output_type": "execute_result"
    }
   ],
   "source": [
    "import numpy as np\n",
    "import pandas as pd\n",
    "from scipy import stats\n",
    "\n",
    "import matplotlib.pyplot as plt\n",
    "import seaborn as sns\n",
    "%matplotlib inline\n",
    "%precision 4"
   ]
  },
  {
   "cell_type": "markdown",
   "metadata": {},
   "source": [
    "1\\. **Radioactive decay chain**\n",
    "\n",
    "${\\rm Tl}^{208}$ decays to ${\\rm Pb}^{208}$ with a half-lieve of 3.052 minutes. Suppose to start with a sample of 1000 Thallium atoms and 0 of Lead atoms.\n",
    "\n",
    "* Take steps in time of 1 second and at each time-step decide whether each Tl atom has decayed or not, accordingly to the probability $p(t)=1-2^{-t/\\tau}$. Subtract the total number of Tl atoms that decayed at each step from the Tl sample and add them to the Lead one. Plot the evolution of the two sets as a function of time  \n",
    "* Repeat the exercise by means of the inverse transform method: draw 1000 random numbers from the non-uniform probability distribution $p(t)=2^{-t/\\tau}\\frac{\\ln 2}{\\tau}$ to represent the times of decay of the 1000 Tl atoms. Make a plot showing the number of atoms that have not decayed as a function of time"
   ]
  },
  {
   "cell_type": "code",
   "execution_count": 3,
   "metadata": {},
   "outputs": [
    {
     "data": {
      "text/plain": [
       "<matplotlib.legend.Legend at 0x7f1c98826710>"
      ]
     },
     "execution_count": 3,
     "metadata": {},
     "output_type": "execute_result"
    },
    {
     "data": {
      "image/png": "[encoded data removed]",
      "text/plain": [
       "<Figure size 432x288 with 1 Axes>"
      ]
     },
     "metadata": {
      "needs_background": "light"
     },
     "output_type": "display_data"
    }
   ],
   "source": [
    "np.random.seed = 123\n",
    "\n",
    "it = 2000\n",
    "\n",
    "NT = np.zeros(it)\n",
    "NL = np.zeros(it)\n",
    "\n",
    "NT[0]=1000\n",
    "NL[0]=0\n",
    "\n",
    "T = 3.052*60\n",
    "def p(t):\n",
    "    return 1-2**(-t/T)\n",
    "\n",
    "for t in range(it):\n",
    "    if t>0:\n",
    "        NT[t] = NT[0]*(1-p(t))\n",
    "        NL[t] = NT[0]-NT[t]\n",
    "    \n",
    "x = np.arange(it)\n",
    "plt.plot(x, NT, label='Thallium')\n",
    "plt.plot(x, NL, label='Lead')\n",
    "plt.legend()"
   ]
  },
  {
   "cell_type": "code",
   "execution_count": 4,
   "metadata": {},
   "outputs": [
    {
     "data": {
      "text/plain": [
       "Text(0, 0.5, '# atoms')"
      ]
     },
     "execution_count": 4,
     "metadata": {},
     "output_type": "execute_result"
    },
    {
     "data": {
      "image/png": "[encoded data removed]",
      "text/plain": [
       "<Figure size 432x288 with 1 Axes>"
      ]
     },
     "metadata": {
      "needs_background": "light"
     },
     "output_type": "display_data"
    }
   ],
   "source": [
    "def dec_pdf(x):\n",
    "    return 2**-(t/T)*np.log(2)/T\n",
    "\n",
    "def dec_icdf(p):\n",
    "    return - np.log(1-p) * T / np.log(2.0)\n",
    "\n",
    "it1=1000\n",
    "\n",
    "NT1 = np.zeros(it1)\n",
    "NT1[0] = 1000\n",
    "\n",
    "for t in range(it1):\n",
    "    if t>0:\n",
    "        p = np.random.uniform(0, 1)\n",
    "        NT1[t] = dec_icdf(p)\n",
    "        \n",
    "NT1 = np.sort(NT1)        \n",
    " \n",
    "y = np.linspace(it1, 0, it1)\n",
    "plt.plot(NT1, y)\n",
    "plt.xlabel('t [s]')\n",
    "plt.ylabel('# atoms')"
   ]
  },
  {
   "cell_type": "markdown",
   "metadata": {},
   "source": [
    "2\\. **Rutherford Scattering**\n",
    "\n",
    "The scattering angle $\\theta$ of $\\alpha$ particles hitting a positively charged nucleus of a Gold atom ($Z=79$) follows the rule:\n",
    "\n",
    "$$\n",
    "\\tan{\\frac{1}{2} \\theta} = \\frac{Z e^2} {2\\pi \\epsilon_0 E b}\n",
    "$$\n",
    "\n",
    "where $E=7.7$ MeV and $b$ beam is the impact parameter. The beam is represented by a 2D gaussian distribution with $\\sigma=a_0/100$ for both coordinates ($a_0$ being the Bohr radius). Assume 1 million $\\alpha$ particles are shot on the gold atom.\n",
    "\n",
    "Computing the fraction of particles that \"bounce back\",i.e. those particle whose scattering angle is greater than $\\pi/2$ (which set a condition on the impact parameter $b$)"
   ]
  },
  {
   "cell_type": "code",
   "execution_count": 34,
   "metadata": {},
   "outputs": [
    {
     "data": {
      "text/plain": [
       "1617"
      ]
     },
     "execution_count": 34,
     "metadata": {},
     "output_type": "execute_result"
    }
   ],
   "source": [
    "N = 1000000\n",
    "a_0 = 52.9e3  # fm\n",
    "\n",
    "x = np.random.normal(0, a_0/100.0, size=N)\n",
    "y = np.random.normal(0, a_0/100.0, size=N)\n",
    "\n",
    "e2 = 1.44 * 2.0 # MeV*fm\n",
    "def theta(x,y, Z=79, E=7.7):\n",
    "    b = np.sqrt(x*x + y*y)\n",
    "    f = (Z*e2) / (E*b)      #2 pi e_0 = 1\n",
    "    return 2 * np.arctan(f)\n",
    "\n",
    "thetas = theta(x, y)\n",
    "\n",
    "thetas_bounced = thetas[thetas >= np.pi/2.0]\n",
    "len(thetas_bounced)"
   ]
  },
  {
   "cell_type": "markdown",
   "metadata": {},
   "source": [
    "3\\. **Monte Carlo integration: hit/miss vs mean value method**\n",
    "\n",
    "Consider the function \n",
    "\n",
    "$$f(x) =\\sin^2{\\frac{1}{x(2-x)}}$$\n",
    "\n",
    "* Compute the integral of $f(x)$ between 0 and 2 with the hit/miss method. Evaluate the error of your estimate\n",
    "* Repeat the integral with the mean value method. Evaluate the error and compare it with the previous one"
   ]
  },
  {
   "cell_type": "code",
   "execution_count": 16,
   "metadata": {},
   "outputs": [
    {
     "name": "stdout",
     "output_type": "stream",
     "text": [
      "1.45099\n",
      "0.002222075606274434\n"
     ]
    },
    {
     "data": {
      "image/png": "[encoded data removed]",
      "text/plain": [
       "<Figure size 432x288 with 1 Axes>"
      ]
     },
     "metadata": {
      "needs_background": "light"
     },
     "output_type": "display_data"
    }
   ],
   "source": [
    "def f(x):\n",
    "    return (np.sin(1/(x*(2-x))))**2\n",
    "\n",
    "x=np.linspace(0.001,1.999,1000)\n",
    "plt.plot(x,f(x),'r-')\n",
    "\n",
    "# Monte Carlo integration, hit or miss\n",
    "def hom(f):\n",
    "    N=100000\n",
    "    count=0\n",
    "    for i in range(N):\n",
    "        x=2*np.random.random()\n",
    "        y=np.random.random()\n",
    "        if y<f(x): count+=1\n",
    "    I=2*count/N\n",
    "    return I\n",
    "\n",
    "I_list = []\n",
    "for i in range(10):\n",
    "    I_list.append(hom(f))\n",
    "    \n",
    "I_vec = np.array(I_list)\n",
    "I = np.mean(I_vec)\n",
    "err = np.std(I_vec)\n",
    "\n",
    "print(I)\n",
    "print(err)"
   ]
  },
  {
   "cell_type": "code",
   "execution_count": 11,
   "metadata": {},
   "outputs": [
    {
     "name": "stdout",
     "output_type": "stream",
     "text": [
      "[1.4511]\n",
      "0.0016660626542017638\n"
     ]
    }
   ],
   "source": [
    "#mean value method\n",
    "count=0\n",
    "value = []\n",
    "for i in range(N):\n",
    "    x=np.random.uniform(0,2, 1)\n",
    "    count +=f(x)\n",
    "    value.append(f(x))\n",
    "I=2*count/N\n",
    "print(I)\n",
    "\n",
    "np_val = np.array(value)\n",
    "err = 2 * np.std(np_val) / np.sqrt(N)\n",
    "print(err)"
   ]
  },
  {
   "cell_type": "markdown",
   "metadata": {},
   "source": [
    "4\\. **Monte Carlo integration in high dimension**\n",
    "\n",
    "* Start of by computing the area of a circle of unit radius, by integrating the function \n",
    "\n",
    "$$\n",
    "f(x,y)=\n",
    "\\left\\{\n",
    "\\begin{array}{ll}\n",
    "      1 & x^2+y^2\\le 1 \\\\\n",
    "      0 & {\\rm elsewhere}\n",
    "\\end{array} \n",
    "\\right.\n",
    "$$\n",
    "\n",
    "* Generalize the result for a 10D sphere\n",
    "\n"
   ]
  },
  {
   "cell_type": "code",
   "execution_count": 17,
   "metadata": {},
   "outputs": [
    {
     "name": "stdout",
     "output_type": "stream",
     "text": [
      " 2-D: V= 3.1436\n",
      "10-D: V= 2.47808\n"
     ]
    }
   ],
   "source": [
    "def f(x):\n",
    "    x2 = np.sum(x**2)\n",
    "    if x2 <= 1:\n",
    "        return 1\n",
    "    else:\n",
    "        return 0\n",
    "        \n",
    "\n",
    "def I_sphere(dim):\n",
    "    N=100000\n",
    "    x = np.random.uniform(-1.0, 1.0, size=(N,dim))\n",
    "    val = np.zeros(N)\n",
    "    for i in range(N):\n",
    "        val[i] = f(x[i])\n",
    "    V = (2.0**dim)*np.mean(fs)\n",
    "    return V\n",
    "\n",
    "V_2  = I_sphere(2 )\n",
    "V_10 = I_sphere(10)\n",
    "\n",
    "print(\" 2-D: V=\", V_2 )\n",
    "print(\"10-D: V=\", V_10)"
   ]
  },
  {
   "cell_type": "markdown",
   "metadata": {},
   "source": [
    "5\\. **Monte Carlo integration with importance sampling** \n",
    "\n",
    "Calculate the value of the integral:\n",
    "\n",
    "$$\n",
    "I=\\int_0^1 \\frac{x^{-1/2}}{e^x+1} dx\n",
    "$$\n",
    "\n",
    "using the importance sampling method with $w(x)=1/\\sqrt{x}$. You should get a result about 0.84"
   ]
  },
  {
   "cell_type": "code",
   "execution_count": 3,
   "metadata": {},
   "outputs": [
    {
     "name": "stdout",
     "output_type": "stream",
     "text": [
      "0.8388063798136491\n"
     ]
    }
   ],
   "source": [
    "def w(x):\n",
    "    return 1.0 / np.sqrt(x)\n",
    "\n",
    "def inv_tr_w(x):\n",
    "    return x*x #/ 4.0\n",
    "\n",
    "def Iw(a, b):\n",
    "    return 2.0 * (np.sqrt(b) - np.sqrt(a))\n",
    "\n",
    "def f(x):\n",
    "    return x**(-0.5) / (np.exp(x) + 1)\n",
    "\n",
    "def I_imp_samp(N, a, b):\n",
    "    x = np.random.uniform(a, b, size=N)\n",
    "    ws = inv_tr_w(x)\n",
    "    fraq = f(ws) / w(ws)\n",
    "    #fraq = f(x)/w(x)\n",
    "    return np.mean(fraq) * Iw(a,b)\n",
    "\n",
    "N = 1000000\n",
    "I = I_imp_samp(N,0,1.0)\n",
    "print(I)"
   ]
  },
  {
   "cell_type": "code",
   "execution_count": null,
   "metadata": {},
   "outputs": [],
   "source": []
  }
 ],
 "metadata": {
  "kernelspec": {
   "display_name": "Python 3",
   "language": "python",
   "name": "python3"
  },
  "language_info": {
   "codemirror_mode": {
    "name": "ipython",
    "version": 3
   },
   "file_extension": ".py",
   "mimetype": "text/x-python",
   "name": "python",
   "nbconvert_exporter": "python",
   "pygments_lexer": "ipython3",
   "version": "3.6.9"
  }
 },
 "nbformat": 4,
 "nbformat_minor": 2
}
