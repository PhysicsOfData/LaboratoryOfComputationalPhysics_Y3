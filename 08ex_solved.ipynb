{
 "cells": [
  {
   "cell_type": "code",
   "execution_count": 1,
   "metadata": {},
   "outputs": [
    {
     "data": {
      "text/plain": [
       "'%.5f'"
      ]
     },
     "execution_count": 1,
     "metadata": {},
     "output_type": "execute_result"
    }
   ],
   "source": [
    "import numpy as np\n",
    "import pandas as pd\n",
    "import math as m\n",
    "from scipy import stats\n",
    "\n",
    "import matplotlib.pyplot as plt\n",
    "import seaborn as sns\n",
    "%matplotlib inline\n",
    "%precision 5"
   ]
  },
  {
   "cell_type": "markdown",
   "metadata": {},
   "source": [
    "1\\. **Radioactive decay chain**\n",
    "\n",
    "${\\rm Tl}^{208}$ decays to ${\\rm Pb}^{208}$ with a half-lieve of 3.052 minutes. Suppose to start with a sample of 1000 Thallium atoms and 0 of Lead atoms.\n",
    "\n",
    "* Take steps in time of 1 second and at each time-step decide whether each Tl atom has decayed or not, accordingly to the probability $p(t)=1-2^{-t/\\tau}$. Subtract the total number of Tl atoms that decayed at each step from the Tl sample and add them to the Lead one. Plot the evolution of the two sets as a function of time  \n",
    "* Repeat the exercise by means of the inverse transform method: draw 1000 random numbers from the non-uniform probability distribution $p(t)=2^{-t/\\tau}\\frac{\\ln 2}{\\tau}$ to represent the times of decay of the 1000 Tl atoms. Make a plot showing the number of atoms that have not decayed as a function of time"
   ]
  },
  {
   "cell_type": "code",
   "execution_count": 2,
   "metadata": {},
   "outputs": [
    {
     "data": {
      "image/png": "[encoded data removed]",
      "text/plain": [
       "<Figure size 864x288 with 2 Axes>"
      ]
     },
     "metadata": {
      "needs_background": "light"
     },
     "output_type": "display_data"
    }
   ],
   "source": [
    "def lcg(m=2**32, a=1103515245, c=12345):\n",
    "    lcg.current = (a*lcg.current + c) % m\n",
    "    return lcg.current/m\n",
    "\n",
    "def pt(x, tau):\n",
    "    return 1. - 2.**(-x/tau)\n",
    "\n",
    "def expon_pdf(x, tau):\n",
    "    return m.log(2.0)/tau*2.**(-x/tau)\n",
    "\n",
    "def explon_cdf(x, tau):\n",
    "    return 1.-2.**(-x/tau)\n",
    "\n",
    "def expon_icdf(z, tau):\n",
    "    return -tau/m.log(2.0)*m.log(-z+1.0)\n",
    "\n",
    "#initial conditions\n",
    "nthal = 1000\n",
    "nlead = 0\n",
    "thal_hist = []\n",
    "lead_hist = []\n",
    "tau = 3.052*60\n",
    "lcg.current = 3011205\n",
    "\n",
    "#1) evolution of samples with LCG\n",
    "times = np.arange(0,183,1)\n",
    "for t in times:\n",
    "    rn = np.array([lcg() for i in range(nthal)])\n",
    "    dec_thal = rn[rn < pt(t, tau)]\n",
    "    nlead = nlead + len(dec_thal)\n",
    "    nthal = nthal - len(dec_thal)\n",
    "    thal_hist.append(nthal)\n",
    "    lead_hist.append(nlead)\n",
    "plt.figure(figsize=(12,4))\n",
    "plt.subplot(121)\n",
    "plt.plot(times, thal_hist, label='Thallium')\n",
    "plt.plot(times, lead_hist, label='Lead')\n",
    "plt.legend(loc='best')\n",
    "plt.title('Evolution in time of the two sets')\n",
    "plt.xlabel('Time [s]')\n",
    "plt.ylabel('nr of atoms')\n",
    "\n",
    "#2) inverse transfer method\n",
    "u = np.random.random(1000)\n",
    "dec_times = np.array([expon_icdf(q, tau) for q in u])\n",
    "tal_evol = np.zeros(int(dec_times.max()))\n",
    "assex = np.arange(int(dec_times.max()))\n",
    "tal_evol[0] = 1000\n",
    "decayed = 0\n",
    "for i in range(1,int(dec_times.max()),1):\n",
    "    decayed = 0\n",
    "    for l in dec_times:\n",
    "        if ((l<i+1) and (l>=i)):\n",
    "            decayed = decayed + 1\n",
    "        tal_evol[i] = tal_evol[i-1] - decayed\n",
    "plt.subplot(122)\n",
    "plt.plot(assex, tal_evol, linewidth=2, label='Thallium')\n",
    "plt.vlines(tau, ymin=0, ymax=500, colors = 'r', label=r'$\\tau$')\n",
    "plt.title('Atoms not decayed as function of time')\n",
    "plt.xlabel('Time [s]')\n",
    "plt.ylabel('nr of atoms')\n",
    "plt.legend(loc='best')\n",
    "plt.show()"
   ]
  },
  {
   "cell_type": "markdown",
   "metadata": {},
   "source": [
    "2\\. **Rutherford Scattering**\n",
    "\n",
    "The scattering angle $\\theta$ of $\\alpha$ particles hitting a positively charged nucleus of a Gold atom ($Z=79$) follows the rule:\n",
    "\n",
    "$$\n",
    "\\tan{\\frac{1}{2} \\theta} = \\frac{Z e^2} {2\\pi \\epsilon_0 E b}\n",
    "$$\n",
    "\n",
    "where $E=7.7$ MeV and $b$ beam is the impact parameter. The beam is represented by a 2D gaussian distribution with $\\sigma=a_0/100$ for both coordinates ($a_0$ being the Bohr radius). Assume 1 million $\\alpha$ particles are shot on the gold atom.\n",
    "\n",
    "Computing the fraction of particles that \"bounce back\",i.e. those particle whose scattering angle is greater than $\\pi/2$ (which set a condition on the impact parameter $b$)"
   ]
  },
  {
   "cell_type": "code",
   "execution_count": 3,
   "metadata": {},
   "outputs": [
    {
     "name": "stdout",
     "output_type": "stream",
     "text": [
      "0.00153 of particles bounced back\n"
     ]
    }
   ],
   "source": [
    "#parameters\n",
    "Z_Au = 79.\n",
    "E = 7.7e6\n",
    "nalpha = 1000000\n",
    "a0 = 2.7e-4\n",
    "sigma = a0/100\n",
    "b_lim = 2.*Z_Au*10**(-6)/(137*7.7*m.tan(m.pi/4))\n",
    "\n",
    "#computation\n",
    "z = np.random.random(nalpha)\n",
    "theta = 2*np.pi*np.random.random(nalpha)\n",
    "r_squared = -2*(sigma**2)*np.log(z)\n",
    "r = np.sqrt(r_squared)\n",
    "bounced = r[r < b_lim]\n",
    "print(len(bounced)/nalpha, \"of particles bounced back\")"
   ]
  },
  {
   "cell_type": "markdown",
   "metadata": {},
   "source": [
    "3\\. **Monte Carlo integration: hit/miss vs mean value method**\n",
    "\n",
    "Consider the function \n",
    "\n",
    "$$f(x) =\\sin^2{\\frac{1}{x(2-x)}}$$\n",
    "\n",
    "* Compute the integral of $f(x)$ between 0 and 2 with the hit/miss method. Evaluate the error of your estimate\n",
    "* Repeat the integral with the mean value method. Evaluate the error and compare it with the previous one"
   ]
  },
  {
   "cell_type": "code",
   "execution_count": 4,
   "metadata": {},
   "outputs": [
    {
     "name": "stdout",
     "output_type": "stream",
     "text": [
      "Analytic true value of integral: 1.4514\n",
      "Hit/miss method integral 1.45342 \n",
      "  error of estimate:  0.006327703565488929\n",
      "Mean value method integral 1.450126852235715 \n",
      "  error of estimate:  0.0016722713698070464\n",
      "The mean value method has the smallest error with N of samples fixed\n"
     ]
    }
   ],
   "source": [
    "def f(x):\n",
    "    return np.sin((x*(2. - x))**-1)**2\n",
    "\n",
    "analytic_val = 1.4514\n",
    "print(\"Analytic true value of integral:\", analytic_val)\n",
    "\n",
    "#hit-miss method\n",
    "N = 100000\n",
    "count = 0\n",
    "tot = 0\n",
    "for i in range(N):\n",
    "    x=2*np.random.random()\n",
    "    y=np.random.random()\n",
    "    if y<f(x): \n",
    "        count+=1\n",
    "    tot = tot + f(x)\n",
    "I = 2*count/N\n",
    "err1 = 2*tot/count/m.sqrt(N)\n",
    "print(\"Hit/miss method integral\", I, \"\\n  error of estimate: \", err1)\n",
    "\n",
    "#mean value method\n",
    "x = 2*np.random.random(N)\n",
    "evaluations = f(x)\n",
    "I2 = 2./N*evaluations.sum()\n",
    "err2 = 2*evaluations.std()/m.sqrt(N)\n",
    "print(\"Mean value method integral\", I2, \"\\n  error of estimate: \", err2)\n",
    "print(\"The mean value method has the smallest error with N of samples fixed\")"
   ]
  },
  {
   "cell_type": "markdown",
   "metadata": {},
   "source": [
    "4\\. **Monte Carlo integration in high dimension**\n",
    "\n",
    "* Start of by computing the area of a circle of unit radius, by integrating the function \n",
    "\n",
    "$$\n",
    "f(x,y)=\n",
    "\\left\\{\n",
    "\\begin{array}{ll}\n",
    "      1 & x^2+y^2\\le 1 \\\\\n",
    "      0 & {\\rm elsewhere}\n",
    "\\end{array} \n",
    "\\right.\n",
    "$$\n",
    "\n",
    "* Generalize the result for a 10D sphere\n",
    "\n"
   ]
  },
  {
   "cell_type": "code",
   "execution_count": 5,
   "metadata": {},
   "outputs": [
    {
     "name": "stdout",
     "output_type": "stream",
     "text": [
      "Estimated area of the unit circle in 2D:  3.14128\n",
      "Estimated area of the unit circle in 10D:  2.53952 \n",
      "            analytic result:  2.550164039877345\n"
     ]
    }
   ],
   "source": [
    "def unitcircle(x,y):\n",
    "    if (x**2+y**2)<=1:\n",
    "        return 1.\n",
    "    else:\n",
    "        return 0.\n",
    "\n",
    "def unitc10d(X):\n",
    "    if np.power(X,2).sum() <= 1:\n",
    "        return 1.\n",
    "    else:\n",
    "        return 0.\n",
    "\n",
    "    #2D\n",
    "x = np.random.random(N)*2-1\n",
    "y = np.random.random(N)*2-1\n",
    "evaluations = np.zeros(N)\n",
    "c=0\n",
    "for i, j in zip(x, y):\n",
    "    evaluations[c]=unitcircle(i,j)\n",
    "    c +=1\n",
    "I2ci = 4.*evaluations.sum()/N\n",
    "print(\"Estimated area of the unit circle in 2D: \", I2ci)\n",
    "\n",
    "    #10D\n",
    "X = np.random.rand(N,10)*2-1\n",
    "evaluations = np.zeros(N)\n",
    "c=0\n",
    "for i in range(0,N,1):\n",
    "    evaluations[c]=unitc10d(X[i,:])\n",
    "    c += 1\n",
    "I10ci = evaluations.sum()/N*2.**10\n",
    "I10ci_true = m.pi**5/120.\n",
    "print(\"Estimated area of the unit circle in 10D: \", I10ci, \"\\n            analytic result: \", I10ci_true)"
   ]
  },
  {
   "cell_type": "markdown",
   "metadata": {},
   "source": [
    " 5\\. **Monte Carlo integration with importance sampling** \n",
    "\n",
    "Calculate the value of the integral:\n",
    "\n",
    "$$\n",
    "I=\\int_0^1 \\frac{x^{-1/2}}{e^x+1} dx\n",
    "$$\n",
    "\n",
    "using the importance sampling method with $w(x)=1/\\sqrt{x}$. You should get a result about 0.84"
   ]
  },
  {
   "cell_type": "code",
   "execution_count": 6,
   "metadata": {},
   "outputs": [
    {
     "name": "stdout",
     "output_type": "stream",
     "text": [
      "Estimated value of integral  0.8388304981962652\n"
     ]
    }
   ],
   "source": [
    "def fs(x):\n",
    "    return 1. / (np.exp(x)+1.)\n",
    "#importance sampling\n",
    "def inv_w(x):\n",
    "    return x**2\n",
    "\n",
    "x = np.random.random(N)\n",
    "samp = inv_w(x)\n",
    "frac = fs(samp)\n",
    "I = frac.sum()*2./N\n",
    "print(\"Estimated value of integral \", I)\n"
   ]
  },
  {
   "cell_type": "code",
   "execution_count": null,
   "metadata": {},
   "outputs": [],
   "source": []
  }
 ],
 "metadata": {
  "kernelspec": {
   "display_name": "Python 3",
   "language": "python",
   "name": "python3"
  },
  "language_info": {
   "codemirror_mode": {
    "name": "ipython",
    "version": 3
   },
   "file_extension": ".py",
   "mimetype": "text/x-python",
   "name": "python",
   "nbconvert_exporter": "python",
   "pygments_lexer": "ipython3",
   "version": "3.7.4"
  }
 },
 "nbformat": 4,
 "nbformat_minor": 4
}
