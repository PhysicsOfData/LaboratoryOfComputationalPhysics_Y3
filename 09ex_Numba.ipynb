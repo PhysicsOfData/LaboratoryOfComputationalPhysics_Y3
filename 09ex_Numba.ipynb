{
 "cells": [
  {
   "cell_type": "code",
   "execution_count": 1,
   "metadata": {},
   "outputs": [],
   "source": [
    "import numpy as np\n",
    "import math\n",
    "from numba import jit, vectorize, njit, float32, cuda"
   ]
  },
  {
   "cell_type": "markdown",
   "metadata": {},
   "source": [
    "## Exercise 1\n",
    "\n",
    "Create a vectorized version of log and exp math function for 1D array A = [2, 5, 10, 3, 8]\n",
    "\n",
    "Results should be: \n",
    "+ [0.6931472 1.609438  2.3025851 1.0986123 2.0794415]\n",
    "+ [7.3890562e+00 1.4841316e+02 2.2026465e+04 2.0085537e+01 2.9809580e+03]"
   ]
  },
  {
   "cell_type": "code",
   "execution_count": 2,
   "metadata": {},
   "outputs": [
    {
     "name": "stdout",
     "output_type": "stream",
     "text": [
      "[0.6931472 1.609438  2.3025851 1.0986123 2.0794415]\n",
      "[7.3890562e+00 1.4841316e+02 2.2026465e+04 2.0085537e+01 2.9809580e+03]\n"
     ]
    }
   ],
   "source": [
    "@vectorize([float32(float32)], target='parallel', fastmath=True)\n",
    "def log_v(x):\n",
    "    return np.log(x)\n",
    "\n",
    "@vectorize([float32(float32)], target='parallel', fastmath=True)\n",
    "def e_v(x):\n",
    "    return np.exp(x)\n",
    "\n",
    "A = np.array([2,5,10,3,8],dtype=np.float32)\n",
    "\n",
    "print(log_v(A))\n",
    "print(e_v(A))"
   ]
  },
  {
   "cell_type": "markdown",
   "metadata": {},
   "source": [
    "## Exercise 2\n",
    "Compute the value of a Gaussian probability density function at $x$ with $mean = 1$, $\\sigma = 1$, lower and upper bound in $(-3, 3)$ and $size = 100000$"
   ]
  },
  {
   "cell_type": "code",
   "execution_count": 3,
   "metadata": {},
   "outputs": [
    {
     "name": "stdout",
     "output_type": "stream",
     "text": [
      "335 µs ± 927 ns per loop (mean ± std. dev. of 7 runs, 1000 loops each)\n",
      "123 µs ± 748 ns per loop (mean ± std. dev. of 7 runs, 10000 loops each)\n"
     ]
    }
   ],
   "source": [
    "def gauss(x, mean, sigma):\n",
    "    return np.exp( ((x-mean)**2)/(2*sigma**2) )/np.sqrt(2*np.pi*sigma**2)\n",
    "\n",
    "@jit(nopython=True, fastmath=True, cache=True)\n",
    "def gauss_jit(x, mean, sigma):\n",
    "    return np.exp( ((x-mean)**2)/(2*sigma**2) )/np.sqrt(2*np.pi*sigma**2)\n",
    "\n",
    "x = np.linspace(-3,3,100000, dtype=np.float32)\n",
    "\n",
    "%timeit gauss(x,1,1)\n",
    "%timeit gauss_jit(x,1,1)"
   ]
  },
  {
   "cell_type": "markdown",
   "metadata": {},
   "source": [
    "## Exercise 3\n",
    "\n",
    "Create a \"zero suppression\" function. A common operation when working with waveforms is to force all samples values below a certain absolute magnitude to be zero, as a way to eliminate low amplitude noise. \n",
    "Plot the data before and after the application of the zero_suppress function.\n",
    "\n",
    "$thresold = 15$"
   ]
  },
  {
   "cell_type": "code",
   "execution_count": 4,
   "metadata": {},
   "outputs": [
    {
     "name": "stdout",
     "output_type": "stream",
     "text": [
      "181 µs ± 140 ns per loop (mean ± std. dev. of 7 runs, 10000 loops each)\n",
      "53.6 µs ± 127 ns per loop (mean ± std. dev. of 7 runs, 10000 loops each)\n"
     ]
    },
    {
     "data": {
      "image/png": "[encoded data removed]",
      "text/plain": [
       "<Figure size 432x288 with 1 Axes>"
      ]
     },
     "metadata": {
      "needs_background": "light"
     },
     "output_type": "display_data"
    }
   ],
   "source": [
    "%matplotlib inline\n",
    "from matplotlib import pyplot as plt\n",
    "\n",
    "\n",
    "def zero_suppression(signal,threshold):\n",
    "    signal_supp = signal.copy()\n",
    "    signal_supp[np.abs(signal_supp)<threshold] = 0\n",
    "    return signal_supp\n",
    "\n",
    "@jit(nopython=True)\n",
    "def zero_suppression_jit(signal,threshold):\n",
    "    signal_supp = signal.copy()\n",
    "    signal_supp[np.abs(signal_supp)<threshold] = 0\n",
    "    return signal_supp\n",
    "\n",
    "n = 100000\n",
    "threshold = 15\n",
    "noise = np.random.normal(size=n) * 3\n",
    "pulses = np.maximum(np.sin(np.arange(n) / (n / 23)) - 0.3, 0.0)\n",
    "data = ((pulses * 300) + noise).astype(np.int16)\n",
    "\n",
    "%timeit zero_suppression(data,threshold)\n",
    "%timeit zero_suppression_jit(data,threshold)\n",
    "\n",
    "fig, ax = plt.subplots()\n",
    "ax.plot(data, label=\"original data\")\n",
    "ax.plot(zero_suppression_jit(data, threshold), label=\"suppressed data\")\n",
    "ax.legend();"
   ]
  },
  {
   "cell_type": "markdown",
   "metadata": {},
   "source": [
    "## Exercise 4\n",
    "\n",
    "Calculate the Sigmoid kernel between the matrix X and Y defined as below. The Sigmoid kernel is defined as:\n",
    "\n",
    "$k(x,y) = \\tanh(\\alpha x^T y + c) $"
   ]
  },
  {
   "cell_type": "code",
   "execution_count": 5,
   "metadata": {},
   "outputs": [
    {
     "name": "stdout",
     "output_type": "stream",
     "text": [
      "4.36 µs ± 17.2 ns per loop (mean ± std. dev. of 7 runs, 100000 loops each)\n",
      "2.26 µs ± 1.49 µs per loop (mean ± std. dev. of 7 runs, 1 loop each)\n",
      "990 µs ± 33 µs per loop (mean ± std. dev. of 7 runs, 1 loop each)\n",
      "[[0.88263841 0.89061339 0.8808284 ]\n",
      " [0.94530409 0.96941316 0.97758302]\n",
      " [0.87603407 0.90711827 0.92442373]]\n",
      "[[0.88263841 0.89061339 0.8808284 ]\n",
      " [0.94530409 0.96941316 0.97758302]\n",
      " [0.87603407 0.90711827 0.92442373]]\n",
      "[[0.88263841 0.89061339 0.8808284 ]\n",
      " [0.94530409 0.96941316 0.97758302]\n",
      " [0.87603407 0.90711827 0.92442373]]\n"
     ]
    }
   ],
   "source": [
    "X = np.random.rand(3,3)\n",
    "Y = np.random.rand(3,3)\n",
    "\n",
    "def sig_kernel(alpha,c,x,y):\n",
    "    return np.tanh(alpha*np.dot(x.T,y)+c)\n",
    "\n",
    "@jit(nopython=True)\n",
    "def sig_kernel_jit(alpha,c,x,y):\n",
    "    return np.tanh(alpha*np.dot(x.T,y)+c)\n",
    "\n",
    "@cuda.jit\n",
    "def sig_kernel_cuda(alpha,c,x,y,res):\n",
    "    row, col = cuda.grid(2)\n",
    "    if row < res.shape[0] and col < res.shape[1]:\n",
    "        tmp = 0.\n",
    "        for i in range(x.shape[1]):\n",
    "            tmp += x[i, row] * y[i, col]\n",
    "        res[row, col] = math.tanh(alpha*tmp+c)\n",
    "\n",
    "\n",
    "res = np.zeros(9).reshape(3,3) \n",
    "    \n",
    "threadsperblock = (3,3)\n",
    "blockspergrid_x = int(math.ceil(X.shape[0] / threadsperblock[0]))\n",
    "blockspergrid_y = int(math.ceil(Y.shape[0] / threadsperblock[0]))\n",
    "blockspergrid = (blockspergrid_x, blockspergrid_y)\n",
    "        \n",
    "%timeit sig_kernel(1,1,X,Y)\n",
    "%timeit sig_kernel_jit(1,1,X,Y)\n",
    "%timeit sig_kernel_cuda[threadsperblock, blockspergrid](1,1,X,Y, res)\n",
    "\n",
    "print(sig_kernel(1,1,X,Y))\n",
    "print(sig_kernel_jit(1,1,X,Y))\n",
    "print(res) # not worth for such small matrixes \n"
   ]
  },
  {
   "cell_type": "markdown",
   "metadata": {},
   "source": [
    "## Exercise 5\n",
    "\n",
    "Create a kernel function similar to the ```double_kernel``` see during the lecture and create a new function that takes a 3 dimensional matrix as input calculating the $cos$ for each element and then returns the result. The shape of the matrix must be $256X256X256$. The matrix can be randomly generated"
   ]
  },
  {
   "cell_type": "code",
   "execution_count": 6,
   "metadata": {},
   "outputs": [
    {
     "name": "stdout",
     "output_type": "stream",
     "text": [
      "[[[0.34643229 0.25160663 0.13697369 ... 0.93264222 0.93936604 0.43880873]\n",
      "  [0.90568287 0.94644285 0.48878601 ... 0.58436697 0.70212728 0.10904565]\n",
      "  [0.30393425 0.54329708 0.14007013 ... 0.51362881 0.60349414 0.33258909]\n",
      "  ...\n",
      "  [0.86929155 0.96106521 0.35306032 ... 0.25071459 0.62484536 0.11356238]\n",
      "  [0.18043099 0.89766672 0.75022133 ... 0.24568426 0.86681639 0.68153415]\n",
      "  [0.91962321 0.79437463 0.7802976  ... 0.08000783 0.81790699 0.10173693]]\n",
      "\n",
      " [[0.75553909 0.2408156  0.09801151 ... 0.0591024  0.85361049 0.48487922]\n",
      "  [0.66124365 0.5205153  0.75259958 ... 0.52034362 0.21041081 0.85403593]\n",
      "  [0.19377186 0.4680537  0.37564866 ... 0.03390408 0.6967559  0.50098187]\n",
      "  ...\n",
      "  [0.08149714 0.11895491 0.67561993 ... 0.04854371 0.64352552 0.6373565 ]\n",
      "  [0.76588269 0.51320995 0.4179958  ... 0.254774   0.82068282 0.65524454]\n",
      "  [0.84685902 0.46955186 0.29649038 ... 0.78401581 0.46238807 0.29903636]]\n",
      "\n",
      " [[0.99646244 0.58151011 0.01142159 ... 0.7669288  0.64403678 0.73912973]\n",
      "  [0.52897911 0.72182746 0.41426107 ... 0.63386245 0.74206368 0.82384033]\n",
      "  [0.87683835 0.42171135 0.53592492 ... 0.71594936 0.54997736 0.46110082]\n",
      "  ...\n",
      "  [0.64082896 0.0837169  0.62347214 ... 0.8419291  0.83344608 0.61662519]\n",
      "  [0.24920033 0.52693837 0.45670572 ... 0.6941608  0.85424009 0.47713012]\n",
      "  [0.42995249 0.07053903 0.5962505  ... 0.43193417 0.91338126 0.73032352]]\n",
      "\n",
      " ...\n",
      "\n",
      " [[0.30436842 0.80951322 0.28984561 ... 0.48328235 0.00326824 0.3365072 ]\n",
      "  [0.05846898 0.63349748 0.98936634 ... 0.01502623 0.17873201 0.07702824]\n",
      "  [0.34912651 0.22564104 0.93020862 ... 0.4899605  0.12203076 0.84310615]\n",
      "  ...\n",
      "  [0.11388388 0.4756339  0.33328285 ... 0.22599045 0.9547955  0.37993833]\n",
      "  [0.52340625 0.7480584  0.5904725  ... 0.36494225 0.47319941 0.5418144 ]\n",
      "  [0.14801257 0.25976883 0.74550036 ... 0.92589477 0.58148963 0.92724597]]\n",
      "\n",
      " [[0.93163756 0.26725492 0.29670697 ... 0.3947353  0.86436469 0.68757381]\n",
      "  [0.00790855 0.30527878 0.41972296 ... 0.12971938 0.12773802 0.79930682]\n",
      "  [0.47401694 0.97778711 0.60958253 ... 0.91963351 0.12081907 0.91447679]\n",
      "  ...\n",
      "  [0.02335706 0.15504475 0.90497497 ... 0.36591744 0.41423842 0.13308418]\n",
      "  [0.72897657 0.76978562 0.06662205 ... 0.07599909 0.58255846 0.01672566]\n",
      "  [0.59863076 0.60742993 0.48927373 ... 0.69314364 0.47182084 0.15885403]]\n",
      "\n",
      " [[0.7867172  0.77760053 0.45883877 ... 0.50848603 0.53639215 0.25077811]\n",
      "  [0.08617876 0.27926983 0.83662479 ... 0.39592425 0.51381003 0.60301383]\n",
      "  [0.45735889 0.55457751 0.46188937 ... 0.11555139 0.11935761 0.62680174]\n",
      "  ...\n",
      "  [0.18399251 0.77803646 0.53599772 ... 0.0402454  0.02663078 0.32772299]\n",
      "  [0.87787474 0.82957437 0.85565985 ... 0.43166447 0.35707613 0.65890325]\n",
      "  [0.75071174 0.69674659 0.74622669 ... 0.78517214 0.17498791 0.14649015]]]\n",
      "93.7 ms ± 63.3 µs per loop (mean ± std. dev. of 7 runs, 10 loops each)\n",
      "28.4 ms ± 490 µs per loop (mean ± std. dev. of 7 runs, 10 loops each)\n"
     ]
    }
   ],
   "source": [
    "@cuda.jit\n",
    "def cos_kernel_3D(data):\n",
    "    row, col, depth = cuda.grid(3)\n",
    "    if row < data.shape[0] and col < data.shape[1] and depth < data.shape[2]:\n",
    "        data[row][col][depth] =  math.cos(data[row][col][depth]) \n",
    "        \n",
    "data = np.random.rand(256,256,256)\n",
    "\n",
    "threadsperblock = (8,8,8) #ThreadsPerBlock must be a divisor of the data dimension: 1024/ 64 / 16 = 1\n",
    "blockspergrid_x = int(math.ceil(data.shape[0] / threadsperblock[0]))\n",
    "blockspergrid_y = int(math.ceil(data.shape[1] / threadsperblock[1]))\n",
    "blockspergrid_z = int(math.ceil(data.shape[2] / threadsperblock[2]))\n",
    "blockspergrid = (blockspergrid_x, blockspergrid_y, blockspergrid_z)\n",
    "\n",
    "print(data)\n",
    "\n",
    "%timeit np.cos(data)\n",
    "%timeit cos_kernel_3D[blockspergrid, threadsperblock](data)\n",
    "# in this case the penalty for the memory access is mitigated by the gpu being faster computing the matrix multiplication for such large matrixes\n"
   ]
  },
  {
   "cell_type": "markdown",
   "metadata": {},
   "source": [
    "## Exercise 6\n",
    "\n",
    "Create a matrix multiplication kernel function, called ```matmul``` that takes as input two 2D matrices:\n",
    "+ A of shape $24x12$\n",
    "+ B of shape $12x22$\n",
    "and that computes the multiplication and put the results into a third matrix C of shape $24x12$\n",
    "\n",
    "A and B must be randomly generated and only int values are allowed.\n"
   ]
  },
  {
   "cell_type": "code",
   "execution_count": 7,
   "metadata": {},
   "outputs": [
    {
     "name": "stdout",
     "output_type": "stream",
     "text": [
      "5.43 µs ± 7.61 ns per loop (mean ± std. dev. of 7 runs, 100000 loops each)\n",
      "970 µs ± 2.14 µs per loop (mean ± std. dev. of 7 runs, 1000 loops each)\n"
     ]
    },
    {
     "data": {
      "text/plain": [
       "True"
      ]
     },
     "execution_count": 7,
     "metadata": {},
     "output_type": "execute_result"
    }
   ],
   "source": [
    "from __future__ import division\n",
    "from numba import cuda\n",
    "import numpy\n",
    "import math\n",
    "\n",
    "# complete the code\n",
    "@cuda.jit\n",
    "def matmul(A, B, C):\n",
    "    \"\"\"Perform matrix multiplication of C = A * B\n",
    "    \"\"\"\n",
    "    row, col = cuda.grid(2)\n",
    "    if row < C.shape[0] and col < C.shape[1]:\n",
    "        tmp = 0.\n",
    "        for k in range(A.shape[1]):\n",
    "            tmp += A[row, k] * B[k, col]\n",
    "        C[row, col] = tmp\n",
    "\n",
    "# Initialize the data arrays\n",
    "A = np.random.randint(low=1,high=100,size=(24,12))\n",
    "B = np.random.randint(low=1,high=100,size=(12,22))\n",
    "C = np.zeros((24,22))\n",
    "\n",
    "# Configure the blocks\n",
    "threadsperblock = (12,11)\n",
    "blockspergrid_x =  int(math.ceil(C.shape[0] / threadsperblock[0]))\n",
    "blockspergrid_y =  int(math.ceil(C.shape[1] / threadsperblock[1]))\n",
    "blockspergrid = (blockspergrid_x, blockspergrid_y)\n",
    "\n",
    "%timeit np.dot(A,B)\n",
    "%timeit matmul[blockspergrid,threadsperblock](A,B,C) #not worth for memory reasons, better implementation from numba doc for quare mat\n",
    "np.allclose(C,np.dot(A,B))\n",
    "\n"
   ]
  },
  {
   "cell_type": "code",
   "execution_count": null,
   "metadata": {},
   "outputs": [],
   "source": []
  }
 ],
 "metadata": {
  "kernelspec": {
   "display_name": "Python 3",
   "language": "python",
   "name": "python3"
  },
  "language_info": {
   "codemirror_mode": {
    "name": "ipython",
    "version": 3
   },
   "file_extension": ".py",
   "mimetype": "text/x-python",
   "name": "python",
   "nbconvert_exporter": "python",
   "pygments_lexer": "ipython3",
   "version": "3.8.5"
  }
 },
 "nbformat": 4,
 "nbformat_minor": 2
}
