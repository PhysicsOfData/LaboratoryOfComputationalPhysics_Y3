{
 "cells": [
  {
   "cell_type": "code",
   "execution_count": 1,
   "metadata": {},
   "outputs": [],
   "source": [
    "import os\n",
    "import numpy as np\n",
    "import math\n",
    "os.environ[\"NUMBA_ENABLE_CUDASIM\"] = \"1\"\n",
    "from numba import jit, njit, vectorize, cuda\n",
    "from numba import vectorize, int64, float32\n"
   ]
  },
  {
   "cell_type": "markdown",
   "metadata": {},
   "source": [
    "## Exercise 1\n",
    "\n",
    "Create a vectorized version of log and exp math function for 1D array A = [2, 5, 10, 3, 8]\n",
    "\n",
    "Results should be: \n",
    "+ [0.6931472 1.609438  2.3025851 1.0986123 2.0794415]\n",
    "+ [7.3890562e+00 1.4841316e+02 2.2026465e+04 2.0085537e+01 2.9809580e+03]"
   ]
  },
  {
   "cell_type": "code",
   "execution_count": 2,
   "metadata": {},
   "outputs": [
    {
     "name": "stdout",
     "output_type": "stream",
     "text": [
      "Vectorized version of log:  [0.6931472 1.609438  2.3025851 1.0986123 2.0794415]\n",
      "Vectorized version of exp:  [7.3890562e+00 1.4841316e+02 2.2026465e+04 2.0085537e+01 2.9809580e+03]\n"
     ]
    }
   ],
   "source": [
    "#vectorized version of log\n",
    "@vectorize([float32(float32)], target='parallel', fastmath=True) \n",
    "#to use cuda target must become cuda. Since emulator has a bug we use parallel\n",
    "def vec_log(x):\n",
    "    c =  np.log(x) #ln\n",
    "    return c\n",
    "\n",
    "A=np.array([2, 5, 10, 3, 8], dtype=np.float32)\n",
    "print(\"Vectorized version of log: \",vec_log(A))\n",
    "\n",
    "\n",
    "#vectorized version of exp \n",
    "@vectorize([float32(float32)], target='parallel', fastmath=True) \n",
    "#to use cuda target must become cuda. Since emulator has a bug we use parallel\n",
    "def vec_exp(x):\n",
    "    c =  np.exp(x) \n",
    "    return c\n",
    "\n",
    "print(\"Vectorized version of exp: \",vec_exp(A))\n"
   ]
  },
  {
   "cell_type": "markdown",
   "metadata": {},
   "source": [
    "## Exerice 2\n",
    "Compute the value of a Gaussian probability density function at $x$ with $mean = 1$, $\\sigma = 1$, lower and upper bound in $(-3, 3)$ and $size = 100000$"
   ]
  },
  {
   "cell_type": "code",
   "execution_count": 3,
   "metadata": {},
   "outputs": [
    {
     "data": {
      "text/plain": [
       "array([0.00013383, 0.00013386, 0.00013389, ..., 0.05400392, 0.05399745,\n",
       "       0.05399097])"
      ]
     },
     "execution_count": 3,
     "metadata": {},
     "output_type": "execute_result"
    }
   ],
   "source": [
    "#code ex2\n",
    "from scipy import stats\n",
    "from scipy.stats import truncnorm\n",
    "from numba import jit, int32, float64\n",
    "\n",
    "\n",
    "@jit(nopython=True) #compiler generate code with the highest performance, but all native types of all values in the function can be inferred.\n",
    "def pdf(x, mu, sigma):\n",
    "    return (1/np.sqrt(2*math.pi)*sigma)*np.exp((-1/2)*((x-mu)/(sigma))**2)\n",
    "\n",
    "mu, sigma = 1,1\n",
    "N=100000\n",
    "x_values = np.linspace(-3,3, N).astype(np.float32)\n",
    "pdf(x_values,1,1)\n",
    "\n"
   ]
  },
  {
   "cell_type": "markdown",
   "metadata": {},
   "source": [
    "## Exercise 3\n",
    "\n",
    "Create a \"zero suppression\" function. A common operation when working with waveforms is to force all samples values below a certain absolute magnitude to be zero, as a way to eliminate low amplitude noise. \n",
    "Plot the data before and after the application of the zero_suppress function.\n",
    "\n",
    "$thresold = 15$"
   ]
  },
  {
   "cell_type": "code",
   "execution_count": 4,
   "metadata": {},
   "outputs": [
    {
     "data": {
      "text/plain": [
       "Text(0.5, 1.0, 'Data after zero_suppress function')"
      ]
     },
     "execution_count": 4,
     "metadata": {},
     "output_type": "execute_result"
    },
    {
     "data": {
      "image/png": "[encoded data removed]",
      "text/plain": [
       "<Figure size 720x288 with 2 Axes>"
      ]
     },
     "metadata": {
      "needs_background": "light"
     },
     "output_type": "display_data"
    }
   ],
   "source": [
    "%matplotlib inline\n",
    "from matplotlib import pyplot as plt\n",
    "\n",
    "n = 100000\n",
    "noise = np.random.normal(size=n) * 3\n",
    "pulses = np.maximum(np.sin(np.arange(n) / (n / 23)) - 0.3, 0.0)\n",
    "data = ((pulses * 300) + noise).astype(np.int16)\n",
    "\n",
    "#Create a \"zero suppression\" function. \n",
    "#force all samples values below a certain absolute magnitude to be zero, to eliminate low amplitude noise. \n",
    "\n",
    "magnitude_max=15 \n",
    "\n",
    "@vectorize\n",
    "def zero_suppression(magnitude_max,x):\n",
    "        if x < magnitude_max:\n",
    "            x=0\n",
    "        return x\n",
    "    \n",
    "new_data=zero_suppression(magnitude_max,data)\n",
    "\n",
    "#Plot the data before and after the application of the zero_suppress function.\n",
    "f, (ax1,ax2) = plt.subplots(1,2, figsize=(10,4))\n",
    "\n",
    "ax1.plot(data)\n",
    "ax1.set_title(\"Original data\",fontsize=12)\n",
    "\n",
    "ax2.plot(new_data)\n",
    "ax2.set_title(\"Data after zero_suppress function\",fontsize=12)\n",
    "\n",
    "    "
   ]
  },
  {
   "cell_type": "markdown",
   "metadata": {},
   "source": [
    "## Exercise 4\n",
    "\n",
    "Calculate the Sigmoid kernel between the matrix X and Y defined as below. The Sigmoid kernel is defined as:\n",
    "\n",
    "$k(x,y) = \\tanh(\\alpha x^T y + c) $"
   ]
  },
  {
   "cell_type": "code",
   "execution_count": 5,
   "metadata": {},
   "outputs": [
    {
     "name": "stdout",
     "output_type": "stream",
     "text": [
      "[[0.84769124 0.94776557 0.92364462]\n",
      " [0.79714073 0.86139472 0.8319486 ]\n",
      " [0.84643686 0.84675072 0.85583931]]\n"
     ]
    }
   ],
   "source": [
    "X = np.random.rand(3,3)\n",
    "Y = np.random.rand(3,3)\n",
    "\n",
    "@cuda.jit(device=True)\n",
    "def k(x,y,a,c):\n",
    "    return np.tanh(a*x.T*y+c)\n",
    "\n",
    "print(k(X,Y,1,1))"
   ]
  },
  {
   "cell_type": "markdown",
   "metadata": {},
   "source": [
    "## Exercise 5\n",
    "\n",
    "Create a kernel function similar to the ```double_kernel``` see during the lecture and create a new function that takes a 3 dimensional matrix as input calculating the $cos$ for each element and then returns the result. The shape of the matrix must be $256X256X256$. The matrix can be randomly generated"
   ]
  },
  {
   "cell_type": "code",
   "execution_count": 6,
   "metadata": {},
   "outputs": [
    {
     "name": "stdout",
     "output_type": "stream",
     "text": [
      "[[[0.97889193 0.93375617 0.95068755 ... 0.47155234 0.80634581 0.81913299]\n",
      "  [0.99943187 0.98064517 0.97486208 ... 0.51158848 0.54871188 0.65908531]\n",
      "  [0.92667353 0.99698858 0.99826328 ... 0.34930096 0.6906221  0.87717595]\n",
      "  ...\n",
      "  [0.94181188 0.84911837 0.94633369 ... 0.39504569 0.82512489 0.47297286]\n",
      "  [0.7978837  0.72674326 0.98317239 ... 0.47137405 0.93981425 0.33475091]\n",
      "  [0.84554164 0.74119641 0.88794818 ... 0.17797828 0.75713338 0.25651773]]\n",
      "\n",
      " [[0.79246825 0.99417775 0.99295446 ... 0.87467789 0.77914364 0.15806902]\n",
      "  [0.84181518 0.89720044 0.92660194 ... 0.82848114 0.15880045 0.19970539]\n",
      "  [0.81737423 0.96735869 0.67154529 ... 0.08997738 0.64573914 0.09573993]\n",
      "  ...\n",
      "  [0.71212917 0.97747435 0.89773971 ... 0.40922802 0.80502822 0.62481564]\n",
      "  [0.99833417 0.99143921 0.95227632 ... 0.63397298 0.85233403 0.18670009]\n",
      "  [0.98659924 0.86412258 0.94656533 ... 0.40192899 0.35982492 0.15394561]]\n",
      "\n",
      " [[0.95848219 0.88667626 0.62812948 ... 0.87510829 0.12096103 0.45925053]\n",
      "  [0.54043977 0.99737779 0.71867981 ... 0.65669872 0.31303878 0.32444667]\n",
      "  [0.93040455 0.73920757 0.9897663  ... 0.24284325 0.78130837 0.58468665]\n",
      "  ...\n",
      "  [0.57594944 0.99282515 0.96504706 ... 0.06803771 0.22482093 0.58838984]\n",
      "  [0.54910143 0.59998169 0.71160322 ... 0.93255236 0.37704959 0.37534923]\n",
      "  [0.70493534 0.66619527 0.99810827 ... 0.07333224 0.697933   0.99044915]]\n",
      "\n",
      " ...\n",
      "\n",
      " [[0.60604976 0.92471996 0.67262751 ... 0.1848256  0.31271257 0.1483009 ]\n",
      "  [0.91955334 0.87318822 0.87274196 ... 0.1665156  0.62569499 0.64210699]\n",
      "  [0.82543622 0.92989732 0.99045149 ... 0.41543403 0.45793497 0.71662099]\n",
      "  ...\n",
      "  [0.994319   0.9610821  0.79453173 ... 0.95064936 0.79086716 0.78104823]\n",
      "  [0.90151983 0.73982538 0.73242048 ... 0.61987899 0.6610877  0.5354485 ]\n",
      "  [0.74170647 0.95122093 0.99543266 ... 0.31028613 0.25153536 0.20595856]]\n",
      "\n",
      " [[0.82636275 0.73702043 0.98483625 ... 0.99170496 0.0967009  0.99860207]\n",
      "  [0.74125847 0.92252635 0.97535489 ... 0.59282872 0.31064161 0.67932115]\n",
      "  [0.93551845 0.846604   0.75064061 ... 0.70258333 0.85873713 0.7436516 ]\n",
      "  ...\n",
      "  [0.98805875 0.94200546 0.99969124 ... 0.26810717 0.92532557 0.64849492]\n",
      "  [0.88637876 0.80979567 0.65324312 ... 0.03586824 0.79569411 0.97901288]\n",
      "  [0.94584062 0.55709049 0.90111658 ... 0.15088812 0.6429814  0.96898812]]\n",
      "\n",
      " [[0.98581747 0.80917002 0.90850438 ... 0.2786279  0.49523232 0.03365839]\n",
      "  [0.80046259 0.63562374 0.99971214 ... 0.09491187 0.61731691 0.84585154]\n",
      "  [0.57919879 0.6688988  0.91830612 ... 0.84878392 0.30688324 0.45371318]\n",
      "  ...\n",
      "  [0.63850018 0.59266378 0.7483084  ... 0.85864681 0.18014693 0.20793357]\n",
      "  [0.65501879 0.76714199 0.82421588 ... 0.69438613 0.60229009 0.86553711]\n",
      "  [0.99760112 0.79855073 0.70819968 ... 0.89661309 0.46178267 0.09358905]]]\n"
     ]
    }
   ],
   "source": [
    "#code ex5\n",
    "\n",
    "# CUDA kernel\n",
    "@cuda.jit\n",
    "def kernel3D(array):\n",
    "    i,j,k = cuda.grid(3)\n",
    "    if i < array.shape[0] and j < array.shape[1] and k<array.shape[2]:\n",
    "        array[i][j][k] = np.cos(array[i][j][k])\n",
    "\n",
    "# Host code   \n",
    "data = np.random.random((32,32,32)) #lower dimention to be able to run the conde on my computer\n",
    "#data = np.random.random((256,256,256)) #with the asked matrix dimension \n",
    "\n",
    "# Configure the blocks \n",
    "threadsperblock = (16,16,16)\n",
    "blockspergrid_x = int(math.ceil(data.shape[0] / threadsperblock[0]))\n",
    "blockspergrid_y = int(math.ceil(data.shape[1] / threadsperblock[1]))\n",
    "blockspergrid = (blockspergrid_x, blockspergrid_y)\n",
    "\n",
    "#print(\"lla \\n\",data)\n",
    "kernel3D[blockspergrid, threadsperblock](data)\n",
    "print(data)\n"
   ]
  },
  {
   "cell_type": "markdown",
   "metadata": {},
   "source": [
    "## Exercise 6\n",
    "\n",
    "Create a matrix multiplication kernel function, called ```matmul``` that takes as input two 2D matrices:\n",
    "+ A of shape $24x12$\n",
    "+ B of shape $12x22$\n",
    "and that computes the multiplication and put the results into a third matrix C of shape $24x12$\n",
    "\n",
    "A and B must be randomly generated and only int values are allowed.\n"
   ]
  },
  {
   "cell_type": "code",
   "execution_count": 7,
   "metadata": {},
   "outputs": [
    {
     "name": "stdout",
     "output_type": "stream",
     "text": [
      "[[26. 28. 32. 26. 28. 32. 25. 31. 33. 25. 30. 29. 29. 25. 25. 27. 32. 32.\n",
      "  31. 33. 29. 24.]\n",
      " [26. 22. 28. 24. 27. 29. 24. 27. 29. 22. 27. 26. 28. 22. 24. 23. 27. 27.\n",
      "  28. 27. 28. 21.]\n",
      " [24. 24. 28. 25. 27. 27. 23. 29. 29. 23. 27. 27. 27. 22. 24. 23. 27. 26.\n",
      "  27. 28. 28. 21.]\n",
      " [25. 24. 29. 24. 26. 28. 23. 27. 30. 22. 27. 25. 27. 22. 22. 24. 28. 28.\n",
      "  29. 28. 27. 20.]\n",
      " [26. 28. 32. 27. 28. 32. 25. 32. 33. 26. 30. 29. 29. 24. 25. 26. 31. 31.\n",
      "  30. 33. 30. 24.]\n",
      " [24. 24. 29. 24. 26. 30. 22. 27. 30. 23. 26. 27. 27. 22. 23. 24. 26. 26.\n",
      "  27. 28. 28. 21.]\n",
      " [25. 24. 29. 25. 25. 29. 22. 29. 31. 23. 26. 28. 28. 22. 22. 24. 26. 25.\n",
      "  25. 27. 27. 21.]\n",
      " [22. 23. 27. 22. 24. 27. 22. 27. 28. 22. 27. 26. 26. 24. 22. 24. 24. 25.\n",
      "  25. 27. 24. 20.]\n",
      " [24. 27. 30. 25. 25. 30. 22. 31. 33. 25. 28. 29. 27. 24. 22. 27. 29. 29.\n",
      "  27. 31. 27. 23.]\n",
      " [30. 27. 33. 28. 30. 33. 28. 33. 35. 26. 32. 31. 33. 27. 27. 29. 31. 31.\n",
      "  32. 32. 33. 24.]\n",
      " [24. 24. 28. 24. 24. 29. 22. 29. 30. 23. 27. 28. 27. 23. 21. 24. 26. 27.\n",
      "  26. 29. 26. 22.]\n",
      " [25. 26. 30. 24. 26. 30. 23. 30. 33. 25. 29. 28. 28. 25. 23. 28. 29. 29.\n",
      "  28. 30. 27. 22.]\n",
      " [25. 24. 28. 24. 25. 27. 23. 29. 30. 23. 27. 25. 27. 21. 22. 24. 28. 27.\n",
      "  27. 28. 28. 20.]\n",
      " [25. 24. 28. 24. 25. 27. 23. 28. 29. 21. 26. 27. 28. 22. 22. 24. 27. 26.\n",
      "  28. 28. 29. 20.]\n",
      " [23. 23. 27. 22. 24. 26. 23. 26. 27. 20. 26. 24. 26. 22. 22. 23. 26. 26.\n",
      "  27. 27. 26. 19.]\n",
      " [21. 20. 24. 20. 23. 26. 20. 24. 26. 20. 24. 24. 23. 21. 21. 22. 24. 25.\n",
      "  24. 25. 23. 20.]\n",
      " [31. 29. 35. 30. 32. 35. 28. 34. 37. 27. 32. 32. 33. 26. 28. 29. 35. 34.\n",
      "  34. 34. 34. 26.]\n",
      " [27. 28. 32. 28. 28. 30. 26. 33. 33. 25. 30. 29. 30. 24. 25. 26. 31. 30.\n",
      "  30. 32. 31. 23.]\n",
      " [28. 29. 34. 29. 31. 33. 27. 33. 34. 26. 32. 32. 32. 27. 27. 27. 32. 32.\n",
      "  33. 34. 31. 25.]\n",
      " [25. 24. 28. 24. 25. 27. 23. 29. 30. 22. 27. 26. 27. 22. 22. 24. 29. 28.\n",
      "  27. 28. 26. 21.]\n",
      " [25. 26. 30. 25. 27. 30. 24. 30. 31. 24. 28. 29. 29. 24. 25. 26. 28. 27.\n",
      "  28. 30. 30. 22.]\n",
      " [25. 28. 32. 27. 29. 32. 25. 31. 33. 25. 30. 30. 28. 26. 26. 27. 31. 32.\n",
      "  31. 33. 29. 25.]\n",
      " [24. 24. 28. 24. 26. 27. 24. 29. 29. 23. 29. 26. 27. 24. 23. 24. 27. 28.\n",
      "  28. 29. 26. 21.]\n",
      " [23. 25. 29. 25. 27. 28. 23. 28. 29. 22. 27. 27. 26. 23. 24. 23. 28. 28.\n",
      "  28. 29. 26. 22.]]\n"
     ]
    }
   ],
   "source": [
    "from __future__ import division\n",
    "from numba import cuda\n",
    "import numpy\n",
    "import math\n",
    "\n",
    "# complete the code\n",
    "@cuda.jit\n",
    "def matmul(A, B, C):\n",
    "    \"\"\"Perform matrix multiplication of C = A * B\n",
    "    \"\"\"\n",
    "    row, col = cuda.grid(2)\n",
    "    if row < C.shape[0] and col < C.shape[1]:\n",
    "        tmp = 0.\n",
    "        for k in range(A.shape[1]):\n",
    "            tmp += A[row, k] * B[k, col]\n",
    "        C[row, col] = tmp\n",
    "\n",
    "# Initialize the data arrays\n",
    "A = np.random.randint(1,3,(24,12)) #check randint\n",
    "B = np.random.randint(1,3,(12,22))   \n",
    "C = np.zeros((24, 22))\n",
    "\n",
    "# Configure the blocks\n",
    "threadsperblock = (16,16)\n",
    "blockspergrid_x = int(math.ceil(data.shape[0] / threadsperblock[0]))\n",
    "blockspergrid_y = int(math.ceil(data.shape[1] / threadsperblock[1]))\n",
    "blockspergrid = (blockspergrid_x, blockspergrid_y)\n",
    "\n",
    "#kernel \n",
    "matmul[blockspergrid, threadsperblock](A,B,C)\n",
    "print(C)\n",
    "\n"
   ]
  }
 ],
 "metadata": {
  "kernelspec": {
   "display_name": "Python 3",
   "language": "python",
   "name": "python3"
  },
  "language_info": {
   "codemirror_mode": {
    "name": "ipython",
    "version": 3
   },
   "file_extension": ".py",
   "mimetype": "text/x-python",
   "name": "python",
   "nbconvert_exporter": "python",
   "pygments_lexer": "ipython3",
   "version": "3.8.3"
  }
 },
 "nbformat": 4,
 "nbformat_minor": 2
}
