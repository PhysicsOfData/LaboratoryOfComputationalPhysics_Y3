{
  "nbformat": 4,
  "nbformat_minor": 0,
  "metadata": {
    "accelerator": "GPU",
    "colab": {
      "name": "09ex_Numba.ipynb",
      "provenance": [],
      "include_colab_link": true
    },
    "kernelspec": {
      "display_name": "Python 3",
      "language": "python",
      "name": "python3"
    },
    "language_info": {
      "codemirror_mode": {
        "name": "ipython",
        "version": 3
      },
      "file_extension": ".py",
      "mimetype": "text/x-python",
      "name": "python",
      "nbconvert_exporter": "python",
      "pygments_lexer": "ipython3",
      "version": "3.8.5"
    }
  },
  "cells": [
    {
      "cell_type": "markdown",
      "metadata": {
        "id": "view-in-github",
        "colab_type": "text"
      },
      "source": [
        "<a href=\"https://colab.research.google.com/github/giuliacampesan/LaboratoryOfComputationalPhysics_Y3/blob/development/09ex_Numba.ipynb\" target=\"_parent\"><img src=\"https://colab.research.google.com/assets/colab-badge.svg\" alt=\"Open In Colab\"/></a>"
      ]
    },
    {
      "cell_type": "markdown",
      "metadata": {
        "id": "Jnb02bv8mhPW"
      },
      "source": [
        "## Exercise 1\n",
        "\n",
        "Create a vectorized version of log and exp math function for 1D array A = [2, 5, 10, 3, 8]\n",
        "\n",
        "Results should be: \n",
        "+ [0.6931472 1.609438  2.3025851 1.0986123 2.0794415]\n",
        "+ [7.3890562e+00 1.4841316e+02 2.2026465e+04 2.0085537e+01 2.9809580e+03]"
      ]
    },
    {
      "cell_type": "code",
      "metadata": {
        "colab": {
          "base_uri": "https://localhost:8080/"
        },
        "id": "E8BWZkt7mhPe",
        "outputId": "8b6503f2-e597-464f-ce47-a1c1cc1ead2e"
      },
      "source": [
        " import numpy as np\n",
        " import numba\n",
        " from numba import cuda , vectorize, int64, float32\n",
        " @vectorize([float32(float32)])\n",
        " def exp(x):\n",
        "   return np.exp(x)\n",
        " def log(x):\n",
        "   return np.log(x)\n",
        "\n",
        "A = np.asarray([2, 5, 10, 3, 8]).astype(np.float32)\n",
        "\n",
        "print(log(A))\n",
        "print(exp(A))"
      ],
      "execution_count": 12,
      "outputs": [
        {
          "output_type": "stream",
          "text": [
            "[0.6931472 1.609438  2.3025851 1.0986123 2.0794415]\n",
            "[7.3890562e+00 1.4841316e+02 2.2026465e+04 2.0085537e+01 2.9809580e+03]\n"
          ],
          "name": "stdout"
        }
      ]
    },
    {
      "cell_type": "markdown",
      "metadata": {
        "id": "Mlnkp6oZmhPh"
      },
      "source": [
        "## Exerice 2\n",
        "Compute the value of a Gaussian probability density function at $x$ with $mean = 1$, $\\sigma = 1$, lower and upper bound in $(-3, 3)$ and $size = 100000$"
      ]
    },
    {
      "cell_type": "code",
      "metadata": {
        "id": "PcdgLOwKmhPl",
        "colab": {
          "base_uri": "https://localhost:8080/",
          "height": 282
        },
        "outputId": "cdc3cc51-42b6-4717-ccfd-bb15030a9789"
      },
      "source": [
        "import math as m\n",
        "import matplotlib.pyplot as plt\n",
        "\n",
        "@vectorize([float64(float64, int64, int64)])\n",
        "def gaussian(x, mean,sigma):\n",
        "  return 1./(m.sqrt(2.*m.pi)*sigma)*m.exp(-m.pow((x - mean)/sigma, 2.)/2)\n",
        "\n",
        "x = np.random.uniform(-3,3, 100000)\n",
        "mean = 1\n",
        "sigma = 1\n",
        "y=gaussian(x,mean, sigma)\n",
        "plt.plot(x,y, '.', color='red')"
      ],
      "execution_count": 50,
      "outputs": [
        {
          "output_type": "execute_result",
          "data": {
            "text/plain": [
              "[<matplotlib.lines.Line2D at 0x7fb3266fb710>]"
            ]
          },
          "metadata": {
            "tags": []
          },
          "execution_count": 50
        },
        {
          "output_type": "display_data",
          "data": {
            "image/png": "[encoded data removed]",
            "text/plain": [
              "<Figure size 432x288 with 1 Axes>"
            ]
          },
          "metadata": {
            "tags": [],
            "needs_background": "light"
          }
        }
      ]
    },
    {
      "cell_type": "markdown",
      "metadata": {
        "id": "ptJ8uYKgmhPo"
      },
      "source": [
        "## Exercise 3\n",
        "\n",
        "Create a \"zero suppression\" function. A common operation when working with waveforms is to force all samples values below a certain absolute magnitude to be zero, as a way to eliminate low amplitude noise. \n",
        "Plot the data before and after the application of the zero_suppress function.\n",
        "\n",
        "$thresold = 15$"
      ]
    },
    {
      "cell_type": "code",
      "metadata": {
        "id": "c1erefrsmhPr",
        "colab": {
          "base_uri": "https://localhost:8080/",
          "height": 265
        },
        "outputId": "0321fff9-7ee9-4f89-bfdd-1c7e4a3264a6"
      },
      "source": [
        "%matplotlib inline\n",
        "from matplotlib import pyplot as plt\n",
        "\n",
        "n = 100000\n",
        "noise = np.random.normal(size=n) * 3\n",
        "pulses = np.maximum(np.sin(np.arange(n) / (n / 23)) - 0.3, 0.0)\n",
        "data = ((pulses * 300) + noise).astype(np.int16)\n",
        "\n",
        "plt.plot(data, '.')\n",
        "\n",
        "@vectorize([float64(float64, int64)])\n",
        "def zero_supp(x, treshold):\n",
        "  if x <= 15:\n",
        "    return 0\n",
        "  else:\n",
        "     return x\n",
        "\n",
        "threshold = 15\n",
        "data = zero_supp(data, threshold)\n",
        "plt.plot(data, '.', color='red')\n",
        "plt.show()"
      ],
      "execution_count": 59,
      "outputs": [
        {
          "output_type": "display_data",
          "data": {
            "image/png": "[encoded data removed]",
            "text/plain": [
              "<Figure size 432x288 with 1 Axes>"
            ]
          },
          "metadata": {
            "tags": [],
            "needs_background": "light"
          }
        }
      ]
    },
    {
      "cell_type": "markdown",
      "metadata": {
        "id": "kdprlNkGmhPv"
      },
      "source": [
        "## Exercise 4\n",
        "\n",
        "Calculate the Sigmoid kernel between the matrix X and Y defined as below. The Sigmoid kernel is defined as:\n",
        "\n",
        "$k(x,y) = \\tanh(\\alpha x^T y + c) $"
      ]
    },
    {
      "cell_type": "code",
      "metadata": {
        "colab": {
          "base_uri": "https://localhost:8080/"
        },
        "id": "N9rYJvvhmhPw",
        "outputId": "fc2e8d43-89be-4883-8487-ff89c24df021"
      },
      "source": [
        "X = np.random.rand(3,3)\n",
        "Y = np.random.rand(3,3)\n",
        "\n",
        "from numba import cuda\n",
        "import math\n",
        "\n",
        "X = np.random.rand(3,3).astype('float64')\n",
        "Y = np.random.rand(3,3).astype('float64')\n",
        "res = np.zeros((3,3), dtype='float64')\n",
        "\n",
        "\n",
        "@cuda.jit\n",
        "def sigmoid_kernel(x, y, result, a, c):    \n",
        "    \n",
        "    row, col = cuda.grid(2)\n",
        "    \n",
        "    if row < result.shape[0] and col < result.shape[1]:\n",
        "        tmp = 0.\n",
        "        for k in range(x.shape[0]):\n",
        "            tmp += x[k, row] * y[k, col]\n",
        "        \n",
        "        result[row, col] = math.tanh(a * tmp + c)\n",
        "\n",
        "        \n",
        "sigmoid_kernel[(1,1),(3,3)](X, Y, res, 1., 1.)\n",
        "\n",
        "print(res)\n",
        "\n",
        "\n"
      ],
      "execution_count": 14,
      "outputs": [
        {
          "output_type": "stream",
          "text": [
            "[[0.88060485 0.81685009 0.91849496]\n",
            " [0.96081709 0.94014119 0.95347308]\n",
            " [0.89576591 0.82131785 0.91442054]]\n"
          ],
          "name": "stdout"
        }
      ]
    },
    {
      "cell_type": "markdown",
      "metadata": {
        "id": "wc4kHO6ImhPz"
      },
      "source": [
        "## Exercise 5\n",
        "\n",
        "Create a kernel function similar to the ```double_kernel``` see during the lecture and create a new function that takes a 3 dimensional matrix as input calculating the $cos$ for each element and then returns the result. The shape of the matrix must be $256X256X256$. The matrix can be randomly generated"
      ]
    },
    {
      "cell_type": "code",
      "metadata": {
        "colab": {
          "base_uri": "https://localhost:8080/"
        },
        "id": "ZthYP-rKc8U1",
        "outputId": "ded3aa40-4fd9-4263-cd36-dbc4a0ab386f"
      },
      "source": [
        "\n",
        "M = np.random.rand(256,256,256)\n",
        "\n",
        "@cuda.jit\n",
        "def cosine_kernel(M):\n",
        "  row, col, side = cuda.grid(3)\n",
        "  if row < M.shape[0] and col < M.shape[1] and side <M.shape[2]:\n",
        "    M[row][col][side] = math.cos(M[row][col][side])\n",
        " \n",
        " \n",
        "threadsperblock = (8,8,8)\n",
        "blockspergrid_x = int(math.ceil(M.shape[0] / threadsperblock[0]))\n",
        "blockspergrid_y = math.ceil(M.shape[1]/threadsperblock[1])\n",
        "blockspergrid_z = math.ceil(M.shape[2]/threadsperblock[2])\n",
        "\n",
        "blockspergrid = (blockspergrid_x, blockspergrid_y, blockspergrid_z)\n",
        "\n",
        "cosine_kernel[blockspergrid, threadsperblock](M)\n",
        "M"
      ],
      "execution_count": 22,
      "outputs": [
        {
          "output_type": "execute_result",
          "data": {
            "text/plain": [
              "array([[[0.94718003, 0.99759124, 0.98601333, ..., 0.7779399 ,\n",
              "         0.98072823, 0.80518463],\n",
              "        [0.55758688, 0.96712441, 0.74106729, ..., 0.71456844,\n",
              "         0.95966703, 0.98686653],\n",
              "        [0.55096361, 0.88820673, 0.97633025, ..., 0.92574884,\n",
              "         0.99988075, 0.98580363],\n",
              "        ...,\n",
              "        [0.97485852, 0.93984296, 0.90795654, ..., 0.99931715,\n",
              "         0.84219394, 0.81418603],\n",
              "        [0.74481862, 0.99700345, 0.98249049, ..., 0.97954662,\n",
              "         0.72496594, 0.86740888],\n",
              "        [0.58484886, 0.70422191, 0.97272578, ..., 0.93565687,\n",
              "         0.9450382 , 0.9112474 ]],\n",
              "\n",
              "       [[0.56668714, 0.81194858, 0.67116692, ..., 0.71599586,\n",
              "         0.97490824, 0.71943734],\n",
              "        [0.95531643, 0.92184423, 0.91969052, ..., 0.58679839,\n",
              "         0.65675361, 0.99608116],\n",
              "        [0.9852425 , 0.66484949, 0.91011492, ..., 0.9761214 ,\n",
              "         0.78277688, 0.90778371],\n",
              "        ...,\n",
              "        [0.93293464, 0.98100276, 0.99997258, ..., 0.84052848,\n",
              "         0.99145634, 0.98031305],\n",
              "        [0.97855132, 0.82460554, 0.96482761, ..., 0.73843304,\n",
              "         0.70266259, 0.57802238],\n",
              "        [0.65770645, 0.66214988, 0.87279385, ..., 0.77377141,\n",
              "         0.99313758, 0.99984914]],\n",
              "\n",
              "       [[0.65938471, 0.56573442, 0.88747491, ..., 0.9718999 ,\n",
              "         0.96456697, 0.69382957],\n",
              "        [0.80705263, 0.58580236, 0.82149549, ..., 0.99315906,\n",
              "         0.97467904, 0.98953234],\n",
              "        [0.89197626, 0.9628977 , 0.9492539 , ..., 0.94622788,\n",
              "         0.87427237, 0.60622075],\n",
              "        ...,\n",
              "        [0.82139435, 0.88501508, 0.89172899, ..., 0.97237765,\n",
              "         0.79843907, 0.66523515],\n",
              "        [0.99071633, 0.65817707, 0.56208458, ..., 0.99468061,\n",
              "         0.99936923, 0.94664198],\n",
              "        [0.84559245, 0.54905537, 0.76095168, ..., 0.87696721,\n",
              "         0.93567996, 0.84885538]],\n",
              "\n",
              "       ...,\n",
              "\n",
              "       [[0.920265  , 0.97555219, 0.97025229, ..., 0.95011505,\n",
              "         0.76265203, 0.95266982],\n",
              "        [0.74848352, 0.90725141, 0.55310841, ..., 0.67207286,\n",
              "         0.92695847, 0.99850839],\n",
              "        [0.85565163, 0.97996213, 0.62598687, ..., 0.75058194,\n",
              "         0.9959754 , 0.83240372],\n",
              "        ...,\n",
              "        [0.99997977, 0.80440292, 0.85065183, ..., 0.6980309 ,\n",
              "         0.93083718, 0.88238519],\n",
              "        [0.60876586, 0.9846045 , 0.60130037, ..., 0.56382209,\n",
              "         0.9205303 , 0.99900739],\n",
              "        [0.97408022, 0.91027662, 0.85708239, ..., 0.60903695,\n",
              "         0.96438194, 0.57744623]],\n",
              "\n",
              "       [[0.91282774, 0.99101515, 0.93516126, ..., 0.89349309,\n",
              "         0.97898264, 0.79626438],\n",
              "        [0.82687093, 0.74068593, 0.84102021, ..., 0.99570597,\n",
              "         0.95925304, 0.98289515],\n",
              "        [0.90803888, 0.9847777 , 0.90659202, ..., 0.97416275,\n",
              "         0.95777808, 0.89421581],\n",
              "        ...,\n",
              "        [0.78763759, 0.93532829, 0.85369453, ..., 0.79229727,\n",
              "         0.72306629, 0.81216672],\n",
              "        [0.66108756, 0.99815343, 0.99998348, ..., 0.98695088,\n",
              "         0.84587866, 0.96578447],\n",
              "        [0.62254685, 0.97184623, 0.87614619, ..., 0.99837044,\n",
              "         0.77653948, 0.97445612]],\n",
              "\n",
              "       [[0.98223695, 0.88493699, 0.72490309, ..., 0.54596356,\n",
              "         0.77601301, 0.81970885],\n",
              "        [0.97579426, 0.98506675, 0.97334853, ..., 0.99087228,\n",
              "         0.70340905, 0.93760598],\n",
              "        [0.94832248, 0.72660068, 0.81676935, ..., 0.99958797,\n",
              "         0.66460216, 0.98993241],\n",
              "        ...,\n",
              "        [0.86532594, 0.57440694, 0.59907772, ..., 0.64020568,\n",
              "         0.92955994, 0.99576515],\n",
              "        [0.82744106, 0.95417582, 0.99471639, ..., 0.76083681,\n",
              "         0.93886288, 0.86899925],\n",
              "        [0.94378993, 0.67839252, 0.99876874, ..., 0.99705102,\n",
              "         0.73250665, 0.89613814]]])"
            ]
          },
          "metadata": {
            "tags": []
          },
          "execution_count": 22
        }
      ]
    },
    {
      "cell_type": "markdown",
      "metadata": {
        "id": "BPeopTNumhP1"
      },
      "source": [
        "## Exercise 6\n",
        "\n",
        "Create a matrix multiplication kernel function, called ```matmul``` that takes as input two 2D matrices:\n",
        "+ A of shape $24x12$\n",
        "+ B of shape $12x22$\n",
        "and that computes the multiplication and put the results into a third matrix C of shape $24x12$\n",
        "\n",
        "A and B must be randomly generated and only int values are allowed.\n"
      ]
    },
    {
      "cell_type": "code",
      "metadata": {
        "id": "hi3wwfgimhP3",
        "colab": {
          "base_uri": "https://localhost:8080/"
        },
        "outputId": "fd93376e-60e4-4361-d7de-8fe9e7696bd4"
      },
      "source": [
        "from __future__ import division\n",
        "from numba import cuda\n",
        "import numpy\n",
        "import math\n",
        "\n",
        "# complete the code\n",
        "@cuda.jit\n",
        "def matmul(A, B, C):\n",
        "    \"\"\"Perform matrix multiplication of C = A * B\n",
        "    \"\"\"\n",
        "    row, col = cuda.grid(2)\n",
        "    if row < C.shape[0] and col < C.shape[1]:\n",
        "        tmp = 0.\n",
        "        for k in range(A.shape[1]):\n",
        "            tmp += A[row, k] * B[k, col]\n",
        "        C[row, col] = tmp\n",
        "\n",
        "# Initialize the data arrays\n",
        "A = np.random.rand(24,12)\n",
        "B = np.random.rand(12,22)\n",
        "C = np.zeros((24,22))\n",
        "\n",
        "# Configure the blocks\n",
        "threadsperblock = (8,8)\n",
        "blockspergrid_x = math.ceil(M.shape[0]/threadsperblock[0])\n",
        "blockspergrid_y = math.ceil(M.shape[1]/threadsperblock[1])\n",
        "blockspergrid = (blockspergrid_x, blockspergrid_y)\n",
        "\n",
        "matmul[blockspergrid, threadsperblock](A,B,C)\n",
        "C\n"
      ],
      "execution_count": 24,
      "outputs": [
        {
          "output_type": "execute_result",
          "data": {
            "text/plain": [
              "array([[2.40184232, 2.42655311, 3.71048787, 3.64779026, 3.2440376 ,\n",
              "        2.86708324, 2.09193032, 3.70504511, 2.99906522, 4.00095454,\n",
              "        3.45321951, 2.63009872, 3.9246115 , 4.07970302, 3.21842893,\n",
              "        2.99945466, 3.14466139, 2.3877576 , 3.49158076, 3.29529635,\n",
              "        2.41329689, 3.14113207],\n",
              "       [2.71118758, 3.05063702, 3.68297291, 2.94968193, 4.02539097,\n",
              "        3.36542482, 3.39671814, 3.93405798, 3.13423132, 4.19059082,\n",
              "        4.29902052, 2.57089017, 3.72555047, 3.30931175, 3.21875188,\n",
              "        2.43095779, 2.99670399, 2.34133843, 2.76159417, 3.71621002,\n",
              "        2.19420216, 2.6638074 ],\n",
              "       [2.8294656 , 3.19735864, 4.67058915, 3.04651591, 4.74348655,\n",
              "        3.49386166, 3.70242525, 4.51732384, 3.61422781, 4.52095248,\n",
              "        4.68769993, 2.36266645, 4.15079601, 3.81591523, 4.16346409,\n",
              "        2.84742906, 3.30501263, 3.35969046, 3.4461568 , 4.42138748,\n",
              "        3.04831369, 3.09666303],\n",
              "       [2.24330341, 3.04657217, 3.30035189, 2.77907366, 3.8128964 ,\n",
              "        2.89796537, 3.02393928, 3.85927555, 3.12655889, 3.83920827,\n",
              "        3.57789211, 2.23978279, 3.29678267, 2.94295926, 2.73452847,\n",
              "        2.31165502, 2.43782463, 1.93752024, 2.78938688, 3.29624589,\n",
              "        2.106297  , 2.57000041],\n",
              "       [2.01543993, 2.18067689, 2.4504028 , 2.67709749, 2.91424874,\n",
              "        2.46347002, 2.51559498, 2.68769486, 2.45805812, 3.21723371,\n",
              "        2.57081583, 1.93561074, 3.17261364, 2.95344768, 2.27605664,\n",
              "        2.19042306, 2.71650408, 1.76853628, 2.20642311, 2.79791097,\n",
              "        1.65082924, 2.24893344],\n",
              "       [2.41949396, 2.69719953, 2.95894184, 2.46632731, 3.63585897,\n",
              "        2.74432331, 2.87903151, 3.12707244, 2.73385041, 4.11108592,\n",
              "        3.42680772, 1.74427033, 3.60763097, 3.3354286 , 2.47797771,\n",
              "        1.85835741, 2.79048309, 2.06376116, 2.6374813 , 3.19498057,\n",
              "        2.17820174, 2.98848786],\n",
              "       [1.41690857, 2.30092918, 2.60466325, 2.40975086, 3.34693044,\n",
              "        2.45454022, 2.47176524, 2.83702278, 2.67805089, 3.41170793,\n",
              "        2.81096008, 2.14938959, 2.77071511, 2.6706962 , 2.70016112,\n",
              "        1.87504976, 2.18130154, 2.04942685, 2.06867017, 3.23311272,\n",
              "        1.72048266, 1.66623561],\n",
              "       [2.61540099, 3.10605869, 4.52040502, 3.60060317, 5.23139031,\n",
              "        3.05926042, 3.62874392, 3.84969496, 3.75841247, 4.97402016,\n",
              "        4.48007252, 2.88133092, 4.41813545, 4.53490243, 3.96283276,\n",
              "        3.68190975, 3.8903922 , 3.5263393 , 3.97130125, 4.77457416,\n",
              "        2.97206458, 3.32558431],\n",
              "       [2.38635329, 3.00250588, 3.20099219, 3.55429421, 3.97005539,\n",
              "        3.33849422, 2.90926492, 3.75653698, 3.42173103, 4.72177113,\n",
              "        3.68517705, 2.86220918, 3.99283684, 3.73288722, 3.17767676,\n",
              "        2.36346374, 2.98831549, 1.96462105, 2.77761613, 3.83597145,\n",
              "        2.06244497, 2.78803074],\n",
              "       [3.08648177, 3.27862061, 3.75352431, 3.57549348, 4.42113621,\n",
              "        3.7282058 , 3.9959138 , 4.46868098, 3.88255004, 4.5193513 ,\n",
              "        4.19959906, 3.10920153, 4.59650081, 3.92321981, 3.31955087,\n",
              "        3.21946118, 4.06960603, 2.52754133, 3.22973055, 4.12678743,\n",
              "        2.41019743, 2.82629323],\n",
              "       [2.7633817 , 3.59216678, 4.29449961, 3.81067241, 4.88166005,\n",
              "        3.66822281, 3.76471081, 4.65198999, 4.02960655, 4.99478683,\n",
              "        4.31128981, 2.96823937, 4.55610793, 4.30440378, 3.82119488,\n",
              "        3.28968517, 3.66232828, 3.02104992, 3.77611862, 4.48184054,\n",
              "        2.86088961, 3.32005825],\n",
              "       [2.41966354, 2.27874553, 2.931923  , 1.98252452, 3.23746013,\n",
              "        2.67659614, 2.70795969, 2.63081314, 2.4972597 , 3.23867   ,\n",
              "        2.95254614, 1.53999649, 3.02288829, 2.8450059 , 2.52537294,\n",
              "        1.9626175 , 3.26973539, 2.25884111, 2.72202854, 2.51755571,\n",
              "        1.50839577, 1.97266848],\n",
              "       [2.38501064, 2.45064856, 3.48472317, 3.16808316, 3.45309262,\n",
              "        3.0705695 , 2.9608365 , 4.24946323, 3.36891588, 3.79116035,\n",
              "        3.54482368, 2.88408253, 4.35178214, 3.66353474, 3.19495453,\n",
              "        2.79513791, 3.49524162, 2.56756206, 3.03120133, 3.73735172,\n",
              "        2.54878564, 2.5773178 ],\n",
              "       [2.25228992, 2.27716676, 3.38617701, 2.64457687, 3.50746359,\n",
              "        2.87545014, 2.77809194, 2.97022632, 2.7345693 , 3.70935996,\n",
              "        3.21520859, 1.90532531, 3.60003851, 3.64260645, 3.24488077,\n",
              "        2.40312331, 3.39431099, 2.98438553, 2.85994688, 3.38562979,\n",
              "        2.2518349 , 2.44166628],\n",
              "       [2.7736458 , 2.70046248, 4.23855943, 3.01974519, 4.10524626,\n",
              "        2.888195  , 3.15371691, 4.12123902, 3.27218762, 3.93217698,\n",
              "        4.34550517, 2.58946304, 3.96932055, 3.66169248, 3.36962246,\n",
              "        3.20152523, 3.37968997, 2.78571913, 3.52222384, 3.794116  ,\n",
              "        2.69764785, 2.97087948],\n",
              "       [1.70158921, 1.8571402 , 2.5766554 , 1.57893477, 2.97003362,\n",
              "        2.10864247, 2.54353933, 2.30966336, 2.1768915 , 2.57793675,\n",
              "        2.53047645, 1.12114867, 2.37732909, 2.31110991, 2.3781593 ,\n",
              "        1.76487636, 2.36612594, 2.25732916, 1.91544763, 2.61590183,\n",
              "        1.76935965, 1.55921597],\n",
              "       [3.4987342 , 3.19364048, 4.90498681, 3.74585881, 4.90092817,\n",
              "        3.60152258, 4.08248418, 4.65625003, 3.87014433, 4.59233714,\n",
              "        5.1896382 , 2.97849091, 4.62837262, 4.52045399, 3.92007543,\n",
              "        4.11872167, 4.26512263, 3.35567452, 3.84783758, 4.57111313,\n",
              "        3.27174121, 3.45468635],\n",
              "       [1.82574424, 2.46166983, 2.95759941, 2.71630614, 3.08150335,\n",
              "        2.97422916, 2.07339673, 2.80407217, 2.54403332, 3.66716398,\n",
              "        3.0018733 , 1.82998391, 2.59450475, 3.11653755, 3.01199477,\n",
              "        1.7988202 , 2.25847855, 2.14180874, 2.32045323, 2.83220817,\n",
              "        1.73372598, 1.97726563],\n",
              "       [1.70085253, 1.78519777, 2.18545353, 2.52631336, 2.76591837,\n",
              "        2.042391  , 1.96466118, 2.28026532, 2.40652915, 3.05461641,\n",
              "        2.25042884, 1.41317889, 2.54894847, 2.78266116, 2.16988536,\n",
              "        2.01381199, 2.07087639, 1.42218933, 1.74648368, 2.67205648,\n",
              "        1.83039868, 2.0648883 ],\n",
              "       [1.28611619, 1.78868934, 2.44777612, 2.15142948, 2.67217408,\n",
              "        1.91023845, 1.98631747, 2.12305467, 1.94781627, 2.53825655,\n",
              "        2.43007342, 1.71558302, 2.11614664, 2.35715786, 2.30366015,\n",
              "        2.04454359, 1.89812991, 1.93844474, 1.89574079, 2.56950716,\n",
              "        1.47182256, 1.51752007],\n",
              "       [2.21497068, 2.95787836, 3.43520464, 3.39575592, 4.03643499,\n",
              "        3.22205568, 3.17591477, 3.71603852, 3.33410795, 4.26200164,\n",
              "        3.46742116, 2.77756439, 3.92461916, 3.61746848, 3.37636987,\n",
              "        2.69122326, 3.20092774, 2.5389526 , 2.98690475, 3.88653167,\n",
              "        2.08690496, 2.56049604],\n",
              "       [2.44642369, 2.84083718, 3.18187061, 2.59317169, 3.90021631,\n",
              "        2.61218764, 3.31386497, 3.61270557, 3.05634059, 3.70482339,\n",
              "        3.64948821, 2.29639298, 3.56863993, 3.06395459, 2.34765103,\n",
              "        2.65441754, 2.96792666, 2.02017848, 2.88836137, 3.32482114,\n",
              "        2.164038  , 2.66886185],\n",
              "       [1.95110275, 2.49197968, 2.63574796, 2.89400544, 3.28623281,\n",
              "        2.59264641, 2.56100312, 2.90738499, 2.65647718, 3.63943338,\n",
              "        2.80249909, 2.31625433, 3.29565926, 2.92323021, 2.54382058,\n",
              "        2.11301278, 2.58815265, 1.70344715, 2.43693729, 3.06202098,\n",
              "        1.46237742, 2.31226228],\n",
              "       [2.54163078, 2.92541115, 3.82847803, 3.17958609, 4.19471939,\n",
              "        2.96645807, 3.71160253, 4.3106187 , 3.37263826, 3.79445117,\n",
              "        4.05911477, 2.97527431, 4.13486441, 3.18997579, 3.2704592 ,\n",
              "        3.12685718, 3.18627345, 2.48692896, 3.02495362, 4.09538774,\n",
              "        2.36074371, 2.70778629]])"
            ]
          },
          "metadata": {
            "tags": []
          },
          "execution_count": 24
        }
      ]
    }
  ]
}