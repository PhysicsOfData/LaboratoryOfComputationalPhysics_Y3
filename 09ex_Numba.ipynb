{
 "cells": [
  {
   "cell_type": "code",
   "execution_count": 28,
   "metadata": {},
   "outputs": [],
   "source": [
    "import os\n",
    "import numpy as np\n",
    "import math\n",
    "os.environ[\"NUMBA_ENABLE_CUDASIM\"] = \"1\"\n",
    "from numba import jit, njit, vectorize, cuda, guvectorize\n",
    "from matplotlib import pyplot as plt\n",
    "from numba import vectorize, int64, float32, int16"
   ]
  },
  {
   "cell_type": "markdown",
   "metadata": {},
   "source": [
    "## Exercise 1\n",
    "\n",
    "Create a vectorized version of log and exp math function for 1D array A = [2, 5, 10, 3, 8]\n",
    "\n",
    "Results should be: \n",
    "+ [0.6931472 1.609438  2.3025851 1.0986123 2.0794415]\n",
    "+ [7.3890562e+00 1.4841316e+02 2.2026465e+04 2.0085537e+01 2.9809580e+03]"
   ]
  },
  {
   "cell_type": "code",
   "execution_count": 27,
   "metadata": {},
   "outputs": [
    {
     "name": "stdout",
     "output_type": "stream",
     "text": [
      "[7.3890562e+00 1.4841316e+02 2.2026465e+04 2.0085537e+01 2.9809580e+03]\n",
      "[0.6931472 1.609438  2.3025851 1.0986123 2.0794415]\n"
     ]
    }
   ],
   "source": [
    "import numpy as np\n",
    "\n",
    "\n",
    "@vectorize([float32(float32)],target='parallel', fastmath=True)\n",
    "def exp (x):\n",
    "    return np.exp(x)\n",
    "\n",
    "@vectorize([float32(float32)],target='parallel', fastmath=True)\n",
    "def log (x):\n",
    "    return np.log(x)\n",
    "\n",
    "A =np.array([2, 5, 10, 3, 8]).astype(np.float32) \n",
    "\n",
    "print(exp(A))\n",
    "print(log(A))"
   ]
  },
  {
   "cell_type": "markdown",
   "metadata": {},
   "source": [
    "## Exerice 2\n",
    "Compute the value of a Gaussian probability density function at $x$ with $mean = 1$, $\\sigma = 1$, lower and upper bound in $(-3, 3)$ and $size = 100000$"
   ]
  },
  {
   "cell_type": "code",
   "execution_count": 29,
   "metadata": {},
   "outputs": [
    {
     "data": {
      "text/plain": [
       "[<matplotlib.lines.Line2D at 0x7f69719689a0>]"
      ]
     },
     "execution_count": 29,
     "metadata": {},
     "output_type": "execute_result"
    },
    {
     "data": {
      "image/png": "[encoded data removed]",
      "text/plain": [
       "<Figure size 432x288 with 1 Axes>"
      ]
     },
     "metadata": {
      "needs_background": "light"
     },
     "output_type": "display_data"
    }
   ],
   "source": [
    "size=100000\n",
    "y=np.linspace(-3,3,size).astype(np.float32)\n",
    "\n",
    "@vectorize([float32(float32)],target='parallel', fastmath=True)\n",
    "def gauss(x):\n",
    "    mu=1\n",
    "    sigma=1\n",
    "    return (np.exp(-((x-mu)**2)/(2*(sigma**2))))*(1/pow(2*np.pi*(sigma**2),1/2))\n",
    "\n",
    "plt.plot(y,gauss(y))"
   ]
  },
  {
   "cell_type": "markdown",
   "metadata": {},
   "source": [
    "## Exercise 3\n",
    "\n",
    "Create a \"zero suppression\" function. A common operation when working with waveforms is to force all samples values below a certain absolute magnitude to be zero, as a way to eliminate low amplitude noise. \n",
    "Plot the data before and after the application of the zero_suppress function.\n",
    "\n",
    "$thresold = 15$"
   ]
  },
  {
   "cell_type": "code",
   "execution_count": null,
   "metadata": {
    "scrolled": true
   },
   "outputs": [],
   "source": [
    "%matplotlib inline\n",
    "\n",
    "\n",
    "threshold=15\n",
    "n = 100000\n",
    "noise = np.random.normal(size=n) * 3\n",
    "pulses = np.maximum(np.sin(np.arange(n) / (n / 23)) - 0.3, 0.0)\n",
    "data = ((pulses * 300) + noise).astype(np.int16)\n",
    "\n",
    "#put your code here\n",
    "\n",
    "plt.plot(np.arange(n),data)\n",
    "\n",
    "#@jit(\"void(i2[:])\",nopython=True)\n",
    "@vectorize([int16(int16,int16)],target='parallel', fastmath=True)\n",
    "def zero_suppression (x,y):\n",
    "    x[x<threshold]=y\n",
    "    return y\n",
    "zeros=np.zeros(n).astype(int16)\n",
    "zero_suppression(data,zeros)\n",
    "#plt.plot(np.arange(n),data)\n",
    "        "
   ]
  },
  {
   "cell_type": "markdown",
   "metadata": {},
   "source": [
    "## Exercise 4\n",
    "\n",
    "Calculate the Sigmoid kernel between the matrix X and Y defined as below. The Sigmoid kernel is defined as:\n",
    "\n",
    "$k(x,y) = \\tanh(\\alpha x^T y + c) $"
   ]
  },
  {
   "cell_type": "code",
   "execution_count": 5,
   "metadata": {},
   "outputs": [
    {
     "data": {
      "text/plain": [
       "array([[0.83981469, 1.21785888, 1.11824688],\n",
       "       [1.12667104, 1.10769221, 0.97477695],\n",
       "       [0.99815623, 0.91442689, 1.01353812]])"
      ]
     },
     "execution_count": 5,
     "metadata": {},
     "output_type": "execute_result"
    }
   ],
   "source": [
    "from numba import cuda,jit\n",
    "import numpy\n",
    "import math\n",
    "\n",
    "\n",
    "@cuda.jit\n",
    "def sigmoid(x,y,k):\n",
    "    alpha=3\n",
    "    c=np.ones(y.shape[0])\n",
    "    row, col = cuda.grid(2)\n",
    "    if row < K.shape[0] and col < K.shape[1]:\n",
    "         k[row][col]=np.arctan(alpha*x[col][row]*y[row][col]+c[row])\n",
    "\n",
    "\n",
    "X = np.random.rand(3,3)\n",
    "Y = np.random.rand(3,3)\n",
    "K = np.zeros((3,3))\n",
    "\n",
    "threadsperblock = (3, 1) #ThreadsPerBlock must be a divisor of the data dimension: 1024/ 64 / 16 = 1\n",
    "blockspergrid_x = int(math.ceil(X.shape[0] / threadsperblock[0]))\n",
    "blockspergrid_y = int(math.ceil(X.shape[1] / threadsperblock[1]))\n",
    "blockspergrid = (blockspergrid_x, blockspergrid_y)\n",
    "sigmoid[blockspergrid, threadsperblock](X,Y,K)\n",
    "K"
   ]
  },
  {
   "cell_type": "markdown",
   "metadata": {},
   "source": [
    "## Exercise 5\n",
    "\n",
    "Create a kernel function similar to the ```double_kernel``` see during the lecture and create a new function that takes a 3 dimensional matrix as input calculating the $cos$ for each element and then returns the result. The shape of the matrix must be $256X256X256$. The matrix can be randomly generated"
   ]
  },
  {
   "cell_type": "code",
   "execution_count": 6,
   "metadata": {},
   "outputs": [
    {
     "ename": "KeyboardInterrupt",
     "evalue": "",
     "output_type": "error",
     "traceback": [
      "\u001b[0;31m---------------------------------------------------------------------------\u001b[0m",
      "\u001b[0;31mKeyboardInterrupt\u001b[0m                         Traceback (most recent call last)",
      "\u001b[0;32m<ipython-input-6-c8aab7355829>\u001b[0m in \u001b[0;36m<module>\u001b[0;34m\u001b[0m\n\u001b[1;32m     13\u001b[0m \u001b[0mblockspergrid_z\u001b[0m \u001b[0;34m=\u001b[0m \u001b[0mint\u001b[0m\u001b[0;34m(\u001b[0m\u001b[0mmath\u001b[0m\u001b[0;34m.\u001b[0m\u001b[0mceil\u001b[0m\u001b[0;34m(\u001b[0m\u001b[0mm1\u001b[0m\u001b[0;34m.\u001b[0m\u001b[0mshape\u001b[0m\u001b[0;34m[\u001b[0m\u001b[0;36m2\u001b[0m\u001b[0;34m]\u001b[0m \u001b[0;34m/\u001b[0m \u001b[0mthreadsperblock\u001b[0m\u001b[0;34m[\u001b[0m\u001b[0;36m2\u001b[0m\u001b[0;34m]\u001b[0m\u001b[0;34m)\u001b[0m\u001b[0;34m)\u001b[0m\u001b[0;34m\u001b[0m\u001b[0;34m\u001b[0m\u001b[0m\n\u001b[1;32m     14\u001b[0m \u001b[0mblockspergrid\u001b[0m \u001b[0;34m=\u001b[0m \u001b[0;34m(\u001b[0m\u001b[0mblockspergrid_x\u001b[0m\u001b[0;34m,\u001b[0m \u001b[0mblockspergrid_y\u001b[0m\u001b[0;34m,\u001b[0m \u001b[0mblockspergrid_z\u001b[0m\u001b[0;34m)\u001b[0m\u001b[0;34m\u001b[0m\u001b[0;34m\u001b[0m\u001b[0m\n\u001b[0;32m---> 15\u001b[0;31m \u001b[0mcoseno\u001b[0m\u001b[0;34m[\u001b[0m\u001b[0mblockspergrid\u001b[0m\u001b[0;34m,\u001b[0m \u001b[0mthreadsperblock\u001b[0m\u001b[0;34m]\u001b[0m\u001b[0;34m(\u001b[0m\u001b[0mm1\u001b[0m\u001b[0;34m,\u001b[0m\u001b[0mm2\u001b[0m\u001b[0;34m)\u001b[0m\u001b[0;34m\u001b[0m\u001b[0;34m\u001b[0m\u001b[0m\n\u001b[0m\u001b[1;32m     16\u001b[0m \u001b[0mm2\u001b[0m\u001b[0;34m\u001b[0m\u001b[0;34m\u001b[0m\u001b[0m\n",
      "\u001b[0;32m~/anaconda3/lib/python3.8/site-packages/numba/cuda/simulator/kernel.py\u001b[0m in \u001b[0;36m__call__\u001b[0;34m(self, *args)\u001b[0m\n\u001b[1;32m    104\u001b[0m                 \u001b[0;32mfor\u001b[0m \u001b[0mgrid_point\u001b[0m \u001b[0;32min\u001b[0m \u001b[0mnp\u001b[0m\u001b[0;34m.\u001b[0m\u001b[0mndindex\u001b[0m\u001b[0;34m(\u001b[0m\u001b[0;34m*\u001b[0m\u001b[0mgrid_dim\u001b[0m\u001b[0;34m)\u001b[0m\u001b[0;34m:\u001b[0m\u001b[0;34m\u001b[0m\u001b[0;34m\u001b[0m\u001b[0m\n\u001b[1;32m    105\u001b[0m                     \u001b[0mbm\u001b[0m \u001b[0;34m=\u001b[0m \u001b[0mBlockManager\u001b[0m\u001b[0;34m(\u001b[0m\u001b[0mself\u001b[0m\u001b[0;34m.\u001b[0m\u001b[0mfn\u001b[0m\u001b[0;34m,\u001b[0m \u001b[0mgrid_dim\u001b[0m\u001b[0;34m,\u001b[0m \u001b[0mblock_dim\u001b[0m\u001b[0;34m)\u001b[0m\u001b[0;34m\u001b[0m\u001b[0;34m\u001b[0m\u001b[0m\n\u001b[0;32m--> 106\u001b[0;31m                     \u001b[0mbm\u001b[0m\u001b[0;34m.\u001b[0m\u001b[0mrun\u001b[0m\u001b[0;34m(\u001b[0m\u001b[0mgrid_point\u001b[0m\u001b[0;34m,\u001b[0m \u001b[0;34m*\u001b[0m\u001b[0mfake_args\u001b[0m\u001b[0;34m)\u001b[0m\u001b[0;34m\u001b[0m\u001b[0;34m\u001b[0m\u001b[0m\n\u001b[0m\u001b[1;32m    107\u001b[0m \u001b[0;34m\u001b[0m\u001b[0m\n\u001b[1;32m    108\u001b[0m             \u001b[0;32mfor\u001b[0m \u001b[0mwb\u001b[0m \u001b[0;32min\u001b[0m \u001b[0mretr\u001b[0m\u001b[0;34m:\u001b[0m\u001b[0;34m\u001b[0m\u001b[0;34m\u001b[0m\u001b[0m\n",
      "\u001b[0;32m~/anaconda3/lib/python3.8/site-packages/numba/cuda/simulator/kernel.py\u001b[0m in \u001b[0;36mrun\u001b[0;34m(self, grid_point, *args)\u001b[0m\n\u001b[1;32m    249\u001b[0m                 \u001b[0mself\u001b[0m\u001b[0;34m.\u001b[0m\u001b[0m_f\u001b[0m\u001b[0;34m(\u001b[0m\u001b[0;34m*\u001b[0m\u001b[0margs\u001b[0m\u001b[0;34m)\u001b[0m\u001b[0;34m\u001b[0m\u001b[0;34m\u001b[0m\u001b[0m\n\u001b[1;32m    250\u001b[0m             \u001b[0mt\u001b[0m \u001b[0;34m=\u001b[0m \u001b[0mBlockThread\u001b[0m\u001b[0;34m(\u001b[0m\u001b[0mtarget\u001b[0m\u001b[0;34m,\u001b[0m \u001b[0mself\u001b[0m\u001b[0;34m,\u001b[0m \u001b[0mgrid_point\u001b[0m\u001b[0;34m,\u001b[0m \u001b[0mblock_point\u001b[0m\u001b[0;34m)\u001b[0m\u001b[0;34m\u001b[0m\u001b[0;34m\u001b[0m\u001b[0m\n\u001b[0;32m--> 251\u001b[0;31m             \u001b[0mt\u001b[0m\u001b[0;34m.\u001b[0m\u001b[0mstart\u001b[0m\u001b[0;34m(\u001b[0m\u001b[0;34m)\u001b[0m\u001b[0;34m\u001b[0m\u001b[0;34m\u001b[0m\u001b[0m\n\u001b[0m\u001b[1;32m    252\u001b[0m             \u001b[0mthreads\u001b[0m\u001b[0;34m.\u001b[0m\u001b[0madd\u001b[0m\u001b[0;34m(\u001b[0m\u001b[0mt\u001b[0m\u001b[0;34m)\u001b[0m\u001b[0;34m\u001b[0m\u001b[0;34m\u001b[0m\u001b[0m\n\u001b[1;32m    253\u001b[0m             \u001b[0mlivethreads\u001b[0m\u001b[0;34m.\u001b[0m\u001b[0madd\u001b[0m\u001b[0;34m(\u001b[0m\u001b[0mt\u001b[0m\u001b[0;34m)\u001b[0m\u001b[0;34m\u001b[0m\u001b[0;34m\u001b[0m\u001b[0m\n",
      "\u001b[0;32m~/anaconda3/lib/python3.8/threading.py\u001b[0m in \u001b[0;36mstart\u001b[0;34m(self)\u001b[0m\n\u001b[1;32m    855\u001b[0m                 \u001b[0;32mdel\u001b[0m \u001b[0m_limbo\u001b[0m\u001b[0;34m[\u001b[0m\u001b[0mself\u001b[0m\u001b[0;34m]\u001b[0m\u001b[0;34m\u001b[0m\u001b[0;34m\u001b[0m\u001b[0m\n\u001b[1;32m    856\u001b[0m             \u001b[0;32mraise\u001b[0m\u001b[0;34m\u001b[0m\u001b[0;34m\u001b[0m\u001b[0m\n\u001b[0;32m--> 857\u001b[0;31m         \u001b[0mself\u001b[0m\u001b[0;34m.\u001b[0m\u001b[0m_started\u001b[0m\u001b[0;34m.\u001b[0m\u001b[0mwait\u001b[0m\u001b[0;34m(\u001b[0m\u001b[0;34m)\u001b[0m\u001b[0;34m\u001b[0m\u001b[0;34m\u001b[0m\u001b[0m\n\u001b[0m\u001b[1;32m    858\u001b[0m \u001b[0;34m\u001b[0m\u001b[0m\n\u001b[1;32m    859\u001b[0m     \u001b[0;32mdef\u001b[0m \u001b[0mrun\u001b[0m\u001b[0;34m(\u001b[0m\u001b[0mself\u001b[0m\u001b[0;34m)\u001b[0m\u001b[0;34m:\u001b[0m\u001b[0;34m\u001b[0m\u001b[0;34m\u001b[0m\u001b[0m\n",
      "\u001b[0;32m~/anaconda3/lib/python3.8/threading.py\u001b[0m in \u001b[0;36mwait\u001b[0;34m(self, timeout)\u001b[0m\n\u001b[1;32m    556\u001b[0m             \u001b[0msignaled\u001b[0m \u001b[0;34m=\u001b[0m \u001b[0mself\u001b[0m\u001b[0;34m.\u001b[0m\u001b[0m_flag\u001b[0m\u001b[0;34m\u001b[0m\u001b[0;34m\u001b[0m\u001b[0m\n\u001b[1;32m    557\u001b[0m             \u001b[0;32mif\u001b[0m \u001b[0;32mnot\u001b[0m \u001b[0msignaled\u001b[0m\u001b[0;34m:\u001b[0m\u001b[0;34m\u001b[0m\u001b[0;34m\u001b[0m\u001b[0m\n\u001b[0;32m--> 558\u001b[0;31m                 \u001b[0msignaled\u001b[0m \u001b[0;34m=\u001b[0m \u001b[0mself\u001b[0m\u001b[0;34m.\u001b[0m\u001b[0m_cond\u001b[0m\u001b[0;34m.\u001b[0m\u001b[0mwait\u001b[0m\u001b[0;34m(\u001b[0m\u001b[0mtimeout\u001b[0m\u001b[0;34m)\u001b[0m\u001b[0;34m\u001b[0m\u001b[0;34m\u001b[0m\u001b[0m\n\u001b[0m\u001b[1;32m    559\u001b[0m             \u001b[0;32mreturn\u001b[0m \u001b[0msignaled\u001b[0m\u001b[0;34m\u001b[0m\u001b[0;34m\u001b[0m\u001b[0m\n\u001b[1;32m    560\u001b[0m \u001b[0;34m\u001b[0m\u001b[0m\n",
      "\u001b[0;32m~/anaconda3/lib/python3.8/threading.py\u001b[0m in \u001b[0;36mwait\u001b[0;34m(self, timeout)\u001b[0m\n\u001b[1;32m    300\u001b[0m         \u001b[0;32mtry\u001b[0m\u001b[0;34m:\u001b[0m    \u001b[0;31m# restore state no matter what (e.g., KeyboardInterrupt)\u001b[0m\u001b[0;34m\u001b[0m\u001b[0;34m\u001b[0m\u001b[0m\n\u001b[1;32m    301\u001b[0m             \u001b[0;32mif\u001b[0m \u001b[0mtimeout\u001b[0m \u001b[0;32mis\u001b[0m \u001b[0;32mNone\u001b[0m\u001b[0;34m:\u001b[0m\u001b[0;34m\u001b[0m\u001b[0;34m\u001b[0m\u001b[0m\n\u001b[0;32m--> 302\u001b[0;31m                 \u001b[0mwaiter\u001b[0m\u001b[0;34m.\u001b[0m\u001b[0macquire\u001b[0m\u001b[0;34m(\u001b[0m\u001b[0;34m)\u001b[0m\u001b[0;34m\u001b[0m\u001b[0;34m\u001b[0m\u001b[0m\n\u001b[0m\u001b[1;32m    303\u001b[0m                 \u001b[0mgotit\u001b[0m \u001b[0;34m=\u001b[0m \u001b[0;32mTrue\u001b[0m\u001b[0;34m\u001b[0m\u001b[0;34m\u001b[0m\u001b[0m\n\u001b[1;32m    304\u001b[0m             \u001b[0;32melse\u001b[0m\u001b[0;34m:\u001b[0m\u001b[0;34m\u001b[0m\u001b[0;34m\u001b[0m\u001b[0m\n",
      "\u001b[0;31mKeyboardInterrupt\u001b[0m: "
     ]
    }
   ],
   "source": [
    "@cuda.jit\n",
    "def coseno(m1, m2):\n",
    "    x, y, z = cuda.grid(3)\n",
    "    if x < m2.shape[0] and y < m2.shape[1] and z <  m2.shape[2]:\n",
    "         m2[x][y][z]=np.cos(m1[x][y][z])\n",
    "\n",
    "m1=np.random.rand(256,256,256)\n",
    "m2=np.zeros((256,256,256))\n",
    "\n",
    "threadsperblock = (8,8,4) #ThreadsPerBlock must be a divisor of the data dimension: 1024/ 64 / 16 = 1\n",
    "blockspergrid_x = int(math.ceil(m1.shape[0] / threadsperblock[0]))\n",
    "blockspergrid_y = int(math.ceil(m1.shape[1] / threadsperblock[1]))\n",
    "blockspergrid_z = int(math.ceil(m1.shape[2] / threadsperblock[2]))\n",
    "blockspergrid = (blockspergrid_x, blockspergrid_y, blockspergrid_z)\n",
    "coseno[blockspergrid, threadsperblock](m1,m2)\n",
    "m2"
   ]
  },
  {
   "cell_type": "markdown",
   "metadata": {},
   "source": [
    "## Exercise 6\n",
    "\n",
    "Create a matrix multiplication kernel function, called ```matmul``` that takes as input two 2D matrices:\n",
    "+ A of shape $24x12$\n",
    "+ B of shape $12x22$\n",
    "and that computes the multiplication and put the results into a third matrix C of shape $24x12$\n",
    "\n",
    "A and B must be randomly generated and only int values are allowed.\n"
   ]
  },
  {
   "cell_type": "code",
   "execution_count": 10,
   "metadata": {},
   "outputs": [
    {
     "name": "stdout",
     "output_type": "stream",
     "text": [
      "(24, 22)\n"
     ]
    },
    {
     "data": {
      "text/plain": [
       "array([[31523., 36176., 33054., 32900., 32176., 28414., 26434., 37622.,\n",
       "        25607., 26679., 19854., 37221., 34326., 26125., 33826., 38625.,\n",
       "        32633., 33246., 24387., 24649., 32631., 36802.],\n",
       "       [31949., 26890., 23484., 25293., 27189., 24706., 24957., 28713.,\n",
       "        21340., 27128., 14293., 32901., 33872., 18177., 30249., 33994.,\n",
       "        26161., 30643., 20233., 21851., 34685., 29693.],\n",
       "       [41148., 44280., 41671., 37203., 41279., 34641., 32639., 43055.,\n",
       "        30808., 38272., 26874., 44289., 41327., 29925., 40395., 44790.,\n",
       "        35898., 37471., 32272., 29509., 43306., 43574.],\n",
       "       [34014., 38773., 38182., 31666., 41802., 29808., 29366., 36039.,\n",
       "        31228., 33108., 25264., 36396., 36474., 22165., 36222., 38865.,\n",
       "        30583., 31979., 26987., 20702., 35086., 37047.],\n",
       "       [30364., 31049., 33945., 32481., 35449., 23417., 27351., 29349.,\n",
       "        28362., 32412., 23481., 30569., 32692., 18267., 30898., 32887.,\n",
       "        31295., 30570., 26626., 20326., 31126., 26270.],\n",
       "       [25019., 34407., 35343., 22518., 31405., 24741., 21319., 32017.,\n",
       "        17650., 28152., 18966., 38394., 29943., 27827., 28557., 36763.,\n",
       "        22341., 23329., 22129., 23507., 25994., 32630.],\n",
       "       [35673., 30420., 28847., 27953., 26692., 23330., 26570., 30314.,\n",
       "        21454., 33481., 17966., 30824., 31705., 18656., 24792., 31241.,\n",
       "        25171., 20876., 25657., 25991., 36828., 33268.],\n",
       "       [32471., 29344., 22374., 29219., 31752., 25992., 27727., 32815.,\n",
       "        21839., 29904., 14887., 37442., 33808., 23549., 31238., 41131.,\n",
       "        28923., 25867., 24639., 26583., 33400., 33009.],\n",
       "       [36722., 35170., 33471., 24832., 38207., 29975., 26351., 29445.,\n",
       "        25962., 32213., 22092., 32008., 31526., 24204., 35326., 36528.,\n",
       "        24786., 29689., 28062., 17940., 39212., 34204.],\n",
       "       [43854., 42398., 37133., 35935., 37954., 31350., 32591., 38469.,\n",
       "        28354., 39994., 29264., 36874., 33564., 30669., 34491., 39826.,\n",
       "        30522., 27052., 34357., 31362., 43484., 41658.],\n",
       "       [35134., 35411., 37076., 27473., 42323., 29723., 30147., 29417.,\n",
       "        29481., 38335., 27216., 33419., 34865., 20837., 36664., 36608.,\n",
       "        24419., 28864., 27547., 20031., 35685., 32266.],\n",
       "       [31246., 33905., 28408., 30314., 29435., 25220., 25481., 35662.,\n",
       "        24796., 25838., 20084., 33550., 30909., 21229., 28756., 33016.,\n",
       "        28457., 28061., 21530., 23536., 32182., 36639.],\n",
       "       [38867., 34398., 34934., 29873., 31613., 27826., 28462., 30281.,\n",
       "        26208., 33598., 22697., 29091., 32250., 22682., 31525., 32977.,\n",
       "        26798., 27734., 27727., 23141., 39393., 34792.],\n",
       "       [32982., 39894., 36681., 32734., 35838., 30052., 26191., 36806.,\n",
       "        24778., 30773., 25664., 37107., 30919., 32313., 35669., 39413.,\n",
       "        30813., 31681., 29733., 26074., 33377., 35245.],\n",
       "       [30280., 25294., 25521., 28705., 25584., 16135., 24004., 24604.,\n",
       "        21785., 26860., 17956., 24792., 24335., 19104., 20264., 28084.,\n",
       "        27010., 20588., 23715., 21690., 29832., 25163.],\n",
       "       [22498., 28349., 23350., 23468., 29880., 21707., 22140., 30629.,\n",
       "        19730., 26406., 16397., 33187., 29469., 15835., 25146., 32067.,\n",
       "        21819., 18792., 18768., 21238., 23015., 28845.],\n",
       "       [31633., 34100., 33787., 29892., 37764., 26631., 26399., 29084.,\n",
       "        26763., 33000., 24711., 29359., 31356., 21834., 33398., 34910.,\n",
       "        27861., 27491., 29321., 20361., 31618., 26385.],\n",
       "       [36474., 36725., 36928., 33517., 32390., 27798., 28216., 34677.,\n",
       "        25979., 35043., 23338., 33056., 34196., 23441., 31282., 34832.,\n",
       "        30649., 27702., 30103., 26338., 37238., 34638.],\n",
       "       [30834., 33862., 29693., 22872., 29015., 26547., 22743., 30665.,\n",
       "        17830., 31463., 21859., 35122., 30727., 24630., 30306., 32997.,\n",
       "        20607., 26006., 23339., 25774., 32563., 30184.],\n",
       "       [35239., 36272., 37944., 36188., 36944., 28145., 32054., 37137.,\n",
       "        29645., 35285., 21488., 39760., 43100., 22275., 35500., 42658.,\n",
       "        35391., 33930., 26666., 28284., 35348., 34724.],\n",
       "       [20875., 22057., 24561., 19933., 24290., 19295., 18056., 19324.,\n",
       "        19453., 20381., 14748., 18208., 22106., 12611., 23572., 22383.,\n",
       "        18808., 20053., 17628., 10875., 20991., 19951.],\n",
       "       [36616., 37230., 39120., 30442., 37015., 24033., 27202., 32211.,\n",
       "        25335., 35556., 25898., 37130., 31744., 28830., 29895., 37384.,\n",
       "        30284., 30006., 30457., 25447., 38440., 32884.],\n",
       "       [33746., 39669., 35491., 29530., 34121., 31544., 26051., 36223.,\n",
       "        23104., 31639., 22062., 36847., 38496., 26948., 37031., 40683.,\n",
       "        28229., 31259., 27345., 27583., 34129., 32496.],\n",
       "       [28692., 29972., 38182., 25894., 30674., 20532., 23683., 24804.,\n",
       "        22588., 32120., 21487., 27322., 27615., 20222., 24575., 28817.,\n",
       "        23996., 21373., 25598., 19192., 28801., 26602.]])"
      ]
     },
     "execution_count": 10,
     "metadata": {},
     "output_type": "execute_result"
    }
   ],
   "source": [
    "from __future__ import division\n",
    "from numba import cuda\n",
    "import numpy\n",
    "import math\n",
    "\n",
    "# complete the code\n",
    "@cuda.jit\n",
    "def matmul(A, B, C):\n",
    "    \"\"\"Perform matrix multiplication of C = A * B\n",
    "    \"\"\"\n",
    "    row, col = cuda.grid(2)\n",
    "    if row < C.shape[0] and col < C.shape[1]:\n",
    "        tmp = 0.\n",
    "        for k in range(A.shape[1]):\n",
    "            tmp += A[row, k] * B[k, col]\n",
    "        C[row, col] = tmp\n",
    "\n",
    "# Initialize the data arrays\n",
    "A = np.random.randint(1,100,(24,12))\n",
    "B = np.random.randint(1,100,(12,22))\n",
    "C = np.zeros((24,22))\n",
    "\n",
    "# Configure the blocks\n",
    "threadsperblock = (12,11)\n",
    "blockspergrid_x = int(math.ceil(C.shape[0] / threadsperblock[0]))\n",
    "blockspergrid_y = int(math.ceil(C.shape[1] / threadsperblock[1]))\n",
    "blockspergrid = (blockspergrid_x, blockspergrid_y)\n",
    "matmul[blockspergrid,threadsperblock](A,B,C)\n",
    "print(C.shape)\n",
    "C\n",
    "\n"
   ]
  },
  {
   "cell_type": "code",
   "execution_count": null,
   "metadata": {},
   "outputs": [],
   "source": []
  }
 ],
 "metadata": {
  "kernelspec": {
   "display_name": "Python 3",
   "language": "python",
   "name": "python3"
  },
  "language_info": {
   "codemirror_mode": {
    "name": "ipython",
    "version": 3
   },
   "file_extension": ".py",
   "mimetype": "text/x-python",
   "name": "python",
   "nbconvert_exporter": "python",
   "pygments_lexer": "ipython3",
   "version": "3.8.5"
  }
 },
 "nbformat": 4,
 "nbformat_minor": 2
}
