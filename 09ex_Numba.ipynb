{
 "cells": [
  {
   "cell_type": "code",
   "execution_count": 1,
   "metadata": {},
   "outputs": [],
   "source": [
    "import os\n",
    "import numpy as np\n",
    "import math\n",
    "os.environ[\"NUMBA_ENABLE_CUDASIM\"] = \"1\"\n",
    "from numba import jit, njit, vectorize, cuda\n",
    "from numba import vectorize, int64, float32\n"
   ]
  },
  {
   "cell_type": "markdown",
   "metadata": {},
   "source": [
    "## Exercise 1\n",
    "\n",
    "Create a vectorized version of log and exp math function for 1D array A = [2, 5, 10, 3, 8]\n",
    "\n",
    "Results should be: \n",
    "+ [0.6931472 1.609438  2.3025851 1.0986123 2.0794415]\n",
    "+ [7.3890562e+00 1.4841316e+02 2.2026465e+04 2.0085537e+01 2.9809580e+03]"
   ]
  },
  {
   "cell_type": "code",
   "execution_count": 2,
   "metadata": {},
   "outputs": [
    {
     "name": "stdout",
     "output_type": "stream",
     "text": [
      "Vectorized version of log:  [0.6931472 1.609438  2.3025851 1.0986123 2.0794415]\n",
      "Vectorized version of exp:  [7.3890562e+00 1.4841316e+02 2.2026465e+04 2.0085537e+01 2.9809580e+03]\n"
     ]
    }
   ],
   "source": [
    "#vectorized version of log\n",
    "@vectorize([float32(float32)], target='parallel', fastmath=True) \n",
    "#to use cuda target must become cuda. Since emulator has a bug we use parallel\n",
    "def vec_log(x):\n",
    "    c =  np.log(x) #ln\n",
    "    return c\n",
    "\n",
    "A=np.array([2, 5, 10, 3, 8], dtype=np.float32)\n",
    "print(\"Vectorized version of log: \",vec_log(A))\n",
    "\n",
    "\n",
    "#vectorized version of exp \n",
    "@vectorize([float32(float32)], target='parallel', fastmath=True) \n",
    "#to use cuda target must become cuda. Since emulator has a bug we use parallel\n",
    "def vec_exp(x):\n",
    "    c =  np.exp(x) \n",
    "    return c\n",
    "\n",
    "print(\"Vectorized version of exp: \",vec_exp(A))\n"
   ]
  },
  {
   "cell_type": "markdown",
   "metadata": {},
   "source": [
    "## Exerice 2\n",
    "Compute the value of a Gaussian probability density function at $x$ with $mean = 1$, $\\sigma = 1$, lower and upper bound in $(-3, 3)$ and $size = 100000$"
   ]
  },
  {
   "cell_type": "code",
   "execution_count": 3,
   "metadata": {},
   "outputs": [
    {
     "data": {
      "text/plain": [
       "array([0.00013383, 0.00013386, 0.00013389, ..., 0.05400392, 0.05399745,\n",
       "       0.05399097])"
      ]
     },
     "execution_count": 3,
     "metadata": {},
     "output_type": "execute_result"
    }
   ],
   "source": [
    "#code ex2\n",
    "from scipy import stats\n",
    "from scipy.stats import truncnorm\n",
    "from numba import jit, int32, float64\n",
    "\n",
    "\n",
    "#WHY WORKS ONLY WITH NOPYTHON??????????????????????????????????????????\n",
    "\n",
    "@jit(nopython=True) #compiler generate code with the highest performance, but all native types of all values in the function can be inferred.\n",
    "def pdf(x, mu, sigma):\n",
    "    return (1/np.sqrt(2*math.pi)*sigma)*np.exp((-1/2)*((x-mu)/(sigma))**2)\n",
    "\n",
    "mu, sigma = 1,1\n",
    "N=100000\n",
    "x_values = np.linspace(-3,3, N).astype(np.float32)\n",
    "pdf(x_values,1,1)\n",
    "\n",
    "\n"
   ]
  },
  {
   "cell_type": "markdown",
   "metadata": {},
   "source": [
    "## Exercise 3\n",
    "\n",
    "Create a \"zero suppression\" function. A common operation when working with waveforms is to force all samples values below a certain absolute magnitude to be zero, as a way to eliminate low amplitude noise. \n",
    "Plot the data before and after the application of the zero_suppress function.\n",
    "\n",
    "$thresold = 15$"
   ]
  },
  {
   "cell_type": "code",
   "execution_count": 4,
   "metadata": {},
   "outputs": [
    {
     "name": "stdout",
     "output_type": "stream",
     "text": [
      "[-1  0  1 ...  5 -6 -4]\n",
      "[-1  0  1 ...  5 -6 -4]\n"
     ]
    },
    {
     "data": {
      "text/plain": [
       "Text(0.5, 1.0, 'Data after zero_suppress function')"
      ]
     },
     "execution_count": 4,
     "metadata": {},
     "output_type": "execute_result"
    },
    {
     "data": {
      "image/png": "[encoded data removed]",
      "text/plain": [
       "<Figure size 720x288 with 2 Axes>"
      ]
     },
     "metadata": {
      "needs_background": "light"
     },
     "output_type": "display_data"
    }
   ],
   "source": [
    "%matplotlib inline\n",
    "from matplotlib import pyplot as plt\n",
    "\n",
    "n = 100000\n",
    "noise = np.random.normal(size=n) * 3\n",
    "pulses = np.maximum(np.sin(np.arange(n) / (n / 23)) - 0.3, 0.0)\n",
    "data = ((pulses * 300) + noise).astype(np.int16)\n",
    "print(data)\n",
    "\n",
    "#Create a \"zero suppression\" function. \n",
    "#force all samples values below a certain absolute magnitude to be zero, to eliminate low amplitude noise. \n",
    "\n",
    "magnitude_max=15 \n",
    "@jit \n",
    "def zero_suppression(magnitude_max,data):\n",
    "        new_data=np.where(data < magnitude_max, data, 0) \n",
    "        return new_data\n",
    "    \n",
    "new_data=zero_suppression(magnitude_max,data)\n",
    "print(new_data)  #NON MI TORNA MOOLTO....-2 dovrebbe venire 0 in new data???????????????\n",
    "\n",
    "\n",
    "#Plot the data before and after the application of the zero_suppress function.\n",
    "f, (ax1,ax2) = plt.subplots(1,2, figsize=(10,4))\n",
    "\n",
    "ax1.plot(data)\n",
    "ax1.set_title(\"Original data\",fontsize=12)\n",
    "\n",
    "ax2.plot(new_data)\n",
    "ax2.set_title(\"Data after zero_suppress function\",fontsize=12)\n",
    "\n",
    "    "
   ]
  },
  {
   "cell_type": "markdown",
   "metadata": {},
   "source": [
    "## Exercise 4\n",
    "\n",
    "Calculate the Sigmoid kernel between the matrix X and Y defined as below. The Sigmoid kernel is defined as:\n",
    "\n",
    "$k(x,y) = \\tanh(\\alpha x^T y + c) $"
   ]
  },
  {
   "cell_type": "code",
   "execution_count": 5,
   "metadata": {},
   "outputs": [
    {
     "name": "stdout",
     "output_type": "stream",
     "text": [
      "[[0.91419549 0.85838129 0.90764831]\n",
      " [0.84333281 0.8109148  0.86671991]\n",
      " [0.80837293 0.86874471 0.82336763]]\n"
     ]
    }
   ],
   "source": [
    "X = np.random.rand(3,3)\n",
    "Y = np.random.rand(3,3)\n",
    "\n",
    "@cuda.jit(device=True)\n",
    "def k(x,y,a,c):\n",
    "    return np.tanh(a*x.T*y+c)\n",
    "\n",
    "print(k(X,Y,1,1))\n",
    "\n",
    "#a,c?????????????????????????????????????????????\n",
    "\n",
    "#usare cuda grid....\n"
   ]
  },
  {
   "cell_type": "markdown",
   "metadata": {},
   "source": [
    "## Exercise 5\n",
    "\n",
    "Create a kernel function similar to the ```double_kernel``` see during the lecture and create a new function that takes a 3 dimensional matrix as input calculating the $cos$ for each element and then returns the result. The shape of the matrix must be $256X256X256$. The matrix can be randomly generated"
   ]
  },
  {
   "cell_type": "code",
   "execution_count": 6,
   "metadata": {},
   "outputs": [
    {
     "name": "stdout",
     "output_type": "stream",
     "text": [
      "[[[0.75335112 0.87600734 0.93374372 ... 0.68991285 0.99816534 0.93612862]\n",
      "  [0.54840608 0.63836469 0.63792591 ... 0.71190033 0.999372   0.67070854]\n",
      "  [0.90540359 0.58097718 0.65955782 ... 0.87973205 0.91646537 0.78613435]\n",
      "  ...\n",
      "  [0.65236999 0.91149064 0.91349195 ... 0.98247872 0.58558211 0.68880075]\n",
      "  [0.79612737 0.97809619 0.92396117 ... 0.91836971 0.6808768  0.99563229]\n",
      "  [0.85117152 0.90756206 0.64027342 ... 0.96756634 0.9929898  0.79676217]]\n",
      "\n",
      " [[0.66804301 0.8439958  0.87537451 ... 0.95750516 0.94916303 0.98857255]\n",
      "  [0.756522   0.91577365 0.77479931 ... 0.68933807 0.91074596 0.99971656]\n",
      "  [0.73999129 0.98675306 0.67793105 ... 0.99814255 0.59662886 0.60289295]\n",
      "  ...\n",
      "  [0.6982952  0.69689215 0.92362269 ... 0.69285843 0.82719204 0.87198919]\n",
      "  [0.94366162 0.80627707 0.54429098 ... 0.64193738 0.7123665  0.92120919]\n",
      "  [0.99902846 0.99999014 0.96654403 ... 0.84433413 0.99942901 0.81114548]]\n",
      "\n",
      " [[0.91151726 0.76020699 0.61463186 ... 0.74186309 0.87448184 0.96777982]\n",
      "  [0.89726652 0.98195908 0.97848273 ... 0.92203494 0.69010538 0.5580595 ]\n",
      "  [0.66846228 0.94540026 0.68424458 ... 0.63674067 0.99939331 0.89084605]\n",
      "  ...\n",
      "  [0.72658906 0.87549635 0.97253182 ... 0.66552537 0.64528219 0.55947539]\n",
      "  [0.81689457 0.95335473 0.74901948 ... 0.99890445 0.87502197 0.97838123]\n",
      "  [0.92437834 0.99585235 0.592869   ... 0.93817217 0.99909646 0.90678731]]\n",
      "\n",
      " ...\n",
      "\n",
      " [[0.98582607 0.54476466 0.71071536 ... 0.99575638 0.96356566 0.90190047]\n",
      "  [0.99920534 0.99248988 0.85296416 ... 0.94183698 0.67055749 0.93482425]\n",
      "  [0.98268263 0.98359132 0.97611571 ... 0.96977738 0.98600658 0.59852042]\n",
      "  ...\n",
      "  [0.94297539 0.96059667 0.90893999 ... 0.99521776 0.96871604 0.73238854]\n",
      "  [0.64679393 0.95130446 0.87516846 ... 0.79141333 0.61540059 0.58889702]\n",
      "  [0.94326359 0.86543954 0.99004495 ... 0.57574179 0.95430592 0.91086109]]\n",
      "\n",
      " [[0.75942967 0.85147672 0.69876254 ... 0.99979672 0.69680577 0.55729875]\n",
      "  [0.96649907 0.79526688 0.99278303 ... 0.90874559 0.68958641 0.68622389]\n",
      "  [0.68129415 0.8812185  0.95876209 ... 0.94881953 0.80967984 0.70958655]\n",
      "  ...\n",
      "  [0.9180873  0.67622079 0.72062643 ... 0.99018868 0.97419602 0.99994058]\n",
      "  [0.99602736 0.58288737 0.94972155 ... 0.86439579 0.91050124 0.54161132]\n",
      "  [0.8715974  0.65947584 0.93343651 ... 0.63743406 0.92135574 0.60672033]]\n",
      "\n",
      " [[0.59057064 0.95910818 0.99997557 ... 0.83192564 0.91771239 0.99995104]\n",
      "  [0.9980523  0.88160215 0.82352639 ... 0.99934942 0.81299412 0.73938115]\n",
      "  [0.96049966 0.87324641 0.91001649 ... 0.70809331 0.59161013 0.99605676]\n",
      "  ...\n",
      "  [0.8752486  0.5969953  0.90993825 ... 0.64131153 0.99499906 0.87494334]\n",
      "  [0.62766573 0.60442629 0.80255378 ... 0.99012527 0.9948509  0.96318473]\n",
      "  [0.9994093  0.99807434 0.98012367 ... 0.82898768 0.82965292 0.91006457]]]\n"
     ]
    }
   ],
   "source": [
    "#code ex5\n",
    "\n",
    "# CUDA kernel\n",
    "@cuda.jit\n",
    "def kernel3D(io_array):\n",
    "    row, col = cuda.grid(2)\n",
    "    io_array[row][col] = np.cos(io_array[row][col]) # do the computation\n",
    "\n",
    "# Host code   \n",
    "data = np.random.random((256,256,256))\n",
    "\n",
    "# Configure the blocks CHE VALORI METTOOOOOOOOOOOO?????????????????????????????\n",
    "threadsperblock = (16,16,1)#ThreadsPerBlock must be a divisor of the data dimension: 1024/ 64 / 16 = 1 \n",
    "blockspergrid_x = int(math.ceil(data.shape[0] / threadsperblock[0]))\n",
    "blockspergrid_y = int(math.ceil(data.shape[1] / threadsperblock[1]))\n",
    "blockspergrid = (blockspergrid_x, blockspergrid_y)\n",
    "\n",
    "#print(\"lla \\n\",data)\n",
    "kernel3D[blockspergrid, threadsperblock](data)\n",
    "print(data)\n"
   ]
  },
  {
   "cell_type": "markdown",
   "metadata": {},
   "source": [
    "## Exercise 6\n",
    "\n",
    "Create a matrix multiplication kernel function, called ```matmul``` that takes as input two 2D matrices:\n",
    "+ A of shape $24x12$\n",
    "+ B of shape $12x22$\n",
    "and that computes the multiplication and put the results into a third matrix C of shape $24x12$\n",
    "\n",
    "A and B must be randomly generated and only int values are allowed.\n"
   ]
  },
  {
   "cell_type": "code",
   "execution_count": 10,
   "metadata": {},
   "outputs": [
    {
     "ename": "IndexError",
     "evalue": "tid=[6, 9, 0] ctaid=[0, 0, 0]: tuple index out of range",
     "output_type": "error",
     "traceback": [
      "\u001b[0;31m---------------------------------------------------------------------------\u001b[0m",
      "\u001b[0;31mIndexError\u001b[0m                                Traceback (most recent call last)",
      "\u001b[0;32m<ipython-input-10-f93353e29225>\u001b[0m in \u001b[0;36m<module>\u001b[0;34m\u001b[0m\n\u001b[1;32m     35\u001b[0m \u001b[0;34m\u001b[0m\u001b[0m\n\u001b[1;32m     36\u001b[0m \u001b[0;31m#kernel\u001b[0m\u001b[0;34m\u001b[0m\u001b[0;34m\u001b[0m\u001b[0;34m\u001b[0m\u001b[0m\n\u001b[0;32m---> 37\u001b[0;31m \u001b[0mmatmul\u001b[0m\u001b[0;34m[\u001b[0m\u001b[0mblockspergrid\u001b[0m\u001b[0;34m,\u001b[0m \u001b[0mthreadsperblock\u001b[0m\u001b[0;34m]\u001b[0m\u001b[0;34m(\u001b[0m\u001b[0mA_device\u001b[0m\u001b[0;34m,\u001b[0m\u001b[0mB_device\u001b[0m\u001b[0;34m,\u001b[0m\u001b[0mC_device\u001b[0m\u001b[0;34m)\u001b[0m\u001b[0;34m\u001b[0m\u001b[0;34m\u001b[0m\u001b[0m\n\u001b[0m\u001b[1;32m     38\u001b[0m \u001b[0mcuda\u001b[0m\u001b[0;34m.\u001b[0m\u001b[0msynchronize\u001b[0m\u001b[0;34m(\u001b[0m\u001b[0;34m)\u001b[0m\u001b[0;34m\u001b[0m\u001b[0;34m\u001b[0m\u001b[0m\n\u001b[1;32m     39\u001b[0m \u001b[0mC\u001b[0m \u001b[0;34m=\u001b[0m \u001b[0mC_device\u001b[0m\u001b[0;34m.\u001b[0m\u001b[0mcopy_to_host\u001b[0m\u001b[0;34m(\u001b[0m\u001b[0;34m)\u001b[0m\u001b[0;34m\u001b[0m\u001b[0;34m\u001b[0m\u001b[0m\n",
      "\u001b[0;32m~/anaconda3/lib/python3.8/site-packages/numba/cuda/simulator/kernel.py\u001b[0m in \u001b[0;36m__call__\u001b[0;34m(self, *args)\u001b[0m\n\u001b[1;32m    104\u001b[0m                 \u001b[0;32mfor\u001b[0m \u001b[0mgrid_point\u001b[0m \u001b[0;32min\u001b[0m \u001b[0mnp\u001b[0m\u001b[0;34m.\u001b[0m\u001b[0mndindex\u001b[0m\u001b[0;34m(\u001b[0m\u001b[0;34m*\u001b[0m\u001b[0mgrid_dim\u001b[0m\u001b[0;34m)\u001b[0m\u001b[0;34m:\u001b[0m\u001b[0;34m\u001b[0m\u001b[0;34m\u001b[0m\u001b[0m\n\u001b[1;32m    105\u001b[0m                     \u001b[0mbm\u001b[0m \u001b[0;34m=\u001b[0m \u001b[0mBlockManager\u001b[0m\u001b[0;34m(\u001b[0m\u001b[0mself\u001b[0m\u001b[0;34m.\u001b[0m\u001b[0mfn\u001b[0m\u001b[0;34m,\u001b[0m \u001b[0mgrid_dim\u001b[0m\u001b[0;34m,\u001b[0m \u001b[0mblock_dim\u001b[0m\u001b[0;34m)\u001b[0m\u001b[0;34m\u001b[0m\u001b[0;34m\u001b[0m\u001b[0m\n\u001b[0;32m--> 106\u001b[0;31m                     \u001b[0mbm\u001b[0m\u001b[0;34m.\u001b[0m\u001b[0mrun\u001b[0m\u001b[0;34m(\u001b[0m\u001b[0mgrid_point\u001b[0m\u001b[0;34m,\u001b[0m \u001b[0;34m*\u001b[0m\u001b[0mfake_args\u001b[0m\u001b[0;34m)\u001b[0m\u001b[0;34m\u001b[0m\u001b[0;34m\u001b[0m\u001b[0m\n\u001b[0m\u001b[1;32m    107\u001b[0m \u001b[0;34m\u001b[0m\u001b[0m\n\u001b[1;32m    108\u001b[0m             \u001b[0;32mfor\u001b[0m \u001b[0mwb\u001b[0m \u001b[0;32min\u001b[0m \u001b[0mretr\u001b[0m\u001b[0;34m:\u001b[0m\u001b[0;34m\u001b[0m\u001b[0;34m\u001b[0m\u001b[0m\n",
      "\u001b[0;32m~/anaconda3/lib/python3.8/site-packages/numba/cuda/simulator/kernel.py\u001b[0m in \u001b[0;36mrun\u001b[0;34m(self, grid_point, *args)\u001b[0m\n\u001b[1;32m    269\u001b[0m                         \u001b[0mt_other\u001b[0m\u001b[0;34m.\u001b[0m\u001b[0msyncthreads_event\u001b[0m\u001b[0;34m.\u001b[0m\u001b[0mset\u001b[0m\u001b[0;34m(\u001b[0m\u001b[0;34m)\u001b[0m\u001b[0;34m\u001b[0m\u001b[0;34m\u001b[0m\u001b[0m\n\u001b[1;32m    270\u001b[0m \u001b[0;34m\u001b[0m\u001b[0m\n\u001b[0;32m--> 271\u001b[0;31m                     \u001b[0mreraise\u001b[0m\u001b[0;34m(\u001b[0m\u001b[0;34m*\u001b[0m\u001b[0;34m(\u001b[0m\u001b[0mt\u001b[0m\u001b[0;34m.\u001b[0m\u001b[0mexception\u001b[0m\u001b[0;34m)\u001b[0m\u001b[0;34m)\u001b[0m\u001b[0;34m\u001b[0m\u001b[0;34m\u001b[0m\u001b[0m\n\u001b[0m\u001b[1;32m    272\u001b[0m             \u001b[0;32mif\u001b[0m \u001b[0mlivethreads\u001b[0m \u001b[0;34m==\u001b[0m \u001b[0mblockedthreads\u001b[0m\u001b[0;34m:\u001b[0m\u001b[0;34m\u001b[0m\u001b[0;34m\u001b[0m\u001b[0m\n\u001b[1;32m    273\u001b[0m                 \u001b[0;32mfor\u001b[0m \u001b[0mt\u001b[0m \u001b[0;32min\u001b[0m \u001b[0mblockedthreads\u001b[0m\u001b[0;34m:\u001b[0m\u001b[0;34m\u001b[0m\u001b[0;34m\u001b[0m\u001b[0m\n",
      "\u001b[0;32m~/anaconda3/lib/python3.8/site-packages/numba/core/utils.py\u001b[0m in \u001b[0;36mreraise\u001b[0;34m(tp, value, tb)\u001b[0m\n\u001b[1;32m     78\u001b[0m         \u001b[0mvalue\u001b[0m \u001b[0;34m=\u001b[0m \u001b[0mtp\u001b[0m\u001b[0;34m(\u001b[0m\u001b[0;34m)\u001b[0m\u001b[0;34m\u001b[0m\u001b[0;34m\u001b[0m\u001b[0m\n\u001b[1;32m     79\u001b[0m     \u001b[0;32mif\u001b[0m \u001b[0mvalue\u001b[0m\u001b[0;34m.\u001b[0m\u001b[0m__traceback__\u001b[0m \u001b[0;32mis\u001b[0m \u001b[0;32mnot\u001b[0m \u001b[0mtb\u001b[0m\u001b[0;34m:\u001b[0m\u001b[0;34m\u001b[0m\u001b[0;34m\u001b[0m\u001b[0m\n\u001b[0;32m---> 80\u001b[0;31m         \u001b[0;32mraise\u001b[0m \u001b[0mvalue\u001b[0m\u001b[0;34m.\u001b[0m\u001b[0mwith_traceback\u001b[0m\u001b[0;34m(\u001b[0m\u001b[0mtb\u001b[0m\u001b[0;34m)\u001b[0m\u001b[0;34m\u001b[0m\u001b[0;34m\u001b[0m\u001b[0m\n\u001b[0m\u001b[1;32m     81\u001b[0m     \u001b[0;32mraise\u001b[0m \u001b[0mvalue\u001b[0m\u001b[0;34m\u001b[0m\u001b[0;34m\u001b[0m\u001b[0m\n\u001b[1;32m     82\u001b[0m \u001b[0;34m\u001b[0m\u001b[0m\n",
      "\u001b[0;32m~/anaconda3/lib/python3.8/site-packages/numba/cuda/simulator/kernel.py\u001b[0m in \u001b[0;36mrun\u001b[0;34m(self)\u001b[0m\n\u001b[1;32m    168\u001b[0m     \u001b[0;32mdef\u001b[0m \u001b[0mrun\u001b[0m\u001b[0;34m(\u001b[0m\u001b[0mself\u001b[0m\u001b[0;34m)\u001b[0m\u001b[0;34m:\u001b[0m\u001b[0;34m\u001b[0m\u001b[0;34m\u001b[0m\u001b[0m\n\u001b[1;32m    169\u001b[0m         \u001b[0;32mtry\u001b[0m\u001b[0;34m:\u001b[0m\u001b[0;34m\u001b[0m\u001b[0;34m\u001b[0m\u001b[0m\n\u001b[0;32m--> 170\u001b[0;31m             \u001b[0msuper\u001b[0m\u001b[0;34m(\u001b[0m\u001b[0mBlockThread\u001b[0m\u001b[0;34m,\u001b[0m \u001b[0mself\u001b[0m\u001b[0;34m)\u001b[0m\u001b[0;34m.\u001b[0m\u001b[0mrun\u001b[0m\u001b[0;34m(\u001b[0m\u001b[0;34m)\u001b[0m\u001b[0;34m\u001b[0m\u001b[0;34m\u001b[0m\u001b[0m\n\u001b[0m\u001b[1;32m    171\u001b[0m         \u001b[0;32mexcept\u001b[0m \u001b[0mException\u001b[0m \u001b[0;32mas\u001b[0m \u001b[0me\u001b[0m\u001b[0;34m:\u001b[0m\u001b[0;34m\u001b[0m\u001b[0;34m\u001b[0m\u001b[0m\n\u001b[1;32m    172\u001b[0m             \u001b[0mtid\u001b[0m \u001b[0;34m=\u001b[0m \u001b[0;34m'tid=%s'\u001b[0m \u001b[0;34m%\u001b[0m \u001b[0mlist\u001b[0m\u001b[0;34m(\u001b[0m\u001b[0mself\u001b[0m\u001b[0;34m.\u001b[0m\u001b[0mthreadIdx\u001b[0m\u001b[0;34m)\u001b[0m\u001b[0;34m\u001b[0m\u001b[0;34m\u001b[0m\u001b[0m\n",
      "\u001b[0;32m~/anaconda3/lib/python3.8/threading.py\u001b[0m in \u001b[0;36mrun\u001b[0;34m(self)\u001b[0m\n\u001b[1;32m    868\u001b[0m         \u001b[0;32mtry\u001b[0m\u001b[0;34m:\u001b[0m\u001b[0;34m\u001b[0m\u001b[0;34m\u001b[0m\u001b[0m\n\u001b[1;32m    869\u001b[0m             \u001b[0;32mif\u001b[0m \u001b[0mself\u001b[0m\u001b[0;34m.\u001b[0m\u001b[0m_target\u001b[0m\u001b[0;34m:\u001b[0m\u001b[0;34m\u001b[0m\u001b[0;34m\u001b[0m\u001b[0m\n\u001b[0;32m--> 870\u001b[0;31m                 \u001b[0mself\u001b[0m\u001b[0;34m.\u001b[0m\u001b[0m_target\u001b[0m\u001b[0;34m(\u001b[0m\u001b[0;34m*\u001b[0m\u001b[0mself\u001b[0m\u001b[0;34m.\u001b[0m\u001b[0m_args\u001b[0m\u001b[0;34m,\u001b[0m \u001b[0;34m**\u001b[0m\u001b[0mself\u001b[0m\u001b[0;34m.\u001b[0m\u001b[0m_kwargs\u001b[0m\u001b[0;34m)\u001b[0m\u001b[0;34m\u001b[0m\u001b[0;34m\u001b[0m\u001b[0m\n\u001b[0m\u001b[1;32m    871\u001b[0m         \u001b[0;32mfinally\u001b[0m\u001b[0;34m:\u001b[0m\u001b[0;34m\u001b[0m\u001b[0;34m\u001b[0m\u001b[0m\n\u001b[1;32m    872\u001b[0m             \u001b[0;31m# Avoid a refcycle if the thread is running a function with\u001b[0m\u001b[0;34m\u001b[0m\u001b[0;34m\u001b[0m\u001b[0;34m\u001b[0m\u001b[0m\n",
      "\u001b[0;32m~/anaconda3/lib/python3.8/site-packages/numba/cuda/simulator/kernel.py\u001b[0m in \u001b[0;36mtarget\u001b[0;34m()\u001b[0m\n\u001b[1;32m    247\u001b[0m         \u001b[0;32mfor\u001b[0m \u001b[0mblock_point\u001b[0m \u001b[0;32min\u001b[0m \u001b[0mnp\u001b[0m\u001b[0;34m.\u001b[0m\u001b[0mndindex\u001b[0m\u001b[0;34m(\u001b[0m\u001b[0;34m*\u001b[0m\u001b[0mself\u001b[0m\u001b[0;34m.\u001b[0m\u001b[0m_block_dim\u001b[0m\u001b[0;34m)\u001b[0m\u001b[0;34m:\u001b[0m\u001b[0;34m\u001b[0m\u001b[0;34m\u001b[0m\u001b[0m\n\u001b[1;32m    248\u001b[0m             \u001b[0;32mdef\u001b[0m \u001b[0mtarget\u001b[0m\u001b[0;34m(\u001b[0m\u001b[0;34m)\u001b[0m\u001b[0;34m:\u001b[0m\u001b[0;34m\u001b[0m\u001b[0;34m\u001b[0m\u001b[0m\n\u001b[0;32m--> 249\u001b[0;31m                 \u001b[0mself\u001b[0m\u001b[0;34m.\u001b[0m\u001b[0m_f\u001b[0m\u001b[0;34m(\u001b[0m\u001b[0;34m*\u001b[0m\u001b[0margs\u001b[0m\u001b[0;34m)\u001b[0m\u001b[0;34m\u001b[0m\u001b[0;34m\u001b[0m\u001b[0m\n\u001b[0m\u001b[1;32m    250\u001b[0m             \u001b[0mt\u001b[0m \u001b[0;34m=\u001b[0m \u001b[0mBlockThread\u001b[0m\u001b[0;34m(\u001b[0m\u001b[0mtarget\u001b[0m\u001b[0;34m,\u001b[0m \u001b[0mself\u001b[0m\u001b[0;34m,\u001b[0m \u001b[0mgrid_point\u001b[0m\u001b[0;34m,\u001b[0m \u001b[0mblock_point\u001b[0m\u001b[0;34m)\u001b[0m\u001b[0;34m\u001b[0m\u001b[0;34m\u001b[0m\u001b[0m\n\u001b[1;32m    251\u001b[0m             \u001b[0mt\u001b[0m\u001b[0;34m.\u001b[0m\u001b[0mstart\u001b[0m\u001b[0;34m(\u001b[0m\u001b[0;34m)\u001b[0m\u001b[0;34m\u001b[0m\u001b[0;34m\u001b[0m\u001b[0m\n",
      "\u001b[0;32m<ipython-input-10-f93353e29225>\u001b[0m in \u001b[0;36mmatmul\u001b[0;34m(A, B, C)\u001b[0m\n\u001b[1;32m     12\u001b[0m     \u001b[0;32mif\u001b[0m \u001b[0mrow\u001b[0m \u001b[0;34m<\u001b[0m \u001b[0mC\u001b[0m\u001b[0;34m.\u001b[0m\u001b[0mshape\u001b[0m\u001b[0;34m[\u001b[0m\u001b[0;36m0\u001b[0m\u001b[0;34m]\u001b[0m \u001b[0;32mand\u001b[0m \u001b[0mcol\u001b[0m \u001b[0;34m<\u001b[0m \u001b[0mC\u001b[0m\u001b[0;34m.\u001b[0m\u001b[0mshape\u001b[0m\u001b[0;34m[\u001b[0m\u001b[0;36m1\u001b[0m\u001b[0;34m]\u001b[0m\u001b[0;34m:\u001b[0m\u001b[0;34m\u001b[0m\u001b[0;34m\u001b[0m\u001b[0m\n\u001b[1;32m     13\u001b[0m         \u001b[0mtmp\u001b[0m \u001b[0;34m=\u001b[0m \u001b[0;36m0.\u001b[0m\u001b[0;34m\u001b[0m\u001b[0;34m\u001b[0m\u001b[0m\n\u001b[0;32m---> 14\u001b[0;31m         \u001b[0;32mfor\u001b[0m \u001b[0mk\u001b[0m \u001b[0;32min\u001b[0m \u001b[0mrange\u001b[0m\u001b[0;34m(\u001b[0m\u001b[0mA\u001b[0m\u001b[0;34m.\u001b[0m\u001b[0mshape\u001b[0m\u001b[0;34m[\u001b[0m\u001b[0;36m1\u001b[0m\u001b[0;34m]\u001b[0m\u001b[0;34m)\u001b[0m\u001b[0;34m:\u001b[0m\u001b[0;34m\u001b[0m\u001b[0;34m\u001b[0m\u001b[0m\n\u001b[0m\u001b[1;32m     15\u001b[0m             \u001b[0mtmp\u001b[0m \u001b[0;34m+=\u001b[0m \u001b[0mA\u001b[0m\u001b[0;34m[\u001b[0m\u001b[0mrow\u001b[0m\u001b[0;34m,\u001b[0m \u001b[0mk\u001b[0m\u001b[0;34m]\u001b[0m \u001b[0;34m*\u001b[0m \u001b[0mB\u001b[0m\u001b[0;34m[\u001b[0m\u001b[0mk\u001b[0m\u001b[0;34m,\u001b[0m \u001b[0mcol\u001b[0m\u001b[0;34m]\u001b[0m\u001b[0;34m\u001b[0m\u001b[0;34m\u001b[0m\u001b[0m\n\u001b[1;32m     16\u001b[0m         \u001b[0mC\u001b[0m\u001b[0;34m[\u001b[0m\u001b[0mrow\u001b[0m\u001b[0;34m,\u001b[0m \u001b[0mcol\u001b[0m\u001b[0;34m]\u001b[0m \u001b[0;34m=\u001b[0m \u001b[0mtmp\u001b[0m\u001b[0;34m\u001b[0m\u001b[0;34m\u001b[0m\u001b[0m\n",
      "\u001b[0;31mIndexError\u001b[0m: tid=[6, 9, 0] ctaid=[0, 0, 0]: tuple index out of range"
     ]
    }
   ],
   "source": [
    "from __future__ import division\n",
    "from numba import cuda\n",
    "import numpy\n",
    "import math\n",
    "\n",
    "# complete the code\n",
    "@cuda.jit\n",
    "def matmul(A, B, C):\n",
    "    \"\"\"Perform matrix multiplication of C = A * B\n",
    "    \"\"\"\n",
    "    row, col = cuda.grid(2)\n",
    "    if row < C.shape[0] and col < C.shape[1]:\n",
    "        tmp = 0.\n",
    "        for k in range(A.shape[1]):\n",
    "            tmp += A[row, k] * B[k, col]\n",
    "        C[row, col] = tmp\n",
    "\n",
    "# Initialize the data arrays\n",
    "A = np.random.randint((24,12))\n",
    "B = np.random.randint((12,22))   \n",
    "A_device = cuda.to_device(A)\n",
    "B_device = cuda.to_device(B)\n",
    "\n",
    "# Allocate memory for the result\n",
    "C_device = cuda.device_array((24, 22))\n",
    "\n",
    "cuda.synchronize()\n",
    "\n",
    "#me #NUMERI??????\n",
    "# Configure the blocks\n",
    "threadsperblock = (12,11)#ThreadsPerBlock must be a divisor of the data dimension: 1024/ 64 / 16 = 1 \n",
    "blockspergrid_x = int(math.ceil(data.shape[0] / threadsperblock[0]))\n",
    "blockspergrid_y = int(math.ceil(data.shape[1] / threadsperblock[1]))\n",
    "blockspergrid = (blockspergrid_x, blockspergrid_y)\n",
    "\n",
    "#kernel \n",
    "matmul[blockspergrid, threadsperblock](A_device,B_device,C_device)\n",
    "cuda.synchronize()\n",
    "C = C_device.copy_to_host()\n",
    "\n",
    "print(C)\n",
    "#WHAT I AM DOING?"
   ]
  },
  {
   "cell_type": "code",
   "execution_count": null,
   "metadata": {},
   "outputs": [],
   "source": []
  }
 ],
 "metadata": {
  "kernelspec": {
   "display_name": "Python 3",
   "language": "python",
   "name": "python3"
  },
  "language_info": {
   "codemirror_mode": {
    "name": "ipython",
    "version": 3
   },
   "file_extension": ".py",
   "mimetype": "text/x-python",
   "name": "python",
   "nbconvert_exporter": "python",
   "pygments_lexer": "ipython3",
   "version": "3.8.3"
  }
 },
 "nbformat": 4,
 "nbformat_minor": 2
}
