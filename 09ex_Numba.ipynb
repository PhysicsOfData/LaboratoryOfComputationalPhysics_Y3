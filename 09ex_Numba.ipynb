{
  "nbformat": 4,
  "nbformat_minor": 0,
  "metadata": {
    "colab": {
      "name": "new 3.ipynb",
      "provenance": []
    },
    "kernelspec": {
      "display_name": "Python 3",
      "language": "python",
      "name": "python3"
    },
    "language_info": {
      "codemirror_mode": {
        "name": "ipython",
        "version": 3
      },
      "file_extension": ".py",
      "mimetype": "text/x-python",
      "name": "python",
      "nbconvert_exporter": "python",
      "pygments_lexer": "ipython3",
      "version": "3.8.5"
    }
  },
  "cells": [
    {
      "cell_type": "code",
      "metadata": {
        "id": "lIJ5YQdp8cmS"
      },
      "source": [
        "import os\n",
        "import numpy as np\n",
        "import math\n",
        "os.environ[\"NUMBA_ENABLE_CUDASIM\"] = \"1\"\n",
        "from numba import jit, njit, vectorize, cuda\n",
        "from numba import vectorize, int64, float64"
      ],
      "execution_count": 5,
      "outputs": []
    },
    {
      "cell_type": "markdown",
      "metadata": {
        "id": "j16OUNgf8cma"
      },
      "source": [
        "## Exercise 1\n",
        "\n",
        "Create a vectorized version of log and exp math function for 1D array A = [2, 5, 10, 3, 8]\n",
        "\n",
        "Results should be: \n",
        "+ [0.6931472 1.609438  2.3025851 1.0986123 2.0794415]\n",
        "+ [7.3890562e+00 1.4841316e+02 2.2026465e+04 2.0085537e+01 2.9809580e+03]"
      ]
    },
    {
      "cell_type": "code",
      "metadata": {
        "colab": {
          "base_uri": "https://localhost:8080/"
        },
        "id": "oIIZznlv8cmb",
        "scrolled": false,
        "outputId": "eae5f3c7-49a8-4142-b714-479d2e2a8a99"
      },
      "source": [
        "@vectorize([float64(float64)], target='parallel', fastmath=True) \n",
        "def vec_log(x):\n",
        "    c =  np.log(x)\n",
        "    return c\n",
        "\n",
        "@vectorize([float64(float64)], target='parallel', fastmath=True) \n",
        "def vec_exp(x):\n",
        "    c =  np.exp(x)\n",
        "    return c\n",
        "\n",
        "A = np.array([2, 5, 10, 3, 8])\n",
        "\n",
        "logA = vec_log(A)\n",
        "expA = vec_exp(A)\n",
        "\n",
        "print(logA)\n",
        "print(expA)"
      ],
      "execution_count": 6,
      "outputs": [
        {
          "output_type": "stream",
          "text": [
            "[0.69314718 1.60943791 2.30258509 1.09861229 2.07944154]\n",
            "[7.38905610e+00 1.48413159e+02 2.20264658e+04 2.00855369e+01\n",
            " 2.98095799e+03]\n"
          ],
          "name": "stdout"
        }
      ]
    },
    {
      "cell_type": "markdown",
      "metadata": {
        "id": "gH4PIrOL8cmd"
      },
      "source": [
        "## Exerice 2\n",
        "Compute the value of a Gaussian probability density function at $x$ with $mean = 1$, $\\sigma = 1$, lower and upper bound in $(-3, 3)$ and $size = 100000$"
      ]
    },
    {
      "cell_type": "code",
      "metadata": {
        "id": "-QCa4HmkslJk"
      },
      "source": [
        ""
      ],
      "execution_count": 6,
      "outputs": []
    },
    {
      "cell_type": "markdown",
      "metadata": {
        "id": "Zod1J5PU8cme"
      },
      "source": [
        "## Exercise 3\n",
        "\n",
        "Create a \"zero suppression\" function. A common operation when working with waveforms is to force all samples values below a certain absolute magnitude to be zero, as a way to eliminate low amplitude noise. \n",
        "Plot the data before and after the application of the zero_suppress function.\n",
        "\n",
        "$thresold = 15$"
      ]
    },
    {
      "cell_type": "code",
      "metadata": {
        "colab": {
          "base_uri": "https://localhost:8080/",
          "height": 320
        },
        "id": "fekWdAFG8cmf",
        "outputId": "e3725789-768a-411b-b809-112ef5dc9d17"
      },
      "source": [
        "%matplotlib inline\n",
        "from matplotlib import pyplot as plt\n",
        "\n",
        "threshold = 15\n",
        "n = 10**5\n",
        "noise = np.random.normal(size=n) * 3\n",
        "pulses = np.maximum(np.sin(np.arange(n) / (n / 23)) - 0.3, 0.0)\n",
        "data = ((pulses * 300) + noise).astype(np.int16)\n",
        "\n",
        "data_suppressed = np.copy(data)\n",
        "\n",
        "\n",
        "@cuda.jit\n",
        "def zero_suppression(array, array2, magnitude):\n",
        "    pos = cuda.grid(1)\n",
        "    if pos < array.size:\n",
        "        if array[pos] < magnitude: \n",
        "          array2[pos] = 0\n",
        "\n",
        "\n",
        "# Set the number of threads in a block\n",
        "threadsperblock = 32 \n",
        "\n",
        "# Calculate the number of thread blocks in the grid\n",
        "blockspergrid = (data.size + (threadsperblock - 1)) // threadsperblock\n",
        "\n",
        "# Now start the kernel\n",
        "zero_suppression[blockspergrid, threadsperblock](data, data_suppressed ,threshold)\n",
        "\n",
        "fig, ax = plt.subplots(1,2, figsize=(15,5))\n",
        "ax[0].plot(data, label=\"Original Data\", color='r')\n",
        "ax[1].plot(data_suppressed, label=\"Suppressed Data\")\n",
        "ax[0].legend()\n",
        "ax[1].legend()\n",
        "plt.show()"
      ],
      "execution_count": 7,
      "outputs": [
        {
          "output_type": "display_data",
          "data": {
            "image/png": "[encoded data removed]",
            "text/plain": [
              "<Figure size 1080x360 with 2 Axes>"
            ]
          },
          "metadata": {
            "tags": [],
            "needs_background": "light"
          }
        }
      ]
    },
    {
      "cell_type": "markdown",
      "metadata": {
        "id": "gE0ajX6X8cmg"
      },
      "source": [
        "## Exercise 4\n",
        "\n",
        "Calculate the Sigmoid kernel between the matrix X and Y defined as below. The Sigmoid kernel is defined as:\n",
        "\n",
        "$k(x,y) = \\tanh(\\alpha x^T y + c) $"
      ]
    },
    {
      "cell_type": "code",
      "metadata": {
        "colab": {
          "base_uri": "https://localhost:8080/"
        },
        "id": "LB1dkZM58cmg",
        "outputId": "e4a08b0c-94b8-4601-e6b6-682e3702da7c"
      },
      "source": [
        "x = np.random.rand(3,3)\n",
        "y = np.random.rand(3,3)\n",
        "a=0.3\n",
        "c=0.1\n",
        "\n",
        "# CUDA kernel\n",
        "@cuda.jit\n",
        "def sigmoid_kernel(array_out, x, y, a, c):\n",
        "    row, column = cuda.grid(2)\n",
        "    \n",
        "    if row < array_out.shape[0] and column < array_out.shape[1]:\n",
        "        array_out[row][column] = np.tanh(a*np.dot(x[row],y[column])+c)\n",
        "\n",
        "array_out = np.zeros((len(x), len(y)))\n",
        "\n",
        "# Configure the blocks\n",
        "threadsperblock = (64, 16) \n",
        "blockspergrid_x = int(math.ceil(array_out.shape[0] / threadsperblock[0]))\n",
        "blockspergrid_y = int(math.ceil(array_out.shape[1] / threadsperblock[1]))\n",
        "blockspergrid = (blockspergrid_x, blockspergrid_y)\n",
        "\n",
        "sigmoid_kernel[blockspergrid, threadsperblock](array_out, x, y, a, c)\n",
        "print(array_out)"
      ],
      "execution_count": 8,
      "outputs": [
        {
          "output_type": "stream",
          "text": [
            "[[0.22408671 0.33611613 0.15777424]\n",
            " [0.16555752 0.18887329 0.12032271]\n",
            " [0.23898454 0.38320553 0.17348636]]\n"
          ],
          "name": "stdout"
        }
      ]
    },
    {
      "cell_type": "markdown",
      "metadata": {
        "id": "RbKilnMK8cmg"
      },
      "source": [
        "## Exercise 5\n",
        "\n",
        "Create a kernel function similar to the ```double_kernel``` see during the lecture and create a new function that takes a 3 dimensional matrix as input calculating the $cos$ for each element and then returns the result. The shape of the matrix must be $256X256X256$. The matrix can be randomly generated"
      ]
    },
    {
      "cell_type": "code",
      "metadata": {
        "colab": {
          "base_uri": "https://localhost:8080/"
        },
        "id": "k7PRrwFK8cmh",
        "outputId": "eb9cf20f-1a4f-4aae-b1ae-5232a7422b8e"
      },
      "source": [
        "matrix = np.random.rand(256,256,256) * np.pi\n",
        "\n",
        "@cuda.jit\n",
        "def cos_matrix(io_array):\n",
        "    x, y, z = cuda.grid(3)\n",
        "        \n",
        "    if x < io_array.shape[0] and y < io_array.shape[1] and z < io_array.shape[2]:\n",
        "        io_array[x][y][z] = np.cos(io_array[x][y][z])\n",
        "        \n",
        "        \n",
        "\n",
        "cos_matrix[blockspergrid, threadsperblock](matrix)\n",
        "\n",
        "print(matrix) "
      ],
      "execution_count": 10,
      "outputs": [
        {
          "output_type": "stream",
          "text": [
            "[[[ 0.99438568  2.71961307  1.29213739 ...  0.68665273  2.26038447\n",
            "    0.5391889 ]\n",
            "  [-0.16547779  0.52540088  2.06466071 ...  2.20984752  0.78510296\n",
            "    2.16284306]\n",
            "  [ 0.99510988  3.12936309  2.92338161 ...  0.89480698  2.17335231\n",
            "    0.03661276]\n",
            "  ...\n",
            "  [ 0.81203972  1.39593195  2.97389307 ...  2.98682909  0.17412571\n",
            "    1.65616198]\n",
            "  [ 2.41322081  1.58606739  0.56090904 ...  0.70746825  1.67069151\n",
            "    2.12015309]\n",
            "  [ 2.21937347  2.06934681  0.38888781 ...  1.96053391  0.19108303\n",
            "    2.42627016]]\n",
            "\n",
            " [[-0.94785703  0.96822259  0.48307617 ...  1.83617941  3.02348418\n",
            "    2.84332907]\n",
            "  [ 0.74691624  2.71601302  1.33434888 ...  1.42466535  0.99347036\n",
            "    2.18960768]\n",
            "  [-0.08765599  0.60574124  0.70557148 ...  1.09103341  1.71547078\n",
            "    0.42221312]\n",
            "  ...\n",
            "  [ 2.20803898  0.5810812   1.55441063 ...  1.41335429  2.4353761\n",
            "    0.28603209]\n",
            "  [ 0.53522932  1.9156999   0.87666537 ...  3.12507419  2.16694626\n",
            "    1.98955001]\n",
            "  [ 2.80876439  0.14085295  1.93635323 ...  2.22443611  0.01873996\n",
            "    0.8822356 ]]\n",
            "\n",
            " [[-0.99727459  1.01125762  2.31346147 ...  2.73469013  0.86470681\n",
            "    2.16720632]\n",
            "  [-0.9992666   2.30708601  0.34660112 ...  0.39844045  2.00083832\n",
            "    2.79246445]\n",
            "  [ 0.17643022  0.79770605  0.43440061 ...  0.07086636  0.99635334\n",
            "    2.97538222]\n",
            "  ...\n",
            "  [ 1.2268285   2.94263194  0.37139877 ...  3.03342492  1.41206259\n",
            "    1.36685093]\n",
            "  [ 1.36934568  0.30871922  2.26538154 ...  2.97320158  0.5185818\n",
            "    2.43639559]\n",
            "  [ 0.48679443  1.94445645  2.74552397 ...  1.56907661  1.69924721\n",
            "    2.33605704]]\n",
            "\n",
            " ...\n",
            "\n",
            " [[ 2.96616237  2.38639587  1.32786369 ...  2.64966502  1.2283485\n",
            "    1.34233542]\n",
            "  [ 2.47457728  2.09097821  1.47114737 ...  0.37498447  1.65569483\n",
            "    0.02201579]\n",
            "  [ 0.59953218  0.02460235  0.41455519 ...  2.21106404  2.40650243\n",
            "    1.84060306]\n",
            "  ...\n",
            "  [ 1.75297157  0.47371799  1.38740816 ...  0.63882556  3.07609201\n",
            "    2.43829694]\n",
            "  [ 1.35187321  2.42089157  0.79798737 ...  2.65415958  2.10033829\n",
            "    1.68375558]\n",
            "  [ 2.33562765  0.31537021  2.18038345 ...  0.04554427  1.71309904\n",
            "    2.41182661]]\n",
            "\n",
            " [[ 2.82806754  0.60380937  0.71620756 ...  2.05258306  2.44773956\n",
            "    1.90190392]\n",
            "  [ 2.08533223  1.81475783  0.83236735 ...  0.29750171  3.02793172\n",
            "    1.79520277]\n",
            "  [ 0.72870231  2.55735334  0.97085852 ...  0.35358196  1.64383192\n",
            "    0.70495107]\n",
            "  ...\n",
            "  [ 1.58788372  2.77862462  2.85295926 ...  2.1259835   1.9122292\n",
            "    1.39097019]\n",
            "  [ 2.86425919  1.4428143   0.74514675 ...  2.92671596  1.07726424\n",
            "    2.20858648]\n",
            "  [ 0.60142178  2.44983901  0.5431162  ...  1.20493224  2.43365181\n",
            "    1.33618509]]\n",
            "\n",
            " [[ 0.11145432  1.54328662  0.20470233 ...  3.01293318  1.46007265\n",
            "    1.11026744]\n",
            "  [ 1.25090356  1.88056974  1.00818054 ...  2.72278555  2.10181479\n",
            "    2.12017663]\n",
            "  [ 2.10889259  2.37311271  1.6889411  ...  0.32689093  1.81302041\n",
            "    1.79798649]\n",
            "  ...\n",
            "  [ 1.13170691  1.5969021   2.87825987 ...  2.74685651  1.4872707\n",
            "    0.11786272]\n",
            "  [ 2.30284289  1.9608955   1.58479406 ...  0.46224383  0.93257606\n",
            "    1.66137369]\n",
            "  [ 0.21745892  1.83576125  1.03535581 ...  0.05985179  1.01164685\n",
            "    0.03510566]]]\n"
          ],
          "name": "stdout"
        }
      ]
    },
    {
      "cell_type": "markdown",
      "metadata": {
        "id": "rwVe807X8cmh"
      },
      "source": [
        "## Exercise 6\n",
        "\n",
        "Create a matrix multiplication kernel function, called ```matmul``` that takes as input two 2D matrices:\n",
        "+ A of shape $24x12$\n",
        "+ B of shape $12x22$\n",
        "and that computes the multiplication and put the results into a third matrix C of shape $24x12$\n",
        "\n",
        "A and B must be randomly generated and only int values are allowed.\n"
      ]
    },
    {
      "cell_type": "code",
      "metadata": {
        "colab": {
          "base_uri": "https://localhost:8080/"
        },
        "id": "1Ub4r0Sj8cmh",
        "scrolled": false,
        "outputId": "ae35b1a0-73a2-4898-f876-79bdf1f7824d"
      },
      "source": [
        "from __future__ import division\n",
        "from numba import cuda\n",
        "import numpy\n",
        "import math\n",
        "\n",
        "\n",
        "# complete the code\n",
        "@cuda.jit\n",
        "def matmul(A, B, C):\n",
        "    \"\"\"Perform matrix multiplication of C = A * B\n",
        "    \"\"\"\n",
        "    row, col = cuda.grid(2)\n",
        "    if row < C.shape[0] and col < C.shape[1]:\n",
        "        tmp = 0.\n",
        "        for k in range(A.shape[1]):\n",
        "            tmp += A[row, k] * B[k, col]\n",
        "        C[row, col] = tmp\n",
        "\n",
        "# Initialize the data arrays\n",
        "A = np.random.randint(50, size=(24, 12))\n",
        "B = np.random.randint(50, size=(12, 22))\n",
        "C = np.zeros((24,22))\n",
        "\n",
        "# Configure the blocks\n",
        "threadsperblock = (64, 16)\n",
        "blockspergrid_x = int(math.ceil(A.shape[0] / threadsperblock[0]))\n",
        "blockspergrid_y = int(math.ceil(B.shape[1] / threadsperblock[1]))\n",
        "blockspergrid = (blockspergrid_x, blockspergrid_y)\n",
        "\n",
        "matmul[blockspergrid, threadsperblock](A, B, C)\n",
        "\n",
        "\n",
        "print(C)"
      ],
      "execution_count": 11,
      "outputs": [
        {
          "output_type": "stream",
          "text": [
            "[[ 6628.  6846.  6867.  6526.  7414.  5946.  5800.  7931.  5989.  4050.\n",
            "   6323.  5806.  6381.  4614.  7430.  5515.  6064.  5334.  5994.  6973.\n",
            "   9538.  7453.]\n",
            " [ 6593.  5719.  6152.  6903.  5538.  5770.  5902.  7488.  5545.  3233.\n",
            "   6591.  6723.  7856.  4309.  6579.  5917.  8504.  4615.  7174.  7639.\n",
            "   8460.  8933.]\n",
            " [ 8351.  8347.  8833.  8399.  7755.  7935.  7763.  9288.  7436.  4651.\n",
            "   8257.  7241.  9919.  6692. 10091.  7804.  9285.  5868.  7899. 10425.\n",
            "  11421. 10681.]\n",
            " [ 4635.  4299.  7607.  5430.  5772.  4642.  3424.  5848.  3807.  3196.\n",
            "   5202.  4006.  6312.  4020.  6109.  4592.  4803.  5211.  4832.  4550.\n",
            "   7380.  6692.]\n",
            " [ 9944. 10444. 10888. 10076.  8669.  9499.  9877. 12775.  8187.  4172.\n",
            "  10153.  7699. 11334.  6586.  9715.  9123.  8740.  7400.  9584.  9713.\n",
            "  12298. 12368.]\n",
            " [ 6976.  5801.  7917.  6612.  6530.  6202.  5336.  8870.  5303.  3226.\n",
            "   6372.  5608.  7855.  4943.  6355.  5292.  7180.  6660.  7631.  6485.\n",
            "   9198.  8985.]\n",
            " [ 8238.  7397.  8846.  7651.  8449.  7709.  7472.  9813.  7035.  4493.\n",
            "   8349.  7769.  9538.  6025.  8472.  7419.  9280.  6052.  8756.  9299.\n",
            "  11943. 10262.]\n",
            " [ 6515.  7800.  7227.  8598.  6671.  7522.  7456.  8498.  6639.  3949.\n",
            "   6802.  6206.  7385.  5295.  7696.  5074.  8441.  5274.  7948.  7475.\n",
            "   9029. 10575.]\n",
            " [ 8459.  8765. 10519.  9676.  8910.  8863.  8117. 11014.  8062.  4529.\n",
            "   8588.  7226.  9886.  6909. 10487.  8120.  9709.  7808.  8587.  9399.\n",
            "  11193. 10441.]\n",
            " [ 4994.  4333.  5077.  4015.  5138.  4624.  4964.  6328.  4346.  1990.\n",
            "   4387.  4338.  5903.  2928.  5105.  3910.  5621.  3519.  5416.  5094.\n",
            "   5981.  5195.]\n",
            " [ 7564.  8347.  9327.  9626.  6257.  8246.  7919. 10823.  7390.  3321.\n",
            "   7006.  5922.  7544.  4759.  6395.  7900.  7153.  6783.  7637.  5832.\n",
            "   9949. 10137.]\n",
            " [ 6299.  7017.  9795.  8902.  7121.  8276.  7122.  9248.  6058.  3684.\n",
            "   8904.  6201.  9413.  6812.  8039.  6626.  9278.  6462.  8885.  7887.\n",
            "   8809. 10580.]\n",
            " [ 6710.  8085.  9034.  8352.  7338.  8345.  8260.  9191.  6873.  3529.\n",
            "   7809.  5918.  9039.  6185.  9349.  6971.  8555.  5407.  7523.  8452.\n",
            "   9077.  9545.]\n",
            " [ 5544.  6387.  6900.  7317.  4303.  6154.  5630.  7232.  5242.  2849.\n",
            "   6798.  4415.  6761.  5032.  5876.  6097.  5935.  4708.  5887.  6324.\n",
            "   6500.  7736.]\n",
            " [ 6923.  7031.  8146.  7426.  7054.  6965.  6725.  9435.  6406.  3317.\n",
            "   7270.  5875.  7475.  4841.  6887.  6728.  6899.  6000.  7117.  6645.\n",
            "   8734.  7644.]\n",
            " [ 5046.  5070.  6846.  6634.  6209.  5214.  3922.  6284.  4675.  3928.\n",
            "   6240.  5188.  5974.  4953.  6438.  4580.  6447.  5531.  5941.  6039.\n",
            "   7812.  7501.]\n",
            " [ 7644.  8024.  9094.  8578.  7406.  7110.  7138.  9590.  6459.  3896.\n",
            "   7680.  6624.  8485.  4820.  8322.  7835.  6861.  6225.  6629.  7261.\n",
            "  10941. 10005.]\n",
            " [ 6055.  5386.  8549.  5734.  6984.  6127.  4999.  6799.  5596.  4383.\n",
            "   6338.  5259.  7743.  5274.  7020.  6111.  6394.  4861.  6377.  6825.\n",
            "   9787.  7628.]\n",
            " [ 7525.  7797.  9270.  8863.  7689.  8151.  7892. 10181.  7140.  3561.\n",
            "   7261.  6802.  8893.  5605.  9025.  7452.  9204.  6702.  7834.  8014.\n",
            "  10486. 10182.]\n",
            " [ 6030.  6347.  5314.  5893.  5403.  5657.  6389.  7272.  5645.  2784.\n",
            "   4948.  5290.  5826.  3402.  6046.  5385.  6015.  3653.  5388.  6233.\n",
            "   8286.  7226.]\n",
            " [ 7486.  7518.  8678.  8133.  8825.  8093.  7846.  8569.  7174.  5074.\n",
            "   9288.  8245. 10319.  7078. 10261.  7063. 11002.  5151.  9100. 11011.\n",
            "  11121. 10664.]\n",
            " [10304. 10055. 11779. 10904.  8376.  9968.  9346. 12573.  8980.  5339.\n",
            "  10485.  8320. 11534.  7316.  8757. 10085.  9711.  7730. 10615.  9967.\n",
            "  13719. 13489.]\n",
            " [ 8774.  8011.  9567.  8730.  8048.  8495.  7975. 11532.  7746.  4199.\n",
            "   8457.  7436.  9155.  5841.  6892.  7648.  8941.  7226.  9837.  7933.\n",
            "  11493. 10565.]\n",
            " [ 6226.  4642.  7657.  5093.  4872.  5819.  4241.  6938.  5288.  3604.\n",
            "   4865.  3921.  7155.  4974.  4503.  4664.  5856.  5230.  7200.  5602.\n",
            "   8333.  7868.]]\n"
          ],
          "name": "stdout"
        }
      ]
    }
  ]
}