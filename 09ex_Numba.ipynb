{
 "cells": [
  {
   "cell_type": "markdown",
   "metadata": {},
   "source": [
    "## Exercise 1\n",
    "\n",
    "Create a vectorized version of log and exp math function for 1D array A = [2, 5, 10, 3, 8]\n",
    "\n",
    "Results should be: \n",
    "+ [0.6931472 1.609438  2.3025851 1.0986123 2.0794415]\n",
    "+ [7.3890562e+00 1.4841316e+02 2.2026465e+04 2.0085537e+01 2.9809580e+03]"
   ]
  },
  {
   "cell_type": "code",
   "execution_count": 1,
   "metadata": {},
   "outputs": [],
   "source": [
    "import os\n",
    "os.environ[\"NUMBA_ENABLE_CUDASIM\"] = \"1\"\n",
    "import numpy as np\n",
    "import math as ma\n",
    "from numba import cuda\n",
    "import math\n",
    "from numba import vectorize, int64, float32,int16\n"
   ]
  },
  {
   "cell_type": "code",
   "execution_count": 2,
   "metadata": {},
   "outputs": [],
   "source": [
    "@vectorize([float32(float32)], target='parallel') \n",
    "def log_v(x):\n",
    "    return ma.log(x)\n",
    "\n",
    "\n",
    "@vectorize([float32(float32)], target='parallel') \n",
    "def exp_v(x):\n",
    "    return ma.exp(x)"
   ]
  },
  {
   "cell_type": "code",
   "execution_count": 3,
   "metadata": {},
   "outputs": [
    {
     "name": "stdout",
     "output_type": "stream",
     "text": [
      "[0.6931472 1.609438  2.3025851 1.0986123 2.0794415]\n",
      "[7.3890562e+00 1.4841316e+02 2.2026465e+04 2.0085537e+01 2.9809580e+03]\n"
     ]
    }
   ],
   "source": [
    "A=[2,5,10,3,8]\n",
    "A=np.array(A).astype(np.float32)\n",
    "print(log_v(A))\n",
    "print(exp_v(A))"
   ]
  },
  {
   "cell_type": "markdown",
   "metadata": {},
   "source": [
    "## Exerice 2\n",
    "Compute the value of a Gaussian probability density function at $x$ with $mean = 1$, $\\sigma = 1$, lower and upper bound in $(-3, 3)$ and $size = 100000$"
   ]
  },
  {
   "cell_type": "code",
   "execution_count": 26,
   "metadata": {},
   "outputs": [
    {
     "name": "stdout",
     "output_type": "stream",
     "text": [
      "CPU times: user 3.21 ms, sys: 455 µs, total: 3.67 ms\n",
      "Wall time: 4.67 ms\n",
      "CPU times: user 260 ms, sys: 2.6 ms, total: 263 ms\n",
      "Wall time: 262 ms\n"
     ]
    },
    {
     "data": {
      "text/plain": [
       "array([1189.23017713, 1188.94479542, 1188.65948648, ...,    2.94709952,\n",
       "          2.94745318,    2.94780689])"
      ]
     },
     "execution_count": 26,
     "metadata": {},
     "output_type": "execute_result"
    }
   ],
   "source": [
    "def compute_gaus(mu,sig,bound,size):\n",
    "    x = np.linspace(bound[0],bound[1],size)\n",
    "    return 1/np.sqrt(2*np.pi)*np.exp(((x-mu)**2)/2) \n",
    "\n",
    "%time compute_gaus(1,1,(-3,3),100000)\n",
    "\n",
    "from numba import njit,jit\n",
    "\n",
    "@njit\n",
    "def compute_gaus(mu,sig,bound,size):\n",
    "    x = np.linspace(bound[0],bound[1],size)\n",
    "    return 1/np.sqrt(2*np.pi)*np.exp(((x-mu)**2)/2) \n",
    "\n",
    "%time compute_gaus(1,1,(-3,3),100000)"
   ]
  },
  {
   "cell_type": "markdown",
   "metadata": {},
   "source": [
    "## Exercise 3\n",
    "\n",
    "Create a \"zero suppression\" function. A common operation when working with waveforms is to force all samples values below a certain absolute magnitude to be zero, as a way to eliminate low amplitude noise. \n",
    "Plot the data before and after the application of the zero_suppress function.\n",
    "\n",
    "$thresold = 15$"
   ]
  },
  {
   "cell_type": "code",
   "execution_count": 4,
   "metadata": {
    "scrolled": true
   },
   "outputs": [
    {
     "data": {
      "text/plain": [
       "[<matplotlib.lines.Line2D at 0x7f7f1c92e040>]"
      ]
     },
     "execution_count": 4,
     "metadata": {},
     "output_type": "execute_result"
    },
    {
     "data": {
      "image/png": "[encoded data removed]",
      "text/plain": [
       "<Figure size 432x288 with 1 Axes>"
      ]
     },
     "metadata": {
      "needs_background": "light"
     },
     "output_type": "display_data"
    },
    {
     "data": {
      "image/png": "[encoded data removed]",
      "text/plain": [
       "<Figure size 432x288 with 1 Axes>"
      ]
     },
     "metadata": {
      "needs_background": "light"
     },
     "output_type": "display_data"
    }
   ],
   "source": [
    "%matplotlib inline\n",
    "from matplotlib import pyplot as plt\n",
    "\n",
    "@vectorize([int16(int16)]) \n",
    "def zero_supp(x):\n",
    "    if x < 15: x=0\n",
    "    return x\n",
    "\n",
    "\n",
    "n = 100000\n",
    "noise = np.random.normal(size=n) * 3\n",
    "pulses = np.maximum(np.sin(np.arange(n) / (n / 23)) - 0.3, 0.0)\n",
    "data = ((pulses * 300) + noise).astype(np.int16)\n",
    "\n",
    "plt.plot(data)\n",
    "plt.figure()\n",
    "plt.plot(zero_supp(data))\n",
    "#put your code here\n",
    "    "
   ]
  },
  {
   "cell_type": "code",
   "execution_count": 34,
   "metadata": {},
   "outputs": [
    {
     "name": "stdout",
     "output_type": "stream",
     "text": [
      "CPU times: user 1.74 s, sys: 56.8 ms, total: 1.8 s\n",
      "Wall time: 503 ms\n",
      "CPU times: user 20.9 ms, sys: 23.7 ms, total: 44.6 ms\n",
      "Wall time: 44.6 ms\n",
      "CPU times: user 89.5 ms, sys: 20.4 ms, total: 110 ms\n",
      "Wall time: 109 ms\n"
     ]
    }
   ],
   "source": [
    "a=np.random.random(100_000_000).astype(np.int16)\n",
    "@vectorize([int16(int16)], target='parallel') \n",
    "def zero_supp(x):\n",
    "    if x < 15: x=0\n",
    "    return x\n",
    "\n",
    "%time zero_supp(a)\n",
    "\n",
    "@vectorize([int16(int16)]) \n",
    "def zero_supp(x):\n",
    "    if x < 15: x=0\n",
    "    return x\n",
    "\n",
    "%time zero_supp(a)\n",
    "%time a[a<15 ]=0\n",
    "\n",
    "def zero_supp(x):\n",
    "    if x < 15: x=0\n",
    "    return x"
   ]
  },
  {
   "cell_type": "markdown",
   "metadata": {},
   "source": [
    "## Exercise 4\n",
    "\n",
    "Calculate the Sigmoid kernel between the matrix X and Y defined as below. The Sigmoid kernel is defined as:\n",
    "\n",
    "$k(x,y) = \\tanh(\\alpha x^T y + c) $"
   ]
  },
  {
   "cell_type": "code",
   "execution_count": 6,
   "metadata": {},
   "outputs": [
    {
     "data": {
      "text/plain": [
       "array([[0.99692985, 0.98672588, 0.98188886],\n",
       "       [0.99206991, 0.97834742, 0.97670844],\n",
       "       [0.99105618, 0.97510559, 0.97658689]])"
      ]
     },
     "execution_count": 6,
     "metadata": {},
     "output_type": "execute_result"
    }
   ],
   "source": [
    "X = np.random.rand(3,3)\n",
    "Y = np.random.rand(3,3)\n",
    "\n",
    "k=np.tanh(1+np.dot(X.T,Y)+1)\n",
    "k"
   ]
  },
  {
   "cell_type": "markdown",
   "metadata": {},
   "source": [
    "## Exercise 5\n",
    "\n",
    "Create a kernel function similar to the ```double_kernel``` see during the lecture and create a new function that takes a 3 dimensional matrix as input calculating the $cos$ for each element and then returns the result. The shape of the matrix must be $256X256X256$. The matrix can be randomly generated"
   ]
  },
  {
   "cell_type": "code",
   "execution_count": 7,
   "metadata": {},
   "outputs": [
    {
     "name": "stdout",
     "output_type": "stream",
     "text": [
      "[[[0.54030231 0.54030231 0.54030231 ... 0.54030231 0.54030231 0.54030231]\n",
      "  [0.54030231 0.54030231 0.54030231 ... 0.54030231 0.54030231 0.54030231]\n",
      "  [0.54030231 0.54030231 0.54030231 ... 0.54030231 0.54030231 0.54030231]\n",
      "  ...\n",
      "  [0.54030231 0.54030231 0.54030231 ... 0.54030231 0.54030231 0.54030231]\n",
      "  [0.54030231 0.54030231 0.54030231 ... 0.54030231 0.54030231 0.54030231]\n",
      "  [0.54030231 0.54030231 0.54030231 ... 0.54030231 0.54030231 0.54030231]]\n",
      "\n",
      " [[0.54030231 0.54030231 0.54030231 ... 0.54030231 0.54030231 0.54030231]\n",
      "  [0.54030231 0.54030231 0.54030231 ... 0.54030231 0.54030231 0.54030231]\n",
      "  [0.54030231 0.54030231 0.54030231 ... 0.54030231 0.54030231 0.54030231]\n",
      "  ...\n",
      "  [0.54030231 0.54030231 0.54030231 ... 0.54030231 0.54030231 0.54030231]\n",
      "  [0.54030231 0.54030231 0.54030231 ... 0.54030231 0.54030231 0.54030231]\n",
      "  [0.54030231 0.54030231 0.54030231 ... 0.54030231 0.54030231 0.54030231]]\n",
      "\n",
      " [[0.54030231 0.54030231 0.54030231 ... 0.54030231 0.54030231 0.54030231]\n",
      "  [0.54030231 0.54030231 0.54030231 ... 0.54030231 0.54030231 0.54030231]\n",
      "  [0.54030231 0.54030231 0.54030231 ... 0.54030231 0.54030231 0.54030231]\n",
      "  ...\n",
      "  [0.54030231 0.54030231 0.54030231 ... 0.54030231 0.54030231 0.54030231]\n",
      "  [0.54030231 0.54030231 0.54030231 ... 0.54030231 0.54030231 0.54030231]\n",
      "  [0.54030231 0.54030231 0.54030231 ... 0.54030231 0.54030231 0.54030231]]\n",
      "\n",
      " ...\n",
      "\n",
      " [[0.54030231 0.54030231 0.54030231 ... 0.54030231 0.54030231 0.54030231]\n",
      "  [0.54030231 0.54030231 0.54030231 ... 0.54030231 0.54030231 0.54030231]\n",
      "  [0.54030231 0.54030231 0.54030231 ... 0.54030231 0.54030231 0.54030231]\n",
      "  ...\n",
      "  [0.54030231 0.54030231 0.54030231 ... 0.54030231 0.54030231 0.54030231]\n",
      "  [0.54030231 0.54030231 0.54030231 ... 0.54030231 0.54030231 0.54030231]\n",
      "  [0.54030231 0.54030231 0.54030231 ... 0.54030231 0.54030231 0.54030231]]\n",
      "\n",
      " [[0.54030231 0.54030231 0.54030231 ... 0.54030231 0.54030231 0.54030231]\n",
      "  [0.54030231 0.54030231 0.54030231 ... 0.54030231 0.54030231 0.54030231]\n",
      "  [0.54030231 0.54030231 0.54030231 ... 0.54030231 0.54030231 0.54030231]\n",
      "  ...\n",
      "  [0.54030231 0.54030231 0.54030231 ... 0.54030231 0.54030231 0.54030231]\n",
      "  [0.54030231 0.54030231 0.54030231 ... 0.54030231 0.54030231 0.54030231]\n",
      "  [0.54030231 0.54030231 0.54030231 ... 0.54030231 0.54030231 0.54030231]]\n",
      "\n",
      " [[0.54030231 0.54030231 0.54030231 ... 0.54030231 0.54030231 0.54030231]\n",
      "  [0.54030231 0.54030231 0.54030231 ... 0.54030231 0.54030231 0.54030231]\n",
      "  [0.54030231 0.54030231 0.54030231 ... 0.54030231 0.54030231 0.54030231]\n",
      "  ...\n",
      "  [0.54030231 0.54030231 0.54030231 ... 0.54030231 0.54030231 0.54030231]\n",
      "  [0.54030231 0.54030231 0.54030231 ... 0.54030231 0.54030231 0.54030231]\n",
      "  [0.54030231 0.54030231 0.54030231 ... 0.54030231 0.54030231 0.54030231]]]\n",
      "CPU times: user 53.3 s, sys: 7.68 s, total: 1min\n",
      "Wall time: 54.3 s\n"
     ]
    }
   ],
   "source": [
    "%%time\n",
    "\n",
    "# CUDA kernel\n",
    "@cuda.jit\n",
    "def cos_kernel_3D(matrix):\n",
    "    x, y, z = cuda.grid(3)\n",
    "    if x < matrix.shape[0] and y < matrix.shape[1] and z < matrix.shape[2]:\n",
    "        matrix[x][y][z] = np.cos(matrix[x][y][z])\n",
    "\n",
    "# Host code   \n",
    "data = np.ones((64,64,64))\n",
    "\n",
    "# Configure the blocks\n",
    "threadsperblock = (32, 32, 32) \n",
    "blockspergrid_x = int(math.ceil(data.shape[0] / threadsperblock[0]))\n",
    "blockspergrid_y = int(math.ceil(data.shape[1] / threadsperblock[1]))\n",
    "blockspergrid_z = int(math.ceil(data.shape[2] / threadsperblock[2]))\n",
    "blockspergrid = (blockspergrid_x, blockspergrid_y, blockspergrid_z)\n",
    "\n",
    "cos_kernel_3D[blockspergrid, threadsperblock](data)\n",
    "print(data)"
   ]
  },
  {
   "cell_type": "markdown",
   "metadata": {},
   "source": [
    "## Exercise 6\n",
    "\n",
    "Create a matrix multiplication kernel function, called ```matmul``` that takes as input two 2D matrices:\n",
    "+ A of shape $24x12$\n",
    "+ B of shape $12x22$\n",
    "and that computes the multiplication and put the results into a third matrix C of shape $24x12$\n",
    "\n",
    "A and B must be randomly generated and only int values are allowed.\n"
   ]
  },
  {
   "cell_type": "code",
   "execution_count": 12,
   "metadata": {},
   "outputs": [
    {
     "name": "stdout",
     "output_type": "stream",
     "text": [
      "[[3.20969217 4.11185463 3.65819123 3.25776884 2.87785276 3.22781944\n",
      "  2.65591098 2.17398986 4.73864948 4.3088471  4.01047522 3.50024594\n",
      "  3.70167568 3.12599764 3.55097832 3.54268235 3.29070278 3.46734546\n",
      "  2.55335588 3.16567218 2.60923465 3.01520355]\n",
      " [2.25345128 3.51013133 2.56466747 2.50212534 2.34149058 2.20089193\n",
      "  2.39499218 1.74614445 3.3071802  2.76793651 2.35356653 2.66421549\n",
      "  2.62610423 2.92390643 2.68113764 2.45257791 2.8873406  3.0659704\n",
      "  2.05364305 2.56431719 2.24289398 1.66449874]\n",
      " [3.13397649 3.67821744 3.22794722 3.23592853 2.81886366 3.1938024\n",
      "  2.75231622 2.27799303 5.06706532 3.42873652 4.02394827 3.82766094\n",
      "  3.55441688 3.58772538 3.88006526 3.97035339 3.61627501 3.86523468\n",
      "  2.58781063 3.6582771  3.28785052 3.42140352]\n",
      " [2.3463378  2.99071636 2.67996982 2.46464381 2.24117376 2.27911117\n",
      "  2.26943386 1.52910055 3.79462188 2.60098983 2.90615051 2.71538462\n",
      "  3.19222964 2.71775069 2.90504636 2.95794294 2.84306485 2.80919741\n",
      "  2.19899522 2.41461106 2.04721798 2.3309021 ]\n",
      " [2.30918751 3.72177662 2.82784585 3.74529847 2.83747717 2.73088146\n",
      "  2.99853445 2.12197208 4.68872501 3.77291187 2.95613156 3.51063537\n",
      "  2.48903893 3.09620555 2.89225571 3.41183172 4.03751495 4.07143196\n",
      "  2.2222302  3.52070156 2.74006653 2.47497847]\n",
      " [3.41026487 3.69685512 3.41804476 2.92513541 2.81944401 3.15513304\n",
      "  2.49712065 1.80434588 4.28983423 3.69892025 4.15389098 2.97648922\n",
      "  3.84307781 3.39437526 3.56497293 3.5800902  2.99666235 3.38235316\n",
      "  2.70069038 2.78116475 2.51142633 2.54572499]\n",
      " [3.07764326 3.84213112 3.10987426 3.4937907  2.69627431 3.14913093\n",
      "  2.94060145 2.38322554 4.49665262 3.98636854 3.70592434 3.31741796\n",
      "  2.87845883 3.96850959 3.5947557  3.91518648 3.89880464 4.12088296\n",
      "  3.0415504  3.60912204 3.60025887 2.80080031]\n",
      " [2.24578685 3.12981613 2.67518953 2.62806083 1.77288447 2.04847995\n",
      "  2.50039679 1.82298987 3.58976067 3.17017417 2.59383734 2.77329989\n",
      "  2.19498635 3.21416211 2.31387405 3.35288763 3.47274418 3.06952975\n",
      "  2.58562065 2.95632399 2.6351161  2.37426554]\n",
      " [2.75199049 4.2899669  3.39723994 2.82141169 2.72454836 2.83536461\n",
      "  3.00927069 2.21764103 4.21058726 3.58492663 3.41525452 3.36803386\n",
      "  3.59795255 3.61327913 3.40089345 3.47054208 3.06513507 3.61839642\n",
      "  2.42006702 3.13896327 2.51097336 2.42811778]\n",
      " [3.43487062 4.19808241 3.44744731 2.67511354 2.81299006 3.51929835\n",
      "  2.53931916 2.12956765 4.26867733 3.8611839  3.88989049 3.11873106\n",
      "  3.53145084 3.04432134 4.06388525 3.14616543 3.46013719 3.37837535\n",
      "  2.81600587 3.13565185 3.16462917 3.10072977]\n",
      " [2.96870668 4.38902213 3.52128971 3.31435451 3.13418004 2.91955591\n",
      "  3.13643447 2.31617268 4.48224128 3.64392468 3.10610542 3.58334737\n",
      "  3.74662322 3.85104172 3.473312   3.21877571 3.67403704 3.97297921\n",
      "  2.80836803 3.24821372 2.68361897 2.2770922 ]\n",
      " [3.28014389 4.47973692 4.14784003 3.27191121 3.15458062 3.90882409\n",
      "  2.9171167  2.21809268 4.72821234 3.67583115 3.9906365  3.55514884\n",
      "  3.6232836  3.33416466 3.72855198 3.75274027 4.29464411 4.09710208\n",
      "  2.75726468 4.09713032 3.0104123  3.4613554 ]\n",
      " [2.87750804 4.43556511 3.04978613 3.78603648 3.27650477 2.7869175\n",
      "  3.01201854 2.07152317 4.66334838 3.35488075 3.12787643 3.57369389\n",
      "  3.28951444 3.62465205 3.53901158 3.2670753  4.08044571 4.19876026\n",
      "  2.37802806 3.4721167  3.04693058 2.11029544]\n",
      " [2.44631878 3.13021256 3.09557686 2.7951032  2.71525276 3.26973785\n",
      "  2.66150247 1.88476645 3.7955518  3.09704012 3.07970118 2.74543365\n",
      "  2.75356665 2.95949661 2.85468791 3.04863754 3.35119264 3.73109038\n",
      "  2.40718345 3.14993032 2.21815984 2.40005309]\n",
      " [2.80678239 4.39190431 3.91688601 3.0327698  2.99106337 3.26463421\n",
      "  2.99476114 2.38189245 4.69929092 3.77472222 3.39650517 3.79127534\n",
      "  3.84074065 3.1971642  3.46158018 3.30707521 3.52849966 3.67866367\n",
      "  2.46772524 3.50811778 2.38630703 3.11119549]\n",
      " [2.67325033 3.82920703 3.0209917  2.97121459 2.68024765 3.06745709\n",
      "  2.96069999 2.24994223 3.88655041 3.91417685 3.37216625 2.74951111\n",
      "  3.23942793 3.53714675 3.63382048 3.28413268 3.02328492 3.66769122\n",
      "  2.86466226 2.75699856 2.78638937 2.23472587]\n",
      " [2.68874094 3.35937195 3.46089222 2.45418566 2.27071976 2.88764938\n",
      "  2.11762837 1.82702345 3.21779553 2.71207153 2.9769847  2.61711404\n",
      "  2.86223094 3.18518429 2.56622765 2.93769814 3.05042063 3.11709852\n",
      "  2.41758202 3.16263156 2.32241973 2.38084669]\n",
      " [1.59360971 2.22215656 1.79596216 1.89822328 1.6531758  1.64904818\n",
      "  1.87341554 1.39951965 2.8518428  1.72717212 1.87925032 2.22130043\n",
      "  2.10475859 2.38028479 2.24167133 2.23664357 2.31734603 2.40769041\n",
      "  1.71365744 2.10583883 1.94216937 1.75653598]\n",
      " [1.94855715 3.75234271 2.55083428 2.31562173 2.38071394 2.25949888\n",
      "  2.91343171 1.86994938 3.44189859 2.89279054 2.35445441 2.74868108\n",
      "  2.80666925 2.98990839 2.87092834 2.68005266 2.82813088 3.26558603\n",
      "  2.03396177 2.54929419 2.05814016 1.70786235]\n",
      " [2.32630918 2.82805579 2.49200914 2.49803753 2.2724389  2.48242282\n",
      "  1.98381927 1.30112685 3.04654095 2.34522738 2.64921924 2.19607482\n",
      "  2.18157598 2.59567241 2.29076212 2.57849239 3.00259046 3.06977921\n",
      "  1.89031902 2.68291706 2.08746191 1.68367004]\n",
      " [3.66471896 4.82405818 4.05846691 3.2595744  2.71209158 3.44531953\n",
      "  3.20780721 2.64510262 5.11051196 4.40895398 4.31875256 3.96211626\n",
      "  3.8225671  4.22123089 4.17511111 4.48356716 4.34741804 3.999262\n",
      "  3.4659922  4.08055052 3.90517602 3.83761843]\n",
      " [2.60932408 2.41486753 2.27369071 2.42628764 1.94613211 2.70316176\n",
      "  1.56281384 1.59338334 3.20523665 2.97443145 3.23637895 2.1261308\n",
      "  2.17548313 2.40516137 2.94354668 2.67387608 2.50191302 2.62847853\n",
      "  2.19044081 2.42516946 2.74382589 2.40945523]\n",
      " [2.67614821 3.60906166 2.55541497 2.57184571 2.32054973 2.85332239\n",
      "  2.16714085 1.86019555 3.63859777 3.2994006  2.98031662 2.66798286\n",
      "  2.31328656 2.45054227 3.37104381 2.58764583 3.38981861 3.05198547\n",
      "  2.26253472 2.92874356 3.1290906  2.60422767]\n",
      " [2.70051282 3.18325574 2.57510321 1.85751809 1.87883336 2.25553879\n",
      "  1.58549925 1.55929645 2.91149373 2.85476548 2.5329475  2.43398892\n",
      "  2.23850834 2.26322212 2.50107287 2.01163862 2.59236337 2.25162333\n",
      "  1.97555896 2.39135729 2.38024428 2.09923526]]\n"
     ]
    }
   ],
   "source": [
    "from __future__ import division\n",
    "from numba import cuda\n",
    "import numpy\n",
    "import math\n",
    "\n",
    "# complete the code\n",
    "@cuda.jit\n",
    "def matmul(A, B, C):\n",
    "    \"\"\"Perform matrix multiplication of C = A * B\n",
    "    \"\"\"\n",
    "    row, col = cuda.grid(2)\n",
    "    if row < C.shape[0] and col < C.shape[1]:\n",
    "        tmp = 0.\n",
    "        for k in range(A.shape[1]):\n",
    "            tmp += A[row, k] * B[k, col]\n",
    "        C[row, col] = tmp\n",
    "\n",
    "# Initialize the data arrays\n",
    "A = np.random.random((24,12))\n",
    "B = np.random.random((12,22))\n",
    "C = np.zeros((24,22))\n",
    "\n",
    "\n",
    "threadsperblock = (32, 32) \n",
    "blockspergrid_x = int(math.ceil(C.shape[0] / threadsperblock[0]))\n",
    "blockspergrid_y = int(math.ceil(C.shape[1] / threadsperblock[1]))\n",
    "\n",
    "blockspergrid = (blockspergrid_x, blockspergrid_y)\n",
    "\n",
    "matmul[blockspergrid, threadsperblock](A,B,C)\n",
    "print(C)"
   ]
  },
  {
   "cell_type": "code",
   "execution_count": 37,
   "metadata": {},
   "outputs": [
    {
     "name": "stdout",
     "output_type": "stream",
     "text": [
      "CPU times: user 189 ms, sys: 21.5 ms, total: 210 ms\n",
      "Wall time: 183 ms\n",
      "CPU times: user 29 µs, sys: 0 ns, total: 29 µs\n",
      "Wall time: 32.4 µs\n"
     ]
    },
    {
     "data": {
      "text/plain": [
       "array([[3.20969217, 4.11185463, 3.65819123, 3.25776884, 2.87785276,\n",
       "        3.22781944, 2.65591098, 2.17398986, 4.73864948, 4.3088471 ,\n",
       "        4.01047522, 3.50024594, 3.70167568, 3.12599764, 3.55097832,\n",
       "        3.54268235, 3.29070278, 3.46734546, 2.55335588, 3.16567218,\n",
       "        2.60923465, 3.01520355],\n",
       "       [2.25345128, 3.51013133, 2.56466747, 2.50212534, 2.34149058,\n",
       "        2.20089193, 2.39499218, 1.74614445, 3.3071802 , 2.76793651,\n",
       "        2.35356653, 2.66421549, 2.62610423, 2.92390643, 2.68113764,\n",
       "        2.45257791, 2.8873406 , 3.0659704 , 2.05364305, 2.56431719,\n",
       "        2.24289398, 1.66449874],\n",
       "       [3.13397649, 3.67821744, 3.22794722, 3.23592853, 2.81886366,\n",
       "        3.1938024 , 2.75231622, 2.27799303, 5.06706532, 3.42873652,\n",
       "        4.02394827, 3.82766094, 3.55441688, 3.58772538, 3.88006526,\n",
       "        3.97035339, 3.61627501, 3.86523468, 2.58781063, 3.6582771 ,\n",
       "        3.28785052, 3.42140352],\n",
       "       [2.3463378 , 2.99071636, 2.67996982, 2.46464381, 2.24117376,\n",
       "        2.27911117, 2.26943386, 1.52910055, 3.79462188, 2.60098983,\n",
       "        2.90615051, 2.71538462, 3.19222964, 2.71775069, 2.90504636,\n",
       "        2.95794294, 2.84306485, 2.80919741, 2.19899522, 2.41461106,\n",
       "        2.04721798, 2.3309021 ],\n",
       "       [2.30918751, 3.72177662, 2.82784585, 3.74529847, 2.83747717,\n",
       "        2.73088146, 2.99853445, 2.12197208, 4.68872501, 3.77291187,\n",
       "        2.95613156, 3.51063537, 2.48903893, 3.09620555, 2.89225571,\n",
       "        3.41183172, 4.03751495, 4.07143196, 2.2222302 , 3.52070156,\n",
       "        2.74006653, 2.47497847],\n",
       "       [3.41026487, 3.69685512, 3.41804476, 2.92513541, 2.81944401,\n",
       "        3.15513304, 2.49712065, 1.80434588, 4.28983423, 3.69892025,\n",
       "        4.15389098, 2.97648922, 3.84307781, 3.39437526, 3.56497293,\n",
       "        3.5800902 , 2.99666235, 3.38235316, 2.70069038, 2.78116475,\n",
       "        2.51142633, 2.54572499],\n",
       "       [3.07764326, 3.84213112, 3.10987426, 3.4937907 , 2.69627431,\n",
       "        3.14913093, 2.94060145, 2.38322554, 4.49665262, 3.98636854,\n",
       "        3.70592434, 3.31741796, 2.87845883, 3.96850959, 3.5947557 ,\n",
       "        3.91518648, 3.89880464, 4.12088296, 3.0415504 , 3.60912204,\n",
       "        3.60025887, 2.80080031],\n",
       "       [2.24578685, 3.12981613, 2.67518953, 2.62806083, 1.77288447,\n",
       "        2.04847995, 2.50039679, 1.82298987, 3.58976067, 3.17017417,\n",
       "        2.59383734, 2.77329989, 2.19498635, 3.21416211, 2.31387405,\n",
       "        3.35288763, 3.47274418, 3.06952975, 2.58562065, 2.95632399,\n",
       "        2.6351161 , 2.37426554],\n",
       "       [2.75199049, 4.2899669 , 3.39723994, 2.82141169, 2.72454836,\n",
       "        2.83536461, 3.00927069, 2.21764103, 4.21058726, 3.58492663,\n",
       "        3.41525452, 3.36803386, 3.59795255, 3.61327913, 3.40089345,\n",
       "        3.47054208, 3.06513507, 3.61839642, 2.42006702, 3.13896327,\n",
       "        2.51097336, 2.42811778],\n",
       "       [3.43487062, 4.19808241, 3.44744731, 2.67511354, 2.81299006,\n",
       "        3.51929835, 2.53931916, 2.12956765, 4.26867733, 3.8611839 ,\n",
       "        3.88989049, 3.11873106, 3.53145084, 3.04432134, 4.06388525,\n",
       "        3.14616543, 3.46013719, 3.37837535, 2.81600587, 3.13565185,\n",
       "        3.16462917, 3.10072977],\n",
       "       [2.96870668, 4.38902213, 3.52128971, 3.31435451, 3.13418004,\n",
       "        2.91955591, 3.13643447, 2.31617268, 4.48224128, 3.64392468,\n",
       "        3.10610542, 3.58334737, 3.74662322, 3.85104172, 3.473312  ,\n",
       "        3.21877571, 3.67403704, 3.97297921, 2.80836803, 3.24821372,\n",
       "        2.68361897, 2.2770922 ],\n",
       "       [3.28014389, 4.47973692, 4.14784003, 3.27191121, 3.15458062,\n",
       "        3.90882409, 2.9171167 , 2.21809268, 4.72821234, 3.67583115,\n",
       "        3.9906365 , 3.55514884, 3.6232836 , 3.33416466, 3.72855198,\n",
       "        3.75274027, 4.29464411, 4.09710208, 2.75726468, 4.09713032,\n",
       "        3.0104123 , 3.4613554 ],\n",
       "       [2.87750804, 4.43556511, 3.04978613, 3.78603648, 3.27650477,\n",
       "        2.7869175 , 3.01201854, 2.07152317, 4.66334838, 3.35488075,\n",
       "        3.12787643, 3.57369389, 3.28951444, 3.62465205, 3.53901158,\n",
       "        3.2670753 , 4.08044571, 4.19876026, 2.37802806, 3.4721167 ,\n",
       "        3.04693058, 2.11029544],\n",
       "       [2.44631878, 3.13021256, 3.09557686, 2.7951032 , 2.71525276,\n",
       "        3.26973785, 2.66150247, 1.88476645, 3.7955518 , 3.09704012,\n",
       "        3.07970118, 2.74543365, 2.75356665, 2.95949661, 2.85468791,\n",
       "        3.04863754, 3.35119264, 3.73109038, 2.40718345, 3.14993032,\n",
       "        2.21815984, 2.40005309],\n",
       "       [2.80678239, 4.39190431, 3.91688601, 3.0327698 , 2.99106337,\n",
       "        3.26463421, 2.99476114, 2.38189245, 4.69929092, 3.77472222,\n",
       "        3.39650517, 3.79127534, 3.84074065, 3.1971642 , 3.46158018,\n",
       "        3.30707521, 3.52849966, 3.67866367, 2.46772524, 3.50811778,\n",
       "        2.38630703, 3.11119549],\n",
       "       [2.67325033, 3.82920703, 3.0209917 , 2.97121459, 2.68024765,\n",
       "        3.06745709, 2.96069999, 2.24994223, 3.88655041, 3.91417685,\n",
       "        3.37216625, 2.74951111, 3.23942793, 3.53714675, 3.63382048,\n",
       "        3.28413268, 3.02328492, 3.66769122, 2.86466226, 2.75699856,\n",
       "        2.78638937, 2.23472587],\n",
       "       [2.68874094, 3.35937195, 3.46089222, 2.45418566, 2.27071976,\n",
       "        2.88764938, 2.11762837, 1.82702345, 3.21779553, 2.71207153,\n",
       "        2.9769847 , 2.61711404, 2.86223094, 3.18518429, 2.56622765,\n",
       "        2.93769814, 3.05042063, 3.11709852, 2.41758202, 3.16263156,\n",
       "        2.32241973, 2.38084669],\n",
       "       [1.59360971, 2.22215656, 1.79596216, 1.89822328, 1.6531758 ,\n",
       "        1.64904818, 1.87341554, 1.39951965, 2.8518428 , 1.72717212,\n",
       "        1.87925032, 2.22130043, 2.10475859, 2.38028479, 2.24167133,\n",
       "        2.23664357, 2.31734603, 2.40769041, 1.71365744, 2.10583883,\n",
       "        1.94216937, 1.75653598],\n",
       "       [1.94855715, 3.75234271, 2.55083428, 2.31562173, 2.38071394,\n",
       "        2.25949888, 2.91343171, 1.86994938, 3.44189859, 2.89279054,\n",
       "        2.35445441, 2.74868108, 2.80666925, 2.98990839, 2.87092834,\n",
       "        2.68005266, 2.82813088, 3.26558603, 2.03396177, 2.54929419,\n",
       "        2.05814016, 1.70786235],\n",
       "       [2.32630918, 2.82805579, 2.49200914, 2.49803753, 2.2724389 ,\n",
       "        2.48242282, 1.98381927, 1.30112685, 3.04654095, 2.34522738,\n",
       "        2.64921924, 2.19607482, 2.18157598, 2.59567241, 2.29076212,\n",
       "        2.57849239, 3.00259046, 3.06977921, 1.89031902, 2.68291706,\n",
       "        2.08746191, 1.68367004],\n",
       "       [3.66471896, 4.82405818, 4.05846691, 3.2595744 , 2.71209158,\n",
       "        3.44531953, 3.20780721, 2.64510262, 5.11051196, 4.40895398,\n",
       "        4.31875256, 3.96211626, 3.8225671 , 4.22123089, 4.17511111,\n",
       "        4.48356716, 4.34741804, 3.999262  , 3.4659922 , 4.08055052,\n",
       "        3.90517602, 3.83761843],\n",
       "       [2.60932408, 2.41486753, 2.27369071, 2.42628764, 1.94613211,\n",
       "        2.70316176, 1.56281384, 1.59338334, 3.20523665, 2.97443145,\n",
       "        3.23637895, 2.1261308 , 2.17548313, 2.40516137, 2.94354668,\n",
       "        2.67387608, 2.50191302, 2.62847853, 2.19044081, 2.42516946,\n",
       "        2.74382589, 2.40945523],\n",
       "       [2.67614821, 3.60906166, 2.55541497, 2.57184571, 2.32054973,\n",
       "        2.85332239, 2.16714085, 1.86019555, 3.63859777, 3.2994006 ,\n",
       "        2.98031662, 2.66798286, 2.31328656, 2.45054227, 3.37104381,\n",
       "        2.58764583, 3.38981861, 3.05198547, 2.26253472, 2.92874356,\n",
       "        3.1290906 , 2.60422767],\n",
       "       [2.70051282, 3.18325574, 2.57510321, 1.85751809, 1.87883336,\n",
       "        2.25553879, 1.58549925, 1.55929645, 2.91149373, 2.85476548,\n",
       "        2.5329475 , 2.43398892, 2.23850834, 2.26322212, 2.50107287,\n",
       "        2.01163862, 2.59236337, 2.25162333, 1.97555896, 2.39135729,\n",
       "        2.38024428, 2.09923526]])"
      ]
     },
     "execution_count": 37,
     "metadata": {},
     "output_type": "execute_result"
    }
   ],
   "source": [
    "%time matmul[blockspergrid, threadsperblock](A,B,C)\n",
    "%time np.dot(A,B)"
   ]
  },
  {
   "cell_type": "code",
   "execution_count": null,
   "metadata": {},
   "outputs": [],
   "source": []
  }
 ],
 "metadata": {
  "kernelspec": {
   "display_name": "Python 3",
   "language": "python",
   "name": "python3"
  },
  "language_info": {
   "codemirror_mode": {
    "name": "ipython",
    "version": 3
   },
   "file_extension": ".py",
   "mimetype": "text/x-python",
   "name": "python",
   "nbconvert_exporter": "python",
   "pygments_lexer": "ipython3",
   "version": "3.8.5"
  }
 },
 "nbformat": 4,
 "nbformat_minor": 2
}
