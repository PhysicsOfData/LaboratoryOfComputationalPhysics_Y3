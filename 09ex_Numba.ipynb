{
 "cells": [
  {
   "cell_type": "markdown",
   "metadata": {},
   "source": [
    "## Exercise 1\n",
    "\n",
    "Create a vectorized version of log and exp math function for 1D array A = [2, 5, 10, 3, 8]\n",
    "\n",
    "Results should be: \n",
    "+ [0.6931472 1.609438  2.3025851 1.0986123 2.0794415]\n",
    "+ [7.3890562e+00 1.4841316e+02 2.2026465e+04 2.0085537e+01 2.9809580e+03]"
   ]
  },
  {
   "cell_type": "code",
   "execution_count": null,
   "metadata": {},
   "outputs": [],
   "source": [
    "import os\n",
    "import numpy as np\n",
    "import math\n",
    "os.environ[\"NUMBA_ENABLE_CUDASIM\"] = \"1\"\n",
    "import matplotlib.pyplot as plt\n",
    "%matplotlib inline"
   ]
  },
  {
   "cell_type": "code",
   "execution_count": null,
   "metadata": {},
   "outputs": [],
   "source": [
    "from numba import vectorize, float32, int32\n",
    "\n",
    "A = np.array([2, 5, 10, 3, 8], dtype='int32')\n",
    "\n",
    "@vectorize([float32(int32)], target='parallel', fastmath=True)\n",
    "def vec_log(x):\n",
    "    y = np.log(x)\n",
    "    return y\n",
    "\n",
    "@vectorize([float32(int32)], target='parallel', fastmath=True)\n",
    "def vec_exp(x):\n",
    "    y = np.exp(x)\n",
    "    return y\n",
    "\n",
    "print('Logarithm of A:', vec_log(A))\n",
    "print('exponential of A:', vec_exp(A))"
   ]
  },
  {
   "cell_type": "markdown",
   "metadata": {},
   "source": [
    "## Exerice 2\n",
    "Compute the value of a Gaussian probability density function at $x$ with $mean = 1$, $\\sigma = 1$, lower and upper bound in $(-3, 3)$ and $size = 100000$"
   ]
  },
  {
   "cell_type": "code",
   "execution_count": null,
   "metadata": {},
   "outputs": [],
   "source": [
    "from numba import vectorize, float64, float32\n",
    "\n",
    "N = 100000\n",
    "mean = 1\n",
    "std = 1\n",
    "\n",
    "x = np.linspace(-3, 3, N, dtype='float32')\n",
    "\n",
    "@vectorize([float64(float32, float32, float32)], target='parallel', fastmath=True) \n",
    "def vec_gaussian(x, mean, std):\n",
    "    return 1/(std*np.sqrt(2*np.pi)) * np.exp((-1/2)*((x-mean)/std)**2)\n",
    "\n",
    "plt.plot(x,vec_gaussian(x, mean, std))\n",
    "plt.show()"
   ]
  },
  {
   "cell_type": "markdown",
   "metadata": {},
   "source": [
    "## Exercise 3\n",
    "\n",
    "Create a \"zero suppression\" function. A common operation when working with waveforms is to force all samples values below a certain absolute magnitude to be zero, as a way to eliminate low amplitude noise. \n",
    "Plot the data before and after the application of the zero_suppress function.\n",
    "\n",
    "$thresold = 15$"
   ]
  },
  {
   "cell_type": "code",
   "execution_count": null,
   "metadata": {},
   "outputs": [],
   "source": [
    "from numba import jit\n",
    "\n",
    "n = 100000\n",
    "noise = np.random.normal(size=n) * 3\n",
    "pulses = np.maximum(np.sin(np.arange(n) / (n / 23)) - 0.3, 0.0)\n",
    "data = ((pulses * 300) + noise).astype(np.int16)\n",
    "\n",
    "#put your code here\n",
    "plt.plot(np.arange(n), data, color='r')\n",
    "plt.title('Original noisy data')\n",
    "\n",
    "@jit\n",
    "def zero_suppression(x, thr):\n",
    "    for i in range(len(x)):\n",
    "        if np.abs(x[i]) < thr:\n",
    "            x[i] = 0\n",
    "    \n",
    "suppressed_data = data.copy()\n",
    "zero_suppression(suppressed_data, 15)\n",
    "\n",
    "plt.figure()\n",
    "plt.plot(np.arange(n), suppressed_data)\n",
    "plt.title('Suppressed noisy data')"
   ]
  },
  {
   "cell_type": "markdown",
   "metadata": {},
   "source": [
    "## Exercise 4\n",
    "\n",
    "Calculate the Sigmoid kernel between the matrix X and Y defined as below. The Sigmoid kernel is defined as:\n",
    "\n",
    "$k(x,y) = \\tanh(\\alpha x^T y + c) $"
   ]
  },
  {
   "cell_type": "code",
   "execution_count": null,
   "metadata": {},
   "outputs": [],
   "source": [
    "from numba import jit\n",
    "\n",
    "X = np.random.rand(3,3)\n",
    "Y = np.random.rand(3,3)\n",
    "\n",
    "@jit\n",
    "def sigmoid_kernel(x, y, alpha, c):\n",
    "    return np.tanh(alpha * np.dot(x.T,y) + c)\n",
    "\n",
    "print(sigmoid_kernel(X,Y,1,0))"
   ]
  },
  {
   "cell_type": "markdown",
   "metadata": {},
   "source": [
    "## Exercise 5\n",
    "\n",
    "Create a kernel function similar to the ```double_kernel``` see during the lecture and create a new function that takes a 3 dimensional matrix as input calculating the $cos$ for each element and then returns the result. The shape of the matrix must be $256X256X256$. The matrix can be randomly generated"
   ]
  },
  {
   "cell_type": "code",
   "execution_count": null,
   "metadata": {},
   "outputs": [],
   "source": [
    "from numba import cuda\n",
    "\n",
    "@cuda.jit\n",
    "def kernel(io_array):\n",
    "    x, y, z = cuda.grid(3)\n",
    "    if x < io_array.shape[0] and y < io_array.shape[1] and z < io_array.shape[2]:\n",
    "        io_array[x,y,z] = math.cos(io_array[x,y,z])\n",
    "\n",
    "\n",
    "mat = np.random.random((256,256,256))\n",
    "\n",
    "# Configure the blocks\n",
    "threadsperblock = (8,4,4)\n",
    "blockspergrid_x = int(math.ceil(mat.shape[0] / threadsperblock[0]))\n",
    "blockspergrid_y = int(math.ceil(mat.shape[1] / threadsperblock[1]))\n",
    "blockspergrid_z = int(math.ceil(mat.shape[2] / threadsperblock[2]))\n",
    "blockspergrid = (blockspergrid_x, blockspergrid_y, blockspergrid_z)\n",
    "\n",
    "kernel[blockspergrid, threadsperblock](mat)\n",
    "print(mat)"
   ]
  },
  {
   "cell_type": "markdown",
   "metadata": {},
   "source": [
    "## Exercise 6\n",
    "\n",
    "Create a matrix multiplication kernel function, called ```matmul``` that takes as input two 2D matrices:\n",
    "+ A of shape $24x12$\n",
    "+ B of shape $12x22$\n",
    "and that computes the multiplication and put the results into a third matrix C of shape $24x12$\n",
    "\n",
    "A and B must be randomly generated and only int values are allowed.\n"
   ]
  },
  {
   "cell_type": "code",
   "execution_count": null,
   "metadata": {},
   "outputs": [],
   "source": [
    "from __future__ import division\n",
    "from numba import cuda\n",
    "import numpy\n",
    "import math\n",
    "\n",
    "# complete the code\n",
    "@cuda.jit\n",
    "def matmul(A, B, C):\n",
    "    \"\"\"Perform matrix multiplication of C = A * B\n",
    "    \"\"\"\n",
    "    row, col = cuda.grid(2)\n",
    "    if row < C.shape[0] and col < C.shape[1]:\n",
    "        tmp = 0.\n",
    "        for k in range(A.shape[1]):\n",
    "            tmp += A[row, k] * B[k, col]\n",
    "        C[row, col] = tmp\n",
    "\n",
    "# Initialize the data arrays\n",
    "A = np.random.randint(1,10,(24,12))\n",
    "B = np.random.randint(1,10,(12,22))\n",
    "C = np.zeros((24,22))\n",
    "\n",
    "# Configure the blocks\n",
    "threadsperblock = (4,2)\n",
    "blockspergrid_x = int(math.ceil(C.shape[0] / threadsperblock[0]))\n",
    "blockspergrid_y = int(math.ceil(C.shape[1] / threadsperblock[1]))\n",
    "blockspergrid = (blockspergrid_x, blockspergrid_y)\n",
    "\n",
    "matmul[blockspergrid, threadsperblock](A, B, C)\n",
    "print(C)"
   ]
  },
  {
   "cell_type": "code",
   "execution_count": null,
   "metadata": {},
   "outputs": [],
   "source": []
  }
 ],
 "metadata": {
  "kernelspec": {
   "display_name": "Python 3",
   "language": "python",
   "name": "python3"
  },
  "language_info": {
   "codemirror_mode": {
    "name": "ipython",
    "version": 3
   },
   "file_extension": ".py",
   "mimetype": "text/x-python",
   "name": "python",
   "nbconvert_exporter": "python",
   "pygments_lexer": "ipython3",
   "version": "3.8.3"
  }
 },
 "nbformat": 4,
 "nbformat_minor": 2
}
