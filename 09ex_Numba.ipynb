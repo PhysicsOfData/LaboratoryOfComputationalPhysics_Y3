{
 "cells": [
  {
   "cell_type": "markdown",
   "metadata": {},
   "source": [
    "## Exercise 1\n",
    "\n",
    "Create a vectorized version of log and exp math function for 1D array A = [2, 5, 10, 3, 8]\n",
    "\n",
    "Results should be: \n",
    "+ [0.6931472 1.609438  2.3025851 1.0986123 2.0794415]\n",
    "+ [7.3890562e+00 1.4841316e+02 2.2026465e+04 2.0085537e+01 2.9809580e+03]"
   ]
  },
  {
   "cell_type": "code",
   "execution_count": 1,
   "metadata": {},
   "outputs": [],
   "source": [
    "import numpy as np\n",
    "import math as m\n",
    "import os\n",
    "os.environ[\"NUMBA_ENABLE_CUDASIM\"] = \"1\"\n",
    "from numba import jit, cuda, vectorize, int64, float32, int16\n"
   ]
  },
  {
   "cell_type": "code",
   "execution_count": 2,
   "metadata": {},
   "outputs": [
    {
     "name": "stdout",
     "output_type": "stream",
     "text": [
      "[0.6931472 1.609438  2.3025851 1.0986123 2.0794415]\n",
      "[7.3890562e+00 1.4841316e+02 2.2026465e+04 2.0085537e+01 2.9809580e+03]\n"
     ]
    }
   ],
   "source": [
    "@vectorize([float32(float32)], target='parallel', fastmath=True) \n",
    "def vec_log(x):\n",
    "    c =  m.log(x)\n",
    "    return c\n",
    "\n",
    "@vectorize([float32(float32)], target='parallel', fastmath=True) \n",
    "def vec_exp(x):\n",
    "    c =  m.exp(x)\n",
    "    return c\n",
    "\n",
    "A = np.array([2,5,10,3,8])\n",
    "A=A.astype(np.float32) \n",
    "\n",
    "print(vec_log(A))\n",
    "print(vec_exp(A))"
   ]
  },
  {
   "cell_type": "markdown",
   "metadata": {},
   "source": [
    "## Exerice 2\n",
    "Compute the value of a Gaussian probability density function at $x$ with $mean = 1$, $\\sigma = 1$, lower and upper bound in $(-3, 3)$ and $size = 100000$"
   ]
  },
  {
   "cell_type": "code",
   "execution_count": 3,
   "metadata": {},
   "outputs": [
    {
     "name": "stdout",
     "output_type": "stream",
     "text": [
      "[0.05318151 0.39839357 0.15420537 ... 0.30716208 0.24176301 0.19791608]\n"
     ]
    }
   ],
   "source": [
    "@vectorize([float32(float32, float32,float32)], target='parallel', fastmath=True) \n",
    "def gauss_value(x,mean,sigma):\n",
    "    y=1/np.sqrt(2*np.pi)*np.exp(-(x-mean)**2/(2*sigma**2))\n",
    "    return y\n",
    "\n",
    "mean=np.array(1)\n",
    "sigma=np.array(1)\n",
    "mean=mean.astype(np.float32)\n",
    "sigma=sigma.astype(np.float32)\n",
    "size= 100000\n",
    "x=np.random.random(size)*6-3\n",
    "x=x.astype(np.float32)\n",
    "\n",
    "print(gauss_value(x,mean,sigma))"
   ]
  },
  {
   "cell_type": "markdown",
   "metadata": {},
   "source": [
    "## Exercise 3\n",
    "\n",
    "Create a \"zero suppression\" function. A common operation when working with waveforms is to force all samples values below a certain absolute magnitude to be zero, as a way to eliminate low amplitude noise. \n",
    "Plot the data before and after the application of the zero_suppress function.\n",
    "\n",
    "$thresold = 15$"
   ]
  },
  {
   "cell_type": "code",
   "execution_count": 4,
   "metadata": {},
   "outputs": [
    {
     "data": {
      "image/png": "[encoded data removed]",
      "text/plain": [
       "<Figure size 648x288 with 2 Axes>"
      ]
     },
     "metadata": {
      "needs_background": "light"
     },
     "output_type": "display_data"
    }
   ],
   "source": [
    "%matplotlib inline\n",
    "from matplotlib import pyplot as plt\n",
    "\n",
    "n = 100000\n",
    "noise = np.random.normal(size=n) * 3\n",
    "pulses = np.maximum(np.sin(np.arange(n) / (n / 23)) - 0.3, 0.0)\n",
    "data = ((pulses * 300) + noise).astype(np.int16)\n",
    "threshold=np.array(15).astype(np.int16)\n",
    "\n",
    "@vectorize([float32(float32, float32)], target='parallel', fastmath=True)\n",
    "def zero_suppress(data, threshold):\n",
    "    if data<threshold:\n",
    "        data=0\n",
    "    return data\n",
    "\n",
    "        \n",
    "fig, ax=plt.subplots(ncols=2, figsize=(9,4))\n",
    "ax[0].plot(data, label='data')\n",
    "ax[1].plot(zero_suppress(data,threshold),label='zero_suppress_data', color='r')\n",
    "fig.legend()\n",
    "plt.show()"
   ]
  },
  {
   "cell_type": "markdown",
   "metadata": {},
   "source": [
    "## Exercise 4\n",
    "\n",
    "Calculate the Sigmoid kernel between the matrix X and Y defined as below. The Sigmoid kernel is defined as:\n",
    "\n",
    "$k(x,y) = \\tanh(\\alpha x^T y + c) $"
   ]
  },
  {
   "cell_type": "code",
   "execution_count": 5,
   "metadata": {},
   "outputs": [
    {
     "data": {
      "text/plain": [
       "array([[1.06115148, 0.91780384, 0.84218249],\n",
       "       [1.07334727, 0.97423336, 0.96682308],\n",
       "       [1.01674903, 0.86287648, 0.79347671]])"
      ]
     },
     "execution_count": 5,
     "metadata": {},
     "output_type": "execute_result"
    }
   ],
   "source": [
    "X = np.random.rand(3,3)\n",
    "Y = np.random.rand(3,3)\n",
    "\n",
    "X,Y,X*Y, np.dot(X.T,Y)\n",
    "\n",
    "def sigmoid_kernel(X,Y,a,c):\n",
    "    K=np.arctan(np.dot(X.T,Y)*a+c)\n",
    "    return K\n",
    "\n",
    "K=sigmoid_kernel(X,Y,1,1)\n",
    "K"
   ]
  },
  {
   "cell_type": "markdown",
   "metadata": {},
   "source": [
    "## Exercise 5\n",
    "\n",
    "Create a kernel function similar to the ```double_kernel``` see during the lecture and create a new function that takes a 3 dimensional matrix as input calculating the $cos$ for each element and then returns the result. The shape of the matrix must be $256X256X256$. The matrix can be randomly generated"
   ]
  },
  {
   "cell_type": "code",
   "execution_count": 6,
   "metadata": {},
   "outputs": [
    {
     "name": "stdout",
     "output_type": "stream",
     "text": [
      "[[[0.96050079 0.68414203 0.90414015 ... 0.98206853 0.9678259  0.99995087]\n",
      "  [0.56925366 0.65943017 0.68295315 ... 0.9983439  0.99980719 0.87181436]\n",
      "  [0.69632102 0.89719876 0.91551202 ... 0.94170406 0.99939104 0.56939891]\n",
      "  ...\n",
      "  [0.98782821 0.75950739 0.84871311 ... 0.666823   0.54120498 0.9922562 ]\n",
      "  [0.84538956 0.95040717 0.98380082 ... 0.96513847 0.56514578 0.68068072]\n",
      "  [0.99341798 0.61828439 0.68307943 ... 0.6268538  0.98154114 0.77625315]]\n",
      "\n",
      " [[0.88442652 0.97282674 0.65639931 ... 0.58386439 0.5500403  0.95369738]\n",
      "  [0.97849272 0.56141281 0.79241011 ... 0.95965682 0.76893512 0.99999984]\n",
      "  [0.97220654 0.71904558 0.83482179 ... 0.96977297 0.70879791 0.7408169 ]\n",
      "  ...\n",
      "  [0.97670674 0.98957581 0.83567961 ... 0.91443968 0.99400216 0.91142478]\n",
      "  [0.98797121 0.79361427 0.97591843 ... 0.75411204 0.98099045 0.98621361]\n",
      "  [0.91632628 0.57738877 0.58460105 ... 0.92227276 0.98257815 0.81601362]]\n",
      "\n",
      " [[0.94244492 0.89225744 0.99347291 ... 0.61663087 0.99825866 0.95463004]\n",
      "  [0.57665753 0.77798647 0.9166855  ... 0.70674261 0.98072004 0.96355752]\n",
      "  [0.77358812 0.54532923 0.99827385 ... 0.97920444 0.91168935 0.95455564]\n",
      "  ...\n",
      "  [0.99978024 0.99543913 0.88924085 ... 0.99837201 0.92823287 0.97560846]\n",
      "  [0.99279985 0.97206853 0.81833899 ... 0.83975304 0.8595641  0.99119731]\n",
      "  [0.88640266 0.58896808 0.99166304 ... 0.72033165 0.90460577 0.6739594 ]]\n",
      "\n",
      " ...\n",
      "\n",
      " [[0.8934045  0.98849721 0.99801593 ... 0.99956533 0.99821658 0.69521295]\n",
      "  [0.98465453 0.84136748 0.93443081 ... 0.85137242 0.63712159 0.62908494]\n",
      "  [0.69481808 0.95971312 0.76346737 ... 0.9505658  0.65542361 0.59695759]\n",
      "  ...\n",
      "  [0.73339394 0.83714911 0.94669675 ... 0.66500974 0.99618033 0.81779248]\n",
      "  [0.80976932 0.95426914 0.98807795 ... 0.76865208 0.99329565 0.98266845]\n",
      "  [0.56546118 0.99505561 0.99512141 ... 0.77660047 0.63893175 0.70837708]]\n",
      "\n",
      " [[0.88964582 0.74091623 0.85813595 ... 0.99870643 0.62872848 0.98060851]\n",
      "  [0.62094525 0.5498092  0.95955911 ... 0.76537337 0.57441071 0.99980503]\n",
      "  [0.792634   0.89400611 0.91026241 ... 0.76495232 0.56744659 0.97639396]\n",
      "  ...\n",
      "  [0.73799876 0.99474184 0.95654253 ... 0.99999926 0.89429352 0.70590369]\n",
      "  [0.93295575 0.91456624 0.55413389 ... 0.84114861 0.92558195 0.90510079]\n",
      "  [0.79797163 0.91011582 0.70758606 ... 0.96617385 0.5453289  0.89616585]]\n",
      "\n",
      " [[0.84174707 0.57759984 0.5690152  ... 0.94767225 0.59668596 0.84755191]\n",
      "  [0.6008492  0.80710799 0.80993239 ... 0.74770887 0.99627945 0.985209  ]\n",
      "  [0.89732633 0.96817505 0.83205135 ... 0.84625337 0.91880195 0.91326618]\n",
      "  ...\n",
      "  [0.97737083 0.82963191 0.83050723 ... 0.74376173 0.94947001 0.9998405 ]\n",
      "  [0.96048713 0.93916261 0.82088174 ... 0.99022909 0.71908519 0.95718003]\n",
      "  [0.84941974 0.99438518 0.8933061  ... 0.92222001 0.76175667 0.59977726]]]\n"
     ]
    }
   ],
   "source": [
    "import os\n",
    "import numpy as np\n",
    "import math as m\n",
    "os.environ[\"NUMBA_ENABLE_CUDASIM\"] = \"1\"\n",
    "from numba import jit, njit, vectorize, cuda\n",
    "\n",
    "@cuda.jit\n",
    "def kernel_3D(io_array):\n",
    "    x,y,z = cuda.grid(3)\n",
    "    if x < io_array.shape[0] and y < io_array.shape[1] and z <io_array.shape[2]:\n",
    "        io_array[x][y][z] = np.cos(io_array[x][y][z])\n",
    "\n",
    "# Host code   \n",
    "data = np.random.random((32,32,32))\n",
    "\n",
    "# Configure the blocks\n",
    "threadsperblock = (4,4,4) #ThreadsPerBlock must be a divisor of the data dimension: 1024/ 64 / 16 = 1\n",
    "blockspergrid_x = int(m.ceil(data.shape[0] / threadsperblock[0]))\n",
    "blockspergrid_y = int(m.ceil(data.shape[1] / threadsperblock[1]))\n",
    "blockspergrid_z = int(m.ceil(data.shape[2] / threadsperblock[2]))\n",
    "blockspergrid = (blockspergrid_x, blockspergrid_y, blockspergrid_z)\n",
    "\n",
    "kernel_3D[blockspergrid, threadsperblock](data)\n",
    "print(data)"
   ]
  },
  {
   "cell_type": "markdown",
   "metadata": {},
   "source": [
    "## Exercise 6\n",
    "\n",
    "Create a matrix multiplication kernel function, called ```matmul``` that takes as input two 2D matrices:\n",
    "+ A of shape $24x12$\n",
    "+ B of shape $12x22$\n",
    "and that computes the multiplication and put the results into a third matrix C of shape $24x12$\n",
    "\n",
    "A and B must be randomly generated and only int values are allowed.\n"
   ]
  },
  {
   "cell_type": "code",
   "execution_count": 7,
   "metadata": {},
   "outputs": [
    {
     "name": "stdout",
     "output_type": "stream",
     "text": [
      "[[24070. 18821. 29250. 27025. 20905. 23536. 19991. 25648. 25505. 21114.\n",
      "  19739. 24380. 18427. 22627. 18595. 19295. 24084. 16767. 18247. 22692.\n",
      "  27160. 20079.]\n",
      " [22457. 21287. 27435. 13710. 15622. 22973. 26962. 18028. 26216. 22318.\n",
      "  19644. 21039. 23443. 18225. 14745. 24886. 20763. 17936. 27102. 25557.\n",
      "  18572. 21675.]\n",
      " [36640. 32188. 43062. 35042. 29526. 35490. 34352. 32912. 45505. 35516.\n",
      "  28977. 33003. 31640. 31759. 26032. 35675. 38297. 26271. 32451. 38150.\n",
      "  32565. 36072.]\n",
      " [39015. 32438. 41482. 37829. 29115. 32424. 35579. 31314. 43380. 34229.\n",
      "  29007. 32234. 32715. 33252. 29257. 36767. 35244. 22475. 28769. 39160.\n",
      "  33787. 30591.]\n",
      " [27390. 26908. 32388. 31370. 23752. 25726. 28576. 27284. 33704. 27368.\n",
      "  23313. 27202. 26204. 24193. 23234. 30763. 31466. 18128. 26102. 28616.\n",
      "  26787. 27095.]\n",
      " [40928. 30598. 45720. 31974. 33835. 33367. 35453. 33313. 40766. 38594.\n",
      "  31742. 36725. 37091. 30899. 32601. 38956. 35041. 26846. 31555. 42239.\n",
      "  32489. 36746.]\n",
      " [33285. 31572. 41254. 38888. 28439. 25653. 31672. 33720. 38257. 38659.\n",
      "  28925. 36315. 38165. 30661. 29089. 35686. 33136. 23102. 29273. 36642.\n",
      "  32990. 33633.]\n",
      " [25854. 24863. 31659. 23478. 19475. 28930. 26901. 24526. 32312. 22164.\n",
      "  23608. 22532. 24045. 24472. 20012. 26411. 28553. 20718. 26795. 25459.\n",
      "  24507. 23190.]\n",
      " [34395. 29738. 46364. 31607. 29789. 31284. 30331. 28798. 40370. 33840.\n",
      "  29015. 29856. 33751. 30338. 28733. 32962. 34568. 26573. 29845. 35929.\n",
      "  28536. 34944.]\n",
      " [21562. 19510. 28077. 22972. 21269. 25154. 22977. 20426. 26962. 23890.\n",
      "  16958. 23128. 19141. 20041. 17452. 23158. 26028. 17686. 20908. 23297.\n",
      "  20767. 24428.]\n",
      " [35470. 25539. 39347. 19758. 23620. 32009. 31292. 27428. 34196. 25018.\n",
      "  26852. 26956. 27643. 25755. 22909. 29732. 27467. 23365. 29750. 35206.\n",
      "  27418. 28319.]\n",
      " [41094. 27484. 37607. 31866. 34685. 30514. 30962. 34823. 42811. 38927.\n",
      "  32722. 35412. 30200. 28260. 29476. 35632. 34205. 24105. 28196. 39651.\n",
      "  34016. 32335.]\n",
      " [26999. 28629. 35157. 30128. 25880. 21831. 30019. 27783. 31941. 32724.\n",
      "  25574. 28423. 30661. 25980. 25518. 29324. 26783. 17430. 27994. 30166.\n",
      "  28026. 28903.]\n",
      " [34709. 28627. 44071. 31959. 28525. 23587. 35325. 24836. 36252. 35965.\n",
      "  24452. 32284. 29681. 27216. 22891. 31193. 26532. 18393. 29903. 40030.\n",
      "  31568. 30759.]\n",
      " [36954. 38202. 50572. 44377. 36349. 35080. 38524. 36414. 47599. 46141.\n",
      "  30768. 39530. 42345. 36438. 34717. 42340. 42940. 28228. 34959. 42288.\n",
      "  34082. 46169.]\n",
      " [27555. 26171. 28656. 30976. 23763. 23771. 26746. 23694. 36911. 32622.\n",
      "  23222. 26661. 29183. 23913. 23585. 33391. 31455. 19498. 23546. 29455.\n",
      "  22490. 26953.]\n",
      " [29067. 30150. 34593. 31537. 23296. 30126. 37351. 25431. 35963. 33021.\n",
      "  22689. 31739. 30442. 27594. 21991. 35331. 31417. 20278. 31517. 33774.\n",
      "  28577. 28500.]\n",
      " [36937. 33617. 49930. 40496. 33171. 32953. 34651. 36184. 41956. 36813.\n",
      "  34286. 37083. 37658. 33612. 33057. 37329. 39269. 27858. 34458. 37763.\n",
      "  37318. 34576.]\n",
      " [41121. 32103. 51246. 39783. 35361. 39730. 38834. 34244. 45952. 44605.\n",
      "  29359. 42893. 36895. 35944. 28898. 39080. 39719. 31279. 33831. 45267.\n",
      "  37486. 40602.]\n",
      " [30996. 28906. 40753. 25763. 23820. 28406. 32801. 28229. 35998. 30084.\n",
      "  24880. 29503. 29699. 25283. 20796. 30914. 29765. 21967. 32884. 35144.\n",
      "  27845. 33533.]\n",
      " [38962. 26325. 46735. 35806. 31234. 34813. 36489. 31221. 38037. 39752.\n",
      "  27307. 43271. 32519. 30889. 24041. 35273. 33436. 28362. 31612. 42591.\n",
      "  38140. 31419.]\n",
      " [30217. 22511. 34784. 29887. 23391. 20720. 24101. 26026. 29000. 28238.\n",
      "  23683. 29996. 30719. 22421. 24975. 30639. 26999. 19653. 21520. 31353.\n",
      "  25706. 25142.]\n",
      " [37652. 28358. 46485. 32872. 31287. 35272. 36640. 28736. 41483. 40341.\n",
      "  27309. 39731. 34641. 28957. 25160. 38958. 36778. 29548. 33618. 42387.\n",
      "  31781. 36253.]\n",
      " [28916. 28544. 45518. 35204. 25972. 31192. 32340. 26279. 39946. 36871.\n",
      "  22379. 36443. 33707. 25527. 20302. 36707. 38691. 28377. 33340. 36531.\n",
      "  26902. 38271.]]\n"
     ]
    }
   ],
   "source": [
    "from __future__ import division\n",
    "from numba import cuda\n",
    "import numpy\n",
    "import math\n",
    "\n",
    "# complete the code\n",
    "@cuda.jit\n",
    "def matmul(A, B, C):\n",
    "    \"\"\"Perform matrix multiplication of C = A * B\n",
    "    \"\"\"\n",
    "    row, col = cuda.grid(2)\n",
    "    if row < C.shape[0] and col < C.shape[1]:\n",
    "        tmp = 0.\n",
    "        for k in range(A.shape[1]):\n",
    "            tmp += A[row, k] * B[k, col]\n",
    "        C[row, col] = tmp\n",
    "\n",
    "# Initialize the data arrays\n",
    "A = np.ceil(np.random.random((24,12))*100)\n",
    "B = np.ceil(np.random.random((12,22))*100)\n",
    "C = np.ones((24,22))\n",
    "\n",
    "# Configure the blocks\n",
    "threadsperblock = (4,2)\n",
    "blockspergrid_x = int(m.ceil(C.shape[0] / threadsperblock[0]))\n",
    "blockspergrid_y = int(m.ceil(C.shape[1] / threadsperblock[1]))\n",
    "blockspergrid = (blockspergrid_x,blockspergrid_y)\n",
    "\n",
    "matmul[blockspergrid, threadsperblock](A,B,C)\n",
    "print(C)\n"
   ]
  }
 ],
 "metadata": {
  "kernelspec": {
   "display_name": "Python 3",
   "language": "python",
   "name": "python3"
  },
  "language_info": {
   "codemirror_mode": {
    "name": "ipython",
    "version": 3
   },
   "file_extension": ".py",
   "mimetype": "text/x-python",
   "name": "python",
   "nbconvert_exporter": "python",
   "pygments_lexer": "ipython3",
   "version": "3.8.3"
  }
 },
 "nbformat": 4,
 "nbformat_minor": 2
}
