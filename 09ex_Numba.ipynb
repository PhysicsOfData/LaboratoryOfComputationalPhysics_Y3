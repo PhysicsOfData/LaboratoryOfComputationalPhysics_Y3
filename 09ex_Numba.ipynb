{
  "nbformat": 4,
  "nbformat_minor": 0,
  "metadata": {
    "kernelspec": {
      "display_name": "Python 3",
      "language": "python",
      "name": "python3"
    },
    "language_info": {
      "codemirror_mode": {
        "name": "ipython",
        "version": 3
      },
      "file_extension": ".py",
      "mimetype": "text/x-python",
      "name": "python",
      "nbconvert_exporter": "python",
      "pygments_lexer": "ipython3",
      "version": "3.6.9"
    },
    "colab": {
      "name": "09ex_Numba.ipynb",
      "provenance": [],
      "collapsed_sections": []
    }
  },
  "cells": [
    {
      "cell_type": "markdown",
      "metadata": {
        "id": "IfAGY70cWHMJ"
      },
      "source": [
        "## Note:\n",
        "Because of some trouble in installing the numba package on my mac, I had to use Google Colab as a different tool to edit and run my code. Consequently this is the output I got. I tried to do my best on those exercises but did not manage to complete them all due to some difficulty in learning the things and solving problems on my own. I report the ones I believe have been solved properly."
      ]
    },
    {
      "cell_type": "markdown",
      "metadata": {
        "id": "iXgRenlaxalx"
      },
      "source": [
        "## Exercise 1\n",
        "\n",
        "Create a vectorized version of log and exp math function for 1D array A = [2, 5, 10, 3, 8]\n",
        "\n",
        "Results should be: \n",
        "+ [0.6931472 1.609438  2.3025851 1.0986123 2.0794415]\n",
        "+ [7.3890562e+00 1.4841316e+02 2.2026465e+04 2.0085537e+01 2.9809580e+03]"
      ]
    },
    {
      "cell_type": "code",
      "metadata": {
        "colab": {
          "base_uri": "https://localhost:8080/"
        },
        "id": "0i4wybOXxamA",
        "outputId": "9da25a2e-7c55-458a-d9f6-c062c0ee05f8"
      },
      "source": [
        "import numpy as np\n",
        "from numba import vectorize, int64, float32\n",
        "\n",
        "@vectorize([float32(int64)], target='parallel', fastmath=True) \n",
        "def vec_log(x):\n",
        "    c =  np.log(x)\n",
        "    return c\n",
        "\n",
        "@vectorize([float32(int64)], target='parallel', fastmath=True) \n",
        "def vec_exp(x):\n",
        "    c =  np.exp(x)\n",
        "    return c\n",
        "\n",
        "A = [2, 5, 10, 3, 8]\n",
        "\n",
        "\n",
        "\n",
        "print(vec_log(A))\n",
        "print(vec_exp(A))"
      ],
      "execution_count": 5,
      "outputs": [
        {
          "output_type": "stream",
          "text": [
            "[0.6931472 1.609438  2.3025851 1.0986123 2.0794415]\n",
            "[7.3890562e+00 1.4841316e+02 2.2026465e+04 2.0085537e+01 2.9809580e+03]\n"
          ],
          "name": "stdout"
        }
      ]
    },
    {
      "cell_type": "markdown",
      "metadata": {
        "id": "dYU72wPZxamB"
      },
      "source": [
        "## Exerice 2\n",
        "Compute the value of a Gaussian probability density function at $x$ with $mean = 1$, $\\sigma = 1$, lower and upper bound in $(-3, 3)$ and $size = 100000$"
      ]
    },
    {
      "cell_type": "code",
      "metadata": {
        "colab": {
          "base_uri": "https://localhost:8080/",
          "height": 778
        },
        "id": "5lAUcjJDxamC",
        "outputId": "19fc5b2e-edc1-48cf-ef81-3454b95c975f"
      },
      "source": [
        "import scipy.stats as stats\n",
        "import matplotlib.pyplot as plt\n",
        "from numba import jit, njit, vectorize, cuda\n",
        "\n",
        "lower, upper = -3, 3\n",
        "mu, sigma = 1., 1.\n",
        "G = stats.truncnorm((lower - mu) / sigma, (upper - mu) / sigma, loc=mu, scale=sigma)\n",
        "\n",
        "@jit\n",
        "def gauss(x):\n",
        "  y = G.pdf(x)\n",
        "  X = G.rvs(size = 10**5)\n",
        "  print('The pdf value in 0 is: %.4f' % y)\n",
        "  plt.hist(X, density=True)\n",
        "  plt.show()\n",
        "\n",
        "\n",
        "gauss(0)"
      ],
      "execution_count": 24,
      "outputs": [
        {
          "output_type": "stream",
          "text": [
            "<ipython-input-24-7a8bf8ceb6a8>:9: NumbaWarning: \n",
            "Compilation is falling back to object mode WITH looplifting enabled because Function \"gauss\" failed type inference due to: Untyped global name 'G': cannot determine Numba type of <class 'scipy.stats._distn_infrastructure.rv_frozen'>\n",
            "\n",
            "File \"<ipython-input-24-7a8bf8ceb6a8>\", line 11:\n",
            "def gauss(x):\n",
            "  y = G.pdf(x)\n",
            "  ^\n",
            "\n",
            "  @jit\n",
            "/usr/local/lib/python3.6/dist-packages/numba/object_mode_passes.py:178: NumbaWarning: Function \"gauss\" was compiled in object mode without forceobj=True.\n",
            "\n",
            "File \"<ipython-input-24-7a8bf8ceb6a8>\", line 10:\n",
            "@jit\n",
            "def gauss(x):\n",
            "^\n",
            "\n",
            "  state.func_ir.loc))\n",
            "/usr/local/lib/python3.6/dist-packages/numba/object_mode_passes.py:188: NumbaDeprecationWarning: \n",
            "Fall-back from the nopython compilation path to the object mode compilation path has been detected, this is deprecated behaviour.\n",
            "\n",
            "For more information visit http://numba.pydata.org/numba-doc/latest/reference/deprecation.html#deprecation-of-object-mode-fall-back-behaviour-when-using-jit\n",
            "\n",
            "File \"<ipython-input-24-7a8bf8ceb6a8>\", line 10:\n",
            "@jit\n",
            "def gauss(x):\n",
            "^\n",
            "\n",
            "  state.func_ir.loc))\n"
          ],
          "name": "stderr"
        },
        {
          "output_type": "stream",
          "text": [
            "The pdf value in 0 is: 0.2476\n"
          ],
          "name": "stdout"
        },
        {
          "output_type": "display_data",
          "data": {
            "image/png": "[encoded data removed]",
            "text/plain": [
              "<Figure size 432x288 with 1 Axes>"
            ]
          },
          "metadata": {
            "tags": [],
            "needs_background": "light"
          }
        }
      ]
    },
    {
      "cell_type": "markdown",
      "metadata": {
        "id": "3LkyoGptxamC"
      },
      "source": [
        "## Exercise 3\n",
        "\n",
        "Create a \"zero suppression\" function. A common operation when working with waveforms is to force all samples values below a certain absolute magnitude to be zero, as a way to eliminate low amplitude noise. \n",
        "Plot the data before and after the application of the zero_suppress function.\n",
        "\n",
        "$thresold = 15$"
      ]
    },
    {
      "cell_type": "code",
      "metadata": {
        "colab": {
          "base_uri": "https://localhost:8080/",
          "height": 265
        },
        "id": "UfHNzvaMxamC",
        "outputId": "3040be25-f8f1-41aa-fa4d-3363fd4106b7"
      },
      "source": [
        "%matplotlib inline\n",
        "from matplotlib import pyplot as plt\n",
        "\n",
        "n = 100000\n",
        "noise = np.random.normal(size=n) * 3\n",
        "pulses = np.maximum(np.sin(np.arange(n) / (n / 23)) - 0.3, 0.0)\n",
        "data = ((pulses * 300) + noise).astype(np.int16)\n",
        "\n",
        "th = 15\n",
        "\n",
        "\n",
        "@jit(\"void(int16[:])\")\n",
        "def zero_supp(data):\n",
        "  for i in range(len(data)):\n",
        "    if data[i] < 15: data[i] = 0\n",
        "\n",
        "\n",
        "p1, = plt.plot(data, 'g-', label= 'before')  \n",
        "zero_supp(data)\n",
        "p2, =  plt.plot(data, 'r-', label='after')\n",
        "th = plt.axhline(15,label= 'threshold', ls = '--')\n",
        "plt.axhline(0, color = 'red', ls = ':')\n",
        "plt.legend(handles=[p1, p2, th],bbox_to_anchor=(1.05, 1), loc='upper left')\n",
        "plt.show()\n",
        "\n",
        "\n",
        "    "
      ],
      "execution_count": 62,
      "outputs": [
        {
          "output_type": "display_data",
          "data": {
            "image/png": "[encoded data removed]",
            "text/plain": [
              "<Figure size 432x288 with 1 Axes>"
            ]
          },
          "metadata": {
            "tags": [],
            "needs_background": "light"
          }
        }
      ]
    },
    {
      "cell_type": "markdown",
      "metadata": {
        "id": "sh9bmgR_xamD"
      },
      "source": [
        "## Exercise 4\n",
        "\n",
        "Calculate the Sigmoid kernel between the matrix X and Y defined as below. The Sigmoid kernel is defined as:\n",
        "\n",
        "$k(x,y) = \\tanh(\\alpha x^T y + c) $"
      ]
    },
    {
      "cell_type": "code",
      "metadata": {
        "colab": {
          "base_uri": "https://localhost:8080/"
        },
        "id": "ppmtmTxbxamD",
        "outputId": "f61e563b-cfa4-4042-9194-8c4ab4c024ef"
      },
      "source": [
        "X = np.random.rand(3,3)\n",
        "Y = np.random.rand(3,3)\n",
        "\n",
        "@jit\n",
        "def k(x,y, a = 1., c= 0.):\n",
        "  z = np.tanh(a*np.dot(x.T,y)+c)\n",
        "  return z\n",
        "\n",
        "print(k(X,Y))\n"
      ],
      "execution_count": 26,
      "outputs": [
        {
          "output_type": "stream",
          "text": [
            "[[0.55310362 0.73757694 0.41873539]\n",
            " [0.50506761 0.70767981 0.3997723 ]\n",
            " [0.70742666 0.70648475 0.39900457]]\n"
          ],
          "name": "stdout"
        }
      ]
    },
    {
      "cell_type": "markdown",
      "metadata": {
        "id": "SZ53zgfXxamD"
      },
      "source": [
        "## Exercise 5\n",
        "\n",
        "Create a kernel function similar to the ```double_kernel``` see during the lecture and create a new function that takes a 3 dimensional matrix as input calculating the $cos$ for each element and then returns the result. The shape of the matrix must be $256X256X256$. The matrix can be randomly generated"
      ]
    },
    {
      "cell_type": "markdown",
      "metadata": {
        "id": "lbOBSIaIxamE"
      },
      "source": [
        "## Exercise 6\n",
        "\n",
        "Create a matrix multiplication kernel function, called ```matmul``` that takes as input two 2D matrices:\n",
        "+ A of shape $24x12$\n",
        "+ B of shape $12x22$\n",
        "and that computes the multiplication and put the results into a third matrix C of shape $24x12$\n",
        "\n",
        "A and B must be randomly generated and only int values are allowed.\n"
      ]
    },
    {
      "cell_type": "code",
      "metadata": {
        "id": "VSPIIQDfxamE"
      },
      "source": [
        "from __future__ import division\n",
        "from numba import cuda\n",
        "import numpy\n",
        "import math\n",
        "\n",
        "# complete the code\n",
        "@cuda.jit\n",
        "def matmul(A, B, C):\n",
        "    \"\"\"Perform matrix multiplication of C = A * B\n",
        "    \"\"\"\n",
        "    row, col = cuda.grid(2)\n",
        "    if row < C.shape[0] and col < C.shape[1]:\n",
        "        tmp = 0.\n",
        "        for k in range(A.shape[1]):\n",
        "            tmp += A[row, k] * B[k, col]\n",
        "        C[row, col] = tmp\n",
        "\n",
        "# Initialize the data arrays\n",
        "A = \n",
        "B = \n",
        "\n",
        "# Configure the blocks\n",
        "threadsperblock = \n",
        "blockspergrid_x = \n",
        "blockspergrid_y = \n",
        "blockspergrid = \n",
        "\n"
      ],
      "execution_count": null,
      "outputs": []
    }
  ]
}