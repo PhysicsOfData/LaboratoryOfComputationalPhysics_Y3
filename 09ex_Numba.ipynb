{
 "cells": [
  {
   "cell_type": "code",
   "execution_count": 2,
   "metadata": {
    "id": "S41Vti_IyosI"
   },
   "outputs": [],
   "source": [
    "import numpy as np\n",
    "import math\n",
    "from numba import jit, njit, vectorize, cuda, vectorize, int64, float32 ,int16\n",
    "from scipy import stats\n"
   ]
  },
  {
   "cell_type": "markdown",
   "metadata": {
    "id": "Fokhkct5yosN"
   },
   "source": [
    "## Exercise 1\n",
    "\n",
    "Create a vectorized version of log and exp math function for 1D array A = [2, 5, 10, 3, 8]\n",
    "\n",
    "Results should be: \n",
    "+ [0.6931472 1.609438  2.3025851 1.0986123 2.0794415]\n",
    "+ [7.3890562e+00 1.4841316e+02 2.2026465e+04 2.0085537e+01 2.9809580e+03]"
   ]
  },
  {
   "cell_type": "code",
   "execution_count": null,
   "metadata": {
    "colab": {
     "base_uri": "https://localhost:8080/"
    },
    "id": "bjG7OQjuyosN",
    "outputId": "0d6f6d45-234a-4629-fbf2-2eb0bf37a74d"
   },
   "outputs": [
    {
     "name": "stdout",
     "output_type": "stream",
     "text": [
      "[7.3890562e+00 1.4841316e+02 2.2026465e+04 2.0085537e+01 2.9809580e+03]\n"
     ]
    }
   ],
   "source": [
    "#Vectorizing the exponential function \n",
    "@vectorize([float32(float32)], target='parallel', fastmath=True) \n",
    "def vecexp(x):\n",
    "    e = (np.exp(x))\n",
    "    return e\n",
    "\n",
    "a = np.asarray([2, 5, 10, 3, 8]).astype(np.float32)\n",
    "\n",
    "\n",
    "print( vecexp(a))\n"
   ]
  },
  {
   "cell_type": "code",
   "execution_count": null,
   "metadata": {
    "colab": {
     "base_uri": "https://localhost:8080/"
    },
    "id": "lTjBBURAyosO",
    "outputId": "bd9fe3a1-6a45-417c-cad5-5336b687dd9c"
   },
   "outputs": [
    {
     "name": "stdout",
     "output_type": "stream",
     "text": [
      "[0.6931472 1.609438  2.3025851 1.0986123 2.0794415]\n"
     ]
    }
   ],
   "source": [
    "#Vectorizing the logaritmic function\n",
    "@vectorize([float32(float32)], target='parallel', fastmath=True) \n",
    "def veclog(x):\n",
    "    l = (np.log(x))\n",
    "    return l\n",
    "\n",
    "a = np.asarray([2, 5, 10, 3, 8]).astype(np.float32)\n",
    "\n",
    "\n",
    "print( veclog(a))"
   ]
  },
  {
   "cell_type": "markdown",
   "metadata": {
    "id": "p8RaDuYYyosP"
   },
   "source": [
    "## Exerice 2\n",
    "Compute the value of a Gaussian probability density function at $x$ with $mean = 1$, $\\sigma = 1$, lower and upper bound in $(-3, 3)$ and $size = 100000$"
   ]
  },
  {
   "cell_type": "code",
   "execution_count": null,
   "metadata": {
    "colab": {
     "base_uri": "https://localhost:8080/"
    },
    "id": "eb1MFlxUyosQ",
    "outputId": "de78bedc-92ec-4ddf-ad1c-e02a5bb74433"
   },
   "outputs": [
    {
     "name": "stdout",
     "output_type": "stream",
     "text": [
      "[0.011109   0.011111   0.01111299 ... 0.01111299 0.011111   0.011109  ]\n"
     ]
    }
   ],
   "source": [
    "#Vectorizing the gaussian function\n",
    "@vectorize([float32(float32)], target='parallel', fastmath=True) \n",
    "def gaussian(x):\n",
    "    #Gaussian with mean and variance 1\n",
    "    l = np.exp(-((x-1)**2)/2)\n",
    "    return l\n",
    "\n",
    "a = np.linspace(-3,3,100000).astype(np.float32)\n",
    "\n",
    "\n",
    "print(gaussian(a))"
   ]
  },
  {
   "cell_type": "markdown",
   "metadata": {
    "id": "-SAgPM2IyosQ"
   },
   "source": [
    "## Exercise 3\n",
    "\n",
    "Create a \"zero suppression\" function. A common operation when working with waveforms is to force all samples values below a certain absolute magnitude to be zero, as a way to eliminate low amplitude noise. \n",
    "Plot the data before and after the application of the zero_suppress function.\n",
    "\n",
    "$thresold = 15$"
   ]
  },
  {
   "cell_type": "code",
   "execution_count": 3,
   "metadata": {
    "id": "VGcrVX2EyosQ"
   },
   "outputs": [],
   "source": [
    "%matplotlib inline\n",
    "from matplotlib import pyplot as plt\n",
    "\n",
    "n = 100000\n",
    "noise = np.random.normal(size=n) * 3\n",
    "pulses = np.maximum(np.sin(np.arange(n) / (n / 23)) - 0.3, 0.0)\n",
    "data = ((pulses * 300) + noise).astype(np.int16)\n",
    "\n"
   ]
  },
  {
   "cell_type": "code",
   "execution_count": 4,
   "metadata": {
    "id": "ddjmV48cyosR"
   },
   "outputs": [],
   "source": [
    "#Creating a function to suppress the values under 15\n",
    "@jit\n",
    "def suppression(x):\n",
    "    l=x.copy()\n",
    "    l[l<15]=0\n",
    "    return l"
   ]
  },
  {
   "cell_type": "code",
   "execution_count": 6,
   "metadata": {
    "colab": {
     "base_uri": "https://localhost:8080/",
     "height": 283
    },
    "id": "_hNicbumyosS",
    "outputId": "649ab7ba-4ab3-4494-8c58-e2f01dc21264"
   },
   "outputs": [
    {
     "data": {
      "text/plain": [
       "<matplotlib.legend.Legend at 0x7f8dbb548220>"
      ]
     },
     "execution_count": 6,
     "metadata": {},
     "output_type": "execute_result"
    },
    {
     "data": {
      "image/png": "[encoded data removed]",
      "text/plain": [
       "<Figure size 432x288 with 1 Axes>"
      ]
     },
     "metadata": {
      "needs_background": "light"
     },
     "output_type": "display_data"
    }
   ],
   "source": [
    "#Plotting the results\n",
    "plt.plot(data, label=\"Data\")\n",
    "plt.plot(suppression(data), label=\"Processed data\")\n",
    "plt.legend()"
   ]
  },
  {
   "cell_type": "markdown",
   "metadata": {
    "id": "Qlsh6vJ1yosS"
   },
   "source": [
    "## Exercise 4\n",
    "\n",
    "Calculate the Sigmoid kernel between the matrix X and Y defined as below. The Sigmoid kernel is defined as:\n",
    "\n",
    "$k(x,y) = \\tanh(\\alpha x^T y + c) $"
   ]
  },
  {
   "cell_type": "code",
   "execution_count": 5,
   "metadata": {
    "id": "LJnfnL9lyosT"
   },
   "outputs": [
    {
     "name": "stdout",
     "output_type": "stream",
     "text": [
      "[[0.99999952 0.99999824 0.99999607]\n",
      " [0.99999999 0.99998001 0.99999948]\n",
      " [0.99999985 0.99997451 0.99999694]]\n"
     ]
    }
   ],
   "source": [
    "#Creating the matrices\n",
    "X = np.random.rand(3,3)\n",
    "Y = np.random.rand(3,3)\n",
    "#Defining the sigmoid kernel\n",
    "@jit\n",
    "def sker(X,Y,a,c):\n",
    "    return np.tanh(a*np.dot(X.T,Y)+c)\n",
    "print(sker(X,Y,5,4))"
   ]
  },
  {
   "cell_type": "markdown",
   "metadata": {
    "id": "MhAGAUulyosU"
   },
   "source": [
    "## Exercise 5\n",
    "\n",
    "Create a kernel function similar to the ```double_kernel``` see during the lecture and create a new function that takes a 3 dimensional matrix as input calculating the $cos$ for each element and then returns the result. The shape of the matrix must be $256X256X256$. The matrix can be randomly generated"
   ]
  },
  {
   "cell_type": "code",
   "execution_count": null,
   "metadata": {
    "colab": {
     "base_uri": "https://localhost:8080/"
    },
    "id": "cqI1LqqayosU",
    "outputId": "1668e309-d199-450b-8f11-01cc4a5f3c08"
   },
   "outputs": [
    {
     "name": "stdout",
     "output_type": "stream",
     "text": [
      "[[[0.54030231 0.54030231 0.54030231 ... 0.54030231 0.54030231 0.54030231]\n",
      "  [0.54030231 0.54030231 0.54030231 ... 0.54030231 0.54030231 0.54030231]\n",
      "  [0.54030231 0.54030231 0.54030231 ... 0.54030231 0.54030231 0.54030231]\n",
      "  ...\n",
      "  [0.54030231 0.54030231 0.54030231 ... 0.54030231 0.54030231 0.54030231]\n",
      "  [0.54030231 0.54030231 0.54030231 ... 0.54030231 0.54030231 0.54030231]\n",
      "  [0.54030231 0.54030231 0.54030231 ... 0.54030231 0.54030231 0.54030231]]\n",
      "\n",
      " [[0.54030231 0.54030231 0.54030231 ... 0.54030231 0.54030231 0.54030231]\n",
      "  [0.54030231 0.54030231 0.54030231 ... 0.54030231 0.54030231 0.54030231]\n",
      "  [0.54030231 0.54030231 0.54030231 ... 0.54030231 0.54030231 0.54030231]\n",
      "  ...\n",
      "  [0.54030231 0.54030231 0.54030231 ... 0.54030231 0.54030231 0.54030231]\n",
      "  [0.54030231 0.54030231 0.54030231 ... 0.54030231 0.54030231 0.54030231]\n",
      "  [0.54030231 0.54030231 0.54030231 ... 0.54030231 0.54030231 0.54030231]]\n",
      "\n",
      " [[0.54030231 0.54030231 0.54030231 ... 0.54030231 0.54030231 0.54030231]\n",
      "  [0.54030231 0.54030231 0.54030231 ... 0.54030231 0.54030231 0.54030231]\n",
      "  [0.54030231 0.54030231 0.54030231 ... 0.54030231 0.54030231 0.54030231]\n",
      "  ...\n",
      "  [0.54030231 0.54030231 0.54030231 ... 0.54030231 0.54030231 0.54030231]\n",
      "  [0.54030231 0.54030231 0.54030231 ... 0.54030231 0.54030231 0.54030231]\n",
      "  [0.54030231 0.54030231 0.54030231 ... 0.54030231 0.54030231 0.54030231]]\n",
      "\n",
      " ...\n",
      "\n",
      " [[0.54030231 0.54030231 0.54030231 ... 0.54030231 0.54030231 0.54030231]\n",
      "  [0.54030231 0.54030231 0.54030231 ... 0.54030231 0.54030231 0.54030231]\n",
      "  [0.54030231 0.54030231 0.54030231 ... 0.54030231 0.54030231 0.54030231]\n",
      "  ...\n",
      "  [0.54030231 0.54030231 0.54030231 ... 0.54030231 0.54030231 0.54030231]\n",
      "  [0.54030231 0.54030231 0.54030231 ... 0.54030231 0.54030231 0.54030231]\n",
      "  [0.54030231 0.54030231 0.54030231 ... 0.54030231 0.54030231 0.54030231]]\n",
      "\n",
      " [[0.54030231 0.54030231 0.54030231 ... 0.54030231 0.54030231 0.54030231]\n",
      "  [0.54030231 0.54030231 0.54030231 ... 0.54030231 0.54030231 0.54030231]\n",
      "  [0.54030231 0.54030231 0.54030231 ... 0.54030231 0.54030231 0.54030231]\n",
      "  ...\n",
      "  [0.54030231 0.54030231 0.54030231 ... 0.54030231 0.54030231 0.54030231]\n",
      "  [0.54030231 0.54030231 0.54030231 ... 0.54030231 0.54030231 0.54030231]\n",
      "  [0.54030231 0.54030231 0.54030231 ... 0.54030231 0.54030231 0.54030231]]\n",
      "\n",
      " [[0.54030231 0.54030231 0.54030231 ... 0.54030231 0.54030231 0.54030231]\n",
      "  [0.54030231 0.54030231 0.54030231 ... 0.54030231 0.54030231 0.54030231]\n",
      "  [0.54030231 0.54030231 0.54030231 ... 0.54030231 0.54030231 0.54030231]\n",
      "  ...\n",
      "  [0.54030231 0.54030231 0.54030231 ... 0.54030231 0.54030231 0.54030231]\n",
      "  [0.54030231 0.54030231 0.54030231 ... 0.54030231 0.54030231 0.54030231]\n",
      "  [0.54030231 0.54030231 0.54030231 ... 0.54030231 0.54030231 0.54030231]]]\n"
     ]
    }
   ],
   "source": [
    "@cuda.jit\n",
    "#Main function to calculate the kernel\n",
    "def dk(arr):\n",
    "    r1,r2,r3 = cuda.grid(3)\n",
    "    if r1 < arr.shape[0] and r2 < arr.shape[1] and r3 < arr.shape[2]:\n",
    "        arr[r1][r2][r3] = math.cos(arr[r1][r2][r3]) \n",
    "#Creating the data array\n",
    "data=np.ones((256,256,256))\n",
    "cuda.synchronize()\n",
    "#Defining number relations between blocks, threads and grid\n",
    "threadsperblock = (8, 8, 8)\n",
    "blockspergrid_x = int(math.ceil(data.shape[0] / threadsperblock[0]))\n",
    "blockspergrid_y = int(math.ceil(data.shape[1] / threadsperblock[1]))\n",
    "blockspergrid_z = int(math.ceil(data.shape[2] / threadsperblock[2]))\n",
    "blockspergrid = (blockspergrid_x, blockspergrid_y,blockspergrid_z)\n",
    "\n",
    "device_data = cuda.to_device(data)\n",
    "#Calculating the function\n",
    "dk[blockspergrid, threadsperblock](device_data)\n",
    "cuda.synchronize()\n",
    "\n",
    "print(device_data.copy_to_host())        "
   ]
  },
  {
   "cell_type": "markdown",
   "metadata": {
    "id": "6Mq5YAE7yosU"
   },
   "source": [
    "## Exercise 6\n",
    "\n",
    "Create a matrix multiplication kernel function, called ```matmul``` that takes as input two 2D matrices:\n",
    "+ A of shape $24x12$\n",
    "+ B of shape $12x22$\n",
    "and that computes the multiplication and put the results into a third matrix C of shape $24x12$\n",
    "\n",
    "A and B must be randomly generated and only int values are allowed.\n"
   ]
  },
  {
   "cell_type": "code",
   "execution_count": 17,
   "metadata": {
    "colab": {
     "base_uri": "https://localhost:8080/"
    },
    "id": "C8jcEKTByosU",
    "outputId": "884faf63-c7b9-4dd7-b9c5-e792df5d3890"
   },
   "outputs": [
    {
     "name": "stdout",
     "output_type": "stream",
     "text": [
      "[[12. 12. 12. 12. 12. 12. 12. 12. 12. 12. 12. 12. 12. 12. 12. 12. 12. 12.\n",
      "  12. 12. 12. 12.]\n",
      " [12. 12. 12. 12. 12. 12. 12. 12. 12. 12. 12. 12. 12. 12. 12. 12. 12. 12.\n",
      "  12. 12. 12. 12.]\n",
      " [12. 12. 12. 12. 12. 12. 12. 12. 12. 12. 12. 12. 12. 12. 12. 12. 12. 12.\n",
      "  12. 12. 12. 12.]\n",
      " [12. 12. 12. 12. 12. 12. 12. 12. 12. 12. 12. 12. 12. 12. 12. 12. 12. 12.\n",
      "  12. 12. 12. 12.]\n",
      " [12. 12. 12. 12. 12. 12. 12. 12. 12. 12. 12. 12. 12. 12. 12. 12. 12. 12.\n",
      "  12. 12. 12. 12.]\n",
      " [12. 12. 12. 12. 12. 12. 12. 12. 12. 12. 12. 12. 12. 12. 12. 12. 12. 12.\n",
      "  12. 12. 12. 12.]\n",
      " [12. 12. 12. 12. 12. 12. 12. 12. 12. 12. 12. 12. 12. 12. 12. 12. 12. 12.\n",
      "  12. 12. 12. 12.]\n",
      " [12. 12. 12. 12. 12. 12. 12. 12. 12. 12. 12. 12. 12. 12. 12. 12. 12. 12.\n",
      "  12. 12. 12. 12.]\n",
      " [12. 12. 12. 12. 12. 12. 12. 12. 12. 12. 12. 12. 12. 12. 12. 12. 12. 12.\n",
      "  12. 12. 12. 12.]\n",
      " [12. 12. 12. 12. 12. 12. 12. 12. 12. 12. 12. 12. 12. 12. 12. 12. 12. 12.\n",
      "  12. 12. 12. 12.]\n",
      " [12. 12. 12. 12. 12. 12. 12. 12. 12. 12. 12. 12. 12. 12. 12. 12. 12. 12.\n",
      "  12. 12. 12. 12.]\n",
      " [12. 12. 12. 12. 12. 12. 12. 12. 12. 12. 12. 12. 12. 12. 12. 12. 12. 12.\n",
      "  12. 12. 12. 12.]\n",
      " [12. 12. 12. 12. 12. 12. 12. 12. 12. 12. 12. 12. 12. 12. 12. 12. 12. 12.\n",
      "  12. 12. 12. 12.]\n",
      " [12. 12. 12. 12. 12. 12. 12. 12. 12. 12. 12. 12. 12. 12. 12. 12. 12. 12.\n",
      "  12. 12. 12. 12.]\n",
      " [12. 12. 12. 12. 12. 12. 12. 12. 12. 12. 12. 12. 12. 12. 12. 12. 12. 12.\n",
      "  12. 12. 12. 12.]\n",
      " [12. 12. 12. 12. 12. 12. 12. 12. 12. 12. 12. 12. 12. 12. 12. 12. 12. 12.\n",
      "  12. 12. 12. 12.]\n",
      " [12. 12. 12. 12. 12. 12. 12. 12. 12. 12. 12. 12. 12. 12. 12. 12. 12. 12.\n",
      "  12. 12. 12. 12.]\n",
      " [12. 12. 12. 12. 12. 12. 12. 12. 12. 12. 12. 12. 12. 12. 12. 12. 12. 12.\n",
      "  12. 12. 12. 12.]\n",
      " [12. 12. 12. 12. 12. 12. 12. 12. 12. 12. 12. 12. 12. 12. 12. 12. 12. 12.\n",
      "  12. 12. 12. 12.]\n",
      " [12. 12. 12. 12. 12. 12. 12. 12. 12. 12. 12. 12. 12. 12. 12. 12. 12. 12.\n",
      "  12. 12. 12. 12.]\n",
      " [12. 12. 12. 12. 12. 12. 12. 12. 12. 12. 12. 12. 12. 12. 12. 12. 12. 12.\n",
      "  12. 12. 12. 12.]\n",
      " [12. 12. 12. 12. 12. 12. 12. 12. 12. 12. 12. 12. 12. 12. 12. 12. 12. 12.\n",
      "  12. 12. 12. 12.]\n",
      " [12. 12. 12. 12. 12. 12. 12. 12. 12. 12. 12. 12. 12. 12. 12. 12. 12. 12.\n",
      "  12. 12. 12. 12.]\n",
      " [12. 12. 12. 12. 12. 12. 12. 12. 12. 12. 12. 12. 12. 12. 12. 12. 12. 12.\n",
      "  12. 12. 12. 12.]]\n"
     ]
    }
   ],
   "source": [
    "from __future__ import division\n",
    "from numba import cuda\n",
    "import numpy\n",
    "import math\n",
    "\n",
    "@cuda.jit\n",
    "def matmul(A, B, C):\n",
    "    \"\"\"Perform matrix multiplication of C = A * B\n",
    "    \"\"\"\n",
    "    row, col = cuda.grid(2)\n",
    "    if row < C.shape[0] and col < C.shape[1]:\n",
    "        tmp = 0.\n",
    "        for k in range(A.shape[1]):\n",
    "            tmp += A[row, k] * B[k, col]\n",
    "        C[row, col] = tmp\n",
    "\n",
    "# Initializing the data arrays\n",
    "A = np.ones((24,12))\n",
    "B = np.ones((12,22))\n",
    "C = np.zeros((24,22))\n",
    "cuda.synchronize()\n",
    "\n",
    "# Configuring the blocks\n",
    "threadsperblock = (12,11)\n",
    "blockspergrid_x = int(math.ceil(24 / threadsperblock[0]))\n",
    "blockspergrid_y = int(math.ceil(22 / threadsperblock[0]))\n",
    "blockspergrid = (blockspergrid_x, blockspergrid_y)\n",
    "\n",
    "A_dev = cuda.to_device(A)\n",
    "B_dev = cuda.to_device(B)\n",
    "C_dev = cuda.to_device(C)\n",
    "#Calculating the function\n",
    "matmul[blockspergrid, threadsperblock](A_dev,B_dev,C_dev)\n",
    "print(C_dev.copy_to_host())\n",
    "cuda.synchronize()"
   ]
  },
  {
   "cell_type": "code",
   "execution_count": null,
   "metadata": {
    "id": "w-wdw0Xl5jWi"
   },
   "outputs": [],
   "source": []
  }
 ],
 "metadata": {
  "accelerator": "GPU",
  "colab": {
   "collapsed_sections": [],
   "name": "09ex_Numba.ipynb",
   "provenance": []
  },
  "kernelspec": {
   "display_name": "Python 3",
   "language": "python",
   "name": "python3"
  },
  "language_info": {
   "codemirror_mode": {
    "name": "ipython",
    "version": 3
   },
   "file_extension": ".py",
   "mimetype": "text/x-python",
   "name": "python",
   "nbconvert_exporter": "python",
   "pygments_lexer": "ipython3",
   "version": "3.8.6"
  }
 },
 "nbformat": 4,
 "nbformat_minor": 1
}
