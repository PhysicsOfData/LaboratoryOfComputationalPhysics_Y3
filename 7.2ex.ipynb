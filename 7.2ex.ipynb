{
 "cells": [
  {
   "cell_type": "markdown",
   "metadata": {},
   "source": [
    "#### 1. Maximum wind speed prediction at the Sprogø station\n",
    "\n",
    "The exercise goal is to predict the maximum wind speed occurring every 50 years even if no measure exists for such a period. The available data are only measured over 21 years at the Sprogø meteorological station located in Denmark.\n",
    "\n",
    "The annual maxima are supposed to fit a normal probability density function. However such function is not going to be estimated because it gives a probability from a wind speed maxima. Finding the maximum wind speed occurring every 50 years requires the opposite approach, the result needs to be found from a defined probability. That is the quantile function role and the exercise goal will be to find it. In the current model, it is supposed that the maximum wind speed occurring every 50 years is defined as the upper 2% quantile.\n",
    "\n",
    "By definition, the quantile function is the inverse of the cumulative distribution function. The latter describes the probability distribution of an annual maxima. In the exercise, the cumulative probability $p_i$ for a given year i is defined as $p_i = i/(N+1)$ with $N = 21$, the number of measured years. Thus it will be possible to calculate the cumulative probability of every measured wind speed maxima. From those experimental points, the scipy.interpolate module will be very useful for fitting the quantile function. Finally the 50 years maxima is going to be evaluated from the cumulative probability of the 2% quantile.\n",
    "\n",
    "Practically, load the dataset:"
   ]
  },
  {
   "cell_type": "code",
   "execution_count": 20,
   "metadata": {},
   "outputs": [],
   "source": [
    "import numpy as np\n",
    "import matplotlib.pyplot as plt\n",
    "max_speeds = np.load('max-speeds.npy')\n",
    "years_nb = max_speeds.shape[0]"
   ]
  },
  {
   "cell_type": "markdown",
   "metadata": {},
   "source": [
    "* Compute then the cumulative probability $p_i$ (cprob) and sort the maximum speeds from the data. Use then the UnivariateSpline from scipy.interpolate to define a quantile function and thus estimate the probabilities.\n",
    "\n",
    "In the current model, the maximum wind speed occurring every 50 years is defined as the upper 2% quantile. As a result, the cumulative probability value will be:\n",
    "\n",
    "*fifty_prob = 1. - 0.02*\n",
    "\n",
    "So the storm wind speed occurring every 50 years can be guessed as:\n",
    "\n",
    "*fifty_wind = quantile_func(fifty_prob)*"
   ]
  },
  {
   "cell_type": "code",
   "execution_count": 21,
   "metadata": {},
   "outputs": [
    {
     "name": "stdout",
     "output_type": "stream",
     "text": [
      "[0.04545455 0.09090909 0.13636364 0.18181819 0.22727273 0.27272728\n",
      " 0.3181818  0.36363637 0.4090909  0.45454547 0.5        0.54545456\n",
      " 0.59090906 0.6363636  0.6818182  0.72727275 0.77272725 0.8181818\n",
      " 0.8636364  0.90909094 0.95454544] \n",
      "\n",
      " [22.46 23.2  23.34 23.85 24.16 25.28 25.79 26.19 26.37 26.65 26.65 26.68\n",
      " 26.73 26.75 26.76 27.93 28.09 28.79 29.75 30.19 32.97]\n",
      "\n",
      " [20.70806946 23.32215738 24.888302   25.72991656 26.17041434 26.53320858\n",
      " 27.14171256 28.31933953 30.38950275 33.67561548]\n"
     ]
    }
   ],
   "source": [
    "cprob = (np.arange(years_nb, dtype=np.float32) + 1)/(years_nb + 1)\n",
    "sorted_max_speeds = np.sort(max_speeds)\n",
    "print (cprob,'\\n\\n',sorted_max_speeds )\n",
    "\n",
    "\n",
    "from scipy.interpolate import UnivariateSpline\n",
    "quantile_func = UnivariateSpline(cprob, sorted_max_speeds)\n",
    "nprob = np.linspace(0, 1, 10)\n",
    "fitted_max_speeds = quantile_func(nprob)\n",
    "print ('\\n',fitted_max_speeds )\n",
    "\n",
    "fit_speeds = quantile_func(nprob)"
   ]
  },
  {
   "cell_type": "markdown",
   "metadata": {},
   "source": [
    "In the current model, the maximum wind speed occurring every 50 years is defined as the upper 2% quantile. As a result, the cumulative probability value will be:"
   ]
  },
  {
   "cell_type": "code",
   "execution_count": 22,
   "metadata": {},
   "outputs": [],
   "source": [
    "fifty_prob = 1. - 0.02"
   ]
  },
  {
   "cell_type": "markdown",
   "metadata": {},
   "source": [
    "So the storm wind speed occurring every 50 years can be guessed as:"
   ]
  },
  {
   "cell_type": "code",
   "execution_count": 23,
   "metadata": {},
   "outputs": [
    {
     "name": "stdout",
     "output_type": "stream",
     "text": [
      "32.97989825386221\n"
     ]
    }
   ],
   "source": [
    "fifty_wind = quantile_func(fifty_prob)\n",
    "print (fifty_wind)"
   ]
  },
  {
   "cell_type": "code",
   "execution_count": 24,
   "metadata": {},
   "outputs": [
    {
     "data": {
      "image/png": "[encoded data removed]",
      "text/plain": [
       "<Figure size 864x432 with 1 Axes>"
      ]
     },
     "metadata": {
      "needs_background": "light"
     },
     "output_type": "display_data"
    }
   ],
   "source": [
    "fig, (ax1) = plt.subplots(figsize=(12, 6))\n",
    "plt.scatter(sorted_max_speeds,cprob,marker='o', color='orange', label='Measured cumulative probabilities')\n",
    "plt.plot(fit_speeds,nprob,label='Fitted quantile function')\n",
    "#plt.plot(fifty_wind,fifty_prob)\n",
    "plt.axvline(fifty_wind,color='black')\n",
    "plt.axhline(fifty_prob,color='black')\n",
    "ax1.set_ylabel('Cumulative probability')\n",
    "ax1.set_xlabel('Wind speed maxima')\n",
    "ax1.set_title('')\n",
    "ax1.legend()\n",
    "plt.show()"
   ]
  },
  {
   "cell_type": "markdown",
   "metadata": {},
   "source": [
    "#### 2. Curve fitting of temperature in Alaska\n",
    "\n",
    "The temperature extremes in Alaska for each month, starting in January, are given by (in degrees Celcius):\n",
    "\n",
    "max: 17, 19, 21, 28, 33, 38, 37, 37, 31, 23, 19, 18\n",
    "\n",
    "min: -62, -59, -56, -46, -32, -18, -9, -13, -25, -46, -52, -58\n",
    "\n",
    "* Plot these temperature extremes.\n",
    "* Define a function that can describe min and max temperatures.\n",
    "* Fit this function to the data with scipy.optimize.curve_fit().\n",
    "* Plot the result. Is the fit reasonable? If not, why?\n",
    "* Is the time offset for min and max temperatures the same within the fit accuracy?"
   ]
  },
  {
   "cell_type": "code",
   "execution_count": 25,
   "metadata": {},
   "outputs": [
    {
     "ename": "NameError",
     "evalue": "name 'months' is not defined",
     "output_type": "error",
     "traceback": [
      "\u001b[1;31m---------------------------------------------------------------------------\u001b[0m",
      "\u001b[1;31mNameError\u001b[0m                                 Traceback (most recent call last)",
      "\u001b[1;32m<ipython-input-25-3d6e26ee9f3b>\u001b[0m in \u001b[0;36m<module>\u001b[1;34m\u001b[0m\n\u001b[0;32m      5\u001b[0m \u001b[1;32mimport\u001b[0m \u001b[0mmatplotlib\u001b[0m\u001b[1;33m.\u001b[0m\u001b[0mpyplot\u001b[0m \u001b[1;32mas\u001b[0m \u001b[0mplt\u001b[0m\u001b[1;33m\u001b[0m\u001b[1;33m\u001b[0m\u001b[0m\n\u001b[0;32m      6\u001b[0m \u001b[0mmonth\u001b[0m \u001b[1;33m=\u001b[0m \u001b[0mnp\u001b[0m\u001b[1;33m.\u001b[0m\u001b[0marange\u001b[0m\u001b[1;33m(\u001b[0m\u001b[1;36m12\u001b[0m\u001b[1;33m)\u001b[0m\u001b[1;33m\u001b[0m\u001b[1;33m\u001b[0m\u001b[0m\n\u001b[1;32m----> 7\u001b[1;33m \u001b[0mplt\u001b[0m\u001b[1;33m.\u001b[0m\u001b[0mplot\u001b[0m\u001b[1;33m(\u001b[0m\u001b[0mmonths\u001b[0m\u001b[1;33m,\u001b[0m \u001b[0mtemp_max\u001b[0m\u001b[1;33m,\u001b[0m \u001b[1;34m'ro'\u001b[0m\u001b[1;33m)\u001b[0m\u001b[1;33m\u001b[0m\u001b[1;33m\u001b[0m\u001b[0m\n\u001b[0m\u001b[0;32m      8\u001b[0m \u001b[0mplt\u001b[0m\u001b[1;33m.\u001b[0m\u001b[0mplot\u001b[0m\u001b[1;33m(\u001b[0m\u001b[0mmonths\u001b[0m\u001b[1;33m,\u001b[0m \u001b[0mtemp_min\u001b[0m\u001b[1;33m,\u001b[0m \u001b[1;34m'bo'\u001b[0m\u001b[1;33m)\u001b[0m\u001b[1;33m\u001b[0m\u001b[1;33m\u001b[0m\u001b[0m\n\u001b[0;32m      9\u001b[0m \u001b[0mplt\u001b[0m\u001b[1;33m.\u001b[0m\u001b[0mxlabel\u001b[0m\u001b[1;33m(\u001b[0m\u001b[1;34m'Month'\u001b[0m\u001b[1;33m)\u001b[0m\u001b[1;33m\u001b[0m\u001b[1;33m\u001b[0m\u001b[0m\n",
      "\u001b[1;31mNameError\u001b[0m: name 'months' is not defined"
     ]
    }
   ],
   "source": [
    "#Plot these temperature extremes.\n",
    "temp_max = np.array([17,  19,  21,  28,  33,  38, 37,  37,  31,  23,  19,  18])\n",
    "temp_min = np.array([-62, -59, -56, -46, -32, -18, -9, -13, -25, -46, -52, -58])\n",
    "\n",
    "import matplotlib.pyplot as plt\n",
    "month = np.arange(12)\n",
    "plt.plot(months, temp_max, 'ro')\n",
    "plt.plot(months, temp_min, 'bo')\n",
    "plt.xlabel('Month')\n",
    "plt.ylabel('Min and max temperature')"
   ]
  },
  {
   "cell_type": "code",
   "execution_count": null,
   "metadata": {},
   "outputs": [],
   "source": []
  },
  {
   "cell_type": "code",
   "execution_count": null,
   "metadata": {},
   "outputs": [],
   "source": [
    "Months =['January','February','March','April','May','June','July','August','September','October','November','December']\n",
    "temp_max = np.array([17,  19,  21,  28,  33,  38, 37,  37,  31,  23,  19,  18])\n",
    "temp_min = np.array([-62, -59, -56, -46, -32, -18, -9, -13, -25, -46, -52, -58])\n",
    "fig, (ax1) = plt.subplots(figsize=(15, 8))\n",
    "plt.plot(Months,temp_max, label='Maximum temperatures', marker='o',color='red')\n",
    "plt.plot(Months,temp_min, label='Minimum temperatures', marker='*',color='blue')\n",
    "ax1.set_ylabel('Temperature [°C]')\n",
    "ax1.set_xlabel('Months')\n",
    "ax1.set_title('Temperature extremes in Alaska for each month')\n",
    "ax1.legend()\n",
    "plt.show()"
   ]
  },
  {
   "cell_type": "code",
   "execution_count": null,
   "metadata": {},
   "outputs": [],
   "source": []
  },
  {
   "cell_type": "code",
   "execution_count": null,
   "metadata": {},
   "outputs": [],
   "source": [
    "#Define a function that can describe min and max temperatures.\n",
    "\n",
    "from scipy import optimize\n",
    "\n",
    "def min_max_temps(times, avg, ampl, time_offset):\n",
    "    return (avg + ampl * np.cos((times + time_offset) * 2 * np.pi / times.max()))\n",
    "\n",
    "#Fit this function to the data with scipy.optimize.curve_fit().\n",
    "res_max, cov_max = optimize.curve_fit(min_max_temps, month, temp_max, [30, 20, 5])\n",
    "res_min, cov_min = optimize.curve_fit(min_max_temps, month, temp_min, [-50, 25, 0])"
   ]
  },
  {
   "cell_type": "code",
   "execution_count": null,
   "metadata": {},
   "outputs": [],
   "source": [
    "#Plot the result. Is the fit reasonable? If not, why?\n",
    "\n",
    "days = np.linspace(0, 12, num=365)\n",
    "\n",
    "plt.figure()\n",
    "plt.subplots(figsize=(15, 8))\n",
    "plt.plot(months, temp_max, 'ro')\n",
    "plt.plot(days, min_max_temps(days, *res_max), 'r-')\n",
    "plt.plot(months, temp_min, 'bo')\n",
    "plt.plot(days, min_max_temps(days, *res_min), 'b-')\n",
    "plt.xlabel('Month')\n",
    "plt.ylabel('Temperature ($^\\circ$C)')\n",
    "\n",
    "plt.show()\n",
    "\n",
    "print(\"time offset for maximum temperatures: %.2f\" % res_max[1],\"\\ntime offset for minimum temperatures: %.2f\" % res_min[1])\n"
   ]
  },
  {
   "cell_type": "markdown",
   "metadata": {},
   "source": [
    "#### 3. 2D minimization of a six-hump camelback function\n",
    "\n",
    "$$\n",
    "f(x,y) = \\left(4-2.1x^2+\\frac{x^4}{3} \\right) x^2 +xy + (4y^2 -4)y^2\n",
    "$$\n",
    "has multiple global and local minima. Find the global minima of this function.\n",
    "\n",
    "Hints:\n",
    "\n",
    "* Variables can be restricted to $-2 < x < 2$ and $-1 < y < 1$.\n",
    "* Use numpy.meshgrid() and pylab.imshow() to find visually the regions.\n",
    "* Use scipy.optimize.minimize(), optionally trying out several of its methods.\n",
    "\n",
    "How many global minima are there, and what is the function value at those points? What happens for an initial guess of $(x, y) = (0, 0)$ ?"
   ]
  },
  {
   "cell_type": "code",
   "execution_count": null,
   "metadata": {
    "scrolled": true
   },
   "outputs": [],
   "source": [
    "def sixhump(x):\n",
    "    return ((4 - 2.1*x[0]**2 + x[0]**4 / 3.) * x[0]**2 + x[0] * x[1] + (-4 + 4*x[1]**2) * x[1] **2)\n",
    "\n",
    "x = np.linspace(-2., 2., 1000, endpoint=True)\n",
    "y = np.linspace(-1., 1., 1000, endpoint=True)\n",
    "xg, yg = np.meshgrid(x, y, sparse=True)\n",
    "z = sixhump([xg,yg])\n",
    "\n",
    "\n",
    "from scipy import optimize\n",
    "\n",
    "x_min = optimize.minimize(sixhump, x0=[0, 0])\n",
    "plt.figure()\n",
    "plt.imshow(sixhump([xg, yg]), extent=[-2, 2, -1, 1], origin=\"lower\")\n",
    "plt.colorbar()\n",
    "plt.scatter(x_min.x[0], x_min.x[1])\n",
    "plt.show()"
   ]
  },
  {
   "cell_type": "code",
   "execution_count": null,
   "metadata": {},
   "outputs": [],
   "source": [
    "#(0,0) initial value\n",
    "from scipy import optimize\n",
    "\n",
    "methods =['Nelder-Mead','Powell','CG','BFGS','L-BFGS-B','TNC','COBYLA','SLSQP','trust-constr']\n",
    "zero_zero_methods = [optimize.minimize(sixhump, (-2.,1.), method=i) for i in methods]\n",
    "\n",
    "for i in range(len(methods)):\n",
    "    if zero_zero_methods[i]['success']==True:\n",
    "        print(methods[i],zero_zero_methods[i]['success'],zero_zero_methods[i]['x'])\n",
    "    else:\n",
    "        print(methods[i],zero_zero_methods[i]['success'])    "
   ]
  },
  {
   "cell_type": "markdown",
   "metadata": {},
   "source": [
    "#### 4. FFT of a simple dataset\n",
    "\n",
    "Performe a periodicity analysis on the lynxs-hares population"
   ]
  },
  {
   "cell_type": "code",
   "execution_count": null,
   "metadata": {},
   "outputs": [],
   "source": [
    "from scipy import fftpack\n",
    "\n",
    "population_data = np.loadtxt('populations.txt',skiprows=0)\n",
    "population_data\n",
    "#  year hare lynx carrot"
   ]
  },
  {
   "cell_type": "code",
   "execution_count": null,
   "metadata": {},
   "outputs": [],
   "source": [
    "years   = population_data[:,0].astype(int)\n",
    "hares   = population_data[:,1]\n",
    "lynxes  = population_data[:,2]\n",
    "carrots = population_data[:,3]\n",
    "\n",
    "plt.plot(years,hares,'.-',label='Hares')\n",
    "plt.plot(years,lynxes,'.-',label='Lynxes')\n",
    "plt.plot(years,carrots,'.-',label='Carrots')\n",
    "\n",
    "plt.xlabel('Year')\n",
    "plt.ylabel('Population')\n",
    "\n",
    "plt.ticklabel_format(axis='y', style='sci', scilimits=(4,4))\n",
    "plt.locator_params(axis='x', nbins=8)        #I have to use this to avoid floats  in the xlabel (didn´t found a smarter way)\n",
    "plt.legend()\n",
    "plt.show()\n",
    "\n",
    "h_mean = np.mean(hares)\n",
    "l_mean = np.mean(lynxes)\n",
    "c_mean = np.mean(carrots)"
   ]
  },
  {
   "cell_type": "markdown",
   "metadata": {},
   "source": [
    "#### 5. FFT of an image\n",
    "\n",
    "\n",
    "* Examine the provided image moonlanding.png, which is heavily contaminated with periodic noise. In this exercise, we aim to clean up the noise using the Fast Fourier Transform.\n",
    "* Load the image using pylab.imread().\n",
    "* Find and use the 2-D FFT function in scipy.fftpack, and plot the spectrum (Fourier transform of) the image. Do you have any trouble visualising the spectrum? If so, why?\n",
    "* The spectrum consists of high and low frequency components. The noise is contained in the high-frequency part of the spectrum, so set some of those components to zero (use array slicing).\n",
    "* Apply the inverse Fourier transform to see the resulting image."
   ]
  },
  {
   "cell_type": "code",
   "execution_count": null,
   "metadata": {},
   "outputs": [],
   "source": [
    "import numpy as np\n",
    "import matplotlib.pyplot as plt\n",
    "from matplotlib.colors import LogNorm\n",
    "\n",
    "plt.figure(figsize=(14, 7))\n",
    "im = plt.imread('moonlanding.png').astype(float)\n",
    "\n",
    "plt.figure()\n",
    "plt.imshow(im, plt.cm.gray)\n",
    "plt.title('Moon landing image')"
   ]
  },
  {
   "cell_type": "code",
   "execution_count": null,
   "metadata": {},
   "outputs": [],
   "source": [
    "from scipy import fftpack\n",
    "im_fft = fftpack.fft2(im)\n",
    "\n",
    "# Show the results\n",
    "plt.figure(figsize=(14, 7))\n",
    "plt.imshow(im_fft.real)\n",
    "plt.colorbar()\n",
    "plt.show()"
   ]
  },
  {
   "cell_type": "code",
   "execution_count": null,
   "metadata": {},
   "outputs": [],
   "source": [
    "plt.figure(figsize=(14, 7))\n",
    "plt.imshow(np.abs(im_fft), norm=LogNorm(vmin=5))\n",
    "plt.colorbar()\n",
    "plt.show()\n"
   ]
  },
  {
   "cell_type": "code",
   "execution_count": null,
   "metadata": {},
   "outputs": [],
   "source": [
    "def plot_spectrum(im_fft):\n",
    "    from matplotlib.colors import LogNorm\n",
    "    # A logarithmic colormap\n",
    "    plt.imshow(np.abs(im_fft), norm=LogNorm(vmin=5))\n",
    "    plt.colorbar()\n",
    "\n",
    "plt.figure()\n",
    "plot_spectrum(im_fft)\n",
    "plt.title('Fourier transform')"
   ]
  },
  {
   "cell_type": "code",
   "execution_count": null,
   "metadata": {},
   "outputs": [],
   "source": [
    "k = 0.1\n",
    "im_fft2 = im_fft.copy()\n",
    "r, c = im_fft2.shape\n",
    "im_fft2[int(r*k):int(r*(1-k))] = 0\n",
    "im_fft2[:, int(c*k):int(c*(1-k))] = 0\n",
    "\n",
    "plt.figure()\n",
    "plot_spectrum(im_fft2)\n",
    "plt.title('Filtered Spectrum')"
   ]
  },
  {
   "cell_type": "code",
   "execution_count": null,
   "metadata": {},
   "outputs": [],
   "source": [
    "im_new = fftpack.ifft2(im_fft2).real\n",
    "plt.figure()\n",
    "plt.imshow(im_new, plt.cm.gray)\n",
    "plt.title('Reconstructed Image')"
   ]
  }
 ],
 "metadata": {
  "kernelspec": {
   "display_name": "Python 3",
   "language": "python",
   "name": "python3"
  },
  "language_info": {
   "codemirror_mode": {
    "name": "ipython",
    "version": 3
   },
   "file_extension": ".py",
   "mimetype": "text/x-python",
   "name": "python",
   "nbconvert_exporter": "python",
   "pygments_lexer": "ipython3",
   "version": "3.8.3"
  }
 },
 "nbformat": 4,
 "nbformat_minor": 4
}
