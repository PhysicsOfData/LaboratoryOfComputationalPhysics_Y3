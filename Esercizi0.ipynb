{
 "cells": [
  {
   "cell_type": "markdown",
   "metadata": {},
   "source": [
    "1. The MickeyMouse problem\n",
    "\n",
    "a) Write a program that prints the numbers from 1 to 100. But for multiples of three print Mickey instead of the number and for the multiples of five print Mouse. For numbers which are multiples of both three and five print MickeyMouse\n",
    "\n",
    "b) Put the result in a tuple and substitute Mickey with Donald and Mouse with Duck"
   ]
  },
  {
   "cell_type": "code",
<<<<<<< HEAD
   "execution_count": 9,
=======
   "execution_count": 1,
>>>>>>> c06c32fecfcb6c61a661023d9a7cd4e70dbac6a6
   "metadata": {
    "scrolled": true
   },
   "outputs": [
    {
     "name": "stdout",
     "output_type": "stream",
     "text": [
      "(1, 2, 'Mickey', 4, 'Mouse', 'Mickey', 7, 8, 'Mickey', 'Mouse', 11, 'Mickey', 13, 14, 'MickeyMouse', 16, 17, 'Mickey', 19, 'Mouse', 'Mickey', 22, 23, 'Mickey', 'Mouse', 26, 'Mickey', 28, 29, 'MickeyMouse', 31, 32, 'Mickey', 34, 'Mouse', 'Mickey', 37, 38, 'Mickey', 'Mouse', 41, 'Mickey', 43, 44, 'MickeyMouse', 46, 47, 'Mickey', 49, 'Mouse', 'Mickey', 52, 53, 'Mickey', 'Mouse', 56, 'Mickey', 58, 59, 'MickeyMouse', 61, 62, 'Mickey', 64, 'Mouse', 'Mickey', 67, 68, 'Mickey', 'Mouse', 71, 'Mickey', 73, 74, 'MickeyMouse', 76, 77, 'Mickey', 79, 'Mouse', 'Mickey', 82, 83, 'Mickey', 'Mouse', 86, 'Mickey', 88, 89, 'MickeyMouse', 91, 92, 'Mickey', 94, 'Mouse', 'Mickey', 97, 98, 'Mickey', 'Mouse')\n",
      "============================\n",
      "(1, 2, 'Donald', 4, 'Duck', 'Donald', 7, 8, 'Donald', 'Duck', 11, 'Donald', 13, 14, 'MickeyMouse', 16, 17, 'Donald', 19, 'Duck', 'Donald', 22, 23, 'Donald', 'Duck', 26, 'Donald', 28, 29, 'MickeyMouse', 31, 32, 'Donald', 34, 'Duck', 'Donald', 37, 38, 'Donald', 'Duck', 41, 'Donald', 43, 44, 'MickeyMouse', 46, 47, 'Donald', 49, 'Duck', 'Donald', 52, 53, 'Donald', 'Duck', 56, 'Donald', 58, 59, 'MickeyMouse', 61, 62, 'Donald', 64, 'Duck', 'Donald', 67, 68, 'Donald', 'Duck', 71, 'Donald', 73, 74, 'MickeyMouse', 76, 77, 'Donald', 79, 'Duck', 'Donald', 82, 83, 'Donald', 'Duck', 86, 'Donald', 88, 89, 'MickeyMouse', 91, 92, 'Donald', 94, 'Duck', 'Donald', 97, 98, 'Donald', 'Duck')\n"
     ]
    }
   ],
   "source": [
    "#Function telling us if b can divide a correctly\n",
    "def bool_div (a,b):\n",
    "    r = a % b\n",
    "    if(r==0): return 1\n",
    "    else: return 0\n",
    "\n",
    "lista = []\n",
    "    \n",
    "for x in range(1, 101, 1):\n",
    "    if(bool_div(x,3) and bool_div(x,5)): \n",
    "        lista.append(\"MickeyMouse\")\n",
    "    elif(bool_div(x,3)):  \n",
    "        lista.append(\"Mickey\")\n",
    "    elif(bool_div(x,5)):  \n",
    "        lista.append(\"Mouse\")\n",
    "    else: \n",
    "        lista.append(x)\n",
    "        \n",
    "        \n",
    "lista1 = tuple(lista)  \n",
    "print(lista1)\n",
    "\n",
    "size = len(lista)\n",
    "\n",
    "for x in range(0, size, 1):\n",
    "    if (lista[x]==\"Mickey\"):\n",
    "        lista[x]=\"Donald\"\n",
    "    elif(lista[x]==\"Mouse\"):\n",
    "        lista[x]=\"Duck\"\n",
    "    \n",
    "print(\"============================\")\n",
    "lista2 = tuple(lista)\n",
    "print(lista2)\n"
   ]
  },
  {
   "cell_type": "markdown",
   "metadata": {},
   "source": [
    "2\\. The swap function\n",
    "\n",
    "Write a function that swap the values of two input variables x and y (whatever the type). Try to do that also without a temporary variable"
   ]
  },
  {
   "cell_type": "code",
<<<<<<< HEAD
   "execution_count": 10,
=======
   "execution_count": 2,
>>>>>>> c06c32fecfcb6c61a661023d9a7cd4e70dbac6a6
   "metadata": {},
   "outputs": [
    {
     "name": "stdout",
     "output_type": "stream",
     "text": [
      "1\n",
      "2\n"
     ]
    }
   ],
   "source": [
    "def swap1 (x,y):\n",
    "    t=x\n",
    "    x=y\n",
    "    y=t\n",
    "    return x,y\n",
    "\n",
    "def swap2 (x,y):\n",
    "    return y,x\n",
    "\n",
    "a=2\n",
    "b=1\n",
    "\n",
    "a,b = swap1(a,b)\n",
    "print(a)\n",
    "a,b = swap2(a,b)\n",
    "print(a)\n"
   ]
  },
  {
   "cell_type": "markdown",
   "metadata": {},
   "source": [
    "3\\. Computing the distance\n",
    "\n",
    "Write a function that calculates and returns the euclidean distance between two points *u* and *v*, where *u* and *v* are both 2-tuples *(x,y)*. For example, if *u=(3,0)* and *v=(0,4)*, the function should return 5"
   ]
  },
  {
   "cell_type": "code",
   "execution_count": 11,
   "metadata": {},
   "outputs": [
    {
     "name": "stdout",
     "output_type": "stream",
     "text": [
      "5.0\n"
     ]
    }
   ],
   "source": [
    "import math  \n",
    "\n",
    "def distance (u,v):\n",
    "    return math.sqrt( pow(u[0]-v[0],2) + pow(u[1]-v[1],2) )\n",
    "\n",
    "a = (3,0)\n",
    "b = (0,4)\n",
    "\n",
    "print( distance(a,b) )"
   ]
  },
  {
   "cell_type": "markdown",
   "metadata": {},
   "source": [
    "4\\. Counting letters\n",
    "\n",
    "Write a program to calculate the number of times each character occurs in a given string *s*. Ignore differneces in capitalization"
   ]
  },
  {
   "cell_type": "code",
   "execution_count": 79,
   "metadata": {},
   "outputs": [
    {
     "name": "stdout",
     "output_type": "stream",
     "text": [
      "a  or  A  count is  7\n",
      "b  or  B  count is  5\n",
      "c  or  C  count is  3\n",
      "d  or  D  count is  3\n",
      "e  or  E  count is  22\n",
      "f  or  F  count is  10\n",
      "g  or  G  count is  1\n",
      "h  or  H  count is  9\n",
      "i  or  I  count is  14\n",
      "j  or  J  count is  0\n",
      "k  or  K  count is  2\n",
      "l  or  L  count is  6\n",
      "m  or  M  count is  12\n",
      "n  or  N  count is  10\n",
      "o  or  O  count is  13\n",
      "p  or  P  count is  8\n",
      "q  or  Q  count is  0\n",
      "r  or  R  count is  17\n",
      "s  or  S  count is  9\n",
      "t  or  T  count is  19\n",
      "u  or  U  count is  9\n",
      "v  or  V  count is  2\n",
      "w  or  W  count is  2\n",
      "x  or  X  count is  0\n",
      "y  or  Y  count is  2\n",
      "z  or  Z  count is  0\n"
     ]
    }
   ],
   "source": [
    "s=\"Write a program that prints the numbers from 1 to 100. \\\n",
    "But for multiples of three print Mickey instead of the number and for the multiples of five print Mouse. \\\n",
    "For numbers which are multiples of both three and five print MickeyMouse\"\n",
    "\n",
    "alfabeto_min = ['a', 'b', 'c', 'd', 'e', 'f', 'g', 'h', 'i', 'j', 'k', 'l', 'm', 'n', 'o', 'p', 'q', 'r', 's', 't', 'u', 'v', 'w', 'x', 'y', 'z']\n",
    "alfabeto_cap = ['A', 'B', 'C', 'D', 'E', 'F', 'G', 'H', 'I', 'J', 'K', 'L', 'M', 'N', 'O', 'P', 'Q', 'R', 'S', 'T', 'U', 'V', 'W', 'X', 'Y', 'Z']\n",
    " \n",
    "sizeA = len(alfabeto_min)\n",
    "sizeS = len(s)\n",
    "\n",
    "count_min = [0] * sizeA    #!!!\n",
    "count_cap = [0] * sizeA  \n",
    "\n",
    "for iS in range(0, sizeS, 1):\n",
    "    for iA in range(0, sizeA, 1):\n",
    "        if (s[iS]==alfabeto_min[iA]): count_min[iA] = count_min[iA] + 1\n",
    "        if (s[iS]==alfabeto_cap[iA]): count_cap[iA] = count_cap[iA] + 1\n",
    "            \n",
    "for iA in range(0, sizeA, 1):\n",
    "        print (alfabeto_min[iA], \" or \", alfabeto_cap[iA] , \" count is \", count_min[iA] + count_cap[iA]) \n"
   ]
  },
  {
   "cell_type": "markdown",
   "metadata": {},
   "source": [
    "5\\. Isolating the unique\n",
    "\n",
    "Write a function that determines and count the unique numbers in the list *l*"
   ]
  },
  {
   "cell_type": "code",
   "execution_count": 3,
   "metadata": {},
   "outputs": [
    {
     "name": "stdout",
     "output_type": "stream",
     "text": [
      "There are  37  unique numbers and they are:\n",
      "[58, 74, 96, 64, 10, 24, 19, 33, 86, 99, 18, 47, 88, 55, 54, 8, 79, 81, 57, 37, 1, 9, 95, 90, 98, 39, 16, 82, 92, 41, 30, 94, 5, 72, 87, 75, 53]\n"
     ]
    }
   ],
   "source": [
    "l = [36, 45, 58, 3, 74, 96, 64, 45, 31, 10, 24, 19, 33, 86, 99, 18, 63, 70, 85,\n",
    " 85, 63, 47, 56, 42, 70, 84, 88, 55, 20, 54, 8, 56, 51, 79, 81, 57, 37, 91,\n",
    " 1, 84, 84, 36, 66, 9, 89, 50, 42, 91, 50, 95, 90, 98, 39, 16, 82, 31, 92, 41,\n",
    " 45, 30, 66, 70, 34, 85, 94, 5, 3, 36, 72, 91, 84, 34, 87, 75, 53, 51, 20, 89, 51, 20]\n",
    "\n",
    "size = len(l)\n",
    "\n",
    "unique_numbers = []\n",
    "\n",
    "for i in range(0,size,1):\n",
    "    count = 0\n",
    "    x=l[i]\n",
    "    for j in range(0,size,1):\n",
    "        if ( x == l[j] ): count = count + 1\n",
    "    if ( count == 1 ): unique_numbers.append(x)       \n",
    "\n",
    "sizeU = len(unique_numbers)\n",
    "print(\"There are \", sizeU , \" unique numbers and they are:\")\n",
    "print(unique_numbers)\n",
    "    "
   ]
  },
  {
   "cell_type": "markdown",
   "metadata": {},
   "source": [
    "6\\. Combination of functions\n",
    "\n",
    "Write two functions - one that returns the square of a number, and one that returns the cube. Now write a third function that returns the number raised to the 6th power using the two previous functions."
   ]
  },
  {
   "cell_type": "code",
   "execution_count": 87,
   "metadata": {},
   "outputs": [
    {
     "name": "stdout",
     "output_type": "stream",
     "text": [
      "4 8 64\n"
     ]
    }
   ],
   "source": [
    "def square(x):\n",
    "    return x*x\n",
    "\n",
    "def cube(x):\n",
    "    return x*x*x\n",
    "\n",
    "def pow6(x):\n",
    "    return square(cube(x))\n",
    "\n",
    "y = 2\n",
    "print(square(y),cube(y),pow6(y))"
   ]
  },
  {
   "cell_type": "markdown",
   "metadata": {},
   "source": [
    "7\\. Cubes\n",
    "\n",
    "Create a list of the cubes of x for x in *[0, 10]* using:\n",
    "\n",
    "a) a for loop\n",
    "\n",
    "b) a list comprehension"
   ]
  },
  {
   "cell_type": "code",
   "execution_count": 5,
   "metadata": {},
   "outputs": [
    {
     "name": "stdout",
     "output_type": "stream",
     "text": [
      "[0, 1, 8, 27, 64, 125, 216, 343, 512, 729, 1000]\n",
      "[0, 1, 8, 27, 64, 125, 216, 343, 512, 729, 1000]\n"
     ]
    }
   ],
   "source": [
    "def cube(x):\n",
    "    return x*x*x\n",
    "\n",
    "list1 = []\n",
    "list2 = []\n",
    "\n",
    "for i in range(0,11,1):\n",
    "    list1.append(cube(i))\n",
    "    \n",
    "list2 = [cube(i) for i in range(11)]\n",
    "\n",
    "print(list1)\n",
    "print(list2)\n",
    "    "
   ]
  },
  {
   "cell_type": "markdown",
   "metadata": {},
   "source": [
    "8\\. Nested list comprehension\n",
    "\n",
    "A Pythagorean triple is an integer solution to the Pythagorean theorem $a^2+b^2=c^2$. The first Pythagorean triple is (3,4,5). Find and put in a tuple all unique Pythagorean triples for the positive integers a, b and c less than 100."
   ]
  },
  {
   "cell_type": "code",
   "execution_count": 8,
   "metadata": {
    "scrolled": true
   },
   "outputs": [
    {
     "name": "stdout",
     "output_type": "stream",
     "text": [
      "Chose a number, possibly 100: 100\n",
      "Pythagorean triple with element less than  100  are:\n",
      "[[3, 4, 5], [5, 12, 13], [6, 8, 10], [7, 24, 25], [8, 15, 17], [9, 12, 15], [9, 40, 41], [10, 24, 26], [11, 60, 61], [12, 16, 20], [12, 35, 37], [13, 84, 85], [14, 48, 50], [15, 20, 25], [15, 36, 39], [16, 30, 34], [16, 63, 65], [18, 24, 30], [18, 80, 82], [20, 21, 29], [20, 48, 52], [21, 28, 35], [21, 72, 75], [24, 32, 40], [24, 45, 51], [24, 70, 74], [25, 60, 65], [27, 36, 45], [28, 45, 53], [30, 40, 50], [30, 72, 78], [32, 60, 68], [33, 44, 55], [33, 56, 65], [35, 84, 91], [36, 48, 60], [36, 77, 85], [39, 52, 65], [39, 80, 89], [40, 42, 58], [40, 75, 85], [42, 56, 70], [45, 60, 75], [48, 55, 73], [48, 64, 80], [51, 68, 85], [54, 72, 90], [57, 76, 95], [60, 63, 87], [65, 72, 97]]\n"
     ]
    }
   ],
   "source": [
    "nb = input(\"Chose a number, possibly 100: \")\n",
    "N = int(nb)\n",
    "\n",
    "triple_list = []\n",
    "\n",
    "for a in range(1,N,1):\n",
    "    for b in range(1,N,1):\n",
    "        for c in range(1,N,1):\n",
    "            if(a*a+b*b==c*c and a<b):         #a<b to avoid symmetrical couple\n",
    "                triple = [a,b,c]\n",
    "                triple_list.append(triple)\n",
    "        \n",
    "print(\"Pythagorean triple with element less than \", N , \" are:\")\n",
    "print(triple_list)"
   ]
  },
  {
   "cell_type": "markdown",
   "metadata": {},
   "source": [
    "9\\. Normalization\n",
    "\n",
    "Write a function that takes a tuple of numbers and returns it with the entries normalized to one"
   ]
  },
  {
   "cell_type": "code",
   "execution_count": 13,
   "metadata": {},
   "outputs": [
    {
     "name": "stdout",
     "output_type": "stream",
     "text": [
      "[0.1, 1.2, 0.675, 0.22, 0.32]\n",
      "[0.039761431411530816, 0.47713717693836977, 0.268389662027833, 0.08747514910536779, 0.1272365805168986]\n"
     ]
    }
   ],
   "source": [
    "def find_tot (L):\n",
    "    size = len(L)\n",
    "    tot = 0\n",
    "    for i in range(0,size,1):\n",
    "        tot = tot + L[i]\n",
    "    \n",
    "    return tot\n",
    "\n",
    "def norm (L):\n",
    "    nL = []\n",
    "    max = find_tot(L)\n",
    "    size = len(L)\n",
    "    for i in range(0,size,1):\n",
    "        nL.append(L[i]/max)\n",
    "        \n",
    "    return nL\n",
    "\n",
    "\n",
    "test = [0.1, 1.2, 0.675, 0.22, 0.32]\n",
    "\n",
    "result = norm(test)\n",
    "\n",
    "print(test)\n",
    "print(result)\n",
    "    \n",
    "        \n"
   ]
  },
  {
   "cell_type": "code",
   "execution_count": null,
   "metadata": {},
   "outputs": [],
   "source": []
  },
  {
   "cell_type": "code",
   "execution_count": null,
   "metadata": {},
   "outputs": [],
   "source": []
  }
 ],
 "metadata": {
  "kernelspec": {
   "display_name": "Python 3",
   "language": "python",
   "name": "python3"
  },
  "language_info": {
   "codemirror_mode": {
    "name": "ipython",
    "version": 3
   },
   "file_extension": ".py",
   "mimetype": "text/x-python",
   "name": "python",
   "nbconvert_exporter": "python",
   "pygments_lexer": "ipython3",
   "version": "3.8.3"
  }
 },
 "nbformat": 4,
 "nbformat_minor": 2
}
