{
 "cells": [
  {
   "cell_type": "code",
   "execution_count": 1,
   "metadata": {},
   "outputs": [
    {
     "name": "stdout",
     "output_type": "stream",
     "text": [
      "[(0, 0), (0, 1), (0, 2), (0, 3), (1, 0), (1, 1), (1, 2), (1, 3), (2, 0), (2, 1), (2, 2), (2, 3)]\n",
      "[0, 4, 16]\n"
     ]
    }
   ],
   "source": [
    "ans = []\n",
    "for i in range(3):\n",
    "    ([ans.append((i,j)) for j in range(4)])\n",
    "     \n",
    "      \n",
    "print ans\n",
    " \n",
    "# 2\n",
    "ans = map(lambda x: x*x, filter(lambda x: x%2 == 0, range(5)))\n",
    "print (list(ans))\n"
   ]
  },
  {
   "cell_type": "code",
   "execution_count": 2,
   "metadata": {},
   "outputs": [
    {
     "name": "stdout",
     "output_type": "stream",
     "text": [
      "[1, 2, 3, 0, 1, 2, 3, 4]\n",
      "[1, 2, 3]\n"
     ]
    }
   ],
   "source": [
    "x = 5\n",
    "def f(alist):\n",
    "    for i in range(x):\n",
    "         alist = alist + [i] \n",
    "    return alist\n",
    "\n",
    "alist = [1,2,3]\n",
    "ans = f(alist)\n",
    "print (ans)\n",
    "print (alist) # alist has been changed!\n"
   ]
  },
  {
   "cell_type": "code",
   "execution_count": 3,
   "metadata": {},
   "outputs": [
    {
     "name": "stdout",
     "output_type": "stream",
     "text": [
      "24\n"
     ]
    }
   ],
   "source": [
    "\n",
    "z=1\n",
    "def factorial(x):\n",
    "    for i in range (1,x+1):\n",
    "        global z\n",
    "        k= z*i\n",
    "        z=k\n",
    "        \n",
    "        \n",
    "y=4\n",
    "factorial(y)\n",
    "print z\n"
   ]
  },
  {
   "cell_type": "code",
   "execution_count": 4,
   "metadata": {},
   "outputs": [
    {
     "name": "stdout",
     "output_type": "stream",
     "text": [
      "6\n"
     ]
    }
   ],
   "source": [
    "def factorial(n):\n",
    "   if n == 1:\n",
    "       return n\n",
    "   else:\n",
    "       return n*factorial(n-1)\n",
    "\n",
    "print factorial (3)\n",
    "\n",
    "    "
   ]
  },
  {
   "cell_type": "code",
   "execution_count": 5,
   "metadata": {},
   "outputs": [
    {
     "name": "stdout",
     "output_type": "stream",
     "text": [
      "i have 3 Dogs\n",
      "Larry is 9\n",
      "Tom is 6\n",
      "Fletcher is 7\n",
      "My dogs are not hungry\n"
     ]
    }
   ],
   "source": [
    "i=0\n",
    "class Dog:\n",
    "\n",
    "    # Class attribute\n",
    "    species = 'mammal'\n",
    "    \n",
    "\n",
    "    # Initializer / Instance attributes\n",
    "    def __init__(self, name, age):\n",
    "        self.name = name\n",
    "        self.age = age\n",
    "        self.is_hungry = True\n",
    "        global i\n",
    "        i += 1\n",
    "    # instance method\n",
    "    \n",
    "    def eat(self):\n",
    "        self.is_hungry = False\n",
    "         \n",
    "    def description(self):\n",
    "        \n",
    "        return \"{} is {} years old\".format(self.name, self.age)\n",
    "\n",
    "    \n",
    "def feed(x):\n",
    "    x.eat()\n",
    "    \n",
    "# Child class (inherits from Dog class)\n",
    "class RussellTerrier(Dog):\n",
    "    def run(self, speed):\n",
    "        return \"{} runs {}\".format(self.name, speed)\n",
    "\n",
    "# Child class (inherits from Dog class)\n",
    "class Bulldog(Dog):\n",
    "    def run(self, speed):\n",
    "        return \"{} runs {}\".format(self.name, speed)\n",
    "    \n",
    "\n",
    "    \n",
    "puppy1=Dog(\"Larry\",9)\n",
    "feed(puppy1)\n",
    "puppy2=Dog(\"Tom\",6)\n",
    "feed(puppy2)\n",
    "puppy3=Dog(\"Fletcher\",7)\n",
    "feed(puppy3)\n",
    "print 'i have',i,'Dogs'\n",
    "print puppy1.name,'is',puppy1.age\n",
    "print puppy2.name,'is',puppy2.age\n",
    "print puppy3.name,'is',puppy3.age\n",
    "\n",
    "if puppy1.is_hungry==False and puppy2.is_hungry==False and puppy3.is_hungry==False :\n",
    "    print 'My dogs are not hungry'\n",
    "else:\n",
    "    print 'My dogs are hungry.'\n",
    "    "
   ]
  },
  {
   "cell_type": "code",
   "execution_count": 7,
   "metadata": {},
   "outputs": [
    {
     "name": "stdout",
     "output_type": "stream",
     "text": [
      "3.14\n",
      "1.57\n",
      "8.3524\n",
      "37.68\n",
      "25.12\n",
      "167.048\n",
      "282.6\n",
      "282.6\n",
      "3382.722\n"
     ]
    }
   ],
   "source": [
    "circumference = lambda z : z*2*3.14\n",
    "area = lambda z : z*z*0.5*3.14\n",
    "volume = lambda z : z*z*z*3.14*1.33\n",
    "\n",
    "\n",
    "Al=[0.5,1,2]\n",
    "Fe=[3,4,5]\n",
    "Pb =[15,20,30]\n",
    "radii = [1,2,3]\n",
    "\n",
    "list=[Al,Fe,Pb]\n",
    "for x,y in zip (list,radii):\n",
    "    print x[0]*circumference(y)\n",
    "    print x[1]*area(y)\n",
    "    print x[2]*volume(y)\n",
    "\n",
    "\n",
    "\n"
   ]
  },
  {
   "cell_type": "code",
   "execution_count": null,
   "metadata": {},
   "outputs": [],
   "source": []
  }
 ],
 "metadata": {
  "kernelspec": {
   "display_name": "Python 2",
   "language": "python",
   "name": "python2"
  },
  "language_info": {
   "codemirror_mode": {
    "name": "ipython",
    "version": 2
   },
   "file_extension": ".py",
   "mimetype": "text/x-python",
   "name": "python",
   "nbconvert_exporter": "python",
   "pygments_lexer": "ipython2",
   "version": "2.7.15"
  }
 },
 "nbformat": 4,
 "nbformat_minor": 2
}
