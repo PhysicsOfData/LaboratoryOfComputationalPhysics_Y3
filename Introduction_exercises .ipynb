{
 "cells": [
  {
   "cell_type": "code",
   "execution_count": 2,
   "metadata": {},
   "outputs": [
    {
     "name": "stdout",
     "output_type": "stream",
     "text": [
      "1\n",
      "2\n",
      "Mickey\n",
      "4\n",
      "Mouse\n",
      "Mickey\n",
      "7\n",
      "8\n",
      "Mickey\n",
      "Mouse\n",
      "11\n",
      "Mickey\n",
      "13\n",
      "14\n",
      "MickeyMouse\n",
      "16\n",
      "17\n",
      "Mickey\n",
      "19\n",
      "Mouse\n",
      "Mickey\n",
      "22\n",
      "23\n",
      "Mickey\n",
      "Mouse\n",
      "26\n",
      "Mickey\n",
      "28\n",
      "29\n",
      "MickeyMouse\n",
      "31\n",
      "32\n",
      "Mickey\n",
      "34\n",
      "Mouse\n",
      "Mickey\n",
      "37\n",
      "38\n",
      "Mickey\n",
      "Mouse\n",
      "41\n",
      "Mickey\n",
      "43\n",
      "44\n",
      "MickeyMouse\n",
      "46\n",
      "47\n",
      "Mickey\n",
      "49\n",
      "Mouse\n",
      "Mickey\n",
      "52\n",
      "53\n",
      "Mickey\n",
      "Mouse\n",
      "56\n",
      "Mickey\n",
      "58\n",
      "59\n",
      "MickeyMouse\n",
      "61\n",
      "62\n",
      "Mickey\n",
      "64\n",
      "Mouse\n",
      "Mickey\n",
      "67\n",
      "68\n",
      "Mickey\n",
      "Mouse\n",
      "71\n",
      "Mickey\n",
      "73\n",
      "74\n",
      "MickeyMouse\n",
      "76\n",
      "77\n",
      "Mickey\n",
      "79\n",
      "Mouse\n",
      "Mickey\n",
      "82\n",
      "83\n",
      "Mickey\n",
      "Mouse\n",
      "86\n",
      "Mickey\n",
      "88\n",
      "89\n",
      "MickeyMouse\n",
      "91\n",
      "92\n",
      "Mickey\n",
      "94\n",
      "Mouse\n",
      "Mickey\n",
      "97\n",
      "98\n",
      "Mickey\n",
      "Mouse\n"
     ]
    }
   ],
   "source": [
    "for i in range(1,101): \n",
    "    if i % 3 == 0 and i % 5 != 0:\n",
    "     print('Mickey')\n",
    "    elif i % 5 ==0 and i % 3 != 0:\n",
    "     print('Mouse')\n",
    "    elif i % 5 ==0 and i % 3==0:\n",
    "        print('MickeyMouse')\n",
    "    else :\n",
    "     print(i)"
   ]
  },
  {
   "cell_type": "code",
   "execution_count": 2,
   "metadata": {},
   "outputs": [
    {
     "name": "stdout",
     "output_type": "stream",
     "text": [
      "(5, 4)\n",
      "('c++', 'python')\n"
     ]
    }
   ],
   "source": [
    "def swap_function(a,b):\n",
    "    c=a\n",
    "    a=b\n",
    "    b=c\n",
    "    print (a,b)\n",
    "     \n",
    "swap_function(4,5)\n",
    "swap_function('python','c++')\n",
    "\n",
    "\n"
   ]
  },
  {
   "cell_type": "code",
   "execution_count": 3,
   "metadata": {},
   "outputs": [
    {
     "name": "stdout",
     "output_type": "stream",
     "text": [
      "5.0\n"
     ]
    }
   ],
   "source": [
    "def distance_function(r,t):\n",
    "    k = r[0]-t[0]\n",
    "    l = r[1]-t[1]\n",
    "    d = pow ((k*k+l*l),0.5)\n",
    "    print(d)\n",
    "    \n",
    "    \n",
    "u=(3,0)\n",
    "v=(0,4)\n",
    "\n",
    "distance_function(u,v)\n",
    "\n"
   ]
  },
  {
   "cell_type": "code",
   "execution_count": 12,
   "metadata": {},
   "outputs": [
    {
     "name": "stdout",
     "output_type": "stream",
     "text": [
      "but is written = 1 times\n"
     ]
    }
   ],
   "source": [
    "def count(j,g):\n",
    "    g.lower()\n",
    "    j.lower()\n",
    "    print g, \"is written =\" ,j.count(g), \"times\"\n",
    "\n",
    "\n",
    "s=\"Write a program that prints the numbers from 1 to 100. \\\n",
    "But for multiples of three print Mickey instead of the number and for the multiples of five print Mouse. \\\n",
    "For numbers which are multiples of both three and five print MickeyMouse\"\n",
    "count(s.lower(),'but')\n"
   ]
  },
  {
   "cell_type": "code",
   "execution_count": 5,
   "metadata": {},
   "outputs": [
    {
     "name": "stdout",
     "output_type": "stream",
     "text": [
      "there are 37 unique numbers that are : [58, 74, 96, 64, 10, 24, 19, 33, 86, 99, 18, 47, 88, 55, 54, 8, 79, 81, 57, 37, 1, 9, 95, 90, 98, 39, 16, 82, 92, 41, 30, 94, 5, 72, 87, 75, 53]\n"
     ]
    }
   ],
   "source": [
    "def unique (t):\n",
    "    \n",
    "    for i in range (0,len(t)):\n",
    "        if t.count(t[i]) == 1 :\n",
    "           nn.append(t[i])\n",
    "    print \"there are\" , len(nn), \"unique numbers that are :\" , nn , \n",
    "    \n",
    "l = [36, 45, 58, 3, 74, 96, 64, 45, 31, 10, 24, 19, 33, 86, 99, 18, 63, 70, 85, \\\n",
    " 85, 63, 47, 56, 42, 70, 84, 88, 55, 20, 54, 8, 56, 51, 79, 81, 57, 37, 91,\\\n",
    " 1, 84, 84, 36, 66, 9, 89, 50, 42, 91, 50, 95, 90, 98, 39, 16, 82, 31, 92, 41,\\\n",
    " 45, 30, 66, 70, 34, 85, 94, 5, 3, 36, 72, 91, 84, 34, 87, 75, 53, 51, 20, 89, 51, 20]\n",
    "nn=[]\n",
    "unique(l)"
   ]
  },
  {
   "cell_type": "code",
   "execution_count": 6,
   "metadata": {},
   "outputs": [
    {
     "name": "stdout",
     "output_type": "stream",
     "text": [
      "4 8 64\n"
     ]
    }
   ],
   "source": [
    "def squerpowerx (x):\n",
    "    return x*x\n",
    "def cubicpowerx (x):\n",
    "    return squerpowerx(x)*x\n",
    "def sixthpowerx (x):\n",
    "    return squerpowerx(x)*cubicpowerx(x)*x\n",
    "\n",
    "x=2\n",
    "print squerpowerx(x),cubicpowerx(x),sixthpowerx(x)\n",
    "\n",
    "\n"
   ]
  },
  {
   "cell_type": "code",
   "execution_count": 7,
   "metadata": {},
   "outputs": [
    {
     "name": "stdout",
     "output_type": "stream",
     "text": [
      "[0, 1, 8, 27, 64, 125, 216, 343, 512, 729, 1000]\n",
      "[0, 1, 8, 27, 64, 125, 216, 343, 512, 729, 1000]\n"
     ]
    }
   ],
   "source": [
    "a=[]\n",
    "for x in range(0,11):\n",
    "    a.append(pow(x,3))\n",
    "    \n",
    "print a   \n",
    "\n",
    "cubic= [n**3 for n in range(11)]\n",
    "print cubic\n"
   ]
  },
  {
   "cell_type": "code",
   "execution_count": 8,
   "metadata": {},
   "outputs": [
    {
     "name": "stdout",
     "output_type": "stream",
     "text": [
      "3 4 5.0\n",
      "5 12 13.0\n",
      "6 8 10.0\n",
      "7 24 25.0\n",
      "8 15 17.0\n",
      "9 12 15.0\n",
      "9 40 41.0\n",
      "10 24 26.0\n",
      "11 60 61.0\n",
      "12 16 20.0\n",
      "12 35 37.0\n",
      "13 84 85.0\n",
      "14 48 50.0\n",
      "15 36 39.0\n",
      "16 30 34.0\n",
      "16 63 65.0\n",
      "18 24 30.0\n",
      "18 80 82.0\n",
      "20 21 29.0\n",
      "20 48 52.0\n",
      "21 28 35.0\n",
      "21 72 75.0\n",
      "24 32 40.0\n",
      "24 45 51.0\n",
      "24 70 74.0\n",
      "27 36 45.0\n",
      "28 45 53.0\n",
      "28 96 100.0\n",
      "30 72 78.0\n",
      "32 60 68.0\n",
      "33 44 55.0\n",
      "35 84 91.0\n",
      "36 48 60.0\n",
      "39 80 89.0\n"
     ]
    }
   ],
   "source": [
    "z =[]\n",
    "m =[]\n",
    "for x in range (1,100):\n",
    "    for y in range (1,100):\n",
    "        s = pow ((x*x+y*y),0.5)\n",
    "        if s % 1 == 0 and s <= 100 :\n",
    "            if z.count(s) == 0 :\n",
    "                z.append(s)\n",
    "                m.append(x)\n",
    "                m.append(y)\n",
    "                m.append(s)\n",
    "for h in range (0,100,3):\n",
    "    print m[h] , m[h+1] , m[h+2] \n",
    "\n",
    "\n",
    "\n"
   ]
  },
  {
   "cell_type": "code",
   "execution_count": 9,
   "metadata": {},
   "outputs": [
    {
     "name": "stdout",
     "output_type": "stream",
     "text": [
      "0.5\n",
      "0.5\n",
      "0.5\n",
      "0.5\n"
     ]
    }
   ],
   "source": [
    "def normal(f):\n",
    "    z=0\n",
    "    for i in range (0,len(f)):\n",
    "        z += pow(f[i],2)\n",
    "    for j in range (0,len(f)):\n",
    "        f[j]= f[j]/(pow(z,0.5))\n",
    "    for k in range (0,len(f)):\n",
    "        print f[k]\n",
    "    \n",
    "l = [1,1,1,1]\n",
    "normal(l)"
   ]
  },
  {
   "cell_type": "code",
   "execution_count": null,
   "metadata": {},
   "outputs": [],
   "source": []
  }
 ],
 "metadata": {
  "kernelspec": {
   "display_name": "Python 2",
   "language": "python",
   "name": "python2"
  },
  "language_info": {
   "codemirror_mode": {
    "name": "ipython",
    "version": 2
   },
   "file_extension": ".py",
   "mimetype": "text/x-python",
   "name": "python",
   "nbconvert_exporter": "python",
   "pygments_lexer": "ipython2",
   "version": "2.7.15"
  }
 },
 "nbformat": 4,
 "nbformat_minor": 2
}
