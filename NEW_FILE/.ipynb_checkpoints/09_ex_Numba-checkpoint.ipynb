{
 "cells": [
  {
   "cell_type": "markdown",
   "metadata": {},
   "source": [
    "## Exercise 1\n",
    "\n",
    "Create a vectorized version of log and exp math function for 1D array A = [2, 5, 10, 3, 8]\n",
    "\n",
    "Results should be: \n",
    "+ [0.6931472 1.609438  2.3025851 1.0986123 2.0794415]\n",
    "+ [7.3890562e+00 1.4841316e+02 2.2026465e+04 2.0085537e+01 2.9809580e+03]"
   ]
  },
  {
   "cell_type": "code",
   "execution_count": 1,
   "metadata": {},
   "outputs": [],
   "source": [
    "import os\n",
    "import numpy as np\n",
    "import math\n",
    "import matplotlib.pyplot as plt\n",
    "os.environ[\"NUMBA_ENABLE_CUDASIM\"] = \"1\"\n",
    "from numba import jit, njit, vectorize, cuda"
   ]
  },
  {
   "cell_type": "code",
   "execution_count": 2,
   "metadata": {},
   "outputs": [
    {
     "name": "stdout",
     "output_type": "stream",
     "text": [
      "[0.6931472 1.609438  2.3025851 1.0986123 2.0794415]\n",
      "[7.3890562e+00 1.4841316e+02 2.2026465e+04 2.0085537e+01 2.9809580e+03]\n"
     ]
    }
   ],
   "source": [
    "import numpy as np\n",
    "from numba import vectorize\n",
    "\n",
    "@vectorize()\n",
    "def vec_log(x):\n",
    "    return np.log(x)\n",
    "\n",
    "@vectorize()\n",
    "def vec_exp(x):\n",
    "    return np.exp(x)\n",
    "\n",
    "A = np.array([2,5,10,3,8]).astype(np.float32)\n",
    "print(vec_log(A))\n",
    "print(vec_exp(A))\n"
   ]
  },
  {
   "cell_type": "markdown",
   "metadata": {},
   "source": [
    "## Exerice 2\n",
    "Compute the value of a Gaussian probability density function at $x$ with $mean = 1$, $\\sigma = 1$, lower and upper bound in $(-3, 3)$ and $size = 100000$"
   ]
  },
  {
   "cell_type": "code",
   "execution_count": 3,
   "metadata": {},
   "outputs": [
    {
     "data": {
      "text/plain": [
       "array([0.00084088, 0.00084108, 0.00084128, ..., 0.33931662, 0.33927601,\n",
       "       0.33923525])"
      ]
     },
     "execution_count": 3,
     "metadata": {},
     "output_type": "execute_result"
    }
   ],
   "source": [
    "import numpy as np\n",
    "import math \n",
    "#from scipy.stats import norm\n",
    "from numba import jit\n",
    "\n",
    "@jit(nopython=True) \n",
    "def gauss_pdf(x,mu,sigma):\n",
    "    return (1/sigma*np.sqrt(2*np.pi))*(np.exp(-0.5*((x-mu)/sigma)**2))\n",
    "\n",
    "x = np.linspace(-3,3,100000).astype(np.float32)\n",
    "gauss_pdf(x,1,1)"
   ]
  },
  {
   "cell_type": "markdown",
   "metadata": {},
   "source": [
    "## Exercise 3\n",
    "\n",
    "Create a \"zero suppression\" function. A common operation when working with waveforms is to force all samples values below a certain absolute magnitude to be zero, as a way to eliminate low amplitude noise. \n",
    "Plot the data before and after the application of the zero_suppress function.\n",
    "\n",
    "$thresold = 15$"
   ]
  },
  {
   "cell_type": "code",
   "execution_count": 4,
   "metadata": {},
   "outputs": [
    {
     "data": {
      "text/plain": [
       "Text(0.5, 1.0, 'With Zero suppression')"
      ]
     },
     "execution_count": 4,
     "metadata": {},
     "output_type": "execute_result"
    },
    {
     "data": {
      "image/png": "[encoded data removed]",
      "text/plain": [
       "<Figure size 720x288 with 2 Axes>"
      ]
     },
     "metadata": {
      "needs_background": "light"
     },
     "output_type": "display_data"
    }
   ],
   "source": [
    "import matplotlib.pyplot as plt\n",
    "import numpy as np\n",
    "threshold = 15\n",
    "n = 100000\n",
    "noise = np.random.normal(size=n) * 3\n",
    "pulses = np.maximum(np.sin(np.arange(n) / (n / 23)) - 0.3, 0.0)\n",
    "data = ((pulses * 300) + noise).astype(np.int16)\n",
    "\n",
    "from numba import jit\n",
    "@jit \n",
    "def supp_data(threshold,data):\n",
    "    x = np.where(data<threshold,data,0)\n",
    "    return x\n",
    "    \n",
    "fig = plt.figure(figsize=(10,4))\n",
    "\n",
    "plt.subplot(1,2,1)\n",
    "plt.plot(data)\n",
    "plt.title(\"Without Zero suppression\")\n",
    "\n",
    "plt.subplot(1,2,2)\n",
    "plt.plot(supp_data(threshold,data))\n",
    "plt.title(\"With Zero suppression\")\n"
   ]
  },
  {
   "cell_type": "code",
   "execution_count": 5,
   "metadata": {},
   "outputs": [
    {
     "name": "stdout",
     "output_type": "stream",
     "text": [
      "[1 2 3 0 0 0]\n"
     ]
    }
   ],
   "source": [
    "import numpy as np\n",
    "a = np.array([1,2,3,4,5,6])\n",
    "print(np.where(a<4,a,0))"
   ]
  },
  {
   "cell_type": "markdown",
   "metadata": {},
   "source": [
    "## Exercise 4\n",
    "\n",
    "Calculate the Sigmoid kernel between the matrix X and Y defined as below. The Sigmoid kernel is defined as:\n",
    "\n",
    "$k(x,y) = \\tanh(\\alpha x^T y + c) $"
   ]
  },
  {
   "cell_type": "code",
   "execution_count": 6,
   "metadata": {},
   "outputs": [
    {
     "name": "stdout",
     "output_type": "stream",
     "text": [
      "[[0.60797095 0.64049468 0.60376235]\n",
      " [0.67773201 0.65699874 0.68862212]\n",
      " [0.56658585 0.55345794 0.54563078]]\n"
     ]
    }
   ],
   "source": [
    "import numpy as np\n",
    "import math\n",
    "from numba import jit, cuda\n",
    "np.random.seed(1)\n",
    "X = np.random.rand(3,3)\n",
    "Y = np.random.rand(3,3)\n",
    "\n",
    "@jit(nopython=True)\n",
    "def k(matrix1,matrix2):\n",
    "    res = np.array([[0 for x in range(3)] for y in range(3)]).astype(np.float64)  \n",
    "  \n",
    "    # explicit for loops \n",
    "    for i in range(len(matrix1)): \n",
    "        for j in range(len(matrix2[0])): \n",
    "            for k in range(len(matrix2)): \n",
    "\n",
    "                # resulted matrix \n",
    "                res[i][j] += matrix1[i][k] * matrix2[k][j]\n",
    "            res[i][j] = math.tanh(alpha*res[i][j]+c)\n",
    "    return res  \n",
    "\n",
    "alpha = 0.5\n",
    "c = 0.5\n",
    "X = X.T\n",
    "\n",
    "print(k(X,Y))\n"
   ]
  },
  {
   "cell_type": "markdown",
   "metadata": {},
   "source": [
    "## Exercise 5\n",
    "\n",
    "Create a kernel function similar to the ```double_kernel``` see during the lecture and create a new function that takes a 3 dimensional matrix as input calculating the $cos$ for each element and then returns the result. The shape of the matrix must be $256X256X256$. The matrix can be randomly generated"
   ]
  },
  {
   "cell_type": "code",
   "execution_count": null,
   "metadata": {},
   "outputs": [],
   "source": [
    "from numba import cuda, jit\n",
    "import numpy\n",
    "import math\n",
    "\n",
    "# CUDA kernel\n",
    "@cuda.jit()\n",
    "def kernel_3D(io_array):\n",
    "    x,y,z = cuda.grid(3)\n",
    "    if x < io_array.shape[0] and y < io_array.shape[1] and z < io_array.shape[2]:\n",
    "        io_array[x][y][z] = np.cos(io_array[x][y][z]) # do the computation\n",
    "\n",
    "# Host code   \n",
    "data = numpy.random.random((256,256,256))\n",
    "\n",
    "# Configure the blocks\n",
    "threadsperblock = (64,64,64) #ThreadsPerBlock must be a divisor of the data dimension: 256/(16x4x4) = 1\n",
    "blockspergrid_x = int(math.ceil(data.shape[0] / threadsperblock[0]))\n",
    "blockspergrid_y = int(math.ceil(data.shape[1] / threadsperblock[1]))\n",
    "blockspergrid_z = int(math.ceil(data.shape[2] / threadsperblock[2]))\n",
    "\n",
    "blockspergrid = (blockspergrid_x, blockspergrid_y, blockspergrid_z)\n",
    "\n",
    "kernel_3D[blockspergrid, threadsperblock](data)\n",
    "print(data)"
   ]
  },
  {
   "cell_type": "markdown",
   "metadata": {},
   "source": [
    "## Exercise 6\n",
    "\n",
    "Create a matrix multiplication kernel function, called ```matmul``` that takes as input two 2D matrices:\n",
    "+ A of shape $24x12$\n",
    "+ B of shape $12x22$\n",
    "and that computes the multiplication and put the results into a third matrix C of shape $24x12$\n",
    "\n",
    "A and B must be randomly generated and only int values are allowed.\n"
   ]
  },
  {
   "cell_type": "code",
   "execution_count": 9,
   "metadata": {},
   "outputs": [
    {
     "name": "stdout",
     "output_type": "stream",
     "text": [
      "[[144. 144. 144. 144. 144. 144. 144. 144. 144. 144. 144. 144. 144. 144.\n",
      "  144. 144. 144. 144. 144. 144. 144. 144.]\n",
      " [144. 144. 144. 144. 144. 144. 144. 144. 144. 144. 144. 144. 144. 144.\n",
      "  144. 144. 144. 144. 144. 144. 144. 144.]\n",
      " [144. 144. 144. 144. 144. 144. 144. 144. 144. 144. 144. 144. 144. 144.\n",
      "  144. 144. 144. 144. 144. 144. 144. 144.]\n",
      " [144. 144. 144. 144. 144. 144. 144. 144. 144. 144. 144. 144. 144. 144.\n",
      "  144. 144. 144. 144. 144. 144. 144. 144.]\n",
      " [144. 144. 144. 144. 144. 144. 144. 144. 144. 144. 144. 144. 144. 144.\n",
      "  144. 144. 144. 144. 144. 144. 144. 144.]\n",
      " [144. 144. 144. 144. 144. 144. 144. 144. 144. 144. 144. 144. 144. 144.\n",
      "  144. 144. 144. 144. 144. 144. 144. 144.]\n",
      " [144. 144. 144. 144. 144. 144. 144. 144. 144. 144. 144. 144. 144. 144.\n",
      "  144. 144. 144. 144. 144. 144. 144. 144.]\n",
      " [144. 144. 144. 144. 144. 144. 144. 144. 144. 144. 144. 144. 144. 144.\n",
      "  144. 144. 144. 144. 144. 144. 144. 144.]\n",
      " [144. 144. 144. 144. 144. 144. 144. 144. 144. 144. 144. 144. 144. 144.\n",
      "  144. 144. 144. 144. 144. 144. 144. 144.]\n",
      " [144. 144. 144. 144. 144. 144. 144. 144. 144. 144. 144. 144. 144. 144.\n",
      "  144. 144. 144. 144. 144. 144. 144. 144.]\n",
      " [144. 144. 144. 144. 144. 144. 144. 144. 144. 144. 144. 144. 144. 144.\n",
      "  144. 144. 144. 144. 144. 144. 144. 144.]\n",
      " [144. 144. 144. 144. 144. 144. 144. 144. 144. 144. 144. 144. 144. 144.\n",
      "  144. 144. 144. 144. 144. 144. 144. 144.]\n",
      " [144. 144. 144. 144. 144. 144. 144. 144. 144. 144. 144. 144. 144. 144.\n",
      "  144. 144. 144. 144. 144. 144. 144. 144.]\n",
      " [144. 144. 144. 144. 144. 144. 144. 144. 144. 144. 144. 144. 144. 144.\n",
      "  144. 144. 144. 144. 144. 144. 144. 144.]\n",
      " [144. 144. 144. 144. 144. 144. 144. 144. 144. 144. 144. 144. 144. 144.\n",
      "  144. 144. 144. 144. 144. 144. 144. 144.]\n",
      " [144. 144. 144. 144. 144. 144. 144. 144. 144. 144. 144. 144. 144. 144.\n",
      "  144. 144. 144. 144. 144. 144. 144. 144.]\n",
      " [144. 144. 144. 144. 144. 144. 144. 144. 144. 144. 144. 144. 144. 144.\n",
      "  144. 144. 144. 144. 144. 144. 144. 144.]\n",
      " [144. 144. 144. 144. 144. 144. 144. 144. 144. 144. 144. 144. 144. 144.\n",
      "  144. 144. 144. 144. 144. 144. 144. 144.]\n",
      " [144. 144. 144. 144. 144. 144. 144. 144. 144. 144. 144. 144. 144. 144.\n",
      "  144. 144. 144. 144. 144. 144. 144. 144.]\n",
      " [144. 144. 144. 144. 144. 144. 144. 144. 144. 144. 144. 144. 144. 144.\n",
      "  144. 144. 144. 144. 144. 144. 144. 144.]\n",
      " [144. 144. 144. 144. 144. 144. 144. 144. 144. 144. 144. 144. 144. 144.\n",
      "  144. 144. 144. 144. 144. 144. 144. 144.]\n",
      " [144. 144. 144. 144. 144. 144. 144. 144. 144. 144. 144. 144. 144. 144.\n",
      "  144. 144. 144. 144. 144. 144. 144. 144.]\n",
      " [144. 144. 144. 144. 144. 144. 144. 144. 144. 144. 144. 144. 144. 144.\n",
      "  144. 144. 144. 144. 144. 144. 144. 144.]\n",
      " [144. 144. 144. 144. 144. 144. 144. 144. 144. 144. 144. 144. 144. 144.\n",
      "  144. 144. 144. 144. 144. 144. 144. 144.]]\n"
     ]
    }
   ],
   "source": [
    "from __future__ import division\n",
    "from numba import cuda\n",
    "import numpy\n",
    "import math\n",
    "\n",
    "# complete the code\n",
    "@cuda.jit\n",
    "def matmul(A, B, C):\n",
    "    \"\"\"Perform matrix multiplication of C = A * B\n",
    "    \"\"\"\n",
    "    row, col = cuda.grid(2)\n",
    "    if row < C.shape[0] and col < C.shape[1]:\n",
    "        tmp = 0.\n",
    "        for k in range(A.shape[1]):\n",
    "            tmp += A[row, k] * B[k, col]\n",
    "        C[row, col] = tmp\n",
    "\n",
    "\n",
    "# Initialize the data arrays\n",
    "A = numpy.full((24, 12), 3, numpy.float) # matrix containing all 3's\n",
    "B = numpy.full((12, 22), 4, numpy.float) # matrix containing all 4's\n",
    "\n",
    "# Copy the arrays to the device\n",
    "A_global_mem = cuda.to_device(A)\n",
    "B_global_mem = cuda.to_device(B)\n",
    "\n",
    "# Allocate memory on the device for the result\n",
    "C_global_mem = cuda.device_array((24, 22))\n",
    "\n",
    "# Configure the blocks\n",
    "threadsperblock = (16, 16)\n",
    "blockspergrid_x = int(math.ceil(A.shape[0] / threadsperblock[0]))\n",
    "blockspergrid_y = int(math.ceil(B.shape[1] / threadsperblock[1]))\n",
    "blockspergrid = (blockspergrid_x, blockspergrid_y)\n",
    "\n",
    "# Start the kernel \n",
    "matmul[blockspergrid, threadsperblock](A_global_mem, B_global_mem, C_global_mem)\n",
    "\n",
    "# Copy the result back to the host\n",
    "C = C_global_mem.copy_to_host()\n",
    "\n",
    "print(C)        \n",
    "\n"
   ]
  }
 ],
 "metadata": {
  "kernelspec": {
   "display_name": "Python 3",
   "language": "python",
   "name": "python3"
  },
  "language_info": {
   "codemirror_mode": {
    "name": "ipython",
    "version": 3
   },
   "file_extension": ".py",
   "mimetype": "text/x-python",
   "name": "python",
   "nbconvert_exporter": "python",
   "pygments_lexer": "ipython3",
   "version": "3.8.6"
  }
 },
 "nbformat": 4,
 "nbformat_minor": 2
}
