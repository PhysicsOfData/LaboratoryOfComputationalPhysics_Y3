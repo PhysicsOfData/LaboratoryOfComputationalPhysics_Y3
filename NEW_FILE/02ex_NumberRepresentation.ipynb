{
 "cells": [
  {
   "cell_type": "markdown",
   "metadata": {},
   "source": [
    "1\\. Write a function that converts number representation (bin<->dec<->hex)"
   ]
  },
  {
   "cell_type": "code",
   "execution_count": 1,
   "metadata": {},
   "outputs": [
    {
     "name": "stdout",
     "output_type": "stream",
     "text": [
      "The value 30 is decimal\n",
      "0b11110 30 is binary\n",
      "0x1e 30 is hexadeciaml\n",
      "30 = 0b11110 = 0x1e\n"
     ]
    }
   ],
   "source": [
    "x = 30\n",
    "x_bin = bin(x)\n",
    "x_hex = hex(x)\n",
    "\n",
    "print(\"The value\", x, \"is decimal\")\n",
    "\n",
    "print(x_bin,int(x_bin,2), \"is binary\")\n",
    "print(x_hex,int(x_hex,16), \"is hexadeciaml\")\n",
    "print(x, \"=\", x_bin, \"=\", x_hex)\n",
    "\n",
    "\n",
    "\n"
   ]
  },
  {
   "cell_type": "markdown",
   "metadata": {},
   "source": [
    "2\\. Write a function that converts a 32 bit word into a single precision floating point (i.e. interprets the various bits as sign, mantissa and exponent)"
   ]
  },
  {
   "cell_type": "code",
   "execution_count": 38,
   "metadata": {},
   "outputs": [
    {
     "name": "stdout",
     "output_type": "stream",
     "text": [
      "Binary equivalent of 28.75 is 01000001111001100000000000000000\n",
      "Decimal equivalent of 01000001111001100000000000000000 is 28.75\n",
      "Sign     ( 1 bit ) = 0\n",
      "Exponent ( 8 bits) = 10000011\n",
      "Mantissa (23 bits) = 11001100000000000000000\n"
     ]
    }
   ],
   "source": [
    "import struct\n",
    "\n",
    "def floatToBinary32(value):\n",
    "    return ''.join(f'{c:0>8b}' for c in struct.pack('!f', value))\n",
    "\n",
    "def binaryToFloat(value):\n",
    "    hx = hex(int(value, 2))   \n",
    "    return struct.unpack(\"f\", struct.pack(\"l\", int(hx, 16)))[0]\n",
    "\n",
    "# float to binary\n",
    "x = 28.75\n",
    "binstr = floatToBinary32(x)\n",
    "print(\"Binary equivalent of\", x, \"is\", binstr)\n",
    "\n",
    "# binary to float\n",
    "y = binaryToFloat(binstr)\n",
    "print(\"Decimal equivalent of\", binstr, \"is\", y)\n",
    "\n",
    "\n",
    "print(\"Sign     ( 1 bit ) =\", binstr[0])\n",
    "print(\"Exponent ( 8 bits) =\", binstr[1:9])\n",
    "print(\"Mantissa (23 bits) =\", binstr[9:])\n",
    "\n",
    "assert x == y"
   ]
  },
  {
   "cell_type": "markdown",
   "metadata": {},
   "source": [
    "3\\. Write a program to determine the underflow and overflow limits (within a factor of 2) for python on your computer. \n",
    "\n",
    "**Tips**: define two variables inizialized to 1 and halve/double them enough time to exceed the under/over-flow limits  "
   ]
  },
  {
   "cell_type": "code",
   "execution_count": 9,
   "metadata": {},
   "outputs": [
    {
     "name": "stdout",
     "output_type": "stream",
     "text": [
      "Overflow\n"
     ]
    }
   ],
   "source": [
    "import math as m\n",
    "\n",
    "def volume(radius, height): \n",
    "    return (m.pi * radius * radius * height) \n",
    "      \n",
    "def result( required_time, given_time): \n",
    "      \n",
    "    if required_time < given_time: \n",
    "        print( \"Overflow\") \n",
    "    elif required_time > given_time: \n",
    "        print(\"Underflow\") \n",
    "    else: \n",
    "        print(\"Filled\") \n",
    "        \n",
    "radius = 5\n",
    "height = 10 \n",
    "rate_of_flow = 1000\n",
    "          \n",
    "given_time = 10\n",
    "      \n",
    "required_time = volume(radius, height) /rate_of_flow \n",
    "      \n",
    "result(required_time, given_time) "
   ]
  },
  {
   "cell_type": "markdown",
   "metadata": {},
   "source": [
    "4\\. Write a program to determine the machine precision\n",
    "\n",
    "**Tips**: define a new variable by adding a smaller and smaller value (proceeding similarly to prob. 2) to an original variable and check the point where the two are the same "
   ]
  },
  {
   "cell_type": "code",
   "execution_count": 24,
   "metadata": {},
   "outputs": [
    {
     "name": "stdout",
     "output_type": "stream",
     "text": [
      "The value N for which they are the same is 999\n",
      "Minumum value 40.0\n"
     ]
    }
   ],
   "source": [
    "x = 25\n",
    "y = 30\n",
    "\n",
    "for i in range (1,1000):\n",
    "    y_new = y / 2\n",
    "    new = x + y_new\n",
    "    if new == 1:\n",
    "        break        \n",
    "value = new\n",
    "print(\"The value N for which they are the same is\", i)\n",
    "print(\"Minumum value\", value)"
   ]
  },
  {
   "cell_type": "markdown",
   "metadata": {},
   "source": [
    "5\\. Write a function that takes in input three parameters $a$, $b$ and $c$ and prints out the two solutions to the quadratic equation $ax^2+bx+c=0$ using the standard formula:\n",
    "$$\n",
    "x=\\frac{-b\\pm\\sqrt{b^2-4ac}}{2a}\n",
    "$$\n",
    "\n",
    "(a) use the program to compute the solution for $a=0.001$, $b=1000$ and $c=0.001$\n",
    "\n",
    "(b) re-express the standard solution formula by multiplying top and bottom by $-b\\mp\\sqrt{b^2-4ac}$ and again find the solution for $a=0.001$, $b=1000$ and $c=0.001$. How does it compare with what previously obtained? Why?\n",
    "\n",
    "(c) write a function that compute the roots of a quadratic equation accurately in all cases"
   ]
  },
  {
   "cell_type": "code",
   "execution_count": null,
   "metadata": {},
   "outputs": [],
   "source": [
    "#(a)\n",
    "from math import *\n",
    "a = 0.001\n",
    "b = 1000\n",
    "c = 0.001\n",
    "    \n",
    "x_1 = (-b + sqrt(b**2-4*a*c))/(2*a)\n",
    "x_2 = (-b - sqrt(b**2-4*a*c))/(2*a)\n",
    "\n",
    "print(\"The result for (a) is\", x_1)\n",
    "print(\"The result for (a) is\", x_2)\n",
    "\n",
    "#(b)\n",
    "\n",
    "x_3 = x_1 * (-b + sqrt(b**2-4*a*c))\n",
    "x_4 = x_2 * (-b - sqrt(b**2-4*a*c))\n",
    "\n",
    "print(\"The result for (b) is\", x_3)\n",
    "print(\"The result for (b) is\", x_4)\n",
    "\n",
    "#(c)\n",
    "\n",
    "r = b**2 - 4*a*c\n",
    "\n",
    "if r > 0:\n",
    "    num_roots = 2\n",
    "    x_1 = (((-b) + sqrt(r))/(2*a))     \n",
    "    x_2 = (((-b) - sqrt(r))/(2*a))\n",
    "    print(x_1)\n",
    "    print(x_2)\n",
    "elif r == 0:\n",
    "    num_roots = 1\n",
    "    x_5 = (-b) / 2*a\n",
    "    print(x_5)\n",
    "else:\n",
    "    num_roots = 0\n",
    "    print(\"Complex root\")\n",
    "\n",
    "\n"
   ]
  },
  {
   "cell_type": "markdown",
   "metadata": {},
   "source": [
    "6\\. Write a program that implements the function $f(x)=x(x−1)$\n",
    "\n",
    "(a) Calculate the derivative of the function at the point $x = 1$ using the derivative definition:\n",
    "\n",
    "$$\n",
    "\\frac{{\\rm d}f}{{\\rm d}x} = \\lim_{\\delta\\to0} \\frac{f(x+\\delta)-f(x)}{\\delta}\n",
    "$$\n",
    "\n",
    "with $\\delta = 10^{−2}$. Calculate the true value of the same derivative analytically and compare with the answer your program gives. The two will not agree perfectly. Why not?\n",
    "\n",
    "(b) Repeat the calculation for $\\delta = 10^{−4}, 10^{−6}, 10^{−8}, 10^{−10}, 10^{−12}$ and $10^{−14}$. How does the accuracy scales with $\\delta$?"
   ]
  },
  {
   "cell_type": "code",
   "execution_count": 53,
   "metadata": {},
   "outputs": [],
   "source": [
    "#(a)\n",
    "from math import *\n",
    "def f(x):\n",
    "    return x*(x-1)\n",
    "\n",
    "def derive(function, value):\n",
    "    delta = 10**(-2)\n",
    "    top = function(value + delta) - function(value)\n",
    "    bottom = delta\n",
    "    slope = top / bottom\n",
    "    return float(\"%.10f\" % slope)\n"
   ]
  },
  {
   "cell_type": "code",
   "execution_count": 54,
   "metadata": {},
   "outputs": [
    {
     "data": {
      "text/plain": [
       "1.01"
      ]
     },
     "execution_count": 54,
     "metadata": {},
     "output_type": "execute_result"
    }
   ],
   "source": [
    "derive(f, x)"
   ]
  },
  {
   "cell_type": "code",
   "execution_count": null,
   "metadata": {
    "scrolled": false
   },
   "outputs": [],
   "source": [
    "#(b)\n",
    "def f(x):\n",
    "    return x*(x-1)\n",
    "\n",
    "def derive(function, value):\n",
    "    delta = 10**(-14)\n",
    "    top = function(value + delta) - function(value)\n",
    "    bottom = delta\n",
    "    slope = top / bottom\n",
    "    return float(\"%.10f\" % slope)\n",
    "print(\"The accuracy is increase when 𝛿 is small\")\n"
   ]
  },
  {
   "cell_type": "code",
   "execution_count": null,
   "metadata": {},
   "outputs": [],
   "source": [
    "derive(f, x)"
   ]
  },
  {
   "cell_type": "markdown",
   "metadata": {},
   "source": [
    "7\\. Consider the integral of the semicircle of radius 1:\n",
    "$$\n",
    "I=\\int_{-1}^{1} \\sqrt(1-x^2) {\\rm d}x\n",
    "$$\n",
    "which it's known to be $I=\\frac{\\pi}{2}=1.57079632679...$.\n",
    "Alternatively we can use the Riemann definition of the integral:\n",
    "$$\n",
    "I=\\lim_{N\\to\\infty} \\sum_{k=1}^{N} h y_k \n",
    "$$\n",
    "\n",
    "with $h=2/N$ the width of each of the $N$ slices the domain is divided into and where\n",
    "$y_k$ is the value of the function at the $k-$th slice.\n",
    "\n",
    "(a) Write a programe to compute the integral with $N=100$. How does the result compares to the true value?\n",
    "\n",
    "(b) How much can $N$ be increased if the computation needs to be run in less than a second? What is the gain in running it for 1 minute? \n"
   ]
  },
  {
   "cell_type": "code",
   "execution_count": 14,
   "metadata": {},
   "outputs": [
    {
     "name": "stdout",
     "output_type": "stream",
     "text": [
      "The approximate integral is =  1.0593645031882941\n",
      "The result 1.0593645031882941 is not approximate with the real result 1.5707963267948966\n"
     ]
    }
   ],
   "source": [
    "#(a)\n",
    "from math import *\n",
    "def f(x):\n",
    "    return 1/(x**1.1)\n",
    "I = pi/2\n",
    "a = -1\n",
    "b = 1\n",
    "n = 100\n",
    "h = (b-a)/n\n",
    "\n",
    "i=0\n",
    "Area=0\n",
    "\n",
    "while (i<=(n+1)):\n",
    "    Area = f(b+h*i)*h + Area\n",
    "    i = i+1\n",
    "    \n",
    "print(\"The approximate integral is = \", Area)\n",
    "print(\"The result\", Area, \"is not approximate with the real result\", I)"
   ]
  }
 ],
 "metadata": {
  "kernelspec": {
   "display_name": "Python 3",
   "language": "python",
   "name": "python3"
  },
  "language_info": {
   "codemirror_mode": {
    "name": "ipython",
    "version": 3
   },
   "file_extension": ".py",
   "mimetype": "text/x-python",
   "name": "python",
   "nbconvert_exporter": "python",
   "pygments_lexer": "ipython3",
   "version": "3.8.6"
  }
 },
 "nbformat": 4,
 "nbformat_minor": 2
}
