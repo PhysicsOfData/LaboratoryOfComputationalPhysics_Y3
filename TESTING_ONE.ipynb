{
 "cells": [
  {
   "cell_type": "markdown",
   "metadata": {},
   "source": [
    "# Lab lectures\n",
    "19/10/2020\n",
    "Lecture 3"
   ]
  },
  {
   "cell_type": "markdown",
   "metadata": {},
   "source": [
    "### Integers\n",
    "unlimited precision storage in python 3 (2 had limitations)\n",
    "N bits\n",
    "max size is 2^64 of system -- sys.maxsize but you can just add a number to it eg sys.maxsize+1\n",
    "division: / (to get nearest integer answer use // eg 2//3 returns 0, 2/3 returns 0.666)"
   ]
  },
  {
   "cell_type": "markdown",
   "metadata": {},
   "source": [
    "### Binary and Hexadecimal representation\n",
    "binary rep: a_bin = bin(a) -> 0b...\n",
    "hex rep: a_hex = hex(a) -> 0x...\n",
    "to get back to integer:\n",
    "int(a_bin,2) or int(a_hex,16)\n"
   ]
  },
  {
   "cell_type": "markdown",
   "metadata": {},
   "source": [
    "### Bitwise operators\n",
    "eg sensor measuring temp, humidity etc of room\n",
    "sensor returns 64 bit (or 32) words representing the measurements\n",
    "assign subset of 64bits to each property that sensor measures\n",
    "eg 1-10 t, 11-22 humidity, 23-34 pressure etc format\n",
    "to interpret info you need a programme that separates parts correctly \n",
    "need to apply a bitwise operation\n",
    "most languages have similar syntax\n",
    "--logical\n",
    "--unary\n",
    "--masks and shifts\n",
    "left shift is towards most significant, right is away from most significant\n",
    "\n",
    "### Floating point numbers\n",
    "cannot represent w infinite precision non-integer numbers so you need a single (aka float) -32 bit or double precision number -64 bit\n",
    "people always use double now and in python use 'float' to mean 64 bit \n",
    "use three quantities to define the 64 bit characterising the number you want to store\n",
    "the final bit is the mantissa defined in notes\n",
    "\n",
    "#### Double\n",
    "bit postions for s, e and f\n",
    "validity range is 2^-308 to 2^308\n",
    "scientific calculations almost always require at least double\n",
    "\n",
    "you can print (sys.float_info) for information about representation on your system, gives min exponent, mant_dig is number of digits in the mantisse\n",
    "\n",
    "#### Accuracy with floats\n",
    "accuracy is still not infinite\n",
    "*relisten to explanation of limitations of storing numbers*\n",
    "\n",
    "### Numbers -> functions\n",
    "well conditioned means upon application of small variation to input has a small effect\n",
    "poorly conditioned functions means a small perturbation has large effects\n",
    "very small corrections to numbers should not affect output, then algorithm is said to be numerically stable\n",
    "a product of a thousand numbers close to zero is not numerically stable, but inversion using logs is\n",
    "you will always be limited in accuracy \n",
    "\n",
    "examples of functions that have large differences and must be modified - tan(x)\n",
    "variance\n",
    "\n",
    "need to use brain to work out way to represent function that doesnt rely on limited accuracy of your system"
   ]
  },
  {
   "cell_type": "code",
   "execution_count": null,
   "metadata": {},
   "outputs": [],
   "source": []
  }
 ],
 "metadata": {
  "kernelspec": {
   "display_name": "Python 3",
   "language": "python",
   "name": "python3"
  },
  "language_info": {
   "codemirror_mode": {
    "name": "ipython",
    "version": 3
   },
   "file_extension": ".py",
   "mimetype": "text/x-python",
   "name": "python",
   "nbconvert_exporter": "python",
   "pygments_lexer": "ipython3",
   "version": "3.8.3"
  }
 },
 "nbformat": 4,
 "nbformat_minor": 4
}
