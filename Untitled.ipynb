{
 "cells": [
  {
   "cell_type": "code",
   "execution_count": 4,
   "metadata": {},
   "outputs": [],
   "source": [
    "import numpy as np\n",
    "l = [1,2,3,4,5,6,7]\n",
    "\n",
    "with open(\"simple_data.txt\", \"w\") as output:\n",
    "    output.write(str(l))"
   ]
  },
  {
   "cell_type": "code",
   "execution_count": 7,
   "metadata": {},
   "outputs": [
    {
     "name": "stdout",
     "output_type": "stream",
     "text": [
      "[[59 22 18 42 66]\n",
      " [95  1 44  2 25]\n",
      " [78 33 57 56  7]\n",
      " [20 58 27 73 54]\n",
      " [15 73 21 48 58]]\n"
     ]
    }
   ],
   "source": [
    "m = np.random.randint(0, 100, 25).reshape(5,5)\n",
    "print (m)\n",
    "\n",
    "with open(\"data.txt\", \"w\") as output:\n",
    "    output.write(str(m))"
   ]
  },
  {
   "cell_type": "code",
   "execution_count": 48,
   "metadata": {},
   "outputs": [],
   "source": [
    "import csv\n",
    "a = []\n",
    "with open('data.txt',\"r\") as data_file:\n",
    "    with open(\"data.csv\",\"w\") as file:\n",
    "        for line in data_file:\n",
    "            l = line.split() \n",
    "            for i in l:\n",
    "                file.write(i)\n",
    "                file.write(\",\")"
   ]
  },
  {
   "cell_type": "code",
   "execution_count": 2,
   "metadata": {},
   "outputs": [
    {
     "name": "stdout",
     "output_type": "stream",
     "text": [
      "119\n",
      "['7648 5673 3775 2271', '3257 8247 3354 2266', '2722 0001 4011 6652', '0661 3063 3742 3150', '0432 1608 1462 4742', '5827 2027 8785 7303', '5774 8528 2087 1117', '8140 1210 6352 2845', '5764 1133 7301 7100', '6456 1737 4126 6726', '1228 8631 7382 0000', '7051 0160 5374 3166', '0618 3587 1630 6376', '1545 5454 7444 5636', '6735 3116 3202 6834', '7287 5011 1547 8413', '7033 2607 3328 4200', '2568 5244 1874 5024', '1684 2253 7570 7118', '0672 2576 0575 6631', '6332 8353 8787 1340', '1813 3361 1175 4211', '2477 6450 8840 2368', '5512 3505 2563 1326', '3083 7882 0621 0025', '4521 5148 8045 0334', '7563 3654 8713 5787', '8324 2664 0476 5561', '0565 2504 7168 3510', '5107 5507 1767 0738', '2462 1821 2448 1443', '2788 0638 6861 6554', '5851 5873 5474 0547', '0670 1004 4013 2655', '5874 5506 3048 0806', '2805 5401 8462 1260', '5083 8406 6310 1862', '1076 1445 3013 2266', '8440 4804 4844 5277', '4758 6141 0686 1387', '7586 0675 0315 2568', '2544 1258 7432 5165', '3474 5023 4434 5626', '1410 0270 0434 5086', '7315 4446 1104 4215', '0224 7742 8300 0266', '0170 2700 3145 0640', '2006 2437 8054 1600', '8142 4055 1776 0026', '3026 7380 1241 1084']\n"
     ]
    }
   ],
   "source": [
    "a =[]\n",
    "with open(\"credit_card.dat\",\"r\") as card:\n",
    "    for line in card:\n",
    "        a.append(line)\n",
    "\n",
    "\n",
    "        \n",
    "lunghezza = len(a[1])\n",
    "\n",
    "carte = []\n",
    "for k in range(0,len(a)-1):\n",
    "    num = \"\"\n",
    "    for i in range(0,lunghezza//6):\n",
    "          num = num + chr(int(a[k][i*6:i*6+6],2))\n",
    "    carte.append(num)\n",
    "\n",
    "print(carte)"
   ]
  },
  {
   "cell_type": "code",
   "execution_count": 51,
   "metadata": {},
   "outputs": [
    {
     "ename": "AttributeError",
     "evalue": "'_io.TextIOWrapper' object has no attribute 'writerow'",
     "output_type": "error",
     "traceback": [
      "\u001b[1;31m---------------------------------------------------------------------------\u001b[0m",
      "\u001b[1;31mAttributeError\u001b[0m                            Traceback (most recent call last)",
      "\u001b[1;32m<ipython-input-51-6c80b667f416>\u001b[0m in \u001b[0;36m<module>\u001b[1;34m\u001b[0m\n\u001b[0;32m     33\u001b[0m \u001b[1;32mwith\u001b[0m \u001b[0mopen\u001b[0m\u001b[1;33m(\u001b[0m\u001b[1;34m\"utentimastercard.csv\"\u001b[0m\u001b[1;33m,\u001b[0m\u001b[1;34m\"w\"\u001b[0m\u001b[1;33m)\u001b[0m \u001b[1;32mas\u001b[0m \u001b[0mdata\u001b[0m\u001b[1;33m:\u001b[0m\u001b[1;33m\u001b[0m\u001b[1;33m\u001b[0m\u001b[0m\n\u001b[0;32m     34\u001b[0m     \u001b[1;32mfor\u001b[0m \u001b[0mline\u001b[0m \u001b[1;32min\u001b[0m \u001b[0mpersonemastercard\u001b[0m\u001b[1;33m:\u001b[0m\u001b[1;33m\u001b[0m\u001b[1;33m\u001b[0m\u001b[0m\n\u001b[1;32m---> 35\u001b[1;33m         \u001b[0mdata\u001b[0m\u001b[1;33m.\u001b[0m\u001b[0mwriterow\u001b[0m\u001b[1;33m(\u001b[0m\u001b[0mstr\u001b[0m\u001b[1;33m(\u001b[0m\u001b[0mline\u001b[0m\u001b[1;33m)\u001b[0m\u001b[1;33m)\u001b[0m\u001b[1;33m\u001b[0m\u001b[1;33m\u001b[0m\u001b[0m\n\u001b[0m\u001b[0;32m     36\u001b[0m \u001b[1;33m\u001b[0m\u001b[0m\n",
      "\u001b[1;31mAttributeError\u001b[0m: '_io.TextIOWrapper' object has no attribute 'writerow'"
     ]
    }
   ],
   "source": [
    "def trovaduepunti(line):\n",
    "    duepunti = 0\n",
    "    for y in range(0,len(line)):\n",
    "        if line[y] == \":\":\n",
    "            duepunti = y\n",
    "    return duepunti\n",
    "\n",
    "persone =[]\n",
    "open_dictionary = False\n",
    "\n",
    "with open(\"user_data.json\",\"r\") as person:\n",
    "    for line in person:\n",
    "\n",
    "        if line[0] == \"}\":\n",
    "            open_dictionary = False\n",
    "            persone.append(dizionario)\n",
    "        \n",
    "        if open_dictionary == True:\n",
    "            duepunti = trovaduepunti(line)\n",
    "            dizionariotemp = { line[1:duepunti-1] : line[duepunti+2:len(line)-2] }\n",
    "            dizionario.update(dizionariotemp) \n",
    "            \n",
    "        if line[0] == \"{\":\n",
    "            open_dictionary = True\n",
    "            dizionario = {}\n",
    "\n",
    "\n",
    "personemastercard =[]\n",
    "for p in range(0,len(persone)):\n",
    "    if persone[p][\"CreditCardType\"] == \"MasterCard\" :\n",
    "        personemastercard.append(persone[p])\n",
    "        \n",
    "with open(\"utentimastercard.csv\",\"w\") as data:\n",
    "    for line in personemastercard:\n",
    "        data.writerow(str(line))\n",
    "\n"
   ]
  },
  {
   "cell_type": "code",
   "execution_count": null,
   "metadata": {},
   "outputs": [],
   "source": []
  }
 ],
 "metadata": {
  "kernelspec": {
   "display_name": "Python 3",
   "language": "python",
   "name": "python3"
  },
  "language_info": {
   "codemirror_mode": {
    "name": "ipython",
    "version": 3
   },
   "file_extension": ".py",
   "mimetype": "text/x-python",
   "name": "python",
   "nbconvert_exporter": "python",
   "pygments_lexer": "ipython3",
   "version": "3.8.3"
  }
 },
 "nbformat": 4,
 "nbformat_minor": 4
}
