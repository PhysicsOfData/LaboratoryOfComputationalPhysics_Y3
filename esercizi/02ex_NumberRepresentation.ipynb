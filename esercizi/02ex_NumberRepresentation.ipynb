{
 "cells": [
  {
   "cell_type": "markdown",
   "metadata": {},
   "source": [
    "1\\. Write a function that converts number representation (bin<->dec<->hex)"
   ]
  },
  {
   "cell_type": "code",
   "execution_count": null,
   "metadata": {},
   "outputs": [],
   "source": [
    "def converter(n, base):\n",
    "    if base == 2:\n",
    "        n_dec = int(n,2)\n",
    "        n_hex = hex(n_dec)\n",
    "        return [n_dec, n, n_hex]\n",
    "    elif base == 10:\n",
    "        n_bin = bin(n)\n",
    "        n_hex = hex(n)\n",
    "        return [n, n_bin, n_hex]\n",
    "    elif base == 16:\n",
    "        n_dec = int(n,16)\n",
    "        n_bin = bin(n_dec)\n",
    "        return [n_dec, n_bin, n]"
   ]
  },
  {
   "cell_type": "markdown",
   "metadata": {},
   "source": [
    "2\\. Write a function that converts a 32 bit word into a single precision floating point (i.e. interprets the various bits as sign, mantissa and exponent)"
   ]
  },
  {
   "cell_type": "code",
   "execution_count": null,
   "metadata": {},
   "outputs": [],
   "source": [
    "def floatingWord(w):\n",
    "    f=[]\n",
    "    c=0\n",
    "    for i in w:\n",
    "        c=bin(ord(i))\n",
    "        if ord(i)<64:\n",
    "            f.append(\"0\")\n",
    "        for j in c:\n",
    "            if j != \"b\":\n",
    "                f.append(j)\n",
    "    c=0\n",
    "    fl=(-1)**int(f[0])\n",
    "    for i in range(0,8):\n",
    "        c+=int(f[i+1])*2**(7-i)\n",
    "    fl*=2**(c-127)\n",
    "    c=1\n",
    "    for i in range(0,23):\n",
    "        c+=int(f[9+i])*2**(23-i)\n",
    "    fl*=c\n",
    "    return fl"
   ]
  },
  {
   "cell_type": "markdown",
   "metadata": {},
   "source": [
    "3\\. Write a program to determine the underflow and overflow limits (within a factor of 2) for python on your computer. \n",
    "\n",
    "**Tips**: define two variables inizialized to 1 and halve/double them enough time to exceed the under/over-flow limits  "
   ]
  },
  {
   "cell_type": "code",
   "execution_count": null,
   "metadata": {},
   "outputs": [],
   "source": [
    "h=1.0\n",
    "d=1.0\n",
    "\n",
    "\n",
    "while h != h/2:\n",
    "    p=h\n",
    "    h=h/2\n",
    "print(p)\n",
    "\n",
    "while d != d*2:\n",
    "    p=d\n",
    "    d=d*2\n",
    "print(p)"
   ]
  },
  {
   "cell_type": "markdown",
   "metadata": {},
   "source": [
    "4\\. Write a program to determine the machine precision\n",
    "\n",
    "**Tips**: define a new variable by adding a smaller and smaller value (proceeding similarly to prob. 2) to an original variable and check the point where the two are the same "
   ]
  },
  {
   "cell_type": "code",
   "execution_count": null,
   "metadata": {},
   "outputs": [],
   "source": [
    "a = 1.0\n",
    "b=1.0\n",
    "\n",
    "while a != a+b:\n",
    "    c=a\n",
    "    b=b/2\n",
    "    a=a+b\n",
    "print(c)"
   ]
  },
  {
   "cell_type": "markdown",
   "metadata": {},
   "source": [
    "5\\. Write a function that takes in input three parameters $a$, $b$ and $c$ and prints out the two solutions to the quadratic equation $ax^2+bx+c=0$ using the standard formula:\n",
    "$$\n",
    "x=\\frac{-b\\pm\\sqrt{b^2-4ac}}{2a}\n",
    "$$\n",
    "\n",
    "(a) use the program to compute the solution for $a=0.001$, $b=1000$ and $c=0.001$\n",
    "\n",
    "(b) re-express the standard solution formula by multiplying top and bottom by $-b\\mp\\sqrt{b^2-4ac}$ and again find the solution for $a=0.001$, $b=1000$ and $c=0.001$. How does it compare with what previously obtained? Why?\n",
    "\n",
    "(c) write a function that compute the roots of a quadratic equation accurately in all cases"
   ]
  },
  {
   "cell_type": "code",
   "execution_count": null,
   "metadata": {},
   "outputs": [],
   "source": [
    "import math\n",
    "\n",
    "def quad(a,b,c):\n",
    "    print('%.17f' % ((-b+(b**2-4*a*c)**0.5)/(2*a)))\n",
    "    print('%.17f' % ((-b-(b**2-4*a*c)**0.5)/(2*a)))\n",
    "    \n",
    "def quad2(a,b,c):\n",
    "    print('%.17f' % ((4*a*c)/(-2*a*b-2*a*(b**2-4*a*c)**0.5)))\n",
    "    print('%.17f' % ((4*a*c)/(-2*a*b+2*a*(b**2-4*a*c)**0.5)))\n",
    "    \n",
    "quad(0.001,1000,0.001)\n",
    "quad2(0.001,1000,0.001)\n",
    "\n",
    "def quad3(a,b,c):\n",
    "    print('%.17f' % ((4*a*c)/(-2*a*b-2*a*(b**2-4*a*c)**0.5)))\n",
    "    print('%.17f' % ((-b-(b**2-4*a*c)**0.5)/(2*a)))\n",
    "    \n",
    "quad3(0.001,1000,0.001)\n",
    "#the key is to transform the difference into a sum reducing the relative error"
   ]
  },
  {
   "cell_type": "markdown",
   "metadata": {},
   "source": [
    "6\\. Write a program that implements the function $f(x)=x(x−1)$\n",
    "\n",
    "(a) Calculate the derivative of the function at the point $x = 1$ using the derivative definition:\n",
    "\n",
    "$$\n",
    "\\frac{{\\rm d}f}{{\\rm d}x} = \\lim_{\\delta\\to0} \\frac{f(x+\\delta)-f(x)}{\\delta}\n",
    "$$\n",
    "\n",
    "with $\\delta = 10^{−2}$. Calculate the true value of the same derivative analytically and compare with the answer your program gives. The two will not agree perfectly. Why not?\n",
    "\n",
    "(b) Repeat the calculation for $\\delta = 10^{−4}, 10^{−6}, 10^{−8}, 10^{−10}, 10^{−12}$ and $10^{−14}$. How does the accuracy scales with $\\delta$?"
   ]
  },
  {
   "cell_type": "code",
   "execution_count": null,
   "metadata": {},
   "outputs": [],
   "source": [
    "def f(x):\n",
    "    return x*(x-1)\n",
    "\n",
    "c=0.01\n",
    "for i in range(0,7):\n",
    "    der = (f(1+c)-f(1))/c\n",
    "    print(der == 1)\n",
    "    print(der)\n",
    "    c=c*0.01\n",
    "    \n",
    "#accuracy increases until 10^-8 power is reached, then it starts decreasing. This is due to the fact that, as found\n",
    "#above, the smallest \"step\" is 2^-16 and the function we are studying gives delta^2+delta at the deriv numerator"
   ]
  },
  {
   "cell_type": "markdown",
   "metadata": {},
   "source": [
    "7\\. Consider the integral of the semicircle of radius 1:\n",
    "$$\n",
    "I=\\int_{-1}^{1} \\sqrt(1-x^2) {\\rm d}x\n",
    "$$\n",
    "which it's known to be $I=\\frac{\\pi}{2}=1.57079632679...$.\n",
    "Alternatively we can use the Riemann definition of the integral:\n",
    "$$\n",
    "I=\\lim_{N\\to\\infty} \\sum_{k=1}^{N} h y_k \n",
    "$$\n",
    "\n",
    "with $h=2/N$ the width of each of the $N$ slices the domain is divided into and where\n",
    "$y_k$ is the value of the function at the $k-$th slice.\n",
    "\n",
    "(a) Write a programe to compute the integral with $N=100$. How does the result compares to the true value?\n",
    "\n",
    "(b) How much can $N$ be increased if the computation needs to be run in less than a second? What is the gain in running it for 1 minute? \n"
   ]
  },
  {
   "cell_type": "code",
   "execution_count": null,
   "metadata": {},
   "outputs": [],
   "source": [
    "import time\n",
    "start = time.perf_counter()\n",
    "\n",
    "N=170000000        # with N=100 the result agrees with pi/2 only up to the first decimal digit\n",
    "I=0\n",
    "for i in range(0,N):\n",
    "    I+=2/N*(1-(2/N*i-1)**2)**0.5\n",
    "    \n",
    "print(\"integral \", I)\n",
    "\n",
    "end = time.perf_counter()\n",
    "print((end-start), \" seconds\")\n",
    "\n",
    "# with N=2650000 the computation needs for 0.9949 sec and gives 1.570796326 4093796\n",
    "# with N=170000000 the time rises to 58.15559 sec and the result is 1.570796326794 5069 with only a small\n",
    "# improvement (3 digits) in the accuracy (pi/2 1.570796326794897)"
   ]
  }
 ],
 "metadata": {
  "kernelspec": {
   "display_name": "Python 3",
   "language": "python",
   "name": "python3"
  },
  "language_info": {
   "codemirror_mode": {
    "name": "ipython",
    "version": 3
   },
   "file_extension": ".py",
   "mimetype": "text/x-python",
   "name": "python",
   "nbconvert_exporter": "python",
   "pygments_lexer": "ipython3",
   "version": "3.7.4"
  }
 },
 "nbformat": 4,
 "nbformat_minor": 2
}
