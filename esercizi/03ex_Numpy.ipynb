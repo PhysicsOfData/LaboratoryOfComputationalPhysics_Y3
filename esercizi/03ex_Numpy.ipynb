{
 "cells": [
  {
   "cell_type": "markdown",
   "metadata": {},
   "source": [
    "### Numpy basics"
   ]
  },
  {
   "cell_type": "markdown",
   "metadata": {},
   "source": [
    "1\\. Find the row, column and overall means for the following matrix:\n",
    "\n",
    "```python\n",
    "m = np.arange(12).reshape((3,4))\n",
    "```"
   ]
  },
  {
   "cell_type": "code",
   "execution_count": 6,
   "metadata": {},
   "outputs": [],
   "source": [
    "import numpy as np\n",
    "import matplotlib.pyplot as plt\n",
    "import time\n",
    "import numpy.random as npr"
   ]
  },
  {
   "cell_type": "code",
   "execution_count": null,
   "metadata": {},
   "outputs": [],
   "source": [
    "m = np.arange(12).reshape((3,4))\n",
    "\n",
    "print(\"row: \", m.shape[0])\n",
    "print(\"column: \", m.shape[1])\n",
    "print(\"mean: \", m.mean())"
   ]
  },
  {
   "cell_type": "markdown",
   "metadata": {},
   "source": [
    "2\\. Find the outer product of the following two vectors\n",
    "\n",
    "```python\n",
    "u = np.array([1,3,5,7])\n",
    "v = np.array([2,4,6,8])\n",
    "```\n",
    "\n",
    "Do this in the following ways:\n",
    "\n",
    "   * Using the function outer in numpy\n",
    "   * Using a nested for loop or list comprehension\n",
    "   * Using numpy broadcasting operations\n"
   ]
  },
  {
   "cell_type": "code",
   "execution_count": null,
   "metadata": {},
   "outputs": [],
   "source": [
    "u = np.array([1,3,5,7])\n",
    "v = np.array([2,4,6,8])\n",
    "\n",
    "print(np.outer(u,v))\n",
    "\n",
    "print(np.array([i*j for i in u for j in v]).reshape(len(u),len(v)))\n",
    "\n",
    "print(np.tile(u,(len(u),1)).T*np.tile(v,(len(v),1)))"
   ]
  },
  {
   "cell_type": "markdown",
   "metadata": {},
   "source": [
    "3\\. Create a 10 by 6 matrix of random uniform numbers. Set all rows with any entry less than 0.1 to be zero\n",
    "\n",
    "Hint: Use the following numpy functions - np.random.random, np.any as well as Boolean indexing and the axis argument."
   ]
  },
  {
   "cell_type": "code",
   "execution_count": null,
   "metadata": {},
   "outputs": [],
   "source": [
    "np.random.seed(38475)\n",
    "a = np.random.rand(10,6)\n",
    "\n",
    "for i in range(0,10):\n",
    "    if np.any(a[i]<0.1)==0:\n",
    "        a[i]=0\n",
    "\n",
    "print(a)"
   ]
  },
  {
   "cell_type": "markdown",
   "metadata": {},
   "source": [
    "4\\. Use np.linspace to create an array of 100 numbers between 0 and 2π (inclusive).\n",
    "\n",
    "  * Extract every 10th element using slice notation\n",
    "  * Reverse the array using slice notation\n",
    "  * Extract elements where the absolute difference between the sine and cosine functions evaluated at that element is less than 0.1\n",
    "  * Make a plot showing the sin and cos functions and indicate where they are close"
   ]
  },
  {
   "cell_type": "code",
   "execution_count": null,
   "metadata": {},
   "outputs": [],
   "source": [
    "a = np.linspace(0, 2*np.pi, 100)\n",
    "\n",
    "print(a[::10])\n",
    "print(a[::-1])\n",
    "b = a[np.abs(np.cos(a)-np.sin(a))<0.1]\n",
    "\n",
    "%matplotlib inline \n",
    "\n",
    "y1 = np.sin(b)\n",
    "y2 = np.cos(b)\n",
    "y1tot = np.sin(a)\n",
    "y2tot = np.cos(a)\n",
    "plt.scatter(a, y1tot, color='r')\n",
    "plt.scatter(a, y2tot, color='y')\n",
    "plt.scatter(b, y1, color='k')\n",
    "plt.scatter(b, y2, color='g')\n",
    "plt.show()"
   ]
  },
  {
   "cell_type": "markdown",
   "metadata": {},
   "source": [
    "5\\. Create a matrix that shows the 10 by 10 multiplication table.\n",
    "\n",
    " * Find the trace of the matrix\n",
    " * Extract the anto-diagonal (this should be ```array([10, 18, 24, 28, 30, 30, 28, 24, 18, 10])```)\n",
    " * Extract the diagnoal offset by 1 upwards (this should be ```array([ 2,  6, 12, 20, 30, 42, 56, 72, 90])```)"
   ]
  },
  {
   "cell_type": "code",
   "execution_count": null,
   "metadata": {},
   "outputs": [],
   "source": [
    "a = np.array([i*j for i in range(1,11) for j in range(1,11)]).reshape((10,10))\n",
    "\n",
    "print(np.array([a[i][i] for i in range(0,10)]).sum())\n",
    "print(np.array([a[9-i][i] for i in range(0,10)]))\n",
    "print(np.array(np.array(np.tril(np.triu(a,1),1))[np.array(np.tril(np.triu(a,1),1))!=0]))"
   ]
  },
  {
   "cell_type": "markdown",
   "metadata": {},
   "source": [
    "6\\. Use broadcasting to create a grid of distances\n",
    "\n",
    "Route 66 crosses the following cities in the US: Chicago, Springfield, Saint-Louis, Tulsa, Oklahoma City, Amarillo, Santa Fe, Albuquerque, Flagstaff, Los Angeles\n",
    "The corresponding positions in miles are: 0, 198, 303, 736, 871, 1175, 1475, 1544, 1913, 2448\n",
    "\n",
    "  * Construct a 2D grid of distances among each city along Route 66\n",
    "  * Convert that in km (those savages...)"
   ]
  },
  {
   "cell_type": "code",
   "execution_count": null,
   "metadata": {},
   "outputs": [],
   "source": [
    "miles = np.array([0, 198, 303, 736, 871, 1175, 1475, 1544, 1913, 2448])\n",
    "\n",
    "grid = np.array([np.abs(i-j) for i in miles for j in miles]).reshape((10,10))\n",
    "\n",
    "km_grid = grid*1.6"
   ]
  },
  {
   "cell_type": "markdown",
   "metadata": {},
   "source": [
    "7\\. Prime numbers sieve: compute the prime numbers in the 0-N (N=99 to start with) range with a sieve (mask).\n",
    "  * Construct a shape (100,) boolean array, the mask\n",
    "  * Identify the multiples of each number starting from 2 and set accordingly the corresponding mask element\n",
    "  * Apply the mask to obtain an array of ordered prime numbers\n",
    "  * Check the performances (timeit); how does it scale with N?\n",
    "  * Implement the optimization suggested in the [sieve of Eratosthenes](https://en.wikipedia.org/wiki/Sieve_of_Eratosthenes)"
   ]
  },
  {
   "cell_type": "code",
   "execution_count": null,
   "metadata": {},
   "outputs": [],
   "source": [
    "N=10000\n",
    "a = np.array([True for i in range(0,N)])\n",
    "b = np.arange(N)\n",
    "\n",
    "start = time.perf_counter()\n",
    "for i in b:\n",
    "    for j in range(2,int(i/2)+1):\n",
    "        if i % j == 0:\n",
    "            a[i]=False\n",
    "end = time.perf_counter()\n",
    "print(b[a])\n",
    "print(\"time \", end-start)\n",
    "\n",
    "a = np.array([True for i in range(0,N)])\n",
    "\n",
    "start = time.perf_counter()\n",
    "for i in range(2,N):\n",
    "    if a[i]==True:\n",
    "        for j in range(i,int(N/i)+1):\n",
    "            if i*j < N:\n",
    "                a[j*i]=False\n",
    "end = time.perf_counter()            \n",
    "print(b[a])\n",
    "print(\"time \", end-start)\n",
    "\n",
    "# with N=100 the difference in time performances between the two algorithms is around a factor of 5, but increasing\n",
    "# N leads to a factor of hundreds or thousands times for N=1000 and N=10000 respectively"
   ]
  },
  {
   "cell_type": "markdown",
   "metadata": {},
   "source": [
    "8\\. Diffusion using random walk\n",
    "\n",
    "Consider a simple random walk process: at each step in time, a walker jumps right or left (+1 or -1) with equal probability. The goal is to find the typical distance from the origin of a random walker after a given amount of time. \n",
    "To do that, let's simulate many walkers and create a 2D array with each walker as a raw and the actual time evolution as columns\n",
    "\n",
    "  * Take 1000 walkers and let them walk for 200 steps\n",
    "  * Use randint to create a 2D array of size walkers x steps with values -1 or 1\n",
    "  * Build the actual walking distances for each walker (i.e. another 2D array \"summing on each raw\")\n",
    "  * Take the square of that 2D array (elementwise)\n",
    "  * Compute the mean of the squared distances at each step (i.e. the mean along the columns)\n",
    "  * Plot the average distances (sqrt(distance\\*\\*2)) as a function of time (step)\n",
    "  \n",
    "Did you get what you expected?"
   ]
  },
  {
   "cell_type": "code",
   "execution_count": null,
   "metadata": {},
   "outputs": [],
   "source": [
    "npr.seed(203984)\n",
    "w = 1000\n",
    "s = 200\n",
    "\n",
    "walsteps = npr.randint(0,2, size=(w,s))\n",
    "walsteps = walsteps*2-1\n",
    "paths = np.array([[walsteps[j][0:i+1:1].sum() for i in range(s)] for j in range(w)])\n",
    "sq = paths**2\n",
    "means = np.array([(sq.T)[i].mean() for i in range(s)])\n",
    "time = np.array([i+1 for i in range(s)])\n",
    "dist = means**0.5\n",
    "\n",
    "%matplotlib inline\n",
    "\n",
    "plt.scatter(time, dist)\n",
    "plt.show()"
   ]
  },
  {
   "cell_type": "markdown",
   "metadata": {},
   "source": [
    "9\\. Analyze a data file \n",
    "  * Download the population of hares, lynxes and carrots at the beginning of the last century.\n",
    "    ```python\n",
    "    ! wget https://www.dropbox.com/s/3vigxoqayo389uc/populations.txt\n",
    "    ```\n",
    "\n",
    "  * Check the content by looking within the file\n",
    "  * Load the data (use an appropriate numpy method) into a 2D array\n",
    "  * Create arrays out of the columns, the arrays being (in order): *year*, *hares*, *lynxes*, *carrots* \n",
    "  * Plot the 3 populations over the years\n",
    "  * Compute the main statistical properties of the dataset (mean, std, correlations, etc.)\n",
    "  * Which species has the highest population each year?\n",
    "\n",
    "Do you feel there is some evident correlation here? [Studies](https://www.enr.gov.nt.ca/en/services/lynx/lynx-snowshoe-hare-cycle) tend to believe so."
   ]
  },
  {
   "cell_type": "code",
   "execution_count": null,
   "metadata": {},
   "outputs": [],
   "source": [
    "! wget https://www.dropbox.com/s/3vigxoqayo389uc/populations.txt"
   ]
  },
  {
   "cell_type": "code",
   "execution_count": 38,
   "metadata": {},
   "outputs": [
    {
     "data": {
      "image/png": "[encoded data removed]",
      "text/plain": [
       "<Figure size 432x288 with 1 Axes>"
      ]
     },
     "metadata": {
      "needs_background": "light"
     },
     "output_type": "display_data"
    },
    {
     "name": "stdout",
     "output_type": "stream",
     "text": [
      "hares mean  34080.95238095238\n",
      "lynxes mean  20166.666666666668\n",
      "carrots mean  42400.0\n",
      "hares std  20897.906458089667\n",
      "lynxes std  16254.591536908763\n",
      "carrots std  3322.5062255844787\n",
      "correlation coeff h-l  [[1.         0.07189206]\n",
      " [0.07189206 1.        ]]\n",
      "correlation coeff c-l  [[ 1.         -0.68057717]\n",
      " [-0.68057717  1.        ]]\n",
      "correlation coeff h-c  [[ 1.         -0.01660378]\n",
      " [-0.01660378  1.        ]]\n"
     ]
    },
    {
     "data": {
      "image/png": "[encoded data removed]",
      "text/plain": [
       "<Figure size 432x288 with 1 Axes>"
      ]
     },
     "metadata": {
      "needs_background": "light"
     },
     "output_type": "display_data"
    }
   ],
   "source": [
    "table = np.fromfile(\"populations.txt\", dtype=float, count=-1, sep=\" \", offset=0).reshape(21,4)\n",
    "#I have removed the first line\n",
    "\n",
    "year = np.array(table.T[0])\n",
    "hares = np.array(table.T[1])\n",
    "lynxes = np.array(table.T[2])\n",
    "carrots = np.array(table.T[3])\n",
    "\n",
    "%matplotlib inline\n",
    "\n",
    "plt.scatter(year, hares, c='r')\n",
    "plt.scatter(year, lynxes, c='b')\n",
    "plt.scatter(year, carrots, c='k')\n",
    "plt.show()\n",
    "\n",
    "print(\"hares mean \", hares.mean())\n",
    "print(\"lynxes mean \", lynxes.mean())\n",
    "print(\"carrots mean \", carrots.mean())\n",
    "print(\"hares std \", hares.std())\n",
    "print(\"lynxes std \", lynxes.std())\n",
    "print(\"carrots std \", carrots.std())\n",
    "print(\"correlation coeff h-l \", np.corrcoef(np.array([hares, lynxes])))\n",
    "print(\"correlation coeff c-l \", np.corrcoef(np.array([carrots, lynxes])))\n",
    "print(\"correlation coeff h-c \", np.corrcoef(np.array([hares, carrots])))\n",
    "\n",
    "top = np.array([table[i][1:4:1].argmax() for i in range(len(year))])\n",
    "\n",
    "%matplotlib inline\n",
    "\n",
    "plt.scatter(year, top, c='r')\n",
    "plt.show()"
   ]
  },
  {
   "cell_type": "code",
   "execution_count": null,
   "metadata": {},
   "outputs": [],
   "source": [
    "#the correlation is quite evident both in the oscillating shape of the plots and in the correlation matrices"
   ]
  }
 ],
 "metadata": {
  "kernelspec": {
   "display_name": "Python 3",
   "language": "python",
   "name": "python3"
  },
  "language_info": {
   "codemirror_mode": {
    "name": "ipython",
    "version": 3
   },
   "file_extension": ".py",
   "mimetype": "text/x-python",
   "name": "python",
   "nbconvert_exporter": "python",
   "pygments_lexer": "ipython3",
   "version": "3.7.4"
  }
 },
 "nbformat": 4,
 "nbformat_minor": 2
}
