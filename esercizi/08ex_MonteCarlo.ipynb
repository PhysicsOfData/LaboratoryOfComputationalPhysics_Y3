{
 "cells": [
  {
   "cell_type": "markdown",
   "metadata": {},
   "source": [
    "1\\. **Radioactive decay chain**\n",
    "\n",
    "${\\rm Tl}^{208}$ decays to ${\\rm Pb}^{208}$ with a half-lieve of 3.052 minutes. Suppose to start with a sample of 1000 Thallium atoms and 0 of Lead atoms.\n",
    "\n",
    "* Take steps in time of 1 second and at each time-step decide whether each Tl atom has decayed or not, accordingly to the probability $p(t)=1-2^{-t/\\tau}$. Subtract the total number of Tl atoms that decayed at each step from the Tl sample and add them to the Lead one. Plot the evolution of the two sets as a function of time  \n",
    "* Repeat the exercise by means of the inverse transform method: draw 1000 random numbers from the non-uniform probability distribution $p(t)=2^{-t/\\tau}\\frac{\\ln 2}{\\tau}$ to represent the times of decay of the 1000 Tl atoms. Make a plot showing the number of atoms that have not decayed as a function of time"
   ]
  },
  {
   "cell_type": "code",
   "execution_count": 1,
   "metadata": {},
   "outputs": [],
   "source": [
    "import numpy as np\n",
    "from matplotlib import pyplot as plt"
   ]
  },
  {
   "cell_type": "code",
   "execution_count": 2,
   "metadata": {},
   "outputs": [
    {
     "data": {
      "image/png": "[encoded data removed]",
      "text/plain": [
       "<Figure size 432x288 with 1 Axes>"
      ]
     },
     "metadata": {
      "needs_background": "light"
     },
     "output_type": "display_data"
    },
    {
     "data": {
      "image/png": "[encoded data removed]",
      "text/plain": [
       "<Figure size 432x288 with 1 Axes>"
      ]
     },
     "metadata": {
      "needs_background": "light"
     },
     "output_type": "display_data"
    }
   ],
   "source": [
    "Tl = 1000\n",
    "Pb = 0\n",
    "tau = 3.052*60\n",
    "\n",
    "thallium = []\n",
    "lead = []\n",
    "time = []\n",
    "\n",
    "def p(t, T):\n",
    "    return 1-2**(-t/T)\n",
    "\n",
    "t=0\n",
    "while Tl > 1:\n",
    "    Pb = Pb + np.log(2)/tau*Tl\n",
    "    Tl = Tl - np.log(2)/tau*Tl\n",
    "    t+=1\n",
    "    thallium.append(Tl)\n",
    "    lead.append(Pb)\n",
    "    time.append(t)\n",
    "thallium = [int(i) for i in thallium]\n",
    "lead = [int(i) for i in lead]\n",
    "plt.scatter(time, thallium)\n",
    "plt.scatter(time, lead)\n",
    "plt.show()\n",
    "\n",
    "def ip(x, T):\n",
    "    return -np.log(1-x)*T\n",
    "\n",
    "time = ip(np.random.rand(1000), tau)\n",
    "time.sort()\n",
    "thallium = np.arange(0, 1000)[::-1]\n",
    "\n",
    "plt.scatter(time, thallium)\n",
    "plt.show()"
   ]
  },
  {
   "cell_type": "markdown",
   "metadata": {},
   "source": [
    "2\\. **Rutherford Scattering**\n",
    "\n",
    "The scattering angle $\\theta$ of $\\alpha$ particles hitting a positively charged nucleus of a Gold atom ($Z=79$) follows the rule:\n",
    "\n",
    "$$\n",
    "\\tan{\\frac{1}{2} \\theta} = \\frac{Z e^2} {2\\pi \\epsilon_0 E b}\n",
    "$$\n",
    "\n",
    "where $E=7.7$ MeV and $b$ beam is the impact parameter. The beam is represented by a 2D gaussian distribution with $\\sigma=a_0/100$ for both coordinates ($a_0$ being the Bohr radius). Assume 1 million $\\alpha$ particles are shot on the gold atom.\n",
    "\n",
    "Computing the fraction of particles that \"bounce back\",i.e. those particle whose scattering angle is greater than $\\pi/2$ (which set a condition on the impact parameter $b$)"
   ]
  },
  {
   "cell_type": "code",
   "execution_count": 3,
   "metadata": {},
   "outputs": [
    {
     "name": "stdout",
     "output_type": "stream",
     "text": [
      "fraction of bouncing back particles:  0.001587\n"
     ]
    }
   ],
   "source": [
    "a0 = 0.53e-10\n",
    "E = 7.7e6\n",
    "e = 1.6e-19\n",
    "epsilon = 8.85e-12\n",
    "Z = 79\n",
    "\n",
    "x = np.random.randn(1000000, 2)*a0/100\n",
    "bounce=0\n",
    "for i in range(1000000):\n",
    "    tan = Z*e/2/np.pi/epsilon/E/(np.sqrt(x[i,0]**2+x[i,1]**2))\n",
    "    if tan>1:\n",
    "        bounce+=1\n",
    "print(\"fraction of bouncing back particles: \",bounce/1000000)"
   ]
  },
  {
   "cell_type": "markdown",
   "metadata": {},
   "source": [
    "3\\. **Monte Carlo integration: hit/miss vs mean value method**\n",
    "\n",
    "Consider the function \n",
    "\n",
    "$$f(x) =\\sin^2{\\frac{1}{x(2-x)}}$$\n",
    "\n",
    "* Compute the integral of $f(x)$ between 0 and 2 with the hit/miss method. Evaluate the error of your estimate\n",
    "* Repeat the integral with the mean value method. Evaluate the error and compare it with the previous one"
   ]
  },
  {
   "cell_type": "code",
   "execution_count": 4,
   "metadata": {},
   "outputs": [
    {
     "name": "stdout",
     "output_type": "stream",
     "text": [
      "hit/miss integral:  1.4514\n",
      "hit/miss error:  0.008944271909999158\n",
      "\n",
      "repeated exp\n",
      "hit/miss integral:  1.4511152000000005\n",
      "hit/miss error:  0.00265731009857713\n",
      "\n",
      "mean value integral:  1.4476908789686838\n",
      "mean value error:  0.0016827227104323154\n"
     ]
    }
   ],
   "source": [
    "def f(x):\n",
    "    return np.sin(1/x/(2-x))**2\n",
    "\n",
    "N = 100000\n",
    "hit = 0\n",
    "for i in range(N):\n",
    "    x = np.random.random()*2\n",
    "    y = np.random.random()\n",
    "    if y<f(x):\n",
    "        hit+=1\n",
    "hit = 2*hit/N\n",
    "print(\"hit/miss integral: \",hit)\n",
    "\n",
    "hit_err = 2/np.sqrt(2/N)*2/N\n",
    "print(\"hit/miss error: \", hit_err)\n",
    "#calculating the mean value of the square area containing each point and counting how many of them are approximately\n",
    "#needed to cover the delimiting curve\n",
    "\n",
    "hit = [0 for i in range(100)]\n",
    "for i in range(100):\n",
    "    for j in range(N):\n",
    "        x = np.random.random()*2\n",
    "        y = np.random.random()\n",
    "        if y<f(x):\n",
    "            hit[i]+=1\n",
    "    hit[i] = 2*hit[i]/N\n",
    "hit = np.array(hit)\n",
    "print(\"\\nrepeated exp\")\n",
    "print(\"hit/miss integral: \",hit.mean())\n",
    "print(\"hit/miss error: \", np.sqrt(hit.var()))\n",
    "\n",
    "x = np.random.uniform(0,2,10000)\n",
    "mean = f(x).mean()\n",
    "mean_val = mean*2\n",
    "print(\"\\nmean value integral: \", mean_val)\n",
    "mean_error = 2*np.sqrt(f(x).var()/N)\n",
    "print(\"mean value error: \", mean_error)"
   ]
  },
  {
   "cell_type": "markdown",
   "metadata": {},
   "source": [
    "4\\. **Monte Carlo integration in high dimension**\n",
    "\n",
    "* Start of by computing the area of a circle of unit radius, by integrating the function \n",
    "\n",
    "$$\n",
    "f(x,y)=\n",
    "\\left\\{\n",
    "\\begin{array}{ll}\n",
    "      1 & x^2+y^2\\le 1 \\\\\n",
    "      0 & {\\rm elsewhere}\n",
    "\\end{array} \n",
    "\\right.\n",
    "$$\n",
    "\n",
    "* Generalize the result for a 10D sphere\n",
    "\n"
   ]
  },
  {
   "cell_type": "code",
   "execution_count": 5,
   "metadata": {},
   "outputs": [
    {
     "name": "stdout",
     "output_type": "stream",
     "text": [
      "integral 2d sphere:  3.139652\n",
      "integral 10d sphere:  2.49856\n"
     ]
    }
   ],
   "source": [
    "def f(x,y):\n",
    "    return x**2+y**2\n",
    "\n",
    "N = 1000000\n",
    "hit = 0\n",
    "for i in range(N):\n",
    "    x = np.random.random()*2-1\n",
    "    y = np.random.random()*2-1\n",
    "    if f(x,y)<1:\n",
    "        hit+=1\n",
    "hit = 4*hit/N\n",
    "print(\"integral 2d sphere: \", hit)\n",
    "\n",
    "d = 10\n",
    "\n",
    "def f(x):\n",
    "    s = 0\n",
    "    for i in range(d):\n",
    "        s+=x[i]**2\n",
    "    return s\n",
    "\n",
    "x = [0 for i in range(d)]\n",
    "hit = 0\n",
    "for i in range(N):\n",
    "    for j in range(d):\n",
    "        x[j] = np.random.random()*2-1\n",
    "    if f(x)<1:\n",
    "        hit+=1\n",
    "hit = 2**d*hit/N\n",
    "print(\"integral 10d sphere: \", hit)"
   ]
  },
  {
   "cell_type": "markdown",
   "metadata": {},
   "source": [
    "5\\. **Monte Carlo integration with importance sampling** \n",
    "\n",
    "Calculate the value of the integral:\n",
    "\n",
    "$$\n",
    "I=\\int_0^1 \\frac{x^{-1/2}}{e^x+1} dx\n",
    "$$\n",
    "\n",
    "using the importance sampling method with $w(x)=1/\\sqrt{x}$. You should get a result about 0.84"
   ]
  },
  {
   "cell_type": "code",
   "execution_count": 6,
   "metadata": {},
   "outputs": [
    {
     "name": "stdout",
     "output_type": "stream",
     "text": [
      "integral:  0.8390113193797375\n"
     ]
    }
   ],
   "source": [
    "N = 1000000\n",
    "x = np.random.rand(N)**2 #using 1/sqrt(x) as distribution, normalized to 1 by multiplying for 1/2\n",
    "\n",
    "def f(x):\n",
    "    return x**(-0.5)/(np.exp(x)+1)\n",
    "\n",
    "def w(x):\n",
    "    return 1/np.sqrt(x)\n",
    "\n",
    "rap = f(x)/w(x)\n",
    "I = rap.mean()*2 #integral of w(x) in 0-1 is 2\n",
    "print(\"integral: \", I)"
   ]
  },
  {
   "cell_type": "code",
   "execution_count": null,
   "metadata": {},
   "outputs": [],
   "source": []
  }
 ],
 "metadata": {
  "kernelspec": {
   "display_name": "Python 3",
   "language": "python",
   "name": "python3"
  },
  "language_info": {
   "codemirror_mode": {
    "name": "ipython",
    "version": 3
   },
   "file_extension": ".py",
   "mimetype": "text/x-python",
   "name": "python",
   "nbconvert_exporter": "python",
   "pygments_lexer": "ipython3",
   "version": "3.7.4"
  }
 },
 "nbformat": 4,
 "nbformat_minor": 2
}
