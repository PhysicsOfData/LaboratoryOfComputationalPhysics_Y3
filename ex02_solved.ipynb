{
 "cells": [
  {
   "cell_type": "markdown",
   "metadata": {},
   "source": [
    "1\\. Write a function that converts number representation (bin<->dec<->hex)"
   ]
  },
  {
   "cell_type": "code",
   "execution_count": 1,
   "metadata": {},
   "outputs": [
    {
     "name": "stdout",
     "output_type": "stream",
     "text": [
      "Value in decimal 10\n",
      "Binary conversion from decimal  0b1010\n",
      "Binary conversion from hexadecimal  0b1010\n",
      "Decimal conversion from binary  10\n",
      "Decimal conversion from hexadecimal  10\n",
      "Hexadeciml conversion from binary  0xa\n",
      "Hexadeciml conversion from decimal  0xa\n"
     ]
    }
   ],
   "source": [
    "def decimal(a,r):\n",
    "    if r == 10:\n",
    "        return a\n",
    "    return int(a,r)\n",
    "\n",
    "def binary(a,r):\n",
    "    return bin(decimal(a,r))\n",
    "\n",
    "def hexadecimal(a,r):\n",
    "    return hex(decimal(a,r))\n",
    "\n",
    "# example\n",
    "a = 10\n",
    "bin_a_10 = binary(a,10)\n",
    "dec_a_2 = decimal(bin_a_10,2)\n",
    "hex_a_2 = hexadecimal(bin_a_10,2)\n",
    "dec_a_16 = decimal(hex_a_2,16)\n",
    "bin_a_16 = binary(hex_a_2,16)\n",
    "hex_a_10 = hexadecimal(dec_a_16,10)\n",
    "\n",
    "print('Value in decimal',a)\n",
    "print('Binary conversion from decimal ',bin_a_10)\n",
    "print('Binary conversion from hexadecimal ',bin_a_16)\n",
    "print('Decimal conversion from binary ', dec_a_2)\n",
    "print('Decimal conversion from hexadecimal ', dec_a_16)\n",
    "print('Hexadeciml conversion from binary ', hex_a_2)\n",
    "print('Hexadeciml conversion from decimal ', hex_a_10)"
   ]
  },
  {
   "cell_type": "markdown",
   "metadata": {},
   "source": [
    "2\\. Write a function that converts a 32 bit word into a single precision floating point (i.e. interprets the various bits as sign, mantissa and exponent)"
   ]
  },
  {
   "cell_type": "code",
   "execution_count": 2,
   "metadata": {},
   "outputs": [
    {
     "name": "stdout",
     "output_type": "stream",
     "text": [
      "floating point of 0b1111100000000000000000000 = 1.316553672920962e-36\n",
      "floating point of 0b1100000010110000000000000000000 = -5.5\n"
     ]
    }
   ],
   "source": [
    "def floating_point(a):\n",
    "    s = a >> 30\n",
    "    e = (a >> 22) & 255\n",
    "    f = a & 4194303\n",
    "    one_f = 1 + f*2**(-22)\n",
    "    bias = 127\n",
    "    return (-1)**s*one_f*2**(e-bias)\n",
    "\n",
    "# example taken from lecture\n",
    "a = 0b0000001111100000000000000000000\n",
    "print(\"floating point of\",bin(a),\"=\",floating_point(a))\n",
    "b = 0b1100000010110000000000000000000\n",
    "print(\"floating point of\",bin(b),\"=\",floating_point(b))"
   ]
  },
  {
   "cell_type": "markdown",
   "metadata": {},
   "source": [
    "3\\. Write a program to determine the underflow and overflow limits (within a factor of 2) for python on your computer. \n",
    "\n",
    "**Tips**: define two variables inizialized to 1 and halve/double them enough time to exceed the under/over-flow limits  "
   ]
  },
  {
   "cell_type": "code",
   "execution_count": 14,
   "metadata": {},
   "outputs": [
    {
     "name": "stdout",
     "output_type": "stream",
     "text": [
      "min limit 5e-324\n",
      "max limit 8.98846567431158e+307\n",
      "under 0.0 \n",
      " over inf\n",
      "While in Python itegers have arbitrary precision: 179769313486231590772930519078902473361797697894230657273430081157732675805500963132708477322407536021120113879871393357658789768814416622492847430639474124377767893424865485276302219601246094119453082952085005768838150682342462881473913110540827237163350510684586298239947245938479716304835356329624224137216\n"
     ]
    }
   ],
   "source": [
    "import math\n",
    "under = 1\n",
    "over_int = 1\n",
    "over_float = 1.0\n",
    "N = 10**4\n",
    "for i in range(1,N):\n",
    "    under = under/2\n",
    "    if (under == 0.0):\n",
    "        break\n",
    "    else:\n",
    "        min_val = under\n",
    "\n",
    "for i in range(1,N):\n",
    "    over_int = over_int*2\n",
    "    over_float = over_float*2\n",
    "    if math.isinf(over_float):\n",
    "        break\n",
    "    else:\n",
    "        max_val = over_float       \n",
    "        \n",
    "print(\"min limit\",min_val)\n",
    "print(\"max limit\",max_val)\n",
    "print(\"under\",under,'\\n',\"over\",over_float)\n",
    "print(\"While in Python itegers have arbitrary precision:\",over_int)"
   ]
  },
  {
   "cell_type": "markdown",
   "metadata": {},
   "source": [
    "4\\. Write a program to determine the machine precision\n",
    "\n",
    "**Tips**: define a new variable by adding a smaller and smaller value (proceeding similarly to prob. 2) to an original variable and check the point where the two are the same "
   ]
  },
  {
   "cell_type": "code",
   "execution_count": 15,
   "metadata": {},
   "outputs": [
    {
     "name": "stdout",
     "output_type": "stream",
     "text": [
      "1.1\n",
      "1.01\n",
      "1.001\n",
      "1.0001\n",
      "1.00001\n",
      "1.000001\n",
      "1.0000001\n",
      "1.00000001\n",
      "1.000000001\n",
      "1.0000000001\n",
      "1.00000000001\n",
      "1.000000000001\n",
      "1.0000000000001\n",
      "1.00000000000001\n",
      "1.000000000000001\n",
      "1.0\n",
      "a + 10^-15 =  1.000000000000001\n",
      "a + 10^-16 =  1.0\n"
     ]
    }
   ],
   "source": [
    "a = 1\n",
    "b = 1\n",
    "for i in range(0,20):\n",
    "        b = b/10\n",
    "        c = a+b\n",
    "        print(c)\n",
    "        if c == 1.0:\n",
    "            break\n",
    "print(\"a + 10^-15 = \", a+10**(-15) )\n",
    "print(\"a + 10^-16 = \", a+10**(-16) )"
   ]
  },
  {
   "cell_type": "markdown",
   "metadata": {},
   "source": [
    "5\\. Write a function that takes in input three parameters $a$, $b$ and $c$ and prints out the two solutions to the quadratic equation $ax^2+bx+c=0$ using the standard formula:\n",
    "$$\n",
    "x=\\frac{-b\\pm\\sqrt{b^2-4ac}}{2a}\n",
    "$$\n",
    "\n",
    "(a) use the program to compute the solution for $a=0.001$, $b=1000$ and $c=0.001$\n",
    "\n",
    "(b) re-express the standard solution formula by multiplying top and bottom by $-b\\mp\\sqrt{b^2-4ac}$ and again find the solution for $a=0.001$, $b=1000$ and $c=0.001$. How does it compare with what previously obtained? Why?\n",
    "\n",
    "(c) write a function that compute the roots of a quadratic equation accurately in all cases"
   ]
  },
  {
   "cell_type": "code",
   "execution_count": 21,
   "metadata": {},
   "outputs": [
    {
     "name": "stdout",
     "output_type": "stream",
     "text": [
      "(-9.999894245993346e-07, -999999.999999)\n",
      "(-1.000000000001e-06, -1000010.5755125057)\n",
      "In case (a) the first root is more accure than case (b) but for the second root the result of case (b) is more accurate\n",
      "This is becausewe we are subtracting two nearly equal numbers\n",
      "Accurate solution: (-9.999894245993346e-07, -1000010.5755125057)\n"
     ]
    }
   ],
   "source": [
    "import math\n",
    "# a\n",
    "def eq_2_ord_a(a,b,c):\n",
    "    r = math.sqrt(b**2 - 4*a*c)\n",
    "    return ((-b + r)/(2*a), (-b -r)/(2*a))\n",
    "# b\n",
    "def eq_2_ord_b(a,b,c):\n",
    "    r = math.sqrt(b**2 - 4*a*c)\n",
    "    return (2*c/(-b - r), 2*c/(-b+r))\n",
    "# c, combining the previous two function\n",
    "def root_accurate (a,b,c):\n",
    "    r = math.sqrt(b**2 - 4*a*c)\n",
    "    if (b>0):\n",
    "        return ((-b + r)/(2*a),2*c/(-b+r))\n",
    "    return (2*c/(-b - r),(-b -r)/(2*a))\n",
    "\n",
    "a = 0.001\n",
    "b = 1000\n",
    "c = 0.001\n",
    "print(eq_2_ord_a(a,b,c))\n",
    "print(eq_2_ord_b(a,b,c))\n",
    "print(\"In case (a) the first root is more accure than case (b) but for the second root the result of case (b) is more accurate\")\n",
    "print(\"This is becausewe we are subtracting two nearly equal numbers\")\n",
    "print(\"Accurate solution:\",root_accurate (a,b,c))"
   ]
  },
  {
   "cell_type": "markdown",
   "metadata": {},
   "source": [
    "6\\. Write a program that implements the function $f(x)=x(x−1)$\n",
    "\n",
    "(a) Calculate the derivative of the function at the point $x = 1$ using the derivative definition:\n",
    "\n",
    "$$\n",
    "\\frac{{\\rm d}f}{{\\rm d}x} = \\lim_{\\delta\\to0} \\frac{f(x+\\delta)-f(x)}{\\delta}\n",
    "$$\n",
    "\n",
    "with $\\delta = 10^{−2}$. Calculate the true value of the same derivative analytically and compare with the answer your program gives. The two will not agree perfectly. Why not?\n",
    "\n",
    "(b) Repeat the calculation for $\\delta = 10^{−4}, 10^{−6}, 10^{−8}, 10^{−10}, 10^{−12}$ and $10^{−14}$. How does the accuracy scales with $\\delta$?"
   ]
  },
  {
   "cell_type": "code",
   "execution_count": 22,
   "metadata": {},
   "outputs": [
    {
     "name": "stdout",
     "output_type": "stream",
     "text": [
      "Result with simulation (d = 10^-2) 1.010000000000001 ; analitically 1 , % change 1.0000000000000897\n",
      "Result with simulation (d = 10^-4) 1.0000999999998899 ; analitically 1 , % change 0.009999999988985486\n",
      "Result with simulation (d = 10^-6) 1.0000009999177333 ; analitically 1 , % change 9.99917733279787e-05\n",
      "Result with simulation (d = 10^-8) 1.0000000039225287 ; analitically 1 , % change 3.9225287462585356e-07\n",
      "Result with simulation (d = 10^-10) 1.000000082840371 ; analitically 1 , % change 8.284037100736441e-06\n",
      "Result with simulation (d = 10^-12) 1.0000889005833413 ; analitically 1 , % change 0.008890058334132256\n",
      "Result with simulation (d = 10^-14) 0.9992007221626509 ; analitically 1 , % change 0.07999171934335475\n",
      "Till lambda = 10^-8 the accuracy improves but then decreasing again lambda there is a deterioration\n"
     ]
    }
   ],
   "source": [
    "def derivative_fun(func,x,d):\n",
    "    return (func(x+d)-func(x))/d\n",
    "        \n",
    "func1 = lambda x: x*(x-1)   \n",
    "v1 = derivative_fun(func1,1,10**(-2))\n",
    "print(\"Result with simulation (d = 10^-2)\",v1,\"; analitically\",1,\", % change\", 100.0*(v1-1))\n",
    "v2 = derivative_fun(func1,1,10**(-4))\n",
    "print(\"Result with simulation (d = 10^-4)\",v2,\"; analitically\",1,\", % change\", 100.0*(v2-1))\n",
    "v3 = derivative_fun(func1,1,10**(-6))\n",
    "print(\"Result with simulation (d = 10^-6)\",v3,\"; analitically\",1,\", % change\", 100.0*(v3-1))  \n",
    "v4 = derivative_fun(func1,1,10**(-8))\n",
    "print(\"Result with simulation (d = 10^-8)\",v4,\"; analitically\",1,\", % change\", 100.0*(v4-1))\n",
    "v5 = derivative_fun(func1,1,10**(-10))\n",
    "print(\"Result with simulation (d = 10^-10)\",v5,\"; analitically\",1,\", % change\", 100.0*(v5-1))\n",
    "v6 = derivative_fun(func1,1,10**(-12))\n",
    "print(\"Result with simulation (d = 10^-12)\",v6,\"; analitically\",1,\", % change\", 100.0*(v6-1))\n",
    "v7 = derivative_fun(func1,1,10**(-14))\n",
    "print(\"Result with simulation (d = 10^-14)\",v7,\"; analitically\",1,\", % change\", 100.0*(1-v7)/v7)\n",
    "print(\"Till lambda = 10^-8 the accuracy improves but then decreasing again lambda there is a deterioration\")"
   ]
  },
  {
   "cell_type": "markdown",
   "metadata": {},
   "source": [
    "7\\. Consider the integral of the semicircle of radius 1:\n",
    "$$\n",
    "I=\\int_{-1}^{1} \\sqrt(1-x^2) {\\rm d}x\n",
    "$$\n",
    "which it's known to be $I=\\frac{\\pi}{2}=1.57079632679...$.\n",
    "Alternatively we can use the Riemann definition of the integral:\n",
    "$$\n",
    "I=\\lim_{N\\to\\infty} \\sum_{k=1}^{N} h y_k \n",
    "$$\n",
    "\n",
    "with $h=2/N$ the width of each of the $N$ slices the domain is divided into and where\n",
    "$y_k$ is the value of the function at the $k-$th slice.\n",
    "\n",
    "(a) Write a programe to compute the integral with $N=100$. How does the result compares to the true value?\n",
    "\n",
    "(b) How much can $N$ be increased if the computation needs to be run in less than a second? What is the gain in running it for 1 minute? \n"
   ]
  },
  {
   "cell_type": "code",
   "execution_count": 30,
   "metadata": {},
   "outputs": [
    {
     "name": "stdout",
     "output_type": "stream",
     "text": [
      "True value integral = 1.57079632679\n",
      "Simulation result 1.565154305800823\n",
      "computation time 1.0022997856140137 , result 1.5707963233580307 ; % of change  2.1848595672920358e-07\n",
      "computation time 60.71391296386719 , result 1.5707963276449302 ; % of change  5.442654226468417e-08\n",
      "In the case of 1 minute, the gain doesn't worth the much more computational effort\n"
     ]
    }
   ],
   "source": [
    "import math\n",
    "import time\n",
    "def integral_semicircle(N):\n",
    "    func = lambda x: math.sqrt(1-x**2)\n",
    "    x1 = -1\n",
    "    h = 2/N\n",
    "    A = 0\n",
    "    for i in range(1,N):\n",
    "        A = A + h*func(x1)\n",
    "        x1 = x1+h\n",
    "    return A\n",
    "true_v = 1.57079632679\n",
    "print(\"True value integral =\",true_v)\n",
    "print(\"Simulation result\", integral_semicircle(100))\n",
    "\n",
    "t1 = time.time()\n",
    "result_1s = integral_semicircle(1400000)\n",
    "t2 = time.time()\n",
    "print(\"computation time\",t2-t1,\", result\", result_1s,\"; % of change \", 100.0*(true_v-result_1s)/result_1s)\n",
    "\n",
    "t1 = time.time()\n",
    "result_1m = integral_semicircle(80000000)\n",
    "t2 = time.time()\n",
    "print(\"computation time\",t2-t1,\", result\", result_1m,\"; % of change \", 100.0*(result_1m-true_v)/true_v)\n",
    "print(\"In the case of 1 minute, the gain doesn't worth the much more computational effort\")"
   ]
  }
 ],
 "metadata": {
  "kernelspec": {
   "display_name": "Python 3",
   "language": "python",
   "name": "python3"
  },
  "language_info": {
   "codemirror_mode": {
    "name": "ipython",
    "version": 3
   },
   "file_extension": ".py",
   "mimetype": "text/x-python",
   "name": "python",
   "nbconvert_exporter": "python",
   "pygments_lexer": "ipython3",
   "version": "3.8.3"
  }
 },
 "nbformat": 4,
 "nbformat_minor": 2
}
