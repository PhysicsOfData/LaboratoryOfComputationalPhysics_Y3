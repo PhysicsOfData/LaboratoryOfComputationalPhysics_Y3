{
 "cells": [
  {
   "cell_type": "markdown",
   "metadata": {},
   "source": [
    "### Numpy basics"
   ]
  },
  {
   "cell_type": "markdown",
   "metadata": {},
   "source": [
    "1\\. Find the row, column and overall means for the following matrix:\n",
    "\n",
    "```python\n",
    "m = np.arange(12).reshape((3,4))\n",
    "```"
   ]
  },
  {
   "cell_type": "code",
   "execution_count": 1,
   "metadata": {},
   "outputs": [],
   "source": [
    "import numpy as np\n",
    "import math\n",
    "import matplotlib.pyplot as plt"
   ]
  },
  {
   "cell_type": "code",
   "execution_count": 53,
   "metadata": {},
   "outputs": [
    {
     "name": "stdout",
     "output_type": "stream",
     "text": [
      "[[ 0  1  2  3]\n",
      " [ 4  5  6  7]\n",
      " [ 8  9 10 11]]\n",
      "row mean [1.5 5.5 9.5]\n",
      "column mean [4. 5. 6. 7.]\n",
      "overall mean 5.5\n"
     ]
    }
   ],
   "source": [
    "m = np.arange(12).reshape((3,4))\n",
    "print(m)\n",
    "\n",
    "row_mean = np.mean(m, axis=1)\n",
    "col_mean = np.mean(m, axis=0)\n",
    "overall_mean = np.mean(m)\n",
    "print(\"row mean\",row_mean)\n",
    "print(\"column mean\",col_mean)\n",
    "print(\"overall mean\",overall_mean)\n"
   ]
  },
  {
   "cell_type": "markdown",
   "metadata": {},
   "source": [
    "2\\. Find the outer product of the following two vecotrs\n",
    "\n",
    "```python\n",
    "u = np.array([1,3,5,7])\n",
    "v = np.array([2,4,6,8])\n",
    "```\n",
    "\n",
    "Do this in the following ways:\n",
    "\n",
    "   * Using the function outer in numpy\n",
    "   * Using a nested for loop or list comprehension\n",
    "   * Using numpy broadcasting operatoins\n"
   ]
  },
  {
   "cell_type": "code",
   "execution_count": 46,
   "metadata": {},
   "outputs": [
    {
     "name": "stdout",
     "output_type": "stream",
     "text": [
      "[[ 2  4  6  8]\n",
      " [ 6 12 18 24]\n",
      " [10 20 30 40]\n",
      " [14 28 42 56]]\n",
      "[[ 2  4  6  8]\n",
      " [ 6 12 18 24]\n",
      " [10 20 30 40]\n",
      " [14 28 42 56]]\n",
      "[[ 2  4  6  8]\n",
      " [ 6 12 18 24]\n",
      " [10 20 30 40]\n",
      " [14 28 42 56]]\n"
     ]
    }
   ],
   "source": [
    "u = np.array([1,3,5,7])\n",
    "v = np.array([2,4,6,8])\n",
    "\n",
    "# outer in numpy\n",
    "print(np.outer(u,v))\n",
    "\n",
    "#\n",
    "lc = np.array([i*j for i in u for j in v]).reshape(len(u),len(v))\n",
    "print(lc)\n",
    "\n",
    "# broadcasting\n",
    "#v1 = np.repeat(v,4).reshape(len(u),len(v)).T\n",
    "v1 = np.tile(v,(len(u),1)).T\n",
    "print((v1*u).T)"
   ]
  },
  {
   "cell_type": "markdown",
   "metadata": {},
   "source": [
    "3\\. Create a 10 by 6 matrix of random uniform numbers. Set all rows with any entry less than 0.1 to be zero\n",
    "\n",
    "Hint: Use the following numpy functions - np.random.random, np.any as well as Boolean indexing and the axis argument."
   ]
  },
  {
   "cell_type": "code",
   "execution_count": 76,
   "metadata": {},
   "outputs": [
    {
     "name": "stdout",
     "output_type": "stream",
     "text": [
      "original random matrix \n",
      " [[0.05468512 0.50033083 0.50040451 0.64813693 0.87282433 0.42550186]\n",
      " [0.27500956 0.94260919 0.71308275 0.97273729 0.59247709 0.79721675]\n",
      " [0.15014419 0.08593129 0.21665091 0.47975722 0.07198893 0.9545617 ]\n",
      " [0.61394416 0.23163686 0.39116047 0.52639909 0.8595331  0.08043601]\n",
      " [0.69868223 0.57247705 0.52682493 0.0556266  0.0925482  0.59740053]\n",
      " [0.7437232  0.8122484  0.77740671 0.32687892 0.448261   0.82197769]\n",
      " [0.82169746 0.48202124 0.68476826 0.23768055 0.8165784  0.07924721]\n",
      " [0.55311327 0.55796371 0.45500057 0.33670791 0.98248948 0.08412385]\n",
      " [0.48231174 0.18169314 0.00571076 0.51211157 0.70774174 0.16410641]\n",
      " [0.75762295 0.89016644 0.25726122 0.4974361  0.9153723  0.14493354]] \n",
      "\n",
      "filtered matrix \n",
      " [[0.         0.         0.         0.         0.         0.        ]\n",
      " [0.27500956 0.94260919 0.71308275 0.97273729 0.59247709 0.79721675]\n",
      " [0.         0.         0.         0.         0.         0.        ]\n",
      " [0.         0.         0.         0.         0.         0.        ]\n",
      " [0.         0.         0.         0.         0.         0.        ]\n",
      " [0.7437232  0.8122484  0.77740671 0.32687892 0.448261   0.82197769]\n",
      " [0.         0.         0.         0.         0.         0.        ]\n",
      " [0.         0.         0.         0.         0.         0.        ]\n",
      " [0.         0.         0.         0.         0.         0.        ]\n",
      " [0.75762295 0.89016644 0.25726122 0.4974361  0.9153723  0.14493354]]\n"
     ]
    }
   ],
   "source": [
    "ran = np.random.random((10,6))\n",
    "print(\"original random matrix\",'\\n',ran,'\\n')\n",
    "b = np.any(ran < 0.1,axis = 1)\n",
    "ran[b] = 0\n",
    "print(\"filtered matrix\",'\\n',ran)"
   ]
  },
  {
   "cell_type": "markdown",
   "metadata": {},
   "source": [
    "4\\. Use np.linspace to create an array of 100 numbers between 0 and 2π (includsive).\n",
    "\n",
    "  * Extract every 10th element using slice notation\n",
    "  * Reverse the array using slice notation\n",
    "  * Extract elements where the absolute difference between the sine and cosine functions evaluated at that element is less than 0.1\n",
    "  * Make a plot showing the sin and cos functions and indicate where they are close"
   ]
  },
  {
   "cell_type": "code",
   "execution_count": 89,
   "metadata": {},
   "outputs": [
    {
     "name": "stdout",
     "output_type": "stream",
     "text": [
      "original array \n",
      " [0.         0.06346652 0.12693304 0.19039955 0.25386607 0.31733259\n",
      " 0.38079911 0.44426563 0.50773215 0.57119866 0.63466518 0.6981317\n",
      " 0.76159822 0.82506474 0.88853126 0.95199777 1.01546429 1.07893081\n",
      " 1.14239733 1.20586385 1.26933037 1.33279688 1.3962634  1.45972992\n",
      " 1.52319644 1.58666296 1.65012947 1.71359599 1.77706251 1.84052903\n",
      " 1.90399555 1.96746207 2.03092858 2.0943951  2.15786162 2.22132814\n",
      " 2.28479466 2.34826118 2.41172769 2.47519421 2.53866073 2.60212725\n",
      " 2.66559377 2.72906028 2.7925268  2.85599332 2.91945984 2.98292636\n",
      " 3.04639288 3.10985939 3.17332591 3.23679243 3.30025895 3.36372547\n",
      " 3.42719199 3.4906585  3.55412502 3.61759154 3.68105806 3.74452458\n",
      " 3.8079911  3.87145761 3.93492413 3.99839065 4.06185717 4.12532369\n",
      " 4.1887902  4.25225672 4.31572324 4.37918976 4.44265628 4.5061228\n",
      " 4.56958931 4.63305583 4.69652235 4.75998887 4.82345539 4.88692191\n",
      " 4.95038842 5.01385494 5.07732146 5.14078798 5.2042545  5.26772102\n",
      " 5.33118753 5.39465405 5.45812057 5.52158709 5.58505361 5.64852012\n",
      " 5.71198664 5.77545316 5.83891968 5.9023862  5.96585272 6.02931923\n",
      " 6.09278575 6.15625227 6.21971879 6.28318531] \n",
      "\n",
      "extract every 10th element \n",
      " [0.         0.63466518 1.26933037 1.90399555 2.53866073 3.17332591\n",
      " 3.8079911  4.44265628 5.07732146 5.71198664] \n",
      "\n",
      "reverse array \n",
      " [6.28318531 6.21971879 6.15625227 6.09278575 6.02931923 5.96585272\n",
      " 5.9023862  5.83891968 5.77545316 5.71198664 5.64852012 5.58505361\n",
      " 5.52158709 5.45812057 5.39465405 5.33118753 5.26772102 5.2042545\n",
      " 5.14078798 5.07732146 5.01385494 4.95038842 4.88692191 4.82345539\n",
      " 4.75998887 4.69652235 4.63305583 4.56958931 4.5061228  4.44265628\n",
      " 4.37918976 4.31572324 4.25225672 4.1887902  4.12532369 4.06185717\n",
      " 3.99839065 3.93492413 3.87145761 3.8079911  3.74452458 3.68105806\n",
      " 3.61759154 3.55412502 3.4906585  3.42719199 3.36372547 3.30025895\n",
      " 3.23679243 3.17332591 3.10985939 3.04639288 2.98292636 2.91945984\n",
      " 2.85599332 2.7925268  2.72906028 2.66559377 2.60212725 2.53866073\n",
      " 2.47519421 2.41172769 2.34826118 2.28479466 2.22132814 2.15786162\n",
      " 2.0943951  2.03092858 1.96746207 1.90399555 1.84052903 1.77706251\n",
      " 1.71359599 1.65012947 1.58666296 1.52319644 1.45972992 1.3962634\n",
      " 1.33279688 1.26933037 1.20586385 1.14239733 1.07893081 1.01546429\n",
      " 0.95199777 0.88853126 0.82506474 0.76159822 0.6981317  0.63466518\n",
      " 0.57119866 0.50773215 0.44426563 0.38079911 0.31733259 0.25386607\n",
      " 0.19039955 0.12693304 0.06346652 0.        ] \n",
      "\n",
      "filtered array \n",
      " [0.76159822 0.82506474 3.87145761 3.93492413] \n",
      "\n"
     ]
    },
    {
     "data": {
      "image/png": "[encoded data removed]",
      "text/plain": [
       "<Figure size 432x288 with 1 Axes>"
      ]
     },
     "metadata": {
      "needs_background": "light"
     },
     "output_type": "display_data"
    }
   ],
   "source": [
    "a = np.linspace(0,math.pi*2,100)\n",
    "print(\"original array\",'\\n',a,'\\n')\n",
    "a10 = a[::10] \n",
    "print(\"extract every 10th element\",'\\n',a10,'\\n')\n",
    "ai = a[::-1]\n",
    "print(\"reverse array\",'\\n',ai,'\\n')\n",
    "mask = (abs(np.sin(a)-np.cos(a)) < 0.1)\n",
    "filt_a = a[mask]\n",
    "print(\"filtered array\",'\\n',filt_a,'\\n')\n",
    "\n",
    "ys = np.sin(a)\n",
    "yc = np.cos(a)\n",
    "plt.plot(a,ys,'g')\n",
    "plt.plot(a,yc,'b')\n",
    "#plt.axvline(x=filt_a[0])\n",
    "#plt.axvline(x=filt_a[1])\n",
    "#plt.axvline(x=filt_a[2])\n",
    "#plt.axvline(x=filt_a[3])\n",
    "plt.vlines(x = filt_a, ymin =-1, ymax =1,colors = 'red')\n",
    "plt.show()"
   ]
  },
  {
   "cell_type": "markdown",
   "metadata": {},
   "source": [
    "5\\. Create a matrix that shows the 10 by 10 multiplication table.\n",
    "\n",
    " * Find the trace of the matrix\n",
    " * Extract the anto-diagonal (this should be ```array([10, 18, 24, 28, 30, 30, 28, 24, 18, 10])```)\n",
    " * Extract the diagnoal offset by 1 upwards (this should be ```array([ 2,  6, 12, 20, 30, 42, 56, 72, 90])```)"
   ]
  },
  {
   "cell_type": "code",
   "execution_count": 106,
   "metadata": {},
   "outputs": [
    {
     "name": "stdout",
     "output_type": "stream",
     "text": [
      "10 by 10 multiplication table  \n",
      " [[  1   2   3   4   5   6   7   8   9  10]\n",
      " [  2   4   6   8  10  12  14  16  18  20]\n",
      " [  3   6   9  12  15  18  21  24  27  30]\n",
      " [  4   8  12  16  20  24  28  32  36  40]\n",
      " [  5  10  15  20  25  30  35  40  45  50]\n",
      " [  6  12  18  24  30  36  42  48  54  60]\n",
      " [  7  14  21  28  35  42  49  56  63  70]\n",
      " [  8  16  24  32  40  48  56  64  72  80]\n",
      " [  9  18  27  36  45  54  63  72  81  90]\n",
      " [ 10  20  30  40  50  60  70  80  90 100]] \n",
      "\n",
      "trace 385\n",
      "anti diagonal [10 18 24 28 30 30 28 24 18 10]\n",
      "diagonal offset by 1 upwards [ 2  6 12 20 30 42 56 72 90]\n"
     ]
    }
   ],
   "source": [
    "a = np.array([[i*j for i in range(1,11)] for j in range(1,11)])\n",
    "print(\"10 by 10 multiplication table \",'\\n',a,'\\n')\n",
    "print(\"trace\",np.trace(a))\n",
    "print(\"anti diagonal\",np.fliplr(a).diagonal())\n",
    "print(\"diagonal offset by 1 upwards\",np.diag(a,1))"
   ]
  },
  {
   "cell_type": "markdown",
   "metadata": {},
   "source": [
    "6\\. Use broadcasting to create a grid of distances\n",
    "\n",
    "Route 66 crosses the following cities in the US: Chicago, Springfield, Saint-Louis, Tulsa, Oklahoma City, Amarillo, Santa Fe, Albuquerque, Flagstaff, Los Angeles\n",
    "The corresponding positions in miles are: 0, 198, 303, 736, 871, 1175, 1475, 1544, 1913, 2448\n",
    "\n",
    "  * Construct a 2D grid of distances among each city along Route 66\n",
    "  * Convert that in km (those savages...)"
   ]
  },
  {
   "cell_type": "code",
   "execution_count": 116,
   "metadata": {},
   "outputs": [
    {
     "name": "stdout",
     "output_type": "stream",
     "text": [
      "2D grid distances miles \n",
      " [[   0  198  303  736  871 1175 1475 1544 1913 2448]\n",
      " [ 198    0  105  538  673  977 1277 1346 1715 2250]\n",
      " [ 303  105    0  433  568  872 1172 1241 1610 2145]\n",
      " [ 736  538  433    0  135  439  739  808 1177 1712]\n",
      " [ 871  673  568  135    0  304  604  673 1042 1577]\n",
      " [1175  977  872  439  304    0  300  369  738 1273]\n",
      " [1475 1277 1172  739  604  300    0   69  438  973]\n",
      " [1544 1346 1241  808  673  369   69    0  369  904]\n",
      " [1913 1715 1610 1177 1042  738  438  369    0  535]\n",
      " [2448 2250 2145 1712 1577 1273  973  904  535    0]] \n",
      "\n",
      "2D grid distances km \n",
      " [[   0.       318.64932  487.63002 1184.47424 1401.73514 1890.9745\n",
      "  2373.7765  2484.82096 3078.66742 3939.66432]\n",
      " [ 318.64932    0.       168.9807   865.82492 1083.08582 1572.32518\n",
      "  2055.12718 2166.17164 2760.0181  3621.015  ]\n",
      " [ 487.63002  168.9807     0.       696.84422  914.10512 1403.34448\n",
      "  1886.14648 1997.19094 2591.0374  3452.0343 ]\n",
      " [1184.47424  865.82492  696.84422    0.       217.2609   706.50026\n",
      "  1189.30226 1300.34672 1894.19318 2755.19008]\n",
      " [1401.73514 1083.08582  914.10512  217.2609     0.       489.23936\n",
      "   972.04136 1083.08582 1676.93228 2537.92918]\n",
      " [1890.9745  1572.32518 1403.34448  706.50026  489.23936    0.\n",
      "   482.802    593.84646 1187.69292 2048.68982]\n",
      " [2373.7765  2055.12718 1886.14648 1189.30226  972.04136  482.802\n",
      "     0.       111.04446  704.89092 1565.88782]\n",
      " [2484.82096 2166.17164 1997.19094 1300.34672 1083.08582  593.84646\n",
      "   111.04446    0.       593.84646 1454.84336]\n",
      " [3078.66742 2760.0181  2591.0374  1894.19318 1676.93228 1187.69292\n",
      "   704.89092  593.84646    0.       860.9969 ]\n",
      " [3939.66432 3621.015   3452.0343  2755.19008 2537.92918 2048.68982\n",
      "  1565.88782 1454.84336  860.9969     0.     ]] \n",
      "\n"
     ]
    }
   ],
   "source": [
    "a = np.array([0,198,303,736,871,1175,1475,1544,1913,2448])\n",
    "am = np.tile(a,(10,1)).T\n",
    "d = abs(am-a)\n",
    "print(\"2D grid distances miles\",'\\n',d,'\\n')\n",
    "dkm  = 1.60934*d\n",
    "print(\"2D grid distances km\",'\\n',dkm,'\\n')"
   ]
  },
  {
   "cell_type": "markdown",
   "metadata": {},
   "source": [
    "7\\. Prime numbers sieve: compute the prime numbers in the 0-N (N=99 to start with) range with a sieve (mask).\n",
    "  * Constract a shape (100,) boolean array, the mask\n",
    "  * Identify the multiples of each number starting from 2 and set accordingly the corresponding mask element\n",
    "  * Apply the mask to obtain an array of ordered prime numbers\n",
    "  * Check the performances (timeit); how does it scale with N?\n",
    "  * Implement the optimization suggested in the [sieve of Eratosthenes](https://en.wikipedia.org/wiki/Sieve_of_Eratosthenes)"
   ]
  },
  {
   "cell_type": "code",
   "execution_count": 133,
   "metadata": {
    "scrolled": true
   },
   "outputs": [
    {
     "name": "stdout",
     "output_type": "stream",
     "text": [
      "prime numbers [0,99] \n",
      " [ 2  3  5  7 11 13 17 19 23 29 31 37 41 43 47 53 59 61 67 71 73 79 83 89\n",
      " 97]\n",
      "47.2 ns ± 1.79 ns per loop (mean ± std. dev. of 7 runs, 10000000 loops each)\n",
      "prime numbers sieve of Eratosthenes \n",
      " [ 2  3  5  7 11 13 17 19 23 29 31 37 41 43 47 53 59 61 67 71 73 79 83 89\n",
      " 97]\n",
      "50.1 ns ± 3.54 ns per loop (mean ± std. dev. of 7 runs, 10000000 loops each)\n"
     ]
    }
   ],
   "source": [
    "def is_prime(n):\n",
    "    if n == 2:\n",
    "        return True\n",
    "    if n % 2 == 0 or n <= 1:\n",
    "        return False\n",
    "\n",
    "    sqr = int(math.sqrt(n)) + 1\n",
    "\n",
    "    for divisor in range(3, sqr, 2):\n",
    "        if n % divisor == 0:\n",
    "            return False\n",
    "    return True\n",
    "\n",
    "def SieveOfEratosthenes(n): \n",
    "    prime = [True for i in range(n + 1)] \n",
    "    p = 2\n",
    "    while (p * p <= n): \n",
    "        # If prime[p] is not changed, then it is a prime \n",
    "        if (prime[p] == True):  \n",
    "            # Update all multiples of p \n",
    "            for i in range(p * 2, n + 1, p): \n",
    "                prime[i] = False\n",
    "        p += 1\n",
    "    prime[0]= False\n",
    "    prime[1]= False\n",
    "    return prime\n",
    "\n",
    "a = np.arange(0,100)\n",
    "func = np.vectorize(is_prime)\n",
    "mask = (func(a))\n",
    "prime_num = a[mask]\n",
    "print(\"prime numbers [0,99]\",'\\n',prime_num)\n",
    "%timeit func\n",
    "mask2 = SieveOfEratosthenes(99)\n",
    "sieve_era = a[mask2]\n",
    "print(\"prime numbers sieve of Eratosthenes\",'\\n',sieve_era)\n",
    "%timeit sieve_era"
   ]
  },
  {
   "cell_type": "markdown",
   "metadata": {},
   "source": [
    "8\\. Diffusion using random walk\n",
    "\n",
    "Consider a simple random walk process: at each step in time, a walker jumps right or left (+1 or -1) with equal probability. The goal is to find the typical distance from the origin of a random walker after a given amount of time. \n",
    "To do that, let's simulate many walkers and create a 2D array with each walker as a raw and the actual time evolution as columns\n",
    "\n",
    "  * Take 1000 walkers and let them walk for 200 steps\n",
    "  * Use randint to create a 2D array of size walkers x steps with values -1 or 1\n",
    "  * Build the actual walking distances for each walker (i.e. another 2D array \"summing on each raw\")\n",
    "  * Take the square of that 2D array (elementwise)\n",
    "  * Compute the mean of the squared distances at each step (i.e. the mean along the columns)\n",
    "  * Plot the average distances (sqrt(distance\\*\\*2)) as a function of time (step)\n",
    "  \n",
    "Did you get what you expected?"
   ]
  },
  {
   "cell_type": "code",
   "execution_count": 192,
   "metadata": {},
   "outputs": [
    {
     "name": "stdout",
     "output_type": "stream",
     "text": [
      "[[ 1 -1  1 ...  1  1  1]\n",
      " [-1  1 -1 ...  1  1  1]\n",
      " [-1  1  1 ...  1 -1  1]\n",
      " ...\n",
      " [-1  1 -1 ...  1  1 -1]\n",
      " [ 1 -1 -1 ...  1 -1 -1]\n",
      " [ 1  1 -1 ...  1  1 -1]]\n"
     ]
    },
    {
     "data": {
      "image/png": "[encoded data removed]",
      "text/plain": [
       "<Figure size 432x288 with 1 Axes>"
      ]
     },
     "metadata": {
      "needs_background": "light"
     },
     "output_type": "display_data"
    },
    {
     "name": "stdout",
     "output_type": "stream",
     "text": [
      "As you could look from the figure the trend of the distance has a square root growing\n"
     ]
    }
   ],
   "source": [
    "a = np.random.randint(0,2,size=(1000,200))\n",
    "a[a == 0] =-1\n",
    "print(a)\n",
    "d = np.sum(a,axis =1)\n",
    "#print(\"walking distance\",'\\n',d)\n",
    "sa = np.square(d)\n",
    "#print(\"square of 2D array\",'\\n',sa)\n",
    "y = np.zeros((1,201))\n",
    "\n",
    "for i in range(1,201):\n",
    "    f = a[::,0:i:1]\n",
    "    dist = np.sum(f,axis=1)\n",
    "    y[0,i] = np.square(dist).mean()\n",
    "x = np.linspace(0,200,201)\n",
    "dsqrt = np.sqrt(y).reshape(201,)\n",
    "plt.plot(x,dsqrt,'b')\n",
    "plt.plot(x,np.sqrt(x),'r')\n",
    "plt.show()\n",
    "print(\"As you could look from the figure the trend of the distance has a square root growing\")"
   ]
  },
  {
   "cell_type": "markdown",
   "metadata": {},
   "source": [
    "9\\. Analyze a data file \n",
    "  * Download the population of hares, lynxes and carrots at the beginning of the last century.\n",
    "    ```python\n",
    "    ! wget https://www.dropbox.com/s/3vigxoqayo389uc/populations.txt\n",
    "    ```\n",
    "\n",
    "  * Check the content by looking within the file\n",
    "  * Load the data (use an appropriate numpy method) into a 2D array\n",
    "  * Create arrays out of the columns, the arrays being (in order): *year*, *hares*, *lynxes*, *carrots* \n",
    "  * Plot the 3 populations over the years\n",
    "  * Compute the main statistical properties of the dataset (mean, std, correlations, etc.)\n",
    "  * Which species has the highest population each year?\n",
    "\n",
    "Do you feel there is some evident correlation here? [Studies](https://www.enr.gov.nt.ca/en/services/lynx/lynx-snowshoe-hare-cycle) tend to believe so."
   ]
  },
  {
   "cell_type": "code",
   "execution_count": 65,
   "metadata": {},
   "outputs": [
    {
     "data": {
      "image/png": "[encoded data removed]",
      "text/plain": [
       "<Figure size 432x288 with 1 Axes>"
      ]
     },
     "metadata": {
      "needs_background": "light"
     },
     "output_type": "display_data"
    },
    {
     "name": "stdout",
     "output_type": "stream",
     "text": [
      "hares mean 34080.95238095238\n",
      "hares std 20897.906458089667\n"
     ]
    },
    {
     "data": {
      "image/png": "[encoded data removed]",
      "text/plain": [
       "<Figure size 432x288 with 1 Axes>"
      ]
     },
     "metadata": {
      "needs_background": "light"
     },
     "output_type": "display_data"
    },
    {
     "name": "stdout",
     "output_type": "stream",
     "text": [
      "lynxes mean 20166.666666666668\n",
      "lynxes std 16254.591536908763\n"
     ]
    },
    {
     "data": {
      "image/png": "[encoded data removed]",
      "text/plain": [
       "<Figure size 432x288 with 1 Axes>"
      ]
     },
     "metadata": {
      "needs_background": "light"
     },
     "output_type": "display_data"
    },
    {
     "name": "stdout",
     "output_type": "stream",
     "text": [
      "carrots mean 42400.0\n",
      "carrots std 3322.5062255844787\n",
      "correlation hares and lynxes \n",
      " [[4.58558619e+08 2.56418333e+07]\n",
      " [2.56418333e+07 2.77422333e+08]]\n",
      "correlation hares and carrots \n",
      " [[ 4.58558619e+08 -1.21050000e+06]\n",
      " [-1.21050000e+06  1.15910000e+07]]\n",
      "Lynxes and hare highlight a positive correlation while hares and carrots a negative one.\n",
      "List of the highest population each year:\n",
      "['carrots', 'carrots', 'hares', 'hares', 'lynxes', 'lynxes', 'carrots', 'carrots', 'carrots', 'carrots', 'carrots', 'carrots', 'hares', 'hares', 'hares', 'lynxes', 'carrots', 'carrots', 'carrots', 'carrots', 'carrots']\n",
      "After the carrots growth the popolution of the hares increases and then cosequently the popolution of the lynxes.\n",
      "This is a predator-prey model.\n"
     ]
    }
   ],
   "source": [
    "file = np.loadtxt(\"populations.txt\")\n",
    "year = file[::,0:1:]\n",
    "hares = file[::,1:2:]\n",
    "lynxes = file[::,2:3:]\n",
    "carrots = file[::,3:4:]\n",
    "plt.plot(year,hares)\n",
    "plt.title(\"hares\")\n",
    "plt.xlabel('year')\n",
    "plt.ylabel('population')\n",
    "plt.show()\n",
    "print(\"hares mean\",np.mean(hares))\n",
    "print(\"hares std\",np.std(hares))\n",
    "plt.plot(year,lynxes)\n",
    "plt.title(\"lynxes\")\n",
    "plt.xlabel('year')\n",
    "plt.ylabel('population')\n",
    "plt.show()\n",
    "print(\"lynxes mean\",np.mean(lynxes))\n",
    "print(\"lynxes std\",np.std(lynxes))\n",
    "plt.plot(year,carrots)\n",
    "plt.title(\"carrots\")\n",
    "plt.xlabel('year')\n",
    "plt.ylabel('population')\n",
    "plt.show()\n",
    "print(\"carrots mean\",np.mean(carrots))\n",
    "print(\"carrots std\",np.std(carrots))\n",
    "print(\"correlation hares and lynxes\",'\\n',np.cov(hares.T,lynxes.T))\n",
    "print(\"correlation hares and carrots\",'\\n',np.cov(hares.T,carrots.T))\n",
    "print(\"Lynxes and hare highlight a positive correlation while hares and carrots a negative one.\")\n",
    "p = np.concatenate((hares,lynxes,carrots),axis=1)\n",
    "max_arg = np.argmax(p,axis=1)\n",
    "h = max_arg.tolist()\n",
    "print(\"List of the highest population each year:\")\n",
    "h = [ 'hares' if i == 0 else i for i in h ]\n",
    "h = ['lynxes' if i== 1 else i for i in h]\n",
    "h = ['carrots' if i == 2 else i for i in h]\n",
    "print(h)\n",
    "print(\"After the carrots growth the popolution of the hares increases and then cosequently the popolution of the lynxes.\")\n",
    "print(\"This is a predator-prey model.\")"
   ]
  },
  {
   "cell_type": "code",
   "execution_count": null,
   "metadata": {},
   "outputs": [],
   "source": []
  }
 ],
 "metadata": {
  "kernelspec": {
   "display_name": "Python 3",
   "language": "python",
   "name": "python3"
  },
  "language_info": {
   "codemirror_mode": {
    "name": "ipython",
    "version": 3
   },
   "file_extension": ".py",
   "mimetype": "text/x-python",
   "name": "python",
   "nbconvert_exporter": "python",
   "pygments_lexer": "ipython3",
   "version": "3.8.3"
  }
 },
 "nbformat": 4,
 "nbformat_minor": 2
}
