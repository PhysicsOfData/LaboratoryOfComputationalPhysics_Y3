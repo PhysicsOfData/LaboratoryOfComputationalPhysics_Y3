{
 "cells": [
  {
   "cell_type": "code",
   "execution_count": 1,
   "metadata": {},
   "outputs": [
    {
     "name": "stdout",
     "output_type": "stream",
     "text": [
      "('Binary representation of', 3, ':', '0b11')\n",
      "('Hexadecimal representation of', 3, ':', '0x3')\n",
      "('the decemal representation of a', ':', 3)\n"
     ]
    }
   ],
   "source": [
    "def f(a):\n",
    "    a_bin = bin(a)\n",
    "    a_hex = hex(a)\n",
    "    a_dec = a\n",
    "    \n",
    "    print('Binary representation of',a,':', a_bin)\n",
    "    print('Hexadecimal representation of',a,':', a_hex)\n",
    "    print ('the decemal representation of a',':', a)\n",
    "    \n",
    "    \n",
    "s = 3\n",
    "f(s)\n",
    "    "
   ]
  },
  {
   "cell_type": "code",
   "execution_count": 2,
   "metadata": {},
   "outputs": [
    {
     "name": "stdout",
     "output_type": "stream",
     "text": [
      " sign bit = 1\n",
      "mantissa bits = ['1', '0', '0', '0', '0', '0', '0', '1']\n",
      "exponent bits = ['1', '0', '1', '1', '0', '0', '0', '0', '0', '0', '0', '0', '0', '0', '0', '0', '0', '0', '0', '0', '0', '0', '0', '0']\n"
     ]
    }
   ],
   "source": [
    "r = []\n",
    "g = []\n",
    "def f (a):\n",
    "    for i in range (0,len(a)):\n",
    "        if i == 0 :\n",
    "            print ' sign bit =' , a[0]\n",
    "        if 0 < i < 9 :\n",
    "             r.append(a[i])\n",
    "        else :\n",
    "             g.append(a[i])\n",
    "                    \n",
    "    print 'mantissa bits =' , r\n",
    "    print 'exponent bits =' , g\n",
    "    \n",
    "    \n",
    "s= '11000000101100000000000000000000'    \n",
    "f(s)    \n",
    "    "
   ]
  },
  {
   "cell_type": "code",
   "execution_count": 3,
   "metadata": {},
   "outputs": [
    {
     "name": "stdout",
     "output_type": "stream",
     "text": [
      "4.94065645841e-324\n"
     ]
    }
   ],
   "source": [
    "from __future__ import division\n",
    "i =0\n",
    "a =1\n",
    "while a != 0 :\n",
    "    a = a / 2\n",
    "    i += 1\n",
    "print pow(2,-i+1)   "
   ]
  },
  {
   "cell_type": "code",
   "execution_count": 4,
   "metadata": {},
   "outputs": [
    {
     "name": "stdout",
     "output_type": "stream",
     "text": [
      "max precision 2.22044604925e-16\n"
     ]
    }
   ],
   "source": [
    "x=1\n",
    "from __future__ import division\n",
    "def pres(a):\n",
    "    b=1\n",
    "    i=0\n",
    "    while a != a+b :\n",
    "        a = a + b\n",
    "        b = b/2\n",
    "        i += 1\n",
    "    print 'max precision', pow(2,-i+1)\n",
    "    \n",
    "pres(x)\n"
   ]
  },
  {
   "cell_type": "code",
   "execution_count": 5,
   "metadata": {},
   "outputs": [
    {
     "name": "stdout",
     "output_type": "stream",
     "text": [
      "the first root = -9.99989424599e-13\n",
      "the second root = -0.999999999999\n"
     ]
    }
   ],
   "source": [
    "x=0\n",
    "def f (a,b,c):\n",
    "    x = (-b+pow(b*b-4*a*c,0.5))/2*a\n",
    "    print 'the first root =',x\n",
    "    x = (-b-pow(b*b-4*a*c,0.5))/2*a\n",
    "    print 'the second root =',x\n",
    "f(0.001,1000,0.001)"
   ]
  },
  {
   "cell_type": "code",
   "execution_count": 6,
   "metadata": {},
   "outputs": [
    {
     "name": "stdout",
     "output_type": "stream",
     "text": [
      "the first root = -3.9999576984e-12\n",
      "the second root = -4.0\n"
     ]
    }
   ],
   "source": [
    "x=0\n",
    "def f (a,b,c):\n",
    "    x = ((-b-pow(b*b-4*a*c,0.5))*((-b+pow(b*b-4*a*c,0.5)))/(-b-pow(b*b-4*a*c,0.5))*2*a)\n",
    "    print 'the first root =',x\n",
    "    x = ((-b+pow(b*b-4*a*c,0.5))*(-b-pow(b*b-4*a*c,0.5))/(-b+pow(b*b-4*a*c,0.5))*2*a)\n",
    "    print 'the second root =',x\n",
    "f(0.001,1000,0.001)"
   ]
  },
  {
   "cell_type": "code",
   "execution_count": 7,
   "metadata": {},
   "outputs": [
    {
     "name": "stdout",
     "output_type": "stream",
     "text": [
      "2.0009765625\n"
     ]
    }
   ],
   "source": [
    "def ff(x):\n",
    "    return x*x\n",
    "delta = (2**-10)\n",
    "Z= (ff(1+delta)-ff(1))/delta\n",
    "print Z"
   ]
  },
  {
   "cell_type": "code",
   "execution_count": 8,
   "metadata": {},
   "outputs": [
    {
     "name": "stdout",
     "output_type": "stream",
     "text": [
      "2.00024414062\n"
     ]
    }
   ],
   "source": [
    "def ff(x):\n",
    "    return x*x\n",
    "delta = (2**-12)\n",
    "Z= (ff(1+delta)-ff(1))/delta\n",
    "print Z"
   ]
  },
  {
   "cell_type": "code",
   "execution_count": 9,
   "metadata": {},
   "outputs": [
    {
     "name": "stdout",
     "output_type": "stream",
     "text": [
      "2.00003051758\n"
     ]
    }
   ],
   "source": [
    "def ff(x):\n",
    "    return x*x\n",
    "delta = (2**-15)\n",
    "Z= (ff(1+delta)-ff(1))/delta\n",
    "print Z"
   ]
  },
  {
   "cell_type": "code",
   "execution_count": 10,
   "metadata": {},
   "outputs": [
    {
     "name": "stdout",
     "output_type": "stream",
     "text": [
      "2.00000095367\n"
     ]
    }
   ],
   "source": [
    "def ff(x):\n",
    "    return x*x\n",
    "delta = (2**-20)\n",
    "Z= (ff(1+delta)-ff(1))/delta\n",
    "print Z"
   ]
  },
  {
   "cell_type": "code",
   "execution_count": 11,
   "metadata": {},
   "outputs": [
    {
     "name": "stdout",
     "output_type": "stream",
     "text": [
      "1.5707963273\n"
     ]
    }
   ],
   "source": [
    "from __future__ import division\n",
    "def f (n):\n",
    "    h = 2/n\n",
    "    s=0\n",
    "    x= -1+ h/2\n",
    "    for i in range (0,n):\n",
    "       s += h*pow(1-x*x,0.5) \n",
    "       x += h  \n",
    "    print s    \n",
    "    \n",
    "f(1000000)    \n",
    "    "
   ]
  },
  {
   "cell_type": "code",
   "execution_count": null,
   "metadata": {},
   "outputs": [],
   "source": []
  }
 ],
 "metadata": {
  "kernelspec": {
   "display_name": "Python 2",
   "language": "python",
   "name": "python2"
  },
  "language_info": {
   "codemirror_mode": {
    "name": "ipython",
    "version": 2
   },
   "file_extension": ".py",
   "mimetype": "text/x-python",
   "name": "python",
   "nbconvert_exporter": "python",
   "pygments_lexer": "ipython2",
   "version": "2.7.15"
  }
 },
 "nbformat": 4,
 "nbformat_minor": 2
}
